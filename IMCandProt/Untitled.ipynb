{
 "cells": [
  {
   "cell_type": "code",
   "execution_count": 7,
   "id": "bb3f437d-d823-457f-8b0d-d6cb657f3d62",
   "metadata": {},
   "outputs": [],
   "source": [
    "setwd('/import/jif/data/results/report-N/report_1.2FC_pvalue/')"
   ]
  },
  {
   "cell_type": "code",
   "execution_count": 8,
   "id": "23a70b4b-bb81-49df-8b5f-fb2de5049440",
   "metadata": {},
   "outputs": [],
   "source": [
    "library(readxl)"
   ]
  },
  {
   "cell_type": "code",
   "execution_count": 9,
   "id": "aa5e98ac-9061-451d-948c-003c48f6d7ae",
   "metadata": {},
   "outputs": [],
   "source": [
    ".libPaths(c('/root/miniconda3/envs/metadoc/lib/R/library','/root/miniconda3/envs/Rdoc/lib/R/library'))"
   ]
  },
  {
   "cell_type": "code",
   "execution_count": 22,
   "id": "59ddd0d5-27b0-4d16-8798-e67f5b9863dc",
   "metadata": {},
   "outputs": [],
   "source": [
    "data <- read_excel(\"./7-Expression_pattern_clustering/Cluster4/Enrichment_information.xlsx\")"
   ]
  },
  {
   "cell_type": "code",
   "execution_count": 24,
   "id": "7e08d982-3876-4bcf-9596-8f0dd8c2195f",
   "metadata": {},
   "outputs": [
    {
     "data": {
      "text/plain": [
       "\n",
       "Biological Process Cellular Component Molecular Function \n",
       "               131                 89                 70 "
      ]
     },
     "metadata": {},
     "output_type": "display_data"
    }
   ],
   "source": [
    "table(data$ONTOLOGY)"
   ]
  },
  {
   "cell_type": "code",
   "execution_count": null,
   "id": "b6b34eb0-fc5d-42d0-93a4-a08fb97c0e00",
   "metadata": {},
   "outputs": [],
   "source": []
  }
 ],
 "metadata": {
  "kernelspec": {
   "display_name": "R",
   "language": "R",
   "name": "ir"
  },
  "language_info": {
   "codemirror_mode": "r",
   "file_extension": ".r",
   "mimetype": "text/x-r-source",
   "name": "R",
   "pygments_lexer": "r",
   "version": "4.2.1"
  }
 },
 "nbformat": 4,
 "nbformat_minor": 5
}
