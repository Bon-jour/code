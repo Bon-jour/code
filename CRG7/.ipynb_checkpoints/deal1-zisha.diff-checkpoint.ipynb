{
 "cells": [
  {
   "cell_type": "code",
   "execution_count": 1,
   "id": "c967e244-4182-4bfc-8efc-f815bd936430",
   "metadata": {},
   "outputs": [],
   "source": [
    "setwd('/import/DB/fel/BJTC-204')"
   ]
  },
  {
   "cell_type": "code",
   "execution_count": 5,
   "id": "47aff0b1-938c-4147-8eeb-f5ffe4bc861a",
   "metadata": {},
   "outputs": [],
   "source": [
    "data = read.csv('./TOD.rela.2.csv',row.names = 1)"
   ]
  },
  {
   "cell_type": "code",
   "execution_count": 15,
   "id": "7a68b1fb-bdaf-4b8f-bd82-f842eaec4a8c",
   "metadata": {},
   "outputs": [],
   "source": [
    "load('./exp4.rda')"
   ]
  },
  {
   "cell_type": "code",
   "execution_count": 25,
   "id": "bc500ee5-5a00-4ef9-8232-8ace6ff718ec",
   "metadata": {},
   "outputs": [],
   "source": [
    "gene89 = read.table('./gene89.txt',header =T )"
   ]
  },
  {
   "cell_type": "code",
   "execution_count": 6,
   "id": "868af908-217b-4573-802b-178c390a3934",
   "metadata": {},
   "outputs": [
    {
     "data": {
      "text/html": [
       "<style>\n",
       ".list-inline {list-style: none; margin:0; padding: 0}\n",
       ".list-inline>li {display: inline-block}\n",
       ".list-inline>li:not(:last-child)::after {content: \"\\00b7\"; padding: 0 .5ex}\n",
       "</style>\n",
       "<ol class=list-inline><li>84</li><li>11886</li></ol>\n"
      ],
      "text/latex": [
       "\\begin{enumerate*}\n",
       "\\item 84\n",
       "\\item 11886\n",
       "\\end{enumerate*}\n"
      ],
      "text/markdown": [
       "1. 84\n",
       "2. 11886\n",
       "\n",
       "\n"
      ],
      "text/plain": [
       "[1]    84 11886"
      ]
     },
     "metadata": {},
     "output_type": "display_data"
    }
   ],
   "source": [
    "dim(data)"
   ]
  },
  {
   "cell_type": "code",
   "execution_count": 10,
   "id": "657693a2-43bd-4160-a191-b1048f2c5b18",
   "metadata": {},
   "outputs": [
    {
     "name": "stderr",
     "output_type": "stream",
     "text": [
      "\n",
      "Attaching package: 'dplyr'\n",
      "\n",
      "\n",
      "The following objects are masked from 'package:stats':\n",
      "\n",
      "    filter, lag\n",
      "\n",
      "\n",
      "The following objects are masked from 'package:base':\n",
      "\n",
      "    intersect, setdiff, setequal, union\n",
      "\n",
      "\n"
     ]
    }
   ],
   "source": [
    "library(dplyr)"
   ]
  },
  {
   "cell_type": "code",
   "execution_count": 11,
   "id": "857555f1-893e-4400-acd5-c08a3410bd1e",
   "metadata": {},
   "outputs": [],
   "source": [
    "MDD = data %>%   filter(TYPE == 'MDD')"
   ]
  },
  {
   "cell_type": "code",
   "execution_count": 13,
   "id": "5a2af8db-71ed-4856-8dda-a7b10868b412",
   "metadata": {},
   "outputs": [
    {
     "data": {
      "text/plain": [
       "\n",
       " 0  1 \n",
       "14 19 "
      ]
     },
     "metadata": {},
     "output_type": "display_data"
    }
   ],
   "source": [
    "table(MDD$death)"
   ]
  },
  {
   "cell_type": "code",
   "execution_count": 17,
   "id": "2b423621-e3df-4e54-9a91-3453ab21a8d1",
   "metadata": {},
   "outputs": [],
   "source": [
    "death = MDD$death"
   ]
  },
  {
   "cell_type": "code",
   "execution_count": 19,
   "id": "942b9feb-46b7-49c6-b9e1-886563e8fe51",
   "metadata": {},
   "outputs": [
    {
     "data": {
      "text/html": [
       "<style>\n",
       ".list-inline {list-style: none; margin:0; padding: 0}\n",
       ".list-inline>li {display: inline-block}\n",
       ".list-inline>li:not(:last-child)::after {content: \"\\00b7\"; padding: 0 .5ex}\n",
       "</style>\n",
       "<ol class=list-inline><li>'GSM2432065'</li><li>'GSM2431907'</li><li>'GSM2431944'</li><li>'GSM2432077'</li><li>'GSM2431900'</li><li>'GSM2431925'</li><li>'GSM2431807'</li><li>'GSM2431788'</li><li>'GSM2431971'</li><li>'GSM2431792'</li><li>'GSM2432033'</li><li>'GSM2431933'</li><li>'GSM2432081'</li><li>'GSM2431802'</li><li>'GSM2432023'</li><li>'GSM2432027'</li><li>'GSM2431940'</li><li>'GSM2431959'</li><li>'GSM2431735'</li><li>'GSM2432085'</li><li>'GSM2431914'</li><li>'GSM2431969'</li><li>'GSM2432068'</li><li>'GSM2432036'</li><li>'GSM2432007'</li><li>'GSM2431970'</li><li>'GSM2432037'</li><li>'GSM2431770'</li><li>'GSM2431977'</li><li>'GSM2431867'</li><li>'GSM2431941'</li><li>'GSM2432086'</li><li>'GSM2432052'</li></ol>\n"
      ],
      "text/latex": [
       "\\begin{enumerate*}\n",
       "\\item 'GSM2432065'\n",
       "\\item 'GSM2431907'\n",
       "\\item 'GSM2431944'\n",
       "\\item 'GSM2432077'\n",
       "\\item 'GSM2431900'\n",
       "\\item 'GSM2431925'\n",
       "\\item 'GSM2431807'\n",
       "\\item 'GSM2431788'\n",
       "\\item 'GSM2431971'\n",
       "\\item 'GSM2431792'\n",
       "\\item 'GSM2432033'\n",
       "\\item 'GSM2431933'\n",
       "\\item 'GSM2432081'\n",
       "\\item 'GSM2431802'\n",
       "\\item 'GSM2432023'\n",
       "\\item 'GSM2432027'\n",
       "\\item 'GSM2431940'\n",
       "\\item 'GSM2431959'\n",
       "\\item 'GSM2431735'\n",
       "\\item 'GSM2432085'\n",
       "\\item 'GSM2431914'\n",
       "\\item 'GSM2431969'\n",
       "\\item 'GSM2432068'\n",
       "\\item 'GSM2432036'\n",
       "\\item 'GSM2432007'\n",
       "\\item 'GSM2431970'\n",
       "\\item 'GSM2432037'\n",
       "\\item 'GSM2431770'\n",
       "\\item 'GSM2431977'\n",
       "\\item 'GSM2431867'\n",
       "\\item 'GSM2431941'\n",
       "\\item 'GSM2432086'\n",
       "\\item 'GSM2432052'\n",
       "\\end{enumerate*}\n"
      ],
      "text/markdown": [
       "1. 'GSM2432065'\n",
       "2. 'GSM2431907'\n",
       "3. 'GSM2431944'\n",
       "4. 'GSM2432077'\n",
       "5. 'GSM2431900'\n",
       "6. 'GSM2431925'\n",
       "7. 'GSM2431807'\n",
       "8. 'GSM2431788'\n",
       "9. 'GSM2431971'\n",
       "10. 'GSM2431792'\n",
       "11. 'GSM2432033'\n",
       "12. 'GSM2431933'\n",
       "13. 'GSM2432081'\n",
       "14. 'GSM2431802'\n",
       "15. 'GSM2432023'\n",
       "16. 'GSM2432027'\n",
       "17. 'GSM2431940'\n",
       "18. 'GSM2431959'\n",
       "19. 'GSM2431735'\n",
       "20. 'GSM2432085'\n",
       "21. 'GSM2431914'\n",
       "22. 'GSM2431969'\n",
       "23. 'GSM2432068'\n",
       "24. 'GSM2432036'\n",
       "25. 'GSM2432007'\n",
       "26. 'GSM2431970'\n",
       "27. 'GSM2432037'\n",
       "28. 'GSM2431770'\n",
       "29. 'GSM2431977'\n",
       "30. 'GSM2431867'\n",
       "31. 'GSM2431941'\n",
       "32. 'GSM2432086'\n",
       "33. 'GSM2432052'\n",
       "\n",
       "\n"
      ],
      "text/plain": [
       " [1] \"GSM2432065\" \"GSM2431907\" \"GSM2431944\" \"GSM2432077\" \"GSM2431900\"\n",
       " [6] \"GSM2431925\" \"GSM2431807\" \"GSM2431788\" \"GSM2431971\" \"GSM2431792\"\n",
       "[11] \"GSM2432033\" \"GSM2431933\" \"GSM2432081\" \"GSM2431802\" \"GSM2432023\"\n",
       "[16] \"GSM2432027\" \"GSM2431940\" \"GSM2431959\" \"GSM2431735\" \"GSM2432085\"\n",
       "[21] \"GSM2431914\" \"GSM2431969\" \"GSM2432068\" \"GSM2432036\" \"GSM2432007\"\n",
       "[26] \"GSM2431970\" \"GSM2432037\" \"GSM2431770\" \"GSM2431977\" \"GSM2431867\"\n",
       "[31] \"GSM2431941\" \"GSM2432086\" \"GSM2432052\""
      ]
     },
     "metadata": {},
     "output_type": "display_data"
    }
   ],
   "source": [
    "MDD$GSM"
   ]
  },
  {
   "cell_type": "code",
   "execution_count": 28,
   "id": "39635b90-dcc1-4147-ac3b-d36d5110892b",
   "metadata": {},
   "outputs": [],
   "source": [
    "expr = exp4[MDD$GSM,intersect(gene89$GeneNames,colnames(exp4))]"
   ]
  },
  {
   "cell_type": "code",
   "execution_count": 29,
   "id": "1bf5d599-0932-45e7-9fbd-2f25c6ffe32a",
   "metadata": {},
   "outputs": [],
   "source": [
    "colnames(expr) = gsub('-','.',colnames(expr))\n",
    "expr <- expr[, !grepl(\"^\\\\d+\", names(expr))]"
   ]
  },
  {
   "cell_type": "code",
   "execution_count": 30,
   "id": "0277b25b-0ff8-43c9-a2e7-7ecfb8c72ab3",
   "metadata": {},
   "outputs": [],
   "source": [
    "save(expr,death ,file = 'zisha.rda')"
   ]
  },
  {
   "cell_type": "code",
   "execution_count": null,
   "id": "bdf5bbeb-cdaa-4b67-bb5f-33fc60c82022",
   "metadata": {},
   "outputs": [],
   "source": []
  }
 ],
 "metadata": {
  "kernelspec": {
   "display_name": "R",
   "language": "R",
   "name": "ir"
  },
  "language_info": {
   "codemirror_mode": "r",
   "file_extension": ".r",
   "mimetype": "text/x-r-source",
   "name": "R",
   "pygments_lexer": "r",
   "version": "4.2.1"
  }
 },
 "nbformat": 4,
 "nbformat_minor": 5
}
