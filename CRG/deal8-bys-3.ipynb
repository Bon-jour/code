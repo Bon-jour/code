{
 "cells": [
  {
   "cell_type": "code",
   "execution_count": 1,
   "id": "08167f8d-3173-4649-9af3-37dbf975dd2b",
   "metadata": {},
   "outputs": [],
   "source": [
    "setwd('/import/DB/fel/BJTC-204')"
   ]
  },
  {
   "cell_type": "code",
   "execution_count": 2,
   "id": "445b3958-ed20-49f7-a2a0-719e8d18e755",
   "metadata": {},
   "outputs": [],
   "source": [
    "exp<- read.table(\"./00_rawdata/exp.txt\",sep = '\\t',header = T,row.names = 1) "
   ]
  },
  {
   "cell_type": "code",
   "execution_count": 3,
   "id": "d8dc1870-fcd7-47ff-b01f-965685f57dca",
   "metadata": {},
   "outputs": [
    {
     "name": "stderr",
     "output_type": "stream",
     "text": [
      "Warning message:\n",
      "\"package 'dplyr' was built under R version 4.2.3\"\n",
      "\n",
      "Attaching package: 'dplyr'\n",
      "\n",
      "\n",
      "The following objects are masked from 'package:stats':\n",
      "\n",
      "    filter, lag\n",
      "\n",
      "\n",
      "The following objects are masked from 'package:base':\n",
      "\n",
      "    intersect, setdiff, setequal, union\n",
      "\n",
      "\n"
     ]
    }
   ],
   "source": [
    "library(dplyr)"
   ]
  },
  {
   "cell_type": "code",
   "execution_count": 4,
   "id": "57e81008-8ee6-49ea-a82d-e2efc30c3f21",
   "metadata": {},
   "outputs": [],
   "source": [
    "expr3= exp %>% tibble::rownames_to_column(.,'SYMBOL')"
   ]
  },
  {
   "cell_type": "code",
   "execution_count": 5,
   "id": "7d61f848-7e5d-46b2-86f8-2e84608767ec",
   "metadata": {},
   "outputs": [
    {
     "data": {
      "text/html": [
       "<table class=\"dataframe\">\n",
       "<caption>A data.frame: 2 x 162</caption>\n",
       "<thead>\n",
       "\t<tr><th></th><th scope=col>SYMBOL</th><th scope=col>GSM1124358</th><th scope=col>GSM1124359</th><th scope=col>GSM1124360</th><th scope=col>GSM1124361</th><th scope=col>GSM1124362</th><th scope=col>GSM1124363</th><th scope=col>GSM1124364</th><th scope=col>GSM1124365</th><th scope=col>GSM1124366</th><th scope=col>...</th><th scope=col>GSM1124509</th><th scope=col>GSM1124510</th><th scope=col>GSM1124511</th><th scope=col>GSM1124512</th><th scope=col>GSM1124513</th><th scope=col>GSM1124514</th><th scope=col>GSM1124515</th><th scope=col>GSM1124516</th><th scope=col>GSM1124517</th><th scope=col>GSM1124518</th></tr>\n",
       "\t<tr><th></th><th scope=col>&lt;chr&gt;</th><th scope=col>&lt;dbl&gt;</th><th scope=col>&lt;dbl&gt;</th><th scope=col>&lt;dbl&gt;</th><th scope=col>&lt;dbl&gt;</th><th scope=col>&lt;dbl&gt;</th><th scope=col>&lt;dbl&gt;</th><th scope=col>&lt;dbl&gt;</th><th scope=col>&lt;dbl&gt;</th><th scope=col>&lt;dbl&gt;</th><th scope=col>...</th><th scope=col>&lt;dbl&gt;</th><th scope=col>&lt;dbl&gt;</th><th scope=col>&lt;dbl&gt;</th><th scope=col>&lt;dbl&gt;</th><th scope=col>&lt;dbl&gt;</th><th scope=col>&lt;dbl&gt;</th><th scope=col>&lt;dbl&gt;</th><th scope=col>&lt;dbl&gt;</th><th scope=col>&lt;dbl&gt;</th><th scope=col>&lt;dbl&gt;</th></tr>\n",
       "</thead>\n",
       "<tbody>\n",
       "\t<tr><th scope=row>1</th><td>ZYX </td><td>8.951058</td><td>8.910902</td><td>8.922710</td><td>8.757089</td><td>8.917910</td><td>8.542830</td><td>8.563200</td><td>9.117089</td><td>8.842577</td><td>...</td><td>8.082359</td><td>8.091963</td><td>8.181687</td><td>8.052719</td><td>8.214469</td><td>8.159618</td><td>8.284029</td><td>7.945729</td><td>8.266994</td><td>7.998448</td></tr>\n",
       "\t<tr><th scope=row>2</th><td>ZG16</td><td>5.222460</td><td>5.306433</td><td>4.944275</td><td>5.373616</td><td>5.137519</td><td>5.406326</td><td>5.436243</td><td>5.040160</td><td>5.249018</td><td>...</td><td>5.327078</td><td>5.240401</td><td>5.242680</td><td>5.249532</td><td>5.195299</td><td>5.286695</td><td>5.106508</td><td>5.759360</td><td>5.159166</td><td>4.990552</td></tr>\n",
       "</tbody>\n",
       "</table>\n"
      ],
      "text/latex": [
       "A data.frame: 2 x 162\n",
       "\\begin{tabular}{r|lllllllllllllllllllll}\n",
       "  & SYMBOL & GSM1124358 & GSM1124359 & GSM1124360 & GSM1124361 & GSM1124362 & GSM1124363 & GSM1124364 & GSM1124365 & GSM1124366 & ... & GSM1124509 & GSM1124510 & GSM1124511 & GSM1124512 & GSM1124513 & GSM1124514 & GSM1124515 & GSM1124516 & GSM1124517 & GSM1124518\\\\\n",
       "  & <chr> & <dbl> & <dbl> & <dbl> & <dbl> & <dbl> & <dbl> & <dbl> & <dbl> & <dbl> & ... & <dbl> & <dbl> & <dbl> & <dbl> & <dbl> & <dbl> & <dbl> & <dbl> & <dbl> & <dbl>\\\\\n",
       "\\hline\n",
       "\t1 & ZYX  & 8.951058 & 8.910902 & 8.922710 & 8.757089 & 8.917910 & 8.542830 & 8.563200 & 9.117089 & 8.842577 & ... & 8.082359 & 8.091963 & 8.181687 & 8.052719 & 8.214469 & 8.159618 & 8.284029 & 7.945729 & 8.266994 & 7.998448\\\\\n",
       "\t2 & ZG16 & 5.222460 & 5.306433 & 4.944275 & 5.373616 & 5.137519 & 5.406326 & 5.436243 & 5.040160 & 5.249018 & ... & 5.327078 & 5.240401 & 5.242680 & 5.249532 & 5.195299 & 5.286695 & 5.106508 & 5.759360 & 5.159166 & 4.990552\\\\\n",
       "\\end{tabular}\n"
      ],
      "text/markdown": [
       "\n",
       "A data.frame: 2 x 162\n",
       "\n",
       "| <!--/--> | SYMBOL &lt;chr&gt; | GSM1124358 &lt;dbl&gt; | GSM1124359 &lt;dbl&gt; | GSM1124360 &lt;dbl&gt; | GSM1124361 &lt;dbl&gt; | GSM1124362 &lt;dbl&gt; | GSM1124363 &lt;dbl&gt; | GSM1124364 &lt;dbl&gt; | GSM1124365 &lt;dbl&gt; | GSM1124366 &lt;dbl&gt; | ... ... | GSM1124509 &lt;dbl&gt; | GSM1124510 &lt;dbl&gt; | GSM1124511 &lt;dbl&gt; | GSM1124512 &lt;dbl&gt; | GSM1124513 &lt;dbl&gt; | GSM1124514 &lt;dbl&gt; | GSM1124515 &lt;dbl&gt; | GSM1124516 &lt;dbl&gt; | GSM1124517 &lt;dbl&gt; | GSM1124518 &lt;dbl&gt; |\n",
       "|---|---|---|---|---|---|---|---|---|---|---|---|---|---|---|---|---|---|---|---|---|---|\n",
       "| 1 | ZYX  | 8.951058 | 8.910902 | 8.922710 | 8.757089 | 8.917910 | 8.542830 | 8.563200 | 9.117089 | 8.842577 | ... | 8.082359 | 8.091963 | 8.181687 | 8.052719 | 8.214469 | 8.159618 | 8.284029 | 7.945729 | 8.266994 | 7.998448 |\n",
       "| 2 | ZG16 | 5.222460 | 5.306433 | 4.944275 | 5.373616 | 5.137519 | 5.406326 | 5.436243 | 5.040160 | 5.249018 | ... | 5.327078 | 5.240401 | 5.242680 | 5.249532 | 5.195299 | 5.286695 | 5.106508 | 5.759360 | 5.159166 | 4.990552 |\n",
       "\n"
      ],
      "text/plain": [
       "  SYMBOL GSM1124358 GSM1124359 GSM1124360 GSM1124361 GSM1124362 GSM1124363\n",
       "1 ZYX    8.951058   8.910902   8.922710   8.757089   8.917910   8.542830  \n",
       "2 ZG16   5.222460   5.306433   4.944275   5.373616   5.137519   5.406326  \n",
       "  GSM1124364 GSM1124365 GSM1124366 ... GSM1124509 GSM1124510 GSM1124511\n",
       "1 8.563200   9.117089   8.842577   ... 8.082359   8.091963   8.181687  \n",
       "2 5.436243   5.040160   5.249018   ... 5.327078   5.240401   5.242680  \n",
       "  GSM1124512 GSM1124513 GSM1124514 GSM1124515 GSM1124516 GSM1124517 GSM1124518\n",
       "1 8.052719   8.214469   8.159618   8.284029   7.945729   8.266994   7.998448  \n",
       "2 5.249532   5.195299   5.286695   5.106508   5.759360   5.159166   4.990552  "
      ]
     },
     "metadata": {},
     "output_type": "display_data"
    }
   ],
   "source": [
    "head(expr3,2)"
   ]
  },
  {
   "cell_type": "code",
   "execution_count": 6,
   "id": "0d0afcf7-6283-4a24-9f58-12407e2cd733",
   "metadata": {},
   "outputs": [
    {
     "name": "stderr",
     "output_type": "stream",
     "text": [
      "Loading required package: snowfall\n",
      "\n",
      "Loading required package: snow\n",
      "\n",
      "Warning message:\n",
      "\"package 'snow' was built under R version 4.2.3\"\n",
      "Loading required package: NMF\n",
      "\n",
      "Loading required package: registry\n",
      "\n",
      "Warning message:\n",
      "\"package 'registry' was built under R version 4.2.3\"\n",
      "Loading required package: rngtools\n",
      "\n",
      "Warning message:\n",
      "\"package 'rngtools' was built under R version 4.2.3\"\n",
      "Loading required package: cluster\n",
      "\n",
      "Warning message:\n",
      "\"package 'cluster' was built under R version 4.2.3\"\n",
      "NMF - BioConductor layer [OK] | Shared memory capabilities [NO: bigmemory] | Cores 2/2\n",
      "\n",
      "  To enable shared memory capabilities, try: install.extras('\n",
      "NMF\n",
      "')\n",
      "\n",
      "Warning message:\n",
      "\"replacing previous import 'gplots::lowess' by 'stats::lowess' when loading 'BayesPrism'\"\n",
      "Warning message:\n",
      "\"replacing previous import 'BiocParallel::register' by 'NMF::register' when loading 'BayesPrism'\"\n"
     ]
    }
   ],
   "source": [
    "library(BayesPrism)"
   ]
  },
  {
   "cell_type": "code",
   "execution_count": 7,
   "id": "ac82d5f6-ec31-4bbb-ad21-1b19938dcfed",
   "metadata": {},
   "outputs": [],
   "source": [
    "sce = readRDS('/import/DB/fel/final.rds')"
   ]
  },
  {
   "cell_type": "code",
   "execution_count": 8,
   "id": "57617b94-5e92-4b38-a170-4325043b3a39",
   "metadata": {},
   "outputs": [
    {
     "name": "stderr",
     "output_type": "stream",
     "text": [
      "Warning message:\n",
      "\"package 'Seurat' was built under R version 4.2.3\"\n",
      "The legacy packages maptools, rgdal, and rgeos, underpinning the sp package,\n",
      "which was just loaded, will retire in October 2023.\n",
      "Please refer to R-spatial evolution reports for details, especially\n",
      "https://r-spatial.org/r/2023/05/15/evolution4.html.\n",
      "It may be desirable to make the sf package available;\n",
      "package maintainers should consider adding sf to Suggests:.\n",
      "The sp package is now running under evolution status 2\n",
      "     (status 2 uses the sf package in place of rgdal)\n",
      "\n",
      "Attaching SeuratObject\n",
      "\n"
     ]
    }
   ],
   "source": [
    "library(Seurat)"
   ]
  },
  {
   "cell_type": "code",
   "execution_count": 9,
   "id": "97503cf6-9c9f-4133-8737-f6a56ea4aa43",
   "metadata": {},
   "outputs": [
    {
     "name": "stderr",
     "output_type": "stream",
     "text": [
      "Warning message in asMethod(object):\n",
      "\"sparse->dense coercion: allocating vector of size 33.3 GiB\"\n"
     ]
    }
   ],
   "source": [
    "Idents(sce) <- \"celltype\"\n",
    "# Downsample the number of cells per identity class\n",
    "sm1 <- subset(x = sce, downsample = 50000)\n",
    "count = as.matrix(sm1@assays$RNA@counts)\n",
    "sc.dat = t(count)"
   ]
  },
  {
   "cell_type": "code",
   "execution_count": 10,
   "id": "6b403721-5fcc-4a3c-bf93-75f2859c88f9",
   "metadata": {},
   "outputs": [],
   "source": [
    "cell.type.labels <- sm1@meta.data[[\"celltype\"]]\n",
    "#cell.state.labels <- sm1@meta.data[[\"subcluster\"]]"
   ]
  },
  {
   "cell_type": "code",
   "execution_count": 11,
   "id": "8048397e-80d3-4e41-a987-c61d45897774",
   "metadata": {},
   "outputs": [
    {
     "data": {
      "text/html": [
       "<strong>png:</strong> 2"
      ],
      "text/latex": [
       "\\textbf{png:} 2"
      ],
      "text/markdown": [
       "**png:** 2"
      ],
      "text/plain": [
       "png \n",
       "  2 "
      ]
     },
     "metadata": {},
     "output_type": "display_data"
    }
   ],
   "source": [
    "plot.cor.phi (input=sc.dat, \n",
    "                         input.labels=cell.type.labels, \n",
    "                         title=\"cell type correlation\",\n",
    "                         #specify pdf.prefix if need to output to pdf\n",
    "                         pdf.prefix=\"gbm.cor.ct\",\n",
    "                         cexRow=0.5, cexCol=0.5,\n",
    "                         )"
   ]
  },
  {
   "cell_type": "code",
   "execution_count": 12,
   "id": "56f15f03-8690-4df7-9c87-58aacf2e6e80",
   "metadata": {},
   "outputs": [
    {
     "name": "stdout",
     "output_type": "stream",
     "text": [
      "Gene symbols detected. Recommend to use EMSEMBLE IDs for more unique mapping.\n"
     ]
    },
    {
     "data": {
      "text/html": [
       "<table class=\"dataframe\">\n",
       "<caption>A data.frame: 6 x 11</caption>\n",
       "<thead>\n",
       "\t<tr><th></th><th scope=col>exp.mean.log</th><th scope=col>max.spec</th><th scope=col>other_Rb</th><th scope=col>chrM</th><th scope=col>chrX</th><th scope=col>chrY</th><th scope=col>Rb</th><th scope=col>Mrp</th><th scope=col>act</th><th scope=col>hb</th><th scope=col>MALAT1</th></tr>\n",
       "\t<tr><th></th><th scope=col>&lt;dbl&gt;</th><th scope=col>&lt;dbl&gt;</th><th scope=col>&lt;lgl&gt;</th><th scope=col>&lt;lgl&gt;</th><th scope=col>&lt;lgl&gt;</th><th scope=col>&lt;lgl&gt;</th><th scope=col>&lt;lgl&gt;</th><th scope=col>&lt;lgl&gt;</th><th scope=col>&lt;lgl&gt;</th><th scope=col>&lt;lgl&gt;</th><th scope=col>&lt;lgl&gt;</th></tr>\n",
       "</thead>\n",
       "<tbody>\n",
       "\t<tr><th scope=row>MIR1302-2HG</th><td>-16.80681</td><td>0.4477132</td><td>FALSE</td><td>FALSE</td><td>FALSE</td><td>FALSE</td><td>FALSE</td><td>FALSE</td><td>FALSE</td><td>FALSE</td><td>FALSE</td></tr>\n",
       "\t<tr><th scope=row>AL627309.1</th><td>-13.54197</td><td>0.2866889</td><td>FALSE</td><td>FALSE</td><td>FALSE</td><td>FALSE</td><td>FALSE</td><td>FALSE</td><td>FALSE</td><td>FALSE</td><td>FALSE</td></tr>\n",
       "\t<tr><th scope=row>AL627309.3</th><td>-16.51597</td><td>0.2993163</td><td>FALSE</td><td>FALSE</td><td>FALSE</td><td>FALSE</td><td>FALSE</td><td>FALSE</td><td>FALSE</td><td>FALSE</td><td>FALSE</td></tr>\n",
       "\t<tr><th scope=row>AL627309.5</th><td>-11.96757</td><td>0.2504768</td><td>FALSE</td><td>FALSE</td><td>FALSE</td><td>FALSE</td><td>FALSE</td><td>FALSE</td><td>FALSE</td><td>FALSE</td><td>FALSE</td></tr>\n",
       "\t<tr><th scope=row>AL627309.4</th><td>-17.54615</td><td>0.5062276</td><td>FALSE</td><td>FALSE</td><td>FALSE</td><td>FALSE</td><td>FALSE</td><td>FALSE</td><td>FALSE</td><td>FALSE</td><td>FALSE</td></tr>\n",
       "\t<tr><th scope=row>AP006222.2</th><td>-16.49445</td><td>0.3203912</td><td>FALSE</td><td>FALSE</td><td>FALSE</td><td>FALSE</td><td>FALSE</td><td>FALSE</td><td>FALSE</td><td>FALSE</td><td>FALSE</td></tr>\n",
       "</tbody>\n",
       "</table>\n"
      ],
      "text/latex": [
       "A data.frame: 6 x 11\n",
       "\\begin{tabular}{r|lllllllllll}\n",
       "  & exp.mean.log & max.spec & other\\_Rb & chrM & chrX & chrY & Rb & Mrp & act & hb & MALAT1\\\\\n",
       "  & <dbl> & <dbl> & <lgl> & <lgl> & <lgl> & <lgl> & <lgl> & <lgl> & <lgl> & <lgl> & <lgl>\\\\\n",
       "\\hline\n",
       "\tMIR1302-2HG & -16.80681 & 0.4477132 & FALSE & FALSE & FALSE & FALSE & FALSE & FALSE & FALSE & FALSE & FALSE\\\\\n",
       "\tAL627309.1 & -13.54197 & 0.2866889 & FALSE & FALSE & FALSE & FALSE & FALSE & FALSE & FALSE & FALSE & FALSE\\\\\n",
       "\tAL627309.3 & -16.51597 & 0.2993163 & FALSE & FALSE & FALSE & FALSE & FALSE & FALSE & FALSE & FALSE & FALSE\\\\\n",
       "\tAL627309.5 & -11.96757 & 0.2504768 & FALSE & FALSE & FALSE & FALSE & FALSE & FALSE & FALSE & FALSE & FALSE\\\\\n",
       "\tAL627309.4 & -17.54615 & 0.5062276 & FALSE & FALSE & FALSE & FALSE & FALSE & FALSE & FALSE & FALSE & FALSE\\\\\n",
       "\tAP006222.2 & -16.49445 & 0.3203912 & FALSE & FALSE & FALSE & FALSE & FALSE & FALSE & FALSE & FALSE & FALSE\\\\\n",
       "\\end{tabular}\n"
      ],
      "text/markdown": [
       "\n",
       "A data.frame: 6 x 11\n",
       "\n",
       "| <!--/--> | exp.mean.log &lt;dbl&gt; | max.spec &lt;dbl&gt; | other_Rb &lt;lgl&gt; | chrM &lt;lgl&gt; | chrX &lt;lgl&gt; | chrY &lt;lgl&gt; | Rb &lt;lgl&gt; | Mrp &lt;lgl&gt; | act &lt;lgl&gt; | hb &lt;lgl&gt; | MALAT1 &lt;lgl&gt; |\n",
       "|---|---|---|---|---|---|---|---|---|---|---|---|\n",
       "| MIR1302-2HG | -16.80681 | 0.4477132 | FALSE | FALSE | FALSE | FALSE | FALSE | FALSE | FALSE | FALSE | FALSE |\n",
       "| AL627309.1 | -13.54197 | 0.2866889 | FALSE | FALSE | FALSE | FALSE | FALSE | FALSE | FALSE | FALSE | FALSE |\n",
       "| AL627309.3 | -16.51597 | 0.2993163 | FALSE | FALSE | FALSE | FALSE | FALSE | FALSE | FALSE | FALSE | FALSE |\n",
       "| AL627309.5 | -11.96757 | 0.2504768 | FALSE | FALSE | FALSE | FALSE | FALSE | FALSE | FALSE | FALSE | FALSE |\n",
       "| AL627309.4 | -17.54615 | 0.5062276 | FALSE | FALSE | FALSE | FALSE | FALSE | FALSE | FALSE | FALSE | FALSE |\n",
       "| AP006222.2 | -16.49445 | 0.3203912 | FALSE | FALSE | FALSE | FALSE | FALSE | FALSE | FALSE | FALSE | FALSE |\n",
       "\n"
      ],
      "text/plain": [
       "            exp.mean.log max.spec  other_Rb chrM  chrX  chrY  Rb    Mrp   act  \n",
       "MIR1302-2HG -16.80681    0.4477132 FALSE    FALSE FALSE FALSE FALSE FALSE FALSE\n",
       "AL627309.1  -13.54197    0.2866889 FALSE    FALSE FALSE FALSE FALSE FALSE FALSE\n",
       "AL627309.3  -16.51597    0.2993163 FALSE    FALSE FALSE FALSE FALSE FALSE FALSE\n",
       "AL627309.5  -11.96757    0.2504768 FALSE    FALSE FALSE FALSE FALSE FALSE FALSE\n",
       "AL627309.4  -17.54615    0.5062276 FALSE    FALSE FALSE FALSE FALSE FALSE FALSE\n",
       "AP006222.2  -16.49445    0.3203912 FALSE    FALSE FALSE FALSE FALSE FALSE FALSE\n",
       "            hb    MALAT1\n",
       "MIR1302-2HG FALSE FALSE \n",
       "AL627309.1  FALSE FALSE \n",
       "AL627309.3  FALSE FALSE \n",
       "AL627309.5  FALSE FALSE \n",
       "AL627309.4  FALSE FALSE \n",
       "AP006222.2  FALSE FALSE "
      ]
     },
     "metadata": {},
     "output_type": "display_data"
    }
   ],
   "source": [
    "sc.stat <- plot.scRNA.outlier(\n",
    "  input=sc.dat, #make sure the colnames are gene symbol or ENSMEBL ID \n",
    "  cell.type.labels=cell.type.labels,\n",
    "  species=\"hs\", #currently only human(hs) and mouse(mm) annotations are supported\n",
    "  return.raw=TRUE ,#return the data used for plotting. \n",
    "  pdf.prefix=\"gbm.sc.stat\" #specify pdf.prefix if need to output to pdf\n",
    ")\n",
    "head(sc.stat)     "
   ]
  },
  {
   "cell_type": "code",
   "execution_count": 13,
   "id": "44904bc1-bbe9-4ef9-8e36-a480bddba5ab",
   "metadata": {},
   "outputs": [],
   "source": [
    "library(dplyr)"
   ]
  },
  {
   "cell_type": "code",
   "execution_count": 14,
   "id": "e9245970-4ad2-4024-93d6-0ecf3bedf549",
   "metadata": {},
   "outputs": [
    {
     "data": {
      "text/html": [
       "<table class=\"dataframe\">\n",
       "<caption>A data.frame: 1 x 162</caption>\n",
       "<thead>\n",
       "\t<tr><th></th><th scope=col>SYMBOL</th><th scope=col>GSM1124358</th><th scope=col>GSM1124359</th><th scope=col>GSM1124360</th><th scope=col>GSM1124361</th><th scope=col>GSM1124362</th><th scope=col>GSM1124363</th><th scope=col>GSM1124364</th><th scope=col>GSM1124365</th><th scope=col>GSM1124366</th><th scope=col>...</th><th scope=col>GSM1124509</th><th scope=col>GSM1124510</th><th scope=col>GSM1124511</th><th scope=col>GSM1124512</th><th scope=col>GSM1124513</th><th scope=col>GSM1124514</th><th scope=col>GSM1124515</th><th scope=col>GSM1124516</th><th scope=col>GSM1124517</th><th scope=col>GSM1124518</th></tr>\n",
       "\t<tr><th></th><th scope=col>&lt;chr&gt;</th><th scope=col>&lt;dbl&gt;</th><th scope=col>&lt;dbl&gt;</th><th scope=col>&lt;dbl&gt;</th><th scope=col>&lt;dbl&gt;</th><th scope=col>&lt;dbl&gt;</th><th scope=col>&lt;dbl&gt;</th><th scope=col>&lt;dbl&gt;</th><th scope=col>&lt;dbl&gt;</th><th scope=col>&lt;dbl&gt;</th><th scope=col>...</th><th scope=col>&lt;dbl&gt;</th><th scope=col>&lt;dbl&gt;</th><th scope=col>&lt;dbl&gt;</th><th scope=col>&lt;dbl&gt;</th><th scope=col>&lt;dbl&gt;</th><th scope=col>&lt;dbl&gt;</th><th scope=col>&lt;dbl&gt;</th><th scope=col>&lt;dbl&gt;</th><th scope=col>&lt;dbl&gt;</th><th scope=col>&lt;dbl&gt;</th></tr>\n",
       "</thead>\n",
       "<tbody>\n",
       "\t<tr><th scope=row>1</th><td>ZYX</td><td>8.951058</td><td>8.910902</td><td>8.92271</td><td>8.757089</td><td>8.91791</td><td>8.54283</td><td>8.5632</td><td>9.117089</td><td>8.842577</td><td>...</td><td>8.082359</td><td>8.091963</td><td>8.181687</td><td>8.052719</td><td>8.214469</td><td>8.159618</td><td>8.284029</td><td>7.945729</td><td>8.266994</td><td>7.998448</td></tr>\n",
       "</tbody>\n",
       "</table>\n"
      ],
      "text/latex": [
       "A data.frame: 1 x 162\n",
       "\\begin{tabular}{r|lllllllllllllllllllll}\n",
       "  & SYMBOL & GSM1124358 & GSM1124359 & GSM1124360 & GSM1124361 & GSM1124362 & GSM1124363 & GSM1124364 & GSM1124365 & GSM1124366 & ... & GSM1124509 & GSM1124510 & GSM1124511 & GSM1124512 & GSM1124513 & GSM1124514 & GSM1124515 & GSM1124516 & GSM1124517 & GSM1124518\\\\\n",
       "  & <chr> & <dbl> & <dbl> & <dbl> & <dbl> & <dbl> & <dbl> & <dbl> & <dbl> & <dbl> & ... & <dbl> & <dbl> & <dbl> & <dbl> & <dbl> & <dbl> & <dbl> & <dbl> & <dbl> & <dbl>\\\\\n",
       "\\hline\n",
       "\t1 & ZYX & 8.951058 & 8.910902 & 8.92271 & 8.757089 & 8.91791 & 8.54283 & 8.5632 & 9.117089 & 8.842577 & ... & 8.082359 & 8.091963 & 8.181687 & 8.052719 & 8.214469 & 8.159618 & 8.284029 & 7.945729 & 8.266994 & 7.998448\\\\\n",
       "\\end{tabular}\n"
      ],
      "text/markdown": [
       "\n",
       "A data.frame: 1 x 162\n",
       "\n",
       "| <!--/--> | SYMBOL &lt;chr&gt; | GSM1124358 &lt;dbl&gt; | GSM1124359 &lt;dbl&gt; | GSM1124360 &lt;dbl&gt; | GSM1124361 &lt;dbl&gt; | GSM1124362 &lt;dbl&gt; | GSM1124363 &lt;dbl&gt; | GSM1124364 &lt;dbl&gt; | GSM1124365 &lt;dbl&gt; | GSM1124366 &lt;dbl&gt; | ... ... | GSM1124509 &lt;dbl&gt; | GSM1124510 &lt;dbl&gt; | GSM1124511 &lt;dbl&gt; | GSM1124512 &lt;dbl&gt; | GSM1124513 &lt;dbl&gt; | GSM1124514 &lt;dbl&gt; | GSM1124515 &lt;dbl&gt; | GSM1124516 &lt;dbl&gt; | GSM1124517 &lt;dbl&gt; | GSM1124518 &lt;dbl&gt; |\n",
       "|---|---|---|---|---|---|---|---|---|---|---|---|---|---|---|---|---|---|---|---|---|---|\n",
       "| 1 | ZYX | 8.951058 | 8.910902 | 8.92271 | 8.757089 | 8.91791 | 8.54283 | 8.5632 | 9.117089 | 8.842577 | ... | 8.082359 | 8.091963 | 8.181687 | 8.052719 | 8.214469 | 8.159618 | 8.284029 | 7.945729 | 8.266994 | 7.998448 |\n",
       "\n"
      ],
      "text/plain": [
       "  SYMBOL GSM1124358 GSM1124359 GSM1124360 GSM1124361 GSM1124362 GSM1124363\n",
       "1 ZYX    8.951058   8.910902   8.92271    8.757089   8.91791    8.54283   \n",
       "  GSM1124364 GSM1124365 GSM1124366 ... GSM1124509 GSM1124510 GSM1124511\n",
       "1 8.5632     9.117089   8.842577   ... 8.082359   8.091963   8.181687  \n",
       "  GSM1124512 GSM1124513 GSM1124514 GSM1124515 GSM1124516 GSM1124517 GSM1124518\n",
       "1 8.052719   8.214469   8.159618   8.284029   7.945729   8.266994   7.998448  "
      ]
     },
     "metadata": {},
     "output_type": "display_data"
    }
   ],
   "source": [
    "head(expr3,1)"
   ]
  },
  {
   "cell_type": "code",
   "execution_count": 15,
   "id": "7625d26c-044f-4791-b500-e025a0b53463",
   "metadata": {},
   "outputs": [],
   "source": [
    "rownames(expr3) = expr3[,1]"
   ]
  },
  {
   "cell_type": "code",
   "execution_count": 16,
   "id": "2c523fe5-d2c3-4458-bae4-7fb980348770",
   "metadata": {},
   "outputs": [],
   "source": [
    "expr3 = expr3[,-1]"
   ]
  },
  {
   "cell_type": "code",
   "execution_count": 17,
   "id": "c84bb640-299a-49d3-9de4-06d64ef11ba2",
   "metadata": {},
   "outputs": [],
   "source": [
    "bk.dat = expr3"
   ]
  },
  {
   "cell_type": "code",
   "execution_count": 18,
   "id": "f3c59815-e0b0-4579-ae0f-36087dc73b66",
   "metadata": {},
   "outputs": [
    {
     "name": "stdout",
     "output_type": "stream",
     "text": [
      "Gene symbols detected. Recommend to use EMSEMBLE IDs for more unique mapping.\n"
     ]
    }
   ],
   "source": [
    "bk.dat = t(bk.dat)\n",
    "bk.stat <- plot.bulk.outlier(\n",
    "  bulk.input=bk.dat,#make sure the colnames are gene symbol or ENSMEBL ID \n",
    "    sc.input=sc.dat, #make sure the colnames are gene symbol or ENSMEBL ID \n",
    "  cell.type.labels=cell.type.labels,\n",
    "  species=\"hs\", #currently only human(hs) and mouse(mm) annotations are supported\n",
    "  return.raw=TRUE,\n",
    "  pdf.prefix=\"gbm.bk.stat\" #specify pdf.prefix if need to output to pdf\n",
    ")"
   ]
  },
  {
   "cell_type": "code",
   "execution_count": 19,
   "id": "ee90b699-e406-4c01-837a-868c9039a63c",
   "metadata": {},
   "outputs": [
    {
     "name": "stdout",
     "output_type": "stream",
     "text": [
      "Gene symbols detected. Recommend to use EMSEMBLE IDs for more unique mapping.\n",
      "number of genes filtered in each category: \n",
      "      Rb      Mrp other_Rb     chrM   MALAT1     chrX     chrY       hb \n",
      "      89       78       20        0        1     1016       78       10 \n",
      "     act \n",
      "       6 \n",
      "A total of  1257  genes from Rb Mrp other_Rb chrM MALAT1 chrX chrY hb act  have been excluded \n",
      "A total of  867  gene expressed in fewer than  5  cells have been excluded \n",
      "Gene symbols detected. Recommend to use EMSEMBLE IDs for more unique mapping.\n"
     ]
    }
   ],
   "source": [
    "sc.dat.filtered <- cleanup.genes (input=sc.dat,\n",
    "                                  input.type=\"count.matrix\",\n",
    "                                    species=\"hs\", \n",
    "                                    gene.group=c( \"Rb\",\"Mrp\",\"other_Rb\",\"chrM\",\n",
    "\"MALAT1\",\"chrX\",\"chrY\",\"hb\",\"act\"),\n",
    "                                    exp.cells=5)\n",
    "plot.bulk.vs.sc (sc.input = sc.dat.filtered,\n",
    "                 bulk.input = bk.dat,\n",
    "                 pdf.prefix=\"gbm.bk.vs.sc\" #specify pdf.prefix if need to output to pdf\n",
    "                 )"
   ]
  },
  {
   "cell_type": "code",
   "execution_count": 20,
   "id": "365d44b0-b5ac-4e8c-b476-48de0cbb5c8b",
   "metadata": {},
   "outputs": [
    {
     "name": "stdout",
     "output_type": "stream",
     "text": [
      "Gene symbols detected. Recommend to use EMSEMBLE IDs for more unique mapping.\n",
      "number of genes retained in each category: \n",
      "\n",
      "protein_coding \n",
      "         16427 \n",
      "number of cells in each cell state \n",
      "cell.state.labels\n",
      "  Mic   Mix   End   OPC   Ast   Oli   InN   ExN \n",
      " 3744  3800  3948  7678 13210 22537 28336 50000 \n",
      "No tumor reference is speficied. Reference cell types are treated equally. \n"
     ]
    },
    {
     "name": "stderr",
     "output_type": "stream",
     "text": [
      "Warning message in validate.input(reference):\n",
      "\"Warning: input seems to be log-transformed. Please double check your input. Log transformation should be avoided\"\n",
      "Warning message in validate.input(mixture):\n",
      "\"Warning: input seems to be log-transformed. Please double check your input. Log transformation should be avoided\"\n"
     ]
    },
    {
     "name": "stdout",
     "output_type": "stream",
     "text": [
      "Number of outlier genes filtered from mixture = 0 \n",
      "Aligning reference and mixture... \n",
      "Normalizing reference... \n",
      "Run Gibbs sampling... \n",
      "Current time:  2024-06-15 04:42:15 \n",
      "Estimated time to complete:  12mins \n",
      "Estimated finishing time:  2024-06-15 04:54:00 \n",
      "Start run... \n",
      "R Version:  R version 4.2.1 (2022-06-23) \n",
      "\n"
     ]
    },
    {
     "name": "stderr",
     "output_type": "stream",
     "text": [
      "snowfall 1.84-6.3 initialized (using snow 0.4-4): parallel execution on 40 CPUs.\n",
      "\n",
      "\n",
      "\n",
      "Stopping cluster\n",
      "\n",
      "\n"
     ]
    },
    {
     "name": "stdout",
     "output_type": "stream",
     "text": [
      "Update the reference matrix ... \n"
     ]
    },
    {
     "name": "stderr",
     "output_type": "stream",
     "text": [
      "snowfall 1.84-6.3 initialized (using snow 0.4-4): parallel execution on 40 CPUs.\n",
      "\n",
      "\n",
      "\n",
      "Stopping cluster\n",
      "\n",
      "\n"
     ]
    },
    {
     "name": "stdout",
     "output_type": "stream",
     "text": [
      "Run Gibbs sampling using updated reference ... \n",
      "Current time:  2024-06-15 04:47:47 \n",
      "Estimated time to complete:  10mins \n",
      "Estimated finishing time:  2024-06-15 04:57:29 \n",
      "Start run... \n"
     ]
    },
    {
     "name": "stderr",
     "output_type": "stream",
     "text": [
      "snowfall 1.84-6.3 initialized (using snow 0.4-4): parallel execution on 40 CPUs.\n",
      "\n",
      "\n",
      "\n",
      "Stopping cluster\n",
      "\n",
      "\n"
     ]
    },
    {
     "data": {
      "text/html": [
       "<style>\n",
       ".list-inline {list-style: none; margin:0; padding: 0}\n",
       ".list-inline>li {display: inline-block}\n",
       ".list-inline>li:not(:last-child)::after {content: \"\\00b7\"; padding: 0 .5ex}\n",
       "</style>\n",
       "<ol class=list-inline><li>'prism'</li><li>'posterior.initial.cellState'</li><li>'posterior.initial.cellType'</li><li>'reference.update'</li><li>'posterior.theta_f'</li><li>'control_param'</li></ol>\n"
      ],
      "text/latex": [
       "\\begin{enumerate*}\n",
       "\\item 'prism'\n",
       "\\item 'posterior.initial.cellState'\n",
       "\\item 'posterior.initial.cellType'\n",
       "\\item 'reference.update'\n",
       "\\item 'posterior.theta\\_f'\n",
       "\\item 'control\\_param'\n",
       "\\end{enumerate*}\n"
      ],
      "text/markdown": [
       "1. 'prism'\n",
       "2. 'posterior.initial.cellState'\n",
       "3. 'posterior.initial.cellType'\n",
       "4. 'reference.update'\n",
       "5. 'posterior.theta_f'\n",
       "6. 'control_param'\n",
       "\n",
       "\n"
      ],
      "text/plain": [
       "[1] \"prism\"                       \"posterior.initial.cellState\"\n",
       "[3] \"posterior.initial.cellType\"  \"reference.update\"           \n",
       "[5] \"posterior.theta_f\"           \"control_param\"              "
      ]
     },
     "metadata": {},
     "output_type": "display_data"
    }
   ],
   "source": [
    "sc.dat.filtered.pc <-  select.gene.type (sc.dat.filtered,\n",
    "                                         gene.type = \"protein_coding\")\n",
    "                                         \n",
    "## 这里都用的大类，才没报错                                     \n",
    "myPrism <- new.prism(\n",
    "  reference=sc.dat.filtered.pc, \n",
    "  mixture=bk.dat,\n",
    "  input.type=\"count.matrix\", \n",
    "  cell.type.labels = cell.type.labels, \n",
    "  cell.state.labels = cell.type.labels,\n",
    "  key=NULL,# \n",
    "  outlier.cut=0.01,\n",
    "  outlier.fraction=0.1,\n",
    ")     \n",
    "bp.res <- run.prism(prism = myPrism, n.cores=40)\n",
    "slotNames(bp.res)"
   ]
  },
  {
   "cell_type": "code",
   "execution_count": 21,
   "id": "c74a34b2-a6bd-46bc-a97f-7a2d13e343db",
   "metadata": {},
   "outputs": [],
   "source": [
    "save(bp.res, file=\"bys3.res.rdata\")\n",
    "theta <- get.fraction(bp=bp.res,\n",
    "                       which.theta=\"final\",\n",
    "                       state.or.type=\"type\")\n",
    "write.csv(theta,file=\"bys3.csv\")            "
   ]
  },
  {
   "cell_type": "code",
   "execution_count": 22,
   "id": "bacd7922-b69a-4328-ae59-84b913b12485",
   "metadata": {},
   "outputs": [],
   "source": [
    "library(dplyr)"
   ]
  },
  {
   "cell_type": "code",
   "execution_count": 23,
   "id": "b1c783ff-1d41-4b62-a2ae-5ce4027bb084",
   "metadata": {},
   "outputs": [],
   "source": [
    "theta = read.csv('./bys3.csv',row.names = 1)"
   ]
  },
  {
   "cell_type": "code",
   "execution_count": 24,
   "id": "c5747e60-864c-4826-97dc-fdce15803d2b",
   "metadata": {},
   "outputs": [],
   "source": [
    "end = theta %>%  as.data.frame() %>%  tibble::rownames_to_column(.,'sample')"
   ]
  },
  {
   "cell_type": "code",
   "execution_count": 26,
   "id": "1c617d7e-2f2c-411e-96d4-50afaa98c33e",
   "metadata": {},
   "outputs": [
    {
     "data": {
      "text/html": [
       "<table class=\"dataframe\">\n",
       "<caption>A data.frame: 2 x 9</caption>\n",
       "<thead>\n",
       "\t<tr><th></th><th scope=col>sample</th><th scope=col>Mic</th><th scope=col>ExN</th><th scope=col>InN</th><th scope=col>Oli</th><th scope=col>Ast</th><th scope=col>OPC</th><th scope=col>Mix</th><th scope=col>End</th></tr>\n",
       "\t<tr><th></th><th scope=col>&lt;chr&gt;</th><th scope=col>&lt;dbl&gt;</th><th scope=col>&lt;dbl&gt;</th><th scope=col>&lt;dbl&gt;</th><th scope=col>&lt;dbl&gt;</th><th scope=col>&lt;dbl&gt;</th><th scope=col>&lt;dbl&gt;</th><th scope=col>&lt;dbl&gt;</th><th scope=col>&lt;dbl&gt;</th></tr>\n",
       "</thead>\n",
       "<tbody>\n",
       "\t<tr><th scope=row>1</th><td>GSM1124358</td><td>0.1402796</td><td>0.2753667</td><td>0.1703711</td><td>0.002535337</td><td>0.1352776</td><td>0.001009617</td><td>0.02261702</td><td>0.2525431</td></tr>\n",
       "\t<tr><th scope=row>2</th><td>GSM1124359</td><td>0.1393057</td><td>0.2898127</td><td>0.1788537</td><td>0.003809078</td><td>0.1169668</td><td>0.002104671</td><td>0.02728775</td><td>0.2418594</td></tr>\n",
       "</tbody>\n",
       "</table>\n"
      ],
      "text/latex": [
       "A data.frame: 2 x 9\n",
       "\\begin{tabular}{r|lllllllll}\n",
       "  & sample & Mic & ExN & InN & Oli & Ast & OPC & Mix & End\\\\\n",
       "  & <chr> & <dbl> & <dbl> & <dbl> & <dbl> & <dbl> & <dbl> & <dbl> & <dbl>\\\\\n",
       "\\hline\n",
       "\t1 & GSM1124358 & 0.1402796 & 0.2753667 & 0.1703711 & 0.002535337 & 0.1352776 & 0.001009617 & 0.02261702 & 0.2525431\\\\\n",
       "\t2 & GSM1124359 & 0.1393057 & 0.2898127 & 0.1788537 & 0.003809078 & 0.1169668 & 0.002104671 & 0.02728775 & 0.2418594\\\\\n",
       "\\end{tabular}\n"
      ],
      "text/markdown": [
       "\n",
       "A data.frame: 2 x 9\n",
       "\n",
       "| <!--/--> | sample &lt;chr&gt; | Mic &lt;dbl&gt; | ExN &lt;dbl&gt; | InN &lt;dbl&gt; | Oli &lt;dbl&gt; | Ast &lt;dbl&gt; | OPC &lt;dbl&gt; | Mix &lt;dbl&gt; | End &lt;dbl&gt; |\n",
       "|---|---|---|---|---|---|---|---|---|---|\n",
       "| 1 | GSM1124358 | 0.1402796 | 0.2753667 | 0.1703711 | 0.002535337 | 0.1352776 | 0.001009617 | 0.02261702 | 0.2525431 |\n",
       "| 2 | GSM1124359 | 0.1393057 | 0.2898127 | 0.1788537 | 0.003809078 | 0.1169668 | 0.002104671 | 0.02728775 | 0.2418594 |\n",
       "\n"
      ],
      "text/plain": [
       "  sample     Mic       ExN       InN       Oli         Ast       OPC        \n",
       "1 GSM1124358 0.1402796 0.2753667 0.1703711 0.002535337 0.1352776 0.001009617\n",
       "2 GSM1124359 0.1393057 0.2898127 0.1788537 0.003809078 0.1169668 0.002104671\n",
       "  Mix        End      \n",
       "1 0.02261702 0.2525431\n",
       "2 0.02728775 0.2418594"
      ]
     },
     "metadata": {},
     "output_type": "display_data"
    }
   ],
   "source": [
    "head(end,2)"
   ]
  },
  {
   "cell_type": "code",
   "execution_count": 27,
   "id": "6691372c-9a1a-4dd2-82b0-68a8bb95714c",
   "metadata": {},
   "outputs": [],
   "source": [
    "group = read.csv('/import/DB/fel/BJTC-204/bulk.3.group.csv')"
   ]
  },
  {
   "cell_type": "code",
   "execution_count": 28,
   "id": "bac66707-02e5-41f0-a304-be4d01861d42",
   "metadata": {},
   "outputs": [
    {
     "data": {
      "text/html": [
       "<table class=\"dataframe\">\n",
       "<caption>A data.frame: 2 x 2</caption>\n",
       "<thead>\n",
       "\t<tr><th></th><th scope=col>sample</th><th scope=col>group</th></tr>\n",
       "\t<tr><th></th><th scope=col>&lt;chr&gt;</th><th scope=col>&lt;int&gt;</th></tr>\n",
       "</thead>\n",
       "<tbody>\n",
       "\t<tr><th scope=row>1</th><td>GSM1124359</td><td>2</td></tr>\n",
       "\t<tr><th scope=row>2</th><td>GSM1124360</td><td>2</td></tr>\n",
       "</tbody>\n",
       "</table>\n"
      ],
      "text/latex": [
       "A data.frame: 2 x 2\n",
       "\\begin{tabular}{r|ll}\n",
       "  & sample & group\\\\\n",
       "  & <chr> & <int>\\\\\n",
       "\\hline\n",
       "\t1 & GSM1124359 & 2\\\\\n",
       "\t2 & GSM1124360 & 2\\\\\n",
       "\\end{tabular}\n"
      ],
      "text/markdown": [
       "\n",
       "A data.frame: 2 x 2\n",
       "\n",
       "| <!--/--> | sample &lt;chr&gt; | group &lt;int&gt; |\n",
       "|---|---|---|\n",
       "| 1 | GSM1124359 | 2 |\n",
       "| 2 | GSM1124360 | 2 |\n",
       "\n"
      ],
      "text/plain": [
       "  sample     group\n",
       "1 GSM1124359 2    \n",
       "2 GSM1124360 2    "
      ]
     },
     "metadata": {},
     "output_type": "display_data"
    }
   ],
   "source": [
    "head(group,2)"
   ]
  },
  {
   "cell_type": "code",
   "execution_count": 29,
   "id": "5148ad51-cc2e-40af-8f3c-65abf4b1cbe8",
   "metadata": {},
   "outputs": [],
   "source": [
    "c = left_join(group,end,by = 'sample' )"
   ]
  },
  {
   "cell_type": "code",
   "execution_count": 30,
   "id": "141f4da5-f249-4006-8e19-bed7ff47d5cb",
   "metadata": {},
   "outputs": [],
   "source": [
    "c$group = paste0('group',c$group)"
   ]
  },
  {
   "cell_type": "code",
   "execution_count": 31,
   "id": "4af02327-840a-4928-a62e-c6d4860c8257",
   "metadata": {},
   "outputs": [],
   "source": [
    "my_comparisons = list(c('group1','group2'))"
   ]
  },
  {
   "cell_type": "code",
   "execution_count": 4,
   "id": "3a04d327-661d-4f4c-b604-ff195379ea06",
   "metadata": {},
   "outputs": [
    {
     "name": "stderr",
     "output_type": "stream",
     "text": [
      "Warning message:\n",
      "\"package 'dplyr' was built under R version 4.2.3\"\n",
      "\n",
      "Attaching package: 'dplyr'\n",
      "\n",
      "\n",
      "The following objects are masked from 'package:stats':\n",
      "\n",
      "    filter, lag\n",
      "\n",
      "\n",
      "The following objects are masked from 'package:base':\n",
      "\n",
      "    intersect, setdiff, setequal, union\n",
      "\n",
      "\n",
      "Warning message:\n",
      "\"package 'ggplot2' was built under R version 4.2.3\"\n",
      "Warning message:\n",
      "\"package 'ggpubr' was built under R version 4.2.3\"\n"
     ]
    }
   ],
   "source": [
    "library(dplyr)\n",
    "library(ggplot2)\n",
    "library(ggpubr)"
   ]
  },
  {
   "cell_type": "code",
   "execution_count": 5,
   "id": "ea77c9b4-62b4-47fa-9d15-f442b7499f6d",
   "metadata": {},
   "outputs": [],
   "source": [
    "write.csv(c,file = 'bulk.3.bys.res.csv',row.names =F)"
   ]
  },
  {
   "cell_type": "code",
   "execution_count": 6,
   "id": "b443f121-d4f3-4063-a67b-7ee93fc23af1",
   "metadata": {},
   "outputs": [],
   "source": [
    "c = read.csv('bulk.3.bys.res.csv')"
   ]
  },
  {
   "cell_type": "code",
   "execution_count": null,
   "id": "40c28d53-fcf4-4568-a990-9bcad21a75a8",
   "metadata": {},
   "outputs": [],
   "source": []
  },
  {
   "cell_type": "code",
   "execution_count": 8,
   "id": "e4dafaf9-bcfa-4787-bbf7-9932f38018cf",
   "metadata": {},
   "outputs": [
    {
     "data": {
      "image/png": "[encoded data removed]",
      "text/plain": [
       "plot without title"
      ]
     },
     "metadata": {
      "image/png": {
       "height": 420,
       "width": 420
      }
     },
     "output_type": "display_data"
    }
   ],
   "source": [
    "c %>% \n",
    "  #dplyr::filter(group %in% c(\"IBC\",\"N\",\"DCIS\")) %>% \n",
    "  ggviolin(x = \"group\", y = c(colnames(c)[3:10]), fill = \"group\",\n",
    "           combine = T,\n",
    "         #palette = c(\"#00AFBB\", \"#E7B800\", \"#FC4E07\"),##\n",
    "         ylab=\"Normalized Expression\",\n",
    "         add = \"boxplot\", add.params = list(fill = \"white\"))+\n",
    "stat_compare_means() #method = 't.test'"
   ]
  },
  {
   "cell_type": "code",
   "execution_count": null,
   "id": "39b70ac0-0919-4999-8692-b45d2e1217d8",
   "metadata": {},
   "outputs": [],
   "source": []
  },
  {
   "cell_type": "code",
   "execution_count": null,
   "id": "e814ddb2-8e89-414e-95ec-b13c8a194e78",
   "metadata": {},
   "outputs": [],
   "source": []
  },
  {
   "cell_type": "code",
   "execution_count": null,
   "id": "88b1c4b1-1b0e-461c-b02e-3c4b911d9836",
   "metadata": {},
   "outputs": [],
   "source": []
  },
  {
   "cell_type": "code",
   "execution_count": null,
   "id": "524ca266-f31a-4090-b81b-95ce2ce2bc05",
   "metadata": {},
   "outputs": [],
   "source": []
  },
  {
   "cell_type": "code",
   "execution_count": null,
   "id": "38271945-5b5f-49be-b49e-275511ca9234",
   "metadata": {},
   "outputs": [],
   "source": []
  },
  {
   "cell_type": "code",
   "execution_count": null,
   "id": "b76ff61e-e913-4675-91ae-9734ba4e48f4",
   "metadata": {},
   "outputs": [],
   "source": []
  },
  {
   "cell_type": "code",
   "execution_count": null,
   "id": "97620110-cb9c-4e52-a0cc-28280168addd",
   "metadata": {},
   "outputs": [],
   "source": []
  },
  {
   "cell_type": "code",
   "execution_count": null,
   "id": "98d1394c-3515-4b47-bb48-9fb24f4780a0",
   "metadata": {},
   "outputs": [],
   "source": []
  },
  {
   "cell_type": "code",
   "execution_count": null,
   "id": "f7d6c291-10be-4c43-b6d1-3ac24d3edaba",
   "metadata": {},
   "outputs": [],
   "source": []
  }
 ],
 "metadata": {
  "kernelspec": {
   "display_name": "R",
   "language": "R",
   "name": "ir"
  },
  "language_info": {
   "codemirror_mode": "r",
   "file_extension": ".r",
   "mimetype": "text/x-r-source",
   "name": "R",
   "pygments_lexer": "r",
   "version": "4.2.1"
  }
 },
 "nbformat": 4,
 "nbformat_minor": 5
}
