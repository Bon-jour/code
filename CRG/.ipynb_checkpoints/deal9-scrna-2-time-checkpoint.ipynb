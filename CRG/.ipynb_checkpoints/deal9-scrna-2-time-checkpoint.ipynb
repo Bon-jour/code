{
 "cells": [
  {
   "cell_type": "code",
   "execution_count": 1,
   "id": "2e70054f-3bf8-4dad-9aaf-1e46a42650e1",
   "metadata": {},
   "outputs": [],
   "source": [
    "setwd('/import/DB/fel/BJTC-204')"
   ]
  },
  {
   "cell_type": "code",
   "execution_count": 2,
   "id": "0bc6b48e-77da-46ce-812d-cae35220ce6a",
   "metadata": {},
   "outputs": [
    {
     "name": "stderr",
     "output_type": "stream",
     "text": [
      "Warning message:\n",
      "\"package 'Seurat' was built under R version 4.2.3\"\n",
      "The legacy packages maptools, rgdal, and rgeos, underpinning the sp package,\n",
      "which was just loaded, will retire in October 2023.\n",
      "Please refer to R-spatial evolution reports for details, especially\n",
      "https://r-spatial.org/r/2023/05/15/evolution4.html.\n",
      "It may be desirable to make the sf package available;\n",
      "package maintainers should consider adding sf to Suggests:.\n",
      "The sp package is now running under evolution status 2\n",
      "     (status 2 uses the sf package in place of rgdal)\n",
      "\n",
      "Attaching SeuratObject\n",
      "\n"
     ]
    }
   ],
   "source": [
    "library(Seurat)"
   ]
  },
  {
   "cell_type": "code",
   "execution_count": 3,
   "id": "9d661863-ea6c-438b-bbd3-ec4195b083f0",
   "metadata": {},
   "outputs": [],
   "source": [
    "sce = readRDS('/import/DB/fel/final.rds')"
   ]
  },
  {
   "cell_type": "code",
   "execution_count": 4,
   "id": "372d4f38-1a0d-42d9-b0d0-61fb45367422",
   "metadata": {},
   "outputs": [],
   "source": [
    "Idents(sce) = 'celltype'"
   ]
  },
  {
   "cell_type": "code",
   "execution_count": 6,
   "id": "260cebb7-2d70-4060-85d0-d81f780237b2",
   "metadata": {},
   "outputs": [],
   "source": [
    "Mic = subset(sce,idents = 'Mic')"
   ]
  },
  {
   "cell_type": "code",
   "execution_count": 9,
   "id": "b7a029e7-a810-41f4-9064-d3b119764d75",
   "metadata": {},
   "outputs": [],
   "source": [
    "saveRDS(Mic,file = 'Mic.rds')"
   ]
  },
  {
   "cell_type": "code",
   "execution_count": 13,
   "id": "541d8476-b375-4c28-9937-66c656a01972",
   "metadata": {},
   "outputs": [],
   "source": [
    "write.csv(t(as.matrix(Mic@assays$RNA@counts)),file = \"for.scenic.data.csv\")"
   ]
  },
  {
   "cell_type": "markdown",
   "id": "7895971a-a362-43ea-9e0e-8b2a5608d71f",
   "metadata": {},
   "source": [
    "### 在for.scenic.data.csv 同目錄下：\n",
    "# cat >> change.py \n",
    "<!-- import os,sys\r\n",
    "os.getcwd()\r\n",
    "os.listdir(os.getcwd())     \r\n",
    "\r\n",
    "import loompy as lp;\r\n",
    "import numpy as np;\r\n",
    "import scanpy as sc;\r\n",
    "x=sc.read_csv(\"for.scenic.data.csv\");\r\n",
    "row_attrs = {\"Gene\": np.array(x.var_names),};\r\n",
    "col_attrs = {\"CellID\": np.array(x.obs_names)};\r\n",
    "lp.create(\"sample.loom\",x.X.transpose(),row_attrs,c -->ol_attrs);"
   ]
  },
  {
   "cell_type": "code",
   "execution_count": 14,
   "id": "0ef1fa5c-a9f1-45e8-803a-11a27d3d8805",
   "metadata": {},
   "outputs": [],
   "source": [
    "#cat >scenic.bash"
   ]
  },
  {
   "cell_type": "code",
   "execution_count": null,
   "id": "99bf8ab6-ea12-46bb-9d13-7dd7f12f2a61",
   "metadata": {},
   "outputs": [],
   "source": [
    "python change.py\n",
    "\n",
    "##运行pySCENIC\n",
    "# 不同物种的数据库不一样，这里是人类是human \n",
    "dir=/import/DB/cistarget/ #改成自己的目录\n",
    "tfs=$dir/hs_hgnc_tfs.txt\n",
    "feather=$dir/hg19-tss-centered-10kb-7species.mc9nr.feather\n",
    "tbl=$dir/motifs-v9-nr.hgnc-m0.001-o0.0.tbl\n",
    "# 一定要保证上面的数据库文件完整无误哦 \n",
    "input_loom=./sample.loom\n",
    "ls $tfs  $feather  $tbl  \n",
    "\n",
    "#2.1 grn\n",
    "pyscenic grn \\\n",
    "--num_workers 50 \\\n",
    "--output adj.sample.tsv \\\n",
    "--method grnboost2 \\\n",
    "sample.loom \\\n",
    "$tfs #转录因子文件，1839个基因的名字列表\n",
    "\n",
    "#2.2 cistarget\n",
    "pyscenic ctx \\\n",
    "adj.sample.tsv $feather \\\n",
    "--annotations_fname $tbl \\\n",
    "--expression_mtx_fname $input_loom  \\\n",
    "--mode \"dask_multiprocessing\" \\\n",
    "--output reg.csv \\\n",
    "--num_workers 30  \\\n",
    "--mask_dropouts\n",
    "\n",
    "#2.3 AUCell\n",
    "pyscenic aucell \\\n",
    "$input_loom \\\n",
    "reg.csv \\\n",
    "--output out_SCENIC.loom \\\n",
    "--num_workers 30"
   ]
  },
  {
   "cell_type": "code",
   "execution_count": null,
   "id": "906a84f8-b6ca-475b-b0ea-cf137d0a1390",
   "metadata": {},
   "outputs": [],
   "source": [
    "# bash scenic.bash"
   ]
  }
 ],
 "metadata": {
  "kernelspec": {
   "display_name": "R",
   "language": "R",
   "name": "ir"
  },
  "language_info": {
   "codemirror_mode": "r",
   "file_extension": ".r",
   "mimetype": "text/x-r-source",
   "name": "R",
   "pygments_lexer": "r",
   "version": "4.2.1"
  }
 },
 "nbformat": 4,
 "nbformat_minor": 5
}
