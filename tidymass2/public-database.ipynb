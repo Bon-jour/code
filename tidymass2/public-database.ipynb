{
 "cells": [
  {
   "cell_type": "code",
   "execution_count": 9,
   "id": "9dad7748-0e6b-4033-9508-9d43bc879ac4",
   "metadata": {},
   "outputs": [],
   "source": [
    "setwd('/import/metabolites/data2/')"
   ]
  },
  {
   "cell_type": "code",
   "execution_count": 10,
   "id": "d4b27fd3-0739-44cc-be99-4b9fbf522cfe",
   "metadata": {},
   "outputs": [
    {
     "name": "stderr",
     "output_type": "stream",
     "text": [
      "Loading required package: BiocParallel\n",
      "\n",
      "Warning message:\n",
      "\"package 'BiocParallel' was built under R version 4.2.3\"\n",
      "\n",
      "This is xcms version 3.20.0 \n",
      "\n",
      "\n",
      "\n",
      "Attaching package: 'xcms'\n",
      "\n",
      "\n",
      "The following objects are masked from 'package:dplyr':\n",
      "\n",
      "    collect, groups\n",
      "\n",
      "\n",
      "The following object is masked from 'package:stats':\n",
      "\n",
      "    sigma\n",
      "\n",
      "\n"
     ]
    }
   ],
   "source": [
    "library(xcms)"
   ]
  },
  {
   "cell_type": "code",
   "execution_count": 11,
   "id": "855e78c2-1340-48e4-9b3d-f6870b752afa",
   "metadata": {},
   "outputs": [],
   "source": [
    "dda_data <- readMSData('./MS1/POS/C1.mzXML', mode = \"onDisk\")"
   ]
  },
  {
   "cell_type": "code",
   "execution_count": 14,
   "id": "d7d580d5-548c-45fb-88e0-daa8454b8a76",
   "metadata": {},
   "outputs": [
    {
     "data": {
      "text/plain": [
       "\n",
       "    1     2 \n",
       " 2364 12919 "
      ]
     },
     "metadata": {},
     "output_type": "display_data"
    }
   ],
   "source": [
    "table(msLevel(dda_data))"
   ]
  },
  {
   "cell_type": "code",
   "execution_count": null,
   "id": "088166d1-243d-4f1c-aed6-1c47ce41dd74",
   "metadata": {},
   "outputs": [],
   "source": []
  }
 ],
 "metadata": {
  "kernelspec": {
   "display_name": "R",
   "language": "R",
   "name": "ir"
  },
  "language_info": {
   "codemirror_mode": "r",
   "file_extension": ".r",
   "mimetype": "text/x-r-source",
   "name": "R",
   "pygments_lexer": "r",
   "version": "4.2.1"
  }
 },
 "nbformat": 4,
 "nbformat_minor": 5
}
