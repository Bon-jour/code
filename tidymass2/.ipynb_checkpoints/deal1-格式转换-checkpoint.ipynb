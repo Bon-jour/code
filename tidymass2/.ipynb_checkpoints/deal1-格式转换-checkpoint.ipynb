{
 "cells": [
  {
   "cell_type": "code",
   "execution_count": 2,
   "id": "44320305-7d16-461e-b02b-611eb89de3ba",
   "metadata": {},
   "outputs": [
    {
     "name": "stderr",
     "output_type": "stream",
     "text": [
      "Warning message:\n",
      "“package ‘massconverter’ was built under R version 4.2.2”\n",
      "massconverter 1.0.3 (2023-09-08 14:15:07)\n",
      "\n"
     ]
    },
    {
     "name": "stdout",
     "output_type": "stream",
     "text": [
      "Trying to pull repository docker.io/chambm/pwiz-skyline-i-agree-to-the-vendor-licenses ... \n",
      "Pulling from docker.io/chambm/pwiz-skyline-i-agree-to-the-vendor-licenses latest\n",
      "Digest: sha256:8d460f560287d6d76dfa8c7274eeb83526559cbb6036096040c46168b5c26b57\n",
      "Status: Image is up to date for docker.io/chambm/pwiz-skyline-i-agree-to-the-vendor-licenses:latest\n"
     ]
    },
    {
     "name": "stderr",
     "output_type": "stream",
     "text": [
      "Done.\n",
      "\n"
     ]
    }
   ],
   "source": [
    ".libPaths(c(\"/root/miniconda3/envs/metadoc/lib/R/library\",'/root/miniconda3/envs/Rdoc/lib/R/library'))\n",
    "\n",
    "library(massconverter)\n",
    "\n",
    "docker_pull_pwiz()"
   ]
  },
  {
   "cell_type": "code",
   "execution_count": null,
   "id": "58f3e9e2-d091-4c7d-9d6c-a72ce17750d0",
   "metadata": {},
   "outputs": [],
   "source": [
    "\n",
    "\n",
    "parameter =\n",
    "  massconverter::create_msconvert_parameter(\n",
    "    output_format = \"mzXML\",# \"mzXML\", \"mzML\", \"mz5\", \"mgf\", \"text\", \"ms1\", \"cms1\", \"ms2\", \"cms2\"\n",
    "    binary_encoding_precision = \"64\",\n",
    "    zlib = TRUE,\n",
    "    write_index = TRUE,\n",
    "    peak_picking_algorithm = \"cwt\",# \"vendor\" or \"cwt\"\n",
    "    vendor_mslevels = c(1, NA),# 当前调用的是cwt，此参数可能无效\n",
    "    cwt_mslevels = c(1, NA),# 如此设置即可\n",
    "    cwt_min_snr = 0.1,# minimum signal-to-noise ratio，设为0.1即可\n",
    "    cwt_min_peak_spacing = 0.1,# minimum peak spacing，设为0.1即可\n",
    "    subset_polarity = \"positive\",# \"any\", \"positive\" or \"negative\"，根据模式选择\n",
    "    subset_scan_number = c(NA, NA),# A two numeric vector. Can be c(NA, NA) if don't use this\n",
    "    subset_scan_time = c(60, 300),# A two numeric vector. Can be c(NA, NA) if don't use this\n",
    "    subset_mslevels = c(1, 2),# A two numeric vector. Second can be set as NA\n",
    "    zero_samples_mode = \"removeExtra\",# \"no\", \"removeExtra\", or \"addMissing\"\n",
    "    zero_samples_mslevels = c(1, NA),# A two numeric vector. Second can be set as NA\n",
    "    zero_samples_add_missing_flanking_zero_count = 5# 默认5即可\n",
    "  )\n",
    "\n",
    "library(tidymass)\n",
    "\n",
    "parameter = massconverter::create_msconvert_parameter(\n",
    "    output_format = \"mzXML\",# \"mzXML\", \"mzML\", \"mz5\", \"mgf\", \"text\", \"ms1\", \"cms1\", \"ms2\", \"cms2\"\n",
    "    binary_encoding_precision = \"64\",\n",
    "    zlib = TRUE,\n",
    "    write_index = TRUE,\n",
    "    peak_picking_algorithm = \"cwt\",# \"vendor\" or \"cwt\"\n",
    "    vendor_mslevels = c(1, NA),# 当前调用的是cwt，此参数可能无效\n",
    "    cwt_mslevels = c(1, NA),# 如此设置即可\n",
    "    cwt_min_snr = 0.1,# minimum signal-to-noise ratio，设为0.1即可\n",
    "    cwt_min_peak_spacing = 0.1,# minimum peak spacing，设为0.1即可\n",
    "    subset_polarity = \"positive\",# \"any\", \"positive\" or \"negative\"，根据模式选择\n",
    "    subset_scan_number = c(NA, NA),# A two numeric vector. Can be c(NA, NA) if don't use this\n",
    "    subset_scan_time = c(60, 300),# A two numeric vector. Can be c(NA, NA) if don't use this\n",
    "    subset_mslevels = c(1, 2),# A two numeric vector. Second can be set as NA\n",
    "    zero_samples_mode = \"removeExtra\",# \"no\", \"removeExtra\", or \"addMissing\"\n",
    "    zero_samples_mslevels = c(1, NA),# A two numeric vector. Second can be set as NA\n",
    "    zero_samples_add_missing_flanking_zero_count = 5# 默认5即可\n",
    "  )\n",
    "\n",
    "convert_raw_data(input_path = \"MS1/NEG/\", \n",
    "                 output_path = \"MS1/NEG/\", \n",
    "                 msconvert_parameter = parameter, \n",
    "                 docker_parameters = c(),\n",
    "                 process_all = FALSE)\n",
    "\n",
    "convert_raw_data(input_path = \"MS1/POS/\", \n",
    "                 output_path = \"MS1/POS/\", \n",
    "                 msconvert_parameter = parameter, \n",
    "                 docker_parameters = c(),\n",
    "                 process_all = FALSE)\n",
    "\n",
    "parameter = massconverter::create_msconvert_parameter(\n",
    "    output_format = \"mgf\",# \"mzXML\", \"mzML\", \"mz5\", \"mgf\", \"text\", \"ms1\", \"cms1\", \"ms2\", \"cms2\"\n",
    "    binary_encoding_precision = \"64\",\n",
    "    zlib = TRUE,\n",
    "    write_index = TRUE,\n",
    "    peak_picking_algorithm = \"cwt\",# \"vendor\" or \"cwt\"\n",
    "    vendor_mslevels = c(1, NA),# 当前调用的是cwt，此参数可能无效\n",
    "    cwt_mslevels = c(1, NA),# 如此设置即可\n",
    "    cwt_min_snr = 0.1,# minimum signal-to-noise ratio，设为0.1即可\n",
    "    cwt_min_peak_spacing = 0.1,# minimum peak spacing，设为0.1即可\n",
    "    subset_polarity = \"positive\",# \"any\", \"positive\" or \"negative\"，根据模式选择\n",
    "    subset_scan_number = c(NA, NA),# A two numeric vector. Can be c(NA, NA) if don't use this\n",
    "    subset_scan_time = c(60, 300),# A two numeric vector. Can be c(NA, NA) if don't use this\n",
    "    subset_mslevels = c(1, 2),# A two numeric vector. Second can be set as NA\n",
    "    zero_samples_mode = \"removeExtra\",# \"no\", \"removeExtra\", or \"addMissing\"\n",
    "    zero_samples_mslevels = c(1, NA),# A two numeric vector. Second can be set as NA\n",
    "    zero_samples_add_missing_flanking_zero_count = 5# 默认5即可\n",
    "  )\n",
    "\n",
    "convert_raw_data(input_path = \"MS2/NEG/\", \n",
    "                 output_path = \"MS2/NEG/\", \n",
    "                 msconvert_parameter = parameter, \n",
    "                 docker_parameters = c(),\n",
    "                 process_all = FALSE)\n",
    "convert_raw_data(input_path = \"MS2/POS/\", \n",
    "                 output_path = \"MS2/POS/\", \n",
    "                 msconvert_parameter = parameter, \n",
    "                 docker_parameters = c(),\n",
    "                 process_all = FALSE)"
   ]
  },
  {
   "cell_type": "code",
   "execution_count": 3,
   "id": "53c9b841-9199-45cf-b6ce-7bf8343181d6",
   "metadata": {},
   "outputs": [],
   "source": [
    "parameter = massconverter::create_msconvert_parameter(\n",
    "    output_format = \"mzXML\",# \"mzXML\", \"mzML\", \"mz5\", \"mgf\", \"text\", \"ms1\", \"cms1\", \"ms2\", \"cms2\"\n",
    "    binary_encoding_precision = \"64\",\n",
    "    zlib = TRUE,\n",
    "    write_index = TRUE,\n",
    "    peak_picking_algorithm = \"cwt\",# \"vendor\" or \"cwt\"\n",
    "    vendor_mslevels = c(1, NA),# 当前调用的是cwt，此参数可能无效\n",
    "    cwt_mslevels = c(1, NA),# 如此设置即可\n",
    "    cwt_min_snr = 0.1,# minimum signal-to-noise ratio，设为0.1即可\n",
    "    cwt_min_peak_spacing = 0.1,# minimum peak spacing，设为0.1即可\n",
    "    subset_polarity = \"positive\",# \"any\", \"positive\" or \"negative\"，根据模式选择\n",
    "    subset_scan_number = c(NA, NA),# A two numeric vector. Can be c(NA, NA) if don't use this\n",
    "    subset_scan_time = c(60, 300),# A two numeric vector. Can be c(NA, NA) if don't use this\n",
    "    subset_mslevels = c(1, 2),# A two numeric vector. Second can be set as NA\n",
    "    zero_samples_mode = \"removeExtra\",# \"no\", \"removeExtra\", or \"addMissing\"\n",
    "    zero_samples_mslevels = c(1, NA),# A two numeric vector. Second can be set as NA\n",
    "    zero_samples_add_missing_flanking_zero_count = 5# 默认5即可\n",
    "  )"
   ]
  },
  {
   "cell_type": "code",
   "execution_count": 4,
   "id": "b20572c9-d89b-4043-85e4-663122709723",
   "metadata": {},
   "outputs": [
    {
     "name": "stdout",
     "output_type": "stream",
     "text": [
      "Trying to pull repository docker.io/chambm/pwiz-skyline-i-agree-to-the-vendor-licenses ... \n",
      "Pulling from docker.io/chambm/pwiz-skyline-i-agree-to-the-vendor-licenses latest\n",
      "Digest: sha256:8d460f560287d6d76dfa8c7274eeb83526559cbb6036096040c46168b5c26b57\n",
      "Status: Image is up to date for docker.io/chambm/pwiz-skyline-i-agree-to-the-vendor-licenses:latest\n"
     ]
    },
    {
     "name": "stderr",
     "output_type": "stream",
     "text": [
      "Done.\n",
      "\n"
     ]
    },
    {
     "name": "stdout",
     "output_type": "stream",
     "text": [
      "Trying to pull repository docker.io/chambm/pwiz-skyline-i-agree-to-the-vendor-licenses ... \n",
      "Pulling from docker.io/chambm/pwiz-skyline-i-agree-to-the-vendor-licenses latest\n",
      "Digest: sha256:8d460f560287d6d76dfa8c7274eeb83526559cbb6036096040c46168b5c26b57\n",
      "Status: Image is up to date for docker.io/chambm/pwiz-skyline-i-agree-to-the-vendor-licenses:latest\n"
     ]
    },
    {
     "name": "stderr",
     "output_type": "stream",
     "text": [
      "Done.\n",
      "\n"
     ]
    }
   ],
   "source": [
    "convert_raw_data(input_path = \"MS2/NEG/\", \n",
    "                 output_path = \"MS1/NEG/\", \n",
    "                 msconvert_parameter = parameter, \n",
    "                 docker_parameters = c(),\n",
    "                 process_all = FALSE)\n",
    "convert_raw_data(input_path = \"MS2/POS/\", \n",
    "                 output_path = \"MS1/POS/\", \n",
    "                 msconvert_parameter = parameter, \n",
    "                 docker_parameters = c(),\n",
    "                 process_all = FALSE)"
   ]
  },
  {
   "cell_type": "code",
   "execution_count": null,
   "id": "d8f499e6-5991-4b2a-bb11-617604fef8c8",
   "metadata": {},
   "outputs": [],
   "source": []
  },
  {
   "cell_type": "code",
   "execution_count": null,
   "id": "9407663d-9583-4f40-8ebd-c52b212a30b0",
   "metadata": {},
   "outputs": [],
   "source": []
  },
  {
   "cell_type": "code",
   "execution_count": null,
   "id": "a204bbf3-b7f0-446d-b698-6621cb443435",
   "metadata": {},
   "outputs": [],
   "source": []
  },
  {
   "cell_type": "code",
   "execution_count": null,
   "id": "eaea8686-b7ea-4734-8b68-b3e18919d90b",
   "metadata": {},
   "outputs": [],
   "source": []
  },
  {
   "cell_type": "code",
   "execution_count": null,
   "id": "51829122-3c51-4fd2-9b6c-f10ff7c89566",
   "metadata": {},
   "outputs": [],
   "source": []
  },
  {
   "cell_type": "code",
   "execution_count": null,
   "id": "67c1091f-25e5-4177-8f6a-fea53913dd1e",
   "metadata": {},
   "outputs": [],
   "source": []
  },
  {
   "cell_type": "code",
   "execution_count": null,
   "id": "3d202307-b155-4f1c-9ad2-e9f4f24e780e",
   "metadata": {},
   "outputs": [],
   "source": []
  },
  {
   "cell_type": "code",
   "execution_count": null,
   "id": "3ac28977-2794-46b3-9030-c31b70d472c7",
   "metadata": {},
   "outputs": [],
   "source": []
  }
 ],
 "metadata": {
  "kernelspec": {
   "display_name": "R",
   "language": "R",
   "name": "ir"
  },
  "language_info": {
   "codemirror_mode": "r",
   "file_extension": ".r",
   "mimetype": "text/x-r-source",
   "name": "R",
   "pygments_lexer": "r",
   "version": "4.2.1"
  }
 },
 "nbformat": 4,
 "nbformat_minor": 5
}
