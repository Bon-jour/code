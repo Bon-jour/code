{
 "cells": [
  {
   "cell_type": "code",
   "execution_count": 20,
   "id": "46b00ec6-3873-4d50-9c1a-3680267d8e0b",
   "metadata": {},
   "outputs": [],
   "source": [
    "library(KEGGREST)\n",
    "library(plyr)"
   ]
  },
  {
   "cell_type": "code",
   "execution_count": 3,
   "id": "871cb887-4387-4484-91af-6bbf4df2ac64",
   "metadata": {},
   "outputs": [],
   "source": [
    "get.kegg.all <-\n",
    "function() {\n",
    "\tcmp <- keggList(\"compound\")\n",
    "\treactionEntry = keggList(\"reaction\")\n",
    "\n",
    "\tcmpId = names(cmp)\n",
    "\tcmpId = sub('cpd:', '', cmpId)\n",
    "\n",
    "\treactionEntry = names(reactionEntry)\n",
    "\treactionEntry = sub('rn:', '', reactionEntry)\n",
    "\t\n",
    "\tkeggReaction = get.kegg.byId(reactionEntry)\n",
    "\tkeggReaction[is.na(keggReaction)] = \"\"\n",
    "\n",
    "\tkeggCompound = get.kegg.byId(cmpId)\n",
    "\tkeggCompound[is.na(keggCompound)] = \"\"\n",
    "\t\n",
    "\t# reference\n",
    "\treferIndex = grep('.+', keggReaction$REFERENCE)\n",
    "\treferId = keggReaction[grep('.+', keggReaction$REFERENCE), 'ENTRY']\n",
    "\treferIdUnique = unique(keggReaction[grep('.+', keggReaction$REFERENCE), 'ENTRY'])\n",
    "\n",
    "\tredundantIndex = c()\n",
    "\tfor(i in referIdUnique) {\n",
    "  \t    index = grep(i, referId)\n",
    "  \t    index = referIndex[index[-1]]\n",
    "  \t    redundantIndex = c(redundantIndex, index)\n",
    "\t}\n",
    "\n",
    "    if(length(redundantIndex) > 0) {\n",
    "\t    keggReaction_unique = keggReaction[-redundantIndex,]\n",
    "    } else {\n",
    "        keggReaction_unique = keggReaction\n",
    "    }\n",
    "\t\n",
    "\tresult = list()\n",
    "\tresult[['reaction']] = keggReaction_unique\n",
    "\tresult[['compound']] = keggCompound\n",
    "    cat('# of reactions:', nrow(keggReaction_unique), '\\n')\n",
    "    cat('# of compounds:', nrow(keggCompound), '\\n')\n",
    "\treturn(result)\n",
    "}"
   ]
  },
  {
   "cell_type": "code",
   "execution_count": 17,
   "id": "4b7a9637-6234-47b1-98ae-b10e73ea0c94",
   "metadata": {},
   "outputs": [],
   "source": [
    "get.kegg.byId <-\n",
    "function(keggId) {\n",
    "    kegg = data.frame()\n",
    "    i = 1\n",
    "    while(i <= length(keggId)) {\n",
    "\n",
    "        cat('processing', keggId[i], '\\n')\n",
    "        query <- keggGet(keggId[i:(i+9)])\n",
    "\n",
    "        for(l in 1:length(query)) {\n",
    "\n",
    "            keggRow = query[[l]]\n",
    "    \n",
    "            for(j in names(keggRow)) {\n",
    "                if(j == 'DBLINKS') {\n",
    "                    for(k in 1:length(keggRow$DBLINKS)) {\n",
    "                        db = unlist(strsplit(keggRow$DBLINKS[k], ': '))[1]\n",
    "                        id = unlist(strsplit(keggRow$DBLINKS[k], ': '))[2]\n",
    "                        keggRow[[db]] = id\n",
    "                    }\n",
    "                } else if (j == 'PATHWAY') {\n",
    "                for(k in 1:length(keggRow$PATHWAY)) {\n",
    "                    keggRow$PATHWAY[k] = paste(names(keggRow$PATHWAY[k]), keggRow$PATHWAY[k], sep=': ')\n",
    "                }\n",
    "                keggRow$PATHWAY = paste(keggRow$PATHWAY, collapse='///')\n",
    "                } else if (j == 'REFERENCE') {\n",
    "                    keggRow$REFERENCE = paste(keggRow$REFERENCE[[1]]$REFERENCE, collapse='///')\n",
    "                } else {\n",
    "                    if(length(keggRow[[j]]) > 1) {\n",
    "                        keggRow[[j]] = paste(keggRow[[j]], collapse='///')\n",
    "                    }\n",
    "                }\n",
    "            }\n",
    "            keggRow[['DBLINKS']] = NULL\n",
    "            keggRow = as.data.frame(keggRow, stringsAsFactors=FALSE)\n",
    "            kegg = rbind.fill(kegg, keggRow)\n",
    "            kegg[is.na(kegg)] = ''\n",
    "        }\n",
    "        i = i + 10 \n",
    "    }\n",
    "    return(kegg)\n",
    "}"
   ]
  },
  {
   "cell_type": "code",
   "execution_count": 24,
   "id": "8867c9ae-6674-461e-89a1-68a26d355e8d",
   "metadata": {
    "scrolled": true
   },
   "outputs": [
    {
     "ename": "ERROR",
     "evalue": "Error in get.kegg.all(): could not find function \"get.kegg.all\"\n",
     "output_type": "error",
     "traceback": [
      "Error in get.kegg.all(): could not find function \"get.kegg.all\"\nTraceback:\n"
     ]
    }
   ],
   "source": [
    "keggAll = get.kegg.all()"
   ]
  },
  {
   "cell_type": "code",
   "execution_count": null,
   "id": "79763d5b-fb6a-4dc2-ae49-a13bf077483a",
   "metadata": {},
   "outputs": [],
   "source": []
  },
  {
   "cell_type": "code",
   "execution_count": 1,
   "id": "eb0dc5e4-2416-4bda-badc-2976c8b671d9",
   "metadata": {},
   "outputs": [
    {
     "ename": "ERROR",
     "evalue": "Error in save(keggAll, file = \"/data/db/KEGG-daixie.rda\"): object ‘keggAll’ not found\n",
     "output_type": "error",
     "traceback": [
      "Error in save(keggAll, file = \"/data/db/KEGG-daixie.rda\"): object ‘keggAll’ not found\nTraceback:\n",
      "1. save(keggAll, file = \"/data/db/KEGG-daixie.rda\")",
      "2. stop(sprintf(ngettext(n, \"object %s not found\", \"objects %s not found\"), \n .     paste(sQuote(list[!ok]), collapse = \", \")), domain = NA)"
     ]
    }
   ],
   "source": [
    "save(keggAll,file = '/data/db/KEGG-daixie.rda')"
   ]
  },
  {
   "cell_type": "code",
   "execution_count": 14,
   "id": "ddfdc886-920d-4fb7-a4eb-00497439d9c3",
   "metadata": {},
   "outputs": [
    {
     "data": {
      "text/html": [
       "<style>\n",
       ".list-inline {list-style: none; margin:0; padding: 0}\n",
       ".list-inline>li {display: inline-block}\n",
       ".list-inline>li:not(:last-child)::after {content: \"\\00b7\"; padding: 0 .5ex}\n",
       "</style>\n",
       "<ol class=list-inline><li>'ENTRY'</li><li>'NAME'</li><li>'FORMULA'</li><li>'EXACT_MASS'</li><li>'MOL_WEIGHT'</li><li>'REMARK'</li><li>'REACTION'</li><li>'PATHWAY'</li><li>'MODULE'</li><li>'NETWORK'</li><li>'ENZYME'</li><li>'BRITE'</li><li>'ATOM'</li><li>'BOND'</li><li>'CAS'</li><li>'PubChem'</li><li>'ChEBI'</li><li>'PDB.CCD'</li><li>'X3DMET'</li><li>'NIKKAJI'</li><li>'KNApSAcK'</li><li>'COMMENT'</li><li>'BRACKET'</li><li>'LIPIDMAPS'</li><li>'SEQUENCE'</li></ol>\n"
      ],
      "text/latex": [
       "\\begin{enumerate*}\n",
       "\\item 'ENTRY'\n",
       "\\item 'NAME'\n",
       "\\item 'FORMULA'\n",
       "\\item 'EXACT\\_MASS'\n",
       "\\item 'MOL\\_WEIGHT'\n",
       "\\item 'REMARK'\n",
       "\\item 'REACTION'\n",
       "\\item 'PATHWAY'\n",
       "\\item 'MODULE'\n",
       "\\item 'NETWORK'\n",
       "\\item 'ENZYME'\n",
       "\\item 'BRITE'\n",
       "\\item 'ATOM'\n",
       "\\item 'BOND'\n",
       "\\item 'CAS'\n",
       "\\item 'PubChem'\n",
       "\\item 'ChEBI'\n",
       "\\item 'PDB.CCD'\n",
       "\\item 'X3DMET'\n",
       "\\item 'NIKKAJI'\n",
       "\\item 'KNApSAcK'\n",
       "\\item 'COMMENT'\n",
       "\\item 'BRACKET'\n",
       "\\item 'LIPIDMAPS'\n",
       "\\item 'SEQUENCE'\n",
       "\\end{enumerate*}\n"
      ],
      "text/markdown": [
       "1. 'ENTRY'\n",
       "2. 'NAME'\n",
       "3. 'FORMULA'\n",
       "4. 'EXACT_MASS'\n",
       "5. 'MOL_WEIGHT'\n",
       "6. 'REMARK'\n",
       "7. 'REACTION'\n",
       "8. 'PATHWAY'\n",
       "9. 'MODULE'\n",
       "10. 'NETWORK'\n",
       "11. 'ENZYME'\n",
       "12. 'BRITE'\n",
       "13. 'ATOM'\n",
       "14. 'BOND'\n",
       "15. 'CAS'\n",
       "16. 'PubChem'\n",
       "17. 'ChEBI'\n",
       "18. 'PDB.CCD'\n",
       "19. 'X3DMET'\n",
       "20. 'NIKKAJI'\n",
       "21. 'KNApSAcK'\n",
       "22. 'COMMENT'\n",
       "23. 'BRACKET'\n",
       "24. 'LIPIDMAPS'\n",
       "25. 'SEQUENCE'\n",
       "\n",
       "\n"
      ],
      "text/plain": [
       " [1] \"ENTRY\"      \"NAME\"       \"FORMULA\"    \"EXACT_MASS\" \"MOL_WEIGHT\"\n",
       " [6] \"REMARK\"     \"REACTION\"   \"PATHWAY\"    \"MODULE\"     \"NETWORK\"   \n",
       "[11] \"ENZYME\"     \"BRITE\"      \"ATOM\"       \"BOND\"       \"CAS\"       \n",
       "[16] \"PubChem\"    \"ChEBI\"      \"PDB.CCD\"    \"X3DMET\"     \"NIKKAJI\"   \n",
       "[21] \"KNApSAcK\"   \"COMMENT\"    \"BRACKET\"    \"LIPIDMAPS\"  \"SEQUENCE\"  "
      ]
     },
     "metadata": {},
     "output_type": "display_data"
    }
   ],
   "source": [
    "colnames(keggAll$compound)"
   ]
  },
  {
   "cell_type": "code",
   "execution_count": null,
   "id": "9ebdc496-f1bf-4ca6-bbb2-4af9986056cf",
   "metadata": {},
   "outputs": [],
   "source": []
  },
  {
   "cell_type": "code",
   "execution_count": null,
   "id": "938a24a1-a94f-4ae2-9dca-3de50f767be9",
   "metadata": {},
   "outputs": [],
   "source": []
  },
  {
   "cell_type": "code",
   "execution_count": null,
   "id": "35ab0269-cdc3-4216-99dd-5ee01066c574",
   "metadata": {},
   "outputs": [],
   "source": []
  },
  {
   "cell_type": "code",
   "execution_count": null,
   "id": "cd77e5fd-2ff7-466e-a06c-a64a93e38126",
   "metadata": {},
   "outputs": [],
   "source": []
  },
  {
   "cell_type": "code",
   "execution_count": null,
   "id": "31dd84fe-f1bb-43bc-b708-53b176de7b47",
   "metadata": {},
   "outputs": [],
   "source": []
  },
  {
   "cell_type": "code",
   "execution_count": null,
   "id": "ee4adf90-59c0-49a6-a92d-659a442721b9",
   "metadata": {},
   "outputs": [],
   "source": []
  },
  {
   "cell_type": "code",
   "execution_count": null,
   "id": "1e82ae98-bba1-4f6f-8cd7-0d0605562e40",
   "metadata": {},
   "outputs": [],
   "source": []
  },
  {
   "cell_type": "code",
   "execution_count": null,
   "id": "db0fad20-5e80-4211-a5e2-783429bc4d15",
   "metadata": {},
   "outputs": [],
   "source": []
  },
  {
   "cell_type": "code",
   "execution_count": 25,
   "id": "d8d04ab5-e56e-4c83-b2a7-0f8b06751bc6",
   "metadata": {},
   "outputs": [],
   "source": [
    "load('/data/db/KEGG-daixie.rda')"
   ]
  },
  {
   "cell_type": "code",
   "execution_count": null,
   "id": "5ee10086-3eb0-44b3-bb93-f9da9e182379",
   "metadata": {},
   "outputs": [],
   "source": []
  },
  {
   "cell_type": "code",
   "execution_count": 35,
   "id": "045e852b-8385-4bb1-8085-c4ddf38db035",
   "metadata": {},
   "outputs": [],
   "source": [
    "load(\"statistical_analysis/WT-CLPvsWT-NC/object_final\")"
   ]
  },
  {
   "cell_type": "code",
   "execution_count": 36,
   "id": "fdacd042-ff9c-402a-8d35-29e7ce05a626",
   "metadata": {},
   "outputs": [],
   "source": [
    "library(dplyr)"
   ]
  },
  {
   "cell_type": "code",
   "execution_count": 37,
   "id": "ba13a8ba-1933-4d11-a4ec-f9b81fae7ce7",
   "metadata": {},
   "outputs": [],
   "source": [
    ".libPaths(c(\"/root/miniconda3/envs/metadoc/lib/R/library\",'/root/miniconda3/envs/Rdoc/lib/R/library'))\n",
    "library(massconverter)\n",
    "library(tidymass)"
   ]
  },
  {
   "cell_type": "code",
   "execution_count": 38,
   "id": "e957cb39-7965-4836-a20a-2be77397c8de",
   "metadata": {},
   "outputs": [
    {
     "data": {
      "text/html": [
       "<style>\n",
       ".list-inline {list-style: none; margin:0; padding: 0}\n",
       ".list-inline>li {display: inline-block}\n",
       ".list-inline>li:not(:last-child)::after {content: \"\\00b7\"; padding: 0 .5ex}\n",
       "</style>\n",
       "<ol class=list-inline><li>2500</li><li>31</li></ol>\n"
      ],
      "text/latex": [
       "\\begin{enumerate*}\n",
       "\\item 2500\n",
       "\\item 31\n",
       "\\end{enumerate*}\n"
      ],
      "text/markdown": [
       "1. 2500\n",
       "2. 31\n",
       "\n",
       "\n"
      ],
      "text/plain": [
       "[1] 2500   31"
      ]
     },
     "metadata": {},
     "output_type": "display_data"
    }
   ],
   "source": [
    "dir.create(path = \"pathway_enrichment\", showWarnings = FALSE)\n",
    "\n",
    "diff_metabolites <- object_final %>% \n",
    "  activate_mass_dataset(what = \"variable_info\") %>% \n",
    "  filter(p_value < 5) %>% \n",
    "  extract_variable_info()\n",
    "dim(diff_metabolites)"
   ]
  },
  {
   "cell_type": "code",
   "execution_count": 20,
   "id": "37194793-d41d-44d0-8665-54b24b3a5662",
   "metadata": {},
   "outputs": [],
   "source": [
    "data(\"kegg_hsa_pathway\", package = \"metpath\")"
   ]
  },
  {
   "cell_type": "code",
   "execution_count": 21,
   "id": "0f99873c-f4f3-4512-ba76-bc59f58bb610",
   "metadata": {},
   "outputs": [
    {
     "name": "stderr",
     "output_type": "stream",
     "text": [
      "\u001b[32m---------Pathway source&version---------\u001b[39m\n",
      "\n",
      "\u001b[32mKEGG  &  2021-12-13\u001b[39m\n",
      "\n",
      "\u001b[32m-----------Pathway information------------\u001b[39m\n",
      "\n",
      "\u001b[32m345  pathways\u001b[39m\n",
      "\n",
      "\u001b[32m334  pathways have genes\u001b[39m\n",
      "\n",
      "\u001b[32m0  pathways have proteins\u001b[39m\n",
      "\n",
      "\u001b[32m281  pathways have compounds\u001b[39m\n",
      "\n",
      "\u001b[32mPathway class (top 10): Metabolism; Carbohydrate metabolism;Metabolism; Lipid metabolism\u001b[39m\n",
      "\n"
     ]
    }
   ],
   "source": [
    "kegg_hsa_pathway"
   ]
  },
  {
   "cell_type": "code",
   "execution_count": 22,
   "id": "ad275f8d-ace0-4529-a5bd-48e24d63e187",
   "metadata": {
    "scrolled": true
   },
   "outputs": [
    {
     "data": {
      "text/html": [
       "<table class=\"dataframe\">\n",
       "<caption>A tibble: 43 × 2</caption>\n",
       "<thead>\n",
       "\t<tr><th scope=col>class</th><th scope=col>n</th></tr>\n",
       "\t<tr><th scope=col>&lt;chr&gt;</th><th scope=col>&lt;int&gt;</th></tr>\n",
       "</thead>\n",
       "<tbody>\n",
       "\t<tr><td>Cellular Processes; Cell growth and death                                </td><td> 8</td></tr>\n",
       "\t<tr><td>Cellular Processes; Cell motility                                        </td><td> 1</td></tr>\n",
       "\t<tr><td>Cellular Processes; Cellular community - eukaryotes                      </td><td> 5</td></tr>\n",
       "\t<tr><td>Cellular Processes; Transport and catabolism                             </td><td> 7</td></tr>\n",
       "\t<tr><td>Environmental Information Processing; Membrane transport                 </td><td> 1</td></tr>\n",
       "\t<tr><td>Environmental Information Processing; Signal transduction                </td><td>26</td></tr>\n",
       "\t<tr><td>Environmental Information Processing; Signaling molecules and interaction</td><td> 5</td></tr>\n",
       "\t<tr><td>Genetic Information Processing; Folding, sorting and degradation         </td><td> 7</td></tr>\n",
       "\t<tr><td>Genetic Information Processing; Replication and repair                   </td><td> 7</td></tr>\n",
       "\t<tr><td>Genetic Information Processing; Transcription                            </td><td> 3</td></tr>\n",
       "\t<tr><td>Genetic Information Processing; Translation                              </td><td> 5</td></tr>\n",
       "\t<tr><td>Human Diseases; Cancer: overview                                         </td><td>11</td></tr>\n",
       "\t<tr><td>Human Diseases; Cancer: specific types                                   </td><td>17</td></tr>\n",
       "\t<tr><td>Human Diseases; Cardiovascular disease                                   </td><td> 7</td></tr>\n",
       "\t<tr><td>Human Diseases; Drug resistance: antineoplastic                          </td><td> 4</td></tr>\n",
       "\t<tr><td>Human Diseases; Endocrine and metabolic disease                          </td><td> 8</td></tr>\n",
       "\t<tr><td>Human Diseases; Immune disease                                           </td><td> 8</td></tr>\n",
       "\t<tr><td>Human Diseases; Infectious disease: bacterial                            </td><td>11</td></tr>\n",
       "\t<tr><td>Human Diseases; Infectious disease: parasitic                            </td><td> 6</td></tr>\n",
       "\t<tr><td>Human Diseases; Infectious disease: viral                                </td><td>12</td></tr>\n",
       "\t<tr><td>Human Diseases; Neurodegenerative disease                                </td><td> 7</td></tr>\n",
       "\t<tr><td>Human Diseases; Substance dependence                                     </td><td> 5</td></tr>\n",
       "\t<tr><td>Metabolism; Amino acid metabolism                                        </td><td>13</td></tr>\n",
       "\t<tr><td>Metabolism; Biosynthesis of other secondary metabolites                  </td><td> 2</td></tr>\n",
       "\t<tr><td>Metabolism; Carbohydrate metabolism                                      </td><td>14</td></tr>\n",
       "\t<tr><td>Metabolism; Energy metabolism                                            </td><td> 3</td></tr>\n",
       "\t<tr><td>Metabolism; Glycan biosynthesis and metabolism                           </td><td>14</td></tr>\n",
       "\t<tr><td>Metabolism; Lipid metabolism                                             </td><td>14</td></tr>\n",
       "\t<tr><td>Metabolism; Metabolism of cofactors and vitamins                         </td><td>12</td></tr>\n",
       "\t<tr><td>Metabolism; Metabolism of other amino acids                              </td><td> 6</td></tr>\n",
       "\t<tr><td>Metabolism; Metabolism of terpenoids and polyketides                     </td><td> 1</td></tr>\n",
       "\t<tr><td>Metabolism; Nucleotide metabolism                                        </td><td> 2</td></tr>\n",
       "\t<tr><td>Metabolism; Xenobiotics biodegradation and metabolism                    </td><td> 3</td></tr>\n",
       "\t<tr><td>Organismal Systems; Aging                                                </td><td> 2</td></tr>\n",
       "\t<tr><td>Organismal Systems; Circulatory system                                   </td><td> 3</td></tr>\n",
       "\t<tr><td>Organismal Systems; Development and regeneration                         </td><td> 2</td></tr>\n",
       "\t<tr><td>Organismal Systems; Digestive system                                     </td><td>10</td></tr>\n",
       "\t<tr><td>Organismal Systems; Endocrine system                                     </td><td>23</td></tr>\n",
       "\t<tr><td>Organismal Systems; Environmental adaptation                             </td><td> 3</td></tr>\n",
       "\t<tr><td>Organismal Systems; Excretory system                                     </td><td> 5</td></tr>\n",
       "\t<tr><td>Organismal Systems; Immune system                                        </td><td>21</td></tr>\n",
       "\t<tr><td>Organismal Systems; Nervous system                                       </td><td>10</td></tr>\n",
       "\t<tr><td>Organismal Systems; Sensory system                                       </td><td> 4</td></tr>\n",
       "</tbody>\n",
       "</table>\n"
      ],
      "text/latex": [
       "A tibble: 43 × 2\n",
       "\\begin{tabular}{ll}\n",
       " class & n\\\\\n",
       " <chr> & <int>\\\\\n",
       "\\hline\n",
       "\t Cellular Processes; Cell growth and death                                 &  8\\\\\n",
       "\t Cellular Processes; Cell motility                                         &  1\\\\\n",
       "\t Cellular Processes; Cellular community - eukaryotes                       &  5\\\\\n",
       "\t Cellular Processes; Transport and catabolism                              &  7\\\\\n",
       "\t Environmental Information Processing; Membrane transport                  &  1\\\\\n",
       "\t Environmental Information Processing; Signal transduction                 & 26\\\\\n",
       "\t Environmental Information Processing; Signaling molecules and interaction &  5\\\\\n",
       "\t Genetic Information Processing; Folding, sorting and degradation          &  7\\\\\n",
       "\t Genetic Information Processing; Replication and repair                    &  7\\\\\n",
       "\t Genetic Information Processing; Transcription                             &  3\\\\\n",
       "\t Genetic Information Processing; Translation                               &  5\\\\\n",
       "\t Human Diseases; Cancer: overview                                          & 11\\\\\n",
       "\t Human Diseases; Cancer: specific types                                    & 17\\\\\n",
       "\t Human Diseases; Cardiovascular disease                                    &  7\\\\\n",
       "\t Human Diseases; Drug resistance: antineoplastic                           &  4\\\\\n",
       "\t Human Diseases; Endocrine and metabolic disease                           &  8\\\\\n",
       "\t Human Diseases; Immune disease                                            &  8\\\\\n",
       "\t Human Diseases; Infectious disease: bacterial                             & 11\\\\\n",
       "\t Human Diseases; Infectious disease: parasitic                             &  6\\\\\n",
       "\t Human Diseases; Infectious disease: viral                                 & 12\\\\\n",
       "\t Human Diseases; Neurodegenerative disease                                 &  7\\\\\n",
       "\t Human Diseases; Substance dependence                                      &  5\\\\\n",
       "\t Metabolism; Amino acid metabolism                                         & 13\\\\\n",
       "\t Metabolism; Biosynthesis of other secondary metabolites                   &  2\\\\\n",
       "\t Metabolism; Carbohydrate metabolism                                       & 14\\\\\n",
       "\t Metabolism; Energy metabolism                                             &  3\\\\\n",
       "\t Metabolism; Glycan biosynthesis and metabolism                            & 14\\\\\n",
       "\t Metabolism; Lipid metabolism                                              & 14\\\\\n",
       "\t Metabolism; Metabolism of cofactors and vitamins                          & 12\\\\\n",
       "\t Metabolism; Metabolism of other amino acids                               &  6\\\\\n",
       "\t Metabolism; Metabolism of terpenoids and polyketides                      &  1\\\\\n",
       "\t Metabolism; Nucleotide metabolism                                         &  2\\\\\n",
       "\t Metabolism; Xenobiotics biodegradation and metabolism                     &  3\\\\\n",
       "\t Organismal Systems; Aging                                                 &  2\\\\\n",
       "\t Organismal Systems; Circulatory system                                    &  3\\\\\n",
       "\t Organismal Systems; Development and regeneration                          &  2\\\\\n",
       "\t Organismal Systems; Digestive system                                      & 10\\\\\n",
       "\t Organismal Systems; Endocrine system                                      & 23\\\\\n",
       "\t Organismal Systems; Environmental adaptation                              &  3\\\\\n",
       "\t Organismal Systems; Excretory system                                      &  5\\\\\n",
       "\t Organismal Systems; Immune system                                         & 21\\\\\n",
       "\t Organismal Systems; Nervous system                                        & 10\\\\\n",
       "\t Organismal Systems; Sensory system                                        &  4\\\\\n",
       "\\end{tabular}\n"
      ],
      "text/markdown": [
       "\n",
       "A tibble: 43 × 2\n",
       "\n",
       "| class &lt;chr&gt; | n &lt;int&gt; |\n",
       "|---|---|\n",
       "| Cellular Processes; Cell growth and death                                 |  8 |\n",
       "| Cellular Processes; Cell motility                                         |  1 |\n",
       "| Cellular Processes; Cellular community - eukaryotes                       |  5 |\n",
       "| Cellular Processes; Transport and catabolism                              |  7 |\n",
       "| Environmental Information Processing; Membrane transport                  |  1 |\n",
       "| Environmental Information Processing; Signal transduction                 | 26 |\n",
       "| Environmental Information Processing; Signaling molecules and interaction |  5 |\n",
       "| Genetic Information Processing; Folding, sorting and degradation          |  7 |\n",
       "| Genetic Information Processing; Replication and repair                    |  7 |\n",
       "| Genetic Information Processing; Transcription                             |  3 |\n",
       "| Genetic Information Processing; Translation                               |  5 |\n",
       "| Human Diseases; Cancer: overview                                          | 11 |\n",
       "| Human Diseases; Cancer: specific types                                    | 17 |\n",
       "| Human Diseases; Cardiovascular disease                                    |  7 |\n",
       "| Human Diseases; Drug resistance: antineoplastic                           |  4 |\n",
       "| Human Diseases; Endocrine and metabolic disease                           |  8 |\n",
       "| Human Diseases; Immune disease                                            |  8 |\n",
       "| Human Diseases; Infectious disease: bacterial                             | 11 |\n",
       "| Human Diseases; Infectious disease: parasitic                             |  6 |\n",
       "| Human Diseases; Infectious disease: viral                                 | 12 |\n",
       "| Human Diseases; Neurodegenerative disease                                 |  7 |\n",
       "| Human Diseases; Substance dependence                                      |  5 |\n",
       "| Metabolism; Amino acid metabolism                                         | 13 |\n",
       "| Metabolism; Biosynthesis of other secondary metabolites                   |  2 |\n",
       "| Metabolism; Carbohydrate metabolism                                       | 14 |\n",
       "| Metabolism; Energy metabolism                                             |  3 |\n",
       "| Metabolism; Glycan biosynthesis and metabolism                            | 14 |\n",
       "| Metabolism; Lipid metabolism                                              | 14 |\n",
       "| Metabolism; Metabolism of cofactors and vitamins                          | 12 |\n",
       "| Metabolism; Metabolism of other amino acids                               |  6 |\n",
       "| Metabolism; Metabolism of terpenoids and polyketides                      |  1 |\n",
       "| Metabolism; Nucleotide metabolism                                         |  2 |\n",
       "| Metabolism; Xenobiotics biodegradation and metabolism                     |  3 |\n",
       "| Organismal Systems; Aging                                                 |  2 |\n",
       "| Organismal Systems; Circulatory system                                    |  3 |\n",
       "| Organismal Systems; Development and regeneration                          |  2 |\n",
       "| Organismal Systems; Digestive system                                      | 10 |\n",
       "| Organismal Systems; Endocrine system                                      | 23 |\n",
       "| Organismal Systems; Environmental adaptation                              |  3 |\n",
       "| Organismal Systems; Excretory system                                      |  5 |\n",
       "| Organismal Systems; Immune system                                         | 21 |\n",
       "| Organismal Systems; Nervous system                                        | 10 |\n",
       "| Organismal Systems; Sensory system                                        |  4 |\n",
       "\n"
      ],
      "text/plain": [
       "   class                                                                     n \n",
       "1  Cellular Processes; Cell growth and death                                  8\n",
       "2  Cellular Processes; Cell motility                                          1\n",
       "3  Cellular Processes; Cellular community - eukaryotes                        5\n",
       "4  Cellular Processes; Transport and catabolism                               7\n",
       "5  Environmental Information Processing; Membrane transport                   1\n",
       "6  Environmental Information Processing; Signal transduction                 26\n",
       "7  Environmental Information Processing; Signaling molecules and interaction  5\n",
       "8  Genetic Information Processing; Folding, sorting and degradation           7\n",
       "9  Genetic Information Processing; Replication and repair                     7\n",
       "10 Genetic Information Processing; Transcription                              3\n",
       "11 Genetic Information Processing; Translation                                5\n",
       "12 Human Diseases; Cancer: overview                                          11\n",
       "13 Human Diseases; Cancer: specific types                                    17\n",
       "14 Human Diseases; Cardiovascular disease                                     7\n",
       "15 Human Diseases; Drug resistance: antineoplastic                            4\n",
       "16 Human Diseases; Endocrine and metabolic disease                            8\n",
       "17 Human Diseases; Immune disease                                             8\n",
       "18 Human Diseases; Infectious disease: bacterial                             11\n",
       "19 Human Diseases; Infectious disease: parasitic                              6\n",
       "20 Human Diseases; Infectious disease: viral                                 12\n",
       "21 Human Diseases; Neurodegenerative disease                                  7\n",
       "22 Human Diseases; Substance dependence                                       5\n",
       "23 Metabolism; Amino acid metabolism                                         13\n",
       "24 Metabolism; Biosynthesis of other secondary metabolites                    2\n",
       "25 Metabolism; Carbohydrate metabolism                                       14\n",
       "26 Metabolism; Energy metabolism                                              3\n",
       "27 Metabolism; Glycan biosynthesis and metabolism                            14\n",
       "28 Metabolism; Lipid metabolism                                              14\n",
       "29 Metabolism; Metabolism of cofactors and vitamins                          12\n",
       "30 Metabolism; Metabolism of other amino acids                                6\n",
       "31 Metabolism; Metabolism of terpenoids and polyketides                       1\n",
       "32 Metabolism; Nucleotide metabolism                                          2\n",
       "33 Metabolism; Xenobiotics biodegradation and metabolism                      3\n",
       "34 Organismal Systems; Aging                                                  2\n",
       "35 Organismal Systems; Circulatory system                                     3\n",
       "36 Organismal Systems; Development and regeneration                           2\n",
       "37 Organismal Systems; Digestive system                                      10\n",
       "38 Organismal Systems; Endocrine system                                      23\n",
       "39 Organismal Systems; Environmental adaptation                               3\n",
       "40 Organismal Systems; Excretory system                                       5\n",
       "41 Organismal Systems; Immune system                                         21\n",
       "42 Organismal Systems; Nervous system                                        10\n",
       "43 Organismal Systems; Sensory system                                         4"
      ]
     },
     "metadata": {},
     "output_type": "display_data"
    },
    {
     "data": {
      "text/html": [
       "<dl>\n",
       "\t<dt>$hsa00010</dt>\n",
       "\t\t<dd>'Metabolism; Carbohydrate metabolism'</dd>\n",
       "\t<dt>$hsa00020</dt>\n",
       "\t\t<dd>'Metabolism; Carbohydrate metabolism'</dd>\n",
       "\t<dt>$hsa00030</dt>\n",
       "\t\t<dd>'Metabolism; Carbohydrate metabolism'</dd>\n",
       "\t<dt>$hsa00040</dt>\n",
       "\t\t<dd>'Metabolism; Carbohydrate metabolism'</dd>\n",
       "\t<dt>$hsa00051</dt>\n",
       "\t\t<dd>'Metabolism; Carbohydrate metabolism'</dd>\n",
       "\t<dt>$hsa00052</dt>\n",
       "\t\t<dd>'Metabolism; Carbohydrate metabolism'</dd>\n",
       "</dl>\n"
      ],
      "text/latex": [
       "\\begin{description}\n",
       "\\item[\\$hsa00010] 'Metabolism; Carbohydrate metabolism'\n",
       "\\item[\\$hsa00020] 'Metabolism; Carbohydrate metabolism'\n",
       "\\item[\\$hsa00030] 'Metabolism; Carbohydrate metabolism'\n",
       "\\item[\\$hsa00040] 'Metabolism; Carbohydrate metabolism'\n",
       "\\item[\\$hsa00051] 'Metabolism; Carbohydrate metabolism'\n",
       "\\item[\\$hsa00052] 'Metabolism; Carbohydrate metabolism'\n",
       "\\end{description}\n"
      ],
      "text/markdown": [
       "$hsa00010\n",
       ":   'Metabolism; Carbohydrate metabolism'\n",
       "$hsa00020\n",
       ":   'Metabolism; Carbohydrate metabolism'\n",
       "$hsa00030\n",
       ":   'Metabolism; Carbohydrate metabolism'\n",
       "$hsa00040\n",
       ":   'Metabolism; Carbohydrate metabolism'\n",
       "$hsa00051\n",
       ":   'Metabolism; Carbohydrate metabolism'\n",
       "$hsa00052\n",
       ":   'Metabolism; Carbohydrate metabolism'\n",
       "\n",
       "\n"
      ],
      "text/plain": [
       "$hsa00010\n",
       "[1] \"Metabolism; Carbohydrate metabolism\"\n",
       "\n",
       "$hsa00020\n",
       "[1] \"Metabolism; Carbohydrate metabolism\"\n",
       "\n",
       "$hsa00030\n",
       "[1] \"Metabolism; Carbohydrate metabolism\"\n",
       "\n",
       "$hsa00040\n",
       "[1] \"Metabolism; Carbohydrate metabolism\"\n",
       "\n",
       "$hsa00051\n",
       "[1] \"Metabolism; Carbohydrate metabolism\"\n",
       "\n",
       "$hsa00052\n",
       "[1] \"Metabolism; Carbohydrate metabolism\"\n"
      ]
     },
     "metadata": {},
     "output_type": "display_data"
    }
   ],
   "source": [
    "get_pathway_class(kegg_hsa_pathway)\n",
    "# 移除疾病相关通路!根据课题选择是否移除？\n",
    "pathway_class = metpath::pathway_class(kegg_hsa_pathway)\n",
    "head(pathway_class)\n",
    "remain_idx = pathway_class %>% unlist() %>% stringr::str_detect(\"Disease\") %>% `!`() %>% which()\n"
   ]
  },
  {
   "cell_type": "code",
   "execution_count": 23,
   "id": "ba93cb0c-cae0-478b-b16e-5349b82312d0",
   "metadata": {},
   "outputs": [
    {
     "data": {
      "text/html": [
       "242"
      ],
      "text/latex": [
       "242"
      ],
      "text/markdown": [
       "242"
      ],
      "text/plain": [
       "[1] 242"
      ]
     },
     "metadata": {},
     "output_type": "display_data"
    }
   ],
   "source": [
    "length(remain_idx)"
   ]
  },
  {
   "cell_type": "code",
   "execution_count": 24,
   "id": "1814b35b-234b-4e0b-b343-91615f419a95",
   "metadata": {},
   "outputs": [
    {
     "data": {
      "text/html": [
       "345"
      ],
      "text/latex": [
       "345"
      ],
      "text/markdown": [
       "345"
      ],
      "text/plain": [
       "[1] 345"
      ]
     },
     "metadata": {},
     "output_type": "display_data"
    }
   ],
   "source": [
    "length(pathway_class)"
   ]
  },
  {
   "cell_type": "code",
   "execution_count": 25,
   "id": "9d2883cd-fe1a-494d-8c65-2416b07e9c6b",
   "metadata": {
    "scrolled": true
   },
   "outputs": [
    {
     "name": "stderr",
     "output_type": "stream",
     "text": [
      "\u001b[32m---------Pathway source&version---------\u001b[39m\n",
      "\n",
      "\u001b[32mKEGG  &  2021-12-13\u001b[39m\n",
      "\n",
      "\u001b[32m-----------Pathway information------------\u001b[39m\n",
      "\n",
      "\u001b[32m242  pathways\u001b[39m\n",
      "\n",
      "\u001b[32m235  pathways have genes\u001b[39m\n",
      "\n",
      "\u001b[32m0  pathways have proteins\u001b[39m\n",
      "\n",
      "\u001b[32m191  pathways have compounds\u001b[39m\n",
      "\n",
      "\u001b[32mPathway class (top 10): Metabolism; Carbohydrate metabolism;Metabolism; Lipid metabolism\u001b[39m\n",
      "\n"
     ]
    }
   ],
   "source": [
    "pathway_database = kegg_hsa_pathway[remain_idx]\n",
    "pathway_database"
   ]
  },
  {
   "cell_type": "code",
   "execution_count": 26,
   "id": "8efc8e57-435c-4888-96f9-2b4b04cc3422",
   "metadata": {},
   "outputs": [],
   "source": [
    "kegg_id <-  diff_metabolites$KEGG.ID \n",
    "kegg_id <-  kegg_id[!is.na(kegg_id)]"
   ]
  },
  {
   "cell_type": "code",
   "execution_count": 27,
   "id": "af372a02-2243-49f7-b67f-e6d3c9fb32cc",
   "metadata": {},
   "outputs": [
    {
     "data": {
      "text/html": [
       "90"
      ],
      "text/latex": [
       "90"
      ],
      "text/markdown": [
       "90"
      ],
      "text/plain": [
       "[1] 90"
      ]
     },
     "metadata": {},
     "output_type": "display_data"
    }
   ],
   "source": [
    "length(kegg_id)"
   ]
  },
  {
   "cell_type": "code",
   "execution_count": 28,
   "id": "fc1566a4-ea48-48fa-afbf-ee621d314ffb",
   "metadata": {},
   "outputs": [
    {
     "data": {
      "text/html": [
       "<style>\n",
       ".list-inline {list-style: none; margin:0; padding: 0}\n",
       ".list-inline>li {display: inline-block}\n",
       ".list-inline>li:not(:last-child)::after {content: \"\\00b7\"; padding: 0 .5ex}\n",
       "</style>\n",
       "<ol class=list-inline><li>'C00429'</li><li>'C03972'</li><li>'C03352'</li><li>'C06317'</li><li>'C02018'</li><li>'C08733'</li><li>'C15699'</li><li>'C00198'</li><li>'C07194'</li><li>'C20581'</li><li>'C10575'</li><li>'C07826'</li><li>'C05817'</li><li>'C10909'</li><li>'C12958'</li><li>'C16692'</li><li>'C11080'</li><li>'C09808'</li><li>'C11766'</li><li>'C07196'</li><li>'C06871'</li><li>'C09171'</li><li>'C22072'</li><li>'C16506'</li><li>'C06874'</li><li>'C06852'</li><li>'C01314'</li><li>'C13829'</li><li>'C00061'</li><li>'C11379'</li><li>'C20337'</li><li>'C00503'</li><li>'C20254'</li><li>'C02271'</li><li>'C19485'</li><li>'C10144'</li><li>'C08372'</li><li>'C01756'</li><li>'C06899'</li><li>'C02419'</li><li>'C07099'</li><li>'C00059'</li><li>'C19789'</li><li>'C04744'</li><li>'C08051'</li><li>'C13594'</li><li>'C03142'</li><li>'C00294'</li><li>'C18688'</li><li>'C14571'</li><li>'C16457'</li><li>'C18666'</li><li>'C16598'</li><li>'C16182'</li><li>'C00940'</li><li>'C04178'</li><li>'C14333'</li><li>'C11110'</li><li>'C07843'</li><li>'C17718'</li><li>'C05841'</li><li>'C07246'</li><li>'C05382'</li><li>'C14427'</li><li>'C16518'</li><li>'C00360'</li><li>'C17364'</li><li>'C11320'</li><li>'C10912'</li><li>'C04415'</li><li>'C04415'</li><li>'C08716'</li><li>'C05704'</li><li>'C21206'</li><li>'C09264'</li><li>'C16607'</li><li>'C18879'</li><li>'C11568'</li><li>'C17951'</li><li>'C08042'</li><li>'C11028'</li><li>'C04555'</li><li>'C04425'</li><li>'C18725'</li><li>'C02951'</li><li>'C14806'</li><li>'C11379'</li><li>'C05847'</li><li>'C17166'</li><li>'C08089'</li></ol>\n"
      ],
      "text/latex": [
       "\\begin{enumerate*}\n",
       "\\item 'C00429'\n",
       "\\item 'C03972'\n",
       "\\item 'C03352'\n",
       "\\item 'C06317'\n",
       "\\item 'C02018'\n",
       "\\item 'C08733'\n",
       "\\item 'C15699'\n",
       "\\item 'C00198'\n",
       "\\item 'C07194'\n",
       "\\item 'C20581'\n",
       "\\item 'C10575'\n",
       "\\item 'C07826'\n",
       "\\item 'C05817'\n",
       "\\item 'C10909'\n",
       "\\item 'C12958'\n",
       "\\item 'C16692'\n",
       "\\item 'C11080'\n",
       "\\item 'C09808'\n",
       "\\item 'C11766'\n",
       "\\item 'C07196'\n",
       "\\item 'C06871'\n",
       "\\item 'C09171'\n",
       "\\item 'C22072'\n",
       "\\item 'C16506'\n",
       "\\item 'C06874'\n",
       "\\item 'C06852'\n",
       "\\item 'C01314'\n",
       "\\item 'C13829'\n",
       "\\item 'C00061'\n",
       "\\item 'C11379'\n",
       "\\item 'C20337'\n",
       "\\item 'C00503'\n",
       "\\item 'C20254'\n",
       "\\item 'C02271'\n",
       "\\item 'C19485'\n",
       "\\item 'C10144'\n",
       "\\item 'C08372'\n",
       "\\item 'C01756'\n",
       "\\item 'C06899'\n",
       "\\item 'C02419'\n",
       "\\item 'C07099'\n",
       "\\item 'C00059'\n",
       "\\item 'C19789'\n",
       "\\item 'C04744'\n",
       "\\item 'C08051'\n",
       "\\item 'C13594'\n",
       "\\item 'C03142'\n",
       "\\item 'C00294'\n",
       "\\item 'C18688'\n",
       "\\item 'C14571'\n",
       "\\item 'C16457'\n",
       "\\item 'C18666'\n",
       "\\item 'C16598'\n",
       "\\item 'C16182'\n",
       "\\item 'C00940'\n",
       "\\item 'C04178'\n",
       "\\item 'C14333'\n",
       "\\item 'C11110'\n",
       "\\item 'C07843'\n",
       "\\item 'C17718'\n",
       "\\item 'C05841'\n",
       "\\item 'C07246'\n",
       "\\item 'C05382'\n",
       "\\item 'C14427'\n",
       "\\item 'C16518'\n",
       "\\item 'C00360'\n",
       "\\item 'C17364'\n",
       "\\item 'C11320'\n",
       "\\item 'C10912'\n",
       "\\item 'C04415'\n",
       "\\item 'C04415'\n",
       "\\item 'C08716'\n",
       "\\item 'C05704'\n",
       "\\item 'C21206'\n",
       "\\item 'C09264'\n",
       "\\item 'C16607'\n",
       "\\item 'C18879'\n",
       "\\item 'C11568'\n",
       "\\item 'C17951'\n",
       "\\item 'C08042'\n",
       "\\item 'C11028'\n",
       "\\item 'C04555'\n",
       "\\item 'C04425'\n",
       "\\item 'C18725'\n",
       "\\item 'C02951'\n",
       "\\item 'C14806'\n",
       "\\item 'C11379'\n",
       "\\item 'C05847'\n",
       "\\item 'C17166'\n",
       "\\item 'C08089'\n",
       "\\end{enumerate*}\n"
      ],
      "text/markdown": [
       "1. 'C00429'\n",
       "2. 'C03972'\n",
       "3. 'C03352'\n",
       "4. 'C06317'\n",
       "5. 'C02018'\n",
       "6. 'C08733'\n",
       "7. 'C15699'\n",
       "8. 'C00198'\n",
       "9. 'C07194'\n",
       "10. 'C20581'\n",
       "11. 'C10575'\n",
       "12. 'C07826'\n",
       "13. 'C05817'\n",
       "14. 'C10909'\n",
       "15. 'C12958'\n",
       "16. 'C16692'\n",
       "17. 'C11080'\n",
       "18. 'C09808'\n",
       "19. 'C11766'\n",
       "20. 'C07196'\n",
       "21. 'C06871'\n",
       "22. 'C09171'\n",
       "23. 'C22072'\n",
       "24. 'C16506'\n",
       "25. 'C06874'\n",
       "26. 'C06852'\n",
       "27. 'C01314'\n",
       "28. 'C13829'\n",
       "29. 'C00061'\n",
       "30. 'C11379'\n",
       "31. 'C20337'\n",
       "32. 'C00503'\n",
       "33. 'C20254'\n",
       "34. 'C02271'\n",
       "35. 'C19485'\n",
       "36. 'C10144'\n",
       "37. 'C08372'\n",
       "38. 'C01756'\n",
       "39. 'C06899'\n",
       "40. 'C02419'\n",
       "41. 'C07099'\n",
       "42. 'C00059'\n",
       "43. 'C19789'\n",
       "44. 'C04744'\n",
       "45. 'C08051'\n",
       "46. 'C13594'\n",
       "47. 'C03142'\n",
       "48. 'C00294'\n",
       "49. 'C18688'\n",
       "50. 'C14571'\n",
       "51. 'C16457'\n",
       "52. 'C18666'\n",
       "53. 'C16598'\n",
       "54. 'C16182'\n",
       "55. 'C00940'\n",
       "56. 'C04178'\n",
       "57. 'C14333'\n",
       "58. 'C11110'\n",
       "59. 'C07843'\n",
       "60. 'C17718'\n",
       "61. 'C05841'\n",
       "62. 'C07246'\n",
       "63. 'C05382'\n",
       "64. 'C14427'\n",
       "65. 'C16518'\n",
       "66. 'C00360'\n",
       "67. 'C17364'\n",
       "68. 'C11320'\n",
       "69. 'C10912'\n",
       "70. 'C04415'\n",
       "71. 'C04415'\n",
       "72. 'C08716'\n",
       "73. 'C05704'\n",
       "74. 'C21206'\n",
       "75. 'C09264'\n",
       "76. 'C16607'\n",
       "77. 'C18879'\n",
       "78. 'C11568'\n",
       "79. 'C17951'\n",
       "80. 'C08042'\n",
       "81. 'C11028'\n",
       "82. 'C04555'\n",
       "83. 'C04425'\n",
       "84. 'C18725'\n",
       "85. 'C02951'\n",
       "86. 'C14806'\n",
       "87. 'C11379'\n",
       "88. 'C05847'\n",
       "89. 'C17166'\n",
       "90. 'C08089'\n",
       "\n",
       "\n"
      ],
      "text/plain": [
       " [1] \"C00429\" \"C03972\" \"C03352\" \"C06317\" \"C02018\" \"C08733\" \"C15699\" \"C00198\"\n",
       " [9] \"C07194\" \"C20581\" \"C10575\" \"C07826\" \"C05817\" \"C10909\" \"C12958\" \"C16692\"\n",
       "[17] \"C11080\" \"C09808\" \"C11766\" \"C07196\" \"C06871\" \"C09171\" \"C22072\" \"C16506\"\n",
       "[25] \"C06874\" \"C06852\" \"C01314\" \"C13829\" \"C00061\" \"C11379\" \"C20337\" \"C00503\"\n",
       "[33] \"C20254\" \"C02271\" \"C19485\" \"C10144\" \"C08372\" \"C01756\" \"C06899\" \"C02419\"\n",
       "[41] \"C07099\" \"C00059\" \"C19789\" \"C04744\" \"C08051\" \"C13594\" \"C03142\" \"C00294\"\n",
       "[49] \"C18688\" \"C14571\" \"C16457\" \"C18666\" \"C16598\" \"C16182\" \"C00940\" \"C04178\"\n",
       "[57] \"C14333\" \"C11110\" \"C07843\" \"C17718\" \"C05841\" \"C07246\" \"C05382\" \"C14427\"\n",
       "[65] \"C16518\" \"C00360\" \"C17364\" \"C11320\" \"C10912\" \"C04415\" \"C04415\" \"C08716\"\n",
       "[73] \"C05704\" \"C21206\" \"C09264\" \"C16607\" \"C18879\" \"C11568\" \"C17951\" \"C08042\"\n",
       "[81] \"C11028\" \"C04555\" \"C04425\" \"C18725\" \"C02951\" \"C14806\" \"C11379\" \"C05847\"\n",
       "[89] \"C17166\" \"C08089\""
      ]
     },
     "metadata": {},
     "output_type": "display_data"
    }
   ],
   "source": [
    "kegg_id"
   ]
  },
  {
   "cell_type": "code",
   "execution_count": 29,
   "id": "0b171808-2276-470a-be67-ece73a51b513",
   "metadata": {},
   "outputs": [],
   "source": [
    "lm = read.table('./statistical_analysis/ls.txt',header = T,sep = '\\t')"
   ]
  },
  {
   "cell_type": "code",
   "execution_count": 31,
   "id": "e704dc81-bf17-4a49-ace9-e7da3979d432",
   "metadata": {},
   "outputs": [
    {
     "data": {
      "text/html": [
       "'C14806'"
      ],
      "text/latex": [
       "'C14806'"
      ],
      "text/markdown": [
       "'C14806'"
      ],
      "text/plain": [
       "[1] \"C14806\""
      ]
     },
     "metadata": {},
     "output_type": "display_data"
    }
   ],
   "source": [
    "intersect(lm$KEGG,kegg_id)"
   ]
  },
  {
   "cell_type": "code",
   "execution_count": null,
   "id": "8248475b-1eb9-4636-aad4-dfe73bcdd00f",
   "metadata": {},
   "outputs": [],
   "source": []
  },
  {
   "cell_type": "code",
   "execution_count": null,
   "id": "4ca818e3-cbef-4208-84d5-8fed96aacf26",
   "metadata": {},
   "outputs": [],
   "source": []
  },
  {
   "cell_type": "code",
   "execution_count": null,
   "id": "a4ca4787-d77e-44f7-9d48-b5ff595773c9",
   "metadata": {},
   "outputs": [],
   "source": []
  },
  {
   "cell_type": "code",
   "execution_count": null,
   "id": "2b03641c-548c-4554-9418-14a8b8629d22",
   "metadata": {},
   "outputs": [],
   "source": []
  },
  {
   "cell_type": "code",
   "execution_count": 13,
   "id": "4bd5147c-c41c-4fdc-b79c-0b94ff952834",
   "metadata": {},
   "outputs": [
    {
     "name": "stderr",
     "output_type": "stream",
     "text": [
      "\u001b[32m191 pathways.\u001b[39m\n",
      "\n",
      "\u001b[32m---------Pathway database&version---------\u001b[39m\n",
      "\n",
      "\u001b[32mKEGG  &  1.0.5 \u001b[39m\n",
      "\n",
      "\u001b[32m-----------Enrichment result------------\u001b[39m\n",
      "\n",
      "\u001b[32m191  pathways are enriched\u001b[39m\n",
      "\n",
      "\u001b[32m2  pathways p-values < 0.05\u001b[39m\n",
      "\n",
      "\u001b[32mbeta-Alanine metabolism\n",
      "ABC transporters\n",
      "Glycolysis / Gluconeogenesis\n",
      "Citrate cycle (TCA cycle)\n",
      "Pentose phosphate pathway ... (only top 5 shows)\u001b[39m\n",
      "\n",
      "\u001b[32m-----------Parameters------------\u001b[39m\n",
      "\n"
     ]
    },
    {
     "data": {
      "text/plain": [
       "  Package Function.used                Time\n",
       "1 metpath enrich_kegg() 2023-10-08 11:17:35"
      ]
     },
     "metadata": {},
     "output_type": "display_data"
    }
   ],
   "source": [
    "result <- enrich_kegg(\n",
    "    query_id = kegg_id, \n",
    "    query_type = \"compound\", \n",
    "    id_type = \"KEGG\",\n",
    "    pathway_database = pathway_database, \n",
    "    p_cutoff = 0.05, \n",
    "    p_adjust_method = \"BH\", \n",
    "    threads = 10)\n",
    "\n",
    "result"
   ]
  },
  {
   "cell_type": "code",
   "execution_count": null,
   "id": "0ead0406-1227-42d6-9593-b47694fa2269",
   "metadata": {},
   "outputs": [],
   "source": []
  },
  {
   "cell_type": "code",
   "execution_count": null,
   "id": "e94c767b-8173-411e-9438-f17d7d372240",
   "metadata": {},
   "outputs": [],
   "source": []
  },
  {
   "cell_type": "code",
   "execution_count": 62,
   "id": "e7b0ff23-4bee-482b-b0e4-a1f942e118d0",
   "metadata": {},
   "outputs": [
    {
     "data": {
      "image/png": "[encoded data removed]",
      "text/plain": [
       "plot without title"
      ]
     },
     "metadata": {
      "image/png": {
       "height": 420,
       "width": 420
      }
     },
     "output_type": "display_data"
    }
   ],
   "source": [
    "enrich_bar_plot(object = result, x_axis = \"p_value\", cutoff = 0.05)"
   ]
  },
  {
   "cell_type": "code",
   "execution_count": 52,
   "id": "9d4e3ec3-ff19-4d5c-8dc3-6e1c26cee463",
   "metadata": {},
   "outputs": [],
   "source": [
    "#enrich_scatter_plot(object = result, y_axis = \"p_value\", y_axis_cutoff = 0.05)"
   ]
  },
  {
   "cell_type": "code",
   "execution_count": 53,
   "id": "2c7534c6-a6b1-4738-a7f3-75a6cc9394d9",
   "metadata": {},
   "outputs": [],
   "source": [
    "load(\"statistical_analysis/WT-CLPvsWT-NC/object_final\")"
   ]
  },
  {
   "cell_type": "code",
   "execution_count": null,
   "id": "8ef54208-b420-494d-ad5c-09953067f693",
   "metadata": {},
   "outputs": [],
   "source": []
  },
  {
   "cell_type": "code",
   "execution_count": 54,
   "id": "e074ffd3-5f3a-4076-8e13-cf6d88f3e764",
   "metadata": {},
   "outputs": [
    {
     "data": {
      "text/html": [
       "<style>\n",
       ".list-inline {list-style: none; margin:0; padding: 0}\n",
       ".list-inline>li {display: inline-block}\n",
       ".list-inline>li:not(:last-child)::after {content: \"\\00b7\"; padding: 0 .5ex}\n",
       "</style>\n",
       "<ol class=list-inline><li>2500</li><li>31</li></ol>\n"
      ],
      "text/latex": [
       "\\begin{enumerate*}\n",
       "\\item 2500\n",
       "\\item 31\n",
       "\\end{enumerate*}\n"
      ],
      "text/markdown": [
       "1. 2500\n",
       "2. 31\n",
       "\n",
       "\n"
      ],
      "text/plain": [
       "[1] 2500   31"
      ]
     },
     "metadata": {},
     "output_type": "display_data"
    }
   ],
   "source": [
    "dir.create(path = \"pathway_enrichment\", showWarnings = FALSE)\n",
    "\n",
    "diff_metabolites <- object_final %>% \n",
    "  activate_mass_dataset(what = \"variable_info\") %>% \n",
    "  filter(p_value < 5) %>% \n",
    "  extract_variable_info()\n",
    "dim(diff_metabolites)"
   ]
  },
  {
   "cell_type": "code",
   "execution_count": 55,
   "id": "00d03d89-8812-4bab-8cd1-871e2bbc3289",
   "metadata": {},
   "outputs": [
    {
     "data": {
      "text/html": [
       "<style>\n",
       ".list-inline {list-style: none; margin:0; padding: 0}\n",
       ".list-inline>li {display: inline-block}\n",
       ".list-inline>li:not(:last-child)::after {content: \"\\00b7\"; padding: 0 .5ex}\n",
       "</style>\n",
       "<ol class=list-inline><li>'variable_id'</li><li>'mz'</li><li>'rt'</li><li>'na_freq'</li><li>'na_freq.1'</li><li>'na_freq.2'</li><li>'na_freq.3'</li><li>'na_freq.4'</li><li>'na_freq_2'</li><li>'na_freq.1_2'</li><li>'na_freq.2_2'</li><li>'na_freq.3_2'</li><li>'na_freq.4_2'</li><li>'fc'</li><li>'p_value'</li><li>'p_value_adjust'</li><li>'Compound.name'</li><li>'CAS.ID'</li><li>'HMDB.ID'</li><li>'KEGG.ID'</li><li>'Lab.ID'</li><li>'Adduct'</li><li>'mz.error'</li><li>'mz.match.score'</li><li>'RT.error'</li><li>'RT.match.score'</li><li>'CE'</li><li>'SS'</li><li>'Total.score'</li><li>'Database'</li><li>'Level'</li></ol>\n"
      ],
      "text/latex": [
       "\\begin{enumerate*}\n",
       "\\item 'variable\\_id'\n",
       "\\item 'mz'\n",
       "\\item 'rt'\n",
       "\\item 'na\\_freq'\n",
       "\\item 'na\\_freq.1'\n",
       "\\item 'na\\_freq.2'\n",
       "\\item 'na\\_freq.3'\n",
       "\\item 'na\\_freq.4'\n",
       "\\item 'na\\_freq\\_2'\n",
       "\\item 'na\\_freq.1\\_2'\n",
       "\\item 'na\\_freq.2\\_2'\n",
       "\\item 'na\\_freq.3\\_2'\n",
       "\\item 'na\\_freq.4\\_2'\n",
       "\\item 'fc'\n",
       "\\item 'p\\_value'\n",
       "\\item 'p\\_value\\_adjust'\n",
       "\\item 'Compound.name'\n",
       "\\item 'CAS.ID'\n",
       "\\item 'HMDB.ID'\n",
       "\\item 'KEGG.ID'\n",
       "\\item 'Lab.ID'\n",
       "\\item 'Adduct'\n",
       "\\item 'mz.error'\n",
       "\\item 'mz.match.score'\n",
       "\\item 'RT.error'\n",
       "\\item 'RT.match.score'\n",
       "\\item 'CE'\n",
       "\\item 'SS'\n",
       "\\item 'Total.score'\n",
       "\\item 'Database'\n",
       "\\item 'Level'\n",
       "\\end{enumerate*}\n"
      ],
      "text/markdown": [
       "1. 'variable_id'\n",
       "2. 'mz'\n",
       "3. 'rt'\n",
       "4. 'na_freq'\n",
       "5. 'na_freq.1'\n",
       "6. 'na_freq.2'\n",
       "7. 'na_freq.3'\n",
       "8. 'na_freq.4'\n",
       "9. 'na_freq_2'\n",
       "10. 'na_freq.1_2'\n",
       "11. 'na_freq.2_2'\n",
       "12. 'na_freq.3_2'\n",
       "13. 'na_freq.4_2'\n",
       "14. 'fc'\n",
       "15. 'p_value'\n",
       "16. 'p_value_adjust'\n",
       "17. 'Compound.name'\n",
       "18. 'CAS.ID'\n",
       "19. 'HMDB.ID'\n",
       "20. 'KEGG.ID'\n",
       "21. 'Lab.ID'\n",
       "22. 'Adduct'\n",
       "23. 'mz.error'\n",
       "24. 'mz.match.score'\n",
       "25. 'RT.error'\n",
       "26. 'RT.match.score'\n",
       "27. 'CE'\n",
       "28. 'SS'\n",
       "29. 'Total.score'\n",
       "30. 'Database'\n",
       "31. 'Level'\n",
       "\n",
       "\n"
      ],
      "text/plain": [
       " [1] \"variable_id\"    \"mz\"             \"rt\"             \"na_freq\"       \n",
       " [5] \"na_freq.1\"      \"na_freq.2\"      \"na_freq.3\"      \"na_freq.4\"     \n",
       " [9] \"na_freq_2\"      \"na_freq.1_2\"    \"na_freq.2_2\"    \"na_freq.3_2\"   \n",
       "[13] \"na_freq.4_2\"    \"fc\"             \"p_value\"        \"p_value_adjust\"\n",
       "[17] \"Compound.name\"  \"CAS.ID\"         \"HMDB.ID\"        \"KEGG.ID\"       \n",
       "[21] \"Lab.ID\"         \"Adduct\"         \"mz.error\"       \"mz.match.score\"\n",
       "[25] \"RT.error\"       \"RT.match.score\" \"CE\"             \"SS\"            \n",
       "[29] \"Total.score\"    \"Database\"       \"Level\"         "
      ]
     },
     "metadata": {},
     "output_type": "display_data"
    }
   ],
   "source": [
    "colnames(diff_metabolites)"
   ]
  },
  {
   "cell_type": "code",
   "execution_count": 59,
   "id": "f5ed234e-03b4-4a04-a856-3bdc25170ed6",
   "metadata": {},
   "outputs": [],
   "source": [
    "my = diff_metabolites[,c('HMDB.ID','KEGG.ID')]"
   ]
  },
  {
   "cell_type": "code",
   "execution_count": 73,
   "id": "66ea11e6-52b5-498f-b266-127620ba8254",
   "metadata": {},
   "outputs": [],
   "source": [
    "my1 = read.csv('./statistical_analysis/annotation.res.csv')"
   ]
  },
  {
   "cell_type": "code",
   "execution_count": null,
   "id": "50f09107-b42b-48e2-b9a8-a04857bac125",
   "metadata": {},
   "outputs": [],
   "source": []
  },
  {
   "cell_type": "code",
   "execution_count": 42,
   "id": "ffcbb8b8-e9e2-4208-b9fc-ad89849124b2",
   "metadata": {},
   "outputs": [],
   "source": [
    "ls = read.table('./statistical_analysis/ls2.txt',sep = '\\t',header =T)"
   ]
  },
  {
   "cell_type": "code",
   "execution_count": null,
   "id": "eb0abee6-8a0c-486e-9368-2e473836950e",
   "metadata": {},
   "outputs": [],
   "source": []
  },
  {
   "cell_type": "code",
   "execution_count": 70,
   "id": "ae52d75f-6f2f-4056-be09-ce6d6003114b",
   "metadata": {},
   "outputs": [
    {
     "data": {
      "text/html": [
       "145"
      ],
      "text/latex": [
       "145"
      ],
      "text/markdown": [
       "145"
      ],
      "text/plain": [
       "[1] 145"
      ]
     },
     "metadata": {},
     "output_type": "display_data"
    }
   ],
   "source": [
    "length(intersect(my1$KEGG.ID,ls$kegg))"
   ]
  },
  {
   "cell_type": "code",
   "execution_count": 75,
   "id": "eeff4b9f-4f51-42c2-8c9c-3654ac9f0b6f",
   "metadata": {},
   "outputs": [
    {
     "data": {
      "text/html": [
       "2154"
      ],
      "text/latex": [
       "2154"
      ],
      "text/markdown": [
       "2154"
      ],
      "text/plain": [
       "[1] 2154"
      ]
     },
     "metadata": {},
     "output_type": "display_data"
    }
   ],
   "source": [
    "length(my1$HMDB.ID)"
   ]
  },
  {
   "cell_type": "code",
   "execution_count": null,
   "id": "f7cc52d2-327f-43ba-af4a-10731e2fbf36",
   "metadata": {},
   "outputs": [],
   "source": []
  },
  {
   "cell_type": "code",
   "execution_count": null,
   "id": "9816b1b7-4a12-4af5-8d54-199ccdd59605",
   "metadata": {},
   "outputs": [],
   "source": []
  },
  {
   "cell_type": "code",
   "execution_count": 27,
   "id": "f46d5c0a-c24e-4353-98cb-ad414509f1fa",
   "metadata": {},
   "outputs": [],
   "source": [
    "colnames(my1)[1] = 'CompoundID'"
   ]
  },
  {
   "cell_type": "code",
   "execution_count": 28,
   "id": "04e86dc0-e1ed-434d-8d25-b2c2bbb62ce3",
   "metadata": {},
   "outputs": [],
   "source": [
    "aa = left_join(my1,ls,by = 'CompoundID')"
   ]
  },
  {
   "cell_type": "code",
   "execution_count": 31,
   "id": "bd7576c7-9061-45d2-a5fb-f10b4513bda5",
   "metadata": {},
   "outputs": [],
   "source": [
    "write.csv(aa,file = 'aa.csv')"
   ]
  },
  {
   "cell_type": "code",
   "execution_count": null,
   "id": "490c61a8-78b3-4950-accb-e45f9b1f48a6",
   "metadata": {},
   "outputs": [],
   "source": []
  }
 ],
 "metadata": {
  "kernelspec": {
   "display_name": "R",
   "language": "R",
   "name": "ir"
  },
  "language_info": {
   "codemirror_mode": "r",
   "file_extension": ".r",
   "mimetype": "text/x-r-source",
   "name": "R",
   "pygments_lexer": "r",
   "version": "4.2.1"
  }
 },
 "nbformat": 4,
 "nbformat_minor": 5
}
