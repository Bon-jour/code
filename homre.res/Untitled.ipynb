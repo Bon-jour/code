{
 "cells": [
  {
   "cell_type": "code",
   "execution_count": 2,
   "id": "4f636990-bc04-4c0b-a8c5-8bab68f529b5",
   "metadata": {},
   "outputs": [],
   "source": [
    "setwd('/root/miniconda3/envs/Rdoc/share/homer')"
   ]
  },
  {
   "cell_type": "code",
   "execution_count": 3,
   "id": "a892c496-068c-4bc9-b320-bd4476f2c8c2",
   "metadata": {},
   "outputs": [],
   "source": [
    "subString <- function(strings, idx, sep = NA){\n",
    "\n",
    "    strings = as.character(strings)\n",
    "    if(is.na(sep)){\n",
    "        res = as.character(lapply(strings, function(x) paste(strsplit(x, \"\")[[1]][idx], collapse = \"\")))\n",
    "    } else{\n",
    "        res = sapply(strsplit(strings, sep), function(x) x[idx])\n",
    "    }\n",
    "    return(res)\n",
    "}\n",
    "\n",
    "summaryHomer <- function(outFolder){\n",
    "\n",
    "    homerFolder = paste0(outFolder, \"/homerResults\")\n",
    "    xFiles = list.files(homerFolder, \".motif$\")\n",
    "    xFiles = xFiles[-grep(\"similar\", xFiles)]\n",
    "    xFiles = xFiles[-grep(\"RV\", xFiles)]\n",
    "    xFiles = xFiles[order(as.numeric(gsub(\"\\\\.\", \"\", gsub(\"motif\", \"\", xFiles))))]\n",
    "    texts  = sapply(paste0(homerFolder, \"/\", xFiles), readLines)\n",
    "    chunks = sapply(texts, function(x) strsplit(x[1], \"[\\t]\"))\n",
    "\n",
    "    motif = sapply(chunks, function(x) subString(x[1], 2, \">\"))\n",
    "    match = sapply(chunks, function(x) subString(subString(x[2], 2, \"BestGuess:\"),  1, \"/\"))\n",
    "    score = sapply(chunks, function(x) rev(strsplit(x[2], \"[()]\")[[1]])[1])\n",
    "    count = sapply(chunks, function(x) subString(x[6], 3, \"[T:()]\"))\n",
    "    ratio = sapply(chunks, function(x) subString(x[6], 2, \"[()]\"))\n",
    "    p_value = sapply(chunks, function(x) subString(x[6], 2, \"P:\"))\n",
    "\n",
    "    xresT = data.frame(motif, \n",
    "                       match, \n",
    "                       score = as.numeric(score), \n",
    "                       count = as.numeric(count),\n",
    "                       ratio_perc = as.numeric(gsub(\"%\", \"\", ratio)), \n",
    "                       p_value = as.numeric(p_value)\n",
    "                       )\n",
    "    rownames(xresT) = gsub(\".motif\", \"\", basename(rownames(xresT)))\n",
    "    return(xresT)\n",
    "}"
   ]
  },
  {
   "cell_type": "code",
   "execution_count": 4,
   "id": "4fbb38af-f711-4459-8987-c1408aef5d8b",
   "metadata": {
    "scrolled": true
   },
   "outputs": [],
   "source": [
    "rela = summaryHomer('out')"
   ]
  },
  {
   "cell_type": "code",
   "execution_count": 5,
   "id": "5afb39b7-0a0c-420d-9b94-e795631f578c",
   "metadata": {},
   "outputs": [],
   "source": [
    "IKBKB = summaryHomer('out3')"
   ]
  },
  {
   "cell_type": "code",
   "execution_count": 6,
   "id": "ff4c67f4-f58e-429b-9bc0-5c72160b922e",
   "metadata": {},
   "outputs": [],
   "source": [
    "NFKBIA = summaryHomer('out4')"
   ]
  },
  {
   "cell_type": "code",
   "execution_count": 19,
   "id": "a963997b-f43c-4277-b2b1-8ae073b86eeb",
   "metadata": {},
   "outputs": [],
   "source": [
    "# write.csv(rela,file = 'RELA.csv')\n",
    "# write.csv(IKBKB,file = 'IKBKB.csv')\n",
    "# write.csv(NFKBIA,file = 'NFKBIA.csv')"
   ]
  },
  {
   "cell_type": "code",
   "execution_count": 9,
   "id": "03ece558-7fdf-43cd-91e6-77719cec26a7",
   "metadata": {},
   "outputs": [
    {
     "data": {
      "text/html": [
       "<style>\n",
       ".list-inline {list-style: none; margin:0; padding: 0}\n",
       ".list-inline>li {display: inline-block}\n",
       ".list-inline>li:not(:last-child)::after {content: \"\\00b7\"; padding: 0 .5ex}\n",
       "</style>\n",
       "<ol class=list-inline><li>'NFYB'</li><li>'POL006.1_BREu'</li></ol>\n"
      ],
      "text/latex": [
       "\\begin{enumerate*}\n",
       "\\item 'NFYB'\n",
       "\\item 'POL006.1\\_BREu'\n",
       "\\end{enumerate*}\n"
      ],
      "text/markdown": [
       "1. 'NFYB'\n",
       "2. 'POL006.1_BREu'\n",
       "\n",
       "\n"
      ],
      "text/plain": [
       "[1] \"NFYB\"          \"POL006.1_BREu\""
      ]
     },
     "metadata": {},
     "output_type": "display_data"
    }
   ],
   "source": [
    "intersect(rela$match,IKBKB$match)"
   ]
  },
  {
   "cell_type": "code",
   "execution_count": 10,
   "id": "9878450a-a939-4fc0-b739-c2cc12516e15",
   "metadata": {},
   "outputs": [
    {
     "data": {
      "text/html": [
       "<style>\n",
       ".list-inline {list-style: none; margin:0; padding: 0}\n",
       ".list-inline>li {display: inline-block}\n",
       ".list-inline>li:not(:last-child)::after {content: \"\\00b7\"; padding: 0 .5ex}\n",
       "</style>\n",
       "<ol class=list-inline><li>'ZNF354C'</li><li>'ZNF341'</li><li>'MEIS2(var.2)'</li></ol>\n"
      ],
      "text/latex": [
       "\\begin{enumerate*}\n",
       "\\item 'ZNF354C'\n",
       "\\item 'ZNF341'\n",
       "\\item 'MEIS2(var.2)'\n",
       "\\end{enumerate*}\n"
      ],
      "text/markdown": [
       "1. 'ZNF354C'\n",
       "2. 'ZNF341'\n",
       "3. 'MEIS2(var.2)'\n",
       "\n",
       "\n"
      ],
      "text/plain": [
       "[1] \"ZNF354C\"      \"ZNF341\"       \"MEIS2(var.2)\""
      ]
     },
     "metadata": {},
     "output_type": "display_data"
    }
   ],
   "source": [
    "intersect(NFKBIA$match,IKBKB$match)"
   ]
  },
  {
   "cell_type": "code",
   "execution_count": 11,
   "id": "e0a281f7-9614-439f-bcdd-4d1f6f90f195",
   "metadata": {},
   "outputs": [
    {
     "data": {
      "text/html": [
       "<style>\n",
       ".list-inline {list-style: none; margin:0; padding: 0}\n",
       ".list-inline>li {display: inline-block}\n",
       ".list-inline>li:not(:last-child)::after {content: \"\\00b7\"; padding: 0 .5ex}\n",
       "</style>\n",
       "<ol class=list-inline><li>'RUNX2'</li><li>'PB0137.1_Irf3_2'</li><li>'Ddit3::Cebpa'</li><li>'PH0037.1_Hdx'</li><li>'MYNN(Zf)'</li></ol>\n"
      ],
      "text/latex": [
       "\\begin{enumerate*}\n",
       "\\item 'RUNX2'\n",
       "\\item 'PB0137.1\\_Irf3\\_2'\n",
       "\\item 'Ddit3::Cebpa'\n",
       "\\item 'PH0037.1\\_Hdx'\n",
       "\\item 'MYNN(Zf)'\n",
       "\\end{enumerate*}\n"
      ],
      "text/markdown": [
       "1. 'RUNX2'\n",
       "2. 'PB0137.1_Irf3_2'\n",
       "3. 'Ddit3::Cebpa'\n",
       "4. 'PH0037.1_Hdx'\n",
       "5. 'MYNN(Zf)'\n",
       "\n",
       "\n"
      ],
      "text/plain": [
       "[1] \"RUNX2\"           \"PB0137.1_Irf3_2\" \"Ddit3::Cebpa\"    \"PH0037.1_Hdx\"   \n",
       "[5] \"MYNN(Zf)\"       "
      ]
     },
     "metadata": {},
     "output_type": "display_data"
    }
   ],
   "source": [
    "intersect(NFKBIA$match,rela$match)"
   ]
  },
  {
   "cell_type": "code",
   "execution_count": 12,
   "id": "d8208cdb-5c4f-4641-9c85-8fe4b3c32482",
   "metadata": {},
   "outputs": [
    {
     "data": {
      "text/html": [],
      "text/latex": [],
      "text/markdown": [],
      "text/plain": [
       "character(0)"
      ]
     },
     "metadata": {},
     "output_type": "display_data"
    }
   ],
   "source": [
    "intersect(intersect(NFKBIA$match,rela$match),IKBKB$match)"
   ]
  },
  {
   "cell_type": "code",
   "execution_count": 14,
   "id": "2bb3d42b-93ce-49f7-be89-1b76b1a1219c",
   "metadata": {},
   "outputs": [],
   "source": [
    "library(ggvenn)"
   ]
  },
  {
   "cell_type": "code",
   "execution_count": 21,
   "id": "89fb9752-256d-4914-8a69-d327b5acf7db",
   "metadata": {},
   "outputs": [
    {
     "data": {
      "text/html": [
       "<strong>png:</strong> 2"
      ],
      "text/latex": [
       "\\textbf{png:} 2"
      ],
      "text/markdown": [
       "**png:** 2"
      ],
      "text/plain": [
       "png \n",
       "  2 "
      ]
     },
     "metadata": {},
     "output_type": "display_data"
    }
   ],
   "source": [
    "a <- list(`NFKBIA` = NFKBIA$match,\n",
    "          `rela` = rela$match\n",
    "          )\n",
    "pdf('/import/code/homre.res/NFKBIA_RELA.pdf')\n",
    "ggvenn(a, c(\"NFKBIA\", \"rela\"))\n",
    "dev.off()"
   ]
  },
  {
   "cell_type": "code",
   "execution_count": 22,
   "id": "d3b10e62-e910-4c3b-9415-28fdbcbbbfe1",
   "metadata": {},
   "outputs": [
    {
     "data": {
      "text/html": [
       "<strong>png:</strong> 2"
      ],
      "text/latex": [
       "\\textbf{png:} 2"
      ],
      "text/markdown": [
       "**png:** 2"
      ],
      "text/plain": [
       "png \n",
       "  2 "
      ]
     },
     "metadata": {},
     "output_type": "display_data"
    }
   ],
   "source": [
    "a <- list(`rela` = rela$match,\n",
    "          `IKBKB` = IKBKB$match\n",
    "          )\n",
    "pdf('/import/code/homre.res/IKBKB_RELA.pdf')\n",
    "ggvenn(a, c(\"rela\", \"IKBKB\"))\n",
    "dev.off()"
   ]
  },
  {
   "cell_type": "code",
   "execution_count": 23,
   "id": "71ec07a5-aec6-4766-a327-bb0d51bf4859",
   "metadata": {},
   "outputs": [
    {
     "data": {
      "text/html": [
       "<strong>png:</strong> 2"
      ],
      "text/latex": [
       "\\textbf{png:} 2"
      ],
      "text/markdown": [
       "**png:** 2"
      ],
      "text/plain": [
       "png \n",
       "  2 "
      ]
     },
     "metadata": {},
     "output_type": "display_data"
    }
   ],
   "source": [
    "a <- list(`NFKBIA` = NFKBIA$match,\n",
    "          `IKBKB` = IKBKB$match\n",
    "          )\n",
    "pdf('/import/code/homre.res/IKBKB_NFKBIA.pdf')\n",
    "ggvenn(a, c(\"NFKBIA\", \"IKBKB\"))\n",
    "dev.off()"
   ]
  },
  {
   "cell_type": "code",
   "execution_count": null,
   "id": "e6ddaa00-faec-4b9b-9c74-7baea27d914c",
   "metadata": {},
   "outputs": [],
   "source": []
  }
 ],
 "metadata": {
  "kernelspec": {
   "display_name": "R",
   "language": "R",
   "name": "ir"
  },
  "language_info": {
   "codemirror_mode": "r",
   "file_extension": ".r",
   "mimetype": "text/x-r-source",
   "name": "R",
   "pygments_lexer": "r",
   "version": "4.2.1"
  }
 },
 "nbformat": 4,
 "nbformat_minor": 5
}
