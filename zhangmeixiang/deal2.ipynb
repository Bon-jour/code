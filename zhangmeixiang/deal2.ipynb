{
 "cells": [
  {
   "cell_type": "code",
   "execution_count": 1,
   "id": "21f51fe5-05f0-443e-8039-a80097903ea1",
   "metadata": {},
   "outputs": [],
   "source": [
    "setwd('/import/zhangmeixiang/daa/workflow_results/02Annotion&Express/01Annot&Exp_Annalysis/ExpAnnalysis')"
   ]
  },
  {
   "cell_type": "code",
   "execution_count": 2,
   "id": "0f3e3a76-1229-46a2-a47c-db26d3a99a4f",
   "metadata": {},
   "outputs": [
    {
     "name": "stderr",
     "output_type": "stream",
     "text": [
      "Loading required package: grid\n",
      "\n",
      "========================================\n",
      "ComplexHeatmap version 2.14.0\n",
      "Bioconductor page: http://bioconductor.org/packages/ComplexHeatmap/\n",
      "Github page: https://github.com/jokergoo/ComplexHeatmap\n",
      "Documentation: http://jokergoo.github.io/ComplexHeatmap-reference\n",
      "\n",
      "If you use it in published research, please cite either one:\n",
      "- Gu, Z. Complex Heatmap Visualization. iMeta 2022.\n",
      "- Gu, Z. Complex heatmaps reveal patterns and correlations in multidimensional \n",
      "    genomic data. Bioinformatics 2016.\n",
      "\n",
      "\n",
      "The new InteractiveComplexHeatmap package can directly export static \n",
      "complex heatmaps into an interactive Shiny app with zero effort. Have a try!\n",
      "\n",
      "This message can be suppressed by:\n",
      "  suppressPackageStartupMessages(library(ComplexHeatmap))\n",
      "========================================\n",
      "\n",
      "\n",
      "========================================\n",
      "circlize version 0.4.16\n",
      "CRAN page: https://cran.r-project.org/package=circlize\n",
      "Github page: https://github.com/jokergoo/circlize\n",
      "Documentation: https://jokergoo.github.io/circlize_book/book/\n",
      "\n",
      "If you use it in published research, please cite:\n",
      "Gu, Z. circlize implements and enhances circular visualization\n",
      "  in R. Bioinformatics 2014.\n",
      "\n",
      "This message can be suppressed by:\n",
      "  suppressPackageStartupMessages(library(circlize))\n",
      "========================================\n",
      "\n",
      "\n",
      "Warning message:\n",
      "\"package 'dplyr' was built under R version 4.2.3\"\n",
      "\n",
      "Attaching package: 'dplyr'\n",
      "\n",
      "\n",
      "The following objects are masked from 'package:stats':\n",
      "\n",
      "    filter, lag\n",
      "\n",
      "\n",
      "The following objects are masked from 'package:base':\n",
      "\n",
      "    intersect, setdiff, setequal, union\n",
      "\n",
      "\n"
     ]
    }
   ],
   "source": [
    "go.cu = read.csv('./go.csv',row.names = 1)\n",
    "library('ComplexHeatmap')\n",
    "library('circlize')\n",
    "library(\"RColorBrewer\")\n",
    "library('dplyr')\n",
    "select = c('GO:0016125'\n",
    ",'GO:0051054'\n",
    ",'GO:0006582'\n",
    ",'GO:0044550'\n",
    ",'GO:0008203'\n",
    ",'GO:0006749'\n",
    ",'GO:0008202'\n",
    ",'GO:0042440'\n",
    ",'GO:0006575'\n",
    ",'GO:0042180'\n",
    ",'GO:0071900'\n",
    ",'GO:0006631'\n",
    ",'GO:0046486'\n",
    ",'GO:0046470'\n",
    ",'GO:0006739'\n",
    ",'GO:0009262'\n",
    ",'GO:0072527'\n",
    ",'GO:0072593'\n",
    ",'GO:0009069'\n",
    ",'GO:0006534'\n",
    ",'GO:0006081'\n",
    ",'GO:0005759'\n",
    ",'GO:0005758')\n",
    "\n",
    "go = go.cu[select,]"
   ]
  },
  {
   "cell_type": "code",
   "execution_count": 3,
   "id": "d6703200-0972-4539-97f1-e7adebaceaaa",
   "metadata": {},
   "outputs": [],
   "source": [
    "diff = read.csv('diff.csv',row.names = 1)"
   ]
  },
  {
   "cell_type": "code",
   "execution_count": 4,
   "id": "5424e3f8-06e0-4ac3-8c6a-20cf1961e6a2",
   "metadata": {},
   "outputs": [],
   "source": [
    "upgene = diff %>% dplyr::filter(group == 'Up') %>% rownames()\n",
    "\n",
    "add.up.info = function(x){\n",
    "    a=unlist(strsplit(x, split=\"/\"))\n",
    "    number = length(intersect(a,upgene))\n",
    "    return(number)\n",
    "}\n",
    "\n",
    "single <- apply(as.data.frame(go[,9]),1,add.up.info  )"
   ]
  },
  {
   "cell_type": "code",
   "execution_count": 11,
   "id": "5deded56-373c-4261-9c97-1f209644801e",
   "metadata": {
    "collapsed": true,
    "jupyter": {
     "outputs_hidden": true
    }
   },
   "outputs": [
    {
     "data": {
      "text/html": [
       "<table class=\"dataframe\">\n",
       "<caption>A data.frame: 6 x 3</caption>\n",
       "<thead>\n",
       "\t<tr><th></th><th scope=col>ko.id</th><th scope=col>gene_num.min</th><th scope=col>gene_num.max</th></tr>\n",
       "\t<tr><th></th><th scope=col>&lt;fct&gt;</th><th scope=col>&lt;dbl&gt;</th><th scope=col>&lt;dbl&gt;</th></tr>\n",
       "</thead>\n",
       "<tbody>\n",
       "\t<tr><th scope=row>GO:0016125</th><td>GO:0016125</td><td>0</td><td>1830</td></tr>\n",
       "\t<tr><th scope=row>GO:0051054</th><td>GO:0051054</td><td>0</td><td>1830</td></tr>\n",
       "\t<tr><th scope=row>GO:0006582</th><td>GO:0006582</td><td>0</td><td>1830</td></tr>\n",
       "\t<tr><th scope=row>GO:0044550</th><td>GO:0044550</td><td>0</td><td>1830</td></tr>\n",
       "\t<tr><th scope=row>GO:0008203</th><td>GO:0008203</td><td>0</td><td>1830</td></tr>\n",
       "\t<tr><th scope=row>GO:0006749</th><td>GO:0006749</td><td>0</td><td>1830</td></tr>\n",
       "</tbody>\n",
       "</table>\n"
      ],
      "text/latex": [
       "A data.frame: 6 x 3\n",
       "\\begin{tabular}{r|lll}\n",
       "  & ko.id & gene\\_num.min & gene\\_num.max\\\\\n",
       "  & <fct> & <dbl> & <dbl>\\\\\n",
       "\\hline\n",
       "\tGO:0016125 & GO:0016125 & 0 & 1830\\\\\n",
       "\tGO:0051054 & GO:0051054 & 0 & 1830\\\\\n",
       "\tGO:0006582 & GO:0006582 & 0 & 1830\\\\\n",
       "\tGO:0044550 & GO:0044550 & 0 & 1830\\\\\n",
       "\tGO:0008203 & GO:0008203 & 0 & 1830\\\\\n",
       "\tGO:0006749 & GO:0006749 & 0 & 1830\\\\\n",
       "\\end{tabular}\n"
      ],
      "text/markdown": [
       "\n",
       "A data.frame: 6 x 3\n",
       "\n",
       "| <!--/--> | ko.id &lt;fct&gt; | gene_num.min &lt;dbl&gt; | gene_num.max &lt;dbl&gt; |\n",
       "|---|---|---|---|\n",
       "| GO:0016125 | GO:0016125 | 0 | 1830 |\n",
       "| GO:0051054 | GO:0051054 | 0 | 1830 |\n",
       "| GO:0006582 | GO:0006582 | 0 | 1830 |\n",
       "| GO:0044550 | GO:0044550 | 0 | 1830 |\n",
       "| GO:0008203 | GO:0008203 | 0 | 1830 |\n",
       "| GO:0006749 | GO:0006749 | 0 | 1830 |\n",
       "\n"
      ],
      "text/plain": [
       "           ko.id      gene_num.min gene_num.max\n",
       "GO:0016125 GO:0016125 0            1830        \n",
       "GO:0051054 GO:0051054 0            1830        \n",
       "GO:0006582 GO:0006582 0            1830        \n",
       "GO:0044550 GO:0044550 0            1830        \n",
       "GO:0008203 GO:0008203 0            1830        \n",
       "GO:0006749 GO:0006749 0            1830        "
      ]
     },
     "metadata": {},
     "output_type": "display_data"
    },
    {
     "name": "stderr",
     "output_type": "stream",
     "text": [
      "`major.tick.percentage` is not used any more, please directly use argument `major.tick.length`.\n",
      "\n",
      "`major.tick.percentage` is not used any more, please directly use argument `major.tick.length`.\n",
      "\n",
      "`major.tick.percentage` is not used any more, please directly use argument `major.tick.length`.\n",
      "\n",
      "`major.tick.percentage` is not used any more, please directly use argument `major.tick.length`.\n",
      "\n",
      "`major.tick.percentage` is not used any more, please directly use argument `major.tick.length`.\n",
      "\n",
      "`major.tick.percentage` is not used any more, please directly use argument `major.tick.length`.\n",
      "\n",
      "`major.tick.percentage` is not used any more, please directly use argument `major.tick.length`.\n",
      "\n",
      "`major.tick.percentage` is not used any more, please directly use argument `major.tick.length`.\n",
      "\n",
      "`major.tick.percentage` is not used any more, please directly use argument `major.tick.length`.\n",
      "\n",
      "`major.tick.percentage` is not used any more, please directly use argument `major.tick.length`.\n",
      "\n",
      "`major.tick.percentage` is not used any more, please directly use argument `major.tick.length`.\n",
      "\n",
      "`major.tick.percentage` is not used any more, please directly use argument `major.tick.length`.\n",
      "\n",
      "`major.tick.percentage` is not used any more, please directly use argument `major.tick.length`.\n",
      "\n",
      "`major.tick.percentage` is not used any more, please directly use argument `major.tick.length`.\n",
      "\n",
      "`major.tick.percentage` is not used any more, please directly use argument `major.tick.length`.\n",
      "\n",
      "`major.tick.percentage` is not used any more, please directly use argument `major.tick.length`.\n",
      "\n",
      "`major.tick.percentage` is not used any more, please directly use argument `major.tick.length`.\n",
      "\n",
      "`major.tick.percentage` is not used any more, please directly use argument `major.tick.length`.\n",
      "\n",
      "`major.tick.percentage` is not used any more, please directly use argument `major.tick.length`.\n",
      "\n",
      "`major.tick.percentage` is not used any more, please directly use argument `major.tick.length`.\n",
      "\n",
      "`major.tick.percentage` is not used any more, please directly use argument `major.tick.length`.\n",
      "\n",
      "`major.tick.percentage` is not used any more, please directly use argument `major.tick.length`.\n",
      "\n",
      "`major.tick.percentage` is not used any more, please directly use argument `major.tick.length`.\n",
      "\n",
      "Note: 1 point is out of plotting region in sector 'GO:0016125', track\n",
      "'3'.\n",
      "\n",
      "Note: 1 point is out of plotting region in sector 'GO:0016125', track\n",
      "'3'.\n",
      "\n",
      "Note: 1 point is out of plotting region in sector 'GO:0051054', track\n",
      "'3'.\n",
      "\n",
      "Note: 1 point is out of plotting region in sector 'GO:0051054', track\n",
      "'3'.\n",
      "\n",
      "Note: 1 point is out of plotting region in sector 'GO:0006582', track\n",
      "'3'.\n",
      "\n",
      "Note: 1 point is out of plotting region in sector 'GO:0006582', track\n",
      "'3'.\n",
      "\n",
      "Note: 1 point is out of plotting region in sector 'GO:0044550', track\n",
      "'3'.\n",
      "\n",
      "Note: 1 point is out of plotting region in sector 'GO:0044550', track\n",
      "'3'.\n",
      "\n",
      "Note: 1 point is out of plotting region in sector 'GO:0008203', track\n",
      "'3'.\n",
      "\n",
      "Note: 1 point is out of plotting region in sector 'GO:0008203', track\n",
      "'3'.\n",
      "\n",
      "Note: 1 point is out of plotting region in sector 'GO:0006749', track\n",
      "'3'.\n",
      "\n",
      "Note: 1 point is out of plotting region in sector 'GO:0006749', track\n",
      "'3'.\n",
      "\n",
      "Note: 1 point is out of plotting region in sector 'GO:0008202', track\n",
      "'3'.\n",
      "\n",
      "Note: 1 point is out of plotting region in sector 'GO:0008202', track\n",
      "'3'.\n",
      "\n",
      "Note: 1 point is out of plotting region in sector 'GO:0042440', track\n",
      "'3'.\n",
      "\n",
      "Note: 1 point is out of plotting region in sector 'GO:0042440', track\n",
      "'3'.\n",
      "\n",
      "Note: 1 point is out of plotting region in sector 'GO:0006575', track\n",
      "'3'.\n",
      "\n",
      "Note: 1 point is out of plotting region in sector 'GO:0006575', track\n",
      "'3'.\n",
      "\n",
      "Note: 1 point is out of plotting region in sector 'GO:0042180', track\n",
      "'3'.\n",
      "\n",
      "Note: 1 point is out of plotting region in sector 'GO:0042180', track\n",
      "'3'.\n",
      "\n",
      "Note: 1 point is out of plotting region in sector 'GO:0071900', track\n",
      "'3'.\n",
      "\n",
      "Note: 1 point is out of plotting region in sector 'GO:0071900', track\n",
      "'3'.\n",
      "\n",
      "Note: 1 point is out of plotting region in sector 'GO:0006631', track\n",
      "'3'.\n",
      "\n",
      "Note: 1 point is out of plotting region in sector 'GO:0006631', track\n",
      "'3'.\n",
      "\n",
      "Note: 1 point is out of plotting region in sector 'GO:0046486', track\n",
      "'3'.\n",
      "\n",
      "Note: 1 point is out of plotting region in sector 'GO:0046486', track\n",
      "'3'.\n",
      "\n",
      "Note: 1 point is out of plotting region in sector 'GO:0046470', track\n",
      "'3'.\n",
      "\n",
      "Note: 1 point is out of plotting region in sector 'GO:0046470', track\n",
      "'3'.\n",
      "\n",
      "Note: 1 point is out of plotting region in sector 'GO:0006739', track\n",
      "'3'.\n",
      "\n",
      "Note: 1 point is out of plotting region in sector 'GO:0006739', track\n",
      "'3'.\n",
      "\n",
      "Note: 1 point is out of plotting region in sector 'GO:0009262', track\n",
      "'3'.\n",
      "\n",
      "Note: 1 point is out of plotting region in sector 'GO:0009262', track\n",
      "'3'.\n",
      "\n",
      "Note: 1 point is out of plotting region in sector 'GO:0072527', track\n",
      "'3'.\n",
      "\n",
      "Note: 1 point is out of plotting region in sector 'GO:0072527', track\n",
      "'3'.\n",
      "\n",
      "Note: 1 point is out of plotting region in sector 'GO:0072593', track\n",
      "'3'.\n",
      "\n",
      "Note: 1 point is out of plotting region in sector 'GO:0072593', track\n",
      "'3'.\n",
      "\n",
      "Note: 1 point is out of plotting region in sector 'GO:0009069', track\n",
      "'3'.\n",
      "\n",
      "Note: 1 point is out of plotting region in sector 'GO:0009069', track\n",
      "'3'.\n",
      "\n",
      "Note: 1 point is out of plotting region in sector 'GO:0006534', track\n",
      "'3'.\n",
      "\n",
      "Note: 1 point is out of plotting region in sector 'GO:0006534', track\n",
      "'3'.\n",
      "\n",
      "Note: 1 point is out of plotting region in sector 'GO:0006081', track\n",
      "'3'.\n",
      "\n",
      "Note: 1 point is out of plotting region in sector 'GO:0006081', track\n",
      "'3'.\n",
      "\n",
      "Note: 1 point is out of plotting region in sector 'GO:0005759', track\n",
      "'3'.\n",
      "\n",
      "Note: 1 point is out of plotting region in sector 'GO:0005759', track\n",
      "'3'.\n",
      "\n",
      "Note: 2 points are out of plotting region in sector 'GO:0005758', track\n",
      "'3'.\n",
      "\n",
      "Note: 1 point is out of plotting region in sector 'GO:0005758', track\n",
      "'3'.\n",
      "\n",
      "Note: 1 point is out of plotting region in sector 'GO:0005758', track\n",
      "'3'.\n",
      "\n"
     ]
    },
    {
     "data": {
      "text/html": [
       "<strong>png:</strong> 2"
      ],
      "text/latex": [
       "\\textbf{png:} 2"
      ],
      "text/markdown": [
       "**png:** 2"
      ],
      "text/plain": [
       "png \n",
       "  2 "
      ]
     },
     "metadata": {},
     "output_type": "display_data"
    }
   ],
   "source": [
    "\n",
    "\n",
    "\n",
    "pdf('cu.go.circos.cu.pdf',height = 9,width = 9)\n",
    "\n",
    "go = cbind(go,up = single)\n",
    "\n",
    "go$down = go$Count -go$up\n",
    "\n",
    "go$gene_num.min = 0\n",
    "go$gene_num.max = 1830\n",
    "\n",
    "forcircle = go[,c(2,1,13,14,10,7,11,12,4)]\n",
    "\n",
    "forcircle$p.adjust = -log10(forcircle$p.adjust)\n",
    "\n",
    "colnames(forcircle) = c('ko.id','category','gene_num.min','gene_num.max','gene_num.rich','-log10.p','up.regulated','down.regulated','rich.factor')\n",
    "\n",
    "forcircle$ko.id <- factor(rownames(forcircle), levels = rownames(forcircle))\n",
    "\n",
    "library(circlize)\n",
    "#整体布局\n",
    "circos.par(gap.degree = 2, start.degree = 90)\n",
    "\n",
    "plot_data <- forcircle[c('ko.id', 'gene_num.min', 'gene_num.max')]  #选择作图数据集，定义了 ko 区块的基因总数量范围\n",
    "ko_color <- c(rep('#F7CC13', 21), rep('#954572', 52) )  #定义分组颜色 rep('#0796E0', 5)\n",
    "\n",
    "head(plot_data)\n",
    "\n",
    "\n",
    " \n",
    "circos.genomicInitialize(plot_data, plotType = NULL, major.by = 1)  #一个总布局\n",
    "circos.track(\n",
    "    ylim = c(0, 1), track.height = 0.05, bg.border = NA, bg.col = ko_color,  #圈图的高度、颜色等设置\n",
    "    panel.fun = function(x, y) {\n",
    "        ylim = get.cell.meta.data('ycenter')  #ylim、xlim 用于指定 ko id 文字标签添加的合适坐标\n",
    "        xlim = get.cell.meta.data('xcenter')\n",
    "        sector.name = get.cell.meta.data('sector.index')  #sector.name 用于提取 ko id 名称\n",
    "        circos.axis(h = 'top', labels.cex = 1, major.tick.percentage = 0.4, labels.niceFacing = FALSE)  #绘制外周的刻度线\n",
    "        circos.text(xlim, ylim, sector.name, cex = 1, niceFacing = FALSE)  #将 ko id 文字标签添加在图中指定位置处\n",
    "    } )\n",
    "\n",
    "\n",
    "\n",
    "\n",
    "plot_data <- forcircle[c('ko.id', 'gene_num.min', 'gene_num.rich', '-log10.p')]  #选择作图数据集，包括富集基因数量以及 p 值等信息\n",
    "label_data <- forcircle['gene_num.rich']  #标签数据集，仅便于作图时添加相应的文字标识用\n",
    "p_max <- round(max(forcircle$'-log10.p')) + 1  #定义一个 p 值的极值，以方便后续作图\n",
    "colorsChoice <- colorRampPalette(c('#FF906F', '#861D30'))  #这两句用于定义 p 值的渐变颜色\n",
    "color_assign <- colorRamp2(breaks = 0:p_max, col = colorsChoice(p_max + 1))\n",
    " \n",
    "circos.genomicTrackPlotRegion(\n",
    "    plot_data, track.height = 0.08, bg.border = NA, stack = TRUE,  #圈图的高度、颜色等设置\n",
    "    panel.fun = function(region, value, ...) {\n",
    "        circos.genomicRect(region, value, col = color_assign(value[[1]]), border = NA, ...)  #区块的长度反映了富集基因的数量，颜色与 p 值有关\n",
    "        ylim = get.cell.meta.data('ycenter')  #同上文，ylim、xlim、sector.name 等用于指定文字标签（富集基因数量）添加的合适坐标\n",
    "        xlim = label_data[get.cell.meta.data('sector.index'),1] / 2\n",
    "        sector.name = label_data[get.cell.meta.data('sector.index'),1]\n",
    "        circos.text(xlim, ylim, sector.name, cex = 0.9, niceFacing = FALSE)  #将文字标签添（富集基因数量）加在图中指定位置处\n",
    "    } )\n",
    "\n",
    "\n",
    "forcircle$all.regulated <- forcircle$up.regulated + forcircle$down.regulated\n",
    "forcircle$up.proportion <- forcircle$up.regulated / forcircle$all.regulated\n",
    "forcircle$down.proportion <- forcircle$down.regulated / forcircle$all.regulated\n",
    " \n",
    "#随后，根据上下调基因的相对比例，分别计算它们在作图时的“区块坐标”和“长度”\n",
    "forcircle$up <- forcircle$up.proportion * forcircle$gene_num.max\n",
    "plot_data_up <- forcircle[c('ko.id', 'gene_num.min', 'up')]\n",
    "names(plot_data_up) <- c('ko.id', 'start', 'end')\n",
    "plot_data_up$type <- 1  #分配 1 指代上调基因\n",
    " \n",
    "forcircle$down <- forcircle$down.proportion * forcircle$gene_num.max + forcircle$up\n",
    "plot_data_down <- forcircle[c('ko.id', 'up', 'down')]\n",
    "names(plot_data_down) <- c('ko.id', 'start', 'end')\n",
    "plot_data_down$type <- 2  #分配 2 指代下调基因\n",
    " \n",
    "#选择作图数据集（作图用）、标签数据集（添加相应的文字标识用），并分别为上下调基因赋值不同颜色\n",
    "plot_data <- rbind(plot_data_up, plot_data_down)\n",
    "label_data <- forcircle[c('up', 'down', 'up.regulated', 'down.regulated')]\n",
    "color_assign <- colorRamp2(breaks = c(1, 2), col = c('#671166', '#7F8CCB'))\n",
    "\n",
    "\n",
    "#继续绘制圈图\n",
    "circos.genomicTrackPlotRegion(\n",
    "    plot_data, track.height = 0.08, bg.border = NA, stack = TRUE,  #圈图的高度、颜色等设置\n",
    "    panel.fun = function(region, value, ...) {\n",
    "        circos.genomicRect(region, value, col = color_assign(value[[1]]), border = NA, ...)  #这里紫色代表上调基因，蓝色代表下调基因，区块的长度反映了上下调基因的相对占比\n",
    "        ylim = get.cell.meta.data('cell.bottom.radius') - 0.5  #同上文，ylim、xlim、sector.name 等用于指定文字标签（上调基因数量）添加的合适坐标\n",
    "        xlim = label_data[get.cell.meta.data('sector.index'),1] / 2\n",
    "        sector.name = label_data[get.cell.meta.data('sector.index'),3]\n",
    "        circos.text(xlim, ylim, sector.name, cex = 1, niceFacing = FALSE)  #将文字标签（上调基因数量）添加在图中指定位置处\n",
    "        xlim = (label_data[get.cell.meta.data('sector.index'),2]+label_data[get.cell.meta.data('sector.index'),1]) / 2\n",
    "        sector.name = label_data[get.cell.meta.data('sector.index'),4]\n",
    "        circos.text(xlim, ylim, sector.name, cex = 0.8, niceFacing = FALSE)  #类似的操作，将下调基因数量的标签也添加在图中\n",
    "    } )\n",
    "\n",
    "\n",
    "plot_data <- forcircle[,c('ko.id', 'gene_num.min', 'gene_num.max', 'rich.factor')]  #选择作图数据集，包含富集因子列\n",
    "\n",
    "\n",
    "label_data <- forcircle['category']  #将通路的分类信息提取出，和下一句一起，便于作图时按分组分配颜色\n",
    "color_assign <- c('BP' = '#F7CC13',\n",
    "                 \n",
    "                  'CC' = '#954572') # 'MF' ='#0796E0',\n",
    "\n",
    "library(DOSE)\n",
    "plot_data$rich.factor<- parse_ratio(plot_data$rich.factor)*20\n",
    "\n",
    "circos.genomicTrack(\n",
    "    plot_data, ylim = c(0, 1), track.height = 0.3, bg.col = 'gray95', bg.border = NA,  #圈图的高度、颜色等设置\n",
    "    panel.fun = function(region, value, ...) {\n",
    "        sector.name = get.cell.meta.data('sector.index')  #sector.name 用于提取 ko id 名称，并添加在下一句中匹配 ko 对应的高级分类，以分配颜色\n",
    "        circos.genomicRect(region, value, col = color_assign[label_data[sector.name,1]], border = NA, ytop.column = 1, ybottom = 0, ...)  #绘制矩形区块，高度代表富集因子数值，颜色代表 ko 的分类\n",
    "        circos.lines(c(0, max(region)), c(0.5, 0.5), col = 'gray', lwd = 0.3)  #可选在富集因子等于 0.5 的位置处添加一个灰线\n",
    "    } )\n",
    " \n",
    "# ##绘图完毕后，不要忘了清除痕迹，以免影响下一次作图\n",
    "circos.clear()\n",
    "\n",
    "\n",
    "\n",
    "\n",
    "\n",
    "\n",
    "\n",
    "library(ComplexHeatmap)\n",
    " \n",
    "category_legend <- Legend(\n",
    "    labels = c('BP',  'CC'),  #'MF',\n",
    "    type = 'points', pch = NA, background = c('#F7CC13', '#954572', '#0796E0'), \n",
    "    labels_gp = gpar(fontsize = 8), grid_height = unit(0.5, 'cm'), grid_width = unit(0.5, 'cm'))\n",
    " \n",
    "updown_legend <- Legend(\n",
    "    labels = c('Up-regulated', 'Down-regulated'), \n",
    "    type = 'points', pch = NA, background = c('#671166', '#7F8CCB'), \n",
    "    labels_gp = gpar(fontsize = 8), grid_height = unit(0.5, 'cm'), grid_width = unit(0.5, 'cm'))\n",
    " \n",
    "pvalue_legend <- Legend(\n",
    "    col_fun = colorRamp2(round(seq(0, p_max, length.out = 6), 0), \n",
    "    colorRampPalette(c('#FF906F', '#861D30'))(6)),\n",
    "    legend_height = unit(3, 'cm'), labels_gp = gpar(fontsize = 8), \n",
    "    title_gp = gpar(fontsize = 9), title_position = 'topleft', title = '-Log10(Pvalue)')\n",
    " \n",
    "lgd_list_vertical <- packLegend(category_legend, updown_legend, pvalue_legend)\n",
    "\n",
    "\n",
    "p2 = grid.draw(lgd_list_vertical)\n",
    "dev.off()"
   ]
  },
  {
   "cell_type": "code",
   "execution_count": 12,
   "id": "63616f68-233e-4b3a-8802-4a7be390bede",
   "metadata": {},
   "outputs": [],
   "source": [
    "data = read.csv('./expr.csv',row.names = 1)"
   ]
  },
  {
   "cell_type": "code",
   "execution_count": 13,
   "id": "fc5d4306-ca11-47ba-bc1a-7f03ac72214f",
   "metadata": {},
   "outputs": [],
   "source": [
    "cu.gene = read.csv('./cu.csv',header =F,row.names = 1)"
   ]
  },
  {
   "cell_type": "code",
   "execution_count": 14,
   "id": "97210c6a-e524-4685-a8e3-4ef6402296ce",
   "metadata": {},
   "outputs": [],
   "source": [
    "data1 = data[rownames(cu.gene),]"
   ]
  },
  {
   "cell_type": "code",
   "execution_count": 15,
   "id": "64c19999-99ba-458c-b997-bb865e392a17",
   "metadata": {},
   "outputs": [
    {
     "name": "stderr",
     "output_type": "stream",
     "text": [
      "Warning message:\n",
      "\"package 'pheatmap' was built under R version 4.2.3\"\n",
      "\n",
      "Attaching package: 'pheatmap'\n",
      "\n",
      "\n",
      "The following object is masked from 'package:ComplexHeatmap':\n",
      "\n",
      "    pheatmap\n",
      "\n",
      "\n"
     ]
    },
    {
     "data": {
      "text/html": [
       "<style>\n",
       ".list-inline {list-style: none; margin:0; padding: 0}\n",
       ".list-inline>li {display: inline-block}\n",
       ".list-inline>li:not(:last-child)::after {content: \"\\00b7\"; padding: 0 .5ex}\n",
       "</style>\n",
       "<ol class=list-inline><li>29</li><li>6</li></ol>\n"
      ],
      "text/latex": [
       "\\begin{enumerate*}\n",
       "\\item 29\n",
       "\\item 6\n",
       "\\end{enumerate*}\n"
      ],
      "text/markdown": [
       "1. 29\n",
       "2. 6\n",
       "\n",
       "\n"
      ],
      "text/plain": [
       "[1] 29  6"
      ]
     },
     "metadata": {},
     "output_type": "display_data"
    }
   ],
   "source": [
    "library(pheatmap)\n",
    "\n",
    "forplot = na.omit(data1)\n",
    "\n",
    "#forplot = forplot[rowSums(forplot) >100,]\n",
    "\n",
    "#da=log2(data1+1)\n",
    "dat=t(scale(t(forplot))) # 'scale'可以对log(fpkm+1)数值进行归一化\n",
    "#处理数据\n",
    "dat[dat>2]=2\n",
    "dat[dat<(-2)]= -2\n",
    "dim(dat)\n",
    "\n",
    "dat = dat[complete.cases(dat), ]"
   ]
  },
  {
   "cell_type": "code",
   "execution_count": 16,
   "id": "301c6515-53c8-4638-8f00-04c75b742a70",
   "metadata": {},
   "outputs": [
    {
     "data": {
      "text/html": [
       "<table class=\"dataframe\">\n",
       "<caption>A matrix: 2 x 6 of type dbl</caption>\n",
       "<thead>\n",
       "\t<tr><th></th><th scope=col>C_1</th><th scope=col>C_2</th><th scope=col>C_3</th><th scope=col>FHU_1</th><th scope=col>FHU_2</th><th scope=col>FHU_3</th></tr>\n",
       "</thead>\n",
       "<tbody>\n",
       "\t<tr><th scope=row>Atp7b</th><td>0.8691431</td><td>0.6487969</td><td>1.162938</td><td>-0.8201773</td><td>-0.7467286</td><td>-1.1139721</td></tr>\n",
       "\t<tr><th scope=row>Atp7a</th><td>0.8369931</td><td>0.7302870</td><td>1.136786</td><td>-1.0498405</td><td>-0.7856161</td><td>-0.8686097</td></tr>\n",
       "</tbody>\n",
       "</table>\n"
      ],
      "text/latex": [
       "A matrix: 2 x 6 of type dbl\n",
       "\\begin{tabular}{r|llllll}\n",
       "  & C\\_1 & C\\_2 & C\\_3 & FHU\\_1 & FHU\\_2 & FHU\\_3\\\\\n",
       "\\hline\n",
       "\tAtp7b & 0.8691431 & 0.6487969 & 1.162938 & -0.8201773 & -0.7467286 & -1.1139721\\\\\n",
       "\tAtp7a & 0.8369931 & 0.7302870 & 1.136786 & -1.0498405 & -0.7856161 & -0.8686097\\\\\n",
       "\\end{tabular}\n"
      ],
      "text/markdown": [
       "\n",
       "A matrix: 2 x 6 of type dbl\n",
       "\n",
       "| <!--/--> | C_1 | C_2 | C_3 | FHU_1 | FHU_2 | FHU_3 |\n",
       "|---|---|---|---|---|---|---|\n",
       "| Atp7b | 0.8691431 | 0.6487969 | 1.162938 | -0.8201773 | -0.7467286 | -1.1139721 |\n",
       "| Atp7a | 0.8369931 | 0.7302870 | 1.136786 | -1.0498405 | -0.7856161 | -0.8686097 |\n",
       "\n"
      ],
      "text/plain": [
       "      C_1       C_2       C_3      FHU_1      FHU_2      FHU_3     \n",
       "Atp7b 0.8691431 0.6487969 1.162938 -0.8201773 -0.7467286 -1.1139721\n",
       "Atp7a 0.8369931 0.7302870 1.136786 -1.0498405 -0.7856161 -0.8686097"
      ]
     },
     "metadata": {},
     "output_type": "display_data"
    }
   ],
   "source": [
    "library(pheatmap)\n",
    "annotation_col = data.frame(c(rep('Control',3),rep('Fe-MoS2 + US + H2O2',3)))\n",
    "colnames(annotation_col) = 'group'\n",
    "row.names(annotation_col) <- colnames(dat)\n",
    "head(dat,2)"
   ]
  },
  {
   "cell_type": "code",
   "execution_count": 17,
   "id": "5fd10b68-4332-48ec-a422-5e9ce3e16474",
   "metadata": {},
   "outputs": [],
   "source": [
    "colnames(cu.gene) = 'Pathway Type'"
   ]
  },
  {
   "cell_type": "code",
   "execution_count": 36,
   "id": "13bf37e1-9446-4049-8c10-f52e93835e6f",
   "metadata": {},
   "outputs": [],
   "source": [
    "dat2 = dat[-c(1:8),]"
   ]
  },
  {
   "cell_type": "code",
   "execution_count": 37,
   "id": "d0a55148-b25b-4472-b2c9-7dbef6160b9a",
   "metadata": {},
   "outputs": [
    {
     "data": {
      "image/png": "[encoded data removed]",
      "text/plain": [
       "plot without title"
      ]
     },
     "metadata": {
      "image/png": {
       "height": 600,
       "width": 480
      }
     },
     "output_type": "display_data"
    }
   ],
   "source": [
    "\n",
    "options(repr.plot.width = 8,repr.plot.height = 10)\n",
    "xx = pheatmap(dat2,\n",
    "         cluster_rows = FALSE,\n",
    "         cluster_cols = TRUE,\n",
    "         show_rownames=TRUE,\n",
    "         show_colnames = FALSE,\n",
    "          scale=\"none\",\n",
    "        annotation_col = annotation_col,\n",
    "              annotation_row = cu.gene,\n",
    "          #cluster_cols = F,\n",
    "          fontsize_row = 10,\n",
    "          fontsize_col = 10,\n",
    "          #color = colorRampPalette(c(\"navy\", \"white\", \"firebrick3\"))(100),\n",
    "          color = colorRampPalette(c(\"#2874A9\", \"white\", \"#F87F13\"))(100)#换颜色\n",
    "         # angle_col = 45 #修改横轴坐标名倾斜度\n",
    ")"
   ]
  },
  {
   "cell_type": "code",
   "execution_count": 39,
   "id": "79cb41f0-cb13-44d3-9734-3a06a4575973",
   "metadata": {},
   "outputs": [
    {
     "data": {
      "text/html": [
       "<strong>png:</strong> 2"
      ],
      "text/latex": [
       "\\textbf{png:} 2"
      ],
      "text/markdown": [
       "**png:** 2"
      ],
      "text/plain": [
       "png \n",
       "  2 "
      ]
     },
     "metadata": {},
     "output_type": "display_data"
    }
   ],
   "source": [
    "pdf('cu.gene.pdf',height = 5,width = 6)\n",
    "xx\n",
    "dev.off()"
   ]
  },
  {
   "cell_type": "code",
   "execution_count": 25,
   "id": "270942c5-ce16-4f4e-817b-637ae3254473",
   "metadata": {},
   "outputs": [],
   "source": [
    "dat1 =dat[1:8,]"
   ]
  },
  {
   "cell_type": "code",
   "execution_count": 33,
   "id": "2d33fdb7-f2e2-4ac4-b086-8605a5a2d895",
   "metadata": {},
   "outputs": [
    {
     "data": {
      "image/png": "[encoded data removed]",
      "text/plain": [
       "plot without title"
      ]
     },
     "metadata": {
      "image/png": {
       "height": 240,
       "width": 300
      }
     },
     "output_type": "display_data"
    }
   ],
   "source": [
    "options(repr.plot.width = 5,repr.plot.height = 4)\n",
    "xx = pheatmap(dat1,\n",
    "         cluster_rows = FALSE,\n",
    "         cluster_cols = TRUE,\n",
    "         show_rownames=TRUE,\n",
    "         show_colnames = FALSE,\n",
    "          scale=\"none\",\n",
    "        annotation_col = annotation_col,\n",
    "             # annotation_row = cu.gene,\n",
    "          #cluster_cols = F,\n",
    "          fontsize_row = 10,\n",
    "          fontsize_col = 10,\n",
    "          #color = colorRampPalette(c(\"navy\", \"white\", \"firebrick3\"))(100),\n",
    "          color = colorRampPalette(c(\"#2874A9\", \"white\", \"#F87F13\"))(100)#换颜色\n",
    "         # angle_col = 45 #修改横轴坐标名倾斜度\n",
    ")"
   ]
  },
  {
   "cell_type": "code",
   "execution_count": 35,
   "id": "bb851829-cc73-42b4-869d-810b49dfab2e",
   "metadata": {},
   "outputs": [
    {
     "data": {
      "text/html": [
       "<strong>png:</strong> 2"
      ],
      "text/latex": [
       "\\textbf{png:} 2"
      ],
      "text/markdown": [
       "**png:** 2"
      ],
      "text/plain": [
       "png \n",
       "  2 "
      ]
     },
     "metadata": {},
     "output_type": "display_data"
    }
   ],
   "source": [
    "pdf('cu.gene.2.pdf',height = 3,width = 5)\n",
    "xx\n",
    "dev.off()"
   ]
  },
  {
   "cell_type": "code",
   "execution_count": 40,
   "id": "c0015222-ac58-4060-a3b5-10cedfb0721f",
   "metadata": {},
   "outputs": [],
   "source": [
    "data = read.csv('./expr.csv',row.names = 1)"
   ]
  },
  {
   "cell_type": "code",
   "execution_count": null,
   "id": "ca34163e-0945-4dfb-84ba-197338c8d43b",
   "metadata": {},
   "outputs": [],
   "source": []
  }
 ],
 "metadata": {
  "kernelspec": {
   "display_name": "R",
   "language": "R",
   "name": "ir"
  },
  "language_info": {
   "codemirror_mode": "r",
   "file_extension": ".r",
   "mimetype": "text/x-r-source",
   "name": "R",
   "pygments_lexer": "r",
   "version": "4.2.1"
  }
 },
 "nbformat": 4,
 "nbformat_minor": 5
}
