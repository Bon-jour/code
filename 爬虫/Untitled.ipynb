{
 "cells": [
  {
   "cell_type": "code",
   "execution_count": null,
   "id": "6cc81717-09d7-4ad3-b7b2-f9475fd22deb",
   "metadata": {},
   "outputs": [],
   "source": []
  },
  {
   "cell_type": "code",
   "execution_count": null,
   "id": "1235974a-b28a-43e5-89c4-97e9ef709b71",
   "metadata": {},
   "outputs": [],
   "source": [
    " <a href=\"https://jsxx.ahau.edu.cn/ch/jsxx_show.html?zgh=1982008\" target=\"_blank\" title=\"程备久\">"
   ]
  },
  {
   "cell_type": "code",
   "execution_count": 34,
   "id": "3ac9a4ec-926a-401f-b856-af069e4327ee",
   "metadata": {},
   "outputs": [
    {
     "name": "stdout",
     "output_type": "stream",
     "text": [
      "None\n"
     ]
    }
   ],
   "source": [
    "import requests\n",
    "import re\n",
    "import csv\n",
    "\n",
    "f = open('教师列表.csv', 'w') #创建文件\n",
    "writer = csv.writer(f)\n",
    "writer.writerow([\"index\",\"email\"\"website\"]) #列表的标题行\n",
    "\n",
    "root_url = 'https://smkx.ahau.edu.cn/szdw.htm'  #教职工列表的网址\n",
    "root = requests.get(root_url, timeout=30)\n",
    "root.raise_for_status()\n",
    "root.encoding = root.apparent_encoding\n",
    "\n",
    "person_list = re.search('https://jsxx.ahau.edu.cn/ch/jsxx_show.html?zgh=',root.text) #匹配列表的老师们的个人主页网址\n",
    "#person_list = match_person.findall(root.text)\n",
    "#print(root.text)\n",
    "print(person_list)\n",
    "# for i in range(len(person_list)): #遍历所有教师\n",
    "#     url = 'https://jsxx.ahau.edu.cn/' + person_list[i].split('=\"')[1] #拼接得到完整的个人主页网址\n",
    "#     person = requests.get(url, timeout=30)\n",
    "#     person.raise_for_status()\n",
    "#     person.encoding = person.apparent_encoding\n",
    "\n",
    "#     match_email = re.compile(r'E-mail[：: ]*[\\w\\.]*@[\\w\\.]*') #匹配电子邮箱\n",
    "#     try:\n",
    "#         email = match_email.findall(person.text)[0].split('：')[1]\n",
    "#     except:\n",
    "#         email = '?'\n",
    "\n",
    "    \n",
    "#     row = [i+1, name, email, research, url]\n",
    "#     writer.writerow(row) #写入文件\n",
    "#     print(row)\n",
    "\n",
    "f.close()"
   ]
  },
  {
   "cell_type": "code",
   "execution_count": null,
   "id": "6d2ef121-9e48-44dd-a841-25f07ff40a66",
   "metadata": {},
   "outputs": [],
   "source": []
  }
 ],
 "metadata": {
  "kernelspec": {
   "display_name": "Python 3 (ipykernel)",
   "language": "python",
   "name": "python3"
  },
  "language_info": {
   "codemirror_mode": {
    "name": "ipython",
    "version": 3
   },
   "file_extension": ".py",
   "mimetype": "text/x-python",
   "name": "python",
   "nbconvert_exporter": "python",
   "pygments_lexer": "ipython3",
   "version": "3.9.15"
  }
 },
 "nbformat": 4,
 "nbformat_minor": 5
}
