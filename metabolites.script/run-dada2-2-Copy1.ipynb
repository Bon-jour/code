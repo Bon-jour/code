{
 "cells": [
  {
   "cell_type": "code",
   "execution_count": 8,
   "id": "4151300d-9026-423a-ad96-be72f8f66771",
   "metadata": {},
   "outputs": [],
   "source": [
    "library(dada2)"
   ]
  },
  {
   "cell_type": "code",
   "execution_count": 10,
   "id": "19fcf0ee-c5cf-4703-88de-d62db84b3853",
   "metadata": {},
   "outputs": [],
   "source": [
    "filtpath  = './data/filtered/'"
   ]
  },
  {
   "cell_type": "code",
   "execution_count": null,
   "id": "069a48c8-446b-4034-9876-c06df57bac05",
   "metadata": {},
   "outputs": [],
   "source": []
  },
  {
   "cell_type": "code",
   "execution_count": 11,
   "id": "cd17e277-997b-4d92-9e69-22cda766d440",
   "metadata": {},
   "outputs": [],
   "source": [
    "filtFs <- list.files(filtpath, pattern=\"test_F_filt.fastq.gz\", full.names = TRUE)\n",
    "filtRs <- list.files(filtpath, pattern=\"test_R_filt.fastq.gz\", full.names = TRUE)"
   ]
  },
  {
   "cell_type": "code",
   "execution_count": 12,
   "id": "9f00cb55-4c44-4de6-8cd6-ac83b5d8706c",
   "metadata": {},
   "outputs": [],
   "source": [
    "sample.names <- sapply(strsplit(basename(filtFs), \"_\"), `[`, 1) # Assumes filename = samplename_XXX.fastq.gz\n",
    "sample.namesR <- sapply(strsplit(basename(filtRs), \"_\"), `[`, 1) # Assumes filename = samplename_XXX.fastq.gz"
   ]
  },
  {
   "cell_type": "code",
   "execution_count": 13,
   "id": "2c5a1bfc-7ff4-4309-a081-8dd87425d14e",
   "metadata": {},
   "outputs": [],
   "source": [
    "if(!identical(sample.names, sample.namesR)) stop(\"Forward and reverse files do not match.\")\n",
    "names(filtFs) <- sample.names\n",
    "names(filtRs) <- sample.names\n",
    "set.seed(100)"
   ]
  },
  {
   "cell_type": "code",
   "execution_count": 14,
   "id": "4ab8d746-7a83-4804-9b3a-98dc21201f4d",
   "metadata": {},
   "outputs": [
    {
     "name": "stdout",
     "output_type": "stream",
     "text": [
      "3750000 total bases in 25000 reads from 1 samples will be used for learning the error rates.\n"
     ]
    }
   ],
   "source": [
    "errF <- learnErrors(filtFs, nbases=1e8, multithread=TRUE)"
   ]
  },
  {
   "cell_type": "code",
   "execution_count": 16,
   "id": "30a95775-7d4d-49a1-827d-1ef8c532a9de",
   "metadata": {},
   "outputs": [
    {
     "name": "stdout",
     "output_type": "stream",
     "text": [
      "3750000 total bases in 25000 reads from 1 samples will be used for learning the error rates.\n"
     ]
    }
   ],
   "source": [
    "# Learn reverse error rates\n",
    "errR <- learnErrors(filtRs, nbases=1e8, multithread=TRUE)"
   ]
  },
  {
   "cell_type": "code",
   "execution_count": 18,
   "id": "ee0d8084-6d4f-4ed0-8e8a-30f8a3daa580",
   "metadata": {},
   "outputs": [],
   "source": [
    "save(errF,errR,file = 'errf_r.rda')"
   ]
  },
  {
   "cell_type": "code",
   "execution_count": 22,
   "id": "04bbffca-470e-402f-875a-6f4c1d8eb5ba",
   "metadata": {},
   "outputs": [],
   "source": [
    "filtFs <- list.files(filtpath, pattern=\"F_filt.fastq.gz\", full.names = TRUE)\n",
    "filtRs <- list.files(filtpath, pattern=\"R_filt.fastq.gz\", full.names = TRUE)"
   ]
  },
  {
   "cell_type": "code",
   "execution_count": 25,
   "id": "7bc78287-ca44-4cd0-bb4d-757ea91795a5",
   "metadata": {},
   "outputs": [],
   "source": [
    "sample.names <- sapply(strsplit(basename(filtFs), \"_\"), `[`, 1) # Assumes filename = samplename_XXX.fastq.gz\n",
    "sample.namesR <- sapply(strsplit(basename(filtRs), \"_\"), `[`, 1) # Assumes filename = samplename_XXX.fastq.gz"
   ]
  },
  {
   "cell_type": "code",
   "execution_count": 26,
   "id": "8f2e381e-40aa-4863-9554-791ab9ec71b3",
   "metadata": {},
   "outputs": [],
   "source": [
    "if(!identical(sample.names, sample.namesR)) stop(\"Forward and reverse files do not match.\")\n",
    "names(filtFs) <- sample.names\n",
    "names(filtRs) <- sample.names\n",
    "set.seed(100)"
   ]
  },
  {
   "cell_type": "code",
   "execution_count": null,
   "id": "0b97bdae-5a00-4181-b654-c52ac4b534e3",
   "metadata": {},
   "outputs": [
    {
     "name": "stdout",
     "output_type": "stream",
     "text": [
      "Processing: KO-CLP1 \n"
     ]
    },
    {
     "name": "stderr",
     "output_type": "stream",
     "text": [
      "Dereplicating sequence entries in Fastq file: ./data/filtered//KO-CLP1_F_filt.fastq.gz\n",
      "\n",
      ".\n",
      ".\n",
      ".\n",
      ".\n",
      ".\n",
      ".\n",
      ".\n",
      ".\n",
      ".\n",
      ".\n",
      ".\n",
      ".\n",
      ".\n",
      ".\n",
      ".\n",
      ".\n",
      ".\n",
      ".\n",
      ".\n",
      "Encountered 14117908 unique sequences from 19940188 total sequences read.\n",
      "\n"
     ]
    }
   ],
   "source": [
    "mergers <- vector(\"list\", length(sample.names))\n",
    "names(mergers) <- sample.names\n",
    "for(sam in sample.names) {\n",
    "  cat(\"Processing:\", sam, \"\\n\")\n",
    "    derepF <- derepFastq(filtFs[[sam]],verbose = TRUE)\n",
    "    ddF <- dada(derepF, err=errF, multithread=TRUE,verbose = TRUE)\n",
    "    derepR <- derepFastq(filtRs[[sam]])\n",
    "    ddR <- dada(derepR, err=errR, multithread=TRUE)\n",
    "    merger <- mergePairs(ddF, derepF, ddR, derepR)\n",
    "    mergers[[sam]] <- merger\n",
    "}\n",
    "rm(derepF); rm(derepR)\n",
    "# Construct sequence table and remove chimeras\n",
    "saveRDS(mergers,file = 'mergers.rds')\n"
   ]
  },
  {
   "cell_type": "code",
   "execution_count": 1,
   "id": "c1c91c1c-bd97-4a57-aa15-778c3ed1b532",
   "metadata": {},
   "outputs": [
    {
     "ename": "ERROR",
     "evalue": "Error in eval(expr, envir, enclos): object 'a' not found\n",
     "output_type": "error",
     "traceback": [
      "Error in eval(expr, envir, enclos): object 'a' not found\nTraceback:\n"
     ]
    }
   ],
   "source": [
    "a"
   ]
  },
  {
   "cell_type": "code",
   "execution_count": null,
   "id": "e0d59160-fc37-45d6-9ac9-f24ee35662f5",
   "metadata": {},
   "outputs": [],
   "source": []
  }
 ],
 "metadata": {
  "kernelspec": {
   "display_name": "R",
   "language": "R",
   "name": "ir"
  },
  "language_info": {
   "codemirror_mode": "r",
   "file_extension": ".r",
   "mimetype": "text/x-r-source",
   "name": "R",
   "pygments_lexer": "r",
   "version": "4.2.1"
  }
 },
 "nbformat": 4,
 "nbformat_minor": 5
}
