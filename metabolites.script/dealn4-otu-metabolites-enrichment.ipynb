{
 "cells": [
  {
   "cell_type": "code",
   "execution_count": 1,
   "id": "99047a7a-7854-4ff1-b764-e94072ae3580",
   "metadata": {},
   "outputs": [
    {
     "name": "stderr",
     "output_type": "stream",
     "text": [
      "\n",
      "\n",
      "Registered S3 methods overwritten by 'treeio':\n",
      "  method              from    \n",
      "  MRCA.phylo          tidytree\n",
      "  MRCA.treedata       tidytree\n",
      "  Nnode.treedata      tidytree\n",
      "  Ntip.treedata       tidytree\n",
      "  ancestor.phylo      tidytree\n",
      "  ancestor.treedata   tidytree\n",
      "  child.phylo         tidytree\n",
      "  child.treedata      tidytree\n",
      "  full_join.phylo     tidytree\n",
      "  full_join.treedata  tidytree\n",
      "  groupClade.phylo    tidytree\n",
      "  groupClade.treedata tidytree\n",
      "  groupOTU.phylo      tidytree\n",
      "  groupOTU.treedata   tidytree\n",
      "  is.rooted.treedata  tidytree\n",
      "  nodeid.phylo        tidytree\n",
      "  nodeid.treedata     tidytree\n",
      "  nodelab.phylo       tidytree\n",
      "  nodelab.treedata    tidytree\n",
      "  offspring.phylo     tidytree\n",
      "  offspring.treedata  tidytree\n",
      "  parent.phylo        tidytree\n",
      "  parent.treedata     tidytree\n",
      "  root.treedata       tidytree\n",
      "  rootnode.phylo      tidytree\n",
      "  sibling.phylo       tidytree\n",
      "\n",
      "clusterProfiler v4.6.2  For help: https://yulab-smu.top/biomedical-knowledge-mining-book/\n",
      "\n",
      "If you use clusterProfiler in published research, please cite:\n",
      "T Wu, E Hu, S Xu, M Chen, P Guo, Z Dai, T Feng, L Zhou, W Tang, L Zhan, X Fu, S Liu, X Bo, and G Yu. clusterProfiler 4.0: A universal enrichment tool for interpreting omics data. The Innovation. 2021, 2(3):100141\n",
      "\n",
      "\n",
      "Attaching package: ‘clusterProfiler’\n",
      "\n",
      "\n",
      "The following object is masked from ‘package:stats’:\n",
      "\n",
      "    filter\n",
      "\n",
      "\n"
     ]
    },
    {
     "data": {
      "text/html": [
       "<style>\n",
       ".list-inline {list-style: none; margin:0; padding: 0}\n",
       ".list-inline>li {display: inline-block}\n",
       ".list-inline>li:not(:last-child)::after {content: \"\\00b7\"; padding: 0 .5ex}\n",
       "</style>\n",
       "<ol class=list-inline><li>'KO.CLP.cor.r.csv'</li><li>'KO.NC.cor.r.csv'</li><li>'WT.CLP.cor.r.csv'</li><li>'WT.NC.cor.r.csv'</li></ol>\n"
      ],
      "text/latex": [
       "\\begin{enumerate*}\n",
       "\\item 'KO.CLP.cor.r.csv'\n",
       "\\item 'KO.NC.cor.r.csv'\n",
       "\\item 'WT.CLP.cor.r.csv'\n",
       "\\item 'WT.NC.cor.r.csv'\n",
       "\\end{enumerate*}\n"
      ],
      "text/markdown": [
       "1. 'KO.CLP.cor.r.csv'\n",
       "2. 'KO.NC.cor.r.csv'\n",
       "3. 'WT.CLP.cor.r.csv'\n",
       "4. 'WT.NC.cor.r.csv'\n",
       "\n",
       "\n"
      ],
      "text/plain": [
       "[1] \"KO.CLP.cor.r.csv\" \"KO.NC.cor.r.csv\"  \"WT.CLP.cor.r.csv\" \"WT.NC.cor.r.csv\" "
      ]
     },
     "metadata": {},
     "output_type": "display_data"
    },
    {
     "name": "stderr",
     "output_type": "stream",
     "text": [
      "Warning message:\n",
      "“package ‘dplyr’ was built under R version 4.2.3”\n",
      "\n",
      "Attaching package: ‘dplyr’\n",
      "\n",
      "\n",
      "The following objects are masked from ‘package:stats’:\n",
      "\n",
      "    filter, lag\n",
      "\n",
      "\n",
      "The following objects are masked from ‘package:base’:\n",
      "\n",
      "    intersect, setdiff, setequal, union\n",
      "\n",
      "\n",
      "Warning message:\n",
      "“package ‘ggplot2’ was built under R version 4.2.3”\n",
      "\u001b[1m\u001b[22mSaving 6.67 x 6.67 in image\n",
      "Warning message in rep(yes, length.out = len):\n",
      "“'x' is NULL so the result will be NULL”\n"
     ]
    },
    {
     "name": "stdout",
     "output_type": "stream",
     "text": [
      "[1] \"chucuop\"\n"
     ]
    },
    {
     "name": "stderr",
     "output_type": "stream",
     "text": [
      "\u001b[1m\u001b[22mSaving 6.67 x 6.67 in image\n",
      "Warning message in rep(yes, length.out = len):\n",
      "“'x' is NULL so the result will be NULL”\n"
     ]
    },
    {
     "name": "stdout",
     "output_type": "stream",
     "text": [
      "[1] \"chucuop\"\n"
     ]
    },
    {
     "name": "stderr",
     "output_type": "stream",
     "text": [
      "\u001b[1m\u001b[22mSaving 6.67 x 6.67 in image\n",
      "\u001b[1m\u001b[22mSaving 6.67 x 6.67 in image\n",
      "Warning message in rep(yes, length.out = len):\n",
      "“'x' is NULL so the result will be NULL”\n"
     ]
    },
    {
     "name": "stdout",
     "output_type": "stream",
     "text": [
      "[1] \"chucuop\"\n"
     ]
    },
    {
     "name": "stderr",
     "output_type": "stream",
     "text": [
      "\u001b[1m\u001b[22mSaving 6.67 x 6.67 in image\n",
      "\u001b[1m\u001b[22mSaving 6.67 x 6.67 in image\n",
      "\u001b[1m\u001b[22mSaving 6.67 x 6.67 in image\n",
      "\u001b[1m\u001b[22mSaving 6.67 x 6.67 in image\n",
      "Warning message in rep(yes, length.out = len):\n",
      "“'x' is NULL so the result will be NULL”\n"
     ]
    },
    {
     "name": "stdout",
     "output_type": "stream",
     "text": [
      "[1] \"chucuop\"\n"
     ]
    },
    {
     "name": "stderr",
     "output_type": "stream",
     "text": [
      "\u001b[1m\u001b[22mSaving 6.67 x 6.67 in image\n",
      "\u001b[1m\u001b[22mSaving 6.67 x 6.67 in image\n",
      "\u001b[1m\u001b[22mSaving 6.67 x 6.67 in image\n",
      "\u001b[1m\u001b[22mSaving 6.67 x 6.67 in image\n",
      "\u001b[1m\u001b[22mSaving 6.67 x 6.67 in image\n",
      "\u001b[1m\u001b[22mSaving 6.67 x 6.67 in image\n",
      "\u001b[1m\u001b[22mSaving 6.67 x 6.67 in image\n",
      "\u001b[1m\u001b[22mSaving 6.67 x 6.67 in image\n",
      "\u001b[1m\u001b[22mSaving 6.67 x 6.67 in image\n",
      "\u001b[1m\u001b[22mSaving 6.67 x 6.67 in image\n",
      "\u001b[1m\u001b[22mSaving 6.67 x 6.67 in image\n",
      "Warning message in rep(yes, length.out = len):\n",
      "“'x' is NULL so the result will be NULL”\n"
     ]
    },
    {
     "name": "stdout",
     "output_type": "stream",
     "text": [
      "[1] \"chucuop\"\n"
     ]
    },
    {
     "name": "stderr",
     "output_type": "stream",
     "text": [
      "\u001b[1m\u001b[22mSaving 6.67 x 6.67 in image\n",
      "\u001b[1m\u001b[22mSaving 6.67 x 6.67 in image\n",
      "Warning message in rep(yes, length.out = len):\n",
      "“'x' is NULL so the result will be NULL”\n"
     ]
    },
    {
     "name": "stdout",
     "output_type": "stream",
     "text": [
      "[1] \"chucuop\"\n"
     ]
    },
    {
     "name": "stderr",
     "output_type": "stream",
     "text": [
      "\u001b[1m\u001b[22mSaving 6.67 x 6.67 in image\n",
      "\u001b[1m\u001b[22mSaving 6.67 x 6.67 in image\n",
      "\u001b[1m\u001b[22mSaving 6.67 x 6.67 in image\n",
      "\u001b[1m\u001b[22mSaving 6.67 x 6.67 in image\n",
      "\u001b[1m\u001b[22mSaving 6.67 x 6.67 in image\n",
      "\u001b[1m\u001b[22mSaving 6.67 x 6.67 in image\n",
      "\u001b[1m\u001b[22mSaving 6.67 x 6.67 in image\n",
      "\u001b[1m\u001b[22mSaving 6.67 x 6.67 in image\n",
      "\u001b[1m\u001b[22mSaving 6.67 x 6.67 in image\n",
      "Warning message in rep(yes, length.out = len):\n",
      "“'x' is NULL so the result will be NULL”\n"
     ]
    },
    {
     "name": "stdout",
     "output_type": "stream",
     "text": [
      "[1] \"chucuop\"\n"
     ]
    },
    {
     "name": "stderr",
     "output_type": "stream",
     "text": [
      "\u001b[1m\u001b[22mSaving 6.67 x 6.67 in image\n",
      "Warning message in rep(yes, length.out = len):\n",
      "“'x' is NULL so the result will be NULL”\n"
     ]
    },
    {
     "name": "stdout",
     "output_type": "stream",
     "text": [
      "[1] \"chucuop\"\n"
     ]
    },
    {
     "name": "stderr",
     "output_type": "stream",
     "text": [
      "\u001b[1m\u001b[22mSaving 6.67 x 6.67 in image\n",
      "Warning message in rep(yes, length.out = len):\n",
      "“'x' is NULL so the result will be NULL”\n"
     ]
    },
    {
     "name": "stdout",
     "output_type": "stream",
     "text": [
      "[1] \"chucuop\"\n"
     ]
    },
    {
     "name": "stderr",
     "output_type": "stream",
     "text": [
      "\u001b[1m\u001b[22mSaving 6.67 x 6.67 in image\n",
      "\u001b[1m\u001b[22mSaving 6.67 x 6.67 in image\n",
      "\u001b[1m\u001b[22mSaving 6.67 x 6.67 in image\n",
      "Warning message in rep(yes, length.out = len):\n",
      "“'x' is NULL so the result will be NULL”\n"
     ]
    },
    {
     "name": "stdout",
     "output_type": "stream",
     "text": [
      "[1] \"chucuop\"\n"
     ]
    },
    {
     "name": "stderr",
     "output_type": "stream",
     "text": [
      "\u001b[1m\u001b[22mSaving 6.67 x 6.67 in image\n",
      "\u001b[1m\u001b[22mSaving 6.67 x 6.67 in image\n",
      "Warning message in rep(yes, length.out = len):\n",
      "“'x' is NULL so the result will be NULL”\n"
     ]
    },
    {
     "name": "stdout",
     "output_type": "stream",
     "text": [
      "[1] \"chucuop\"\n"
     ]
    },
    {
     "name": "stderr",
     "output_type": "stream",
     "text": [
      "\u001b[1m\u001b[22mSaving 6.67 x 6.67 in image\n",
      "Warning message in rep(yes, length.out = len):\n",
      "“'x' is NULL so the result will be NULL”\n"
     ]
    },
    {
     "name": "stdout",
     "output_type": "stream",
     "text": [
      "[1] \"chucuop\"\n"
     ]
    },
    {
     "name": "stderr",
     "output_type": "stream",
     "text": [
      "\u001b[1m\u001b[22mSaving 6.67 x 6.67 in image\n",
      "\u001b[1m\u001b[22mSaving 6.67 x 6.67 in image\n"
     ]
    }
   ],
   "source": [
    "alldata = list.files(path = \"./6.otu-metabolite-luming/\",pattern = \".cor.r.csv$\")\n",
    "\n",
    "kvalue = read.csv('./cnumber.csv')\n",
    "mmu_kegg_compound <- read.csv('./KEGG_COMPOUND_PATHWAY_mmu.csv')\n",
    "\n",
    "library(clusterProfiler)\n",
    "\n",
    "alldata\n",
    "\n",
    "for (file in alldata){\n",
    "    outdir = paste0(getwd(),'/8.metabolites.connect.enrichment/',substr(file,1,6))\n",
    "    if(dir.exists(outdir)){\n",
    "      print(\"dir exists\")\n",
    "    }else{\n",
    "      dir.create(outdir)\n",
    "    }\n",
    "\n",
    "    data = read.csv(paste0('./6.otu-metabolite-luming/',file))\n",
    "    colnames(data)[1] = 'Metabolites'\n",
    "    df = dplyr::left_join(kvalue,data,by = 'Metabolites')\n",
    "    df= df[,-1]\n",
    "    koclp_t = df\n",
    "    each = list()\n",
    "    final = list()\n",
    "    for (i in c(2:length(colnames(koclp_t)))){\n",
    "        \n",
    "        each[[i]] = koclp_t[,c(1,i)]\n",
    "        \n",
    "        library(dplyr)\n",
    "        each[[i]]  %>% filter_at(vars(c(2)),all_vars(. !=0)) %>% .$kegg -> final[[i]]\n",
    "        \n",
    "    }\n",
    "\n",
    "    \n",
    "    disease2gene=mmu_kegg_compound[, c(\"Pathway\", \"COMPOUND\")]\n",
    "    disease2name=mmu_kegg_compound[, c(\"Pathway\", \"PATHWAY_MAP\")]\n",
    "    \n",
    "    x = list()\n",
    "    p = list()\n",
    "\n",
    "    for (i in c(2:length(each))){\n",
    "\n",
    "        tryCatch({\n",
    "        x[[i]] = enricher(final[[i]], TERM2GENE=disease2gene, TERM2NAME=disease2name)\n",
    "        #write.csv(x[[i]]@result,file = paste0(outdir,'/',colnames(df)[i],'.enrichment.csv'))\n",
    "            data = x[[i]]@result\n",
    "            ensembl=strsplit(data$geneID,\"/\")\n",
    "            res = list()\n",
    "            y = list()\n",
    "            for (j in c(1:length(ensembl))){\n",
    "                res[[j]] =  kvalue %>%  filter(kegg %in% ensembl[[j]])\n",
    "                data[j,10] = paste(res[[j]]$Metabolites,collapse = \"/\")\n",
    "                colnames(data)[10] = 'name'\n",
    "            }\n",
    "        write.csv(data,file = paste0(outdir,'/',colnames(df)[i],'.enrichment.rename.csv'))\n",
    "            \n",
    "            library(ggplot2)\n",
    "            tryCatch({\n",
    "            p[[i]] = dotplot(x[[i]])\n",
    "            ggsave(p[[i]],file = paste0(outdir,'/',colnames(df)[i],'.pdf'))\n",
    "            }, error = function(e) {\n",
    "            print('chucuop')\n",
    "            },finally = {\n",
    "            next})\n",
    "        \n",
    "\n",
    "        \n",
    "        }, error = function(e) {\n",
    "        print('chucuop')\n",
    "        },finally = {\n",
    "        next})\n",
    "    \n",
    "    }\n",
    "\n",
    "    \n",
    "}"
   ]
  },
  {
   "cell_type": "code",
   "execution_count": null,
   "id": "61763e77-b731-47ea-8173-83bf27ce659f",
   "metadata": {},
   "outputs": [],
   "source": []
  }
 ],
 "metadata": {
  "kernelspec": {
   "display_name": "R",
   "language": "R",
   "name": "ir"
  },
  "language_info": {
   "codemirror_mode": "r",
   "file_extension": ".r",
   "mimetype": "text/x-r-source",
   "name": "R",
   "pygments_lexer": "r",
   "version": "4.2.1"
  }
 },
 "nbformat": 4,
 "nbformat_minor": 5
}
