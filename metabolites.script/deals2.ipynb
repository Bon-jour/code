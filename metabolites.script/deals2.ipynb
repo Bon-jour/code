{
 "cells": [
  {
   "cell_type": "code",
   "execution_count": 7,
   "id": "0a137043-8b9a-4c77-8bf0-aaf709f6671d",
   "metadata": {},
   "outputs": [],
   "source": [
    "mycounts_filter = read.table('./5.metacyc/humann2_final_out/test.tsv',header = T,row.names = 1)"
   ]
  },
  {
   "cell_type": "code",
   "execution_count": null,
   "id": "df831ec9-1199-4efb-9974-832e3db91d33",
   "metadata": {},
   "outputs": [],
   "source": []
  }
 ],
 "metadata": {
  "kernelspec": {
   "display_name": "R",
   "language": "R",
   "name": "ir"
  },
  "language_info": {
   "codemirror_mode": "r",
   "file_extension": ".r",
   "mimetype": "text/x-r-source",
   "name": "R",
   "pygments_lexer": "r",
   "version": "4.2.1"
  }
 },
 "nbformat": 4,
 "nbformat_minor": 5
}
