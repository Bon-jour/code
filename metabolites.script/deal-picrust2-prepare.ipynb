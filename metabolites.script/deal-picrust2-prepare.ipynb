{
 "cells": [
  {
   "cell_type": "code",
   "execution_count": 1,
   "id": "4fa70c96-a6fc-4659-917c-6bf208a65ee2",
   "metadata": {},
   "outputs": [
    {
     "name": "stderr",
     "output_type": "stream",
     "text": [
      "Warning message:\n",
      "“package ‘phyloseq’ was built under R version 4.2.2”\n"
     ]
    },
    {
     "data": {
      "text/plain": [
       "[1] ‘1.42.0’"
      ]
     },
     "metadata": {},
     "output_type": "display_data"
    },
    {
     "data": {
      "text/plain": [
       "phyloseq-class experiment-level object\n",
       "otu_table()   OTU Table:         [ 19216 taxa and 26 samples ]\n",
       "sample_data() Sample Data:       [ 26 samples by 7 sample variables ]\n",
       "tax_table()   Taxonomy Table:    [ 19216 taxa by 7 taxonomic ranks ]\n",
       "phy_tree()    Phylogenetic Tree: [ 19216 tips and 19215 internal nodes ]"
      ]
     },
     "metadata": {},
     "output_type": "display_data"
    }
   ],
   "source": [
    "library(phyloseq)\n",
    "packageVersion(\"phyloseq\")\n",
    "## [1] '1.32.0'\n",
    "data(\"GlobalPatterns\")# phyloseq 自带文件\n",
    "GlobalPatterns"
   ]
  },
  {
   "cell_type": "code",
   "execution_count": 3,
   "id": "8e44e25c-21da-4218-9c9b-9264600b744a",
   "metadata": {},
   "outputs": [
    {
     "data": {
      "text/html": [
       "2348.43840384615"
      ],
      "text/latex": [
       "2348.43840384615"
      ],
      "text/markdown": [
       "2348.43840384615"
      ],
      "text/plain": [
       "[1] 2348.438"
      ]
     },
     "metadata": {},
     "output_type": "display_data"
    }
   ],
   "source": [
    "610593985/260000"
   ]
  },
  {
   "cell_type": "code",
   "execution_count": 7,
   "id": "c3c8043b-c91c-459e-8743-c94d071e8090",
   "metadata": {},
   "outputs": [
    {
     "data": {
      "text/html": [
       "16.3055555555556"
      ],
      "text/latex": [
       "16.3055555555556"
      ],
      "text/markdown": [
       "16.3055555555556"
      ],
      "text/plain": [
       "[1] 16.30556"
      ]
     },
     "metadata": {},
     "output_type": "display_data"
    }
   ],
   "source": [
    "23480/60/24"
   ]
  },
  {
   "cell_type": "code",
   "execution_count": 6,
   "id": "ad7f7606-3ee5-44d8-bc3d-b91e6216e220",
   "metadata": {},
   "outputs": [
    {
     "data": {
      "text/html": [
       "45.73125"
      ],
      "text/latex": [
       "45.73125"
      ],
      "text/markdown": [
       "45.73125"
      ],
      "text/plain": [
       "[1] 45.73125"
      ]
     },
     "metadata": {},
     "output_type": "display_data"
    }
   ],
   "source": [
    "65853/60/24"
   ]
  },
  {
   "cell_type": "code",
   "execution_count": 8,
   "id": "f63bf7f0-7734-4f0c-bf51-4c5df7f57f50",
   "metadata": {},
   "outputs": [
    {
     "data": {
      "text/html": [
       "1178875"
      ],
      "text/latex": [
       "1178875"
      ],
      "text/markdown": [
       "1178875"
      ],
      "text/plain": [
       "[1] 1178875"
      ]
     },
     "metadata": {},
     "output_type": "display_data"
    }
   ],
   "source": [
    "18765747 -17586872"
   ]
  },
  {
   "cell_type": "code",
   "execution_count": null,
   "id": "37aeb0bf-0631-488c-a399-fb9d2189e002",
   "metadata": {},
   "outputs": [],
   "source": [
    "17586872"
   ]
  },
  {
   "cell_type": "code",
   "execution_count": 9,
   "id": "a99b3e56-08d2-4ebd-8ffa-5446f9bb3c67",
   "metadata": {},
   "outputs": [
    {
     "data": {
      "text/html": [
       "37531494"
      ],
      "text/latex": [
       "37531494"
      ],
      "text/markdown": [
       "37531494"
      ],
      "text/plain": [
       "[1] 37531494"
      ]
     },
     "metadata": {},
     "output_type": "display_data"
    }
   ],
   "source": [
    "18765747*2"
   ]
  },
  {
   "cell_type": "code",
   "execution_count": null,
   "id": "1e4226e4-6a29-428e-96b4-513d2aff1d3f",
   "metadata": {},
   "outputs": [],
   "source": [
    "69710200"
   ]
  }
 ],
 "metadata": {
  "kernelspec": {
   "display_name": "R",
   "language": "R",
   "name": "ir"
  },
  "language_info": {
   "codemirror_mode": "r",
   "file_extension": ".r",
   "mimetype": "text/x-r-source",
   "name": "R",
   "pygments_lexer": "r",
   "version": "4.2.1"
  }
 },
 "nbformat": 4,
 "nbformat_minor": 5
}
