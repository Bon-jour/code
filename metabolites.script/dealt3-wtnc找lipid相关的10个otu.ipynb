{
 "cells": [
  {
   "cell_type": "code",
   "execution_count": 1,
   "id": "35d03896-dc8f-4b1e-b134-04fb7f300e0e",
   "metadata": {},
   "outputs": [
    {
     "name": "stderr",
     "output_type": "stream",
     "text": [
      "Warning message:\n",
      "“package ‘dplyr’ was built under R version 4.2.3”\n",
      "\n",
      "Attaching package: ‘dplyr’\n",
      "\n",
      "\n",
      "The following objects are masked from ‘package:stats’:\n",
      "\n",
      "    filter, lag\n",
      "\n",
      "\n",
      "The following objects are masked from ‘package:base’:\n",
      "\n",
      "    intersect, setdiff, setequal, union\n",
      "\n",
      "\n"
     ]
    }
   ],
   "source": [
    "library(dplyr)"
   ]
  },
  {
   "cell_type": "code",
   "execution_count": 31,
   "id": "ef573b95-3a73-4a5b-965d-07e97f4c58af",
   "metadata": {},
   "outputs": [],
   "source": [
    "kegg = read.csv('./KEGG_COMPOUND_PATHWAY_mmu.csv')"
   ]
  },
  {
   "cell_type": "code",
   "execution_count": 32,
   "id": "c9b60b29-f77a-46df-8c02-b9cdd4f10173",
   "metadata": {},
   "outputs": [],
   "source": [
    "kegg = kegg %>% filter(grepl('Biosynthesis of unsaturated fatty acids',PATHWAY_MAP))"
   ]
  },
  {
   "cell_type": "code",
   "execution_count": 33,
   "id": "3560b20e-f0f7-45b0-94dd-f98d69aec758",
   "metadata": {},
   "outputs": [],
   "source": [
    "id = kegg$COMPOUND"
   ]
  },
  {
   "cell_type": "code",
   "execution_count": 34,
   "id": "add79ff7-8226-4fd7-91be-647a07c9fd45",
   "metadata": {},
   "outputs": [],
   "source": [
    "cnumber = read.csv('./cnumber.csv')"
   ]
  },
  {
   "cell_type": "code",
   "execution_count": null,
   "id": "a23d2c76-addc-4862-8248-0419e4a3b18f",
   "metadata": {},
   "outputs": [],
   "source": []
  },
  {
   "cell_type": "code",
   "execution_count": 35,
   "id": "49a2bcd7-bc82-4bfa-92ed-029b56caaee5",
   "metadata": {},
   "outputs": [],
   "source": [
    "lipid = cnumber[cnumber$kegg %in% id,]"
   ]
  },
  {
   "cell_type": "code",
   "execution_count": 36,
   "id": "12a0867b-f3d8-49f6-8db1-7d4d1ada7c99",
   "metadata": {},
   "outputs": [],
   "source": [
    "metalipid = lipid$Metabolites"
   ]
  },
  {
   "cell_type": "code",
   "execution_count": 37,
   "id": "1a901318-78ec-40b5-ab85-d0450b3a98f1",
   "metadata": {},
   "outputs": [],
   "source": [
    "koclp.r = read.csv('./6.otu-metabolite-luming/WT.NC.cor.r.csv',row.names = 1)"
   ]
  },
  {
   "cell_type": "code",
   "execution_count": 38,
   "id": "702125fa-0172-4334-ba8f-1e0f472a715c",
   "metadata": {},
   "outputs": [],
   "source": [
    "koclp.p = read.csv('./6.otu-metabolite-luming/WT.NC.cor.p.csv',row.names = 1)"
   ]
  },
  {
   "cell_type": "code",
   "execution_count": 39,
   "id": "d9479747-07ad-449b-a4b9-957d4e39f04b",
   "metadata": {},
   "outputs": [
    {
     "data": {
      "text/html": [
       "<table class=\"dataframe\">\n",
       "<caption>A data.frame: 2 × 10</caption>\n",
       "<thead>\n",
       "\t<tr><th></th><th scope=col>g__Akkermansia_s__Akkermansia_muciniphila</th><th scope=col>g__Bacteroides_s__Bacteroides_caecimuris</th><th scope=col>g__Helicobacter_s__Helicobacter_hepaticus</th><th scope=col>g__Acutalibacter_s__Acutalibacter_muris</th><th scope=col>g__Lachnoclostridium_s__Lachnoclostridium_sp..YL32</th><th scope=col>g__Muribaculum_s__Muribaculum_sp..TLL.A4</th><th scope=col>g__Muribaculum_s__Muribaculum_sp..H5</th><th scope=col>g__Muribaculum_s__Muribaculum_intestinale</th><th scope=col>g__Duncaniella_s__Duncaniella_sp..B8</th><th scope=col>g__Lactobacillus_s__Lactobacillus_murinus</th></tr>\n",
       "\t<tr><th></th><th scope=col>&lt;dbl&gt;</th><th scope=col>&lt;dbl&gt;</th><th scope=col>&lt;dbl&gt;</th><th scope=col>&lt;dbl&gt;</th><th scope=col>&lt;dbl&gt;</th><th scope=col>&lt;dbl&gt;</th><th scope=col>&lt;dbl&gt;</th><th scope=col>&lt;dbl&gt;</th><th scope=col>&lt;dbl&gt;</th><th scope=col>&lt;dbl&gt;</th></tr>\n",
       "</thead>\n",
       "<tbody>\n",
       "\t<tr><th scope=row>LysoPC(20:4(5Z,8Z,11Z,14Z))</th><td>0</td><td>0</td><td>0</td><td>0</td><td>0</td><td>0</td><td>0</td><td>0</td><td>0</td><td>0</td></tr>\n",
       "\t<tr><th scope=row>LysoPC(18:0)</th><td>0</td><td>0</td><td>0</td><td>0</td><td>0</td><td>0</td><td>0</td><td>0</td><td>0</td><td>0</td></tr>\n",
       "</tbody>\n",
       "</table>\n"
      ],
      "text/latex": [
       "A data.frame: 2 × 10\n",
       "\\begin{tabular}{r|llllllllll}\n",
       "  & g\\_\\_Akkermansia\\_s\\_\\_Akkermansia\\_muciniphila & g\\_\\_Bacteroides\\_s\\_\\_Bacteroides\\_caecimuris & g\\_\\_Helicobacter\\_s\\_\\_Helicobacter\\_hepaticus & g\\_\\_Acutalibacter\\_s\\_\\_Acutalibacter\\_muris & g\\_\\_Lachnoclostridium\\_s\\_\\_Lachnoclostridium\\_sp..YL32 & g\\_\\_Muribaculum\\_s\\_\\_Muribaculum\\_sp..TLL.A4 & g\\_\\_Muribaculum\\_s\\_\\_Muribaculum\\_sp..H5 & g\\_\\_Muribaculum\\_s\\_\\_Muribaculum\\_intestinale & g\\_\\_Duncaniella\\_s\\_\\_Duncaniella\\_sp..B8 & g\\_\\_Lactobacillus\\_s\\_\\_Lactobacillus\\_murinus\\\\\n",
       "  & <dbl> & <dbl> & <dbl> & <dbl> & <dbl> & <dbl> & <dbl> & <dbl> & <dbl> & <dbl>\\\\\n",
       "\\hline\n",
       "\tLysoPC(20:4(5Z,8Z,11Z,14Z)) & 0 & 0 & 0 & 0 & 0 & 0 & 0 & 0 & 0 & 0\\\\\n",
       "\tLysoPC(18:0) & 0 & 0 & 0 & 0 & 0 & 0 & 0 & 0 & 0 & 0\\\\\n",
       "\\end{tabular}\n"
      ],
      "text/markdown": [
       "\n",
       "A data.frame: 2 × 10\n",
       "\n",
       "| <!--/--> | g__Akkermansia_s__Akkermansia_muciniphila &lt;dbl&gt; | g__Bacteroides_s__Bacteroides_caecimuris &lt;dbl&gt; | g__Helicobacter_s__Helicobacter_hepaticus &lt;dbl&gt; | g__Acutalibacter_s__Acutalibacter_muris &lt;dbl&gt; | g__Lachnoclostridium_s__Lachnoclostridium_sp..YL32 &lt;dbl&gt; | g__Muribaculum_s__Muribaculum_sp..TLL.A4 &lt;dbl&gt; | g__Muribaculum_s__Muribaculum_sp..H5 &lt;dbl&gt; | g__Muribaculum_s__Muribaculum_intestinale &lt;dbl&gt; | g__Duncaniella_s__Duncaniella_sp..B8 &lt;dbl&gt; | g__Lactobacillus_s__Lactobacillus_murinus &lt;dbl&gt; |\n",
       "|---|---|---|---|---|---|---|---|---|---|---|\n",
       "| LysoPC(20:4(5Z,8Z,11Z,14Z)) | 0 | 0 | 0 | 0 | 0 | 0 | 0 | 0 | 0 | 0 |\n",
       "| LysoPC(18:0) | 0 | 0 | 0 | 0 | 0 | 0 | 0 | 0 | 0 | 0 |\n",
       "\n"
      ],
      "text/plain": [
       "                            g__Akkermansia_s__Akkermansia_muciniphila\n",
       "LysoPC(20:4(5Z,8Z,11Z,14Z)) 0                                        \n",
       "LysoPC(18:0)                0                                        \n",
       "                            g__Bacteroides_s__Bacteroides_caecimuris\n",
       "LysoPC(20:4(5Z,8Z,11Z,14Z)) 0                                       \n",
       "LysoPC(18:0)                0                                       \n",
       "                            g__Helicobacter_s__Helicobacter_hepaticus\n",
       "LysoPC(20:4(5Z,8Z,11Z,14Z)) 0                                        \n",
       "LysoPC(18:0)                0                                        \n",
       "                            g__Acutalibacter_s__Acutalibacter_muris\n",
       "LysoPC(20:4(5Z,8Z,11Z,14Z)) 0                                      \n",
       "LysoPC(18:0)                0                                      \n",
       "                            g__Lachnoclostridium_s__Lachnoclostridium_sp..YL32\n",
       "LysoPC(20:4(5Z,8Z,11Z,14Z)) 0                                                 \n",
       "LysoPC(18:0)                0                                                 \n",
       "                            g__Muribaculum_s__Muribaculum_sp..TLL.A4\n",
       "LysoPC(20:4(5Z,8Z,11Z,14Z)) 0                                       \n",
       "LysoPC(18:0)                0                                       \n",
       "                            g__Muribaculum_s__Muribaculum_sp..H5\n",
       "LysoPC(20:4(5Z,8Z,11Z,14Z)) 0                                   \n",
       "LysoPC(18:0)                0                                   \n",
       "                            g__Muribaculum_s__Muribaculum_intestinale\n",
       "LysoPC(20:4(5Z,8Z,11Z,14Z)) 0                                        \n",
       "LysoPC(18:0)                0                                        \n",
       "                            g__Duncaniella_s__Duncaniella_sp..B8\n",
       "LysoPC(20:4(5Z,8Z,11Z,14Z)) 0                                   \n",
       "LysoPC(18:0)                0                                   \n",
       "                            g__Lactobacillus_s__Lactobacillus_murinus\n",
       "LysoPC(20:4(5Z,8Z,11Z,14Z)) 0                                        \n",
       "LysoPC(18:0)                0                                        "
      ]
     },
     "metadata": {},
     "output_type": "display_data"
    }
   ],
   "source": [
    "head(koclp.r,2)"
   ]
  },
  {
   "cell_type": "code",
   "execution_count": 40,
   "id": "d55e9fb9-0a68-4849-85e2-a2aba361030c",
   "metadata": {},
   "outputs": [],
   "source": [
    "r  = koclp.r[metalipid,]"
   ]
  },
  {
   "cell_type": "code",
   "execution_count": 41,
   "id": "ed01cb4f-a2a3-442a-b183-3e539a478f42",
   "metadata": {},
   "outputs": [],
   "source": [
    "p  = koclp.p[metalipid,]"
   ]
  },
  {
   "cell_type": "code",
   "execution_count": 42,
   "id": "94c20c7b-953b-4e91-9a41-1a2036f5a4b9",
   "metadata": {},
   "outputs": [
    {
     "data": {
      "text/html": [
       "<style>\n",
       ".list-inline {list-style: none; margin:0; padding: 0}\n",
       ".list-inline>li {display: inline-block}\n",
       ".list-inline>li:not(:last-child)::after {content: \"\\00b7\"; padding: 0 .5ex}\n",
       "</style>\n",
       "<ol class=list-inline><li>19</li><li>10</li></ol>\n"
      ],
      "text/latex": [
       "\\begin{enumerate*}\n",
       "\\item 19\n",
       "\\item 10\n",
       "\\end{enumerate*}\n"
      ],
      "text/markdown": [
       "1. 19\n",
       "2. 10\n",
       "\n",
       "\n"
      ],
      "text/plain": [
       "[1] 19 10"
      ]
     },
     "metadata": {},
     "output_type": "display_data"
    }
   ],
   "source": [
    "dim(r)"
   ]
  },
  {
   "cell_type": "code",
   "execution_count": 43,
   "id": "9a700295-ab1f-40e1-97b4-701c1400c8a8",
   "metadata": {},
   "outputs": [],
   "source": [
    "cmt = t(r);pmt =t(p)"
   ]
  },
  {
   "cell_type": "code",
   "execution_count": 44,
   "id": "e786a205-e0ff-49c9-a201-e9c53350ffc8",
   "metadata": {},
   "outputs": [],
   "source": [
    "library(reshape2)"
   ]
  },
  {
   "cell_type": "code",
   "execution_count": 45,
   "id": "cc922807-41a0-4e07-9d0f-3f8ad4c44ec3",
   "metadata": {},
   "outputs": [],
   "source": [
    "df <-melt(cmt,value.name= \"cor\")"
   ]
  },
  {
   "cell_type": "code",
   "execution_count": 46,
   "id": "cc956a20-629a-4afd-9e66-a2ca2af3af9d",
   "metadata": {},
   "outputs": [],
   "source": [
    "df$pvalue <- as.vector(pmt)"
   ]
  },
  {
   "cell_type": "code",
   "execution_count": 47,
   "id": "16cc4073-c52d-4f04-bcfe-82b47bee3ff2",
   "metadata": {},
   "outputs": [],
   "source": [
    "if(!is.null(pmt)){\n",
    "    ssmt <- pmt< 0.01\n",
    "    pmt[ssmt] <- '**'\n",
    "    smt <- pmt > 0.01& pmt < 0.05\n",
    "    pmt[smt] <- '*'\n",
    "    pmt[!ssmt&!smt]<- ''\n",
    "    } else{\n",
    "    pmt <- F\n",
    "    }"
   ]
  },
  {
   "cell_type": "code",
   "execution_count": 48,
   "id": "1fe9a2fd-6033-4dfb-a89e-3e6614da40b5",
   "metadata": {},
   "outputs": [],
   "source": [
    "library(pheatmap)"
   ]
  },
  {
   "cell_type": "code",
   "execution_count": 49,
   "id": "ad78c344-a8da-46c1-8a11-9e1f40d2ef89",
   "metadata": {},
   "outputs": [],
   "source": [
    "kind = c('g__Akkermansia_s__Akkermansia_muciniphila',\n",
    "'g__Bacteroides_s__Bacteroides_caecimuris',\n",
    "'g__Helicobacter_s__Helicobacter_hepaticus',\n",
    "'g__Acutalibacter_s__Acutalibacter_muris',\n",
    "'g__Lachnoclostridium_s__Lachnoclostridium_sp..YL32'\n",
    ")\n",
    "\n",
    "bad = c('g__Muribaculum_s__Muribaculum_sp..TLL.A4',\n",
    "'g__Muribaculum_s__Muribaculum_sp..H5',\n",
    "'g__Muribaculum_s__Muribaculum_intestinale',\n",
    "'g__Duncaniella_s__Duncaniella_sp..B8',\n",
    "'g__Lactobacillus_s__Lactobacillus_murinus'\n",
    ")"
   ]
  },
  {
   "cell_type": "code",
   "execution_count": 50,
   "id": "6fde43c6-b543-4769-99ae-45a2bfbed156",
   "metadata": {},
   "outputs": [],
   "source": [
    "dd = as.data.frame(c(kind,bad))"
   ]
  },
  {
   "cell_type": "code",
   "execution_count": 51,
   "id": "845ac2a0-40cd-4c70-8e6c-75576966c75f",
   "metadata": {},
   "outputs": [],
   "source": [
    "dd$type = c(rep('kind',5),rep('bad',5))"
   ]
  },
  {
   "cell_type": "code",
   "execution_count": 52,
   "id": "56cf34aa-caea-49e9-b4bb-3961f65ae16f",
   "metadata": {},
   "outputs": [],
   "source": [
    "dd = dd %>% tibble::column_to_rownames(.,'c(kind, bad)')"
   ]
  },
  {
   "cell_type": "code",
   "execution_count": 53,
   "id": "a4fe6849-288f-400e-a76c-c5d9f8882113",
   "metadata": {},
   "outputs": [
    {
     "data": {
      "text/html": [
       "<table class=\"dataframe\">\n",
       "<caption>A data.frame: 10 × 1</caption>\n",
       "<thead>\n",
       "\t<tr><th></th><th scope=col>type</th></tr>\n",
       "\t<tr><th></th><th scope=col>&lt;chr&gt;</th></tr>\n",
       "</thead>\n",
       "<tbody>\n",
       "\t<tr><th scope=row>g__Akkermansia_s__Akkermansia_muciniphila</th><td>kind</td></tr>\n",
       "\t<tr><th scope=row>g__Bacteroides_s__Bacteroides_caecimuris</th><td>kind</td></tr>\n",
       "\t<tr><th scope=row>g__Helicobacter_s__Helicobacter_hepaticus</th><td>kind</td></tr>\n",
       "\t<tr><th scope=row>g__Acutalibacter_s__Acutalibacter_muris</th><td>kind</td></tr>\n",
       "\t<tr><th scope=row>g__Lachnoclostridium_s__Lachnoclostridium_sp..YL32</th><td>kind</td></tr>\n",
       "\t<tr><th scope=row>g__Muribaculum_s__Muribaculum_sp..TLL.A4</th><td>bad </td></tr>\n",
       "\t<tr><th scope=row>g__Muribaculum_s__Muribaculum_sp..H5</th><td>bad </td></tr>\n",
       "\t<tr><th scope=row>g__Muribaculum_s__Muribaculum_intestinale</th><td>bad </td></tr>\n",
       "\t<tr><th scope=row>g__Duncaniella_s__Duncaniella_sp..B8</th><td>bad </td></tr>\n",
       "\t<tr><th scope=row>g__Lactobacillus_s__Lactobacillus_murinus</th><td>bad </td></tr>\n",
       "</tbody>\n",
       "</table>\n"
      ],
      "text/latex": [
       "A data.frame: 10 × 1\n",
       "\\begin{tabular}{r|l}\n",
       "  & type\\\\\n",
       "  & <chr>\\\\\n",
       "\\hline\n",
       "\tg\\_\\_Akkermansia\\_s\\_\\_Akkermansia\\_muciniphila & kind\\\\\n",
       "\tg\\_\\_Bacteroides\\_s\\_\\_Bacteroides\\_caecimuris & kind\\\\\n",
       "\tg\\_\\_Helicobacter\\_s\\_\\_Helicobacter\\_hepaticus & kind\\\\\n",
       "\tg\\_\\_Acutalibacter\\_s\\_\\_Acutalibacter\\_muris & kind\\\\\n",
       "\tg\\_\\_Lachnoclostridium\\_s\\_\\_Lachnoclostridium\\_sp..YL32 & kind\\\\\n",
       "\tg\\_\\_Muribaculum\\_s\\_\\_Muribaculum\\_sp..TLL.A4 & bad \\\\\n",
       "\tg\\_\\_Muribaculum\\_s\\_\\_Muribaculum\\_sp..H5 & bad \\\\\n",
       "\tg\\_\\_Muribaculum\\_s\\_\\_Muribaculum\\_intestinale & bad \\\\\n",
       "\tg\\_\\_Duncaniella\\_s\\_\\_Duncaniella\\_sp..B8 & bad \\\\\n",
       "\tg\\_\\_Lactobacillus\\_s\\_\\_Lactobacillus\\_murinus & bad \\\\\n",
       "\\end{tabular}\n"
      ],
      "text/markdown": [
       "\n",
       "A data.frame: 10 × 1\n",
       "\n",
       "| <!--/--> | type &lt;chr&gt; |\n",
       "|---|---|\n",
       "| g__Akkermansia_s__Akkermansia_muciniphila | kind |\n",
       "| g__Bacteroides_s__Bacteroides_caecimuris | kind |\n",
       "| g__Helicobacter_s__Helicobacter_hepaticus | kind |\n",
       "| g__Acutalibacter_s__Acutalibacter_muris | kind |\n",
       "| g__Lachnoclostridium_s__Lachnoclostridium_sp..YL32 | kind |\n",
       "| g__Muribaculum_s__Muribaculum_sp..TLL.A4 | bad  |\n",
       "| g__Muribaculum_s__Muribaculum_sp..H5 | bad  |\n",
       "| g__Muribaculum_s__Muribaculum_intestinale | bad  |\n",
       "| g__Duncaniella_s__Duncaniella_sp..B8 | bad  |\n",
       "| g__Lactobacillus_s__Lactobacillus_murinus | bad  |\n",
       "\n"
      ],
      "text/plain": [
       "                                                   type\n",
       "g__Akkermansia_s__Akkermansia_muciniphila          kind\n",
       "g__Bacteroides_s__Bacteroides_caecimuris           kind\n",
       "g__Helicobacter_s__Helicobacter_hepaticus          kind\n",
       "g__Acutalibacter_s__Acutalibacter_muris            kind\n",
       "g__Lachnoclostridium_s__Lachnoclostridium_sp..YL32 kind\n",
       "g__Muribaculum_s__Muribaculum_sp..TLL.A4           bad \n",
       "g__Muribaculum_s__Muribaculum_sp..H5               bad \n",
       "g__Muribaculum_s__Muribaculum_intestinale          bad \n",
       "g__Duncaniella_s__Duncaniella_sp..B8               bad \n",
       "g__Lactobacillus_s__Lactobacillus_murinus          bad "
      ]
     },
     "metadata": {},
     "output_type": "display_data"
    }
   ],
   "source": [
    "dd"
   ]
  },
  {
   "cell_type": "code",
   "execution_count": 54,
   "id": "23d3d642-b0b4-444e-8b91-34b6123d4ac2",
   "metadata": {},
   "outputs": [],
   "source": [
    "cmt1 = cmt[,colSums(cmt == 0) < nrow(cmt)]"
   ]
  },
  {
   "cell_type": "code",
   "execution_count": 55,
   "id": "d5a28408-4c8a-48a4-8048-4fed2321232b",
   "metadata": {},
   "outputs": [],
   "source": [
    "pmt1 = pmt[,colnames(cmt1)]"
   ]
  },
  {
   "cell_type": "code",
   "execution_count": 56,
   "id": "18545ef2-9c4d-4780-86e2-1fe3b9af568f",
   "metadata": {},
   "outputs": [
    {
     "ename": "ERROR",
     "evalue": "Error in pheatmap(cmt1, scale = \"none\", cluster_row = F, cluster_col = T, : If display_numbers provided as matrix, its dimensions have to match with mat\n",
     "output_type": "error",
     "traceback": [
      "Error in pheatmap(cmt1, scale = \"none\", cluster_row = F, cluster_col = T, : If display_numbers provided as matrix, its dimensions have to match with mat\nTraceback:\n",
      "1. pheatmap(cmt1, scale = \"none\", cluster_row = F, cluster_col = T, \n .     border = \"black\", display_numbers = pmt1, fontsize_number = 15, \n .     number_color = \"white\", fontsize_row = 15, fontsize_col = 15, \n .     annotation_names_row = F, cellwidth = 12, cellheight = 14, \n .     color = mycol, annotation_row = dd)",
      "2. stop(\"If display_numbers provided as matrix, its dimensions have to match with mat\")"
     ]
    }
   ],
   "source": [
    " mycol<-colorRampPalette(c(\"blue\",\"white\",\"tomato\"))(50)\n",
    "    options(repr.plot.height = 8,repr.plot.width = 15)\n",
    "    p = pheatmap(cmt1,scale = \"none\",cluster_row = F, cluster_col = T, border='black',\n",
    "    display_numbers = pmt1,fontsize_number = 15, number_color = \"white\", fontsize_row = 15,  fontsize_col = 15,annotation_names_row =F,\n",
    "    cellwidth = 12, cellheight =14,color=mycol, annotation_row = dd )\n",
    "    \n",
    "    print(p)"
   ]
  },
  {
   "cell_type": "code",
   "execution_count": 57,
   "id": "344b58b3-e914-47ed-b6f3-53a9bc3006e7",
   "metadata": {},
   "outputs": [
    {
     "data": {
      "text/plain": [
       "NULL"
      ]
     },
     "metadata": {},
     "output_type": "display_data"
    }
   ],
   "source": [
    "dim(cmt1)"
   ]
  },
  {
   "cell_type": "code",
   "execution_count": null,
   "id": "4528e98e-f8bd-4615-bb93-1f962155464d",
   "metadata": {},
   "outputs": [],
   "source": []
  },
  {
   "cell_type": "code",
   "execution_count": null,
   "id": "f4f8b786-3822-4269-8805-f254c9a45052",
   "metadata": {},
   "outputs": [],
   "source": []
  },
  {
   "cell_type": "code",
   "execution_count": null,
   "id": "d572c7e6-9b56-4398-92a4-17c018f2a811",
   "metadata": {},
   "outputs": [],
   "source": []
  },
  {
   "cell_type": "code",
   "execution_count": null,
   "id": "211f7ba9-d4a1-409b-821a-27aae457dfa5",
   "metadata": {},
   "outputs": [],
   "source": []
  },
  {
   "cell_type": "code",
   "execution_count": null,
   "id": "9edf3d74-6591-4617-b834-c81b77f4e74f",
   "metadata": {},
   "outputs": [],
   "source": []
  },
  {
   "cell_type": "code",
   "execution_count": null,
   "id": "9fd3d746-2b35-4959-a029-fdf89165df90",
   "metadata": {},
   "outputs": [],
   "source": []
  },
  {
   "cell_type": "code",
   "execution_count": null,
   "id": "d1ed792f-c43b-4b99-829d-09a1158a9b68",
   "metadata": {},
   "outputs": [],
   "source": []
  },
  {
   "cell_type": "code",
   "execution_count": null,
   "id": "6776fb64-e061-4540-bee3-ffedac9357ca",
   "metadata": {},
   "outputs": [],
   "source": []
  },
  {
   "cell_type": "code",
   "execution_count": null,
   "id": "d51c55cd-d629-4890-bf17-2b88e2b3af1e",
   "metadata": {},
   "outputs": [],
   "source": []
  },
  {
   "cell_type": "code",
   "execution_count": null,
   "id": "8e44feac-cbcb-4dcd-bac1-6d5bad62c24c",
   "metadata": {},
   "outputs": [],
   "source": []
  },
  {
   "cell_type": "code",
   "execution_count": null,
   "id": "7ce497ee-a6c6-40b2-aa5e-ffdf5053fd70",
   "metadata": {},
   "outputs": [],
   "source": []
  },
  {
   "cell_type": "code",
   "execution_count": null,
   "id": "ee4d363d-2f98-43f9-9e66-fd3ff7090b48",
   "metadata": {},
   "outputs": [],
   "source": []
  },
  {
   "cell_type": "code",
   "execution_count": null,
   "id": "104f2d65-8363-42ae-87ef-1660e15c60b1",
   "metadata": {},
   "outputs": [],
   "source": []
  },
  {
   "cell_type": "code",
   "execution_count": null,
   "id": "3dc7a6f0-8a23-454f-b66e-96ee45d5a7e6",
   "metadata": {},
   "outputs": [],
   "source": []
  }
 ],
 "metadata": {
  "kernelspec": {
   "display_name": "R",
   "language": "R",
   "name": "ir"
  },
  "language_info": {
   "codemirror_mode": "r",
   "file_extension": ".r",
   "mimetype": "text/x-r-source",
   "name": "R",
   "pygments_lexer": "r",
   "version": "4.2.1"
  }
 },
 "nbformat": 4,
 "nbformat_minor": 5
}
