{
 "cells": [
  {
   "cell_type": "code",
   "execution_count": 4,
   "id": "02529532-4282-4e67-bdab-d0a59366433e",
   "metadata": {
    "scrolled": true
   },
   "outputs": [],
   "source": [
    "library(igraph)\n",
    "library(dplyr)\n",
    "library(Hmisc)"
   ]
  },
  {
   "cell_type": "code",
   "execution_count": 5,
   "id": "8cbbe3ad-0cce-411f-a73d-cefe7a45d0f5",
   "metadata": {},
   "outputs": [],
   "source": [
    "species.df = read.csv('./4.cor/rename.species.expr.csv',row.names = 1)"
   ]
  },
  {
   "cell_type": "code",
   "execution_count": 6,
   "id": "cfe40371-b799-43be-a1af-c1c9becc1eca",
   "metadata": {},
   "outputs": [
    {
     "data": {
      "text/html": [
       "<style>\n",
       ".list-inline {list-style: none; margin:0; padding: 0}\n",
       ".list-inline>li {display: inline-block}\n",
       ".list-inline>li:not(:last-child)::after {content: \"\\00b7\"; padding: 0 .5ex}\n",
       "</style>\n",
       "<ol class=list-inline><li>5868</li><li>32</li></ol>\n"
      ],
      "text/latex": [
       "\\begin{enumerate*}\n",
       "\\item 5868\n",
       "\\item 32\n",
       "\\end{enumerate*}\n"
      ],
      "text/markdown": [
       "1. 5868\n",
       "2. 32\n",
       "\n",
       "\n"
      ],
      "text/plain": [
       "[1] 5868   32"
      ]
     },
     "metadata": {},
     "output_type": "display_data"
    }
   ],
   "source": [
    "dim(species.df)"
   ]
  },
  {
   "cell_type": "code",
   "execution_count": 7,
   "id": "31ac5464-377c-45a3-a49f-599553d36a37",
   "metadata": {},
   "outputs": [
    {
     "data": {
      "text/html": [
       "<table class=\"dataframe\">\n",
       "<caption>A data.frame: 2 × 32</caption>\n",
       "<thead>\n",
       "\t<tr><th></th><th scope=col>KO.CLP1</th><th scope=col>KO.CLP2</th><th scope=col>KO.CLP3</th><th scope=col>KO.CLP4</th><th scope=col>KO.CLP5</th><th scope=col>KO.CLP6</th><th scope=col>KO.CLP7</th><th scope=col>KO.CLP8</th><th scope=col>KO.NC1</th><th scope=col>KO.NC2</th><th scope=col>⋯</th><th scope=col>WT.CLP7</th><th scope=col>WT.CLP8</th><th scope=col>WT.NC1</th><th scope=col>WT.NC2</th><th scope=col>WT.NC3</th><th scope=col>WT.NC4</th><th scope=col>WT.NC5</th><th scope=col>WT.NC6</th><th scope=col>WT.NC7</th><th scope=col>WT.NC8</th></tr>\n",
       "\t<tr><th></th><th scope=col>&lt;int&gt;</th><th scope=col>&lt;int&gt;</th><th scope=col>&lt;int&gt;</th><th scope=col>&lt;int&gt;</th><th scope=col>&lt;int&gt;</th><th scope=col>&lt;int&gt;</th><th scope=col>&lt;int&gt;</th><th scope=col>&lt;int&gt;</th><th scope=col>&lt;int&gt;</th><th scope=col>&lt;int&gt;</th><th scope=col>⋯</th><th scope=col>&lt;int&gt;</th><th scope=col>&lt;int&gt;</th><th scope=col>&lt;int&gt;</th><th scope=col>&lt;int&gt;</th><th scope=col>&lt;int&gt;</th><th scope=col>&lt;int&gt;</th><th scope=col>&lt;int&gt;</th><th scope=col>&lt;int&gt;</th><th scope=col>&lt;int&gt;</th><th scope=col>&lt;int&gt;</th></tr>\n",
       "</thead>\n",
       "<tbody>\n",
       "\t<tr><th scope=row>g__Absiella_s__Absiella_argi</th><td>159</td><td>54</td><td>123</td><td>73</td><td>82</td><td>79</td><td>109</td><td>103</td><td>253</td><td>155</td><td>⋯</td><td>193</td><td>208</td><td>217</td><td>381</td><td>218</td><td>370</td><td>591</td><td>211</td><td>192</td><td>188</td></tr>\n",
       "\t<tr><th scope=row>g__Absiella_s__Absiella_sp. 9CBEGH2</th><td> 20</td><td>82</td><td> 49</td><td>25</td><td>73</td><td>34</td><td> 42</td><td> 18</td><td> 44</td><td> 32</td><td>⋯</td><td>139</td><td>135</td><td>123</td><td> 75</td><td> 64</td><td> 62</td><td> 94</td><td> 77</td><td> 57</td><td>101</td></tr>\n",
       "</tbody>\n",
       "</table>\n"
      ],
      "text/latex": [
       "A data.frame: 2 × 32\n",
       "\\begin{tabular}{r|lllllllllllllllllllll}\n",
       "  & KO.CLP1 & KO.CLP2 & KO.CLP3 & KO.CLP4 & KO.CLP5 & KO.CLP6 & KO.CLP7 & KO.CLP8 & KO.NC1 & KO.NC2 & ⋯ & WT.CLP7 & WT.CLP8 & WT.NC1 & WT.NC2 & WT.NC3 & WT.NC4 & WT.NC5 & WT.NC6 & WT.NC7 & WT.NC8\\\\\n",
       "  & <int> & <int> & <int> & <int> & <int> & <int> & <int> & <int> & <int> & <int> & ⋯ & <int> & <int> & <int> & <int> & <int> & <int> & <int> & <int> & <int> & <int>\\\\\n",
       "\\hline\n",
       "\tg\\_\\_Absiella\\_s\\_\\_Absiella\\_argi & 159 & 54 & 123 & 73 & 82 & 79 & 109 & 103 & 253 & 155 & ⋯ & 193 & 208 & 217 & 381 & 218 & 370 & 591 & 211 & 192 & 188\\\\\n",
       "\tg\\_\\_Absiella\\_s\\_\\_Absiella\\_sp. 9CBEGH2 &  20 & 82 &  49 & 25 & 73 & 34 &  42 &  18 &  44 &  32 & ⋯ & 139 & 135 & 123 &  75 &  64 &  62 &  94 &  77 &  57 & 101\\\\\n",
       "\\end{tabular}\n"
      ],
      "text/markdown": [
       "\n",
       "A data.frame: 2 × 32\n",
       "\n",
       "| <!--/--> | KO.CLP1 &lt;int&gt; | KO.CLP2 &lt;int&gt; | KO.CLP3 &lt;int&gt; | KO.CLP4 &lt;int&gt; | KO.CLP5 &lt;int&gt; | KO.CLP6 &lt;int&gt; | KO.CLP7 &lt;int&gt; | KO.CLP8 &lt;int&gt; | KO.NC1 &lt;int&gt; | KO.NC2 &lt;int&gt; | ⋯ ⋯ | WT.CLP7 &lt;int&gt; | WT.CLP8 &lt;int&gt; | WT.NC1 &lt;int&gt; | WT.NC2 &lt;int&gt; | WT.NC3 &lt;int&gt; | WT.NC4 &lt;int&gt; | WT.NC5 &lt;int&gt; | WT.NC6 &lt;int&gt; | WT.NC7 &lt;int&gt; | WT.NC8 &lt;int&gt; |\n",
       "|---|---|---|---|---|---|---|---|---|---|---|---|---|---|---|---|---|---|---|---|---|---|\n",
       "| g__Absiella_s__Absiella_argi | 159 | 54 | 123 | 73 | 82 | 79 | 109 | 103 | 253 | 155 | ⋯ | 193 | 208 | 217 | 381 | 218 | 370 | 591 | 211 | 192 | 188 |\n",
       "| g__Absiella_s__Absiella_sp. 9CBEGH2 |  20 | 82 |  49 | 25 | 73 | 34 |  42 |  18 |  44 |  32 | ⋯ | 139 | 135 | 123 |  75 |  64 |  62 |  94 |  77 |  57 | 101 |\n",
       "\n"
      ],
      "text/plain": [
       "                                    KO.CLP1 KO.CLP2 KO.CLP3 KO.CLP4 KO.CLP5\n",
       "g__Absiella_s__Absiella_argi        159     54      123     73      82     \n",
       "g__Absiella_s__Absiella_sp. 9CBEGH2  20     82       49     25      73     \n",
       "                                    KO.CLP6 KO.CLP7 KO.CLP8 KO.NC1 KO.NC2 ⋯\n",
       "g__Absiella_s__Absiella_argi        79      109     103     253    155    ⋯\n",
       "g__Absiella_s__Absiella_sp. 9CBEGH2 34       42      18      44     32    ⋯\n",
       "                                    WT.CLP7 WT.CLP8 WT.NC1 WT.NC2 WT.NC3 WT.NC4\n",
       "g__Absiella_s__Absiella_argi        193     208     217    381    218    370   \n",
       "g__Absiella_s__Absiella_sp. 9CBEGH2 139     135     123     75     64     62   \n",
       "                                    WT.NC5 WT.NC6 WT.NC7 WT.NC8\n",
       "g__Absiella_s__Absiella_argi        591    211    192    188   \n",
       "g__Absiella_s__Absiella_sp. 9CBEGH2  94     77     57    101   "
      ]
     },
     "metadata": {},
     "output_type": "display_data"
    }
   ],
   "source": [
    "head(species.df,2)"
   ]
  },
  {
   "cell_type": "code",
   "execution_count": 8,
   "id": "978e4573-fe38-42c0-9695-f7df6c4f2a30",
   "metadata": {},
   "outputs": [],
   "source": [
    "species.df_t = species.df"
   ]
  },
  {
   "cell_type": "code",
   "execution_count": 9,
   "id": "60d5e3a2-27a2-41ae-a8cf-28a7dfe49080",
   "metadata": {},
   "outputs": [],
   "source": [
    "trt_id <- c('KO.CLP','KO.NC','WT.CLP','WT.NC') ## 定义样本的关键词，然后从样本名抓取处理的样本\n",
    "split_otu <- lapply(apply(sapply(trt_id,function(x){grep(x,colnames(species.df_t))}),2,FUN = function(x){species.df_t[,x]}),function(x){x[-(which(rowSums(x)==0)),]})"
   ]
  },
  {
   "cell_type": "code",
   "execution_count": 6,
   "id": "96d8ce67-818a-4709-9a1d-4c30434d424b",
   "metadata": {},
   "outputs": [],
   "source": [
    "#split_otu1 = lapply(split_otu,function(x){x[c(kind,bad),]})"
   ]
  },
  {
   "cell_type": "code",
   "execution_count": 10,
   "id": "023569b3-0b51-4eca-9bb8-e455bdc25b44",
   "metadata": {},
   "outputs": [
    {
     "name": "stderr",
     "output_type": "stream",
     "text": [
      "Warning message:\n",
      "“package ‘readxl’ was built under R version 4.2.3”\n"
     ]
    }
   ],
   "source": [
    "library(readxl)"
   ]
  },
  {
   "cell_type": "code",
   "execution_count": 19,
   "id": "0cf779f7-6374-4aab-a9c4-884a1d4dda01",
   "metadata": {},
   "outputs": [],
   "source": [
    "data <- read.csv(\"../daixiezu/LM2021-12430-东部战区总医院-小鼠肠道组织/LM2021-12430-东部战区总医院-小鼠肠道组织-LCMS-EMDB(项目报告)/3.数据矩阵/metabolomics_data-new.csv\")"
   ]
  },
  {
   "cell_type": "code",
   "execution_count": 20,
   "id": "0754c093-a85b-4f06-bf5d-e2711e3548d4",
   "metadata": {},
   "outputs": [
    {
     "data": {
      "text/html": [
       "<style>\n",
       ".list-inline {list-style: none; margin:0; padding: 0}\n",
       ".list-inline>li {display: inline-block}\n",
       ".list-inline>li:not(:last-child)::after {content: \"\\00b7\"; padding: 0 .5ex}\n",
       "</style>\n",
       "<ol class=list-inline><li>1319</li><li>33</li></ol>\n"
      ],
      "text/latex": [
       "\\begin{enumerate*}\n",
       "\\item 1319\n",
       "\\item 33\n",
       "\\end{enumerate*}\n"
      ],
      "text/markdown": [
       "1. 1319\n",
       "2. 33\n",
       "\n",
       "\n"
      ],
      "text/plain": [
       "[1] 1319   33"
      ]
     },
     "metadata": {},
     "output_type": "display_data"
    }
   ],
   "source": [
    "dim(data)"
   ]
  },
  {
   "cell_type": "code",
   "execution_count": 21,
   "id": "2cce6388-55ca-4aef-b665-09fdfbdd472a",
   "metadata": {},
   "outputs": [
    {
     "data": {
      "text/html": [
       "<table class=\"dataframe\">\n",
       "<caption>A data.frame: 6 × 33</caption>\n",
       "<thead>\n",
       "\t<tr><th></th><th scope=col>Metabolites</th><th scope=col>KO.CLP1</th><th scope=col>KO.CLP2</th><th scope=col>KO.CLP3</th><th scope=col>KO.CLP4</th><th scope=col>KO.CLP5</th><th scope=col>KO.CLP6</th><th scope=col>KO.CLP7</th><th scope=col>KO.CLP8</th><th scope=col>KO.NC1</th><th scope=col>⋯</th><th scope=col>WT.CLP7</th><th scope=col>WT.CLP8</th><th scope=col>WT.NC1</th><th scope=col>WT.NC2</th><th scope=col>WT.NC3</th><th scope=col>WT.NC4</th><th scope=col>WT.NC5</th><th scope=col>WT.NC6</th><th scope=col>WT.NC7</th><th scope=col>WT.NC8</th></tr>\n",
       "\t<tr><th></th><th scope=col>&lt;chr&gt;</th><th scope=col>&lt;dbl&gt;</th><th scope=col>&lt;dbl&gt;</th><th scope=col>&lt;dbl&gt;</th><th scope=col>&lt;dbl&gt;</th><th scope=col>&lt;dbl&gt;</th><th scope=col>&lt;dbl&gt;</th><th scope=col>&lt;dbl&gt;</th><th scope=col>&lt;dbl&gt;</th><th scope=col>&lt;dbl&gt;</th><th scope=col>⋯</th><th scope=col>&lt;dbl&gt;</th><th scope=col>&lt;dbl&gt;</th><th scope=col>&lt;dbl&gt;</th><th scope=col>&lt;dbl&gt;</th><th scope=col>&lt;dbl&gt;</th><th scope=col>&lt;dbl&gt;</th><th scope=col>&lt;dbl&gt;</th><th scope=col>&lt;dbl&gt;</th><th scope=col>&lt;dbl&gt;</th><th scope=col>&lt;dbl&gt;</th></tr>\n",
       "</thead>\n",
       "<tbody>\n",
       "\t<tr><th scope=row>1</th><td>LysoPC(20:4(5Z,8Z,11Z,14Z))</td><td>  86674.91</td><td> 218881.88</td><td> 280332.43</td><td> 178108.08</td><td> 119883.50</td><td> 32693.818</td><td> 345224.18</td><td> 119605.95</td><td> 153810.87</td><td>⋯</td><td> 20661.541</td><td> 104915.97</td><td>  5804.1840</td><td> 133204.62</td><td> 243140.95</td><td> 277966.9</td><td> 146089.59</td><td> 230441.15</td><td> 140556.18</td><td> 298852.50</td></tr>\n",
       "\t<tr><th scope=row>2</th><td>LysoPC(18:0)               </td><td>2009726.48</td><td>3334212.08</td><td>2450525.09</td><td>2989967.48</td><td>1876162.61</td><td>348891.231</td><td>2963804.62</td><td>2351682.11</td><td>2083188.43</td><td>⋯</td><td>263312.662</td><td>1680189.35</td><td>207871.0581</td><td>1864903.06</td><td>2001310.42</td><td>3029537.8</td><td>1408620.20</td><td>2274919.76</td><td>1574927.95</td><td>2431254.02</td></tr>\n",
       "\t<tr><th scope=row>3</th><td>LysoPC(16:0)               </td><td>1579107.80</td><td>3615409.77</td><td>2907057.40</td><td>2807052.44</td><td>1526425.93</td><td>322352.474</td><td>2937266.50</td><td>2201086.34</td><td>2147221.61</td><td>⋯</td><td>226300.022</td><td>1396375.48</td><td> 86323.0335</td><td>2145121.00</td><td>2460418.08</td><td>3234021.7</td><td>1665112.07</td><td>2431493.22</td><td>1641919.20</td><td>3368434.82</td></tr>\n",
       "\t<tr><th scope=row>4</th><td>7-Ketodeoxycholic acid     </td><td> 460947.83</td><td> 115990.26</td><td> 229030.88</td><td> 342532.55</td><td> 191981.33</td><td>  8781.413</td><td> 253109.04</td><td> 980285.95</td><td> 598316.46</td><td>⋯</td><td>184315.328</td><td>1126643.48</td><td>624357.2694</td><td>  97036.61</td><td>  55140.95</td><td> 341563.1</td><td>  89165.43</td><td>  69277.43</td><td>  50921.99</td><td> 141380.48</td></tr>\n",
       "\t<tr><th scope=row>5</th><td>LysoPC(18:1(11Z))          </td><td> 279205.21</td><td> 767694.32</td><td> 756848.18</td><td> 552460.68</td><td> 348781.84</td><td> 60195.550</td><td> 813902.61</td><td> 425061.34</td><td> 322615.81</td><td>⋯</td><td> 42024.658</td><td> 203389.49</td><td>  6791.6375</td><td> 368728.28</td><td> 371956.28</td><td> 471817.4</td><td> 213134.83</td><td> 449276.23</td><td> 269679.00</td><td> 577952.17</td></tr>\n",
       "\t<tr><th scope=row>6</th><td>LysoPC(15:0)               </td><td>  23669.76</td><td>  56142.91</td><td>  43735.81</td><td>  44706.25</td><td>  22036.99</td><td>  4551.547</td><td>  42452.71</td><td>  33576.79</td><td>  30837.62</td><td>⋯</td><td>  1863.197</td><td>  19633.56</td><td>   597.0162</td><td>  31864.18</td><td>  39265.97</td><td>  47543.3</td><td>  24818.71</td><td>  38031.68</td><td>  24647.95</td><td>  53865.55</td></tr>\n",
       "</tbody>\n",
       "</table>\n"
      ],
      "text/latex": [
       "A data.frame: 6 × 33\n",
       "\\begin{tabular}{r|lllllllllllllllllllll}\n",
       "  & Metabolites & KO.CLP1 & KO.CLP2 & KO.CLP3 & KO.CLP4 & KO.CLP5 & KO.CLP6 & KO.CLP7 & KO.CLP8 & KO.NC1 & ⋯ & WT.CLP7 & WT.CLP8 & WT.NC1 & WT.NC2 & WT.NC3 & WT.NC4 & WT.NC5 & WT.NC6 & WT.NC7 & WT.NC8\\\\\n",
       "  & <chr> & <dbl> & <dbl> & <dbl> & <dbl> & <dbl> & <dbl> & <dbl> & <dbl> & <dbl> & ⋯ & <dbl> & <dbl> & <dbl> & <dbl> & <dbl> & <dbl> & <dbl> & <dbl> & <dbl> & <dbl>\\\\\n",
       "\\hline\n",
       "\t1 & LysoPC(20:4(5Z,8Z,11Z,14Z)) &   86674.91 &  218881.88 &  280332.43 &  178108.08 &  119883.50 &  32693.818 &  345224.18 &  119605.95 &  153810.87 & ⋯ &  20661.541 &  104915.97 &   5804.1840 &  133204.62 &  243140.95 &  277966.9 &  146089.59 &  230441.15 &  140556.18 &  298852.50\\\\\n",
       "\t2 & LysoPC(18:0)                & 2009726.48 & 3334212.08 & 2450525.09 & 2989967.48 & 1876162.61 & 348891.231 & 2963804.62 & 2351682.11 & 2083188.43 & ⋯ & 263312.662 & 1680189.35 & 207871.0581 & 1864903.06 & 2001310.42 & 3029537.8 & 1408620.20 & 2274919.76 & 1574927.95 & 2431254.02\\\\\n",
       "\t3 & LysoPC(16:0)                & 1579107.80 & 3615409.77 & 2907057.40 & 2807052.44 & 1526425.93 & 322352.474 & 2937266.50 & 2201086.34 & 2147221.61 & ⋯ & 226300.022 & 1396375.48 &  86323.0335 & 2145121.00 & 2460418.08 & 3234021.7 & 1665112.07 & 2431493.22 & 1641919.20 & 3368434.82\\\\\n",
       "\t4 & 7-Ketodeoxycholic acid      &  460947.83 &  115990.26 &  229030.88 &  342532.55 &  191981.33 &   8781.413 &  253109.04 &  980285.95 &  598316.46 & ⋯ & 184315.328 & 1126643.48 & 624357.2694 &   97036.61 &   55140.95 &  341563.1 &   89165.43 &   69277.43 &   50921.99 &  141380.48\\\\\n",
       "\t5 & LysoPC(18:1(11Z))           &  279205.21 &  767694.32 &  756848.18 &  552460.68 &  348781.84 &  60195.550 &  813902.61 &  425061.34 &  322615.81 & ⋯ &  42024.658 &  203389.49 &   6791.6375 &  368728.28 &  371956.28 &  471817.4 &  213134.83 &  449276.23 &  269679.00 &  577952.17\\\\\n",
       "\t6 & LysoPC(15:0)                &   23669.76 &   56142.91 &   43735.81 &   44706.25 &   22036.99 &   4551.547 &   42452.71 &   33576.79 &   30837.62 & ⋯ &   1863.197 &   19633.56 &    597.0162 &   31864.18 &   39265.97 &   47543.3 &   24818.71 &   38031.68 &   24647.95 &   53865.55\\\\\n",
       "\\end{tabular}\n"
      ],
      "text/markdown": [
       "\n",
       "A data.frame: 6 × 33\n",
       "\n",
       "| <!--/--> | Metabolites &lt;chr&gt; | KO.CLP1 &lt;dbl&gt; | KO.CLP2 &lt;dbl&gt; | KO.CLP3 &lt;dbl&gt; | KO.CLP4 &lt;dbl&gt; | KO.CLP5 &lt;dbl&gt; | KO.CLP6 &lt;dbl&gt; | KO.CLP7 &lt;dbl&gt; | KO.CLP8 &lt;dbl&gt; | KO.NC1 &lt;dbl&gt; | ⋯ ⋯ | WT.CLP7 &lt;dbl&gt; | WT.CLP8 &lt;dbl&gt; | WT.NC1 &lt;dbl&gt; | WT.NC2 &lt;dbl&gt; | WT.NC3 &lt;dbl&gt; | WT.NC4 &lt;dbl&gt; | WT.NC5 &lt;dbl&gt; | WT.NC6 &lt;dbl&gt; | WT.NC7 &lt;dbl&gt; | WT.NC8 &lt;dbl&gt; |\n",
       "|---|---|---|---|---|---|---|---|---|---|---|---|---|---|---|---|---|---|---|---|---|---|\n",
       "| 1 | LysoPC(20:4(5Z,8Z,11Z,14Z)) |   86674.91 |  218881.88 |  280332.43 |  178108.08 |  119883.50 |  32693.818 |  345224.18 |  119605.95 |  153810.87 | ⋯ |  20661.541 |  104915.97 |   5804.1840 |  133204.62 |  243140.95 |  277966.9 |  146089.59 |  230441.15 |  140556.18 |  298852.50 |\n",
       "| 2 | LysoPC(18:0)                | 2009726.48 | 3334212.08 | 2450525.09 | 2989967.48 | 1876162.61 | 348891.231 | 2963804.62 | 2351682.11 | 2083188.43 | ⋯ | 263312.662 | 1680189.35 | 207871.0581 | 1864903.06 | 2001310.42 | 3029537.8 | 1408620.20 | 2274919.76 | 1574927.95 | 2431254.02 |\n",
       "| 3 | LysoPC(16:0)                | 1579107.80 | 3615409.77 | 2907057.40 | 2807052.44 | 1526425.93 | 322352.474 | 2937266.50 | 2201086.34 | 2147221.61 | ⋯ | 226300.022 | 1396375.48 |  86323.0335 | 2145121.00 | 2460418.08 | 3234021.7 | 1665112.07 | 2431493.22 | 1641919.20 | 3368434.82 |\n",
       "| 4 | 7-Ketodeoxycholic acid      |  460947.83 |  115990.26 |  229030.88 |  342532.55 |  191981.33 |   8781.413 |  253109.04 |  980285.95 |  598316.46 | ⋯ | 184315.328 | 1126643.48 | 624357.2694 |   97036.61 |   55140.95 |  341563.1 |   89165.43 |   69277.43 |   50921.99 |  141380.48 |\n",
       "| 5 | LysoPC(18:1(11Z))           |  279205.21 |  767694.32 |  756848.18 |  552460.68 |  348781.84 |  60195.550 |  813902.61 |  425061.34 |  322615.81 | ⋯ |  42024.658 |  203389.49 |   6791.6375 |  368728.28 |  371956.28 |  471817.4 |  213134.83 |  449276.23 |  269679.00 |  577952.17 |\n",
       "| 6 | LysoPC(15:0)                |   23669.76 |   56142.91 |   43735.81 |   44706.25 |   22036.99 |   4551.547 |   42452.71 |   33576.79 |   30837.62 | ⋯ |   1863.197 |   19633.56 |    597.0162 |   31864.18 |   39265.97 |   47543.3 |   24818.71 |   38031.68 |   24647.95 |   53865.55 |\n",
       "\n"
      ],
      "text/plain": [
       "  Metabolites                 KO.CLP1    KO.CLP2    KO.CLP3    KO.CLP4   \n",
       "1 LysoPC(20:4(5Z,8Z,11Z,14Z))   86674.91  218881.88  280332.43  178108.08\n",
       "2 LysoPC(18:0)                2009726.48 3334212.08 2450525.09 2989967.48\n",
       "3 LysoPC(16:0)                1579107.80 3615409.77 2907057.40 2807052.44\n",
       "4 7-Ketodeoxycholic acid       460947.83  115990.26  229030.88  342532.55\n",
       "5 LysoPC(18:1(11Z))            279205.21  767694.32  756848.18  552460.68\n",
       "6 LysoPC(15:0)                  23669.76   56142.91   43735.81   44706.25\n",
       "  KO.CLP5    KO.CLP6    KO.CLP7    KO.CLP8    KO.NC1     ⋯ WT.CLP7   \n",
       "1  119883.50  32693.818  345224.18  119605.95  153810.87 ⋯  20661.541\n",
       "2 1876162.61 348891.231 2963804.62 2351682.11 2083188.43 ⋯ 263312.662\n",
       "3 1526425.93 322352.474 2937266.50 2201086.34 2147221.61 ⋯ 226300.022\n",
       "4  191981.33   8781.413  253109.04  980285.95  598316.46 ⋯ 184315.328\n",
       "5  348781.84  60195.550  813902.61  425061.34  322615.81 ⋯  42024.658\n",
       "6   22036.99   4551.547   42452.71   33576.79   30837.62 ⋯   1863.197\n",
       "  WT.CLP8    WT.NC1      WT.NC2     WT.NC3     WT.NC4    WT.NC5     WT.NC6    \n",
       "1  104915.97   5804.1840  133204.62  243140.95  277966.9  146089.59  230441.15\n",
       "2 1680189.35 207871.0581 1864903.06 2001310.42 3029537.8 1408620.20 2274919.76\n",
       "3 1396375.48  86323.0335 2145121.00 2460418.08 3234021.7 1665112.07 2431493.22\n",
       "4 1126643.48 624357.2694   97036.61   55140.95  341563.1   89165.43   69277.43\n",
       "5  203389.49   6791.6375  368728.28  371956.28  471817.4  213134.83  449276.23\n",
       "6   19633.56    597.0162   31864.18   39265.97   47543.3   24818.71   38031.68\n",
       "  WT.NC7     WT.NC8    \n",
       "1  140556.18  298852.50\n",
       "2 1574927.95 2431254.02\n",
       "3 1641919.20 3368434.82\n",
       "4   50921.99  141380.48\n",
       "5  269679.00  577952.17\n",
       "6   24647.95   53865.55"
      ]
     },
     "metadata": {},
     "output_type": "display_data"
    }
   ],
   "source": [
    "head(data,6)"
   ]
  },
  {
   "cell_type": "code",
   "execution_count": 22,
   "id": "c54e9fad-3014-43cf-b3bf-e75c35046fb0",
   "metadata": {},
   "outputs": [],
   "source": [
    "cnumber = read.csv('./cnumber.csv')"
   ]
  },
  {
   "cell_type": "code",
   "execution_count": 23,
   "id": "3ae1fe45-9b14-448a-997b-1beb6266c7f4",
   "metadata": {},
   "outputs": [
    {
     "data": {
      "text/html": [
       "<table class=\"dataframe\">\n",
       "<caption>A data.frame: 6 × 2</caption>\n",
       "<thead>\n",
       "\t<tr><th></th><th scope=col>Metabolites</th><th scope=col>kegg</th></tr>\n",
       "\t<tr><th></th><th scope=col>&lt;chr&gt;</th><th scope=col>&lt;chr&gt;</th></tr>\n",
       "</thead>\n",
       "<tbody>\n",
       "\t<tr><th scope=row>1</th><td>4-Aminohippuric acid   </td><td>D06890 </td></tr>\n",
       "\t<tr><th scope=row>2</th><td>Imidazolepropionic acid</td><td>C20522 </td></tr>\n",
       "\t<tr><th scope=row>3</th><td>12S-HHT                </td><td>C20388 </td></tr>\n",
       "\t<tr><th scope=row>4</th><td>Pseudooxynicotine      </td><td>C20361 </td></tr>\n",
       "\t<tr><th scope=row>5</th><td>Beta-Carboline         </td><td>C20157 </td></tr>\n",
       "\t<tr><th scope=row>6</th><td>N-Acetylneuraminic acid</td><td>C19910 </td></tr>\n",
       "</tbody>\n",
       "</table>\n"
      ],
      "text/latex": [
       "A data.frame: 6 × 2\n",
       "\\begin{tabular}{r|ll}\n",
       "  & Metabolites & kegg\\\\\n",
       "  & <chr> & <chr>\\\\\n",
       "\\hline\n",
       "\t1 & 4-Aminohippuric acid    & D06890 \\\\\n",
       "\t2 & Imidazolepropionic acid & C20522 \\\\\n",
       "\t3 & 12S-HHT                 & C20388 \\\\\n",
       "\t4 & Pseudooxynicotine       & C20361 \\\\\n",
       "\t5 & Beta-Carboline          & C20157 \\\\\n",
       "\t6 & N-Acetylneuraminic acid & C19910 \\\\\n",
       "\\end{tabular}\n"
      ],
      "text/markdown": [
       "\n",
       "A data.frame: 6 × 2\n",
       "\n",
       "| <!--/--> | Metabolites &lt;chr&gt; | kegg &lt;chr&gt; |\n",
       "|---|---|---|\n",
       "| 1 | 4-Aminohippuric acid    | D06890  |\n",
       "| 2 | Imidazolepropionic acid | C20522  |\n",
       "| 3 | 12S-HHT                 | C20388  |\n",
       "| 4 | Pseudooxynicotine       | C20361  |\n",
       "| 5 | Beta-Carboline          | C20157  |\n",
       "| 6 | N-Acetylneuraminic acid | C19910  |\n",
       "\n"
      ],
      "text/plain": [
       "  Metabolites             kegg   \n",
       "1 4-Aminohippuric acid    D06890 \n",
       "2 Imidazolepropionic acid C20522 \n",
       "3 12S-HHT                 C20388 \n",
       "4 Pseudooxynicotine       C20361 \n",
       "5 Beta-Carboline          C20157 \n",
       "6 N-Acetylneuraminic acid C19910 "
      ]
     },
     "metadata": {},
     "output_type": "display_data"
    }
   ],
   "source": [
    "head(cnumber)"
   ]
  },
  {
   "cell_type": "code",
   "execution_count": 24,
   "id": "82e5ad5b-0f3e-40ca-aa6d-7bf54fcb75c7",
   "metadata": {},
   "outputs": [],
   "source": [
    "data2 = merge(cnumber,data,by = 'Metabolites')"
   ]
  },
  {
   "cell_type": "code",
   "execution_count": 27,
   "id": "446ad4c7-234e-4f37-88fd-3a0daf47d8fd",
   "metadata": {},
   "outputs": [],
   "source": [
    "data2 = data2[!duplicated(data2$kegg),]"
   ]
  },
  {
   "cell_type": "code",
   "execution_count": 28,
   "id": "fac1eb38-8b5e-4827-bc3c-58a5ea686075",
   "metadata": {},
   "outputs": [],
   "source": [
    "rownames(data2) = data2[,2]"
   ]
  },
  {
   "cell_type": "code",
   "execution_count": 30,
   "id": "4d81f9d9-eb7b-442c-accd-6732edcdf46b",
   "metadata": {},
   "outputs": [],
   "source": [
    "data2 = data2[,-c(1,2)]"
   ]
  },
  {
   "cell_type": "code",
   "execution_count": 31,
   "id": "bf2cf0d1-cba1-44ee-8e0d-be2801140e67",
   "metadata": {},
   "outputs": [
    {
     "data": {
      "text/html": [
       "<table class=\"dataframe\">\n",
       "<caption>A data.frame: 2 × 32</caption>\n",
       "<thead>\n",
       "\t<tr><th></th><th scope=col>KO.CLP1</th><th scope=col>KO.CLP2</th><th scope=col>KO.CLP3</th><th scope=col>KO.CLP4</th><th scope=col>KO.CLP5</th><th scope=col>KO.CLP6</th><th scope=col>KO.CLP7</th><th scope=col>KO.CLP8</th><th scope=col>KO.NC1</th><th scope=col>KO.NC2</th><th scope=col>⋯</th><th scope=col>WT.CLP7</th><th scope=col>WT.CLP8</th><th scope=col>WT.NC1</th><th scope=col>WT.NC2</th><th scope=col>WT.NC3</th><th scope=col>WT.NC4</th><th scope=col>WT.NC5</th><th scope=col>WT.NC6</th><th scope=col>WT.NC7</th><th scope=col>WT.NC8</th></tr>\n",
       "\t<tr><th></th><th scope=col>&lt;dbl&gt;</th><th scope=col>&lt;dbl&gt;</th><th scope=col>&lt;dbl&gt;</th><th scope=col>&lt;dbl&gt;</th><th scope=col>&lt;dbl&gt;</th><th scope=col>&lt;dbl&gt;</th><th scope=col>&lt;dbl&gt;</th><th scope=col>&lt;dbl&gt;</th><th scope=col>&lt;dbl&gt;</th><th scope=col>&lt;dbl&gt;</th><th scope=col>⋯</th><th scope=col>&lt;dbl&gt;</th><th scope=col>&lt;dbl&gt;</th><th scope=col>&lt;dbl&gt;</th><th scope=col>&lt;dbl&gt;</th><th scope=col>&lt;dbl&gt;</th><th scope=col>&lt;dbl&gt;</th><th scope=col>&lt;dbl&gt;</th><th scope=col>&lt;dbl&gt;</th><th scope=col>&lt;dbl&gt;</th><th scope=col>&lt;dbl&gt;</th></tr>\n",
       "</thead>\n",
       "<tbody>\n",
       "\t<tr><th scope=row>C09621</th><td>15241.576</td><td>15747.345</td><td>13012.690</td><td>14041.779</td><td>16122.037</td><td>19206.348</td><td>17371.228</td><td>16855.481</td><td>11390.68</td><td>12888.021</td><td>⋯</td><td>14793.38</td><td>14911.874</td><td>11240.172</td><td>11866.538</td><td>13050.173</td><td>13867.566</td><td>14738.260</td><td>18763.551</td><td>18528.58</td><td>13733.682</td></tr>\n",
       "\t<tr><th scope=row>C09649</th><td> 4580.219</td><td> 4402.423</td><td> 3632.717</td><td> 4025.273</td><td> 5147.604</td><td> 5233.074</td><td> 5132.383</td><td> 4687.028</td><td> 3198.33</td><td> 4132.954</td><td>⋯</td><td> 4934.80</td><td> 3921.032</td><td> 3397.286</td><td> 3467.019</td><td> 3769.922</td><td> 4170.179</td><td> 4670.364</td><td> 5195.028</td><td> 5470.73</td><td> 4070.125</td></tr>\n",
       "</tbody>\n",
       "</table>\n"
      ],
      "text/latex": [
       "A data.frame: 2 × 32\n",
       "\\begin{tabular}{r|lllllllllllllllllllll}\n",
       "  & KO.CLP1 & KO.CLP2 & KO.CLP3 & KO.CLP4 & KO.CLP5 & KO.CLP6 & KO.CLP7 & KO.CLP8 & KO.NC1 & KO.NC2 & ⋯ & WT.CLP7 & WT.CLP8 & WT.NC1 & WT.NC2 & WT.NC3 & WT.NC4 & WT.NC5 & WT.NC6 & WT.NC7 & WT.NC8\\\\\n",
       "  & <dbl> & <dbl> & <dbl> & <dbl> & <dbl> & <dbl> & <dbl> & <dbl> & <dbl> & <dbl> & ⋯ & <dbl> & <dbl> & <dbl> & <dbl> & <dbl> & <dbl> & <dbl> & <dbl> & <dbl> & <dbl>\\\\\n",
       "\\hline\n",
       "\tC09621 & 15241.576 & 15747.345 & 13012.690 & 14041.779 & 16122.037 & 19206.348 & 17371.228 & 16855.481 & 11390.68 & 12888.021 & ⋯ & 14793.38 & 14911.874 & 11240.172 & 11866.538 & 13050.173 & 13867.566 & 14738.260 & 18763.551 & 18528.58 & 13733.682\\\\\n",
       "\tC09649 &  4580.219 &  4402.423 &  3632.717 &  4025.273 &  5147.604 &  5233.074 &  5132.383 &  4687.028 &  3198.33 &  4132.954 & ⋯ &  4934.80 &  3921.032 &  3397.286 &  3467.019 &  3769.922 &  4170.179 &  4670.364 &  5195.028 &  5470.73 &  4070.125\\\\\n",
       "\\end{tabular}\n"
      ],
      "text/markdown": [
       "\n",
       "A data.frame: 2 × 32\n",
       "\n",
       "| <!--/--> | KO.CLP1 &lt;dbl&gt; | KO.CLP2 &lt;dbl&gt; | KO.CLP3 &lt;dbl&gt; | KO.CLP4 &lt;dbl&gt; | KO.CLP5 &lt;dbl&gt; | KO.CLP6 &lt;dbl&gt; | KO.CLP7 &lt;dbl&gt; | KO.CLP8 &lt;dbl&gt; | KO.NC1 &lt;dbl&gt; | KO.NC2 &lt;dbl&gt; | ⋯ ⋯ | WT.CLP7 &lt;dbl&gt; | WT.CLP8 &lt;dbl&gt; | WT.NC1 &lt;dbl&gt; | WT.NC2 &lt;dbl&gt; | WT.NC3 &lt;dbl&gt; | WT.NC4 &lt;dbl&gt; | WT.NC5 &lt;dbl&gt; | WT.NC6 &lt;dbl&gt; | WT.NC7 &lt;dbl&gt; | WT.NC8 &lt;dbl&gt; |\n",
       "|---|---|---|---|---|---|---|---|---|---|---|---|---|---|---|---|---|---|---|---|---|---|\n",
       "| C09621 | 15241.576 | 15747.345 | 13012.690 | 14041.779 | 16122.037 | 19206.348 | 17371.228 | 16855.481 | 11390.68 | 12888.021 | ⋯ | 14793.38 | 14911.874 | 11240.172 | 11866.538 | 13050.173 | 13867.566 | 14738.260 | 18763.551 | 18528.58 | 13733.682 |\n",
       "| C09649 |  4580.219 |  4402.423 |  3632.717 |  4025.273 |  5147.604 |  5233.074 |  5132.383 |  4687.028 |  3198.33 |  4132.954 | ⋯ |  4934.80 |  3921.032 |  3397.286 |  3467.019 |  3769.922 |  4170.179 |  4670.364 |  5195.028 |  5470.73 |  4070.125 |\n",
       "\n"
      ],
      "text/plain": [
       "       KO.CLP1   KO.CLP2   KO.CLP3   KO.CLP4   KO.CLP5   KO.CLP6   KO.CLP7  \n",
       "C09621 15241.576 15747.345 13012.690 14041.779 16122.037 19206.348 17371.228\n",
       "C09649  4580.219  4402.423  3632.717  4025.273  5147.604  5233.074  5132.383\n",
       "       KO.CLP8   KO.NC1   KO.NC2    ⋯ WT.CLP7  WT.CLP8   WT.NC1    WT.NC2   \n",
       "C09621 16855.481 11390.68 12888.021 ⋯ 14793.38 14911.874 11240.172 11866.538\n",
       "C09649  4687.028  3198.33  4132.954 ⋯  4934.80  3921.032  3397.286  3467.019\n",
       "       WT.NC3    WT.NC4    WT.NC5    WT.NC6    WT.NC7   WT.NC8   \n",
       "C09621 13050.173 13867.566 14738.260 18763.551 18528.58 13733.682\n",
       "C09649  3769.922  4170.179  4670.364  5195.028  5470.73  4070.125"
      ]
     },
     "metadata": {},
     "output_type": "display_data"
    }
   ],
   "source": [
    "head(data2,2)"
   ]
  },
  {
   "cell_type": "code",
   "execution_count": 39,
   "id": "9ee2241a-bdde-4968-93de-a70d6d982914",
   "metadata": {},
   "outputs": [],
   "source": [
    "kegg = read.csv('./KEGG_COMPOUND_PATHWAY_mmu.csv')"
   ]
  },
  {
   "cell_type": "code",
   "execution_count": 40,
   "id": "3736f0d6-ad0b-4a5b-a588-6616e1553c21",
   "metadata": {},
   "outputs": [],
   "source": [
    "kegg = kegg %>% filter(grepl('Lipid',CLASS2))"
   ]
  },
  {
   "cell_type": "code",
   "execution_count": 41,
   "id": "90231d5d-59e8-415c-939a-57d9a7c2aac9",
   "metadata": {},
   "outputs": [],
   "source": [
    "id = kegg$COMPOUND"
   ]
  },
  {
   "cell_type": "code",
   "execution_count": 42,
   "id": "cfe28272-2a25-410a-a7ac-2818c16ff895",
   "metadata": {},
   "outputs": [],
   "source": [
    "lipid = cnumber[cnumber$kegg %in% id,]"
   ]
  },
  {
   "cell_type": "code",
   "execution_count": 44,
   "id": "4d572468-63d3-4446-b124-0ddf7d11c805",
   "metadata": {},
   "outputs": [],
   "source": [
    "metalipid = lipid$kegg"
   ]
  },
  {
   "cell_type": "code",
   "execution_count": null,
   "id": "f9ec0b31-0715-4d0c-ade6-da421a84e03c",
   "metadata": {},
   "outputs": [],
   "source": []
  },
  {
   "cell_type": "code",
   "execution_count": 48,
   "id": "e384a908-7f4a-498f-9c29-15a4b93f825d",
   "metadata": {},
   "outputs": [],
   "source": [
    "count = data2[rownames(data2) %in% metalipid ,]\n"
   ]
  },
  {
   "cell_type": "code",
   "execution_count": 49,
   "id": "86fe3553-9dba-43fe-a4ed-50320cc5719d",
   "metadata": {},
   "outputs": [
    {
     "data": {
      "text/html": [
       "<table class=\"dataframe\">\n",
       "<caption>A data.frame: 2 × 32</caption>\n",
       "<thead>\n",
       "\t<tr><th></th><th scope=col>KO.CLP1</th><th scope=col>KO.CLP2</th><th scope=col>KO.CLP3</th><th scope=col>KO.CLP4</th><th scope=col>KO.CLP5</th><th scope=col>KO.CLP6</th><th scope=col>KO.CLP7</th><th scope=col>KO.CLP8</th><th scope=col>KO.NC1</th><th scope=col>KO.NC2</th><th scope=col>⋯</th><th scope=col>WT.CLP7</th><th scope=col>WT.CLP8</th><th scope=col>WT.NC1</th><th scope=col>WT.NC2</th><th scope=col>WT.NC3</th><th scope=col>WT.NC4</th><th scope=col>WT.NC5</th><th scope=col>WT.NC6</th><th scope=col>WT.NC7</th><th scope=col>WT.NC8</th></tr>\n",
       "\t<tr><th></th><th scope=col>&lt;dbl&gt;</th><th scope=col>&lt;dbl&gt;</th><th scope=col>&lt;dbl&gt;</th><th scope=col>&lt;dbl&gt;</th><th scope=col>&lt;dbl&gt;</th><th scope=col>&lt;dbl&gt;</th><th scope=col>&lt;dbl&gt;</th><th scope=col>&lt;dbl&gt;</th><th scope=col>&lt;dbl&gt;</th><th scope=col>&lt;dbl&gt;</th><th scope=col>⋯</th><th scope=col>&lt;dbl&gt;</th><th scope=col>&lt;dbl&gt;</th><th scope=col>&lt;dbl&gt;</th><th scope=col>&lt;dbl&gt;</th><th scope=col>&lt;dbl&gt;</th><th scope=col>&lt;dbl&gt;</th><th scope=col>&lt;dbl&gt;</th><th scope=col>&lt;dbl&gt;</th><th scope=col>&lt;dbl&gt;</th><th scope=col>&lt;dbl&gt;</th></tr>\n",
       "</thead>\n",
       "<tbody>\n",
       "\t<tr><th scope=row>C14827</th><td>13563.0637</td><td>15197.492</td><td>36200.021</td><td>12598.465</td><td>27017.095</td><td>11853.867</td><td>17171.706</td><td>18940.39</td><td>5681.2731</td><td>19583.963</td><td>⋯</td><td>2.90659e+02</td><td>12376.029</td><td>7861.3166</td><td>15666.300</td><td>25651.895</td><td>14390.70</td><td>13879.11</td><td>10641.9832</td><td>11386.5708</td><td>29337.664</td></tr>\n",
       "\t<tr><th scope=row>C16320</th><td>  572.7216</td><td> 1409.548</td><td> 5112.224</td><td> 1023.212</td><td> 1996.022</td><td> 1219.015</td><td> 1441.755</td><td> 1684.20</td><td> 200.4092</td><td> 1610.753</td><td>⋯</td><td>3.39549e-06</td><td> 1154.155</td><td> 696.2997</td><td> 1438.736</td><td> 2487.528</td><td> 1874.17</td><td> 1059.80</td><td>  828.4006</td><td>  339.0274</td><td> 3014.218</td></tr>\n",
       "</tbody>\n",
       "</table>\n"
      ],
      "text/latex": [
       "A data.frame: 2 × 32\n",
       "\\begin{tabular}{r|lllllllllllllllllllll}\n",
       "  & KO.CLP1 & KO.CLP2 & KO.CLP3 & KO.CLP4 & KO.CLP5 & KO.CLP6 & KO.CLP7 & KO.CLP8 & KO.NC1 & KO.NC2 & ⋯ & WT.CLP7 & WT.CLP8 & WT.NC1 & WT.NC2 & WT.NC3 & WT.NC4 & WT.NC5 & WT.NC6 & WT.NC7 & WT.NC8\\\\\n",
       "  & <dbl> & <dbl> & <dbl> & <dbl> & <dbl> & <dbl> & <dbl> & <dbl> & <dbl> & <dbl> & ⋯ & <dbl> & <dbl> & <dbl> & <dbl> & <dbl> & <dbl> & <dbl> & <dbl> & <dbl> & <dbl>\\\\\n",
       "\\hline\n",
       "\tC14827 & 13563.0637 & 15197.492 & 36200.021 & 12598.465 & 27017.095 & 11853.867 & 17171.706 & 18940.39 & 5681.2731 & 19583.963 & ⋯ & 2.90659e+02 & 12376.029 & 7861.3166 & 15666.300 & 25651.895 & 14390.70 & 13879.11 & 10641.9832 & 11386.5708 & 29337.664\\\\\n",
       "\tC16320 &   572.7216 &  1409.548 &  5112.224 &  1023.212 &  1996.022 &  1219.015 &  1441.755 &  1684.20 &  200.4092 &  1610.753 & ⋯ & 3.39549e-06 &  1154.155 &  696.2997 &  1438.736 &  2487.528 &  1874.17 &  1059.80 &   828.4006 &   339.0274 &  3014.218\\\\\n",
       "\\end{tabular}\n"
      ],
      "text/markdown": [
       "\n",
       "A data.frame: 2 × 32\n",
       "\n",
       "| <!--/--> | KO.CLP1 &lt;dbl&gt; | KO.CLP2 &lt;dbl&gt; | KO.CLP3 &lt;dbl&gt; | KO.CLP4 &lt;dbl&gt; | KO.CLP5 &lt;dbl&gt; | KO.CLP6 &lt;dbl&gt; | KO.CLP7 &lt;dbl&gt; | KO.CLP8 &lt;dbl&gt; | KO.NC1 &lt;dbl&gt; | KO.NC2 &lt;dbl&gt; | ⋯ ⋯ | WT.CLP7 &lt;dbl&gt; | WT.CLP8 &lt;dbl&gt; | WT.NC1 &lt;dbl&gt; | WT.NC2 &lt;dbl&gt; | WT.NC3 &lt;dbl&gt; | WT.NC4 &lt;dbl&gt; | WT.NC5 &lt;dbl&gt; | WT.NC6 &lt;dbl&gt; | WT.NC7 &lt;dbl&gt; | WT.NC8 &lt;dbl&gt; |\n",
       "|---|---|---|---|---|---|---|---|---|---|---|---|---|---|---|---|---|---|---|---|---|---|\n",
       "| C14827 | 13563.0637 | 15197.492 | 36200.021 | 12598.465 | 27017.095 | 11853.867 | 17171.706 | 18940.39 | 5681.2731 | 19583.963 | ⋯ | 2.90659e+02 | 12376.029 | 7861.3166 | 15666.300 | 25651.895 | 14390.70 | 13879.11 | 10641.9832 | 11386.5708 | 29337.664 |\n",
       "| C16320 |   572.7216 |  1409.548 |  5112.224 |  1023.212 |  1996.022 |  1219.015 |  1441.755 |  1684.20 |  200.4092 |  1610.753 | ⋯ | 3.39549e-06 |  1154.155 |  696.2997 |  1438.736 |  2487.528 |  1874.17 |  1059.80 |   828.4006 |   339.0274 |  3014.218 |\n",
       "\n"
      ],
      "text/plain": [
       "       KO.CLP1    KO.CLP2   KO.CLP3   KO.CLP4   KO.CLP5   KO.CLP6   KO.CLP7  \n",
       "C14827 13563.0637 15197.492 36200.021 12598.465 27017.095 11853.867 17171.706\n",
       "C16320   572.7216  1409.548  5112.224  1023.212  1996.022  1219.015  1441.755\n",
       "       KO.CLP8  KO.NC1    KO.NC2    ⋯ WT.CLP7     WT.CLP8   WT.NC1    WT.NC2   \n",
       "C14827 18940.39 5681.2731 19583.963 ⋯ 2.90659e+02 12376.029 7861.3166 15666.300\n",
       "C16320  1684.20  200.4092  1610.753 ⋯ 3.39549e-06  1154.155  696.2997  1438.736\n",
       "       WT.NC3    WT.NC4   WT.NC5   WT.NC6     WT.NC7     WT.NC8   \n",
       "C14827 25651.895 14390.70 13879.11 10641.9832 11386.5708 29337.664\n",
       "C16320  2487.528  1874.17  1059.80   828.4006   339.0274  3014.218"
      ]
     },
     "metadata": {},
     "output_type": "display_data"
    }
   ],
   "source": [
    "head(count,2)"
   ]
  },
  {
   "cell_type": "code",
   "execution_count": 52,
   "id": "8a2b21f1-c5c6-4b6f-bc5c-ec8393b10381",
   "metadata": {},
   "outputs": [],
   "source": [
    "trt_id <- c('KO.CLP','KO.NC','WT.CLP','WT.NC') ## 定义样本的关键词，然后从样本名抓取处理的样本"
   ]
  },
  {
   "cell_type": "code",
   "execution_count": 53,
   "id": "e0612f0f-9cd5-435a-95fc-1e6cfcb4f713",
   "metadata": {},
   "outputs": [],
   "source": [
    "split_metainfo = list()\n",
    "for (i in trt_id){\n",
    "    split_metainfo[[i]] = dplyr::select(count,contains(i))\n",
    "}"
   ]
  },
  {
   "cell_type": "code",
   "execution_count": null,
   "id": "f05b68f2-b1ed-4444-88e1-8e12ebc57fbe",
   "metadata": {},
   "outputs": [
    {
     "name": "stderr",
     "output_type": "stream",
     "text": [
      "Warning message:\n",
      "“package ‘psych’ was built under R version 4.2.3”\n",
      "\n",
      "Attaching package: ‘psych’\n",
      "\n",
      "\n",
      "The following object is masked from ‘package:Hmisc’:\n",
      "\n",
      "    describe\n",
      "\n",
      "\n"
     ]
    }
   ],
   "source": [
    "merge_cor = list()\n",
    "otu = list()\n",
    "meta = list()\n",
    "p = list()\n",
    "r = list()\n",
    "\n",
    "for (i in seq(1:4)){\n",
    "    otu[[i]] = split_otu[[i]]\n",
    "    meta[[i]] = split_metainfo[[i]]\n",
    "    library(psych)\n",
    "    merge_cor[[i]]<- corr.test(as.data.frame(t(otu[[i]])), as.data.frame(t(meta[[i]])), method = 'spearman')\n",
    "    p[[i]] = merge_cor[[i]]$p\n",
    "    r[[i]] = merge_cor[[i]]$r\n",
    "    r[[i]][p[[i]]>0.05|abs(r[[i]])<0.2] = 0\n",
    "    r[[i]][is.na(r[[i]])]=0\n",
    "    p[[i]][is.na(p[[i]])]=0\n",
    "    outdir = paste0(getwd(),'/9.otu-metabolite-luming2')\n",
    "    if(dir.exists(outdir)){\n",
    "      print(\"dir exists\")\n",
    "    }else{\n",
    "      dir.create(outdir)\n",
    "    }\n",
    "    write.csv(as.data.frame(t(r[[i]])),file = paste0(outdir,'/',trt_id[i],'.cor.r.csv'))\n",
    "    write.csv(as.data.frame(t(p[[i]])),file = paste0(outdir,'/',trt_id[i],'.cor.p.csv'))\n",
    "}"
   ]
  },
  {
   "cell_type": "code",
   "execution_count": null,
   "id": "f90c8f49-7796-4561-9e1a-3c4a539c27a1",
   "metadata": {},
   "outputs": [],
   "source": []
  }
 ],
 "metadata": {
  "kernelspec": {
   "display_name": "R",
   "language": "R",
   "name": "ir"
  },
  "language_info": {
   "codemirror_mode": "r",
   "file_extension": ".r",
   "mimetype": "text/x-r-source",
   "name": "R",
   "pygments_lexer": "r",
   "version": "4.2.1"
  }
 },
 "nbformat": 4,
 "nbformat_minor": 5
}
