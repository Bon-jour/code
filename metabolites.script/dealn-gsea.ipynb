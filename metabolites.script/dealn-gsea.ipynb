{
 "cells": [
  {
   "cell_type": "code",
   "execution_count": 1,
   "id": "62d6c35c-74b4-4394-bbb4-e887d22445e1",
   "metadata": {
    "scrolled": true
   },
   "outputs": [
    {
     "name": "stderr",
     "output_type": "stream",
     "text": [
      "── \u001b[1mAttaching packages\u001b[22m ─────────────────────────────────────── tidyverse 1.3.2 ──\n",
      "\u001b[32m✔\u001b[39m \u001b[34mggplot2\u001b[39m 3.4.3     \u001b[32m✔\u001b[39m \u001b[34mpurrr  \u001b[39m 1.0.1\n",
      "\u001b[32m✔\u001b[39m \u001b[34mtibble \u001b[39m 3.2.1     \u001b[32m✔\u001b[39m \u001b[34mdplyr  \u001b[39m 1.1.2\n",
      "\u001b[32m✔\u001b[39m \u001b[34mtidyr  \u001b[39m 1.3.0     \u001b[32m✔\u001b[39m \u001b[34mstringr\u001b[39m 1.5.0\n",
      "\u001b[32m✔\u001b[39m \u001b[34mreadr  \u001b[39m 2.1.4     \u001b[32m✔\u001b[39m \u001b[34mforcats\u001b[39m 1.0.0\n",
      "Warning message:\n",
      "“package ‘ggplot2’ was built under R version 4.2.3”\n",
      "Warning message:\n",
      "“package ‘tibble’ was built under R version 4.2.3”\n",
      "Warning message:\n",
      "“package ‘tidyr’ was built under R version 4.2.3”\n",
      "Warning message:\n",
      "“package ‘readr’ was built under R version 4.2.3”\n",
      "Warning message:\n",
      "“package ‘purrr’ was built under R version 4.2.3”\n",
      "Warning message:\n",
      "“package ‘dplyr’ was built under R version 4.2.3”\n",
      "Warning message:\n",
      "“package ‘stringr’ was built under R version 4.2.3”\n",
      "Warning message:\n",
      "“package ‘forcats’ was built under R version 4.2.3”\n",
      "── \u001b[1mConflicts\u001b[22m ────────────────────────────────────────── tidyverse_conflicts() ──\n",
      "\u001b[31m✖\u001b[39m \u001b[34mdplyr\u001b[39m::\u001b[32mfilter()\u001b[39m masks \u001b[34mstats\u001b[39m::filter()\n",
      "\u001b[31m✖\u001b[39m \u001b[34mdplyr\u001b[39m::\u001b[32mlag()\u001b[39m    masks \u001b[34mstats\u001b[39m::lag()\n",
      "Warning message:\n",
      "“package ‘data.table’ was built under R version 4.2.3”\n",
      "\n",
      "Attaching package: ‘data.table’\n",
      "\n",
      "\n",
      "The following objects are masked from ‘package:dplyr’:\n",
      "\n",
      "    between, first, last\n",
      "\n",
      "\n",
      "The following object is masked from ‘package:purrr’:\n",
      "\n",
      "    transpose\n",
      "\n",
      "\n",
      "Loading required package: AnnotationDbi\n",
      "\n",
      "Warning message:\n",
      "“package ‘AnnotationDbi’ was built under R version 4.2.2”\n",
      "Loading required package: stats4\n",
      "\n",
      "Loading required package: BiocGenerics\n",
      "\n",
      "\n",
      "Attaching package: ‘BiocGenerics’\n",
      "\n",
      "\n",
      "The following objects are masked from ‘package:dplyr’:\n",
      "\n",
      "    combine, intersect, setdiff, union\n",
      "\n",
      "\n",
      "The following objects are masked from ‘package:stats’:\n",
      "\n",
      "    IQR, mad, sd, var, xtabs\n",
      "\n",
      "\n",
      "The following objects are masked from ‘package:base’:\n",
      "\n",
      "    anyDuplicated, aperm, append, as.data.frame, basename, cbind,\n",
      "    colnames, dirname, do.call, duplicated, eval, evalq, Filter, Find,\n",
      "    get, grep, grepl, intersect, is.unsorted, lapply, Map, mapply,\n",
      "    match, mget, order, paste, pmax, pmax.int, pmin, pmin.int,\n",
      "    Position, rank, rbind, Reduce, rownames, sapply, setdiff, sort,\n",
      "    table, tapply, union, unique, unsplit, which.max, which.min\n",
      "\n",
      "\n",
      "Loading required package: Biobase\n",
      "\n",
      "Warning message:\n",
      "“package ‘Biobase’ was built under R version 4.2.3”\n",
      "Welcome to Bioconductor\n",
      "\n",
      "    Vignettes contain introductory material; view with\n",
      "    'browseVignettes()'. To cite Bioconductor, see\n",
      "    'citation(\"Biobase\")', and for packages 'citation(\"pkgname\")'.\n",
      "\n",
      "\n",
      "Loading required package: IRanges\n",
      "\n",
      "Warning message:\n",
      "“package ‘IRanges’ was built under R version 4.2.3”\n",
      "Loading required package: S4Vectors\n",
      "\n",
      "Warning message:\n",
      "“package ‘S4Vectors’ was built under R version 4.2.3”\n",
      "\n",
      "Attaching package: ‘S4Vectors’\n",
      "\n",
      "\n",
      "The following objects are masked from ‘package:data.table’:\n",
      "\n",
      "    first, second\n",
      "\n",
      "\n",
      "The following objects are masked from ‘package:dplyr’:\n",
      "\n",
      "    first, rename\n",
      "\n",
      "\n",
      "The following object is masked from ‘package:tidyr’:\n",
      "\n",
      "    expand\n",
      "\n",
      "\n",
      "The following objects are masked from ‘package:base’:\n",
      "\n",
      "    expand.grid, I, unname\n",
      "\n",
      "\n",
      "\n",
      "Attaching package: ‘IRanges’\n",
      "\n",
      "\n",
      "The following object is masked from ‘package:data.table’:\n",
      "\n",
      "    shift\n",
      "\n",
      "\n",
      "The following objects are masked from ‘package:dplyr’:\n",
      "\n",
      "    collapse, desc, slice\n",
      "\n",
      "\n",
      "The following object is masked from ‘package:purrr’:\n",
      "\n",
      "    reduce\n",
      "\n",
      "\n",
      "\n",
      "Attaching package: ‘AnnotationDbi’\n",
      "\n",
      "\n",
      "The following object is masked from ‘package:dplyr’:\n",
      "\n",
      "    select\n",
      "\n",
      "\n",
      "\n",
      "\n",
      "Warning message:\n",
      "“package ‘clusterProfiler’ was built under R version 4.2.2”\n",
      "\n",
      "\n",
      "Registered S3 methods overwritten by 'treeio':\n",
      "  method              from    \n",
      "  MRCA.phylo          tidytree\n",
      "  MRCA.treedata       tidytree\n",
      "  Nnode.treedata      tidytree\n",
      "  Ntip.treedata       tidytree\n",
      "  ancestor.phylo      tidytree\n",
      "  ancestor.treedata   tidytree\n",
      "  child.phylo         tidytree\n",
      "  child.treedata      tidytree\n",
      "  full_join.phylo     tidytree\n",
      "  full_join.treedata  tidytree\n",
      "  groupClade.phylo    tidytree\n",
      "  groupClade.treedata tidytree\n",
      "  groupOTU.phylo      tidytree\n",
      "  groupOTU.treedata   tidytree\n",
      "  is.rooted.treedata  tidytree\n",
      "  nodeid.phylo        tidytree\n",
      "  nodeid.treedata     tidytree\n",
      "  nodelab.phylo       tidytree\n",
      "  nodelab.treedata    tidytree\n",
      "  offspring.phylo     tidytree\n",
      "  offspring.treedata  tidytree\n",
      "  parent.phylo        tidytree\n",
      "  parent.treedata     tidytree\n",
      "  root.treedata       tidytree\n",
      "  rootnode.phylo      tidytree\n",
      "  sibling.phylo       tidytree\n",
      "\n",
      "clusterProfiler v4.6.0  For help: https://yulab-smu.top/biomedical-knowledge-mining-book/\n",
      "\n",
      "If you use clusterProfiler in published research, please cite:\n",
      "T Wu, E Hu, S Xu, M Chen, P Guo, Z Dai, T Feng, L Zhou, W Tang, L Zhan, X Fu, S Liu, X Bo, and G Yu. clusterProfiler 4.0: A universal enrichment tool for interpreting omics data. The Innovation. 2021, 2(3):100141\n",
      "\n",
      "\n",
      "Attaching package: ‘clusterProfiler’\n",
      "\n",
      "\n",
      "The following object is masked from ‘package:AnnotationDbi’:\n",
      "\n",
      "    select\n",
      "\n",
      "\n",
      "The following object is masked from ‘package:IRanges’:\n",
      "\n",
      "    slice\n",
      "\n",
      "\n",
      "The following object is masked from ‘package:S4Vectors’:\n",
      "\n",
      "    rename\n",
      "\n",
      "\n",
      "The following object is masked from ‘package:purrr’:\n",
      "\n",
      "    simplify\n",
      "\n",
      "\n",
      "The following object is masked from ‘package:stats’:\n",
      "\n",
      "    filter\n",
      "\n",
      "\n",
      "Warning message:\n",
      "“package ‘biomaRt’ was built under R version 4.2.2”\n",
      "Warning message:\n",
      "“package ‘enrichplot’ was built under R version 4.2.2”\n"
     ]
    }
   ],
   "source": [
    "rm(list = ls())\n",
    "library(tidyverse)\n",
    "library(data.table)\n",
    "library(org.Hs.eg.db)\n",
    "library(clusterProfiler)\n",
    "library(biomaRt)\n",
    "library(enrichplot)"
   ]
  },
  {
   "cell_type": "code",
   "execution_count": 3,
   "id": "2bd1e5b2-d956-4056-99f3-aea49764a66b",
   "metadata": {},
   "outputs": [],
   "source": [
    "go = read.table('./annotation/go.txt',sep = ' ',header =T,quote = \"\"\n",
    "               )"
   ]
  },
  {
   "cell_type": "code",
   "execution_count": 4,
   "id": "122d6111-b51a-4e29-bab8-9397a33161de",
   "metadata": {},
   "outputs": [
    {
     "ename": "ERROR",
     "evalue": "Error in names(x) <- value: 'names' attribute [2] must be the same length as the vector [1]\n",
     "output_type": "error",
     "traceback": [
      "Error in names(x) <- value: 'names' attribute [2] must be the same length as the vector [1]\nTraceback:\n",
      "1. `colnames<-`(`*tmp*`, value = c(\"term\", \"gene\"))",
      "2. `colnames<-`(`*tmp*`, value = c(\"term\", \"gene\"))"
     ]
    }
   ],
   "source": [
    "colnames(go) = c('term','gene')"
   ]
  },
  {
   "cell_type": "code",
   "execution_count": 34,
   "id": "56eecca8-a241-478f-b775-0b0cffd193f3",
   "metadata": {},
   "outputs": [],
   "source": [
    "allgene = read.table('./3.enrichment/DEGsid/ALL_KO-CLPvsWT-CLP.txt')"
   ]
  },
  {
   "cell_type": "code",
   "execution_count": 35,
   "id": "e0ea5380-8377-4314-b2b5-ce327555975e",
   "metadata": {},
   "outputs": [
    {
     "data": {
      "text/html": [
       "<table class=\"dataframe\">\n",
       "<caption>A data.frame: 2 × 6</caption>\n",
       "<thead>\n",
       "\t<tr><th></th><th scope=col>baseMean</th><th scope=col>log2FoldChange</th><th scope=col>lfcSE</th><th scope=col>stat</th><th scope=col>pvalue</th><th scope=col>padj</th></tr>\n",
       "\t<tr><th></th><th scope=col>&lt;dbl&gt;</th><th scope=col>&lt;dbl&gt;</th><th scope=col>&lt;dbl&gt;</th><th scope=col>&lt;dbl&gt;</th><th scope=col>&lt;dbl&gt;</th><th scope=col>&lt;dbl&gt;</th></tr>\n",
       "</thead>\n",
       "<tbody>\n",
       "\t<tr><th scope=row>WT-NC8.dna_NODE_548486_length_134_cov_4.714286_1</th><td> 2.898979</td><td>-0.3884842</td><td>0.8377161</td><td>-0.4637421</td><td>0.6428325</td><td>0.9999922</td></tr>\n",
       "\t<tr><th scope=row>WT-NC8.dna_NODE_548322_length_140_cov_3.076923_1</th><td>14.213618</td><td> 0.3396720</td><td>0.5809086</td><td> 0.5847254</td><td>0.5587324</td><td>0.9999922</td></tr>\n",
       "</tbody>\n",
       "</table>\n"
      ],
      "text/latex": [
       "A data.frame: 2 × 6\n",
       "\\begin{tabular}{r|llllll}\n",
       "  & baseMean & log2FoldChange & lfcSE & stat & pvalue & padj\\\\\n",
       "  & <dbl> & <dbl> & <dbl> & <dbl> & <dbl> & <dbl>\\\\\n",
       "\\hline\n",
       "\tWT-NC8.dna\\_NODE\\_548486\\_length\\_134\\_cov\\_4.714286\\_1 &  2.898979 & -0.3884842 & 0.8377161 & -0.4637421 & 0.6428325 & 0.9999922\\\\\n",
       "\tWT-NC8.dna\\_NODE\\_548322\\_length\\_140\\_cov\\_3.076923\\_1 & 14.213618 &  0.3396720 & 0.5809086 &  0.5847254 & 0.5587324 & 0.9999922\\\\\n",
       "\\end{tabular}\n"
      ],
      "text/markdown": [
       "\n",
       "A data.frame: 2 × 6\n",
       "\n",
       "| <!--/--> | baseMean &lt;dbl&gt; | log2FoldChange &lt;dbl&gt; | lfcSE &lt;dbl&gt; | stat &lt;dbl&gt; | pvalue &lt;dbl&gt; | padj &lt;dbl&gt; |\n",
       "|---|---|---|---|---|---|---|\n",
       "| WT-NC8.dna_NODE_548486_length_134_cov_4.714286_1 |  2.898979 | -0.3884842 | 0.8377161 | -0.4637421 | 0.6428325 | 0.9999922 |\n",
       "| WT-NC8.dna_NODE_548322_length_140_cov_3.076923_1 | 14.213618 |  0.3396720 | 0.5809086 |  0.5847254 | 0.5587324 | 0.9999922 |\n",
       "\n"
      ],
      "text/plain": [
       "                                                 baseMean  log2FoldChange\n",
       "WT-NC8.dna_NODE_548486_length_134_cov_4.714286_1  2.898979 -0.3884842    \n",
       "WT-NC8.dna_NODE_548322_length_140_cov_3.076923_1 14.213618  0.3396720    \n",
       "                                                 lfcSE     stat       pvalue   \n",
       "WT-NC8.dna_NODE_548486_length_134_cov_4.714286_1 0.8377161 -0.4637421 0.6428325\n",
       "WT-NC8.dna_NODE_548322_length_140_cov_3.076923_1 0.5809086  0.5847254 0.5587324\n",
       "                                                 padj     \n",
       "WT-NC8.dna_NODE_548486_length_134_cov_4.714286_1 0.9999922\n",
       "WT-NC8.dna_NODE_548322_length_140_cov_3.076923_1 0.9999922"
      ]
     },
     "metadata": {},
     "output_type": "display_data"
    }
   ],
   "source": [
    "head(allgene,2)"
   ]
  },
  {
   "cell_type": "code",
   "execution_count": 36,
   "id": "c76adda2-02f1-42f4-90fb-5fc0272c28b0",
   "metadata": {},
   "outputs": [],
   "source": [
    "diffgene = allgene %>% rownames_to_column(.,'gene')"
   ]
  },
  {
   "cell_type": "code",
   "execution_count": 37,
   "id": "0e6a6d69-d781-4e1d-9cc5-699c4409fd27",
   "metadata": {},
   "outputs": [],
   "source": [
    "data_all_sort <- diffgene %>%\n",
    " arrange(desc(log2FoldChange))"
   ]
  },
  {
   "cell_type": "code",
   "execution_count": 38,
   "id": "c63c0227-6857-45ff-bd93-e16d1293be58",
   "metadata": {},
   "outputs": [
    {
     "data": {
      "text/html": [
       "<style>\n",
       ".dl-inline {width: auto; margin:0; padding: 0}\n",
       ".dl-inline>dt, .dl-inline>dd {float: none; width: auto; display: inline-block}\n",
       ".dl-inline>dt::after {content: \":\\0020\"; padding-right: .5ex}\n",
       ".dl-inline>dt:not(:first-of-type) {padding-left: .5ex}\n",
       "</style><dl class=dl-inline><dt>KO-NC4.dna_NODE_13878_length_2755_cov_7.857306_3</dt><dd>7.55419260126258</dd><dt>KO-CLP2.dna_NODE_10_length_364738_cov_4.928011_187</dt><dd>7.48379501099384</dd><dt>KO-CLP2.dna_NODE_119_length_147657_cov_6.542276_107</dt><dd>7.42968539566999</dd><dt>KO-CLP2.dna_NODE_49_length_219554_cov_5.846423_120</dt><dd>7.40799597649936</dd><dt>KO-CLP2.dna_NODE_10_length_364738_cov_4.928011_108</dt><dd>7.38060120171919</dd><dt>KO-CLP2.dna_NODE_102_length_157081_cov_5.174593_80</dt><dd>7.30824913592806</dd></dl>\n"
      ],
      "text/latex": [
       "\\begin{description*}\n",
       "\\item[KO-NC4.dna\\textbackslash{}\\_NODE\\textbackslash{}\\_13878\\textbackslash{}\\_length\\textbackslash{}\\_2755\\textbackslash{}\\_cov\\textbackslash{}\\_7.857306\\textbackslash{}\\_3] 7.55419260126258\n",
       "\\item[KO-CLP2.dna\\textbackslash{}\\_NODE\\textbackslash{}\\_10\\textbackslash{}\\_length\\textbackslash{}\\_364738\\textbackslash{}\\_cov\\textbackslash{}\\_4.928011\\textbackslash{}\\_187] 7.48379501099384\n",
       "\\item[KO-CLP2.dna\\textbackslash{}\\_NODE\\textbackslash{}\\_119\\textbackslash{}\\_length\\textbackslash{}\\_147657\\textbackslash{}\\_cov\\textbackslash{}\\_6.542276\\textbackslash{}\\_107] 7.42968539566999\n",
       "\\item[KO-CLP2.dna\\textbackslash{}\\_NODE\\textbackslash{}\\_49\\textbackslash{}\\_length\\textbackslash{}\\_219554\\textbackslash{}\\_cov\\textbackslash{}\\_5.846423\\textbackslash{}\\_120] 7.40799597649936\n",
       "\\item[KO-CLP2.dna\\textbackslash{}\\_NODE\\textbackslash{}\\_10\\textbackslash{}\\_length\\textbackslash{}\\_364738\\textbackslash{}\\_cov\\textbackslash{}\\_4.928011\\textbackslash{}\\_108] 7.38060120171919\n",
       "\\item[KO-CLP2.dna\\textbackslash{}\\_NODE\\textbackslash{}\\_102\\textbackslash{}\\_length\\textbackslash{}\\_157081\\textbackslash{}\\_cov\\textbackslash{}\\_5.174593\\textbackslash{}\\_80] 7.30824913592806\n",
       "\\end{description*}\n"
      ],
      "text/markdown": [
       "KO-NC4.dna_NODE_13878_length_2755_cov_7.857306_3\n",
       ":   7.55419260126258KO-CLP2.dna_NODE_10_length_364738_cov_4.928011_187\n",
       ":   7.48379501099384KO-CLP2.dna_NODE_119_length_147657_cov_6.542276_107\n",
       ":   7.42968539566999KO-CLP2.dna_NODE_49_length_219554_cov_5.846423_120\n",
       ":   7.40799597649936KO-CLP2.dna_NODE_10_length_364738_cov_4.928011_108\n",
       ":   7.38060120171919KO-CLP2.dna_NODE_102_length_157081_cov_5.174593_80\n",
       ":   7.30824913592806\n",
       "\n"
      ],
      "text/plain": [
       "   KO-NC4.dna_NODE_13878_length_2755_cov_7.857306_3 \n",
       "                                           7.554193 \n",
       " KO-CLP2.dna_NODE_10_length_364738_cov_4.928011_187 \n",
       "                                           7.483795 \n",
       "KO-CLP2.dna_NODE_119_length_147657_cov_6.542276_107 \n",
       "                                           7.429685 \n",
       " KO-CLP2.dna_NODE_49_length_219554_cov_5.846423_120 \n",
       "                                           7.407996 \n",
       " KO-CLP2.dna_NODE_10_length_364738_cov_4.928011_108 \n",
       "                                           7.380601 \n",
       " KO-CLP2.dna_NODE_102_length_157081_cov_5.174593_80 \n",
       "                                           7.308249 "
      ]
     },
     "metadata": {},
     "output_type": "display_data"
    }
   ],
   "source": [
    "geneList = data_all_sort$log2FoldChange \n",
    "names(geneList) <- data_all_sort$gene \n",
    "head(geneList)"
   ]
  },
  {
   "cell_type": "code",
   "execution_count": 43,
   "id": "0a73c48d-ecbc-4c0a-b142-ed6af9bc9c8c",
   "metadata": {},
   "outputs": [
    {
     "data": {
      "text/html": [
       "214164"
      ],
      "text/latex": [
       "214164"
      ],
      "text/markdown": [
       "214164"
      ],
      "text/plain": [
       "[1] 214164"
      ]
     },
     "metadata": {},
     "output_type": "display_data"
    }
   ],
   "source": [
    "length(geneList)"
   ]
  },
  {
   "cell_type": "code",
   "execution_count": 96,
   "id": "bcda8d1e-1eef-4a5e-9606-cdd77128c7c5",
   "metadata": {},
   "outputs": [
    {
     "data": {
      "text/html": [
       "<style>\n",
       ".list-inline {list-style: none; margin:0; padding: 0}\n",
       ".list-inline>li {display: inline-block}\n",
       ".list-inline>li:not(:last-child)::after {content: \"\\00b7\"; padding: 0 .5ex}\n",
       "</style>\n",
       "<ol class=list-inline><li>1791435</li><li>2</li></ol>\n"
      ],
      "text/latex": [
       "\\begin{enumerate*}\n",
       "\\item 1791435\n",
       "\\item 2\n",
       "\\end{enumerate*}\n"
      ],
      "text/markdown": [
       "1. 1791435\n",
       "2. 2\n",
       "\n",
       "\n"
      ],
      "text/plain": [
       "[1] 1791435       2"
      ]
     },
     "metadata": {},
     "output_type": "display_data"
    }
   ],
   "source": [
    "dim(go)"
   ]
  },
  {
   "cell_type": "code",
   "execution_count": 100,
   "id": "152c67fd-4178-404a-b1cb-82d0962afed3",
   "metadata": {},
   "outputs": [
    {
     "name": "stderr",
     "output_type": "stream",
     "text": [
      "preparing geneSet collections...\n",
      "\n",
      "GSEA analysis...\n",
      "\n",
      "Warning message in preparePathwaysAndStats(pathways, stats, minSize, maxSize, gseaParam, :\n",
      "“There are ties in the preranked stats (0% of the list).\n",
      "The order of those tied genes will be arbitrary, which may produce unexpected results.”\n",
      "leading edge analysis...\n",
      "\n",
      "done...\n",
      "\n"
     ]
    }
   ],
   "source": [
    "gsea <- GSEA(geneList,\n",
    "            TERM2GENE = go,\n",
    "            pvalueCutoff = 1,minGSSize = 10,maxGSSize = 5000,eps =0) "
   ]
  },
  {
   "cell_type": "code",
   "execution_count": 101,
   "id": "9d661571-b104-4dfa-9a42-6b5d936498e4",
   "metadata": {},
   "outputs": [
    {
     "data": {
      "text/html": [
       "<style>\n",
       ".list-inline {list-style: none; margin:0; padding: 0}\n",
       ".list-inline>li {display: inline-block}\n",
       ".list-inline>li:not(:last-child)::after {content: \"\\00b7\"; padding: 0 .5ex}\n",
       "</style>\n",
       "<ol class=list-inline><li>1008</li><li>11</li></ol>\n"
      ],
      "text/latex": [
       "\\begin{enumerate*}\n",
       "\\item 1008\n",
       "\\item 11\n",
       "\\end{enumerate*}\n"
      ],
      "text/markdown": [
       "1. 1008\n",
       "2. 11\n",
       "\n",
       "\n"
      ],
      "text/plain": [
       "[1] 1008   11"
      ]
     },
     "metadata": {},
     "output_type": "display_data"
    }
   ],
   "source": [
    "dim(gsea@result)"
   ]
  },
  {
   "cell_type": "code",
   "execution_count": 102,
   "id": "64c84049-a9c8-4416-9a46-6e7e2ce0901d",
   "metadata": {},
   "outputs": [],
   "source": [
    "write.csv(as.data.frame(gsea@result),file = './GSEA/gsea-go.txt')"
   ]
  },
  {
   "cell_type": "code",
   "execution_count": 62,
   "id": "0986683d-d63e-4353-8afc-ad6b87e7150d",
   "metadata": {},
   "outputs": [],
   "source": [
    "kegg = read.table('./annotation/out.emapper.kegg.txt',header = F,sep = '\\t')"
   ]
  },
  {
   "cell_type": "code",
   "execution_count": 64,
   "id": "f7e55c9b-8d3a-4bab-a8d9-89932219bc64",
   "metadata": {},
   "outputs": [],
   "source": [
    "kegg = kegg[,c(3,1)]"
   ]
  },
  {
   "cell_type": "code",
   "execution_count": 65,
   "id": "f25c75c0-fa80-405f-a935-1a9309c789df",
   "metadata": {},
   "outputs": [],
   "source": [
    "colnames(kegg) = c('term','gene')"
   ]
  },
  {
   "cell_type": "code",
   "execution_count": 103,
   "id": "9d6891df-ead3-47fd-86b0-6cc9db5571f8",
   "metadata": {},
   "outputs": [
    {
     "name": "stderr",
     "output_type": "stream",
     "text": [
      "preparing geneSet collections...\n",
      "\n",
      "GSEA analysis...\n",
      "\n",
      "Warning message in preparePathwaysAndStats(pathways, stats, minSize, maxSize, gseaParam, :\n",
      "“There are ties in the preranked stats (0% of the list).\n",
      "The order of those tied genes will be arbitrary, which may produce unexpected results.”\n",
      "leading edge analysis...\n",
      "\n",
      "done...\n",
      "\n"
     ]
    }
   ],
   "source": [
    "gsea <- GSEA(geneList,\n",
    "            TERM2GENE = kegg,\n",
    "            pvalueCutoff = 1,minGSSize = 10,maxGSSize = 6000,eps =0) "
   ]
  },
  {
   "cell_type": "code",
   "execution_count": 104,
   "id": "352acaa9-b335-4354-b1b4-78e22bd19e43",
   "metadata": {},
   "outputs": [],
   "source": [
    "write.csv(as.data.frame(gsea@result),file = './GSEA/gsea-kegg.txt')"
   ]
  },
  {
   "cell_type": "code",
   "execution_count": null,
   "id": "60a3551b-629d-471c-9168-e6e2fdbeb908",
   "metadata": {},
   "outputs": [],
   "source": []
  }
 ],
 "metadata": {
  "kernelspec": {
   "display_name": "R",
   "language": "R",
   "name": "ir"
  },
  "language_info": {
   "codemirror_mode": "r",
   "file_extension": ".r",
   "mimetype": "text/x-r-source",
   "name": "R",
   "pygments_lexer": "r",
   "version": "4.2.1"
  }
 },
 "nbformat": 4,
 "nbformat_minor": 5
}
