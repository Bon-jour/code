{
 "cells": [
  {
   "cell_type": "code",
   "execution_count": 1,
   "id": "aad20786-19c2-477b-ad6f-38b5a6580a8d",
   "metadata": {
    "collapsed": true,
    "jupyter": {
     "outputs_hidden": true
    },
    "scrolled": true
   },
   "outputs": [
    {
     "name": "stderr",
     "output_type": "stream",
     "text": [
      "Loading required package: plyr\n",
      "\n",
      "Warning message:\n",
      "“package ‘plyr’ was built under R version 4.2.3”\n",
      "Loading required package: dplyr\n",
      "\n",
      "Warning message:\n",
      "“package ‘dplyr’ was built under R version 4.2.3”\n",
      "\n",
      "Attaching package: ‘dplyr’\n",
      "\n",
      "\n",
      "The following objects are masked from ‘package:plyr’:\n",
      "\n",
      "    arrange, count, desc, failwith, id, mutate, rename, summarise,\n",
      "    summarize\n",
      "\n",
      "\n",
      "The following objects are masked from ‘package:stats’:\n",
      "\n",
      "    filter, lag\n",
      "\n",
      "\n",
      "The following objects are masked from ‘package:base’:\n",
      "\n",
      "    intersect, setdiff, setequal, union\n",
      "\n",
      "\n",
      "Loading required package: glmnet\n",
      "\n",
      "Loading required package: Matrix\n",
      "\n",
      "Warning message:\n",
      "“package ‘Matrix’ was built under R version 4.2.3”\n",
      "Loaded glmnet 4.1-8\n",
      "\n",
      "Loading required package: foreach\n",
      "\n",
      "Warning message:\n",
      "“package ‘foreach’ was built under R version 4.2.3”\n",
      "Loading required package: getopt\n",
      "\n",
      "Loading required package: doParallel\n",
      "\n",
      "Warning message:\n",
      "“package ‘doParallel’ was built under R version 4.2.3”\n",
      "Loading required package: iterators\n",
      "\n",
      "Warning message:\n",
      "“package ‘iterators’ was built under R version 4.2.3”\n",
      "Loading required package: parallel\n",
      "\n",
      "Loading required package: vegan\n",
      "\n",
      "Loading required package: permute\n",
      "\n",
      "Loading required package: lattice\n",
      "\n",
      "Warning message:\n",
      "“package ‘lattice’ was built under R version 4.2.3”\n",
      "This is vegan 2.6-4\n",
      "\n",
      "Loading required package: data.table\n",
      "\n",
      "Warning message:\n",
      "“package ‘data.table’ was built under R version 4.2.3”\n",
      "\n",
      "Attaching package: ‘data.table’\n",
      "\n",
      "\n",
      "The following objects are masked from ‘package:dplyr’:\n",
      "\n",
      "    between, first, last\n",
      "\n",
      "\n",
      "Loading required package: ggplot2\n",
      "\n",
      "Loading required package: AssocTests\n",
      "\n",
      "Loading required package: cluster\n",
      "\n",
      "Warning message:\n",
      "“package ‘cluster’ was built under R version 4.2.3”\n",
      "Loading required package: mvtnorm\n",
      "\n",
      "Warning message:\n",
      "“package ‘mvtnorm’ was built under R version 4.2.3”\n",
      "Loading required package: combinat\n",
      "\n",
      "\n",
      "Attaching package: ‘combinat’\n",
      "\n",
      "\n",
      "The following object is masked from ‘package:utils’:\n",
      "\n",
      "    combn\n",
      "\n",
      "\n",
      "Loading required package: fExtremes\n",
      "\n",
      "Loading required package: optparse\n",
      "\n",
      "Loading required package: tibble\n",
      "\n",
      "Warning message:\n",
      "“package ‘tibble’ was built under R version 4.2.2”\n"
     ]
    }
   ],
   "source": [
    ".libPaths(c(\"/root/miniconda3/envs/metadoc/lib/R/library\",'/root/miniconda3/envs/Rdoc/lib/R/library'))\n",
    "library(melonnpan)"
   ]
  },
  {
   "cell_type": "code",
   "execution_count": 2,
   "id": "a29f7eb3-3042-482e-a4eb-56ea1f5b5503",
   "metadata": {},
   "outputs": [
    {
     "name": "stderr",
     "output_type": "stream",
     "text": [
      "Warning message:\n",
      "“package ‘readr’ was built under R version 4.2.3”\n"
     ]
    }
   ],
   "source": [
    "library(readr)"
   ]
  },
  {
   "cell_type": "code",
   "execution_count": 12,
   "id": "99ab20dc-2f4e-4d05-a2d1-a5f481ef19ca",
   "metadata": {},
   "outputs": [],
   "source": [
    "table = read.table('./5.metacyc/li//genefamilies.tsv',header=T,sep = '\\t')"
   ]
  },
  {
   "cell_type": "code",
   "execution_count": 17,
   "id": "298f25ba-5cbe-43d6-9ff8-41fee593b19b",
   "metadata": {},
   "outputs": [
    {
     "name": "stderr",
     "output_type": "stream",
     "text": [
      "Warning message:\n",
      "“package ‘stringr’ was built under R version 4.2.2”\n"
     ]
    }
   ],
   "source": [
    "library(stringr)"
   ]
  },
  {
   "cell_type": "code",
   "execution_count": null,
   "id": "ca5ec114-99e7-49de-b4c1-53f130474fa0",
   "metadata": {},
   "outputs": [],
   "source": []
  },
  {
   "cell_type": "code",
   "execution_count": 22,
   "id": "f86bb650-0705-4ebd-aed5-3e937886568f",
   "metadata": {},
   "outputs": [],
   "source": [
    "table %>% filter(!str_detect(Gene.Family,'[|]')) -> table1"
   ]
  },
  {
   "cell_type": "code",
   "execution_count": 26,
   "id": "8ab7ccc6-2bdf-43ac-9e62-2c7935ee08a5",
   "metadata": {},
   "outputs": [],
   "source": [
    "table1 = table1 %>% tibble::column_to_rownames(.,'Gene.Family')"
   ]
  },
  {
   "cell_type": "code",
   "execution_count": 28,
   "id": "bf679f30-6e1d-44a1-a10f-4a58c0245cc4",
   "metadata": {},
   "outputs": [],
   "source": [
    "table1 = t(table1)"
   ]
  },
  {
   "cell_type": "code",
   "execution_count": 60,
   "id": "83a23e7f-74a1-4649-8ff3-b21e0a82fa59",
   "metadata": {},
   "outputs": [],
   "source": [
    "table1 %>% as.data.frame()  -> aa"
   ]
  },
  {
   "cell_type": "code",
   "execution_count": 33,
   "id": "280d75c3-a7c2-446d-8ca8-52cc0980250d",
   "metadata": {},
   "outputs": [],
   "source": [
    "write.table(aa,file = 'melonnpan.test.data.txt',quote = F,row.names = F)"
   ]
  },
  {
   "cell_type": "code",
   "execution_count": null,
   "id": "729915df-4464-4fb4-bd60-0130a4eafd5b",
   "metadata": {},
   "outputs": [],
   "source": []
  },
  {
   "cell_type": "code",
   "execution_count": 75,
   "id": "d2ad1621-787e-43b3-871e-685e9110c133",
   "metadata": {},
   "outputs": [],
   "source": [
    "aa1 =aa[,3000:5000]"
   ]
  },
  {
   "cell_type": "code",
   "execution_count": 76,
   "id": "4e2fca2c-6850-44c9-852c-f588e013bb10",
   "metadata": {},
   "outputs": [
    {
     "ename": "ERROR",
     "evalue": "Error in melonnpan.predict(aa1, \"./melooutput\"): No common IDs found between training and test data. Execution halted!\n",
     "output_type": "error",
     "traceback": [
      "Error in melonnpan.predict(aa1, \"./melooutput\"): No common IDs found between training and test data. Execution halted!\nTraceback:\n",
      "1. melonnpan.predict(aa1, \"./melooutput\")",
      "2. stop(\"No common IDs found between training and test data. Execution halted!\")"
     ]
    }
   ],
   "source": [
    "melonnpan.predict(aa1,'./melooutput')"
   ]
  },
  {
   "cell_type": "code",
   "execution_count": null,
   "id": "72c40962-df75-4424-a2d2-7eb4fa2f4aff",
   "metadata": {},
   "outputs": [],
   "source": []
  }
 ],
 "metadata": {
  "kernelspec": {
   "display_name": "R",
   "language": "R",
   "name": "ir"
  },
  "language_info": {
   "codemirror_mode": "r",
   "file_extension": ".r",
   "mimetype": "text/x-r-source",
   "name": "R",
   "pygments_lexer": "r",
   "version": "4.2.1"
  }
 },
 "nbformat": 4,
 "nbformat_minor": 5
}
