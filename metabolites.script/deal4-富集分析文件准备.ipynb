{
 "cells": [
  {
   "cell_type": "code",
   "execution_count": 1,
   "id": "753c2484-f3be-4083-ab6b-81ee6d67d0dc",
   "metadata": {},
   "outputs": [],
   "source": [
    "eggnogout = read.table('./eggnog/eggnog.emapper.annotations',sep = '\\t',skip = 3\n",
    "                  ,fill=TRUE,header =F,quote = '')"
   ]
  },
  {
   "cell_type": "code",
   "execution_count": 2,
   "id": "d60145c1-5c30-4a33-8a3f-f81d7ac83a2b",
   "metadata": {},
   "outputs": [],
   "source": [
    "colnames(eggnogout) = c('query','seed_ortholog','evalue','score',\n",
    "                        'tax_level','Preferred_name','GOs','EC',\n",
    "                         'KEGG_ko','KEGG_Pathway','KEGG_Module',\n",
    "                         'KEGG_Reaction','KEGG_rclass','BRITE',\n",
    "                         'KEGG_TC','CAZy','BiGG_Reaction','taxonomic_scope',\n",
    "                         'eggNOG_OGs','bestOGs','COGFunctional','eggNOG_free'\n",
    "                        )"
   ]
  },
  {
   "cell_type": "code",
   "execution_count": 4,
   "id": "4186ba11-ed47-412e-a212-589784f7ed9e",
   "metadata": {},
   "outputs": [],
   "source": [
    "id = read.table('./annotation/geneid.txt',col.names = 'query')"
   ]
  },
  {
   "cell_type": "code",
   "execution_count": 6,
   "id": "18dc6907-c960-4e63-8add-8e68147a0a62",
   "metadata": {
    "collapsed": true,
    "jupyter": {
     "outputs_hidden": true
    },
    "scrolled": true
   },
   "outputs": [
    {
     "name": "stderr",
     "output_type": "stream",
     "text": [
      "Warning message:\n",
      "“package ‘dplyr’ was built under R version 4.2.3”\n",
      "\n",
      "Attaching package: ‘dplyr’\n",
      "\n",
      "\n",
      "The following objects are masked from ‘package:stats’:\n",
      "\n",
      "    filter, lag\n",
      "\n",
      "\n",
      "The following objects are masked from ‘package:base’:\n",
      "\n",
      "    intersect, setdiff, setequal, union\n",
      "\n",
      "\n"
     ]
    }
   ],
   "source": [
    "library(dplyr)\n",
    "egg_merge  = left_join(id,eggnogout ,by='query')"
   ]
  },
  {
   "cell_type": "code",
   "execution_count": 8,
   "id": "cf4f18b1-6b73-4320-b133-6b0e07af2fea",
   "metadata": {},
   "outputs": [
    {
     "data": {
      "text/html": [
       "<table class=\"dataframe\">\n",
       "<caption>A data.frame: 2 × 1</caption>\n",
       "<thead>\n",
       "\t<tr><th></th><th scope=col>query</th></tr>\n",
       "\t<tr><th></th><th scope=col>&lt;chr&gt;</th></tr>\n",
       "</thead>\n",
       "<tbody>\n",
       "\t<tr><th scope=row>1</th><td>WT-NC8.dna_NODE_548486_length_134_cov_4.714286_1</td></tr>\n",
       "\t<tr><th scope=row>2</th><td>WT-NC8.dna_NODE_548322_length_140_cov_3.076923_1</td></tr>\n",
       "</tbody>\n",
       "</table>\n"
      ],
      "text/latex": [
       "A data.frame: 2 × 1\n",
       "\\begin{tabular}{r|l}\n",
       "  & query\\\\\n",
       "  & <chr>\\\\\n",
       "\\hline\n",
       "\t1 & WT-NC8.dna\\_NODE\\_548486\\_length\\_134\\_cov\\_4.714286\\_1\\\\\n",
       "\t2 & WT-NC8.dna\\_NODE\\_548322\\_length\\_140\\_cov\\_3.076923\\_1\\\\\n",
       "\\end{tabular}\n"
      ],
      "text/markdown": [
       "\n",
       "A data.frame: 2 × 1\n",
       "\n",
       "| <!--/--> | query &lt;chr&gt; |\n",
       "|---|---|\n",
       "| 1 | WT-NC8.dna_NODE_548486_length_134_cov_4.714286_1 |\n",
       "| 2 | WT-NC8.dna_NODE_548322_length_140_cov_3.076923_1 |\n",
       "\n"
      ],
      "text/plain": [
       "  query                                           \n",
       "1 WT-NC8.dna_NODE_548486_length_134_cov_4.714286_1\n",
       "2 WT-NC8.dna_NODE_548322_length_140_cov_3.076923_1"
      ]
     },
     "metadata": {},
     "output_type": "display_data"
    }
   ],
   "source": [
    "head(id,2)"
   ]
  },
  {
   "cell_type": "code",
   "execution_count": 11,
   "id": "67d30c07-1ffa-4ad4-8586-1c3671e4a4fa",
   "metadata": {},
   "outputs": [
    {
     "data": {
      "text/html": [
       "<style>\n",
       ".list-inline {list-style: none; margin:0; padding: 0}\n",
       ".list-inline>li {display: inline-block}\n",
       ".list-inline>li:not(:last-child)::after {content: \"\\00b7\"; padding: 0 .5ex}\n",
       "</style>\n",
       "<ol class=list-inline><li>253480</li><li>1</li></ol>\n"
      ],
      "text/latex": [
       "\\begin{enumerate*}\n",
       "\\item 253480\n",
       "\\item 1\n",
       "\\end{enumerate*}\n"
      ],
      "text/markdown": [
       "1. 253480\n",
       "2. 1\n",
       "\n",
       "\n"
      ],
      "text/plain": [
       "[1] 253480      1"
      ]
     },
     "metadata": {},
     "output_type": "display_data"
    }
   ],
   "source": [
    "dim(id)"
   ]
  },
  {
   "cell_type": "code",
   "execution_count": 9,
   "id": "081f96e7-bbc9-42f6-9a37-9a3712bee932",
   "metadata": {},
   "outputs": [
    {
     "data": {
      "text/html": [
       "<table class=\"dataframe\">\n",
       "<caption>A data.frame: 2 × 22</caption>\n",
       "<thead>\n",
       "\t<tr><th></th><th scope=col>query</th><th scope=col>seed_ortholog</th><th scope=col>evalue</th><th scope=col>score</th><th scope=col>tax_level</th><th scope=col>Preferred_name</th><th scope=col>GOs</th><th scope=col>EC</th><th scope=col>KEGG_ko</th><th scope=col>KEGG_Pathway</th><th scope=col>⋯</th><th scope=col>KEGG_rclass</th><th scope=col>BRITE</th><th scope=col>KEGG_TC</th><th scope=col>CAZy</th><th scope=col>BiGG_Reaction</th><th scope=col>taxonomic_scope</th><th scope=col>eggNOG_OGs</th><th scope=col>bestOGs</th><th scope=col>COGFunctional</th><th scope=col>eggNOG_free</th></tr>\n",
       "\t<tr><th></th><th scope=col>&lt;chr&gt;</th><th scope=col>&lt;chr&gt;</th><th scope=col>&lt;dbl&gt;</th><th scope=col>&lt;dbl&gt;</th><th scope=col>&lt;chr&gt;</th><th scope=col>&lt;chr&gt;</th><th scope=col>&lt;chr&gt;</th><th scope=col>&lt;chr&gt;</th><th scope=col>&lt;chr&gt;</th><th scope=col>&lt;chr&gt;</th><th scope=col>⋯</th><th scope=col>&lt;chr&gt;</th><th scope=col>&lt;chr&gt;</th><th scope=col>&lt;chr&gt;</th><th scope=col>&lt;chr&gt;</th><th scope=col>&lt;chr&gt;</th><th scope=col>&lt;chr&gt;</th><th scope=col>&lt;chr&gt;</th><th scope=col>&lt;chr&gt;</th><th scope=col>&lt;chr&gt;</th><th scope=col>&lt;chr&gt;</th></tr>\n",
       "</thead>\n",
       "<tbody>\n",
       "\t<tr><th scope=row>1</th><td>KO-CLP1.dna_NODE_1_length_917063_cov_17.085608_1</td><td>1203611.KB894546_gene114</td><td> 3.38e-39</td><td>149</td><td>Bacteroidia</td><td></td><td></td><td></td><td></td><td></td><td>⋯</td><td></td><td></td><td></td><td></td><td></td><td>Bacteria</td><td>2A9KY@1,2FVNM@200643,30YTI@2,4PCRA@976    </td><td>NA|NA|NA</td><td> </td><td>           </td></tr>\n",
       "\t<tr><th scope=row>2</th><td>KO-CLP1.dna_NODE_1_length_917063_cov_17.085608_2</td><td>679935.Alfi_2586        </td><td>3.06e-109</td><td>326</td><td>Bacteroidia</td><td></td><td></td><td></td><td></td><td></td><td>⋯</td><td></td><td></td><td></td><td></td><td></td><td>Bacteria</td><td>2FRJR@200643,4NNCW@976,COG2250@1,COG2250@2</td><td>NA|NA|NA</td><td>S</td><td>HEPN domain</td></tr>\n",
       "</tbody>\n",
       "</table>\n"
      ],
      "text/latex": [
       "A data.frame: 2 × 22\n",
       "\\begin{tabular}{r|lllllllllllllllllllll}\n",
       "  & query & seed\\_ortholog & evalue & score & tax\\_level & Preferred\\_name & GOs & EC & KEGG\\_ko & KEGG\\_Pathway & ⋯ & KEGG\\_rclass & BRITE & KEGG\\_TC & CAZy & BiGG\\_Reaction & taxonomic\\_scope & eggNOG\\_OGs & bestOGs & COGFunctional & eggNOG\\_free\\\\\n",
       "  & <chr> & <chr> & <dbl> & <dbl> & <chr> & <chr> & <chr> & <chr> & <chr> & <chr> & ⋯ & <chr> & <chr> & <chr> & <chr> & <chr> & <chr> & <chr> & <chr> & <chr> & <chr>\\\\\n",
       "\\hline\n",
       "\t1 & KO-CLP1.dna\\_NODE\\_1\\_length\\_917063\\_cov\\_17.085608\\_1 & 1203611.KB894546\\_gene114 &  3.38e-39 & 149 & Bacteroidia &  &  &  &  &  & ⋯ &  &  &  &  &  & Bacteria & 2A9KY@1,2FVNM@200643,30YTI@2,4PCRA@976     & NA\\textbar{}NA\\textbar{}NA &   &            \\\\\n",
       "\t2 & KO-CLP1.dna\\_NODE\\_1\\_length\\_917063\\_cov\\_17.085608\\_2 & 679935.Alfi\\_2586         & 3.06e-109 & 326 & Bacteroidia &  &  &  &  &  & ⋯ &  &  &  &  &  & Bacteria & 2FRJR@200643,4NNCW@976,COG2250@1,COG2250@2 & NA\\textbar{}NA\\textbar{}NA & S & HEPN domain\\\\\n",
       "\\end{tabular}\n"
      ],
      "text/markdown": [
       "\n",
       "A data.frame: 2 × 22\n",
       "\n",
       "| <!--/--> | query &lt;chr&gt; | seed_ortholog &lt;chr&gt; | evalue &lt;dbl&gt; | score &lt;dbl&gt; | tax_level &lt;chr&gt; | Preferred_name &lt;chr&gt; | GOs &lt;chr&gt; | EC &lt;chr&gt; | KEGG_ko &lt;chr&gt; | KEGG_Pathway &lt;chr&gt; | ⋯ ⋯ | KEGG_rclass &lt;chr&gt; | BRITE &lt;chr&gt; | KEGG_TC &lt;chr&gt; | CAZy &lt;chr&gt; | BiGG_Reaction &lt;chr&gt; | taxonomic_scope &lt;chr&gt; | eggNOG_OGs &lt;chr&gt; | bestOGs &lt;chr&gt; | COGFunctional &lt;chr&gt; | eggNOG_free &lt;chr&gt; |\n",
       "|---|---|---|---|---|---|---|---|---|---|---|---|---|---|---|---|---|---|---|---|---|---|\n",
       "| 1 | KO-CLP1.dna_NODE_1_length_917063_cov_17.085608_1 | 1203611.KB894546_gene114 |  3.38e-39 | 149 | Bacteroidia | <!----> | <!----> | <!----> | <!----> | <!----> | ⋯ | <!----> | <!----> | <!----> | <!----> | <!----> | Bacteria | 2A9KY@1,2FVNM@200643,30YTI@2,4PCRA@976     | NA|NA|NA | <!----> | <!----> |\n",
       "| 2 | KO-CLP1.dna_NODE_1_length_917063_cov_17.085608_2 | 679935.Alfi_2586         | 3.06e-109 | 326 | Bacteroidia | <!----> | <!----> | <!----> | <!----> | <!----> | ⋯ | <!----> | <!----> | <!----> | <!----> | <!----> | Bacteria | 2FRJR@200643,4NNCW@976,COG2250@1,COG2250@2 | NA|NA|NA | S | HEPN domain |\n",
       "\n"
      ],
      "text/plain": [
       "  query                                            seed_ortholog           \n",
       "1 KO-CLP1.dna_NODE_1_length_917063_cov_17.085608_1 1203611.KB894546_gene114\n",
       "2 KO-CLP1.dna_NODE_1_length_917063_cov_17.085608_2 679935.Alfi_2586        \n",
       "  evalue    score tax_level   Preferred_name GOs EC KEGG_ko KEGG_Pathway ⋯\n",
       "1  3.38e-39 149   Bacteroidia                                            ⋯\n",
       "2 3.06e-109 326   Bacteroidia                                            ⋯\n",
       "  KEGG_rclass BRITE KEGG_TC CAZy BiGG_Reaction taxonomic_scope\n",
       "1                                              Bacteria       \n",
       "2                                              Bacteria       \n",
       "  eggNOG_OGs                                 bestOGs  COGFunctional eggNOG_free\n",
       "1 2A9KY@1,2FVNM@200643,30YTI@2,4PCRA@976     NA|NA|NA                          \n",
       "2 2FRJR@200643,4NNCW@976,COG2250@1,COG2250@2 NA|NA|NA S             HEPN domain"
      ]
     },
     "metadata": {},
     "output_type": "display_data"
    }
   ],
   "source": [
    "head(eggnogout,2)"
   ]
  },
  {
   "cell_type": "code",
   "execution_count": 17,
   "id": "dd74b608-0bd4-484d-86ec-1e7b7e7ecbaf",
   "metadata": {},
   "outputs": [],
   "source": [
    "egg_merge2 = na.omit(egg_merge)"
   ]
  },
  {
   "cell_type": "code",
   "execution_count": 18,
   "id": "dc68ef85-dfab-4375-af20-af627ce0818b",
   "metadata": {},
   "outputs": [
    {
     "data": {
      "text/html": [
       "<style>\n",
       ".list-inline {list-style: none; margin:0; padding: 0}\n",
       ".list-inline>li {display: inline-block}\n",
       ".list-inline>li:not(:last-child)::after {content: \"\\00b7\"; padding: 0 .5ex}\n",
       "</style>\n",
       "<ol class=list-inline><li>204874</li><li>22</li></ol>\n"
      ],
      "text/latex": [
       "\\begin{enumerate*}\n",
       "\\item 204874\n",
       "\\item 22\n",
       "\\end{enumerate*}\n"
      ],
      "text/markdown": [
       "1. 204874\n",
       "2. 22\n",
       "\n",
       "\n"
      ],
      "text/plain": [
       "[1] 204874     22"
      ]
     },
     "metadata": {},
     "output_type": "display_data"
    }
   ],
   "source": [
    "dim(egg_merge2)"
   ]
  },
  {
   "cell_type": "code",
   "execution_count": null,
   "id": "22adfbcd-1f14-45f1-8224-524f5370fa9f",
   "metadata": {},
   "outputs": [],
   "source": [
    "write.csv(egg_merge2,file = './annotation/egg2.csv')"
   ]
  },
  {
   "cell_type": "code",
   "execution_count": 21,
   "id": "dcbe08d9-391d-4984-8d60-04e5aa09835b",
   "metadata": {},
   "outputs": [],
   "source": [
    "system(\"cd ./annotation &&  /root/miniconda3/envs/Rdoc/bin/Rscript run_eggmapper.R \")"
   ]
  },
  {
   "cell_type": "code",
   "execution_count": null,
   "id": "208f0b61-b73b-4de4-b8f1-aee11b4ac4f6",
   "metadata": {},
   "outputs": [],
   "source": []
  }
 ],
 "metadata": {
  "kernelspec": {
   "display_name": "R",
   "language": "R",
   "name": "ir"
  },
  "language_info": {
   "codemirror_mode": "r",
   "file_extension": ".r",
   "mimetype": "text/x-r-source",
   "name": "R",
   "pygments_lexer": "r",
   "version": "4.2.1"
  }
 },
 "nbformat": 4,
 "nbformat_minor": 5
}
