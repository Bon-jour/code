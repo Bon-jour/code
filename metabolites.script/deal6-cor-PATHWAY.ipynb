{
 "cells": [
  {
   "cell_type": "code",
   "execution_count": null,
   "id": "371ae9d2-18d9-4156-a507-bda879f7f1c9",
   "metadata": {},
   "outputs": [],
   "source": [
    "# https://www.bilibili.com/read/cv14339764/"
   ]
  },
  {
   "cell_type": "markdown",
   "id": "cee6189f-840b-4bf4-9d38-2b9dba764c3a",
   "metadata": {},
   "source": [
    "### 处理pathway 计算菌株与分别与gokegg信号通路的相关性"
   ]
  },
  {
   "cell_type": "code",
   "execution_count": 14,
   "id": "3ea0d1c4-caa3-42cf-b808-644177d2e251",
   "metadata": {},
   "outputs": [],
   "source": [
    "go = read.table('./annotation/go.txt',sep = '@',header =T,quote = \"\")"
   ]
  },
  {
   "cell_type": "code",
   "execution_count": 19,
   "id": "c4f6f6d9-13dc-4005-9348-31ca16e2f2ae",
   "metadata": {},
   "outputs": [],
   "source": [
    "library(dplyr)\n",
    "library(GSVA)\n",
    "library(tidyr)\n",
    "library(tibble)\n",
    "colnames(go) = c('gs_name','gene_symbol')\n",
    "mouse_GO_bp_Set = go %>% \n",
    "split(x = .$gene_symbol, f = .$gs_name)"
   ]
  },
  {
   "cell_type": "code",
   "execution_count": 28,
   "id": "28e072b6-69c2-4e7a-a873-9c108aac6062",
   "metadata": {
    "collapsed": true,
    "jupyter": {
     "outputs_hidden": true
    }
   },
   "outputs": [
    {
     "name": "stderr",
     "output_type": "stream",
     "text": [
      "Warning message:\n",
      "“useNames = NA is deprecated. Instead, specify either useNames = TRUE or useNames = TRUE.”\n",
      "Warning message in .gsva(expr, mapped.gset.idx.list, method, kcdf, rnaseq, abs.ranking, :\n",
      "“Some gene sets have size one. Consider setting 'min.sz > 1'.”\n"
     ]
    },
    {
     "name": "stdout",
     "output_type": "stream",
     "text": [
      "Setting parallel calculations through a MulticoreParam back-end\n",
      "with workers=40 and tasks=100.\n",
      "Estimating GSVA scores for 5461 gene sets.\n",
      "Estimating ECDFs with Poisson kernels\n",
      "Estimating ECDFs in parallel on 40 cores\n"
     ]
    },
    {
     "name": "stderr",
     "output_type": "stream",
     "text": [
      "iteration: \n",
      "1\n",
      "\b2\n",
      "\b3\n",
      "\b4\n",
      "\b5\n",
      "\b6\n",
      "\b7\n",
      "\b8\n",
      "\b9\n",
      "\b10\n",
      "11\n",
      "12\n",
      "13\n",
      "14\n",
      "15\n",
      "16\n",
      "17\n",
      "18\n",
      "19\n",
      "20\n",
      "21\n",
      "22\n",
      "23\n",
      "24\n",
      "25\n",
      "26\n",
      "27\n",
      "28\n",
      "29\n",
      "30\n",
      "31\n",
      "32\n",
      "33\n",
      "34\n",
      "35\n",
      "36\n",
      "37\n",
      "38\n",
      "39\n",
      "40\n",
      "41\n",
      "42\n",
      "43\n",
      "44\n",
      "45\n",
      "46\n",
      "47\n",
      "48\n",
      "49\n",
      "50\n",
      "51\n",
      "52\n",
      "53\n",
      "54\n",
      "55\n",
      "56\n",
      "57\n",
      "58\n",
      "59\n",
      "60\n",
      "61\n",
      "62\n",
      "63\n",
      "64\n",
      "65\n",
      "66\n",
      "67\n",
      "68\n",
      "69\n",
      "70\n",
      "71\n",
      "72\n",
      "73\n",
      "74\n",
      "75\n",
      "76\n",
      "77\n",
      "78\n",
      "79\n",
      "80\n",
      "81\n",
      "82\n",
      "83\n",
      "84\n",
      "85\n",
      "86\n",
      "87\n",
      "88\n"
     ]
    },
    {
     "name": "stdout",
     "output_type": "stream",
     "text": [
      "R_zmq_msg_send errno: 4 strerror: Interrupted system call\n"
     ]
    },
    {
     "name": "stderr",
     "output_type": "stream",
     "text": [
      "89\n",
      "90\n",
      "91\n",
      "92\n",
      "93\n",
      "94\n",
      "95\n",
      "96\n",
      "97\n",
      "98\n",
      "99\n",
      "100\n",
      "\n",
      "\n"
     ]
    },
    {
     "name": "stdout",
     "output_type": "stream",
     "text": [
      "  |======================================================================| 100%\n",
      "\n"
     ]
    }
   ],
   "source": [
    "expr =readRDS('./4.cor//mycounts_filter.rds')\n",
    "T.exp <- as.matrix(expr)\n",
    "T_gsva <- gsva(expr = T.exp,\n",
    "                gset.idx.list = mouse_GO_bp_Set,\n",
    "                kcdf=\"Poisson\", #查看帮助函数选择合适的kcdf方法\n",
    "                parallel.sz = 40)\n",
    "T_gsva_t = t(T_gsva)\n",
    "T_gsva_t = as.data.frame(T_gsva_t)\n",
    "# T_gsva_t = rownames_to_column(T_gsva_t, var = \"sample\")"
   ]
  },
  {
   "cell_type": "code",
   "execution_count": 31,
   "id": "0ef19d30-d78e-4010-9460-701ad32cb8d4",
   "metadata": {},
   "outputs": [],
   "source": [
    "write.csv(T_gsva_t, './4.cor/T_gsva.csv')"
   ]
  },
  {
   "cell_type": "code",
   "execution_count": null,
   "id": "7623b87f-5e86-43a6-8c5e-a7db8ae7f2c9",
   "metadata": {},
   "outputs": [],
   "source": [
    "species.df = read.csv('./4.cor/rename.species.expr.csv',row.names = 1)\n",
    "\n",
    "species.df_t = t(species.df)\n",
    "\n",
    "species.df_t= as.data.frame(species.df_t)\n",
    "\n",
    "head(species.df_t,2)"
   ]
  },
  {
   "cell_type": "code",
   "execution_count": 40,
   "id": "c8cb195f-49a0-4aef-9d7e-18eb1c81eda7",
   "metadata": {},
   "outputs": [
    {
     "data": {
      "text/html": [
       "<table class=\"dataframe\">\n",
       "<caption>A data.frame: 1 × 5461</caption>\n",
       "<thead>\n",
       "\t<tr><th></th><th scope=col>'de novo' AMP biosynthetic process</th><th scope=col>'de novo' IMP biosynthetic process</th><th scope=col>'de novo' NAD biosynthetic process</th><th scope=col>'de novo' NAD biosynthetic process from aspartate</th><th scope=col>'de novo' post-translational protein folding</th><th scope=col>'de novo' protein folding</th><th scope=col>'de novo' pyridoxal 5'-phosphate biosynthetic process</th><th scope=col>'de novo' pyrimidine nucleobase biosynthetic process</th><th scope=col>(3R)-hydroxyacyl-[acyl-carrier-protein] dehydratase activity</th><th scope=col>(S)-2-(5-amino-1-(5-phospho-D-ribosyl)imidazole-4-carboxamido) succinate lyase (fumarate-forming) activity</th><th scope=col>⋯</th><th scope=col>xylulose metabolic process</th><th scope=col>Z-farnesyl diphosphate synthase activity</th><th scope=col>zinc D-Ala-D-Ala carboxypeptidase activity</th><th scope=col>zinc efflux active transmembrane transporter activity</th><th scope=col>zinc efflux transmembrane transporter activity</th><th scope=col>zinc ion binding</th><th scope=col>zinc ion transmembrane transport</th><th scope=col>zinc ion transmembrane transporter activity</th><th scope=col>zinc ion transport</th><th scope=col>zymogen binding</th></tr>\n",
       "\t<tr><th></th><th scope=col>&lt;dbl&gt;</th><th scope=col>&lt;dbl&gt;</th><th scope=col>&lt;dbl&gt;</th><th scope=col>&lt;dbl&gt;</th><th scope=col>&lt;dbl&gt;</th><th scope=col>&lt;dbl&gt;</th><th scope=col>&lt;dbl&gt;</th><th scope=col>&lt;dbl&gt;</th><th scope=col>&lt;dbl&gt;</th><th scope=col>&lt;dbl&gt;</th><th scope=col>⋯</th><th scope=col>&lt;dbl&gt;</th><th scope=col>&lt;dbl&gt;</th><th scope=col>&lt;dbl&gt;</th><th scope=col>&lt;dbl&gt;</th><th scope=col>&lt;dbl&gt;</th><th scope=col>&lt;dbl&gt;</th><th scope=col>&lt;dbl&gt;</th><th scope=col>&lt;dbl&gt;</th><th scope=col>&lt;dbl&gt;</th><th scope=col>&lt;dbl&gt;</th></tr>\n",
       "</thead>\n",
       "<tbody>\n",
       "\t<tr><th scope=row>KO.CLP1</th><td>0.1859567</td><td>0.1919318</td><td>0.2910571</td><td>0.2910571</td><td>0.1853194</td><td>0.06388622</td><td>0.1538416</td><td>0.04687927</td><td>0.2060206</td><td>0.1317619</td><td>⋯</td><td>0.09569552</td><td>0.1528703</td><td>0.4609801</td><td>0.05992631</td><td>0.05992631</td><td>0.05804333</td><td>0.1269555</td><td>0.1269555</td><td>0.1269555</td><td>0.1088695</td></tr>\n",
       "</tbody>\n",
       "</table>\n"
      ],
      "text/latex": [
       "A data.frame: 1 × 5461\n",
       "\\begin{tabular}{r|lllllllllllllllllllll}\n",
       "  & 'de novo' AMP biosynthetic process & 'de novo' IMP biosynthetic process & 'de novo' NAD biosynthetic process & 'de novo' NAD biosynthetic process from aspartate & 'de novo' post-translational protein folding & 'de novo' protein folding & 'de novo' pyridoxal 5'-phosphate biosynthetic process & 'de novo' pyrimidine nucleobase biosynthetic process & (3R)-hydroxyacyl-{[}acyl-carrier-protein{]} dehydratase activity & (S)-2-(5-amino-1-(5-phospho-D-ribosyl)imidazole-4-carboxamido) succinate lyase (fumarate-forming) activity & ⋯ & xylulose metabolic process & Z-farnesyl diphosphate synthase activity & zinc D-Ala-D-Ala carboxypeptidase activity & zinc efflux active transmembrane transporter activity & zinc efflux transmembrane transporter activity & zinc ion binding & zinc ion transmembrane transport & zinc ion transmembrane transporter activity & zinc ion transport & zymogen binding\\\\\n",
       "  & <dbl> & <dbl> & <dbl> & <dbl> & <dbl> & <dbl> & <dbl> & <dbl> & <dbl> & <dbl> & ⋯ & <dbl> & <dbl> & <dbl> & <dbl> & <dbl> & <dbl> & <dbl> & <dbl> & <dbl> & <dbl>\\\\\n",
       "\\hline\n",
       "\tKO.CLP1 & 0.1859567 & 0.1919318 & 0.2910571 & 0.2910571 & 0.1853194 & 0.06388622 & 0.1538416 & 0.04687927 & 0.2060206 & 0.1317619 & ⋯ & 0.09569552 & 0.1528703 & 0.4609801 & 0.05992631 & 0.05992631 & 0.05804333 & 0.1269555 & 0.1269555 & 0.1269555 & 0.1088695\\\\\n",
       "\\end{tabular}\n"
      ],
      "text/markdown": [
       "\n",
       "A data.frame: 1 × 5461\n",
       "\n",
       "| <!--/--> | 'de novo' AMP biosynthetic process &lt;dbl&gt; | 'de novo' IMP biosynthetic process &lt;dbl&gt; | 'de novo' NAD biosynthetic process &lt;dbl&gt; | 'de novo' NAD biosynthetic process from aspartate &lt;dbl&gt; | 'de novo' post-translational protein folding &lt;dbl&gt; | 'de novo' protein folding &lt;dbl&gt; | 'de novo' pyridoxal 5'-phosphate biosynthetic process &lt;dbl&gt; | 'de novo' pyrimidine nucleobase biosynthetic process &lt;dbl&gt; | (3R)-hydroxyacyl-[acyl-carrier-protein] dehydratase activity &lt;dbl&gt; | (S)-2-(5-amino-1-(5-phospho-D-ribosyl)imidazole-4-carboxamido) succinate lyase (fumarate-forming) activity &lt;dbl&gt; | ⋯ ⋯ | xylulose metabolic process &lt;dbl&gt; | Z-farnesyl diphosphate synthase activity &lt;dbl&gt; | zinc D-Ala-D-Ala carboxypeptidase activity &lt;dbl&gt; | zinc efflux active transmembrane transporter activity &lt;dbl&gt; | zinc efflux transmembrane transporter activity &lt;dbl&gt; | zinc ion binding &lt;dbl&gt; | zinc ion transmembrane transport &lt;dbl&gt; | zinc ion transmembrane transporter activity &lt;dbl&gt; | zinc ion transport &lt;dbl&gt; | zymogen binding &lt;dbl&gt; |\n",
       "|---|---|---|---|---|---|---|---|---|---|---|---|---|---|---|---|---|---|---|---|---|---|\n",
       "| KO.CLP1 | 0.1859567 | 0.1919318 | 0.2910571 | 0.2910571 | 0.1853194 | 0.06388622 | 0.1538416 | 0.04687927 | 0.2060206 | 0.1317619 | ⋯ | 0.09569552 | 0.1528703 | 0.4609801 | 0.05992631 | 0.05992631 | 0.05804333 | 0.1269555 | 0.1269555 | 0.1269555 | 0.1088695 |\n",
       "\n"
      ],
      "text/plain": [
       "        'de novo' AMP biosynthetic process 'de novo' IMP biosynthetic process\n",
       "KO.CLP1 0.1859567                          0.1919318                         \n",
       "        'de novo' NAD biosynthetic process\n",
       "KO.CLP1 0.2910571                         \n",
       "        'de novo' NAD biosynthetic process from aspartate\n",
       "KO.CLP1 0.2910571                                        \n",
       "        'de novo' post-translational protein folding 'de novo' protein folding\n",
       "KO.CLP1 0.1853194                                    0.06388622               \n",
       "        'de novo' pyridoxal 5'-phosphate biosynthetic process\n",
       "KO.CLP1 0.1538416                                            \n",
       "        'de novo' pyrimidine nucleobase biosynthetic process\n",
       "KO.CLP1 0.04687927                                          \n",
       "        (3R)-hydroxyacyl-[acyl-carrier-protein] dehydratase activity\n",
       "KO.CLP1 0.2060206                                                   \n",
       "        (S)-2-(5-amino-1-(5-phospho-D-ribosyl)imidazole-4-carboxamido) succinate lyase (fumarate-forming) activity\n",
       "KO.CLP1 0.1317619                                                                                                 \n",
       "        ⋯ xylulose metabolic process Z-farnesyl diphosphate synthase activity\n",
       "KO.CLP1 ⋯ 0.09569552                 0.1528703                               \n",
       "        zinc D-Ala-D-Ala carboxypeptidase activity\n",
       "KO.CLP1 0.4609801                                 \n",
       "        zinc efflux active transmembrane transporter activity\n",
       "KO.CLP1 0.05992631                                           \n",
       "        zinc efflux transmembrane transporter activity zinc ion binding\n",
       "KO.CLP1 0.05992631                                     0.05804333      \n",
       "        zinc ion transmembrane transport\n",
       "KO.CLP1 0.1269555                       \n",
       "        zinc ion transmembrane transporter activity zinc ion transport\n",
       "KO.CLP1 0.1269555                                   0.1269555         \n",
       "        zymogen binding\n",
       "KO.CLP1 0.1088695      "
      ]
     },
     "metadata": {},
     "output_type": "display_data"
    }
   ],
   "source": [
    "head(T_gsva_t,1)"
   ]
  },
  {
   "cell_type": "code",
   "execution_count": 41,
   "id": "83c144ee-6751-4faf-905b-bf9351899dad",
   "metadata": {},
   "outputs": [
    {
     "name": "stderr",
     "output_type": "stream",
     "text": [
      "Warning message:\n",
      "“package ‘psych’ was built under R version 4.2.3”\n"
     ]
    }
   ],
   "source": [
    "library(psych)"
   ]
  },
  {
   "cell_type": "code",
   "execution_count": null,
   "id": "15a865e3-8f72-4838-b056-925573862564",
   "metadata": {},
   "outputs": [],
   "source": [
    "merge_cor<- corr.test(species.df_t, T_gsva_t, method = 'spearman')"
   ]
  },
  {
   "cell_type": "code",
   "execution_count": null,
   "id": "f5af7e5b-19cc-498b-a94e-c6ba9abf9e51",
   "metadata": {},
   "outputs": [],
   "source": [
    "merge_cor"
   ]
  },
  {
   "cell_type": "code",
   "execution_count": null,
   "id": "ad18df05-2c19-426e-a929-37ce238ac5b7",
   "metadata": {},
   "outputs": [],
   "source": []
  }
 ],
 "metadata": {
  "kernelspec": {
   "display_name": "R",
   "language": "R",
   "name": "ir"
  },
  "language_info": {
   "codemirror_mode": "r",
   "file_extension": ".r",
   "mimetype": "text/x-r-source",
   "name": "R",
   "pygments_lexer": "r",
   "version": "4.2.1"
  }
 },
 "nbformat": 4,
 "nbformat_minor": 5
}
