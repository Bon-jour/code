{
 "cells": [
  {
   "cell_type": "code",
   "execution_count": 61,
   "id": "35d03896-dc8f-4b1e-b134-04fb7f300e0e",
   "metadata": {},
   "outputs": [],
   "source": [
    "library(dplyr)"
   ]
  },
  {
   "cell_type": "code",
   "execution_count": 62,
   "id": "ef573b95-3a73-4a5b-965d-07e97f4c58af",
   "metadata": {},
   "outputs": [],
   "source": [
    "kegg = read.csv('./KEGG_COMPOUND_PATHWAY_mmu.csv')"
   ]
  },
  {
   "cell_type": "code",
   "execution_count": 63,
   "id": "c9b60b29-f77a-46df-8c02-b9cdd4f10173",
   "metadata": {},
   "outputs": [],
   "source": [
    "kegg = kegg %>% filter(grepl('Biosynthesis of unsaturated fatty acids',PATHWAY_MAP))"
   ]
  },
  {
   "cell_type": "code",
   "execution_count": 64,
   "id": "3560b20e-f0f7-45b0-94dd-f98d69aec758",
   "metadata": {},
   "outputs": [],
   "source": [
    "id = kegg$COMPOUND"
   ]
  },
  {
   "cell_type": "code",
   "execution_count": 65,
   "id": "add79ff7-8226-4fd7-91be-647a07c9fd45",
   "metadata": {},
   "outputs": [],
   "source": [
    "cnumber = read.csv('./cnumber2.csv')"
   ]
  },
  {
   "cell_type": "code",
   "execution_count": 66,
   "id": "49a2bcd7-bc82-4bfa-92ed-029b56caaee5",
   "metadata": {},
   "outputs": [],
   "source": [
    "lipid = cnumber[cnumber$kegg %in% id,]"
   ]
  },
  {
   "cell_type": "code",
   "execution_count": 67,
   "id": "12a0867b-f3d8-49f6-8db1-7d4d1ada7c99",
   "metadata": {},
   "outputs": [],
   "source": [
    "metalipid = lipid$Metabolites"
   ]
  },
  {
   "cell_type": "code",
   "execution_count": 182,
   "id": "1a901318-78ec-40b5-ab85-d0450b3a98f1",
   "metadata": {},
   "outputs": [],
   "source": [
    "koclp.r = read.csv('./6.otu-metabolite-luming-zhizhi/WT.CLP.cor.r.csv',row.names = 1)"
   ]
  },
  {
   "cell_type": "code",
   "execution_count": 183,
   "id": "702125fa-0172-4334-ba8f-1e0f472a715c",
   "metadata": {},
   "outputs": [],
   "source": [
    "koclp.p = read.csv('./6.otu-metabolite-luming-zhizhi/WT.CLP.cor.p.csv',row.names = 1)"
   ]
  },
  {
   "cell_type": "code",
   "execution_count": 184,
   "id": "d9479747-07ad-449b-a4b9-957d4e39f04b",
   "metadata": {},
   "outputs": [
    {
     "data": {
      "text/html": [
       "<table class=\"dataframe\">\n",
       "<caption>A data.frame: 2 × 10</caption>\n",
       "<thead>\n",
       "\t<tr><th></th><th scope=col>g__Akkermansia_s__Akkermansia_muciniphila</th><th scope=col>g__Bacteroides_s__Bacteroides_caecimuris</th><th scope=col>g__Helicobacter_s__Helicobacter_hepaticus</th><th scope=col>g__Acutalibacter_s__Acutalibacter_muris</th><th scope=col>g__Lachnoclostridium_s__Lachnoclostridium_sp..YL32</th><th scope=col>g__Muribaculum_s__Muribaculum_sp..TLL.A4</th><th scope=col>g__Muribaculum_s__Muribaculum_sp..H5</th><th scope=col>g__Muribaculum_s__Muribaculum_intestinale</th><th scope=col>g__Duncaniella_s__Duncaniella_sp..B8</th><th scope=col>g__Lactobacillus_s__Lactobacillus_murinus</th></tr>\n",
       "\t<tr><th></th><th scope=col>&lt;dbl&gt;</th><th scope=col>&lt;dbl&gt;</th><th scope=col>&lt;dbl&gt;</th><th scope=col>&lt;dbl&gt;</th><th scope=col>&lt;dbl&gt;</th><th scope=col>&lt;dbl&gt;</th><th scope=col>&lt;dbl&gt;</th><th scope=col>&lt;dbl&gt;</th><th scope=col>&lt;dbl&gt;</th><th scope=col>&lt;dbl&gt;</th></tr>\n",
       "</thead>\n",
       "<tbody>\n",
       "\t<tr><th scope=row>Taurodeoxycholic acid</th><td>0</td><td>0</td><td>0</td><td>0</td><td> 0.0000000</td><td>0</td><td>0</td><td>0</td><td>0</td><td>0</td></tr>\n",
       "\t<tr><th scope=row>Tauroursodeoxycholic acid</th><td>0</td><td>0</td><td>0</td><td>0</td><td>-0.7142857</td><td>0</td><td>0</td><td>0</td><td>0</td><td>0</td></tr>\n",
       "</tbody>\n",
       "</table>\n"
      ],
      "text/latex": [
       "A data.frame: 2 × 10\n",
       "\\begin{tabular}{r|llllllllll}\n",
       "  & g\\_\\_Akkermansia\\_s\\_\\_Akkermansia\\_muciniphila & g\\_\\_Bacteroides\\_s\\_\\_Bacteroides\\_caecimuris & g\\_\\_Helicobacter\\_s\\_\\_Helicobacter\\_hepaticus & g\\_\\_Acutalibacter\\_s\\_\\_Acutalibacter\\_muris & g\\_\\_Lachnoclostridium\\_s\\_\\_Lachnoclostridium\\_sp..YL32 & g\\_\\_Muribaculum\\_s\\_\\_Muribaculum\\_sp..TLL.A4 & g\\_\\_Muribaculum\\_s\\_\\_Muribaculum\\_sp..H5 & g\\_\\_Muribaculum\\_s\\_\\_Muribaculum\\_intestinale & g\\_\\_Duncaniella\\_s\\_\\_Duncaniella\\_sp..B8 & g\\_\\_Lactobacillus\\_s\\_\\_Lactobacillus\\_murinus\\\\\n",
       "  & <dbl> & <dbl> & <dbl> & <dbl> & <dbl> & <dbl> & <dbl> & <dbl> & <dbl> & <dbl>\\\\\n",
       "\\hline\n",
       "\tTaurodeoxycholic acid & 0 & 0 & 0 & 0 &  0.0000000 & 0 & 0 & 0 & 0 & 0\\\\\n",
       "\tTauroursodeoxycholic acid & 0 & 0 & 0 & 0 & -0.7142857 & 0 & 0 & 0 & 0 & 0\\\\\n",
       "\\end{tabular}\n"
      ],
      "text/markdown": [
       "\n",
       "A data.frame: 2 × 10\n",
       "\n",
       "| <!--/--> | g__Akkermansia_s__Akkermansia_muciniphila &lt;dbl&gt; | g__Bacteroides_s__Bacteroides_caecimuris &lt;dbl&gt; | g__Helicobacter_s__Helicobacter_hepaticus &lt;dbl&gt; | g__Acutalibacter_s__Acutalibacter_muris &lt;dbl&gt; | g__Lachnoclostridium_s__Lachnoclostridium_sp..YL32 &lt;dbl&gt; | g__Muribaculum_s__Muribaculum_sp..TLL.A4 &lt;dbl&gt; | g__Muribaculum_s__Muribaculum_sp..H5 &lt;dbl&gt; | g__Muribaculum_s__Muribaculum_intestinale &lt;dbl&gt; | g__Duncaniella_s__Duncaniella_sp..B8 &lt;dbl&gt; | g__Lactobacillus_s__Lactobacillus_murinus &lt;dbl&gt; |\n",
       "|---|---|---|---|---|---|---|---|---|---|---|\n",
       "| Taurodeoxycholic acid | 0 | 0 | 0 | 0 |  0.0000000 | 0 | 0 | 0 | 0 | 0 |\n",
       "| Tauroursodeoxycholic acid | 0 | 0 | 0 | 0 | -0.7142857 | 0 | 0 | 0 | 0 | 0 |\n",
       "\n"
      ],
      "text/plain": [
       "                          g__Akkermansia_s__Akkermansia_muciniphila\n",
       "Taurodeoxycholic acid     0                                        \n",
       "Tauroursodeoxycholic acid 0                                        \n",
       "                          g__Bacteroides_s__Bacteroides_caecimuris\n",
       "Taurodeoxycholic acid     0                                       \n",
       "Tauroursodeoxycholic acid 0                                       \n",
       "                          g__Helicobacter_s__Helicobacter_hepaticus\n",
       "Taurodeoxycholic acid     0                                        \n",
       "Tauroursodeoxycholic acid 0                                        \n",
       "                          g__Acutalibacter_s__Acutalibacter_muris\n",
       "Taurodeoxycholic acid     0                                      \n",
       "Tauroursodeoxycholic acid 0                                      \n",
       "                          g__Lachnoclostridium_s__Lachnoclostridium_sp..YL32\n",
       "Taurodeoxycholic acid      0.0000000                                        \n",
       "Tauroursodeoxycholic acid -0.7142857                                        \n",
       "                          g__Muribaculum_s__Muribaculum_sp..TLL.A4\n",
       "Taurodeoxycholic acid     0                                       \n",
       "Tauroursodeoxycholic acid 0                                       \n",
       "                          g__Muribaculum_s__Muribaculum_sp..H5\n",
       "Taurodeoxycholic acid     0                                   \n",
       "Tauroursodeoxycholic acid 0                                   \n",
       "                          g__Muribaculum_s__Muribaculum_intestinale\n",
       "Taurodeoxycholic acid     0                                        \n",
       "Tauroursodeoxycholic acid 0                                        \n",
       "                          g__Duncaniella_s__Duncaniella_sp..B8\n",
       "Taurodeoxycholic acid     0                                   \n",
       "Tauroursodeoxycholic acid 0                                   \n",
       "                          g__Lactobacillus_s__Lactobacillus_murinus\n",
       "Taurodeoxycholic acid     0                                        \n",
       "Tauroursodeoxycholic acid 0                                        "
      ]
     },
     "metadata": {},
     "output_type": "display_data"
    }
   ],
   "source": [
    "head(koclp.r,2)"
   ]
  },
  {
   "cell_type": "code",
   "execution_count": null,
   "id": "5a5b0bb7-22e8-4c39-bb9d-22d1b9676a1e",
   "metadata": {},
   "outputs": [],
   "source": []
  },
  {
   "cell_type": "code",
   "execution_count": 185,
   "id": "d55e9fb9-0a68-4849-85e2-a2aba361030c",
   "metadata": {},
   "outputs": [],
   "source": [
    "r  = koclp.r[metalipid,]"
   ]
  },
  {
   "cell_type": "code",
   "execution_count": 186,
   "id": "ed01cb4f-a2a3-442a-b183-3e539a478f42",
   "metadata": {},
   "outputs": [],
   "source": [
    "p  = koclp.p[metalipid,]"
   ]
  },
  {
   "cell_type": "code",
   "execution_count": 187,
   "id": "94c20c7b-953b-4e91-9a41-1a2036f5a4b9",
   "metadata": {},
   "outputs": [
    {
     "data": {
      "text/html": [
       "<style>\n",
       ".list-inline {list-style: none; margin:0; padding: 0}\n",
       ".list-inline>li {display: inline-block}\n",
       ".list-inline>li:not(:last-child)::after {content: \"\\00b7\"; padding: 0 .5ex}\n",
       "</style>\n",
       "<ol class=list-inline><li>13</li><li>10</li></ol>\n"
      ],
      "text/latex": [
       "\\begin{enumerate*}\n",
       "\\item 13\n",
       "\\item 10\n",
       "\\end{enumerate*}\n"
      ],
      "text/markdown": [
       "1. 13\n",
       "2. 10\n",
       "\n",
       "\n"
      ],
      "text/plain": [
       "[1] 13 10"
      ]
     },
     "metadata": {},
     "output_type": "display_data"
    }
   ],
   "source": [
    "dim(r)"
   ]
  },
  {
   "cell_type": "code",
   "execution_count": 188,
   "id": "9a700295-ab1f-40e1-97b4-701c1400c8a8",
   "metadata": {},
   "outputs": [],
   "source": [
    "cmt = t(r);pmt =t(p)"
   ]
  },
  {
   "cell_type": "code",
   "execution_count": 189,
   "id": "e786a205-e0ff-49c9-a201-e9c53350ffc8",
   "metadata": {},
   "outputs": [],
   "source": [
    "library(reshape2)"
   ]
  },
  {
   "cell_type": "code",
   "execution_count": 190,
   "id": "cc922807-41a0-4e07-9d0f-3f8ad4c44ec3",
   "metadata": {},
   "outputs": [],
   "source": [
    "df <-melt(cmt,value.name= \"cor\")"
   ]
  },
  {
   "cell_type": "code",
   "execution_count": 191,
   "id": "cc956a20-629a-4afd-9e66-a2ca2af3af9d",
   "metadata": {},
   "outputs": [],
   "source": [
    "df$pvalue <- as.vector(pmt)"
   ]
  },
  {
   "cell_type": "code",
   "execution_count": 192,
   "id": "16cc4073-c52d-4f04-bcfe-82b47bee3ff2",
   "metadata": {},
   "outputs": [],
   "source": [
    "if(!is.null(pmt)){\n",
    "    ssmt <- pmt< 0.01\n",
    "    pmt[ssmt] <- '**'\n",
    "    smt <- pmt > 0.01& pmt < 0.05\n",
    "    pmt[smt] <- '*'\n",
    "    pmt[!ssmt&!smt]<- ''\n",
    "    } else{\n",
    "    pmt <- F\n",
    "    }"
   ]
  },
  {
   "cell_type": "code",
   "execution_count": 193,
   "id": "a61950d9-e8c3-4e7c-8901-a78f00079355",
   "metadata": {},
   "outputs": [
    {
     "data": {
      "text/html": [
       "<table class=\"dataframe\">\n",
       "<caption>A matrix: 10 × 13 of type chr</caption>\n",
       "<thead>\n",
       "\t<tr><th></th><th scope=col>Arachidonic Acid</th><th scope=col>Linoleic acid</th><th scope=col>Palmitic acid</th><th scope=col>Oleic acid</th><th scope=col>Eicosadienoic acid</th><th scope=col>Stearic acid</th><th scope=col>Erucic acid</th><th scope=col>Nervonic acid</th><th scope=col>Behenic acid</th><th scope=col>Alpha-Linolenic acid</th><th scope=col>Tetracosanoic acid</th><th scope=col>Y-Linolenic acid</th><th scope=col>Eicosapentaenoic acid</th></tr>\n",
       "</thead>\n",
       "<tbody>\n",
       "\t<tr><th scope=row>g__Akkermansia_s__Akkermansia_muciniphila</th><td></td><td></td><td></td><td></td><td></td><td> </td><td></td><td></td><td>  </td><td></td><td>* </td><td></td><td></td></tr>\n",
       "\t<tr><th scope=row>g__Bacteroides_s__Bacteroides_caecimuris</th><td></td><td></td><td></td><td></td><td></td><td> </td><td></td><td></td><td>  </td><td></td><td>* </td><td></td><td></td></tr>\n",
       "\t<tr><th scope=row>g__Helicobacter_s__Helicobacter_hepaticus</th><td></td><td></td><td></td><td></td><td></td><td>*</td><td></td><td></td><td>  </td><td></td><td>* </td><td></td><td></td></tr>\n",
       "\t<tr><th scope=row>g__Acutalibacter_s__Acutalibacter_muris</th><td></td><td></td><td></td><td></td><td></td><td> </td><td></td><td></td><td>  </td><td></td><td>**</td><td></td><td></td></tr>\n",
       "\t<tr><th scope=row>g__Lachnoclostridium_s__Lachnoclostridium_sp..YL32</th><td></td><td></td><td></td><td></td><td></td><td> </td><td></td><td></td><td>  </td><td></td><td>  </td><td></td><td></td></tr>\n",
       "\t<tr><th scope=row>g__Muribaculum_s__Muribaculum_sp..TLL.A4</th><td></td><td></td><td></td><td></td><td></td><td> </td><td></td><td></td><td>  </td><td></td><td>* </td><td></td><td></td></tr>\n",
       "\t<tr><th scope=row>g__Muribaculum_s__Muribaculum_sp..H5</th><td></td><td></td><td></td><td></td><td></td><td> </td><td></td><td></td><td>  </td><td></td><td>  </td><td></td><td></td></tr>\n",
       "\t<tr><th scope=row>g__Muribaculum_s__Muribaculum_intestinale</th><td></td><td></td><td></td><td></td><td></td><td> </td><td></td><td></td><td>  </td><td></td><td>  </td><td></td><td></td></tr>\n",
       "\t<tr><th scope=row>g__Duncaniella_s__Duncaniella_sp..B8</th><td></td><td></td><td></td><td></td><td></td><td>*</td><td></td><td></td><td>**</td><td></td><td>  </td><td></td><td></td></tr>\n",
       "\t<tr><th scope=row>g__Lactobacillus_s__Lactobacillus_murinus</th><td></td><td></td><td></td><td></td><td></td><td> </td><td></td><td></td><td>  </td><td></td><td>**</td><td></td><td></td></tr>\n",
       "</tbody>\n",
       "</table>\n"
      ],
      "text/latex": [
       "A matrix: 10 × 13 of type chr\n",
       "\\begin{tabular}{r|lllllllllllll}\n",
       "  & Arachidonic Acid & Linoleic acid & Palmitic acid & Oleic acid & Eicosadienoic acid & Stearic acid & Erucic acid & Nervonic acid & Behenic acid & Alpha-Linolenic acid & Tetracosanoic acid & Y-Linolenic acid & Eicosapentaenoic acid\\\\\n",
       "\\hline\n",
       "\tg\\_\\_Akkermansia\\_s\\_\\_Akkermansia\\_muciniphila &  &  &  &  &  &   &  &  &    &  & *  &  & \\\\\n",
       "\tg\\_\\_Bacteroides\\_s\\_\\_Bacteroides\\_caecimuris &  &  &  &  &  &   &  &  &    &  & *  &  & \\\\\n",
       "\tg\\_\\_Helicobacter\\_s\\_\\_Helicobacter\\_hepaticus &  &  &  &  &  & * &  &  &    &  & *  &  & \\\\\n",
       "\tg\\_\\_Acutalibacter\\_s\\_\\_Acutalibacter\\_muris &  &  &  &  &  &   &  &  &    &  & ** &  & \\\\\n",
       "\tg\\_\\_Lachnoclostridium\\_s\\_\\_Lachnoclostridium\\_sp..YL32 &  &  &  &  &  &   &  &  &    &  &    &  & \\\\\n",
       "\tg\\_\\_Muribaculum\\_s\\_\\_Muribaculum\\_sp..TLL.A4 &  &  &  &  &  &   &  &  &    &  & *  &  & \\\\\n",
       "\tg\\_\\_Muribaculum\\_s\\_\\_Muribaculum\\_sp..H5 &  &  &  &  &  &   &  &  &    &  &    &  & \\\\\n",
       "\tg\\_\\_Muribaculum\\_s\\_\\_Muribaculum\\_intestinale &  &  &  &  &  &   &  &  &    &  &    &  & \\\\\n",
       "\tg\\_\\_Duncaniella\\_s\\_\\_Duncaniella\\_sp..B8 &  &  &  &  &  & * &  &  & ** &  &    &  & \\\\\n",
       "\tg\\_\\_Lactobacillus\\_s\\_\\_Lactobacillus\\_murinus &  &  &  &  &  &   &  &  &    &  & ** &  & \\\\\n",
       "\\end{tabular}\n"
      ],
      "text/markdown": [
       "\n",
       "A matrix: 10 × 13 of type chr\n",
       "\n",
       "| <!--/--> | Arachidonic Acid | Linoleic acid | Palmitic acid | Oleic acid | Eicosadienoic acid | Stearic acid | Erucic acid | Nervonic acid | Behenic acid | Alpha-Linolenic acid | Tetracosanoic acid | Y-Linolenic acid | Eicosapentaenoic acid |\n",
       "|---|---|---|---|---|---|---|---|---|---|---|---|---|---|\n",
       "| g__Akkermansia_s__Akkermansia_muciniphila | <!----> | <!----> | <!----> | <!----> | <!----> | <!----> | <!----> | <!----> | <!----> | <!----> | *  | <!----> | <!----> |\n",
       "| g__Bacteroides_s__Bacteroides_caecimuris | <!----> | <!----> | <!----> | <!----> | <!----> | <!----> | <!----> | <!----> | <!----> | <!----> | *  | <!----> | <!----> |\n",
       "| g__Helicobacter_s__Helicobacter_hepaticus | <!----> | <!----> | <!----> | <!----> | <!----> | * | <!----> | <!----> | <!----> | <!----> | *  | <!----> | <!----> |\n",
       "| g__Acutalibacter_s__Acutalibacter_muris | <!----> | <!----> | <!----> | <!----> | <!----> | <!----> | <!----> | <!----> | <!----> | <!----> | ** | <!----> | <!----> |\n",
       "| g__Lachnoclostridium_s__Lachnoclostridium_sp..YL32 | <!----> | <!----> | <!----> | <!----> | <!----> | <!----> | <!----> | <!----> | <!----> | <!----> | <!----> | <!----> | <!----> |\n",
       "| g__Muribaculum_s__Muribaculum_sp..TLL.A4 | <!----> | <!----> | <!----> | <!----> | <!----> | <!----> | <!----> | <!----> | <!----> | <!----> | *  | <!----> | <!----> |\n",
       "| g__Muribaculum_s__Muribaculum_sp..H5 | <!----> | <!----> | <!----> | <!----> | <!----> | <!----> | <!----> | <!----> | <!----> | <!----> | <!----> | <!----> | <!----> |\n",
       "| g__Muribaculum_s__Muribaculum_intestinale | <!----> | <!----> | <!----> | <!----> | <!----> | <!----> | <!----> | <!----> | <!----> | <!----> | <!----> | <!----> | <!----> |\n",
       "| g__Duncaniella_s__Duncaniella_sp..B8 | <!----> | <!----> | <!----> | <!----> | <!----> | * | <!----> | <!----> | ** | <!----> | <!----> | <!----> | <!----> |\n",
       "| g__Lactobacillus_s__Lactobacillus_murinus | <!----> | <!----> | <!----> | <!----> | <!----> | <!----> | <!----> | <!----> | <!----> | <!----> | ** | <!----> | <!----> |\n",
       "\n"
      ],
      "text/plain": [
       "                                                   Arachidonic Acid\n",
       "g__Akkermansia_s__Akkermansia_muciniphila                          \n",
       "g__Bacteroides_s__Bacteroides_caecimuris                           \n",
       "g__Helicobacter_s__Helicobacter_hepaticus                          \n",
       "g__Acutalibacter_s__Acutalibacter_muris                            \n",
       "g__Lachnoclostridium_s__Lachnoclostridium_sp..YL32                 \n",
       "g__Muribaculum_s__Muribaculum_sp..TLL.A4                           \n",
       "g__Muribaculum_s__Muribaculum_sp..H5                               \n",
       "g__Muribaculum_s__Muribaculum_intestinale                          \n",
       "g__Duncaniella_s__Duncaniella_sp..B8                               \n",
       "g__Lactobacillus_s__Lactobacillus_murinus                          \n",
       "                                                   Linoleic acid Palmitic acid\n",
       "g__Akkermansia_s__Akkermansia_muciniphila                                     \n",
       "g__Bacteroides_s__Bacteroides_caecimuris                                      \n",
       "g__Helicobacter_s__Helicobacter_hepaticus                                     \n",
       "g__Acutalibacter_s__Acutalibacter_muris                                       \n",
       "g__Lachnoclostridium_s__Lachnoclostridium_sp..YL32                            \n",
       "g__Muribaculum_s__Muribaculum_sp..TLL.A4                                      \n",
       "g__Muribaculum_s__Muribaculum_sp..H5                                          \n",
       "g__Muribaculum_s__Muribaculum_intestinale                                     \n",
       "g__Duncaniella_s__Duncaniella_sp..B8                                          \n",
       "g__Lactobacillus_s__Lactobacillus_murinus                                     \n",
       "                                                   Oleic acid\n",
       "g__Akkermansia_s__Akkermansia_muciniphila                    \n",
       "g__Bacteroides_s__Bacteroides_caecimuris                     \n",
       "g__Helicobacter_s__Helicobacter_hepaticus                    \n",
       "g__Acutalibacter_s__Acutalibacter_muris                      \n",
       "g__Lachnoclostridium_s__Lachnoclostridium_sp..YL32           \n",
       "g__Muribaculum_s__Muribaculum_sp..TLL.A4                     \n",
       "g__Muribaculum_s__Muribaculum_sp..H5                         \n",
       "g__Muribaculum_s__Muribaculum_intestinale                    \n",
       "g__Duncaniella_s__Duncaniella_sp..B8                         \n",
       "g__Lactobacillus_s__Lactobacillus_murinus                    \n",
       "                                                   Eicosadienoic acid\n",
       "g__Akkermansia_s__Akkermansia_muciniphila                            \n",
       "g__Bacteroides_s__Bacteroides_caecimuris                             \n",
       "g__Helicobacter_s__Helicobacter_hepaticus                            \n",
       "g__Acutalibacter_s__Acutalibacter_muris                              \n",
       "g__Lachnoclostridium_s__Lachnoclostridium_sp..YL32                   \n",
       "g__Muribaculum_s__Muribaculum_sp..TLL.A4                             \n",
       "g__Muribaculum_s__Muribaculum_sp..H5                                 \n",
       "g__Muribaculum_s__Muribaculum_intestinale                            \n",
       "g__Duncaniella_s__Duncaniella_sp..B8                                 \n",
       "g__Lactobacillus_s__Lactobacillus_murinus                            \n",
       "                                                   Stearic acid Erucic acid\n",
       "g__Akkermansia_s__Akkermansia_muciniphila                                  \n",
       "g__Bacteroides_s__Bacteroides_caecimuris                                   \n",
       "g__Helicobacter_s__Helicobacter_hepaticus          *                       \n",
       "g__Acutalibacter_s__Acutalibacter_muris                                    \n",
       "g__Lachnoclostridium_s__Lachnoclostridium_sp..YL32                         \n",
       "g__Muribaculum_s__Muribaculum_sp..TLL.A4                                   \n",
       "g__Muribaculum_s__Muribaculum_sp..H5                                       \n",
       "g__Muribaculum_s__Muribaculum_intestinale                                  \n",
       "g__Duncaniella_s__Duncaniella_sp..B8               *                       \n",
       "g__Lactobacillus_s__Lactobacillus_murinus                                  \n",
       "                                                   Nervonic acid Behenic acid\n",
       "g__Akkermansia_s__Akkermansia_muciniphila                                    \n",
       "g__Bacteroides_s__Bacteroides_caecimuris                                     \n",
       "g__Helicobacter_s__Helicobacter_hepaticus                                    \n",
       "g__Acutalibacter_s__Acutalibacter_muris                                      \n",
       "g__Lachnoclostridium_s__Lachnoclostridium_sp..YL32                           \n",
       "g__Muribaculum_s__Muribaculum_sp..TLL.A4                                     \n",
       "g__Muribaculum_s__Muribaculum_sp..H5                                         \n",
       "g__Muribaculum_s__Muribaculum_intestinale                                    \n",
       "g__Duncaniella_s__Duncaniella_sp..B8                             **          \n",
       "g__Lactobacillus_s__Lactobacillus_murinus                                    \n",
       "                                                   Alpha-Linolenic acid\n",
       "g__Akkermansia_s__Akkermansia_muciniphila                              \n",
       "g__Bacteroides_s__Bacteroides_caecimuris                               \n",
       "g__Helicobacter_s__Helicobacter_hepaticus                              \n",
       "g__Acutalibacter_s__Acutalibacter_muris                                \n",
       "g__Lachnoclostridium_s__Lachnoclostridium_sp..YL32                     \n",
       "g__Muribaculum_s__Muribaculum_sp..TLL.A4                               \n",
       "g__Muribaculum_s__Muribaculum_sp..H5                                   \n",
       "g__Muribaculum_s__Muribaculum_intestinale                              \n",
       "g__Duncaniella_s__Duncaniella_sp..B8                                   \n",
       "g__Lactobacillus_s__Lactobacillus_murinus                              \n",
       "                                                   Tetracosanoic acid\n",
       "g__Akkermansia_s__Akkermansia_muciniphila          *                 \n",
       "g__Bacteroides_s__Bacteroides_caecimuris           *                 \n",
       "g__Helicobacter_s__Helicobacter_hepaticus          *                 \n",
       "g__Acutalibacter_s__Acutalibacter_muris            **                \n",
       "g__Lachnoclostridium_s__Lachnoclostridium_sp..YL32                   \n",
       "g__Muribaculum_s__Muribaculum_sp..TLL.A4           *                 \n",
       "g__Muribaculum_s__Muribaculum_sp..H5                                 \n",
       "g__Muribaculum_s__Muribaculum_intestinale                            \n",
       "g__Duncaniella_s__Duncaniella_sp..B8                                 \n",
       "g__Lactobacillus_s__Lactobacillus_murinus          **                \n",
       "                                                   Y-Linolenic acid\n",
       "g__Akkermansia_s__Akkermansia_muciniphila                          \n",
       "g__Bacteroides_s__Bacteroides_caecimuris                           \n",
       "g__Helicobacter_s__Helicobacter_hepaticus                          \n",
       "g__Acutalibacter_s__Acutalibacter_muris                            \n",
       "g__Lachnoclostridium_s__Lachnoclostridium_sp..YL32                 \n",
       "g__Muribaculum_s__Muribaculum_sp..TLL.A4                           \n",
       "g__Muribaculum_s__Muribaculum_sp..H5                               \n",
       "g__Muribaculum_s__Muribaculum_intestinale                          \n",
       "g__Duncaniella_s__Duncaniella_sp..B8                               \n",
       "g__Lactobacillus_s__Lactobacillus_murinus                          \n",
       "                                                   Eicosapentaenoic acid\n",
       "g__Akkermansia_s__Akkermansia_muciniphila                               \n",
       "g__Bacteroides_s__Bacteroides_caecimuris                                \n",
       "g__Helicobacter_s__Helicobacter_hepaticus                               \n",
       "g__Acutalibacter_s__Acutalibacter_muris                                 \n",
       "g__Lachnoclostridium_s__Lachnoclostridium_sp..YL32                      \n",
       "g__Muribaculum_s__Muribaculum_sp..TLL.A4                                \n",
       "g__Muribaculum_s__Muribaculum_sp..H5                                    \n",
       "g__Muribaculum_s__Muribaculum_intestinale                               \n",
       "g__Duncaniella_s__Duncaniella_sp..B8                                    \n",
       "g__Lactobacillus_s__Lactobacillus_murinus                               "
      ]
     },
     "metadata": {},
     "output_type": "display_data"
    }
   ],
   "source": [
    "pmt"
   ]
  },
  {
   "cell_type": "code",
   "execution_count": null,
   "id": "01236c34-4818-48bf-b56a-268558c7c360",
   "metadata": {},
   "outputs": [],
   "source": []
  },
  {
   "cell_type": "code",
   "execution_count": 194,
   "id": "1fe9a2fd-6033-4dfb-a89e-3e6614da40b5",
   "metadata": {},
   "outputs": [],
   "source": [
    "library(pheatmap)"
   ]
  },
  {
   "cell_type": "code",
   "execution_count": 195,
   "id": "ad78c344-a8da-46c1-8a11-9e1f40d2ef89",
   "metadata": {},
   "outputs": [],
   "source": [
    "kind = c('g__Akkermansia_s__Akkermansia_muciniphila',\n",
    "'g__Bacteroides_s__Bacteroides_caecimuris',\n",
    "'g__Helicobacter_s__Helicobacter_hepaticus',\n",
    "'g__Acutalibacter_s__Acutalibacter_muris',\n",
    "'g__Lachnoclostridium_s__Lachnoclostridium_sp..YL32'\n",
    ")\n",
    "\n",
    "bad = c('g__Muribaculum_s__Muribaculum_sp..TLL.A4',\n",
    "'g__Muribaculum_s__Muribaculum_sp..H5',\n",
    "'g__Muribaculum_s__Muribaculum_intestinale',\n",
    "'g__Duncaniella_s__Duncaniella_sp..B8',\n",
    "'g__Lactobacillus_s__Lactobacillus_murinus'\n",
    ")"
   ]
  },
  {
   "cell_type": "code",
   "execution_count": 196,
   "id": "6fde43c6-b543-4769-99ae-45a2bfbed156",
   "metadata": {},
   "outputs": [],
   "source": [
    "dd = as.data.frame(c(kind,bad))"
   ]
  },
  {
   "cell_type": "code",
   "execution_count": 197,
   "id": "845ac2a0-40cd-4c70-8e6c-75576966c75f",
   "metadata": {},
   "outputs": [],
   "source": [
    "dd$type = c(rep('kind',5),rep('bad',5))"
   ]
  },
  {
   "cell_type": "code",
   "execution_count": 198,
   "id": "56cf34aa-caea-49e9-b4bb-3961f65ae16f",
   "metadata": {},
   "outputs": [],
   "source": [
    "dd = dd %>% tibble::column_to_rownames(.,'c(kind, bad)')"
   ]
  },
  {
   "cell_type": "code",
   "execution_count": 199,
   "id": "a4fe6849-288f-400e-a76c-c5d9f8882113",
   "metadata": {},
   "outputs": [
    {
     "data": {
      "text/html": [
       "<table class=\"dataframe\">\n",
       "<caption>A data.frame: 10 × 1</caption>\n",
       "<thead>\n",
       "\t<tr><th></th><th scope=col>type</th></tr>\n",
       "\t<tr><th></th><th scope=col>&lt;chr&gt;</th></tr>\n",
       "</thead>\n",
       "<tbody>\n",
       "\t<tr><th scope=row>g__Akkermansia_s__Akkermansia_muciniphila</th><td>kind</td></tr>\n",
       "\t<tr><th scope=row>g__Bacteroides_s__Bacteroides_caecimuris</th><td>kind</td></tr>\n",
       "\t<tr><th scope=row>g__Helicobacter_s__Helicobacter_hepaticus</th><td>kind</td></tr>\n",
       "\t<tr><th scope=row>g__Acutalibacter_s__Acutalibacter_muris</th><td>kind</td></tr>\n",
       "\t<tr><th scope=row>g__Lachnoclostridium_s__Lachnoclostridium_sp..YL32</th><td>kind</td></tr>\n",
       "\t<tr><th scope=row>g__Muribaculum_s__Muribaculum_sp..TLL.A4</th><td>bad </td></tr>\n",
       "\t<tr><th scope=row>g__Muribaculum_s__Muribaculum_sp..H5</th><td>bad </td></tr>\n",
       "\t<tr><th scope=row>g__Muribaculum_s__Muribaculum_intestinale</th><td>bad </td></tr>\n",
       "\t<tr><th scope=row>g__Duncaniella_s__Duncaniella_sp..B8</th><td>bad </td></tr>\n",
       "\t<tr><th scope=row>g__Lactobacillus_s__Lactobacillus_murinus</th><td>bad </td></tr>\n",
       "</tbody>\n",
       "</table>\n"
      ],
      "text/latex": [
       "A data.frame: 10 × 1\n",
       "\\begin{tabular}{r|l}\n",
       "  & type\\\\\n",
       "  & <chr>\\\\\n",
       "\\hline\n",
       "\tg\\_\\_Akkermansia\\_s\\_\\_Akkermansia\\_muciniphila & kind\\\\\n",
       "\tg\\_\\_Bacteroides\\_s\\_\\_Bacteroides\\_caecimuris & kind\\\\\n",
       "\tg\\_\\_Helicobacter\\_s\\_\\_Helicobacter\\_hepaticus & kind\\\\\n",
       "\tg\\_\\_Acutalibacter\\_s\\_\\_Acutalibacter\\_muris & kind\\\\\n",
       "\tg\\_\\_Lachnoclostridium\\_s\\_\\_Lachnoclostridium\\_sp..YL32 & kind\\\\\n",
       "\tg\\_\\_Muribaculum\\_s\\_\\_Muribaculum\\_sp..TLL.A4 & bad \\\\\n",
       "\tg\\_\\_Muribaculum\\_s\\_\\_Muribaculum\\_sp..H5 & bad \\\\\n",
       "\tg\\_\\_Muribaculum\\_s\\_\\_Muribaculum\\_intestinale & bad \\\\\n",
       "\tg\\_\\_Duncaniella\\_s\\_\\_Duncaniella\\_sp..B8 & bad \\\\\n",
       "\tg\\_\\_Lactobacillus\\_s\\_\\_Lactobacillus\\_murinus & bad \\\\\n",
       "\\end{tabular}\n"
      ],
      "text/markdown": [
       "\n",
       "A data.frame: 10 × 1\n",
       "\n",
       "| <!--/--> | type &lt;chr&gt; |\n",
       "|---|---|\n",
       "| g__Akkermansia_s__Akkermansia_muciniphila | kind |\n",
       "| g__Bacteroides_s__Bacteroides_caecimuris | kind |\n",
       "| g__Helicobacter_s__Helicobacter_hepaticus | kind |\n",
       "| g__Acutalibacter_s__Acutalibacter_muris | kind |\n",
       "| g__Lachnoclostridium_s__Lachnoclostridium_sp..YL32 | kind |\n",
       "| g__Muribaculum_s__Muribaculum_sp..TLL.A4 | bad  |\n",
       "| g__Muribaculum_s__Muribaculum_sp..H5 | bad  |\n",
       "| g__Muribaculum_s__Muribaculum_intestinale | bad  |\n",
       "| g__Duncaniella_s__Duncaniella_sp..B8 | bad  |\n",
       "| g__Lactobacillus_s__Lactobacillus_murinus | bad  |\n",
       "\n"
      ],
      "text/plain": [
       "                                                   type\n",
       "g__Akkermansia_s__Akkermansia_muciniphila          kind\n",
       "g__Bacteroides_s__Bacteroides_caecimuris           kind\n",
       "g__Helicobacter_s__Helicobacter_hepaticus          kind\n",
       "g__Acutalibacter_s__Acutalibacter_muris            kind\n",
       "g__Lachnoclostridium_s__Lachnoclostridium_sp..YL32 kind\n",
       "g__Muribaculum_s__Muribaculum_sp..TLL.A4           bad \n",
       "g__Muribaculum_s__Muribaculum_sp..H5               bad \n",
       "g__Muribaculum_s__Muribaculum_intestinale          bad \n",
       "g__Duncaniella_s__Duncaniella_sp..B8               bad \n",
       "g__Lactobacillus_s__Lactobacillus_murinus          bad "
      ]
     },
     "metadata": {},
     "output_type": "display_data"
    }
   ],
   "source": [
    "dd"
   ]
  },
  {
   "cell_type": "code",
   "execution_count": 200,
   "id": "23d3d642-b0b4-444e-8b91-34b6123d4ac2",
   "metadata": {},
   "outputs": [],
   "source": [
    "cmt1 = cmt[,colSums(cmt == 0) < nrow(cmt)]"
   ]
  },
  {
   "cell_type": "code",
   "execution_count": null,
   "id": "764c03a2-d952-48c5-aecd-d03187c07b13",
   "metadata": {},
   "outputs": [],
   "source": []
  },
  {
   "cell_type": "code",
   "execution_count": 201,
   "id": "d5a28408-4c8a-48a4-8048-4fed2321232b",
   "metadata": {},
   "outputs": [],
   "source": [
    "pmt1 = pmt[,colnames(cmt1)]"
   ]
  },
  {
   "cell_type": "code",
   "execution_count": 202,
   "id": "df470472-b693-416c-8097-71d97b14c3fc",
   "metadata": {},
   "outputs": [
    {
     "data": {
      "text/html": [
       "<style>\n",
       ".list-inline {list-style: none; margin:0; padding: 0}\n",
       ".list-inline>li {display: inline-block}\n",
       ".list-inline>li:not(:last-child)::after {content: \"\\00b7\"; padding: 0 .5ex}\n",
       "</style>\n",
       "<ol class=list-inline><li>10</li><li>3</li></ol>\n"
      ],
      "text/latex": [
       "\\begin{enumerate*}\n",
       "\\item 10\n",
       "\\item 3\n",
       "\\end{enumerate*}\n"
      ],
      "text/markdown": [
       "1. 10\n",
       "2. 3\n",
       "\n",
       "\n"
      ],
      "text/plain": [
       "[1] 10  3"
      ]
     },
     "metadata": {},
     "output_type": "display_data"
    }
   ],
   "source": [
    "dim(pmt1)"
   ]
  },
  {
   "cell_type": "code",
   "execution_count": 203,
   "id": "18545ef2-9c4d-4780-86e2-1fe3b9af568f",
   "metadata": {
    "scrolled": true
   },
   "outputs": [
    {
     "data": {
      "image/png": "[encoded data removed]",
      "text/plain": [
       "plot without title"
      ]
     },
     "metadata": {
      "image/png": {
       "height": 600,
       "width": 900
      }
     },
     "output_type": "display_data"
    }
   ],
   "source": [
    " mycol<-colorRampPalette(c(\"blue\",\"white\",\"tomato\"))(50)\n",
    "    # options(repr.plot.height = 10,repr.plot.width = 15)\n",
    "    p = pheatmap(cmt1,scale = \"none\",cluster_row = F, cluster_col = T, border='black',\n",
    "    display_numbers = pmt1,fontsize_number = 15, number_color = \"white\", fontsize_row = 15,  fontsize_col = 15,annotation_names_row =F,\n",
    "    cellwidth = 19, cellheight =15,color=mycol, annotation_row = dd )\n",
    "    \n"
   ]
  },
  {
   "cell_type": "code",
   "execution_count": 204,
   "id": "ae0942ff-192e-4a6c-bfd1-ca9ee08aa9d2",
   "metadata": {},
   "outputs": [],
   "source": [
    "options(repr.plot.width = 30,repr.plot.height = 15)"
   ]
  },
  {
   "cell_type": "code",
   "execution_count": null,
   "id": "b5a20b5b-4f8e-45d2-b566-3908a5819415",
   "metadata": {},
   "outputs": [],
   "source": [
    "print(p)"
   ]
  },
  {
   "cell_type": "code",
   "execution_count": 28,
   "id": "8a41f8ba-cd95-4cee-8b12-c64a035ac5ae",
   "metadata": {},
   "outputs": [
    {
     "data": {
      "text/html": [
       "<table class=\"dataframe\">\n",
       "<caption>A matrix: 10 × 46 of type dbl</caption>\n",
       "<thead>\n",
       "\t<tr><th></th><th scope=col>Taurodeoxycholic acid</th><th scope=col>Tauroursodeoxycholic acid</th><th scope=col>Glycocholic acid</th><th scope=col>Chenodeoxycholic acid glycine conjugate</th><th scope=col>Deoxycholic acid glycine conjugate</th><th scope=col>Taurolithocholic acid</th><th scope=col>Deoxycholic acid</th><th scope=col>Lithocholic acid</th><th scope=col>12-Ketodeoxycholic acid</th><th scope=col>Tauro-a-muricholic Acid (sodium salt)</th><th scope=col>⋯</th><th scope=col>LysoPE(18:0/0:0)</th><th scope=col>PG(16:0/18:1)</th><th scope=col>PC(16:0/20:4(5Z,8Z,11Z,14Z))</th><th scope=col>7beta-hydroxycholesterol</th><th scope=col>7-ketocholesterol</th><th scope=col>LysoPC(20:0)</th><th scope=col>PS(16:0)</th><th scope=col>PI(16:0/18:1(9Z))</th><th scope=col>PI(18:0/20:4(5Z,8Z,11Z,14Z))</th><th scope=col>16:0 PE</th></tr>\n",
       "</thead>\n",
       "<tbody>\n",
       "\t<tr><th scope=row>g__Akkermansia_s__Akkermansia_muciniphila</th><td> 0.0000000</td><td> 0.0000000</td><td> 0.0000000</td><td> 0.0000000</td><td> 0.0000000</td><td> 0.0000000</td><td> 0.0000000</td><td> 0.0000000</td><td> 0.0000000</td><td> 0.0000000</td><td>⋯</td><td> 0.0000000</td><td>0.0000000</td><td> 0.0000000</td><td>0.7619048</td><td>0.7380952</td><td> 0.0000000</td><td> 0.0000000</td><td>0.0000000</td><td>0.0000000</td><td> 0.0000000</td></tr>\n",
       "\t<tr><th scope=row>g__Bacteroides_s__Bacteroides_caecimuris</th><td> 0.0000000</td><td> 0.0000000</td><td> 0.0000000</td><td> 0.0000000</td><td> 0.0000000</td><td> 0.0000000</td><td> 0.0000000</td><td> 0.0000000</td><td> 0.0000000</td><td> 0.0000000</td><td>⋯</td><td> 0.0000000</td><td>0.0000000</td><td>-0.8333333</td><td>0.0000000</td><td>0.0000000</td><td> 0.0000000</td><td> 0.0000000</td><td>0.0000000</td><td>0.0000000</td><td> 0.0000000</td></tr>\n",
       "\t<tr><th scope=row>g__Helicobacter_s__Helicobacter_hepaticus</th><td> 0.0000000</td><td> 0.0000000</td><td> 0.0000000</td><td> 0.0000000</td><td> 0.0000000</td><td> 0.0000000</td><td> 0.0000000</td><td> 0.0000000</td><td> 0.0000000</td><td> 0.0000000</td><td>⋯</td><td> 0.0000000</td><td>0.0000000</td><td> 0.7380952</td><td>0.0000000</td><td>0.0000000</td><td> 0.0000000</td><td>-0.8095238</td><td>0.0000000</td><td>0.0000000</td><td>-0.8809524</td></tr>\n",
       "\t<tr><th scope=row>g__Acutalibacter_s__Acutalibacter_muris</th><td>-0.9047619</td><td> 0.0000000</td><td> 0.0000000</td><td> 0.0000000</td><td> 0.0000000</td><td>-0.7380952</td><td> 0.0000000</td><td>-0.8498050</td><td> 0.0000000</td><td> 0.0000000</td><td>⋯</td><td>-0.8571429</td><td>0.0000000</td><td> 0.0000000</td><td>0.0000000</td><td>0.0000000</td><td>-0.8571429</td><td> 0.0000000</td><td>0.0000000</td><td>0.0000000</td><td> 0.0000000</td></tr>\n",
       "\t<tr><th scope=row>g__Lachnoclostridium_s__Lachnoclostridium_sp..YL32</th><td> 0.0000000</td><td> 0.0000000</td><td> 0.0000000</td><td> 0.0000000</td><td> 0.0000000</td><td> 0.0000000</td><td> 0.0000000</td><td> 0.0000000</td><td>-0.8095238</td><td> 0.0000000</td><td>⋯</td><td> 0.0000000</td><td>0.0000000</td><td> 0.0000000</td><td>0.0000000</td><td>0.0000000</td><td> 0.0000000</td><td> 0.0000000</td><td>0.9047619</td><td>0.0000000</td><td> 0.0000000</td></tr>\n",
       "\t<tr><th scope=row>g__Muribaculum_s__Muribaculum_sp..TLL.A4</th><td> 0.0000000</td><td> 0.0000000</td><td> 0.0000000</td><td> 0.0000000</td><td> 0.0000000</td><td> 0.0000000</td><td> 0.0000000</td><td> 0.0000000</td><td> 0.0000000</td><td> 0.0000000</td><td>⋯</td><td> 0.0000000</td><td>0.0000000</td><td> 0.0000000</td><td>0.0000000</td><td>0.0000000</td><td> 0.0000000</td><td> 0.0000000</td><td>0.0000000</td><td>0.7142857</td><td> 0.0000000</td></tr>\n",
       "\t<tr><th scope=row>g__Muribaculum_s__Muribaculum_sp..H5</th><td> 0.0000000</td><td> 0.0000000</td><td> 0.0000000</td><td> 0.0000000</td><td> 0.0000000</td><td> 0.0000000</td><td> 0.0000000</td><td>-0.7356521</td><td> 0.0000000</td><td> 0.0000000</td><td>⋯</td><td> 0.0000000</td><td>0.0000000</td><td> 0.0000000</td><td>0.0000000</td><td>0.0000000</td><td> 0.0000000</td><td> 0.0000000</td><td>0.0000000</td><td>0.0000000</td><td> 0.0000000</td></tr>\n",
       "\t<tr><th scope=row>g__Muribaculum_s__Muribaculum_intestinale</th><td>-0.9523810</td><td>-0.8095238</td><td>-0.7857143</td><td>-0.7380952</td><td>-0.8095238</td><td>-0.8333333</td><td>-0.8095238</td><td>-0.8624887</td><td> 0.0000000</td><td>-0.7142857</td><td>⋯</td><td>-0.7857143</td><td>0.0000000</td><td> 0.0000000</td><td>0.0000000</td><td>0.0000000</td><td>-0.7857143</td><td> 0.0000000</td><td>0.0000000</td><td>0.0000000</td><td> 0.0000000</td></tr>\n",
       "\t<tr><th scope=row>g__Duncaniella_s__Duncaniella_sp..B8</th><td> 0.0000000</td><td> 0.0000000</td><td> 0.0000000</td><td> 0.0000000</td><td> 0.0000000</td><td> 0.0000000</td><td> 0.0000000</td><td> 0.0000000</td><td>-0.7619048</td><td> 0.0000000</td><td>⋯</td><td> 0.0000000</td><td>0.0000000</td><td> 0.0000000</td><td>0.0000000</td><td>0.0000000</td><td> 0.0000000</td><td> 0.0000000</td><td>0.0000000</td><td>0.0000000</td><td> 0.0000000</td></tr>\n",
       "\t<tr><th scope=row>g__Lactobacillus_s__Lactobacillus_murinus</th><td> 0.0000000</td><td> 0.0000000</td><td> 0.7619048</td><td> 0.0000000</td><td> 0.0000000</td><td> 0.0000000</td><td> 0.0000000</td><td> 0.0000000</td><td> 0.0000000</td><td> 0.0000000</td><td>⋯</td><td> 0.0000000</td><td>0.8095238</td><td>-0.7380952</td><td>0.0000000</td><td>0.0000000</td><td> 0.0000000</td><td> 0.0000000</td><td>0.0000000</td><td>0.0000000</td><td> 0.0000000</td></tr>\n",
       "</tbody>\n",
       "</table>\n"
      ],
      "text/latex": [
       "A matrix: 10 × 46 of type dbl\n",
       "\\begin{tabular}{r|lllllllllllllllllllll}\n",
       "  & Taurodeoxycholic acid & Tauroursodeoxycholic acid & Glycocholic acid & Chenodeoxycholic acid glycine conjugate & Deoxycholic acid glycine conjugate & Taurolithocholic acid & Deoxycholic acid & Lithocholic acid & 12-Ketodeoxycholic acid & Tauro-a-muricholic Acid (sodium salt) & ⋯ & LysoPE(18:0/0:0) & PG(16:0/18:1) & PC(16:0/20:4(5Z,8Z,11Z,14Z)) & 7beta-hydroxycholesterol & 7-ketocholesterol & LysoPC(20:0) & PS(16:0) & PI(16:0/18:1(9Z)) & PI(18:0/20:4(5Z,8Z,11Z,14Z)) & 16:0 PE\\\\\n",
       "\\hline\n",
       "\tg\\_\\_Akkermansia\\_s\\_\\_Akkermansia\\_muciniphila &  0.0000000 &  0.0000000 &  0.0000000 &  0.0000000 &  0.0000000 &  0.0000000 &  0.0000000 &  0.0000000 &  0.0000000 &  0.0000000 & ⋯ &  0.0000000 & 0.0000000 &  0.0000000 & 0.7619048 & 0.7380952 &  0.0000000 &  0.0000000 & 0.0000000 & 0.0000000 &  0.0000000\\\\\n",
       "\tg\\_\\_Bacteroides\\_s\\_\\_Bacteroides\\_caecimuris &  0.0000000 &  0.0000000 &  0.0000000 &  0.0000000 &  0.0000000 &  0.0000000 &  0.0000000 &  0.0000000 &  0.0000000 &  0.0000000 & ⋯ &  0.0000000 & 0.0000000 & -0.8333333 & 0.0000000 & 0.0000000 &  0.0000000 &  0.0000000 & 0.0000000 & 0.0000000 &  0.0000000\\\\\n",
       "\tg\\_\\_Helicobacter\\_s\\_\\_Helicobacter\\_hepaticus &  0.0000000 &  0.0000000 &  0.0000000 &  0.0000000 &  0.0000000 &  0.0000000 &  0.0000000 &  0.0000000 &  0.0000000 &  0.0000000 & ⋯ &  0.0000000 & 0.0000000 &  0.7380952 & 0.0000000 & 0.0000000 &  0.0000000 & -0.8095238 & 0.0000000 & 0.0000000 & -0.8809524\\\\\n",
       "\tg\\_\\_Acutalibacter\\_s\\_\\_Acutalibacter\\_muris & -0.9047619 &  0.0000000 &  0.0000000 &  0.0000000 &  0.0000000 & -0.7380952 &  0.0000000 & -0.8498050 &  0.0000000 &  0.0000000 & ⋯ & -0.8571429 & 0.0000000 &  0.0000000 & 0.0000000 & 0.0000000 & -0.8571429 &  0.0000000 & 0.0000000 & 0.0000000 &  0.0000000\\\\\n",
       "\tg\\_\\_Lachnoclostridium\\_s\\_\\_Lachnoclostridium\\_sp..YL32 &  0.0000000 &  0.0000000 &  0.0000000 &  0.0000000 &  0.0000000 &  0.0000000 &  0.0000000 &  0.0000000 & -0.8095238 &  0.0000000 & ⋯ &  0.0000000 & 0.0000000 &  0.0000000 & 0.0000000 & 0.0000000 &  0.0000000 &  0.0000000 & 0.9047619 & 0.0000000 &  0.0000000\\\\\n",
       "\tg\\_\\_Muribaculum\\_s\\_\\_Muribaculum\\_sp..TLL.A4 &  0.0000000 &  0.0000000 &  0.0000000 &  0.0000000 &  0.0000000 &  0.0000000 &  0.0000000 &  0.0000000 &  0.0000000 &  0.0000000 & ⋯ &  0.0000000 & 0.0000000 &  0.0000000 & 0.0000000 & 0.0000000 &  0.0000000 &  0.0000000 & 0.0000000 & 0.7142857 &  0.0000000\\\\\n",
       "\tg\\_\\_Muribaculum\\_s\\_\\_Muribaculum\\_sp..H5 &  0.0000000 &  0.0000000 &  0.0000000 &  0.0000000 &  0.0000000 &  0.0000000 &  0.0000000 & -0.7356521 &  0.0000000 &  0.0000000 & ⋯ &  0.0000000 & 0.0000000 &  0.0000000 & 0.0000000 & 0.0000000 &  0.0000000 &  0.0000000 & 0.0000000 & 0.0000000 &  0.0000000\\\\\n",
       "\tg\\_\\_Muribaculum\\_s\\_\\_Muribaculum\\_intestinale & -0.9523810 & -0.8095238 & -0.7857143 & -0.7380952 & -0.8095238 & -0.8333333 & -0.8095238 & -0.8624887 &  0.0000000 & -0.7142857 & ⋯ & -0.7857143 & 0.0000000 &  0.0000000 & 0.0000000 & 0.0000000 & -0.7857143 &  0.0000000 & 0.0000000 & 0.0000000 &  0.0000000\\\\\n",
       "\tg\\_\\_Duncaniella\\_s\\_\\_Duncaniella\\_sp..B8 &  0.0000000 &  0.0000000 &  0.0000000 &  0.0000000 &  0.0000000 &  0.0000000 &  0.0000000 &  0.0000000 & -0.7619048 &  0.0000000 & ⋯ &  0.0000000 & 0.0000000 &  0.0000000 & 0.0000000 & 0.0000000 &  0.0000000 &  0.0000000 & 0.0000000 & 0.0000000 &  0.0000000\\\\\n",
       "\tg\\_\\_Lactobacillus\\_s\\_\\_Lactobacillus\\_murinus &  0.0000000 &  0.0000000 &  0.7619048 &  0.0000000 &  0.0000000 &  0.0000000 &  0.0000000 &  0.0000000 &  0.0000000 &  0.0000000 & ⋯ &  0.0000000 & 0.8095238 & -0.7380952 & 0.0000000 & 0.0000000 &  0.0000000 &  0.0000000 & 0.0000000 & 0.0000000 &  0.0000000\\\\\n",
       "\\end{tabular}\n"
      ],
      "text/markdown": [
       "\n",
       "A matrix: 10 × 46 of type dbl\n",
       "\n",
       "| <!--/--> | Taurodeoxycholic acid | Tauroursodeoxycholic acid | Glycocholic acid | Chenodeoxycholic acid glycine conjugate | Deoxycholic acid glycine conjugate | Taurolithocholic acid | Deoxycholic acid | Lithocholic acid | 12-Ketodeoxycholic acid | Tauro-a-muricholic Acid (sodium salt) | ⋯ | LysoPE(18:0/0:0) | PG(16:0/18:1) | PC(16:0/20:4(5Z,8Z,11Z,14Z)) | 7beta-hydroxycholesterol | 7-ketocholesterol | LysoPC(20:0) | PS(16:0) | PI(16:0/18:1(9Z)) | PI(18:0/20:4(5Z,8Z,11Z,14Z)) | 16:0 PE |\n",
       "|---|---|---|---|---|---|---|---|---|---|---|---|---|---|---|---|---|---|---|---|---|---|\n",
       "| g__Akkermansia_s__Akkermansia_muciniphila |  0.0000000 |  0.0000000 |  0.0000000 |  0.0000000 |  0.0000000 |  0.0000000 |  0.0000000 |  0.0000000 |  0.0000000 |  0.0000000 | ⋯ |  0.0000000 | 0.0000000 |  0.0000000 | 0.7619048 | 0.7380952 |  0.0000000 |  0.0000000 | 0.0000000 | 0.0000000 |  0.0000000 |\n",
       "| g__Bacteroides_s__Bacteroides_caecimuris |  0.0000000 |  0.0000000 |  0.0000000 |  0.0000000 |  0.0000000 |  0.0000000 |  0.0000000 |  0.0000000 |  0.0000000 |  0.0000000 | ⋯ |  0.0000000 | 0.0000000 | -0.8333333 | 0.0000000 | 0.0000000 |  0.0000000 |  0.0000000 | 0.0000000 | 0.0000000 |  0.0000000 |\n",
       "| g__Helicobacter_s__Helicobacter_hepaticus |  0.0000000 |  0.0000000 |  0.0000000 |  0.0000000 |  0.0000000 |  0.0000000 |  0.0000000 |  0.0000000 |  0.0000000 |  0.0000000 | ⋯ |  0.0000000 | 0.0000000 |  0.7380952 | 0.0000000 | 0.0000000 |  0.0000000 | -0.8095238 | 0.0000000 | 0.0000000 | -0.8809524 |\n",
       "| g__Acutalibacter_s__Acutalibacter_muris | -0.9047619 |  0.0000000 |  0.0000000 |  0.0000000 |  0.0000000 | -0.7380952 |  0.0000000 | -0.8498050 |  0.0000000 |  0.0000000 | ⋯ | -0.8571429 | 0.0000000 |  0.0000000 | 0.0000000 | 0.0000000 | -0.8571429 |  0.0000000 | 0.0000000 | 0.0000000 |  0.0000000 |\n",
       "| g__Lachnoclostridium_s__Lachnoclostridium_sp..YL32 |  0.0000000 |  0.0000000 |  0.0000000 |  0.0000000 |  0.0000000 |  0.0000000 |  0.0000000 |  0.0000000 | -0.8095238 |  0.0000000 | ⋯ |  0.0000000 | 0.0000000 |  0.0000000 | 0.0000000 | 0.0000000 |  0.0000000 |  0.0000000 | 0.9047619 | 0.0000000 |  0.0000000 |\n",
       "| g__Muribaculum_s__Muribaculum_sp..TLL.A4 |  0.0000000 |  0.0000000 |  0.0000000 |  0.0000000 |  0.0000000 |  0.0000000 |  0.0000000 |  0.0000000 |  0.0000000 |  0.0000000 | ⋯ |  0.0000000 | 0.0000000 |  0.0000000 | 0.0000000 | 0.0000000 |  0.0000000 |  0.0000000 | 0.0000000 | 0.7142857 |  0.0000000 |\n",
       "| g__Muribaculum_s__Muribaculum_sp..H5 |  0.0000000 |  0.0000000 |  0.0000000 |  0.0000000 |  0.0000000 |  0.0000000 |  0.0000000 | -0.7356521 |  0.0000000 |  0.0000000 | ⋯ |  0.0000000 | 0.0000000 |  0.0000000 | 0.0000000 | 0.0000000 |  0.0000000 |  0.0000000 | 0.0000000 | 0.0000000 |  0.0000000 |\n",
       "| g__Muribaculum_s__Muribaculum_intestinale | -0.9523810 | -0.8095238 | -0.7857143 | -0.7380952 | -0.8095238 | -0.8333333 | -0.8095238 | -0.8624887 |  0.0000000 | -0.7142857 | ⋯ | -0.7857143 | 0.0000000 |  0.0000000 | 0.0000000 | 0.0000000 | -0.7857143 |  0.0000000 | 0.0000000 | 0.0000000 |  0.0000000 |\n",
       "| g__Duncaniella_s__Duncaniella_sp..B8 |  0.0000000 |  0.0000000 |  0.0000000 |  0.0000000 |  0.0000000 |  0.0000000 |  0.0000000 |  0.0000000 | -0.7619048 |  0.0000000 | ⋯ |  0.0000000 | 0.0000000 |  0.0000000 | 0.0000000 | 0.0000000 |  0.0000000 |  0.0000000 | 0.0000000 | 0.0000000 |  0.0000000 |\n",
       "| g__Lactobacillus_s__Lactobacillus_murinus |  0.0000000 |  0.0000000 |  0.7619048 |  0.0000000 |  0.0000000 |  0.0000000 |  0.0000000 |  0.0000000 |  0.0000000 |  0.0000000 | ⋯ |  0.0000000 | 0.8095238 | -0.7380952 | 0.0000000 | 0.0000000 |  0.0000000 |  0.0000000 | 0.0000000 | 0.0000000 |  0.0000000 |\n",
       "\n"
      ],
      "text/plain": [
       "                                                   Taurodeoxycholic acid\n",
       "g__Akkermansia_s__Akkermansia_muciniphila           0.0000000           \n",
       "g__Bacteroides_s__Bacteroides_caecimuris            0.0000000           \n",
       "g__Helicobacter_s__Helicobacter_hepaticus           0.0000000           \n",
       "g__Acutalibacter_s__Acutalibacter_muris            -0.9047619           \n",
       "g__Lachnoclostridium_s__Lachnoclostridium_sp..YL32  0.0000000           \n",
       "g__Muribaculum_s__Muribaculum_sp..TLL.A4            0.0000000           \n",
       "g__Muribaculum_s__Muribaculum_sp..H5                0.0000000           \n",
       "g__Muribaculum_s__Muribaculum_intestinale          -0.9523810           \n",
       "g__Duncaniella_s__Duncaniella_sp..B8                0.0000000           \n",
       "g__Lactobacillus_s__Lactobacillus_murinus           0.0000000           \n",
       "                                                   Tauroursodeoxycholic acid\n",
       "g__Akkermansia_s__Akkermansia_muciniphila           0.0000000               \n",
       "g__Bacteroides_s__Bacteroides_caecimuris            0.0000000               \n",
       "g__Helicobacter_s__Helicobacter_hepaticus           0.0000000               \n",
       "g__Acutalibacter_s__Acutalibacter_muris             0.0000000               \n",
       "g__Lachnoclostridium_s__Lachnoclostridium_sp..YL32  0.0000000               \n",
       "g__Muribaculum_s__Muribaculum_sp..TLL.A4            0.0000000               \n",
       "g__Muribaculum_s__Muribaculum_sp..H5                0.0000000               \n",
       "g__Muribaculum_s__Muribaculum_intestinale          -0.8095238               \n",
       "g__Duncaniella_s__Duncaniella_sp..B8                0.0000000               \n",
       "g__Lactobacillus_s__Lactobacillus_murinus           0.0000000               \n",
       "                                                   Glycocholic acid\n",
       "g__Akkermansia_s__Akkermansia_muciniphila           0.0000000      \n",
       "g__Bacteroides_s__Bacteroides_caecimuris            0.0000000      \n",
       "g__Helicobacter_s__Helicobacter_hepaticus           0.0000000      \n",
       "g__Acutalibacter_s__Acutalibacter_muris             0.0000000      \n",
       "g__Lachnoclostridium_s__Lachnoclostridium_sp..YL32  0.0000000      \n",
       "g__Muribaculum_s__Muribaculum_sp..TLL.A4            0.0000000      \n",
       "g__Muribaculum_s__Muribaculum_sp..H5                0.0000000      \n",
       "g__Muribaculum_s__Muribaculum_intestinale          -0.7857143      \n",
       "g__Duncaniella_s__Duncaniella_sp..B8                0.0000000      \n",
       "g__Lactobacillus_s__Lactobacillus_murinus           0.7619048      \n",
       "                                                   Chenodeoxycholic acid glycine conjugate\n",
       "g__Akkermansia_s__Akkermansia_muciniphila           0.0000000                             \n",
       "g__Bacteroides_s__Bacteroides_caecimuris            0.0000000                             \n",
       "g__Helicobacter_s__Helicobacter_hepaticus           0.0000000                             \n",
       "g__Acutalibacter_s__Acutalibacter_muris             0.0000000                             \n",
       "g__Lachnoclostridium_s__Lachnoclostridium_sp..YL32  0.0000000                             \n",
       "g__Muribaculum_s__Muribaculum_sp..TLL.A4            0.0000000                             \n",
       "g__Muribaculum_s__Muribaculum_sp..H5                0.0000000                             \n",
       "g__Muribaculum_s__Muribaculum_intestinale          -0.7380952                             \n",
       "g__Duncaniella_s__Duncaniella_sp..B8                0.0000000                             \n",
       "g__Lactobacillus_s__Lactobacillus_murinus           0.0000000                             \n",
       "                                                   Deoxycholic acid glycine conjugate\n",
       "g__Akkermansia_s__Akkermansia_muciniphila           0.0000000                        \n",
       "g__Bacteroides_s__Bacteroides_caecimuris            0.0000000                        \n",
       "g__Helicobacter_s__Helicobacter_hepaticus           0.0000000                        \n",
       "g__Acutalibacter_s__Acutalibacter_muris             0.0000000                        \n",
       "g__Lachnoclostridium_s__Lachnoclostridium_sp..YL32  0.0000000                        \n",
       "g__Muribaculum_s__Muribaculum_sp..TLL.A4            0.0000000                        \n",
       "g__Muribaculum_s__Muribaculum_sp..H5                0.0000000                        \n",
       "g__Muribaculum_s__Muribaculum_intestinale          -0.8095238                        \n",
       "g__Duncaniella_s__Duncaniella_sp..B8                0.0000000                        \n",
       "g__Lactobacillus_s__Lactobacillus_murinus           0.0000000                        \n",
       "                                                   Taurolithocholic acid\n",
       "g__Akkermansia_s__Akkermansia_muciniphila           0.0000000           \n",
       "g__Bacteroides_s__Bacteroides_caecimuris            0.0000000           \n",
       "g__Helicobacter_s__Helicobacter_hepaticus           0.0000000           \n",
       "g__Acutalibacter_s__Acutalibacter_muris            -0.7380952           \n",
       "g__Lachnoclostridium_s__Lachnoclostridium_sp..YL32  0.0000000           \n",
       "g__Muribaculum_s__Muribaculum_sp..TLL.A4            0.0000000           \n",
       "g__Muribaculum_s__Muribaculum_sp..H5                0.0000000           \n",
       "g__Muribaculum_s__Muribaculum_intestinale          -0.8333333           \n",
       "g__Duncaniella_s__Duncaniella_sp..B8                0.0000000           \n",
       "g__Lactobacillus_s__Lactobacillus_murinus           0.0000000           \n",
       "                                                   Deoxycholic acid\n",
       "g__Akkermansia_s__Akkermansia_muciniphila           0.0000000      \n",
       "g__Bacteroides_s__Bacteroides_caecimuris            0.0000000      \n",
       "g__Helicobacter_s__Helicobacter_hepaticus           0.0000000      \n",
       "g__Acutalibacter_s__Acutalibacter_muris             0.0000000      \n",
       "g__Lachnoclostridium_s__Lachnoclostridium_sp..YL32  0.0000000      \n",
       "g__Muribaculum_s__Muribaculum_sp..TLL.A4            0.0000000      \n",
       "g__Muribaculum_s__Muribaculum_sp..H5                0.0000000      \n",
       "g__Muribaculum_s__Muribaculum_intestinale          -0.8095238      \n",
       "g__Duncaniella_s__Duncaniella_sp..B8                0.0000000      \n",
       "g__Lactobacillus_s__Lactobacillus_murinus           0.0000000      \n",
       "                                                   Lithocholic acid\n",
       "g__Akkermansia_s__Akkermansia_muciniphila           0.0000000      \n",
       "g__Bacteroides_s__Bacteroides_caecimuris            0.0000000      \n",
       "g__Helicobacter_s__Helicobacter_hepaticus           0.0000000      \n",
       "g__Acutalibacter_s__Acutalibacter_muris            -0.8498050      \n",
       "g__Lachnoclostridium_s__Lachnoclostridium_sp..YL32  0.0000000      \n",
       "g__Muribaculum_s__Muribaculum_sp..TLL.A4            0.0000000      \n",
       "g__Muribaculum_s__Muribaculum_sp..H5               -0.7356521      \n",
       "g__Muribaculum_s__Muribaculum_intestinale          -0.8624887      \n",
       "g__Duncaniella_s__Duncaniella_sp..B8                0.0000000      \n",
       "g__Lactobacillus_s__Lactobacillus_murinus           0.0000000      \n",
       "                                                   12-Ketodeoxycholic acid\n",
       "g__Akkermansia_s__Akkermansia_muciniphila           0.0000000             \n",
       "g__Bacteroides_s__Bacteroides_caecimuris            0.0000000             \n",
       "g__Helicobacter_s__Helicobacter_hepaticus           0.0000000             \n",
       "g__Acutalibacter_s__Acutalibacter_muris             0.0000000             \n",
       "g__Lachnoclostridium_s__Lachnoclostridium_sp..YL32 -0.8095238             \n",
       "g__Muribaculum_s__Muribaculum_sp..TLL.A4            0.0000000             \n",
       "g__Muribaculum_s__Muribaculum_sp..H5                0.0000000             \n",
       "g__Muribaculum_s__Muribaculum_intestinale           0.0000000             \n",
       "g__Duncaniella_s__Duncaniella_sp..B8               -0.7619048             \n",
       "g__Lactobacillus_s__Lactobacillus_murinus           0.0000000             \n",
       "                                                   Tauro-a-muricholic Acid (sodium salt)\n",
       "g__Akkermansia_s__Akkermansia_muciniphila           0.0000000                           \n",
       "g__Bacteroides_s__Bacteroides_caecimuris            0.0000000                           \n",
       "g__Helicobacter_s__Helicobacter_hepaticus           0.0000000                           \n",
       "g__Acutalibacter_s__Acutalibacter_muris             0.0000000                           \n",
       "g__Lachnoclostridium_s__Lachnoclostridium_sp..YL32  0.0000000                           \n",
       "g__Muribaculum_s__Muribaculum_sp..TLL.A4            0.0000000                           \n",
       "g__Muribaculum_s__Muribaculum_sp..H5                0.0000000                           \n",
       "g__Muribaculum_s__Muribaculum_intestinale          -0.7142857                           \n",
       "g__Duncaniella_s__Duncaniella_sp..B8                0.0000000                           \n",
       "g__Lactobacillus_s__Lactobacillus_murinus           0.0000000                           \n",
       "                                                   ⋯ LysoPE(18:0/0:0)\n",
       "g__Akkermansia_s__Akkermansia_muciniphila          ⋯  0.0000000      \n",
       "g__Bacteroides_s__Bacteroides_caecimuris           ⋯  0.0000000      \n",
       "g__Helicobacter_s__Helicobacter_hepaticus          ⋯  0.0000000      \n",
       "g__Acutalibacter_s__Acutalibacter_muris            ⋯ -0.8571429      \n",
       "g__Lachnoclostridium_s__Lachnoclostridium_sp..YL32 ⋯  0.0000000      \n",
       "g__Muribaculum_s__Muribaculum_sp..TLL.A4           ⋯  0.0000000      \n",
       "g__Muribaculum_s__Muribaculum_sp..H5               ⋯  0.0000000      \n",
       "g__Muribaculum_s__Muribaculum_intestinale          ⋯ -0.7857143      \n",
       "g__Duncaniella_s__Duncaniella_sp..B8               ⋯  0.0000000      \n",
       "g__Lactobacillus_s__Lactobacillus_murinus          ⋯  0.0000000      \n",
       "                                                   PG(16:0/18:1)\n",
       "g__Akkermansia_s__Akkermansia_muciniphila          0.0000000    \n",
       "g__Bacteroides_s__Bacteroides_caecimuris           0.0000000    \n",
       "g__Helicobacter_s__Helicobacter_hepaticus          0.0000000    \n",
       "g__Acutalibacter_s__Acutalibacter_muris            0.0000000    \n",
       "g__Lachnoclostridium_s__Lachnoclostridium_sp..YL32 0.0000000    \n",
       "g__Muribaculum_s__Muribaculum_sp..TLL.A4           0.0000000    \n",
       "g__Muribaculum_s__Muribaculum_sp..H5               0.0000000    \n",
       "g__Muribaculum_s__Muribaculum_intestinale          0.0000000    \n",
       "g__Duncaniella_s__Duncaniella_sp..B8               0.0000000    \n",
       "g__Lactobacillus_s__Lactobacillus_murinus          0.8095238    \n",
       "                                                   PC(16:0/20:4(5Z,8Z,11Z,14Z))\n",
       "g__Akkermansia_s__Akkermansia_muciniphila           0.0000000                  \n",
       "g__Bacteroides_s__Bacteroides_caecimuris           -0.8333333                  \n",
       "g__Helicobacter_s__Helicobacter_hepaticus           0.7380952                  \n",
       "g__Acutalibacter_s__Acutalibacter_muris             0.0000000                  \n",
       "g__Lachnoclostridium_s__Lachnoclostridium_sp..YL32  0.0000000                  \n",
       "g__Muribaculum_s__Muribaculum_sp..TLL.A4            0.0000000                  \n",
       "g__Muribaculum_s__Muribaculum_sp..H5                0.0000000                  \n",
       "g__Muribaculum_s__Muribaculum_intestinale           0.0000000                  \n",
       "g__Duncaniella_s__Duncaniella_sp..B8                0.0000000                  \n",
       "g__Lactobacillus_s__Lactobacillus_murinus          -0.7380952                  \n",
       "                                                   7beta-hydroxycholesterol\n",
       "g__Akkermansia_s__Akkermansia_muciniphila          0.7619048               \n",
       "g__Bacteroides_s__Bacteroides_caecimuris           0.0000000               \n",
       "g__Helicobacter_s__Helicobacter_hepaticus          0.0000000               \n",
       "g__Acutalibacter_s__Acutalibacter_muris            0.0000000               \n",
       "g__Lachnoclostridium_s__Lachnoclostridium_sp..YL32 0.0000000               \n",
       "g__Muribaculum_s__Muribaculum_sp..TLL.A4           0.0000000               \n",
       "g__Muribaculum_s__Muribaculum_sp..H5               0.0000000               \n",
       "g__Muribaculum_s__Muribaculum_intestinale          0.0000000               \n",
       "g__Duncaniella_s__Duncaniella_sp..B8               0.0000000               \n",
       "g__Lactobacillus_s__Lactobacillus_murinus          0.0000000               \n",
       "                                                   7-ketocholesterol\n",
       "g__Akkermansia_s__Akkermansia_muciniphila          0.7380952        \n",
       "g__Bacteroides_s__Bacteroides_caecimuris           0.0000000        \n",
       "g__Helicobacter_s__Helicobacter_hepaticus          0.0000000        \n",
       "g__Acutalibacter_s__Acutalibacter_muris            0.0000000        \n",
       "g__Lachnoclostridium_s__Lachnoclostridium_sp..YL32 0.0000000        \n",
       "g__Muribaculum_s__Muribaculum_sp..TLL.A4           0.0000000        \n",
       "g__Muribaculum_s__Muribaculum_sp..H5               0.0000000        \n",
       "g__Muribaculum_s__Muribaculum_intestinale          0.0000000        \n",
       "g__Duncaniella_s__Duncaniella_sp..B8               0.0000000        \n",
       "g__Lactobacillus_s__Lactobacillus_murinus          0.0000000        \n",
       "                                                   LysoPC(20:0) PS(16:0)  \n",
       "g__Akkermansia_s__Akkermansia_muciniphila           0.0000000    0.0000000\n",
       "g__Bacteroides_s__Bacteroides_caecimuris            0.0000000    0.0000000\n",
       "g__Helicobacter_s__Helicobacter_hepaticus           0.0000000   -0.8095238\n",
       "g__Acutalibacter_s__Acutalibacter_muris            -0.8571429    0.0000000\n",
       "g__Lachnoclostridium_s__Lachnoclostridium_sp..YL32  0.0000000    0.0000000\n",
       "g__Muribaculum_s__Muribaculum_sp..TLL.A4            0.0000000    0.0000000\n",
       "g__Muribaculum_s__Muribaculum_sp..H5                0.0000000    0.0000000\n",
       "g__Muribaculum_s__Muribaculum_intestinale          -0.7857143    0.0000000\n",
       "g__Duncaniella_s__Duncaniella_sp..B8                0.0000000    0.0000000\n",
       "g__Lactobacillus_s__Lactobacillus_murinus           0.0000000    0.0000000\n",
       "                                                   PI(16:0/18:1(9Z))\n",
       "g__Akkermansia_s__Akkermansia_muciniphila          0.0000000        \n",
       "g__Bacteroides_s__Bacteroides_caecimuris           0.0000000        \n",
       "g__Helicobacter_s__Helicobacter_hepaticus          0.0000000        \n",
       "g__Acutalibacter_s__Acutalibacter_muris            0.0000000        \n",
       "g__Lachnoclostridium_s__Lachnoclostridium_sp..YL32 0.9047619        \n",
       "g__Muribaculum_s__Muribaculum_sp..TLL.A4           0.0000000        \n",
       "g__Muribaculum_s__Muribaculum_sp..H5               0.0000000        \n",
       "g__Muribaculum_s__Muribaculum_intestinale          0.0000000        \n",
       "g__Duncaniella_s__Duncaniella_sp..B8               0.0000000        \n",
       "g__Lactobacillus_s__Lactobacillus_murinus          0.0000000        \n",
       "                                                   PI(18:0/20:4(5Z,8Z,11Z,14Z))\n",
       "g__Akkermansia_s__Akkermansia_muciniphila          0.0000000                   \n",
       "g__Bacteroides_s__Bacteroides_caecimuris           0.0000000                   \n",
       "g__Helicobacter_s__Helicobacter_hepaticus          0.0000000                   \n",
       "g__Acutalibacter_s__Acutalibacter_muris            0.0000000                   \n",
       "g__Lachnoclostridium_s__Lachnoclostridium_sp..YL32 0.0000000                   \n",
       "g__Muribaculum_s__Muribaculum_sp..TLL.A4           0.7142857                   \n",
       "g__Muribaculum_s__Muribaculum_sp..H5               0.0000000                   \n",
       "g__Muribaculum_s__Muribaculum_intestinale          0.0000000                   \n",
       "g__Duncaniella_s__Duncaniella_sp..B8               0.0000000                   \n",
       "g__Lactobacillus_s__Lactobacillus_murinus          0.0000000                   \n",
       "                                                   16:0 PE   \n",
       "g__Akkermansia_s__Akkermansia_muciniphila           0.0000000\n",
       "g__Bacteroides_s__Bacteroides_caecimuris            0.0000000\n",
       "g__Helicobacter_s__Helicobacter_hepaticus          -0.8809524\n",
       "g__Acutalibacter_s__Acutalibacter_muris             0.0000000\n",
       "g__Lachnoclostridium_s__Lachnoclostridium_sp..YL32  0.0000000\n",
       "g__Muribaculum_s__Muribaculum_sp..TLL.A4            0.0000000\n",
       "g__Muribaculum_s__Muribaculum_sp..H5                0.0000000\n",
       "g__Muribaculum_s__Muribaculum_intestinale           0.0000000\n",
       "g__Duncaniella_s__Duncaniella_sp..B8                0.0000000\n",
       "g__Lactobacillus_s__Lactobacillus_murinus           0.0000000"
      ]
     },
     "metadata": {},
     "output_type": "display_data"
    }
   ],
   "source": [
    "cmt1"
   ]
  }
 ],
 "metadata": {
  "kernelspec": {
   "display_name": "R",
   "language": "R",
   "name": "ir"
  },
  "language_info": {
   "codemirror_mode": "r",
   "file_extension": ".r",
   "mimetype": "text/x-r-source",
   "name": "R",
   "pygments_lexer": "r",
   "version": "4.2.1"
  }
 },
 "nbformat": 4,
 "nbformat_minor": 5
}
