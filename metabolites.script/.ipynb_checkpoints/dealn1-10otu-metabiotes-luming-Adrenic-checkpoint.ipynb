{
 "cells": [
  {
   "cell_type": "code",
   "execution_count": 1,
   "id": "02529532-4282-4e67-bdab-d0a59366433e",
   "metadata": {
    "scrolled": true
   },
   "outputs": [
    {
     "name": "stderr",
     "output_type": "stream",
     "text": [
      "Warning message:\n",
      "“package ‘dplyr’ was built under R version 4.2.3”\n",
      "\n",
      "Attaching package: ‘dplyr’\n",
      "\n",
      "\n",
      "The following objects are masked from ‘package:stats’:\n",
      "\n",
      "    filter, lag\n",
      "\n",
      "\n",
      "The following objects are masked from ‘package:base’:\n",
      "\n",
      "    intersect, setdiff, setequal, union\n",
      "\n",
      "\n",
      "Warning message:\n",
      "“package ‘Hmisc’ was built under R version 4.2.3”\n",
      "\n",
      "Attaching package: ‘Hmisc’\n",
      "\n",
      "\n",
      "The following objects are masked from ‘package:dplyr’:\n",
      "\n",
      "    src, summarize\n",
      "\n",
      "\n",
      "The following objects are masked from ‘package:base’:\n",
      "\n",
      "    format.pval, units\n",
      "\n",
      "\n"
     ]
    },
    {
     "ename": "ERROR",
     "evalue": "Error: package or namespace load failed for ‘igraph’ in dyn.load(file, DLLpath = DLLpath, ...):\n unable to load shared object '/root/miniconda3/envs/Rdoc/lib/R/library/igraph/libs/igraph.so':\n  libglpk.so.36: cannot open shared object file: No such file or directory\n",
     "output_type": "error",
     "traceback": [
      "Error: package or namespace load failed for ‘igraph’ in dyn.load(file, DLLpath = DLLpath, ...):\n unable to load shared object '/root/miniconda3/envs/Rdoc/lib/R/library/igraph/libs/igraph.so':\n  libglpk.so.36: cannot open shared object file: No such file or directory\nTraceback:\n",
      "1. library(igraph)",
      "2. tryCatch({\n .     attr(package, \"LibPath\") <- which.lib.loc\n .     ns <- loadNamespace(package, lib.loc)\n .     env <- attachNamespace(ns, pos = pos, deps, exclude, include.only)\n . }, error = function(e) {\n .     P <- if (!is.null(cc <- conditionCall(e))) \n .         paste(\" in\", deparse(cc)[1L])\n .     else \"\"\n .     msg <- gettextf(\"package or namespace load failed for %s%s:\\n %s\", \n .         sQuote(package), P, conditionMessage(e))\n .     if (logical.return && !quietly) \n .         message(paste(\"Error:\", msg), domain = NA)\n .     else stop(msg, call. = FALSE, domain = NA)\n . })",
      "3. tryCatchList(expr, classes, parentenv, handlers)",
      "4. tryCatchOne(expr, names, parentenv, handlers[[1L]])",
      "5. value[[3L]](cond)",
      "6. stop(msg, call. = FALSE, domain = NA)"
     ]
    }
   ],
   "source": [
    "library(dplyr)\n",
    "library(Hmisc)\n",
    "library(igraph)"
   ]
  },
  {
   "cell_type": "code",
   "execution_count": 3,
   "id": "8cbbe3ad-0cce-411f-a73d-cefe7a45d0f5",
   "metadata": {},
   "outputs": [],
   "source": [
    "species.df = read.csv('./4.cor/rename.species.expr.csv',row.names = 1)"
   ]
  },
  {
   "cell_type": "code",
   "execution_count": 5,
   "id": "978e4573-fe38-42c0-9695-f7df6c4f2a30",
   "metadata": {},
   "outputs": [],
   "source": [
    "species.df_t = species.df"
   ]
  },
  {
   "cell_type": "code",
   "execution_count": 6,
   "id": "60d5e3a2-27a2-41ae-a8cf-28a7dfe49080",
   "metadata": {},
   "outputs": [],
   "source": [
    "trt_id <- c('KO.CLP','KO.NC','WT.CLP','WT.NC') ## 定义样本的关键词，然后从样本名抓取处理的样本\n",
    "split_otu <- lapply(apply(sapply(trt_id,function(x){grep(x,colnames(species.df_t))}),2,FUN = function(x){species.df_t[,x]}),function(x){x[-(which(rowSums(x)==0)),]})"
   ]
  },
  {
   "cell_type": "code",
   "execution_count": 7,
   "id": "96d8ce67-818a-4709-9a1d-4c30434d424b",
   "metadata": {},
   "outputs": [],
   "source": [
    "split_otu1 = split_otu"
   ]
  },
  {
   "cell_type": "code",
   "execution_count": 8,
   "id": "023569b3-0b51-4eca-9bb8-e455bdc25b44",
   "metadata": {},
   "outputs": [
    {
     "name": "stderr",
     "output_type": "stream",
     "text": [
      "Warning message:\n",
      "“package ‘readxl’ was built under R version 4.2.3”\n"
     ]
    }
   ],
   "source": [
    "library(readxl)"
   ]
  },
  {
   "cell_type": "code",
   "execution_count": 9,
   "id": "24945f12-937a-4a8a-8ee7-a10665c18614",
   "metadata": {},
   "outputs": [
    {
     "name": "stderr",
     "output_type": "stream",
     "text": [
      "Warning message:\n",
      "“package ‘openxlsx’ was built under R version 4.2.3”\n"
     ]
    }
   ],
   "source": [
    "library(openxlsx)"
   ]
  },
  {
   "cell_type": "code",
   "execution_count": 10,
   "id": "50514222-e267-4598-8393-a4e3b6c08260",
   "metadata": {},
   "outputs": [],
   "source": [
    "data <- read.xlsx(\"../daixiezu/新非靶/3.Data/data.xlsx\", sheet = 2,check.names = T)"
   ]
  },
  {
   "cell_type": "code",
   "execution_count": 11,
   "id": "518914df-289e-40ef-bcdf-8cd2fd3176b5",
   "metadata": {},
   "outputs": [],
   "source": [
    "data = data[-1,-1]"
   ]
  },
  {
   "cell_type": "code",
   "execution_count": 12,
   "id": "c19903e9-2f56-4cb2-a5bd-d7f0776c2d56",
   "metadata": {},
   "outputs": [
    {
     "name": "stderr",
     "output_type": "stream",
     "text": [
      "Warning message:\n",
      "“package ‘tibble’ was built under R version 4.2.3”\n",
      "Warning message:\n",
      "“\u001b[1m\u001b[22m`as.tibble()` was deprecated in tibble 2.0.0.\n",
      "\u001b[36mℹ\u001b[39m Please use `as_tibble()` instead.\n",
      "\u001b[36mℹ\u001b[39m The signature and semantics have changed, see `?as_tibble`.”\n"
     ]
    }
   ],
   "source": [
    "library(tibble)\n",
    "data = as.tibble(data)\n",
    "data = data[!duplicated(data$Metabolites),]"
   ]
  },
  {
   "cell_type": "code",
   "execution_count": 13,
   "id": "0e9df7d1-832f-4739-ad35-6264f8a0b9b2",
   "metadata": {},
   "outputs": [],
   "source": [
    "data %>% tibble::column_to_rownames(.,'Metabolites') -> data1"
   ]
  },
  {
   "cell_type": "code",
   "execution_count": 14,
   "id": "0754c093-a85b-4f06-bf5d-e2711e3548d4",
   "metadata": {},
   "outputs": [
    {
     "data": {
      "text/html": [
       "<style>\n",
       ".list-inline {list-style: none; margin:0; padding: 0}\n",
       ".list-inline>li {display: inline-block}\n",
       ".list-inline>li:not(:last-child)::after {content: \"\\00b7\"; padding: 0 .5ex}\n",
       "</style>\n",
       "<ol class=list-inline><li>144</li><li>32</li></ol>\n"
      ],
      "text/latex": [
       "\\begin{enumerate*}\n",
       "\\item 144\n",
       "\\item 32\n",
       "\\end{enumerate*}\n"
      ],
      "text/markdown": [
       "1. 144\n",
       "2. 32\n",
       "\n",
       "\n"
      ],
      "text/plain": [
       "[1] 144  32"
      ]
     },
     "metadata": {},
     "output_type": "display_data"
    }
   ],
   "source": [
    "dim(data1)"
   ]
  },
  {
   "cell_type": "code",
   "execution_count": 25,
   "id": "b7291f88-1bde-41fc-9d54-8b2640c40eb8",
   "metadata": {},
   "outputs": [],
   "source": [
    "data_t = as.data.frame(lapply(data1,as.numeric))"
   ]
  },
  {
   "cell_type": "code",
   "execution_count": 26,
   "id": "eac97fc7-3b8e-448d-a9ce-8d77c7607da1",
   "metadata": {},
   "outputs": [],
   "source": [
    "rownames(data_t) = rownames(data1)"
   ]
  },
  {
   "cell_type": "code",
   "execution_count": 27,
   "id": "4d247a6d-1219-4482-bc01-9b2a21d284fc",
   "metadata": {},
   "outputs": [],
   "source": [
    "data_t = data_t['Adrenic Acid',]"
   ]
  },
  {
   "cell_type": "code",
   "execution_count": 28,
   "id": "11944dbc-2266-459c-97e8-1876101e0187",
   "metadata": {},
   "outputs": [
    {
     "data": {
      "text/html": [
       "<table class=\"dataframe\">\n",
       "<caption>A data.frame: 1 × 32</caption>\n",
       "<thead>\n",
       "\t<tr><th></th><th scope=col>KO.CLP1</th><th scope=col>KO.CLP2</th><th scope=col>KO.CLP3</th><th scope=col>KO.CLP4</th><th scope=col>KO.CLP5</th><th scope=col>KO.CLP6</th><th scope=col>KO.CLP7</th><th scope=col>KO.CLP8</th><th scope=col>KO.NC1</th><th scope=col>KO.NC2</th><th scope=col>⋯</th><th scope=col>WT.CLP7</th><th scope=col>WT.CLP8</th><th scope=col>WT.NC1</th><th scope=col>WT.NC2</th><th scope=col>WT.NC3</th><th scope=col>WT.NC4</th><th scope=col>WT.NC5</th><th scope=col>WT.NC6</th><th scope=col>WT.NC7</th><th scope=col>WT.NC8</th></tr>\n",
       "\t<tr><th></th><th scope=col>&lt;dbl&gt;</th><th scope=col>&lt;dbl&gt;</th><th scope=col>&lt;dbl&gt;</th><th scope=col>&lt;dbl&gt;</th><th scope=col>&lt;dbl&gt;</th><th scope=col>&lt;dbl&gt;</th><th scope=col>&lt;dbl&gt;</th><th scope=col>&lt;dbl&gt;</th><th scope=col>&lt;dbl&gt;</th><th scope=col>&lt;dbl&gt;</th><th scope=col>⋯</th><th scope=col>&lt;dbl&gt;</th><th scope=col>&lt;dbl&gt;</th><th scope=col>&lt;dbl&gt;</th><th scope=col>&lt;dbl&gt;</th><th scope=col>&lt;dbl&gt;</th><th scope=col>&lt;dbl&gt;</th><th scope=col>&lt;dbl&gt;</th><th scope=col>&lt;dbl&gt;</th><th scope=col>&lt;dbl&gt;</th><th scope=col>&lt;dbl&gt;</th></tr>\n",
       "</thead>\n",
       "<tbody>\n",
       "\t<tr><th scope=row>Adrenic Acid</th><td>21492.96</td><td>37074.22</td><td>31136.33</td><td>26490.2</td><td>42590.78</td><td>18898.78</td><td>27984.36</td><td>21294.64</td><td>9716.224</td><td>20680.1</td><td>⋯</td><td>37545.29</td><td>31127.43</td><td>0</td><td>11750.62</td><td>7426.261</td><td>0</td><td>23061.63</td><td>0</td><td>14938.64</td><td>0</td></tr>\n",
       "</tbody>\n",
       "</table>\n"
      ],
      "text/latex": [
       "A data.frame: 1 × 32\n",
       "\\begin{tabular}{r|lllllllllllllllllllll}\n",
       "  & KO.CLP1 & KO.CLP2 & KO.CLP3 & KO.CLP4 & KO.CLP5 & KO.CLP6 & KO.CLP7 & KO.CLP8 & KO.NC1 & KO.NC2 & ⋯ & WT.CLP7 & WT.CLP8 & WT.NC1 & WT.NC2 & WT.NC3 & WT.NC4 & WT.NC5 & WT.NC6 & WT.NC7 & WT.NC8\\\\\n",
       "  & <dbl> & <dbl> & <dbl> & <dbl> & <dbl> & <dbl> & <dbl> & <dbl> & <dbl> & <dbl> & ⋯ & <dbl> & <dbl> & <dbl> & <dbl> & <dbl> & <dbl> & <dbl> & <dbl> & <dbl> & <dbl>\\\\\n",
       "\\hline\n",
       "\tAdrenic Acid & 21492.96 & 37074.22 & 31136.33 & 26490.2 & 42590.78 & 18898.78 & 27984.36 & 21294.64 & 9716.224 & 20680.1 & ⋯ & 37545.29 & 31127.43 & 0 & 11750.62 & 7426.261 & 0 & 23061.63 & 0 & 14938.64 & 0\\\\\n",
       "\\end{tabular}\n"
      ],
      "text/markdown": [
       "\n",
       "A data.frame: 1 × 32\n",
       "\n",
       "| <!--/--> | KO.CLP1 &lt;dbl&gt; | KO.CLP2 &lt;dbl&gt; | KO.CLP3 &lt;dbl&gt; | KO.CLP4 &lt;dbl&gt; | KO.CLP5 &lt;dbl&gt; | KO.CLP6 &lt;dbl&gt; | KO.CLP7 &lt;dbl&gt; | KO.CLP8 &lt;dbl&gt; | KO.NC1 &lt;dbl&gt; | KO.NC2 &lt;dbl&gt; | ⋯ ⋯ | WT.CLP7 &lt;dbl&gt; | WT.CLP8 &lt;dbl&gt; | WT.NC1 &lt;dbl&gt; | WT.NC2 &lt;dbl&gt; | WT.NC3 &lt;dbl&gt; | WT.NC4 &lt;dbl&gt; | WT.NC5 &lt;dbl&gt; | WT.NC6 &lt;dbl&gt; | WT.NC7 &lt;dbl&gt; | WT.NC8 &lt;dbl&gt; |\n",
       "|---|---|---|---|---|---|---|---|---|---|---|---|---|---|---|---|---|---|---|---|---|---|\n",
       "| Adrenic Acid | 21492.96 | 37074.22 | 31136.33 | 26490.2 | 42590.78 | 18898.78 | 27984.36 | 21294.64 | 9716.224 | 20680.1 | ⋯ | 37545.29 | 31127.43 | 0 | 11750.62 | 7426.261 | 0 | 23061.63 | 0 | 14938.64 | 0 |\n",
       "\n"
      ],
      "text/plain": [
       "             KO.CLP1  KO.CLP2  KO.CLP3  KO.CLP4 KO.CLP5  KO.CLP6  KO.CLP7 \n",
       "Adrenic Acid 21492.96 37074.22 31136.33 26490.2 42590.78 18898.78 27984.36\n",
       "             KO.CLP8  KO.NC1   KO.NC2  ⋯ WT.CLP7  WT.CLP8  WT.NC1 WT.NC2  \n",
       "Adrenic Acid 21294.64 9716.224 20680.1 ⋯ 37545.29 31127.43 0      11750.62\n",
       "             WT.NC3   WT.NC4 WT.NC5   WT.NC6 WT.NC7   WT.NC8\n",
       "Adrenic Acid 7426.261 0      23061.63 0      14938.64 0     "
      ]
     },
     "metadata": {},
     "output_type": "display_data"
    }
   ],
   "source": [
    "head(data_t,2)"
   ]
  },
  {
   "cell_type": "code",
   "execution_count": 29,
   "id": "8a2b21f1-c5c6-4b6f-bc5c-ec8393b10381",
   "metadata": {},
   "outputs": [],
   "source": [
    "trt_id <- c('KO.CLP','KO.NC','WT.CLP','WT.NC') ## 定义样本的关键词，然后从样本名抓取处理的样本"
   ]
  },
  {
   "cell_type": "code",
   "execution_count": 30,
   "id": "e0612f0f-9cd5-435a-95fc-1e6cfcb4f713",
   "metadata": {},
   "outputs": [],
   "source": [
    "split_metainfo = list()\n",
    "for (i in trt_id){\n",
    "    split_metainfo[[i]] = dplyr::select(data_t,contains(i))\n",
    "}"
   ]
  },
  {
   "cell_type": "code",
   "execution_count": 31,
   "id": "f05b68f2-b1ed-4444-88e1-8e12ebc57fbe",
   "metadata": {
    "scrolled": true
   },
   "outputs": [
    {
     "name": "stderr",
     "output_type": "stream",
     "text": [
      "Warning message:\n",
      "“package ‘psych’ was built under R version 4.2.3”\n",
      "\n",
      "Attaching package: ‘psych’\n",
      "\n",
      "\n",
      "The following object is masked from ‘package:Hmisc’:\n",
      "\n",
      "    describe\n",
      "\n",
      "\n"
     ]
    },
    {
     "name": "stdout",
     "output_type": "stream",
     "text": [
      "[1] \"dir exists\"\n",
      "[1] \"dir exists\"\n",
      "[1] \"dir exists\"\n"
     ]
    }
   ],
   "source": [
    "merge_cor = list()\n",
    "otu = list()\n",
    "meta = list()\n",
    "p = list()\n",
    "r = list()\n",
    "\n",
    "for (i in c(1,2,3,4)){\n",
    "    otu[[i]] = split_otu1[[i]]\n",
    "    meta[[i]] = split_metainfo[[i]]\n",
    "    library(psych)\n",
    "    merge_cor[[i]]<- corr.test(as.data.frame(t(otu[[i]])), as.data.frame(t(meta[[i]])), method = 'spearman')\n",
    "    p[[i]] = merge_cor[[i]]$p\n",
    "    r[[i]] = merge_cor[[i]]$r\n",
    "    r[[i]][p[[i]]>0.05|abs(r[[i]])<0.2] = 0\n",
    "    r[[i]][is.na(r[[i]])]=0\n",
    "    p[[i]][is.na(p[[i]])]=0\n",
    "    outdir = paste0(getwd(),'/6.otu-metabolite-luming-adrenic')\n",
    "    if(dir.exists(outdir)){\n",
    "      print(\"dir exists\")\n",
    "    }else{\n",
    "      dir.create(outdir)\n",
    "    }\n",
    "    write.csv(as.data.frame(t(r[[i]])),file = paste0(outdir,'/',trt_id[i],'.cor.r.csv'))\n",
    "    write.csv(as.data.frame(t(p[[i]])),file = paste0(outdir,'/',trt_id[i],'.cor.p.csv'))\n",
    "}"
   ]
  },
  {
   "cell_type": "code",
   "execution_count": null,
   "id": "0abfd34d-7eeb-4f47-bd82-9921dcc5efce",
   "metadata": {},
   "outputs": [],
   "source": []
  }
 ],
 "metadata": {
  "kernelspec": {
   "display_name": "R",
   "language": "R",
   "name": "ir"
  },
  "language_info": {
   "codemirror_mode": "r",
   "file_extension": ".r",
   "mimetype": "text/x-r-source",
   "name": "R",
   "pygments_lexer": "r",
   "version": "4.2.1"
  }
 },
 "nbformat": 4,
 "nbformat_minor": 5
}
