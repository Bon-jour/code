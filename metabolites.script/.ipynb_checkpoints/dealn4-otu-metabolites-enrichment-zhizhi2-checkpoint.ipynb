{
 "cells": [
  {
   "cell_type": "code",
   "execution_count": 1,
   "id": "4b97fcfe-1949-4a6a-8054-5d539b11c1a0",
   "metadata": {},
   "outputs": [],
   "source": [
    "alldata = list.files(path = \"./6.otu-metabolite-luming-zhizhi2/\",pattern = \".cor.r.csv$\")"
   ]
  },
  {
   "cell_type": "code",
   "execution_count": 2,
   "id": "39531a0f-d2aa-452b-9943-ac99be4ca03d",
   "metadata": {},
   "outputs": [],
   "source": [
    "kvalue = read.csv('./cnumber.csv')\n",
    "mmu_kegg_compound <- read.csv('./KEGG_COMPOUND_PATHWAY_mmu.csv')"
   ]
  },
  {
   "cell_type": "code",
   "execution_count": 4,
   "id": "c68ffed6-1552-455f-9884-2d8ecde73cf1",
   "metadata": {},
   "outputs": [
    {
     "name": "stderr",
     "output_type": "stream",
     "text": [
      "\n",
      "\n",
      "Registered S3 methods overwritten by 'treeio':\n",
      "  method              from    \n",
      "  MRCA.phylo          tidytree\n",
      "  MRCA.treedata       tidytree\n",
      "  Nnode.treedata      tidytree\n",
      "  Ntip.treedata       tidytree\n",
      "  ancestor.phylo      tidytree\n",
      "  ancestor.treedata   tidytree\n",
      "  child.phylo         tidytree\n",
      "  child.treedata      tidytree\n",
      "  full_join.phylo     tidytree\n",
      "  full_join.treedata  tidytree\n",
      "  groupClade.phylo    tidytree\n",
      "  groupClade.treedata tidytree\n",
      "  groupOTU.phylo      tidytree\n",
      "  groupOTU.treedata   tidytree\n",
      "  is.rooted.treedata  tidytree\n",
      "  nodeid.phylo        tidytree\n",
      "  nodeid.treedata     tidytree\n",
      "  nodelab.phylo       tidytree\n",
      "  nodelab.treedata    tidytree\n",
      "  offspring.phylo     tidytree\n",
      "  offspring.treedata  tidytree\n",
      "  parent.phylo        tidytree\n",
      "  parent.treedata     tidytree\n",
      "  root.treedata       tidytree\n",
      "  rootnode.phylo      tidytree\n",
      "  sibling.phylo       tidytree\n",
      "\n",
      "clusterProfiler v4.6.2  For help: https://yulab-smu.top/biomedical-knowledge-mining-book/\n",
      "\n",
      "If you use clusterProfiler in published research, please cite:\n",
      "T Wu, E Hu, S Xu, M Chen, P Guo, Z Dai, T Feng, L Zhou, W Tang, L Zhan, X Fu, S Liu, X Bo, and G Yu. clusterProfiler 4.0: A universal enrichment tool for interpreting omics data. The Innovation. 2021, 2(3):100141\n",
      "\n",
      "\n",
      "Attaching package: ‘clusterProfiler’\n",
      "\n",
      "\n",
      "The following object is masked from ‘package:stats’:\n",
      "\n",
      "    filter\n",
      "\n",
      "\n"
     ]
    }
   ],
   "source": [
    "library(clusterProfiler)"
   ]
  },
  {
   "cell_type": "code",
   "execution_count": 9,
   "id": "fd710723-e60e-44db-a25d-f795741e714d",
   "metadata": {},
   "outputs": [
    {
     "data": {
      "text/html": [
       "<style>\n",
       ".list-inline {list-style: none; margin:0; padding: 0}\n",
       ".list-inline>li {display: inline-block}\n",
       ".list-inline>li:not(:last-child)::after {content: \"\\00b7\"; padding: 0 .5ex}\n",
       "</style>\n",
       "<ol class=list-inline><li>'KO.CLP.cor.r.csv'</li><li>'KO.NC.cor.r.csv'</li><li>'WT.CLP.cor.r.csv'</li><li>'WT.NC.cor.r.csv'</li></ol>\n"
      ],
      "text/latex": [
       "\\begin{enumerate*}\n",
       "\\item 'KO.CLP.cor.r.csv'\n",
       "\\item 'KO.NC.cor.r.csv'\n",
       "\\item 'WT.CLP.cor.r.csv'\n",
       "\\item 'WT.NC.cor.r.csv'\n",
       "\\end{enumerate*}\n"
      ],
      "text/markdown": [
       "1. 'KO.CLP.cor.r.csv'\n",
       "2. 'KO.NC.cor.r.csv'\n",
       "3. 'WT.CLP.cor.r.csv'\n",
       "4. 'WT.NC.cor.r.csv'\n",
       "\n",
       "\n"
      ],
      "text/plain": [
       "[1] \"KO.CLP.cor.r.csv\" \"KO.NC.cor.r.csv\"  \"WT.CLP.cor.r.csv\" \"WT.NC.cor.r.csv\" "
      ]
     },
     "metadata": {},
     "output_type": "display_data"
    }
   ],
   "source": [
    "alldata"
   ]
  },
  {
   "cell_type": "code",
   "execution_count": 26,
   "id": "cc3ab7a3-9b76-4241-87b6-93fb5f5e969a",
   "metadata": {
    "scrolled": true
   },
   "outputs": [
    {
     "name": "stdout",
     "output_type": "stream",
     "text": [
      "[1] \"dir exists\"\n"
     ]
    },
    {
     "name": "stderr",
     "output_type": "stream",
     "text": [
      "\u001b[1m\u001b[22mSaving 6.67 x 6.67 in image\n",
      "\u001b[1m\u001b[22mSaving 6.67 x 6.67 in image\n",
      "\u001b[1m\u001b[22mSaving 6.67 x 6.67 in image\n",
      "\u001b[1m\u001b[22mSaving 6.67 x 6.67 in image\n",
      "\u001b[1m\u001b[22mSaving 6.67 x 6.67 in image\n",
      "\u001b[1m\u001b[22mSaving 6.67 x 6.67 in image\n",
      "\u001b[1m\u001b[22mSaving 6.67 x 6.67 in image\n",
      "\u001b[1m\u001b[22mSaving 6.67 x 6.67 in image\n",
      "\u001b[1m\u001b[22mSaving 6.67 x 6.67 in image\n",
      "\u001b[1m\u001b[22mSaving 6.67 x 6.67 in image\n"
     ]
    },
    {
     "name": "stdout",
     "output_type": "stream",
     "text": [
      "[1] \"dir exists\"\n"
     ]
    },
    {
     "name": "stderr",
     "output_type": "stream",
     "text": [
      "\u001b[1m\u001b[22mSaving 6.67 x 6.67 in image\n",
      "\u001b[1m\u001b[22mSaving 6.67 x 6.67 in image\n",
      "\u001b[1m\u001b[22mSaving 6.67 x 6.67 in image\n",
      "\u001b[1m\u001b[22mSaving 6.67 x 6.67 in image\n",
      "\u001b[1m\u001b[22mSaving 6.67 x 6.67 in image\n",
      "\u001b[1m\u001b[22mSaving 6.67 x 6.67 in image\n",
      "\u001b[1m\u001b[22mSaving 6.67 x 6.67 in image\n",
      "\u001b[1m\u001b[22mSaving 6.67 x 6.67 in image\n",
      "\u001b[1m\u001b[22mSaving 6.67 x 6.67 in image\n",
      "\u001b[1m\u001b[22mSaving 6.67 x 6.67 in image\n"
     ]
    },
    {
     "name": "stdout",
     "output_type": "stream",
     "text": [
      "[1] \"dir exists\"\n"
     ]
    },
    {
     "name": "stderr",
     "output_type": "stream",
     "text": [
      "\u001b[1m\u001b[22mSaving 6.67 x 6.67 in image\n",
      "\u001b[1m\u001b[22mSaving 6.67 x 6.67 in image\n",
      "\u001b[1m\u001b[22mSaving 6.67 x 6.67 in image\n",
      "\u001b[1m\u001b[22mSaving 6.67 x 6.67 in image\n",
      "\u001b[1m\u001b[22mSaving 6.67 x 6.67 in image\n",
      "\u001b[1m\u001b[22mSaving 6.67 x 6.67 in image\n",
      "\u001b[1m\u001b[22mSaving 6.67 x 6.67 in image\n",
      "\u001b[1m\u001b[22mSaving 6.67 x 6.67 in image\n",
      "\u001b[1m\u001b[22mSaving 6.67 x 6.67 in image\n",
      "\u001b[1m\u001b[22mSaving 6.67 x 6.67 in image\n"
     ]
    },
    {
     "name": "stdout",
     "output_type": "stream",
     "text": [
      "[1] \"dir exists\"\n"
     ]
    },
    {
     "name": "stderr",
     "output_type": "stream",
     "text": [
      "\u001b[1m\u001b[22mSaving 6.67 x 6.67 in image\n",
      "\u001b[1m\u001b[22mSaving 6.67 x 6.67 in image\n",
      "\u001b[1m\u001b[22mSaving 6.67 x 6.67 in image\n",
      "\u001b[1m\u001b[22mSaving 6.67 x 6.67 in image\n",
      "\u001b[1m\u001b[22mSaving 6.67 x 6.67 in image\n",
      "\u001b[1m\u001b[22mSaving 6.67 x 6.67 in image\n",
      "\u001b[1m\u001b[22mSaving 6.67 x 6.67 in image\n",
      "\u001b[1m\u001b[22mSaving 6.67 x 6.67 in image\n",
      "\u001b[1m\u001b[22mSaving 6.67 x 6.67 in image\n",
      "\u001b[1m\u001b[22mSaving 6.67 x 6.67 in image\n"
     ]
    }
   ],
   "source": [
    "for (file in alldata){\n",
    "    outdir = paste0(getwd(),'/8.metabolites.connect.enrichment.zhizhi2/',substr(file,1,6))\n",
    "    if(dir.exists(outdir)){\n",
    "      print(\"dir exists\")\n",
    "    }else{\n",
    "      dir.create(outdir)\n",
    "    }\n",
    "\n",
    "    data = read.csv(paste0('./6.otu-metabolite-luming-zhizhi2/',file))\n",
    "    colnames(data)[1] = 'Metabolites'\n",
    "    df = dplyr::left_join(kvalue,data,by = 'Metabolites')\n",
    "    df= df[,-1]\n",
    "    koclp_t = df\n",
    "    each = list()\n",
    "    final = list()\n",
    "    for (i in c(2:length(colnames(koclp_t)))){\n",
    "        \n",
    "        each[[i]] = koclp_t[,c(1,i)]\n",
    "        \n",
    "        library(dplyr)\n",
    "        each[[i]]  %>% filter_at(vars(c(2)),all_vars(. !=0)) %>% .$kegg -> final[[i]]\n",
    "        \n",
    "    }\n",
    "    disease2gene=mmu_kegg_compound[, c(\"Pathway\", \"COMPOUND\")]\n",
    "    disease2name=mmu_kegg_compound[, c(\"Pathway\", \"PATHWAY_MAP\")]\n",
    "    \n",
    "    x = list()\n",
    "    p = list()\n",
    "    for (i in c(2:length(each))){\n",
    "          x[[i]] = enricher(final[[i]], TERM2GENE=disease2gene, TERM2NAME=disease2name)\n",
    "         write.csv(x[[i]]@result,file = paste0(outdir,'/',colnames(df)[i],'.enrichment.csv'))\n",
    "        # tryCatch({\n",
    "        #     p[[i]] = dotplot(x[[i]])\n",
    "        #     ggsave(p[[i]],file = paste0(outdir,'/',colnames(df)[i],'.pdf'))\n",
    "        #     }, error = function(e) {\n",
    "        #     print('chucuop')\n",
    "        #     },finally = {\n",
    "        #     next\n",
    "        #     })\n",
    "    library(ggplot2)\n",
    "\n",
    "        tryCatch({\n",
    "        p[[i]] = dotplot(x[[i]])\n",
    "        ggsave(p[[i]],file = paste0(outdir,'/',colnames(df)[i],'.pdf'))\n",
    "        }, error = function(e) {\n",
    "        print('chucuop')\n",
    "        },finally = {\n",
    "        next})\n",
    "    }\n",
    "\n",
    "    \n",
    "    \n",
    "    \n",
    "}"
   ]
  },
  {
   "cell_type": "code",
   "execution_count": null,
   "id": "7cebded5-c5d0-4afa-b37e-3156c7e812c1",
   "metadata": {},
   "outputs": [],
   "source": []
  },
  {
   "cell_type": "code",
   "execution_count": null,
   "id": "7c70bd35-134b-41d7-b769-c4c22589a686",
   "metadata": {},
   "outputs": [],
   "source": []
  },
  {
   "cell_type": "code",
   "execution_count": null,
   "id": "8d5c97d7-786c-400c-9a00-3a0968db12d8",
   "metadata": {},
   "outputs": [],
   "source": []
  },
  {
   "cell_type": "code",
   "execution_count": null,
   "id": "f4c3b6a6-f67a-48be-b661-2b99a059d33c",
   "metadata": {},
   "outputs": [],
   "source": []
  },
  {
   "cell_type": "code",
   "execution_count": null,
   "id": "a6619357-f30d-4775-9b47-acad33e88598",
   "metadata": {},
   "outputs": [],
   "source": []
  },
  {
   "cell_type": "code",
   "execution_count": null,
   "id": "e7582522-8677-4702-b8d5-78ae75c6cf08",
   "metadata": {},
   "outputs": [],
   "source": []
  },
  {
   "cell_type": "code",
   "execution_count": null,
   "id": "495e736a-c88f-4ec5-9b9e-c1ab688f4113",
   "metadata": {},
   "outputs": [],
   "source": []
  },
  {
   "cell_type": "code",
   "execution_count": null,
   "id": "b67f0076-282a-4359-b690-316754c97e39",
   "metadata": {},
   "outputs": [],
   "source": []
  },
  {
   "cell_type": "code",
   "execution_count": null,
   "id": "29de9077-8793-4c4d-aa89-a010c59ff28e",
   "metadata": {},
   "outputs": [],
   "source": []
  },
  {
   "cell_type": "code",
   "execution_count": 1,
   "id": "eb6f2561-d6a4-48cf-b5fb-713d989f58d0",
   "metadata": {},
   "outputs": [],
   "source": [
    "data = read.csv('./6.otu-metabolite-luming/KO.CLP.cor.r.csv')"
   ]
  },
  {
   "cell_type": "code",
   "execution_count": 5,
   "id": "a148ce68-dd47-4ce9-b29d-36ac41d7fab1",
   "metadata": {},
   "outputs": [],
   "source": [
    "colnames(data)[1] = 'Metabolites'"
   ]
  },
  {
   "cell_type": "code",
   "execution_count": 3,
   "id": "1a677a24-fce8-4061-b8cc-df674ed3bdc2",
   "metadata": {},
   "outputs": [],
   "source": [
    "kvalue = read.csv('./cnumber.csv')"
   ]
  },
  {
   "cell_type": "code",
   "execution_count": 17,
   "id": "46553c02-2209-498e-938f-905773efa71e",
   "metadata": {},
   "outputs": [],
   "source": [
    "df = dplyr::left_join(kvalue,data,by = 'Metabolites')"
   ]
  },
  {
   "cell_type": "code",
   "execution_count": 18,
   "id": "e7b79065-9373-49ec-8412-7306492b7800",
   "metadata": {},
   "outputs": [
    {
     "data": {
      "text/html": [
       "<table class=\"dataframe\">\n",
       "<caption>A data.frame: 1 × 12</caption>\n",
       "<thead>\n",
       "\t<tr><th></th><th scope=col>Metabolites</th><th scope=col>kegg</th><th scope=col>g__Akkermansia_s__Akkermansia_muciniphila</th><th scope=col>g__Bacteroides_s__Bacteroides_caecimuris</th><th scope=col>g__Helicobacter_s__Helicobacter_hepaticus</th><th scope=col>g__Acutalibacter_s__Acutalibacter_muris</th><th scope=col>g__Lachnoclostridium_s__Lachnoclostridium_sp..YL32</th><th scope=col>g__Muribaculum_s__Muribaculum_sp..TLL.A4</th><th scope=col>g__Muribaculum_s__Muribaculum_sp..H5</th><th scope=col>g__Muribaculum_s__Muribaculum_intestinale</th><th scope=col>g__Duncaniella_s__Duncaniella_sp..B8</th><th scope=col>g__Lactobacillus_s__Lactobacillus_murinus</th></tr>\n",
       "\t<tr><th></th><th scope=col>&lt;chr&gt;</th><th scope=col>&lt;chr&gt;</th><th scope=col>&lt;dbl&gt;</th><th scope=col>&lt;dbl&gt;</th><th scope=col>&lt;dbl&gt;</th><th scope=col>&lt;dbl&gt;</th><th scope=col>&lt;dbl&gt;</th><th scope=col>&lt;dbl&gt;</th><th scope=col>&lt;dbl&gt;</th><th scope=col>&lt;dbl&gt;</th><th scope=col>&lt;dbl&gt;</th><th scope=col>&lt;dbl&gt;</th></tr>\n",
       "</thead>\n",
       "<tbody>\n",
       "\t<tr><th scope=row>1</th><td>4-Aminohippuric acid</td><td>D06890 </td><td>0</td><td>0</td><td>0</td><td>0</td><td>0</td><td>0</td><td>0</td><td>0</td><td>0</td><td>0</td></tr>\n",
       "</tbody>\n",
       "</table>\n"
      ],
      "text/latex": [
       "A data.frame: 1 × 12\n",
       "\\begin{tabular}{r|llllllllllll}\n",
       "  & Metabolites & kegg & g\\_\\_Akkermansia\\_s\\_\\_Akkermansia\\_muciniphila & g\\_\\_Bacteroides\\_s\\_\\_Bacteroides\\_caecimuris & g\\_\\_Helicobacter\\_s\\_\\_Helicobacter\\_hepaticus & g\\_\\_Acutalibacter\\_s\\_\\_Acutalibacter\\_muris & g\\_\\_Lachnoclostridium\\_s\\_\\_Lachnoclostridium\\_sp..YL32 & g\\_\\_Muribaculum\\_s\\_\\_Muribaculum\\_sp..TLL.A4 & g\\_\\_Muribaculum\\_s\\_\\_Muribaculum\\_sp..H5 & g\\_\\_Muribaculum\\_s\\_\\_Muribaculum\\_intestinale & g\\_\\_Duncaniella\\_s\\_\\_Duncaniella\\_sp..B8 & g\\_\\_Lactobacillus\\_s\\_\\_Lactobacillus\\_murinus\\\\\n",
       "  & <chr> & <chr> & <dbl> & <dbl> & <dbl> & <dbl> & <dbl> & <dbl> & <dbl> & <dbl> & <dbl> & <dbl>\\\\\n",
       "\\hline\n",
       "\t1 & 4-Aminohippuric acid & D06890  & 0 & 0 & 0 & 0 & 0 & 0 & 0 & 0 & 0 & 0\\\\\n",
       "\\end{tabular}\n"
      ],
      "text/markdown": [
       "\n",
       "A data.frame: 1 × 12\n",
       "\n",
       "| <!--/--> | Metabolites &lt;chr&gt; | kegg &lt;chr&gt; | g__Akkermansia_s__Akkermansia_muciniphila &lt;dbl&gt; | g__Bacteroides_s__Bacteroides_caecimuris &lt;dbl&gt; | g__Helicobacter_s__Helicobacter_hepaticus &lt;dbl&gt; | g__Acutalibacter_s__Acutalibacter_muris &lt;dbl&gt; | g__Lachnoclostridium_s__Lachnoclostridium_sp..YL32 &lt;dbl&gt; | g__Muribaculum_s__Muribaculum_sp..TLL.A4 &lt;dbl&gt; | g__Muribaculum_s__Muribaculum_sp..H5 &lt;dbl&gt; | g__Muribaculum_s__Muribaculum_intestinale &lt;dbl&gt; | g__Duncaniella_s__Duncaniella_sp..B8 &lt;dbl&gt; | g__Lactobacillus_s__Lactobacillus_murinus &lt;dbl&gt; |\n",
       "|---|---|---|---|---|---|---|---|---|---|---|---|---|\n",
       "| 1 | 4-Aminohippuric acid | D06890  | 0 | 0 | 0 | 0 | 0 | 0 | 0 | 0 | 0 | 0 |\n",
       "\n"
      ],
      "text/plain": [
       "  Metabolites          kegg    g__Akkermansia_s__Akkermansia_muciniphila\n",
       "1 4-Aminohippuric acid D06890  0                                        \n",
       "  g__Bacteroides_s__Bacteroides_caecimuris\n",
       "1 0                                       \n",
       "  g__Helicobacter_s__Helicobacter_hepaticus\n",
       "1 0                                        \n",
       "  g__Acutalibacter_s__Acutalibacter_muris\n",
       "1 0                                      \n",
       "  g__Lachnoclostridium_s__Lachnoclostridium_sp..YL32\n",
       "1 0                                                 \n",
       "  g__Muribaculum_s__Muribaculum_sp..TLL.A4 g__Muribaculum_s__Muribaculum_sp..H5\n",
       "1 0                                        0                                   \n",
       "  g__Muribaculum_s__Muribaculum_intestinale\n",
       "1 0                                        \n",
       "  g__Duncaniella_s__Duncaniella_sp..B8\n",
       "1 0                                   \n",
       "  g__Lactobacillus_s__Lactobacillus_murinus\n",
       "1 0                                        "
      ]
     },
     "metadata": {},
     "output_type": "display_data"
    }
   ],
   "source": [
    "head(df,1)"
   ]
  },
  {
   "cell_type": "code",
   "execution_count": 35,
   "id": "8c1d2100-ee2b-4587-ba12-f89db175788d",
   "metadata": {},
   "outputs": [
    {
     "data": {
      "text/html": [
       "<style>\n",
       ".list-inline {list-style: none; margin:0; padding: 0}\n",
       ".list-inline>li {display: inline-block}\n",
       ".list-inline>li:not(:last-child)::after {content: \"\\00b7\"; padding: 0 .5ex}\n",
       "</style>\n",
       "<ol class=list-inline><li>964</li><li>11</li></ol>\n"
      ],
      "text/latex": [
       "\\begin{enumerate*}\n",
       "\\item 964\n",
       "\\item 11\n",
       "\\end{enumerate*}\n"
      ],
      "text/markdown": [
       "1. 964\n",
       "2. 11\n",
       "\n",
       "\n"
      ],
      "text/plain": [
       "[1] 964  11"
      ]
     },
     "metadata": {},
     "output_type": "display_data"
    }
   ],
   "source": [
    "dim(df)"
   ]
  },
  {
   "cell_type": "code",
   "execution_count": 21,
   "id": "d93a395b-2cd8-4aa2-8201-0e865e42b36e",
   "metadata": {},
   "outputs": [],
   "source": [
    "df= df[,-1]"
   ]
  },
  {
   "cell_type": "code",
   "execution_count": 23,
   "id": "a1afe4dc-98c5-4544-b7b6-1f8d942cefd8",
   "metadata": {},
   "outputs": [],
   "source": [
    "koclp_t = df"
   ]
  },
  {
   "cell_type": "code",
   "execution_count": 48,
   "id": "46ebb5f7-6674-495d-b16e-2392e47c8134",
   "metadata": {},
   "outputs": [],
   "source": [
    "each = list()\n",
    "final = list()\n",
    "for (i in c(2:length(colnames(koclp_t)))){\n",
    "    \n",
    "    each[[i]] = koclp_t[,c(1,i)]\n",
    "    \n",
    "    library(dplyr)\n",
    "    each[[i]]  %>% filter_at(vars(c(2)),all_vars(. !=0)) %>% .$kegg -> final[[i]]\n",
    "    \n",
    "}"
   ]
  },
  {
   "cell_type": "code",
   "execution_count": 52,
   "id": "66b9f729-dc33-4268-bcc9-742100434e2c",
   "metadata": {},
   "outputs": [],
   "source": [
    "mmu_kegg_compound <- read.csv('./KEGG_COMPOUND_PATHWAY_mmu.csv')"
   ]
  },
  {
   "cell_type": "code",
   "execution_count": 53,
   "id": "b49b2456-c6cd-43e8-a866-24194e5f6590",
   "metadata": {},
   "outputs": [],
   "source": [
    "disease2gene=mmu_kegg_compound[, c(\"Pathway\", \"COMPOUND\")]"
   ]
  },
  {
   "cell_type": "code",
   "execution_count": 54,
   "id": "88368b23-d32e-48a3-b9be-6197b0ac02f6",
   "metadata": {},
   "outputs": [],
   "source": [
    "disease2name=mmu_kegg_compound[, c(\"Pathway\", \"PATHWAY_MAP\")]"
   ]
  },
  {
   "cell_type": "code",
   "execution_count": 111,
   "id": "daf4e67c-c950-4690-a77b-b6d36b3ba92c",
   "metadata": {},
   "outputs": [
    {
     "name": "stdout",
     "output_type": "stream",
     "text": [
      "[1] \"dir exists\"\n",
      "[1] \"dir exists\"\n",
      "[1] \"dir exists\"\n",
      "[1] \"dir exists\"\n",
      "[1] \"dir exists\"\n",
      "[1] \"dir exists\"\n",
      "[1] \"dir exists\"\n",
      "[1] \"dir exists\"\n",
      "[1] \"dir exists\"\n",
      "[1] \"dir exists\"\n"
     ]
    }
   ],
   "source": [
    "x = list()\n",
    "p = list()\n",
    "for (i in c(2:length(each))){\n",
    "\n",
    "  outdir = paste0(getwd(),'/8.metabolites.connect.enrichment')\n",
    "    if(dir.exists(outdir)){\n",
    "      print(\"dir exists\")\n",
    "    }else{\n",
    "      dir.create(outdir)\n",
    "    }\n",
    "      x[[i]] = enricher(final[[i]], TERM2GENE=disease2gene, TERM2NAME=disease2name)\n",
    "     write.csv(x[[i]]@result,file = paste0(outdir,'/',colnames(df)[i],'.enrichment.csv'))\n",
    " # tryCatch({\n",
    " #    p[[i]] = dotplot(x[[i]])\n",
    "     \n",
    " #     },finally = {\n",
    " #     ggsave(p[[i]],file = paste0(outdir,'/',colnames(df)[i],'.pdf'))\n",
    " #     })\n",
    "    \n",
    "}"
   ]
  },
  {
   "cell_type": "code",
   "execution_count": 115,
   "id": "7dcf44a3-bdd4-4820-bd28-ccc8c06bc923",
   "metadata": {},
   "outputs": [
    {
     "name": "stdout",
     "output_type": "stream",
     "text": [
      "[1] \"dir exists\"\n"
     ]
    },
    {
     "name": "stderr",
     "output_type": "stream",
     "text": [
      "\u001b[1m\u001b[22mSaving 6.67 x 6.67 in image\n",
      "Warning message in rep(yes, length.out = len):\n",
      "“'x' is NULL so the result will be NULL”\n"
     ]
    },
    {
     "name": "stdout",
     "output_type": "stream",
     "text": [
      "[1] \"chucuop\"\n"
     ]
    },
    {
     "name": "stderr",
     "output_type": "stream",
     "text": [
      "\u001b[1m\u001b[22mSaving 6.67 x 6.67 in image\n",
      "Warning message in rep(yes, length.out = len):\n",
      "“'x' is NULL so the result will be NULL”\n"
     ]
    },
    {
     "name": "stdout",
     "output_type": "stream",
     "text": [
      "[1] \"chucuop\"\n"
     ]
    },
    {
     "name": "stderr",
     "output_type": "stream",
     "text": [
      "\u001b[1m\u001b[22mSaving 6.67 x 6.67 in image\n",
      "\u001b[1m\u001b[22mSaving 6.67 x 6.67 in image\n",
      "Warning message in rep(yes, length.out = len):\n",
      "“'x' is NULL so the result will be NULL”\n"
     ]
    },
    {
     "name": "stdout",
     "output_type": "stream",
     "text": [
      "[1] \"chucuop\"\n"
     ]
    },
    {
     "name": "stderr",
     "output_type": "stream",
     "text": [
      "\u001b[1m\u001b[22mSaving 6.67 x 6.67 in image\n",
      "\u001b[1m\u001b[22mSaving 6.67 x 6.67 in image\n",
      "\u001b[1m\u001b[22mSaving 6.67 x 6.67 in image\n",
      "\u001b[1m\u001b[22mSaving 6.67 x 6.67 in image\n",
      "Warning message in rep(yes, length.out = len):\n",
      "“'x' is NULL so the result will be NULL”\n"
     ]
    },
    {
     "name": "stdout",
     "output_type": "stream",
     "text": [
      "[1] \"chucuop\"\n"
     ]
    },
    {
     "name": "stderr",
     "output_type": "stream",
     "text": [
      "\u001b[1m\u001b[22mSaving 6.67 x 6.67 in image\n",
      "\u001b[1m\u001b[22mSaving 6.67 x 6.67 in image\n"
     ]
    }
   ],
   "source": [
    "x = list()\n",
    "p = list()\n",
    "  outdir = paste0(getwd(),'/8.metabolites.connect.enrichment')\n",
    "    if(dir.exists(outdir)){\n",
    "      print(\"dir exists\")\n",
    "    }else{\n",
    "      dir.create(outdir)\n",
    "    }\n",
    "\n",
    "for (i in c(2:length(each))){\n",
    "      x[[i]] = enricher(final[[i]], TERM2GENE=disease2gene, TERM2NAME=disease2name)\n",
    "     write.csv(x[[i]]@result,file = paste0(outdir,'/',colnames(df)[i],'.enrichment.csv'))\n",
    "    tryCatch({\n",
    "        p[[i]] = dotplot(x[[i]])\n",
    "        ggsave(p[[i]],file = paste0(outdir,'/',colnames(df)[i],'.pdf'))\n",
    "        }, error = function(e) {\n",
    "        print('chucuop')\n",
    "        },finally = {\n",
    "        next\n",
    "\n",
    "        })\n",
    "}"
   ]
  },
  {
   "cell_type": "code",
   "execution_count": null,
   "id": "4309ba7e-38ca-4507-b553-18c030744799",
   "metadata": {},
   "outputs": [],
   "source": []
  }
 ],
 "metadata": {
  "kernelspec": {
   "display_name": "R",
   "language": "R",
   "name": "ir"
  },
  "language_info": {
   "codemirror_mode": "r",
   "file_extension": ".r",
   "mimetype": "text/x-r-source",
   "name": "R",
   "pygments_lexer": "r",
   "version": "4.2.1"
  }
 },
 "nbformat": 4,
 "nbformat_minor": 5
}
