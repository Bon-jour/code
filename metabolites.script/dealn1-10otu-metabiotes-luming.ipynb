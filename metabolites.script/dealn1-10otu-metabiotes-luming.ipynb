{
 "cells": [
  {
   "cell_type": "code",
   "execution_count": 56,
   "id": "02529532-4282-4e67-bdab-d0a59366433e",
   "metadata": {
    "scrolled": true
   },
   "outputs": [],
   "source": [
    "library(igraph)\n",
    "library(dplyr)\n",
    "library(Hmisc)"
   ]
  },
  {
   "cell_type": "code",
   "execution_count": 2,
   "id": "8cbbe3ad-0cce-411f-a73d-cefe7a45d0f5",
   "metadata": {},
   "outputs": [],
   "source": [
    "species.df = read.csv('./4.cor/rename.species.expr.csv',row.names = 1)"
   ]
  },
  {
   "cell_type": "code",
   "execution_count": 49,
   "id": "cfe40371-b799-43be-a1af-c1c9becc1eca",
   "metadata": {},
   "outputs": [
    {
     "data": {
      "text/html": [
       "<style>\n",
       ".list-inline {list-style: none; margin:0; padding: 0}\n",
       ".list-inline>li {display: inline-block}\n",
       ".list-inline>li:not(:last-child)::after {content: \"\\00b7\"; padding: 0 .5ex}\n",
       "</style>\n",
       "<ol class=list-inline><li>5868</li><li>32</li></ol>\n"
      ],
      "text/latex": [
       "\\begin{enumerate*}\n",
       "\\item 5868\n",
       "\\item 32\n",
       "\\end{enumerate*}\n"
      ],
      "text/markdown": [
       "1. 5868\n",
       "2. 32\n",
       "\n",
       "\n"
      ],
      "text/plain": [
       "[1] 5868   32"
      ]
     },
     "metadata": {},
     "output_type": "display_data"
    }
   ],
   "source": [
    "dim(species.df)"
   ]
  },
  {
   "cell_type": "code",
   "execution_count": 50,
   "id": "31ac5464-377c-45a3-a49f-599553d36a37",
   "metadata": {},
   "outputs": [
    {
     "data": {
      "text/html": [
       "<table class=\"dataframe\">\n",
       "<caption>A data.frame: 2 × 32</caption>\n",
       "<thead>\n",
       "\t<tr><th></th><th scope=col>KO.CLP1</th><th scope=col>KO.CLP2</th><th scope=col>KO.CLP3</th><th scope=col>KO.CLP4</th><th scope=col>KO.CLP5</th><th scope=col>KO.CLP6</th><th scope=col>KO.CLP7</th><th scope=col>KO.CLP8</th><th scope=col>KO.NC1</th><th scope=col>KO.NC2</th><th scope=col>⋯</th><th scope=col>WT.CLP7</th><th scope=col>WT.CLP8</th><th scope=col>WT.NC1</th><th scope=col>WT.NC2</th><th scope=col>WT.NC3</th><th scope=col>WT.NC4</th><th scope=col>WT.NC5</th><th scope=col>WT.NC6</th><th scope=col>WT.NC7</th><th scope=col>WT.NC8</th></tr>\n",
       "\t<tr><th></th><th scope=col>&lt;int&gt;</th><th scope=col>&lt;int&gt;</th><th scope=col>&lt;int&gt;</th><th scope=col>&lt;int&gt;</th><th scope=col>&lt;int&gt;</th><th scope=col>&lt;int&gt;</th><th scope=col>&lt;int&gt;</th><th scope=col>&lt;int&gt;</th><th scope=col>&lt;int&gt;</th><th scope=col>&lt;int&gt;</th><th scope=col>⋯</th><th scope=col>&lt;int&gt;</th><th scope=col>&lt;int&gt;</th><th scope=col>&lt;int&gt;</th><th scope=col>&lt;int&gt;</th><th scope=col>&lt;int&gt;</th><th scope=col>&lt;int&gt;</th><th scope=col>&lt;int&gt;</th><th scope=col>&lt;int&gt;</th><th scope=col>&lt;int&gt;</th><th scope=col>&lt;int&gt;</th></tr>\n",
       "</thead>\n",
       "<tbody>\n",
       "\t<tr><th scope=row>g__Absiella_s__Absiella_argi</th><td>159</td><td>54</td><td>123</td><td>73</td><td>82</td><td>79</td><td>109</td><td>103</td><td>253</td><td>155</td><td>⋯</td><td>193</td><td>208</td><td>217</td><td>381</td><td>218</td><td>370</td><td>591</td><td>211</td><td>192</td><td>188</td></tr>\n",
       "\t<tr><th scope=row>g__Absiella_s__Absiella_sp. 9CBEGH2</th><td> 20</td><td>82</td><td> 49</td><td>25</td><td>73</td><td>34</td><td> 42</td><td> 18</td><td> 44</td><td> 32</td><td>⋯</td><td>139</td><td>135</td><td>123</td><td> 75</td><td> 64</td><td> 62</td><td> 94</td><td> 77</td><td> 57</td><td>101</td></tr>\n",
       "</tbody>\n",
       "</table>\n"
      ],
      "text/latex": [
       "A data.frame: 2 × 32\n",
       "\\begin{tabular}{r|lllllllllllllllllllll}\n",
       "  & KO.CLP1 & KO.CLP2 & KO.CLP3 & KO.CLP4 & KO.CLP5 & KO.CLP6 & KO.CLP7 & KO.CLP8 & KO.NC1 & KO.NC2 & ⋯ & WT.CLP7 & WT.CLP8 & WT.NC1 & WT.NC2 & WT.NC3 & WT.NC4 & WT.NC5 & WT.NC6 & WT.NC7 & WT.NC8\\\\\n",
       "  & <int> & <int> & <int> & <int> & <int> & <int> & <int> & <int> & <int> & <int> & ⋯ & <int> & <int> & <int> & <int> & <int> & <int> & <int> & <int> & <int> & <int>\\\\\n",
       "\\hline\n",
       "\tg\\_\\_Absiella\\_s\\_\\_Absiella\\_argi & 159 & 54 & 123 & 73 & 82 & 79 & 109 & 103 & 253 & 155 & ⋯ & 193 & 208 & 217 & 381 & 218 & 370 & 591 & 211 & 192 & 188\\\\\n",
       "\tg\\_\\_Absiella\\_s\\_\\_Absiella\\_sp. 9CBEGH2 &  20 & 82 &  49 & 25 & 73 & 34 &  42 &  18 &  44 &  32 & ⋯ & 139 & 135 & 123 &  75 &  64 &  62 &  94 &  77 &  57 & 101\\\\\n",
       "\\end{tabular}\n"
      ],
      "text/markdown": [
       "\n",
       "A data.frame: 2 × 32\n",
       "\n",
       "| <!--/--> | KO.CLP1 &lt;int&gt; | KO.CLP2 &lt;int&gt; | KO.CLP3 &lt;int&gt; | KO.CLP4 &lt;int&gt; | KO.CLP5 &lt;int&gt; | KO.CLP6 &lt;int&gt; | KO.CLP7 &lt;int&gt; | KO.CLP8 &lt;int&gt; | KO.NC1 &lt;int&gt; | KO.NC2 &lt;int&gt; | ⋯ ⋯ | WT.CLP7 &lt;int&gt; | WT.CLP8 &lt;int&gt; | WT.NC1 &lt;int&gt; | WT.NC2 &lt;int&gt; | WT.NC3 &lt;int&gt; | WT.NC4 &lt;int&gt; | WT.NC5 &lt;int&gt; | WT.NC6 &lt;int&gt; | WT.NC7 &lt;int&gt; | WT.NC8 &lt;int&gt; |\n",
       "|---|---|---|---|---|---|---|---|---|---|---|---|---|---|---|---|---|---|---|---|---|---|\n",
       "| g__Absiella_s__Absiella_argi | 159 | 54 | 123 | 73 | 82 | 79 | 109 | 103 | 253 | 155 | ⋯ | 193 | 208 | 217 | 381 | 218 | 370 | 591 | 211 | 192 | 188 |\n",
       "| g__Absiella_s__Absiella_sp. 9CBEGH2 |  20 | 82 |  49 | 25 | 73 | 34 |  42 |  18 |  44 |  32 | ⋯ | 139 | 135 | 123 |  75 |  64 |  62 |  94 |  77 |  57 | 101 |\n",
       "\n"
      ],
      "text/plain": [
       "                                    KO.CLP1 KO.CLP2 KO.CLP3 KO.CLP4 KO.CLP5\n",
       "g__Absiella_s__Absiella_argi        159     54      123     73      82     \n",
       "g__Absiella_s__Absiella_sp. 9CBEGH2  20     82       49     25      73     \n",
       "                                    KO.CLP6 KO.CLP7 KO.CLP8 KO.NC1 KO.NC2 ⋯\n",
       "g__Absiella_s__Absiella_argi        79      109     103     253    155    ⋯\n",
       "g__Absiella_s__Absiella_sp. 9CBEGH2 34       42      18      44     32    ⋯\n",
       "                                    WT.CLP7 WT.CLP8 WT.NC1 WT.NC2 WT.NC3 WT.NC4\n",
       "g__Absiella_s__Absiella_argi        193     208     217    381    218    370   \n",
       "g__Absiella_s__Absiella_sp. 9CBEGH2 139     135     123     75     64     62   \n",
       "                                    WT.NC5 WT.NC6 WT.NC7 WT.NC8\n",
       "g__Absiella_s__Absiella_argi        591    211    192    188   \n",
       "g__Absiella_s__Absiella_sp. 9CBEGH2  94     77     57    101   "
      ]
     },
     "metadata": {},
     "output_type": "display_data"
    }
   ],
   "source": [
    "head(species.df,2)"
   ]
  },
  {
   "cell_type": "code",
   "execution_count": 51,
   "id": "978e4573-fe38-42c0-9695-f7df6c4f2a30",
   "metadata": {},
   "outputs": [],
   "source": [
    "species.df_t = species.df"
   ]
  },
  {
   "cell_type": "code",
   "execution_count": 52,
   "id": "60d5e3a2-27a2-41ae-a8cf-28a7dfe49080",
   "metadata": {},
   "outputs": [],
   "source": [
    "trt_id <- c('KO.CLP','KO.NC','WT.CLP','WT.NC') ## 定义样本的关键词，然后从样本名抓取处理的样本\n",
    "split_otu <- lapply(apply(sapply(trt_id,function(x){grep(x,colnames(species.df_t))}),2,FUN = function(x){species.df_t[,x]}),function(x){x[-(which(rowSums(x)==0)),]})"
   ]
  },
  {
   "cell_type": "code",
   "execution_count": 6,
   "id": "96d8ce67-818a-4709-9a1d-4c30434d424b",
   "metadata": {},
   "outputs": [],
   "source": [
    "#split_otu1 = lapply(split_otu,function(x){x[c(kind,bad),]})"
   ]
  },
  {
   "cell_type": "code",
   "execution_count": 11,
   "id": "023569b3-0b51-4eca-9bb8-e455bdc25b44",
   "metadata": {},
   "outputs": [
    {
     "name": "stderr",
     "output_type": "stream",
     "text": [
      "Warning message:\n",
      "“package ‘readxl’ was built under R version 4.2.3”\n"
     ]
    }
   ],
   "source": [
    "library(readxl)"
   ]
  },
  {
   "cell_type": "code",
   "execution_count": 5,
   "id": "0cf779f7-6374-4aab-a9c4-884a1d4dda01",
   "metadata": {},
   "outputs": [],
   "source": [
    "data <- read.csv(\"../daixiezu/LM2021-12430-东部战区总医院-小鼠肠道组织/LM2021-12430-东部战区总医院-小鼠肠道组织-LCMS-EMDB(项目报告)/3.数据矩阵/metabolomics_data-new.csv\",row.names = 1)"
   ]
  },
  {
   "cell_type": "code",
   "execution_count": 6,
   "id": "0754c093-a85b-4f06-bf5d-e2711e3548d4",
   "metadata": {},
   "outputs": [
    {
     "data": {
      "text/html": [
       "<style>\n",
       ".list-inline {list-style: none; margin:0; padding: 0}\n",
       ".list-inline>li {display: inline-block}\n",
       ".list-inline>li:not(:last-child)::after {content: \"\\00b7\"; padding: 0 .5ex}\n",
       "</style>\n",
       "<ol class=list-inline><li>1319</li><li>32</li></ol>\n"
      ],
      "text/latex": [
       "\\begin{enumerate*}\n",
       "\\item 1319\n",
       "\\item 32\n",
       "\\end{enumerate*}\n"
      ],
      "text/markdown": [
       "1. 1319\n",
       "2. 32\n",
       "\n",
       "\n"
      ],
      "text/plain": [
       "[1] 1319   32"
      ]
     },
     "metadata": {},
     "output_type": "display_data"
    }
   ],
   "source": [
    "dim(data)"
   ]
  },
  {
   "cell_type": "code",
   "execution_count": 41,
   "id": "2cce6388-55ca-4aef-b665-09fdfbdd472a",
   "metadata": {},
   "outputs": [
    {
     "data": {
      "text/html": [
       "<table class=\"dataframe\">\n",
       "<caption>A data.frame: 2 × 32</caption>\n",
       "<thead>\n",
       "\t<tr><th></th><th scope=col>KO.CLP1</th><th scope=col>KO.CLP2</th><th scope=col>KO.CLP3</th><th scope=col>KO.CLP4</th><th scope=col>KO.CLP5</th><th scope=col>KO.CLP6</th><th scope=col>KO.CLP7</th><th scope=col>KO.CLP8</th><th scope=col>KO.NC1</th><th scope=col>KO.NC2</th><th scope=col>⋯</th><th scope=col>WT.CLP7</th><th scope=col>WT.CLP8</th><th scope=col>WT.NC1</th><th scope=col>WT.NC2</th><th scope=col>WT.NC3</th><th scope=col>WT.NC4</th><th scope=col>WT.NC5</th><th scope=col>WT.NC6</th><th scope=col>WT.NC7</th><th scope=col>WT.NC8</th></tr>\n",
       "\t<tr><th></th><th scope=col>&lt;dbl&gt;</th><th scope=col>&lt;dbl&gt;</th><th scope=col>&lt;dbl&gt;</th><th scope=col>&lt;dbl&gt;</th><th scope=col>&lt;dbl&gt;</th><th scope=col>&lt;dbl&gt;</th><th scope=col>&lt;dbl&gt;</th><th scope=col>&lt;dbl&gt;</th><th scope=col>&lt;dbl&gt;</th><th scope=col>&lt;dbl&gt;</th><th scope=col>⋯</th><th scope=col>&lt;dbl&gt;</th><th scope=col>&lt;dbl&gt;</th><th scope=col>&lt;dbl&gt;</th><th scope=col>&lt;dbl&gt;</th><th scope=col>&lt;dbl&gt;</th><th scope=col>&lt;dbl&gt;</th><th scope=col>&lt;dbl&gt;</th><th scope=col>&lt;dbl&gt;</th><th scope=col>&lt;dbl&gt;</th><th scope=col>&lt;dbl&gt;</th></tr>\n",
       "</thead>\n",
       "<tbody>\n",
       "\t<tr><th scope=row>LysoPC(20:4(5Z,8Z,11Z,14Z))</th><td>  86674.91</td><td> 218881.9</td><td> 280332.4</td><td> 178108.1</td><td> 119883.5</td><td> 32693.82</td><td> 345224.2</td><td> 119606</td><td> 153810.9</td><td> 328915.6</td><td>⋯</td><td> 20661.54</td><td> 104916</td><td>  5804.184</td><td> 133204.6</td><td> 243141</td><td> 277966.9</td><td> 146089.6</td><td> 230441.2</td><td> 140556.2</td><td> 298852.5</td></tr>\n",
       "\t<tr><th scope=row>LysoPC(18:0)</th><td>2009726.48</td><td>3334212.1</td><td>2450525.1</td><td>2989967.5</td><td>1876162.6</td><td>348891.23</td><td>2963804.6</td><td>2351682</td><td>2083188.4</td><td>3155221.3</td><td>⋯</td><td>263312.66</td><td>1680189</td><td>207871.058</td><td>1864903.1</td><td>2001310</td><td>3029537.8</td><td>1408620.2</td><td>2274919.8</td><td>1574928.0</td><td>2431254.0</td></tr>\n",
       "</tbody>\n",
       "</table>\n"
      ],
      "text/latex": [
       "A data.frame: 2 × 32\n",
       "\\begin{tabular}{r|lllllllllllllllllllll}\n",
       "  & KO.CLP1 & KO.CLP2 & KO.CLP3 & KO.CLP4 & KO.CLP5 & KO.CLP6 & KO.CLP7 & KO.CLP8 & KO.NC1 & KO.NC2 & ⋯ & WT.CLP7 & WT.CLP8 & WT.NC1 & WT.NC2 & WT.NC3 & WT.NC4 & WT.NC5 & WT.NC6 & WT.NC7 & WT.NC8\\\\\n",
       "  & <dbl> & <dbl> & <dbl> & <dbl> & <dbl> & <dbl> & <dbl> & <dbl> & <dbl> & <dbl> & ⋯ & <dbl> & <dbl> & <dbl> & <dbl> & <dbl> & <dbl> & <dbl> & <dbl> & <dbl> & <dbl>\\\\\n",
       "\\hline\n",
       "\tLysoPC(20:4(5Z,8Z,11Z,14Z)) &   86674.91 &  218881.9 &  280332.4 &  178108.1 &  119883.5 &  32693.82 &  345224.2 &  119606 &  153810.9 &  328915.6 & ⋯ &  20661.54 &  104916 &   5804.184 &  133204.6 &  243141 &  277966.9 &  146089.6 &  230441.2 &  140556.2 &  298852.5\\\\\n",
       "\tLysoPC(18:0) & 2009726.48 & 3334212.1 & 2450525.1 & 2989967.5 & 1876162.6 & 348891.23 & 2963804.6 & 2351682 & 2083188.4 & 3155221.3 & ⋯ & 263312.66 & 1680189 & 207871.058 & 1864903.1 & 2001310 & 3029537.8 & 1408620.2 & 2274919.8 & 1574928.0 & 2431254.0\\\\\n",
       "\\end{tabular}\n"
      ],
      "text/markdown": [
       "\n",
       "A data.frame: 2 × 32\n",
       "\n",
       "| <!--/--> | KO.CLP1 &lt;dbl&gt; | KO.CLP2 &lt;dbl&gt; | KO.CLP3 &lt;dbl&gt; | KO.CLP4 &lt;dbl&gt; | KO.CLP5 &lt;dbl&gt; | KO.CLP6 &lt;dbl&gt; | KO.CLP7 &lt;dbl&gt; | KO.CLP8 &lt;dbl&gt; | KO.NC1 &lt;dbl&gt; | KO.NC2 &lt;dbl&gt; | ⋯ ⋯ | WT.CLP7 &lt;dbl&gt; | WT.CLP8 &lt;dbl&gt; | WT.NC1 &lt;dbl&gt; | WT.NC2 &lt;dbl&gt; | WT.NC3 &lt;dbl&gt; | WT.NC4 &lt;dbl&gt; | WT.NC5 &lt;dbl&gt; | WT.NC6 &lt;dbl&gt; | WT.NC7 &lt;dbl&gt; | WT.NC8 &lt;dbl&gt; |\n",
       "|---|---|---|---|---|---|---|---|---|---|---|---|---|---|---|---|---|---|---|---|---|---|\n",
       "| LysoPC(20:4(5Z,8Z,11Z,14Z)) |   86674.91 |  218881.9 |  280332.4 |  178108.1 |  119883.5 |  32693.82 |  345224.2 |  119606 |  153810.9 |  328915.6 | ⋯ |  20661.54 |  104916 |   5804.184 |  133204.6 |  243141 |  277966.9 |  146089.6 |  230441.2 |  140556.2 |  298852.5 |\n",
       "| LysoPC(18:0) | 2009726.48 | 3334212.1 | 2450525.1 | 2989967.5 | 1876162.6 | 348891.23 | 2963804.6 | 2351682 | 2083188.4 | 3155221.3 | ⋯ | 263312.66 | 1680189 | 207871.058 | 1864903.1 | 2001310 | 3029537.8 | 1408620.2 | 2274919.8 | 1574928.0 | 2431254.0 |\n",
       "\n"
      ],
      "text/plain": [
       "                            KO.CLP1    KO.CLP2   KO.CLP3   KO.CLP4   KO.CLP5  \n",
       "LysoPC(20:4(5Z,8Z,11Z,14Z))   86674.91  218881.9  280332.4  178108.1  119883.5\n",
       "LysoPC(18:0)                2009726.48 3334212.1 2450525.1 2989967.5 1876162.6\n",
       "                            KO.CLP6   KO.CLP7   KO.CLP8 KO.NC1    KO.NC2    ⋯\n",
       "LysoPC(20:4(5Z,8Z,11Z,14Z))  32693.82  345224.2  119606  153810.9  328915.6 ⋯\n",
       "LysoPC(18:0)                348891.23 2963804.6 2351682 2083188.4 3155221.3 ⋯\n",
       "                            WT.CLP7   WT.CLP8 WT.NC1     WT.NC2    WT.NC3 \n",
       "LysoPC(20:4(5Z,8Z,11Z,14Z))  20661.54  104916   5804.184  133204.6  243141\n",
       "LysoPC(18:0)                263312.66 1680189 207871.058 1864903.1 2001310\n",
       "                            WT.NC4    WT.NC5    WT.NC6    WT.NC7    WT.NC8   \n",
       "LysoPC(20:4(5Z,8Z,11Z,14Z))  277966.9  146089.6  230441.2  140556.2  298852.5\n",
       "LysoPC(18:0)                3029537.8 1408620.2 2274919.8 1574928.0 2431254.0"
      ]
     },
     "metadata": {},
     "output_type": "display_data"
    }
   ],
   "source": [
    "head(data,2)"
   ]
  },
  {
   "cell_type": "code",
   "execution_count": 8,
   "id": "c54e9fad-3014-43cf-b3bf-e75c35046fb0",
   "metadata": {},
   "outputs": [],
   "source": [
    "cnumber = read.csv('./cnumber.csv')"
   ]
  },
  {
   "cell_type": "code",
   "execution_count": 9,
   "id": "3ae1fe45-9b14-448a-997b-1beb6266c7f4",
   "metadata": {},
   "outputs": [
    {
     "data": {
      "text/html": [
       "<table class=\"dataframe\">\n",
       "<caption>A data.frame: 6 × 2</caption>\n",
       "<thead>\n",
       "\t<tr><th></th><th scope=col>Metabolites</th><th scope=col>kegg</th></tr>\n",
       "\t<tr><th></th><th scope=col>&lt;chr&gt;</th><th scope=col>&lt;chr&gt;</th></tr>\n",
       "</thead>\n",
       "<tbody>\n",
       "\t<tr><th scope=row>1</th><td>4-Aminohippuric acid   </td><td>D06890 </td></tr>\n",
       "\t<tr><th scope=row>2</th><td>Imidazolepropionic acid</td><td>C20522 </td></tr>\n",
       "\t<tr><th scope=row>3</th><td>12S-HHT                </td><td>C20388 </td></tr>\n",
       "\t<tr><th scope=row>4</th><td>Pseudooxynicotine      </td><td>C20361 </td></tr>\n",
       "\t<tr><th scope=row>5</th><td>Beta-Carboline         </td><td>C20157 </td></tr>\n",
       "\t<tr><th scope=row>6</th><td>N-Acetylneuraminic acid</td><td>C19910 </td></tr>\n",
       "</tbody>\n",
       "</table>\n"
      ],
      "text/latex": [
       "A data.frame: 6 × 2\n",
       "\\begin{tabular}{r|ll}\n",
       "  & Metabolites & kegg\\\\\n",
       "  & <chr> & <chr>\\\\\n",
       "\\hline\n",
       "\t1 & 4-Aminohippuric acid    & D06890 \\\\\n",
       "\t2 & Imidazolepropionic acid & C20522 \\\\\n",
       "\t3 & 12S-HHT                 & C20388 \\\\\n",
       "\t4 & Pseudooxynicotine       & C20361 \\\\\n",
       "\t5 & Beta-Carboline          & C20157 \\\\\n",
       "\t6 & N-Acetylneuraminic acid & C19910 \\\\\n",
       "\\end{tabular}\n"
      ],
      "text/markdown": [
       "\n",
       "A data.frame: 6 × 2\n",
       "\n",
       "| <!--/--> | Metabolites &lt;chr&gt; | kegg &lt;chr&gt; |\n",
       "|---|---|---|\n",
       "| 1 | 4-Aminohippuric acid    | D06890  |\n",
       "| 2 | Imidazolepropionic acid | C20522  |\n",
       "| 3 | 12S-HHT                 | C20388  |\n",
       "| 4 | Pseudooxynicotine       | C20361  |\n",
       "| 5 | Beta-Carboline          | C20157  |\n",
       "| 6 | N-Acetylneuraminic acid | C19910  |\n",
       "\n"
      ],
      "text/plain": [
       "  Metabolites             kegg   \n",
       "1 4-Aminohippuric acid    D06890 \n",
       "2 Imidazolepropionic acid C20522 \n",
       "3 12S-HHT                 C20388 \n",
       "4 Pseudooxynicotine       C20361 \n",
       "5 Beta-Carboline          C20157 \n",
       "6 N-Acetylneuraminic acid C19910 "
      ]
     },
     "metadata": {},
     "output_type": "display_data"
    }
   ],
   "source": [
    "head(cnumber)"
   ]
  },
  {
   "cell_type": "code",
   "execution_count": 34,
   "id": "9ee2241a-bdde-4968-93de-a70d6d982914",
   "metadata": {},
   "outputs": [],
   "source": [
    "kegg = read.csv('./KEGG_COMPOUND_PATHWAY_mmu.csv')"
   ]
  },
  {
   "cell_type": "code",
   "execution_count": 35,
   "id": "3736f0d6-ad0b-4a5b-a588-6616e1553c21",
   "metadata": {},
   "outputs": [],
   "source": [
    "kegg = kegg %>% filter(grepl('Lipid',CLASS2))"
   ]
  },
  {
   "cell_type": "code",
   "execution_count": 36,
   "id": "90231d5d-59e8-415c-939a-57d9a7c2aac9",
   "metadata": {},
   "outputs": [],
   "source": [
    "id = kegg$COMPOUND"
   ]
  },
  {
   "cell_type": "code",
   "execution_count": 38,
   "id": "cfe28272-2a25-410a-a7ac-2818c16ff895",
   "metadata": {},
   "outputs": [],
   "source": [
    "lipid = cnumber[cnumber$kegg %in% id,]"
   ]
  },
  {
   "cell_type": "code",
   "execution_count": 42,
   "id": "4d572468-63d3-4446-b124-0ddf7d11c805",
   "metadata": {},
   "outputs": [],
   "source": [
    "metalipid = lipid$Metabolites"
   ]
  },
  {
   "cell_type": "code",
   "execution_count": 45,
   "id": "e384a908-7f4a-498f-9c29-15a4b93f825d",
   "metadata": {},
   "outputs": [],
   "source": [
    "count = data[rownames(data) %in% metalipid ,]\n"
   ]
  },
  {
   "cell_type": "code",
   "execution_count": 46,
   "id": "86fe3553-9dba-43fe-a4ed-50320cc5719d",
   "metadata": {},
   "outputs": [
    {
     "data": {
      "text/html": [
       "<table class=\"dataframe\">\n",
       "<caption>A data.frame: 2 × 32</caption>\n",
       "<thead>\n",
       "\t<tr><th></th><th scope=col>KO.CLP1</th><th scope=col>KO.CLP2</th><th scope=col>KO.CLP3</th><th scope=col>KO.CLP4</th><th scope=col>KO.CLP5</th><th scope=col>KO.CLP6</th><th scope=col>KO.CLP7</th><th scope=col>KO.CLP8</th><th scope=col>KO.NC1</th><th scope=col>KO.NC2</th><th scope=col>⋯</th><th scope=col>WT.CLP7</th><th scope=col>WT.CLP8</th><th scope=col>WT.NC1</th><th scope=col>WT.NC2</th><th scope=col>WT.NC3</th><th scope=col>WT.NC4</th><th scope=col>WT.NC5</th><th scope=col>WT.NC6</th><th scope=col>WT.NC7</th><th scope=col>WT.NC8</th></tr>\n",
       "\t<tr><th></th><th scope=col>&lt;dbl&gt;</th><th scope=col>&lt;dbl&gt;</th><th scope=col>&lt;dbl&gt;</th><th scope=col>&lt;dbl&gt;</th><th scope=col>&lt;dbl&gt;</th><th scope=col>&lt;dbl&gt;</th><th scope=col>&lt;dbl&gt;</th><th scope=col>&lt;dbl&gt;</th><th scope=col>&lt;dbl&gt;</th><th scope=col>&lt;dbl&gt;</th><th scope=col>⋯</th><th scope=col>&lt;dbl&gt;</th><th scope=col>&lt;dbl&gt;</th><th scope=col>&lt;dbl&gt;</th><th scope=col>&lt;dbl&gt;</th><th scope=col>&lt;dbl&gt;</th><th scope=col>&lt;dbl&gt;</th><th scope=col>&lt;dbl&gt;</th><th scope=col>&lt;dbl&gt;</th><th scope=col>&lt;dbl&gt;</th><th scope=col>&lt;dbl&gt;</th></tr>\n",
       "</thead>\n",
       "<tbody>\n",
       "\t<tr><th scope=row>LysoPC(20:4(5Z,8Z,11Z,14Z))</th><td>  86674.91</td><td> 218881.9</td><td> 280332.4</td><td> 178108.1</td><td> 119883.5</td><td> 32693.82</td><td> 345224.2</td><td> 119606</td><td> 153810.9</td><td> 328915.6</td><td>⋯</td><td> 20661.54</td><td> 104916</td><td>  5804.184</td><td> 133204.6</td><td> 243141</td><td> 277966.9</td><td> 146089.6</td><td> 230441.2</td><td> 140556.2</td><td> 298852.5</td></tr>\n",
       "\t<tr><th scope=row>LysoPC(18:0)</th><td>2009726.48</td><td>3334212.1</td><td>2450525.1</td><td>2989967.5</td><td>1876162.6</td><td>348891.23</td><td>2963804.6</td><td>2351682</td><td>2083188.4</td><td>3155221.3</td><td>⋯</td><td>263312.66</td><td>1680189</td><td>207871.058</td><td>1864903.1</td><td>2001310</td><td>3029537.8</td><td>1408620.2</td><td>2274919.8</td><td>1574928.0</td><td>2431254.0</td></tr>\n",
       "</tbody>\n",
       "</table>\n"
      ],
      "text/latex": [
       "A data.frame: 2 × 32\n",
       "\\begin{tabular}{r|lllllllllllllllllllll}\n",
       "  & KO.CLP1 & KO.CLP2 & KO.CLP3 & KO.CLP4 & KO.CLP5 & KO.CLP6 & KO.CLP7 & KO.CLP8 & KO.NC1 & KO.NC2 & ⋯ & WT.CLP7 & WT.CLP8 & WT.NC1 & WT.NC2 & WT.NC3 & WT.NC4 & WT.NC5 & WT.NC6 & WT.NC7 & WT.NC8\\\\\n",
       "  & <dbl> & <dbl> & <dbl> & <dbl> & <dbl> & <dbl> & <dbl> & <dbl> & <dbl> & <dbl> & ⋯ & <dbl> & <dbl> & <dbl> & <dbl> & <dbl> & <dbl> & <dbl> & <dbl> & <dbl> & <dbl>\\\\\n",
       "\\hline\n",
       "\tLysoPC(20:4(5Z,8Z,11Z,14Z)) &   86674.91 &  218881.9 &  280332.4 &  178108.1 &  119883.5 &  32693.82 &  345224.2 &  119606 &  153810.9 &  328915.6 & ⋯ &  20661.54 &  104916 &   5804.184 &  133204.6 &  243141 &  277966.9 &  146089.6 &  230441.2 &  140556.2 &  298852.5\\\\\n",
       "\tLysoPC(18:0) & 2009726.48 & 3334212.1 & 2450525.1 & 2989967.5 & 1876162.6 & 348891.23 & 2963804.6 & 2351682 & 2083188.4 & 3155221.3 & ⋯ & 263312.66 & 1680189 & 207871.058 & 1864903.1 & 2001310 & 3029537.8 & 1408620.2 & 2274919.8 & 1574928.0 & 2431254.0\\\\\n",
       "\\end{tabular}\n"
      ],
      "text/markdown": [
       "\n",
       "A data.frame: 2 × 32\n",
       "\n",
       "| <!--/--> | KO.CLP1 &lt;dbl&gt; | KO.CLP2 &lt;dbl&gt; | KO.CLP3 &lt;dbl&gt; | KO.CLP4 &lt;dbl&gt; | KO.CLP5 &lt;dbl&gt; | KO.CLP6 &lt;dbl&gt; | KO.CLP7 &lt;dbl&gt; | KO.CLP8 &lt;dbl&gt; | KO.NC1 &lt;dbl&gt; | KO.NC2 &lt;dbl&gt; | ⋯ ⋯ | WT.CLP7 &lt;dbl&gt; | WT.CLP8 &lt;dbl&gt; | WT.NC1 &lt;dbl&gt; | WT.NC2 &lt;dbl&gt; | WT.NC3 &lt;dbl&gt; | WT.NC4 &lt;dbl&gt; | WT.NC5 &lt;dbl&gt; | WT.NC6 &lt;dbl&gt; | WT.NC7 &lt;dbl&gt; | WT.NC8 &lt;dbl&gt; |\n",
       "|---|---|---|---|---|---|---|---|---|---|---|---|---|---|---|---|---|---|---|---|---|---|\n",
       "| LysoPC(20:4(5Z,8Z,11Z,14Z)) |   86674.91 |  218881.9 |  280332.4 |  178108.1 |  119883.5 |  32693.82 |  345224.2 |  119606 |  153810.9 |  328915.6 | ⋯ |  20661.54 |  104916 |   5804.184 |  133204.6 |  243141 |  277966.9 |  146089.6 |  230441.2 |  140556.2 |  298852.5 |\n",
       "| LysoPC(18:0) | 2009726.48 | 3334212.1 | 2450525.1 | 2989967.5 | 1876162.6 | 348891.23 | 2963804.6 | 2351682 | 2083188.4 | 3155221.3 | ⋯ | 263312.66 | 1680189 | 207871.058 | 1864903.1 | 2001310 | 3029537.8 | 1408620.2 | 2274919.8 | 1574928.0 | 2431254.0 |\n",
       "\n"
      ],
      "text/plain": [
       "                            KO.CLP1    KO.CLP2   KO.CLP3   KO.CLP4   KO.CLP5  \n",
       "LysoPC(20:4(5Z,8Z,11Z,14Z))   86674.91  218881.9  280332.4  178108.1  119883.5\n",
       "LysoPC(18:0)                2009726.48 3334212.1 2450525.1 2989967.5 1876162.6\n",
       "                            KO.CLP6   KO.CLP7   KO.CLP8 KO.NC1    KO.NC2    ⋯\n",
       "LysoPC(20:4(5Z,8Z,11Z,14Z))  32693.82  345224.2  119606  153810.9  328915.6 ⋯\n",
       "LysoPC(18:0)                348891.23 2963804.6 2351682 2083188.4 3155221.3 ⋯\n",
       "                            WT.CLP7   WT.CLP8 WT.NC1     WT.NC2    WT.NC3 \n",
       "LysoPC(20:4(5Z,8Z,11Z,14Z))  20661.54  104916   5804.184  133204.6  243141\n",
       "LysoPC(18:0)                263312.66 1680189 207871.058 1864903.1 2001310\n",
       "                            WT.NC4    WT.NC5    WT.NC6    WT.NC7    WT.NC8   \n",
       "LysoPC(20:4(5Z,8Z,11Z,14Z))  277966.9  146089.6  230441.2  140556.2  298852.5\n",
       "LysoPC(18:0)                3029537.8 1408620.2 2274919.8 1574928.0 2431254.0"
      ]
     },
     "metadata": {},
     "output_type": "display_data"
    }
   ],
   "source": [
    "head(count,2)"
   ]
  },
  {
   "cell_type": "code",
   "execution_count": 47,
   "id": "8a2b21f1-c5c6-4b6f-bc5c-ec8393b10381",
   "metadata": {},
   "outputs": [],
   "source": [
    "trt_id <- c('KO.CLP','KO.NC','WT.CLP','WT.NC') ## 定义样本的关键词，然后从样本名抓取处理的样本"
   ]
  },
  {
   "cell_type": "code",
   "execution_count": 48,
   "id": "e0612f0f-9cd5-435a-95fc-1e6cfcb4f713",
   "metadata": {},
   "outputs": [],
   "source": [
    "split_metainfo = list()\n",
    "for (i in trt_id){\n",
    "    split_metainfo[[i]] = dplyr::select(count,contains(i))\n",
    "}"
   ]
  },
  {
   "cell_type": "code",
   "execution_count": null,
   "id": "f05b68f2-b1ed-4444-88e1-8e12ebc57fbe",
   "metadata": {},
   "outputs": [],
   "source": [
    "merge_cor = list()\n",
    "otu = list()\n",
    "meta = list()\n",
    "p = list()\n",
    "r = list()\n",
    "\n",
    "for (i in seq(1:4)){\n",
    "    otu[[i]] = split_otu[[i]]\n",
    "    meta[[i]] = split_metainfo[[i]]\n",
    "    library(psych)\n",
    "    merge_cor[[i]]<- corr.test(as.data.frame(t(otu[[i]])), as.data.frame(t(meta[[i]])), method = 'spearman')\n",
    "    p[[i]] = merge_cor[[i]]$p\n",
    "    r[[i]] = merge_cor[[i]]$r\n",
    "    r[[i]][p[[i]]>0.05|abs(r[[i]])<0.2] = 0\n",
    "    r[[i]][is.na(r[[i]])]=0\n",
    "    p[[i]][is.na(p[[i]])]=0\n",
    "    outdir = paste0(getwd(),'/9.otu-metabolite-luming')\n",
    "    if(dir.exists(outdir)){\n",
    "      print(\"dir exists\")\n",
    "    }else{\n",
    "      dir.create(outdir)\n",
    "    }\n",
    "    write.csv(as.data.frame(t(r[[i]])),file = paste0(outdir,'/',trt_id[i],'.cor.r.csv'))\n",
    "    write.csv(as.data.frame(t(p[[i]])),file = paste0(outdir,'/',trt_id[i],'.cor.p.csv'))\n",
    "}"
   ]
  },
  {
   "cell_type": "code",
   "execution_count": null,
   "id": "f90c8f49-7796-4561-9e1a-3c4a539c27a1",
   "metadata": {},
   "outputs": [],
   "source": []
  }
 ],
 "metadata": {
  "kernelspec": {
   "display_name": "R",
   "language": "R",
   "name": "ir"
  },
  "language_info": {
   "codemirror_mode": "r",
   "file_extension": ".r",
   "mimetype": "text/x-r-source",
   "name": "R",
   "pygments_lexer": "r",
   "version": "4.2.1"
  }
 },
 "nbformat": 4,
 "nbformat_minor": 5
}
