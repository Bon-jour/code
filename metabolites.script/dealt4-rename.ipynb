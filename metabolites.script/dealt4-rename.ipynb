{
 "cells": [
  {
   "cell_type": "code",
   "execution_count": 18,
   "id": "da49da68-10f8-4eb1-a779-2ac42e401122",
   "metadata": {},
   "outputs": [],
   "source": [
    "data = read.csv('./8.metabolites.connect.enrichment.zhizhi/KO.CLP/g__Helicobacter_s__Helicobacter_hepaticus.enrichment.csv',row.names = 1)"
   ]
  },
  {
   "cell_type": "code",
   "execution_count": 20,
   "id": "e3395e18-518f-44d3-a88f-91bfb56d3667",
   "metadata": {},
   "outputs": [
    {
     "data": {
      "text/html": [
       "<table class=\"dataframe\">\n",
       "<caption>A data.frame: 2 × 9</caption>\n",
       "<thead>\n",
       "\t<tr><th></th><th scope=col>ID</th><th scope=col>Description</th><th scope=col>GeneRatio</th><th scope=col>BgRatio</th><th scope=col>pvalue</th><th scope=col>p.adjust</th><th scope=col>qvalue</th><th scope=col>geneID</th><th scope=col>Count</th></tr>\n",
       "\t<tr><th></th><th scope=col>&lt;chr&gt;</th><th scope=col>&lt;chr&gt;</th><th scope=col>&lt;chr&gt;</th><th scope=col>&lt;chr&gt;</th><th scope=col>&lt;dbl&gt;</th><th scope=col>&lt;dbl&gt;</th><th scope=col>&lt;dbl&gt;</th><th scope=col>&lt;chr&gt;</th><th scope=col>&lt;int&gt;</th></tr>\n",
       "</thead>\n",
       "<tbody>\n",
       "\t<tr><th scope=row>mmu05231</th><td>mmu05231</td><td>Choline metabolism in cancer  </td><td>2/5</td><td>11/3531</td><td>8.780176e-05</td><td>0.0009658194</td><td>0.0003696916</td><td>C04230/C00157</td><td>2</td></tr>\n",
       "\t<tr><th scope=row>mmu00564</th><td>mmu00564</td><td>Glycerophospholipid metabolism</td><td>2/5</td><td>56/3531</td><td>2.396258e-03</td><td>0.0130113488</td><td>0.0049804206</td><td>C04230/C00157</td><td>2</td></tr>\n",
       "</tbody>\n",
       "</table>\n"
      ],
      "text/latex": [
       "A data.frame: 2 × 9\n",
       "\\begin{tabular}{r|lllllllll}\n",
       "  & ID & Description & GeneRatio & BgRatio & pvalue & p.adjust & qvalue & geneID & Count\\\\\n",
       "  & <chr> & <chr> & <chr> & <chr> & <dbl> & <dbl> & <dbl> & <chr> & <int>\\\\\n",
       "\\hline\n",
       "\tmmu05231 & mmu05231 & Choline metabolism in cancer   & 2/5 & 11/3531 & 8.780176e-05 & 0.0009658194 & 0.0003696916 & C04230/C00157 & 2\\\\\n",
       "\tmmu00564 & mmu00564 & Glycerophospholipid metabolism & 2/5 & 56/3531 & 2.396258e-03 & 0.0130113488 & 0.0049804206 & C04230/C00157 & 2\\\\\n",
       "\\end{tabular}\n"
      ],
      "text/markdown": [
       "\n",
       "A data.frame: 2 × 9\n",
       "\n",
       "| <!--/--> | ID &lt;chr&gt; | Description &lt;chr&gt; | GeneRatio &lt;chr&gt; | BgRatio &lt;chr&gt; | pvalue &lt;dbl&gt; | p.adjust &lt;dbl&gt; | qvalue &lt;dbl&gt; | geneID &lt;chr&gt; | Count &lt;int&gt; |\n",
       "|---|---|---|---|---|---|---|---|---|---|\n",
       "| mmu05231 | mmu05231 | Choline metabolism in cancer   | 2/5 | 11/3531 | 8.780176e-05 | 0.0009658194 | 0.0003696916 | C04230/C00157 | 2 |\n",
       "| mmu00564 | mmu00564 | Glycerophospholipid metabolism | 2/5 | 56/3531 | 2.396258e-03 | 0.0130113488 | 0.0049804206 | C04230/C00157 | 2 |\n",
       "\n"
      ],
      "text/plain": [
       "         ID       Description                    GeneRatio BgRatio pvalue      \n",
       "mmu05231 mmu05231 Choline metabolism in cancer   2/5       11/3531 8.780176e-05\n",
       "mmu00564 mmu00564 Glycerophospholipid metabolism 2/5       56/3531 2.396258e-03\n",
       "         p.adjust     qvalue       geneID        Count\n",
       "mmu05231 0.0009658194 0.0003696916 C04230/C00157 2    \n",
       "mmu00564 0.0130113488 0.0049804206 C04230/C00157 2    "
      ]
     },
     "metadata": {},
     "output_type": "display_data"
    }
   ],
   "source": [
    "head(data,2)"
   ]
  },
  {
   "cell_type": "code",
   "execution_count": 30,
   "id": "a9529ade-c5b2-4a4d-a3de-85ea331cad2e",
   "metadata": {},
   "outputs": [],
   "source": [
    "kvalue = read.csv('./cnumber.csv')"
   ]
  },
  {
   "cell_type": "code",
   "execution_count": 31,
   "id": "e20cf708-107e-4bef-9efe-671f3c56ecfc",
   "metadata": {},
   "outputs": [
    {
     "data": {
      "text/html": [
       "<table class=\"dataframe\">\n",
       "<caption>A data.frame: 2 × 2</caption>\n",
       "<thead>\n",
       "\t<tr><th></th><th scope=col>Metabolites</th><th scope=col>kegg</th></tr>\n",
       "\t<tr><th></th><th scope=col>&lt;chr&gt;</th><th scope=col>&lt;chr&gt;</th></tr>\n",
       "</thead>\n",
       "<tbody>\n",
       "\t<tr><th scope=row>1</th><td>4-Aminohippuric acid   </td><td>D06890 </td></tr>\n",
       "\t<tr><th scope=row>2</th><td>Imidazolepropionic acid</td><td>C20522 </td></tr>\n",
       "</tbody>\n",
       "</table>\n"
      ],
      "text/latex": [
       "A data.frame: 2 × 2\n",
       "\\begin{tabular}{r|ll}\n",
       "  & Metabolites & kegg\\\\\n",
       "  & <chr> & <chr>\\\\\n",
       "\\hline\n",
       "\t1 & 4-Aminohippuric acid    & D06890 \\\\\n",
       "\t2 & Imidazolepropionic acid & C20522 \\\\\n",
       "\\end{tabular}\n"
      ],
      "text/markdown": [
       "\n",
       "A data.frame: 2 × 2\n",
       "\n",
       "| <!--/--> | Metabolites &lt;chr&gt; | kegg &lt;chr&gt; |\n",
       "|---|---|---|\n",
       "| 1 | 4-Aminohippuric acid    | D06890  |\n",
       "| 2 | Imidazolepropionic acid | C20522  |\n",
       "\n"
      ],
      "text/plain": [
       "  Metabolites             kegg   \n",
       "1 4-Aminohippuric acid    D06890 \n",
       "2 Imidazolepropionic acid C20522 "
      ]
     },
     "metadata": {},
     "output_type": "display_data"
    }
   ],
   "source": [
    "head(kvalue,2)"
   ]
  },
  {
   "cell_type": "code",
   "execution_count": 59,
   "id": "592cb2d7-8fe2-4b23-b9f5-de30d29ee2c0",
   "metadata": {},
   "outputs": [],
   "source": []
  },
  {
   "cell_type": "code",
   "execution_count": 72,
   "id": "924ef5cf-3f36-40ac-8d47-6bea6f8215f0",
   "metadata": {},
   "outputs": [
    {
     "ename": "ERROR",
     "evalue": "Error in parse(text = x, srcfile = src): <text>:7:1: unexpected input\n6: })\n7: ​\n   ^\n",
     "output_type": "error",
     "traceback": [
      "Error in parse(text = x, srcfile = src): <text>:7:1: unexpected input\n6: })\n7: ​\n   ^\nTraceback:\n"
     ]
    }
   ],
   "source": [
    "\n",
    "\n",
    "​"
   ]
  },
  {
   "cell_type": "code",
   "execution_count": null,
   "id": "fa6232a0-d037-4564-9e02-444281d95df1",
   "metadata": {},
   "outputs": [],
   "source": [
    "ensembl=strsplit(data$geneID,\"/\")\n",
    "res = list()\n",
    "y = list()\n",
    "for (i in c(1:length(ensembl))){\n",
    "    res[[i]] =  kvalue %>%  filter(kegg %in% ensembl[[i]])\n",
    "    data[i,10] = paste(res[[1]]$Metabolites,collapse = \"/\")\n",
    "    colnames(data)[10] = 'name'\n",
    "}"
   ]
  },
  {
   "cell_type": "code",
   "execution_count": null,
   "id": "f3bb7b08-5dd5-4b55-adfe-0b914bb37297",
   "metadata": {},
   "outputs": [],
   "source": []
  },
  {
   "cell_type": "code",
   "execution_count": null,
   "id": "e05869e7-6e67-4202-959d-104856fed0b6",
   "metadata": {},
   "outputs": [],
   "source": []
  },
  {
   "cell_type": "code",
   "execution_count": null,
   "id": "01f2e1c5-a1b8-4de3-a405-1c5bb49ee8f3",
   "metadata": {},
   "outputs": [],
   "source": []
  },
  {
   "cell_type": "code",
   "execution_count": null,
   "id": "41caf179-24fd-4853-8bf4-d77744a19208",
   "metadata": {},
   "outputs": [],
   "source": []
  },
  {
   "cell_type": "code",
   "execution_count": null,
   "id": "6b4b963e-cea6-4ee6-888a-d41140a5e946",
   "metadata": {},
   "outputs": [],
   "source": []
  }
 ],
 "metadata": {
  "kernelspec": {
   "display_name": "R",
   "language": "R",
   "name": "ir"
  },
  "language_info": {
   "codemirror_mode": "r",
   "file_extension": ".r",
   "mimetype": "text/x-r-source",
   "name": "R",
   "pygments_lexer": "r",
   "version": "4.2.1"
  }
 },
 "nbformat": 4,
 "nbformat_minor": 5
}
