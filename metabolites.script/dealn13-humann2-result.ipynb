{
 "cells": [
  {
   "cell_type": "code",
   "execution_count": 165,
   "id": "5a74e97c-0790-4aed-b20e-bdb195569dcf",
   "metadata": {},
   "outputs": [],
   "source": [
    "data = read.table('./5.metacyc/humann2_final_out/humann2_pathabundance_cpm_unstratified2.tsv',check.names = F,header =T,quote=\"\",sep = '\\t')"
   ]
  },
  {
   "cell_type": "code",
   "execution_count": 166,
   "id": "60fa4515-e17d-451d-816d-915933168985",
   "metadata": {},
   "outputs": [],
   "source": [
    "data = data[-c(1,2),]"
   ]
  },
  {
   "cell_type": "code",
   "execution_count": 167,
   "id": "72e8b7e8-d992-4782-9427-12f92b60c19b",
   "metadata": {},
   "outputs": [
    {
     "data": {
      "text/html": [
       "<style>\n",
       ".list-inline {list-style: none; margin:0; padding: 0}\n",
       ".list-inline>li {display: inline-block}\n",
       ".list-inline>li:not(:last-child)::after {content: \"\\00b7\"; padding: 0 .5ex}\n",
       "</style>\n",
       "<ol class=list-inline><li>336</li><li>33</li></ol>\n"
      ],
      "text/latex": [
       "\\begin{enumerate*}\n",
       "\\item 336\n",
       "\\item 33\n",
       "\\end{enumerate*}\n"
      ],
      "text/markdown": [
       "1. 336\n",
       "2. 33\n",
       "\n",
       "\n"
      ],
      "text/plain": [
       "[1] 336  33"
      ]
     },
     "metadata": {},
     "output_type": "display_data"
    }
   ],
   "source": [
    "dim(data)"
   ]
  },
  {
   "cell_type": "code",
   "execution_count": 170,
   "id": "07059d29-2904-4002-9a91-8451bbc92d93",
   "metadata": {},
   "outputs": [],
   "source": [
    "df <- data %>% separate(Pathway\t, c('Name1', 'Name2'),sep = '\\\\: ')"
   ]
  },
  {
   "cell_type": "code",
   "execution_count": 172,
   "id": "936180e3-40aa-4467-aa14-b9f5d8776eac",
   "metadata": {},
   "outputs": [
    {
     "data": {
      "text/html": [
       "<style>\n",
       ".list-inline {list-style: none; margin:0; padding: 0}\n",
       ".list-inline>li {display: inline-block}\n",
       ".list-inline>li:not(:last-child)::after {content: \"\\00b7\"; padding: 0 .5ex}\n",
       "</style>\n",
       "<ol class=list-inline><li>336</li><li>34</li></ol>\n"
      ],
      "text/latex": [
       "\\begin{enumerate*}\n",
       "\\item 336\n",
       "\\item 34\n",
       "\\end{enumerate*}\n"
      ],
      "text/markdown": [
       "1. 336\n",
       "2. 34\n",
       "\n",
       "\n"
      ],
      "text/plain": [
       "[1] 336  34"
      ]
     },
     "metadata": {},
     "output_type": "display_data"
    }
   ],
   "source": [
    "dim(df)"
   ]
  },
  {
   "cell_type": "code",
   "execution_count": 173,
   "id": "9c6b60ba-fef4-432f-9311-be249490f6f9",
   "metadata": {},
   "outputs": [],
   "source": [
    "df = df[,-1]"
   ]
  },
  {
   "cell_type": "code",
   "execution_count": 178,
   "id": "b997b193-3779-4f9c-bdc6-6346759255ef",
   "metadata": {},
   "outputs": [],
   "source": [
    "rownames(df) = df[,1]"
   ]
  },
  {
   "cell_type": "code",
   "execution_count": 179,
   "id": "f524efef-e29e-43c5-8fa4-52646c31a657",
   "metadata": {},
   "outputs": [],
   "source": [
    "df = df[,-1]"
   ]
  },
  {
   "cell_type": "code",
   "execution_count": 180,
   "id": "7957ff9b-f8b8-4af3-9abc-be1c73e22766",
   "metadata": {},
   "outputs": [
    {
     "data": {
      "text/html": [
       "<table class=\"dataframe\">\n",
       "<caption>A data.frame: 2 × 32</caption>\n",
       "<thead>\n",
       "\t<tr><th></th><th scope=col>KO-CLP1</th><th scope=col>KO-CLP2</th><th scope=col>KO-CLP3</th><th scope=col>KO-CLP4</th><th scope=col>KO-CLP5</th><th scope=col>KO-CLP6</th><th scope=col>KO-CLP7</th><th scope=col>KO-CLP8</th><th scope=col>KO-NC1</th><th scope=col>KO-NC2</th><th scope=col>⋯</th><th scope=col>WT-CLP7</th><th scope=col>WT-CLP8</th><th scope=col>WT-NC1</th><th scope=col>WT-NC2</th><th scope=col>WT-NC3</th><th scope=col>WT-NC4</th><th scope=col>WT-NC5</th><th scope=col>WT-NC6</th><th scope=col>WT-NC7</th><th scope=col>WT-NC8</th></tr>\n",
       "\t<tr><th></th><th scope=col>&lt;dbl&gt;</th><th scope=col>&lt;dbl&gt;</th><th scope=col>&lt;dbl&gt;</th><th scope=col>&lt;dbl&gt;</th><th scope=col>&lt;dbl&gt;</th><th scope=col>&lt;dbl&gt;</th><th scope=col>&lt;dbl&gt;</th><th scope=col>&lt;dbl&gt;</th><th scope=col>&lt;dbl&gt;</th><th scope=col>&lt;dbl&gt;</th><th scope=col>⋯</th><th scope=col>&lt;dbl&gt;</th><th scope=col>&lt;dbl&gt;</th><th scope=col>&lt;dbl&gt;</th><th scope=col>&lt;dbl&gt;</th><th scope=col>&lt;dbl&gt;</th><th scope=col>&lt;dbl&gt;</th><th scope=col>&lt;dbl&gt;</th><th scope=col>&lt;dbl&gt;</th><th scope=col>&lt;dbl&gt;</th><th scope=col>&lt;dbl&gt;</th></tr>\n",
       "</thead>\n",
       "<tbody>\n",
       "\t<tr><th scope=row>folate transformations III (E. coli)</th><td>373.09400</td><td>257.207</td><td>311.685</td><td>230.93200</td><td>246.13900</td><td>255.35900</td><td>269.87400</td><td>203.0820</td><td>191.12600</td><td>206.99300</td><td>⋯</td><td>297.997</td><td>292.13400</td><td>138.053</td><td>195.198</td><td>234.83600</td><td>212.98800</td><td>225.29900</td><td>282.8620</td><td>221.29500</td><td>193.82100</td></tr>\n",
       "\t<tr><th scope=row>superpathway of allantoin degradation in yeast</th><td>  2.65824</td><td>  0.000</td><td>  0.000</td><td>  5.72585</td><td>  3.28336</td><td>  3.07257</td><td>  6.12238</td><td>  4.1333</td><td>  1.28045</td><td>  1.55677</td><td>⋯</td><td>  0.000</td><td>  1.71647</td><td>  0.000</td><td>  0.000</td><td>  1.53196</td><td>  5.17566</td><td>  6.18274</td><td>  3.3258</td><td>  8.44011</td><td>  7.49206</td></tr>\n",
       "</tbody>\n",
       "</table>\n"
      ],
      "text/latex": [
       "A data.frame: 2 × 32\n",
       "\\begin{tabular}{r|lllllllllllllllllllll}\n",
       "  & KO-CLP1 & KO-CLP2 & KO-CLP3 & KO-CLP4 & KO-CLP5 & KO-CLP6 & KO-CLP7 & KO-CLP8 & KO-NC1 & KO-NC2 & ⋯ & WT-CLP7 & WT-CLP8 & WT-NC1 & WT-NC2 & WT-NC3 & WT-NC4 & WT-NC5 & WT-NC6 & WT-NC7 & WT-NC8\\\\\n",
       "  & <dbl> & <dbl> & <dbl> & <dbl> & <dbl> & <dbl> & <dbl> & <dbl> & <dbl> & <dbl> & ⋯ & <dbl> & <dbl> & <dbl> & <dbl> & <dbl> & <dbl> & <dbl> & <dbl> & <dbl> & <dbl>\\\\\n",
       "\\hline\n",
       "\tfolate transformations III (E. coli) & 373.09400 & 257.207 & 311.685 & 230.93200 & 246.13900 & 255.35900 & 269.87400 & 203.0820 & 191.12600 & 206.99300 & ⋯ & 297.997 & 292.13400 & 138.053 & 195.198 & 234.83600 & 212.98800 & 225.29900 & 282.8620 & 221.29500 & 193.82100\\\\\n",
       "\tsuperpathway of allantoin degradation in yeast &   2.65824 &   0.000 &   0.000 &   5.72585 &   3.28336 &   3.07257 &   6.12238 &   4.1333 &   1.28045 &   1.55677 & ⋯ &   0.000 &   1.71647 &   0.000 &   0.000 &   1.53196 &   5.17566 &   6.18274 &   3.3258 &   8.44011 &   7.49206\\\\\n",
       "\\end{tabular}\n"
      ],
      "text/markdown": [
       "\n",
       "A data.frame: 2 × 32\n",
       "\n",
       "| <!--/--> | KO-CLP1 &lt;dbl&gt; | KO-CLP2 &lt;dbl&gt; | KO-CLP3 &lt;dbl&gt; | KO-CLP4 &lt;dbl&gt; | KO-CLP5 &lt;dbl&gt; | KO-CLP6 &lt;dbl&gt; | KO-CLP7 &lt;dbl&gt; | KO-CLP8 &lt;dbl&gt; | KO-NC1 &lt;dbl&gt; | KO-NC2 &lt;dbl&gt; | ⋯ ⋯ | WT-CLP7 &lt;dbl&gt; | WT-CLP8 &lt;dbl&gt; | WT-NC1 &lt;dbl&gt; | WT-NC2 &lt;dbl&gt; | WT-NC3 &lt;dbl&gt; | WT-NC4 &lt;dbl&gt; | WT-NC5 &lt;dbl&gt; | WT-NC6 &lt;dbl&gt; | WT-NC7 &lt;dbl&gt; | WT-NC8 &lt;dbl&gt; |\n",
       "|---|---|---|---|---|---|---|---|---|---|---|---|---|---|---|---|---|---|---|---|---|---|\n",
       "| folate transformations III (E. coli) | 373.09400 | 257.207 | 311.685 | 230.93200 | 246.13900 | 255.35900 | 269.87400 | 203.0820 | 191.12600 | 206.99300 | ⋯ | 297.997 | 292.13400 | 138.053 | 195.198 | 234.83600 | 212.98800 | 225.29900 | 282.8620 | 221.29500 | 193.82100 |\n",
       "| superpathway of allantoin degradation in yeast |   2.65824 |   0.000 |   0.000 |   5.72585 |   3.28336 |   3.07257 |   6.12238 |   4.1333 |   1.28045 |   1.55677 | ⋯ |   0.000 |   1.71647 |   0.000 |   0.000 |   1.53196 |   5.17566 |   6.18274 |   3.3258 |   8.44011 |   7.49206 |\n",
       "\n"
      ],
      "text/plain": [
       "                                               KO-CLP1   KO-CLP2 KO-CLP3\n",
       "folate transformations III (E. coli)           373.09400 257.207 311.685\n",
       "superpathway of allantoin degradation in yeast   2.65824   0.000   0.000\n",
       "                                               KO-CLP4   KO-CLP5   KO-CLP6  \n",
       "folate transformations III (E. coli)           230.93200 246.13900 255.35900\n",
       "superpathway of allantoin degradation in yeast   5.72585   3.28336   3.07257\n",
       "                                               KO-CLP7   KO-CLP8  KO-NC1   \n",
       "folate transformations III (E. coli)           269.87400 203.0820 191.12600\n",
       "superpathway of allantoin degradation in yeast   6.12238   4.1333   1.28045\n",
       "                                               KO-NC2    ⋯ WT-CLP7 WT-CLP8  \n",
       "folate transformations III (E. coli)           206.99300 ⋯ 297.997 292.13400\n",
       "superpathway of allantoin degradation in yeast   1.55677 ⋯   0.000   1.71647\n",
       "                                               WT-NC1  WT-NC2  WT-NC3   \n",
       "folate transformations III (E. coli)           138.053 195.198 234.83600\n",
       "superpathway of allantoin degradation in yeast   0.000   0.000   1.53196\n",
       "                                               WT-NC4    WT-NC5    WT-NC6  \n",
       "folate transformations III (E. coli)           212.98800 225.29900 282.8620\n",
       "superpathway of allantoin degradation in yeast   5.17566   6.18274   3.3258\n",
       "                                               WT-NC7    WT-NC8   \n",
       "folate transformations III (E. coli)           221.29500 193.82100\n",
       "superpathway of allantoin degradation in yeast   8.44011   7.49206"
      ]
     },
     "metadata": {},
     "output_type": "display_data"
    }
   ],
   "source": [
    "head(df,2)"
   ]
  },
  {
   "cell_type": "code",
   "execution_count": 181,
   "id": "2d9f1dec-0c76-45df-86ff-cfa59fc84262",
   "metadata": {},
   "outputs": [],
   "source": [
    "group = read.table('./5.metacyc/sample.txt',header = T,sep = '\\t')"
   ]
  },
  {
   "cell_type": "code",
   "execution_count": 183,
   "id": "721eaecc-c328-4c7c-8c0d-3f40e1385ce5",
   "metadata": {},
   "outputs": [],
   "source": [
    "library(tidyverse)\n",
    "df <- df*100"
   ]
  },
  {
   "cell_type": "code",
   "execution_count": 184,
   "id": "6371ba6e-413e-43b9-8175-774b3f807e2a",
   "metadata": {},
   "outputs": [],
   "source": [
    "df <- df %>% filter(apply(df,1,mean) > 1)"
   ]
  },
  {
   "cell_type": "code",
   "execution_count": 185,
   "id": "472a5f22-4e90-46dc-8377-38491344852d",
   "metadata": {},
   "outputs": [],
   "source": [
    "data <- t(df)\n",
    "data1 <- data.frame(data,group$group)"
   ]
  },
  {
   "cell_type": "code",
   "execution_count": 186,
   "id": "d40fb482-96eb-4c19-a77d-eb81bc5dc3ae",
   "metadata": {},
   "outputs": [],
   "source": [
    "colnames(data1) <- c(colnames(data),\"Group\")\n",
    "data1$Group <- as.factor(data1$Group)"
   ]
  },
  {
   "cell_type": "code",
   "execution_count": 189,
   "id": "cadf709f-3f91-4ce7-9dd8-3071700d73f2",
   "metadata": {},
   "outputs": [
    {
     "data": {
      "text/html": [
       "<style>\n",
       ".list-inline {list-style: none; margin:0; padding: 0}\n",
       ".list-inline>li {display: inline-block}\n",
       ".list-inline>li:not(:last-child)::after {content: \"\\00b7\"; padding: 0 .5ex}\n",
       "</style>\n",
       "<ol class=list-inline><li>KO-CLP</li><li>KO-CLP</li><li>KO-CLP</li><li>KO-CLP</li><li>KO-CLP</li><li>KO-CLP</li><li>KO-CLP</li><li>KO-CLP</li><li>KO-NC</li><li>KO-NC</li><li>KO-NC</li><li>KO-NC</li><li>KO-NC</li><li>KO-NC</li><li>KO-NC</li><li>KO-NC</li><li>WT-CLP</li><li>WT-CLP</li><li>WT-CLP</li><li>WT-CLP</li><li>WT-CLP</li><li>WT-CLP</li><li>WT-CLP</li><li>WT-CLP</li><li>WT-NC</li><li>WT-NC</li><li>WT-NC</li><li>WT-NC</li><li>WT-NC</li><li>WT-NC</li><li>WT-NC</li><li>WT-NC</li></ol>\n",
       "\n",
       "<details>\n",
       "\t<summary style=display:list-item;cursor:pointer>\n",
       "\t\t<strong>Levels</strong>:\n",
       "\t</summary>\n",
       "\t<style>\n",
       "\t.list-inline {list-style: none; margin:0; padding: 0}\n",
       "\t.list-inline>li {display: inline-block}\n",
       "\t.list-inline>li:not(:last-child)::after {content: \"\\00b7\"; padding: 0 .5ex}\n",
       "\t</style>\n",
       "\t<ol class=list-inline><li>'KO-CLP'</li><li>'KO-NC'</li><li>'WT-CLP'</li><li>'WT-NC'</li></ol>\n",
       "</details>"
      ],
      "text/latex": [
       "\\begin{enumerate*}\n",
       "\\item KO-CLP\n",
       "\\item KO-CLP\n",
       "\\item KO-CLP\n",
       "\\item KO-CLP\n",
       "\\item KO-CLP\n",
       "\\item KO-CLP\n",
       "\\item KO-CLP\n",
       "\\item KO-CLP\n",
       "\\item KO-NC\n",
       "\\item KO-NC\n",
       "\\item KO-NC\n",
       "\\item KO-NC\n",
       "\\item KO-NC\n",
       "\\item KO-NC\n",
       "\\item KO-NC\n",
       "\\item KO-NC\n",
       "\\item WT-CLP\n",
       "\\item WT-CLP\n",
       "\\item WT-CLP\n",
       "\\item WT-CLP\n",
       "\\item WT-CLP\n",
       "\\item WT-CLP\n",
       "\\item WT-CLP\n",
       "\\item WT-CLP\n",
       "\\item WT-NC\n",
       "\\item WT-NC\n",
       "\\item WT-NC\n",
       "\\item WT-NC\n",
       "\\item WT-NC\n",
       "\\item WT-NC\n",
       "\\item WT-NC\n",
       "\\item WT-NC\n",
       "\\end{enumerate*}\n",
       "\n",
       "\\emph{Levels}: \\begin{enumerate*}\n",
       "\\item 'KO-CLP'\n",
       "\\item 'KO-NC'\n",
       "\\item 'WT-CLP'\n",
       "\\item 'WT-NC'\n",
       "\\end{enumerate*}\n"
      ],
      "text/markdown": [
       "1. KO-CLP\n",
       "2. KO-CLP\n",
       "3. KO-CLP\n",
       "4. KO-CLP\n",
       "5. KO-CLP\n",
       "6. KO-CLP\n",
       "7. KO-CLP\n",
       "8. KO-CLP\n",
       "9. KO-NC\n",
       "10. KO-NC\n",
       "11. KO-NC\n",
       "12. KO-NC\n",
       "13. KO-NC\n",
       "14. KO-NC\n",
       "15. KO-NC\n",
       "16. KO-NC\n",
       "17. WT-CLP\n",
       "18. WT-CLP\n",
       "19. WT-CLP\n",
       "20. WT-CLP\n",
       "21. WT-CLP\n",
       "22. WT-CLP\n",
       "23. WT-CLP\n",
       "24. WT-CLP\n",
       "25. WT-NC\n",
       "26. WT-NC\n",
       "27. WT-NC\n",
       "28. WT-NC\n",
       "29. WT-NC\n",
       "30. WT-NC\n",
       "31. WT-NC\n",
       "32. WT-NC\n",
       "\n",
       "\n",
       "\n",
       "**Levels**: 1. 'KO-CLP'\n",
       "2. 'KO-NC'\n",
       "3. 'WT-CLP'\n",
       "4. 'WT-NC'\n",
       "\n",
       "\n"
      ],
      "text/plain": [
       " [1] KO-CLP KO-CLP KO-CLP KO-CLP KO-CLP KO-CLP KO-CLP KO-CLP KO-NC  KO-NC \n",
       "[11] KO-NC  KO-NC  KO-NC  KO-NC  KO-NC  KO-NC  WT-CLP WT-CLP WT-CLP WT-CLP\n",
       "[21] WT-CLP WT-CLP WT-CLP WT-CLP WT-NC  WT-NC  WT-NC  WT-NC  WT-NC  WT-NC \n",
       "[31] WT-NC  WT-NC \n",
       "Levels: KO-CLP KO-NC WT-CLP WT-NC"
      ]
     },
     "metadata": {},
     "output_type": "display_data"
    }
   ],
   "source": [
    "data1$Group"
   ]
  },
  {
   "cell_type": "code",
   "execution_count": 223,
   "id": "800d3985-e361-4adb-b360-ebf5838faa7a",
   "metadata": {},
   "outputs": [],
   "source": [
    "data1 = data1 %>% filter(Group %in% c('KO-CLP','WT-CLP'))"
   ]
  },
  {
   "cell_type": "code",
   "execution_count": 224,
   "id": "89f62755-70fe-47f7-a1de-c7094deae05f",
   "metadata": {
    "scrolled": true
   },
   "outputs": [],
   "source": [
    "diff <- data1 %>%\n",
    "    select_if(is.numeric) %>%\n",
    "    map_df(~ broom::tidy(t.test(. ~ Group,data = data1)), .id = 'var')"
   ]
  },
  {
   "cell_type": "code",
   "execution_count": 225,
   "id": "38442e5c-8f7b-472f-bced-d33dc597b483",
   "metadata": {},
   "outputs": [],
   "source": [
    "diff$p.value <- p.adjust(diff$p.value,\"BH\")"
   ]
  },
  {
   "cell_type": "code",
   "execution_count": 226,
   "id": "5df10e5e-30bd-40e3-a8de-551d2b21ae04",
   "metadata": {},
   "outputs": [],
   "source": [
    "diff <- diff %>% filter(p.value < 0.05)"
   ]
  },
  {
   "cell_type": "code",
   "execution_count": 227,
   "id": "695611c8-0d5b-4586-8faf-a136769f018f",
   "metadata": {},
   "outputs": [
    {
     "name": "stderr",
     "output_type": "stream",
     "text": [
      "\u001b[1m\u001b[22m`summarise()` has grouped output by 'variable'. You can override using the\n",
      "`.groups` argument.\n"
     ]
    }
   ],
   "source": [
    "abun.bar <- data1[,c(diff$var,\"Group\")] %>%\n",
    "    gather(variable,value,-Group) %>%\n",
    "    group_by(variable,Group) %>%\n",
    "    summarise(Mean = mean(value))"
   ]
  },
  {
   "cell_type": "code",
   "execution_count": 228,
   "id": "f052b520-5017-4fb8-b54d-e0249cda35b1",
   "metadata": {},
   "outputs": [],
   "source": [
    "diff.mean <- diff[,c(\"var\",\"estimate\",\"conf.low\",\"conf.high\",\"p.value\")]\n",
    "diff.mean$Group <- c(ifelse(diff.mean$estimate >0,levels(data1$Group)[1],\n",
    "                            levels(data1$Group)[2]))\n",
    "diff.mean <- diff.mean[order(diff.mean$estimate,decreasing = TRUE),]"
   ]
  },
  {
   "cell_type": "code",
   "execution_count": 229,
   "id": "ea8f18d3-b84b-4fbd-a333-89ed5f74b739",
   "metadata": {},
   "outputs": [],
   "source": [
    "library(ggplot2)\n",
    "cbbPalette <- c(\"#E69F00\", \"#56B4E9\")\n",
    "abun.bar$variable <- factor(abun.bar$variable,levels = rev(diff.mean$var))"
   ]
  },
  {
   "cell_type": "code",
   "execution_count": 230,
   "id": "982b6a2a-5e94-4e0b-9cb5-34dbe21c73ae",
   "metadata": {},
   "outputs": [],
   "source": [
    "p1 <- ggplot(abun.bar,aes(variable,Mean,fill = Group)) +\n",
    "    scale_x_discrete(limits = levels(diff.mean$var)) +\n",
    "    coord_flip() +\n",
    "    xlab(\"\") +\n",
    "    ylab(\"Mean proportion (%)\") +\n",
    "    theme(panel.background = element_rect(fill = 'transparent'),\n",
    "          panel.grid = element_blank(),\n",
    "          axis.ticks.length = unit(0.4,\"lines\"),\n",
    "          axis.ticks = element_line(color='black'),\n",
    "          axis.line = element_line(colour = \"black\"),\n",
    "          axis.title.x=element_text(colour='black', size=12,face = \"bold\"),\n",
    "          axis.text=element_text(colour='black',size=10,face = \"bold\"),\n",
    "          legend.title=element_blank(),\n",
    "          legend.text=element_text(size=12,face = \"bold\",colour = \"black\",\n",
    "                                   margin = margin(r = 20)),\n",
    "          legend.position = c(-1,-0.1),\n",
    "          legend.direction = \"horizontal\",\n",
    "          legend.key.width = unit(0.8,\"cm\"),\n",
    "          legend.key.height = unit(0.5,\"cm\"))\n",
    "for (i in 1:(nrow(diff.mean) - 1))\n",
    "    p1 <- p1 + annotate('rect', xmin = i+0.5, xmax = i+1.5, ymin = -Inf, ymax = Inf,\n",
    "                        fill = ifelse(i %% 2 == 0, 'white', 'gray95'))\n",
    " \n",
    "p1 <- p1 +\n",
    "    geom_bar(stat = \"identity\",position = \"dodge\",width = 0.7,colour = \"black\") +\n",
    "    scale_fill_manual(values=cbbPalette)"
   ]
  },
  {
   "cell_type": "code",
   "execution_count": 231,
   "id": "81b6e090-78fd-4f2a-8108-a3564903b167",
   "metadata": {},
   "outputs": [],
   "source": [
    "options(repr.plot.height = 4,repr.plot.width = 12)"
   ]
  },
  {
   "cell_type": "code",
   "execution_count": 232,
   "id": "1feb17c0-f648-4c42-8b95-e6df2dc22ed5",
   "metadata": {},
   "outputs": [
    {
     "data": {
      "text/html": [
       "<table class=\"dataframe\">\n",
       "<caption>A grouped_df: 10 × 3</caption>\n",
       "<thead>\n",
       "\t<tr><th scope=col>variable</th><th scope=col>Group</th><th scope=col>Mean</th></tr>\n",
       "\t<tr><th scope=col>&lt;fct&gt;</th><th scope=col>&lt;fct&gt;</th><th scope=col>&lt;dbl&gt;</th></tr>\n",
       "</thead>\n",
       "<tbody>\n",
       "\t<tr><td>L-arginine biosynthesis IV (archaebacteria)        </td><td>KO-CLP</td><td>16083.9750</td></tr>\n",
       "\t<tr><td>L-arginine biosynthesis IV (archaebacteria)        </td><td>WT-CLP</td><td> 8051.5887</td></tr>\n",
       "\t<tr><td>anhydromuropeptides recycling I                    </td><td>KO-CLP</td><td> 5040.6875</td></tr>\n",
       "\t<tr><td>anhydromuropeptides recycling I                    </td><td>WT-CLP</td><td> 1203.8569</td></tr>\n",
       "\t<tr><td>gluconeogenesis III                                </td><td>KO-CLP</td><td> 2916.5200</td></tr>\n",
       "\t<tr><td>gluconeogenesis III                                </td><td>WT-CLP</td><td> 8217.6663</td></tr>\n",
       "\t<tr><td>incomplete reductive TCA cycle                     </td><td>KO-CLP</td><td>  980.8178</td></tr>\n",
       "\t<tr><td>incomplete reductive TCA cycle                     </td><td>WT-CLP</td><td> 3200.9175</td></tr>\n",
       "\t<tr><td>superpathway of L-serine and glycine biosynthesis I</td><td>KO-CLP</td><td>18462.1500</td></tr>\n",
       "\t<tr><td>superpathway of L-serine and glycine biosynthesis I</td><td>WT-CLP</td><td>13440.9750</td></tr>\n",
       "</tbody>\n",
       "</table>\n"
      ],
      "text/latex": [
       "A grouped\\_df: 10 × 3\n",
       "\\begin{tabular}{lll}\n",
       " variable & Group & Mean\\\\\n",
       " <fct> & <fct> & <dbl>\\\\\n",
       "\\hline\n",
       "\t L-arginine biosynthesis IV (archaebacteria)         & KO-CLP & 16083.9750\\\\\n",
       "\t L-arginine biosynthesis IV (archaebacteria)         & WT-CLP &  8051.5887\\\\\n",
       "\t anhydromuropeptides recycling I                     & KO-CLP &  5040.6875\\\\\n",
       "\t anhydromuropeptides recycling I                     & WT-CLP &  1203.8569\\\\\n",
       "\t gluconeogenesis III                                 & KO-CLP &  2916.5200\\\\\n",
       "\t gluconeogenesis III                                 & WT-CLP &  8217.6663\\\\\n",
       "\t incomplete reductive TCA cycle                      & KO-CLP &   980.8178\\\\\n",
       "\t incomplete reductive TCA cycle                      & WT-CLP &  3200.9175\\\\\n",
       "\t superpathway of L-serine and glycine biosynthesis I & KO-CLP & 18462.1500\\\\\n",
       "\t superpathway of L-serine and glycine biosynthesis I & WT-CLP & 13440.9750\\\\\n",
       "\\end{tabular}\n"
      ],
      "text/markdown": [
       "\n",
       "A grouped_df: 10 × 3\n",
       "\n",
       "| variable &lt;fct&gt; | Group &lt;fct&gt; | Mean &lt;dbl&gt; |\n",
       "|---|---|---|\n",
       "| L-arginine biosynthesis IV (archaebacteria)         | KO-CLP | 16083.9750 |\n",
       "| L-arginine biosynthesis IV (archaebacteria)         | WT-CLP |  8051.5887 |\n",
       "| anhydromuropeptides recycling I                     | KO-CLP |  5040.6875 |\n",
       "| anhydromuropeptides recycling I                     | WT-CLP |  1203.8569 |\n",
       "| gluconeogenesis III                                 | KO-CLP |  2916.5200 |\n",
       "| gluconeogenesis III                                 | WT-CLP |  8217.6663 |\n",
       "| incomplete reductive TCA cycle                      | KO-CLP |   980.8178 |\n",
       "| incomplete reductive TCA cycle                      | WT-CLP |  3200.9175 |\n",
       "| superpathway of L-serine and glycine biosynthesis I | KO-CLP | 18462.1500 |\n",
       "| superpathway of L-serine and glycine biosynthesis I | WT-CLP | 13440.9750 |\n",
       "\n"
      ],
      "text/plain": [
       "   variable                                            Group  Mean      \n",
       "1  L-arginine biosynthesis IV (archaebacteria)         KO-CLP 16083.9750\n",
       "2  L-arginine biosynthesis IV (archaebacteria)         WT-CLP  8051.5887\n",
       "3  anhydromuropeptides recycling I                     KO-CLP  5040.6875\n",
       "4  anhydromuropeptides recycling I                     WT-CLP  1203.8569\n",
       "5  gluconeogenesis III                                 KO-CLP  2916.5200\n",
       "6  gluconeogenesis III                                 WT-CLP  8217.6663\n",
       "7  incomplete reductive TCA cycle                      KO-CLP   980.8178\n",
       "8  incomplete reductive TCA cycle                      WT-CLP  3200.9175\n",
       "9  superpathway of L-serine and glycine biosynthesis I KO-CLP 18462.1500\n",
       "10 superpathway of L-serine and glycine biosynthesis I WT-CLP 13440.9750"
      ]
     },
     "metadata": {},
     "output_type": "display_data"
    }
   ],
   "source": [
    "abun.bar"
   ]
  },
  {
   "cell_type": "code",
   "execution_count": 233,
   "id": "4c29a9b6-5041-4b5c-9a1d-abb0ee0643d5",
   "metadata": {},
   "outputs": [
    {
     "data": {
      "image/png": "[encoded data removed]",
      "text/plain": [
       "plot without title"
      ]
     },
     "metadata": {
      "image/png": {
       "height": 240,
       "width": 720
      }
     },
     "output_type": "display_data"
    }
   ],
   "source": [
    "p1"
   ]
  },
  {
   "cell_type": "code",
   "execution_count": 234,
   "id": "419f87c7-c768-4951-b4e3-5708cf649d29",
   "metadata": {},
   "outputs": [],
   "source": [
    "diff.mean$var <- factor(diff.mean$var,levels = levels(abun.bar$variable))\n",
    "diff.mean$p.value <- signif(diff.mean$p.value,3)\n",
    "diff.mean$p.value <- as.character(diff.mean$p.value)"
   ]
  },
  {
   "cell_type": "code",
   "execution_count": 235,
   "id": "b6a8944e-3069-4204-a270-7c91357b7cd1",
   "metadata": {},
   "outputs": [],
   "source": [
    "p2 <- ggplot(diff.mean,aes(var,estimate,fill = Group)) +\n",
    "    theme(panel.background = element_rect(fill = 'transparent'),\n",
    "          panel.grid = element_blank(),\n",
    "          axis.ticks.length = unit(0.4,\"lines\"),\n",
    "          axis.ticks = element_line(color='black'),\n",
    "          axis.line = element_line(colour = \"black\"),\n",
    "          axis.title.x=element_text(colour='black', size=12,face = \"bold\"),\n",
    "          axis.text=element_text(colour='black',size=10,face = \"bold\"),\n",
    "          axis.text.y = element_blank(),\n",
    "          legend.position = \"none\",\n",
    "          axis.line.y = element_blank(),\n",
    "          axis.ticks.y = element_blank(),\n",
    "          plot.title = element_text(size = 15,face = \"bold\",colour = \"black\",hjust = 0.5)) +\n",
    "    scale_x_discrete(limits = levels(diff.mean$var)) +\n",
    "    coord_flip() +\n",
    "    xlab(\"\") +\n",
    "    ylab(\"Difference in mean proportions (%)\") +\n",
    "    labs(title=\"95% confidence intervals\")\n",
    " \n",
    "for (i in 1:(nrow(diff.mean) - 1))\n",
    "    p2 <- p2 + annotate('rect', xmin = i+0.5, xmax = i+1.5, ymin = -Inf, ymax = Inf,\n",
    "                        fill = ifelse(i %% 2 == 0, 'white', 'gray95'))\n",
    " \n",
    "p2 <- p2 +\n",
    "    geom_errorbar(aes(ymin = conf.low, ymax = conf.high),\n",
    "                  position = position_dodge(0.8), width = 0.5, size = 0.5) +\n",
    "    geom_point(shape = 21,size = 3) +\n",
    "    scale_fill_manual(values=cbbPalette) +\n",
    "    geom_hline(aes(yintercept = 0), linetype = 'dashed', color = 'black')"
   ]
  },
  {
   "cell_type": "code",
   "execution_count": 236,
   "id": "832fd98a-f51f-4a07-94c6-dd06093dcf22",
   "metadata": {},
   "outputs": [
    {
     "data": {
      "image/png": "[encoded data removed]",
      "text/plain": [
       "plot without title"
      ]
     },
     "metadata": {
      "image/png": {
       "height": 240,
       "width": 720
      }
     },
     "output_type": "display_data"
    }
   ],
   "source": [
    "p2"
   ]
  },
  {
   "cell_type": "code",
   "execution_count": 237,
   "id": "80202332-e340-4f5a-9c3c-57c1bad4c284",
   "metadata": {},
   "outputs": [],
   "source": [
    "p3 <- ggplot(diff.mean,aes(var,estimate,fill = Group)) +\n",
    "    geom_text(aes(y = 0,x = var),label = diff.mean$p.value,\n",
    "              hjust = 0,fontface = \"bold\",inherit.aes = FALSE,size = 3) +\n",
    "    geom_text(aes(x = nrow(diff.mean)/2 +0.5,y = 0.85),label = \"P-value (corrected)\",\n",
    "             srt = 90,fontface = \"bold\",size = 5) +\n",
    "    coord_flip() +\n",
    "    ylim(c(0,1)) +\n",
    "    theme(panel.background = element_blank(),\n",
    "          panel.grid = element_blank(),\n",
    "          axis.line = element_blank(),\n",
    "          axis.ticks = element_blank(),\n",
    "          axis.text = element_blank(),\n",
    "          axis.title = element_blank())"
   ]
  },
  {
   "cell_type": "code",
   "execution_count": 238,
   "id": "a6e339ba-31cc-4b32-9df7-3226fca0e134",
   "metadata": {},
   "outputs": [],
   "source": [
    "library(patchwork)\n",
    "p <- p1 + p2 + p3 + plot_layout(widths = c(4,6,2))"
   ]
  },
  {
   "cell_type": "code",
   "execution_count": 239,
   "id": "d207620b-ec7e-4aa4-8375-d53e23e28cd8",
   "metadata": {},
   "outputs": [
    {
     "data": {
      "image/png": "[encoded data removed]",
      "text/plain": [
       "plot without title"
      ]
     },
     "metadata": {
      "image/png": {
       "height": 240,
       "width": 720
      }
     },
     "output_type": "display_data"
    }
   ],
   "source": [
    "p"
   ]
  },
  {
   "cell_type": "code",
   "execution_count": 256,
   "id": "98cca698-f58a-482e-b0aa-41f44d1c9c3d",
   "metadata": {},
   "outputs": [
    {
     "name": "stdout",
     "output_type": "stream",
     "text": [
      "[1] \"dir exists\"\n"
     ]
    }
   ],
   "source": [
    "outdir = paste(getwd(),\"humann_result\",sep = \"/\")\n",
    "if(dir.exists(outdir)){\n",
    "  print(\"dir exists\")\n",
    "}else{\n",
    "  dir.create(outdir)\n",
    "}"
   ]
  },
  {
   "cell_type": "code",
   "execution_count": 257,
   "id": "d6552a73-ffef-4e76-bc04-ebfb1897ba68",
   "metadata": {},
   "outputs": [],
   "source": [
    "ggsave(paste0(outdir,'/',\"stamp-KO-CLPvsWT-CLP.pdf\"),p,width = 12,height = 4)"
   ]
  },
  {
   "cell_type": "code",
   "execution_count": 258,
   "id": "127a34c9-0b74-4579-bc6c-eafbb9dbfcc7",
   "metadata": {},
   "outputs": [],
   "source": [
    "write.csv(diff.mean,file = paste0(outdir,'/',\"stamp-KO-CLPvsWT-CLP.csv\"))"
   ]
  },
  {
   "cell_type": "code",
   "execution_count": 240,
   "id": "d5be128c-a112-4d43-b067-002cfcb51b3e",
   "metadata": {},
   "outputs": [],
   "source": [
    "kind = c('g__Akkermansia.s__Akkermansia_muciniphila',\n",
    "'g__Bacteroides.s__Bacteroides_caecimuris',\n",
    "'g__Helicobacter.s__Helicobacter_hepaticus',\n",
    "'g__Acutalibacter.s__Acutalibacter_muris',\n",
    "'g__Lachnoclostridium.s__Lachnoclostridium_sp. YL32'\n",
    ")\n",
    "\n",
    "bad = c('g__Muribaculum.s__Muribaculum_sp. TLL-A4',\n",
    "'g__Muribaculum.s__Muribaculum_sp. H5',\n",
    "'g__Muribaculum.s__Muribaculum_intestinale',\n",
    "'g__Duncaniella.s__Duncaniella_sp. B8',\n",
    "'g__Lactobacillus.s__Lactobacillus_murinus'\n",
    ")"
   ]
  },
  {
   "cell_type": "code",
   "execution_count": 246,
   "id": "3e71e340-df2c-498f-9946-858a3da06ada",
   "metadata": {},
   "outputs": [],
   "source": [
    "humann = read.table(\"./5.metacyc/humann2_final_out/humann2_pathabundance_cpm_stratified.tsv\", header=T, sep=\"\\t\")"
   ]
  },
  {
   "cell_type": "code",
   "execution_count": 247,
   "id": "a8d85043-fced-4cab-92ff-948a3b9756c4",
   "metadata": {},
   "outputs": [
    {
     "data": {
      "text/html": [
       "<table class=\"dataframe\">\n",
       "<caption>A data.frame: 6 × 33</caption>\n",
       "<thead>\n",
       "\t<tr><th></th><th scope=col>Pathway</th><th scope=col>KO.CLP1_paired_Abundance</th><th scope=col>KO.CLP2_paired_Abundance</th><th scope=col>KO.CLP3_paired_Abundance</th><th scope=col>KO.CLP4_paired_Abundance</th><th scope=col>KO.CLP5_paired_Abundance</th><th scope=col>KO.CLP6_paired_Abundance</th><th scope=col>KO.CLP7_paired_Abundance</th><th scope=col>KO.CLP8_paired_Abundance</th><th scope=col>KO.NC1_paired_Abundance</th><th scope=col>⋯</th><th scope=col>WT.CLP7_paired_Abundance</th><th scope=col>WT.CLP8_paired_Abundance</th><th scope=col>WT.NC1_paired_Abundance</th><th scope=col>WT.NC2_paired_Abundance</th><th scope=col>WT.NC3_paired_Abundance</th><th scope=col>WT.NC4_paired_Abundance</th><th scope=col>WT.NC5_paired_Abundance</th><th scope=col>WT.NC6_paired_Abundance</th><th scope=col>WT.NC7_paired_Abundance</th><th scope=col>WT.NC8_paired_Abundance</th></tr>\n",
       "\t<tr><th></th><th scope=col>&lt;chr&gt;</th><th scope=col>&lt;dbl&gt;</th><th scope=col>&lt;dbl&gt;</th><th scope=col>&lt;dbl&gt;</th><th scope=col>&lt;dbl&gt;</th><th scope=col>&lt;dbl&gt;</th><th scope=col>&lt;dbl&gt;</th><th scope=col>&lt;dbl&gt;</th><th scope=col>&lt;dbl&gt;</th><th scope=col>&lt;dbl&gt;</th><th scope=col>⋯</th><th scope=col>&lt;dbl&gt;</th><th scope=col>&lt;dbl&gt;</th><th scope=col>&lt;dbl&gt;</th><th scope=col>&lt;dbl&gt;</th><th scope=col>&lt;dbl&gt;</th><th scope=col>&lt;dbl&gt;</th><th scope=col>&lt;dbl&gt;</th><th scope=col>&lt;dbl&gt;</th><th scope=col>&lt;dbl&gt;</th><th scope=col>&lt;dbl&gt;</th></tr>\n",
       "</thead>\n",
       "<tbody>\n",
       "\t<tr><th scope=row>1</th><td>UNINTEGRATED|g__Acetatifactor.s__Acetatifactor_muris        </td><td>     0.00</td><td>    0.0</td><td>     0.00</td><td>    0.0</td><td>    0.00</td><td>    0.00</td><td>    0.00</td><td>    0.00</td><td>    0.00</td><td>⋯</td><td>    0.00</td><td>    0.0000</td><td>    0.00</td><td>    0.00</td><td>    0.00</td><td> 1573.790</td><td>    0.00</td><td>    0.0</td><td>    0.00</td><td>    0.00</td></tr>\n",
       "\t<tr><th scope=row>2</th><td>UNINTEGRATED|g__Acutalibacter.s__Acutalibacter_muris        </td><td> 12258.30</td><td> 1902.6</td><td>     0.00</td><td>    0.0</td><td> 3832.19</td><td> 3199.64</td><td> 3788.98</td><td> 8420.17</td><td> 2376.47</td><td>⋯</td><td> 3082.63</td><td> 3455.2800</td><td> 2841.49</td><td>    0.00</td><td> 4096.52</td><td>    0.000</td><td> 5061.63</td><td>    0.0</td><td>    0.00</td><td> 2643.67</td></tr>\n",
       "\t<tr><th scope=row>3</th><td>UNINTEGRATED|g__Adlercreutzia.s__Adlercreutzia_equolifaciens</td><td>     0.00</td><td>    0.0</td><td>     0.00</td><td>    0.0</td><td>    0.00</td><td>    0.00</td><td>    0.00</td><td>    0.00</td><td>    0.00</td><td>⋯</td><td>    0.00</td><td>   68.5933</td><td>    0.00</td><td>    0.00</td><td>    0.00</td><td>    0.000</td><td>    0.00</td><td>    0.0</td><td>    0.00</td><td>    0.00</td></tr>\n",
       "\t<tr><th scope=row>4</th><td>UNINTEGRATED|g__Akkermansia.s__Akkermansia_muciniphila      </td><td>148749.00</td><td>65341.4</td><td>136873.00</td><td>21690.4</td><td>14989.80</td><td>20072.50</td><td>13172.80</td><td>10423.50</td><td>18045.20</td><td>⋯</td><td>43204.60</td><td>40833.3000</td><td> 5396.52</td><td>26488.70</td><td> 9310.22</td><td>  950.967</td><td> 2777.50</td><td>16631.1</td><td> 4168.14</td><td> 3111.35</td></tr>\n",
       "\t<tr><th scope=row>5</th><td>UNINTEGRATED|g__Anaerotruncus.s__Anaerotruncus_sp_G3_2012   </td><td>  5824.46</td><td> 5953.5</td><td>  2870.63</td><td>    0.0</td><td> 3552.73</td><td> 5279.45</td><td> 6854.57</td><td>    0.00</td><td>    0.00</td><td>⋯</td><td> 5576.75</td><td> 5240.6900</td><td>12379.90</td><td> 7129.53</td><td>24142.50</td><td>15725.700</td><td>19704.20</td><td>17304.0</td><td>14886.10</td><td>13430.80</td></tr>\n",
       "\t<tr><th scope=row>6</th><td>UNINTEGRATED|g__Asaccharobacter.s__Asaccharobacter_celatus  </td><td>     0.00</td><td>    0.0</td><td>     0.00</td><td>    0.0</td><td>    0.00</td><td>    0.00</td><td>    0.00</td><td>    0.00</td><td>    0.00</td><td>⋯</td><td>    0.00</td><td>  127.3230</td><td>    0.00</td><td>    0.00</td><td>    0.00</td><td>    0.000</td><td>    0.00</td><td>    0.0</td><td>    0.00</td><td>    0.00</td></tr>\n",
       "</tbody>\n",
       "</table>\n"
      ],
      "text/latex": [
       "A data.frame: 6 × 33\n",
       "\\begin{tabular}{r|lllllllllllllllllllll}\n",
       "  & Pathway & KO.CLP1\\_paired\\_Abundance & KO.CLP2\\_paired\\_Abundance & KO.CLP3\\_paired\\_Abundance & KO.CLP4\\_paired\\_Abundance & KO.CLP5\\_paired\\_Abundance & KO.CLP6\\_paired\\_Abundance & KO.CLP7\\_paired\\_Abundance & KO.CLP8\\_paired\\_Abundance & KO.NC1\\_paired\\_Abundance & ⋯ & WT.CLP7\\_paired\\_Abundance & WT.CLP8\\_paired\\_Abundance & WT.NC1\\_paired\\_Abundance & WT.NC2\\_paired\\_Abundance & WT.NC3\\_paired\\_Abundance & WT.NC4\\_paired\\_Abundance & WT.NC5\\_paired\\_Abundance & WT.NC6\\_paired\\_Abundance & WT.NC7\\_paired\\_Abundance & WT.NC8\\_paired\\_Abundance\\\\\n",
       "  & <chr> & <dbl> & <dbl> & <dbl> & <dbl> & <dbl> & <dbl> & <dbl> & <dbl> & <dbl> & ⋯ & <dbl> & <dbl> & <dbl> & <dbl> & <dbl> & <dbl> & <dbl> & <dbl> & <dbl> & <dbl>\\\\\n",
       "\\hline\n",
       "\t1 & UNINTEGRATED\\textbar{}g\\_\\_Acetatifactor.s\\_\\_Acetatifactor\\_muris         &      0.00 &     0.0 &      0.00 &     0.0 &     0.00 &     0.00 &     0.00 &     0.00 &     0.00 & ⋯ &     0.00 &     0.0000 &     0.00 &     0.00 &     0.00 &  1573.790 &     0.00 &     0.0 &     0.00 &     0.00\\\\\n",
       "\t2 & UNINTEGRATED\\textbar{}g\\_\\_Acutalibacter.s\\_\\_Acutalibacter\\_muris         &  12258.30 &  1902.6 &      0.00 &     0.0 &  3832.19 &  3199.64 &  3788.98 &  8420.17 &  2376.47 & ⋯ &  3082.63 &  3455.2800 &  2841.49 &     0.00 &  4096.52 &     0.000 &  5061.63 &     0.0 &     0.00 &  2643.67\\\\\n",
       "\t3 & UNINTEGRATED\\textbar{}g\\_\\_Adlercreutzia.s\\_\\_Adlercreutzia\\_equolifaciens &      0.00 &     0.0 &      0.00 &     0.0 &     0.00 &     0.00 &     0.00 &     0.00 &     0.00 & ⋯ &     0.00 &    68.5933 &     0.00 &     0.00 &     0.00 &     0.000 &     0.00 &     0.0 &     0.00 &     0.00\\\\\n",
       "\t4 & UNINTEGRATED\\textbar{}g\\_\\_Akkermansia.s\\_\\_Akkermansia\\_muciniphila       & 148749.00 & 65341.4 & 136873.00 & 21690.4 & 14989.80 & 20072.50 & 13172.80 & 10423.50 & 18045.20 & ⋯ & 43204.60 & 40833.3000 &  5396.52 & 26488.70 &  9310.22 &   950.967 &  2777.50 & 16631.1 &  4168.14 &  3111.35\\\\\n",
       "\t5 & UNINTEGRATED\\textbar{}g\\_\\_Anaerotruncus.s\\_\\_Anaerotruncus\\_sp\\_G3\\_2012    &   5824.46 &  5953.5 &   2870.63 &     0.0 &  3552.73 &  5279.45 &  6854.57 &     0.00 &     0.00 & ⋯ &  5576.75 &  5240.6900 & 12379.90 &  7129.53 & 24142.50 & 15725.700 & 19704.20 & 17304.0 & 14886.10 & 13430.80\\\\\n",
       "\t6 & UNINTEGRATED\\textbar{}g\\_\\_Asaccharobacter.s\\_\\_Asaccharobacter\\_celatus   &      0.00 &     0.0 &      0.00 &     0.0 &     0.00 &     0.00 &     0.00 &     0.00 &     0.00 & ⋯ &     0.00 &   127.3230 &     0.00 &     0.00 &     0.00 &     0.000 &     0.00 &     0.0 &     0.00 &     0.00\\\\\n",
       "\\end{tabular}\n"
      ],
      "text/markdown": [
       "\n",
       "A data.frame: 6 × 33\n",
       "\n",
       "| <!--/--> | Pathway &lt;chr&gt; | KO.CLP1_paired_Abundance &lt;dbl&gt; | KO.CLP2_paired_Abundance &lt;dbl&gt; | KO.CLP3_paired_Abundance &lt;dbl&gt; | KO.CLP4_paired_Abundance &lt;dbl&gt; | KO.CLP5_paired_Abundance &lt;dbl&gt; | KO.CLP6_paired_Abundance &lt;dbl&gt; | KO.CLP7_paired_Abundance &lt;dbl&gt; | KO.CLP8_paired_Abundance &lt;dbl&gt; | KO.NC1_paired_Abundance &lt;dbl&gt; | ⋯ ⋯ | WT.CLP7_paired_Abundance &lt;dbl&gt; | WT.CLP8_paired_Abundance &lt;dbl&gt; | WT.NC1_paired_Abundance &lt;dbl&gt; | WT.NC2_paired_Abundance &lt;dbl&gt; | WT.NC3_paired_Abundance &lt;dbl&gt; | WT.NC4_paired_Abundance &lt;dbl&gt; | WT.NC5_paired_Abundance &lt;dbl&gt; | WT.NC6_paired_Abundance &lt;dbl&gt; | WT.NC7_paired_Abundance &lt;dbl&gt; | WT.NC8_paired_Abundance &lt;dbl&gt; |\n",
       "|---|---|---|---|---|---|---|---|---|---|---|---|---|---|---|---|---|---|---|---|---|---|\n",
       "| 1 | UNINTEGRATED|g__Acetatifactor.s__Acetatifactor_muris         |      0.00 |     0.0 |      0.00 |     0.0 |     0.00 |     0.00 |     0.00 |     0.00 |     0.00 | ⋯ |     0.00 |     0.0000 |     0.00 |     0.00 |     0.00 |  1573.790 |     0.00 |     0.0 |     0.00 |     0.00 |\n",
       "| 2 | UNINTEGRATED|g__Acutalibacter.s__Acutalibacter_muris         |  12258.30 |  1902.6 |      0.00 |     0.0 |  3832.19 |  3199.64 |  3788.98 |  8420.17 |  2376.47 | ⋯ |  3082.63 |  3455.2800 |  2841.49 |     0.00 |  4096.52 |     0.000 |  5061.63 |     0.0 |     0.00 |  2643.67 |\n",
       "| 3 | UNINTEGRATED|g__Adlercreutzia.s__Adlercreutzia_equolifaciens |      0.00 |     0.0 |      0.00 |     0.0 |     0.00 |     0.00 |     0.00 |     0.00 |     0.00 | ⋯ |     0.00 |    68.5933 |     0.00 |     0.00 |     0.00 |     0.000 |     0.00 |     0.0 |     0.00 |     0.00 |\n",
       "| 4 | UNINTEGRATED|g__Akkermansia.s__Akkermansia_muciniphila       | 148749.00 | 65341.4 | 136873.00 | 21690.4 | 14989.80 | 20072.50 | 13172.80 | 10423.50 | 18045.20 | ⋯ | 43204.60 | 40833.3000 |  5396.52 | 26488.70 |  9310.22 |   950.967 |  2777.50 | 16631.1 |  4168.14 |  3111.35 |\n",
       "| 5 | UNINTEGRATED|g__Anaerotruncus.s__Anaerotruncus_sp_G3_2012    |   5824.46 |  5953.5 |   2870.63 |     0.0 |  3552.73 |  5279.45 |  6854.57 |     0.00 |     0.00 | ⋯ |  5576.75 |  5240.6900 | 12379.90 |  7129.53 | 24142.50 | 15725.700 | 19704.20 | 17304.0 | 14886.10 | 13430.80 |\n",
       "| 6 | UNINTEGRATED|g__Asaccharobacter.s__Asaccharobacter_celatus   |      0.00 |     0.0 |      0.00 |     0.0 |     0.00 |     0.00 |     0.00 |     0.00 |     0.00 | ⋯ |     0.00 |   127.3230 |     0.00 |     0.00 |     0.00 |     0.000 |     0.00 |     0.0 |     0.00 |     0.00 |\n",
       "\n"
      ],
      "text/plain": [
       "  Pathway                                                     \n",
       "1 UNINTEGRATED|g__Acetatifactor.s__Acetatifactor_muris        \n",
       "2 UNINTEGRATED|g__Acutalibacter.s__Acutalibacter_muris        \n",
       "3 UNINTEGRATED|g__Adlercreutzia.s__Adlercreutzia_equolifaciens\n",
       "4 UNINTEGRATED|g__Akkermansia.s__Akkermansia_muciniphila      \n",
       "5 UNINTEGRATED|g__Anaerotruncus.s__Anaerotruncus_sp_G3_2012   \n",
       "6 UNINTEGRATED|g__Asaccharobacter.s__Asaccharobacter_celatus  \n",
       "  KO.CLP1_paired_Abundance KO.CLP2_paired_Abundance KO.CLP3_paired_Abundance\n",
       "1      0.00                    0.0                       0.00               \n",
       "2  12258.30                 1902.6                       0.00               \n",
       "3      0.00                    0.0                       0.00               \n",
       "4 148749.00                65341.4                  136873.00               \n",
       "5   5824.46                 5953.5                    2870.63               \n",
       "6      0.00                    0.0                       0.00               \n",
       "  KO.CLP4_paired_Abundance KO.CLP5_paired_Abundance KO.CLP6_paired_Abundance\n",
       "1     0.0                      0.00                     0.00                \n",
       "2     0.0                   3832.19                  3199.64                \n",
       "3     0.0                      0.00                     0.00                \n",
       "4 21690.4                  14989.80                 20072.50                \n",
       "5     0.0                   3552.73                  5279.45                \n",
       "6     0.0                      0.00                     0.00                \n",
       "  KO.CLP7_paired_Abundance KO.CLP8_paired_Abundance KO.NC1_paired_Abundance ⋯\n",
       "1     0.00                     0.00                     0.00                ⋯\n",
       "2  3788.98                  8420.17                  2376.47                ⋯\n",
       "3     0.00                     0.00                     0.00                ⋯\n",
       "4 13172.80                 10423.50                 18045.20                ⋯\n",
       "5  6854.57                     0.00                     0.00                ⋯\n",
       "6     0.00                     0.00                     0.00                ⋯\n",
       "  WT.CLP7_paired_Abundance WT.CLP8_paired_Abundance WT.NC1_paired_Abundance\n",
       "1     0.00                     0.0000                   0.00               \n",
       "2  3082.63                  3455.2800                2841.49               \n",
       "3     0.00                    68.5933                   0.00               \n",
       "4 43204.60                 40833.3000                5396.52               \n",
       "5  5576.75                  5240.6900               12379.90               \n",
       "6     0.00                   127.3230                   0.00               \n",
       "  WT.NC2_paired_Abundance WT.NC3_paired_Abundance WT.NC4_paired_Abundance\n",
       "1     0.00                    0.00                 1573.790              \n",
       "2     0.00                 4096.52                    0.000              \n",
       "3     0.00                    0.00                    0.000              \n",
       "4 26488.70                 9310.22                  950.967              \n",
       "5  7129.53                24142.50                15725.700              \n",
       "6     0.00                    0.00                    0.000              \n",
       "  WT.NC5_paired_Abundance WT.NC6_paired_Abundance WT.NC7_paired_Abundance\n",
       "1     0.00                    0.0                     0.00               \n",
       "2  5061.63                    0.0                     0.00               \n",
       "3     0.00                    0.0                     0.00               \n",
       "4  2777.50                16631.1                  4168.14               \n",
       "5 19704.20                17304.0                 14886.10               \n",
       "6     0.00                    0.0                     0.00               \n",
       "  WT.NC8_paired_Abundance\n",
       "1     0.00               \n",
       "2  2643.67               \n",
       "3     0.00               \n",
       "4  3111.35               \n",
       "5 13430.80               \n",
       "6     0.00               "
      ]
     },
     "metadata": {},
     "output_type": "display_data"
    }
   ],
   "source": [
    "head(humann)"
   ]
  },
  {
   "cell_type": "code",
   "execution_count": 248,
   "id": "6c8dad3e-521e-4006-a0b7-73f31695e822",
   "metadata": {
    "scrolled": true
   },
   "outputs": [
    {
     "name": "stderr",
     "output_type": "stream",
     "text": [
      "Warning message:\n",
      "“\u001b[1m\u001b[22mExpected 2 pieces. Additional pieces discarded in 20 rows [375, 376, 377, 378,\n",
      "379, 434, 435, 436, 437, 438, 439, 440, 441, 442, 443, 444, 487, 488, 519,\n",
      "520].”\n"
     ]
    }
   ],
   "source": [
    "humann %>% separate(Pathway, c(\"pathway\", \"otu\"), \"[|]\") %>% \n",
    "filter(otu %in% c(kind,bad)) -> res"
   ]
  },
  {
   "cell_type": "code",
   "execution_count": 249,
   "id": "e3e35786-ee61-4e2e-aad6-307ba5403681",
   "metadata": {},
   "outputs": [],
   "source": [
    "res = res[,c(1,2)]"
   ]
  },
  {
   "cell_type": "code",
   "execution_count": 254,
   "id": "6eca4352-0078-46a4-8c70-509d89676495",
   "metadata": {
    "scrolled": true
   },
   "outputs": [
    {
     "data": {
      "text/html": [
       "<table class=\"dataframe\">\n",
       "<caption>A data.frame: 2 × 2</caption>\n",
       "<thead>\n",
       "\t<tr><th></th><th scope=col>pathway</th><th scope=col>otu</th></tr>\n",
       "\t<tr><th></th><th scope=col>&lt;chr&gt;</th><th scope=col>&lt;chr&gt;</th></tr>\n",
       "</thead>\n",
       "<tbody>\n",
       "\t<tr><th scope=row>77</th><td>VALSYN-PWY: L-valine biosynthesis</td><td>g__Akkermansia.s__Akkermansia_muciniphila</td></tr>\n",
       "\t<tr><th scope=row>78</th><td>VALSYN-PWY: L-valine biosynthesis</td><td>g__Bacteroides.s__Bacteroides_caecimuris </td></tr>\n",
       "</tbody>\n",
       "</table>\n"
      ],
      "text/latex": [
       "A data.frame: 2 × 2\n",
       "\\begin{tabular}{r|ll}\n",
       "  & pathway & otu\\\\\n",
       "  & <chr> & <chr>\\\\\n",
       "\\hline\n",
       "\t77 & VALSYN-PWY: L-valine biosynthesis & g\\_\\_Akkermansia.s\\_\\_Akkermansia\\_muciniphila\\\\\n",
       "\t78 & VALSYN-PWY: L-valine biosynthesis & g\\_\\_Bacteroides.s\\_\\_Bacteroides\\_caecimuris \\\\\n",
       "\\end{tabular}\n"
      ],
      "text/markdown": [
       "\n",
       "A data.frame: 2 × 2\n",
       "\n",
       "| <!--/--> | pathway &lt;chr&gt; | otu &lt;chr&gt; |\n",
       "|---|---|---|\n",
       "| 77 | VALSYN-PWY: L-valine biosynthesis | g__Akkermansia.s__Akkermansia_muciniphila |\n",
       "| 78 | VALSYN-PWY: L-valine biosynthesis | g__Bacteroides.s__Bacteroides_caecimuris  |\n",
       "\n"
      ],
      "text/plain": [
       "   pathway                           otu                                      \n",
       "77 VALSYN-PWY: L-valine biosynthesis g__Akkermansia.s__Akkermansia_muciniphila\n",
       "78 VALSYN-PWY: L-valine biosynthesis g__Bacteroides.s__Bacteroides_caecimuris "
      ]
     },
     "metadata": {},
     "output_type": "display_data"
    }
   ],
   "source": [
    "tail(res,2)"
   ]
  },
  {
   "cell_type": "code",
   "execution_count": 251,
   "id": "2404d7be-c1d3-41aa-9966-f34b0746d4ce",
   "metadata": {},
   "outputs": [],
   "source": [
    "csv = merge(res,diff.mean,by.x = 'pathway',by.y = 'var')"
   ]
  },
  {
   "cell_type": "code",
   "execution_count": 117,
   "id": "d331ddd8-d20f-41b5-aa73-14daf3481cfa",
   "metadata": {},
   "outputs": [],
   "source": [
    "write.csv(csv,file = paste0(outdir,'/',\"pathway-csv.csv\"))"
   ]
  },
  {
   "cell_type": "code",
   "execution_count": null,
   "id": "22f946e8-9840-4814-a16e-d237c3c73daf",
   "metadata": {},
   "outputs": [],
   "source": []
  }
 ],
 "metadata": {
  "kernelspec": {
   "display_name": "R",
   "language": "R",
   "name": "ir"
  },
  "language_info": {
   "codemirror_mode": "r",
   "file_extension": ".r",
   "mimetype": "text/x-r-source",
   "name": "R",
   "pygments_lexer": "r",
   "version": "4.2.1"
  }
 },
 "nbformat": 4,
 "nbformat_minor": 5
}
