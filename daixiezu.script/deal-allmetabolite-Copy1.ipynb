{
 "cells": [
  {
   "cell_type": "code",
   "execution_count": 4,
   "id": "64e35994-98b5-4b2e-90a7-ba8076f79786",
   "metadata": {},
   "outputs": [],
   "source": [
    "#metebolite = read.table('./LM2021-12432-东部战区总医院-小鼠-肠道组/LM2021-12432-东部战区总医院-小鼠-肠道组织-功能脂质（项目报告）/3.Data/data.txt',check.names = F,header =T,sep = '\\t')"
   ]
  },
  {
   "cell_type": "code",
   "execution_count": 5,
   "id": "efb75e62-6c99-46b9-ae19-9f29da38a7f1",
   "metadata": {},
   "outputs": [],
   "source": [
    "metebolite = read.csv('./LM2021-12430-东部战区总医院-小鼠肠道组织//LM2021-12430-东部战区总医院-小鼠肠道组织-LCMS-EMDB(项目报告)/3.数据矩阵/metabolomics_data-new.csv',check.names = F)"
   ]
  },
  {
   "cell_type": "code",
   "execution_count": 6,
   "id": "09da7b48-6545-49f5-a021-0f9efc367313",
   "metadata": {},
   "outputs": [],
   "source": [
    "cnumber = read.csv('/data/workdirV6/cnumber.csv')"
   ]
  },
  {
   "cell_type": "code",
   "execution_count": 7,
   "id": "30d97648-ddcf-4963-ba9c-4e5c2b4fe864",
   "metadata": {},
   "outputs": [
    {
     "data": {
      "text/html": [
       "<table class=\"dataframe\">\n",
       "<caption>A data.frame: 4 × 2</caption>\n",
       "<thead>\n",
       "\t<tr><th></th><th scope=col>Metabolites</th><th scope=col>kegg</th></tr>\n",
       "\t<tr><th></th><th scope=col>&lt;chr&gt;</th><th scope=col>&lt;chr&gt;</th></tr>\n",
       "</thead>\n",
       "<tbody>\n",
       "\t<tr><th scope=row>1</th><td>4-Aminohippuric acid   </td><td>D06890 </td></tr>\n",
       "\t<tr><th scope=row>2</th><td>Imidazolepropionic acid</td><td>C20522 </td></tr>\n",
       "\t<tr><th scope=row>3</th><td>12S-HHT                </td><td>C20388 </td></tr>\n",
       "\t<tr><th scope=row>4</th><td>Pseudooxynicotine      </td><td>C20361 </td></tr>\n",
       "</tbody>\n",
       "</table>\n"
      ],
      "text/latex": [
       "A data.frame: 4 × 2\n",
       "\\begin{tabular}{r|ll}\n",
       "  & Metabolites & kegg\\\\\n",
       "  & <chr> & <chr>\\\\\n",
       "\\hline\n",
       "\t1 & 4-Aminohippuric acid    & D06890 \\\\\n",
       "\t2 & Imidazolepropionic acid & C20522 \\\\\n",
       "\t3 & 12S-HHT                 & C20388 \\\\\n",
       "\t4 & Pseudooxynicotine       & C20361 \\\\\n",
       "\\end{tabular}\n"
      ],
      "text/markdown": [
       "\n",
       "A data.frame: 4 × 2\n",
       "\n",
       "| <!--/--> | Metabolites &lt;chr&gt; | kegg &lt;chr&gt; |\n",
       "|---|---|---|\n",
       "| 1 | 4-Aminohippuric acid    | D06890  |\n",
       "| 2 | Imidazolepropionic acid | C20522  |\n",
       "| 3 | 12S-HHT                 | C20388  |\n",
       "| 4 | Pseudooxynicotine       | C20361  |\n",
       "\n"
      ],
      "text/plain": [
       "  Metabolites             kegg   \n",
       "1 4-Aminohippuric acid    D06890 \n",
       "2 Imidazolepropionic acid C20522 \n",
       "3 12S-HHT                 C20388 \n",
       "4 Pseudooxynicotine       C20361 "
      ]
     },
     "metadata": {},
     "output_type": "display_data"
    }
   ],
   "source": [
    "head(cnumber,4)"
   ]
  },
  {
   "cell_type": "code",
   "execution_count": 8,
   "id": "835fe40b-514b-49bf-8e6f-a54ee84ae480",
   "metadata": {},
   "outputs": [],
   "source": [
    "count = dplyr::left_join(cnumber,metebolite,by = 'Metabolites')"
   ]
  },
  {
   "cell_type": "code",
   "execution_count": 9,
   "id": "d55bd4ff-1f82-42cf-bf12-2b28c962f5b7",
   "metadata": {},
   "outputs": [
    {
     "name": "stderr",
     "output_type": "stream",
     "text": [
      "Warning message:\n",
      "“package ‘openxlsx’ was built under R version 4.2.3”\n"
     ]
    }
   ],
   "source": [
    "library(openxlsx)"
   ]
  },
  {
   "cell_type": "code",
   "execution_count": 10,
   "id": "250a02c3-6537-4c2f-9395-e1ee13a0b9a3",
   "metadata": {},
   "outputs": [],
   "source": [
    "wtclpvswtnc <- read.xlsx(\"./LM2021-12432-东部战区总医院-小鼠-肠道组/LM2021-12432-东部战区总医院-小鼠-肠道组织-功能脂质（项目报告）/4.Analysis/2.差异代谢物/差异代谢物.xlsx\", sheet = 2)"
   ]
  },
  {
   "cell_type": "code",
   "execution_count": 11,
   "id": "5c200bab-07b7-4992-bbfd-6688afe31000",
   "metadata": {},
   "outputs": [],
   "source": [
    "koclpvswtclp <- read.xlsx(\"./LM2021-12432-东部战区总医院-小鼠-肠道组/LM2021-12432-东部战区总医院-小鼠-肠道组织-功能脂质（项目报告）/4.Analysis/2.差异代谢物/差异代谢物.xlsx\", sheet = 4)"
   ]
  },
  {
   "cell_type": "code",
   "execution_count": 12,
   "id": "48d4d905-dc1d-43aa-9749-f9641290e550",
   "metadata": {},
   "outputs": [
    {
     "data": {
      "text/html": [
       "<table class=\"dataframe\">\n",
       "<caption>A data.frame: 2 × 25</caption>\n",
       "<thead>\n",
       "\t<tr><th></th><th scope=col>ID</th><th scope=col>Metabolites</th><th scope=col>P-value</th><th scope=col>adj.P-value</th><th scope=col>log2(FC)</th><th scope=col>FC</th><th scope=col>average(WT-CLP)</th><th scope=col>average(WT-NC)</th><th scope=col>WT-CLP1</th><th scope=col>WT-CLP2</th><th scope=col>⋯</th><th scope=col>WT-CLP7</th><th scope=col>WT-CLP8</th><th scope=col>WT-NC1</th><th scope=col>WT-NC2</th><th scope=col>WT-NC3</th><th scope=col>WT-NC4</th><th scope=col>WT-NC5</th><th scope=col>WT-NC6</th><th scope=col>WT-NC7</th><th scope=col>WT-NC8</th></tr>\n",
       "\t<tr><th></th><th scope=col>&lt;chr&gt;</th><th scope=col>&lt;chr&gt;</th><th scope=col>&lt;dbl&gt;</th><th scope=col>&lt;dbl&gt;</th><th scope=col>&lt;dbl&gt;</th><th scope=col>&lt;dbl&gt;</th><th scope=col>&lt;dbl&gt;</th><th scope=col>&lt;dbl&gt;</th><th scope=col>&lt;dbl&gt;</th><th scope=col>&lt;dbl&gt;</th><th scope=col>⋯</th><th scope=col>&lt;dbl&gt;</th><th scope=col>&lt;dbl&gt;</th><th scope=col>&lt;dbl&gt;</th><th scope=col>&lt;dbl&gt;</th><th scope=col>&lt;dbl&gt;</th><th scope=col>&lt;dbl&gt;</th><th scope=col>&lt;dbl&gt;</th><th scope=col>&lt;dbl&gt;</th><th scope=col>&lt;dbl&gt;</th><th scope=col>&lt;dbl&gt;</th></tr>\n",
       "</thead>\n",
       "<tbody>\n",
       "\t<tr><th scope=row>1</th><td>8 </td><td>Cholic acid          </td><td>0.01860545</td><td>0.09433245</td><td>2.414093</td><td>5.329844</td><td>35841607</td><td>6724701</td><td>309003.0</td><td>32406674</td><td>⋯</td><td>38017293</td><td>23960752</td><td> 8402380</td><td>6064372</td><td>2475101</td><td>1483138</td><td>1959773</td><td>4721290</td><td>18230762</td><td>10460792</td></tr>\n",
       "\t<tr><th scope=row>2</th><td>19</td><td>alpha muricholic acid</td><td>0.04374990</td><td>0.16874961</td><td>1.946356</td><td>3.853998</td><td>19896749</td><td>5162625</td><td>223382.2</td><td>13607679</td><td>⋯</td><td>18602969</td><td>10392519</td><td>10290875</td><td>5177571</td><td>2365926</td><td>1445767</td><td>3247270</td><td>3619858</td><td> 4122810</td><td>11030928</td></tr>\n",
       "</tbody>\n",
       "</table>\n"
      ],
      "text/latex": [
       "A data.frame: 2 × 25\n",
       "\\begin{tabular}{r|lllllllllllllllllllll}\n",
       "  & ID & Metabolites & P-value & adj.P-value & log2(FC) & FC & average(WT-CLP) & average(WT-NC) & WT-CLP1 & WT-CLP2 & ⋯ & WT-CLP7 & WT-CLP8 & WT-NC1 & WT-NC2 & WT-NC3 & WT-NC4 & WT-NC5 & WT-NC6 & WT-NC7 & WT-NC8\\\\\n",
       "  & <chr> & <chr> & <dbl> & <dbl> & <dbl> & <dbl> & <dbl> & <dbl> & <dbl> & <dbl> & ⋯ & <dbl> & <dbl> & <dbl> & <dbl> & <dbl> & <dbl> & <dbl> & <dbl> & <dbl> & <dbl>\\\\\n",
       "\\hline\n",
       "\t1 & 8  & Cholic acid           & 0.01860545 & 0.09433245 & 2.414093 & 5.329844 & 35841607 & 6724701 & 309003.0 & 32406674 & ⋯ & 38017293 & 23960752 &  8402380 & 6064372 & 2475101 & 1483138 & 1959773 & 4721290 & 18230762 & 10460792\\\\\n",
       "\t2 & 19 & alpha muricholic acid & 0.04374990 & 0.16874961 & 1.946356 & 3.853998 & 19896749 & 5162625 & 223382.2 & 13607679 & ⋯ & 18602969 & 10392519 & 10290875 & 5177571 & 2365926 & 1445767 & 3247270 & 3619858 &  4122810 & 11030928\\\\\n",
       "\\end{tabular}\n"
      ],
      "text/markdown": [
       "\n",
       "A data.frame: 2 × 25\n",
       "\n",
       "| <!--/--> | ID &lt;chr&gt; | Metabolites &lt;chr&gt; | P-value &lt;dbl&gt; | adj.P-value &lt;dbl&gt; | log2(FC) &lt;dbl&gt; | FC &lt;dbl&gt; | average(WT-CLP) &lt;dbl&gt; | average(WT-NC) &lt;dbl&gt; | WT-CLP1 &lt;dbl&gt; | WT-CLP2 &lt;dbl&gt; | ⋯ ⋯ | WT-CLP7 &lt;dbl&gt; | WT-CLP8 &lt;dbl&gt; | WT-NC1 &lt;dbl&gt; | WT-NC2 &lt;dbl&gt; | WT-NC3 &lt;dbl&gt; | WT-NC4 &lt;dbl&gt; | WT-NC5 &lt;dbl&gt; | WT-NC6 &lt;dbl&gt; | WT-NC7 &lt;dbl&gt; | WT-NC8 &lt;dbl&gt; |\n",
       "|---|---|---|---|---|---|---|---|---|---|---|---|---|---|---|---|---|---|---|---|---|---|\n",
       "| 1 | 8  | Cholic acid           | 0.01860545 | 0.09433245 | 2.414093 | 5.329844 | 35841607 | 6724701 | 309003.0 | 32406674 | ⋯ | 38017293 | 23960752 |  8402380 | 6064372 | 2475101 | 1483138 | 1959773 | 4721290 | 18230762 | 10460792 |\n",
       "| 2 | 19 | alpha muricholic acid | 0.04374990 | 0.16874961 | 1.946356 | 3.853998 | 19896749 | 5162625 | 223382.2 | 13607679 | ⋯ | 18602969 | 10392519 | 10290875 | 5177571 | 2365926 | 1445767 | 3247270 | 3619858 |  4122810 | 11030928 |\n",
       "\n"
      ],
      "text/plain": [
       "  ID Metabolites           P-value    adj.P-value log2(FC) FC      \n",
       "1 8  Cholic acid           0.01860545 0.09433245  2.414093 5.329844\n",
       "2 19 alpha muricholic acid 0.04374990 0.16874961  1.946356 3.853998\n",
       "  average(WT-CLP) average(WT-NC) WT-CLP1  WT-CLP2  ⋯ WT-CLP7  WT-CLP8  WT-NC1  \n",
       "1 35841607        6724701        309003.0 32406674 ⋯ 38017293 23960752  8402380\n",
       "2 19896749        5162625        223382.2 13607679 ⋯ 18602969 10392519 10290875\n",
       "  WT-NC2  WT-NC3  WT-NC4  WT-NC5  WT-NC6  WT-NC7   WT-NC8  \n",
       "1 6064372 2475101 1483138 1959773 4721290 18230762 10460792\n",
       "2 5177571 2365926 1445767 3247270 3619858  4122810 11030928"
      ]
     },
     "metadata": {},
     "output_type": "display_data"
    }
   ],
   "source": [
    "head(wtclpvswtnc,2)"
   ]
  },
  {
   "cell_type": "code",
   "execution_count": 13,
   "id": "9c29c7ad-ec73-469d-9cd2-3b26c040dd1b",
   "metadata": {},
   "outputs": [],
   "source": [
    "diffkegg = c(wtclpvswtnc$Metabolites,koclpvswtclp$Metabolites)"
   ]
  },
  {
   "cell_type": "code",
   "execution_count": 14,
   "id": "69cfb85b-a0e0-44f5-b622-bc0df74b18eb",
   "metadata": {},
   "outputs": [],
   "source": [
    "diffkegg = na.omit(diffkegg)"
   ]
  },
  {
   "cell_type": "code",
   "execution_count": 15,
   "id": "6df40fdf-b0a3-4c7b-a341-7ad9da7a3b01",
   "metadata": {},
   "outputs": [
    {
     "data": {
      "text/html": [
       "<style>\n",
       ".list-inline {list-style: none; margin:0; padding: 0}\n",
       ".list-inline>li {display: inline-block}\n",
       ".list-inline>li:not(:last-child)::after {content: \"\\00b7\"; padding: 0 .5ex}\n",
       "</style>\n",
       "<ol class=list-inline><li>'Cholic acid'</li><li>'alpha muricholic acid'</li><li>'12-Ketodeoxycholic acid'</li><li>'3b,7a,12a-Trihydroxy-5b-cholanoic acid'</li><li>'Palmitoleic acid'</li><li>'PG(14:0)'</li><li>'Taurolithocholic acid'</li><li>'Heptadecanoic acid'</li><li>'Erucic acid'</li><li>'Nervonic acid'</li><li>'9,10-DHOME'</li><li>'7alpha-hydroxy-4-cholesterol-3-one'</li><li>'7-ketocholesterol'</li><li>'Adrenic Acid'</li><li>'7beta-hydroxycholesterol'</li><li>'PE(14:0)'</li><li>'Erucic acid'</li><li>'Alpha-Linolenic acid'</li><li>'Tetracosanoic acid'</li><li>'Y-Linolenic acid'</li><li>'LysoPC(20:0)'</li></ol>\n"
      ],
      "text/latex": [
       "\\begin{enumerate*}\n",
       "\\item 'Cholic acid'\n",
       "\\item 'alpha muricholic acid'\n",
       "\\item '12-Ketodeoxycholic acid'\n",
       "\\item '3b,7a,12a-Trihydroxy-5b-cholanoic acid'\n",
       "\\item 'Palmitoleic acid'\n",
       "\\item 'PG(14:0)'\n",
       "\\item 'Taurolithocholic acid'\n",
       "\\item 'Heptadecanoic acid'\n",
       "\\item 'Erucic acid'\n",
       "\\item 'Nervonic acid'\n",
       "\\item '9,10-DHOME'\n",
       "\\item '7alpha-hydroxy-4-cholesterol-3-one'\n",
       "\\item '7-ketocholesterol'\n",
       "\\item 'Adrenic Acid'\n",
       "\\item '7beta-hydroxycholesterol'\n",
       "\\item 'PE(14:0)'\n",
       "\\item 'Erucic acid'\n",
       "\\item 'Alpha-Linolenic acid'\n",
       "\\item 'Tetracosanoic acid'\n",
       "\\item 'Y-Linolenic acid'\n",
       "\\item 'LysoPC(20:0)'\n",
       "\\end{enumerate*}\n"
      ],
      "text/markdown": [
       "1. 'Cholic acid'\n",
       "2. 'alpha muricholic acid'\n",
       "3. '12-Ketodeoxycholic acid'\n",
       "4. '3b,7a,12a-Trihydroxy-5b-cholanoic acid'\n",
       "5. 'Palmitoleic acid'\n",
       "6. 'PG(14:0)'\n",
       "7. 'Taurolithocholic acid'\n",
       "8. 'Heptadecanoic acid'\n",
       "9. 'Erucic acid'\n",
       "10. 'Nervonic acid'\n",
       "11. '9,10-DHOME'\n",
       "12. '7alpha-hydroxy-4-cholesterol-3-one'\n",
       "13. '7-ketocholesterol'\n",
       "14. 'Adrenic Acid'\n",
       "15. '7beta-hydroxycholesterol'\n",
       "16. 'PE(14:0)'\n",
       "17. 'Erucic acid'\n",
       "18. 'Alpha-Linolenic acid'\n",
       "19. 'Tetracosanoic acid'\n",
       "20. 'Y-Linolenic acid'\n",
       "21. 'LysoPC(20:0)'\n",
       "\n",
       "\n"
      ],
      "text/plain": [
       " [1] \"Cholic acid\"                           \n",
       " [2] \"alpha muricholic acid\"                 \n",
       " [3] \"12-Ketodeoxycholic acid\"               \n",
       " [4] \"3b,7a,12a-Trihydroxy-5b-cholanoic acid\"\n",
       " [5] \"Palmitoleic acid\"                      \n",
       " [6] \"PG(14:0)\"                              \n",
       " [7] \"Taurolithocholic acid\"                 \n",
       " [8] \"Heptadecanoic acid\"                    \n",
       " [9] \"Erucic acid\"                           \n",
       "[10] \"Nervonic acid\"                         \n",
       "[11] \"9,10-DHOME\"                            \n",
       "[12] \"7alpha-hydroxy-4-cholesterol-3-one\"    \n",
       "[13] \"7-ketocholesterol\"                     \n",
       "[14] \"Adrenic Acid\"                          \n",
       "[15] \"7beta-hydroxycholesterol\"              \n",
       "[16] \"PE(14:0)\"                              \n",
       "[17] \"Erucic acid\"                           \n",
       "[18] \"Alpha-Linolenic acid\"                  \n",
       "[19] \"Tetracosanoic acid\"                    \n",
       "[20] \"Y-Linolenic acid\"                      \n",
       "[21] \"LysoPC(20:0)\"                          "
      ]
     },
     "metadata": {},
     "output_type": "display_data"
    }
   ],
   "source": [
    "diffkegg"
   ]
  },
  {
   "cell_type": "code",
   "execution_count": 16,
   "id": "50872737-87d1-4ba7-8b3a-06fcca07cba0",
   "metadata": {
    "scrolled": true
   },
   "outputs": [
    {
     "name": "stderr",
     "output_type": "stream",
     "text": [
      "Warning message:\n",
      "“package ‘dplyr’ was built under R version 4.2.3”\n",
      "\n",
      "Attaching package: ‘dplyr’\n",
      "\n",
      "\n",
      "The following objects are masked from ‘package:stats’:\n",
      "\n",
      "    filter, lag\n",
      "\n",
      "\n",
      "The following objects are masked from ‘package:base’:\n",
      "\n",
      "    intersect, setdiff, setequal, union\n",
      "\n",
      "\n"
     ]
    }
   ],
   "source": [
    "library(dplyr)"
   ]
  },
  {
   "cell_type": "code",
   "execution_count": 17,
   "id": "dbef95d1-4ea6-42ca-9207-f51c96b9ab0c",
   "metadata": {},
   "outputs": [],
   "source": [
    "diffcount = count %>% filter(Metabolites %in% diffkegg)"
   ]
  },
  {
   "cell_type": "code",
   "execution_count": 18,
   "id": "5d69b706-758b-4b84-8e5d-619e5b3a4085",
   "metadata": {},
   "outputs": [
    {
     "data": {
      "text/html": [
       "<style>\n",
       ".list-inline {list-style: none; margin:0; padding: 0}\n",
       ".list-inline>li {display: inline-block}\n",
       ".list-inline>li:not(:last-child)::after {content: \"\\00b7\"; padding: 0 .5ex}\n",
       "</style>\n",
       "<ol class=list-inline><li>5</li><li>34</li></ol>\n"
      ],
      "text/latex": [
       "\\begin{enumerate*}\n",
       "\\item 5\n",
       "\\item 34\n",
       "\\end{enumerate*}\n"
      ],
      "text/markdown": [
       "1. 5\n",
       "2. 34\n",
       "\n",
       "\n"
      ],
      "text/plain": [
       "[1]  5 34"
      ]
     },
     "metadata": {},
     "output_type": "display_data"
    }
   ],
   "source": [
    "dim(diffcount)"
   ]
  },
  {
   "cell_type": "code",
   "execution_count": 19,
   "id": "a715fc7a-4e2f-4df8-a8ed-22106d7542fd",
   "metadata": {},
   "outputs": [
    {
     "data": {
      "text/html": [
       "<table class=\"dataframe\">\n",
       "<caption>A data.frame: 6 × 34</caption>\n",
       "<thead>\n",
       "\t<tr><th></th><th scope=col>Metabolites</th><th scope=col>kegg</th><th scope=col>KO-CLP1</th><th scope=col>KO-CLP2</th><th scope=col>KO-CLP3</th><th scope=col>KO-CLP4</th><th scope=col>KO-CLP5</th><th scope=col>KO-CLP6</th><th scope=col>KO-CLP7</th><th scope=col>KO-CLP8</th><th scope=col>⋯</th><th scope=col>WT-CLP7</th><th scope=col>WT-CLP8</th><th scope=col>WT-NC1</th><th scope=col>WT-NC2</th><th scope=col>WT-NC3</th><th scope=col>WT-NC4</th><th scope=col>WT-NC5</th><th scope=col>WT-NC6</th><th scope=col>WT-NC7</th><th scope=col>WT-NC8</th></tr>\n",
       "\t<tr><th></th><th scope=col>&lt;chr&gt;</th><th scope=col>&lt;chr&gt;</th><th scope=col>&lt;dbl&gt;</th><th scope=col>&lt;dbl&gt;</th><th scope=col>&lt;dbl&gt;</th><th scope=col>&lt;dbl&gt;</th><th scope=col>&lt;dbl&gt;</th><th scope=col>&lt;dbl&gt;</th><th scope=col>&lt;dbl&gt;</th><th scope=col>&lt;dbl&gt;</th><th scope=col>⋯</th><th scope=col>&lt;dbl&gt;</th><th scope=col>&lt;dbl&gt;</th><th scope=col>&lt;dbl&gt;</th><th scope=col>&lt;dbl&gt;</th><th scope=col>&lt;dbl&gt;</th><th scope=col>&lt;dbl&gt;</th><th scope=col>&lt;dbl&gt;</th><th scope=col>&lt;dbl&gt;</th><th scope=col>&lt;dbl&gt;</th><th scope=col>&lt;dbl&gt;</th></tr>\n",
       "</thead>\n",
       "<tbody>\n",
       "\t<tr><th scope=row>1</th><td>4-Aminohippuric acid   </td><td>D06890 </td><td>  1907.6730</td><td>  2107.0804</td><td>1.207031e+03</td><td>  1977.1614</td><td>  1654.02225</td><td>  1380.053</td><td>  2304.8172</td><td>  1341.836</td><td>⋯</td><td>  1125.518</td><td>  1537.9460</td><td>  1442.4549</td><td>  1537.9359</td><td>  1434.8938</td><td>  1907.736</td><td>   1878.776</td><td>  2409.6861</td><td>  2057.9699</td><td>   2120.0958</td></tr>\n",
       "\t<tr><th scope=row>2</th><td>Imidazolepropionic acid</td><td>C20522 </td><td>734048.6609</td><td>964779.2631</td><td>6.639898e+05</td><td>753755.7441</td><td>760825.48120</td><td>789032.203</td><td>683587.9318</td><td>696858.954</td><td>⋯</td><td>736643.996</td><td>783907.4581</td><td>732337.2132</td><td>974556.6301</td><td>801616.5692</td><td>848251.350</td><td>1000744.254</td><td>920192.0527</td><td>874865.7315</td><td>1121065.6150</td></tr>\n",
       "\t<tr><th scope=row>3</th><td>12S-HHT                </td><td>C20388 </td><td>  8121.2157</td><td>  7071.0040</td><td>2.181638e+03</td><td>  6887.7571</td><td>  6939.58248</td><td>  7012.961</td><td>  8191.0459</td><td>  4446.119</td><td>⋯</td><td>  7312.666</td><td>  4782.9763</td><td> 11598.4550</td><td>  8154.5026</td><td>  9892.5839</td><td>  7945.446</td><td>   7188.958</td><td>  8880.8839</td><td> 11593.4650</td><td>   5841.0384</td></tr>\n",
       "\t<tr><th scope=row>4</th><td>Pseudooxynicotine      </td><td>C20361 </td><td>  5778.9815</td><td>  6973.4561</td><td>4.491355e+03</td><td>  6155.8664</td><td>  6254.48530</td><td>  7163.897</td><td>  4689.2680</td><td>  3637.688</td><td>⋯</td><td>  5358.344</td><td>  5133.3199</td><td>  1815.5285</td><td>  5109.6919</td><td>  4718.1680</td><td>  3427.270</td><td>   6438.650</td><td>  3924.4111</td><td>  4969.0342</td><td>   5058.0096</td></tr>\n",
       "\t<tr><th scope=row>5</th><td>Beta-Carboline         </td><td>C20157 </td><td>   946.0127</td><td>   930.3337</td><td>3.395490e-06</td><td>   631.7714</td><td>    99.83814</td><td>  1827.195</td><td>   845.8039</td><td>  1357.926</td><td>⋯</td><td>  1854.090</td><td>   594.3769</td><td>   366.7199</td><td>   959.3223</td><td>   713.3953</td><td>   336.558</td><td>   1679.993</td><td>   121.7157</td><td>   924.2311</td><td>    131.2953</td></tr>\n",
       "\t<tr><th scope=row>6</th><td>N-Acetylneuraminic acid</td><td>C19910 </td><td> 91495.4606</td><td>131007.4654</td><td>1.012511e+05</td><td>121633.6350</td><td> 99050.68432</td><td>142866.414</td><td> 99360.6377</td><td>115818.014</td><td>⋯</td><td>128719.280</td><td>119616.5741</td><td>172019.7697</td><td>187352.1406</td><td>162104.8981</td><td>157945.018</td><td> 377701.659</td><td>175499.6064</td><td>212136.2359</td><td> 160357.1514</td></tr>\n",
       "</tbody>\n",
       "</table>\n"
      ],
      "text/latex": [
       "A data.frame: 6 × 34\n",
       "\\begin{tabular}{r|lllllllllllllllllllll}\n",
       "  & Metabolites & kegg & KO-CLP1 & KO-CLP2 & KO-CLP3 & KO-CLP4 & KO-CLP5 & KO-CLP6 & KO-CLP7 & KO-CLP8 & ⋯ & WT-CLP7 & WT-CLP8 & WT-NC1 & WT-NC2 & WT-NC3 & WT-NC4 & WT-NC5 & WT-NC6 & WT-NC7 & WT-NC8\\\\\n",
       "  & <chr> & <chr> & <dbl> & <dbl> & <dbl> & <dbl> & <dbl> & <dbl> & <dbl> & <dbl> & ⋯ & <dbl> & <dbl> & <dbl> & <dbl> & <dbl> & <dbl> & <dbl> & <dbl> & <dbl> & <dbl>\\\\\n",
       "\\hline\n",
       "\t1 & 4-Aminohippuric acid    & D06890  &   1907.6730 &   2107.0804 & 1.207031e+03 &   1977.1614 &   1654.02225 &   1380.053 &   2304.8172 &   1341.836 & ⋯ &   1125.518 &   1537.9460 &   1442.4549 &   1537.9359 &   1434.8938 &   1907.736 &    1878.776 &   2409.6861 &   2057.9699 &    2120.0958\\\\\n",
       "\t2 & Imidazolepropionic acid & C20522  & 734048.6609 & 964779.2631 & 6.639898e+05 & 753755.7441 & 760825.48120 & 789032.203 & 683587.9318 & 696858.954 & ⋯ & 736643.996 & 783907.4581 & 732337.2132 & 974556.6301 & 801616.5692 & 848251.350 & 1000744.254 & 920192.0527 & 874865.7315 & 1121065.6150\\\\\n",
       "\t3 & 12S-HHT                 & C20388  &   8121.2157 &   7071.0040 & 2.181638e+03 &   6887.7571 &   6939.58248 &   7012.961 &   8191.0459 &   4446.119 & ⋯ &   7312.666 &   4782.9763 &  11598.4550 &   8154.5026 &   9892.5839 &   7945.446 &    7188.958 &   8880.8839 &  11593.4650 &    5841.0384\\\\\n",
       "\t4 & Pseudooxynicotine       & C20361  &   5778.9815 &   6973.4561 & 4.491355e+03 &   6155.8664 &   6254.48530 &   7163.897 &   4689.2680 &   3637.688 & ⋯ &   5358.344 &   5133.3199 &   1815.5285 &   5109.6919 &   4718.1680 &   3427.270 &    6438.650 &   3924.4111 &   4969.0342 &    5058.0096\\\\\n",
       "\t5 & Beta-Carboline          & C20157  &    946.0127 &    930.3337 & 3.395490e-06 &    631.7714 &     99.83814 &   1827.195 &    845.8039 &   1357.926 & ⋯ &   1854.090 &    594.3769 &    366.7199 &    959.3223 &    713.3953 &    336.558 &    1679.993 &    121.7157 &    924.2311 &     131.2953\\\\\n",
       "\t6 & N-Acetylneuraminic acid & C19910  &  91495.4606 & 131007.4654 & 1.012511e+05 & 121633.6350 &  99050.68432 & 142866.414 &  99360.6377 & 115818.014 & ⋯ & 128719.280 & 119616.5741 & 172019.7697 & 187352.1406 & 162104.8981 & 157945.018 &  377701.659 & 175499.6064 & 212136.2359 &  160357.1514\\\\\n",
       "\\end{tabular}\n"
      ],
      "text/markdown": [
       "\n",
       "A data.frame: 6 × 34\n",
       "\n",
       "| <!--/--> | Metabolites &lt;chr&gt; | kegg &lt;chr&gt; | KO-CLP1 &lt;dbl&gt; | KO-CLP2 &lt;dbl&gt; | KO-CLP3 &lt;dbl&gt; | KO-CLP4 &lt;dbl&gt; | KO-CLP5 &lt;dbl&gt; | KO-CLP6 &lt;dbl&gt; | KO-CLP7 &lt;dbl&gt; | KO-CLP8 &lt;dbl&gt; | ⋯ ⋯ | WT-CLP7 &lt;dbl&gt; | WT-CLP8 &lt;dbl&gt; | WT-NC1 &lt;dbl&gt; | WT-NC2 &lt;dbl&gt; | WT-NC3 &lt;dbl&gt; | WT-NC4 &lt;dbl&gt; | WT-NC5 &lt;dbl&gt; | WT-NC6 &lt;dbl&gt; | WT-NC7 &lt;dbl&gt; | WT-NC8 &lt;dbl&gt; |\n",
       "|---|---|---|---|---|---|---|---|---|---|---|---|---|---|---|---|---|---|---|---|---|---|\n",
       "| 1 | 4-Aminohippuric acid    | D06890  |   1907.6730 |   2107.0804 | 1.207031e+03 |   1977.1614 |   1654.02225 |   1380.053 |   2304.8172 |   1341.836 | ⋯ |   1125.518 |   1537.9460 |   1442.4549 |   1537.9359 |   1434.8938 |   1907.736 |    1878.776 |   2409.6861 |   2057.9699 |    2120.0958 |\n",
       "| 2 | Imidazolepropionic acid | C20522  | 734048.6609 | 964779.2631 | 6.639898e+05 | 753755.7441 | 760825.48120 | 789032.203 | 683587.9318 | 696858.954 | ⋯ | 736643.996 | 783907.4581 | 732337.2132 | 974556.6301 | 801616.5692 | 848251.350 | 1000744.254 | 920192.0527 | 874865.7315 | 1121065.6150 |\n",
       "| 3 | 12S-HHT                 | C20388  |   8121.2157 |   7071.0040 | 2.181638e+03 |   6887.7571 |   6939.58248 |   7012.961 |   8191.0459 |   4446.119 | ⋯ |   7312.666 |   4782.9763 |  11598.4550 |   8154.5026 |   9892.5839 |   7945.446 |    7188.958 |   8880.8839 |  11593.4650 |    5841.0384 |\n",
       "| 4 | Pseudooxynicotine       | C20361  |   5778.9815 |   6973.4561 | 4.491355e+03 |   6155.8664 |   6254.48530 |   7163.897 |   4689.2680 |   3637.688 | ⋯ |   5358.344 |   5133.3199 |   1815.5285 |   5109.6919 |   4718.1680 |   3427.270 |    6438.650 |   3924.4111 |   4969.0342 |    5058.0096 |\n",
       "| 5 | Beta-Carboline          | C20157  |    946.0127 |    930.3337 | 3.395490e-06 |    631.7714 |     99.83814 |   1827.195 |    845.8039 |   1357.926 | ⋯ |   1854.090 |    594.3769 |    366.7199 |    959.3223 |    713.3953 |    336.558 |    1679.993 |    121.7157 |    924.2311 |     131.2953 |\n",
       "| 6 | N-Acetylneuraminic acid | C19910  |  91495.4606 | 131007.4654 | 1.012511e+05 | 121633.6350 |  99050.68432 | 142866.414 |  99360.6377 | 115818.014 | ⋯ | 128719.280 | 119616.5741 | 172019.7697 | 187352.1406 | 162104.8981 | 157945.018 |  377701.659 | 175499.6064 | 212136.2359 |  160357.1514 |\n",
       "\n"
      ],
      "text/plain": [
       "  Metabolites             kegg    KO-CLP1     KO-CLP2     KO-CLP3     \n",
       "1 4-Aminohippuric acid    D06890    1907.6730   2107.0804 1.207031e+03\n",
       "2 Imidazolepropionic acid C20522  734048.6609 964779.2631 6.639898e+05\n",
       "3 12S-HHT                 C20388    8121.2157   7071.0040 2.181638e+03\n",
       "4 Pseudooxynicotine       C20361    5778.9815   6973.4561 4.491355e+03\n",
       "5 Beta-Carboline          C20157     946.0127    930.3337 3.395490e-06\n",
       "6 N-Acetylneuraminic acid C19910   91495.4606 131007.4654 1.012511e+05\n",
       "  KO-CLP4     KO-CLP5      KO-CLP6    KO-CLP7     KO-CLP8    ⋯ WT-CLP7   \n",
       "1   1977.1614   1654.02225   1380.053   2304.8172   1341.836 ⋯   1125.518\n",
       "2 753755.7441 760825.48120 789032.203 683587.9318 696858.954 ⋯ 736643.996\n",
       "3   6887.7571   6939.58248   7012.961   8191.0459   4446.119 ⋯   7312.666\n",
       "4   6155.8664   6254.48530   7163.897   4689.2680   3637.688 ⋯   5358.344\n",
       "5    631.7714     99.83814   1827.195    845.8039   1357.926 ⋯   1854.090\n",
       "6 121633.6350  99050.68432 142866.414  99360.6377 115818.014 ⋯ 128719.280\n",
       "  WT-CLP8     WT-NC1      WT-NC2      WT-NC3      WT-NC4     WT-NC5     \n",
       "1   1537.9460   1442.4549   1537.9359   1434.8938   1907.736    1878.776\n",
       "2 783907.4581 732337.2132 974556.6301 801616.5692 848251.350 1000744.254\n",
       "3   4782.9763  11598.4550   8154.5026   9892.5839   7945.446    7188.958\n",
       "4   5133.3199   1815.5285   5109.6919   4718.1680   3427.270    6438.650\n",
       "5    594.3769    366.7199    959.3223    713.3953    336.558    1679.993\n",
       "6 119616.5741 172019.7697 187352.1406 162104.8981 157945.018  377701.659\n",
       "  WT-NC6      WT-NC7      WT-NC8      \n",
       "1   2409.6861   2057.9699    2120.0958\n",
       "2 920192.0527 874865.7315 1121065.6150\n",
       "3   8880.8839  11593.4650    5841.0384\n",
       "4   3924.4111   4969.0342    5058.0096\n",
       "5    121.7157    924.2311     131.2953\n",
       "6 175499.6064 212136.2359  160357.1514"
      ]
     },
     "metadata": {},
     "output_type": "display_data"
    }
   ],
   "source": [
    "head(count,6)"
   ]
  },
  {
   "cell_type": "code",
   "execution_count": 20,
   "id": "12adf97a-13a4-4568-890d-dff5375033e8",
   "metadata": {},
   "outputs": [],
   "source": [
    "pathway = read.csv('/data/workdirV6/KEGG_COMPOUND_PATHWAY_mmu.csv')"
   ]
  },
  {
   "cell_type": "code",
   "execution_count": 21,
   "id": "7935bec4-d8c9-4971-990e-b732870393a3",
   "metadata": {},
   "outputs": [],
   "source": [
    "pathway = pathway[,c('CLASS2','COMPOUND')]"
   ]
  },
  {
   "cell_type": "code",
   "execution_count": 22,
   "id": "05f43136-a8d5-4a81-a6a2-0e614724f2c0",
   "metadata": {},
   "outputs": [
    {
     "data": {
      "text/html": [
       "<table class=\"dataframe\">\n",
       "<caption>A data.frame: 3 × 2</caption>\n",
       "<thead>\n",
       "\t<tr><th></th><th scope=col>CLASS2</th><th scope=col>COMPOUND</th></tr>\n",
       "\t<tr><th></th><th scope=col>&lt;chr&gt;</th><th scope=col>&lt;chr&gt;</th></tr>\n",
       "</thead>\n",
       "<tbody>\n",
       "\t<tr><th scope=row>1</th><td>Carbohydrate metabolism</td><td>C00022</td></tr>\n",
       "\t<tr><th scope=row>2</th><td>Carbohydrate metabolism</td><td>C00024</td></tr>\n",
       "\t<tr><th scope=row>3</th><td>Carbohydrate metabolism</td><td>C00031</td></tr>\n",
       "</tbody>\n",
       "</table>\n"
      ],
      "text/latex": [
       "A data.frame: 3 × 2\n",
       "\\begin{tabular}{r|ll}\n",
       "  & CLASS2 & COMPOUND\\\\\n",
       "  & <chr> & <chr>\\\\\n",
       "\\hline\n",
       "\t1 & Carbohydrate metabolism & C00022\\\\\n",
       "\t2 & Carbohydrate metabolism & C00024\\\\\n",
       "\t3 & Carbohydrate metabolism & C00031\\\\\n",
       "\\end{tabular}\n"
      ],
      "text/markdown": [
       "\n",
       "A data.frame: 3 × 2\n",
       "\n",
       "| <!--/--> | CLASS2 &lt;chr&gt; | COMPOUND &lt;chr&gt; |\n",
       "|---|---|---|\n",
       "| 1 | Carbohydrate metabolism | C00022 |\n",
       "| 2 | Carbohydrate metabolism | C00024 |\n",
       "| 3 | Carbohydrate metabolism | C00031 |\n",
       "\n"
      ],
      "text/plain": [
       "  CLASS2                  COMPOUND\n",
       "1 Carbohydrate metabolism C00022  \n",
       "2 Carbohydrate metabolism C00024  \n",
       "3 Carbohydrate metabolism C00031  "
      ]
     },
     "metadata": {},
     "output_type": "display_data"
    }
   ],
   "source": [
    "head(pathway,3)"
   ]
  },
  {
   "cell_type": "code",
   "execution_count": 23,
   "id": "8777377c-84cc-47a4-b4b9-1a34c55ab338",
   "metadata": {},
   "outputs": [],
   "source": [
    "colnames(pathway) = c('pathwayname','kegg')"
   ]
  },
  {
   "cell_type": "code",
   "execution_count": 24,
   "id": "700e2a07-dc98-458f-8e9c-057a395b8ff3",
   "metadata": {},
   "outputs": [],
   "source": [
    "pathway = pathway[,c(2,1)]"
   ]
  },
  {
   "cell_type": "code",
   "execution_count": 25,
   "id": "71eb769f-d3b8-4c0b-a96a-e0b1b6f44fd3",
   "metadata": {},
   "outputs": [
    {
     "data": {
      "text/html": [
       "<style>\n",
       ".list-inline {list-style: none; margin:0; padding: 0}\n",
       ".list-inline>li {display: inline-block}\n",
       ".list-inline>li:not(:last-child)::after {content: \"\\00b7\"; padding: 0 .5ex}\n",
       "</style>\n",
       "<ol class=list-inline><li>5</li><li>34</li></ol>\n"
      ],
      "text/latex": [
       "\\begin{enumerate*}\n",
       "\\item 5\n",
       "\\item 34\n",
       "\\end{enumerate*}\n"
      ],
      "text/markdown": [
       "1. 5\n",
       "2. 34\n",
       "\n",
       "\n"
      ],
      "text/plain": [
       "[1]  5 34"
      ]
     },
     "metadata": {},
     "output_type": "display_data"
    }
   ],
   "source": [
    "dim(diffcount)"
   ]
  },
  {
   "cell_type": "code",
   "execution_count": 26,
   "id": "1a5ca1c6-4372-496c-b64d-d5b31e009469",
   "metadata": {},
   "outputs": [
    {
     "data": {
      "text/html": [
       "<table class=\"dataframe\">\n",
       "<caption>A data.frame: 2 × 34</caption>\n",
       "<thead>\n",
       "\t<tr><th></th><th scope=col>Metabolites</th><th scope=col>kegg</th><th scope=col>KO-CLP1</th><th scope=col>KO-CLP2</th><th scope=col>KO-CLP3</th><th scope=col>KO-CLP4</th><th scope=col>KO-CLP5</th><th scope=col>KO-CLP6</th><th scope=col>KO-CLP7</th><th scope=col>KO-CLP8</th><th scope=col>⋯</th><th scope=col>WT-CLP7</th><th scope=col>WT-CLP8</th><th scope=col>WT-NC1</th><th scope=col>WT-NC2</th><th scope=col>WT-NC3</th><th scope=col>WT-NC4</th><th scope=col>WT-NC5</th><th scope=col>WT-NC6</th><th scope=col>WT-NC7</th><th scope=col>WT-NC8</th></tr>\n",
       "\t<tr><th></th><th scope=col>&lt;chr&gt;</th><th scope=col>&lt;chr&gt;</th><th scope=col>&lt;dbl&gt;</th><th scope=col>&lt;dbl&gt;</th><th scope=col>&lt;dbl&gt;</th><th scope=col>&lt;dbl&gt;</th><th scope=col>&lt;dbl&gt;</th><th scope=col>&lt;dbl&gt;</th><th scope=col>&lt;dbl&gt;</th><th scope=col>&lt;dbl&gt;</th><th scope=col>⋯</th><th scope=col>&lt;dbl&gt;</th><th scope=col>&lt;dbl&gt;</th><th scope=col>&lt;dbl&gt;</th><th scope=col>&lt;dbl&gt;</th><th scope=col>&lt;dbl&gt;</th><th scope=col>&lt;dbl&gt;</th><th scope=col>&lt;dbl&gt;</th><th scope=col>&lt;dbl&gt;</th><th scope=col>&lt;dbl&gt;</th><th scope=col>&lt;dbl&gt;</th></tr>\n",
       "</thead>\n",
       "<tbody>\n",
       "\t<tr><th scope=row>1</th><td>Palmitoleic acid</td><td>C08362</td><td>34212.012</td><td>29660.826</td><td>34916.844</td><td>21052.280</td><td>33538.830</td><td>41162.270</td><td>26135.14</td><td>26267.7457</td><td>⋯</td><td>4098.719</td><td>26220.4148</td><td>20843.941</td><td>19350.298</td><td>36619.926</td><td>27335.337</td><td>30918.554</td><td>31456.9599</td><td>28914.643</td><td>41844.778</td></tr>\n",
       "\t<tr><th scope=row>2</th><td>Nervonic acid   </td><td>C08323</td><td> 1505.742</td><td> 1889.994</td><td> 1010.027</td><td> 1455.082</td><td> 1665.572</td><td> 1253.728</td><td>14257.81</td><td>  499.4739</td><td>⋯</td><td>1274.174</td><td>  795.5397</td><td> 1339.582</td><td> 1225.249</td><td> 1207.964</td><td> 1309.453</td><td> 1207.331</td><td>  843.9264</td><td> 1155.031</td><td> 1914.679</td></tr>\n",
       "</tbody>\n",
       "</table>\n"
      ],
      "text/latex": [
       "A data.frame: 2 × 34\n",
       "\\begin{tabular}{r|lllllllllllllllllllll}\n",
       "  & Metabolites & kegg & KO-CLP1 & KO-CLP2 & KO-CLP3 & KO-CLP4 & KO-CLP5 & KO-CLP6 & KO-CLP7 & KO-CLP8 & ⋯ & WT-CLP7 & WT-CLP8 & WT-NC1 & WT-NC2 & WT-NC3 & WT-NC4 & WT-NC5 & WT-NC6 & WT-NC7 & WT-NC8\\\\\n",
       "  & <chr> & <chr> & <dbl> & <dbl> & <dbl> & <dbl> & <dbl> & <dbl> & <dbl> & <dbl> & ⋯ & <dbl> & <dbl> & <dbl> & <dbl> & <dbl> & <dbl> & <dbl> & <dbl> & <dbl> & <dbl>\\\\\n",
       "\\hline\n",
       "\t1 & Palmitoleic acid & C08362 & 34212.012 & 29660.826 & 34916.844 & 21052.280 & 33538.830 & 41162.270 & 26135.14 & 26267.7457 & ⋯ & 4098.719 & 26220.4148 & 20843.941 & 19350.298 & 36619.926 & 27335.337 & 30918.554 & 31456.9599 & 28914.643 & 41844.778\\\\\n",
       "\t2 & Nervonic acid    & C08323 &  1505.742 &  1889.994 &  1010.027 &  1455.082 &  1665.572 &  1253.728 & 14257.81 &   499.4739 & ⋯ & 1274.174 &   795.5397 &  1339.582 &  1225.249 &  1207.964 &  1309.453 &  1207.331 &   843.9264 &  1155.031 &  1914.679\\\\\n",
       "\\end{tabular}\n"
      ],
      "text/markdown": [
       "\n",
       "A data.frame: 2 × 34\n",
       "\n",
       "| <!--/--> | Metabolites &lt;chr&gt; | kegg &lt;chr&gt; | KO-CLP1 &lt;dbl&gt; | KO-CLP2 &lt;dbl&gt; | KO-CLP3 &lt;dbl&gt; | KO-CLP4 &lt;dbl&gt; | KO-CLP5 &lt;dbl&gt; | KO-CLP6 &lt;dbl&gt; | KO-CLP7 &lt;dbl&gt; | KO-CLP8 &lt;dbl&gt; | ⋯ ⋯ | WT-CLP7 &lt;dbl&gt; | WT-CLP8 &lt;dbl&gt; | WT-NC1 &lt;dbl&gt; | WT-NC2 &lt;dbl&gt; | WT-NC3 &lt;dbl&gt; | WT-NC4 &lt;dbl&gt; | WT-NC5 &lt;dbl&gt; | WT-NC6 &lt;dbl&gt; | WT-NC7 &lt;dbl&gt; | WT-NC8 &lt;dbl&gt; |\n",
       "|---|---|---|---|---|---|---|---|---|---|---|---|---|---|---|---|---|---|---|---|---|---|\n",
       "| 1 | Palmitoleic acid | C08362 | 34212.012 | 29660.826 | 34916.844 | 21052.280 | 33538.830 | 41162.270 | 26135.14 | 26267.7457 | ⋯ | 4098.719 | 26220.4148 | 20843.941 | 19350.298 | 36619.926 | 27335.337 | 30918.554 | 31456.9599 | 28914.643 | 41844.778 |\n",
       "| 2 | Nervonic acid    | C08323 |  1505.742 |  1889.994 |  1010.027 |  1455.082 |  1665.572 |  1253.728 | 14257.81 |   499.4739 | ⋯ | 1274.174 |   795.5397 |  1339.582 |  1225.249 |  1207.964 |  1309.453 |  1207.331 |   843.9264 |  1155.031 |  1914.679 |\n",
       "\n"
      ],
      "text/plain": [
       "  Metabolites      kegg   KO-CLP1   KO-CLP2   KO-CLP3   KO-CLP4   KO-CLP5  \n",
       "1 Palmitoleic acid C08362 34212.012 29660.826 34916.844 21052.280 33538.830\n",
       "2 Nervonic acid    C08323  1505.742  1889.994  1010.027  1455.082  1665.572\n",
       "  KO-CLP6   KO-CLP7  KO-CLP8    ⋯ WT-CLP7  WT-CLP8    WT-NC1    WT-NC2   \n",
       "1 41162.270 26135.14 26267.7457 ⋯ 4098.719 26220.4148 20843.941 19350.298\n",
       "2  1253.728 14257.81   499.4739 ⋯ 1274.174   795.5397  1339.582  1225.249\n",
       "  WT-NC3    WT-NC4    WT-NC5    WT-NC6     WT-NC7    WT-NC8   \n",
       "1 36619.926 27335.337 30918.554 31456.9599 28914.643 41844.778\n",
       "2  1207.964  1309.453  1207.331   843.9264  1155.031  1914.679"
      ]
     },
     "metadata": {},
     "output_type": "display_data"
    }
   ],
   "source": [
    "head(diffcount,2)"
   ]
  },
  {
   "cell_type": "code",
   "execution_count": 27,
   "id": "4fa74b66-88aa-4e5c-acaf-f450a5f77fee",
   "metadata": {},
   "outputs": [],
   "source": [
    "diffcount = diffcount[,c(2,1,3:34)]"
   ]
  },
  {
   "cell_type": "code",
   "execution_count": 28,
   "id": "6fd761fb-4243-4f37-bd4d-7bd5eca046d6",
   "metadata": {
    "scrolled": true
   },
   "outputs": [],
   "source": [
    "heat = merge(pathway,diffcount,by = 'kegg')"
   ]
  },
  {
   "cell_type": "code",
   "execution_count": 29,
   "id": "1d4d6a68-8675-4ed5-ad0c-71e5871b1b70",
   "metadata": {},
   "outputs": [],
   "source": [
    "heat = unique(heat)"
   ]
  },
  {
   "cell_type": "code",
   "execution_count": 30,
   "id": "5935a2eb-2925-4d5a-8b34-d67ee11eb216",
   "metadata": {},
   "outputs": [
    {
     "data": {
      "text/html": [
       "<table class=\"dataframe\">\n",
       "<caption>A data.frame: 3 × 35</caption>\n",
       "<thead>\n",
       "\t<tr><th></th><th scope=col>kegg</th><th scope=col>pathwayname</th><th scope=col>Metabolites</th><th scope=col>KO-CLP1</th><th scope=col>KO-CLP2</th><th scope=col>KO-CLP3</th><th scope=col>KO-CLP4</th><th scope=col>KO-CLP5</th><th scope=col>KO-CLP6</th><th scope=col>KO-CLP7</th><th scope=col>⋯</th><th scope=col>WT-CLP7</th><th scope=col>WT-CLP8</th><th scope=col>WT-NC1</th><th scope=col>WT-NC2</th><th scope=col>WT-NC3</th><th scope=col>WT-NC4</th><th scope=col>WT-NC5</th><th scope=col>WT-NC6</th><th scope=col>WT-NC7</th><th scope=col>WT-NC8</th></tr>\n",
       "\t<tr><th></th><th scope=col>&lt;chr&gt;</th><th scope=col>&lt;chr&gt;</th><th scope=col>&lt;chr&gt;</th><th scope=col>&lt;dbl&gt;</th><th scope=col>&lt;dbl&gt;</th><th scope=col>&lt;dbl&gt;</th><th scope=col>&lt;dbl&gt;</th><th scope=col>&lt;dbl&gt;</th><th scope=col>&lt;dbl&gt;</th><th scope=col>&lt;dbl&gt;</th><th scope=col>⋯</th><th scope=col>&lt;dbl&gt;</th><th scope=col>&lt;dbl&gt;</th><th scope=col>&lt;dbl&gt;</th><th scope=col>&lt;dbl&gt;</th><th scope=col>&lt;dbl&gt;</th><th scope=col>&lt;dbl&gt;</th><th scope=col>&lt;dbl&gt;</th><th scope=col>&lt;dbl&gt;</th><th scope=col>&lt;dbl&gt;</th><th scope=col>&lt;dbl&gt;</th></tr>\n",
       "</thead>\n",
       "<tbody>\n",
       "\t<tr><th scope=row>1</th><td>C00695</td><td>Digestive system</td><td>Cholic acid         </td><td> 22046.69</td><td>  3704.86</td><td> 17266.03</td><td> 30202.62</td><td>  6361.703</td><td>   126.1183</td><td> 19874.69</td><td>⋯</td><td>12341.37</td><td> 30254.47</td><td>  3199.217</td><td>  1805.091</td><td>  1757.991</td><td>  2709.026</td><td>   540.7049</td><td>3.395490e-06</td><td>3.39549e-06</td><td>  1257.009</td></tr>\n",
       "\t<tr><th scope=row>2</th><td>C00695</td><td>Lipid metabolism</td><td>Cholic acid         </td><td> 22046.69</td><td>  3704.86</td><td> 17266.03</td><td> 30202.62</td><td>  6361.703</td><td>   126.1183</td><td> 19874.69</td><td>⋯</td><td>12341.37</td><td> 30254.47</td><td>  3199.217</td><td>  1805.091</td><td>  1757.991</td><td>  2709.026</td><td>   540.7049</td><td>3.395490e-06</td><td>3.39549e-06</td><td>  1257.009</td></tr>\n",
       "\t<tr><th scope=row>3</th><td>C06427</td><td>Lipid metabolism</td><td>Alpha-Linolenic acid</td><td>233813.50</td><td>364206.62</td><td>420593.63</td><td>425913.71</td><td>254443.409</td><td>155631.8909</td><td>317786.83</td><td>⋯</td><td>79980.40</td><td>202156.00</td><td>120617.904</td><td>207075.204</td><td>378031.339</td><td>228677.942</td><td>318340.8990</td><td>2.357947e+05</td><td>2.11034e+05</td><td>248991.549</td></tr>\n",
       "</tbody>\n",
       "</table>\n"
      ],
      "text/latex": [
       "A data.frame: 3 × 35\n",
       "\\begin{tabular}{r|lllllllllllllllllllll}\n",
       "  & kegg & pathwayname & Metabolites & KO-CLP1 & KO-CLP2 & KO-CLP3 & KO-CLP4 & KO-CLP5 & KO-CLP6 & KO-CLP7 & ⋯ & WT-CLP7 & WT-CLP8 & WT-NC1 & WT-NC2 & WT-NC3 & WT-NC4 & WT-NC5 & WT-NC6 & WT-NC7 & WT-NC8\\\\\n",
       "  & <chr> & <chr> & <chr> & <dbl> & <dbl> & <dbl> & <dbl> & <dbl> & <dbl> & <dbl> & ⋯ & <dbl> & <dbl> & <dbl> & <dbl> & <dbl> & <dbl> & <dbl> & <dbl> & <dbl> & <dbl>\\\\\n",
       "\\hline\n",
       "\t1 & C00695 & Digestive system & Cholic acid          &  22046.69 &   3704.86 &  17266.03 &  30202.62 &   6361.703 &    126.1183 &  19874.69 & ⋯ & 12341.37 &  30254.47 &   3199.217 &   1805.091 &   1757.991 &   2709.026 &    540.7049 & 3.395490e-06 & 3.39549e-06 &   1257.009\\\\\n",
       "\t2 & C00695 & Lipid metabolism & Cholic acid          &  22046.69 &   3704.86 &  17266.03 &  30202.62 &   6361.703 &    126.1183 &  19874.69 & ⋯ & 12341.37 &  30254.47 &   3199.217 &   1805.091 &   1757.991 &   2709.026 &    540.7049 & 3.395490e-06 & 3.39549e-06 &   1257.009\\\\\n",
       "\t3 & C06427 & Lipid metabolism & Alpha-Linolenic acid & 233813.50 & 364206.62 & 420593.63 & 425913.71 & 254443.409 & 155631.8909 & 317786.83 & ⋯ & 79980.40 & 202156.00 & 120617.904 & 207075.204 & 378031.339 & 228677.942 & 318340.8990 & 2.357947e+05 & 2.11034e+05 & 248991.549\\\\\n",
       "\\end{tabular}\n"
      ],
      "text/markdown": [
       "\n",
       "A data.frame: 3 × 35\n",
       "\n",
       "| <!--/--> | kegg &lt;chr&gt; | pathwayname &lt;chr&gt; | Metabolites &lt;chr&gt; | KO-CLP1 &lt;dbl&gt; | KO-CLP2 &lt;dbl&gt; | KO-CLP3 &lt;dbl&gt; | KO-CLP4 &lt;dbl&gt; | KO-CLP5 &lt;dbl&gt; | KO-CLP6 &lt;dbl&gt; | KO-CLP7 &lt;dbl&gt; | ⋯ ⋯ | WT-CLP7 &lt;dbl&gt; | WT-CLP8 &lt;dbl&gt; | WT-NC1 &lt;dbl&gt; | WT-NC2 &lt;dbl&gt; | WT-NC3 &lt;dbl&gt; | WT-NC4 &lt;dbl&gt; | WT-NC5 &lt;dbl&gt; | WT-NC6 &lt;dbl&gt; | WT-NC7 &lt;dbl&gt; | WT-NC8 &lt;dbl&gt; |\n",
       "|---|---|---|---|---|---|---|---|---|---|---|---|---|---|---|---|---|---|---|---|---|---|\n",
       "| 1 | C00695 | Digestive system | Cholic acid          |  22046.69 |   3704.86 |  17266.03 |  30202.62 |   6361.703 |    126.1183 |  19874.69 | ⋯ | 12341.37 |  30254.47 |   3199.217 |   1805.091 |   1757.991 |   2709.026 |    540.7049 | 3.395490e-06 | 3.39549e-06 |   1257.009 |\n",
       "| 2 | C00695 | Lipid metabolism | Cholic acid          |  22046.69 |   3704.86 |  17266.03 |  30202.62 |   6361.703 |    126.1183 |  19874.69 | ⋯ | 12341.37 |  30254.47 |   3199.217 |   1805.091 |   1757.991 |   2709.026 |    540.7049 | 3.395490e-06 | 3.39549e-06 |   1257.009 |\n",
       "| 3 | C06427 | Lipid metabolism | Alpha-Linolenic acid | 233813.50 | 364206.62 | 420593.63 | 425913.71 | 254443.409 | 155631.8909 | 317786.83 | ⋯ | 79980.40 | 202156.00 | 120617.904 | 207075.204 | 378031.339 | 228677.942 | 318340.8990 | 2.357947e+05 | 2.11034e+05 | 248991.549 |\n",
       "\n"
      ],
      "text/plain": [
       "  kegg   pathwayname      Metabolites          KO-CLP1   KO-CLP2   KO-CLP3  \n",
       "1 C00695 Digestive system Cholic acid           22046.69   3704.86  17266.03\n",
       "2 C00695 Lipid metabolism Cholic acid           22046.69   3704.86  17266.03\n",
       "3 C06427 Lipid metabolism Alpha-Linolenic acid 233813.50 364206.62 420593.63\n",
       "  KO-CLP4   KO-CLP5    KO-CLP6     KO-CLP7   ⋯ WT-CLP7  WT-CLP8   WT-NC1    \n",
       "1  30202.62   6361.703    126.1183  19874.69 ⋯ 12341.37  30254.47   3199.217\n",
       "2  30202.62   6361.703    126.1183  19874.69 ⋯ 12341.37  30254.47   3199.217\n",
       "3 425913.71 254443.409 155631.8909 317786.83 ⋯ 79980.40 202156.00 120617.904\n",
       "  WT-NC2     WT-NC3     WT-NC4     WT-NC5      WT-NC6       WT-NC7     \n",
       "1   1805.091   1757.991   2709.026    540.7049 3.395490e-06 3.39549e-06\n",
       "2   1805.091   1757.991   2709.026    540.7049 3.395490e-06 3.39549e-06\n",
       "3 207075.204 378031.339 228677.942 318340.8990 2.357947e+05 2.11034e+05\n",
       "  WT-NC8    \n",
       "1   1257.009\n",
       "2   1257.009\n",
       "3 248991.549"
      ]
     },
     "metadata": {},
     "output_type": "display_data"
    }
   ],
   "source": [
    "head(heat,3)"
   ]
  },
  {
   "cell_type": "code",
   "execution_count": 31,
   "id": "067dfc8c-5b5b-4a9c-a8da-7f0384947765",
   "metadata": {},
   "outputs": [],
   "source": [
    "heat <- heat[!duplicated(heat$kegg), ]"
   ]
  },
  {
   "cell_type": "code",
   "execution_count": 41,
   "id": "eb7b1cb6-b6d4-425d-aa9e-740e4c7d3524",
   "metadata": {},
   "outputs": [],
   "source": [
    "zhu = data.frame(table(heat$pathwayname))"
   ]
  },
  {
   "cell_type": "code",
   "execution_count": 43,
   "id": "7821851a-975b-40d5-99ce-35db0933cb59",
   "metadata": {},
   "outputs": [
    {
     "data": {
      "text/html": [
       "<table class=\"dataframe\">\n",
       "<caption>A data.frame: 2 × 2</caption>\n",
       "<thead>\n",
       "\t<tr><th scope=col>Var1</th><th scope=col>Freq</th></tr>\n",
       "\t<tr><th scope=col>&lt;fct&gt;</th><th scope=col>&lt;int&gt;</th></tr>\n",
       "</thead>\n",
       "<tbody>\n",
       "\t<tr><td>Digestive system</td><td>1</td></tr>\n",
       "\t<tr><td>Lipid metabolism</td><td>4</td></tr>\n",
       "</tbody>\n",
       "</table>\n"
      ],
      "text/latex": [
       "A data.frame: 2 × 2\n",
       "\\begin{tabular}{ll}\n",
       " Var1 & Freq\\\\\n",
       " <fct> & <int>\\\\\n",
       "\\hline\n",
       "\t Digestive system & 1\\\\\n",
       "\t Lipid metabolism & 4\\\\\n",
       "\\end{tabular}\n"
      ],
      "text/markdown": [
       "\n",
       "A data.frame: 2 × 2\n",
       "\n",
       "| Var1 &lt;fct&gt; | Freq &lt;int&gt; |\n",
       "|---|---|\n",
       "| Digestive system | 1 |\n",
       "| Lipid metabolism | 4 |\n",
       "\n"
      ],
      "text/plain": [
       "  Var1             Freq\n",
       "1 Digestive system 1   \n",
       "2 Lipid metabolism 4   "
      ]
     },
     "metadata": {},
     "output_type": "display_data"
    }
   ],
   "source": [
    "zhu"
   ]
  },
  {
   "cell_type": "code",
   "execution_count": 44,
   "id": "6434e7e5-f37d-43e4-93a8-342301c668ed",
   "metadata": {},
   "outputs": [],
   "source": [
    "\n",
    "\n",
    "zhu$ID <- as.numeric(rownames(zhu))"
   ]
  },
  {
   "cell_type": "code",
   "execution_count": 33,
   "id": "0c5ba4b0-1168-4c09-97f9-a2d381472b5a",
   "metadata": {},
   "outputs": [],
   "source": [
    "number_of_bar <- nrow(zhu)\n",
    "angle <-  90 - 360 * (zhu$ID-0.5) /23\n",
    "zhu$hjust<-ifelse(angle < -90, 1, 0)\n",
    "zhu$angle<-ifelse(angle < -90, angle+180, angle)"
   ]
  },
  {
   "cell_type": "code",
   "execution_count": 34,
   "id": "c8694505-b9e3-4212-b564-d61b79ac8cff",
   "metadata": {},
   "outputs": [
    {
     "name": "stderr",
     "output_type": "stream",
     "text": [
      "Warning message:\n",
      "“package ‘ggplot2’ was built under R version 4.2.3”\n"
     ]
    }
   ],
   "source": [
    "library(ggplot2)"
   ]
  },
  {
   "cell_type": "code",
   "execution_count": null,
   "id": "f2654737-caa1-458c-9a4e-200157975395",
   "metadata": {},
   "outputs": [],
   "source": []
  },
  {
   "cell_type": "code",
   "execution_count": 35,
   "id": "8dcc4e07-2e7f-4db9-9b6c-874f6f2af8cb",
   "metadata": {},
   "outputs": [],
   "source": [
    "p1 <- ggplot(zhu, aes(x=ID, y=Freq))+\n",
    "  geom_bar(stat=\"identity\", fill=\"blue\", alpha=0.7) +\n",
    "  ylim(-75,75) +#y轴范围，控制内圆大小与条形大小\n",
    "  theme_minimal() +#主题\n",
    "  theme(axis.text = element_blank(),\n",
    "        axis.title = element_blank(),\n",
    "        panel.grid = element_blank(),\n",
    "        plot.margin = unit(rep(-1,4), \"cm\")) +#调整边缘以使得标签不会被截断\n",
    "  coord_polar(start = 0) +#极坐标\n",
    "  geom_text(data=zhu, aes(x=ID, y=Freq+10, label=Var1, hjust=hjust), \n",
    "            color=\"black\", fontface=\"bold\",alpha=0.6, size=6, \n",
    "            angle= zhu$angle, inherit.aes = F) #标签\n"
   ]
  },
  {
   "cell_type": "code",
   "execution_count": 36,
   "id": "b8b9b95c-715b-4995-a4cd-61e0c195f696",
   "metadata": {},
   "outputs": [],
   "source": [
    "options(repr.plot.height = 16,repr.plot.width = 16 )"
   ]
  },
  {
   "cell_type": "code",
   "execution_count": 37,
   "id": "9c7e3911-e042-4e3b-8e79-491efaef4f3f",
   "metadata": {},
   "outputs": [
    {
     "data": {
      "image/png": "[encoded data removed]",
      "text/plain": [
       "plot without title"
      ]
     },
     "metadata": {
      "image/png": {
       "height": 960,
       "width": 960
      }
     },
     "output_type": "display_data"
    }
   ],
   "source": [
    "p1"
   ]
  },
  {
   "cell_type": "code",
   "execution_count": 151,
   "id": "af5f9444-4dc6-418b-904c-b191327e201e",
   "metadata": {},
   "outputs": [],
   "source": [
    "ggsave('./zhuzi.pdf',height = 16,width = 16)"
   ]
  },
  {
   "cell_type": "code",
   "execution_count": 28,
   "id": "e5d8dfba-7361-4139-808d-cea60c8ca11c",
   "metadata": {},
   "outputs": [
    {
     "data": {
      "text/html": [
       "<style>\n",
       ".list-inline {list-style: none; margin:0; padding: 0}\n",
       ".list-inline>li {display: inline-block}\n",
       ".list-inline>li:not(:last-child)::after {content: \"\\00b7\"; padding: 0 .5ex}\n",
       "</style>\n",
       "<ol class=list-inline><li>433</li><li>35</li></ol>\n"
      ],
      "text/latex": [
       "\\begin{enumerate*}\n",
       "\\item 433\n",
       "\\item 35\n",
       "\\end{enumerate*}\n"
      ],
      "text/markdown": [
       "1. 433\n",
       "2. 35\n",
       "\n",
       "\n"
      ],
      "text/plain": [
       "[1] 433  35"
      ]
     },
     "metadata": {},
     "output_type": "display_data"
    }
   ],
   "source": [
    "dim(heat1)"
   ]
  },
  {
   "cell_type": "code",
   "execution_count": 26,
   "id": "05fe7a95-18da-4b41-a202-f9124e2e45a6",
   "metadata": {},
   "outputs": [
    {
     "name": "stderr",
     "output_type": "stream",
     "text": [
      "Warning message:\n",
      "“package ‘dplyr’ was built under R version 4.2.3”\n",
      "\n",
      "Attaching package: ‘dplyr’\n",
      "\n",
      "\n",
      "The following objects are masked from ‘package:stats’:\n",
      "\n",
      "    filter, lag\n",
      "\n",
      "\n",
      "The following objects are masked from ‘package:base’:\n",
      "\n",
      "    intersect, setdiff, setequal, union\n",
      "\n",
      "\n"
     ]
    }
   ],
   "source": [
    "library(dplyr)"
   ]
  },
  {
   "cell_type": "code",
   "execution_count": 69,
   "id": "50c28ff7-306f-448b-a934-966efaba07da",
   "metadata": {},
   "outputs": [],
   "source": [
    "heat1 = heat %>% filter(pathwayname\t %in% c('Amino acid metabolism ',\n",
    "                                           'Carbohydrate metabolism ',\n",
    "                                           'Lipid metabolism ',\n",
    "                                           'Metabolism of cofactors and vitamins',\n",
    "                                           'Membrane transport ',\n",
    "                                           'Nervous system '))"
   ]
  },
  {
   "cell_type": "code",
   "execution_count": 70,
   "id": "1354d10f-75fa-4397-b226-93d6353a2b09",
   "metadata": {},
   "outputs": [
    {
     "data": {
      "text/plain": [
       "\n",
       "Metabolism of cofactors and vitamins \n",
       "                                  60 "
      ]
     },
     "metadata": {},
     "output_type": "display_data"
    }
   ],
   "source": [
    "table(heat1$pathwayname)"
   ]
  },
  {
   "cell_type": "code",
   "execution_count": 50,
   "id": "c6592497-b2e2-413d-8609-b96ca4a3d020",
   "metadata": {},
   "outputs": [
    {
     "data": {
      "text/html": [
       "<style>\n",
       ".list-inline {list-style: none; margin:0; padding: 0}\n",
       ".list-inline>li {display: inline-block}\n",
       ".list-inline>li:not(:last-child)::after {content: \"\\00b7\"; padding: 0 .5ex}\n",
       "</style>\n",
       "<ol class=list-inline><li>302</li><li>35</li></ol>\n"
      ],
      "text/latex": [
       "\\begin{enumerate*}\n",
       "\\item 302\n",
       "\\item 35\n",
       "\\end{enumerate*}\n"
      ],
      "text/markdown": [
       "1. 302\n",
       "2. 35\n",
       "\n",
       "\n"
      ],
      "text/plain": [
       "[1] 302  35"
      ]
     },
     "metadata": {},
     "output_type": "display_data"
    }
   ],
   "source": [
    "dim(heat1)"
   ]
  },
  {
   "cell_type": "code",
   "execution_count": 71,
   "id": "61da1fe7-7c4e-4b10-b4e8-7a26e9086bb4",
   "metadata": {},
   "outputs": [],
   "source": [
    "matrix = as.matrix(heat1[1:60,4:35])"
   ]
  },
  {
   "cell_type": "code",
   "execution_count": 72,
   "id": "18c597c8-f6f9-4b98-b62a-4380e230ad72",
   "metadata": {},
   "outputs": [],
   "source": [
    "matrixraw = matrix"
   ]
  },
  {
   "cell_type": "code",
   "execution_count": 73,
   "id": "7573a8fc-36be-46d7-9a70-e81deae4503a",
   "metadata": {},
   "outputs": [],
   "source": [
    "library(matrixStats)\n",
    "matrix = (matrix - rowMeans(matrix))/rowSds(matrix)"
   ]
  },
  {
   "cell_type": "code",
   "execution_count": 74,
   "id": "d12712cf-ed41-41f3-8f4a-9c5ca38eb25e",
   "metadata": {},
   "outputs": [],
   "source": [
    "#matrix <- as.data.frame(t(apply(matrixraw, 1, function(x)(2*(x-min(x))/(max(x)-min(x)))- 1)))"
   ]
  },
  {
   "cell_type": "code",
   "execution_count": 75,
   "id": "daee0929-8461-4465-bbe3-fe2b2844d6a0",
   "metadata": {},
   "outputs": [],
   "source": [
    "# matrix= scale(matrixraw, center = TRUE, scale = TRUE)"
   ]
  },
  {
   "cell_type": "code",
   "execution_count": 76,
   "id": "2231c5d6-fd14-4f52-b80e-c7fc1498151d",
   "metadata": {},
   "outputs": [],
   "source": [
    "rownames(matrix) <- heat1$Metabolites"
   ]
  },
  {
   "cell_type": "code",
   "execution_count": 77,
   "id": "af65953e-e7d9-4592-a12c-0b5b06757921",
   "metadata": {},
   "outputs": [],
   "source": [
    "sample_annotation <- data.frame(\n",
    "  Type = c(rep('KO_CLP',8),\n",
    "            rep('KO_NC',8),\n",
    "           rep('WT_CLP',8),          \n",
    "           rep('WT_NC',8)\n",
    "          )\n",
    ")"
   ]
  },
  {
   "cell_type": "code",
   "execution_count": 78,
   "id": "571b1cc4-d0c4-4cd7-bdd9-0a06b1d17ec1",
   "metadata": {},
   "outputs": [],
   "source": [
    "rownames(sample_annotation) <- colnames(matrix)"
   ]
  },
  {
   "cell_type": "code",
   "execution_count": 79,
   "id": "3e1ca2e6-cb61-4766-a9ec-d75632bb71ca",
   "metadata": {},
   "outputs": [],
   "source": [
    "gene_annotation <- data.frame(\n",
    "  GeneType = heat1$pathwayname\n",
    ")"
   ]
  },
  {
   "cell_type": "code",
   "execution_count": 80,
   "id": "e6eca597-2607-4deb-b292-cc5cb9ee5801",
   "metadata": {},
   "outputs": [],
   "source": [
    "gene_annotation$GeneType = gsub(' ','_',gene_annotation$GeneType)"
   ]
  },
  {
   "cell_type": "code",
   "execution_count": 81,
   "id": "d272e059-abfa-482e-a79c-6c1a4aca06a1",
   "metadata": {},
   "outputs": [],
   "source": [
    "rownames(gene_annotation) <- rownames(matrix)"
   ]
  },
  {
   "cell_type": "code",
   "execution_count": 82,
   "id": "91d2fe5c-dde3-411b-a0a8-29088443b4c8",
   "metadata": {},
   "outputs": [],
   "source": [
    "row_colors <- list(\n",
    "  PathwayName = c(Amino_acid_metabolism = \"#FFC0CB\", Carbohydrate_metabolism = \"#FFB6C9\", Lipid_metabolism = \"#FF69B4\",\n",
    "          Metabolism_of_cofactors_and_vitamins = \"#1B9E77\", Membrane_transport = \"#D95F02\", Nervous_system = \"#7570b3\")\n",
    ")"
   ]
  },
  {
   "cell_type": "code",
   "execution_count": 83,
   "id": "0dce6c6a-8bba-4607-bc8e-a0a22dcfeead",
   "metadata": {},
   "outputs": [],
   "source": [
    "col_colors <- list(\n",
    "  Group = c(KO_CLP= \"#add8e6\", WT_CLP = \"#87CEFA\", KO_NC = \"#4682B4\",WT_NC = '#FF69B4')\n",
    ")"
   ]
  },
  {
   "cell_type": "code",
   "execution_count": 84,
   "id": "16a4c431-3f2f-4b99-be6b-95babc2d0143",
   "metadata": {},
   "outputs": [],
   "source": [
    "library(ComplexHeatmap)"
   ]
  },
  {
   "cell_type": "code",
   "execution_count": 85,
   "id": "952d85e6-c764-4413-a095-18450f10c05d",
   "metadata": {},
   "outputs": [],
   "source": [
    "ha_col = HeatmapAnnotation(df = sample_annotation, col = col_colors)\n",
    "ha_row = rowAnnotation(GeneType = gene_annotation$GeneType, col = row_colors)"
   ]
  },
  {
   "cell_type": "code",
   "execution_count": 86,
   "id": "f9bfcda8-07a9-45d6-bbed-4397655428c5",
   "metadata": {
    "scrolled": true
   },
   "outputs": [],
   "source": [
    "p = Heatmap(matrix, # 表达矩阵a\n",
    "       top_annotation = ha_col, # 列注释对象\n",
    "        left_annotation = ha_row,\n",
    "        \n",
    " # 行注释对象\n",
    "        cluster_rows = TRUE, \n",
    "      cluster_columns = TRUE,\n",
    "        show_row_names = TRUE,\n",
    "      show_column_names = TRUE,\n",
    "        column_split = sample_annotation$Type, # 按样本类型分组\n",
    "        row_split = gene_annotation$GeneType,   # 按基因类型分组\n",
    "        column_title = \"Expression Matrix\",\n",
    "        row_title = \"Pathway name \")"
   ]
  },
  {
   "cell_type": "code",
   "execution_count": 87,
   "id": "c23cd9f4-5a3a-4c30-9a2f-c7bad2095c55",
   "metadata": {},
   "outputs": [
    {
     "data": {
      "text/html": [
       "<strong>png:</strong> 2"
      ],
      "text/latex": [
       "\\textbf{png:} 2"
      ],
      "text/markdown": [
       "**png:** 2"
      ],
      "text/plain": [
       "png \n",
       "  2 "
      ]
     },
     "metadata": {},
     "output_type": "display_data"
    }
   ],
   "source": [
    "pdf('heatmap-all.pdf',height = 14,width = 12)\n",
    "print(p)\n",
    "dev.off()"
   ]
  },
  {
   "cell_type": "code",
   "execution_count": 88,
   "id": "9d97e0af-ac56-4a19-ae1e-3cf94d1a162b",
   "metadata": {},
   "outputs": [
    {
     "data": {
      "text/html": [
       "<table class=\"dataframe\">\n",
       "<caption>A data.frame: 32 × 1</caption>\n",
       "<thead>\n",
       "\t<tr><th></th><th scope=col>Type</th></tr>\n",
       "\t<tr><th></th><th scope=col>&lt;chr&gt;</th></tr>\n",
       "</thead>\n",
       "<tbody>\n",
       "\t<tr><th scope=row>KO-CLP1</th><td>KO_CLP</td></tr>\n",
       "\t<tr><th scope=row>KO-CLP2</th><td>KO_CLP</td></tr>\n",
       "\t<tr><th scope=row>KO-CLP3</th><td>KO_CLP</td></tr>\n",
       "\t<tr><th scope=row>KO-CLP4</th><td>KO_CLP</td></tr>\n",
       "\t<tr><th scope=row>KO-CLP5</th><td>KO_CLP</td></tr>\n",
       "\t<tr><th scope=row>KO-CLP6</th><td>KO_CLP</td></tr>\n",
       "\t<tr><th scope=row>KO-CLP7</th><td>KO_CLP</td></tr>\n",
       "\t<tr><th scope=row>KO-CLP8</th><td>KO_CLP</td></tr>\n",
       "\t<tr><th scope=row>KO-NC1</th><td>KO_NC </td></tr>\n",
       "\t<tr><th scope=row>KO-NC2</th><td>KO_NC </td></tr>\n",
       "\t<tr><th scope=row>KO-NC3</th><td>KO_NC </td></tr>\n",
       "\t<tr><th scope=row>KO-NC4</th><td>KO_NC </td></tr>\n",
       "\t<tr><th scope=row>KO-NC5</th><td>KO_NC </td></tr>\n",
       "\t<tr><th scope=row>KO-NC6</th><td>KO_NC </td></tr>\n",
       "\t<tr><th scope=row>KO-NC7</th><td>KO_NC </td></tr>\n",
       "\t<tr><th scope=row>KO-NC8</th><td>KO_NC </td></tr>\n",
       "\t<tr><th scope=row>WT-CLP1</th><td>WT_CLP</td></tr>\n",
       "\t<tr><th scope=row>WT-CLP2</th><td>WT_CLP</td></tr>\n",
       "\t<tr><th scope=row>WT-CLP3</th><td>WT_CLP</td></tr>\n",
       "\t<tr><th scope=row>WT-CLP4</th><td>WT_CLP</td></tr>\n",
       "\t<tr><th scope=row>WT-CLP5</th><td>WT_CLP</td></tr>\n",
       "\t<tr><th scope=row>WT-CLP6</th><td>WT_CLP</td></tr>\n",
       "\t<tr><th scope=row>WT-CLP7</th><td>WT_CLP</td></tr>\n",
       "\t<tr><th scope=row>WT-CLP8</th><td>WT_CLP</td></tr>\n",
       "\t<tr><th scope=row>WT-NC1</th><td>WT_NC </td></tr>\n",
       "\t<tr><th scope=row>WT-NC2</th><td>WT_NC </td></tr>\n",
       "\t<tr><th scope=row>WT-NC3</th><td>WT_NC </td></tr>\n",
       "\t<tr><th scope=row>WT-NC4</th><td>WT_NC </td></tr>\n",
       "\t<tr><th scope=row>WT-NC5</th><td>WT_NC </td></tr>\n",
       "\t<tr><th scope=row>WT-NC6</th><td>WT_NC </td></tr>\n",
       "\t<tr><th scope=row>WT-NC7</th><td>WT_NC </td></tr>\n",
       "\t<tr><th scope=row>WT-NC8</th><td>WT_NC </td></tr>\n",
       "</tbody>\n",
       "</table>\n"
      ],
      "text/latex": [
       "A data.frame: 32 × 1\n",
       "\\begin{tabular}{r|l}\n",
       "  & Type\\\\\n",
       "  & <chr>\\\\\n",
       "\\hline\n",
       "\tKO-CLP1 & KO\\_CLP\\\\\n",
       "\tKO-CLP2 & KO\\_CLP\\\\\n",
       "\tKO-CLP3 & KO\\_CLP\\\\\n",
       "\tKO-CLP4 & KO\\_CLP\\\\\n",
       "\tKO-CLP5 & KO\\_CLP\\\\\n",
       "\tKO-CLP6 & KO\\_CLP\\\\\n",
       "\tKO-CLP7 & KO\\_CLP\\\\\n",
       "\tKO-CLP8 & KO\\_CLP\\\\\n",
       "\tKO-NC1 & KO\\_NC \\\\\n",
       "\tKO-NC2 & KO\\_NC \\\\\n",
       "\tKO-NC3 & KO\\_NC \\\\\n",
       "\tKO-NC4 & KO\\_NC \\\\\n",
       "\tKO-NC5 & KO\\_NC \\\\\n",
       "\tKO-NC6 & KO\\_NC \\\\\n",
       "\tKO-NC7 & KO\\_NC \\\\\n",
       "\tKO-NC8 & KO\\_NC \\\\\n",
       "\tWT-CLP1 & WT\\_CLP\\\\\n",
       "\tWT-CLP2 & WT\\_CLP\\\\\n",
       "\tWT-CLP3 & WT\\_CLP\\\\\n",
       "\tWT-CLP4 & WT\\_CLP\\\\\n",
       "\tWT-CLP5 & WT\\_CLP\\\\\n",
       "\tWT-CLP6 & WT\\_CLP\\\\\n",
       "\tWT-CLP7 & WT\\_CLP\\\\\n",
       "\tWT-CLP8 & WT\\_CLP\\\\\n",
       "\tWT-NC1 & WT\\_NC \\\\\n",
       "\tWT-NC2 & WT\\_NC \\\\\n",
       "\tWT-NC3 & WT\\_NC \\\\\n",
       "\tWT-NC4 & WT\\_NC \\\\\n",
       "\tWT-NC5 & WT\\_NC \\\\\n",
       "\tWT-NC6 & WT\\_NC \\\\\n",
       "\tWT-NC7 & WT\\_NC \\\\\n",
       "\tWT-NC8 & WT\\_NC \\\\\n",
       "\\end{tabular}\n"
      ],
      "text/markdown": [
       "\n",
       "A data.frame: 32 × 1\n",
       "\n",
       "| <!--/--> | Type &lt;chr&gt; |\n",
       "|---|---|\n",
       "| KO-CLP1 | KO_CLP |\n",
       "| KO-CLP2 | KO_CLP |\n",
       "| KO-CLP3 | KO_CLP |\n",
       "| KO-CLP4 | KO_CLP |\n",
       "| KO-CLP5 | KO_CLP |\n",
       "| KO-CLP6 | KO_CLP |\n",
       "| KO-CLP7 | KO_CLP |\n",
       "| KO-CLP8 | KO_CLP |\n",
       "| KO-NC1 | KO_NC  |\n",
       "| KO-NC2 | KO_NC  |\n",
       "| KO-NC3 | KO_NC  |\n",
       "| KO-NC4 | KO_NC  |\n",
       "| KO-NC5 | KO_NC  |\n",
       "| KO-NC6 | KO_NC  |\n",
       "| KO-NC7 | KO_NC  |\n",
       "| KO-NC8 | KO_NC  |\n",
       "| WT-CLP1 | WT_CLP |\n",
       "| WT-CLP2 | WT_CLP |\n",
       "| WT-CLP3 | WT_CLP |\n",
       "| WT-CLP4 | WT_CLP |\n",
       "| WT-CLP5 | WT_CLP |\n",
       "| WT-CLP6 | WT_CLP |\n",
       "| WT-CLP7 | WT_CLP |\n",
       "| WT-CLP8 | WT_CLP |\n",
       "| WT-NC1 | WT_NC  |\n",
       "| WT-NC2 | WT_NC  |\n",
       "| WT-NC3 | WT_NC  |\n",
       "| WT-NC4 | WT_NC  |\n",
       "| WT-NC5 | WT_NC  |\n",
       "| WT-NC6 | WT_NC  |\n",
       "| WT-NC7 | WT_NC  |\n",
       "| WT-NC8 | WT_NC  |\n",
       "\n"
      ],
      "text/plain": [
       "        Type  \n",
       "KO-CLP1 KO_CLP\n",
       "KO-CLP2 KO_CLP\n",
       "KO-CLP3 KO_CLP\n",
       "KO-CLP4 KO_CLP\n",
       "KO-CLP5 KO_CLP\n",
       "KO-CLP6 KO_CLP\n",
       "KO-CLP7 KO_CLP\n",
       "KO-CLP8 KO_CLP\n",
       "KO-NC1  KO_NC \n",
       "KO-NC2  KO_NC \n",
       "KO-NC3  KO_NC \n",
       "KO-NC4  KO_NC \n",
       "KO-NC5  KO_NC \n",
       "KO-NC6  KO_NC \n",
       "KO-NC7  KO_NC \n",
       "KO-NC8  KO_NC \n",
       "WT-CLP1 WT_CLP\n",
       "WT-CLP2 WT_CLP\n",
       "WT-CLP3 WT_CLP\n",
       "WT-CLP4 WT_CLP\n",
       "WT-CLP5 WT_CLP\n",
       "WT-CLP6 WT_CLP\n",
       "WT-CLP7 WT_CLP\n",
       "WT-CLP8 WT_CLP\n",
       "WT-NC1  WT_NC \n",
       "WT-NC2  WT_NC \n",
       "WT-NC3  WT_NC \n",
       "WT-NC4  WT_NC \n",
       "WT-NC5  WT_NC \n",
       "WT-NC6  WT_NC \n",
       "WT-NC7  WT_NC \n",
       "WT-NC8  WT_NC "
      ]
     },
     "metadata": {},
     "output_type": "display_data"
    }
   ],
   "source": [
    "sample_annotation"
   ]
  },
  {
   "cell_type": "code",
   "execution_count": null,
   "id": "9930fd06-c7ee-47c0-9cd2-e03be09bb9e9",
   "metadata": {},
   "outputs": [],
   "source": []
  },
  {
   "cell_type": "code",
   "execution_count": null,
   "id": "2aadefa3-f263-4f1e-b9ce-92998a622261",
   "metadata": {},
   "outputs": [],
   "source": []
  },
  {
   "cell_type": "code",
   "execution_count": null,
   "id": "7d8c099a-9ade-4daa-974e-c65e1a83d9b6",
   "metadata": {},
   "outputs": [],
   "source": []
  },
  {
   "cell_type": "code",
   "execution_count": null,
   "id": "4b202485-1f93-4583-a54d-e236fbea0fbc",
   "metadata": {},
   "outputs": [],
   "source": []
  },
  {
   "cell_type": "code",
   "execution_count": null,
   "id": "933edf2c-b352-49cf-bd30-09ae01b46c60",
   "metadata": {},
   "outputs": [],
   "source": []
  },
  {
   "cell_type": "code",
   "execution_count": null,
   "id": "8afbd8e8-6aa7-41d9-a5bb-3d260bcd1055",
   "metadata": {},
   "outputs": [],
   "source": []
  },
  {
   "cell_type": "code",
   "execution_count": null,
   "id": "6cb3a3e2-8758-4853-9204-0eda7e707445",
   "metadata": {},
   "outputs": [],
   "source": []
  },
  {
   "cell_type": "code",
   "execution_count": null,
   "id": "3460dcfe-aead-4fed-bffd-ad40c993bd74",
   "metadata": {},
   "outputs": [],
   "source": []
  },
  {
   "cell_type": "code",
   "execution_count": null,
   "id": "3c9b5b57-fb06-4629-9726-d6c76065e3da",
   "metadata": {},
   "outputs": [],
   "source": []
  },
  {
   "cell_type": "code",
   "execution_count": null,
   "id": "0f641078-e5a1-4fdd-95be-622a66afd700",
   "metadata": {},
   "outputs": [],
   "source": []
  },
  {
   "cell_type": "code",
   "execution_count": null,
   "id": "9fb88567-d3d0-4b94-b031-07ebf148601c",
   "metadata": {},
   "outputs": [],
   "source": []
  }
 ],
 "metadata": {
  "kernelspec": {
   "display_name": "R",
   "language": "R",
   "name": "ir"
  },
  "language_info": {
   "codemirror_mode": "r",
   "file_extension": ".r",
   "mimetype": "text/x-r-source",
   "name": "R",
   "pygments_lexer": "r",
   "version": "4.2.1"
  }
 },
 "nbformat": 4,
 "nbformat_minor": 5
}
