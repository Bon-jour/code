{
 "cells": [
  {
   "cell_type": "code",
   "execution_count": 2,
   "id": "482ed196-3376-42a0-a5d9-080e35f0d523",
   "metadata": {},
   "outputs": [],
   "source": [
    "library(openxlsx)"
   ]
  },
  {
   "cell_type": "code",
   "execution_count": 8,
   "id": "aa331a5e-01f1-419e-8651-cd717440ccf3",
   "metadata": {},
   "outputs": [],
   "source": [
    "wtclpvswtnc = read.xlsx('./LM2021-12430-东部战区总医院-小鼠肠道组织-LCMS-EMDB(项目报告)/6.差异代谢物/差异代谢物.xlsx',sheet = 2)"
   ]
  },
  {
   "cell_type": "code",
   "execution_count": 9,
   "id": "d094c82a-8995-46bc-8df7-70852367171f",
   "metadata": {},
   "outputs": [
    {
     "data": {
      "text/html": [
       "<table class=\"dataframe\">\n",
       "<caption>A data.frame: 1 × 38</caption>\n",
       "<thead>\n",
       "\t<tr><th></th><th scope=col>ID</th><th scope=col>m/z</th><th scope=col>Retention.time.(min)</th><th scope=col>Ion.mode</th><th scope=col>Metabolites</th><th scope=col>Compound.ID</th><th scope=col>Super.Class</th><th scope=col>Class</th><th scope=col>Sub.Class</th><th scope=col>kegg</th><th scope=col>⋯</th><th scope=col>WT-CLP7</th><th scope=col>WT-CLP8</th><th scope=col>WT-NC1</th><th scope=col>WT-NC2</th><th scope=col>WT-NC3</th><th scope=col>WT-NC4</th><th scope=col>WT-NC5</th><th scope=col>WT-NC6</th><th scope=col>WT-NC7</th><th scope=col>WT-NC8</th></tr>\n",
       "\t<tr><th></th><th scope=col>&lt;chr&gt;</th><th scope=col>&lt;dbl&gt;</th><th scope=col>&lt;dbl&gt;</th><th scope=col>&lt;chr&gt;</th><th scope=col>&lt;chr&gt;</th><th scope=col>&lt;chr&gt;</th><th scope=col>&lt;chr&gt;</th><th scope=col>&lt;chr&gt;</th><th scope=col>&lt;chr&gt;</th><th scope=col>&lt;chr&gt;</th><th scope=col>⋯</th><th scope=col>&lt;dbl&gt;</th><th scope=col>&lt;dbl&gt;</th><th scope=col>&lt;dbl&gt;</th><th scope=col>&lt;dbl&gt;</th><th scope=col>&lt;dbl&gt;</th><th scope=col>&lt;dbl&gt;</th><th scope=col>&lt;dbl&gt;</th><th scope=col>&lt;dbl&gt;</th><th scope=col>&lt;dbl&gt;</th><th scope=col>&lt;dbl&gt;</th></tr>\n",
       "</thead>\n",
       "<tbody>\n",
       "\t<tr><th scope=row>1</th><td>0.79_131.0698n</td><td>132.0769</td><td>0.7853167</td><td>pos</td><td>Creatine</td><td>HMDB0000064</td><td>Organic acids and derivatives</td><td>Carboxylic acids and derivatives</td><td>Amino acids, peptides, and analogues</td><td>C00300</td><td>⋯</td><td>6370310</td><td>8260486</td><td>6244061</td><td>6026635</td><td>4326485</td><td>4808707</td><td>4427062</td><td>5004662</td><td>5048274</td><td>5378497</td></tr>\n",
       "</tbody>\n",
       "</table>\n"
      ],
      "text/latex": [
       "A data.frame: 1 × 38\n",
       "\\begin{tabular}{r|lllllllllllllllllllll}\n",
       "  & ID & m/z & Retention.time.(min) & Ion.mode & Metabolites & Compound.ID & Super.Class & Class & Sub.Class & kegg & ⋯ & WT-CLP7 & WT-CLP8 & WT-NC1 & WT-NC2 & WT-NC3 & WT-NC4 & WT-NC5 & WT-NC6 & WT-NC7 & WT-NC8\\\\\n",
       "  & <chr> & <dbl> & <dbl> & <chr> & <chr> & <chr> & <chr> & <chr> & <chr> & <chr> & ⋯ & <dbl> & <dbl> & <dbl> & <dbl> & <dbl> & <dbl> & <dbl> & <dbl> & <dbl> & <dbl>\\\\\n",
       "\\hline\n",
       "\t1 & 0.79\\_131.0698n & 132.0769 & 0.7853167 & pos & Creatine & HMDB0000064 & Organic acids and derivatives & Carboxylic acids and derivatives & Amino acids, peptides, and analogues & C00300 & ⋯ & 6370310 & 8260486 & 6244061 & 6026635 & 4326485 & 4808707 & 4427062 & 5004662 & 5048274 & 5378497\\\\\n",
       "\\end{tabular}\n"
      ],
      "text/markdown": [
       "\n",
       "A data.frame: 1 × 38\n",
       "\n",
       "| <!--/--> | ID &lt;chr&gt; | m/z &lt;dbl&gt; | Retention.time.(min) &lt;dbl&gt; | Ion.mode &lt;chr&gt; | Metabolites &lt;chr&gt; | Compound.ID &lt;chr&gt; | Super.Class &lt;chr&gt; | Class &lt;chr&gt; | Sub.Class &lt;chr&gt; | kegg &lt;chr&gt; | ⋯ ⋯ | WT-CLP7 &lt;dbl&gt; | WT-CLP8 &lt;dbl&gt; | WT-NC1 &lt;dbl&gt; | WT-NC2 &lt;dbl&gt; | WT-NC3 &lt;dbl&gt; | WT-NC4 &lt;dbl&gt; | WT-NC5 &lt;dbl&gt; | WT-NC6 &lt;dbl&gt; | WT-NC7 &lt;dbl&gt; | WT-NC8 &lt;dbl&gt; |\n",
       "|---|---|---|---|---|---|---|---|---|---|---|---|---|---|---|---|---|---|---|---|---|---|\n",
       "| 1 | 0.79_131.0698n | 132.0769 | 0.7853167 | pos | Creatine | HMDB0000064 | Organic acids and derivatives | Carboxylic acids and derivatives | Amino acids, peptides, and analogues | C00300 | ⋯ | 6370310 | 8260486 | 6244061 | 6026635 | 4326485 | 4808707 | 4427062 | 5004662 | 5048274 | 5378497 |\n",
       "\n"
      ],
      "text/plain": [
       "  ID             m/z      Retention.time.(min) Ion.mode Metabolites Compound.ID\n",
       "1 0.79_131.0698n 132.0769 0.7853167            pos      Creatine    HMDB0000064\n",
       "  Super.Class                   Class                           \n",
       "1 Organic acids and derivatives Carboxylic acids and derivatives\n",
       "  Sub.Class                            kegg   ⋯ WT-CLP7 WT-CLP8 WT-NC1  WT-NC2 \n",
       "1 Amino acids, peptides, and analogues C00300 ⋯ 6370310 8260486 6244061 6026635\n",
       "  WT-NC3  WT-NC4  WT-NC5  WT-NC6  WT-NC7  WT-NC8 \n",
       "1 4326485 4808707 4427062 5004662 5048274 5378497"
      ]
     },
     "metadata": {},
     "output_type": "display_data"
    }
   ],
   "source": [
    "head(wtclpvswtnc,1)"
   ]
  },
  {
   "cell_type": "code",
   "execution_count": 10,
   "id": "d547f6c7-e93b-4c95-8035-3b2fb475bcb0",
   "metadata": {},
   "outputs": [],
   "source": [
    "koclpvswtclp = read.xlsx('./LM2021-12430-东部战区总医院-小鼠肠道组织-LCMS-EMDB(项目报告)/6.差异代谢物/差异代谢物.xlsx',sheet = 4)"
   ]
  },
  {
   "cell_type": "code",
   "execution_count": 12,
   "id": "7cb5fd8d-7d8d-4d76-aacf-4c64528ce589",
   "metadata": {},
   "outputs": [
    {
     "data": {
      "text/html": [
       "<style>\n",
       ".list-inline {list-style: none; margin:0; padding: 0}\n",
       ".list-inline>li {display: inline-block}\n",
       ".list-inline>li:not(:last-child)::after {content: \"\\00b7\"; padding: 0 .5ex}\n",
       "</style>\n",
       "<ol class=list-inline><li>'Creatine'</li><li>'LysoPC(16:0)'</li><li>'Succinyladenosine'</li><li>'Dihydrobiopterin'</li><li>'Diketogulonic acid'</li><li>'PC(18:1(9Z)e/2:0)'</li><li>'Galactosylhydroxylysine'</li><li>'N1-Methyl-2-pyridone-5-carboxamide'</li><li>'9,10,13-TriHOME'</li><li>'Maleic acid homopolymer'</li><li>'Dipropyl disulfide'</li><li>'Chorismate'</li><li>'LysoPC(20:1(11Z))'</li><li>'LysoPC(15:0)'</li></ol>\n"
      ],
      "text/latex": [
       "\\begin{enumerate*}\n",
       "\\item 'Creatine'\n",
       "\\item 'LysoPC(16:0)'\n",
       "\\item 'Succinyladenosine'\n",
       "\\item 'Dihydrobiopterin'\n",
       "\\item 'Diketogulonic acid'\n",
       "\\item 'PC(18:1(9Z)e/2:0)'\n",
       "\\item 'Galactosylhydroxylysine'\n",
       "\\item 'N1-Methyl-2-pyridone-5-carboxamide'\n",
       "\\item '9,10,13-TriHOME'\n",
       "\\item 'Maleic acid homopolymer'\n",
       "\\item 'Dipropyl disulfide'\n",
       "\\item 'Chorismate'\n",
       "\\item 'LysoPC(20:1(11Z))'\n",
       "\\item 'LysoPC(15:0)'\n",
       "\\end{enumerate*}\n"
      ],
      "text/markdown": [
       "1. 'Creatine'\n",
       "2. 'LysoPC(16:0)'\n",
       "3. 'Succinyladenosine'\n",
       "4. 'Dihydrobiopterin'\n",
       "5. 'Diketogulonic acid'\n",
       "6. 'PC(18:1(9Z)e/2:0)'\n",
       "7. 'Galactosylhydroxylysine'\n",
       "8. 'N1-Methyl-2-pyridone-5-carboxamide'\n",
       "9. '9,10,13-TriHOME'\n",
       "10. 'Maleic acid homopolymer'\n",
       "11. 'Dipropyl disulfide'\n",
       "12. 'Chorismate'\n",
       "13. 'LysoPC(20:1(11Z))'\n",
       "14. 'LysoPC(15:0)'\n",
       "\n",
       "\n"
      ],
      "text/plain": [
       " [1] \"Creatine\"                           \"LysoPC(16:0)\"                      \n",
       " [3] \"Succinyladenosine\"                  \"Dihydrobiopterin\"                  \n",
       " [5] \"Diketogulonic acid\"                 \"PC(18:1(9Z)e/2:0)\"                 \n",
       " [7] \"Galactosylhydroxylysine\"            \"N1-Methyl-2-pyridone-5-carboxamide\"\n",
       " [9] \"9,10,13-TriHOME\"                    \"Maleic acid homopolymer\"           \n",
       "[11] \"Dipropyl disulfide\"                 \"Chorismate\"                        \n",
       "[13] \"LysoPC(20:1(11Z))\"                  \"LysoPC(15:0)\"                      "
      ]
     },
     "metadata": {},
     "output_type": "display_data"
    }
   ],
   "source": [
    "intersect(wtclpvswtnc$Metabolites,koclpvswtclp$Metabolites)"
   ]
  },
  {
   "cell_type": "code",
   "execution_count": null,
   "id": "1ee4e9e0-54fa-4391-a6f2-573a80e794e1",
   "metadata": {},
   "outputs": [],
   "source": []
  }
 ],
 "metadata": {
  "kernelspec": {
   "display_name": "R",
   "language": "R",
   "name": "ir"
  },
  "language_info": {
   "codemirror_mode": "r",
   "file_extension": ".r",
   "mimetype": "text/x-r-source",
   "name": "R",
   "pygments_lexer": "r",
   "version": "4.2.1"
  }
 },
 "nbformat": 4,
 "nbformat_minor": 5
}
