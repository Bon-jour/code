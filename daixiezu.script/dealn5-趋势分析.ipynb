{
 "cells": [
  {
   "cell_type": "code",
   "execution_count": 3,
   "id": "dd4be812-d720-4d84-8878-13201c9aeaad",
   "metadata": {},
   "outputs": [],
   "source": [
    "metabolite = read.csv('./metabolomics_data.csv',row.names = 1)"
   ]
  },
  {
   "cell_type": "code",
   "execution_count": 5,
   "id": "0017723c-7bbc-47ed-9120-d515bf05e965",
   "metadata": {},
   "outputs": [],
   "source": [
    "metabolite = as.data.frame(t(metabolite))"
   ]
  },
  {
   "cell_type": "code",
   "execution_count": 6,
   "id": "22bd1b58-8432-4546-a772-a598ea8c5e19",
   "metadata": {},
   "outputs": [
    {
     "data": {
      "text/html": [
       "<table class=\"dataframe\">\n",
       "<caption>A data.frame: 6 × 1319</caption>\n",
       "<thead>\n",
       "\t<tr><th></th><th scope=col>LysoPC(20:4(5Z,8Z,11Z,14Z))</th><th scope=col>LysoPC(18:0)</th><th scope=col>LysoPC(16:0)</th><th scope=col>7-Ketodeoxycholic acid</th><th scope=col>LysoPC(18:1(11Z))</th><th scope=col>LysoPC(15:0)</th><th scope=col>LysoPC(22:6(4Z,7Z,10Z,13Z,16Z,19Z))</th><th scope=col>LysoPC(17:0)</th><th scope=col>LysoPC(16:1(9Z)/0:0)</th><th scope=col>LysoPC(20:4(8Z,11Z,14Z,17Z))</th><th scope=col>⋯</th><th scope=col>dTDP-D-glucose</th><th scope=col>Tuftsin</th><th scope=col>Methyl (methylthio)methyl disulfide</th><th scope=col>L-Cysteinylglycine disulfide</th><th scope=col>5-Phosphoribosylamine</th><th scope=col>Beta-1,4-mannose-N-acetylglucosamine</th><th scope=col>Phenylglucuronide</th><th scope=col>5-Hydroxykynurenamine</th><th scope=col>S-Acetyldihydrolipoamide-E</th><th scope=col>Pregnanediol-3-glucuronide</th></tr>\n",
       "\t<tr><th></th><th scope=col>&lt;dbl&gt;</th><th scope=col>&lt;dbl&gt;</th><th scope=col>&lt;dbl&gt;</th><th scope=col>&lt;dbl&gt;</th><th scope=col>&lt;dbl&gt;</th><th scope=col>&lt;dbl&gt;</th><th scope=col>&lt;dbl&gt;</th><th scope=col>&lt;dbl&gt;</th><th scope=col>&lt;dbl&gt;</th><th scope=col>&lt;dbl&gt;</th><th scope=col>⋯</th><th scope=col>&lt;dbl&gt;</th><th scope=col>&lt;dbl&gt;</th><th scope=col>&lt;dbl&gt;</th><th scope=col>&lt;dbl&gt;</th><th scope=col>&lt;dbl&gt;</th><th scope=col>&lt;dbl&gt;</th><th scope=col>&lt;dbl&gt;</th><th scope=col>&lt;dbl&gt;</th><th scope=col>&lt;dbl&gt;</th><th scope=col>&lt;dbl&gt;</th></tr>\n",
       "</thead>\n",
       "<tbody>\n",
       "\t<tr><th scope=row>KO.CLP1</th><td> 86674.91</td><td>2009726.5</td><td>1579107.8</td><td>460947.830</td><td>279205.21</td><td>23669.757</td><td>283190.51</td><td>45508.022</td><td> 80256.25</td><td> 420584.5</td><td>⋯</td><td>2316.6981</td><td>8702.270</td><td>835.5999</td><td> 9006.238</td><td>1193.4600</td><td>3510.625</td><td>3.833886e+02</td><td> 448.3495</td><td>12784.52</td><td>3382.5189730</td></tr>\n",
       "\t<tr><th scope=row>KO.CLP2</th><td>218881.88</td><td>3334212.1</td><td>3615409.8</td><td>115990.263</td><td>767694.32</td><td>56142.911</td><td>329416.01</td><td>83720.945</td><td>207267.48</td><td> 877852.9</td><td>⋯</td><td>2658.3174</td><td>4070.373</td><td>918.1100</td><td> 9516.874</td><td>1002.6739</td><td>2782.087</td><td>5.500556e+02</td><td> 685.7913</td><td>13629.43</td><td>   0.0000034</td></tr>\n",
       "\t<tr><th scope=row>KO.CLP3</th><td>280332.43</td><td>2450525.1</td><td>2907057.4</td><td>229030.876</td><td>756848.18</td><td>43735.806</td><td>581754.56</td><td>71176.672</td><td>571454.80</td><td>1680398.7</td><td>⋯</td><td>2297.6726</td><td>3905.091</td><td>906.1865</td><td>20585.933</td><td> 786.1848</td><td>1816.052</td><td>3.400000e-06</td><td> 144.0258</td><td>10648.75</td><td>2354.9579010</td></tr>\n",
       "\t<tr><th scope=row>KO.CLP4</th><td>178108.08</td><td>2989967.5</td><td>2807052.4</td><td>342532.548</td><td>552460.68</td><td>44706.247</td><td>375827.75</td><td>62127.451</td><td>181895.61</td><td> 748006.3</td><td>⋯</td><td>1744.2276</td><td>2543.624</td><td>880.2076</td><td> 4609.820</td><td>1434.3312</td><td>2268.553</td><td>2.789847e+02</td><td>2480.7796</td><td>12846.09</td><td> 815.7872259</td></tr>\n",
       "\t<tr><th scope=row>KO.CLP5</th><td>119883.50</td><td>1876162.6</td><td>1526425.9</td><td>191981.327</td><td>348781.84</td><td>22036.986</td><td>173685.95</td><td>34351.200</td><td> 85034.93</td><td> 430324.9</td><td>⋯</td><td>1540.9552</td><td>4332.483</td><td>929.7562</td><td> 5013.528</td><td>1616.6706</td><td>3019.204</td><td>7.282508e+02</td><td> 475.7596</td><td>13432.93</td><td>   0.0000034</td></tr>\n",
       "\t<tr><th scope=row>KO.CLP6</th><td> 32693.82</td><td> 348891.2</td><td> 322352.5</td><td>  8781.413</td><td> 60195.55</td><td> 4551.547</td><td> 59134.85</td><td> 4423.994</td><td> 16557.02</td><td> 134463.5</td><td>⋯</td><td> 603.4083</td><td>4000.264</td><td>981.6763</td><td>21426.088</td><td> 798.1855</td><td>1486.328</td><td>1.757326e+04</td><td> 753.7356</td><td>14646.91</td><td> 488.5435476</td></tr>\n",
       "</tbody>\n",
       "</table>\n"
      ],
      "text/latex": [
       "A data.frame: 6 × 1319\n",
       "\\begin{tabular}{r|lllllllllllllllllllll}\n",
       "  & LysoPC(20:4(5Z,8Z,11Z,14Z)) & LysoPC(18:0) & LysoPC(16:0) & 7-Ketodeoxycholic acid & LysoPC(18:1(11Z)) & LysoPC(15:0) & LysoPC(22:6(4Z,7Z,10Z,13Z,16Z,19Z)) & LysoPC(17:0) & LysoPC(16:1(9Z)/0:0) & LysoPC(20:4(8Z,11Z,14Z,17Z)) & ⋯ & dTDP-D-glucose & Tuftsin & Methyl (methylthio)methyl disulfide & L-Cysteinylglycine disulfide & 5-Phosphoribosylamine & Beta-1,4-mannose-N-acetylglucosamine & Phenylglucuronide & 5-Hydroxykynurenamine & S-Acetyldihydrolipoamide-E & Pregnanediol-3-glucuronide\\\\\n",
       "  & <dbl> & <dbl> & <dbl> & <dbl> & <dbl> & <dbl> & <dbl> & <dbl> & <dbl> & <dbl> & ⋯ & <dbl> & <dbl> & <dbl> & <dbl> & <dbl> & <dbl> & <dbl> & <dbl> & <dbl> & <dbl>\\\\\n",
       "\\hline\n",
       "\tKO.CLP1 &  86674.91 & 2009726.5 & 1579107.8 & 460947.830 & 279205.21 & 23669.757 & 283190.51 & 45508.022 &  80256.25 &  420584.5 & ⋯ & 2316.6981 & 8702.270 & 835.5999 &  9006.238 & 1193.4600 & 3510.625 & 3.833886e+02 &  448.3495 & 12784.52 & 3382.5189730\\\\\n",
       "\tKO.CLP2 & 218881.88 & 3334212.1 & 3615409.8 & 115990.263 & 767694.32 & 56142.911 & 329416.01 & 83720.945 & 207267.48 &  877852.9 & ⋯ & 2658.3174 & 4070.373 & 918.1100 &  9516.874 & 1002.6739 & 2782.087 & 5.500556e+02 &  685.7913 & 13629.43 &    0.0000034\\\\\n",
       "\tKO.CLP3 & 280332.43 & 2450525.1 & 2907057.4 & 229030.876 & 756848.18 & 43735.806 & 581754.56 & 71176.672 & 571454.80 & 1680398.7 & ⋯ & 2297.6726 & 3905.091 & 906.1865 & 20585.933 &  786.1848 & 1816.052 & 3.400000e-06 &  144.0258 & 10648.75 & 2354.9579010\\\\\n",
       "\tKO.CLP4 & 178108.08 & 2989967.5 & 2807052.4 & 342532.548 & 552460.68 & 44706.247 & 375827.75 & 62127.451 & 181895.61 &  748006.3 & ⋯ & 1744.2276 & 2543.624 & 880.2076 &  4609.820 & 1434.3312 & 2268.553 & 2.789847e+02 & 2480.7796 & 12846.09 &  815.7872259\\\\\n",
       "\tKO.CLP5 & 119883.50 & 1876162.6 & 1526425.9 & 191981.327 & 348781.84 & 22036.986 & 173685.95 & 34351.200 &  85034.93 &  430324.9 & ⋯ & 1540.9552 & 4332.483 & 929.7562 &  5013.528 & 1616.6706 & 3019.204 & 7.282508e+02 &  475.7596 & 13432.93 &    0.0000034\\\\\n",
       "\tKO.CLP6 &  32693.82 &  348891.2 &  322352.5 &   8781.413 &  60195.55 &  4551.547 &  59134.85 &  4423.994 &  16557.02 &  134463.5 & ⋯ &  603.4083 & 4000.264 & 981.6763 & 21426.088 &  798.1855 & 1486.328 & 1.757326e+04 &  753.7356 & 14646.91 &  488.5435476\\\\\n",
       "\\end{tabular}\n"
      ],
      "text/markdown": [
       "\n",
       "A data.frame: 6 × 1319\n",
       "\n",
       "| <!--/--> | LysoPC(20:4(5Z,8Z,11Z,14Z)) &lt;dbl&gt; | LysoPC(18:0) &lt;dbl&gt; | LysoPC(16:0) &lt;dbl&gt; | 7-Ketodeoxycholic acid &lt;dbl&gt; | LysoPC(18:1(11Z)) &lt;dbl&gt; | LysoPC(15:0) &lt;dbl&gt; | LysoPC(22:6(4Z,7Z,10Z,13Z,16Z,19Z)) &lt;dbl&gt; | LysoPC(17:0) &lt;dbl&gt; | LysoPC(16:1(9Z)/0:0) &lt;dbl&gt; | LysoPC(20:4(8Z,11Z,14Z,17Z)) &lt;dbl&gt; | ⋯ ⋯ | dTDP-D-glucose &lt;dbl&gt; | Tuftsin &lt;dbl&gt; | Methyl (methylthio)methyl disulfide &lt;dbl&gt; | L-Cysteinylglycine disulfide &lt;dbl&gt; | 5-Phosphoribosylamine &lt;dbl&gt; | Beta-1,4-mannose-N-acetylglucosamine &lt;dbl&gt; | Phenylglucuronide &lt;dbl&gt; | 5-Hydroxykynurenamine &lt;dbl&gt; | S-Acetyldihydrolipoamide-E &lt;dbl&gt; | Pregnanediol-3-glucuronide &lt;dbl&gt; |\n",
       "|---|---|---|---|---|---|---|---|---|---|---|---|---|---|---|---|---|---|---|---|---|---|\n",
       "| KO.CLP1 |  86674.91 | 2009726.5 | 1579107.8 | 460947.830 | 279205.21 | 23669.757 | 283190.51 | 45508.022 |  80256.25 |  420584.5 | ⋯ | 2316.6981 | 8702.270 | 835.5999 |  9006.238 | 1193.4600 | 3510.625 | 3.833886e+02 |  448.3495 | 12784.52 | 3382.5189730 |\n",
       "| KO.CLP2 | 218881.88 | 3334212.1 | 3615409.8 | 115990.263 | 767694.32 | 56142.911 | 329416.01 | 83720.945 | 207267.48 |  877852.9 | ⋯ | 2658.3174 | 4070.373 | 918.1100 |  9516.874 | 1002.6739 | 2782.087 | 5.500556e+02 |  685.7913 | 13629.43 |    0.0000034 |\n",
       "| KO.CLP3 | 280332.43 | 2450525.1 | 2907057.4 | 229030.876 | 756848.18 | 43735.806 | 581754.56 | 71176.672 | 571454.80 | 1680398.7 | ⋯ | 2297.6726 | 3905.091 | 906.1865 | 20585.933 |  786.1848 | 1816.052 | 3.400000e-06 |  144.0258 | 10648.75 | 2354.9579010 |\n",
       "| KO.CLP4 | 178108.08 | 2989967.5 | 2807052.4 | 342532.548 | 552460.68 | 44706.247 | 375827.75 | 62127.451 | 181895.61 |  748006.3 | ⋯ | 1744.2276 | 2543.624 | 880.2076 |  4609.820 | 1434.3312 | 2268.553 | 2.789847e+02 | 2480.7796 | 12846.09 |  815.7872259 |\n",
       "| KO.CLP5 | 119883.50 | 1876162.6 | 1526425.9 | 191981.327 | 348781.84 | 22036.986 | 173685.95 | 34351.200 |  85034.93 |  430324.9 | ⋯ | 1540.9552 | 4332.483 | 929.7562 |  5013.528 | 1616.6706 | 3019.204 | 7.282508e+02 |  475.7596 | 13432.93 |    0.0000034 |\n",
       "| KO.CLP6 |  32693.82 |  348891.2 |  322352.5 |   8781.413 |  60195.55 |  4551.547 |  59134.85 |  4423.994 |  16557.02 |  134463.5 | ⋯ |  603.4083 | 4000.264 | 981.6763 | 21426.088 |  798.1855 | 1486.328 | 1.757326e+04 |  753.7356 | 14646.91 |  488.5435476 |\n",
       "\n"
      ],
      "text/plain": [
       "        LysoPC(20:4(5Z,8Z,11Z,14Z)) LysoPC(18:0) LysoPC(16:0)\n",
       "KO.CLP1  86674.91                   2009726.5    1579107.8   \n",
       "KO.CLP2 218881.88                   3334212.1    3615409.8   \n",
       "KO.CLP3 280332.43                   2450525.1    2907057.4   \n",
       "KO.CLP4 178108.08                   2989967.5    2807052.4   \n",
       "KO.CLP5 119883.50                   1876162.6    1526425.9   \n",
       "KO.CLP6  32693.82                    348891.2     322352.5   \n",
       "        7-Ketodeoxycholic acid LysoPC(18:1(11Z)) LysoPC(15:0)\n",
       "KO.CLP1 460947.830             279205.21         23669.757   \n",
       "KO.CLP2 115990.263             767694.32         56142.911   \n",
       "KO.CLP3 229030.876             756848.18         43735.806   \n",
       "KO.CLP4 342532.548             552460.68         44706.247   \n",
       "KO.CLP5 191981.327             348781.84         22036.986   \n",
       "KO.CLP6   8781.413              60195.55          4551.547   \n",
       "        LysoPC(22:6(4Z,7Z,10Z,13Z,16Z,19Z)) LysoPC(17:0) LysoPC(16:1(9Z)/0:0)\n",
       "KO.CLP1 283190.51                           45508.022     80256.25           \n",
       "KO.CLP2 329416.01                           83720.945    207267.48           \n",
       "KO.CLP3 581754.56                           71176.672    571454.80           \n",
       "KO.CLP4 375827.75                           62127.451    181895.61           \n",
       "KO.CLP5 173685.95                           34351.200     85034.93           \n",
       "KO.CLP6  59134.85                            4423.994     16557.02           \n",
       "        LysoPC(20:4(8Z,11Z,14Z,17Z)) ⋯ dTDP-D-glucose Tuftsin \n",
       "KO.CLP1  420584.5                    ⋯ 2316.6981      8702.270\n",
       "KO.CLP2  877852.9                    ⋯ 2658.3174      4070.373\n",
       "KO.CLP3 1680398.7                    ⋯ 2297.6726      3905.091\n",
       "KO.CLP4  748006.3                    ⋯ 1744.2276      2543.624\n",
       "KO.CLP5  430324.9                    ⋯ 1540.9552      4332.483\n",
       "KO.CLP6  134463.5                    ⋯  603.4083      4000.264\n",
       "        Methyl (methylthio)methyl disulfide L-Cysteinylglycine disulfide\n",
       "KO.CLP1 835.5999                             9006.238                   \n",
       "KO.CLP2 918.1100                             9516.874                   \n",
       "KO.CLP3 906.1865                            20585.933                   \n",
       "KO.CLP4 880.2076                             4609.820                   \n",
       "KO.CLP5 929.7562                             5013.528                   \n",
       "KO.CLP6 981.6763                            21426.088                   \n",
       "        5-Phosphoribosylamine Beta-1,4-mannose-N-acetylglucosamine\n",
       "KO.CLP1 1193.4600             3510.625                            \n",
       "KO.CLP2 1002.6739             2782.087                            \n",
       "KO.CLP3  786.1848             1816.052                            \n",
       "KO.CLP4 1434.3312             2268.553                            \n",
       "KO.CLP5 1616.6706             3019.204                            \n",
       "KO.CLP6  798.1855             1486.328                            \n",
       "        Phenylglucuronide 5-Hydroxykynurenamine S-Acetyldihydrolipoamide-E\n",
       "KO.CLP1 3.833886e+02       448.3495             12784.52                  \n",
       "KO.CLP2 5.500556e+02       685.7913             13629.43                  \n",
       "KO.CLP3 3.400000e-06       144.0258             10648.75                  \n",
       "KO.CLP4 2.789847e+02      2480.7796             12846.09                  \n",
       "KO.CLP5 7.282508e+02       475.7596             13432.93                  \n",
       "KO.CLP6 1.757326e+04       753.7356             14646.91                  \n",
       "        Pregnanediol-3-glucuronide\n",
       "KO.CLP1 3382.5189730              \n",
       "KO.CLP2    0.0000034              \n",
       "KO.CLP3 2354.9579010              \n",
       "KO.CLP4  815.7872259              \n",
       "KO.CLP5    0.0000034              \n",
       "KO.CLP6  488.5435476              "
      ]
     },
     "metadata": {},
     "output_type": "display_data"
    }
   ],
   "source": [
    "head(metabolite)"
   ]
  },
  {
   "cell_type": "code",
   "execution_count": 7,
   "id": "539c5165-e241-4516-b757-7d9588046345",
   "metadata": {},
   "outputs": [
    {
     "data": {
      "text/html": [
       "<style>\n",
       ".list-inline {list-style: none; margin:0; padding: 0}\n",
       ".list-inline>li {display: inline-block}\n",
       ".list-inline>li:not(:last-child)::after {content: \"\\00b7\"; padding: 0 .5ex}\n",
       "</style>\n",
       "<ol class=list-inline><li>'KO.CLP1'</li><li>'KO.CLP2'</li><li>'KO.CLP3'</li><li>'KO.CLP4'</li><li>'KO.CLP5'</li><li>'KO.CLP6'</li><li>'KO.CLP7'</li><li>'KO.CLP8'</li><li>'KO.NC1'</li><li>'KO.NC2'</li><li>'KO.NC3'</li><li>'KO.NC4'</li><li>'KO.NC5'</li><li>'KO.NC6'</li><li>'KO.NC7'</li><li>'KO.NC8'</li><li>'WT.CLP1'</li><li>'WT.CLP2'</li><li>'WT.CLP3'</li><li>'WT.CLP4'</li><li>'WT.CLP5'</li><li>'WT.CLP6'</li><li>'WT.CLP7'</li><li>'WT.CLP8'</li><li>'WT.NC1'</li><li>'WT.NC2'</li><li>'WT.NC3'</li><li>'WT.NC4'</li><li>'WT.NC5'</li><li>'WT.NC6'</li><li>'WT.NC7'</li><li>'WT.NC8'</li></ol>\n"
      ],
      "text/latex": [
       "\\begin{enumerate*}\n",
       "\\item 'KO.CLP1'\n",
       "\\item 'KO.CLP2'\n",
       "\\item 'KO.CLP3'\n",
       "\\item 'KO.CLP4'\n",
       "\\item 'KO.CLP5'\n",
       "\\item 'KO.CLP6'\n",
       "\\item 'KO.CLP7'\n",
       "\\item 'KO.CLP8'\n",
       "\\item 'KO.NC1'\n",
       "\\item 'KO.NC2'\n",
       "\\item 'KO.NC3'\n",
       "\\item 'KO.NC4'\n",
       "\\item 'KO.NC5'\n",
       "\\item 'KO.NC6'\n",
       "\\item 'KO.NC7'\n",
       "\\item 'KO.NC8'\n",
       "\\item 'WT.CLP1'\n",
       "\\item 'WT.CLP2'\n",
       "\\item 'WT.CLP3'\n",
       "\\item 'WT.CLP4'\n",
       "\\item 'WT.CLP5'\n",
       "\\item 'WT.CLP6'\n",
       "\\item 'WT.CLP7'\n",
       "\\item 'WT.CLP8'\n",
       "\\item 'WT.NC1'\n",
       "\\item 'WT.NC2'\n",
       "\\item 'WT.NC3'\n",
       "\\item 'WT.NC4'\n",
       "\\item 'WT.NC5'\n",
       "\\item 'WT.NC6'\n",
       "\\item 'WT.NC7'\n",
       "\\item 'WT.NC8'\n",
       "\\end{enumerate*}\n"
      ],
      "text/markdown": [
       "1. 'KO.CLP1'\n",
       "2. 'KO.CLP2'\n",
       "3. 'KO.CLP3'\n",
       "4. 'KO.CLP4'\n",
       "5. 'KO.CLP5'\n",
       "6. 'KO.CLP6'\n",
       "7. 'KO.CLP7'\n",
       "8. 'KO.CLP8'\n",
       "9. 'KO.NC1'\n",
       "10. 'KO.NC2'\n",
       "11. 'KO.NC3'\n",
       "12. 'KO.NC4'\n",
       "13. 'KO.NC5'\n",
       "14. 'KO.NC6'\n",
       "15. 'KO.NC7'\n",
       "16. 'KO.NC8'\n",
       "17. 'WT.CLP1'\n",
       "18. 'WT.CLP2'\n",
       "19. 'WT.CLP3'\n",
       "20. 'WT.CLP4'\n",
       "21. 'WT.CLP5'\n",
       "22. 'WT.CLP6'\n",
       "23. 'WT.CLP7'\n",
       "24. 'WT.CLP8'\n",
       "25. 'WT.NC1'\n",
       "26. 'WT.NC2'\n",
       "27. 'WT.NC3'\n",
       "28. 'WT.NC4'\n",
       "29. 'WT.NC5'\n",
       "30. 'WT.NC6'\n",
       "31. 'WT.NC7'\n",
       "32. 'WT.NC8'\n",
       "\n",
       "\n"
      ],
      "text/plain": [
       " [1] \"KO.CLP1\" \"KO.CLP2\" \"KO.CLP3\" \"KO.CLP4\" \"KO.CLP5\" \"KO.CLP6\" \"KO.CLP7\"\n",
       " [8] \"KO.CLP8\" \"KO.NC1\"  \"KO.NC2\"  \"KO.NC3\"  \"KO.NC4\"  \"KO.NC5\"  \"KO.NC6\" \n",
       "[15] \"KO.NC7\"  \"KO.NC8\"  \"WT.CLP1\" \"WT.CLP2\" \"WT.CLP3\" \"WT.CLP4\" \"WT.CLP5\"\n",
       "[22] \"WT.CLP6\" \"WT.CLP7\" \"WT.CLP8\" \"WT.NC1\"  \"WT.NC2\"  \"WT.NC3\"  \"WT.NC4\" \n",
       "[29] \"WT.NC5\"  \"WT.NC6\"  \"WT.NC7\"  \"WT.NC8\" "
      ]
     },
     "metadata": {},
     "output_type": "display_data"
    }
   ],
   "source": [
    "rownames(metabolite)"
   ]
  },
  {
   "cell_type": "code",
   "execution_count": 8,
   "id": "b9006db6-4964-4182-8d74-282fd6b0492f",
   "metadata": {},
   "outputs": [],
   "source": [
    "metabolite$group = rep(c('KO.CLP','KO.NC','WT.CLP','WT.NC'),each = 8)"
   ]
  },
  {
   "cell_type": "code",
   "execution_count": 14,
   "id": "55969b18-3afc-4f6e-b543-aeb4529f90e0",
   "metadata": {},
   "outputs": [],
   "source": [
    "names_col <- colnames(metabolite)[1:1318]"
   ]
  },
  {
   "cell_type": "code",
   "execution_count": 17,
   "id": "5943d402-8a90-4ca0-a84f-f4cf47b5e798",
   "metadata": {},
   "outputs": [],
   "source": [
    "a = aggregate(metabolite[names_col],by = list(group = metabolite$group),mean)\n"
   ]
  },
  {
   "cell_type": "code",
   "execution_count": 18,
   "id": "61f2a3c5-de79-4fc7-82aa-eebc0446b4c5",
   "metadata": {},
   "outputs": [
    {
     "name": "stderr",
     "output_type": "stream",
     "text": [
      "Warning message:\n",
      "“package ‘tibble’ was built under R version 4.2.3”\n"
     ]
    }
   ],
   "source": [
    "library(tibble)"
   ]
  },
  {
   "cell_type": "code",
   "execution_count": 19,
   "id": "6a59f2cd-610c-4dd2-93b5-99a5f416c070",
   "metadata": {},
   "outputs": [],
   "source": [
    "a = tibble::column_to_rownames(a,'group')"
   ]
  },
  {
   "cell_type": "code",
   "execution_count": 21,
   "id": "673aacbe-8b08-4d5f-a53e-018c4a16e647",
   "metadata": {},
   "outputs": [],
   "source": [
    "a = as.data.frame(t(a))"
   ]
  },
  {
   "cell_type": "code",
   "execution_count": 23,
   "id": "20b65854-d11d-4890-ab94-60065a8eca00",
   "metadata": {},
   "outputs": [],
   "source": [
    "a = a[,c(4,3,1)]"
   ]
  },
  {
   "cell_type": "code",
   "execution_count": 27,
   "id": "bbc31f48-313f-4011-888c-568c59ea70fc",
   "metadata": {},
   "outputs": [],
   "source": [
    "library(TCseq)"
   ]
  },
  {
   "cell_type": "code",
   "execution_count": 28,
   "id": "d7e1db17-4135-447a-a922-4b0763afa223",
   "metadata": {},
   "outputs": [],
   "source": [
    "protein <- as.matrix(a)"
   ]
  },
  {
   "cell_type": "code",
   "execution_count": 29,
   "id": "30ead5c9-26ad-40c7-a037-64c666f06c4e",
   "metadata": {},
   "outputs": [],
   "source": [
    "set.seed(123)\n",
    "cluster_num <- 10\n",
    "tcseq_cluster <- timeclust(protein, algo = 'cm', k = cluster_num, standardize = TRUE)"
   ]
  },
  {
   "cell_type": "code",
   "execution_count": 30,
   "id": "b475ee87-cd67-4f67-9edb-f022b16172f7",
   "metadata": {},
   "outputs": [
    {
     "data": {
      "image/png": "[encoded data removed]",
      "text/plain": [
       "plot without title"
      ]
     },
     "metadata": {
      "image/png": {
       "height": 420,
       "width": 420
      }
     },
     "output_type": "display_data"
    }
   ],
   "source": [
    "p <- timeclustplot(tcseq_cluster, value = 'z-score', cols = 3, \n",
    "    axis.line.size = 0.6, axis.title.size = 8, axis.text.size = 8, \n",
    "    title.size = 8, legend.title.size = 8, legend.text.size = 8)"
   ]
  },
  {
   "cell_type": "code",
   "execution_count": 48,
   "id": "73b9c913-3882-4323-a0c8-77023da89fa0",
   "metadata": {},
   "outputs": [
    {
     "data": {
      "text/html": [
       "<table class=\"dataframe\">\n",
       "<caption>A matrix: 6 × 4 of type dbl</caption>\n",
       "<thead>\n",
       "\t<tr><th></th><th scope=col>WT.NC</th><th scope=col>WT.CLP</th><th scope=col>KO.CLP</th><th scope=col>protein_cluster</th></tr>\n",
       "</thead>\n",
       "<tbody>\n",
       "\t<tr><th scope=row>LysoPC(20:4(5Z,8Z,11Z,14Z))</th><td> 184507.0</td><td>  98268.70</td><td> 172675.59</td><td>8</td></tr>\n",
       "\t<tr><th scope=row>LysoPC(18:0)</th><td>1849168.0</td><td>1446962.55</td><td>2290621.46</td><td>2</td></tr>\n",
       "\t<tr><th scope=row>LysoPC(16:0)</th><td>2129105.4</td><td>1201036.86</td><td>2236969.83</td><td>8</td></tr>\n",
       "\t<tr><th scope=row>7-Ketodeoxycholic acid</th><td> 183605.4</td><td> 398664.01</td><td> 322832.41</td><td>5</td></tr>\n",
       "\t<tr><th scope=row>LysoPC(18:1(11Z))</th><td> 341167.0</td><td> 259146.08</td><td> 500518.71</td><td>2</td></tr>\n",
       "\t<tr><th scope=row>LysoPC(15:0)</th><td>  32579.3</td><td>  16556.61</td><td>  33859.09</td><td>8</td></tr>\n",
       "</tbody>\n",
       "</table>\n"
      ],
      "text/latex": [
       "A matrix: 6 × 4 of type dbl\n",
       "\\begin{tabular}{r|llll}\n",
       "  & WT.NC & WT.CLP & KO.CLP & protein\\_cluster\\\\\n",
       "\\hline\n",
       "\tLysoPC(20:4(5Z,8Z,11Z,14Z)) &  184507.0 &   98268.70 &  172675.59 & 8\\\\\n",
       "\tLysoPC(18:0) & 1849168.0 & 1446962.55 & 2290621.46 & 2\\\\\n",
       "\tLysoPC(16:0) & 2129105.4 & 1201036.86 & 2236969.83 & 8\\\\\n",
       "\t7-Ketodeoxycholic acid &  183605.4 &  398664.01 &  322832.41 & 5\\\\\n",
       "\tLysoPC(18:1(11Z)) &  341167.0 &  259146.08 &  500518.71 & 2\\\\\n",
       "\tLysoPC(15:0) &   32579.3 &   16556.61 &   33859.09 & 8\\\\\n",
       "\\end{tabular}\n"
      ],
      "text/markdown": [
       "\n",
       "A matrix: 6 × 4 of type dbl\n",
       "\n",
       "| <!--/--> | WT.NC | WT.CLP | KO.CLP | protein_cluster |\n",
       "|---|---|---|---|---|\n",
       "| LysoPC(20:4(5Z,8Z,11Z,14Z)) |  184507.0 |   98268.70 |  172675.59 | 8 |\n",
       "| LysoPC(18:0) | 1849168.0 | 1446962.55 | 2290621.46 | 2 |\n",
       "| LysoPC(16:0) | 2129105.4 | 1201036.86 | 2236969.83 | 8 |\n",
       "| 7-Ketodeoxycholic acid |  183605.4 |  398664.01 |  322832.41 | 5 |\n",
       "| LysoPC(18:1(11Z)) |  341167.0 |  259146.08 |  500518.71 | 2 |\n",
       "| LysoPC(15:0) |   32579.3 |   16556.61 |   33859.09 | 8 |\n",
       "\n"
      ],
      "text/plain": [
       "                            WT.NC     WT.CLP     KO.CLP     protein_cluster\n",
       "LysoPC(20:4(5Z,8Z,11Z,14Z))  184507.0   98268.70  172675.59 8              \n",
       "LysoPC(18:0)                1849168.0 1446962.55 2290621.46 2              \n",
       "LysoPC(16:0)                2129105.4 1201036.86 2236969.83 8              \n",
       "7-Ketodeoxycholic acid       183605.4  398664.01  322832.41 5              \n",
       "LysoPC(18:1(11Z))            341167.0  259146.08  500518.71 2              \n",
       "LysoPC(15:0)                  32579.3   16556.61   33859.09 8              "
      ]
     },
     "metadata": {},
     "output_type": "display_data"
    }
   ],
   "source": [
    "protein_cluster <- tcseq_cluster@cluster\n",
    "protein_cluster <- cbind(protein[names(protein_cluster), ], protein_cluster)\n",
    "head(protein_cluster)"
   ]
  },
  {
   "cell_type": "code",
   "execution_count": 49,
   "id": "abb6ee70-dc06-416c-abbe-f7ad732baaea",
   "metadata": {},
   "outputs": [],
   "source": [
    "protein_cluster = as.data.frame(protein_cluster)"
   ]
  },
  {
   "cell_type": "code",
   "execution_count": 50,
   "id": "f3954a4e-f302-4646-b4b5-c1196c37ab24",
   "metadata": {
    "scrolled": true
   },
   "outputs": [],
   "source": [
    "protein_cluster = protein_cluster %>% rownames_to_column(.,'metabolites')"
   ]
  },
  {
   "cell_type": "code",
   "execution_count": 51,
   "id": "4bd50a3a-f5a8-4a5d-853b-f225f8a93602",
   "metadata": {},
   "outputs": [],
   "source": [
    "write.csv(protein_cluster,file = 'protein_cluster.csv')"
   ]
  },
  {
   "cell_type": "code",
   "execution_count": 92,
   "id": "a721c723-1df5-48b7-8c36-37b995636971",
   "metadata": {},
   "outputs": [],
   "source": [
    "id = read.csv('/data/workdirV6/cnumber.csv')"
   ]
  },
  {
   "cell_type": "code",
   "execution_count": 93,
   "id": "beeaf8d5-424b-4a7f-9386-9ed9cc90f555",
   "metadata": {},
   "outputs": [
    {
     "data": {
      "text/html": [
       "<table class=\"dataframe\">\n",
       "<caption>A data.frame: 2 × 2</caption>\n",
       "<thead>\n",
       "\t<tr><th></th><th scope=col>Metabolites</th><th scope=col>kegg</th></tr>\n",
       "\t<tr><th></th><th scope=col>&lt;chr&gt;</th><th scope=col>&lt;chr&gt;</th></tr>\n",
       "</thead>\n",
       "<tbody>\n",
       "\t<tr><th scope=row>1</th><td>4-Aminohippuric acid   </td><td>D06890 </td></tr>\n",
       "\t<tr><th scope=row>2</th><td>Imidazolepropionic acid</td><td>C20522 </td></tr>\n",
       "</tbody>\n",
       "</table>\n"
      ],
      "text/latex": [
       "A data.frame: 2 × 2\n",
       "\\begin{tabular}{r|ll}\n",
       "  & Metabolites & kegg\\\\\n",
       "  & <chr> & <chr>\\\\\n",
       "\\hline\n",
       "\t1 & 4-Aminohippuric acid    & D06890 \\\\\n",
       "\t2 & Imidazolepropionic acid & C20522 \\\\\n",
       "\\end{tabular}\n"
      ],
      "text/markdown": [
       "\n",
       "A data.frame: 2 × 2\n",
       "\n",
       "| <!--/--> | Metabolites &lt;chr&gt; | kegg &lt;chr&gt; |\n",
       "|---|---|---|\n",
       "| 1 | 4-Aminohippuric acid    | D06890  |\n",
       "| 2 | Imidazolepropionic acid | C20522  |\n",
       "\n"
      ],
      "text/plain": [
       "  Metabolites             kegg   \n",
       "1 4-Aminohippuric acid    D06890 \n",
       "2 Imidazolepropionic acid C20522 "
      ]
     },
     "metadata": {},
     "output_type": "display_data"
    }
   ],
   "source": [
    "head(id,2)"
   ]
  },
  {
   "cell_type": "code",
   "execution_count": 94,
   "id": "aa58432f-8597-4e90-9d6c-ddde60de1e07",
   "metadata": {},
   "outputs": [],
   "source": [
    "protein_cluster2 = merge(id,protein_cluster,by.x = 'Metabolites',by.y = 'metabolites')"
   ]
  },
  {
   "cell_type": "code",
   "execution_count": 136,
   "id": "76b525fc-44d9-405b-9148-408f220fed90",
   "metadata": {},
   "outputs": [
    {
     "data": {
      "text/html": [
       "<table class=\"dataframe\">\n",
       "<caption>A data.frame: 4 × 6</caption>\n",
       "<thead>\n",
       "\t<tr><th></th><th scope=col>Metabolites</th><th scope=col>kegg</th><th scope=col>WT.NC</th><th scope=col>WT.CLP</th><th scope=col>KO.CLP</th><th scope=col>protein_cluster</th></tr>\n",
       "\t<tr><th></th><th scope=col>&lt;chr&gt;</th><th scope=col>&lt;chr&gt;</th><th scope=col>&lt;dbl&gt;</th><th scope=col>&lt;dbl&gt;</th><th scope=col>&lt;dbl&gt;</th><th scope=col>&lt;dbl&gt;</th></tr>\n",
       "</thead>\n",
       "<tbody>\n",
       "\t<tr><th scope=row>1</th><td>(-)-alpha-Bisabolol</td><td>C09621</td><td>14473.5659</td><td>15111.7440</td><td>15949.8105</td><td> 3</td></tr>\n",
       "\t<tr><th scope=row>2</th><td>(-)-alpha-Curcumene</td><td>C09649</td><td> 4276.3315</td><td> 4511.1803</td><td> 4605.0901</td><td> 6</td></tr>\n",
       "\t<tr><th scope=row>3</th><td>(-)-alpha-Pinene   </td><td>C06308</td><td>  932.3996</td><td>  924.8966</td><td>  740.6990</td><td>10</td></tr>\n",
       "\t<tr><th scope=row>4</th><td>(-)-Borneol        </td><td>C01411</td><td>  384.4498</td><td>  300.1120</td><td>  373.7849</td><td> 8</td></tr>\n",
       "</tbody>\n",
       "</table>\n"
      ],
      "text/latex": [
       "A data.frame: 4 × 6\n",
       "\\begin{tabular}{r|llllll}\n",
       "  & Metabolites & kegg & WT.NC & WT.CLP & KO.CLP & protein\\_cluster\\\\\n",
       "  & <chr> & <chr> & <dbl> & <dbl> & <dbl> & <dbl>\\\\\n",
       "\\hline\n",
       "\t1 & (-)-alpha-Bisabolol & C09621 & 14473.5659 & 15111.7440 & 15949.8105 &  3\\\\\n",
       "\t2 & (-)-alpha-Curcumene & C09649 &  4276.3315 &  4511.1803 &  4605.0901 &  6\\\\\n",
       "\t3 & (-)-alpha-Pinene    & C06308 &   932.3996 &   924.8966 &   740.6990 & 10\\\\\n",
       "\t4 & (-)-Borneol         & C01411 &   384.4498 &   300.1120 &   373.7849 &  8\\\\\n",
       "\\end{tabular}\n"
      ],
      "text/markdown": [
       "\n",
       "A data.frame: 4 × 6\n",
       "\n",
       "| <!--/--> | Metabolites &lt;chr&gt; | kegg &lt;chr&gt; | WT.NC &lt;dbl&gt; | WT.CLP &lt;dbl&gt; | KO.CLP &lt;dbl&gt; | protein_cluster &lt;dbl&gt; |\n",
       "|---|---|---|---|---|---|---|\n",
       "| 1 | (-)-alpha-Bisabolol | C09621 | 14473.5659 | 15111.7440 | 15949.8105 |  3 |\n",
       "| 2 | (-)-alpha-Curcumene | C09649 |  4276.3315 |  4511.1803 |  4605.0901 |  6 |\n",
       "| 3 | (-)-alpha-Pinene    | C06308 |   932.3996 |   924.8966 |   740.6990 | 10 |\n",
       "| 4 | (-)-Borneol         | C01411 |   384.4498 |   300.1120 |   373.7849 |  8 |\n",
       "\n"
      ],
      "text/plain": [
       "  Metabolites         kegg   WT.NC      WT.CLP     KO.CLP     protein_cluster\n",
       "1 (-)-alpha-Bisabolol C09621 14473.5659 15111.7440 15949.8105  3             \n",
       "2 (-)-alpha-Curcumene C09649  4276.3315  4511.1803  4605.0901  6             \n",
       "3 (-)-alpha-Pinene    C06308   932.3996   924.8966   740.6990 10             \n",
       "4 (-)-Borneol         C01411   384.4498   300.1120   373.7849  8             "
      ]
     },
     "metadata": {},
     "output_type": "display_data"
    }
   ],
   "source": [
    "head(protein_cluster2,4)"
   ]
  },
  {
   "cell_type": "code",
   "execution_count": null,
   "id": "61902333-6b77-4131-86d5-12271a665f8c",
   "metadata": {},
   "outputs": [],
   "source": []
  },
  {
   "cell_type": "code",
   "execution_count": 52,
   "id": "f387a024-6390-477b-8f90-8bda23f5a266",
   "metadata": {},
   "outputs": [],
   "source": [
    "kegg = read.csv('../workdirV6/KEGG_COMPOUND_PATHWAY_mmu.csv')"
   ]
  },
  {
   "cell_type": "code",
   "execution_count": 59,
   "id": "f90a29d8-bfed-4fcb-916b-d8ee04c2f46f",
   "metadata": {},
   "outputs": [
    {
     "data": {
      "text/html": [
       "<table class=\"dataframe\">\n",
       "<caption>A data.frame: 6 × 7</caption>\n",
       "<thead>\n",
       "\t<tr><th></th><th scope=col>Pathway</th><th scope=col>NAME</th><th scope=col>CLASS1</th><th scope=col>CLASS2</th><th scope=col>PATHWAY_MAP</th><th scope=col>COMPOUND</th><th scope=col>COMPOUND_DESCRIPTION</th></tr>\n",
       "\t<tr><th></th><th scope=col>&lt;chr&gt;</th><th scope=col>&lt;chr&gt;</th><th scope=col>&lt;chr&gt;</th><th scope=col>&lt;chr&gt;</th><th scope=col>&lt;chr&gt;</th><th scope=col>&lt;chr&gt;</th><th scope=col>&lt;chr&gt;</th></tr>\n",
       "</thead>\n",
       "<tbody>\n",
       "\t<tr><th scope=row>1</th><td>mmu00010</td><td>Glycolysis / Gluconeogenesis - Mus musculus (house mouse)</td><td>Metabolism</td><td>Carbohydrate metabolism</td><td>Glycolysis / Gluconeogenesis</td><td>C00022</td><td>Pyruvate           </td></tr>\n",
       "\t<tr><th scope=row>2</th><td>mmu00010</td><td>Glycolysis / Gluconeogenesis - Mus musculus (house mouse)</td><td>Metabolism</td><td>Carbohydrate metabolism</td><td>Glycolysis / Gluconeogenesis</td><td>C00024</td><td>Acetyl-CoA         </td></tr>\n",
       "\t<tr><th scope=row>3</th><td>mmu00010</td><td>Glycolysis / Gluconeogenesis - Mus musculus (house mouse)</td><td>Metabolism</td><td>Carbohydrate metabolism</td><td>Glycolysis / Gluconeogenesis</td><td>C00031</td><td>D-Glucose          </td></tr>\n",
       "\t<tr><th scope=row>4</th><td>mmu00010</td><td>Glycolysis / Gluconeogenesis - Mus musculus (house mouse)</td><td>Metabolism</td><td>Carbohydrate metabolism</td><td>Glycolysis / Gluconeogenesis</td><td>C00033</td><td>Acetate            </td></tr>\n",
       "\t<tr><th scope=row>5</th><td>mmu00010</td><td>Glycolysis / Gluconeogenesis - Mus musculus (house mouse)</td><td>Metabolism</td><td>Carbohydrate metabolism</td><td>Glycolysis / Gluconeogenesis</td><td>C00036</td><td>Oxaloacetate       </td></tr>\n",
       "\t<tr><th scope=row>6</th><td>mmu00010</td><td>Glycolysis / Gluconeogenesis - Mus musculus (house mouse)</td><td>Metabolism</td><td>Carbohydrate metabolism</td><td>Glycolysis / Gluconeogenesis</td><td>C00068</td><td>Thiamin diphosphate</td></tr>\n",
       "</tbody>\n",
       "</table>\n"
      ],
      "text/latex": [
       "A data.frame: 6 × 7\n",
       "\\begin{tabular}{r|lllllll}\n",
       "  & Pathway & NAME & CLASS1 & CLASS2 & PATHWAY\\_MAP & COMPOUND & COMPOUND\\_DESCRIPTION\\\\\n",
       "  & <chr> & <chr> & <chr> & <chr> & <chr> & <chr> & <chr>\\\\\n",
       "\\hline\n",
       "\t1 & mmu00010 & Glycolysis / Gluconeogenesis - Mus musculus (house mouse) & Metabolism & Carbohydrate metabolism & Glycolysis / Gluconeogenesis & C00022 & Pyruvate           \\\\\n",
       "\t2 & mmu00010 & Glycolysis / Gluconeogenesis - Mus musculus (house mouse) & Metabolism & Carbohydrate metabolism & Glycolysis / Gluconeogenesis & C00024 & Acetyl-CoA         \\\\\n",
       "\t3 & mmu00010 & Glycolysis / Gluconeogenesis - Mus musculus (house mouse) & Metabolism & Carbohydrate metabolism & Glycolysis / Gluconeogenesis & C00031 & D-Glucose          \\\\\n",
       "\t4 & mmu00010 & Glycolysis / Gluconeogenesis - Mus musculus (house mouse) & Metabolism & Carbohydrate metabolism & Glycolysis / Gluconeogenesis & C00033 & Acetate            \\\\\n",
       "\t5 & mmu00010 & Glycolysis / Gluconeogenesis - Mus musculus (house mouse) & Metabolism & Carbohydrate metabolism & Glycolysis / Gluconeogenesis & C00036 & Oxaloacetate       \\\\\n",
       "\t6 & mmu00010 & Glycolysis / Gluconeogenesis - Mus musculus (house mouse) & Metabolism & Carbohydrate metabolism & Glycolysis / Gluconeogenesis & C00068 & Thiamin diphosphate\\\\\n",
       "\\end{tabular}\n"
      ],
      "text/markdown": [
       "\n",
       "A data.frame: 6 × 7\n",
       "\n",
       "| <!--/--> | Pathway &lt;chr&gt; | NAME &lt;chr&gt; | CLASS1 &lt;chr&gt; | CLASS2 &lt;chr&gt; | PATHWAY_MAP &lt;chr&gt; | COMPOUND &lt;chr&gt; | COMPOUND_DESCRIPTION &lt;chr&gt; |\n",
       "|---|---|---|---|---|---|---|---|\n",
       "| 1 | mmu00010 | Glycolysis / Gluconeogenesis - Mus musculus (house mouse) | Metabolism | Carbohydrate metabolism | Glycolysis / Gluconeogenesis | C00022 | Pyruvate            |\n",
       "| 2 | mmu00010 | Glycolysis / Gluconeogenesis - Mus musculus (house mouse) | Metabolism | Carbohydrate metabolism | Glycolysis / Gluconeogenesis | C00024 | Acetyl-CoA          |\n",
       "| 3 | mmu00010 | Glycolysis / Gluconeogenesis - Mus musculus (house mouse) | Metabolism | Carbohydrate metabolism | Glycolysis / Gluconeogenesis | C00031 | D-Glucose           |\n",
       "| 4 | mmu00010 | Glycolysis / Gluconeogenesis - Mus musculus (house mouse) | Metabolism | Carbohydrate metabolism | Glycolysis / Gluconeogenesis | C00033 | Acetate             |\n",
       "| 5 | mmu00010 | Glycolysis / Gluconeogenesis - Mus musculus (house mouse) | Metabolism | Carbohydrate metabolism | Glycolysis / Gluconeogenesis | C00036 | Oxaloacetate        |\n",
       "| 6 | mmu00010 | Glycolysis / Gluconeogenesis - Mus musculus (house mouse) | Metabolism | Carbohydrate metabolism | Glycolysis / Gluconeogenesis | C00068 | Thiamin diphosphate |\n",
       "\n"
      ],
      "text/plain": [
       "  Pathway  NAME                                                      CLASS1    \n",
       "1 mmu00010 Glycolysis / Gluconeogenesis - Mus musculus (house mouse) Metabolism\n",
       "2 mmu00010 Glycolysis / Gluconeogenesis - Mus musculus (house mouse) Metabolism\n",
       "3 mmu00010 Glycolysis / Gluconeogenesis - Mus musculus (house mouse) Metabolism\n",
       "4 mmu00010 Glycolysis / Gluconeogenesis - Mus musculus (house mouse) Metabolism\n",
       "5 mmu00010 Glycolysis / Gluconeogenesis - Mus musculus (house mouse) Metabolism\n",
       "6 mmu00010 Glycolysis / Gluconeogenesis - Mus musculus (house mouse) Metabolism\n",
       "  CLASS2                  PATHWAY_MAP                  COMPOUND\n",
       "1 Carbohydrate metabolism Glycolysis / Gluconeogenesis C00022  \n",
       "2 Carbohydrate metabolism Glycolysis / Gluconeogenesis C00024  \n",
       "3 Carbohydrate metabolism Glycolysis / Gluconeogenesis C00031  \n",
       "4 Carbohydrate metabolism Glycolysis / Gluconeogenesis C00033  \n",
       "5 Carbohydrate metabolism Glycolysis / Gluconeogenesis C00036  \n",
       "6 Carbohydrate metabolism Glycolysis / Gluconeogenesis C00068  \n",
       "  COMPOUND_DESCRIPTION\n",
       "1 Pyruvate            \n",
       "2 Acetyl-CoA          \n",
       "3 D-Glucose           \n",
       "4 Acetate             \n",
       "5 Oxaloacetate        \n",
       "6 Thiamin diphosphate "
      ]
     },
     "metadata": {},
     "output_type": "display_data"
    }
   ],
   "source": [
    "head(kegg)"
   ]
  },
  {
   "cell_type": "code",
   "execution_count": 129,
   "id": "6a7c69fb-cc9d-4a66-bc68-64e402b094bb",
   "metadata": {},
   "outputs": [],
   "source": [
    "dd = kegg %>% dplyr::filter(PATHWAY_MAP %in% c('Arginine biosynthesis'))"
   ]
  },
  {
   "cell_type": "code",
   "execution_count": 130,
   "id": "259c1fd0-1eea-40ea-9f78-cbfbefcb0f71",
   "metadata": {},
   "outputs": [
    {
     "data": {
      "text/html": [
       "<table class=\"dataframe\">\n",
       "<caption>A data.frame: 2 × 7</caption>\n",
       "<thead>\n",
       "\t<tr><th></th><th scope=col>Pathway</th><th scope=col>NAME</th><th scope=col>CLASS1</th><th scope=col>CLASS2</th><th scope=col>PATHWAY_MAP</th><th scope=col>COMPOUND</th><th scope=col>COMPOUND_DESCRIPTION</th></tr>\n",
       "\t<tr><th></th><th scope=col>&lt;chr&gt;</th><th scope=col>&lt;chr&gt;</th><th scope=col>&lt;chr&gt;</th><th scope=col>&lt;chr&gt;</th><th scope=col>&lt;chr&gt;</th><th scope=col>&lt;chr&gt;</th><th scope=col>&lt;chr&gt;</th></tr>\n",
       "</thead>\n",
       "<tbody>\n",
       "\t<tr><th scope=row>1</th><td>mmu00220</td><td>Arginine biosynthesis - Mus musculus (house mouse)</td><td>Metabolism</td><td>Amino acid metabolism</td><td>Arginine biosynthesis</td><td>C00011</td><td>CO2    </td></tr>\n",
       "\t<tr><th scope=row>2</th><td>mmu00220</td><td>Arginine biosynthesis - Mus musculus (house mouse)</td><td>Metabolism</td><td>Amino acid metabolism</td><td>Arginine biosynthesis</td><td>C00014</td><td>Ammonia</td></tr>\n",
       "</tbody>\n",
       "</table>\n"
      ],
      "text/latex": [
       "A data.frame: 2 × 7\n",
       "\\begin{tabular}{r|lllllll}\n",
       "  & Pathway & NAME & CLASS1 & CLASS2 & PATHWAY\\_MAP & COMPOUND & COMPOUND\\_DESCRIPTION\\\\\n",
       "  & <chr> & <chr> & <chr> & <chr> & <chr> & <chr> & <chr>\\\\\n",
       "\\hline\n",
       "\t1 & mmu00220 & Arginine biosynthesis - Mus musculus (house mouse) & Metabolism & Amino acid metabolism & Arginine biosynthesis & C00011 & CO2    \\\\\n",
       "\t2 & mmu00220 & Arginine biosynthesis - Mus musculus (house mouse) & Metabolism & Amino acid metabolism & Arginine biosynthesis & C00014 & Ammonia\\\\\n",
       "\\end{tabular}\n"
      ],
      "text/markdown": [
       "\n",
       "A data.frame: 2 × 7\n",
       "\n",
       "| <!--/--> | Pathway &lt;chr&gt; | NAME &lt;chr&gt; | CLASS1 &lt;chr&gt; | CLASS2 &lt;chr&gt; | PATHWAY_MAP &lt;chr&gt; | COMPOUND &lt;chr&gt; | COMPOUND_DESCRIPTION &lt;chr&gt; |\n",
       "|---|---|---|---|---|---|---|---|\n",
       "| 1 | mmu00220 | Arginine biosynthesis - Mus musculus (house mouse) | Metabolism | Amino acid metabolism | Arginine biosynthesis | C00011 | CO2     |\n",
       "| 2 | mmu00220 | Arginine biosynthesis - Mus musculus (house mouse) | Metabolism | Amino acid metabolism | Arginine biosynthesis | C00014 | Ammonia |\n",
       "\n"
      ],
      "text/plain": [
       "  Pathway  NAME                                               CLASS1    \n",
       "1 mmu00220 Arginine biosynthesis - Mus musculus (house mouse) Metabolism\n",
       "2 mmu00220 Arginine biosynthesis - Mus musculus (house mouse) Metabolism\n",
       "  CLASS2                PATHWAY_MAP           COMPOUND COMPOUND_DESCRIPTION\n",
       "1 Amino acid metabolism Arginine biosynthesis C00011   CO2                 \n",
       "2 Amino acid metabolism Arginine biosynthesis C00014   Ammonia             "
      ]
     },
     "metadata": {},
     "output_type": "display_data"
    }
   ],
   "source": [
    "head(dd,2)"
   ]
  },
  {
   "cell_type": "code",
   "execution_count": 131,
   "id": "8bb7bce7-91cb-4fdb-b6f6-16a61aeed87d",
   "metadata": {},
   "outputs": [
    {
     "data": {
      "text/plain": [
       "\n",
       "Arginine biosynthesis \n",
       "                   23 "
      ]
     },
     "metadata": {},
     "output_type": "display_data"
    }
   ],
   "source": [
    "table(dd$PATHWAY_MAP)"
   ]
  },
  {
   "cell_type": "code",
   "execution_count": 132,
   "id": "c1e1900d-97ca-486f-80fb-f6cdec73577d",
   "metadata": {},
   "outputs": [
    {
     "data": {
      "text/html": [
       "<table class=\"dataframe\">\n",
       "<caption>A data.frame: 6 × 6</caption>\n",
       "<thead>\n",
       "\t<tr><th></th><th scope=col>Metabolites</th><th scope=col>kegg</th><th scope=col>WT.NC</th><th scope=col>WT.CLP</th><th scope=col>KO.CLP</th><th scope=col>protein_cluster</th></tr>\n",
       "\t<tr><th></th><th scope=col>&lt;chr&gt;</th><th scope=col>&lt;chr&gt;</th><th scope=col>&lt;dbl&gt;</th><th scope=col>&lt;dbl&gt;</th><th scope=col>&lt;dbl&gt;</th><th scope=col>&lt;dbl&gt;</th></tr>\n",
       "</thead>\n",
       "<tbody>\n",
       "\t<tr><th scope=row>1</th><td>(-)-alpha-Bisabolol</td><td>C09621</td><td>14473.5659</td><td>15111.7440</td><td>15949.8105</td><td> 3</td></tr>\n",
       "\t<tr><th scope=row>2</th><td>(-)-alpha-Curcumene</td><td>C09649</td><td> 4276.3315</td><td> 4511.1803</td><td> 4605.0901</td><td> 6</td></tr>\n",
       "\t<tr><th scope=row>3</th><td>(-)-alpha-Pinene   </td><td>C06308</td><td>  932.3996</td><td>  924.8966</td><td>  740.6990</td><td>10</td></tr>\n",
       "\t<tr><th scope=row>4</th><td>(-)-Borneol        </td><td>C01411</td><td>  384.4498</td><td>  300.1120</td><td>  373.7849</td><td> 8</td></tr>\n",
       "\t<tr><th scope=row>5</th><td>(-)-Bornesitol     </td><td>C03659</td><td> 1839.7677</td><td>  518.8245</td><td>  292.4050</td><td> 7</td></tr>\n",
       "\t<tr><th scope=row>6</th><td>(-)-Dihydrocarveol </td><td>C11396</td><td>  494.7748</td><td>  542.6368</td><td>  494.2646</td><td> 9</td></tr>\n",
       "</tbody>\n",
       "</table>\n"
      ],
      "text/latex": [
       "A data.frame: 6 × 6\n",
       "\\begin{tabular}{r|llllll}\n",
       "  & Metabolites & kegg & WT.NC & WT.CLP & KO.CLP & protein\\_cluster\\\\\n",
       "  & <chr> & <chr> & <dbl> & <dbl> & <dbl> & <dbl>\\\\\n",
       "\\hline\n",
       "\t1 & (-)-alpha-Bisabolol & C09621 & 14473.5659 & 15111.7440 & 15949.8105 &  3\\\\\n",
       "\t2 & (-)-alpha-Curcumene & C09649 &  4276.3315 &  4511.1803 &  4605.0901 &  6\\\\\n",
       "\t3 & (-)-alpha-Pinene    & C06308 &   932.3996 &   924.8966 &   740.6990 & 10\\\\\n",
       "\t4 & (-)-Borneol         & C01411 &   384.4498 &   300.1120 &   373.7849 &  8\\\\\n",
       "\t5 & (-)-Bornesitol      & C03659 &  1839.7677 &   518.8245 &   292.4050 &  7\\\\\n",
       "\t6 & (-)-Dihydrocarveol  & C11396 &   494.7748 &   542.6368 &   494.2646 &  9\\\\\n",
       "\\end{tabular}\n"
      ],
      "text/markdown": [
       "\n",
       "A data.frame: 6 × 6\n",
       "\n",
       "| <!--/--> | Metabolites &lt;chr&gt; | kegg &lt;chr&gt; | WT.NC &lt;dbl&gt; | WT.CLP &lt;dbl&gt; | KO.CLP &lt;dbl&gt; | protein_cluster &lt;dbl&gt; |\n",
       "|---|---|---|---|---|---|---|\n",
       "| 1 | (-)-alpha-Bisabolol | C09621 | 14473.5659 | 15111.7440 | 15949.8105 |  3 |\n",
       "| 2 | (-)-alpha-Curcumene | C09649 |  4276.3315 |  4511.1803 |  4605.0901 |  6 |\n",
       "| 3 | (-)-alpha-Pinene    | C06308 |   932.3996 |   924.8966 |   740.6990 | 10 |\n",
       "| 4 | (-)-Borneol         | C01411 |   384.4498 |   300.1120 |   373.7849 |  8 |\n",
       "| 5 | (-)-Bornesitol      | C03659 |  1839.7677 |   518.8245 |   292.4050 |  7 |\n",
       "| 6 | (-)-Dihydrocarveol  | C11396 |   494.7748 |   542.6368 |   494.2646 |  9 |\n",
       "\n"
      ],
      "text/plain": [
       "  Metabolites         kegg   WT.NC      WT.CLP     KO.CLP     protein_cluster\n",
       "1 (-)-alpha-Bisabolol C09621 14473.5659 15111.7440 15949.8105  3             \n",
       "2 (-)-alpha-Curcumene C09649  4276.3315  4511.1803  4605.0901  6             \n",
       "3 (-)-alpha-Pinene    C06308   932.3996   924.8966   740.6990 10             \n",
       "4 (-)-Borneol         C01411   384.4498   300.1120   373.7849  8             \n",
       "5 (-)-Bornesitol      C03659  1839.7677   518.8245   292.4050  7             \n",
       "6 (-)-Dihydrocarveol  C11396   494.7748   542.6368   494.2646  9             "
      ]
     },
     "metadata": {},
     "output_type": "display_data"
    }
   ],
   "source": [
    "head(protein_cluster2)"
   ]
  },
  {
   "cell_type": "code",
   "execution_count": 133,
   "id": "0b4596ea-8eb3-4816-9976-85c7b956737d",
   "metadata": {},
   "outputs": [
    {
     "data": {
      "text/plain": [
       "\n",
       "  1   2   3   4   5   6   7   8   9  10 \n",
       " 57  49  90 156  92 139 140  59 112  69 "
      ]
     },
     "metadata": {},
     "output_type": "display_data"
    }
   ],
   "source": [
    "table(protein_cluster2$protein_cluster)"
   ]
  },
  {
   "cell_type": "code",
   "execution_count": 134,
   "id": "60246512-a53b-4014-bafe-43ece502072f",
   "metadata": {},
   "outputs": [],
   "source": [
    "dd2 = merge(dd,protein_cluster2,by.x = 'COMPOUND',by.y = 'kegg')"
   ]
  },
  {
   "cell_type": "code",
   "execution_count": 135,
   "id": "4d3ea0e8-fd32-4118-8190-0986744d1b16",
   "metadata": {},
   "outputs": [
    {
     "data": {
      "text/plain": [
       "\n",
       "1 3 4 5 6 7 9 \n",
       "2 1 1 1 2 2 1 "
      ]
     },
     "metadata": {},
     "output_type": "display_data"
    }
   ],
   "source": [
    "table(dd2$protein_cluster)"
   ]
  },
  {
   "cell_type": "code",
   "execution_count": null,
   "id": "1d30593d-bf30-4dae-bffe-9feb3f725d5f",
   "metadata": {},
   "outputs": [],
   "source": []
  },
  {
   "cell_type": "code",
   "execution_count": null,
   "id": "2c2e658a-4226-4246-b4fa-4673be0acc3e",
   "metadata": {},
   "outputs": [],
   "source": []
  }
 ],
 "metadata": {
  "kernelspec": {
   "display_name": "R",
   "language": "R",
   "name": "ir"
  },
  "language_info": {
   "codemirror_mode": "r",
   "file_extension": ".r",
   "mimetype": "text/x-r-source",
   "name": "R",
   "pygments_lexer": "r",
   "version": "4.2.1"
  }
 },
 "nbformat": 4,
 "nbformat_minor": 5
}
