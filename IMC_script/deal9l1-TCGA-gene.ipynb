{
 "cells": [
  {
   "cell_type": "markdown",
   "id": "456a3139-7d5b-49df-ad3a-ea0eeb33a16f",
   "metadata": {},
   "source": [
    "### TCGA ID转换教程 https://www.jianshu.com/p/a969edd384c3"
   ]
  },
  {
   "cell_type": "code",
   "execution_count": 1,
   "id": "2b84b4e8-e54f-4c10-a975-ac66f65457b9",
   "metadata": {},
   "outputs": [],
   "source": [
    "setwd('/import/a.jif/TCGA/')"
   ]
  },
  {
   "cell_type": "code",
   "execution_count": 2,
   "id": "1f568df1-20bb-441d-b3b5-da60efdf40bf",
   "metadata": {},
   "outputs": [],
   "source": [
    "fpkm = read.table('./TCGA-OV.htseq_fpkm.tsv',header =T,check.names = F)"
   ]
  },
  {
   "cell_type": "code",
   "execution_count": 3,
   "id": "8abafe2a-33b1-45e0-9054-e508f2a8998f",
   "metadata": {},
   "outputs": [
    {
     "data": {
      "text/html": [
       "<table class=\"dataframe\">\n",
       "<caption>A data.frame: 2 x 380</caption>\n",
       "<thead>\n",
       "\t<tr><th></th><th scope=col>Ensembl_ID</th><th scope=col>TCGA-23-1120-01A</th><th scope=col>TCGA-29-1695-01A</th><th scope=col>TCGA-61-2003-01A</th><th scope=col>TCGA-13-1404-01A</th><th scope=col>TCGA-23-1027-01A</th><th scope=col>TCGA-23-1022-01A</th><th scope=col>TCGA-61-2088-01A</th><th scope=col>TCGA-13-1507-01A</th><th scope=col>TCGA-61-1725-01A</th><th scope=col>...</th><th scope=col>TCGA-30-1714-01A</th><th scope=col>TCGA-57-1582-01A</th><th scope=col>TCGA-61-2012-01A</th><th scope=col>TCGA-13-1510-01A</th><th scope=col>TCGA-VG-A8LO-01A</th><th scope=col>TCGA-23-2078-01A</th><th scope=col>TCGA-09-1666-01A</th><th scope=col>TCGA-29-1777-01A</th><th scope=col>TCGA-61-2110-01A</th><th scope=col>TCGA-29-1776-01A</th></tr>\n",
       "\t<tr><th></th><th scope=col>&lt;chr&gt;</th><th scope=col>&lt;dbl&gt;</th><th scope=col>&lt;dbl&gt;</th><th scope=col>&lt;dbl&gt;</th><th scope=col>&lt;dbl&gt;</th><th scope=col>&lt;dbl&gt;</th><th scope=col>&lt;dbl&gt;</th><th scope=col>&lt;dbl&gt;</th><th scope=col>&lt;dbl&gt;</th><th scope=col>&lt;dbl&gt;</th><th scope=col>...</th><th scope=col>&lt;dbl&gt;</th><th scope=col>&lt;dbl&gt;</th><th scope=col>&lt;dbl&gt;</th><th scope=col>&lt;dbl&gt;</th><th scope=col>&lt;dbl&gt;</th><th scope=col>&lt;dbl&gt;</th><th scope=col>&lt;dbl&gt;</th><th scope=col>&lt;dbl&gt;</th><th scope=col>&lt;dbl&gt;</th><th scope=col>&lt;dbl&gt;</th></tr>\n",
       "</thead>\n",
       "<tbody>\n",
       "\t<tr><th scope=row>1</th><td>ENSG00000242268.2</td><td>0.00000000</td><td>0.118121979</td><td>0.00000000</td><td>0.00000000</td><td>0.000000000</td><td>0.0000000</td><td>0.00000000</td><td>0.03742011</td><td>0.00000000</td><td>...</td><td>0</td><td>0.095228892</td><td>0.0000000</td><td>0.00000000</td><td>0.16687478</td><td>0.84444623</td><td>0.20668416</td><td>0.00000000</td><td>0.000000000</td><td>0.00000000</td></tr>\n",
       "\t<tr><th scope=row>2</th><td>ENSG00000270112.3</td><td>0.05758351</td><td>0.006815658</td><td>0.05825216</td><td>0.02962052</td><td>0.001992579</td><td>0.1286417</td><td>0.05192911</td><td>0.21011257</td><td>0.01277858</td><td>...</td><td>0</td><td>0.004545883</td><td>0.4456864</td><td>0.01138721</td><td>0.02088807</td><td>0.09550716</td><td>0.01315444</td><td>0.02314206</td><td>0.004686142</td><td>0.02748921</td></tr>\n",
       "</tbody>\n",
       "</table>\n"
      ],
      "text/latex": [
       "A data.frame: 2 x 380\n",
       "\\begin{tabular}{r|lllllllllllllllllllll}\n",
       "  & Ensembl\\_ID & TCGA-23-1120-01A & TCGA-29-1695-01A & TCGA-61-2003-01A & TCGA-13-1404-01A & TCGA-23-1027-01A & TCGA-23-1022-01A & TCGA-61-2088-01A & TCGA-13-1507-01A & TCGA-61-1725-01A & ... & TCGA-30-1714-01A & TCGA-57-1582-01A & TCGA-61-2012-01A & TCGA-13-1510-01A & TCGA-VG-A8LO-01A & TCGA-23-2078-01A & TCGA-09-1666-01A & TCGA-29-1777-01A & TCGA-61-2110-01A & TCGA-29-1776-01A\\\\\n",
       "  & <chr> & <dbl> & <dbl> & <dbl> & <dbl> & <dbl> & <dbl> & <dbl> & <dbl> & <dbl> & ... & <dbl> & <dbl> & <dbl> & <dbl> & <dbl> & <dbl> & <dbl> & <dbl> & <dbl> & <dbl>\\\\\n",
       "\\hline\n",
       "\t1 & ENSG00000242268.2 & 0.00000000 & 0.118121979 & 0.00000000 & 0.00000000 & 0.000000000 & 0.0000000 & 0.00000000 & 0.03742011 & 0.00000000 & ... & 0 & 0.095228892 & 0.0000000 & 0.00000000 & 0.16687478 & 0.84444623 & 0.20668416 & 0.00000000 & 0.000000000 & 0.00000000\\\\\n",
       "\t2 & ENSG00000270112.3 & 0.05758351 & 0.006815658 & 0.05825216 & 0.02962052 & 0.001992579 & 0.1286417 & 0.05192911 & 0.21011257 & 0.01277858 & ... & 0 & 0.004545883 & 0.4456864 & 0.01138721 & 0.02088807 & 0.09550716 & 0.01315444 & 0.02314206 & 0.004686142 & 0.02748921\\\\\n",
       "\\end{tabular}\n"
      ],
      "text/markdown": [
       "\n",
       "A data.frame: 2 x 380\n",
       "\n",
       "| <!--/--> | Ensembl_ID &lt;chr&gt; | TCGA-23-1120-01A &lt;dbl&gt; | TCGA-29-1695-01A &lt;dbl&gt; | TCGA-61-2003-01A &lt;dbl&gt; | TCGA-13-1404-01A &lt;dbl&gt; | TCGA-23-1027-01A &lt;dbl&gt; | TCGA-23-1022-01A &lt;dbl&gt; | TCGA-61-2088-01A &lt;dbl&gt; | TCGA-13-1507-01A &lt;dbl&gt; | TCGA-61-1725-01A &lt;dbl&gt; | ... ... | TCGA-30-1714-01A &lt;dbl&gt; | TCGA-57-1582-01A &lt;dbl&gt; | TCGA-61-2012-01A &lt;dbl&gt; | TCGA-13-1510-01A &lt;dbl&gt; | TCGA-VG-A8LO-01A &lt;dbl&gt; | TCGA-23-2078-01A &lt;dbl&gt; | TCGA-09-1666-01A &lt;dbl&gt; | TCGA-29-1777-01A &lt;dbl&gt; | TCGA-61-2110-01A &lt;dbl&gt; | TCGA-29-1776-01A &lt;dbl&gt; |\n",
       "|---|---|---|---|---|---|---|---|---|---|---|---|---|---|---|---|---|---|---|---|---|---|\n",
       "| 1 | ENSG00000242268.2 | 0.00000000 | 0.118121979 | 0.00000000 | 0.00000000 | 0.000000000 | 0.0000000 | 0.00000000 | 0.03742011 | 0.00000000 | ... | 0 | 0.095228892 | 0.0000000 | 0.00000000 | 0.16687478 | 0.84444623 | 0.20668416 | 0.00000000 | 0.000000000 | 0.00000000 |\n",
       "| 2 | ENSG00000270112.3 | 0.05758351 | 0.006815658 | 0.05825216 | 0.02962052 | 0.001992579 | 0.1286417 | 0.05192911 | 0.21011257 | 0.01277858 | ... | 0 | 0.004545883 | 0.4456864 | 0.01138721 | 0.02088807 | 0.09550716 | 0.01315444 | 0.02314206 | 0.004686142 | 0.02748921 |\n",
       "\n"
      ],
      "text/plain": [
       "  Ensembl_ID        TCGA-23-1120-01A TCGA-29-1695-01A TCGA-61-2003-01A\n",
       "1 ENSG00000242268.2 0.00000000       0.118121979      0.00000000      \n",
       "2 ENSG00000270112.3 0.05758351       0.006815658      0.05825216      \n",
       "  TCGA-13-1404-01A TCGA-23-1027-01A TCGA-23-1022-01A TCGA-61-2088-01A\n",
       "1 0.00000000       0.000000000      0.0000000        0.00000000      \n",
       "2 0.02962052       0.001992579      0.1286417        0.05192911      \n",
       "  TCGA-13-1507-01A TCGA-61-1725-01A ... TCGA-30-1714-01A TCGA-57-1582-01A\n",
       "1 0.03742011       0.00000000       ... 0                0.095228892     \n",
       "2 0.21011257       0.01277858       ... 0                0.004545883     \n",
       "  TCGA-61-2012-01A TCGA-13-1510-01A TCGA-VG-A8LO-01A TCGA-23-2078-01A\n",
       "1 0.0000000        0.00000000       0.16687478       0.84444623      \n",
       "2 0.4456864        0.01138721       0.02088807       0.09550716      \n",
       "  TCGA-09-1666-01A TCGA-29-1777-01A TCGA-61-2110-01A TCGA-29-1776-01A\n",
       "1 0.20668416       0.00000000       0.000000000      0.00000000      \n",
       "2 0.01315444       0.02314206       0.004686142      0.02748921      "
      ]
     },
     "metadata": {},
     "output_type": "display_data"
    }
   ],
   "source": [
    "head(fpkm,2)"
   ]
  },
  {
   "cell_type": "code",
   "execution_count": 4,
   "id": "53899529-4bf7-4999-8ffd-cd7bbb90eb49",
   "metadata": {},
   "outputs": [],
   "source": [
    "#fpkm[,2:380]  = fpkm[,2:380]^2 -1"
   ]
  },
  {
   "cell_type": "code",
   "execution_count": null,
   "id": "5671963d-6f50-4d1b-8f0e-6c06ae98ff0d",
   "metadata": {},
   "outputs": [],
   "source": []
  },
  {
   "cell_type": "code",
   "execution_count": 5,
   "id": "4a24aa84-b9be-4974-9af0-cb50d210e5fb",
   "metadata": {},
   "outputs": [
    {
     "data": {
      "text/html": [
       "<table class=\"dataframe\">\n",
       "<caption>A data.frame: 6 x 380</caption>\n",
       "<thead>\n",
       "\t<tr><th></th><th scope=col>Ensembl_ID</th><th scope=col>TCGA-23-1120-01A</th><th scope=col>TCGA-29-1695-01A</th><th scope=col>TCGA-61-2003-01A</th><th scope=col>TCGA-13-1404-01A</th><th scope=col>TCGA-23-1027-01A</th><th scope=col>TCGA-23-1022-01A</th><th scope=col>TCGA-61-2088-01A</th><th scope=col>TCGA-13-1507-01A</th><th scope=col>TCGA-61-1725-01A</th><th scope=col>...</th><th scope=col>TCGA-30-1714-01A</th><th scope=col>TCGA-57-1582-01A</th><th scope=col>TCGA-61-2012-01A</th><th scope=col>TCGA-13-1510-01A</th><th scope=col>TCGA-VG-A8LO-01A</th><th scope=col>TCGA-23-2078-01A</th><th scope=col>TCGA-09-1666-01A</th><th scope=col>TCGA-29-1777-01A</th><th scope=col>TCGA-61-2110-01A</th><th scope=col>TCGA-29-1776-01A</th></tr>\n",
       "\t<tr><th></th><th scope=col>&lt;chr&gt;</th><th scope=col>&lt;dbl&gt;</th><th scope=col>&lt;dbl&gt;</th><th scope=col>&lt;dbl&gt;</th><th scope=col>&lt;dbl&gt;</th><th scope=col>&lt;dbl&gt;</th><th scope=col>&lt;dbl&gt;</th><th scope=col>&lt;dbl&gt;</th><th scope=col>&lt;dbl&gt;</th><th scope=col>&lt;dbl&gt;</th><th scope=col>...</th><th scope=col>&lt;dbl&gt;</th><th scope=col>&lt;dbl&gt;</th><th scope=col>&lt;dbl&gt;</th><th scope=col>&lt;dbl&gt;</th><th scope=col>&lt;dbl&gt;</th><th scope=col>&lt;dbl&gt;</th><th scope=col>&lt;dbl&gt;</th><th scope=col>&lt;dbl&gt;</th><th scope=col>&lt;dbl&gt;</th><th scope=col>&lt;dbl&gt;</th></tr>\n",
       "</thead>\n",
       "<tbody>\n",
       "\t<tr><th scope=row>1</th><td>ENSG00000242268.2 </td><td>0.00000000</td><td>0.118121979</td><td>0.00000000</td><td>0.00000000</td><td>0.000000000</td><td>0.0000000</td><td>0.00000000</td><td>0.03742011</td><td>0.00000000</td><td>...</td><td>0.000000</td><td>0.095228892</td><td>0.0000000</td><td>0.00000000</td><td>0.16687478</td><td>0.84444623</td><td>0.20668416</td><td>0.00000000</td><td>0.000000000</td><td>0.00000000</td></tr>\n",
       "\t<tr><th scope=row>2</th><td>ENSG00000270112.3 </td><td>0.05758351</td><td>0.006815658</td><td>0.05825216</td><td>0.02962052</td><td>0.001992579</td><td>0.1286417</td><td>0.05192911</td><td>0.21011257</td><td>0.01277858</td><td>...</td><td>0.000000</td><td>0.004545883</td><td>0.4456864</td><td>0.01138721</td><td>0.02088807</td><td>0.09550716</td><td>0.01315444</td><td>0.02314206</td><td>0.004686142</td><td>0.02748921</td></tr>\n",
       "\t<tr><th scope=row>3</th><td>ENSG00000167578.15</td><td>1.59539659</td><td>2.562768256</td><td>2.68568380</td><td>1.76074642</td><td>2.374481904</td><td>2.5960336</td><td>1.80660843</td><td>2.69450311</td><td>1.79442454</td><td>...</td><td>2.659241</td><td>1.787807202</td><td>2.7279551</td><td>1.96383296</td><td>1.56340912</td><td>1.65500636</td><td>1.92209777</td><td>1.52481385</td><td>2.215694684</td><td>1.63003349</td></tr>\n",
       "\t<tr><th scope=row>4</th><td>ENSG00000273842.1 </td><td>0.00000000</td><td>0.000000000</td><td>0.00000000</td><td>0.00000000</td><td>0.000000000</td><td>0.0000000</td><td>0.00000000</td><td>0.00000000</td><td>0.00000000</td><td>...</td><td>0.000000</td><td>0.000000000</td><td>0.0000000</td><td>0.00000000</td><td>0.00000000</td><td>0.23118984</td><td>0.00000000</td><td>0.00000000</td><td>0.000000000</td><td>0.00000000</td></tr>\n",
       "\t<tr><th scope=row>5</th><td>ENSG00000078237.5 </td><td>1.56216446</td><td>3.491077646</td><td>2.00634347</td><td>1.52708447</td><td>2.291374998</td><td>0.8720507</td><td>1.05332953</td><td>2.22406495</td><td>2.34300727</td><td>...</td><td>1.359535</td><td>1.547512271</td><td>2.3830423</td><td>1.93742071</td><td>1.76321249</td><td>2.16324579</td><td>2.32047918</td><td>1.98739570</td><td>2.608710692</td><td>1.55934439</td></tr>\n",
       "\t<tr><th scope=row>6</th><td>ENSG00000146083.10</td><td>4.88740261</td><td>4.459783662</td><td>4.86476321</td><td>4.87831337</td><td>4.919270536</td><td>4.1447336</td><td>5.32294701</td><td>3.14915948</td><td>4.72535308</td><td>...</td><td>3.841106</td><td>4.360257661</td><td>3.7733911</td><td>4.01363218</td><td>4.97599969</td><td>5.00410450</td><td>4.94654969</td><td>3.95845264</td><td>4.933178680</td><td>4.83266566</td></tr>\n",
       "</tbody>\n",
       "</table>\n"
      ],
      "text/latex": [
       "A data.frame: 6 x 380\n",
       "\\begin{tabular}{r|lllllllllllllllllllll}\n",
       "  & Ensembl\\_ID & TCGA-23-1120-01A & TCGA-29-1695-01A & TCGA-61-2003-01A & TCGA-13-1404-01A & TCGA-23-1027-01A & TCGA-23-1022-01A & TCGA-61-2088-01A & TCGA-13-1507-01A & TCGA-61-1725-01A & ... & TCGA-30-1714-01A & TCGA-57-1582-01A & TCGA-61-2012-01A & TCGA-13-1510-01A & TCGA-VG-A8LO-01A & TCGA-23-2078-01A & TCGA-09-1666-01A & TCGA-29-1777-01A & TCGA-61-2110-01A & TCGA-29-1776-01A\\\\\n",
       "  & <chr> & <dbl> & <dbl> & <dbl> & <dbl> & <dbl> & <dbl> & <dbl> & <dbl> & <dbl> & ... & <dbl> & <dbl> & <dbl> & <dbl> & <dbl> & <dbl> & <dbl> & <dbl> & <dbl> & <dbl>\\\\\n",
       "\\hline\n",
       "\t1 & ENSG00000242268.2  & 0.00000000 & 0.118121979 & 0.00000000 & 0.00000000 & 0.000000000 & 0.0000000 & 0.00000000 & 0.03742011 & 0.00000000 & ... & 0.000000 & 0.095228892 & 0.0000000 & 0.00000000 & 0.16687478 & 0.84444623 & 0.20668416 & 0.00000000 & 0.000000000 & 0.00000000\\\\\n",
       "\t2 & ENSG00000270112.3  & 0.05758351 & 0.006815658 & 0.05825216 & 0.02962052 & 0.001992579 & 0.1286417 & 0.05192911 & 0.21011257 & 0.01277858 & ... & 0.000000 & 0.004545883 & 0.4456864 & 0.01138721 & 0.02088807 & 0.09550716 & 0.01315444 & 0.02314206 & 0.004686142 & 0.02748921\\\\\n",
       "\t3 & ENSG00000167578.15 & 1.59539659 & 2.562768256 & 2.68568380 & 1.76074642 & 2.374481904 & 2.5960336 & 1.80660843 & 2.69450311 & 1.79442454 & ... & 2.659241 & 1.787807202 & 2.7279551 & 1.96383296 & 1.56340912 & 1.65500636 & 1.92209777 & 1.52481385 & 2.215694684 & 1.63003349\\\\\n",
       "\t4 & ENSG00000273842.1  & 0.00000000 & 0.000000000 & 0.00000000 & 0.00000000 & 0.000000000 & 0.0000000 & 0.00000000 & 0.00000000 & 0.00000000 & ... & 0.000000 & 0.000000000 & 0.0000000 & 0.00000000 & 0.00000000 & 0.23118984 & 0.00000000 & 0.00000000 & 0.000000000 & 0.00000000\\\\\n",
       "\t5 & ENSG00000078237.5  & 1.56216446 & 3.491077646 & 2.00634347 & 1.52708447 & 2.291374998 & 0.8720507 & 1.05332953 & 2.22406495 & 2.34300727 & ... & 1.359535 & 1.547512271 & 2.3830423 & 1.93742071 & 1.76321249 & 2.16324579 & 2.32047918 & 1.98739570 & 2.608710692 & 1.55934439\\\\\n",
       "\t6 & ENSG00000146083.10 & 4.88740261 & 4.459783662 & 4.86476321 & 4.87831337 & 4.919270536 & 4.1447336 & 5.32294701 & 3.14915948 & 4.72535308 & ... & 3.841106 & 4.360257661 & 3.7733911 & 4.01363218 & 4.97599969 & 5.00410450 & 4.94654969 & 3.95845264 & 4.933178680 & 4.83266566\\\\\n",
       "\\end{tabular}\n"
      ],
      "text/markdown": [
       "\n",
       "A data.frame: 6 x 380\n",
       "\n",
       "| <!--/--> | Ensembl_ID &lt;chr&gt; | TCGA-23-1120-01A &lt;dbl&gt; | TCGA-29-1695-01A &lt;dbl&gt; | TCGA-61-2003-01A &lt;dbl&gt; | TCGA-13-1404-01A &lt;dbl&gt; | TCGA-23-1027-01A &lt;dbl&gt; | TCGA-23-1022-01A &lt;dbl&gt; | TCGA-61-2088-01A &lt;dbl&gt; | TCGA-13-1507-01A &lt;dbl&gt; | TCGA-61-1725-01A &lt;dbl&gt; | ... ... | TCGA-30-1714-01A &lt;dbl&gt; | TCGA-57-1582-01A &lt;dbl&gt; | TCGA-61-2012-01A &lt;dbl&gt; | TCGA-13-1510-01A &lt;dbl&gt; | TCGA-VG-A8LO-01A &lt;dbl&gt; | TCGA-23-2078-01A &lt;dbl&gt; | TCGA-09-1666-01A &lt;dbl&gt; | TCGA-29-1777-01A &lt;dbl&gt; | TCGA-61-2110-01A &lt;dbl&gt; | TCGA-29-1776-01A &lt;dbl&gt; |\n",
       "|---|---|---|---|---|---|---|---|---|---|---|---|---|---|---|---|---|---|---|---|---|---|\n",
       "| 1 | ENSG00000242268.2  | 0.00000000 | 0.118121979 | 0.00000000 | 0.00000000 | 0.000000000 | 0.0000000 | 0.00000000 | 0.03742011 | 0.00000000 | ... | 0.000000 | 0.095228892 | 0.0000000 | 0.00000000 | 0.16687478 | 0.84444623 | 0.20668416 | 0.00000000 | 0.000000000 | 0.00000000 |\n",
       "| 2 | ENSG00000270112.3  | 0.05758351 | 0.006815658 | 0.05825216 | 0.02962052 | 0.001992579 | 0.1286417 | 0.05192911 | 0.21011257 | 0.01277858 | ... | 0.000000 | 0.004545883 | 0.4456864 | 0.01138721 | 0.02088807 | 0.09550716 | 0.01315444 | 0.02314206 | 0.004686142 | 0.02748921 |\n",
       "| 3 | ENSG00000167578.15 | 1.59539659 | 2.562768256 | 2.68568380 | 1.76074642 | 2.374481904 | 2.5960336 | 1.80660843 | 2.69450311 | 1.79442454 | ... | 2.659241 | 1.787807202 | 2.7279551 | 1.96383296 | 1.56340912 | 1.65500636 | 1.92209777 | 1.52481385 | 2.215694684 | 1.63003349 |\n",
       "| 4 | ENSG00000273842.1  | 0.00000000 | 0.000000000 | 0.00000000 | 0.00000000 | 0.000000000 | 0.0000000 | 0.00000000 | 0.00000000 | 0.00000000 | ... | 0.000000 | 0.000000000 | 0.0000000 | 0.00000000 | 0.00000000 | 0.23118984 | 0.00000000 | 0.00000000 | 0.000000000 | 0.00000000 |\n",
       "| 5 | ENSG00000078237.5  | 1.56216446 | 3.491077646 | 2.00634347 | 1.52708447 | 2.291374998 | 0.8720507 | 1.05332953 | 2.22406495 | 2.34300727 | ... | 1.359535 | 1.547512271 | 2.3830423 | 1.93742071 | 1.76321249 | 2.16324579 | 2.32047918 | 1.98739570 | 2.608710692 | 1.55934439 |\n",
       "| 6 | ENSG00000146083.10 | 4.88740261 | 4.459783662 | 4.86476321 | 4.87831337 | 4.919270536 | 4.1447336 | 5.32294701 | 3.14915948 | 4.72535308 | ... | 3.841106 | 4.360257661 | 3.7733911 | 4.01363218 | 4.97599969 | 5.00410450 | 4.94654969 | 3.95845264 | 4.933178680 | 4.83266566 |\n",
       "\n"
      ],
      "text/plain": [
       "  Ensembl_ID         TCGA-23-1120-01A TCGA-29-1695-01A TCGA-61-2003-01A\n",
       "1 ENSG00000242268.2  0.00000000       0.118121979      0.00000000      \n",
       "2 ENSG00000270112.3  0.05758351       0.006815658      0.05825216      \n",
       "3 ENSG00000167578.15 1.59539659       2.562768256      2.68568380      \n",
       "4 ENSG00000273842.1  0.00000000       0.000000000      0.00000000      \n",
       "5 ENSG00000078237.5  1.56216446       3.491077646      2.00634347      \n",
       "6 ENSG00000146083.10 4.88740261       4.459783662      4.86476321      \n",
       "  TCGA-13-1404-01A TCGA-23-1027-01A TCGA-23-1022-01A TCGA-61-2088-01A\n",
       "1 0.00000000       0.000000000      0.0000000        0.00000000      \n",
       "2 0.02962052       0.001992579      0.1286417        0.05192911      \n",
       "3 1.76074642       2.374481904      2.5960336        1.80660843      \n",
       "4 0.00000000       0.000000000      0.0000000        0.00000000      \n",
       "5 1.52708447       2.291374998      0.8720507        1.05332953      \n",
       "6 4.87831337       4.919270536      4.1447336        5.32294701      \n",
       "  TCGA-13-1507-01A TCGA-61-1725-01A ... TCGA-30-1714-01A TCGA-57-1582-01A\n",
       "1 0.03742011       0.00000000       ... 0.000000         0.095228892     \n",
       "2 0.21011257       0.01277858       ... 0.000000         0.004545883     \n",
       "3 2.69450311       1.79442454       ... 2.659241         1.787807202     \n",
       "4 0.00000000       0.00000000       ... 0.000000         0.000000000     \n",
       "5 2.22406495       2.34300727       ... 1.359535         1.547512271     \n",
       "6 3.14915948       4.72535308       ... 3.841106         4.360257661     \n",
       "  TCGA-61-2012-01A TCGA-13-1510-01A TCGA-VG-A8LO-01A TCGA-23-2078-01A\n",
       "1 0.0000000        0.00000000       0.16687478       0.84444623      \n",
       "2 0.4456864        0.01138721       0.02088807       0.09550716      \n",
       "3 2.7279551        1.96383296       1.56340912       1.65500636      \n",
       "4 0.0000000        0.00000000       0.00000000       0.23118984      \n",
       "5 2.3830423        1.93742071       1.76321249       2.16324579      \n",
       "6 3.7733911        4.01363218       4.97599969       5.00410450      \n",
       "  TCGA-09-1666-01A TCGA-29-1777-01A TCGA-61-2110-01A TCGA-29-1776-01A\n",
       "1 0.20668416       0.00000000       0.000000000      0.00000000      \n",
       "2 0.01315444       0.02314206       0.004686142      0.02748921      \n",
       "3 1.92209777       1.52481385       2.215694684      1.63003349      \n",
       "4 0.00000000       0.00000000       0.000000000      0.00000000      \n",
       "5 2.32047918       1.98739570       2.608710692      1.55934439      \n",
       "6 4.94654969       3.95845264       4.933178680      4.83266566      "
      ]
     },
     "metadata": {},
     "output_type": "display_data"
    }
   ],
   "source": [
    "head(fpkm,6)"
   ]
  },
  {
   "cell_type": "code",
   "execution_count": null,
   "id": "3103b75e-afc8-4a27-a294-6eccaa53b2c6",
   "metadata": {},
   "outputs": [],
   "source": []
  },
  {
   "cell_type": "code",
   "execution_count": 6,
   "id": "a43fd3f3-1005-4a7e-b96c-1ff8bec9053d",
   "metadata": {},
   "outputs": [],
   "source": [
    "fpkm<- tidyr :: separate(fpkm, Ensembl_ID,into = c('gene_id' , 'junk'), sep='\\\\.')\n",
    "fpkm<- fpkm[,-2]"
   ]
  },
  {
   "cell_type": "code",
   "execution_count": 7,
   "id": "54db9651-7557-4094-bd0d-fe8e429ce839",
   "metadata": {},
   "outputs": [
    {
     "data": {
      "text/html": [
       "<table class=\"dataframe\">\n",
       "<caption>A data.frame: 2 x 380</caption>\n",
       "<thead>\n",
       "\t<tr><th></th><th scope=col>gene_id</th><th scope=col>TCGA-23-1120-01A</th><th scope=col>TCGA-29-1695-01A</th><th scope=col>TCGA-61-2003-01A</th><th scope=col>TCGA-13-1404-01A</th><th scope=col>TCGA-23-1027-01A</th><th scope=col>TCGA-23-1022-01A</th><th scope=col>TCGA-61-2088-01A</th><th scope=col>TCGA-13-1507-01A</th><th scope=col>TCGA-61-1725-01A</th><th scope=col>...</th><th scope=col>TCGA-30-1714-01A</th><th scope=col>TCGA-57-1582-01A</th><th scope=col>TCGA-61-2012-01A</th><th scope=col>TCGA-13-1510-01A</th><th scope=col>TCGA-VG-A8LO-01A</th><th scope=col>TCGA-23-2078-01A</th><th scope=col>TCGA-09-1666-01A</th><th scope=col>TCGA-29-1777-01A</th><th scope=col>TCGA-61-2110-01A</th><th scope=col>TCGA-29-1776-01A</th></tr>\n",
       "\t<tr><th></th><th scope=col>&lt;chr&gt;</th><th scope=col>&lt;dbl&gt;</th><th scope=col>&lt;dbl&gt;</th><th scope=col>&lt;dbl&gt;</th><th scope=col>&lt;dbl&gt;</th><th scope=col>&lt;dbl&gt;</th><th scope=col>&lt;dbl&gt;</th><th scope=col>&lt;dbl&gt;</th><th scope=col>&lt;dbl&gt;</th><th scope=col>&lt;dbl&gt;</th><th scope=col>...</th><th scope=col>&lt;dbl&gt;</th><th scope=col>&lt;dbl&gt;</th><th scope=col>&lt;dbl&gt;</th><th scope=col>&lt;dbl&gt;</th><th scope=col>&lt;dbl&gt;</th><th scope=col>&lt;dbl&gt;</th><th scope=col>&lt;dbl&gt;</th><th scope=col>&lt;dbl&gt;</th><th scope=col>&lt;dbl&gt;</th><th scope=col>&lt;dbl&gt;</th></tr>\n",
       "</thead>\n",
       "<tbody>\n",
       "\t<tr><th scope=row>1</th><td>ENSG00000242268</td><td>0.00000000</td><td>0.118121979</td><td>0.00000000</td><td>0.00000000</td><td>0.000000000</td><td>0.0000000</td><td>0.00000000</td><td>0.03742011</td><td>0.00000000</td><td>...</td><td>0</td><td>0.095228892</td><td>0.0000000</td><td>0.00000000</td><td>0.16687478</td><td>0.84444623</td><td>0.20668416</td><td>0.00000000</td><td>0.000000000</td><td>0.00000000</td></tr>\n",
       "\t<tr><th scope=row>2</th><td>ENSG00000270112</td><td>0.05758351</td><td>0.006815658</td><td>0.05825216</td><td>0.02962052</td><td>0.001992579</td><td>0.1286417</td><td>0.05192911</td><td>0.21011257</td><td>0.01277858</td><td>...</td><td>0</td><td>0.004545883</td><td>0.4456864</td><td>0.01138721</td><td>0.02088807</td><td>0.09550716</td><td>0.01315444</td><td>0.02314206</td><td>0.004686142</td><td>0.02748921</td></tr>\n",
       "</tbody>\n",
       "</table>\n"
      ],
      "text/latex": [
       "A data.frame: 2 x 380\n",
       "\\begin{tabular}{r|lllllllllllllllllllll}\n",
       "  & gene\\_id & TCGA-23-1120-01A & TCGA-29-1695-01A & TCGA-61-2003-01A & TCGA-13-1404-01A & TCGA-23-1027-01A & TCGA-23-1022-01A & TCGA-61-2088-01A & TCGA-13-1507-01A & TCGA-61-1725-01A & ... & TCGA-30-1714-01A & TCGA-57-1582-01A & TCGA-61-2012-01A & TCGA-13-1510-01A & TCGA-VG-A8LO-01A & TCGA-23-2078-01A & TCGA-09-1666-01A & TCGA-29-1777-01A & TCGA-61-2110-01A & TCGA-29-1776-01A\\\\\n",
       "  & <chr> & <dbl> & <dbl> & <dbl> & <dbl> & <dbl> & <dbl> & <dbl> & <dbl> & <dbl> & ... & <dbl> & <dbl> & <dbl> & <dbl> & <dbl> & <dbl> & <dbl> & <dbl> & <dbl> & <dbl>\\\\\n",
       "\\hline\n",
       "\t1 & ENSG00000242268 & 0.00000000 & 0.118121979 & 0.00000000 & 0.00000000 & 0.000000000 & 0.0000000 & 0.00000000 & 0.03742011 & 0.00000000 & ... & 0 & 0.095228892 & 0.0000000 & 0.00000000 & 0.16687478 & 0.84444623 & 0.20668416 & 0.00000000 & 0.000000000 & 0.00000000\\\\\n",
       "\t2 & ENSG00000270112 & 0.05758351 & 0.006815658 & 0.05825216 & 0.02962052 & 0.001992579 & 0.1286417 & 0.05192911 & 0.21011257 & 0.01277858 & ... & 0 & 0.004545883 & 0.4456864 & 0.01138721 & 0.02088807 & 0.09550716 & 0.01315444 & 0.02314206 & 0.004686142 & 0.02748921\\\\\n",
       "\\end{tabular}\n"
      ],
      "text/markdown": [
       "\n",
       "A data.frame: 2 x 380\n",
       "\n",
       "| <!--/--> | gene_id &lt;chr&gt; | TCGA-23-1120-01A &lt;dbl&gt; | TCGA-29-1695-01A &lt;dbl&gt; | TCGA-61-2003-01A &lt;dbl&gt; | TCGA-13-1404-01A &lt;dbl&gt; | TCGA-23-1027-01A &lt;dbl&gt; | TCGA-23-1022-01A &lt;dbl&gt; | TCGA-61-2088-01A &lt;dbl&gt; | TCGA-13-1507-01A &lt;dbl&gt; | TCGA-61-1725-01A &lt;dbl&gt; | ... ... | TCGA-30-1714-01A &lt;dbl&gt; | TCGA-57-1582-01A &lt;dbl&gt; | TCGA-61-2012-01A &lt;dbl&gt; | TCGA-13-1510-01A &lt;dbl&gt; | TCGA-VG-A8LO-01A &lt;dbl&gt; | TCGA-23-2078-01A &lt;dbl&gt; | TCGA-09-1666-01A &lt;dbl&gt; | TCGA-29-1777-01A &lt;dbl&gt; | TCGA-61-2110-01A &lt;dbl&gt; | TCGA-29-1776-01A &lt;dbl&gt; |\n",
       "|---|---|---|---|---|---|---|---|---|---|---|---|---|---|---|---|---|---|---|---|---|---|\n",
       "| 1 | ENSG00000242268 | 0.00000000 | 0.118121979 | 0.00000000 | 0.00000000 | 0.000000000 | 0.0000000 | 0.00000000 | 0.03742011 | 0.00000000 | ... | 0 | 0.095228892 | 0.0000000 | 0.00000000 | 0.16687478 | 0.84444623 | 0.20668416 | 0.00000000 | 0.000000000 | 0.00000000 |\n",
       "| 2 | ENSG00000270112 | 0.05758351 | 0.006815658 | 0.05825216 | 0.02962052 | 0.001992579 | 0.1286417 | 0.05192911 | 0.21011257 | 0.01277858 | ... | 0 | 0.004545883 | 0.4456864 | 0.01138721 | 0.02088807 | 0.09550716 | 0.01315444 | 0.02314206 | 0.004686142 | 0.02748921 |\n",
       "\n"
      ],
      "text/plain": [
       "  gene_id         TCGA-23-1120-01A TCGA-29-1695-01A TCGA-61-2003-01A\n",
       "1 ENSG00000242268 0.00000000       0.118121979      0.00000000      \n",
       "2 ENSG00000270112 0.05758351       0.006815658      0.05825216      \n",
       "  TCGA-13-1404-01A TCGA-23-1027-01A TCGA-23-1022-01A TCGA-61-2088-01A\n",
       "1 0.00000000       0.000000000      0.0000000        0.00000000      \n",
       "2 0.02962052       0.001992579      0.1286417        0.05192911      \n",
       "  TCGA-13-1507-01A TCGA-61-1725-01A ... TCGA-30-1714-01A TCGA-57-1582-01A\n",
       "1 0.03742011       0.00000000       ... 0                0.095228892     \n",
       "2 0.21011257       0.01277858       ... 0                0.004545883     \n",
       "  TCGA-61-2012-01A TCGA-13-1510-01A TCGA-VG-A8LO-01A TCGA-23-2078-01A\n",
       "1 0.0000000        0.00000000       0.16687478       0.84444623      \n",
       "2 0.4456864        0.01138721       0.02088807       0.09550716      \n",
       "  TCGA-09-1666-01A TCGA-29-1777-01A TCGA-61-2110-01A TCGA-29-1776-01A\n",
       "1 0.20668416       0.00000000       0.000000000      0.00000000      \n",
       "2 0.01315444       0.02314206       0.004686142      0.02748921      "
      ]
     },
     "metadata": {},
     "output_type": "display_data"
    }
   ],
   "source": [
    "head(fpkm,2)"
   ]
  },
  {
   "cell_type": "code",
   "execution_count": 8,
   "id": "8286661c-fa95-4723-a4f7-c3ae6cc24435",
   "metadata": {},
   "outputs": [],
   "source": [
    "gtf1<- rtracklayer::import('/import/reference/GRCh38/genes/genes.gtf')   \n",
    "gtf_df<- as.data.frame(gtf1)"
   ]
  },
  {
   "cell_type": "code",
   "execution_count": 9,
   "id": "dd8b1120-03f8-445f-83fe-303b0b405149",
   "metadata": {},
   "outputs": [
    {
     "data": {
      "text/html": [
       "<style>\n",
       ".list-inline {list-style: none; margin:0; padding: 0}\n",
       ".list-inline>li {display: inline-block}\n",
       ".list-inline>li:not(:last-child)::after {content: \"\\00b7\"; padding: 0 .5ex}\n",
       "</style>\n",
       "<ol class=list-inline><li>'seqnames'</li><li>'start'</li><li>'end'</li><li>'width'</li><li>'strand'</li><li>'source'</li><li>'type'</li><li>'score'</li><li>'phase'</li><li>'gene_id'</li><li>'gene_version'</li><li>'gene_type'</li><li>'gene_name'</li><li>'level'</li><li>'hgnc_id'</li><li>'tag'</li><li>'havana_gene'</li><li>'transcript_id'</li><li>'transcript_version'</li><li>'transcript_type'</li><li>'transcript_name'</li><li>'transcript_support_level'</li><li>'havana_transcript'</li><li>'exon_number'</li><li>'exon_id'</li><li>'exon_version'</li><li>'protein_id'</li><li>'ccdsid'</li><li>'ont'</li></ol>\n"
      ],
      "text/latex": [
       "\\begin{enumerate*}\n",
       "\\item 'seqnames'\n",
       "\\item 'start'\n",
       "\\item 'end'\n",
       "\\item 'width'\n",
       "\\item 'strand'\n",
       "\\item 'source'\n",
       "\\item 'type'\n",
       "\\item 'score'\n",
       "\\item 'phase'\n",
       "\\item 'gene\\_id'\n",
       "\\item 'gene\\_version'\n",
       "\\item 'gene\\_type'\n",
       "\\item 'gene\\_name'\n",
       "\\item 'level'\n",
       "\\item 'hgnc\\_id'\n",
       "\\item 'tag'\n",
       "\\item 'havana\\_gene'\n",
       "\\item 'transcript\\_id'\n",
       "\\item 'transcript\\_version'\n",
       "\\item 'transcript\\_type'\n",
       "\\item 'transcript\\_name'\n",
       "\\item 'transcript\\_support\\_level'\n",
       "\\item 'havana\\_transcript'\n",
       "\\item 'exon\\_number'\n",
       "\\item 'exon\\_id'\n",
       "\\item 'exon\\_version'\n",
       "\\item 'protein\\_id'\n",
       "\\item 'ccdsid'\n",
       "\\item 'ont'\n",
       "\\end{enumerate*}\n"
      ],
      "text/markdown": [
       "1. 'seqnames'\n",
       "2. 'start'\n",
       "3. 'end'\n",
       "4. 'width'\n",
       "5. 'strand'\n",
       "6. 'source'\n",
       "7. 'type'\n",
       "8. 'score'\n",
       "9. 'phase'\n",
       "10. 'gene_id'\n",
       "11. 'gene_version'\n",
       "12. 'gene_type'\n",
       "13. 'gene_name'\n",
       "14. 'level'\n",
       "15. 'hgnc_id'\n",
       "16. 'tag'\n",
       "17. 'havana_gene'\n",
       "18. 'transcript_id'\n",
       "19. 'transcript_version'\n",
       "20. 'transcript_type'\n",
       "21. 'transcript_name'\n",
       "22. 'transcript_support_level'\n",
       "23. 'havana_transcript'\n",
       "24. 'exon_number'\n",
       "25. 'exon_id'\n",
       "26. 'exon_version'\n",
       "27. 'protein_id'\n",
       "28. 'ccdsid'\n",
       "29. 'ont'\n",
       "\n",
       "\n"
      ],
      "text/plain": [
       " [1] \"seqnames\"                 \"start\"                   \n",
       " [3] \"end\"                      \"width\"                   \n",
       " [5] \"strand\"                   \"source\"                  \n",
       " [7] \"type\"                     \"score\"                   \n",
       " [9] \"phase\"                    \"gene_id\"                 \n",
       "[11] \"gene_version\"             \"gene_type\"               \n",
       "[13] \"gene_name\"                \"level\"                   \n",
       "[15] \"hgnc_id\"                  \"tag\"                     \n",
       "[17] \"havana_gene\"              \"transcript_id\"           \n",
       "[19] \"transcript_version\"       \"transcript_type\"         \n",
       "[21] \"transcript_name\"          \"transcript_support_level\"\n",
       "[23] \"havana_transcript\"        \"exon_number\"             \n",
       "[25] \"exon_id\"                  \"exon_version\"            \n",
       "[27] \"protein_id\"               \"ccdsid\"                  \n",
       "[29] \"ont\"                     "
      ]
     },
     "metadata": {},
     "output_type": "display_data"
    }
   ],
   "source": [
    "colnames(gtf_df)"
   ]
  },
  {
   "cell_type": "code",
   "execution_count": 10,
   "id": "02fb53b7-2ec9-4058-b0bb-32f0d65c83a8",
   "metadata": {},
   "outputs": [
    {
     "data": {
      "text/html": [
       "<table class=\"dataframe\">\n",
       "<caption>A data.frame: 6 x 29</caption>\n",
       "<thead>\n",
       "\t<tr><th></th><th scope=col>seqnames</th><th scope=col>start</th><th scope=col>end</th><th scope=col>width</th><th scope=col>strand</th><th scope=col>source</th><th scope=col>type</th><th scope=col>score</th><th scope=col>phase</th><th scope=col>gene_id</th><th scope=col>...</th><th scope=col>transcript_type</th><th scope=col>transcript_name</th><th scope=col>transcript_support_level</th><th scope=col>havana_transcript</th><th scope=col>exon_number</th><th scope=col>exon_id</th><th scope=col>exon_version</th><th scope=col>protein_id</th><th scope=col>ccdsid</th><th scope=col>ont</th></tr>\n",
       "\t<tr><th></th><th scope=col>&lt;fct&gt;</th><th scope=col>&lt;int&gt;</th><th scope=col>&lt;int&gt;</th><th scope=col>&lt;int&gt;</th><th scope=col>&lt;fct&gt;</th><th scope=col>&lt;fct&gt;</th><th scope=col>&lt;fct&gt;</th><th scope=col>&lt;dbl&gt;</th><th scope=col>&lt;int&gt;</th><th scope=col>&lt;chr&gt;</th><th scope=col>...</th><th scope=col>&lt;chr&gt;</th><th scope=col>&lt;chr&gt;</th><th scope=col>&lt;chr&gt;</th><th scope=col>&lt;chr&gt;</th><th scope=col>&lt;chr&gt;</th><th scope=col>&lt;chr&gt;</th><th scope=col>&lt;chr&gt;</th><th scope=col>&lt;chr&gt;</th><th scope=col>&lt;chr&gt;</th><th scope=col>&lt;chr&gt;</th></tr>\n",
       "</thead>\n",
       "<tbody>\n",
       "\t<tr><th scope=row>1</th><td>chr1</td><td>29554</td><td>31109</td><td>1556</td><td>+</td><td>HAVANA</td><td>gene      </td><td>NA</td><td>NA</td><td>ENSG00000243485</td><td>...</td><td>NA    </td><td>NA             </td><td>NA</td><td>NA                  </td><td>NA</td><td>NA             </td><td>NA</td><td>NA</td><td>NA</td><td>NA</td></tr>\n",
       "\t<tr><th scope=row>2</th><td>chr1</td><td>29554</td><td>31097</td><td>1544</td><td>+</td><td>HAVANA</td><td>transcript</td><td>NA</td><td>NA</td><td>ENSG00000243485</td><td>...</td><td>lncRNA</td><td>MIR1302-2HG-202</td><td>5 </td><td>OTTHUMT00000002840.1</td><td>NA</td><td>NA             </td><td>NA</td><td>NA</td><td>NA</td><td>NA</td></tr>\n",
       "\t<tr><th scope=row>3</th><td>chr1</td><td>29554</td><td>30039</td><td> 486</td><td>+</td><td>HAVANA</td><td>exon      </td><td>NA</td><td>NA</td><td>ENSG00000243485</td><td>...</td><td>lncRNA</td><td>MIR1302-2HG-202</td><td>5 </td><td>OTTHUMT00000002840.1</td><td>1 </td><td>ENSE00001947070</td><td>1 </td><td>NA</td><td>NA</td><td>NA</td></tr>\n",
       "\t<tr><th scope=row>4</th><td>chr1</td><td>30564</td><td>30667</td><td> 104</td><td>+</td><td>HAVANA</td><td>exon      </td><td>NA</td><td>NA</td><td>ENSG00000243485</td><td>...</td><td>lncRNA</td><td>MIR1302-2HG-202</td><td>5 </td><td>OTTHUMT00000002840.1</td><td>2 </td><td>ENSE00001922571</td><td>1 </td><td>NA</td><td>NA</td><td>NA</td></tr>\n",
       "\t<tr><th scope=row>5</th><td>chr1</td><td>30976</td><td>31097</td><td> 122</td><td>+</td><td>HAVANA</td><td>exon      </td><td>NA</td><td>NA</td><td>ENSG00000243485</td><td>...</td><td>lncRNA</td><td>MIR1302-2HG-202</td><td>5 </td><td>OTTHUMT00000002840.1</td><td>3 </td><td>ENSE00001827679</td><td>1 </td><td>NA</td><td>NA</td><td>NA</td></tr>\n",
       "\t<tr><th scope=row>6</th><td>chr1</td><td>30267</td><td>31109</td><td> 843</td><td>+</td><td>HAVANA</td><td>transcript</td><td>NA</td><td>NA</td><td>ENSG00000243485</td><td>...</td><td>lncRNA</td><td>MIR1302-2HG-201</td><td>5 </td><td>OTTHUMT00000002841.2</td><td>NA</td><td>NA             </td><td>NA</td><td>NA</td><td>NA</td><td>NA</td></tr>\n",
       "</tbody>\n",
       "</table>\n"
      ],
      "text/latex": [
       "A data.frame: 6 x 29\n",
       "\\begin{tabular}{r|lllllllllllllllllllll}\n",
       "  & seqnames & start & end & width & strand & source & type & score & phase & gene\\_id & ... & transcript\\_type & transcript\\_name & transcript\\_support\\_level & havana\\_transcript & exon\\_number & exon\\_id & exon\\_version & protein\\_id & ccdsid & ont\\\\\n",
       "  & <fct> & <int> & <int> & <int> & <fct> & <fct> & <fct> & <dbl> & <int> & <chr> & ... & <chr> & <chr> & <chr> & <chr> & <chr> & <chr> & <chr> & <chr> & <chr> & <chr>\\\\\n",
       "\\hline\n",
       "\t1 & chr1 & 29554 & 31109 & 1556 & + & HAVANA & gene       & NA & NA & ENSG00000243485 & ... & NA     & NA              & NA & NA                   & NA & NA              & NA & NA & NA & NA\\\\\n",
       "\t2 & chr1 & 29554 & 31097 & 1544 & + & HAVANA & transcript & NA & NA & ENSG00000243485 & ... & lncRNA & MIR1302-2HG-202 & 5  & OTTHUMT00000002840.1 & NA & NA              & NA & NA & NA & NA\\\\\n",
       "\t3 & chr1 & 29554 & 30039 &  486 & + & HAVANA & exon       & NA & NA & ENSG00000243485 & ... & lncRNA & MIR1302-2HG-202 & 5  & OTTHUMT00000002840.1 & 1  & ENSE00001947070 & 1  & NA & NA & NA\\\\\n",
       "\t4 & chr1 & 30564 & 30667 &  104 & + & HAVANA & exon       & NA & NA & ENSG00000243485 & ... & lncRNA & MIR1302-2HG-202 & 5  & OTTHUMT00000002840.1 & 2  & ENSE00001922571 & 1  & NA & NA & NA\\\\\n",
       "\t5 & chr1 & 30976 & 31097 &  122 & + & HAVANA & exon       & NA & NA & ENSG00000243485 & ... & lncRNA & MIR1302-2HG-202 & 5  & OTTHUMT00000002840.1 & 3  & ENSE00001827679 & 1  & NA & NA & NA\\\\\n",
       "\t6 & chr1 & 30267 & 31109 &  843 & + & HAVANA & transcript & NA & NA & ENSG00000243485 & ... & lncRNA & MIR1302-2HG-201 & 5  & OTTHUMT00000002841.2 & NA & NA              & NA & NA & NA & NA\\\\\n",
       "\\end{tabular}\n"
      ],
      "text/markdown": [
       "\n",
       "A data.frame: 6 x 29\n",
       "\n",
       "| <!--/--> | seqnames &lt;fct&gt; | start &lt;int&gt; | end &lt;int&gt; | width &lt;int&gt; | strand &lt;fct&gt; | source &lt;fct&gt; | type &lt;fct&gt; | score &lt;dbl&gt; | phase &lt;int&gt; | gene_id &lt;chr&gt; | ... ... | transcript_type &lt;chr&gt; | transcript_name &lt;chr&gt; | transcript_support_level &lt;chr&gt; | havana_transcript &lt;chr&gt; | exon_number &lt;chr&gt; | exon_id &lt;chr&gt; | exon_version &lt;chr&gt; | protein_id &lt;chr&gt; | ccdsid &lt;chr&gt; | ont &lt;chr&gt; |\n",
       "|---|---|---|---|---|---|---|---|---|---|---|---|---|---|---|---|---|---|---|---|---|---|\n",
       "| 1 | chr1 | 29554 | 31109 | 1556 | + | HAVANA | gene       | NA | NA | ENSG00000243485 | ... | NA     | NA              | NA | NA                   | NA | NA              | NA | NA | NA | NA |\n",
       "| 2 | chr1 | 29554 | 31097 | 1544 | + | HAVANA | transcript | NA | NA | ENSG00000243485 | ... | lncRNA | MIR1302-2HG-202 | 5  | OTTHUMT00000002840.1 | NA | NA              | NA | NA | NA | NA |\n",
       "| 3 | chr1 | 29554 | 30039 |  486 | + | HAVANA | exon       | NA | NA | ENSG00000243485 | ... | lncRNA | MIR1302-2HG-202 | 5  | OTTHUMT00000002840.1 | 1  | ENSE00001947070 | 1  | NA | NA | NA |\n",
       "| 4 | chr1 | 30564 | 30667 |  104 | + | HAVANA | exon       | NA | NA | ENSG00000243485 | ... | lncRNA | MIR1302-2HG-202 | 5  | OTTHUMT00000002840.1 | 2  | ENSE00001922571 | 1  | NA | NA | NA |\n",
       "| 5 | chr1 | 30976 | 31097 |  122 | + | HAVANA | exon       | NA | NA | ENSG00000243485 | ... | lncRNA | MIR1302-2HG-202 | 5  | OTTHUMT00000002840.1 | 3  | ENSE00001827679 | 1  | NA | NA | NA |\n",
       "| 6 | chr1 | 30267 | 31109 |  843 | + | HAVANA | transcript | NA | NA | ENSG00000243485 | ... | lncRNA | MIR1302-2HG-201 | 5  | OTTHUMT00000002841.2 | NA | NA              | NA | NA | NA | NA |\n",
       "\n"
      ],
      "text/plain": [
       "  seqnames start end   width strand source type       score phase\n",
       "1 chr1     29554 31109 1556  +      HAVANA gene       NA    NA   \n",
       "2 chr1     29554 31097 1544  +      HAVANA transcript NA    NA   \n",
       "3 chr1     29554 30039  486  +      HAVANA exon       NA    NA   \n",
       "4 chr1     30564 30667  104  +      HAVANA exon       NA    NA   \n",
       "5 chr1     30976 31097  122  +      HAVANA exon       NA    NA   \n",
       "6 chr1     30267 31109  843  +      HAVANA transcript NA    NA   \n",
       "  gene_id         ... transcript_type transcript_name transcript_support_level\n",
       "1 ENSG00000243485 ... NA              NA              NA                      \n",
       "2 ENSG00000243485 ... lncRNA          MIR1302-2HG-202 5                       \n",
       "3 ENSG00000243485 ... lncRNA          MIR1302-2HG-202 5                       \n",
       "4 ENSG00000243485 ... lncRNA          MIR1302-2HG-202 5                       \n",
       "5 ENSG00000243485 ... lncRNA          MIR1302-2HG-202 5                       \n",
       "6 ENSG00000243485 ... lncRNA          MIR1302-2HG-201 5                       \n",
       "  havana_transcript    exon_number exon_id         exon_version protein_id\n",
       "1 NA                   NA          NA              NA           NA        \n",
       "2 OTTHUMT00000002840.1 NA          NA              NA           NA        \n",
       "3 OTTHUMT00000002840.1 1           ENSE00001947070 1            NA        \n",
       "4 OTTHUMT00000002840.1 2           ENSE00001922571 1            NA        \n",
       "5 OTTHUMT00000002840.1 3           ENSE00001827679 1            NA        \n",
       "6 OTTHUMT00000002841.2 NA          NA              NA           NA        \n",
       "  ccdsid ont\n",
       "1 NA     NA \n",
       "2 NA     NA \n",
       "3 NA     NA \n",
       "4 NA     NA \n",
       "5 NA     NA \n",
       "6 NA     NA "
      ]
     },
     "metadata": {},
     "output_type": "display_data"
    }
   ],
   "source": [
    "head(gtf_df,6)"
   ]
  },
  {
   "cell_type": "code",
   "execution_count": 11,
   "id": "f13cb3e3-967a-473f-8f5e-825e82444e51",
   "metadata": {},
   "outputs": [
    {
     "name": "stderr",
     "output_type": "stream",
     "text": [
      "\n",
      "Attaching package: 'dplyr'\n",
      "\n",
      "\n",
      "The following objects are masked from 'package:stats':\n",
      "\n",
      "    filter, lag\n",
      "\n",
      "\n",
      "The following objects are masked from 'package:base':\n",
      "\n",
      "    intersect, setdiff, setequal, union\n",
      "\n",
      "\n"
     ]
    }
   ],
   "source": [
    "library(dplyr)"
   ]
  },
  {
   "cell_type": "code",
   "execution_count": 12,
   "id": "d469e191-6f89-4a30-80ff-92ec6911a647",
   "metadata": {},
   "outputs": [],
   "source": [
    "mRNA_exprSet<- gtf_df %>% \n",
    "dplyr::filter(type==\"gene\",gene_type==\"protein_coding\")%>%\n",
    "dplyr::select(c(gene_name,gene_id,transcript_type))%>%\n",
    "dplyr::inner_join(fpkm, by =\"gene_id\")"
   ]
  },
  {
   "cell_type": "code",
   "execution_count": 13,
   "id": "478096e9-f6aa-4f54-94a6-bf7f8525102c",
   "metadata": {},
   "outputs": [
    {
     "data": {
      "text/html": [
       "<table class=\"dataframe\">\n",
       "<caption>A data.frame: 2 x 382</caption>\n",
       "<thead>\n",
       "\t<tr><th></th><th scope=col>gene_name</th><th scope=col>gene_id</th><th scope=col>transcript_type</th><th scope=col>TCGA-23-1120-01A</th><th scope=col>TCGA-29-1695-01A</th><th scope=col>TCGA-61-2003-01A</th><th scope=col>TCGA-13-1404-01A</th><th scope=col>TCGA-23-1027-01A</th><th scope=col>TCGA-23-1022-01A</th><th scope=col>TCGA-61-2088-01A</th><th scope=col>...</th><th scope=col>TCGA-30-1714-01A</th><th scope=col>TCGA-57-1582-01A</th><th scope=col>TCGA-61-2012-01A</th><th scope=col>TCGA-13-1510-01A</th><th scope=col>TCGA-VG-A8LO-01A</th><th scope=col>TCGA-23-2078-01A</th><th scope=col>TCGA-09-1666-01A</th><th scope=col>TCGA-29-1777-01A</th><th scope=col>TCGA-61-2110-01A</th><th scope=col>TCGA-29-1776-01A</th></tr>\n",
       "\t<tr><th></th><th scope=col>&lt;chr&gt;</th><th scope=col>&lt;chr&gt;</th><th scope=col>&lt;chr&gt;</th><th scope=col>&lt;dbl&gt;</th><th scope=col>&lt;dbl&gt;</th><th scope=col>&lt;dbl&gt;</th><th scope=col>&lt;dbl&gt;</th><th scope=col>&lt;dbl&gt;</th><th scope=col>&lt;dbl&gt;</th><th scope=col>&lt;dbl&gt;</th><th scope=col>...</th><th scope=col>&lt;dbl&gt;</th><th scope=col>&lt;dbl&gt;</th><th scope=col>&lt;dbl&gt;</th><th scope=col>&lt;dbl&gt;</th><th scope=col>&lt;dbl&gt;</th><th scope=col>&lt;dbl&gt;</th><th scope=col>&lt;dbl&gt;</th><th scope=col>&lt;dbl&gt;</th><th scope=col>&lt;dbl&gt;</th><th scope=col>&lt;dbl&gt;</th></tr>\n",
       "</thead>\n",
       "<tbody>\n",
       "\t<tr><th scope=row>1</th><td>OR4F5 </td><td>ENSG00000186092</td><td>NA</td><td>0.0000000</td><td>0.0000000</td><td>0.000000</td><td>0.000000</td><td>0.0000000</td><td>0.000000</td><td>0.000000</td><td>...</td><td>0.0000000</td><td>0.0000000</td><td>0.00000</td><td>0.000000</td><td>0.0000000</td><td>0.0000000</td><td>0.000000</td><td>0.0000000</td><td>0.00000</td><td>0.0000000</td></tr>\n",
       "\t<tr><th scope=row>2</th><td>SAMD11</td><td>ENSG00000187634</td><td>NA</td><td>0.0964698</td><td>0.7111142</td><td>0.620981</td><td>3.177135</td><td>0.6486631</td><td>3.733601</td><td>4.580466</td><td>...</td><td>0.3340229</td><td>0.5181441</td><td>3.47736</td><td>2.314433</td><td>0.3057471</td><td>0.8149501</td><td>2.469936</td><td>0.3597346</td><td>1.27766</td><td>0.9988693</td></tr>\n",
       "</tbody>\n",
       "</table>\n"
      ],
      "text/latex": [
       "A data.frame: 2 x 382\n",
       "\\begin{tabular}{r|lllllllllllllllllllll}\n",
       "  & gene\\_name & gene\\_id & transcript\\_type & TCGA-23-1120-01A & TCGA-29-1695-01A & TCGA-61-2003-01A & TCGA-13-1404-01A & TCGA-23-1027-01A & TCGA-23-1022-01A & TCGA-61-2088-01A & ... & TCGA-30-1714-01A & TCGA-57-1582-01A & TCGA-61-2012-01A & TCGA-13-1510-01A & TCGA-VG-A8LO-01A & TCGA-23-2078-01A & TCGA-09-1666-01A & TCGA-29-1777-01A & TCGA-61-2110-01A & TCGA-29-1776-01A\\\\\n",
       "  & <chr> & <chr> & <chr> & <dbl> & <dbl> & <dbl> & <dbl> & <dbl> & <dbl> & <dbl> & ... & <dbl> & <dbl> & <dbl> & <dbl> & <dbl> & <dbl> & <dbl> & <dbl> & <dbl> & <dbl>\\\\\n",
       "\\hline\n",
       "\t1 & OR4F5  & ENSG00000186092 & NA & 0.0000000 & 0.0000000 & 0.000000 & 0.000000 & 0.0000000 & 0.000000 & 0.000000 & ... & 0.0000000 & 0.0000000 & 0.00000 & 0.000000 & 0.0000000 & 0.0000000 & 0.000000 & 0.0000000 & 0.00000 & 0.0000000\\\\\n",
       "\t2 & SAMD11 & ENSG00000187634 & NA & 0.0964698 & 0.7111142 & 0.620981 & 3.177135 & 0.6486631 & 3.733601 & 4.580466 & ... & 0.3340229 & 0.5181441 & 3.47736 & 2.314433 & 0.3057471 & 0.8149501 & 2.469936 & 0.3597346 & 1.27766 & 0.9988693\\\\\n",
       "\\end{tabular}\n"
      ],
      "text/markdown": [
       "\n",
       "A data.frame: 2 x 382\n",
       "\n",
       "| <!--/--> | gene_name &lt;chr&gt; | gene_id &lt;chr&gt; | transcript_type &lt;chr&gt; | TCGA-23-1120-01A &lt;dbl&gt; | TCGA-29-1695-01A &lt;dbl&gt; | TCGA-61-2003-01A &lt;dbl&gt; | TCGA-13-1404-01A &lt;dbl&gt; | TCGA-23-1027-01A &lt;dbl&gt; | TCGA-23-1022-01A &lt;dbl&gt; | TCGA-61-2088-01A &lt;dbl&gt; | ... ... | TCGA-30-1714-01A &lt;dbl&gt; | TCGA-57-1582-01A &lt;dbl&gt; | TCGA-61-2012-01A &lt;dbl&gt; | TCGA-13-1510-01A &lt;dbl&gt; | TCGA-VG-A8LO-01A &lt;dbl&gt; | TCGA-23-2078-01A &lt;dbl&gt; | TCGA-09-1666-01A &lt;dbl&gt; | TCGA-29-1777-01A &lt;dbl&gt; | TCGA-61-2110-01A &lt;dbl&gt; | TCGA-29-1776-01A &lt;dbl&gt; |\n",
       "|---|---|---|---|---|---|---|---|---|---|---|---|---|---|---|---|---|---|---|---|---|---|\n",
       "| 1 | OR4F5  | ENSG00000186092 | NA | 0.0000000 | 0.0000000 | 0.000000 | 0.000000 | 0.0000000 | 0.000000 | 0.000000 | ... | 0.0000000 | 0.0000000 | 0.00000 | 0.000000 | 0.0000000 | 0.0000000 | 0.000000 | 0.0000000 | 0.00000 | 0.0000000 |\n",
       "| 2 | SAMD11 | ENSG00000187634 | NA | 0.0964698 | 0.7111142 | 0.620981 | 3.177135 | 0.6486631 | 3.733601 | 4.580466 | ... | 0.3340229 | 0.5181441 | 3.47736 | 2.314433 | 0.3057471 | 0.8149501 | 2.469936 | 0.3597346 | 1.27766 | 0.9988693 |\n",
       "\n"
      ],
      "text/plain": [
       "  gene_name gene_id         transcript_type TCGA-23-1120-01A TCGA-29-1695-01A\n",
       "1 OR4F5     ENSG00000186092 NA              0.0000000        0.0000000       \n",
       "2 SAMD11    ENSG00000187634 NA              0.0964698        0.7111142       \n",
       "  TCGA-61-2003-01A TCGA-13-1404-01A TCGA-23-1027-01A TCGA-23-1022-01A\n",
       "1 0.000000         0.000000         0.0000000        0.000000        \n",
       "2 0.620981         3.177135         0.6486631        3.733601        \n",
       "  TCGA-61-2088-01A ... TCGA-30-1714-01A TCGA-57-1582-01A TCGA-61-2012-01A\n",
       "1 0.000000         ... 0.0000000        0.0000000        0.00000         \n",
       "2 4.580466         ... 0.3340229        0.5181441        3.47736         \n",
       "  TCGA-13-1510-01A TCGA-VG-A8LO-01A TCGA-23-2078-01A TCGA-09-1666-01A\n",
       "1 0.000000         0.0000000        0.0000000        0.000000        \n",
       "2 2.314433         0.3057471        0.8149501        2.469936        \n",
       "  TCGA-29-1777-01A TCGA-61-2110-01A TCGA-29-1776-01A\n",
       "1 0.0000000        0.00000          0.0000000       \n",
       "2 0.3597346        1.27766          0.9988693       "
      ]
     },
     "metadata": {},
     "output_type": "display_data"
    }
   ],
   "source": [
    "head(mRNA_exprSet,2)"
   ]
  },
  {
   "cell_type": "code",
   "execution_count": 14,
   "id": "6e79daef-a349-4300-83c9-667d1598af4b",
   "metadata": {},
   "outputs": [],
   "source": [
    "mRNA_exprSet<-mRNA_exprSet[!duplicated(mRNA_exprSet$gene_name),]"
   ]
  },
  {
   "cell_type": "code",
   "execution_count": 15,
   "id": "5cbbffdb-a9fd-499b-9b69-f4cedd620cf3",
   "metadata": {},
   "outputs": [],
   "source": [
    "mRNA_exprSet = mRNA_exprSet[,-c(2,3)] %>% tibble::remove_rownames() %>%  tibble::column_to_rownames(.,'gene_name')"
   ]
  },
  {
   "cell_type": "code",
   "execution_count": 16,
   "id": "e86414f9-110f-4256-9f31-e80db105eece",
   "metadata": {},
   "outputs": [
    {
     "data": {
      "text/html": [
       "<table class=\"dataframe\">\n",
       "<caption>A data.frame: 2 x 379</caption>\n",
       "<thead>\n",
       "\t<tr><th></th><th scope=col>TCGA-23-1120-01A</th><th scope=col>TCGA-29-1695-01A</th><th scope=col>TCGA-61-2003-01A</th><th scope=col>TCGA-13-1404-01A</th><th scope=col>TCGA-23-1027-01A</th><th scope=col>TCGA-23-1022-01A</th><th scope=col>TCGA-61-2088-01A</th><th scope=col>TCGA-13-1507-01A</th><th scope=col>TCGA-61-1725-01A</th><th scope=col>TCGA-31-1944-01A</th><th scope=col>...</th><th scope=col>TCGA-30-1714-01A</th><th scope=col>TCGA-57-1582-01A</th><th scope=col>TCGA-61-2012-01A</th><th scope=col>TCGA-13-1510-01A</th><th scope=col>TCGA-VG-A8LO-01A</th><th scope=col>TCGA-23-2078-01A</th><th scope=col>TCGA-09-1666-01A</th><th scope=col>TCGA-29-1777-01A</th><th scope=col>TCGA-61-2110-01A</th><th scope=col>TCGA-29-1776-01A</th></tr>\n",
       "\t<tr><th></th><th scope=col>&lt;dbl&gt;</th><th scope=col>&lt;dbl&gt;</th><th scope=col>&lt;dbl&gt;</th><th scope=col>&lt;dbl&gt;</th><th scope=col>&lt;dbl&gt;</th><th scope=col>&lt;dbl&gt;</th><th scope=col>&lt;dbl&gt;</th><th scope=col>&lt;dbl&gt;</th><th scope=col>&lt;dbl&gt;</th><th scope=col>&lt;dbl&gt;</th><th scope=col>...</th><th scope=col>&lt;dbl&gt;</th><th scope=col>&lt;dbl&gt;</th><th scope=col>&lt;dbl&gt;</th><th scope=col>&lt;dbl&gt;</th><th scope=col>&lt;dbl&gt;</th><th scope=col>&lt;dbl&gt;</th><th scope=col>&lt;dbl&gt;</th><th scope=col>&lt;dbl&gt;</th><th scope=col>&lt;dbl&gt;</th><th scope=col>&lt;dbl&gt;</th></tr>\n",
       "</thead>\n",
       "<tbody>\n",
       "\t<tr><th scope=row>OR4F5</th><td>0.0000000</td><td>0.0000000</td><td>0.000000</td><td>0.000000</td><td>0.0000000</td><td>0.000000</td><td>0.000000</td><td>0.000000</td><td>0.000000</td><td>0.03156382</td><td>...</td><td>0.0000000</td><td>0.0000000</td><td>0.00000</td><td>0.000000</td><td>0.0000000</td><td>0.0000000</td><td>0.000000</td><td>0.0000000</td><td>0.00000</td><td>0.0000000</td></tr>\n",
       "\t<tr><th scope=row>SAMD11</th><td>0.0964698</td><td>0.7111142</td><td>0.620981</td><td>3.177135</td><td>0.6486631</td><td>3.733601</td><td>4.580466</td><td>3.168837</td><td>0.422178</td><td>0.17166489</td><td>...</td><td>0.3340229</td><td>0.5181441</td><td>3.47736</td><td>2.314433</td><td>0.3057471</td><td>0.8149501</td><td>2.469936</td><td>0.3597346</td><td>1.27766</td><td>0.9988693</td></tr>\n",
       "</tbody>\n",
       "</table>\n"
      ],
      "text/latex": [
       "A data.frame: 2 x 379\n",
       "\\begin{tabular}{r|lllllllllllllllllllll}\n",
       "  & TCGA-23-1120-01A & TCGA-29-1695-01A & TCGA-61-2003-01A & TCGA-13-1404-01A & TCGA-23-1027-01A & TCGA-23-1022-01A & TCGA-61-2088-01A & TCGA-13-1507-01A & TCGA-61-1725-01A & TCGA-31-1944-01A & ... & TCGA-30-1714-01A & TCGA-57-1582-01A & TCGA-61-2012-01A & TCGA-13-1510-01A & TCGA-VG-A8LO-01A & TCGA-23-2078-01A & TCGA-09-1666-01A & TCGA-29-1777-01A & TCGA-61-2110-01A & TCGA-29-1776-01A\\\\\n",
       "  & <dbl> & <dbl> & <dbl> & <dbl> & <dbl> & <dbl> & <dbl> & <dbl> & <dbl> & <dbl> & ... & <dbl> & <dbl> & <dbl> & <dbl> & <dbl> & <dbl> & <dbl> & <dbl> & <dbl> & <dbl>\\\\\n",
       "\\hline\n",
       "\tOR4F5 & 0.0000000 & 0.0000000 & 0.000000 & 0.000000 & 0.0000000 & 0.000000 & 0.000000 & 0.000000 & 0.000000 & 0.03156382 & ... & 0.0000000 & 0.0000000 & 0.00000 & 0.000000 & 0.0000000 & 0.0000000 & 0.000000 & 0.0000000 & 0.00000 & 0.0000000\\\\\n",
       "\tSAMD11 & 0.0964698 & 0.7111142 & 0.620981 & 3.177135 & 0.6486631 & 3.733601 & 4.580466 & 3.168837 & 0.422178 & 0.17166489 & ... & 0.3340229 & 0.5181441 & 3.47736 & 2.314433 & 0.3057471 & 0.8149501 & 2.469936 & 0.3597346 & 1.27766 & 0.9988693\\\\\n",
       "\\end{tabular}\n"
      ],
      "text/markdown": [
       "\n",
       "A data.frame: 2 x 379\n",
       "\n",
       "| <!--/--> | TCGA-23-1120-01A &lt;dbl&gt; | TCGA-29-1695-01A &lt;dbl&gt; | TCGA-61-2003-01A &lt;dbl&gt; | TCGA-13-1404-01A &lt;dbl&gt; | TCGA-23-1027-01A &lt;dbl&gt; | TCGA-23-1022-01A &lt;dbl&gt; | TCGA-61-2088-01A &lt;dbl&gt; | TCGA-13-1507-01A &lt;dbl&gt; | TCGA-61-1725-01A &lt;dbl&gt; | TCGA-31-1944-01A &lt;dbl&gt; | ... ... | TCGA-30-1714-01A &lt;dbl&gt; | TCGA-57-1582-01A &lt;dbl&gt; | TCGA-61-2012-01A &lt;dbl&gt; | TCGA-13-1510-01A &lt;dbl&gt; | TCGA-VG-A8LO-01A &lt;dbl&gt; | TCGA-23-2078-01A &lt;dbl&gt; | TCGA-09-1666-01A &lt;dbl&gt; | TCGA-29-1777-01A &lt;dbl&gt; | TCGA-61-2110-01A &lt;dbl&gt; | TCGA-29-1776-01A &lt;dbl&gt; |\n",
       "|---|---|---|---|---|---|---|---|---|---|---|---|---|---|---|---|---|---|---|---|---|---|\n",
       "| OR4F5 | 0.0000000 | 0.0000000 | 0.000000 | 0.000000 | 0.0000000 | 0.000000 | 0.000000 | 0.000000 | 0.000000 | 0.03156382 | ... | 0.0000000 | 0.0000000 | 0.00000 | 0.000000 | 0.0000000 | 0.0000000 | 0.000000 | 0.0000000 | 0.00000 | 0.0000000 |\n",
       "| SAMD11 | 0.0964698 | 0.7111142 | 0.620981 | 3.177135 | 0.6486631 | 3.733601 | 4.580466 | 3.168837 | 0.422178 | 0.17166489 | ... | 0.3340229 | 0.5181441 | 3.47736 | 2.314433 | 0.3057471 | 0.8149501 | 2.469936 | 0.3597346 | 1.27766 | 0.9988693 |\n",
       "\n"
      ],
      "text/plain": [
       "       TCGA-23-1120-01A TCGA-29-1695-01A TCGA-61-2003-01A TCGA-13-1404-01A\n",
       "OR4F5  0.0000000        0.0000000        0.000000         0.000000        \n",
       "SAMD11 0.0964698        0.7111142        0.620981         3.177135        \n",
       "       TCGA-23-1027-01A TCGA-23-1022-01A TCGA-61-2088-01A TCGA-13-1507-01A\n",
       "OR4F5  0.0000000        0.000000         0.000000         0.000000        \n",
       "SAMD11 0.6486631        3.733601         4.580466         3.168837        \n",
       "       TCGA-61-1725-01A TCGA-31-1944-01A ... TCGA-30-1714-01A TCGA-57-1582-01A\n",
       "OR4F5  0.000000         0.03156382       ... 0.0000000        0.0000000       \n",
       "SAMD11 0.422178         0.17166489       ... 0.3340229        0.5181441       \n",
       "       TCGA-61-2012-01A TCGA-13-1510-01A TCGA-VG-A8LO-01A TCGA-23-2078-01A\n",
       "OR4F5  0.00000          0.000000         0.0000000        0.0000000       \n",
       "SAMD11 3.47736          2.314433         0.3057471        0.8149501       \n",
       "       TCGA-09-1666-01A TCGA-29-1777-01A TCGA-61-2110-01A TCGA-29-1776-01A\n",
       "OR4F5  0.000000         0.0000000        0.00000          0.0000000       \n",
       "SAMD11 2.469936         0.3597346        1.27766          0.9988693       "
      ]
     },
     "metadata": {},
     "output_type": "display_data"
    }
   ],
   "source": [
    "head(mRNA_exprSet,2)"
   ]
  },
  {
   "cell_type": "code",
   "execution_count": 153,
   "id": "a85bedac-9490-4824-9438-19571f17366e",
   "metadata": {},
   "outputs": [],
   "source": [
    "IMCe = c('IL6','CD14','FOXP3','CD69','CD4','CD8A','COL1A1','CXCL13','PECAM1',\n",
    "         'HAVCR2','PDPN','ITGAE','CD276','TFRC','CXCR4','CD274','CCR7','CD68','ITGAM',\n",
    "         'MS4A1','FOSB','FAP','GZMB','PDCD1','MKI67','GATA3','PTPRC','CD3D','TNF',\n",
    "         'GPM6A','B3GAT1','OLR1','KLF2','NLRP3','HIF1A','VIM',#'HLA-DRA'\n",
    "        )"
   ]
  },
  {
   "cell_type": "code",
   "execution_count": 154,
   "id": "867d1cf5-6393-4686-9d44-586f7b4ab66c",
   "metadata": {},
   "outputs": [],
   "source": [
    "mcp = mRNA_exprSet[IMCe,] %>% t() %>% as.data.frame()  %>% \n",
    "tibble::rownames_to_column(.,'ID')"
   ]
  },
  {
   "cell_type": "code",
   "execution_count": 155,
   "id": "efe8fb81-9811-4bab-a385-beb1eab35853",
   "metadata": {},
   "outputs": [
    {
     "data": {
      "text/html": [
       "<table class=\"dataframe\">\n",
       "<caption>A data.frame: 2 x 4</caption>\n",
       "<thead>\n",
       "\t<tr><th></th><th scope=col>sample</th><th scope=col>OS</th><th scope=col>X_PATIENT</th><th scope=col>OS.time</th></tr>\n",
       "\t<tr><th></th><th scope=col>&lt;chr&gt;</th><th scope=col>&lt;int&gt;</th><th scope=col>&lt;chr&gt;</th><th scope=col>&lt;int&gt;</th></tr>\n",
       "</thead>\n",
       "<tbody>\n",
       "\t<tr><th scope=row>1</th><td>TCGA-30-1857-01A</td><td>1</td><td>TCGA-30-1857</td><td>8</td></tr>\n",
       "\t<tr><th scope=row>2</th><td>TCGA-23-1107-01A</td><td>1</td><td>TCGA-23-1107</td><td>9</td></tr>\n",
       "</tbody>\n",
       "</table>\n"
      ],
      "text/latex": [
       "A data.frame: 2 x 4\n",
       "\\begin{tabular}{r|llll}\n",
       "  & sample & OS & X\\_PATIENT & OS.time\\\\\n",
       "  & <chr> & <int> & <chr> & <int>\\\\\n",
       "\\hline\n",
       "\t1 & TCGA-30-1857-01A & 1 & TCGA-30-1857 & 8\\\\\n",
       "\t2 & TCGA-23-1107-01A & 1 & TCGA-23-1107 & 9\\\\\n",
       "\\end{tabular}\n"
      ],
      "text/markdown": [
       "\n",
       "A data.frame: 2 x 4\n",
       "\n",
       "| <!--/--> | sample &lt;chr&gt; | OS &lt;int&gt; | X_PATIENT &lt;chr&gt; | OS.time &lt;int&gt; |\n",
       "|---|---|---|---|---|\n",
       "| 1 | TCGA-30-1857-01A | 1 | TCGA-30-1857 | 8 |\n",
       "| 2 | TCGA-23-1107-01A | 1 | TCGA-23-1107 | 9 |\n",
       "\n"
      ],
      "text/plain": [
       "  sample           OS X_PATIENT    OS.time\n",
       "1 TCGA-30-1857-01A 1  TCGA-30-1857 8      \n",
       "2 TCGA-23-1107-01A 1  TCGA-23-1107 9      "
      ]
     },
     "metadata": {},
     "output_type": "display_data"
    }
   ],
   "source": [
    "clin = read.table('./TCGA-OV.survival.tsv',header =T)\n",
    "head(clin,2)\n",
    "clin = clin %>% filter(OS.time > 30 )\n",
    "library(stringr)\n",
    "tumor <- clin$sample[as.integer(substr(clin$sample,14,15)) < 10]\n",
    "tumoin = clin %>%  dplyr::filter(sample %in% tumor)\n",
    "colnames(tumoin)[1] = 'ID'\n",
    "expr = left_join(tumoin,mcp,by = 'ID') %>%  na.omit()\n"
   ]
  },
  {
   "cell_type": "code",
   "execution_count": 156,
   "id": "c2c50990-6cb4-48e1-a606-e6f57a82761b",
   "metadata": {},
   "outputs": [
    {
     "data": {
      "text/plain": [
       "\n",
       "  0   1 \n",
       "144 224 "
      ]
     },
     "metadata": {},
     "output_type": "display_data"
    },
    {
     "data": {
      "text/html": [
       "<style>\n",
       ".list-inline {list-style: none; margin:0; padding: 0}\n",
       ".list-inline>li {display: inline-block}\n",
       ".list-inline>li:not(:last-child)::after {content: \"\\00b7\"; padding: 0 .5ex}\n",
       "</style>\n",
       "<ol class=list-inline><li>368</li><li>41</li></ol>\n"
      ],
      "text/latex": [
       "\\begin{enumerate*}\n",
       "\\item 368\n",
       "\\item 41\n",
       "\\end{enumerate*}\n"
      ],
      "text/markdown": [
       "1. 368\n",
       "2. 41\n",
       "\n",
       "\n"
      ],
      "text/plain": [
       "[1] 368  41"
      ]
     },
     "metadata": {},
     "output_type": "display_data"
    },
    {
     "data": {
      "text/plain": [
       "\n",
       "  0   1 \n",
       "144 224 "
      ]
     },
     "metadata": {},
     "output_type": "display_data"
    },
    {
     "name": "stdout",
     "output_type": "stream",
     "text": [
      "  |======================================================================| 100%"
     ]
    }
   ],
   "source": [
    "expr$OS.time=round(expr$OS.time/30,2)\n",
    "table(expr$OS)\n",
    "dim(expr)\n",
    "table(expr$OS)\n",
    "library(survival)\n",
    "library(survminer)\n",
    "library(survival)\n",
    "library(survminer)\n",
    "res.cut <- surv_cutpoint(expr, #数据集\n",
    "                         time = \"OS.time\", #生存状态\n",
    "                         event = \"OS\", #生存时间\n",
    "                         variables = IMCe #需要计算的数据列名\n",
    "                         )"
   ]
  },
  {
   "cell_type": "code",
   "execution_count": 157,
   "id": "0a2ddce0-78b0-43c5-bf61-8e278b24a2a3",
   "metadata": {},
   "outputs": [],
   "source": [
    "cell_inter_dir=paste('./',\"gene.surv\",sep=\"/\")\n",
    "if(!file.exists(cell_inter_dir)){\n",
    "   dir.create(cell_inter_dir)\n",
    "}"
   ]
  },
  {
   "cell_type": "code",
   "execution_count": 158,
   "id": "430e92b4-bb5a-4b26-8a6f-9225730b3bcc",
   "metadata": {},
   "outputs": [
    {
     "data": {
      "text/html": [
       "<table class=\"dataframe\">\n",
       "<caption>A data.frame: 2 x 41</caption>\n",
       "<thead>\n",
       "\t<tr><th></th><th scope=col>ID</th><th scope=col>OS</th><th scope=col>X_PATIENT</th><th scope=col>OS.time</th><th scope=col>IL6</th><th scope=col>CD14</th><th scope=col>FOXP3</th><th scope=col>CD69</th><th scope=col>CD4</th><th scope=col>CD8A</th><th scope=col>...</th><th scope=col>CD3D</th><th scope=col>TNF</th><th scope=col>GPM6A</th><th scope=col>B3GAT1</th><th scope=col>OLR1</th><th scope=col>KLF2</th><th scope=col>NLRP3</th><th scope=col>HIF1A</th><th scope=col>VIM</th><th scope=col>HLA-DRA</th></tr>\n",
       "\t<tr><th></th><th scope=col>&lt;chr&gt;</th><th scope=col>&lt;int&gt;</th><th scope=col>&lt;chr&gt;</th><th scope=col>&lt;dbl&gt;</th><th scope=col>&lt;dbl&gt;</th><th scope=col>&lt;dbl&gt;</th><th scope=col>&lt;dbl&gt;</th><th scope=col>&lt;dbl&gt;</th><th scope=col>&lt;dbl&gt;</th><th scope=col>&lt;dbl&gt;</th><th scope=col>...</th><th scope=col>&lt;dbl&gt;</th><th scope=col>&lt;dbl&gt;</th><th scope=col>&lt;dbl&gt;</th><th scope=col>&lt;dbl&gt;</th><th scope=col>&lt;dbl&gt;</th><th scope=col>&lt;dbl&gt;</th><th scope=col>&lt;dbl&gt;</th><th scope=col>&lt;dbl&gt;</th><th scope=col>&lt;dbl&gt;</th><th scope=col>&lt;dbl&gt;</th></tr>\n",
       "</thead>\n",
       "<tbody>\n",
       "\t<tr><th scope=row>1</th><td>TCGA-25-2392-01A</td><td>1</td><td>TCGA-25-2392</td><td>1.03</td><td>0.2863572</td><td>7.915244</td><td>2.2509361</td><td>2.1399161</td><td>5.721325</td><td>1.0000212</td><td>...</td><td>1.8029616</td><td>1.729514</td><td>0.2047869</td><td>0.90946202</td><td>3.615582</td><td>3.338192</td><td>1.5380841</td><td>5.618925</td><td>6.279566</td><td>9.973417</td></tr>\n",
       "\t<tr><th scope=row>2</th><td>TCGA-25-1312-01A</td><td>1</td><td>TCGA-25-1312</td><td>1.03</td><td>0.3795037</td><td>5.114820</td><td>0.6552704</td><td>0.8381157</td><td>3.633487</td><td>0.6429556</td><td>...</td><td>0.6401038</td><td>2.491209</td><td>0.5257640</td><td>0.06406677</td><td>1.555967</td><td>2.756733</td><td>0.6176627</td><td>4.632622</td><td>6.257010</td><td>8.658438</td></tr>\n",
       "</tbody>\n",
       "</table>\n"
      ],
      "text/latex": [
       "A data.frame: 2 x 41\n",
       "\\begin{tabular}{r|lllllllllllllllllllll}\n",
       "  & ID & OS & X\\_PATIENT & OS.time & IL6 & CD14 & FOXP3 & CD69 & CD4 & CD8A & ... & CD3D & TNF & GPM6A & B3GAT1 & OLR1 & KLF2 & NLRP3 & HIF1A & VIM & HLA-DRA\\\\\n",
       "  & <chr> & <int> & <chr> & <dbl> & <dbl> & <dbl> & <dbl> & <dbl> & <dbl> & <dbl> & ... & <dbl> & <dbl> & <dbl> & <dbl> & <dbl> & <dbl> & <dbl> & <dbl> & <dbl> & <dbl>\\\\\n",
       "\\hline\n",
       "\t1 & TCGA-25-2392-01A & 1 & TCGA-25-2392 & 1.03 & 0.2863572 & 7.915244 & 2.2509361 & 2.1399161 & 5.721325 & 1.0000212 & ... & 1.8029616 & 1.729514 & 0.2047869 & 0.90946202 & 3.615582 & 3.338192 & 1.5380841 & 5.618925 & 6.279566 & 9.973417\\\\\n",
       "\t2 & TCGA-25-1312-01A & 1 & TCGA-25-1312 & 1.03 & 0.3795037 & 5.114820 & 0.6552704 & 0.8381157 & 3.633487 & 0.6429556 & ... & 0.6401038 & 2.491209 & 0.5257640 & 0.06406677 & 1.555967 & 2.756733 & 0.6176627 & 4.632622 & 6.257010 & 8.658438\\\\\n",
       "\\end{tabular}\n"
      ],
      "text/markdown": [
       "\n",
       "A data.frame: 2 x 41\n",
       "\n",
       "| <!--/--> | ID &lt;chr&gt; | OS &lt;int&gt; | X_PATIENT &lt;chr&gt; | OS.time &lt;dbl&gt; | IL6 &lt;dbl&gt; | CD14 &lt;dbl&gt; | FOXP3 &lt;dbl&gt; | CD69 &lt;dbl&gt; | CD4 &lt;dbl&gt; | CD8A &lt;dbl&gt; | ... ... | CD3D &lt;dbl&gt; | TNF &lt;dbl&gt; | GPM6A &lt;dbl&gt; | B3GAT1 &lt;dbl&gt; | OLR1 &lt;dbl&gt; | KLF2 &lt;dbl&gt; | NLRP3 &lt;dbl&gt; | HIF1A &lt;dbl&gt; | VIM &lt;dbl&gt; | HLA-DRA &lt;dbl&gt; |\n",
       "|---|---|---|---|---|---|---|---|---|---|---|---|---|---|---|---|---|---|---|---|---|---|\n",
       "| 1 | TCGA-25-2392-01A | 1 | TCGA-25-2392 | 1.03 | 0.2863572 | 7.915244 | 2.2509361 | 2.1399161 | 5.721325 | 1.0000212 | ... | 1.8029616 | 1.729514 | 0.2047869 | 0.90946202 | 3.615582 | 3.338192 | 1.5380841 | 5.618925 | 6.279566 | 9.973417 |\n",
       "| 2 | TCGA-25-1312-01A | 1 | TCGA-25-1312 | 1.03 | 0.3795037 | 5.114820 | 0.6552704 | 0.8381157 | 3.633487 | 0.6429556 | ... | 0.6401038 | 2.491209 | 0.5257640 | 0.06406677 | 1.555967 | 2.756733 | 0.6176627 | 4.632622 | 6.257010 | 8.658438 |\n",
       "\n"
      ],
      "text/plain": [
       "  ID               OS X_PATIENT    OS.time IL6       CD14     FOXP3    \n",
       "1 TCGA-25-2392-01A 1  TCGA-25-2392 1.03    0.2863572 7.915244 2.2509361\n",
       "2 TCGA-25-1312-01A 1  TCGA-25-1312 1.03    0.3795037 5.114820 0.6552704\n",
       "  CD69      CD4      CD8A      ... CD3D      TNF      GPM6A     B3GAT1    \n",
       "1 2.1399161 5.721325 1.0000212 ... 1.8029616 1.729514 0.2047869 0.90946202\n",
       "2 0.8381157 3.633487 0.6429556 ... 0.6401038 2.491209 0.5257640 0.06406677\n",
       "  OLR1     KLF2     NLRP3     HIF1A    VIM      HLA-DRA \n",
       "1 3.615582 3.338192 1.5380841 5.618925 6.279566 9.973417\n",
       "2 1.555967 2.756733 0.6176627 4.632622 6.257010 8.658438"
      ]
     },
     "metadata": {},
     "output_type": "display_data"
    },
    {
     "data": {
      "text/html": [
       "<table class=\"dataframe\">\n",
       "<caption>A data.frame: 37 x 2</caption>\n",
       "<thead>\n",
       "\t<tr><th></th><th scope=col>cutpoint</th><th scope=col>statistic</th></tr>\n",
       "\t<tr><th></th><th scope=col>&lt;dbl&gt;</th><th scope=col>&lt;dbl&gt;</th></tr>\n",
       "</thead>\n",
       "<tbody>\n",
       "\t<tr><th scope=row>IL6</th><td>1.38916313</td><td>1.4411603</td></tr>\n",
       "\t<tr><th scope=row>CD14</th><td>6.54965427</td><td>2.4825619</td></tr>\n",
       "\t<tr><th scope=row>FOXP3</th><td>1.01874316</td><td>3.3226724</td></tr>\n",
       "\t<tr><th scope=row>CD69</th><td>1.01270497</td><td>2.5029282</td></tr>\n",
       "\t<tr><th scope=row>CD4</th><td>2.65829552</td><td>1.6134690</td></tr>\n",
       "\t<tr><th scope=row>CD8A</th><td>1.00002124</td><td>3.0255683</td></tr>\n",
       "\t<tr><th scope=row>COL1A1</th><td>9.26921952</td><td>2.3527965</td></tr>\n",
       "\t<tr><th scope=row>CXCL13</th><td>0.90213892</td><td>3.7233758</td></tr>\n",
       "\t<tr><th scope=row>PECAM1</th><td>2.52560021</td><td>1.6959633</td></tr>\n",
       "\t<tr><th scope=row>HAVCR2</th><td>3.07010338</td><td>2.3574017</td></tr>\n",
       "\t<tr><th scope=row>PDPN</th><td>1.05136490</td><td>2.3766770</td></tr>\n",
       "\t<tr><th scope=row>ITGAE</th><td>1.04917041</td><td>1.6518188</td></tr>\n",
       "\t<tr><th scope=row>CD276</th><td>4.85496184</td><td>2.4645932</td></tr>\n",
       "\t<tr><th scope=row>TFRC</th><td>5.05379579</td><td>2.1329272</td></tr>\n",
       "\t<tr><th scope=row>CXCR4</th><td>5.70950374</td><td>3.3955941</td></tr>\n",
       "\t<tr><th scope=row>CD274</th><td>0.52052211</td><td>3.1029419</td></tr>\n",
       "\t<tr><th scope=row>CCR7</th><td>0.88800570</td><td>3.9687327</td></tr>\n",
       "\t<tr><th scope=row>CD68</th><td>1.75065951</td><td>1.8927560</td></tr>\n",
       "\t<tr><th scope=row>ITGAM</th><td>1.75564890</td><td>2.7004402</td></tr>\n",
       "\t<tr><th scope=row>MS4A1</th><td>0.02018934</td><td>3.5884368</td></tr>\n",
       "\t<tr><th scope=row>FOSB</th><td>5.17286015</td><td>2.3785854</td></tr>\n",
       "\t<tr><th scope=row>FAP</th><td>2.38229446</td><td>2.3840057</td></tr>\n",
       "\t<tr><th scope=row>GZMB</th><td>1.72874049</td><td>3.3184776</td></tr>\n",
       "\t<tr><th scope=row>PDCD1</th><td>0.47838169</td><td>2.1192942</td></tr>\n",
       "\t<tr><th scope=row>MKI67</th><td>2.32641560</td><td>0.9887376</td></tr>\n",
       "\t<tr><th scope=row>GATA3</th><td>0.74253536</td><td>1.0399133</td></tr>\n",
       "\t<tr><th scope=row>PTPRC</th><td>1.88319502</td><td>2.6043367</td></tr>\n",
       "\t<tr><th scope=row>CD3D</th><td>2.13606224</td><td>3.0413471</td></tr>\n",
       "\t<tr><th scope=row>TNF</th><td>2.52819772</td><td>0.9969425</td></tr>\n",
       "\t<tr><th scope=row>GPM6A</th><td>0.73501004</td><td>1.3116504</td></tr>\n",
       "\t<tr><th scope=row>B3GAT1</th><td>0.02845729</td><td>1.0514244</td></tr>\n",
       "\t<tr><th scope=row>OLR1</th><td>1.18501318</td><td>1.4326361</td></tr>\n",
       "\t<tr><th scope=row>KLF2</th><td>2.74922737</td><td>2.2469568</td></tr>\n",
       "\t<tr><th scope=row>NLRP3</th><td>1.12121119</td><td>2.2585784</td></tr>\n",
       "\t<tr><th scope=row>HIF1A</th><td>5.20553814</td><td>1.3965230</td></tr>\n",
       "\t<tr><th scope=row>VIM</th><td>5.98593683</td><td>1.3689085</td></tr>\n",
       "\t<tr><th scope=row>HLA.DRA</th><td>9.42894287</td><td>2.4120232</td></tr>\n",
       "</tbody>\n",
       "</table>\n"
      ],
      "text/latex": [
       "A data.frame: 37 x 2\n",
       "\\begin{tabular}{r|ll}\n",
       "  & cutpoint & statistic\\\\\n",
       "  & <dbl> & <dbl>\\\\\n",
       "\\hline\n",
       "\tIL6 & 1.38916313 & 1.4411603\\\\\n",
       "\tCD14 & 6.54965427 & 2.4825619\\\\\n",
       "\tFOXP3 & 1.01874316 & 3.3226724\\\\\n",
       "\tCD69 & 1.01270497 & 2.5029282\\\\\n",
       "\tCD4 & 2.65829552 & 1.6134690\\\\\n",
       "\tCD8A & 1.00002124 & 3.0255683\\\\\n",
       "\tCOL1A1 & 9.26921952 & 2.3527965\\\\\n",
       "\tCXCL13 & 0.90213892 & 3.7233758\\\\\n",
       "\tPECAM1 & 2.52560021 & 1.6959633\\\\\n",
       "\tHAVCR2 & 3.07010338 & 2.3574017\\\\\n",
       "\tPDPN & 1.05136490 & 2.3766770\\\\\n",
       "\tITGAE & 1.04917041 & 1.6518188\\\\\n",
       "\tCD276 & 4.85496184 & 2.4645932\\\\\n",
       "\tTFRC & 5.05379579 & 2.1329272\\\\\n",
       "\tCXCR4 & 5.70950374 & 3.3955941\\\\\n",
       "\tCD274 & 0.52052211 & 3.1029419\\\\\n",
       "\tCCR7 & 0.88800570 & 3.9687327\\\\\n",
       "\tCD68 & 1.75065951 & 1.8927560\\\\\n",
       "\tITGAM & 1.75564890 & 2.7004402\\\\\n",
       "\tMS4A1 & 0.02018934 & 3.5884368\\\\\n",
       "\tFOSB & 5.17286015 & 2.3785854\\\\\n",
       "\tFAP & 2.38229446 & 2.3840057\\\\\n",
       "\tGZMB & 1.72874049 & 3.3184776\\\\\n",
       "\tPDCD1 & 0.47838169 & 2.1192942\\\\\n",
       "\tMKI67 & 2.32641560 & 0.9887376\\\\\n",
       "\tGATA3 & 0.74253536 & 1.0399133\\\\\n",
       "\tPTPRC & 1.88319502 & 2.6043367\\\\\n",
       "\tCD3D & 2.13606224 & 3.0413471\\\\\n",
       "\tTNF & 2.52819772 & 0.9969425\\\\\n",
       "\tGPM6A & 0.73501004 & 1.3116504\\\\\n",
       "\tB3GAT1 & 0.02845729 & 1.0514244\\\\\n",
       "\tOLR1 & 1.18501318 & 1.4326361\\\\\n",
       "\tKLF2 & 2.74922737 & 2.2469568\\\\\n",
       "\tNLRP3 & 1.12121119 & 2.2585784\\\\\n",
       "\tHIF1A & 5.20553814 & 1.3965230\\\\\n",
       "\tVIM & 5.98593683 & 1.3689085\\\\\n",
       "\tHLA.DRA & 9.42894287 & 2.4120232\\\\\n",
       "\\end{tabular}\n"
      ],
      "text/markdown": [
       "\n",
       "A data.frame: 37 x 2\n",
       "\n",
       "| <!--/--> | cutpoint &lt;dbl&gt; | statistic &lt;dbl&gt; |\n",
       "|---|---|---|\n",
       "| IL6 | 1.38916313 | 1.4411603 |\n",
       "| CD14 | 6.54965427 | 2.4825619 |\n",
       "| FOXP3 | 1.01874316 | 3.3226724 |\n",
       "| CD69 | 1.01270497 | 2.5029282 |\n",
       "| CD4 | 2.65829552 | 1.6134690 |\n",
       "| CD8A | 1.00002124 | 3.0255683 |\n",
       "| COL1A1 | 9.26921952 | 2.3527965 |\n",
       "| CXCL13 | 0.90213892 | 3.7233758 |\n",
       "| PECAM1 | 2.52560021 | 1.6959633 |\n",
       "| HAVCR2 | 3.07010338 | 2.3574017 |\n",
       "| PDPN | 1.05136490 | 2.3766770 |\n",
       "| ITGAE | 1.04917041 | 1.6518188 |\n",
       "| CD276 | 4.85496184 | 2.4645932 |\n",
       "| TFRC | 5.05379579 | 2.1329272 |\n",
       "| CXCR4 | 5.70950374 | 3.3955941 |\n",
       "| CD274 | 0.52052211 | 3.1029419 |\n",
       "| CCR7 | 0.88800570 | 3.9687327 |\n",
       "| CD68 | 1.75065951 | 1.8927560 |\n",
       "| ITGAM | 1.75564890 | 2.7004402 |\n",
       "| MS4A1 | 0.02018934 | 3.5884368 |\n",
       "| FOSB | 5.17286015 | 2.3785854 |\n",
       "| FAP | 2.38229446 | 2.3840057 |\n",
       "| GZMB | 1.72874049 | 3.3184776 |\n",
       "| PDCD1 | 0.47838169 | 2.1192942 |\n",
       "| MKI67 | 2.32641560 | 0.9887376 |\n",
       "| GATA3 | 0.74253536 | 1.0399133 |\n",
       "| PTPRC | 1.88319502 | 2.6043367 |\n",
       "| CD3D | 2.13606224 | 3.0413471 |\n",
       "| TNF | 2.52819772 | 0.9969425 |\n",
       "| GPM6A | 0.73501004 | 1.3116504 |\n",
       "| B3GAT1 | 0.02845729 | 1.0514244 |\n",
       "| OLR1 | 1.18501318 | 1.4326361 |\n",
       "| KLF2 | 2.74922737 | 2.2469568 |\n",
       "| NLRP3 | 1.12121119 | 2.2585784 |\n",
       "| HIF1A | 5.20553814 | 1.3965230 |\n",
       "| VIM | 5.98593683 | 1.3689085 |\n",
       "| HLA.DRA | 9.42894287 | 2.4120232 |\n",
       "\n"
      ],
      "text/plain": [
       "        cutpoint   statistic\n",
       "IL6     1.38916313 1.4411603\n",
       "CD14    6.54965427 2.4825619\n",
       "FOXP3   1.01874316 3.3226724\n",
       "CD69    1.01270497 2.5029282\n",
       "CD4     2.65829552 1.6134690\n",
       "CD8A    1.00002124 3.0255683\n",
       "COL1A1  9.26921952 2.3527965\n",
       "CXCL13  0.90213892 3.7233758\n",
       "PECAM1  2.52560021 1.6959633\n",
       "HAVCR2  3.07010338 2.3574017\n",
       "PDPN    1.05136490 2.3766770\n",
       "ITGAE   1.04917041 1.6518188\n",
       "CD276   4.85496184 2.4645932\n",
       "TFRC    5.05379579 2.1329272\n",
       "CXCR4   5.70950374 3.3955941\n",
       "CD274   0.52052211 3.1029419\n",
       "CCR7    0.88800570 3.9687327\n",
       "CD68    1.75065951 1.8927560\n",
       "ITGAM   1.75564890 2.7004402\n",
       "MS4A1   0.02018934 3.5884368\n",
       "FOSB    5.17286015 2.3785854\n",
       "FAP     2.38229446 2.3840057\n",
       "GZMB    1.72874049 3.3184776\n",
       "PDCD1   0.47838169 2.1192942\n",
       "MKI67   2.32641560 0.9887376\n",
       "GATA3   0.74253536 1.0399133\n",
       "PTPRC   1.88319502 2.6043367\n",
       "CD3D    2.13606224 3.0413471\n",
       "TNF     2.52819772 0.9969425\n",
       "GPM6A   0.73501004 1.3116504\n",
       "B3GAT1  0.02845729 1.0514244\n",
       "OLR1    1.18501318 1.4326361\n",
       "KLF2    2.74922737 2.2469568\n",
       "NLRP3   1.12121119 2.2585784\n",
       "HIF1A   5.20553814 1.3965230\n",
       "VIM     5.98593683 1.3689085\n",
       "HLA.DRA 9.42894287 2.4120232"
      ]
     },
     "metadata": {},
     "output_type": "display_data"
    },
    {
     "data": {
      "text/html": [
       "<table class=\"dataframe\">\n",
       "<caption>A data.frame: 6 x 39</caption>\n",
       "<thead>\n",
       "\t<tr><th></th><th scope=col>OS.time</th><th scope=col>OS</th><th scope=col>IL6</th><th scope=col>CD14</th><th scope=col>FOXP3</th><th scope=col>CD69</th><th scope=col>CD4</th><th scope=col>CD8A</th><th scope=col>COL1A1</th><th scope=col>CXCL13</th><th scope=col>...</th><th scope=col>CD3D</th><th scope=col>TNF</th><th scope=col>GPM6A</th><th scope=col>B3GAT1</th><th scope=col>OLR1</th><th scope=col>KLF2</th><th scope=col>NLRP3</th><th scope=col>HIF1A</th><th scope=col>VIM</th><th scope=col>HLA-DRA</th></tr>\n",
       "\t<tr><th></th><th scope=col>&lt;dbl&gt;</th><th scope=col>&lt;int&gt;</th><th scope=col>&lt;chr&gt;</th><th scope=col>&lt;chr&gt;</th><th scope=col>&lt;chr&gt;</th><th scope=col>&lt;chr&gt;</th><th scope=col>&lt;chr&gt;</th><th scope=col>&lt;chr&gt;</th><th scope=col>&lt;chr&gt;</th><th scope=col>&lt;chr&gt;</th><th scope=col>...</th><th scope=col>&lt;chr&gt;</th><th scope=col>&lt;chr&gt;</th><th scope=col>&lt;chr&gt;</th><th scope=col>&lt;chr&gt;</th><th scope=col>&lt;chr&gt;</th><th scope=col>&lt;chr&gt;</th><th scope=col>&lt;chr&gt;</th><th scope=col>&lt;chr&gt;</th><th scope=col>&lt;chr&gt;</th><th scope=col>&lt;chr&gt;</th></tr>\n",
       "</thead>\n",
       "<tbody>\n",
       "\t<tr><th scope=row>1</th><td>1.03</td><td>1</td><td>low </td><td>high</td><td>high</td><td>high</td><td>high</td><td>low </td><td>low </td><td>low </td><td>...</td><td>low</td><td>low </td><td>low </td><td>high</td><td>high</td><td>high</td><td>high</td><td>high</td><td>high</td><td>9.97341742251909</td></tr>\n",
       "\t<tr><th scope=row>2</th><td>1.03</td><td>1</td><td>low </td><td>low </td><td>low </td><td>low </td><td>high</td><td>low </td><td>low </td><td>low </td><td>...</td><td>low</td><td>low </td><td>low </td><td>high</td><td>high</td><td>high</td><td>low </td><td>low </td><td>high</td><td>8.65843820982944</td></tr>\n",
       "\t<tr><th scope=row>3</th><td>1.10</td><td>0</td><td>low </td><td>low </td><td>low </td><td>low </td><td>low </td><td>low </td><td>low </td><td>high</td><td>...</td><td>low</td><td>low </td><td>low </td><td>low </td><td>low </td><td>high</td><td>low </td><td>low </td><td>low </td><td>6.73117829210397</td></tr>\n",
       "\t<tr><th scope=row>5</th><td>1.20</td><td>0</td><td>low </td><td>low </td><td>low </td><td>low </td><td>high</td><td>high</td><td>low </td><td>low </td><td>...</td><td>low</td><td>low </td><td>high</td><td>high</td><td>high</td><td>low </td><td>low </td><td>low </td><td>high</td><td>9.03497598090287</td></tr>\n",
       "\t<tr><th scope=row>10</th><td>1.77</td><td>1</td><td>high</td><td>low </td><td>high</td><td>high</td><td>high</td><td>high</td><td>high</td><td>high</td><td>...</td><td>low</td><td>high</td><td>low </td><td>high</td><td>high</td><td>high</td><td>high</td><td>high</td><td>high</td><td>9.88873729944753</td></tr>\n",
       "\t<tr><th scope=row>12</th><td>2.03</td><td>1</td><td>high</td><td>low </td><td>low </td><td>low </td><td>low </td><td>low </td><td>low </td><td>low </td><td>...</td><td>low</td><td>low </td><td>low </td><td>high</td><td>low </td><td>high</td><td>low </td><td>high</td><td>high</td><td>7.30917436579651</td></tr>\n",
       "</tbody>\n",
       "</table>\n"
      ],
      "text/latex": [
       "A data.frame: 6 x 39\n",
       "\\begin{tabular}{r|lllllllllllllllllllll}\n",
       "  & OS.time & OS & IL6 & CD14 & FOXP3 & CD69 & CD4 & CD8A & COL1A1 & CXCL13 & ... & CD3D & TNF & GPM6A & B3GAT1 & OLR1 & KLF2 & NLRP3 & HIF1A & VIM & HLA-DRA\\\\\n",
       "  & <dbl> & <int> & <chr> & <chr> & <chr> & <chr> & <chr> & <chr> & <chr> & <chr> & ... & <chr> & <chr> & <chr> & <chr> & <chr> & <chr> & <chr> & <chr> & <chr> & <chr>\\\\\n",
       "\\hline\n",
       "\t1 & 1.03 & 1 & low  & high & high & high & high & low  & low  & low  & ... & low & low  & low  & high & high & high & high & high & high & 9.97341742251909\\\\\n",
       "\t2 & 1.03 & 1 & low  & low  & low  & low  & high & low  & low  & low  & ... & low & low  & low  & high & high & high & low  & low  & high & 8.65843820982944\\\\\n",
       "\t3 & 1.10 & 0 & low  & low  & low  & low  & low  & low  & low  & high & ... & low & low  & low  & low  & low  & high & low  & low  & low  & 6.73117829210397\\\\\n",
       "\t5 & 1.20 & 0 & low  & low  & low  & low  & high & high & low  & low  & ... & low & low  & high & high & high & low  & low  & low  & high & 9.03497598090287\\\\\n",
       "\t10 & 1.77 & 1 & high & low  & high & high & high & high & high & high & ... & low & high & low  & high & high & high & high & high & high & 9.88873729944753\\\\\n",
       "\t12 & 2.03 & 1 & high & low  & low  & low  & low  & low  & low  & low  & ... & low & low  & low  & high & low  & high & low  & high & high & 7.30917436579651\\\\\n",
       "\\end{tabular}\n"
      ],
      "text/markdown": [
       "\n",
       "A data.frame: 6 x 39\n",
       "\n",
       "| <!--/--> | OS.time &lt;dbl&gt; | OS &lt;int&gt; | IL6 &lt;chr&gt; | CD14 &lt;chr&gt; | FOXP3 &lt;chr&gt; | CD69 &lt;chr&gt; | CD4 &lt;chr&gt; | CD8A &lt;chr&gt; | COL1A1 &lt;chr&gt; | CXCL13 &lt;chr&gt; | ... ... | CD3D &lt;chr&gt; | TNF &lt;chr&gt; | GPM6A &lt;chr&gt; | B3GAT1 &lt;chr&gt; | OLR1 &lt;chr&gt; | KLF2 &lt;chr&gt; | NLRP3 &lt;chr&gt; | HIF1A &lt;chr&gt; | VIM &lt;chr&gt; | HLA-DRA &lt;chr&gt; |\n",
       "|---|---|---|---|---|---|---|---|---|---|---|---|---|---|---|---|---|---|---|---|---|---|\n",
       "| 1 | 1.03 | 1 | low  | high | high | high | high | low  | low  | low  | ... | low | low  | low  | high | high | high | high | high | high | 9.97341742251909 |\n",
       "| 2 | 1.03 | 1 | low  | low  | low  | low  | high | low  | low  | low  | ... | low | low  | low  | high | high | high | low  | low  | high | 8.65843820982944 |\n",
       "| 3 | 1.10 | 0 | low  | low  | low  | low  | low  | low  | low  | high | ... | low | low  | low  | low  | low  | high | low  | low  | low  | 6.73117829210397 |\n",
       "| 5 | 1.20 | 0 | low  | low  | low  | low  | high | high | low  | low  | ... | low | low  | high | high | high | low  | low  | low  | high | 9.03497598090287 |\n",
       "| 10 | 1.77 | 1 | high | low  | high | high | high | high | high | high | ... | low | high | low  | high | high | high | high | high | high | 9.88873729944753 |\n",
       "| 12 | 2.03 | 1 | high | low  | low  | low  | low  | low  | low  | low  | ... | low | low  | low  | high | low  | high | low  | high | high | 7.30917436579651 |\n",
       "\n"
      ],
      "text/plain": [
       "   OS.time OS IL6  CD14 FOXP3 CD69 CD4  CD8A COL1A1 CXCL13 ... CD3D TNF  GPM6A\n",
       "1  1.03    1  low  high high  high high low  low    low    ... low  low  low  \n",
       "2  1.03    1  low  low  low   low  high low  low    low    ... low  low  low  \n",
       "3  1.10    0  low  low  low   low  low  low  low    high   ... low  low  low  \n",
       "5  1.20    0  low  low  low   low  high high low    low    ... low  low  high \n",
       "10 1.77    1  high low  high  high high high high   high   ... low  high low  \n",
       "12 2.03    1  high low  low   low  low  low  low    low    ... low  low  low  \n",
       "   B3GAT1 OLR1 KLF2 NLRP3 HIF1A VIM  HLA-DRA         \n",
       "1  high   high high high  high  high 9.97341742251909\n",
       "2  high   high high low   low   high 8.65843820982944\n",
       "3  low    low  high low   low   low  6.73117829210397\n",
       "5  high   high low  low   low   high 9.03497598090287\n",
       "10 high   high high high  high  high 9.88873729944753\n",
       "12 high   low  high low   high  high 7.30917436579651"
      ]
     },
     "metadata": {},
     "output_type": "display_data"
    }
   ],
   "source": [
    "head(expr,2)\n",
    "summary(res.cut)\n",
    "res.cat <- surv_categorize(res.cut)\n",
    "head(res.cat)"
   ]
  },
  {
   "cell_type": "code",
   "execution_count": 159,
   "id": "01ea538a-1514-4306-b188-5e84f6db92a7",
   "metadata": {},
   "outputs": [],
   "source": [
    "library(lattice)"
   ]
  },
  {
   "cell_type": "code",
   "execution_count": 160,
   "id": "349e6494-956c-40ea-b17f-3a2cc70fc767",
   "metadata": {},
   "outputs": [
    {
     "data": {
      "text/html": [
       "<style>\n",
       ".list-inline {list-style: none; margin:0; padding: 0}\n",
       ".list-inline>li {display: inline-block}\n",
       ".list-inline>li:not(:last-child)::after {content: \"\\00b7\"; padding: 0 .5ex}\n",
       "</style>\n",
       "<ol class=list-inline><li>'IL6'</li><li>'CD14'</li><li>'FOXP3'</li><li>'CD69'</li><li>'CD4'</li><li>'CD8A'</li><li>'COL1A1'</li><li>'CXCL13'</li><li>'PECAM1'</li><li>'HAVCR2'</li><li>'PDPN'</li><li>'ITGAE'</li><li>'CD276'</li><li>'TFRC'</li><li>'CXCR4'</li><li>'CD274'</li><li>'CCR7'</li><li>'CD68'</li><li>'ITGAM'</li><li>'MS4A1'</li><li>'FOSB'</li><li>'FAP'</li><li>'GZMB'</li><li>'PDCD1'</li><li>'MKI67'</li><li>'GATA3'</li><li>'PTPRC'</li><li>'CD3D'</li><li>'TNF'</li><li>'GPM6A'</li><li>'B3GAT1'</li><li>'OLR1'</li><li>'KLF2'</li><li>'NLRP3'</li><li>'HIF1A'</li><li>'VIM'</li><li>'HLA-DRA'</li></ol>\n"
      ],
      "text/latex": [
       "\\begin{enumerate*}\n",
       "\\item 'IL6'\n",
       "\\item 'CD14'\n",
       "\\item 'FOXP3'\n",
       "\\item 'CD69'\n",
       "\\item 'CD4'\n",
       "\\item 'CD8A'\n",
       "\\item 'COL1A1'\n",
       "\\item 'CXCL13'\n",
       "\\item 'PECAM1'\n",
       "\\item 'HAVCR2'\n",
       "\\item 'PDPN'\n",
       "\\item 'ITGAE'\n",
       "\\item 'CD276'\n",
       "\\item 'TFRC'\n",
       "\\item 'CXCR4'\n",
       "\\item 'CD274'\n",
       "\\item 'CCR7'\n",
       "\\item 'CD68'\n",
       "\\item 'ITGAM'\n",
       "\\item 'MS4A1'\n",
       "\\item 'FOSB'\n",
       "\\item 'FAP'\n",
       "\\item 'GZMB'\n",
       "\\item 'PDCD1'\n",
       "\\item 'MKI67'\n",
       "\\item 'GATA3'\n",
       "\\item 'PTPRC'\n",
       "\\item 'CD3D'\n",
       "\\item 'TNF'\n",
       "\\item 'GPM6A'\n",
       "\\item 'B3GAT1'\n",
       "\\item 'OLR1'\n",
       "\\item 'KLF2'\n",
       "\\item 'NLRP3'\n",
       "\\item 'HIF1A'\n",
       "\\item 'VIM'\n",
       "\\item 'HLA-DRA'\n",
       "\\end{enumerate*}\n"
      ],
      "text/markdown": [
       "1. 'IL6'\n",
       "2. 'CD14'\n",
       "3. 'FOXP3'\n",
       "4. 'CD69'\n",
       "5. 'CD4'\n",
       "6. 'CD8A'\n",
       "7. 'COL1A1'\n",
       "8. 'CXCL13'\n",
       "9. 'PECAM1'\n",
       "10. 'HAVCR2'\n",
       "11. 'PDPN'\n",
       "12. 'ITGAE'\n",
       "13. 'CD276'\n",
       "14. 'TFRC'\n",
       "15. 'CXCR4'\n",
       "16. 'CD274'\n",
       "17. 'CCR7'\n",
       "18. 'CD68'\n",
       "19. 'ITGAM'\n",
       "20. 'MS4A1'\n",
       "21. 'FOSB'\n",
       "22. 'FAP'\n",
       "23. 'GZMB'\n",
       "24. 'PDCD1'\n",
       "25. 'MKI67'\n",
       "26. 'GATA3'\n",
       "27. 'PTPRC'\n",
       "28. 'CD3D'\n",
       "29. 'TNF'\n",
       "30. 'GPM6A'\n",
       "31. 'B3GAT1'\n",
       "32. 'OLR1'\n",
       "33. 'KLF2'\n",
       "34. 'NLRP3'\n",
       "35. 'HIF1A'\n",
       "36. 'VIM'\n",
       "37. 'HLA-DRA'\n",
       "\n",
       "\n"
      ],
      "text/plain": [
       " [1] \"IL6\"     \"CD14\"    \"FOXP3\"   \"CD69\"    \"CD4\"     \"CD8A\"    \"COL1A1\" \n",
       " [8] \"CXCL13\"  \"PECAM1\"  \"HAVCR2\"  \"PDPN\"    \"ITGAE\"   \"CD276\"   \"TFRC\"   \n",
       "[15] \"CXCR4\"   \"CD274\"   \"CCR7\"    \"CD68\"    \"ITGAM\"   \"MS4A1\"   \"FOSB\"   \n",
       "[22] \"FAP\"     \"GZMB\"    \"PDCD1\"   \"MKI67\"   \"GATA3\"   \"PTPRC\"   \"CD3D\"   \n",
       "[29] \"TNF\"     \"GPM6A\"   \"B3GAT1\"  \"OLR1\"    \"KLF2\"    \"NLRP3\"   \"HIF1A\"  \n",
       "[36] \"VIM\"     \"HLA-DRA\""
      ]
     },
     "metadata": {},
     "output_type": "display_data"
    }
   ],
   "source": [
    "IMCe"
   ]
  },
  {
   "cell_type": "code",
   "execution_count": 161,
   "id": "08ca9bef-5d86-4143-a9da-0bd62dad2465",
   "metadata": {},
   "outputs": [
    {
     "data": {
      "text/html": [
       "<style>\n",
       ".list-inline {list-style: none; margin:0; padding: 0}\n",
       ".list-inline>li {display: inline-block}\n",
       ".list-inline>li:not(:last-child)::after {content: \"\\00b7\"; padding: 0 .5ex}\n",
       "</style>\n",
       "<ol class=list-inline><li>368</li><li>39</li></ol>\n"
      ],
      "text/latex": [
       "\\begin{enumerate*}\n",
       "\\item 368\n",
       "\\item 39\n",
       "\\end{enumerate*}\n"
      ],
      "text/markdown": [
       "1. 368\n",
       "2. 39\n",
       "\n",
       "\n"
      ],
      "text/plain": [
       "[1] 368  39"
      ]
     },
     "metadata": {},
     "output_type": "display_data"
    }
   ],
   "source": [
    "dim(res.cat)"
   ]
  },
  {
   "cell_type": "code",
   "execution_count": 162,
   "id": "e197e6f9-f079-49d6-bc44-114254afae16",
   "metadata": {},
   "outputs": [],
   "source": [
    "colnames(res.cat) = gsub('-','.',colnames(res.cat))"
   ]
  },
  {
   "cell_type": "code",
   "execution_count": 163,
   "id": "81e21d52-daa0-4064-bcf5-64a0fc6126b0",
   "metadata": {},
   "outputs": [],
   "source": [
    "IMCe = gsub('-','.',IMCe)"
   ]
  },
  {
   "cell_type": "code",
   "execution_count": 164,
   "id": "1664d1e4-40ed-4e36-94c8-f0a32dbee6e2",
   "metadata": {},
   "outputs": [
    {
     "data": {
      "text/html": [
       "<style>\n",
       ".list-inline {list-style: none; margin:0; padding: 0}\n",
       ".list-inline>li {display: inline-block}\n",
       ".list-inline>li:not(:last-child)::after {content: \"\\00b7\"; padding: 0 .5ex}\n",
       "</style>\n",
       "<ol class=list-inline><li>'OS.time'</li><li>'OS'</li><li>'IL6'</li><li>'CD14'</li><li>'FOXP3'</li><li>'CD69'</li><li>'CD4'</li><li>'CD8A'</li><li>'COL1A1'</li><li>'CXCL13'</li><li>'PECAM1'</li><li>'HAVCR2'</li><li>'PDPN'</li><li>'ITGAE'</li><li>'CD276'</li><li>'TFRC'</li><li>'CXCR4'</li><li>'CD274'</li><li>'CCR7'</li><li>'CD68'</li><li>'ITGAM'</li><li>'MS4A1'</li><li>'FOSB'</li><li>'FAP'</li><li>'GZMB'</li><li>'PDCD1'</li><li>'MKI67'</li><li>'GATA3'</li><li>'PTPRC'</li><li>'CD3D'</li><li>'TNF'</li><li>'GPM6A'</li><li>'B3GAT1'</li><li>'OLR1'</li><li>'KLF2'</li><li>'NLRP3'</li><li>'HIF1A'</li><li>'VIM'</li><li>'HLA.DRA'</li></ol>\n"
      ],
      "text/latex": [
       "\\begin{enumerate*}\n",
       "\\item 'OS.time'\n",
       "\\item 'OS'\n",
       "\\item 'IL6'\n",
       "\\item 'CD14'\n",
       "\\item 'FOXP3'\n",
       "\\item 'CD69'\n",
       "\\item 'CD4'\n",
       "\\item 'CD8A'\n",
       "\\item 'COL1A1'\n",
       "\\item 'CXCL13'\n",
       "\\item 'PECAM1'\n",
       "\\item 'HAVCR2'\n",
       "\\item 'PDPN'\n",
       "\\item 'ITGAE'\n",
       "\\item 'CD276'\n",
       "\\item 'TFRC'\n",
       "\\item 'CXCR4'\n",
       "\\item 'CD274'\n",
       "\\item 'CCR7'\n",
       "\\item 'CD68'\n",
       "\\item 'ITGAM'\n",
       "\\item 'MS4A1'\n",
       "\\item 'FOSB'\n",
       "\\item 'FAP'\n",
       "\\item 'GZMB'\n",
       "\\item 'PDCD1'\n",
       "\\item 'MKI67'\n",
       "\\item 'GATA3'\n",
       "\\item 'PTPRC'\n",
       "\\item 'CD3D'\n",
       "\\item 'TNF'\n",
       "\\item 'GPM6A'\n",
       "\\item 'B3GAT1'\n",
       "\\item 'OLR1'\n",
       "\\item 'KLF2'\n",
       "\\item 'NLRP3'\n",
       "\\item 'HIF1A'\n",
       "\\item 'VIM'\n",
       "\\item 'HLA.DRA'\n",
       "\\end{enumerate*}\n"
      ],
      "text/markdown": [
       "1. 'OS.time'\n",
       "2. 'OS'\n",
       "3. 'IL6'\n",
       "4. 'CD14'\n",
       "5. 'FOXP3'\n",
       "6. 'CD69'\n",
       "7. 'CD4'\n",
       "8. 'CD8A'\n",
       "9. 'COL1A1'\n",
       "10. 'CXCL13'\n",
       "11. 'PECAM1'\n",
       "12. 'HAVCR2'\n",
       "13. 'PDPN'\n",
       "14. 'ITGAE'\n",
       "15. 'CD276'\n",
       "16. 'TFRC'\n",
       "17. 'CXCR4'\n",
       "18. 'CD274'\n",
       "19. 'CCR7'\n",
       "20. 'CD68'\n",
       "21. 'ITGAM'\n",
       "22. 'MS4A1'\n",
       "23. 'FOSB'\n",
       "24. 'FAP'\n",
       "25. 'GZMB'\n",
       "26. 'PDCD1'\n",
       "27. 'MKI67'\n",
       "28. 'GATA3'\n",
       "29. 'PTPRC'\n",
       "30. 'CD3D'\n",
       "31. 'TNF'\n",
       "32. 'GPM6A'\n",
       "33. 'B3GAT1'\n",
       "34. 'OLR1'\n",
       "35. 'KLF2'\n",
       "36. 'NLRP3'\n",
       "37. 'HIF1A'\n",
       "38. 'VIM'\n",
       "39. 'HLA.DRA'\n",
       "\n",
       "\n"
      ],
      "text/plain": [
       " [1] \"OS.time\" \"OS\"      \"IL6\"     \"CD14\"    \"FOXP3\"   \"CD69\"    \"CD4\"    \n",
       " [8] \"CD8A\"    \"COL1A1\"  \"CXCL13\"  \"PECAM1\"  \"HAVCR2\"  \"PDPN\"    \"ITGAE\"  \n",
       "[15] \"CD276\"   \"TFRC\"    \"CXCR4\"   \"CD274\"   \"CCR7\"    \"CD68\"    \"ITGAM\"  \n",
       "[22] \"MS4A1\"   \"FOSB\"    \"FAP\"     \"GZMB\"    \"PDCD1\"   \"MKI67\"   \"GATA3\"  \n",
       "[29] \"PTPRC\"   \"CD3D\"    \"TNF\"     \"GPM6A\"   \"B3GAT1\"  \"OLR1\"    \"KLF2\"   \n",
       "[36] \"NLRP3\"   \"HIF1A\"   \"VIM\"     \"HLA.DRA\""
      ]
     },
     "metadata": {},
     "output_type": "display_data"
    }
   ],
   "source": [
    "colnames(res.cat)"
   ]
  },
  {
   "cell_type": "code",
   "execution_count": null,
   "id": "8572c0bb-74ac-450e-8f95-fd286edebcf7",
   "metadata": {},
   "outputs": [],
   "source": []
  },
  {
   "cell_type": "code",
   "execution_count": null,
   "id": "3a523e8d-f526-436d-b1a5-0678948980ab",
   "metadata": {},
   "outputs": [],
   "source": []
  },
  {
   "cell_type": "code",
   "execution_count": 165,
   "id": "1cbbbc35-ddce-41f7-81f3-9b0025760cf6",
   "metadata": {
    "collapsed": true,
    "jupyter": {
     "outputs_hidden": true
    }
   },
   "outputs": [
    {
     "name": "stderr",
     "output_type": "stream",
     "text": [
      "Warning message in geom_segment(aes(x = 0, y = max(y2), xend = max(x1), yend = max(y2)), :\n",
      "\"\u001b[1m\u001b[22mAll aesthetics have length 1, but the data has 2 rows.\n",
      "\u001b[36mi\u001b[39m Please consider using `annotate()` or provide this layer with data containing\n",
      "  a single row.\"\n"
     ]
    },
    {
     "name": "stdout",
     "output_type": "stream",
     "text": [
      "[1] \"IL6\"\n"
     ]
    },
    {
     "name": "stderr",
     "output_type": "stream",
     "text": [
      "Warning message in geom_segment(aes(x = 0, y = max(y2), xend = max(x1), yend = max(y2)), :\n",
      "\"\u001b[1m\u001b[22mAll aesthetics have length 1, but the data has 2 rows.\n",
      "\u001b[36mi\u001b[39m Please consider using `annotate()` or provide this layer with data containing\n",
      "  a single row.\"\n",
      "Warning message in geom_segment(aes(x = 0, y = max(y2), xend = max(x1), yend = max(y2)), :\n",
      "\"\u001b[1m\u001b[22mAll aesthetics have length 1, but the data has 2 rows.\n",
      "\u001b[36mi\u001b[39m Please consider using `annotate()` or provide this layer with data containing\n",
      "  a single row.\"\n",
      "Warning message in geom_segment(aes(x = 0, y = max(y2), xend = max(x1), yend = max(y2)), :\n",
      "\"\u001b[1m\u001b[22mAll aesthetics have length 1, but the data has 2 rows.\n",
      "\u001b[36mi\u001b[39m Please consider using `annotate()` or provide this layer with data containing\n",
      "  a single row.\"\n",
      "Warning message in geom_segment(aes(x = 0, y = max(y2), xend = max(x1), yend = max(y2)), :\n",
      "\"\u001b[1m\u001b[22mAll aesthetics have length 1, but the data has 2 rows.\n",
      "\u001b[36mi\u001b[39m Please consider using `annotate()` or provide this layer with data containing\n",
      "  a single row.\"\n"
     ]
    },
    {
     "name": "stdout",
     "output_type": "stream",
     "text": [
      "[1] \"CD14\"\n"
     ]
    },
    {
     "name": "stderr",
     "output_type": "stream",
     "text": [
      "Warning message in geom_segment(aes(x = 0, y = max(y2), xend = max(x1), yend = max(y2)), :\n",
      "\"\u001b[1m\u001b[22mAll aesthetics have length 1, but the data has 2 rows.\n",
      "\u001b[36mi\u001b[39m Please consider using `annotate()` or provide this layer with data containing\n",
      "  a single row.\"\n",
      "Warning message in geom_segment(aes(x = 0, y = max(y2), xend = max(x1), yend = max(y2)), :\n",
      "\"\u001b[1m\u001b[22mAll aesthetics have length 1, but the data has 2 rows.\n",
      "\u001b[36mi\u001b[39m Please consider using `annotate()` or provide this layer with data containing\n",
      "  a single row.\"\n",
      "Warning message in geom_segment(aes(x = 0, y = max(y2), xend = max(x1), yend = max(y2)), :\n",
      "\"\u001b[1m\u001b[22mAll aesthetics have length 1, but the data has 2 rows.\n",
      "\u001b[36mi\u001b[39m Please consider using `annotate()` or provide this layer with data containing\n",
      "  a single row.\"\n",
      "Warning message in geom_segment(aes(x = 0, y = max(y2), xend = max(x1), yend = max(y2)), :\n",
      "\"\u001b[1m\u001b[22mAll aesthetics have length 1, but the data has 2 rows.\n",
      "\u001b[36mi\u001b[39m Please consider using `annotate()` or provide this layer with data containing\n",
      "  a single row.\"\n"
     ]
    },
    {
     "name": "stdout",
     "output_type": "stream",
     "text": [
      "[1] \"FOXP3\"\n"
     ]
    },
    {
     "name": "stderr",
     "output_type": "stream",
     "text": [
      "Warning message in geom_segment(aes(x = 0, y = max(y2), xend = max(x1), yend = max(y2)), :\n",
      "\"\u001b[1m\u001b[22mAll aesthetics have length 1, but the data has 2 rows.\n",
      "\u001b[36mi\u001b[39m Please consider using `annotate()` or provide this layer with data containing\n",
      "  a single row.\"\n",
      "Warning message in geom_segment(aes(x = 0, y = max(y2), xend = max(x1), yend = max(y2)), :\n",
      "\"\u001b[1m\u001b[22mAll aesthetics have length 1, but the data has 2 rows.\n",
      "\u001b[36mi\u001b[39m Please consider using `annotate()` or provide this layer with data containing\n",
      "  a single row.\"\n",
      "Warning message in geom_segment(aes(x = 0, y = max(y2), xend = max(x1), yend = max(y2)), :\n",
      "\"\u001b[1m\u001b[22mAll aesthetics have length 1, but the data has 2 rows.\n",
      "\u001b[36mi\u001b[39m Please consider using `annotate()` or provide this layer with data containing\n",
      "  a single row.\"\n",
      "Warning message in geom_segment(aes(x = 0, y = max(y2), xend = max(x1), yend = max(y2)), :\n",
      "\"\u001b[1m\u001b[22mAll aesthetics have length 1, but the data has 2 rows.\n",
      "\u001b[36mi\u001b[39m Please consider using `annotate()` or provide this layer with data containing\n",
      "  a single row.\"\n"
     ]
    },
    {
     "name": "stdout",
     "output_type": "stream",
     "text": [
      "[1] \"CD69\"\n"
     ]
    },
    {
     "name": "stderr",
     "output_type": "stream",
     "text": [
      "Warning message in geom_segment(aes(x = 0, y = max(y2), xend = max(x1), yend = max(y2)), :\n",
      "\"\u001b[1m\u001b[22mAll aesthetics have length 1, but the data has 2 rows.\n",
      "\u001b[36mi\u001b[39m Please consider using `annotate()` or provide this layer with data containing\n",
      "  a single row.\"\n",
      "Warning message in geom_segment(aes(x = 0, y = max(y2), xend = max(x1), yend = max(y2)), :\n",
      "\"\u001b[1m\u001b[22mAll aesthetics have length 1, but the data has 2 rows.\n",
      "\u001b[36mi\u001b[39m Please consider using `annotate()` or provide this layer with data containing\n",
      "  a single row.\"\n",
      "Warning message in geom_segment(aes(x = 0, y = max(y2), xend = max(x1), yend = max(y2)), :\n",
      "\"\u001b[1m\u001b[22mAll aesthetics have length 1, but the data has 2 rows.\n",
      "\u001b[36mi\u001b[39m Please consider using `annotate()` or provide this layer with data containing\n",
      "  a single row.\"\n",
      "Warning message in geom_segment(aes(x = 0, y = max(y2), xend = max(x1), yend = max(y2)), :\n",
      "\"\u001b[1m\u001b[22mAll aesthetics have length 1, but the data has 2 rows.\n",
      "\u001b[36mi\u001b[39m Please consider using `annotate()` or provide this layer with data containing\n",
      "  a single row.\"\n"
     ]
    },
    {
     "name": "stdout",
     "output_type": "stream",
     "text": [
      "[1] \"CD4\"\n"
     ]
    },
    {
     "name": "stderr",
     "output_type": "stream",
     "text": [
      "Warning message in geom_segment(aes(x = 0, y = max(y2), xend = max(x1), yend = max(y2)), :\n",
      "\"\u001b[1m\u001b[22mAll aesthetics have length 1, but the data has 2 rows.\n",
      "\u001b[36mi\u001b[39m Please consider using `annotate()` or provide this layer with data containing\n",
      "  a single row.\"\n",
      "Warning message in geom_segment(aes(x = 0, y = max(y2), xend = max(x1), yend = max(y2)), :\n",
      "\"\u001b[1m\u001b[22mAll aesthetics have length 1, but the data has 2 rows.\n",
      "\u001b[36mi\u001b[39m Please consider using `annotate()` or provide this layer with data containing\n",
      "  a single row.\"\n",
      "Warning message in geom_segment(aes(x = 0, y = max(y2), xend = max(x1), yend = max(y2)), :\n",
      "\"\u001b[1m\u001b[22mAll aesthetics have length 1, but the data has 2 rows.\n",
      "\u001b[36mi\u001b[39m Please consider using `annotate()` or provide this layer with data containing\n",
      "  a single row.\"\n",
      "Warning message in geom_segment(aes(x = 0, y = max(y2), xend = max(x1), yend = max(y2)), :\n",
      "\"\u001b[1m\u001b[22mAll aesthetics have length 1, but the data has 2 rows.\n",
      "\u001b[36mi\u001b[39m Please consider using `annotate()` or provide this layer with data containing\n",
      "  a single row.\"\n"
     ]
    },
    {
     "name": "stdout",
     "output_type": "stream",
     "text": [
      "[1] \"CD8A\"\n"
     ]
    },
    {
     "name": "stderr",
     "output_type": "stream",
     "text": [
      "Warning message in geom_segment(aes(x = 0, y = max(y2), xend = max(x1), yend = max(y2)), :\n",
      "\"\u001b[1m\u001b[22mAll aesthetics have length 1, but the data has 2 rows.\n",
      "\u001b[36mi\u001b[39m Please consider using `annotate()` or provide this layer with data containing\n",
      "  a single row.\"\n",
      "Warning message in geom_segment(aes(x = 0, y = max(y2), xend = max(x1), yend = max(y2)), :\n",
      "\"\u001b[1m\u001b[22mAll aesthetics have length 1, but the data has 2 rows.\n",
      "\u001b[36mi\u001b[39m Please consider using `annotate()` or provide this layer with data containing\n",
      "  a single row.\"\n",
      "Warning message in geom_segment(aes(x = 0, y = max(y2), xend = max(x1), yend = max(y2)), :\n",
      "\"\u001b[1m\u001b[22mAll aesthetics have length 1, but the data has 2 rows.\n",
      "\u001b[36mi\u001b[39m Please consider using `annotate()` or provide this layer with data containing\n",
      "  a single row.\"\n",
      "Warning message in geom_segment(aes(x = 0, y = max(y2), xend = max(x1), yend = max(y2)), :\n",
      "\"\u001b[1m\u001b[22mAll aesthetics have length 1, but the data has 2 rows.\n",
      "\u001b[36mi\u001b[39m Please consider using `annotate()` or provide this layer with data containing\n",
      "  a single row.\"\n"
     ]
    },
    {
     "name": "stdout",
     "output_type": "stream",
     "text": [
      "[1] \"COL1A1\"\n"
     ]
    },
    {
     "name": "stderr",
     "output_type": "stream",
     "text": [
      "Warning message in geom_segment(aes(x = 0, y = max(y2), xend = max(x1), yend = max(y2)), :\n",
      "\"\u001b[1m\u001b[22mAll aesthetics have length 1, but the data has 2 rows.\n",
      "\u001b[36mi\u001b[39m Please consider using `annotate()` or provide this layer with data containing\n",
      "  a single row.\"\n",
      "Warning message in geom_segment(aes(x = 0, y = max(y2), xend = max(x1), yend = max(y2)), :\n",
      "\"\u001b[1m\u001b[22mAll aesthetics have length 1, but the data has 2 rows.\n",
      "\u001b[36mi\u001b[39m Please consider using `annotate()` or provide this layer with data containing\n",
      "  a single row.\"\n",
      "Warning message in geom_segment(aes(x = 0, y = max(y2), xend = max(x1), yend = max(y2)), :\n",
      "\"\u001b[1m\u001b[22mAll aesthetics have length 1, but the data has 2 rows.\n",
      "\u001b[36mi\u001b[39m Please consider using `annotate()` or provide this layer with data containing\n",
      "  a single row.\"\n",
      "Warning message in geom_segment(aes(x = 0, y = max(y2), xend = max(x1), yend = max(y2)), :\n",
      "\"\u001b[1m\u001b[22mAll aesthetics have length 1, but the data has 2 rows.\n",
      "\u001b[36mi\u001b[39m Please consider using `annotate()` or provide this layer with data containing\n",
      "  a single row.\"\n"
     ]
    },
    {
     "name": "stdout",
     "output_type": "stream",
     "text": [
      "[1] \"CXCL13\"\n"
     ]
    },
    {
     "name": "stderr",
     "output_type": "stream",
     "text": [
      "Warning message in geom_segment(aes(x = 0, y = max(y2), xend = max(x1), yend = max(y2)), :\n",
      "\"\u001b[1m\u001b[22mAll aesthetics have length 1, but the data has 2 rows.\n",
      "\u001b[36mi\u001b[39m Please consider using `annotate()` or provide this layer with data containing\n",
      "  a single row.\"\n",
      "Warning message in geom_segment(aes(x = 0, y = max(y2), xend = max(x1), yend = max(y2)), :\n",
      "\"\u001b[1m\u001b[22mAll aesthetics have length 1, but the data has 2 rows.\n",
      "\u001b[36mi\u001b[39m Please consider using `annotate()` or provide this layer with data containing\n",
      "  a single row.\"\n",
      "Warning message in geom_segment(aes(x = 0, y = max(y2), xend = max(x1), yend = max(y2)), :\n",
      "\"\u001b[1m\u001b[22mAll aesthetics have length 1, but the data has 2 rows.\n",
      "\u001b[36mi\u001b[39m Please consider using `annotate()` or provide this layer with data containing\n",
      "  a single row.\"\n",
      "Warning message in geom_segment(aes(x = 0, y = max(y2), xend = max(x1), yend = max(y2)), :\n",
      "\"\u001b[1m\u001b[22mAll aesthetics have length 1, but the data has 2 rows.\n",
      "\u001b[36mi\u001b[39m Please consider using `annotate()` or provide this layer with data containing\n",
      "  a single row.\"\n"
     ]
    },
    {
     "name": "stdout",
     "output_type": "stream",
     "text": [
      "[1] \"PECAM1\"\n"
     ]
    },
    {
     "name": "stderr",
     "output_type": "stream",
     "text": [
      "Warning message in geom_segment(aes(x = 0, y = max(y2), xend = max(x1), yend = max(y2)), :\n",
      "\"\u001b[1m\u001b[22mAll aesthetics have length 1, but the data has 2 rows.\n",
      "\u001b[36mi\u001b[39m Please consider using `annotate()` or provide this layer with data containing\n",
      "  a single row.\"\n",
      "Warning message in geom_segment(aes(x = 0, y = max(y2), xend = max(x1), yend = max(y2)), :\n",
      "\"\u001b[1m\u001b[22mAll aesthetics have length 1, but the data has 2 rows.\n",
      "\u001b[36mi\u001b[39m Please consider using `annotate()` or provide this layer with data containing\n",
      "  a single row.\"\n",
      "Warning message in geom_segment(aes(x = 0, y = max(y2), xend = max(x1), yend = max(y2)), :\n",
      "\"\u001b[1m\u001b[22mAll aesthetics have length 1, but the data has 2 rows.\n",
      "\u001b[36mi\u001b[39m Please consider using `annotate()` or provide this layer with data containing\n",
      "  a single row.\"\n",
      "Warning message in geom_segment(aes(x = 0, y = max(y2), xend = max(x1), yend = max(y2)), :\n",
      "\"\u001b[1m\u001b[22mAll aesthetics have length 1, but the data has 2 rows.\n",
      "\u001b[36mi\u001b[39m Please consider using `annotate()` or provide this layer with data containing\n",
      "  a single row.\"\n"
     ]
    },
    {
     "name": "stdout",
     "output_type": "stream",
     "text": [
      "[1] \"HAVCR2\"\n"
     ]
    },
    {
     "name": "stderr",
     "output_type": "stream",
     "text": [
      "Warning message in geom_segment(aes(x = 0, y = max(y2), xend = max(x1), yend = max(y2)), :\n",
      "\"\u001b[1m\u001b[22mAll aesthetics have length 1, but the data has 2 rows.\n",
      "\u001b[36mi\u001b[39m Please consider using `annotate()` or provide this layer with data containing\n",
      "  a single row.\"\n",
      "Warning message in geom_segment(aes(x = 0, y = max(y2), xend = max(x1), yend = max(y2)), :\n",
      "\"\u001b[1m\u001b[22mAll aesthetics have length 1, but the data has 2 rows.\n",
      "\u001b[36mi\u001b[39m Please consider using `annotate()` or provide this layer with data containing\n",
      "  a single row.\"\n",
      "Warning message in geom_segment(aes(x = 0, y = max(y2), xend = max(x1), yend = max(y2)), :\n",
      "\"\u001b[1m\u001b[22mAll aesthetics have length 1, but the data has 2 rows.\n",
      "\u001b[36mi\u001b[39m Please consider using `annotate()` or provide this layer with data containing\n",
      "  a single row.\"\n",
      "Warning message in geom_segment(aes(x = 0, y = max(y2), xend = max(x1), yend = max(y2)), :\n",
      "\"\u001b[1m\u001b[22mAll aesthetics have length 1, but the data has 2 rows.\n",
      "\u001b[36mi\u001b[39m Please consider using `annotate()` or provide this layer with data containing\n",
      "  a single row.\"\n"
     ]
    },
    {
     "name": "stdout",
     "output_type": "stream",
     "text": [
      "[1] \"PDPN\"\n"
     ]
    },
    {
     "name": "stderr",
     "output_type": "stream",
     "text": [
      "Warning message in geom_segment(aes(x = 0, y = max(y2), xend = max(x1), yend = max(y2)), :\n",
      "\"\u001b[1m\u001b[22mAll aesthetics have length 1, but the data has 2 rows.\n",
      "\u001b[36mi\u001b[39m Please consider using `annotate()` or provide this layer with data containing\n",
      "  a single row.\"\n",
      "Warning message in geom_segment(aes(x = 0, y = max(y2), xend = max(x1), yend = max(y2)), :\n",
      "\"\u001b[1m\u001b[22mAll aesthetics have length 1, but the data has 2 rows.\n",
      "\u001b[36mi\u001b[39m Please consider using `annotate()` or provide this layer with data containing\n",
      "  a single row.\"\n",
      "Warning message in geom_segment(aes(x = 0, y = max(y2), xend = max(x1), yend = max(y2)), :\n",
      "\"\u001b[1m\u001b[22mAll aesthetics have length 1, but the data has 2 rows.\n",
      "\u001b[36mi\u001b[39m Please consider using `annotate()` or provide this layer with data containing\n",
      "  a single row.\"\n",
      "Warning message in geom_segment(aes(x = 0, y = max(y2), xend = max(x1), yend = max(y2)), :\n",
      "\"\u001b[1m\u001b[22mAll aesthetics have length 1, but the data has 2 rows.\n",
      "\u001b[36mi\u001b[39m Please consider using `annotate()` or provide this layer with data containing\n",
      "  a single row.\"\n"
     ]
    },
    {
     "name": "stdout",
     "output_type": "stream",
     "text": [
      "[1] \"ITGAE\"\n"
     ]
    },
    {
     "name": "stderr",
     "output_type": "stream",
     "text": [
      "Warning message in geom_segment(aes(x = 0, y = max(y2), xend = max(x1), yend = max(y2)), :\n",
      "\"\u001b[1m\u001b[22mAll aesthetics have length 1, but the data has 2 rows.\n",
      "\u001b[36mi\u001b[39m Please consider using `annotate()` or provide this layer with data containing\n",
      "  a single row.\"\n",
      "Warning message in geom_segment(aes(x = 0, y = max(y2), xend = max(x1), yend = max(y2)), :\n",
      "\"\u001b[1m\u001b[22mAll aesthetics have length 1, but the data has 2 rows.\n",
      "\u001b[36mi\u001b[39m Please consider using `annotate()` or provide this layer with data containing\n",
      "  a single row.\"\n",
      "Warning message in geom_segment(aes(x = 0, y = max(y2), xend = max(x1), yend = max(y2)), :\n",
      "\"\u001b[1m\u001b[22mAll aesthetics have length 1, but the data has 2 rows.\n",
      "\u001b[36mi\u001b[39m Please consider using `annotate()` or provide this layer with data containing\n",
      "  a single row.\"\n",
      "Warning message in geom_segment(aes(x = 0, y = max(y2), xend = max(x1), yend = max(y2)), :\n",
      "\"\u001b[1m\u001b[22mAll aesthetics have length 1, but the data has 2 rows.\n",
      "\u001b[36mi\u001b[39m Please consider using `annotate()` or provide this layer with data containing\n",
      "  a single row.\"\n"
     ]
    },
    {
     "name": "stdout",
     "output_type": "stream",
     "text": [
      "[1] \"CD276\"\n"
     ]
    },
    {
     "name": "stderr",
     "output_type": "stream",
     "text": [
      "Warning message in geom_segment(aes(x = 0, y = max(y2), xend = max(x1), yend = max(y2)), :\n",
      "\"\u001b[1m\u001b[22mAll aesthetics have length 1, but the data has 2 rows.\n",
      "\u001b[36mi\u001b[39m Please consider using `annotate()` or provide this layer with data containing\n",
      "  a single row.\"\n",
      "Warning message in geom_segment(aes(x = 0, y = max(y2), xend = max(x1), yend = max(y2)), :\n",
      "\"\u001b[1m\u001b[22mAll aesthetics have length 1, but the data has 2 rows.\n",
      "\u001b[36mi\u001b[39m Please consider using `annotate()` or provide this layer with data containing\n",
      "  a single row.\"\n",
      "Warning message in geom_segment(aes(x = 0, y = max(y2), xend = max(x1), yend = max(y2)), :\n",
      "\"\u001b[1m\u001b[22mAll aesthetics have length 1, but the data has 2 rows.\n",
      "\u001b[36mi\u001b[39m Please consider using `annotate()` or provide this layer with data containing\n",
      "  a single row.\"\n",
      "Warning message in geom_segment(aes(x = 0, y = max(y2), xend = max(x1), yend = max(y2)), :\n",
      "\"\u001b[1m\u001b[22mAll aesthetics have length 1, but the data has 2 rows.\n",
      "\u001b[36mi\u001b[39m Please consider using `annotate()` or provide this layer with data containing\n",
      "  a single row.\"\n"
     ]
    },
    {
     "name": "stdout",
     "output_type": "stream",
     "text": [
      "[1] \"TFRC\"\n"
     ]
    },
    {
     "name": "stderr",
     "output_type": "stream",
     "text": [
      "Warning message in geom_segment(aes(x = 0, y = max(y2), xend = max(x1), yend = max(y2)), :\n",
      "\"\u001b[1m\u001b[22mAll aesthetics have length 1, but the data has 2 rows.\n",
      "\u001b[36mi\u001b[39m Please consider using `annotate()` or provide this layer with data containing\n",
      "  a single row.\"\n",
      "Warning message in geom_segment(aes(x = 0, y = max(y2), xend = max(x1), yend = max(y2)), :\n",
      "\"\u001b[1m\u001b[22mAll aesthetics have length 1, but the data has 2 rows.\n",
      "\u001b[36mi\u001b[39m Please consider using `annotate()` or provide this layer with data containing\n",
      "  a single row.\"\n",
      "Warning message in geom_segment(aes(x = 0, y = max(y2), xend = max(x1), yend = max(y2)), :\n",
      "\"\u001b[1m\u001b[22mAll aesthetics have length 1, but the data has 2 rows.\n",
      "\u001b[36mi\u001b[39m Please consider using `annotate()` or provide this layer with data containing\n",
      "  a single row.\"\n",
      "Warning message in geom_segment(aes(x = 0, y = max(y2), xend = max(x1), yend = max(y2)), :\n",
      "\"\u001b[1m\u001b[22mAll aesthetics have length 1, but the data has 2 rows.\n",
      "\u001b[36mi\u001b[39m Please consider using `annotate()` or provide this layer with data containing\n",
      "  a single row.\"\n"
     ]
    },
    {
     "name": "stdout",
     "output_type": "stream",
     "text": [
      "[1] \"CXCR4\"\n"
     ]
    },
    {
     "name": "stderr",
     "output_type": "stream",
     "text": [
      "Warning message in geom_segment(aes(x = 0, y = max(y2), xend = max(x1), yend = max(y2)), :\n",
      "\"\u001b[1m\u001b[22mAll aesthetics have length 1, but the data has 2 rows.\n",
      "\u001b[36mi\u001b[39m Please consider using `annotate()` or provide this layer with data containing\n",
      "  a single row.\"\n",
      "Warning message in geom_segment(aes(x = 0, y = max(y2), xend = max(x1), yend = max(y2)), :\n",
      "\"\u001b[1m\u001b[22mAll aesthetics have length 1, but the data has 2 rows.\n",
      "\u001b[36mi\u001b[39m Please consider using `annotate()` or provide this layer with data containing\n",
      "  a single row.\"\n",
      "Warning message in geom_segment(aes(x = 0, y = max(y2), xend = max(x1), yend = max(y2)), :\n",
      "\"\u001b[1m\u001b[22mAll aesthetics have length 1, but the data has 2 rows.\n",
      "\u001b[36mi\u001b[39m Please consider using `annotate()` or provide this layer with data containing\n",
      "  a single row.\"\n",
      "Warning message in geom_segment(aes(x = 0, y = max(y2), xend = max(x1), yend = max(y2)), :\n",
      "\"\u001b[1m\u001b[22mAll aesthetics have length 1, but the data has 2 rows.\n",
      "\u001b[36mi\u001b[39m Please consider using `annotate()` or provide this layer with data containing\n",
      "  a single row.\"\n"
     ]
    },
    {
     "name": "stdout",
     "output_type": "stream",
     "text": [
      "[1] \"CD274\"\n"
     ]
    },
    {
     "name": "stderr",
     "output_type": "stream",
     "text": [
      "Warning message in geom_segment(aes(x = 0, y = max(y2), xend = max(x1), yend = max(y2)), :\n",
      "\"\u001b[1m\u001b[22mAll aesthetics have length 1, but the data has 2 rows.\n",
      "\u001b[36mi\u001b[39m Please consider using `annotate()` or provide this layer with data containing\n",
      "  a single row.\"\n",
      "Warning message in geom_segment(aes(x = 0, y = max(y2), xend = max(x1), yend = max(y2)), :\n",
      "\"\u001b[1m\u001b[22mAll aesthetics have length 1, but the data has 2 rows.\n",
      "\u001b[36mi\u001b[39m Please consider using `annotate()` or provide this layer with data containing\n",
      "  a single row.\"\n",
      "Warning message in geom_segment(aes(x = 0, y = max(y2), xend = max(x1), yend = max(y2)), :\n",
      "\"\u001b[1m\u001b[22mAll aesthetics have length 1, but the data has 2 rows.\n",
      "\u001b[36mi\u001b[39m Please consider using `annotate()` or provide this layer with data containing\n",
      "  a single row.\"\n",
      "Warning message in geom_segment(aes(x = 0, y = max(y2), xend = max(x1), yend = max(y2)), :\n",
      "\"\u001b[1m\u001b[22mAll aesthetics have length 1, but the data has 2 rows.\n",
      "\u001b[36mi\u001b[39m Please consider using `annotate()` or provide this layer with data containing\n",
      "  a single row.\"\n"
     ]
    },
    {
     "name": "stdout",
     "output_type": "stream",
     "text": [
      "[1] \"CCR7\"\n"
     ]
    },
    {
     "name": "stderr",
     "output_type": "stream",
     "text": [
      "Warning message in geom_segment(aes(x = 0, y = max(y2), xend = max(x1), yend = max(y2)), :\n",
      "\"\u001b[1m\u001b[22mAll aesthetics have length 1, but the data has 2 rows.\n",
      "\u001b[36mi\u001b[39m Please consider using `annotate()` or provide this layer with data containing\n",
      "  a single row.\"\n",
      "Warning message in geom_segment(aes(x = 0, y = max(y2), xend = max(x1), yend = max(y2)), :\n",
      "\"\u001b[1m\u001b[22mAll aesthetics have length 1, but the data has 2 rows.\n",
      "\u001b[36mi\u001b[39m Please consider using `annotate()` or provide this layer with data containing\n",
      "  a single row.\"\n",
      "Warning message in geom_segment(aes(x = 0, y = max(y2), xend = max(x1), yend = max(y2)), :\n",
      "\"\u001b[1m\u001b[22mAll aesthetics have length 1, but the data has 2 rows.\n",
      "\u001b[36mi\u001b[39m Please consider using `annotate()` or provide this layer with data containing\n",
      "  a single row.\"\n",
      "Warning message in geom_segment(aes(x = 0, y = max(y2), xend = max(x1), yend = max(y2)), :\n",
      "\"\u001b[1m\u001b[22mAll aesthetics have length 1, but the data has 2 rows.\n",
      "\u001b[36mi\u001b[39m Please consider using `annotate()` or provide this layer with data containing\n",
      "  a single row.\"\n"
     ]
    },
    {
     "name": "stdout",
     "output_type": "stream",
     "text": [
      "[1] \"CD68\"\n"
     ]
    },
    {
     "name": "stderr",
     "output_type": "stream",
     "text": [
      "Warning message in geom_segment(aes(x = 0, y = max(y2), xend = max(x1), yend = max(y2)), :\n",
      "\"\u001b[1m\u001b[22mAll aesthetics have length 1, but the data has 2 rows.\n",
      "\u001b[36mi\u001b[39m Please consider using `annotate()` or provide this layer with data containing\n",
      "  a single row.\"\n",
      "Warning message in geom_segment(aes(x = 0, y = max(y2), xend = max(x1), yend = max(y2)), :\n",
      "\"\u001b[1m\u001b[22mAll aesthetics have length 1, but the data has 2 rows.\n",
      "\u001b[36mi\u001b[39m Please consider using `annotate()` or provide this layer with data containing\n",
      "  a single row.\"\n",
      "Warning message in geom_segment(aes(x = 0, y = max(y2), xend = max(x1), yend = max(y2)), :\n",
      "\"\u001b[1m\u001b[22mAll aesthetics have length 1, but the data has 2 rows.\n",
      "\u001b[36mi\u001b[39m Please consider using `annotate()` or provide this layer with data containing\n",
      "  a single row.\"\n",
      "Warning message in geom_segment(aes(x = 0, y = max(y2), xend = max(x1), yend = max(y2)), :\n",
      "\"\u001b[1m\u001b[22mAll aesthetics have length 1, but the data has 2 rows.\n",
      "\u001b[36mi\u001b[39m Please consider using `annotate()` or provide this layer with data containing\n",
      "  a single row.\"\n"
     ]
    },
    {
     "name": "stdout",
     "output_type": "stream",
     "text": [
      "[1] \"ITGAM\"\n"
     ]
    },
    {
     "name": "stderr",
     "output_type": "stream",
     "text": [
      "Warning message in geom_segment(aes(x = 0, y = max(y2), xend = max(x1), yend = max(y2)), :\n",
      "\"\u001b[1m\u001b[22mAll aesthetics have length 1, but the data has 2 rows.\n",
      "\u001b[36mi\u001b[39m Please consider using `annotate()` or provide this layer with data containing\n",
      "  a single row.\"\n",
      "Warning message in geom_segment(aes(x = 0, y = max(y2), xend = max(x1), yend = max(y2)), :\n",
      "\"\u001b[1m\u001b[22mAll aesthetics have length 1, but the data has 2 rows.\n",
      "\u001b[36mi\u001b[39m Please consider using `annotate()` or provide this layer with data containing\n",
      "  a single row.\"\n",
      "Warning message in geom_segment(aes(x = 0, y = max(y2), xend = max(x1), yend = max(y2)), :\n",
      "\"\u001b[1m\u001b[22mAll aesthetics have length 1, but the data has 2 rows.\n",
      "\u001b[36mi\u001b[39m Please consider using `annotate()` or provide this layer with data containing\n",
      "  a single row.\"\n",
      "Warning message in geom_segment(aes(x = 0, y = max(y2), xend = max(x1), yend = max(y2)), :\n",
      "\"\u001b[1m\u001b[22mAll aesthetics have length 1, but the data has 2 rows.\n",
      "\u001b[36mi\u001b[39m Please consider using `annotate()` or provide this layer with data containing\n",
      "  a single row.\"\n"
     ]
    },
    {
     "name": "stdout",
     "output_type": "stream",
     "text": [
      "[1] \"MS4A1\"\n"
     ]
    },
    {
     "name": "stderr",
     "output_type": "stream",
     "text": [
      "Warning message in geom_segment(aes(x = 0, y = max(y2), xend = max(x1), yend = max(y2)), :\n",
      "\"\u001b[1m\u001b[22mAll aesthetics have length 1, but the data has 2 rows.\n",
      "\u001b[36mi\u001b[39m Please consider using `annotate()` or provide this layer with data containing\n",
      "  a single row.\"\n",
      "Warning message in geom_segment(aes(x = 0, y = max(y2), xend = max(x1), yend = max(y2)), :\n",
      "\"\u001b[1m\u001b[22mAll aesthetics have length 1, but the data has 2 rows.\n",
      "\u001b[36mi\u001b[39m Please consider using `annotate()` or provide this layer with data containing\n",
      "  a single row.\"\n",
      "Warning message in geom_segment(aes(x = 0, y = max(y2), xend = max(x1), yend = max(y2)), :\n",
      "\"\u001b[1m\u001b[22mAll aesthetics have length 1, but the data has 2 rows.\n",
      "\u001b[36mi\u001b[39m Please consider using `annotate()` or provide this layer with data containing\n",
      "  a single row.\"\n",
      "Warning message in geom_segment(aes(x = 0, y = max(y2), xend = max(x1), yend = max(y2)), :\n",
      "\"\u001b[1m\u001b[22mAll aesthetics have length 1, but the data has 2 rows.\n",
      "\u001b[36mi\u001b[39m Please consider using `annotate()` or provide this layer with data containing\n",
      "  a single row.\"\n"
     ]
    },
    {
     "name": "stdout",
     "output_type": "stream",
     "text": [
      "[1] \"FOSB\"\n"
     ]
    },
    {
     "name": "stderr",
     "output_type": "stream",
     "text": [
      "Warning message in geom_segment(aes(x = 0, y = max(y2), xend = max(x1), yend = max(y2)), :\n",
      "\"\u001b[1m\u001b[22mAll aesthetics have length 1, but the data has 2 rows.\n",
      "\u001b[36mi\u001b[39m Please consider using `annotate()` or provide this layer with data containing\n",
      "  a single row.\"\n",
      "Warning message in geom_segment(aes(x = 0, y = max(y2), xend = max(x1), yend = max(y2)), :\n",
      "\"\u001b[1m\u001b[22mAll aesthetics have length 1, but the data has 2 rows.\n",
      "\u001b[36mi\u001b[39m Please consider using `annotate()` or provide this layer with data containing\n",
      "  a single row.\"\n",
      "Warning message in geom_segment(aes(x = 0, y = max(y2), xend = max(x1), yend = max(y2)), :\n",
      "\"\u001b[1m\u001b[22mAll aesthetics have length 1, but the data has 2 rows.\n",
      "\u001b[36mi\u001b[39m Please consider using `annotate()` or provide this layer with data containing\n",
      "  a single row.\"\n",
      "Warning message in geom_segment(aes(x = 0, y = max(y2), xend = max(x1), yend = max(y2)), :\n",
      "\"\u001b[1m\u001b[22mAll aesthetics have length 1, but the data has 2 rows.\n",
      "\u001b[36mi\u001b[39m Please consider using `annotate()` or provide this layer with data containing\n",
      "  a single row.\"\n"
     ]
    },
    {
     "name": "stdout",
     "output_type": "stream",
     "text": [
      "[1] \"FAP\"\n"
     ]
    },
    {
     "name": "stderr",
     "output_type": "stream",
     "text": [
      "Warning message in geom_segment(aes(x = 0, y = max(y2), xend = max(x1), yend = max(y2)), :\n",
      "\"\u001b[1m\u001b[22mAll aesthetics have length 1, but the data has 2 rows.\n",
      "\u001b[36mi\u001b[39m Please consider using `annotate()` or provide this layer with data containing\n",
      "  a single row.\"\n",
      "Warning message in geom_segment(aes(x = 0, y = max(y2), xend = max(x1), yend = max(y2)), :\n",
      "\"\u001b[1m\u001b[22mAll aesthetics have length 1, but the data has 2 rows.\n",
      "\u001b[36mi\u001b[39m Please consider using `annotate()` or provide this layer with data containing\n",
      "  a single row.\"\n",
      "Warning message in geom_segment(aes(x = 0, y = max(y2), xend = max(x1), yend = max(y2)), :\n",
      "\"\u001b[1m\u001b[22mAll aesthetics have length 1, but the data has 2 rows.\n",
      "\u001b[36mi\u001b[39m Please consider using `annotate()` or provide this layer with data containing\n",
      "  a single row.\"\n",
      "Warning message in geom_segment(aes(x = 0, y = max(y2), xend = max(x1), yend = max(y2)), :\n",
      "\"\u001b[1m\u001b[22mAll aesthetics have length 1, but the data has 2 rows.\n",
      "\u001b[36mi\u001b[39m Please consider using `annotate()` or provide this layer with data containing\n",
      "  a single row.\"\n"
     ]
    },
    {
     "name": "stdout",
     "output_type": "stream",
     "text": [
      "[1] \"GZMB\"\n"
     ]
    },
    {
     "name": "stderr",
     "output_type": "stream",
     "text": [
      "Warning message in geom_segment(aes(x = 0, y = max(y2), xend = max(x1), yend = max(y2)), :\n",
      "\"\u001b[1m\u001b[22mAll aesthetics have length 1, but the data has 2 rows.\n",
      "\u001b[36mi\u001b[39m Please consider using `annotate()` or provide this layer with data containing\n",
      "  a single row.\"\n",
      "Warning message in geom_segment(aes(x = 0, y = max(y2), xend = max(x1), yend = max(y2)), :\n",
      "\"\u001b[1m\u001b[22mAll aesthetics have length 1, but the data has 2 rows.\n",
      "\u001b[36mi\u001b[39m Please consider using `annotate()` or provide this layer with data containing\n",
      "  a single row.\"\n",
      "Warning message in geom_segment(aes(x = 0, y = max(y2), xend = max(x1), yend = max(y2)), :\n",
      "\"\u001b[1m\u001b[22mAll aesthetics have length 1, but the data has 2 rows.\n",
      "\u001b[36mi\u001b[39m Please consider using `annotate()` or provide this layer with data containing\n",
      "  a single row.\"\n",
      "Warning message in geom_segment(aes(x = 0, y = max(y2), xend = max(x1), yend = max(y2)), :\n",
      "\"\u001b[1m\u001b[22mAll aesthetics have length 1, but the data has 2 rows.\n",
      "\u001b[36mi\u001b[39m Please consider using `annotate()` or provide this layer with data containing\n",
      "  a single row.\"\n"
     ]
    },
    {
     "name": "stdout",
     "output_type": "stream",
     "text": [
      "[1] \"PDCD1\"\n"
     ]
    },
    {
     "name": "stderr",
     "output_type": "stream",
     "text": [
      "Warning message in geom_segment(aes(x = 0, y = max(y2), xend = max(x1), yend = max(y2)), :\n",
      "\"\u001b[1m\u001b[22mAll aesthetics have length 1, but the data has 2 rows.\n",
      "\u001b[36mi\u001b[39m Please consider using `annotate()` or provide this layer with data containing\n",
      "  a single row.\"\n",
      "Warning message in geom_segment(aes(x = 0, y = max(y2), xend = max(x1), yend = max(y2)), :\n",
      "\"\u001b[1m\u001b[22mAll aesthetics have length 1, but the data has 2 rows.\n",
      "\u001b[36mi\u001b[39m Please consider using `annotate()` or provide this layer with data containing\n",
      "  a single row.\"\n",
      "Warning message in geom_segment(aes(x = 0, y = max(y2), xend = max(x1), yend = max(y2)), :\n",
      "\"\u001b[1m\u001b[22mAll aesthetics have length 1, but the data has 2 rows.\n",
      "\u001b[36mi\u001b[39m Please consider using `annotate()` or provide this layer with data containing\n",
      "  a single row.\"\n",
      "Warning message in geom_segment(aes(x = 0, y = max(y2), xend = max(x1), yend = max(y2)), :\n",
      "\"\u001b[1m\u001b[22mAll aesthetics have length 1, but the data has 2 rows.\n",
      "\u001b[36mi\u001b[39m Please consider using `annotate()` or provide this layer with data containing\n",
      "  a single row.\"\n"
     ]
    },
    {
     "name": "stdout",
     "output_type": "stream",
     "text": [
      "[1] \"MKI67\"\n"
     ]
    },
    {
     "name": "stderr",
     "output_type": "stream",
     "text": [
      "Warning message in geom_segment(aes(x = 0, y = max(y2), xend = max(x1), yend = max(y2)), :\n",
      "\"\u001b[1m\u001b[22mAll aesthetics have length 1, but the data has 2 rows.\n",
      "\u001b[36mi\u001b[39m Please consider using `annotate()` or provide this layer with data containing\n",
      "  a single row.\"\n",
      "Warning message in geom_segment(aes(x = 0, y = max(y2), xend = max(x1), yend = max(y2)), :\n",
      "\"\u001b[1m\u001b[22mAll aesthetics have length 1, but the data has 2 rows.\n",
      "\u001b[36mi\u001b[39m Please consider using `annotate()` or provide this layer with data containing\n",
      "  a single row.\"\n",
      "Warning message in geom_segment(aes(x = 0, y = max(y2), xend = max(x1), yend = max(y2)), :\n",
      "\"\u001b[1m\u001b[22mAll aesthetics have length 1, but the data has 2 rows.\n",
      "\u001b[36mi\u001b[39m Please consider using `annotate()` or provide this layer with data containing\n",
      "  a single row.\"\n",
      "Warning message in geom_segment(aes(x = 0, y = max(y2), xend = max(x1), yend = max(y2)), :\n",
      "\"\u001b[1m\u001b[22mAll aesthetics have length 1, but the data has 2 rows.\n",
      "\u001b[36mi\u001b[39m Please consider using `annotate()` or provide this layer with data containing\n",
      "  a single row.\"\n"
     ]
    },
    {
     "name": "stdout",
     "output_type": "stream",
     "text": [
      "[1] \"GATA3\"\n"
     ]
    },
    {
     "name": "stderr",
     "output_type": "stream",
     "text": [
      "Warning message in geom_segment(aes(x = 0, y = max(y2), xend = max(x1), yend = max(y2)), :\n",
      "\"\u001b[1m\u001b[22mAll aesthetics have length 1, but the data has 2 rows.\n",
      "\u001b[36mi\u001b[39m Please consider using `annotate()` or provide this layer with data containing\n",
      "  a single row.\"\n",
      "Warning message in geom_segment(aes(x = 0, y = max(y2), xend = max(x1), yend = max(y2)), :\n",
      "\"\u001b[1m\u001b[22mAll aesthetics have length 1, but the data has 2 rows.\n",
      "\u001b[36mi\u001b[39m Please consider using `annotate()` or provide this layer with data containing\n",
      "  a single row.\"\n",
      "Warning message in geom_segment(aes(x = 0, y = max(y2), xend = max(x1), yend = max(y2)), :\n",
      "\"\u001b[1m\u001b[22mAll aesthetics have length 1, but the data has 2 rows.\n",
      "\u001b[36mi\u001b[39m Please consider using `annotate()` or provide this layer with data containing\n",
      "  a single row.\"\n",
      "Warning message in geom_segment(aes(x = 0, y = max(y2), xend = max(x1), yend = max(y2)), :\n",
      "\"\u001b[1m\u001b[22mAll aesthetics have length 1, but the data has 2 rows.\n",
      "\u001b[36mi\u001b[39m Please consider using `annotate()` or provide this layer with data containing\n",
      "  a single row.\"\n"
     ]
    },
    {
     "name": "stdout",
     "output_type": "stream",
     "text": [
      "[1] \"PTPRC\"\n"
     ]
    },
    {
     "name": "stderr",
     "output_type": "stream",
     "text": [
      "Warning message in geom_segment(aes(x = 0, y = max(y2), xend = max(x1), yend = max(y2)), :\n",
      "\"\u001b[1m\u001b[22mAll aesthetics have length 1, but the data has 2 rows.\n",
      "\u001b[36mi\u001b[39m Please consider using `annotate()` or provide this layer with data containing\n",
      "  a single row.\"\n",
      "Warning message in geom_segment(aes(x = 0, y = max(y2), xend = max(x1), yend = max(y2)), :\n",
      "\"\u001b[1m\u001b[22mAll aesthetics have length 1, but the data has 2 rows.\n",
      "\u001b[36mi\u001b[39m Please consider using `annotate()` or provide this layer with data containing\n",
      "  a single row.\"\n",
      "Warning message in geom_segment(aes(x = 0, y = max(y2), xend = max(x1), yend = max(y2)), :\n",
      "\"\u001b[1m\u001b[22mAll aesthetics have length 1, but the data has 2 rows.\n",
      "\u001b[36mi\u001b[39m Please consider using `annotate()` or provide this layer with data containing\n",
      "  a single row.\"\n",
      "Warning message in geom_segment(aes(x = 0, y = max(y2), xend = max(x1), yend = max(y2)), :\n",
      "\"\u001b[1m\u001b[22mAll aesthetics have length 1, but the data has 2 rows.\n",
      "\u001b[36mi\u001b[39m Please consider using `annotate()` or provide this layer with data containing\n",
      "  a single row.\"\n"
     ]
    },
    {
     "name": "stdout",
     "output_type": "stream",
     "text": [
      "[1] \"CD3D\"\n"
     ]
    },
    {
     "name": "stderr",
     "output_type": "stream",
     "text": [
      "Warning message in geom_segment(aes(x = 0, y = max(y2), xend = max(x1), yend = max(y2)), :\n",
      "\"\u001b[1m\u001b[22mAll aesthetics have length 1, but the data has 2 rows.\n",
      "\u001b[36mi\u001b[39m Please consider using `annotate()` or provide this layer with data containing\n",
      "  a single row.\"\n",
      "Warning message in geom_segment(aes(x = 0, y = max(y2), xend = max(x1), yend = max(y2)), :\n",
      "\"\u001b[1m\u001b[22mAll aesthetics have length 1, but the data has 2 rows.\n",
      "\u001b[36mi\u001b[39m Please consider using `annotate()` or provide this layer with data containing\n",
      "  a single row.\"\n",
      "Warning message in geom_segment(aes(x = 0, y = max(y2), xend = max(x1), yend = max(y2)), :\n",
      "\"\u001b[1m\u001b[22mAll aesthetics have length 1, but the data has 2 rows.\n",
      "\u001b[36mi\u001b[39m Please consider using `annotate()` or provide this layer with data containing\n",
      "  a single row.\"\n",
      "Warning message in geom_segment(aes(x = 0, y = max(y2), xend = max(x1), yend = max(y2)), :\n",
      "\"\u001b[1m\u001b[22mAll aesthetics have length 1, but the data has 2 rows.\n",
      "\u001b[36mi\u001b[39m Please consider using `annotate()` or provide this layer with data containing\n",
      "  a single row.\"\n"
     ]
    },
    {
     "name": "stdout",
     "output_type": "stream",
     "text": [
      "[1] \"TNF\"\n"
     ]
    },
    {
     "name": "stderr",
     "output_type": "stream",
     "text": [
      "Warning message in geom_segment(aes(x = 0, y = max(y2), xend = max(x1), yend = max(y2)), :\n",
      "\"\u001b[1m\u001b[22mAll aesthetics have length 1, but the data has 2 rows.\n",
      "\u001b[36mi\u001b[39m Please consider using `annotate()` or provide this layer with data containing\n",
      "  a single row.\"\n",
      "Warning message in geom_segment(aes(x = 0, y = max(y2), xend = max(x1), yend = max(y2)), :\n",
      "\"\u001b[1m\u001b[22mAll aesthetics have length 1, but the data has 2 rows.\n",
      "\u001b[36mi\u001b[39m Please consider using `annotate()` or provide this layer with data containing\n",
      "  a single row.\"\n",
      "Warning message in geom_segment(aes(x = 0, y = max(y2), xend = max(x1), yend = max(y2)), :\n",
      "\"\u001b[1m\u001b[22mAll aesthetics have length 1, but the data has 2 rows.\n",
      "\u001b[36mi\u001b[39m Please consider using `annotate()` or provide this layer with data containing\n",
      "  a single row.\"\n",
      "Warning message in geom_segment(aes(x = 0, y = max(y2), xend = max(x1), yend = max(y2)), :\n",
      "\"\u001b[1m\u001b[22mAll aesthetics have length 1, but the data has 2 rows.\n",
      "\u001b[36mi\u001b[39m Please consider using `annotate()` or provide this layer with data containing\n",
      "  a single row.\"\n"
     ]
    },
    {
     "name": "stdout",
     "output_type": "stream",
     "text": [
      "[1] \"GPM6A\"\n"
     ]
    },
    {
     "name": "stderr",
     "output_type": "stream",
     "text": [
      "Warning message in geom_segment(aes(x = 0, y = max(y2), xend = max(x1), yend = max(y2)), :\n",
      "\"\u001b[1m\u001b[22mAll aesthetics have length 1, but the data has 2 rows.\n",
      "\u001b[36mi\u001b[39m Please consider using `annotate()` or provide this layer with data containing\n",
      "  a single row.\"\n",
      "Warning message in geom_segment(aes(x = 0, y = max(y2), xend = max(x1), yend = max(y2)), :\n",
      "\"\u001b[1m\u001b[22mAll aesthetics have length 1, but the data has 2 rows.\n",
      "\u001b[36mi\u001b[39m Please consider using `annotate()` or provide this layer with data containing\n",
      "  a single row.\"\n",
      "Warning message in geom_segment(aes(x = 0, y = max(y2), xend = max(x1), yend = max(y2)), :\n",
      "\"\u001b[1m\u001b[22mAll aesthetics have length 1, but the data has 2 rows.\n",
      "\u001b[36mi\u001b[39m Please consider using `annotate()` or provide this layer with data containing\n",
      "  a single row.\"\n",
      "Warning message in geom_segment(aes(x = 0, y = max(y2), xend = max(x1), yend = max(y2)), :\n",
      "\"\u001b[1m\u001b[22mAll aesthetics have length 1, but the data has 2 rows.\n",
      "\u001b[36mi\u001b[39m Please consider using `annotate()` or provide this layer with data containing\n",
      "  a single row.\"\n"
     ]
    },
    {
     "name": "stdout",
     "output_type": "stream",
     "text": [
      "[1] \"B3GAT1\"\n"
     ]
    },
    {
     "name": "stderr",
     "output_type": "stream",
     "text": [
      "Warning message in geom_segment(aes(x = 0, y = max(y2), xend = max(x1), yend = max(y2)), :\n",
      "\"\u001b[1m\u001b[22mAll aesthetics have length 1, but the data has 2 rows.\n",
      "\u001b[36mi\u001b[39m Please consider using `annotate()` or provide this layer with data containing\n",
      "  a single row.\"\n",
      "Warning message in geom_segment(aes(x = 0, y = max(y2), xend = max(x1), yend = max(y2)), :\n",
      "\"\u001b[1m\u001b[22mAll aesthetics have length 1, but the data has 2 rows.\n",
      "\u001b[36mi\u001b[39m Please consider using `annotate()` or provide this layer with data containing\n",
      "  a single row.\"\n",
      "Warning message in geom_segment(aes(x = 0, y = max(y2), xend = max(x1), yend = max(y2)), :\n",
      "\"\u001b[1m\u001b[22mAll aesthetics have length 1, but the data has 2 rows.\n",
      "\u001b[36mi\u001b[39m Please consider using `annotate()` or provide this layer with data containing\n",
      "  a single row.\"\n",
      "Warning message in geom_segment(aes(x = 0, y = max(y2), xend = max(x1), yend = max(y2)), :\n",
      "\"\u001b[1m\u001b[22mAll aesthetics have length 1, but the data has 2 rows.\n",
      "\u001b[36mi\u001b[39m Please consider using `annotate()` or provide this layer with data containing\n",
      "  a single row.\"\n"
     ]
    },
    {
     "name": "stdout",
     "output_type": "stream",
     "text": [
      "[1] \"OLR1\"\n"
     ]
    },
    {
     "name": "stderr",
     "output_type": "stream",
     "text": [
      "Warning message in geom_segment(aes(x = 0, y = max(y2), xend = max(x1), yend = max(y2)), :\n",
      "\"\u001b[1m\u001b[22mAll aesthetics have length 1, but the data has 2 rows.\n",
      "\u001b[36mi\u001b[39m Please consider using `annotate()` or provide this layer with data containing\n",
      "  a single row.\"\n",
      "Warning message in geom_segment(aes(x = 0, y = max(y2), xend = max(x1), yend = max(y2)), :\n",
      "\"\u001b[1m\u001b[22mAll aesthetics have length 1, but the data has 2 rows.\n",
      "\u001b[36mi\u001b[39m Please consider using `annotate()` or provide this layer with data containing\n",
      "  a single row.\"\n",
      "Warning message in geom_segment(aes(x = 0, y = max(y2), xend = max(x1), yend = max(y2)), :\n",
      "\"\u001b[1m\u001b[22mAll aesthetics have length 1, but the data has 2 rows.\n",
      "\u001b[36mi\u001b[39m Please consider using `annotate()` or provide this layer with data containing\n",
      "  a single row.\"\n",
      "Warning message in geom_segment(aes(x = 0, y = max(y2), xend = max(x1), yend = max(y2)), :\n",
      "\"\u001b[1m\u001b[22mAll aesthetics have length 1, but the data has 2 rows.\n",
      "\u001b[36mi\u001b[39m Please consider using `annotate()` or provide this layer with data containing\n",
      "  a single row.\"\n"
     ]
    },
    {
     "name": "stdout",
     "output_type": "stream",
     "text": [
      "[1] \"KLF2\"\n"
     ]
    },
    {
     "name": "stderr",
     "output_type": "stream",
     "text": [
      "Warning message in geom_segment(aes(x = 0, y = max(y2), xend = max(x1), yend = max(y2)), :\n",
      "\"\u001b[1m\u001b[22mAll aesthetics have length 1, but the data has 2 rows.\n",
      "\u001b[36mi\u001b[39m Please consider using `annotate()` or provide this layer with data containing\n",
      "  a single row.\"\n",
      "Warning message in geom_segment(aes(x = 0, y = max(y2), xend = max(x1), yend = max(y2)), :\n",
      "\"\u001b[1m\u001b[22mAll aesthetics have length 1, but the data has 2 rows.\n",
      "\u001b[36mi\u001b[39m Please consider using `annotate()` or provide this layer with data containing\n",
      "  a single row.\"\n",
      "Warning message in geom_segment(aes(x = 0, y = max(y2), xend = max(x1), yend = max(y2)), :\n",
      "\"\u001b[1m\u001b[22mAll aesthetics have length 1, but the data has 2 rows.\n",
      "\u001b[36mi\u001b[39m Please consider using `annotate()` or provide this layer with data containing\n",
      "  a single row.\"\n",
      "Warning message in geom_segment(aes(x = 0, y = max(y2), xend = max(x1), yend = max(y2)), :\n",
      "\"\u001b[1m\u001b[22mAll aesthetics have length 1, but the data has 2 rows.\n",
      "\u001b[36mi\u001b[39m Please consider using `annotate()` or provide this layer with data containing\n",
      "  a single row.\"\n"
     ]
    },
    {
     "name": "stdout",
     "output_type": "stream",
     "text": [
      "[1] \"NLRP3\"\n"
     ]
    },
    {
     "name": "stderr",
     "output_type": "stream",
     "text": [
      "Warning message in geom_segment(aes(x = 0, y = max(y2), xend = max(x1), yend = max(y2)), :\n",
      "\"\u001b[1m\u001b[22mAll aesthetics have length 1, but the data has 2 rows.\n",
      "\u001b[36mi\u001b[39m Please consider using `annotate()` or provide this layer with data containing\n",
      "  a single row.\"\n",
      "Warning message in geom_segment(aes(x = 0, y = max(y2), xend = max(x1), yend = max(y2)), :\n",
      "\"\u001b[1m\u001b[22mAll aesthetics have length 1, but the data has 2 rows.\n",
      "\u001b[36mi\u001b[39m Please consider using `annotate()` or provide this layer with data containing\n",
      "  a single row.\"\n",
      "Warning message in geom_segment(aes(x = 0, y = max(y2), xend = max(x1), yend = max(y2)), :\n",
      "\"\u001b[1m\u001b[22mAll aesthetics have length 1, but the data has 2 rows.\n",
      "\u001b[36mi\u001b[39m Please consider using `annotate()` or provide this layer with data containing\n",
      "  a single row.\"\n",
      "Warning message in geom_segment(aes(x = 0, y = max(y2), xend = max(x1), yend = max(y2)), :\n",
      "\"\u001b[1m\u001b[22mAll aesthetics have length 1, but the data has 2 rows.\n",
      "\u001b[36mi\u001b[39m Please consider using `annotate()` or provide this layer with data containing\n",
      "  a single row.\"\n"
     ]
    },
    {
     "name": "stdout",
     "output_type": "stream",
     "text": [
      "[1] \"HIF1A\"\n"
     ]
    },
    {
     "name": "stderr",
     "output_type": "stream",
     "text": [
      "Warning message in geom_segment(aes(x = 0, y = max(y2), xend = max(x1), yend = max(y2)), :\n",
      "\"\u001b[1m\u001b[22mAll aesthetics have length 1, but the data has 2 rows.\n",
      "\u001b[36mi\u001b[39m Please consider using `annotate()` or provide this layer with data containing\n",
      "  a single row.\"\n",
      "Warning message in geom_segment(aes(x = 0, y = max(y2), xend = max(x1), yend = max(y2)), :\n",
      "\"\u001b[1m\u001b[22mAll aesthetics have length 1, but the data has 2 rows.\n",
      "\u001b[36mi\u001b[39m Please consider using `annotate()` or provide this layer with data containing\n",
      "  a single row.\"\n",
      "Warning message in geom_segment(aes(x = 0, y = max(y2), xend = max(x1), yend = max(y2)), :\n",
      "\"\u001b[1m\u001b[22mAll aesthetics have length 1, but the data has 2 rows.\n",
      "\u001b[36mi\u001b[39m Please consider using `annotate()` or provide this layer with data containing\n",
      "  a single row.\"\n",
      "Warning message in geom_segment(aes(x = 0, y = max(y2), xend = max(x1), yend = max(y2)), :\n",
      "\"\u001b[1m\u001b[22mAll aesthetics have length 1, but the data has 2 rows.\n",
      "\u001b[36mi\u001b[39m Please consider using `annotate()` or provide this layer with data containing\n",
      "  a single row.\"\n"
     ]
    },
    {
     "name": "stdout",
     "output_type": "stream",
     "text": [
      "[1] \"VIM\"\n"
     ]
    },
    {
     "name": "stderr",
     "output_type": "stream",
     "text": [
      "Warning message in geom_segment(aes(x = 0, y = max(y2), xend = max(x1), yend = max(y2)), :\n",
      "\"\u001b[1m\u001b[22mAll aesthetics have length 1, but the data has 2 rows.\n",
      "\u001b[36mi\u001b[39m Please consider using `annotate()` or provide this layer with data containing\n",
      "  a single row.\"\n",
      "Warning message in geom_segment(aes(x = 0, y = max(y2), xend = max(x1), yend = max(y2)), :\n",
      "\"\u001b[1m\u001b[22mAll aesthetics have length 1, but the data has 2 rows.\n",
      "\u001b[36mi\u001b[39m Please consider using `annotate()` or provide this layer with data containing\n",
      "  a single row.\"\n",
      "Warning message in geom_segment(aes(x = 0, y = max(y2), xend = max(x1), yend = max(y2)), :\n",
      "\"\u001b[1m\u001b[22mAll aesthetics have length 1, but the data has 2 rows.\n",
      "\u001b[36mi\u001b[39m Please consider using `annotate()` or provide this layer with data containing\n",
      "  a single row.\"\n"
     ]
    },
    {
     "ename": "ERROR",
     "evalue": "Error in ggsurvplot_df(d, fun = fun, color = color, palette = palette, : The length of legend.labs should be 368\n",
     "output_type": "error",
     "traceback": [
      "Error in ggsurvplot_df(d, fun = fun, color = color, palette = palette, : The length of legend.labs should be 368\nTraceback:\n",
      "1. ggsurvplot(fit, data = res.cat, pval = TRUE, conf.int = TRUE, \n .     fun = \"pct\", size = 1, risk.table = TRUE, risk.table.col = \"strata\", \n .     linetype = \"strata\", palette = c(\"lightseagreen\", \"goldenrod1\"), \n .     legend = c(0.8, 0.85), legend.title = \"Group\", legend.labs = c(\"Hight\", \n .         \"Low\"), title = paste0(i), surv.median.line = \"hv\")",
      "2. do.call(ggsurvplot_core, opts)",
      "3. (function (fit, data = NULL, fun = NULL, color = NULL, palette = NULL, \n .     linetype = 1, break.x.by = NULL, break.y.by = NULL, break.time.by = NULL, \n .     surv.scale = c(\"default\", \"percent\"), xscale = 1, conf.int = FALSE, \n .     conf.int.fill = \"gray\", conf.int.style = \"ribbon\", conf.int.alpha = 0.3, \n .     censor = TRUE, censor.shape = \"+\", censor.size = 4.5, pval = FALSE, \n .     pval.size = 5, pval.coord = c(NULL, NULL), test.for.trend = FALSE, \n .     pval.method = FALSE, pval.method.size = pval.size, pval.method.coord = c(NULL, \n .         NULL), log.rank.weights = c(\"survdiff\", \"1\", \"n\", \"sqrtN\", \n .         \"S1\", \"S2\", \"FH_p=1_q=1\"), title = NULL, xlab = \"Time\", \n .     ylab = \"Survival probability\", xlim = NULL, ylim = NULL, \n .     axes.offset = TRUE, legend = c(\"top\", \"bottom\", \"left\", \"right\", \n .         \"none\"), legend.title = \"Strata\", legend.labs = NULL, \n .     fontsize = 4.5, font.family = \"\", tables.height = 0.25, tables.y.text = TRUE, \n .     tables.col = \"black\", tables.y.text.col = TRUE, risk.table = FALSE, \n .     risk.table.pos = c(\"out\", \"in\"), risk.table.title = NULL, \n .     risk.table.col = tables.col, risk.table.fontsize = fontsize, \n .     risk.table.y.text = tables.y.text, risk.table.y.text.col = tables.y.text.col, \n .     risk.table.height = tables.height, surv.plot.height = 0.75, \n .     ncensor.plot.height = tables.height, cumevents.height = tables.height, \n .     cumcensor.height = tables.height, ncensor.plot = FALSE, ncensor.plot.title = NULL, \n .     cumevents = FALSE, cumevents.col = tables.col, cumevents.title = NULL, \n .     cumevents.y.text = tables.y.text, cumevents.y.text.col = tables.y.text.col, \n .     cumcensor = FALSE, cumcensor.col = tables.col, cumcensor.title = NULL, \n .     cumcensor.y.text = tables.y.text, cumcensor.y.text.col = tables.y.text.col, \n .     surv.median.line = c(\"none\", \"hv\", \"h\", \"v\"), ggtheme = theme_survminer(), \n .     tables.theme = ggtheme, ...) \n . {\n .     if (!inherits(fit, \"survfit\")) \n .         stop(\"Can't handle an object of class \", class(fit))\n .     surv.median.line <- match.arg(surv.median.line)\n .     stopifnot(log.rank.weights %in% c(\"survdiff\", \"1\", \"n\", \"sqrtN\", \n .         \"S1\", \"S2\", \"FH_p=1_q=1\"))\n .     log.rank.weights <- match.arg(log.rank.weights)\n .     if (ncensor.plot & cumcensor) {\n .         warning(\"Both ncensor.plot and cumsensor are TRUE.\", \n .             \"In this case, we consider only cumcensor.\", call. = FALSE)\n .         ncensor.plot <- FALSE\n .     }\n .     if (cumcensor) \n .         ncensor.plot.height <- cumcensor.height\n .     if (is.null(ncensor.plot.title)) \n .         ncensor.plot.title <- \"Number of censoring\"\n .     if (is.null(cumcensor.title)) \n .         cumcensor.title <- \"Cumulative number of censoring\"\n .     if (is.null(cumevents.title)) \n .         cumevents.title <- \"Cumulative number of events\"\n .     risk.table.pos <- match.arg(risk.table.pos)\n .     risktable <- .parse_risk_table_arg(risk.table)\n .     risk.table <- risktable$display\n .     risk.table.type <- risktable$type\n .     extra.params <- list(...)\n .     .expand <- ggplot2::waiver()\n .     if (!axes.offset) \n .         .expand <- c(0, 0)\n .     data <- .get_data(fit, data = data, complain = FALSE)\n .     d <- surv_summary(fit, data = data)\n .     if (!is.null(fit$start.time)) \n .         d <- subset(d, d$time >= fit$start.time)\n .     xmin <- ifelse(.is_cloglog(fun), min(c(1, d$time)), 0)\n .     if (!is.null(fit$start.time)) \n .         xmin <- fit$start.time\n .     xmax <- .get_default_breaks(d$time, .log = .is_cloglog(fun)) %>% \n .         max()\n .     if (is.null(xlim)) \n .         xlim <- c(xmin, xmax)\n .     p <- ggsurvplot_df(d, fun = fun, color = color, palette = palette, \n .         linetype = linetype, break.x.by = break.x.by, break.time.by = break.time.by, \n .         break.y.by = break.y.by, surv.scale = surv.scale, xscale = xscale, \n .         conf.int = conf.int, conf.int.fill = conf.int.fill, conf.int.style = conf.int.style, \n .         conf.int.alpha = conf.int.alpha, censor = censor, censor.shape = censor.shape, \n .         censor.size = censor.size, title = title, xlab = xlab, \n .         ylab = ylab, xlim = xlim, ylim = ylim, axes.offset = axes.offset, \n .         legend = legend, legend.title = legend.title, legend.labs = legend.labs, \n .         ggtheme = ggtheme, ...)\n .     pms <- attr(p, \"parameters\")\n .     color <- surv.color <- pms$color\n .     pval <- surv_pvalue(fit, method = log.rank.weights, data = data, \n .         pval = pval, pval.coord = pval.coord, pval.method.coord = pval.method.coord, \n .         test.for.trend = test.for.trend)\n .     if (pval$pval.txt != \"\") {\n .         p <- p + ggplot2::annotate(\"text\", x = pval$pval.x, y = pval$pval.y, \n .             label = pval$pval.txt, size = pval.size, hjust = 0, \n .             family = font.family)\n .         if (pval.method) \n .             p <- p + ggplot2::annotate(\"text\", x = pval$method.x, \n .                 y = pval$method.y, label = pval$method, size = pval.method.size, \n .                 hjust = 0, family = font.family)\n .     }\n .     if (surv.median.line %in% c(\"hv\", \"h\", \"v\")) \n .         p <- .add_surv_median(p, fit, type = surv.median.line, \n .             fun = fun, data = data)\n .     res <- list(plot = p)\n .     if (risk.table | cumevents | cumcensor | ncensor.plot) {\n .         scurve_cols <- .extract_ggplot_colors(p, grp.levels = pms$legend.labs)\n .     }\n .     pms <- attr(p, \"parameters\")\n .     surv.color <- pms$color\n .     pms$fit <- fit\n .     pms$data <- data\n .     pms$risk.table.type <- risk.table.type\n .     pms$risk.table.title <- risk.table.title\n .     pms$cumevents.title <- cumevents.title\n .     pms$cumcensor.title <- cumcensor.title\n .     pms$fontsize <- fontsize\n .     pms$ggtheme <- ggtheme\n .     pms$ylab <- pms$legend.title\n .     pms$tables.theme <- tables.theme\n .     pms$y.text <- tables.y.text\n .     pms$color <- tables.col\n .     pms$font.family <- font.family\n .     pms$axes.offset <- axes.offset\n .     if (risk.table) {\n .         if (risk.table.pos == \"in\") \n .             risk.table.col = surv.color\n .         pms$color <- risk.table.col\n .         pms$title <- risk.table.title\n .         pms$y.text <- risk.table.y.text\n .         pms$y.text.col <- risk.table.y.text.col\n .         pms$fontsize <- risk.table.fontsize\n .         pms$survtable <- \"risk.table\"\n .         if (risk.table.y.text.col) \n .             pms$y.text.col <- scurve_cols\n .         res$table <- risktable <- do.call(ggsurvtable, pms)\n .     }\n .     if (cumevents) {\n .         pms$color <- cumevents.col\n .         pms$title <- cumevents.title\n .         pms$y.text <- cumevents.y.text\n .         if (cumevents.y.text.col) \n .             pms$y.text.col <- scurve_cols\n .         pms$fontsize <- fontsize\n .         pms$survtable <- \"cumevents\"\n .         res$cumevents <- do.call(ggsurvtable, pms)\n .     }\n .     if (ncensor.plot) {\n .         ncensor_plot <- ggplot(d, aes_string(\"time\", \"n.censor\")) + \n .             ggpubr::geom_exec(geom_bar, d, color = surv.color, \n .                 fill = surv.color, stat = \"identity\", position = \"dodge\") + \n .             coord_cartesian(xlim = xlim) + scale_y_continuous(breaks = sort(unique(d$n.censor))) + \n .             ggtheme\n .         ncensor_plot <- ggpubr::ggpar(ncensor_plot, palette = pms$palette)\n .         ncensor_plot <- ncensor_plot + ggplot2::labs(color = pms$legend.title, \n .             fill = pms$legend.title, x = xlab, y = \"n.censor\", \n .             title = ncensor.plot.title)\n .         ncensor_plot <- .set_general_gpar(ncensor_plot, ...)\n .         ncensor_plot <- .set_ncensorplot_gpar(ncensor_plot, ...)\n .         ncensor_plot <- ncensor_plot + tables.theme\n .         if (!pms$xlog) \n .             ncensor_plot <- ncensor_plot + scale_x_continuous(breaks = pms$time.breaks, \n .                 labels = pms$xticklabels, expand = .expand)\n .         else ncensor_plot <- ncensor_plot + ggplot2::scale_x_continuous(breaks = pms$time.breaks, \n .             trans = \"log10\", labels = pms$xticklabels)\n .     }\n .     else if (cumcensor) {\n .         pms$color <- cumcensor.col\n .         pms$title <- cumcensor.title\n .         if (cumcensor.y.text.col) \n .             pms$y.text.col <- scurve_cols\n .         pms$fontsize <- fontsize\n .         pms$survtable <- \"cumcensor\"\n .         ncensor_plot <- do.call(ggsurvtable, pms)\n .     }\n .     if (ncensor.plot | cumcensor) \n .         res$ncensor.plot <- ncensor_plot\n .     heights <- list(plot = surv.plot.height, table = ifelse(risk.table, \n .         risk.table.height, 0), ncensor.plot = ifelse(ncensor.plot | \n .         cumcensor, ncensor.plot.height, 0), cumevents = ifelse(cumevents, \n .         cumevents.height, 0))\n .     y.text <- list(table = risk.table.y.text, cumevents = cumevents.y.text, \n .         cumcensor = cumcensor.y.text)\n .     y.text.col <- list(table = risk.table.y.text.col, cumevents = cumevents.y.text.col, \n .         cumcensor = cumcensor.y.text.col)\n .     res$data.survplot <- d\n .     res$data.survtable <- .get_timepoints_survsummary(fit, data, \n .         pms$time.breaks)\n .     class(res) <- c(\"ggsurvplot\", \"ggsurv\", \"list\")\n .     attr(res, \"heights\") <- heights\n .     attr(res, \"y.text\") <- y.text\n .     attr(res, \"y.text.col\") <- y.text.col\n .     attr(res, \"legend.position\") <- legend\n .     attr(res, \"legend.labs\") <- legend.labs\n .     attr(res, \"cumcensor\") <- cumcensor\n .     attr(res, \"risk.table.pos\") <- risk.table.pos\n .     attr(res, \"axes.offset\") <- axes.offset\n .     res\n . })(fit = structure(list(n = c(1L, 1L, 1L, 1L, 1L, 1L, 1L, 1L, \n . 1L, 1L, 1L, 1L, 1L, 1L, 1L, 1L, 1L, 1L, 1L, 1L, 1L, 1L, 1L, 1L, \n . 1L, 1L, 1L, 1L, 1L, 1L, 1L, 1L, 1L, 1L, 1L, 1L, 1L, 1L, 1L, 1L, \n . 1L, 1L, 1L, 1L, 1L, 1L, 1L, 1L, 1L, 1L, 1L, 1L, 1L, 1L, 1L, 1L, \n . 1L, 1L, 1L, 1L, 1L, 1L, 1L, 1L, 1L, 1L, 1L, 1L, 1L, 1L, 1L, 1L, \n . 1L, 1L, 1L, 1L, 1L, 1L, 1L, 1L, 1L, 1L, 1L, 1L, 1L, 1L, 1L, 1L, \n . 1L, 1L, 1L, 1L, 1L, 1L, 1L, 1L, 1L, 1L, 1L, 1L, 1L, 1L, 1L, 1L, \n . 1L, 1L, 1L, 1L, 1L, 1L, 1L, 1L, 1L, 1L, 1L, 1L, 1L, 1L, 1L, 1L, \n . 1L, 1L, 1L, 1L, 1L, 1L, 1L, 1L, 1L, 1L, 1L, 1L, 1L, 1L, 1L, 1L, \n . 1L, 1L, 1L, 1L, 1L, 1L, 1L, 1L, 1L, 1L, 1L, 1L, 1L, 1L, 1L, 1L, \n . 1L, 1L, 1L, 1L, 1L, 1L, 1L, 1L, 1L, 1L, 1L, 1L, 1L, 1L, 1L, 1L, \n . 1L, 1L, 1L, 1L, 1L, 1L, 1L, 1L, 1L, 1L, 1L, 1L, 1L, 1L, 1L, 1L, \n . 1L, 1L, 1L, 1L, 1L, 1L, 1L, 1L, 1L, 1L, 1L, 1L, 1L, 1L, 1L, 1L, \n . 1L, 1L, 1L, 1L, 1L, 1L, 1L, 1L, 1L, 1L, 1L, 1L, 1L, 1L, 1L, 1L, \n . 1L, 1L, 1L, 1L, 1L, 1L, 1L, 1L, 1L, 1L, 1L, 1L, 1L, 1L, 1L, 1L, \n . 1L, 1L, 1L, 1L, 1L, 1L, 1L, 1L, 1L, 1L, 1L, 1L, 1L, 1L, 1L, 1L, \n . 1L, 1L, 1L, 1L, 1L, 1L, 1L, 1L, 1L, 1L, 1L, 1L, 1L, 1L, 1L, 1L, \n . 1L, 1L, 1L, 1L, 1L, 1L, 1L, 1L, 1L, 1L, 1L, 1L, 1L, 1L, 1L, 1L, \n . 1L, 1L, 1L, 1L, 1L, 1L, 1L, 1L, 1L, 1L, 1L, 1L, 1L, 1L, 1L, 1L, \n . 1L, 1L, 1L, 1L, 1L, 1L, 1L, 1L, 1L, 1L, 1L, 1L, 1L, 1L, 1L, 1L, \n . 1L, 1L, 1L, 1L, 1L, 1L, 1L, 1L, 1L, 1L, 1L, 1L, 1L, 1L, 1L, 1L, \n . 1L, 1L, 1L, 1L, 1L, 1L, 1L, 1L, 1L, 1L, 1L, 1L, 1L, 1L, 1L, 1L, \n . 1L, 1L, 1L, 1L, 1L, 1L, 1L, 1L, 1L, 1L, 1L, 1L, 1L, 1L, 1L, 1L, \n . 1L, 1L, 1L, 1L, 1L, 1L, 1L, 1L), time = c(35.1, 48.2, 35.77, \n . 71.8, 4.43, 32.97, 30.5, 78.97, 12.47, 45.23, 27.2, 124.87, 18.23, \n . 43.97, 44.13, 29.5, 117.5, 3, 30.6, 49.73, 57.4, 20.27, 25.37, \n . 87.37, 38.7, 8.5, 45.3, 36.3, 11.43, 77.93, 10.4, 43.1, 48.37, \n . 15.17, 30.63, 19.93, 17.6, 31.87, 21.43, 2.7, 63.97, 66.43, 49, \n . 104.27, 50.1, 20.63, 67.07, 58.57, 48.27, 45.53, 14.7, 25.03, \n . 52.63, 110.83, 15.97, 23.37, 3.5, 112.93, 4.33, 34.4, 58.9, 59.5, \n . 29.83, 18.23, 36.8, 19.03, 6.8, 31.73, 41.1, 31.73, 5.43, 31.7, \n . 29.03, 63.33, 26.57, 44.73, 29.57, 84.47, 93.7, 57.33, 88.7, \n . 55.27, 36.37, 34.13, 64.87, 52.77, 69.63, 66.43, 19.2, 59.97, \n . 4.83, 17.47, 23.17, 12.03, 17.57, 154.13, 14.87, 55.4, 85.1, \n . 50.37, 21.2, 63.97, 41.97, 27.33, 111.23, 31.63, 129.03, 6.57, \n . 36.27, 1.1, 11.8, 36.07, 49.97, 44.53, 87.8, 13.17, 20.8, 4.6, \n . 10.13, 3.27, 35.27, 2.97, 5.87, 37.57, 21.23, 6.1, 43.8, 31.63, \n . 26.1, 15.6, 2.03, 15.23, 56, 25.43, 5.43, 71.43, 113.33, 19.8, \n . 7.97, 14.73, 46, 22.7, 82.13, 29.53, 65.9, 58.07, 24.37, 28.77, \n . 49.47, 5.5, 31.63, 135.9, 22.63, 42.2, 36.77, 88.7, 32.23, 25.73, \n . 83, 71.43, 45.13, 39.63, 64.9, 20.97, 11.2, 3.03, 2.77, 3.77, \n . 11.53, 120.63, 35.63, 107.47, 52.43, 182.7, 38.57, 22.63, 91.63, \n . 61.43, 81.27, 44.93, 44.7, 18.07, 8.1, 42.63, 21.23, 22.53, 34.63, \n . 15.4, 78.17, 45.17, 13.13, 38.97, 6.2, 34.43, 54, 50.53, 127.3, \n . 127.5, 85.1, 6.47, 45.47, 87.37, 47.27, 49.47, 38.5, 23.3, 56.27, \n . 8.93, 54.87, 68.3, 3.87, 41.57, 28.93, 19.43, 49.47, 40.43, 33.33, \n . 6.3, 48.07, 70.7, 36.73, 35.3, 1.03, 12.03, 29.43, 66.97, 38.73, \n . 11.27, 36.73, 67.73, 9.23, 5.6, 28.27, 56.63, 3.07, 108.67, 42.6, \n . 22.63, 37.13, 41.63, 5.6, 29.5, 13.2, 46.2, 61.47, 34.13, 38.6, \n . 37.43, 2.17, 52.07, 22.8, 39.97, 45.63, 40.3, 4.9, 33.93, 24.33, \n . 84.9, 23, 19.73, 3.07, 1.2, 7.33, 57.87, 46.13, 7.73, 42.13, \n . 9.53, 16.87, 60.5, 12.63, 64.43, 22.87, 45.13, 89.6, 52.63, 38.77, \n . 6.03, 27.9, 63.03, 69.9, 3.53, 17.27, 40.97, 35.47, 30.93, 24.7, \n . 80, 30.47, 58.4, 41.63, 20.97, 18.77, 66.6, 120.73, 18.83, 67.6, \n . 12, 15.13, 52.77, 18.5, 32.07, 31.07, 55, 6.4, 20.9, 57.5, 2.23, \n . 18.23, 28.57, 4.07, 116.67, 19.63, 27.37, 2.03, 85.37, 65.17, \n . 59.47, 12.63, 6.33, 131.77, 22.53, 7.93, 31.07, 48.2, 39.57, \n . 6.2, 17.63, 117.73, 45.17, 8.43, 72.73, 32.53, 87.2, 21.83, 29.17, \n . 62.73, 20.27, 24.57, 18.73, 90.57, 42.57, 45.73, 27.33, 65.9, \n . 57.37, 4.3, 31.07, 87.13, 17.17, 91.4, 34.87, 18.93, 40.4, 82.23, \n . 58.97, 45.47, 1.77, 103.2, 56.13, 155.5, 12.57, 82.3, 46.3, 17.7, \n . 10.13, 31.57, 1.03), n.risk = c(1, 1, 1, 1, 1, 1, 1, 1, 1, 1, \n . 1, 1, 1, 1, 1, 1, 1, 1, 1, 1, 1, 1, 1, 1, 1, 1, 1, 1, 1, 1, 1, \n . 1, 1, 1, 1, 1, 1, 1, 1, 1, 1, 1, 1, 1, 1, 1, 1, 1, 1, 1, 1, 1, \n . 1, 1, 1, 1, 1, 1, 1, 1, 1, 1, 1, 1, 1, 1, 1, 1, 1, 1, 1, 1, 1, \n . 1, 1, 1, 1, 1, 1, 1, 1, 1, 1, 1, 1, 1, 1, 1, 1, 1, 1, 1, 1, 1, \n . 1, 1, 1, 1, 1, 1, 1, 1, 1, 1, 1, 1, 1, 1, 1, 1, 1, 1, 1, 1, 1, \n . 1, 1, 1, 1, 1, 1, 1, 1, 1, 1, 1, 1, 1, 1, 1, 1, 1, 1, 1, 1, 1, \n . 1, 1, 1, 1, 1, 1, 1, 1, 1, 1, 1, 1, 1, 1, 1, 1, 1, 1, 1, 1, 1, \n . 1, 1, 1, 1, 1, 1, 1, 1, 1, 1, 1, 1, 1, 1, 1, 1, 1, 1, 1, 1, 1, \n . 1, 1, 1, 1, 1, 1, 1, 1, 1, 1, 1, 1, 1, 1, 1, 1, 1, 1, 1, 1, 1, \n . 1, 1, 1, 1, 1, 1, 1, 1, 1, 1, 1, 1, 1, 1, 1, 1, 1, 1, 1, 1, 1, \n . 1, 1, 1, 1, 1, 1, 1, 1, 1, 1, 1, 1, 1, 1, 1, 1, 1, 1, 1, 1, 1, \n . 1, 1, 1, 1, 1, 1, 1, 1, 1, 1, 1, 1, 1, 1, 1, 1, 1, 1, 1, 1, 1, \n . 1, 1, 1, 1, 1, 1, 1, 1, 1, 1, 1, 1, 1, 1, 1, 1, 1, 1, 1, 1, 1, \n . 1, 1, 1, 1, 1, 1, 1, 1, 1, 1, 1, 1, 1, 1, 1, 1, 1, 1, 1, 1, 1, \n . 1, 1, 1, 1, 1, 1, 1, 1, 1, 1, 1, 1, 1, 1, 1, 1, 1, 1, 1, 1, 1, \n . 1, 1, 1, 1, 1, 1, 1, 1, 1, 1, 1, 1, 1, 1, 1, 1, 1, 1, 1, 1, 1, \n . 1, 1, 1, 1, 1, 1, 1, 1, 1, 1, 1, 1, 1, 1, 1, 1, 1, 1, 1, 1, 1, \n . 1), n.event = c(0, 1, 1, 1, 0, 0, 0, 0, 0, 0, 0, 0, 1, 1, 1, \n . 0, 0, 1, 0, 1, 0, 1, 0, 1, 1, 0, 1, 1, 0, 0, 1, 0, 1, 1, 1, 1, \n . 1, 0, 0, 0, 0, 1, 1, 1, 0, 1, 1, 1, 1, 1, 0, 0, 1, 0, 1, 1, 0, \n . 0, 0, 1, 1, 0, 1, 0, 1, 0, 0, 1, 0, 0, 0, 1, 1, 0, 0, 0, 1, 0, \n . 1, 1, 0, 0, 1, 1, 1, 1, 1, 0, 0, 1, 0, 1, 1, 0, 0, 1, 1, 1, 1, \n . 1, 1, 0, 1, 1, 1, 1, 0, 1, 1, 0, 1, 1, 1, 1, 1, 1, 1, 1, 1, 0, \n . 1, 0, 0, 0, 1, 0, 1, 1, 0, 0, 1, 1, 1, 0, 0, 0, 0, 1, 0, 0, 1, \n . 1, 0, 0, 0, 1, 1, 1, 1, 0, 1, 0, 1, 1, 1, 0, 0, 0, 1, 0, 1, 1, \n . 1, 1, 1, 1, 1, 0, 1, 0, 1, 1, 0, 0, 1, 1, 1, 1, 0, 1, 1, 1, 0, \n . 1, 1, 1, 1, 1, 1, 1, 1, 1, 1, 1, 1, 1, 1, 0, 1, 0, 1, 1, 0, 1, \n . 1, 0, 1, 0, 1, 1, 0, 1, 1, 1, 1, 1, 1, 1, 1, 0, 1, 1, 1, 1, 1, \n . 1, 1, 0, 1, 0, 0, 0, 0, 1, 0, 1, 1, 0, 1, 1, 0, 1, 1, 0, 0, 1, \n . 1, 1, 1, 1, 0, 1, 1, 0, 0, 1, 1, 0, 1, 1, 1, 0, 0, 1, 1, 0, 1, \n . 1, 1, 1, 1, 1, 0, 1, 1, 1, 1, 0, 0, 1, 1, 0, 1, 1, 1, 0, 0, 1, \n . 1, 0, 1, 1, 1, 0, 1, 1, 1, 0, 0, 1, 1, 1, 0, 1, 0, 1, 1, 0, 0, \n . 1, 0, 0, 0, 1, 0, 1, 1, 1, 0, 0, 0, 1, 0, 0, 1, 1, 0, 0, 0, 1, \n . 0, 1, 1, 0, 0, 0, 0, 1, 1, 1, 1, 0, 0, 1, 1, 1, 1, 0, 0, 1, 1, \n . 1, 1, 0, 1, 1, 0, 1, 0, 0, 0, 1, 0, 1, 1, 1, 0, 1), n.censor = c(1, \n . 0, 0, 0, 1, 1, 1, 1, 1, 1, 1, 1, 0, 0, 0, 1, 1, 0, 1, 0, 1, 0, \n . 1, 0, 0, 1, 0, 0, 1, 1, 0, 1, 0, 0, 0, 0, 0, 1, 1, 1, 1, 0, 0, \n . 0, 1, 0, 0, 0, 0, 0, 1, 1, 0, 1, 0, 0, 1, 1, 1, 0, 0, 1, 0, 1, \n . 0, 1, 1, 0, 1, 1, 1, 0, 0, 1, 1, 1, 0, 1, 0, 0, 1, 1, 0, 0, 0, \n . 0, 0, 1, 1, 0, 1, 0, 0, 1, 1, 0, 0, 0, 0, 0, 0, 1, 0, 0, 0, 0, \n . 1, 0, 0, 1, 0, 0, 0, 0, 0, 0, 0, 0, 0, 1, 0, 1, 1, 1, 0, 1, 0, \n . 0, 1, 1, 0, 0, 0, 1, 1, 1, 1, 0, 1, 1, 0, 0, 1, 1, 1, 0, 0, 0, \n . 0, 1, 0, 1, 0, 0, 0, 1, 1, 1, 0, 1, 0, 0, 0, 0, 0, 0, 0, 1, 0, \n . 1, 0, 0, 1, 1, 0, 0, 0, 0, 1, 0, 0, 0, 1, 0, 0, 0, 0, 0, 0, 0, \n . 0, 0, 0, 0, 0, 0, 0, 1, 0, 1, 0, 0, 1, 0, 0, 1, 0, 1, 0, 0, 1, \n . 0, 0, 0, 0, 0, 0, 0, 0, 1, 0, 0, 0, 0, 0, 0, 0, 1, 0, 1, 1, 1, \n . 1, 0, 1, 0, 0, 1, 0, 0, 1, 0, 0, 1, 1, 0, 0, 0, 0, 0, 1, 0, 0, \n . 1, 1, 0, 0, 1, 0, 0, 0, 1, 1, 0, 0, 1, 0, 0, 0, 0, 0, 0, 1, 0, \n . 0, 0, 0, 1, 1, 0, 0, 1, 0, 0, 0, 1, 1, 0, 0, 1, 0, 0, 0, 1, 0, \n . 0, 0, 1, 1, 0, 0, 0, 1, 0, 1, 0, 0, 1, 1, 0, 1, 1, 1, 0, 1, 0, \n . 0, 0, 1, 1, 1, 0, 1, 1, 0, 0, 1, 1, 1, 0, 1, 0, 0, 1, 1, 1, 1, \n . 0, 0, 0, 0, 1, 1, 0, 0, 0, 0, 1, 1, 0, 0, 0, 0, 1, 0, 0, 1, 0, \n . 1, 1, 1, 0, 1, 0, 0, 0, 1, 0), surv = c(1, 0, 0, 0, 1, 1, 1, \n . 1, 1, 1, 1, 1, 0, 0, 0, 1, 1, 0, 1, 0, 1, 0, 1, 0, 0, 1, 0, 0, \n . 1, 1, 0, 1, 0, 0, 0, 0, 0, 1, 1, 1, 1, 0, 0, 0, 1, 0, 0, 0, 0, \n . 0, 1, 1, 0, 1, 0, 0, 1, 1, 1, 0, 0, 1, 0, 1, 0, 1, 1, 0, 1, 1, \n . 1, 0, 0, 1, 1, 1, 0, 1, 0, 0, 1, 1, 0, 0, 0, 0, 0, 1, 1, 0, 1, \n . 0, 0, 1, 1, 0, 0, 0, 0, 0, 0, 1, 0, 0, 0, 0, 1, 0, 0, 1, 0, 0, \n . 0, 0, 0, 0, 0, 0, 0, 1, 0, 1, 1, 1, 0, 1, 0, 0, 1, 1, 0, 0, 0, \n . 1, 1, 1, 1, 0, 1, 1, 0, 0, 1, 1, 1, 0, 0, 0, 0, 1, 0, 1, 0, 0, \n . 0, 1, 1, 1, 0, 1, 0, 0, 0, 0, 0, 0, 0, 1, 0, 1, 0, 0, 1, 1, 0, \n . 0, 0, 0, 1, 0, 0, 0, 1, 0, 0, 0, 0, 0, 0, 0, 0, 0, 0, 0, 0, 0, \n . 0, 1, 0, 1, 0, 0, 1, 0, 0, 1, 0, 1, 0, 0, 1, 0, 0, 0, 0, 0, 0, \n . 0, 0, 1, 0, 0, 0, 0, 0, 0, 0, 1, 0, 1, 1, 1, 1, 0, 1, 0, 0, 1, \n . 0, 0, 1, 0, 0, 1, 1, 0, 0, 0, 0, 0, 1, 0, 0, 1, 1, 0, 0, 1, 0, \n . 0, 0, 1, 1, 0, 0, 1, 0, 0, 0, 0, 0, 0, 1, 0, 0, 0, 0, 1, 1, 0, \n . 0, 1, 0, 0, 0, 1, 1, 0, 0, 1, 0, 0, 0, 1, 0, 0, 0, 1, 1, 0, 0, \n . 0, 1, 0, 1, 0, 0, 1, 1, 0, 1, 1, 1, 0, 1, 0, 0, 0, 1, 1, 1, 0, \n . 1, 1, 0, 0, 1, 1, 1, 0, 1, 0, 0, 1, 1, 1, 1, 0, 0, 0, 0, 1, 1, \n . 0, 0, 0, 0, 1, 1, 0, 0, 0, 0, 1, 0, 0, 1, 0, 1, 1, 1, 0, 1, 0, \n . 0, 0, 1, 0), std.err = c(0, Inf, Inf, Inf, 0, 0, 0, 0, 0, 0, \n . 0, 0, Inf, Inf, Inf, 0, 0, Inf, 0, Inf, 0, Inf, 0, Inf, Inf, \n . 0, Inf, Inf, 0, 0, Inf, 0, Inf, Inf, Inf, Inf, Inf, 0, 0, 0, \n . 0, Inf, Inf, Inf, 0, Inf, Inf, Inf, Inf, Inf, 0, 0, Inf, 0, Inf, \n . Inf, 0, 0, 0, Inf, Inf, 0, Inf, 0, Inf, 0, 0, Inf, 0, 0, 0, Inf, \n . Inf, 0, 0, 0, Inf, 0, Inf, Inf, 0, 0, Inf, Inf, Inf, Inf, Inf, \n . 0, 0, Inf, 0, Inf, Inf, 0, 0, Inf, Inf, Inf, Inf, Inf, Inf, 0, \n . Inf, Inf, Inf, Inf, 0, Inf, Inf, 0, Inf, Inf, Inf, Inf, Inf, \n . Inf, Inf, Inf, Inf, 0, Inf, 0, 0, 0, Inf, 0, Inf, Inf, 0, 0, \n . Inf, Inf, Inf, 0, 0, 0, 0, Inf, 0, 0, Inf, Inf, 0, 0, 0, Inf, \n . Inf, Inf, Inf, 0, Inf, 0, Inf, Inf, Inf, 0, 0, 0, Inf, 0, Inf, \n . Inf, Inf, Inf, Inf, Inf, Inf, 0, Inf, 0, Inf, Inf, 0, 0, Inf, \n . Inf, Inf, Inf, 0, Inf, Inf, Inf, 0, Inf, Inf, Inf, Inf, Inf, \n . Inf, Inf, Inf, Inf, Inf, Inf, Inf, Inf, Inf, 0, Inf, 0, Inf, \n . Inf, 0, Inf, Inf, 0, Inf, 0, Inf, Inf, 0, Inf, Inf, Inf, Inf, \n . Inf, Inf, Inf, Inf, 0, Inf, Inf, Inf, Inf, Inf, Inf, Inf, 0, \n . Inf, 0, 0, 0, 0, Inf, 0, Inf, Inf, 0, Inf, Inf, 0, Inf, Inf, \n . 0, 0, Inf, Inf, Inf, Inf, Inf, 0, Inf, Inf, 0, 0, Inf, Inf, 0, \n . Inf, Inf, Inf, 0, 0, Inf, Inf, 0, Inf, Inf, Inf, Inf, Inf, Inf, \n . 0, Inf, Inf, Inf, Inf, 0, 0, Inf, Inf, 0, Inf, Inf, Inf, 0, 0, \n . Inf, Inf, 0, Inf, Inf, Inf, 0, Inf, Inf, Inf, 0, 0, Inf, Inf, \n . Inf, 0, Inf, 0, Inf, Inf, 0, 0, Inf, 0, 0, 0, Inf, 0, Inf, Inf, \n . Inf, 0, 0, 0, Inf, 0, 0, Inf, Inf, 0, 0, 0, Inf, 0, Inf, Inf, \n . 0, 0, 0, 0, Inf, Inf, Inf, Inf, 0, 0, Inf, Inf, Inf, Inf, 0, \n . 0, Inf, Inf, Inf, Inf, 0, Inf, Inf, 0, Inf, 0, 0, 0, Inf, 0, \n . Inf, Inf, Inf, 0, Inf), cumhaz = c(0, 1, 1, 1, 0, 0, 0, 0, 0, \n . 0, 0, 0, 1, 1, 1, 0, 0, 1, 0, 1, 0, 1, 0, 1, 1, 0, 1, 1, 0, 0, \n . 1, 0, 1, 1, 1, 1, 1, 0, 0, 0, 0, 1, 1, 1, 0, 1, 1, 1, 1, 1, 0, \n . 0, 1, 0, 1, 1, 0, 0, 0, 1, 1, 0, 1, 0, 1, 0, 0, 1, 0, 0, 0, 1, \n . 1, 0, 0, 0, 1, 0, 1, 1, 0, 0, 1, 1, 1, 1, 1, 0, 0, 1, 0, 1, 1, \n . 0, 0, 1, 1, 1, 1, 1, 1, 0, 1, 1, 1, 1, 0, 1, 1, 0, 1, 1, 1, 1, \n . 1, 1, 1, 1, 1, 0, 1, 0, 0, 0, 1, 0, 1, 1, 0, 0, 1, 1, 1, 0, 0, \n . 0, 0, 1, 0, 0, 1, 1, 0, 0, 0, 1, 1, 1, 1, 0, 1, 0, 1, 1, 1, 0, \n . 0, 0, 1, 0, 1, 1, 1, 1, 1, 1, 1, 0, 1, 0, 1, 1, 0, 0, 1, 1, 1, \n . 1, 0, 1, 1, 1, 0, 1, 1, 1, 1, 1, 1, 1, 1, 1, 1, 1, 1, 1, 1, 0, \n . 1, 0, 1, 1, 0, 1, 1, 0, 1, 0, 1, 1, 0, 1, 1, 1, 1, 1, 1, 1, 1, \n . 0, 1, 1, 1, 1, 1, 1, 1, 0, 1, 0, 0, 0, 0, 1, 0, 1, 1, 0, 1, 1, \n . 0, 1, 1, 0, 0, 1, 1, 1, 1, 1, 0, 1, 1, 0, 0, 1, 1, 0, 1, 1, 1, \n . 0, 0, 1, 1, 0, 1, 1, 1, 1, 1, 1, 0, 1, 1, 1, 1, 0, 0, 1, 1, 0, \n . 1, 1, 1, 0, 0, 1, 1, 0, 1, 1, 1, 0, 1, 1, 1, 0, 0, 1, 1, 1, 0, \n . 1, 0, 1, 1, 0, 0, 1, 0, 0, 0, 1, 0, 1, 1, 1, 0, 0, 0, 1, 0, 0, \n . 1, 1, 0, 0, 0, 1, 0, 1, 1, 0, 0, 0, 0, 1, 1, 1, 1, 0, 0, 1, 1, \n . 1, 1, 0, 0, 1, 1, 1, 1, 0, 1, 1, 0, 1, 0, 0, 0, 1, 0, 1, 1, 1, \n . 0, 1), std.chaz = c(0, 1, 1, 1, 0, 0, 0, 0, 0, 0, 0, 0, 1, 1, \n . 1, 0, 0, 1, 0, 1, 0, 1, 0, 1, 1, 0, 1, 1, 0, 0, 1, 0, 1, 1, 1, \n . 1, 1, 0, 0, 0, 0, 1, 1, 1, 0, 1, 1, 1, 1, 1, 0, 0, 1, 0, 1, 1, \n . 0, 0, 0, 1, 1, 0, 1, 0, 1, 0, 0, 1, 0, 0, 0, 1, 1, 0, 0, 0, 1, \n . 0, 1, 1, 0, 0, 1, 1, 1, 1, 1, 0, 0, 1, 0, 1, 1, 0, 0, 1, 1, 1, \n . 1, 1, 1, 0, 1, 1, 1, 1, 0, 1, 1, 0, 1, 1, 1, 1, 1, 1, 1, 1, 1, \n . 0, 1, 0, 0, 0, 1, 0, 1, 1, 0, 0, 1, 1, 1, 0, 0, 0, 0, 1, 0, 0, \n . 1, 1, 0, 0, 0, 1, 1, 1, 1, 0, 1, 0, 1, 1, 1, 0, 0, 0, 1, 0, 1, \n . 1, 1, 1, 1, 1, 1, 0, 1, 0, 1, 1, 0, 0, 1, 1, 1, 1, 0, 1, 1, 1, \n . 0, 1, 1, 1, 1, 1, 1, 1, 1, 1, 1, 1, 1, 1, 1, 0, 1, 0, 1, 1, 0, \n . 1, 1, 0, 1, 0, 1, 1, 0, 1, 1, 1, 1, 1, 1, 1, 1, 0, 1, 1, 1, 1, \n . 1, 1, 1, 0, 1, 0, 0, 0, 0, 1, 0, 1, 1, 0, 1, 1, 0, 1, 1, 0, 0, \n . 1, 1, 1, 1, 1, 0, 1, 1, 0, 0, 1, 1, 0, 1, 1, 1, 0, 0, 1, 1, 0, \n . 1, 1, 1, 1, 1, 1, 0, 1, 1, 1, 1, 0, 0, 1, 1, 0, 1, 1, 1, 0, 0, \n . 1, 1, 0, 1, 1, 1, 0, 1, 1, 1, 0, 0, 1, 1, 1, 0, 1, 0, 1, 1, 0, \n . 0, 1, 0, 0, 0, 1, 0, 1, 1, 1, 0, 0, 0, 1, 0, 0, 1, 1, 0, 0, 0, \n . 1, 0, 1, 1, 0, 0, 0, 0, 1, 1, 1, 1, 0, 0, 1, 1, 1, 1, 0, 0, 1, \n . 1, 1, 1, 0, 1, 1, 0, 1, 0, 0, 0, 1, 0, 1, 1, 1, 0, 1), strata = c(`res.cat[, i]=10.0019555752188` = 1L, \n . `res.cat[, i]=10.0107078824318` = 1L, `res.cat[, i]=10.0182421600855` = 1L, \n . `res.cat[, i]=10.0256146942918` = 1L, `res.cat[, i]=10.0433769063902` = 1L, \n . `res.cat[, i]=10.0479924535449` = 1L, `res.cat[, i]=10.0482764138881` = 1L, \n . `res.cat[, i]=10.0498559118993` = 1L, `res.cat[, i]=10.0597877192261` = 1L, \n . `res.cat[, i]=10.0744038635368` = 1L, `res.cat[, i]=10.0764863127561` = 1L, \n . `res.cat[, i]=10.0926585043062` = 1L, `res.cat[, i]=10.1130263513541` = 1L, \n . `res.cat[, i]=10.1178492327595` = 1L, `res.cat[, i]=10.1383781194611` = 1L, \n . `res.cat[, i]=10.144186001987` = 1L, `res.cat[, i]=10.1442720282475` = 1L, \n . `res.cat[, i]=10.1486823702997` = 1L, `res.cat[, i]=10.1787953086179` = 1L, \n . `res.cat[, i]=10.1853156870538` = 1L, `res.cat[, i]=10.1973894310112` = 1L, \n . `res.cat[, i]=10.2054019302529` = 1L, `res.cat[, i]=10.2106216668616` = 1L, \n . `res.cat[, i]=10.2133932541214` = 1L, `res.cat[, i]=10.224327739889` = 1L, \n . `res.cat[, i]=10.2341205674236` = 1L, `res.cat[, i]=10.2700491027777` = 1L, \n . `res.cat[, i]=10.270659674762` = 1L, `res.cat[, i]=10.2854127739412` = 1L, \n . `res.cat[, i]=10.2900286847656` = 1L, `res.cat[, i]=10.3305604435635` = 1L, \n . `res.cat[, i]=10.3482447786662` = 1L, `res.cat[, i]=10.3666703101576` = 1L, \n . `res.cat[, i]=10.3907979063633` = 1L, `res.cat[, i]=10.3935555407194` = 1L, \n . `res.cat[, i]=10.446938932314` = 1L, `res.cat[, i]=10.4595722560539` = 1L, \n . `res.cat[, i]=10.470144111832` = 1L, `res.cat[, i]=10.4838538861751` = 1L, \n . `res.cat[, i]=10.5000229946365` = 1L, `res.cat[, i]=10.5124897903211` = 1L, \n . `res.cat[, i]=10.5448772625794` = 1L, `res.cat[, i]=10.5507995248391` = 1L, \n . `res.cat[, i]=10.5587609357307` = 1L, `res.cat[, i]=10.5711368797596` = 1L, \n . `res.cat[, i]=10.6081877320394` = 1L, `res.cat[, i]=10.6210044041362` = 1L, \n . `res.cat[, i]=10.6231232289955` = 1L, `res.cat[, i]=10.6316004903928` = 1L, \n . `res.cat[, i]=10.6683104672468` = 1L, `res.cat[, i]=10.6895364416917` = 1L, \n . `res.cat[, i]=10.6937207384395` = 1L, `res.cat[, i]=10.7211399814866` = 1L, \n . `res.cat[, i]=10.7384486053159` = 1L, `res.cat[, i]=10.7449309991081` = 1L, \n . `res.cat[, i]=10.768700200709` = 1L, `res.cat[, i]=10.773486412045` = 1L, \n . `res.cat[, i]=10.8400796343269` = 1L, `res.cat[, i]=10.8731631873736` = 1L, \n . `res.cat[, i]=10.8746866325953` = 1L, `res.cat[, i]=10.905251049961` = 1L, \n . `res.cat[, i]=10.9100328588515` = 1L, `res.cat[, i]=10.9826980999963` = 1L, \n . `res.cat[, i]=11.0286342524798` = 1L, `res.cat[, i]=11.0954247677075` = 1L, \n . `res.cat[, i]=11.096391866167` = 1L, `res.cat[, i]=11.1111201664496` = 1L, \n . `res.cat[, i]=11.1273675530813` = 1L, `res.cat[, i]=11.1541040032404` = 1L, \n . `res.cat[, i]=11.2311077660862` = 1L, `res.cat[, i]=11.247226255513` = 1L, \n . `res.cat[, i]=11.377700191499` = 1L, `res.cat[, i]=11.8107505552961` = 1L, \n . `res.cat[, i]=11.8340408459031` = 1L, `res.cat[, i]=11.9993390492673` = 1L, \n . `res.cat[, i]=12.1794187508236` = 1L, `res.cat[, i]=4.05834368728707` = 1L, \n . `res.cat[, i]=4.27353457030374` = 1L, `res.cat[, i]=4.3992853402958` = 1L, \n . `res.cat[, i]=4.4942394980963` = 1L, `res.cat[, i]=4.69064227866409` = 1L, \n . `res.cat[, i]=4.79279504759442` = 1L, `res.cat[, i]=4.82582125904875` = 1L, \n . `res.cat[, i]=4.90238224171599` = 1L, `res.cat[, i]=5.02557447989342` = 1L, \n . `res.cat[, i]=5.17511035114162` = 1L, `res.cat[, i]=5.18024614595836` = 1L, \n . `res.cat[, i]=5.19134620382537` = 1L, `res.cat[, i]=5.2441306130364` = 1L, \n . `res.cat[, i]=5.34799286832924` = 1L, `res.cat[, i]=5.44959134883007` = 1L, \n . `res.cat[, i]=5.48962144773629` = 1L, `res.cat[, i]=5.50088123801244` = 1L, \n . `res.cat[, i]=5.57681089741665` = 1L, `res.cat[, i]=5.58105186809018` = 1L, \n . `res.cat[, i]=5.85691437779184` = 1L, `res.cat[, i]=5.88689621932994` = 1L, \n . `res.cat[, i]=6.0109155865981` = 1L, `res.cat[, i]=6.09551501102294` = 1L, \n . `res.cat[, i]=6.12191577728198` = 1L, `res.cat[, i]=6.15225590512383` = 1L, \n . `res.cat[, i]=6.15930432891895` = 1L, `res.cat[, i]=6.18418912827419` = 1L, \n . `res.cat[, i]=6.26822466664307` = 1L, `res.cat[, i]=6.41892509966827` = 1L, \n . `res.cat[, i]=6.45427446807766` = 1L, `res.cat[, i]=6.63802966046955` = 1L, \n . `res.cat[, i]=6.63994142892987` = 1L, `res.cat[, i]=6.65830759613616` = 1L, \n . `res.cat[, i]=6.73117829210397` = 1L, `res.cat[, i]=6.78787655694867` = 1L, \n . `res.cat[, i]=6.79729208357662` = 1L, `res.cat[, i]=6.84122428278351` = 1L, \n . `res.cat[, i]=6.84270157859178` = 1L, `res.cat[, i]=6.8586263077933` = 1L, \n . `res.cat[, i]=6.86945281287826` = 1L, `res.cat[, i]=6.90860512966012` = 1L, \n . `res.cat[, i]=6.91809949472835` = 1L, `res.cat[, i]=6.98919854185108` = 1L, \n . `res.cat[, i]=6.99597058688623` = 1L, `res.cat[, i]=7.05386767724547` = 1L, \n . `res.cat[, i]=7.05563330110902` = 1L, `res.cat[, i]=7.08530154272624` = 1L, \n . `res.cat[, i]=7.10301015038465` = 1L, `res.cat[, i]=7.12126507931292` = 1L, \n . `res.cat[, i]=7.17863173559945` = 1L, `res.cat[, i]=7.20164005344458` = 1L, \n . `res.cat[, i]=7.21771011963054` = 1L, `res.cat[, i]=7.24823308773976` = 1L, \n . `res.cat[, i]=7.27579523692837` = 1L, `res.cat[, i]=7.30917436579651` = 1L, \n . `res.cat[, i]=7.39940139607639` = 1L, `res.cat[, i]=7.41534004127441` = 1L, \n . `res.cat[, i]=7.49315563813966` = 1L, `res.cat[, i]=7.51060169778908` = 1L, \n . `res.cat[, i]=7.51881229635067` = 1L, `res.cat[, i]=7.5453821450527` = 1L, \n . `res.cat[, i]=7.54585892392088` = 1L, `res.cat[, i]=7.55841875537327` = 1L, \n . `res.cat[, i]=7.56370028358562` = 1L, `res.cat[, i]=7.56704862532771` = 1L, \n . `res.cat[, i]=7.58925230309682` = 1L, `res.cat[, i]=7.58962615395941` = 1L, \n . `res.cat[, i]=7.61099418294211` = 1L, `res.cat[, i]=7.62337913500157` = 1L, \n . `res.cat[, i]=7.63197065841391` = 1L, `res.cat[, i]=7.64638486479589` = 1L, \n . `res.cat[, i]=7.65269361106871` = 1L, `res.cat[, i]=7.65453888318746` = 1L, \n . `res.cat[, i]=7.70356082260884` = 1L, `res.cat[, i]=7.70485343012455` = 1L, \n . `res.cat[, i]=7.76677891342029` = 1L, `res.cat[, i]=7.77234735247147` = 1L, \n . `res.cat[, i]=7.79352747529463` = 1L, `res.cat[, i]=7.79549828685301` = 1L, \n . `res.cat[, i]=7.80607514923985` = 1L, `res.cat[, i]=7.82725721528859` = 1L, \n . `res.cat[, i]=7.83684960062277` = 1L, `res.cat[, i]=7.85865256010967` = 1L, \n . `res.cat[, i]=7.86542301127408` = 1L, `res.cat[, i]=7.88413343678322` = 1L, \n . `res.cat[, i]=7.91746395619769` = 1L, `res.cat[, i]=7.93728646545715` = 1L, \n . `res.cat[, i]=7.95143768249249` = 1L, `res.cat[, i]=7.95671452818459` = 1L, \n . `res.cat[, i]=8.00685521312862` = 1L, `res.cat[, i]=8.01036037845645` = 1L, \n . `res.cat[, i]=8.03416351987158` = 1L, `res.cat[, i]=8.058856911392` = 1L, \n . `res.cat[, i]=8.066710445563` = 1L, `res.cat[, i]=8.06892046008991` = 1L, \n . `res.cat[, i]=8.0732779779098` = 1L, `res.cat[, i]=8.08877275405678` = 1L, \n . `res.cat[, i]=8.10338869388129` = 1L, `res.cat[, i]=8.12272171775329` = 1L, \n . `res.cat[, i]=8.13263059363589` = 1L, `res.cat[, i]=8.18040940022801` = 1L, \n . `res.cat[, i]=8.18633420802204` = 1L, `res.cat[, i]=8.20897448884863` = 1L, \n . `res.cat[, i]=8.21803953362208` = 1L, `res.cat[, i]=8.23171564387599` = 1L, \n . `res.cat[, i]=8.24461666009856` = 1L, `res.cat[, i]=8.24696776575893` = 1L, \n . `res.cat[, i]=8.25827082303977` = 1L, `res.cat[, i]=8.25881124213193` = 1L, \n . `res.cat[, i]=8.27623381344211` = 1L, `res.cat[, i]=8.27847564273523` = 1L, \n . `res.cat[, i]=8.28206195011721` = 1L, `res.cat[, i]=8.2845772932808` = 1L, \n . `res.cat[, i]=8.30775114999298` = 1L, `res.cat[, i]=8.30908523163221` = 1L, \n . `res.cat[, i]=8.3115990869488` = 1L, `res.cat[, i]=8.32003051069232` = 1L, \n . `res.cat[, i]=8.33145189210681` = 1L, `res.cat[, i]=8.33261788180178` = 1L, \n . `res.cat[, i]=8.34162411879492` = 1L, `res.cat[, i]=8.34698556229013` = 1L, \n . `res.cat[, i]=8.3773040418742` = 1L, `res.cat[, i]=8.38052225489733` = 1L, \n . `res.cat[, i]=8.38147257600234` = 1L, `res.cat[, i]=8.38385951170873` = 1L, \n . `res.cat[, i]=8.38726490074266` = 1L, `res.cat[, i]=8.39403395103848` = 1L, \n . `res.cat[, i]=8.39464314076138` = 1L, `res.cat[, i]=8.40677703142799` = 1L, \n . `res.cat[, i]=8.43340576738755` = 1L, `res.cat[, i]=8.45371800405183` = 1L, \n . `res.cat[, i]=8.45876968457443` = 1L, `res.cat[, i]=8.46016985424252` = 1L, \n . `res.cat[, i]=8.48612416992508` = 1L, `res.cat[, i]=8.4869135686101` = 1L, \n . `res.cat[, i]=8.49236884037396` = 1L, `res.cat[, i]=8.5434712269258` = 1L, \n . `res.cat[, i]=8.56130052493334` = 1L, `res.cat[, i]=8.56633283683576` = 1L, \n . `res.cat[, i]=8.57498362582312` = 1L, `res.cat[, i]=8.58868701381959` = 1L, \n . `res.cat[, i]=8.60280882539991` = 1L, `res.cat[, i]=8.60929634515454` = 1L, \n . `res.cat[, i]=8.62956215509349` = 1L, `res.cat[, i]=8.62958469107696` = 1L, \n . `res.cat[, i]=8.65664236117684` = 1L, `res.cat[, i]=8.65843820982944` = 1L, \n . `res.cat[, i]=8.66505764901891` = 1L, `res.cat[, i]=8.66717618942038` = 1L, \n . `res.cat[, i]=8.67403035541884` = 1L, `res.cat[, i]=8.69337008115509` = 1L, \n . `res.cat[, i]=8.69969971319121` = 1L, `res.cat[, i]=8.70495546826631` = 1L, \n . `res.cat[, i]=8.70694670156427` = 1L, `res.cat[, i]=8.70887588115614` = 1L, \n . `res.cat[, i]=8.71681848030384` = 1L, `res.cat[, i]=8.71959235430209` = 1L, \n . `res.cat[, i]=8.72436134982709` = 1L, `res.cat[, i]=8.72954055221494` = 1L, \n . `res.cat[, i]=8.750730694907` = 1L, `res.cat[, i]=8.76598232709842` = 1L, \n . `res.cat[, i]=8.7840413940736` = 1L, `res.cat[, i]=8.79933575732512` = 1L, \n . `res.cat[, i]=8.81545616255279` = 1L, `res.cat[, i]=8.84611877608162` = 1L, \n . `res.cat[, i]=8.84951858988874` = 1L, `res.cat[, i]=8.85422853051026` = 1L, \n . `res.cat[, i]=8.86487241723864` = 1L, `res.cat[, i]=8.87715924835251` = 1L, \n . `res.cat[, i]=8.87806959856234` = 1L, `res.cat[, i]=8.87939020224482` = 1L, \n . `res.cat[, i]=8.89232858768707` = 1L, `res.cat[, i]=8.89325095315151` = 1L, \n . `res.cat[, i]=8.91913898971348` = 1L, `res.cat[, i]=8.95025976095099` = 1L, \n . `res.cat[, i]=8.95037359821695` = 1L, `res.cat[, i]=8.95491762849996` = 1L, \n . `res.cat[, i]=8.96567304903061` = 1L, `res.cat[, i]=8.97336164430157` = 1L, \n . `res.cat[, i]=8.97764963531618` = 1L, `res.cat[, i]=8.98506313861313` = 1L, \n . `res.cat[, i]=8.99572962290457` = 1L, `res.cat[, i]=9.0178351247535` = 1L, \n . `res.cat[, i]=9.01906065792994` = 1L, `res.cat[, i]=9.02044682695349` = 1L, \n . `res.cat[, i]=9.03497598090287` = 1L, `res.cat[, i]=9.04520896973432` = 1L, \n . `res.cat[, i]=9.05209943716836` = 1L, `res.cat[, i]=9.06318299632217` = 1L, \n . `res.cat[, i]=9.07070508625266` = 1L, `res.cat[, i]=9.07705893263877` = 1L, \n . `res.cat[, i]=9.0773133308128` = 1L, `res.cat[, i]=9.08283012988315` = 1L, \n . `res.cat[, i]=9.09019886726297` = 1L, `res.cat[, i]=9.09208274093154` = 1L, \n . `res.cat[, i]=9.09860694537958` = 1L, `res.cat[, i]=9.10258877425289` = 1L, \n . `res.cat[, i]=9.10542377599627` = 1L, `res.cat[, i]=9.11113234059767` = 1L, \n . `res.cat[, i]=9.11551525855842` = 1L, `res.cat[, i]=9.12082318410741` = 1L, \n . `res.cat[, i]=9.12338521007826` = 1L, `res.cat[, i]=9.14747028118823` = 1L, \n . `res.cat[, i]=9.16024631937442` = 1L, `res.cat[, i]=9.16659115221288` = 1L, \n . `res.cat[, i]=9.17483591709966` = 1L, `res.cat[, i]=9.17756670495681` = 1L, \n . `res.cat[, i]=9.17786592728851` = 1L, `res.cat[, i]=9.22296221859038` = 1L, \n . `res.cat[, i]=9.22798415313689` = 1L, `res.cat[, i]=9.23267062906399` = 1L, \n . `res.cat[, i]=9.25015627907893` = 1L, `res.cat[, i]=9.2528046791609` = 1L, \n . `res.cat[, i]=9.25889770917186` = 1L, `res.cat[, i]=9.26131066130404` = 1L, \n . `res.cat[, i]=9.27113393373143` = 1L, `res.cat[, i]=9.29089310045071` = 1L, \n . `res.cat[, i]=9.29780227535499` = 1L, `res.cat[, i]=9.30801520284924` = 1L, \n . `res.cat[, i]=9.31671278937351` = 1L, `res.cat[, i]=9.31694643801415` = 1L, \n . `res.cat[, i]=9.3171558918616` = 1L, `res.cat[, i]=9.32444038284916` = 1L, \n . `res.cat[, i]=9.32851832474217` = 1L, `res.cat[, i]=9.33427626935397` = 1L, \n . `res.cat[, i]=9.3499469758759` = 1L, `res.cat[, i]=9.35270354554755` = 1L, \n . `res.cat[, i]=9.35643554709098` = 1L, `res.cat[, i]=9.35941403510703` = 1L, \n . `res.cat[, i]=9.36350184340381` = 1L, `res.cat[, i]=9.36418620536601` = 1L, \n . `res.cat[, i]=9.36438624179985` = 1L, `res.cat[, i]=9.37842847805655` = 1L, \n . `res.cat[, i]=9.39059165774561` = 1L, `res.cat[, i]=9.42894287361525` = 1L, \n . `res.cat[, i]=9.43497170768701` = 1L, `res.cat[, i]=9.44223549604661` = 1L, \n . `res.cat[, i]=9.44356848284822` = 1L, `res.cat[, i]=9.48067766308106` = 1L, \n . `res.cat[, i]=9.50482504474696` = 1L, `res.cat[, i]=9.51264045141663` = 1L, \n . `res.cat[, i]=9.51554380778433` = 1L, `res.cat[, i]=9.53158949814702` = 1L, \n . `res.cat[, i]=9.54561496609838` = 1L, `res.cat[, i]=9.54755780418363` = 1L, \n . `res.cat[, i]=9.575909844854` = 1L, `res.cat[, i]=9.57740204530938` = 1L, \n . `res.cat[, i]=9.58096851902754` = 1L, `res.cat[, i]=9.58514171678333` = 1L, \n . `res.cat[, i]=9.59147300197732` = 1L, `res.cat[, i]=9.59765792332073` = 1L, \n . `res.cat[, i]=9.60038926509747` = 1L, `res.cat[, i]=9.62061978887547` = 1L, \n . `res.cat[, i]=9.63312711246187` = 1L, `res.cat[, i]=9.6377941936973` = 1L, \n . `res.cat[, i]=9.64014741877698` = 1L, `res.cat[, i]=9.6434807388171` = 1L, \n . `res.cat[, i]=9.66161468974869` = 1L, `res.cat[, i]=9.68327260664442` = 1L, \n . `res.cat[, i]=9.68384545856332` = 1L, `res.cat[, i]=9.7016675144909` = 1L, \n . `res.cat[, i]=9.71016096290191` = 1L, `res.cat[, i]=9.73435244987592` = 1L, \n . `res.cat[, i]=9.737182645741` = 1L, `res.cat[, i]=9.74315206543016` = 1L, \n . `res.cat[, i]=9.74932254408172` = 1L, `res.cat[, i]=9.7768782282333` = 1L, \n . `res.cat[, i]=9.77708424568539` = 1L, `res.cat[, i]=9.7777229139345` = 1L, \n . `res.cat[, i]=9.78901112074124` = 1L, `res.cat[, i]=9.7901448352813` = 1L, \n . `res.cat[, i]=9.80561833734166` = 1L, `res.cat[, i]=9.81545063642185` = 1L, \n . `res.cat[, i]=9.81654327252583` = 1L, `res.cat[, i]=9.8316294301329` = 1L, \n . `res.cat[, i]=9.83385361083232` = 1L, `res.cat[, i]=9.84741473502023` = 1L, \n . `res.cat[, i]=9.85452266472552` = 1L, `res.cat[, i]=9.86700124677017` = 1L, \n . `res.cat[, i]=9.86827013876234` = 1L, `res.cat[, i]=9.87388821461187` = 1L, \n . `res.cat[, i]=9.88873729944753` = 1L, `res.cat[, i]=9.89066429839093` = 1L, \n . `res.cat[, i]=9.91062929266578` = 1L, `res.cat[, i]=9.91992471226028` = 1L, \n . `res.cat[, i]=9.94957171763714` = 1L, `res.cat[, i]=9.951390023969` = 1L, \n . `res.cat[, i]=9.95147780898619` = 1L, `res.cat[, i]=9.95247218815125` = 1L, \n . `res.cat[, i]=9.96273999833697` = 1L, `res.cat[, i]=9.96544506614963` = 1L, \n . `res.cat[, i]=9.97341742251909` = 1L), type = \"right\", logse = TRUE, \n .     conf.int = 0.95, conf.type = \"log\", lower = c(1, NA, NA, \n .     NA, 1, 1, 1, 1, 1, 1, 1, 1, NA, NA, NA, 1, 1, NA, 1, NA, \n .     1, NA, 1, NA, NA, 1, NA, NA, 1, 1, NA, 1, NA, NA, NA, NA, \n .     NA, 1, 1, 1, 1, NA, NA, NA, 1, NA, NA, NA, NA, NA, 1, 1, \n .     NA, 1, NA, NA, 1, 1, 1, NA, NA, 1, NA, 1, NA, 1, 1, NA, 1, \n .     1, 1, NA, NA, 1, 1, 1, NA, 1, NA, NA, 1, 1, NA, NA, NA, NA, \n .     NA, 1, 1, NA, 1, NA, NA, 1, 1, NA, NA, NA, NA, NA, NA, 1, \n .     NA, NA, NA, NA, 1, NA, NA, 1, NA, NA, NA, NA, NA, NA, NA, \n .     NA, NA, 1, NA, 1, 1, 1, NA, 1, NA, NA, 1, 1, NA, NA, NA, \n .     1, 1, 1, 1, NA, 1, 1, NA, NA, 1, 1, 1, NA, NA, NA, NA, 1, \n .     NA, 1, NA, NA, NA, 1, 1, 1, NA, 1, NA, NA, NA, NA, NA, NA, \n .     NA, 1, NA, 1, NA, NA, 1, 1, NA, NA, NA, NA, 1, NA, NA, NA, \n .     1, NA, NA, NA, NA, NA, NA, NA, NA, NA, NA, NA, NA, NA, NA, \n .     1, NA, 1, NA, NA, 1, NA, NA, 1, NA, 1, NA, NA, 1, NA, NA, \n .     NA, NA, NA, NA, NA, NA, 1, NA, NA, NA, NA, NA, NA, NA, 1, \n .     NA, 1, 1, 1, 1, NA, 1, NA, NA, 1, NA, NA, 1, NA, NA, 1, 1, \n .     NA, NA, NA, NA, NA, 1, NA, NA, 1, 1, NA, NA, 1, NA, NA, NA, \n .     1, 1, NA, NA, 1, NA, NA, NA, NA, NA, NA, 1, NA, NA, NA, NA, \n .     1, 1, NA, NA, 1, NA, NA, NA, 1, 1, NA, NA, 1, NA, NA, NA, \n .     1, NA, NA, NA, 1, 1, NA, NA, NA, 1, NA, 1, NA, NA, 1, 1, \n .     NA, 1, 1, 1, NA, 1, NA, NA, NA, 1, 1, 1, NA, 1, 1, NA, NA, \n .     1, 1, 1, NA, 1, NA, NA, 1, 1, 1, 1, NA, NA, NA, NA, 1, 1, \n .     NA, NA, NA, NA, 1, 1, NA, NA, NA, NA, 1, NA, NA, 1, NA, 1, \n .     1, 1, NA, 1, NA, NA, NA, 1, NA), upper = c(1, NA, NA, NA, \n .     1, 1, 1, 1, 1, 1, 1, 1, NA, NA, NA, 1, 1, NA, 1, NA, 1, NA, \n .     1, NA, NA, 1, NA, NA, 1, 1, NA, 1, NA, NA, NA, NA, NA, 1, \n .     1, 1, 1, NA, NA, NA, 1, NA, NA, NA, NA, NA, 1, 1, NA, 1, \n .     NA, NA, 1, 1, 1, NA, NA, 1, NA, 1, NA, 1, 1, NA, 1, 1, 1, \n .     NA, NA, 1, 1, 1, NA, 1, NA, NA, 1, 1, NA, NA, NA, NA, NA, \n .     1, 1, NA, 1, NA, NA, 1, 1, NA, NA, NA, NA, NA, NA, 1, NA, \n .     NA, NA, NA, 1, NA, NA, 1, NA, NA, NA, NA, NA, NA, NA, NA, \n .     NA, 1, NA, 1, 1, 1, NA, 1, NA, NA, 1, 1, NA, NA, NA, 1, 1, \n .     1, 1, NA, 1, 1, NA, NA, 1, 1, 1, NA, NA, NA, NA, 1, NA, 1, \n .     NA, NA, NA, 1, 1, 1, NA, 1, NA, NA, NA, NA, NA, NA, NA, 1, \n .     NA, 1, NA, NA, 1, 1, NA, NA, NA, NA, 1, NA, NA, NA, 1, NA, \n .     NA, NA, NA, NA, NA, NA, NA, NA, NA, NA, NA, NA, NA, 1, NA, \n .     1, NA, NA, 1, NA, NA, 1, NA, 1, NA, NA, 1, NA, NA, NA, NA, \n .     NA, NA, NA, NA, 1, NA, NA, NA, NA, NA, NA, NA, 1, NA, 1, \n .     1, 1, 1, NA, 1, NA, NA, 1, NA, NA, 1, NA, NA, 1, 1, NA, NA, \n .     NA, NA, NA, 1, NA, NA, 1, 1, NA, NA, 1, NA, NA, NA, 1, 1, \n .     NA, NA, 1, NA, NA, NA, NA, NA, NA, 1, NA, NA, NA, NA, 1, \n .     1, NA, NA, 1, NA, NA, NA, 1, 1, NA, NA, 1, NA, NA, NA, 1, \n .     NA, NA, NA, 1, 1, NA, NA, NA, 1, NA, 1, NA, NA, 1, 1, NA, \n .     1, 1, 1, NA, 1, NA, NA, NA, 1, 1, 1, NA, 1, 1, NA, NA, 1, \n .     1, 1, NA, 1, NA, NA, 1, 1, 1, 1, NA, NA, NA, NA, 1, 1, NA, \n .     NA, NA, NA, 1, 1, NA, NA, NA, NA, 1, NA, NA, 1, NA, 1, 1, \n .     1, NA, 1, NA, NA, NA, 1, NA), call = survfit(formula = Surv(OS.time, \n .         OS) ~ res.cat[, i], data = res.cat)), class = \"survfit\"), \n .     data = structure(list(OS.time = c(1.03, 1.03, 1.1, 1.2, 1.77, \n .     2.03, 2.03, 2.17, 2.23, 2.7, 2.77, 2.97, 3, 3.03, 3.07, 3.07, \n .     3.27, 3.5, 3.53, 3.77, 3.87, 4.07, 4.3, 4.33, 4.43, 4.6, \n .     4.83, 4.9, 5.43, 5.43, 5.5, 5.6, 5.6, 5.87, 6.03, 6.1, 6.2, \n .     6.2, 6.3, 6.33, 6.4, 6.47, 6.57, 6.8, 7.33, 7.73, 7.93, 7.97, \n .     8.1, 8.43, 8.5, 8.93, 9.23, 9.53, 10.13, 10.13, 10.4, 11.2, \n .     11.27, 11.43, 11.53, 11.8, 12, 12.03, 12.03, 12.47, 12.57, \n .     12.63, 12.63, 13.13, 13.17, 13.2, 14.7, 14.73, 14.87, 15.13, \n .     15.17, 15.23, 15.4, 15.6, 15.97, 16.87, 17.17, 17.27, 17.47, \n .     17.57, 17.6, 17.63, 17.7, 18.07, 18.23, 18.23, 18.23, 18.5, \n .     18.73, 18.77, 18.83, 18.93, 19.03, 19.2, 19.43, 19.63, 19.73, \n .     19.8, 19.93, 20.27, 20.27, 20.63, 20.8, 20.9, 20.97, 20.97, \n .     21.2, 21.23, 21.23, 21.43, 21.83, 22.53, 22.53, 22.63, 22.63, \n .     22.63, 22.7, 22.8, 22.87, 23, 23.17, 23.3, 23.37, 24.33, \n .     24.37, 24.57, 24.7, 25.03, 25.37, 25.43, 25.73, 26.1, 26.57, \n .     27.2, 27.33, 27.33, 27.37, 27.9, 28.27, 28.57, 28.77, 28.93, \n .     29.03, 29.17, 29.43, 29.5, 29.5, 29.53, 29.57, 29.83, 30.47, \n .     30.5, 30.6, 30.63, 30.93, 31.07, 31.07, 31.07, 31.57, 31.63, \n .     31.63, 31.63, 31.7, 31.73, 31.73, 31.87, 32.07, 32.23, 32.53, \n .     32.97, 33.33, 33.93, 34.13, 34.13, 34.4, 34.43, 34.63, 34.87, \n .     35.1, 35.27, 35.3, 35.47, 35.63, 35.77, 36.07, 36.27, 36.3, \n .     36.37, 36.73, 36.73, 36.77, 36.8, 37.13, 37.43, 37.57, 38.5, \n .     38.57, 38.6, 38.7, 38.73, 38.77, 38.97, 39.57, 39.63, 39.97, \n .     40.3, 40.4, 40.43, 40.97, 41.1, 41.57, 41.63, 41.63, 41.97, \n .     42.13, 42.2, 42.57, 42.6, 42.63, 43.1, 43.8, 43.97, 44.13, \n .     44.53, 44.7, 44.73, 44.93, 45.13, 45.13, 45.17, 45.17, 45.23, \n .     45.3, 45.47, 45.47, 45.53, 45.63, 45.73, 46, 46.13, 46.2, \n .     46.3, 47.27, 48.07, 48.2, 48.2, 48.27, 48.37, 49, 49.47, \n .     49.47, 49.47, 49.73, 49.97, 50.1, 50.37, 50.53, 52.07, 52.43, \n .     52.63, 52.63, 52.77, 52.77, 54, 54.87, 55, 55.27, 55.4, 56, \n .     56.13, 56.27, 56.63, 57.33, 57.37, 57.4, 57.5, 57.87, 58.07, \n .     58.4, 58.57, 58.9, 58.97, 59.47, 59.5, 59.97, 60.5, 61.43, \n .     61.47, 62.73, 63.03, 63.33, 63.97, 63.97, 64.43, 64.87, 64.9, \n .     65.17, 65.9, 65.9, 66.43, 66.43, 66.6, 66.97, 67.07, 67.6, \n .     67.73, 68.3, 69.63, 69.9, 70.7, 71.43, 71.43, 71.8, 72.73, \n .     77.93, 78.17, 78.97, 80, 81.27, 82.13, 82.23, 82.3, 83, 84.47, \n .     84.9, 85.1, 85.1, 85.37, 87.13, 87.2, 87.37, 87.37, 87.8, \n .     88.7, 88.7, 89.6, 90.57, 91.4, 91.63, 93.7, 103.2, 104.27, \n .     107.47, 108.67, 110.83, 111.23, 112.93, 113.33, 116.67, 117.5, \n .     117.73, 120.63, 120.73, 124.87, 127.3, 127.5, 129.03, 131.77, \n .     135.9, 154.13, 155.5, 182.7), OS = c(1L, 1L, 0L, 0L, 1L, \n .     1L, 0L, 1L, 0L, 0L, 1L, 0L, 1L, 1L, 1L, 0L, 0L, 0L, 0L, 0L, \n .     0L, 0L, 1L, 0L, 0L, 1L, 0L, 0L, 0L, 0L, 0L, 0L, 0L, 0L, 0L, \n .     0L, 1L, 0L, 1L, 0L, 0L, 0L, 1L, 0L, 0L, 0L, 0L, 0L, 0L, 0L, \n .     0L, 0L, 0L, 1L, 1L, 1L, 1L, 1L, 0L, 0L, 1L, 1L, 0L, 1L, 0L, \n .     0L, 1L, 0L, 1L, 1L, 1L, 1L, 0L, 0L, 1L, 0L, 1L, 1L, 1L, 0L, \n .     1L, 1L, 1L, 1L, 1L, 0L, 1L, 0L, 1L, 1L, 1L, 0L, 0L, 1L, 1L, \n .     1L, 1L, 1L, 0L, 0L, 1L, 0L, 1L, 1L, 1L, 1L, 1L, 1L, 1L, 1L, \n .     1L, 1L, 1L, 1L, 1L, 0L, 0L, 1L, 1L, 1L, 1L, 0L, 1L, 0L, 0L, \n .     1L, 1L, 0L, 1L, 1L, 1L, 1L, 0L, 0L, 0L, 0L, 0L, 0L, 0L, 0L, \n .     1L, 1L, 1L, 0L, 0L, 1L, 1L, 1L, 1L, 0L, 1L, 0L, 1L, 0L, 1L, \n .     1L, 1L, 0L, 0L, 1L, 0L, 0L, 0L, 0L, 0L, 1L, 1L, 1L, 1L, 1L, \n .     0L, 0L, 1L, 0L, 1L, 0L, 1L, 1L, 1L, 1L, 1L, 1L, 1L, 1L, 0L, \n .     1L, 1L, 1L, 1L, 1L, 1L, 1L, 1L, 1L, 1L, 1L, 1L, 1L, 1L, 1L, \n .     0L, 1L, 1L, 1L, 1L, 1L, 1L, 1L, 1L, 1L, 1L, 0L, 0L, 1L, 1L, \n .     0L, 1L, 1L, 1L, 1L, 1L, 1L, 0L, 1L, 1L, 0L, 1L, 1L, 1L, 1L, \n .     1L, 0L, 1L, 1L, 1L, 1L, 1L, 0L, 1L, 0L, 1L, 1L, 1L, 0L, 1L, \n .     1L, 0L, 1L, 0L, 1L, 1L, 1L, 1L, 1L, 1L, 1L, 1L, 1L, 1L, 1L, \n .     0L, 1L, 1L, 1L, 0L, 1L, 1L, 1L, 1L, 1L, 1L, 1L, 0L, 1L, 1L, \n .     0L, 1L, 1L, 1L, 1L, 0L, 1L, 1L, 1L, 0L, 1L, 1L, 1L, 1L, 0L, \n .     1L, 1L, 1L, 0L, 0L, 1L, 0L, 0L, 0L, 1L, 1L, 1L, 1L, 1L, 0L, \n .     1L, 0L, 0L, 1L, 1L, 1L, 0L, 1L, 1L, 1L, 0L, 0L, 0L, 1L, 1L, \n .     0L, 1L, 0L, 1L, 0L, 0L, 1L, 0L, 1L, 0L, 0L, 1L, 1L, 1L, 0L, \n .     0L, 1L, 1L, 1L, 0L, 0L, 1L, 1L, 1L, 1L, 1L, 0L, 1L, 1L, 1L, \n .     0L, 1L, 0L, 0L, 0L, 0L, 0L, 0L, 1L, 0L, 1L, 0L, 0L, 0L, 0L, \n .     1L, 0L, 0L), IL6 = c(\"low\", \"low\", \"low\", \"low\", \"high\", \n .     \"high\", \"low\", \"low\", \"high\", \"low\", \"low\", \"low\", \"low\", \n .     \"low\", \"low\", \"low\", \"low\", \"low\", \"low\", \"low\", \"low\", \"low\", \n .     \"low\", \"low\", \"low\", \"low\", \"low\", \"high\", \"low\", \"low\", \n .     \"low\", \"high\", \"low\", \"low\", \"high\", \"high\", \"low\", \"low\", \n .     \"high\", \"low\", \"low\", \"high\", \"low\", \"high\", \"low\", \"low\", \n .     \"low\", \"low\", \"high\", \"low\", \"low\", \"low\", \"low\", \"low\", \n .     \"low\", \"low\", \"low\", \"low\", \"low\", \"low\", \"low\", \"low\", \"low\", \n .     \"high\", \"low\", \"high\", \"low\", \"low\", \"low\", \"low\", \"low\", \n .     \"high\", \"low\", \"low\", \"low\", \"low\", \"low\", \"low\", \"low\", \n .     \"low\", \"low\", \"low\", \"high\", \"high\", \"low\", \"low\", \"low\", \n .     \"low\", \"low\", \"high\", \"high\", \"low\", \"low\", \"low\", \"low\", \n .     \"low\", \"high\", \"high\", \"low\", \"low\", \"low\", \"low\", \"high\", \n .     \"low\", \"high\", \"high\", \"low\", \"low\", \"low\", \"low\", \"low\", \n .     \"low\", \"low\", \"low\", \"high\", \"low\", \"low\", \"low\", \"low\", \n .     \"low\", \"low\", \"low\", \"low\", \"high\", \"low\", \"low\", \"low\", \n .     \"high\", \"high\", \"low\", \"low\", \"low\", \"low\", \"low\", \"low\", \n .     \"low\", \"low\", \"low\", \"low\", \"high\", \"low\", \"low\", \"low\", \n .     \"high\", \"high\", \"high\", \"low\", \"low\", \"low\", \"low\", \"low\", \n .     \"low\", \"low\", \"high\", \"low\", \"high\", \"low\", \"low\", \"low\", \n .     \"high\", \"low\", \"high\", \"low\", \"low\", \"low\", \"low\", \"low\", \n .     \"low\", \"high\", \"low\", \"low\", \"low\", \"high\", \"high\", \"low\", \n .     \"low\", \"high\", \"low\", \"low\", \"low\", \"low\", \"low\", \"high\", \n .     \"high\", \"low\", \"low\", \"high\", \"high\", \"low\", \"low\", \"low\", \n .     \"low\", \"low\", \"low\", \"low\", \"low\", \"low\", \"low\", \"low\", \"low\", \n .     \"low\", \"low\", \"low\", \"low\", \"low\", \"low\", \"low\", \"low\", \"low\", \n .     \"high\", \"low\", \"low\", \"low\", \"low\", \"low\", \"high\", \"high\", \n .     \"high\", \"low\", \"low\", \"low\", \"low\", \"low\", \"low\", \"low\", \n .     \"low\", \"low\", \"low\", \"low\", \"low\", \"low\", \"high\", \"low\", \n .     \"low\", \"low\", \"low\", \"low\", \"low\", \"low\", \"high\", \"low\", \n .     \"high\", \"low\", \"low\", \"high\", \"low\", \"low\", \"low\", \"high\", \n .     \"low\", \"low\", \"low\", \"low\", \"high\", \"low\", \"high\", \"low\", \n .     \"low\", \"high\", \"low\", \"low\", \"low\", \"low\", \"low\", \"low\", \n .     \"low\", \"low\", \"low\", \"low\", \"high\", \"low\", \"low\", \"low\", \n .     \"low\", \"low\", \"high\", \"low\", \"low\", \"low\", \"low\", \"high\", \n .     \"low\", \"low\", \"low\", \"low\", \"low\", \"low\", \"low\", \"high\", \n .     \"low\", \"low\", \"low\", \"high\", \"high\", \"high\", \"high\", \"low\", \n .     \"low\", \"low\", \"high\", \"low\", \"low\", \"low\", \"low\", \"low\", \n .     \"high\", \"low\", \"low\", \"low\", \"high\", \"high\", \"low\", \"high\", \n .     \"high\", \"low\", \"low\", \"high\", \"low\", \"high\", \"low\", \"low\", \n .     \"low\", \"high\", \"low\", \"low\", \"low\", \"low\", \"low\", \"low\", \n .     \"low\", \"high\", \"low\", \"high\", \"low\", \"high\", \"low\", \"low\", \n .     \"low\", \"low\", \"low\", \"low\", \"low\", \"low\", \"low\", \"low\", \"low\", \n .     \"low\", \"low\", \"low\", \"low\", \"low\", \"low\", \"low\", \"low\", \"high\", \n .     \"low\", \"low\", \"high\", \"high\", \"low\", \"low\", \"low\", \"high\", \n .     \"low\", \"high\", \"low\", \"high\", \"high\"), CD14 = c(\"high\", \"low\", \n .     \"low\", \"low\", \"low\", \"low\", \"low\", \"low\", \"high\", \"low\", \n .     \"low\", \"low\", \"high\", \"low\", \"low\", \"low\", \"low\", \"low\", \n .     \"low\", \"low\", \"low\", \"high\", \"low\", \"low\", \"low\", \"low\", \n .     \"low\", \"low\", \"low\", \"low\", \"low\", \"low\", \"low\", \"low\", \"low\", \n .     \"low\", \"low\", \"high\", \"low\", \"low\", \"low\", \"low\", \"high\", \n .     \"high\", \"high\", \"low\", \"low\", \"low\", \"low\", \"low\", \"high\", \n .     \"low\", \"low\", \"low\", \"low\", \"low\", \"low\", \"low\", \"low\", \"low\", \n .     \"low\", \"low\", \"low\", \"low\", \"low\", \"low\", \"low\", \"low\", \"low\", \n .     \"low\", \"low\", \"low\", \"low\", \"low\", \"low\", \"low\", \"low\", \"low\", \n .     \"low\", \"low\", \"low\", \"low\", \"low\", \"high\", \"low\", \"low\", \n .     \"low\", \"low\", \"high\", \"low\", \"low\", \"low\", \"low\", \"low\", \n .     \"low\", \"low\", \"low\", \"high\", \"low\", \"low\", \"low\", \"low\", \n .     \"high\", \"low\", \"high\", \"low\", \"low\", \"low\", \"low\", \"low\", \n .     \"low\", \"low\", \"low\", \"low\", \"low\", \"low\", \"low\", \"low\", \"low\", \n .     \"low\", \"low\", \"low\", \"low\", \"low\", \"low\", \"low\", \"low\", \"low\", \n .     \"high\", \"low\", \"low\", \"low\", \"low\", \"low\", \"low\", \"low\", \n .     \"low\", \"low\", \"high\", \"low\", \"high\", \"low\", \"low\", \"low\", \n .     \"low\", \"high\", \"low\", \"low\", \"low\", \"low\", \"low\", \"low\", \n .     \"low\", \"low\", \"low\", \"low\", \"low\", \"low\", \"low\", \"high\", \n .     \"low\", \"low\", \"low\", \"low\", \"low\", \"low\", \"low\", \"low\", \"high\", \n .     \"low\", \"low\", \"low\", \"low\", \"low\", \"low\", \"low\", \"low\", \"high\", \n .     \"low\", \"low\", \"low\", \"low\", \"low\", \"low\", \"low\", \"low\", \"low\", \n .     \"low\", \"low\", \"high\", \"low\", \"low\", \"low\", \"low\", \"low\", \n .     \"high\", \"low\", \"low\", \"low\", \"low\", \"low\", \"low\", \"low\", \n .     \"low\", \"high\", \"high\", \"low\", \"low\", \"low\", \"low\", \"low\", \n .     \"low\", \"low\", \"low\", \"high\", \"low\", \"low\", \"high\", \"low\", \n .     \"low\", \"low\", \"low\", \"low\", \"low\", \"low\", \"low\", \"low\", \"low\", \n .     \"low\", \"low\", \"low\", \"high\", \"low\", \"low\", \"low\", \"high\", \n .     \"low\", \"low\", \"low\", \"low\", \"low\", \"low\", \"low\", \"low\", \"low\", \n .     \"low\", \"low\", \"low\", \"low\", \"low\", \"low\", \"high\", \"high\", \n .     \"low\", \"low\", \"low\", \"low\", \"low\", \"low\", \"low\", \"low\", \"low\", \n .     \"low\", \"low\", \"low\", \"low\", \"low\", \"low\", \"low\", \"low\", \"low\", \n .     \"low\", \"low\", \"low\", \"low\", \"low\", \"low\", \"low\", \"low\", \"low\", \n .     \"low\", \"low\", \"low\", \"low\", \"low\", \"high\", \"high\", \"low\", \n .     \"high\", \"low\", \"low\", \"low\", \"low\", \"low\", \"low\", \"low\", \n .     \"high\", \"low\", \"low\", \"low\", \"low\", \"low\", \"low\", \"low\", \n .     \"low\", \"low\", \"low\", \"low\", \"low\", \"low\", \"low\", \"low\", \"low\", \n .     \"low\", \"low\", \"low\", \"low\", \"low\", \"low\", \"low\", \"low\", \"low\", \n .     \"low\", \"low\", \"low\", \"low\", \"high\", \"low\", \"low\", \"low\", \n .     \"low\", \"low\", \"low\", \"low\", \"high\", \"low\", \"low\", \"low\", \n .     \"low\", \"low\", \"low\", \"low\", \"low\", \"low\", \"low\", \"low\", \"low\", \n .     \"low\", \"low\", \"low\", \"low\", \"low\", \"low\", \"low\", \"low\", \"low\", \n .     \"low\", \"low\", \"low\", \"low\", \"low\", \"low\", \"low\", \"low\", \"low\", \n .     \"low\", \"low\", \"low\"), FOXP3 = c(\"high\", \"low\", \"low\", \"low\", \n .     \"high\", \"low\", \"high\", \"high\", \"high\", \"low\", \"low\", \"low\", \n .     \"high\", \"high\", \"high\", \"low\", \"high\", \"high\", \"high\", \"high\", \n .     \"low\", \"high\", \"high\", \"high\", \"high\", \"low\", \"low\", \"high\", \n .     \"high\", \"low\", \"low\", \"low\", \"high\", \"low\", \"high\", \"low\", \n .     \"high\", \"high\", \"low\", \"high\", \"low\", \"low\", \"low\", \"high\", \n .     \"high\", \"low\", \"high\", \"low\", \"low\", \"high\", \"high\", \"low\", \n .     \"high\", \"high\", \"low\", \"low\", \"low\", \"high\", \"low\", \"high\", \n .     \"low\", \"low\", \"low\", \"high\", \"low\", \"low\", \"high\", \"low\", \n .     \"high\", \"low\", \"high\", \"low\", \"high\", \"high\", \"low\", \"high\", \n .     \"low\", \"low\", \"low\", \"low\", \"high\", \"high\", \"low\", \"high\", \n .     \"low\", \"low\", \"high\", \"high\", \"high\", \"low\", \"low\", \"low\", \n .     \"high\", \"low\", \"low\", \"low\", \"high\", \"high\", \"low\", \"low\", \n .     \"low\", \"high\", \"high\", \"low\", \"high\", \"high\", \"high\", \"high\", \n .     \"high\", \"high\", \"low\", \"low\", \"low\", \"low\", \"low\", \"low\", \n .     \"low\", \"low\", \"high\", \"low\", \"low\", \"low\", \"low\", \"high\", \n .     \"high\", \"low\", \"low\", \"low\", \"high\", \"low\", \"low\", \"high\", \n .     \"low\", \"high\", \"high\", \"low\", \"low\", \"low\", \"high\", \"high\", \n .     \"high\", \"low\", \"high\", \"high\", \"low\", \"high\", \"low\", \"low\", \n .     \"low\", \"high\", \"low\", \"high\", \"low\", \"high\", \"low\", \"high\", \n .     \"low\", \"high\", \"high\", \"high\", \"high\", \"high\", \"high\", \"high\", \n .     \"high\", \"high\", \"low\", \"low\", \"high\", \"high\", \"high\", \"low\", \n .     \"high\", \"low\", \"low\", \"high\", \"low\", \"high\", \"high\", \"low\", \n .     \"low\", \"low\", \"high\", \"high\", \"high\", \"low\", \"high\", \"low\", \n .     \"low\", \"low\", \"low\", \"high\", \"low\", \"low\", \"low\", \"high\", \n .     \"low\", \"high\", \"low\", \"high\", \"low\", \"high\", \"low\", \"low\", \n .     \"high\", \"low\", \"low\", \"low\", \"low\", \"low\", \"high\", \"high\", \n .     \"high\", \"high\", \"low\", \"low\", \"low\", \"low\", \"high\", \"low\", \n .     \"low\", \"low\", \"high\", \"high\", \"high\", \"high\", \"high\", \"high\", \n .     \"high\", \"low\", \"low\", \"high\", \"high\", \"low\", \"low\", \"high\", \n .     \"low\", \"high\", \"high\", \"high\", \"low\", \"high\", \"high\", \"high\", \n .     \"low\", \"high\", \"high\", \"high\", \"high\", \"low\", \"low\", \"high\", \n .     \"high\", \"low\", \"high\", \"low\", \"high\", \"low\", \"low\", \"high\", \n .     \"high\", \"low\", \"high\", \"high\", \"low\", \"high\", \"high\", \"high\", \n .     \"high\", \"low\", \"low\", \"low\", \"low\", \"low\", \"high\", \"high\", \n .     \"low\", \"high\", \"high\", \"high\", \"low\", \"low\", \"low\", \"low\", \n .     \"high\", \"low\", \"high\", \"low\", \"high\", \"high\", \"low\", \"high\", \n .     \"high\", \"low\", \"high\", \"high\", \"high\", \"high\", \"low\", \"high\", \n .     \"low\", \"low\", \"high\", \"high\", \"low\", \"high\", \"low\", \"high\", \n .     \"low\", \"high\", \"low\", \"low\", \"high\", \"low\", \"high\", \"high\", \n .     \"low\", \"high\", \"high\", \"high\", \"high\", \"low\", \"high\", \"high\", \n .     \"high\", \"high\", \"high\", \"high\", \"low\", \"low\", \"high\", \"high\", \n .     \"low\", \"low\", \"high\", \"high\", \"low\", \"high\", \"low\", \"high\", \n .     \"low\", \"low\", \"low\", \"low\", \"low\", \"low\", \"low\", \"low\", \"low\", \n .     \"high\", \"high\", \"low\", \"high\", \"low\", \"high\", \"high\", \"high\", \n .     \"high\", \"high\", \"high\", \"low\", \"high\", \"high\", \"high\", \"high\", \n .     \"low\", \"high\", \"high\"), CD69 = c(\"high\", \"low\", \"low\", \"low\", \n .     \"high\", \"low\", \"high\", \"low\", \"high\", \"high\", \"low\", \"high\", \n .     \"high\", \"high\", \"high\", \"high\", \"low\", \"high\", \"high\", \"low\", \n .     \"low\", \"low\", \"high\", \"high\", \"high\", \"low\", \"low\", \"high\", \n .     \"high\", \"low\", \"low\", \"high\", \"high\", \"low\", \"high\", \"low\", \n .     \"high\", \"high\", \"low\", \"low\", \"low\", \"high\", \"low\", \"high\", \n .     \"low\", \"low\", \"high\", \"low\", \"high\", \"high\", \"high\", \"low\", \n .     \"high\", \"low\", \"low\", \"low\", \"high\", \"high\", \"low\", \"high\", \n .     \"low\", \"low\", \"low\", \"low\", \"low\", \"high\", \"high\", \"high\", \n .     \"low\", \"high\", \"low\", \"high\", \"high\", \"low\", \"low\", \"low\", \n .     \"high\", \"low\", \"low\", \"low\", \"high\", \"high\", \"high\", \"high\", \n .     \"low\", \"low\", \"low\", \"low\", \"high\", \"low\", \"low\", \"high\", \n .     \"high\", \"low\", \"low\", \"low\", \"high\", \"high\", \"low\", \"low\", \n .     \"low\", \"high\", \"high\", \"low\", \"high\", \"low\", \"high\", \"high\", \n .     \"high\", \"high\", \"low\", \"low\", \"low\", \"low\", \"low\", \"low\", \n .     \"low\", \"high\", \"high\", \"low\", \"low\", \"low\", \"low\", \"high\", \n .     \"high\", \"high\", \"high\", \"high\", \"low\", \"high\", \"low\", \"high\", \n .     \"low\", \"high\", \"high\", \"low\", \"low\", \"low\", \"high\", \"high\", \n .     \"high\", \"low\", \"low\", \"high\", \"low\", \"high\", \"low\", \"low\", \n .     \"high\", \"high\", \"high\", \"high\", \"low\", \"low\", \"high\", \"low\", \n .     \"low\", \"high\", \"high\", \"high\", \"low\", \"high\", \"high\", \"low\", \n .     \"high\", \"low\", \"low\", \"low\", \"high\", \"high\", \"high\", \"high\", \n .     \"high\", \"low\", \"high\", \"high\", \"high\", \"high\", \"low\", \"low\", \n .     \"low\", \"high\", \"low\", \"high\", \"high\", \"low\", \"high\", \"high\", \n .     \"low\", \"low\", \"low\", \"low\", \"high\", \"low\", \"high\", \"high\", \n .     \"low\", \"high\", \"low\", \"low\", \"low\", \"high\", \"high\", \"high\", \n .     \"high\", \"high\", \"low\", \"low\", \"low\", \"high\", \"high\", \"high\", \n .     \"low\", \"low\", \"high\", \"high\", \"high\", \"high\", \"high\", \"low\", \n .     \"low\", \"high\", \"high\", \"high\", \"low\", \"high\", \"low\", \"high\", \n .     \"high\", \"low\", \"high\", \"high\", \"high\", \"low\", \"low\", \"high\", \n .     \"low\", \"high\", \"high\", \"high\", \"high\", \"high\", \"low\", \"low\", \n .     \"low\", \"low\", \"high\", \"low\", \"high\", \"low\", \"low\", \"high\", \n .     \"high\", \"high\", \"low\", \"high\", \"low\", \"high\", \"high\", \"high\", \n .     \"high\", \"low\", \"high\", \"low\", \"high\", \"high\", \"high\", \"high\", \n .     \"low\", \"low\", \"low\", \"low\", \"low\", \"low\", \"low\", \"high\", \n .     \"low\", \"low\", \"low\", \"high\", \"high\", \"low\", \"high\", \"low\", \n .     \"high\", \"high\", \"high\", \"high\", \"high\", \"low\", \"low\", \"low\", \n .     \"low\", \"high\", \"high\", \"high\", \"high\", \"high\", \"low\", \"high\", \n .     \"low\", \"low\", \"low\", \"low\", \"low\", \"high\", \"low\", \"high\", \n .     \"high\", \"high\", \"high\", \"high\", \"high\", \"low\", \"low\", \"high\", \n .     \"high\", \"high\", \"high\", \"low\", \"high\", \"low\", \"high\", \"high\", \n .     \"high\", \"low\", \"high\", \"low\", \"low\", \"low\", \"high\", \"low\", \n .     \"low\", \"low\", \"high\", \"high\", \"low\", \"high\", \"high\", \"high\", \n .     \"low\", \"high\", \"high\", \"low\", \"high\", \"low\", \"low\", \"low\", \n .     \"low\", \"high\", \"high\", \"low\", \"high\", \"low\", \"high\", \"low\", \n .     \"high\", \"high\", \"high\", \"low\", \"low\", \"high\", \"high\", \"high\", \n .     \"high\", \"low\", \"high\", \"high\"), CD4 = c(\"high\", \"high\", \"low\", \n .     \"high\", \"high\", \"low\", \"high\", \"high\", \"high\", \"high\", \"high\", \n .     \"low\", \"high\", \"high\", \"high\", \"high\", \"high\", \"high\", \"high\", \n .     \"high\", \"high\", \"high\", \"high\", \"high\", \"high\", \"high\", \"high\", \n .     \"high\", \"high\", \"high\", \"low\", \"high\", \"high\", \"high\", \"high\", \n .     \"high\", \"high\", \"high\", \"high\", \"high\", \"high\", \"high\", \"high\", \n .     \"high\", \"high\", \"high\", \"high\", \"low\", \"high\", \"high\", \"high\", \n .     \"high\", \"high\", \"high\", \"high\", \"high\", \"high\", \"high\", \"high\", \n .     \"high\", \"high\", \"high\", \"high\", \"high\", \"low\", \"high\", \"high\", \n .     \"high\", \"high\", \"high\", \"high\", \"high\", \"high\", \"high\", \"low\", \n .     \"high\", \"high\", \"high\", \"high\", \"low\", \"high\", \"high\", \"high\", \n .     \"high\", \"low\", \"low\", \"high\", \"high\", \"high\", \"high\", \"high\", \n .     \"high\", \"high\", \"high\", \"high\", \"high\", \"high\", \"high\", \"high\", \n .     \"high\", \"high\", \"high\", \"high\", \"high\", \"high\", \"high\", \"high\", \n .     \"high\", \"low\", \"high\", \"high\", \"high\", \"low\", \"high\", \"high\", \n .     \"high\", \"high\", \"high\", \"high\", \"low\", \"high\", \"high\", \"low\", \n .     \"high\", \"high\", \"high\", \"high\", \"high\", \"high\", \"low\", \"high\", \n .     \"high\", \"high\", \"high\", \"high\", \"high\", \"low\", \"low\", \"high\", \n .     \"high\", \"high\", \"low\", \"high\", \"high\", \"high\", \"high\", \"high\", \n .     \"high\", \"high\", \"high\", \"high\", \"high\", \"high\", \"high\", \"low\", \n .     \"high\", \"high\", \"high\", \"high\", \"high\", \"high\", \"high\", \"high\", \n .     \"high\", \"high\", \"high\", \"low\", \"high\", \"high\", \"high\", \"high\", \n .     \"high\", \"high\", \"high\", \"high\", \"high\", \"high\", \"high\", \"high\", \n .     \"low\", \"low\", \"high\", \"high\", \"high\", \"high\", \"low\", \"high\", \n .     \"high\", \"high\", \"high\", \"high\", \"high\", \"high\", \"low\", \"high\", \n .     \"high\", \"low\", \"high\", \"high\", \"high\", \"high\", \"high\", \"high\", \n .     \"low\", \"high\", \"high\", \"high\", \"high\", \"high\", \"high\", \"high\", \n .     \"high\", \"high\", \"high\", \"high\", \"high\", \"high\", \"high\", \"high\", \n .     \"high\", \"low\", \"high\", \"high\", \"high\", \"high\", \"high\", \"high\", \n .     \"high\", \"high\", \"high\", \"high\", \"high\", \"high\", \"high\", \"high\", \n .     \"high\", \"low\", \"high\", \"high\", \"high\", \"high\", \"high\", \"high\", \n .     \"high\", \"low\", \"high\", \"high\", \"high\", \"high\", \"high\", \"high\", \n .     \"high\", \"high\", \"high\", \"high\", \"high\", \"low\", \"high\", \"high\", \n .     \"high\", \"high\", \"low\", \"high\", \"high\", \"low\", \"high\", \"high\", \n .     \"high\", \"low\", \"low\", \"low\", \"high\", \"low\", \"low\", \"high\", \n .     \"high\", \"high\", \"low\", \"low\", \"high\", \"high\", \"low\", \"high\", \n .     \"low\", \"high\", \"high\", \"high\", \"high\", \"high\", \"high\", \"low\", \n .     \"high\", \"high\", \"high\", \"high\", \"high\", \"high\", \"high\", \"low\", \n .     \"high\", \"high\", \"high\", \"high\", \"high\", \"high\", \"high\", \"low\", \n .     \"high\", \"high\", \"high\", \"high\", \"high\", \"high\", \"low\", \"high\", \n .     \"high\", \"high\", \"low\", \"high\", \"high\", \"high\", \"low\", \"high\", \n .     \"high\", \"high\", \"high\", \"high\", \"high\", \"high\", \"low\", \"high\", \n .     \"low\", \"low\", \"low\", \"high\", \"high\", \"high\", \"high\", \"high\", \n .     \"high\", \"low\", \"high\", \"high\", \"high\", \"low\", \"high\", \"low\", \n .     \"low\", \"high\", \"high\", \"high\", \"low\", \"high\", \"low\", \"high\", \n .     \"high\", \"high\", \"low\", \"high\", \"high\", \"low\", \"high\", \"high\", \n .     \"high\", \"high\", \"low\", \"high\", \"high\"), CD8A = c(\"low\", \"low\", \n .     \"low\", \"high\", \"high\", \"low\", \"high\", \"high\", \"high\", \"low\", \n .     \"high\", \"low\", \"high\", \"low\", \"high\", \"low\", \"low\", \"high\", \n .     \"high\", \"low\", \"low\", \"high\", \"high\", \"high\", \"high\", \"low\", \n .     \"low\", \"high\", \"high\", \"low\", \"low\", \"low\", \"high\", \"low\", \n .     \"high\", \"high\", \"high\", \"high\", \"high\", \"low\", \"low\", \"low\", \n .     \"low\", \"high\", \"high\", \"high\", \"high\", \"low\", \"high\", \"high\", \n .     \"high\", \"low\", \"high\", \"high\", \"low\", \"low\", \"high\", \"high\", \n .     \"high\", \"high\", \"low\", \"low\", \"high\", \"high\", \"low\", \"high\", \n .     \"low\", \"high\", \"high\", \"low\", \"low\", \"high\", \"low\", \"high\", \n .     \"low\", \"high\", \"low\", \"high\", \"low\", \"low\", \"low\", \"high\", \n .     \"high\", \"high\", \"high\", \"low\", \"high\", \"high\", \"high\", \"high\", \n .     \"low\", \"high\", \"high\", \"low\", \"low\", \"low\", \"high\", \"low\", \n .     \"high\", \"low\", \"low\", \"low\", \"low\", \"low\", \"high\", \"high\", \n .     \"high\", \"high\", \"low\", \"high\", \"low\", \"low\", \"low\", \"high\", \n .     \"low\", \"low\", \"low\", \"low\", \"high\", \"low\", \"low\", \"high\", \n .     \"low\", \"high\", \"high\", \"low\", \"low\", \"high\", \"high\", \"high\", \n .     \"high\", \"high\", \"low\", \"high\", \"high\", \"low\", \"high\", \"high\", \n .     \"high\", \"high\", \"low\", \"high\", \"low\", \"high\", \"low\", \"high\", \n .     \"low\", \"high\", \"low\", \"high\", \"high\", \"high\", \"low\", \"low\", \n .     \"low\", \"low\", \"high\", \"high\", \"high\", \"high\", \"high\", \"high\", \n .     \"high\", \"high\", \"high\", \"high\", \"low\", \"low\", \"high\", \"high\", \n .     \"high\", \"high\", \"high\", \"high\", \"low\", \"high\", \"low\", \"high\", \n .     \"high\", \"low\", \"low\", \"low\", \"low\", \"high\", \"high\", \"low\", \n .     \"high\", \"low\", \"high\", \"high\", \"low\", \"low\", \"high\", \"low\", \n .     \"low\", \"low\", \"low\", \"high\", \"high\", \"high\", \"low\", \"high\", \n .     \"high\", \"low\", \"high\", \"low\", \"low\", \"low\", \"low\", \"low\", \n .     \"high\", \"high\", \"high\", \"low\", \"high\", \"high\", \"low\", \"high\", \n .     \"high\", \"low\", \"high\", \"high\", \"low\", \"low\", \"high\", \"high\", \n .     \"low\", \"high\", \"high\", \"low\", \"low\", \"high\", \"low\", \"low\", \n .     \"low\", \"low\", \"low\", \"high\", \"high\", \"high\", \"high\", \"high\", \n .     \"low\", \"high\", \"high\", \"high\", \"high\", \"low\", \"high\", \"high\", \n .     \"low\", \"high\", \"high\", \"low\", \"high\", \"high\", \"high\", \"high\", \n .     \"high\", \"high\", \"low\", \"low\", \"low\", \"high\", \"low\", \"high\", \n .     \"high\", \"high\", \"low\", \"high\", \"low\", \"low\", \"low\", \"low\", \n .     \"low\", \"high\", \"low\", \"low\", \"high\", \"high\", \"high\", \"low\", \n .     \"low\", \"low\", \"high\", \"high\", \"high\", \"low\", \"high\", \"high\", \n .     \"low\", \"low\", \"high\", \"low\", \"high\", \"high\", \"high\", \"high\", \n .     \"low\", \"high\", \"low\", \"low\", \"low\", \"high\", \"low\", \"high\", \n .     \"low\", \"high\", \"low\", \"high\", \"low\", \"high\", \"high\", \"low\", \n .     \"high\", \"high\", \"high\", \"low\", \"high\", \"high\", \"high\", \"low\", \n .     \"high\", \"high\", \"high\", \"low\", \"high\", \"low\", \"low\", \"low\", \n .     \"high\", \"low\", \"high\", \"low\", \"high\", \"high\", \"low\", \"high\", \n .     \"low\", \"high\", \"high\", \"low\", \"high\", \"low\", \"low\", \"low\", \n .     \"low\", \"low\", \"high\", \"high\", \"high\", \"low\", \"high\", \"low\", \n .     \"high\", \"high\", \"high\", \"high\", \"high\", \"high\", \"high\", \"high\", \n .     \"high\", \"high\", \"low\", \"low\", \"high\", \"high\"), COL1A1 = c(\"low\", \n .     \"low\", \"low\", \"low\", \"high\", \"low\", \"low\", \"low\", \"high\", \n .     \"low\", \"low\", \"low\", \"high\", \"low\", \"low\", \"low\", \"low\", \n .     \"low\", \"low\", \"low\", \"low\", \"high\", \"low\", \"low\", \"low\", \n .     \"low\", \"low\", \"high\", \"low\", \"low\", \"low\", \"low\", \"high\", \n .     \"low\", \"high\", \"low\", \"high\", \"low\", \"high\", \"low\", \"low\", \n .     \"low\", \"low\", \"high\", \"low\", \"low\", \"low\", \"low\", \"high\", \n .     \"low\", \"low\", \"low\", \"low\", \"low\", \"low\", \"low\", \"low\", \"high\", \n .     \"low\", \"low\", \"low\", \"high\", \"low\", \"high\", \"low\", \"low\", \n .     \"low\", \"low\", \"low\", \"low\", \"high\", \"high\", \"low\", \"high\", \n .     \"low\", \"low\", \"low\", \"high\", \"low\", \"low\", \"low\", \"high\", \n .     \"low\", \"high\", \"low\", \"low\", \"low\", \"low\", \"high\", \"low\", \n .     \"low\", \"low\", \"high\", \"high\", \"high\", \"low\", \"high\", \"high\", \n .     \"low\", \"low\", \"low\", \"low\", \"high\", \"low\", \"high\", \"low\", \n .     \"high\", \"low\", \"low\", \"high\", \"low\", \"high\", \"low\", \"low\", \n .     \"low\", \"low\", \"low\", \"low\", \"high\", \"low\", \"low\", \"low\", \n .     \"high\", \"high\", \"high\", \"low\", \"low\", \"low\", \"low\", \"low\", \n .     \"low\", \"high\", \"high\", \"low\", \"low\", \"low\", \"low\", \"low\", \n .     \"low\", \"low\", \"low\", \"low\", \"high\", \"high\", \"low\", \"high\", \n .     \"low\", \"high\", \"low\", \"low\", \"high\", \"high\", \"low\", \"low\", \n .     \"low\", \"high\", \"low\", \"high\", \"high\", \"low\", \"low\", \"low\", \n .     \"low\", \"low\", \"low\", \"low\", \"high\", \"low\", \"high\", \"high\", \n .     \"low\", \"low\", \"high\", \"low\", \"high\", \"low\", \"low\", \"low\", \n .     \"low\", \"low\", \"low\", \"low\", \"low\", \"high\", \"low\", \"high\", \n .     \"low\", \"low\", \"low\", \"low\", \"low\", \"high\", \"low\", \"low\", \n .     \"low\", \"low\", \"low\", \"low\", \"low\", \"low\", \"low\", \"high\", \n .     \"low\", \"low\", \"high\", \"low\", \"low\", \"low\", \"high\", \"low\", \n .     \"high\", \"low\", \"high\", \"low\", \"high\", \"high\", \"high\", \"high\", \n .     \"high\", \"low\", \"low\", \"low\", \"low\", \"low\", \"low\", \"low\", \n .     \"high\", \"low\", \"high\", \"low\", \"low\", \"high\", \"low\", \"low\", \n .     \"low\", \"high\", \"low\", \"low\", \"low\", \"high\", \"low\", \"low\", \n .     \"high\", \"low\", \"low\", \"high\", \"low\", \"low\", \"high\", \"low\", \n .     \"low\", \"low\", \"low\", \"high\", \"low\", \"high\", \"low\", \"low\", \n .     \"low\", \"low\", \"low\", \"low\", \"low\", \"low\", \"low\", \"low\", \"low\", \n .     \"high\", \"low\", \"high\", \"low\", \"high\", \"low\", \"low\", \"high\", \n .     \"low\", \"high\", \"low\", \"low\", \"low\", \"low\", \"low\", \"low\", \n .     \"low\", \"low\", \"low\", \"low\", \"high\", \"high\", \"low\", \"low\", \n .     \"low\", \"high\", \"low\", \"low\", \"high\", \"low\", \"low\", \"low\", \n .     \"low\", \"low\", \"low\", \"high\", \"low\", \"low\", \"low\", \"low\", \n .     \"high\", \"high\", \"low\", \"low\", \"low\", \"high\", \"low\", \"high\", \n .     \"low\", \"high\", \"low\", \"low\", \"high\", \"low\", \"low\", \"low\", \n .     \"low\", \"high\", \"low\", \"high\", \"low\", \"low\", \"low\", \"low\", \n .     \"low\", \"low\", \"low\", \"low\", \"low\", \"high\", \"low\", \"low\", \n .     \"high\", \"low\", \"low\", \"low\", \"low\", \"low\", \"low\", \"low\", \n .     \"low\", \"low\", \"low\", \"low\", \"low\", \"low\", \"low\", \"high\", \n .     \"low\", \"low\", \"low\", \"high\", \"low\", \"low\", \"low\", \"low\", \n .     \"low\", \"high\", \"low\", \"high\", \"low\"), CXCL13 = c(\"low\", \"low\", \n .     \"high\", \"low\", \"high\", \"low\", \"low\", \"high\", \"high\", \"high\", \n .     \"low\", \"high\", \"high\", \"high\", \"high\", \"low\", \"low\", \"high\", \n .     \"high\", \"low\", \"high\", \"high\", \"high\", \"high\", \"high\", \"low\", \n .     \"low\", \"high\", \"high\", \"low\", \"high\", \"low\", \"high\", \"high\", \n .     \"high\", \"high\", \"high\", \"high\", \"high\", \"high\", \"high\", \"low\", \n .     \"low\", \"high\", \"high\", \"low\", \"high\", \"low\", \"high\", \"high\", \n .     \"high\", \"low\", \"high\", \"high\", \"low\", \"low\", \"low\", \"high\", \n .     \"low\", \"high\", \"low\", \"low\", \"low\", \"high\", \"low\", \"high\", \n .     \"high\", \"high\", \"high\", \"low\", \"low\", \"high\", \"high\", \"high\", \n .     \"low\", \"high\", \"low\", \"low\", \"low\", \"high\", \"low\", \"high\", \n .     \"high\", \"high\", \"low\", \"low\", \"high\", \"high\", \"high\", \"low\", \n .     \"low\", \"low\", \"high\", \"low\", \"low\", \"low\", \"high\", \"high\", \n .     \"high\", \"low\", \"low\", \"low\", \"high\", \"high\", \"high\", \"high\", \n .     \"high\", \"high\", \"high\", \"high\", \"low\", \"low\", \"low\", \"high\", \n .     \"high\", \"low\", \"low\", \"low\", \"high\", \"high\", \"low\", \"high\", \n .     \"high\", \"high\", \"high\", \"low\", \"low\", \"high\", \"high\", \"high\", \n .     \"high\", \"high\", \"low\", \"high\", \"high\", \"low\", \"high\", \"low\", \n .     \"high\", \"high\", \"low\", \"low\", \"low\", \"high\", \"low\", \"high\", \n .     \"low\", \"high\", \"low\", \"high\", \"high\", \"high\", \"low\", \"high\", \n .     \"low\", \"high\", \"low\", \"high\", \"high\", \"high\", \"high\", \"high\", \n .     \"high\", \"high\", \"high\", \"low\", \"low\", \"low\", \"high\", \"high\", \n .     \"high\", \"high\", \"high\", \"high\", \"high\", \"high\", \"low\", \"high\", \n .     \"high\", \"low\", \"high\", \"low\", \"low\", \"high\", \"high\", \"low\", \n .     \"high\", \"low\", \"low\", \"low\", \"low\", \"high\", \"high\", \"low\", \n .     \"high\", \"low\", \"low\", \"high\", \"high\", \"high\", \"low\", \"high\", \n .     \"high\", \"high\", \"high\", \"low\", \"low\", \"low\", \"low\", \"low\", \n .     \"high\", \"high\", \"high\", \"high\", \"high\", \"low\", \"low\", \"high\", \n .     \"high\", \"low\", \"low\", \"high\", \"low\", \"low\", \"high\", \"high\", \n .     \"low\", \"high\", \"low\", \"high\", \"high\", \"high\", \"low\", \"low\", \n .     \"low\", \"high\", \"low\", \"high\", \"high\", \"high\", \"low\", \"high\", \n .     \"high\", \"high\", \"low\", \"low\", \"low\", \"low\", \"high\", \"high\", \n .     \"low\", \"high\", \"low\", \"high\", \"high\", \"low\", \"high\", \"low\", \n .     \"low\", \"high\", \"high\", \"low\", \"low\", \"high\", \"low\", \"high\", \n .     \"high\", \"low\", \"low\", \"low\", \"low\", \"low\", \"low\", \"low\", \n .     \"high\", \"high\", \"low\", \"low\", \"low\", \"high\", \"high\", \"low\", \n .     \"high\", \"low\", \"high\", \"low\", \"high\", \"high\", \"high\", \"high\", \n .     \"low\", \"low\", \"high\", \"low\", \"high\", \"high\", \"high\", \"high\", \n .     \"low\", \"high\", \"high\", \"low\", \"low\", \"low\", \"high\", \"high\", \n .     \"low\", \"high\", \"high\", \"high\", \"low\", \"low\", \"low\", \"low\", \n .     \"low\", \"high\", \"high\", \"high\", \"high\", \"high\", \"high\", \"low\", \n .     \"high\", \"high\", \"high\", \"high\", \"high\", \"high\", \"low\", \"low\", \n .     \"high\", \"low\", \"high\", \"low\", \"high\", \"high\", \"high\", \"high\", \n .     \"low\", \"high\", \"low\", \"high\", \"high\", \"low\", \"high\", \"low\", \n .     \"high\", \"low\", \"high\", \"high\", \"high\", \"high\", \"high\", \"low\", \n .     \"high\", \"high\", \"high\", \"high\", \"high\", \"high\", \"low\", \"high\", \n .     \"high\", \"high\", \"high\", \"low\", \"high\", \"high\"), PECAM1 = c(\"high\", \n .     \"low\", \"low\", \"low\", \"high\", \"low\", \"high\", \"high\", \"high\", \n .     \"low\", \"low\", \"high\", \"high\", \"high\", \"high\", \"high\", \"low\", \n .     \"high\", \"high\", \"high\", \"low\", \"high\", \"low\", \"high\", \"low\", \n .     \"low\", \"low\", \"high\", \"high\", \"low\", \"low\", \"high\", \"high\", \n .     \"low\", \"high\", \"high\", \"high\", \"high\", \"high\", \"high\", \"high\", \n .     \"low\", \"high\", \"high\", \"low\", \"low\", \"high\", \"low\", \"high\", \n .     \"high\", \"high\", \"low\", \"low\", \"high\", \"low\", \"low\", \"low\", \n .     \"high\", \"high\", \"high\", \"low\", \"low\", \"high\", \"low\", \"low\", \n .     \"high\", \"high\", \"high\", \"low\", \"low\", \"low\", \"high\", \"high\", \n .     \"low\", \"low\", \"high\", \"low\", \"high\", \"low\", \"low\", \"high\", \n .     \"high\", \"high\", \"high\", \"low\", \"low\", \"low\", \"high\", \"high\", \n .     \"high\", \"low\", \"high\", \"high\", \"high\", \"low\", \"low\", \"high\", \n .     \"high\", \"high\", \"low\", \"low\", \"high\", \"high\", \"low\", \"high\", \n .     \"low\", \"high\", \"high\", \"high\", \"high\", \"low\", \"high\", \"low\", \n .     \"high\", \"high\", \"high\", \"high\", \"high\", \"high\", \"low\", \"low\", \n .     \"low\", \"low\", \"high\", \"high\", \"low\", \"low\", \"low\", \"high\", \n .     \"high\", \"high\", \"high\", \"high\", \"high\", \"high\", \"high\", \"high\", \n .     \"high\", \"high\", \"low\", \"high\", \"low\", \"high\", \"high\", \"low\", \n .     \"high\", \"low\", \"high\", \"low\", \"high\", \"high\", \"high\", \"low\", \n .     \"low\", \"low\", \"high\", \"high\", \"high\", \"high\", \"high\", \"high\", \n .     \"high\", \"high\", \"high\", \"high\", \"low\", \"low\", \"low\", \"high\", \n .     \"high\", \"high\", \"high\", \"high\", \"low\", \"low\", \"low\", \"low\", \n .     \"high\", \"high\", \"low\", \"high\", \"low\", \"low\", \"high\", \"high\", \n .     \"low\", \"high\", \"high\", \"high\", \"low\", \"high\", \"high\", \"high\", \n .     \"low\", \"low\", \"high\", \"low\", \"high\", \"low\", \"low\", \"high\", \n .     \"high\", \"low\", \"low\", \"high\", \"high\", \"low\", \"high\", \"high\", \n .     \"low\", \"high\", \"high\", \"high\", \"high\", \"high\", \"high\", \"high\", \n .     \"high\", \"high\", \"low\", \"low\", \"low\", \"low\", \"low\", \"low\", \n .     \"high\", \"low\", \"high\", \"high\", \"high\", \"low\", \"high\", \"high\", \n .     \"low\", \"low\", \"high\", \"low\", \"high\", \"low\", \"high\", \"low\", \n .     \"high\", \"high\", \"high\", \"low\", \"high\", \"high\", \"low\", \"high\", \n .     \"high\", \"low\", \"high\", \"high\", \"high\", \"low\", \"high\", \"low\", \n .     \"high\", \"low\", \"high\", \"low\", \"low\", \"high\", \"high\", \"low\", \n .     \"high\", \"low\", \"high\", \"low\", \"high\", \"low\", \"high\", \"low\", \n .     \"low\", \"high\", \"high\", \"low\", \"high\", \"low\", \"high\", \"high\", \n .     \"low\", \"high\", \"low\", \"high\", \"high\", \"high\", \"high\", \"high\", \n .     \"high\", \"low\", \"low\", \"high\", \"high\", \"high\", \"high\", \"high\", \n .     \"high\", \"low\", \"high\", \"low\", \"low\", \"high\", \"high\", \"low\", \n .     \"high\", \"low\", \"high\", \"high\", \"low\", \"low\", \"high\", \"high\", \n .     \"low\", \"high\", \"low\", \"high\", \"low\", \"high\", \"high\", \"high\", \n .     \"high\", \"high\", \"high\", \"low\", \"high\", \"high\", \"high\", \"low\", \n .     \"low\", \"low\", \"low\", \"high\", \"low\", \"high\", \"high\", \"low\", \n .     \"low\", \"high\", \"high\", \"low\", \"low\", \"high\", \"low\", \"low\", \n .     \"low\", \"high\", \"high\", \"low\", \"low\", \"low\", \"low\", \"high\", \n .     \"low\", \"high\", \"high\", \"high\", \"low\", \"high\", \"low\", \"low\", \n .     \"high\", \"high\", \"high\", \"high\", \"high\", \"high\", \"high\"), \n .         HAVCR2 = c(\"high\", \"low\", \"low\", \"low\", \"low\", \"low\", \n .         \"low\", \"low\", \"low\", \"low\", \"low\", \"low\", \"high\", \"low\", \n .         \"low\", \"low\", \"low\", \"high\", \"high\", \"low\", \"low\", \"low\", \n .         \"low\", \"low\", \"low\", \"low\", \"low\", \"low\", \"high\", \"low\", \n .         \"low\", \"low\", \"low\", \"low\", \"low\", \"low\", \"low\", \"high\", \n .         \"low\", \"low\", \"low\", \"low\", \"low\", \"high\", \"low\", \"low\", \n .         \"high\", \"low\", \"low\", \"low\", \"high\", \"low\", \"low\", \"low\", \n .         \"low\", \"low\", \"low\", \"low\", \"low\", \"high\", \"low\", \"low\", \n .         \"low\", \"low\", \"low\", \"low\", \"low\", \"low\", \"low\", \"low\", \n .         \"low\", \"low\", \"low\", \"low\", \"low\", \"low\", \"low\", \"low\", \n .         \"low\", \"low\", \"low\", \"high\", \"low\", \"high\", \"low\", \"low\", \n .         \"low\", \"low\", \"high\", \"low\", \"low\", \"low\", \"high\", \"low\", \n .         \"low\", \"low\", \"high\", \"high\", \"low\", \"low\", \"low\", \"low\", \n .         \"low\", \"low\", \"low\", \"low\", \"low\", \"low\", \"low\", \"high\", \n .         \"low\", \"low\", \"low\", \"low\", \"low\", \"low\", \"low\", \"high\", \n .         \"low\", \"low\", \"low\", \"low\", \"low\", \"low\", \"low\", \"low\", \n .         \"low\", \"low\", \"high\", \"low\", \"low\", \"low\", \"low\", \"low\", \n .         \"low\", \"low\", \"low\", \"low\", \"high\", \"low\", \"high\", \"low\", \n .         \"low\", \"low\", \"low\", \"low\", \"low\", \"low\", \"low\", \"low\", \n .         \"low\", \"low\", \"low\", \"low\", \"low\", \"low\", \"low\", \"high\", \n .         \"low\", \"high\", \"low\", \"low\", \"low\", \"low\", \"low\", \"low\", \n .         \"low\", \"low\", \"high\", \"high\", \"low\", \"low\", \"low\", \"low\", \n .         \"low\", \"low\", \"low\", \"high\", \"low\", \"low\", \"low\", \"low\", \n .         \"low\", \"low\", \"low\", \"low\", \"low\", \"low\", \"low\", \"low\", \n .         \"low\", \"low\", \"low\", \"low\", \"low\", \"high\", \"low\", \"low\", \n .         \"low\", \"low\", \"low\", \"low\", \"low\", \"low\", \"high\", \"high\", \n .         \"low\", \"low\", \"low\", \"low\", \"low\", \"low\", \"low\", \"low\", \n .         \"high\", \"low\", \"low\", \"low\", \"high\", \"low\", \"low\", \"low\", \n .         \"low\", \"low\", \"low\", \"low\", \"low\", \"low\", \"low\", \"low\", \n .         \"low\", \"high\", \"low\", \"low\", \"low\", \"low\", \"low\", \"low\", \n .         \"low\", \"low\", \"low\", \"high\", \"low\", \"low\", \"low\", \"low\", \n .         \"low\", \"low\", \"low\", \"low\", \"low\", \"high\", \"high\", \"low\", \n .         \"low\", \"low\", \"low\", \"low\", \"low\", \"low\", \"low\", \"low\", \n .         \"low\", \"low\", \"low\", \"low\", \"low\", \"low\", \"low\", \"low\", \n .         \"low\", \"low\", \"low\", \"low\", \"low\", \"low\", \"low\", \"low\", \n .         \"low\", \"low\", \"low\", \"low\", \"low\", \"low\", \"low\", \"high\", \n .         \"high\", \"low\", \"high\", \"low\", \"low\", \"low\", \"low\", \"low\", \n .         \"low\", \"low\", \"high\", \"low\", \"low\", \"low\", \"low\", \"low\", \n .         \"low\", \"low\", \"low\", \"high\", \"low\", \"low\", \"low\", \"low\", \n .         \"low\", \"low\", \"high\", \"low\", \"low\", \"low\", \"low\", \"low\", \n .         \"low\", \"low\", \"low\", \"low\", \"low\", \"high\", \"low\", \"low\", \n .         \"high\", \"low\", \"low\", \"low\", \"low\", \"low\", \"low\", \"low\", \n .         \"low\", \"low\", \"low\", \"low\", \"low\", \"low\", \"low\", \"low\", \n .         \"low\", \"low\", \"low\", \"low\", \"low\", \"low\", \"low\", \"low\", \n .         \"low\", \"low\", \"low\", \"low\", \"low\", \"low\", \"low\", \"low\", \n .         \"low\", \"low\", \"low\", \"low\", \"low\", \"low\", \"low\", \"low\", \n .         \"low\", \"low\"), PDPN = c(\"high\", \"high\", \"high\", \"low\", \n .         \"high\", \"high\", \"high\", \"high\", \"high\", \"high\", \"high\", \n .         \"high\", \"high\", \"high\", \"high\", \"high\", \"high\", \"high\", \n .         \"high\", \"high\", \"low\", \"high\", \"low\", \"high\", \"high\", \n .         \"high\", \"high\", \"high\", \"high\", \"high\", \"high\", \"high\", \n .         \"high\", \"high\", \"high\", \"high\", \"high\", \"high\", \"high\", \n .         \"high\", \"high\", \"high\", \"high\", \"high\", \"high\", \"low\", \n .         \"high\", \"high\", \"high\", \"high\", \"high\", \"high\", \"high\", \n .         \"high\", \"high\", \"high\", \"high\", \"high\", \"high\", \"high\", \n .         \"high\", \"high\", \"high\", \"high\", \"high\", \"high\", \"high\", \n .         \"high\", \"high\", \"high\", \"high\", \"high\", \"high\", \"high\", \n .         \"high\", \"low\", \"high\", \"high\", \"high\", \"low\", \"high\", \n .         \"high\", \"high\", \"high\", \"high\", \"high\", \"high\", \"high\", \n .         \"high\", \"high\", \"low\", \"high\", \"high\", \"high\", \"high\", \n .         \"high\", \"high\", \"high\", \"low\", \"low\", \"high\", \"high\", \n .         \"high\", \"high\", \"high\", \"high\", \"high\", \"high\", \"high\", \n .         \"high\", \"high\", \"high\", \"high\", \"high\", \"high\", \"high\", \n .         \"high\", \"high\", \"high\", \"high\", \"high\", \"high\", \"high\", \n .         \"high\", \"high\", \"high\", \"high\", \"high\", \"high\", \"high\", \n .         \"high\", \"high\", \"high\", \"high\", \"high\", \"high\", \"high\", \n .         \"high\", \"high\", \"high\", \"high\", \"high\", \"high\", \"high\", \n .         \"high\", \"high\", \"high\", \"high\", \"low\", \"high\", \"high\", \n .         \"high\", \"high\", \"high\", \"high\", \"high\", \"high\", \"high\", \n .         \"high\", \"high\", \"high\", \"high\", \"high\", \"high\", \"high\", \n .         \"high\", \"high\", \"high\", \"high\", \"high\", \"low\", \"high\", \n .         \"high\", \"high\", \"high\", \"high\", \"low\", \"high\", \"high\", \n .         \"high\", \"low\", \"high\", \"high\", \"high\", \"high\", \"high\", \n .         \"high\", \"high\", \"high\", \"high\", \"high\", \"high\", \"high\", \n .         \"high\", \"low\", \"high\", \"high\", \"high\", \"high\", \"low\", \n .         \"high\", \"high\", \"high\", \"high\", \"high\", \"high\", \"high\", \n .         \"high\", \"high\", \"high\", \"high\", \"high\", \"high\", \"high\", \n .         \"high\", \"high\", \"high\", \"high\", \"high\", \"low\", \"high\", \n .         \"high\", \"low\", \"high\", \"high\", \"high\", \"high\", \"high\", \n .         \"high\", \"high\", \"high\", \"high\", \"high\", \"high\", \"high\", \n .         \"high\", \"low\", \"high\", \"high\", \"high\", \"high\", \"high\", \n .         \"high\", \"high\", \"high\", \"high\", \"high\", \"low\", \"high\", \n .         \"high\", \"high\", \"high\", \"high\", \"high\", \"high\", \"high\", \n .         \"high\", \"high\", \"high\", \"high\", \"low\", \"low\", \"high\", \n .         \"high\", \"low\", \"high\", \"high\", \"high\", \"high\", \"high\", \n .         \"low\", \"high\", \"high\", \"high\", \"high\", \"high\", \"high\", \n .         \"high\", \"high\", \"low\", \"high\", \"high\", \"high\", \"low\", \n .         \"high\", \"high\", \"high\", \"high\", \"high\", \"high\", \"high\", \n .         \"high\", \"high\", \"high\", \"high\", \"high\", \"high\", \"high\", \n .         \"high\", \"high\", \"high\", \"high\", \"high\", \"high\", \"high\", \n .         \"high\", \"high\", \"high\", \"high\", \"high\", \"high\", \"high\", \n .         \"high\", \"high\", \"high\", \"low\", \"high\", \"low\", \"high\", \n .         \"high\", \"low\", \"high\", \"high\", \"high\", \"high\", \"high\", \n .         \"high\", \"high\", \"high\", \"low\", \"low\", \"low\", \"high\", \n .         \"low\", \"high\", \"high\", \"high\", \"high\", \"high\", \"high\", \n .         \"high\", \"high\", \"high\", \"high\", \"high\", \"high\", \"high\", \n .         \"low\", \"high\", \"high\", \"low\", \"high\", \"high\", \"high\", \n .         \"high\", \"high\", \"high\", \"high\", \"high\", \"high\", \"low\", \n .         \"high\", \"high\", \"high\", \"high\", \"low\", \"high\", \"high\"\n .         ), ITGAE = c(\"high\", \"low\", \"high\", \"high\", \"high\", \"high\", \n .         \"high\", \"low\", \"high\", \"low\", \"high\", \"high\", \"high\", \n .         \"low\", \"high\", \"high\", \"low\", \"high\", \"high\", \"high\", \n .         \"low\", \"high\", \"low\", \"low\", \"high\", \"high\", \"high\", \n .         \"high\", \"high\", \"low\", \"low\", \"high\", \"high\", \"high\", \n .         \"high\", \"high\", \"high\", \"high\", \"high\", \"low\", \"low\", \n .         \"high\", \"low\", \"high\", \"high\", \"high\", \"high\", \"high\", \n .         \"low\", \"high\", \"high\", \"low\", \"high\", \"high\", \"high\", \n .         \"high\", \"high\", \"high\", \"high\", \"high\", \"high\", \"low\", \n .         \"low\", \"high\", \"high\", \"high\", \"high\", \"high\", \"high\", \n .         \"low\", \"high\", \"low\", \"low\", \"high\", \"high\", \"high\", \n .         \"high\", \"low\", \"high\", \"low\", \"high\", \"high\", \"high\", \n .         \"high\", \"high\", \"high\", \"high\", \"high\", \"high\", \"high\", \n .         \"high\", \"high\", \"high\", \"high\", \"high\", \"high\", \"high\", \n .         \"high\", \"low\", \"low\", \"high\", \"high\", \"high\", \"high\", \n .         \"low\", \"high\", \"low\", \"high\", \"high\", \"high\", \"low\", \n .         \"high\", \"high\", \"high\", \"high\", \"low\", \"low\", \"high\", \n .         \"low\", \"high\", \"low\", \"high\", \"high\", \"high\", \"high\", \n .         \"high\", \"high\", \"high\", \"high\", \"high\", \"high\", \"high\", \n .         \"high\", \"high\", \"high\", \"low\", \"high\", \"high\", \"high\", \n .         \"high\", \"high\", \"high\", \"high\", \"high\", \"high\", \"high\", \n .         \"low\", \"high\", \"high\", \"high\", \"high\", \"high\", \"high\", \n .         \"high\", \"low\", \"low\", \"low\", \"high\", \"low\", \"high\", \"high\", \n .         \"high\", \"high\", \"high\", \"high\", \"high\", \"high\", \"high\", \n .         \"high\", \"high\", \"high\", \"high\", \"low\", \"high\", \"high\", \n .         \"high\", \"high\", \"high\", \"high\", \"high\", \"high\", \"high\", \n .         \"high\", \"high\", \"high\", \"high\", \"high\", \"low\", \"low\", \n .         \"high\", \"high\", \"high\", \"low\", \"high\", \"high\", \"low\", \n .         \"low\", \"high\", \"high\", \"high\", \"high\", \"low\", \"high\", \n .         \"high\", \"high\", \"high\", \"high\", \"high\", \"low\", \"high\", \n .         \"high\", \"high\", \"high\", \"high\", \"high\", \"low\", \"high\", \n .         \"high\", \"high\", \"high\", \"low\", \"high\", \"high\", \"high\", \n .         \"high\", \"high\", \"high\", \"high\", \"low\", \"high\", \"high\", \n .         \"high\", \"high\", \"low\", \"high\", \"high\", \"low\", \"high\", \n .         \"low\", \"low\", \"high\", \"high\", \"high\", \"high\", \"high\", \n .         \"high\", \"high\", \"high\", \"high\", \"low\", \"low\", \"high\", \n .         \"high\", \"low\", \"high\", \"high\", \"high\", \"low\", \"low\", \n .         \"high\", \"high\", \"high\", \"low\", \"high\", \"high\", \"high\", \n .         \"high\", \"high\", \"high\", \"low\", \"low\", \"high\", \"high\", \n .         \"low\", \"high\", \"high\", \"low\", \"low\", \"high\", \"high\", \n .         \"high\", \"high\", \"high\", \"low\", \"low\", \"high\", \"high\", \n .         \"high\", \"high\", \"high\", \"low\", \"high\", \"low\", \"high\", \n .         \"high\", \"high\", \"high\", \"high\", \"high\", \"high\", \"low\", \n .         \"low\", \"high\", \"low\", \"low\", \"high\", \"high\", \"high\", \n .         \"high\", \"high\", \"high\", \"high\", \"low\", \"high\", \"high\", \n .         \"high\", \"low\", \"high\", \"high\", \"high\", \"high\", \"low\", \n .         \"high\", \"high\", \"high\", \"high\", \"high\", \"high\", \"high\", \n .         \"high\", \"high\", \"low\", \"high\", \"high\", \"high\", \"high\", \n .         \"high\", \"high\", \"high\", \"high\", \"high\", \"low\", \"high\", \n .         \"high\", \"high\", \"high\", \"high\", \"high\", \"low\", \"high\", \n .         \"high\", \"high\", \"high\", \"high\", \"high\", \"high\", \"high\", \n .         \"high\", \"high\", \"low\", \"low\", \"high\", \"high\", \"high\", \n .         \"high\", \"high\", \"high\", \"high\"), CD276 = c(\"low\", \"low\", \n .         \"low\", \"low\", \"high\", \"low\", \"low\", \"low\", \"low\", \"low\", \n .         \"low\", \"low\", \"high\", \"low\", \"low\", \"low\", \"low\", \"low\", \n .         \"low\", \"low\", \"low\", \"low\", \"low\", \"low\", \"low\", \"low\", \n .         \"low\", \"high\", \"low\", \"low\", \"low\", \"high\", \"low\", \"high\", \n .         \"high\", \"low\", \"low\", \"low\", \"low\", \"high\", \"low\", \"low\", \n .         \"high\", \"low\", \"low\", \"low\", \"low\", \"low\", \"low\", \"low\", \n .         \"low\", \"low\", \"low\", \"high\", \"low\", \"low\", \"low\", \"low\", \n .         \"low\", \"low\", \"low\", \"high\", \"high\", \"low\", \"high\", \"low\", \n .         \"low\", \"low\", \"low\", \"high\", \"low\", \"high\", \"low\", \"high\", \n .         \"low\", \"low\", \"low\", \"low\", \"low\", \"low\", \"low\", \"high\", \n .         \"low\", \"high\", \"high\", \"low\", \"low\", \"low\", \"low\", \"high\", \n .         \"low\", \"low\", \"low\", \"high\", \"low\", \"low\", \"low\", \"high\", \n .         \"low\", \"low\", \"low\", \"low\", \"low\", \"low\", \"low\", \"low\", \n .         \"low\", \"low\", \"high\", \"high\", \"high\", \"high\", \"low\", \n .         \"high\", \"high\", \"high\", \"low\", \"low\", \"high\", \"low\", \n .         \"low\", \"low\", \"low\", \"high\", \"high\", \"low\", \"low\", \"low\", \n .         \"low\", \"low\", \"low\", \"low\", \"low\", \"low\", \"low\", \"low\", \n .         \"low\", \"high\", \"low\", \"low\", \"low\", \"low\", \"low\", \"low\", \n .         \"low\", \"low\", \"low\", \"low\", \"low\", \"low\", \"low\", \"low\", \n .         \"low\", \"low\", \"high\", \"low\", \"low\", \"high\", \"low\", \"low\", \n .         \"low\", \"low\", \"low\", \"low\", \"low\", \"low\", \"low\", \"low\", \n .         \"low\", \"high\", \"low\", \"low\", \"low\", \"low\", \"high\", \"low\", \n .         \"low\", \"low\", \"low\", \"low\", \"low\", \"low\", \"low\", \"high\", \n .         \"low\", \"high\", \"low\", \"low\", \"low\", \"low\", \"high\", \"high\", \n .         \"low\", \"low\", \"low\", \"low\", \"low\", \"high\", \"low\", \"low\", \n .         \"high\", \"low\", \"low\", \"low\", \"low\", \"high\", \"low\", \"low\", \n .         \"low\", \"low\", \"low\", \"low\", \"low\", \"low\", \"low\", \"high\", \n .         \"high\", \"low\", \"low\", \"low\", \"low\", \"low\", \"low\", \"low\", \n .         \"low\", \"low\", \"low\", \"low\", \"low\", \"low\", \"low\", \"low\", \n .         \"high\", \"low\", \"low\", \"low\", \"low\", \"low\", \"low\", \"low\", \n .         \"low\", \"low\", \"high\", \"low\", \"low\", \"low\", \"high\", \"low\", \n .         \"low\", \"low\", \"low\", \"low\", \"low\", \"low\", \"low\", \"low\", \n .         \"low\", \"high\", \"low\", \"low\", \"low\", \"high\", \"low\", \"high\", \n .         \"low\", \"low\", \"low\", \"high\", \"high\", \"low\", \"low\", \"low\", \n .         \"low\", \"low\", \"low\", \"low\", \"low\", \"low\", \"low\", \"high\", \n .         \"low\", \"low\", \"low\", \"low\", \"low\", \"high\", \"low\", \"low\", \n .         \"low\", \"low\", \"high\", \"low\", \"low\", \"high\", \"low\", \"high\", \n .         \"low\", \"low\", \"low\", \"low\", \"low\", \"low\", \"low\", \"low\", \n .         \"low\", \"low\", \"low\", \"low\", \"low\", \"low\", \"low\", \"low\", \n .         \"high\", \"low\", \"high\", \"low\", \"low\", \"low\", \"low\", \"low\", \n .         \"low\", \"low\", \"low\", \"low\", \"low\", \"low\", \"low\", \"low\", \n .         \"low\", \"low\", \"low\", \"low\", \"low\", \"low\", \"low\", \"low\", \n .         \"low\", \"low\", \"low\", \"high\", \"low\", \"low\", \"low\", \"low\", \n .         \"low\", \"low\", \"low\", \"low\", \"low\", \"low\", \"low\", \"low\", \n .         \"low\", \"low\", \"low\", \"low\", \"low\", \"high\", \"low\", \"low\", \n .         \"low\", \"high\", \"low\", \"low\", \"low\", \"low\", \"low\", \"low\"\n .         ), TFRC = c(\"low\", \"low\", \"low\", \"low\", \"high\", \"low\", \n .         \"low\", \"low\", \"high\", \"low\", \"low\", \"low\", \"low\", \"low\", \n .         \"high\", \"low\", \"low\", \"low\", \"low\", \"low\", \"low\", \"low\", \n .         \"low\", \"low\", \"high\", \"low\", \"low\", \"high\", \"low\", \"low\", \n .         \"low\", \"low\", \"low\", \"low\", \"low\", \"low\", \"low\", \"high\", \n .         \"low\", \"low\", \"low\", \"low\", \"low\", \"low\", \"low\", \"low\", \n .         \"high\", \"low\", \"low\", \"high\", \"high\", \"low\", \"low\", \"low\", \n .         \"low\", \"low\", \"low\", \"high\", \"low\", \"low\", \"low\", \"high\", \n .         \"low\", \"low\", \"low\", \"high\", \"high\", \"low\", \"low\", \"low\", \n .         \"low\", \"low\", \"high\", \"low\", \"low\", \"low\", \"low\", \"low\", \n .         \"low\", \"low\", \"low\", \"low\", \"high\", \"low\", \"low\", \"low\", \n .         \"high\", \"low\", \"low\", \"low\", \"low\", \"low\", \"low\", \"high\", \n .         \"low\", \"low\", \"high\", \"high\", \"low\", \"low\", \"high\", \"low\", \n .         \"low\", \"high\", \"low\", \"low\", \"high\", \"low\", \"high\", \"low\", \n .         \"high\", \"low\", \"low\", \"high\", \"high\", \"low\", \"low\", \"high\", \n .         \"high\", \"low\", \"high\", \"low\", \"low\", \"high\", \"high\", \n .         \"low\", \"low\", \"high\", \"low\", \"high\", \"high\", \"low\", \"low\", \n .         \"low\", \"low\", \"low\", \"low\", \"high\", \"low\", \"low\", \"low\", \n .         \"low\", \"low\", \"high\", \"low\", \"low\", \"low\", \"high\", \"low\", \n .         \"low\", \"low\", \"low\", \"low\", \"low\", \"low\", \"low\", \"low\", \n .         \"high\", \"low\", \"low\", \"low\", \"low\", \"low\", \"low\", \"low\", \n .         \"high\", \"low\", \"low\", \"high\", \"low\", \"low\", \"low\", \"low\", \n .         \"low\", \"high\", \"low\", \"low\", \"low\", \"low\", \"low\", \"low\", \n .         \"low\", \"low\", \"high\", \"low\", \"low\", \"low\", \"low\", \"low\", \n .         \"low\", \"low\", \"low\", \"low\", \"low\", \"high\", \"high\", \"low\", \n .         \"low\", \"low\", \"low\", \"low\", \"low\", \"low\", \"low\", \"low\", \n .         \"low\", \"low\", \"low\", \"high\", \"high\", \"low\", \"low\", \"high\", \n .         \"low\", \"high\", \"low\", \"low\", \"low\", \"high\", \"low\", \"low\", \n .         \"low\", \"low\", \"low\", \"low\", \"low\", \"low\", \"low\", \"low\", \n .         \"low\", \"high\", \"low\", \"high\", \"low\", \"low\", \"low\", \"low\", \n .         \"low\", \"low\", \"low\", \"low\", \"high\", \"low\", \"low\", \"low\", \n .         \"high\", \"low\", \"low\", \"low\", \"low\", \"low\", \"low\", \"low\", \n .         \"low\", \"high\", \"low\", \"low\", \"low\", \"low\", \"low\", \"low\", \n .         \"low\", \"low\", \"low\", \"low\", \"low\", \"low\", \"high\", \"low\", \n .         \"high\", \"high\", \"high\", \"low\", \"low\", \"low\", \"low\", \"low\", \n .         \"low\", \"low\", \"low\", \"low\", \"high\", \"low\", \"low\", \"low\", \n .         \"low\", \"low\", \"low\", \"low\", \"low\", \"low\", \"low\", \"low\", \n .         \"low\", \"low\", \"low\", \"low\", \"high\", \"low\", \"low\", \"low\", \n .         \"low\", \"low\", \"low\", \"low\", \"low\", \"low\", \"low\", \"low\", \n .         \"low\", \"high\", \"low\", \"high\", \"low\", \"low\", \"low\", \"low\", \n .         \"low\", \"low\", \"high\", \"low\", \"low\", \"low\", \"high\", \"low\", \n .         \"low\", \"low\", \"high\", \"low\", \"low\", \"low\", \"low\", \"high\", \n .         \"low\", \"low\", \"high\", \"low\", \"low\", \"low\", \"low\", \"low\", \n .         \"low\", \"low\", \"low\", \"low\", \"low\", \"high\", \"low\", \"high\", \n .         \"low\", \"low\", \"low\", \"low\", \"low\", \"low\", \"low\", \"low\", \n .         \"low\", \"low\", \"low\", \"high\", \"low\", \"high\", \"low\", \"low\", \n .         \"low\", \"low\", \"low\"), CXCR4 = c(\"low\", \"low\", \"high\", \n .         \"low\", \"high\", \"high\", \"high\", \"high\", \"high\", \"low\", \n .         \"high\", \"low\", \"high\", \"low\", \"low\", \"high\", \"low\", \"high\", \n .         \"high\", \"high\", \"low\", \"high\", \"low\", \"high\", \"low\", \n .         \"high\", \"low\", \"high\", \"high\", \"low\", \"low\", \"high\", \n .         \"low\", \"low\", \"low\", \"low\", \"high\", \"low\", \"low\", \"low\", \n .         \"high\", \"low\", \"low\", \"high\", \"low\", \"low\", \"high\", \"low\", \n .         \"low\", \"low\", \"high\", \"high\", \"high\", \"low\", \"low\", \"low\", \n .         \"low\", \"low\", \"low\", \"high\", \"high\", \"low\", \"high\", \"low\", \n .         \"high\", \"high\", \"low\", \"high\", \"low\", \"high\", \"low\", \n .         \"low\", \"high\", \"high\", \"low\", \"low\", \"low\", \"low\", \"low\", \n .         \"high\", \"low\", \"low\", \"low\", \"high\", \"low\", \"low\", \"low\", \n .         \"low\", \"low\", \"low\", \"low\", \"high\", \"low\", \"high\", \"high\", \n .         \"high\", \"high\", \"low\", \"low\", \"high\", \"low\", \"high\", \n .         \"low\", \"low\", \"low\", \"low\", \"high\", \"low\", \"high\", \"high\", \n .         \"high\", \"low\", \"high\", \"low\", \"low\", \"low\", \"low\", \"low\", \n .         \"low\", \"high\", \"high\", \"high\", \"low\", \"high\", \"high\", \n .         \"high\", \"low\", \"low\", \"high\", \"low\", \"high\", \"low\", \"low\", \n .         \"low\", \"high\", \"low\", \"high\", \"high\", \"high\", \"high\", \n .         \"high\", \"low\", \"low\", \"low\", \"high\", \"low\", \"high\", \"low\", \n .         \"high\", \"low\", \"low\", \"high\", \"low\", \"high\", \"low\", \"high\", \n .         \"low\", \"high\", \"high\", \"high\", \"high\", \"high\", \"low\", \n .         \"low\", \"high\", \"high\", \"low\", \"high\", \"low\", \"high\", \n .         \"high\", \"low\", \"high\", \"low\", \"low\", \"high\", \"high\", \n .         \"high\", \"low\", \"low\", \"low\", \"low\", \"high\", \"low\", \"low\", \n .         \"low\", \"low\", \"low\", \"low\", \"low\", \"low\", \"high\", \"low\", \n .         \"low\", \"low\", \"low\", \"low\", \"low\", \"high\", \"low\", \"high\", \n .         \"low\", \"low\", \"high\", \"high\", \"low\", \"high\", \"low\", \"low\", \n .         \"low\", \"high\", \"high\", \"high\", \"low\", \"high\", \"high\", \n .         \"high\", \"low\", \"low\", \"low\", \"high\", \"high\", \"high\", \n .         \"low\", \"low\", \"high\", \"high\", \"low\", \"high\", \"low\", \"high\", \n .         \"high\", \"low\", \"low\", \"low\", \"high\", \"low\", \"low\", \"high\", \n .         \"low\", \"high\", \"low\", \"low\", \"low\", \"low\", \"high\", \"high\", \n .         \"low\", \"high\", \"high\", \"low\", \"low\", \"low\", \"low\", \"high\", \n .         \"low\", \"high\", \"low\", \"low\", \"high\", \"low\", \"low\", \"low\", \n .         \"low\", \"low\", \"high\", \"low\", \"low\", \"low\", \"high\", \"low\", \n .         \"low\", \"low\", \"low\", \"low\", \"high\", \"low\", \"low\", \"low\", \n .         \"low\", \"high\", \"low\", \"high\", \"high\", \"low\", \"low\", \"high\", \n .         \"high\", \"high\", \"low\", \"high\", \"high\", \"low\", \"high\", \n .         \"high\", \"low\", \"high\", \"low\", \"low\", \"low\", \"high\", \"low\", \n .         \"high\", \"high\", \"low\", \"low\", \"low\", \"high\", \"low\", \"high\", \n .         \"low\", \"high\", \"low\", \"high\", \"low\", \"low\", \"low\", \"high\", \n .         \"high\", \"low\", \"low\", \"low\", \"low\", \"low\", \"high\", \"high\", \n .         \"low\", \"low\", \"low\", \"high\", \"high\", \"low\", \"low\", \"high\", \n .         \"low\", \"high\", \"high\", \"high\", \"high\", \"high\", \"high\", \n .         \"low\", \"high\", \"high\", \"high\", \"low\", \"low\", \"high\", \n .         \"high\", \"high\", \"low\", \"low\", \"low\", \"high\", \"high\", \n .         \"high\", \"high\", \"low\", \"high\", \"high\", \"high\", \"low\", \n .         \"low\", \"high\", \"high\", \"low\", \"high\", \"high\"), CD274 = c(\"high\", \n .         \"low\", \"low\", \"high\", \"high\", \"low\", \"high\", \"high\", \n .         \"high\", \"high\", \"low\", \"low\", \"high\", \"high\", \"high\", \n .         \"high\", \"high\", \"high\", \"high\", \"low\", \"high\", \"high\", \n .         \"high\", \"high\", \"high\", \"low\", \"low\", \"high\", \"high\", \n .         \"high\", \"low\", \"high\", \"high\", \"low\", \"high\", \"high\", \n .         \"low\", \"high\", \"low\", \"high\", \"high\", \"high\", \"low\", \n .         \"high\", \"high\", \"high\", \"high\", \"low\", \"high\", \"high\", \n .         \"high\", \"high\", \"high\", \"high\", \"high\", \"low\", \"high\", \n .         \"low\", \"high\", \"high\", \"high\", \"low\", \"high\", \"low\", \n .         \"high\", \"high\", \"low\", \"high\", \"low\", \"low\", \"high\", \n .         \"high\", \"high\", \"high\", \"high\", \"high\", \"low\", \"high\", \n .         \"low\", \"high\", \"high\", \"high\", \"low\", \"high\", \"high\", \n .         \"low\", \"high\", \"high\", \"high\", \"high\", \"low\", \"high\", \n .         \"high\", \"low\", \"low\", \"low\", \"high\", \"high\", \"high\", \n .         \"low\", \"low\", \"low\", \"high\", \"high\", \"high\", \"low\", \"high\", \n .         \"high\", \"low\", \"high\", \"low\", \"low\", \"low\", \"high\", \"low\", \n .         \"high\", \"high\", \"low\", \"high\", \"high\", \"high\", \"high\", \n .         \"low\", \"high\", \"high\", \"high\", \"low\", \"low\", \"high\", \n .         \"high\", \"low\", \"high\", \"low\", \"high\", \"high\", \"high\", \n .         \"high\", \"low\", \"high\", \"high\", \"high\", \"high\", \"high\", \n .         \"high\", \"low\", \"high\", \"low\", \"low\", \"high\", \"high\", \n .         \"high\", \"high\", \"low\", \"low\", \"low\", \"low\", \"low\", \"high\", \n .         \"high\", \"high\", \"high\", \"high\", \"high\", \"low\", \"high\", \n .         \"high\", \"low\", \"high\", \"high\", \"high\", \"high\", \"high\", \n .         \"high\", \"high\", \"low\", \"low\", \"low\", \"high\", \"high\", \n .         \"low\", \"low\", \"low\", \"high\", \"high\", \"high\", \"low\", \"high\", \n .         \"high\", \"high\", \"low\", \"low\", \"low\", \"high\", \"low\", \"high\", \n .         \"high\", \"low\", \"high\", \"high\", \"high\", \"high\", \"high\", \n .         \"low\", \"low\", \"high\", \"high\", \"low\", \"low\", \"high\", \"high\", \n .         \"low\", \"high\", \"low\", \"high\", \"high\", \"high\", \"low\", \n .         \"high\", \"high\", \"low\", \"high\", \"high\", \"high\", \"low\", \n .         \"high\", \"high\", \"low\", \"high\", \"high\", \"high\", \"high\", \n .         \"high\", \"low\", \"high\", \"low\", \"low\", \"high\", \"high\", \n .         \"high\", \"high\", \"high\", \"high\", \"high\", \"high\", \"low\", \n .         \"high\", \"high\", \"low\", \"high\", \"high\", \"low\", \"high\", \n .         \"high\", \"high\", \"low\", \"low\", \"low\", \"high\", \"high\", \n .         \"low\", \"high\", \"low\", \"high\", \"low\", \"low\", \"low\", \"high\", \n .         \"low\", \"high\", \"high\", \"low\", \"high\", \"low\", \"low\", \"high\", \n .         \"high\", \"low\", \"high\", \"high\", \"high\", \"low\", \"low\", \n .         \"high\", \"low\", \"high\", \"high\", \"high\", \"low\", \"high\", \n .         \"high\", \"low\", \"high\", \"high\", \"high\", \"high\", \"high\", \n .         \"high\", \"high\", \"low\", \"low\", \"low\", \"low\", \"low\", \"high\", \n .         \"high\", \"high\", \"low\", \"high\", \"high\", \"high\", \"high\", \n .         \"high\", \"high\", \"low\", \"high\", \"high\", \"low\", \"high\", \n .         \"high\", \"high\", \"high\", \"high\", \"high\", \"high\", \"low\", \n .         \"high\", \"high\", \"high\", \"low\", \"low\", \"high\", \"low\", \n .         \"high\", \"low\", \"low\", \"high\", \"low\", \"high\", \"low\", \"high\", \n .         \"low\", \"high\", \"high\", \"high\", \"low\", \"low\", \"high\", \n .         \"high\", \"high\", \"high\", \"low\", \"low\", \"high\", \"low\", \n .         \"high\", \"high\", \"high\", \"high\", \"high\", \"high\", \"high\", \n .         \"high\", \"high\", \"high\", \"high\", \"high\", \"high\", \"high\"\n .         ), CCR7 = c(\"high\", \"low\", \"low\", \"low\", \"high\", \"low\", \n .         \"high\", \"low\", \"high\", \"low\", \"low\", \"low\", \"low\", \"low\", \n .         \"low\", \"low\", \"low\", \"high\", \"low\", \"low\", \"low\", \"high\", \n .         \"low\", \"high\", \"high\", \"low\", \"low\", \"high\", \"high\", \n .         \"low\", \"low\", \"low\", \"low\", \"low\", \"high\", \"low\", \"low\", \n .         \"low\", \"high\", \"low\", \"low\", \"low\", \"low\", \"high\", \"low\", \n .         \"low\", \"high\", \"low\", \"high\", \"high\", \"high\", \"low\", \n .         \"low\", \"high\", \"low\", \"low\", \"low\", \"low\", \"low\", \"high\", \n .         \"low\", \"low\", \"low\", \"low\", \"low\", \"low\", \"low\", \"low\", \n .         \"low\", \"low\", \"low\", \"high\", \"low\", \"low\", \"low\", \"high\", \n .         \"low\", \"low\", \"low\", \"low\", \"low\", \"high\", \"high\", \"high\", \n .         \"low\", \"low\", \"low\", \"low\", \"high\", \"low\", \"low\", \"low\", \n .         \"high\", \"low\", \"low\", \"low\", \"high\", \"low\", \"low\", \"low\", \n .         \"low\", \"low\", \"low\", \"low\", \"low\", \"low\", \"low\", \"low\", \n .         \"low\", \"high\", \"low\", \"low\", \"high\", \"low\", \"high\", \"low\", \n .         \"low\", \"low\", \"high\", \"low\", \"low\", \"low\", \"low\", \"high\", \n .         \"low\", \"low\", \"low\", \"low\", \"low\", \"low\", \"high\", \"high\", \n .         \"low\", \"high\", \"high\", \"low\", \"low\", \"low\", \"high\", \"high\", \n .         \"low\", \"low\", \"low\", \"high\", \"low\", \"high\", \"low\", \"high\", \n .         \"high\", \"low\", \"low\", \"high\", \"low\", \"high\", \"low\", \"low\", \n .         \"low\", \"high\", \"high\", \"high\", \"high\", \"high\", \"high\", \n .         \"low\", \"high\", \"low\", \"low\", \"low\", \"high\", \"low\", \"high\", \n .         \"low\", \"high\", \"low\", \"low\", \"low\", \"low\", \"high\", \"low\", \n .         \"low\", \"low\", \"low\", \"low\", \"high\", \"low\", \"low\", \"low\", \n .         \"low\", \"low\", \"low\", \"low\", \"low\", \"low\", \"low\", \"low\", \n .         \"low\", \"low\", \"low\", \"low\", \"low\", \"low\", \"low\", \"low\", \n .         \"low\", \"high\", \"low\", \"low\", \"low\", \"low\", \"low\", \"low\", \n .         \"low\", \"low\", \"low\", \"low\", \"low\", \"low\", \"low\", \"low\", \n .         \"low\", \"low\", \"low\", \"low\", \"low\", \"low\", \"high\", \"low\", \n .         \"low\", \"low\", \"high\", \"high\", \"high\", \"low\", \"low\", \"low\", \n .         \"high\", \"low\", \"high\", \"low\", \"low\", \"low\", \"high\", \"low\", \n .         \"high\", \"low\", \"low\", \"low\", \"low\", \"high\", \"low\", \"low\", \n .         \"high\", \"high\", \"low\", \"low\", \"low\", \"low\", \"low\", \"low\", \n .         \"low\", \"high\", \"low\", \"low\", \"low\", \"low\", \"low\", \"low\", \n .         \"high\", \"low\", \"low\", \"low\", \"low\", \"low\", \"low\", \"low\", \n .         \"high\", \"low\", \"low\", \"low\", \"low\", \"low\", \"low\", \"low\", \n .         \"low\", \"low\", \"low\", \"high\", \"low\", \"high\", \"high\", \"low\", \n .         \"low\", \"low\", \"low\", \"high\", \"high\", \"high\", \"low\", \"low\", \n .         \"low\", \"low\", \"high\", \"low\", \"low\", \"low\", \"high\", \"low\", \n .         \"high\", \"low\", \"low\", \"low\", \"low\", \"low\", \"low\", \"low\", \n .         \"low\", \"high\", \"low\", \"high\", \"low\", \"high\", \"low\", \"high\", \n .         \"high\", \"low\", \"high\", \"high\", \"low\", \"low\", \"low\", \"high\", \n .         \"low\", \"high\", \"low\", \"high\", \"low\", \"low\", \"high\", \"low\", \n .         \"high\", \"low\", \"low\", \"high\", \"low\", \"low\", \"low\", \"low\", \n .         \"low\", \"high\", \"high\", \"high\", \"low\", \"high\", \"low\", \n .         \"high\", \"high\", \"low\", \"low\", \"high\", \"low\", \"low\", \"high\", \n .         \"high\", \"high\", \"low\", \"low\", \"high\", \"low\"), CD68 = c(\"low\", \n .         \"low\", \"low\", \"low\", \"low\", \"low\", \"low\", \"low\", \"low\", \n .         \"low\", \"low\", \"low\", \"low\", \"low\", \"low\", \"low\", \"low\", \n .         \"low\", \"high\", \"low\", \"low\", \"low\", \"high\", \"low\", \"low\", \n .         \"low\", \"low\", \"low\", \"low\", \"low\", \"low\", \"high\", \"low\", \n .         \"low\", \"low\", \"low\", \"low\", \"low\", \"low\", \"low\", \"low\", \n .         \"low\", \"low\", \"low\", \"low\", \"low\", \"low\", \"low\", \"low\", \n .         \"low\", \"low\", \"low\", \"low\", \"low\", \"low\", \"low\", \"low\", \n .         \"low\", \"high\", \"low\", \"low\", \"low\", \"low\", \"low\", \"low\", \n .         \"low\", \"high\", \"low\", \"low\", \"low\", \"low\", \"low\", \"low\", \n .         \"low\", \"low\", \"low\", \"low\", \"low\", \"low\", \"low\", \"low\", \n .         \"low\", \"low\", \"high\", \"low\", \"low\", \"low\", \"high\", \"high\", \n .         \"low\", \"low\", \"low\", \"low\", \"low\", \"low\", \"low\", \"high\", \n .         \"low\", \"high\", \"low\", \"low\", \"low\", \"high\", \"low\", \"high\", \n .         \"high\", \"low\", \"high\", \"low\", \"low\", \"low\", \"low\", \"low\", \n .         \"low\", \"low\", \"low\", \"low\", \"low\", \"low\", \"low\", \"low\", \n .         \"low\", \"low\", \"low\", \"low\", \"low\", \"low\", \"low\", \"high\", \n .         \"low\", \"low\", \"low\", \"low\", \"high\", \"low\", \"low\", \"low\", \n .         \"low\", \"high\", \"low\", \"low\", \"low\", \"low\", \"low\", \"low\", \n .         \"low\", \"low\", \"low\", \"low\", \"low\", \"low\", \"low\", \"low\", \n .         \"low\", \"low\", \"low\", \"low\", \"low\", \"low\", \"low\", \"low\", \n .         \"low\", \"low\", \"low\", \"high\", \"low\", \"low\", \"low\", \"low\", \n .         \"low\", \"low\", \"low\", \"low\", \"low\", \"low\", \"low\", \"low\", \n .         \"high\", \"low\", \"low\", \"low\", \"low\", \"low\", \"low\", \"low\", \n .         \"low\", \"low\", \"low\", \"low\", \"high\", \"low\", \"low\", \"low\", \n .         \"low\", \"low\", \"low\", \"low\", \"low\", \"low\", \"low\", \"low\", \n .         \"low\", \"low\", \"low\", \"low\", \"low\", \"low\", \"low\", \"low\", \n .         \"low\", \"low\", \"low\", \"low\", \"low\", \"low\", \"low\", \"low\", \n .         \"low\", \"low\", \"low\", \"low\", \"high\", \"low\", \"low\", \"low\", \n .         \"high\", \"low\", \"low\", \"low\", \"low\", \"low\", \"high\", \"low\", \n .         \"low\", \"low\", \"high\", \"low\", \"high\", \"low\", \"low\", \"low\", \n .         \"low\", \"low\", \"low\", \"low\", \"low\", \"low\", \"low\", \"high\", \n .         \"high\", \"low\", \"low\", \"high\", \"low\", \"low\", \"low\", \"low\", \n .         \"low\", \"low\", \"low\", \"low\", \"low\", \"low\", \"low\", \"low\", \n .         \"low\", \"low\", \"low\", \"low\", \"low\", \"low\", \"low\", \"low\", \n .         \"low\", \"low\", \"low\", \"low\", \"low\", \"low\", \"low\", \"low\", \n .         \"low\", \"low\", \"low\", \"low\", \"high\", \"low\", \"low\", \"high\", \n .         \"low\", \"low\", \"low\", \"low\", \"low\", \"low\", \"low\", \"high\", \n .         \"low\", \"low\", \"low\", \"low\", \"low\", \"low\", \"low\", \"low\", \n .         \"low\", \"low\", \"low\", \"low\", \"low\", \"low\", \"low\", \"low\", \n .         \"low\", \"low\", \"low\", \"low\", \"low\", \"low\", \"low\", \"low\", \n .         \"low\", \"high\", \"high\", \"low\", \"low\", \"low\", \"low\", \"low\", \n .         \"low\", \"low\", \"low\", \"low\", \"low\", \"high\", \"high\", \"low\", \n .         \"low\", \"low\", \"low\", \"low\", \"low\", \"low\", \"low\", \"low\", \n .         \"low\", \"low\", \"low\", \"low\", \"low\", \"low\", \"low\", \"high\", \n .         \"low\", \"high\", \"low\", \"low\", \"low\", \"high\", \"low\", \"low\", \n .         \"low\", \"low\", \"high\", \"low\", \"low\", \"high\", \"low\"), ITGAM = c(\"high\", \n .         \"low\", \"low\", \"low\", \"high\", \"low\", \"high\", \"low\", \"high\", \n .         \"low\", \"low\", \"low\", \"high\", \"high\", \"low\", \"low\", \"low\", \n .         \"high\", \"high\", \"low\", \"low\", \"high\", \"low\", \"low\", \"high\", \n .         \"low\", \"low\", \"high\", \"high\", \"low\", \"low\", \"high\", \"low\", \n .         \"low\", \"high\", \"low\", \"low\", \"high\", \"low\", \"low\", \"low\", \n .         \"low\", \"high\", \"high\", \"high\", \"low\", \"high\", \"low\", \n .         \"low\", \"high\", \"high\", \"low\", \"low\", \"low\", \"low\", \"low\", \n .         \"high\", \"low\", \"high\", \"high\", \"low\", \"low\", \"low\", \"low\", \n .         \"low\", \"low\", \"low\", \"low\", \"low\", \"low\", \"low\", \"high\", \n .         \"low\", \"low\", \"low\", \"low\", \"low\", \"high\", \"low\", \"low\", \n .         \"high\", \"high\", \"low\", \"high\", \"low\", \"low\", \"low\", \"high\", \n .         \"high\", \"low\", \"low\", \"high\", \"high\", \"high\", \"low\", \n .         \"low\", \"high\", \"high\", \"low\", \"low\", \"low\", \"low\", \"high\", \n .         \"high\", \"high\", \"low\", \"high\", \"high\", \"low\", \"high\", \n .         \"high\", \"low\", \"low\", \"low\", \"low\", \"low\", \"low\", \"high\", \n .         \"high\", \"low\", \"low\", \"low\", \"low\", \"high\", \"low\", \"low\", \n .         \"low\", \"low\", \"high\", \"low\", \"low\", \"high\", \"low\", \"high\", \n .         \"high\", \"high\", \"low\", \"low\", \"high\", \"low\", \"high\", \n .         \"low\", \"high\", \"low\", \"low\", \"high\", \"low\", \"low\", \"low\", \n .         \"low\", \"low\", \"high\", \"low\", \"low\", \"low\", \"low\", \"low\", \n .         \"high\", \"high\", \"high\", \"low\", \"high\", \"high\", \"low\", \n .         \"low\", \"low\", \"low\", \"low\", \"high\", \"high\", \"low\", \"low\", \n .         \"low\", \"low\", \"low\", \"low\", \"low\", \"high\", \"low\", \"low\", \n .         \"low\", \"low\", \"low\", \"high\", \"low\", \"low\", \"low\", \"high\", \n .         \"low\", \"high\", \"low\", \"low\", \"low\", \"low\", \"low\", \"high\", \n .         \"low\", \"high\", \"low\", \"low\", \"low\", \"high\", \"low\", \"low\", \n .         \"low\", \"high\", \"low\", \"low\", \"low\", \"low\", \"low\", \"low\", \n .         \"low\", \"low\", \"high\", \"low\", \"low\", \"high\", \"high\", \"low\", \n .         \"low\", \"low\", \"low\", \"low\", \"low\", \"low\", \"low\", \"low\", \n .         \"high\", \"low\", \"low\", \"high\", \"low\", \"low\", \"low\", \"high\", \n .         \"low\", \"high\", \"low\", \"low\", \"low\", \"low\", \"high\", \"low\", \n .         \"low\", \"low\", \"low\", \"low\", \"low\", \"low\", \"low\", \"high\", \n .         \"high\", \"low\", \"low\", \"low\", \"low\", \"high\", \"low\", \"low\", \n .         \"low\", \"low\", \"high\", \"low\", \"low\", \"low\", \"high\", \"high\", \n .         \"low\", \"low\", \"low\", \"low\", \"low\", \"low\", \"low\", \"low\", \n .         \"low\", \"low\", \"low\", \"low\", \"low\", \"low\", \"high\", \"low\", \n .         \"low\", \"high\", \"high\", \"low\", \"high\", \"low\", \"low\", \"low\", \n .         \"high\", \"high\", \"high\", \"high\", \"high\", \"low\", \"low\", \n .         \"low\", \"low\", \"low\", \"high\", \"low\", \"low\", \"low\", \"low\", \n .         \"low\", \"high\", \"low\", \"low\", \"low\", \"high\", \"low\", \"high\", \n .         \"low\", \"low\", \"low\", \"low\", \"low\", \"low\", \"low\", \"low\", \n .         \"high\", \"low\", \"low\", \"high\", \"low\", \"low\", \"low\", \"low\", \n .         \"low\", \"low\", \"low\", \"low\", \"low\", \"low\", \"low\", \"low\", \n .         \"low\", \"low\", \"low\", \"high\", \"low\", \"low\", \"low\", \"low\", \n .         \"low\", \"low\", \"low\", \"low\", \"low\", \"low\", \"low\", \"low\", \n .         \"low\", \"high\", \"low\", \"high\", \"low\", \"low\", \"low\", \"low\", \n .         \"low\", \"low\", \"low\", \"high\", \"low\"), MS4A1 = c(\"high\", \n .         \"low\", \"high\", \"high\", \"high\", \"high\", \"high\", \"low\", \n .         \"high\", \"high\", \"high\", \"high\", \"high\", \"low\", \"high\", \n .         \"low\", \"low\", \"high\", \"high\", \"low\", \"low\", \"high\", \"high\", \n .         \"high\", \"low\", \"low\", \"low\", \"high\", \"high\", \"low\", \"low\", \n .         \"low\", \"high\", \"high\", \"high\", \"high\", \"high\", \"high\", \n .         \"high\", \"low\", \"low\", \"low\", \"low\", \"high\", \"high\", \"low\", \n .         \"high\", \"low\", \"high\", \"high\", \"high\", \"low\", \"high\", \n .         \"high\", \"low\", \"low\", \"low\", \"high\", \"high\", \"high\", \n .         \"low\", \"low\", \"high\", \"high\", \"low\", \"high\", \"low\", \"high\", \n .         \"high\", \"low\", \"low\", \"high\", \"low\", \"high\", \"low\", \"high\", \n .         \"low\", \"high\", \"high\", \"low\", \"low\", \"high\", \"high\", \n .         \"high\", \"low\", \"low\", \"low\", \"high\", \"high\", \"high\", \n .         \"high\", \"low\", \"high\", \"high\", \"low\", \"low\", \"high\", \n .         \"high\", \"high\", \"high\", \"high\", \"high\", \"high\", \"low\", \n .         \"high\", \"high\", \"low\", \"high\", \"low\", \"high\", \"high\", \n .         \"low\", \"low\", \"high\", \"high\", \"low\", \"low\", \"low\", \"high\", \n .         \"high\", \"high\", \"high\", \"high\", \"high\", \"high\", \"low\", \n .         \"low\", \"high\", \"low\", \"high\", \"high\", \"high\", \"high\", \n .         \"high\", \"high\", \"low\", \"high\", \"low\", \"high\", \"high\", \n .         \"high\", \"low\", \"high\", \"high\", \"low\", \"high\", \"high\", \n .         \"high\", \"low\", \"high\", \"low\", \"high\", \"low\", \"high\", \n .         \"low\", \"high\", \"high\", \"high\", \"high\", \"high\", \"high\", \n .         \"high\", \"high\", \"high\", \"high\", \"low\", \"low\", \"high\", \n .         \"high\", \"high\", \"high\", \"high\", \"high\", \"low\", \"low\", \n .         \"high\", \"low\", \"high\", \"high\", \"low\", \"low\", \"high\", \n .         \"high\", \"high\", \"high\", \"low\", \"high\", \"high\", \"high\", \n .         \"high\", \"low\", \"low\", \"low\", \"low\", \"low\", \"high\", \"high\", \n .         \"high\", \"high\", \"high\", \"low\", \"high\", \"low\", \"low\", \n .         \"high\", \"high\", \"low\", \"low\", \"high\", \"high\", \"high\", \n .         \"high\", \"high\", \"low\", \"high\", \"low\", \"low\", \"high\", \n .         \"high\", \"low\", \"low\", \"high\", \"high\", \"low\", \"high\", \n .         \"high\", \"high\", \"high\", \"high\", \"high\", \"high\", \"high\", \n .         \"low\", \"high\", \"high\", \"low\", \"low\", \"low\", \"high\", \"high\", \n .         \"high\", \"high\", \"high\", \"high\", \"low\", \"low\", \"high\", \n .         \"low\", \"high\", \"low\", \"low\", \"high\", \"high\", \"high\", \n .         \"high\", \"high\", \"high\", \"low\", \"high\", \"high\", \"high\", \n .         \"low\", \"high\", \"high\", \"low\", \"high\", \"high\", \"high\", \n .         \"low\", \"high\", \"high\", \"low\", \"low\", \"low\", \"high\", \"high\", \n .         \"low\", \"high\", \"low\", \"high\", \"high\", \"low\", \"low\", \"low\", \n .         \"high\", \"high\", \"high\", \"high\", \"high\", \"high\", \"low\", \n .         \"low\", \"high\", \"low\", \"high\", \"high\", \"high\", \"high\", \n .         \"high\", \"high\", \"high\", \"low\", \"high\", \"high\", \"high\", \n .         \"high\", \"low\", \"high\", \"high\", \"high\", \"high\", \"high\", \n .         \"high\", \"low\", \"high\", \"high\", \"high\", \"high\", \"high\", \n .         \"high\", \"high\", \"low\", \"high\", \"high\", \"high\", \"high\", \n .         \"high\", \"high\", \"high\", \"low\", \"high\", \"low\", \"low\", \n .         \"low\", \"high\", \"high\", \"high\", \"high\", \"low\", \"high\", \n .         \"low\", \"high\", \"high\", \"low\", \"low\", \"high\", \"high\", \n .         \"high\", \"high\", \"high\", \"high\", \"low\", \"high\", \"low\", \n .         \"high\", \"high\", \"high\", \"high\", \"high\", \"high\", \"high\", \n .         \"high\", \"high\", \"high\", \"high\", \"high\", \"high\", \"high\"\n .         ), FOSB = c(\"low\", \"low\", \"low\", \"low\", \"high\", \"high\", \n .         \"low\", \"low\", \"low\", \"low\", \"low\", \"low\", \"low\", \"low\", \n .         \"low\", \"low\", \"low\", \"high\", \"low\", \"low\", \"low\", \"low\", \n .         \"low\", \"low\", \"low\", \"low\", \"low\", \"high\", \"low\", \"low\", \n .         \"low\", \"low\", \"low\", \"high\", \"high\", \"low\", \"low\", \"low\", \n .         \"low\", \"low\", \"low\", \"high\", \"low\", \"high\", \"low\", \"low\", \n .         \"low\", \"low\", \"high\", \"low\", \"low\", \"low\", \"low\", \"low\", \n .         \"low\", \"low\", \"low\", \"high\", \"high\", \"low\", \"low\", \"low\", \n .         \"low\", \"high\", \"low\", \"low\", \"low\", \"low\", \"low\", \"low\", \n .         \"high\", \"high\", \"low\", \"low\", \"low\", \"low\", \"high\", \"low\", \n .         \"low\", \"low\", \"low\", \"low\", \"low\", \"high\", \"low\", \"low\", \n .         \"low\", \"low\", \"low\", \"low\", \"low\", \"low\", \"low\", \"low\", \n .         \"low\", \"low\", \"high\", \"high\", \"low\", \"low\", \"low\", \"low\", \n .         \"low\", \"low\", \"high\", \"low\", \"low\", \"low\", \"low\", \"low\", \n .         \"low\", \"low\", \"high\", \"low\", \"low\", \"low\", \"low\", \"low\", \n .         \"low\", \"low\", \"low\", \"low\", \"low\", \"high\", \"low\", \"high\", \n .         \"low\", \"low\", \"low\", \"low\", \"low\", \"low\", \"high\", \"low\", \n .         \"low\", \"low\", \"low\", \"low\", \"low\", \"low\", \"low\", \"low\", \n .         \"low\", \"low\", \"low\", \"high\", \"low\", \"low\", \"low\", \"low\", \n .         \"low\", \"low\", \"low\", \"low\", \"low\", \"low\", \"low\", \"low\", \n .         \"low\", \"high\", \"low\", \"low\", \"low\", \"low\", \"low\", \"low\", \n .         \"low\", \"low\", \"low\", \"low\", \"low\", \"low\", \"high\", \"low\", \n .         \"low\", \"low\", \"high\", \"low\", \"low\", \"low\", \"low\", \"low\", \n .         \"low\", \"low\", \"low\", \"low\", \"low\", \"high\", \"low\", \"low\", \n .         \"low\", \"low\", \"low\", \"low\", \"high\", \"low\", \"low\", \"low\", \n .         \"low\", \"low\", \"low\", \"high\", \"low\", \"low\", \"low\", \"low\", \n .         \"low\", \"low\", \"low\", \"high\", \"low\", \"low\", \"low\", \"low\", \n .         \"low\", \"low\", \"high\", \"low\", \"low\", \"low\", \"low\", \"low\", \n .         \"low\", \"low\", \"low\", \"low\", \"low\", \"low\", \"low\", \"low\", \n .         \"low\", \"low\", \"high\", \"low\", \"high\", \"low\", \"low\", \"low\", \n .         \"low\", \"low\", \"low\", \"low\", \"low\", \"low\", \"high\", \"low\", \n .         \"low\", \"low\", \"high\", \"low\", \"low\", \"low\", \"low\", \"high\", \n .         \"low\", \"low\", \"low\", \"high\", \"high\", \"low\", \"low\", \"low\", \n .         \"low\", \"low\", \"low\", \"low\", \"low\", \"low\", \"low\", \"high\", \n .         \"low\", \"low\", \"low\", \"low\", \"low\", \"high\", \"low\", \"low\", \n .         \"low\", \"low\", \"low\", \"low\", \"high\", \"low\", \"low\", \"low\", \n .         \"low\", \"low\", \"low\", \"low\", \"high\", \"low\", \"low\", \"high\", \n .         \"low\", \"low\", \"low\", \"low\", \"low\", \"low\", \"low\", \"low\", \n .         \"low\", \"low\", \"low\", \"low\", \"low\", \"low\", \"low\", \"low\", \n .         \"high\", \"low\", \"high\", \"high\", \"low\", \"low\", \"high\", \n .         \"low\", \"low\", \"low\", \"low\", \"high\", \"low\", \"low\", \"low\", \n .         \"low\", \"low\", \"low\", \"high\", \"low\", \"low\", \"low\", \"low\", \n .         \"low\", \"low\", \"low\", \"low\", \"low\", \"low\", \"low\", \"low\", \n .         \"low\", \"low\", \"low\", \"low\", \"low\", \"low\", \"low\", \"low\", \n .         \"low\", \"low\", \"low\", \"low\", \"low\", \"low\", \"low\", \"low\", \n .         \"low\", \"low\", \"low\", \"low\", \"low\", \"low\", \"low\", \"low\", \n .         \"low\", \"low\", \"low\"), FAP = c(\"low\", \"low\", \"low\", \"low\", \n .         \"high\", \"low\", \"low\", \"low\", \"high\", \"low\", \"low\", \"low\", \n .         \"high\", \"low\", \"low\", \"low\", \"low\", \"low\", \"low\", \"low\", \n .         \"low\", \"low\", \"low\", \"low\", \"low\", \"low\", \"low\", \"high\", \n .         \"low\", \"low\", \"low\", \"low\", \"low\", \"low\", \"high\", \"low\", \n .         \"low\", \"low\", \"low\", \"low\", \"low\", \"low\", \"low\", \"high\", \n .         \"low\", \"low\", \"low\", \"low\", \"low\", \"low\", \"low\", \"low\", \n .         \"low\", \"low\", \"low\", \"low\", \"low\", \"high\", \"low\", \"low\", \n .         \"low\", \"high\", \"low\", \"low\", \"low\", \"low\", \"low\", \"low\", \n .         \"low\", \"low\", \"low\", \"high\", \"low\", \"low\", \"low\", \"low\", \n .         \"low\", \"low\", \"low\", \"low\", \"low\", \"high\", \"high\", \"high\", \n .         \"low\", \"low\", \"low\", \"low\", \"high\", \"low\", \"low\", \"low\", \n .         \"high\", \"high\", \"low\", \"low\", \"high\", \"high\", \"low\", \n .         \"low\", \"low\", \"low\", \"high\", \"low\", \"low\", \"low\", \"low\", \n .         \"low\", \"low\", \"high\", \"low\", \"high\", \"low\", \"low\", \"low\", \n .         \"low\", \"low\", \"low\", \"low\", \"low\", \"low\", \"low\", \"low\", \n .         \"low\", \"low\", \"low\", \"low\", \"low\", \"low\", \"low\", \"low\", \n .         \"high\", \"high\", \"low\", \"low\", \"low\", \"low\", \"low\", \"low\", \n .         \"low\", \"low\", \"low\", \"low\", \"low\", \"low\", \"low\", \"low\", \n .         \"low\", \"low\", \"low\", \"low\", \"low\", \"low\", \"low\", \"low\", \n .         \"low\", \"high\", \"high\", \"high\", \"low\", \"low\", \"low\", \"low\", \n .         \"low\", \"low\", \"low\", \"low\", \"low\", \"high\", \"high\", \"low\", \n .         \"low\", \"low\", \"low\", \"low\", \"low\", \"low\", \"low\", \"low\", \n .         \"low\", \"low\", \"low\", \"low\", \"high\", \"low\", \"high\", \"low\", \n .         \"low\", \"low\", \"low\", \"low\", \"high\", \"low\", \"low\", \"low\", \n .         \"low\", \"low\", \"low\", \"low\", \"low\", \"low\", \"high\", \"low\", \n .         \"low\", \"high\", \"low\", \"low\", \"low\", \"low\", \"low\", \"low\", \n .         \"low\", \"high\", \"low\", \"high\", \"low\", \"low\", \"low\", \"high\", \n .         \"low\", \"low\", \"low\", \"low\", \"low\", \"low\", \"low\", \"low\", \n .         \"low\", \"high\", \"low\", \"low\", \"high\", \"low\", \"low\", \"low\", \n .         \"low\", \"low\", \"low\", \"low\", \"high\", \"low\", \"low\", \"high\", \n .         \"low\", \"low\", \"low\", \"low\", \"low\", \"low\", \"low\", \"low\", \n .         \"low\", \"low\", \"high\", \"low\", \"high\", \"low\", \"low\", \"low\", \n .         \"low\", \"low\", \"low\", \"low\", \"low\", \"low\", \"high\", \"low\", \n .         \"high\", \"low\", \"low\", \"low\", \"low\", \"low\", \"low\", \"high\", \n .         \"low\", \"low\", \"low\", \"low\", \"low\", \"low\", \"low\", \"low\", \n .         \"low\", \"low\", \"low\", \"low\", \"low\", \"high\", \"low\", \"low\", \n .         \"low\", \"low\", \"low\", \"low\", \"high\", \"low\", \"low\", \"low\", \n .         \"low\", \"low\", \"low\", \"high\", \"low\", \"low\", \"high\", \"low\", \n .         \"high\", \"low\", \"low\", \"low\", \"low\", \"high\", \"low\", \"high\", \n .         \"low\", \"high\", \"low\", \"low\", \"low\", \"low\", \"low\", \"low\", \n .         \"low\", \"low\", \"low\", \"low\", \"low\", \"low\", \"low\", \"low\", \n .         \"low\", \"low\", \"low\", \"low\", \"low\", \"low\", \"low\", \"low\", \n .         \"low\", \"low\", \"low\", \"low\", \"low\", \"low\", \"low\", \"low\", \n .         \"low\", \"low\", \"low\", \"low\", \"low\", \"low\", \"low\", \"low\", \n .         \"low\", \"low\", \"low\", \"low\", \"low\", \"low\", \"low\", \"low\", \n .         \"low\", \"high\", \"low\", \"low\", \"low\"), GZMB = c(\"low\", \n .         \"low\", \"low\", \"low\", \"low\", \"low\", \"low\", \"high\", \"high\", \n .         \"low\", \"low\", \"low\", \"low\", \"low\", \"high\", \"low\", \"low\", \n .         \"high\", \"low\", \"low\", \"low\", \"low\", \"high\", \"high\", \"high\", \n .         \"low\", \"low\", \"low\", \"high\", \"low\", \"low\", \"low\", \"high\", \n .         \"low\", \"low\", \"low\", \"low\", \"low\", \"low\", \"high\", \"low\", \n .         \"low\", \"low\", \"high\", \"low\", \"low\", \"high\", \"low\", \"low\", \n .         \"high\", \"high\", \"low\", \"high\", \"high\", \"low\", \"high\", \n .         \"low\", \"low\", \"low\", \"high\", \"low\", \"low\", \"low\", \"low\", \n .         \"low\", \"low\", \"low\", \"low\", \"high\", \"low\", \"low\", \"low\", \n .         \"high\", \"high\", \"low\", \"high\", \"low\", \"low\", \"low\", \"low\", \n .         \"low\", \"high\", \"high\", \"low\", \"low\", \"low\", \"high\", \"high\", \n .         \"high\", \"high\", \"high\", \"low\", \"high\", \"low\", \"low\", \n .         \"low\", \"high\", \"low\", \"high\", \"low\", \"low\", \"low\", \"high\", \n .         \"low\", \"high\", \"high\", \"high\", \"low\", \"low\", \"high\", \n .         \"low\", \"low\", \"low\", \"high\", \"low\", \"low\", \"low\", \"low\", \n .         \"low\", \"low\", \"low\", \"low\", \"low\", \"high\", \"high\", \"low\", \n .         \"low\", \"high\", \"high\", \"high\", \"low\", \"low\", \"low\", \"high\", \n .         \"high\", \"low\", \"low\", \"low\", \"high\", \"high\", \"low\", \"low\", \n .         \"high\", \"high\", \"low\", \"high\", \"low\", \"high\", \"low\", \n .         \"low\", \"high\", \"high\", \"low\", \"high\", \"low\", \"low\", \"low\", \n .         \"low\", \"low\", \"high\", \"high\", \"high\", \"high\", \"low\", \n .         \"high\", \"low\", \"low\", \"high\", \"high\", \"high\", \"high\", \n .         \"high\", \"low\", \"low\", \"low\", \"low\", \"low\", \"high\", \"low\", \n .         \"low\", \"low\", \"low\", \"high\", \"high\", \"high\", \"low\", \"high\", \n .         \"low\", \"low\", \"high\", \"low\", \"low\", \"low\", \"low\", \"high\", \n .         \"low\", \"low\", \"high\", \"high\", \"high\", \"low\", \"low\", \"low\", \n .         \"low\", \"high\", \"low\", \"low\", \"low\", \"high\", \"low\", \"high\", \n .         \"high\", \"low\", \"low\", \"low\", \"high\", \"low\", \"high\", \"low\", \n .         \"low\", \"low\", \"high\", \"high\", \"low\", \"low\", \"high\", \"low\", \n .         \"high\", \"low\", \"low\", \"low\", \"high\", \"low\", \"low\", \"low\", \n .         \"high\", \"low\", \"high\", \"high\", \"low\", \"high\", \"high\", \n .         \"low\", \"high\", \"low\", \"low\", \"high\", \"low\", \"high\", \"high\", \n .         \"low\", \"high\", \"low\", \"low\", \"low\", \"low\", \"low\", \"low\", \n .         \"low\", \"low\", \"high\", \"low\", \"low\", \"low\", \"low\", \"high\", \n .         \"high\", \"low\", \"low\", \"low\", \"low\", \"low\", \"low\", \"low\", \n .         \"low\", \"high\", \"low\", \"low\", \"low\", \"high\", \"high\", \"low\", \n .         \"low\", \"low\", \"low\", \"low\", \"high\", \"low\", \"high\", \"high\", \n .         \"low\", \"high\", \"low\", \"low\", \"high\", \"high\", \"high\", \n .         \"high\", \"low\", \"high\", \"low\", \"low\", \"low\", \"low\", \"high\", \n .         \"high\", \"low\", \"low\", \"low\", \"high\", \"low\", \"low\", \"low\", \n .         \"low\", \"low\", \"low\", \"low\", \"low\", \"high\", \"high\", \"low\", \n .         \"low\", \"high\", \"high\", \"low\", \"high\", \"high\", \"low\", \n .         \"low\", \"low\", \"high\", \"low\", \"high\", \"low\", \"high\", \"high\", \n .         \"low\", \"high\", \"low\", \"high\", \"low\", \"low\", \"high\", \"low\", \n .         \"high\", \"low\", \"high\", \"high\", \"low\", \"high\", \"high\", \n .         \"low\", \"high\", \"high\", \"high\", \"low\", \"low\", \"high\", \n .         \"high\", \"low\", \"low\", \"low\", \"high\", \"high\", \"high\", \n .         \"low\", \"high\", \"low\"), PDCD1 = c(\"high\", \"low\", \"low\", \n .         \"low\", \"high\", \"low\", \"high\", \"high\", \"high\", \"low\", \n .         \"high\", \"low\", \"high\", \"high\", \"high\", \"low\", \"high\", \n .         \"high\", \"high\", \"low\", \"low\", \"high\", \"high\", \"high\", \n .         \"high\", \"low\", \"high\", \"high\", \"high\", \"high\", \"high\", \n .         \"low\", \"high\", \"low\", \"high\", \"high\", \"high\", \"high\", \n .         \"high\", \"high\", \"low\", \"low\", \"high\", \"high\", \"high\", \n .         \"low\", \"high\", \"low\", \"high\", \"high\", \"high\", \"low\", \n .         \"high\", \"high\", \"low\", \"high\", \"low\", \"high\", \"low\", \n .         \"high\", \"low\", \"high\", \"high\", \"high\", \"low\", \"low\", \n .         \"high\", \"high\", \"high\", \"low\", \"high\", \"high\", \"high\", \n .         \"high\", \"high\", \"high\", \"high\", \"low\", \"low\", \"high\", \n .         \"low\", \"high\", \"high\", \"high\", \"high\", \"low\", \"high\", \n .         \"high\", \"high\", \"high\", \"low\", \"high\", \"high\", \"low\", \n .         \"low\", \"low\", \"high\", \"low\", \"high\", \"low\", \"low\", \"low\", \n .         \"low\", \"low\", \"high\", \"high\", \"high\", \"high\", \"low\", \n .         \"high\", \"high\", \"low\", \"low\", \"low\", \"high\", \"low\", \"low\", \n .         \"low\", \"high\", \"low\", \"low\", \"high\", \"low\", \"high\", \"high\", \n .         \"low\", \"low\", \"low\", \"high\", \"high\", \"low\", \"high\", \"low\", \n .         \"high\", \"high\", \"low\", \"low\", \"low\", \"high\", \"high\", \n .         \"low\", \"low\", \"high\", \"high\", \"low\", \"high\", \"low\", \"high\", \n .         \"low\", \"high\", \"high\", \"high\", \"low\", \"low\", \"low\", \"high\", \n .         \"low\", \"high\", \"high\", \"high\", \"high\", \"high\", \"high\", \n .         \"high\", \"high\", \"low\", \"low\", \"high\", \"high\", \"high\", \n .         \"high\", \"high\", \"high\", \"high\", \"high\", \"high\", \"high\", \n .         \"high\", \"high\", \"low\", \"high\", \"low\", \"high\", \"high\", \n .         \"high\", \"low\", \"high\", \"low\", \"low\", \"high\", \"low\", \"low\", \n .         \"high\", \"low\", \"high\", \"low\", \"low\", \"high\", \"high\", \n .         \"high\", \"low\", \"high\", \"high\", \"low\", \"high\", \"high\", \n .         \"low\", \"low\", \"high\", \"low\", \"low\", \"high\", \"high\", \"high\", \n .         \"high\", \"high\", \"high\", \"high\", \"high\", \"low\", \"high\", \n .         \"high\", \"high\", \"low\", \"high\", \"high\", \"low\", \"high\", \n .         \"high\", \"low\", \"low\", \"high\", \"low\", \"low\", \"low\", \"high\", \n .         \"low\", \"high\", \"high\", \"high\", \"high\", \"high\", \"low\", \n .         \"high\", \"low\", \"low\", \"high\", \"low\", \"high\", \"high\", \n .         \"high\", \"high\", \"high\", \"low\", \"high\", \"low\", \"high\", \n .         \"low\", \"high\", \"high\", \"low\", \"low\", \"low\", \"high\", \"low\", \n .         \"low\", \"high\", \"high\", \"low\", \"low\", \"low\", \"low\", \"low\", \n .         \"low\", \"high\", \"high\", \"low\", \"low\", \"low\", \"high\", \"high\", \n .         \"low\", \"low\", \"low\", \"high\", \"high\", \"high\", \"low\", \"high\", \n .         \"high\", \"low\", \"high\", \"high\", \"low\", \"high\", \"high\", \n .         \"high\", \"high\", \"low\", \"high\", \"low\", \"high\", \"low\", \n .         \"high\", \"low\", \"high\", \"high\", \"high\", \"low\", \"high\", \n .         \"high\", \"high\", \"low\", \"low\", \"high\", \"high\", \"high\", \n .         \"low\", \"high\", \"high\", \"high\", \"low\", \"high\", \"high\", \n .         \"low\", \"high\", \"high\", \"high\", \"low\", \"low\", \"high\", \n .         \"high\", \"high\", \"high\", \"high\", \"high\", \"low\", \"high\", \n .         \"low\", \"high\", \"low\", \"high\", \"low\", \"low\", \"high\", \"low\", \n .         \"low\", \"low\", \"high\", \"high\", \"low\", \"high\", \"high\", \n .         \"low\", \"high\", \"high\", \"high\", \"high\", \"high\", \"high\", \n .         \"low\", \"high\", \"high\", \"high\", \"high\", \"low\", \"high\", \n .         \"high\"), MKI67 = c(\"high\", \"high\", \"high\", \"low\", \"high\", \n .         \"high\", \"high\", \"high\", \"high\", \"high\", \"low\", \"low\", \n .         \"high\", \"high\", \"high\", \"low\", \"low\", \"high\", \"high\", \n .         \"low\", \"high\", \"high\", \"high\", \"high\", \"high\", \"low\", \n .         \"high\", \"high\", \"high\", \"high\", \"high\", \"high\", \"high\", \n .         \"high\", \"high\", \"high\", \"low\", \"high\", \"high\", \"high\", \n .         \"high\", \"high\", \"high\", \"high\", \"high\", \"low\", \"high\", \n .         \"high\", \"high\", \"high\", \"high\", \"high\", \"high\", \"high\", \n .         \"high\", \"high\", \"low\", \"high\", \"low\", \"high\", \"high\", \n .         \"high\", \"high\", \"low\", \"high\", \"high\", \"high\", \"low\", \n .         \"low\", \"high\", \"high\", \"high\", \"high\", \"high\", \"high\", \n .         \"low\", \"low\", \"high\", \"high\", \"high\", \"high\", \"high\", \n .         \"high\", \"high\", \"high\", \"high\", \"low\", \"high\", \"high\", \n .         \"high\", \"low\", \"high\", \"high\", \"high\", \"high\", \"high\", \n .         \"high\", \"high\", \"high\", \"high\", \"high\", \"low\", \"high\", \n .         \"high\", \"high\", \"high\", \"high\", \"low\", \"high\", \"high\", \n .         \"high\", \"low\", \"high\", \"high\", \"high\", \"high\", \"high\", \n .         \"high\", \"high\", \"high\", \"high\", \"high\", \"high\", \"high\", \n .         \"high\", \"high\", \"high\", \"high\", \"low\", \"high\", \"high\", \n .         \"low\", \"high\", \"high\", \"high\", \"high\", \"high\", \"high\", \n .         \"low\", \"low\", \"high\", \"high\", \"high\", \"high\", \"low\", \n .         \"high\", \"high\", \"high\", \"low\", \"low\", \"high\", \"high\", \n .         \"high\", \"high\", \"high\", \"high\", \"high\", \"high\", \"high\", \n .         \"high\", \"high\", \"high\", \"high\", \"high\", \"high\", \"high\", \n .         \"high\", \"low\", \"high\", \"low\", \"low\", \"high\", \"high\", \n .         \"high\", \"low\", \"high\", \"high\", \"high\", \"high\", \"high\", \n .         \"low\", \"high\", \"high\", \"high\", \"high\", \"high\", \"high\", \n .         \"high\", \"low\", \"high\", \"high\", \"high\", \"high\", \"high\", \n .         \"high\", \"high\", \"low\", \"high\", \"high\", \"high\", \"high\", \n .         \"high\", \"high\", \"low\", \"high\", \"high\", \"high\", \"low\", \n .         \"high\", \"high\", \"low\", \"high\", \"low\", \"high\", \"high\", \n .         \"high\", \"high\", \"high\", \"high\", \"high\", \"high\", \"low\", \n .         \"high\", \"high\", \"high\", \"low\", \"high\", \"high\", \"high\", \n .         \"high\", \"high\", \"high\", \"high\", \"high\", \"low\", \"low\", \n .         \"high\", \"high\", \"high\", \"high\", \"high\", \"high\", \"high\", \n .         \"high\", \"high\", \"high\", \"high\", \"low\", \"low\", \"high\", \n .         \"low\", \"high\", \"low\", \"high\", \"high\", \"low\", \"high\", \n .         \"high\", \"high\", \"high\", \"high\", \"high\", \"high\", \"high\", \n .         \"high\", \"high\", \"high\", \"high\", \"high\", \"high\", \"high\", \n .         \"high\", \"high\", \"high\", \"high\", \"high\", \"high\", \"high\", \n .         \"high\", \"high\", \"low\", \"high\", \"high\", \"low\", \"high\", \n .         \"low\", \"low\", \"high\", \"low\", \"high\", \"high\", \"high\", \n .         \"high\", \"high\", \"high\", \"low\", \"high\", \"high\", \"low\", \n .         \"low\", \"high\", \"high\", \"high\", \"high\", \"high\", \"low\", \n .         \"high\", \"high\", \"low\", \"high\", \"high\", \"low\", \"high\", \n .         \"high\", \"high\", \"high\", \"low\", \"high\", \"high\", \"high\", \n .         \"low\", \"high\", \"high\", \"high\", \"high\", \"high\", \"high\", \n .         \"high\", \"high\", \"high\", \"high\", \"high\", \"high\", \"low\", \n .         \"high\", \"high\", \"high\", \"high\", \"high\", \"high\", \"low\", \n .         \"low\", \"high\", \"high\", \"high\", \"high\", \"low\", \"low\", \n .         \"high\", \"low\", \"low\", \"high\", \"high\", \"low\", \"high\", \n .         \"low\", \"high\", \"high\", \"high\", \"high\", \"high\", \"high\", \n .         \"high\", \"low\", \"high\", \"high\", \"high\", \"high\"), GATA3 = c(\"high\", \n .         \"low\", \"low\", \"low\", \"high\", \"high\", \"high\", \"high\", \n .         \"high\", \"high\", \"low\", \"low\", \"high\", \"high\", \"low\", \n .         \"low\", \"high\", \"high\", \"low\", \"low\", \"low\", \"high\", \"low\", \n .         \"high\", \"high\", \"low\", \"high\", \"high\", \"high\", \"low\", \n .         \"low\", \"low\", \"high\", \"low\", \"high\", \"low\", \"high\", \"low\", \n .         \"high\", \"high\", \"low\", \"high\", \"high\", \"high\", \"high\", \n .         \"high\", \"high\", \"low\", \"low\", \"high\", \"high\", \"low\", \n .         \"high\", \"low\", \"low\", \"high\", \"high\", \"high\", \"low\", \n .         \"high\", \"low\", \"high\", \"high\", \"high\", \"high\", \"low\", \n .         \"low\", \"low\", \"high\", \"high\", \"low\", \"high\", \"high\", \n .         \"high\", \"high\", \"high\", \"high\", \"low\", \"low\", \"low\", \n .         \"low\", \"high\", \"low\", \"high\", \"low\", \"low\", \"low\", \"low\", \n .         \"high\", \"high\", \"high\", \"low\", \"high\", \"high\", \"low\", \n .         \"high\", \"high\", \"high\", \"low\", \"low\", \"low\", \"low\", \"high\", \n .         \"high\", \"high\", \"high\", \"low\", \"low\", \"low\", \"high\", \n .         \"high\", \"high\", \"low\", \"low\", \"low\", \"low\", \"low\", \"high\", \n .         \"high\", \"high\", \"low\", \"high\", \"low\", \"high\", \"high\", \n .         \"low\", \"low\", \"high\", \"high\", \"high\", \"high\", \"high\", \n .         \"high\", \"high\", \"high\", \"high\", \"high\", \"low\", \"high\", \n .         \"low\", \"high\", \"low\", \"high\", \"high\", \"high\", \"high\", \n .         \"low\", \"high\", \"low\", \"high\", \"high\", \"high\", \"high\", \n .         \"low\", \"low\", \"high\", \"high\", \"high\", \"high\", \"high\", \n .         \"low\", \"high\", \"high\", \"low\", \"high\", \"high\", \"low\", \n .         \"high\", \"high\", \"high\", \"high\", \"high\", \"high\", \"low\", \n .         \"low\", \"low\", \"low\", \"high\", \"high\", \"low\", \"high\", \"low\", \n .         \"low\", \"high\", \"high\", \"high\", \"low\", \"high\", \"high\", \n .         \"high\", \"low\", \"high\", \"low\", \"high\", \"high\", \"high\", \n .         \"high\", \"high\", \"high\", \"low\", \"low\", \"high\", \"high\", \n .         \"low\", \"high\", \"low\", \"low\", \"low\", \"high\", \"high\", \"high\", \n .         \"high\", \"high\", \"high\", \"high\", \"high\", \"low\", \"low\", \n .         \"high\", \"low\", \"low\", \"low\", \"low\", \"high\", \"high\", \"high\", \n .         \"high\", \"high\", \"high\", \"low\", \"low\", \"high\", \"low\", \n .         \"low\", \"low\", \"high\", \"high\", \"high\", \"low\", \"low\", \"low\", \n .         \"high\", \"high\", \"high\", \"high\", \"high\", \"low\", \"low\", \n .         \"high\", \"high\", \"high\", \"high\", \"high\", \"high\", \"high\", \n .         \"high\", \"low\", \"high\", \"low\", \"high\", \"low\", \"high\", \n .         \"low\", \"high\", \"low\", \"high\", \"high\", \"high\", \"low\", \n .         \"high\", \"low\", \"high\", \"low\", \"high\", \"high\", \"high\", \n .         \"high\", \"high\", \"low\", \"high\", \"low\", \"low\", \"low\", \"high\", \n .         \"high\", \"low\", \"high\", \"high\", \"high\", \"low\", \"low\", \n .         \"low\", \"high\", \"low\", \"high\", \"high\", \"high\", \"high\", \n .         \"low\", \"high\", \"low\", \"high\", \"high\", \"low\", \"low\", \"high\", \n .         \"low\", \"low\", \"high\", \"high\", \"low\", \"low\", \"high\", \"low\", \n .         \"high\", \"low\", \"high\", \"high\", \"high\", \"high\", \"low\", \n .         \"low\", \"low\", \"high\", \"high\", \"low\", \"high\", \"low\", \"low\", \n .         \"low\", \"low\", \"high\", \"high\", \"low\", \"high\", \"high\", \n .         \"high\", \"high\", \"low\", \"high\", \"low\", \"low\", \"low\", \"low\", \n .         \"high\", \"high\", \"high\", \"high\", \"low\", \"high\", \"low\", \n .         \"low\", \"high\", \"low\", \"high\", \"high\", \"high\", \"high\", \n .         \"high\", \"low\", \"high\", \"low\", \"high\", \"low\", \"high\", \n .         \"low\", \"high\", \"high\"), PTPRC = c(\"high\", \"low\", \"low\", \n .         \"low\", \"high\", \"low\", \"high\", \"low\", \"high\", \"low\", \"low\", \n .         \"low\", \"high\", \"low\", \"low\", \"low\", \"low\", \"high\", \"high\", \n .         \"low\", \"low\", \"high\", \"low\", \"high\", \"high\", \"low\", \"low\", \n .         \"high\", \"high\", \"low\", \"low\", \"low\", \"low\", \"low\", \"high\", \n .         \"low\", \"low\", \"high\", \"low\", \"low\", \"low\", \"low\", \"low\", \n .         \"high\", \"high\", \"low\", \"high\", \"low\", \"low\", \"high\", \n .         \"high\", \"low\", \"low\", \"low\", \"low\", \"low\", \"low\", \"low\", \n .         \"low\", \"high\", \"low\", \"low\", \"low\", \"low\", \"low\", \"low\", \n .         \"low\", \"low\", \"low\", \"low\", \"low\", \"high\", \"low\", \"low\", \n .         \"low\", \"high\", \"low\", \"low\", \"low\", \"low\", \"low\", \"high\", \n .         \"high\", \"high\", \"low\", \"low\", \"low\", \"high\", \"high\", \n .         \"low\", \"low\", \"high\", \"high\", \"low\", \"low\", \"low\", \"high\", \n .         \"high\", \"low\", \"low\", \"low\", \"low\", \"high\", \"low\", \"high\", \n .         \"low\", \"high\", \"high\", \"low\", \"high\", \"low\", \"low\", \"low\", \n .         \"low\", \"low\", \"low\", \"low\", \"high\", \"high\", \"low\", \"low\", \n .         \"low\", \"low\", \"high\", \"high\", \"low\", \"low\", \"low\", \"high\", \n .         \"low\", \"low\", \"high\", \"low\", \"high\", \"high\", \"low\", \"low\", \n .         \"low\", \"high\", \"low\", \"high\", \"low\", \"high\", \"high\", \n .         \"low\", \"high\", \"low\", \"low\", \"low\", \"high\", \"low\", \"high\", \n .         \"low\", \"low\", \"low\", \"low\", \"low\", \"high\", \"high\", \"high\", \n .         \"high\", \"high\", \"high\", \"low\", \"high\", \"low\", \"low\", \n .         \"low\", \"high\", \"high\", \"high\", \"low\", \"high\", \"low\", \n .         \"low\", \"low\", \"low\", \"high\", \"low\", \"low\", \"low\", \"low\", \n .         \"low\", \"high\", \"high\", \"low\", \"low\", \"low\", \"low\", \"low\", \n .         \"low\", \"low\", \"low\", \"low\", \"low\", \"high\", \"low\", \"high\", \n .         \"low\", \"low\", \"low\", \"low\", \"low\", \"low\", \"high\", \"high\", \n .         \"low\", \"low\", \"low\", \"low\", \"low\", \"low\", \"low\", \"low\", \n .         \"high\", \"low\", \"low\", \"high\", \"high\", \"low\", \"low\", \"low\", \n .         \"high\", \"low\", \"low\", \"high\", \"low\", \"low\", \"low\", \"low\", \n .         \"low\", \"high\", \"low\", \"low\", \"low\", \"high\", \"low\", \"high\", \n .         \"low\", \"high\", \"low\", \"high\", \"low\", \"high\", \"low\", \"low\", \n .         \"low\", \"low\", \"high\", \"low\", \"low\", \"high\", \"high\", \"low\", \n .         \"low\", \"low\", \"low\", \"low\", \"low\", \"low\", \"low\", \"low\", \n .         \"low\", \"low\", \"low\", \"low\", \"high\", \"high\", \"low\", \"low\", \n .         \"low\", \"low\", \"low\", \"low\", \"low\", \"high\", \"low\", \"low\", \n .         \"low\", \"low\", \"low\", \"low\", \"high\", \"low\", \"high\", \"high\", \n .         \"high\", \"low\", \"high\", \"low\", \"low\", \"low\", \"high\", \"low\", \n .         \"high\", \"high\", \"high\", \"high\", \"low\", \"high\", \"low\", \n .         \"low\", \"low\", \"low\", \"low\", \"high\", \"low\", \"low\", \"high\", \n .         \"low\", \"low\", \"low\", \"high\", \"low\", \"high\", \"low\", \"low\", \n .         \"low\", \"low\", \"low\", \"high\", \"low\", \"high\", \"high\", \"low\", \n .         \"low\", \"high\", \"low\", \"low\", \"low\", \"low\", \"low\", \"low\", \n .         \"low\", \"high\", \"low\", \"low\", \"high\", \"low\", \"high\", \"low\", \n .         \"low\", \"high\", \"low\", \"low\", \"low\", \"low\", \"low\", \"low\", \n .         \"low\", \"high\", \"low\", \"high\", \"low\", \"high\", \"high\", \n .         \"high\", \"low\", \"high\", \"low\", \"low\", \"high\", \"low\", \"high\", \n .         \"high\", \"low\", \"high\", \"low\"), CD3D = c(\"low\", \"low\", \n .         \"low\", \"low\", \"low\", \"low\", \"low\", \"low\", \"high\", \"low\", \n .         \"low\", \"low\", \"low\", \"low\", \"low\", \"low\", \"low\", \"high\", \n .         \"high\", \"low\", \"low\", \"low\", \"high\", \"high\", \"low\", \"low\", \n .         \"low\", \"high\", \"high\", \"low\", \"low\", \"low\", \"low\", \"low\", \n .         \"low\", \"low\", \"low\", \"low\", \"high\", \"low\", \"low\", \"low\", \n .         \"low\", \"high\", \"low\", \"low\", \"high\", \"low\", \"low\", \"high\", \n .         \"high\", \"low\", \"low\", \"low\", \"low\", \"low\", \"low\", \"low\", \n .         \"low\", \"high\", \"low\", \"low\", \"low\", \"high\", \"low\", \"high\", \n .         \"low\", \"low\", \"high\", \"low\", \"low\", \"low\", \"low\", \"low\", \n .         \"low\", \"high\", \"low\", \"low\", \"low\", \"low\", \"low\", \"low\", \n .         \"high\", \"high\", \"low\", \"low\", \"high\", \"low\", \"high\", \n .         \"low\", \"low\", \"low\", \"high\", \"low\", \"low\", \"low\", \"high\", \n .         \"low\", \"low\", \"low\", \"low\", \"low\", \"low\", \"low\", \"high\", \n .         \"high\", \"low\", \"high\", \"low\", \"high\", \"low\", \"low\", \"low\", \n .         \"low\", \"low\", \"low\", \"low\", \"low\", \"low\", \"low\", \"low\", \n .         \"low\", \"low\", \"low\", \"low\", \"low\", \"low\", \"low\", \"high\", \n .         \"high\", \"low\", \"high\", \"low\", \"high\", \"high\", \"low\", \n .         \"low\", \"low\", \"high\", \"high\", \"low\", \"low\", \"low\", \"high\", \n .         \"low\", \"high\", \"low\", \"low\", \"low\", \"low\", \"low\", \"high\", \n .         \"low\", \"low\", \"low\", \"low\", \"low\", \"high\", \"low\", \"high\", \n .         \"high\", \"high\", \"high\", \"low\", \"high\", \"low\", \"low\", \n .         \"low\", \"high\", \"high\", \"high\", \"low\", \"high\", \"low\", \n .         \"low\", \"low\", \"low\", \"high\", \"low\", \"low\", \"low\", \"low\", \n .         \"low\", \"high\", \"high\", \"low\", \"low\", \"low\", \"low\", \"low\", \n .         \"low\", \"low\", \"low\", \"low\", \"low\", \"low\", \"low\", \"high\", \n .         \"high\", \"low\", \"low\", \"low\", \"low\", \"low\", \"low\", \"low\", \n .         \"low\", \"low\", \"low\", \"low\", \"high\", \"high\", \"high\", \"low\", \n .         \"low\", \"low\", \"low\", \"low\", \"low\", \"low\", \"low\", \"low\", \n .         \"low\", \"low\", \"low\", \"high\", \"low\", \"low\", \"low\", \"low\", \n .         \"low\", \"high\", \"low\", \"low\", \"low\", \"low\", \"low\", \"high\", \n .         \"low\", \"low\", \"low\", \"high\", \"low\", \"high\", \"low\", \"low\", \n .         \"low\", \"low\", \"high\", \"low\", \"low\", \"high\", \"high\", \"low\", \n .         \"low\", \"low\", \"low\", \"low\", \"low\", \"low\", \"low\", \"low\", \n .         \"low\", \"low\", \"low\", \"high\", \"low\", \"high\", \"low\", \"low\", \n .         \"low\", \"low\", \"low\", \"low\", \"low\", \"high\", \"low\", \"low\", \n .         \"low\", \"high\", \"low\", \"low\", \"low\", \"low\", \"high\", \"low\", \n .         \"high\", \"low\", \"high\", \"high\", \"low\", \"low\", \"low\", \"low\", \n .         \"high\", \"high\", \"high\", \"low\", \"low\", \"high\", \"low\", \n .         \"low\", \"low\", \"low\", \"low\", \"high\", \"low\", \"low\", \"low\", \n .         \"low\", \"low\", \"low\", \"low\", \"low\", \"low\", \"high\", \"low\", \n .         \"low\", \"high\", \"high\", \"low\", \"low\", \"high\", \"low\", \"low\", \n .         \"low\", \"low\", \"low\", \"low\", \"low\", \"high\", \"low\", \"high\", \n .         \"low\", \"high\", \"low\", \"low\", \"high\", \"low\", \"high\", \"low\", \n .         \"low\", \"low\", \"low\", \"low\", \"low\", \"low\", \"low\", \"low\", \n .         \"high\", \"high\", \"low\", \"high\", \"low\", \"high\", \"low\", \n .         \"high\", \"low\", \"high\", \"high\", \"low\", \"low\", \"low\", \"high\", \n .         \"low\", \"low\", \"high\", \"low\"), TNF = c(\"low\", \"low\", \"low\", \n .         \"low\", \"high\", \"low\", \"low\", \"low\", \"high\", \"low\", \"high\", \n .         \"low\", \"low\", \"high\", \"low\", \"low\", \"low\", \"low\", \"high\", \n .         \"low\", \"high\", \"high\", \"low\", \"high\", \"high\", \"low\", \n .         \"low\", \"low\", \"low\", \"low\", \"high\", \"high\", \"low\", \"low\", \n .         \"low\", \"low\", \"low\", \"low\", \"low\", \"high\", \"low\", \"low\", \n .         \"low\", \"high\", \"low\", \"low\", \"high\", \"low\", \"low\", \"low\", \n .         \"high\", \"low\", \"high\", \"high\", \"low\", \"high\", \"low\", \n .         \"low\", \"low\", \"high\", \"high\", \"low\", \"low\", \"high\", \"high\", \n .         \"low\", \"low\", \"high\", \"low\", \"low\", \"low\", \"low\", \"high\", \n .         \"low\", \"low\", \"low\", \"low\", \"low\", \"low\", \"low\", \"low\", \n .         \"high\", \"low\", \"high\", \"low\", \"low\", \"low\", \"high\", \"high\", \n .         \"low\", \"low\", \"low\", \"high\", \"low\", \"low\", \"high\", \"high\", \n .         \"low\", \"low\", \"low\", \"low\", \"low\", \"high\", \"low\", \"high\", \n .         \"high\", \"low\", \"low\", \"high\", \"low\", \"high\", \"low\", \"low\", \n .         \"low\", \"low\", \"low\", \"low\", \"low\", \"low\", \"low\", \"low\", \n .         \"low\", \"low\", \"low\", \"high\", \"high\", \"low\", \"low\", \"low\", \n .         \"low\", \"low\", \"high\", \"high\", \"low\", \"low\", \"low\", \"low\", \n .         \"low\", \"high\", \"high\", \"low\", \"low\", \"low\", \"low\", \"low\", \n .         \"low\", \"low\", \"low\", \"low\", \"high\", \"low\", \"low\", \"low\", \n .         \"high\", \"low\", \"high\", \"low\", \"high\", \"low\", \"high\", \n .         \"low\", \"high\", \"high\", \"high\", \"high\", \"low\", \"low\", \n .         \"low\", \"high\", \"low\", \"high\", \"low\", \"high\", \"low\", \"high\", \n .         \"low\", \"high\", \"low\", \"low\", \"low\", \"low\", \"high\", \"high\", \n .         \"low\", \"high\", \"low\", \"high\", \"low\", \"low\", \"low\", \"low\", \n .         \"low\", \"low\", \"low\", \"low\", \"high\", \"low\", \"high\", \"low\", \n .         \"low\", \"high\", \"high\", \"low\", \"high\", \"high\", \"high\", \n .         \"low\", \"low\", \"low\", \"low\", \"high\", \"high\", \"low\", \"low\", \n .         \"high\", \"low\", \"low\", \"low\", \"low\", \"low\", \"high\", \"low\", \n .         \"high\", \"low\", \"low\", \"low\", \"low\", \"low\", \"high\", \"low\", \n .         \"low\", \"high\", \"high\", \"low\", \"low\", \"high\", \"low\", \"high\", \n .         \"low\", \"high\", \"high\", \"low\", \"high\", \"low\", \"low\", \"high\", \n .         \"low\", \"high\", \"low\", \"low\", \"low\", \"low\", \"low\", \"high\", \n .         \"low\", \"low\", \"low\", \"high\", \"high\", \"high\", \"high\", \n .         \"low\", \"low\", \"high\", \"low\", \"low\", \"high\", \"low\", \"low\", \n .         \"low\", \"low\", \"high\", \"low\", \"low\", \"low\", \"high\", \"low\", \n .         \"low\", \"low\", \"low\", \"high\", \"low\", \"high\", \"low\", \"low\", \n .         \"low\", \"low\", \"high\", \"low\", \"low\", \"high\", \"low\", \"low\", \n .         \"high\", \"high\", \"low\", \"low\", \"low\", \"low\", \"low\", \"low\", \n .         \"low\", \"low\", \"low\", \"low\", \"low\", \"low\", \"low\", \"low\", \n .         \"high\", \"high\", \"low\", \"high\", \"high\", \"high\", \"high\", \n .         \"low\", \"high\", \"high\", \"low\", \"high\", \"high\", \"low\", \n .         \"high\", \"high\", \"low\", \"high\", \"low\", \"low\", \"low\", \"low\", \n .         \"low\", \"high\", \"low\", \"low\", \"high\", \"low\", \"low\", \"high\", \n .         \"low\", \"low\", \"low\", \"high\", \"high\", \"low\", \"low\", \"low\", \n .         \"low\", \"low\", \"low\", \"low\", \"low\", \"high\", \"low\", \"low\", \n .         \"low\", \"low\", \"high\", \"high\", \"high\", \"low\", \"high\", \n .         \"high\", \"low\", \"low\", \"low\", \"low\", \"low\"), GPM6A = c(\"low\", \n .         \"low\", \"low\", \"high\", \"low\", \"low\", \"low\", \"low\", \"low\", \n .         \"low\", \"low\", \"low\", \"low\", \"low\", \"low\", \"low\", \"low\", \n .         \"low\", \"low\", \"high\", \"low\", \"low\", \"low\", \"low\", \"low\", \n .         \"high\", \"low\", \"low\", \"low\", \"high\", \"low\", \"high\", \"low\", \n .         \"low\", \"low\", \"low\", \"low\", \"low\", \"low\", \"high\", \"low\", \n .         \"low\", \"low\", \"low\", \"high\", \"high\", \"low\", \"low\", \"low\", \n .         \"low\", \"low\", \"high\", \"low\", \"high\", \"low\", \"low\", \"low\", \n .         \"low\", \"high\", \"low\", \"high\", \"low\", \"low\", \"low\", \"high\", \n .         \"low\", \"low\", \"low\", \"high\", \"low\", \"high\", \"low\", \"low\", \n .         \"low\", \"low\", \"low\", \"low\", \"low\", \"low\", \"low\", \"low\", \n .         \"low\", \"low\", \"low\", \"low\", \"high\", \"low\", \"low\", \"low\", \n .         \"low\", \"low\", \"low\", \"low\", \"low\", \"low\", \"low\", \"low\", \n .         \"low\", \"low\", \"low\", \"low\", \"high\", \"low\", \"low\", \"high\", \n .         \"low\", \"low\", \"low\", \"low\", \"low\", \"low\", \"low\", \"high\", \n .         \"low\", \"low\", \"low\", \"low\", \"high\", \"low\", \"low\", \"low\", \n .         \"low\", \"low\", \"high\", \"low\", \"high\", \"low\", \"low\", \"low\", \n .         \"high\", \"low\", \"low\", \"high\", \"low\", \"low\", \"low\", \"low\", \n .         \"high\", \"low\", \"low\", \"high\", \"high\", \"high\", \"low\", \n .         \"high\", \"low\", \"high\", \"low\", \"high\", \"low\", \"low\", \"high\", \n .         \"low\", \"high\", \"low\", \"low\", \"low\", \"low\", \"low\", \"low\", \n .         \"low\", \"low\", \"low\", \"low\", \"low\", \"low\", \"low\", \"low\", \n .         \"low\", \"low\", \"low\", \"low\", \"low\", \"high\", \"low\", \"high\", \n .         \"low\", \"low\", \"high\", \"low\", \"low\", \"low\", \"low\", \"low\", \n .         \"low\", \"low\", \"low\", \"low\", \"low\", \"low\", \"high\", \"low\", \n .         \"low\", \"low\", \"low\", \"low\", \"high\", \"low\", \"high\", \"low\", \n .         \"low\", \"low\", \"low\", \"high\", \"low\", \"low\", \"low\", \"low\", \n .         \"low\", \"low\", \"low\", \"high\", \"low\", \"low\", \"low\", \"low\", \n .         \"high\", \"low\", \"low\", \"high\", \"low\", \"low\", \"low\", \"low\", \n .         \"low\", \"low\", \"low\", \"high\", \"low\", \"low\", \"high\", \"low\", \n .         \"low\", \"high\", \"high\", \"low\", \"low\", \"low\", \"low\", \"low\", \n .         \"low\", \"low\", \"low\", \"low\", \"low\", \"low\", \"low\", \"low\", \n .         \"low\", \"low\", \"low\", \"high\", \"high\", \"low\", \"low\", \"high\", \n .         \"low\", \"high\", \"low\", \"low\", \"low\", \"low\", \"low\", \"high\", \n .         \"high\", \"low\", \"low\", \"low\", \"low\", \"low\", \"low\", \"low\", \n .         \"high\", \"high\", \"low\", \"low\", \"low\", \"high\", \"high\", \n .         \"low\", \"low\", \"low\", \"high\", \"low\", \"high\", \"low\", \"high\", \n .         \"high\", \"low\", \"low\", \"high\", \"low\", \"low\", \"low\", \"low\", \n .         \"low\", \"low\", \"low\", \"low\", \"high\", \"high\", \"high\", \"low\", \n .         \"low\", \"low\", \"low\", \"high\", \"low\", \"high\", \"high\", \"low\", \n .         \"high\", \"low\", \"high\", \"high\", \"low\", \"low\", \"low\", \"low\", \n .         \"low\", \"high\", \"low\", \"low\", \"low\", \"low\", \"low\", \"low\", \n .         \"low\", \"low\", \"low\", \"high\", \"low\", \"low\", \"low\", \"high\", \n .         \"high\", \"low\", \"low\", \"low\", \"low\", \"high\", \"high\", \"low\", \n .         \"high\", \"low\", \"low\", \"low\", \"low\", \"high\", \"low\", \"low\", \n .         \"low\", \"low\", \"low\", \"high\", \"high\", \"low\", \"low\", \"low\", \n .         \"low\", \"low\", \"low\", \"low\", \"low\", \"low\", \"low\", \"low\", \n .         \"high\"), B3GAT1 = c(\"high\", \"high\", \"low\", \"high\", \"high\", \n .         \"high\", \"high\", \"high\", \"high\", \"low\", \"high\", \"high\", \n .         \"high\", \"high\", \"high\", \"high\", \"low\", \"high\", \"high\", \n .         \"high\", \"low\", \"high\", \"low\", \"high\", \"high\", \"high\", \n .         \"high\", \"high\", \"high\", \"high\", \"high\", \"high\", \"high\", \n .         \"high\", \"high\", \"high\", \"high\", \"high\", \"high\", \"high\", \n .         \"high\", \"high\", \"high\", \"high\", \"high\", \"high\", \"high\", \n .         \"low\", \"high\", \"high\", \"high\", \"high\", \"high\", \"high\", \n .         \"low\", \"high\", \"low\", \"high\", \"high\", \"high\", \"low\", \n .         \"high\", \"high\", \"high\", \"high\", \"high\", \"high\", \"high\", \n .         \"high\", \"low\", \"high\", \"high\", \"high\", \"high\", \"high\", \n .         \"high\", \"low\", \"high\", \"high\", \"low\", \"high\", \"high\", \n .         \"high\", \"high\", \"high\", \"high\", \"high\", \"high\", \"high\", \n .         \"high\", \"high\", \"high\", \"high\", \"high\", \"low\", \"high\", \n .         \"high\", \"high\", \"low\", \"high\", \"low\", \"high\", \"high\", \n .         \"low\", \"high\", \"high\", \"high\", \"low\", \"low\", \"high\", \n .         \"high\", \"high\", \"low\", \"high\", \"high\", \"high\", \"low\", \n .         \"high\", \"high\", \"low\", \"low\", \"high\", \"high\", \"high\", \n .         \"high\", \"low\", \"high\", \"low\", \"high\", \"high\", \"low\", \n .         \"high\", \"high\", \"high\", \"high\", \"high\", \"high\", \"high\", \n .         \"high\", \"high\", \"high\", \"high\", \"high\", \"high\", \"high\", \n .         \"high\", \"high\", \"high\", \"high\", \"high\", \"high\", \"high\", \n .         \"high\", \"high\", \"high\", \"high\", \"high\", \"high\", \"high\", \n .         \"high\", \"high\", \"high\", \"high\", \"high\", \"high\", \"high\", \n .         \"high\", \"high\", \"high\", \"low\", \"high\", \"high\", \"high\", \n .         \"high\", \"high\", \"high\", \"high\", \"high\", \"high\", \"low\", \n .         \"high\", \"high\", \"high\", \"high\", \"high\", \"high\", \"high\", \n .         \"high\", \"high\", \"high\", \"low\", \"high\", \"high\", \"high\", \n .         \"high\", \"low\", \"low\", \"high\", \"high\", \"high\", \"low\", \n .         \"high\", \"high\", \"low\", \"high\", \"high\", \"high\", \"high\", \n .         \"high\", \"low\", \"low\", \"high\", \"high\", \"low\", \"high\", \n .         \"high\", \"high\", \"high\", \"high\", \"low\", \"low\", \"low\", \n .         \"high\", \"high\", \"high\", \"high\", \"low\", \"high\", \"high\", \n .         \"low\", \"high\", \"high\", \"high\", \"high\", \"high\", \"high\", \n .         \"high\", \"high\", \"low\", \"high\", \"high\", \"high\", \"high\", \n .         \"high\", \"high\", \"high\", \"high\", \"high\", \"high\", \"high\", \n .         \"high\", \"high\", \"high\", \"high\", \"high\", \"high\", \"high\", \n .         \"high\", \"high\", \"high\", \"low\", \"high\", \"low\", \"high\", \n .         \"high\", \"low\", \"high\", \"high\", \"low\", \"high\", \"high\", \n .         \"high\", \"high\", \"high\", \"high\", \"high\", \"low\", \"high\", \n .         \"high\", \"high\", \"high\", \"high\", \"high\", \"high\", \"high\", \n .         \"high\", \"high\", \"high\", \"high\", \"high\", \"high\", \"high\", \n .         \"high\", \"high\", \"high\", \"high\", \"high\", \"high\", \"high\", \n .         \"high\", \"low\", \"high\", \"high\", \"high\", \"high\", \"low\", \n .         \"high\", \"high\", \"high\", \"high\", \"high\", \"high\", \"high\", \n .         \"high\", \"high\", \"high\", \"high\", \"high\", \"high\", \"high\", \n .         \"high\", \"high\", \"high\", \"high\", \"high\", \"high\", \"high\", \n .         \"high\", \"high\", \"low\", \"high\", \"high\", \"high\", \"high\", \n .         \"high\", \"high\", \"high\", \"high\", \"high\", \"high\", \"high\", \n .         \"high\", \"high\", \"high\", \"high\", \"high\", \"low\", \"high\", \n .         \"high\", \"high\", \"low\", \"high\", \"high\", \"high\", \"high\", \n .         \"high\", \"high\", \"high\", \"high\", \"low\", \"high\", \"high\", \n .         \"low\", \"high\", \"low\", \"low\", \"high\", \"high\"), OLR1 = c(\"high\", \n .         \"high\", \"low\", \"high\", \"high\", \"low\", \"high\", \"high\", \n .         \"high\", \"high\", \"high\", \"low\", \"high\", \"high\", \"high\", \n .         \"high\", \"low\", \"high\", \"high\", \"low\", \"high\", \"high\", \n .         \"high\", \"high\", \"high\", \"high\", \"low\", \"high\", \"high\", \n .         \"high\", \"high\", \"high\", \"high\", \"low\", \"high\", \"high\", \n .         \"high\", \"high\", \"high\", \"high\", \"high\", \"high\", \"low\", \n .         \"high\", \"high\", \"high\", \"high\", \"low\", \"high\", \"high\", \n .         \"high\", \"low\", \"high\", \"low\", \"low\", \"high\", \"high\", \n .         \"high\", \"low\", \"high\", \"low\", \"high\", \"high\", \"high\", \n .         \"low\", \"high\", \"high\", \"high\", \"high\", \"high\", \"high\", \n .         \"high\", \"high\", \"high\", \"low\", \"high\", \"high\", \"high\", \n .         \"high\", \"low\", \"high\", \"high\", \"high\", \"high\", \"low\", \n .         \"low\", \"high\", \"high\", \"high\", \"low\", \"low\", \"high\", \n .         \"high\", \"high\", \"high\", \"low\", \"high\", \"high\", \"low\", \n .         \"low\", \"high\", \"high\", \"high\", \"low\", \"high\", \"high\", \n .         \"high\", \"high\", \"low\", \"high\", \"high\", \"high\", \"low\", \n .         \"high\", \"low\", \"high\", \"high\", \"high\", \"high\", \"low\", \n .         \"high\", \"high\", \"high\", \"high\", \"high\", \"high\", \"low\", \n .         \"high\", \"high\", \"low\", \"high\", \"high\", \"high\", \"high\", \n .         \"high\", \"high\", \"low\", \"low\", \"high\", \"high\", \"high\", \n .         \"low\", \"high\", \"high\", \"high\", \"high\", \"low\", \"high\", \n .         \"high\", \"low\", \"high\", \"high\", \"high\", \"high\", \"low\", \n .         \"high\", \"high\", \"high\", \"high\", \"high\", \"high\", \"high\", \n .         \"high\", \"high\", \"high\", \"low\", \"low\", \"high\", \"high\", \n .         \"high\", \"high\", \"high\", \"high\", \"low\", \"high\", \"high\", \n .         \"high\", \"high\", \"high\", \"low\", \"high\", \"high\", \"low\", \n .         \"high\", \"high\", \"low\", \"high\", \"high\", \"high\", \"high\", \n .         \"low\", \"high\", \"high\", \"low\", \"low\", \"high\", \"low\", \"high\", \n .         \"high\", \"high\", \"high\", \"high\", \"high\", \"high\", \"high\", \n .         \"high\", \"low\", \"high\", \"high\", \"high\", \"high\", \"high\", \n .         \"low\", \"high\", \"high\", \"high\", \"high\", \"low\", \"high\", \n .         \"high\", \"low\", \"high\", \"high\", \"high\", \"low\", \"high\", \n .         \"high\", \"high\", \"high\", \"high\", \"low\", \"high\", \"high\", \n .         \"high\", \"high\", \"high\", \"low\", \"high\", \"high\", \"high\", \n .         \"high\", \"high\", \"high\", \"low\", \"low\", \"high\", \"high\", \n .         \"high\", \"high\", \"high\", \"high\", \"high\", \"high\", \"high\", \n .         \"high\", \"high\", \"low\", \"high\", \"high\", \"low\", \"low\", \n .         \"low\", \"high\", \"high\", \"low\", \"high\", \"high\", \"high\", \n .         \"low\", \"high\", \"low\", \"high\", \"low\", \"low\", \"high\", \"high\", \n .         \"low\", \"low\", \"low\", \"high\", \"high\", \"high\", \"high\", \n .         \"low\", \"high\", \"high\", \"high\", \"high\", \"high\", \"low\", \n .         \"low\", \"high\", \"high\", \"high\", \"high\", \"high\", \"high\", \n .         \"high\", \"low\", \"high\", \"low\", \"high\", \"high\", \"high\", \n .         \"low\", \"high\", \"low\", \"high\", \"high\", \"high\", \"high\", \n .         \"high\", \"high\", \"high\", \"high\", \"high\", \"high\", \"low\", \n .         \"high\", \"low\", \"high\", \"low\", \"high\", \"high\", \"high\", \n .         \"high\", \"high\", \"high\", \"low\", \"low\", \"low\", \"low\", \"low\", \n .         \"low\", \"high\", \"high\", \"low\", \"high\", \"high\", \"low\", \n .         \"low\", \"high\", \"high\", \"low\", \"low\", \"low\", \"high\", \"low\", \n .         \"low\", \"high\", \"low\", \"low\", \"high\", \"low\", \"high\", \"high\", \n .         \"high\", \"high\", \"high\", \"low\", \"low\", \"high\", \"high\", \n .         \"high\", \"high\", \"low\", \"high\", \"high\"), KLF2 = c(\"high\", \n .         \"high\", \"high\", \"low\", \"high\", \"high\", \"high\", \"high\", \n .         \"high\", \"high\", \"high\", \"high\", \"high\", \"high\", \"high\", \n .         \"low\", \"low\", \"high\", \"high\", \"high\", \"low\", \"high\", \n .         \"high\", \"low\", \"low\", \"low\", \"high\", \"high\", \"low\", \"high\", \n .         \"low\", \"high\", \"high\", \"high\", \"high\", \"high\", \"high\", \n .         \"high\", \"high\", \"high\", \"low\", \"high\", \"high\", \"high\", \n .         \"high\", \"high\", \"high\", \"low\", \"high\", \"low\", \"high\", \n .         \"low\", \"low\", \"high\", \"high\", \"high\", \"high\", \"high\", \n .         \"high\", \"high\", \"low\", \"high\", \"high\", \"high\", \"low\", \n .         \"high\", \"high\", \"low\", \"high\", \"high\", \"high\", \"high\", \n .         \"high\", \"low\", \"high\", \"high\", \"high\", \"high\", \"high\", \n .         \"high\", \"high\", \"high\", \"high\", \"high\", \"high\", \"low\", \n .         \"low\", \"low\", \"high\", \"high\", \"low\", \"low\", \"high\", \"high\", \n .         \"high\", \"low\", \"high\", \"high\", \"low\", \"low\", \"low\", \"high\", \n .         \"high\", \"low\", \"high\", \"low\", \"high\", \"high\", \"low\", \n .         \"high\", \"low\", \"high\", \"high\", \"high\", \"high\", \"high\", \n .         \"low\", \"high\", \"high\", \"high\", \"high\", \"low\", \"high\", \n .         \"high\", \"high\", \"high\", \"low\", \"high\", \"high\", \"low\", \n .         \"low\", \"high\", \"high\", \"high\", \"high\", \"low\", \"high\", \n .         \"low\", \"high\", \"high\", \"high\", \"low\", \"high\", \"high\", \n .         \"low\", \"high\", \"low\", \"high\", \"high\", \"low\", \"high\", \n .         \"high\", \"high\", \"high\", \"low\", \"high\", \"high\", \"high\", \n .         \"high\", \"high\", \"high\", \"high\", \"low\", \"high\", \"low\", \n .         \"low\", \"low\", \"low\", \"high\", \"high\", \"high\", \"high\", \n .         \"high\", \"high\", \"high\", \"high\", \"high\", \"high\", \"low\", \n .         \"low\", \"high\", \"low\", \"low\", \"high\", \"high\", \"high\", \n .         \"high\", \"high\", \"low\", \"high\", \"low\", \"high\", \"low\", \n .         \"low\", \"high\", \"low\", \"low\", \"low\", \"low\", \"high\", \"low\", \n .         \"high\", \"low\", \"low\", \"high\", \"high\", \"low\", \"high\", \n .         \"high\", \"high\", \"high\", \"high\", \"high\", \"low\", \"high\", \n .         \"high\", \"high\", \"high\", \"high\", \"low\", \"high\", \"low\", \n .         \"low\", \"high\", \"high\", \"low\", \"high\", \"low\", \"high\", \n .         \"high\", \"low\", \"high\", \"high\", \"high\", \"high\", \"high\", \n .         \"low\", \"high\", \"high\", \"high\", \"high\", \"high\", \"high\", \n .         \"low\", \"high\", \"high\", \"high\", \"low\", \"high\", \"low\", \n .         \"low\", \"high\", \"low\", \"high\", \"low\", \"high\", \"high\", \n .         \"high\", \"high\", \"low\", \"low\", \"high\", \"high\", \"high\", \n .         \"low\", \"high\", \"high\", \"high\", \"high\", \"high\", \"high\", \n .         \"low\", \"low\", \"high\", \"high\", \"high\", \"high\", \"low\", \n .         \"high\", \"low\", \"high\", \"low\", \"high\", \"low\", \"low\", \"high\", \n .         \"high\", \"high\", \"high\", \"low\", \"low\", \"high\", \"high\", \n .         \"high\", \"high\", \"high\", \"high\", \"high\", \"low\", \"high\", \n .         \"low\", \"high\", \"high\", \"high\", \"low\", \"high\", \"low\", \n .         \"high\", \"high\", \"high\", \"high\", \"high\", \"high\", \"high\", \n .         \"high\", \"low\", \"high\", \"low\", \"high\", \"low\", \"high\", \n .         \"high\", \"high\", \"high\", \"high\", \"high\", \"high\", \"high\", \n .         \"high\", \"low\", \"high\", \"low\", \"low\", \"low\", \"high\", \"low\", \n .         \"high\", \"high\", \"high\", \"high\", \"low\", \"high\", \"low\", \n .         \"low\", \"low\", \"low\", \"low\", \"low\", \"high\", \"high\", \"low\", \n .         \"low\", \"high\", \"low\", \"high\", \"low\", \"high\", \"high\", \n .         \"high\", \"low\", \"low\", \"low\", \"high\", \"high\", \"high\", \n .         \"low\", \"high\", \"high\"), NLRP3 = c(\"high\", \"low\", \"low\", \n .         \"low\", \"high\", \"low\", \"low\", \"low\", \"low\", \"low\", \"low\", \n .         \"low\", \"high\", \"low\", \"low\", \"low\", \"low\", \"high\", \"low\", \n .         \"low\", \"low\", \"high\", \"low\", \"low\", \"low\", \"low\", \"low\", \n .         \"high\", \"low\", \"low\", \"low\", \"low\", \"low\", \"low\", \"low\", \n .         \"low\", \"low\", \"low\", \"low\", \"low\", \"low\", \"low\", \"high\", \n .         \"high\", \"low\", \"low\", \"low\", \"low\", \"low\", \"low\", \"low\", \n .         \"low\", \"low\", \"low\", \"low\", \"low\", \"low\", \"low\", \"low\", \n .         \"high\", \"low\", \"low\", \"low\", \"low\", \"low\", \"low\", \"low\", \n .         \"low\", \"low\", \"low\", \"low\", \"high\", \"low\", \"low\", \"low\", \n .         \"low\", \"low\", \"low\", \"low\", \"low\", \"low\", \"high\", \"low\", \n .         \"high\", \"low\", \"low\", \"low\", \"low\", \"high\", \"low\", \"low\", \n .         \"high\", \"low\", \"low\", \"low\", \"low\", \"low\", \"high\", \"low\", \n .         \"low\", \"low\", \"low\", \"low\", \"low\", \"low\", \"low\", \"low\", \n .         \"high\", \"low\", \"low\", \"low\", \"low\", \"low\", \"low\", \"low\", \n .         \"low\", \"low\", \"high\", \"low\", \"low\", \"low\", \"low\", \"low\", \n .         \"high\", \"low\", \"low\", \"low\", \"low\", \"high\", \"low\", \"low\", \n .         \"low\", \"low\", \"low\", \"low\", \"low\", \"low\", \"low\", \"high\", \n .         \"low\", \"high\", \"low\", \"low\", \"low\", \"low\", \"high\", \"low\", \n .         \"low\", \"low\", \"low\", \"low\", \"high\", \"low\", \"low\", \"low\", \n .         \"low\", \"low\", \"low\", \"low\", \"low\", \"low\", \"low\", \"low\", \n .         \"low\", \"low\", \"low\", \"low\", \"low\", \"high\", \"low\", \"low\", \n .         \"low\", \"low\", \"low\", \"low\", \"low\", \"low\", \"low\", \"low\", \n .         \"low\", \"low\", \"low\", \"low\", \"low\", \"low\", \"low\", \"low\", \n .         \"low\", \"low\", \"low\", \"low\", \"low\", \"low\", \"low\", \"low\", \n .         \"high\", \"low\", \"low\", \"low\", \"low\", \"low\", \"low\", \"low\", \n .         \"low\", \"low\", \"high\", \"low\", \"low\", \"low\", \"low\", \"low\", \n .         \"low\", \"low\", \"low\", \"low\", \"low\", \"low\", \"low\", \"low\", \n .         \"low\", \"low\", \"low\", \"low\", \"low\", \"high\", \"low\", \"low\", \n .         \"low\", \"low\", \"low\", \"low\", \"high\", \"low\", \"low\", \"low\", \n .         \"low\", \"low\", \"low\", \"low\", \"low\", \"low\", \"low\", \"low\", \n .         \"low\", \"low\", \"low\", \"low\", \"low\", \"low\", \"low\", \"low\", \n .         \"high\", \"low\", \"low\", \"low\", \"low\", \"low\", \"high\", \"low\", \n .         \"low\", \"low\", \"low\", \"low\", \"low\", \"low\", \"low\", \"low\", \n .         \"low\", \"low\", \"low\", \"low\", \"low\", \"low\", \"low\", \"low\", \n .         \"high\", \"low\", \"low\", \"low\", \"low\", \"low\", \"low\", \"high\", \n .         \"low\", \"low\", \"high\", \"high\", \"low\", \"high\", \"low\", \"low\", \n .         \"low\", \"low\", \"low\", \"low\", \"low\", \"high\", \"low\", \"low\", \n .         \"low\", \"low\", \"low\", \"low\", \"low\", \"low\", \"low\", \"low\", \n .         \"low\", \"low\", \"low\", \"low\", \"low\", \"high\", \"low\", \"low\", \n .         \"low\", \"low\", \"low\", \"low\", \"low\", \"low\", \"low\", \"low\", \n .         \"low\", \"low\", \"low\", \"high\", \"low\", \"low\", \"low\", \"low\", \n .         \"low\", \"low\", \"low\", \"low\", \"low\", \"low\", \"low\", \"low\", \n .         \"low\", \"low\", \"low\", \"low\", \"low\", \"low\", \"low\", \"low\", \n .         \"low\", \"low\", \"low\", \"low\", \"low\", \"low\", \"low\", \"low\", \n .         \"low\", \"low\", \"low\", \"low\", \"low\", \"low\", \"low\", \"low\", \n .         \"low\", \"low\", \"low\", \"low\", \"low\"), HIF1A = c(\"high\", \n .         \"low\", \"low\", \"low\", \"high\", \"high\", \"high\", \"low\", \"high\", \n .         \"low\", \"low\", \"high\", \"low\", \"high\", \"low\", \"low\", \"high\", \n .         \"high\", \"low\", \"low\", \"low\", \"low\", \"low\", \"high\", \"high\", \n .         \"low\", \"low\", \"low\", \"low\", \"low\", \"high\", \"high\", \"low\", \n .         \"low\", \"high\", \"low\", \"low\", \"high\", \"low\", \"low\", \"high\", \n .         \"low\", \"low\", \"low\", \"high\", \"low\", \"high\", \"high\", \"high\", \n .         \"high\", \"low\", \"high\", \"low\", \"high\", \"high\", \"low\", \n .         \"low\", \"high\", \"low\", \"low\", \"low\", \"low\", \"low\", \"low\", \n .         \"low\", \"low\", \"low\", \"low\", \"low\", \"high\", \"low\", \"high\", \n .         \"low\", \"high\", \"low\", \"high\", \"low\", \"low\", \"low\", \"low\", \n .         \"low\", \"high\", \"low\", \"high\", \"high\", \"low\", \"low\", \"low\", \n .         \"high\", \"low\", \"low\", \"low\", \"low\", \"low\", \"low\", \"low\", \n .         \"high\", \"high\", \"low\", \"low\", \"low\", \"high\", \"low\", \"high\", \n .         \"low\", \"low\", \"high\", \"low\", \"low\", \"high\", \"low\", \"low\", \n .         \"low\", \"low\", \"high\", \"low\", \"high\", \"high\", \"high\", \n .         \"low\", \"high\", \"low\", \"low\", \"low\", \"low\", \"low\", \"low\", \n .         \"high\", \"low\", \"low\", \"low\", \"high\", \"high\", \"high\", \n .         \"low\", \"low\", \"low\", \"low\", \"low\", \"low\", \"high\", \"low\", \n .         \"high\", \"low\", \"low\", \"low\", \"high\", \"high\", \"low\", \"low\", \n .         \"low\", \"low\", \"low\", \"low\", \"low\", \"low\", \"low\", \"low\", \n .         \"low\", \"low\", \"high\", \"high\", \"low\", \"low\", \"low\", \"high\", \n .         \"low\", \"low\", \"low\", \"low\", \"low\", \"low\", \"low\", \"low\", \n .         \"low\", \"low\", \"low\", \"low\", \"low\", \"low\", \"high\", \"low\", \n .         \"low\", \"high\", \"high\", \"low\", \"low\", \"high\", \"high\", \n .         \"low\", \"low\", \"high\", \"low\", \"low\", \"low\", \"high\", \"low\", \n .         \"low\", \"high\", \"low\", \"low\", \"low\", \"low\", \"low\", \"high\", \n .         \"high\", \"high\", \"low\", \"low\", \"low\", \"low\", \"low\", \"low\", \n .         \"low\", \"high\", \"low\", \"low\", \"high\", \"high\", \"low\", \"low\", \n .         \"low\", \"low\", \"low\", \"low\", \"low\", \"low\", \"high\", \"high\", \n .         \"high\", \"high\", \"low\", \"low\", \"low\", \"high\", \"low\", \"low\", \n .         \"low\", \"low\", \"high\", \"low\", \"low\", \"low\", \"low\", \"low\", \n .         \"high\", \"low\", \"low\", \"low\", \"low\", \"low\", \"low\", \"high\", \n .         \"high\", \"low\", \"low\", \"low\", \"low\", \"high\", \"low\", \"low\", \n .         \"low\", \"high\", \"low\", \"high\", \"low\", \"low\", \"low\", \"high\", \n .         \"low\", \"high\", \"high\", \"low\", \"low\", \"low\", \"low\", \"low\", \n .         \"low\", \"high\", \"low\", \"high\", \"low\", \"low\", \"low\", \"low\", \n .         \"low\", \"low\", \"low\", \"high\", \"high\", \"low\", \"low\", \"low\", \n .         \"low\", \"low\", \"low\", \"low\", \"low\", \"low\", \"low\", \"high\", \n .         \"low\", \"low\", \"high\", \"low\", \"low\", \"low\", \"low\", \"high\", \n .         \"low\", \"low\", \"high\", \"low\", \"low\", \"high\", \"low\", \"low\", \n .         \"high\", \"low\", \"low\", \"high\", \"high\", \"low\", \"high\", \n .         \"high\", \"high\", \"low\", \"low\", \"low\", \"low\", \"low\", \"low\", \n .         \"low\", \"low\", \"low\", \"low\", \"low\", \"low\", \"high\", \"low\", \n .         \"low\", \"low\", \"low\", \"high\", \"high\", \"low\", \"low\", \"low\", \n .         \"low\", \"low\", \"low\", \"high\", \"low\", \"low\", \"low\", \"low\", \n .         \"low\", \"low\", \"low\", \"low\", \"low\", \"high\", \"high\", \"low\", \n .         \"high\", \"low\", \"low\", \"low\"), VIM = c(\"high\", \"high\", \n .         \"low\", \"high\", \"high\", \"high\", \"high\", \"high\", \"high\", \n .         \"high\", \"high\", \"high\", \"high\", \"high\", \"high\", \"high\", \n .         \"high\", \"high\", \"high\", \"high\", \"high\", \"high\", \"high\", \n .         \"high\", \"high\", \"low\", \"low\", \"high\", \"high\", \"high\", \n .         \"high\", \"high\", \"high\", \"high\", \"high\", \"high\", \"high\", \n .         \"low\", \"high\", \"high\", \"high\", \"high\", \"high\", \"high\", \n .         \"high\", \"low\", \"high\", \"high\", \"high\", \"high\", \"high\", \n .         \"high\", \"high\", \"high\", \"high\", \"high\", \"low\", \"high\", \n .         \"high\", \"high\", \"high\", \"high\", \"high\", \"high\", \"high\", \n .         \"high\", \"high\", \"high\", \"high\", \"high\", \"high\", \"high\", \n .         \"high\", \"high\", \"high\", \"high\", \"high\", \"high\", \"high\", \n .         \"low\", \"high\", \"high\", \"high\", \"high\", \"low\", \"high\", \n .         \"high\", \"high\", \"high\", \"high\", \"low\", \"high\", \"high\", \n .         \"high\", \"high\", \"high\", \"high\", \"high\", \"low\", \"high\", \n .         \"low\", \"high\", \"high\", \"low\", \"high\", \"high\", \"high\", \n .         \"high\", \"low\", \"high\", \"low\", \"high\", \"low\", \"high\", \n .         \"high\", \"high\", \"low\", \"high\", \"high\", \"high\", \"high\", \n .         \"low\", \"high\", \"high\", \"high\", \"high\", \"high\", \"high\", \n .         \"high\", \"high\", \"high\", \"high\", \"high\", \"high\", \"high\", \n .         \"high\", \"high\", \"high\", \"high\", \"high\", \"high\", \"high\", \n .         \"high\", \"high\", \"high\", \"high\", \"high\", \"high\", \"low\", \n .         \"high\", \"high\", \"high\", \"high\", \"high\", \"low\", \"high\", \n .         \"high\", \"high\", \"high\", \"high\", \"high\", \"high\", \"low\", \n .         \"high\", \"high\", \"low\", \"high\", \"high\", \"high\", \"high\", \n .         \"low\", \"high\", \"high\", \"high\", \"high\", \"high\", \"high\", \n .         \"high\", \"high\", \"low\", \"low\", \"low\", \"low\", \"high\", \"high\", \n .         \"high\", \"high\", \"high\", \"high\", \"high\", \"high\", \"high\", \n .         \"low\", \"high\", \"low\", \"high\", \"high\", \"high\", \"high\", \n .         \"low\", \"low\", \"high\", \"high\", \"low\", \"high\", \"high\", \n .         \"high\", \"high\", \"high\", \"high\", \"high\", \"high\", \"high\", \n .         \"low\", \"high\", \"high\", \"high\", \"high\", \"high\", \"high\", \n .         \"high\", \"low\", \"high\", \"high\", \"high\", \"high\", \"high\", \n .         \"high\", \"high\", \"high\", \"high\", \"high\", \"low\", \"high\", \n .         \"high\", \"high\", \"low\", \"high\", \"high\", \"high\", \"high\", \n .         \"high\", \"high\", \"high\", \"high\", \"high\", \"high\", \"high\", \n .         \"high\", \"high\", \"high\", \"high\", \"high\", \"high\", \"high\", \n .         \"high\", \"high\", \"high\", \"low\", \"high\", \"high\", \"low\", \n .         \"high\", \"high\", \"low\", \"high\", \"high\", \"high\", \"high\", \n .         \"high\", \"high\", \"high\", \"high\", \"high\", \"high\", \"high\", \n .         \"high\", \"high\", \"high\", \"high\", \"high\", \"high\", \"high\", \n .         \"high\", \"high\", \"high\", \"high\", \"high\", \"high\", \"high\", \n .         \"low\", \"high\", \"high\", \"high\", \"high\", \"high\", \"high\", \n .         \"high\", \"high\", \"high\", \"high\", \"high\", \"high\", \"high\", \n .         \"high\", \"high\", \"high\", \"high\", \"high\", \"high\", \"high\", \n .         \"high\", \"high\", \"high\", \"high\", \"low\", \"high\", \"high\", \n .         \"high\", \"high\", \"low\", \"high\", \"high\", \"high\", \"high\", \n .         \"high\", \"high\", \"high\", \"high\", \"high\", \"low\", \"low\", \n .         \"high\", \"high\", \"high\", \"high\", \"high\", \"high\", \"high\", \n .         \"high\", \"high\", \"high\", \"high\", \"high\", \"high\", \"high\", \n .         \"high\", \"low\", \"high\", \"high\", \"high\", \"high\", \"high\", \n .         \"high\", \"high\", \"high\", \"high\", \"high\", \"high\", \"high\", \n .         \"high\", \"high\", \"high\", \"high\", \"high\", \"low\", \"high\", \n .         \"high\"), HLA.DRA = c(\"9.97341742251909\", \"8.65843820982944\", \n .         \"6.73117829210397\", \"9.03497598090287\", \"9.88873729944753\", \n .         \"7.30917436579651\", \"9.48067766308106\", \"8.89325095315151\", \n .         \"9.36438624179985\", \"10.5000229946365\", \"8.01036037845645\", \n .         \"7.05563330110902\", \"10.1486823702997\", \"8.00685521312862\", \n .         \"9.02044682695349\", \"8.72954055221494\", \"6.99597058688623\", \n .         \"10.773486412045\", \"9.17483591709966\", \"8.03416351987158\", \n .         \"8.4869135686101\", \"9.42894287361525\", \"9.7901448352813\", \n .         \"10.8731631873736\", \"10.0433769063902\", \"6.91809949472835\", \n .         \"5.44959134883007\", \"8.97336164430157\", \"11.247226255513\", \n .         \"7.51060169778908\", \"7.70356082260884\", \"8.84611877608162\", \n .         \"8.71681848030384\", \"7.08530154272624\", \"9.12338521007826\", \n .         \"7.17863173559945\", \"8.32003051069232\", \"9.59765792332073\", \n .         \"8.60280882539991\", \"9.54561496609838\", \"9.35941403510703\", \n .         \"8.38147257600234\", \"6.63994142892987\", \"11.1111201664496\", \n .         \"9.04520896973432\", \"9.07070508625266\", \"9.57740204530938\", \n .         \"7.55841875537327\", \"8.24696776575893\", \"9.6377941936973\", \n .         \"10.2341205674236\", \"8.45876968457443\", \"8.70887588115614\", \n .         \"9.0773133308128\", \"6.98919854185108\", \"9.96273999833697\", \n .         \"10.3305604435635\", \"7.95671452818459\", \"8.69969971319121\", \n .         \"10.2854127739412\", \"8.058856911392\", \"6.78787655694867\", \n .         \"9.3171558918616\", \"8.66505764901891\", \"5.57681089741665\", \n .         \"10.0597877192261\", \"9.94957171763714\", \"9.53158949814702\", \n .         \"9.09208274093154\", \"8.30908523163221\", \"6.86945281287826\", \n .         \"8.85422853051026\", \"10.6895364416917\", \"7.56370028358562\", \n .         \"5.88689621932994\", \"9.32444038284916\", \"10.3907979063633\", \n .         \"7.39940139607639\", \"8.28206195011721\", \"7.27579523692837\", \n .         \"10.7449309991081\", \"9.08283012988315\", \"9.81654327252583\", \n .         \"9.17756670495681\", \"5.48962144773629\", \"5.58105186809018\", \n .         \"10.4595722560539\", \"9.60038926509747\", \"9.95247218815125\", \n .         \"8.24461666009856\", \"10.1130263513541\", \"9.37842847805655\", \n .         \"11.0286342524798\", \"9.33427626935397\", \"9.737182645741\", \n .         \"9.29089310045071\", \"9.31671278937351\", \"9.84741473502023\", \n .         \"11.096391866167\", \"5.2441306130364\", \"8.56130052493334\", \n .         \"9.44223549604661\", \"9.01906065792994\", \"7.54585892392088\", \n .         \"10.446938932314\", \"10.2054019302529\", \"9.71016096290191\", \n .         \"10.6081877320394\", \"6.90860512966012\", \"9.36350184340381\", \n .         \"9.27113393373143\", \"7.95143768249249\", \"6.15225590512383\", \n .         \"8.25881124213193\", \"7.12126507931292\", \"10.4838538861751\", \n .         \"9.68327260664442\", \"9.575909844854\", \"8.27623381344211\", \n .         \"7.77234735247147\", \"8.13263059363589\", \"8.7840413940736\", \n .         \"7.58925230309682\", \"8.95025976095099\", \"9.10258877425289\", \n .         \"9.0178351247535\", \"5.50088123801244\", \"8.43340576738755\", \n .         \"10.768700200709\", \"8.98506313861313\", \"7.64638486479589\", \n .         \"9.73435244987592\", \"9.23267062906399\", \"10.6937207384395\", \n .         \"10.2106216668616\", \"7.49315563813966\", \"7.83684960062277\", \n .         \"7.24823308773976\", \"11.9993390492673\", \"10.0764863127561\", \n .         \"9.77708424568539\", \"6.26822466664307\", \"9.44356848284822\", \n .         \"9.14747028118823\", \"8.71959235430209\", \"9.39059165774561\", \n .         \"7.65269361106871\", \"8.5434712269258\", \"11.8107505552961\", \n .         \"9.68384545856332\", \"8.66717618942038\", \"10.144186001987\", \n .         \"8.84951858988874\", \"7.61099418294211\", \"4.05834368728707\", \n .         \"10.9826980999963\", \"9.2528046791609\", \"10.0482764138881\", \n .         \"10.1787953086179\", \"10.3935555407194\", \"9.22798415313689\", \n .         \"9.35270354554755\", \"9.80561833734166\", \"9.58096851902754\", \n .         \"9.96544506614963\", \"6.45427446807766\", \"7.21771011963054\", \n .         \"7.70485343012455\", \"11.377700191499\", \"11.1273675530813\", \n .         \"11.2311077660862\", \"10.470144111832\", \"9.3499469758759\", \n .         \"7.82725721528859\", \"9.6434807388171\", \"10.0479924535449\", \n .         \"8.58868701381959\", \"8.97764963531618\", \"8.87806959856234\", \n .         \"4.90238224171599\", \"10.8746866325953\", \"8.33145189210681\", \n .         \"8.27847564273523\", \"9.83385361083232\", \"10.0019555752188\", \n .         \"7.05386767724547\", \"8.65664236117684\", \"9.22296221859038\", \n .         \"8.06892046008991\", \"10.0182421600855\", \"6.79729208357662\", \n .         \"6.65830759613616\", \"10.270659674762\", \"4.82582125904875\", \n .         \"8.62958469107696\", \"8.70495546826631\", \"7.79549828685301\", \n .         \"11.0954247677075\", \"8.79933575732512\", \"8.89232858768707\", \n .         \"7.10301015038465\", \"8.40677703142799\", \"8.12272171775329\", \n .         \"8.87939020224482\", \"10.224327739889\", \"8.69337008115509\", \n .         \"9.12082318410741\", \"8.3115990869488\", \"9.59147300197732\", \n .         \"7.91746395619769\", \"8.95037359821695\", \"8.96567304903061\", \n .         \"9.85452266472552\", \"8.57498362582312\", \"9.17786592728851\", \n .         \"11.1541040032404\", \"8.49236884037396\", \"8.81545616255279\", \n .         \"9.26131066130404\", \"6.18418912827419\", \"9.07705893263877\", \n .         \"7.79352747529463\", \"9.74932254408172\", \"8.76598232709842\", \n .         \"8.25827082303977\", \"10.3482447786662\", \"7.20164005344458\", \n .         \"10.1178492327595\", \"10.1383781194611\", \"6.84270157859178\", \n .         \"8.23171564387599\", \"12.1794187508236\", \"8.21803953362208\", \n .         \"7.88413343678322\", \"9.10542377599627\", \"9.63312711246187\", \n .         \"8.30775114999298\", \"10.0744038635368\", \"10.2700491027777\", \n .         \"9.87388821461187\", \"8.38385951170873\", \"10.6683104672468\", \n .         \"8.95491762849996\", \"9.7768782282333\", \"7.56704862532771\", \n .         \"9.06318299632217\", \"8.86487241723864\", \"9.95147780898619\", \n .         \"8.39403395103848\", \"8.60929634515454\", \"10.0107078824318\", \n .         \"9.58514171678333\", \"10.6316004903928\", \"10.3666703101576\", \n .         \"10.5507995248391\", \"8.56633283683576\", \"7.65453888318746\", \n .         \"8.39464314076138\", \"10.1853156870538\", \"6.84122428278351\", \n .         \"10.5711368797596\", \"6.12191577728198\", \"8.34162411879492\", \n .         \"8.91913898971348\", \"8.08877275405678\", \"9.11551525855842\", \n .         \"10.7211399814866\", \"9.32851832474217\", \"5.17511035114162\", \n .         \"8.33261788180178\", \"8.46016985424252\", \"9.35643554709098\", \n .         \"4.79279504759442\", \"6.0109155865981\", \"7.41534004127441\", \n .         \"9.91062929266578\", \"8.45371800405183\", \"8.72436134982709\", \n .         \"4.4942394980963\", \"9.78901112074124\", \"10.1973894310112\", \n .         \"9.36418620536601\", \"9.05209943716836\", \"7.63197065841391\", \n .         \"9.25889770917186\", \"10.6231232289955\", \"10.905251049961\", \n .         \"9.86827013876234\", \"9.51554380778433\", \"10.9100328588515\", \n .         \"5.34799286832924\", \"9.09019886726297\", \"8.18633420802204\", \n .         \"8.87715924835251\", \"9.7016675144909\", \"9.16024631937442\", \n .         \"11.8340408459031\", \"10.5124897903211\", \"6.15930432891895\", \n .         \"9.09860694537958\", \"5.02557447989342\", \"7.93728646545715\", \n .         \"9.51264045141663\", \"9.7777229139345\", \"7.62337913500157\", \n .         \"10.5448772625794\", \"5.19134620382537\", \"9.29780227535499\", \n .         \"8.67403035541884\", \"10.6210044041362\", \"9.31694643801415\", \n .         \"8.70694670156427\", \"8.48612416992508\", \"5.18024614595836\", \n .         \"9.16659115221288\", \"8.62956215509349\", \"7.51881229635067\", \n .         \"7.86542301127408\", \"10.0256146942918\", \"9.64014741877698\", \n .         \"10.2900286847656\", \"8.2845772932808\", \"10.0498559118993\", \n .         \"9.25015627907893\", \"8.20897448884863\", \"7.58962615395941\", \n .         \"9.86700124677017\", \"9.951390023969\", \"7.85865256010967\", \n .         \"4.27353457030374\", \"8.99572962290457\", \"6.09551501102294\", \n .         \"8.38052225489733\", \"9.50482504474696\", \"9.81545063642185\", \n .         \"9.66161468974869\", \"8.38726490074266\", \"10.2133932541214\", \n .         \"6.8586263077933\", \"7.80607514923985\", \"4.69064227866409\", \n .         \"9.11113234059767\", \"9.74315206543016\", \"9.8316294301329\", \n .         \"8.18040940022801\", \"4.3992853402958\", \"9.89066429839093\", \n .         \"10.5587609357307\", \"8.0732779779098\", \"8.750730694907\", \n .         \"10.7384486053159\", \"6.41892509966827\", \"10.8400796343269\", \n .         \"7.5453821450527\", \"9.43497170768701\", \"10.1442720282475\", \n .         \"9.62061978887547\", \"8.066710445563\", \"9.30801520284924\", \n .         \"10.0926585043062\", \"8.34698556229013\", \"8.3773040418742\", \n .         \"6.63802966046955\", \"9.54755780418363\", \"7.76677891342029\", \n .         \"5.85691437779184\", \"9.91992471226028\", \"8.10338869388129\"\n .         )), class = c(\"data.frame\", \"surv_categorize\"), row.names = c(1L, \n .     2L, 3L, 5L, 10L, 12L, 13L, 15L, 16L, 21L, 22L, 25L, 26L, \n .     27L, 28L, 29L, 30L, 31L, 32L, 33L, 35L, 36L, 37L, 38L, 40L, \n .     43L, 45L, 47L, 49L, 50L, 51L, 52L, 53L, 55L, 57L, 58L, 60L, \n .     61L, 63L, 64L, 65L, 68L, 69L, 71L, 72L, 73L, 75L, 76L, 77L, \n .     78L, 79L, 86L, 88L, 89L, 93L, 94L, 95L, 97L, 98L, 100L, 102L, \n .     107L, 108L, 109L, 110L, 112L, 114L, 115L, 116L, 117L, 118L, \n .     119L, 127L, 128L, 129L, 130L, 131L, 132L, 133L, 134L, 138L, \n .     143L, 145L, 146L, 147L, 148L, 149L, 150L, 151L, 152L, 153L, \n .     154L, 155L, 156L, 159L, 161L, 163L, 164L, 165L, 167L, 169L, \n .     171L, 172L, 173L, 174L, 175L, 176L, 178L, 180L, 182L, 183L, \n .     184L, 185L, 186L, 187L, 190L, 192L, 197L, 198L, 199L, 200L, \n .     201L, 202L, 203L, 204L, 206L, 207L, 208L, 209L, 213L, 214L, \n .     215L, 217L, 220L, 223L, 225L, 226L, 228L, 233L, 234L, 237L, \n .     238L, 239L, 240L, 243L, 245L, 246L, 248L, 249L, 250L, 253L, \n .     254L, 255L, 256L, 257L, 258L, 261L, 262L, 263L, 264L, 265L, \n .     266L, 267L, 268L, 271L, 272L, 273L, 274L, 275L, 277L, 278L, \n .     279L, 280L, 281L, 284L, 287L, 288L, 293L, 294L, 295L, 298L, \n .     299L, 302L, 304L, 305L, 306L, 308L, 309L, 311L, 312L, 315L, \n .     316L, 317L, 318L, 320L, 321L, 322L, 323L, 325L, 326L, 327L, \n .     329L, 331L, 332L, 333L, 334L, 335L, 337L, 338L, 339L, 340L, \n .     343L, 344L, 345L, 348L, 349L, 352L, 353L, 354L, 355L, 356L, \n .     358L, 359L, 361L, 363L, 366L, 367L, 368L, 370L, 373L, 374L, \n .     375L, 376L, 377L, 378L, 379L, 380L, 381L, 382L, 384L, 385L, \n .     386L, 387L, 388L, 390L, 392L, 393L, 394L, 397L, 398L, 399L, \n .     400L, 402L, 403L, 407L, 410L, 411L, 412L, 416L, 418L, 419L, \n .     421L, 422L, 425L, 427L, 428L, 429L, 432L, 433L, 437L, 438L, \n .     439L, 442L, 443L, 445L, 446L, 448L, 449L, 450L, 451L, 452L, \n .     453L, 454L, 455L, 458L, 459L, 460L, 462L, 464L, 465L, 466L, \n .     467L, 469L, 470L, 475L, 476L, 477L, 479L, 480L, 482L, 483L, \n .     484L, 485L, 487L, 488L, 491L, 493L, 494L, 495L, 497L, 500L, \n .     501L, 502L, 505L, 506L, 507L, 509L, 510L, 512L, 514L, 521L, \n .     524L, 525L, 527L, 530L, 531L, 532L, 533L, 534L, 536L, 538L, \n .     539L, 540L, 541L, 544L, 545L, 546L, 547L, 548L, 550L, 551L, \n .     552L, 554L, 555L, 556L, 558L, 564L, 565L, 567L, 568L, 570L, \n .     572L, 573L, 574L, 576L, 577L, 578L, 581L, 582L, 583L, 585L, \n .     586L, 587L, 589L, 590L, 592L, 593L, 594L), labels = c(\"low\", \n .     \"high\")), fun = \"pct\", color = NULL, palette = c(\"lightseagreen\", \n .     \"goldenrod1\"), linetype = \"strata\", conf.int = TRUE, pval = TRUE, \n .     pval.method = FALSE, test.for.trend = FALSE, surv.median.line = \"hv\", \n .     risk.table = TRUE, cumevents = FALSE, cumcensor = FALSE, \n .     tables.height = 0.25, ggtheme = structure(list(line = structure(list(\n .         colour = \"black\", linewidth = 0.545454545454545, linetype = 1, \n .         lineend = \"butt\", arrow = FALSE, inherit.blank = TRUE), class = c(\"element_line\", \n .     \"element\")), rect = structure(list(fill = \"white\", colour = \"black\", \n .         linewidth = 0.545454545454545, linetype = 1, inherit.blank = TRUE), class = c(\"element_rect\", \n .     \"element\")), text = structure(list(family = \"\", face = \"plain\", \n .         colour = \"black\", size = 12, hjust = 0.5, vjust = 0.5, \n .         angle = 0, lineheight = 0.9, margin = structure(c(0, \n .         0, 0, 0), unit = 8L, class = c(\"margin\", \"simpleUnit\", \n .         \"unit\", \"unit_v2\")), debug = FALSE, inherit.blank = TRUE), class = c(\"element_text\", \n .     \"element\")), title = NULL, aspect.ratio = NULL, axis.title = NULL, \n .         axis.title.x = structure(list(family = NULL, face = \"plain\", \n .             colour = \"black\", size = 14, hjust = NULL, vjust = 1, \n .             angle = NULL, lineheight = NULL, margin = structure(c(3, \n .             0, 0, 0), unit = 8L, class = c(\"margin\", \"simpleUnit\", \n .             \"unit\", \"unit_v2\")), debug = NULL, inherit.blank = FALSE), class = c(\"element_text\", \n .         \"element\")), axis.title.x.top = structure(list(family = NULL, \n .             face = NULL, colour = NULL, size = NULL, hjust = NULL, \n .             vjust = 0, angle = NULL, lineheight = NULL, margin = structure(c(0, \n .             0, 3, 0), unit = 8L, class = c(\"margin\", \"simpleUnit\", \n .             \"unit\", \"unit_v2\")), debug = NULL, inherit.blank = TRUE), class = c(\"element_text\", \n .         \"element\")), axis.title.x.bottom = NULL, axis.title.y = structure(list(\n .             family = NULL, face = \"plain\", colour = \"black\", \n .             size = 14, hjust = NULL, vjust = 1, angle = 90, lineheight = NULL, \n .             margin = structure(c(0, 3, 0, 0), unit = 8L, class = c(\"margin\", \n .             \"simpleUnit\", \"unit\", \"unit_v2\")), debug = NULL, \n .             inherit.blank = FALSE), class = c(\"element_text\", \n .         \"element\")), axis.title.y.left = NULL, axis.title.y.right = structure(list(\n .             family = NULL, face = NULL, colour = NULL, size = NULL, \n .             hjust = NULL, vjust = 1, angle = -90, lineheight = NULL, \n .             margin = structure(c(0, 0, 0, 3), unit = 8L, class = c(\"margin\", \n .             \"simpleUnit\", \"unit\", \"unit_v2\")), debug = NULL, \n .             inherit.blank = TRUE), class = c(\"element_text\", \n .         \"element\")), axis.text = structure(list(family = NULL, \n .             face = NULL, colour = \"grey30\", size = structure(0.8, class = \"rel\"), \n .             hjust = NULL, vjust = NULL, angle = NULL, lineheight = NULL, \n .             margin = NULL, debug = NULL, inherit.blank = TRUE), class = c(\"element_text\", \n .         \"element\")), axis.text.x = structure(list(family = NULL, \n .             face = \"plain\", colour = \"black\", size = 12, hjust = NULL, \n .             vjust = 1, angle = 0, lineheight = NULL, margin = structure(c(2.4, \n .             0, 0, 0), unit = 8L, class = c(\"margin\", \"simpleUnit\", \n .             \"unit\", \"unit_v2\")), debug = NULL, inherit.blank = FALSE), class = c(\"element_text\", \n .         \"element\")), axis.text.x.top = structure(list(family = NULL, \n .             face = NULL, colour = NULL, size = NULL, hjust = NULL, \n .             vjust = 0, angle = NULL, lineheight = NULL, margin = structure(c(0, \n .             0, 2.4, 0), unit = 8L, class = c(\"margin\", \"simpleUnit\", \n .             \"unit\", \"unit_v2\")), debug = NULL, inherit.blank = TRUE), class = c(\"element_text\", \n .         \"element\")), axis.text.x.bottom = NULL, axis.text.y = structure(list(\n .             family = NULL, face = \"plain\", colour = \"black\", \n .             size = 12, hjust = 1, vjust = NULL, angle = 0, lineheight = NULL, \n .             margin = structure(c(0, 2.4, 0, 0), unit = 8L, class = c(\"margin\", \n .             \"simpleUnit\", \"unit\", \"unit_v2\")), debug = NULL, \n .             inherit.blank = FALSE), class = c(\"element_text\", \n .         \"element\")), axis.text.y.left = NULL, axis.text.y.right = structure(list(\n .             family = NULL, face = NULL, colour = NULL, size = NULL, \n .             hjust = 0, vjust = NULL, angle = NULL, lineheight = NULL, \n .             margin = structure(c(0, 0, 0, 2.4), unit = 8L, class = c(\"margin\", \n .             \"simpleUnit\", \"unit\", \"unit_v2\")), debug = NULL, \n .             inherit.blank = TRUE), class = c(\"element_text\", \n .         \"element\")), axis.text.theta = NULL, axis.text.r = structure(list(\n .             family = NULL, face = NULL, colour = NULL, size = NULL, \n .             hjust = 0.5, vjust = NULL, angle = NULL, lineheight = NULL, \n .             margin = structure(c(0, 2.4, 0, 2.4), unit = 8L, class = c(\"margin\", \n .             \"simpleUnit\", \"unit\", \"unit_v2\")), debug = NULL, \n .             inherit.blank = TRUE), class = c(\"element_text\", \n .         \"element\")), axis.ticks = structure(list(colour = \"grey20\", \n .             linewidth = NULL, linetype = NULL, lineend = NULL, \n .             arrow = FALSE, inherit.blank = TRUE), class = c(\"element_line\", \n .         \"element\")), axis.ticks.x = NULL, axis.ticks.x.top = NULL, \n .         axis.ticks.x.bottom = NULL, axis.ticks.y = NULL, axis.ticks.y.left = NULL, \n .         axis.ticks.y.right = NULL, axis.ticks.theta = NULL, axis.ticks.r = NULL, \n .         axis.minor.ticks.x.top = NULL, axis.minor.ticks.x.bottom = NULL, \n .         axis.minor.ticks.y.left = NULL, axis.minor.ticks.y.right = NULL, \n .         axis.minor.ticks.theta = NULL, axis.minor.ticks.r = NULL, \n .         axis.ticks.length = structure(3, unit = 8L, class = c(\"simpleUnit\", \n .         \"unit\", \"unit_v2\")), axis.ticks.length.x = NULL, axis.ticks.length.x.top = NULL, \n .         axis.ticks.length.x.bottom = NULL, axis.ticks.length.y = NULL, \n .         axis.ticks.length.y.left = NULL, axis.ticks.length.y.right = NULL, \n .         axis.ticks.length.theta = NULL, axis.ticks.length.r = NULL, \n .         axis.minor.ticks.length = structure(0.75, class = \"rel\"), \n .         axis.minor.ticks.length.x = NULL, axis.minor.ticks.length.x.top = NULL, \n .         axis.minor.ticks.length.x.bottom = NULL, axis.minor.ticks.length.y = NULL, \n .         axis.minor.ticks.length.y.left = NULL, axis.minor.ticks.length.y.right = NULL, \n .         axis.minor.ticks.length.theta = NULL, axis.minor.ticks.length.r = NULL, \n .         axis.line = structure(list(colour = \"black\", linewidth = structure(1, class = \"rel\"), \n .             linetype = NULL, lineend = NULL, arrow = FALSE, inherit.blank = TRUE), class = c(\"element_line\", \n .         \"element\")), axis.line.x = NULL, axis.line.x.top = NULL, \n .         axis.line.x.bottom = NULL, axis.line.y = NULL, axis.line.y.left = NULL, \n .         axis.line.y.right = NULL, axis.line.theta = NULL, axis.line.r = NULL, \n .         legend.background = structure(list(fill = NULL, colour = NA, \n .             linewidth = NULL, linetype = NULL, inherit.blank = TRUE), class = c(\"element_rect\", \n .         \"element\")), legend.margin = structure(c(6, 6, 6, 6), unit = 8L, class = c(\"margin\", \n .         \"simpleUnit\", \"unit\", \"unit_v2\")), legend.spacing = structure(12, unit = 8L, class = c(\"simpleUnit\", \n .         \"unit\", \"unit_v2\")), legend.spacing.x = NULL, legend.spacing.y = NULL, \n .         legend.key = NULL, legend.key.size = structure(1.2, unit = 3L, class = c(\"simpleUnit\", \n .         \"unit\", \"unit_v2\")), legend.key.height = NULL, legend.key.width = NULL, \n .         legend.key.spacing = structure(6, unit = 8L, class = c(\"simpleUnit\", \n .         \"unit\", \"unit_v2\")), legend.key.spacing.x = NULL, legend.key.spacing.y = NULL, \n .         legend.frame = NULL, legend.ticks = NULL, legend.ticks.length = structure(0.2, class = \"rel\"), \n .         legend.axis.line = NULL, legend.text = structure(list(\n .             family = NULL, face = \"plain\", colour = \"black\", \n .             size = 10, hjust = NULL, vjust = NULL, angle = NULL, \n .             lineheight = NULL, margin = NULL, debug = NULL, inherit.blank = FALSE), class = c(\"element_text\", \n .         \"element\")), legend.text.position = NULL, legend.title = structure(list(\n .             family = NULL, face = \"plain\", colour = \"black\", \n .             size = 10, hjust = 0, vjust = NULL, angle = NULL, \n .             lineheight = NULL, margin = NULL, debug = NULL, inherit.blank = FALSE), class = c(\"element_text\", \n .         \"element\")), legend.title.position = NULL, legend.position = \"top\", \n .         legend.position.inside = NULL, legend.direction = NULL, \n .         legend.byrow = NULL, legend.justification = \"center\", \n .         legend.justification.top = NULL, legend.justification.bottom = NULL, \n .         legend.justification.left = NULL, legend.justification.right = NULL, \n .         legend.justification.inside = NULL, legend.location = NULL, \n .         legend.box = NULL, legend.box.just = NULL, legend.box.margin = structure(c(0, \n .         0, 0, 0), unit = 1L, class = c(\"margin\", \"simpleUnit\", \n .         \"unit\", \"unit_v2\")), legend.box.background = structure(list(), class = c(\"element_blank\", \n .         \"element\")), legend.box.spacing = structure(12, unit = 8L, class = c(\"simpleUnit\", \n .         \"unit\", \"unit_v2\")), panel.background = structure(list(\n .             fill = \"white\", colour = NA, linewidth = NULL, linetype = NULL, \n .             inherit.blank = TRUE), class = c(\"element_rect\", \n .         \"element\")), panel.border = structure(list(), class = c(\"element_blank\", \n .         \"element\")), panel.spacing = structure(6, unit = 8L, class = c(\"simpleUnit\", \n .         \"unit\", \"unit_v2\")), panel.spacing.x = NULL, panel.spacing.y = NULL, \n .         panel.grid = structure(list(colour = \"grey92\", linewidth = NULL, \n .             linetype = NULL, lineend = NULL, arrow = FALSE, inherit.blank = TRUE), class = c(\"element_line\", \n .         \"element\")), panel.grid.major = structure(list(), class = c(\"element_blank\", \n .         \"element\")), panel.grid.minor = structure(list(), class = c(\"element_blank\", \n .         \"element\")), panel.grid.major.x = NULL, panel.grid.major.y = NULL, \n .         panel.grid.minor.x = NULL, panel.grid.minor.y = NULL, \n .         panel.ontop = FALSE, plot.background = structure(list(\n .             fill = NULL, colour = \"white\", linewidth = NULL, \n .             linetype = NULL, inherit.blank = TRUE), class = c(\"element_rect\", \n .         \"element\")), plot.title = structure(list(family = NULL, \n .             face = \"plain\", colour = \"black\", size = 16, hjust = 0, \n .             vjust = 1, angle = NULL, lineheight = 1, margin = structure(c(0, \n .             0, 6, 0), unit = 8L, class = c(\"margin\", \"simpleUnit\", \n .             \"unit\", \"unit_v2\")), debug = NULL, inherit.blank = FALSE), class = c(\"element_text\", \n .         \"element\")), plot.title.position = \"panel\", plot.subtitle = structure(list(\n .             family = NULL, face = \"plain\", colour = \"black\", \n .             size = 15, hjust = 0, vjust = 1, angle = NULL, lineheight = 1, \n .             margin = structure(c(0, 0, 6, 0), unit = 8L, class = c(\"margin\", \n .             \"simpleUnit\", \"unit\", \"unit_v2\")), debug = NULL, \n .             inherit.blank = FALSE), class = c(\"element_text\", \n .         \"element\")), plot.caption = structure(list(family = NULL, \n .             face = \"plain\", colour = \"black\", size = 15, hjust = 1, \n .             vjust = 1, angle = NULL, lineheight = 1, margin = structure(c(6, \n .             0, 0, 0), unit = 8L, class = c(\"margin\", \"simpleUnit\", \n .             \"unit\", \"unit_v2\")), debug = NULL, inherit.blank = FALSE), class = c(\"element_text\", \n .         \"element\")), plot.caption.position = \"panel\", plot.tag = structure(list(\n .             family = NULL, face = NULL, colour = NULL, size = structure(1.2, class = \"rel\"), \n .             hjust = 0.5, vjust = 0.5, angle = NULL, lineheight = NULL, \n .             margin = NULL, debug = NULL, inherit.blank = TRUE), class = c(\"element_text\", \n .         \"element\")), plot.tag.position = \"topleft\", plot.tag.location = NULL, \n .         plot.margin = structure(c(6, 6, 6, 6), unit = 8L, class = c(\"margin\", \n .         \"simpleUnit\", \"unit\", \"unit_v2\")), strip.background = structure(list(\n .             fill = \"white\", colour = \"black\", linewidth = structure(2, class = \"rel\"), \n .             linetype = NULL, inherit.blank = TRUE), class = c(\"element_rect\", \n .         \"element\")), strip.background.x = NULL, strip.background.y = NULL, \n .         strip.clip = \"inherit\", strip.placement = \"inside\", strip.text = structure(list(\n .             family = NULL, face = NULL, colour = \"grey10\", size = structure(0.8, class = \"rel\"), \n .             hjust = NULL, vjust = NULL, angle = NULL, lineheight = NULL, \n .             margin = structure(c(4.8, 4.8, 4.8, 4.8), unit = 8L, class = c(\"margin\", \n .             \"simpleUnit\", \"unit\", \"unit_v2\")), debug = NULL, \n .             inherit.blank = TRUE), class = c(\"element_text\", \n .         \"element\")), strip.text.x = NULL, strip.text.x.bottom = NULL, \n .         strip.text.x.top = NULL, strip.text.y = structure(list(\n .             family = NULL, face = NULL, colour = NULL, size = NULL, \n .             hjust = NULL, vjust = NULL, angle = -90, lineheight = NULL, \n .             margin = NULL, debug = NULL, inherit.blank = TRUE), class = c(\"element_text\", \n .         \"element\")), strip.text.y.left = structure(list(family = NULL, \n .             face = NULL, colour = NULL, size = NULL, hjust = NULL, \n .             vjust = NULL, angle = 90, lineheight = NULL, margin = NULL, \n .             debug = NULL, inherit.blank = TRUE), class = c(\"element_text\", \n .         \"element\")), strip.text.y.right = NULL, strip.switch.pad.grid = structure(3, unit = 8L, class = c(\"simpleUnit\", \n .         \"unit\", \"unit_v2\")), strip.switch.pad.wrap = structure(3, unit = 8L, class = c(\"simpleUnit\", \n .         \"unit\", \"unit_v2\"))), class = \"theme\", complete = TRUE, validate = TRUE), \n .     tables.theme = structure(list(line = structure(list(colour = \"black\", \n .         linewidth = 0.545454545454545, linetype = 1, lineend = \"butt\", \n .         arrow = FALSE, inherit.blank = TRUE), class = c(\"element_line\", \n .     \"element\")), rect = structure(list(fill = \"white\", colour = \"black\", \n .         linewidth = 0.545454545454545, linetype = 1, inherit.blank = TRUE), class = c(\"element_rect\", \n .     \"element\")), text = structure(list(family = \"\", face = \"plain\", \n .         colour = \"black\", size = 12, hjust = 0.5, vjust = 0.5, \n .         angle = 0, lineheight = 0.9, margin = structure(c(0, \n .         0, 0, 0), unit = 8L, class = c(\"margin\", \"simpleUnit\", \n .         \"unit\", \"unit_v2\")), debug = FALSE, inherit.blank = TRUE), class = c(\"element_text\", \n .     \"element\")), title = NULL, aspect.ratio = NULL, axis.title = NULL, \n .         axis.title.x = structure(list(family = NULL, face = \"plain\", \n .             colour = \"black\", size = 14, hjust = NULL, vjust = 1, \n .             angle = NULL, lineheight = NULL, margin = structure(c(3, \n .             0, 0, 0), unit = 8L, class = c(\"margin\", \"simpleUnit\", \n .             \"unit\", \"unit_v2\")), debug = NULL, inherit.blank = FALSE), class = c(\"element_text\", \n .         \"element\")), axis.title.x.top = structure(list(family = NULL, \n .             face = NULL, colour = NULL, size = NULL, hjust = NULL, \n .             vjust = 0, angle = NULL, lineheight = NULL, margin = structure(c(0, \n .             0, 3, 0), unit = 8L, class = c(\"margin\", \"simpleUnit\", \n .             \"unit\", \"unit_v2\")), debug = NULL, inherit.blank = TRUE), class = c(\"element_text\", \n .         \"element\")), axis.title.x.bottom = NULL, axis.title.y = structure(list(\n .             family = NULL, face = \"plain\", colour = \"black\", \n .             size = 14, hjust = NULL, vjust = 1, angle = 90, lineheight = NULL, \n .             margin = structure(c(0, 3, 0, 0), unit = 8L, class = c(\"margin\", \n .             \"simpleUnit\", \"unit\", \"unit_v2\")), debug = NULL, \n .             inherit.blank = FALSE), class = c(\"element_text\", \n .         \"element\")), axis.title.y.left = NULL, axis.title.y.right = structure(list(\n .             family = NULL, face = NULL, colour = NULL, size = NULL, \n .             hjust = NULL, vjust = 1, angle = -90, lineheight = NULL, \n .             margin = structure(c(0, 0, 0, 3), unit = 8L, class = c(\"margin\", \n .             \"simpleUnit\", \"unit\", \"unit_v2\")), debug = NULL, \n .             inherit.blank = TRUE), class = c(\"element_text\", \n .         \"element\")), axis.text = structure(list(family = NULL, \n .             face = NULL, colour = \"grey30\", size = structure(0.8, class = \"rel\"), \n .             hjust = NULL, vjust = NULL, angle = NULL, lineheight = NULL, \n .             margin = NULL, debug = NULL, inherit.blank = TRUE), class = c(\"element_text\", \n .         \"element\")), axis.text.x = structure(list(family = NULL, \n .             face = \"plain\", colour = \"black\", size = 12, hjust = NULL, \n .             vjust = 1, angle = 0, lineheight = NULL, margin = structure(c(2.4, \n .             0, 0, 0), unit = 8L, class = c(\"margin\", \"simpleUnit\", \n .             \"unit\", \"unit_v2\")), debug = NULL, inherit.blank = FALSE), class = c(\"element_text\", \n .         \"element\")), axis.text.x.top = structure(list(family = NULL, \n .             face = NULL, colour = NULL, size = NULL, hjust = NULL, \n .             vjust = 0, angle = NULL, lineheight = NULL, margin = structure(c(0, \n .             0, 2.4, 0), unit = 8L, class = c(\"margin\", \"simpleUnit\", \n .             \"unit\", \"unit_v2\")), debug = NULL, inherit.blank = TRUE), class = c(\"element_text\", \n .         \"element\")), axis.text.x.bottom = NULL, axis.text.y = structure(list(\n .             family = NULL, face = \"plain\", colour = \"black\", \n .             size = 12, hjust = 1, vjust = NULL, angle = 0, lineheight = NULL, \n .             margin = structure(c(0, 2.4, 0, 0), unit = 8L, class = c(\"margin\", \n .             \"simpleUnit\", \"unit\", \"unit_v2\")), debug = NULL, \n .             inherit.blank = FALSE), class = c(\"element_text\", \n .         \"element\")), axis.text.y.left = NULL, axis.text.y.right = structure(list(\n .             family = NULL, face = NULL, colour = NULL, size = NULL, \n .             hjust = 0, vjust = NULL, angle = NULL, lineheight = NULL, \n .             margin = structure(c(0, 0, 0, 2.4), unit = 8L, class = c(\"margin\", \n .             \"simpleUnit\", \"unit\", \"unit_v2\")), debug = NULL, \n .             inherit.blank = TRUE), class = c(\"element_text\", \n .         \"element\")), axis.text.theta = NULL, axis.text.r = structure(list(\n .             family = NULL, face = NULL, colour = NULL, size = NULL, \n .             hjust = 0.5, vjust = NULL, angle = NULL, lineheight = NULL, \n .             margin = structure(c(0, 2.4, 0, 2.4), unit = 8L, class = c(\"margin\", \n .             \"simpleUnit\", \"unit\", \"unit_v2\")), debug = NULL, \n .             inherit.blank = TRUE), class = c(\"element_text\", \n .         \"element\")), axis.ticks = structure(list(colour = \"grey20\", \n .             linewidth = NULL, linetype = NULL, lineend = NULL, \n .             arrow = FALSE, inherit.blank = TRUE), class = c(\"element_line\", \n .         \"element\")), axis.ticks.x = NULL, axis.ticks.x.top = NULL, \n .         axis.ticks.x.bottom = NULL, axis.ticks.y = NULL, axis.ticks.y.left = NULL, \n .         axis.ticks.y.right = NULL, axis.ticks.theta = NULL, axis.ticks.r = NULL, \n .         axis.minor.ticks.x.top = NULL, axis.minor.ticks.x.bottom = NULL, \n .         axis.minor.ticks.y.left = NULL, axis.minor.ticks.y.right = NULL, \n .         axis.minor.ticks.theta = NULL, axis.minor.ticks.r = NULL, \n .         axis.ticks.length = structure(3, unit = 8L, class = c(\"simpleUnit\", \n .         \"unit\", \"unit_v2\")), axis.ticks.length.x = NULL, axis.ticks.length.x.top = NULL, \n .         axis.ticks.length.x.bottom = NULL, axis.ticks.length.y = NULL, \n .         axis.ticks.length.y.left = NULL, axis.ticks.length.y.right = NULL, \n .         axis.ticks.length.theta = NULL, axis.ticks.length.r = NULL, \n .         axis.minor.ticks.length = structure(0.75, class = \"rel\"), \n .         axis.minor.ticks.length.x = NULL, axis.minor.ticks.length.x.top = NULL, \n .         axis.minor.ticks.length.x.bottom = NULL, axis.minor.ticks.length.y = NULL, \n .         axis.minor.ticks.length.y.left = NULL, axis.minor.ticks.length.y.right = NULL, \n .         axis.minor.ticks.length.theta = NULL, axis.minor.ticks.length.r = NULL, \n .         axis.line = structure(list(colour = \"black\", linewidth = structure(1, class = \"rel\"), \n .             linetype = NULL, lineend = NULL, arrow = FALSE, inherit.blank = TRUE), class = c(\"element_line\", \n .         \"element\")), axis.line.x = NULL, axis.line.x.top = NULL, \n .         axis.line.x.bottom = NULL, axis.line.y = NULL, axis.line.y.left = NULL, \n .         axis.line.y.right = NULL, axis.line.theta = NULL, axis.line.r = NULL, \n .         legend.background = structure(list(fill = NULL, colour = NA, \n .             linewidth = NULL, linetype = NULL, inherit.blank = TRUE), class = c(\"element_rect\", \n .         \"element\")), legend.margin = structure(c(6, 6, 6, 6), unit = 8L, class = c(\"margin\", \n .         \"simpleUnit\", \"unit\", \"unit_v2\")), legend.spacing = structure(12, unit = 8L, class = c(\"simpleUnit\", \n .         \"unit\", \"unit_v2\")), legend.spacing.x = NULL, legend.spacing.y = NULL, \n .         legend.key = NULL, legend.key.size = structure(1.2, unit = 3L, class = c(\"simpleUnit\", \n .         \"unit\", \"unit_v2\")), legend.key.height = NULL, legend.key.width = NULL, \n .         legend.key.spacing = structure(6, unit = 8L, class = c(\"simpleUnit\", \n .         \"unit\", \"unit_v2\")), legend.key.spacing.x = NULL, legend.key.spacing.y = NULL, \n .         legend.frame = NULL, legend.ticks = NULL, legend.ticks.length = structure(0.2, class = \"rel\"), \n .         legend.axis.line = NULL, legend.text = structure(list(\n .             family = NULL, face = \"plain\", colour = \"black\", \n .             size = 10, hjust = NULL, vjust = NULL, angle = NULL, \n .             lineheight = NULL, margin = NULL, debug = NULL, inherit.blank = FALSE), class = c(\"element_text\", \n .         \"element\")), legend.text.position = NULL, legend.title = structure(list(\n .             family = NULL, face = \"plain\", colour = \"black\", \n .             size = 10, hjust = 0, vjust = NULL, angle = NULL, \n .             lineheight = NULL, margin = NULL, debug = NULL, inherit.blank = FALSE), class = c(\"element_text\", \n .         \"element\")), legend.title.position = NULL, legend.position = \"top\", \n .         legend.position.inside = NULL, legend.direction = NULL, \n .         legend.byrow = NULL, legend.justification = \"center\", \n .         legend.justification.top = NULL, legend.justification.bottom = NULL, \n .         legend.justification.left = NULL, legend.justification.right = NULL, \n .         legend.justification.inside = NULL, legend.location = NULL, \n .         legend.box = NULL, legend.box.just = NULL, legend.box.margin = structure(c(0, \n .         0, 0, 0), unit = 1L, class = c(\"margin\", \"simpleUnit\", \n .         \"unit\", \"unit_v2\")), legend.box.background = structure(list(), class = c(\"element_blank\", \n .         \"element\")), legend.box.spacing = structure(12, unit = 8L, class = c(\"simpleUnit\", \n .         \"unit\", \"unit_v2\")), panel.background = structure(list(\n .             fill = \"white\", colour = NA, linewidth = NULL, linetype = NULL, \n .             inherit.blank = TRUE), class = c(\"element_rect\", \n .         \"element\")), panel.border = structure(list(), class = c(\"element_blank\", \n .         \"element\")), panel.spacing = structure(6, unit = 8L, class = c(\"simpleUnit\", \n .         \"unit\", \"unit_v2\")), panel.spacing.x = NULL, panel.spacing.y = NULL, \n .         panel.grid = structure(list(colour = \"grey92\", linewidth = NULL, \n .             linetype = NULL, lineend = NULL, arrow = FALSE, inherit.blank = TRUE), class = c(\"element_line\", \n .         \"element\")), panel.grid.major = structure(list(), class = c(\"element_blank\", \n .         \"element\")), panel.grid.minor = structure(list(), class = c(\"element_blank\", \n .         \"element\")), panel.grid.major.x = NULL, panel.grid.major.y = NULL, \n .         panel.grid.minor.x = NULL, panel.grid.minor.y = NULL, \n .         panel.ontop = FALSE, plot.background = structure(list(\n .             fill = NULL, colour = \"white\", linewidth = NULL, \n .             linetype = NULL, inherit.blank = TRUE), class = c(\"element_rect\", \n .         \"element\")), plot.title = structure(list(family = NULL, \n .             face = \"plain\", colour = \"black\", size = 16, hjust = 0, \n .             vjust = 1, angle = NULL, lineheight = 1, margin = structure(c(0, \n .             0, 6, 0), unit = 8L, class = c(\"margin\", \"simpleUnit\", \n .             \"unit\", \"unit_v2\")), debug = NULL, inherit.blank = FALSE), class = c(\"element_text\", \n .         \"element\")), plot.title.position = \"panel\", plot.subtitle = structure(list(\n .             family = NULL, face = \"plain\", colour = \"black\", \n .             size = 15, hjust = 0, vjust = 1, angle = NULL, lineheight = 1, \n .             margin = structure(c(0, 0, 6, 0), unit = 8L, class = c(\"margin\", \n .             \"simpleUnit\", \"unit\", \"unit_v2\")), debug = NULL, \n .             inherit.blank = FALSE), class = c(\"element_text\", \n .         \"element\")), plot.caption = structure(list(family = NULL, \n .             face = \"plain\", colour = \"black\", size = 15, hjust = 1, \n .             vjust = 1, angle = NULL, lineheight = 1, margin = structure(c(6, \n .             0, 0, 0), unit = 8L, class = c(\"margin\", \"simpleUnit\", \n .             \"unit\", \"unit_v2\")), debug = NULL, inherit.blank = FALSE), class = c(\"element_text\", \n .         \"element\")), plot.caption.position = \"panel\", plot.tag = structure(list(\n .             family = NULL, face = NULL, colour = NULL, size = structure(1.2, class = \"rel\"), \n .             hjust = 0.5, vjust = 0.5, angle = NULL, lineheight = NULL, \n .             margin = NULL, debug = NULL, inherit.blank = TRUE), class = c(\"element_text\", \n .         \"element\")), plot.tag.position = \"topleft\", plot.tag.location = NULL, \n .         plot.margin = structure(c(6, 6, 6, 6), unit = 8L, class = c(\"margin\", \n .         \"simpleUnit\", \"unit\", \"unit_v2\")), strip.background = structure(list(\n .             fill = \"white\", colour = \"black\", linewidth = structure(2, class = \"rel\"), \n .             linetype = NULL, inherit.blank = TRUE), class = c(\"element_rect\", \n .         \"element\")), strip.background.x = NULL, strip.background.y = NULL, \n .         strip.clip = \"inherit\", strip.placement = \"inside\", strip.text = structure(list(\n .             family = NULL, face = NULL, colour = \"grey10\", size = structure(0.8, class = \"rel\"), \n .             hjust = NULL, vjust = NULL, angle = NULL, lineheight = NULL, \n .             margin = structure(c(4.8, 4.8, 4.8, 4.8), unit = 8L, class = c(\"margin\", \n .             \"simpleUnit\", \"unit\", \"unit_v2\")), debug = NULL, \n .             inherit.blank = TRUE), class = c(\"element_text\", \n .         \"element\")), strip.text.x = NULL, strip.text.x.bottom = NULL, \n .         strip.text.x.top = NULL, strip.text.y = structure(list(\n .             family = NULL, face = NULL, colour = NULL, size = NULL, \n .             hjust = NULL, vjust = NULL, angle = -90, lineheight = NULL, \n .             margin = NULL, debug = NULL, inherit.blank = TRUE), class = c(\"element_text\", \n .         \"element\")), strip.text.y.left = structure(list(family = NULL, \n .             face = NULL, colour = NULL, size = NULL, hjust = NULL, \n .             vjust = NULL, angle = 90, lineheight = NULL, margin = NULL, \n .             debug = NULL, inherit.blank = TRUE), class = c(\"element_text\", \n .         \"element\")), strip.text.y.right = NULL, strip.switch.pad.grid = structure(3, unit = 8L, class = c(\"simpleUnit\", \n .         \"unit\", \"unit_v2\")), strip.switch.pad.wrap = structure(3, unit = 8L, class = c(\"simpleUnit\", \n .         \"unit\", \"unit_v2\"))), class = \"theme\", complete = TRUE, validate = TRUE), \n .     size = 1, risk.table.col = \"strata\", legend = c(0.8, 0.85\n .     ), legend.title = \"Group\", legend.labs = c(\"Hight\", \"Low\"\n .     ), title = \"HLA.DRA\")",
      "4. ggsurvplot_df(d, fun = fun, color = color, palette = palette, \n .     linetype = linetype, break.x.by = break.x.by, break.time.by = break.time.by, \n .     break.y.by = break.y.by, surv.scale = surv.scale, xscale = xscale, \n .     conf.int = conf.int, conf.int.fill = conf.int.fill, conf.int.style = conf.int.style, \n .     conf.int.alpha = conf.int.alpha, censor = censor, censor.shape = censor.shape, \n .     censor.size = censor.size, title = title, xlab = xlab, ylab = ylab, \n .     xlim = xlim, ylim = ylim, axes.offset = axes.offset, legend = legend, \n .     legend.title = legend.title, legend.labs = legend.labs, ggtheme = ggtheme, \n .     ...)",
      "5. stop(\"The length of legend.labs should be \", n.strata)"
     ]
    }
   ],
   "source": [
    "for(i in IMCe){\n",
    "fit <- survfit(Surv(OS.time, OS\t) ~res.cat[,i], data = res.cat)#拟合生存分析\n",
    "#绘制生存曲线并显示P值\n",
    "p = ggsurvplot(fit, #legend.title = i,\n",
    "           data = res.cat,\n",
    "          pval = TRUE, \n",
    "                   conf.int = TRUE,\n",
    "                   fun=\"pct\",\n",
    "                   size=1,\n",
    "                   risk.table = TRUE, \n",
    "                   risk.table.col = \"strata\",\n",
    "                   linetype = \"strata\", \n",
    "                   palette = c(\"lightseagreen\", \"goldenrod1\"), \n",
    "                   legend = c(0.8, 0.85),\n",
    "                   legend.title = \"Group\", \n",
    "                   legend.labs = c(\"Hight\",\"Low\"),  \n",
    "                   #legend.labs = c(\"Low\",\"Hight-S\"), \n",
    "                   title=paste0(i),\n",
    "                   surv.median.line = \"hv\"\n",
    "               \n",
    "              )      \n",
    "pdf(paste0(cell_inter_dir,'/',i,'.roc.pdf'),width = 6,height = 5)\n",
    "    print(i)\n",
    "print(p, newpage = FALSE)\n",
    "dev.off()\n",
    "}"
   ]
  },
  {
   "cell_type": "code",
   "execution_count": null,
   "id": "3b8cfdbe-df35-494f-869c-3dc8c0005970",
   "metadata": {},
   "outputs": [],
   "source": []
  }
 ],
 "metadata": {
  "kernelspec": {
   "display_name": "R",
   "language": "R",
   "name": "ir"
  },
  "language_info": {
   "codemirror_mode": "r",
   "file_extension": ".r",
   "mimetype": "text/x-r-source",
   "name": "R",
   "pygments_lexer": "r",
   "version": "4.2.1"
  }
 },
 "nbformat": 4,
 "nbformat_minor": 5
}
