{
 "cells": [
  {
   "cell_type": "markdown",
   "id": "456a3139-7d5b-49df-ad3a-ea0eeb33a16f",
   "metadata": {},
   "source": [
    "### TCGA ID转换教程 https://www.jianshu.com/p/a969edd384c3"
   ]
  },
  {
   "cell_type": "code",
   "execution_count": 48,
   "id": "2b84b4e8-e54f-4c10-a975-ac66f65457b9",
   "metadata": {},
   "outputs": [],
   "source": [
    "setwd('/import/a.jif/TCGA/')"
   ]
  },
  {
   "cell_type": "code",
   "execution_count": 49,
   "id": "1f568df1-20bb-441d-b3b5-da60efdf40bf",
   "metadata": {},
   "outputs": [],
   "source": [
    "fpkm = read.table('./TCGA-OV.htseq_fpkm.tsv',header =T,check.names = F)"
   ]
  },
  {
   "cell_type": "code",
   "execution_count": 50,
   "id": "8abafe2a-33b1-45e0-9054-e508f2a8998f",
   "metadata": {},
   "outputs": [
    {
     "data": {
      "text/html": [
       "<table class=\"dataframe\">\n",
       "<caption>A data.frame: 2 x 380</caption>\n",
       "<thead>\n",
       "\t<tr><th></th><th scope=col>Ensembl_ID</th><th scope=col>TCGA-23-1120-01A</th><th scope=col>TCGA-29-1695-01A</th><th scope=col>TCGA-61-2003-01A</th><th scope=col>TCGA-13-1404-01A</th><th scope=col>TCGA-23-1027-01A</th><th scope=col>TCGA-23-1022-01A</th><th scope=col>TCGA-61-2088-01A</th><th scope=col>TCGA-13-1507-01A</th><th scope=col>TCGA-61-1725-01A</th><th scope=col>...</th><th scope=col>TCGA-30-1714-01A</th><th scope=col>TCGA-57-1582-01A</th><th scope=col>TCGA-61-2012-01A</th><th scope=col>TCGA-13-1510-01A</th><th scope=col>TCGA-VG-A8LO-01A</th><th scope=col>TCGA-23-2078-01A</th><th scope=col>TCGA-09-1666-01A</th><th scope=col>TCGA-29-1777-01A</th><th scope=col>TCGA-61-2110-01A</th><th scope=col>TCGA-29-1776-01A</th></tr>\n",
       "\t<tr><th></th><th scope=col>&lt;chr&gt;</th><th scope=col>&lt;dbl&gt;</th><th scope=col>&lt;dbl&gt;</th><th scope=col>&lt;dbl&gt;</th><th scope=col>&lt;dbl&gt;</th><th scope=col>&lt;dbl&gt;</th><th scope=col>&lt;dbl&gt;</th><th scope=col>&lt;dbl&gt;</th><th scope=col>&lt;dbl&gt;</th><th scope=col>&lt;dbl&gt;</th><th scope=col>...</th><th scope=col>&lt;dbl&gt;</th><th scope=col>&lt;dbl&gt;</th><th scope=col>&lt;dbl&gt;</th><th scope=col>&lt;dbl&gt;</th><th scope=col>&lt;dbl&gt;</th><th scope=col>&lt;dbl&gt;</th><th scope=col>&lt;dbl&gt;</th><th scope=col>&lt;dbl&gt;</th><th scope=col>&lt;dbl&gt;</th><th scope=col>&lt;dbl&gt;</th></tr>\n",
       "</thead>\n",
       "<tbody>\n",
       "\t<tr><th scope=row>1</th><td>ENSG00000242268.2</td><td>0.00000000</td><td>0.118121979</td><td>0.00000000</td><td>0.00000000</td><td>0.000000000</td><td>0.0000000</td><td>0.00000000</td><td>0.03742011</td><td>0.00000000</td><td>...</td><td>0</td><td>0.095228892</td><td>0.0000000</td><td>0.00000000</td><td>0.16687478</td><td>0.84444623</td><td>0.20668416</td><td>0.00000000</td><td>0.000000000</td><td>0.00000000</td></tr>\n",
       "\t<tr><th scope=row>2</th><td>ENSG00000270112.3</td><td>0.05758351</td><td>0.006815658</td><td>0.05825216</td><td>0.02962052</td><td>0.001992579</td><td>0.1286417</td><td>0.05192911</td><td>0.21011257</td><td>0.01277858</td><td>...</td><td>0</td><td>0.004545883</td><td>0.4456864</td><td>0.01138721</td><td>0.02088807</td><td>0.09550716</td><td>0.01315444</td><td>0.02314206</td><td>0.004686142</td><td>0.02748921</td></tr>\n",
       "</tbody>\n",
       "</table>\n"
      ],
      "text/latex": [
       "A data.frame: 2 x 380\n",
       "\\begin{tabular}{r|lllllllllllllllllllll}\n",
       "  & Ensembl\\_ID & TCGA-23-1120-01A & TCGA-29-1695-01A & TCGA-61-2003-01A & TCGA-13-1404-01A & TCGA-23-1027-01A & TCGA-23-1022-01A & TCGA-61-2088-01A & TCGA-13-1507-01A & TCGA-61-1725-01A & ... & TCGA-30-1714-01A & TCGA-57-1582-01A & TCGA-61-2012-01A & TCGA-13-1510-01A & TCGA-VG-A8LO-01A & TCGA-23-2078-01A & TCGA-09-1666-01A & TCGA-29-1777-01A & TCGA-61-2110-01A & TCGA-29-1776-01A\\\\\n",
       "  & <chr> & <dbl> & <dbl> & <dbl> & <dbl> & <dbl> & <dbl> & <dbl> & <dbl> & <dbl> & ... & <dbl> & <dbl> & <dbl> & <dbl> & <dbl> & <dbl> & <dbl> & <dbl> & <dbl> & <dbl>\\\\\n",
       "\\hline\n",
       "\t1 & ENSG00000242268.2 & 0.00000000 & 0.118121979 & 0.00000000 & 0.00000000 & 0.000000000 & 0.0000000 & 0.00000000 & 0.03742011 & 0.00000000 & ... & 0 & 0.095228892 & 0.0000000 & 0.00000000 & 0.16687478 & 0.84444623 & 0.20668416 & 0.00000000 & 0.000000000 & 0.00000000\\\\\n",
       "\t2 & ENSG00000270112.3 & 0.05758351 & 0.006815658 & 0.05825216 & 0.02962052 & 0.001992579 & 0.1286417 & 0.05192911 & 0.21011257 & 0.01277858 & ... & 0 & 0.004545883 & 0.4456864 & 0.01138721 & 0.02088807 & 0.09550716 & 0.01315444 & 0.02314206 & 0.004686142 & 0.02748921\\\\\n",
       "\\end{tabular}\n"
      ],
      "text/markdown": [
       "\n",
       "A data.frame: 2 x 380\n",
       "\n",
       "| <!--/--> | Ensembl_ID &lt;chr&gt; | TCGA-23-1120-01A &lt;dbl&gt; | TCGA-29-1695-01A &lt;dbl&gt; | TCGA-61-2003-01A &lt;dbl&gt; | TCGA-13-1404-01A &lt;dbl&gt; | TCGA-23-1027-01A &lt;dbl&gt; | TCGA-23-1022-01A &lt;dbl&gt; | TCGA-61-2088-01A &lt;dbl&gt; | TCGA-13-1507-01A &lt;dbl&gt; | TCGA-61-1725-01A &lt;dbl&gt; | ... ... | TCGA-30-1714-01A &lt;dbl&gt; | TCGA-57-1582-01A &lt;dbl&gt; | TCGA-61-2012-01A &lt;dbl&gt; | TCGA-13-1510-01A &lt;dbl&gt; | TCGA-VG-A8LO-01A &lt;dbl&gt; | TCGA-23-2078-01A &lt;dbl&gt; | TCGA-09-1666-01A &lt;dbl&gt; | TCGA-29-1777-01A &lt;dbl&gt; | TCGA-61-2110-01A &lt;dbl&gt; | TCGA-29-1776-01A &lt;dbl&gt; |\n",
       "|---|---|---|---|---|---|---|---|---|---|---|---|---|---|---|---|---|---|---|---|---|---|\n",
       "| 1 | ENSG00000242268.2 | 0.00000000 | 0.118121979 | 0.00000000 | 0.00000000 | 0.000000000 | 0.0000000 | 0.00000000 | 0.03742011 | 0.00000000 | ... | 0 | 0.095228892 | 0.0000000 | 0.00000000 | 0.16687478 | 0.84444623 | 0.20668416 | 0.00000000 | 0.000000000 | 0.00000000 |\n",
       "| 2 | ENSG00000270112.3 | 0.05758351 | 0.006815658 | 0.05825216 | 0.02962052 | 0.001992579 | 0.1286417 | 0.05192911 | 0.21011257 | 0.01277858 | ... | 0 | 0.004545883 | 0.4456864 | 0.01138721 | 0.02088807 | 0.09550716 | 0.01315444 | 0.02314206 | 0.004686142 | 0.02748921 |\n",
       "\n"
      ],
      "text/plain": [
       "  Ensembl_ID        TCGA-23-1120-01A TCGA-29-1695-01A TCGA-61-2003-01A\n",
       "1 ENSG00000242268.2 0.00000000       0.118121979      0.00000000      \n",
       "2 ENSG00000270112.3 0.05758351       0.006815658      0.05825216      \n",
       "  TCGA-13-1404-01A TCGA-23-1027-01A TCGA-23-1022-01A TCGA-61-2088-01A\n",
       "1 0.00000000       0.000000000      0.0000000        0.00000000      \n",
       "2 0.02962052       0.001992579      0.1286417        0.05192911      \n",
       "  TCGA-13-1507-01A TCGA-61-1725-01A ... TCGA-30-1714-01A TCGA-57-1582-01A\n",
       "1 0.03742011       0.00000000       ... 0                0.095228892     \n",
       "2 0.21011257       0.01277858       ... 0                0.004545883     \n",
       "  TCGA-61-2012-01A TCGA-13-1510-01A TCGA-VG-A8LO-01A TCGA-23-2078-01A\n",
       "1 0.0000000        0.00000000       0.16687478       0.84444623      \n",
       "2 0.4456864        0.01138721       0.02088807       0.09550716      \n",
       "  TCGA-09-1666-01A TCGA-29-1777-01A TCGA-61-2110-01A TCGA-29-1776-01A\n",
       "1 0.20668416       0.00000000       0.000000000      0.00000000      \n",
       "2 0.01315444       0.02314206       0.004686142      0.02748921      "
      ]
     },
     "metadata": {},
     "output_type": "display_data"
    }
   ],
   "source": [
    "head(fpkm,2)"
   ]
  },
  {
   "cell_type": "code",
   "execution_count": 51,
   "id": "53899529-4bf7-4999-8ffd-cd7bbb90eb49",
   "metadata": {},
   "outputs": [],
   "source": [
    "#fpkm[,2:380]  = fpkm[,2:380]^2 -1"
   ]
  },
  {
   "cell_type": "code",
   "execution_count": null,
   "id": "5671963d-6f50-4d1b-8f0e-6c06ae98ff0d",
   "metadata": {},
   "outputs": [],
   "source": []
  },
  {
   "cell_type": "code",
   "execution_count": 52,
   "id": "4a24aa84-b9be-4974-9af0-cb50d210e5fb",
   "metadata": {},
   "outputs": [
    {
     "data": {
      "text/html": [
       "<table class=\"dataframe\">\n",
       "<caption>A data.frame: 6 x 380</caption>\n",
       "<thead>\n",
       "\t<tr><th></th><th scope=col>Ensembl_ID</th><th scope=col>TCGA-23-1120-01A</th><th scope=col>TCGA-29-1695-01A</th><th scope=col>TCGA-61-2003-01A</th><th scope=col>TCGA-13-1404-01A</th><th scope=col>TCGA-23-1027-01A</th><th scope=col>TCGA-23-1022-01A</th><th scope=col>TCGA-61-2088-01A</th><th scope=col>TCGA-13-1507-01A</th><th scope=col>TCGA-61-1725-01A</th><th scope=col>...</th><th scope=col>TCGA-30-1714-01A</th><th scope=col>TCGA-57-1582-01A</th><th scope=col>TCGA-61-2012-01A</th><th scope=col>TCGA-13-1510-01A</th><th scope=col>TCGA-VG-A8LO-01A</th><th scope=col>TCGA-23-2078-01A</th><th scope=col>TCGA-09-1666-01A</th><th scope=col>TCGA-29-1777-01A</th><th scope=col>TCGA-61-2110-01A</th><th scope=col>TCGA-29-1776-01A</th></tr>\n",
       "\t<tr><th></th><th scope=col>&lt;chr&gt;</th><th scope=col>&lt;dbl&gt;</th><th scope=col>&lt;dbl&gt;</th><th scope=col>&lt;dbl&gt;</th><th scope=col>&lt;dbl&gt;</th><th scope=col>&lt;dbl&gt;</th><th scope=col>&lt;dbl&gt;</th><th scope=col>&lt;dbl&gt;</th><th scope=col>&lt;dbl&gt;</th><th scope=col>&lt;dbl&gt;</th><th scope=col>...</th><th scope=col>&lt;dbl&gt;</th><th scope=col>&lt;dbl&gt;</th><th scope=col>&lt;dbl&gt;</th><th scope=col>&lt;dbl&gt;</th><th scope=col>&lt;dbl&gt;</th><th scope=col>&lt;dbl&gt;</th><th scope=col>&lt;dbl&gt;</th><th scope=col>&lt;dbl&gt;</th><th scope=col>&lt;dbl&gt;</th><th scope=col>&lt;dbl&gt;</th></tr>\n",
       "</thead>\n",
       "<tbody>\n",
       "\t<tr><th scope=row>1</th><td>ENSG00000242268.2 </td><td>0.00000000</td><td>0.118121979</td><td>0.00000000</td><td>0.00000000</td><td>0.000000000</td><td>0.0000000</td><td>0.00000000</td><td>0.03742011</td><td>0.00000000</td><td>...</td><td>0.000000</td><td>0.095228892</td><td>0.0000000</td><td>0.00000000</td><td>0.16687478</td><td>0.84444623</td><td>0.20668416</td><td>0.00000000</td><td>0.000000000</td><td>0.00000000</td></tr>\n",
       "\t<tr><th scope=row>2</th><td>ENSG00000270112.3 </td><td>0.05758351</td><td>0.006815658</td><td>0.05825216</td><td>0.02962052</td><td>0.001992579</td><td>0.1286417</td><td>0.05192911</td><td>0.21011257</td><td>0.01277858</td><td>...</td><td>0.000000</td><td>0.004545883</td><td>0.4456864</td><td>0.01138721</td><td>0.02088807</td><td>0.09550716</td><td>0.01315444</td><td>0.02314206</td><td>0.004686142</td><td>0.02748921</td></tr>\n",
       "\t<tr><th scope=row>3</th><td>ENSG00000167578.15</td><td>1.59539659</td><td>2.562768256</td><td>2.68568380</td><td>1.76074642</td><td>2.374481904</td><td>2.5960336</td><td>1.80660843</td><td>2.69450311</td><td>1.79442454</td><td>...</td><td>2.659241</td><td>1.787807202</td><td>2.7279551</td><td>1.96383296</td><td>1.56340912</td><td>1.65500636</td><td>1.92209777</td><td>1.52481385</td><td>2.215694684</td><td>1.63003349</td></tr>\n",
       "\t<tr><th scope=row>4</th><td>ENSG00000273842.1 </td><td>0.00000000</td><td>0.000000000</td><td>0.00000000</td><td>0.00000000</td><td>0.000000000</td><td>0.0000000</td><td>0.00000000</td><td>0.00000000</td><td>0.00000000</td><td>...</td><td>0.000000</td><td>0.000000000</td><td>0.0000000</td><td>0.00000000</td><td>0.00000000</td><td>0.23118984</td><td>0.00000000</td><td>0.00000000</td><td>0.000000000</td><td>0.00000000</td></tr>\n",
       "\t<tr><th scope=row>5</th><td>ENSG00000078237.5 </td><td>1.56216446</td><td>3.491077646</td><td>2.00634347</td><td>1.52708447</td><td>2.291374998</td><td>0.8720507</td><td>1.05332953</td><td>2.22406495</td><td>2.34300727</td><td>...</td><td>1.359535</td><td>1.547512271</td><td>2.3830423</td><td>1.93742071</td><td>1.76321249</td><td>2.16324579</td><td>2.32047918</td><td>1.98739570</td><td>2.608710692</td><td>1.55934439</td></tr>\n",
       "\t<tr><th scope=row>6</th><td>ENSG00000146083.10</td><td>4.88740261</td><td>4.459783662</td><td>4.86476321</td><td>4.87831337</td><td>4.919270536</td><td>4.1447336</td><td>5.32294701</td><td>3.14915948</td><td>4.72535308</td><td>...</td><td>3.841106</td><td>4.360257661</td><td>3.7733911</td><td>4.01363218</td><td>4.97599969</td><td>5.00410450</td><td>4.94654969</td><td>3.95845264</td><td>4.933178680</td><td>4.83266566</td></tr>\n",
       "</tbody>\n",
       "</table>\n"
      ],
      "text/latex": [
       "A data.frame: 6 x 380\n",
       "\\begin{tabular}{r|lllllllllllllllllllll}\n",
       "  & Ensembl\\_ID & TCGA-23-1120-01A & TCGA-29-1695-01A & TCGA-61-2003-01A & TCGA-13-1404-01A & TCGA-23-1027-01A & TCGA-23-1022-01A & TCGA-61-2088-01A & TCGA-13-1507-01A & TCGA-61-1725-01A & ... & TCGA-30-1714-01A & TCGA-57-1582-01A & TCGA-61-2012-01A & TCGA-13-1510-01A & TCGA-VG-A8LO-01A & TCGA-23-2078-01A & TCGA-09-1666-01A & TCGA-29-1777-01A & TCGA-61-2110-01A & TCGA-29-1776-01A\\\\\n",
       "  & <chr> & <dbl> & <dbl> & <dbl> & <dbl> & <dbl> & <dbl> & <dbl> & <dbl> & <dbl> & ... & <dbl> & <dbl> & <dbl> & <dbl> & <dbl> & <dbl> & <dbl> & <dbl> & <dbl> & <dbl>\\\\\n",
       "\\hline\n",
       "\t1 & ENSG00000242268.2  & 0.00000000 & 0.118121979 & 0.00000000 & 0.00000000 & 0.000000000 & 0.0000000 & 0.00000000 & 0.03742011 & 0.00000000 & ... & 0.000000 & 0.095228892 & 0.0000000 & 0.00000000 & 0.16687478 & 0.84444623 & 0.20668416 & 0.00000000 & 0.000000000 & 0.00000000\\\\\n",
       "\t2 & ENSG00000270112.3  & 0.05758351 & 0.006815658 & 0.05825216 & 0.02962052 & 0.001992579 & 0.1286417 & 0.05192911 & 0.21011257 & 0.01277858 & ... & 0.000000 & 0.004545883 & 0.4456864 & 0.01138721 & 0.02088807 & 0.09550716 & 0.01315444 & 0.02314206 & 0.004686142 & 0.02748921\\\\\n",
       "\t3 & ENSG00000167578.15 & 1.59539659 & 2.562768256 & 2.68568380 & 1.76074642 & 2.374481904 & 2.5960336 & 1.80660843 & 2.69450311 & 1.79442454 & ... & 2.659241 & 1.787807202 & 2.7279551 & 1.96383296 & 1.56340912 & 1.65500636 & 1.92209777 & 1.52481385 & 2.215694684 & 1.63003349\\\\\n",
       "\t4 & ENSG00000273842.1  & 0.00000000 & 0.000000000 & 0.00000000 & 0.00000000 & 0.000000000 & 0.0000000 & 0.00000000 & 0.00000000 & 0.00000000 & ... & 0.000000 & 0.000000000 & 0.0000000 & 0.00000000 & 0.00000000 & 0.23118984 & 0.00000000 & 0.00000000 & 0.000000000 & 0.00000000\\\\\n",
       "\t5 & ENSG00000078237.5  & 1.56216446 & 3.491077646 & 2.00634347 & 1.52708447 & 2.291374998 & 0.8720507 & 1.05332953 & 2.22406495 & 2.34300727 & ... & 1.359535 & 1.547512271 & 2.3830423 & 1.93742071 & 1.76321249 & 2.16324579 & 2.32047918 & 1.98739570 & 2.608710692 & 1.55934439\\\\\n",
       "\t6 & ENSG00000146083.10 & 4.88740261 & 4.459783662 & 4.86476321 & 4.87831337 & 4.919270536 & 4.1447336 & 5.32294701 & 3.14915948 & 4.72535308 & ... & 3.841106 & 4.360257661 & 3.7733911 & 4.01363218 & 4.97599969 & 5.00410450 & 4.94654969 & 3.95845264 & 4.933178680 & 4.83266566\\\\\n",
       "\\end{tabular}\n"
      ],
      "text/markdown": [
       "\n",
       "A data.frame: 6 x 380\n",
       "\n",
       "| <!--/--> | Ensembl_ID &lt;chr&gt; | TCGA-23-1120-01A &lt;dbl&gt; | TCGA-29-1695-01A &lt;dbl&gt; | TCGA-61-2003-01A &lt;dbl&gt; | TCGA-13-1404-01A &lt;dbl&gt; | TCGA-23-1027-01A &lt;dbl&gt; | TCGA-23-1022-01A &lt;dbl&gt; | TCGA-61-2088-01A &lt;dbl&gt; | TCGA-13-1507-01A &lt;dbl&gt; | TCGA-61-1725-01A &lt;dbl&gt; | ... ... | TCGA-30-1714-01A &lt;dbl&gt; | TCGA-57-1582-01A &lt;dbl&gt; | TCGA-61-2012-01A &lt;dbl&gt; | TCGA-13-1510-01A &lt;dbl&gt; | TCGA-VG-A8LO-01A &lt;dbl&gt; | TCGA-23-2078-01A &lt;dbl&gt; | TCGA-09-1666-01A &lt;dbl&gt; | TCGA-29-1777-01A &lt;dbl&gt; | TCGA-61-2110-01A &lt;dbl&gt; | TCGA-29-1776-01A &lt;dbl&gt; |\n",
       "|---|---|---|---|---|---|---|---|---|---|---|---|---|---|---|---|---|---|---|---|---|---|\n",
       "| 1 | ENSG00000242268.2  | 0.00000000 | 0.118121979 | 0.00000000 | 0.00000000 | 0.000000000 | 0.0000000 | 0.00000000 | 0.03742011 | 0.00000000 | ... | 0.000000 | 0.095228892 | 0.0000000 | 0.00000000 | 0.16687478 | 0.84444623 | 0.20668416 | 0.00000000 | 0.000000000 | 0.00000000 |\n",
       "| 2 | ENSG00000270112.3  | 0.05758351 | 0.006815658 | 0.05825216 | 0.02962052 | 0.001992579 | 0.1286417 | 0.05192911 | 0.21011257 | 0.01277858 | ... | 0.000000 | 0.004545883 | 0.4456864 | 0.01138721 | 0.02088807 | 0.09550716 | 0.01315444 | 0.02314206 | 0.004686142 | 0.02748921 |\n",
       "| 3 | ENSG00000167578.15 | 1.59539659 | 2.562768256 | 2.68568380 | 1.76074642 | 2.374481904 | 2.5960336 | 1.80660843 | 2.69450311 | 1.79442454 | ... | 2.659241 | 1.787807202 | 2.7279551 | 1.96383296 | 1.56340912 | 1.65500636 | 1.92209777 | 1.52481385 | 2.215694684 | 1.63003349 |\n",
       "| 4 | ENSG00000273842.1  | 0.00000000 | 0.000000000 | 0.00000000 | 0.00000000 | 0.000000000 | 0.0000000 | 0.00000000 | 0.00000000 | 0.00000000 | ... | 0.000000 | 0.000000000 | 0.0000000 | 0.00000000 | 0.00000000 | 0.23118984 | 0.00000000 | 0.00000000 | 0.000000000 | 0.00000000 |\n",
       "| 5 | ENSG00000078237.5  | 1.56216446 | 3.491077646 | 2.00634347 | 1.52708447 | 2.291374998 | 0.8720507 | 1.05332953 | 2.22406495 | 2.34300727 | ... | 1.359535 | 1.547512271 | 2.3830423 | 1.93742071 | 1.76321249 | 2.16324579 | 2.32047918 | 1.98739570 | 2.608710692 | 1.55934439 |\n",
       "| 6 | ENSG00000146083.10 | 4.88740261 | 4.459783662 | 4.86476321 | 4.87831337 | 4.919270536 | 4.1447336 | 5.32294701 | 3.14915948 | 4.72535308 | ... | 3.841106 | 4.360257661 | 3.7733911 | 4.01363218 | 4.97599969 | 5.00410450 | 4.94654969 | 3.95845264 | 4.933178680 | 4.83266566 |\n",
       "\n"
      ],
      "text/plain": [
       "  Ensembl_ID         TCGA-23-1120-01A TCGA-29-1695-01A TCGA-61-2003-01A\n",
       "1 ENSG00000242268.2  0.00000000       0.118121979      0.00000000      \n",
       "2 ENSG00000270112.3  0.05758351       0.006815658      0.05825216      \n",
       "3 ENSG00000167578.15 1.59539659       2.562768256      2.68568380      \n",
       "4 ENSG00000273842.1  0.00000000       0.000000000      0.00000000      \n",
       "5 ENSG00000078237.5  1.56216446       3.491077646      2.00634347      \n",
       "6 ENSG00000146083.10 4.88740261       4.459783662      4.86476321      \n",
       "  TCGA-13-1404-01A TCGA-23-1027-01A TCGA-23-1022-01A TCGA-61-2088-01A\n",
       "1 0.00000000       0.000000000      0.0000000        0.00000000      \n",
       "2 0.02962052       0.001992579      0.1286417        0.05192911      \n",
       "3 1.76074642       2.374481904      2.5960336        1.80660843      \n",
       "4 0.00000000       0.000000000      0.0000000        0.00000000      \n",
       "5 1.52708447       2.291374998      0.8720507        1.05332953      \n",
       "6 4.87831337       4.919270536      4.1447336        5.32294701      \n",
       "  TCGA-13-1507-01A TCGA-61-1725-01A ... TCGA-30-1714-01A TCGA-57-1582-01A\n",
       "1 0.03742011       0.00000000       ... 0.000000         0.095228892     \n",
       "2 0.21011257       0.01277858       ... 0.000000         0.004545883     \n",
       "3 2.69450311       1.79442454       ... 2.659241         1.787807202     \n",
       "4 0.00000000       0.00000000       ... 0.000000         0.000000000     \n",
       "5 2.22406495       2.34300727       ... 1.359535         1.547512271     \n",
       "6 3.14915948       4.72535308       ... 3.841106         4.360257661     \n",
       "  TCGA-61-2012-01A TCGA-13-1510-01A TCGA-VG-A8LO-01A TCGA-23-2078-01A\n",
       "1 0.0000000        0.00000000       0.16687478       0.84444623      \n",
       "2 0.4456864        0.01138721       0.02088807       0.09550716      \n",
       "3 2.7279551        1.96383296       1.56340912       1.65500636      \n",
       "4 0.0000000        0.00000000       0.00000000       0.23118984      \n",
       "5 2.3830423        1.93742071       1.76321249       2.16324579      \n",
       "6 3.7733911        4.01363218       4.97599969       5.00410450      \n",
       "  TCGA-09-1666-01A TCGA-29-1777-01A TCGA-61-2110-01A TCGA-29-1776-01A\n",
       "1 0.20668416       0.00000000       0.000000000      0.00000000      \n",
       "2 0.01315444       0.02314206       0.004686142      0.02748921      \n",
       "3 1.92209777       1.52481385       2.215694684      1.63003349      \n",
       "4 0.00000000       0.00000000       0.000000000      0.00000000      \n",
       "5 2.32047918       1.98739570       2.608710692      1.55934439      \n",
       "6 4.94654969       3.95845264       4.933178680      4.83266566      "
      ]
     },
     "metadata": {},
     "output_type": "display_data"
    }
   ],
   "source": [
    "head(fpkm,6)"
   ]
  },
  {
   "cell_type": "code",
   "execution_count": null,
   "id": "3103b75e-afc8-4a27-a294-6eccaa53b2c6",
   "metadata": {},
   "outputs": [],
   "source": []
  },
  {
   "cell_type": "code",
   "execution_count": 53,
   "id": "a43fd3f3-1005-4a7e-b96c-1ff8bec9053d",
   "metadata": {},
   "outputs": [],
   "source": [
    "fpkm<- tidyr :: separate(fpkm, Ensembl_ID,into = c('gene_id' , 'junk'), sep='\\\\.')\n",
    "fpkm<- fpkm[,-2]"
   ]
  },
  {
   "cell_type": "code",
   "execution_count": 54,
   "id": "54db9651-7557-4094-bd0d-fe8e429ce839",
   "metadata": {},
   "outputs": [
    {
     "data": {
      "text/html": [
       "<table class=\"dataframe\">\n",
       "<caption>A data.frame: 2 x 380</caption>\n",
       "<thead>\n",
       "\t<tr><th></th><th scope=col>gene_id</th><th scope=col>TCGA-23-1120-01A</th><th scope=col>TCGA-29-1695-01A</th><th scope=col>TCGA-61-2003-01A</th><th scope=col>TCGA-13-1404-01A</th><th scope=col>TCGA-23-1027-01A</th><th scope=col>TCGA-23-1022-01A</th><th scope=col>TCGA-61-2088-01A</th><th scope=col>TCGA-13-1507-01A</th><th scope=col>TCGA-61-1725-01A</th><th scope=col>...</th><th scope=col>TCGA-30-1714-01A</th><th scope=col>TCGA-57-1582-01A</th><th scope=col>TCGA-61-2012-01A</th><th scope=col>TCGA-13-1510-01A</th><th scope=col>TCGA-VG-A8LO-01A</th><th scope=col>TCGA-23-2078-01A</th><th scope=col>TCGA-09-1666-01A</th><th scope=col>TCGA-29-1777-01A</th><th scope=col>TCGA-61-2110-01A</th><th scope=col>TCGA-29-1776-01A</th></tr>\n",
       "\t<tr><th></th><th scope=col>&lt;chr&gt;</th><th scope=col>&lt;dbl&gt;</th><th scope=col>&lt;dbl&gt;</th><th scope=col>&lt;dbl&gt;</th><th scope=col>&lt;dbl&gt;</th><th scope=col>&lt;dbl&gt;</th><th scope=col>&lt;dbl&gt;</th><th scope=col>&lt;dbl&gt;</th><th scope=col>&lt;dbl&gt;</th><th scope=col>&lt;dbl&gt;</th><th scope=col>...</th><th scope=col>&lt;dbl&gt;</th><th scope=col>&lt;dbl&gt;</th><th scope=col>&lt;dbl&gt;</th><th scope=col>&lt;dbl&gt;</th><th scope=col>&lt;dbl&gt;</th><th scope=col>&lt;dbl&gt;</th><th scope=col>&lt;dbl&gt;</th><th scope=col>&lt;dbl&gt;</th><th scope=col>&lt;dbl&gt;</th><th scope=col>&lt;dbl&gt;</th></tr>\n",
       "</thead>\n",
       "<tbody>\n",
       "\t<tr><th scope=row>1</th><td>ENSG00000242268</td><td>0.00000000</td><td>0.118121979</td><td>0.00000000</td><td>0.00000000</td><td>0.000000000</td><td>0.0000000</td><td>0.00000000</td><td>0.03742011</td><td>0.00000000</td><td>...</td><td>0</td><td>0.095228892</td><td>0.0000000</td><td>0.00000000</td><td>0.16687478</td><td>0.84444623</td><td>0.20668416</td><td>0.00000000</td><td>0.000000000</td><td>0.00000000</td></tr>\n",
       "\t<tr><th scope=row>2</th><td>ENSG00000270112</td><td>0.05758351</td><td>0.006815658</td><td>0.05825216</td><td>0.02962052</td><td>0.001992579</td><td>0.1286417</td><td>0.05192911</td><td>0.21011257</td><td>0.01277858</td><td>...</td><td>0</td><td>0.004545883</td><td>0.4456864</td><td>0.01138721</td><td>0.02088807</td><td>0.09550716</td><td>0.01315444</td><td>0.02314206</td><td>0.004686142</td><td>0.02748921</td></tr>\n",
       "</tbody>\n",
       "</table>\n"
      ],
      "text/latex": [
       "A data.frame: 2 x 380\n",
       "\\begin{tabular}{r|lllllllllllllllllllll}\n",
       "  & gene\\_id & TCGA-23-1120-01A & TCGA-29-1695-01A & TCGA-61-2003-01A & TCGA-13-1404-01A & TCGA-23-1027-01A & TCGA-23-1022-01A & TCGA-61-2088-01A & TCGA-13-1507-01A & TCGA-61-1725-01A & ... & TCGA-30-1714-01A & TCGA-57-1582-01A & TCGA-61-2012-01A & TCGA-13-1510-01A & TCGA-VG-A8LO-01A & TCGA-23-2078-01A & TCGA-09-1666-01A & TCGA-29-1777-01A & TCGA-61-2110-01A & TCGA-29-1776-01A\\\\\n",
       "  & <chr> & <dbl> & <dbl> & <dbl> & <dbl> & <dbl> & <dbl> & <dbl> & <dbl> & <dbl> & ... & <dbl> & <dbl> & <dbl> & <dbl> & <dbl> & <dbl> & <dbl> & <dbl> & <dbl> & <dbl>\\\\\n",
       "\\hline\n",
       "\t1 & ENSG00000242268 & 0.00000000 & 0.118121979 & 0.00000000 & 0.00000000 & 0.000000000 & 0.0000000 & 0.00000000 & 0.03742011 & 0.00000000 & ... & 0 & 0.095228892 & 0.0000000 & 0.00000000 & 0.16687478 & 0.84444623 & 0.20668416 & 0.00000000 & 0.000000000 & 0.00000000\\\\\n",
       "\t2 & ENSG00000270112 & 0.05758351 & 0.006815658 & 0.05825216 & 0.02962052 & 0.001992579 & 0.1286417 & 0.05192911 & 0.21011257 & 0.01277858 & ... & 0 & 0.004545883 & 0.4456864 & 0.01138721 & 0.02088807 & 0.09550716 & 0.01315444 & 0.02314206 & 0.004686142 & 0.02748921\\\\\n",
       "\\end{tabular}\n"
      ],
      "text/markdown": [
       "\n",
       "A data.frame: 2 x 380\n",
       "\n",
       "| <!--/--> | gene_id &lt;chr&gt; | TCGA-23-1120-01A &lt;dbl&gt; | TCGA-29-1695-01A &lt;dbl&gt; | TCGA-61-2003-01A &lt;dbl&gt; | TCGA-13-1404-01A &lt;dbl&gt; | TCGA-23-1027-01A &lt;dbl&gt; | TCGA-23-1022-01A &lt;dbl&gt; | TCGA-61-2088-01A &lt;dbl&gt; | TCGA-13-1507-01A &lt;dbl&gt; | TCGA-61-1725-01A &lt;dbl&gt; | ... ... | TCGA-30-1714-01A &lt;dbl&gt; | TCGA-57-1582-01A &lt;dbl&gt; | TCGA-61-2012-01A &lt;dbl&gt; | TCGA-13-1510-01A &lt;dbl&gt; | TCGA-VG-A8LO-01A &lt;dbl&gt; | TCGA-23-2078-01A &lt;dbl&gt; | TCGA-09-1666-01A &lt;dbl&gt; | TCGA-29-1777-01A &lt;dbl&gt; | TCGA-61-2110-01A &lt;dbl&gt; | TCGA-29-1776-01A &lt;dbl&gt; |\n",
       "|---|---|---|---|---|---|---|---|---|---|---|---|---|---|---|---|---|---|---|---|---|---|\n",
       "| 1 | ENSG00000242268 | 0.00000000 | 0.118121979 | 0.00000000 | 0.00000000 | 0.000000000 | 0.0000000 | 0.00000000 | 0.03742011 | 0.00000000 | ... | 0 | 0.095228892 | 0.0000000 | 0.00000000 | 0.16687478 | 0.84444623 | 0.20668416 | 0.00000000 | 0.000000000 | 0.00000000 |\n",
       "| 2 | ENSG00000270112 | 0.05758351 | 0.006815658 | 0.05825216 | 0.02962052 | 0.001992579 | 0.1286417 | 0.05192911 | 0.21011257 | 0.01277858 | ... | 0 | 0.004545883 | 0.4456864 | 0.01138721 | 0.02088807 | 0.09550716 | 0.01315444 | 0.02314206 | 0.004686142 | 0.02748921 |\n",
       "\n"
      ],
      "text/plain": [
       "  gene_id         TCGA-23-1120-01A TCGA-29-1695-01A TCGA-61-2003-01A\n",
       "1 ENSG00000242268 0.00000000       0.118121979      0.00000000      \n",
       "2 ENSG00000270112 0.05758351       0.006815658      0.05825216      \n",
       "  TCGA-13-1404-01A TCGA-23-1027-01A TCGA-23-1022-01A TCGA-61-2088-01A\n",
       "1 0.00000000       0.000000000      0.0000000        0.00000000      \n",
       "2 0.02962052       0.001992579      0.1286417        0.05192911      \n",
       "  TCGA-13-1507-01A TCGA-61-1725-01A ... TCGA-30-1714-01A TCGA-57-1582-01A\n",
       "1 0.03742011       0.00000000       ... 0                0.095228892     \n",
       "2 0.21011257       0.01277858       ... 0                0.004545883     \n",
       "  TCGA-61-2012-01A TCGA-13-1510-01A TCGA-VG-A8LO-01A TCGA-23-2078-01A\n",
       "1 0.0000000        0.00000000       0.16687478       0.84444623      \n",
       "2 0.4456864        0.01138721       0.02088807       0.09550716      \n",
       "  TCGA-09-1666-01A TCGA-29-1777-01A TCGA-61-2110-01A TCGA-29-1776-01A\n",
       "1 0.20668416       0.00000000       0.000000000      0.00000000      \n",
       "2 0.01315444       0.02314206       0.004686142      0.02748921      "
      ]
     },
     "metadata": {},
     "output_type": "display_data"
    }
   ],
   "source": [
    "head(fpkm,2)"
   ]
  },
  {
   "cell_type": "code",
   "execution_count": 55,
   "id": "8286661c-fa95-4723-a4f7-c3ae6cc24435",
   "metadata": {},
   "outputs": [],
   "source": [
    "gtf1<- rtracklayer::import('/import/reference/GRCh38/genes/genes.gtf')   \n",
    "gtf_df<- as.data.frame(gtf1)"
   ]
  },
  {
   "cell_type": "code",
   "execution_count": 56,
   "id": "dd8b1120-03f8-445f-83fe-303b0b405149",
   "metadata": {},
   "outputs": [
    {
     "data": {
      "text/html": [
       "<style>\n",
       ".list-inline {list-style: none; margin:0; padding: 0}\n",
       ".list-inline>li {display: inline-block}\n",
       ".list-inline>li:not(:last-child)::after {content: \"\\00b7\"; padding: 0 .5ex}\n",
       "</style>\n",
       "<ol class=list-inline><li>'seqnames'</li><li>'start'</li><li>'end'</li><li>'width'</li><li>'strand'</li><li>'source'</li><li>'type'</li><li>'score'</li><li>'phase'</li><li>'gene_id'</li><li>'gene_version'</li><li>'gene_type'</li><li>'gene_name'</li><li>'level'</li><li>'hgnc_id'</li><li>'tag'</li><li>'havana_gene'</li><li>'transcript_id'</li><li>'transcript_version'</li><li>'transcript_type'</li><li>'transcript_name'</li><li>'transcript_support_level'</li><li>'havana_transcript'</li><li>'exon_number'</li><li>'exon_id'</li><li>'exon_version'</li><li>'protein_id'</li><li>'ccdsid'</li><li>'ont'</li></ol>\n"
      ],
      "text/latex": [
       "\\begin{enumerate*}\n",
       "\\item 'seqnames'\n",
       "\\item 'start'\n",
       "\\item 'end'\n",
       "\\item 'width'\n",
       "\\item 'strand'\n",
       "\\item 'source'\n",
       "\\item 'type'\n",
       "\\item 'score'\n",
       "\\item 'phase'\n",
       "\\item 'gene\\_id'\n",
       "\\item 'gene\\_version'\n",
       "\\item 'gene\\_type'\n",
       "\\item 'gene\\_name'\n",
       "\\item 'level'\n",
       "\\item 'hgnc\\_id'\n",
       "\\item 'tag'\n",
       "\\item 'havana\\_gene'\n",
       "\\item 'transcript\\_id'\n",
       "\\item 'transcript\\_version'\n",
       "\\item 'transcript\\_type'\n",
       "\\item 'transcript\\_name'\n",
       "\\item 'transcript\\_support\\_level'\n",
       "\\item 'havana\\_transcript'\n",
       "\\item 'exon\\_number'\n",
       "\\item 'exon\\_id'\n",
       "\\item 'exon\\_version'\n",
       "\\item 'protein\\_id'\n",
       "\\item 'ccdsid'\n",
       "\\item 'ont'\n",
       "\\end{enumerate*}\n"
      ],
      "text/markdown": [
       "1. 'seqnames'\n",
       "2. 'start'\n",
       "3. 'end'\n",
       "4. 'width'\n",
       "5. 'strand'\n",
       "6. 'source'\n",
       "7. 'type'\n",
       "8. 'score'\n",
       "9. 'phase'\n",
       "10. 'gene_id'\n",
       "11. 'gene_version'\n",
       "12. 'gene_type'\n",
       "13. 'gene_name'\n",
       "14. 'level'\n",
       "15. 'hgnc_id'\n",
       "16. 'tag'\n",
       "17. 'havana_gene'\n",
       "18. 'transcript_id'\n",
       "19. 'transcript_version'\n",
       "20. 'transcript_type'\n",
       "21. 'transcript_name'\n",
       "22. 'transcript_support_level'\n",
       "23. 'havana_transcript'\n",
       "24. 'exon_number'\n",
       "25. 'exon_id'\n",
       "26. 'exon_version'\n",
       "27. 'protein_id'\n",
       "28. 'ccdsid'\n",
       "29. 'ont'\n",
       "\n",
       "\n"
      ],
      "text/plain": [
       " [1] \"seqnames\"                 \"start\"                   \n",
       " [3] \"end\"                      \"width\"                   \n",
       " [5] \"strand\"                   \"source\"                  \n",
       " [7] \"type\"                     \"score\"                   \n",
       " [9] \"phase\"                    \"gene_id\"                 \n",
       "[11] \"gene_version\"             \"gene_type\"               \n",
       "[13] \"gene_name\"                \"level\"                   \n",
       "[15] \"hgnc_id\"                  \"tag\"                     \n",
       "[17] \"havana_gene\"              \"transcript_id\"           \n",
       "[19] \"transcript_version\"       \"transcript_type\"         \n",
       "[21] \"transcript_name\"          \"transcript_support_level\"\n",
       "[23] \"havana_transcript\"        \"exon_number\"             \n",
       "[25] \"exon_id\"                  \"exon_version\"            \n",
       "[27] \"protein_id\"               \"ccdsid\"                  \n",
       "[29] \"ont\"                     "
      ]
     },
     "metadata": {},
     "output_type": "display_data"
    }
   ],
   "source": [
    "colnames(gtf_df)"
   ]
  },
  {
   "cell_type": "code",
   "execution_count": 57,
   "id": "02fb53b7-2ec9-4058-b0bb-32f0d65c83a8",
   "metadata": {},
   "outputs": [
    {
     "data": {
      "text/html": [
       "<table class=\"dataframe\">\n",
       "<caption>A data.frame: 6 x 29</caption>\n",
       "<thead>\n",
       "\t<tr><th></th><th scope=col>seqnames</th><th scope=col>start</th><th scope=col>end</th><th scope=col>width</th><th scope=col>strand</th><th scope=col>source</th><th scope=col>type</th><th scope=col>score</th><th scope=col>phase</th><th scope=col>gene_id</th><th scope=col>...</th><th scope=col>transcript_type</th><th scope=col>transcript_name</th><th scope=col>transcript_support_level</th><th scope=col>havana_transcript</th><th scope=col>exon_number</th><th scope=col>exon_id</th><th scope=col>exon_version</th><th scope=col>protein_id</th><th scope=col>ccdsid</th><th scope=col>ont</th></tr>\n",
       "\t<tr><th></th><th scope=col>&lt;fct&gt;</th><th scope=col>&lt;int&gt;</th><th scope=col>&lt;int&gt;</th><th scope=col>&lt;int&gt;</th><th scope=col>&lt;fct&gt;</th><th scope=col>&lt;fct&gt;</th><th scope=col>&lt;fct&gt;</th><th scope=col>&lt;dbl&gt;</th><th scope=col>&lt;int&gt;</th><th scope=col>&lt;chr&gt;</th><th scope=col>...</th><th scope=col>&lt;chr&gt;</th><th scope=col>&lt;chr&gt;</th><th scope=col>&lt;chr&gt;</th><th scope=col>&lt;chr&gt;</th><th scope=col>&lt;chr&gt;</th><th scope=col>&lt;chr&gt;</th><th scope=col>&lt;chr&gt;</th><th scope=col>&lt;chr&gt;</th><th scope=col>&lt;chr&gt;</th><th scope=col>&lt;chr&gt;</th></tr>\n",
       "</thead>\n",
       "<tbody>\n",
       "\t<tr><th scope=row>1</th><td>chr1</td><td>29554</td><td>31109</td><td>1556</td><td>+</td><td>HAVANA</td><td>gene      </td><td>NA</td><td>NA</td><td>ENSG00000243485</td><td>...</td><td>NA    </td><td>NA             </td><td>NA</td><td>NA                  </td><td>NA</td><td>NA             </td><td>NA</td><td>NA</td><td>NA</td><td>NA</td></tr>\n",
       "\t<tr><th scope=row>2</th><td>chr1</td><td>29554</td><td>31097</td><td>1544</td><td>+</td><td>HAVANA</td><td>transcript</td><td>NA</td><td>NA</td><td>ENSG00000243485</td><td>...</td><td>lncRNA</td><td>MIR1302-2HG-202</td><td>5 </td><td>OTTHUMT00000002840.1</td><td>NA</td><td>NA             </td><td>NA</td><td>NA</td><td>NA</td><td>NA</td></tr>\n",
       "\t<tr><th scope=row>3</th><td>chr1</td><td>29554</td><td>30039</td><td> 486</td><td>+</td><td>HAVANA</td><td>exon      </td><td>NA</td><td>NA</td><td>ENSG00000243485</td><td>...</td><td>lncRNA</td><td>MIR1302-2HG-202</td><td>5 </td><td>OTTHUMT00000002840.1</td><td>1 </td><td>ENSE00001947070</td><td>1 </td><td>NA</td><td>NA</td><td>NA</td></tr>\n",
       "\t<tr><th scope=row>4</th><td>chr1</td><td>30564</td><td>30667</td><td> 104</td><td>+</td><td>HAVANA</td><td>exon      </td><td>NA</td><td>NA</td><td>ENSG00000243485</td><td>...</td><td>lncRNA</td><td>MIR1302-2HG-202</td><td>5 </td><td>OTTHUMT00000002840.1</td><td>2 </td><td>ENSE00001922571</td><td>1 </td><td>NA</td><td>NA</td><td>NA</td></tr>\n",
       "\t<tr><th scope=row>5</th><td>chr1</td><td>30976</td><td>31097</td><td> 122</td><td>+</td><td>HAVANA</td><td>exon      </td><td>NA</td><td>NA</td><td>ENSG00000243485</td><td>...</td><td>lncRNA</td><td>MIR1302-2HG-202</td><td>5 </td><td>OTTHUMT00000002840.1</td><td>3 </td><td>ENSE00001827679</td><td>1 </td><td>NA</td><td>NA</td><td>NA</td></tr>\n",
       "\t<tr><th scope=row>6</th><td>chr1</td><td>30267</td><td>31109</td><td> 843</td><td>+</td><td>HAVANA</td><td>transcript</td><td>NA</td><td>NA</td><td>ENSG00000243485</td><td>...</td><td>lncRNA</td><td>MIR1302-2HG-201</td><td>5 </td><td>OTTHUMT00000002841.2</td><td>NA</td><td>NA             </td><td>NA</td><td>NA</td><td>NA</td><td>NA</td></tr>\n",
       "</tbody>\n",
       "</table>\n"
      ],
      "text/latex": [
       "A data.frame: 6 x 29\n",
       "\\begin{tabular}{r|lllllllllllllllllllll}\n",
       "  & seqnames & start & end & width & strand & source & type & score & phase & gene\\_id & ... & transcript\\_type & transcript\\_name & transcript\\_support\\_level & havana\\_transcript & exon\\_number & exon\\_id & exon\\_version & protein\\_id & ccdsid & ont\\\\\n",
       "  & <fct> & <int> & <int> & <int> & <fct> & <fct> & <fct> & <dbl> & <int> & <chr> & ... & <chr> & <chr> & <chr> & <chr> & <chr> & <chr> & <chr> & <chr> & <chr> & <chr>\\\\\n",
       "\\hline\n",
       "\t1 & chr1 & 29554 & 31109 & 1556 & + & HAVANA & gene       & NA & NA & ENSG00000243485 & ... & NA     & NA              & NA & NA                   & NA & NA              & NA & NA & NA & NA\\\\\n",
       "\t2 & chr1 & 29554 & 31097 & 1544 & + & HAVANA & transcript & NA & NA & ENSG00000243485 & ... & lncRNA & MIR1302-2HG-202 & 5  & OTTHUMT00000002840.1 & NA & NA              & NA & NA & NA & NA\\\\\n",
       "\t3 & chr1 & 29554 & 30039 &  486 & + & HAVANA & exon       & NA & NA & ENSG00000243485 & ... & lncRNA & MIR1302-2HG-202 & 5  & OTTHUMT00000002840.1 & 1  & ENSE00001947070 & 1  & NA & NA & NA\\\\\n",
       "\t4 & chr1 & 30564 & 30667 &  104 & + & HAVANA & exon       & NA & NA & ENSG00000243485 & ... & lncRNA & MIR1302-2HG-202 & 5  & OTTHUMT00000002840.1 & 2  & ENSE00001922571 & 1  & NA & NA & NA\\\\\n",
       "\t5 & chr1 & 30976 & 31097 &  122 & + & HAVANA & exon       & NA & NA & ENSG00000243485 & ... & lncRNA & MIR1302-2HG-202 & 5  & OTTHUMT00000002840.1 & 3  & ENSE00001827679 & 1  & NA & NA & NA\\\\\n",
       "\t6 & chr1 & 30267 & 31109 &  843 & + & HAVANA & transcript & NA & NA & ENSG00000243485 & ... & lncRNA & MIR1302-2HG-201 & 5  & OTTHUMT00000002841.2 & NA & NA              & NA & NA & NA & NA\\\\\n",
       "\\end{tabular}\n"
      ],
      "text/markdown": [
       "\n",
       "A data.frame: 6 x 29\n",
       "\n",
       "| <!--/--> | seqnames &lt;fct&gt; | start &lt;int&gt; | end &lt;int&gt; | width &lt;int&gt; | strand &lt;fct&gt; | source &lt;fct&gt; | type &lt;fct&gt; | score &lt;dbl&gt; | phase &lt;int&gt; | gene_id &lt;chr&gt; | ... ... | transcript_type &lt;chr&gt; | transcript_name &lt;chr&gt; | transcript_support_level &lt;chr&gt; | havana_transcript &lt;chr&gt; | exon_number &lt;chr&gt; | exon_id &lt;chr&gt; | exon_version &lt;chr&gt; | protein_id &lt;chr&gt; | ccdsid &lt;chr&gt; | ont &lt;chr&gt; |\n",
       "|---|---|---|---|---|---|---|---|---|---|---|---|---|---|---|---|---|---|---|---|---|---|\n",
       "| 1 | chr1 | 29554 | 31109 | 1556 | + | HAVANA | gene       | NA | NA | ENSG00000243485 | ... | NA     | NA              | NA | NA                   | NA | NA              | NA | NA | NA | NA |\n",
       "| 2 | chr1 | 29554 | 31097 | 1544 | + | HAVANA | transcript | NA | NA | ENSG00000243485 | ... | lncRNA | MIR1302-2HG-202 | 5  | OTTHUMT00000002840.1 | NA | NA              | NA | NA | NA | NA |\n",
       "| 3 | chr1 | 29554 | 30039 |  486 | + | HAVANA | exon       | NA | NA | ENSG00000243485 | ... | lncRNA | MIR1302-2HG-202 | 5  | OTTHUMT00000002840.1 | 1  | ENSE00001947070 | 1  | NA | NA | NA |\n",
       "| 4 | chr1 | 30564 | 30667 |  104 | + | HAVANA | exon       | NA | NA | ENSG00000243485 | ... | lncRNA | MIR1302-2HG-202 | 5  | OTTHUMT00000002840.1 | 2  | ENSE00001922571 | 1  | NA | NA | NA |\n",
       "| 5 | chr1 | 30976 | 31097 |  122 | + | HAVANA | exon       | NA | NA | ENSG00000243485 | ... | lncRNA | MIR1302-2HG-202 | 5  | OTTHUMT00000002840.1 | 3  | ENSE00001827679 | 1  | NA | NA | NA |\n",
       "| 6 | chr1 | 30267 | 31109 |  843 | + | HAVANA | transcript | NA | NA | ENSG00000243485 | ... | lncRNA | MIR1302-2HG-201 | 5  | OTTHUMT00000002841.2 | NA | NA              | NA | NA | NA | NA |\n",
       "\n"
      ],
      "text/plain": [
       "  seqnames start end   width strand source type       score phase\n",
       "1 chr1     29554 31109 1556  +      HAVANA gene       NA    NA   \n",
       "2 chr1     29554 31097 1544  +      HAVANA transcript NA    NA   \n",
       "3 chr1     29554 30039  486  +      HAVANA exon       NA    NA   \n",
       "4 chr1     30564 30667  104  +      HAVANA exon       NA    NA   \n",
       "5 chr1     30976 31097  122  +      HAVANA exon       NA    NA   \n",
       "6 chr1     30267 31109  843  +      HAVANA transcript NA    NA   \n",
       "  gene_id         ... transcript_type transcript_name transcript_support_level\n",
       "1 ENSG00000243485 ... NA              NA              NA                      \n",
       "2 ENSG00000243485 ... lncRNA          MIR1302-2HG-202 5                       \n",
       "3 ENSG00000243485 ... lncRNA          MIR1302-2HG-202 5                       \n",
       "4 ENSG00000243485 ... lncRNA          MIR1302-2HG-202 5                       \n",
       "5 ENSG00000243485 ... lncRNA          MIR1302-2HG-202 5                       \n",
       "6 ENSG00000243485 ... lncRNA          MIR1302-2HG-201 5                       \n",
       "  havana_transcript    exon_number exon_id         exon_version protein_id\n",
       "1 NA                   NA          NA              NA           NA        \n",
       "2 OTTHUMT00000002840.1 NA          NA              NA           NA        \n",
       "3 OTTHUMT00000002840.1 1           ENSE00001947070 1            NA        \n",
       "4 OTTHUMT00000002840.1 2           ENSE00001922571 1            NA        \n",
       "5 OTTHUMT00000002840.1 3           ENSE00001827679 1            NA        \n",
       "6 OTTHUMT00000002841.2 NA          NA              NA           NA        \n",
       "  ccdsid ont\n",
       "1 NA     NA \n",
       "2 NA     NA \n",
       "3 NA     NA \n",
       "4 NA     NA \n",
       "5 NA     NA \n",
       "6 NA     NA "
      ]
     },
     "metadata": {},
     "output_type": "display_data"
    }
   ],
   "source": [
    "head(gtf_df,6)"
   ]
  },
  {
   "cell_type": "code",
   "execution_count": 58,
   "id": "f13cb3e3-967a-473f-8f5e-825e82444e51",
   "metadata": {},
   "outputs": [],
   "source": [
    "library(dplyr)"
   ]
  },
  {
   "cell_type": "code",
   "execution_count": 59,
   "id": "d469e191-6f89-4a30-80ff-92ec6911a647",
   "metadata": {},
   "outputs": [],
   "source": [
    "mRNA_exprSet<- gtf_df %>% \n",
    "dplyr::filter(type==\"gene\",gene_type==\"protein_coding\")%>%\n",
    "dplyr::select(c(gene_name,gene_id,transcript_type))%>%\n",
    "dplyr::inner_join(fpkm, by =\"gene_id\")"
   ]
  },
  {
   "cell_type": "code",
   "execution_count": 60,
   "id": "478096e9-f6aa-4f54-94a6-bf7f8525102c",
   "metadata": {},
   "outputs": [
    {
     "data": {
      "text/html": [
       "<table class=\"dataframe\">\n",
       "<caption>A data.frame: 2 x 382</caption>\n",
       "<thead>\n",
       "\t<tr><th></th><th scope=col>gene_name</th><th scope=col>gene_id</th><th scope=col>transcript_type</th><th scope=col>TCGA-23-1120-01A</th><th scope=col>TCGA-29-1695-01A</th><th scope=col>TCGA-61-2003-01A</th><th scope=col>TCGA-13-1404-01A</th><th scope=col>TCGA-23-1027-01A</th><th scope=col>TCGA-23-1022-01A</th><th scope=col>TCGA-61-2088-01A</th><th scope=col>...</th><th scope=col>TCGA-30-1714-01A</th><th scope=col>TCGA-57-1582-01A</th><th scope=col>TCGA-61-2012-01A</th><th scope=col>TCGA-13-1510-01A</th><th scope=col>TCGA-VG-A8LO-01A</th><th scope=col>TCGA-23-2078-01A</th><th scope=col>TCGA-09-1666-01A</th><th scope=col>TCGA-29-1777-01A</th><th scope=col>TCGA-61-2110-01A</th><th scope=col>TCGA-29-1776-01A</th></tr>\n",
       "\t<tr><th></th><th scope=col>&lt;chr&gt;</th><th scope=col>&lt;chr&gt;</th><th scope=col>&lt;chr&gt;</th><th scope=col>&lt;dbl&gt;</th><th scope=col>&lt;dbl&gt;</th><th scope=col>&lt;dbl&gt;</th><th scope=col>&lt;dbl&gt;</th><th scope=col>&lt;dbl&gt;</th><th scope=col>&lt;dbl&gt;</th><th scope=col>&lt;dbl&gt;</th><th scope=col>...</th><th scope=col>&lt;dbl&gt;</th><th scope=col>&lt;dbl&gt;</th><th scope=col>&lt;dbl&gt;</th><th scope=col>&lt;dbl&gt;</th><th scope=col>&lt;dbl&gt;</th><th scope=col>&lt;dbl&gt;</th><th scope=col>&lt;dbl&gt;</th><th scope=col>&lt;dbl&gt;</th><th scope=col>&lt;dbl&gt;</th><th scope=col>&lt;dbl&gt;</th></tr>\n",
       "</thead>\n",
       "<tbody>\n",
       "\t<tr><th scope=row>1</th><td>OR4F5 </td><td>ENSG00000186092</td><td>NA</td><td>0.0000000</td><td>0.0000000</td><td>0.000000</td><td>0.000000</td><td>0.0000000</td><td>0.000000</td><td>0.000000</td><td>...</td><td>0.0000000</td><td>0.0000000</td><td>0.00000</td><td>0.000000</td><td>0.0000000</td><td>0.0000000</td><td>0.000000</td><td>0.0000000</td><td>0.00000</td><td>0.0000000</td></tr>\n",
       "\t<tr><th scope=row>2</th><td>SAMD11</td><td>ENSG00000187634</td><td>NA</td><td>0.0964698</td><td>0.7111142</td><td>0.620981</td><td>3.177135</td><td>0.6486631</td><td>3.733601</td><td>4.580466</td><td>...</td><td>0.3340229</td><td>0.5181441</td><td>3.47736</td><td>2.314433</td><td>0.3057471</td><td>0.8149501</td><td>2.469936</td><td>0.3597346</td><td>1.27766</td><td>0.9988693</td></tr>\n",
       "</tbody>\n",
       "</table>\n"
      ],
      "text/latex": [
       "A data.frame: 2 x 382\n",
       "\\begin{tabular}{r|lllllllllllllllllllll}\n",
       "  & gene\\_name & gene\\_id & transcript\\_type & TCGA-23-1120-01A & TCGA-29-1695-01A & TCGA-61-2003-01A & TCGA-13-1404-01A & TCGA-23-1027-01A & TCGA-23-1022-01A & TCGA-61-2088-01A & ... & TCGA-30-1714-01A & TCGA-57-1582-01A & TCGA-61-2012-01A & TCGA-13-1510-01A & TCGA-VG-A8LO-01A & TCGA-23-2078-01A & TCGA-09-1666-01A & TCGA-29-1777-01A & TCGA-61-2110-01A & TCGA-29-1776-01A\\\\\n",
       "  & <chr> & <chr> & <chr> & <dbl> & <dbl> & <dbl> & <dbl> & <dbl> & <dbl> & <dbl> & ... & <dbl> & <dbl> & <dbl> & <dbl> & <dbl> & <dbl> & <dbl> & <dbl> & <dbl> & <dbl>\\\\\n",
       "\\hline\n",
       "\t1 & OR4F5  & ENSG00000186092 & NA & 0.0000000 & 0.0000000 & 0.000000 & 0.000000 & 0.0000000 & 0.000000 & 0.000000 & ... & 0.0000000 & 0.0000000 & 0.00000 & 0.000000 & 0.0000000 & 0.0000000 & 0.000000 & 0.0000000 & 0.00000 & 0.0000000\\\\\n",
       "\t2 & SAMD11 & ENSG00000187634 & NA & 0.0964698 & 0.7111142 & 0.620981 & 3.177135 & 0.6486631 & 3.733601 & 4.580466 & ... & 0.3340229 & 0.5181441 & 3.47736 & 2.314433 & 0.3057471 & 0.8149501 & 2.469936 & 0.3597346 & 1.27766 & 0.9988693\\\\\n",
       "\\end{tabular}\n"
      ],
      "text/markdown": [
       "\n",
       "A data.frame: 2 x 382\n",
       "\n",
       "| <!--/--> | gene_name &lt;chr&gt; | gene_id &lt;chr&gt; | transcript_type &lt;chr&gt; | TCGA-23-1120-01A &lt;dbl&gt; | TCGA-29-1695-01A &lt;dbl&gt; | TCGA-61-2003-01A &lt;dbl&gt; | TCGA-13-1404-01A &lt;dbl&gt; | TCGA-23-1027-01A &lt;dbl&gt; | TCGA-23-1022-01A &lt;dbl&gt; | TCGA-61-2088-01A &lt;dbl&gt; | ... ... | TCGA-30-1714-01A &lt;dbl&gt; | TCGA-57-1582-01A &lt;dbl&gt; | TCGA-61-2012-01A &lt;dbl&gt; | TCGA-13-1510-01A &lt;dbl&gt; | TCGA-VG-A8LO-01A &lt;dbl&gt; | TCGA-23-2078-01A &lt;dbl&gt; | TCGA-09-1666-01A &lt;dbl&gt; | TCGA-29-1777-01A &lt;dbl&gt; | TCGA-61-2110-01A &lt;dbl&gt; | TCGA-29-1776-01A &lt;dbl&gt; |\n",
       "|---|---|---|---|---|---|---|---|---|---|---|---|---|---|---|---|---|---|---|---|---|---|\n",
       "| 1 | OR4F5  | ENSG00000186092 | NA | 0.0000000 | 0.0000000 | 0.000000 | 0.000000 | 0.0000000 | 0.000000 | 0.000000 | ... | 0.0000000 | 0.0000000 | 0.00000 | 0.000000 | 0.0000000 | 0.0000000 | 0.000000 | 0.0000000 | 0.00000 | 0.0000000 |\n",
       "| 2 | SAMD11 | ENSG00000187634 | NA | 0.0964698 | 0.7111142 | 0.620981 | 3.177135 | 0.6486631 | 3.733601 | 4.580466 | ... | 0.3340229 | 0.5181441 | 3.47736 | 2.314433 | 0.3057471 | 0.8149501 | 2.469936 | 0.3597346 | 1.27766 | 0.9988693 |\n",
       "\n"
      ],
      "text/plain": [
       "  gene_name gene_id         transcript_type TCGA-23-1120-01A TCGA-29-1695-01A\n",
       "1 OR4F5     ENSG00000186092 NA              0.0000000        0.0000000       \n",
       "2 SAMD11    ENSG00000187634 NA              0.0964698        0.7111142       \n",
       "  TCGA-61-2003-01A TCGA-13-1404-01A TCGA-23-1027-01A TCGA-23-1022-01A\n",
       "1 0.000000         0.000000         0.0000000        0.000000        \n",
       "2 0.620981         3.177135         0.6486631        3.733601        \n",
       "  TCGA-61-2088-01A ... TCGA-30-1714-01A TCGA-57-1582-01A TCGA-61-2012-01A\n",
       "1 0.000000         ... 0.0000000        0.0000000        0.00000         \n",
       "2 4.580466         ... 0.3340229        0.5181441        3.47736         \n",
       "  TCGA-13-1510-01A TCGA-VG-A8LO-01A TCGA-23-2078-01A TCGA-09-1666-01A\n",
       "1 0.000000         0.0000000        0.0000000        0.000000        \n",
       "2 2.314433         0.3057471        0.8149501        2.469936        \n",
       "  TCGA-29-1777-01A TCGA-61-2110-01A TCGA-29-1776-01A\n",
       "1 0.0000000        0.00000          0.0000000       \n",
       "2 0.3597346        1.27766          0.9988693       "
      ]
     },
     "metadata": {},
     "output_type": "display_data"
    }
   ],
   "source": [
    "head(mRNA_exprSet,2)"
   ]
  },
  {
   "cell_type": "code",
   "execution_count": 61,
   "id": "6e79daef-a349-4300-83c9-667d1598af4b",
   "metadata": {},
   "outputs": [],
   "source": [
    "mRNA_exprSet<-mRNA_exprSet[!duplicated(mRNA_exprSet$gene_name),]"
   ]
  },
  {
   "cell_type": "code",
   "execution_count": 62,
   "id": "5cbbffdb-a9fd-499b-9b69-f4cedd620cf3",
   "metadata": {},
   "outputs": [],
   "source": [
    "mRNA_exprSet = mRNA_exprSet[,-c(2,3)] %>% tibble::remove_rownames() %>%  tibble::column_to_rownames(.,'gene_name')"
   ]
  },
  {
   "cell_type": "code",
   "execution_count": 63,
   "id": "4f37c722-58b9-436d-a83f-9f7a28d1adce",
   "metadata": {},
   "outputs": [],
   "source": [
    "library(IOBR)"
   ]
  },
  {
   "cell_type": "code",
   "execution_count": 90,
   "id": "efe8fb81-9811-4bab-a385-beb1eab35853",
   "metadata": {},
   "outputs": [
    {
     "name": "stderr",
     "output_type": "stream",
     "text": [
      "\n",
      ">>> Running MCP-counter\n",
      "\n"
     ]
    },
    {
     "data": {
      "text/html": [
       "<table class=\"dataframe\">\n",
       "<caption>A data.frame: 2 x 4</caption>\n",
       "<thead>\n",
       "\t<tr><th></th><th scope=col>sample</th><th scope=col>OS</th><th scope=col>X_PATIENT</th><th scope=col>OS.time</th></tr>\n",
       "\t<tr><th></th><th scope=col>&lt;chr&gt;</th><th scope=col>&lt;int&gt;</th><th scope=col>&lt;chr&gt;</th><th scope=col>&lt;int&gt;</th></tr>\n",
       "</thead>\n",
       "<tbody>\n",
       "\t<tr><th scope=row>1</th><td>TCGA-30-1857-01A</td><td>1</td><td>TCGA-30-1857</td><td>8</td></tr>\n",
       "\t<tr><th scope=row>2</th><td>TCGA-23-1107-01A</td><td>1</td><td>TCGA-23-1107</td><td>9</td></tr>\n",
       "</tbody>\n",
       "</table>\n"
      ],
      "text/latex": [
       "A data.frame: 2 x 4\n",
       "\\begin{tabular}{r|llll}\n",
       "  & sample & OS & X\\_PATIENT & OS.time\\\\\n",
       "  & <chr> & <int> & <chr> & <int>\\\\\n",
       "\\hline\n",
       "\t1 & TCGA-30-1857-01A & 1 & TCGA-30-1857 & 8\\\\\n",
       "\t2 & TCGA-23-1107-01A & 1 & TCGA-23-1107 & 9\\\\\n",
       "\\end{tabular}\n"
      ],
      "text/markdown": [
       "\n",
       "A data.frame: 2 x 4\n",
       "\n",
       "| <!--/--> | sample &lt;chr&gt; | OS &lt;int&gt; | X_PATIENT &lt;chr&gt; | OS.time &lt;int&gt; |\n",
       "|---|---|---|---|---|\n",
       "| 1 | TCGA-30-1857-01A | 1 | TCGA-30-1857 | 8 |\n",
       "| 2 | TCGA-23-1107-01A | 1 | TCGA-23-1107 | 9 |\n",
       "\n"
      ],
      "text/plain": [
       "  sample           OS X_PATIENT    OS.time\n",
       "1 TCGA-30-1857-01A 1  TCGA-30-1857 8      \n",
       "2 TCGA-23-1107-01A 1  TCGA-23-1107 9      "
      ]
     },
     "metadata": {},
     "output_type": "display_data"
    },
    {
     "data": {
      "text/plain": [
       "\n",
       "  0   1 \n",
       "144 224 "
      ]
     },
     "metadata": {},
     "output_type": "display_data"
    },
    {
     "data": {
      "text/html": [
       "<style>\n",
       ".list-inline {list-style: none; margin:0; padding: 0}\n",
       ".list-inline>li {display: inline-block}\n",
       ".list-inline>li:not(:last-child)::after {content: \"\\00b7\"; padding: 0 .5ex}\n",
       "</style>\n",
       "<ol class=list-inline><li>368</li><li>14</li></ol>\n"
      ],
      "text/latex": [
       "\\begin{enumerate*}\n",
       "\\item 368\n",
       "\\item 14\n",
       "\\end{enumerate*}\n"
      ],
      "text/markdown": [
       "1. 368\n",
       "2. 14\n",
       "\n",
       "\n"
      ],
      "text/plain": [
       "[1] 368  14"
      ]
     },
     "metadata": {},
     "output_type": "display_data"
    },
    {
     "data": {
      "text/plain": [
       "\n",
       "  0   1 \n",
       "144 224 "
      ]
     },
     "metadata": {},
     "output_type": "display_data"
    },
    {
     "data": {
      "text/html": [
       "<table class=\"dataframe\">\n",
       "<caption>A data.frame: 2 x 14</caption>\n",
       "<thead>\n",
       "\t<tr><th></th><th scope=col>ID</th><th scope=col>OS</th><th scope=col>X_PATIENT</th><th scope=col>OS.time</th><th scope=col>T_cells</th><th scope=col>CD8_T_cells</th><th scope=col>Cytotoxic_lymphocytes</th><th scope=col>B_lineage</th><th scope=col>NK_cells</th><th scope=col>Monocytic_lineage</th><th scope=col>Myeloid_dendritic_cells</th><th scope=col>Neutrophils</th><th scope=col>Endothelial_cells</th><th scope=col>Fibroblasts</th></tr>\n",
       "\t<tr><th></th><th scope=col>&lt;chr&gt;</th><th scope=col>&lt;int&gt;</th><th scope=col>&lt;chr&gt;</th><th scope=col>&lt;dbl&gt;</th><th scope=col>&lt;dbl&gt;</th><th scope=col>&lt;dbl&gt;</th><th scope=col>&lt;dbl&gt;</th><th scope=col>&lt;dbl&gt;</th><th scope=col>&lt;dbl&gt;</th><th scope=col>&lt;dbl&gt;</th><th scope=col>&lt;dbl&gt;</th><th scope=col>&lt;dbl&gt;</th><th scope=col>&lt;dbl&gt;</th><th scope=col>&lt;dbl&gt;</th></tr>\n",
       "</thead>\n",
       "<tbody>\n",
       "\t<tr><th scope=row>1</th><td>TCGA-25-2392-01A</td><td>1</td><td>TCGA-25-2392</td><td>1.03</td><td>1.336412</td><td>0.4841769</td><td>0.3686798</td><td>0.4674970</td><td>0.11253132</td><td>2.951838</td><td>0.5448397</td><td>1.0022225</td><td>1.242523</td><td>3.826718</td></tr>\n",
       "\t<tr><th scope=row>2</th><td>TCGA-25-1312-01A</td><td>1</td><td>TCGA-25-1312</td><td>1.03</td><td>1.028955</td><td>0.5220935</td><td>0.2812133</td><td>0.4931732</td><td>0.05132036</td><td>1.795381</td><td>0.2862899</td><td>0.7996939</td><td>1.265102</td><td>4.197472</td></tr>\n",
       "</tbody>\n",
       "</table>\n"
      ],
      "text/latex": [
       "A data.frame: 2 x 14\n",
       "\\begin{tabular}{r|llllllllllllll}\n",
       "  & ID & OS & X\\_PATIENT & OS.time & T\\_cells & CD8\\_T\\_cells & Cytotoxic\\_lymphocytes & B\\_lineage & NK\\_cells & Monocytic\\_lineage & Myeloid\\_dendritic\\_cells & Neutrophils & Endothelial\\_cells & Fibroblasts\\\\\n",
       "  & <chr> & <int> & <chr> & <dbl> & <dbl> & <dbl> & <dbl> & <dbl> & <dbl> & <dbl> & <dbl> & <dbl> & <dbl> & <dbl>\\\\\n",
       "\\hline\n",
       "\t1 & TCGA-25-2392-01A & 1 & TCGA-25-2392 & 1.03 & 1.336412 & 0.4841769 & 0.3686798 & 0.4674970 & 0.11253132 & 2.951838 & 0.5448397 & 1.0022225 & 1.242523 & 3.826718\\\\\n",
       "\t2 & TCGA-25-1312-01A & 1 & TCGA-25-1312 & 1.03 & 1.028955 & 0.5220935 & 0.2812133 & 0.4931732 & 0.05132036 & 1.795381 & 0.2862899 & 0.7996939 & 1.265102 & 4.197472\\\\\n",
       "\\end{tabular}\n"
      ],
      "text/markdown": [
       "\n",
       "A data.frame: 2 x 14\n",
       "\n",
       "| <!--/--> | ID &lt;chr&gt; | OS &lt;int&gt; | X_PATIENT &lt;chr&gt; | OS.time &lt;dbl&gt; | T_cells &lt;dbl&gt; | CD8_T_cells &lt;dbl&gt; | Cytotoxic_lymphocytes &lt;dbl&gt; | B_lineage &lt;dbl&gt; | NK_cells &lt;dbl&gt; | Monocytic_lineage &lt;dbl&gt; | Myeloid_dendritic_cells &lt;dbl&gt; | Neutrophils &lt;dbl&gt; | Endothelial_cells &lt;dbl&gt; | Fibroblasts &lt;dbl&gt; |\n",
       "|---|---|---|---|---|---|---|---|---|---|---|---|---|---|---|\n",
       "| 1 | TCGA-25-2392-01A | 1 | TCGA-25-2392 | 1.03 | 1.336412 | 0.4841769 | 0.3686798 | 0.4674970 | 0.11253132 | 2.951838 | 0.5448397 | 1.0022225 | 1.242523 | 3.826718 |\n",
       "| 2 | TCGA-25-1312-01A | 1 | TCGA-25-1312 | 1.03 | 1.028955 | 0.5220935 | 0.2812133 | 0.4931732 | 0.05132036 | 1.795381 | 0.2862899 | 0.7996939 | 1.265102 | 4.197472 |\n",
       "\n"
      ],
      "text/plain": [
       "  ID               OS X_PATIENT    OS.time T_cells  CD8_T_cells\n",
       "1 TCGA-25-2392-01A 1  TCGA-25-2392 1.03    1.336412 0.4841769  \n",
       "2 TCGA-25-1312-01A 1  TCGA-25-1312 1.03    1.028955 0.5220935  \n",
       "  Cytotoxic_lymphocytes B_lineage NK_cells   Monocytic_lineage\n",
       "1 0.3686798             0.4674970 0.11253132 2.951838         \n",
       "2 0.2812133             0.4931732 0.05132036 1.795381         \n",
       "  Myeloid_dendritic_cells Neutrophils Endothelial_cells Fibroblasts\n",
       "1 0.5448397               1.0022225   1.242523          3.826718   \n",
       "2 0.2862899               0.7996939   1.265102          4.197472   "
      ]
     },
     "metadata": {},
     "output_type": "display_data"
    },
    {
     "data": {
      "text/html": [
       "<table class=\"dataframe\">\n",
       "<caption>A data.frame: 1 x 2</caption>\n",
       "<thead>\n",
       "\t<tr><th></th><th scope=col>cutpoint</th><th scope=col>statistic</th></tr>\n",
       "\t<tr><th></th><th scope=col>&lt;dbl&gt;</th><th scope=col>&lt;dbl&gt;</th></tr>\n",
       "</thead>\n",
       "<tbody>\n",
       "\t<tr><th scope=row>Cytotoxic_lymphocytes</th><td>0.3323678</td><td>2.816772</td></tr>\n",
       "</tbody>\n",
       "</table>\n"
      ],
      "text/latex": [
       "A data.frame: 1 x 2\n",
       "\\begin{tabular}{r|ll}\n",
       "  & cutpoint & statistic\\\\\n",
       "  & <dbl> & <dbl>\\\\\n",
       "\\hline\n",
       "\tCytotoxic\\_lymphocytes & 0.3323678 & 2.816772\\\\\n",
       "\\end{tabular}\n"
      ],
      "text/markdown": [
       "\n",
       "A data.frame: 1 x 2\n",
       "\n",
       "| <!--/--> | cutpoint &lt;dbl&gt; | statistic &lt;dbl&gt; |\n",
       "|---|---|---|\n",
       "| Cytotoxic_lymphocytes | 0.3323678 | 2.816772 |\n",
       "\n"
      ],
      "text/plain": [
       "                      cutpoint  statistic\n",
       "Cytotoxic_lymphocytes 0.3323678 2.816772 "
      ]
     },
     "metadata": {},
     "output_type": "display_data"
    },
    {
     "data": {
      "text/html": [
       "<table class=\"dataframe\">\n",
       "<caption>A data.frame: 6 x 3</caption>\n",
       "<thead>\n",
       "\t<tr><th></th><th scope=col>OS.time</th><th scope=col>OS</th><th scope=col>Cytotoxic_lymphocytes</th></tr>\n",
       "\t<tr><th></th><th scope=col>&lt;dbl&gt;</th><th scope=col>&lt;int&gt;</th><th scope=col>&lt;chr&gt;</th></tr>\n",
       "</thead>\n",
       "<tbody>\n",
       "\t<tr><th scope=row>1</th><td>1.03</td><td>1</td><td>high</td></tr>\n",
       "\t<tr><th scope=row>2</th><td>1.03</td><td>1</td><td>low </td></tr>\n",
       "\t<tr><th scope=row>3</th><td>1.10</td><td>0</td><td>low </td></tr>\n",
       "\t<tr><th scope=row>5</th><td>1.20</td><td>0</td><td>low </td></tr>\n",
       "\t<tr><th scope=row>10</th><td>1.77</td><td>1</td><td>high</td></tr>\n",
       "\t<tr><th scope=row>12</th><td>2.03</td><td>1</td><td>low </td></tr>\n",
       "</tbody>\n",
       "</table>\n"
      ],
      "text/latex": [
       "A data.frame: 6 x 3\n",
       "\\begin{tabular}{r|lll}\n",
       "  & OS.time & OS & Cytotoxic\\_lymphocytes\\\\\n",
       "  & <dbl> & <int> & <chr>\\\\\n",
       "\\hline\n",
       "\t1 & 1.03 & 1 & high\\\\\n",
       "\t2 & 1.03 & 1 & low \\\\\n",
       "\t3 & 1.10 & 0 & low \\\\\n",
       "\t5 & 1.20 & 0 & low \\\\\n",
       "\t10 & 1.77 & 1 & high\\\\\n",
       "\t12 & 2.03 & 1 & low \\\\\n",
       "\\end{tabular}\n"
      ],
      "text/markdown": [
       "\n",
       "A data.frame: 6 x 3\n",
       "\n",
       "| <!--/--> | OS.time &lt;dbl&gt; | OS &lt;int&gt; | Cytotoxic_lymphocytes &lt;chr&gt; |\n",
       "|---|---|---|---|\n",
       "| 1 | 1.03 | 1 | high |\n",
       "| 2 | 1.03 | 1 | low  |\n",
       "| 3 | 1.10 | 0 | low  |\n",
       "| 5 | 1.20 | 0 | low  |\n",
       "| 10 | 1.77 | 1 | high |\n",
       "| 12 | 2.03 | 1 | low  |\n",
       "\n"
      ],
      "text/plain": [
       "   OS.time OS Cytotoxic_lymphocytes\n",
       "1  1.03    1  high                 \n",
       "2  1.03    1  low                  \n",
       "3  1.10    0  low                  \n",
       "5  1.20    0  low                  \n",
       "10 1.77    1  high                 \n",
       "12 2.03    1  low                  "
      ]
     },
     "metadata": {},
     "output_type": "display_data"
    },
    {
     "data": {
      "image/png": "[encoded data removed]",
      "text/plain": [
       "plot without title"
      ]
     },
     "metadata": {
      "image/png": {
       "height": 420,
       "width": 420
      }
     },
     "output_type": "display_data"
    }
   ],
   "source": [
    "mcp<-deconvo_tme(eset = mRNA_exprSet, method = \"mcpcounter\")\n",
    "clin = read.table('./TCGA-OV.survival.tsv',header =T)\n",
    "head(clin,2)\n",
    "clin = clin %>% filter(OS.time > 30 )\n",
    "library(stringr)\n",
    "tumor <- clin$sample[as.integer(substr(clin$sample,14,15)) < 10]\n",
    "tumoin = clin %>%  dplyr::filter(sample %in% tumor)\n",
    "colnames(tumoin)[1] = 'ID'\n",
    "expr = left_join(tumoin,mcp,by = 'ID') %>%  na.omit()\n",
    "colnames(expr) = gsub('_MCPcounter','',colnames(expr))\n",
    "expr$OS.time=round(expr$OS.time/30,2)\n",
    "table(expr$OS)\n",
    "#expr[5:14] <- apply(expr[5:14], 2, function(x) {ifelse(x >= median(x), \"hign\", \"low\")})\n",
    "dim(expr)\n",
    "table(expr$OS)\n",
    "\n",
    "library(survival)\n",
    "library(survminer)\n",
    "\n",
    "# sfit <- survfit(Surv(OS.time, OS)~Cytotoxic_lymphocytes, data=expr)\n",
    "# print(sfit)\n",
    "\n",
    "# ggsurvplot(sfit,data = expr, conf.int=F, pval=TRUE)\n",
    "\n",
    "library(survival)\n",
    "library(survminer)\n",
    "\n",
    "res.cut <- surv_cutpoint(expr, #数据集\n",
    "                         time = \"OS.time\", #生存状态\n",
    "                         event = \"OS\", #生存时间\n",
    "                         variables = c(\"Cytotoxic_lymphocytes\") #需要计算的数据列名\n",
    "                         )\n",
    "head(expr,2)\n",
    "summary(res.cut)\n",
    "res.cat <- surv_categorize(res.cut)\n",
    "head(res.cat)\n",
    "fit <- survfit(Surv(OS.time, OS\t) ~Cytotoxic_lymphocytes, data = res.cat)#拟合生存分析\n",
    "#绘制生存曲线并显示P值\n",
    "ggsurvplot(fit,\n",
    "           data = res.cat,\n",
    "           risk.table = TRUE,\n",
    "           pval = T)"
   ]
  },
  {
   "cell_type": "code",
   "execution_count": null,
   "id": "6526218d-ebf0-4366-85b3-6180b6042dc6",
   "metadata": {},
   "outputs": [],
   "source": []
  },
  {
   "cell_type": "code",
   "execution_count": null,
   "id": "48511ec3-0e2e-4b23-b17c-11e7524ce459",
   "metadata": {},
   "outputs": [],
   "source": []
  },
  {
   "cell_type": "code",
   "execution_count": 91,
   "id": "aa8ee056-447b-472e-bea6-620117fb8933",
   "metadata": {},
   "outputs": [
    {
     "name": "stderr",
     "output_type": "stream",
     "text": [
      "\n",
      ">>> Running CIBERSORT\n",
      "\n"
     ]
    },
    {
     "data": {
      "text/html": [
       "<table class=\"dataframe\">\n",
       "<caption>A data.frame: 2 x 4</caption>\n",
       "<thead>\n",
       "\t<tr><th></th><th scope=col>sample</th><th scope=col>OS</th><th scope=col>X_PATIENT</th><th scope=col>OS.time</th></tr>\n",
       "\t<tr><th></th><th scope=col>&lt;chr&gt;</th><th scope=col>&lt;int&gt;</th><th scope=col>&lt;chr&gt;</th><th scope=col>&lt;int&gt;</th></tr>\n",
       "</thead>\n",
       "<tbody>\n",
       "\t<tr><th scope=row>1</th><td>TCGA-30-1857-01A</td><td>1</td><td>TCGA-30-1857</td><td>8</td></tr>\n",
       "\t<tr><th scope=row>2</th><td>TCGA-23-1107-01A</td><td>1</td><td>TCGA-23-1107</td><td>9</td></tr>\n",
       "</tbody>\n",
       "</table>\n"
      ],
      "text/latex": [
       "A data.frame: 2 x 4\n",
       "\\begin{tabular}{r|llll}\n",
       "  & sample & OS & X\\_PATIENT & OS.time\\\\\n",
       "  & <chr> & <int> & <chr> & <int>\\\\\n",
       "\\hline\n",
       "\t1 & TCGA-30-1857-01A & 1 & TCGA-30-1857 & 8\\\\\n",
       "\t2 & TCGA-23-1107-01A & 1 & TCGA-23-1107 & 9\\\\\n",
       "\\end{tabular}\n"
      ],
      "text/markdown": [
       "\n",
       "A data.frame: 2 x 4\n",
       "\n",
       "| <!--/--> | sample &lt;chr&gt; | OS &lt;int&gt; | X_PATIENT &lt;chr&gt; | OS.time &lt;int&gt; |\n",
       "|---|---|---|---|---|\n",
       "| 1 | TCGA-30-1857-01A | 1 | TCGA-30-1857 | 8 |\n",
       "| 2 | TCGA-23-1107-01A | 1 | TCGA-23-1107 | 9 |\n",
       "\n"
      ],
      "text/plain": [
       "  sample           OS X_PATIENT    OS.time\n",
       "1 TCGA-30-1857-01A 1  TCGA-30-1857 8      \n",
       "2 TCGA-23-1107-01A 1  TCGA-23-1107 9      "
      ]
     },
     "metadata": {},
     "output_type": "display_data"
    }
   ],
   "source": [
    "mcp<-deconvo_tme(eset = mRNA_exprSet, method = \"cibersort\",\n",
    "                            arrays = F,\n",
    "                            perm = 1000)\n",
    "clin = read.table('./TCGA-OV.survival.tsv',header =T)\n",
    "head(clin,2)\n",
    "clin = clin %>% filter(OS.time > 30 )\n",
    "library(stringr)\n",
    "tumor <- clin$sample[as.integer(substr(clin$sample,14,15)) < 10]\n",
    "tumoin = clin %>%  dplyr::filter(sample %in% tumor)\n",
    "colnames(tumoin)[1] = 'ID'\n",
    "expr = left_join(tumoin,mcp,by = 'ID') %>%  na.omit()"
   ]
  },
  {
   "cell_type": "code",
   "execution_count": 94,
   "id": "8fd21ad7-d2c0-4329-ad6d-166dda197aaf",
   "metadata": {},
   "outputs": [
    {
     "data": {
      "text/html": [
       "<style>\n",
       ".list-inline {list-style: none; margin:0; padding: 0}\n",
       ".list-inline>li {display: inline-block}\n",
       ".list-inline>li:not(:last-child)::after {content: \"\\00b7\"; padding: 0 .5ex}\n",
       "</style>\n",
       "<ol class=list-inline><li>'ID'</li><li>'OS'</li><li>'X_PATIENT'</li><li>'OS.time'</li><li>'B_cells_naive_CIBERSORT'</li><li>'B_cells_memory_CIBERSORT'</li><li>'Plasma_cells_CIBERSORT'</li><li>'T_cells_CD8_CIBERSORT'</li><li>'T_cells_CD4_naive_CIBERSORT'</li><li>'T_cells_CD4_memory_resting_CIBERSORT'</li><li>'T_cells_CD4_memory_activated_CIBERSORT'</li><li>'T_cells_follicular_helper_CIBERSORT'</li><li>'T_cells_regulatory_(Tregs)_CIBERSORT'</li><li>'T_cells_gamma_delta_CIBERSORT'</li><li>'NK_cells_resting_CIBERSORT'</li><li>'NK_cells_activated_CIBERSORT'</li><li>'Monocytes_CIBERSORT'</li><li>'Macrophages_M0_CIBERSORT'</li><li>'Macrophages_M1_CIBERSORT'</li><li>'Macrophages_M2_CIBERSORT'</li><li>'Dendritic_cells_resting_CIBERSORT'</li><li>'Dendritic_cells_activated_CIBERSORT'</li><li>'Mast_cells_resting_CIBERSORT'</li><li>'Mast_cells_activated_CIBERSORT'</li><li>'Eosinophils_CIBERSORT'</li><li>'Neutrophils_CIBERSORT'</li><li>'P-value_CIBERSORT'</li><li>'Correlation_CIBERSORT'</li><li>'RMSE_CIBERSORT'</li></ol>\n"
      ],
      "text/latex": [
       "\\begin{enumerate*}\n",
       "\\item 'ID'\n",
       "\\item 'OS'\n",
       "\\item 'X\\_PATIENT'\n",
       "\\item 'OS.time'\n",
       "\\item 'B\\_cells\\_naive\\_CIBERSORT'\n",
       "\\item 'B\\_cells\\_memory\\_CIBERSORT'\n",
       "\\item 'Plasma\\_cells\\_CIBERSORT'\n",
       "\\item 'T\\_cells\\_CD8\\_CIBERSORT'\n",
       "\\item 'T\\_cells\\_CD4\\_naive\\_CIBERSORT'\n",
       "\\item 'T\\_cells\\_CD4\\_memory\\_resting\\_CIBERSORT'\n",
       "\\item 'T\\_cells\\_CD4\\_memory\\_activated\\_CIBERSORT'\n",
       "\\item 'T\\_cells\\_follicular\\_helper\\_CIBERSORT'\n",
       "\\item 'T\\_cells\\_regulatory\\_(Tregs)\\_CIBERSORT'\n",
       "\\item 'T\\_cells\\_gamma\\_delta\\_CIBERSORT'\n",
       "\\item 'NK\\_cells\\_resting\\_CIBERSORT'\n",
       "\\item 'NK\\_cells\\_activated\\_CIBERSORT'\n",
       "\\item 'Monocytes\\_CIBERSORT'\n",
       "\\item 'Macrophages\\_M0\\_CIBERSORT'\n",
       "\\item 'Macrophages\\_M1\\_CIBERSORT'\n",
       "\\item 'Macrophages\\_M2\\_CIBERSORT'\n",
       "\\item 'Dendritic\\_cells\\_resting\\_CIBERSORT'\n",
       "\\item 'Dendritic\\_cells\\_activated\\_CIBERSORT'\n",
       "\\item 'Mast\\_cells\\_resting\\_CIBERSORT'\n",
       "\\item 'Mast\\_cells\\_activated\\_CIBERSORT'\n",
       "\\item 'Eosinophils\\_CIBERSORT'\n",
       "\\item 'Neutrophils\\_CIBERSORT'\n",
       "\\item 'P-value\\_CIBERSORT'\n",
       "\\item 'Correlation\\_CIBERSORT'\n",
       "\\item 'RMSE\\_CIBERSORT'\n",
       "\\end{enumerate*}\n"
      ],
      "text/markdown": [
       "1. 'ID'\n",
       "2. 'OS'\n",
       "3. 'X_PATIENT'\n",
       "4. 'OS.time'\n",
       "5. 'B_cells_naive_CIBERSORT'\n",
       "6. 'B_cells_memory_CIBERSORT'\n",
       "7. 'Plasma_cells_CIBERSORT'\n",
       "8. 'T_cells_CD8_CIBERSORT'\n",
       "9. 'T_cells_CD4_naive_CIBERSORT'\n",
       "10. 'T_cells_CD4_memory_resting_CIBERSORT'\n",
       "11. 'T_cells_CD4_memory_activated_CIBERSORT'\n",
       "12. 'T_cells_follicular_helper_CIBERSORT'\n",
       "13. 'T_cells_regulatory_(Tregs)_CIBERSORT'\n",
       "14. 'T_cells_gamma_delta_CIBERSORT'\n",
       "15. 'NK_cells_resting_CIBERSORT'\n",
       "16. 'NK_cells_activated_CIBERSORT'\n",
       "17. 'Monocytes_CIBERSORT'\n",
       "18. 'Macrophages_M0_CIBERSORT'\n",
       "19. 'Macrophages_M1_CIBERSORT'\n",
       "20. 'Macrophages_M2_CIBERSORT'\n",
       "21. 'Dendritic_cells_resting_CIBERSORT'\n",
       "22. 'Dendritic_cells_activated_CIBERSORT'\n",
       "23. 'Mast_cells_resting_CIBERSORT'\n",
       "24. 'Mast_cells_activated_CIBERSORT'\n",
       "25. 'Eosinophils_CIBERSORT'\n",
       "26. 'Neutrophils_CIBERSORT'\n",
       "27. 'P-value_CIBERSORT'\n",
       "28. 'Correlation_CIBERSORT'\n",
       "29. 'RMSE_CIBERSORT'\n",
       "\n",
       "\n"
      ],
      "text/plain": [
       " [1] \"ID\"                                    \n",
       " [2] \"OS\"                                    \n",
       " [3] \"X_PATIENT\"                             \n",
       " [4] \"OS.time\"                               \n",
       " [5] \"B_cells_naive_CIBERSORT\"               \n",
       " [6] \"B_cells_memory_CIBERSORT\"              \n",
       " [7] \"Plasma_cells_CIBERSORT\"                \n",
       " [8] \"T_cells_CD8_CIBERSORT\"                 \n",
       " [9] \"T_cells_CD4_naive_CIBERSORT\"           \n",
       "[10] \"T_cells_CD4_memory_resting_CIBERSORT\"  \n",
       "[11] \"T_cells_CD4_memory_activated_CIBERSORT\"\n",
       "[12] \"T_cells_follicular_helper_CIBERSORT\"   \n",
       "[13] \"T_cells_regulatory_(Tregs)_CIBERSORT\"  \n",
       "[14] \"T_cells_gamma_delta_CIBERSORT\"         \n",
       "[15] \"NK_cells_resting_CIBERSORT\"            \n",
       "[16] \"NK_cells_activated_CIBERSORT\"          \n",
       "[17] \"Monocytes_CIBERSORT\"                   \n",
       "[18] \"Macrophages_M0_CIBERSORT\"              \n",
       "[19] \"Macrophages_M1_CIBERSORT\"              \n",
       "[20] \"Macrophages_M2_CIBERSORT\"              \n",
       "[21] \"Dendritic_cells_resting_CIBERSORT\"     \n",
       "[22] \"Dendritic_cells_activated_CIBERSORT\"   \n",
       "[23] \"Mast_cells_resting_CIBERSORT\"          \n",
       "[24] \"Mast_cells_activated_CIBERSORT\"        \n",
       "[25] \"Eosinophils_CIBERSORT\"                 \n",
       "[26] \"Neutrophils_CIBERSORT\"                 \n",
       "[27] \"P-value_CIBERSORT\"                     \n",
       "[28] \"Correlation_CIBERSORT\"                 \n",
       "[29] \"RMSE_CIBERSORT\"                        "
      ]
     },
     "metadata": {},
     "output_type": "display_data"
    }
   ],
   "source": [
    "colnames(expr)"
   ]
  },
  {
   "cell_type": "code",
   "execution_count": 95,
   "id": "6673c796-8e2b-4356-8864-c9348baca53f",
   "metadata": {},
   "outputs": [],
   "source": [
    "colnames(expr) = gsub('_CIBERSORT','',colnames(expr))\n",
    "# expr$OS.time=round(expr$OS.time/30,2)\n",
    "# table(expr$OS)\n",
    "# #expr[5:14] <- apply(expr[5:14], 2, function(x) {ifelse(x >= median(x), \"hign\", \"low\")})\n",
    "# dim(expr)\n",
    "# table(expr$OS)\n",
    "\n",
    "# library(survival)\n",
    "# library(survminer)\n",
    "\n",
    "# # sfit <- survfit(Surv(OS.time, OS)~Cytotoxic_lymphocytes, data=expr)\n",
    "# # print(sfit)\n",
    "\n",
    "# # ggsurvplot(sfit,data = expr, conf.int=F, pval=TRUE)\n",
    "\n"
   ]
  },
  {
   "cell_type": "code",
   "execution_count": 99,
   "id": "cb536082-0046-467b-a6ff-7146e8d241a6",
   "metadata": {},
   "outputs": [],
   "source": [
    "colnames(expr)[13] = 'Treg'"
   ]
  },
  {
   "cell_type": "code",
   "execution_count": 100,
   "id": "9c1f7d7b-2d58-4321-b7ca-6ec232cf77cf",
   "metadata": {},
   "outputs": [
    {
     "data": {
      "text/html": [
       "<table class=\"dataframe\">\n",
       "<caption>A data.frame: 2 x 29</caption>\n",
       "<thead>\n",
       "\t<tr><th></th><th scope=col>ID</th><th scope=col>OS</th><th scope=col>X_PATIENT</th><th scope=col>OS.time</th><th scope=col>B_cells_naive</th><th scope=col>B_cells_memory</th><th scope=col>Plasma_cells</th><th scope=col>T_cells_CD8</th><th scope=col>T_cells_CD4_naive</th><th scope=col>T_cells_CD4_memory_resting</th><th scope=col>...</th><th scope=col>Macrophages_M2</th><th scope=col>Dendritic_cells_resting</th><th scope=col>Dendritic_cells_activated</th><th scope=col>Mast_cells_resting</th><th scope=col>Mast_cells_activated</th><th scope=col>Eosinophils</th><th scope=col>Neutrophils</th><th scope=col>P-value</th><th scope=col>Correlation</th><th scope=col>RMSE</th></tr>\n",
       "\t<tr><th></th><th scope=col>&lt;chr&gt;</th><th scope=col>&lt;int&gt;</th><th scope=col>&lt;chr&gt;</th><th scope=col>&lt;int&gt;</th><th scope=col>&lt;dbl&gt;</th><th scope=col>&lt;dbl&gt;</th><th scope=col>&lt;dbl&gt;</th><th scope=col>&lt;dbl&gt;</th><th scope=col>&lt;dbl&gt;</th><th scope=col>&lt;dbl&gt;</th><th scope=col>...</th><th scope=col>&lt;dbl&gt;</th><th scope=col>&lt;dbl&gt;</th><th scope=col>&lt;dbl&gt;</th><th scope=col>&lt;dbl&gt;</th><th scope=col>&lt;dbl&gt;</th><th scope=col>&lt;dbl&gt;</th><th scope=col>&lt;dbl&gt;</th><th scope=col>&lt;dbl&gt;</th><th scope=col>&lt;dbl&gt;</th><th scope=col>&lt;dbl&gt;</th></tr>\n",
       "</thead>\n",
       "<tbody>\n",
       "\t<tr><th scope=row>1</th><td>TCGA-25-2392-01A</td><td>1</td><td>TCGA-25-2392</td><td>31</td><td>0.00000000</td><td>0.003899188</td><td>0.01258473</td><td>0.03243554</td><td>0</td><td>0.1950365</td><td>...</td><td>0.3730829</td><td>0</td><td>0.0001003718</td><td>0.02071413</td><td>0</td><td>0.000000000</td><td>0</td><td>0.139</td><td>0.09190615</td><td>1.063458</td></tr>\n",
       "\t<tr><th scope=row>2</th><td>TCGA-25-1312-01A</td><td>1</td><td>TCGA-25-1312</td><td>31</td><td>0.03410661</td><td>0.000000000</td><td>0.00000000</td><td>0.04556416</td><td>0</td><td>0.1837463</td><td>...</td><td>0.2551344</td><td>0</td><td>0.0832019730</td><td>0.00000000</td><td>0</td><td>0.004199024</td><td>0</td><td>0.457</td><td>0.02441594</td><td>1.091660</td></tr>\n",
       "</tbody>\n",
       "</table>\n"
      ],
      "text/latex": [
       "A data.frame: 2 x 29\n",
       "\\begin{tabular}{r|lllllllllllllllllllll}\n",
       "  & ID & OS & X\\_PATIENT & OS.time & B\\_cells\\_naive & B\\_cells\\_memory & Plasma\\_cells & T\\_cells\\_CD8 & T\\_cells\\_CD4\\_naive & T\\_cells\\_CD4\\_memory\\_resting & ... & Macrophages\\_M2 & Dendritic\\_cells\\_resting & Dendritic\\_cells\\_activated & Mast\\_cells\\_resting & Mast\\_cells\\_activated & Eosinophils & Neutrophils & P-value & Correlation & RMSE\\\\\n",
       "  & <chr> & <int> & <chr> & <int> & <dbl> & <dbl> & <dbl> & <dbl> & <dbl> & <dbl> & ... & <dbl> & <dbl> & <dbl> & <dbl> & <dbl> & <dbl> & <dbl> & <dbl> & <dbl> & <dbl>\\\\\n",
       "\\hline\n",
       "\t1 & TCGA-25-2392-01A & 1 & TCGA-25-2392 & 31 & 0.00000000 & 0.003899188 & 0.01258473 & 0.03243554 & 0 & 0.1950365 & ... & 0.3730829 & 0 & 0.0001003718 & 0.02071413 & 0 & 0.000000000 & 0 & 0.139 & 0.09190615 & 1.063458\\\\\n",
       "\t2 & TCGA-25-1312-01A & 1 & TCGA-25-1312 & 31 & 0.03410661 & 0.000000000 & 0.00000000 & 0.04556416 & 0 & 0.1837463 & ... & 0.2551344 & 0 & 0.0832019730 & 0.00000000 & 0 & 0.004199024 & 0 & 0.457 & 0.02441594 & 1.091660\\\\\n",
       "\\end{tabular}\n"
      ],
      "text/markdown": [
       "\n",
       "A data.frame: 2 x 29\n",
       "\n",
       "| <!--/--> | ID &lt;chr&gt; | OS &lt;int&gt; | X_PATIENT &lt;chr&gt; | OS.time &lt;int&gt; | B_cells_naive &lt;dbl&gt; | B_cells_memory &lt;dbl&gt; | Plasma_cells &lt;dbl&gt; | T_cells_CD8 &lt;dbl&gt; | T_cells_CD4_naive &lt;dbl&gt; | T_cells_CD4_memory_resting &lt;dbl&gt; | ... ... | Macrophages_M2 &lt;dbl&gt; | Dendritic_cells_resting &lt;dbl&gt; | Dendritic_cells_activated &lt;dbl&gt; | Mast_cells_resting &lt;dbl&gt; | Mast_cells_activated &lt;dbl&gt; | Eosinophils &lt;dbl&gt; | Neutrophils &lt;dbl&gt; | P-value &lt;dbl&gt; | Correlation &lt;dbl&gt; | RMSE &lt;dbl&gt; |\n",
       "|---|---|---|---|---|---|---|---|---|---|---|---|---|---|---|---|---|---|---|---|---|---|\n",
       "| 1 | TCGA-25-2392-01A | 1 | TCGA-25-2392 | 31 | 0.00000000 | 0.003899188 | 0.01258473 | 0.03243554 | 0 | 0.1950365 | ... | 0.3730829 | 0 | 0.0001003718 | 0.02071413 | 0 | 0.000000000 | 0 | 0.139 | 0.09190615 | 1.063458 |\n",
       "| 2 | TCGA-25-1312-01A | 1 | TCGA-25-1312 | 31 | 0.03410661 | 0.000000000 | 0.00000000 | 0.04556416 | 0 | 0.1837463 | ... | 0.2551344 | 0 | 0.0832019730 | 0.00000000 | 0 | 0.004199024 | 0 | 0.457 | 0.02441594 | 1.091660 |\n",
       "\n"
      ],
      "text/plain": [
       "  ID               OS X_PATIENT    OS.time B_cells_naive B_cells_memory\n",
       "1 TCGA-25-2392-01A 1  TCGA-25-2392 31      0.00000000    0.003899188   \n",
       "2 TCGA-25-1312-01A 1  TCGA-25-1312 31      0.03410661    0.000000000   \n",
       "  Plasma_cells T_cells_CD8 T_cells_CD4_naive T_cells_CD4_memory_resting ...\n",
       "1 0.01258473   0.03243554  0                 0.1950365                  ...\n",
       "2 0.00000000   0.04556416  0                 0.1837463                  ...\n",
       "  Macrophages_M2 Dendritic_cells_resting Dendritic_cells_activated\n",
       "1 0.3730829      0                       0.0001003718             \n",
       "2 0.2551344      0                       0.0832019730             \n",
       "  Mast_cells_resting Mast_cells_activated Eosinophils Neutrophils P-value\n",
       "1 0.02071413         0                    0.000000000 0           0.139  \n",
       "2 0.00000000         0                    0.004199024 0           0.457  \n",
       "  Correlation RMSE    \n",
       "1 0.09190615  1.063458\n",
       "2 0.02441594  1.091660"
      ]
     },
     "metadata": {},
     "output_type": "display_data"
    },
    {
     "data": {
      "text/html": [
       "<table class=\"dataframe\">\n",
       "<caption>A data.frame: 1 x 2</caption>\n",
       "<thead>\n",
       "\t<tr><th></th><th scope=col>cutpoint</th><th scope=col>statistic</th></tr>\n",
       "\t<tr><th></th><th scope=col>&lt;dbl&gt;</th><th scope=col>&lt;dbl&gt;</th></tr>\n",
       "</thead>\n",
       "<tbody>\n",
       "\t<tr><th scope=row>Treg</th><td>0.056091</td><td>1.430667</td></tr>\n",
       "</tbody>\n",
       "</table>\n"
      ],
      "text/latex": [
       "A data.frame: 1 x 2\n",
       "\\begin{tabular}{r|ll}\n",
       "  & cutpoint & statistic\\\\\n",
       "  & <dbl> & <dbl>\\\\\n",
       "\\hline\n",
       "\tTreg & 0.056091 & 1.430667\\\\\n",
       "\\end{tabular}\n"
      ],
      "text/markdown": [
       "\n",
       "A data.frame: 1 x 2\n",
       "\n",
       "| <!--/--> | cutpoint &lt;dbl&gt; | statistic &lt;dbl&gt; |\n",
       "|---|---|---|\n",
       "| Treg | 0.056091 | 1.430667 |\n",
       "\n"
      ],
      "text/plain": [
       "     cutpoint statistic\n",
       "Treg 0.056091 1.430667 "
      ]
     },
     "metadata": {},
     "output_type": "display_data"
    },
    {
     "data": {
      "text/html": [
       "<table class=\"dataframe\">\n",
       "<caption>A data.frame: 6 x 3</caption>\n",
       "<thead>\n",
       "\t<tr><th></th><th scope=col>OS.time</th><th scope=col>OS</th><th scope=col>Treg</th></tr>\n",
       "\t<tr><th></th><th scope=col>&lt;int&gt;</th><th scope=col>&lt;int&gt;</th><th scope=col>&lt;chr&gt;</th></tr>\n",
       "</thead>\n",
       "<tbody>\n",
       "\t<tr><th scope=row>1</th><td>31</td><td>1</td><td>low </td></tr>\n",
       "\t<tr><th scope=row>2</th><td>31</td><td>1</td><td>high</td></tr>\n",
       "\t<tr><th scope=row>3</th><td>33</td><td>0</td><td>low </td></tr>\n",
       "\t<tr><th scope=row>5</th><td>36</td><td>0</td><td>low </td></tr>\n",
       "\t<tr><th scope=row>10</th><td>53</td><td>1</td><td>low </td></tr>\n",
       "\t<tr><th scope=row>12</th><td>61</td><td>1</td><td>low </td></tr>\n",
       "</tbody>\n",
       "</table>\n"
      ],
      "text/latex": [
       "A data.frame: 6 x 3\n",
       "\\begin{tabular}{r|lll}\n",
       "  & OS.time & OS & Treg\\\\\n",
       "  & <int> & <int> & <chr>\\\\\n",
       "\\hline\n",
       "\t1 & 31 & 1 & low \\\\\n",
       "\t2 & 31 & 1 & high\\\\\n",
       "\t3 & 33 & 0 & low \\\\\n",
       "\t5 & 36 & 0 & low \\\\\n",
       "\t10 & 53 & 1 & low \\\\\n",
       "\t12 & 61 & 1 & low \\\\\n",
       "\\end{tabular}\n"
      ],
      "text/markdown": [
       "\n",
       "A data.frame: 6 x 3\n",
       "\n",
       "| <!--/--> | OS.time &lt;int&gt; | OS &lt;int&gt; | Treg &lt;chr&gt; |\n",
       "|---|---|---|---|\n",
       "| 1 | 31 | 1 | low  |\n",
       "| 2 | 31 | 1 | high |\n",
       "| 3 | 33 | 0 | low  |\n",
       "| 5 | 36 | 0 | low  |\n",
       "| 10 | 53 | 1 | low  |\n",
       "| 12 | 61 | 1 | low  |\n",
       "\n"
      ],
      "text/plain": [
       "   OS.time OS Treg\n",
       "1  31      1  low \n",
       "2  31      1  high\n",
       "3  33      0  low \n",
       "5  36      0  low \n",
       "10 53      1  low \n",
       "12 61      1  low "
      ]
     },
     "metadata": {},
     "output_type": "display_data"
    },
    {
     "data": {
      "image/png": "[encoded data removed]",
      "text/plain": [
       "plot without title"
      ]
     },
     "metadata": {
      "image/png": {
       "height": 420,
       "width": 420
      }
     },
     "output_type": "display_data"
    }
   ],
   "source": [
    "library(survival)\n",
    "library(survminer)\n",
    "\n",
    "res.cut <- surv_cutpoint(expr, #数据集\n",
    "                         time = \"OS.time\", #生存状态\n",
    "                         event = \"OS\", #生存时间\n",
    "                         variables = c(\"Treg\") #需要计算的数据列名\n",
    "                         )\n",
    "head(expr,2)\n",
    "summary(res.cut)\n",
    "res.cat <- surv_categorize(res.cut)\n",
    "head(res.cat)\n",
    "fit <- survfit(Surv(OS.time, OS\t) ~Treg, data = res.cat)#拟合生存分析\n",
    "#绘制生存曲线并显示P值\n",
    "ggsurvplot(fit,\n",
    "           data = res.cat,\n",
    "           risk.table = TRUE,\n",
    "           pval = T)"
   ]
  },
  {
   "cell_type": "code",
   "execution_count": null,
   "id": "ea20eb39-c62f-413c-ba8f-37095d47d793",
   "metadata": {},
   "outputs": [],
   "source": []
  },
  {
   "cell_type": "code",
   "execution_count": null,
   "id": "cd41330c-e9db-4054-8cec-f43232e7f4f9",
   "metadata": {},
   "outputs": [],
   "source": []
  },
  {
   "cell_type": "code",
   "execution_count": null,
   "id": "45bcae17-b0b1-469e-95fd-fe5bbfb0d2cc",
   "metadata": {},
   "outputs": [],
   "source": []
  },
  {
   "cell_type": "code",
   "execution_count": null,
   "id": "39ee7370-0b87-410e-8872-736876f5e763",
   "metadata": {},
   "outputs": [],
   "source": []
  }
 ],
 "metadata": {
  "kernelspec": {
   "display_name": "R",
   "language": "R",
   "name": "ir"
  },
  "language_info": {
   "codemirror_mode": "r",
   "file_extension": ".r",
   "mimetype": "text/x-r-source",
   "name": "R",
   "pygments_lexer": "r",
   "version": "4.2.1"
  }
 },
 "nbformat": 4,
 "nbformat_minor": 5
}
