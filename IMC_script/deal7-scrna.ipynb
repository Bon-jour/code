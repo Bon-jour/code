{
 "cells": [
  {
   "cell_type": "code",
   "execution_count": 1,
   "id": "76b23fc5-026d-4c2c-92d4-a2df2a2bd98b",
   "metadata": {},
   "outputs": [],
   "source": [
    "setwd('/import/a.jif/')"
   ]
  },
  {
   "cell_type": "code",
   "execution_count": 3,
   "id": "bf456f3c-373e-41fe-964a-998d4c382768",
   "metadata": {},
   "outputs": [
    {
     "data": {
      "text/html": [
       "<style>\n",
       ".list-inline {list-style: none; margin:0; padding: 0}\n",
       ".list-inline>li {display: inline-block}\n",
       ".list-inline>li:not(:last-child)::after {content: \"\\00b7\"; padding: 0 .5ex}\n",
       "</style>\n",
       "<ol class=list-inline><li>'GSM5599220_Norm1.genes.tsv.gz'</li><li>'GSM5599221_Norm2.genes.tsv.gz'</li><li>'GSM5599222_Norm3.genes.tsv.gz'</li><li>'GSM5599223_Norm4.genes.tsv.gz'</li><li>'GSM5599224_Norm5.genes.tsv.gz'</li><li>'GSM5599225_Cancer1.genes.tsv.gz'</li><li>'GSM5599226_Cancer2.genes.tsv.gz'</li><li>'GSM5599227_Cancer3.genes.tsv.gz'</li><li>'GSM5599228_Cancer4.genes.tsv.gz'</li><li>'GSM5599229_Cancer5.genes.tsv.gz'</li><li>'GSM5599230_Cancer6.genes.tsv.gz'</li><li>'GSM5599231_Cancer7.genes.tsv.gz'</li></ol>\n"
      ],
      "text/latex": [
       "\\begin{enumerate*}\n",
       "\\item 'GSM5599220\\_Norm1.genes.tsv.gz'\n",
       "\\item 'GSM5599221\\_Norm2.genes.tsv.gz'\n",
       "\\item 'GSM5599222\\_Norm3.genes.tsv.gz'\n",
       "\\item 'GSM5599223\\_Norm4.genes.tsv.gz'\n",
       "\\item 'GSM5599224\\_Norm5.genes.tsv.gz'\n",
       "\\item 'GSM5599225\\_Cancer1.genes.tsv.gz'\n",
       "\\item 'GSM5599226\\_Cancer2.genes.tsv.gz'\n",
       "\\item 'GSM5599227\\_Cancer3.genes.tsv.gz'\n",
       "\\item 'GSM5599228\\_Cancer4.genes.tsv.gz'\n",
       "\\item 'GSM5599229\\_Cancer5.genes.tsv.gz'\n",
       "\\item 'GSM5599230\\_Cancer6.genes.tsv.gz'\n",
       "\\item 'GSM5599231\\_Cancer7.genes.tsv.gz'\n",
       "\\end{enumerate*}\n"
      ],
      "text/markdown": [
       "1. 'GSM5599220_Norm1.genes.tsv.gz'\n",
       "2. 'GSM5599221_Norm2.genes.tsv.gz'\n",
       "3. 'GSM5599222_Norm3.genes.tsv.gz'\n",
       "4. 'GSM5599223_Norm4.genes.tsv.gz'\n",
       "5. 'GSM5599224_Norm5.genes.tsv.gz'\n",
       "6. 'GSM5599225_Cancer1.genes.tsv.gz'\n",
       "7. 'GSM5599226_Cancer2.genes.tsv.gz'\n",
       "8. 'GSM5599227_Cancer3.genes.tsv.gz'\n",
       "9. 'GSM5599228_Cancer4.genes.tsv.gz'\n",
       "10. 'GSM5599229_Cancer5.genes.tsv.gz'\n",
       "11. 'GSM5599230_Cancer6.genes.tsv.gz'\n",
       "12. 'GSM5599231_Cancer7.genes.tsv.gz'\n",
       "\n",
       "\n"
      ],
      "text/plain": [
       " [1] \"GSM5599220_Norm1.genes.tsv.gz\"   \"GSM5599221_Norm2.genes.tsv.gz\"  \n",
       " [3] \"GSM5599222_Norm3.genes.tsv.gz\"   \"GSM5599223_Norm4.genes.tsv.gz\"  \n",
       " [5] \"GSM5599224_Norm5.genes.tsv.gz\"   \"GSM5599225_Cancer1.genes.tsv.gz\"\n",
       " [7] \"GSM5599226_Cancer2.genes.tsv.gz\" \"GSM5599227_Cancer3.genes.tsv.gz\"\n",
       " [9] \"GSM5599228_Cancer4.genes.tsv.gz\" \"GSM5599229_Cancer5.genes.tsv.gz\"\n",
       "[11] \"GSM5599230_Cancer6.genes.tsv.gz\" \"GSM5599231_Cancer7.genes.tsv.gz\""
      ]
     },
     "metadata": {},
     "output_type": "display_data"
    }
   ],
   "source": [
    "fs=list.files('./','genes.tsv.gz')\n",
    "fs"
   ]
  },
  {
   "cell_type": "code",
   "execution_count": 6,
   "id": "1ab9337f-54bc-4286-9117-6caa67561515",
   "metadata": {},
   "outputs": [
    {
     "data": {
      "text/html": [
       "<style>\n",
       ".list-inline {list-style: none; margin:0; padding: 0}\n",
       ".list-inline>li {display: inline-block}\n",
       ".list-inline>li:not(:last-child)::after {content: \"\\00b7\"; padding: 0 .5ex}\n",
       "</style>\n",
       "<ol class=list-inline><li>'GSM5599220_Norm1'</li><li>'GSM5599221_Norm2'</li><li>'GSM5599222_Norm3'</li><li>'GSM5599223_Norm4'</li><li>'GSM5599224_Norm5'</li><li>'GSM5599225_Cancer1'</li><li>'GSM5599226_Cancer2'</li><li>'GSM5599227_Cancer3'</li><li>'GSM5599228_Cancer4'</li><li>'GSM5599229_Cancer5'</li><li>'GSM5599230_Cancer6'</li><li>'GSM5599231_Cancer7'</li></ol>\n"
      ],
      "text/latex": [
       "\\begin{enumerate*}\n",
       "\\item 'GSM5599220\\_Norm1'\n",
       "\\item 'GSM5599221\\_Norm2'\n",
       "\\item 'GSM5599222\\_Norm3'\n",
       "\\item 'GSM5599223\\_Norm4'\n",
       "\\item 'GSM5599224\\_Norm5'\n",
       "\\item 'GSM5599225\\_Cancer1'\n",
       "\\item 'GSM5599226\\_Cancer2'\n",
       "\\item 'GSM5599227\\_Cancer3'\n",
       "\\item 'GSM5599228\\_Cancer4'\n",
       "\\item 'GSM5599229\\_Cancer5'\n",
       "\\item 'GSM5599230\\_Cancer6'\n",
       "\\item 'GSM5599231\\_Cancer7'\n",
       "\\end{enumerate*}\n"
      ],
      "text/markdown": [
       "1. 'GSM5599220_Norm1'\n",
       "2. 'GSM5599221_Norm2'\n",
       "3. 'GSM5599222_Norm3'\n",
       "4. 'GSM5599223_Norm4'\n",
       "5. 'GSM5599224_Norm5'\n",
       "6. 'GSM5599225_Cancer1'\n",
       "7. 'GSM5599226_Cancer2'\n",
       "8. 'GSM5599227_Cancer3'\n",
       "9. 'GSM5599228_Cancer4'\n",
       "10. 'GSM5599229_Cancer5'\n",
       "11. 'GSM5599230_Cancer6'\n",
       "12. 'GSM5599231_Cancer7'\n",
       "\n",
       "\n"
      ],
      "text/plain": [
       " [1] \"GSM5599220_Norm1\"   \"GSM5599221_Norm2\"   \"GSM5599222_Norm3\"  \n",
       " [4] \"GSM5599223_Norm4\"   \"GSM5599224_Norm5\"   \"GSM5599225_Cancer1\"\n",
       " [7] \"GSM5599226_Cancer2\" \"GSM5599227_Cancer3\" \"GSM5599228_Cancer4\"\n",
       "[10] \"GSM5599229_Cancer5\" \"GSM5599230_Cancer6\" \"GSM5599231_Cancer7\""
      ]
     },
     "metadata": {},
     "output_type": "display_data"
    }
   ],
   "source": [
    "samples1=gsub('.genes.tsv.gz','',fs)\n",
    "samples1"
   ]
  },
  {
   "cell_type": "code",
   "execution_count": null,
   "id": "23fc2f37-05af-477a-960a-29e86f7bd5d4",
   "metadata": {},
   "outputs": [],
   "source": [
    "library(stringr)"
   ]
  },
  {
   "cell_type": "code",
   "execution_count": 8,
   "id": "1fea9a0f-c29b-4c79-b074-476bf5e28c99",
   "metadata": {},
   "outputs": [
    {
     "name": "stderr",
     "output_type": "stream",
     "text": [
      "Warning message in dir.create(x, recursive = T):\n",
      "\"'GSM5599220_Norm1' already exists\"\n"
     ]
    },
    {
     "data": {
      "text/html": [
       "<ol>\n",
       "\t<li>TRUE</li>\n",
       "\t<li>TRUE</li>\n",
       "\t<li>TRUE</li>\n",
       "\t<li>TRUE</li>\n",
       "\t<li>TRUE</li>\n",
       "\t<li>TRUE</li>\n",
       "\t<li>TRUE</li>\n",
       "\t<li>TRUE</li>\n",
       "\t<li>TRUE</li>\n",
       "\t<li>TRUE</li>\n",
       "\t<li>TRUE</li>\n",
       "\t<li>TRUE</li>\n",
       "</ol>\n"
      ],
      "text/latex": [
       "\\begin{enumerate}\n",
       "\\item TRUE\n",
       "\\item TRUE\n",
       "\\item TRUE\n",
       "\\item TRUE\n",
       "\\item TRUE\n",
       "\\item TRUE\n",
       "\\item TRUE\n",
       "\\item TRUE\n",
       "\\item TRUE\n",
       "\\item TRUE\n",
       "\\item TRUE\n",
       "\\item TRUE\n",
       "\\end{enumerate}\n"
      ],
      "text/markdown": [
       "1. TRUE\n",
       "2. TRUE\n",
       "3. TRUE\n",
       "4. TRUE\n",
       "5. TRUE\n",
       "6. TRUE\n",
       "7. TRUE\n",
       "8. TRUE\n",
       "9. TRUE\n",
       "10. TRUE\n",
       "11. TRUE\n",
       "12. TRUE\n",
       "\n",
       "\n"
      ],
      "text/plain": [
       "[[1]]\n",
       "[1] TRUE\n",
       "\n",
       "[[2]]\n",
       "[1] TRUE\n",
       "\n",
       "[[3]]\n",
       "[1] TRUE\n",
       "\n",
       "[[4]]\n",
       "[1] TRUE\n",
       "\n",
       "[[5]]\n",
       "[1] TRUE\n",
       "\n",
       "[[6]]\n",
       "[1] TRUE\n",
       "\n",
       "[[7]]\n",
       "[1] TRUE\n",
       "\n",
       "[[8]]\n",
       "[1] TRUE\n",
       "\n",
       "[[9]]\n",
       "[1] TRUE\n",
       "\n",
       "[[10]]\n",
       "[1] TRUE\n",
       "\n",
       "[[11]]\n",
       "[1] TRUE\n",
       "\n",
       "[[12]]\n",
       "[1] TRUE\n"
      ]
     },
     "metadata": {},
     "output_type": "display_data"
    }
   ],
   "source": [
    "# samples2= gsub('-filtered','',samples1)\n",
    "# samples2\n",
    "lapply(1:length(samples1), function(i){\n",
    "  x=samples1[i]\n",
    "  dir.create(x,recursive = T)\n",
    "  file.copy(from=paste0(x,'.genes.tsv.gz'),\n",
    "            to=file.path(x,  'features.tsv.gz' )) \n",
    "  file.copy(from=paste0(x,'.matrix.mtx.gz'),\n",
    "            to= file.path(x, 'matrix.mtx.gz' ) ) \n",
    "  file.copy(from=paste0(x,'.barcodes.tsv.gz'),\n",
    "            to= file.path(x, 'barcodes.tsv.gz' )) \n",
    "  \n",
    "})"
   ]
  },
  {
   "cell_type": "code",
   "execution_count": null,
   "id": "42057808-f6de-4b92-9d4b-e4f67b66605b",
   "metadata": {},
   "outputs": [],
   "source": []
  }
 ],
 "metadata": {
  "kernelspec": {
   "display_name": "R",
   "language": "R",
   "name": "ir"
  },
  "language_info": {
   "codemirror_mode": "r",
   "file_extension": ".r",
   "mimetype": "text/x-r-source",
   "name": "R",
   "pygments_lexer": "r",
   "version": "4.2.1"
  }
 },
 "nbformat": 4,
 "nbformat_minor": 5
}
