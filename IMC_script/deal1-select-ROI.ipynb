{
 "cells": [
  {
   "cell_type": "code",
   "execution_count": 1,
   "id": "fa6d4b08-f6bc-4233-90b0-4290242c0f06",
   "metadata": {},
   "outputs": [],
   "source": [
    ".libPaths('/root/miniconda3/envs/Rdoc/lib/R/library')"
   ]
  },
  {
   "cell_type": "code",
   "execution_count": 38,
   "id": "e7e3a450-ea27-4f5c-91ef-2f25fd30b3e6",
   "metadata": {},
   "outputs": [],
   "source": [
    "library(imcRtools)\n",
    "library(cytomapper)\n",
    "library(stringr)"
   ]
  },
  {
   "cell_type": "code",
   "execution_count": 39,
   "id": "d0ccbe42-9a34-479d-a2f4-b817b0121c59",
   "metadata": {},
   "outputs": [],
   "source": [
    "spe = readRDS('./spe.rds')"
   ]
  },
  {
   "cell_type": "code",
   "execution_count": 40,
   "id": "d904ed4a-2bb7-4f0e-bf2b-e3419c7186eb",
   "metadata": {},
   "outputs": [],
   "source": [
    "assay(spe, \"exprs\") <- asinh(counts(spe)/1)"
   ]
  },
  {
   "cell_type": "code",
   "execution_count": 41,
   "id": "3c4db30f-8824-4088-ad00-db363d006121",
   "metadata": {},
   "outputs": [],
   "source": [
    "biggene = c('CD14','CD4','CD8a','FAP',\n",
    "           'CD68','CD20','CD3')"
   ]
  },
  {
   "cell_type": "code",
   "execution_count": 42,
   "id": "595ed27c-c239-4c48-820a-49007bf89d0f",
   "metadata": {},
   "outputs": [],
   "source": [
    "mat <- t(assay(spe, \"exprs\")[biggene,])"
   ]
  },
  {
   "cell_type": "code",
   "execution_count": 43,
   "id": "2b804238-1ac8-49fb-83de-e7cbd52fede1",
   "metadata": {},
   "outputs": [],
   "source": [
    "mat1 = as.data.frame(mat) %>% tibble::rownames_to_column(.,'ROI')"
   ]
  },
  {
   "cell_type": "code",
   "execution_count": 44,
   "id": "6789e915-2c34-4164-94b0-3b1bc2bd1fcf",
   "metadata": {},
   "outputs": [],
   "source": [
    "library (stringr)\n",
    "\n",
    "mat1[c('ROI', 'loc')] <- str_split_fixed(mat1$ROI, '[.]', 2)"
   ]
  },
  {
   "cell_type": "code",
   "execution_count": 45,
   "id": "70014b3b-dc4d-4759-9e4a-bc05199c42b4",
   "metadata": {},
   "outputs": [],
   "source": [
    "mat1 = mat1[,-9]"
   ]
  },
  {
   "cell_type": "code",
   "execution_count": 46,
   "id": "48bf4a2f-e2ea-4a97-9046-d4103221dc69",
   "metadata": {},
   "outputs": [],
   "source": [
    "library(dplyr)"
   ]
  },
  {
   "cell_type": "code",
   "execution_count": 47,
   "id": "a3bfb0bf-9c93-40e0-8229-4e8f6c8c2ff5",
   "metadata": {},
   "outputs": [],
   "source": [
    "NN = aggregate(mat1[,2:8], by=list(spot_label = mat1$ROI), FUN=mean) %>% tibble::"
   ]
  },
  {
   "cell_type": "code",
   "execution_count": 49,
   "id": "d4f5da93-606f-4197-a092-52a67801674a",
   "metadata": {},
   "outputs": [
    {
     "data": {
      "text/html": [
       "<style>\n",
       ".list-inline {list-style: none; margin:0; padding: 0}\n",
       ".list-inline>li {display: inline-block}\n",
       ".list-inline>li:not(:last-child)::after {content: \"\\00b7\"; padding: 0 .5ex}\n",
       "</style>\n",
       "<ol class=list-inline><li>'IL-6'</li><li>'CD14'</li><li>'FoxP3'</li><li>'CD69'</li><li>'CD4'</li><li>'CD8a'</li><li>'CollagenI'</li><li>'BCA1'</li><li>'CD31'</li><li>'TIM3'</li><li>'PDPN'</li><li>'CD103'</li><li>'CD276'</li><li>'CD71'</li><li>'CXCR4'</li><li>'PD-L1'</li><li>'CCR7'</li><li>'CD68'</li><li>'CD11b'</li><li>'CD20'</li><li>'FosB'</li><li>'FAP'</li><li>'GranzymeB'</li><li>'PD-1'</li><li>'Ki-67'</li><li>'GATA-3'</li><li>'HLA-DR'</li><li>'CD45RA'</li><li>'CD3'</li><li>'TNFa'</li><li>'m6A'</li><li>'CD45RO'</li><li>'CD57'</li><li>'OLR1'</li><li>'KLF2'</li><li>'NLRP3'</li><li>'HIF1a'</li><li>'Vimentin'</li></ol>\n"
      ],
      "text/latex": [
       "\\begin{enumerate*}\n",
       "\\item 'IL-6'\n",
       "\\item 'CD14'\n",
       "\\item 'FoxP3'\n",
       "\\item 'CD69'\n",
       "\\item 'CD4'\n",
       "\\item 'CD8a'\n",
       "\\item 'CollagenI'\n",
       "\\item 'BCA1'\n",
       "\\item 'CD31'\n",
       "\\item 'TIM3'\n",
       "\\item 'PDPN'\n",
       "\\item 'CD103'\n",
       "\\item 'CD276'\n",
       "\\item 'CD71'\n",
       "\\item 'CXCR4'\n",
       "\\item 'PD-L1'\n",
       "\\item 'CCR7'\n",
       "\\item 'CD68'\n",
       "\\item 'CD11b'\n",
       "\\item 'CD20'\n",
       "\\item 'FosB'\n",
       "\\item 'FAP'\n",
       "\\item 'GranzymeB'\n",
       "\\item 'PD-1'\n",
       "\\item 'Ki-67'\n",
       "\\item 'GATA-3'\n",
       "\\item 'HLA-DR'\n",
       "\\item 'CD45RA'\n",
       "\\item 'CD3'\n",
       "\\item 'TNFa'\n",
       "\\item 'm6A'\n",
       "\\item 'CD45RO'\n",
       "\\item 'CD57'\n",
       "\\item 'OLR1'\n",
       "\\item 'KLF2'\n",
       "\\item 'NLRP3'\n",
       "\\item 'HIF1a'\n",
       "\\item 'Vimentin'\n",
       "\\end{enumerate*}\n"
      ],
      "text/markdown": [
       "1. 'IL-6'\n",
       "2. 'CD14'\n",
       "3. 'FoxP3'\n",
       "4. 'CD69'\n",
       "5. 'CD4'\n",
       "6. 'CD8a'\n",
       "7. 'CollagenI'\n",
       "8. 'BCA1'\n",
       "9. 'CD31'\n",
       "10. 'TIM3'\n",
       "11. 'PDPN'\n",
       "12. 'CD103'\n",
       "13. 'CD276'\n",
       "14. 'CD71'\n",
       "15. 'CXCR4'\n",
       "16. 'PD-L1'\n",
       "17. 'CCR7'\n",
       "18. 'CD68'\n",
       "19. 'CD11b'\n",
       "20. 'CD20'\n",
       "21. 'FosB'\n",
       "22. 'FAP'\n",
       "23. 'GranzymeB'\n",
       "24. 'PD-1'\n",
       "25. 'Ki-67'\n",
       "26. 'GATA-3'\n",
       "27. 'HLA-DR'\n",
       "28. 'CD45RA'\n",
       "29. 'CD3'\n",
       "30. 'TNFa'\n",
       "31. 'm6A'\n",
       "32. 'CD45RO'\n",
       "33. 'CD57'\n",
       "34. 'OLR1'\n",
       "35. 'KLF2'\n",
       "36. 'NLRP3'\n",
       "37. 'HIF1a'\n",
       "38. 'Vimentin'\n",
       "\n",
       "\n"
      ],
      "text/plain": [
       " [1] \"IL-6\"      \"CD14\"      \"FoxP3\"     \"CD69\"      \"CD4\"       \"CD8a\"     \n",
       " [7] \"CollagenI\" \"BCA1\"      \"CD31\"      \"TIM3\"      \"PDPN\"      \"CD103\"    \n",
       "[13] \"CD276\"     \"CD71\"      \"CXCR4\"     \"PD-L1\"     \"CCR7\"      \"CD68\"     \n",
       "[19] \"CD11b\"     \"CD20\"      \"FosB\"      \"FAP\"       \"GranzymeB\" \"PD-1\"     \n",
       "[25] \"Ki-67\"     \"GATA-3\"    \"HLA-DR\"    \"CD45RA\"    \"CD3\"       \"TNFa\"     \n",
       "[31] \"m6A\"       \"CD45RO\"    \"CD57\"      \"OLR1\"      \"KLF2\"      \"NLRP3\"    \n",
       "[37] \"HIF1a\"     \"Vimentin\" "
      ]
     },
     "metadata": {},
     "output_type": "display_data"
    }
   ],
   "source": [
    "rownames(spe)"
   ]
  },
  {
   "cell_type": "code",
   "execution_count": null,
   "id": "c75f92a2-85ec-4476-83df-7c22e7e682de",
   "metadata": {},
   "outputs": [],
   "source": []
  }
 ],
 "metadata": {
  "kernelspec": {
   "display_name": "R",
   "language": "R",
   "name": "ir"
  },
  "language_info": {
   "codemirror_mode": "r",
   "file_extension": ".r",
   "mimetype": "text/x-r-source",
   "name": "R",
   "pygments_lexer": "r",
   "version": "4.4.1"
  }
 },
 "nbformat": 4,
 "nbformat_minor": 5
}
