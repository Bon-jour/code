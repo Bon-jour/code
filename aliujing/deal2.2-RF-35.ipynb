{
 "cells": [
  {
   "cell_type": "code",
   "execution_count": 69,
   "id": "4803cf30-6f2e-42bc-a83c-bfcb4dd2fc29",
   "metadata": {},
   "outputs": [],
   "source": [
    "setwd('/import/liujing/data2/')"
   ]
  },
  {
   "cell_type": "code",
   "execution_count": 70,
   "id": "41967ac0-887f-404f-93a1-2d87bfc31490",
   "metadata": {},
   "outputs": [],
   "source": [
    "library(openxlsx)"
   ]
  },
  {
   "cell_type": "code",
   "execution_count": 71,
   "id": "59e7d3b7-554b-4c66-add5-d56fddf64002",
   "metadata": {},
   "outputs": [],
   "source": [
    "data<- read.xlsx(\"./res/CI-CTR/bulk/25-mRNA_FPKM.genename.xlsx\", sheet = 1)"
   ]
  },
  {
   "cell_type": "code",
   "execution_count": 72,
   "id": "04fdbbf9-87af-4c87-af18-9f16a9c13424",
   "metadata": {},
   "outputs": [
    {
     "data": {
      "text/html": [
       "<table class=\"dataframe\">\n",
       "<caption>A data.frame: 2 x 36</caption>\n",
       "<thead>\n",
       "\t<tr><th></th><th scope=col>Gene_name</th><th scope=col>C10</th><th scope=col>C11</th><th scope=col>C12</th><th scope=col>C13</th><th scope=col>C14</th><th scope=col>C15</th><th scope=col>C16</th><th scope=col>C17</th><th scope=col>C18</th><th scope=col>...</th><th scope=col>CI16</th><th scope=col>CI1</th><th scope=col>CI2</th><th scope=col>CI3</th><th scope=col>CI4</th><th scope=col>CI5</th><th scope=col>CI6</th><th scope=col>CI7</th><th scope=col>CI8</th><th scope=col>CI9</th></tr>\n",
       "\t<tr><th></th><th scope=col>&lt;chr&gt;</th><th scope=col>&lt;dbl&gt;</th><th scope=col>&lt;dbl&gt;</th><th scope=col>&lt;dbl&gt;</th><th scope=col>&lt;dbl&gt;</th><th scope=col>&lt;dbl&gt;</th><th scope=col>&lt;dbl&gt;</th><th scope=col>&lt;dbl&gt;</th><th scope=col>&lt;dbl&gt;</th><th scope=col>&lt;dbl&gt;</th><th scope=col>...</th><th scope=col>&lt;dbl&gt;</th><th scope=col>&lt;dbl&gt;</th><th scope=col>&lt;dbl&gt;</th><th scope=col>&lt;dbl&gt;</th><th scope=col>&lt;dbl&gt;</th><th scope=col>&lt;dbl&gt;</th><th scope=col>&lt;dbl&gt;</th><th scope=col>&lt;dbl&gt;</th><th scope=col>&lt;dbl&gt;</th><th scope=col>&lt;dbl&gt;</th></tr>\n",
       "</thead>\n",
       "<tbody>\n",
       "\t<tr><th scope=row>1</th><td>ZNF480 </td><td>3.046852</td><td>2.959276</td><td>1.924806</td><td>2.086426</td><td>2.358436</td><td>2.745877</td><td>2.273106</td><td>3.353977</td><td>2.609238</td><td>...</td><td>5.532627</td><td>2.837813</td><td>4.141639</td><td>4.735136</td><td>6.489764</td><td>2.851674</td><td>3.680329</td><td> 7.985714</td><td>4.003843</td><td>2.993553</td></tr>\n",
       "\t<tr><th scope=row>2</th><td>ZNF354A</td><td>2.455682</td><td>2.209675</td><td>1.816189</td><td>2.385620</td><td>3.191194</td><td>3.338612</td><td>2.912866</td><td>3.386982</td><td>3.372144</td><td>...</td><td>4.964052</td><td>5.852160</td><td>2.514873</td><td>5.180209</td><td>5.847872</td><td>4.679571</td><td>3.423737</td><td>11.670074</td><td>4.470493</td><td>4.790598</td></tr>\n",
       "</tbody>\n",
       "</table>\n"
      ],
      "text/latex": [
       "A data.frame: 2 x 36\n",
       "\\begin{tabular}{r|lllllllllllllllllllll}\n",
       "  & Gene\\_name & C10 & C11 & C12 & C13 & C14 & C15 & C16 & C17 & C18 & ... & CI16 & CI1 & CI2 & CI3 & CI4 & CI5 & CI6 & CI7 & CI8 & CI9\\\\\n",
       "  & <chr> & <dbl> & <dbl> & <dbl> & <dbl> & <dbl> & <dbl> & <dbl> & <dbl> & <dbl> & ... & <dbl> & <dbl> & <dbl> & <dbl> & <dbl> & <dbl> & <dbl> & <dbl> & <dbl> & <dbl>\\\\\n",
       "\\hline\n",
       "\t1 & ZNF480  & 3.046852 & 2.959276 & 1.924806 & 2.086426 & 2.358436 & 2.745877 & 2.273106 & 3.353977 & 2.609238 & ... & 5.532627 & 2.837813 & 4.141639 & 4.735136 & 6.489764 & 2.851674 & 3.680329 &  7.985714 & 4.003843 & 2.993553\\\\\n",
       "\t2 & ZNF354A & 2.455682 & 2.209675 & 1.816189 & 2.385620 & 3.191194 & 3.338612 & 2.912866 & 3.386982 & 3.372144 & ... & 4.964052 & 5.852160 & 2.514873 & 5.180209 & 5.847872 & 4.679571 & 3.423737 & 11.670074 & 4.470493 & 4.790598\\\\\n",
       "\\end{tabular}\n"
      ],
      "text/markdown": [
       "\n",
       "A data.frame: 2 x 36\n",
       "\n",
       "| <!--/--> | Gene_name &lt;chr&gt; | C10 &lt;dbl&gt; | C11 &lt;dbl&gt; | C12 &lt;dbl&gt; | C13 &lt;dbl&gt; | C14 &lt;dbl&gt; | C15 &lt;dbl&gt; | C16 &lt;dbl&gt; | C17 &lt;dbl&gt; | C18 &lt;dbl&gt; | ... ... | CI16 &lt;dbl&gt; | CI1 &lt;dbl&gt; | CI2 &lt;dbl&gt; | CI3 &lt;dbl&gt; | CI4 &lt;dbl&gt; | CI5 &lt;dbl&gt; | CI6 &lt;dbl&gt; | CI7 &lt;dbl&gt; | CI8 &lt;dbl&gt; | CI9 &lt;dbl&gt; |\n",
       "|---|---|---|---|---|---|---|---|---|---|---|---|---|---|---|---|---|---|---|---|---|---|\n",
       "| 1 | ZNF480  | 3.046852 | 2.959276 | 1.924806 | 2.086426 | 2.358436 | 2.745877 | 2.273106 | 3.353977 | 2.609238 | ... | 5.532627 | 2.837813 | 4.141639 | 4.735136 | 6.489764 | 2.851674 | 3.680329 |  7.985714 | 4.003843 | 2.993553 |\n",
       "| 2 | ZNF354A | 2.455682 | 2.209675 | 1.816189 | 2.385620 | 3.191194 | 3.338612 | 2.912866 | 3.386982 | 3.372144 | ... | 4.964052 | 5.852160 | 2.514873 | 5.180209 | 5.847872 | 4.679571 | 3.423737 | 11.670074 | 4.470493 | 4.790598 |\n",
       "\n"
      ],
      "text/plain": [
       "  Gene_name C10      C11      C12      C13      C14      C15      C16     \n",
       "1 ZNF480    3.046852 2.959276 1.924806 2.086426 2.358436 2.745877 2.273106\n",
       "2 ZNF354A   2.455682 2.209675 1.816189 2.385620 3.191194 3.338612 2.912866\n",
       "  C17      C18      ... CI16     CI1      CI2      CI3      CI4      CI5     \n",
       "1 3.353977 2.609238 ... 5.532627 2.837813 4.141639 4.735136 6.489764 2.851674\n",
       "2 3.386982 3.372144 ... 4.964052 5.852160 2.514873 5.180209 5.847872 4.679571\n",
       "  CI6      CI7       CI8      CI9     \n",
       "1 3.680329  7.985714 4.003843 2.993553\n",
       "2 3.423737 11.670074 4.470493 4.790598"
      ]
     },
     "metadata": {},
     "output_type": "display_data"
    }
   ],
   "source": [
    "head(data,2)"
   ]
  },
  {
   "cell_type": "code",
   "execution_count": 73,
   "id": "5d88bca6-3766-4528-b767-457b5e1e42e1",
   "metadata": {},
   "outputs": [],
   "source": [
    "overla = read.table('./overlap.txt',header =T)"
   ]
  },
  {
   "cell_type": "code",
   "execution_count": 74,
   "id": "475d778f-f371-4d03-a722-338d75bc89fe",
   "metadata": {},
   "outputs": [],
   "source": [
    "library(dplyr)"
   ]
  },
  {
   "cell_type": "code",
   "execution_count": 75,
   "id": "52591a9b-f41d-45a1-96f3-a878cea4539c",
   "metadata": {},
   "outputs": [],
   "source": [
    "expr = data %>%  dplyr::filter(Gene_name %in%  overla$GeneName) %>%  tibble::column_to_rownames(.,'Gene_name') %>%  t()"
   ]
  },
  {
   "cell_type": "code",
   "execution_count": 76,
   "id": "4a152c3b-d0ba-47a3-9639-2e0f05e798cc",
   "metadata": {},
   "outputs": [
    {
     "data": {
      "text/html": [
       "<style>\n",
       ".list-inline {list-style: none; margin:0; padding: 0}\n",
       ".list-inline>li {display: inline-block}\n",
       ".list-inline>li:not(:last-child)::after {content: \"\\00b7\"; padding: 0 .5ex}\n",
       "</style>\n",
       "<ol class=list-inline><li>'C10'</li><li>'C11'</li><li>'C12'</li><li>'C13'</li><li>'C14'</li><li>'C15'</li><li>'C16'</li><li>'C17'</li><li>'C18'</li><li>'C19'</li><li>'C1'</li><li>'C2'</li><li>'C3'</li><li>'C4'</li><li>'C5'</li><li>'C6'</li><li>'C7'</li><li>'C8'</li><li>'C9'</li><li>'CI10'</li><li>'CI11'</li><li>'CI12'</li><li>'CI13'</li><li>'CI14'</li><li>'CI15'</li><li>'CI16'</li><li>'CI1'</li><li>'CI2'</li><li>'CI3'</li><li>'CI4'</li><li>'CI5'</li><li>'CI6'</li><li>'CI7'</li><li>'CI8'</li><li>'CI9'</li></ol>\n"
      ],
      "text/latex": [
       "\\begin{enumerate*}\n",
       "\\item 'C10'\n",
       "\\item 'C11'\n",
       "\\item 'C12'\n",
       "\\item 'C13'\n",
       "\\item 'C14'\n",
       "\\item 'C15'\n",
       "\\item 'C16'\n",
       "\\item 'C17'\n",
       "\\item 'C18'\n",
       "\\item 'C19'\n",
       "\\item 'C1'\n",
       "\\item 'C2'\n",
       "\\item 'C3'\n",
       "\\item 'C4'\n",
       "\\item 'C5'\n",
       "\\item 'C6'\n",
       "\\item 'C7'\n",
       "\\item 'C8'\n",
       "\\item 'C9'\n",
       "\\item 'CI10'\n",
       "\\item 'CI11'\n",
       "\\item 'CI12'\n",
       "\\item 'CI13'\n",
       "\\item 'CI14'\n",
       "\\item 'CI15'\n",
       "\\item 'CI16'\n",
       "\\item 'CI1'\n",
       "\\item 'CI2'\n",
       "\\item 'CI3'\n",
       "\\item 'CI4'\n",
       "\\item 'CI5'\n",
       "\\item 'CI6'\n",
       "\\item 'CI7'\n",
       "\\item 'CI8'\n",
       "\\item 'CI9'\n",
       "\\end{enumerate*}\n"
      ],
      "text/markdown": [
       "1. 'C10'\n",
       "2. 'C11'\n",
       "3. 'C12'\n",
       "4. 'C13'\n",
       "5. 'C14'\n",
       "6. 'C15'\n",
       "7. 'C16'\n",
       "8. 'C17'\n",
       "9. 'C18'\n",
       "10. 'C19'\n",
       "11. 'C1'\n",
       "12. 'C2'\n",
       "13. 'C3'\n",
       "14. 'C4'\n",
       "15. 'C5'\n",
       "16. 'C6'\n",
       "17. 'C7'\n",
       "18. 'C8'\n",
       "19. 'C9'\n",
       "20. 'CI10'\n",
       "21. 'CI11'\n",
       "22. 'CI12'\n",
       "23. 'CI13'\n",
       "24. 'CI14'\n",
       "25. 'CI15'\n",
       "26. 'CI16'\n",
       "27. 'CI1'\n",
       "28. 'CI2'\n",
       "29. 'CI3'\n",
       "30. 'CI4'\n",
       "31. 'CI5'\n",
       "32. 'CI6'\n",
       "33. 'CI7'\n",
       "34. 'CI8'\n",
       "35. 'CI9'\n",
       "\n",
       "\n"
      ],
      "text/plain": [
       " [1] \"C10\"  \"C11\"  \"C12\"  \"C13\"  \"C14\"  \"C15\"  \"C16\"  \"C17\"  \"C18\"  \"C19\" \n",
       "[11] \"C1\"   \"C2\"   \"C3\"   \"C4\"   \"C5\"   \"C6\"   \"C7\"   \"C8\"   \"C9\"   \"CI10\"\n",
       "[21] \"CI11\" \"CI12\" \"CI13\" \"CI14\" \"CI15\" \"CI16\" \"CI1\"  \"CI2\"  \"CI3\"  \"CI4\" \n",
       "[31] \"CI5\"  \"CI6\"  \"CI7\"  \"CI8\"  \"CI9\" "
      ]
     },
     "metadata": {},
     "output_type": "display_data"
    }
   ],
   "source": [
    "rownames(expr)"
   ]
  },
  {
   "cell_type": "code",
   "execution_count": null,
   "id": "56cf7bff-fa65-4727-9059-8208bf255fb3",
   "metadata": {},
   "outputs": [],
   "source": []
  },
  {
   "cell_type": "code",
   "execution_count": 77,
   "id": "c740737e-924b-4873-98a6-9775a704425f",
   "metadata": {},
   "outputs": [],
   "source": [
    "Group = c(rep('con',19),rep('CI',16))"
   ]
  },
  {
   "cell_type": "code",
   "execution_count": 78,
   "id": "edd85f90-f01d-40f6-bdff-16fbeca62392",
   "metadata": {},
   "outputs": [],
   "source": [
    "colnames(expr) = gsub('-','.',colnames(expr))"
   ]
  },
  {
   "cell_type": "code",
   "execution_count": 79,
   "id": "29eb9c5b-58d2-439c-8f4a-04a0198b4903",
   "metadata": {},
   "outputs": [
    {
     "data": {
      "text/html": [
       "<style>\n",
       ".list-inline {list-style: none; margin:0; padding: 0}\n",
       ".list-inline>li {display: inline-block}\n",
       ".list-inline>li:not(:last-child)::after {content: \"\\00b7\"; padding: 0 .5ex}\n",
       "</style>\n",
       "<ol class=list-inline><li>'ZNF480'</li><li>'ZNF354A'</li><li>'ZNF208'</li><li>'ZBED5'</li><li>'XRCC4'</li><li>'VCL'</li><li>'TXN'</li><li>'TLN1'</li><li>'TFEC'</li><li>'TAF7'</li><li>'SYCP2'</li><li>'SUMO4'</li><li>'STON2'</li><li>'SPON2'</li><li>'SPOCD1'</li><li>'SH3TC2'</li><li>'SH2D2A'</li><li>'SCN9A'</li><li>'SAMD9'</li><li>'RPL34'</li><li>'RASD2'</li><li>'PTPRS'</li><li>'PRF1'</li><li>'POLR2K'</li><li>'PITPNM2'</li><li>'PILRB'</li><li>'PER1'</li><li>'PDGFA'</li><li>'PCDH1'</li><li>'OSBPL7'</li><li>'OSBPL5'</li><li>'NID1'</li><li>'NCR3'</li><li>'MT.ND4L'</li><li>'MLC1'</li><li>'MAP1A'</li><li>'LSM3'</li><li>'LPAR6'</li><li>'LMNA'</li><li>'KIR2DL1'</li><li>'KIFC3'</li><li>'IL2RB'</li><li>'IGJ'</li><li>'HCFC1'</li><li>'GPR56'</li><li>'GNLY'</li><li>'GAPT'</li><li>'FSD1'</li><li>'FOSB'</li><li>'FLNA'</li><li>'FAM200B'</li><li>'F2R'</li><li>'EVI2A'</li><li>'ERBB2'</li><li>'DUSP2'</li><li>'DDIT4'</li><li>'DAB2'</li><li>'CSTA'</li><li>'CLSTN1'</li><li>'CLEC2B'</li><li>'CARNS1'</li><li>'CACNA2D2'</li><li>'BZRAP1'</li><li>'BMP6'</li><li>'BCL2A1'</li><li>'BAI2'</li><li>'ATP1A3'</li><li>'ATG2A'</li><li>'ARVCF'</li><li>'ARHGAP6'</li></ol>\n"
      ],
      "text/latex": [
       "\\begin{enumerate*}\n",
       "\\item 'ZNF480'\n",
       "\\item 'ZNF354A'\n",
       "\\item 'ZNF208'\n",
       "\\item 'ZBED5'\n",
       "\\item 'XRCC4'\n",
       "\\item 'VCL'\n",
       "\\item 'TXN'\n",
       "\\item 'TLN1'\n",
       "\\item 'TFEC'\n",
       "\\item 'TAF7'\n",
       "\\item 'SYCP2'\n",
       "\\item 'SUMO4'\n",
       "\\item 'STON2'\n",
       "\\item 'SPON2'\n",
       "\\item 'SPOCD1'\n",
       "\\item 'SH3TC2'\n",
       "\\item 'SH2D2A'\n",
       "\\item 'SCN9A'\n",
       "\\item 'SAMD9'\n",
       "\\item 'RPL34'\n",
       "\\item 'RASD2'\n",
       "\\item 'PTPRS'\n",
       "\\item 'PRF1'\n",
       "\\item 'POLR2K'\n",
       "\\item 'PITPNM2'\n",
       "\\item 'PILRB'\n",
       "\\item 'PER1'\n",
       "\\item 'PDGFA'\n",
       "\\item 'PCDH1'\n",
       "\\item 'OSBPL7'\n",
       "\\item 'OSBPL5'\n",
       "\\item 'NID1'\n",
       "\\item 'NCR3'\n",
       "\\item 'MT.ND4L'\n",
       "\\item 'MLC1'\n",
       "\\item 'MAP1A'\n",
       "\\item 'LSM3'\n",
       "\\item 'LPAR6'\n",
       "\\item 'LMNA'\n",
       "\\item 'KIR2DL1'\n",
       "\\item 'KIFC3'\n",
       "\\item 'IL2RB'\n",
       "\\item 'IGJ'\n",
       "\\item 'HCFC1'\n",
       "\\item 'GPR56'\n",
       "\\item 'GNLY'\n",
       "\\item 'GAPT'\n",
       "\\item 'FSD1'\n",
       "\\item 'FOSB'\n",
       "\\item 'FLNA'\n",
       "\\item 'FAM200B'\n",
       "\\item 'F2R'\n",
       "\\item 'EVI2A'\n",
       "\\item 'ERBB2'\n",
       "\\item 'DUSP2'\n",
       "\\item 'DDIT4'\n",
       "\\item 'DAB2'\n",
       "\\item 'CSTA'\n",
       "\\item 'CLSTN1'\n",
       "\\item 'CLEC2B'\n",
       "\\item 'CARNS1'\n",
       "\\item 'CACNA2D2'\n",
       "\\item 'BZRAP1'\n",
       "\\item 'BMP6'\n",
       "\\item 'BCL2A1'\n",
       "\\item 'BAI2'\n",
       "\\item 'ATP1A3'\n",
       "\\item 'ATG2A'\n",
       "\\item 'ARVCF'\n",
       "\\item 'ARHGAP6'\n",
       "\\end{enumerate*}\n"
      ],
      "text/markdown": [
       "1. 'ZNF480'\n",
       "2. 'ZNF354A'\n",
       "3. 'ZNF208'\n",
       "4. 'ZBED5'\n",
       "5. 'XRCC4'\n",
       "6. 'VCL'\n",
       "7. 'TXN'\n",
       "8. 'TLN1'\n",
       "9. 'TFEC'\n",
       "10. 'TAF7'\n",
       "11. 'SYCP2'\n",
       "12. 'SUMO4'\n",
       "13. 'STON2'\n",
       "14. 'SPON2'\n",
       "15. 'SPOCD1'\n",
       "16. 'SH3TC2'\n",
       "17. 'SH2D2A'\n",
       "18. 'SCN9A'\n",
       "19. 'SAMD9'\n",
       "20. 'RPL34'\n",
       "21. 'RASD2'\n",
       "22. 'PTPRS'\n",
       "23. 'PRF1'\n",
       "24. 'POLR2K'\n",
       "25. 'PITPNM2'\n",
       "26. 'PILRB'\n",
       "27. 'PER1'\n",
       "28. 'PDGFA'\n",
       "29. 'PCDH1'\n",
       "30. 'OSBPL7'\n",
       "31. 'OSBPL5'\n",
       "32. 'NID1'\n",
       "33. 'NCR3'\n",
       "34. 'MT.ND4L'\n",
       "35. 'MLC1'\n",
       "36. 'MAP1A'\n",
       "37. 'LSM3'\n",
       "38. 'LPAR6'\n",
       "39. 'LMNA'\n",
       "40. 'KIR2DL1'\n",
       "41. 'KIFC3'\n",
       "42. 'IL2RB'\n",
       "43. 'IGJ'\n",
       "44. 'HCFC1'\n",
       "45. 'GPR56'\n",
       "46. 'GNLY'\n",
       "47. 'GAPT'\n",
       "48. 'FSD1'\n",
       "49. 'FOSB'\n",
       "50. 'FLNA'\n",
       "51. 'FAM200B'\n",
       "52. 'F2R'\n",
       "53. 'EVI2A'\n",
       "54. 'ERBB2'\n",
       "55. 'DUSP2'\n",
       "56. 'DDIT4'\n",
       "57. 'DAB2'\n",
       "58. 'CSTA'\n",
       "59. 'CLSTN1'\n",
       "60. 'CLEC2B'\n",
       "61. 'CARNS1'\n",
       "62. 'CACNA2D2'\n",
       "63. 'BZRAP1'\n",
       "64. 'BMP6'\n",
       "65. 'BCL2A1'\n",
       "66. 'BAI2'\n",
       "67. 'ATP1A3'\n",
       "68. 'ATG2A'\n",
       "69. 'ARVCF'\n",
       "70. 'ARHGAP6'\n",
       "\n",
       "\n"
      ],
      "text/plain": [
       " [1] \"ZNF480\"   \"ZNF354A\"  \"ZNF208\"   \"ZBED5\"    \"XRCC4\"    \"VCL\"     \n",
       " [7] \"TXN\"      \"TLN1\"     \"TFEC\"     \"TAF7\"     \"SYCP2\"    \"SUMO4\"   \n",
       "[13] \"STON2\"    \"SPON2\"    \"SPOCD1\"   \"SH3TC2\"   \"SH2D2A\"   \"SCN9A\"   \n",
       "[19] \"SAMD9\"    \"RPL34\"    \"RASD2\"    \"PTPRS\"    \"PRF1\"     \"POLR2K\"  \n",
       "[25] \"PITPNM2\"  \"PILRB\"    \"PER1\"     \"PDGFA\"    \"PCDH1\"    \"OSBPL7\"  \n",
       "[31] \"OSBPL5\"   \"NID1\"     \"NCR3\"     \"MT.ND4L\"  \"MLC1\"     \"MAP1A\"   \n",
       "[37] \"LSM3\"     \"LPAR6\"    \"LMNA\"     \"KIR2DL1\"  \"KIFC3\"    \"IL2RB\"   \n",
       "[43] \"IGJ\"      \"HCFC1\"    \"GPR56\"    \"GNLY\"     \"GAPT\"     \"FSD1\"    \n",
       "[49] \"FOSB\"     \"FLNA\"     \"FAM200B\"  \"F2R\"      \"EVI2A\"    \"ERBB2\"   \n",
       "[55] \"DUSP2\"    \"DDIT4\"    \"DAB2\"     \"CSTA\"     \"CLSTN1\"   \"CLEC2B\"  \n",
       "[61] \"CARNS1\"   \"CACNA2D2\" \"BZRAP1\"   \"BMP6\"     \"BCL2A1\"   \"BAI2\"    \n",
       "[67] \"ATP1A3\"   \"ATG2A\"    \"ARVCF\"    \"ARHGAP6\" "
      ]
     },
     "metadata": {},
     "output_type": "display_data"
    }
   ],
   "source": [
    "colnames(expr)"
   ]
  },
  {
   "cell_type": "code",
   "execution_count": null,
   "id": "c9e4fd5e-afda-470d-9ddb-29ef2cfaeb65",
   "metadata": {},
   "outputs": [],
   "source": []
  },
  {
   "cell_type": "code",
   "execution_count": null,
   "id": "4522ad6d-be28-42b1-be05-4ecf8d53a597",
   "metadata": {},
   "outputs": [],
   "source": [
    "set.seed(1234)\n",
    "\n",
    "expr = as.data.frame(apply(expr,2,as.numeric))\n",
    "\n",
    "expr3 = as.data.frame(cbind(Group,expr))\n",
    "\n",
    "expr3$Group = ifelse(expr3$Group == 'CI',1,0)\n",
    "\n",
    "expr3$Group = as.factor(expr3$Group)\n",
    "\n",
    " model.gene =  c('FAM200B','BCL2A1','IGJ','TXN')\n",
    "\n",
    "expr4 = expr3 %>% dplyr::select(c(Group,model.gene))\n",
    "\n",
    "dim(expr4)"
   ]
  },
  {
   "cell_type": "code",
   "execution_count": 105,
   "id": "a68de7ce-0c16-4db1-93f7-8e4f510f9fa4",
   "metadata": {},
   "outputs": [
    {
     "data": {
      "text/html": [
       "<table class=\"dataframe\">\n",
       "<caption>A data.frame: 4 x 5</caption>\n",
       "<thead>\n",
       "\t<tr><th></th><th scope=col>Group</th><th scope=col>FAM200B</th><th scope=col>BCL2A1</th><th scope=col>IGJ</th><th scope=col>TXN</th></tr>\n",
       "\t<tr><th></th><th scope=col>&lt;fct&gt;</th><th scope=col>&lt;dbl&gt;</th><th scope=col>&lt;dbl&gt;</th><th scope=col>&lt;dbl&gt;</th><th scope=col>&lt;dbl&gt;</th></tr>\n",
       "</thead>\n",
       "<tbody>\n",
       "\t<tr><th scope=row>1</th><td>0</td><td>3.180684</td><td>11.13562</td><td>16.570967</td><td> 7.650115</td></tr>\n",
       "\t<tr><th scope=row>2</th><td>0</td><td>4.212774</td><td>20.99854</td><td>15.639764</td><td>10.409828</td></tr>\n",
       "\t<tr><th scope=row>3</th><td>0</td><td>3.462214</td><td>13.17759</td><td> 7.572279</td><td>11.275453</td></tr>\n",
       "\t<tr><th scope=row>4</th><td>0</td><td>3.432533</td><td>11.17819</td><td> 6.509650</td><td> 6.669256</td></tr>\n",
       "</tbody>\n",
       "</table>\n"
      ],
      "text/latex": [
       "A data.frame: 4 x 5\n",
       "\\begin{tabular}{r|lllll}\n",
       "  & Group & FAM200B & BCL2A1 & IGJ & TXN\\\\\n",
       "  & <fct> & <dbl> & <dbl> & <dbl> & <dbl>\\\\\n",
       "\\hline\n",
       "\t1 & 0 & 3.180684 & 11.13562 & 16.570967 &  7.650115\\\\\n",
       "\t2 & 0 & 4.212774 & 20.99854 & 15.639764 & 10.409828\\\\\n",
       "\t3 & 0 & 3.462214 & 13.17759 &  7.572279 & 11.275453\\\\\n",
       "\t4 & 0 & 3.432533 & 11.17819 &  6.509650 &  6.669256\\\\\n",
       "\\end{tabular}\n"
      ],
      "text/markdown": [
       "\n",
       "A data.frame: 4 x 5\n",
       "\n",
       "| <!--/--> | Group &lt;fct&gt; | FAM200B &lt;dbl&gt; | BCL2A1 &lt;dbl&gt; | IGJ &lt;dbl&gt; | TXN &lt;dbl&gt; |\n",
       "|---|---|---|---|---|---|\n",
       "| 1 | 0 | 3.180684 | 11.13562 | 16.570967 |  7.650115 |\n",
       "| 2 | 0 | 4.212774 | 20.99854 | 15.639764 | 10.409828 |\n",
       "| 3 | 0 | 3.462214 | 13.17759 |  7.572279 | 11.275453 |\n",
       "| 4 | 0 | 3.432533 | 11.17819 |  6.509650 |  6.669256 |\n",
       "\n"
      ],
      "text/plain": [
       "  Group FAM200B  BCL2A1   IGJ       TXN      \n",
       "1 0     3.180684 11.13562 16.570967  7.650115\n",
       "2 0     4.212774 20.99854 15.639764 10.409828\n",
       "3 0     3.462214 13.17759  7.572279 11.275453\n",
       "4 0     3.432533 11.17819  6.509650  6.669256"
      ]
     },
     "metadata": {},
     "output_type": "display_data"
    }
   ],
   "source": [
    "head(expr4,4)"
   ]
  },
  {
   "cell_type": "code",
   "execution_count": 1,
   "id": "3d42cb12-dcc5-4faf-88a1-6047ccd7391b",
   "metadata": {},
   "outputs": [
    {
     "name": "stderr",
     "output_type": "stream",
     "text": [
      "Warning message:\n",
      "\"package 'caret' was built under R version 4.2.3\"\n",
      "Loading required package: ggplot2\n",
      "\n",
      "Warning message:\n",
      "\"package 'ggplot2' was built under R version 4.2.3\"\n",
      "Loading required package: lattice\n",
      "\n",
      "Warning message:\n",
      "\"package 'lattice' was built under R version 4.2.3\"\n",
      "Warning message in system(\"timedatectl\", intern = TRUE):\n",
      "\"running command 'timedatectl' had status 1\"\n"
     ]
    },
    {
     "ename": "ERROR",
     "evalue": "Error in eval(expr, envir, enclos): object 'expr4' not found\n",
     "output_type": "error",
     "traceback": [
      "Error in eval(expr, envir, enclos): object 'expr4' not found\nTraceback:\n"
     ]
    }
   ],
   "source": [
    "library(caret)\n",
    "\n",
    "data = expr4\n",
    "\n",
    "set.seed(1)\n",
    "#单纯10折交叉验证，time=1\n",
    "folds <-createMultiFolds(y=data$Group,k=5,times=10)\n",
    "#10次批量训练与验证\n",
    "#做成循环\n",
    "auc_value<-as.numeric()\n",
    "for(i in 1:10){\n",
    "  train<- data[ folds[[i]],] \n",
    "  test <- data[-folds[[i]],] \n",
    "  model<-glm(Group~.,data=data,family=binomial())\n",
    "    \n",
    "  model_pre<-predict(model,type='response', newdata=train)\n",
    "    \n",
    "  auc_value<- append(auc_value,\n",
    "                     as.numeric(pROC::auc(as.numeric(train[,1]),model_pre)))\n",
    "}\n",
    "mean(auc_value)\n",
    "\n",
    "num <- which.max(auc_value)\n",
    "print(auc_value)\n",
    "\n",
    "fold_train <- data[folds[[num]],]   \n",
    "fold_test <- data[-folds[[num]],]\n",
    "\n",
    "fold_pre <- glm(Group~.,data=data,family=binomial())\n",
    "\n",
    "fold_predict <- predict(fold_pre,type='response',newdata=data)\n",
    "\n",
    "roc_curve <- pROC::roc(as.numeric(data$Group),fold_predict)\n",
    "plot(roc_curve, print.auc=TRUE, auc.polygon=TRUE, grid=c(0.1, 0.2),\n",
    "     grid.col=c(\"green\", \"red\"), max.auc.polygon=TRUE,\n",
    "     auc.polygon.col=\"skyblue\", print.thres=TRUE,main=\"ROC curve for the set with the largest AUC value\")"
   ]
  },
  {
   "cell_type": "code",
   "execution_count": 114,
   "id": "ec26a97f-04cc-4c18-b8af-1d7f2959457e",
   "metadata": {},
   "outputs": [
    {
     "data": {
      "text/html": [
       "<table class=\"dataframe\">\n",
       "<caption>A autoReg: 4 x 7</caption>\n",
       "<thead>\n",
       "\t<tr><th scope=col>name</th><th scope=col>desc</th><th scope=col>0 (N=19)</th><th scope=col>1 (N=16)</th><th scope=col>id</th><th scope=col>OR (univariable)</th><th scope=col>OR (multivariable)</th></tr>\n",
       "\t<tr><th scope=col>&lt;chr&gt;</th><th scope=col>&lt;chr&gt;</th><th scope=col>&lt;chr&gt;</th><th scope=col>&lt;chr&gt;</th><th scope=col>&lt;chr&gt;</th><th scope=col>&lt;chr&gt;</th><th scope=col>&lt;chr&gt;</th></tr>\n",
       "</thead>\n",
       "<tbody>\n",
       "\t<tr><td>FAM200B</td><td>Mean &lt;U+00B1&gt; SD</td><td><span style=white-space:pre-wrap>4.0 &lt;U+00B1&gt; 0.7  </span></td><td><span style=white-space:pre-wrap>6.3 &lt;U+00B1&gt; 2.2  </span></td><td>FAM200B</td><td>5.81 (1.78-18.96, p=.004)</td><td>5.27 (1.03-26.90, p=.046)</td></tr>\n",
       "\t<tr><td>BCL2A1 </td><td>Mean &lt;U+00B1&gt; SD</td><td>16.4 &lt;U+00B1&gt; 5.7 </td><td>34.5 &lt;U+00B1&gt; 20.9</td><td>BCL2A1 </td><td>1.18 (1.04-1.33, p=.008) </td><td>1.12 (0.90-1.40, p=.310) </td></tr>\n",
       "\t<tr><td><span style=white-space:pre-wrap>IGJ    </span></td><td>Mean &lt;U+00B1&gt; SD</td><td>21.8 &lt;U+00B1&gt; 17.0</td><td>70.1 &lt;U+00B1&gt; 72.8</td><td><span style=white-space:pre-wrap>IGJ    </span></td><td>1.04 (1.01-1.08, p=.021) </td><td>1.01 (0.97-1.06, p=.578) </td></tr>\n",
       "\t<tr><td><span style=white-space:pre-wrap>TXN    </span></td><td>Mean &lt;U+00B1&gt; SD</td><td>11.7 &lt;U+00B1&gt; 3.5 </td><td>20.2 &lt;U+00B1&gt; 9.7 </td><td><span style=white-space:pre-wrap>TXN    </span></td><td>1.25 (1.05-1.48, p=.011) </td><td>0.86 (0.60-1.23, p=.410) </td></tr>\n",
       "</tbody>\n",
       "</table>\n"
      ],
      "text/latex": [
       "A autoReg: 4 x 7\n",
       "\\begin{tabular}{lllllll}\n",
       " name & desc & 0 (N=19) & 1 (N=16) & id & OR (univariable) & OR (multivariable)\\\\\n",
       " <chr> & <chr> & <chr> & <chr> & <chr> & <chr> & <chr>\\\\\n",
       "\\hline\n",
       "\t FAM200B & Mean <U+00B1> SD & 4.0 <U+00B1> 0.7   & 6.3 <U+00B1> 2.2   & FAM200B & 5.81 (1.78-18.96, p=.004) & 5.27 (1.03-26.90, p=.046)\\\\\n",
       "\t BCL2A1  & Mean <U+00B1> SD & 16.4 <U+00B1> 5.7  & 34.5 <U+00B1> 20.9 & BCL2A1  & 1.18 (1.04-1.33, p=.008)  & 1.12 (0.90-1.40, p=.310) \\\\\n",
       "\t IGJ     & Mean <U+00B1> SD & 21.8 <U+00B1> 17.0 & 70.1 <U+00B1> 72.8 & IGJ     & 1.04 (1.01-1.08, p=.021)  & 1.01 (0.97-1.06, p=.578) \\\\\n",
       "\t TXN     & Mean <U+00B1> SD & 11.7 <U+00B1> 3.5  & 20.2 <U+00B1> 9.7  & TXN     & 1.25 (1.05-1.48, p=.011)  & 0.86 (0.60-1.23, p=.410) \\\\\n",
       "\\end{tabular}\n"
      ],
      "text/markdown": [
       "\n",
       "A autoReg: 4 x 7\n",
       "\n",
       "| name &lt;chr&gt; | desc &lt;chr&gt; | 0 (N=19) &lt;chr&gt; | 1 (N=16) &lt;chr&gt; | id &lt;chr&gt; | OR (univariable) &lt;chr&gt; | OR (multivariable) &lt;chr&gt; |\n",
       "|---|---|---|---|---|---|---|\n",
       "| FAM200B | Mean &lt;U+00B1&gt; SD | 4.0 &lt;U+00B1&gt; 0.7   | 6.3 &lt;U+00B1&gt; 2.2   | FAM200B | 5.81 (1.78-18.96, p=.004) | 5.27 (1.03-26.90, p=.046) |\n",
       "| BCL2A1  | Mean &lt;U+00B1&gt; SD | 16.4 &lt;U+00B1&gt; 5.7  | 34.5 &lt;U+00B1&gt; 20.9 | BCL2A1  | 1.18 (1.04-1.33, p=.008)  | 1.12 (0.90-1.40, p=.310)  |\n",
       "| IGJ     | Mean &lt;U+00B1&gt; SD | 21.8 &lt;U+00B1&gt; 17.0 | 70.1 &lt;U+00B1&gt; 72.8 | IGJ     | 1.04 (1.01-1.08, p=.021)  | 1.01 (0.97-1.06, p=.578)  |\n",
       "| TXN     | Mean &lt;U+00B1&gt; SD | 11.7 &lt;U+00B1&gt; 3.5  | 20.2 &lt;U+00B1&gt; 9.7  | TXN     | 1.25 (1.05-1.48, p=.011)  | 0.86 (0.60-1.23, p=.410)  |\n",
       "\n"
      ],
      "text/plain": [
       "  name    desc             0 (N=19)           1 (N=16)           id     \n",
       "1 FAM200B Mean <U+00B1> SD 4.0 <U+00B1> 0.7   6.3 <U+00B1> 2.2   FAM200B\n",
       "2 BCL2A1  Mean <U+00B1> SD 16.4 <U+00B1> 5.7  34.5 <U+00B1> 20.9 BCL2A1 \n",
       "3 IGJ     Mean <U+00B1> SD 21.8 <U+00B1> 17.0 70.1 <U+00B1> 72.8 IGJ    \n",
       "4 TXN     Mean <U+00B1> SD 11.7 <U+00B1> 3.5  20.2 <U+00B1> 9.7  TXN    \n",
       "  OR (univariable)          OR (multivariable)       \n",
       "1 5.81 (1.78-18.96, p=.004) 5.27 (1.03-26.90, p=.046)\n",
       "2 1.18 (1.04-1.33, p=.008)  1.12 (0.90-1.40, p=.310) \n",
       "3 1.04 (1.01-1.08, p=.021)  1.01 (0.97-1.06, p=.578) \n",
       "4 1.25 (1.05-1.48, p=.011)  0.86 (0.60-1.23, p=.410) "
      ]
     },
     "metadata": {},
     "output_type": "display_data"
    }
   ],
   "source": [
    "library(\"autoReg\")\n",
    "overall.log =  glm(Group~.,data=data,family=binomial())\n",
    "model3<-autoReg(overall.log,uni=TRUE,milti=TRUE,threshold=0.05)\n",
    "model3"
   ]
  },
  {
   "cell_type": "code",
   "execution_count": null,
   "id": "ba37cd9e-298d-4927-8f1b-81faac937997",
   "metadata": {},
   "outputs": [],
   "source": []
  },
  {
   "cell_type": "code",
   "execution_count": null,
   "id": "11056b34-603c-447c-b3be-19efb2e72654",
   "metadata": {},
   "outputs": [],
   "source": []
  },
  {
   "cell_type": "code",
   "execution_count": null,
   "id": "fbf33000-dbf0-485b-a435-702f2b0e3ea7",
   "metadata": {},
   "outputs": [],
   "source": []
  },
  {
   "cell_type": "code",
   "execution_count": null,
   "id": "7a446761-0ec8-415e-a9d9-83c39002e202",
   "metadata": {},
   "outputs": [],
   "source": []
  },
  {
   "cell_type": "code",
   "execution_count": null,
   "id": "65d6933f-201b-4fcb-aa77-53497f2942ba",
   "metadata": {},
   "outputs": [],
   "source": []
  },
  {
   "cell_type": "code",
   "execution_count": null,
   "id": "4d375089-6467-46cc-8d9f-f1e5411ab670",
   "metadata": {},
   "outputs": [],
   "source": []
  },
  {
   "cell_type": "code",
   "execution_count": null,
   "id": "72e9cc9d-bc05-44ff-81d4-f1934a763e9e",
   "metadata": {},
   "outputs": [],
   "source": []
  },
  {
   "cell_type": "code",
   "execution_count": null,
   "id": "e55a7ce6-4405-4db0-bd73-79df1ccb13a7",
   "metadata": {},
   "outputs": [],
   "source": []
  },
  {
   "cell_type": "code",
   "execution_count": 247,
   "id": "77c903ef-14c3-4870-be02-aa931289d116",
   "metadata": {},
   "outputs": [
    {
     "data": {
      "text/plain": [
       "Logistic Regression Model\n",
       "\n",
       "lrm(formula = Group ~ AC132872.2 + NEK2 + CCNA2 + SAP130, data = data, \n",
       "    x = T, y = T)\n",
       "\n",
       "                       Model Likelihood     Discrimination    Rank Discrim.    \n",
       "                             Ratio Test            Indexes          Indexes    \n",
       "Obs            85    LR chi2      59.37     R2       0.670    C       0.927    \n",
       " 1             43    d.f.             4     R2(4,85) 0.479    Dxy     0.854    \n",
       " 0             42    Pr(> chi2) <0.0001    R2(4,63.7)0.581    gamma   0.855    \n",
       "max |deriv| 7e-08                           Brier    0.115    tau-a   0.432    \n",
       "\n",
       "           Coef     S.E.   Wald Z Pr(>|Z|)\n",
       "Intercept   15.0083 3.4430  4.36  <0.0001 \n",
       "AC132872.2  -4.0132 1.4002 -2.87  0.0042  \n",
       "NEK2       -13.5900 6.0391 -2.25  0.0244  \n",
       "CCNA2       -2.6275 0.9592 -2.74  0.0062  \n",
       "SAP130      -0.5966 0.1819 -3.28  0.0010  \n"
      ]
     },
     "metadata": {},
     "output_type": "display_data"
    }
   ],
   "source": [
    "library(ROCR)\n",
    "\n",
    "dd<-datadist(data)  #开始打包数据\n",
    "options(datadist=\"dd\")\n",
    "\n",
    "data$Group = as.factor(data$Group)\n",
    "\n",
    "fit1 <- lrm(Group~AC132872.2+NEK2+CCNA2+SAP130 , data=data,x=T,y=T)\n",
    "\n",
    "\n",
    "fit1\n",
    "\n",
    "#  https://blog.csdn.net/Ayue0616/article/details/126601832\n",
    "\n",
    "# cal1 <- calibrate(fit1, method='boot', B=1000) \n",
    "# plot(cal1,xlim=c(0,1.0),ylim=c(0,1.0))\n",
    "\n",
    "### https://blog.51cto.com/u_15172991/5428282  模型图的解释参考链接\n",
    "\n",
    "# https://ayueme.github.io/R_clinical_model/nomogram-essential.html\n",
    "\n",
    "# https://blog.csdn.net/Dr_long1996/article/details/135446784\n",
    "\n",
    "save(fit1,data,file = 'train.fit1.rda')\n",
    "\n",
    "#列线图代码只能在Rstudio话\n",
    "\n",
    "# library('regplot')\n",
    "# regplot(fit1,\n",
    "#         plots = c(\"violin\", \"boxes\"), ##连续性变量形状，可选\"no plot\" \"density\" \"boxes\" \"ecdf\" \"bars\" \"boxplot\" \"violin\" \"bean\" \"spikes\"；分类变量的形状，可选\"no plot\" \"boxes\" \"bars\" \"spikes\"\n",
    "#         observation = data[1,], #用哪行观测，或者T F\n",
    "#         center = T, # 对齐变量\n",
    "#         subticks = T,\n",
    "#         droplines = T,#是否画竖线\n",
    "#         title = \"nomogram\",\n",
    "#         points = T, # 截距项显示为0-100\n",
    "#         odds = T, # 是否显示OR值\n",
    "#         showP = T, # 是否显示变量的显著性标记\n",
    "#         rank = \"sd\", # 根据sd给变量排序\n",
    "#         interval=\"confidence\", # 展示可信区间\n",
    "#         clickable = F # 是否可以交互\n",
    "# )"
   ]
  },
  {
   "cell_type": "code",
   "execution_count": 253,
   "id": "833a8ef3-b418-45ed-9ca4-a023f5d093e6",
   "metadata": {},
   "outputs": [],
   "source": [
    "fit.reduce <- glm(Group~AC132872.2+NEK2+CCNA2+SAP130,data=data,family=binomial())"
   ]
  },
  {
   "cell_type": "code",
   "execution_count": 254,
   "id": "438b368a-07fd-4842-b5d6-7bc2fbbe3dd9",
   "metadata": {},
   "outputs": [
    {
     "name": "stderr",
     "output_type": "stream",
     "text": [
      "Waiting for profiling to be done...\n",
      "\n"
     ]
    }
   ],
   "source": [
    "fit.result<-summary(fit.reduce)\n",
    "df1<-fit.result$coefficients\n",
    "df2<-confint(fit.reduce)\n",
    "df3<-cbind(df1,df2)\n",
    "df4<-data.frame(df3[-1,c(1,4,5,6)])\n",
    "df4$Var<-rownames(df4)\n",
    "colnames(df4)<-c(\"OR\",\"Pvalue\",\"OR_1\",\"OR_2\",\"Var\")\n",
    "df5<-df4[,c(5,1,2,3,4)]\n",
    "df5$OR_mean<-df5$OR\n",
    "df5$OR<-paste0(round(df5$OR,2),\n",
    "               \"(\",\n",
    "               round(df5$OR_1,2),\n",
    "               \"~\",\n",
    "               round(df5$OR_2,2),\n",
    "               \")\")\n",
    "df5$Pvalue<-round(df5$Pvalue,3)\n",
    "write.csv(df5,file = \"forestplot_example.csv\",\n",
    "          quote = F,row.names = F)\n"
   ]
  },
  {
   "cell_type": "code",
   "execution_count": 293,
   "id": "4b6b356d-12c3-418b-bd7e-627a8fc9918f",
   "metadata": {},
   "outputs": [
    {
     "data": {
      "text/html": [
       "<table class=\"dataframe\">\n",
       "<caption>A data.frame: 4 x 6</caption>\n",
       "<thead>\n",
       "\t<tr><th></th><th scope=col>Var</th><th scope=col>OR</th><th scope=col>Pvalue</th><th scope=col>OR_1</th><th scope=col>OR_2</th><th scope=col>OR_mean</th></tr>\n",
       "\t<tr><th></th><th scope=col>&lt;chr&gt;</th><th scope=col>&lt;chr&gt;</th><th scope=col>&lt;dbl&gt;</th><th scope=col>&lt;dbl&gt;</th><th scope=col>&lt;dbl&gt;</th><th scope=col>&lt;dbl&gt;</th></tr>\n",
       "</thead>\n",
       "<tbody>\n",
       "\t<tr><th scope=row>AC132872.2</th><td>AC132872.2</td><td>-4.01(-7.18~-1.59)  </td><td>0.004</td><td> -7.1788921</td><td>-1.5913535</td><td> -4.0131795</td></tr>\n",
       "\t<tr><th scope=row>NEK2</th><td>NEK2      </td><td>-13.59(-26.72~-2.64)</td><td>0.024</td><td>-26.7179089</td><td>-2.6406154</td><td>-13.5899731</td></tr>\n",
       "\t<tr><th scope=row>CCNA2</th><td>CCNA2     </td><td>-2.63(-4.71~-0.92)  </td><td>0.006</td><td> -4.7092999</td><td>-0.9221778</td><td> -2.6275058</td></tr>\n",
       "\t<tr><th scope=row>SAP130</th><td>SAP130    </td><td>-0.6(-1~-0.27)      </td><td>0.001</td><td> -0.9963749</td><td>-0.2713556</td><td> -0.5965813</td></tr>\n",
       "</tbody>\n",
       "</table>\n"
      ],
      "text/latex": [
       "A data.frame: 4 x 6\n",
       "\\begin{tabular}{r|llllll}\n",
       "  & Var & OR & Pvalue & OR\\_1 & OR\\_2 & OR\\_mean\\\\\n",
       "  & <chr> & <chr> & <dbl> & <dbl> & <dbl> & <dbl>\\\\\n",
       "\\hline\n",
       "\tAC132872.2 & AC132872.2 & -4.01(-7.18\\textasciitilde{}-1.59)   & 0.004 &  -7.1788921 & -1.5913535 &  -4.0131795\\\\\n",
       "\tNEK2 & NEK2       & -13.59(-26.72\\textasciitilde{}-2.64) & 0.024 & -26.7179089 & -2.6406154 & -13.5899731\\\\\n",
       "\tCCNA2 & CCNA2      & -2.63(-4.71\\textasciitilde{}-0.92)   & 0.006 &  -4.7092999 & -0.9221778 &  -2.6275058\\\\\n",
       "\tSAP130 & SAP130     & -0.6(-1\\textasciitilde{}-0.27)       & 0.001 &  -0.9963749 & -0.2713556 &  -0.5965813\\\\\n",
       "\\end{tabular}\n"
      ],
      "text/markdown": [
       "\n",
       "A data.frame: 4 x 6\n",
       "\n",
       "| <!--/--> | Var &lt;chr&gt; | OR &lt;chr&gt; | Pvalue &lt;dbl&gt; | OR_1 &lt;dbl&gt; | OR_2 &lt;dbl&gt; | OR_mean &lt;dbl&gt; |\n",
       "|---|---|---|---|---|---|---|\n",
       "| AC132872.2 | AC132872.2 | -4.01(-7.18~-1.59)   | 0.004 |  -7.1788921 | -1.5913535 |  -4.0131795 |\n",
       "| NEK2 | NEK2       | -13.59(-26.72~-2.64) | 0.024 | -26.7179089 | -2.6406154 | -13.5899731 |\n",
       "| CCNA2 | CCNA2      | -2.63(-4.71~-0.92)   | 0.006 |  -4.7092999 | -0.9221778 |  -2.6275058 |\n",
       "| SAP130 | SAP130     | -0.6(-1~-0.27)       | 0.001 |  -0.9963749 | -0.2713556 |  -0.5965813 |\n",
       "\n"
      ],
      "text/plain": [
       "           Var        OR                   Pvalue OR_1        OR_2      \n",
       "AC132872.2 AC132872.2 -4.01(-7.18~-1.59)   0.004   -7.1788921 -1.5913535\n",
       "NEK2       NEK2       -13.59(-26.72~-2.64) 0.024  -26.7179089 -2.6406154\n",
       "CCNA2      CCNA2      -2.63(-4.71~-0.92)   0.006   -4.7092999 -0.9221778\n",
       "SAP130     SAP130     -0.6(-1~-0.27)       0.001   -0.9963749 -0.2713556\n",
       "           OR_mean    \n",
       "AC132872.2  -4.0131795\n",
       "NEK2       -13.5899731\n",
       "CCNA2       -2.6275058\n",
       "SAP130      -0.5965813"
      ]
     },
     "metadata": {},
     "output_type": "display_data"
    }
   ],
   "source": [
    "df5"
   ]
  },
  {
   "cell_type": "code",
   "execution_count": 255,
   "id": "8a3879e3-4ee8-4665-ba7a-3aecd5eeaa60",
   "metadata": {},
   "outputs": [
    {
     "data": {
      "image/png": "[encoded data removed]",
      "text/plain": [
       "plot without title"
      ]
     },
     "metadata": {
      "image/png": {
       "height": 420,
       "width": 240
      }
     },
     "output_type": "display_data"
    }
   ],
   "source": [
    "\n",
    "library(forestplot)\n",
    "fp<-read.csv(\"forestplot_example.csv\",header=T)\n",
    "\n",
    "forestplot(labeltext=as.matrix(fp[,1:3]),\n",
    "           mean=fp$OR_mean,\n",
    "           lower=fp$OR_1,\n",
    "           upper=fp$OR_2,\n",
    "           zero=0,\n",
    "           boxsize=0.2,\n",
    "           graph.pos=2)"
   ]
  },
  {
   "cell_type": "code",
   "execution_count": null,
   "id": "53c35a64-c7b5-4966-979b-b7ce9352c0ba",
   "metadata": {},
   "outputs": [],
   "source": []
  },
  {
   "cell_type": "code",
   "execution_count": null,
   "id": "3bd95c7b-e714-46c3-8c85-772eeb307e6e",
   "metadata": {},
   "outputs": [],
   "source": []
  },
  {
   "cell_type": "code",
   "execution_count": null,
   "id": "9daf61fb-464b-40c1-8f32-edcbd5c17ae0",
   "metadata": {},
   "outputs": [],
   "source": []
  },
  {
   "cell_type": "code",
   "execution_count": null,
   "id": "2f753cde-10b5-4330-9539-d08e6bb23d92",
   "metadata": {},
   "outputs": [],
   "source": []
  },
  {
   "cell_type": "code",
   "execution_count": null,
   "id": "312b88b1-327d-49ea-8415-dce0b4ed037c",
   "metadata": {},
   "outputs": [],
   "source": []
  },
  {
   "cell_type": "code",
   "execution_count": null,
   "id": "1534d144-fe50-4624-90e6-44b89a0fdabe",
   "metadata": {},
   "outputs": [],
   "source": [
    "# forestplot(labeltext=as.matrix(fp[,1:3]),\n",
    "#            mean=fp$OR_mean,\n",
    "#            lower=fp$OR_1,\n",
    "#            upper=fp$OR_2,\n",
    "#            zero=0,\n",
    "#            boxsize=0.2,\n",
    "#            lineheight = unit(7,'mm'),\n",
    "#            colgap=unit(2,'mm'),\n",
    "#            lwd.zero=1.5,\n",
    "#            lwd.ci=2, \n",
    "#            col=fpColors(box='#458B00',\n",
    "#                         summary='#8B008B',\n",
    "#                         lines = 'black',\n",
    "#                         zero = '#7AC5CD'),\n",
    "#            xlab=\"OR\",\n",
    "#            lwd.xaxis =1,\n",
    "#            txt_gp = fpTxtGp(ticks = gpar(cex = 0.85),\n",
    "#                             xlab  = gpar(cex = 0.8),\n",
    "#                             cex = 0.9),\n",
    "#            lty.ci = \"solid\",\n",
    "#            title = \"Forestplot\", \n",
    "#            line.margin = 0.08,\n",
    "#            graph.pos=2)\n"
   ]
  },
  {
   "cell_type": "code",
   "execution_count": null,
   "id": "67b485bc-1ab2-4b04-b277-7178b99f35af",
   "metadata": {},
   "outputs": [],
   "source": []
  },
  {
   "cell_type": "code",
   "execution_count": null,
   "id": "c24600cc-ddff-4e36-b048-4aae9160d881",
   "metadata": {},
   "outputs": [],
   "source": [
    "#nmfinput= data[MDD,c('MYRF','IGHJ3P','RBMS1P1','CTD.2114J12.1')] %>%  t() %>%  as.data.frame()"
   ]
  },
  {
   "cell_type": "code",
   "execution_count": null,
   "id": "f576297c-7a98-4a5f-a443-bbb40d1cdff2",
   "metadata": {},
   "outputs": [],
   "source": [
    "library(NMF)"
   ]
  },
  {
   "cell_type": "code",
   "execution_count": null,
   "id": "8abe8ad0-c06b-4f5d-b19e-7351ff702cbc",
   "metadata": {},
   "outputs": [],
   "source": [
    "ranks <- 1:10\n",
    "estim.coad <- nmf(nmfinput,ranks, nrun=10)\n",
    "duplicated(colnames(nmfinput))"
   ]
  },
  {
   "cell_type": "code",
   "execution_count": null,
   "id": "19e1f905-8025-4076-bce0-2f6384742470",
   "metadata": {},
   "outputs": [],
   "source": [
    "plot(estim.coad)"
   ]
  },
  {
   "cell_type": "code",
   "execution_count": null,
   "id": "59f112a2-2d2a-4d61-b7e4-58efd28dc0ab",
   "metadata": {},
   "outputs": [],
   "source": [
    "seed = 2020820\n",
    "nmf.rank4 <- nmf(nmfinput, \n",
    "                 rank = 2, \n",
    "                 nrun=50,\n",
    "                 seed = seed, \n",
    "                 method = \"brunet\")"
   ]
  },
  {
   "cell_type": "code",
   "execution_count": null,
   "id": "dbecbd9e-5945-42d5-ac07-ed772ffe82e1",
   "metadata": {},
   "outputs": [],
   "source": [
    "jco <- c(\"#EABF00\",\"#C6524A\",\"#868686\")\n",
    "index <- extractFeatures(nmf.rank4,\"max\") \n",
    "sig.order <- unlist(index)\n",
    "NMF.Exp.rank4 <- nmfinput[sig.order,]\n",
    "NMF.Exp.rank4 <- na.omit(NMF.Exp.rank4) #sig.order有时候会有缺失值\n",
    "group <- predict(nmf.rank4) # 提出亚型\n",
    "table(group)\n",
    "consensusmap(nmf.rank4,\n",
    "             labRow = NA,\n",
    "             labCol = NA,\n",
    "             annCol = data.frame(\"cluster\"=group[colnames(NMF.Exp.rank4)]),\n",
    "             annColors = list(cluster=c(\"1\"=jco[1],\"2\"=jco[2])))"
   ]
  },
  {
   "cell_type": "code",
   "execution_count": null,
   "id": "bb805b8f-75f3-456f-9689-4681b6f14ce6",
   "metadata": {},
   "outputs": [],
   "source": [
    "library(tinyarray)"
   ]
  },
  {
   "cell_type": "code",
   "execution_count": null,
   "id": "94deac7d-25ab-4f03-9f46-393ee04a3960",
   "metadata": {},
   "outputs": [],
   "source": [
    "data1 = data[MDD,-1] %>%  t() %>% as.data.frame()"
   ]
  },
  {
   "cell_type": "code",
   "execution_count": null,
   "id": "e555b038-8ded-4eb3-9729-5d28a59ed485",
   "metadata": {},
   "outputs": [],
   "source": [
    "a = data1[,colnames(nmfinput)]"
   ]
  },
  {
   "cell_type": "code",
   "execution_count": null,
   "id": "1289c087-2598-4b2a-a5c2-34fb97887393",
   "metadata": {},
   "outputs": [],
   "source": [
    "cg=names(tail(sort(apply(a,1,sd)),12000))\n",
    "n=a[cg,]"
   ]
  },
  {
   "cell_type": "code",
   "execution_count": null,
   "id": "c20ca154-bfab-4ccf-86e3-6d86555ce135",
   "metadata": {},
   "outputs": [],
   "source": []
  },
  {
   "cell_type": "code",
   "execution_count": null,
   "id": "61031c5d-188e-462e-bad2-b1a219712c58",
   "metadata": {},
   "outputs": [],
   "source": [
    "draw_pca(n,group)"
   ]
  },
  {
   "cell_type": "code",
   "execution_count": null,
   "id": "3c8e48af-8ca5-4c26-bb06-6ae9233aa50d",
   "metadata": {},
   "outputs": [],
   "source": [
    "library(Rtsne)\n",
    "tsne_out = Rtsne(t(n),perplexity = 1)\n",
    "pdat = data.frame(tsne_out$Y,factor(group))\n",
    "colnames(pdat) = c(\"Y1\",\"Y2\",\"group\")\n",
    "head(pdat)"
   ]
  },
  {
   "cell_type": "code",
   "execution_count": null,
   "id": "d1e5d52b-144d-47f5-837d-ed4cb8d867da",
   "metadata": {},
   "outputs": [],
   "source": [
    "pdat1 = pdat %>% tibble::rownames_to_column(.,'sample')"
   ]
  },
  {
   "cell_type": "code",
   "execution_count": null,
   "id": "329bd6a2-8afc-4a6b-b96b-8d97826efc04",
   "metadata": {},
   "outputs": [],
   "source": [
    "bulk2.group = pdat1[,c(1,4)]\n",
    "write.csv(bulk2.group,file = 'bulk2.group.csv',row.names =F)"
   ]
  },
  {
   "cell_type": "code",
   "execution_count": null,
   "id": "d8dd452f-9e3f-46d2-a6fe-1ef50822adbd",
   "metadata": {},
   "outputs": [],
   "source": [
    "dim(bulk2.group)"
   ]
  },
  {
   "cell_type": "code",
   "execution_count": null,
   "id": "3d85694e-4d1e-4680-9cf4-4bfbbcb09fb4",
   "metadata": {},
   "outputs": [],
   "source": []
  },
  {
   "cell_type": "code",
   "execution_count": null,
   "id": "afc98685-184c-49c2-aa88-bc76e5597a7b",
   "metadata": {},
   "outputs": [],
   "source": []
  },
  {
   "cell_type": "code",
   "execution_count": null,
   "id": "58f83bfe-bb76-45c2-87ac-ab028296ad94",
   "metadata": {},
   "outputs": [],
   "source": [
    "library(ggplot2)\n",
    "library(paletteer)\n",
    "ggplot(pdat,aes(Y1,Y2))+\n",
    "  geom_point(aes(Y1,Y2,fill = group),shape = 21,color = \"black\")+\n",
    "  stat_ellipse(aes(color = group,fill = group),\n",
    "               geom = \"polygon\",\n",
    "               alpha = 0.3,\n",
    "               linetype = 2)+\n",
    "  scale_color_paletteer_d(\"RColorBrewer::Set2\")+\n",
    "  scale_fill_paletteer_d(\"RColorBrewer::Set2\")+\n",
    "  theme_classic()+\n",
    "  theme(legend.position = \"top\")"
   ]
  },
  {
   "cell_type": "code",
   "execution_count": 101,
   "id": "fb552aa5-2ded-45f2-944b-a2eb5a3cfa7f",
   "metadata": {},
   "outputs": [],
   "source": [
    "expr3$Group = ifelse(expr3$Group == 'CI',1,0)"
   ]
  },
  {
   "cell_type": "code",
   "execution_count": 119,
   "id": "f8456613-74c0-407c-9c6b-26afcb0731c1",
   "metadata": {},
   "outputs": [],
   "source": [
    "data = expr3"
   ]
  },
  {
   "cell_type": "code",
   "execution_count": null,
   "id": "82a4e344-3312-42e7-ac99-9882266ebf53",
   "metadata": {},
   "outputs": [],
   "source": [
    "gene = RNF208   PLXNB3  ITGA2B"
   ]
  },
  {
   "cell_type": "code",
   "execution_count": null,
   "id": "de756c88-fa81-421e-9ef0-74ab9508a049",
   "metadata": {},
   "outputs": [],
   "source": []
  },
  {
   "cell_type": "code",
   "execution_count": 140,
   "id": "1eb41f2a-e15a-4f29-91a8-0c25a19f6245",
   "metadata": {},
   "outputs": [
    {
     "name": "stderr",
     "output_type": "stream",
     "text": [
      "Setting levels: control = 0, case = 1\n",
      "\n",
      "Setting direction: controls < cases\n",
      "\n",
      "Setting levels: control = 0, case = 1\n",
      "\n",
      "Setting direction: controls < cases\n",
      "\n",
      "Setting levels: control = 0, case = 1\n",
      "\n",
      "Setting direction: controls < cases\n",
      "\n",
      "Setting levels: control = 0, case = 1\n",
      "\n",
      "Setting direction: controls < cases\n",
      "\n",
      "Setting levels: control = 0, case = 1\n",
      "\n",
      "Setting direction: controls < cases\n",
      "\n"
     ]
    },
    {
     "data": {
      "text/html": [
       "0.824820654876057"
      ],
      "text/latex": [
       "0.824820654876057"
      ],
      "text/markdown": [
       "0.824820654876057"
      ],
      "text/plain": [
       "[1] 0.8248207"
      ]
     },
     "metadata": {},
     "output_type": "display_data"
    }
   ],
   "source": [
    "set.seed(21)\n",
    "#单纯10折交叉验证，time=1\n",
    "folds <-createMultiFolds(y=data$Group,k=10,times=5)\n",
    "#10次批量训练与验证\n",
    "#做成循环\n",
    "auc_value<-as.numeric()\n",
    "for(i in 1:5){\n",
    "  train<- data[ folds[[i]],] \n",
    "  test <- data[-folds[[i]],] \n",
    "  model<-glm(Group~RNF208,data=train,family=binomial())  #TNFSF14+CCNA2+MARCKS+SGOL1+SAP130\n",
    "    \n",
    "  model_pre<-predict(model,type='response', newdata=train)\n",
    "    \n",
    "  auc_value<- append(auc_value,\n",
    "                     as.numeric(pROC::auc(as.numeric(train[,1]),model_pre)))\n",
    "}\n",
    "mean(auc_value)"
   ]
  },
  {
   "cell_type": "code",
   "execution_count": 142,
   "id": "230e4fe5-faa1-4c9b-bf60-f7426f94fb67",
   "metadata": {},
   "outputs": [
    {
     "data": {
      "text/html": [
       "<style>\n",
       ".list-inline {list-style: none; margin:0; padding: 0}\n",
       ".list-inline>li {display: inline-block}\n",
       ".list-inline>li:not(:last-child)::after {content: \"\\00b7\"; padding: 0 .5ex}\n",
       "</style>\n",
       "<ol class=list-inline><li>0.82617728531856</li><li>0.804016620498615</li><li>0.833102493074792</li><li>0.836707152496626</li><li>0.82409972299169</li></ol>\n"
      ],
      "text/latex": [
       "\\begin{enumerate*}\n",
       "\\item 0.82617728531856\n",
       "\\item 0.804016620498615\n",
       "\\item 0.833102493074792\n",
       "\\item 0.836707152496626\n",
       "\\item 0.82409972299169\n",
       "\\end{enumerate*}\n"
      ],
      "text/markdown": [
       "1. 0.82617728531856\n",
       "2. 0.804016620498615\n",
       "3. 0.833102493074792\n",
       "4. 0.836707152496626\n",
       "5. 0.82409972299169\n",
       "\n",
       "\n"
      ],
      "text/plain": [
       "[1] 0.8261773 0.8040166 0.8331025 0.8367072 0.8240997"
      ]
     },
     "metadata": {},
     "output_type": "display_data"
    }
   ],
   "source": [
    "auc_value"
   ]
  },
  {
   "cell_type": "code",
   "execution_count": 143,
   "id": "04b0fdda-b748-425e-b2d9-261a88f6a959",
   "metadata": {},
   "outputs": [
    {
     "name": "stdout",
     "output_type": "stream",
     "text": [
      "[1] 4\n"
     ]
    }
   ],
   "source": [
    "num <- which.max(auc_value)\n",
    "print(num)"
   ]
  },
  {
   "cell_type": "code",
   "execution_count": 146,
   "id": "75dfcaab-a463-4721-9f2a-d6c037654745",
   "metadata": {},
   "outputs": [],
   "source": [
    "fold_train <- data[folds[[num]],]   \n",
    "fold_test <- data[-folds[[num]],]\n",
    "\n",
    "fold_pre <- glm(Group~RNF208,data=fold_train,family=binomial())\n",
    "\n",
    "fold_predict <- predict(fold_pre,type='response',newdata=fold_test)\n",
    "\n",
    "options(repr.plot.width = 6)"
   ]
  },
  {
   "cell_type": "code",
   "execution_count": 147,
   "id": "1db8ca56-efa6-4c7a-8048-dbcb3d9392fd",
   "metadata": {},
   "outputs": [
    {
     "name": "stderr",
     "output_type": "stream",
     "text": [
      "Setting levels: control = 0, case = 1\n",
      "\n",
      "Setting direction: controls < cases\n",
      "\n"
     ]
    },
    {
     "data": {
      "image/png": "[encoded data removed]",
      "text/plain": [
       "Plot with title \"\""
      ]
     },
     "metadata": {
      "image/png": {
       "height": 420,
       "width": 360
      }
     },
     "output_type": "display_data"
    }
   ],
   "source": [
    "roc_curve <- pROC::roc(as.numeric(fold_test$Group),fold_predict)\n",
    "plot(roc_curve, print.auc=TRUE, auc.polygon=TRUE, grid=c(0.1, 0.2),\n",
    "     grid.col=c(\"green\", \"red\"), max.auc.polygon=TRUE,\n",
    "     auc.polygon.col=\"skyblue\", print.thres=TRUE,main=\"\")"
   ]
  },
  {
   "cell_type": "code",
   "execution_count": 150,
   "id": "eec624e6-c853-4885-8af9-e2fdc8dae9ee",
   "metadata": {},
   "outputs": [],
   "source": [
    "fold_pre <- glm(Group~PLXNB3,data=data,family=binomial())\n",
    "\n",
    "fold_predict <- predict(fold_pre,type='response',newdata=data)\n",
    "\n",
    "options(repr.plot.width = 6)"
   ]
  },
  {
   "cell_type": "code",
   "execution_count": 151,
   "id": "7046112b-05ca-4c93-b933-1b6e24080439",
   "metadata": {},
   "outputs": [
    {
     "name": "stderr",
     "output_type": "stream",
     "text": [
      "Setting levels: control = 0, case = 1\n",
      "\n",
      "Setting direction: controls < cases\n",
      "\n"
     ]
    },
    {
     "data": {
      "image/png": "[encoded data removed]",
      "text/plain": [
       "Plot with title \"\""
      ]
     },
     "metadata": {
      "image/png": {
       "height": 420,
       "width": 360
      }
     },
     "output_type": "display_data"
    }
   ],
   "source": [
    "roc_curve <- pROC::roc(as.numeric(data$Group),fold_predict)\n",
    "plot(roc_curve, print.auc=TRUE, auc.polygon=TRUE, grid=c(0.1, 0.2),\n",
    "     grid.col=c(\"green\", \"red\"), max.auc.polygon=TRUE,\n",
    "     auc.polygon.col=\"skyblue\", print.thres=TRUE,main=\"\")"
   ]
  },
  {
   "cell_type": "code",
   "execution_count": null,
   "id": "98a35cef-9e4d-4664-b9de-1c322c72661b",
   "metadata": {},
   "outputs": [],
   "source": []
  },
  {
   "cell_type": "code",
   "execution_count": null,
   "id": "26466b41-ddc5-406d-b159-1cf0863dea44",
   "metadata": {},
   "outputs": [],
   "source": []
  },
  {
   "cell_type": "code",
   "execution_count": null,
   "id": "505ff528-28c6-4205-87eb-42fa88fb7dfb",
   "metadata": {},
   "outputs": [],
   "source": []
  },
  {
   "cell_type": "code",
   "execution_count": null,
   "id": "e8b166c7-06a2-42ff-a86c-fe6009b2ea96",
   "metadata": {},
   "outputs": [],
   "source": []
  },
  {
   "cell_type": "code",
   "execution_count": null,
   "id": "400eaaaa-fbf3-4d85-ab10-d0dc6261cce3",
   "metadata": {},
   "outputs": [],
   "source": []
  },
  {
   "cell_type": "code",
   "execution_count": null,
   "id": "4a63a2f9-4366-4f3c-a277-27aeb6c71b2c",
   "metadata": {},
   "outputs": [],
   "source": []
  },
  {
   "cell_type": "code",
   "execution_count": null,
   "id": "c3d8f960-3a32-404d-a8d9-f5fafa6f6137",
   "metadata": {},
   "outputs": [],
   "source": []
  },
  {
   "cell_type": "code",
   "execution_count": null,
   "id": "fc17a51e-07f5-487c-b25e-0befc8a7a4c1",
   "metadata": {},
   "outputs": [],
   "source": []
  },
  {
   "cell_type": "code",
   "execution_count": null,
   "id": "c0c770f1-20e9-4c4f-b6a3-60e8c97c3c58",
   "metadata": {},
   "outputs": [],
   "source": []
  },
  {
   "cell_type": "code",
   "execution_count": null,
   "id": "e19eeb2b-9dcf-4889-aa1f-c53b44915cbd",
   "metadata": {},
   "outputs": [],
   "source": []
  },
  {
   "cell_type": "code",
   "execution_count": null,
   "id": "ed7f52b2-a52e-4e9b-a1fb-929fb3ab8b60",
   "metadata": {},
   "outputs": [],
   "source": []
  },
  {
   "cell_type": "code",
   "execution_count": null,
   "id": "f7960de0-2c9c-41b8-ad01-7e5c3cdc54fd",
   "metadata": {},
   "outputs": [],
   "source": []
  }
 ],
 "metadata": {
  "kernelspec": {
   "display_name": "R",
   "language": "R",
   "name": "ir"
  },
  "language_info": {
   "codemirror_mode": "r",
   "file_extension": ".r",
   "mimetype": "text/x-r-source",
   "name": "R",
   "pygments_lexer": "r",
   "version": "4.2.1"
  }
 },
 "nbformat": 4,
 "nbformat_minor": 5
}
