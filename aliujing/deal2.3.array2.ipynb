{
 "cells": [
  {
   "cell_type": "code",
   "execution_count": 31,
   "id": "82808e5d-ae01-44bf-a639-b5273fea8c80",
   "metadata": {
    "scrolled": true
   },
   "outputs": [],
   "source": [
    "library(affy)\n",
    "library(limma)\n",
    "library(stringr)\n",
    "library(AnnoProbe)\n",
    "library(magrittr)"
   ]
  },
  {
   "cell_type": "code",
   "execution_count": 32,
   "id": "9eefcbea-c0fa-49e2-9304-9801d76ca315",
   "metadata": {},
   "outputs": [],
   "source": [
    "setwd('/import/jliu//data2/')"
   ]
  },
  {
   "cell_type": "code",
   "execution_count": 33,
   "id": "ed01a4e1-afc5-4020-8ffa-c46000e0f3cc",
   "metadata": {},
   "outputs": [
    {
     "name": "stderr",
     "output_type": "stream",
     "text": [
      "Warning message in scan(file = file, what = what, sep = sep, quote = quote, dec = dec, :\n",
      "\"EOF within quoted string\"\n"
     ]
    }
   ],
   "source": [
    "id = read.table('./gz2/GSE16561_family.soft.txt',header =T,sep = '\\t')"
   ]
  },
  {
   "cell_type": "code",
   "execution_count": 36,
   "id": "d3a44a58-a478-4791-a8e7-c7f124b410a1",
   "metadata": {},
   "outputs": [],
   "source": [
    "id = id %>%dplyr::filter(Symbol %in% c('C4ORF53','BCL2A1','IGJ','TXN'))"
   ]
  },
  {
   "cell_type": "code",
   "execution_count": 37,
   "id": "ef03d182-2f46-460b-b289-6bbd5f8c8250",
   "metadata": {},
   "outputs": [
    {
     "data": {
      "text/html": [
       "<table class=\"dataframe\">\n",
       "<caption>A data.frame: 3 x 2</caption>\n",
       "<thead>\n",
       "\t<tr><th></th><th scope=col>ID</th><th scope=col>Symbol</th></tr>\n",
       "\t<tr><th></th><th scope=col>&lt;chr&gt;</th><th scope=col>&lt;chr&gt;</th></tr>\n",
       "</thead>\n",
       "<tbody>\n",
       "\t<tr><th scope=row>1</th><td>ILMN_2105441</td><td>IGJ   </td></tr>\n",
       "\t<tr><th scope=row>2</th><td>ILMN_1769229</td><td>BCL2A1</td></tr>\n",
       "\t<tr><th scope=row>3</th><td>ILMN_1680314</td><td>TXN   </td></tr>\n",
       "</tbody>\n",
       "</table>\n"
      ],
      "text/latex": [
       "A data.frame: 3 x 2\n",
       "\\begin{tabular}{r|ll}\n",
       "  & ID & Symbol\\\\\n",
       "  & <chr> & <chr>\\\\\n",
       "\\hline\n",
       "\t1 & ILMN\\_2105441 & IGJ   \\\\\n",
       "\t2 & ILMN\\_1769229 & BCL2A1\\\\\n",
       "\t3 & ILMN\\_1680314 & TXN   \\\\\n",
       "\\end{tabular}\n"
      ],
      "text/markdown": [
       "\n",
       "A data.frame: 3 x 2\n",
       "\n",
       "| <!--/--> | ID &lt;chr&gt; | Symbol &lt;chr&gt; |\n",
       "|---|---|---|\n",
       "| 1 | ILMN_2105441 | IGJ    |\n",
       "| 2 | ILMN_1769229 | BCL2A1 |\n",
       "| 3 | ILMN_1680314 | TXN    |\n",
       "\n"
      ],
      "text/plain": [
       "  ID           Symbol\n",
       "1 ILMN_2105441 IGJ   \n",
       "2 ILMN_1769229 BCL2A1\n",
       "3 ILMN_1680314 TXN   "
      ]
     },
     "metadata": {},
     "output_type": "display_data"
    }
   ],
   "source": [
    "head(id,4)"
   ]
  },
  {
   "cell_type": "code",
   "execution_count": 39,
   "id": "83b48848-878b-4fee-bdee-5f29af0e1cbf",
   "metadata": {},
   "outputs": [],
   "source": [
    "expr = read.table('./gz2/expr.txt',header =T,sep = '\\t',fill = NA)"
   ]
  },
  {
   "cell_type": "code",
   "execution_count": 89,
   "id": "51774ceb-e6e0-47ef-93db-fea94f164938",
   "metadata": {},
   "outputs": [],
   "source": [
    "expr2 = read.table('./gz2/GSE16561_RAW.txt',header =T,sep = '\\t',fill = NA)"
   ]
  },
  {
   "cell_type": "code",
   "execution_count": 90,
   "id": "648f2150-bb1e-40dd-bd55-6be20e66808f",
   "metadata": {},
   "outputs": [],
   "source": [
    "colnames(expr2) = colnames(expr)"
   ]
  },
  {
   "cell_type": "code",
   "execution_count": 91,
   "id": "2618c540-2774-4b66-8327-22c703f4905f",
   "metadata": {},
   "outputs": [
    {
     "data": {
      "text/html": [
       "<table class=\"dataframe\">\n",
       "<caption>A data.frame: 2 x 64</caption>\n",
       "<thead>\n",
       "\t<tr><th></th><th scope=col>ID</th><th scope=col>GSM416528</th><th scope=col>GSM416529</th><th scope=col>GSM416530</th><th scope=col>GSM416531</th><th scope=col>GSM416532</th><th scope=col>GSM416533</th><th scope=col>GSM416534</th><th scope=col>GSM416535</th><th scope=col>GSM416536</th><th scope=col>...</th><th scope=col>GSM416581</th><th scope=col>GSM416582</th><th scope=col>GSM416583</th><th scope=col>GSM416584</th><th scope=col>GSM416585</th><th scope=col>GSM416586</th><th scope=col>GSM416587</th><th scope=col>GSM416588</th><th scope=col>GSM416589</th><th scope=col>GSM416590</th></tr>\n",
       "\t<tr><th></th><th scope=col>&lt;chr&gt;</th><th scope=col>&lt;dbl&gt;</th><th scope=col>&lt;dbl&gt;</th><th scope=col>&lt;dbl&gt;</th><th scope=col>&lt;dbl&gt;</th><th scope=col>&lt;dbl&gt;</th><th scope=col>&lt;dbl&gt;</th><th scope=col>&lt;dbl&gt;</th><th scope=col>&lt;dbl&gt;</th><th scope=col>&lt;dbl&gt;</th><th scope=col>...</th><th scope=col>&lt;dbl&gt;</th><th scope=col>&lt;dbl&gt;</th><th scope=col>&lt;dbl&gt;</th><th scope=col>&lt;dbl&gt;</th><th scope=col>&lt;dbl&gt;</th><th scope=col>&lt;dbl&gt;</th><th scope=col>&lt;dbl&gt;</th><th scope=col>&lt;dbl&gt;</th><th scope=col>&lt;dbl&gt;</th><th scope=col>&lt;dbl&gt;</th></tr>\n",
       "</thead>\n",
       "<tbody>\n",
       "\t<tr><th scope=row>1</th><td>ILMN_1809034</td><td>235.353</td><td>177.9082</td><td>203.0880</td><td>203.3344</td><td>198.9734</td><td>244.6783</td><td>253.2816</td><td>240.2400</td><td>212.4335</td><td>...</td><td>221.6238</td><td>239.2245</td><td>250.4197</td><td>275.7842</td><td>208.5782</td><td>458.9746</td><td>376.2435</td><td>325.4193</td><td>290.9464</td><td>309.2595</td></tr>\n",
       "\t<tr><th scope=row>2</th><td>ILMN_1660305</td><td>292.184</td><td>228.1698</td><td>194.0614</td><td>254.5865</td><td>502.7339</td><td>685.0330</td><td>630.0161</td><td>491.6771</td><td>586.4894</td><td>...</td><td>279.5443</td><td>402.5104</td><td>466.0435</td><td>281.5866</td><td>237.3188</td><td>622.9600</td><td>580.2161</td><td>434.3580</td><td>400.3564</td><td>404.1953</td></tr>\n",
       "</tbody>\n",
       "</table>\n"
      ],
      "text/latex": [
       "A data.frame: 2 x 64\n",
       "\\begin{tabular}{r|lllllllllllllllllllll}\n",
       "  & ID & GSM416528 & GSM416529 & GSM416530 & GSM416531 & GSM416532 & GSM416533 & GSM416534 & GSM416535 & GSM416536 & ... & GSM416581 & GSM416582 & GSM416583 & GSM416584 & GSM416585 & GSM416586 & GSM416587 & GSM416588 & GSM416589 & GSM416590\\\\\n",
       "  & <chr> & <dbl> & <dbl> & <dbl> & <dbl> & <dbl> & <dbl> & <dbl> & <dbl> & <dbl> & ... & <dbl> & <dbl> & <dbl> & <dbl> & <dbl> & <dbl> & <dbl> & <dbl> & <dbl> & <dbl>\\\\\n",
       "\\hline\n",
       "\t1 & ILMN\\_1809034 & 235.353 & 177.9082 & 203.0880 & 203.3344 & 198.9734 & 244.6783 & 253.2816 & 240.2400 & 212.4335 & ... & 221.6238 & 239.2245 & 250.4197 & 275.7842 & 208.5782 & 458.9746 & 376.2435 & 325.4193 & 290.9464 & 309.2595\\\\\n",
       "\t2 & ILMN\\_1660305 & 292.184 & 228.1698 & 194.0614 & 254.5865 & 502.7339 & 685.0330 & 630.0161 & 491.6771 & 586.4894 & ... & 279.5443 & 402.5104 & 466.0435 & 281.5866 & 237.3188 & 622.9600 & 580.2161 & 434.3580 & 400.3564 & 404.1953\\\\\n",
       "\\end{tabular}\n"
      ],
      "text/markdown": [
       "\n",
       "A data.frame: 2 x 64\n",
       "\n",
       "| <!--/--> | ID &lt;chr&gt; | GSM416528 &lt;dbl&gt; | GSM416529 &lt;dbl&gt; | GSM416530 &lt;dbl&gt; | GSM416531 &lt;dbl&gt; | GSM416532 &lt;dbl&gt; | GSM416533 &lt;dbl&gt; | GSM416534 &lt;dbl&gt; | GSM416535 &lt;dbl&gt; | GSM416536 &lt;dbl&gt; | ... ... | GSM416581 &lt;dbl&gt; | GSM416582 &lt;dbl&gt; | GSM416583 &lt;dbl&gt; | GSM416584 &lt;dbl&gt; | GSM416585 &lt;dbl&gt; | GSM416586 &lt;dbl&gt; | GSM416587 &lt;dbl&gt; | GSM416588 &lt;dbl&gt; | GSM416589 &lt;dbl&gt; | GSM416590 &lt;dbl&gt; |\n",
       "|---|---|---|---|---|---|---|---|---|---|---|---|---|---|---|---|---|---|---|---|---|---|\n",
       "| 1 | ILMN_1809034 | 235.353 | 177.9082 | 203.0880 | 203.3344 | 198.9734 | 244.6783 | 253.2816 | 240.2400 | 212.4335 | ... | 221.6238 | 239.2245 | 250.4197 | 275.7842 | 208.5782 | 458.9746 | 376.2435 | 325.4193 | 290.9464 | 309.2595 |\n",
       "| 2 | ILMN_1660305 | 292.184 | 228.1698 | 194.0614 | 254.5865 | 502.7339 | 685.0330 | 630.0161 | 491.6771 | 586.4894 | ... | 279.5443 | 402.5104 | 466.0435 | 281.5866 | 237.3188 | 622.9600 | 580.2161 | 434.3580 | 400.3564 | 404.1953 |\n",
       "\n"
      ],
      "text/plain": [
       "  ID           GSM416528 GSM416529 GSM416530 GSM416531 GSM416532 GSM416533\n",
       "1 ILMN_1809034 235.353   177.9082  203.0880  203.3344  198.9734  244.6783 \n",
       "2 ILMN_1660305 292.184   228.1698  194.0614  254.5865  502.7339  685.0330 \n",
       "  GSM416534 GSM416535 GSM416536 ... GSM416581 GSM416582 GSM416583 GSM416584\n",
       "1 253.2816  240.2400  212.4335  ... 221.6238  239.2245  250.4197  275.7842 \n",
       "2 630.0161  491.6771  586.4894  ... 279.5443  402.5104  466.0435  281.5866 \n",
       "  GSM416585 GSM416586 GSM416587 GSM416588 GSM416589 GSM416590\n",
       "1 208.5782  458.9746  376.2435  325.4193  290.9464  309.2595 \n",
       "2 237.3188  622.9600  580.2161  434.3580  400.3564  404.1953 "
      ]
     },
     "metadata": {},
     "output_type": "display_data"
    }
   ],
   "source": [
    "head(expr2,2)"
   ]
  },
  {
   "cell_type": "code",
   "execution_count": 92,
   "id": "910a3c2b-eb8a-48a8-849f-46dbe44653bb",
   "metadata": {},
   "outputs": [],
   "source": [
    "colnames(expr2)[1] = 'ID'"
   ]
  },
  {
   "cell_type": "code",
   "execution_count": 99,
   "id": "76a0405e-f01b-4ecd-88f9-1a9f94d8fe52",
   "metadata": {},
   "outputs": [],
   "source": [
    "EXP = left_join(id,expr2,by = 'ID')"
   ]
  },
  {
   "cell_type": "code",
   "execution_count": 100,
   "id": "f84b39d1-a7d5-4482-be9f-8ef8bbe6542b",
   "metadata": {},
   "outputs": [],
   "source": [
    "EXP = EXP[,-1] %>% tibble::remove_rownames() %>% \n",
    "tibble::column_to_rownames(.,'Symbol') %>% t() %>% as.data.frame()"
   ]
  },
  {
   "cell_type": "code",
   "execution_count": 101,
   "id": "bb9e329b-89cd-4855-ba79-7e4f4b3d39e0",
   "metadata": {},
   "outputs": [],
   "source": [
    "EXP$Group = c(rep('CI',39),rep('Con',24))"
   ]
  },
  {
   "cell_type": "code",
   "execution_count": 102,
   "id": "34a3fb73-b4b2-4714-84c0-ff01ee86917b",
   "metadata": {},
   "outputs": [],
   "source": [
    "EXP$Group = ifelse(EXP$Group == 'CI',1,0)"
   ]
  },
  {
   "cell_type": "code",
   "execution_count": 103,
   "id": "14aa06d5-c9d3-4db1-abe9-3db4899ba88c",
   "metadata": {},
   "outputs": [],
   "source": [
    "EXP$TXN = as.numeric(EXP$TXN)"
   ]
  },
  {
   "cell_type": "code",
   "execution_count": 104,
   "id": "14886c19-8e7b-46b0-82db-2095b7d712b2",
   "metadata": {},
   "outputs": [
    {
     "data": {
      "text/html": [
       "<table class=\"dataframe\">\n",
       "<caption>A data.frame: 2 x 4</caption>\n",
       "<thead>\n",
       "\t<tr><th></th><th scope=col>IGJ</th><th scope=col>BCL2A1</th><th scope=col>TXN</th><th scope=col>Group</th></tr>\n",
       "\t<tr><th></th><th scope=col>&lt;dbl&gt;</th><th scope=col>&lt;dbl&gt;</th><th scope=col>&lt;dbl&gt;</th><th scope=col>&lt;dbl&gt;</th></tr>\n",
       "</thead>\n",
       "<tbody>\n",
       "\t<tr><th scope=row>GSM416528</th><td>309.6058</td><td>248.3601</td><td>3419.792</td><td>1</td></tr>\n",
       "\t<tr><th scope=row>GSM416529</th><td>225.7952</td><td>227.4491</td><td>4389.589</td><td>1</td></tr>\n",
       "</tbody>\n",
       "</table>\n"
      ],
      "text/latex": [
       "A data.frame: 2 x 4\n",
       "\\begin{tabular}{r|llll}\n",
       "  & IGJ & BCL2A1 & TXN & Group\\\\\n",
       "  & <dbl> & <dbl> & <dbl> & <dbl>\\\\\n",
       "\\hline\n",
       "\tGSM416528 & 309.6058 & 248.3601 & 3419.792 & 1\\\\\n",
       "\tGSM416529 & 225.7952 & 227.4491 & 4389.589 & 1\\\\\n",
       "\\end{tabular}\n"
      ],
      "text/markdown": [
       "\n",
       "A data.frame: 2 x 4\n",
       "\n",
       "| <!--/--> | IGJ &lt;dbl&gt; | BCL2A1 &lt;dbl&gt; | TXN &lt;dbl&gt; | Group &lt;dbl&gt; |\n",
       "|---|---|---|---|---|\n",
       "| GSM416528 | 309.6058 | 248.3601 | 3419.792 | 1 |\n",
       "| GSM416529 | 225.7952 | 227.4491 | 4389.589 | 1 |\n",
       "\n"
      ],
      "text/plain": [
       "          IGJ      BCL2A1   TXN      Group\n",
       "GSM416528 309.6058 248.3601 3419.792 1    \n",
       "GSM416529 225.7952 227.4491 4389.589 1    "
      ]
     },
     "metadata": {},
     "output_type": "display_data"
    }
   ],
   "source": [
    "head(EXP,2)"
   ]
  },
  {
   "cell_type": "code",
   "execution_count": 105,
   "id": "0f10e90c-f35d-49b2-9748-28978acb2e95",
   "metadata": {},
   "outputs": [],
   "source": [
    "expr4 = EXP"
   ]
  },
  {
   "cell_type": "code",
   "execution_count": 106,
   "id": "a7ea21ae-569a-4257-ae42-df90fb01c6c9",
   "metadata": {},
   "outputs": [],
   "source": [
    "data = EXP"
   ]
  },
  {
   "cell_type": "code",
   "execution_count": 107,
   "id": "465bfcfe-9c8b-4103-841f-b4a446118552",
   "metadata": {},
   "outputs": [
    {
     "name": "stderr",
     "output_type": "stream",
     "text": [
      "Warning message in roc.default(response, predictor, auc = TRUE, ...):\n",
      "\"'response' has more than two levels. Consider setting 'levels' explicitly or using 'multiclass.roc' instead\"\n",
      "Setting levels: control = 225.7952, case = 261.4947\n",
      "\n",
      "Setting direction: controls < cases\n",
      "\n",
      "Warning message in roc.default(response, predictor, auc = TRUE, ...):\n",
      "\"'response' has more than two levels. Consider setting 'levels' explicitly or using 'multiclass.roc' instead\"\n",
      "Setting levels: control = 225.7952, case = 261.4947\n",
      "\n",
      "Setting direction: controls < cases\n",
      "\n",
      "Warning message in roc.default(response, predictor, auc = TRUE, ...):\n",
      "\"'response' has more than two levels. Consider setting 'levels' explicitly or using 'multiclass.roc' instead\"\n",
      "Setting levels: control = 225.7952, case = 261.4947\n",
      "\n",
      "Setting direction: controls < cases\n",
      "\n",
      "Warning message in roc.default(response, predictor, auc = TRUE, ...):\n",
      "\"'response' has more than two levels. Consider setting 'levels' explicitly or using 'multiclass.roc' instead\"\n",
      "Setting levels: control = 261.4947, case = 263.8798\n",
      "\n",
      "Setting direction: controls > cases\n",
      "\n",
      "Warning message in roc.default(response, predictor, auc = TRUE, ...):\n",
      "\"'response' has more than two levels. Consider setting 'levels' explicitly or using 'multiclass.roc' instead\"\n",
      "Setting levels: control = 225.7952, case = 269.5642\n",
      "\n",
      "Setting direction: controls > cases\n",
      "\n",
      "Warning message in roc.default(response, predictor, auc = TRUE, ...):\n",
      "\"'response' has more than two levels. Consider setting 'levels' explicitly or using 'multiclass.roc' instead\"\n",
      "Setting levels: control = 225.7952, case = 261.4947\n",
      "\n",
      "Setting direction: controls < cases\n",
      "\n",
      "Warning message in roc.default(response, predictor, auc = TRUE, ...):\n",
      "\"'response' has more than two levels. Consider setting 'levels' explicitly or using 'multiclass.roc' instead\"\n",
      "Setting levels: control = 225.7952, case = 261.4947\n",
      "\n",
      "Setting direction: controls < cases\n",
      "\n",
      "Warning message in roc.default(response, predictor, auc = TRUE, ...):\n",
      "\"'response' has more than two levels. Consider setting 'levels' explicitly or using 'multiclass.roc' instead\"\n",
      "Setting levels: control = 225.7952, case = 261.4947\n",
      "\n",
      "Setting direction: controls < cases\n",
      "\n",
      "Warning message in roc.default(response, predictor, auc = TRUE, ...):\n",
      "\"'response' has more than two levels. Consider setting 'levels' explicitly or using 'multiclass.roc' instead\"\n",
      "Setting levels: control = 225.7952, case = 261.4947\n",
      "\n",
      "Setting direction: controls < cases\n",
      "\n",
      "Warning message in roc.default(response, predictor, auc = TRUE, ...):\n",
      "\"'response' has more than two levels. Consider setting 'levels' explicitly or using 'multiclass.roc' instead\"\n",
      "Setting levels: control = 263.8798, case = 269.5642\n",
      "\n",
      "Setting direction: controls < cases\n",
      "\n"
     ]
    },
    {
     "data": {
      "text/html": [
       "1"
      ],
      "text/latex": [
       "1"
      ],
      "text/markdown": [
       "1"
      ],
      "text/plain": [
       "[1] 1"
      ]
     },
     "metadata": {},
     "output_type": "display_data"
    },
    {
     "name": "stdout",
     "output_type": "stream",
     "text": [
      " [1] 1 1 1 1 1 1 1 1 1 1\n"
     ]
    },
    {
     "name": "stderr",
     "output_type": "stream",
     "text": [
      "Setting levels: control = 0, case = 1\n",
      "\n",
      "Setting direction: controls < cases\n",
      "\n"
     ]
    },
    {
     "data": {
      "image/png": "[encoded data removed]",
      "text/plain": [
       "Plot with title \"ROC curve for the set with the largest AUC value\""
      ]
     },
     "metadata": {
      "image/png": {
       "height": 420,
       "width": 420
      }
     },
     "output_type": "display_data"
    }
   ],
   "source": [
    "library(caret)\n",
    "data = expr4\n",
    "set.seed(1)\n",
    "#单纯10折交叉验证，time=1\n",
    "folds <-createMultiFolds(y=data$Group,k=5,times=10)\n",
    "#10次批量训练与验证\n",
    "#做成循环\n",
    "auc_value<-as.numeric()\n",
    "for(i in 1:10){\n",
    "  train<- data[ folds[[i]],] \n",
    "  test <- data[-folds[[i]],] \n",
    "  model<-glm(Group~.,data=data,family=binomial())\n",
    "    \n",
    "  model_pre<-predict(model,type='response', newdata=train)\n",
    "    \n",
    "  auc_value<- append(auc_value,\n",
    "                     as.numeric(pROC::auc(as.numeric(train[,1]),model_pre)))\n",
    "}\n",
    "mean(auc_value)\n",
    "num <- which.max(auc_value)\n",
    "print(auc_value)\n",
    "fold_train <- data[folds[[num]],]   \n",
    "fold_test <- data[-folds[[num]],]\n",
    "fold_pre <- glm(Group~.,data=data,family=binomial())\n",
    "fold_predict <- predict(fold_pre,type='response',newdata=data)\n",
    "roc_curve <- pROC::roc(as.numeric(data$Group),fold_predict)\n",
    "plot(roc_curve, print.auc=TRUE, auc.polygon=TRUE, grid=c(0.1, 0.2),\n",
    "     grid.col=c(\"green\", \"red\"), max.auc.polygon=TRUE,\n",
    "     auc.polygon.col=\"skyblue\", print.thres=TRUE,main=\"ROC curve for the set with the largest AUC value\")"
   ]
  },
  {
   "cell_type": "code",
   "execution_count": 108,
   "id": "8b6efb93-1f56-45b4-9c2b-ac817898fcec",
   "metadata": {},
   "outputs": [
    {
     "data": {
      "text/html": [
       "<table class=\"dataframe\">\n",
       "<caption>A autoReg: 3 x 7</caption>\n",
       "<thead>\n",
       "\t<tr><th scope=col>name</th><th scope=col>desc</th><th scope=col>0 (N=24)</th><th scope=col>1 (N=39)</th><th scope=col>id</th><th scope=col>OR (univariable)</th><th scope=col>OR (multivariable)</th></tr>\n",
       "\t<tr><th scope=col>&lt;chr&gt;</th><th scope=col>&lt;chr&gt;</th><th scope=col>&lt;chr&gt;</th><th scope=col>&lt;chr&gt;</th><th scope=col>&lt;chr&gt;</th><th scope=col>&lt;chr&gt;</th><th scope=col>&lt;chr&gt;</th></tr>\n",
       "</thead>\n",
       "<tbody>\n",
       "\t<tr><td><span style=white-space:pre-wrap>IGJ   </span></td><td>Mean &lt;U+00B1&gt; SD</td><td>1056.8 &lt;U+00B1&gt; 853.6 </td><td>1662.0 &lt;U+00B1&gt; 3344.1</td><td><span style=white-space:pre-wrap>IGJ   </span></td><td>1.00 (1.00-1.00, p=.450)</td><td><span style=white-space:pre-wrap>                        </span></td></tr>\n",
       "\t<tr><td>BCL2A1</td><td>Mean &lt;U+00B1&gt; SD</td><td><span style=white-space:pre-wrap>516.6 &lt;U+00B1&gt; 511.5  </span></td><td>992.6 &lt;U+00B1&gt; 1311.1 </td><td>BCL2A1</td><td>1.00 (1.00-1.00, p=.123)</td><td><span style=white-space:pre-wrap>                        </span></td></tr>\n",
       "\t<tr><td><span style=white-space:pre-wrap>TXN   </span></td><td>Mean &lt;U+00B1&gt; SD</td><td>4659.5 &lt;U+00B1&gt; 1902.0</td><td>6721.5 &lt;U+00B1&gt; 2771.3</td><td><span style=white-space:pre-wrap>TXN   </span></td><td>1.00 (1.00-1.00, p=.006)</td><td>1.00 (1.00-1.00, p=.006)</td></tr>\n",
       "</tbody>\n",
       "</table>\n"
      ],
      "text/latex": [
       "A autoReg: 3 x 7\n",
       "\\begin{tabular}{lllllll}\n",
       " name & desc & 0 (N=24) & 1 (N=39) & id & OR (univariable) & OR (multivariable)\\\\\n",
       " <chr> & <chr> & <chr> & <chr> & <chr> & <chr> & <chr>\\\\\n",
       "\\hline\n",
       "\t IGJ    & Mean <U+00B1> SD & 1056.8 <U+00B1> 853.6  & 1662.0 <U+00B1> 3344.1 & IGJ    & 1.00 (1.00-1.00, p=.450) &                         \\\\\n",
       "\t BCL2A1 & Mean <U+00B1> SD & 516.6 <U+00B1> 511.5   & 992.6 <U+00B1> 1311.1  & BCL2A1 & 1.00 (1.00-1.00, p=.123) &                         \\\\\n",
       "\t TXN    & Mean <U+00B1> SD & 4659.5 <U+00B1> 1902.0 & 6721.5 <U+00B1> 2771.3 & TXN    & 1.00 (1.00-1.00, p=.006) & 1.00 (1.00-1.00, p=.006)\\\\\n",
       "\\end{tabular}\n"
      ],
      "text/markdown": [
       "\n",
       "A autoReg: 3 x 7\n",
       "\n",
       "| name &lt;chr&gt; | desc &lt;chr&gt; | 0 (N=24) &lt;chr&gt; | 1 (N=39) &lt;chr&gt; | id &lt;chr&gt; | OR (univariable) &lt;chr&gt; | OR (multivariable) &lt;chr&gt; |\n",
       "|---|---|---|---|---|---|---|\n",
       "| IGJ    | Mean &lt;U+00B1&gt; SD | 1056.8 &lt;U+00B1&gt; 853.6  | 1662.0 &lt;U+00B1&gt; 3344.1 | IGJ    | 1.00 (1.00-1.00, p=.450) | <!----> |\n",
       "| BCL2A1 | Mean &lt;U+00B1&gt; SD | 516.6 &lt;U+00B1&gt; 511.5   | 992.6 &lt;U+00B1&gt; 1311.1  | BCL2A1 | 1.00 (1.00-1.00, p=.123) | <!----> |\n",
       "| TXN    | Mean &lt;U+00B1&gt; SD | 4659.5 &lt;U+00B1&gt; 1902.0 | 6721.5 &lt;U+00B1&gt; 2771.3 | TXN    | 1.00 (1.00-1.00, p=.006) | 1.00 (1.00-1.00, p=.006) |\n",
       "\n"
      ],
      "text/plain": [
       "  name   desc             0 (N=24)               1 (N=39)               id    \n",
       "1 IGJ    Mean <U+00B1> SD 1056.8 <U+00B1> 853.6  1662.0 <U+00B1> 3344.1 IGJ   \n",
       "2 BCL2A1 Mean <U+00B1> SD 516.6 <U+00B1> 511.5   992.6 <U+00B1> 1311.1  BCL2A1\n",
       "3 TXN    Mean <U+00B1> SD 4659.5 <U+00B1> 1902.0 6721.5 <U+00B1> 2771.3 TXN   \n",
       "  OR (univariable)         OR (multivariable)      \n",
       "1 1.00 (1.00-1.00, p=.450)                         \n",
       "2 1.00 (1.00-1.00, p=.123)                         \n",
       "3 1.00 (1.00-1.00, p=.006) 1.00 (1.00-1.00, p=.006)"
      ]
     },
     "metadata": {},
     "output_type": "display_data"
    }
   ],
   "source": [
    "library(\"autoReg\")\n",
    "overall.log =  glm(Group~.,data=data,family=binomial())\n",
    "model3<-autoReg(overall.log,uni=TRUE,milti=TRUE,threshold=0.05)\n",
    "model3"
   ]
  },
  {
   "cell_type": "code",
   "execution_count": 116,
   "id": "58079a0d-fd6f-4f59-bd18-a6f88f1df034",
   "metadata": {},
   "outputs": [],
   "source": [
    "library(ggplot2)"
   ]
  },
  {
   "cell_type": "code",
   "execution_count": 121,
   "id": "6e7804c4-3b98-4699-92f5-e81376fd41dc",
   "metadata": {},
   "outputs": [],
   "source": [
    "data$Group = as.factor(data$Group)"
   ]
  },
  {
   "cell_type": "code",
   "execution_count": 122,
   "id": "facbad85-c22f-45c8-9c87-1739c5588669",
   "metadata": {},
   "outputs": [
    {
     "data": {
      "text/html": [
       "<table class=\"dataframe\">\n",
       "<caption>A data.frame: 2 x 4</caption>\n",
       "<thead>\n",
       "\t<tr><th></th><th scope=col>IGJ</th><th scope=col>BCL2A1</th><th scope=col>TXN</th><th scope=col>Group</th></tr>\n",
       "\t<tr><th></th><th scope=col>&lt;dbl&gt;</th><th scope=col>&lt;dbl&gt;</th><th scope=col>&lt;dbl&gt;</th><th scope=col>&lt;fct&gt;</th></tr>\n",
       "</thead>\n",
       "<tbody>\n",
       "\t<tr><th scope=row>GSM416528</th><td>309.6058</td><td>248.3601</td><td>3419.792</td><td>1</td></tr>\n",
       "\t<tr><th scope=row>GSM416529</th><td>225.7952</td><td>227.4491</td><td>4389.589</td><td>1</td></tr>\n",
       "</tbody>\n",
       "</table>\n"
      ],
      "text/latex": [
       "A data.frame: 2 x 4\n",
       "\\begin{tabular}{r|llll}\n",
       "  & IGJ & BCL2A1 & TXN & Group\\\\\n",
       "  & <dbl> & <dbl> & <dbl> & <fct>\\\\\n",
       "\\hline\n",
       "\tGSM416528 & 309.6058 & 248.3601 & 3419.792 & 1\\\\\n",
       "\tGSM416529 & 225.7952 & 227.4491 & 4389.589 & 1\\\\\n",
       "\\end{tabular}\n"
      ],
      "text/markdown": [
       "\n",
       "A data.frame: 2 x 4\n",
       "\n",
       "| <!--/--> | IGJ &lt;dbl&gt; | BCL2A1 &lt;dbl&gt; | TXN &lt;dbl&gt; | Group &lt;fct&gt; |\n",
       "|---|---|---|---|---|\n",
       "| GSM416528 | 309.6058 | 248.3601 | 3419.792 | 1 |\n",
       "| GSM416529 | 225.7952 | 227.4491 | 4389.589 | 1 |\n",
       "\n"
      ],
      "text/plain": [
       "          IGJ      BCL2A1   TXN      Group\n",
       "GSM416528 309.6058 248.3601 3419.792 1    \n",
       "GSM416529 225.7952 227.4491 4389.589 1    "
      ]
     },
     "metadata": {},
     "output_type": "display_data"
    }
   ],
   "source": [
    "head(data,2)"
   ]
  },
  {
   "cell_type": "code",
   "execution_count": null,
   "id": "b23c7fca-7406-4d2e-a599-66b8f4fb6f9b",
   "metadata": {},
   "outputs": [],
   "source": []
  },
  {
   "cell_type": "code",
   "execution_count": 123,
   "id": "c44bc952-a161-46b9-9970-3149358ebb5a",
   "metadata": {},
   "outputs": [],
   "source": [
    "library(pROC)"
   ]
  },
  {
   "cell_type": "code",
   "execution_count": 125,
   "id": "834f5322-fc86-48c2-8b42-f0374eff9cd3",
   "metadata": {},
   "outputs": [
    {
     "data": {
      "image/png": "[encoded data removed]",
      "text/plain": [
       "plot without title"
      ]
     },
     "metadata": {
      "image/png": {
       "height": 420,
       "width": 420
      }
     },
     "output_type": "display_data"
    }
   ],
   "source": [
    "#pdf('ROC3.pdf',width = 6,height = 6)\n",
    "rocobj1 <- plot.roc(data$Group, data$BCL2A1,percent=TRUE, levels=c(0,1),direction=\"<\",col=\"#1c61b6\")\n",
    "#rocobj2 <- lines.roc(data$Group, data$FAM200B,percent=TRUE, levels=c(0,1),direction=\"<\", col=\"#008600\")\n",
    "rocobj3 <- lines.roc(data$Group, data$IGJ,percent=TRUE, levels=c(0,1),direction=\"<\", col=\"#9C6D35\")\n",
    "rocobj4 <- lines.roc(data$Group, data$TXN,percent=TRUE, levels=c(0,1),direction=\"<\", col=\"#9F1A70\")\n",
    "rocobj5 <- lines.roc(data$Group, fold_predict,percent=TRUE, levels=c(0,1),direction=\"<\", col=\"#491A9F\")\n",
    "legend(\"right\", legend=c(paste0(\"BCL2A1 \", round(rocobj1$auc/100,digits = 2)),\n",
    "                               #paste0(\"FAM200B \", round(rocobj2$auc/100,digits = 2)),\n",
    "                               paste0(\"IGJ \", round(rocobj3$auc/100,digits = 2)),\n",
    "                               paste0(\"TXN \", round(rocobj4$auc/100,digits = 2)),\n",
    "                               paste0(\"fold_predict \", round(rocobj5$auc/100,digits = 2))),\n",
    "       col=c(\"#1c61b6\", \"#9C6D35\",\"#9F1A70\",\"#491A9F\"), lwd=1)\n",
    "#dev.off()"
   ]
  },
  {
   "cell_type": "code",
   "execution_count": null,
   "id": "64386efd-1b66-4bcc-b471-81f8d385f11c",
   "metadata": {},
   "outputs": [],
   "source": []
  }
 ],
 "metadata": {
  "kernelspec": {
   "display_name": "R",
   "language": "R",
   "name": "ir"
  },
  "language_info": {
   "codemirror_mode": "r",
   "file_extension": ".r",
   "mimetype": "text/x-r-source",
   "name": "R",
   "pygments_lexer": "r",
   "version": "4.2.1"
  }
 },
 "nbformat": 4,
 "nbformat_minor": 5
}
