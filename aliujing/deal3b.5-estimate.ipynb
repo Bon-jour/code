{
 "cells": [
  {
   "cell_type": "code",
   "execution_count": 1,
   "id": "e5450ef5-dc70-4466-8de6-ed22ff33ea1d",
   "metadata": {},
   "outputs": [],
   "source": [
    "setwd('/import/liujing/data2/')"
   ]
  },
  {
   "cell_type": "code",
   "execution_count": 2,
   "id": "74c60df3-22e3-4f78-adb4-7675e2bbeafe",
   "metadata": {},
   "outputs": [],
   "source": [
    "# library(estimate)\n",
    "# estimate <- function(dat,pro){\n",
    "#   input.f=paste0(pro,'_estimate_input.txt')\n",
    "#   output.f=paste0(pro,'_estimate_gene.gct')\n",
    "#   output.ds=paste0(pro,'_estimate_score.gct')\n",
    "#   write.table(dat,file = input.f,sep = '\\t',quote = F)\n",
    "#   library(estimate)\n",
    "#   filterCommonGenes(input.f=input.f,\n",
    "#                     output.f=output.f ,\n",
    "#                     id=\"GeneSymbol\")\n",
    "#   estimateScore(input.ds = output.f,\n",
    "#                 output.ds=output.ds,\n",
    "#                 platform=\"illumina\")   ## platform\n",
    "#   scores=read.table(output.ds,skip = 2,header = T,check.names = F)\n",
    "#   rownames(scores)=scores[,1]\n",
    "#   scores=t(scores[,3:ncol(scores)])\n",
    "#  library(stringr)\n",
    "#   rownames(scores)=str_replace_all(rownames(scores),'[.]','-') # 这里TCGA样本名里面的-变成.了，进行恢复\n",
    "#   write.csv(scores,file=\"Stromal_Immune_ESTIMATE.Score.csv\") # 这一步是我增加的\n",
    "#   return(scores)\n",
    "# }\n",
    "\n",
    "# pro='CHOL'\n",
    "# scores=estimate(dat,pro)"
   ]
  },
  {
   "cell_type": "code",
   "execution_count": 3,
   "id": "44f80da2-235f-4ff6-909c-936fbee582ad",
   "metadata": {},
   "outputs": [],
   "source": [
    "data = read.csv('Stromal_Immune_ESTIMATE.Score.csv',row.names = 1)"
   ]
  },
  {
   "cell_type": "code",
   "execution_count": 4,
   "id": "562877a6-343a-4499-b24b-d7eec6d198fb",
   "metadata": {},
   "outputs": [],
   "source": [
    "load('ss.rda')"
   ]
  },
  {
   "cell_type": "code",
   "execution_count": 5,
   "id": "305399fd-3a49-477b-9fdc-d61c7da30385",
   "metadata": {},
   "outputs": [],
   "source": [
    "phenotype_file = data.frame(Group = group)"
   ]
  },
  {
   "cell_type": "code",
   "execution_count": 6,
   "id": "45a929dc-2d87-41c7-acbb-7f221ffd92e0",
   "metadata": {},
   "outputs": [],
   "source": [
    "merge_matrix <- cbind(phenotype_file,data)"
   ]
  },
  {
   "cell_type": "code",
   "execution_count": 7,
   "id": "8fb28ec1-ab53-49cf-bf38-0ecc081f82fd",
   "metadata": {},
   "outputs": [],
   "source": [
    "my_comparisons <- list( c(\"subtype1\", \"subtype2\")) "
   ]
  },
  {
   "cell_type": "code",
   "execution_count": 8,
   "id": "c79a3bfc-06f0-40a6-bc71-d95e8809f40c",
   "metadata": {},
   "outputs": [],
   "source": [
    "\n"
   ]
  },
  {
   "cell_type": "code",
   "execution_count": 12,
   "id": "5211ceac-95d7-4604-9704-86754409851f",
   "metadata": {},
   "outputs": [],
   "source": [
    "merge_matrix = merge_matrix[,c('Group','ImmuneScore')]"
   ]
  },
  {
   "cell_type": "code",
   "execution_count": 14,
   "id": "7e0f51f0-073e-4718-8655-cf1f651be272",
   "metadata": {},
   "outputs": [],
   "source": [
    "merge_matrix[,2] = log2(merge_matrix[,2]  + 1)"
   ]
  },
  {
   "cell_type": "code",
   "execution_count": 23,
   "id": "4c63cc79-51df-4600-a8b7-9c72f26f78b1",
   "metadata": {},
   "outputs": [
    {
     "data": {
      "text/html": [
       "<table class=\"dataframe\">\n",
       "<caption>A data.frame: 3 x 2</caption>\n",
       "<thead>\n",
       "\t<tr><th></th><th scope=col>Group</th><th scope=col>ImmuneScore</th></tr>\n",
       "\t<tr><th></th><th scope=col>&lt;chr&gt;</th><th scope=col>&lt;dbl&gt;</th></tr>\n",
       "</thead>\n",
       "<tbody>\n",
       "\t<tr><th scope=row>CI7</th><td>subtype1</td><td>12.02441</td></tr>\n",
       "\t<tr><th scope=row>CI8</th><td>subtype2</td><td>12.06651</td></tr>\n",
       "\t<tr><th scope=row>CI9</th><td>subtype2</td><td>12.07278</td></tr>\n",
       "</tbody>\n",
       "</table>\n"
      ],
      "text/latex": [
       "A data.frame: 3 x 2\n",
       "\\begin{tabular}{r|ll}\n",
       "  & Group & ImmuneScore\\\\\n",
       "  & <chr> & <dbl>\\\\\n",
       "\\hline\n",
       "\tCI7 & subtype1 & 12.02441\\\\\n",
       "\tCI8 & subtype2 & 12.06651\\\\\n",
       "\tCI9 & subtype2 & 12.07278\\\\\n",
       "\\end{tabular}\n"
      ],
      "text/markdown": [
       "\n",
       "A data.frame: 3 x 2\n",
       "\n",
       "| <!--/--> | Group &lt;chr&gt; | ImmuneScore &lt;dbl&gt; |\n",
       "|---|---|---|\n",
       "| CI7 | subtype1 | 12.02441 |\n",
       "| CI8 | subtype2 | 12.06651 |\n",
       "| CI9 | subtype2 | 12.07278 |\n",
       "\n"
      ],
      "text/plain": [
       "    Group    ImmuneScore\n",
       "CI7 subtype1 12.02441   \n",
       "CI8 subtype2 12.06651   \n",
       "CI9 subtype2 12.07278   "
      ]
     },
     "metadata": {},
     "output_type": "display_data"
    }
   ],
   "source": [
    "tail(merge_matrix,3)"
   ]
  },
  {
   "cell_type": "code",
   "execution_count": 24,
   "id": "080d181d-0289-4eaf-af3d-23067c71c6e6",
   "metadata": {},
   "outputs": [],
   "source": [
    "max_labely <- max(merge_matrix[,\"ImmuneScore\"])\n",
    "min_labely <- min(merge_matrix[,\"ImmuneScore\"])"
   ]
  },
  {
   "cell_type": "code",
   "execution_count": 25,
   "id": "0dfee8b1-3a70-40a1-a18e-4cbc3acd9e1a",
   "metadata": {},
   "outputs": [],
   "source": [
    "my_labely <- c(max_labely+0.5, max_labely+1, max_labely+0.5, max_labely+1)"
   ]
  },
  {
   "cell_type": "code",
   "execution_count": 26,
   "id": "9beeb346-4fdf-4de8-a876-a851b83afd3a",
   "metadata": {},
   "outputs": [],
   "source": [
    "library(ggpubr)\n",
    "library(ggplot2)"
   ]
  },
  {
   "cell_type": "code",
   "execution_count": null,
   "id": "8206eb1e-f4eb-4310-bccc-a7c591581f54",
   "metadata": {},
   "outputs": [],
   "source": []
  },
  {
   "cell_type": "code",
   "execution_count": null,
   "id": "34903b89-1623-4b05-8c1c-9b4f95644889",
   "metadata": {},
   "outputs": [],
   "source": []
  },
  {
   "cell_type": "code",
   "execution_count": null,
   "id": "c5e847a5-5272-4260-8d41-f308776eb507",
   "metadata": {},
   "outputs": [],
   "source": []
  },
  {
   "cell_type": "code",
   "execution_count": 27,
   "id": "fa29e115-a411-46ab-8fad-7c4990446455",
   "metadata": {},
   "outputs": [
    {
     "data": {
      "image/png": "[encoded data removed]",
      "text/plain": [
       "plot without title"
      ]
     },
     "metadata": {
      "image/png": {
       "height": 420,
       "width": 420
      }
     },
     "output_type": "display_data"
    }
   ],
   "source": [
    "ggboxplot(merge_matrix, x = \"Group\", y = \"ImmuneScore\",\n",
    "        color = \"black\",alpha = 0.8,size=.3,\n",
    "         add = \"jitter\",\n",
    "        add.params = list(color = \"Group\",alpha = .5,size = 0.8)) +stat_compare_means(comparisons = my_comparisons,method = \"t.test\",\n",
    "                   label.y = my_labely,na.rm=TRUE)+\n",
    "      stat_summary(fun.y = \"mean\",\n",
    "                geom = \"point\",\n",
    "                color = \"#485c70\",\n",
    "                shape = 8,\n",
    "                size = 3) + ggtitle(\"Immune Score\") +theme_bw()+\n",
    "theme(legend.position=\"none\",\n",
    "       plot.title = element_text(size=15,face=\"bold\",hjust = 0.5),\n",
    "       axis.text.x=element_text(colour=\"black\"),\n",
    "       axis.text.y=element_text(colour=\"black\"),\n",
    "panel.grid.major = element_blank(),\n",
    "          panel.grid.minor = element_blank()) + ylab(\"Immune Score\") +\n",
    "xlab(\"Group\") "
   ]
  },
  {
   "cell_type": "code",
   "execution_count": null,
   "id": "c3154020-9846-4894-9777-2ab1c1f8c2d3",
   "metadata": {},
   "outputs": [],
   "source": []
  },
  {
   "cell_type": "code",
   "execution_count": null,
   "id": "3bf82485-4356-4532-9095-e1805f46d7e1",
   "metadata": {},
   "outputs": [],
   "source": []
  },
  {
   "cell_type": "code",
   "execution_count": null,
   "id": "ac54151e-792e-4a47-aa3c-d578c3f69a61",
   "metadata": {},
   "outputs": [],
   "source": []
  }
 ],
 "metadata": {
  "kernelspec": {
   "display_name": "R",
   "language": "R",
   "name": "ir"
  },
  "language_info": {
   "codemirror_mode": "r",
   "file_extension": ".r",
   "mimetype": "text/x-r-source",
   "name": "R",
   "pygments_lexer": "r",
   "version": "4.2.1"
  }
 },
 "nbformat": 4,
 "nbformat_minor": 5
}
