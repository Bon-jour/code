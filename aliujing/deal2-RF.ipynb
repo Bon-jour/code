{
 "cells": [
  {
   "cell_type": "code",
   "execution_count": 1,
   "id": "4803cf30-6f2e-42bc-a83c-bfcb4dd2fc29",
   "metadata": {},
   "outputs": [],
   "source": [
    "setwd('/import/liujing/data2/')"
   ]
  },
  {
   "cell_type": "code",
   "execution_count": null,
   "id": "42f63fb3-7aea-4de0-9964-4cfc95829987",
   "metadata": {},
   "outputs": [],
   "source": []
  },
  {
   "cell_type": "code",
   "execution_count": 2,
   "id": "fc1a0f5d-bdd8-47eb-b6ad-7a7b61dd0fb9",
   "metadata": {},
   "outputs": [
    {
     "name": "stderr",
     "output_type": "stream",
     "text": [
      "Warning message:\n",
      "\"package 'openxlsx' was built under R version 4.2.3\"\n",
      "\n",
      "Attaching package: 'dplyr'\n",
      "\n",
      "\n",
      "The following objects are masked from 'package:stats':\n",
      "\n",
      "    filter, lag\n",
      "\n",
      "\n",
      "The following objects are masked from 'package:base':\n",
      "\n",
      "    intersect, setdiff, setequal, union\n",
      "\n",
      "\n"
     ]
    },
    {
     "data": {
      "text/html": [
       "<table class=\"dataframe\">\n",
       "<caption>A data.frame: 2 x 75</caption>\n",
       "<thead>\n",
       "\t<tr><th></th><th scope=col>Gene_name</th><th scope=col>C10</th><th scope=col>C11</th><th scope=col>C12</th><th scope=col>C13</th><th scope=col>C14</th><th scope=col>C15</th><th scope=col>C16</th><th scope=col>C17</th><th scope=col>C18</th><th scope=col>...</th><th scope=col>CI41</th><th scope=col>CI42</th><th scope=col>CI43</th><th scope=col>CI44</th><th scope=col>CI4</th><th scope=col>CI5</th><th scope=col>CI6</th><th scope=col>CI7</th><th scope=col>CI8</th><th scope=col>CI9</th></tr>\n",
       "\t<tr><th></th><th scope=col>&lt;chr&gt;</th><th scope=col>&lt;dbl&gt;</th><th scope=col>&lt;dbl&gt;</th><th scope=col>&lt;dbl&gt;</th><th scope=col>&lt;dbl&gt;</th><th scope=col>&lt;dbl&gt;</th><th scope=col>&lt;dbl&gt;</th><th scope=col>&lt;dbl&gt;</th><th scope=col>&lt;dbl&gt;</th><th scope=col>&lt;dbl&gt;</th><th scope=col>...</th><th scope=col>&lt;dbl&gt;</th><th scope=col>&lt;dbl&gt;</th><th scope=col>&lt;dbl&gt;</th><th scope=col>&lt;dbl&gt;</th><th scope=col>&lt;dbl&gt;</th><th scope=col>&lt;dbl&gt;</th><th scope=col>&lt;dbl&gt;</th><th scope=col>&lt;dbl&gt;</th><th scope=col>&lt;dbl&gt;</th><th scope=col>&lt;dbl&gt;</th></tr>\n",
       "</thead>\n",
       "<tbody>\n",
       "\t<tr><th scope=row>1</th><td>ZZZ3 </td><td> 9.694104</td><td> 8.204165</td><td> 9.569441</td><td> 6.659882</td><td> 5.449594</td><td> 8.611691</td><td> 6.886018</td><td> 5.389103</td><td> 5.336686</td><td>...</td><td>14.880933</td><td> 8.037799</td><td> 5.667441</td><td>11.80003</td><td> 6.659176</td><td> 5.785232</td><td> 8.749977</td><td>11.03076</td><td> 8.004704</td><td>10.07247</td></tr>\n",
       "\t<tr><th scope=row>2</th><td>ZZEF1</td><td>18.515927</td><td>18.296195</td><td>19.053030</td><td>18.403302</td><td>19.992571</td><td>18.649972</td><td>19.680564</td><td>20.438019</td><td>19.539639</td><td>...</td><td> 8.751292</td><td>17.115120</td><td>16.585566</td><td>16.60637</td><td>18.344102</td><td>21.665904</td><td>21.333761</td><td>20.21582</td><td>17.918223</td><td>13.92859</td></tr>\n",
       "</tbody>\n",
       "</table>\n"
      ],
      "text/latex": [
       "A data.frame: 2 x 75\n",
       "\\begin{tabular}{r|lllllllllllllllllllll}\n",
       "  & Gene\\_name & C10 & C11 & C12 & C13 & C14 & C15 & C16 & C17 & C18 & ... & CI41 & CI42 & CI43 & CI44 & CI4 & CI5 & CI6 & CI7 & CI8 & CI9\\\\\n",
       "  & <chr> & <dbl> & <dbl> & <dbl> & <dbl> & <dbl> & <dbl> & <dbl> & <dbl> & <dbl> & ... & <dbl> & <dbl> & <dbl> & <dbl> & <dbl> & <dbl> & <dbl> & <dbl> & <dbl> & <dbl>\\\\\n",
       "\\hline\n",
       "\t1 & ZZZ3  &  9.694104 &  8.204165 &  9.569441 &  6.659882 &  5.449594 &  8.611691 &  6.886018 &  5.389103 &  5.336686 & ... & 14.880933 &  8.037799 &  5.667441 & 11.80003 &  6.659176 &  5.785232 &  8.749977 & 11.03076 &  8.004704 & 10.07247\\\\\n",
       "\t2 & ZZEF1 & 18.515927 & 18.296195 & 19.053030 & 18.403302 & 19.992571 & 18.649972 & 19.680564 & 20.438019 & 19.539639 & ... &  8.751292 & 17.115120 & 16.585566 & 16.60637 & 18.344102 & 21.665904 & 21.333761 & 20.21582 & 17.918223 & 13.92859\\\\\n",
       "\\end{tabular}\n"
      ],
      "text/markdown": [
       "\n",
       "A data.frame: 2 x 75\n",
       "\n",
       "| <!--/--> | Gene_name &lt;chr&gt; | C10 &lt;dbl&gt; | C11 &lt;dbl&gt; | C12 &lt;dbl&gt; | C13 &lt;dbl&gt; | C14 &lt;dbl&gt; | C15 &lt;dbl&gt; | C16 &lt;dbl&gt; | C17 &lt;dbl&gt; | C18 &lt;dbl&gt; | ... ... | CI41 &lt;dbl&gt; | CI42 &lt;dbl&gt; | CI43 &lt;dbl&gt; | CI44 &lt;dbl&gt; | CI4 &lt;dbl&gt; | CI5 &lt;dbl&gt; | CI6 &lt;dbl&gt; | CI7 &lt;dbl&gt; | CI8 &lt;dbl&gt; | CI9 &lt;dbl&gt; |\n",
       "|---|---|---|---|---|---|---|---|---|---|---|---|---|---|---|---|---|---|---|---|---|---|\n",
       "| 1 | ZZZ3  |  9.694104 |  8.204165 |  9.569441 |  6.659882 |  5.449594 |  8.611691 |  6.886018 |  5.389103 |  5.336686 | ... | 14.880933 |  8.037799 |  5.667441 | 11.80003 |  6.659176 |  5.785232 |  8.749977 | 11.03076 |  8.004704 | 10.07247 |\n",
       "| 2 | ZZEF1 | 18.515927 | 18.296195 | 19.053030 | 18.403302 | 19.992571 | 18.649972 | 19.680564 | 20.438019 | 19.539639 | ... |  8.751292 | 17.115120 | 16.585566 | 16.60637 | 18.344102 | 21.665904 | 21.333761 | 20.21582 | 17.918223 | 13.92859 |\n",
       "\n"
      ],
      "text/plain": [
       "  Gene_name C10       C11       C12       C13       C14       C15      \n",
       "1 ZZZ3       9.694104  8.204165  9.569441  6.659882  5.449594  8.611691\n",
       "2 ZZEF1     18.515927 18.296195 19.053030 18.403302 19.992571 18.649972\n",
       "  C16       C17       C18       ... CI41      CI42      CI43      CI44    \n",
       "1  6.886018  5.389103  5.336686 ... 14.880933  8.037799  5.667441 11.80003\n",
       "2 19.680564 20.438019 19.539639 ...  8.751292 17.115120 16.585566 16.60637\n",
       "  CI4       CI5       CI6       CI7      CI8       CI9     \n",
       "1  6.659176  5.785232  8.749977 11.03076  8.004704 10.07247\n",
       "2 18.344102 21.665904 21.333761 20.21582 17.918223 13.92859"
      ]
     },
     "metadata": {},
     "output_type": "display_data"
    },
    {
     "data": {
      "text/html": [
       "<style>\n",
       ".list-inline {list-style: none; margin:0; padding: 0}\n",
       ".list-inline>li {display: inline-block}\n",
       ".list-inline>li:not(:last-child)::after {content: \"\\00b7\"; padding: 0 .5ex}\n",
       "</style>\n",
       "<ol class=list-inline><li>'ZNF480'</li><li>'ZNF354A'</li><li>'ZNF208'</li><li>'ZBED5'</li><li>'XRCC4'</li><li>'VCL'</li><li>'TXN'</li><li>'TLN1'</li><li>'TFEC'</li><li>'TAF7'</li><li>'SYCP2'</li><li>'SUMO4'</li><li>'STON2'</li><li>'SPON2'</li><li>'SPOCD1'</li><li>'SH3TC2'</li><li>'SH2D2A'</li><li>'SCN9A'</li><li>'SAMD9'</li><li>'RPL34'</li><li>'RASD2'</li><li>'PTPRS'</li><li>'PRF1'</li><li>'POLR2K'</li><li>'PITPNM2'</li><li>'PILRB'</li><li>'PER1'</li><li>'PDGFA'</li><li>'PCDH1'</li><li>'OSBPL7'</li><li>'OSBPL5'</li><li>'NID1'</li><li>'NCR3'</li><li>'MLC1'</li><li>'MAP1A'</li><li>'LSM3'</li><li>'LPAR6'</li><li>'LMNA'</li><li>'KIR2DL1'</li><li>'KIFC3'</li><li>'IL2RB'</li><li>'IGJ'</li><li>'HCFC1'</li><li>'GPR56'</li><li>'GNLY'</li><li>'GAPT'</li><li>'FSD1'</li><li>'FOSB'</li><li>'FLNA'</li><li>'FAM200B'</li><li>'F2R'</li><li>'EVI2A'</li><li>'ERBB2'</li><li>'DUSP2'</li><li>'DDIT4'</li><li>'DAB2'</li><li>'CSTA'</li><li>'CLSTN1'</li><li>'CLEC2B'</li><li>'CARNS1'</li><li>'CACNA2D2'</li><li>'BZRAP1'</li><li>'BMP6'</li><li>'BCL2A1'</li><li>'BAI2'</li><li>'ATP1A3'</li><li>'ATG2A'</li><li>'ARVCF'</li><li>'ARHGAP6'</li></ol>\n"
      ],
      "text/latex": [
       "\\begin{enumerate*}\n",
       "\\item 'ZNF480'\n",
       "\\item 'ZNF354A'\n",
       "\\item 'ZNF208'\n",
       "\\item 'ZBED5'\n",
       "\\item 'XRCC4'\n",
       "\\item 'VCL'\n",
       "\\item 'TXN'\n",
       "\\item 'TLN1'\n",
       "\\item 'TFEC'\n",
       "\\item 'TAF7'\n",
       "\\item 'SYCP2'\n",
       "\\item 'SUMO4'\n",
       "\\item 'STON2'\n",
       "\\item 'SPON2'\n",
       "\\item 'SPOCD1'\n",
       "\\item 'SH3TC2'\n",
       "\\item 'SH2D2A'\n",
       "\\item 'SCN9A'\n",
       "\\item 'SAMD9'\n",
       "\\item 'RPL34'\n",
       "\\item 'RASD2'\n",
       "\\item 'PTPRS'\n",
       "\\item 'PRF1'\n",
       "\\item 'POLR2K'\n",
       "\\item 'PITPNM2'\n",
       "\\item 'PILRB'\n",
       "\\item 'PER1'\n",
       "\\item 'PDGFA'\n",
       "\\item 'PCDH1'\n",
       "\\item 'OSBPL7'\n",
       "\\item 'OSBPL5'\n",
       "\\item 'NID1'\n",
       "\\item 'NCR3'\n",
       "\\item 'MLC1'\n",
       "\\item 'MAP1A'\n",
       "\\item 'LSM3'\n",
       "\\item 'LPAR6'\n",
       "\\item 'LMNA'\n",
       "\\item 'KIR2DL1'\n",
       "\\item 'KIFC3'\n",
       "\\item 'IL2RB'\n",
       "\\item 'IGJ'\n",
       "\\item 'HCFC1'\n",
       "\\item 'GPR56'\n",
       "\\item 'GNLY'\n",
       "\\item 'GAPT'\n",
       "\\item 'FSD1'\n",
       "\\item 'FOSB'\n",
       "\\item 'FLNA'\n",
       "\\item 'FAM200B'\n",
       "\\item 'F2R'\n",
       "\\item 'EVI2A'\n",
       "\\item 'ERBB2'\n",
       "\\item 'DUSP2'\n",
       "\\item 'DDIT4'\n",
       "\\item 'DAB2'\n",
       "\\item 'CSTA'\n",
       "\\item 'CLSTN1'\n",
       "\\item 'CLEC2B'\n",
       "\\item 'CARNS1'\n",
       "\\item 'CACNA2D2'\n",
       "\\item 'BZRAP1'\n",
       "\\item 'BMP6'\n",
       "\\item 'BCL2A1'\n",
       "\\item 'BAI2'\n",
       "\\item 'ATP1A3'\n",
       "\\item 'ATG2A'\n",
       "\\item 'ARVCF'\n",
       "\\item 'ARHGAP6'\n",
       "\\end{enumerate*}\n"
      ],
      "text/markdown": [
       "1. 'ZNF480'\n",
       "2. 'ZNF354A'\n",
       "3. 'ZNF208'\n",
       "4. 'ZBED5'\n",
       "5. 'XRCC4'\n",
       "6. 'VCL'\n",
       "7. 'TXN'\n",
       "8. 'TLN1'\n",
       "9. 'TFEC'\n",
       "10. 'TAF7'\n",
       "11. 'SYCP2'\n",
       "12. 'SUMO4'\n",
       "13. 'STON2'\n",
       "14. 'SPON2'\n",
       "15. 'SPOCD1'\n",
       "16. 'SH3TC2'\n",
       "17. 'SH2D2A'\n",
       "18. 'SCN9A'\n",
       "19. 'SAMD9'\n",
       "20. 'RPL34'\n",
       "21. 'RASD2'\n",
       "22. 'PTPRS'\n",
       "23. 'PRF1'\n",
       "24. 'POLR2K'\n",
       "25. 'PITPNM2'\n",
       "26. 'PILRB'\n",
       "27. 'PER1'\n",
       "28. 'PDGFA'\n",
       "29. 'PCDH1'\n",
       "30. 'OSBPL7'\n",
       "31. 'OSBPL5'\n",
       "32. 'NID1'\n",
       "33. 'NCR3'\n",
       "34. 'MLC1'\n",
       "35. 'MAP1A'\n",
       "36. 'LSM3'\n",
       "37. 'LPAR6'\n",
       "38. 'LMNA'\n",
       "39. 'KIR2DL1'\n",
       "40. 'KIFC3'\n",
       "41. 'IL2RB'\n",
       "42. 'IGJ'\n",
       "43. 'HCFC1'\n",
       "44. 'GPR56'\n",
       "45. 'GNLY'\n",
       "46. 'GAPT'\n",
       "47. 'FSD1'\n",
       "48. 'FOSB'\n",
       "49. 'FLNA'\n",
       "50. 'FAM200B'\n",
       "51. 'F2R'\n",
       "52. 'EVI2A'\n",
       "53. 'ERBB2'\n",
       "54. 'DUSP2'\n",
       "55. 'DDIT4'\n",
       "56. 'DAB2'\n",
       "57. 'CSTA'\n",
       "58. 'CLSTN1'\n",
       "59. 'CLEC2B'\n",
       "60. 'CARNS1'\n",
       "61. 'CACNA2D2'\n",
       "62. 'BZRAP1'\n",
       "63. 'BMP6'\n",
       "64. 'BCL2A1'\n",
       "65. 'BAI2'\n",
       "66. 'ATP1A3'\n",
       "67. 'ATG2A'\n",
       "68. 'ARVCF'\n",
       "69. 'ARHGAP6'\n",
       "\n",
       "\n"
      ],
      "text/plain": [
       " [1] \"ZNF480\"   \"ZNF354A\"  \"ZNF208\"   \"ZBED5\"    \"XRCC4\"    \"VCL\"     \n",
       " [7] \"TXN\"      \"TLN1\"     \"TFEC\"     \"TAF7\"     \"SYCP2\"    \"SUMO4\"   \n",
       "[13] \"STON2\"    \"SPON2\"    \"SPOCD1\"   \"SH3TC2\"   \"SH2D2A\"   \"SCN9A\"   \n",
       "[19] \"SAMD9\"    \"RPL34\"    \"RASD2\"    \"PTPRS\"    \"PRF1\"     \"POLR2K\"  \n",
       "[25] \"PITPNM2\"  \"PILRB\"    \"PER1\"     \"PDGFA\"    \"PCDH1\"    \"OSBPL7\"  \n",
       "[31] \"OSBPL5\"   \"NID1\"     \"NCR3\"     \"MLC1\"     \"MAP1A\"    \"LSM3\"    \n",
       "[37] \"LPAR6\"    \"LMNA\"     \"KIR2DL1\"  \"KIFC3\"    \"IL2RB\"    \"IGJ\"     \n",
       "[43] \"HCFC1\"    \"GPR56\"    \"GNLY\"     \"GAPT\"     \"FSD1\"     \"FOSB\"    \n",
       "[49] \"FLNA\"     \"FAM200B\"  \"F2R\"      \"EVI2A\"    \"ERBB2\"    \"DUSP2\"   \n",
       "[55] \"DDIT4\"    \"DAB2\"     \"CSTA\"     \"CLSTN1\"   \"CLEC2B\"   \"CARNS1\"  \n",
       "[61] \"CACNA2D2\" \"BZRAP1\"   \"BMP6\"     \"BCL2A1\"   \"BAI2\"     \"ATP1A3\"  \n",
       "[67] \"ATG2A\"    \"ARVCF\"    \"ARHGAP6\" "
      ]
     },
     "metadata": {},
     "output_type": "display_data"
    },
    {
     "data": {
      "text/html": [
       "<table class=\"dataframe\">\n",
       "<caption>A data.frame: 2 x 69</caption>\n",
       "<thead>\n",
       "\t<tr><th></th><th scope=col>ZNF480</th><th scope=col>ZNF354A</th><th scope=col>ZNF208</th><th scope=col>ZBED5</th><th scope=col>XRCC4</th><th scope=col>VCL</th><th scope=col>TXN</th><th scope=col>TLN1</th><th scope=col>TFEC</th><th scope=col>TAF7</th><th scope=col>...</th><th scope=col>CARNS1</th><th scope=col>CACNA2D2</th><th scope=col>BZRAP1</th><th scope=col>BMP6</th><th scope=col>BCL2A1</th><th scope=col>BAI2</th><th scope=col>ATP1A3</th><th scope=col>ATG2A</th><th scope=col>ARVCF</th><th scope=col>ARHGAP6</th></tr>\n",
       "\t<tr><th></th><th scope=col>&lt;dbl&gt;</th><th scope=col>&lt;dbl&gt;</th><th scope=col>&lt;dbl&gt;</th><th scope=col>&lt;dbl&gt;</th><th scope=col>&lt;dbl&gt;</th><th scope=col>&lt;dbl&gt;</th><th scope=col>&lt;dbl&gt;</th><th scope=col>&lt;dbl&gt;</th><th scope=col>&lt;dbl&gt;</th><th scope=col>&lt;dbl&gt;</th><th scope=col>...</th><th scope=col>&lt;dbl&gt;</th><th scope=col>&lt;dbl&gt;</th><th scope=col>&lt;dbl&gt;</th><th scope=col>&lt;dbl&gt;</th><th scope=col>&lt;dbl&gt;</th><th scope=col>&lt;dbl&gt;</th><th scope=col>&lt;dbl&gt;</th><th scope=col>&lt;dbl&gt;</th><th scope=col>&lt;dbl&gt;</th><th scope=col>&lt;dbl&gt;</th></tr>\n",
       "</thead>\n",
       "<tbody>\n",
       "\t<tr><th scope=row>C10</th><td>5.156136</td><td>5.125855</td><td>0.5392760</td><td>10.32473</td><td>2.339176</td><td>46.57527</td><td> 7.655688</td><td>101.2624</td><td>3.548980</td><td>14.05923</td><td>...</td><td>2.390462</td><td>2.652530</td><td>3.472469</td><td>5.936213</td><td>22.32717</td><td>0.2332996</td><td>0.8470702</td><td>13.04633</td><td>0.8559196</td><td>1.176161</td></tr>\n",
       "\t<tr><th scope=row>C11</th><td>5.341337</td><td>6.072094</td><td>0.3636642</td><td>10.90038</td><td>2.871262</td><td>51.53112</td><td>17.794071</td><td>101.7559</td><td>5.233879</td><td>18.91710</td><td>...</td><td>2.103993</td><td>4.407767</td><td>5.835689</td><td>3.418444</td><td>32.12134</td><td>0.1628312</td><td>0.9373913</td><td>15.02437</td><td>0.8992942</td><td>1.233943</td></tr>\n",
       "</tbody>\n",
       "</table>\n"
      ],
      "text/latex": [
       "A data.frame: 2 x 69\n",
       "\\begin{tabular}{r|lllllllllllllllllllll}\n",
       "  & ZNF480 & ZNF354A & ZNF208 & ZBED5 & XRCC4 & VCL & TXN & TLN1 & TFEC & TAF7 & ... & CARNS1 & CACNA2D2 & BZRAP1 & BMP6 & BCL2A1 & BAI2 & ATP1A3 & ATG2A & ARVCF & ARHGAP6\\\\\n",
       "  & <dbl> & <dbl> & <dbl> & <dbl> & <dbl> & <dbl> & <dbl> & <dbl> & <dbl> & <dbl> & ... & <dbl> & <dbl> & <dbl> & <dbl> & <dbl> & <dbl> & <dbl> & <dbl> & <dbl> & <dbl>\\\\\n",
       "\\hline\n",
       "\tC10 & 5.156136 & 5.125855 & 0.5392760 & 10.32473 & 2.339176 & 46.57527 &  7.655688 & 101.2624 & 3.548980 & 14.05923 & ... & 2.390462 & 2.652530 & 3.472469 & 5.936213 & 22.32717 & 0.2332996 & 0.8470702 & 13.04633 & 0.8559196 & 1.176161\\\\\n",
       "\tC11 & 5.341337 & 6.072094 & 0.3636642 & 10.90038 & 2.871262 & 51.53112 & 17.794071 & 101.7559 & 5.233879 & 18.91710 & ... & 2.103993 & 4.407767 & 5.835689 & 3.418444 & 32.12134 & 0.1628312 & 0.9373913 & 15.02437 & 0.8992942 & 1.233943\\\\\n",
       "\\end{tabular}\n"
      ],
      "text/markdown": [
       "\n",
       "A data.frame: 2 x 69\n",
       "\n",
       "| <!--/--> | ZNF480 &lt;dbl&gt; | ZNF354A &lt;dbl&gt; | ZNF208 &lt;dbl&gt; | ZBED5 &lt;dbl&gt; | XRCC4 &lt;dbl&gt; | VCL &lt;dbl&gt; | TXN &lt;dbl&gt; | TLN1 &lt;dbl&gt; | TFEC &lt;dbl&gt; | TAF7 &lt;dbl&gt; | ... ... | CARNS1 &lt;dbl&gt; | CACNA2D2 &lt;dbl&gt; | BZRAP1 &lt;dbl&gt; | BMP6 &lt;dbl&gt; | BCL2A1 &lt;dbl&gt; | BAI2 &lt;dbl&gt; | ATP1A3 &lt;dbl&gt; | ATG2A &lt;dbl&gt; | ARVCF &lt;dbl&gt; | ARHGAP6 &lt;dbl&gt; |\n",
       "|---|---|---|---|---|---|---|---|---|---|---|---|---|---|---|---|---|---|---|---|---|---|\n",
       "| C10 | 5.156136 | 5.125855 | 0.5392760 | 10.32473 | 2.339176 | 46.57527 |  7.655688 | 101.2624 | 3.548980 | 14.05923 | ... | 2.390462 | 2.652530 | 3.472469 | 5.936213 | 22.32717 | 0.2332996 | 0.8470702 | 13.04633 | 0.8559196 | 1.176161 |\n",
       "| C11 | 5.341337 | 6.072094 | 0.3636642 | 10.90038 | 2.871262 | 51.53112 | 17.794071 | 101.7559 | 5.233879 | 18.91710 | ... | 2.103993 | 4.407767 | 5.835689 | 3.418444 | 32.12134 | 0.1628312 | 0.9373913 | 15.02437 | 0.8992942 | 1.233943 |\n",
       "\n"
      ],
      "text/plain": [
       "    ZNF480   ZNF354A  ZNF208    ZBED5    XRCC4    VCL      TXN       TLN1    \n",
       "C10 5.156136 5.125855 0.5392760 10.32473 2.339176 46.57527  7.655688 101.2624\n",
       "C11 5.341337 6.072094 0.3636642 10.90038 2.871262 51.53112 17.794071 101.7559\n",
       "    TFEC     TAF7     ... CARNS1   CACNA2D2 BZRAP1   BMP6     BCL2A1  \n",
       "C10 3.548980 14.05923 ... 2.390462 2.652530 3.472469 5.936213 22.32717\n",
       "C11 5.233879 18.91710 ... 2.103993 4.407767 5.835689 3.418444 32.12134\n",
       "    BAI2      ATP1A3    ATG2A    ARVCF     ARHGAP6 \n",
       "C10 0.2332996 0.8470702 13.04633 0.8559196 1.176161\n",
       "C11 0.1628312 0.9373913 15.02437 0.8992942 1.233943"
      ]
     },
     "metadata": {},
     "output_type": "display_data"
    }
   ],
   "source": [
    "library(openxlsx)\n",
    "data<- read.xlsx(\"./res/CI-CTR/bulk/74-mRNA_FPKM.genename.xlsx\", sheet = 1)\n",
    "library(dplyr)\n",
    "\n",
    "overlap = read.table('./overlap.txt',header =T)\n",
    "\n",
    "data = data[!duplicated(data$Gene_name),]\n",
    "head(data,2)\n",
    "expr = data %>%  tibble::remove_rownames() %>% filter(Gene_name %in% overlap$GeneName) %>%  \n",
    "tibble::column_to_rownames(.,'Gene_name') %>% t() %>% as.data.frame()\n",
    "Group = c(rep('con',31),rep('CI',43))\n",
    "\n",
    "\n",
    "\n",
    "colnames(expr) = gsub('-','.',colnames(expr))\n",
    "\n",
    "colnames(expr)\n",
    "\n",
    "head(expr,2)\n",
    "\n",
    "Type = ifelse(Group == 'CI',1,0)\n",
    "\n",
    "nn = cbind(Type,expr)\n",
    "\n",
    "\n",
    "\n",
    "#save(nn,file = 'data.new.rda')"
   ]
  },
  {
   "cell_type": "code",
   "execution_count": 3,
   "id": "ab65721e-6b86-41ef-a50f-a498981a0e4c",
   "metadata": {},
   "outputs": [],
   "source": [
    "x = as.matrix(expr)\n",
    "y = Type"
   ]
  },
  {
   "cell_type": "code",
   "execution_count": 4,
   "id": "169ffec6-1642-4189-bf9d-15da56264520",
   "metadata": {},
   "outputs": [
    {
     "name": "stderr",
     "output_type": "stream",
     "text": [
      "Warning message:\n",
      "\"package 'randomForest' was built under R version 4.2.3\"\n",
      "randomForest 4.7-1.1\n",
      "\n",
      "Type rfNews() to see new features/changes/bug fixes.\n",
      "\n",
      "\n",
      "Attaching package: 'randomForest'\n",
      "\n",
      "\n",
      "The following object is masked from 'package:dplyr':\n",
      "\n",
      "    combine\n",
      "\n",
      "\n"
     ]
    }
   ],
   "source": [
    "library(randomForest)"
   ]
  },
  {
   "cell_type": "code",
   "execution_count": 5,
   "id": "b493e28e-80c5-414f-b4ac-3e76ffb4fe80",
   "metadata": {},
   "outputs": [],
   "source": [
    "options(repr.plot.width = 6)"
   ]
  },
  {
   "cell_type": "code",
   "execution_count": 6,
   "id": "8ec7bf55-3068-4fae-8580-cde38eae11ca",
   "metadata": {},
   "outputs": [],
   "source": [
    "set.seed(101)"
   ]
  },
  {
   "cell_type": "code",
   "execution_count": 7,
   "id": "6ef597cf-88f2-4c9c-9835-f472ef01bdd3",
   "metadata": {},
   "outputs": [
    {
     "data": {
      "text/html": [
       "<style>\n",
       ".list-inline {list-style: none; margin:0; padding: 0}\n",
       ".list-inline>li {display: inline-block}\n",
       ".list-inline>li:not(:last-child)::after {content: \"\\00b7\"; padding: 0 .5ex}\n",
       "</style>\n",
       "<ol class=list-inline><li>74</li><li>69</li></ol>\n"
      ],
      "text/latex": [
       "\\begin{enumerate*}\n",
       "\\item 74\n",
       "\\item 69\n",
       "\\end{enumerate*}\n"
      ],
      "text/markdown": [
       "1. 74\n",
       "2. 69\n",
       "\n",
       "\n"
      ],
      "text/plain": [
       "[1] 74 69"
      ]
     },
     "metadata": {},
     "output_type": "display_data"
    }
   ],
   "source": [
    "dim(expr)"
   ]
  },
  {
   "cell_type": "code",
   "execution_count": 8,
   "id": "dd25da7b-009d-46a7-9e48-0fbd6e6a1e6c",
   "metadata": {
    "scrolled": true
   },
   "outputs": [],
   "source": [
    "rf = randomForest(as.factor(y)~.,data = x,ntree =2000,important=TRUE,proximity=TRUE)"
   ]
  },
  {
   "cell_type": "code",
   "execution_count": 9,
   "id": "1b74320e-150b-4207-b95d-5aa4a8ab847c",
   "metadata": {},
   "outputs": [
    {
     "data": {
      "image/png": "[encoded data removed]",
      "text/plain": [
       "Plot with title \"rf\""
      ]
     },
     "metadata": {
      "image/png": {
       "height": 420,
       "width": 360
      }
     },
     "output_type": "display_data"
    }
   ],
   "source": [
    "plot(rf)"
   ]
  },
  {
   "cell_type": "code",
   "execution_count": 10,
   "id": "b7ea5ec0-bed9-4c41-abb4-4c8652566413",
   "metadata": {},
   "outputs": [
    {
     "data": {
      "text/html": [
       "<strong>png:</strong> 2"
      ],
      "text/latex": [
       "\\textbf{png:} 2"
      ],
      "text/markdown": [
       "**png:** 2"
      ],
      "text/plain": [
       "png \n",
       "  2 "
      ]
     },
     "metadata": {},
     "output_type": "display_data"
    }
   ],
   "source": [
    "pdf('figure2.forest.pdf',height = 6,width = 6)\n",
    "plot(rf)\n",
    "dev.off()"
   ]
  },
  {
   "cell_type": "code",
   "execution_count": 11,
   "id": "7767331a-f20a-4eda-94b9-4a7c991c20fc",
   "metadata": {},
   "outputs": [],
   "source": [
    "trees = which.min(rf$err.rate[,1])"
   ]
  },
  {
   "cell_type": "code",
   "execution_count": 12,
   "id": "acb3c396-1756-4cee-9427-27cd6c654924",
   "metadata": {},
   "outputs": [],
   "source": [
    "rf = randomForest(as.factor(y)~.,data = x,ntree =trees,important=TRUE,proximity=TRUE)"
   ]
  },
  {
   "cell_type": "code",
   "execution_count": 13,
   "id": "54d38c6c-84d5-4183-b154-e8b9c2e3e988",
   "metadata": {},
   "outputs": [],
   "source": [
    "importance = importance(rf)"
   ]
  },
  {
   "cell_type": "code",
   "execution_count": 14,
   "id": "e6baa3b4-47cd-4b72-b717-ca809a002dc2",
   "metadata": {},
   "outputs": [
    {
     "data": {
      "text/plain": [
       "\n",
       "Call:\n",
       " randomForest(formula = as.factor(y) ~ ., data = x, ntree = trees,      important = TRUE, proximity = TRUE) \n",
       "               Type of random forest: classification\n",
       "                     Number of trees: 23\n",
       "No. of variables tried at each split: 8\n",
       "\n",
       "        OOB estimate of  error rate: 24.32%\n",
       "Confusion matrix:\n",
       "   0  1 class.error\n",
       "0 22  9   0.2903226\n",
       "1  9 34   0.2093023"
      ]
     },
     "metadata": {},
     "output_type": "display_data"
    }
   ],
   "source": [
    "rf"
   ]
  },
  {
   "cell_type": "code",
   "execution_count": 15,
   "id": "30c391f0-d3b7-4156-8ee9-72ea910c3b1c",
   "metadata": {},
   "outputs": [
    {
     "data": {
      "text/html": [
       "<strong>png:</strong> 2"
      ],
      "text/latex": [
       "\\textbf{png:} 2"
      ],
      "text/markdown": [
       "**png:** 2"
      ],
      "text/plain": [
       "png \n",
       "  2 "
      ]
     },
     "metadata": {},
     "output_type": "display_data"
    }
   ],
   "source": [
    "pdf('forest2.pdf',height = 6,width = 4)\n",
    "varImpPlot(rf,main = '')\n",
    "dev.off()"
   ]
  },
  {
   "cell_type": "code",
   "execution_count": 16,
   "id": "5266a68b-0af6-43ba-9c5e-ccd5274e258e",
   "metadata": {},
   "outputs": [],
   "source": [
    "options(repr.plot.width = 4,repr.plot.height = 6)"
   ]
  },
  {
   "cell_type": "code",
   "execution_count": 17,
   "id": "fa486741-b1ff-4ff1-94a4-a7e2d11ec6b6",
   "metadata": {},
   "outputs": [
    {
     "data": {
      "image/png": "[encoded data removed]",
      "text/plain": [
       "Plot with title \"\""
      ]
     },
     "metadata": {
      "image/png": {
       "height": 360,
       "width": 240
      }
     },
     "output_type": "display_data"
    }
   ],
   "source": [
    "varImpPlot(rf,main = '')"
   ]
  },
  {
   "cell_type": "code",
   "execution_count": 18,
   "id": "8e6e85d1-8986-4b0c-988a-c4da8658c182",
   "metadata": {},
   "outputs": [],
   "source": [
    "rfGenes=importance[order(importance[, \"MeanDecreaseGini\"], decreasing  = TRUE),] #重要性评分大于2的基因"
   ]
  },
  {
   "cell_type": "code",
   "execution_count": 19,
   "id": "810d5669-9db3-4956-b629-6ab2df7fb760",
   "metadata": {},
   "outputs": [
    {
     "data": {
      "text/html": [
       "<style>\n",
       ".list-inline {list-style: none; margin:0; padding: 0}\n",
       ".list-inline>li {display: inline-block}\n",
       ".list-inline>li:not(:last-child)::after {content: \"\\00b7\"; padding: 0 .5ex}\n",
       "</style>\n",
       "<ol class=list-inline><li>'FLNA'</li><li>'OSBPL7'</li><li>'PRF1'</li><li>'FAM200B'</li><li>'PILRB'</li><li>'SAMD9'</li><li>'SH3TC2'</li><li>'ATG2A'</li><li>'PITPNM2'</li><li>'F2R'</li><li>'BCL2A1'</li><li>'VCL'</li><li>'IGJ'</li><li>'STON2'</li><li>'TAF7'</li><li>'CLSTN1'</li><li>'DAB2'</li><li>'ARVCF'</li><li>'PDGFA'</li><li>'HCFC1'</li><li>'TXN'</li><li>'ARHGAP6'</li><li>'CLEC2B'</li><li>'NCR3'</li><li>'LMNA'</li><li>'ZNF354A'</li><li>'KIR2DL1'</li><li>'MAP1A'</li><li>'LPAR6'</li><li>'ZNF208'</li><li>'ZNF480'</li><li>'DUSP2'</li><li>'BZRAP1'</li><li>'PCDH1'</li><li>'SYCP2'</li><li>'GNLY'</li><li>'ATP1A3'</li><li>'CSTA'</li><li>'KIFC3'</li><li>'PTPRS'</li><li>'POLR2K'</li><li>'ERBB2'</li><li>'BMP6'</li><li>'TFEC'</li><li>'SCN9A'</li><li>'DDIT4'</li><li>'SUMO4'</li><li>'XRCC4'</li><li>'SPOCD1'</li><li>'CACNA2D2'</li><li>'IL2RB'</li><li>'ZBED5'</li><li>'TLN1'</li><li>'SPON2'</li><li>'SH2D2A'</li><li>'RPL34'</li><li>'RASD2'</li><li>'PER1'</li><li>'OSBPL5'</li><li>'NID1'</li><li>'MLC1'</li><li>'LSM3'</li><li>'GPR56'</li><li>'GAPT'</li><li>'FSD1'</li><li>'FOSB'</li><li>'EVI2A'</li><li>'CARNS1'</li><li>'BAI2'</li></ol>\n"
      ],
      "text/latex": [
       "\\begin{enumerate*}\n",
       "\\item 'FLNA'\n",
       "\\item 'OSBPL7'\n",
       "\\item 'PRF1'\n",
       "\\item 'FAM200B'\n",
       "\\item 'PILRB'\n",
       "\\item 'SAMD9'\n",
       "\\item 'SH3TC2'\n",
       "\\item 'ATG2A'\n",
       "\\item 'PITPNM2'\n",
       "\\item 'F2R'\n",
       "\\item 'BCL2A1'\n",
       "\\item 'VCL'\n",
       "\\item 'IGJ'\n",
       "\\item 'STON2'\n",
       "\\item 'TAF7'\n",
       "\\item 'CLSTN1'\n",
       "\\item 'DAB2'\n",
       "\\item 'ARVCF'\n",
       "\\item 'PDGFA'\n",
       "\\item 'HCFC1'\n",
       "\\item 'TXN'\n",
       "\\item 'ARHGAP6'\n",
       "\\item 'CLEC2B'\n",
       "\\item 'NCR3'\n",
       "\\item 'LMNA'\n",
       "\\item 'ZNF354A'\n",
       "\\item 'KIR2DL1'\n",
       "\\item 'MAP1A'\n",
       "\\item 'LPAR6'\n",
       "\\item 'ZNF208'\n",
       "\\item 'ZNF480'\n",
       "\\item 'DUSP2'\n",
       "\\item 'BZRAP1'\n",
       "\\item 'PCDH1'\n",
       "\\item 'SYCP2'\n",
       "\\item 'GNLY'\n",
       "\\item 'ATP1A3'\n",
       "\\item 'CSTA'\n",
       "\\item 'KIFC3'\n",
       "\\item 'PTPRS'\n",
       "\\item 'POLR2K'\n",
       "\\item 'ERBB2'\n",
       "\\item 'BMP6'\n",
       "\\item 'TFEC'\n",
       "\\item 'SCN9A'\n",
       "\\item 'DDIT4'\n",
       "\\item 'SUMO4'\n",
       "\\item 'XRCC4'\n",
       "\\item 'SPOCD1'\n",
       "\\item 'CACNA2D2'\n",
       "\\item 'IL2RB'\n",
       "\\item 'ZBED5'\n",
       "\\item 'TLN1'\n",
       "\\item 'SPON2'\n",
       "\\item 'SH2D2A'\n",
       "\\item 'RPL34'\n",
       "\\item 'RASD2'\n",
       "\\item 'PER1'\n",
       "\\item 'OSBPL5'\n",
       "\\item 'NID1'\n",
       "\\item 'MLC1'\n",
       "\\item 'LSM3'\n",
       "\\item 'GPR56'\n",
       "\\item 'GAPT'\n",
       "\\item 'FSD1'\n",
       "\\item 'FOSB'\n",
       "\\item 'EVI2A'\n",
       "\\item 'CARNS1'\n",
       "\\item 'BAI2'\n",
       "\\end{enumerate*}\n"
      ],
      "text/markdown": [
       "1. 'FLNA'\n",
       "2. 'OSBPL7'\n",
       "3. 'PRF1'\n",
       "4. 'FAM200B'\n",
       "5. 'PILRB'\n",
       "6. 'SAMD9'\n",
       "7. 'SH3TC2'\n",
       "8. 'ATG2A'\n",
       "9. 'PITPNM2'\n",
       "10. 'F2R'\n",
       "11. 'BCL2A1'\n",
       "12. 'VCL'\n",
       "13. 'IGJ'\n",
       "14. 'STON2'\n",
       "15. 'TAF7'\n",
       "16. 'CLSTN1'\n",
       "17. 'DAB2'\n",
       "18. 'ARVCF'\n",
       "19. 'PDGFA'\n",
       "20. 'HCFC1'\n",
       "21. 'TXN'\n",
       "22. 'ARHGAP6'\n",
       "23. 'CLEC2B'\n",
       "24. 'NCR3'\n",
       "25. 'LMNA'\n",
       "26. 'ZNF354A'\n",
       "27. 'KIR2DL1'\n",
       "28. 'MAP1A'\n",
       "29. 'LPAR6'\n",
       "30. 'ZNF208'\n",
       "31. 'ZNF480'\n",
       "32. 'DUSP2'\n",
       "33. 'BZRAP1'\n",
       "34. 'PCDH1'\n",
       "35. 'SYCP2'\n",
       "36. 'GNLY'\n",
       "37. 'ATP1A3'\n",
       "38. 'CSTA'\n",
       "39. 'KIFC3'\n",
       "40. 'PTPRS'\n",
       "41. 'POLR2K'\n",
       "42. 'ERBB2'\n",
       "43. 'BMP6'\n",
       "44. 'TFEC'\n",
       "45. 'SCN9A'\n",
       "46. 'DDIT4'\n",
       "47. 'SUMO4'\n",
       "48. 'XRCC4'\n",
       "49. 'SPOCD1'\n",
       "50. 'CACNA2D2'\n",
       "51. 'IL2RB'\n",
       "52. 'ZBED5'\n",
       "53. 'TLN1'\n",
       "54. 'SPON2'\n",
       "55. 'SH2D2A'\n",
       "56. 'RPL34'\n",
       "57. 'RASD2'\n",
       "58. 'PER1'\n",
       "59. 'OSBPL5'\n",
       "60. 'NID1'\n",
       "61. 'MLC1'\n",
       "62. 'LSM3'\n",
       "63. 'GPR56'\n",
       "64. 'GAPT'\n",
       "65. 'FSD1'\n",
       "66. 'FOSB'\n",
       "67. 'EVI2A'\n",
       "68. 'CARNS1'\n",
       "69. 'BAI2'\n",
       "\n",
       "\n"
      ],
      "text/plain": [
       " [1] \"FLNA\"     \"OSBPL7\"   \"PRF1\"     \"FAM200B\"  \"PILRB\"    \"SAMD9\"   \n",
       " [7] \"SH3TC2\"   \"ATG2A\"    \"PITPNM2\"  \"F2R\"      \"BCL2A1\"   \"VCL\"     \n",
       "[13] \"IGJ\"      \"STON2\"    \"TAF7\"     \"CLSTN1\"   \"DAB2\"     \"ARVCF\"   \n",
       "[19] \"PDGFA\"    \"HCFC1\"    \"TXN\"      \"ARHGAP6\"  \"CLEC2B\"   \"NCR3\"    \n",
       "[25] \"LMNA\"     \"ZNF354A\"  \"KIR2DL1\"  \"MAP1A\"    \"LPAR6\"    \"ZNF208\"  \n",
       "[31] \"ZNF480\"   \"DUSP2\"    \"BZRAP1\"   \"PCDH1\"    \"SYCP2\"    \"GNLY\"    \n",
       "[37] \"ATP1A3\"   \"CSTA\"     \"KIFC3\"    \"PTPRS\"    \"POLR2K\"   \"ERBB2\"   \n",
       "[43] \"BMP6\"     \"TFEC\"     \"SCN9A\"    \"DDIT4\"    \"SUMO4\"    \"XRCC4\"   \n",
       "[49] \"SPOCD1\"   \"CACNA2D2\" \"IL2RB\"    \"ZBED5\"    \"TLN1\"     \"SPON2\"   \n",
       "[55] \"SH2D2A\"   \"RPL34\"    \"RASD2\"    \"PER1\"     \"OSBPL5\"   \"NID1\"    \n",
       "[61] \"MLC1\"     \"LSM3\"     \"GPR56\"    \"GAPT\"     \"FSD1\"     \"FOSB\"    \n",
       "[67] \"EVI2A\"    \"CARNS1\"   \"BAI2\"    "
      ]
     },
     "metadata": {},
     "output_type": "display_data"
    }
   ],
   "source": [
    "names(rfGenes)"
   ]
  },
  {
   "cell_type": "code",
   "execution_count": 20,
   "id": "5e68dfae-351c-473e-9510-77c914e6ba07",
   "metadata": {},
   "outputs": [],
   "source": [
    "# rfGenes=names(rfGenes[rfGenes>30]) \n",
    "# write.table(rfGenes,file=\"rfGenes.txt\",sep=\"\\t\",quote=F,col.names=F,row.names=F) #输出表达量\n",
    "\n",
    "# sigExp=expr[rfGenes,]\n",
    "# write.table(data.frame(ID=rownames(sigExp),sigExp),file=\"rfGeneExp.txt\",sep=\"\\t\",quote=F,col.names=T,row.names=F) "
   ]
  },
  {
   "cell_type": "markdown",
   "id": "af18f8e6-2aaf-42ec-a432-c763909b210d",
   "metadata": {},
   "source": [
    "### svm"
   ]
  },
  {
   "cell_type": "code",
   "execution_count": 21,
   "id": "fbf987a1-8c99-4b6e-bf25-3f1b55c17fb0",
   "metadata": {},
   "outputs": [],
   "source": [
    "# library(tidyverse)\n",
    "# library(glmnet)\n",
    "# library(VennDiagram)\n",
    "# library(e1071)\n",
    "# library(caret)\n",
    "# library(randomForest)\n",
    "\n",
    "# y=as.numeric(as.factor(Type))\n",
    "\n",
    "# y\n",
    "\n",
    "\n",
    "\n",
    "# library(future)\n",
    "# plan(\"multisession\",workers=30)\n",
    "\n",
    "# set.seed(1)\n",
    "# rfeControl = rfeControl(functions = caretFuncs,\n",
    "#                         method = \"cv\", # 默认自助法重采样 boot\n",
    "#                         saveDetails = T, # 保存预测值和变量重要性\n",
    "#                         number = 5, # 重抽样次数\n",
    "#                         allowParallel = T # 允许多线程，用这个之前你要先准备好多线程！\n",
    "#                         )\n",
    "\n",
    "# Profile=rfe(x=x,y=y,sizes = c(1:10),\n",
    "#     rfeControl =  rfeControl,\n",
    "#     methods=\"svmRadial\")\n",
    "\n",
    "# pdf(file=\"SVM-RFE.pdf\", width=6, height=5.5)\n",
    "# par(las=1)\n",
    "# x= Profile$results$Variables \n",
    "# y =Profile$results$RMSE\n",
    "# plot(x, y, xlab=\"Variables\", ylab=\"RMSE (Cross-Validation)\", col=\"darkgreen\") \n",
    "# lines(x, y, col=\"darkgreen\")\n",
    "# wmin=which.min(y) \n",
    "# wmin.x=x[wmin] \n",
    "# wmin.y=y[wmin]\n",
    "# points(wmin.x, wmin.y, col=\"blue\", pch=16)\n",
    "# text(wmin.x, wmin.y, paste0('N=', wmin.x), pos=2, col=2)\n",
    "# dev.off()\n",
    "\n",
    "# par(las=1)\n",
    "# x= Profile$results$Variables \n",
    "# y =Profile$results$RMSE\n",
    "# plot(x, y, xlab=\"Variables\", ylab=\"RMSE (Cross-Validation)\", col=\"darkgreen\") \n",
    "# lines(x, y, col=\"darkgreen\")\n",
    "# wmin=which.min(y) \n",
    "# wmin.x=x[wmin] \n",
    "# wmin.y=y[wmin]\n",
    "# points(wmin.x, wmin.y, col=\"blue\", pch=16)\n",
    "# text(wmin.x, wmin.y, paste0('N=', wmin.x), pos=2, col=2)\n",
    "\n",
    "# #输出\n",
    "# featureGenes = Profile$optVariables\n",
    "# write.table(file=\"SVM-RFE.gene.txt\",featureGenes,sep=\"\\t\",quote=F,row.names=F,col.names=F) #表达矩阵 \n",
    "\n",
    "# featureGenes"
   ]
  },
  {
   "cell_type": "markdown",
   "id": "80a4188a-f4ee-4fc6-8479-542b5b97f5a7",
   "metadata": {},
   "source": [
    "### Boruta"
   ]
  },
  {
   "cell_type": "code",
   "execution_count": 22,
   "id": "c3d5dd8e-c054-4893-826f-15808121999e",
   "metadata": {},
   "outputs": [],
   "source": [
    "library(Boruta)"
   ]
  },
  {
   "cell_type": "code",
   "execution_count": 23,
   "id": "bfef83bb-f0df-4544-88ff-ac95865a034a",
   "metadata": {},
   "outputs": [],
   "source": [
    "set.seed(1)\n",
    "boruta <- Boruta(x=x, y=y, pValue=0.05, mcAdj=T, \n",
    "       maxRuns=300)"
   ]
  },
  {
   "cell_type": "code",
   "execution_count": 24,
   "id": "874bd68a-9461-4cb0-a659-3b68b63dbf4a",
   "metadata": {},
   "outputs": [
    {
     "data": {
      "text/plain": [
       "Boruta performed 299 iterations in 18.6625 secs.\n",
       " 30 attributes confirmed important: ARHGAP6, ARVCF, ATG2A, BZRAP1,\n",
       "CLSTN1 and 25 more;\n",
       " 33 attributes confirmed unimportant: ATP1A3, BAI2, BCL2A1, BMP6,\n",
       "CACNA2D2 and 28 more;\n",
       " 6 tentative attributes left: IGJ, MLC1, SH2D2A, ZNF208, ZNF354A and 1\n",
       "more;"
      ]
     },
     "metadata": {},
     "output_type": "display_data"
    }
   ],
   "source": [
    "boruta"
   ]
  },
  {
   "cell_type": "code",
   "execution_count": 25,
   "id": "e303931f-31a8-455d-a409-9279e159919d",
   "metadata": {},
   "outputs": [
    {
     "data": {
      "text/plain": [
       "\n",
       "Tentative Confirmed  Rejected \n",
       "        6        30        33 "
      ]
     },
     "metadata": {},
     "output_type": "display_data"
    }
   ],
   "source": [
    "table(boruta$finalDecision)"
   ]
  },
  {
   "cell_type": "code",
   "execution_count": 26,
   "id": "9d8e6501-7065-40d6-803c-8903eb4be86b",
   "metadata": {},
   "outputs": [
    {
     "data": {
      "text/html": [
       "<style>\n",
       ".dl-inline {width: auto; margin:0; padding: 0}\n",
       ".dl-inline>dt, .dl-inline>dd {float: none; width: auto; display: inline-block}\n",
       ".dl-inline>dt::after {content: \":\\0020\"; padding-right: .5ex}\n",
       ".dl-inline>dt:not(:first-of-type) {padding-left: .5ex}\n",
       "</style><dl class=dl-inline><dt>ZNF480</dt><dd>Tentative</dd><dt>ZNF354A</dt><dd>Tentative</dd><dt>ZNF208</dt><dd>Tentative</dd><dt>ZBED5</dt><dd>Rejected</dd><dt>XRCC4</dt><dd>Rejected</dd><dt>VCL</dt><dd>Confirmed</dd><dt>TXN</dt><dd>Confirmed</dd><dt>TLN1</dt><dd>Confirmed</dd><dt>TFEC</dt><dd>Rejected</dd><dt>TAF7</dt><dd>Rejected</dd><dt>SYCP2</dt><dd>Rejected</dd><dt>SUMO4</dt><dd>Confirmed</dd><dt>STON2</dt><dd>Confirmed</dd><dt>SPON2</dt><dd>Rejected</dd><dt>SPOCD1</dt><dd>Rejected</dd><dt>SH3TC2</dt><dd>Confirmed</dd><dt>SH2D2A</dt><dd>Tentative</dd><dt>SCN9A</dt><dd>Confirmed</dd><dt>SAMD9</dt><dd>Confirmed</dd><dt>RPL34</dt><dd>Rejected</dd><dt>RASD2</dt><dd>Rejected</dd><dt>PTPRS</dt><dd>Confirmed</dd><dt>PRF1</dt><dd>Confirmed</dd><dt>POLR2K</dt><dd>Rejected</dd><dt>PITPNM2</dt><dd>Confirmed</dd><dt>PILRB</dt><dd>Confirmed</dd><dt>PER1</dt><dd>Confirmed</dd><dt>PDGFA</dt><dd>Confirmed</dd><dt>PCDH1</dt><dd>Rejected</dd><dt>OSBPL7</dt><dd>Confirmed</dd><dt>OSBPL5</dt><dd>Rejected</dd><dt>NID1</dt><dd>Rejected</dd><dt>NCR3</dt><dd>Rejected</dd><dt>MLC1</dt><dd>Tentative</dd><dt>MAP1A</dt><dd>Confirmed</dd><dt>LSM3</dt><dd>Rejected</dd><dt>LPAR6</dt><dd>Rejected</dd><dt>LMNA</dt><dd>Rejected</dd><dt>KIR2DL1</dt><dd>Confirmed</dd><dt>KIFC3</dt><dd>Confirmed</dd><dt>IL2RB</dt><dd>Rejected</dd><dt>IGJ</dt><dd>Tentative</dd><dt>HCFC1</dt><dd>Confirmed</dd><dt>GPR56</dt><dd>Confirmed</dd><dt>GNLY</dt><dd>Rejected</dd><dt>GAPT</dt><dd>Rejected</dd><dt>FSD1</dt><dd>Rejected</dd><dt>FOSB</dt><dd>Rejected</dd><dt>FLNA</dt><dd>Confirmed</dd><dt>FAM200B</dt><dd>Confirmed</dd><dt>F2R</dt><dd>Confirmed</dd><dt>EVI2A</dt><dd>Confirmed</dd><dt>ERBB2</dt><dd>Rejected</dd><dt>DUSP2</dt><dd>Rejected</dd><dt>DDIT4</dt><dd>Rejected</dd><dt>DAB2</dt><dd>Confirmed</dd><dt>CSTA</dt><dd>Rejected</dd><dt>CLSTN1</dt><dd>Confirmed</dd><dt>CLEC2B</dt><dd>Rejected</dd><dt>CARNS1</dt><dd>Rejected</dd><dt>CACNA2D2</dt><dd>Rejected</dd><dt>BZRAP1</dt><dd>Confirmed</dd><dt>BMP6</dt><dd>Rejected</dd><dt>BCL2A1</dt><dd>Rejected</dd><dt>BAI2</dt><dd>Rejected</dd><dt>ATP1A3</dt><dd>Rejected</dd><dt>ATG2A</dt><dd>Confirmed</dd><dt>ARVCF</dt><dd>Confirmed</dd><dt>ARHGAP6</dt><dd>Confirmed</dd></dl>\n",
       "\n",
       "<details>\n",
       "\t<summary style=display:list-item;cursor:pointer>\n",
       "\t\t<strong>Levels</strong>:\n",
       "\t</summary>\n",
       "\t<style>\n",
       "\t.list-inline {list-style: none; margin:0; padding: 0}\n",
       "\t.list-inline>li {display: inline-block}\n",
       "\t.list-inline>li:not(:last-child)::after {content: \"\\00b7\"; padding: 0 .5ex}\n",
       "\t</style>\n",
       "\t<ol class=list-inline><li>'Tentative'</li><li>'Confirmed'</li><li>'Rejected'</li></ol>\n",
       "</details>"
      ],
      "text/latex": [
       "\\begin{description*}\n",
       "\\item[ZNF480] Tentative\n",
       "\\item[ZNF354A] Tentative\n",
       "\\item[ZNF208] Tentative\n",
       "\\item[ZBED5] Rejected\n",
       "\\item[XRCC4] Rejected\n",
       "\\item[VCL] Confirmed\n",
       "\\item[TXN] Confirmed\n",
       "\\item[TLN1] Confirmed\n",
       "\\item[TFEC] Rejected\n",
       "\\item[TAF7] Rejected\n",
       "\\item[SYCP2] Rejected\n",
       "\\item[SUMO4] Confirmed\n",
       "\\item[STON2] Confirmed\n",
       "\\item[SPON2] Rejected\n",
       "\\item[SPOCD1] Rejected\n",
       "\\item[SH3TC2] Confirmed\n",
       "\\item[SH2D2A] Tentative\n",
       "\\item[SCN9A] Confirmed\n",
       "\\item[SAMD9] Confirmed\n",
       "\\item[RPL34] Rejected\n",
       "\\item[RASD2] Rejected\n",
       "\\item[PTPRS] Confirmed\n",
       "\\item[PRF1] Confirmed\n",
       "\\item[POLR2K] Rejected\n",
       "\\item[PITPNM2] Confirmed\n",
       "\\item[PILRB] Confirmed\n",
       "\\item[PER1] Confirmed\n",
       "\\item[PDGFA] Confirmed\n",
       "\\item[PCDH1] Rejected\n",
       "\\item[OSBPL7] Confirmed\n",
       "\\item[OSBPL5] Rejected\n",
       "\\item[NID1] Rejected\n",
       "\\item[NCR3] Rejected\n",
       "\\item[MLC1] Tentative\n",
       "\\item[MAP1A] Confirmed\n",
       "\\item[LSM3] Rejected\n",
       "\\item[LPAR6] Rejected\n",
       "\\item[LMNA] Rejected\n",
       "\\item[KIR2DL1] Confirmed\n",
       "\\item[KIFC3] Confirmed\n",
       "\\item[IL2RB] Rejected\n",
       "\\item[IGJ] Tentative\n",
       "\\item[HCFC1] Confirmed\n",
       "\\item[GPR56] Confirmed\n",
       "\\item[GNLY] Rejected\n",
       "\\item[GAPT] Rejected\n",
       "\\item[FSD1] Rejected\n",
       "\\item[FOSB] Rejected\n",
       "\\item[FLNA] Confirmed\n",
       "\\item[FAM200B] Confirmed\n",
       "\\item[F2R] Confirmed\n",
       "\\item[EVI2A] Confirmed\n",
       "\\item[ERBB2] Rejected\n",
       "\\item[DUSP2] Rejected\n",
       "\\item[DDIT4] Rejected\n",
       "\\item[DAB2] Confirmed\n",
       "\\item[CSTA] Rejected\n",
       "\\item[CLSTN1] Confirmed\n",
       "\\item[CLEC2B] Rejected\n",
       "\\item[CARNS1] Rejected\n",
       "\\item[CACNA2D2] Rejected\n",
       "\\item[BZRAP1] Confirmed\n",
       "\\item[BMP6] Rejected\n",
       "\\item[BCL2A1] Rejected\n",
       "\\item[BAI2] Rejected\n",
       "\\item[ATP1A3] Rejected\n",
       "\\item[ATG2A] Confirmed\n",
       "\\item[ARVCF] Confirmed\n",
       "\\item[ARHGAP6] Confirmed\n",
       "\\end{description*}\n",
       "\n",
       "\\emph{Levels}: \\begin{enumerate*}\n",
       "\\item 'Tentative'\n",
       "\\item 'Confirmed'\n",
       "\\item 'Rejected'\n",
       "\\end{enumerate*}\n"
      ],
      "text/markdown": [
       "ZNF480\n",
       ":   TentativeZNF354A\n",
       ":   TentativeZNF208\n",
       ":   TentativeZBED5\n",
       ":   RejectedXRCC4\n",
       ":   RejectedVCL\n",
       ":   ConfirmedTXN\n",
       ":   ConfirmedTLN1\n",
       ":   ConfirmedTFEC\n",
       ":   RejectedTAF7\n",
       ":   RejectedSYCP2\n",
       ":   RejectedSUMO4\n",
       ":   ConfirmedSTON2\n",
       ":   ConfirmedSPON2\n",
       ":   RejectedSPOCD1\n",
       ":   RejectedSH3TC2\n",
       ":   ConfirmedSH2D2A\n",
       ":   TentativeSCN9A\n",
       ":   ConfirmedSAMD9\n",
       ":   ConfirmedRPL34\n",
       ":   RejectedRASD2\n",
       ":   RejectedPTPRS\n",
       ":   ConfirmedPRF1\n",
       ":   ConfirmedPOLR2K\n",
       ":   RejectedPITPNM2\n",
       ":   ConfirmedPILRB\n",
       ":   ConfirmedPER1\n",
       ":   ConfirmedPDGFA\n",
       ":   ConfirmedPCDH1\n",
       ":   RejectedOSBPL7\n",
       ":   ConfirmedOSBPL5\n",
       ":   RejectedNID1\n",
       ":   RejectedNCR3\n",
       ":   RejectedMLC1\n",
       ":   TentativeMAP1A\n",
       ":   ConfirmedLSM3\n",
       ":   RejectedLPAR6\n",
       ":   RejectedLMNA\n",
       ":   RejectedKIR2DL1\n",
       ":   ConfirmedKIFC3\n",
       ":   ConfirmedIL2RB\n",
       ":   RejectedIGJ\n",
       ":   TentativeHCFC1\n",
       ":   ConfirmedGPR56\n",
       ":   ConfirmedGNLY\n",
       ":   RejectedGAPT\n",
       ":   RejectedFSD1\n",
       ":   RejectedFOSB\n",
       ":   RejectedFLNA\n",
       ":   ConfirmedFAM200B\n",
       ":   ConfirmedF2R\n",
       ":   ConfirmedEVI2A\n",
       ":   ConfirmedERBB2\n",
       ":   RejectedDUSP2\n",
       ":   RejectedDDIT4\n",
       ":   RejectedDAB2\n",
       ":   ConfirmedCSTA\n",
       ":   RejectedCLSTN1\n",
       ":   ConfirmedCLEC2B\n",
       ":   RejectedCARNS1\n",
       ":   RejectedCACNA2D2\n",
       ":   RejectedBZRAP1\n",
       ":   ConfirmedBMP6\n",
       ":   RejectedBCL2A1\n",
       ":   RejectedBAI2\n",
       ":   RejectedATP1A3\n",
       ":   RejectedATG2A\n",
       ":   ConfirmedARVCF\n",
       ":   ConfirmedARHGAP6\n",
       ":   Confirmed\n",
       "\n",
       "\n",
       "**Levels**: 1. 'Tentative'\n",
       "2. 'Confirmed'\n",
       "3. 'Rejected'\n",
       "\n",
       "\n"
      ],
      "text/plain": [
       "   ZNF480   ZNF354A    ZNF208     ZBED5     XRCC4       VCL       TXN      TLN1 \n",
       "Tentative Tentative Tentative  Rejected  Rejected Confirmed Confirmed Confirmed \n",
       "     TFEC      TAF7     SYCP2     SUMO4     STON2     SPON2    SPOCD1    SH3TC2 \n",
       " Rejected  Rejected  Rejected Confirmed Confirmed  Rejected  Rejected Confirmed \n",
       "   SH2D2A     SCN9A     SAMD9     RPL34     RASD2     PTPRS      PRF1    POLR2K \n",
       "Tentative Confirmed Confirmed  Rejected  Rejected Confirmed Confirmed  Rejected \n",
       "  PITPNM2     PILRB      PER1     PDGFA     PCDH1    OSBPL7    OSBPL5      NID1 \n",
       "Confirmed Confirmed Confirmed Confirmed  Rejected Confirmed  Rejected  Rejected \n",
       "     NCR3      MLC1     MAP1A      LSM3     LPAR6      LMNA   KIR2DL1     KIFC3 \n",
       " Rejected Tentative Confirmed  Rejected  Rejected  Rejected Confirmed Confirmed \n",
       "    IL2RB       IGJ     HCFC1     GPR56      GNLY      GAPT      FSD1      FOSB \n",
       " Rejected Tentative Confirmed Confirmed  Rejected  Rejected  Rejected  Rejected \n",
       "     FLNA   FAM200B       F2R     EVI2A     ERBB2     DUSP2     DDIT4      DAB2 \n",
       "Confirmed Confirmed Confirmed Confirmed  Rejected  Rejected  Rejected Confirmed \n",
       "     CSTA    CLSTN1    CLEC2B    CARNS1  CACNA2D2    BZRAP1      BMP6    BCL2A1 \n",
       " Rejected Confirmed  Rejected  Rejected  Rejected Confirmed  Rejected  Rejected \n",
       "     BAI2    ATP1A3     ATG2A     ARVCF   ARHGAP6 \n",
       " Rejected  Rejected Confirmed Confirmed Confirmed \n",
       "Levels: Tentative Confirmed Rejected"
      ]
     },
     "metadata": {},
     "output_type": "display_data"
    }
   ],
   "source": [
    "boruta$finalDecision"
   ]
  },
  {
   "cell_type": "code",
   "execution_count": 27,
   "id": "012ccfe6-9873-4ae9-8b7b-b0441692c31d",
   "metadata": {},
   "outputs": [
    {
     "data": {
      "image/png": "[encoded data removed]",
      "text/plain": [
       "plot without title"
      ]
     },
     "metadata": {
      "image/png": {
       "height": 360,
       "width": 240
      }
     },
     "output_type": "display_data"
    }
   ],
   "source": [
    "Boruta::plotImpHistory(boruta)"
   ]
  },
  {
   "cell_type": "code",
   "execution_count": 28,
   "id": "f719eb97-a381-4b41-9a3d-a530fd390751",
   "metadata": {},
   "outputs": [],
   "source": [
    "library(dplyr)\n",
    "boruta.imp <- function(x){\n",
    "  imp <- reshape2::melt(x$ImpHistory, na.rm=T)[,-1]\n",
    "  colnames(imp) <- c(\"Variable\",\"Importance\")\n",
    "  imp <- imp[is.finite(imp$Importance),]\n",
    "\n",
    "  variableGrp <- data.frame(Variable=names(x$finalDecision), \n",
    "                            finalDecision=x$finalDecision)\n",
    "\n",
    "  showGrp <- data.frame(Variable=c(\"shadowMax\", \"shadowMean\", \"shadowMin\"),\n",
    "                        finalDecision=c(\"shadowMax\", \"shadowMean\", \"shadowMin\"))\n",
    "\n",
    "  variableGrp <- rbind(variableGrp, showGrp)\n",
    "\n",
    "  boruta.variable.imp <- merge(imp, variableGrp, all.x=T)\n",
    "\n",
    "  sortedVariable <- boruta.variable.imp %>% group_by(Variable) %>% \n",
    "    summarise(median=median(Importance)) %>% arrange(median)\n",
    "  sortedVariable <- as.vector(sortedVariable$Variable)\n",
    "\n",
    "\n",
    "  boruta.variable.imp$Variable <- factor(boruta.variable.imp$Variable, levels=sortedVariable)\n",
    "\n",
    "  invisible(boruta.variable.imp)\n",
    "}\n",
    "boruta.variable.imp <- boruta.imp(boruta)\n"
   ]
  },
  {
   "cell_type": "code",
   "execution_count": 29,
   "id": "b1e3ba68-9de1-4917-bf06-878aa1b09fa6",
   "metadata": {},
   "outputs": [
    {
     "name": "stderr",
     "output_type": "stream",
     "text": [
      "Welcome to YSX package which is a collection of useful scripts.\n",
      "This package does not require you install all depended packages, since one may not need all functions in this package.\n",
      "However, when there is a message implying some functions are missing,please install these packages manually.\n",
      "Or more specially, check Plot.Rmd in vignettes first.\n",
      "\n",
      "\n"
     ]
    },
    {
     "data": {
      "image/png": "[encoded data removed]",
      "text/plain": [
       "plot without title"
      ]
     },
     "metadata": {
      "image/png": {
       "height": 360,
       "width": 240
      }
     },
     "output_type": "display_data"
    }
   ],
   "source": [
    "library(YSX)\n",
    "\n",
    "sp_boxplot(boruta.variable.imp, melted=T, xvariable = \"Variable\", yvariable = \"Importance\",\n",
    "           legend_variable = \"finalDecision\", legend_variable_order = c(\"shadowMax\", \"shadowMean\", \"shadowMin\", \"Confirmed\"),\n",
    "           xtics_angle = 90)"
   ]
  },
  {
   "cell_type": "markdown",
   "id": "38dc3a92-8f8b-4577-b5ed-c14701c4825f",
   "metadata": {},
   "source": [
    "### lasso"
   ]
  },
  {
   "cell_type": "code",
   "execution_count": null,
   "id": "22b01153-be1a-481f-8580-3aaeec0415bf",
   "metadata": {},
   "outputs": [],
   "source": []
  },
  {
   "cell_type": "code",
   "execution_count": 30,
   "id": "97c60ef6-9306-48e2-80d4-09b5a8023f27",
   "metadata": {},
   "outputs": [],
   "source": [
    "# set.seed(1271)\n",
    "\n",
    "# library(lars) \n",
    "# library(glmnet) \n",
    "\n",
    "# model_lasso <- glmnet(x, y, family=\"binomial\", nlambda=100, alpha=1)#拉手回归模型\n",
    "# plot(model_lasso, xvar = \"norm\", label = TRUE)\n",
    "# plot(model_lasso, xvar=\"lambda\", label=TRUE)\n",
    "# cv_fit <- cv.glmnet(x=x, y=y, alpha = 1, nlambda = 100)\n",
    "\n",
    "# plot(cv_fit)\n",
    "\n",
    "# # 两条虚线分别指示了两个特殊的λ值:\n",
    "# c(cv_fit$lambda.min,cv_fit$lambda.1se) \n",
    "\n",
    "# model_lasso <- glmnet(x=as.matrix(x), y=y, alpha = 1, lambda=cv_fit$lambda.1se\t)\n",
    "# gene_1se <- rownames(model_lasso$beta)[as.numeric(model_lasso$beta)!=0]\n",
    "# #gene_1se = gsub('[.]',' ',gene_1se)\n",
    "\n",
    "# gene_1se\n",
    "\n",
    "# lasso.gene = gene_1se"
   ]
  },
  {
   "cell_type": "code",
   "execution_count": 31,
   "id": "f507351a-c2cc-4820-a72c-bd041e2f6fa6",
   "metadata": {},
   "outputs": [],
   "source": [
    "expr3 = cbind(Group,expr)"
   ]
  },
  {
   "cell_type": "code",
   "execution_count": 32,
   "id": "fff6742e-b818-4803-a99a-ab81e3c7c087",
   "metadata": {},
   "outputs": [],
   "source": [
    "# set.seed(157)  \n",
    "# index <-  which( (1:nrow(expr3))%%3 == 0 )\n",
    "# train <- expr3[-index,]\n",
    "# test <- expr3[index,]\n",
    "\n",
    "# table(test$Group)\n",
    "\n",
    "# library(\"xgboost\")\n",
    "# library(\"Matrix\")\n",
    "# train_matrix <- sparse.model.matrix(Group ~ .-1, data = train)\n",
    "# test_matrix <- sparse.model.matrix(Group ~ .-1, data = test)\n",
    "# all_matrix <- sparse.model.matrix(Group ~ .-1, data = expr3)\n",
    "\n",
    "# train_label <- as.numeric(train$Group == 'CI')\n",
    "# test_label <-  as.numeric(test$Group == 'CI')\n",
    "# all_label <-  as.numeric(expr3$Group == 'CI')\n",
    "\n",
    "\n",
    "\n",
    "# all_label\n",
    "\n",
    "# train_fin <- list(data=train_matrix,label=train_label) \n",
    "# test_fin <- list(data=test_matrix,label=test_label) \n",
    "# all_fin <- list(data=all_matrix,label=all_label) \n",
    "\n",
    "# dtrain <- xgb.DMatrix(data = train_fin$data, label = train_fin$label) \n",
    "# dtest <- xgb.DMatrix(data = test_fin$data, label = test_fin$label)\n",
    "# dall <- xgb.DMatrix(data = all_fin$data, label = all_fin$label)\n",
    "\n",
    "# xgb <- xgboost(data = dall,max_depth=6, eta=0.5,  \n",
    "#   objective='binary:logistic', nround=25)\n",
    "\n",
    "# xgb\n",
    "\n",
    "# importance <- xgb.importance(all_matrix@Dimnames[[2]], model = xgb)  \n",
    "# head(importance)\n",
    "# xgb.ggplot.importance(importance)\n",
    "\n",
    "# xgb.plot.importance(importance)"
   ]
  },
  {
   "cell_type": "markdown",
   "id": "9bbc7a58-1e83-49fb-9470-0635af8e8f6e",
   "metadata": {},
   "source": [
    "### 韦恩图"
   ]
  },
  {
   "cell_type": "code",
   "execution_count": 33,
   "id": "5d1b1981-c746-426c-a099-1a09ef702c00",
   "metadata": {},
   "outputs": [],
   "source": [
    "# SVF.RFE.gene = featureGenes\n",
    "\n",
    "# RF.gene = colnames(sigExp)\n",
    "\n",
    "# XGBoost.gene = importance$Feature\n",
    "\n",
    "# boruta.variable.imp2 = boruta.variable.imp %>% dplyr::filter(finalDecision %in% c('Confirmed')) %>% dplyr::select(Variable) %>% unique()\n",
    "\n",
    "\n",
    "\n",
    "# Boruta.gene = as.vector(boruta.variable.imp2$Variable)\n",
    "\n",
    "# list1 = list(Boruta.gene,XGBoost.gene) #SVF.RFE.gene, RF.gene,\n",
    "\n",
    "# data =  as.data.frame (do.call (cbind, list1))\n",
    "\n",
    "\n",
    "# library(venn)\n",
    "#         library(VennDiagram)\n",
    "#         color=c( \"#3C5488B2\",\"#00A087B2\", \n",
    "#              \"#F39B7FB2\",\"#91D1C2B2\", \n",
    "#              \"#8491B4B2\", \"#DC0000B2\", \n",
    "#              \"#7E6148B2\",\"yellow\", \n",
    "#              \"darkolivegreen1\", \"lightskyblue\", \n",
    "#              \"darkgreen\", \"deeppink\", \"khaki2\", \n",
    "#              \"firebrick\", \"brown1\", \"darkorange1\", \n",
    "#              \"cyan1\", \"royalblue4\", \"darksalmon\", \n",
    "#              \"darkgoldenrod1\", \"darkseagreen\", \"darkorchid\")\n",
    "\n",
    "#     if (ncol(data) == 2){\n",
    "#         sample_list <- list(Boruta.gene = data[,1], XGBoost.gene = data[,2])\n",
    "#     }else if(ncol(data) == 3){\n",
    "#         sample_list <- list(RF.gene = data[,1], Boruta.gene = data[,2], XGBoost.gene = data[,3])\n",
    "#     }else if(ncol(data) == 4){\n",
    "#         sample_list <- list(RF.gene = data[,1], SVF.RFE.gene = data[,2], Boruta.gene = data[,3], XGBoost.gene = data[,4])\n",
    "#     }else{\n",
    "#         sample_list <- list(c1 = data[,1], c2 = data[,2], c3 = data[,3], c4 = data[,4], c5 = data[,5])\n",
    "#     }\n",
    "    \n",
    "#     q <- venn.diagram(sample_list,filename = NULL,\n",
    "#              fill = color[1:(length(sample_list))],\n",
    "#              alpha = 0.50, cat.col = rep('black', ncol(data)), \n",
    "#              col = 'black', cex = 1, fontfamily = 'serif', cat.cex = 1, cat.fontfamily = 'serif', margin = 0.2\n",
    "#                              )\n",
    "#     pdf(paste0('./',\"venn.pdf\"))\n",
    "#     grid.draw(q)\n",
    "#     dev.off()\n",
    "\n",
    "# grid.draw(q)\n",
    "\n",
    "# model.gene = intersect(intersect(intersect(RF.gene,XGBoost.gene),Boruta.gene),SVF.RFE.gene)"
   ]
  },
  {
   "cell_type": "code",
   "execution_count": 34,
   "id": "0b415f66-4df7-448d-8c00-2a3a7264e35b",
   "metadata": {},
   "outputs": [],
   "source": [
    "boruta.variable.imp2 = boruta.variable.imp %>% dplyr::filter(finalDecision %in% c('Confirmed')) %>% dplyr::select(Variable) %>% unique()\n",
    "Boruta.gene = as.vector(boruta.variable.imp2$Variable)"
   ]
  },
  {
   "cell_type": "code",
   "execution_count": 35,
   "id": "72fd6f52-002b-4f39-80ac-ee7df4d89b82",
   "metadata": {},
   "outputs": [],
   "source": [
    "model.gene = Boruta.gene"
   ]
  },
  {
   "cell_type": "code",
   "execution_count": null,
   "id": "d9f6ba5c-ef7b-4bb0-b923-6c34fb7dd224",
   "metadata": {},
   "outputs": [],
   "source": []
  },
  {
   "cell_type": "code",
   "execution_count": null,
   "id": "09c87cf1-fa97-4cf4-bfe0-38f887b3079e",
   "metadata": {},
   "outputs": [],
   "source": []
  },
  {
   "cell_type": "code",
   "execution_count": 36,
   "id": "6a095875-3f27-410d-a373-78adc6360397",
   "metadata": {},
   "outputs": [
    {
     "data": {
      "text/html": [
       "<style>\n",
       ".list-inline {list-style: none; margin:0; padding: 0}\n",
       ".list-inline>li {display: inline-block}\n",
       ".list-inline>li:not(:last-child)::after {content: \"\\00b7\"; padding: 0 .5ex}\n",
       "</style>\n",
       "<ol class=list-inline><li>'ARHGAP6'</li><li>'ARVCF'</li><li>'ATG2A'</li><li>'BZRAP1'</li><li>'CLSTN1'</li><li>'DAB2'</li><li>'EVI2A'</li><li>'F2R'</li><li>'FAM200B'</li><li>'FLNA'</li><li>'GPR56'</li><li>'HCFC1'</li><li>'KIFC3'</li><li>'KIR2DL1'</li><li>'MAP1A'</li><li>'OSBPL7'</li><li>'PDGFA'</li><li>'PER1'</li><li>'PILRB'</li><li>'PITPNM2'</li><li>'PRF1'</li><li>'PTPRS'</li><li>'SAMD9'</li><li>'SCN9A'</li><li>'SH3TC2'</li><li>'STON2'</li><li>'SUMO4'</li><li>'TLN1'</li><li>'TXN'</li><li>'VCL'</li></ol>\n"
      ],
      "text/latex": [
       "\\begin{enumerate*}\n",
       "\\item 'ARHGAP6'\n",
       "\\item 'ARVCF'\n",
       "\\item 'ATG2A'\n",
       "\\item 'BZRAP1'\n",
       "\\item 'CLSTN1'\n",
       "\\item 'DAB2'\n",
       "\\item 'EVI2A'\n",
       "\\item 'F2R'\n",
       "\\item 'FAM200B'\n",
       "\\item 'FLNA'\n",
       "\\item 'GPR56'\n",
       "\\item 'HCFC1'\n",
       "\\item 'KIFC3'\n",
       "\\item 'KIR2DL1'\n",
       "\\item 'MAP1A'\n",
       "\\item 'OSBPL7'\n",
       "\\item 'PDGFA'\n",
       "\\item 'PER1'\n",
       "\\item 'PILRB'\n",
       "\\item 'PITPNM2'\n",
       "\\item 'PRF1'\n",
       "\\item 'PTPRS'\n",
       "\\item 'SAMD9'\n",
       "\\item 'SCN9A'\n",
       "\\item 'SH3TC2'\n",
       "\\item 'STON2'\n",
       "\\item 'SUMO4'\n",
       "\\item 'TLN1'\n",
       "\\item 'TXN'\n",
       "\\item 'VCL'\n",
       "\\end{enumerate*}\n"
      ],
      "text/markdown": [
       "1. 'ARHGAP6'\n",
       "2. 'ARVCF'\n",
       "3. 'ATG2A'\n",
       "4. 'BZRAP1'\n",
       "5. 'CLSTN1'\n",
       "6. 'DAB2'\n",
       "7. 'EVI2A'\n",
       "8. 'F2R'\n",
       "9. 'FAM200B'\n",
       "10. 'FLNA'\n",
       "11. 'GPR56'\n",
       "12. 'HCFC1'\n",
       "13. 'KIFC3'\n",
       "14. 'KIR2DL1'\n",
       "15. 'MAP1A'\n",
       "16. 'OSBPL7'\n",
       "17. 'PDGFA'\n",
       "18. 'PER1'\n",
       "19. 'PILRB'\n",
       "20. 'PITPNM2'\n",
       "21. 'PRF1'\n",
       "22. 'PTPRS'\n",
       "23. 'SAMD9'\n",
       "24. 'SCN9A'\n",
       "25. 'SH3TC2'\n",
       "26. 'STON2'\n",
       "27. 'SUMO4'\n",
       "28. 'TLN1'\n",
       "29. 'TXN'\n",
       "30. 'VCL'\n",
       "\n",
       "\n"
      ],
      "text/plain": [
       " [1] \"ARHGAP6\" \"ARVCF\"   \"ATG2A\"   \"BZRAP1\"  \"CLSTN1\"  \"DAB2\"    \"EVI2A\"  \n",
       " [8] \"F2R\"     \"FAM200B\" \"FLNA\"    \"GPR56\"   \"HCFC1\"   \"KIFC3\"   \"KIR2DL1\"\n",
       "[15] \"MAP1A\"   \"OSBPL7\"  \"PDGFA\"   \"PER1\"    \"PILRB\"   \"PITPNM2\" \"PRF1\"   \n",
       "[22] \"PTPRS\"   \"SAMD9\"   \"SCN9A\"   \"SH3TC2\"  \"STON2\"   \"SUMO4\"   \"TLN1\"   \n",
       "[29] \"TXN\"     \"VCL\"    "
      ]
     },
     "metadata": {},
     "output_type": "display_data"
    }
   ],
   "source": [
    "model.gene"
   ]
  },
  {
   "cell_type": "code",
   "execution_count": 37,
   "id": "4150aa52-7dba-4992-807c-a001e11a859c",
   "metadata": {},
   "outputs": [],
   "source": [
    "a  = names(rfGenes)[1:25]"
   ]
  },
  {
   "cell_type": "code",
   "execution_count": 38,
   "id": "7f30a4c8-928a-49d2-b1e0-823963cce47f",
   "metadata": {},
   "outputs": [],
   "source": [
    "# model.gene = names(rfGenes)[1:20]\n",
    "\n",
    "# model.gene = intersect(Boruta.gene,names(rfGenes)[1:30])\n",
    "\n",
    "model.gene =a"
   ]
  },
  {
   "cell_type": "code",
   "execution_count": 39,
   "id": "04c84fee-aa7c-4daa-ad11-b83c643a6e97",
   "metadata": {},
   "outputs": [
    {
     "data": {
      "text/html": [
       "<style>\n",
       ".list-inline {list-style: none; margin:0; padding: 0}\n",
       ".list-inline>li {display: inline-block}\n",
       ".list-inline>li:not(:last-child)::after {content: \"\\00b7\"; padding: 0 .5ex}\n",
       "</style>\n",
       "<ol class=list-inline><li>'FLNA'</li><li>'OSBPL7'</li><li>'PRF1'</li><li>'FAM200B'</li><li>'PILRB'</li><li>'SAMD9'</li><li>'SH3TC2'</li><li>'ATG2A'</li><li>'PITPNM2'</li><li>'F2R'</li><li>'BCL2A1'</li><li>'VCL'</li><li>'IGJ'</li><li>'STON2'</li><li>'TAF7'</li><li>'CLSTN1'</li><li>'DAB2'</li><li>'ARVCF'</li><li>'PDGFA'</li><li>'HCFC1'</li><li>'TXN'</li><li>'ARHGAP6'</li><li>'CLEC2B'</li><li>'NCR3'</li><li>'LMNA'</li></ol>\n"
      ],
      "text/latex": [
       "\\begin{enumerate*}\n",
       "\\item 'FLNA'\n",
       "\\item 'OSBPL7'\n",
       "\\item 'PRF1'\n",
       "\\item 'FAM200B'\n",
       "\\item 'PILRB'\n",
       "\\item 'SAMD9'\n",
       "\\item 'SH3TC2'\n",
       "\\item 'ATG2A'\n",
       "\\item 'PITPNM2'\n",
       "\\item 'F2R'\n",
       "\\item 'BCL2A1'\n",
       "\\item 'VCL'\n",
       "\\item 'IGJ'\n",
       "\\item 'STON2'\n",
       "\\item 'TAF7'\n",
       "\\item 'CLSTN1'\n",
       "\\item 'DAB2'\n",
       "\\item 'ARVCF'\n",
       "\\item 'PDGFA'\n",
       "\\item 'HCFC1'\n",
       "\\item 'TXN'\n",
       "\\item 'ARHGAP6'\n",
       "\\item 'CLEC2B'\n",
       "\\item 'NCR3'\n",
       "\\item 'LMNA'\n",
       "\\end{enumerate*}\n"
      ],
      "text/markdown": [
       "1. 'FLNA'\n",
       "2. 'OSBPL7'\n",
       "3. 'PRF1'\n",
       "4. 'FAM200B'\n",
       "5. 'PILRB'\n",
       "6. 'SAMD9'\n",
       "7. 'SH3TC2'\n",
       "8. 'ATG2A'\n",
       "9. 'PITPNM2'\n",
       "10. 'F2R'\n",
       "11. 'BCL2A1'\n",
       "12. 'VCL'\n",
       "13. 'IGJ'\n",
       "14. 'STON2'\n",
       "15. 'TAF7'\n",
       "16. 'CLSTN1'\n",
       "17. 'DAB2'\n",
       "18. 'ARVCF'\n",
       "19. 'PDGFA'\n",
       "20. 'HCFC1'\n",
       "21. 'TXN'\n",
       "22. 'ARHGAP6'\n",
       "23. 'CLEC2B'\n",
       "24. 'NCR3'\n",
       "25. 'LMNA'\n",
       "\n",
       "\n"
      ],
      "text/plain": [
       " [1] \"FLNA\"    \"OSBPL7\"  \"PRF1\"    \"FAM200B\" \"PILRB\"   \"SAMD9\"   \"SH3TC2\" \n",
       " [8] \"ATG2A\"   \"PITPNM2\" \"F2R\"     \"BCL2A1\"  \"VCL\"     \"IGJ\"     \"STON2\"  \n",
       "[15] \"TAF7\"    \"CLSTN1\"  \"DAB2\"    \"ARVCF\"   \"PDGFA\"   \"HCFC1\"   \"TXN\"    \n",
       "[22] \"ARHGAP6\" \"CLEC2B\"  \"NCR3\"    \"LMNA\"   "
      ]
     },
     "metadata": {},
     "output_type": "display_data"
    }
   ],
   "source": [
    "model.gene"
   ]
  },
  {
   "cell_type": "code",
   "execution_count": 40,
   "id": "6cb691bd-2d72-4837-b47a-5e7c0a16d5cb",
   "metadata": {},
   "outputs": [],
   "source": [
    "set.seed(1234)"
   ]
  },
  {
   "cell_type": "code",
   "execution_count": 41,
   "id": "fe3734a8-ab41-4863-b71e-755cf03122e1",
   "metadata": {},
   "outputs": [],
   "source": [
    "expr = as.data.frame(apply(expr,2,as.numeric))"
   ]
  },
  {
   "cell_type": "code",
   "execution_count": 42,
   "id": "60801e91-7940-4cbf-b541-0ca7fb67cd71",
   "metadata": {},
   "outputs": [],
   "source": [
    "expr3 = as.data.frame(cbind(Group,expr))"
   ]
  },
  {
   "cell_type": "code",
   "execution_count": 43,
   "id": "9e04abf2-3a9e-4c50-9d86-58a7cd6f7342",
   "metadata": {},
   "outputs": [],
   "source": [
    "expr3$Group = ifelse(expr3$Group == 'CI',1,0)"
   ]
  },
  {
   "cell_type": "code",
   "execution_count": 44,
   "id": "28380401-3622-41cf-9e6b-9bfb2f59492e",
   "metadata": {},
   "outputs": [],
   "source": [
    "expr3$Group = as.factor(expr3$Group)"
   ]
  },
  {
   "cell_type": "code",
   "execution_count": 45,
   "id": "9c3b879f-1b40-45f7-9aaa-f1909ee6aaf3",
   "metadata": {},
   "outputs": [
    {
     "name": "stderr",
     "output_type": "stream",
     "text": [
      "Warning message:\n",
      "\"\u001b[1m\u001b[22mUsing an external vector in selections was deprecated in tidyselect 1.1.0.\n",
      "\u001b[36mi\u001b[39m Please use `all_of()` or `any_of()` instead.\n",
      "  # Was:\n",
      "  data %>% select(model.gene)\n",
      "\n",
      "  # Now:\n",
      "  data %>% select(all_of(model.gene))\n",
      "\n",
      "See <https://tidyselect.r-lib.org/reference/faq-external-vector.html>.\"\n"
     ]
    }
   ],
   "source": [
    "expr4 = expr3 %>% dplyr::select(c(Group,model.gene))"
   ]
  },
  {
   "cell_type": "code",
   "execution_count": 46,
   "id": "5ef5cfa5-901b-4e64-9f10-8775cc89fce8",
   "metadata": {},
   "outputs": [
    {
     "data": {
      "text/html": [
       "<style>\n",
       ".list-inline {list-style: none; margin:0; padding: 0}\n",
       ".list-inline>li {display: inline-block}\n",
       ".list-inline>li:not(:last-child)::after {content: \"\\00b7\"; padding: 0 .5ex}\n",
       "</style>\n",
       "<ol class=list-inline><li>74</li><li>26</li></ol>\n"
      ],
      "text/latex": [
       "\\begin{enumerate*}\n",
       "\\item 74\n",
       "\\item 26\n",
       "\\end{enumerate*}\n"
      ],
      "text/markdown": [
       "1. 74\n",
       "2. 26\n",
       "\n",
       "\n"
      ],
      "text/plain": [
       "[1] 74 26"
      ]
     },
     "metadata": {},
     "output_type": "display_data"
    }
   ],
   "source": [
    "dim(expr4)"
   ]
  },
  {
   "cell_type": "code",
   "execution_count": 47,
   "id": "a68de7ce-0c16-4db1-93f7-8e4f510f9fa4",
   "metadata": {},
   "outputs": [
    {
     "data": {
      "text/html": [
       "<table class=\"dataframe\">\n",
       "<caption>A data.frame: 4 x 26</caption>\n",
       "<thead>\n",
       "\t<tr><th></th><th scope=col>Group</th><th scope=col>FLNA</th><th scope=col>OSBPL7</th><th scope=col>PRF1</th><th scope=col>FAM200B</th><th scope=col>PILRB</th><th scope=col>SAMD9</th><th scope=col>SH3TC2</th><th scope=col>ATG2A</th><th scope=col>PITPNM2</th><th scope=col>...</th><th scope=col>CLSTN1</th><th scope=col>DAB2</th><th scope=col>ARVCF</th><th scope=col>PDGFA</th><th scope=col>HCFC1</th><th scope=col>TXN</th><th scope=col>ARHGAP6</th><th scope=col>CLEC2B</th><th scope=col>NCR3</th><th scope=col>LMNA</th></tr>\n",
       "\t<tr><th></th><th scope=col>&lt;fct&gt;</th><th scope=col>&lt;dbl&gt;</th><th scope=col>&lt;dbl&gt;</th><th scope=col>&lt;dbl&gt;</th><th scope=col>&lt;dbl&gt;</th><th scope=col>&lt;dbl&gt;</th><th scope=col>&lt;dbl&gt;</th><th scope=col>&lt;dbl&gt;</th><th scope=col>&lt;dbl&gt;</th><th scope=col>&lt;dbl&gt;</th><th scope=col>...</th><th scope=col>&lt;dbl&gt;</th><th scope=col>&lt;dbl&gt;</th><th scope=col>&lt;dbl&gt;</th><th scope=col>&lt;dbl&gt;</th><th scope=col>&lt;dbl&gt;</th><th scope=col>&lt;dbl&gt;</th><th scope=col>&lt;dbl&gt;</th><th scope=col>&lt;dbl&gt;</th><th scope=col>&lt;dbl&gt;</th><th scope=col>&lt;dbl&gt;</th></tr>\n",
       "</thead>\n",
       "<tbody>\n",
       "\t<tr><th scope=row>1</th><td>0</td><td>173.9405</td><td>5.085089</td><td>126.5548</td><td>4.886505</td><td>1.712318</td><td>32.51025</td><td>0.2337882</td><td>13.04633</td><td>5.723598</td><td>...</td><td>16.82540</td><td>4.164622</td><td>0.8559196</td><td>1.632609</td><td>16.06443</td><td> 7.655688</td><td>1.176161</td><td>15.45308</td><td> 9.646492</td><td>2.421837</td></tr>\n",
       "\t<tr><th scope=row>2</th><td>0</td><td>173.4102</td><td>4.899562</td><td>129.5850</td><td>6.201921</td><td>1.056324</td><td>50.12144</td><td>0.1746903</td><td>15.02437</td><td>4.599906</td><td>...</td><td>13.40344</td><td>4.082477</td><td>0.8992942</td><td>1.546559</td><td>11.72785</td><td>17.794071</td><td>1.233943</td><td>28.83879</td><td> 8.216351</td><td>1.924999</td></tr>\n",
       "\t<tr><th scope=row>3</th><td>0</td><td>178.6210</td><td>5.459095</td><td>142.2673</td><td>5.778473</td><td>1.858418</td><td>48.90929</td><td>0.2176311</td><td>17.88716</td><td>5.601272</td><td>...</td><td>16.65883</td><td>4.669645</td><td>1.1737319</td><td>1.392164</td><td>15.44092</td><td>13.325481</td><td>1.089114</td><td>24.91838</td><td>12.833994</td><td>2.323408</td></tr>\n",
       "\t<tr><th scope=row>4</th><td>0</td><td>234.2787</td><td>3.826873</td><td>209.4598</td><td>5.170836</td><td>1.093949</td><td>36.25937</td><td>0.2769637</td><td>16.37020</td><td>5.435442</td><td>...</td><td>15.26384</td><td>3.392254</td><td>0.8793481</td><td>2.218069</td><td>12.73905</td><td>15.403335</td><td>1.223507</td><td>26.34199</td><td>11.395057</td><td>3.267599</td></tr>\n",
       "</tbody>\n",
       "</table>\n"
      ],
      "text/latex": [
       "A data.frame: 4 x 26\n",
       "\\begin{tabular}{r|lllllllllllllllllllll}\n",
       "  & Group & FLNA & OSBPL7 & PRF1 & FAM200B & PILRB & SAMD9 & SH3TC2 & ATG2A & PITPNM2 & ... & CLSTN1 & DAB2 & ARVCF & PDGFA & HCFC1 & TXN & ARHGAP6 & CLEC2B & NCR3 & LMNA\\\\\n",
       "  & <fct> & <dbl> & <dbl> & <dbl> & <dbl> & <dbl> & <dbl> & <dbl> & <dbl> & <dbl> & ... & <dbl> & <dbl> & <dbl> & <dbl> & <dbl> & <dbl> & <dbl> & <dbl> & <dbl> & <dbl>\\\\\n",
       "\\hline\n",
       "\t1 & 0 & 173.9405 & 5.085089 & 126.5548 & 4.886505 & 1.712318 & 32.51025 & 0.2337882 & 13.04633 & 5.723598 & ... & 16.82540 & 4.164622 & 0.8559196 & 1.632609 & 16.06443 &  7.655688 & 1.176161 & 15.45308 &  9.646492 & 2.421837\\\\\n",
       "\t2 & 0 & 173.4102 & 4.899562 & 129.5850 & 6.201921 & 1.056324 & 50.12144 & 0.1746903 & 15.02437 & 4.599906 & ... & 13.40344 & 4.082477 & 0.8992942 & 1.546559 & 11.72785 & 17.794071 & 1.233943 & 28.83879 &  8.216351 & 1.924999\\\\\n",
       "\t3 & 0 & 178.6210 & 5.459095 & 142.2673 & 5.778473 & 1.858418 & 48.90929 & 0.2176311 & 17.88716 & 5.601272 & ... & 16.65883 & 4.669645 & 1.1737319 & 1.392164 & 15.44092 & 13.325481 & 1.089114 & 24.91838 & 12.833994 & 2.323408\\\\\n",
       "\t4 & 0 & 234.2787 & 3.826873 & 209.4598 & 5.170836 & 1.093949 & 36.25937 & 0.2769637 & 16.37020 & 5.435442 & ... & 15.26384 & 3.392254 & 0.8793481 & 2.218069 & 12.73905 & 15.403335 & 1.223507 & 26.34199 & 11.395057 & 3.267599\\\\\n",
       "\\end{tabular}\n"
      ],
      "text/markdown": [
       "\n",
       "A data.frame: 4 x 26\n",
       "\n",
       "| <!--/--> | Group &lt;fct&gt; | FLNA &lt;dbl&gt; | OSBPL7 &lt;dbl&gt; | PRF1 &lt;dbl&gt; | FAM200B &lt;dbl&gt; | PILRB &lt;dbl&gt; | SAMD9 &lt;dbl&gt; | SH3TC2 &lt;dbl&gt; | ATG2A &lt;dbl&gt; | PITPNM2 &lt;dbl&gt; | ... ... | CLSTN1 &lt;dbl&gt; | DAB2 &lt;dbl&gt; | ARVCF &lt;dbl&gt; | PDGFA &lt;dbl&gt; | HCFC1 &lt;dbl&gt; | TXN &lt;dbl&gt; | ARHGAP6 &lt;dbl&gt; | CLEC2B &lt;dbl&gt; | NCR3 &lt;dbl&gt; | LMNA &lt;dbl&gt; |\n",
       "|---|---|---|---|---|---|---|---|---|---|---|---|---|---|---|---|---|---|---|---|---|---|\n",
       "| 1 | 0 | 173.9405 | 5.085089 | 126.5548 | 4.886505 | 1.712318 | 32.51025 | 0.2337882 | 13.04633 | 5.723598 | ... | 16.82540 | 4.164622 | 0.8559196 | 1.632609 | 16.06443 |  7.655688 | 1.176161 | 15.45308 |  9.646492 | 2.421837 |\n",
       "| 2 | 0 | 173.4102 | 4.899562 | 129.5850 | 6.201921 | 1.056324 | 50.12144 | 0.1746903 | 15.02437 | 4.599906 | ... | 13.40344 | 4.082477 | 0.8992942 | 1.546559 | 11.72785 | 17.794071 | 1.233943 | 28.83879 |  8.216351 | 1.924999 |\n",
       "| 3 | 0 | 178.6210 | 5.459095 | 142.2673 | 5.778473 | 1.858418 | 48.90929 | 0.2176311 | 17.88716 | 5.601272 | ... | 16.65883 | 4.669645 | 1.1737319 | 1.392164 | 15.44092 | 13.325481 | 1.089114 | 24.91838 | 12.833994 | 2.323408 |\n",
       "| 4 | 0 | 234.2787 | 3.826873 | 209.4598 | 5.170836 | 1.093949 | 36.25937 | 0.2769637 | 16.37020 | 5.435442 | ... | 15.26384 | 3.392254 | 0.8793481 | 2.218069 | 12.73905 | 15.403335 | 1.223507 | 26.34199 | 11.395057 | 3.267599 |\n",
       "\n"
      ],
      "text/plain": [
       "  Group FLNA     OSBPL7   PRF1     FAM200B  PILRB    SAMD9    SH3TC2   \n",
       "1 0     173.9405 5.085089 126.5548 4.886505 1.712318 32.51025 0.2337882\n",
       "2 0     173.4102 4.899562 129.5850 6.201921 1.056324 50.12144 0.1746903\n",
       "3 0     178.6210 5.459095 142.2673 5.778473 1.858418 48.90929 0.2176311\n",
       "4 0     234.2787 3.826873 209.4598 5.170836 1.093949 36.25937 0.2769637\n",
       "  ATG2A    PITPNM2  ... CLSTN1   DAB2     ARVCF     PDGFA    HCFC1    TXN      \n",
       "1 13.04633 5.723598 ... 16.82540 4.164622 0.8559196 1.632609 16.06443  7.655688\n",
       "2 15.02437 4.599906 ... 13.40344 4.082477 0.8992942 1.546559 11.72785 17.794071\n",
       "3 17.88716 5.601272 ... 16.65883 4.669645 1.1737319 1.392164 15.44092 13.325481\n",
       "4 16.37020 5.435442 ... 15.26384 3.392254 0.8793481 2.218069 12.73905 15.403335\n",
       "  ARHGAP6  CLEC2B   NCR3      LMNA    \n",
       "1 1.176161 15.45308  9.646492 2.421837\n",
       "2 1.233943 28.83879  8.216351 1.924999\n",
       "3 1.089114 24.91838 12.833994 2.323408\n",
       "4 1.223507 26.34199 11.395057 3.267599"
      ]
     },
     "metadata": {},
     "output_type": "display_data"
    }
   ],
   "source": [
    "head(expr4,4)"
   ]
  },
  {
   "cell_type": "code",
   "execution_count": 48,
   "id": "48b7988e-d5b8-4cd7-9680-b550d1bde730",
   "metadata": {},
   "outputs": [
    {
     "name": "stderr",
     "output_type": "stream",
     "text": [
      "Warning message:\n",
      "\"package 'caret' was built under R version 4.2.3\"\n",
      "Loading required package: ggplot2\n",
      "\n",
      "Warning message:\n",
      "\"package 'ggplot2' was built under R version 4.2.3\"\n",
      "\n",
      "Attaching package: 'ggplot2'\n",
      "\n",
      "\n",
      "The following object is masked from 'package:randomForest':\n",
      "\n",
      "    margin\n",
      "\n",
      "\n",
      "Loading required package: lattice\n",
      "\n",
      "Warning message:\n",
      "\"package 'lattice' was built under R version 4.2.3\"\n",
      "Warning message in system(\"timedatectl\", intern = TRUE):\n",
      "\"running command 'timedatectl' had status 1\"\n"
     ]
    }
   ],
   "source": [
    "library(caret)\n",
    "library(ggplot2)"
   ]
  },
  {
   "cell_type": "code",
   "execution_count": 49,
   "id": "4775b495-4d47-436f-baea-74669776e641",
   "metadata": {},
   "outputs": [],
   "source": [
    "library(caret)\n",
    "library(ggplot2)\n",
    "\n",
    "table = c()\n",
    "# \n",
    "for (i in model.gene){\n",
    "    res<-pROC::roc(Group~expr4[,i],data=expr4,aur=TRUE,\n",
    "         ci=TRUE, # 显示95%CI\n",
    "         #percent=TRUE, # 是否需要以百分比显示\n",
    "         smooth=FALSE,# 是否平滑曲线\n",
    "         levels=c(0,1),direction=\"<\" #设置分组方向\n",
    "         )\n",
    "\n",
    "        table = append(table,res$auc)\n",
    "\n",
    "\n",
    "    \n",
    "    }"
   ]
  },
  {
   "cell_type": "code",
   "execution_count": 52,
   "id": "4cdb6688-bb43-4c94-a951-261f2da3d5ba",
   "metadata": {},
   "outputs": [],
   "source": [
    "auc = data.frame(gene = model.gene,auc = table)"
   ]
  },
  {
   "cell_type": "code",
   "execution_count": 54,
   "id": "fb58903d-2735-4e8e-9491-cdb4cd2e8ceb",
   "metadata": {},
   "outputs": [],
   "source": [
    "write.csv(auc,file = 'auc.csv')"
   ]
  },
  {
   "cell_type": "markdown",
   "id": "c9bc40ad-1601-4491-afe9-4f0a67cf391b",
   "metadata": {},
   "source": [
    "### 这里使用48个基因先看看情况\n",
    "\n"
   ]
  },
  {
   "cell_type": "code",
   "execution_count": 55,
   "id": "c19006af-1d46-4f7e-aeec-74227735cdde",
   "metadata": {},
   "outputs": [
    {
     "name": "stdout",
     "output_type": "stream",
     "text": [
      "[1] \"FAM200B 0.900975243810953\"\n"
     ]
    },
    {
     "name": "stderr",
     "output_type": "stream",
     "text": [
      "\u001b[1m\u001b[22mSaving 6.67 x 6.67 in image\n",
      "Warning message in geom_segment(aes(x = 0, xend = 1, y = 0, yend = 1), color = \"darkgrey\", :\n",
      "\"\u001b[1m\u001b[22mAll aesthetics have length 1, but the data has 75 rows.\n",
      "\u001b[36mi\u001b[39m Please consider using `annotate()` or provide this layer with data containing\n",
      "  a single row.\"\n"
     ]
    },
    {
     "name": "stdout",
     "output_type": "stream",
     "text": [
      "[1] \"SAMD9 0.797449362340585\"\n"
     ]
    },
    {
     "name": "stderr",
     "output_type": "stream",
     "text": [
      "\u001b[1m\u001b[22mSaving 6.67 x 6.67 in image\n",
      "Warning message in geom_segment(aes(x = 0, xend = 1, y = 0, yend = 1), color = \"darkgrey\", :\n",
      "\"\u001b[1m\u001b[22mAll aesthetics have length 1, but the data has 75 rows.\n",
      "\u001b[36mi\u001b[39m Please consider using `annotate()` or provide this layer with data containing\n",
      "  a single row.\"\n"
     ]
    },
    {
     "name": "stdout",
     "output_type": "stream",
     "text": [
      "[1] \"BCL2A1 0.731432858214554\"\n"
     ]
    },
    {
     "name": "stderr",
     "output_type": "stream",
     "text": [
      "\u001b[1m\u001b[22mSaving 6.67 x 6.67 in image\n",
      "Warning message in geom_segment(aes(x = 0, xend = 1, y = 0, yend = 1), color = \"darkgrey\", :\n",
      "\"\u001b[1m\u001b[22mAll aesthetics have length 1, but the data has 75 rows.\n",
      "\u001b[36mi\u001b[39m Please consider using `annotate()` or provide this layer with data containing\n",
      "  a single row.\"\n"
     ]
    },
    {
     "name": "stdout",
     "output_type": "stream",
     "text": [
      "[1] \"IGJ 0.718679669917479\"\n"
     ]
    },
    {
     "name": "stderr",
     "output_type": "stream",
     "text": [
      "\u001b[1m\u001b[22mSaving 6.67 x 6.67 in image\n",
      "Warning message in geom_segment(aes(x = 0, xend = 1, y = 0, yend = 1), color = \"darkgrey\", :\n",
      "\"\u001b[1m\u001b[22mAll aesthetics have length 1, but the data has 75 rows.\n",
      "\u001b[36mi\u001b[39m Please consider using `annotate()` or provide this layer with data containing\n",
      "  a single row.\"\n"
     ]
    },
    {
     "name": "stdout",
     "output_type": "stream",
     "text": [
      "[1] \"TAF7 0.800450112528132\"\n"
     ]
    },
    {
     "name": "stderr",
     "output_type": "stream",
     "text": [
      "\u001b[1m\u001b[22mSaving 6.67 x 6.67 in image\n",
      "Warning message in geom_segment(aes(x = 0, xend = 1, y = 0, yend = 1), color = \"darkgrey\", :\n",
      "\"\u001b[1m\u001b[22mAll aesthetics have length 1, but the data has 75 rows.\n",
      "\u001b[36mi\u001b[39m Please consider using `annotate()` or provide this layer with data containing\n",
      "  a single row.\"\n"
     ]
    },
    {
     "name": "stdout",
     "output_type": "stream",
     "text": [
      "[1] \"TXN 0.833458364591148\"\n"
     ]
    },
    {
     "name": "stderr",
     "output_type": "stream",
     "text": [
      "\u001b[1m\u001b[22mSaving 6.67 x 6.67 in image\n",
      "Warning message in geom_segment(aes(x = 0, xend = 1, y = 0, yend = 1), color = \"darkgrey\", :\n",
      "\"\u001b[1m\u001b[22mAll aesthetics have length 1, but the data has 75 rows.\n",
      "\u001b[36mi\u001b[39m Please consider using `annotate()` or provide this layer with data containing\n",
      "  a single row.\"\n"
     ]
    },
    {
     "name": "stdout",
     "output_type": "stream",
     "text": [
      "[1] \"CLEC2B 0.780945236309077\"\n"
     ]
    },
    {
     "name": "stderr",
     "output_type": "stream",
     "text": [
      "\u001b[1m\u001b[22mSaving 6.67 x 6.67 in image\n",
      "Warning message in geom_segment(aes(x = 0, xend = 1, y = 0, yend = 1), color = \"darkgrey\", :\n",
      "\"\u001b[1m\u001b[22mAll aesthetics have length 1, but the data has 75 rows.\n",
      "\u001b[36mi\u001b[39m Please consider using `annotate()` or provide this layer with data containing\n",
      "  a single row.\"\n"
     ]
    }
   ],
   "source": [
    "library(caret)\n",
    "library(ggplot2)\n",
    "\n",
    " a = c()\n",
    "# \n",
    "for (i in model.gene){\n",
    "    res<-pROC::roc(Group~expr4[,i],data=expr4,aur=TRUE,\n",
    "         ci=TRUE, # 显示95%CI\n",
    "         #percent=TRUE, # 是否需要以百分比显示\n",
    "         smooth=FALSE,# 是否平滑曲线\n",
    "         levels=c(0,1),direction=\"<\" #设置分组方向\n",
    "         )\n",
    "    if (res$auc > 0.7){\n",
    "        a = append(a,i)\n",
    "        print(paste0(i,' ',res$auc))\n",
    "        p = pROC::ggroc(res, color =\"red\",legacy.axes = TRUE)+\n",
    "  geom_segment(aes(x = 0, xend = 1, y = 0, yend = 1), color=\"darkgrey\", linetype=4)+\n",
    "  theme_bw() + # 设置背景\n",
    "  ggtitle(paste0(i,\" ROC Curve\"))+\n",
    "  theme(plot.title = element_text(hjust = 0.5,size = 16),\n",
    "        axis.text=element_text(size=12,colour = \"black\"),\n",
    "        axis.title.x = element_text(size = 14),\n",
    "        axis.title.y = element_text(size = 14))\n",
    "p+annotate(\"text\",x=0.75,y=0.25,label=paste(\"AUC = \", round(res$auc,3)))+\n",
    "  annotate(\"text\",x=0.75,y=0.20,label=paste(\"95%CI: \", round(res$ci[1],3),'-',round(res$ci[3],3)))\n",
    "    ggsave(file = paste0(i,'.ROC.pdf'))\n",
    "}else{\n",
    "        \n",
    "}\n",
    "\n",
    "    \n",
    "    }"
   ]
  },
  {
   "cell_type": "markdown",
   "id": "d157d346-4a53-4133-b0d2-f2a92aea9d56",
   "metadata": {},
   "source": [
    "### 批量单因素逻辑回归"
   ]
  },
  {
   "cell_type": "code",
   "execution_count": 56,
   "id": "ea1ccfa4-1f08-4e46-85a9-e0e06b19b3be",
   "metadata": {},
   "outputs": [
    {
     "data": {
      "text/html": [
       "<style>\n",
       ".list-inline {list-style: none; margin:0; padding: 0}\n",
       ".list-inline>li {display: inline-block}\n",
       ".list-inline>li:not(:last-child)::after {content: \"\\00b7\"; padding: 0 .5ex}\n",
       "</style>\n",
       "<ol class=list-inline><li>'FAM200B'</li><li>'SAMD9'</li><li>'BCL2A1'</li><li>'IGJ'</li><li>'TAF7'</li><li>'TXN'</li><li>'CLEC2B'</li></ol>\n"
      ],
      "text/latex": [
       "\\begin{enumerate*}\n",
       "\\item 'FAM200B'\n",
       "\\item 'SAMD9'\n",
       "\\item 'BCL2A1'\n",
       "\\item 'IGJ'\n",
       "\\item 'TAF7'\n",
       "\\item 'TXN'\n",
       "\\item 'CLEC2B'\n",
       "\\end{enumerate*}\n"
      ],
      "text/markdown": [
       "1. 'FAM200B'\n",
       "2. 'SAMD9'\n",
       "3. 'BCL2A1'\n",
       "4. 'IGJ'\n",
       "5. 'TAF7'\n",
       "6. 'TXN'\n",
       "7. 'CLEC2B'\n",
       "\n",
       "\n"
      ],
      "text/plain": [
       "[1] \"FAM200B\" \"SAMD9\"   \"BCL2A1\"  \"IGJ\"     \"TAF7\"    \"TXN\"     \"CLEC2B\" "
      ]
     },
     "metadata": {},
     "output_type": "display_data"
    }
   ],
   "source": [
    "a"
   ]
  },
  {
   "cell_type": "code",
   "execution_count": 57,
   "id": "8ed43a61-fbbe-4a82-86b6-ecf83f9d4593",
   "metadata": {},
   "outputs": [],
   "source": [
    "expr4 = expr4[,c('Group',a)]"
   ]
  },
  {
   "cell_type": "code",
   "execution_count": 58,
   "id": "2e4d302d-7a45-4d41-8429-a3d9809876f5",
   "metadata": {
    "scrolled": true
   },
   "outputs": [
    {
     "name": "stderr",
     "output_type": "stream",
     "text": [
      "------------------------------------------------------------------------------\n",
      "\n",
      "You have loaded plyr after dplyr - this is likely to cause problems.\n",
      "If you need functions from both plyr and dplyr, please load plyr first, then dplyr:\n",
      "library(plyr); library(dplyr)\n",
      "\n",
      "------------------------------------------------------------------------------\n",
      "\n",
      "\n",
      "Attaching package: 'plyr'\n",
      "\n",
      "\n",
      "The following objects are masked from 'package:dplyr':\n",
      "\n",
      "    arrange, count, desc, failwith, id, mutate, rename, summarise,\n",
      "    summarize\n",
      "\n",
      "\n",
      "Loading required package: Hmisc\n",
      "\n",
      "Warning message:\n",
      "\"package 'Hmisc' was built under R version 4.2.3\"\n",
      "\n",
      "Attaching package: 'Hmisc'\n",
      "\n",
      "\n",
      "The following objects are masked from 'package:plyr':\n",
      "\n",
      "    is.discrete, summarize\n",
      "\n",
      "\n",
      "The following objects are masked from 'package:dplyr':\n",
      "\n",
      "    src, summarize\n",
      "\n",
      "\n",
      "The following objects are masked from 'package:base':\n",
      "\n",
      "    format.pval, units\n",
      "\n",
      "\n",
      "Loading required package: foreign\n",
      "\n",
      "Warning message:\n",
      "\"package 'foreign' was built under R version 4.2.3\"\n",
      "Loading required package: survival\n",
      "\n",
      "Warning message:\n",
      "\"package 'survival' was built under R version 4.2.3\"\n",
      "\n",
      "Attaching package: 'survival'\n",
      "\n",
      "\n",
      "The following object is masked from 'package:caret':\n",
      "\n",
      "    cluster\n",
      "\n",
      "\n",
      "Loading required package: MASS\n",
      "\n",
      "Warning message:\n",
      "\"package 'MASS' was built under R version 4.2.3\"\n",
      "\n",
      "Attaching package: 'MASS'\n",
      "\n",
      "\n",
      "The following object is masked from 'package:dplyr':\n",
      "\n",
      "    select\n",
      "\n",
      "\n",
      "Loading required package: nnet\n",
      "\n",
      "Warning message:\n",
      "\"package 'nnet' was built under R version 4.2.3\"\n",
      "Registered S3 method overwritten by 'epiDisplay':\n",
      "  method       from\n",
      "  print.lrtest rms \n",
      "\n",
      "\n",
      "Attaching package: 'epiDisplay'\n",
      "\n",
      "\n",
      "The following object is masked from 'package:rms':\n",
      "\n",
      "    lrtest\n",
      "\n",
      "\n",
      "The following object is masked from 'package:lattice':\n",
      "\n",
      "    dotplot\n",
      "\n",
      "\n",
      "The following object is masked from 'package:ggplot2':\n",
      "\n",
      "    alpha\n",
      "\n",
      "\n"
     ]
    }
   ],
   "source": [
    "#结果合并需要的包\n",
    "library(plyr)\n",
    "#可进行logistic回归的包\n",
    "library(rms)#可实现逻辑回归模型（lrm）\n",
    "library(epiDisplay)#快速输出OR、95%CI、P\n",
    "#library(gtsummary)#精美三线表（但，95%CI有误）"
   ]
  },
  {
   "cell_type": "code",
   "execution_count": 59,
   "id": "e368e801-d28e-41ff-aee0-d4ef2ca39cd6",
   "metadata": {},
   "outputs": [],
   "source": [
    "varsU<-names(expr4[,2:dim(expr4)[2]])"
   ]
  },
  {
   "cell_type": "code",
   "execution_count": 60,
   "id": "994ce7b1-913e-4a3d-8a4a-956d9d357864",
   "metadata": {},
   "outputs": [
    {
     "name": "stderr",
     "output_type": "stream",
     "text": [
      "Waiting for profiling to be done...\n",
      "\n",
      "Waiting for profiling to be done...\n",
      "\n",
      "Waiting for profiling to be done...\n",
      "\n",
      "Waiting for profiling to be done...\n",
      "\n",
      "Waiting for profiling to be done...\n",
      "\n",
      "Waiting for profiling to be done...\n",
      "\n",
      "Waiting for profiling to be done...\n",
      "\n"
     ]
    }
   ],
   "source": [
    "Result<-c()\n",
    "for (i in 1:length(varsU)){\n",
    "  fit<-glm(substitute(Group~x,list(x=as.name(varsU[i]))),data=expr4,family=binomial())\n",
    "  fitSum<-summary(fit)\n",
    "  result1<-c()\n",
    "  result1<-rbind(result1,fitSum$coef)\n",
    "  OR<-exp(fitSum$coef[,'Estimate'])\n",
    "  result1<-data.frame(cbind(result1,cbind(OR,exp(confint(fit)))))\n",
    "  result1$Characteristics<-varsU[i]   #添加变量名\n",
    "  Result<-rbind(Result,result1[-1,])#[-1,],删除常数项\n",
    "}"
   ]
  },
  {
   "cell_type": "code",
   "execution_count": 61,
   "id": "032500b6-8970-4ded-a236-242e7cd50dff",
   "metadata": {},
   "outputs": [
    {
     "data": {
      "text/html": [
       "<table class=\"dataframe\">\n",
       "<caption>A data.frame: 7 x 8</caption>\n",
       "<thead>\n",
       "\t<tr><th></th><th scope=col>Estimate</th><th scope=col>Std..Error</th><th scope=col>z.value</th><th scope=col>Pr...z..</th><th scope=col>OR</th><th scope=col>X2.5..</th><th scope=col>X97.5..</th><th scope=col>Characteristics</th></tr>\n",
       "\t<tr><th></th><th scope=col>&lt;dbl&gt;</th><th scope=col>&lt;dbl&gt;</th><th scope=col>&lt;dbl&gt;</th><th scope=col>&lt;dbl&gt;</th><th scope=col>&lt;dbl&gt;</th><th scope=col>&lt;dbl&gt;</th><th scope=col>&lt;dbl&gt;</th><th scope=col>&lt;chr&gt;</th></tr>\n",
       "</thead>\n",
       "<tbody>\n",
       "\t<tr><th scope=row>FAM200B</th><td>1.62868115</td><td>0.392785478</td><td>4.146490</td><td>3.376106e-05</td><td>5.097148</td><td>2.626555</td><td>12.577251</td><td>FAM200B</td></tr>\n",
       "\t<tr><th scope=row>SAMD9</th><td>0.06235207</td><td>0.018098816</td><td>3.445091</td><td>5.708673e-04</td><td>1.064337</td><td>1.031340</td><td> 1.107965</td><td>SAMD9  </td></tr>\n",
       "\t<tr><th scope=row>BCL2A1</th><td>0.04984612</td><td>0.016348041</td><td>3.049058</td><td>2.295604e-03</td><td>1.051109</td><td>1.021015</td><td> 1.088910</td><td>BCL2A1 </td></tr>\n",
       "\t<tr><th scope=row>IGJ</th><td>0.02557740</td><td>0.009244842</td><td>2.766667</td><td>5.663249e-03</td><td>1.025907</td><td>1.009478</td><td> 1.047112</td><td>IGJ    </td></tr>\n",
       "\t<tr><th scope=row>TAF7</th><td>0.21097212</td><td>0.055632134</td><td>3.792271</td><td>1.492760e-04</td><td>1.234878</td><td>1.120166</td><td> 1.396531</td><td>TAF7   </td></tr>\n",
       "\t<tr><th scope=row>TXN</th><td>0.27518002</td><td>0.071620720</td><td>3.842184</td><td>1.219441e-04</td><td>1.316768</td><td>1.161755</td><td> 1.541887</td><td>TXN    </td></tr>\n",
       "\t<tr><th scope=row>CLEC2B</th><td>0.14552677</td><td>0.040444621</td><td>3.598174</td><td>3.204597e-04</td><td>1.156649</td><td>1.077389</td><td> 1.264078</td><td>CLEC2B </td></tr>\n",
       "</tbody>\n",
       "</table>\n"
      ],
      "text/latex": [
       "A data.frame: 7 x 8\n",
       "\\begin{tabular}{r|llllllll}\n",
       "  & Estimate & Std..Error & z.value & Pr...z.. & OR & X2.5.. & X97.5.. & Characteristics\\\\\n",
       "  & <dbl> & <dbl> & <dbl> & <dbl> & <dbl> & <dbl> & <dbl> & <chr>\\\\\n",
       "\\hline\n",
       "\tFAM200B & 1.62868115 & 0.392785478 & 4.146490 & 3.376106e-05 & 5.097148 & 2.626555 & 12.577251 & FAM200B\\\\\n",
       "\tSAMD9 & 0.06235207 & 0.018098816 & 3.445091 & 5.708673e-04 & 1.064337 & 1.031340 &  1.107965 & SAMD9  \\\\\n",
       "\tBCL2A1 & 0.04984612 & 0.016348041 & 3.049058 & 2.295604e-03 & 1.051109 & 1.021015 &  1.088910 & BCL2A1 \\\\\n",
       "\tIGJ & 0.02557740 & 0.009244842 & 2.766667 & 5.663249e-03 & 1.025907 & 1.009478 &  1.047112 & IGJ    \\\\\n",
       "\tTAF7 & 0.21097212 & 0.055632134 & 3.792271 & 1.492760e-04 & 1.234878 & 1.120166 &  1.396531 & TAF7   \\\\\n",
       "\tTXN & 0.27518002 & 0.071620720 & 3.842184 & 1.219441e-04 & 1.316768 & 1.161755 &  1.541887 & TXN    \\\\\n",
       "\tCLEC2B & 0.14552677 & 0.040444621 & 3.598174 & 3.204597e-04 & 1.156649 & 1.077389 &  1.264078 & CLEC2B \\\\\n",
       "\\end{tabular}\n"
      ],
      "text/markdown": [
       "\n",
       "A data.frame: 7 x 8\n",
       "\n",
       "| <!--/--> | Estimate &lt;dbl&gt; | Std..Error &lt;dbl&gt; | z.value &lt;dbl&gt; | Pr...z.. &lt;dbl&gt; | OR &lt;dbl&gt; | X2.5.. &lt;dbl&gt; | X97.5.. &lt;dbl&gt; | Characteristics &lt;chr&gt; |\n",
       "|---|---|---|---|---|---|---|---|---|\n",
       "| FAM200B | 1.62868115 | 0.392785478 | 4.146490 | 3.376106e-05 | 5.097148 | 2.626555 | 12.577251 | FAM200B |\n",
       "| SAMD9 | 0.06235207 | 0.018098816 | 3.445091 | 5.708673e-04 | 1.064337 | 1.031340 |  1.107965 | SAMD9   |\n",
       "| BCL2A1 | 0.04984612 | 0.016348041 | 3.049058 | 2.295604e-03 | 1.051109 | 1.021015 |  1.088910 | BCL2A1  |\n",
       "| IGJ | 0.02557740 | 0.009244842 | 2.766667 | 5.663249e-03 | 1.025907 | 1.009478 |  1.047112 | IGJ     |\n",
       "| TAF7 | 0.21097212 | 0.055632134 | 3.792271 | 1.492760e-04 | 1.234878 | 1.120166 |  1.396531 | TAF7    |\n",
       "| TXN | 0.27518002 | 0.071620720 | 3.842184 | 1.219441e-04 | 1.316768 | 1.161755 |  1.541887 | TXN     |\n",
       "| CLEC2B | 0.14552677 | 0.040444621 | 3.598174 | 3.204597e-04 | 1.156649 | 1.077389 |  1.264078 | CLEC2B  |\n",
       "\n"
      ],
      "text/plain": [
       "        Estimate   Std..Error  z.value  Pr...z..     OR       X2.5..  \n",
       "FAM200B 1.62868115 0.392785478 4.146490 3.376106e-05 5.097148 2.626555\n",
       "SAMD9   0.06235207 0.018098816 3.445091 5.708673e-04 1.064337 1.031340\n",
       "BCL2A1  0.04984612 0.016348041 3.049058 2.295604e-03 1.051109 1.021015\n",
       "IGJ     0.02557740 0.009244842 2.766667 5.663249e-03 1.025907 1.009478\n",
       "TAF7    0.21097212 0.055632134 3.792271 1.492760e-04 1.234878 1.120166\n",
       "TXN     0.27518002 0.071620720 3.842184 1.219441e-04 1.316768 1.161755\n",
       "CLEC2B  0.14552677 0.040444621 3.598174 3.204597e-04 1.156649 1.077389\n",
       "        X97.5..   Characteristics\n",
       "FAM200B 12.577251 FAM200B        \n",
       "SAMD9    1.107965 SAMD9          \n",
       "BCL2A1   1.088910 BCL2A1         \n",
       "IGJ      1.047112 IGJ            \n",
       "TAF7     1.396531 TAF7           \n",
       "TXN      1.541887 TXN            \n",
       "CLEC2B   1.264078 CLEC2B         "
      ]
     },
     "metadata": {},
     "output_type": "display_data"
    }
   ],
   "source": [
    "Result"
   ]
  },
  {
   "cell_type": "code",
   "execution_count": 62,
   "id": "148299e8-ac34-43f6-8b34-496935b611c3",
   "metadata": {},
   "outputs": [],
   "source": [
    "Uni_log<-data.frame(Result[,c(1,4:8)]) #提取\"P\",\"OR\",\"CIlower\",\"CIupper\"和变量名\n",
    "\n",
    "colnames(Uni_log)[2:5]<-c(\"P\",\"OR\",\"CIlower\",\"CIupper\")#变量重命名\n",
    "\n",
    "ExtractVar<-unique(Uni_log$Characteristics[Uni_log$\"P\"<0.05]) "
   ]
  },
  {
   "cell_type": "code",
   "execution_count": 63,
   "id": "7c08917b-e457-4f99-b725-5a78db04270a",
   "metadata": {},
   "outputs": [],
   "source": [
    "tzgene = Uni_log %>% dplyr::filter(P < 0.05) %>% rownames()"
   ]
  },
  {
   "cell_type": "code",
   "execution_count": 64,
   "id": "2b35911c-3a54-40f7-a801-7b01b57aca16",
   "metadata": {},
   "outputs": [
    {
     "data": {
      "text/html": [
       "<table class=\"dataframe\">\n",
       "<caption>A data.frame: 7 x 6</caption>\n",
       "<thead>\n",
       "\t<tr><th></th><th scope=col>Estimate</th><th scope=col>P</th><th scope=col>OR</th><th scope=col>CIlower</th><th scope=col>CIupper</th><th scope=col>Characteristics</th></tr>\n",
       "\t<tr><th></th><th scope=col>&lt;dbl&gt;</th><th scope=col>&lt;dbl&gt;</th><th scope=col>&lt;dbl&gt;</th><th scope=col>&lt;dbl&gt;</th><th scope=col>&lt;dbl&gt;</th><th scope=col>&lt;chr&gt;</th></tr>\n",
       "</thead>\n",
       "<tbody>\n",
       "\t<tr><th scope=row>FAM200B</th><td>1.62868115</td><td>3.376106e-05</td><td>5.097148</td><td>2.626555</td><td>12.577251</td><td>FAM200B</td></tr>\n",
       "\t<tr><th scope=row>SAMD9</th><td>0.06235207</td><td>5.708673e-04</td><td>1.064337</td><td>1.031340</td><td> 1.107965</td><td>SAMD9  </td></tr>\n",
       "\t<tr><th scope=row>BCL2A1</th><td>0.04984612</td><td>2.295604e-03</td><td>1.051109</td><td>1.021015</td><td> 1.088910</td><td>BCL2A1 </td></tr>\n",
       "\t<tr><th scope=row>IGJ</th><td>0.02557740</td><td>5.663249e-03</td><td>1.025907</td><td>1.009478</td><td> 1.047112</td><td>IGJ    </td></tr>\n",
       "\t<tr><th scope=row>TAF7</th><td>0.21097212</td><td>1.492760e-04</td><td>1.234878</td><td>1.120166</td><td> 1.396531</td><td>TAF7   </td></tr>\n",
       "\t<tr><th scope=row>TXN</th><td>0.27518002</td><td>1.219441e-04</td><td>1.316768</td><td>1.161755</td><td> 1.541887</td><td>TXN    </td></tr>\n",
       "\t<tr><th scope=row>CLEC2B</th><td>0.14552677</td><td>3.204597e-04</td><td>1.156649</td><td>1.077389</td><td> 1.264078</td><td>CLEC2B </td></tr>\n",
       "</tbody>\n",
       "</table>\n"
      ],
      "text/latex": [
       "A data.frame: 7 x 6\n",
       "\\begin{tabular}{r|llllll}\n",
       "  & Estimate & P & OR & CIlower & CIupper & Characteristics\\\\\n",
       "  & <dbl> & <dbl> & <dbl> & <dbl> & <dbl> & <chr>\\\\\n",
       "\\hline\n",
       "\tFAM200B & 1.62868115 & 3.376106e-05 & 5.097148 & 2.626555 & 12.577251 & FAM200B\\\\\n",
       "\tSAMD9 & 0.06235207 & 5.708673e-04 & 1.064337 & 1.031340 &  1.107965 & SAMD9  \\\\\n",
       "\tBCL2A1 & 0.04984612 & 2.295604e-03 & 1.051109 & 1.021015 &  1.088910 & BCL2A1 \\\\\n",
       "\tIGJ & 0.02557740 & 5.663249e-03 & 1.025907 & 1.009478 &  1.047112 & IGJ    \\\\\n",
       "\tTAF7 & 0.21097212 & 1.492760e-04 & 1.234878 & 1.120166 &  1.396531 & TAF7   \\\\\n",
       "\tTXN & 0.27518002 & 1.219441e-04 & 1.316768 & 1.161755 &  1.541887 & TXN    \\\\\n",
       "\tCLEC2B & 0.14552677 & 3.204597e-04 & 1.156649 & 1.077389 &  1.264078 & CLEC2B \\\\\n",
       "\\end{tabular}\n"
      ],
      "text/markdown": [
       "\n",
       "A data.frame: 7 x 6\n",
       "\n",
       "| <!--/--> | Estimate &lt;dbl&gt; | P &lt;dbl&gt; | OR &lt;dbl&gt; | CIlower &lt;dbl&gt; | CIupper &lt;dbl&gt; | Characteristics &lt;chr&gt; |\n",
       "|---|---|---|---|---|---|---|\n",
       "| FAM200B | 1.62868115 | 3.376106e-05 | 5.097148 | 2.626555 | 12.577251 | FAM200B |\n",
       "| SAMD9 | 0.06235207 | 5.708673e-04 | 1.064337 | 1.031340 |  1.107965 | SAMD9   |\n",
       "| BCL2A1 | 0.04984612 | 2.295604e-03 | 1.051109 | 1.021015 |  1.088910 | BCL2A1  |\n",
       "| IGJ | 0.02557740 | 5.663249e-03 | 1.025907 | 1.009478 |  1.047112 | IGJ     |\n",
       "| TAF7 | 0.21097212 | 1.492760e-04 | 1.234878 | 1.120166 |  1.396531 | TAF7    |\n",
       "| TXN | 0.27518002 | 1.219441e-04 | 1.316768 | 1.161755 |  1.541887 | TXN     |\n",
       "| CLEC2B | 0.14552677 | 3.204597e-04 | 1.156649 | 1.077389 |  1.264078 | CLEC2B  |\n",
       "\n"
      ],
      "text/plain": [
       "        Estimate   P            OR       CIlower  CIupper   Characteristics\n",
       "FAM200B 1.62868115 3.376106e-05 5.097148 2.626555 12.577251 FAM200B        \n",
       "SAMD9   0.06235207 5.708673e-04 1.064337 1.031340  1.107965 SAMD9          \n",
       "BCL2A1  0.04984612 2.295604e-03 1.051109 1.021015  1.088910 BCL2A1         \n",
       "IGJ     0.02557740 5.663249e-03 1.025907 1.009478  1.047112 IGJ            \n",
       "TAF7    0.21097212 1.492760e-04 1.234878 1.120166  1.396531 TAF7           \n",
       "TXN     0.27518002 1.219441e-04 1.316768 1.161755  1.541887 TXN            \n",
       "CLEC2B  0.14552677 3.204597e-04 1.156649 1.077389  1.264078 CLEC2B         "
      ]
     },
     "metadata": {},
     "output_type": "display_data"
    }
   ],
   "source": [
    "Uni_log[tzgene,]"
   ]
  },
  {
   "cell_type": "markdown",
   "id": "232747e0-8e0a-4a1a-a963-788be809fe24",
   "metadata": {},
   "source": [
    "### 多因素分析"
   ]
  },
  {
   "cell_type": "code",
   "execution_count": 64,
   "id": "607567dc-7ff4-40cc-9f88-59958dd38215",
   "metadata": {},
   "outputs": [],
   "source": [
    "#tzgene = tzgene[-c(1,5)]"
   ]
  },
  {
   "cell_type": "code",
   "execution_count": 65,
   "id": "0b9b3332-c208-4dad-b2d0-a1e1d7a2f11a",
   "metadata": {},
   "outputs": [
    {
     "data": {
      "text/html": [
       "<style>\n",
       ".list-inline {list-style: none; margin:0; padding: 0}\n",
       ".list-inline>li {display: inline-block}\n",
       ".list-inline>li:not(:last-child)::after {content: \"\\00b7\"; padding: 0 .5ex}\n",
       "</style>\n",
       "<ol class=list-inline><li>'FAM200B'</li><li>'SAMD9'</li><li>'BCL2A1'</li><li>'IGJ'</li><li>'TAF7'</li><li>'TXN'</li><li>'CLEC2B'</li></ol>\n"
      ],
      "text/latex": [
       "\\begin{enumerate*}\n",
       "\\item 'FAM200B'\n",
       "\\item 'SAMD9'\n",
       "\\item 'BCL2A1'\n",
       "\\item 'IGJ'\n",
       "\\item 'TAF7'\n",
       "\\item 'TXN'\n",
       "\\item 'CLEC2B'\n",
       "\\end{enumerate*}\n"
      ],
      "text/markdown": [
       "1. 'FAM200B'\n",
       "2. 'SAMD9'\n",
       "3. 'BCL2A1'\n",
       "4. 'IGJ'\n",
       "5. 'TAF7'\n",
       "6. 'TXN'\n",
       "7. 'CLEC2B'\n",
       "\n",
       "\n"
      ],
      "text/plain": [
       "[1] \"FAM200B\" \"SAMD9\"   \"BCL2A1\"  \"IGJ\"     \"TAF7\"    \"TXN\"     \"CLEC2B\" "
      ]
     },
     "metadata": {},
     "output_type": "display_data"
    }
   ],
   "source": [
    "tzgene"
   ]
  },
  {
   "cell_type": "code",
   "execution_count": 66,
   "id": "9a29f3e9-02ef-4987-899e-0a7ea6408f6c",
   "metadata": {},
   "outputs": [],
   "source": [
    "#tzgene1 = tzgene[-5]"
   ]
  },
  {
   "cell_type": "code",
   "execution_count": 67,
   "id": "f421a627-cea3-4472-9d7d-eabb65d4b253",
   "metadata": {},
   "outputs": [],
   "source": [
    "data = expr4[,c('Group',tzgene)]\n",
    "data$Group = factor(data$Group,levels = c(0,1))"
   ]
  },
  {
   "cell_type": "code",
   "execution_count": 68,
   "id": "45593c9a-5ec2-40ee-9f5f-0cd8b8bfdf06",
   "metadata": {},
   "outputs": [
    {
     "data": {
      "text/plain": [
       "\n",
       "Call:\n",
       "glm(formula = Group ~ ., family = binomial(), data = data)\n",
       "\n",
       "Deviance Residuals: \n",
       "     Min        1Q    Median        3Q       Max  \n",
       "-2.60570  -0.36452   0.00619   0.35243   2.70795  \n",
       "\n",
       "Coefficients:\n",
       "              Estimate Std. Error z value Pr(>|z|)    \n",
       "(Intercept) -14.775523   3.800537  -3.888 0.000101 ***\n",
       "FAM200B       1.772176   0.603982   2.934 0.003345 ** \n",
       "SAMD9         0.040415   0.043092   0.938 0.348311    \n",
       "BCL2A1       -0.053702   0.037880  -1.418 0.156283    \n",
       "IGJ           0.027406   0.014756   1.857 0.063269 .  \n",
       "TAF7         -0.006388   0.119356  -0.054 0.957318    \n",
       "TXN           0.350635   0.156328   2.243 0.024901 *  \n",
       "CLEC2B       -0.080369   0.098376  -0.817 0.413956    \n",
       "---\n",
       "Signif. codes:  0 '***' 0.001 '**' 0.01 '*' 0.05 '.' 0.1 ' ' 1\n",
       "\n",
       "(Dispersion parameter for binomial family taken to be 1)\n",
       "\n",
       "    Null deviance: 100.63  on 73  degrees of freedom\n",
       "Residual deviance:  44.65  on 66  degrees of freedom\n",
       "AIC: 60.65\n",
       "\n",
       "Number of Fisher Scoring iterations: 7\n"
      ]
     },
     "metadata": {},
     "output_type": "display_data"
    }
   ],
   "source": [
    "fit.reduce<-glm(Group~.,data=data,family=binomial())\n",
    "summary(fit.reduce)"
   ]
  },
  {
   "cell_type": "code",
   "execution_count": 69,
   "id": "360a430e-9388-4fe4-91ee-e7995c29c187",
   "metadata": {
    "scrolled": true
   },
   "outputs": [
    {
     "name": "stdout",
     "output_type": "stream",
     "text": [
      "Start:  AIC=60.65\n",
      "Group ~ FAM200B + SAMD9 + BCL2A1 + IGJ + TAF7 + TXN + CLEC2B\n",
      "\n",
      "          Df Deviance    AIC\n",
      "- TAF7     1   44.652 58.652\n",
      "- CLEC2B   1   45.349 59.349\n",
      "- SAMD9    1   45.545 59.545\n",
      "<none>         44.650 60.650\n",
      "- BCL2A1   1   46.770 60.770\n",
      "- IGJ      1   48.841 62.841\n",
      "- TXN      1   51.514 65.514\n",
      "- FAM200B  1   58.703 72.703\n",
      "\n",
      "Step:  AIC=58.65\n",
      "Group ~ FAM200B + SAMD9 + BCL2A1 + IGJ + TXN + CLEC2B\n",
      "\n",
      "          Df Deviance    AIC\n",
      "- CLEC2B   1   45.385 57.385\n",
      "- SAMD9    1   45.763 57.763\n",
      "<none>         44.652 58.652\n",
      "- BCL2A1   1   47.174 59.174\n",
      "+ TAF7     1   44.650 60.650\n",
      "- IGJ      1   49.076 61.076\n",
      "- TXN      1   51.990 63.990\n",
      "- FAM200B  1   59.388 71.388\n",
      "\n",
      "Step:  AIC=57.38\n",
      "Group ~ FAM200B + SAMD9 + BCL2A1 + IGJ + TXN\n",
      "\n",
      "          Df Deviance    AIC\n",
      "- SAMD9    1   45.859 55.859\n",
      "<none>         45.385 57.385\n",
      "- BCL2A1   1   48.225 58.225\n",
      "+ CLEC2B   1   44.652 58.652\n",
      "+ TAF7     1   45.349 59.349\n",
      "- IGJ      1   50.004 60.004\n",
      "- TXN      1   52.358 62.358\n",
      "- FAM200B  1   60.342 70.342\n",
      "\n",
      "Step:  AIC=55.86\n",
      "Group ~ FAM200B + BCL2A1 + IGJ + TXN\n",
      "\n",
      "          Df Deviance    AIC\n",
      "<none>         45.859 55.859\n",
      "- BCL2A1   1   48.251 56.251\n",
      "+ SAMD9    1   45.385 57.385\n",
      "+ TAF7     1   45.661 57.661\n",
      "+ CLEC2B   1   45.763 57.763\n",
      "- IGJ      1   50.689 58.689\n",
      "- TXN      1   52.411 60.411\n",
      "- FAM200B  1   65.532 73.532\n"
     ]
    },
    {
     "data": {
      "text/plain": [
       "\n",
       "Call:\n",
       "glm(formula = Group ~ FAM200B + BCL2A1 + IGJ + TXN, family = binomial(), \n",
       "    data = data)\n",
       "\n",
       "Deviance Residuals: \n",
       "     Min        1Q    Median        3Q       Max  \n",
       "-2.55106  -0.40758   0.01191   0.36742   2.61590  \n",
       "\n",
       "Coefficients:\n",
       "             Estimate Std. Error z value Pr(>|z|)    \n",
       "(Intercept) -13.81708    3.43399  -4.024 5.73e-05 ***\n",
       "FAM200B       1.61195    0.48498   3.324 0.000888 ***\n",
       "BCL2A1       -0.05003    0.03327  -1.504 0.132638    \n",
       "IGJ           0.02869    0.01442   1.989 0.046654 *  \n",
       "TXN           0.32451    0.14074   2.306 0.021124 *  \n",
       "---\n",
       "Signif. codes:  0 '***' 0.001 '**' 0.01 '*' 0.05 '.' 0.1 ' ' 1\n",
       "\n",
       "(Dispersion parameter for binomial family taken to be 1)\n",
       "\n",
       "    Null deviance: 100.631  on 73  degrees of freedom\n",
       "Residual deviance:  45.859  on 69  degrees of freedom\n",
       "AIC: 55.859\n",
       "\n",
       "Number of Fisher Scoring iterations: 7\n"
      ]
     },
     "metadata": {},
     "output_type": "display_data"
    }
   ],
   "source": [
    "logit.step <- step(fit.reduce,direction='both')\n",
    "summary(logit.step)"
   ]
  },
  {
   "cell_type": "code",
   "execution_count": 70,
   "id": "d09d5fb1-b54b-4f0a-a8ad-19c4fa653d37",
   "metadata": {
    "scrolled": true
   },
   "outputs": [
    {
     "name": "stderr",
     "output_type": "stream",
     "text": [
      "Waiting for profiling to be done...\n",
      "\n",
      "Warning message:\n",
      "\"glm.fit: fitted probabilities numerically 0 or 1 occurred\"\n",
      "Warning message:\n",
      "\"glm.fit: fitted probabilities numerically 0 or 1 occurred\"\n"
     ]
    },
    {
     "data": {
      "text/html": [
       "<table class=\"dataframe\">\n",
       "<caption>A data.frame: 5 x 4</caption>\n",
       "<thead>\n",
       "\t<tr><th></th><th scope=col>B</th><th scope=col>Wald</th><th scope=col>OR_with_CI</th><th scope=col>P</th></tr>\n",
       "\t<tr><th></th><th scope=col>&lt;dbl&gt;</th><th scope=col>&lt;dbl&gt;</th><th scope=col>&lt;chr&gt;</th><th scope=col>&lt;chr&gt;</th></tr>\n",
       "</thead>\n",
       "<tbody>\n",
       "\t<tr><th scope=row>(Intercept)</th><td>-13.817</td><td>16.190</td><td><span style=white-space:pre-wrap>0(0~0)             </span></td><td>&lt;0.001</td></tr>\n",
       "\t<tr><th scope=row>FAM200B</th><td><span style=white-space:pre-wrap>  1.612</span></td><td>11.047</td><td>5.013(2.212~15.552)</td><td>&lt;0.001</td></tr>\n",
       "\t<tr><th scope=row>BCL2A1</th><td> -0.050</td><td> 2.261</td><td>0.951(0.886~1.013) </td><td>0.133 </td></tr>\n",
       "\t<tr><th scope=row>IGJ</th><td>  0.029</td><td> 3.958</td><td>1.029(1.003~1.062) </td><td>0.047 </td></tr>\n",
       "\t<tr><th scope=row>TXN</th><td>  0.325</td><td> 5.317</td><td>1.383(1.074~1.887) </td><td>0.021 </td></tr>\n",
       "</tbody>\n",
       "</table>\n"
      ],
      "text/latex": [
       "A data.frame: 5 x 4\n",
       "\\begin{tabular}{r|llll}\n",
       "  & B & Wald & OR\\_with\\_CI & P\\\\\n",
       "  & <dbl> & <dbl> & <chr> & <chr>\\\\\n",
       "\\hline\n",
       "\t(Intercept) & -13.817 & 16.190 & 0(0\\textasciitilde{}0)              & <0.001\\\\\n",
       "\tFAM200B &   1.612 & 11.047 & 5.013(2.212\\textasciitilde{}15.552) & <0.001\\\\\n",
       "\tBCL2A1 &  -0.050 &  2.261 & 0.951(0.886\\textasciitilde{}1.013)  & 0.133 \\\\\n",
       "\tIGJ &   0.029 &  3.958 & 1.029(1.003\\textasciitilde{}1.062)  & 0.047 \\\\\n",
       "\tTXN &   0.325 &  5.317 & 1.383(1.074\\textasciitilde{}1.887)  & 0.021 \\\\\n",
       "\\end{tabular}\n"
      ],
      "text/markdown": [
       "\n",
       "A data.frame: 5 x 4\n",
       "\n",
       "| <!--/--> | B &lt;dbl&gt; | Wald &lt;dbl&gt; | OR_with_CI &lt;chr&gt; | P &lt;chr&gt; |\n",
       "|---|---|---|---|---|\n",
       "| (Intercept) | -13.817 | 16.190 | 0(0~0)              | &lt;0.001 |\n",
       "| FAM200B |   1.612 | 11.047 | 5.013(2.212~15.552) | &lt;0.001 |\n",
       "| BCL2A1 |  -0.050 |  2.261 | 0.951(0.886~1.013)  | 0.133  |\n",
       "| IGJ |   0.029 |  3.958 | 1.029(1.003~1.062)  | 0.047  |\n",
       "| TXN |   0.325 |  5.317 | 1.383(1.074~1.887)  | 0.021  |\n",
       "\n"
      ],
      "text/plain": [
       "            B       Wald   OR_with_CI          P     \n",
       "(Intercept) -13.817 16.190 0(0~0)              <0.001\n",
       "FAM200B       1.612 11.047 5.013(2.212~15.552) <0.001\n",
       "BCL2A1       -0.050  2.261 0.951(0.886~1.013)  0.133 \n",
       "IGJ           0.029  3.958 1.029(1.003~1.062)  0.047 \n",
       "TXN           0.325  5.317 1.383(1.074~1.887)  0.021 "
      ]
     },
     "metadata": {},
     "output_type": "display_data"
    }
   ],
   "source": [
    "\n",
    "\n",
    "# train_sub = sample(nrow(data),9/10*nrow(data))\n",
    "# train_data = data[train_sub,]\n",
    "# test_data =data[-train_sub,]\n",
    "\n",
    "# fit.reduce<-glm(Group~.,data=data,family=binomial())\n",
    "# summary(fit.reduce)\n",
    "\n",
    "formatFit<-function(fit){\n",
    "  #取P值\n",
    "  p<-summary(fit)$coefficients[,4]\n",
    "  #wald值\n",
    "  wald<-summary(fit)$coefficients[,3]^2\n",
    "  #B值\n",
    "  valueB<-coef(fit)\n",
    "  #OR值\n",
    "  valueOR<-exp(coef(fit))\n",
    "  #OR值得95%CI\n",
    "  confitOR<-exp(confint(fit))\n",
    "  data.frame(\n",
    "    B=round(valueB,3),\n",
    "    Wald=round(wald,3),\n",
    "    OR_with_CI=paste(round(valueOR,3),\"(\",\n",
    "               round(confitOR[,1],3),\"~\",round(confitOR[,2],3),\")\",sep=\"\"),\n",
    "    P=format.pval(p,digits = 3,eps=0.001)\n",
    "  )\n",
    "}\n",
    "\n",
    "formatFit(logit.step)"
   ]
  },
  {
   "cell_type": "code",
   "execution_count": null,
   "id": "de244ff6-db8c-4f0e-a156-115066a2da55",
   "metadata": {},
   "outputs": [],
   "source": []
  },
  {
   "cell_type": "code",
   "execution_count": null,
   "id": "1c8f6f0f-bd58-485d-8583-83f6a1c6add4",
   "metadata": {},
   "outputs": [],
   "source": []
  },
  {
   "cell_type": "code",
   "execution_count": null,
   "id": "7e8e1430-a866-4bd0-80ca-225db660e279",
   "metadata": {},
   "outputs": [],
   "source": []
  },
  {
   "cell_type": "code",
   "execution_count": null,
   "id": "4ba4c170-db30-4b04-bc0a-c026ba620b1e",
   "metadata": {},
   "outputs": [],
   "source": []
  },
  {
   "cell_type": "code",
   "execution_count": null,
   "id": "ee9158ed-d97f-4df7-88ee-d8df107f2e55",
   "metadata": {},
   "outputs": [],
   "source": []
  },
  {
   "cell_type": "code",
   "execution_count": null,
   "id": "59b92326-8327-4e07-981b-a8d5bd9a4168",
   "metadata": {},
   "outputs": [],
   "source": []
  },
  {
   "cell_type": "code",
   "execution_count": null,
   "id": "0d73c02e-9a84-461d-9f96-a2f3aee8f43e",
   "metadata": {},
   "outputs": [],
   "source": []
  },
  {
   "cell_type": "code",
   "execution_count": null,
   "id": "3214a925-b797-4196-8267-3c4a4a9b38da",
   "metadata": {},
   "outputs": [],
   "source": []
  },
  {
   "cell_type": "code",
   "execution_count": 71,
   "id": "5bbb80b1-a8e7-4645-924f-9d7f0fbe8c02",
   "metadata": {},
   "outputs": [
    {
     "data": {
      "text/html": [
       "<style>\n",
       ".list-inline {list-style: none; margin:0; padding: 0}\n",
       ".list-inline>li {display: inline-block}\n",
       ".list-inline>li:not(:last-child)::after {content: \"\\00b7\"; padding: 0 .5ex}\n",
       "</style>\n",
       "<ol class=list-inline><li>'FAM200B'</li><li>'SAMD9'</li><li>'BCL2A1'</li><li>'IGJ'</li><li>'TAF7'</li><li>'TXN'</li><li>'CLEC2B'</li></ol>\n"
      ],
      "text/latex": [
       "\\begin{enumerate*}\n",
       "\\item 'FAM200B'\n",
       "\\item 'SAMD9'\n",
       "\\item 'BCL2A1'\n",
       "\\item 'IGJ'\n",
       "\\item 'TAF7'\n",
       "\\item 'TXN'\n",
       "\\item 'CLEC2B'\n",
       "\\end{enumerate*}\n"
      ],
      "text/markdown": [
       "1. 'FAM200B'\n",
       "2. 'SAMD9'\n",
       "3. 'BCL2A1'\n",
       "4. 'IGJ'\n",
       "5. 'TAF7'\n",
       "6. 'TXN'\n",
       "7. 'CLEC2B'\n",
       "\n",
       "\n"
      ],
      "text/plain": [
       "[1] \"FAM200B\" \"SAMD9\"   \"BCL2A1\"  \"IGJ\"     \"TAF7\"    \"TXN\"     \"CLEC2B\" "
      ]
     },
     "metadata": {},
     "output_type": "display_data"
    }
   ],
   "source": [
    "a"
   ]
  },
  {
   "cell_type": "code",
   "execution_count": 72,
   "id": "1e759b26-f294-4097-8541-6fddaf0457b8",
   "metadata": {},
   "outputs": [
    {
     "name": "stderr",
     "output_type": "stream",
     "text": [
      "Waiting for profiling to be done...\n",
      "\n",
      "Warning message:\n",
      "\"glm.fit: fitted probabilities numerically 0 or 1 occurred\"\n",
      "Warning message:\n",
      "\"glm.fit: fitted probabilities numerically 0 or 1 occurred\"\n",
      "Waiting for profiling to be done...\n",
      "\n",
      "Warning message:\n",
      "\"glm.fit: fitted probabilities numerically 0 or 1 occurred\"\n",
      "Warning message:\n",
      "\"glm.fit: fitted probabilities numerically 0 or 1 occurred\"\n"
     ]
    }
   ],
   "source": [
    "b = rownames(formatFit(logit.step))[2:length(rownames(formatFit(logit.step)))]"
   ]
  },
  {
   "cell_type": "code",
   "execution_count": 73,
   "id": "cd16c8cc-6758-4ab4-9ef2-42439bcb5a7e",
   "metadata": {},
   "outputs": [],
   "source": [
    "data = data[,c('Group',b)]"
   ]
  },
  {
   "cell_type": "code",
   "execution_count": null,
   "id": "2661dbbf-c0c4-44cd-9dfa-43caf53d723c",
   "metadata": {},
   "outputs": [],
   "source": []
  },
  {
   "cell_type": "code",
   "execution_count": 74,
   "id": "d3a0a32a-af83-48f8-a609-caa731beabc8",
   "metadata": {},
   "outputs": [
    {
     "name": "stderr",
     "output_type": "stream",
     "text": [
      "Setting levels: control = 1, case = 2\n",
      "\n",
      "Setting direction: controls < cases\n",
      "\n",
      "Setting levels: control = 1, case = 2\n",
      "\n",
      "Setting direction: controls < cases\n",
      "\n",
      "Setting levels: control = 1, case = 2\n",
      "\n",
      "Setting direction: controls < cases\n",
      "\n",
      "Setting levels: control = 1, case = 2\n",
      "\n",
      "Setting direction: controls < cases\n",
      "\n",
      "Setting levels: control = 1, case = 2\n",
      "\n",
      "Setting direction: controls < cases\n",
      "\n",
      "Setting levels: control = 1, case = 2\n",
      "\n",
      "Setting direction: controls < cases\n",
      "\n",
      "Setting levels: control = 1, case = 2\n",
      "\n",
      "Setting direction: controls < cases\n",
      "\n",
      "Setting levels: control = 1, case = 2\n",
      "\n",
      "Setting direction: controls < cases\n",
      "\n",
      "Setting levels: control = 1, case = 2\n",
      "\n",
      "Setting direction: controls < cases\n",
      "\n",
      "Setting levels: control = 1, case = 2\n",
      "\n",
      "Setting direction: controls < cases\n",
      "\n"
     ]
    },
    {
     "data": {
      "text/html": [
       "0.942858263305322"
      ],
      "text/latex": [
       "0.942858263305322"
      ],
      "text/markdown": [
       "0.942858263305322"
      ],
      "text/plain": [
       "[1] 0.9428583"
      ]
     },
     "metadata": {},
     "output_type": "display_data"
    }
   ],
   "source": [
    "set.seed(101)\n",
    "#单纯10折交叉验证，time=1\n",
    "folds <-createMultiFolds(y=data$Group,k=5,times=10)\n",
    "#10次批量训练与验证\n",
    "#做成循环\n",
    "auc_value<-as.numeric()\n",
    "for(i in 1:10){ \n",
    "  train<- data[ folds[[i]],] \n",
    "  test <- data[-folds[[i]],] \n",
    "  model<-glm(Group~.,data=train ,family=binomial())\n",
    "    \n",
    "  model_pre<-predict(model,type='response', newdata=train)\n",
    "  auc_value<- append(auc_value,\n",
    "                     as.numeric(pROC::auc(as.numeric(train[,1]),model_pre)))\n",
    "}\n",
    "mean(auc_value)"
   ]
  },
  {
   "cell_type": "code",
   "execution_count": 75,
   "id": "61d11a9a-5d9f-4fef-89af-92c41af2385a",
   "metadata": {},
   "outputs": [
    {
     "data": {
      "text/html": [
       "<style>\n",
       ".list-inline {list-style: none; margin:0; padding: 0}\n",
       ".list-inline>li {display: inline-block}\n",
       ".list-inline>li:not(:last-child)::after {content: \"\\00b7\"; padding: 0 .5ex}\n",
       "</style>\n",
       "<ol class=list-inline><li>0.936274509803922</li><li>0.947058823529412</li><li>0.954285714285714</li><li>0.945142857142857</li><li>0.929411764705882</li><li>0.938285714285714</li><li>0.94047619047619</li><li>0.954117647058824</li><li>0.956470588235294</li><li>0.927058823529412</li></ol>\n"
      ],
      "text/latex": [
       "\\begin{enumerate*}\n",
       "\\item 0.936274509803922\n",
       "\\item 0.947058823529412\n",
       "\\item 0.954285714285714\n",
       "\\item 0.945142857142857\n",
       "\\item 0.929411764705882\n",
       "\\item 0.938285714285714\n",
       "\\item 0.94047619047619\n",
       "\\item 0.954117647058824\n",
       "\\item 0.956470588235294\n",
       "\\item 0.927058823529412\n",
       "\\end{enumerate*}\n"
      ],
      "text/markdown": [
       "1. 0.936274509803922\n",
       "2. 0.947058823529412\n",
       "3. 0.954285714285714\n",
       "4. 0.945142857142857\n",
       "5. 0.929411764705882\n",
       "6. 0.938285714285714\n",
       "7. 0.94047619047619\n",
       "8. 0.954117647058824\n",
       "9. 0.956470588235294\n",
       "10. 0.927058823529412\n",
       "\n",
       "\n"
      ],
      "text/plain": [
       " [1] 0.9362745 0.9470588 0.9542857 0.9451429 0.9294118 0.9382857 0.9404762\n",
       " [8] 0.9541176 0.9564706 0.9270588"
      ]
     },
     "metadata": {},
     "output_type": "display_data"
    }
   ],
   "source": [
    "auc_value"
   ]
  },
  {
   "cell_type": "code",
   "execution_count": 76,
   "id": "2832f091-ce0a-410e-8820-1f27aba6e695",
   "metadata": {},
   "outputs": [],
   "source": [
    "num <- which.max(auc_value)"
   ]
  },
  {
   "cell_type": "code",
   "execution_count": 77,
   "id": "d4724727-661d-4cff-b58a-5b8d0e27df36",
   "metadata": {},
   "outputs": [],
   "source": [
    "train<- data[ folds[[num]],] \n",
    "test <- data[-folds[[num]],] "
   ]
  },
  {
   "cell_type": "markdown",
   "id": "a73ca1ae-05d8-4e6b-a830-6f6745b7c7cb",
   "metadata": {},
   "source": [
    "### https://www.jianshu.com/p/e53508d2258f"
   ]
  },
  {
   "cell_type": "code",
   "execution_count": 78,
   "id": "f3972ffa-9b94-4efc-bf75-4a34e5d34255",
   "metadata": {},
   "outputs": [
    {
     "name": "stdout",
     "output_type": "stream",
     "text": [
      "\n",
      "Divergence or singularity in 5 samples\n"
     ]
    }
   ],
   "source": [
    "library(rms)\n",
    "dd <- datadist(train)\n",
    "options(datadist=\"dd\")\n",
    "fit1 <- lrm(Group ~.,\n",
    "            data = train,x=T,y=T)\n",
    "cal1 <- calibrate(fit1, method='boot', B=100)"
   ]
  },
  {
   "cell_type": "code",
   "execution_count": 79,
   "id": "1ccc1b4a-616b-44e8-bdde-6264794196af",
   "metadata": {},
   "outputs": [
    {
     "name": "stdout",
     "output_type": "stream",
     "text": [
      "\n",
      "n=59   Mean absolute error=0.037   Mean squared error=0.00177\n",
      "0.9 Quantile of absolute error=0.056\n",
      "\n"
     ]
    },
    {
     "data": {
      "image/png": "[encoded data removed]",
      "text/plain": [
       "plot without title"
      ]
     },
     "metadata": {
      "image/png": {
       "height": 360,
       "width": 480
      }
     },
     "output_type": "display_data"
    }
   ],
   "source": [
    "plot(cal1,\n",
    "     xlim = c(0,1),\n",
    "     xlab = \"Predicted Probability\",\n",
    "     ylab = \"Observed Probability\",\n",
    "     legend = FALSE,\n",
    "     subtitles = FALSE)\n",
    "abline(0,1,col = \"black\",lty = 2,lwd = 2)\n",
    "lines(cal1[,c(\"predy\",\"calibrated.orig\")], type = \"l\",lwd = 2,col=\"red\",pch =16)\n",
    "lines(cal1[,c(\"predy\",\"calibrated.corrected\")], type = \"l\",lwd = 2,col=\"green\",pch =16)\n",
    "legend(0.55,0.35,\n",
    "       c(\"Apparent\",\"Ideal\",\"Bias-corrected\"),\n",
    "       lty = c(2,1,1),\n",
    "       lwd = c(2,1,1),\n",
    "       col = c(\"black\",\"red\",\"green\"),\n",
    "       bty = \"n\") # \"o\"为加边框"
   ]
  },
  {
   "cell_type": "code",
   "execution_count": 80,
   "id": "7397f202-7216-4af9-a5c1-4ed6df4f45c0",
   "metadata": {},
   "outputs": [
    {
     "name": "stdout",
     "output_type": "stream",
     "text": [
      "\n",
      "n=59   Mean absolute error=0.037   Mean squared error=0.00177\n",
      "0.9 Quantile of absolute error=0.056\n",
      "\n"
     ]
    },
    {
     "data": {
      "text/html": [
       "<strong>png:</strong> 2"
      ],
      "text/latex": [
       "\\textbf{png:} 2"
      ],
      "text/markdown": [
       "**png:** 2"
      ],
      "text/plain": [
       "png \n",
       "  2 "
      ]
     },
     "metadata": {},
     "output_type": "display_data"
    }
   ],
   "source": [
    "pdf('aaa.pdf',height = 6,width = 6)\n",
    "plot(cal1,\n",
    "     xlim = c(0,1),\n",
    "     xlab = \"Predicted Probability\",\n",
    "     ylab = \"Observed Probability\",\n",
    "     legend = FALSE,\n",
    "     subtitles = FALSE)\n",
    "abline(0,1,col = \"black\",lty = 2,lwd = 2)\n",
    "lines(cal1[,c(\"predy\",\"calibrated.orig\")], type = \"l\",lwd = 2,col=\"red\",pch =16)\n",
    "lines(cal1[,c(\"predy\",\"calibrated.corrected\")], type = \"l\",lwd = 2,col=\"green\",pch =16)\n",
    "legend(0.55,0.35,\n",
    "       c(\"Apparent\",\"Ideal\",\"Bias-corrected\"),\n",
    "       lty = c(2,1,1),\n",
    "       lwd = c(2,1,1),\n",
    "       col = c(\"black\",\"red\",\"green\"),\n",
    "       bty = \"n\") # \"o\"为加边框\n",
    "dev.off()"
   ]
  },
  {
   "cell_type": "code",
   "execution_count": null,
   "id": "6fc041d9-9532-4253-b39c-7a195ed58688",
   "metadata": {},
   "outputs": [],
   "source": [
    "fold_pre <- glm(Group~.,data=train,family=binomial())\n",
    "fold_predict <- predict(fold_pre,type='response',newdata=data)"
   ]
  },
  {
   "cell_type": "code",
   "execution_count": null,
   "id": "29b9cada-1e23-463c-85d1-8b6c95b25627",
   "metadata": {},
   "outputs": [],
   "source": []
  },
  {
   "cell_type": "code",
   "execution_count": null,
   "id": "989bf4a6-9d5f-4913-a8d8-da03e21b76a1",
   "metadata": {},
   "outputs": [],
   "source": []
  },
  {
   "cell_type": "code",
   "execution_count": 83,
   "id": "c423a79a-6daa-473e-bce5-800e91bab4a9",
   "metadata": {},
   "outputs": [],
   "source": [
    "options(repr.plot.height = 6,repr.plot.width = 6)"
   ]
  },
  {
   "cell_type": "code",
   "execution_count": 84,
   "id": "de50b086-2e95-41e0-a529-1332e8daa62d",
   "metadata": {},
   "outputs": [
    {
     "name": "stderr",
     "output_type": "stream",
     "text": [
      "Type 'citation(\"pROC\")' for a citation.\n",
      "\n",
      "\n",
      "Attaching package: 'pROC'\n",
      "\n",
      "\n",
      "The following object is masked from 'package:epiDisplay':\n",
      "\n",
      "    ci\n",
      "\n",
      "\n",
      "The following objects are masked from 'package:stats':\n",
      "\n",
      "    cov, smooth, var\n",
      "\n",
      "\n"
     ]
    }
   ],
   "source": [
    "library(pROC)"
   ]
  },
  {
   "cell_type": "code",
   "execution_count": 85,
   "id": "15371834-e6c4-489a-8ae9-05f644216a39",
   "metadata": {},
   "outputs": [
    {
     "name": "stderr",
     "output_type": "stream",
     "text": [
      "Setting levels: control = 0, case = 1\n",
      "\n",
      "Setting direction: controls < cases\n",
      "\n"
     ]
    }
   ],
   "source": [
    "res <- roc(data$Group,data$BCL2A1,ci=T,auc=T)"
   ]
  },
  {
   "cell_type": "code",
   "execution_count": 86,
   "id": "d5337439-5436-4633-adef-298e8e1ac8ca",
   "metadata": {},
   "outputs": [
    {
     "data": {
      "text/html": [
       "<strong>png:</strong> 2"
      ],
      "text/latex": [
       "\\textbf{png:} 2"
      ],
      "text/markdown": [
       "**png:** 2"
      ],
      "text/plain": [
       "png \n",
       "  2 "
      ]
     },
     "metadata": {},
     "output_type": "display_data"
    }
   ],
   "source": [
    "pdf('ROC.pdf',height = 6,width = 6)\n",
    "rocobj1 <- plot.roc(data$Group, data$BCL2A1,percent=TRUE, levels=c(0,1),direction=\"<\",col=\"#1c61b6\")\n",
    "rocobj2 <- lines.roc(data$Group, data$FAM200B,percent=TRUE, levels=c(0,1),direction=\"<\", col=\"#008600\")\n",
    "rocobj3 <- lines.roc(data$Group, data$IGJ,percent=TRUE, levels=c(0,1),direction=\"<\", col=\"#9C6D35\")\n",
    "rocobj4 <- lines.roc(data$Group, data$TXN,percent=TRUE, levels=c(0,1),direction=\"<\", col=\"#9F1A70\")\n",
    "rocobj5 <- lines.roc(data$Group, fold_predict,percent=TRUE, levels=c(0,1),direction=\"<\", col=\"#491A9F\")\n",
    "legend(\"right\", legend=c(paste0(\"BCL2A1 \", round(rocobj1$auc/100,digits = 2)),\n",
    "                               paste0(\"FAM200B \", round(rocobj2$auc/100,digits = 2)),\n",
    "                               paste0(\"IGJ \", round(rocobj3$auc/100,digits = 2)),\n",
    "                               paste0(\"TXN \", round(rocobj4$auc/100,digits = 2)),\n",
    "                               paste0(\"fold_predict \", round(rocobj5$auc/100,digits = 2))),\n",
    "       col=c(\"#1c61b6\", \"#008600\",\"#9C6D35\",\"#9F1A70\",\"#491A9F\"), lwd=1)\n",
    "dev.off()"
   ]
  },
  {
   "cell_type": "code",
   "execution_count": 87,
   "id": "6a2d4b34-54a7-4230-9726-c4cbb52e22ab",
   "metadata": {},
   "outputs": [
    {
     "data": {
      "image/png": "[encoded data removed]",
      "text/plain": [
       "plot without title"
      ]
     },
     "metadata": {
      "image/png": {
       "height": 360,
       "width": 360
      }
     },
     "output_type": "display_data"
    }
   ],
   "source": [
    "rocobj1 <- plot.roc(data$Group, data$BCL2A1,percent=TRUE, levels=c(0,1),direction=\"<\",col=\"#1c61b6\")\n",
    "rocobj2 <- lines.roc(data$Group, data$FAM200B,percent=TRUE, levels=c(0,1),direction=\"<\", col=\"#008600\")\n",
    "rocobj3 <- lines.roc(data$Group, data$IGJ,percent=TRUE, levels=c(0,1),direction=\"<\", col=\"#9C6D35\")\n",
    "rocobj4 <- lines.roc(data$Group, data$TXN,percent=TRUE, levels=c(0,1),direction=\"<\", col=\"#9F1A70\")\n",
    "rocobj5 <- lines.roc(data$Group, fold_predict,percent=TRUE, levels=c(0,1),direction=\"<\", col=\"#491A9F\")\n",
    "legend(\"right\", legend=c(paste0(\"BCL2A1 \", round(rocobj1$auc/100,digits = 2)),\n",
    "                               paste0(\"FAM200B \", round(rocobj2$auc/100,digits = 2)),\n",
    "                               paste0(\"IGJ \", round(rocobj3$auc/100,digits = 2)),\n",
    "                               paste0(\"TXN \", round(rocobj4$auc/100,digits = 2)),\n",
    "                               paste0(\"fold_predict \", round(rocobj5$auc/100,digits = 2))),\n",
    "       col=c(\"#1c61b6\", \"#008600\",\"#9C6D35\",\"#9F1A70\",\"#491A9F\"), lwd=1)\n",
    "# testobj <- roc.test(rocobj1, rocobj2)\n",
    "# text(50, 50, labels=paste(\"p-value =\", format.pval(testobj$p.value)), adj=c(0, .5))"
   ]
  },
  {
   "cell_type": "code",
   "execution_count": null,
   "id": "06711ea1-e70a-43e2-8b3a-3f8022f58909",
   "metadata": {},
   "outputs": [],
   "source": []
  },
  {
   "cell_type": "code",
   "execution_count": null,
   "id": "bb46040a-0694-43e6-9b44-0c6971f15d62",
   "metadata": {},
   "outputs": [],
   "source": []
  },
  {
   "cell_type": "code",
   "execution_count": null,
   "id": "691976f8-d59c-4f40-8072-ebb3d166419d",
   "metadata": {},
   "outputs": [],
   "source": []
  },
  {
   "cell_type": "code",
   "execution_count": null,
   "id": "e2e7780c-94b6-4c77-baf2-5a076a0d7c10",
   "metadata": {},
   "outputs": [],
   "source": []
  },
  {
   "cell_type": "code",
   "execution_count": null,
   "id": "3426b747-dec8-47a7-ac6a-02049060d7ab",
   "metadata": {},
   "outputs": [],
   "source": []
  },
  {
   "cell_type": "code",
   "execution_count": null,
   "id": "a1c3861d-828a-4013-a22d-0c71258592f8",
   "metadata": {},
   "outputs": [],
   "source": []
  },
  {
   "cell_type": "code",
   "execution_count": 88,
   "id": "e4c3e31e-b803-4b9c-8bc9-131b2e513991",
   "metadata": {},
   "outputs": [],
   "source": [
    "# roc_curve <- pROC::roc(Group,fold_predict)\n",
    "# plot(roc_curve, print.auc=TRUE, auc.polygon=TRUE, grid=c(0.1, 0.2),\n",
    "#      grid.col=c(\"green\", \"red\"), max.auc.polygon=TRUE,#legacy.axes= TRUE,\n",
    "#      auc.polygon.col=\"skyblue\", print.thres=TRUE,main=\"ROC curve for the set with the largest AUC value\")"
   ]
  },
  {
   "cell_type": "code",
   "execution_count": 89,
   "id": "ec26a97f-04cc-4c18-b8af-1d7f2959457e",
   "metadata": {},
   "outputs": [
    {
     "name": "stderr",
     "output_type": "stream",
     "text": [
      "\n",
      "Attaching package: 'autoReg'\n",
      "\n",
      "\n",
      "The following object is masked from 'package:MASS':\n",
      "\n",
      "    select\n",
      "\n",
      "\n"
     ]
    },
    {
     "data": {
      "text/html": [
       "<table class=\"dataframe\">\n",
       "<caption>A autoReg: 4 x 7</caption>\n",
       "<thead>\n",
       "\t<tr><th scope=col>name</th><th scope=col>desc</th><th scope=col>0 (N=31)</th><th scope=col>1 (N=43)</th><th scope=col>id</th><th scope=col>OR (univariable)</th><th scope=col>OR (multivariable)</th></tr>\n",
       "\t<tr><th scope=col>&lt;chr&gt;</th><th scope=col>&lt;chr&gt;</th><th scope=col>&lt;chr&gt;</th><th scope=col>&lt;chr&gt;</th><th scope=col>&lt;chr&gt;</th><th scope=col>&lt;chr&gt;</th><th scope=col>&lt;chr&gt;</th></tr>\n",
       "</thead>\n",
       "<tbody>\n",
       "\t<tr><td>FAM200B</td><td>Mean &lt;U+00B1&gt; SD</td><td><span style=white-space:pre-wrap>5.0 &lt;U+00B1&gt; 0.9  </span></td><td><span style=white-space:pre-wrap>7.2 &lt;U+00B1&gt; 1.7  </span></td><td>FAM200B</td><td>5.10 (2.36-11.01, p&lt;.001)</td><td>5.01 (1.94-12.97, p&lt;.001)</td></tr>\n",
       "\t<tr><td>BCL2A1 </td><td>Mean &lt;U+00B1&gt; SD</td><td>29.7 &lt;U+00B1&gt; 13.3</td><td>50.5 &lt;U+00B1&gt; 34.8</td><td>BCL2A1 </td><td>1.05 (1.02-1.09, p=.002) </td><td>0.95 (0.89-1.02, p=.133) </td></tr>\n",
       "\t<tr><td><span style=white-space:pre-wrap>IGJ    </span></td><td>Mean &lt;U+00B1&gt; SD</td><td>34.0 &lt;U+00B1&gt; 25.1</td><td>63.3 &lt;U+00B1&gt; 47.5</td><td><span style=white-space:pre-wrap>IGJ    </span></td><td>1.03 (1.01-1.04, p=.006) </td><td>1.03 (1.00-1.06, p=.047) </td></tr>\n",
       "\t<tr><td><span style=white-space:pre-wrap>TXN    </span></td><td>Mean &lt;U+00B1&gt; SD</td><td>14.2 &lt;U+00B1&gt; 3.6 </td><td>22.1 &lt;U+00B1&gt; 9.0 </td><td><span style=white-space:pre-wrap>TXN    </span></td><td>1.32 (1.14-1.52, p&lt;.001) </td><td>1.38 (1.05-1.82, p=.021) </td></tr>\n",
       "</tbody>\n",
       "</table>\n"
      ],
      "text/latex": [
       "A autoReg: 4 x 7\n",
       "\\begin{tabular}{lllllll}\n",
       " name & desc & 0 (N=31) & 1 (N=43) & id & OR (univariable) & OR (multivariable)\\\\\n",
       " <chr> & <chr> & <chr> & <chr> & <chr> & <chr> & <chr>\\\\\n",
       "\\hline\n",
       "\t FAM200B & Mean <U+00B1> SD & 5.0 <U+00B1> 0.9   & 7.2 <U+00B1> 1.7   & FAM200B & 5.10 (2.36-11.01, p<.001) & 5.01 (1.94-12.97, p<.001)\\\\\n",
       "\t BCL2A1  & Mean <U+00B1> SD & 29.7 <U+00B1> 13.3 & 50.5 <U+00B1> 34.8 & BCL2A1  & 1.05 (1.02-1.09, p=.002)  & 0.95 (0.89-1.02, p=.133) \\\\\n",
       "\t IGJ     & Mean <U+00B1> SD & 34.0 <U+00B1> 25.1 & 63.3 <U+00B1> 47.5 & IGJ     & 1.03 (1.01-1.04, p=.006)  & 1.03 (1.00-1.06, p=.047) \\\\\n",
       "\t TXN     & Mean <U+00B1> SD & 14.2 <U+00B1> 3.6  & 22.1 <U+00B1> 9.0  & TXN     & 1.32 (1.14-1.52, p<.001)  & 1.38 (1.05-1.82, p=.021) \\\\\n",
       "\\end{tabular}\n"
      ],
      "text/markdown": [
       "\n",
       "A autoReg: 4 x 7\n",
       "\n",
       "| name &lt;chr&gt; | desc &lt;chr&gt; | 0 (N=31) &lt;chr&gt; | 1 (N=43) &lt;chr&gt; | id &lt;chr&gt; | OR (univariable) &lt;chr&gt; | OR (multivariable) &lt;chr&gt; |\n",
       "|---|---|---|---|---|---|---|\n",
       "| FAM200B | Mean &lt;U+00B1&gt; SD | 5.0 &lt;U+00B1&gt; 0.9   | 7.2 &lt;U+00B1&gt; 1.7   | FAM200B | 5.10 (2.36-11.01, p&lt;.001) | 5.01 (1.94-12.97, p&lt;.001) |\n",
       "| BCL2A1  | Mean &lt;U+00B1&gt; SD | 29.7 &lt;U+00B1&gt; 13.3 | 50.5 &lt;U+00B1&gt; 34.8 | BCL2A1  | 1.05 (1.02-1.09, p=.002)  | 0.95 (0.89-1.02, p=.133)  |\n",
       "| IGJ     | Mean &lt;U+00B1&gt; SD | 34.0 &lt;U+00B1&gt; 25.1 | 63.3 &lt;U+00B1&gt; 47.5 | IGJ     | 1.03 (1.01-1.04, p=.006)  | 1.03 (1.00-1.06, p=.047)  |\n",
       "| TXN     | Mean &lt;U+00B1&gt; SD | 14.2 &lt;U+00B1&gt; 3.6  | 22.1 &lt;U+00B1&gt; 9.0  | TXN     | 1.32 (1.14-1.52, p&lt;.001)  | 1.38 (1.05-1.82, p=.021)  |\n",
       "\n"
      ],
      "text/plain": [
       "  name    desc             0 (N=31)           1 (N=43)           id     \n",
       "1 FAM200B Mean <U+00B1> SD 5.0 <U+00B1> 0.9   7.2 <U+00B1> 1.7   FAM200B\n",
       "2 BCL2A1  Mean <U+00B1> SD 29.7 <U+00B1> 13.3 50.5 <U+00B1> 34.8 BCL2A1 \n",
       "3 IGJ     Mean <U+00B1> SD 34.0 <U+00B1> 25.1 63.3 <U+00B1> 47.5 IGJ    \n",
       "4 TXN     Mean <U+00B1> SD 14.2 <U+00B1> 3.6  22.1 <U+00B1> 9.0  TXN    \n",
       "  OR (univariable)          OR (multivariable)       \n",
       "1 5.10 (2.36-11.01, p<.001) 5.01 (1.94-12.97, p<.001)\n",
       "2 1.05 (1.02-1.09, p=.002)  0.95 (0.89-1.02, p=.133) \n",
       "3 1.03 (1.01-1.04, p=.006)  1.03 (1.00-1.06, p=.047) \n",
       "4 1.32 (1.14-1.52, p<.001)  1.38 (1.05-1.82, p=.021) "
      ]
     },
     "metadata": {},
     "output_type": "display_data"
    }
   ],
   "source": [
    "library(\"autoReg\")\n",
    "overall.log =  glm(Group~.,data=data,family=binomial())\n",
    "model3<-autoReg(overall.log,uni=TRUE,milti=TRUE,threshold=0.05)\n",
    "model3"
   ]
  },
  {
   "cell_type": "code",
   "execution_count": 90,
   "id": "4626f6a5-1cf9-4d63-bea5-5ba8d785970f",
   "metadata": {},
   "outputs": [],
   "source": [
    "options(repr.plot.width = 8)"
   ]
  },
  {
   "cell_type": "code",
   "execution_count": 91,
   "id": "27a30aaa-4a36-472d-9348-44cdad058feb",
   "metadata": {},
   "outputs": [
    {
     "data": {
      "image/png": "[encoded data removed]",
      "text/plain": [
       "plot without title"
      ]
     },
     "metadata": {
      "image/png": {
       "height": 360,
       "width": 480
      }
     },
     "output_type": "display_data"
    }
   ],
   "source": [
    "modelPlot(overall.log,change.pointsize = T)"
   ]
  },
  {
   "cell_type": "code",
   "execution_count": 92,
   "id": "f9ffdc27-d752-41aa-bd3a-c6796bbffdce",
   "metadata": {},
   "outputs": [
    {
     "data": {
      "text/html": [
       "<strong>png:</strong> 2"
      ],
      "text/latex": [
       "\\textbf{png:} 2"
      ],
      "text/markdown": [
       "**png:** 2"
      ],
      "text/plain": [
       "png \n",
       "  2 "
      ]
     },
     "metadata": {},
     "output_type": "display_data"
    }
   ],
   "source": [
    "pdf('multi.pdf',height = 6,width = 5)\n",
    "modelPlot(overall.log,change.pointsize = T)\n",
    "dev.off()"
   ]
  },
  {
   "cell_type": "code",
   "execution_count": 93,
   "id": "25f89956-8727-47ee-b16e-7b2f2eb2fe6c",
   "metadata": {},
   "outputs": [
    {
     "name": "stderr",
     "output_type": "stream",
     "text": [
      "Warning message:\n",
      "\"package 'ROCR' was built under R version 4.2.3\"\n"
     ]
    }
   ],
   "source": [
    "library(ROCR)\n",
    "dd<-datadist(data)  #开始打包数据\n",
    "options(datadist=\"dd\")\n",
    "data$Group = as.factor(data$Group)\n",
    "fit1 <- lrm(Group~. , data=data,x=T,y=T)\n",
    "save(fit1,data,file = 'train.fit1.rda')"
   ]
  },
  {
   "cell_type": "code",
   "execution_count": 94,
   "id": "1f6810aa-c8e7-46f4-9028-0d335e534154",
   "metadata": {},
   "outputs": [],
   "source": [
    "library(rms)   ###加载rms包#\n",
    "#f = readRDS('C:/Users/Bonjour/Desktop/bulk2.fit1.rds')\n",
    "load(paste0(getwd(),'/train.fit1.rda'))\n",
    "summary(fit1) \n",
    "\n",
    "library('regplot')\n",
    "regplot(fit1,\n",
    "        plots = c(\"violin\", \"boxes\"), ##连续性变量形状，可选\"no plot\" \"density\" \"boxes\" \"ecdf\" \"bars\" \"boxplot\" \"violin\" \"bean\" \"spikes\"；分类变量的形状，可选\"no plot\" \"boxes\" \"bars\" \"spikes\"\n",
    "        observation = data[1,], #用哪行观测，或者T F\n",
    "        center = F, # 对齐变量\n",
    "        subticks = F,\n",
    "        droplines = F,#是否画竖线\n",
    "        title = \"nomogram\",\n",
    "        points = T, # 截距项显示为0-100\n",
    "        odds = F, # 是否显示OR值\n",
    "        showP = T, # 是否显示变量的显著性标记\n",
    "        rank = \"sd\", # 根据sd给变量排序\n",
    "        interval=\"confidence\", # 展示可信区间\n",
    "        clickable = F # 是否可以交互\n",
    ")\n",
    "ggsave('forest.pdf',height = 8,width = 8)"
   ]
  },
  {
   "cell_type": "code",
   "execution_count": 95,
   "id": "ba37cd9e-298d-4927-8f1b-81faac937997",
   "metadata": {
    "scrolled": true
   },
   "outputs": [
    {
     "name": "stderr",
     "output_type": "stream",
     "text": [
      "Loading required package: cowplot\n",
      "\n",
      "Warning message:\n",
      "\"package 'cowplot' was built under R version 4.2.3\"\n",
      "Loading required package: tidyverse\n",
      "\n",
      "Warning message:\n",
      "\"package 'tibble' was built under R version 4.2.3\"\n",
      "Warning message:\n",
      "\"package 'tidyr' was built under R version 4.2.3\"\n",
      "Warning message:\n",
      "\"package 'readr' was built under R version 4.2.3\"\n",
      "Warning message:\n",
      "\"package 'purrr' was built under R version 4.2.3\"\n",
      "Warning message:\n",
      "\"package 'stringr' was built under R version 4.2.3\"\n",
      "Warning message:\n",
      "\"package 'forcats' was built under R version 4.2.3\"\n",
      "Warning message:\n",
      "\"package 'lubridate' was built under R version 4.2.3\"\n",
      "-- \u001b[1mAttaching core tidyverse packages\u001b[22m ------------------------ tidyverse 2.0.0 --\n",
      "\u001b[32mv\u001b[39m \u001b[34mforcats  \u001b[39m 1.0.0     \u001b[32mv\u001b[39m \u001b[34mstringr  \u001b[39m 1.5.0\n",
      "\u001b[32mv\u001b[39m \u001b[34mlubridate\u001b[39m 1.9.2     \u001b[32mv\u001b[39m \u001b[34mtibble   \u001b[39m 3.2.1\n",
      "\u001b[32mv\u001b[39m \u001b[34mpurrr    \u001b[39m 1.0.2     \u001b[32mv\u001b[39m \u001b[34mtidyr    \u001b[39m 1.3.1\n",
      "\u001b[32mv\u001b[39m \u001b[34mreadr    \u001b[39m 2.1.4     \n",
      "-- \u001b[1mConflicts\u001b[22m ------------------------------------------ tidyverse_conflicts() --\n",
      "\u001b[31mx\u001b[39m \u001b[34mepiDisplay\u001b[39m::\u001b[32malpha()\u001b[39m     masks \u001b[34mggplot2\u001b[39m::alpha()\n",
      "\u001b[31mx\u001b[39m \u001b[34mplyr\u001b[39m::\u001b[32marrange()\u001b[39m         masks \u001b[34mdplyr\u001b[39m::arrange()\n",
      "\u001b[31mx\u001b[39m \u001b[34mrandomForest\u001b[39m::\u001b[32mcombine()\u001b[39m masks \u001b[34mdplyr\u001b[39m::combine()\n",
      "\u001b[31mx\u001b[39m \u001b[34mpurrr\u001b[39m::\u001b[32mcompact()\u001b[39m        masks \u001b[34mplyr\u001b[39m::compact()\n",
      "\u001b[31mx\u001b[39m \u001b[34mplyr\u001b[39m::\u001b[32mcount()\u001b[39m           masks \u001b[34mdplyr\u001b[39m::count()\n",
      "\u001b[31mx\u001b[39m \u001b[34mplyr\u001b[39m::\u001b[32mdesc()\u001b[39m            masks \u001b[34mdplyr\u001b[39m::desc()\n",
      "\u001b[31mx\u001b[39m \u001b[34mplyr\u001b[39m::\u001b[32mfailwith()\u001b[39m        masks \u001b[34mdplyr\u001b[39m::failwith()\n",
      "\u001b[31mx\u001b[39m \u001b[34mdplyr\u001b[39m::\u001b[32mfilter()\u001b[39m         masks \u001b[34mstats\u001b[39m::filter()\n",
      "\u001b[31mx\u001b[39m \u001b[34mplyr\u001b[39m::\u001b[32mid()\u001b[39m              masks \u001b[34mdplyr\u001b[39m::id()\n",
      "\u001b[31mx\u001b[39m \u001b[34mdplyr\u001b[39m::\u001b[32mlag()\u001b[39m            masks \u001b[34mstats\u001b[39m::lag()\n",
      "\u001b[31mx\u001b[39m \u001b[34mpurrr\u001b[39m::\u001b[32mlift()\u001b[39m           masks \u001b[34mcaret\u001b[39m::lift()\n",
      "\u001b[31mx\u001b[39m \u001b[34mggplot2\u001b[39m::\u001b[32mmargin()\u001b[39m       masks \u001b[34mrandomForest\u001b[39m::margin()\n",
      "\u001b[31mx\u001b[39m \u001b[34mplyr\u001b[39m::\u001b[32mmutate()\u001b[39m          masks \u001b[34mdplyr\u001b[39m::mutate()\n",
      "\u001b[31mx\u001b[39m \u001b[34mplyr\u001b[39m::\u001b[32mrename()\u001b[39m          masks \u001b[34mdplyr\u001b[39m::rename()\n",
      "\u001b[31mx\u001b[39m \u001b[34mautoReg\u001b[39m::\u001b[32mselect()\u001b[39m       masks \u001b[34mMASS\u001b[39m::select(), \u001b[34mdplyr\u001b[39m::select()\n",
      "\u001b[31mx\u001b[39m \u001b[34mHmisc\u001b[39m::\u001b[32msrc()\u001b[39m            masks \u001b[34mdplyr\u001b[39m::src()\n",
      "\u001b[31mx\u001b[39m \u001b[34mlubridate\u001b[39m::\u001b[32mstamp()\u001b[39m      masks \u001b[34mcowplot\u001b[39m::stamp()\n",
      "\u001b[31mx\u001b[39m \u001b[34mplyr\u001b[39m::\u001b[32msummarise()\u001b[39m       masks \u001b[34mdplyr\u001b[39m::summarise()\n",
      "\u001b[31mx\u001b[39m \u001b[34mHmisc\u001b[39m::\u001b[32msummarize()\u001b[39m      masks \u001b[34mplyr\u001b[39m::summarize(), \u001b[34mdplyr\u001b[39m::summarize()\n",
      "\u001b[36mi\u001b[39m Use the conflicted package (\u001b[3m\u001b[34m<http://conflicted.r-lib.org/>\u001b[39m\u001b[23m) to force all conflicts to become errors\n",
      "Loading required package: ggsci\n",
      "\n",
      "Warning message:\n",
      "\"package 'ggsci' was built under R version 4.2.3\"\n",
      "Loading required package: ggpubr\n",
      "\n",
      "Warning message:\n",
      "\"package 'ggpubr' was built under R version 4.2.3\"\n",
      "\n",
      "Attaching package: 'ggpubr'\n",
      "\n",
      "\n",
      "The following object is masked from 'package:cowplot':\n",
      "\n",
      "    get_legend\n",
      "\n",
      "\n",
      "The following object is masked from 'package:plyr':\n",
      "\n",
      "    mutate\n",
      "\n",
      "\n"
     ]
    }
   ],
   "source": [
    "require(cowplot)\n",
    "require(tidyverse)\n",
    "require(ggplot2)\n",
    "require(ggsci)\n",
    "require(ggpubr)"
   ]
  },
  {
   "cell_type": "code",
   "execution_count": 96,
   "id": "e76c28ea-7eb0-49fd-b0aa-de099520861d",
   "metadata": {},
   "outputs": [
    {
     "data": {
      "text/html": [
       "<table class=\"dataframe\">\n",
       "<caption>A data.frame: 2 x 5</caption>\n",
       "<thead>\n",
       "\t<tr><th></th><th scope=col>Group</th><th scope=col>FAM200B</th><th scope=col>BCL2A1</th><th scope=col>IGJ</th><th scope=col>TXN</th></tr>\n",
       "\t<tr><th></th><th scope=col>&lt;fct&gt;</th><th scope=col>&lt;dbl&gt;</th><th scope=col>&lt;dbl&gt;</th><th scope=col>&lt;dbl&gt;</th><th scope=col>&lt;dbl&gt;</th></tr>\n",
       "</thead>\n",
       "<tbody>\n",
       "\t<tr><th scope=row>1</th><td>0</td><td>4.886505</td><td>22.32717</td><td>21.40125</td><td> 7.655688</td></tr>\n",
       "\t<tr><th scope=row>2</th><td>0</td><td>6.201921</td><td>32.12134</td><td>21.30293</td><td>17.794071</td></tr>\n",
       "</tbody>\n",
       "</table>\n"
      ],
      "text/latex": [
       "A data.frame: 2 x 5\n",
       "\\begin{tabular}{r|lllll}\n",
       "  & Group & FAM200B & BCL2A1 & IGJ & TXN\\\\\n",
       "  & <fct> & <dbl> & <dbl> & <dbl> & <dbl>\\\\\n",
       "\\hline\n",
       "\t1 & 0 & 4.886505 & 22.32717 & 21.40125 &  7.655688\\\\\n",
       "\t2 & 0 & 6.201921 & 32.12134 & 21.30293 & 17.794071\\\\\n",
       "\\end{tabular}\n"
      ],
      "text/markdown": [
       "\n",
       "A data.frame: 2 x 5\n",
       "\n",
       "| <!--/--> | Group &lt;fct&gt; | FAM200B &lt;dbl&gt; | BCL2A1 &lt;dbl&gt; | IGJ &lt;dbl&gt; | TXN &lt;dbl&gt; |\n",
       "|---|---|---|---|---|---|\n",
       "| 1 | 0 | 4.886505 | 22.32717 | 21.40125 |  7.655688 |\n",
       "| 2 | 0 | 6.201921 | 32.12134 | 21.30293 | 17.794071 |\n",
       "\n"
      ],
      "text/plain": [
       "  Group FAM200B  BCL2A1   IGJ      TXN      \n",
       "1 0     4.886505 22.32717 21.40125  7.655688\n",
       "2 0     6.201921 32.12134 21.30293 17.794071"
      ]
     },
     "metadata": {},
     "output_type": "display_data"
    }
   ],
   "source": [
    "head(data,2)"
   ]
  },
  {
   "cell_type": "code",
   "execution_count": 97,
   "id": "a8727a30-48f9-4d4a-8cd2-2c910bd2e8a5",
   "metadata": {},
   "outputs": [],
   "source": [
    "data1 = data"
   ]
  },
  {
   "cell_type": "code",
   "execution_count": 98,
   "id": "7940e426-f9c1-4cd6-aa36-eb763cda424e",
   "metadata": {},
   "outputs": [],
   "source": [
    "data1$Group = ifelse(data1$Group == 1,'CI','Con')"
   ]
  },
  {
   "cell_type": "code",
   "execution_count": 99,
   "id": "11056b34-603c-447c-b3be-19efb2e72654",
   "metadata": {},
   "outputs": [],
   "source": [
    "mydata<-data1 %>% \n",
    "  ## 基因表达数据gather,gather的范围应调整\n",
    "  gather(key=\"gene\",value=\"Expression\",FAM200B:TXN) %>% \n",
    "  ##\n",
    "  dplyr::select(Group,gene,Expression) "
   ]
  },
  {
   "cell_type": "code",
   "execution_count": 100,
   "id": "fbf33000-dbf0-485b-a435-702f2b0e3ea7",
   "metadata": {},
   "outputs": [
    {
     "data": {
      "text/html": [
       "<table class=\"dataframe\">\n",
       "<caption>A tibble: 4 x 9</caption>\n",
       "<thead>\n",
       "\t<tr><th scope=col>gene</th><th scope=col>.y.</th><th scope=col>group1</th><th scope=col>group2</th><th scope=col>p</th><th scope=col>p.adj</th><th scope=col>p.format</th><th scope=col>p.signif</th><th scope=col>method</th></tr>\n",
       "\t<tr><th scope=col>&lt;chr&gt;</th><th scope=col>&lt;chr&gt;</th><th scope=col>&lt;chr&gt;</th><th scope=col>&lt;chr&gt;</th><th scope=col>&lt;dbl&gt;</th><th scope=col>&lt;dbl&gt;</th><th scope=col>&lt;chr&gt;</th><th scope=col>&lt;chr&gt;</th><th scope=col>&lt;chr&gt;</th></tr>\n",
       "</thead>\n",
       "<tbody>\n",
       "\t<tr><td>FAM200B</td><td>Expression</td><td>Con</td><td>CI</td><td>2.706578e-10</td><td>1.1e-09</td><td>2.7e-10</td><td>****</td><td>T-test</td></tr>\n",
       "\t<tr><td>BCL2A1 </td><td>Expression</td><td>Con</td><td>CI</td><td>7.364233e-04</td><td>1.5e-03</td><td>0.00074</td><td>*** </td><td>T-test</td></tr>\n",
       "\t<tr><td>IGJ    </td><td>Expression</td><td>Con</td><td>CI</td><td>1.003534e-03</td><td>1.5e-03</td><td>0.00100</td><td>**  </td><td>T-test</td></tr>\n",
       "\t<tr><td>TXN    </td><td>Expression</td><td>Con</td><td>CI</td><td>2.832693e-06</td><td>8.5e-06</td><td>2.8e-06</td><td>****</td><td>T-test</td></tr>\n",
       "</tbody>\n",
       "</table>\n"
      ],
      "text/latex": [
       "A tibble: 4 x 9\n",
       "\\begin{tabular}{lllllllll}\n",
       " gene & .y. & group1 & group2 & p & p.adj & p.format & p.signif & method\\\\\n",
       " <chr> & <chr> & <chr> & <chr> & <dbl> & <dbl> & <chr> & <chr> & <chr>\\\\\n",
       "\\hline\n",
       "\t FAM200B & Expression & Con & CI & 2.706578e-10 & 1.1e-09 & 2.7e-10 & **** & T-test\\\\\n",
       "\t BCL2A1  & Expression & Con & CI & 7.364233e-04 & 1.5e-03 & 0.00074 & ***  & T-test\\\\\n",
       "\t IGJ     & Expression & Con & CI & 1.003534e-03 & 1.5e-03 & 0.00100 & **   & T-test\\\\\n",
       "\t TXN     & Expression & Con & CI & 2.832693e-06 & 8.5e-06 & 2.8e-06 & **** & T-test\\\\\n",
       "\\end{tabular}\n"
      ],
      "text/markdown": [
       "\n",
       "A tibble: 4 x 9\n",
       "\n",
       "| gene &lt;chr&gt; | .y. &lt;chr&gt; | group1 &lt;chr&gt; | group2 &lt;chr&gt; | p &lt;dbl&gt; | p.adj &lt;dbl&gt; | p.format &lt;chr&gt; | p.signif &lt;chr&gt; | method &lt;chr&gt; |\n",
       "|---|---|---|---|---|---|---|---|---|\n",
       "| FAM200B | Expression | Con | CI | 2.706578e-10 | 1.1e-09 | 2.7e-10 | **** | T-test |\n",
       "| BCL2A1  | Expression | Con | CI | 7.364233e-04 | 1.5e-03 | 0.00074 | ***  | T-test |\n",
       "| IGJ     | Expression | Con | CI | 1.003534e-03 | 1.5e-03 | 0.00100 | **   | T-test |\n",
       "| TXN     | Expression | Con | CI | 2.832693e-06 | 8.5e-06 | 2.8e-06 | **** | T-test |\n",
       "\n"
      ],
      "text/plain": [
       "  gene    .y.        group1 group2 p            p.adj   p.format p.signif\n",
       "1 FAM200B Expression Con    CI     2.706578e-10 1.1e-09 2.7e-10  ****    \n",
       "2 BCL2A1  Expression Con    CI     7.364233e-04 1.5e-03 0.00074  ***     \n",
       "3 IGJ     Expression Con    CI     1.003534e-03 1.5e-03 0.00100  **      \n",
       "4 TXN     Expression Con    CI     2.832693e-06 8.5e-06 2.8e-06  ****    \n",
       "  method\n",
       "1 T-test\n",
       "2 T-test\n",
       "3 T-test\n",
       "4 T-test"
      ]
     },
     "metadata": {},
     "output_type": "display_data"
    }
   ],
   "source": [
    "compare_means( Expression ~ Group, data = mydata, method = 't.test',\n",
    "              group.by = \"gene\")\n",
    "# Box plot facetted by \"gene\"\n",
    "p <- ggboxplot(mydata, x = \"Group\", y = \"Expression\",\n",
    "          color = \"Group\", palette = \"jco\",\n",
    "          add = \"jitter\",\n",
    "          facet.by = \"gene\", short.panel.labs = FALSE)\n",
    "# Use only p.format as label. Remove method name.\n",
    "#p + stat_compare_means(label =  \"p.signif\", label.x = 1.5)\n",
    "p <- ggboxplot(mydata, x = \"gene\", y = \"Expression\",\n",
    "          color = \"Group\", palette = \"nejm\",\n",
    "          add = \"jitter\")"
   ]
  },
  {
   "cell_type": "code",
   "execution_count": 101,
   "id": "7a446761-0ec8-415e-a9d9-83c39002e202",
   "metadata": {},
   "outputs": [],
   "source": [
    "diffgene = as.data.frame(compare_means( Expression ~ Group, data = mydata, method = 't.test',\n",
    "              group.by = \"gene\"))\n",
    "diffgene = rownames(diffgene) = diffgene[,1]\n",
    "options(repr.plot.height = 5,repr.plot.width = 21)\n",
    "options(repr.plot.width = 7,repr.plot.height = 5)"
   ]
  },
  {
   "cell_type": "code",
   "execution_count": 102,
   "id": "65d6933f-201b-4fcb-aa77-53497f2942ba",
   "metadata": {},
   "outputs": [
    {
     "data": {
      "image/png": "[encoded data removed]",
      "text/plain": [
       "plot without title"
      ]
     },
     "metadata": {
      "image/png": {
       "height": 300,
       "width": 420
      }
     },
     "output_type": "display_data"
    }
   ],
   "source": [
    "p + stat_compare_means(aes(group = Group), label = \"p.signif\",method = 't.test')"
   ]
  },
  {
   "cell_type": "code",
   "execution_count": 103,
   "id": "728062e7-e554-4124-8b2b-b6ce82bebfb7",
   "metadata": {},
   "outputs": [],
   "source": [
    "ggsave(file = 'figure2.gene.expr.pdf',width = 7,height = 4)"
   ]
  },
  {
   "cell_type": "code",
   "execution_count": 104,
   "id": "4d375089-6467-46cc-8d9f-f1e5411ab670",
   "metadata": {},
   "outputs": [
    {
     "data": {
      "text/html": [
       "<table class=\"dataframe\">\n",
       "<caption>A data.frame: 6 x 3</caption>\n",
       "<thead>\n",
       "\t<tr><th></th><th scope=col>Var1</th><th scope=col>Var2</th><th scope=col>value</th></tr>\n",
       "\t<tr><th></th><th scope=col>&lt;fct&gt;</th><th scope=col>&lt;fct&gt;</th><th scope=col>&lt;dbl&gt;</th></tr>\n",
       "</thead>\n",
       "<tbody>\n",
       "\t<tr><th scope=row>2</th><td>BCL2A1 </td><td>FAM200B</td><td>0.5929517</td></tr>\n",
       "\t<tr><th scope=row>3</th><td>IGJ    </td><td>FAM200B</td><td>0.2989180</td></tr>\n",
       "\t<tr><th scope=row>4</th><td>TXN    </td><td>FAM200B</td><td>0.6977731</td></tr>\n",
       "\t<tr><th scope=row>5</th><td>FAM200B</td><td>BCL2A1 </td><td>0.5929517</td></tr>\n",
       "\t<tr><th scope=row>7</th><td>IGJ    </td><td>BCL2A1 </td><td>0.2126603</td></tr>\n",
       "\t<tr><th scope=row>8</th><td>TXN    </td><td>BCL2A1 </td><td>0.8300201</td></tr>\n",
       "</tbody>\n",
       "</table>\n"
      ],
      "text/latex": [
       "A data.frame: 6 x 3\n",
       "\\begin{tabular}{r|lll}\n",
       "  & Var1 & Var2 & value\\\\\n",
       "  & <fct> & <fct> & <dbl>\\\\\n",
       "\\hline\n",
       "\t2 & BCL2A1  & FAM200B & 0.5929517\\\\\n",
       "\t3 & IGJ     & FAM200B & 0.2989180\\\\\n",
       "\t4 & TXN     & FAM200B & 0.6977731\\\\\n",
       "\t5 & FAM200B & BCL2A1  & 0.5929517\\\\\n",
       "\t7 & IGJ     & BCL2A1  & 0.2126603\\\\\n",
       "\t8 & TXN     & BCL2A1  & 0.8300201\\\\\n",
       "\\end{tabular}\n"
      ],
      "text/markdown": [
       "\n",
       "A data.frame: 6 x 3\n",
       "\n",
       "| <!--/--> | Var1 &lt;fct&gt; | Var2 &lt;fct&gt; | value &lt;dbl&gt; |\n",
       "|---|---|---|---|\n",
       "| 2 | BCL2A1  | FAM200B | 0.5929517 |\n",
       "| 3 | IGJ     | FAM200B | 0.2989180 |\n",
       "| 4 | TXN     | FAM200B | 0.6977731 |\n",
       "| 5 | FAM200B | BCL2A1  | 0.5929517 |\n",
       "| 7 | IGJ     | BCL2A1  | 0.2126603 |\n",
       "| 8 | TXN     | BCL2A1  | 0.8300201 |\n",
       "\n"
      ],
      "text/plain": [
       "  Var1    Var2    value    \n",
       "2 BCL2A1  FAM200B 0.5929517\n",
       "3 IGJ     FAM200B 0.2989180\n",
       "4 TXN     FAM200B 0.6977731\n",
       "5 FAM200B BCL2A1  0.5929517\n",
       "7 IGJ     BCL2A1  0.2126603\n",
       "8 TXN     BCL2A1  0.8300201"
      ]
     },
     "metadata": {},
     "output_type": "display_data"
    },
    {
     "name": "stderr",
     "output_type": "stream",
     "text": [
      "========================================\n",
      "circlize version 0.4.16\n",
      "CRAN page: https://cran.r-project.org/package=circlize\n",
      "Github page: https://github.com/jokergoo/circlize\n",
      "Documentation: https://jokergoo.github.io/circlize_book/book/\n",
      "\n",
      "If you use it in published research, please cite:\n",
      "Gu, Z. circlize implements and enhances circular visualization\n",
      "  in R. Bioinformatics 2014.\n",
      "\n",
      "This message can be suppressed by:\n",
      "  suppressPackageStartupMessages(library(circlize))\n",
      "========================================\n",
      "\n",
      "\n"
     ]
    },
    {
     "data": {
      "text/html": [
       "<strong>png:</strong> 2"
      ],
      "text/latex": [
       "\\textbf{png:} 2"
      ],
      "text/markdown": [
       "**png:** 2"
      ],
      "text/plain": [
       "png \n",
       "  2 "
      ]
     },
     "metadata": {},
     "output_type": "display_data"
    }
   ],
   "source": [
    "tend1 = data1[,c( 2:5)] \n",
    "gene_cor <- cor(tend1, method = 'pearson')\n",
    "diag(gene_cor) <- 0\n",
    "gene_cor <- reshape2::melt(gene_cor)\n",
    "gene_cor <- subset(gene_cor, value != 0)  #去除0值的相关性\n",
    "head(gene_cor)\n",
    "\n",
    "library(circlize)\n",
    "pdf('cor.circle.pdf',height = 6,width = 6)\n",
    "p= chordDiagram(gene_cor, \n",
    "    annotationTrack = c('grid', 'name', 'axis'), #绘制外周圆弧区，显示名称和刻度轴\n",
    "    grid.col = c(TNFSF14 = 'green3', CCNA2 = 'red', MARCKS = 'orange', SGOL1 = 'purple', SAP130 = 'skyblue'), #定义基因颜色\n",
    "    col = colorRamp2(c(-1, 0, 1), c('green', 'white', 'red'), transparency = 0.5), #根据相关性大小展示连线的颜色范围\n",
    "    annotationTrackHeight = c(0.05, 0.05), #名称离圆弧的距离，以及圆弧的宽度\n",
    ")\n",
    "dev.off()"
   ]
  },
  {
   "cell_type": "code",
   "execution_count": 105,
   "id": "72e9cc9d-bc05-44ff-81d4-f1934a763e9e",
   "metadata": {},
   "outputs": [
    {
     "data": {
      "image/png": "[encoded data removed]",
      "text/plain": [
       "plot without title"
      ]
     },
     "metadata": {
      "image/png": {
       "height": 300,
       "width": 420
      }
     },
     "output_type": "display_data"
    }
   ],
   "source": [
    "chordDiagram(gene_cor, \n",
    "    annotationTrack = c('grid', 'name', 'axis'), #绘制外周圆弧区，显示名称和刻度轴\n",
    "    grid.col = c(TNFSF14 = 'green3', CCNA2 = 'red', MARCKS = 'orange', SGOL1 = 'purple', SAP130 = 'skyblue'), #定义基因颜色\n",
    "    col = colorRamp2(c(-1, 0, 1), c('green', 'white', 'red'), transparency = 0.5), #根据相关性大小展示连线的颜色范围\n",
    "    annotationTrackHeight = c(0.05, 0.05), #名称离圆弧的距离，以及圆弧的宽度\n",
    ")"
   ]
  },
  {
   "cell_type": "code",
   "execution_count": 106,
   "id": "9b9e765c-21fe-4cb8-ae2b-bfc31297e5f8",
   "metadata": {},
   "outputs": [
    {
     "data": {
      "text/html": [
       "<style>\n",
       ".list-inline {list-style: none; margin:0; padding: 0}\n",
       ".list-inline>li {display: inline-block}\n",
       ".list-inline>li:not(:last-child)::after {content: \"\\00b7\"; padding: 0 .5ex}\n",
       "</style>\n",
       "<ol class=list-inline><li>'FAM200B'</li><li>'BCL2A1'</li><li>'IGJ'</li><li>'TXN'</li></ol>\n"
      ],
      "text/latex": [
       "\\begin{enumerate*}\n",
       "\\item 'FAM200B'\n",
       "\\item 'BCL2A1'\n",
       "\\item 'IGJ'\n",
       "\\item 'TXN'\n",
       "\\end{enumerate*}\n"
      ],
      "text/markdown": [
       "1. 'FAM200B'\n",
       "2. 'BCL2A1'\n",
       "3. 'IGJ'\n",
       "4. 'TXN'\n",
       "\n",
       "\n"
      ],
      "text/plain": [
       "[1] \"FAM200B\" \"BCL2A1\"  \"IGJ\"     \"TXN\"    "
      ]
     },
     "metadata": {},
     "output_type": "display_data"
    }
   ],
   "source": [
    "b"
   ]
  },
  {
   "cell_type": "code",
   "execution_count": 107,
   "id": "2f476705-d5df-48ac-92c1-0f35b9f64a7f",
   "metadata": {},
   "outputs": [],
   "source": [
    "da2 = expr[,b] %>% tibble::rownames_to_column(.,'sample')"
   ]
  },
  {
   "cell_type": "code",
   "execution_count": 134,
   "id": "8e8b499a-fc91-4659-a1cf-32a2c3b11e27",
   "metadata": {},
   "outputs": [],
   "source": [
    "da2$sample = colnames(data)"
   ]
  },
  {
   "cell_type": "code",
   "execution_count": 135,
   "id": "ef545954-4493-424d-b103-3938b43faa1b",
   "metadata": {},
   "outputs": [],
   "source": [
    "save(da2,file = 'sample74.model.gene.rda')"
   ]
  },
  {
   "cell_type": "code",
   "execution_count": 109,
   "id": "3aecbaf0-1905-41fd-bb30-1daafa94859a",
   "metadata": {},
   "outputs": [],
   "source": [
    "library(openxlsx)\n",
    "data<- read.xlsx(\"./res/CI-CTR/bulk/74-mRNA_FPKM.genename.xlsx\", sheet = 1)\n",
    "library(dplyr)"
   ]
  },
  {
   "cell_type": "code",
   "execution_count": 110,
   "id": "2d41425a-fb4a-4846-8083-58f7c5ca1071",
   "metadata": {},
   "outputs": [],
   "source": [
    "data = data[!duplicated(data$Gene_name),]"
   ]
  },
  {
   "cell_type": "code",
   "execution_count": 111,
   "id": "04cba62b-3906-4c30-8586-fa07825fdce2",
   "metadata": {},
   "outputs": [],
   "source": [
    "data = data %>% tibble::remove_rownames() %>%  tibble::column_to_rownames(.,'Gene_name')"
   ]
  },
  {
   "cell_type": "code",
   "execution_count": 112,
   "id": "c4173f2f-c9b3-4cc5-bfaf-69c42931c766",
   "metadata": {},
   "outputs": [
    {
     "data": {
      "text/html": [
       "<table class=\"dataframe\">\n",
       "<caption>A data.frame: 2 x 74</caption>\n",
       "<thead>\n",
       "\t<tr><th></th><th scope=col>C10</th><th scope=col>C11</th><th scope=col>C12</th><th scope=col>C13</th><th scope=col>C14</th><th scope=col>C15</th><th scope=col>C16</th><th scope=col>C17</th><th scope=col>C18</th><th scope=col>C19</th><th scope=col>...</th><th scope=col>CI41</th><th scope=col>CI42</th><th scope=col>CI43</th><th scope=col>CI44</th><th scope=col>CI4</th><th scope=col>CI5</th><th scope=col>CI6</th><th scope=col>CI7</th><th scope=col>CI8</th><th scope=col>CI9</th></tr>\n",
       "\t<tr><th></th><th scope=col>&lt;dbl&gt;</th><th scope=col>&lt;dbl&gt;</th><th scope=col>&lt;dbl&gt;</th><th scope=col>&lt;dbl&gt;</th><th scope=col>&lt;dbl&gt;</th><th scope=col>&lt;dbl&gt;</th><th scope=col>&lt;dbl&gt;</th><th scope=col>&lt;dbl&gt;</th><th scope=col>&lt;dbl&gt;</th><th scope=col>&lt;dbl&gt;</th><th scope=col>...</th><th scope=col>&lt;dbl&gt;</th><th scope=col>&lt;dbl&gt;</th><th scope=col>&lt;dbl&gt;</th><th scope=col>&lt;dbl&gt;</th><th scope=col>&lt;dbl&gt;</th><th scope=col>&lt;dbl&gt;</th><th scope=col>&lt;dbl&gt;</th><th scope=col>&lt;dbl&gt;</th><th scope=col>&lt;dbl&gt;</th><th scope=col>&lt;dbl&gt;</th></tr>\n",
       "</thead>\n",
       "<tbody>\n",
       "\t<tr><th scope=row>ZZZ3</th><td> 9.694104</td><td> 8.204165</td><td> 9.569441</td><td> 6.659882</td><td> 5.449594</td><td> 8.611691</td><td> 6.886018</td><td> 5.389103</td><td> 5.336686</td><td> 7.70851</td><td>...</td><td>14.880933</td><td> 8.037799</td><td> 5.667441</td><td>11.80003</td><td> 6.659176</td><td> 5.785232</td><td> 8.749977</td><td>11.03076</td><td> 8.004704</td><td>10.07247</td></tr>\n",
       "\t<tr><th scope=row>ZZEF1</th><td>18.515927</td><td>18.296195</td><td>19.053030</td><td>18.403302</td><td>19.992571</td><td>18.649972</td><td>19.680564</td><td>20.438019</td><td>19.539639</td><td>20.41526</td><td>...</td><td> 8.751292</td><td>17.115120</td><td>16.585566</td><td>16.60637</td><td>18.344102</td><td>21.665904</td><td>21.333761</td><td>20.21582</td><td>17.918223</td><td>13.92859</td></tr>\n",
       "</tbody>\n",
       "</table>\n"
      ],
      "text/latex": [
       "A data.frame: 2 x 74\n",
       "\\begin{tabular}{r|lllllllllllllllllllll}\n",
       "  & C10 & C11 & C12 & C13 & C14 & C15 & C16 & C17 & C18 & C19 & ... & CI41 & CI42 & CI43 & CI44 & CI4 & CI5 & CI6 & CI7 & CI8 & CI9\\\\\n",
       "  & <dbl> & <dbl> & <dbl> & <dbl> & <dbl> & <dbl> & <dbl> & <dbl> & <dbl> & <dbl> & ... & <dbl> & <dbl> & <dbl> & <dbl> & <dbl> & <dbl> & <dbl> & <dbl> & <dbl> & <dbl>\\\\\n",
       "\\hline\n",
       "\tZZZ3 &  9.694104 &  8.204165 &  9.569441 &  6.659882 &  5.449594 &  8.611691 &  6.886018 &  5.389103 &  5.336686 &  7.70851 & ... & 14.880933 &  8.037799 &  5.667441 & 11.80003 &  6.659176 &  5.785232 &  8.749977 & 11.03076 &  8.004704 & 10.07247\\\\\n",
       "\tZZEF1 & 18.515927 & 18.296195 & 19.053030 & 18.403302 & 19.992571 & 18.649972 & 19.680564 & 20.438019 & 19.539639 & 20.41526 & ... &  8.751292 & 17.115120 & 16.585566 & 16.60637 & 18.344102 & 21.665904 & 21.333761 & 20.21582 & 17.918223 & 13.92859\\\\\n",
       "\\end{tabular}\n"
      ],
      "text/markdown": [
       "\n",
       "A data.frame: 2 x 74\n",
       "\n",
       "| <!--/--> | C10 &lt;dbl&gt; | C11 &lt;dbl&gt; | C12 &lt;dbl&gt; | C13 &lt;dbl&gt; | C14 &lt;dbl&gt; | C15 &lt;dbl&gt; | C16 &lt;dbl&gt; | C17 &lt;dbl&gt; | C18 &lt;dbl&gt; | C19 &lt;dbl&gt; | ... ... | CI41 &lt;dbl&gt; | CI42 &lt;dbl&gt; | CI43 &lt;dbl&gt; | CI44 &lt;dbl&gt; | CI4 &lt;dbl&gt; | CI5 &lt;dbl&gt; | CI6 &lt;dbl&gt; | CI7 &lt;dbl&gt; | CI8 &lt;dbl&gt; | CI9 &lt;dbl&gt; |\n",
       "|---|---|---|---|---|---|---|---|---|---|---|---|---|---|---|---|---|---|---|---|---|---|\n",
       "| ZZZ3 |  9.694104 |  8.204165 |  9.569441 |  6.659882 |  5.449594 |  8.611691 |  6.886018 |  5.389103 |  5.336686 |  7.70851 | ... | 14.880933 |  8.037799 |  5.667441 | 11.80003 |  6.659176 |  5.785232 |  8.749977 | 11.03076 |  8.004704 | 10.07247 |\n",
       "| ZZEF1 | 18.515927 | 18.296195 | 19.053030 | 18.403302 | 19.992571 | 18.649972 | 19.680564 | 20.438019 | 19.539639 | 20.41526 | ... |  8.751292 | 17.115120 | 16.585566 | 16.60637 | 18.344102 | 21.665904 | 21.333761 | 20.21582 | 17.918223 | 13.92859 |\n",
       "\n"
      ],
      "text/plain": [
       "      C10       C11       C12       C13       C14       C15       C16      \n",
       "ZZZ3   9.694104  8.204165  9.569441  6.659882  5.449594  8.611691  6.886018\n",
       "ZZEF1 18.515927 18.296195 19.053030 18.403302 19.992571 18.649972 19.680564\n",
       "      C17       C18       C19      ... CI41      CI42      CI43      CI44    \n",
       "ZZZ3   5.389103  5.336686  7.70851 ... 14.880933  8.037799  5.667441 11.80003\n",
       "ZZEF1 20.438019 19.539639 20.41526 ...  8.751292 17.115120 16.585566 16.60637\n",
       "      CI4       CI5       CI6       CI7      CI8       CI9     \n",
       "ZZZ3   6.659176  5.785232  8.749977 11.03076  8.004704 10.07247\n",
       "ZZEF1 18.344102 21.665904 21.333761 20.21582 17.918223 13.92859"
      ]
     },
     "metadata": {},
     "output_type": "display_data"
    }
   ],
   "source": [
    "head(data,2)"
   ]
  },
  {
   "cell_type": "code",
   "execution_count": 113,
   "id": "63181df6-4726-492b-9a11-7ee800fe3255",
   "metadata": {},
   "outputs": [
    {
     "name": "stderr",
     "output_type": "stream",
     "text": [
      "Warning message:\n",
      "\"package 'GSVA' was built under R version 4.2.3\"\n"
     ]
    }
   ],
   "source": [
    "\n",
    "library(GSVA)"
   ]
  },
  {
   "cell_type": "code",
   "execution_count": 114,
   "id": "24dea6c6-6018-4bfd-bc7a-531691776f4c",
   "metadata": {},
   "outputs": [],
   "source": [
    "geneSets = list(b)"
   ]
  },
  {
   "cell_type": "code",
   "execution_count": 115,
   "id": "dfe2a319-71b6-426f-b4ea-b676e3b8eb5c",
   "metadata": {
    "scrolled": true
   },
   "outputs": [
    {
     "name": "stderr",
     "output_type": "stream",
     "text": [
      "Warning message:\n",
      "\"useNames = NA is deprecated. Instead, specify either useNames = TRUE or useNames = TRUE.\"\n",
      "Warning message in .filterFeatures(expr, method):\n",
      "\"2000 genes with constant expression values throuhgout the samples.\"\n",
      "Warning message in .filterFeatures(expr, method):\n",
      "\"Since argument method!=\"ssgsea\", genes with constant expression values are discarded.\"\n"
     ]
    },
    {
     "name": "stdout",
     "output_type": "stream",
     "text": [
      "Setting parallel calculations through a MulticoreParam back-end\n",
      "with workers=4 and tasks=100.\n",
      "Estimating GSVA scores for 1 gene sets.\n",
      "Estimating ECDFs with Gaussian kernels\n",
      "Estimating ECDFs in parallel on 4 cores\n"
     ]
    },
    {
     "name": "stderr",
     "output_type": "stream",
     "text": [
      "iteration: \n",
      "1\n",
      "\b2\n",
      "\b3\n",
      "\b4\n",
      "\b5\n",
      "\b6\n",
      "\b7\n",
      "\b8\n",
      "\b9\n",
      "\b10\n",
      "11\n",
      "12\n",
      "13\n",
      "14\n",
      "15\n",
      "16\n",
      "17\n",
      "18\n",
      "19\n",
      "20\n",
      "21\n",
      "22\n",
      "23\n",
      "24\n",
      "25\n",
      "26\n",
      "27\n",
      "28\n",
      "29\n",
      "30\n",
      "31\n",
      "32\n",
      "33\n",
      "34\n",
      "35\n",
      "36\n",
      "37\n",
      "38\n",
      "39\n",
      "40\n",
      "41\n",
      "42\n",
      "43\n",
      "44\n",
      "45\n",
      "46\n",
      "47\n",
      "48\n",
      "49\n",
      "50\n",
      "51\n",
      "52\n",
      "53\n",
      "54\n",
      "55\n",
      "56\n",
      "57\n",
      "58\n",
      "59\n",
      "60\n",
      "61\n",
      "62\n",
      "63\n",
      "64\n",
      "65\n",
      "66\n",
      "67\n",
      "68\n",
      "69\n",
      "70\n",
      "71\n",
      "72\n",
      "73\n",
      "74\n",
      "75\n",
      "76\n",
      "77\n",
      "78\n",
      "79\n",
      "80\n",
      "81\n",
      "82\n",
      "83\n",
      "84\n",
      "85\n",
      "86\n",
      "87\n",
      "88\n",
      "89\n",
      "90\n",
      "91\n",
      "92\n",
      "93\n",
      "94\n",
      "95\n",
      "96\n",
      "97\n",
      "98\n",
      "99\n",
      "100\n",
      "\n",
      "\n"
     ]
    },
    {
     "name": "stdout",
     "output_type": "stream",
     "text": [
      "  |======================================================================| 100%\n",
      "\n"
     ]
    }
   ],
   "source": [
    "\n",
    "GSVA_hall <- gsva(expr=as.matrix(data), \n",
    "                  gset.idx.list=geneSets, \n",
    "                  mx.diff=T, # 数据为正态分布则T，双峰则F\n",
    "                  kcdf=\"Gaussian\", #CPM, RPKM, TPM数据就用默认值\"Gaussian\"， read count数据则为\"Poisson\"，\n",
    "                  parallel.sz=4) # 并行线程数目"
   ]
  },
  {
   "cell_type": "code",
   "execution_count": 116,
   "id": "716dbf09-1fba-4da1-aa7f-4d11ce82c5be",
   "metadata": {},
   "outputs": [
    {
     "data": {
      "text/html": [
       "'/import/liujing/data2'"
      ],
      "text/latex": [
       "'/import/liujing/data2'"
      ],
      "text/markdown": [
       "'/import/liujing/data2'"
      ],
      "text/plain": [
       "[1] \"/import/liujing/data2\""
      ]
     },
     "metadata": {},
     "output_type": "display_data"
    }
   ],
   "source": [
    "getwd()"
   ]
  },
  {
   "cell_type": "code",
   "execution_count": 117,
   "id": "f2804a3a-b74e-4c30-ac57-c50755db4b8c",
   "metadata": {
    "scrolled": true
   },
   "outputs": [],
   "source": [
    "a = GSVA_hall %>% t() %>% as.data.frame()  %>%  tibble::rownames_to_column(.,'sample')\n",
    "colnames(a) = c('sample','Hscore')"
   ]
  },
  {
   "cell_type": "code",
   "execution_count": 118,
   "id": "530b115f-f9f7-459b-877d-caa467b0d845",
   "metadata": {},
   "outputs": [],
   "source": [
    "save(a,file = 'GSVA_hall.RDA')"
   ]
  },
  {
   "cell_type": "markdown",
   "id": "e0cf3865-5155-4090-88a0-d42a100c8400",
   "metadata": {},
   "source": [
    "### riskscoer"
   ]
  },
  {
   "cell_type": "code",
   "execution_count": 119,
   "id": "4f3f29ec-00a9-4386-97d6-a06c8666cf4c",
   "metadata": {},
   "outputs": [],
   "source": [
    "riskscore = as.data.frame(fold_predict)"
   ]
  },
  {
   "cell_type": "code",
   "execution_count": 129,
   "id": "6845b1fa-ab1c-48f5-a6b5-94e9f5ef8e00",
   "metadata": {},
   "outputs": [],
   "source": [
    "rownames(riskscore) = colnames(data)"
   ]
  },
  {
   "cell_type": "code",
   "execution_count": 130,
   "id": "85e98337-8f4c-4838-8dd4-cbc09a2b05d5",
   "metadata": {},
   "outputs": [],
   "source": [
    "save(riskscore,file = 'riskscore.s.rda')"
   ]
  },
  {
   "cell_type": "code",
   "execution_count": null,
   "id": "79c13de8-d3ee-4191-95bc-17393cd8e288",
   "metadata": {},
   "outputs": [],
   "source": []
  },
  {
   "cell_type": "code",
   "execution_count": null,
   "id": "c097900b-2b03-4ca7-8684-a46cf030f7aa",
   "metadata": {},
   "outputs": [],
   "source": []
  },
  {
   "cell_type": "code",
   "execution_count": null,
   "id": "c70c4882-2795-4ff1-8fb7-c8a0741e7dae",
   "metadata": {},
   "outputs": [],
   "source": []
  },
  {
   "cell_type": "code",
   "execution_count": null,
   "id": "b20d560d-f226-439d-8c83-efbd93e1e120",
   "metadata": {},
   "outputs": [],
   "source": []
  },
  {
   "cell_type": "code",
   "execution_count": null,
   "id": "e6e3b13a-a37e-424b-91ab-818c8c30f27e",
   "metadata": {},
   "outputs": [],
   "source": [
    "library(openxlsx)\n",
    "data<- read.xlsx(\"./res/CI-CTR/bulk/74-mRNA_FPKM.genename.xlsx\", sheet = 1)\n",
    "library(dplyr)\n",
    "\n",
    "\n",
    "data = data[!duplicated(data$Gene_name),]\n",
    "head(data,2)\n",
    "expr = data %>%  tibble::remove_rownames()  %>%  \n",
    "tibble::column_to_rownames(.,'Gene_name') %>% t() %>% as.data.frame()\n",
    "Group = c(rep('con',31),rep('CI',43))\n",
    "\n",
    "\n",
    "\n",
    "colnames(expr) = gsub('-','.',colnames(expr))\n",
    "\n",
    "colnames(expr)\n",
    "\n",
    "head(expr,2)\n",
    "\n",
    "Type = ifelse(Group == 'CI',1,0)\n",
    "\n",
    "nn = cbind(Type,expr)\n"
   ]
  },
  {
   "cell_type": "code",
   "execution_count": null,
   "id": "ceabdf15-a386-4220-a919-e01432aecfc8",
   "metadata": {},
   "outputs": [],
   "source": [
    "save(nn,file = 'data.new.rda')"
   ]
  },
  {
   "cell_type": "code",
   "execution_count": null,
   "id": "baa4fe25-e81e-4661-84b9-c620d242b6db",
   "metadata": {},
   "outputs": [],
   "source": [
    "library(openxlsx)\n",
    "data<- read.xlsx(\"./res/CI-CTR/bulk/74-mRNA_FPKM.genename.xlsx\", sheet = 1)"
   ]
  },
  {
   "cell_type": "code",
   "execution_count": null,
   "id": "78e99e03-ceb6-4fc6-a8b6-b84553ec9231",
   "metadata": {},
   "outputs": [],
   "source": [
    "library(dplyr)\n",
    "\n",
    "overlap = read.table('./overlap.txt',header =T)\n",
    "\n",
    "data = data[!duplicated(data$Gene_name),]\n",
    "head(data,2)\n",
    "expr = data %>%  tibble::remove_rownames() %>% filter(Gene_name %in% overlap$GeneName) %>%  \n",
    "tibble::column_to_rownames(.,'Gene_name') %>% t() %>% as.data.frame()"
   ]
  },
  {
   "cell_type": "code",
   "execution_count": null,
   "id": "5456c7c9-3b55-45b4-b9e3-fc92e9d43900",
   "metadata": {},
   "outputs": [],
   "source": [
    "expr$riskscore = 1.612* expr$FAM200B + (-0.05* expr$BCL2A1) +\n",
    "0.029* expr$IGJ + 0.325* expr$TXN"
   ]
  },
  {
   "cell_type": "code",
   "execution_count": null,
   "id": "3fa6a58c-6f24-482c-b7bd-bd6082c08620",
   "metadata": {},
   "outputs": [],
   "source": [
    "risks = expr$riskscore"
   ]
  },
  {
   "cell_type": "code",
   "execution_count": null,
   "id": "d023daf5-12ac-44b4-81e7-dd8597bdcd33",
   "metadata": {},
   "outputs": [],
   "source": [
    "save(risks,file = 'diy.rda')"
   ]
  },
  {
   "cell_type": "code",
   "execution_count": null,
   "id": "1883627c-f43e-44e1-b930-32c65dc2547b",
   "metadata": {},
   "outputs": [],
   "source": [
    "expr"
   ]
  },
  {
   "cell_type": "code",
   "execution_count": null,
   "id": "4981d473-d755-4f44-967f-78ccd7b0508c",
   "metadata": {},
   "outputs": [],
   "source": []
  },
  {
   "cell_type": "code",
   "execution_count": null,
   "id": "19d052a4-a10e-494c-9505-d38049eea854",
   "metadata": {},
   "outputs": [],
   "source": []
  },
  {
   "cell_type": "code",
   "execution_count": null,
   "id": "95892323-6d51-4a59-bdcc-2b9c7348aad9",
   "metadata": {},
   "outputs": [],
   "source": []
  },
  {
   "cell_type": "code",
   "execution_count": null,
   "id": "d56c03a1-00d7-4ffd-9428-8057ae1184af",
   "metadata": {},
   "outputs": [],
   "source": []
  },
  {
   "cell_type": "code",
   "execution_count": null,
   "id": "35000fce-3b9f-4454-bc1d-d53384dccc49",
   "metadata": {},
   "outputs": [],
   "source": []
  },
  {
   "cell_type": "code",
   "execution_count": null,
   "id": "b9c931a6-57ed-4f2d-8981-41b31e28762b",
   "metadata": {},
   "outputs": [],
   "source": []
  },
  {
   "cell_type": "code",
   "execution_count": null,
   "id": "b8f1aa6b-9576-424a-a4b0-a1757d0b4396",
   "metadata": {},
   "outputs": [],
   "source": []
  },
  {
   "cell_type": "code",
   "execution_count": null,
   "id": "39c02dcb-cefc-43a1-a2d6-824b5e75451a",
   "metadata": {},
   "outputs": [],
   "source": []
  },
  {
   "cell_type": "code",
   "execution_count": null,
   "id": "dd1a2464-cf2d-446b-bd5f-3ec890b6d9bb",
   "metadata": {},
   "outputs": [],
   "source": []
  },
  {
   "cell_type": "code",
   "execution_count": null,
   "id": "bd3b996d-e209-40ba-ba66-003ea4a1981d",
   "metadata": {},
   "outputs": [],
   "source": []
  },
  {
   "cell_type": "code",
   "execution_count": null,
   "id": "9aaef650-8adc-437b-a779-e91e7c283c02",
   "metadata": {},
   "outputs": [],
   "source": []
  },
  {
   "cell_type": "code",
   "execution_count": null,
   "id": "19f26645-e816-42c1-9cb7-995ac1f1c42e",
   "metadata": {},
   "outputs": [],
   "source": []
  },
  {
   "cell_type": "code",
   "execution_count": null,
   "id": "2fccfbf4-9549-4704-949d-9c7463b34c47",
   "metadata": {},
   "outputs": [],
   "source": []
  },
  {
   "cell_type": "code",
   "execution_count": null,
   "id": "8a88fdec-1205-4f97-9821-ae77ff91324f",
   "metadata": {},
   "outputs": [],
   "source": []
  }
 ],
 "metadata": {
  "kernelspec": {
   "display_name": "R",
   "language": "R",
   "name": "ir"
  },
  "language_info": {
   "codemirror_mode": "r",
   "file_extension": ".r",
   "mimetype": "text/x-r-source",
   "name": "R",
   "pygments_lexer": "r",
   "version": "4.2.1"
  }
 },
 "nbformat": 4,
 "nbformat_minor": 5
}
