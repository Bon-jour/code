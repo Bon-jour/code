{
 "cells": [
  {
   "cell_type": "code",
   "execution_count": 7,
   "id": "70fff51d-9e32-453e-bbe6-7123e23ffab1",
   "metadata": {},
   "outputs": [],
   "source": [
    "setwd('/import/liujing/data2/')"
   ]
  },
  {
   "cell_type": "code",
   "execution_count": 8,
   "id": "af66be8b-96e1-4bc0-a133-8d8626503679",
   "metadata": {},
   "outputs": [],
   "source": [
    "load('ss.rda')"
   ]
  },
  {
   "cell_type": "code",
   "execution_count": 9,
   "id": "24b9215f-e388-4632-9d31-461db82a9740",
   "metadata": {},
   "outputs": [
    {
     "data": {
      "text/html": [
       "<table class=\"dataframe\">\n",
       "<caption>A data.frame: 3 x 43</caption>\n",
       "<thead>\n",
       "\t<tr><th></th><th scope=col>CI10</th><th scope=col>CI11</th><th scope=col>CI12</th><th scope=col>CI13</th><th scope=col>CI14</th><th scope=col>CI15</th><th scope=col>CI16</th><th scope=col>CI17</th><th scope=col>CI18</th><th scope=col>CI19</th><th scope=col>...</th><th scope=col>CI41</th><th scope=col>CI42</th><th scope=col>CI43</th><th scope=col>CI44</th><th scope=col>CI4</th><th scope=col>CI5</th><th scope=col>CI6</th><th scope=col>CI7</th><th scope=col>CI8</th><th scope=col>CI9</th></tr>\n",
       "\t<tr><th></th><th scope=col>&lt;dbl&gt;</th><th scope=col>&lt;dbl&gt;</th><th scope=col>&lt;dbl&gt;</th><th scope=col>&lt;dbl&gt;</th><th scope=col>&lt;dbl&gt;</th><th scope=col>&lt;dbl&gt;</th><th scope=col>&lt;dbl&gt;</th><th scope=col>&lt;dbl&gt;</th><th scope=col>&lt;dbl&gt;</th><th scope=col>&lt;dbl&gt;</th><th scope=col>...</th><th scope=col>&lt;dbl&gt;</th><th scope=col>&lt;dbl&gt;</th><th scope=col>&lt;dbl&gt;</th><th scope=col>&lt;dbl&gt;</th><th scope=col>&lt;dbl&gt;</th><th scope=col>&lt;dbl&gt;</th><th scope=col>&lt;dbl&gt;</th><th scope=col>&lt;dbl&gt;</th><th scope=col>&lt;dbl&gt;</th><th scope=col>&lt;dbl&gt;</th></tr>\n",
       "</thead>\n",
       "<tbody>\n",
       "\t<tr><th scope=row>ZZZ3</th><td>5.730204</td><td>4.513456</td><td>4.749666</td><td>4.567165</td><td>5.057696</td><td>5.801109</td><td>4.799473</td><td>5.114276</td><td>4.936799</td><td>4.976465</td><td>...</td><td>6.115988</td><td>5.259859</td><td>4.917809</td><td>5.608466</td><td>4.913744</td><td>4.725205</td><td>5.182664</td><td>5.543549</td><td>4.964310</td><td>5.427400</td></tr>\n",
       "\t<tr><th scope=row>ZZEF1</th><td>5.860012</td><td>6.369622</td><td>6.542447</td><td>6.365829</td><td>6.054136</td><td>6.277932</td><td>6.301297</td><td>6.172736</td><td>6.205374</td><td>6.118406</td><td>...</td><td>5.461108</td><td>6.281356</td><td>6.301789</td><td>6.128381</td><td>6.329689</td><td>6.536441</td><td>6.530182</td><td>6.441191</td><td>6.207649</td><td>5.907947</td></tr>\n",
       "\t<tr><th scope=row>ZYX</th><td>7.380471</td><td>8.817062</td><td>9.740628</td><td>9.286642</td><td>8.356115</td><td>7.978896</td><td>9.183118</td><td>8.980222</td><td>9.279856</td><td>8.984216</td><td>...</td><td>6.310272</td><td>8.453717</td><td>8.901258</td><td>7.957986</td><td>9.115380</td><td>8.762740</td><td>8.834471</td><td>8.508191</td><td>8.762740</td><td>8.117364</td></tr>\n",
       "</tbody>\n",
       "</table>\n"
      ],
      "text/latex": [
       "A data.frame: 3 x 43\n",
       "\\begin{tabular}{r|lllllllllllllllllllll}\n",
       "  & CI10 & CI11 & CI12 & CI13 & CI14 & CI15 & CI16 & CI17 & CI18 & CI19 & ... & CI41 & CI42 & CI43 & CI44 & CI4 & CI5 & CI6 & CI7 & CI8 & CI9\\\\\n",
       "  & <dbl> & <dbl> & <dbl> & <dbl> & <dbl> & <dbl> & <dbl> & <dbl> & <dbl> & <dbl> & ... & <dbl> & <dbl> & <dbl> & <dbl> & <dbl> & <dbl> & <dbl> & <dbl> & <dbl> & <dbl>\\\\\n",
       "\\hline\n",
       "\tZZZ3 & 5.730204 & 4.513456 & 4.749666 & 4.567165 & 5.057696 & 5.801109 & 4.799473 & 5.114276 & 4.936799 & 4.976465 & ... & 6.115988 & 5.259859 & 4.917809 & 5.608466 & 4.913744 & 4.725205 & 5.182664 & 5.543549 & 4.964310 & 5.427400\\\\\n",
       "\tZZEF1 & 5.860012 & 6.369622 & 6.542447 & 6.365829 & 6.054136 & 6.277932 & 6.301297 & 6.172736 & 6.205374 & 6.118406 & ... & 5.461108 & 6.281356 & 6.301789 & 6.128381 & 6.329689 & 6.536441 & 6.530182 & 6.441191 & 6.207649 & 5.907947\\\\\n",
       "\tZYX & 7.380471 & 8.817062 & 9.740628 & 9.286642 & 8.356115 & 7.978896 & 9.183118 & 8.980222 & 9.279856 & 8.984216 & ... & 6.310272 & 8.453717 & 8.901258 & 7.957986 & 9.115380 & 8.762740 & 8.834471 & 8.508191 & 8.762740 & 8.117364\\\\\n",
       "\\end{tabular}\n"
      ],
      "text/markdown": [
       "\n",
       "A data.frame: 3 x 43\n",
       "\n",
       "| <!--/--> | CI10 &lt;dbl&gt; | CI11 &lt;dbl&gt; | CI12 &lt;dbl&gt; | CI13 &lt;dbl&gt; | CI14 &lt;dbl&gt; | CI15 &lt;dbl&gt; | CI16 &lt;dbl&gt; | CI17 &lt;dbl&gt; | CI18 &lt;dbl&gt; | CI19 &lt;dbl&gt; | ... ... | CI41 &lt;dbl&gt; | CI42 &lt;dbl&gt; | CI43 &lt;dbl&gt; | CI44 &lt;dbl&gt; | CI4 &lt;dbl&gt; | CI5 &lt;dbl&gt; | CI6 &lt;dbl&gt; | CI7 &lt;dbl&gt; | CI8 &lt;dbl&gt; | CI9 &lt;dbl&gt; |\n",
       "|---|---|---|---|---|---|---|---|---|---|---|---|---|---|---|---|---|---|---|---|---|---|\n",
       "| ZZZ3 | 5.730204 | 4.513456 | 4.749666 | 4.567165 | 5.057696 | 5.801109 | 4.799473 | 5.114276 | 4.936799 | 4.976465 | ... | 6.115988 | 5.259859 | 4.917809 | 5.608466 | 4.913744 | 4.725205 | 5.182664 | 5.543549 | 4.964310 | 5.427400 |\n",
       "| ZZEF1 | 5.860012 | 6.369622 | 6.542447 | 6.365829 | 6.054136 | 6.277932 | 6.301297 | 6.172736 | 6.205374 | 6.118406 | ... | 5.461108 | 6.281356 | 6.301789 | 6.128381 | 6.329689 | 6.536441 | 6.530182 | 6.441191 | 6.207649 | 5.907947 |\n",
       "| ZYX | 7.380471 | 8.817062 | 9.740628 | 9.286642 | 8.356115 | 7.978896 | 9.183118 | 8.980222 | 9.279856 | 8.984216 | ... | 6.310272 | 8.453717 | 8.901258 | 7.957986 | 9.115380 | 8.762740 | 8.834471 | 8.508191 | 8.762740 | 8.117364 |\n",
       "\n"
      ],
      "text/plain": [
       "      CI10     CI11     CI12     CI13     CI14     CI15     CI16     CI17    \n",
       "ZZZ3  5.730204 4.513456 4.749666 4.567165 5.057696 5.801109 4.799473 5.114276\n",
       "ZZEF1 5.860012 6.369622 6.542447 6.365829 6.054136 6.277932 6.301297 6.172736\n",
       "ZYX   7.380471 8.817062 9.740628 9.286642 8.356115 7.978896 9.183118 8.980222\n",
       "      CI18     CI19     ... CI41     CI42     CI43     CI44     CI4     \n",
       "ZZZ3  4.936799 4.976465 ... 6.115988 5.259859 4.917809 5.608466 4.913744\n",
       "ZZEF1 6.205374 6.118406 ... 5.461108 6.281356 6.301789 6.128381 6.329689\n",
       "ZYX   9.279856 8.984216 ... 6.310272 8.453717 8.901258 7.957986 9.115380\n",
       "      CI5      CI6      CI7      CI8      CI9     \n",
       "ZZZ3  4.725205 5.182664 5.543549 4.964310 5.427400\n",
       "ZZEF1 6.536441 6.530182 6.441191 6.207649 5.907947\n",
       "ZYX   8.762740 8.834471 8.508191 8.762740 8.117364"
      ]
     },
     "metadata": {},
     "output_type": "display_data"
    }
   ],
   "source": [
    "head(ss,3)"
   ]
  },
  {
   "cell_type": "code",
   "execution_count": 4,
   "id": "352a44c1-f008-4b5f-bfed-79a4d4a808ab",
   "metadata": {},
   "outputs": [
    {
     "data": {
      "text/html": [
       "<style>\n",
       ".list-inline {list-style: none; margin:0; padding: 0}\n",
       ".list-inline>li {display: inline-block}\n",
       ".list-inline>li:not(:last-child)::after {content: \"\\00b7\"; padding: 0 .5ex}\n",
       "</style>\n",
       "<ol class=list-inline><li>'subtype1'</li><li>'subtype1'</li></ol>\n"
      ],
      "text/latex": [
       "\\begin{enumerate*}\n",
       "\\item 'subtype1'\n",
       "\\item 'subtype1'\n",
       "\\end{enumerate*}\n"
      ],
      "text/markdown": [
       "1. 'subtype1'\n",
       "2. 'subtype1'\n",
       "\n",
       "\n"
      ],
      "text/plain": [
       "[1] \"subtype1\" \"subtype1\""
      ]
     },
     "metadata": {},
     "output_type": "display_data"
    }
   ],
   "source": [
    "head(group,2)"
   ]
  },
  {
   "cell_type": "code",
   "execution_count": 10,
   "id": "4c3cbd10-685c-4102-a252-7c15adcdd57d",
   "metadata": {
    "scrolled": true
   },
   "outputs": [],
   "source": [
    ".libPaths(c('/root/miniconda3/envs/Rdoc/lib/R/library','/root/miniconda3/envs/metadoc/lib/R/library'))"
   ]
  },
  {
   "cell_type": "code",
   "execution_count": 11,
   "id": "92f78fb1-9a4e-40f2-9417-46d9fb054f39",
   "metadata": {},
   "outputs": [
    {
     "name": "stderr",
     "output_type": "stream",
     "text": [
      "Warning message:\n",
      "\"package 'HGNChelper' was built under R version 4.2.3\"\n",
      "Please cite our software :) \n",
      " \n",
      " Sehyun Oh et al. HGNChelper: identification and correction of invalid gene symbols for human and mouse. F1000Research 2020, 9:1493. DOI: https://doi.org/10.12688/f1000research.28033.1 \n",
      " \n",
      " Type `citation('HGNChelper')` for a BibTeX entry.\n",
      "\n"
     ]
    }
   ],
   "source": [
    "library(HGNChelper)"
   ]
  },
  {
   "cell_type": "code",
   "execution_count": 12,
   "id": "1c7f8066-9d9e-46f6-affe-a350f60eb344",
   "metadata": {},
   "outputs": [],
   "source": [
    "mtx = ss"
   ]
  },
  {
   "cell_type": "code",
   "execution_count": 13,
   "id": "11b156f9-5e81-47e6-a944-41f068c033a4",
   "metadata": {},
   "outputs": [
    {
     "name": "stderr",
     "output_type": "stream",
     "text": [
      "Maps last updated on: Fri May 17 15:09:37 2024\n",
      "\n",
      "Warning message in checkGeneSymbols(rownames(mtx)):\n",
      "\"Human gene symbols should be all upper-case except for the 'orf' in open reading frames. The case of some letters was corrected.\"\n",
      "Warning message in checkGeneSymbols(rownames(mtx)):\n",
      "\"x contains non-approved gene symbols\"\n"
     ]
    },
    {
     "data": {
      "text/plain": [
       "\n",
       "FALSE  TRUE \n",
       " 9011 21972 "
      ]
     },
     "metadata": {},
     "output_type": "display_data"
    },
    {
     "data": {
      "text/plain": [
       "\n",
       "FALSE  TRUE \n",
       "23627  7356 "
      ]
     },
     "metadata": {},
     "output_type": "display_data"
    },
    {
     "data": {
      "text/html": [
       "<style>\n",
       ".list-inline {list-style: none; margin:0; padding: 0}\n",
       ".list-inline>li {display: inline-block}\n",
       ".list-inline>li:not(:last-child)::after {content: \"\\00b7\"; padding: 0 .5ex}\n",
       "</style>\n",
       "<ol class=list-inline><li>23537</li><li>43</li></ol>\n"
      ],
      "text/latex": [
       "\\begin{enumerate*}\n",
       "\\item 23537\n",
       "\\item 43\n",
       "\\end{enumerate*}\n"
      ],
      "text/markdown": [
       "1. 23537\n",
       "2. 43\n",
       "\n",
       "\n"
      ],
      "text/plain": [
       "[1] 23537    43"
      ]
     },
     "metadata": {},
     "output_type": "display_data"
    }
   ],
   "source": [
    "t <- checkGeneSymbols(rownames(mtx))\n",
    "table(t$Approved)\n",
    "table(is.na(t$Suggested.Symbol))\n",
    "# delete <NA> and duplicated Suggested.Symbol\n",
    "mtx$Suggested.Symbol <- t$Suggested.Symbol\n",
    "mtx <- mtx[!is.na(mtx$Suggested.Symbol), ]\n",
    "mtx <- mtx[!duplicated(mtx$Suggested.Symbol), ]\n",
    "# delete multiple Suggested.Symbol\n",
    "mtx <- mtx[!grepl(\"///\", mtx$Suggested.Symbol), ]\n",
    "# reset rownames\n",
    "rownames(mtx) <- mtx$Suggested.Symbol\n",
    "# delete Suggested.Symbol columns\n",
    "mtx <- subset(mtx, select = -c(Suggested.Symbol))\n",
    "dim(mtx)"
   ]
  },
  {
   "cell_type": "code",
   "execution_count": 14,
   "id": "50813018-9546-4451-8632-06f05269c900",
   "metadata": {
    "collapsed": true,
    "jupyter": {
     "outputs_hidden": true
    },
    "scrolled": true
   },
   "outputs": [
    {
     "name": "stderr",
     "output_type": "stream",
     "text": [
      "Warning message:\n",
      "\"package 'GSEABase' was built under R version 4.2.2\"\n",
      "Loading required package: BiocGenerics\n",
      "\n",
      "\n",
      "Attaching package: 'BiocGenerics'\n",
      "\n",
      "\n",
      "The following objects are masked from 'package:dplyr':\n",
      "\n",
      "    combine, intersect, setdiff, union\n",
      "\n",
      "\n",
      "The following objects are masked from 'package:stats':\n",
      "\n",
      "    IQR, mad, sd, var, xtabs\n",
      "\n",
      "\n",
      "The following objects are masked from 'package:base':\n",
      "\n",
      "    Filter, Find, Map, Position, Reduce, anyDuplicated, aperm, append,\n",
      "    as.data.frame, basename, cbind, colnames, dirname, do.call,\n",
      "    duplicated, eval, evalq, get, grep, grepl, intersect, is.unsorted,\n",
      "    lapply, mapply, match, mget, order, paste, pmax, pmax.int, pmin,\n",
      "    pmin.int, rank, rbind, rownames, sapply, setdiff, sort, table,\n",
      "    tapply, union, unique, unsplit, which.max, which.min\n",
      "\n",
      "\n",
      "Loading required package: Biobase\n",
      "\n",
      "Warning message:\n",
      "\"package 'Biobase' was built under R version 4.2.3\"\n",
      "Welcome to Bioconductor\n",
      "\n",
      "    Vignettes contain introductory material; view with\n",
      "    'browseVignettes()'. To cite Bioconductor, see\n",
      "    'citation(\"Biobase\")', and for packages 'citation(\"pkgname\")'.\n",
      "\n",
      "\n",
      "Loading required package: annotate\n",
      "\n",
      "Warning message:\n",
      "\"package 'annotate' was built under R version 4.2.2\"\n",
      "Loading required package: AnnotationDbi\n",
      "\n",
      "Warning message:\n",
      "\"package 'AnnotationDbi' was built under R version 4.2.2\"\n",
      "Loading required package: stats4\n",
      "\n",
      "Loading required package: IRanges\n",
      "\n",
      "Warning message:\n",
      "\"package 'IRanges' was built under R version 4.2.3\"\n",
      "Loading required package: S4Vectors\n",
      "\n",
      "Warning message:\n",
      "\"package 'S4Vectors' was built under R version 4.2.3\"\n",
      "\n",
      "Attaching package: 'S4Vectors'\n",
      "\n",
      "\n",
      "The following objects are masked from 'package:dplyr':\n",
      "\n",
      "    first, rename\n",
      "\n",
      "\n",
      "The following objects are masked from 'package:base':\n",
      "\n",
      "    I, expand.grid, unname\n",
      "\n",
      "\n",
      "\n",
      "Attaching package: 'IRanges'\n",
      "\n",
      "\n",
      "The following objects are masked from 'package:dplyr':\n",
      "\n",
      "    collapse, desc, slice\n",
      "\n",
      "\n",
      "\n",
      "Attaching package: 'AnnotationDbi'\n",
      "\n",
      "\n",
      "The following object is masked from 'package:dplyr':\n",
      "\n",
      "    select\n",
      "\n",
      "\n",
      "Loading required package: XML\n",
      "\n",
      "Loading required package: graph\n",
      "\n",
      "Warning message:\n",
      "\"package 'graph' was built under R version 4.2.3\"\n",
      "\n",
      "Attaching package: 'graph'\n",
      "\n",
      "\n",
      "The following object is masked from 'package:XML':\n",
      "\n",
      "    addNode\n",
      "\n",
      "\n",
      "Warning message:\n",
      "\"package 'GSVA' was built under R version 4.2.3\"\n"
     ]
    }
   ],
   "source": [
    "dat = mtx\n",
    "library('GSEABase')\n",
    "library(GSVA)"
   ]
  },
  {
   "cell_type": "code",
   "execution_count": 17,
   "id": "79403691-18f9-47b5-bc01-010ca796ae56",
   "metadata": {
    "scrolled": true
   },
   "outputs": [
    {
     "name": "stderr",
     "output_type": "stream",
     "text": [
      "Warning message in getGmt(\"BP.gmt\"):\n",
      "\"2 record(s) contain duplicate ids: GOBP_CIRCULATORY_SYSTEM_DEVELOPMENT, GOBP_PROTEOLYSIS_INVOLVED_IN_PROTEIN_CATABOLIC_PROCESS\"\n",
      "Warning message:\n",
      "\"useNames = NA is deprecated. Instead, specify either useNames = TRUE or useNames = TRUE.\"\n",
      "Warning message in .filterFeatures(expr, method):\n",
      "\"1762 genes with constant expression values throuhgout the samples.\"\n",
      "Warning message in .filterFeatures(expr, method):\n",
      "\"Since argument method!=\"ssgsea\", genes with constant expression values are discarded.\"\n",
      "Warning message in .gsva(expr, mapped.gset.idx.list, method, kcdf, rnaseq, abs.ranking, :\n",
      "\"Some gene sets have size one. Consider setting 'min.sz > 1'.\"\n"
     ]
    },
    {
     "name": "stdout",
     "output_type": "stream",
     "text": [
      "Setting parallel calculations through a MulticoreParam back-end\n",
      "with workers=14 and tasks=100.\n",
      "Estimating GSVA scores for 7646 gene sets.\n",
      "Estimating ECDFs with Gaussian kernels\n",
      "Estimating ECDFs in parallel on 14 cores\n"
     ]
    },
    {
     "name": "stderr",
     "output_type": "stream",
     "text": [
      "iteration: \n",
      "1\n",
      "\b2\n",
      "\b3\n",
      "\b4\n",
      "\b5\n",
      "\b6\n",
      "\b7\n",
      "\b8\n",
      "\b9\n",
      "\b10\n",
      "11\n",
      "12\n",
      "13\n",
      "14\n",
      "15\n",
      "16\n",
      "17\n",
      "18\n",
      "19\n",
      "20\n",
      "21\n",
      "22\n",
      "23\n",
      "24\n",
      "25\n",
      "26\n",
      "27\n",
      "28\n",
      "29\n",
      "30\n",
      "31\n",
      "32\n",
      "33\n",
      "34\n",
      "35\n",
      "36\n",
      "37\n",
      "38\n",
      "39\n",
      "40\n",
      "41\n",
      "42\n",
      "43\n",
      "44\n",
      "45\n",
      "46\n",
      "47\n",
      "48\n",
      "49\n",
      "50\n",
      "51\n",
      "52\n",
      "53\n",
      "54\n",
      "55\n",
      "56\n",
      "57\n",
      "58\n",
      "59\n",
      "60\n",
      "61\n",
      "62\n",
      "63\n",
      "64\n",
      "65\n",
      "66\n",
      "67\n",
      "68\n",
      "69\n",
      "70\n",
      "71\n",
      "72\n",
      "73\n",
      "74\n",
      "75\n",
      "76\n",
      "77\n",
      "78\n",
      "79\n",
      "80\n",
      "81\n",
      "82\n",
      "83\n",
      "84\n",
      "85\n",
      "86\n",
      "87\n",
      "88\n",
      "89\n",
      "90\n",
      "91\n",
      "92\n",
      "93\n",
      "94\n",
      "95\n",
      "96\n",
      "97\n",
      "98\n",
      "99\n",
      "100\n",
      "\n",
      "\n"
     ]
    },
    {
     "name": "stdout",
     "output_type": "stream",
     "text": [
      "  |======================================================================| 100%\n",
      "\n"
     ]
    },
    {
     "data": {
      "text/html": [
       "<table class=\"dataframe\">\n",
       "<caption>A matrix: 6 x 43 of type dbl</caption>\n",
       "<thead>\n",
       "\t<tr><th></th><th scope=col>CI10</th><th scope=col>CI11</th><th scope=col>CI12</th><th scope=col>CI13</th><th scope=col>CI14</th><th scope=col>CI15</th><th scope=col>CI16</th><th scope=col>CI17</th><th scope=col>CI18</th><th scope=col>CI19</th><th scope=col>...</th><th scope=col>CI41</th><th scope=col>CI42</th><th scope=col>CI43</th><th scope=col>CI44</th><th scope=col>CI4</th><th scope=col>CI5</th><th scope=col>CI6</th><th scope=col>CI7</th><th scope=col>CI8</th><th scope=col>CI9</th></tr>\n",
       "</thead>\n",
       "<tbody>\n",
       "\t<tr><th scope=row>GOBP_10_FORMYLTETRAHYDROFOLATE_METABOLIC_PROCESS</th><td> 0.21540634</td><td> 0.20356242</td><td>-0.622000593</td><td>-0.6293748</td><td>-0.05851367</td><td> 0.1227872</td><td>-0.333392435</td><td>-0.4697096</td><td> 0.4396615</td><td> 0.205889108</td><td>...</td><td> 0.71381946</td><td> 0.33751875</td><td>-0.15494511</td><td> 0.47034569</td><td>-0.3791444</td><td>-0.31156016</td><td>-0.0002277452</td><td> 0.44914633</td><td> 0.32771443</td><td>-0.1820721</td></tr>\n",
       "\t<tr><th scope=row>GOBP_2FE_2S_CLUSTER_ASSEMBLY</th><td> 0.29904725</td><td>-0.20217840</td><td> 0.005180149</td><td>-0.3817800</td><td>-0.24894756</td><td> 0.2927718</td><td>-0.285534459</td><td>-0.1103111</td><td> 0.3458170</td><td>-0.447132206</td><td>...</td><td> 0.52590259</td><td> 0.31908718</td><td>-0.14308304</td><td> 0.36609232</td><td>-0.3962006</td><td>-0.03715715</td><td> 0.4329224860</td><td> 0.53212467</td><td>-0.44766319</td><td>-0.4699224</td></tr>\n",
       "\t<tr><th scope=row>GOBP_2_OXOGLUTARATE_METABOLIC_PROCESS</th><td>-0.01720574</td><td> 0.46925101</td><td>-0.053838198</td><td>-0.5995697</td><td>-0.26628179</td><td> 0.2576695</td><td> 0.002395076</td><td> 0.2254516</td><td> 0.1444350</td><td>-0.007554448</td><td>...</td><td>-0.19018920</td><td>-0.07947372</td><td>-0.06746428</td><td> 0.19199967</td><td>-0.2359850</td><td> 0.10020731</td><td> 0.3651397944</td><td> 0.37271557</td><td> 0.41796594</td><td>-0.3146915</td></tr>\n",
       "\t<tr><th scope=row>GOBP_3_PHOSPHOADENOSINE_5_PHOSPHOSULFATE_METABOLIC_PROCESS</th><td>-0.11426349</td><td> 0.45918836</td><td> 0.233133035</td><td> 0.2516424</td><td>-0.26432418</td><td>-0.2532084</td><td> 0.172702794</td><td>-0.2533670</td><td> 0.3449373</td><td> 0.041469256</td><td>...</td><td>-0.03418092</td><td> 0.24420318</td><td> 0.39918952</td><td>-0.43342420</td><td> 0.2899200</td><td> 0.45128201</td><td> 0.0179263533</td><td>-0.12345430</td><td>-0.02937592</td><td> 0.1213250</td></tr>\n",
       "\t<tr><th scope=row>GOBP_3_UTR_MEDIATED_MRNA_DESTABILIZATION</th><td>-0.22617679</td><td>-0.21646661</td><td> 0.145721700</td><td>-0.2146657</td><td> 0.20843610</td><td>-0.1544612</td><td>-0.162006952</td><td> 0.4014474</td><td>-0.2827833</td><td> 0.400062735</td><td>...</td><td>-0.40247049</td><td>-0.41224831</td><td>-0.34544641</td><td>-0.02405906</td><td> 0.3583144</td><td> 0.36904347</td><td>-0.1159132927</td><td>-0.21741148</td><td> 0.39673827</td><td> 0.1278940</td></tr>\n",
       "\t<tr><th scope=row>GOBP_3_UTR_MEDIATED_MRNA_STABILIZATION</th><td>-0.34382008</td><td>-0.01396721</td><td> 0.071784794</td><td> 0.1747401</td><td>-0.34765653</td><td>-0.2529241</td><td>-0.149530016</td><td> 0.1233782</td><td> 0.2066880</td><td>-0.016568231</td><td>...</td><td>-0.13501722</td><td>-0.14270977</td><td> 0.02914473</td><td>-0.03929732</td><td> 0.3355848</td><td> 0.16202461</td><td> 0.1809044730</td><td> 0.06526055</td><td> 0.05849860</td><td>-0.4109623</td></tr>\n",
       "</tbody>\n",
       "</table>\n"
      ],
      "text/latex": [
       "A matrix: 6 x 43 of type dbl\n",
       "\\begin{tabular}{r|lllllllllllllllllllll}\n",
       "  & CI10 & CI11 & CI12 & CI13 & CI14 & CI15 & CI16 & CI17 & CI18 & CI19 & ... & CI41 & CI42 & CI43 & CI44 & CI4 & CI5 & CI6 & CI7 & CI8 & CI9\\\\\n",
       "\\hline\n",
       "\tGOBP\\_10\\_FORMYLTETRAHYDROFOLATE\\_METABOLIC\\_PROCESS &  0.21540634 &  0.20356242 & -0.622000593 & -0.6293748 & -0.05851367 &  0.1227872 & -0.333392435 & -0.4697096 &  0.4396615 &  0.205889108 & ... &  0.71381946 &  0.33751875 & -0.15494511 &  0.47034569 & -0.3791444 & -0.31156016 & -0.0002277452 &  0.44914633 &  0.32771443 & -0.1820721\\\\\n",
       "\tGOBP\\_2FE\\_2S\\_CLUSTER\\_ASSEMBLY &  0.29904725 & -0.20217840 &  0.005180149 & -0.3817800 & -0.24894756 &  0.2927718 & -0.285534459 & -0.1103111 &  0.3458170 & -0.447132206 & ... &  0.52590259 &  0.31908718 & -0.14308304 &  0.36609232 & -0.3962006 & -0.03715715 &  0.4329224860 &  0.53212467 & -0.44766319 & -0.4699224\\\\\n",
       "\tGOBP\\_2\\_OXOGLUTARATE\\_METABOLIC\\_PROCESS & -0.01720574 &  0.46925101 & -0.053838198 & -0.5995697 & -0.26628179 &  0.2576695 &  0.002395076 &  0.2254516 &  0.1444350 & -0.007554448 & ... & -0.19018920 & -0.07947372 & -0.06746428 &  0.19199967 & -0.2359850 &  0.10020731 &  0.3651397944 &  0.37271557 &  0.41796594 & -0.3146915\\\\\n",
       "\tGOBP\\_3\\_PHOSPHOADENOSINE\\_5\\_PHOSPHOSULFATE\\_METABOLIC\\_PROCESS & -0.11426349 &  0.45918836 &  0.233133035 &  0.2516424 & -0.26432418 & -0.2532084 &  0.172702794 & -0.2533670 &  0.3449373 &  0.041469256 & ... & -0.03418092 &  0.24420318 &  0.39918952 & -0.43342420 &  0.2899200 &  0.45128201 &  0.0179263533 & -0.12345430 & -0.02937592 &  0.1213250\\\\\n",
       "\tGOBP\\_3\\_UTR\\_MEDIATED\\_MRNA\\_DESTABILIZATION & -0.22617679 & -0.21646661 &  0.145721700 & -0.2146657 &  0.20843610 & -0.1544612 & -0.162006952 &  0.4014474 & -0.2827833 &  0.400062735 & ... & -0.40247049 & -0.41224831 & -0.34544641 & -0.02405906 &  0.3583144 &  0.36904347 & -0.1159132927 & -0.21741148 &  0.39673827 &  0.1278940\\\\\n",
       "\tGOBP\\_3\\_UTR\\_MEDIATED\\_MRNA\\_STABILIZATION & -0.34382008 & -0.01396721 &  0.071784794 &  0.1747401 & -0.34765653 & -0.2529241 & -0.149530016 &  0.1233782 &  0.2066880 & -0.016568231 & ... & -0.13501722 & -0.14270977 &  0.02914473 & -0.03929732 &  0.3355848 &  0.16202461 &  0.1809044730 &  0.06526055 &  0.05849860 & -0.4109623\\\\\n",
       "\\end{tabular}\n"
      ],
      "text/markdown": [
       "\n",
       "A matrix: 6 x 43 of type dbl\n",
       "\n",
       "| <!--/--> | CI10 | CI11 | CI12 | CI13 | CI14 | CI15 | CI16 | CI17 | CI18 | CI19 | ... | CI41 | CI42 | CI43 | CI44 | CI4 | CI5 | CI6 | CI7 | CI8 | CI9 |\n",
       "|---|---|---|---|---|---|---|---|---|---|---|---|---|---|---|---|---|---|---|---|---|---|\n",
       "| GOBP_10_FORMYLTETRAHYDROFOLATE_METABOLIC_PROCESS |  0.21540634 |  0.20356242 | -0.622000593 | -0.6293748 | -0.05851367 |  0.1227872 | -0.333392435 | -0.4697096 |  0.4396615 |  0.205889108 | ... |  0.71381946 |  0.33751875 | -0.15494511 |  0.47034569 | -0.3791444 | -0.31156016 | -0.0002277452 |  0.44914633 |  0.32771443 | -0.1820721 |\n",
       "| GOBP_2FE_2S_CLUSTER_ASSEMBLY |  0.29904725 | -0.20217840 |  0.005180149 | -0.3817800 | -0.24894756 |  0.2927718 | -0.285534459 | -0.1103111 |  0.3458170 | -0.447132206 | ... |  0.52590259 |  0.31908718 | -0.14308304 |  0.36609232 | -0.3962006 | -0.03715715 |  0.4329224860 |  0.53212467 | -0.44766319 | -0.4699224 |\n",
       "| GOBP_2_OXOGLUTARATE_METABOLIC_PROCESS | -0.01720574 |  0.46925101 | -0.053838198 | -0.5995697 | -0.26628179 |  0.2576695 |  0.002395076 |  0.2254516 |  0.1444350 | -0.007554448 | ... | -0.19018920 | -0.07947372 | -0.06746428 |  0.19199967 | -0.2359850 |  0.10020731 |  0.3651397944 |  0.37271557 |  0.41796594 | -0.3146915 |\n",
       "| GOBP_3_PHOSPHOADENOSINE_5_PHOSPHOSULFATE_METABOLIC_PROCESS | -0.11426349 |  0.45918836 |  0.233133035 |  0.2516424 | -0.26432418 | -0.2532084 |  0.172702794 | -0.2533670 |  0.3449373 |  0.041469256 | ... | -0.03418092 |  0.24420318 |  0.39918952 | -0.43342420 |  0.2899200 |  0.45128201 |  0.0179263533 | -0.12345430 | -0.02937592 |  0.1213250 |\n",
       "| GOBP_3_UTR_MEDIATED_MRNA_DESTABILIZATION | -0.22617679 | -0.21646661 |  0.145721700 | -0.2146657 |  0.20843610 | -0.1544612 | -0.162006952 |  0.4014474 | -0.2827833 |  0.400062735 | ... | -0.40247049 | -0.41224831 | -0.34544641 | -0.02405906 |  0.3583144 |  0.36904347 | -0.1159132927 | -0.21741148 |  0.39673827 |  0.1278940 |\n",
       "| GOBP_3_UTR_MEDIATED_MRNA_STABILIZATION | -0.34382008 | -0.01396721 |  0.071784794 |  0.1747401 | -0.34765653 | -0.2529241 | -0.149530016 |  0.1233782 |  0.2066880 | -0.016568231 | ... | -0.13501722 | -0.14270977 |  0.02914473 | -0.03929732 |  0.3355848 |  0.16202461 |  0.1809044730 |  0.06526055 |  0.05849860 | -0.4109623 |\n",
       "\n"
      ],
      "text/plain": [
       "                                                           CI10       \n",
       "GOBP_10_FORMYLTETRAHYDROFOLATE_METABOLIC_PROCESS            0.21540634\n",
       "GOBP_2FE_2S_CLUSTER_ASSEMBLY                                0.29904725\n",
       "GOBP_2_OXOGLUTARATE_METABOLIC_PROCESS                      -0.01720574\n",
       "GOBP_3_PHOSPHOADENOSINE_5_PHOSPHOSULFATE_METABOLIC_PROCESS -0.11426349\n",
       "GOBP_3_UTR_MEDIATED_MRNA_DESTABILIZATION                   -0.22617679\n",
       "GOBP_3_UTR_MEDIATED_MRNA_STABILIZATION                     -0.34382008\n",
       "                                                           CI11       \n",
       "GOBP_10_FORMYLTETRAHYDROFOLATE_METABOLIC_PROCESS            0.20356242\n",
       "GOBP_2FE_2S_CLUSTER_ASSEMBLY                               -0.20217840\n",
       "GOBP_2_OXOGLUTARATE_METABOLIC_PROCESS                       0.46925101\n",
       "GOBP_3_PHOSPHOADENOSINE_5_PHOSPHOSULFATE_METABOLIC_PROCESS  0.45918836\n",
       "GOBP_3_UTR_MEDIATED_MRNA_DESTABILIZATION                   -0.21646661\n",
       "GOBP_3_UTR_MEDIATED_MRNA_STABILIZATION                     -0.01396721\n",
       "                                                           CI12        \n",
       "GOBP_10_FORMYLTETRAHYDROFOLATE_METABOLIC_PROCESS           -0.622000593\n",
       "GOBP_2FE_2S_CLUSTER_ASSEMBLY                                0.005180149\n",
       "GOBP_2_OXOGLUTARATE_METABOLIC_PROCESS                      -0.053838198\n",
       "GOBP_3_PHOSPHOADENOSINE_5_PHOSPHOSULFATE_METABOLIC_PROCESS  0.233133035\n",
       "GOBP_3_UTR_MEDIATED_MRNA_DESTABILIZATION                    0.145721700\n",
       "GOBP_3_UTR_MEDIATED_MRNA_STABILIZATION                      0.071784794\n",
       "                                                           CI13      \n",
       "GOBP_10_FORMYLTETRAHYDROFOLATE_METABOLIC_PROCESS           -0.6293748\n",
       "GOBP_2FE_2S_CLUSTER_ASSEMBLY                               -0.3817800\n",
       "GOBP_2_OXOGLUTARATE_METABOLIC_PROCESS                      -0.5995697\n",
       "GOBP_3_PHOSPHOADENOSINE_5_PHOSPHOSULFATE_METABOLIC_PROCESS  0.2516424\n",
       "GOBP_3_UTR_MEDIATED_MRNA_DESTABILIZATION                   -0.2146657\n",
       "GOBP_3_UTR_MEDIATED_MRNA_STABILIZATION                      0.1747401\n",
       "                                                           CI14       \n",
       "GOBP_10_FORMYLTETRAHYDROFOLATE_METABOLIC_PROCESS           -0.05851367\n",
       "GOBP_2FE_2S_CLUSTER_ASSEMBLY                               -0.24894756\n",
       "GOBP_2_OXOGLUTARATE_METABOLIC_PROCESS                      -0.26628179\n",
       "GOBP_3_PHOSPHOADENOSINE_5_PHOSPHOSULFATE_METABOLIC_PROCESS -0.26432418\n",
       "GOBP_3_UTR_MEDIATED_MRNA_DESTABILIZATION                    0.20843610\n",
       "GOBP_3_UTR_MEDIATED_MRNA_STABILIZATION                     -0.34765653\n",
       "                                                           CI15      \n",
       "GOBP_10_FORMYLTETRAHYDROFOLATE_METABOLIC_PROCESS            0.1227872\n",
       "GOBP_2FE_2S_CLUSTER_ASSEMBLY                                0.2927718\n",
       "GOBP_2_OXOGLUTARATE_METABOLIC_PROCESS                       0.2576695\n",
       "GOBP_3_PHOSPHOADENOSINE_5_PHOSPHOSULFATE_METABOLIC_PROCESS -0.2532084\n",
       "GOBP_3_UTR_MEDIATED_MRNA_DESTABILIZATION                   -0.1544612\n",
       "GOBP_3_UTR_MEDIATED_MRNA_STABILIZATION                     -0.2529241\n",
       "                                                           CI16        \n",
       "GOBP_10_FORMYLTETRAHYDROFOLATE_METABOLIC_PROCESS           -0.333392435\n",
       "GOBP_2FE_2S_CLUSTER_ASSEMBLY                               -0.285534459\n",
       "GOBP_2_OXOGLUTARATE_METABOLIC_PROCESS                       0.002395076\n",
       "GOBP_3_PHOSPHOADENOSINE_5_PHOSPHOSULFATE_METABOLIC_PROCESS  0.172702794\n",
       "GOBP_3_UTR_MEDIATED_MRNA_DESTABILIZATION                   -0.162006952\n",
       "GOBP_3_UTR_MEDIATED_MRNA_STABILIZATION                     -0.149530016\n",
       "                                                           CI17      \n",
       "GOBP_10_FORMYLTETRAHYDROFOLATE_METABOLIC_PROCESS           -0.4697096\n",
       "GOBP_2FE_2S_CLUSTER_ASSEMBLY                               -0.1103111\n",
       "GOBP_2_OXOGLUTARATE_METABOLIC_PROCESS                       0.2254516\n",
       "GOBP_3_PHOSPHOADENOSINE_5_PHOSPHOSULFATE_METABOLIC_PROCESS -0.2533670\n",
       "GOBP_3_UTR_MEDIATED_MRNA_DESTABILIZATION                    0.4014474\n",
       "GOBP_3_UTR_MEDIATED_MRNA_STABILIZATION                      0.1233782\n",
       "                                                           CI18      \n",
       "GOBP_10_FORMYLTETRAHYDROFOLATE_METABOLIC_PROCESS            0.4396615\n",
       "GOBP_2FE_2S_CLUSTER_ASSEMBLY                                0.3458170\n",
       "GOBP_2_OXOGLUTARATE_METABOLIC_PROCESS                       0.1444350\n",
       "GOBP_3_PHOSPHOADENOSINE_5_PHOSPHOSULFATE_METABOLIC_PROCESS  0.3449373\n",
       "GOBP_3_UTR_MEDIATED_MRNA_DESTABILIZATION                   -0.2827833\n",
       "GOBP_3_UTR_MEDIATED_MRNA_STABILIZATION                      0.2066880\n",
       "                                                           CI19         ...\n",
       "GOBP_10_FORMYLTETRAHYDROFOLATE_METABOLIC_PROCESS            0.205889108 ...\n",
       "GOBP_2FE_2S_CLUSTER_ASSEMBLY                               -0.447132206 ...\n",
       "GOBP_2_OXOGLUTARATE_METABOLIC_PROCESS                      -0.007554448 ...\n",
       "GOBP_3_PHOSPHOADENOSINE_5_PHOSPHOSULFATE_METABOLIC_PROCESS  0.041469256 ...\n",
       "GOBP_3_UTR_MEDIATED_MRNA_DESTABILIZATION                    0.400062735 ...\n",
       "GOBP_3_UTR_MEDIATED_MRNA_STABILIZATION                     -0.016568231 ...\n",
       "                                                           CI41       \n",
       "GOBP_10_FORMYLTETRAHYDROFOLATE_METABOLIC_PROCESS            0.71381946\n",
       "GOBP_2FE_2S_CLUSTER_ASSEMBLY                                0.52590259\n",
       "GOBP_2_OXOGLUTARATE_METABOLIC_PROCESS                      -0.19018920\n",
       "GOBP_3_PHOSPHOADENOSINE_5_PHOSPHOSULFATE_METABOLIC_PROCESS -0.03418092\n",
       "GOBP_3_UTR_MEDIATED_MRNA_DESTABILIZATION                   -0.40247049\n",
       "GOBP_3_UTR_MEDIATED_MRNA_STABILIZATION                     -0.13501722\n",
       "                                                           CI42       \n",
       "GOBP_10_FORMYLTETRAHYDROFOLATE_METABOLIC_PROCESS            0.33751875\n",
       "GOBP_2FE_2S_CLUSTER_ASSEMBLY                                0.31908718\n",
       "GOBP_2_OXOGLUTARATE_METABOLIC_PROCESS                      -0.07947372\n",
       "GOBP_3_PHOSPHOADENOSINE_5_PHOSPHOSULFATE_METABOLIC_PROCESS  0.24420318\n",
       "GOBP_3_UTR_MEDIATED_MRNA_DESTABILIZATION                   -0.41224831\n",
       "GOBP_3_UTR_MEDIATED_MRNA_STABILIZATION                     -0.14270977\n",
       "                                                           CI43       \n",
       "GOBP_10_FORMYLTETRAHYDROFOLATE_METABOLIC_PROCESS           -0.15494511\n",
       "GOBP_2FE_2S_CLUSTER_ASSEMBLY                               -0.14308304\n",
       "GOBP_2_OXOGLUTARATE_METABOLIC_PROCESS                      -0.06746428\n",
       "GOBP_3_PHOSPHOADENOSINE_5_PHOSPHOSULFATE_METABOLIC_PROCESS  0.39918952\n",
       "GOBP_3_UTR_MEDIATED_MRNA_DESTABILIZATION                   -0.34544641\n",
       "GOBP_3_UTR_MEDIATED_MRNA_STABILIZATION                      0.02914473\n",
       "                                                           CI44       \n",
       "GOBP_10_FORMYLTETRAHYDROFOLATE_METABOLIC_PROCESS            0.47034569\n",
       "GOBP_2FE_2S_CLUSTER_ASSEMBLY                                0.36609232\n",
       "GOBP_2_OXOGLUTARATE_METABOLIC_PROCESS                       0.19199967\n",
       "GOBP_3_PHOSPHOADENOSINE_5_PHOSPHOSULFATE_METABOLIC_PROCESS -0.43342420\n",
       "GOBP_3_UTR_MEDIATED_MRNA_DESTABILIZATION                   -0.02405906\n",
       "GOBP_3_UTR_MEDIATED_MRNA_STABILIZATION                     -0.03929732\n",
       "                                                           CI4       \n",
       "GOBP_10_FORMYLTETRAHYDROFOLATE_METABOLIC_PROCESS           -0.3791444\n",
       "GOBP_2FE_2S_CLUSTER_ASSEMBLY                               -0.3962006\n",
       "GOBP_2_OXOGLUTARATE_METABOLIC_PROCESS                      -0.2359850\n",
       "GOBP_3_PHOSPHOADENOSINE_5_PHOSPHOSULFATE_METABOLIC_PROCESS  0.2899200\n",
       "GOBP_3_UTR_MEDIATED_MRNA_DESTABILIZATION                    0.3583144\n",
       "GOBP_3_UTR_MEDIATED_MRNA_STABILIZATION                      0.3355848\n",
       "                                                           CI5        \n",
       "GOBP_10_FORMYLTETRAHYDROFOLATE_METABOLIC_PROCESS           -0.31156016\n",
       "GOBP_2FE_2S_CLUSTER_ASSEMBLY                               -0.03715715\n",
       "GOBP_2_OXOGLUTARATE_METABOLIC_PROCESS                       0.10020731\n",
       "GOBP_3_PHOSPHOADENOSINE_5_PHOSPHOSULFATE_METABOLIC_PROCESS  0.45128201\n",
       "GOBP_3_UTR_MEDIATED_MRNA_DESTABILIZATION                    0.36904347\n",
       "GOBP_3_UTR_MEDIATED_MRNA_STABILIZATION                      0.16202461\n",
       "                                                           CI6          \n",
       "GOBP_10_FORMYLTETRAHYDROFOLATE_METABOLIC_PROCESS           -0.0002277452\n",
       "GOBP_2FE_2S_CLUSTER_ASSEMBLY                                0.4329224860\n",
       "GOBP_2_OXOGLUTARATE_METABOLIC_PROCESS                       0.3651397944\n",
       "GOBP_3_PHOSPHOADENOSINE_5_PHOSPHOSULFATE_METABOLIC_PROCESS  0.0179263533\n",
       "GOBP_3_UTR_MEDIATED_MRNA_DESTABILIZATION                   -0.1159132927\n",
       "GOBP_3_UTR_MEDIATED_MRNA_STABILIZATION                      0.1809044730\n",
       "                                                           CI7        \n",
       "GOBP_10_FORMYLTETRAHYDROFOLATE_METABOLIC_PROCESS            0.44914633\n",
       "GOBP_2FE_2S_CLUSTER_ASSEMBLY                                0.53212467\n",
       "GOBP_2_OXOGLUTARATE_METABOLIC_PROCESS                       0.37271557\n",
       "GOBP_3_PHOSPHOADENOSINE_5_PHOSPHOSULFATE_METABOLIC_PROCESS -0.12345430\n",
       "GOBP_3_UTR_MEDIATED_MRNA_DESTABILIZATION                   -0.21741148\n",
       "GOBP_3_UTR_MEDIATED_MRNA_STABILIZATION                      0.06526055\n",
       "                                                           CI8        \n",
       "GOBP_10_FORMYLTETRAHYDROFOLATE_METABOLIC_PROCESS            0.32771443\n",
       "GOBP_2FE_2S_CLUSTER_ASSEMBLY                               -0.44766319\n",
       "GOBP_2_OXOGLUTARATE_METABOLIC_PROCESS                       0.41796594\n",
       "GOBP_3_PHOSPHOADENOSINE_5_PHOSPHOSULFATE_METABOLIC_PROCESS -0.02937592\n",
       "GOBP_3_UTR_MEDIATED_MRNA_DESTABILIZATION                    0.39673827\n",
       "GOBP_3_UTR_MEDIATED_MRNA_STABILIZATION                      0.05849860\n",
       "                                                           CI9       \n",
       "GOBP_10_FORMYLTETRAHYDROFOLATE_METABOLIC_PROCESS           -0.1820721\n",
       "GOBP_2FE_2S_CLUSTER_ASSEMBLY                               -0.4699224\n",
       "GOBP_2_OXOGLUTARATE_METABOLIC_PROCESS                      -0.3146915\n",
       "GOBP_3_PHOSPHOADENOSINE_5_PHOSPHOSULFATE_METABOLIC_PROCESS  0.1213250\n",
       "GOBP_3_UTR_MEDIATED_MRNA_DESTABILIZATION                    0.1278940\n",
       "GOBP_3_UTR_MEDIATED_MRNA_STABILIZATION                     -0.4109623"
      ]
     },
     "metadata": {},
     "output_type": "display_data"
    }
   ],
   "source": [
    "#geneSets <- getGmt('h.all.v7.5.1.symbols.gmt')    ###下载的基因集\n",
    "geneSets <- getGmt('BP.gmt')\n",
    "GSVA_hall <- gsva(expr=as.matrix(dat), \n",
    "                  gset.idx.list=geneSets, \n",
    "                  mx.diff=T, # 数据为正态分布则T，双峰则F\n",
    "                  kcdf=\"Gaussian\", #CPM, RPKM, TPM数据就用默认值\"Gaussian\"， read count数据则为\"Poisson\"，\n",
    "                  parallel.sz=14) # 并行线程数目\n",
    "head(GSVA_hall)"
   ]
  },
  {
   "cell_type": "code",
   "execution_count": 18,
   "id": "a7086093-bd59-4618-afb9-fff2e22129df",
   "metadata": {},
   "outputs": [
    {
     "data": {
      "text/html": [
       "<style>\n",
       ".list-inline {list-style: none; margin:0; padding: 0}\n",
       ".list-inline>li {display: inline-block}\n",
       ".list-inline>li:not(:last-child)::after {content: \"\\00b7\"; padding: 0 .5ex}\n",
       "</style>\n",
       "<ol class=list-inline><li>'subtype1'</li><li>'subtype1'</li><li>'subtype1'</li><li>'subtype1'</li><li>'subtype2'</li><li>'subtype2'</li><li>'subtype1'</li><li>'subtype1'</li><li>'subtype1'</li><li>'subtype1'</li><li>'subtype2'</li><li>'subtype1'</li><li>'subtype1'</li><li>'subtype1'</li><li>'subtype1'</li><li>'subtype2'</li><li>'subtype1'</li><li>'subtype2'</li><li>'subtype1'</li><li>'subtype1'</li><li>'subtype1'</li><li>'subtype1'</li><li>'subtype1'</li><li>'subtype1'</li><li>'subtype2'</li><li>'subtype1'</li><li>'subtype2'</li><li>'subtype1'</li><li>'subtype1'</li><li>'subtype1'</li><li>'subtype1'</li><li>'subtype1'</li><li>'subtype1'</li><li>'subtype1'</li><li>'subtype2'</li><li>'subtype1'</li><li>'subtype1'</li><li>'subtype1'</li><li>'subtype1'</li><li>'subtype2'</li><li>'subtype1'</li><li>'subtype2'</li><li>'subtype2'</li></ol>\n"
      ],
      "text/latex": [
       "\\begin{enumerate*}\n",
       "\\item 'subtype1'\n",
       "\\item 'subtype1'\n",
       "\\item 'subtype1'\n",
       "\\item 'subtype1'\n",
       "\\item 'subtype2'\n",
       "\\item 'subtype2'\n",
       "\\item 'subtype1'\n",
       "\\item 'subtype1'\n",
       "\\item 'subtype1'\n",
       "\\item 'subtype1'\n",
       "\\item 'subtype2'\n",
       "\\item 'subtype1'\n",
       "\\item 'subtype1'\n",
       "\\item 'subtype1'\n",
       "\\item 'subtype1'\n",
       "\\item 'subtype2'\n",
       "\\item 'subtype1'\n",
       "\\item 'subtype2'\n",
       "\\item 'subtype1'\n",
       "\\item 'subtype1'\n",
       "\\item 'subtype1'\n",
       "\\item 'subtype1'\n",
       "\\item 'subtype1'\n",
       "\\item 'subtype1'\n",
       "\\item 'subtype2'\n",
       "\\item 'subtype1'\n",
       "\\item 'subtype2'\n",
       "\\item 'subtype1'\n",
       "\\item 'subtype1'\n",
       "\\item 'subtype1'\n",
       "\\item 'subtype1'\n",
       "\\item 'subtype1'\n",
       "\\item 'subtype1'\n",
       "\\item 'subtype1'\n",
       "\\item 'subtype2'\n",
       "\\item 'subtype1'\n",
       "\\item 'subtype1'\n",
       "\\item 'subtype1'\n",
       "\\item 'subtype1'\n",
       "\\item 'subtype2'\n",
       "\\item 'subtype1'\n",
       "\\item 'subtype2'\n",
       "\\item 'subtype2'\n",
       "\\end{enumerate*}\n"
      ],
      "text/markdown": [
       "1. 'subtype1'\n",
       "2. 'subtype1'\n",
       "3. 'subtype1'\n",
       "4. 'subtype1'\n",
       "5. 'subtype2'\n",
       "6. 'subtype2'\n",
       "7. 'subtype1'\n",
       "8. 'subtype1'\n",
       "9. 'subtype1'\n",
       "10. 'subtype1'\n",
       "11. 'subtype2'\n",
       "12. 'subtype1'\n",
       "13. 'subtype1'\n",
       "14. 'subtype1'\n",
       "15. 'subtype1'\n",
       "16. 'subtype2'\n",
       "17. 'subtype1'\n",
       "18. 'subtype2'\n",
       "19. 'subtype1'\n",
       "20. 'subtype1'\n",
       "21. 'subtype1'\n",
       "22. 'subtype1'\n",
       "23. 'subtype1'\n",
       "24. 'subtype1'\n",
       "25. 'subtype2'\n",
       "26. 'subtype1'\n",
       "27. 'subtype2'\n",
       "28. 'subtype1'\n",
       "29. 'subtype1'\n",
       "30. 'subtype1'\n",
       "31. 'subtype1'\n",
       "32. 'subtype1'\n",
       "33. 'subtype1'\n",
       "34. 'subtype1'\n",
       "35. 'subtype2'\n",
       "36. 'subtype1'\n",
       "37. 'subtype1'\n",
       "38. 'subtype1'\n",
       "39. 'subtype1'\n",
       "40. 'subtype2'\n",
       "41. 'subtype1'\n",
       "42. 'subtype2'\n",
       "43. 'subtype2'\n",
       "\n",
       "\n"
      ],
      "text/plain": [
       " [1] \"subtype1\" \"subtype1\" \"subtype1\" \"subtype1\" \"subtype2\" \"subtype2\"\n",
       " [7] \"subtype1\" \"subtype1\" \"subtype1\" \"subtype1\" \"subtype2\" \"subtype1\"\n",
       "[13] \"subtype1\" \"subtype1\" \"subtype1\" \"subtype2\" \"subtype1\" \"subtype2\"\n",
       "[19] \"subtype1\" \"subtype1\" \"subtype1\" \"subtype1\" \"subtype1\" \"subtype1\"\n",
       "[25] \"subtype2\" \"subtype1\" \"subtype2\" \"subtype1\" \"subtype1\" \"subtype1\"\n",
       "[31] \"subtype1\" \"subtype1\" \"subtype1\" \"subtype1\" \"subtype2\" \"subtype1\"\n",
       "[37] \"subtype1\" \"subtype1\" \"subtype1\" \"subtype2\" \"subtype1\" \"subtype2\"\n",
       "[43] \"subtype2\""
      ]
     },
     "metadata": {},
     "output_type": "display_data"
    }
   ],
   "source": [
    "group"
   ]
  },
  {
   "cell_type": "code",
   "execution_count": 19,
   "id": "905a9022-0cd1-4025-b8ba-95b0fc739544",
   "metadata": {},
   "outputs": [
    {
     "name": "stderr",
     "output_type": "stream",
     "text": [
      "Warning message:\n",
      "\"package 'limma' was built under R version 4.2.3\"\n",
      "\n",
      "Attaching package: 'limma'\n",
      "\n",
      "\n",
      "The following object is masked from 'package:BiocGenerics':\n",
      "\n",
      "    plotMA\n",
      "\n",
      "\n"
     ]
    }
   ],
   "source": [
    "## limma\n",
    "#BiocManager::install('limma')\n",
    "library(limma)\n",
    "# 设置或导入分组\n",
    "group <- factor(group, levels = c('subtype2','subtype1'))\n",
    "design <- model.matrix(~0+group)"
   ]
  },
  {
   "cell_type": "code",
   "execution_count": 45,
   "id": "cdb8b009-a40f-429c-8264-aa2b15de779f",
   "metadata": {
    "scrolled": true
   },
   "outputs": [
    {
     "data": {
      "text/html": [
       "<table class=\"dataframe\">\n",
       "<caption>A matrix: 43 x 2 of type dbl</caption>\n",
       "<thead>\n",
       "\t<tr><th></th><th scope=col>subtype2</th><th scope=col>subtype1</th></tr>\n",
       "</thead>\n",
       "<tbody>\n",
       "\t<tr><th scope=row>CI10</th><td>0</td><td>1</td></tr>\n",
       "\t<tr><th scope=row>CI11</th><td>0</td><td>1</td></tr>\n",
       "\t<tr><th scope=row>CI12</th><td>0</td><td>1</td></tr>\n",
       "\t<tr><th scope=row>CI13</th><td>0</td><td>1</td></tr>\n",
       "\t<tr><th scope=row>CI14</th><td>1</td><td>0</td></tr>\n",
       "\t<tr><th scope=row>CI15</th><td>1</td><td>0</td></tr>\n",
       "\t<tr><th scope=row>CI16</th><td>0</td><td>1</td></tr>\n",
       "\t<tr><th scope=row>CI17</th><td>0</td><td>1</td></tr>\n",
       "\t<tr><th scope=row>CI18</th><td>0</td><td>1</td></tr>\n",
       "\t<tr><th scope=row>CI19</th><td>0</td><td>1</td></tr>\n",
       "\t<tr><th scope=row>CI20</th><td>1</td><td>0</td></tr>\n",
       "\t<tr><th scope=row>CI21</th><td>0</td><td>1</td></tr>\n",
       "\t<tr><th scope=row>CI22</th><td>0</td><td>1</td></tr>\n",
       "\t<tr><th scope=row>CI23</th><td>0</td><td>1</td></tr>\n",
       "\t<tr><th scope=row>CI24</th><td>0</td><td>1</td></tr>\n",
       "\t<tr><th scope=row>CI25</th><td>1</td><td>0</td></tr>\n",
       "\t<tr><th scope=row>CI26</th><td>0</td><td>1</td></tr>\n",
       "\t<tr><th scope=row>CI27</th><td>1</td><td>0</td></tr>\n",
       "\t<tr><th scope=row>CI28</th><td>0</td><td>1</td></tr>\n",
       "\t<tr><th scope=row>CI29</th><td>0</td><td>1</td></tr>\n",
       "\t<tr><th scope=row>CI2</th><td>0</td><td>1</td></tr>\n",
       "\t<tr><th scope=row>CI30</th><td>0</td><td>1</td></tr>\n",
       "\t<tr><th scope=row>CI31</th><td>0</td><td>1</td></tr>\n",
       "\t<tr><th scope=row>CI32</th><td>0</td><td>1</td></tr>\n",
       "\t<tr><th scope=row>CI33</th><td>1</td><td>0</td></tr>\n",
       "\t<tr><th scope=row>CI34</th><td>0</td><td>1</td></tr>\n",
       "\t<tr><th scope=row>CI35</th><td>1</td><td>0</td></tr>\n",
       "\t<tr><th scope=row>CI36</th><td>0</td><td>1</td></tr>\n",
       "\t<tr><th scope=row>CI37</th><td>0</td><td>1</td></tr>\n",
       "\t<tr><th scope=row>CI38</th><td>0</td><td>1</td></tr>\n",
       "\t<tr><th scope=row>CI39</th><td>0</td><td>1</td></tr>\n",
       "\t<tr><th scope=row>CI3</th><td>0</td><td>1</td></tr>\n",
       "\t<tr><th scope=row>CI40</th><td>0</td><td>1</td></tr>\n",
       "\t<tr><th scope=row>CI41</th><td>0</td><td>1</td></tr>\n",
       "\t<tr><th scope=row>CI42</th><td>1</td><td>0</td></tr>\n",
       "\t<tr><th scope=row>CI43</th><td>0</td><td>1</td></tr>\n",
       "\t<tr><th scope=row>CI44</th><td>0</td><td>1</td></tr>\n",
       "\t<tr><th scope=row>CI4</th><td>0</td><td>1</td></tr>\n",
       "\t<tr><th scope=row>CI5</th><td>0</td><td>1</td></tr>\n",
       "\t<tr><th scope=row>CI6</th><td>1</td><td>0</td></tr>\n",
       "\t<tr><th scope=row>CI7</th><td>0</td><td>1</td></tr>\n",
       "\t<tr><th scope=row>CI8</th><td>1</td><td>0</td></tr>\n",
       "\t<tr><th scope=row>CI9</th><td>1</td><td>0</td></tr>\n",
       "</tbody>\n",
       "</table>\n"
      ],
      "text/latex": [
       "A matrix: 43 x 2 of type dbl\n",
       "\\begin{tabular}{r|ll}\n",
       "  & subtype2 & subtype1\\\\\n",
       "\\hline\n",
       "\tCI10 & 0 & 1\\\\\n",
       "\tCI11 & 0 & 1\\\\\n",
       "\tCI12 & 0 & 1\\\\\n",
       "\tCI13 & 0 & 1\\\\\n",
       "\tCI14 & 1 & 0\\\\\n",
       "\tCI15 & 1 & 0\\\\\n",
       "\tCI16 & 0 & 1\\\\\n",
       "\tCI17 & 0 & 1\\\\\n",
       "\tCI18 & 0 & 1\\\\\n",
       "\tCI19 & 0 & 1\\\\\n",
       "\tCI20 & 1 & 0\\\\\n",
       "\tCI21 & 0 & 1\\\\\n",
       "\tCI22 & 0 & 1\\\\\n",
       "\tCI23 & 0 & 1\\\\\n",
       "\tCI24 & 0 & 1\\\\\n",
       "\tCI25 & 1 & 0\\\\\n",
       "\tCI26 & 0 & 1\\\\\n",
       "\tCI27 & 1 & 0\\\\\n",
       "\tCI28 & 0 & 1\\\\\n",
       "\tCI29 & 0 & 1\\\\\n",
       "\tCI2 & 0 & 1\\\\\n",
       "\tCI30 & 0 & 1\\\\\n",
       "\tCI31 & 0 & 1\\\\\n",
       "\tCI32 & 0 & 1\\\\\n",
       "\tCI33 & 1 & 0\\\\\n",
       "\tCI34 & 0 & 1\\\\\n",
       "\tCI35 & 1 & 0\\\\\n",
       "\tCI36 & 0 & 1\\\\\n",
       "\tCI37 & 0 & 1\\\\\n",
       "\tCI38 & 0 & 1\\\\\n",
       "\tCI39 & 0 & 1\\\\\n",
       "\tCI3 & 0 & 1\\\\\n",
       "\tCI40 & 0 & 1\\\\\n",
       "\tCI41 & 0 & 1\\\\\n",
       "\tCI42 & 1 & 0\\\\\n",
       "\tCI43 & 0 & 1\\\\\n",
       "\tCI44 & 0 & 1\\\\\n",
       "\tCI4 & 0 & 1\\\\\n",
       "\tCI5 & 0 & 1\\\\\n",
       "\tCI6 & 1 & 0\\\\\n",
       "\tCI7 & 0 & 1\\\\\n",
       "\tCI8 & 1 & 0\\\\\n",
       "\tCI9 & 1 & 0\\\\\n",
       "\\end{tabular}\n"
      ],
      "text/markdown": [
       "\n",
       "A matrix: 43 x 2 of type dbl\n",
       "\n",
       "| <!--/--> | subtype2 | subtype1 |\n",
       "|---|---|---|\n",
       "| CI10 | 0 | 1 |\n",
       "| CI11 | 0 | 1 |\n",
       "| CI12 | 0 | 1 |\n",
       "| CI13 | 0 | 1 |\n",
       "| CI14 | 1 | 0 |\n",
       "| CI15 | 1 | 0 |\n",
       "| CI16 | 0 | 1 |\n",
       "| CI17 | 0 | 1 |\n",
       "| CI18 | 0 | 1 |\n",
       "| CI19 | 0 | 1 |\n",
       "| CI20 | 1 | 0 |\n",
       "| CI21 | 0 | 1 |\n",
       "| CI22 | 0 | 1 |\n",
       "| CI23 | 0 | 1 |\n",
       "| CI24 | 0 | 1 |\n",
       "| CI25 | 1 | 0 |\n",
       "| CI26 | 0 | 1 |\n",
       "| CI27 | 1 | 0 |\n",
       "| CI28 | 0 | 1 |\n",
       "| CI29 | 0 | 1 |\n",
       "| CI2 | 0 | 1 |\n",
       "| CI30 | 0 | 1 |\n",
       "| CI31 | 0 | 1 |\n",
       "| CI32 | 0 | 1 |\n",
       "| CI33 | 1 | 0 |\n",
       "| CI34 | 0 | 1 |\n",
       "| CI35 | 1 | 0 |\n",
       "| CI36 | 0 | 1 |\n",
       "| CI37 | 0 | 1 |\n",
       "| CI38 | 0 | 1 |\n",
       "| CI39 | 0 | 1 |\n",
       "| CI3 | 0 | 1 |\n",
       "| CI40 | 0 | 1 |\n",
       "| CI41 | 0 | 1 |\n",
       "| CI42 | 1 | 0 |\n",
       "| CI43 | 0 | 1 |\n",
       "| CI44 | 0 | 1 |\n",
       "| CI4 | 0 | 1 |\n",
       "| CI5 | 0 | 1 |\n",
       "| CI6 | 1 | 0 |\n",
       "| CI7 | 0 | 1 |\n",
       "| CI8 | 1 | 0 |\n",
       "| CI9 | 1 | 0 |\n",
       "\n"
      ],
      "text/plain": [
       "     subtype2 subtype1\n",
       "CI10 0        1       \n",
       "CI11 0        1       \n",
       "CI12 0        1       \n",
       "CI13 0        1       \n",
       "CI14 1        0       \n",
       "CI15 1        0       \n",
       "CI16 0        1       \n",
       "CI17 0        1       \n",
       "CI18 0        1       \n",
       "CI19 0        1       \n",
       "CI20 1        0       \n",
       "CI21 0        1       \n",
       "CI22 0        1       \n",
       "CI23 0        1       \n",
       "CI24 0        1       \n",
       "CI25 1        0       \n",
       "CI26 0        1       \n",
       "CI27 1        0       \n",
       "CI28 0        1       \n",
       "CI29 0        1       \n",
       "CI2  0        1       \n",
       "CI30 0        1       \n",
       "CI31 0        1       \n",
       "CI32 0        1       \n",
       "CI33 1        0       \n",
       "CI34 0        1       \n",
       "CI35 1        0       \n",
       "CI36 0        1       \n",
       "CI37 0        1       \n",
       "CI38 0        1       \n",
       "CI39 0        1       \n",
       "CI3  0        1       \n",
       "CI40 0        1       \n",
       "CI41 0        1       \n",
       "CI42 1        0       \n",
       "CI43 0        1       \n",
       "CI44 0        1       \n",
       "CI4  0        1       \n",
       "CI5  0        1       \n",
       "CI6  1        0       \n",
       "CI7  0        1       \n",
       "CI8  1        0       \n",
       "CI9  1        0       "
      ]
     },
     "metadata": {},
     "output_type": "display_data"
    }
   ],
   "source": [
    "\n",
    "colnames(design) = levels(factor(group))\n",
    "rownames(design) = colnames(GSVA_hall)\n",
    "design\n",
    "# Tunor VS Normal\n",
    "compare <- makeContrasts('subtype2 - subtype1', levels=design)\n",
    "fit <- lmFit(GSVA_hall, design)\n",
    "fit2 <- contrasts.fit(fit, compare)\n",
    "fit3 <- eBayes(fit2)\n",
    "Diff <- topTable(fit3, coef=1, number=Inf)\n"
   ]
  },
  {
   "cell_type": "code",
   "execution_count": 51,
   "id": "34abef20-2ccd-4f87-9cc4-4a19a1dee388",
   "metadata": {},
   "outputs": [
    {
     "data": {
      "text/html": [
       "<style>\n",
       ".list-inline {list-style: none; margin:0; padding: 0}\n",
       ".list-inline>li {display: inline-block}\n",
       ".list-inline>li:not(:last-child)::after {content: \"\\00b7\"; padding: 0 .5ex}\n",
       "</style>\n",
       "<ol class=list-inline><li>191</li><li>6</li></ol>\n"
      ],
      "text/latex": [
       "\\begin{enumerate*}\n",
       "\\item 191\n",
       "\\item 6\n",
       "\\end{enumerate*}\n"
      ],
      "text/markdown": [
       "1. 191\n",
       "2. 6\n",
       "\n",
       "\n"
      ],
      "text/plain": [
       "[1] 191   6"
      ]
     },
     "metadata": {},
     "output_type": "display_data"
    }
   ],
   "source": [
    "  Diff %>% dplyr::filter(P.Value < 0.05 & logFC > 0) %>%   dim()"
   ]
  },
  {
   "cell_type": "code",
   "execution_count": 52,
   "id": "85ddc6b2-e956-4da4-908e-9e9fd76fbcf6",
   "metadata": {},
   "outputs": [
    {
     "data": {
      "text/html": [
       "<style>\n",
       ".list-inline {list-style: none; margin:0; padding: 0}\n",
       ".list-inline>li {display: inline-block}\n",
       ".list-inline>li:not(:last-child)::after {content: \"\\00b7\"; padding: 0 .5ex}\n",
       "</style>\n",
       "<ol class=list-inline><li>758</li><li>6</li></ol>\n"
      ],
      "text/latex": [
       "\\begin{enumerate*}\n",
       "\\item 758\n",
       "\\item 6\n",
       "\\end{enumerate*}\n"
      ],
      "text/markdown": [
       "1. 758\n",
       "2. 6\n",
       "\n",
       "\n"
      ],
      "text/plain": [
       "[1] 758   6"
      ]
     },
     "metadata": {},
     "output_type": "display_data"
    }
   ],
   "source": [
    "  Diff %>% dplyr::filter(P.Value < 0.05 & logFC  <0) %>%   dim()"
   ]
  },
  {
   "cell_type": "code",
   "execution_count": null,
   "id": "6d4a74b2-a7b5-4044-951f-e14f91bd2cde",
   "metadata": {},
   "outputs": [],
   "source": []
  },
  {
   "cell_type": "code",
   "execution_count": 33,
   "id": "1abb85b7-a235-4914-9aea-01d08eb20e57",
   "metadata": {},
   "outputs": [],
   "source": [
    "Diff = Diff %>%  dplyr::filter(abs(logFC) >0.4)"
   ]
  },
  {
   "cell_type": "code",
   "execution_count": null,
   "id": "59a93051-171d-4afc-9892-825bf7c1acb0",
   "metadata": {},
   "outputs": [],
   "source": []
  },
  {
   "cell_type": "code",
   "execution_count": null,
   "id": "0ceea290-4119-4906-b4da-40865940e550",
   "metadata": {},
   "outputs": [],
   "source": []
  },
  {
   "cell_type": "code",
   "execution_count": 35,
   "id": "eb64f246-1ace-4c1c-8b6e-423dfefc9a15",
   "metadata": {},
   "outputs": [],
   "source": [
    "## barplot\n",
    "dat_plot <- data.frame(id = row.names(Diff),\n",
    "                       t = Diff$t)\n",
    "# 去掉\"HALLMARK_\"\n",
    "library(stringr)"
   ]
  },
  {
   "cell_type": "code",
   "execution_count": 36,
   "id": "91e38263-b4bb-44df-8401-def884287154",
   "metadata": {
    "scrolled": true
   },
   "outputs": [],
   "source": [
    "library(ggplot2)\n",
    "library(ggprism)"
   ]
  },
  {
   "cell_type": "code",
   "execution_count": 41,
   "id": "8e7fc063-1a2f-4fa4-8b45-9da3aa2f2a6b",
   "metadata": {},
   "outputs": [
    {
     "data": {
      "text/html": [
       "<style>\n",
       ".list-inline {list-style: none; margin:0; padding: 0}\n",
       ".list-inline>li {display: inline-block}\n",
       ".list-inline>li:not(:last-child)::after {content: \"\\00b7\"; padding: 0 .5ex}\n",
       "</style>\n",
       "<ol class=list-inline><li>'GOBP_POSITIVE_REGULATION_OF_CAMP_DEPENDENT_PROTEIN_KINASE_ACTIVITY'</li><li>'GOBP_MICROGLIAL_CELL_PROLIFERATION'</li><li>'GOBP_NITRIC_OXIDE_TRANSPORT'</li><li>'GOBP_NEGATIVE_REGULATION_OF_PLATELET_AGGREGATION'</li><li>'GOBP_EPOXIDE_METABOLIC_PROCESS'</li><li>'GOBP_NEGATIVE_REGULATION_OF_HOMOTYPIC_CELL_CELL_ADHESION'</li><li>'GOBP_PEPTIDYL_LYSINE_OXIDATION'</li><li>'GOBP_NEGATIVE_REGULATION_OF_BROWN_FAT_CELL_DIFFERENTIATION'</li><li>'GOBP_FC_RECEPTOR_MEDIATED_INHIBITORY_SIGNALING_PATHWAY'</li><li>'GOBP_REGULATION_OF_MEMBRANE_REPOLARIZATION_DURING_VENTRICULAR_CARDIAC_MUSCLE_CELL_ACTION_POTENTIAL'</li></ol>\n"
      ],
      "text/latex": [
       "\\begin{enumerate*}\n",
       "\\item 'GOBP\\_POSITIVE\\_REGULATION\\_OF\\_CAMP\\_DEPENDENT\\_PROTEIN\\_KINASE\\_ACTIVITY'\n",
       "\\item 'GOBP\\_MICROGLIAL\\_CELL\\_PROLIFERATION'\n",
       "\\item 'GOBP\\_NITRIC\\_OXIDE\\_TRANSPORT'\n",
       "\\item 'GOBP\\_NEGATIVE\\_REGULATION\\_OF\\_PLATELET\\_AGGREGATION'\n",
       "\\item 'GOBP\\_EPOXIDE\\_METABOLIC\\_PROCESS'\n",
       "\\item 'GOBP\\_NEGATIVE\\_REGULATION\\_OF\\_HOMOTYPIC\\_CELL\\_CELL\\_ADHESION'\n",
       "\\item 'GOBP\\_PEPTIDYL\\_LYSINE\\_OXIDATION'\n",
       "\\item 'GOBP\\_NEGATIVE\\_REGULATION\\_OF\\_BROWN\\_FAT\\_CELL\\_DIFFERENTIATION'\n",
       "\\item 'GOBP\\_FC\\_RECEPTOR\\_MEDIATED\\_INHIBITORY\\_SIGNALING\\_PATHWAY'\n",
       "\\item 'GOBP\\_REGULATION\\_OF\\_MEMBRANE\\_REPOLARIZATION\\_DURING\\_VENTRICULAR\\_CARDIAC\\_MUSCLE\\_CELL\\_ACTION\\_POTENTIAL'\n",
       "\\end{enumerate*}\n"
      ],
      "text/markdown": [
       "1. 'GOBP_POSITIVE_REGULATION_OF_CAMP_DEPENDENT_PROTEIN_KINASE_ACTIVITY'\n",
       "2. 'GOBP_MICROGLIAL_CELL_PROLIFERATION'\n",
       "3. 'GOBP_NITRIC_OXIDE_TRANSPORT'\n",
       "4. 'GOBP_NEGATIVE_REGULATION_OF_PLATELET_AGGREGATION'\n",
       "5. 'GOBP_EPOXIDE_METABOLIC_PROCESS'\n",
       "6. 'GOBP_NEGATIVE_REGULATION_OF_HOMOTYPIC_CELL_CELL_ADHESION'\n",
       "7. 'GOBP_PEPTIDYL_LYSINE_OXIDATION'\n",
       "8. 'GOBP_NEGATIVE_REGULATION_OF_BROWN_FAT_CELL_DIFFERENTIATION'\n",
       "9. 'GOBP_FC_RECEPTOR_MEDIATED_INHIBITORY_SIGNALING_PATHWAY'\n",
       "10. 'GOBP_REGULATION_OF_MEMBRANE_REPOLARIZATION_DURING_VENTRICULAR_CARDIAC_MUSCLE_CELL_ACTION_POTENTIAL'\n",
       "\n",
       "\n"
      ],
      "text/plain": [
       " [1] \"GOBP_POSITIVE_REGULATION_OF_CAMP_DEPENDENT_PROTEIN_KINASE_ACTIVITY\"                                \n",
       " [2] \"GOBP_MICROGLIAL_CELL_PROLIFERATION\"                                                                \n",
       " [3] \"GOBP_NITRIC_OXIDE_TRANSPORT\"                                                                       \n",
       " [4] \"GOBP_NEGATIVE_REGULATION_OF_PLATELET_AGGREGATION\"                                                  \n",
       " [5] \"GOBP_EPOXIDE_METABOLIC_PROCESS\"                                                                    \n",
       " [6] \"GOBP_NEGATIVE_REGULATION_OF_HOMOTYPIC_CELL_CELL_ADHESION\"                                          \n",
       " [7] \"GOBP_PEPTIDYL_LYSINE_OXIDATION\"                                                                    \n",
       " [8] \"GOBP_NEGATIVE_REGULATION_OF_BROWN_FAT_CELL_DIFFERENTIATION\"                                        \n",
       " [9] \"GOBP_FC_RECEPTOR_MEDIATED_INHIBITORY_SIGNALING_PATHWAY\"                                            \n",
       "[10] \"GOBP_REGULATION_OF_MEMBRANE_REPOLARIZATION_DURING_VENTRICULAR_CARDIAC_MUSCLE_CELL_ACTION_POTENTIAL\""
      ]
     },
     "metadata": {},
     "output_type": "display_data"
    },
    {
     "data": {
      "text/html": [
       "<style>\n",
       ".list-inline {list-style: none; margin:0; padding: 0}\n",
       ".list-inline>li {display: inline-block}\n",
       ".list-inline>li:not(:last-child)::after {content: \"\\00b7\"; padding: 0 .5ex}\n",
       "</style>\n",
       "<ol class=list-inline><li>'POSITIVE_REGULATION_OF_CAMP_DEPENDENT_PROTEIN_KINASE_ACTIVITY'</li><li>'MICROGLIAL_CELL_PROLIFERATION'</li><li>'NITRIC_OXIDE_TRANSPORT'</li><li>'NEGATIVE_REGULATION_OF_PLATELET_AGGREGATION'</li><li>'EPOXIDE_METABOLIC_PROCESS'</li><li>'NEGATIVE_REGULATION_OF_HOMOTYPIC_CELL_CELL_ADHESION'</li><li>'PEPTIDYL_LYSINE_OXIDATION'</li><li>'NEGATIVE_REGULATION_OF_BROWN_FAT_CELL_DIFFERENTIATION'</li><li>'FC_RECEPTOR_MEDIATED_INHIBITORY_SIGNALING_PATHWAY'</li><li>'REGULATION_OF_MEMBRANE_REPOLARIZATION_DURING_VENTRICULAR_CARDIAC_MUSCLE_CELL_ACTION_POTENTIAL'</li></ol>\n"
      ],
      "text/latex": [
       "\\begin{enumerate*}\n",
       "\\item 'POSITIVE\\_REGULATION\\_OF\\_CAMP\\_DEPENDENT\\_PROTEIN\\_KINASE\\_ACTIVITY'\n",
       "\\item 'MICROGLIAL\\_CELL\\_PROLIFERATION'\n",
       "\\item 'NITRIC\\_OXIDE\\_TRANSPORT'\n",
       "\\item 'NEGATIVE\\_REGULATION\\_OF\\_PLATELET\\_AGGREGATION'\n",
       "\\item 'EPOXIDE\\_METABOLIC\\_PROCESS'\n",
       "\\item 'NEGATIVE\\_REGULATION\\_OF\\_HOMOTYPIC\\_CELL\\_CELL\\_ADHESION'\n",
       "\\item 'PEPTIDYL\\_LYSINE\\_OXIDATION'\n",
       "\\item 'NEGATIVE\\_REGULATION\\_OF\\_BROWN\\_FAT\\_CELL\\_DIFFERENTIATION'\n",
       "\\item 'FC\\_RECEPTOR\\_MEDIATED\\_INHIBITORY\\_SIGNALING\\_PATHWAY'\n",
       "\\item 'REGULATION\\_OF\\_MEMBRANE\\_REPOLARIZATION\\_DURING\\_VENTRICULAR\\_CARDIAC\\_MUSCLE\\_CELL\\_ACTION\\_POTENTIAL'\n",
       "\\end{enumerate*}\n"
      ],
      "text/markdown": [
       "1. 'POSITIVE_REGULATION_OF_CAMP_DEPENDENT_PROTEIN_KINASE_ACTIVITY'\n",
       "2. 'MICROGLIAL_CELL_PROLIFERATION'\n",
       "3. 'NITRIC_OXIDE_TRANSPORT'\n",
       "4. 'NEGATIVE_REGULATION_OF_PLATELET_AGGREGATION'\n",
       "5. 'EPOXIDE_METABOLIC_PROCESS'\n",
       "6. 'NEGATIVE_REGULATION_OF_HOMOTYPIC_CELL_CELL_ADHESION'\n",
       "7. 'PEPTIDYL_LYSINE_OXIDATION'\n",
       "8. 'NEGATIVE_REGULATION_OF_BROWN_FAT_CELL_DIFFERENTIATION'\n",
       "9. 'FC_RECEPTOR_MEDIATED_INHIBITORY_SIGNALING_PATHWAY'\n",
       "10. 'REGULATION_OF_MEMBRANE_REPOLARIZATION_DURING_VENTRICULAR_CARDIAC_MUSCLE_CELL_ACTION_POTENTIAL'\n",
       "\n",
       "\n"
      ],
      "text/plain": [
       " [1] \"POSITIVE_REGULATION_OF_CAMP_DEPENDENT_PROTEIN_KINASE_ACTIVITY\"                                \n",
       " [2] \"MICROGLIAL_CELL_PROLIFERATION\"                                                                \n",
       " [3] \"NITRIC_OXIDE_TRANSPORT\"                                                                       \n",
       " [4] \"NEGATIVE_REGULATION_OF_PLATELET_AGGREGATION\"                                                  \n",
       " [5] \"EPOXIDE_METABOLIC_PROCESS\"                                                                    \n",
       " [6] \"NEGATIVE_REGULATION_OF_HOMOTYPIC_CELL_CELL_ADHESION\"                                          \n",
       " [7] \"PEPTIDYL_LYSINE_OXIDATION\"                                                                    \n",
       " [8] \"NEGATIVE_REGULATION_OF_BROWN_FAT_CELL_DIFFERENTIATION\"                                        \n",
       " [9] \"FC_RECEPTOR_MEDIATED_INHIBITORY_SIGNALING_PATHWAY\"                                            \n",
       "[10] \"REGULATION_OF_MEMBRANE_REPOLARIZATION_DURING_VENTRICULAR_CARDIAC_MUSCLE_CELL_ACTION_POTENTIAL\""
      ]
     },
     "metadata": {},
     "output_type": "display_data"
    },
    {
     "data": {
      "text/plain": [
       "\n",
       "  Up Down  Not \n",
       "   2   10    0 "
      ]
     },
     "metadata": {},
     "output_type": "display_data"
    },
    {
     "name": "stderr",
     "output_type": "stream",
     "text": [
      "Warning message in plot_theme(plot):\n",
      "\"\u001b[1m\u001b[22mThe `legend.text.align` theme element is not defined in the element hierarchy.\"\n",
      "Warning message in plot_theme(plot):\n",
      "\"\u001b[1m\u001b[22mThe `legend.title.align` theme element is not defined in the element hierarchy.\"\n"
     ]
    },
    {
     "data": {
      "image/png": "[encoded data removed]",
      "text/plain": [
       "plot without title"
      ]
     },
     "metadata": {
      "image/png": {
       "height": 420,
       "width": 600
      }
     },
     "output_type": "display_data"
    }
   ],
   "source": [
    "dat_plot <- data.frame(id  = row.names(Diff),\n",
    "                       p   = Diff$P.Value,\n",
    "                       lgfc= Diff$logFC)\n",
    "dat_plot$group <- ifelse(dat_plot$lgfc>0 ,1,-1)    # 将上调设为组1，下调设为组-1\n",
    "dat_plot$lg_p <- -log10(dat_plot$p)*dat_plot$group # 将上调-log10p设置为正，下调-log10p设置为负\n",
    "\n",
    "# 去掉多余文字\n",
    "dat_plot$id[1:10]\n",
    "dat_plot$id <- str_replace(dat_plot$id, \"GOBP_\",\"\");dat_plot$id[1:10]\n",
    "\n",
    "# 根据阈值分类\n",
    "p_cutoff=0.05\n",
    "dat_plot$threshold <- factor(ifelse(abs(dat_plot$p) <= p_cutoff,\n",
    "                                   ifelse(dat_plot$lgfc >0 ,'Up','Down'),'Not'),\n",
    "                            levels=c('Up','Down','Not'))\n",
    "table(dat_plot$threshold)\n",
    "\n",
    "# 根据p从小到大排序\n",
    "dat_plot <- dat_plot %>% arrange(lg_p)\n",
    "# id变成因子类型\n",
    "dat_plot$id <- factor(dat_plot$id,levels = dat_plot$id)\n",
    "# 绘制条形图\n",
    "p <- ggplot(data = dat_plot,aes(x = id, y = lg_p, \n",
    "                                fill = threshold)) +\n",
    "  geom_col()+\n",
    "  coord_flip() + #坐标轴旋转\n",
    "  scale_fill_manual(values = c('Up'= '#36638a','Not'='#cccccc','Down'='#7bcd7b')) +\n",
    "  geom_hline(yintercept = c(-log10(p_cutoff),log10(p_cutoff)),color = 'white',size = 0.5,lty='dashed') +\n",
    "  xlab('') + \n",
    "  ylab('-log10(P.Value) of GSVA score') +\n",
    "  guides(fill=\"none\")+ # 不显示图例\n",
    "  theme_prism(border = T) +\n",
    "  theme(\n",
    "    plot.margin=unit(c(2,2,2,2),'lines'),#图片四周上右下左间距\n",
    "    axis.text.y = element_blank(),\n",
    "    axis.ticks.y = element_blank()\n",
    "  )\n",
    "p"
   ]
  },
  {
   "cell_type": "code",
   "execution_count": 42,
   "id": "c65a6e15-b56b-4363-9d04-ea9b9b2c1564",
   "metadata": {},
   "outputs": [
    {
     "data": {
      "text/html": [
       "10"
      ],
      "text/latex": [
       "10"
      ],
      "text/markdown": [
       "10"
      ],
      "text/plain": [
       "[1] 10"
      ]
     },
     "metadata": {},
     "output_type": "display_data"
    },
    {
     "data": {
      "text/html": [
       "12"
      ],
      "text/latex": [
       "12"
      ],
      "text/markdown": [
       "12"
      ],
      "text/plain": [
       "[1] 12"
      ]
     },
     "metadata": {},
     "output_type": "display_data"
    }
   ],
   "source": [
    "low0 <- dat_plot %>% filter(lg_p < log10(p_cutoff)) %>% nrow()\n",
    "# 小于0总数量\n",
    "low1 <- dat_plot %>% filter(lg_p < 0) %>% nrow(); \n",
    "# 小于cutoff总数量\n",
    "high0 <- dat_plot %>% filter(lg_p < -log10(p_cutoff)) %>% nrow(); high0 \n",
    "# 总数量\n",
    "high1 <- nrow(dat_plot); high1 "
   ]
  },
  {
   "cell_type": "code",
   "execution_count": 43,
   "id": "a5a01cef-15c2-46ba-a5d2-ca738558cdf9",
   "metadata": {},
   "outputs": [],
   "source": [
    "options(repr.plot.height = 7,repr.plot.width = 10)"
   ]
  },
  {
   "cell_type": "code",
   "execution_count": 44,
   "id": "ac69ccd5-2259-4fee-9dec-2edf3976127b",
   "metadata": {},
   "outputs": [
    {
     "name": "stderr",
     "output_type": "stream",
     "text": [
      "Warning message in plot_theme(plot):\n",
      "\"\u001b[1m\u001b[22mThe `legend.text.align` theme element is not defined in the element hierarchy.\"\n",
      "Warning message in plot_theme(plot):\n",
      "\"\u001b[1m\u001b[22mThe `legend.title.align` theme element is not defined in the element hierarchy.\"\n"
     ]
    },
    {
     "data": {
      "image/png": "[encoded data removed]",
      "text/plain": [
       "plot without title"
      ]
     },
     "metadata": {
      "image/png": {
       "height": 420,
       "width": 600
      }
     },
     "output_type": "display_data"
    }
   ],
   "source": [
    "\n",
    "\n",
    "# 依次从下到上添加标签\n",
    "p1 <- p + geom_text(data = dat_plot[1:low1,],aes(x = id,y = 0.1,label = id),\n",
    "                   hjust = 0,color = 'black') + # 小于-cutoff的为黑色标签\n",
    "\n",
    "  geom_text(data = dat_plot[(low1 +1):high1,],aes(x = id,y = -0.1,label = id),\n",
    "            hjust = 1,color = 'black') # 大于cutoff的为黑色标签\n",
    "p1"
   ]
  },
  {
   "cell_type": "code",
   "execution_count": null,
   "id": "36ab549a-c2e0-45a6-a2a5-ece4f1355f25",
   "metadata": {},
   "outputs": [],
   "source": []
  },
  {
   "cell_type": "code",
   "execution_count": null,
   "id": "11bb135d-82a5-4e0c-a6c4-bf786020fcdd",
   "metadata": {},
   "outputs": [],
   "source": []
  }
 ],
 "metadata": {
  "kernelspec": {
   "display_name": "R",
   "language": "R",
   "name": "ir"
  },
  "language_info": {
   "codemirror_mode": "r",
   "file_extension": ".r",
   "mimetype": "text/x-r-source",
   "name": "R",
   "pygments_lexer": "r",
   "version": "4.2.1"
  }
 },
 "nbformat": 4,
 "nbformat_minor": 5
}
