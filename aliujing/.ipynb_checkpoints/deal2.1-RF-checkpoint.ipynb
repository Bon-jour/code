{
 "cells": [
  {
   "cell_type": "code",
   "execution_count": 1,
   "id": "4803cf30-6f2e-42bc-a83c-bfcb4dd2fc29",
   "metadata": {},
   "outputs": [],
   "source": [
    "setwd('/import/liujing/data2/')"
   ]
  },
  {
   "cell_type": "code",
   "execution_count": null,
   "id": "42f63fb3-7aea-4de0-9964-4cfc95829987",
   "metadata": {},
   "outputs": [],
   "source": []
  },
  {
   "cell_type": "code",
   "execution_count": 2,
   "id": "fc1a0f5d-bdd8-47eb-b6ad-7a7b61dd0fb9",
   "metadata": {},
   "outputs": [
    {
     "name": "stderr",
     "output_type": "stream",
     "text": [
      "Warning message:\n",
      "\"package 'openxlsx' was built under R version 4.2.3\"\n",
      "\n",
      "Attaching package: 'dplyr'\n",
      "\n",
      "\n",
      "The following objects are masked from 'package:stats':\n",
      "\n",
      "    filter, lag\n",
      "\n",
      "\n",
      "The following objects are masked from 'package:base':\n",
      "\n",
      "    intersect, setdiff, setequal, union\n",
      "\n",
      "\n"
     ]
    },
    {
     "data": {
      "text/html": [
       "<table class=\"dataframe\">\n",
       "<caption>A data.frame: 2 x 75</caption>\n",
       "<thead>\n",
       "\t<tr><th></th><th scope=col>Gene_name</th><th scope=col>C10</th><th scope=col>C11</th><th scope=col>C12</th><th scope=col>C13</th><th scope=col>C14</th><th scope=col>C15</th><th scope=col>C16</th><th scope=col>C17</th><th scope=col>C18</th><th scope=col>...</th><th scope=col>CI41</th><th scope=col>CI42</th><th scope=col>CI43</th><th scope=col>CI44</th><th scope=col>CI4</th><th scope=col>CI5</th><th scope=col>CI6</th><th scope=col>CI7</th><th scope=col>CI8</th><th scope=col>CI9</th></tr>\n",
       "\t<tr><th></th><th scope=col>&lt;chr&gt;</th><th scope=col>&lt;dbl&gt;</th><th scope=col>&lt;dbl&gt;</th><th scope=col>&lt;dbl&gt;</th><th scope=col>&lt;dbl&gt;</th><th scope=col>&lt;dbl&gt;</th><th scope=col>&lt;dbl&gt;</th><th scope=col>&lt;dbl&gt;</th><th scope=col>&lt;dbl&gt;</th><th scope=col>&lt;dbl&gt;</th><th scope=col>...</th><th scope=col>&lt;dbl&gt;</th><th scope=col>&lt;dbl&gt;</th><th scope=col>&lt;dbl&gt;</th><th scope=col>&lt;dbl&gt;</th><th scope=col>&lt;dbl&gt;</th><th scope=col>&lt;dbl&gt;</th><th scope=col>&lt;dbl&gt;</th><th scope=col>&lt;dbl&gt;</th><th scope=col>&lt;dbl&gt;</th><th scope=col>&lt;dbl&gt;</th></tr>\n",
       "</thead>\n",
       "<tbody>\n",
       "\t<tr><th scope=row>1</th><td>ZZZ3 </td><td> 9.694104</td><td> 8.204165</td><td> 9.569441</td><td> 6.659882</td><td> 5.449594</td><td> 8.611691</td><td> 6.886018</td><td> 5.389103</td><td> 5.336686</td><td>...</td><td>14.880933</td><td> 8.037799</td><td> 5.667441</td><td>11.80003</td><td> 6.659176</td><td> 5.785232</td><td> 8.749977</td><td>11.03076</td><td> 8.004704</td><td>10.07247</td></tr>\n",
       "\t<tr><th scope=row>2</th><td>ZZEF1</td><td>18.515927</td><td>18.296195</td><td>19.053030</td><td>18.403302</td><td>19.992571</td><td>18.649972</td><td>19.680564</td><td>20.438019</td><td>19.539639</td><td>...</td><td> 8.751292</td><td>17.115120</td><td>16.585566</td><td>16.60637</td><td>18.344102</td><td>21.665904</td><td>21.333761</td><td>20.21582</td><td>17.918223</td><td>13.92859</td></tr>\n",
       "</tbody>\n",
       "</table>\n"
      ],
      "text/latex": [
       "A data.frame: 2 x 75\n",
       "\\begin{tabular}{r|lllllllllllllllllllll}\n",
       "  & Gene\\_name & C10 & C11 & C12 & C13 & C14 & C15 & C16 & C17 & C18 & ... & CI41 & CI42 & CI43 & CI44 & CI4 & CI5 & CI6 & CI7 & CI8 & CI9\\\\\n",
       "  & <chr> & <dbl> & <dbl> & <dbl> & <dbl> & <dbl> & <dbl> & <dbl> & <dbl> & <dbl> & ... & <dbl> & <dbl> & <dbl> & <dbl> & <dbl> & <dbl> & <dbl> & <dbl> & <dbl> & <dbl>\\\\\n",
       "\\hline\n",
       "\t1 & ZZZ3  &  9.694104 &  8.204165 &  9.569441 &  6.659882 &  5.449594 &  8.611691 &  6.886018 &  5.389103 &  5.336686 & ... & 14.880933 &  8.037799 &  5.667441 & 11.80003 &  6.659176 &  5.785232 &  8.749977 & 11.03076 &  8.004704 & 10.07247\\\\\n",
       "\t2 & ZZEF1 & 18.515927 & 18.296195 & 19.053030 & 18.403302 & 19.992571 & 18.649972 & 19.680564 & 20.438019 & 19.539639 & ... &  8.751292 & 17.115120 & 16.585566 & 16.60637 & 18.344102 & 21.665904 & 21.333761 & 20.21582 & 17.918223 & 13.92859\\\\\n",
       "\\end{tabular}\n"
      ],
      "text/markdown": [
       "\n",
       "A data.frame: 2 x 75\n",
       "\n",
       "| <!--/--> | Gene_name &lt;chr&gt; | C10 &lt;dbl&gt; | C11 &lt;dbl&gt; | C12 &lt;dbl&gt; | C13 &lt;dbl&gt; | C14 &lt;dbl&gt; | C15 &lt;dbl&gt; | C16 &lt;dbl&gt; | C17 &lt;dbl&gt; | C18 &lt;dbl&gt; | ... ... | CI41 &lt;dbl&gt; | CI42 &lt;dbl&gt; | CI43 &lt;dbl&gt; | CI44 &lt;dbl&gt; | CI4 &lt;dbl&gt; | CI5 &lt;dbl&gt; | CI6 &lt;dbl&gt; | CI7 &lt;dbl&gt; | CI8 &lt;dbl&gt; | CI9 &lt;dbl&gt; |\n",
       "|---|---|---|---|---|---|---|---|---|---|---|---|---|---|---|---|---|---|---|---|---|---|\n",
       "| 1 | ZZZ3  |  9.694104 |  8.204165 |  9.569441 |  6.659882 |  5.449594 |  8.611691 |  6.886018 |  5.389103 |  5.336686 | ... | 14.880933 |  8.037799 |  5.667441 | 11.80003 |  6.659176 |  5.785232 |  8.749977 | 11.03076 |  8.004704 | 10.07247 |\n",
       "| 2 | ZZEF1 | 18.515927 | 18.296195 | 19.053030 | 18.403302 | 19.992571 | 18.649972 | 19.680564 | 20.438019 | 19.539639 | ... |  8.751292 | 17.115120 | 16.585566 | 16.60637 | 18.344102 | 21.665904 | 21.333761 | 20.21582 | 17.918223 | 13.92859 |\n",
       "\n"
      ],
      "text/plain": [
       "  Gene_name C10       C11       C12       C13       C14       C15      \n",
       "1 ZZZ3       9.694104  8.204165  9.569441  6.659882  5.449594  8.611691\n",
       "2 ZZEF1     18.515927 18.296195 19.053030 18.403302 19.992571 18.649972\n",
       "  C16       C17       C18       ... CI41      CI42      CI43      CI44    \n",
       "1  6.886018  5.389103  5.336686 ... 14.880933  8.037799  5.667441 11.80003\n",
       "2 19.680564 20.438019 19.539639 ...  8.751292 17.115120 16.585566 16.60637\n",
       "  CI4       CI5       CI6       CI7      CI8       CI9     \n",
       "1  6.659176  5.785232  8.749977 11.03076  8.004704 10.07247\n",
       "2 18.344102 21.665904 21.333761 20.21582 17.918223 13.92859"
      ]
     },
     "metadata": {},
     "output_type": "display_data"
    },
    {
     "data": {
      "text/html": [
       "<style>\n",
       ".list-inline {list-style: none; margin:0; padding: 0}\n",
       ".list-inline>li {display: inline-block}\n",
       ".list-inline>li:not(:last-child)::after {content: \"\\00b7\"; padding: 0 .5ex}\n",
       "</style>\n",
       "<ol class=list-inline><li>'ZNF480'</li><li>'ZNF354A'</li><li>'ZNF208'</li><li>'ZBED5'</li><li>'XRCC4'</li><li>'VCL'</li><li>'TXN'</li><li>'TLN1'</li><li>'TFEC'</li><li>'TAF7'</li><li>'SYCP2'</li><li>'SUMO4'</li><li>'STON2'</li><li>'SPON2'</li><li>'SPOCD1'</li><li>'SH3TC2'</li><li>'SH2D2A'</li><li>'SCN9A'</li><li>'SAMD9'</li><li>'RPL34'</li><li>'RASD2'</li><li>'PTPRS'</li><li>'PRF1'</li><li>'POLR2K'</li><li>'PITPNM2'</li><li>'PILRB'</li><li>'PER1'</li><li>'PDGFA'</li><li>'PCDH1'</li><li>'OSBPL7'</li><li>'OSBPL5'</li><li>'NID1'</li><li>'NCR3'</li><li>'MLC1'</li><li>'MAP1A'</li><li>'LSM3'</li><li>'LPAR6'</li><li>'LMNA'</li><li>'KIR2DL1'</li><li>'KIFC3'</li><li>'IL2RB'</li><li>'IGJ'</li><li>'HCFC1'</li><li>'GPR56'</li><li>'GNLY'</li><li>'GAPT'</li><li>'FSD1'</li><li>'FOSB'</li><li>'FLNA'</li><li>'FAM200B'</li><li>'F2R'</li><li>'EVI2A'</li><li>'ERBB2'</li><li>'DUSP2'</li><li>'DDIT4'</li><li>'DAB2'</li><li>'CSTA'</li><li>'CLSTN1'</li><li>'CLEC2B'</li><li>'CARNS1'</li><li>'CACNA2D2'</li><li>'BZRAP1'</li><li>'BMP6'</li><li>'BCL2A1'</li><li>'BAI2'</li><li>'ATP1A3'</li><li>'ATG2A'</li><li>'ARVCF'</li><li>'ARHGAP6'</li></ol>\n"
      ],
      "text/latex": [
       "\\begin{enumerate*}\n",
       "\\item 'ZNF480'\n",
       "\\item 'ZNF354A'\n",
       "\\item 'ZNF208'\n",
       "\\item 'ZBED5'\n",
       "\\item 'XRCC4'\n",
       "\\item 'VCL'\n",
       "\\item 'TXN'\n",
       "\\item 'TLN1'\n",
       "\\item 'TFEC'\n",
       "\\item 'TAF7'\n",
       "\\item 'SYCP2'\n",
       "\\item 'SUMO4'\n",
       "\\item 'STON2'\n",
       "\\item 'SPON2'\n",
       "\\item 'SPOCD1'\n",
       "\\item 'SH3TC2'\n",
       "\\item 'SH2D2A'\n",
       "\\item 'SCN9A'\n",
       "\\item 'SAMD9'\n",
       "\\item 'RPL34'\n",
       "\\item 'RASD2'\n",
       "\\item 'PTPRS'\n",
       "\\item 'PRF1'\n",
       "\\item 'POLR2K'\n",
       "\\item 'PITPNM2'\n",
       "\\item 'PILRB'\n",
       "\\item 'PER1'\n",
       "\\item 'PDGFA'\n",
       "\\item 'PCDH1'\n",
       "\\item 'OSBPL7'\n",
       "\\item 'OSBPL5'\n",
       "\\item 'NID1'\n",
       "\\item 'NCR3'\n",
       "\\item 'MLC1'\n",
       "\\item 'MAP1A'\n",
       "\\item 'LSM3'\n",
       "\\item 'LPAR6'\n",
       "\\item 'LMNA'\n",
       "\\item 'KIR2DL1'\n",
       "\\item 'KIFC3'\n",
       "\\item 'IL2RB'\n",
       "\\item 'IGJ'\n",
       "\\item 'HCFC1'\n",
       "\\item 'GPR56'\n",
       "\\item 'GNLY'\n",
       "\\item 'GAPT'\n",
       "\\item 'FSD1'\n",
       "\\item 'FOSB'\n",
       "\\item 'FLNA'\n",
       "\\item 'FAM200B'\n",
       "\\item 'F2R'\n",
       "\\item 'EVI2A'\n",
       "\\item 'ERBB2'\n",
       "\\item 'DUSP2'\n",
       "\\item 'DDIT4'\n",
       "\\item 'DAB2'\n",
       "\\item 'CSTA'\n",
       "\\item 'CLSTN1'\n",
       "\\item 'CLEC2B'\n",
       "\\item 'CARNS1'\n",
       "\\item 'CACNA2D2'\n",
       "\\item 'BZRAP1'\n",
       "\\item 'BMP6'\n",
       "\\item 'BCL2A1'\n",
       "\\item 'BAI2'\n",
       "\\item 'ATP1A3'\n",
       "\\item 'ATG2A'\n",
       "\\item 'ARVCF'\n",
       "\\item 'ARHGAP6'\n",
       "\\end{enumerate*}\n"
      ],
      "text/markdown": [
       "1. 'ZNF480'\n",
       "2. 'ZNF354A'\n",
       "3. 'ZNF208'\n",
       "4. 'ZBED5'\n",
       "5. 'XRCC4'\n",
       "6. 'VCL'\n",
       "7. 'TXN'\n",
       "8. 'TLN1'\n",
       "9. 'TFEC'\n",
       "10. 'TAF7'\n",
       "11. 'SYCP2'\n",
       "12. 'SUMO4'\n",
       "13. 'STON2'\n",
       "14. 'SPON2'\n",
       "15. 'SPOCD1'\n",
       "16. 'SH3TC2'\n",
       "17. 'SH2D2A'\n",
       "18. 'SCN9A'\n",
       "19. 'SAMD9'\n",
       "20. 'RPL34'\n",
       "21. 'RASD2'\n",
       "22. 'PTPRS'\n",
       "23. 'PRF1'\n",
       "24. 'POLR2K'\n",
       "25. 'PITPNM2'\n",
       "26. 'PILRB'\n",
       "27. 'PER1'\n",
       "28. 'PDGFA'\n",
       "29. 'PCDH1'\n",
       "30. 'OSBPL7'\n",
       "31. 'OSBPL5'\n",
       "32. 'NID1'\n",
       "33. 'NCR3'\n",
       "34. 'MLC1'\n",
       "35. 'MAP1A'\n",
       "36. 'LSM3'\n",
       "37. 'LPAR6'\n",
       "38. 'LMNA'\n",
       "39. 'KIR2DL1'\n",
       "40. 'KIFC3'\n",
       "41. 'IL2RB'\n",
       "42. 'IGJ'\n",
       "43. 'HCFC1'\n",
       "44. 'GPR56'\n",
       "45. 'GNLY'\n",
       "46. 'GAPT'\n",
       "47. 'FSD1'\n",
       "48. 'FOSB'\n",
       "49. 'FLNA'\n",
       "50. 'FAM200B'\n",
       "51. 'F2R'\n",
       "52. 'EVI2A'\n",
       "53. 'ERBB2'\n",
       "54. 'DUSP2'\n",
       "55. 'DDIT4'\n",
       "56. 'DAB2'\n",
       "57. 'CSTA'\n",
       "58. 'CLSTN1'\n",
       "59. 'CLEC2B'\n",
       "60. 'CARNS1'\n",
       "61. 'CACNA2D2'\n",
       "62. 'BZRAP1'\n",
       "63. 'BMP6'\n",
       "64. 'BCL2A1'\n",
       "65. 'BAI2'\n",
       "66. 'ATP1A3'\n",
       "67. 'ATG2A'\n",
       "68. 'ARVCF'\n",
       "69. 'ARHGAP6'\n",
       "\n",
       "\n"
      ],
      "text/plain": [
       " [1] \"ZNF480\"   \"ZNF354A\"  \"ZNF208\"   \"ZBED5\"    \"XRCC4\"    \"VCL\"     \n",
       " [7] \"TXN\"      \"TLN1\"     \"TFEC\"     \"TAF7\"     \"SYCP2\"    \"SUMO4\"   \n",
       "[13] \"STON2\"    \"SPON2\"    \"SPOCD1\"   \"SH3TC2\"   \"SH2D2A\"   \"SCN9A\"   \n",
       "[19] \"SAMD9\"    \"RPL34\"    \"RASD2\"    \"PTPRS\"    \"PRF1\"     \"POLR2K\"  \n",
       "[25] \"PITPNM2\"  \"PILRB\"    \"PER1\"     \"PDGFA\"    \"PCDH1\"    \"OSBPL7\"  \n",
       "[31] \"OSBPL5\"   \"NID1\"     \"NCR3\"     \"MLC1\"     \"MAP1A\"    \"LSM3\"    \n",
       "[37] \"LPAR6\"    \"LMNA\"     \"KIR2DL1\"  \"KIFC3\"    \"IL2RB\"    \"IGJ\"     \n",
       "[43] \"HCFC1\"    \"GPR56\"    \"GNLY\"     \"GAPT\"     \"FSD1\"     \"FOSB\"    \n",
       "[49] \"FLNA\"     \"FAM200B\"  \"F2R\"      \"EVI2A\"    \"ERBB2\"    \"DUSP2\"   \n",
       "[55] \"DDIT4\"    \"DAB2\"     \"CSTA\"     \"CLSTN1\"   \"CLEC2B\"   \"CARNS1\"  \n",
       "[61] \"CACNA2D2\" \"BZRAP1\"   \"BMP6\"     \"BCL2A1\"   \"BAI2\"     \"ATP1A3\"  \n",
       "[67] \"ATG2A\"    \"ARVCF\"    \"ARHGAP6\" "
      ]
     },
     "metadata": {},
     "output_type": "display_data"
    },
    {
     "data": {
      "text/html": [
       "<table class=\"dataframe\">\n",
       "<caption>A data.frame: 2 x 69</caption>\n",
       "<thead>\n",
       "\t<tr><th></th><th scope=col>ZNF480</th><th scope=col>ZNF354A</th><th scope=col>ZNF208</th><th scope=col>ZBED5</th><th scope=col>XRCC4</th><th scope=col>VCL</th><th scope=col>TXN</th><th scope=col>TLN1</th><th scope=col>TFEC</th><th scope=col>TAF7</th><th scope=col>...</th><th scope=col>CARNS1</th><th scope=col>CACNA2D2</th><th scope=col>BZRAP1</th><th scope=col>BMP6</th><th scope=col>BCL2A1</th><th scope=col>BAI2</th><th scope=col>ATP1A3</th><th scope=col>ATG2A</th><th scope=col>ARVCF</th><th scope=col>ARHGAP6</th></tr>\n",
       "\t<tr><th></th><th scope=col>&lt;dbl&gt;</th><th scope=col>&lt;dbl&gt;</th><th scope=col>&lt;dbl&gt;</th><th scope=col>&lt;dbl&gt;</th><th scope=col>&lt;dbl&gt;</th><th scope=col>&lt;dbl&gt;</th><th scope=col>&lt;dbl&gt;</th><th scope=col>&lt;dbl&gt;</th><th scope=col>&lt;dbl&gt;</th><th scope=col>&lt;dbl&gt;</th><th scope=col>...</th><th scope=col>&lt;dbl&gt;</th><th scope=col>&lt;dbl&gt;</th><th scope=col>&lt;dbl&gt;</th><th scope=col>&lt;dbl&gt;</th><th scope=col>&lt;dbl&gt;</th><th scope=col>&lt;dbl&gt;</th><th scope=col>&lt;dbl&gt;</th><th scope=col>&lt;dbl&gt;</th><th scope=col>&lt;dbl&gt;</th><th scope=col>&lt;dbl&gt;</th></tr>\n",
       "</thead>\n",
       "<tbody>\n",
       "\t<tr><th scope=row>C10</th><td>5.156136</td><td>5.125855</td><td>0.5392760</td><td>10.32473</td><td>2.339176</td><td>46.57527</td><td> 7.655688</td><td>101.2624</td><td>3.548980</td><td>14.05923</td><td>...</td><td>2.390462</td><td>2.652530</td><td>3.472469</td><td>5.936213</td><td>22.32717</td><td>0.2332996</td><td>0.8470702</td><td>13.04633</td><td>0.8559196</td><td>1.176161</td></tr>\n",
       "\t<tr><th scope=row>C11</th><td>5.341337</td><td>6.072094</td><td>0.3636642</td><td>10.90038</td><td>2.871262</td><td>51.53112</td><td>17.794071</td><td>101.7559</td><td>5.233879</td><td>18.91710</td><td>...</td><td>2.103993</td><td>4.407767</td><td>5.835689</td><td>3.418444</td><td>32.12134</td><td>0.1628312</td><td>0.9373913</td><td>15.02437</td><td>0.8992942</td><td>1.233943</td></tr>\n",
       "</tbody>\n",
       "</table>\n"
      ],
      "text/latex": [
       "A data.frame: 2 x 69\n",
       "\\begin{tabular}{r|lllllllllllllllllllll}\n",
       "  & ZNF480 & ZNF354A & ZNF208 & ZBED5 & XRCC4 & VCL & TXN & TLN1 & TFEC & TAF7 & ... & CARNS1 & CACNA2D2 & BZRAP1 & BMP6 & BCL2A1 & BAI2 & ATP1A3 & ATG2A & ARVCF & ARHGAP6\\\\\n",
       "  & <dbl> & <dbl> & <dbl> & <dbl> & <dbl> & <dbl> & <dbl> & <dbl> & <dbl> & <dbl> & ... & <dbl> & <dbl> & <dbl> & <dbl> & <dbl> & <dbl> & <dbl> & <dbl> & <dbl> & <dbl>\\\\\n",
       "\\hline\n",
       "\tC10 & 5.156136 & 5.125855 & 0.5392760 & 10.32473 & 2.339176 & 46.57527 &  7.655688 & 101.2624 & 3.548980 & 14.05923 & ... & 2.390462 & 2.652530 & 3.472469 & 5.936213 & 22.32717 & 0.2332996 & 0.8470702 & 13.04633 & 0.8559196 & 1.176161\\\\\n",
       "\tC11 & 5.341337 & 6.072094 & 0.3636642 & 10.90038 & 2.871262 & 51.53112 & 17.794071 & 101.7559 & 5.233879 & 18.91710 & ... & 2.103993 & 4.407767 & 5.835689 & 3.418444 & 32.12134 & 0.1628312 & 0.9373913 & 15.02437 & 0.8992942 & 1.233943\\\\\n",
       "\\end{tabular}\n"
      ],
      "text/markdown": [
       "\n",
       "A data.frame: 2 x 69\n",
       "\n",
       "| <!--/--> | ZNF480 &lt;dbl&gt; | ZNF354A &lt;dbl&gt; | ZNF208 &lt;dbl&gt; | ZBED5 &lt;dbl&gt; | XRCC4 &lt;dbl&gt; | VCL &lt;dbl&gt; | TXN &lt;dbl&gt; | TLN1 &lt;dbl&gt; | TFEC &lt;dbl&gt; | TAF7 &lt;dbl&gt; | ... ... | CARNS1 &lt;dbl&gt; | CACNA2D2 &lt;dbl&gt; | BZRAP1 &lt;dbl&gt; | BMP6 &lt;dbl&gt; | BCL2A1 &lt;dbl&gt; | BAI2 &lt;dbl&gt; | ATP1A3 &lt;dbl&gt; | ATG2A &lt;dbl&gt; | ARVCF &lt;dbl&gt; | ARHGAP6 &lt;dbl&gt; |\n",
       "|---|---|---|---|---|---|---|---|---|---|---|---|---|---|---|---|---|---|---|---|---|---|\n",
       "| C10 | 5.156136 | 5.125855 | 0.5392760 | 10.32473 | 2.339176 | 46.57527 |  7.655688 | 101.2624 | 3.548980 | 14.05923 | ... | 2.390462 | 2.652530 | 3.472469 | 5.936213 | 22.32717 | 0.2332996 | 0.8470702 | 13.04633 | 0.8559196 | 1.176161 |\n",
       "| C11 | 5.341337 | 6.072094 | 0.3636642 | 10.90038 | 2.871262 | 51.53112 | 17.794071 | 101.7559 | 5.233879 | 18.91710 | ... | 2.103993 | 4.407767 | 5.835689 | 3.418444 | 32.12134 | 0.1628312 | 0.9373913 | 15.02437 | 0.8992942 | 1.233943 |\n",
       "\n"
      ],
      "text/plain": [
       "    ZNF480   ZNF354A  ZNF208    ZBED5    XRCC4    VCL      TXN       TLN1    \n",
       "C10 5.156136 5.125855 0.5392760 10.32473 2.339176 46.57527  7.655688 101.2624\n",
       "C11 5.341337 6.072094 0.3636642 10.90038 2.871262 51.53112 17.794071 101.7559\n",
       "    TFEC     TAF7     ... CARNS1   CACNA2D2 BZRAP1   BMP6     BCL2A1  \n",
       "C10 3.548980 14.05923 ... 2.390462 2.652530 3.472469 5.936213 22.32717\n",
       "C11 5.233879 18.91710 ... 2.103993 4.407767 5.835689 3.418444 32.12134\n",
       "    BAI2      ATP1A3    ATG2A    ARVCF     ARHGAP6 \n",
       "C10 0.2332996 0.8470702 13.04633 0.8559196 1.176161\n",
       "C11 0.1628312 0.9373913 15.02437 0.8992942 1.233943"
      ]
     },
     "metadata": {},
     "output_type": "display_data"
    }
   ],
   "source": [
    "library(openxlsx)\n",
    "data<- read.xlsx(\"./res/CI-CTR/bulk/74-mRNA_FPKM.genename.xlsx\", sheet = 1)\n",
    "library(dplyr)\n",
    "\n",
    "overlap = read.table('./overlap.txt',header =T)\n",
    "\n",
    "data = data[!duplicated(data$Gene_name),]\n",
    "head(data,2)\n",
    "expr = data %>%  tibble::remove_rownames() %>% filter(Gene_name %in% overlap$GeneName) %>%  \n",
    "tibble::column_to_rownames(.,'Gene_name') %>% t() %>% as.data.frame()\n",
    "Group = c(rep('con',31),rep('CI',43))\n",
    "\n",
    "\n",
    "\n",
    "colnames(expr) = gsub('-','.',colnames(expr))\n",
    "\n",
    "colnames(expr)\n",
    "\n",
    "head(expr,2)\n",
    "\n",
    "Type = ifelse(Group == 'CI',1,0)\n",
    "\n",
    "nn = cbind(Type,expr)\n",
    "\n",
    "\n",
    "\n",
    "#save(nn,file = 'data.new.rda')"
   ]
  },
  {
   "cell_type": "code",
   "execution_count": 3,
   "id": "ab65721e-6b86-41ef-a50f-a498981a0e4c",
   "metadata": {},
   "outputs": [],
   "source": [
    "x = as.matrix(expr)\n",
    "y = Type"
   ]
  },
  {
   "cell_type": "code",
   "execution_count": 4,
   "id": "169ffec6-1642-4189-bf9d-15da56264520",
   "metadata": {},
   "outputs": [
    {
     "name": "stderr",
     "output_type": "stream",
     "text": [
      "Warning message:\n",
      "\"package 'randomForest' was built under R version 4.2.3\"\n",
      "randomForest 4.7-1.1\n",
      "\n",
      "Type rfNews() to see new features/changes/bug fixes.\n",
      "\n",
      "\n",
      "Attaching package: 'randomForest'\n",
      "\n",
      "\n",
      "The following object is masked from 'package:dplyr':\n",
      "\n",
      "    combine\n",
      "\n",
      "\n"
     ]
    }
   ],
   "source": [
    "library(randomForest)"
   ]
  },
  {
   "cell_type": "code",
   "execution_count": 5,
   "id": "b493e28e-80c5-414f-b4ac-3e76ffb4fe80",
   "metadata": {},
   "outputs": [],
   "source": [
    "options(repr.plot.width = 6)"
   ]
  },
  {
   "cell_type": "code",
   "execution_count": 6,
   "id": "8ec7bf55-3068-4fae-8580-cde38eae11ca",
   "metadata": {},
   "outputs": [],
   "source": [
    "set.seed(101)"
   ]
  },
  {
   "cell_type": "code",
   "execution_count": 7,
   "id": "6ef597cf-88f2-4c9c-9835-f472ef01bdd3",
   "metadata": {},
   "outputs": [
    {
     "data": {
      "text/html": [
       "<style>\n",
       ".list-inline {list-style: none; margin:0; padding: 0}\n",
       ".list-inline>li {display: inline-block}\n",
       ".list-inline>li:not(:last-child)::after {content: \"\\00b7\"; padding: 0 .5ex}\n",
       "</style>\n",
       "<ol class=list-inline><li>74</li><li>69</li></ol>\n"
      ],
      "text/latex": [
       "\\begin{enumerate*}\n",
       "\\item 74\n",
       "\\item 69\n",
       "\\end{enumerate*}\n"
      ],
      "text/markdown": [
       "1. 74\n",
       "2. 69\n",
       "\n",
       "\n"
      ],
      "text/plain": [
       "[1] 74 69"
      ]
     },
     "metadata": {},
     "output_type": "display_data"
    }
   ],
   "source": [
    "dim(expr)"
   ]
  },
  {
   "cell_type": "code",
   "execution_count": 8,
   "id": "dd25da7b-009d-46a7-9e48-0fbd6e6a1e6c",
   "metadata": {
    "scrolled": true
   },
   "outputs": [],
   "source": [
    "rf = randomForest(as.factor(y)~.,data = x,ntree =2000,important=TRUE,proximity=TRUE)"
   ]
  },
  {
   "cell_type": "code",
   "execution_count": 9,
   "id": "1b74320e-150b-4207-b95d-5aa4a8ab847c",
   "metadata": {},
   "outputs": [
    {
     "data": {
      "image/png": "[encoded data removed]",
      "text/plain": [
       "Plot with title \"rf\""
      ]
     },
     "metadata": {
      "image/png": {
       "height": 420,
       "width": 360
      }
     },
     "output_type": "display_data"
    }
   ],
   "source": [
    "plot(rf)"
   ]
  },
  {
   "cell_type": "code",
   "execution_count": 10,
   "id": "b7ea5ec0-bed9-4c41-abb4-4c8652566413",
   "metadata": {},
   "outputs": [
    {
     "data": {
      "text/html": [
       "<strong>png:</strong> 2"
      ],
      "text/latex": [
       "\\textbf{png:} 2"
      ],
      "text/markdown": [
       "**png:** 2"
      ],
      "text/plain": [
       "png \n",
       "  2 "
      ]
     },
     "metadata": {},
     "output_type": "display_data"
    }
   ],
   "source": [
    "pdf('figure2.forest.pdf',height = 6,width = 6)\n",
    "plot(rf)\n",
    "dev.off()"
   ]
  },
  {
   "cell_type": "code",
   "execution_count": 11,
   "id": "7767331a-f20a-4eda-94b9-4a7c991c20fc",
   "metadata": {},
   "outputs": [],
   "source": [
    "trees = which.min(rf$err.rate[,1])"
   ]
  },
  {
   "cell_type": "code",
   "execution_count": 12,
   "id": "acb3c396-1756-4cee-9427-27cd6c654924",
   "metadata": {},
   "outputs": [],
   "source": [
    "rf = randomForest(as.factor(y)~.,data = x,ntree =trees,important=TRUE,proximity=TRUE)"
   ]
  },
  {
   "cell_type": "code",
   "execution_count": 13,
   "id": "54d38c6c-84d5-4183-b154-e8b9c2e3e988",
   "metadata": {},
   "outputs": [],
   "source": [
    "importance = importance(rf)"
   ]
  },
  {
   "cell_type": "code",
   "execution_count": 14,
   "id": "e6baa3b4-47cd-4b72-b717-ca809a002dc2",
   "metadata": {},
   "outputs": [
    {
     "data": {
      "text/plain": [
       "\n",
       "Call:\n",
       " randomForest(formula = as.factor(y) ~ ., data = x, ntree = trees,      important = TRUE, proximity = TRUE) \n",
       "               Type of random forest: classification\n",
       "                     Number of trees: 23\n",
       "No. of variables tried at each split: 8\n",
       "\n",
       "        OOB estimate of  error rate: 24.32%\n",
       "Confusion matrix:\n",
       "   0  1 class.error\n",
       "0 22  9   0.2903226\n",
       "1  9 34   0.2093023"
      ]
     },
     "metadata": {},
     "output_type": "display_data"
    }
   ],
   "source": [
    "rf"
   ]
  },
  {
   "cell_type": "code",
   "execution_count": 15,
   "id": "30c391f0-d3b7-4156-8ee9-72ea910c3b1c",
   "metadata": {},
   "outputs": [
    {
     "data": {
      "text/html": [
       "<strong>png:</strong> 2"
      ],
      "text/latex": [
       "\\textbf{png:} 2"
      ],
      "text/markdown": [
       "**png:** 2"
      ],
      "text/plain": [
       "png \n",
       "  2 "
      ]
     },
     "metadata": {},
     "output_type": "display_data"
    }
   ],
   "source": [
    "pdf('forest2.pdf',height = 6,width = 4)\n",
    "varImpPlot(rf,main = '')\n",
    "dev.off()"
   ]
  },
  {
   "cell_type": "code",
   "execution_count": 16,
   "id": "5266a68b-0af6-43ba-9c5e-ccd5274e258e",
   "metadata": {},
   "outputs": [],
   "source": [
    "options(repr.plot.width = 4,repr.plot.height = 6)"
   ]
  },
  {
   "cell_type": "code",
   "execution_count": 17,
   "id": "fa486741-b1ff-4ff1-94a4-a7e2d11ec6b6",
   "metadata": {},
   "outputs": [
    {
     "data": {
      "image/png": "[encoded data removed]",
      "text/plain": [
       "Plot with title \"\""
      ]
     },
     "metadata": {
      "image/png": {
       "height": 360,
       "width": 240
      }
     },
     "output_type": "display_data"
    }
   ],
   "source": [
    "varImpPlot(rf,main = '')"
   ]
  },
  {
   "cell_type": "code",
   "execution_count": 18,
   "id": "8e6e85d1-8986-4b0c-988a-c4da8658c182",
   "metadata": {},
   "outputs": [],
   "source": [
    "rfGenes=importance[order(importance[, \"MeanDecreaseGini\"], decreasing  = TRUE),] #重要性评分大于2的基因"
   ]
  },
  {
   "cell_type": "code",
   "execution_count": 19,
   "id": "810d5669-9db3-4956-b629-6ab2df7fb760",
   "metadata": {},
   "outputs": [
    {
     "data": {
      "text/html": [
       "<style>\n",
       ".list-inline {list-style: none; margin:0; padding: 0}\n",
       ".list-inline>li {display: inline-block}\n",
       ".list-inline>li:not(:last-child)::after {content: \"\\00b7\"; padding: 0 .5ex}\n",
       "</style>\n",
       "<ol class=list-inline><li>'FLNA'</li><li>'OSBPL7'</li><li>'PRF1'</li><li>'FAM200B'</li><li>'PILRB'</li><li>'SAMD9'</li><li>'SH3TC2'</li><li>'ATG2A'</li><li>'PITPNM2'</li><li>'F2R'</li><li>'BCL2A1'</li><li>'VCL'</li><li>'IGJ'</li><li>'STON2'</li><li>'TAF7'</li><li>'CLSTN1'</li><li>'DAB2'</li><li>'ARVCF'</li><li>'PDGFA'</li><li>'HCFC1'</li><li>'TXN'</li><li>'ARHGAP6'</li><li>'CLEC2B'</li><li>'NCR3'</li><li>'LMNA'</li><li>'ZNF354A'</li><li>'KIR2DL1'</li><li>'MAP1A'</li><li>'LPAR6'</li><li>'ZNF208'</li><li>'ZNF480'</li><li>'DUSP2'</li><li>'BZRAP1'</li><li>'PCDH1'</li><li>'SYCP2'</li><li>'GNLY'</li><li>'ATP1A3'</li><li>'CSTA'</li><li>'KIFC3'</li><li>'PTPRS'</li><li>'POLR2K'</li><li>'ERBB2'</li><li>'BMP6'</li><li>'TFEC'</li><li>'SCN9A'</li><li>'DDIT4'</li><li>'SUMO4'</li><li>'XRCC4'</li><li>'SPOCD1'</li><li>'CACNA2D2'</li><li>'IL2RB'</li><li>'ZBED5'</li><li>'TLN1'</li><li>'SPON2'</li><li>'SH2D2A'</li><li>'RPL34'</li><li>'RASD2'</li><li>'PER1'</li><li>'OSBPL5'</li><li>'NID1'</li><li>'MLC1'</li><li>'LSM3'</li><li>'GPR56'</li><li>'GAPT'</li><li>'FSD1'</li><li>'FOSB'</li><li>'EVI2A'</li><li>'CARNS1'</li><li>'BAI2'</li></ol>\n"
      ],
      "text/latex": [
       "\\begin{enumerate*}\n",
       "\\item 'FLNA'\n",
       "\\item 'OSBPL7'\n",
       "\\item 'PRF1'\n",
       "\\item 'FAM200B'\n",
       "\\item 'PILRB'\n",
       "\\item 'SAMD9'\n",
       "\\item 'SH3TC2'\n",
       "\\item 'ATG2A'\n",
       "\\item 'PITPNM2'\n",
       "\\item 'F2R'\n",
       "\\item 'BCL2A1'\n",
       "\\item 'VCL'\n",
       "\\item 'IGJ'\n",
       "\\item 'STON2'\n",
       "\\item 'TAF7'\n",
       "\\item 'CLSTN1'\n",
       "\\item 'DAB2'\n",
       "\\item 'ARVCF'\n",
       "\\item 'PDGFA'\n",
       "\\item 'HCFC1'\n",
       "\\item 'TXN'\n",
       "\\item 'ARHGAP6'\n",
       "\\item 'CLEC2B'\n",
       "\\item 'NCR3'\n",
       "\\item 'LMNA'\n",
       "\\item 'ZNF354A'\n",
       "\\item 'KIR2DL1'\n",
       "\\item 'MAP1A'\n",
       "\\item 'LPAR6'\n",
       "\\item 'ZNF208'\n",
       "\\item 'ZNF480'\n",
       "\\item 'DUSP2'\n",
       "\\item 'BZRAP1'\n",
       "\\item 'PCDH1'\n",
       "\\item 'SYCP2'\n",
       "\\item 'GNLY'\n",
       "\\item 'ATP1A3'\n",
       "\\item 'CSTA'\n",
       "\\item 'KIFC3'\n",
       "\\item 'PTPRS'\n",
       "\\item 'POLR2K'\n",
       "\\item 'ERBB2'\n",
       "\\item 'BMP6'\n",
       "\\item 'TFEC'\n",
       "\\item 'SCN9A'\n",
       "\\item 'DDIT4'\n",
       "\\item 'SUMO4'\n",
       "\\item 'XRCC4'\n",
       "\\item 'SPOCD1'\n",
       "\\item 'CACNA2D2'\n",
       "\\item 'IL2RB'\n",
       "\\item 'ZBED5'\n",
       "\\item 'TLN1'\n",
       "\\item 'SPON2'\n",
       "\\item 'SH2D2A'\n",
       "\\item 'RPL34'\n",
       "\\item 'RASD2'\n",
       "\\item 'PER1'\n",
       "\\item 'OSBPL5'\n",
       "\\item 'NID1'\n",
       "\\item 'MLC1'\n",
       "\\item 'LSM3'\n",
       "\\item 'GPR56'\n",
       "\\item 'GAPT'\n",
       "\\item 'FSD1'\n",
       "\\item 'FOSB'\n",
       "\\item 'EVI2A'\n",
       "\\item 'CARNS1'\n",
       "\\item 'BAI2'\n",
       "\\end{enumerate*}\n"
      ],
      "text/markdown": [
       "1. 'FLNA'\n",
       "2. 'OSBPL7'\n",
       "3. 'PRF1'\n",
       "4. 'FAM200B'\n",
       "5. 'PILRB'\n",
       "6. 'SAMD9'\n",
       "7. 'SH3TC2'\n",
       "8. 'ATG2A'\n",
       "9. 'PITPNM2'\n",
       "10. 'F2R'\n",
       "11. 'BCL2A1'\n",
       "12. 'VCL'\n",
       "13. 'IGJ'\n",
       "14. 'STON2'\n",
       "15. 'TAF7'\n",
       "16. 'CLSTN1'\n",
       "17. 'DAB2'\n",
       "18. 'ARVCF'\n",
       "19. 'PDGFA'\n",
       "20. 'HCFC1'\n",
       "21. 'TXN'\n",
       "22. 'ARHGAP6'\n",
       "23. 'CLEC2B'\n",
       "24. 'NCR3'\n",
       "25. 'LMNA'\n",
       "26. 'ZNF354A'\n",
       "27. 'KIR2DL1'\n",
       "28. 'MAP1A'\n",
       "29. 'LPAR6'\n",
       "30. 'ZNF208'\n",
       "31. 'ZNF480'\n",
       "32. 'DUSP2'\n",
       "33. 'BZRAP1'\n",
       "34. 'PCDH1'\n",
       "35. 'SYCP2'\n",
       "36. 'GNLY'\n",
       "37. 'ATP1A3'\n",
       "38. 'CSTA'\n",
       "39. 'KIFC3'\n",
       "40. 'PTPRS'\n",
       "41. 'POLR2K'\n",
       "42. 'ERBB2'\n",
       "43. 'BMP6'\n",
       "44. 'TFEC'\n",
       "45. 'SCN9A'\n",
       "46. 'DDIT4'\n",
       "47. 'SUMO4'\n",
       "48. 'XRCC4'\n",
       "49. 'SPOCD1'\n",
       "50. 'CACNA2D2'\n",
       "51. 'IL2RB'\n",
       "52. 'ZBED5'\n",
       "53. 'TLN1'\n",
       "54. 'SPON2'\n",
       "55. 'SH2D2A'\n",
       "56. 'RPL34'\n",
       "57. 'RASD2'\n",
       "58. 'PER1'\n",
       "59. 'OSBPL5'\n",
       "60. 'NID1'\n",
       "61. 'MLC1'\n",
       "62. 'LSM3'\n",
       "63. 'GPR56'\n",
       "64. 'GAPT'\n",
       "65. 'FSD1'\n",
       "66. 'FOSB'\n",
       "67. 'EVI2A'\n",
       "68. 'CARNS1'\n",
       "69. 'BAI2'\n",
       "\n",
       "\n"
      ],
      "text/plain": [
       " [1] \"FLNA\"     \"OSBPL7\"   \"PRF1\"     \"FAM200B\"  \"PILRB\"    \"SAMD9\"   \n",
       " [7] \"SH3TC2\"   \"ATG2A\"    \"PITPNM2\"  \"F2R\"      \"BCL2A1\"   \"VCL\"     \n",
       "[13] \"IGJ\"      \"STON2\"    \"TAF7\"     \"CLSTN1\"   \"DAB2\"     \"ARVCF\"   \n",
       "[19] \"PDGFA\"    \"HCFC1\"    \"TXN\"      \"ARHGAP6\"  \"CLEC2B\"   \"NCR3\"    \n",
       "[25] \"LMNA\"     \"ZNF354A\"  \"KIR2DL1\"  \"MAP1A\"    \"LPAR6\"    \"ZNF208\"  \n",
       "[31] \"ZNF480\"   \"DUSP2\"    \"BZRAP1\"   \"PCDH1\"    \"SYCP2\"    \"GNLY\"    \n",
       "[37] \"ATP1A3\"   \"CSTA\"     \"KIFC3\"    \"PTPRS\"    \"POLR2K\"   \"ERBB2\"   \n",
       "[43] \"BMP6\"     \"TFEC\"     \"SCN9A\"    \"DDIT4\"    \"SUMO4\"    \"XRCC4\"   \n",
       "[49] \"SPOCD1\"   \"CACNA2D2\" \"IL2RB\"    \"ZBED5\"    \"TLN1\"     \"SPON2\"   \n",
       "[55] \"SH2D2A\"   \"RPL34\"    \"RASD2\"    \"PER1\"     \"OSBPL5\"   \"NID1\"    \n",
       "[61] \"MLC1\"     \"LSM3\"     \"GPR56\"    \"GAPT\"     \"FSD1\"     \"FOSB\"    \n",
       "[67] \"EVI2A\"    \"CARNS1\"   \"BAI2\"    "
      ]
     },
     "metadata": {},
     "output_type": "display_data"
    }
   ],
   "source": [
    "names(rfGenes)"
   ]
  },
  {
   "cell_type": "code",
   "execution_count": 20,
   "id": "5e68dfae-351c-473e-9510-77c914e6ba07",
   "metadata": {},
   "outputs": [],
   "source": [
    "# rfGenes=names(rfGenes[rfGenes>30]) \n",
    "# write.table(rfGenes,file=\"rfGenes.txt\",sep=\"\\t\",quote=F,col.names=F,row.names=F) #输出表达量\n",
    "\n",
    "# sigExp=expr[rfGenes,]\n",
    "# write.table(data.frame(ID=rownames(sigExp),sigExp),file=\"rfGeneExp.txt\",sep=\"\\t\",quote=F,col.names=T,row.names=F) "
   ]
  },
  {
   "cell_type": "markdown",
   "id": "af18f8e6-2aaf-42ec-a432-c763909b210d",
   "metadata": {},
   "source": [
    "### svm"
   ]
  },
  {
   "cell_type": "code",
   "execution_count": 21,
   "id": "fbf987a1-8c99-4b6e-bf25-3f1b55c17fb0",
   "metadata": {},
   "outputs": [],
   "source": [
    "# library(tidyverse)\n",
    "# library(glmnet)\n",
    "# library(VennDiagram)\n",
    "# library(e1071)\n",
    "# library(caret)\n",
    "# library(randomForest)\n",
    "\n",
    "# y=as.numeric(as.factor(Type))\n",
    "\n",
    "# y\n",
    "\n",
    "\n",
    "\n",
    "# library(future)\n",
    "# plan(\"multisession\",workers=30)\n",
    "\n",
    "# set.seed(1)\n",
    "# rfeControl = rfeControl(functions = caretFuncs,\n",
    "#                         method = \"cv\", # 默认自助法重采样 boot\n",
    "#                         saveDetails = T, # 保存预测值和变量重要性\n",
    "#                         number = 5, # 重抽样次数\n",
    "#                         allowParallel = T # 允许多线程，用这个之前你要先准备好多线程！\n",
    "#                         )\n",
    "\n",
    "# Profile=rfe(x=x,y=y,sizes = c(1:10),\n",
    "#     rfeControl =  rfeControl,\n",
    "#     methods=\"svmRadial\")\n",
    "\n",
    "# pdf(file=\"SVM-RFE.pdf\", width=6, height=5.5)\n",
    "# par(las=1)\n",
    "# x= Profile$results$Variables \n",
    "# y =Profile$results$RMSE\n",
    "# plot(x, y, xlab=\"Variables\", ylab=\"RMSE (Cross-Validation)\", col=\"darkgreen\") \n",
    "# lines(x, y, col=\"darkgreen\")\n",
    "# wmin=which.min(y) \n",
    "# wmin.x=x[wmin] \n",
    "# wmin.y=y[wmin]\n",
    "# points(wmin.x, wmin.y, col=\"blue\", pch=16)\n",
    "# text(wmin.x, wmin.y, paste0('N=', wmin.x), pos=2, col=2)\n",
    "# dev.off()\n",
    "\n",
    "# par(las=1)\n",
    "# x= Profile$results$Variables \n",
    "# y =Profile$results$RMSE\n",
    "# plot(x, y, xlab=\"Variables\", ylab=\"RMSE (Cross-Validation)\", col=\"darkgreen\") \n",
    "# lines(x, y, col=\"darkgreen\")\n",
    "# wmin=which.min(y) \n",
    "# wmin.x=x[wmin] \n",
    "# wmin.y=y[wmin]\n",
    "# points(wmin.x, wmin.y, col=\"blue\", pch=16)\n",
    "# text(wmin.x, wmin.y, paste0('N=', wmin.x), pos=2, col=2)\n",
    "\n",
    "# #输出\n",
    "# featureGenes = Profile$optVariables\n",
    "# write.table(file=\"SVM-RFE.gene.txt\",featureGenes,sep=\"\\t\",quote=F,row.names=F,col.names=F) #表达矩阵 \n",
    "\n",
    "# featureGenes"
   ]
  },
  {
   "cell_type": "markdown",
   "id": "80a4188a-f4ee-4fc6-8479-542b5b97f5a7",
   "metadata": {},
   "source": [
    "### Boruta"
   ]
  },
  {
   "cell_type": "code",
   "execution_count": 22,
   "id": "c3d5dd8e-c054-4893-826f-15808121999e",
   "metadata": {},
   "outputs": [],
   "source": [
    "library(Boruta)"
   ]
  },
  {
   "cell_type": "code",
   "execution_count": 23,
   "id": "bfef83bb-f0df-4544-88ff-ac95865a034a",
   "metadata": {},
   "outputs": [],
   "source": [
    "set.seed(1)\n",
    "boruta <- Boruta(x=x, y=y, pValue=0.05, mcAdj=T, \n",
    "       maxRuns=300)"
   ]
  },
  {
   "cell_type": "code",
   "execution_count": 24,
   "id": "874bd68a-9461-4cb0-a659-3b68b63dbf4a",
   "metadata": {},
   "outputs": [
    {
     "data": {
      "text/plain": [
       "Boruta performed 299 iterations in 22.14087 secs.\n",
       " 30 attributes confirmed important: ARHGAP6, ARVCF, ATG2A, BZRAP1,\n",
       "CLSTN1 and 25 more;\n",
       " 33 attributes confirmed unimportant: ATP1A3, BAI2, BCL2A1, BMP6,\n",
       "CACNA2D2 and 28 more;\n",
       " 6 tentative attributes left: IGJ, MLC1, SH2D2A, ZNF208, ZNF354A and 1\n",
       "more;"
      ]
     },
     "metadata": {},
     "output_type": "display_data"
    }
   ],
   "source": [
    "boruta"
   ]
  },
  {
   "cell_type": "code",
   "execution_count": 25,
   "id": "e303931f-31a8-455d-a409-9279e159919d",
   "metadata": {},
   "outputs": [
    {
     "data": {
      "text/plain": [
       "\n",
       "Tentative Confirmed  Rejected \n",
       "        6        30        33 "
      ]
     },
     "metadata": {},
     "output_type": "display_data"
    }
   ],
   "source": [
    "table(boruta$finalDecision)"
   ]
  },
  {
   "cell_type": "code",
   "execution_count": 26,
   "id": "9d8e6501-7065-40d6-803c-8903eb4be86b",
   "metadata": {},
   "outputs": [
    {
     "data": {
      "text/html": [
       "<style>\n",
       ".dl-inline {width: auto; margin:0; padding: 0}\n",
       ".dl-inline>dt, .dl-inline>dd {float: none; width: auto; display: inline-block}\n",
       ".dl-inline>dt::after {content: \":\\0020\"; padding-right: .5ex}\n",
       ".dl-inline>dt:not(:first-of-type) {padding-left: .5ex}\n",
       "</style><dl class=dl-inline><dt>ZNF480</dt><dd>Tentative</dd><dt>ZNF354A</dt><dd>Tentative</dd><dt>ZNF208</dt><dd>Tentative</dd><dt>ZBED5</dt><dd>Rejected</dd><dt>XRCC4</dt><dd>Rejected</dd><dt>VCL</dt><dd>Confirmed</dd><dt>TXN</dt><dd>Confirmed</dd><dt>TLN1</dt><dd>Confirmed</dd><dt>TFEC</dt><dd>Rejected</dd><dt>TAF7</dt><dd>Rejected</dd><dt>SYCP2</dt><dd>Rejected</dd><dt>SUMO4</dt><dd>Confirmed</dd><dt>STON2</dt><dd>Confirmed</dd><dt>SPON2</dt><dd>Rejected</dd><dt>SPOCD1</dt><dd>Rejected</dd><dt>SH3TC2</dt><dd>Confirmed</dd><dt>SH2D2A</dt><dd>Tentative</dd><dt>SCN9A</dt><dd>Confirmed</dd><dt>SAMD9</dt><dd>Confirmed</dd><dt>RPL34</dt><dd>Rejected</dd><dt>RASD2</dt><dd>Rejected</dd><dt>PTPRS</dt><dd>Confirmed</dd><dt>PRF1</dt><dd>Confirmed</dd><dt>POLR2K</dt><dd>Rejected</dd><dt>PITPNM2</dt><dd>Confirmed</dd><dt>PILRB</dt><dd>Confirmed</dd><dt>PER1</dt><dd>Confirmed</dd><dt>PDGFA</dt><dd>Confirmed</dd><dt>PCDH1</dt><dd>Rejected</dd><dt>OSBPL7</dt><dd>Confirmed</dd><dt>OSBPL5</dt><dd>Rejected</dd><dt>NID1</dt><dd>Rejected</dd><dt>NCR3</dt><dd>Rejected</dd><dt>MLC1</dt><dd>Tentative</dd><dt>MAP1A</dt><dd>Confirmed</dd><dt>LSM3</dt><dd>Rejected</dd><dt>LPAR6</dt><dd>Rejected</dd><dt>LMNA</dt><dd>Rejected</dd><dt>KIR2DL1</dt><dd>Confirmed</dd><dt>KIFC3</dt><dd>Confirmed</dd><dt>IL2RB</dt><dd>Rejected</dd><dt>IGJ</dt><dd>Tentative</dd><dt>HCFC1</dt><dd>Confirmed</dd><dt>GPR56</dt><dd>Confirmed</dd><dt>GNLY</dt><dd>Rejected</dd><dt>GAPT</dt><dd>Rejected</dd><dt>FSD1</dt><dd>Rejected</dd><dt>FOSB</dt><dd>Rejected</dd><dt>FLNA</dt><dd>Confirmed</dd><dt>FAM200B</dt><dd>Confirmed</dd><dt>F2R</dt><dd>Confirmed</dd><dt>EVI2A</dt><dd>Confirmed</dd><dt>ERBB2</dt><dd>Rejected</dd><dt>DUSP2</dt><dd>Rejected</dd><dt>DDIT4</dt><dd>Rejected</dd><dt>DAB2</dt><dd>Confirmed</dd><dt>CSTA</dt><dd>Rejected</dd><dt>CLSTN1</dt><dd>Confirmed</dd><dt>CLEC2B</dt><dd>Rejected</dd><dt>CARNS1</dt><dd>Rejected</dd><dt>CACNA2D2</dt><dd>Rejected</dd><dt>BZRAP1</dt><dd>Confirmed</dd><dt>BMP6</dt><dd>Rejected</dd><dt>BCL2A1</dt><dd>Rejected</dd><dt>BAI2</dt><dd>Rejected</dd><dt>ATP1A3</dt><dd>Rejected</dd><dt>ATG2A</dt><dd>Confirmed</dd><dt>ARVCF</dt><dd>Confirmed</dd><dt>ARHGAP6</dt><dd>Confirmed</dd></dl>\n",
       "\n",
       "<details>\n",
       "\t<summary style=display:list-item;cursor:pointer>\n",
       "\t\t<strong>Levels</strong>:\n",
       "\t</summary>\n",
       "\t<style>\n",
       "\t.list-inline {list-style: none; margin:0; padding: 0}\n",
       "\t.list-inline>li {display: inline-block}\n",
       "\t.list-inline>li:not(:last-child)::after {content: \"\\00b7\"; padding: 0 .5ex}\n",
       "\t</style>\n",
       "\t<ol class=list-inline><li>'Tentative'</li><li>'Confirmed'</li><li>'Rejected'</li></ol>\n",
       "</details>"
      ],
      "text/latex": [
       "\\begin{description*}\n",
       "\\item[ZNF480] Tentative\n",
       "\\item[ZNF354A] Tentative\n",
       "\\item[ZNF208] Tentative\n",
       "\\item[ZBED5] Rejected\n",
       "\\item[XRCC4] Rejected\n",
       "\\item[VCL] Confirmed\n",
       "\\item[TXN] Confirmed\n",
       "\\item[TLN1] Confirmed\n",
       "\\item[TFEC] Rejected\n",
       "\\item[TAF7] Rejected\n",
       "\\item[SYCP2] Rejected\n",
       "\\item[SUMO4] Confirmed\n",
       "\\item[STON2] Confirmed\n",
       "\\item[SPON2] Rejected\n",
       "\\item[SPOCD1] Rejected\n",
       "\\item[SH3TC2] Confirmed\n",
       "\\item[SH2D2A] Tentative\n",
       "\\item[SCN9A] Confirmed\n",
       "\\item[SAMD9] Confirmed\n",
       "\\item[RPL34] Rejected\n",
       "\\item[RASD2] Rejected\n",
       "\\item[PTPRS] Confirmed\n",
       "\\item[PRF1] Confirmed\n",
       "\\item[POLR2K] Rejected\n",
       "\\item[PITPNM2] Confirmed\n",
       "\\item[PILRB] Confirmed\n",
       "\\item[PER1] Confirmed\n",
       "\\item[PDGFA] Confirmed\n",
       "\\item[PCDH1] Rejected\n",
       "\\item[OSBPL7] Confirmed\n",
       "\\item[OSBPL5] Rejected\n",
       "\\item[NID1] Rejected\n",
       "\\item[NCR3] Rejected\n",
       "\\item[MLC1] Tentative\n",
       "\\item[MAP1A] Confirmed\n",
       "\\item[LSM3] Rejected\n",
       "\\item[LPAR6] Rejected\n",
       "\\item[LMNA] Rejected\n",
       "\\item[KIR2DL1] Confirmed\n",
       "\\item[KIFC3] Confirmed\n",
       "\\item[IL2RB] Rejected\n",
       "\\item[IGJ] Tentative\n",
       "\\item[HCFC1] Confirmed\n",
       "\\item[GPR56] Confirmed\n",
       "\\item[GNLY] Rejected\n",
       "\\item[GAPT] Rejected\n",
       "\\item[FSD1] Rejected\n",
       "\\item[FOSB] Rejected\n",
       "\\item[FLNA] Confirmed\n",
       "\\item[FAM200B] Confirmed\n",
       "\\item[F2R] Confirmed\n",
       "\\item[EVI2A] Confirmed\n",
       "\\item[ERBB2] Rejected\n",
       "\\item[DUSP2] Rejected\n",
       "\\item[DDIT4] Rejected\n",
       "\\item[DAB2] Confirmed\n",
       "\\item[CSTA] Rejected\n",
       "\\item[CLSTN1] Confirmed\n",
       "\\item[CLEC2B] Rejected\n",
       "\\item[CARNS1] Rejected\n",
       "\\item[CACNA2D2] Rejected\n",
       "\\item[BZRAP1] Confirmed\n",
       "\\item[BMP6] Rejected\n",
       "\\item[BCL2A1] Rejected\n",
       "\\item[BAI2] Rejected\n",
       "\\item[ATP1A3] Rejected\n",
       "\\item[ATG2A] Confirmed\n",
       "\\item[ARVCF] Confirmed\n",
       "\\item[ARHGAP6] Confirmed\n",
       "\\end{description*}\n",
       "\n",
       "\\emph{Levels}: \\begin{enumerate*}\n",
       "\\item 'Tentative'\n",
       "\\item 'Confirmed'\n",
       "\\item 'Rejected'\n",
       "\\end{enumerate*}\n"
      ],
      "text/markdown": [
       "ZNF480\n",
       ":   TentativeZNF354A\n",
       ":   TentativeZNF208\n",
       ":   TentativeZBED5\n",
       ":   RejectedXRCC4\n",
       ":   RejectedVCL\n",
       ":   ConfirmedTXN\n",
       ":   ConfirmedTLN1\n",
       ":   ConfirmedTFEC\n",
       ":   RejectedTAF7\n",
       ":   RejectedSYCP2\n",
       ":   RejectedSUMO4\n",
       ":   ConfirmedSTON2\n",
       ":   ConfirmedSPON2\n",
       ":   RejectedSPOCD1\n",
       ":   RejectedSH3TC2\n",
       ":   ConfirmedSH2D2A\n",
       ":   TentativeSCN9A\n",
       ":   ConfirmedSAMD9\n",
       ":   ConfirmedRPL34\n",
       ":   RejectedRASD2\n",
       ":   RejectedPTPRS\n",
       ":   ConfirmedPRF1\n",
       ":   ConfirmedPOLR2K\n",
       ":   RejectedPITPNM2\n",
       ":   ConfirmedPILRB\n",
       ":   ConfirmedPER1\n",
       ":   ConfirmedPDGFA\n",
       ":   ConfirmedPCDH1\n",
       ":   RejectedOSBPL7\n",
       ":   ConfirmedOSBPL5\n",
       ":   RejectedNID1\n",
       ":   RejectedNCR3\n",
       ":   RejectedMLC1\n",
       ":   TentativeMAP1A\n",
       ":   ConfirmedLSM3\n",
       ":   RejectedLPAR6\n",
       ":   RejectedLMNA\n",
       ":   RejectedKIR2DL1\n",
       ":   ConfirmedKIFC3\n",
       ":   ConfirmedIL2RB\n",
       ":   RejectedIGJ\n",
       ":   TentativeHCFC1\n",
       ":   ConfirmedGPR56\n",
       ":   ConfirmedGNLY\n",
       ":   RejectedGAPT\n",
       ":   RejectedFSD1\n",
       ":   RejectedFOSB\n",
       ":   RejectedFLNA\n",
       ":   ConfirmedFAM200B\n",
       ":   ConfirmedF2R\n",
       ":   ConfirmedEVI2A\n",
       ":   ConfirmedERBB2\n",
       ":   RejectedDUSP2\n",
       ":   RejectedDDIT4\n",
       ":   RejectedDAB2\n",
       ":   ConfirmedCSTA\n",
       ":   RejectedCLSTN1\n",
       ":   ConfirmedCLEC2B\n",
       ":   RejectedCARNS1\n",
       ":   RejectedCACNA2D2\n",
       ":   RejectedBZRAP1\n",
       ":   ConfirmedBMP6\n",
       ":   RejectedBCL2A1\n",
       ":   RejectedBAI2\n",
       ":   RejectedATP1A3\n",
       ":   RejectedATG2A\n",
       ":   ConfirmedARVCF\n",
       ":   ConfirmedARHGAP6\n",
       ":   Confirmed\n",
       "\n",
       "\n",
       "**Levels**: 1. 'Tentative'\n",
       "2. 'Confirmed'\n",
       "3. 'Rejected'\n",
       "\n",
       "\n"
      ],
      "text/plain": [
       "   ZNF480   ZNF354A    ZNF208     ZBED5     XRCC4       VCL       TXN      TLN1 \n",
       "Tentative Tentative Tentative  Rejected  Rejected Confirmed Confirmed Confirmed \n",
       "     TFEC      TAF7     SYCP2     SUMO4     STON2     SPON2    SPOCD1    SH3TC2 \n",
       " Rejected  Rejected  Rejected Confirmed Confirmed  Rejected  Rejected Confirmed \n",
       "   SH2D2A     SCN9A     SAMD9     RPL34     RASD2     PTPRS      PRF1    POLR2K \n",
       "Tentative Confirmed Confirmed  Rejected  Rejected Confirmed Confirmed  Rejected \n",
       "  PITPNM2     PILRB      PER1     PDGFA     PCDH1    OSBPL7    OSBPL5      NID1 \n",
       "Confirmed Confirmed Confirmed Confirmed  Rejected Confirmed  Rejected  Rejected \n",
       "     NCR3      MLC1     MAP1A      LSM3     LPAR6      LMNA   KIR2DL1     KIFC3 \n",
       " Rejected Tentative Confirmed  Rejected  Rejected  Rejected Confirmed Confirmed \n",
       "    IL2RB       IGJ     HCFC1     GPR56      GNLY      GAPT      FSD1      FOSB \n",
       " Rejected Tentative Confirmed Confirmed  Rejected  Rejected  Rejected  Rejected \n",
       "     FLNA   FAM200B       F2R     EVI2A     ERBB2     DUSP2     DDIT4      DAB2 \n",
       "Confirmed Confirmed Confirmed Confirmed  Rejected  Rejected  Rejected Confirmed \n",
       "     CSTA    CLSTN1    CLEC2B    CARNS1  CACNA2D2    BZRAP1      BMP6    BCL2A1 \n",
       " Rejected Confirmed  Rejected  Rejected  Rejected Confirmed  Rejected  Rejected \n",
       "     BAI2    ATP1A3     ATG2A     ARVCF   ARHGAP6 \n",
       " Rejected  Rejected Confirmed Confirmed Confirmed \n",
       "Levels: Tentative Confirmed Rejected"
      ]
     },
     "metadata": {},
     "output_type": "display_data"
    }
   ],
   "source": [
    "boruta$finalDecision"
   ]
  },
  {
   "cell_type": "code",
   "execution_count": 27,
   "id": "012ccfe6-9873-4ae9-8b7b-b0441692c31d",
   "metadata": {},
   "outputs": [
    {
     "data": {
      "image/png": "[encoded data removed]",
      "text/plain": [
       "plot without title"
      ]
     },
     "metadata": {
      "image/png": {
       "height": 360,
       "width": 240
      }
     },
     "output_type": "display_data"
    }
   ],
   "source": [
    "Boruta::plotImpHistory(boruta)"
   ]
  },
  {
   "cell_type": "code",
   "execution_count": 28,
   "id": "f719eb97-a381-4b41-9a3d-a530fd390751",
   "metadata": {},
   "outputs": [],
   "source": [
    "library(dplyr)\n",
    "boruta.imp <- function(x){\n",
    "  imp <- reshape2::melt(x$ImpHistory, na.rm=T)[,-1]\n",
    "  colnames(imp) <- c(\"Variable\",\"Importance\")\n",
    "  imp <- imp[is.finite(imp$Importance),]\n",
    "\n",
    "  variableGrp <- data.frame(Variable=names(x$finalDecision), \n",
    "                            finalDecision=x$finalDecision)\n",
    "\n",
    "  showGrp <- data.frame(Variable=c(\"shadowMax\", \"shadowMean\", \"shadowMin\"),\n",
    "                        finalDecision=c(\"shadowMax\", \"shadowMean\", \"shadowMin\"))\n",
    "\n",
    "  variableGrp <- rbind(variableGrp, showGrp)\n",
    "\n",
    "  boruta.variable.imp <- merge(imp, variableGrp, all.x=T)\n",
    "\n",
    "  sortedVariable <- boruta.variable.imp %>% group_by(Variable) %>% \n",
    "    summarise(median=median(Importance)) %>% arrange(median)\n",
    "  sortedVariable <- as.vector(sortedVariable$Variable)\n",
    "\n",
    "\n",
    "  boruta.variable.imp$Variable <- factor(boruta.variable.imp$Variable, levels=sortedVariable)\n",
    "\n",
    "  invisible(boruta.variable.imp)\n",
    "}\n",
    "boruta.variable.imp <- boruta.imp(boruta)\n"
   ]
  },
  {
   "cell_type": "code",
   "execution_count": 29,
   "id": "b1e3ba68-9de1-4917-bf06-878aa1b09fa6",
   "metadata": {},
   "outputs": [
    {
     "name": "stderr",
     "output_type": "stream",
     "text": [
      "Welcome to YSX package which is a collection of useful scripts.\n",
      "This package does not require you install all depended packages, since one may not need all functions in this package.\n",
      "However, when there is a message implying some functions are missing,please install these packages manually.\n",
      "Or more specially, check Plot.Rmd in vignettes first.\n",
      "\n",
      "\n"
     ]
    },
    {
     "data": {
      "image/png": "[encoded data removed]",
      "text/plain": [
       "plot without title"
      ]
     },
     "metadata": {
      "image/png": {
       "height": 360,
       "width": 240
      }
     },
     "output_type": "display_data"
    }
   ],
   "source": [
    "library(YSX)\n",
    "\n",
    "sp_boxplot(boruta.variable.imp, melted=T, xvariable = \"Variable\", yvariable = \"Importance\",\n",
    "           legend_variable = \"finalDecision\", legend_variable_order = c(\"shadowMax\", \"shadowMean\", \"shadowMin\", \"Confirmed\"),\n",
    "           xtics_angle = 90)"
   ]
  },
  {
   "cell_type": "markdown",
   "id": "38dc3a92-8f8b-4577-b5ed-c14701c4825f",
   "metadata": {},
   "source": [
    "### lasso"
   ]
  },
  {
   "cell_type": "code",
   "execution_count": null,
   "id": "22b01153-be1a-481f-8580-3aaeec0415bf",
   "metadata": {},
   "outputs": [],
   "source": []
  },
  {
   "cell_type": "code",
   "execution_count": 30,
   "id": "97c60ef6-9306-48e2-80d4-09b5a8023f27",
   "metadata": {},
   "outputs": [],
   "source": [
    "# set.seed(1271)\n",
    "\n",
    "# library(lars) \n",
    "# library(glmnet) \n",
    "\n",
    "# model_lasso <- glmnet(x, y, family=\"binomial\", nlambda=100, alpha=1)#拉手回归模型\n",
    "# plot(model_lasso, xvar = \"norm\", label = TRUE)\n",
    "# plot(model_lasso, xvar=\"lambda\", label=TRUE)\n",
    "# cv_fit <- cv.glmnet(x=x, y=y, alpha = 1, nlambda = 100)\n",
    "\n",
    "# plot(cv_fit)\n",
    "\n",
    "# # 两条虚线分别指示了两个特殊的λ值:\n",
    "# c(cv_fit$lambda.min,cv_fit$lambda.1se) \n",
    "\n",
    "# model_lasso <- glmnet(x=as.matrix(x), y=y, alpha = 1, lambda=cv_fit$lambda.1se\t)\n",
    "# gene_1se <- rownames(model_lasso$beta)[as.numeric(model_lasso$beta)!=0]\n",
    "# #gene_1se = gsub('[.]',' ',gene_1se)\n",
    "\n",
    "# gene_1se\n",
    "\n",
    "# lasso.gene = gene_1se"
   ]
  },
  {
   "cell_type": "code",
   "execution_count": 31,
   "id": "f507351a-c2cc-4820-a72c-bd041e2f6fa6",
   "metadata": {},
   "outputs": [],
   "source": [
    "expr3 = cbind(Group,expr)"
   ]
  },
  {
   "cell_type": "code",
   "execution_count": 32,
   "id": "fff6742e-b818-4803-a99a-ab81e3c7c087",
   "metadata": {},
   "outputs": [],
   "source": [
    "# set.seed(157)  \n",
    "# index <-  which( (1:nrow(expr3))%%3 == 0 )\n",
    "# train <- expr3[-index,]\n",
    "# test <- expr3[index,]\n",
    "\n",
    "# table(test$Group)\n",
    "\n",
    "# library(\"xgboost\")\n",
    "# library(\"Matrix\")\n",
    "# train_matrix <- sparse.model.matrix(Group ~ .-1, data = train)\n",
    "# test_matrix <- sparse.model.matrix(Group ~ .-1, data = test)\n",
    "# all_matrix <- sparse.model.matrix(Group ~ .-1, data = expr3)\n",
    "\n",
    "# train_label <- as.numeric(train$Group == 'CI')\n",
    "# test_label <-  as.numeric(test$Group == 'CI')\n",
    "# all_label <-  as.numeric(expr3$Group == 'CI')\n",
    "\n",
    "\n",
    "\n",
    "# all_label\n",
    "\n",
    "# train_fin <- list(data=train_matrix,label=train_label) \n",
    "# test_fin <- list(data=test_matrix,label=test_label) \n",
    "# all_fin <- list(data=all_matrix,label=all_label) \n",
    "\n",
    "# dtrain <- xgb.DMatrix(data = train_fin$data, label = train_fin$label) \n",
    "# dtest <- xgb.DMatrix(data = test_fin$data, label = test_fin$label)\n",
    "# dall <- xgb.DMatrix(data = all_fin$data, label = all_fin$label)\n",
    "\n",
    "# xgb <- xgboost(data = dall,max_depth=6, eta=0.5,  \n",
    "#   objective='binary:logistic', nround=25)\n",
    "\n",
    "# xgb\n",
    "\n",
    "# importance <- xgb.importance(all_matrix@Dimnames[[2]], model = xgb)  \n",
    "# head(importance)\n",
    "# xgb.ggplot.importance(importance)\n",
    "\n",
    "# xgb.plot.importance(importance)"
   ]
  },
  {
   "cell_type": "markdown",
   "id": "9bbc7a58-1e83-49fb-9470-0635af8e8f6e",
   "metadata": {},
   "source": [
    "### 韦恩图"
   ]
  },
  {
   "cell_type": "code",
   "execution_count": 33,
   "id": "5d1b1981-c746-426c-a099-1a09ef702c00",
   "metadata": {},
   "outputs": [],
   "source": [
    "# SVF.RFE.gene = featureGenes\n",
    "\n",
    "# RF.gene = colnames(sigExp)\n",
    "\n",
    "# XGBoost.gene = importance$Feature\n",
    "\n",
    "# boruta.variable.imp2 = boruta.variable.imp %>% dplyr::filter(finalDecision %in% c('Confirmed')) %>% dplyr::select(Variable) %>% unique()\n",
    "\n",
    "\n",
    "\n",
    "# Boruta.gene = as.vector(boruta.variable.imp2$Variable)\n",
    "\n",
    "# list1 = list(Boruta.gene,XGBoost.gene) #SVF.RFE.gene, RF.gene,\n",
    "\n",
    "# data =  as.data.frame (do.call (cbind, list1))\n",
    "\n",
    "\n",
    "# library(venn)\n",
    "#         library(VennDiagram)\n",
    "#         color=c( \"#3C5488B2\",\"#00A087B2\", \n",
    "#              \"#F39B7FB2\",\"#91D1C2B2\", \n",
    "#              \"#8491B4B2\", \"#DC0000B2\", \n",
    "#              \"#7E6148B2\",\"yellow\", \n",
    "#              \"darkolivegreen1\", \"lightskyblue\", \n",
    "#              \"darkgreen\", \"deeppink\", \"khaki2\", \n",
    "#              \"firebrick\", \"brown1\", \"darkorange1\", \n",
    "#              \"cyan1\", \"royalblue4\", \"darksalmon\", \n",
    "#              \"darkgoldenrod1\", \"darkseagreen\", \"darkorchid\")\n",
    "\n",
    "#     if (ncol(data) == 2){\n",
    "#         sample_list <- list(Boruta.gene = data[,1], XGBoost.gene = data[,2])\n",
    "#     }else if(ncol(data) == 3){\n",
    "#         sample_list <- list(RF.gene = data[,1], Boruta.gene = data[,2], XGBoost.gene = data[,3])\n",
    "#     }else if(ncol(data) == 4){\n",
    "#         sample_list <- list(RF.gene = data[,1], SVF.RFE.gene = data[,2], Boruta.gene = data[,3], XGBoost.gene = data[,4])\n",
    "#     }else{\n",
    "#         sample_list <- list(c1 = data[,1], c2 = data[,2], c3 = data[,3], c4 = data[,4], c5 = data[,5])\n",
    "#     }\n",
    "    \n",
    "#     q <- venn.diagram(sample_list,filename = NULL,\n",
    "#              fill = color[1:(length(sample_list))],\n",
    "#              alpha = 0.50, cat.col = rep('black', ncol(data)), \n",
    "#              col = 'black', cex = 1, fontfamily = 'serif', cat.cex = 1, cat.fontfamily = 'serif', margin = 0.2\n",
    "#                              )\n",
    "#     pdf(paste0('./',\"venn.pdf\"))\n",
    "#     grid.draw(q)\n",
    "#     dev.off()\n",
    "\n",
    "# grid.draw(q)\n",
    "\n",
    "# model.gene = intersect(intersect(intersect(RF.gene,XGBoost.gene),Boruta.gene),SVF.RFE.gene)"
   ]
  },
  {
   "cell_type": "code",
   "execution_count": 34,
   "id": "0b415f66-4df7-448d-8c00-2a3a7264e35b",
   "metadata": {},
   "outputs": [],
   "source": [
    "boruta.variable.imp2 = boruta.variable.imp %>% dplyr::filter(finalDecision %in% c('Confirmed')) %>% dplyr::select(Variable) %>% unique()\n",
    "Boruta.gene = as.vector(boruta.variable.imp2$Variable)"
   ]
  },
  {
   "cell_type": "code",
   "execution_count": 35,
   "id": "72fd6f52-002b-4f39-80ac-ee7df4d89b82",
   "metadata": {},
   "outputs": [],
   "source": [
    "model.gene = Boruta.gene"
   ]
  },
  {
   "cell_type": "code",
   "execution_count": null,
   "id": "d9f6ba5c-ef7b-4bb0-b923-6c34fb7dd224",
   "metadata": {},
   "outputs": [],
   "source": []
  },
  {
   "cell_type": "code",
   "execution_count": null,
   "id": "09c87cf1-fa97-4cf4-bfe0-38f887b3079e",
   "metadata": {},
   "outputs": [],
   "source": []
  },
  {
   "cell_type": "code",
   "execution_count": 36,
   "id": "6a095875-3f27-410d-a373-78adc6360397",
   "metadata": {},
   "outputs": [
    {
     "data": {
      "text/html": [
       "<style>\n",
       ".list-inline {list-style: none; margin:0; padding: 0}\n",
       ".list-inline>li {display: inline-block}\n",
       ".list-inline>li:not(:last-child)::after {content: \"\\00b7\"; padding: 0 .5ex}\n",
       "</style>\n",
       "<ol class=list-inline><li>'ARHGAP6'</li><li>'ARVCF'</li><li>'ATG2A'</li><li>'BZRAP1'</li><li>'CLSTN1'</li><li>'DAB2'</li><li>'EVI2A'</li><li>'F2R'</li><li>'FAM200B'</li><li>'FLNA'</li><li>'GPR56'</li><li>'HCFC1'</li><li>'KIFC3'</li><li>'KIR2DL1'</li><li>'MAP1A'</li><li>'OSBPL7'</li><li>'PDGFA'</li><li>'PER1'</li><li>'PILRB'</li><li>'PITPNM2'</li><li>'PRF1'</li><li>'PTPRS'</li><li>'SAMD9'</li><li>'SCN9A'</li><li>'SH3TC2'</li><li>'STON2'</li><li>'SUMO4'</li><li>'TLN1'</li><li>'TXN'</li><li>'VCL'</li></ol>\n"
      ],
      "text/latex": [
       "\\begin{enumerate*}\n",
       "\\item 'ARHGAP6'\n",
       "\\item 'ARVCF'\n",
       "\\item 'ATG2A'\n",
       "\\item 'BZRAP1'\n",
       "\\item 'CLSTN1'\n",
       "\\item 'DAB2'\n",
       "\\item 'EVI2A'\n",
       "\\item 'F2R'\n",
       "\\item 'FAM200B'\n",
       "\\item 'FLNA'\n",
       "\\item 'GPR56'\n",
       "\\item 'HCFC1'\n",
       "\\item 'KIFC3'\n",
       "\\item 'KIR2DL1'\n",
       "\\item 'MAP1A'\n",
       "\\item 'OSBPL7'\n",
       "\\item 'PDGFA'\n",
       "\\item 'PER1'\n",
       "\\item 'PILRB'\n",
       "\\item 'PITPNM2'\n",
       "\\item 'PRF1'\n",
       "\\item 'PTPRS'\n",
       "\\item 'SAMD9'\n",
       "\\item 'SCN9A'\n",
       "\\item 'SH3TC2'\n",
       "\\item 'STON2'\n",
       "\\item 'SUMO4'\n",
       "\\item 'TLN1'\n",
       "\\item 'TXN'\n",
       "\\item 'VCL'\n",
       "\\end{enumerate*}\n"
      ],
      "text/markdown": [
       "1. 'ARHGAP6'\n",
       "2. 'ARVCF'\n",
       "3. 'ATG2A'\n",
       "4. 'BZRAP1'\n",
       "5. 'CLSTN1'\n",
       "6. 'DAB2'\n",
       "7. 'EVI2A'\n",
       "8. 'F2R'\n",
       "9. 'FAM200B'\n",
       "10. 'FLNA'\n",
       "11. 'GPR56'\n",
       "12. 'HCFC1'\n",
       "13. 'KIFC3'\n",
       "14. 'KIR2DL1'\n",
       "15. 'MAP1A'\n",
       "16. 'OSBPL7'\n",
       "17. 'PDGFA'\n",
       "18. 'PER1'\n",
       "19. 'PILRB'\n",
       "20. 'PITPNM2'\n",
       "21. 'PRF1'\n",
       "22. 'PTPRS'\n",
       "23. 'SAMD9'\n",
       "24. 'SCN9A'\n",
       "25. 'SH3TC2'\n",
       "26. 'STON2'\n",
       "27. 'SUMO4'\n",
       "28. 'TLN1'\n",
       "29. 'TXN'\n",
       "30. 'VCL'\n",
       "\n",
       "\n"
      ],
      "text/plain": [
       " [1] \"ARHGAP6\" \"ARVCF\"   \"ATG2A\"   \"BZRAP1\"  \"CLSTN1\"  \"DAB2\"    \"EVI2A\"  \n",
       " [8] \"F2R\"     \"FAM200B\" \"FLNA\"    \"GPR56\"   \"HCFC1\"   \"KIFC3\"   \"KIR2DL1\"\n",
       "[15] \"MAP1A\"   \"OSBPL7\"  \"PDGFA\"   \"PER1\"    \"PILRB\"   \"PITPNM2\" \"PRF1\"   \n",
       "[22] \"PTPRS\"   \"SAMD9\"   \"SCN9A\"   \"SH3TC2\"  \"STON2\"   \"SUMO4\"   \"TLN1\"   \n",
       "[29] \"TXN\"     \"VCL\"    "
      ]
     },
     "metadata": {},
     "output_type": "display_data"
    }
   ],
   "source": [
    "model.gene"
   ]
  },
  {
   "cell_type": "code",
   "execution_count": 37,
   "id": "27fbd29e-7a95-4f3f-be82-c3bfa28a8fd2",
   "metadata": {},
   "outputs": [
    {
     "ename": "ERROR",
     "evalue": "Error in eval(expr, envir, enclos): object 'a' not found\n",
     "output_type": "error",
     "traceback": [
      "Error in eval(expr, envir, enclos): object 'a' not found\nTraceback:\n"
     ]
    }
   ],
   "source": [
    "a"
   ]
  },
  {
   "cell_type": "code",
   "execution_count": null,
   "id": "4150aa52-7dba-4992-807c-a001e11a859c",
   "metadata": {},
   "outputs": [],
   "source": [
    "a  = names(rfGenes)[1:25]"
   ]
  },
  {
   "cell_type": "code",
   "execution_count": null,
   "id": "7f30a4c8-928a-49d2-b1e0-823963cce47f",
   "metadata": {},
   "outputs": [],
   "source": [
    "# model.gene = names(rfGenes)[1:20]\n",
    "\n",
    "# model.gene = intersect(Boruta.gene,names(rfGenes)[1:30])\n",
    "\n",
    "model.gene =a"
   ]
  },
  {
   "cell_type": "code",
   "execution_count": null,
   "id": "04c84fee-aa7c-4daa-ad11-b83c643a6e97",
   "metadata": {},
   "outputs": [],
   "source": [
    "model.gene"
   ]
  },
  {
   "cell_type": "code",
   "execution_count": null,
   "id": "6cb691bd-2d72-4837-b47a-5e7c0a16d5cb",
   "metadata": {},
   "outputs": [],
   "source": [
    "set.seed(1234)"
   ]
  },
  {
   "cell_type": "code",
   "execution_count": null,
   "id": "fe3734a8-ab41-4863-b71e-755cf03122e1",
   "metadata": {},
   "outputs": [],
   "source": [
    "expr = as.data.frame(apply(expr,2,as.numeric))"
   ]
  },
  {
   "cell_type": "code",
   "execution_count": null,
   "id": "60801e91-7940-4cbf-b541-0ca7fb67cd71",
   "metadata": {},
   "outputs": [],
   "source": [
    "expr3 = as.data.frame(cbind(Group,expr))"
   ]
  },
  {
   "cell_type": "code",
   "execution_count": null,
   "id": "9e04abf2-3a9e-4c50-9d86-58a7cd6f7342",
   "metadata": {},
   "outputs": [],
   "source": [
    "expr3$Group = ifelse(expr3$Group == 'CI',1,0)"
   ]
  },
  {
   "cell_type": "code",
   "execution_count": null,
   "id": "28380401-3622-41cf-9e6b-9bfb2f59492e",
   "metadata": {},
   "outputs": [],
   "source": [
    "expr3$Group = as.factor(expr3$Group)"
   ]
  },
  {
   "cell_type": "code",
   "execution_count": null,
   "id": "9c3b879f-1b40-45f7-9aaa-f1909ee6aaf3",
   "metadata": {},
   "outputs": [],
   "source": [
    "expr4 = expr3 %>% dplyr::select(c(Group,model.gene))"
   ]
  },
  {
   "cell_type": "code",
   "execution_count": null,
   "id": "5ef5cfa5-901b-4e64-9f10-8775cc89fce8",
   "metadata": {},
   "outputs": [],
   "source": [
    "dim(expr4)"
   ]
  },
  {
   "cell_type": "code",
   "execution_count": null,
   "id": "a68de7ce-0c16-4db1-93f7-8e4f510f9fa4",
   "metadata": {},
   "outputs": [],
   "source": [
    "head(expr4,4)"
   ]
  },
  {
   "cell_type": "code",
   "execution_count": null,
   "id": "48b7988e-d5b8-4cd7-9680-b550d1bde730",
   "metadata": {},
   "outputs": [],
   "source": [
    "library(caret)\n",
    "library(ggplot2)"
   ]
  },
  {
   "cell_type": "markdown",
   "id": "c9bc40ad-1601-4491-afe9-4f0a67cf391b",
   "metadata": {},
   "source": [
    "### 这里使用48个基因先看看情况\n",
    "\n"
   ]
  },
  {
   "cell_type": "code",
   "execution_count": null,
   "id": "c19006af-1d46-4f7e-aeec-74227735cdde",
   "metadata": {},
   "outputs": [],
   "source": [
    "library(caret)\n",
    "library(ggplot2)\n",
    "\n",
    " a = c()\n",
    "# \n",
    "for (i in model.gene){\n",
    "    res<-pROC::roc(Group~expr4[,i],data=expr4,aur=TRUE,\n",
    "         ci=TRUE, # 显示95%CI\n",
    "         #percent=TRUE, # 是否需要以百分比显示\n",
    "         smooth=FALSE,# 是否平滑曲线\n",
    "         levels=c(0,1),direction=\"<\" #设置分组方向\n",
    "         )\n",
    "    if (res$auc > 0.7){\n",
    "        a = append(a,i)\n",
    "        print(paste0(i,' ',res$auc))\n",
    "        p = pROC::ggroc(res, color =\"red\",legacy.axes = TRUE)+\n",
    "  geom_segment(aes(x = 0, xend = 1, y = 0, yend = 1), color=\"darkgrey\", linetype=4)+\n",
    "  theme_bw() + # 设置背景\n",
    "  ggtitle(paste0(i,\" ROC Curve\"))+\n",
    "  theme(plot.title = element_text(hjust = 0.5,size = 16),\n",
    "        axis.text=element_text(size=12,colour = \"black\"),\n",
    "        axis.title.x = element_text(size = 14),\n",
    "        axis.title.y = element_text(size = 14))\n",
    "p+annotate(\"text\",x=0.75,y=0.25,label=paste(\"AUC = \", round(res$auc,3)))+\n",
    "  annotate(\"text\",x=0.75,y=0.20,label=paste(\"95%CI: \", round(res$ci[1],3),'-',round(res$ci[3],3)))\n",
    "    ggsave(file = paste0(i,'.ROC.pdf'))\n",
    "}else{\n",
    "        \n",
    "}\n",
    "\n",
    "    \n",
    "    }"
   ]
  },
  {
   "cell_type": "markdown",
   "id": "d157d346-4a53-4133-b0d2-f2a92aea9d56",
   "metadata": {},
   "source": [
    "### 批量单因素逻辑回归"
   ]
  },
  {
   "cell_type": "code",
   "execution_count": null,
   "id": "ea1ccfa4-1f08-4e46-85a9-e0e06b19b3be",
   "metadata": {},
   "outputs": [],
   "source": [
    "a"
   ]
  },
  {
   "cell_type": "code",
   "execution_count": null,
   "id": "8ed43a61-fbbe-4a82-86b6-ecf83f9d4593",
   "metadata": {},
   "outputs": [],
   "source": [
    "expr4 = expr4[,c('Group',a)]"
   ]
  },
  {
   "cell_type": "code",
   "execution_count": null,
   "id": "2e4d302d-7a45-4d41-8429-a3d9809876f5",
   "metadata": {
    "scrolled": true
   },
   "outputs": [],
   "source": [
    "#结果合并需要的包\n",
    "library(plyr)\n",
    "#可进行logistic回归的包\n",
    "library(rms)#可实现逻辑回归模型（lrm）\n",
    "library(epiDisplay)#快速输出OR、95%CI、P\n",
    "#library(gtsummary)#精美三线表（但，95%CI有误）"
   ]
  },
  {
   "cell_type": "code",
   "execution_count": null,
   "id": "e368e801-d28e-41ff-aee0-d4ef2ca39cd6",
   "metadata": {},
   "outputs": [],
   "source": [
    "varsU<-names(expr4[,2:dim(expr4)[2]])"
   ]
  },
  {
   "cell_type": "code",
   "execution_count": null,
   "id": "994ce7b1-913e-4a3d-8a4a-956d9d357864",
   "metadata": {},
   "outputs": [],
   "source": [
    "Result<-c()\n",
    "for (i in 1:length(varsU)){\n",
    "  fit<-glm(substitute(Group~x,list(x=as.name(varsU[i]))),data=expr4,family=binomial())\n",
    "  fitSum<-summary(fit)\n",
    "  result1<-c()\n",
    "  result1<-rbind(result1,fitSum$coef)\n",
    "  OR<-exp(fitSum$coef[,'Estimate'])\n",
    "  result1<-data.frame(cbind(result1,cbind(OR,exp(confint(fit)))))\n",
    "  result1$Characteristics<-varsU[i]   #添加变量名\n",
    "  Result<-rbind(Result,result1[-1,])#[-1,],删除常数项\n",
    "}"
   ]
  },
  {
   "cell_type": "code",
   "execution_count": null,
   "id": "032500b6-8970-4ded-a236-242e7cd50dff",
   "metadata": {},
   "outputs": [],
   "source": [
    "Result"
   ]
  },
  {
   "cell_type": "code",
   "execution_count": null,
   "id": "148299e8-ac34-43f6-8b34-496935b611c3",
   "metadata": {},
   "outputs": [],
   "source": [
    "Uni_log<-data.frame(Result[,c(1,4:8)]) #提取\"P\",\"OR\",\"CIlower\",\"CIupper\"和变量名\n",
    "\n",
    "colnames(Uni_log)[2:5]<-c(\"P\",\"OR\",\"CIlower\",\"CIupper\")#变量重命名\n",
    "\n",
    "ExtractVar<-unique(Uni_log$Characteristics[Uni_log$\"P\"<0.05]) "
   ]
  },
  {
   "cell_type": "code",
   "execution_count": null,
   "id": "7c08917b-e457-4f99-b725-5a78db04270a",
   "metadata": {},
   "outputs": [],
   "source": [
    "tzgene = Uni_log %>% dplyr::filter(P < 0.05) %>% rownames()"
   ]
  },
  {
   "cell_type": "code",
   "execution_count": null,
   "id": "2b35911c-3a54-40f7-a801-7b01b57aca16",
   "metadata": {},
   "outputs": [],
   "source": [
    "Uni_log[tzgene,]"
   ]
  },
  {
   "cell_type": "markdown",
   "id": "232747e0-8e0a-4a1a-a963-788be809fe24",
   "metadata": {},
   "source": [
    "### 多因素分析"
   ]
  },
  {
   "cell_type": "code",
   "execution_count": null,
   "id": "607567dc-7ff4-40cc-9f88-59958dd38215",
   "metadata": {},
   "outputs": [],
   "source": [
    "#tzgene = tzgene[-c(1,5)]"
   ]
  },
  {
   "cell_type": "code",
   "execution_count": null,
   "id": "0b9b3332-c208-4dad-b2d0-a1e1d7a2f11a",
   "metadata": {},
   "outputs": [],
   "source": [
    "tzgene"
   ]
  },
  {
   "cell_type": "code",
   "execution_count": null,
   "id": "9a29f3e9-02ef-4987-899e-0a7ea6408f6c",
   "metadata": {},
   "outputs": [],
   "source": [
    "#tzgene1 = tzgene[-5]"
   ]
  },
  {
   "cell_type": "code",
   "execution_count": null,
   "id": "f421a627-cea3-4472-9d7d-eabb65d4b253",
   "metadata": {},
   "outputs": [],
   "source": [
    "data = expr4[,c('Group',tzgene)]\n",
    "data$Group = factor(data$Group,levels = c(0,1))"
   ]
  },
  {
   "cell_type": "code",
   "execution_count": null,
   "id": "45593c9a-5ec2-40ee-9f5f-0cd8b8bfdf06",
   "metadata": {},
   "outputs": [],
   "source": [
    "fit.reduce<-glm(Group~.,data=data,family=binomial())\n",
    "summary(fit.reduce)"
   ]
  },
  {
   "cell_type": "code",
   "execution_count": null,
   "id": "360a430e-9388-4fe4-91ee-e7995c29c187",
   "metadata": {
    "scrolled": true
   },
   "outputs": [],
   "source": [
    "logit.step <- step(fit.reduce,direction='both')\n",
    "summary(logit.step)"
   ]
  },
  {
   "cell_type": "code",
   "execution_count": null,
   "id": "d09d5fb1-b54b-4f0a-a8ad-19c4fa653d37",
   "metadata": {
    "scrolled": true
   },
   "outputs": [],
   "source": [
    "\n",
    "\n",
    "# train_sub = sample(nrow(data),9/10*nrow(data))\n",
    "# train_data = data[train_sub,]\n",
    "# test_data =data[-train_sub,]\n",
    "\n",
    "# fit.reduce<-glm(Group~.,data=data,family=binomial())\n",
    "# summary(fit.reduce)\n",
    "\n",
    "formatFit<-function(fit){\n",
    "  #取P值\n",
    "  p<-summary(fit)$coefficients[,4]\n",
    "  #wald值\n",
    "  wald<-summary(fit)$coefficients[,3]^2\n",
    "  #B值\n",
    "  valueB<-coef(fit)\n",
    "  #OR值\n",
    "  valueOR<-exp(coef(fit))\n",
    "  #OR值得95%CI\n",
    "  confitOR<-exp(confint(fit))\n",
    "  data.frame(\n",
    "    B=round(valueB,3),\n",
    "    Wald=round(wald,3),\n",
    "    OR_with_CI=paste(round(valueOR,3),\"(\",\n",
    "               round(confitOR[,1],3),\"~\",round(confitOR[,2],3),\")\",sep=\"\"),\n",
    "    P=format.pval(p,digits = 3,eps=0.001)\n",
    "  )\n",
    "}\n",
    "\n",
    "formatFit(logit.step)"
   ]
  },
  {
   "cell_type": "code",
   "execution_count": null,
   "id": "de244ff6-db8c-4f0e-a156-115066a2da55",
   "metadata": {},
   "outputs": [],
   "source": []
  },
  {
   "cell_type": "code",
   "execution_count": null,
   "id": "1c8f6f0f-bd58-485d-8583-83f6a1c6add4",
   "metadata": {},
   "outputs": [],
   "source": []
  },
  {
   "cell_type": "code",
   "execution_count": null,
   "id": "7e8e1430-a866-4bd0-80ca-225db660e279",
   "metadata": {},
   "outputs": [],
   "source": []
  },
  {
   "cell_type": "code",
   "execution_count": null,
   "id": "4ba4c170-db30-4b04-bc0a-c026ba620b1e",
   "metadata": {},
   "outputs": [],
   "source": []
  },
  {
   "cell_type": "code",
   "execution_count": null,
   "id": "ee9158ed-d97f-4df7-88ee-d8df107f2e55",
   "metadata": {},
   "outputs": [],
   "source": []
  },
  {
   "cell_type": "code",
   "execution_count": null,
   "id": "59b92326-8327-4e07-981b-a8d5bd9a4168",
   "metadata": {},
   "outputs": [],
   "source": []
  },
  {
   "cell_type": "code",
   "execution_count": null,
   "id": "0d73c02e-9a84-461d-9f96-a2f3aee8f43e",
   "metadata": {},
   "outputs": [],
   "source": []
  },
  {
   "cell_type": "code",
   "execution_count": null,
   "id": "3214a925-b797-4196-8267-3c4a4a9b38da",
   "metadata": {},
   "outputs": [],
   "source": []
  },
  {
   "cell_type": "code",
   "execution_count": null,
   "id": "5bbb80b1-a8e7-4645-924f-9d7f0fbe8c02",
   "metadata": {},
   "outputs": [],
   "source": [
    "a"
   ]
  },
  {
   "cell_type": "code",
   "execution_count": null,
   "id": "1e759b26-f294-4097-8541-6fddaf0457b8",
   "metadata": {},
   "outputs": [],
   "source": [
    "b = rownames(formatFit(logit.step))[2:length(rownames(formatFit(logit.step)))]"
   ]
  },
  {
   "cell_type": "code",
   "execution_count": null,
   "id": "cd16c8cc-6758-4ab4-9ef2-42439bcb5a7e",
   "metadata": {},
   "outputs": [],
   "source": [
    "data = data[,c('Group',b)]"
   ]
  },
  {
   "cell_type": "code",
   "execution_count": null,
   "id": "2661dbbf-c0c4-44cd-9dfa-43caf53d723c",
   "metadata": {},
   "outputs": [],
   "source": []
  },
  {
   "cell_type": "code",
   "execution_count": null,
   "id": "d3a0a32a-af83-48f8-a609-caa731beabc8",
   "metadata": {},
   "outputs": [],
   "source": [
    "set.seed(101)\n",
    "#单纯10折交叉验证，time=1\n",
    "folds <-createMultiFolds(y=data$Group,k=5,times=10)\n",
    "#10次批量训练与验证\n",
    "#做成循环\n",
    "auc_value<-as.numeric()\n",
    "for(i in 1:10){ \n",
    "  train<- data[ folds[[i]],] \n",
    "  test <- data[-folds[[i]],] \n",
    "  model<-glm(Group~.,data=train ,family=binomial())\n",
    "    \n",
    "  model_pre<-predict(model,type='response', newdata=train)\n",
    "  auc_value<- append(auc_value,\n",
    "                     as.numeric(pROC::auc(as.numeric(train[,1]),model_pre)))\n",
    "}\n",
    "mean(auc_value)"
   ]
  },
  {
   "cell_type": "code",
   "execution_count": null,
   "id": "61d11a9a-5d9f-4fef-89af-92c41af2385a",
   "metadata": {},
   "outputs": [],
   "source": [
    "auc_value"
   ]
  },
  {
   "cell_type": "code",
   "execution_count": null,
   "id": "2832f091-ce0a-410e-8820-1f27aba6e695",
   "metadata": {},
   "outputs": [],
   "source": [
    "num <- which.max(auc_value)"
   ]
  },
  {
   "cell_type": "code",
   "execution_count": null,
   "id": "d4724727-661d-4cff-b58a-5b8d0e27df36",
   "metadata": {},
   "outputs": [],
   "source": [
    "train<- data[ folds[[num]],] \n",
    "test <- data[-folds[[num]],] "
   ]
  },
  {
   "cell_type": "markdown",
   "id": "a73ca1ae-05d8-4e6b-a830-6f6745b7c7cb",
   "metadata": {},
   "source": [
    "### https://www.jianshu.com/p/e53508d2258f"
   ]
  },
  {
   "cell_type": "code",
   "execution_count": null,
   "id": "f3972ffa-9b94-4efc-bf75-4a34e5d34255",
   "metadata": {},
   "outputs": [],
   "source": [
    "library(rms)\n",
    "dd <- datadist(train)\n",
    "options(datadist=\"dd\")\n",
    "fit1 <- lrm(Group ~.,\n",
    "            data = train,x=T,y=T)\n",
    "cal1 <- calibrate(fit1, method='boot', B=100)"
   ]
  },
  {
   "cell_type": "code",
   "execution_count": null,
   "id": "1ccc1b4a-616b-44e8-bdde-6264794196af",
   "metadata": {},
   "outputs": [],
   "source": [
    "plot(cal1,\n",
    "     xlim = c(0,1),\n",
    "     xlab = \"Predicted Probability\",\n",
    "     ylab = \"Observed Probability\",\n",
    "     legend = FALSE,\n",
    "     subtitles = FALSE)\n",
    "abline(0,1,col = \"black\",lty = 2,lwd = 2)\n",
    "lines(cal1[,c(\"predy\",\"calibrated.orig\")], type = \"l\",lwd = 2,col=\"red\",pch =16)\n",
    "lines(cal1[,c(\"predy\",\"calibrated.corrected\")], type = \"l\",lwd = 2,col=\"green\",pch =16)\n",
    "legend(0.55,0.35,\n",
    "       c(\"Apparent\",\"Ideal\",\"Bias-corrected\"),\n",
    "       lty = c(2,1,1),\n",
    "       lwd = c(2,1,1),\n",
    "       col = c(\"black\",\"red\",\"green\"),\n",
    "       bty = \"n\") # \"o\"为加边框"
   ]
  },
  {
   "cell_type": "code",
   "execution_count": null,
   "id": "7397f202-7216-4af9-a5c1-4ed6df4f45c0",
   "metadata": {},
   "outputs": [],
   "source": [
    "pdf('aaa.pdf',height = 6,width = 6)\n",
    "plot(cal1,\n",
    "     xlim = c(0,1),\n",
    "     xlab = \"Predicted Probability\",\n",
    "     ylab = \"Observed Probability\",\n",
    "     legend = FALSE,\n",
    "     subtitles = FALSE)\n",
    "abline(0,1,col = \"black\",lty = 2,lwd = 2)\n",
    "lines(cal1[,c(\"predy\",\"calibrated.orig\")], type = \"l\",lwd = 2,col=\"red\",pch =16)\n",
    "lines(cal1[,c(\"predy\",\"calibrated.corrected\")], type = \"l\",lwd = 2,col=\"green\",pch =16)\n",
    "legend(0.55,0.35,\n",
    "       c(\"Apparent\",\"Ideal\",\"Bias-corrected\"),\n",
    "       lty = c(2,1,1),\n",
    "       lwd = c(2,1,1),\n",
    "       col = c(\"black\",\"red\",\"green\"),\n",
    "       bty = \"n\") # \"o\"为加边框\n",
    "dev.off()"
   ]
  },
  {
   "cell_type": "code",
   "execution_count": null,
   "id": "911cfd05-b61a-4056-8607-91c5a57d1be9",
   "metadata": {},
   "outputs": [],
   "source": [
    "fold_pre <- glm(Group~.,data=train,family=binomial())"
   ]
  },
  {
   "cell_type": "code",
   "execution_count": null,
   "id": "54eb95b6-26de-4abb-9069-6ac2bf076c0e",
   "metadata": {},
   "outputs": [],
   "source": []
  },
  {
   "cell_type": "code",
   "execution_count": null,
   "id": "97aad0d0-03bd-4bfb-9d15-85099ae14ec8",
   "metadata": {},
   "outputs": [],
   "source": []
  },
  {
   "cell_type": "code",
   "execution_count": null,
   "id": "c5649390-8666-4933-8575-12a848d22f20",
   "metadata": {},
   "outputs": [],
   "source": [
    "fold_predict <- predict(fold_pre,type='response',newdata=data)"
   ]
  },
  {
   "cell_type": "code",
   "execution_count": null,
   "id": "29b9cada-1e23-463c-85d1-8b6c95b25627",
   "metadata": {},
   "outputs": [],
   "source": []
  },
  {
   "cell_type": "code",
   "execution_count": null,
   "id": "989bf4a6-9d5f-4913-a8d8-da03e21b76a1",
   "metadata": {},
   "outputs": [],
   "source": []
  },
  {
   "cell_type": "code",
   "execution_count": null,
   "id": "c423a79a-6daa-473e-bce5-800e91bab4a9",
   "metadata": {},
   "outputs": [],
   "source": [
    "options(repr.plot.height = 6,repr.plot.width = 6)"
   ]
  },
  {
   "cell_type": "code",
   "execution_count": null,
   "id": "de50b086-2e95-41e0-a529-1332e8daa62d",
   "metadata": {},
   "outputs": [],
   "source": [
    "library(pROC)"
   ]
  },
  {
   "cell_type": "code",
   "execution_count": null,
   "id": "15371834-e6c4-489a-8ae9-05f644216a39",
   "metadata": {},
   "outputs": [],
   "source": [
    "res <- roc(data$Group,data$BCL2A1,ci=T,auc=T)"
   ]
  },
  {
   "cell_type": "code",
   "execution_count": null,
   "id": "d5337439-5436-4633-adef-298e8e1ac8ca",
   "metadata": {},
   "outputs": [],
   "source": [
    "pdf('ROC.pdf',height = 6,width = 6)\n",
    "rocobj1 <- plot.roc(data$Group, data$BCL2A1,percent=TRUE, levels=c(0,1),direction=\"<\",col=\"#1c61b6\")\n",
    "rocobj2 <- lines.roc(data$Group, data$FAM200B,percent=TRUE, levels=c(0,1),direction=\"<\", col=\"#008600\")\n",
    "rocobj3 <- lines.roc(data$Group, data$IGJ,percent=TRUE, levels=c(0,1),direction=\"<\", col=\"#9C6D35\")\n",
    "rocobj4 <- lines.roc(data$Group, data$TXN,percent=TRUE, levels=c(0,1),direction=\"<\", col=\"#9F1A70\")\n",
    "rocobj5 <- lines.roc(data$Group, fold_predict,percent=TRUE, levels=c(0,1),direction=\"<\", col=\"#491A9F\")\n",
    "legend(\"right\", legend=c(paste0(\"BCL2A1 \", round(rocobj1$auc/100,digits = 2)),\n",
    "                               paste0(\"FAM200B \", round(rocobj2$auc/100,digits = 2)),\n",
    "                               paste0(\"IGJ \", round(rocobj3$auc/100,digits = 2)),\n",
    "                               paste0(\"TXN \", round(rocobj4$auc/100,digits = 2)),\n",
    "                               paste0(\"fold_predict \", round(rocobj5$auc/100,digits = 2))),\n",
    "       col=c(\"#1c61b6\", \"#008600\",\"#9C6D35\",\"#9F1A70\",\"#491A9F\"), lwd=1)\n",
    "dev.off()"
   ]
  },
  {
   "cell_type": "code",
   "execution_count": null,
   "id": "6a2d4b34-54a7-4230-9726-c4cbb52e22ab",
   "metadata": {},
   "outputs": [],
   "source": [
    "rocobj1 <- plot.roc(data$Group, data$BCL2A1,percent=TRUE, levels=c(0,1),direction=\"<\",col=\"#1c61b6\")\n",
    "rocobj2 <- lines.roc(data$Group, data$FAM200B,percent=TRUE, levels=c(0,1),direction=\"<\", col=\"#008600\")\n",
    "rocobj3 <- lines.roc(data$Group, data$IGJ,percent=TRUE, levels=c(0,1),direction=\"<\", col=\"#9C6D35\")\n",
    "rocobj4 <- lines.roc(data$Group, data$TXN,percent=TRUE, levels=c(0,1),direction=\"<\", col=\"#9F1A70\")\n",
    "rocobj5 <- lines.roc(data$Group, fold_predict,percent=TRUE, levels=c(0,1),direction=\"<\", col=\"#491A9F\")\n",
    "legend(\"right\", legend=c(paste0(\"BCL2A1 \", round(rocobj1$auc/100,digits = 2)),\n",
    "                               paste0(\"FAM200B \", round(rocobj2$auc/100,digits = 2)),\n",
    "                               paste0(\"IGJ \", round(rocobj3$auc/100,digits = 2)),\n",
    "                               paste0(\"TXN \", round(rocobj4$auc/100,digits = 2)),\n",
    "                               paste0(\"fold_predict \", round(rocobj5$auc/100,digits = 2))),\n",
    "       col=c(\"#1c61b6\", \"#008600\",\"#9C6D35\",\"#9F1A70\",\"#491A9F\"), lwd=1)\n",
    "# testobj <- roc.test(rocobj1, rocobj2)\n",
    "# text(50, 50, labels=paste(\"p-value =\", format.pval(testobj$p.value)), adj=c(0, .5))"
   ]
  },
  {
   "cell_type": "code",
   "execution_count": null,
   "id": "06711ea1-e70a-43e2-8b3a-3f8022f58909",
   "metadata": {},
   "outputs": [],
   "source": []
  },
  {
   "cell_type": "code",
   "execution_count": null,
   "id": "bb46040a-0694-43e6-9b44-0c6971f15d62",
   "metadata": {},
   "outputs": [],
   "source": []
  },
  {
   "cell_type": "code",
   "execution_count": null,
   "id": "691976f8-d59c-4f40-8072-ebb3d166419d",
   "metadata": {},
   "outputs": [],
   "source": []
  },
  {
   "cell_type": "code",
   "execution_count": null,
   "id": "e2e7780c-94b6-4c77-baf2-5a076a0d7c10",
   "metadata": {},
   "outputs": [],
   "source": []
  },
  {
   "cell_type": "code",
   "execution_count": null,
   "id": "3426b747-dec8-47a7-ac6a-02049060d7ab",
   "metadata": {},
   "outputs": [],
   "source": []
  },
  {
   "cell_type": "code",
   "execution_count": null,
   "id": "a1c3861d-828a-4013-a22d-0c71258592f8",
   "metadata": {},
   "outputs": [],
   "source": []
  },
  {
   "cell_type": "code",
   "execution_count": null,
   "id": "e4c3e31e-b803-4b9c-8bc9-131b2e513991",
   "metadata": {},
   "outputs": [],
   "source": [
    "# roc_curve <- pROC::roc(Group,fold_predict)\n",
    "# plot(roc_curve, print.auc=TRUE, auc.polygon=TRUE, grid=c(0.1, 0.2),\n",
    "#      grid.col=c(\"green\", \"red\"), max.auc.polygon=TRUE,#legacy.axes= TRUE,\n",
    "#      auc.polygon.col=\"skyblue\", print.thres=TRUE,main=\"ROC curve for the set with the largest AUC value\")"
   ]
  },
  {
   "cell_type": "code",
   "execution_count": null,
   "id": "ec26a97f-04cc-4c18-b8af-1d7f2959457e",
   "metadata": {},
   "outputs": [],
   "source": [
    "library(\"autoReg\")\n",
    "overall.log =  glm(Group~.,data=data,family=binomial())\n",
    "model3<-autoReg(overall.log,uni=TRUE,milti=TRUE,threshold=0.05)\n",
    "model3"
   ]
  },
  {
   "cell_type": "code",
   "execution_count": null,
   "id": "4626f6a5-1cf9-4d63-bea5-5ba8d785970f",
   "metadata": {},
   "outputs": [],
   "source": [
    "options(repr.plot.width = 8)"
   ]
  },
  {
   "cell_type": "code",
   "execution_count": null,
   "id": "27a30aaa-4a36-472d-9348-44cdad058feb",
   "metadata": {},
   "outputs": [],
   "source": [
    "modelPlot(overall.log,change.pointsize = T)"
   ]
  },
  {
   "cell_type": "code",
   "execution_count": null,
   "id": "f9ffdc27-d752-41aa-bd3a-c6796bbffdce",
   "metadata": {},
   "outputs": [],
   "source": [
    "pdf('multi.pdf',height = 6,width = 5)\n",
    "modelPlot(overall.log,change.pointsize = T)\n",
    "dev.off()"
   ]
  },
  {
   "cell_type": "code",
   "execution_count": null,
   "id": "25f89956-8727-47ee-b16e-7b2f2eb2fe6c",
   "metadata": {},
   "outputs": [],
   "source": [
    "library(ROCR)\n",
    "dd<-datadist(data)  #开始打包数据\n",
    "options(datadist=\"dd\")\n",
    "data$Group = as.factor(data$Group)\n",
    "fit1 <- lrm(Group~. , data=data,x=T,y=T)\n",
    "save(fit1,data,file = 'train.fit1.rda')"
   ]
  },
  {
   "cell_type": "code",
   "execution_count": null,
   "id": "1f6810aa-c8e7-46f4-9028-0d335e534154",
   "metadata": {},
   "outputs": [],
   "source": [
    "# library(rms)   ###加载rms包#\n",
    "# #f = readRDS('C:/Users/Bonjour/Desktop/bulk2.fit1.rds')\n",
    "# load(paste0(getwd(),'/train.fit1.rda'))\n",
    "# summary(fit1) \n",
    "\n",
    "# library('regplot')\n",
    "# regplot(fit1,\n",
    "#         plots = c(\"violin\", \"boxes\"), ##连续性变量形状，可选\"no plot\" \"density\" \"boxes\" \"ecdf\" \"bars\" \"boxplot\" \"violin\" \"bean\" \"spikes\"；分类变量的形状，可选\"no plot\" \"boxes\" \"bars\" \"spikes\"\n",
    "#         observation = data[1,], #用哪行观测，或者T F\n",
    "#         center = F, # 对齐变量\n",
    "#         subticks = F,\n",
    "#         droplines = F,#是否画竖线\n",
    "#         title = \"nomogram\",\n",
    "#         points = T, # 截距项显示为0-100\n",
    "#         odds = F, # 是否显示OR值\n",
    "#         showP = T, # 是否显示变量的显著性标记\n",
    "#         rank = \"sd\", # 根据sd给变量排序\n",
    "#         interval=\"confidence\", # 展示可信区间\n",
    "#         clickable = F # 是否可以交互\n",
    "# )\n",
    "# ggsave('forest.pdf',height = 8,width = 8)"
   ]
  },
  {
   "cell_type": "code",
   "execution_count": null,
   "id": "ba37cd9e-298d-4927-8f1b-81faac937997",
   "metadata": {
    "scrolled": true
   },
   "outputs": [],
   "source": [
    "require(cowplot)\n",
    "require(tidyverse)\n",
    "require(ggplot2)\n",
    "require(ggsci)\n",
    "require(ggpubr)"
   ]
  },
  {
   "cell_type": "code",
   "execution_count": null,
   "id": "e76c28ea-7eb0-49fd-b0aa-de099520861d",
   "metadata": {},
   "outputs": [],
   "source": [
    "head(data,2)"
   ]
  },
  {
   "cell_type": "code",
   "execution_count": null,
   "id": "a8727a30-48f9-4d4a-8cd2-2c910bd2e8a5",
   "metadata": {},
   "outputs": [],
   "source": [
    "data1 = data"
   ]
  },
  {
   "cell_type": "code",
   "execution_count": null,
   "id": "7940e426-f9c1-4cd6-aa36-eb763cda424e",
   "metadata": {},
   "outputs": [],
   "source": [
    "data1$Group = ifelse(data1$Group == 1,'CI','Con')"
   ]
  },
  {
   "cell_type": "code",
   "execution_count": null,
   "id": "11056b34-603c-447c-b3be-19efb2e72654",
   "metadata": {},
   "outputs": [],
   "source": [
    "mydata<-data1 %>% \n",
    "  ## 基因表达数据gather,gather的范围应调整\n",
    "  gather(key=\"gene\",value=\"Expression\",FAM200B:TXN) %>% \n",
    "  ##\n",
    "  dplyr::select(Group,gene,Expression) "
   ]
  },
  {
   "cell_type": "code",
   "execution_count": null,
   "id": "fbf33000-dbf0-485b-a435-702f2b0e3ea7",
   "metadata": {},
   "outputs": [],
   "source": [
    "compare_means( Expression ~ Group, data = mydata, method = 't.test',\n",
    "              group.by = \"gene\")\n",
    "# Box plot facetted by \"gene\"\n",
    "p <- ggboxplot(mydata, x = \"Group\", y = \"Expression\",\n",
    "          color = \"Group\", palette = \"jco\",\n",
    "          add = \"jitter\",\n",
    "          facet.by = \"gene\", short.panel.labs = FALSE)\n",
    "# Use only p.format as label. Remove method name.\n",
    "#p + stat_compare_means(label =  \"p.signif\", label.x = 1.5)\n",
    "p <- ggboxplot(mydata, x = \"gene\", y = \"Expression\",\n",
    "          color = \"Group\", palette = \"nejm\",\n",
    "          add = \"jitter\")"
   ]
  },
  {
   "cell_type": "code",
   "execution_count": null,
   "id": "7a446761-0ec8-415e-a9d9-83c39002e202",
   "metadata": {},
   "outputs": [],
   "source": [
    "diffgene = as.data.frame(compare_means( Expression ~ Group, data = mydata, method = 't.test',\n",
    "              group.by = \"gene\"))\n",
    "diffgene = rownames(diffgene) = diffgene[,1]\n",
    "options(repr.plot.height = 5,repr.plot.width = 21)\n",
    "options(repr.plot.width = 7,repr.plot.height = 5)"
   ]
  },
  {
   "cell_type": "code",
   "execution_count": null,
   "id": "65d6933f-201b-4fcb-aa77-53497f2942ba",
   "metadata": {},
   "outputs": [],
   "source": [
    "p + stat_compare_means(aes(group = Group), label = \"p.signif\",method = 't.test')"
   ]
  },
  {
   "cell_type": "code",
   "execution_count": null,
   "id": "728062e7-e554-4124-8b2b-b6ce82bebfb7",
   "metadata": {},
   "outputs": [],
   "source": [
    "ggsave(file = 'figure2.gene.expr.pdf',width = 7,height = 4)"
   ]
  },
  {
   "cell_type": "code",
   "execution_count": null,
   "id": "4d375089-6467-46cc-8d9f-f1e5411ab670",
   "metadata": {},
   "outputs": [],
   "source": [
    "tend1 = data1[,c( 2:5)] \n",
    "gene_cor <- cor(tend1, method = 'pearson')\n",
    "diag(gene_cor) <- 0\n",
    "gene_cor <- reshape2::melt(gene_cor)\n",
    "gene_cor <- subset(gene_cor, value != 0)  #去除0值的相关性\n",
    "head(gene_cor)\n",
    "\n",
    "library(circlize)\n",
    "pdf('cor.circle.pdf',height = 6,width = 6)\n",
    "p= chordDiagram(gene_cor, \n",
    "    annotationTrack = c('grid', 'name', 'axis'), #绘制外周圆弧区，显示名称和刻度轴\n",
    "    grid.col = c(TNFSF14 = 'green3', CCNA2 = 'red', MARCKS = 'orange', SGOL1 = 'purple', SAP130 = 'skyblue'), #定义基因颜色\n",
    "    col = colorRamp2(c(-1, 0, 1), c('green', 'white', 'red'), transparency = 0.5), #根据相关性大小展示连线的颜色范围\n",
    "    annotationTrackHeight = c(0.05, 0.05), #名称离圆弧的距离，以及圆弧的宽度\n",
    ")\n",
    "dev.off()"
   ]
  },
  {
   "cell_type": "code",
   "execution_count": null,
   "id": "72e9cc9d-bc05-44ff-81d4-f1934a763e9e",
   "metadata": {},
   "outputs": [],
   "source": [
    "chordDiagram(gene_cor, \n",
    "    annotationTrack = c('grid', 'name', 'axis'), #绘制外周圆弧区，显示名称和刻度轴\n",
    "    grid.col = c(TNFSF14 = 'green3', CCNA2 = 'red', MARCKS = 'orange', SGOL1 = 'purple', SAP130 = 'skyblue'), #定义基因颜色\n",
    "    col = colorRamp2(c(-1, 0, 1), c('green', 'white', 'red'), transparency = 0.5), #根据相关性大小展示连线的颜色范围\n",
    "    annotationTrackHeight = c(0.05, 0.05), #名称离圆弧的距离，以及圆弧的宽度\n",
    ")"
   ]
  },
  {
   "cell_type": "code",
   "execution_count": null,
   "id": "9b9e765c-21fe-4cb8-ae2b-bfc31297e5f8",
   "metadata": {},
   "outputs": [],
   "source": [
    "b"
   ]
  },
  {
   "cell_type": "code",
   "execution_count": null,
   "id": "2f476705-d5df-48ac-92c1-0f35b9f64a7f",
   "metadata": {},
   "outputs": [],
   "source": [
    "da2 = expr[,b] %>% tibble::rownames_to_column(.,'sample')"
   ]
  },
  {
   "cell_type": "code",
   "execution_count": null,
   "id": "ef545954-4493-424d-b103-3938b43faa1b",
   "metadata": {},
   "outputs": [],
   "source": [
    "save(da2,file = 'sample74.model.gene.rda')"
   ]
  },
  {
   "cell_type": "code",
   "execution_count": null,
   "id": "3aecbaf0-1905-41fd-bb30-1daafa94859a",
   "metadata": {},
   "outputs": [],
   "source": [
    "library(openxlsx)\n",
    "data<- read.xlsx(\"./res/CI-CTR/bulk/74-mRNA_FPKM.genename.xlsx\", sheet = 1)\n",
    "library(dplyr)"
   ]
  },
  {
   "cell_type": "code",
   "execution_count": null,
   "id": "2d41425a-fb4a-4846-8083-58f7c5ca1071",
   "metadata": {},
   "outputs": [],
   "source": [
    "data = data[!duplicated(data$Gene_name),]"
   ]
  },
  {
   "cell_type": "code",
   "execution_count": null,
   "id": "04cba62b-3906-4c30-8586-fa07825fdce2",
   "metadata": {},
   "outputs": [],
   "source": [
    "data = data %>% tibble::remove_rownames() %>%  tibble::column_to_rownames(.,'Gene_name')"
   ]
  },
  {
   "cell_type": "code",
   "execution_count": null,
   "id": "c4173f2f-c9b3-4cc5-bfaf-69c42931c766",
   "metadata": {},
   "outputs": [],
   "source": [
    "head(data,2)"
   ]
  },
  {
   "cell_type": "code",
   "execution_count": null,
   "id": "63181df6-4726-492b-9a11-7ee800fe3255",
   "metadata": {},
   "outputs": [],
   "source": [
    "\n",
    "library(GSVA)"
   ]
  },
  {
   "cell_type": "code",
   "execution_count": null,
   "id": "24dea6c6-6018-4bfd-bc7a-531691776f4c",
   "metadata": {},
   "outputs": [],
   "source": [
    "geneSets = list(b)"
   ]
  },
  {
   "cell_type": "code",
   "execution_count": null,
   "id": "dfe2a319-71b6-426f-b4ea-b676e3b8eb5c",
   "metadata": {
    "scrolled": true
   },
   "outputs": [],
   "source": [
    "\n",
    "GSVA_hall <- gsva(expr=as.matrix(data), \n",
    "                  gset.idx.list=geneSets, \n",
    "                  mx.diff=T, # 数据为正态分布则T，双峰则F\n",
    "                  kcdf=\"Gaussian\", #CPM, RPKM, TPM数据就用默认值\"Gaussian\"， read count数据则为\"Poisson\"，\n",
    "                  parallel.sz=4) # 并行线程数目"
   ]
  },
  {
   "cell_type": "code",
   "execution_count": null,
   "id": "716dbf09-1fba-4da1-aa7f-4d11ce82c5be",
   "metadata": {},
   "outputs": [],
   "source": [
    "getwd()"
   ]
  },
  {
   "cell_type": "code",
   "execution_count": null,
   "id": "f2804a3a-b74e-4c30-ac57-c50755db4b8c",
   "metadata": {
    "scrolled": true
   },
   "outputs": [],
   "source": [
    "a = GSVA_hall %>% t() %>% as.data.frame()  %>%  tibble::rownames_to_column(.,'sample')\n",
    "colnames(a) = c('sample','Hscore')"
   ]
  },
  {
   "cell_type": "code",
   "execution_count": null,
   "id": "530b115f-f9f7-459b-877d-caa467b0d845",
   "metadata": {},
   "outputs": [],
   "source": [
    "save(a,file = 'GSVA_hall.RDA')"
   ]
  },
  {
   "cell_type": "markdown",
   "id": "e0cf3865-5155-4090-88a0-d42a100c8400",
   "metadata": {},
   "source": [
    "### riskscoer"
   ]
  },
  {
   "cell_type": "code",
   "execution_count": null,
   "id": "4f3f29ec-00a9-4386-97d6-a06c8666cf4c",
   "metadata": {},
   "outputs": [],
   "source": [
    "riskscore = as.data.frame(fold_predict)"
   ]
  },
  {
   "cell_type": "code",
   "execution_count": null,
   "id": "6845b1fa-ab1c-48f5-a6b5-94e9f5ef8e00",
   "metadata": {},
   "outputs": [],
   "source": [
    "rownames(riskscore) = rownames(expr)"
   ]
  },
  {
   "cell_type": "code",
   "execution_count": null,
   "id": "85e98337-8f4c-4838-8dd4-cbc09a2b05d5",
   "metadata": {},
   "outputs": [],
   "source": [
    "save(riskscore,file = 'riskscore.rda')"
   ]
  },
  {
   "cell_type": "code",
   "execution_count": null,
   "id": "2570c864-1453-4e65-a826-e6e297b7a69a",
   "metadata": {},
   "outputs": [],
   "source": []
  },
  {
   "cell_type": "code",
   "execution_count": null,
   "id": "8a76b5fb-c99f-4676-a4de-b6bc9d4d2ebe",
   "metadata": {},
   "outputs": [],
   "source": []
  },
  {
   "cell_type": "code",
   "execution_count": null,
   "id": "79c13de8-d3ee-4191-95bc-17393cd8e288",
   "metadata": {},
   "outputs": [],
   "source": []
  },
  {
   "cell_type": "code",
   "execution_count": null,
   "id": "c097900b-2b03-4ca7-8684-a46cf030f7aa",
   "metadata": {},
   "outputs": [],
   "source": []
  },
  {
   "cell_type": "code",
   "execution_count": null,
   "id": "c70c4882-2795-4ff1-8fb7-c8a0741e7dae",
   "metadata": {},
   "outputs": [],
   "source": []
  },
  {
   "cell_type": "code",
   "execution_count": null,
   "id": "b20d560d-f226-439d-8c83-efbd93e1e120",
   "metadata": {},
   "outputs": [],
   "source": []
  },
  {
   "cell_type": "code",
   "execution_count": null,
   "id": "e6e3b13a-a37e-424b-91ab-818c8c30f27e",
   "metadata": {},
   "outputs": [],
   "source": [
    "library(openxlsx)\n",
    "data<- read.xlsx(\"./res/CI-CTR/bulk/74-mRNA_FPKM.genename.xlsx\", sheet = 1)\n",
    "library(dplyr)\n",
    "\n",
    "\n",
    "data = data[!duplicated(data$Gene_name),]\n",
    "head(data,2)\n",
    "expr = data %>%  tibble::remove_rownames()  %>%  \n",
    "tibble::column_to_rownames(.,'Gene_name') %>% t() %>% as.data.frame()\n",
    "Group = c(rep('con',31),rep('CI',43))\n",
    "\n",
    "\n",
    "\n",
    "colnames(expr) = gsub('-','.',colnames(expr))\n",
    "\n",
    "colnames(expr)\n",
    "\n",
    "head(expr,2)\n",
    "\n",
    "Type = ifelse(Group == 'CI',1,0)\n",
    "\n",
    "nn = cbind(Type,expr)\n"
   ]
  },
  {
   "cell_type": "code",
   "execution_count": null,
   "id": "ceabdf15-a386-4220-a919-e01432aecfc8",
   "metadata": {},
   "outputs": [],
   "source": [
    "save(nn,file = 'data.new.rda')"
   ]
  },
  {
   "cell_type": "code",
   "execution_count": null,
   "id": "baa4fe25-e81e-4661-84b9-c620d242b6db",
   "metadata": {},
   "outputs": [],
   "source": [
    "library(openxlsx)\n",
    "data<- read.xlsx(\"./res/CI-CTR/bulk/74-mRNA_FPKM.genename.xlsx\", sheet = 1)"
   ]
  },
  {
   "cell_type": "code",
   "execution_count": null,
   "id": "78e99e03-ceb6-4fc6-a8b6-b84553ec9231",
   "metadata": {},
   "outputs": [],
   "source": [
    "library(dplyr)\n",
    "\n",
    "overlap = read.table('./overlap.txt',header =T)\n",
    "\n",
    "data = data[!duplicated(data$Gene_name),]\n",
    "head(data,2)\n",
    "expr = data %>%  tibble::remove_rownames() %>% filter(Gene_name %in% overlap$GeneName) %>%  \n",
    "tibble::column_to_rownames(.,'Gene_name') %>% t() %>% as.data.frame()"
   ]
  },
  {
   "cell_type": "code",
   "execution_count": null,
   "id": "5456c7c9-3b55-45b4-b9e3-fc92e9d43900",
   "metadata": {},
   "outputs": [],
   "source": [
    "expr$riskscore = 1.612* expr$FAM200B + (-0.05* expr$BCL2A1) +\n",
    "0.029* expr$IGJ + 0.325* expr$TXN"
   ]
  },
  {
   "cell_type": "code",
   "execution_count": null,
   "id": "3fa6a58c-6f24-482c-b7bd-bd6082c08620",
   "metadata": {},
   "outputs": [],
   "source": [
    "risks = expr$riskscore"
   ]
  },
  {
   "cell_type": "code",
   "execution_count": null,
   "id": "d023daf5-12ac-44b4-81e7-dd8597bdcd33",
   "metadata": {},
   "outputs": [],
   "source": [
    "save(risks,file = 'diy.rda')"
   ]
  },
  {
   "cell_type": "code",
   "execution_count": 106,
   "id": "1883627c-f43e-44e1-b930-32c65dc2547b",
   "metadata": {},
   "outputs": [
    {
     "data": {
      "text/html": [
       "<table class=\"dataframe\">\n",
       "<caption>A data.frame: 74 x 70</caption>\n",
       "<thead>\n",
       "\t<tr><th></th><th scope=col>ZNF480</th><th scope=col>ZNF354A</th><th scope=col>ZNF208</th><th scope=col>ZBED5</th><th scope=col>XRCC4</th><th scope=col>VCL</th><th scope=col>TXN</th><th scope=col>TLN1</th><th scope=col>TFEC</th><th scope=col>TAF7</th><th scope=col>...</th><th scope=col>CACNA2D2</th><th scope=col>BZRAP1</th><th scope=col>BMP6</th><th scope=col>BCL2A1</th><th scope=col>BAI2</th><th scope=col>ATP1A3</th><th scope=col>ATG2A</th><th scope=col>ARVCF</th><th scope=col>ARHGAP6</th><th scope=col>riskscore</th></tr>\n",
       "\t<tr><th></th><th scope=col>&lt;dbl&gt;</th><th scope=col>&lt;dbl&gt;</th><th scope=col>&lt;dbl&gt;</th><th scope=col>&lt;dbl&gt;</th><th scope=col>&lt;dbl&gt;</th><th scope=col>&lt;dbl&gt;</th><th scope=col>&lt;dbl&gt;</th><th scope=col>&lt;dbl&gt;</th><th scope=col>&lt;dbl&gt;</th><th scope=col>&lt;dbl&gt;</th><th scope=col>...</th><th scope=col>&lt;dbl&gt;</th><th scope=col>&lt;dbl&gt;</th><th scope=col>&lt;dbl&gt;</th><th scope=col>&lt;dbl&gt;</th><th scope=col>&lt;dbl&gt;</th><th scope=col>&lt;dbl&gt;</th><th scope=col>&lt;dbl&gt;</th><th scope=col>&lt;dbl&gt;</th><th scope=col>&lt;dbl&gt;</th><th scope=col>&lt;dbl&gt;</th></tr>\n",
       "</thead>\n",
       "<tbody>\n",
       "\t<tr><th scope=row>C10</th><td>5.156136</td><td>5.125855</td><td>0.53927598</td><td>10.324731</td><td>2.3391758</td><td> 46.57527</td><td> 7.655688</td><td>101.26245</td><td>3.548980</td><td>14.059233</td><td>...</td><td>2.652530</td><td> 3.472469</td><td> 5.936213</td><td>22.32717</td><td>0.23329959</td><td>0.8470702</td><td>13.046333</td><td>0.8559196</td><td>1.1761611</td><td> 9.869423</td></tr>\n",
       "\t<tr><th scope=row>C11</th><td>5.341337</td><td>6.072094</td><td>0.36366422</td><td>10.900381</td><td>2.8712622</td><td> 51.53112</td><td>17.794071</td><td>101.75586</td><td>5.233879</td><td>18.917096</td><td>...</td><td>4.407767</td><td> 5.835689</td><td> 3.418444</td><td>32.12134</td><td>0.16283123</td><td>0.9373913</td><td>15.024366</td><td>0.8992942</td><td>1.2339431</td><td>14.792288</td></tr>\n",
       "\t<tr><th scope=row>C12</th><td>6.522543</td><td>6.160602</td><td>0.49493604</td><td>10.880590</td><td>2.4834470</td><td> 39.63994</td><td>13.325481</td><td>102.28403</td><td>5.147770</td><td>18.593706</td><td>...</td><td>3.612367</td><td> 5.965714</td><td> 5.612575</td><td>20.78413</td><td>0.41573734</td><td>1.2540463</td><td>17.887163</td><td>1.1737319</td><td>1.0891139</td><td>13.245733</td></tr>\n",
       "\t<tr><th scope=row>C13</th><td>3.667491</td><td>3.272255</td><td>0.34862574</td><td> 7.481650</td><td>2.9698327</td><td> 68.89870</td><td>15.403335</td><td>144.41987</td><td>3.380468</td><td>14.959632</td><td>...</td><td>4.355863</td><td> 7.425097</td><td> 6.031225</td><td>32.75097</td><td>0.25600027</td><td>1.6156179</td><td>16.370196</td><td>0.8793481</td><td>1.2235066</td><td>12.518668</td></tr>\n",
       "\t<tr><th scope=row>C14</th><td>2.988996</td><td>4.809364</td><td>0.36519585</td><td> 5.301776</td><td>1.1399560</td><td> 58.60339</td><td>12.904001</td><td>179.71784</td><td>1.938270</td><td>13.146490</td><td>...</td><td>5.822755</td><td> 7.149758</td><td> 6.431926</td><td>26.15903</td><td>0.20559951</td><td>1.6109713</td><td>19.830969</td><td>0.8432738</td><td>1.4937987</td><td> 9.407127</td></tr>\n",
       "\t<tr><th scope=row>C15</th><td>4.143916</td><td>3.206016</td><td>0.35044717</td><td> 8.707318</td><td>1.8025106</td><td> 52.53899</td><td>13.455027</td><td>104.93205</td><td>4.866848</td><td> 9.665493</td><td>...</td><td>5.107267</td><td> 5.898036</td><td> 3.058747</td><td>14.79481</td><td>0.44210315</td><td>1.3930229</td><td>11.632193</td><td>1.2916102</td><td>1.0829619</td><td>13.276497</td></tr>\n",
       "\t<tr><th scope=row>C16</th><td>3.198194</td><td>3.344808</td><td>0.12793280</td><td> 7.370626</td><td>1.9333492</td><td> 43.86331</td><td>13.209503</td><td>105.56237</td><td>2.652407</td><td>10.776925</td><td>...</td><td>6.256927</td><td> 7.564602</td><td> 3.957121</td><td>22.65391</td><td>0.23858000</td><td>2.0627744</td><td>16.103621</td><td>1.3660869</td><td>1.0817589</td><td>10.705877</td></tr>\n",
       "\t<tr><th scope=row>C17</th><td>2.640424</td><td>2.080561</td><td>0.16517837</td><td> 4.996533</td><td>1.5134931</td><td> 56.38685</td><td>12.954591</td><td>132.27698</td><td>2.069409</td><td> 8.929986</td><td>...</td><td>4.059294</td><td> 7.171052</td><td> 7.243897</td><td>19.06042</td><td>0.26817488</td><td>1.0098414</td><td>20.229986</td><td>1.1308341</td><td>1.2654398</td><td>10.721743</td></tr>\n",
       "\t<tr><th scope=row>C18</th><td>3.530397</td><td>3.814785</td><td>0.29562815</td><td> 6.327802</td><td>1.5519028</td><td> 67.52986</td><td>14.692961</td><td>184.27156</td><td>1.848952</td><td>14.499316</td><td>...</td><td>5.881672</td><td> 7.599509</td><td> 7.288158</td><td>35.36146</td><td>0.44861711</td><td>1.7461261</td><td>22.972378</td><td>1.3134529</td><td>1.3301815</td><td>10.890960</td></tr>\n",
       "\t<tr><th scope=row>C19</th><td>4.840630</td><td>4.743992</td><td>0.32733162</td><td> 8.529086</td><td>2.0307542</td><td> 52.26684</td><td>12.364173</td><td>139.57146</td><td>2.982194</td><td>16.217640</td><td>...</td><td>5.770041</td><td> 6.982148</td><td> 5.246171</td><td>29.21597</td><td>0.46081929</td><td>1.8692418</td><td>13.427971</td><td>1.2064154</td><td>1.1504760</td><td>13.817992</td></tr>\n",
       "\t<tr><th scope=row>C1</th><td>5.782671</td><td>4.839376</td><td>0.58122849</td><td>11.787507</td><td>2.6742141</td><td> 30.73280</td><td>10.132857</td><td> 69.23405</td><td>9.952177</td><td>16.605259</td><td>...</td><td>3.140448</td><td> 8.226990</td><td> 3.979925</td><td>28.66226</td><td>0.26812008</td><td>0.6808474</td><td>14.241534</td><td>1.8780749</td><td>0.9048968</td><td>12.010528</td></tr>\n",
       "\t<tr><th scope=row>C20</th><td>5.867653</td><td>5.004315</td><td>0.31442999</td><td>10.711256</td><td>2.8555891</td><td> 47.89431</td><td>13.254900</td><td>107.13130</td><td>3.491074</td><td>17.700976</td><td>...</td><td>5.769200</td><td> 4.699604</td><td> 2.258536</td><td>16.58167</td><td>0.28221299</td><td>1.3442743</td><td>12.268416</td><td>0.9611509</td><td>0.6930726</td><td>17.076969</td></tr>\n",
       "\t<tr><th scope=row>C21</th><td>2.994507</td><td>3.519927</td><td>0.09801554</td><td> 6.688521</td><td>1.5160148</td><td> 51.83806</td><td>10.792141</td><td>143.48251</td><td>2.358513</td><td>13.436587</td><td>...</td><td>3.998335</td><td> 6.014147</td><td> 2.863185</td><td>23.62503</td><td>0.31098728</td><td>1.1751631</td><td>20.181449</td><td>1.1419810</td><td>0.9463086</td><td>11.436250</td></tr>\n",
       "\t<tr><th scope=row>C22</th><td>4.687823</td><td>4.491583</td><td>0.17403843</td><td> 8.314741</td><td>3.0084741</td><td> 51.44506</td><td>17.559200</td><td>136.08900</td><td>3.268331</td><td>19.330555</td><td>...</td><td>4.033166</td><td> 5.480618</td><td> 4.761401</td><td>47.93932</td><td>0.31183380</td><td>1.4518066</td><td>19.253772</td><td>0.9841226</td><td>1.1051876</td><td>12.629551</td></tr>\n",
       "\t<tr><th scope=row>C23</th><td>3.280013</td><td>4.316636</td><td>0.42273780</td><td> 5.653068</td><td>1.5650317</td><td> 65.33441</td><td>10.955976</td><td>169.04225</td><td>1.592796</td><td> 9.622881</td><td>...</td><td>4.216855</td><td>11.645668</td><td> 5.517497</td><td>16.77710</td><td>0.50589787</td><td>1.5594589</td><td>30.521633</td><td>1.6018953</td><td>1.9043311</td><td>10.230984</td></tr>\n",
       "\t<tr><th scope=row>C24</th><td>5.204104</td><td>3.458127</td><td>0.36494408</td><td>11.741311</td><td>1.7416158</td><td> 34.21058</td><td>11.100468</td><td> 98.11422</td><td>4.593707</td><td>14.291850</td><td>...</td><td>4.720305</td><td> 6.971874</td><td> 3.375277</td><td>29.90065</td><td>0.54446309</td><td>1.3239716</td><td>16.743267</td><td>0.9839061</td><td>0.6989638</td><td>11.154602</td></tr>\n",
       "\t<tr><th scope=row>C25</th><td>5.588540</td><td>3.734993</td><td>0.77917463</td><td>12.011150</td><td>2.5891364</td><td> 46.44425</td><td>12.994596</td><td>128.44481</td><td>3.751899</td><td>15.968933</td><td>...</td><td>2.340669</td><td> 3.246543</td><td> 6.080448</td><td>23.19301</td><td>0.33556767</td><td>0.9403107</td><td>19.423516</td><td>0.5769687</td><td>1.4817402</td><td>13.379283</td></tr>\n",
       "\t<tr><th scope=row>C26</th><td>4.598107</td><td>3.328876</td><td>0.07856433</td><td> 9.337495</td><td>1.9329781</td><td> 61.63245</td><td>11.297632</td><td>122.39291</td><td>2.489933</td><td>16.236594</td><td>...</td><td>2.747440</td><td> 4.706521</td><td> 7.250178</td><td>24.13171</td><td>0.38304175</td><td>1.2902212</td><td>12.550343</td><td>0.8038848</td><td>1.7145906</td><td>10.961215</td></tr>\n",
       "\t<tr><th scope=row>C27</th><td>4.634277</td><td>5.099693</td><td>0.44905180</td><td> 7.925370</td><td>2.4632202</td><td> 54.98042</td><td>17.177350</td><td>140.63427</td><td>4.337447</td><td>15.745579</td><td>...</td><td>3.221204</td><td> 5.184308</td><td> 6.297564</td><td>38.59311</td><td>0.26498803</td><td>0.9986844</td><td>21.359285</td><td>1.2758648</td><td>1.6658383</td><td>12.397594</td></tr>\n",
       "\t<tr><th scope=row>C28</th><td>3.878983</td><td>2.847237</td><td>0.26904647</td><td> 7.188859</td><td>2.5589206</td><td> 70.99181</td><td>19.255434</td><td>144.74091</td><td>3.709894</td><td>16.731740</td><td>...</td><td>2.632845</td><td> 2.639514</td><td>10.650700</td><td>43.52915</td><td>0.13669718</td><td>1.1606255</td><td>24.867012</td><td>0.8407504</td><td>2.2158247</td><td>12.733961</td></tr>\n",
       "\t<tr><th scope=row>C29</th><td>4.345863</td><td>3.521520</td><td>0.34455526</td><td> 6.682684</td><td>1.7929120</td><td> 57.39407</td><td>10.594467</td><td>169.95963</td><td>1.279023</td><td>14.952520</td><td>...</td><td>4.786707</td><td> 4.934627</td><td> 6.809560</td><td>23.08216</td><td>0.45692874</td><td>1.4506214</td><td>16.638099</td><td>1.2803324</td><td>1.5101574</td><td>12.139282</td></tr>\n",
       "\t<tr><th scope=row>C2</th><td>3.603665</td><td>2.645550</td><td>0.62284212</td><td> 7.238063</td><td>1.3067751</td><td> 38.52655</td><td>13.603803</td><td> 77.20560</td><td>4.496474</td><td> 9.882180</td><td>...</td><td>3.256891</td><td> 9.509125</td><td> 4.866585</td><td>15.16079</td><td>0.29546051</td><td>1.3231854</td><td>12.915421</td><td>2.1723168</td><td>1.1181352</td><td>11.275725</td></tr>\n",
       "\t<tr><th scope=row>C30</th><td>4.081597</td><td>4.562313</td><td>0.25900429</td><td> 8.279851</td><td>3.0644917</td><td> 49.12828</td><td>16.824999</td><td>133.07289</td><td>4.478756</td><td>22.476073</td><td>...</td><td>3.387771</td><td> 4.377376</td><td> 4.544825</td><td>77.58039</td><td>0.16586784</td><td>1.0252277</td><td>18.217113</td><td>1.0517783</td><td>1.1467316</td><td>13.807686</td></tr>\n",
       "\t<tr><th scope=row>C31</th><td>3.829200</td><td>3.232182</td><td>0.16504134</td><td> 7.142280</td><td>2.9183532</td><td> 53.40735</td><td>17.355165</td><td>127.32136</td><td>3.661753</td><td>11.603645</td><td>...</td><td>1.788278</td><td> 3.638560</td><td> 5.533228</td><td>39.17035</td><td>0.12959292</td><td>0.9103792</td><td>17.944778</td><td>0.5788941</td><td>1.5857972</td><td>12.640890</td></tr>\n",
       "\t<tr><th scope=row>C3</th><td>1.838867</td><td>1.737741</td><td>0.12192812</td><td> 3.295811</td><td>0.8404866</td><td> 82.81210</td><td>17.967685</td><td>131.51303</td><td>1.553175</td><td> 7.593004</td><td>...</td><td>1.817997</td><td> 1.276833</td><td>15.508749</td><td>20.55796</td><td>0.07133552</td><td>0.2867019</td><td>14.603764</td><td>0.2462351</td><td>3.1674849</td><td>10.171395</td></tr>\n",
       "\t<tr><th scope=row>C4</th><td>3.143906</td><td>2.345055</td><td>0.28024051</td><td> 4.935064</td><td>0.5656992</td><td> 51.30354</td><td>11.008067</td><td>137.74329</td><td>1.393414</td><td> 8.827814</td><td>...</td><td>5.197518</td><td> 5.372061</td><td> 9.138740</td><td>20.79095</td><td>0.40706836</td><td>1.8178144</td><td>13.567681</td><td>0.8313589</td><td>2.0004473</td><td> 9.449611</td></tr>\n",
       "\t<tr><th scope=row>C5</th><td>3.533812</td><td>3.038324</td><td>0.13429011</td><td> 5.982112</td><td>2.1587207</td><td>194.06380</td><td>23.310970</td><td>210.99957</td><td>2.767853</td><td>18.396307</td><td>...</td><td>1.645533</td><td> 2.224685</td><td>32.035260</td><td>40.35936</td><td>0.18608223</td><td>1.4435194</td><td> 9.416601</td><td>0.6080595</td><td>8.5368790</td><td>12.746191</td></tr>\n",
       "\t<tr><th scope=row>C6</th><td>5.295277</td><td>5.683956</td><td>0.96427670</td><td> 9.623026</td><td>2.7695235</td><td> 67.76247</td><td>16.672742</td><td>149.09821</td><td>2.488511</td><td>19.925693</td><td>...</td><td>2.603157</td><td> 7.660128</td><td>10.121809</td><td>28.38413</td><td>0.20185603</td><td>0.7726399</td><td>17.725369</td><td>1.1148227</td><td>2.1197419</td><td>12.910077</td></tr>\n",
       "\t<tr><th scope=row>C7</th><td>4.808867</td><td>3.929281</td><td>0.45336825</td><td> 8.272053</td><td>2.0013308</td><td> 62.32141</td><td>19.645761</td><td>192.13607</td><td>2.321991</td><td>23.869541</td><td>...</td><td>2.405161</td><td> 3.861729</td><td> 6.386825</td><td>46.83054</td><td>0.24245377</td><td>1.1993067</td><td>18.520786</td><td>0.6008506</td><td>2.1650248</td><td>14.450140</td></tr>\n",
       "\t<tr><th scope=row>C8</th><td>5.041199</td><td>5.240902</td><td>0.41864235</td><td> 8.695072</td><td>2.0422764</td><td> 44.13306</td><td> 8.031451</td><td>117.47246</td><td>3.122744</td><td>15.151315</td><td>...</td><td>6.527910</td><td> 8.183522</td><td> 4.222357</td><td>14.66271</td><td>0.32453458</td><td>1.8187886</td><td>23.505230</td><td>0.9130887</td><td>0.8188698</td><td>10.783513</td></tr>\n",
       "\t<tr><th scope=row>...</th><td>...</td><td>...</td><td>...</td><td>...</td><td>...</td><td>...</td><td>...</td><td>...</td><td>...</td><td>...</td><td></td><td>...</td><td>...</td><td>...</td><td>...</td><td>...</td><td>...</td><td>...</td><td>...</td><td>...</td><td>...</td></tr>\n",
       "\t<tr><th scope=row>CI23</th><td> 4.859958</td><td> 3.544509</td><td>0.3208139</td><td> 9.007309</td><td>2.668695</td><td>38.68366</td><td>15.120254</td><td>101.72766</td><td> 3.890405</td><td>15.139873</td><td>...</td><td>2.7326048</td><td> 2.4207623</td><td> 2.089594</td><td> 51.63031</td><td>0.28841098</td><td>1.13548563</td><td>14.704420</td><td>0.46458231</td><td>0.4017634</td><td>13.71734</td></tr>\n",
       "\t<tr><th scope=row>CI24</th><td> 3.240726</td><td> 4.937482</td><td>0.4859018</td><td> 6.149367</td><td>2.861844</td><td>70.54954</td><td>24.309384</td><td>126.22580</td><td> 3.733716</td><td>17.740897</td><td>...</td><td>1.7270247</td><td> 4.0586825</td><td> 7.526458</td><td> 65.15025</td><td>0.09162831</td><td>0.91188154</td><td>16.328053</td><td>2.03879917</td><td>2.4251679</td><td>15.67377</td></tr>\n",
       "\t<tr><th scope=row>CI25</th><td> 3.579088</td><td> 5.216374</td><td>0.2257033</td><td> 7.762534</td><td>3.638271</td><td>52.52221</td><td>26.324063</td><td>106.02279</td><td> 4.413114</td><td>19.354151</td><td>...</td><td>2.4507875</td><td> 2.6662062</td><td> 7.188651</td><td> 81.77000</td><td>0.11737819</td><td>0.67392887</td><td>12.256753</td><td>0.49632665</td><td>1.1922649</td><td>23.41335</td></tr>\n",
       "\t<tr><th scope=row>CI26</th><td> 6.327608</td><td> 5.065145</td><td>1.0879724</td><td>13.054584</td><td>3.546074</td><td>29.66081</td><td>19.933140</td><td> 71.74398</td><td> 4.088959</td><td>22.834024</td><td>...</td><td>2.8853048</td><td> 5.3394955</td><td> 2.377885</td><td> 38.77138</td><td>0.28849983</td><td>1.16738643</td><td>13.620150</td><td>0.73028284</td><td>0.6123994</td><td>17.59782</td></tr>\n",
       "\t<tr><th scope=row>CI27</th><td> 5.415277</td><td> 5.398500</td><td>0.7497745</td><td> 9.810815</td><td>2.055134</td><td>53.66617</td><td>14.103145</td><td>117.48468</td><td> 3.014500</td><td>20.297643</td><td>...</td><td>4.6313342</td><td> 4.7052389</td><td> 5.675697</td><td> 24.76945</td><td>0.37117776</td><td>1.38200128</td><td>13.122377</td><td>0.71049857</td><td>1.0576216</td><td>15.34054</td></tr>\n",
       "\t<tr><th scope=row>CI28</th><td> 5.416054</td><td> 5.399694</td><td>0.2612071</td><td> 8.199088</td><td>1.551267</td><td>74.57010</td><td>13.890962</td><td>133.28792</td><td> 3.127274</td><td>16.864158</td><td>...</td><td>2.6981379</td><td> 2.8612792</td><td> 7.715043</td><td> 19.15041</td><td>0.20376317</td><td>0.89693080</td><td> 9.773452</td><td>0.64180438</td><td>1.8213513</td><td>13.79947</td></tr>\n",
       "\t<tr><th scope=row>CI29</th><td> 7.752858</td><td> 4.765105</td><td>0.4303710</td><td> 9.792323</td><td>1.834137</td><td>46.19963</td><td>13.848646</td><td> 95.55534</td><td> 3.840605</td><td>16.127879</td><td>...</td><td>3.4952809</td><td> 3.1503049</td><td> 6.203848</td><td> 15.21121</td><td>0.28985559</td><td>1.07585347</td><td>10.307899</td><td>0.81254355</td><td>1.3296050</td><td>13.71836</td></tr>\n",
       "\t<tr><th scope=row>CI2</th><td> 7.437961</td><td> 5.536307</td><td>0.4568092</td><td>10.892490</td><td>3.516393</td><td>40.08212</td><td>20.400185</td><td> 78.40904</td><td> 7.277825</td><td>18.520997</td><td>...</td><td>4.7196091</td><td> 3.5669501</td><td> 3.221062</td><td> 40.27743</td><td>0.35200323</td><td>1.39226688</td><td>10.435171</td><td>0.40501350</td><td>0.5175905</td><td>17.38111</td></tr>\n",
       "\t<tr><th scope=row>CI30</th><td> 8.105279</td><td> 8.297862</td><td>0.6693853</td><td>15.482911</td><td>3.849989</td><td>35.12105</td><td>21.516830</td><td> 85.28356</td><td> 6.247070</td><td>20.543897</td><td>...</td><td>2.0145887</td><td> 3.1784759</td><td> 3.173495</td><td> 44.09499</td><td>0.10680871</td><td>0.89942453</td><td>10.575659</td><td>0.38974848</td><td>1.0273393</td><td>18.78770</td></tr>\n",
       "\t<tr><th scope=row>CI31</th><td> 4.593441</td><td> 2.520756</td><td>0.3282650</td><td> 8.019878</td><td>1.751866</td><td>51.07369</td><td>10.167952</td><td>115.41396</td><td> 3.470981</td><td>12.845123</td><td>...</td><td>3.0474502</td><td> 2.4079015</td><td> 6.459937</td><td> 20.26596</td><td>0.15798103</td><td>1.13825981</td><td>14.867418</td><td>0.41059164</td><td>1.5016632</td><td>10.44650</td></tr>\n",
       "\t<tr><th scope=row>CI32</th><td>12.085804</td><td>11.378974</td><td>1.2889305</td><td>20.339486</td><td>3.753488</td><td>30.25999</td><td>24.516279</td><td> 68.50058</td><td> 8.628083</td><td>34.605890</td><td>...</td><td>2.1277371</td><td> 3.5924387</td><td> 1.280222</td><td> 55.12280</td><td>0.11209659</td><td>0.71771652</td><td> 6.340784</td><td>0.47839071</td><td>0.6719320</td><td>22.63355</td></tr>\n",
       "\t<tr><th scope=row>CI33</th><td> 6.322697</td><td> 3.798805</td><td>0.7293814</td><td>12.220789</td><td>4.157366</td><td>37.41394</td><td>19.789901</td><td> 76.50369</td><td> 6.872269</td><td>24.738468</td><td>...</td><td>4.3073330</td><td>10.0939646</td><td> 2.718230</td><td> 55.76980</td><td>0.36061975</td><td>0.93862869</td><td>10.766548</td><td>1.87962221</td><td>0.5693322</td><td>18.69759</td></tr>\n",
       "\t<tr><th scope=row>CI34</th><td> 5.505801</td><td> 9.358933</td><td>0.2414093</td><td>12.406731</td><td>2.636141</td><td>34.67015</td><td>27.263092</td><td> 83.51318</td><td> 3.914795</td><td>27.243035</td><td>...</td><td>1.2758462</td><td> 0.8527773</td><td> 3.548716</td><td> 50.16634</td><td>0.04783915</td><td>0.51271603</td><td> 6.324693</td><td>0.18872069</td><td>0.7044914</td><td>22.67291</td></tr>\n",
       "\t<tr><th scope=row>CI35</th><td> 7.099799</td><td> 5.389661</td><td>0.3630677</td><td>11.192173</td><td>2.825571</td><td>44.40799</td><td>17.656104</td><td> 88.04450</td><td> 3.036823</td><td>19.887729</td><td>...</td><td>7.6009548</td><td> 5.0888991</td><td> 4.156776</td><td> 33.14431</td><td>0.39215470</td><td>1.95135451</td><td>10.943113</td><td>0.86294222</td><td>0.8706351</td><td>16.94282</td></tr>\n",
       "\t<tr><th scope=row>CI36</th><td> 9.157511</td><td> 7.742450</td><td>0.9136423</td><td>14.490503</td><td>2.461067</td><td>36.17855</td><td>18.345143</td><td> 74.56862</td><td> 6.239136</td><td>28.368461</td><td>...</td><td>2.8230329</td><td> 3.5992694</td><td> 4.085123</td><td> 46.90447</td><td>0.22049671</td><td>0.65473195</td><td> 7.420333</td><td>0.62733740</td><td>0.6391351</td><td>17.29359</td></tr>\n",
       "\t<tr><th scope=row>CI37</th><td> 5.121032</td><td> 8.381795</td><td>0.7535907</td><td>12.193660</td><td>3.620323</td><td>24.90042</td><td>23.596067</td><td> 82.12789</td><td> 5.715213</td><td>23.502333</td><td>...</td><td>1.7565244</td><td> 2.7056966</td><td> 2.169399</td><td> 63.56968</td><td>0.22320428</td><td>0.41768424</td><td>17.710214</td><td>0.46797937</td><td>0.2687040</td><td>20.39952</td></tr>\n",
       "\t<tr><th scope=row>CI38</th><td> 6.143796</td><td> 6.310964</td><td>0.3804302</td><td>10.739295</td><td>2.388417</td><td>38.70682</td><td>18.201804</td><td> 88.38759</td><td> 5.988503</td><td>24.688090</td><td>...</td><td>2.3782938</td><td> 3.5867491</td><td> 3.438244</td><td> 38.43969</td><td>0.12612599</td><td>1.05641365</td><td>14.564882</td><td>0.62486988</td><td>0.9921685</td><td>14.18384</td></tr>\n",
       "\t<tr><th scope=row>CI39</th><td> 6.190902</td><td> 5.702009</td><td>0.5733539</td><td> 9.397216</td><td>3.073395</td><td>29.73674</td><td>16.268716</td><td> 96.28663</td><td> 3.141866</td><td>27.398554</td><td>...</td><td>2.9776147</td><td> 2.6200024</td><td> 3.703345</td><td> 67.04664</td><td>0.22871429</td><td>0.96882543</td><td>13.698123</td><td>0.48421025</td><td>0.7363303</td><td>14.47641</td></tr>\n",
       "\t<tr><th scope=row>CI3</th><td> 6.786896</td><td> 5.599960</td><td>0.6419153</td><td>11.219061</td><td>2.876432</td><td>50.70873</td><td>13.911817</td><td> 80.24905</td><td> 4.737368</td><td>18.007833</td><td>...</td><td>1.5689452</td><td> 4.2794520</td><td> 4.873132</td><td> 28.32958</td><td>0.15075307</td><td>0.85036624</td><td>10.522195</td><td>1.06264551</td><td>1.3115953</td><td>15.27981</td></tr>\n",
       "\t<tr><th scope=row>CI40</th><td> 3.498554</td><td> 6.502345</td><td>0.3431037</td><td> 9.229496</td><td>3.143784</td><td>38.39102</td><td>20.749526</td><td>109.71923</td><td> 2.719691</td><td>19.217083</td><td>...</td><td>2.3668348</td><td> 2.6690769</td><td> 3.345604</td><td> 50.17102</td><td>0.21077382</td><td>0.75606281</td><td>18.753139</td><td>0.50720388</td><td>0.8724499</td><td>14.98416</td></tr>\n",
       "\t<tr><th scope=row>CI41</th><td>11.016694</td><td> 8.245560</td><td>0.4606197</td><td>25.940000</td><td>4.327137</td><td>34.73666</td><td>44.304537</td><td> 39.76938</td><td>11.370019</td><td>25.360124</td><td>...</td><td>0.8304819</td><td> 0.4760973</td><td> 4.206295</td><td> 54.63200</td><td>0.02204927</td><td>0.09002401</td><td> 1.403786</td><td>0.05073961</td><td>1.7814793</td><td>30.07831</td></tr>\n",
       "\t<tr><th scope=row>CI42</th><td> 7.666561</td><td> 9.854644</td><td>0.6666972</td><td>15.165005</td><td>3.188659</td><td>44.08466</td><td>28.532852</td><td> 78.30631</td><td> 3.336654</td><td>37.216325</td><td>...</td><td>2.7638711</td><td> 1.1793204</td><td> 3.877100</td><td> 76.29296</td><td>0.03857729</td><td>0.46267248</td><td> 8.406295</td><td>0.28407597</td><td>0.9553614</td><td>22.18819</td></tr>\n",
       "\t<tr><th scope=row>CI43</th><td> 3.839729</td><td> 5.852079</td><td>0.2733508</td><td> 9.105419</td><td>2.892801</td><td>68.74225</td><td>19.477687</td><td>116.15050</td><td> 3.842931</td><td>22.428896</td><td>...</td><td>1.1785360</td><td> 2.4234689</td><td>12.565864</td><td> 60.51207</td><td>0.08838081</td><td>0.53160374</td><td>11.765401</td><td>0.20047577</td><td>1.8232978</td><td>14.66454</td></tr>\n",
       "\t<tr><th scope=row>CI44</th><td>10.879458</td><td> 7.769720</td><td>0.8740736</td><td>20.625972</td><td>3.783903</td><td>28.08275</td><td>15.238177</td><td> 61.66967</td><td> 6.386869</td><td>34.168159</td><td>...</td><td>1.6507394</td><td> 2.0564221</td><td> 2.690578</td><td> 36.11808</td><td>0.11145620</td><td>0.96365581</td><td> 3.898687</td><td>0.35304009</td><td>0.4201184</td><td>17.63629</td></tr>\n",
       "\t<tr><th scope=row>CI4</th><td> 3.237283</td><td> 2.866114</td><td>0.3475488</td><td> 8.723192</td><td>2.593448</td><td>43.33138</td><td>16.912287</td><td>101.29755</td><td> 2.483317</td><td>12.349633</td><td>...</td><td>1.1408550</td><td> 2.3775157</td><td> 4.973502</td><td> 20.79832</td><td>0.06931964</td><td>0.74293316</td><td>10.489537</td><td>0.40198486</td><td>1.0364527</td><td>16.10270</td></tr>\n",
       "\t<tr><th scope=row>CI5</th><td> 2.962622</td><td> 5.146567</td><td>0.2773905</td><td> 6.289086</td><td>1.921940</td><td>47.91641</td><td>13.464847</td><td>119.56087</td><td> 2.525681</td><td> 8.654475</td><td>...</td><td>1.8354554</td><td> 4.8321746</td><td> 5.720023</td><td> 15.51772</td><td>0.15552853</td><td>1.14921319</td><td>20.371819</td><td>0.62554871</td><td>0.9419780</td><td>12.85288</td></tr>\n",
       "\t<tr><th scope=row>CI6</th><td> 4.147399</td><td> 4.696431</td><td>0.4821844</td><td> 8.560750</td><td>1.555995</td><td>47.01331</td><td> 9.500395</td><td> 91.62951</td><td> 1.465464</td><td>10.419022</td><td>...</td><td>3.9814840</td><td> 5.5543880</td><td> 5.463752</td><td> 10.77056</td><td>0.31737129</td><td>1.52717102</td><td>10.958403</td><td>0.75119890</td><td>0.7017552</td><td>14.48811</td></tr>\n",
       "\t<tr><th scope=row>CI7</th><td> 4.837991</td><td> 4.169455</td><td>1.1450363</td><td>10.228348</td><td>1.866033</td><td>48.01575</td><td>12.528221</td><td> 80.25118</td><td> 2.161448</td><td>13.224816</td><td>...</td><td>2.1753696</td><td> 2.4597858</td><td> 4.621745</td><td> 14.94120</td><td>0.39761277</td><td>0.99617477</td><td> 5.444841</td><td>0.27948581</td><td>0.9667794</td><td>15.67800</td></tr>\n",
       "\t<tr><th scope=row>CI8</th><td> 4.703474</td><td> 4.550506</td><td>0.3862120</td><td> 9.197138</td><td>2.255102</td><td>31.48950</td><td>19.556371</td><td> 71.39869</td><td> 3.633867</td><td>13.132717</td><td>...</td><td>3.1833378</td><td> 8.1160269</td><td> 3.636451</td><td> 26.33379</td><td>0.25254129</td><td>1.38383111</td><td> 9.794826</td><td>1.30299045</td><td>0.7467951</td><td>17.68502</td></tr>\n",
       "\t<tr><th scope=row>CI9</th><td> 6.799834</td><td> 5.194175</td><td>0.6451608</td><td>13.830133</td><td>7.019416</td><td>21.52949</td><td>37.886055</td><td> 51.56099</td><td> 8.519077</td><td>27.095532</td><td>...</td><td>3.0337489</td><td> 5.5703646</td><td> 2.640197</td><td>126.50607</td><td>0.36708937</td><td>0.50488336</td><td> 9.120962</td><td>1.01369171</td><td>0.4102470</td><td>26.99331</td></tr>\n",
       "</tbody>\n",
       "</table>\n"
      ],
      "text/latex": [
       "A data.frame: 74 x 70\n",
       "\\begin{tabular}{r|lllllllllllllllllllll}\n",
       "  & ZNF480 & ZNF354A & ZNF208 & ZBED5 & XRCC4 & VCL & TXN & TLN1 & TFEC & TAF7 & ... & CACNA2D2 & BZRAP1 & BMP6 & BCL2A1 & BAI2 & ATP1A3 & ATG2A & ARVCF & ARHGAP6 & riskscore\\\\\n",
       "  & <dbl> & <dbl> & <dbl> & <dbl> & <dbl> & <dbl> & <dbl> & <dbl> & <dbl> & <dbl> & ... & <dbl> & <dbl> & <dbl> & <dbl> & <dbl> & <dbl> & <dbl> & <dbl> & <dbl> & <dbl>\\\\\n",
       "\\hline\n",
       "\tC10 & 5.156136 & 5.125855 & 0.53927598 & 10.324731 & 2.3391758 &  46.57527 &  7.655688 & 101.26245 & 3.548980 & 14.059233 & ... & 2.652530 &  3.472469 &  5.936213 & 22.32717 & 0.23329959 & 0.8470702 & 13.046333 & 0.8559196 & 1.1761611 &  9.869423\\\\\n",
       "\tC11 & 5.341337 & 6.072094 & 0.36366422 & 10.900381 & 2.8712622 &  51.53112 & 17.794071 & 101.75586 & 5.233879 & 18.917096 & ... & 4.407767 &  5.835689 &  3.418444 & 32.12134 & 0.16283123 & 0.9373913 & 15.024366 & 0.8992942 & 1.2339431 & 14.792288\\\\\n",
       "\tC12 & 6.522543 & 6.160602 & 0.49493604 & 10.880590 & 2.4834470 &  39.63994 & 13.325481 & 102.28403 & 5.147770 & 18.593706 & ... & 3.612367 &  5.965714 &  5.612575 & 20.78413 & 0.41573734 & 1.2540463 & 17.887163 & 1.1737319 & 1.0891139 & 13.245733\\\\\n",
       "\tC13 & 3.667491 & 3.272255 & 0.34862574 &  7.481650 & 2.9698327 &  68.89870 & 15.403335 & 144.41987 & 3.380468 & 14.959632 & ... & 4.355863 &  7.425097 &  6.031225 & 32.75097 & 0.25600027 & 1.6156179 & 16.370196 & 0.8793481 & 1.2235066 & 12.518668\\\\\n",
       "\tC14 & 2.988996 & 4.809364 & 0.36519585 &  5.301776 & 1.1399560 &  58.60339 & 12.904001 & 179.71784 & 1.938270 & 13.146490 & ... & 5.822755 &  7.149758 &  6.431926 & 26.15903 & 0.20559951 & 1.6109713 & 19.830969 & 0.8432738 & 1.4937987 &  9.407127\\\\\n",
       "\tC15 & 4.143916 & 3.206016 & 0.35044717 &  8.707318 & 1.8025106 &  52.53899 & 13.455027 & 104.93205 & 4.866848 &  9.665493 & ... & 5.107267 &  5.898036 &  3.058747 & 14.79481 & 0.44210315 & 1.3930229 & 11.632193 & 1.2916102 & 1.0829619 & 13.276497\\\\\n",
       "\tC16 & 3.198194 & 3.344808 & 0.12793280 &  7.370626 & 1.9333492 &  43.86331 & 13.209503 & 105.56237 & 2.652407 & 10.776925 & ... & 6.256927 &  7.564602 &  3.957121 & 22.65391 & 0.23858000 & 2.0627744 & 16.103621 & 1.3660869 & 1.0817589 & 10.705877\\\\\n",
       "\tC17 & 2.640424 & 2.080561 & 0.16517837 &  4.996533 & 1.5134931 &  56.38685 & 12.954591 & 132.27698 & 2.069409 &  8.929986 & ... & 4.059294 &  7.171052 &  7.243897 & 19.06042 & 0.26817488 & 1.0098414 & 20.229986 & 1.1308341 & 1.2654398 & 10.721743\\\\\n",
       "\tC18 & 3.530397 & 3.814785 & 0.29562815 &  6.327802 & 1.5519028 &  67.52986 & 14.692961 & 184.27156 & 1.848952 & 14.499316 & ... & 5.881672 &  7.599509 &  7.288158 & 35.36146 & 0.44861711 & 1.7461261 & 22.972378 & 1.3134529 & 1.3301815 & 10.890960\\\\\n",
       "\tC19 & 4.840630 & 4.743992 & 0.32733162 &  8.529086 & 2.0307542 &  52.26684 & 12.364173 & 139.57146 & 2.982194 & 16.217640 & ... & 5.770041 &  6.982148 &  5.246171 & 29.21597 & 0.46081929 & 1.8692418 & 13.427971 & 1.2064154 & 1.1504760 & 13.817992\\\\\n",
       "\tC1 & 5.782671 & 4.839376 & 0.58122849 & 11.787507 & 2.6742141 &  30.73280 & 10.132857 &  69.23405 & 9.952177 & 16.605259 & ... & 3.140448 &  8.226990 &  3.979925 & 28.66226 & 0.26812008 & 0.6808474 & 14.241534 & 1.8780749 & 0.9048968 & 12.010528\\\\\n",
       "\tC20 & 5.867653 & 5.004315 & 0.31442999 & 10.711256 & 2.8555891 &  47.89431 & 13.254900 & 107.13130 & 3.491074 & 17.700976 & ... & 5.769200 &  4.699604 &  2.258536 & 16.58167 & 0.28221299 & 1.3442743 & 12.268416 & 0.9611509 & 0.6930726 & 17.076969\\\\\n",
       "\tC21 & 2.994507 & 3.519927 & 0.09801554 &  6.688521 & 1.5160148 &  51.83806 & 10.792141 & 143.48251 & 2.358513 & 13.436587 & ... & 3.998335 &  6.014147 &  2.863185 & 23.62503 & 0.31098728 & 1.1751631 & 20.181449 & 1.1419810 & 0.9463086 & 11.436250\\\\\n",
       "\tC22 & 4.687823 & 4.491583 & 0.17403843 &  8.314741 & 3.0084741 &  51.44506 & 17.559200 & 136.08900 & 3.268331 & 19.330555 & ... & 4.033166 &  5.480618 &  4.761401 & 47.93932 & 0.31183380 & 1.4518066 & 19.253772 & 0.9841226 & 1.1051876 & 12.629551\\\\\n",
       "\tC23 & 3.280013 & 4.316636 & 0.42273780 &  5.653068 & 1.5650317 &  65.33441 & 10.955976 & 169.04225 & 1.592796 &  9.622881 & ... & 4.216855 & 11.645668 &  5.517497 & 16.77710 & 0.50589787 & 1.5594589 & 30.521633 & 1.6018953 & 1.9043311 & 10.230984\\\\\n",
       "\tC24 & 5.204104 & 3.458127 & 0.36494408 & 11.741311 & 1.7416158 &  34.21058 & 11.100468 &  98.11422 & 4.593707 & 14.291850 & ... & 4.720305 &  6.971874 &  3.375277 & 29.90065 & 0.54446309 & 1.3239716 & 16.743267 & 0.9839061 & 0.6989638 & 11.154602\\\\\n",
       "\tC25 & 5.588540 & 3.734993 & 0.77917463 & 12.011150 & 2.5891364 &  46.44425 & 12.994596 & 128.44481 & 3.751899 & 15.968933 & ... & 2.340669 &  3.246543 &  6.080448 & 23.19301 & 0.33556767 & 0.9403107 & 19.423516 & 0.5769687 & 1.4817402 & 13.379283\\\\\n",
       "\tC26 & 4.598107 & 3.328876 & 0.07856433 &  9.337495 & 1.9329781 &  61.63245 & 11.297632 & 122.39291 & 2.489933 & 16.236594 & ... & 2.747440 &  4.706521 &  7.250178 & 24.13171 & 0.38304175 & 1.2902212 & 12.550343 & 0.8038848 & 1.7145906 & 10.961215\\\\\n",
       "\tC27 & 4.634277 & 5.099693 & 0.44905180 &  7.925370 & 2.4632202 &  54.98042 & 17.177350 & 140.63427 & 4.337447 & 15.745579 & ... & 3.221204 &  5.184308 &  6.297564 & 38.59311 & 0.26498803 & 0.9986844 & 21.359285 & 1.2758648 & 1.6658383 & 12.397594\\\\\n",
       "\tC28 & 3.878983 & 2.847237 & 0.26904647 &  7.188859 & 2.5589206 &  70.99181 & 19.255434 & 144.74091 & 3.709894 & 16.731740 & ... & 2.632845 &  2.639514 & 10.650700 & 43.52915 & 0.13669718 & 1.1606255 & 24.867012 & 0.8407504 & 2.2158247 & 12.733961\\\\\n",
       "\tC29 & 4.345863 & 3.521520 & 0.34455526 &  6.682684 & 1.7929120 &  57.39407 & 10.594467 & 169.95963 & 1.279023 & 14.952520 & ... & 4.786707 &  4.934627 &  6.809560 & 23.08216 & 0.45692874 & 1.4506214 & 16.638099 & 1.2803324 & 1.5101574 & 12.139282\\\\\n",
       "\tC2 & 3.603665 & 2.645550 & 0.62284212 &  7.238063 & 1.3067751 &  38.52655 & 13.603803 &  77.20560 & 4.496474 &  9.882180 & ... & 3.256891 &  9.509125 &  4.866585 & 15.16079 & 0.29546051 & 1.3231854 & 12.915421 & 2.1723168 & 1.1181352 & 11.275725\\\\\n",
       "\tC30 & 4.081597 & 4.562313 & 0.25900429 &  8.279851 & 3.0644917 &  49.12828 & 16.824999 & 133.07289 & 4.478756 & 22.476073 & ... & 3.387771 &  4.377376 &  4.544825 & 77.58039 & 0.16586784 & 1.0252277 & 18.217113 & 1.0517783 & 1.1467316 & 13.807686\\\\\n",
       "\tC31 & 3.829200 & 3.232182 & 0.16504134 &  7.142280 & 2.9183532 &  53.40735 & 17.355165 & 127.32136 & 3.661753 & 11.603645 & ... & 1.788278 &  3.638560 &  5.533228 & 39.17035 & 0.12959292 & 0.9103792 & 17.944778 & 0.5788941 & 1.5857972 & 12.640890\\\\\n",
       "\tC3 & 1.838867 & 1.737741 & 0.12192812 &  3.295811 & 0.8404866 &  82.81210 & 17.967685 & 131.51303 & 1.553175 &  7.593004 & ... & 1.817997 &  1.276833 & 15.508749 & 20.55796 & 0.07133552 & 0.2867019 & 14.603764 & 0.2462351 & 3.1674849 & 10.171395\\\\\n",
       "\tC4 & 3.143906 & 2.345055 & 0.28024051 &  4.935064 & 0.5656992 &  51.30354 & 11.008067 & 137.74329 & 1.393414 &  8.827814 & ... & 5.197518 &  5.372061 &  9.138740 & 20.79095 & 0.40706836 & 1.8178144 & 13.567681 & 0.8313589 & 2.0004473 &  9.449611\\\\\n",
       "\tC5 & 3.533812 & 3.038324 & 0.13429011 &  5.982112 & 2.1587207 & 194.06380 & 23.310970 & 210.99957 & 2.767853 & 18.396307 & ... & 1.645533 &  2.224685 & 32.035260 & 40.35936 & 0.18608223 & 1.4435194 &  9.416601 & 0.6080595 & 8.5368790 & 12.746191\\\\\n",
       "\tC6 & 5.295277 & 5.683956 & 0.96427670 &  9.623026 & 2.7695235 &  67.76247 & 16.672742 & 149.09821 & 2.488511 & 19.925693 & ... & 2.603157 &  7.660128 & 10.121809 & 28.38413 & 0.20185603 & 0.7726399 & 17.725369 & 1.1148227 & 2.1197419 & 12.910077\\\\\n",
       "\tC7 & 4.808867 & 3.929281 & 0.45336825 &  8.272053 & 2.0013308 &  62.32141 & 19.645761 & 192.13607 & 2.321991 & 23.869541 & ... & 2.405161 &  3.861729 &  6.386825 & 46.83054 & 0.24245377 & 1.1993067 & 18.520786 & 0.6008506 & 2.1650248 & 14.450140\\\\\n",
       "\tC8 & 5.041199 & 5.240902 & 0.41864235 &  8.695072 & 2.0422764 &  44.13306 &  8.031451 & 117.47246 & 3.122744 & 15.151315 & ... & 6.527910 &  8.183522 &  4.222357 & 14.66271 & 0.32453458 & 1.8187886 & 23.505230 & 0.9130887 & 0.8188698 & 10.783513\\\\\n",
       "\t... & ... & ... & ... & ... & ... & ... & ... & ... & ... & ... &  & ... & ... & ... & ... & ... & ... & ... & ... & ... & ...\\\\\n",
       "\tCI23 &  4.859958 &  3.544509 & 0.3208139 &  9.007309 & 2.668695 & 38.68366 & 15.120254 & 101.72766 &  3.890405 & 15.139873 & ... & 2.7326048 &  2.4207623 &  2.089594 &  51.63031 & 0.28841098 & 1.13548563 & 14.704420 & 0.46458231 & 0.4017634 & 13.71734\\\\\n",
       "\tCI24 &  3.240726 &  4.937482 & 0.4859018 &  6.149367 & 2.861844 & 70.54954 & 24.309384 & 126.22580 &  3.733716 & 17.740897 & ... & 1.7270247 &  4.0586825 &  7.526458 &  65.15025 & 0.09162831 & 0.91188154 & 16.328053 & 2.03879917 & 2.4251679 & 15.67377\\\\\n",
       "\tCI25 &  3.579088 &  5.216374 & 0.2257033 &  7.762534 & 3.638271 & 52.52221 & 26.324063 & 106.02279 &  4.413114 & 19.354151 & ... & 2.4507875 &  2.6662062 &  7.188651 &  81.77000 & 0.11737819 & 0.67392887 & 12.256753 & 0.49632665 & 1.1922649 & 23.41335\\\\\n",
       "\tCI26 &  6.327608 &  5.065145 & 1.0879724 & 13.054584 & 3.546074 & 29.66081 & 19.933140 &  71.74398 &  4.088959 & 22.834024 & ... & 2.8853048 &  5.3394955 &  2.377885 &  38.77138 & 0.28849983 & 1.16738643 & 13.620150 & 0.73028284 & 0.6123994 & 17.59782\\\\\n",
       "\tCI27 &  5.415277 &  5.398500 & 0.7497745 &  9.810815 & 2.055134 & 53.66617 & 14.103145 & 117.48468 &  3.014500 & 20.297643 & ... & 4.6313342 &  4.7052389 &  5.675697 &  24.76945 & 0.37117776 & 1.38200128 & 13.122377 & 0.71049857 & 1.0576216 & 15.34054\\\\\n",
       "\tCI28 &  5.416054 &  5.399694 & 0.2612071 &  8.199088 & 1.551267 & 74.57010 & 13.890962 & 133.28792 &  3.127274 & 16.864158 & ... & 2.6981379 &  2.8612792 &  7.715043 &  19.15041 & 0.20376317 & 0.89693080 &  9.773452 & 0.64180438 & 1.8213513 & 13.79947\\\\\n",
       "\tCI29 &  7.752858 &  4.765105 & 0.4303710 &  9.792323 & 1.834137 & 46.19963 & 13.848646 &  95.55534 &  3.840605 & 16.127879 & ... & 3.4952809 &  3.1503049 &  6.203848 &  15.21121 & 0.28985559 & 1.07585347 & 10.307899 & 0.81254355 & 1.3296050 & 13.71836\\\\\n",
       "\tCI2 &  7.437961 &  5.536307 & 0.4568092 & 10.892490 & 3.516393 & 40.08212 & 20.400185 &  78.40904 &  7.277825 & 18.520997 & ... & 4.7196091 &  3.5669501 &  3.221062 &  40.27743 & 0.35200323 & 1.39226688 & 10.435171 & 0.40501350 & 0.5175905 & 17.38111\\\\\n",
       "\tCI30 &  8.105279 &  8.297862 & 0.6693853 & 15.482911 & 3.849989 & 35.12105 & 21.516830 &  85.28356 &  6.247070 & 20.543897 & ... & 2.0145887 &  3.1784759 &  3.173495 &  44.09499 & 0.10680871 & 0.89942453 & 10.575659 & 0.38974848 & 1.0273393 & 18.78770\\\\\n",
       "\tCI31 &  4.593441 &  2.520756 & 0.3282650 &  8.019878 & 1.751866 & 51.07369 & 10.167952 & 115.41396 &  3.470981 & 12.845123 & ... & 3.0474502 &  2.4079015 &  6.459937 &  20.26596 & 0.15798103 & 1.13825981 & 14.867418 & 0.41059164 & 1.5016632 & 10.44650\\\\\n",
       "\tCI32 & 12.085804 & 11.378974 & 1.2889305 & 20.339486 & 3.753488 & 30.25999 & 24.516279 &  68.50058 &  8.628083 & 34.605890 & ... & 2.1277371 &  3.5924387 &  1.280222 &  55.12280 & 0.11209659 & 0.71771652 &  6.340784 & 0.47839071 & 0.6719320 & 22.63355\\\\\n",
       "\tCI33 &  6.322697 &  3.798805 & 0.7293814 & 12.220789 & 4.157366 & 37.41394 & 19.789901 &  76.50369 &  6.872269 & 24.738468 & ... & 4.3073330 & 10.0939646 &  2.718230 &  55.76980 & 0.36061975 & 0.93862869 & 10.766548 & 1.87962221 & 0.5693322 & 18.69759\\\\\n",
       "\tCI34 &  5.505801 &  9.358933 & 0.2414093 & 12.406731 & 2.636141 & 34.67015 & 27.263092 &  83.51318 &  3.914795 & 27.243035 & ... & 1.2758462 &  0.8527773 &  3.548716 &  50.16634 & 0.04783915 & 0.51271603 &  6.324693 & 0.18872069 & 0.7044914 & 22.67291\\\\\n",
       "\tCI35 &  7.099799 &  5.389661 & 0.3630677 & 11.192173 & 2.825571 & 44.40799 & 17.656104 &  88.04450 &  3.036823 & 19.887729 & ... & 7.6009548 &  5.0888991 &  4.156776 &  33.14431 & 0.39215470 & 1.95135451 & 10.943113 & 0.86294222 & 0.8706351 & 16.94282\\\\\n",
       "\tCI36 &  9.157511 &  7.742450 & 0.9136423 & 14.490503 & 2.461067 & 36.17855 & 18.345143 &  74.56862 &  6.239136 & 28.368461 & ... & 2.8230329 &  3.5992694 &  4.085123 &  46.90447 & 0.22049671 & 0.65473195 &  7.420333 & 0.62733740 & 0.6391351 & 17.29359\\\\\n",
       "\tCI37 &  5.121032 &  8.381795 & 0.7535907 & 12.193660 & 3.620323 & 24.90042 & 23.596067 &  82.12789 &  5.715213 & 23.502333 & ... & 1.7565244 &  2.7056966 &  2.169399 &  63.56968 & 0.22320428 & 0.41768424 & 17.710214 & 0.46797937 & 0.2687040 & 20.39952\\\\\n",
       "\tCI38 &  6.143796 &  6.310964 & 0.3804302 & 10.739295 & 2.388417 & 38.70682 & 18.201804 &  88.38759 &  5.988503 & 24.688090 & ... & 2.3782938 &  3.5867491 &  3.438244 &  38.43969 & 0.12612599 & 1.05641365 & 14.564882 & 0.62486988 & 0.9921685 & 14.18384\\\\\n",
       "\tCI39 &  6.190902 &  5.702009 & 0.5733539 &  9.397216 & 3.073395 & 29.73674 & 16.268716 &  96.28663 &  3.141866 & 27.398554 & ... & 2.9776147 &  2.6200024 &  3.703345 &  67.04664 & 0.22871429 & 0.96882543 & 13.698123 & 0.48421025 & 0.7363303 & 14.47641\\\\\n",
       "\tCI3 &  6.786896 &  5.599960 & 0.6419153 & 11.219061 & 2.876432 & 50.70873 & 13.911817 &  80.24905 &  4.737368 & 18.007833 & ... & 1.5689452 &  4.2794520 &  4.873132 &  28.32958 & 0.15075307 & 0.85036624 & 10.522195 & 1.06264551 & 1.3115953 & 15.27981\\\\\n",
       "\tCI40 &  3.498554 &  6.502345 & 0.3431037 &  9.229496 & 3.143784 & 38.39102 & 20.749526 & 109.71923 &  2.719691 & 19.217083 & ... & 2.3668348 &  2.6690769 &  3.345604 &  50.17102 & 0.21077382 & 0.75606281 & 18.753139 & 0.50720388 & 0.8724499 & 14.98416\\\\\n",
       "\tCI41 & 11.016694 &  8.245560 & 0.4606197 & 25.940000 & 4.327137 & 34.73666 & 44.304537 &  39.76938 & 11.370019 & 25.360124 & ... & 0.8304819 &  0.4760973 &  4.206295 &  54.63200 & 0.02204927 & 0.09002401 &  1.403786 & 0.05073961 & 1.7814793 & 30.07831\\\\\n",
       "\tCI42 &  7.666561 &  9.854644 & 0.6666972 & 15.165005 & 3.188659 & 44.08466 & 28.532852 &  78.30631 &  3.336654 & 37.216325 & ... & 2.7638711 &  1.1793204 &  3.877100 &  76.29296 & 0.03857729 & 0.46267248 &  8.406295 & 0.28407597 & 0.9553614 & 22.18819\\\\\n",
       "\tCI43 &  3.839729 &  5.852079 & 0.2733508 &  9.105419 & 2.892801 & 68.74225 & 19.477687 & 116.15050 &  3.842931 & 22.428896 & ... & 1.1785360 &  2.4234689 & 12.565864 &  60.51207 & 0.08838081 & 0.53160374 & 11.765401 & 0.20047577 & 1.8232978 & 14.66454\\\\\n",
       "\tCI44 & 10.879458 &  7.769720 & 0.8740736 & 20.625972 & 3.783903 & 28.08275 & 15.238177 &  61.66967 &  6.386869 & 34.168159 & ... & 1.6507394 &  2.0564221 &  2.690578 &  36.11808 & 0.11145620 & 0.96365581 &  3.898687 & 0.35304009 & 0.4201184 & 17.63629\\\\\n",
       "\tCI4 &  3.237283 &  2.866114 & 0.3475488 &  8.723192 & 2.593448 & 43.33138 & 16.912287 & 101.29755 &  2.483317 & 12.349633 & ... & 1.1408550 &  2.3775157 &  4.973502 &  20.79832 & 0.06931964 & 0.74293316 & 10.489537 & 0.40198486 & 1.0364527 & 16.10270\\\\\n",
       "\tCI5 &  2.962622 &  5.146567 & 0.2773905 &  6.289086 & 1.921940 & 47.91641 & 13.464847 & 119.56087 &  2.525681 &  8.654475 & ... & 1.8354554 &  4.8321746 &  5.720023 &  15.51772 & 0.15552853 & 1.14921319 & 20.371819 & 0.62554871 & 0.9419780 & 12.85288\\\\\n",
       "\tCI6 &  4.147399 &  4.696431 & 0.4821844 &  8.560750 & 1.555995 & 47.01331 &  9.500395 &  91.62951 &  1.465464 & 10.419022 & ... & 3.9814840 &  5.5543880 &  5.463752 &  10.77056 & 0.31737129 & 1.52717102 & 10.958403 & 0.75119890 & 0.7017552 & 14.48811\\\\\n",
       "\tCI7 &  4.837991 &  4.169455 & 1.1450363 & 10.228348 & 1.866033 & 48.01575 & 12.528221 &  80.25118 &  2.161448 & 13.224816 & ... & 2.1753696 &  2.4597858 &  4.621745 &  14.94120 & 0.39761277 & 0.99617477 &  5.444841 & 0.27948581 & 0.9667794 & 15.67800\\\\\n",
       "\tCI8 &  4.703474 &  4.550506 & 0.3862120 &  9.197138 & 2.255102 & 31.48950 & 19.556371 &  71.39869 &  3.633867 & 13.132717 & ... & 3.1833378 &  8.1160269 &  3.636451 &  26.33379 & 0.25254129 & 1.38383111 &  9.794826 & 1.30299045 & 0.7467951 & 17.68502\\\\\n",
       "\tCI9 &  6.799834 &  5.194175 & 0.6451608 & 13.830133 & 7.019416 & 21.52949 & 37.886055 &  51.56099 &  8.519077 & 27.095532 & ... & 3.0337489 &  5.5703646 &  2.640197 & 126.50607 & 0.36708937 & 0.50488336 &  9.120962 & 1.01369171 & 0.4102470 & 26.99331\\\\\n",
       "\\end{tabular}\n"
      ],
      "text/markdown": [
       "\n",
       "A data.frame: 74 x 70\n",
       "\n",
       "| <!--/--> | ZNF480 &lt;dbl&gt; | ZNF354A &lt;dbl&gt; | ZNF208 &lt;dbl&gt; | ZBED5 &lt;dbl&gt; | XRCC4 &lt;dbl&gt; | VCL &lt;dbl&gt; | TXN &lt;dbl&gt; | TLN1 &lt;dbl&gt; | TFEC &lt;dbl&gt; | TAF7 &lt;dbl&gt; | ... ... | CACNA2D2 &lt;dbl&gt; | BZRAP1 &lt;dbl&gt; | BMP6 &lt;dbl&gt; | BCL2A1 &lt;dbl&gt; | BAI2 &lt;dbl&gt; | ATP1A3 &lt;dbl&gt; | ATG2A &lt;dbl&gt; | ARVCF &lt;dbl&gt; | ARHGAP6 &lt;dbl&gt; | riskscore &lt;dbl&gt; |\n",
       "|---|---|---|---|---|---|---|---|---|---|---|---|---|---|---|---|---|---|---|---|---|---|\n",
       "| C10 | 5.156136 | 5.125855 | 0.53927598 | 10.324731 | 2.3391758 |  46.57527 |  7.655688 | 101.26245 | 3.548980 | 14.059233 | ... | 2.652530 |  3.472469 |  5.936213 | 22.32717 | 0.23329959 | 0.8470702 | 13.046333 | 0.8559196 | 1.1761611 |  9.869423 |\n",
       "| C11 | 5.341337 | 6.072094 | 0.36366422 | 10.900381 | 2.8712622 |  51.53112 | 17.794071 | 101.75586 | 5.233879 | 18.917096 | ... | 4.407767 |  5.835689 |  3.418444 | 32.12134 | 0.16283123 | 0.9373913 | 15.024366 | 0.8992942 | 1.2339431 | 14.792288 |\n",
       "| C12 | 6.522543 | 6.160602 | 0.49493604 | 10.880590 | 2.4834470 |  39.63994 | 13.325481 | 102.28403 | 5.147770 | 18.593706 | ... | 3.612367 |  5.965714 |  5.612575 | 20.78413 | 0.41573734 | 1.2540463 | 17.887163 | 1.1737319 | 1.0891139 | 13.245733 |\n",
       "| C13 | 3.667491 | 3.272255 | 0.34862574 |  7.481650 | 2.9698327 |  68.89870 | 15.403335 | 144.41987 | 3.380468 | 14.959632 | ... | 4.355863 |  7.425097 |  6.031225 | 32.75097 | 0.25600027 | 1.6156179 | 16.370196 | 0.8793481 | 1.2235066 | 12.518668 |\n",
       "| C14 | 2.988996 | 4.809364 | 0.36519585 |  5.301776 | 1.1399560 |  58.60339 | 12.904001 | 179.71784 | 1.938270 | 13.146490 | ... | 5.822755 |  7.149758 |  6.431926 | 26.15903 | 0.20559951 | 1.6109713 | 19.830969 | 0.8432738 | 1.4937987 |  9.407127 |\n",
       "| C15 | 4.143916 | 3.206016 | 0.35044717 |  8.707318 | 1.8025106 |  52.53899 | 13.455027 | 104.93205 | 4.866848 |  9.665493 | ... | 5.107267 |  5.898036 |  3.058747 | 14.79481 | 0.44210315 | 1.3930229 | 11.632193 | 1.2916102 | 1.0829619 | 13.276497 |\n",
       "| C16 | 3.198194 | 3.344808 | 0.12793280 |  7.370626 | 1.9333492 |  43.86331 | 13.209503 | 105.56237 | 2.652407 | 10.776925 | ... | 6.256927 |  7.564602 |  3.957121 | 22.65391 | 0.23858000 | 2.0627744 | 16.103621 | 1.3660869 | 1.0817589 | 10.705877 |\n",
       "| C17 | 2.640424 | 2.080561 | 0.16517837 |  4.996533 | 1.5134931 |  56.38685 | 12.954591 | 132.27698 | 2.069409 |  8.929986 | ... | 4.059294 |  7.171052 |  7.243897 | 19.06042 | 0.26817488 | 1.0098414 | 20.229986 | 1.1308341 | 1.2654398 | 10.721743 |\n",
       "| C18 | 3.530397 | 3.814785 | 0.29562815 |  6.327802 | 1.5519028 |  67.52986 | 14.692961 | 184.27156 | 1.848952 | 14.499316 | ... | 5.881672 |  7.599509 |  7.288158 | 35.36146 | 0.44861711 | 1.7461261 | 22.972378 | 1.3134529 | 1.3301815 | 10.890960 |\n",
       "| C19 | 4.840630 | 4.743992 | 0.32733162 |  8.529086 | 2.0307542 |  52.26684 | 12.364173 | 139.57146 | 2.982194 | 16.217640 | ... | 5.770041 |  6.982148 |  5.246171 | 29.21597 | 0.46081929 | 1.8692418 | 13.427971 | 1.2064154 | 1.1504760 | 13.817992 |\n",
       "| C1 | 5.782671 | 4.839376 | 0.58122849 | 11.787507 | 2.6742141 |  30.73280 | 10.132857 |  69.23405 | 9.952177 | 16.605259 | ... | 3.140448 |  8.226990 |  3.979925 | 28.66226 | 0.26812008 | 0.6808474 | 14.241534 | 1.8780749 | 0.9048968 | 12.010528 |\n",
       "| C20 | 5.867653 | 5.004315 | 0.31442999 | 10.711256 | 2.8555891 |  47.89431 | 13.254900 | 107.13130 | 3.491074 | 17.700976 | ... | 5.769200 |  4.699604 |  2.258536 | 16.58167 | 0.28221299 | 1.3442743 | 12.268416 | 0.9611509 | 0.6930726 | 17.076969 |\n",
       "| C21 | 2.994507 | 3.519927 | 0.09801554 |  6.688521 | 1.5160148 |  51.83806 | 10.792141 | 143.48251 | 2.358513 | 13.436587 | ... | 3.998335 |  6.014147 |  2.863185 | 23.62503 | 0.31098728 | 1.1751631 | 20.181449 | 1.1419810 | 0.9463086 | 11.436250 |\n",
       "| C22 | 4.687823 | 4.491583 | 0.17403843 |  8.314741 | 3.0084741 |  51.44506 | 17.559200 | 136.08900 | 3.268331 | 19.330555 | ... | 4.033166 |  5.480618 |  4.761401 | 47.93932 | 0.31183380 | 1.4518066 | 19.253772 | 0.9841226 | 1.1051876 | 12.629551 |\n",
       "| C23 | 3.280013 | 4.316636 | 0.42273780 |  5.653068 | 1.5650317 |  65.33441 | 10.955976 | 169.04225 | 1.592796 |  9.622881 | ... | 4.216855 | 11.645668 |  5.517497 | 16.77710 | 0.50589787 | 1.5594589 | 30.521633 | 1.6018953 | 1.9043311 | 10.230984 |\n",
       "| C24 | 5.204104 | 3.458127 | 0.36494408 | 11.741311 | 1.7416158 |  34.21058 | 11.100468 |  98.11422 | 4.593707 | 14.291850 | ... | 4.720305 |  6.971874 |  3.375277 | 29.90065 | 0.54446309 | 1.3239716 | 16.743267 | 0.9839061 | 0.6989638 | 11.154602 |\n",
       "| C25 | 5.588540 | 3.734993 | 0.77917463 | 12.011150 | 2.5891364 |  46.44425 | 12.994596 | 128.44481 | 3.751899 | 15.968933 | ... | 2.340669 |  3.246543 |  6.080448 | 23.19301 | 0.33556767 | 0.9403107 | 19.423516 | 0.5769687 | 1.4817402 | 13.379283 |\n",
       "| C26 | 4.598107 | 3.328876 | 0.07856433 |  9.337495 | 1.9329781 |  61.63245 | 11.297632 | 122.39291 | 2.489933 | 16.236594 | ... | 2.747440 |  4.706521 |  7.250178 | 24.13171 | 0.38304175 | 1.2902212 | 12.550343 | 0.8038848 | 1.7145906 | 10.961215 |\n",
       "| C27 | 4.634277 | 5.099693 | 0.44905180 |  7.925370 | 2.4632202 |  54.98042 | 17.177350 | 140.63427 | 4.337447 | 15.745579 | ... | 3.221204 |  5.184308 |  6.297564 | 38.59311 | 0.26498803 | 0.9986844 | 21.359285 | 1.2758648 | 1.6658383 | 12.397594 |\n",
       "| C28 | 3.878983 | 2.847237 | 0.26904647 |  7.188859 | 2.5589206 |  70.99181 | 19.255434 | 144.74091 | 3.709894 | 16.731740 | ... | 2.632845 |  2.639514 | 10.650700 | 43.52915 | 0.13669718 | 1.1606255 | 24.867012 | 0.8407504 | 2.2158247 | 12.733961 |\n",
       "| C29 | 4.345863 | 3.521520 | 0.34455526 |  6.682684 | 1.7929120 |  57.39407 | 10.594467 | 169.95963 | 1.279023 | 14.952520 | ... | 4.786707 |  4.934627 |  6.809560 | 23.08216 | 0.45692874 | 1.4506214 | 16.638099 | 1.2803324 | 1.5101574 | 12.139282 |\n",
       "| C2 | 3.603665 | 2.645550 | 0.62284212 |  7.238063 | 1.3067751 |  38.52655 | 13.603803 |  77.20560 | 4.496474 |  9.882180 | ... | 3.256891 |  9.509125 |  4.866585 | 15.16079 | 0.29546051 | 1.3231854 | 12.915421 | 2.1723168 | 1.1181352 | 11.275725 |\n",
       "| C30 | 4.081597 | 4.562313 | 0.25900429 |  8.279851 | 3.0644917 |  49.12828 | 16.824999 | 133.07289 | 4.478756 | 22.476073 | ... | 3.387771 |  4.377376 |  4.544825 | 77.58039 | 0.16586784 | 1.0252277 | 18.217113 | 1.0517783 | 1.1467316 | 13.807686 |\n",
       "| C31 | 3.829200 | 3.232182 | 0.16504134 |  7.142280 | 2.9183532 |  53.40735 | 17.355165 | 127.32136 | 3.661753 | 11.603645 | ... | 1.788278 |  3.638560 |  5.533228 | 39.17035 | 0.12959292 | 0.9103792 | 17.944778 | 0.5788941 | 1.5857972 | 12.640890 |\n",
       "| C3 | 1.838867 | 1.737741 | 0.12192812 |  3.295811 | 0.8404866 |  82.81210 | 17.967685 | 131.51303 | 1.553175 |  7.593004 | ... | 1.817997 |  1.276833 | 15.508749 | 20.55796 | 0.07133552 | 0.2867019 | 14.603764 | 0.2462351 | 3.1674849 | 10.171395 |\n",
       "| C4 | 3.143906 | 2.345055 | 0.28024051 |  4.935064 | 0.5656992 |  51.30354 | 11.008067 | 137.74329 | 1.393414 |  8.827814 | ... | 5.197518 |  5.372061 |  9.138740 | 20.79095 | 0.40706836 | 1.8178144 | 13.567681 | 0.8313589 | 2.0004473 |  9.449611 |\n",
       "| C5 | 3.533812 | 3.038324 | 0.13429011 |  5.982112 | 2.1587207 | 194.06380 | 23.310970 | 210.99957 | 2.767853 | 18.396307 | ... | 1.645533 |  2.224685 | 32.035260 | 40.35936 | 0.18608223 | 1.4435194 |  9.416601 | 0.6080595 | 8.5368790 | 12.746191 |\n",
       "| C6 | 5.295277 | 5.683956 | 0.96427670 |  9.623026 | 2.7695235 |  67.76247 | 16.672742 | 149.09821 | 2.488511 | 19.925693 | ... | 2.603157 |  7.660128 | 10.121809 | 28.38413 | 0.20185603 | 0.7726399 | 17.725369 | 1.1148227 | 2.1197419 | 12.910077 |\n",
       "| C7 | 4.808867 | 3.929281 | 0.45336825 |  8.272053 | 2.0013308 |  62.32141 | 19.645761 | 192.13607 | 2.321991 | 23.869541 | ... | 2.405161 |  3.861729 |  6.386825 | 46.83054 | 0.24245377 | 1.1993067 | 18.520786 | 0.6008506 | 2.1650248 | 14.450140 |\n",
       "| C8 | 5.041199 | 5.240902 | 0.41864235 |  8.695072 | 2.0422764 |  44.13306 |  8.031451 | 117.47246 | 3.122744 | 15.151315 | ... | 6.527910 |  8.183522 |  4.222357 | 14.66271 | 0.32453458 | 1.8187886 | 23.505230 | 0.9130887 | 0.8188698 | 10.783513 |\n",
       "| ... | ... | ... | ... | ... | ... | ... | ... | ... | ... | ... | <!----> | ... | ... | ... | ... | ... | ... | ... | ... | ... | ... |\n",
       "| CI23 |  4.859958 |  3.544509 | 0.3208139 |  9.007309 | 2.668695 | 38.68366 | 15.120254 | 101.72766 |  3.890405 | 15.139873 | ... | 2.7326048 |  2.4207623 |  2.089594 |  51.63031 | 0.28841098 | 1.13548563 | 14.704420 | 0.46458231 | 0.4017634 | 13.71734 |\n",
       "| CI24 |  3.240726 |  4.937482 | 0.4859018 |  6.149367 | 2.861844 | 70.54954 | 24.309384 | 126.22580 |  3.733716 | 17.740897 | ... | 1.7270247 |  4.0586825 |  7.526458 |  65.15025 | 0.09162831 | 0.91188154 | 16.328053 | 2.03879917 | 2.4251679 | 15.67377 |\n",
       "| CI25 |  3.579088 |  5.216374 | 0.2257033 |  7.762534 | 3.638271 | 52.52221 | 26.324063 | 106.02279 |  4.413114 | 19.354151 | ... | 2.4507875 |  2.6662062 |  7.188651 |  81.77000 | 0.11737819 | 0.67392887 | 12.256753 | 0.49632665 | 1.1922649 | 23.41335 |\n",
       "| CI26 |  6.327608 |  5.065145 | 1.0879724 | 13.054584 | 3.546074 | 29.66081 | 19.933140 |  71.74398 |  4.088959 | 22.834024 | ... | 2.8853048 |  5.3394955 |  2.377885 |  38.77138 | 0.28849983 | 1.16738643 | 13.620150 | 0.73028284 | 0.6123994 | 17.59782 |\n",
       "| CI27 |  5.415277 |  5.398500 | 0.7497745 |  9.810815 | 2.055134 | 53.66617 | 14.103145 | 117.48468 |  3.014500 | 20.297643 | ... | 4.6313342 |  4.7052389 |  5.675697 |  24.76945 | 0.37117776 | 1.38200128 | 13.122377 | 0.71049857 | 1.0576216 | 15.34054 |\n",
       "| CI28 |  5.416054 |  5.399694 | 0.2612071 |  8.199088 | 1.551267 | 74.57010 | 13.890962 | 133.28792 |  3.127274 | 16.864158 | ... | 2.6981379 |  2.8612792 |  7.715043 |  19.15041 | 0.20376317 | 0.89693080 |  9.773452 | 0.64180438 | 1.8213513 | 13.79947 |\n",
       "| CI29 |  7.752858 |  4.765105 | 0.4303710 |  9.792323 | 1.834137 | 46.19963 | 13.848646 |  95.55534 |  3.840605 | 16.127879 | ... | 3.4952809 |  3.1503049 |  6.203848 |  15.21121 | 0.28985559 | 1.07585347 | 10.307899 | 0.81254355 | 1.3296050 | 13.71836 |\n",
       "| CI2 |  7.437961 |  5.536307 | 0.4568092 | 10.892490 | 3.516393 | 40.08212 | 20.400185 |  78.40904 |  7.277825 | 18.520997 | ... | 4.7196091 |  3.5669501 |  3.221062 |  40.27743 | 0.35200323 | 1.39226688 | 10.435171 | 0.40501350 | 0.5175905 | 17.38111 |\n",
       "| CI30 |  8.105279 |  8.297862 | 0.6693853 | 15.482911 | 3.849989 | 35.12105 | 21.516830 |  85.28356 |  6.247070 | 20.543897 | ... | 2.0145887 |  3.1784759 |  3.173495 |  44.09499 | 0.10680871 | 0.89942453 | 10.575659 | 0.38974848 | 1.0273393 | 18.78770 |\n",
       "| CI31 |  4.593441 |  2.520756 | 0.3282650 |  8.019878 | 1.751866 | 51.07369 | 10.167952 | 115.41396 |  3.470981 | 12.845123 | ... | 3.0474502 |  2.4079015 |  6.459937 |  20.26596 | 0.15798103 | 1.13825981 | 14.867418 | 0.41059164 | 1.5016632 | 10.44650 |\n",
       "| CI32 | 12.085804 | 11.378974 | 1.2889305 | 20.339486 | 3.753488 | 30.25999 | 24.516279 |  68.50058 |  8.628083 | 34.605890 | ... | 2.1277371 |  3.5924387 |  1.280222 |  55.12280 | 0.11209659 | 0.71771652 |  6.340784 | 0.47839071 | 0.6719320 | 22.63355 |\n",
       "| CI33 |  6.322697 |  3.798805 | 0.7293814 | 12.220789 | 4.157366 | 37.41394 | 19.789901 |  76.50369 |  6.872269 | 24.738468 | ... | 4.3073330 | 10.0939646 |  2.718230 |  55.76980 | 0.36061975 | 0.93862869 | 10.766548 | 1.87962221 | 0.5693322 | 18.69759 |\n",
       "| CI34 |  5.505801 |  9.358933 | 0.2414093 | 12.406731 | 2.636141 | 34.67015 | 27.263092 |  83.51318 |  3.914795 | 27.243035 | ... | 1.2758462 |  0.8527773 |  3.548716 |  50.16634 | 0.04783915 | 0.51271603 |  6.324693 | 0.18872069 | 0.7044914 | 22.67291 |\n",
       "| CI35 |  7.099799 |  5.389661 | 0.3630677 | 11.192173 | 2.825571 | 44.40799 | 17.656104 |  88.04450 |  3.036823 | 19.887729 | ... | 7.6009548 |  5.0888991 |  4.156776 |  33.14431 | 0.39215470 | 1.95135451 | 10.943113 | 0.86294222 | 0.8706351 | 16.94282 |\n",
       "| CI36 |  9.157511 |  7.742450 | 0.9136423 | 14.490503 | 2.461067 | 36.17855 | 18.345143 |  74.56862 |  6.239136 | 28.368461 | ... | 2.8230329 |  3.5992694 |  4.085123 |  46.90447 | 0.22049671 | 0.65473195 |  7.420333 | 0.62733740 | 0.6391351 | 17.29359 |\n",
       "| CI37 |  5.121032 |  8.381795 | 0.7535907 | 12.193660 | 3.620323 | 24.90042 | 23.596067 |  82.12789 |  5.715213 | 23.502333 | ... | 1.7565244 |  2.7056966 |  2.169399 |  63.56968 | 0.22320428 | 0.41768424 | 17.710214 | 0.46797937 | 0.2687040 | 20.39952 |\n",
       "| CI38 |  6.143796 |  6.310964 | 0.3804302 | 10.739295 | 2.388417 | 38.70682 | 18.201804 |  88.38759 |  5.988503 | 24.688090 | ... | 2.3782938 |  3.5867491 |  3.438244 |  38.43969 | 0.12612599 | 1.05641365 | 14.564882 | 0.62486988 | 0.9921685 | 14.18384 |\n",
       "| CI39 |  6.190902 |  5.702009 | 0.5733539 |  9.397216 | 3.073395 | 29.73674 | 16.268716 |  96.28663 |  3.141866 | 27.398554 | ... | 2.9776147 |  2.6200024 |  3.703345 |  67.04664 | 0.22871429 | 0.96882543 | 13.698123 | 0.48421025 | 0.7363303 | 14.47641 |\n",
       "| CI3 |  6.786896 |  5.599960 | 0.6419153 | 11.219061 | 2.876432 | 50.70873 | 13.911817 |  80.24905 |  4.737368 | 18.007833 | ... | 1.5689452 |  4.2794520 |  4.873132 |  28.32958 | 0.15075307 | 0.85036624 | 10.522195 | 1.06264551 | 1.3115953 | 15.27981 |\n",
       "| CI40 |  3.498554 |  6.502345 | 0.3431037 |  9.229496 | 3.143784 | 38.39102 | 20.749526 | 109.71923 |  2.719691 | 19.217083 | ... | 2.3668348 |  2.6690769 |  3.345604 |  50.17102 | 0.21077382 | 0.75606281 | 18.753139 | 0.50720388 | 0.8724499 | 14.98416 |\n",
       "| CI41 | 11.016694 |  8.245560 | 0.4606197 | 25.940000 | 4.327137 | 34.73666 | 44.304537 |  39.76938 | 11.370019 | 25.360124 | ... | 0.8304819 |  0.4760973 |  4.206295 |  54.63200 | 0.02204927 | 0.09002401 |  1.403786 | 0.05073961 | 1.7814793 | 30.07831 |\n",
       "| CI42 |  7.666561 |  9.854644 | 0.6666972 | 15.165005 | 3.188659 | 44.08466 | 28.532852 |  78.30631 |  3.336654 | 37.216325 | ... | 2.7638711 |  1.1793204 |  3.877100 |  76.29296 | 0.03857729 | 0.46267248 |  8.406295 | 0.28407597 | 0.9553614 | 22.18819 |\n",
       "| CI43 |  3.839729 |  5.852079 | 0.2733508 |  9.105419 | 2.892801 | 68.74225 | 19.477687 | 116.15050 |  3.842931 | 22.428896 | ... | 1.1785360 |  2.4234689 | 12.565864 |  60.51207 | 0.08838081 | 0.53160374 | 11.765401 | 0.20047577 | 1.8232978 | 14.66454 |\n",
       "| CI44 | 10.879458 |  7.769720 | 0.8740736 | 20.625972 | 3.783903 | 28.08275 | 15.238177 |  61.66967 |  6.386869 | 34.168159 | ... | 1.6507394 |  2.0564221 |  2.690578 |  36.11808 | 0.11145620 | 0.96365581 |  3.898687 | 0.35304009 | 0.4201184 | 17.63629 |\n",
       "| CI4 |  3.237283 |  2.866114 | 0.3475488 |  8.723192 | 2.593448 | 43.33138 | 16.912287 | 101.29755 |  2.483317 | 12.349633 | ... | 1.1408550 |  2.3775157 |  4.973502 |  20.79832 | 0.06931964 | 0.74293316 | 10.489537 | 0.40198486 | 1.0364527 | 16.10270 |\n",
       "| CI5 |  2.962622 |  5.146567 | 0.2773905 |  6.289086 | 1.921940 | 47.91641 | 13.464847 | 119.56087 |  2.525681 |  8.654475 | ... | 1.8354554 |  4.8321746 |  5.720023 |  15.51772 | 0.15552853 | 1.14921319 | 20.371819 | 0.62554871 | 0.9419780 | 12.85288 |\n",
       "| CI6 |  4.147399 |  4.696431 | 0.4821844 |  8.560750 | 1.555995 | 47.01331 |  9.500395 |  91.62951 |  1.465464 | 10.419022 | ... | 3.9814840 |  5.5543880 |  5.463752 |  10.77056 | 0.31737129 | 1.52717102 | 10.958403 | 0.75119890 | 0.7017552 | 14.48811 |\n",
       "| CI7 |  4.837991 |  4.169455 | 1.1450363 | 10.228348 | 1.866033 | 48.01575 | 12.528221 |  80.25118 |  2.161448 | 13.224816 | ... | 2.1753696 |  2.4597858 |  4.621745 |  14.94120 | 0.39761277 | 0.99617477 |  5.444841 | 0.27948581 | 0.9667794 | 15.67800 |\n",
       "| CI8 |  4.703474 |  4.550506 | 0.3862120 |  9.197138 | 2.255102 | 31.48950 | 19.556371 |  71.39869 |  3.633867 | 13.132717 | ... | 3.1833378 |  8.1160269 |  3.636451 |  26.33379 | 0.25254129 | 1.38383111 |  9.794826 | 1.30299045 | 0.7467951 | 17.68502 |\n",
       "| CI9 |  6.799834 |  5.194175 | 0.6451608 | 13.830133 | 7.019416 | 21.52949 | 37.886055 |  51.56099 |  8.519077 | 27.095532 | ... | 3.0337489 |  5.5703646 |  2.640197 | 126.50607 | 0.36708937 | 0.50488336 |  9.120962 | 1.01369171 | 0.4102470 | 26.99331 |\n",
       "\n"
      ],
      "text/plain": [
       "     ZNF480    ZNF354A   ZNF208     ZBED5     XRCC4     VCL       TXN      \n",
       "C10  5.156136  5.125855  0.53927598 10.324731 2.3391758  46.57527  7.655688\n",
       "C11  5.341337  6.072094  0.36366422 10.900381 2.8712622  51.53112 17.794071\n",
       "C12  6.522543  6.160602  0.49493604 10.880590 2.4834470  39.63994 13.325481\n",
       "C13  3.667491  3.272255  0.34862574  7.481650 2.9698327  68.89870 15.403335\n",
       "C14  2.988996  4.809364  0.36519585  5.301776 1.1399560  58.60339 12.904001\n",
       "C15  4.143916  3.206016  0.35044717  8.707318 1.8025106  52.53899 13.455027\n",
       "C16  3.198194  3.344808  0.12793280  7.370626 1.9333492  43.86331 13.209503\n",
       "C17  2.640424  2.080561  0.16517837  4.996533 1.5134931  56.38685 12.954591\n",
       "C18  3.530397  3.814785  0.29562815  6.327802 1.5519028  67.52986 14.692961\n",
       "C19  4.840630  4.743992  0.32733162  8.529086 2.0307542  52.26684 12.364173\n",
       "C1   5.782671  4.839376  0.58122849 11.787507 2.6742141  30.73280 10.132857\n",
       "C20  5.867653  5.004315  0.31442999 10.711256 2.8555891  47.89431 13.254900\n",
       "C21  2.994507  3.519927  0.09801554  6.688521 1.5160148  51.83806 10.792141\n",
       "C22  4.687823  4.491583  0.17403843  8.314741 3.0084741  51.44506 17.559200\n",
       "C23  3.280013  4.316636  0.42273780  5.653068 1.5650317  65.33441 10.955976\n",
       "C24  5.204104  3.458127  0.36494408 11.741311 1.7416158  34.21058 11.100468\n",
       "C25  5.588540  3.734993  0.77917463 12.011150 2.5891364  46.44425 12.994596\n",
       "C26  4.598107  3.328876  0.07856433  9.337495 1.9329781  61.63245 11.297632\n",
       "C27  4.634277  5.099693  0.44905180  7.925370 2.4632202  54.98042 17.177350\n",
       "C28  3.878983  2.847237  0.26904647  7.188859 2.5589206  70.99181 19.255434\n",
       "C29  4.345863  3.521520  0.34455526  6.682684 1.7929120  57.39407 10.594467\n",
       "C2   3.603665  2.645550  0.62284212  7.238063 1.3067751  38.52655 13.603803\n",
       "C30  4.081597  4.562313  0.25900429  8.279851 3.0644917  49.12828 16.824999\n",
       "C31  3.829200  3.232182  0.16504134  7.142280 2.9183532  53.40735 17.355165\n",
       "C3   1.838867  1.737741  0.12192812  3.295811 0.8404866  82.81210 17.967685\n",
       "C4   3.143906  2.345055  0.28024051  4.935064 0.5656992  51.30354 11.008067\n",
       "C5   3.533812  3.038324  0.13429011  5.982112 2.1587207 194.06380 23.310970\n",
       "C6   5.295277  5.683956  0.96427670  9.623026 2.7695235  67.76247 16.672742\n",
       "C7   4.808867  3.929281  0.45336825  8.272053 2.0013308  62.32141 19.645761\n",
       "C8   5.041199  5.240902  0.41864235  8.695072 2.0422764  44.13306  8.031451\n",
       "...  ...       ...       ...        ...       ...       ...       ...      \n",
       "CI23  4.859958  3.544509 0.3208139   9.007309 2.668695  38.68366  15.120254\n",
       "CI24  3.240726  4.937482 0.4859018   6.149367 2.861844  70.54954  24.309384\n",
       "CI25  3.579088  5.216374 0.2257033   7.762534 3.638271  52.52221  26.324063\n",
       "CI26  6.327608  5.065145 1.0879724  13.054584 3.546074  29.66081  19.933140\n",
       "CI27  5.415277  5.398500 0.7497745   9.810815 2.055134  53.66617  14.103145\n",
       "CI28  5.416054  5.399694 0.2612071   8.199088 1.551267  74.57010  13.890962\n",
       "CI29  7.752858  4.765105 0.4303710   9.792323 1.834137  46.19963  13.848646\n",
       "CI2   7.437961  5.536307 0.4568092  10.892490 3.516393  40.08212  20.400185\n",
       "CI30  8.105279  8.297862 0.6693853  15.482911 3.849989  35.12105  21.516830\n",
       "CI31  4.593441  2.520756 0.3282650   8.019878 1.751866  51.07369  10.167952\n",
       "CI32 12.085804 11.378974 1.2889305  20.339486 3.753488  30.25999  24.516279\n",
       "CI33  6.322697  3.798805 0.7293814  12.220789 4.157366  37.41394  19.789901\n",
       "CI34  5.505801  9.358933 0.2414093  12.406731 2.636141  34.67015  27.263092\n",
       "CI35  7.099799  5.389661 0.3630677  11.192173 2.825571  44.40799  17.656104\n",
       "CI36  9.157511  7.742450 0.9136423  14.490503 2.461067  36.17855  18.345143\n",
       "CI37  5.121032  8.381795 0.7535907  12.193660 3.620323  24.90042  23.596067\n",
       "CI38  6.143796  6.310964 0.3804302  10.739295 2.388417  38.70682  18.201804\n",
       "CI39  6.190902  5.702009 0.5733539   9.397216 3.073395  29.73674  16.268716\n",
       "CI3   6.786896  5.599960 0.6419153  11.219061 2.876432  50.70873  13.911817\n",
       "CI40  3.498554  6.502345 0.3431037   9.229496 3.143784  38.39102  20.749526\n",
       "CI41 11.016694  8.245560 0.4606197  25.940000 4.327137  34.73666  44.304537\n",
       "CI42  7.666561  9.854644 0.6666972  15.165005 3.188659  44.08466  28.532852\n",
       "CI43  3.839729  5.852079 0.2733508   9.105419 2.892801  68.74225  19.477687\n",
       "CI44 10.879458  7.769720 0.8740736  20.625972 3.783903  28.08275  15.238177\n",
       "CI4   3.237283  2.866114 0.3475488   8.723192 2.593448  43.33138  16.912287\n",
       "CI5   2.962622  5.146567 0.2773905   6.289086 1.921940  47.91641  13.464847\n",
       "CI6   4.147399  4.696431 0.4821844   8.560750 1.555995  47.01331   9.500395\n",
       "CI7   4.837991  4.169455 1.1450363  10.228348 1.866033  48.01575  12.528221\n",
       "CI8   4.703474  4.550506 0.3862120   9.197138 2.255102  31.48950  19.556371\n",
       "CI9   6.799834  5.194175 0.6451608  13.830133 7.019416  21.52949  37.886055\n",
       "     TLN1      TFEC      TAF7      ... CACNA2D2  BZRAP1     BMP6      BCL2A1   \n",
       "C10  101.26245 3.548980  14.059233 ... 2.652530   3.472469   5.936213 22.32717 \n",
       "C11  101.75586 5.233879  18.917096 ... 4.407767   5.835689   3.418444 32.12134 \n",
       "C12  102.28403 5.147770  18.593706 ... 3.612367   5.965714   5.612575 20.78413 \n",
       "C13  144.41987 3.380468  14.959632 ... 4.355863   7.425097   6.031225 32.75097 \n",
       "C14  179.71784 1.938270  13.146490 ... 5.822755   7.149758   6.431926 26.15903 \n",
       "C15  104.93205 4.866848   9.665493 ... 5.107267   5.898036   3.058747 14.79481 \n",
       "C16  105.56237 2.652407  10.776925 ... 6.256927   7.564602   3.957121 22.65391 \n",
       "C17  132.27698 2.069409   8.929986 ... 4.059294   7.171052   7.243897 19.06042 \n",
       "C18  184.27156 1.848952  14.499316 ... 5.881672   7.599509   7.288158 35.36146 \n",
       "C19  139.57146 2.982194  16.217640 ... 5.770041   6.982148   5.246171 29.21597 \n",
       "C1    69.23405 9.952177  16.605259 ... 3.140448   8.226990   3.979925 28.66226 \n",
       "C20  107.13130 3.491074  17.700976 ... 5.769200   4.699604   2.258536 16.58167 \n",
       "C21  143.48251 2.358513  13.436587 ... 3.998335   6.014147   2.863185 23.62503 \n",
       "C22  136.08900 3.268331  19.330555 ... 4.033166   5.480618   4.761401 47.93932 \n",
       "C23  169.04225 1.592796   9.622881 ... 4.216855  11.645668   5.517497 16.77710 \n",
       "C24   98.11422 4.593707  14.291850 ... 4.720305   6.971874   3.375277 29.90065 \n",
       "C25  128.44481 3.751899  15.968933 ... 2.340669   3.246543   6.080448 23.19301 \n",
       "C26  122.39291 2.489933  16.236594 ... 2.747440   4.706521   7.250178 24.13171 \n",
       "C27  140.63427 4.337447  15.745579 ... 3.221204   5.184308   6.297564 38.59311 \n",
       "C28  144.74091 3.709894  16.731740 ... 2.632845   2.639514  10.650700 43.52915 \n",
       "C29  169.95963 1.279023  14.952520 ... 4.786707   4.934627   6.809560 23.08216 \n",
       "C2    77.20560 4.496474   9.882180 ... 3.256891   9.509125   4.866585 15.16079 \n",
       "C30  133.07289 4.478756  22.476073 ... 3.387771   4.377376   4.544825 77.58039 \n",
       "C31  127.32136 3.661753  11.603645 ... 1.788278   3.638560   5.533228 39.17035 \n",
       "C3   131.51303 1.553175   7.593004 ... 1.817997   1.276833  15.508749 20.55796 \n",
       "C4   137.74329 1.393414   8.827814 ... 5.197518   5.372061   9.138740 20.79095 \n",
       "C5   210.99957 2.767853  18.396307 ... 1.645533   2.224685  32.035260 40.35936 \n",
       "C6   149.09821 2.488511  19.925693 ... 2.603157   7.660128  10.121809 28.38413 \n",
       "C7   192.13607 2.321991  23.869541 ... 2.405161   3.861729   6.386825 46.83054 \n",
       "C8   117.47246 3.122744  15.151315 ... 6.527910   8.183522   4.222357 14.66271 \n",
       "...  ...       ...       ...           ...       ...        ...       ...      \n",
       "CI23 101.72766  3.890405 15.139873 ... 2.7326048  2.4207623  2.089594  51.63031\n",
       "CI24 126.22580  3.733716 17.740897 ... 1.7270247  4.0586825  7.526458  65.15025\n",
       "CI25 106.02279  4.413114 19.354151 ... 2.4507875  2.6662062  7.188651  81.77000\n",
       "CI26  71.74398  4.088959 22.834024 ... 2.8853048  5.3394955  2.377885  38.77138\n",
       "CI27 117.48468  3.014500 20.297643 ... 4.6313342  4.7052389  5.675697  24.76945\n",
       "CI28 133.28792  3.127274 16.864158 ... 2.6981379  2.8612792  7.715043  19.15041\n",
       "CI29  95.55534  3.840605 16.127879 ... 3.4952809  3.1503049  6.203848  15.21121\n",
       "CI2   78.40904  7.277825 18.520997 ... 4.7196091  3.5669501  3.221062  40.27743\n",
       "CI30  85.28356  6.247070 20.543897 ... 2.0145887  3.1784759  3.173495  44.09499\n",
       "CI31 115.41396  3.470981 12.845123 ... 3.0474502  2.4079015  6.459937  20.26596\n",
       "CI32  68.50058  8.628083 34.605890 ... 2.1277371  3.5924387  1.280222  55.12280\n",
       "CI33  76.50369  6.872269 24.738468 ... 4.3073330 10.0939646  2.718230  55.76980\n",
       "CI34  83.51318  3.914795 27.243035 ... 1.2758462  0.8527773  3.548716  50.16634\n",
       "CI35  88.04450  3.036823 19.887729 ... 7.6009548  5.0888991  4.156776  33.14431\n",
       "CI36  74.56862  6.239136 28.368461 ... 2.8230329  3.5992694  4.085123  46.90447\n",
       "CI37  82.12789  5.715213 23.502333 ... 1.7565244  2.7056966  2.169399  63.56968\n",
       "CI38  88.38759  5.988503 24.688090 ... 2.3782938  3.5867491  3.438244  38.43969\n",
       "CI39  96.28663  3.141866 27.398554 ... 2.9776147  2.6200024  3.703345  67.04664\n",
       "CI3   80.24905  4.737368 18.007833 ... 1.5689452  4.2794520  4.873132  28.32958\n",
       "CI40 109.71923  2.719691 19.217083 ... 2.3668348  2.6690769  3.345604  50.17102\n",
       "CI41  39.76938 11.370019 25.360124 ... 0.8304819  0.4760973  4.206295  54.63200\n",
       "CI42  78.30631  3.336654 37.216325 ... 2.7638711  1.1793204  3.877100  76.29296\n",
       "CI43 116.15050  3.842931 22.428896 ... 1.1785360  2.4234689 12.565864  60.51207\n",
       "CI44  61.66967  6.386869 34.168159 ... 1.6507394  2.0564221  2.690578  36.11808\n",
       "CI4  101.29755  2.483317 12.349633 ... 1.1408550  2.3775157  4.973502  20.79832\n",
       "CI5  119.56087  2.525681  8.654475 ... 1.8354554  4.8321746  5.720023  15.51772\n",
       "CI6   91.62951  1.465464 10.419022 ... 3.9814840  5.5543880  5.463752  10.77056\n",
       "CI7   80.25118  2.161448 13.224816 ... 2.1753696  2.4597858  4.621745  14.94120\n",
       "CI8   71.39869  3.633867 13.132717 ... 3.1833378  8.1160269  3.636451  26.33379\n",
       "CI9   51.56099  8.519077 27.095532 ... 3.0337489  5.5703646  2.640197 126.50607\n",
       "     BAI2       ATP1A3     ATG2A     ARVCF      ARHGAP6   riskscore\n",
       "C10  0.23329959 0.8470702  13.046333 0.8559196  1.1761611  9.869423\n",
       "C11  0.16283123 0.9373913  15.024366 0.8992942  1.2339431 14.792288\n",
       "C12  0.41573734 1.2540463  17.887163 1.1737319  1.0891139 13.245733\n",
       "C13  0.25600027 1.6156179  16.370196 0.8793481  1.2235066 12.518668\n",
       "C14  0.20559951 1.6109713  19.830969 0.8432738  1.4937987  9.407127\n",
       "C15  0.44210315 1.3930229  11.632193 1.2916102  1.0829619 13.276497\n",
       "C16  0.23858000 2.0627744  16.103621 1.3660869  1.0817589 10.705877\n",
       "C17  0.26817488 1.0098414  20.229986 1.1308341  1.2654398 10.721743\n",
       "C18  0.44861711 1.7461261  22.972378 1.3134529  1.3301815 10.890960\n",
       "C19  0.46081929 1.8692418  13.427971 1.2064154  1.1504760 13.817992\n",
       "C1   0.26812008 0.6808474  14.241534 1.8780749  0.9048968 12.010528\n",
       "C20  0.28221299 1.3442743  12.268416 0.9611509  0.6930726 17.076969\n",
       "C21  0.31098728 1.1751631  20.181449 1.1419810  0.9463086 11.436250\n",
       "C22  0.31183380 1.4518066  19.253772 0.9841226  1.1051876 12.629551\n",
       "C23  0.50589787 1.5594589  30.521633 1.6018953  1.9043311 10.230984\n",
       "C24  0.54446309 1.3239716  16.743267 0.9839061  0.6989638 11.154602\n",
       "C25  0.33556767 0.9403107  19.423516 0.5769687  1.4817402 13.379283\n",
       "C26  0.38304175 1.2902212  12.550343 0.8038848  1.7145906 10.961215\n",
       "C27  0.26498803 0.9986844  21.359285 1.2758648  1.6658383 12.397594\n",
       "C28  0.13669718 1.1606255  24.867012 0.8407504  2.2158247 12.733961\n",
       "C29  0.45692874 1.4506214  16.638099 1.2803324  1.5101574 12.139282\n",
       "C2   0.29546051 1.3231854  12.915421 2.1723168  1.1181352 11.275725\n",
       "C30  0.16586784 1.0252277  18.217113 1.0517783  1.1467316 13.807686\n",
       "C31  0.12959292 0.9103792  17.944778 0.5788941  1.5857972 12.640890\n",
       "C3   0.07133552 0.2867019  14.603764 0.2462351  3.1674849 10.171395\n",
       "C4   0.40706836 1.8178144  13.567681 0.8313589  2.0004473  9.449611\n",
       "C5   0.18608223 1.4435194   9.416601 0.6080595  8.5368790 12.746191\n",
       "C6   0.20185603 0.7726399  17.725369 1.1148227  2.1197419 12.910077\n",
       "C7   0.24245377 1.1993067  18.520786 0.6008506  2.1650248 14.450140\n",
       "C8   0.32453458 1.8187886  23.505230 0.9130887  0.8188698 10.783513\n",
       "...  ...        ...        ...       ...        ...       ...      \n",
       "CI23 0.28841098 1.13548563 14.704420 0.46458231 0.4017634 13.71734 \n",
       "CI24 0.09162831 0.91188154 16.328053 2.03879917 2.4251679 15.67377 \n",
       "CI25 0.11737819 0.67392887 12.256753 0.49632665 1.1922649 23.41335 \n",
       "CI26 0.28849983 1.16738643 13.620150 0.73028284 0.6123994 17.59782 \n",
       "CI27 0.37117776 1.38200128 13.122377 0.71049857 1.0576216 15.34054 \n",
       "CI28 0.20376317 0.89693080  9.773452 0.64180438 1.8213513 13.79947 \n",
       "CI29 0.28985559 1.07585347 10.307899 0.81254355 1.3296050 13.71836 \n",
       "CI2  0.35200323 1.39226688 10.435171 0.40501350 0.5175905 17.38111 \n",
       "CI30 0.10680871 0.89942453 10.575659 0.38974848 1.0273393 18.78770 \n",
       "CI31 0.15798103 1.13825981 14.867418 0.41059164 1.5016632 10.44650 \n",
       "CI32 0.11209659 0.71771652  6.340784 0.47839071 0.6719320 22.63355 \n",
       "CI33 0.36061975 0.93862869 10.766548 1.87962221 0.5693322 18.69759 \n",
       "CI34 0.04783915 0.51271603  6.324693 0.18872069 0.7044914 22.67291 \n",
       "CI35 0.39215470 1.95135451 10.943113 0.86294222 0.8706351 16.94282 \n",
       "CI36 0.22049671 0.65473195  7.420333 0.62733740 0.6391351 17.29359 \n",
       "CI37 0.22320428 0.41768424 17.710214 0.46797937 0.2687040 20.39952 \n",
       "CI38 0.12612599 1.05641365 14.564882 0.62486988 0.9921685 14.18384 \n",
       "CI39 0.22871429 0.96882543 13.698123 0.48421025 0.7363303 14.47641 \n",
       "CI3  0.15075307 0.85036624 10.522195 1.06264551 1.3115953 15.27981 \n",
       "CI40 0.21077382 0.75606281 18.753139 0.50720388 0.8724499 14.98416 \n",
       "CI41 0.02204927 0.09002401  1.403786 0.05073961 1.7814793 30.07831 \n",
       "CI42 0.03857729 0.46267248  8.406295 0.28407597 0.9553614 22.18819 \n",
       "CI43 0.08838081 0.53160374 11.765401 0.20047577 1.8232978 14.66454 \n",
       "CI44 0.11145620 0.96365581  3.898687 0.35304009 0.4201184 17.63629 \n",
       "CI4  0.06931964 0.74293316 10.489537 0.40198486 1.0364527 16.10270 \n",
       "CI5  0.15552853 1.14921319 20.371819 0.62554871 0.9419780 12.85288 \n",
       "CI6  0.31737129 1.52717102 10.958403 0.75119890 0.7017552 14.48811 \n",
       "CI7  0.39761277 0.99617477  5.444841 0.27948581 0.9667794 15.67800 \n",
       "CI8  0.25254129 1.38383111  9.794826 1.30299045 0.7467951 17.68502 \n",
       "CI9  0.36708937 0.50488336  9.120962 1.01369171 0.4102470 26.99331 "
      ]
     },
     "metadata": {},
     "output_type": "display_data"
    }
   ],
   "source": [
    "expr"
   ]
  },
  {
   "cell_type": "code",
   "execution_count": null,
   "id": "4981d473-d755-4f44-967f-78ccd7b0508c",
   "metadata": {},
   "outputs": [],
   "source": []
  }
 ],
 "metadata": {
  "kernelspec": {
   "display_name": "R",
   "language": "R",
   "name": "ir"
  },
  "language_info": {
   "codemirror_mode": "r",
   "file_extension": ".r",
   "mimetype": "text/x-r-source",
   "name": "R",
   "pygments_lexer": "r",
   "version": "4.2.1"
  }
 },
 "nbformat": 4,
 "nbformat_minor": 5
}
