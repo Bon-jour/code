{
 "cells": [
  {
   "cell_type": "code",
   "execution_count": 87,
   "id": "4803cf30-6f2e-42bc-a83c-bfcb4dd2fc29",
   "metadata": {},
   "outputs": [],
   "source": [
    "setwd('/import/liujing/data2/')"
   ]
  },
  {
   "cell_type": "code",
   "execution_count": 88,
   "id": "41967ac0-887f-404f-93a1-2d87bfc31490",
   "metadata": {},
   "outputs": [],
   "source": [
    "library(openxlsx)"
   ]
  },
  {
   "cell_type": "code",
   "execution_count": 89,
   "id": "59e7d3b7-554b-4c66-add5-d56fddf64002",
   "metadata": {},
   "outputs": [],
   "source": [
    "data<- read.xlsx(\"./res/CI-CTR/bulk/74-mRNA_FPKM.genename.xlsx\", sheet = 1)"
   ]
  },
  {
   "cell_type": "code",
   "execution_count": 90,
   "id": "04fdbbf9-87af-4c87-af18-9f16a9c13424",
   "metadata": {},
   "outputs": [
    {
     "data": {
      "text/html": [
       "<table class=\"dataframe\">\n",
       "<caption>A data.frame: 2 x 75</caption>\n",
       "<thead>\n",
       "\t<tr><th></th><th scope=col>Gene_name</th><th scope=col>C10</th><th scope=col>C11</th><th scope=col>C12</th><th scope=col>C13</th><th scope=col>C14</th><th scope=col>C15</th><th scope=col>C16</th><th scope=col>C17</th><th scope=col>C18</th><th scope=col>...</th><th scope=col>CI41</th><th scope=col>CI42</th><th scope=col>CI43</th><th scope=col>CI44</th><th scope=col>CI4</th><th scope=col>CI5</th><th scope=col>CI6</th><th scope=col>CI7</th><th scope=col>CI8</th><th scope=col>CI9</th></tr>\n",
       "\t<tr><th></th><th scope=col>&lt;chr&gt;</th><th scope=col>&lt;dbl&gt;</th><th scope=col>&lt;dbl&gt;</th><th scope=col>&lt;dbl&gt;</th><th scope=col>&lt;dbl&gt;</th><th scope=col>&lt;dbl&gt;</th><th scope=col>&lt;dbl&gt;</th><th scope=col>&lt;dbl&gt;</th><th scope=col>&lt;dbl&gt;</th><th scope=col>&lt;dbl&gt;</th><th scope=col>...</th><th scope=col>&lt;dbl&gt;</th><th scope=col>&lt;dbl&gt;</th><th scope=col>&lt;dbl&gt;</th><th scope=col>&lt;dbl&gt;</th><th scope=col>&lt;dbl&gt;</th><th scope=col>&lt;dbl&gt;</th><th scope=col>&lt;dbl&gt;</th><th scope=col>&lt;dbl&gt;</th><th scope=col>&lt;dbl&gt;</th><th scope=col>&lt;dbl&gt;</th></tr>\n",
       "</thead>\n",
       "<tbody>\n",
       "\t<tr><th scope=row>1</th><td>ZZZ3 </td><td> 9.694104</td><td> 8.204165</td><td> 9.569441</td><td> 6.659882</td><td> 5.449594</td><td> 8.611691</td><td> 6.886018</td><td> 5.389103</td><td> 5.336686</td><td>...</td><td>14.880933</td><td> 8.037799</td><td> 5.667441</td><td>11.80003</td><td> 6.659176</td><td> 5.785232</td><td> 8.749977</td><td>11.03076</td><td> 8.004704</td><td>10.07247</td></tr>\n",
       "\t<tr><th scope=row>2</th><td>ZZEF1</td><td>18.515927</td><td>18.296195</td><td>19.053030</td><td>18.403302</td><td>19.992571</td><td>18.649972</td><td>19.680564</td><td>20.438019</td><td>19.539639</td><td>...</td><td> 8.751292</td><td>17.115120</td><td>16.585566</td><td>16.60637</td><td>18.344102</td><td>21.665904</td><td>21.333761</td><td>20.21582</td><td>17.918223</td><td>13.92859</td></tr>\n",
       "</tbody>\n",
       "</table>\n"
      ],
      "text/latex": [
       "A data.frame: 2 x 75\n",
       "\\begin{tabular}{r|lllllllllllllllllllll}\n",
       "  & Gene\\_name & C10 & C11 & C12 & C13 & C14 & C15 & C16 & C17 & C18 & ... & CI41 & CI42 & CI43 & CI44 & CI4 & CI5 & CI6 & CI7 & CI8 & CI9\\\\\n",
       "  & <chr> & <dbl> & <dbl> & <dbl> & <dbl> & <dbl> & <dbl> & <dbl> & <dbl> & <dbl> & ... & <dbl> & <dbl> & <dbl> & <dbl> & <dbl> & <dbl> & <dbl> & <dbl> & <dbl> & <dbl>\\\\\n",
       "\\hline\n",
       "\t1 & ZZZ3  &  9.694104 &  8.204165 &  9.569441 &  6.659882 &  5.449594 &  8.611691 &  6.886018 &  5.389103 &  5.336686 & ... & 14.880933 &  8.037799 &  5.667441 & 11.80003 &  6.659176 &  5.785232 &  8.749977 & 11.03076 &  8.004704 & 10.07247\\\\\n",
       "\t2 & ZZEF1 & 18.515927 & 18.296195 & 19.053030 & 18.403302 & 19.992571 & 18.649972 & 19.680564 & 20.438019 & 19.539639 & ... &  8.751292 & 17.115120 & 16.585566 & 16.60637 & 18.344102 & 21.665904 & 21.333761 & 20.21582 & 17.918223 & 13.92859\\\\\n",
       "\\end{tabular}\n"
      ],
      "text/markdown": [
       "\n",
       "A data.frame: 2 x 75\n",
       "\n",
       "| <!--/--> | Gene_name &lt;chr&gt; | C10 &lt;dbl&gt; | C11 &lt;dbl&gt; | C12 &lt;dbl&gt; | C13 &lt;dbl&gt; | C14 &lt;dbl&gt; | C15 &lt;dbl&gt; | C16 &lt;dbl&gt; | C17 &lt;dbl&gt; | C18 &lt;dbl&gt; | ... ... | CI41 &lt;dbl&gt; | CI42 &lt;dbl&gt; | CI43 &lt;dbl&gt; | CI44 &lt;dbl&gt; | CI4 &lt;dbl&gt; | CI5 &lt;dbl&gt; | CI6 &lt;dbl&gt; | CI7 &lt;dbl&gt; | CI8 &lt;dbl&gt; | CI9 &lt;dbl&gt; |\n",
       "|---|---|---|---|---|---|---|---|---|---|---|---|---|---|---|---|---|---|---|---|---|---|\n",
       "| 1 | ZZZ3  |  9.694104 |  8.204165 |  9.569441 |  6.659882 |  5.449594 |  8.611691 |  6.886018 |  5.389103 |  5.336686 | ... | 14.880933 |  8.037799 |  5.667441 | 11.80003 |  6.659176 |  5.785232 |  8.749977 | 11.03076 |  8.004704 | 10.07247 |\n",
       "| 2 | ZZEF1 | 18.515927 | 18.296195 | 19.053030 | 18.403302 | 19.992571 | 18.649972 | 19.680564 | 20.438019 | 19.539639 | ... |  8.751292 | 17.115120 | 16.585566 | 16.60637 | 18.344102 | 21.665904 | 21.333761 | 20.21582 | 17.918223 | 13.92859 |\n",
       "\n"
      ],
      "text/plain": [
       "  Gene_name C10       C11       C12       C13       C14       C15      \n",
       "1 ZZZ3       9.694104  8.204165  9.569441  6.659882  5.449594  8.611691\n",
       "2 ZZEF1     18.515927 18.296195 19.053030 18.403302 19.992571 18.649972\n",
       "  C16       C17       C18       ... CI41      CI42      CI43      CI44    \n",
       "1  6.886018  5.389103  5.336686 ... 14.880933  8.037799  5.667441 11.80003\n",
       "2 19.680564 20.438019 19.539639 ...  8.751292 17.115120 16.585566 16.60637\n",
       "  CI4       CI5       CI6       CI7      CI8       CI9     \n",
       "1  6.659176  5.785232  8.749977 11.03076  8.004704 10.07247\n",
       "2 18.344102 21.665904 21.333761 20.21582 17.918223 13.92859"
      ]
     },
     "metadata": {},
     "output_type": "display_data"
    }
   ],
   "source": [
    "head(data,2)"
   ]
  },
  {
   "cell_type": "code",
   "execution_count": 91,
   "id": "5d88bca6-3766-4528-b767-457b5e1e42e1",
   "metadata": {},
   "outputs": [],
   "source": [
    "overla = read.table('./overlap.txt',header =T)"
   ]
  },
  {
   "cell_type": "code",
   "execution_count": 92,
   "id": "475d778f-f371-4d03-a722-338d75bc89fe",
   "metadata": {},
   "outputs": [],
   "source": [
    "library(dplyr)"
   ]
  },
  {
   "cell_type": "code",
   "execution_count": 93,
   "id": "52591a9b-f41d-45a1-96f3-a878cea4539c",
   "metadata": {},
   "outputs": [],
   "source": [
    "expr = data %>%  dplyr::filter(Gene_name %in%  overla$GeneName) %>%  tibble::column_to_rownames(.,'Gene_name') %>%  t()"
   ]
  },
  {
   "cell_type": "code",
   "execution_count": 94,
   "id": "c740737e-924b-4873-98a6-9775a704425f",
   "metadata": {},
   "outputs": [],
   "source": [
    "Group = c(rep('con',31),rep('CI',43))"
   ]
  },
  {
   "cell_type": "code",
   "execution_count": 372,
   "id": "edd85f90-f01d-40f6-bdff-16fbeca62392",
   "metadata": {},
   "outputs": [],
   "source": [
    "colnames(expr) = gsub('-','.',colnames(expr))"
   ]
  },
  {
   "cell_type": "code",
   "execution_count": 373,
   "id": "29eb9c5b-58d2-439c-8f4a-04a0198b4903",
   "metadata": {},
   "outputs": [
    {
     "data": {
      "text/html": [
       "<style>\n",
       ".list-inline {list-style: none; margin:0; padding: 0}\n",
       ".list-inline>li {display: inline-block}\n",
       ".list-inline>li:not(:last-child)::after {content: \"\\00b7\"; padding: 0 .5ex}\n",
       "</style>\n",
       "<ol class=list-inline><li>'ZNF480'</li><li>'ZNF354A'</li><li>'ZNF208'</li><li>'ZBED5'</li><li>'XRCC4'</li><li>'VCL'</li><li>'TXN'</li><li>'TLN1'</li><li>'TFEC'</li><li>'TAF7'</li><li>'SYCP2'</li><li>'SUMO4'</li><li>'STON2'</li><li>'SPON2'</li><li>'SPOCD1'</li><li>'SH3TC2'</li><li>'SH2D2A'</li><li>'SCN9A'</li><li>'SAMD9'</li><li>'RPL34'</li><li>'RASD2'</li><li>'PTPRS'</li><li>'PRF1'</li><li>'POLR2K'</li><li>'PITPNM2'</li><li>'PILRB'</li><li>'PER1'</li><li>'PDGFA'</li><li>'PCDH1'</li><li>'OSBPL7'</li><li>'OSBPL5'</li><li>'NID1'</li><li>'NCR3'</li><li>'MT.ND4L'</li><li>'MLC1'</li><li>'MAP1A'</li><li>'LSM3'</li><li>'LPAR6'</li><li>'LMNA'</li><li>'KIR2DL1'</li><li>'KIFC3'</li><li>'IL2RB'</li><li>'IGJ'</li><li>'HIST1H2BE'</li><li>'HCFC1'</li><li>'GPR56'</li><li>'GNLY'</li><li>'GAPT'</li><li>'FSD1'</li><li>'FOSB'</li><li>'FLNA'</li><li>'FAM200B'</li><li>'F2R'</li><li>'EVI2A'</li><li>'ERBB2'</li><li>'DUSP2'</li><li>'DDIT4'</li><li>'DAB2'</li><li>'CSTA'</li><li>'CLSTN1'</li><li>'CLEC2B'</li><li>'CARNS1'</li><li>'CACNA2D2'</li><li>'BZRAP1'</li><li>'BMP6'</li><li>'BCL2A1'</li><li>'BAI2'</li><li>'ATP1A3'</li><li>'ATG2A'</li><li>'ARVCF'</li><li>'ARHGAP6'</li></ol>\n"
      ],
      "text/latex": [
       "\\begin{enumerate*}\n",
       "\\item 'ZNF480'\n",
       "\\item 'ZNF354A'\n",
       "\\item 'ZNF208'\n",
       "\\item 'ZBED5'\n",
       "\\item 'XRCC4'\n",
       "\\item 'VCL'\n",
       "\\item 'TXN'\n",
       "\\item 'TLN1'\n",
       "\\item 'TFEC'\n",
       "\\item 'TAF7'\n",
       "\\item 'SYCP2'\n",
       "\\item 'SUMO4'\n",
       "\\item 'STON2'\n",
       "\\item 'SPON2'\n",
       "\\item 'SPOCD1'\n",
       "\\item 'SH3TC2'\n",
       "\\item 'SH2D2A'\n",
       "\\item 'SCN9A'\n",
       "\\item 'SAMD9'\n",
       "\\item 'RPL34'\n",
       "\\item 'RASD2'\n",
       "\\item 'PTPRS'\n",
       "\\item 'PRF1'\n",
       "\\item 'POLR2K'\n",
       "\\item 'PITPNM2'\n",
       "\\item 'PILRB'\n",
       "\\item 'PER1'\n",
       "\\item 'PDGFA'\n",
       "\\item 'PCDH1'\n",
       "\\item 'OSBPL7'\n",
       "\\item 'OSBPL5'\n",
       "\\item 'NID1'\n",
       "\\item 'NCR3'\n",
       "\\item 'MT.ND4L'\n",
       "\\item 'MLC1'\n",
       "\\item 'MAP1A'\n",
       "\\item 'LSM3'\n",
       "\\item 'LPAR6'\n",
       "\\item 'LMNA'\n",
       "\\item 'KIR2DL1'\n",
       "\\item 'KIFC3'\n",
       "\\item 'IL2RB'\n",
       "\\item 'IGJ'\n",
       "\\item 'HIST1H2BE'\n",
       "\\item 'HCFC1'\n",
       "\\item 'GPR56'\n",
       "\\item 'GNLY'\n",
       "\\item 'GAPT'\n",
       "\\item 'FSD1'\n",
       "\\item 'FOSB'\n",
       "\\item 'FLNA'\n",
       "\\item 'FAM200B'\n",
       "\\item 'F2R'\n",
       "\\item 'EVI2A'\n",
       "\\item 'ERBB2'\n",
       "\\item 'DUSP2'\n",
       "\\item 'DDIT4'\n",
       "\\item 'DAB2'\n",
       "\\item 'CSTA'\n",
       "\\item 'CLSTN1'\n",
       "\\item 'CLEC2B'\n",
       "\\item 'CARNS1'\n",
       "\\item 'CACNA2D2'\n",
       "\\item 'BZRAP1'\n",
       "\\item 'BMP6'\n",
       "\\item 'BCL2A1'\n",
       "\\item 'BAI2'\n",
       "\\item 'ATP1A3'\n",
       "\\item 'ATG2A'\n",
       "\\item 'ARVCF'\n",
       "\\item 'ARHGAP6'\n",
       "\\end{enumerate*}\n"
      ],
      "text/markdown": [
       "1. 'ZNF480'\n",
       "2. 'ZNF354A'\n",
       "3. 'ZNF208'\n",
       "4. 'ZBED5'\n",
       "5. 'XRCC4'\n",
       "6. 'VCL'\n",
       "7. 'TXN'\n",
       "8. 'TLN1'\n",
       "9. 'TFEC'\n",
       "10. 'TAF7'\n",
       "11. 'SYCP2'\n",
       "12. 'SUMO4'\n",
       "13. 'STON2'\n",
       "14. 'SPON2'\n",
       "15. 'SPOCD1'\n",
       "16. 'SH3TC2'\n",
       "17. 'SH2D2A'\n",
       "18. 'SCN9A'\n",
       "19. 'SAMD9'\n",
       "20. 'RPL34'\n",
       "21. 'RASD2'\n",
       "22. 'PTPRS'\n",
       "23. 'PRF1'\n",
       "24. 'POLR2K'\n",
       "25. 'PITPNM2'\n",
       "26. 'PILRB'\n",
       "27. 'PER1'\n",
       "28. 'PDGFA'\n",
       "29. 'PCDH1'\n",
       "30. 'OSBPL7'\n",
       "31. 'OSBPL5'\n",
       "32. 'NID1'\n",
       "33. 'NCR3'\n",
       "34. 'MT.ND4L'\n",
       "35. 'MLC1'\n",
       "36. 'MAP1A'\n",
       "37. 'LSM3'\n",
       "38. 'LPAR6'\n",
       "39. 'LMNA'\n",
       "40. 'KIR2DL1'\n",
       "41. 'KIFC3'\n",
       "42. 'IL2RB'\n",
       "43. 'IGJ'\n",
       "44. 'HIST1H2BE'\n",
       "45. 'HCFC1'\n",
       "46. 'GPR56'\n",
       "47. 'GNLY'\n",
       "48. 'GAPT'\n",
       "49. 'FSD1'\n",
       "50. 'FOSB'\n",
       "51. 'FLNA'\n",
       "52. 'FAM200B'\n",
       "53. 'F2R'\n",
       "54. 'EVI2A'\n",
       "55. 'ERBB2'\n",
       "56. 'DUSP2'\n",
       "57. 'DDIT4'\n",
       "58. 'DAB2'\n",
       "59. 'CSTA'\n",
       "60. 'CLSTN1'\n",
       "61. 'CLEC2B'\n",
       "62. 'CARNS1'\n",
       "63. 'CACNA2D2'\n",
       "64. 'BZRAP1'\n",
       "65. 'BMP6'\n",
       "66. 'BCL2A1'\n",
       "67. 'BAI2'\n",
       "68. 'ATP1A3'\n",
       "69. 'ATG2A'\n",
       "70. 'ARVCF'\n",
       "71. 'ARHGAP6'\n",
       "\n",
       "\n"
      ],
      "text/plain": [
       " [1] \"ZNF480\"    \"ZNF354A\"   \"ZNF208\"    \"ZBED5\"     \"XRCC4\"     \"VCL\"      \n",
       " [7] \"TXN\"       \"TLN1\"      \"TFEC\"      \"TAF7\"      \"SYCP2\"     \"SUMO4\"    \n",
       "[13] \"STON2\"     \"SPON2\"     \"SPOCD1\"    \"SH3TC2\"    \"SH2D2A\"    \"SCN9A\"    \n",
       "[19] \"SAMD9\"     \"RPL34\"     \"RASD2\"     \"PTPRS\"     \"PRF1\"      \"POLR2K\"   \n",
       "[25] \"PITPNM2\"   \"PILRB\"     \"PER1\"      \"PDGFA\"     \"PCDH1\"     \"OSBPL7\"   \n",
       "[31] \"OSBPL5\"    \"NID1\"      \"NCR3\"      \"MT.ND4L\"   \"MLC1\"      \"MAP1A\"    \n",
       "[37] \"LSM3\"      \"LPAR6\"     \"LMNA\"      \"KIR2DL1\"   \"KIFC3\"     \"IL2RB\"    \n",
       "[43] \"IGJ\"       \"HIST1H2BE\" \"HCFC1\"     \"GPR56\"     \"GNLY\"      \"GAPT\"     \n",
       "[49] \"FSD1\"      \"FOSB\"      \"FLNA\"      \"FAM200B\"   \"F2R\"       \"EVI2A\"    \n",
       "[55] \"ERBB2\"     \"DUSP2\"     \"DDIT4\"     \"DAB2\"      \"CSTA\"      \"CLSTN1\"   \n",
       "[61] \"CLEC2B\"    \"CARNS1\"    \"CACNA2D2\"  \"BZRAP1\"    \"BMP6\"      \"BCL2A1\"   \n",
       "[67] \"BAI2\"      \"ATP1A3\"    \"ATG2A\"     \"ARVCF\"     \"ARHGAP6\"  "
      ]
     },
     "metadata": {},
     "output_type": "display_data"
    }
   ],
   "source": [
    "colnames(expr)"
   ]
  },
  {
   "cell_type": "code",
   "execution_count": 374,
   "id": "ad410fc8-54bc-4f82-b2a8-1eae99ed3b39",
   "metadata": {},
   "outputs": [
    {
     "data": {
      "text/html": [
       "<table class=\"dataframe\">\n",
       "<caption>A data.frame: 2 x 71</caption>\n",
       "<thead>\n",
       "\t<tr><th></th><th scope=col>ZNF480</th><th scope=col>ZNF354A</th><th scope=col>ZNF208</th><th scope=col>ZBED5</th><th scope=col>XRCC4</th><th scope=col>VCL</th><th scope=col>TXN</th><th scope=col>TLN1</th><th scope=col>TFEC</th><th scope=col>TAF7</th><th scope=col>...</th><th scope=col>CARNS1</th><th scope=col>CACNA2D2</th><th scope=col>BZRAP1</th><th scope=col>BMP6</th><th scope=col>BCL2A1</th><th scope=col>BAI2</th><th scope=col>ATP1A3</th><th scope=col>ATG2A</th><th scope=col>ARVCF</th><th scope=col>ARHGAP6</th></tr>\n",
       "\t<tr><th></th><th scope=col>&lt;dbl&gt;</th><th scope=col>&lt;dbl&gt;</th><th scope=col>&lt;dbl&gt;</th><th scope=col>&lt;dbl&gt;</th><th scope=col>&lt;dbl&gt;</th><th scope=col>&lt;dbl&gt;</th><th scope=col>&lt;dbl&gt;</th><th scope=col>&lt;dbl&gt;</th><th scope=col>&lt;dbl&gt;</th><th scope=col>&lt;dbl&gt;</th><th scope=col>...</th><th scope=col>&lt;dbl&gt;</th><th scope=col>&lt;dbl&gt;</th><th scope=col>&lt;dbl&gt;</th><th scope=col>&lt;dbl&gt;</th><th scope=col>&lt;dbl&gt;</th><th scope=col>&lt;dbl&gt;</th><th scope=col>&lt;dbl&gt;</th><th scope=col>&lt;dbl&gt;</th><th scope=col>&lt;dbl&gt;</th><th scope=col>&lt;dbl&gt;</th></tr>\n",
       "</thead>\n",
       "<tbody>\n",
       "\t<tr><th scope=row>1</th><td>5.156136</td><td>5.125855</td><td>0.5392760</td><td>10.32473</td><td>2.339176</td><td>46.57527</td><td> 7.655688</td><td>101.2624</td><td>3.548980</td><td>14.05923</td><td>...</td><td>2.390462</td><td>2.652530</td><td>3.472469</td><td>5.936213</td><td>22.32717</td><td>0.2332996</td><td>0.8470702</td><td>13.04633</td><td>0.8559196</td><td>1.176161</td></tr>\n",
       "\t<tr><th scope=row>2</th><td>5.341337</td><td>6.072094</td><td>0.3636642</td><td>10.90038</td><td>2.871262</td><td>51.53112</td><td>17.794071</td><td>101.7559</td><td>5.233879</td><td>18.91710</td><td>...</td><td>2.103993</td><td>4.407767</td><td>5.835689</td><td>3.418444</td><td>32.12134</td><td>0.1628312</td><td>0.9373913</td><td>15.02437</td><td>0.8992942</td><td>1.233943</td></tr>\n",
       "</tbody>\n",
       "</table>\n"
      ],
      "text/latex": [
       "A data.frame: 2 x 71\n",
       "\\begin{tabular}{r|lllllllllllllllllllll}\n",
       "  & ZNF480 & ZNF354A & ZNF208 & ZBED5 & XRCC4 & VCL & TXN & TLN1 & TFEC & TAF7 & ... & CARNS1 & CACNA2D2 & BZRAP1 & BMP6 & BCL2A1 & BAI2 & ATP1A3 & ATG2A & ARVCF & ARHGAP6\\\\\n",
       "  & <dbl> & <dbl> & <dbl> & <dbl> & <dbl> & <dbl> & <dbl> & <dbl> & <dbl> & <dbl> & ... & <dbl> & <dbl> & <dbl> & <dbl> & <dbl> & <dbl> & <dbl> & <dbl> & <dbl> & <dbl>\\\\\n",
       "\\hline\n",
       "\t1 & 5.156136 & 5.125855 & 0.5392760 & 10.32473 & 2.339176 & 46.57527 &  7.655688 & 101.2624 & 3.548980 & 14.05923 & ... & 2.390462 & 2.652530 & 3.472469 & 5.936213 & 22.32717 & 0.2332996 & 0.8470702 & 13.04633 & 0.8559196 & 1.176161\\\\\n",
       "\t2 & 5.341337 & 6.072094 & 0.3636642 & 10.90038 & 2.871262 & 51.53112 & 17.794071 & 101.7559 & 5.233879 & 18.91710 & ... & 2.103993 & 4.407767 & 5.835689 & 3.418444 & 32.12134 & 0.1628312 & 0.9373913 & 15.02437 & 0.8992942 & 1.233943\\\\\n",
       "\\end{tabular}\n"
      ],
      "text/markdown": [
       "\n",
       "A data.frame: 2 x 71\n",
       "\n",
       "| <!--/--> | ZNF480 &lt;dbl&gt; | ZNF354A &lt;dbl&gt; | ZNF208 &lt;dbl&gt; | ZBED5 &lt;dbl&gt; | XRCC4 &lt;dbl&gt; | VCL &lt;dbl&gt; | TXN &lt;dbl&gt; | TLN1 &lt;dbl&gt; | TFEC &lt;dbl&gt; | TAF7 &lt;dbl&gt; | ... ... | CARNS1 &lt;dbl&gt; | CACNA2D2 &lt;dbl&gt; | BZRAP1 &lt;dbl&gt; | BMP6 &lt;dbl&gt; | BCL2A1 &lt;dbl&gt; | BAI2 &lt;dbl&gt; | ATP1A3 &lt;dbl&gt; | ATG2A &lt;dbl&gt; | ARVCF &lt;dbl&gt; | ARHGAP6 &lt;dbl&gt; |\n",
       "|---|---|---|---|---|---|---|---|---|---|---|---|---|---|---|---|---|---|---|---|---|---|\n",
       "| 1 | 5.156136 | 5.125855 | 0.5392760 | 10.32473 | 2.339176 | 46.57527 |  7.655688 | 101.2624 | 3.548980 | 14.05923 | ... | 2.390462 | 2.652530 | 3.472469 | 5.936213 | 22.32717 | 0.2332996 | 0.8470702 | 13.04633 | 0.8559196 | 1.176161 |\n",
       "| 2 | 5.341337 | 6.072094 | 0.3636642 | 10.90038 | 2.871262 | 51.53112 | 17.794071 | 101.7559 | 5.233879 | 18.91710 | ... | 2.103993 | 4.407767 | 5.835689 | 3.418444 | 32.12134 | 0.1628312 | 0.9373913 | 15.02437 | 0.8992942 | 1.233943 |\n",
       "\n"
      ],
      "text/plain": [
       "  ZNF480   ZNF354A  ZNF208    ZBED5    XRCC4    VCL      TXN       TLN1    \n",
       "1 5.156136 5.125855 0.5392760 10.32473 2.339176 46.57527  7.655688 101.2624\n",
       "2 5.341337 6.072094 0.3636642 10.90038 2.871262 51.53112 17.794071 101.7559\n",
       "  TFEC     TAF7     ... CARNS1   CACNA2D2 BZRAP1   BMP6     BCL2A1   BAI2     \n",
       "1 3.548980 14.05923 ... 2.390462 2.652530 3.472469 5.936213 22.32717 0.2332996\n",
       "2 5.233879 18.91710 ... 2.103993 4.407767 5.835689 3.418444 32.12134 0.1628312\n",
       "  ATP1A3    ATG2A    ARVCF     ARHGAP6 \n",
       "1 0.8470702 13.04633 0.8559196 1.176161\n",
       "2 0.9373913 15.02437 0.8992942 1.233943"
      ]
     },
     "metadata": {},
     "output_type": "display_data"
    }
   ],
   "source": [
    "head(expr,2)"
   ]
  },
  {
   "cell_type": "code",
   "execution_count": 375,
   "id": "87d78a36-9df1-42a0-a625-b8666e1f2af8",
   "metadata": {},
   "outputs": [],
   "source": [
    "Type = ifelse(Group == 'CI',1,0)"
   ]
  },
  {
   "cell_type": "code",
   "execution_count": 98,
   "id": "ab65721e-6b86-41ef-a50f-a498981a0e4c",
   "metadata": {},
   "outputs": [],
   "source": [
    "x = as.matrix(expr)\n",
    "y = Type"
   ]
  },
  {
   "cell_type": "code",
   "execution_count": 99,
   "id": "169ffec6-1642-4189-bf9d-15da56264520",
   "metadata": {},
   "outputs": [],
   "source": [
    "library(randomForest)"
   ]
  },
  {
   "cell_type": "code",
   "execution_count": 100,
   "id": "b493e28e-80c5-414f-b4ac-3e76ffb4fe80",
   "metadata": {},
   "outputs": [],
   "source": [
    "options(repr.plot.width = 6)"
   ]
  },
  {
   "cell_type": "code",
   "execution_count": 101,
   "id": "8ec7bf55-3068-4fae-8580-cde38eae11ca",
   "metadata": {},
   "outputs": [],
   "source": [
    "set.seed(1010)"
   ]
  },
  {
   "cell_type": "code",
   "execution_count": 102,
   "id": "dd25da7b-009d-46a7-9e48-0fbd6e6a1e6c",
   "metadata": {},
   "outputs": [],
   "source": [
    "rf = randomForest(as.factor(y)~.,data = x,ntree =2000,important=TRUE,proximity=TRUE)"
   ]
  },
  {
   "cell_type": "code",
   "execution_count": 103,
   "id": "1b74320e-150b-4207-b95d-5aa4a8ab847c",
   "metadata": {},
   "outputs": [
    {
     "data": {
      "image/png": "[encoded data removed]",
      "text/plain": [
       "Plot with title \"rf\""
      ]
     },
     "metadata": {
      "image/png": {
       "height": 420,
       "width": 360
      }
     },
     "output_type": "display_data"
    }
   ],
   "source": [
    "plot(rf)"
   ]
  },
  {
   "cell_type": "code",
   "execution_count": 104,
   "id": "b7ea5ec0-bed9-4c41-abb4-4c8652566413",
   "metadata": {},
   "outputs": [
    {
     "data": {
      "text/html": [
       "<strong>png:</strong> 2"
      ],
      "text/latex": [
       "\\textbf{png:} 2"
      ],
      "text/markdown": [
       "**png:** 2"
      ],
      "text/plain": [
       "png \n",
       "  2 "
      ]
     },
     "metadata": {},
     "output_type": "display_data"
    }
   ],
   "source": [
    "pdf('forest.pdf',height = 6,width = 6)\n",
    "plot(rf)\n",
    "dev.off()"
   ]
  },
  {
   "cell_type": "code",
   "execution_count": 105,
   "id": "7767331a-f20a-4eda-94b9-4a7c991c20fc",
   "metadata": {},
   "outputs": [],
   "source": [
    "trees = which.min(rf$err.rate[,1])"
   ]
  },
  {
   "cell_type": "code",
   "execution_count": 106,
   "id": "acb3c396-1756-4cee-9427-27cd6c654924",
   "metadata": {},
   "outputs": [],
   "source": [
    "rf = randomForest(as.factor(y)~.,data = x,ntree =trees,important=TRUE,proximity=TRUE)"
   ]
  },
  {
   "cell_type": "code",
   "execution_count": 107,
   "id": "54d38c6c-84d5-4183-b154-e8b9c2e3e988",
   "metadata": {},
   "outputs": [],
   "source": [
    "importance = importance(rf)"
   ]
  },
  {
   "cell_type": "code",
   "execution_count": 108,
   "id": "30c391f0-d3b7-4156-8ee9-72ea910c3b1c",
   "metadata": {},
   "outputs": [
    {
     "data": {
      "text/html": [
       "<strong>png:</strong> 2"
      ],
      "text/latex": [
       "\\textbf{png:} 2"
      ],
      "text/markdown": [
       "**png:** 2"
      ],
      "text/plain": [
       "png \n",
       "  2 "
      ]
     },
     "metadata": {},
     "output_type": "display_data"
    }
   ],
   "source": [
    "pdf('forest2.pdf',height = 6,width = 4)\n",
    "varImpPlot(rf,main = '')\n",
    "dev.off()"
   ]
  },
  {
   "cell_type": "code",
   "execution_count": 109,
   "id": "5266a68b-0af6-43ba-9c5e-ccd5274e258e",
   "metadata": {},
   "outputs": [],
   "source": [
    "options(repr.plot.width = 4)"
   ]
  },
  {
   "cell_type": "code",
   "execution_count": 110,
   "id": "fa486741-b1ff-4ff1-94a4-a7e2d11ec6b6",
   "metadata": {},
   "outputs": [
    {
     "data": {
      "image/png": "[encoded data removed]",
      "text/plain": [
       "Plot with title \"\""
      ]
     },
     "metadata": {
      "image/png": {
       "height": 420,
       "width": 240
      }
     },
     "output_type": "display_data"
    }
   ],
   "source": [
    "varImpPlot(rf,main = '')"
   ]
  },
  {
   "cell_type": "code",
   "execution_count": 111,
   "id": "8e6e85d1-8986-4b0c-988a-c4da8658c182",
   "metadata": {},
   "outputs": [],
   "source": [
    "rfGenes=importance[order(importance[, \"MeanDecreaseGini\"], decreasing  = TRUE),] #重要性评分大于2的基因"
   ]
  },
  {
   "cell_type": "code",
   "execution_count": 112,
   "id": "810d5669-9db3-4956-b629-6ab2df7fb760",
   "metadata": {},
   "outputs": [
    {
     "data": {
      "text/html": [
       "<style>\n",
       ".dl-inline {width: auto; margin:0; padding: 0}\n",
       ".dl-inline>dt, .dl-inline>dd {float: none; width: auto; display: inline-block}\n",
       ".dl-inline>dt::after {content: \":\\0020\"; padding-right: .5ex}\n",
       ".dl-inline>dt:not(:first-of-type) {padding-left: .5ex}\n",
       "</style><dl class=dl-inline><dt>MT.ND4L</dt><dd>13.3177418904973</dd><dt>FLNA</dt><dd>7.99174406604739</dd><dt>TLN1</dt><dd>6.47843137254897</dd><dt>PRF1</dt><dd>3.2</dd><dt>OSBPL5</dt><dd>1.88235294117647</dd><dt>PDGFA</dt><dd>1.33333333333333</dd><dt>BAI2</dt><dd>1.06666666666667</dd><dt>ZNF480</dt><dd>0</dd><dt>ZNF354A</dt><dd>0</dd><dt>ZNF208</dt><dd>0</dd><dt>ZBED5</dt><dd>0</dd><dt>XRCC4</dt><dd>0</dd><dt>VCL</dt><dd>0</dd><dt>TXN</dt><dd>0</dd><dt>TFEC</dt><dd>0</dd><dt>TAF7</dt><dd>0</dd><dt>SYCP2</dt><dd>0</dd><dt>SUMO4</dt><dd>0</dd><dt>STON2</dt><dd>0</dd><dt>SPON2</dt><dd>0</dd><dt>SPOCD1</dt><dd>0</dd><dt>SH3TC2</dt><dd>0</dd><dt>SH2D2A</dt><dd>0</dd><dt>SCN9A</dt><dd>0</dd><dt>SAMD9</dt><dd>0</dd><dt>RPL34</dt><dd>0</dd><dt>RASD2</dt><dd>0</dd><dt>PTPRS</dt><dd>0</dd><dt>POLR2K</dt><dd>0</dd><dt>PITPNM2</dt><dd>0</dd><dt>PILRB</dt><dd>0</dd><dt>PER1</dt><dd>0</dd><dt>PCDH1</dt><dd>0</dd><dt>OSBPL7</dt><dd>0</dd><dt>NID1</dt><dd>0</dd><dt>NCR3</dt><dd>0</dd><dt>MLC1</dt><dd>0</dd><dt>MAP1A</dt><dd>0</dd><dt>LSM3</dt><dd>0</dd><dt>LPAR6</dt><dd>0</dd><dt>LMNA</dt><dd>0</dd><dt>KIR2DL1</dt><dd>0</dd><dt>KIFC3</dt><dd>0</dd><dt>IL2RB</dt><dd>0</dd><dt>IGJ</dt><dd>0</dd><dt>HIST1H2BE</dt><dd>0</dd><dt>HCFC1</dt><dd>0</dd><dt>GPR56</dt><dd>0</dd><dt>GNLY</dt><dd>0</dd><dt>GAPT</dt><dd>0</dd><dt>FSD1</dt><dd>0</dd><dt>FOSB</dt><dd>0</dd><dt>FAM200B</dt><dd>0</dd><dt>F2R</dt><dd>0</dd><dt>EVI2A</dt><dd>0</dd><dt>ERBB2</dt><dd>0</dd><dt>DUSP2</dt><dd>0</dd><dt>DDIT4</dt><dd>0</dd><dt>DAB2</dt><dd>0</dd><dt>CSTA</dt><dd>0</dd><dt>CLSTN1</dt><dd>0</dd><dt>CLEC2B</dt><dd>0</dd><dt>CARNS1</dt><dd>0</dd><dt>CACNA2D2</dt><dd>0</dd><dt>BZRAP1</dt><dd>0</dd><dt>BMP6</dt><dd>0</dd><dt>BCL2A1</dt><dd>0</dd><dt>ATP1A3</dt><dd>0</dd><dt>ATG2A</dt><dd>0</dd><dt>ARVCF</dt><dd>0</dd><dt>ARHGAP6</dt><dd>0</dd></dl>\n"
      ],
      "text/latex": [
       "\\begin{description*}\n",
       "\\item[MT.ND4L] 13.3177418904973\n",
       "\\item[FLNA] 7.99174406604739\n",
       "\\item[TLN1] 6.47843137254897\n",
       "\\item[PRF1] 3.2\n",
       "\\item[OSBPL5] 1.88235294117647\n",
       "\\item[PDGFA] 1.33333333333333\n",
       "\\item[BAI2] 1.06666666666667\n",
       "\\item[ZNF480] 0\n",
       "\\item[ZNF354A] 0\n",
       "\\item[ZNF208] 0\n",
       "\\item[ZBED5] 0\n",
       "\\item[XRCC4] 0\n",
       "\\item[VCL] 0\n",
       "\\item[TXN] 0\n",
       "\\item[TFEC] 0\n",
       "\\item[TAF7] 0\n",
       "\\item[SYCP2] 0\n",
       "\\item[SUMO4] 0\n",
       "\\item[STON2] 0\n",
       "\\item[SPON2] 0\n",
       "\\item[SPOCD1] 0\n",
       "\\item[SH3TC2] 0\n",
       "\\item[SH2D2A] 0\n",
       "\\item[SCN9A] 0\n",
       "\\item[SAMD9] 0\n",
       "\\item[RPL34] 0\n",
       "\\item[RASD2] 0\n",
       "\\item[PTPRS] 0\n",
       "\\item[POLR2K] 0\n",
       "\\item[PITPNM2] 0\n",
       "\\item[PILRB] 0\n",
       "\\item[PER1] 0\n",
       "\\item[PCDH1] 0\n",
       "\\item[OSBPL7] 0\n",
       "\\item[NID1] 0\n",
       "\\item[NCR3] 0\n",
       "\\item[MLC1] 0\n",
       "\\item[MAP1A] 0\n",
       "\\item[LSM3] 0\n",
       "\\item[LPAR6] 0\n",
       "\\item[LMNA] 0\n",
       "\\item[KIR2DL1] 0\n",
       "\\item[KIFC3] 0\n",
       "\\item[IL2RB] 0\n",
       "\\item[IGJ] 0\n",
       "\\item[HIST1H2BE] 0\n",
       "\\item[HCFC1] 0\n",
       "\\item[GPR56] 0\n",
       "\\item[GNLY] 0\n",
       "\\item[GAPT] 0\n",
       "\\item[FSD1] 0\n",
       "\\item[FOSB] 0\n",
       "\\item[FAM200B] 0\n",
       "\\item[F2R] 0\n",
       "\\item[EVI2A] 0\n",
       "\\item[ERBB2] 0\n",
       "\\item[DUSP2] 0\n",
       "\\item[DDIT4] 0\n",
       "\\item[DAB2] 0\n",
       "\\item[CSTA] 0\n",
       "\\item[CLSTN1] 0\n",
       "\\item[CLEC2B] 0\n",
       "\\item[CARNS1] 0\n",
       "\\item[CACNA2D2] 0\n",
       "\\item[BZRAP1] 0\n",
       "\\item[BMP6] 0\n",
       "\\item[BCL2A1] 0\n",
       "\\item[ATP1A3] 0\n",
       "\\item[ATG2A] 0\n",
       "\\item[ARVCF] 0\n",
       "\\item[ARHGAP6] 0\n",
       "\\end{description*}\n"
      ],
      "text/markdown": [
       "MT.ND4L\n",
       ":   13.3177418904973FLNA\n",
       ":   7.99174406604739TLN1\n",
       ":   6.47843137254897PRF1\n",
       ":   3.2OSBPL5\n",
       ":   1.88235294117647PDGFA\n",
       ":   1.33333333333333BAI2\n",
       ":   1.06666666666667ZNF480\n",
       ":   0ZNF354A\n",
       ":   0ZNF208\n",
       ":   0ZBED5\n",
       ":   0XRCC4\n",
       ":   0VCL\n",
       ":   0TXN\n",
       ":   0TFEC\n",
       ":   0TAF7\n",
       ":   0SYCP2\n",
       ":   0SUMO4\n",
       ":   0STON2\n",
       ":   0SPON2\n",
       ":   0SPOCD1\n",
       ":   0SH3TC2\n",
       ":   0SH2D2A\n",
       ":   0SCN9A\n",
       ":   0SAMD9\n",
       ":   0RPL34\n",
       ":   0RASD2\n",
       ":   0PTPRS\n",
       ":   0POLR2K\n",
       ":   0PITPNM2\n",
       ":   0PILRB\n",
       ":   0PER1\n",
       ":   0PCDH1\n",
       ":   0OSBPL7\n",
       ":   0NID1\n",
       ":   0NCR3\n",
       ":   0MLC1\n",
       ":   0MAP1A\n",
       ":   0LSM3\n",
       ":   0LPAR6\n",
       ":   0LMNA\n",
       ":   0KIR2DL1\n",
       ":   0KIFC3\n",
       ":   0IL2RB\n",
       ":   0IGJ\n",
       ":   0HIST1H2BE\n",
       ":   0HCFC1\n",
       ":   0GPR56\n",
       ":   0GNLY\n",
       ":   0GAPT\n",
       ":   0FSD1\n",
       ":   0FOSB\n",
       ":   0FAM200B\n",
       ":   0F2R\n",
       ":   0EVI2A\n",
       ":   0ERBB2\n",
       ":   0DUSP2\n",
       ":   0DDIT4\n",
       ":   0DAB2\n",
       ":   0CSTA\n",
       ":   0CLSTN1\n",
       ":   0CLEC2B\n",
       ":   0CARNS1\n",
       ":   0CACNA2D2\n",
       ":   0BZRAP1\n",
       ":   0BMP6\n",
       ":   0BCL2A1\n",
       ":   0ATP1A3\n",
       ":   0ATG2A\n",
       ":   0ARVCF\n",
       ":   0ARHGAP6\n",
       ":   0\n",
       "\n"
      ],
      "text/plain": [
       "  MT.ND4L      FLNA      TLN1      PRF1    OSBPL5     PDGFA      BAI2    ZNF480 \n",
       "13.317742  7.991744  6.478431  3.200000  1.882353  1.333333  1.066667  0.000000 \n",
       "  ZNF354A    ZNF208     ZBED5     XRCC4       VCL       TXN      TFEC      TAF7 \n",
       " 0.000000  0.000000  0.000000  0.000000  0.000000  0.000000  0.000000  0.000000 \n",
       "    SYCP2     SUMO4     STON2     SPON2    SPOCD1    SH3TC2    SH2D2A     SCN9A \n",
       " 0.000000  0.000000  0.000000  0.000000  0.000000  0.000000  0.000000  0.000000 \n",
       "    SAMD9     RPL34     RASD2     PTPRS    POLR2K   PITPNM2     PILRB      PER1 \n",
       " 0.000000  0.000000  0.000000  0.000000  0.000000  0.000000  0.000000  0.000000 \n",
       "    PCDH1    OSBPL7      NID1      NCR3      MLC1     MAP1A      LSM3     LPAR6 \n",
       " 0.000000  0.000000  0.000000  0.000000  0.000000  0.000000  0.000000  0.000000 \n",
       "     LMNA   KIR2DL1     KIFC3     IL2RB       IGJ HIST1H2BE     HCFC1     GPR56 \n",
       " 0.000000  0.000000  0.000000  0.000000  0.000000  0.000000  0.000000  0.000000 \n",
       "     GNLY      GAPT      FSD1      FOSB   FAM200B       F2R     EVI2A     ERBB2 \n",
       " 0.000000  0.000000  0.000000  0.000000  0.000000  0.000000  0.000000  0.000000 \n",
       "    DUSP2     DDIT4      DAB2      CSTA    CLSTN1    CLEC2B    CARNS1  CACNA2D2 \n",
       " 0.000000  0.000000  0.000000  0.000000  0.000000  0.000000  0.000000  0.000000 \n",
       "   BZRAP1      BMP6    BCL2A1    ATP1A3     ATG2A     ARVCF   ARHGAP6 \n",
       " 0.000000  0.000000  0.000000  0.000000  0.000000  0.000000  0.000000 "
      ]
     },
     "metadata": {},
     "output_type": "display_data"
    }
   ],
   "source": [
    "rfGenes"
   ]
  },
  {
   "cell_type": "code",
   "execution_count": null,
   "id": "5e68dfae-351c-473e-9510-77c914e6ba07",
   "metadata": {},
   "outputs": [],
   "source": [
    "# rfGenes=names(rfGenes[rfGenes>30]) \n",
    "# write.table(rfGenes,file=\"rfGenes.txt\",sep=\"\\t\",quote=F,col.names=F,row.names=F) #输出表达量\n",
    "\n",
    "# sigExp=expr[rfGenes,]\n",
    "# write.table(data.frame(ID=rownames(sigExp),sigExp),file=\"rfGeneExp.txt\",sep=\"\\t\",quote=F,col.names=T,row.names=F) "
   ]
  },
  {
   "cell_type": "markdown",
   "id": "af18f8e6-2aaf-42ec-a432-c763909b210d",
   "metadata": {},
   "source": [
    "### svm"
   ]
  },
  {
   "cell_type": "code",
   "execution_count": 66,
   "id": "fbf987a1-8c99-4b6e-bf25-3f1b55c17fb0",
   "metadata": {},
   "outputs": [],
   "source": [
    "# library(tidyverse)\n",
    "# library(glmnet)\n",
    "# library(VennDiagram)\n",
    "# library(e1071)\n",
    "# library(caret)\n",
    "# library(randomForest)\n",
    "\n",
    "# y=as.numeric(as.factor(Type))\n",
    "\n",
    "# y\n",
    "\n",
    "\n",
    "\n",
    "# library(future)\n",
    "# plan(\"multisession\",workers=30)\n",
    "\n",
    "# set.seed(1)\n",
    "# rfeControl = rfeControl(functions = caretFuncs,\n",
    "#                         method = \"cv\", # 默认自助法重采样 boot\n",
    "#                         saveDetails = T, # 保存预测值和变量重要性\n",
    "#                         number = 5, # 重抽样次数\n",
    "#                         allowParallel = T # 允许多线程，用这个之前你要先准备好多线程！\n",
    "#                         )\n",
    "\n",
    "# Profile=rfe(x=x,y=y,sizes = c(1:10),\n",
    "#     rfeControl =  rfeControl,\n",
    "#     methods=\"svmRadial\")\n",
    "\n",
    "# pdf(file=\"SVM-RFE.pdf\", width=6, height=5.5)\n",
    "# par(las=1)\n",
    "# x= Profile$results$Variables \n",
    "# y =Profile$results$RMSE\n",
    "# plot(x, y, xlab=\"Variables\", ylab=\"RMSE (Cross-Validation)\", col=\"darkgreen\") \n",
    "# lines(x, y, col=\"darkgreen\")\n",
    "# wmin=which.min(y) \n",
    "# wmin.x=x[wmin] \n",
    "# wmin.y=y[wmin]\n",
    "# points(wmin.x, wmin.y, col=\"blue\", pch=16)\n",
    "# text(wmin.x, wmin.y, paste0('N=', wmin.x), pos=2, col=2)\n",
    "# dev.off()\n",
    "\n",
    "# par(las=1)\n",
    "# x= Profile$results$Variables \n",
    "# y =Profile$results$RMSE\n",
    "# plot(x, y, xlab=\"Variables\", ylab=\"RMSE (Cross-Validation)\", col=\"darkgreen\") \n",
    "# lines(x, y, col=\"darkgreen\")\n",
    "# wmin=which.min(y) \n",
    "# wmin.x=x[wmin] \n",
    "# wmin.y=y[wmin]\n",
    "# points(wmin.x, wmin.y, col=\"blue\", pch=16)\n",
    "# text(wmin.x, wmin.y, paste0('N=', wmin.x), pos=2, col=2)\n",
    "\n",
    "# #输出\n",
    "# featureGenes = Profile$optVariables\n",
    "# write.table(file=\"SVM-RFE.gene.txt\",featureGenes,sep=\"\\t\",quote=F,row.names=F,col.names=F) #表达矩阵 \n",
    "\n",
    "# featureGenes"
   ]
  },
  {
   "cell_type": "markdown",
   "id": "80a4188a-f4ee-4fc6-8479-542b5b97f5a7",
   "metadata": {},
   "source": [
    "### Boruta"
   ]
  },
  {
   "cell_type": "code",
   "execution_count": 68,
   "id": "c3d5dd8e-c054-4893-826f-15808121999e",
   "metadata": {},
   "outputs": [],
   "source": [
    "library(Boruta)"
   ]
  },
  {
   "cell_type": "code",
   "execution_count": 69,
   "id": "bfef83bb-f0df-4544-88ff-ac95865a034a",
   "metadata": {},
   "outputs": [],
   "source": [
    "set.seed(1)\n",
    "boruta <- Boruta(x=x, y=y, pValue=0.05, mcAdj=T, \n",
    "       maxRuns=300)"
   ]
  },
  {
   "cell_type": "code",
   "execution_count": 70,
   "id": "874bd68a-9461-4cb0-a659-3b68b63dbf4a",
   "metadata": {},
   "outputs": [
    {
     "data": {
      "text/plain": [
       "Boruta performed 299 iterations in 18.19137 secs.\n",
       " 28 attributes confirmed important: ARHGAP6, ARVCF, ATG2A, BZRAP1,\n",
       "CLSTN1 and 23 more;\n",
       " 34 attributes confirmed unimportant: ATP1A3, BAI2, BCL2A1, BMP6,\n",
       "CACNA2D2 and 29 more;\n",
       " 9 tentative attributes left: DAB2, GPR56, HCFC1, IGJ, LSM3 and 4 more;"
      ]
     },
     "metadata": {},
     "output_type": "display_data"
    }
   ],
   "source": [
    "boruta"
   ]
  },
  {
   "cell_type": "code",
   "execution_count": 71,
   "id": "e303931f-31a8-455d-a409-9279e159919d",
   "metadata": {},
   "outputs": [
    {
     "data": {
      "text/plain": [
       "\n",
       "Tentative Confirmed  Rejected \n",
       "        9        28        34 "
      ]
     },
     "metadata": {},
     "output_type": "display_data"
    }
   ],
   "source": [
    "table(boruta$finalDecision)"
   ]
  },
  {
   "cell_type": "code",
   "execution_count": 72,
   "id": "9d8e6501-7065-40d6-803c-8903eb4be86b",
   "metadata": {},
   "outputs": [
    {
     "data": {
      "text/html": [
       "<style>\n",
       ".dl-inline {width: auto; margin:0; padding: 0}\n",
       ".dl-inline>dt, .dl-inline>dd {float: none; width: auto; display: inline-block}\n",
       ".dl-inline>dt::after {content: \":\\0020\"; padding-right: .5ex}\n",
       ".dl-inline>dt:not(:first-of-type) {padding-left: .5ex}\n",
       "</style><dl class=dl-inline><dt>ZNF480</dt><dd>Tentative</dd><dt>ZNF354A</dt><dd>Rejected</dd><dt>ZNF208</dt><dd>Tentative</dd><dt>ZBED5</dt><dd>Rejected</dd><dt>XRCC4</dt><dd>Rejected</dd><dt>VCL</dt><dd>Confirmed</dd><dt>TXN</dt><dd>Confirmed</dd><dt>TLN1</dt><dd>Confirmed</dd><dt>TFEC</dt><dd>Rejected</dd><dt>TAF7</dt><dd>Rejected</dd><dt>SYCP2</dt><dd>Rejected</dd><dt>SUMO4</dt><dd>Confirmed</dd><dt>STON2</dt><dd>Confirmed</dd><dt>SPON2</dt><dd>Tentative</dd><dt>SPOCD1</dt><dd>Rejected</dd><dt>SH3TC2</dt><dd>Confirmed</dd><dt>SH2D2A</dt><dd>Rejected</dd><dt>SCN9A</dt><dd>Confirmed</dd><dt>SAMD9</dt><dd>Confirmed</dd><dt>RPL34</dt><dd>Rejected</dd><dt>RASD2</dt><dd>Rejected</dd><dt>PTPRS</dt><dd>Confirmed</dd><dt>PRF1</dt><dd>Confirmed</dd><dt>POLR2K</dt><dd>Rejected</dd><dt>PITPNM2</dt><dd>Confirmed</dd><dt>PILRB</dt><dd>Confirmed</dd><dt>PER1</dt><dd>Confirmed</dd><dt>PDGFA</dt><dd>Confirmed</dd><dt>PCDH1</dt><dd>Rejected</dd><dt>OSBPL7</dt><dd>Confirmed</dd><dt>OSBPL5</dt><dd>Rejected</dd><dt>NID1</dt><dd>Rejected</dd><dt>NCR3</dt><dd>Rejected</dd><dt>MT.ND4L</dt><dd>Confirmed</dd><dt>MLC1</dt><dd>Tentative</dd><dt>MAP1A</dt><dd>Confirmed</dd><dt>LSM3</dt><dd>Tentative</dd><dt>LPAR6</dt><dd>Rejected</dd><dt>LMNA</dt><dd>Rejected</dd><dt>KIR2DL1</dt><dd>Confirmed</dd><dt>KIFC3</dt><dd>Confirmed</dd><dt>IL2RB</dt><dd>Rejected</dd><dt>IGJ</dt><dd>Tentative</dd><dt>HIST1H2BE</dt><dd>Rejected</dd><dt>HCFC1</dt><dd>Tentative</dd><dt>GPR56</dt><dd>Tentative</dd><dt>GNLY</dt><dd>Rejected</dd><dt>GAPT</dt><dd>Rejected</dd><dt>FSD1</dt><dd>Rejected</dd><dt>FOSB</dt><dd>Rejected</dd><dt>FLNA</dt><dd>Confirmed</dd><dt>FAM200B</dt><dd>Confirmed</dd><dt>F2R</dt><dd>Confirmed</dd><dt>EVI2A</dt><dd>Confirmed</dd><dt>ERBB2</dt><dd>Rejected</dd><dt>DUSP2</dt><dd>Rejected</dd><dt>DDIT4</dt><dd>Rejected</dd><dt>DAB2</dt><dd>Tentative</dd><dt>CSTA</dt><dd>Rejected</dd><dt>CLSTN1</dt><dd>Confirmed</dd><dt>CLEC2B</dt><dd>Rejected</dd><dt>CARNS1</dt><dd>Rejected</dd><dt>CACNA2D2</dt><dd>Rejected</dd><dt>BZRAP1</dt><dd>Confirmed</dd><dt>BMP6</dt><dd>Rejected</dd><dt>BCL2A1</dt><dd>Rejected</dd><dt>BAI2</dt><dd>Rejected</dd><dt>ATP1A3</dt><dd>Rejected</dd><dt>ATG2A</dt><dd>Confirmed</dd><dt>ARVCF</dt><dd>Confirmed</dd><dt>ARHGAP6</dt><dd>Confirmed</dd></dl>\n",
       "\n",
       "<details>\n",
       "\t<summary style=display:list-item;cursor:pointer>\n",
       "\t\t<strong>Levels</strong>:\n",
       "\t</summary>\n",
       "\t<style>\n",
       "\t.list-inline {list-style: none; margin:0; padding: 0}\n",
       "\t.list-inline>li {display: inline-block}\n",
       "\t.list-inline>li:not(:last-child)::after {content: \"\\00b7\"; padding: 0 .5ex}\n",
       "\t</style>\n",
       "\t<ol class=list-inline><li>'Tentative'</li><li>'Confirmed'</li><li>'Rejected'</li></ol>\n",
       "</details>"
      ],
      "text/latex": [
       "\\begin{description*}\n",
       "\\item[ZNF480] Tentative\n",
       "\\item[ZNF354A] Rejected\n",
       "\\item[ZNF208] Tentative\n",
       "\\item[ZBED5] Rejected\n",
       "\\item[XRCC4] Rejected\n",
       "\\item[VCL] Confirmed\n",
       "\\item[TXN] Confirmed\n",
       "\\item[TLN1] Confirmed\n",
       "\\item[TFEC] Rejected\n",
       "\\item[TAF7] Rejected\n",
       "\\item[SYCP2] Rejected\n",
       "\\item[SUMO4] Confirmed\n",
       "\\item[STON2] Confirmed\n",
       "\\item[SPON2] Tentative\n",
       "\\item[SPOCD1] Rejected\n",
       "\\item[SH3TC2] Confirmed\n",
       "\\item[SH2D2A] Rejected\n",
       "\\item[SCN9A] Confirmed\n",
       "\\item[SAMD9] Confirmed\n",
       "\\item[RPL34] Rejected\n",
       "\\item[RASD2] Rejected\n",
       "\\item[PTPRS] Confirmed\n",
       "\\item[PRF1] Confirmed\n",
       "\\item[POLR2K] Rejected\n",
       "\\item[PITPNM2] Confirmed\n",
       "\\item[PILRB] Confirmed\n",
       "\\item[PER1] Confirmed\n",
       "\\item[PDGFA] Confirmed\n",
       "\\item[PCDH1] Rejected\n",
       "\\item[OSBPL7] Confirmed\n",
       "\\item[OSBPL5] Rejected\n",
       "\\item[NID1] Rejected\n",
       "\\item[NCR3] Rejected\n",
       "\\item[MT.ND4L] Confirmed\n",
       "\\item[MLC1] Tentative\n",
       "\\item[MAP1A] Confirmed\n",
       "\\item[LSM3] Tentative\n",
       "\\item[LPAR6] Rejected\n",
       "\\item[LMNA] Rejected\n",
       "\\item[KIR2DL1] Confirmed\n",
       "\\item[KIFC3] Confirmed\n",
       "\\item[IL2RB] Rejected\n",
       "\\item[IGJ] Tentative\n",
       "\\item[HIST1H2BE] Rejected\n",
       "\\item[HCFC1] Tentative\n",
       "\\item[GPR56] Tentative\n",
       "\\item[GNLY] Rejected\n",
       "\\item[GAPT] Rejected\n",
       "\\item[FSD1] Rejected\n",
       "\\item[FOSB] Rejected\n",
       "\\item[FLNA] Confirmed\n",
       "\\item[FAM200B] Confirmed\n",
       "\\item[F2R] Confirmed\n",
       "\\item[EVI2A] Confirmed\n",
       "\\item[ERBB2] Rejected\n",
       "\\item[DUSP2] Rejected\n",
       "\\item[DDIT4] Rejected\n",
       "\\item[DAB2] Tentative\n",
       "\\item[CSTA] Rejected\n",
       "\\item[CLSTN1] Confirmed\n",
       "\\item[CLEC2B] Rejected\n",
       "\\item[CARNS1] Rejected\n",
       "\\item[CACNA2D2] Rejected\n",
       "\\item[BZRAP1] Confirmed\n",
       "\\item[BMP6] Rejected\n",
       "\\item[BCL2A1] Rejected\n",
       "\\item[BAI2] Rejected\n",
       "\\item[ATP1A3] Rejected\n",
       "\\item[ATG2A] Confirmed\n",
       "\\item[ARVCF] Confirmed\n",
       "\\item[ARHGAP6] Confirmed\n",
       "\\end{description*}\n",
       "\n",
       "\\emph{Levels}: \\begin{enumerate*}\n",
       "\\item 'Tentative'\n",
       "\\item 'Confirmed'\n",
       "\\item 'Rejected'\n",
       "\\end{enumerate*}\n"
      ],
      "text/markdown": [
       "ZNF480\n",
       ":   TentativeZNF354A\n",
       ":   RejectedZNF208\n",
       ":   TentativeZBED5\n",
       ":   RejectedXRCC4\n",
       ":   RejectedVCL\n",
       ":   ConfirmedTXN\n",
       ":   ConfirmedTLN1\n",
       ":   ConfirmedTFEC\n",
       ":   RejectedTAF7\n",
       ":   RejectedSYCP2\n",
       ":   RejectedSUMO4\n",
       ":   ConfirmedSTON2\n",
       ":   ConfirmedSPON2\n",
       ":   TentativeSPOCD1\n",
       ":   RejectedSH3TC2\n",
       ":   ConfirmedSH2D2A\n",
       ":   RejectedSCN9A\n",
       ":   ConfirmedSAMD9\n",
       ":   ConfirmedRPL34\n",
       ":   RejectedRASD2\n",
       ":   RejectedPTPRS\n",
       ":   ConfirmedPRF1\n",
       ":   ConfirmedPOLR2K\n",
       ":   RejectedPITPNM2\n",
       ":   ConfirmedPILRB\n",
       ":   ConfirmedPER1\n",
       ":   ConfirmedPDGFA\n",
       ":   ConfirmedPCDH1\n",
       ":   RejectedOSBPL7\n",
       ":   ConfirmedOSBPL5\n",
       ":   RejectedNID1\n",
       ":   RejectedNCR3\n",
       ":   RejectedMT.ND4L\n",
       ":   ConfirmedMLC1\n",
       ":   TentativeMAP1A\n",
       ":   ConfirmedLSM3\n",
       ":   TentativeLPAR6\n",
       ":   RejectedLMNA\n",
       ":   RejectedKIR2DL1\n",
       ":   ConfirmedKIFC3\n",
       ":   ConfirmedIL2RB\n",
       ":   RejectedIGJ\n",
       ":   TentativeHIST1H2BE\n",
       ":   RejectedHCFC1\n",
       ":   TentativeGPR56\n",
       ":   TentativeGNLY\n",
       ":   RejectedGAPT\n",
       ":   RejectedFSD1\n",
       ":   RejectedFOSB\n",
       ":   RejectedFLNA\n",
       ":   ConfirmedFAM200B\n",
       ":   ConfirmedF2R\n",
       ":   ConfirmedEVI2A\n",
       ":   ConfirmedERBB2\n",
       ":   RejectedDUSP2\n",
       ":   RejectedDDIT4\n",
       ":   RejectedDAB2\n",
       ":   TentativeCSTA\n",
       ":   RejectedCLSTN1\n",
       ":   ConfirmedCLEC2B\n",
       ":   RejectedCARNS1\n",
       ":   RejectedCACNA2D2\n",
       ":   RejectedBZRAP1\n",
       ":   ConfirmedBMP6\n",
       ":   RejectedBCL2A1\n",
       ":   RejectedBAI2\n",
       ":   RejectedATP1A3\n",
       ":   RejectedATG2A\n",
       ":   ConfirmedARVCF\n",
       ":   ConfirmedARHGAP6\n",
       ":   Confirmed\n",
       "\n",
       "\n",
       "**Levels**: 1. 'Tentative'\n",
       "2. 'Confirmed'\n",
       "3. 'Rejected'\n",
       "\n",
       "\n"
      ],
      "text/plain": [
       "   ZNF480   ZNF354A    ZNF208     ZBED5     XRCC4       VCL       TXN      TLN1 \n",
       "Tentative  Rejected Tentative  Rejected  Rejected Confirmed Confirmed Confirmed \n",
       "     TFEC      TAF7     SYCP2     SUMO4     STON2     SPON2    SPOCD1    SH3TC2 \n",
       " Rejected  Rejected  Rejected Confirmed Confirmed Tentative  Rejected Confirmed \n",
       "   SH2D2A     SCN9A     SAMD9     RPL34     RASD2     PTPRS      PRF1    POLR2K \n",
       " Rejected Confirmed Confirmed  Rejected  Rejected Confirmed Confirmed  Rejected \n",
       "  PITPNM2     PILRB      PER1     PDGFA     PCDH1    OSBPL7    OSBPL5      NID1 \n",
       "Confirmed Confirmed Confirmed Confirmed  Rejected Confirmed  Rejected  Rejected \n",
       "     NCR3   MT.ND4L      MLC1     MAP1A      LSM3     LPAR6      LMNA   KIR2DL1 \n",
       " Rejected Confirmed Tentative Confirmed Tentative  Rejected  Rejected Confirmed \n",
       "    KIFC3     IL2RB       IGJ HIST1H2BE     HCFC1     GPR56      GNLY      GAPT \n",
       "Confirmed  Rejected Tentative  Rejected Tentative Tentative  Rejected  Rejected \n",
       "     FSD1      FOSB      FLNA   FAM200B       F2R     EVI2A     ERBB2     DUSP2 \n",
       " Rejected  Rejected Confirmed Confirmed Confirmed Confirmed  Rejected  Rejected \n",
       "    DDIT4      DAB2      CSTA    CLSTN1    CLEC2B    CARNS1  CACNA2D2    BZRAP1 \n",
       " Rejected Tentative  Rejected Confirmed  Rejected  Rejected  Rejected Confirmed \n",
       "     BMP6    BCL2A1      BAI2    ATP1A3     ATG2A     ARVCF   ARHGAP6 \n",
       " Rejected  Rejected  Rejected  Rejected Confirmed Confirmed Confirmed \n",
       "Levels: Tentative Confirmed Rejected"
      ]
     },
     "metadata": {},
     "output_type": "display_data"
    }
   ],
   "source": [
    "boruta$finalDecision"
   ]
  },
  {
   "cell_type": "code",
   "execution_count": 73,
   "id": "012ccfe6-9873-4ae9-8b7b-b0441692c31d",
   "metadata": {},
   "outputs": [
    {
     "data": {
      "image/png": "[encoded data removed]",
      "text/plain": [
       "plot without title"
      ]
     },
     "metadata": {
      "image/png": {
       "height": 420,
       "width": 240
      }
     },
     "output_type": "display_data"
    }
   ],
   "source": [
    "Boruta::plotImpHistory(boruta)"
   ]
  },
  {
   "cell_type": "code",
   "execution_count": 74,
   "id": "f719eb97-a381-4b41-9a3d-a530fd390751",
   "metadata": {},
   "outputs": [],
   "source": [
    "library(dplyr)\n",
    "boruta.imp <- function(x){\n",
    "  imp <- reshape2::melt(x$ImpHistory, na.rm=T)[,-1]\n",
    "  colnames(imp) <- c(\"Variable\",\"Importance\")\n",
    "  imp <- imp[is.finite(imp$Importance),]\n",
    "\n",
    "  variableGrp <- data.frame(Variable=names(x$finalDecision), \n",
    "                            finalDecision=x$finalDecision)\n",
    "\n",
    "  showGrp <- data.frame(Variable=c(\"shadowMax\", \"shadowMean\", \"shadowMin\"),\n",
    "                        finalDecision=c(\"shadowMax\", \"shadowMean\", \"shadowMin\"))\n",
    "\n",
    "  variableGrp <- rbind(variableGrp, showGrp)\n",
    "\n",
    "  boruta.variable.imp <- merge(imp, variableGrp, all.x=T)\n",
    "\n",
    "  sortedVariable <- boruta.variable.imp %>% group_by(Variable) %>% \n",
    "    summarise(median=median(Importance)) %>% arrange(median)\n",
    "  sortedVariable <- as.vector(sortedVariable$Variable)\n",
    "\n",
    "\n",
    "  boruta.variable.imp$Variable <- factor(boruta.variable.imp$Variable, levels=sortedVariable)\n",
    "\n",
    "  invisible(boruta.variable.imp)\n",
    "}\n",
    "boruta.variable.imp <- boruta.imp(boruta)\n"
   ]
  },
  {
   "cell_type": "code",
   "execution_count": 75,
   "id": "b1e3ba68-9de1-4917-bf06-878aa1b09fa6",
   "metadata": {},
   "outputs": [
    {
     "name": "stderr",
     "output_type": "stream",
     "text": [
      "Welcome to YSX package which is a collection of useful scripts.\n",
      "This package does not require you install all depended packages, since one may not need all functions in this package.\n",
      "However, when there is a message implying some functions are missing,please install these packages manually.\n",
      "Or more specially, check Plot.Rmd in vignettes first.\n",
      "\n",
      "\n"
     ]
    },
    {
     "data": {
      "image/png": "[encoded data removed]",
      "text/plain": [
       "plot without title"
      ]
     },
     "metadata": {
      "image/png": {
       "height": 420,
       "width": 240
      }
     },
     "output_type": "display_data"
    }
   ],
   "source": [
    "library(YSX)\n",
    "\n",
    "sp_boxplot(boruta.variable.imp, melted=T, xvariable = \"Variable\", yvariable = \"Importance\",\n",
    "           legend_variable = \"finalDecision\", legend_variable_order = c(\"shadowMax\", \"shadowMean\", \"shadowMin\", \"Confirmed\"),\n",
    "           xtics_angle = 90)"
   ]
  },
  {
   "cell_type": "markdown",
   "id": "38dc3a92-8f8b-4577-b5ed-c14701c4825f",
   "metadata": {},
   "source": [
    "### lasso"
   ]
  },
  {
   "cell_type": "code",
   "execution_count": 403,
   "id": "b482baad-bf2b-461e-ac8d-60febf34bf11",
   "metadata": {},
   "outputs": [],
   "source": [
    "set.seed(1271)"
   ]
  },
  {
   "cell_type": "code",
   "execution_count": 404,
   "id": "497e5b6a-2f5a-460e-a092-820a59a5566a",
   "metadata": {},
   "outputs": [],
   "source": [
    "library(lars) \n",
    "library(glmnet) "
   ]
  },
  {
   "cell_type": "code",
   "execution_count": 405,
   "id": "34c57a05-03e3-4e94-b930-8f418b046aa4",
   "metadata": {},
   "outputs": [
    {
     "data": {
      "image/png": "[encoded data removed]",
      "text/plain": [
       "plot without title"
      ]
     },
     "metadata": {
      "image/png": {
       "height": 420,
       "width": 240
      }
     },
     "output_type": "display_data"
    },
    {
     "data": {
      "image/png": "[encoded data removed]",
      "text/plain": [
       "plot without title"
      ]
     },
     "metadata": {
      "image/png": {
       "height": 420,
       "width": 240
      }
     },
     "output_type": "display_data"
    },
    {
     "data": {
      "image/png": "[encoded data removed]",
      "text/plain": [
       "plot without title"
      ]
     },
     "metadata": {
      "image/png": {
       "height": 420,
       "width": 240
      }
     },
     "output_type": "display_data"
    }
   ],
   "source": [
    "model_lasso <- glmnet(x, y, family=\"binomial\", nlambda=100, alpha=1)#拉手回归模型\n",
    "plot(model_lasso, xvar = \"norm\", label = TRUE)\n",
    "plot(model_lasso, xvar=\"lambda\", label=TRUE)\n",
    "cv_fit <- cv.glmnet(x=x, y=y, alpha = 1, nlambda = 100)\n",
    "\n",
    "plot(cv_fit)"
   ]
  },
  {
   "cell_type": "code",
   "execution_count": 415,
   "id": "a75119b4-c10b-4ff9-ba59-76ca4a964ed0",
   "metadata": {},
   "outputs": [
    {
     "data": {
      "text/html": [
       "<style>\n",
       ".list-inline {list-style: none; margin:0; padding: 0}\n",
       ".list-inline>li {display: inline-block}\n",
       ".list-inline>li:not(:last-child)::after {content: \"\\00b7\"; padding: 0 .5ex}\n",
       "</style>\n",
       "<ol class=list-inline><li>0.0043174434749835</li><li>0.00754485508796152</li></ol>\n"
      ],
      "text/latex": [
       "\\begin{enumerate*}\n",
       "\\item 0.0043174434749835\n",
       "\\item 0.00754485508796152\n",
       "\\end{enumerate*}\n"
      ],
      "text/markdown": [
       "1. 0.0043174434749835\n",
       "2. 0.00754485508796152\n",
       "\n",
       "\n"
      ],
      "text/plain": [
       "[1] 0.004317443 0.007544855"
      ]
     },
     "metadata": {},
     "output_type": "display_data"
    },
    {
     "data": {
      "text/html": [
       "<style>\n",
       ".list-inline {list-style: none; margin:0; padding: 0}\n",
       ".list-inline>li {display: inline-block}\n",
       ".list-inline>li:not(:last-child)::after {content: \"\\00b7\"; padding: 0 .5ex}\n",
       "</style>\n",
       "<ol class=list-inline><li>'ZNF208'</li><li>'ZBED5'</li><li>'XRCC4'</li><li>'TLN1'</li><li>'SYCP2'</li><li>'STON2'</li><li>'SH2D2A'</li><li>'SCN9A'</li><li>'RASD2'</li><li>'PRF1'</li><li>'OSBPL7'</li><li>'NID1'</li><li>'NCR3'</li><li>'MT.ND4L'</li><li>'MLC1'</li><li>'MAP1A'</li><li>'LSM3'</li><li>'LPAR6'</li><li>'LMNA'</li><li>'KIR2DL1'</li><li>'IL2RB'</li><li>'IGJ'</li><li>'HIST1H2BE'</li><li>'GNLY'</li><li>'FSD1'</li><li>'FOSB'</li><li>'F2R'</li><li>'DDIT4'</li><li>'DAB2'</li><li>'CLSTN1'</li><li>'ATP1A3'</li><li>'ATG2A'</li><li>'ARVCF'</li></ol>\n"
      ],
      "text/latex": [
       "\\begin{enumerate*}\n",
       "\\item 'ZNF208'\n",
       "\\item 'ZBED5'\n",
       "\\item 'XRCC4'\n",
       "\\item 'TLN1'\n",
       "\\item 'SYCP2'\n",
       "\\item 'STON2'\n",
       "\\item 'SH2D2A'\n",
       "\\item 'SCN9A'\n",
       "\\item 'RASD2'\n",
       "\\item 'PRF1'\n",
       "\\item 'OSBPL7'\n",
       "\\item 'NID1'\n",
       "\\item 'NCR3'\n",
       "\\item 'MT.ND4L'\n",
       "\\item 'MLC1'\n",
       "\\item 'MAP1A'\n",
       "\\item 'LSM3'\n",
       "\\item 'LPAR6'\n",
       "\\item 'LMNA'\n",
       "\\item 'KIR2DL1'\n",
       "\\item 'IL2RB'\n",
       "\\item 'IGJ'\n",
       "\\item 'HIST1H2BE'\n",
       "\\item 'GNLY'\n",
       "\\item 'FSD1'\n",
       "\\item 'FOSB'\n",
       "\\item 'F2R'\n",
       "\\item 'DDIT4'\n",
       "\\item 'DAB2'\n",
       "\\item 'CLSTN1'\n",
       "\\item 'ATP1A3'\n",
       "\\item 'ATG2A'\n",
       "\\item 'ARVCF'\n",
       "\\end{enumerate*}\n"
      ],
      "text/markdown": [
       "1. 'ZNF208'\n",
       "2. 'ZBED5'\n",
       "3. 'XRCC4'\n",
       "4. 'TLN1'\n",
       "5. 'SYCP2'\n",
       "6. 'STON2'\n",
       "7. 'SH2D2A'\n",
       "8. 'SCN9A'\n",
       "9. 'RASD2'\n",
       "10. 'PRF1'\n",
       "11. 'OSBPL7'\n",
       "12. 'NID1'\n",
       "13. 'NCR3'\n",
       "14. 'MT.ND4L'\n",
       "15. 'MLC1'\n",
       "16. 'MAP1A'\n",
       "17. 'LSM3'\n",
       "18. 'LPAR6'\n",
       "19. 'LMNA'\n",
       "20. 'KIR2DL1'\n",
       "21. 'IL2RB'\n",
       "22. 'IGJ'\n",
       "23. 'HIST1H2BE'\n",
       "24. 'GNLY'\n",
       "25. 'FSD1'\n",
       "26. 'FOSB'\n",
       "27. 'F2R'\n",
       "28. 'DDIT4'\n",
       "29. 'DAB2'\n",
       "30. 'CLSTN1'\n",
       "31. 'ATP1A3'\n",
       "32. 'ATG2A'\n",
       "33. 'ARVCF'\n",
       "\n",
       "\n"
      ],
      "text/plain": [
       " [1] \"ZNF208\"    \"ZBED5\"     \"XRCC4\"     \"TLN1\"      \"SYCP2\"     \"STON2\"    \n",
       " [7] \"SH2D2A\"    \"SCN9A\"     \"RASD2\"     \"PRF1\"      \"OSBPL7\"    \"NID1\"     \n",
       "[13] \"NCR3\"      \"MT.ND4L\"   \"MLC1\"      \"MAP1A\"     \"LSM3\"      \"LPAR6\"    \n",
       "[19] \"LMNA\"      \"KIR2DL1\"   \"IL2RB\"     \"IGJ\"       \"HIST1H2BE\" \"GNLY\"     \n",
       "[25] \"FSD1\"      \"FOSB\"      \"F2R\"       \"DDIT4\"     \"DAB2\"      \"CLSTN1\"   \n",
       "[31] \"ATP1A3\"    \"ATG2A\"     \"ARVCF\"    "
      ]
     },
     "metadata": {},
     "output_type": "display_data"
    }
   ],
   "source": [
    "# 两条虚线分别指示了两个特殊的λ值:\n",
    "c(cv_fit$lambda.min,cv_fit$lambda.1se) \n",
    "\n",
    "model_lasso <- glmnet(x=as.matrix(x), y=y, alpha = 1, lambda=cv_fit$lambda.1se\t)\n",
    "gene_1se <- rownames(model_lasso$beta)[as.numeric(model_lasso$beta)!=0]\n",
    "#gene_1se = gsub('[.]',' ',gene_1se)\n",
    "\n",
    "gene_1se"
   ]
  },
  {
   "cell_type": "code",
   "execution_count": 416,
   "id": "129f0285-cd6b-47ff-91e8-8e7332e972a4",
   "metadata": {},
   "outputs": [],
   "source": [
    "lasso.gene = gene_1se"
   ]
  },
  {
   "cell_type": "code",
   "execution_count": 417,
   "id": "f507351a-c2cc-4820-a72c-bd041e2f6fa6",
   "metadata": {},
   "outputs": [],
   "source": [
    "expr3 = cbind(Group,expr)"
   ]
  },
  {
   "cell_type": "code",
   "execution_count": 418,
   "id": "fff6742e-b818-4803-a99a-ab81e3c7c087",
   "metadata": {},
   "outputs": [],
   "source": [
    "# set.seed(157)  \n",
    "# index <-  which( (1:nrow(expr3))%%3 == 0 )\n",
    "# train <- expr3[-index,]\n",
    "# test <- expr3[index,]\n",
    "\n",
    "# table(test$Group)\n",
    "\n",
    "# library(\"xgboost\")\n",
    "# library(\"Matrix\")\n",
    "# train_matrix <- sparse.model.matrix(Group ~ .-1, data = train)\n",
    "# test_matrix <- sparse.model.matrix(Group ~ .-1, data = test)\n",
    "# all_matrix <- sparse.model.matrix(Group ~ .-1, data = expr3)\n",
    "\n",
    "# train_label <- as.numeric(train$Group == 'CI')\n",
    "# test_label <-  as.numeric(test$Group == 'CI')\n",
    "# all_label <-  as.numeric(expr3$Group == 'CI')\n",
    "\n",
    "\n",
    "\n",
    "# all_label\n",
    "\n",
    "# train_fin <- list(data=train_matrix,label=train_label) \n",
    "# test_fin <- list(data=test_matrix,label=test_label) \n",
    "# all_fin <- list(data=all_matrix,label=all_label) \n",
    "\n",
    "# dtrain <- xgb.DMatrix(data = train_fin$data, label = train_fin$label) \n",
    "# dtest <- xgb.DMatrix(data = test_fin$data, label = test_fin$label)\n",
    "# dall <- xgb.DMatrix(data = all_fin$data, label = all_fin$label)\n",
    "\n",
    "# xgb <- xgboost(data = dall,max_depth=6, eta=0.5,  \n",
    "#   objective='binary:logistic', nround=25)\n",
    "\n",
    "# xgb\n",
    "\n",
    "# importance <- xgb.importance(all_matrix@Dimnames[[2]], model = xgb)  \n",
    "# head(importance)\n",
    "# xgb.ggplot.importance(importance)\n",
    "\n",
    "# xgb.plot.importance(importance)"
   ]
  },
  {
   "cell_type": "markdown",
   "id": "9bbc7a58-1e83-49fb-9470-0635af8e8f6e",
   "metadata": {},
   "source": [
    "### 韦恩图"
   ]
  },
  {
   "cell_type": "code",
   "execution_count": 419,
   "id": "5d1b1981-c746-426c-a099-1a09ef702c00",
   "metadata": {},
   "outputs": [],
   "source": [
    "# SVF.RFE.gene = featureGenes\n",
    "\n",
    "# RF.gene = colnames(sigExp)\n",
    "\n",
    "# XGBoost.gene = importance$Feature\n",
    "\n",
    "# boruta.variable.imp2 = boruta.variable.imp %>% dplyr::filter(finalDecision %in% c('Confirmed')) %>% dplyr::select(Variable) %>% unique()\n",
    "\n",
    "\n",
    "\n",
    "# Boruta.gene = as.vector(boruta.variable.imp2$Variable)\n",
    "\n",
    "# list1 = list(Boruta.gene,XGBoost.gene) #SVF.RFE.gene, RF.gene,\n",
    "\n",
    "# data =  as.data.frame (do.call (cbind, list1))\n",
    "\n",
    "\n",
    "# library(venn)\n",
    "#         library(VennDiagram)\n",
    "#         color=c( \"#3C5488B2\",\"#00A087B2\", \n",
    "#              \"#F39B7FB2\",\"#91D1C2B2\", \n",
    "#              \"#8491B4B2\", \"#DC0000B2\", \n",
    "#              \"#7E6148B2\",\"yellow\", \n",
    "#              \"darkolivegreen1\", \"lightskyblue\", \n",
    "#              \"darkgreen\", \"deeppink\", \"khaki2\", \n",
    "#              \"firebrick\", \"brown1\", \"darkorange1\", \n",
    "#              \"cyan1\", \"royalblue4\", \"darksalmon\", \n",
    "#              \"darkgoldenrod1\", \"darkseagreen\", \"darkorchid\")\n",
    "\n",
    "#     if (ncol(data) == 2){\n",
    "#         sample_list <- list(Boruta.gene = data[,1], XGBoost.gene = data[,2])\n",
    "#     }else if(ncol(data) == 3){\n",
    "#         sample_list <- list(RF.gene = data[,1], Boruta.gene = data[,2], XGBoost.gene = data[,3])\n",
    "#     }else if(ncol(data) == 4){\n",
    "#         sample_list <- list(RF.gene = data[,1], SVF.RFE.gene = data[,2], Boruta.gene = data[,3], XGBoost.gene = data[,4])\n",
    "#     }else{\n",
    "#         sample_list <- list(c1 = data[,1], c2 = data[,2], c3 = data[,3], c4 = data[,4], c5 = data[,5])\n",
    "#     }\n",
    "    \n",
    "#     q <- venn.diagram(sample_list,filename = NULL,\n",
    "#              fill = color[1:(length(sample_list))],\n",
    "#              alpha = 0.50, cat.col = rep('black', ncol(data)), \n",
    "#              col = 'black', cex = 1, fontfamily = 'serif', cat.cex = 1, cat.fontfamily = 'serif', margin = 0.2\n",
    "#                              )\n",
    "#     pdf(paste0('./',\"venn.pdf\"))\n",
    "#     grid.draw(q)\n",
    "#     dev.off()\n",
    "\n",
    "# grid.draw(q)\n",
    "\n",
    "# model.gene = intersect(intersect(intersect(RF.gene,XGBoost.gene),Boruta.gene),SVF.RFE.gene)"
   ]
  },
  {
   "cell_type": "code",
   "execution_count": 420,
   "id": "0b415f66-4df7-448d-8c00-2a3a7264e35b",
   "metadata": {},
   "outputs": [],
   "source": [
    "boruta.variable.imp2 = boruta.variable.imp %>% dplyr::filter(finalDecision %in% c('Confirmed')) %>% dplyr::select(Variable) %>% unique()\n",
    "Boruta.gene = as.vector(boruta.variable.imp2$Variable)"
   ]
  },
  {
   "cell_type": "code",
   "execution_count": 421,
   "id": "72fd6f52-002b-4f39-80ac-ee7df4d89b82",
   "metadata": {},
   "outputs": [],
   "source": [
    "model.gene = Boruta.gene"
   ]
  },
  {
   "cell_type": "code",
   "execution_count": null,
   "id": "d9f6ba5c-ef7b-4bb0-b923-6c34fb7dd224",
   "metadata": {},
   "outputs": [],
   "source": []
  },
  {
   "cell_type": "code",
   "execution_count": null,
   "id": "09c87cf1-fa97-4cf4-bfe0-38f887b3079e",
   "metadata": {},
   "outputs": [],
   "source": []
  },
  {
   "cell_type": "code",
   "execution_count": 422,
   "id": "6a095875-3f27-410d-a373-78adc6360397",
   "metadata": {},
   "outputs": [
    {
     "data": {
      "text/html": [
       "<style>\n",
       ".list-inline {list-style: none; margin:0; padding: 0}\n",
       ".list-inline>li {display: inline-block}\n",
       ".list-inline>li:not(:last-child)::after {content: \"\\00b7\"; padding: 0 .5ex}\n",
       "</style>\n",
       "<ol class=list-inline><li>'ARHGAP6'</li><li>'ARVCF'</li><li>'ATG2A'</li><li>'BZRAP1'</li><li>'CLSTN1'</li><li>'EVI2A'</li><li>'F2R'</li><li>'FAM200B'</li><li>'FLNA'</li><li>'KIFC3'</li><li>'KIR2DL1'</li><li>'MAP1A'</li><li>'MT.ND4L'</li><li>'OSBPL7'</li><li>'PDGFA'</li><li>'PER1'</li><li>'PILRB'</li><li>'PITPNM2'</li><li>'PRF1'</li><li>'PTPRS'</li><li>'SAMD9'</li><li>'SCN9A'</li><li>'SH3TC2'</li><li>'STON2'</li><li>'SUMO4'</li><li>'TLN1'</li><li>'TXN'</li><li>'VCL'</li></ol>\n"
      ],
      "text/latex": [
       "\\begin{enumerate*}\n",
       "\\item 'ARHGAP6'\n",
       "\\item 'ARVCF'\n",
       "\\item 'ATG2A'\n",
       "\\item 'BZRAP1'\n",
       "\\item 'CLSTN1'\n",
       "\\item 'EVI2A'\n",
       "\\item 'F2R'\n",
       "\\item 'FAM200B'\n",
       "\\item 'FLNA'\n",
       "\\item 'KIFC3'\n",
       "\\item 'KIR2DL1'\n",
       "\\item 'MAP1A'\n",
       "\\item 'MT.ND4L'\n",
       "\\item 'OSBPL7'\n",
       "\\item 'PDGFA'\n",
       "\\item 'PER1'\n",
       "\\item 'PILRB'\n",
       "\\item 'PITPNM2'\n",
       "\\item 'PRF1'\n",
       "\\item 'PTPRS'\n",
       "\\item 'SAMD9'\n",
       "\\item 'SCN9A'\n",
       "\\item 'SH3TC2'\n",
       "\\item 'STON2'\n",
       "\\item 'SUMO4'\n",
       "\\item 'TLN1'\n",
       "\\item 'TXN'\n",
       "\\item 'VCL'\n",
       "\\end{enumerate*}\n"
      ],
      "text/markdown": [
       "1. 'ARHGAP6'\n",
       "2. 'ARVCF'\n",
       "3. 'ATG2A'\n",
       "4. 'BZRAP1'\n",
       "5. 'CLSTN1'\n",
       "6. 'EVI2A'\n",
       "7. 'F2R'\n",
       "8. 'FAM200B'\n",
       "9. 'FLNA'\n",
       "10. 'KIFC3'\n",
       "11. 'KIR2DL1'\n",
       "12. 'MAP1A'\n",
       "13. 'MT.ND4L'\n",
       "14. 'OSBPL7'\n",
       "15. 'PDGFA'\n",
       "16. 'PER1'\n",
       "17. 'PILRB'\n",
       "18. 'PITPNM2'\n",
       "19. 'PRF1'\n",
       "20. 'PTPRS'\n",
       "21. 'SAMD9'\n",
       "22. 'SCN9A'\n",
       "23. 'SH3TC2'\n",
       "24. 'STON2'\n",
       "25. 'SUMO4'\n",
       "26. 'TLN1'\n",
       "27. 'TXN'\n",
       "28. 'VCL'\n",
       "\n",
       "\n"
      ],
      "text/plain": [
       " [1] \"ARHGAP6\" \"ARVCF\"   \"ATG2A\"   \"BZRAP1\"  \"CLSTN1\"  \"EVI2A\"   \"F2R\"    \n",
       " [8] \"FAM200B\" \"FLNA\"    \"KIFC3\"   \"KIR2DL1\" \"MAP1A\"   \"MT.ND4L\" \"OSBPL7\" \n",
       "[15] \"PDGFA\"   \"PER1\"    \"PILRB\"   \"PITPNM2\" \"PRF1\"    \"PTPRS\"   \"SAMD9\"  \n",
       "[22] \"SCN9A\"   \"SH3TC2\"  \"STON2\"   \"SUMO4\"   \"TLN1\"    \"TXN\"     \"VCL\"    "
      ]
     },
     "metadata": {},
     "output_type": "display_data"
    }
   ],
   "source": [
    "model.gene"
   ]
  },
  {
   "cell_type": "code",
   "execution_count": 505,
   "id": "4150aa52-7dba-4992-807c-a001e11a859c",
   "metadata": {},
   "outputs": [],
   "source": [
    "a  = names(rfGenes)[1:20]"
   ]
  },
  {
   "cell_type": "code",
   "execution_count": 424,
   "id": "45a28e46-3ff9-4901-beb8-a51d2b15b83b",
   "metadata": {},
   "outputs": [],
   "source": [
    "model.gene = names(rfGenes)[1:20]"
   ]
  },
  {
   "cell_type": "code",
   "execution_count": 425,
   "id": "201e3817-7fbd-4bc2-b1a4-2b75f2b6f7b9",
   "metadata": {},
   "outputs": [],
   "source": [
    "model.gene = intersect(intersect(lasso.gene,Boruta.gene),names(rfGenes)[1:20])"
   ]
  },
  {
   "cell_type": "code",
   "execution_count": 506,
   "id": "49744d34-2b76-4cc2-b950-1993bea03a75",
   "metadata": {},
   "outputs": [],
   "source": [
    "model.gene =a"
   ]
  },
  {
   "cell_type": "code",
   "execution_count": null,
   "id": "a904d316-5751-4847-bce6-dfeb8a82556d",
   "metadata": {},
   "outputs": [],
   "source": []
  },
  {
   "cell_type": "code",
   "execution_count": 507,
   "id": "04c84fee-aa7c-4daa-ad11-b83c643a6e97",
   "metadata": {},
   "outputs": [
    {
     "data": {
      "text/html": [
       "<style>\n",
       ".list-inline {list-style: none; margin:0; padding: 0}\n",
       ".list-inline>li {display: inline-block}\n",
       ".list-inline>li:not(:last-child)::after {content: \"\\00b7\"; padding: 0 .5ex}\n",
       "</style>\n",
       "<ol class=list-inline><li>'MT.ND4L'</li><li>'FLNA'</li><li>'TLN1'</li><li>'PRF1'</li><li>'OSBPL5'</li><li>'PDGFA'</li><li>'BAI2'</li><li>'ZNF480'</li><li>'ZNF354A'</li><li>'ZNF208'</li><li>'ZBED5'</li><li>'XRCC4'</li><li>'VCL'</li><li>'TXN'</li><li>'TFEC'</li><li>'TAF7'</li><li>'SYCP2'</li><li>'SUMO4'</li><li>'STON2'</li><li>'SPON2'</li></ol>\n"
      ],
      "text/latex": [
       "\\begin{enumerate*}\n",
       "\\item 'MT.ND4L'\n",
       "\\item 'FLNA'\n",
       "\\item 'TLN1'\n",
       "\\item 'PRF1'\n",
       "\\item 'OSBPL5'\n",
       "\\item 'PDGFA'\n",
       "\\item 'BAI2'\n",
       "\\item 'ZNF480'\n",
       "\\item 'ZNF354A'\n",
       "\\item 'ZNF208'\n",
       "\\item 'ZBED5'\n",
       "\\item 'XRCC4'\n",
       "\\item 'VCL'\n",
       "\\item 'TXN'\n",
       "\\item 'TFEC'\n",
       "\\item 'TAF7'\n",
       "\\item 'SYCP2'\n",
       "\\item 'SUMO4'\n",
       "\\item 'STON2'\n",
       "\\item 'SPON2'\n",
       "\\end{enumerate*}\n"
      ],
      "text/markdown": [
       "1. 'MT.ND4L'\n",
       "2. 'FLNA'\n",
       "3. 'TLN1'\n",
       "4. 'PRF1'\n",
       "5. 'OSBPL5'\n",
       "6. 'PDGFA'\n",
       "7. 'BAI2'\n",
       "8. 'ZNF480'\n",
       "9. 'ZNF354A'\n",
       "10. 'ZNF208'\n",
       "11. 'ZBED5'\n",
       "12. 'XRCC4'\n",
       "13. 'VCL'\n",
       "14. 'TXN'\n",
       "15. 'TFEC'\n",
       "16. 'TAF7'\n",
       "17. 'SYCP2'\n",
       "18. 'SUMO4'\n",
       "19. 'STON2'\n",
       "20. 'SPON2'\n",
       "\n",
       "\n"
      ],
      "text/plain": [
       " [1] \"MT.ND4L\" \"FLNA\"    \"TLN1\"    \"PRF1\"    \"OSBPL5\"  \"PDGFA\"   \"BAI2\"   \n",
       " [8] \"ZNF480\"  \"ZNF354A\" \"ZNF208\"  \"ZBED5\"   \"XRCC4\"   \"VCL\"     \"TXN\"    \n",
       "[15] \"TFEC\"    \"TAF7\"    \"SYCP2\"   \"SUMO4\"   \"STON2\"   \"SPON2\"  "
      ]
     },
     "metadata": {},
     "output_type": "display_data"
    }
   ],
   "source": [
    "model.gene"
   ]
  },
  {
   "cell_type": "code",
   "execution_count": null,
   "id": "65e4e30c-f6a4-4ccb-877b-bf94cf2be0b7",
   "metadata": {},
   "outputs": [],
   "source": []
  },
  {
   "cell_type": "code",
   "execution_count": null,
   "id": "8f52fae6-c771-47ca-b2ce-f06458c52091",
   "metadata": {},
   "outputs": [],
   "source": []
  },
  {
   "cell_type": "code",
   "execution_count": 550,
   "id": "6cb691bd-2d72-4837-b47a-5e7c0a16d5cb",
   "metadata": {},
   "outputs": [],
   "source": [
    "set.seed(1234)"
   ]
  },
  {
   "cell_type": "code",
   "execution_count": 551,
   "id": "fe3734a8-ab41-4863-b71e-755cf03122e1",
   "metadata": {},
   "outputs": [],
   "source": [
    "expr = as.data.frame(apply(expr,2,as.numeric))"
   ]
  },
  {
   "cell_type": "code",
   "execution_count": 552,
   "id": "60801e91-7940-4cbf-b541-0ca7fb67cd71",
   "metadata": {},
   "outputs": [],
   "source": [
    "expr3 = as.data.frame(cbind(Group,expr))"
   ]
  },
  {
   "cell_type": "code",
   "execution_count": 553,
   "id": "9e04abf2-3a9e-4c50-9d86-58a7cd6f7342",
   "metadata": {},
   "outputs": [],
   "source": [
    "expr3$Group = ifelse(expr3$Group == 'CI',1,0)"
   ]
  },
  {
   "cell_type": "code",
   "execution_count": 554,
   "id": "28380401-3622-41cf-9e6b-9bfb2f59492e",
   "metadata": {},
   "outputs": [],
   "source": [
    "expr3$Group = as.factor(expr3$Group)"
   ]
  },
  {
   "cell_type": "code",
   "execution_count": null,
   "id": "9c3b879f-1b40-45f7-9aaa-f1909ee6aaf3",
   "metadata": {},
   "outputs": [],
   "source": [
    "expr4 = expr3 %>% dplyr::select(c(Group,model.gene))"
   ]
  },
  {
   "cell_type": "code",
   "execution_count": 514,
   "id": "5ef5cfa5-901b-4e64-9f10-8775cc89fce8",
   "metadata": {},
   "outputs": [
    {
     "data": {
      "text/html": [
       "<style>\n",
       ".list-inline {list-style: none; margin:0; padding: 0}\n",
       ".list-inline>li {display: inline-block}\n",
       ".list-inline>li:not(:last-child)::after {content: \"\\00b7\"; padding: 0 .5ex}\n",
       "</style>\n",
       "<ol class=list-inline><li>74</li><li>21</li></ol>\n"
      ],
      "text/latex": [
       "\\begin{enumerate*}\n",
       "\\item 74\n",
       "\\item 21\n",
       "\\end{enumerate*}\n"
      ],
      "text/markdown": [
       "1. 74\n",
       "2. 21\n",
       "\n",
       "\n"
      ],
      "text/plain": [
       "[1] 74 21"
      ]
     },
     "metadata": {},
     "output_type": "display_data"
    }
   ],
   "source": [
    "dim(expr4)"
   ]
  },
  {
   "cell_type": "code",
   "execution_count": 515,
   "id": "a68de7ce-0c16-4db1-93f7-8e4f510f9fa4",
   "metadata": {},
   "outputs": [
    {
     "data": {
      "text/html": [
       "<table class=\"dataframe\">\n",
       "<caption>A data.frame: 4 x 21</caption>\n",
       "<thead>\n",
       "\t<tr><th></th><th scope=col>Group</th><th scope=col>MT.ND4L</th><th scope=col>FLNA</th><th scope=col>TLN1</th><th scope=col>PRF1</th><th scope=col>OSBPL5</th><th scope=col>PDGFA</th><th scope=col>BAI2</th><th scope=col>ZNF480</th><th scope=col>ZNF354A</th><th scope=col>...</th><th scope=col>ZBED5</th><th scope=col>XRCC4</th><th scope=col>VCL</th><th scope=col>TXN</th><th scope=col>TFEC</th><th scope=col>TAF7</th><th scope=col>SYCP2</th><th scope=col>SUMO4</th><th scope=col>STON2</th><th scope=col>SPON2</th></tr>\n",
       "\t<tr><th></th><th scope=col>&lt;fct&gt;</th><th scope=col>&lt;dbl&gt;</th><th scope=col>&lt;dbl&gt;</th><th scope=col>&lt;dbl&gt;</th><th scope=col>&lt;dbl&gt;</th><th scope=col>&lt;dbl&gt;</th><th scope=col>&lt;dbl&gt;</th><th scope=col>&lt;dbl&gt;</th><th scope=col>&lt;dbl&gt;</th><th scope=col>&lt;dbl&gt;</th><th scope=col>...</th><th scope=col>&lt;dbl&gt;</th><th scope=col>&lt;dbl&gt;</th><th scope=col>&lt;dbl&gt;</th><th scope=col>&lt;dbl&gt;</th><th scope=col>&lt;dbl&gt;</th><th scope=col>&lt;dbl&gt;</th><th scope=col>&lt;dbl&gt;</th><th scope=col>&lt;dbl&gt;</th><th scope=col>&lt;dbl&gt;</th><th scope=col>&lt;dbl&gt;</th></tr>\n",
       "</thead>\n",
       "<tbody>\n",
       "\t<tr><th scope=row>1</th><td>0</td><td> 81.69209</td><td>173.9405</td><td>101.2624</td><td>126.5548</td><td> 8.855365</td><td>1.632609</td><td>0.2332996</td><td>5.156136</td><td>5.125855</td><td>...</td><td>10.32473</td><td>2.339176</td><td>46.57527</td><td> 7.655688</td><td>3.548980</td><td>14.05923</td><td>1.120098</td><td>13.10355</td><td>4.843869</td><td> 8.233497</td></tr>\n",
       "\t<tr><th scope=row>2</th><td>0</td><td> 71.31370</td><td>173.4102</td><td>101.7559</td><td>129.5850</td><td> 8.151807</td><td>1.546559</td><td>0.1628312</td><td>5.341337</td><td>6.072094</td><td>...</td><td>10.90038</td><td>2.871262</td><td>51.53112</td><td>17.794071</td><td>5.233879</td><td>18.91710</td><td>2.360949</td><td>13.76600</td><td>2.362755</td><td> 5.842638</td></tr>\n",
       "\t<tr><th scope=row>3</th><td>0</td><td>101.66536</td><td>178.6210</td><td>102.2840</td><td>142.2673</td><td>11.674882</td><td>1.392164</td><td>0.4157373</td><td>6.522543</td><td>6.160602</td><td>...</td><td>10.88059</td><td>2.483447</td><td>39.63994</td><td>13.325481</td><td>5.147770</td><td>18.59371</td><td>1.519345</td><td>17.34508</td><td>3.823724</td><td>12.029308</td></tr>\n",
       "\t<tr><th scope=row>4</th><td>0</td><td> 86.63878</td><td>234.2787</td><td>144.4199</td><td>209.4598</td><td>10.397975</td><td>2.218069</td><td>0.2560003</td><td>3.667491</td><td>3.272255</td><td>...</td><td> 7.48165</td><td>2.969833</td><td>68.89870</td><td>15.403335</td><td>3.380468</td><td>14.95963</td><td>1.611302</td><td>10.78443</td><td>3.324976</td><td>13.337703</td></tr>\n",
       "</tbody>\n",
       "</table>\n"
      ],
      "text/latex": [
       "A data.frame: 4 x 21\n",
       "\\begin{tabular}{r|lllllllllllllllllllll}\n",
       "  & Group & MT.ND4L & FLNA & TLN1 & PRF1 & OSBPL5 & PDGFA & BAI2 & ZNF480 & ZNF354A & ... & ZBED5 & XRCC4 & VCL & TXN & TFEC & TAF7 & SYCP2 & SUMO4 & STON2 & SPON2\\\\\n",
       "  & <fct> & <dbl> & <dbl> & <dbl> & <dbl> & <dbl> & <dbl> & <dbl> & <dbl> & <dbl> & ... & <dbl> & <dbl> & <dbl> & <dbl> & <dbl> & <dbl> & <dbl> & <dbl> & <dbl> & <dbl>\\\\\n",
       "\\hline\n",
       "\t1 & 0 &  81.69209 & 173.9405 & 101.2624 & 126.5548 &  8.855365 & 1.632609 & 0.2332996 & 5.156136 & 5.125855 & ... & 10.32473 & 2.339176 & 46.57527 &  7.655688 & 3.548980 & 14.05923 & 1.120098 & 13.10355 & 4.843869 &  8.233497\\\\\n",
       "\t2 & 0 &  71.31370 & 173.4102 & 101.7559 & 129.5850 &  8.151807 & 1.546559 & 0.1628312 & 5.341337 & 6.072094 & ... & 10.90038 & 2.871262 & 51.53112 & 17.794071 & 5.233879 & 18.91710 & 2.360949 & 13.76600 & 2.362755 &  5.842638\\\\\n",
       "\t3 & 0 & 101.66536 & 178.6210 & 102.2840 & 142.2673 & 11.674882 & 1.392164 & 0.4157373 & 6.522543 & 6.160602 & ... & 10.88059 & 2.483447 & 39.63994 & 13.325481 & 5.147770 & 18.59371 & 1.519345 & 17.34508 & 3.823724 & 12.029308\\\\\n",
       "\t4 & 0 &  86.63878 & 234.2787 & 144.4199 & 209.4598 & 10.397975 & 2.218069 & 0.2560003 & 3.667491 & 3.272255 & ... &  7.48165 & 2.969833 & 68.89870 & 15.403335 & 3.380468 & 14.95963 & 1.611302 & 10.78443 & 3.324976 & 13.337703\\\\\n",
       "\\end{tabular}\n"
      ],
      "text/markdown": [
       "\n",
       "A data.frame: 4 x 21\n",
       "\n",
       "| <!--/--> | Group &lt;fct&gt; | MT.ND4L &lt;dbl&gt; | FLNA &lt;dbl&gt; | TLN1 &lt;dbl&gt; | PRF1 &lt;dbl&gt; | OSBPL5 &lt;dbl&gt; | PDGFA &lt;dbl&gt; | BAI2 &lt;dbl&gt; | ZNF480 &lt;dbl&gt; | ZNF354A &lt;dbl&gt; | ... ... | ZBED5 &lt;dbl&gt; | XRCC4 &lt;dbl&gt; | VCL &lt;dbl&gt; | TXN &lt;dbl&gt; | TFEC &lt;dbl&gt; | TAF7 &lt;dbl&gt; | SYCP2 &lt;dbl&gt; | SUMO4 &lt;dbl&gt; | STON2 &lt;dbl&gt; | SPON2 &lt;dbl&gt; |\n",
       "|---|---|---|---|---|---|---|---|---|---|---|---|---|---|---|---|---|---|---|---|---|---|\n",
       "| 1 | 0 |  81.69209 | 173.9405 | 101.2624 | 126.5548 |  8.855365 | 1.632609 | 0.2332996 | 5.156136 | 5.125855 | ... | 10.32473 | 2.339176 | 46.57527 |  7.655688 | 3.548980 | 14.05923 | 1.120098 | 13.10355 | 4.843869 |  8.233497 |\n",
       "| 2 | 0 |  71.31370 | 173.4102 | 101.7559 | 129.5850 |  8.151807 | 1.546559 | 0.1628312 | 5.341337 | 6.072094 | ... | 10.90038 | 2.871262 | 51.53112 | 17.794071 | 5.233879 | 18.91710 | 2.360949 | 13.76600 | 2.362755 |  5.842638 |\n",
       "| 3 | 0 | 101.66536 | 178.6210 | 102.2840 | 142.2673 | 11.674882 | 1.392164 | 0.4157373 | 6.522543 | 6.160602 | ... | 10.88059 | 2.483447 | 39.63994 | 13.325481 | 5.147770 | 18.59371 | 1.519345 | 17.34508 | 3.823724 | 12.029308 |\n",
       "| 4 | 0 |  86.63878 | 234.2787 | 144.4199 | 209.4598 | 10.397975 | 2.218069 | 0.2560003 | 3.667491 | 3.272255 | ... |  7.48165 | 2.969833 | 68.89870 | 15.403335 | 3.380468 | 14.95963 | 1.611302 | 10.78443 | 3.324976 | 13.337703 |\n",
       "\n"
      ],
      "text/plain": [
       "  Group MT.ND4L   FLNA     TLN1     PRF1     OSBPL5    PDGFA    BAI2     \n",
       "1 0      81.69209 173.9405 101.2624 126.5548  8.855365 1.632609 0.2332996\n",
       "2 0      71.31370 173.4102 101.7559 129.5850  8.151807 1.546559 0.1628312\n",
       "3 0     101.66536 178.6210 102.2840 142.2673 11.674882 1.392164 0.4157373\n",
       "4 0      86.63878 234.2787 144.4199 209.4598 10.397975 2.218069 0.2560003\n",
       "  ZNF480   ZNF354A  ... ZBED5    XRCC4    VCL      TXN       TFEC     TAF7    \n",
       "1 5.156136 5.125855 ... 10.32473 2.339176 46.57527  7.655688 3.548980 14.05923\n",
       "2 5.341337 6.072094 ... 10.90038 2.871262 51.53112 17.794071 5.233879 18.91710\n",
       "3 6.522543 6.160602 ... 10.88059 2.483447 39.63994 13.325481 5.147770 18.59371\n",
       "4 3.667491 3.272255 ...  7.48165 2.969833 68.89870 15.403335 3.380468 14.95963\n",
       "  SYCP2    SUMO4    STON2    SPON2    \n",
       "1 1.120098 13.10355 4.843869  8.233497\n",
       "2 2.360949 13.76600 2.362755  5.842638\n",
       "3 1.519345 17.34508 3.823724 12.029308\n",
       "4 1.611302 10.78443 3.324976 13.337703"
      ]
     },
     "metadata": {},
     "output_type": "display_data"
    }
   ],
   "source": [
    "head(expr4,4)"
   ]
  },
  {
   "cell_type": "code",
   "execution_count": 516,
   "id": "48b7988e-d5b8-4cd7-9680-b550d1bde730",
   "metadata": {},
   "outputs": [],
   "source": [
    "library(caret)\n",
    "library(ggplot2)"
   ]
  },
  {
   "cell_type": "markdown",
   "id": "c9bc40ad-1601-4491-afe9-4f0a67cf391b",
   "metadata": {},
   "source": [
    "### 这里使用48个基因先看看情况\n",
    "\n"
   ]
  },
  {
   "cell_type": "code",
   "execution_count": 549,
   "id": "c19006af-1d46-4f7e-aeec-74227735cdde",
   "metadata": {},
   "outputs": [
    {
     "ename": "ERROR",
     "evalue": "Error in `[.data.frame`(expr4, , i): undefined columns selected\n",
     "output_type": "error",
     "traceback": [
      "Error in `[.data.frame`(expr4, , i): undefined columns selected\nTraceback:\n",
      "1. pROC::roc(Group ~ expr4[, i], data = expr4, aur = TRUE, ci = TRUE, \n .     smooth = FALSE, levels = c(0, 1), direction = \"<\")",
      "2. roc.formula(Group ~ expr4[, i], data = expr4, aur = TRUE, ci = TRUE, \n .     smooth = FALSE, levels = c(0, 1), direction = \"<\")",
      "3. roc_utils_extract_formula(formula, data, ..., data.missing = data.missing, \n .     call = match.call())",
      "4. eval.parent(temp, n = 2)",
      "5. eval(expr, p)",
      "6. eval(expr, p)",
      "7. model.frame(formula = Group ~ expr4[, i], data = expr4, na.action = \"na.pass\")",
      "8. model.frame.default(formula = Group ~ expr4[, i], data = expr4, \n .     na.action = \"na.pass\")",
      "9. eval(predvars, data, env)",
      "10. eval(predvars, data, env)",
      "11. expr4[, i]",
      "12. `[.data.frame`(expr4, , i)",
      "13. stop(\"undefined columns selected\")"
     ]
    }
   ],
   "source": [
    "library(caret)\n",
    "library(ggplot2)\n",
    "\n",
    " a = c()\n",
    "# \n",
    "for (i in model.gene){\n",
    "    res<-pROC::roc(Group~expr4[,i],data=expr4,aur=TRUE,\n",
    "         ci=TRUE, # 显示95%CI\n",
    "         #percent=TRUE, # 是否需要以百分比显示\n",
    "         smooth=FALSE,# 是否平滑曲线\n",
    "         levels=c(0,1),direction=\"<\" #设置分组方向\n",
    "         )\n",
    "    if (res$auc > 0.75){\n",
    "        a = append(a,i)\n",
    "        print(paste0(i,' ',res$auc))\n",
    "        p = pROC::ggroc(res, color =\"red\",legacy.axes = TRUE)+\n",
    "  geom_segment(aes(x = 0, xend = 1, y = 0, yend = 1), color=\"darkgrey\", linetype=4)+\n",
    "  theme_bw() + # 设置背景\n",
    "  ggtitle(paste0(i,\" ROC Curve\"))+\n",
    "  theme(plot.title = element_text(hjust = 0.5,size = 16),\n",
    "        axis.text=element_text(size=12,colour = \"black\"),\n",
    "        axis.title.x = element_text(size = 14),\n",
    "        axis.title.y = element_text(size = 14))\n",
    "p+annotate(\"text\",x=0.75,y=0.25,label=paste(\"AUC = \", round(res$auc,3)))+\n",
    "  annotate(\"text\",x=0.75,y=0.20,label=paste(\"95%CI: \", round(res$ci[1],3),'-',round(res$ci[3],3)))\n",
    "    ggsave(file = paste0(i,'.ROC.pdf'))\n",
    "}else{\n",
    "        \n",
    "}\n",
    "\n",
    "    \n",
    "    }"
   ]
  },
  {
   "cell_type": "markdown",
   "id": "d157d346-4a53-4133-b0d2-f2a92aea9d56",
   "metadata": {},
   "source": [
    "### 批量单因素逻辑回归"
   ]
  },
  {
   "cell_type": "code",
   "execution_count": 518,
   "id": "ea1ccfa4-1f08-4e46-85a9-e0e06b19b3be",
   "metadata": {},
   "outputs": [
    {
     "data": {
      "text/html": [
       "<style>\n",
       ".list-inline {list-style: none; margin:0; padding: 0}\n",
       ".list-inline>li {display: inline-block}\n",
       ".list-inline>li:not(:last-child)::after {content: \"\\00b7\"; padding: 0 .5ex}\n",
       "</style>\n",
       "<ol class=list-inline><li>'ZNF480'</li><li>'ZNF354A'</li><li>'ZNF208'</li><li>'ZBED5'</li><li>'XRCC4'</li><li>'TXN'</li><li>'TFEC'</li><li>'TAF7'</li><li>'SYCP2'</li><li>'SUMO4'</li></ol>\n"
      ],
      "text/latex": [
       "\\begin{enumerate*}\n",
       "\\item 'ZNF480'\n",
       "\\item 'ZNF354A'\n",
       "\\item 'ZNF208'\n",
       "\\item 'ZBED5'\n",
       "\\item 'XRCC4'\n",
       "\\item 'TXN'\n",
       "\\item 'TFEC'\n",
       "\\item 'TAF7'\n",
       "\\item 'SYCP2'\n",
       "\\item 'SUMO4'\n",
       "\\end{enumerate*}\n"
      ],
      "text/markdown": [
       "1. 'ZNF480'\n",
       "2. 'ZNF354A'\n",
       "3. 'ZNF208'\n",
       "4. 'ZBED5'\n",
       "5. 'XRCC4'\n",
       "6. 'TXN'\n",
       "7. 'TFEC'\n",
       "8. 'TAF7'\n",
       "9. 'SYCP2'\n",
       "10. 'SUMO4'\n",
       "\n",
       "\n"
      ],
      "text/plain": [
       " [1] \"ZNF480\"  \"ZNF354A\" \"ZNF208\"  \"ZBED5\"   \"XRCC4\"   \"TXN\"     \"TFEC\"   \n",
       " [8] \"TAF7\"    \"SYCP2\"   \"SUMO4\"  "
      ]
     },
     "metadata": {},
     "output_type": "display_data"
    }
   ],
   "source": [
    "a"
   ]
  },
  {
   "cell_type": "code",
   "execution_count": 519,
   "id": "8ed43a61-fbbe-4a82-86b6-ecf83f9d4593",
   "metadata": {},
   "outputs": [],
   "source": [
    "expr4 = expr4[,c('Group',a)]"
   ]
  },
  {
   "cell_type": "code",
   "execution_count": 520,
   "id": "2e4d302d-7a45-4d41-8429-a3d9809876f5",
   "metadata": {
    "scrolled": true
   },
   "outputs": [],
   "source": [
    "#结果合并需要的包\n",
    "library(plyr)\n",
    "#可进行logistic回归的包\n",
    "library(rms)#可实现逻辑回归模型（lrm）\n",
    "library(epiDisplay)#快速输出OR、95%CI、P\n",
    "#library(gtsummary)#精美三线表（但，95%CI有误）"
   ]
  },
  {
   "cell_type": "code",
   "execution_count": 521,
   "id": "e368e801-d28e-41ff-aee0-d4ef2ca39cd6",
   "metadata": {},
   "outputs": [],
   "source": [
    "varsU<-names(expr4[,2:dim(expr4)[2]])"
   ]
  },
  {
   "cell_type": "code",
   "execution_count": 522,
   "id": "994ce7b1-913e-4a3d-8a4a-956d9d357864",
   "metadata": {},
   "outputs": [
    {
     "name": "stderr",
     "output_type": "stream",
     "text": [
      "Waiting for profiling to be done...\n",
      "\n",
      "Waiting for profiling to be done...\n",
      "\n",
      "Waiting for profiling to be done...\n",
      "\n",
      "Waiting for profiling to be done...\n",
      "\n",
      "Waiting for profiling to be done...\n",
      "\n",
      "Waiting for profiling to be done...\n",
      "\n",
      "Waiting for profiling to be done...\n",
      "\n",
      "Waiting for profiling to be done...\n",
      "\n",
      "Waiting for profiling to be done...\n",
      "\n",
      "Waiting for profiling to be done...\n",
      "\n"
     ]
    }
   ],
   "source": [
    "Result<-c()\n",
    "for (i in 1:length(varsU)){\n",
    "  fit<-glm(substitute(Group~x,list(x=as.name(varsU[i]))),data=expr4,family=binomial())\n",
    "  fitSum<-summary(fit)\n",
    "  result1<-c()\n",
    "  result1<-rbind(result1,fitSum$coef)\n",
    "  OR<-exp(fitSum$coef[,'Estimate'])\n",
    "  result1<-data.frame(cbind(result1,cbind(OR,exp(confint(fit)))))\n",
    "  result1$Characteristics<-varsU[i]   #添加变量名\n",
    "  Result<-rbind(Result,result1[-1,])#[-1,],删除常数项\n",
    "}"
   ]
  },
  {
   "cell_type": "code",
   "execution_count": 523,
   "id": "032500b6-8970-4ded-a236-242e7cd50dff",
   "metadata": {},
   "outputs": [
    {
     "data": {
      "text/html": [
       "<table class=\"dataframe\">\n",
       "<caption>A data.frame: 10 x 8</caption>\n",
       "<thead>\n",
       "\t<tr><th></th><th scope=col>Estimate</th><th scope=col>Std..Error</th><th scope=col>z.value</th><th scope=col>Pr...z..</th><th scope=col>OR</th><th scope=col>X2.5..</th><th scope=col>X97.5..</th><th scope=col>Characteristics</th></tr>\n",
       "\t<tr><th></th><th scope=col>&lt;dbl&gt;</th><th scope=col>&lt;dbl&gt;</th><th scope=col>&lt;dbl&gt;</th><th scope=col>&lt;dbl&gt;</th><th scope=col>&lt;dbl&gt;</th><th scope=col>&lt;dbl&gt;</th><th scope=col>&lt;dbl&gt;</th><th scope=col>&lt;chr&gt;</th></tr>\n",
       "</thead>\n",
       "<tbody>\n",
       "\t<tr><th scope=row>ZNF480</th><td>0.6756395</td><td>0.19457747</td><td>3.472342</td><td>0.0005159388</td><td> 1.965289</td><td>1.395190</td><td>   3.004856</td><td>ZNF480 </td></tr>\n",
       "\t<tr><th scope=row>ZNF354A</th><td>0.8476050</td><td>0.23373805</td><td>3.626303</td><td>0.0002875080</td><td> 2.334050</td><td>1.556239</td><td>   3.909308</td><td>ZNF354A</td></tr>\n",
       "\t<tr><th scope=row>ZNF208</th><td>4.1379837</td><td>1.28935148</td><td>3.209353</td><td>0.0013303416</td><td>62.676323</td><td>6.383328</td><td>1064.922092</td><td>ZNF208 </td></tr>\n",
       "\t<tr><th scope=row>ZBED5</th><td>0.4459708</td><td>0.12411629</td><td>3.593169</td><td>0.0003266812</td><td> 1.562006</td><td>1.256247</td><td>   2.052611</td><td>ZBED5  </td></tr>\n",
       "\t<tr><th scope=row>XRCC4</th><td>1.3523846</td><td>0.37878390</td><td>3.570333</td><td>0.0003565281</td><td> 3.866635</td><td>1.979915</td><td>   8.851029</td><td>XRCC4  </td></tr>\n",
       "\t<tr><th scope=row>TXN</th><td>0.2751800</td><td>0.07162072</td><td>3.842184</td><td>0.0001219441</td><td> 1.316768</td><td>1.161755</td><td>   1.541887</td><td>TXN    </td></tr>\n",
       "\t<tr><th scope=row>TFEC</th><td>0.3981839</td><td>0.15510207</td><td>2.567238</td><td>0.0102512201</td><td> 1.489118</td><td>1.136514</td><td>   2.092047</td><td>TFEC   </td></tr>\n",
       "\t<tr><th scope=row>TAF7</th><td>0.2109721</td><td>0.05563213</td><td>3.792271</td><td>0.0001492760</td><td> 1.234878</td><td>1.120166</td><td>   1.396531</td><td>TAF7   </td></tr>\n",
       "\t<tr><th scope=row>SYCP2</th><td>1.9833126</td><td>0.59304017</td><td>3.344314</td><td>0.0008248631</td><td> 7.266775</td><td>2.580680</td><td>  26.664046</td><td>SYCP2  </td></tr>\n",
       "\t<tr><th scope=row>SUMO4</th><td>0.4170614</td><td>0.10746219</td><td>3.881006</td><td>0.0001040252</td><td> 1.517496</td><td>1.260085</td><td>   1.931736</td><td>SUMO4  </td></tr>\n",
       "</tbody>\n",
       "</table>\n"
      ],
      "text/latex": [
       "A data.frame: 10 x 8\n",
       "\\begin{tabular}{r|llllllll}\n",
       "  & Estimate & Std..Error & z.value & Pr...z.. & OR & X2.5.. & X97.5.. & Characteristics\\\\\n",
       "  & <dbl> & <dbl> & <dbl> & <dbl> & <dbl> & <dbl> & <dbl> & <chr>\\\\\n",
       "\\hline\n",
       "\tZNF480 & 0.6756395 & 0.19457747 & 3.472342 & 0.0005159388 &  1.965289 & 1.395190 &    3.004856 & ZNF480 \\\\\n",
       "\tZNF354A & 0.8476050 & 0.23373805 & 3.626303 & 0.0002875080 &  2.334050 & 1.556239 &    3.909308 & ZNF354A\\\\\n",
       "\tZNF208 & 4.1379837 & 1.28935148 & 3.209353 & 0.0013303416 & 62.676323 & 6.383328 & 1064.922092 & ZNF208 \\\\\n",
       "\tZBED5 & 0.4459708 & 0.12411629 & 3.593169 & 0.0003266812 &  1.562006 & 1.256247 &    2.052611 & ZBED5  \\\\\n",
       "\tXRCC4 & 1.3523846 & 0.37878390 & 3.570333 & 0.0003565281 &  3.866635 & 1.979915 &    8.851029 & XRCC4  \\\\\n",
       "\tTXN & 0.2751800 & 0.07162072 & 3.842184 & 0.0001219441 &  1.316768 & 1.161755 &    1.541887 & TXN    \\\\\n",
       "\tTFEC & 0.3981839 & 0.15510207 & 2.567238 & 0.0102512201 &  1.489118 & 1.136514 &    2.092047 & TFEC   \\\\\n",
       "\tTAF7 & 0.2109721 & 0.05563213 & 3.792271 & 0.0001492760 &  1.234878 & 1.120166 &    1.396531 & TAF7   \\\\\n",
       "\tSYCP2 & 1.9833126 & 0.59304017 & 3.344314 & 0.0008248631 &  7.266775 & 2.580680 &   26.664046 & SYCP2  \\\\\n",
       "\tSUMO4 & 0.4170614 & 0.10746219 & 3.881006 & 0.0001040252 &  1.517496 & 1.260085 &    1.931736 & SUMO4  \\\\\n",
       "\\end{tabular}\n"
      ],
      "text/markdown": [
       "\n",
       "A data.frame: 10 x 8\n",
       "\n",
       "| <!--/--> | Estimate &lt;dbl&gt; | Std..Error &lt;dbl&gt; | z.value &lt;dbl&gt; | Pr...z.. &lt;dbl&gt; | OR &lt;dbl&gt; | X2.5.. &lt;dbl&gt; | X97.5.. &lt;dbl&gt; | Characteristics &lt;chr&gt; |\n",
       "|---|---|---|---|---|---|---|---|---|\n",
       "| ZNF480 | 0.6756395 | 0.19457747 | 3.472342 | 0.0005159388 |  1.965289 | 1.395190 |    3.004856 | ZNF480  |\n",
       "| ZNF354A | 0.8476050 | 0.23373805 | 3.626303 | 0.0002875080 |  2.334050 | 1.556239 |    3.909308 | ZNF354A |\n",
       "| ZNF208 | 4.1379837 | 1.28935148 | 3.209353 | 0.0013303416 | 62.676323 | 6.383328 | 1064.922092 | ZNF208  |\n",
       "| ZBED5 | 0.4459708 | 0.12411629 | 3.593169 | 0.0003266812 |  1.562006 | 1.256247 |    2.052611 | ZBED5   |\n",
       "| XRCC4 | 1.3523846 | 0.37878390 | 3.570333 | 0.0003565281 |  3.866635 | 1.979915 |    8.851029 | XRCC4   |\n",
       "| TXN | 0.2751800 | 0.07162072 | 3.842184 | 0.0001219441 |  1.316768 | 1.161755 |    1.541887 | TXN     |\n",
       "| TFEC | 0.3981839 | 0.15510207 | 2.567238 | 0.0102512201 |  1.489118 | 1.136514 |    2.092047 | TFEC    |\n",
       "| TAF7 | 0.2109721 | 0.05563213 | 3.792271 | 0.0001492760 |  1.234878 | 1.120166 |    1.396531 | TAF7    |\n",
       "| SYCP2 | 1.9833126 | 0.59304017 | 3.344314 | 0.0008248631 |  7.266775 | 2.580680 |   26.664046 | SYCP2   |\n",
       "| SUMO4 | 0.4170614 | 0.10746219 | 3.881006 | 0.0001040252 |  1.517496 | 1.260085 |    1.931736 | SUMO4   |\n",
       "\n"
      ],
      "text/plain": [
       "        Estimate  Std..Error z.value  Pr...z..     OR        X2.5..  \n",
       "ZNF480  0.6756395 0.19457747 3.472342 0.0005159388  1.965289 1.395190\n",
       "ZNF354A 0.8476050 0.23373805 3.626303 0.0002875080  2.334050 1.556239\n",
       "ZNF208  4.1379837 1.28935148 3.209353 0.0013303416 62.676323 6.383328\n",
       "ZBED5   0.4459708 0.12411629 3.593169 0.0003266812  1.562006 1.256247\n",
       "XRCC4   1.3523846 0.37878390 3.570333 0.0003565281  3.866635 1.979915\n",
       "TXN     0.2751800 0.07162072 3.842184 0.0001219441  1.316768 1.161755\n",
       "TFEC    0.3981839 0.15510207 2.567238 0.0102512201  1.489118 1.136514\n",
       "TAF7    0.2109721 0.05563213 3.792271 0.0001492760  1.234878 1.120166\n",
       "SYCP2   1.9833126 0.59304017 3.344314 0.0008248631  7.266775 2.580680\n",
       "SUMO4   0.4170614 0.10746219 3.881006 0.0001040252  1.517496 1.260085\n",
       "        X97.5..     Characteristics\n",
       "ZNF480     3.004856 ZNF480         \n",
       "ZNF354A    3.909308 ZNF354A        \n",
       "ZNF208  1064.922092 ZNF208         \n",
       "ZBED5      2.052611 ZBED5          \n",
       "XRCC4      8.851029 XRCC4          \n",
       "TXN        1.541887 TXN            \n",
       "TFEC       2.092047 TFEC           \n",
       "TAF7       1.396531 TAF7           \n",
       "SYCP2     26.664046 SYCP2          \n",
       "SUMO4      1.931736 SUMO4          "
      ]
     },
     "metadata": {},
     "output_type": "display_data"
    }
   ],
   "source": [
    "Result"
   ]
  },
  {
   "cell_type": "code",
   "execution_count": 531,
   "id": "148299e8-ac34-43f6-8b34-496935b611c3",
   "metadata": {},
   "outputs": [],
   "source": [
    "Uni_log<-data.frame(Result[,c(1,4:8)]) #提取\"P\",\"OR\",\"CIlower\",\"CIupper\"和变量名\n",
    "\n",
    "colnames(Uni_log)[2:5]<-c(\"P\",\"OR\",\"CIlower\",\"CIupper\")#变量重命名\n",
    "\n",
    "ExtractVar<-unique(Uni_log$Characteristics[Uni_log$\"P\"<0.01]) "
   ]
  },
  {
   "cell_type": "code",
   "execution_count": 532,
   "id": "7c08917b-e457-4f99-b725-5a78db04270a",
   "metadata": {},
   "outputs": [],
   "source": [
    "tzgene = Uni_log %>% dplyr::filter(P < 0.01) %>% rownames()"
   ]
  },
  {
   "cell_type": "code",
   "execution_count": 533,
   "id": "2b35911c-3a54-40f7-a801-7b01b57aca16",
   "metadata": {},
   "outputs": [
    {
     "data": {
      "text/html": [
       "<table class=\"dataframe\">\n",
       "<caption>A data.frame: 9 x 6</caption>\n",
       "<thead>\n",
       "\t<tr><th></th><th scope=col>Estimate</th><th scope=col>P</th><th scope=col>OR</th><th scope=col>CIlower</th><th scope=col>CIupper</th><th scope=col>Characteristics</th></tr>\n",
       "\t<tr><th></th><th scope=col>&lt;dbl&gt;</th><th scope=col>&lt;dbl&gt;</th><th scope=col>&lt;dbl&gt;</th><th scope=col>&lt;dbl&gt;</th><th scope=col>&lt;dbl&gt;</th><th scope=col>&lt;chr&gt;</th></tr>\n",
       "</thead>\n",
       "<tbody>\n",
       "\t<tr><th scope=row>ZNF480</th><td>0.6756395</td><td>0.0005159388</td><td> 1.965289</td><td>1.395190</td><td>   3.004856</td><td>ZNF480 </td></tr>\n",
       "\t<tr><th scope=row>ZNF354A</th><td>0.8476050</td><td>0.0002875080</td><td> 2.334050</td><td>1.556239</td><td>   3.909308</td><td>ZNF354A</td></tr>\n",
       "\t<tr><th scope=row>ZNF208</th><td>4.1379837</td><td>0.0013303416</td><td>62.676323</td><td>6.383328</td><td>1064.922092</td><td>ZNF208 </td></tr>\n",
       "\t<tr><th scope=row>ZBED5</th><td>0.4459708</td><td>0.0003266812</td><td> 1.562006</td><td>1.256247</td><td>   2.052611</td><td>ZBED5  </td></tr>\n",
       "\t<tr><th scope=row>XRCC4</th><td>1.3523846</td><td>0.0003565281</td><td> 3.866635</td><td>1.979915</td><td>   8.851029</td><td>XRCC4  </td></tr>\n",
       "\t<tr><th scope=row>TXN</th><td>0.2751800</td><td>0.0001219441</td><td> 1.316768</td><td>1.161755</td><td>   1.541887</td><td>TXN    </td></tr>\n",
       "\t<tr><th scope=row>TAF7</th><td>0.2109721</td><td>0.0001492760</td><td> 1.234878</td><td>1.120166</td><td>   1.396531</td><td>TAF7   </td></tr>\n",
       "\t<tr><th scope=row>SYCP2</th><td>1.9833126</td><td>0.0008248631</td><td> 7.266775</td><td>2.580680</td><td>  26.664046</td><td>SYCP2  </td></tr>\n",
       "\t<tr><th scope=row>SUMO4</th><td>0.4170614</td><td>0.0001040252</td><td> 1.517496</td><td>1.260085</td><td>   1.931736</td><td>SUMO4  </td></tr>\n",
       "</tbody>\n",
       "</table>\n"
      ],
      "text/latex": [
       "A data.frame: 9 x 6\n",
       "\\begin{tabular}{r|llllll}\n",
       "  & Estimate & P & OR & CIlower & CIupper & Characteristics\\\\\n",
       "  & <dbl> & <dbl> & <dbl> & <dbl> & <dbl> & <chr>\\\\\n",
       "\\hline\n",
       "\tZNF480 & 0.6756395 & 0.0005159388 &  1.965289 & 1.395190 &    3.004856 & ZNF480 \\\\\n",
       "\tZNF354A & 0.8476050 & 0.0002875080 &  2.334050 & 1.556239 &    3.909308 & ZNF354A\\\\\n",
       "\tZNF208 & 4.1379837 & 0.0013303416 & 62.676323 & 6.383328 & 1064.922092 & ZNF208 \\\\\n",
       "\tZBED5 & 0.4459708 & 0.0003266812 &  1.562006 & 1.256247 &    2.052611 & ZBED5  \\\\\n",
       "\tXRCC4 & 1.3523846 & 0.0003565281 &  3.866635 & 1.979915 &    8.851029 & XRCC4  \\\\\n",
       "\tTXN & 0.2751800 & 0.0001219441 &  1.316768 & 1.161755 &    1.541887 & TXN    \\\\\n",
       "\tTAF7 & 0.2109721 & 0.0001492760 &  1.234878 & 1.120166 &    1.396531 & TAF7   \\\\\n",
       "\tSYCP2 & 1.9833126 & 0.0008248631 &  7.266775 & 2.580680 &   26.664046 & SYCP2  \\\\\n",
       "\tSUMO4 & 0.4170614 & 0.0001040252 &  1.517496 & 1.260085 &    1.931736 & SUMO4  \\\\\n",
       "\\end{tabular}\n"
      ],
      "text/markdown": [
       "\n",
       "A data.frame: 9 x 6\n",
       "\n",
       "| <!--/--> | Estimate &lt;dbl&gt; | P &lt;dbl&gt; | OR &lt;dbl&gt; | CIlower &lt;dbl&gt; | CIupper &lt;dbl&gt; | Characteristics &lt;chr&gt; |\n",
       "|---|---|---|---|---|---|---|\n",
       "| ZNF480 | 0.6756395 | 0.0005159388 |  1.965289 | 1.395190 |    3.004856 | ZNF480  |\n",
       "| ZNF354A | 0.8476050 | 0.0002875080 |  2.334050 | 1.556239 |    3.909308 | ZNF354A |\n",
       "| ZNF208 | 4.1379837 | 0.0013303416 | 62.676323 | 6.383328 | 1064.922092 | ZNF208  |\n",
       "| ZBED5 | 0.4459708 | 0.0003266812 |  1.562006 | 1.256247 |    2.052611 | ZBED5   |\n",
       "| XRCC4 | 1.3523846 | 0.0003565281 |  3.866635 | 1.979915 |    8.851029 | XRCC4   |\n",
       "| TXN | 0.2751800 | 0.0001219441 |  1.316768 | 1.161755 |    1.541887 | TXN     |\n",
       "| TAF7 | 0.2109721 | 0.0001492760 |  1.234878 | 1.120166 |    1.396531 | TAF7    |\n",
       "| SYCP2 | 1.9833126 | 0.0008248631 |  7.266775 | 2.580680 |   26.664046 | SYCP2   |\n",
       "| SUMO4 | 0.4170614 | 0.0001040252 |  1.517496 | 1.260085 |    1.931736 | SUMO4   |\n",
       "\n"
      ],
      "text/plain": [
       "        Estimate  P            OR        CIlower  CIupper     Characteristics\n",
       "ZNF480  0.6756395 0.0005159388  1.965289 1.395190    3.004856 ZNF480         \n",
       "ZNF354A 0.8476050 0.0002875080  2.334050 1.556239    3.909308 ZNF354A        \n",
       "ZNF208  4.1379837 0.0013303416 62.676323 6.383328 1064.922092 ZNF208         \n",
       "ZBED5   0.4459708 0.0003266812  1.562006 1.256247    2.052611 ZBED5          \n",
       "XRCC4   1.3523846 0.0003565281  3.866635 1.979915    8.851029 XRCC4          \n",
       "TXN     0.2751800 0.0001219441  1.316768 1.161755    1.541887 TXN            \n",
       "TAF7    0.2109721 0.0001492760  1.234878 1.120166    1.396531 TAF7           \n",
       "SYCP2   1.9833126 0.0008248631  7.266775 2.580680   26.664046 SYCP2          \n",
       "SUMO4   0.4170614 0.0001040252  1.517496 1.260085    1.931736 SUMO4          "
      ]
     },
     "metadata": {},
     "output_type": "display_data"
    }
   ],
   "source": [
    "Uni_log[tzgene,]"
   ]
  },
  {
   "cell_type": "markdown",
   "id": "232747e0-8e0a-4a1a-a963-788be809fe24",
   "metadata": {},
   "source": [
    "### 多因素分析"
   ]
  },
  {
   "cell_type": "code",
   "execution_count": 451,
   "id": "607567dc-7ff4-40cc-9f88-59958dd38215",
   "metadata": {},
   "outputs": [],
   "source": [
    "tzgene = tzgene[-c(1,5)]"
   ]
  },
  {
   "cell_type": "code",
   "execution_count": 534,
   "id": "0b9b3332-c208-4dad-b2d0-a1e1d7a2f11a",
   "metadata": {},
   "outputs": [
    {
     "data": {
      "text/html": [
       "<style>\n",
       ".list-inline {list-style: none; margin:0; padding: 0}\n",
       ".list-inline>li {display: inline-block}\n",
       ".list-inline>li:not(:last-child)::after {content: \"\\00b7\"; padding: 0 .5ex}\n",
       "</style>\n",
       "<ol class=list-inline><li>'ZNF480'</li><li>'ZNF354A'</li><li>'ZNF208'</li><li>'ZBED5'</li><li>'XRCC4'</li><li>'TXN'</li><li>'TAF7'</li><li>'SYCP2'</li><li>'SUMO4'</li></ol>\n"
      ],
      "text/latex": [
       "\\begin{enumerate*}\n",
       "\\item 'ZNF480'\n",
       "\\item 'ZNF354A'\n",
       "\\item 'ZNF208'\n",
       "\\item 'ZBED5'\n",
       "\\item 'XRCC4'\n",
       "\\item 'TXN'\n",
       "\\item 'TAF7'\n",
       "\\item 'SYCP2'\n",
       "\\item 'SUMO4'\n",
       "\\end{enumerate*}\n"
      ],
      "text/markdown": [
       "1. 'ZNF480'\n",
       "2. 'ZNF354A'\n",
       "3. 'ZNF208'\n",
       "4. 'ZBED5'\n",
       "5. 'XRCC4'\n",
       "6. 'TXN'\n",
       "7. 'TAF7'\n",
       "8. 'SYCP2'\n",
       "9. 'SUMO4'\n",
       "\n",
       "\n"
      ],
      "text/plain": [
       "[1] \"ZNF480\"  \"ZNF354A\" \"ZNF208\"  \"ZBED5\"   \"XRCC4\"   \"TXN\"     \"TAF7\"   \n",
       "[8] \"SYCP2\"   \"SUMO4\"  "
      ]
     },
     "metadata": {},
     "output_type": "display_data"
    }
   ],
   "source": [
    "tzgene"
   ]
  },
  {
   "cell_type": "code",
   "execution_count": null,
   "id": "bc2af47a-fcbf-471f-bd6a-a53bbbf440d8",
   "metadata": {},
   "outputs": [],
   "source": []
  },
  {
   "cell_type": "code",
   "execution_count": 453,
   "id": "9a29f3e9-02ef-4987-899e-0a7ea6408f6c",
   "metadata": {},
   "outputs": [],
   "source": [
    "#tzgene1 = tzgene[-5]"
   ]
  },
  {
   "cell_type": "code",
   "execution_count": 536,
   "id": "f421a627-cea3-4472-9d7d-eabb65d4b253",
   "metadata": {},
   "outputs": [],
   "source": [
    "data = expr4[,c('Group',tzgene)]\n",
    "data$Group = factor(data$Group,levels = c(1,0))"
   ]
  },
  {
   "cell_type": "code",
   "execution_count": 537,
   "id": "45593c9a-5ec2-40ee-9f5f-0cd8b8bfdf06",
   "metadata": {},
   "outputs": [
    {
     "data": {
      "text/plain": [
       "\n",
       "Call:\n",
       "glm(formula = Group ~ ., family = binomial(), data = data)\n",
       "\n",
       "Deviance Residuals: \n",
       "     Min        1Q    Median        3Q       Max  \n",
       "-2.13550  -0.29496  -0.00167   0.32231   2.43200  \n",
       "\n",
       "Coefficients:\n",
       "            Estimate Std. Error z value Pr(>|z|)    \n",
       "(Intercept)  19.3906     5.2921   3.664 0.000248 ***\n",
       "ZNF480       -1.3810     0.7979  -1.731 0.083501 .  \n",
       "ZNF354A      -0.6545     0.4382  -1.494 0.135276    \n",
       "ZNF208       -5.2677     2.5605  -2.057 0.039657 *  \n",
       "ZBED5         0.5580     0.5585   0.999 0.317688    \n",
       "XRCC4         1.9544     1.6071   1.216 0.223938    \n",
       "TXN          -0.8644     0.3066  -2.819 0.004816 ** \n",
       "TAF7          0.3553     0.1918   1.853 0.063881 .  \n",
       "SYCP2         1.0909     1.3139   0.830 0.406389    \n",
       "SUMO4        -0.8255     0.2921  -2.826 0.004716 ** \n",
       "---\n",
       "Signif. codes:  0 '***' 0.001 '**' 0.01 '*' 0.05 '.' 0.1 ' ' 1\n",
       "\n",
       "(Dispersion parameter for binomial family taken to be 1)\n",
       "\n",
       "    Null deviance: 100.631  on 73  degrees of freedom\n",
       "Residual deviance:  37.911  on 64  degrees of freedom\n",
       "AIC: 57.911\n",
       "\n",
       "Number of Fisher Scoring iterations: 8\n"
      ]
     },
     "metadata": {},
     "output_type": "display_data"
    }
   ],
   "source": [
    "fit.reduce<-glm(Group~.,data=data,family=binomial())\n",
    "summary(fit.reduce)"
   ]
  },
  {
   "cell_type": "code",
   "execution_count": 538,
   "id": "360a430e-9388-4fe4-91ee-e7995c29c187",
   "metadata": {
    "scrolled": true
   },
   "outputs": [
    {
     "name": "stdout",
     "output_type": "stream",
     "text": [
      "Start:  AIC=57.91\n",
      "Group ~ ZNF480 + ZNF354A + ZNF208 + ZBED5 + XRCC4 + TXN + TAF7 + \n",
      "    SYCP2 + SUMO4\n",
      "\n"
     ]
    },
    {
     "name": "stderr",
     "output_type": "stream",
     "text": [
      "Warning message:\n",
      "\"glm.fit: fitted probabilities numerically 0 or 1 occurred\"\n"
     ]
    },
    {
     "name": "stdout",
     "output_type": "stream",
     "text": [
      "          Df Deviance    AIC\n",
      "- SYCP2    1   38.637 56.637\n",
      "- ZBED5    1   38.976 56.976\n",
      "- XRCC4    1   39.621 57.621\n",
      "<none>         37.911 57.911\n",
      "- ZNF354A  1   40.257 58.257\n",
      "- ZNF480   1   41.612 59.612\n",
      "- TAF7     1   42.205 60.205\n",
      "- ZNF208   1   43.949 61.949\n",
      "- SUMO4    1   54.426 72.426\n",
      "- TXN      1   62.494 80.494\n",
      "\n",
      "Step:  AIC=56.64\n",
      "Group ~ ZNF480 + ZNF354A + ZNF208 + ZBED5 + XRCC4 + TXN + TAF7 + \n",
      "    SUMO4\n",
      "\n"
     ]
    },
    {
     "name": "stderr",
     "output_type": "stream",
     "text": [
      "Warning message:\n",
      "\"glm.fit: fitted probabilities numerically 0 or 1 occurred\"\n"
     ]
    },
    {
     "name": "stdout",
     "output_type": "stream",
     "text": [
      "          Df Deviance    AIC\n",
      "- ZBED5    1   39.597 55.597\n",
      "- ZNF354A  1   40.626 56.626\n",
      "<none>         38.637 56.637\n",
      "- ZNF480   1   41.729 57.729\n",
      "+ SYCP2    1   37.911 57.911\n",
      "- TAF7     1   42.436 58.436\n",
      "- XRCC4    1   43.098 59.098\n",
      "- ZNF208   1   44.041 60.041\n",
      "- SUMO4    1   54.787 70.787\n",
      "- TXN      1   62.661 78.661\n"
     ]
    },
    {
     "name": "stderr",
     "output_type": "stream",
     "text": [
      "Warning message:\n",
      "\"glm.fit: fitted probabilities numerically 0 or 1 occurred\"\n"
     ]
    },
    {
     "name": "stdout",
     "output_type": "stream",
     "text": [
      "\n",
      "Step:  AIC=55.6\n",
      "Group ~ ZNF480 + ZNF354A + ZNF208 + XRCC4 + TXN + TAF7 + SUMO4\n",
      "\n"
     ]
    },
    {
     "name": "stderr",
     "output_type": "stream",
     "text": [
      "Warning message:\n",
      "\"glm.fit: fitted probabilities numerically 0 or 1 occurred\"\n",
      "Warning message:\n",
      "\"glm.fit: fitted probabilities numerically 0 or 1 occurred\"\n"
     ]
    },
    {
     "name": "stdout",
     "output_type": "stream",
     "text": [
      "          Df Deviance    AIC\n",
      "- ZNF354A  1   41.166 55.166\n",
      "<none>         39.597 55.597\n",
      "- ZNF480   1   41.971 55.971\n",
      "+ ZBED5    1   38.637 56.637\n",
      "- TAF7     1   42.935 56.935\n",
      "+ SYCP2    1   38.976 56.976\n",
      "- ZNF208   1   44.051 58.051\n",
      "- XRCC4    1   47.415 61.415\n",
      "- SUMO4    1   54.811 68.811\n",
      "- TXN      1   63.522 77.522\n",
      "\n",
      "Step:  AIC=55.17\n",
      "Group ~ ZNF480 + ZNF208 + XRCC4 + TXN + TAF7 + SUMO4\n",
      "\n"
     ]
    },
    {
     "name": "stderr",
     "output_type": "stream",
     "text": [
      "Warning message:\n",
      "\"glm.fit: fitted probabilities numerically 0 or 1 occurred\"\n"
     ]
    },
    {
     "name": "stdout",
     "output_type": "stream",
     "text": [
      "          Df Deviance    AIC\n",
      "<none>         41.166 55.166\n",
      "+ ZNF354A  1   39.597 55.597\n",
      "- TAF7     1   43.771 55.771\n",
      "+ ZBED5    1   40.626 56.626\n",
      "+ SYCP2    1   40.755 56.755\n",
      "- ZNF480   1   44.800 56.800\n",
      "- ZNF208   1   45.491 57.491\n",
      "- XRCC4    1   48.163 60.163\n",
      "- SUMO4    1   57.028 69.028\n",
      "- TXN      1   65.387 77.387\n"
     ]
    },
    {
     "data": {
      "text/plain": [
       "\n",
       "Call:\n",
       "glm(formula = Group ~ ZNF480 + ZNF208 + XRCC4 + TXN + TAF7 + \n",
       "    SUMO4, family = binomial(), data = data)\n",
       "\n",
       "Deviance Residuals: \n",
       "     Min        1Q    Median        3Q       Max  \n",
       "-1.90802  -0.33166  -0.00251   0.44525   1.99804  \n",
       "\n",
       "Coefficients:\n",
       "            Estimate Std. Error z value Pr(>|z|)    \n",
       "(Intercept)  18.3348     4.9674   3.691 0.000223 ***\n",
       "ZNF480       -0.8171     0.4764  -1.715 0.086341 .  \n",
       "ZNF208       -3.5252     1.9190  -1.837 0.066200 .  \n",
       "XRCC4         2.8746     1.3054   2.202 0.027663 *  \n",
       "TXN          -0.8531     0.2863  -2.979 0.002888 ** \n",
       "TAF7          0.2483     0.1640   1.514 0.130009    \n",
       "SUMO4        -0.7782     0.2713  -2.868 0.004133 ** \n",
       "---\n",
       "Signif. codes:  0 '***' 0.001 '**' 0.01 '*' 0.05 '.' 0.1 ' ' 1\n",
       "\n",
       "(Dispersion parameter for binomial family taken to be 1)\n",
       "\n",
       "    Null deviance: 100.631  on 73  degrees of freedom\n",
       "Residual deviance:  41.166  on 67  degrees of freedom\n",
       "AIC: 55.166\n",
       "\n",
       "Number of Fisher Scoring iterations: 8\n"
      ]
     },
     "metadata": {},
     "output_type": "display_data"
    }
   ],
   "source": [
    "logit.step <- step(fit.reduce,direction='both')\n",
    "summary(logit.step)"
   ]
  },
  {
   "cell_type": "code",
   "execution_count": 539,
   "id": "d09d5fb1-b54b-4f0a-a8ad-19c4fa653d37",
   "metadata": {
    "scrolled": true
   },
   "outputs": [
    {
     "name": "stderr",
     "output_type": "stream",
     "text": [
      "Waiting for profiling to be done...\n",
      "\n",
      "Warning message:\n",
      "\"glm.fit: fitted probabilities numerically 0 or 1 occurred\"\n",
      "Warning message:\n",
      "\"glm.fit: fitted probabilities numerically 0 or 1 occurred\"\n",
      "Warning message:\n",
      "\"glm.fit: fitted probabilities numerically 0 or 1 occurred\"\n",
      "Warning message:\n",
      "\"glm.fit: fitted probabilities numerically 0 or 1 occurred\"\n",
      "Warning message:\n",
      "\"glm.fit: fitted probabilities numerically 0 or 1 occurred\"\n",
      "Warning message:\n",
      "\"glm.fit: fitted probabilities numerically 0 or 1 occurred\"\n",
      "Warning message:\n",
      "\"glm.fit: fitted probabilities numerically 0 or 1 occurred\"\n",
      "Warning message:\n",
      "\"glm.fit: fitted probabilities numerically 0 or 1 occurred\"\n",
      "Warning message:\n",
      "\"glm.fit: fitted probabilities numerically 0 or 1 occurred\"\n",
      "Warning message:\n",
      "\"glm.fit: fitted probabilities numerically 0 or 1 occurred\"\n",
      "Warning message:\n",
      "\"glm.fit: fitted probabilities numerically 0 or 1 occurred\"\n",
      "Warning message:\n",
      "\"glm.fit: fitted probabilities numerically 0 or 1 occurred\"\n",
      "Warning message:\n",
      "\"glm.fit: fitted probabilities numerically 0 or 1 occurred\"\n",
      "Warning message:\n",
      "\"glm.fit: fitted probabilities numerically 0 or 1 occurred\"\n",
      "Warning message:\n",
      "\"glm.fit: fitted probabilities numerically 0 or 1 occurred\"\n",
      "Warning message:\n",
      "\"glm.fit: fitted probabilities numerically 0 or 1 occurred\"\n",
      "Warning message:\n",
      "\"glm.fit: fitted probabilities numerically 0 or 1 occurred\"\n",
      "Warning message:\n",
      "\"glm.fit: fitted probabilities numerically 0 or 1 occurred\"\n",
      "Warning message:\n",
      "\"glm.fit: fitted probabilities numerically 0 or 1 occurred\"\n",
      "Warning message:\n",
      "\"glm.fit: fitted probabilities numerically 0 or 1 occurred\"\n",
      "Warning message:\n",
      "\"glm.fit: fitted probabilities numerically 0 or 1 occurred\"\n",
      "Warning message:\n",
      "\"glm.fit: fitted probabilities numerically 0 or 1 occurred\"\n",
      "Warning message:\n",
      "\"glm.fit: fitted probabilities numerically 0 or 1 occurred\"\n",
      "Warning message:\n",
      "\"glm.fit: fitted probabilities numerically 0 or 1 occurred\"\n",
      "Warning message:\n",
      "\"glm.fit: fitted probabilities numerically 0 or 1 occurred\"\n",
      "Warning message:\n",
      "\"glm.fit: fitted probabilities numerically 0 or 1 occurred\"\n",
      "Warning message:\n",
      "\"glm.fit: fitted probabilities numerically 0 or 1 occurred\"\n",
      "Warning message:\n",
      "\"glm.fit: fitted probabilities numerically 0 or 1 occurred\"\n",
      "Warning message:\n",
      "\"glm.fit: fitted probabilities numerically 0 or 1 occurred\"\n",
      "Warning message:\n",
      "\"glm.fit: fitted probabilities numerically 0 or 1 occurred\"\n",
      "Warning message:\n",
      "\"glm.fit: fitted probabilities numerically 0 or 1 occurred\"\n",
      "Warning message:\n",
      "\"glm.fit: fitted probabilities numerically 0 or 1 occurred\"\n",
      "Warning message:\n",
      "\"glm.fit: fitted probabilities numerically 0 or 1 occurred\"\n",
      "Warning message:\n",
      "\"glm.fit: fitted probabilities numerically 0 or 1 occurred\"\n",
      "Warning message:\n",
      "\"glm.fit: fitted probabilities numerically 0 or 1 occurred\"\n",
      "Warning message:\n",
      "\"glm.fit: fitted probabilities numerically 0 or 1 occurred\"\n",
      "Warning message:\n",
      "\"glm.fit: fitted probabilities numerically 0 or 1 occurred\"\n",
      "Warning message:\n",
      "\"glm.fit: fitted probabilities numerically 0 or 1 occurred\"\n",
      "Warning message:\n",
      "\"glm.fit: fitted probabilities numerically 0 or 1 occurred\"\n",
      "Warning message:\n",
      "\"glm.fit: fitted probabilities numerically 0 or 1 occurred\"\n",
      "Warning message:\n",
      "\"glm.fit: fitted probabilities numerically 0 or 1 occurred\"\n",
      "Warning message:\n",
      "\"glm.fit: fitted probabilities numerically 0 or 1 occurred\"\n",
      "Warning message:\n",
      "\"glm.fit: fitted probabilities numerically 0 or 1 occurred\"\n"
     ]
    },
    {
     "data": {
      "text/html": [
       "<table class=\"dataframe\">\n",
       "<caption>A data.frame: 7 x 4</caption>\n",
       "<thead>\n",
       "\t<tr><th></th><th scope=col>B</th><th scope=col>Wald</th><th scope=col>OR_with_CI</th><th scope=col>P</th></tr>\n",
       "\t<tr><th></th><th scope=col>&lt;dbl&gt;</th><th scope=col>&lt;dbl&gt;</th><th scope=col>&lt;chr&gt;</th><th scope=col>&lt;chr&gt;</th></tr>\n",
       "</thead>\n",
       "<tbody>\n",
       "\t<tr><th scope=row>(Intercept)</th><td>18.335</td><td>13.624</td><td>91767295.35(30946.739~11993288644374)</td><td>&lt;0.001</td></tr>\n",
       "\t<tr><th scope=row>ZNF480</th><td>-0.817</td><td> 2.941</td><td>0.442(0.151~1.021)                   </td><td>0.086 </td></tr>\n",
       "\t<tr><th scope=row>ZNF208</th><td>-3.525</td><td> 3.375</td><td>0.029(0~0.828)                       </td><td>0.066 </td></tr>\n",
       "\t<tr><th scope=row>XRCC4</th><td> 2.875</td><td> 4.849</td><td>17.718(1.929~366.053)                </td><td>0.028 </td></tr>\n",
       "\t<tr><th scope=row>TXN</th><td>-0.853</td><td> 8.877</td><td>0.426(0.218~0.675)                   </td><td>0.003 </td></tr>\n",
       "\t<tr><th scope=row>TAF7</th><td> 0.248</td><td> 2.292</td><td>1.282(0.951~1.841)                   </td><td>0.130 </td></tr>\n",
       "\t<tr><th scope=row>SUMO4</th><td>-0.778</td><td> 8.224</td><td>0.459(0.244~0.719)                   </td><td>0.004 </td></tr>\n",
       "</tbody>\n",
       "</table>\n"
      ],
      "text/latex": [
       "A data.frame: 7 x 4\n",
       "\\begin{tabular}{r|llll}\n",
       "  & B & Wald & OR\\_with\\_CI & P\\\\\n",
       "  & <dbl> & <dbl> & <chr> & <chr>\\\\\n",
       "\\hline\n",
       "\t(Intercept) & 18.335 & 13.624 & 91767295.35(30946.739\\textasciitilde{}11993288644374) & <0.001\\\\\n",
       "\tZNF480 & -0.817 &  2.941 & 0.442(0.151\\textasciitilde{}1.021)                    & 0.086 \\\\\n",
       "\tZNF208 & -3.525 &  3.375 & 0.029(0\\textasciitilde{}0.828)                        & 0.066 \\\\\n",
       "\tXRCC4 &  2.875 &  4.849 & 17.718(1.929\\textasciitilde{}366.053)                 & 0.028 \\\\\n",
       "\tTXN & -0.853 &  8.877 & 0.426(0.218\\textasciitilde{}0.675)                    & 0.003 \\\\\n",
       "\tTAF7 &  0.248 &  2.292 & 1.282(0.951\\textasciitilde{}1.841)                    & 0.130 \\\\\n",
       "\tSUMO4 & -0.778 &  8.224 & 0.459(0.244\\textasciitilde{}0.719)                    & 0.004 \\\\\n",
       "\\end{tabular}\n"
      ],
      "text/markdown": [
       "\n",
       "A data.frame: 7 x 4\n",
       "\n",
       "| <!--/--> | B &lt;dbl&gt; | Wald &lt;dbl&gt; | OR_with_CI &lt;chr&gt; | P &lt;chr&gt; |\n",
       "|---|---|---|---|---|\n",
       "| (Intercept) | 18.335 | 13.624 | 91767295.35(30946.739~11993288644374) | &lt;0.001 |\n",
       "| ZNF480 | -0.817 |  2.941 | 0.442(0.151~1.021)                    | 0.086  |\n",
       "| ZNF208 | -3.525 |  3.375 | 0.029(0~0.828)                        | 0.066  |\n",
       "| XRCC4 |  2.875 |  4.849 | 17.718(1.929~366.053)                 | 0.028  |\n",
       "| TXN | -0.853 |  8.877 | 0.426(0.218~0.675)                    | 0.003  |\n",
       "| TAF7 |  0.248 |  2.292 | 1.282(0.951~1.841)                    | 0.130  |\n",
       "| SUMO4 | -0.778 |  8.224 | 0.459(0.244~0.719)                    | 0.004  |\n",
       "\n"
      ],
      "text/plain": [
       "            B      Wald   OR_with_CI                            P     \n",
       "(Intercept) 18.335 13.624 91767295.35(30946.739~11993288644374) <0.001\n",
       "ZNF480      -0.817  2.941 0.442(0.151~1.021)                    0.086 \n",
       "ZNF208      -3.525  3.375 0.029(0~0.828)                        0.066 \n",
       "XRCC4        2.875  4.849 17.718(1.929~366.053)                 0.028 \n",
       "TXN         -0.853  8.877 0.426(0.218~0.675)                    0.003 \n",
       "TAF7         0.248  2.292 1.282(0.951~1.841)                    0.130 \n",
       "SUMO4       -0.778  8.224 0.459(0.244~0.719)                    0.004 "
      ]
     },
     "metadata": {},
     "output_type": "display_data"
    }
   ],
   "source": [
    "\n",
    "\n",
    "# train_sub = sample(nrow(data),9/10*nrow(data))\n",
    "# train_data = data[train_sub,]\n",
    "# test_data =data[-train_sub,]\n",
    "\n",
    "# fit.reduce<-glm(Group~.,data=data,family=binomial())\n",
    "# summary(fit.reduce)\n",
    "\n",
    "formatFit<-function(fit){\n",
    "  #取P值\n",
    "  p<-summary(fit)$coefficients[,4]\n",
    "  #wald值\n",
    "  wald<-summary(fit)$coefficients[,3]^2\n",
    "  #B值\n",
    "  valueB<-coef(fit)\n",
    "  #OR值\n",
    "  valueOR<-exp(coef(fit))\n",
    "  #OR值得95%CI\n",
    "  confitOR<-exp(confint(fit))\n",
    "  data.frame(\n",
    "    B=round(valueB,3),\n",
    "    Wald=round(wald,3),\n",
    "    OR_with_CI=paste(round(valueOR,3),\"(\",\n",
    "               round(confitOR[,1],3),\"~\",round(confitOR[,2],3),\")\",sep=\"\"),\n",
    "    P=format.pval(p,digits = 3,eps=0.001)\n",
    "  )\n",
    "}\n",
    "\n",
    "formatFit(logit.step)"
   ]
  },
  {
   "cell_type": "code",
   "execution_count": 540,
   "id": "1e759b26-f294-4097-8541-6fddaf0457b8",
   "metadata": {},
   "outputs": [
    {
     "name": "stderr",
     "output_type": "stream",
     "text": [
      "Waiting for profiling to be done...\n",
      "\n",
      "Warning message:\n",
      "\"glm.fit: fitted probabilities numerically 0 or 1 occurred\"\n",
      "Warning message:\n",
      "\"glm.fit: fitted probabilities numerically 0 or 1 occurred\"\n",
      "Warning message:\n",
      "\"glm.fit: fitted probabilities numerically 0 or 1 occurred\"\n",
      "Warning message:\n",
      "\"glm.fit: fitted probabilities numerically 0 or 1 occurred\"\n",
      "Warning message:\n",
      "\"glm.fit: fitted probabilities numerically 0 or 1 occurred\"\n",
      "Warning message:\n",
      "\"glm.fit: fitted probabilities numerically 0 or 1 occurred\"\n",
      "Warning message:\n",
      "\"glm.fit: fitted probabilities numerically 0 or 1 occurred\"\n",
      "Warning message:\n",
      "\"glm.fit: fitted probabilities numerically 0 or 1 occurred\"\n",
      "Warning message:\n",
      "\"glm.fit: fitted probabilities numerically 0 or 1 occurred\"\n",
      "Warning message:\n",
      "\"glm.fit: fitted probabilities numerically 0 or 1 occurred\"\n",
      "Warning message:\n",
      "\"glm.fit: fitted probabilities numerically 0 or 1 occurred\"\n",
      "Warning message:\n",
      "\"glm.fit: fitted probabilities numerically 0 or 1 occurred\"\n",
      "Warning message:\n",
      "\"glm.fit: fitted probabilities numerically 0 or 1 occurred\"\n",
      "Warning message:\n",
      "\"glm.fit: fitted probabilities numerically 0 or 1 occurred\"\n",
      "Warning message:\n",
      "\"glm.fit: fitted probabilities numerically 0 or 1 occurred\"\n",
      "Warning message:\n",
      "\"glm.fit: fitted probabilities numerically 0 or 1 occurred\"\n",
      "Warning message:\n",
      "\"glm.fit: fitted probabilities numerically 0 or 1 occurred\"\n",
      "Warning message:\n",
      "\"glm.fit: fitted probabilities numerically 0 or 1 occurred\"\n",
      "Warning message:\n",
      "\"glm.fit: fitted probabilities numerically 0 or 1 occurred\"\n",
      "Warning message:\n",
      "\"glm.fit: fitted probabilities numerically 0 or 1 occurred\"\n",
      "Warning message:\n",
      "\"glm.fit: fitted probabilities numerically 0 or 1 occurred\"\n",
      "Warning message:\n",
      "\"glm.fit: fitted probabilities numerically 0 or 1 occurred\"\n",
      "Warning message:\n",
      "\"glm.fit: fitted probabilities numerically 0 or 1 occurred\"\n",
      "Warning message:\n",
      "\"glm.fit: fitted probabilities numerically 0 or 1 occurred\"\n",
      "Warning message:\n",
      "\"glm.fit: fitted probabilities numerically 0 or 1 occurred\"\n",
      "Warning message:\n",
      "\"glm.fit: fitted probabilities numerically 0 or 1 occurred\"\n",
      "Warning message:\n",
      "\"glm.fit: fitted probabilities numerically 0 or 1 occurred\"\n",
      "Warning message:\n",
      "\"glm.fit: fitted probabilities numerically 0 or 1 occurred\"\n",
      "Warning message:\n",
      "\"glm.fit: fitted probabilities numerically 0 or 1 occurred\"\n",
      "Warning message:\n",
      "\"glm.fit: fitted probabilities numerically 0 or 1 occurred\"\n",
      "Warning message:\n",
      "\"glm.fit: fitted probabilities numerically 0 or 1 occurred\"\n",
      "Warning message:\n",
      "\"glm.fit: fitted probabilities numerically 0 or 1 occurred\"\n",
      "Warning message:\n",
      "\"glm.fit: fitted probabilities numerically 0 or 1 occurred\"\n",
      "Warning message:\n",
      "\"glm.fit: fitted probabilities numerically 0 or 1 occurred\"\n",
      "Warning message:\n",
      "\"glm.fit: fitted probabilities numerically 0 or 1 occurred\"\n",
      "Warning message:\n",
      "\"glm.fit: fitted probabilities numerically 0 or 1 occurred\"\n",
      "Warning message:\n",
      "\"glm.fit: fitted probabilities numerically 0 or 1 occurred\"\n",
      "Warning message:\n",
      "\"glm.fit: fitted probabilities numerically 0 or 1 occurred\"\n",
      "Warning message:\n",
      "\"glm.fit: fitted probabilities numerically 0 or 1 occurred\"\n",
      "Warning message:\n",
      "\"glm.fit: fitted probabilities numerically 0 or 1 occurred\"\n",
      "Warning message:\n",
      "\"glm.fit: fitted probabilities numerically 0 or 1 occurred\"\n",
      "Warning message:\n",
      "\"glm.fit: fitted probabilities numerically 0 or 1 occurred\"\n",
      "Warning message:\n",
      "\"glm.fit: fitted probabilities numerically 0 or 1 occurred\"\n",
      "Waiting for profiling to be done...\n",
      "\n",
      "Warning message:\n",
      "\"glm.fit: fitted probabilities numerically 0 or 1 occurred\"\n",
      "Warning message:\n",
      "\"glm.fit: fitted probabilities numerically 0 or 1 occurred\"\n",
      "Warning message:\n",
      "\"glm.fit: fitted probabilities numerically 0 or 1 occurred\"\n",
      "Warning message:\n",
      "\"glm.fit: fitted probabilities numerically 0 or 1 occurred\"\n",
      "Warning message:\n",
      "\"glm.fit: fitted probabilities numerically 0 or 1 occurred\"\n",
      "Warning message:\n",
      "\"glm.fit: fitted probabilities numerically 0 or 1 occurred\"\n",
      "Warning message:\n",
      "\"glm.fit: fitted probabilities numerically 0 or 1 occurred\"\n",
      "Warning message:\n",
      "\"glm.fit: fitted probabilities numerically 0 or 1 occurred\"\n",
      "Warning message:\n",
      "\"glm.fit: fitted probabilities numerically 0 or 1 occurred\"\n",
      "Warning message:\n",
      "\"glm.fit: fitted probabilities numerically 0 or 1 occurred\"\n",
      "Warning message:\n",
      "\"glm.fit: fitted probabilities numerically 0 or 1 occurred\"\n",
      "Warning message:\n",
      "\"glm.fit: fitted probabilities numerically 0 or 1 occurred\"\n",
      "Warning message:\n",
      "\"glm.fit: fitted probabilities numerically 0 or 1 occurred\"\n",
      "Warning message:\n",
      "\"glm.fit: fitted probabilities numerically 0 or 1 occurred\"\n",
      "Warning message:\n",
      "\"glm.fit: fitted probabilities numerically 0 or 1 occurred\"\n",
      "Warning message:\n",
      "\"glm.fit: fitted probabilities numerically 0 or 1 occurred\"\n",
      "Warning message:\n",
      "\"glm.fit: fitted probabilities numerically 0 or 1 occurred\"\n",
      "Warning message:\n",
      "\"glm.fit: fitted probabilities numerically 0 or 1 occurred\"\n",
      "Warning message:\n",
      "\"glm.fit: fitted probabilities numerically 0 or 1 occurred\"\n",
      "Warning message:\n",
      "\"glm.fit: fitted probabilities numerically 0 or 1 occurred\"\n",
      "Warning message:\n",
      "\"glm.fit: fitted probabilities numerically 0 or 1 occurred\"\n",
      "Warning message:\n",
      "\"glm.fit: fitted probabilities numerically 0 or 1 occurred\"\n",
      "Warning message:\n",
      "\"glm.fit: fitted probabilities numerically 0 or 1 occurred\"\n",
      "Warning message:\n",
      "\"glm.fit: fitted probabilities numerically 0 or 1 occurred\"\n",
      "Warning message:\n",
      "\"glm.fit: fitted probabilities numerically 0 or 1 occurred\"\n",
      "Warning message:\n",
      "\"glm.fit: fitted probabilities numerically 0 or 1 occurred\"\n",
      "Warning message:\n",
      "\"glm.fit: fitted probabilities numerically 0 or 1 occurred\"\n",
      "Warning message:\n",
      "\"glm.fit: fitted probabilities numerically 0 or 1 occurred\"\n",
      "Warning message:\n",
      "\"glm.fit: fitted probabilities numerically 0 or 1 occurred\"\n",
      "Warning message:\n",
      "\"glm.fit: fitted probabilities numerically 0 or 1 occurred\"\n",
      "Warning message:\n",
      "\"glm.fit: fitted probabilities numerically 0 or 1 occurred\"\n",
      "Warning message:\n",
      "\"glm.fit: fitted probabilities numerically 0 or 1 occurred\"\n",
      "Warning message:\n",
      "\"glm.fit: fitted probabilities numerically 0 or 1 occurred\"\n",
      "Warning message:\n",
      "\"glm.fit: fitted probabilities numerically 0 or 1 occurred\"\n",
      "Warning message:\n",
      "\"glm.fit: fitted probabilities numerically 0 or 1 occurred\"\n",
      "Warning message:\n",
      "\"glm.fit: fitted probabilities numerically 0 or 1 occurred\"\n",
      "Warning message:\n",
      "\"glm.fit: fitted probabilities numerically 0 or 1 occurred\"\n",
      "Warning message:\n",
      "\"glm.fit: fitted probabilities numerically 0 or 1 occurred\"\n",
      "Warning message:\n",
      "\"glm.fit: fitted probabilities numerically 0 or 1 occurred\"\n",
      "Warning message:\n",
      "\"glm.fit: fitted probabilities numerically 0 or 1 occurred\"\n",
      "Warning message:\n",
      "\"glm.fit: fitted probabilities numerically 0 or 1 occurred\"\n",
      "Warning message:\n",
      "\"glm.fit: fitted probabilities numerically 0 or 1 occurred\"\n",
      "Warning message:\n",
      "\"glm.fit: fitted probabilities numerically 0 or 1 occurred\"\n"
     ]
    }
   ],
   "source": [
    "b = rownames(formatFit(logit.step))[2:length(rownames(formatFit(logit.step)))]"
   ]
  },
  {
   "cell_type": "code",
   "execution_count": 541,
   "id": "cd16c8cc-6758-4ab4-9ef2-42439bcb5a7e",
   "metadata": {},
   "outputs": [],
   "source": [
    "data = data[,c('Group',b)]"
   ]
  },
  {
   "cell_type": "code",
   "execution_count": 542,
   "id": "d3a0a32a-af83-48f8-a609-caa731beabc8",
   "metadata": {},
   "outputs": [
    {
     "name": "stderr",
     "output_type": "stream",
     "text": [
      "Setting levels: control = 1, case = 2\n",
      "\n",
      "Setting direction: controls < cases\n",
      "\n",
      "Setting levels: control = 1, case = 2\n",
      "\n",
      "Setting direction: controls < cases\n",
      "\n",
      "Setting levels: control = 1, case = 2\n",
      "\n",
      "Setting direction: controls < cases\n",
      "\n",
      "Setting levels: control = 1, case = 2\n",
      "\n",
      "Setting direction: controls < cases\n",
      "\n",
      "Setting levels: control = 1, case = 2\n",
      "\n",
      "Setting direction: controls < cases\n",
      "\n",
      "Setting levels: control = 1, case = 2\n",
      "\n",
      "Setting direction: controls < cases\n",
      "\n",
      "Setting levels: control = 1, case = 2\n",
      "\n",
      "Setting direction: controls < cases\n",
      "\n",
      "Setting levels: control = 1, case = 2\n",
      "\n",
      "Setting direction: controls < cases\n",
      "\n",
      "Setting levels: control = 1, case = 2\n",
      "\n",
      "Setting direction: controls < cases\n",
      "\n",
      "Setting levels: control = 1, case = 2\n",
      "\n",
      "Setting direction: controls < cases\n",
      "\n"
     ]
    },
    {
     "data": {
      "text/html": [
       "0.950858543417367"
      ],
      "text/latex": [
       "0.950858543417367"
      ],
      "text/markdown": [
       "0.950858543417367"
      ],
      "text/plain": [
       "[1] 0.9508585"
      ]
     },
     "metadata": {},
     "output_type": "display_data"
    }
   ],
   "source": [
    "set.seed(1)\n",
    "#单纯10折交叉验证，time=1\n",
    "folds <-createMultiFolds(y=data$Group,k=5,times=10)\n",
    "#10次批量训练与验证\n",
    "#做成循环\n",
    "auc_value<-as.numeric()\n",
    "for(i in 1:10){\n",
    "  train<- data[ folds[[i]],] \n",
    "  test <- data[-folds[[i]],] \n",
    "  model<-glm(Group~.,data=data,family=binomial())\n",
    "    \n",
    "  model_pre<-predict(model,type='response', newdata=train)\n",
    "    \n",
    "  auc_value<- append(auc_value,\n",
    "                     as.numeric(pROC::auc(as.numeric(train[,1]),model_pre)))\n",
    "}\n",
    "mean(auc_value)"
   ]
  },
  {
   "cell_type": "code",
   "execution_count": 543,
   "id": "0bac206e-9768-4f24-8525-9600e9dd79a7",
   "metadata": {},
   "outputs": [
    {
     "name": "stdout",
     "output_type": "stream",
     "text": [
      " [1] 0.9714286 0.9482353 0.9470588 0.9423529 0.9520000 0.9565714 0.9435294\n",
      " [8] 0.9858824 0.9297619 0.9317647\n"
     ]
    }
   ],
   "source": [
    "num <- which.max(auc_value)\n",
    "print(auc_value)"
   ]
  },
  {
   "cell_type": "code",
   "execution_count": 544,
   "id": "541c2c08-b1d7-453e-a5e6-0c205e109a13",
   "metadata": {},
   "outputs": [],
   "source": [
    "fold_train <- data[folds[[num]],]   \n",
    "fold_test <- data[-folds[[num]],]"
   ]
  },
  {
   "cell_type": "code",
   "execution_count": 545,
   "id": "911cfd05-b61a-4056-8607-91c5a57d1be9",
   "metadata": {},
   "outputs": [],
   "source": [
    "fold_pre <- glm(Group~.,data=data,family=binomial())"
   ]
  },
  {
   "cell_type": "code",
   "execution_count": 546,
   "id": "c5649390-8666-4933-8575-12a848d22f20",
   "metadata": {},
   "outputs": [],
   "source": [
    "fold_predict <- predict(fold_pre,type='response',newdata=data)"
   ]
  },
  {
   "cell_type": "code",
   "execution_count": 547,
   "id": "e4c3e31e-b803-4b9c-8bc9-131b2e513991",
   "metadata": {},
   "outputs": [
    {
     "name": "stderr",
     "output_type": "stream",
     "text": [
      "Setting levels: control = 1, case = 2\n",
      "\n",
      "Setting direction: controls < cases\n",
      "\n"
     ]
    },
    {
     "data": {
      "image/png": "[encoded data removed]",
      "text/plain": [
       "Plot with title \"ROC curve for the set with the largest AUC value\""
      ]
     },
     "metadata": {
      "image/png": {
       "height": 420,
       "width": 240
      }
     },
     "output_type": "display_data"
    }
   ],
   "source": [
    "roc_curve <- pROC::roc(as.numeric(data$Group),fold_predict)\n",
    "plot(roc_curve, print.auc=TRUE, auc.polygon=TRUE, grid=c(0.1, 0.2),\n",
    "     grid.col=c(\"green\", \"red\"), max.auc.polygon=TRUE,\n",
    "     auc.polygon.col=\"skyblue\", print.thres=TRUE,main=\"ROC curve for the set with the largest AUC value\")"
   ]
  },
  {
   "cell_type": "code",
   "execution_count": 548,
   "id": "ec26a97f-04cc-4c18-b8af-1d7f2959457e",
   "metadata": {},
   "outputs": [
    {
     "data": {
      "text/html": [
       "<table class=\"dataframe\">\n",
       "<caption>A autoReg: 6 x 7</caption>\n",
       "<thead>\n",
       "\t<tr><th scope=col>name</th><th scope=col>desc</th><th scope=col>1 (N=43)</th><th scope=col>0 (N=31)</th><th scope=col>id</th><th scope=col>OR (univariable)</th><th scope=col>OR (multivariable)</th></tr>\n",
       "\t<tr><th scope=col>&lt;chr&gt;</th><th scope=col>&lt;chr&gt;</th><th scope=col>&lt;chr&gt;</th><th scope=col>&lt;chr&gt;</th><th scope=col>&lt;chr&gt;</th><th scope=col>&lt;chr&gt;</th><th scope=col>&lt;chr&gt;</th></tr>\n",
       "</thead>\n",
       "<tbody>\n",
       "\t<tr><td>ZNF480</td><td>Mean &lt;U+00B1&gt; SD</td><td>6.2 &lt;U+00B1&gt; 2.4 </td><td>4.2 &lt;U+00B1&gt; 1.1 </td><td>ZNF480</td><td>0.51 (0.35-0.75, p&lt;.001)</td><td><span style=white-space:pre-wrap>0.44 (0.17-1.12, p=.086)   </span></td></tr>\n",
       "\t<tr><td>ZNF208</td><td>Mean &lt;U+00B1&gt; SD</td><td>0.6 &lt;U+00B1&gt; 0.3 </td><td>0.4 &lt;U+00B1&gt; 0.2 </td><td>ZNF208</td><td>0.02 (0.00-0.20, p=.001)</td><td><span style=white-space:pre-wrap>0.03 (0.00-1.27, p=.066)   </span></td></tr>\n",
       "\t<tr><td>XRCC4 </td><td>Mean &lt;U+00B1&gt; SD</td><td>3.1 &lt;U+00B1&gt; 1.1 </td><td>2.1 &lt;U+00B1&gt; 0.7 </td><td>XRCC4 </td><td>0.26 (0.12-0.54, p&lt;.001)</td><td>17.72 (1.37-228.88, p=.028)</td></tr>\n",
       "\t<tr><td><span style=white-space:pre-wrap>TXN   </span></td><td>Mean &lt;U+00B1&gt; SD</td><td>22.1 &lt;U+00B1&gt; 9.0</td><td>14.2 &lt;U+00B1&gt; 3.6</td><td><span style=white-space:pre-wrap>TXN   </span></td><td>0.76 (0.66-0.87, p&lt;.001)</td><td><span style=white-space:pre-wrap>0.43 (0.24-0.75, p=.003)   </span></td></tr>\n",
       "\t<tr><td><span style=white-space:pre-wrap>TAF7  </span></td><td>Mean &lt;U+00B1&gt; SD</td><td>22.5 &lt;U+00B1&gt; 7.7</td><td>14.9 &lt;U+00B1&gt; 4.0</td><td><span style=white-space:pre-wrap>TAF7  </span></td><td>0.81 (0.73-0.90, p&lt;.001)</td><td><span style=white-space:pre-wrap>1.28 (0.93-1.77, p=.130)   </span></td></tr>\n",
       "\t<tr><td>SUMO4 </td><td>Mean &lt;U+00B1&gt; SD</td><td>16.7 &lt;U+00B1&gt; 4.9</td><td>11.6 &lt;U+00B1&gt; 3.2</td><td>SUMO4 </td><td>0.66 (0.53-0.81, p&lt;.001)</td><td><span style=white-space:pre-wrap>0.46 (0.27-0.78, p=.004)   </span></td></tr>\n",
       "</tbody>\n",
       "</table>\n"
      ],
      "text/latex": [
       "A autoReg: 6 x 7\n",
       "\\begin{tabular}{lllllll}\n",
       " name & desc & 1 (N=43) & 0 (N=31) & id & OR (univariable) & OR (multivariable)\\\\\n",
       " <chr> & <chr> & <chr> & <chr> & <chr> & <chr> & <chr>\\\\\n",
       "\\hline\n",
       "\t ZNF480 & Mean <U+00B1> SD & 6.2 <U+00B1> 2.4  & 4.2 <U+00B1> 1.1  & ZNF480 & 0.51 (0.35-0.75, p<.001) & 0.44 (0.17-1.12, p=.086)   \\\\\n",
       "\t ZNF208 & Mean <U+00B1> SD & 0.6 <U+00B1> 0.3  & 0.4 <U+00B1> 0.2  & ZNF208 & 0.02 (0.00-0.20, p=.001) & 0.03 (0.00-1.27, p=.066)   \\\\\n",
       "\t XRCC4  & Mean <U+00B1> SD & 3.1 <U+00B1> 1.1  & 2.1 <U+00B1> 0.7  & XRCC4  & 0.26 (0.12-0.54, p<.001) & 17.72 (1.37-228.88, p=.028)\\\\\n",
       "\t TXN    & Mean <U+00B1> SD & 22.1 <U+00B1> 9.0 & 14.2 <U+00B1> 3.6 & TXN    & 0.76 (0.66-0.87, p<.001) & 0.43 (0.24-0.75, p=.003)   \\\\\n",
       "\t TAF7   & Mean <U+00B1> SD & 22.5 <U+00B1> 7.7 & 14.9 <U+00B1> 4.0 & TAF7   & 0.81 (0.73-0.90, p<.001) & 1.28 (0.93-1.77, p=.130)   \\\\\n",
       "\t SUMO4  & Mean <U+00B1> SD & 16.7 <U+00B1> 4.9 & 11.6 <U+00B1> 3.2 & SUMO4  & 0.66 (0.53-0.81, p<.001) & 0.46 (0.27-0.78, p=.004)   \\\\\n",
       "\\end{tabular}\n"
      ],
      "text/markdown": [
       "\n",
       "A autoReg: 6 x 7\n",
       "\n",
       "| name &lt;chr&gt; | desc &lt;chr&gt; | 1 (N=43) &lt;chr&gt; | 0 (N=31) &lt;chr&gt; | id &lt;chr&gt; | OR (univariable) &lt;chr&gt; | OR (multivariable) &lt;chr&gt; |\n",
       "|---|---|---|---|---|---|---|\n",
       "| ZNF480 | Mean &lt;U+00B1&gt; SD | 6.2 &lt;U+00B1&gt; 2.4  | 4.2 &lt;U+00B1&gt; 1.1  | ZNF480 | 0.51 (0.35-0.75, p&lt;.001) | 0.44 (0.17-1.12, p=.086)    |\n",
       "| ZNF208 | Mean &lt;U+00B1&gt; SD | 0.6 &lt;U+00B1&gt; 0.3  | 0.4 &lt;U+00B1&gt; 0.2  | ZNF208 | 0.02 (0.00-0.20, p=.001) | 0.03 (0.00-1.27, p=.066)    |\n",
       "| XRCC4  | Mean &lt;U+00B1&gt; SD | 3.1 &lt;U+00B1&gt; 1.1  | 2.1 &lt;U+00B1&gt; 0.7  | XRCC4  | 0.26 (0.12-0.54, p&lt;.001) | 17.72 (1.37-228.88, p=.028) |\n",
       "| TXN    | Mean &lt;U+00B1&gt; SD | 22.1 &lt;U+00B1&gt; 9.0 | 14.2 &lt;U+00B1&gt; 3.6 | TXN    | 0.76 (0.66-0.87, p&lt;.001) | 0.43 (0.24-0.75, p=.003)    |\n",
       "| TAF7   | Mean &lt;U+00B1&gt; SD | 22.5 &lt;U+00B1&gt; 7.7 | 14.9 &lt;U+00B1&gt; 4.0 | TAF7   | 0.81 (0.73-0.90, p&lt;.001) | 1.28 (0.93-1.77, p=.130)    |\n",
       "| SUMO4  | Mean &lt;U+00B1&gt; SD | 16.7 &lt;U+00B1&gt; 4.9 | 11.6 &lt;U+00B1&gt; 3.2 | SUMO4  | 0.66 (0.53-0.81, p&lt;.001) | 0.46 (0.27-0.78, p=.004)    |\n",
       "\n"
      ],
      "text/plain": [
       "  name   desc             1 (N=43)          0 (N=31)          id    \n",
       "1 ZNF480 Mean <U+00B1> SD 6.2 <U+00B1> 2.4  4.2 <U+00B1> 1.1  ZNF480\n",
       "2 ZNF208 Mean <U+00B1> SD 0.6 <U+00B1> 0.3  0.4 <U+00B1> 0.2  ZNF208\n",
       "3 XRCC4  Mean <U+00B1> SD 3.1 <U+00B1> 1.1  2.1 <U+00B1> 0.7  XRCC4 \n",
       "4 TXN    Mean <U+00B1> SD 22.1 <U+00B1> 9.0 14.2 <U+00B1> 3.6 TXN   \n",
       "5 TAF7   Mean <U+00B1> SD 22.5 <U+00B1> 7.7 14.9 <U+00B1> 4.0 TAF7  \n",
       "6 SUMO4  Mean <U+00B1> SD 16.7 <U+00B1> 4.9 11.6 <U+00B1> 3.2 SUMO4 \n",
       "  OR (univariable)         OR (multivariable)         \n",
       "1 0.51 (0.35-0.75, p<.001) 0.44 (0.17-1.12, p=.086)   \n",
       "2 0.02 (0.00-0.20, p=.001) 0.03 (0.00-1.27, p=.066)   \n",
       "3 0.26 (0.12-0.54, p<.001) 17.72 (1.37-228.88, p=.028)\n",
       "4 0.76 (0.66-0.87, p<.001) 0.43 (0.24-0.75, p=.003)   \n",
       "5 0.81 (0.73-0.90, p<.001) 1.28 (0.93-1.77, p=.130)   \n",
       "6 0.66 (0.53-0.81, p<.001) 0.46 (0.27-0.78, p=.004)   "
      ]
     },
     "metadata": {},
     "output_type": "display_data"
    }
   ],
   "source": [
    "library(\"autoReg\")\n",
    "overall.log =  glm(Group~.,data=data,family=binomial())\n",
    "model3<-autoReg(overall.log,uni=TRUE,milti=TRUE,threshold=0.05)\n",
    "model3"
   ]
  },
  {
   "cell_type": "code",
   "execution_count": 314,
   "id": "07f04bde-28e7-4ff0-963f-b7c97e2c4e53",
   "metadata": {},
   "outputs": [
    {
     "data": {
      "text/html": [
       "<style>\n",
       ".list-inline {list-style: none; margin:0; padding: 0}\n",
       ".list-inline>li {display: inline-block}\n",
       ".list-inline>li:not(:last-child)::after {content: \"\\00b7\"; padding: 0 .5ex}\n",
       "</style>\n",
       "<ol class=list-inline><li>'ZNF480'</li><li>'XRCC4'</li><li>'TXN'</li><li>'TAF7'</li><li>'SUMO4'</li></ol>\n"
      ],
      "text/latex": [
       "\\begin{enumerate*}\n",
       "\\item 'ZNF480'\n",
       "\\item 'XRCC4'\n",
       "\\item 'TXN'\n",
       "\\item 'TAF7'\n",
       "\\item 'SUMO4'\n",
       "\\end{enumerate*}\n"
      ],
      "text/markdown": [
       "1. 'ZNF480'\n",
       "2. 'XRCC4'\n",
       "3. 'TXN'\n",
       "4. 'TAF7'\n",
       "5. 'SUMO4'\n",
       "\n",
       "\n"
      ],
      "text/plain": [
       "[1] \"ZNF480\" \"XRCC4\"  \"TXN\"    \"TAF7\"   \"SUMO4\" "
      ]
     },
     "metadata": {},
     "output_type": "display_data"
    }
   ],
   "source": [
    "b"
   ]
  },
  {
   "cell_type": "code",
   "execution_count": null,
   "id": "ba37cd9e-298d-4927-8f1b-81faac937997",
   "metadata": {},
   "outputs": [],
   "source": []
  },
  {
   "cell_type": "code",
   "execution_count": null,
   "id": "11056b34-603c-447c-b3be-19efb2e72654",
   "metadata": {},
   "outputs": [],
   "source": []
  },
  {
   "cell_type": "code",
   "execution_count": null,
   "id": "fbf33000-dbf0-485b-a435-702f2b0e3ea7",
   "metadata": {},
   "outputs": [],
   "source": []
  },
  {
   "cell_type": "code",
   "execution_count": null,
   "id": "7a446761-0ec8-415e-a9d9-83c39002e202",
   "metadata": {},
   "outputs": [],
   "source": []
  },
  {
   "cell_type": "code",
   "execution_count": null,
   "id": "65d6933f-201b-4fcb-aa77-53497f2942ba",
   "metadata": {},
   "outputs": [],
   "source": []
  },
  {
   "cell_type": "code",
   "execution_count": null,
   "id": "4d375089-6467-46cc-8d9f-f1e5411ab670",
   "metadata": {},
   "outputs": [],
   "source": []
  },
  {
   "cell_type": "code",
   "execution_count": null,
   "id": "72e9cc9d-bc05-44ff-81d4-f1934a763e9e",
   "metadata": {},
   "outputs": [],
   "source": []
  },
  {
   "cell_type": "code",
   "execution_count": null,
   "id": "e55a7ce6-4405-4db0-bd73-79df1ccb13a7",
   "metadata": {},
   "outputs": [],
   "source": []
  },
  {
   "cell_type": "code",
   "execution_count": 247,
   "id": "77c903ef-14c3-4870-be02-aa931289d116",
   "metadata": {},
   "outputs": [
    {
     "data": {
      "text/plain": [
       "Logistic Regression Model\n",
       "\n",
       "lrm(formula = Group ~ AC132872.2 + NEK2 + CCNA2 + SAP130, data = data, \n",
       "    x = T, y = T)\n",
       "\n",
       "                       Model Likelihood     Discrimination    Rank Discrim.    \n",
       "                             Ratio Test            Indexes          Indexes    \n",
       "Obs            85    LR chi2      59.37     R2       0.670    C       0.927    \n",
       " 1             43    d.f.             4     R2(4,85) 0.479    Dxy     0.854    \n",
       " 0             42    Pr(> chi2) <0.0001    R2(4,63.7)0.581    gamma   0.855    \n",
       "max |deriv| 7e-08                           Brier    0.115    tau-a   0.432    \n",
       "\n",
       "           Coef     S.E.   Wald Z Pr(>|Z|)\n",
       "Intercept   15.0083 3.4430  4.36  <0.0001 \n",
       "AC132872.2  -4.0132 1.4002 -2.87  0.0042  \n",
       "NEK2       -13.5900 6.0391 -2.25  0.0244  \n",
       "CCNA2       -2.6275 0.9592 -2.74  0.0062  \n",
       "SAP130      -0.5966 0.1819 -3.28  0.0010  \n"
      ]
     },
     "metadata": {},
     "output_type": "display_data"
    }
   ],
   "source": [
    "library(ROCR)\n",
    "\n",
    "dd<-datadist(data)  #开始打包数据\n",
    "options(datadist=\"dd\")\n",
    "\n",
    "data$Group = as.factor(data$Group)\n",
    "\n",
    "fit1 <- lrm(Group~AC132872.2+NEK2+CCNA2+SAP130 , data=data,x=T,y=T)\n",
    "\n",
    "\n",
    "fit1\n",
    "\n",
    "#  https://blog.csdn.net/Ayue0616/article/details/126601832\n",
    "\n",
    "# cal1 <- calibrate(fit1, method='boot', B=1000) \n",
    "# plot(cal1,xlim=c(0,1.0),ylim=c(0,1.0))\n",
    "\n",
    "### https://blog.51cto.com/u_15172991/5428282  模型图的解释参考链接\n",
    "\n",
    "# https://ayueme.github.io/R_clinical_model/nomogram-essential.html\n",
    "\n",
    "# https://blog.csdn.net/Dr_long1996/article/details/135446784\n",
    "\n",
    "save(fit1,data,file = 'train.fit1.rda')\n",
    "\n",
    "#列线图代码只能在Rstudio话\n",
    "\n",
    "# library('regplot')\n",
    "# regplot(fit1,\n",
    "#         plots = c(\"violin\", \"boxes\"), ##连续性变量形状，可选\"no plot\" \"density\" \"boxes\" \"ecdf\" \"bars\" \"boxplot\" \"violin\" \"bean\" \"spikes\"；分类变量的形状，可选\"no plot\" \"boxes\" \"bars\" \"spikes\"\n",
    "#         observation = data[1,], #用哪行观测，或者T F\n",
    "#         center = T, # 对齐变量\n",
    "#         subticks = T,\n",
    "#         droplines = T,#是否画竖线\n",
    "#         title = \"nomogram\",\n",
    "#         points = T, # 截距项显示为0-100\n",
    "#         odds = T, # 是否显示OR值\n",
    "#         showP = T, # 是否显示变量的显著性标记\n",
    "#         rank = \"sd\", # 根据sd给变量排序\n",
    "#         interval=\"confidence\", # 展示可信区间\n",
    "#         clickable = F # 是否可以交互\n",
    "# )"
   ]
  },
  {
   "cell_type": "code",
   "execution_count": 253,
   "id": "833a8ef3-b418-45ed-9ca4-a023f5d093e6",
   "metadata": {},
   "outputs": [],
   "source": [
    "fit.reduce <- glm(Group~AC132872.2+NEK2+CCNA2+SAP130,data=data,family=binomial())"
   ]
  },
  {
   "cell_type": "code",
   "execution_count": 254,
   "id": "438b368a-07fd-4842-b5d6-7bc2fbbe3dd9",
   "metadata": {},
   "outputs": [
    {
     "name": "stderr",
     "output_type": "stream",
     "text": [
      "Waiting for profiling to be done...\n",
      "\n"
     ]
    }
   ],
   "source": [
    "fit.result<-summary(fit.reduce)\n",
    "df1<-fit.result$coefficients\n",
    "df2<-confint(fit.reduce)\n",
    "df3<-cbind(df1,df2)\n",
    "df4<-data.frame(df3[-1,c(1,4,5,6)])\n",
    "df4$Var<-rownames(df4)\n",
    "colnames(df4)<-c(\"OR\",\"Pvalue\",\"OR_1\",\"OR_2\",\"Var\")\n",
    "df5<-df4[,c(5,1,2,3,4)]\n",
    "df5$OR_mean<-df5$OR\n",
    "df5$OR<-paste0(round(df5$OR,2),\n",
    "               \"(\",\n",
    "               round(df5$OR_1,2),\n",
    "               \"~\",\n",
    "               round(df5$OR_2,2),\n",
    "               \")\")\n",
    "df5$Pvalue<-round(df5$Pvalue,3)\n",
    "write.csv(df5,file = \"forestplot_example.csv\",\n",
    "          quote = F,row.names = F)\n"
   ]
  },
  {
   "cell_type": "code",
   "execution_count": 293,
   "id": "4b6b356d-12c3-418b-bd7e-627a8fc9918f",
   "metadata": {},
   "outputs": [
    {
     "data": {
      "text/html": [
       "<table class=\"dataframe\">\n",
       "<caption>A data.frame: 4 x 6</caption>\n",
       "<thead>\n",
       "\t<tr><th></th><th scope=col>Var</th><th scope=col>OR</th><th scope=col>Pvalue</th><th scope=col>OR_1</th><th scope=col>OR_2</th><th scope=col>OR_mean</th></tr>\n",
       "\t<tr><th></th><th scope=col>&lt;chr&gt;</th><th scope=col>&lt;chr&gt;</th><th scope=col>&lt;dbl&gt;</th><th scope=col>&lt;dbl&gt;</th><th scope=col>&lt;dbl&gt;</th><th scope=col>&lt;dbl&gt;</th></tr>\n",
       "</thead>\n",
       "<tbody>\n",
       "\t<tr><th scope=row>AC132872.2</th><td>AC132872.2</td><td>-4.01(-7.18~-1.59)  </td><td>0.004</td><td> -7.1788921</td><td>-1.5913535</td><td> -4.0131795</td></tr>\n",
       "\t<tr><th scope=row>NEK2</th><td>NEK2      </td><td>-13.59(-26.72~-2.64)</td><td>0.024</td><td>-26.7179089</td><td>-2.6406154</td><td>-13.5899731</td></tr>\n",
       "\t<tr><th scope=row>CCNA2</th><td>CCNA2     </td><td>-2.63(-4.71~-0.92)  </td><td>0.006</td><td> -4.7092999</td><td>-0.9221778</td><td> -2.6275058</td></tr>\n",
       "\t<tr><th scope=row>SAP130</th><td>SAP130    </td><td>-0.6(-1~-0.27)      </td><td>0.001</td><td> -0.9963749</td><td>-0.2713556</td><td> -0.5965813</td></tr>\n",
       "</tbody>\n",
       "</table>\n"
      ],
      "text/latex": [
       "A data.frame: 4 x 6\n",
       "\\begin{tabular}{r|llllll}\n",
       "  & Var & OR & Pvalue & OR\\_1 & OR\\_2 & OR\\_mean\\\\\n",
       "  & <chr> & <chr> & <dbl> & <dbl> & <dbl> & <dbl>\\\\\n",
       "\\hline\n",
       "\tAC132872.2 & AC132872.2 & -4.01(-7.18\\textasciitilde{}-1.59)   & 0.004 &  -7.1788921 & -1.5913535 &  -4.0131795\\\\\n",
       "\tNEK2 & NEK2       & -13.59(-26.72\\textasciitilde{}-2.64) & 0.024 & -26.7179089 & -2.6406154 & -13.5899731\\\\\n",
       "\tCCNA2 & CCNA2      & -2.63(-4.71\\textasciitilde{}-0.92)   & 0.006 &  -4.7092999 & -0.9221778 &  -2.6275058\\\\\n",
       "\tSAP130 & SAP130     & -0.6(-1\\textasciitilde{}-0.27)       & 0.001 &  -0.9963749 & -0.2713556 &  -0.5965813\\\\\n",
       "\\end{tabular}\n"
      ],
      "text/markdown": [
       "\n",
       "A data.frame: 4 x 6\n",
       "\n",
       "| <!--/--> | Var &lt;chr&gt; | OR &lt;chr&gt; | Pvalue &lt;dbl&gt; | OR_1 &lt;dbl&gt; | OR_2 &lt;dbl&gt; | OR_mean &lt;dbl&gt; |\n",
       "|---|---|---|---|---|---|---|\n",
       "| AC132872.2 | AC132872.2 | -4.01(-7.18~-1.59)   | 0.004 |  -7.1788921 | -1.5913535 |  -4.0131795 |\n",
       "| NEK2 | NEK2       | -13.59(-26.72~-2.64) | 0.024 | -26.7179089 | -2.6406154 | -13.5899731 |\n",
       "| CCNA2 | CCNA2      | -2.63(-4.71~-0.92)   | 0.006 |  -4.7092999 | -0.9221778 |  -2.6275058 |\n",
       "| SAP130 | SAP130     | -0.6(-1~-0.27)       | 0.001 |  -0.9963749 | -0.2713556 |  -0.5965813 |\n",
       "\n"
      ],
      "text/plain": [
       "           Var        OR                   Pvalue OR_1        OR_2      \n",
       "AC132872.2 AC132872.2 -4.01(-7.18~-1.59)   0.004   -7.1788921 -1.5913535\n",
       "NEK2       NEK2       -13.59(-26.72~-2.64) 0.024  -26.7179089 -2.6406154\n",
       "CCNA2      CCNA2      -2.63(-4.71~-0.92)   0.006   -4.7092999 -0.9221778\n",
       "SAP130     SAP130     -0.6(-1~-0.27)       0.001   -0.9963749 -0.2713556\n",
       "           OR_mean    \n",
       "AC132872.2  -4.0131795\n",
       "NEK2       -13.5899731\n",
       "CCNA2       -2.6275058\n",
       "SAP130      -0.5965813"
      ]
     },
     "metadata": {},
     "output_type": "display_data"
    }
   ],
   "source": [
    "df5"
   ]
  },
  {
   "cell_type": "code",
   "execution_count": 255,
   "id": "8a3879e3-4ee8-4665-ba7a-3aecd5eeaa60",
   "metadata": {},
   "outputs": [
    {
     "data": {
      "image/png": "[encoded data removed]",
      "text/plain": [
       "plot without title"
      ]
     },
     "metadata": {
      "image/png": {
       "height": 420,
       "width": 240
      }
     },
     "output_type": "display_data"
    }
   ],
   "source": [
    "\n",
    "library(forestplot)\n",
    "fp<-read.csv(\"forestplot_example.csv\",header=T)\n",
    "\n",
    "forestplot(labeltext=as.matrix(fp[,1:3]),\n",
    "           mean=fp$OR_mean,\n",
    "           lower=fp$OR_1,\n",
    "           upper=fp$OR_2,\n",
    "           zero=0,\n",
    "           boxsize=0.2,\n",
    "           graph.pos=2)"
   ]
  },
  {
   "cell_type": "code",
   "execution_count": null,
   "id": "53c35a64-c7b5-4966-979b-b7ce9352c0ba",
   "metadata": {},
   "outputs": [],
   "source": []
  },
  {
   "cell_type": "code",
   "execution_count": null,
   "id": "3bd95c7b-e714-46c3-8c85-772eeb307e6e",
   "metadata": {},
   "outputs": [],
   "source": []
  },
  {
   "cell_type": "code",
   "execution_count": null,
   "id": "9daf61fb-464b-40c1-8f32-edcbd5c17ae0",
   "metadata": {},
   "outputs": [],
   "source": []
  },
  {
   "cell_type": "code",
   "execution_count": null,
   "id": "2f753cde-10b5-4330-9539-d08e6bb23d92",
   "metadata": {},
   "outputs": [],
   "source": []
  },
  {
   "cell_type": "code",
   "execution_count": null,
   "id": "312b88b1-327d-49ea-8415-dce0b4ed037c",
   "metadata": {},
   "outputs": [],
   "source": []
  },
  {
   "cell_type": "code",
   "execution_count": null,
   "id": "1534d144-fe50-4624-90e6-44b89a0fdabe",
   "metadata": {},
   "outputs": [],
   "source": [
    "# forestplot(labeltext=as.matrix(fp[,1:3]),\n",
    "#            mean=fp$OR_mean,\n",
    "#            lower=fp$OR_1,\n",
    "#            upper=fp$OR_2,\n",
    "#            zero=0,\n",
    "#            boxsize=0.2,\n",
    "#            lineheight = unit(7,'mm'),\n",
    "#            colgap=unit(2,'mm'),\n",
    "#            lwd.zero=1.5,\n",
    "#            lwd.ci=2, \n",
    "#            col=fpColors(box='#458B00',\n",
    "#                         summary='#8B008B',\n",
    "#                         lines = 'black',\n",
    "#                         zero = '#7AC5CD'),\n",
    "#            xlab=\"OR\",\n",
    "#            lwd.xaxis =1,\n",
    "#            txt_gp = fpTxtGp(ticks = gpar(cex = 0.85),\n",
    "#                             xlab  = gpar(cex = 0.8),\n",
    "#                             cex = 0.9),\n",
    "#            lty.ci = \"solid\",\n",
    "#            title = \"Forestplot\", \n",
    "#            line.margin = 0.08,\n",
    "#            graph.pos=2)\n"
   ]
  },
  {
   "cell_type": "code",
   "execution_count": null,
   "id": "67b485bc-1ab2-4b04-b277-7178b99f35af",
   "metadata": {},
   "outputs": [],
   "source": []
  },
  {
   "cell_type": "code",
   "execution_count": null,
   "id": "c24600cc-ddff-4e36-b048-4aae9160d881",
   "metadata": {},
   "outputs": [],
   "source": [
    "#nmfinput= data[MDD,c('MYRF','IGHJ3P','RBMS1P1','CTD.2114J12.1')] %>%  t() %>%  as.data.frame()"
   ]
  },
  {
   "cell_type": "code",
   "execution_count": null,
   "id": "f576297c-7a98-4a5f-a443-bbb40d1cdff2",
   "metadata": {},
   "outputs": [],
   "source": [
    "library(NMF)"
   ]
  },
  {
   "cell_type": "code",
   "execution_count": null,
   "id": "8abe8ad0-c06b-4f5d-b19e-7351ff702cbc",
   "metadata": {},
   "outputs": [],
   "source": [
    "ranks <- 1:10\n",
    "estim.coad <- nmf(nmfinput,ranks, nrun=10)\n",
    "duplicated(colnames(nmfinput))"
   ]
  },
  {
   "cell_type": "code",
   "execution_count": null,
   "id": "19e1f905-8025-4076-bce0-2f6384742470",
   "metadata": {},
   "outputs": [],
   "source": [
    "plot(estim.coad)"
   ]
  },
  {
   "cell_type": "code",
   "execution_count": null,
   "id": "59f112a2-2d2a-4d61-b7e4-58efd28dc0ab",
   "metadata": {},
   "outputs": [],
   "source": [
    "seed = 2020820\n",
    "nmf.rank4 <- nmf(nmfinput, \n",
    "                 rank = 2, \n",
    "                 nrun=50,\n",
    "                 seed = seed, \n",
    "                 method = \"brunet\")"
   ]
  },
  {
   "cell_type": "code",
   "execution_count": null,
   "id": "dbecbd9e-5945-42d5-ac07-ed772ffe82e1",
   "metadata": {},
   "outputs": [],
   "source": [
    "jco <- c(\"#EABF00\",\"#C6524A\",\"#868686\")\n",
    "index <- extractFeatures(nmf.rank4,\"max\") \n",
    "sig.order <- unlist(index)\n",
    "NMF.Exp.rank4 <- nmfinput[sig.order,]\n",
    "NMF.Exp.rank4 <- na.omit(NMF.Exp.rank4) #sig.order有时候会有缺失值\n",
    "group <- predict(nmf.rank4) # 提出亚型\n",
    "table(group)\n",
    "consensusmap(nmf.rank4,\n",
    "             labRow = NA,\n",
    "             labCol = NA,\n",
    "             annCol = data.frame(\"cluster\"=group[colnames(NMF.Exp.rank4)]),\n",
    "             annColors = list(cluster=c(\"1\"=jco[1],\"2\"=jco[2])))"
   ]
  },
  {
   "cell_type": "code",
   "execution_count": null,
   "id": "bb805b8f-75f3-456f-9689-4681b6f14ce6",
   "metadata": {},
   "outputs": [],
   "source": [
    "library(tinyarray)"
   ]
  },
  {
   "cell_type": "code",
   "execution_count": null,
   "id": "94deac7d-25ab-4f03-9f46-393ee04a3960",
   "metadata": {},
   "outputs": [],
   "source": [
    "data1 = data[MDD,-1] %>%  t() %>% as.data.frame()"
   ]
  },
  {
   "cell_type": "code",
   "execution_count": null,
   "id": "e555b038-8ded-4eb3-9729-5d28a59ed485",
   "metadata": {},
   "outputs": [],
   "source": [
    "a = data1[,colnames(nmfinput)]"
   ]
  },
  {
   "cell_type": "code",
   "execution_count": null,
   "id": "1289c087-2598-4b2a-a5c2-34fb97887393",
   "metadata": {},
   "outputs": [],
   "source": [
    "cg=names(tail(sort(apply(a,1,sd)),12000))\n",
    "n=a[cg,]"
   ]
  },
  {
   "cell_type": "code",
   "execution_count": null,
   "id": "c20ca154-bfab-4ccf-86e3-6d86555ce135",
   "metadata": {},
   "outputs": [],
   "source": []
  },
  {
   "cell_type": "code",
   "execution_count": null,
   "id": "61031c5d-188e-462e-bad2-b1a219712c58",
   "metadata": {},
   "outputs": [],
   "source": [
    "draw_pca(n,group)"
   ]
  },
  {
   "cell_type": "code",
   "execution_count": null,
   "id": "3c8e48af-8ca5-4c26-bb06-6ae9233aa50d",
   "metadata": {},
   "outputs": [],
   "source": [
    "library(Rtsne)\n",
    "tsne_out = Rtsne(t(n),perplexity = 1)\n",
    "pdat = data.frame(tsne_out$Y,factor(group))\n",
    "colnames(pdat) = c(\"Y1\",\"Y2\",\"group\")\n",
    "head(pdat)"
   ]
  },
  {
   "cell_type": "code",
   "execution_count": null,
   "id": "d1e5d52b-144d-47f5-837d-ed4cb8d867da",
   "metadata": {},
   "outputs": [],
   "source": [
    "pdat1 = pdat %>% tibble::rownames_to_column(.,'sample')"
   ]
  },
  {
   "cell_type": "code",
   "execution_count": null,
   "id": "329bd6a2-8afc-4a6b-b96b-8d97826efc04",
   "metadata": {},
   "outputs": [],
   "source": [
    "bulk2.group = pdat1[,c(1,4)]\n",
    "write.csv(bulk2.group,file = 'bulk2.group.csv',row.names =F)"
   ]
  },
  {
   "cell_type": "code",
   "execution_count": null,
   "id": "d8dd452f-9e3f-46d2-a6fe-1ef50822adbd",
   "metadata": {},
   "outputs": [],
   "source": [
    "dim(bulk2.group)"
   ]
  },
  {
   "cell_type": "code",
   "execution_count": null,
   "id": "3d85694e-4d1e-4680-9cf4-4bfbbcb09fb4",
   "metadata": {},
   "outputs": [],
   "source": []
  },
  {
   "cell_type": "code",
   "execution_count": null,
   "id": "afc98685-184c-49c2-aa88-bc76e5597a7b",
   "metadata": {},
   "outputs": [],
   "source": []
  },
  {
   "cell_type": "code",
   "execution_count": null,
   "id": "58f83bfe-bb76-45c2-87ac-ab028296ad94",
   "metadata": {},
   "outputs": [],
   "source": [
    "library(ggplot2)\n",
    "library(paletteer)\n",
    "ggplot(pdat,aes(Y1,Y2))+\n",
    "  geom_point(aes(Y1,Y2,fill = group),shape = 21,color = \"black\")+\n",
    "  stat_ellipse(aes(color = group,fill = group),\n",
    "               geom = \"polygon\",\n",
    "               alpha = 0.3,\n",
    "               linetype = 2)+\n",
    "  scale_color_paletteer_d(\"RColorBrewer::Set2\")+\n",
    "  scale_fill_paletteer_d(\"RColorBrewer::Set2\")+\n",
    "  theme_classic()+\n",
    "  theme(legend.position = \"top\")"
   ]
  },
  {
   "cell_type": "code",
   "execution_count": 101,
   "id": "fb552aa5-2ded-45f2-944b-a2eb5a3cfa7f",
   "metadata": {},
   "outputs": [],
   "source": [
    "expr3$Group = ifelse(expr3$Group == 'CI',1,0)"
   ]
  },
  {
   "cell_type": "code",
   "execution_count": 119,
   "id": "f8456613-74c0-407c-9c6b-26afcb0731c1",
   "metadata": {},
   "outputs": [],
   "source": [
    "data = expr3"
   ]
  },
  {
   "cell_type": "code",
   "execution_count": null,
   "id": "82a4e344-3312-42e7-ac99-9882266ebf53",
   "metadata": {},
   "outputs": [],
   "source": [
    "gene = RNF208   PLXNB3  ITGA2B"
   ]
  },
  {
   "cell_type": "code",
   "execution_count": null,
   "id": "de756c88-fa81-421e-9ef0-74ab9508a049",
   "metadata": {},
   "outputs": [],
   "source": []
  },
  {
   "cell_type": "code",
   "execution_count": 140,
   "id": "1eb41f2a-e15a-4f29-91a8-0c25a19f6245",
   "metadata": {},
   "outputs": [
    {
     "name": "stderr",
     "output_type": "stream",
     "text": [
      "Setting levels: control = 0, case = 1\n",
      "\n",
      "Setting direction: controls < cases\n",
      "\n",
      "Setting levels: control = 0, case = 1\n",
      "\n",
      "Setting direction: controls < cases\n",
      "\n",
      "Setting levels: control = 0, case = 1\n",
      "\n",
      "Setting direction: controls < cases\n",
      "\n",
      "Setting levels: control = 0, case = 1\n",
      "\n",
      "Setting direction: controls < cases\n",
      "\n",
      "Setting levels: control = 0, case = 1\n",
      "\n",
      "Setting direction: controls < cases\n",
      "\n"
     ]
    },
    {
     "data": {
      "text/html": [
       "0.824820654876057"
      ],
      "text/latex": [
       "0.824820654876057"
      ],
      "text/markdown": [
       "0.824820654876057"
      ],
      "text/plain": [
       "[1] 0.8248207"
      ]
     },
     "metadata": {},
     "output_type": "display_data"
    }
   ],
   "source": [
    "set.seed(21)\n",
    "#单纯10折交叉验证，time=1\n",
    "folds <-createMultiFolds(y=data$Group,k=10,times=5)\n",
    "#10次批量训练与验证\n",
    "#做成循环\n",
    "auc_value<-as.numeric()\n",
    "for(i in 1:5){\n",
    "  train<- data[ folds[[i]],] \n",
    "  test <- data[-folds[[i]],] \n",
    "  model<-glm(Group~RNF208,data=train,family=binomial())  #TNFSF14+CCNA2+MARCKS+SGOL1+SAP130\n",
    "    \n",
    "  model_pre<-predict(model,type='response', newdata=train)\n",
    "    \n",
    "  auc_value<- append(auc_value,\n",
    "                     as.numeric(pROC::auc(as.numeric(train[,1]),model_pre)))\n",
    "}\n",
    "mean(auc_value)"
   ]
  },
  {
   "cell_type": "code",
   "execution_count": 142,
   "id": "230e4fe5-faa1-4c9b-bf60-f7426f94fb67",
   "metadata": {},
   "outputs": [
    {
     "data": {
      "text/html": [
       "<style>\n",
       ".list-inline {list-style: none; margin:0; padding: 0}\n",
       ".list-inline>li {display: inline-block}\n",
       ".list-inline>li:not(:last-child)::after {content: \"\\00b7\"; padding: 0 .5ex}\n",
       "</style>\n",
       "<ol class=list-inline><li>0.82617728531856</li><li>0.804016620498615</li><li>0.833102493074792</li><li>0.836707152496626</li><li>0.82409972299169</li></ol>\n"
      ],
      "text/latex": [
       "\\begin{enumerate*}\n",
       "\\item 0.82617728531856\n",
       "\\item 0.804016620498615\n",
       "\\item 0.833102493074792\n",
       "\\item 0.836707152496626\n",
       "\\item 0.82409972299169\n",
       "\\end{enumerate*}\n"
      ],
      "text/markdown": [
       "1. 0.82617728531856\n",
       "2. 0.804016620498615\n",
       "3. 0.833102493074792\n",
       "4. 0.836707152496626\n",
       "5. 0.82409972299169\n",
       "\n",
       "\n"
      ],
      "text/plain": [
       "[1] 0.8261773 0.8040166 0.8331025 0.8367072 0.8240997"
      ]
     },
     "metadata": {},
     "output_type": "display_data"
    }
   ],
   "source": [
    "auc_value"
   ]
  },
  {
   "cell_type": "code",
   "execution_count": 143,
   "id": "04b0fdda-b748-425e-b2d9-261a88f6a959",
   "metadata": {},
   "outputs": [
    {
     "name": "stdout",
     "output_type": "stream",
     "text": [
      "[1] 4\n"
     ]
    }
   ],
   "source": [
    "num <- which.max(auc_value)\n",
    "print(num)"
   ]
  },
  {
   "cell_type": "code",
   "execution_count": 146,
   "id": "75dfcaab-a463-4721-9f2a-d6c037654745",
   "metadata": {},
   "outputs": [],
   "source": [
    "fold_train <- data[folds[[num]],]   \n",
    "fold_test <- data[-folds[[num]],]\n",
    "\n",
    "fold_pre <- glm(Group~RNF208,data=fold_train,family=binomial())\n",
    "\n",
    "fold_predict <- predict(fold_pre,type='response',newdata=fold_test)\n",
    "\n",
    "options(repr.plot.width = 6)"
   ]
  },
  {
   "cell_type": "code",
   "execution_count": 147,
   "id": "1db8ca56-efa6-4c7a-8048-dbcb3d9392fd",
   "metadata": {},
   "outputs": [
    {
     "name": "stderr",
     "output_type": "stream",
     "text": [
      "Setting levels: control = 0, case = 1\n",
      "\n",
      "Setting direction: controls < cases\n",
      "\n"
     ]
    },
    {
     "data": {
      "image/png": "[encoded data removed]",
      "text/plain": [
       "Plot with title \"\""
      ]
     },
     "metadata": {
      "image/png": {
       "height": 420,
       "width": 360
      }
     },
     "output_type": "display_data"
    }
   ],
   "source": [
    "roc_curve <- pROC::roc(as.numeric(fold_test$Group),fold_predict)\n",
    "plot(roc_curve, print.auc=TRUE, auc.polygon=TRUE, grid=c(0.1, 0.2),\n",
    "     grid.col=c(\"green\", \"red\"), max.auc.polygon=TRUE,\n",
    "     auc.polygon.col=\"skyblue\", print.thres=TRUE,main=\"\")"
   ]
  },
  {
   "cell_type": "code",
   "execution_count": 150,
   "id": "eec624e6-c853-4885-8af9-e2fdc8dae9ee",
   "metadata": {},
   "outputs": [],
   "source": [
    "fold_pre <- glm(Group~PLXNB3,data=data,family=binomial())\n",
    "\n",
    "fold_predict <- predict(fold_pre,type='response',newdata=data)\n",
    "\n",
    "options(repr.plot.width = 6)"
   ]
  },
  {
   "cell_type": "code",
   "execution_count": 151,
   "id": "7046112b-05ca-4c93-b933-1b6e24080439",
   "metadata": {},
   "outputs": [
    {
     "name": "stderr",
     "output_type": "stream",
     "text": [
      "Setting levels: control = 0, case = 1\n",
      "\n",
      "Setting direction: controls < cases\n",
      "\n"
     ]
    },
    {
     "data": {
      "image/png": "[encoded data removed]",
      "text/plain": [
       "Plot with title \"\""
      ]
     },
     "metadata": {
      "image/png": {
       "height": 420,
       "width": 360
      }
     },
     "output_type": "display_data"
    }
   ],
   "source": [
    "roc_curve <- pROC::roc(as.numeric(data$Group),fold_predict)\n",
    "plot(roc_curve, print.auc=TRUE, auc.polygon=TRUE, grid=c(0.1, 0.2),\n",
    "     grid.col=c(\"green\", \"red\"), max.auc.polygon=TRUE,\n",
    "     auc.polygon.col=\"skyblue\", print.thres=TRUE,main=\"\")"
   ]
  },
  {
   "cell_type": "code",
   "execution_count": null,
   "id": "98a35cef-9e4d-4664-b9de-1c322c72661b",
   "metadata": {},
   "outputs": [],
   "source": []
  },
  {
   "cell_type": "code",
   "execution_count": null,
   "id": "26466b41-ddc5-406d-b159-1cf0863dea44",
   "metadata": {},
   "outputs": [],
   "source": []
  },
  {
   "cell_type": "code",
   "execution_count": null,
   "id": "505ff528-28c6-4205-87eb-42fa88fb7dfb",
   "metadata": {},
   "outputs": [],
   "source": []
  },
  {
   "cell_type": "code",
   "execution_count": null,
   "id": "e8b166c7-06a2-42ff-a86c-fe6009b2ea96",
   "metadata": {},
   "outputs": [],
   "source": []
  },
  {
   "cell_type": "code",
   "execution_count": null,
   "id": "400eaaaa-fbf3-4d85-ab10-d0dc6261cce3",
   "metadata": {},
   "outputs": [],
   "source": []
  },
  {
   "cell_type": "code",
   "execution_count": null,
   "id": "4a63a2f9-4366-4f3c-a277-27aeb6c71b2c",
   "metadata": {},
   "outputs": [],
   "source": []
  },
  {
   "cell_type": "code",
   "execution_count": null,
   "id": "c3d8f960-3a32-404d-a8d9-f5fafa6f6137",
   "metadata": {},
   "outputs": [],
   "source": []
  },
  {
   "cell_type": "code",
   "execution_count": null,
   "id": "fc17a51e-07f5-487c-b25e-0befc8a7a4c1",
   "metadata": {},
   "outputs": [],
   "source": []
  },
  {
   "cell_type": "code",
   "execution_count": null,
   "id": "c0c770f1-20e9-4c4f-b6a3-60e8c97c3c58",
   "metadata": {},
   "outputs": [],
   "source": []
  },
  {
   "cell_type": "code",
   "execution_count": null,
   "id": "e19eeb2b-9dcf-4889-aa1f-c53b44915cbd",
   "metadata": {},
   "outputs": [],
   "source": []
  },
  {
   "cell_type": "code",
   "execution_count": null,
   "id": "ed7f52b2-a52e-4e9b-a1fb-929fb3ab8b60",
   "metadata": {},
   "outputs": [],
   "source": []
  },
  {
   "cell_type": "code",
   "execution_count": null,
   "id": "f7960de0-2c9c-41b8-ad01-7e5c3cdc54fd",
   "metadata": {},
   "outputs": [],
   "source": []
  }
 ],
 "metadata": {
  "kernelspec": {
   "display_name": "R",
   "language": "R",
   "name": "ir"
  },
  "language_info": {
   "codemirror_mode": "r",
   "file_extension": ".r",
   "mimetype": "text/x-r-source",
   "name": "R",
   "pygments_lexer": "r",
   "version": "4.2.1"
  }
 },
 "nbformat": 4,
 "nbformat_minor": 5
}
