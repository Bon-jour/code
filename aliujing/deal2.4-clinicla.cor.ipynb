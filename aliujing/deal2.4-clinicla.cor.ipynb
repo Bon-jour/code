{
 "cells": [
  {
   "cell_type": "markdown",
   "id": "7cc9fa78-4fa1-46ab-91a7-084c2d8f747d",
   "metadata": {},
   "source": [
    "### sample 74"
   ]
  },
  {
   "cell_type": "code",
   "execution_count": 2,
   "id": "8dec70ac-86fc-45ea-812e-a1993d9ecc6b",
   "metadata": {},
   "outputs": [],
   "source": [
    "setwd('/import/liujing/data2/')"
   ]
  },
  {
   "cell_type": "code",
   "execution_count": 3,
   "id": "255be252-22d1-4d7d-9caf-05ba958bd14b",
   "metadata": {},
   "outputs": [],
   "source": [
    "load('sample74.model.gene.rda')"
   ]
  },
  {
   "cell_type": "code",
   "execution_count": 4,
   "id": "1a363d8f-c74c-4f6f-9cbf-945b15255144",
   "metadata": {},
   "outputs": [
    {
     "data": {
      "text/html": [
       "<table class=\"dataframe\">\n",
       "<caption>A data.frame: 2 x 5</caption>\n",
       "<thead>\n",
       "\t<tr><th></th><th scope=col>sample</th><th scope=col>FAM200B</th><th scope=col>BCL2A1</th><th scope=col>IGJ</th><th scope=col>TXN</th></tr>\n",
       "\t<tr><th></th><th scope=col>&lt;chr&gt;</th><th scope=col>&lt;dbl&gt;</th><th scope=col>&lt;dbl&gt;</th><th scope=col>&lt;dbl&gt;</th><th scope=col>&lt;dbl&gt;</th></tr>\n",
       "</thead>\n",
       "<tbody>\n",
       "\t<tr><th scope=row>1</th><td>C10</td><td>4.886505</td><td>22.32717</td><td>21.40125</td><td> 7.655688</td></tr>\n",
       "\t<tr><th scope=row>2</th><td>C11</td><td>6.201921</td><td>32.12134</td><td>21.30293</td><td>17.794071</td></tr>\n",
       "</tbody>\n",
       "</table>\n"
      ],
      "text/latex": [
       "A data.frame: 2 x 5\n",
       "\\begin{tabular}{r|lllll}\n",
       "  & sample & FAM200B & BCL2A1 & IGJ & TXN\\\\\n",
       "  & <chr> & <dbl> & <dbl> & <dbl> & <dbl>\\\\\n",
       "\\hline\n",
       "\t1 & C10 & 4.886505 & 22.32717 & 21.40125 &  7.655688\\\\\n",
       "\t2 & C11 & 6.201921 & 32.12134 & 21.30293 & 17.794071\\\\\n",
       "\\end{tabular}\n"
      ],
      "text/markdown": [
       "\n",
       "A data.frame: 2 x 5\n",
       "\n",
       "| <!--/--> | sample &lt;chr&gt; | FAM200B &lt;dbl&gt; | BCL2A1 &lt;dbl&gt; | IGJ &lt;dbl&gt; | TXN &lt;dbl&gt; |\n",
       "|---|---|---|---|---|---|\n",
       "| 1 | C10 | 4.886505 | 22.32717 | 21.40125 |  7.655688 |\n",
       "| 2 | C11 | 6.201921 | 32.12134 | 21.30293 | 17.794071 |\n",
       "\n"
      ],
      "text/plain": [
       "  sample FAM200B  BCL2A1   IGJ      TXN      \n",
       "1 C10    4.886505 22.32717 21.40125  7.655688\n",
       "2 C11    6.201921 32.12134 21.30293 17.794071"
      ]
     },
     "metadata": {},
     "output_type": "display_data"
    }
   ],
   "source": [
    "head(da2,2)"
   ]
  },
  {
   "cell_type": "code",
   "execution_count": 5,
   "id": "010def02-66e4-4c8e-ab34-e29d6fac6056",
   "metadata": {},
   "outputs": [],
   "source": [
    "cli74 = read.table('./sample74.cli.txt',header =T,sep = '\\t')"
   ]
  },
  {
   "cell_type": "code",
   "execution_count": 6,
   "id": "2e7f1275-2e3e-4985-9f7e-03ba977b05b5",
   "metadata": {},
   "outputs": [
    {
     "data": {
      "text/html": [
       "<table class=\"dataframe\">\n",
       "<caption>A data.frame: 2 x 25</caption>\n",
       "<thead>\n",
       "\t<tr><th></th><th scope=col>group</th><th scope=col>sample</th><th scope=col>gender</th><th scope=col>age</th><th scope=col>BMI</th><th scope=col>Hb</th><th scope=col>RBC</th><th scope=col>WBC</th><th scope=col>PLT</th><th scope=col>ALT</th><th scope=col>...</th><th scope=col>UA</th><th scope=col>GLU</th><th scope=col>TG</th><th scope=col>TC</th><th scope=col>HDL.c</th><th scope=col>LDL.C</th><th scope=col>ApoA</th><th scope=col>ApoB</th><th scope=col>LP</th><th scope=col>HCY</th></tr>\n",
       "\t<tr><th></th><th scope=col>&lt;chr&gt;</th><th scope=col>&lt;chr&gt;</th><th scope=col>&lt;int&gt;</th><th scope=col>&lt;int&gt;</th><th scope=col>&lt;dbl&gt;</th><th scope=col>&lt;int&gt;</th><th scope=col>&lt;dbl&gt;</th><th scope=col>&lt;dbl&gt;</th><th scope=col>&lt;int&gt;</th><th scope=col>&lt;dbl&gt;</th><th scope=col>...</th><th scope=col>&lt;int&gt;</th><th scope=col>&lt;dbl&gt;</th><th scope=col>&lt;dbl&gt;</th><th scope=col>&lt;dbl&gt;</th><th scope=col>&lt;dbl&gt;</th><th scope=col>&lt;dbl&gt;</th><th scope=col>&lt;dbl&gt;</th><th scope=col>&lt;dbl&gt;</th><th scope=col>&lt;lgl&gt;</th><th scope=col>&lt;dbl&gt;</th></tr>\n",
       "</thead>\n",
       "<tbody>\n",
       "\t<tr><th scope=row>1</th><td>CI</td><td>CI2</td><td>1</td><td>52</td><td>43.02772</td><td>164</td><td>5.16</td><td>6.79</td><td>281</td><td> 63.6</td><td>...</td><td>226</td><td>4.9</td><td>2.2</td><td>4.59</td><td>1.52</td><td>1.98</td><td>1.55</td><td>0.70</td><td>NA</td><td>11.4</td></tr>\n",
       "\t<tr><th scope=row>2</th><td>CI</td><td>CI3</td><td>1</td><td>61</td><td>51.90311</td><td> NA</td><td>  NA</td><td>  NA</td><td> NA</td><td>123.6</td><td>...</td><td>264</td><td>4.3</td><td>1.0</td><td>3.57</td><td>0.90</td><td>1.80</td><td>0.98</td><td>0.62</td><td>NA</td><td>14.7</td></tr>\n",
       "</tbody>\n",
       "</table>\n"
      ],
      "text/latex": [
       "A data.frame: 2 x 25\n",
       "\\begin{tabular}{r|lllllllllllllllllllll}\n",
       "  & group & sample & gender & age & BMI & Hb & RBC & WBC & PLT & ALT & ... & UA & GLU & TG & TC & HDL.c & LDL.C & ApoA & ApoB & LP & HCY\\\\\n",
       "  & <chr> & <chr> & <int> & <int> & <dbl> & <int> & <dbl> & <dbl> & <int> & <dbl> & ... & <int> & <dbl> & <dbl> & <dbl> & <dbl> & <dbl> & <dbl> & <dbl> & <lgl> & <dbl>\\\\\n",
       "\\hline\n",
       "\t1 & CI & CI2 & 1 & 52 & 43.02772 & 164 & 5.16 & 6.79 & 281 &  63.6 & ... & 226 & 4.9 & 2.2 & 4.59 & 1.52 & 1.98 & 1.55 & 0.70 & NA & 11.4\\\\\n",
       "\t2 & CI & CI3 & 1 & 61 & 51.90311 &  NA &   NA &   NA &  NA & 123.6 & ... & 264 & 4.3 & 1.0 & 3.57 & 0.90 & 1.80 & 0.98 & 0.62 & NA & 14.7\\\\\n",
       "\\end{tabular}\n"
      ],
      "text/markdown": [
       "\n",
       "A data.frame: 2 x 25\n",
       "\n",
       "| <!--/--> | group &lt;chr&gt; | sample &lt;chr&gt; | gender &lt;int&gt; | age &lt;int&gt; | BMI &lt;dbl&gt; | Hb &lt;int&gt; | RBC &lt;dbl&gt; | WBC &lt;dbl&gt; | PLT &lt;int&gt; | ALT &lt;dbl&gt; | ... ... | UA &lt;int&gt; | GLU &lt;dbl&gt; | TG &lt;dbl&gt; | TC &lt;dbl&gt; | HDL.c &lt;dbl&gt; | LDL.C &lt;dbl&gt; | ApoA &lt;dbl&gt; | ApoB &lt;dbl&gt; | LP &lt;lgl&gt; | HCY &lt;dbl&gt; |\n",
       "|---|---|---|---|---|---|---|---|---|---|---|---|---|---|---|---|---|---|---|---|---|---|\n",
       "| 1 | CI | CI2 | 1 | 52 | 43.02772 | 164 | 5.16 | 6.79 | 281 |  63.6 | ... | 226 | 4.9 | 2.2 | 4.59 | 1.52 | 1.98 | 1.55 | 0.70 | NA | 11.4 |\n",
       "| 2 | CI | CI3 | 1 | 61 | 51.90311 |  NA |   NA |   NA |  NA | 123.6 | ... | 264 | 4.3 | 1.0 | 3.57 | 0.90 | 1.80 | 0.98 | 0.62 | NA | 14.7 |\n",
       "\n"
      ],
      "text/plain": [
       "  group sample gender age BMI      Hb  RBC  WBC  PLT ALT   ... UA  GLU TG  TC  \n",
       "1 CI    CI2    1      52  43.02772 164 5.16 6.79 281  63.6 ... 226 4.9 2.2 4.59\n",
       "2 CI    CI3    1      61  51.90311  NA   NA   NA  NA 123.6 ... 264 4.3 1.0 3.57\n",
       "  HDL.c LDL.C ApoA ApoB LP HCY \n",
       "1 1.52  1.98  1.55 0.70 NA 11.4\n",
       "2 0.90  1.80  0.98 0.62 NA 14.7"
      ]
     },
     "metadata": {},
     "output_type": "display_data"
    }
   ],
   "source": [
    "head(cli74,2)"
   ]
  },
  {
   "cell_type": "code",
   "execution_count": 7,
   "id": "8d6e7a09-8114-426a-8871-1ea49bbf78fa",
   "metadata": {},
   "outputs": [],
   "source": [
    "input = merge(da2,cli74,by.x= 'sample',by.y = 'sample')"
   ]
  },
  {
   "cell_type": "code",
   "execution_count": 8,
   "id": "db92b1b1-261c-4a26-a1a8-998a5ae2f18b",
   "metadata": {},
   "outputs": [
    {
     "data": {
      "text/html": [
       "<table class=\"dataframe\">\n",
       "<caption>A data.frame: 2 x 29</caption>\n",
       "<thead>\n",
       "\t<tr><th></th><th scope=col>sample</th><th scope=col>FAM200B</th><th scope=col>BCL2A1</th><th scope=col>IGJ</th><th scope=col>TXN</th><th scope=col>group</th><th scope=col>gender</th><th scope=col>age</th><th scope=col>BMI</th><th scope=col>Hb</th><th scope=col>...</th><th scope=col>UA</th><th scope=col>GLU</th><th scope=col>TG</th><th scope=col>TC</th><th scope=col>HDL.c</th><th scope=col>LDL.C</th><th scope=col>ApoA</th><th scope=col>ApoB</th><th scope=col>LP</th><th scope=col>HCY</th></tr>\n",
       "\t<tr><th></th><th scope=col>&lt;chr&gt;</th><th scope=col>&lt;dbl&gt;</th><th scope=col>&lt;dbl&gt;</th><th scope=col>&lt;dbl&gt;</th><th scope=col>&lt;dbl&gt;</th><th scope=col>&lt;chr&gt;</th><th scope=col>&lt;int&gt;</th><th scope=col>&lt;int&gt;</th><th scope=col>&lt;dbl&gt;</th><th scope=col>&lt;int&gt;</th><th scope=col>...</th><th scope=col>&lt;int&gt;</th><th scope=col>&lt;dbl&gt;</th><th scope=col>&lt;dbl&gt;</th><th scope=col>&lt;dbl&gt;</th><th scope=col>&lt;dbl&gt;</th><th scope=col>&lt;dbl&gt;</th><th scope=col>&lt;dbl&gt;</th><th scope=col>&lt;dbl&gt;</th><th scope=col>&lt;lgl&gt;</th><th scope=col>&lt;dbl&gt;</th></tr>\n",
       "</thead>\n",
       "<tbody>\n",
       "\t<tr><th scope=row>1</th><td>C1 </td><td>5.615827</td><td>28.66226</td><td>37.85341</td><td>10.132857</td><td>CTR</td><td>1</td><td>54</td><td>21.45329</td><td>186</td><td>...</td><td>315</td><td>5.0</td><td>1.1</td><td>3.84</td><td>1.37</td><td>1.88</td><td>1.38</td><td>0.67</td><td>NA</td><td>18.1</td></tr>\n",
       "\t<tr><th scope=row>2</th><td>C10</td><td>4.886505</td><td>22.32717</td><td>21.40125</td><td> 7.655688</td><td>CTR</td><td>1</td><td>56</td><td>25.76298</td><td>151</td><td>...</td><td>364</td><td>5.3</td><td>1.4</td><td>5.91</td><td>1.25</td><td>3.51</td><td>1.27</td><td>1.12</td><td>NA</td><td>13.5</td></tr>\n",
       "</tbody>\n",
       "</table>\n"
      ],
      "text/latex": [
       "A data.frame: 2 x 29\n",
       "\\begin{tabular}{r|lllllllllllllllllllll}\n",
       "  & sample & FAM200B & BCL2A1 & IGJ & TXN & group & gender & age & BMI & Hb & ... & UA & GLU & TG & TC & HDL.c & LDL.C & ApoA & ApoB & LP & HCY\\\\\n",
       "  & <chr> & <dbl> & <dbl> & <dbl> & <dbl> & <chr> & <int> & <int> & <dbl> & <int> & ... & <int> & <dbl> & <dbl> & <dbl> & <dbl> & <dbl> & <dbl> & <dbl> & <lgl> & <dbl>\\\\\n",
       "\\hline\n",
       "\t1 & C1  & 5.615827 & 28.66226 & 37.85341 & 10.132857 & CTR & 1 & 54 & 21.45329 & 186 & ... & 315 & 5.0 & 1.1 & 3.84 & 1.37 & 1.88 & 1.38 & 0.67 & NA & 18.1\\\\\n",
       "\t2 & C10 & 4.886505 & 22.32717 & 21.40125 &  7.655688 & CTR & 1 & 56 & 25.76298 & 151 & ... & 364 & 5.3 & 1.4 & 5.91 & 1.25 & 3.51 & 1.27 & 1.12 & NA & 13.5\\\\\n",
       "\\end{tabular}\n"
      ],
      "text/markdown": [
       "\n",
       "A data.frame: 2 x 29\n",
       "\n",
       "| <!--/--> | sample &lt;chr&gt; | FAM200B &lt;dbl&gt; | BCL2A1 &lt;dbl&gt; | IGJ &lt;dbl&gt; | TXN &lt;dbl&gt; | group &lt;chr&gt; | gender &lt;int&gt; | age &lt;int&gt; | BMI &lt;dbl&gt; | Hb &lt;int&gt; | ... ... | UA &lt;int&gt; | GLU &lt;dbl&gt; | TG &lt;dbl&gt; | TC &lt;dbl&gt; | HDL.c &lt;dbl&gt; | LDL.C &lt;dbl&gt; | ApoA &lt;dbl&gt; | ApoB &lt;dbl&gt; | LP &lt;lgl&gt; | HCY &lt;dbl&gt; |\n",
       "|---|---|---|---|---|---|---|---|---|---|---|---|---|---|---|---|---|---|---|---|---|---|\n",
       "| 1 | C1  | 5.615827 | 28.66226 | 37.85341 | 10.132857 | CTR | 1 | 54 | 21.45329 | 186 | ... | 315 | 5.0 | 1.1 | 3.84 | 1.37 | 1.88 | 1.38 | 0.67 | NA | 18.1 |\n",
       "| 2 | C10 | 4.886505 | 22.32717 | 21.40125 |  7.655688 | CTR | 1 | 56 | 25.76298 | 151 | ... | 364 | 5.3 | 1.4 | 5.91 | 1.25 | 3.51 | 1.27 | 1.12 | NA | 13.5 |\n",
       "\n"
      ],
      "text/plain": [
       "  sample FAM200B  BCL2A1   IGJ      TXN       group gender age BMI      Hb  ...\n",
       "1 C1     5.615827 28.66226 37.85341 10.132857 CTR   1      54  21.45329 186 ...\n",
       "2 C10    4.886505 22.32717 21.40125  7.655688 CTR   1      56  25.76298 151 ...\n",
       "  UA  GLU TG  TC   HDL.c LDL.C ApoA ApoB LP HCY \n",
       "1 315 5.0 1.1 3.84 1.37  1.88  1.38 0.67 NA 18.1\n",
       "2 364 5.3 1.4 5.91 1.25  3.51  1.27 1.12 NA 13.5"
      ]
     },
     "metadata": {},
     "output_type": "display_data"
    }
   ],
   "source": [
    "head(input,2)"
   ]
  },
  {
   "cell_type": "code",
   "execution_count": 9,
   "id": "5995468f-975a-46c7-90e2-9c8bc425d1cb",
   "metadata": {},
   "outputs": [],
   "source": [
    "load('./GSVA_hall.RDA')"
   ]
  },
  {
   "cell_type": "code",
   "execution_count": 10,
   "id": "20dec8a9-90d9-4f08-8f66-c272aa716cf8",
   "metadata": {},
   "outputs": [],
   "source": [
    "input2 = merge(a,input,by.x= 'sample',by.y = 'sample')"
   ]
  },
  {
   "cell_type": "code",
   "execution_count": 11,
   "id": "15238777-4bf1-4daf-ba3c-2b8421c12934",
   "metadata": {},
   "outputs": [
    {
     "data": {
      "text/html": [
       "<table class=\"dataframe\">\n",
       "<caption>A data.frame: 2 x 30</caption>\n",
       "<thead>\n",
       "\t<tr><th></th><th scope=col>sample</th><th scope=col>Hscore</th><th scope=col>FAM200B</th><th scope=col>BCL2A1</th><th scope=col>IGJ</th><th scope=col>TXN</th><th scope=col>group</th><th scope=col>gender</th><th scope=col>age</th><th scope=col>BMI</th><th scope=col>...</th><th scope=col>UA</th><th scope=col>GLU</th><th scope=col>TG</th><th scope=col>TC</th><th scope=col>HDL.c</th><th scope=col>LDL.C</th><th scope=col>ApoA</th><th scope=col>ApoB</th><th scope=col>LP</th><th scope=col>HCY</th></tr>\n",
       "\t<tr><th></th><th scope=col>&lt;chr&gt;</th><th scope=col>&lt;dbl&gt;</th><th scope=col>&lt;dbl&gt;</th><th scope=col>&lt;dbl&gt;</th><th scope=col>&lt;dbl&gt;</th><th scope=col>&lt;dbl&gt;</th><th scope=col>&lt;chr&gt;</th><th scope=col>&lt;int&gt;</th><th scope=col>&lt;int&gt;</th><th scope=col>&lt;dbl&gt;</th><th scope=col>...</th><th scope=col>&lt;int&gt;</th><th scope=col>&lt;dbl&gt;</th><th scope=col>&lt;dbl&gt;</th><th scope=col>&lt;dbl&gt;</th><th scope=col>&lt;dbl&gt;</th><th scope=col>&lt;dbl&gt;</th><th scope=col>&lt;dbl&gt;</th><th scope=col>&lt;dbl&gt;</th><th scope=col>&lt;lgl&gt;</th><th scope=col>&lt;dbl&gt;</th></tr>\n",
       "</thead>\n",
       "<tbody>\n",
       "\t<tr><th scope=row>1</th><td>C1 </td><td>-0.6396225</td><td>5.615827</td><td>28.66226</td><td>37.85341</td><td>10.132857</td><td>CTR</td><td>1</td><td>54</td><td>21.45329</td><td>...</td><td>315</td><td>5.0</td><td>1.1</td><td>3.84</td><td>1.37</td><td>1.88</td><td>1.38</td><td>0.67</td><td>NA</td><td>18.1</td></tr>\n",
       "\t<tr><th scope=row>2</th><td>C10</td><td>-0.9159736</td><td>4.886505</td><td>22.32717</td><td>21.40125</td><td> 7.655688</td><td>CTR</td><td>1</td><td>56</td><td>25.76298</td><td>...</td><td>364</td><td>5.3</td><td>1.4</td><td>5.91</td><td>1.25</td><td>3.51</td><td>1.27</td><td>1.12</td><td>NA</td><td>13.5</td></tr>\n",
       "</tbody>\n",
       "</table>\n"
      ],
      "text/latex": [
       "A data.frame: 2 x 30\n",
       "\\begin{tabular}{r|lllllllllllllllllllll}\n",
       "  & sample & Hscore & FAM200B & BCL2A1 & IGJ & TXN & group & gender & age & BMI & ... & UA & GLU & TG & TC & HDL.c & LDL.C & ApoA & ApoB & LP & HCY\\\\\n",
       "  & <chr> & <dbl> & <dbl> & <dbl> & <dbl> & <dbl> & <chr> & <int> & <int> & <dbl> & ... & <int> & <dbl> & <dbl> & <dbl> & <dbl> & <dbl> & <dbl> & <dbl> & <lgl> & <dbl>\\\\\n",
       "\\hline\n",
       "\t1 & C1  & -0.6396225 & 5.615827 & 28.66226 & 37.85341 & 10.132857 & CTR & 1 & 54 & 21.45329 & ... & 315 & 5.0 & 1.1 & 3.84 & 1.37 & 1.88 & 1.38 & 0.67 & NA & 18.1\\\\\n",
       "\t2 & C10 & -0.9159736 & 4.886505 & 22.32717 & 21.40125 &  7.655688 & CTR & 1 & 56 & 25.76298 & ... & 364 & 5.3 & 1.4 & 5.91 & 1.25 & 3.51 & 1.27 & 1.12 & NA & 13.5\\\\\n",
       "\\end{tabular}\n"
      ],
      "text/markdown": [
       "\n",
       "A data.frame: 2 x 30\n",
       "\n",
       "| <!--/--> | sample &lt;chr&gt; | Hscore &lt;dbl&gt; | FAM200B &lt;dbl&gt; | BCL2A1 &lt;dbl&gt; | IGJ &lt;dbl&gt; | TXN &lt;dbl&gt; | group &lt;chr&gt; | gender &lt;int&gt; | age &lt;int&gt; | BMI &lt;dbl&gt; | ... ... | UA &lt;int&gt; | GLU &lt;dbl&gt; | TG &lt;dbl&gt; | TC &lt;dbl&gt; | HDL.c &lt;dbl&gt; | LDL.C &lt;dbl&gt; | ApoA &lt;dbl&gt; | ApoB &lt;dbl&gt; | LP &lt;lgl&gt; | HCY &lt;dbl&gt; |\n",
       "|---|---|---|---|---|---|---|---|---|---|---|---|---|---|---|---|---|---|---|---|---|---|\n",
       "| 1 | C1  | -0.6396225 | 5.615827 | 28.66226 | 37.85341 | 10.132857 | CTR | 1 | 54 | 21.45329 | ... | 315 | 5.0 | 1.1 | 3.84 | 1.37 | 1.88 | 1.38 | 0.67 | NA | 18.1 |\n",
       "| 2 | C10 | -0.9159736 | 4.886505 | 22.32717 | 21.40125 |  7.655688 | CTR | 1 | 56 | 25.76298 | ... | 364 | 5.3 | 1.4 | 5.91 | 1.25 | 3.51 | 1.27 | 1.12 | NA | 13.5 |\n",
       "\n"
      ],
      "text/plain": [
       "  sample Hscore     FAM200B  BCL2A1   IGJ      TXN       group gender age\n",
       "1 C1     -0.6396225 5.615827 28.66226 37.85341 10.132857 CTR   1      54 \n",
       "2 C10    -0.9159736 4.886505 22.32717 21.40125  7.655688 CTR   1      56 \n",
       "  BMI      ... UA  GLU TG  TC   HDL.c LDL.C ApoA ApoB LP HCY \n",
       "1 21.45329 ... 315 5.0 1.1 3.84 1.37  1.88  1.38 0.67 NA 18.1\n",
       "2 25.76298 ... 364 5.3 1.4 5.91 1.25  3.51  1.27 1.12 NA 13.5"
      ]
     },
     "metadata": {},
     "output_type": "display_data"
    }
   ],
   "source": [
    "head(input2,2)"
   ]
  },
  {
   "cell_type": "code",
   "execution_count": 12,
   "id": "56b3760c-6f65-4f13-8efb-2f36451019d7",
   "metadata": {},
   "outputs": [
    {
     "name": "stderr",
     "output_type": "stream",
     "text": [
      "Warning message:\n",
      "\"package 'ggplot2' was built under R version 4.2.3\"\n"
     ]
    }
   ],
   "source": [
    "library(ggplot2)"
   ]
  },
  {
   "cell_type": "code",
   "execution_count": 13,
   "id": "71fc2cf4-9120-4c28-b820-abbfcaf36aba",
   "metadata": {},
   "outputs": [
    {
     "name": "stderr",
     "output_type": "stream",
     "text": [
      "Warning message:\n",
      "\"package 'ggpubr' was built under R version 4.2.3\"\n"
     ]
    }
   ],
   "source": [
    "library(ggplot2)\n",
    "library(ggpubr)"
   ]
  },
  {
   "cell_type": "code",
   "execution_count": 14,
   "id": "096317f4-9a70-4f14-88a8-ece004f68f7d",
   "metadata": {},
   "outputs": [
    {
     "data": {
      "text/html": [
       "<style>\n",
       ".list-inline {list-style: none; margin:0; padding: 0}\n",
       ".list-inline>li {display: inline-block}\n",
       ".list-inline>li:not(:last-child)::after {content: \"\\00b7\"; padding: 0 .5ex}\n",
       "</style>\n",
       "<ol class=list-inline><li>'sample'</li><li>'Hscore'</li><li>'FAM200B'</li><li>'BCL2A1'</li><li>'IGJ'</li><li>'TXN'</li><li>'group'</li><li>'gender'</li><li>'age'</li><li>'BMI'</li><li>'Hb'</li><li>'RBC'</li><li>'WBC'</li><li>'PLT'</li><li>'ALT'</li><li>'AST'</li><li>'TBIL'</li><li>'DBIL'</li><li>'CR'</li><li>'BUN'</li><li>'UA'</li><li>'GLU'</li><li>'TG'</li><li>'TC'</li><li>'HDL.c'</li><li>'LDL.C'</li><li>'ApoA'</li><li>'ApoB'</li><li>'LP'</li><li>'HCY'</li></ol>\n"
      ],
      "text/latex": [
       "\\begin{enumerate*}\n",
       "\\item 'sample'\n",
       "\\item 'Hscore'\n",
       "\\item 'FAM200B'\n",
       "\\item 'BCL2A1'\n",
       "\\item 'IGJ'\n",
       "\\item 'TXN'\n",
       "\\item 'group'\n",
       "\\item 'gender'\n",
       "\\item 'age'\n",
       "\\item 'BMI'\n",
       "\\item 'Hb'\n",
       "\\item 'RBC'\n",
       "\\item 'WBC'\n",
       "\\item 'PLT'\n",
       "\\item 'ALT'\n",
       "\\item 'AST'\n",
       "\\item 'TBIL'\n",
       "\\item 'DBIL'\n",
       "\\item 'CR'\n",
       "\\item 'BUN'\n",
       "\\item 'UA'\n",
       "\\item 'GLU'\n",
       "\\item 'TG'\n",
       "\\item 'TC'\n",
       "\\item 'HDL.c'\n",
       "\\item 'LDL.C'\n",
       "\\item 'ApoA'\n",
       "\\item 'ApoB'\n",
       "\\item 'LP'\n",
       "\\item 'HCY'\n",
       "\\end{enumerate*}\n"
      ],
      "text/markdown": [
       "1. 'sample'\n",
       "2. 'Hscore'\n",
       "3. 'FAM200B'\n",
       "4. 'BCL2A1'\n",
       "5. 'IGJ'\n",
       "6. 'TXN'\n",
       "7. 'group'\n",
       "8. 'gender'\n",
       "9. 'age'\n",
       "10. 'BMI'\n",
       "11. 'Hb'\n",
       "12. 'RBC'\n",
       "13. 'WBC'\n",
       "14. 'PLT'\n",
       "15. 'ALT'\n",
       "16. 'AST'\n",
       "17. 'TBIL'\n",
       "18. 'DBIL'\n",
       "19. 'CR'\n",
       "20. 'BUN'\n",
       "21. 'UA'\n",
       "22. 'GLU'\n",
       "23. 'TG'\n",
       "24. 'TC'\n",
       "25. 'HDL.c'\n",
       "26. 'LDL.C'\n",
       "27. 'ApoA'\n",
       "28. 'ApoB'\n",
       "29. 'LP'\n",
       "30. 'HCY'\n",
       "\n",
       "\n"
      ],
      "text/plain": [
       " [1] \"sample\"  \"Hscore\"  \"FAM200B\" \"BCL2A1\"  \"IGJ\"     \"TXN\"     \"group\"  \n",
       " [8] \"gender\"  \"age\"     \"BMI\"     \"Hb\"      \"RBC\"     \"WBC\"     \"PLT\"    \n",
       "[15] \"ALT\"     \"AST\"     \"TBIL\"    \"DBIL\"    \"CR\"      \"BUN\"     \"UA\"     \n",
       "[22] \"GLU\"     \"TG\"      \"TC\"      \"HDL.c\"   \"LDL.C\"   \"ApoA\"    \"ApoB\"   \n",
       "[29] \"LP\"      \"HCY\"    "
      ]
     },
     "metadata": {},
     "output_type": "display_data"
    }
   ],
   "source": [
    "colnames(input2)"
   ]
  },
  {
   "cell_type": "code",
   "execution_count": 15,
   "id": "05edafed-83fc-46a4-b3ab-a4277632b5d8",
   "metadata": {
    "scrolled": true
   },
   "outputs": [
    {
     "name": "stderr",
     "output_type": "stream",
     "text": [
      "Warning message:\n",
      "\"\u001b[1m\u001b[22m`aes_string()` was deprecated in ggplot2 3.0.0.\n",
      "\u001b[36mi\u001b[39m Please use tidy evaluation idioms with `aes()`.\n",
      "\u001b[36mi\u001b[39m See also `vignette(\"ggplot2-in-packages\")` for more information.\"\n",
      "\u001b[1m\u001b[22m`geom_smooth()` using formula = 'y ~ x'\n",
      "\u001b[1m\u001b[22m`geom_smooth()` using formula = 'y ~ x'\n",
      "Warning message:\n",
      "\"\u001b[1m\u001b[22mRemoved 8 rows containing non-finite outside the scale range (`stat_smooth()`).\"\n",
      "Warning message:\n",
      "\"\u001b[1m\u001b[22mRemoved 8 rows containing non-finite outside the scale range (`stat_cor()`).\"\n",
      "Warning message:\n",
      "\"\u001b[1m\u001b[22mRemoved 8 rows containing missing values or values outside the scale range\n",
      "(`geom_point()`).\"\n",
      "\u001b[1m\u001b[22m`geom_smooth()` using formula = 'y ~ x'\n",
      "Warning message:\n",
      "\"\u001b[1m\u001b[22mRemoved 2 rows containing non-finite outside the scale range (`stat_smooth()`).\"\n",
      "Warning message:\n",
      "\"\u001b[1m\u001b[22mRemoved 2 rows containing non-finite outside the scale range (`stat_cor()`).\"\n",
      "Warning message:\n",
      "\"\u001b[1m\u001b[22mRemoved 2 rows containing missing values or values outside the scale range\n",
      "(`geom_point()`).\"\n",
      "\u001b[1m\u001b[22m`geom_smooth()` using formula = 'y ~ x'\n",
      "Warning message:\n",
      "\"\u001b[1m\u001b[22mRemoved 2 rows containing non-finite outside the scale range (`stat_smooth()`).\"\n",
      "Warning message:\n",
      "\"\u001b[1m\u001b[22mRemoved 2 rows containing non-finite outside the scale range (`stat_cor()`).\"\n",
      "Warning message:\n",
      "\"\u001b[1m\u001b[22mRemoved 2 rows containing missing values or values outside the scale range\n",
      "(`geom_point()`).\"\n",
      "\u001b[1m\u001b[22m`geom_smooth()` using formula = 'y ~ x'\n",
      "Warning message:\n",
      "\"\u001b[1m\u001b[22mRemoved 2 rows containing non-finite outside the scale range (`stat_smooth()`).\"\n",
      "Warning message:\n",
      "\"\u001b[1m\u001b[22mRemoved 2 rows containing non-finite outside the scale range (`stat_cor()`).\"\n",
      "Warning message:\n",
      "\"\u001b[1m\u001b[22mRemoved 2 rows containing missing values or values outside the scale range\n",
      "(`geom_point()`).\"\n",
      "\u001b[1m\u001b[22m`geom_smooth()` using formula = 'y ~ x'\n",
      "Warning message:\n",
      "\"\u001b[1m\u001b[22mRemoved 2 rows containing non-finite outside the scale range (`stat_smooth()`).\"\n",
      "Warning message:\n",
      "\"\u001b[1m\u001b[22mRemoved 2 rows containing non-finite outside the scale range (`stat_cor()`).\"\n",
      "Warning message:\n",
      "\"\u001b[1m\u001b[22mRemoved 2 rows containing missing values or values outside the scale range\n",
      "(`geom_point()`).\"\n",
      "\u001b[1m\u001b[22m`geom_smooth()` using formula = 'y ~ x'\n",
      "Warning message:\n",
      "\"\u001b[1m\u001b[22mRemoved 2 rows containing non-finite outside the scale range (`stat_smooth()`).\"\n",
      "Warning message:\n",
      "\"\u001b[1m\u001b[22mRemoved 2 rows containing non-finite outside the scale range (`stat_cor()`).\"\n",
      "Warning message:\n",
      "\"\u001b[1m\u001b[22mRemoved 2 rows containing missing values or values outside the scale range\n",
      "(`geom_point()`).\"\n",
      "\u001b[1m\u001b[22m`geom_smooth()` using formula = 'y ~ x'\n",
      "Warning message:\n",
      "\"\u001b[1m\u001b[22mRemoved 2 rows containing non-finite outside the scale range (`stat_smooth()`).\"\n",
      "Warning message:\n",
      "\"\u001b[1m\u001b[22mRemoved 2 rows containing non-finite outside the scale range (`stat_cor()`).\"\n",
      "Warning message:\n",
      "\"\u001b[1m\u001b[22mRemoved 2 rows containing missing values or values outside the scale range\n",
      "(`geom_point()`).\"\n",
      "\u001b[1m\u001b[22m`geom_smooth()` using formula = 'y ~ x'\n",
      "Warning message:\n",
      "\"\u001b[1m\u001b[22mRemoved 2 rows containing non-finite outside the scale range (`stat_smooth()`).\"\n",
      "Warning message:\n",
      "\"\u001b[1m\u001b[22mRemoved 2 rows containing non-finite outside the scale range (`stat_cor()`).\"\n",
      "Warning message:\n",
      "\"\u001b[1m\u001b[22mRemoved 2 rows containing missing values or values outside the scale range\n",
      "(`geom_point()`).\"\n",
      "\u001b[1m\u001b[22m`geom_smooth()` using formula = 'y ~ x'\n",
      "Warning message:\n",
      "\"\u001b[1m\u001b[22mRemoved 2 rows containing non-finite outside the scale range (`stat_smooth()`).\"\n",
      "Warning message:\n",
      "\"\u001b[1m\u001b[22mRemoved 2 rows containing non-finite outside the scale range (`stat_cor()`).\"\n",
      "Warning message:\n",
      "\"\u001b[1m\u001b[22mRemoved 2 rows containing missing values or values outside the scale range\n",
      "(`geom_point()`).\"\n",
      "\u001b[1m\u001b[22m`geom_smooth()` using formula = 'y ~ x'\n",
      "Warning message:\n",
      "\"\u001b[1m\u001b[22mRemoved 1 row containing non-finite outside the scale range (`stat_smooth()`).\"\n",
      "Warning message:\n",
      "\"\u001b[1m\u001b[22mRemoved 1 row containing non-finite outside the scale range (`stat_cor()`).\"\n",
      "Warning message:\n",
      "\"\u001b[1m\u001b[22mRemoved 1 row containing missing values or values outside the scale range\n",
      "(`geom_point()`).\"\n",
      "\u001b[1m\u001b[22m`geom_smooth()` using formula = 'y ~ x'\n",
      "Warning message:\n",
      "\"\u001b[1m\u001b[22mRemoved 2 rows containing non-finite outside the scale range (`stat_smooth()`).\"\n",
      "Warning message:\n",
      "\"\u001b[1m\u001b[22mRemoved 2 rows containing non-finite outside the scale range (`stat_cor()`).\"\n",
      "Warning message:\n",
      "\"\u001b[1m\u001b[22mRemoved 2 rows containing missing values or values outside the scale range\n",
      "(`geom_point()`).\"\n",
      "\u001b[1m\u001b[22m`geom_smooth()` using formula = 'y ~ x'\n",
      "Warning message:\n",
      "\"\u001b[1m\u001b[22mRemoved 2 rows containing non-finite outside the scale range (`stat_smooth()`).\"\n",
      "Warning message:\n",
      "\"\u001b[1m\u001b[22mRemoved 2 rows containing non-finite outside the scale range (`stat_cor()`).\"\n",
      "Warning message:\n",
      "\"\u001b[1m\u001b[22mRemoved 2 rows containing missing values or values outside the scale range\n",
      "(`geom_point()`).\"\n",
      "\u001b[1m\u001b[22m`geom_smooth()` using formula = 'y ~ x'\n",
      "Warning message:\n",
      "\"\u001b[1m\u001b[22mRemoved 2 rows containing non-finite outside the scale range (`stat_smooth()`).\"\n",
      "Warning message:\n",
      "\"\u001b[1m\u001b[22mRemoved 2 rows containing non-finite outside the scale range (`stat_cor()`).\"\n",
      "Warning message:\n",
      "\"\u001b[1m\u001b[22mRemoved 2 rows containing missing values or values outside the scale range\n",
      "(`geom_point()`).\"\n",
      "\u001b[1m\u001b[22m`geom_smooth()` using formula = 'y ~ x'\n",
      "Warning message:\n",
      "\"\u001b[1m\u001b[22mRemoved 1 row containing non-finite outside the scale range (`stat_smooth()`).\"\n",
      "Warning message:\n",
      "\"\u001b[1m\u001b[22mRemoved 1 row containing non-finite outside the scale range (`stat_cor()`).\"\n",
      "Warning message:\n",
      "\"\u001b[1m\u001b[22mRemoved 1 row containing missing values or values outside the scale range\n",
      "(`geom_point()`).\"\n",
      "\u001b[1m\u001b[22m`geom_smooth()` using formula = 'y ~ x'\n",
      "Warning message:\n",
      "\"\u001b[1m\u001b[22mRemoved 1 row containing non-finite outside the scale range (`stat_smooth()`).\"\n",
      "Warning message:\n",
      "\"\u001b[1m\u001b[22mRemoved 1 row containing non-finite outside the scale range (`stat_cor()`).\"\n",
      "Warning message:\n",
      "\"\u001b[1m\u001b[22mRemoved 1 row containing missing values or values outside the scale range\n",
      "(`geom_point()`).\"\n",
      "\u001b[1m\u001b[22m`geom_smooth()` using formula = 'y ~ x'\n",
      "Warning message:\n",
      "\"\u001b[1m\u001b[22mRemoved 2 rows containing non-finite outside the scale range (`stat_smooth()`).\"\n",
      "Warning message:\n",
      "\"\u001b[1m\u001b[22mRemoved 2 rows containing non-finite outside the scale range (`stat_cor()`).\"\n",
      "Warning message:\n",
      "\"\u001b[1m\u001b[22mRemoved 2 rows containing missing values or values outside the scale range\n",
      "(`geom_point()`).\"\n",
      "\u001b[1m\u001b[22m`geom_smooth()` using formula = 'y ~ x'\n",
      "Warning message:\n",
      "\"\u001b[1m\u001b[22mRemoved 1 row containing non-finite outside the scale range (`stat_smooth()`).\"\n",
      "Warning message:\n",
      "\"\u001b[1m\u001b[22mRemoved 1 row containing non-finite outside the scale range (`stat_cor()`).\"\n",
      "Warning message:\n",
      "\"\u001b[1m\u001b[22mRemoved 1 row containing missing values or values outside the scale range\n",
      "(`geom_point()`).\"\n",
      "\u001b[1m\u001b[22m`geom_smooth()` using formula = 'y ~ x'\n",
      "Warning message:\n",
      "\"\u001b[1m\u001b[22mRemoved 2 rows containing non-finite outside the scale range (`stat_smooth()`).\"\n",
      "Warning message:\n",
      "\"\u001b[1m\u001b[22mRemoved 2 rows containing non-finite outside the scale range (`stat_cor()`).\"\n",
      "Warning message:\n",
      "\"\u001b[1m\u001b[22mRemoved 2 rows containing missing values or values outside the scale range\n",
      "(`geom_point()`).\"\n",
      "\u001b[1m\u001b[22m`geom_smooth()` using formula = 'y ~ x'\n",
      "Warning message:\n",
      "\"\u001b[1m\u001b[22mRemoved 2 rows containing non-finite outside the scale range (`stat_smooth()`).\"\n",
      "Warning message:\n",
      "\"\u001b[1m\u001b[22mRemoved 2 rows containing non-finite outside the scale range (`stat_cor()`).\"\n",
      "Warning message:\n",
      "\"\u001b[1m\u001b[22mRemoved 2 rows containing missing values or values outside the scale range\n",
      "(`geom_point()`).\"\n",
      "\u001b[1m\u001b[22m`geom_smooth()` using formula = 'y ~ x'\n",
      "\u001b[1m\u001b[22m`geom_smooth()` using formula = 'y ~ x'\n",
      "Warning message:\n",
      "\"\u001b[1m\u001b[22mRemoved 6 rows containing non-finite outside the scale range (`stat_smooth()`).\"\n",
      "Warning message:\n",
      "\"\u001b[1m\u001b[22mRemoved 6 rows containing non-finite outside the scale range (`stat_cor()`).\"\n",
      "Warning message:\n",
      "\"\u001b[1m\u001b[22mRemoved 6 rows containing missing values or values outside the scale range\n",
      "(`geom_point()`).\"\n"
     ]
    }
   ],
   "source": [
    "for (i in colnames(input2)[9:30]){\n",
    "    #assign(\"cc\",i)\n",
    "        ggplot(input2, aes_string(x = 'Hscore', y =i, color = 'group')) +\n",
    "    geom_point() +\n",
    "    geom_smooth(method=lm, se=FALSE, fullrange=TRUE)+\n",
    "    scale_shape_manual(values=c(16, 17))+\n",
    "    scale_color_manual(values=c('#E69F00', '#56B4E9'))+\n",
    "    theme(legend.position=\"top\")+theme_bw()+stat_cor(data=input2, method = \"spearman\")\n",
    "    ggsave(paste0('cor.',i,'.Hscore.pdf'),width = 6,height = 6)\n",
    "}\n"
   ]
  },
  {
   "cell_type": "markdown",
   "id": "1692d129-345a-4e59-8477-a95364f6d3c3",
   "metadata": {},
   "source": [
    "### 协变量多因素"
   ]
  },
  {
   "cell_type": "code",
   "execution_count": 16,
   "id": "2d6cc419-9bcb-46b1-9ba7-82a33c254e6d",
   "metadata": {},
   "outputs": [
    {
     "data": {
      "text/html": [
       "<table class=\"dataframe\">\n",
       "<caption>A data.frame: 2 x 30</caption>\n",
       "<thead>\n",
       "\t<tr><th></th><th scope=col>sample</th><th scope=col>Hscore</th><th scope=col>FAM200B</th><th scope=col>BCL2A1</th><th scope=col>IGJ</th><th scope=col>TXN</th><th scope=col>group</th><th scope=col>gender</th><th scope=col>age</th><th scope=col>BMI</th><th scope=col>...</th><th scope=col>UA</th><th scope=col>GLU</th><th scope=col>TG</th><th scope=col>TC</th><th scope=col>HDL.c</th><th scope=col>LDL.C</th><th scope=col>ApoA</th><th scope=col>ApoB</th><th scope=col>LP</th><th scope=col>HCY</th></tr>\n",
       "\t<tr><th></th><th scope=col>&lt;chr&gt;</th><th scope=col>&lt;dbl&gt;</th><th scope=col>&lt;dbl&gt;</th><th scope=col>&lt;dbl&gt;</th><th scope=col>&lt;dbl&gt;</th><th scope=col>&lt;dbl&gt;</th><th scope=col>&lt;chr&gt;</th><th scope=col>&lt;int&gt;</th><th scope=col>&lt;int&gt;</th><th scope=col>&lt;dbl&gt;</th><th scope=col>...</th><th scope=col>&lt;int&gt;</th><th scope=col>&lt;dbl&gt;</th><th scope=col>&lt;dbl&gt;</th><th scope=col>&lt;dbl&gt;</th><th scope=col>&lt;dbl&gt;</th><th scope=col>&lt;dbl&gt;</th><th scope=col>&lt;dbl&gt;</th><th scope=col>&lt;dbl&gt;</th><th scope=col>&lt;lgl&gt;</th><th scope=col>&lt;dbl&gt;</th></tr>\n",
       "</thead>\n",
       "<tbody>\n",
       "\t<tr><th scope=row>1</th><td>C1 </td><td>-0.6396225</td><td>5.615827</td><td>28.66226</td><td>37.85341</td><td>10.132857</td><td>CTR</td><td>1</td><td>54</td><td>21.45329</td><td>...</td><td>315</td><td>5.0</td><td>1.1</td><td>3.84</td><td>1.37</td><td>1.88</td><td>1.38</td><td>0.67</td><td>NA</td><td>18.1</td></tr>\n",
       "\t<tr><th scope=row>2</th><td>C10</td><td>-0.9159736</td><td>4.886505</td><td>22.32717</td><td>21.40125</td><td> 7.655688</td><td>CTR</td><td>1</td><td>56</td><td>25.76298</td><td>...</td><td>364</td><td>5.3</td><td>1.4</td><td>5.91</td><td>1.25</td><td>3.51</td><td>1.27</td><td>1.12</td><td>NA</td><td>13.5</td></tr>\n",
       "</tbody>\n",
       "</table>\n"
      ],
      "text/latex": [
       "A data.frame: 2 x 30\n",
       "\\begin{tabular}{r|lllllllllllllllllllll}\n",
       "  & sample & Hscore & FAM200B & BCL2A1 & IGJ & TXN & group & gender & age & BMI & ... & UA & GLU & TG & TC & HDL.c & LDL.C & ApoA & ApoB & LP & HCY\\\\\n",
       "  & <chr> & <dbl> & <dbl> & <dbl> & <dbl> & <dbl> & <chr> & <int> & <int> & <dbl> & ... & <int> & <dbl> & <dbl> & <dbl> & <dbl> & <dbl> & <dbl> & <dbl> & <lgl> & <dbl>\\\\\n",
       "\\hline\n",
       "\t1 & C1  & -0.6396225 & 5.615827 & 28.66226 & 37.85341 & 10.132857 & CTR & 1 & 54 & 21.45329 & ... & 315 & 5.0 & 1.1 & 3.84 & 1.37 & 1.88 & 1.38 & 0.67 & NA & 18.1\\\\\n",
       "\t2 & C10 & -0.9159736 & 4.886505 & 22.32717 & 21.40125 &  7.655688 & CTR & 1 & 56 & 25.76298 & ... & 364 & 5.3 & 1.4 & 5.91 & 1.25 & 3.51 & 1.27 & 1.12 & NA & 13.5\\\\\n",
       "\\end{tabular}\n"
      ],
      "text/markdown": [
       "\n",
       "A data.frame: 2 x 30\n",
       "\n",
       "| <!--/--> | sample &lt;chr&gt; | Hscore &lt;dbl&gt; | FAM200B &lt;dbl&gt; | BCL2A1 &lt;dbl&gt; | IGJ &lt;dbl&gt; | TXN &lt;dbl&gt; | group &lt;chr&gt; | gender &lt;int&gt; | age &lt;int&gt; | BMI &lt;dbl&gt; | ... ... | UA &lt;int&gt; | GLU &lt;dbl&gt; | TG &lt;dbl&gt; | TC &lt;dbl&gt; | HDL.c &lt;dbl&gt; | LDL.C &lt;dbl&gt; | ApoA &lt;dbl&gt; | ApoB &lt;dbl&gt; | LP &lt;lgl&gt; | HCY &lt;dbl&gt; |\n",
       "|---|---|---|---|---|---|---|---|---|---|---|---|---|---|---|---|---|---|---|---|---|---|\n",
       "| 1 | C1  | -0.6396225 | 5.615827 | 28.66226 | 37.85341 | 10.132857 | CTR | 1 | 54 | 21.45329 | ... | 315 | 5.0 | 1.1 | 3.84 | 1.37 | 1.88 | 1.38 | 0.67 | NA | 18.1 |\n",
       "| 2 | C10 | -0.9159736 | 4.886505 | 22.32717 | 21.40125 |  7.655688 | CTR | 1 | 56 | 25.76298 | ... | 364 | 5.3 | 1.4 | 5.91 | 1.25 | 3.51 | 1.27 | 1.12 | NA | 13.5 |\n",
       "\n"
      ],
      "text/plain": [
       "  sample Hscore     FAM200B  BCL2A1   IGJ      TXN       group gender age\n",
       "1 C1     -0.6396225 5.615827 28.66226 37.85341 10.132857 CTR   1      54 \n",
       "2 C10    -0.9159736 4.886505 22.32717 21.40125  7.655688 CTR   1      56 \n",
       "  BMI      ... UA  GLU TG  TC   HDL.c LDL.C ApoA ApoB LP HCY \n",
       "1 21.45329 ... 315 5.0 1.1 3.84 1.37  1.88  1.38 0.67 NA 18.1\n",
       "2 25.76298 ... 364 5.3 1.4 5.91 1.25  3.51  1.27 1.12 NA 13.5"
      ]
     },
     "metadata": {},
     "output_type": "display_data"
    }
   ],
   "source": [
    "head(input2,2)"
   ]
  },
  {
   "cell_type": "code",
   "execution_count": 17,
   "id": "c1027b83-bbe2-4ccf-b422-704445b7cc89",
   "metadata": {},
   "outputs": [],
   "source": [
    "input3 = input2 %>% dplyr::select(sample,group,gender,age,BMI,GLU, LDL.C,WBC,DBIL)"
   ]
  },
  {
   "cell_type": "code",
   "execution_count": 32,
   "id": "51418a19-b3af-4303-82fe-c9544bd46273",
   "metadata": {},
   "outputs": [],
   "source": [
    "load('./riskscore.s.rda')"
   ]
  },
  {
   "cell_type": "code",
   "execution_count": 33,
   "id": "73e94430-17c4-4d77-9abf-822c2e19a530",
   "metadata": {},
   "outputs": [],
   "source": [
    "riskscore = riskscore %>%   tibble::rownames_to_column(.,'sample')"
   ]
  },
  {
   "cell_type": "code",
   "execution_count": 35,
   "id": "2ee6e4ba-d449-496c-91fb-051c9d64f142",
   "metadata": {},
   "outputs": [],
   "source": [
    "input4 = dplyr::left_join(input3,riskscore,by = 'sample') %>%  tibble::column_to_rownames(.,'sample')"
   ]
  },
  {
   "cell_type": "code",
   "execution_count": null,
   "id": "058453b3-02eb-4a6f-a12f-05fcf601b0f6",
   "metadata": {},
   "outputs": [],
   "source": []
  },
  {
   "cell_type": "code",
   "execution_count": null,
   "id": "5a93ddb5-7893-4bcb-9d48-6e97a9615316",
   "metadata": {},
   "outputs": [],
   "source": []
  },
  {
   "cell_type": "code",
   "execution_count": 36,
   "id": "e9526f96-c140-4f57-8ea7-2016d4ff247c",
   "metadata": {},
   "outputs": [],
   "source": [
    "input4$gender = ifelse(input4$gender == 1,'M','F')"
   ]
  },
  {
   "cell_type": "code",
   "execution_count": 37,
   "id": "37bfd4f5-696f-48e3-a86d-95fe2dd78500",
   "metadata": {},
   "outputs": [],
   "source": [
    "input4$age = ifelse(input4$age < 60,'<60','>=60')"
   ]
  },
  {
   "cell_type": "code",
   "execution_count": 38,
   "id": "539217bb-1461-4873-9b01-8f00f6641dd3",
   "metadata": {},
   "outputs": [],
   "source": [
    "input4$group = ifelse(input4$group =='CTR',0,1)"
   ]
  },
  {
   "cell_type": "code",
   "execution_count": 39,
   "id": "959adda8-44f6-46b2-886c-a607f1de9a4a",
   "metadata": {
    "scrolled": true
   },
   "outputs": [
    {
     "data": {
      "text/html": [
       "<table class=\"dataframe\">\n",
       "<caption>A autoReg: 10 x 7</caption>\n",
       "<thead>\n",
       "\t<tr><th scope=col>name</th><th scope=col>desc</th><th scope=col>0 (N=31)</th><th scope=col>1 (N=32)</th><th scope=col>id</th><th scope=col>OR (univariable)</th><th scope=col>OR (multivariable)</th></tr>\n",
       "\t<tr><th scope=col>&lt;chr&gt;</th><th scope=col>&lt;chr&gt;</th><th scope=col>&lt;chr&gt;</th><th scope=col>&lt;chr&gt;</th><th scope=col>&lt;chr&gt;</th><th scope=col>&lt;chr&gt;</th><th scope=col>&lt;chr&gt;</th></tr>\n",
       "</thead>\n",
       "<tbody>\n",
       "\t<tr><td>gender      </td><td>F               </td><td>14 (45.2%)       </td><td>17 (53.1%)       </td><td>genderF     </td><td>                              </td><td>                               </td></tr>\n",
       "\t<tr><td>            </td><td>M               </td><td>17 (54.8%)       </td><td>15 (46.9%)       </td><td>genderM     </td><td>0.73 (0.27-1.96, p=.528)      </td><td>                               </td></tr>\n",
       "\t<tr><td><span style=white-space:pre-wrap>age         </span></td><td><span style=white-space:pre-wrap>&lt;60             </span></td><td><span style=white-space:pre-wrap>12 (38.7%)       </span></td><td><span style=white-space:pre-wrap>19 (59.4%)       </span></td><td><span style=white-space:pre-wrap>age&lt;60      </span></td><td><span style=white-space:pre-wrap>                              </span></td><td><span style=white-space:pre-wrap>                               </span></td></tr>\n",
       "\t<tr><td><span style=white-space:pre-wrap>            </span></td><td><span style=white-space:pre-wrap>&gt;=60            </span></td><td><span style=white-space:pre-wrap>19 (61.3%)       </span></td><td><span style=white-space:pre-wrap>13 (40.6%)       </span></td><td><span style=white-space:pre-wrap>age&gt;=60     </span></td><td><span style=white-space:pre-wrap>0.43 (0.16-1.19, p=.103)      </span></td><td><span style=white-space:pre-wrap>                               </span></td></tr>\n",
       "\t<tr><td><span style=white-space:pre-wrap>BMI         </span></td><td>Mean &lt;U+00B1&gt; SD</td><td>24.8 &lt;U+00B1&gt; 2.9</td><td>26.8 &lt;U+00B1&gt; 5.5</td><td><span style=white-space:pre-wrap>BMI         </span></td><td><span style=white-space:pre-wrap>1.13 (0.98-1.30, p=.103)      </span></td><td><span style=white-space:pre-wrap>                               </span></td></tr>\n",
       "\t<tr><td><span style=white-space:pre-wrap>GLU         </span></td><td>Mean &lt;U+00B1&gt; SD</td><td>5.7 &lt;U+00B1&gt; 0.9 </td><td>6.1 &lt;U+00B1&gt; 1.4 </td><td><span style=white-space:pre-wrap>GLU         </span></td><td><span style=white-space:pre-wrap>1.40 (0.86-2.28, p=.173)      </span></td><td><span style=white-space:pre-wrap>                               </span></td></tr>\n",
       "\t<tr><td><span style=white-space:pre-wrap>LDL.C       </span></td><td>Mean &lt;U+00B1&gt; SD</td><td>3.0 &lt;U+00B1&gt; 0.7 </td><td>2.4 &lt;U+00B1&gt; 0.8 </td><td><span style=white-space:pre-wrap>LDL.C       </span></td><td><span style=white-space:pre-wrap>0.34 (0.16-0.72, p=.005)      </span></td><td><span style=white-space:pre-wrap>0.21 (0.06-0.79, p=.021)       </span></td></tr>\n",
       "\t<tr><td><span style=white-space:pre-wrap>WBC         </span></td><td>Mean &lt;U+00B1&gt; SD</td><td>5.2 &lt;U+00B1&gt; 1.2 </td><td>6.1 &lt;U+00B1&gt; 2.4 </td><td><span style=white-space:pre-wrap>WBC         </span></td><td><span style=white-space:pre-wrap>1.29 (0.95-1.74, p=.098)      </span></td><td><span style=white-space:pre-wrap>                               </span></td></tr>\n",
       "\t<tr><td><span style=white-space:pre-wrap>DBIL        </span></td><td>Mean &lt;U+00B1&gt; SD</td><td>4.2 &lt;U+00B1&gt; 1.8 </td><td>4.6 &lt;U+00B1&gt; 1.6 </td><td><span style=white-space:pre-wrap>DBIL        </span></td><td><span style=white-space:pre-wrap>1.15 (0.86-1.55, p=.352)      </span></td><td><span style=white-space:pre-wrap>                               </span></td></tr>\n",
       "\t<tr><td>fold_predict</td><td>Mean &lt;U+00B1&gt; SD</td><td>0.2 &lt;U+00B1&gt; 0.3 </td><td>0.8 &lt;U+00B1&gt; 0.3 </td><td>fold_predict</td><td>294.41 (27.34-3169.80, p&lt;.001)</td><td>602.42 (30.75-11800.57, p&lt;.001)</td></tr>\n",
       "</tbody>\n",
       "</table>\n"
      ],
      "text/latex": [
       "A autoReg: 10 x 7\n",
       "\\begin{tabular}{lllllll}\n",
       " name & desc & 0 (N=31) & 1 (N=32) & id & OR (univariable) & OR (multivariable)\\\\\n",
       " <chr> & <chr> & <chr> & <chr> & <chr> & <chr> & <chr>\\\\\n",
       "\\hline\n",
       "\t gender       & F                & 14 (45.2\\%)        & 17 (53.1\\%)        & genderF      &                                &                                \\\\\n",
       "\t              & M                & 17 (54.8\\%)        & 15 (46.9\\%)        & genderM      & 0.73 (0.27-1.96, p=.528)       &                                \\\\\n",
       "\t age          & <60              & 12 (38.7\\%)        & 19 (59.4\\%)        & age<60       &                                &                                \\\\\n",
       "\t              & >=60             & 19 (61.3\\%)        & 13 (40.6\\%)        & age>=60      & 0.43 (0.16-1.19, p=.103)       &                                \\\\\n",
       "\t BMI          & Mean <U+00B1> SD & 24.8 <U+00B1> 2.9 & 26.8 <U+00B1> 5.5 & BMI          & 1.13 (0.98-1.30, p=.103)       &                                \\\\\n",
       "\t GLU          & Mean <U+00B1> SD & 5.7 <U+00B1> 0.9  & 6.1 <U+00B1> 1.4  & GLU          & 1.40 (0.86-2.28, p=.173)       &                                \\\\\n",
       "\t LDL.C        & Mean <U+00B1> SD & 3.0 <U+00B1> 0.7  & 2.4 <U+00B1> 0.8  & LDL.C        & 0.34 (0.16-0.72, p=.005)       & 0.21 (0.06-0.79, p=.021)       \\\\\n",
       "\t WBC          & Mean <U+00B1> SD & 5.2 <U+00B1> 1.2  & 6.1 <U+00B1> 2.4  & WBC          & 1.29 (0.95-1.74, p=.098)       &                                \\\\\n",
       "\t DBIL         & Mean <U+00B1> SD & 4.2 <U+00B1> 1.8  & 4.6 <U+00B1> 1.6  & DBIL         & 1.15 (0.86-1.55, p=.352)       &                                \\\\\n",
       "\t fold\\_predict & Mean <U+00B1> SD & 0.2 <U+00B1> 0.3  & 0.8 <U+00B1> 0.3  & fold\\_predict & 294.41 (27.34-3169.80, p<.001) & 602.42 (30.75-11800.57, p<.001)\\\\\n",
       "\\end{tabular}\n"
      ],
      "text/markdown": [
       "\n",
       "A autoReg: 10 x 7\n",
       "\n",
       "| name &lt;chr&gt; | desc &lt;chr&gt; | 0 (N=31) &lt;chr&gt; | 1 (N=32) &lt;chr&gt; | id &lt;chr&gt; | OR (univariable) &lt;chr&gt; | OR (multivariable) &lt;chr&gt; |\n",
       "|---|---|---|---|---|---|---|\n",
       "| gender       | F                | 14 (45.2%)        | 17 (53.1%)        | genderF      | <!----> | <!----> |\n",
       "| <!----> | M                | 17 (54.8%)        | 15 (46.9%)        | genderM      | 0.73 (0.27-1.96, p=.528)       | <!----> |\n",
       "| age          | &lt;60              | 12 (38.7%)        | 19 (59.4%)        | age&lt;60       | <!----> | <!----> |\n",
       "| <!----> | &gt;=60             | 19 (61.3%)        | 13 (40.6%)        | age&gt;=60      | 0.43 (0.16-1.19, p=.103)       | <!----> |\n",
       "| BMI          | Mean &lt;U+00B1&gt; SD | 24.8 &lt;U+00B1&gt; 2.9 | 26.8 &lt;U+00B1&gt; 5.5 | BMI          | 1.13 (0.98-1.30, p=.103)       | <!----> |\n",
       "| GLU          | Mean &lt;U+00B1&gt; SD | 5.7 &lt;U+00B1&gt; 0.9  | 6.1 &lt;U+00B1&gt; 1.4  | GLU          | 1.40 (0.86-2.28, p=.173)       | <!----> |\n",
       "| LDL.C        | Mean &lt;U+00B1&gt; SD | 3.0 &lt;U+00B1&gt; 0.7  | 2.4 &lt;U+00B1&gt; 0.8  | LDL.C        | 0.34 (0.16-0.72, p=.005)       | 0.21 (0.06-0.79, p=.021)        |\n",
       "| WBC          | Mean &lt;U+00B1&gt; SD | 5.2 &lt;U+00B1&gt; 1.2  | 6.1 &lt;U+00B1&gt; 2.4  | WBC          | 1.29 (0.95-1.74, p=.098)       | <!----> |\n",
       "| DBIL         | Mean &lt;U+00B1&gt; SD | 4.2 &lt;U+00B1&gt; 1.8  | 4.6 &lt;U+00B1&gt; 1.6  | DBIL         | 1.15 (0.86-1.55, p=.352)       | <!----> |\n",
       "| fold_predict | Mean &lt;U+00B1&gt; SD | 0.2 &lt;U+00B1&gt; 0.3  | 0.8 &lt;U+00B1&gt; 0.3  | fold_predict | 294.41 (27.34-3169.80, p&lt;.001) | 602.42 (30.75-11800.57, p&lt;.001) |\n",
       "\n"
      ],
      "text/plain": [
       "   name         desc             0 (N=31)          1 (N=32)         \n",
       "1  gender       F                14 (45.2%)        17 (53.1%)       \n",
       "2               M                17 (54.8%)        15 (46.9%)       \n",
       "3  age          <60              12 (38.7%)        19 (59.4%)       \n",
       "4               >=60             19 (61.3%)        13 (40.6%)       \n",
       "5  BMI          Mean <U+00B1> SD 24.8 <U+00B1> 2.9 26.8 <U+00B1> 5.5\n",
       "6  GLU          Mean <U+00B1> SD 5.7 <U+00B1> 0.9  6.1 <U+00B1> 1.4 \n",
       "7  LDL.C        Mean <U+00B1> SD 3.0 <U+00B1> 0.7  2.4 <U+00B1> 0.8 \n",
       "8  WBC          Mean <U+00B1> SD 5.2 <U+00B1> 1.2  6.1 <U+00B1> 2.4 \n",
       "9  DBIL         Mean <U+00B1> SD 4.2 <U+00B1> 1.8  4.6 <U+00B1> 1.6 \n",
       "10 fold_predict Mean <U+00B1> SD 0.2 <U+00B1> 0.3  0.8 <U+00B1> 0.3 \n",
       "   id           OR (univariable)               OR (multivariable)             \n",
       "1  genderF                                                                    \n",
       "2  genderM      0.73 (0.27-1.96, p=.528)                                      \n",
       "3  age<60                                                                     \n",
       "4  age>=60      0.43 (0.16-1.19, p=.103)                                      \n",
       "5  BMI          1.13 (0.98-1.30, p=.103)                                      \n",
       "6  GLU          1.40 (0.86-2.28, p=.173)                                      \n",
       "7  LDL.C        0.34 (0.16-0.72, p=.005)       0.21 (0.06-0.79, p=.021)       \n",
       "8  WBC          1.29 (0.95-1.74, p=.098)                                      \n",
       "9  DBIL         1.15 (0.86-1.55, p=.352)                                      \n",
       "10 fold_predict 294.41 (27.34-3169.80, p<.001) 602.42 (30.75-11800.57, p<.001)"
      ]
     },
     "metadata": {},
     "output_type": "display_data"
    }
   ],
   "source": [
    "library(\"autoReg\")\n",
    "overall.log =  glm(group~.,data=input4,family=binomial())\n",
    "model3<-autoReg(overall.log,uni=TRUE,milti=TRUE,threshold=0.05)\n",
    "model3"
   ]
  },
  {
   "cell_type": "code",
   "execution_count": null,
   "id": "b3f95191-8553-435a-ae86-c14f221c45a2",
   "metadata": {},
   "outputs": [],
   "source": []
  },
  {
   "cell_type": "code",
   "execution_count": null,
   "id": "5d3071cd-e51e-40c7-a6e5-decb3d953acd",
   "metadata": {},
   "outputs": [],
   "source": []
  },
  {
   "cell_type": "code",
   "execution_count": null,
   "id": "6f4abbce-0c7e-440b-ba94-f410631f22a6",
   "metadata": {},
   "outputs": [],
   "source": []
  },
  {
   "cell_type": "code",
   "execution_count": null,
   "id": "3494ef5f-e4bb-4f9f-8fc6-b264e27e7908",
   "metadata": {},
   "outputs": [],
   "source": []
  }
 ],
 "metadata": {
  "kernelspec": {
   "display_name": "R",
   "language": "R",
   "name": "ir"
  },
  "language_info": {
   "codemirror_mode": "r",
   "file_extension": ".r",
   "mimetype": "text/x-r-source",
   "name": "R",
   "pygments_lexer": "r",
   "version": "4.2.1"
  }
 },
 "nbformat": 4,
 "nbformat_minor": 5
}
