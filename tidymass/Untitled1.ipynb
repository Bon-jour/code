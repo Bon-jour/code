{
 "cells": [
  {
   "cell_type": "code",
   "execution_count": 1,
   "id": "bfa749df-38a1-412b-8d5f-c7cdae3f0477",
   "metadata": {},
   "outputs": [
    {
     "name": "stderr",
     "output_type": "stream",
     "text": [
      "Warning message:\n",
      "“package ‘massconverter’ was built under R version 4.2.2”\n",
      "massconverter 1.0.3 (2023-09-08 14:15:07)\n",
      "\n",
      "Registered S3 method overwritten by 'Hmisc':\n",
      "  method       from      \n",
      "  vcov.default fit.models\n",
      "\n",
      "── \u001b[1mAttaching packages\u001b[22m ──────────────────────────────────────── tidymass 1.0.8 ──\n",
      "\n",
      "\u001b[32m✔\u001b[39m \u001b[34mmassdataset  \u001b[39m 1.0.19     \u001b[32m✔\u001b[39m \u001b[34mmetpath      \u001b[39m 1.0.5 \n",
      "\u001b[32m✔\u001b[39m \u001b[34mmassprocesser\u001b[39m 1.0.6      \u001b[32m✔\u001b[39m \u001b[34mmetid        \u001b[39m 1.2.25\n",
      "\u001b[32m✔\u001b[39m \u001b[34mmasscleaner  \u001b[39m 1.0.7      \u001b[32m✔\u001b[39m \u001b[34mmasstools    \u001b[39m 1.0.8 \n",
      "\u001b[32m✔\u001b[39m \u001b[34mmassqc       \u001b[39m 1.0.5      \u001b[32m✔\u001b[39m \u001b[34mdplyr        \u001b[39m 1.1.3 \n",
      "\u001b[32m✔\u001b[39m \u001b[34mmassstat     \u001b[39m 1.0.3      \u001b[32m✔\u001b[39m \u001b[34mggplot2      \u001b[39m 3.4.0 \n",
      "\n"
     ]
    }
   ],
   "source": [
    ".libPaths(c(\"/root/miniconda3/envs/metadoc/lib/R/library\",'/root/miniconda3/envs/Rdoc/lib/R/library'))\n",
    "library(massconverter)\n",
    "library(tidymass)"
   ]
  },
  {
   "cell_type": "code",
   "execution_count": 18,
   "id": "af8853f8-1cc5-42ff-86a9-ac1eefdb34df",
   "metadata": {},
   "outputs": [
    {
     "name": "stderr",
     "output_type": "stream",
     "text": [
      "\u001b[33mQC is not in you directory, so set is as  Subject\u001b[39m\n",
      "\n",
      "\u001b[32mReading raw data, it will take a while...\u001b[39m\n",
      "\n",
      "\u001b[33mUse old saved data in Result.\u001b[39m\n",
      "\n",
      "\u001b[31mOK\u001b[39m\n",
      "\n",
      "\u001b[32mDetecting peaks...\u001b[39m\n",
      "\n",
      "\u001b[33mUse old saved data in Result.\u001b[39m\n",
      "\n",
      "\u001b[31mOK\u001b[39m\n",
      "\n",
      "\u001b[32mCorrecting rentention time...\u001b[39m\n",
      "\n",
      "\u001b[33mUse old saved data in Result.\u001b[39m\n",
      "\n",
      "\u001b[31mOK\u001b[39m\n",
      "\n",
      "\u001b[32mGrouping peaks across samples...\u001b[39m\n",
      "\n",
      "\u001b[33mUse old saved data in Result.\u001b[39m\n",
      "\n",
      "\u001b[31mOK\u001b[39m\n",
      "\n",
      "\u001b[32mOutputting peak table...\u001b[39m\n",
      "\n",
      "\u001b[31mOK\u001b[39m\n",
      "\n",
      "\u001b[31mOK\u001b[39m\n",
      "\n",
      "\u001b[41mAll done!\u001b[49m\n",
      "\n"
     ]
    }
   ],
   "source": [
    "massprocesser::process_data(\n",
    "  path = \"./MS1/POS/\",\n",
    "  polarity = \"positive\",\n",
    "  ppm = 15,\n",
    "  peakwidth = c(5, 30),\n",
    "  threads = 10,\n",
    "  output_tic = FALSE,\n",
    "  output_bpc = FALSE,\n",
    "  output_rt_correction_plot = FALSE,\n",
    "  min_fraction = 0.5\n",
    ")"
   ]
  },
  {
   "cell_type": "code",
   "execution_count": 19,
   "id": "0bf3fa14-094d-45a4-ad71-030c317d48dc",
   "metadata": {},
   "outputs": [
    {
     "data": {
      "text/plain": [
       "\u001b[33m-------------------- \n",
       "\u001b[39m\u001b[32mmassdataset version: 1.0.19 \n",
       "\u001b[39m\u001b[33m-------------------- \n",
       "\u001b[39m\u001b[32m1.expression_data:\u001b[39m[ 1333 x 38 data.frame]\n",
       "\u001b[32m2.sample_info:\u001b[39m[ 38 x 4 data.frame]\n",
       "\u001b[32m3.variable_info:\u001b[39m[ 1333 x 3 data.frame]\n",
       "\u001b[32m4.sample_info_note:\u001b[39m[ 4 x 2 data.frame]\n",
       "\u001b[32m5.variable_info_note:\u001b[39m[ 3 x 2 data.frame]\n",
       "\u001b[32m6.ms2_data:\u001b[39m[ 0 variables x 0 MS2 spectra]\n",
       "\u001b[33m-------------------- \n",
       "\u001b[39m\u001b[32mProcessing information (extract_process_info())\n",
       "\u001b[39m\u001b[32m2 processings in total\n",
       "\u001b[39m\u001b[32mcreate_mass_dataset ---------- \n",
       "\u001b[39m      Package         Function.used                Time\n",
       "1 massdataset create_mass_dataset() 2023-10-08 15:16:55\n",
       "\u001b[32mprocess_data ---------- \n",
       "\u001b[39m        Package Function.used                Time\n",
       "1 massprocesser  process_data 2023-10-08 15:16:54"
      ]
     },
     "metadata": {},
     "output_type": "display_data"
    }
   ],
   "source": [
    "load(\"./MS1/POS/Result/object\")\n",
    "object_pos <- object\n",
    "object_pos"
   ]
  },
  {
   "cell_type": "code",
   "execution_count": 20,
   "id": "ef65e327-d7f7-4096-8815-eeecbc6596c8",
   "metadata": {},
   "outputs": [
    {
     "name": "stderr",
     "output_type": "stream",
     "text": [
      "\u001b[33mQC is not in you directory, so set is as  NEG\u001b[39m\n",
      "\n",
      "\u001b[32mReading raw data, it will take a while...\u001b[39m\n",
      "\n",
      "\u001b[33mUse old saved data in Result.\u001b[39m\n",
      "\n",
      "\u001b[31mOK\u001b[39m\n",
      "\n",
      "\u001b[32mDetecting peaks...\u001b[39m\n",
      "\n",
      "\u001b[33mUse old saved data in Result.\u001b[39m\n",
      "\n",
      "\u001b[31mOK\u001b[39m\n",
      "\n",
      "\u001b[32mCorrecting rentention time...\u001b[39m\n",
      "\n",
      "\u001b[33mUse old saved data in Result.\u001b[39m\n",
      "\n",
      "\u001b[31mOK\u001b[39m\n",
      "\n",
      "\u001b[32mGrouping peaks across samples...\u001b[39m\n",
      "\n",
      "\u001b[33mUse old saved data in Result.\u001b[39m\n",
      "\n",
      "\u001b[31mOK\u001b[39m\n",
      "\n",
      "\u001b[32mOutputting peak table...\u001b[39m\n",
      "\n",
      "\u001b[31mOK\u001b[39m\n",
      "\n",
      "\u001b[31mOK\u001b[39m\n",
      "\n",
      "\u001b[41mAll done!\u001b[49m\n",
      "\n"
     ]
    }
   ],
   "source": [
    "library(tidymass)\n",
    "massprocesser::process_data(\n",
    "  path = \"./MS1/NEG\",\n",
    "  polarity = \"negative\",\n",
    "  ppm = 15,\n",
    "  peakwidth = c(5, 30),\n",
    "  threads = 4,\n",
    "  output_tic = FALSE,\n",
    "  output_bpc = FALSE,\n",
    "  output_rt_correction_plot = FALSE,\n",
    "  min_fraction = 0.5\n",
    ")"
   ]
  },
  {
   "cell_type": "code",
   "execution_count": 21,
   "id": "ebd33744-539a-4257-81ca-a6afbbbfbd3d",
   "metadata": {},
   "outputs": [
    {
     "data": {
      "text/plain": [
       "\u001b[33m-------------------- \n",
       "\u001b[39m\u001b[32mmassdataset version: 1.0.19 \n",
       "\u001b[39m\u001b[33m-------------------- \n",
       "\u001b[39m\u001b[32m1.expression_data:\u001b[39m[ 1167 x 38 data.frame]\n",
       "\u001b[32m2.sample_info:\u001b[39m[ 38 x 4 data.frame]\n",
       "\u001b[32m3.variable_info:\u001b[39m[ 1167 x 3 data.frame]\n",
       "\u001b[32m4.sample_info_note:\u001b[39m[ 4 x 2 data.frame]\n",
       "\u001b[32m5.variable_info_note:\u001b[39m[ 3 x 2 data.frame]\n",
       "\u001b[32m6.ms2_data:\u001b[39m[ 0 variables x 0 MS2 spectra]\n",
       "\u001b[33m-------------------- \n",
       "\u001b[39m\u001b[32mProcessing information (extract_process_info())\n",
       "\u001b[39m\u001b[32m2 processings in total\n",
       "\u001b[39m\u001b[32mcreate_mass_dataset ---------- \n",
       "\u001b[39m      Package         Function.used                Time\n",
       "1 massdataset create_mass_dataset() 2023-10-08 15:17:21\n",
       "\u001b[32mprocess_data ---------- \n",
       "\u001b[39m        Package Function.used                Time\n",
       "1 massprocesser  process_data 2023-10-08 15:17:20"
      ]
     },
     "metadata": {},
     "output_type": "display_data"
    }
   ],
   "source": [
    "load(\"./MS1/NEG/Result/object\")\n",
    "object_neg <- object\n",
    "object_neg"
   ]
  },
  {
   "cell_type": "code",
   "execution_count": 22,
   "id": "3bdd25e5-235f-42c5-8cf7-06bb34da76e8",
   "metadata": {},
   "outputs": [
    {
     "name": "stderr",
     "output_type": "stream",
     "text": [
      "\u001b[1mRows: \u001b[22m\u001b[34m38\u001b[39m \u001b[1mColumns: \u001b[22m\u001b[34m3\u001b[39m\n",
      "\u001b[36m──\u001b[39m \u001b[1mColumn specification\u001b[22m \u001b[36m────────────────────────────────────────────────────────\u001b[39m\n",
      "\u001b[1mDelimiter:\u001b[22m \",\"\n",
      "\u001b[31mchr\u001b[39m (3): sample_id, group, class\n",
      "\n",
      "\u001b[36mℹ\u001b[39m Use `spec()` to retrieve the full column specification for this data.\n",
      "\u001b[36mℹ\u001b[39m Specify the column types or set `show_col_types = FALSE` to quiet this message.\n"
     ]
    }
   ],
   "source": [
    "sample_info_pos <- readr::read_csv(\"./sample_info.csv\")"
   ]
  },
  {
   "cell_type": "code",
   "execution_count": 23,
   "id": "84277237-0a30-46d0-9576-f0f1c041da52",
   "metadata": {},
   "outputs": [
    {
     "data": {
      "text/html": [
       "<table class=\"dataframe\">\n",
       "<caption>A data.frame: 6 × 4</caption>\n",
       "<thead>\n",
       "\t<tr><th></th><th scope=col>sample_id</th><th scope=col>group</th><th scope=col>class</th><th scope=col>injection.order</th></tr>\n",
       "\t<tr><th></th><th scope=col>&lt;chr&gt;</th><th scope=col>&lt;chr&gt;</th><th scope=col>&lt;chr&gt;</th><th scope=col>&lt;int&gt;</th></tr>\n",
       "</thead>\n",
       "<tbody>\n",
       "\t<tr><th scope=row>1</th><td>KO-CLP1</td><td>Subject</td><td>Subject</td><td>1</td></tr>\n",
       "\t<tr><th scope=row>2</th><td>KO-CLP2</td><td>Subject</td><td>Subject</td><td>2</td></tr>\n",
       "\t<tr><th scope=row>3</th><td>KO-CLP3</td><td>Subject</td><td>Subject</td><td>3</td></tr>\n",
       "\t<tr><th scope=row>4</th><td>KO-CLP4</td><td>Subject</td><td>Subject</td><td>4</td></tr>\n",
       "\t<tr><th scope=row>5</th><td>KO-CLP5</td><td>Subject</td><td>Subject</td><td>5</td></tr>\n",
       "\t<tr><th scope=row>6</th><td>KO-CLP6</td><td>Subject</td><td>Subject</td><td>6</td></tr>\n",
       "</tbody>\n",
       "</table>\n"
      ],
      "text/latex": [
       "A data.frame: 6 × 4\n",
       "\\begin{tabular}{r|llll}\n",
       "  & sample\\_id & group & class & injection.order\\\\\n",
       "  & <chr> & <chr> & <chr> & <int>\\\\\n",
       "\\hline\n",
       "\t1 & KO-CLP1 & Subject & Subject & 1\\\\\n",
       "\t2 & KO-CLP2 & Subject & Subject & 2\\\\\n",
       "\t3 & KO-CLP3 & Subject & Subject & 3\\\\\n",
       "\t4 & KO-CLP4 & Subject & Subject & 4\\\\\n",
       "\t5 & KO-CLP5 & Subject & Subject & 5\\\\\n",
       "\t6 & KO-CLP6 & Subject & Subject & 6\\\\\n",
       "\\end{tabular}\n"
      ],
      "text/markdown": [
       "\n",
       "A data.frame: 6 × 4\n",
       "\n",
       "| <!--/--> | sample_id &lt;chr&gt; | group &lt;chr&gt; | class &lt;chr&gt; | injection.order &lt;int&gt; |\n",
       "|---|---|---|---|---|\n",
       "| 1 | KO-CLP1 | Subject | Subject | 1 |\n",
       "| 2 | KO-CLP2 | Subject | Subject | 2 |\n",
       "| 3 | KO-CLP3 | Subject | Subject | 3 |\n",
       "| 4 | KO-CLP4 | Subject | Subject | 4 |\n",
       "| 5 | KO-CLP5 | Subject | Subject | 5 |\n",
       "| 6 | KO-CLP6 | Subject | Subject | 6 |\n",
       "\n"
      ],
      "text/plain": [
       "  sample_id group   class   injection.order\n",
       "1 KO-CLP1   Subject Subject 1              \n",
       "2 KO-CLP2   Subject Subject 2              \n",
       "3 KO-CLP3   Subject Subject 3              \n",
       "4 KO-CLP4   Subject Subject 4              \n",
       "5 KO-CLP5   Subject Subject 5              \n",
       "6 KO-CLP6   Subject Subject 6              "
      ]
     },
     "metadata": {},
     "output_type": "display_data"
    }
   ],
   "source": [
    "object_pos %>%  extract_sample_info() %>% head()\n",
    "object_pos <- object_pos %>% activate_mass_dataset(what = \"sample_info\") %>% dplyr::select(-c(\"group\", \"class\", \"injection.order\"))"
   ]
  },
  {
   "cell_type": "code",
   "execution_count": 24,
   "id": "87e61752-d8cb-4f9e-a77f-a72d2010b9a8",
   "metadata": {},
   "outputs": [],
   "source": [
    "object_pos = object_pos %>% activate_mass_dataset(what = \"sample_info\") %>% left_join(sample_info_pos, by = \"sample_id\")"
   ]
  },
  {
   "cell_type": "code",
   "execution_count": 25,
   "id": "b82828a9-a6fa-4d46-9c3d-d1df0320a2b8",
   "metadata": {},
   "outputs": [],
   "source": [
    "dir.create(\"data_cleaning/POS\", showWarnings = FALSE, recursive = TRUE)\n",
    "save(object_pos, file = \"data_cleaning/POS/object_pos\")"
   ]
  },
  {
   "cell_type": "code",
   "execution_count": 26,
   "id": "18061bf7-0211-4c7c-9e72-eb398c81c332",
   "metadata": {},
   "outputs": [
    {
     "name": "stderr",
     "output_type": "stream",
     "text": [
      "\u001b[1mRows: \u001b[22m\u001b[34m38\u001b[39m \u001b[1mColumns: \u001b[22m\u001b[34m3\u001b[39m\n",
      "\u001b[36m──\u001b[39m \u001b[1mColumn specification\u001b[22m \u001b[36m────────────────────────────────────────────────────────\u001b[39m\n",
      "\u001b[1mDelimiter:\u001b[22m \",\"\n",
      "\u001b[31mchr\u001b[39m (3): sample_id, group, class\n",
      "\n",
      "\u001b[36mℹ\u001b[39m Use `spec()` to retrieve the full column specification for this data.\n",
      "\u001b[36mℹ\u001b[39m Specify the column types or set `show_col_types = FALSE` to quiet this message.\n"
     ]
    }
   ],
   "source": [
    "sample_info_neg <- readr::read_csv(\"./sample_info.csv\")"
   ]
  },
  {
   "cell_type": "code",
   "execution_count": 27,
   "id": "f9a33aff-3b03-4376-975a-4e4fecd7e4fc",
   "metadata": {},
   "outputs": [
    {
     "data": {
      "text/html": [
       "<table class=\"dataframe\">\n",
       "<caption>A data.frame: 6 × 3</caption>\n",
       "<thead>\n",
       "\t<tr><th></th><th scope=col>sample_id</th><th scope=col>group</th><th scope=col>class</th></tr>\n",
       "\t<tr><th></th><th scope=col>&lt;chr&gt;</th><th scope=col>&lt;chr&gt;</th><th scope=col>&lt;chr&gt;</th></tr>\n",
       "</thead>\n",
       "<tbody>\n",
       "\t<tr><th scope=row>1</th><td>KO-CLP1</td><td>KO_CLP</td><td>KO-CLP</td></tr>\n",
       "\t<tr><th scope=row>2</th><td>KO-CLP2</td><td>KO_CLP</td><td>KO-CLP</td></tr>\n",
       "\t<tr><th scope=row>3</th><td>KO-CLP3</td><td>KO_CLP</td><td>KO-CLP</td></tr>\n",
       "\t<tr><th scope=row>4</th><td>KO-CLP4</td><td>KO_CLP</td><td>KO-CLP</td></tr>\n",
       "\t<tr><th scope=row>5</th><td>KO-CLP5</td><td>KO_CLP</td><td>KO-CLP</td></tr>\n",
       "\t<tr><th scope=row>6</th><td>KO-CLP6</td><td>KO_CLP</td><td>KO-CLP</td></tr>\n",
       "</tbody>\n",
       "</table>\n"
      ],
      "text/latex": [
       "A data.frame: 6 × 3\n",
       "\\begin{tabular}{r|lll}\n",
       "  & sample\\_id & group & class\\\\\n",
       "  & <chr> & <chr> & <chr>\\\\\n",
       "\\hline\n",
       "\t1 & KO-CLP1 & KO\\_CLP & KO-CLP\\\\\n",
       "\t2 & KO-CLP2 & KO\\_CLP & KO-CLP\\\\\n",
       "\t3 & KO-CLP3 & KO\\_CLP & KO-CLP\\\\\n",
       "\t4 & KO-CLP4 & KO\\_CLP & KO-CLP\\\\\n",
       "\t5 & KO-CLP5 & KO\\_CLP & KO-CLP\\\\\n",
       "\t6 & KO-CLP6 & KO\\_CLP & KO-CLP\\\\\n",
       "\\end{tabular}\n"
      ],
      "text/markdown": [
       "\n",
       "A data.frame: 6 × 3\n",
       "\n",
       "| <!--/--> | sample_id &lt;chr&gt; | group &lt;chr&gt; | class &lt;chr&gt; |\n",
       "|---|---|---|---|\n",
       "| 1 | KO-CLP1 | KO_CLP | KO-CLP |\n",
       "| 2 | KO-CLP2 | KO_CLP | KO-CLP |\n",
       "| 3 | KO-CLP3 | KO_CLP | KO-CLP |\n",
       "| 4 | KO-CLP4 | KO_CLP | KO-CLP |\n",
       "| 5 | KO-CLP5 | KO_CLP | KO-CLP |\n",
       "| 6 | KO-CLP6 | KO_CLP | KO-CLP |\n",
       "\n"
      ],
      "text/plain": [
       "  sample_id group  class \n",
       "1 KO-CLP1   KO_CLP KO-CLP\n",
       "2 KO-CLP2   KO_CLP KO-CLP\n",
       "3 KO-CLP3   KO_CLP KO-CLP\n",
       "4 KO-CLP4   KO_CLP KO-CLP\n",
       "5 KO-CLP5   KO_CLP KO-CLP\n",
       "6 KO-CLP6   KO_CLP KO-CLP"
      ]
     },
     "metadata": {},
     "output_type": "display_data"
    }
   ],
   "source": [
    "object_neg <- object_neg %>% activate_mass_dataset(what = \"sample_info\") %>% dplyr::select(-c(\"group\", \"class\", \"injection.order\"))\n",
    "\n",
    "# 将sample_info_neg添加至object_neg\n",
    "object_neg = object_neg %>% activate_mass_dataset(what = \"sample_info\") %>% left_join(sample_info_neg, by = \"sample_id\")\n",
    "\n",
    "object_neg %>% extract_sample_info() %>% head()"
   ]
  },
  {
   "cell_type": "code",
   "execution_count": 28,
   "id": "8d74f56b-9681-4b19-bd30-1b7c3b6da6d5",
   "metadata": {},
   "outputs": [],
   "source": [
    "dir.create(\"data_cleaning/NEG\", showWarnings = FALSE, recursive = TRUE)\n",
    "save(object_neg, file = \"data_cleaning/NEG/object_neg\")"
   ]
  },
  {
   "cell_type": "code",
   "execution_count": 29,
   "id": "b5340a1b-1001-4a3c-aec5-a97aa52bb204",
   "metadata": {},
   "outputs": [],
   "source": [
    "load(\"data_cleaning/POS/object_pos\")\n",
    "load(\"data_cleaning/NEG/object_neg\")"
   ]
  },
  {
   "cell_type": "code",
   "execution_count": 30,
   "id": "2ffb16ee-d389-4411-bc4b-a6049897befa",
   "metadata": {},
   "outputs": [
    {
     "name": "stderr",
     "output_type": "stream",
     "text": [
      "Get report template.\n",
      "\n",
      "Parameters.\n",
      "\n",
      "Sample infromation.\n",
      "\n",
      "Missing values in dataset.\n",
      "\n",
      "Missing values in all variables.\n",
      "\n",
      "Missing values in all samples.\n",
      "\n",
      "RSD for variables.\n",
      "\n",
      "Intensity for all the variables in all samples.\n",
      "\n",
      "Sample correlation.\n",
      "\n",
      "PCA score plot.\n",
      "\n",
      "PCA done.\n",
      "\n",
      "Render report.\n",
      "\n",
      "\n",
      "\n",
      "processing file: massqc.template.Rmd\n",
      "\n"
     ]
    },
    {
     "name": "stdout",
     "output_type": "stream",
     "text": [
      "  |..........                                                            |  14%\n",
      "  ordinary text without R code\n",
      "\n",
      "  |....................                                                  |  29%\n",
      "label: setup (with options) \n",
      "List of 1\n",
      " $ include: logi FALSE\n",
      "\n",
      "  |..............................                                        |  43%\n",
      "   inline R code fragments\n",
      "\n",
      "  |........................................                              |  57%\n",
      "label: unnamed-chunk-1 (with options) \n",
      "List of 3\n",
      " $ echo   : logi FALSE\n",
      " $ message: logi FALSE\n",
      " $ warning: logi FALSE\n",
      "\n",
      "  |..................................................                    |  71%\n",
      "  ordinary text without R code\n",
      "\n",
      "  |............................................................          |  86%\n",
      "label: unnamed-chunk-2 (with options) \n",
      "List of 3\n",
      " $ echo   : logi FALSE\n",
      " $ message: logi FALSE\n",
      " $ warning: logi FALSE\n",
      "\n",
      "  |......................................................................| 100%\n",
      "  ordinary text without R code\n",
      "\n",
      "\n"
     ]
    },
    {
     "name": "stderr",
     "output_type": "stream",
     "text": [
      "output file: massqc.template.knit.md\n",
      "\n",
      "\n"
     ]
    },
    {
     "name": "stdout",
     "output_type": "stream",
     "text": [
      "/root/miniconda3/envs/Rdoc/bin/pandoc +RTS -K512m -RTS massqc.template.knit.md --to html4 --from markdown+autolink_bare_uris+tex_math_single_backslash --output massqc.template.html --lua-filter /root/miniconda3/envs/metadoc/lib/R/library/rmarkdown/rmarkdown/lua/pagebreak.lua --lua-filter /root/miniconda3/envs/metadoc/lib/R/library/rmarkdown/rmarkdown/lua/latex-div.lua --embed-resources --standalone --variable bs3=TRUE --section-divs --template /root/miniconda3/envs/metadoc/lib/R/library/rmarkdown/rmd/h/default.html --no-highlight --variable highlightjs=1 --variable theme=bootstrap --mathjax --variable 'mathjax-url=https://mathjax.rstudio.com/latest/MathJax.js?config=TeX-AMS-MML_HTMLorMML' --include-in-header /tmp/RtmpT9bfrW/rmarkdown-str90b520ea5a45.html \n"
     ]
    },
    {
     "name": "stderr",
     "output_type": "stream",
     "text": [
      "\n",
      "Output created: massqc.template.html\n",
      "\n",
      "Remove some files.\n",
      "\n",
      "Get report template.\n",
      "\n",
      "Parameters.\n",
      "\n",
      "Sample infromation.\n",
      "\n",
      "Missing values in dataset.\n",
      "\n",
      "Missing values in all variables.\n",
      "\n",
      "Missing values in all samples.\n",
      "\n",
      "RSD for variables.\n",
      "\n",
      "Intensity for all the variables in all samples.\n",
      "\n",
      "Sample correlation.\n",
      "\n",
      "PCA score plot.\n",
      "\n",
      "PCA done.\n",
      "\n",
      "Render report.\n",
      "\n",
      "\n",
      "\n",
      "processing file: massqc.template.Rmd\n",
      "\n"
     ]
    },
    {
     "name": "stdout",
     "output_type": "stream",
     "text": [
      "  |..........                                                            |  14%\n",
      "  ordinary text without R code\n",
      "\n",
      "  |....................                                                  |  29%\n",
      "label: setup (with options) \n",
      "List of 1\n",
      " $ include: logi FALSE\n",
      "\n",
      "  |..............................                                        |  43%\n",
      "   inline R code fragments\n",
      "\n",
      "  |........................................                              |  57%\n",
      "label: unnamed-chunk-1 (with options) \n",
      "List of 3\n",
      " $ echo   : logi FALSE\n",
      " $ message: logi FALSE\n",
      " $ warning: logi FALSE\n",
      "\n",
      "  |..................................................                    |  71%\n",
      "  ordinary text without R code\n",
      "\n",
      "  |............................................................          |  86%\n",
      "label: unnamed-chunk-2 (with options) \n",
      "List of 3\n",
      " $ echo   : logi FALSE\n",
      " $ message: logi FALSE\n",
      " $ warning: logi FALSE\n",
      "\n",
      "  |......................................................................| 100%\n",
      "  ordinary text without R code\n",
      "\n",
      "\n"
     ]
    },
    {
     "name": "stderr",
     "output_type": "stream",
     "text": [
      "output file: massqc.template.knit.md\n",
      "\n",
      "\n"
     ]
    },
    {
     "name": "stdout",
     "output_type": "stream",
     "text": [
      "/root/miniconda3/envs/Rdoc/bin/pandoc +RTS -K512m -RTS massqc.template.knit.md --to html4 --from markdown+autolink_bare_uris+tex_math_single_backslash --output massqc.template.html --lua-filter /root/miniconda3/envs/metadoc/lib/R/library/rmarkdown/rmarkdown/lua/pagebreak.lua --lua-filter /root/miniconda3/envs/metadoc/lib/R/library/rmarkdown/rmarkdown/lua/latex-div.lua --embed-resources --standalone --variable bs3=TRUE --section-divs --template /root/miniconda3/envs/metadoc/lib/R/library/rmarkdown/rmd/h/default.html --no-highlight --variable highlightjs=1 --variable theme=bootstrap --mathjax --variable 'mathjax-url=https://mathjax.rstudio.com/latest/MathJax.js?config=TeX-AMS-MML_HTMLorMML' --include-in-header /tmp/RtmpT9bfrW/rmarkdown-str90b512542307.html \n"
     ]
    },
    {
     "name": "stderr",
     "output_type": "stream",
     "text": [
      "\n",
      "Output created: massqc.template.html\n",
      "\n",
      "Remove some files.\n",
      "\n"
     ]
    }
   ],
   "source": [
    "# 将批次号改为字符串\n",
    "object_pos <- object_pos %>% activate_mass_dataset(what = \"sample_info\") %>% dplyr::mutate(batch = as.character(group))\n",
    "\n",
    "object_neg <- object_neg %>% activate_mass_dataset(what = \"sample_info\") %>% dplyr::mutate(batch = as.character(group))\n",
    "\n",
    "# 先评估数据质量\n",
    "massqc::massqc_report(object = object_pos, path = \"data_cleaning/POS/data_quality_before_data_cleaning\")\n",
    "\n",
    "massqc::massqc_report(object = object_neg, path = \"data_cleaning/NEG/data_quality_before_data_cleaning\")"
   ]
  },
  {
   "cell_type": "code",
   "execution_count": 31,
   "id": "987fd360-3e4e-4ecc-b866-6c0e74e2641d",
   "metadata": {},
   "outputs": [],
   "source": [
    "qc_id = object_pos %>% activate_mass_dataset(what = \"sample_info\") %>% filter(class == \"QC\") %>% pull(sample_id)\n",
    "\n",
    "# 统计对照组中的MV占比\n",
    "KO_CLP_id = object_pos %>% activate_mass_dataset(what = \"sample_info\") %>% \n",
    "filter(class == \"KO-CLP\") %>% pull(sample_id)\n",
    "\n",
    "\n",
    "\n",
    "KO_NC_id = object_pos %>% activate_mass_dataset(what = \"sample_info\") %>% \n",
    "filter(class == \"KO-NC\") %>% pull(sample_id)\n",
    "WT_CLP_id = object_pos %>% activate_mass_dataset(what = \"sample_info\") %>% \n",
    "filter(class == \"WT-CLP\") %>% pull(sample_id)\n",
    "WT_NC_id = object_pos %>% activate_mass_dataset(what = \"sample_info\") %>% \n",
    "filter(class == \"KO-NC\") %>% pull(sample_id)"
   ]
  },
  {
   "cell_type": "code",
   "execution_count": 32,
   "id": "e747a8b3-6b99-4599-9aab-d8272e05299c",
   "metadata": {},
   "outputs": [],
   "source": [
    "# 整合以上统计信息\n",
    "object_pos = object_pos %>% \n",
    "mutate_variable_na_freq(according_to_samples = qc_id) %>% \n",
    "mutate_variable_na_freq(according_to_samples = KO_CLP_id) %>% \n",
    "mutate_variable_na_freq(according_to_samples = KO_NC_id)%>% \n",
    "mutate_variable_na_freq(according_to_samples = WT_CLP_id) %>% \n",
    "mutate_variable_na_freq(according_to_samples = WT_NC_id)"
   ]
  },
  {
   "cell_type": "code",
   "execution_count": 33,
   "id": "b6636f1e-c4a9-4fe5-8df2-39a8df296912",
   "metadata": {},
   "outputs": [
    {
     "data": {
      "text/html": [
       "<style>\n",
       ".list-inline {list-style: none; margin:0; padding: 0}\n",
       ".list-inline>li {display: inline-block}\n",
       ".list-inline>li:not(:last-child)::after {content: \"\\00b7\"; padding: 0 .5ex}\n",
       "</style>\n",
       "<ol class=list-inline><li>1333</li><li>8</li></ol>\n"
      ],
      "text/latex": [
       "\\begin{enumerate*}\n",
       "\\item 1333\n",
       "\\item 8\n",
       "\\end{enumerate*}\n"
      ],
      "text/markdown": [
       "1. 1333\n",
       "2. 8\n",
       "\n",
       "\n"
      ],
      "text/plain": [
       "[1] 1333    8"
      ]
     },
     "metadata": {},
     "output_type": "display_data"
    }
   ],
   "source": [
    "dim(extract_variable_info(object_pos))"
   ]
  },
  {
   "cell_type": "code",
   "execution_count": 34,
   "id": "17f55ea4-2af8-480c-9eb0-57342dc8c7ac",
   "metadata": {},
   "outputs": [],
   "source": [
    "qc_id = object_neg %>% activate_mass_dataset(what = \"sample_info\") %>% filter(class == \"QC\") %>% pull(sample_id)\n",
    "\n",
    "# 统计对照组中的MV占比\n",
    "KO_CLP_id = object_neg %>% activate_mass_dataset(what = \"sample_info\") %>% \n",
    "filter(class == \"KO-CLP\") %>% pull(sample_id)\n",
    "\n",
    "\n",
    "\n",
    "KO_NC_id = object_neg %>% activate_mass_dataset(what = \"sample_info\") %>% \n",
    "filter(class == \"KO-NC\") %>% pull(sample_id)\n",
    "WT_CLP_id = object_neg %>% activate_mass_dataset(what = \"sample_info\") %>% \n",
    "filter(class == \"WT-CLP\") %>% pull(sample_id)\n",
    "WT_NC_id = object_neg %>% activate_mass_dataset(what = \"sample_info\") %>% \n",
    "filter(class == \"KO-NC\") %>% pull(sample_id)"
   ]
  },
  {
   "cell_type": "code",
   "execution_count": 35,
   "id": "6f31f0d9-e237-4622-91c4-a39f0d943f46",
   "metadata": {},
   "outputs": [],
   "source": [
    "# 整合以上统计信息\n",
    "object_neg = object_neg %>% \n",
    "mutate_variable_na_freq(according_to_samples = qc_id) %>% \n",
    "mutate_variable_na_freq(according_to_samples = KO_CLP_id) %>% \n",
    "mutate_variable_na_freq(according_to_samples = KO_NC_id)%>% \n",
    "mutate_variable_na_freq(according_to_samples = WT_CLP_id) %>% \n",
    "mutate_variable_na_freq(according_to_samples = WT_NC_id)"
   ]
  },
  {
   "cell_type": "code",
   "execution_count": null,
   "id": "cdb23357-b0ff-4346-91ba-4ad928d030a6",
   "metadata": {},
   "outputs": [],
   "source": []
  },
  {
   "cell_type": "code",
   "execution_count": 37,
   "id": "986677dc-fcf2-405f-b2dc-b8fbd9534eb6",
   "metadata": {},
   "outputs": [
    {
     "data": {
      "text/html": [
       "27468"
      ],
      "text/latex": [
       "27468"
      ],
      "text/markdown": [
       "27468"
      ],
      "text/plain": [
       "[1] 27468"
      ]
     },
     "metadata": {},
     "output_type": "display_data"
    },
    {
     "data": {
      "text/html": [
       "0"
      ],
      "text/latex": [
       "0"
      ],
      "text/markdown": [
       "0"
      ],
      "text/plain": [
       "[1] 0"
      ]
     },
     "metadata": {},
     "output_type": "display_data"
    },
    {
     "data": {
      "text/html": [
       "22719"
      ],
      "text/latex": [
       "22719"
      ],
      "text/markdown": [
       "22719"
      ],
      "text/plain": [
       "[1] 22719"
      ]
     },
     "metadata": {},
     "output_type": "display_data"
    },
    {
     "data": {
      "text/html": [
       "0"
      ],
      "text/latex": [
       "0"
      ],
      "text/markdown": [
       "0"
      ],
      "text/plain": [
       "[1] 0"
      ]
     },
     "metadata": {},
     "output_type": "display_data"
    }
   ],
   "source": [
    "get_mv_number(object_pos)\n",
    "#> [1] 148907\n",
    "\n",
    "# 填充正离子模式缺失值\n",
    "object_pos <- impute_mv(object = object_pos, method = \"knn\")\n",
    "\n",
    "# 获取正离子模式下填充后的MV数量\n",
    "get_mv_number(object_pos)\n",
    "#> [1] 0\n",
    "\n",
    "# 获取负离子模式下的MV数量\n",
    "get_mv_number(object_neg)\n",
    "#> [1] 146409\n",
    "\n",
    "# 填充正离子模式缺失值\n",
    "object_neg <- impute_mv(object = object_neg, method = \"knn\")\n",
    "\n",
    "# 获取正离子模式下填充后的MV数量\n",
    "get_mv_number(object_neg)"
   ]
  },
  {
   "cell_type": "code",
   "execution_count": 38,
   "id": "4bf94c9d-561c-414f-9882-28c5603d8dc0",
   "metadata": {},
   "outputs": [],
   "source": [
    "object_pos <- normalize_data(object_pos, method = \"median\")\n",
    "\n",
    "object_pos2 <- integrate_data(object_pos, method = \"subject_median\")"
   ]
  },
  {
   "cell_type": "code",
   "execution_count": 39,
   "id": "86d26e94-3945-465e-af70-17cc7c0d4f5b",
   "metadata": {},
   "outputs": [],
   "source": [
    "object_neg <- normalize_data(object_neg, method = \"median\")\n",
    "\n",
    "object_neg2 <- integrate_data(object_neg, method = \"subject_median\")"
   ]
  },
  {
   "cell_type": "code",
   "execution_count": 40,
   "id": "89c0acaf-8f44-4ec8-853e-126d8e90f8ae",
   "metadata": {},
   "outputs": [
    {
     "name": "stderr",
     "output_type": "stream",
     "text": [
      "\u001b[32mReading mgf data...\u001b[39m\n",
      "\n",
      "\u001b[32mReading mgf data...\u001b[39m\n",
      "\n",
      "\u001b[32mReading mgf data...\u001b[39m\n",
      "\n",
      "\u001b[32mReading mgf data...\u001b[39m\n",
      "\n",
      "\u001b[32mReading mgf data...\u001b[39m\n",
      "\n",
      "\u001b[32m85 out of 1333 variable have MS2 spectra.\u001b[39m\n",
      "\n",
      "\u001b[32mSelecting the most intense MS2 spectrum for each peak...\u001b[39m\n",
      "\n"
     ]
    }
   ],
   "source": [
    "object_pos2 <- mutate_ms2(\n",
    "  object = object_pos2,\n",
    "  column = \"rp\", # rp or hilic，对应RPLC（反相色谱）和HILIC（亲水相互作用色谱）\n",
    "  polarity = \"positive\",\n",
    "  ms1.ms2.match.mz.tol = 15,# ppm\n",
    "  ms1.ms2.match.rt.tol = 30,# seconds\n",
    "  path = \"./MS2/POS\"\n",
    ")"
   ]
  },
  {
   "cell_type": "code",
   "execution_count": 41,
   "id": "fd70a5ee-1641-45ad-90fb-e6f3b239ed0d",
   "metadata": {},
   "outputs": [
    {
     "name": "stderr",
     "output_type": "stream",
     "text": [
      "\u001b[32mReading mgf data...\u001b[39m\n",
      "\n",
      "\u001b[32mReading mgf data...\u001b[39m\n",
      "\n",
      "\u001b[32mReading mgf data...\u001b[39m\n",
      "\n",
      "\u001b[32mReading mgf data...\u001b[39m\n",
      "\n",
      "\u001b[32mReading mgf data...\u001b[39m\n",
      "\n",
      "\u001b[32m115 out of 1167 variable have MS2 spectra.\u001b[39m\n",
      "\n",
      "\u001b[32mSelecting the most intense MS2 spectrum for each peak...\u001b[39m\n",
      "\n"
     ]
    }
   ],
   "source": [
    "object_neg2 <- mutate_ms2(\n",
    "  object = object_neg2,\n",
    "  column = \"rp\",\n",
    "  polarity = \"negative\",\n",
    "  ms1.ms2.match.mz.tol = 15,\n",
    "  ms1.ms2.match.rt.tol = 30,\n",
    "  path = \"./MS2/NEG\"\n",
    ")"
   ]
  },
  {
   "cell_type": "code",
   "execution_count": null,
   "id": "f4698d15-5291-46ce-8508-b92b40d712d1",
   "metadata": {},
   "outputs": [
    {
     "name": "stderr",
     "output_type": "stream",
     "text": [
      "\u001b[33mNo MS2 data in database, so only use mz and/or RT for matching.\u001b[39m\n",
      "\n",
      "\u001b[33mYou set rt.match.tol < 10,000, so if the compounds have RT, RTs will be used for matching.\u001b[39m\n",
      "\n",
      "\n",
      "\n",
      "\u001b[41mAll done.\u001b[49m\n",
      "\n",
      "\u001b[33mNo MS2 data in database, so only use mz and/or RT for matching.\u001b[39m\n",
      "\n",
      "\u001b[33mYou set rt.match.tol < 10,000, so if the compounds have RT, RTs will be used for matching.\u001b[39m\n",
      "\n"
     ]
    }
   ],
   "source": [
    "load(\"/data/db/metabolite_annotation/kegg_ms1_database0.0.3.rda\")\n",
    "\n",
    "object_pos2 <- annotate_metabolites_mass_dataset(\n",
    "    object = object_pos2, \n",
    "    ms1.match.ppm = 25,\n",
    "    ms2.match.ppm = 30,\n",
    "    polarity = \"positive\",\n",
    "    database = kegg_ms1_database0.0.3,candidate.num = 3,\n",
    " threads =30)\n",
    "object_neg2 <- annotate_metabolites_mass_dataset(\n",
    "    object = object_neg2, \n",
    "    ms1.match.ppm = 25, \n",
    "    ms2.match.ppm = 30,\n",
    "    rt.match.tol = 30, \n",
    "    polarity = \"negative\",\n",
    " threads =30,candidate.num = 3,\n",
    "    database = kegg_ms1_database0.0.3)"
   ]
  },
  {
   "cell_type": "code",
   "execution_count": null,
   "id": "86ed62fb-87af-428a-beec-7d4bb55a6101",
   "metadata": {},
   "outputs": [],
   "source": [
    "object <- \n",
    "merge_mass_dataset(\n",
    "    x = object_pos2, \n",
    "    y = object_neg2, \n",
    "    sample_direction = \"inner\",# left, right, inner or full，此处用inner较合理\n",
    "    variable_direction = \"full\",# left, right, inner or full，此处用full合理\n",
    "    sample_by = \"sample_id\", # merge samples by what columns from sample_info\n",
    "    variable_by = c(\"variable_id\", \"mz\", \"rt\")# merge variables by what columns from variable_info\n",
    ")\n",
    "\n",
    "object"
   ]
  },
  {
   "cell_type": "code",
   "execution_count": 53,
   "id": "bf12bac6-6039-4887-858e-a19534393666",
   "metadata": {},
   "outputs": [],
   "source": [
    "object_final = object"
   ]
  },
  {
   "cell_type": "code",
   "execution_count": 54,
   "id": "4639aef3-7e02-4db2-b482-3bf930c696e9",
   "metadata": {},
   "outputs": [],
   "source": [
    "expr = tibble::rownames_to_column(object_final@expression_data, 'variable_id')"
   ]
  },
  {
   "cell_type": "code",
   "execution_count": 55,
   "id": "0464cb1b-1489-4fa6-8c51-2774d5fade2c",
   "metadata": {},
   "outputs": [
    {
     "name": "stderr",
     "output_type": "stream",
     "text": [
      "── \u001b[1mAttaching packages\u001b[22m ─────────────────────────────────────── tidyverse 1.3.2 ──\n",
      "\u001b[32m✔\u001b[39m \u001b[34mtibble \u001b[39m 3.2.1     \u001b[32m✔\u001b[39m \u001b[34mstringr\u001b[39m 1.5.0\n",
      "\u001b[32m✔\u001b[39m \u001b[34mreadr  \u001b[39m 2.1.4     \u001b[32m✔\u001b[39m \u001b[34mforcats\u001b[39m 1.0.0\n",
      "\u001b[32m✔\u001b[39m \u001b[34mpurrr  \u001b[39m 1.0.2     \n",
      "── \u001b[1mConflicts\u001b[22m ────────────────────────────────────────── tidyverse_conflicts() ──\n",
      "\u001b[31m✖\u001b[39m \u001b[34mxcms\u001b[39m::\u001b[32mcollect()\u001b[39m          masks \u001b[34mdplyr\u001b[39m::collect()\n",
      "\u001b[31m✖\u001b[39m \u001b[34mMSnbase\u001b[39m::\u001b[32mcombine()\u001b[39m       masks \u001b[34mBiobase\u001b[39m::combine(), \u001b[34mBiocGenerics\u001b[39m::combine(), \u001b[34mdplyr\u001b[39m::combine()\n",
      "\u001b[31m✖\u001b[39m \u001b[34mtidyr\u001b[39m::\u001b[32mexpand()\u001b[39m          masks \u001b[34mS4Vectors\u001b[39m::expand()\n",
      "\u001b[31m✖\u001b[39m \u001b[34mtidyr\u001b[39m::\u001b[32mextract()\u001b[39m         masks \u001b[34mmagrittr\u001b[39m::extract()\n",
      "\u001b[31m✖\u001b[39m \u001b[34mmetid\u001b[39m::\u001b[32mfilter()\u001b[39m          masks \u001b[34mmetpath\u001b[39m::filter(), \u001b[34mtidygraph\u001b[39m::filter(), \u001b[34mdplyr\u001b[39m::filter(), \u001b[34mmassdataset\u001b[39m::filter(), \u001b[34mstats\u001b[39m::filter()\n",
      "\u001b[31m✖\u001b[39m \u001b[34mS4Vectors\u001b[39m::\u001b[32mfirst()\u001b[39m       masks \u001b[34mdplyr\u001b[39m::first()\n",
      "\u001b[31m✖\u001b[39m \u001b[34mtidygraph\u001b[39m::\u001b[32mgroups()\u001b[39m      masks \u001b[34mxcms\u001b[39m::groups(), \u001b[34mdplyr\u001b[39m::groups()\n",
      "\u001b[31m✖\u001b[39m \u001b[34mdplyr\u001b[39m::\u001b[32mlag()\u001b[39m             masks \u001b[34mstats\u001b[39m::lag()\n",
      "\u001b[31m✖\u001b[39m \u001b[34mpurrr\u001b[39m::\u001b[32mmap()\u001b[39m             masks \u001b[34mmixOmics\u001b[39m::map()\n",
      "\u001b[31m✖\u001b[39m \u001b[34mBiocGenerics\u001b[39m::\u001b[32mPosition()\u001b[39m masks \u001b[34mggplot2\u001b[39m::Position(), \u001b[34mbase\u001b[39m::Position()\n",
      "\u001b[31m✖\u001b[39m \u001b[34mpurrr\u001b[39m::\u001b[32mreduce()\u001b[39m          masks \u001b[34mMSnbase\u001b[39m::reduce()\n",
      "\u001b[31m✖\u001b[39m \u001b[34mtidygraph\u001b[39m::\u001b[32mrename()\u001b[39m      masks \u001b[34mS4Vectors\u001b[39m::rename(), \u001b[34mdplyr\u001b[39m::rename(), \u001b[34mmassdataset\u001b[39m::rename()\n",
      "\u001b[31m✖\u001b[39m \u001b[34mtidygraph\u001b[39m::\u001b[32mselect()\u001b[39m      masks \u001b[34mMASS\u001b[39m::select(), \u001b[34mdplyr\u001b[39m::select(), \u001b[34mmassdataset\u001b[39m::select()\n",
      "\u001b[31m✖\u001b[39m \u001b[34mpurrr\u001b[39m::\u001b[32mset_names()\u001b[39m       masks \u001b[34mmagrittr\u001b[39m::set_names()\n"
     ]
    }
   ],
   "source": [
    "library(tidymass)\n",
    "library(tidyverse)"
   ]
  },
  {
   "cell_type": "code",
   "execution_count": 56,
   "id": "e3fb49a8-27bd-4b4b-a0fc-2d7b9f2a0bf8",
   "metadata": {},
   "outputs": [],
   "source": [
    "annotation_expr = left_join(object_final@annotation_table,expr,by='variable_id')"
   ]
  },
  {
   "cell_type": "code",
   "execution_count": null,
   "id": "e728f706-efc6-4c45-a10e-3cc0672cd475",
   "metadata": {},
   "outputs": [],
   "source": []
  },
  {
   "cell_type": "code",
   "execution_count": 60,
   "id": "b577db6a-a6e9-47fd-bb20-f84e3126140d",
   "metadata": {},
   "outputs": [],
   "source": [
    "lm = read.table('./statistical_analysis/ls2.txt',header = T,sep = '\\t')"
   ]
  },
  {
   "cell_type": "code",
   "execution_count": 63,
   "id": "69a29dab-9cdb-4f6a-bd83-2f8509dc3908",
   "metadata": {},
   "outputs": [
    {
     "data": {
      "text/html": [
       "165"
      ],
      "text/latex": [
       "165"
      ],
      "text/markdown": [
       "165"
      ],
      "text/plain": [
       "[1] 165"
      ]
     },
     "metadata": {},
     "output_type": "display_data"
    }
   ],
   "source": [
    "length(intersect(annotation_expr$KEGG.ID,lm$kegg))"
   ]
  },
  {
   "cell_type": "code",
   "execution_count": null,
   "id": "6c687adc-d344-4f90-acba-fc9d03ac7238",
   "metadata": {},
   "outputs": [],
   "source": []
  }
 ],
 "metadata": {
  "kernelspec": {
   "display_name": "R",
   "language": "R",
   "name": "ir"
  },
  "language_info": {
   "codemirror_mode": "r",
   "file_extension": ".r",
   "mimetype": "text/x-r-source",
   "name": "R",
   "pygments_lexer": "r",
   "version": "4.2.1"
  }
 },
 "nbformat": 4,
 "nbformat_minor": 5
}
