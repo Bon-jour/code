{
 "cells": [
  {
   "cell_type": "code",
   "execution_count": 5,
   "id": "50898fb9-b66c-44b7-95dd-284593dd1573",
   "metadata": {},
   "outputs": [
    {
     "name": "stderr",
     "output_type": "stream",
     "text": [
      "Warning message:\n",
      "“package ‘massconverter’ was built under R version 4.2.2”\n",
      "Warning message:\n",
      "“package ‘magrittr’ was built under R version 4.2.3”\n",
      "massconverter 1.0.3 (2023-09-08 14:15:07)\n",
      "\n",
      "Registered S3 method overwritten by 'Hmisc':\n",
      "  method       from      \n",
      "  vcov.default fit.models\n",
      "\n",
      "── \u001b[1mAttaching packages\u001b[22m ──────────────────────────────────────── tidymass 1.0.8 ──\n",
      "\n",
      "\u001b[32m✔\u001b[39m \u001b[34mmassdataset  \u001b[39m 1.0.19     \u001b[32m✔\u001b[39m \u001b[34mmetpath      \u001b[39m 1.0.5 \n",
      "\u001b[32m✔\u001b[39m \u001b[34mmassprocesser\u001b[39m 1.0.6      \u001b[32m✔\u001b[39m \u001b[34mmetid        \u001b[39m 1.2.25\n",
      "\u001b[32m✔\u001b[39m \u001b[34mmasscleaner  \u001b[39m 1.0.7      \u001b[32m✔\u001b[39m \u001b[34mmasstools    \u001b[39m 1.0.8 \n",
      "\u001b[32m✔\u001b[39m \u001b[34mmassqc       \u001b[39m 1.0.5      \u001b[32m✔\u001b[39m \u001b[34mdplyr        \u001b[39m 1.1.3 \n",
      "\u001b[32m✔\u001b[39m \u001b[34mmassstat     \u001b[39m 1.0.3      \u001b[32m✔\u001b[39m \u001b[34mggplot2      \u001b[39m 3.4.0 \n",
      "\n"
     ]
    }
   ],
   "source": [
    ".libPaths(c(\"/root/miniconda3/envs/metadoc/lib/R/library\",'/root/miniconda3/envs/Rdoc/lib/R/library'))\n",
    "library(massconverter)\n",
    "library(tidymass)"
   ]
  },
  {
   "cell_type": "code",
   "execution_count": 301,
   "id": "fbbeab00-9b36-40ee-9583-ffa846a572a1",
   "metadata": {
    "collapsed": true,
    "jupyter": {
     "outputs_hidden": true
    },
    "scrolled": true
   },
   "outputs": [
    {
     "name": "stderr",
     "output_type": "stream",
     "text": [
      "\u001b[33mQC is not in you directory, so set is as  Subject\u001b[39m\n",
      "\n",
      "\u001b[32mReading raw data, it will take a while...\u001b[39m\n",
      "\n",
      "Reading 2351 spectra from file KO-CLP1.mzXML\n",
      "\n",
      "Reading 2364 spectra from file KO-CLP2.mzXML\n",
      "\n",
      "Reading 2398 spectra from file KO-CLP3.mzXML\n",
      "\n",
      "Reading 2375 spectra from file KO-CLP4.mzXML\n",
      "\n",
      "Reading 2346 spectra from file KO-CLP5.mzXML\n",
      "\n",
      "Reading 2350 spectra from file KO-CLP6.mzXML\n",
      "\n",
      "Reading 2361 spectra from file KO-CLP7.mzXML\n",
      "\n",
      "Reading 2349 spectra from file KO-CLP8.mzXML\n",
      "\n",
      "Reading 2402 spectra from file KO-NC1.mzXML\n",
      "\n",
      "Reading 2399 spectra from file KO-NC2.mzXML\n",
      "\n",
      "Reading 2382 spectra from file KO-NC3.mzXML\n",
      "\n",
      "Reading 2404 spectra from file KO-NC4.mzXML\n",
      "\n",
      "Reading 2402 spectra from file KO-NC5.mzXML\n",
      "\n",
      "Reading 2383 spectra from file KO-NC6.mzXML\n",
      "\n",
      "Reading 2387 spectra from file KO-NC7.mzXML\n",
      "\n",
      "Reading 2374 spectra from file KO-NC8.mzXML\n",
      "\n",
      "Reading 2394 spectra from file QC1.mzXML\n",
      "\n",
      "Reading 2391 spectra from file QC2.mzXML\n",
      "\n",
      "Reading 2379 spectra from file QC3.mzXML\n",
      "\n",
      "Reading 2381 spectra from file QC4.mzXML\n",
      "\n",
      "Reading 2375 spectra from file QC5.mzXML\n",
      "\n",
      "Reading 2374 spectra from file QC6.mzXML\n",
      "\n",
      "Reading 2383 spectra from file WT-CLP1.mzXML\n",
      "\n",
      "Reading 2418 spectra from file WT-CLP2.mzXML\n",
      "\n",
      "Reading 2404 spectra from file WT-CLP3.mzXML\n",
      "\n",
      "Reading 2380 spectra from file WT-CLP4.mzXML\n",
      "\n",
      "Reading 2383 spectra from file WT-CLP5.mzXML\n",
      "\n",
      "Reading 2382 spectra from file WT-CLP6.mzXML\n",
      "\n",
      "Reading 2364 spectra from file WT-CLP7.mzXML\n",
      "\n",
      "Reading 2375 spectra from file WT-CLP8.mzXML\n",
      "\n",
      "Reading 2415 spectra from file WT-NC1.mzXML\n",
      "\n",
      "Reading 2414 spectra from file WT-NC2.mzXML\n",
      "\n",
      "Reading 2410 spectra from file WT-NC3.mzXML\n",
      "\n",
      "Reading 2397 spectra from file WT-NC4.mzXML\n",
      "\n",
      "Reading 2397 spectra from file WT-NC5.mzXML\n",
      "\n",
      "Reading 2385 spectra from file WT-NC6.mzXML\n",
      "\n",
      "Reading 2376 spectra from file WT-NC7.mzXML\n",
      "\n",
      "Reading 2401 spectra from file WT-NC8.mzXML\n",
      "\n",
      "\u001b[31mOK\u001b[39m\n",
      "\n",
      "\u001b[32mDetecting peaks...\u001b[39m\n",
      "\n"
     ]
    },
    {
     "name": "stdout",
     "output_type": "stream",
     "text": [
      "  |                                                                      |   0%"
     ]
    },
    {
     "name": "stderr",
     "output_type": "stream",
     "text": [
      "R_zmq_msg_send errno: 4 strerror: Interrupted system call\n",
      "R_zmq_msg_send errno: 4 strerror: Interrupted system call\n",
      "R_zmq_msg_send errno: 4 strerror: Interrupted system call\n",
      "R_zmq_msg_send errno: 4 strerror: Interrupted system call\n",
      "\n",
      "\n"
     ]
    },
    {
     "name": "stdout",
     "output_type": "stream",
     "text": [
      "  |==                                                                    |   3%"
     ]
    },
    {
     "name": "stderr",
     "output_type": "stream",
     "text": [
      "R_zmq_msg_send errno: 4 strerror: Interrupted system call\n",
      "R_zmq_msg_send errno: 4 strerror: Interrupted system call\n",
      "R_zmq_msg_send errno: 4 strerror: Interrupted system call\n",
      "R_zmq_msg_send errno: 4 strerror: Interrupted system call\n",
      "\n",
      "\n"
     ]
    },
    {
     "name": "stdout",
     "output_type": "stream",
     "text": [
      "  |====                                                                  |   5%"
     ]
    },
    {
     "name": "stderr",
     "output_type": "stream",
     "text": [
      "R_zmq_msg_send errno: 4 strerror: Interrupted system call\n",
      "R_zmq_msg_send errno: 4 strerror: Interrupted system call\n",
      "R_zmq_msg_send errno: 4 strerror: Interrupted system call\n",
      "R_zmq_msg_send errno: 4 strerror: Interrupted system call\n",
      "\n",
      "\n"
     ]
    },
    {
     "name": "stdout",
     "output_type": "stream",
     "text": [
      "  |======                                                                |   8%"
     ]
    },
    {
     "name": "stderr",
     "output_type": "stream",
     "text": [
      "R_zmq_msg_send errno: 4 strerror: Interrupted system call\n",
      "R_zmq_msg_send errno: 4 strerror: Interrupted system call\n",
      "R_zmq_msg_send errno: 4 strerror: Interrupted system call\n",
      "R_zmq_msg_send errno: 4 strerror: Interrupted system call\n",
      "\n",
      "\n"
     ]
    },
    {
     "name": "stdout",
     "output_type": "stream",
     "text": [
      "  |=======                                                               |  11%"
     ]
    },
    {
     "name": "stderr",
     "output_type": "stream",
     "text": [
      "R_zmq_msg_send errno: 4 strerror: Interrupted system call\n",
      "R_zmq_msg_send errno: 4 strerror: Interrupted system call\n",
      "R_zmq_msg_send errno: 4 strerror: Interrupted system call\n",
      "R_zmq_msg_send errno: 4 strerror: Interrupted system call\n",
      "\n",
      "\n"
     ]
    },
    {
     "name": "stdout",
     "output_type": "stream",
     "text": [
      "  |=========                                                             |  13%"
     ]
    },
    {
     "name": "stderr",
     "output_type": "stream",
     "text": [
      "R_zmq_msg_send errno: 4 strerror: Interrupted system call\n",
      "R_zmq_msg_send errno: 4 strerror: Interrupted system call\n",
      "R_zmq_msg_send errno: 4 strerror: Interrupted system call\n",
      "R_zmq_msg_send errno: 4 strerror: Interrupted system call\n",
      "\n",
      "\n"
     ]
    },
    {
     "name": "stdout",
     "output_type": "stream",
     "text": [
      "  |===========                                                           |  16%"
     ]
    },
    {
     "name": "stderr",
     "output_type": "stream",
     "text": [
      "R_zmq_msg_send errno: 4 strerror: Interrupted system call\n",
      "R_zmq_msg_send errno: 4 strerror: Interrupted system call\n",
      "R_zmq_msg_send errno: 4 strerror: Interrupted system call\n",
      "R_zmq_msg_send errno: 4 strerror: Interrupted system call\n",
      "\n",
      "\n"
     ]
    },
    {
     "name": "stdout",
     "output_type": "stream",
     "text": [
      "  |=============                                                         |  18%"
     ]
    },
    {
     "name": "stderr",
     "output_type": "stream",
     "text": [
      "R_zmq_msg_send errno: 4 strerror: Interrupted system call\n",
      "R_zmq_msg_send errno: 4 strerror: Interrupted system call\n",
      "R_zmq_msg_send errno: 4 strerror: Interrupted system call\n",
      "R_zmq_msg_send errno: 4 strerror: Interrupted system call\n",
      "\n",
      "\n"
     ]
    },
    {
     "name": "stdout",
     "output_type": "stream",
     "text": [
      "  |===============                                                       |  21%"
     ]
    },
    {
     "name": "stderr",
     "output_type": "stream",
     "text": [
      "R_zmq_msg_send errno: 4 strerror: Interrupted system call\n",
      "R_zmq_msg_send errno: 4 strerror: Interrupted system call\n",
      "R_zmq_msg_send errno: 4 strerror: Interrupted system call\n",
      "R_zmq_msg_send errno: 4 strerror: Interrupted system call\n",
      "\n",
      "\n"
     ]
    },
    {
     "name": "stdout",
     "output_type": "stream",
     "text": [
      "  |=================                                                     |  24%"
     ]
    },
    {
     "name": "stderr",
     "output_type": "stream",
     "text": [
      "R_zmq_msg_send errno: 4 strerror: Interrupted system call\n",
      "R_zmq_msg_send errno: 4 strerror: Interrupted system call\n",
      "R_zmq_msg_send errno: 4 strerror: Interrupted system call\n",
      "R_zmq_msg_send errno: 4 strerror: Interrupted system call\n",
      "\n",
      "\n"
     ]
    },
    {
     "name": "stdout",
     "output_type": "stream",
     "text": [
      "  |==================                                                    |  26%"
     ]
    },
    {
     "name": "stderr",
     "output_type": "stream",
     "text": [
      "R_zmq_msg_send errno: 4 strerror: Interrupted system call\n",
      "R_zmq_msg_send errno: 4 strerror: Interrupted system call\n",
      "R_zmq_msg_send errno: 4 strerror: Interrupted system call\n",
      "R_zmq_msg_send errno: 4 strerror: Interrupted system call\n",
      "\n",
      "\n"
     ]
    },
    {
     "name": "stdout",
     "output_type": "stream",
     "text": [
      "  |====================                                                  |  29%"
     ]
    },
    {
     "name": "stderr",
     "output_type": "stream",
     "text": [
      "R_zmq_msg_send errno: 4 strerror: Interrupted system call\n",
      "R_zmq_msg_send errno: 4 strerror: Interrupted system call\n",
      "R_zmq_msg_send errno: 4 strerror: Interrupted system call\n",
      "R_zmq_msg_send errno: 4 strerror: Interrupted system call\n",
      "\n",
      "\n"
     ]
    },
    {
     "name": "stdout",
     "output_type": "stream",
     "text": [
      "  |======================                                                |  32%"
     ]
    },
    {
     "name": "stderr",
     "output_type": "stream",
     "text": [
      "R_zmq_msg_send errno: 4 strerror: Interrupted system call\n",
      "R_zmq_msg_send errno: 4 strerror: Interrupted system call\n",
      "R_zmq_msg_send errno: 4 strerror: Interrupted system call\n",
      "R_zmq_msg_send errno: 4 strerror: Interrupted system call\n",
      "\n",
      "\n"
     ]
    },
    {
     "name": "stdout",
     "output_type": "stream",
     "text": [
      "  |========================                                              |  34%"
     ]
    },
    {
     "name": "stderr",
     "output_type": "stream",
     "text": [
      "R_zmq_msg_send errno: 4 strerror: Interrupted system call\n",
      "R_zmq_msg_send errno: 4 strerror: Interrupted system call\n",
      "R_zmq_msg_send errno: 4 strerror: Interrupted system call\n",
      "R_zmq_msg_send errno: 4 strerror: Interrupted system call\n",
      "\n",
      "\n"
     ]
    },
    {
     "name": "stdout",
     "output_type": "stream",
     "text": [
      "  |==========================                                            |  37%"
     ]
    },
    {
     "name": "stderr",
     "output_type": "stream",
     "text": [
      "R_zmq_msg_send errno: 4 strerror: Interrupted system call\n",
      "R_zmq_msg_send errno: 4 strerror: Interrupted system call\n",
      "R_zmq_msg_send errno: 4 strerror: Interrupted system call\n",
      "R_zmq_msg_send errno: 4 strerror: Interrupted system call\n",
      "\n",
      "\n"
     ]
    },
    {
     "name": "stdout",
     "output_type": "stream",
     "text": [
      "  |============================                                          |  39%"
     ]
    },
    {
     "name": "stderr",
     "output_type": "stream",
     "text": [
      "R_zmq_msg_send errno: 4 strerror: Interrupted system call\n",
      "R_zmq_msg_send errno: 4 strerror: Interrupted system call\n",
      "R_zmq_msg_send errno: 4 strerror: Interrupted system call\n",
      "R_zmq_msg_send errno: 4 strerror: Interrupted system call\n",
      "\n",
      "\n"
     ]
    },
    {
     "name": "stdout",
     "output_type": "stream",
     "text": [
      "  |=============================                                         |  42%"
     ]
    },
    {
     "name": "stderr",
     "output_type": "stream",
     "text": [
      "R_zmq_msg_send errno: 4 strerror: Interrupted system call\n",
      "R_zmq_msg_send errno: 4 strerror: Interrupted system call\n",
      "R_zmq_msg_send errno: 4 strerror: Interrupted system call\n",
      "R_zmq_msg_send errno: 4 strerror: Interrupted system call\n",
      "\n",
      "\n"
     ]
    },
    {
     "name": "stdout",
     "output_type": "stream",
     "text": [
      "  |===============================                                       |  45%"
     ]
    },
    {
     "name": "stderr",
     "output_type": "stream",
     "text": [
      "R_zmq_msg_send errno: 4 strerror: Interrupted system call\n",
      "R_zmq_msg_send errno: 4 strerror: Interrupted system call\n",
      "R_zmq_msg_send errno: 4 strerror: Interrupted system call\n",
      "R_zmq_msg_send errno: 4 strerror: Interrupted system call\n",
      "\n",
      "\n"
     ]
    },
    {
     "name": "stdout",
     "output_type": "stream",
     "text": [
      "  |=================================                                     |  47%"
     ]
    },
    {
     "name": "stderr",
     "output_type": "stream",
     "text": [
      "R_zmq_msg_send errno: 4 strerror: Interrupted system call\n",
      "R_zmq_msg_send errno: 4 strerror: Interrupted system call\n",
      "R_zmq_msg_send errno: 4 strerror: Interrupted system call\n",
      "R_zmq_msg_send errno: 4 strerror: Interrupted system call\n",
      "\n",
      "\n"
     ]
    },
    {
     "name": "stdout",
     "output_type": "stream",
     "text": [
      "  |===================================                                   |  50%"
     ]
    },
    {
     "name": "stderr",
     "output_type": "stream",
     "text": [
      "R_zmq_msg_send errno: 4 strerror: Interrupted system call\n",
      "R_zmq_msg_send errno: 4 strerror: Interrupted system call\n",
      "R_zmq_msg_send errno: 4 strerror: Interrupted system call\n",
      "R_zmq_msg_send errno: 4 strerror: Interrupted system call\n",
      "\n",
      "\n"
     ]
    },
    {
     "name": "stdout",
     "output_type": "stream",
     "text": [
      "  |=====================================                                 |  53%"
     ]
    },
    {
     "name": "stderr",
     "output_type": "stream",
     "text": [
      "R_zmq_msg_send errno: 4 strerror: Interrupted system call\n",
      "R_zmq_msg_send errno: 4 strerror: Interrupted system call\n",
      "R_zmq_msg_send errno: 4 strerror: Interrupted system call\n",
      "R_zmq_msg_send errno: 4 strerror: Interrupted system call\n",
      "\n",
      "\n"
     ]
    },
    {
     "name": "stdout",
     "output_type": "stream",
     "text": [
      "  |=======================================                               |  55%"
     ]
    },
    {
     "name": "stderr",
     "output_type": "stream",
     "text": [
      "R_zmq_msg_send errno: 4 strerror: Interrupted system call\n",
      "R_zmq_msg_send errno: 4 strerror: Interrupted system call\n",
      "R_zmq_msg_send errno: 4 strerror: Interrupted system call\n",
      "R_zmq_msg_send errno: 4 strerror: Interrupted system call\n",
      "\n",
      "\n"
     ]
    },
    {
     "name": "stdout",
     "output_type": "stream",
     "text": [
      "  |=========================================                             |  58%"
     ]
    },
    {
     "name": "stderr",
     "output_type": "stream",
     "text": [
      "R_zmq_msg_send errno: 4 strerror: Interrupted system call\n",
      "R_zmq_msg_send errno: 4 strerror: Interrupted system call\n",
      "R_zmq_msg_send errno: 4 strerror: Interrupted system call\n",
      "R_zmq_msg_send errno: 4 strerror: Interrupted system call\n",
      "\n",
      "\n"
     ]
    },
    {
     "name": "stdout",
     "output_type": "stream",
     "text": [
      "  |==========================================                            |  61%"
     ]
    },
    {
     "name": "stderr",
     "output_type": "stream",
     "text": [
      "R_zmq_msg_send errno: 4 strerror: Interrupted system call\n",
      "R_zmq_msg_send errno: 4 strerror: Interrupted system call\n",
      "R_zmq_msg_send errno: 4 strerror: Interrupted system call\n",
      "R_zmq_msg_send errno: 4 strerror: Interrupted system call\n",
      "\n",
      "\n"
     ]
    },
    {
     "name": "stdout",
     "output_type": "stream",
     "text": [
      "  |============================================                          |  63%"
     ]
    },
    {
     "name": "stderr",
     "output_type": "stream",
     "text": [
      "R_zmq_msg_send errno: 4 strerror: Interrupted system call\n",
      "R_zmq_msg_send errno: 4 strerror: Interrupted system call\n",
      "R_zmq_msg_send errno: 4 strerror: Interrupted system call\n",
      "R_zmq_msg_send errno: 4 strerror: Interrupted system call\n",
      "\n",
      "\n"
     ]
    },
    {
     "name": "stdout",
     "output_type": "stream",
     "text": [
      "  |==============================================                        |  66%"
     ]
    },
    {
     "name": "stderr",
     "output_type": "stream",
     "text": [
      "R_zmq_msg_send errno: 4 strerror: Interrupted system call\n",
      "R_zmq_msg_send errno: 4 strerror: Interrupted system call\n",
      "R_zmq_msg_send errno: 4 strerror: Interrupted system call\n",
      "R_zmq_msg_send errno: 4 strerror: Interrupted system call\n",
      "\n",
      "\n"
     ]
    },
    {
     "name": "stdout",
     "output_type": "stream",
     "text": [
      "  |================================================                      |  68%"
     ]
    },
    {
     "name": "stderr",
     "output_type": "stream",
     "text": [
      "R_zmq_msg_send errno: 4 strerror: Interrupted system call\n",
      "R_zmq_msg_send errno: 4 strerror: Interrupted system call\n",
      "R_zmq_msg_send errno: 4 strerror: Interrupted system call\n",
      "R_zmq_msg_send errno: 4 strerror: Interrupted system call\n",
      "\n",
      "\n"
     ]
    },
    {
     "name": "stdout",
     "output_type": "stream",
     "text": [
      "  |==================================================                    |  71%"
     ]
    },
    {
     "name": "stderr",
     "output_type": "stream",
     "text": [
      "R_zmq_msg_send errno: 4 strerror: Interrupted system call\n",
      "R_zmq_msg_send errno: 4 strerror: Interrupted system call\n",
      "R_zmq_msg_send errno: 4 strerror: Interrupted system call\n",
      "R_zmq_msg_send errno: 4 strerror: Interrupted system call\n",
      "\n",
      "\n"
     ]
    },
    {
     "name": "stdout",
     "output_type": "stream",
     "text": [
      "  |====================================================                  |  74%"
     ]
    },
    {
     "name": "stderr",
     "output_type": "stream",
     "text": [
      "R_zmq_msg_send errno: 4 strerror: Interrupted system call\n",
      "R_zmq_msg_send errno: 4 strerror: Interrupted system call\n",
      "R_zmq_msg_send errno: 4 strerror: Interrupted system call\n",
      "R_zmq_msg_send errno: 4 strerror: Interrupted system call\n",
      "\n",
      "\n"
     ]
    },
    {
     "name": "stdout",
     "output_type": "stream",
     "text": [
      "  |=====================================================                 |  76%"
     ]
    },
    {
     "name": "stderr",
     "output_type": "stream",
     "text": [
      "R_zmq_msg_send errno: 4 strerror: Interrupted system call\n",
      "R_zmq_msg_send errno: 4 strerror: Interrupted system call\n",
      "R_zmq_msg_send errno: 4 strerror: Interrupted system call\n",
      "R_zmq_msg_send errno: 4 strerror: Interrupted system call\n",
      "\n",
      "\n"
     ]
    },
    {
     "name": "stdout",
     "output_type": "stream",
     "text": [
      "  |=======================================================               |  79%"
     ]
    },
    {
     "name": "stderr",
     "output_type": "stream",
     "text": [
      "R_zmq_msg_send errno: 4 strerror: Interrupted system call\n",
      "R_zmq_msg_send errno: 4 strerror: Interrupted system call\n",
      "R_zmq_msg_send errno: 4 strerror: Interrupted system call\n",
      "R_zmq_msg_send errno: 4 strerror: Interrupted system call\n",
      "\n",
      "\n"
     ]
    },
    {
     "name": "stdout",
     "output_type": "stream",
     "text": [
      "  |=========================================================             |  82%"
     ]
    },
    {
     "name": "stderr",
     "output_type": "stream",
     "text": [
      "R_zmq_msg_send errno: 4 strerror: Interrupted system call\n",
      "R_zmq_msg_send errno: 4 strerror: Interrupted system call\n",
      "R_zmq_msg_send errno: 4 strerror: Interrupted system call\n",
      "R_zmq_msg_send errno: 4 strerror: Interrupted system call\n",
      "\n",
      "\n"
     ]
    },
    {
     "name": "stdout",
     "output_type": "stream",
     "text": [
      "  |===========================================================           |  84%"
     ]
    },
    {
     "name": "stderr",
     "output_type": "stream",
     "text": [
      "R_zmq_msg_send errno: 4 strerror: Interrupted system call\n",
      "R_zmq_msg_send errno: 4 strerror: Interrupted system call\n",
      "R_zmq_msg_send errno: 4 strerror: Interrupted system call\n",
      "R_zmq_msg_send errno: 4 strerror: Interrupted system call\n",
      "\n",
      "\n"
     ]
    },
    {
     "name": "stdout",
     "output_type": "stream",
     "text": [
      "  |=============================================================         |  87%"
     ]
    },
    {
     "name": "stderr",
     "output_type": "stream",
     "text": [
      "R_zmq_msg_send errno: 4 strerror: Interrupted system call\n",
      "R_zmq_msg_send errno: 4 strerror: Interrupted system call\n",
      "R_zmq_msg_send errno: 4 strerror: Interrupted system call\n",
      "R_zmq_msg_send errno: 4 strerror: Interrupted system call\n",
      "\n",
      "\n"
     ]
    },
    {
     "name": "stdout",
     "output_type": "stream",
     "text": [
      "  |===============================================================       |  89%"
     ]
    },
    {
     "name": "stderr",
     "output_type": "stream",
     "text": [
      "R_zmq_msg_send errno: 4 strerror: Interrupted system call\n",
      "R_zmq_msg_send errno: 4 strerror: Interrupted system call\n",
      "R_zmq_msg_send errno: 4 strerror: Interrupted system call\n",
      "R_zmq_msg_send errno: 4 strerror: Interrupted system call\n",
      "\n",
      "\n"
     ]
    },
    {
     "name": "stdout",
     "output_type": "stream",
     "text": [
      "  |================================================================      |  92%"
     ]
    },
    {
     "name": "stderr",
     "output_type": "stream",
     "text": [
      "R_zmq_msg_send errno: 4 strerror: Interrupted system call\n",
      "R_zmq_msg_send errno: 4 strerror: Interrupted system call\n",
      "R_zmq_msg_send errno: 4 strerror: Interrupted system call\n",
      "R_zmq_msg_send errno: 4 strerror: Interrupted system call\n",
      "\n",
      "\n"
     ]
    },
    {
     "name": "stdout",
     "output_type": "stream",
     "text": [
      "  |==================================================================    |  95%"
     ]
    },
    {
     "name": "stderr",
     "output_type": "stream",
     "text": [
      "R_zmq_msg_send errno: 4 strerror: Interrupted system call\n",
      "R_zmq_msg_send errno: 4 strerror: Interrupted system call\n",
      "R_zmq_msg_send errno: 4 strerror: Interrupted system call\n",
      "R_zmq_msg_send errno: 4 strerror: Interrupted system call\n",
      "\n",
      "\n"
     ]
    },
    {
     "name": "stdout",
     "output_type": "stream",
     "text": [
      "  |====================================================================  |  97%"
     ]
    },
    {
     "name": "stderr",
     "output_type": "stream",
     "text": [
      "R_zmq_msg_send errno: 4 strerror: Interrupted system call\n",
      "R_zmq_msg_send errno: 4 strerror: Interrupted system call\n",
      "R_zmq_msg_send errno: 4 strerror: Interrupted system call\n",
      "R_zmq_msg_send errno: 4 strerror: Interrupted system call\n",
      "\n",
      "\n"
     ]
    },
    {
     "name": "stdout",
     "output_type": "stream",
     "text": [
      "  |======================================================================| 100%\n",
      "\n"
     ]
    },
    {
     "name": "stderr",
     "output_type": "stream",
     "text": [
      "\u001b[31mOK\u001b[39m\n",
      "\n",
      "\u001b[32mCorrecting rentention time...\u001b[39m\n",
      "\n",
      "Sample number 19 used as center sample.\n",
      "\n",
      "R_zmq_msg_send errno: 4 strerror: Interrupted system call\n",
      "R_zmq_msg_send errno: 4 strerror: Interrupted system call\n",
      "\n",
      "\n",
      "R_zmq_msg_send errno: 4 strerror: Interrupted system call\n",
      "R_zmq_msg_send errno: 4 strerror: Interrupted system call\n",
      "\n",
      "\n",
      "R_zmq_msg_send errno: 4 strerror: Interrupted system call\n",
      "R_zmq_msg_send errno: 4 strerror: Interrupted system call\n",
      "\n",
      "\n",
      "R_zmq_msg_send errno: 4 strerror: Interrupted system call\n",
      "R_zmq_msg_send errno: 4 strerror: Interrupted system call\n",
      "\n",
      "\n",
      "R_zmq_msg_send errno: 4 strerror: Interrupted system call\n",
      "R_zmq_msg_send errno: 4 strerror: Interrupted system call\n",
      "\n",
      "\n",
      "R_zmq_msg_send errno: 4 strerror: Interrupted system call\n",
      "R_zmq_msg_send errno: 4 strerror: Interrupted system call\n",
      "\n",
      "\n",
      "R_zmq_msg_send errno: 4 strerror: Interrupted system call\n",
      "R_zmq_msg_send errno: 4 strerror: Interrupted system call\n",
      "\n",
      "\n",
      "R_zmq_msg_send errno: 4 strerror: Interrupted system call\n",
      "R_zmq_msg_send errno: 4 strerror: Interrupted system call\n",
      "\n",
      "\n",
      "R_zmq_msg_send errno: 4 strerror: Interrupted system call\n",
      "R_zmq_msg_send errno: 4 strerror: Interrupted system call\n",
      "\n",
      "\n",
      "R_zmq_msg_send errno: 4 strerror: Interrupted system call\n",
      "R_zmq_msg_send errno: 4 strerror: Interrupted system call\n",
      "\n",
      "\n",
      "R_zmq_msg_send errno: 4 strerror: Interrupted system call\n",
      "R_zmq_msg_send errno: 4 strerror: Interrupted system call\n",
      "\n",
      "\n",
      "R_zmq_msg_send errno: 4 strerror: Interrupted system call\n",
      "R_zmq_msg_send errno: 4 strerror: Interrupted system call\n",
      "\n",
      "\n",
      "R_zmq_msg_send errno: 4 strerror: Interrupted system call\n",
      "R_zmq_msg_send errno: 4 strerror: Interrupted system call\n",
      "\n",
      "\n",
      "R_zmq_msg_send errno: 4 strerror: Interrupted system call\n",
      "R_zmq_msg_send errno: 4 strerror: Interrupted system call\n",
      "\n",
      "\n",
      "R_zmq_msg_send errno: 4 strerror: Interrupted system call\n",
      "R_zmq_msg_send errno: 4 strerror: Interrupted system call\n",
      "\n",
      "\n",
      "R_zmq_msg_send errno: 4 strerror: Interrupted system call\n",
      "R_zmq_msg_send errno: 4 strerror: Interrupted system call\n",
      "\n",
      "\n",
      "R_zmq_msg_send errno: 4 strerror: Interrupted system call\n",
      "R_zmq_msg_send errno: 4 strerror: Interrupted system call\n",
      "\n",
      "\n",
      "R_zmq_msg_send errno: 4 strerror: Interrupted system call\n",
      "R_zmq_msg_send errno: 4 strerror: Interrupted system call\n",
      "\n",
      "\n",
      "R_zmq_msg_send errno: 4 strerror: Interrupted system call\n",
      "R_zmq_msg_send errno: 4 strerror: Interrupted system call\n",
      "\n",
      "\n",
      "R_zmq_msg_send errno: 4 strerror: Interrupted system call\n",
      "R_zmq_msg_send errno: 4 strerror: Interrupted system call\n",
      "\n",
      "\n",
      "R_zmq_msg_send errno: 4 strerror: Interrupted system call\n",
      "R_zmq_msg_send errno: 4 strerror: Interrupted system call\n",
      "\n",
      "\n",
      "R_zmq_msg_send errno: 4 strerror: Interrupted system call\n",
      "R_zmq_msg_send errno: 4 strerror: Interrupted system call\n",
      "\n",
      "\n",
      "R_zmq_msg_send errno: 4 strerror: Interrupted system call\n",
      "R_zmq_msg_send errno: 4 strerror: Interrupted system call\n",
      "\n",
      "\n",
      "R_zmq_msg_send errno: 4 strerror: Interrupted system call\n",
      "R_zmq_msg_send errno: 4 strerror: Interrupted system call\n",
      "\n",
      "\n",
      "R_zmq_msg_send errno: 4 strerror: Interrupted system call\n",
      "R_zmq_msg_send errno: 4 strerror: Interrupted system call\n",
      "\n",
      "\n",
      "R_zmq_msg_send errno: 4 strerror: Interrupted system call\n",
      "R_zmq_msg_send errno: 4 strerror: Interrupted system call\n",
      "\n",
      "\n",
      "R_zmq_msg_send errno: 4 strerror: Interrupted system call\n",
      "R_zmq_msg_send errno: 4 strerror: Interrupted system call\n",
      "\n",
      "\n",
      "R_zmq_msg_send errno: 4 strerror: Interrupted system call\n",
      "R_zmq_msg_send errno: 4 strerror: Interrupted system call\n",
      "R_zmq_msg_send errno: 4 strerror: Interrupted system call\n",
      "R_zmq_msg_send errno: 4 strerror: Interrupted system call\n",
      "\n",
      "\n",
      "R_zmq_msg_send errno: 4 strerror: Interrupted system call\n",
      "R_zmq_msg_send errno: 4 strerror: Interrupted system call\n",
      "\n",
      "\n",
      "R_zmq_msg_send errno: 4 strerror: Interrupted system call\n",
      "R_zmq_msg_send errno: 4 strerror: Interrupted system call\n",
      "\n",
      "\n",
      "R_zmq_msg_send errno: 4 strerror: Interrupted system call\n",
      "R_zmq_msg_send errno: 4 strerror: Interrupted system call\n",
      "\n",
      "\n",
      "R_zmq_msg_send errno: 4 strerror: Interrupted system call\n",
      "R_zmq_msg_send errno: 4 strerror: Interrupted system call\n",
      "\n",
      "\n",
      "R_zmq_msg_send errno: 4 strerror: Interrupted system call\n",
      "R_zmq_msg_send errno: 4 strerror: Interrupted system call\n",
      "\n",
      "\n",
      "R_zmq_msg_send errno: 4 strerror: Interrupted system call\n",
      "R_zmq_msg_send errno: 4 strerror: Interrupted system call\n",
      "\n",
      "\n",
      "R_zmq_msg_send errno: 4 strerror: Interrupted system call\n",
      "R_zmq_msg_send errno: 4 strerror: Interrupted system call\n",
      "\n",
      "\n",
      "R_zmq_msg_send errno: 4 strerror: Interrupted system call\n",
      "R_zmq_msg_send errno: 4 strerror: Interrupted system call\n",
      "\n",
      "\n",
      "R_zmq_msg_send errno: 4 strerror: Interrupted system call\n",
      "R_zmq_msg_send errno: 4 strerror: Interrupted system call\n",
      "\n",
      "\n",
      "Apply retention time correction performed on MS1 to spectra from all MS levels\n",
      "\n",
      "Applying retention time adjustment to the identified chromatographic peaks ... \n",
      "OK\n",
      "\n",
      "\u001b[31mOK\u001b[39m\n",
      "\n",
      "\u001b[32mGrouping peaks across samples...\u001b[39m\n",
      "\n",
      "Processing 78270 mz slices ... \n",
      "OK\n",
      "\n",
      "\u001b[31mOK\u001b[39m\n",
      "\n",
      "\u001b[32mOutputting peak table...\u001b[39m\n",
      "\n",
      "\u001b[31mOK\u001b[39m\n",
      "\n",
      "\u001b[31mOK\u001b[39m\n",
      "\n",
      "\u001b[41mAll done!\u001b[49m\n",
      "\n"
     ]
    }
   ],
   "source": [
    "massprocesser::process_data(\n",
    "  path = \"./MS1/POS/\",\n",
    "  polarity = \"positive\",\n",
    "  ppm = 10,\n",
    "  peakwidth = c(5, 80),\n",
    "  threads = 10,\n",
    "  output_tic = FALSE,\n",
    "  output_bpc = FALSE,\n",
    "  output_rt_correction_plot = FALSE,\n",
    "  min_fraction = 0.2\n",
    ")"
   ]
  },
  {
   "cell_type": "code",
   "execution_count": 483,
   "id": "8522e18c-c1eb-4c14-837b-801293dabe2a",
   "metadata": {
    "collapsed": true,
    "jupyter": {
     "outputs_hidden": true
    }
   },
   "outputs": [
    {
     "data": {
      "text/plain": [
       "\u001b[33m-------------------- \n",
       "\u001b[39m\u001b[32mmassdataset version: 1.0.19 \n",
       "\u001b[39m\u001b[33m-------------------- \n",
       "\u001b[39m\u001b[32m1.expression_data:\u001b[39m[ 1333 x 38 data.frame]\n",
       "\u001b[32m2.sample_info:\u001b[39m[ 38 x 4 data.frame]\n",
       "\u001b[32m3.variable_info:\u001b[39m[ 1333 x 3 data.frame]\n",
       "\u001b[32m4.sample_info_note:\u001b[39m[ 4 x 2 data.frame]\n",
       "\u001b[32m5.variable_info_note:\u001b[39m[ 3 x 2 data.frame]\n",
       "\u001b[32m6.ms2_data:\u001b[39m[ 0 variables x 0 MS2 spectra]\n",
       "\u001b[33m-------------------- \n",
       "\u001b[39m\u001b[32mProcessing information (extract_process_info())\n",
       "\u001b[39m\u001b[32m2 processings in total\n",
       "\u001b[39m\u001b[32mcreate_mass_dataset ---------- \n",
       "\u001b[39m      Package         Function.used                Time\n",
       "1 massdataset create_mass_dataset() 2023-09-13 14:02:22\n",
       "\u001b[32mprocess_data ---------- \n",
       "\u001b[39m        Package Function.used                Time\n",
       "1 massprocesser  process_data 2023-09-13 13:59:49"
      ]
     },
     "metadata": {},
     "output_type": "display_data"
    }
   ],
   "source": [
    "load(\"./MS1/POS/Result/object\")\n",
    "object_pos <- object\n",
    "object_pos"
   ]
  },
  {
   "cell_type": "code",
   "execution_count": 315,
   "id": "a8349866-9289-4ce5-a38d-bef71edd8ad3",
   "metadata": {
    "collapsed": true,
    "jupyter": {
     "outputs_hidden": true
    },
    "scrolled": true
   },
   "outputs": [
    {
     "name": "stderr",
     "output_type": "stream",
     "text": [
      "\u001b[33mQC is not in you directory, so set is as  NEG\u001b[39m\n",
      "\n",
      "\u001b[32mReading raw data, it will take a while...\u001b[39m\n",
      "\n",
      "Reading 2092 spectra from file KO-CLP1.mzXML\n",
      "\n",
      "Reading 2092 spectra from file KO-CLP2.mzXML\n",
      "\n",
      "Reading 2099 spectra from file KO-CLP3.mzXML\n",
      "\n",
      "Reading 2093 spectra from file KO-CLP4.mzXML\n",
      "\n",
      "Reading 2093 spectra from file KO-CLP5.mzXML\n",
      "\n",
      "Reading 2093 spectra from file KO-CLP6.mzXML\n",
      "\n",
      "Reading 2120 spectra from file KO-CLP7.mzXML\n",
      "\n",
      "Reading 2094 spectra from file KO-CLP8.mzXML\n",
      "\n",
      "Reading 2101 spectra from file KO-NC1.mzXML\n",
      "\n",
      "Reading 2093 spectra from file KO-NC2.mzXML\n",
      "\n",
      "Reading 2093 spectra from file KO-NC3.mzXML\n",
      "\n",
      "Reading 2100 spectra from file KO-NC4.mzXML\n",
      "\n",
      "Reading 2094 spectra from file KO-NC5.mzXML\n",
      "\n",
      "Reading 2094 spectra from file KO-NC6.mzXML\n",
      "\n",
      "Reading 2094 spectra from file KO-NC7.mzXML\n",
      "\n",
      "Reading 2093 spectra from file KO-NC8.mzXML\n",
      "\n",
      "Reading 2093 spectra from file QC1.mzXML\n",
      "\n",
      "Reading 2093 spectra from file QC2.mzXML\n",
      "\n",
      "Reading 2094 spectra from file QC3.mzXML\n",
      "\n",
      "Reading 2094 spectra from file QC4.mzXML\n",
      "\n",
      "Reading 2095 spectra from file QC5.mzXML\n",
      "\n",
      "Reading 2092 spectra from file QC6.mzXML\n",
      "\n",
      "Reading 2096 spectra from file WT-CLP1.mzXML\n",
      "\n",
      "Reading 2103 spectra from file WT-CLP2.mzXML\n",
      "\n",
      "Reading 2100 spectra from file WT-CLP3.mzXML\n",
      "\n",
      "Reading 2094 spectra from file WT-CLP4.mzXML\n",
      "\n",
      "Reading 2093 spectra from file WT-CLP5.mzXML\n",
      "\n",
      "Reading 2092 spectra from file WT-CLP6.mzXML\n",
      "\n",
      "Reading 2094 spectra from file WT-CLP7.mzXML\n",
      "\n",
      "Reading 2094 spectra from file WT-CLP8.mzXML\n",
      "\n",
      "Reading 2101 spectra from file WT-NC1.mzXML\n",
      "\n",
      "Reading 2096 spectra from file WT-NC2.mzXML\n",
      "\n",
      "Reading 2094 spectra from file WT-NC3.mzXML\n",
      "\n",
      "Reading 2093 spectra from file WT-NC4.mzXML\n",
      "\n",
      "Reading 2094 spectra from file WT-NC5.mzXML\n",
      "\n",
      "Reading 2094 spectra from file WT-NC6.mzXML\n",
      "\n",
      "Reading 2092 spectra from file WT-NC7.mzXML\n",
      "\n",
      "Reading 2093 spectra from file WT-NC8.mzXML\n",
      "\n",
      "\u001b[31mOK\u001b[39m\n",
      "\n",
      "\u001b[32mDetecting peaks...\u001b[39m\n",
      "\n"
     ]
    },
    {
     "name": "stdout",
     "output_type": "stream",
     "text": [
      "  |                                                                      |   0%"
     ]
    },
    {
     "name": "stderr",
     "output_type": "stream",
     "text": [
      "R_zmq_msg_send errno: 4 strerror: Interrupted system call\n",
      "R_zmq_msg_send errno: 4 strerror: Interrupted system call\n",
      "R_zmq_msg_send errno: 4 strerror: Interrupted system call\n",
      "R_zmq_msg_send errno: 4 strerror: Interrupted system call\n",
      "\n",
      "\n"
     ]
    },
    {
     "name": "stdout",
     "output_type": "stream",
     "text": [
      "  |==                                                                    |   3%"
     ]
    },
    {
     "name": "stderr",
     "output_type": "stream",
     "text": [
      "R_zmq_msg_send errno: 4 strerror: Interrupted system call\n",
      "R_zmq_msg_send errno: 4 strerror: Interrupted system call\n",
      "R_zmq_msg_send errno: 4 strerror: Interrupted system call\n",
      "R_zmq_msg_send errno: 4 strerror: Interrupted system call\n",
      "\n",
      "\n"
     ]
    },
    {
     "name": "stdout",
     "output_type": "stream",
     "text": [
      "  |====                                                                  |   5%"
     ]
    },
    {
     "name": "stderr",
     "output_type": "stream",
     "text": [
      "R_zmq_msg_send errno: 4 strerror: Interrupted system call\n",
      "R_zmq_msg_send errno: 4 strerror: Interrupted system call\n",
      "R_zmq_msg_send errno: 4 strerror: Interrupted system call\n",
      "R_zmq_msg_send errno: 4 strerror: Interrupted system call\n",
      "\n",
      "\n"
     ]
    },
    {
     "name": "stdout",
     "output_type": "stream",
     "text": [
      "  |======                                                                |   8%"
     ]
    },
    {
     "name": "stderr",
     "output_type": "stream",
     "text": [
      "R_zmq_msg_send errno: 4 strerror: Interrupted system call\n",
      "R_zmq_msg_send errno: 4 strerror: Interrupted system call\n",
      "R_zmq_msg_send errno: 4 strerror: Interrupted system call\n",
      "R_zmq_msg_send errno: 4 strerror: Interrupted system call\n",
      "\n",
      "\n"
     ]
    },
    {
     "name": "stdout",
     "output_type": "stream",
     "text": [
      "  |=======                                                               |  11%"
     ]
    },
    {
     "name": "stderr",
     "output_type": "stream",
     "text": [
      "R_zmq_msg_send errno: 4 strerror: Interrupted system call\n",
      "R_zmq_msg_send errno: 4 strerror: Interrupted system call\n",
      "R_zmq_msg_send errno: 4 strerror: Interrupted system call\n",
      "R_zmq_msg_send errno: 4 strerror: Interrupted system call\n",
      "\n",
      "\n"
     ]
    },
    {
     "name": "stdout",
     "output_type": "stream",
     "text": [
      "  |=========                                                             |  13%"
     ]
    },
    {
     "name": "stderr",
     "output_type": "stream",
     "text": [
      "R_zmq_msg_send errno: 4 strerror: Interrupted system call\n",
      "R_zmq_msg_send errno: 4 strerror: Interrupted system call\n",
      "R_zmq_msg_send errno: 4 strerror: Interrupted system call\n",
      "R_zmq_msg_send errno: 4 strerror: Interrupted system call\n",
      "\n",
      "\n"
     ]
    },
    {
     "name": "stdout",
     "output_type": "stream",
     "text": [
      "  |===========                                                           |  16%"
     ]
    },
    {
     "name": "stderr",
     "output_type": "stream",
     "text": [
      "R_zmq_msg_send errno: 4 strerror: Interrupted system call\n",
      "R_zmq_msg_send errno: 4 strerror: Interrupted system call\n",
      "R_zmq_msg_send errno: 4 strerror: Interrupted system call\n",
      "R_zmq_msg_send errno: 4 strerror: Interrupted system call\n",
      "\n",
      "\n"
     ]
    },
    {
     "name": "stdout",
     "output_type": "stream",
     "text": [
      "  |=============                                                         |  18%"
     ]
    },
    {
     "name": "stderr",
     "output_type": "stream",
     "text": [
      "R_zmq_msg_send errno: 4 strerror: Interrupted system call\n",
      "R_zmq_msg_send errno: 4 strerror: Interrupted system call\n",
      "R_zmq_msg_send errno: 4 strerror: Interrupted system call\n",
      "R_zmq_msg_send errno: 4 strerror: Interrupted system call\n",
      "\n",
      "\n"
     ]
    },
    {
     "name": "stdout",
     "output_type": "stream",
     "text": [
      "  |===============                                                       |  21%"
     ]
    },
    {
     "name": "stderr",
     "output_type": "stream",
     "text": [
      "R_zmq_msg_send errno: 4 strerror: Interrupted system call\n",
      "R_zmq_msg_send errno: 4 strerror: Interrupted system call\n",
      "R_zmq_msg_send errno: 4 strerror: Interrupted system call\n",
      "R_zmq_msg_send errno: 4 strerror: Interrupted system call\n",
      "\n",
      "\n"
     ]
    },
    {
     "name": "stdout",
     "output_type": "stream",
     "text": [
      "  |=================                                                     |  24%"
     ]
    },
    {
     "name": "stderr",
     "output_type": "stream",
     "text": [
      "R_zmq_msg_send errno: 4 strerror: Interrupted system call\n",
      "R_zmq_msg_send errno: 4 strerror: Interrupted system call\n",
      "R_zmq_msg_send errno: 4 strerror: Interrupted system call\n",
      "R_zmq_msg_send errno: 4 strerror: Interrupted system call\n",
      "\n",
      "\n"
     ]
    },
    {
     "name": "stdout",
     "output_type": "stream",
     "text": [
      "  |==================                                                    |  26%"
     ]
    },
    {
     "name": "stderr",
     "output_type": "stream",
     "text": [
      "R_zmq_msg_send errno: 4 strerror: Interrupted system call\n",
      "R_zmq_msg_send errno: 4 strerror: Interrupted system call\n",
      "R_zmq_msg_send errno: 4 strerror: Interrupted system call\n",
      "R_zmq_msg_send errno: 4 strerror: Interrupted system call\n",
      "\n",
      "\n"
     ]
    },
    {
     "name": "stdout",
     "output_type": "stream",
     "text": [
      "  |====================                                                  |  29%"
     ]
    },
    {
     "name": "stderr",
     "output_type": "stream",
     "text": [
      "R_zmq_msg_send errno: 4 strerror: Interrupted system call\n",
      "R_zmq_msg_send errno: 4 strerror: Interrupted system call\n",
      "R_zmq_msg_send errno: 4 strerror: Interrupted system call\n",
      "R_zmq_msg_send errno: 4 strerror: Interrupted system call\n",
      "\n",
      "\n"
     ]
    },
    {
     "name": "stdout",
     "output_type": "stream",
     "text": [
      "  |======================                                                |  32%"
     ]
    },
    {
     "name": "stderr",
     "output_type": "stream",
     "text": [
      "R_zmq_msg_send errno: 4 strerror: Interrupted system call\n",
      "R_zmq_msg_send errno: 4 strerror: Interrupted system call\n",
      "R_zmq_msg_send errno: 4 strerror: Interrupted system call\n",
      "R_zmq_msg_send errno: 4 strerror: Interrupted system call\n",
      "\n",
      "\n"
     ]
    },
    {
     "name": "stdout",
     "output_type": "stream",
     "text": [
      "  |========================                                              |  34%"
     ]
    },
    {
     "name": "stderr",
     "output_type": "stream",
     "text": [
      "R_zmq_msg_send errno: 4 strerror: Interrupted system call\n",
      "R_zmq_msg_send errno: 4 strerror: Interrupted system call\n",
      "R_zmq_msg_send errno: 4 strerror: Interrupted system call\n",
      "R_zmq_msg_send errno: 4 strerror: Interrupted system call\n",
      "\n",
      "\n"
     ]
    },
    {
     "name": "stdout",
     "output_type": "stream",
     "text": [
      "  |==========================                                            |  37%"
     ]
    },
    {
     "name": "stderr",
     "output_type": "stream",
     "text": [
      "R_zmq_msg_send errno: 4 strerror: Interrupted system call\n",
      "R_zmq_msg_send errno: 4 strerror: Interrupted system call\n",
      "R_zmq_msg_send errno: 4 strerror: Interrupted system call\n",
      "R_zmq_msg_send errno: 4 strerror: Interrupted system call\n",
      "\n",
      "\n"
     ]
    },
    {
     "name": "stdout",
     "output_type": "stream",
     "text": [
      "  |============================                                          |  39%"
     ]
    },
    {
     "name": "stderr",
     "output_type": "stream",
     "text": [
      "R_zmq_msg_send errno: 4 strerror: Interrupted system call\n",
      "R_zmq_msg_send errno: 4 strerror: Interrupted system call\n",
      "R_zmq_msg_send errno: 4 strerror: Interrupted system call\n",
      "R_zmq_msg_send errno: 4 strerror: Interrupted system call\n",
      "\n",
      "\n"
     ]
    },
    {
     "name": "stdout",
     "output_type": "stream",
     "text": [
      "  |=============================                                         |  42%"
     ]
    },
    {
     "name": "stderr",
     "output_type": "stream",
     "text": [
      "R_zmq_msg_send errno: 4 strerror: Interrupted system call\n",
      "R_zmq_msg_send errno: 4 strerror: Interrupted system call\n",
      "R_zmq_msg_send errno: 4 strerror: Interrupted system call\n",
      "R_zmq_msg_send errno: 4 strerror: Interrupted system call\n",
      "\n",
      "\n"
     ]
    },
    {
     "name": "stdout",
     "output_type": "stream",
     "text": [
      "  |===============================                                       |  45%"
     ]
    },
    {
     "name": "stderr",
     "output_type": "stream",
     "text": [
      "R_zmq_msg_send errno: 4 strerror: Interrupted system call\n",
      "R_zmq_msg_send errno: 4 strerror: Interrupted system call\n",
      "R_zmq_msg_send errno: 4 strerror: Interrupted system call\n",
      "R_zmq_msg_send errno: 4 strerror: Interrupted system call\n",
      "\n",
      "\n"
     ]
    },
    {
     "name": "stdout",
     "output_type": "stream",
     "text": [
      "  |=================================                                     |  47%"
     ]
    },
    {
     "name": "stderr",
     "output_type": "stream",
     "text": [
      "R_zmq_msg_send errno: 4 strerror: Interrupted system call\n",
      "R_zmq_msg_send errno: 4 strerror: Interrupted system call\n",
      "R_zmq_msg_send errno: 4 strerror: Interrupted system call\n",
      "R_zmq_msg_send errno: 4 strerror: Interrupted system call\n",
      "\n",
      "\n"
     ]
    },
    {
     "name": "stdout",
     "output_type": "stream",
     "text": [
      "  |===================================                                   |  50%"
     ]
    },
    {
     "name": "stderr",
     "output_type": "stream",
     "text": [
      "R_zmq_msg_send errno: 4 strerror: Interrupted system call\n",
      "R_zmq_msg_send errno: 4 strerror: Interrupted system call\n",
      "R_zmq_msg_send errno: 4 strerror: Interrupted system call\n",
      "R_zmq_msg_send errno: 4 strerror: Interrupted system call\n",
      "\n",
      "\n"
     ]
    },
    {
     "name": "stdout",
     "output_type": "stream",
     "text": [
      "  |=====================================                                 |  53%"
     ]
    },
    {
     "name": "stderr",
     "output_type": "stream",
     "text": [
      "R_zmq_msg_send errno: 4 strerror: Interrupted system call\n",
      "R_zmq_msg_send errno: 4 strerror: Interrupted system call\n",
      "R_zmq_msg_send errno: 4 strerror: Interrupted system call\n",
      "R_zmq_msg_send errno: 4 strerror: Interrupted system call\n",
      "\n",
      "\n"
     ]
    },
    {
     "name": "stdout",
     "output_type": "stream",
     "text": [
      "  |=======================================                               |  55%"
     ]
    },
    {
     "name": "stderr",
     "output_type": "stream",
     "text": [
      "R_zmq_msg_send errno: 4 strerror: Interrupted system call\n",
      "R_zmq_msg_send errno: 4 strerror: Interrupted system call\n",
      "R_zmq_msg_send errno: 4 strerror: Interrupted system call\n",
      "R_zmq_msg_send errno: 4 strerror: Interrupted system call\n",
      "\n",
      "\n"
     ]
    },
    {
     "name": "stdout",
     "output_type": "stream",
     "text": [
      "  |=========================================                             |  58%"
     ]
    },
    {
     "name": "stderr",
     "output_type": "stream",
     "text": [
      "R_zmq_msg_send errno: 4 strerror: Interrupted system call\n",
      "R_zmq_msg_send errno: 4 strerror: Interrupted system call\n",
      "R_zmq_msg_send errno: 4 strerror: Interrupted system call\n",
      "R_zmq_msg_send errno: 4 strerror: Interrupted system call\n",
      "\n",
      "\n"
     ]
    },
    {
     "name": "stdout",
     "output_type": "stream",
     "text": [
      "  |==========================================                            |  61%"
     ]
    },
    {
     "name": "stderr",
     "output_type": "stream",
     "text": [
      "R_zmq_msg_send errno: 4 strerror: Interrupted system call\n",
      "R_zmq_msg_send errno: 4 strerror: Interrupted system call\n",
      "R_zmq_msg_send errno: 4 strerror: Interrupted system call\n",
      "R_zmq_msg_send errno: 4 strerror: Interrupted system call\n",
      "\n",
      "\n"
     ]
    },
    {
     "name": "stdout",
     "output_type": "stream",
     "text": [
      "  |============================================                          |  63%"
     ]
    },
    {
     "name": "stderr",
     "output_type": "stream",
     "text": [
      "R_zmq_msg_send errno: 4 strerror: Interrupted system call\n",
      "R_zmq_msg_send errno: 4 strerror: Interrupted system call\n",
      "R_zmq_msg_send errno: 4 strerror: Interrupted system call\n",
      "R_zmq_msg_send errno: 4 strerror: Interrupted system call\n",
      "\n",
      "\n"
     ]
    },
    {
     "name": "stdout",
     "output_type": "stream",
     "text": [
      "  |==============================================                        |  66%"
     ]
    },
    {
     "name": "stderr",
     "output_type": "stream",
     "text": [
      "R_zmq_msg_send errno: 4 strerror: Interrupted system call\n",
      "R_zmq_msg_send errno: 4 strerror: Interrupted system call\n",
      "R_zmq_msg_send errno: 4 strerror: Interrupted system call\n",
      "R_zmq_msg_send errno: 4 strerror: Interrupted system call\n",
      "\n",
      "\n"
     ]
    },
    {
     "name": "stdout",
     "output_type": "stream",
     "text": [
      "  |================================================                      |  68%"
     ]
    },
    {
     "name": "stderr",
     "output_type": "stream",
     "text": [
      "R_zmq_msg_send errno: 4 strerror: Interrupted system call\n",
      "R_zmq_msg_send errno: 4 strerror: Interrupted system call\n",
      "R_zmq_msg_send errno: 4 strerror: Interrupted system call\n",
      "R_zmq_msg_send errno: 4 strerror: Interrupted system call\n",
      "\n",
      "\n"
     ]
    },
    {
     "name": "stdout",
     "output_type": "stream",
     "text": [
      "  |==================================================                    |  71%"
     ]
    },
    {
     "name": "stderr",
     "output_type": "stream",
     "text": [
      "R_zmq_msg_send errno: 4 strerror: Interrupted system call\n",
      "R_zmq_msg_send errno: 4 strerror: Interrupted system call\n",
      "R_zmq_msg_send errno: 4 strerror: Interrupted system call\n",
      "R_zmq_msg_send errno: 4 strerror: Interrupted system call\n",
      "\n",
      "\n"
     ]
    },
    {
     "name": "stdout",
     "output_type": "stream",
     "text": [
      "  |====================================================                  |  74%"
     ]
    },
    {
     "name": "stderr",
     "output_type": "stream",
     "text": [
      "R_zmq_msg_send errno: 4 strerror: Interrupted system call\n",
      "R_zmq_msg_send errno: 4 strerror: Interrupted system call\n",
      "R_zmq_msg_send errno: 4 strerror: Interrupted system call\n",
      "R_zmq_msg_send errno: 4 strerror: Interrupted system call\n",
      "\n",
      "\n"
     ]
    },
    {
     "name": "stdout",
     "output_type": "stream",
     "text": [
      "  |=====================================================                 |  76%"
     ]
    },
    {
     "name": "stderr",
     "output_type": "stream",
     "text": [
      "R_zmq_msg_send errno: 4 strerror: Interrupted system call\n",
      "R_zmq_msg_send errno: 4 strerror: Interrupted system call\n",
      "R_zmq_msg_send errno: 4 strerror: Interrupted system call\n",
      "R_zmq_msg_send errno: 4 strerror: Interrupted system call\n",
      "\n",
      "\n"
     ]
    },
    {
     "name": "stdout",
     "output_type": "stream",
     "text": [
      "  |=======================================================               |  79%"
     ]
    },
    {
     "name": "stderr",
     "output_type": "stream",
     "text": [
      "R_zmq_msg_send errno: 4 strerror: Interrupted system call\n",
      "R_zmq_msg_send errno: 4 strerror: Interrupted system call\n",
      "R_zmq_msg_send errno: 4 strerror: Interrupted system call\n",
      "R_zmq_msg_send errno: 4 strerror: Interrupted system call\n",
      "\n",
      "\n"
     ]
    },
    {
     "name": "stdout",
     "output_type": "stream",
     "text": [
      "  |=========================================================             |  82%"
     ]
    },
    {
     "name": "stderr",
     "output_type": "stream",
     "text": [
      "R_zmq_msg_send errno: 4 strerror: Interrupted system call\n",
      "R_zmq_msg_send errno: 4 strerror: Interrupted system call\n",
      "R_zmq_msg_send errno: 4 strerror: Interrupted system call\n",
      "R_zmq_msg_send errno: 4 strerror: Interrupted system call\n",
      "\n",
      "\n"
     ]
    },
    {
     "name": "stdout",
     "output_type": "stream",
     "text": [
      "  |===========================================================           |  84%"
     ]
    },
    {
     "name": "stderr",
     "output_type": "stream",
     "text": [
      "R_zmq_msg_send errno: 4 strerror: Interrupted system call\n",
      "R_zmq_msg_send errno: 4 strerror: Interrupted system call\n",
      "R_zmq_msg_send errno: 4 strerror: Interrupted system call\n",
      "R_zmq_msg_send errno: 4 strerror: Interrupted system call\n",
      "\n",
      "\n"
     ]
    },
    {
     "name": "stdout",
     "output_type": "stream",
     "text": [
      "  |=============================================================         |  87%"
     ]
    },
    {
     "name": "stderr",
     "output_type": "stream",
     "text": [
      "R_zmq_msg_send errno: 4 strerror: Interrupted system call\n",
      "R_zmq_msg_send errno: 4 strerror: Interrupted system call\n",
      "R_zmq_msg_send errno: 4 strerror: Interrupted system call\n",
      "R_zmq_msg_send errno: 4 strerror: Interrupted system call\n",
      "\n",
      "\n"
     ]
    },
    {
     "name": "stdout",
     "output_type": "stream",
     "text": [
      "  |===============================================================       |  89%"
     ]
    },
    {
     "name": "stderr",
     "output_type": "stream",
     "text": [
      "R_zmq_msg_send errno: 4 strerror: Interrupted system call\n",
      "R_zmq_msg_send errno: 4 strerror: Interrupted system call\n",
      "R_zmq_msg_send errno: 4 strerror: Interrupted system call\n",
      "R_zmq_msg_send errno: 4 strerror: Interrupted system call\n",
      "\n",
      "\n"
     ]
    },
    {
     "name": "stdout",
     "output_type": "stream",
     "text": [
      "  |================================================================      |  92%"
     ]
    },
    {
     "name": "stderr",
     "output_type": "stream",
     "text": [
      "R_zmq_msg_send errno: 4 strerror: Interrupted system call\n",
      "R_zmq_msg_send errno: 4 strerror: Interrupted system call\n",
      "R_zmq_msg_send errno: 4 strerror: Interrupted system call\n",
      "R_zmq_msg_send errno: 4 strerror: Interrupted system call\n",
      "\n",
      "\n"
     ]
    },
    {
     "name": "stdout",
     "output_type": "stream",
     "text": [
      "  |==================================================================    |  95%"
     ]
    },
    {
     "name": "stderr",
     "output_type": "stream",
     "text": [
      "R_zmq_msg_send errno: 4 strerror: Interrupted system call\n",
      "R_zmq_msg_send errno: 4 strerror: Interrupted system call\n",
      "R_zmq_msg_send errno: 4 strerror: Interrupted system call\n",
      "R_zmq_msg_send errno: 4 strerror: Interrupted system call\n",
      "\n",
      "\n"
     ]
    },
    {
     "name": "stdout",
     "output_type": "stream",
     "text": [
      "  |====================================================================  |  97%"
     ]
    },
    {
     "name": "stderr",
     "output_type": "stream",
     "text": [
      "R_zmq_msg_send errno: 4 strerror: Interrupted system call\n",
      "R_zmq_msg_send errno: 4 strerror: Interrupted system call\n",
      "R_zmq_msg_send errno: 4 strerror: Interrupted system call\n",
      "R_zmq_msg_send errno: 4 strerror: Interrupted system call\n",
      "\n",
      "\n"
     ]
    },
    {
     "name": "stdout",
     "output_type": "stream",
     "text": [
      "  |======================================================================| 100%\n",
      "\n"
     ]
    },
    {
     "name": "stderr",
     "output_type": "stream",
     "text": [
      "\u001b[31mOK\u001b[39m\n",
      "\n",
      "\u001b[32mCorrecting rentention time...\u001b[39m\n",
      "\n",
      "Sample number 19 used as center sample.\n",
      "\n",
      "R_zmq_msg_send errno: 4 strerror: Interrupted system call\n",
      "R_zmq_msg_send errno: 4 strerror: Interrupted system call\n",
      "\n",
      "\n",
      "R_zmq_msg_send errno: 4 strerror: Interrupted system call\n",
      "R_zmq_msg_send errno: 4 strerror: Interrupted system call\n",
      "\n",
      "\n",
      "R_zmq_msg_send errno: 4 strerror: Interrupted system call\n",
      "R_zmq_msg_send errno: 4 strerror: Interrupted system call\n",
      "\n",
      "\n",
      "R_zmq_msg_send errno: 4 strerror: Interrupted system call\n",
      "R_zmq_msg_send errno: 4 strerror: Interrupted system call\n",
      "\n",
      "\n",
      "R_zmq_msg_send errno: 4 strerror: Interrupted system call\n",
      "R_zmq_msg_send errno: 4 strerror: Interrupted system call\n",
      "\n",
      "\n",
      "R_zmq_msg_send errno: 4 strerror: Interrupted system call\n",
      "R_zmq_msg_send errno: 4 strerror: Interrupted system call\n",
      "\n",
      "\n",
      "R_zmq_msg_send errno: 4 strerror: Interrupted system call\n",
      "R_zmq_msg_send errno: 4 strerror: Interrupted system call\n",
      "\n",
      "\n",
      "R_zmq_msg_send errno: 4 strerror: Interrupted system call\n",
      "R_zmq_msg_send errno: 4 strerror: Interrupted system call\n",
      "\n",
      "\n",
      "R_zmq_msg_send errno: 4 strerror: Interrupted system call\n",
      "R_zmq_msg_send errno: 4 strerror: Interrupted system call\n",
      "\n",
      "\n",
      "R_zmq_msg_send errno: 4 strerror: Interrupted system call\n",
      "R_zmq_msg_send errno: 4 strerror: Interrupted system call\n",
      "\n",
      "\n",
      "R_zmq_msg_send errno: 4 strerror: Interrupted system call\n",
      "R_zmq_msg_send errno: 4 strerror: Interrupted system call\n",
      "\n",
      "\n",
      "R_zmq_msg_send errno: 4 strerror: Interrupted system call\n",
      "R_zmq_msg_send errno: 4 strerror: Interrupted system call\n",
      "\n",
      "\n",
      "R_zmq_msg_send errno: 4 strerror: Interrupted system call\n",
      "R_zmq_msg_send errno: 4 strerror: Interrupted system call\n",
      "R_zmq_msg_send errno: 4 strerror: Interrupted system call\n",
      "\n",
      "\n",
      "R_zmq_msg_send errno: 4 strerror: Interrupted system call\n",
      "R_zmq_msg_send errno: 4 strerror: Interrupted system call\n",
      "R_zmq_msg_send errno: 4 strerror: Interrupted system call\n",
      "\n",
      "\n",
      "R_zmq_msg_send errno: 4 strerror: Interrupted system call\n",
      "R_zmq_msg_send errno: 4 strerror: Interrupted system call\n",
      "\n",
      "\n",
      "R_zmq_msg_send errno: 4 strerror: Interrupted system call\n",
      "R_zmq_msg_send errno: 4 strerror: Interrupted system call\n",
      "\n",
      "\n",
      "R_zmq_msg_send errno: 4 strerror: Interrupted system call\n",
      "R_zmq_msg_send errno: 4 strerror: Interrupted system call\n",
      "\n",
      "\n",
      "R_zmq_msg_send errno: 4 strerror: Interrupted system call\n",
      "R_zmq_msg_send errno: 4 strerror: Interrupted system call\n",
      "\n",
      "\n",
      "R_zmq_msg_send errno: 4 strerror: Interrupted system call\n",
      "R_zmq_msg_send errno: 4 strerror: Interrupted system call\n",
      "\n",
      "\n",
      "R_zmq_msg_send errno: 4 strerror: Interrupted system call\n",
      "R_zmq_msg_send errno: 4 strerror: Interrupted system call\n",
      "\n",
      "\n",
      "R_zmq_msg_send errno: 4 strerror: Interrupted system call\n",
      "R_zmq_msg_send errno: 4 strerror: Interrupted system call\n",
      "R_zmq_msg_send errno: 4 strerror: Interrupted system call\n",
      "\n",
      "\n",
      "R_zmq_msg_send errno: 4 strerror: Interrupted system call\n",
      "R_zmq_msg_send errno: 4 strerror: Interrupted system call\n",
      "\n",
      "\n",
      "R_zmq_msg_send errno: 4 strerror: Interrupted system call\n",
      "R_zmq_msg_send errno: 4 strerror: Interrupted system call\n",
      "\n",
      "\n",
      "R_zmq_msg_send errno: 4 strerror: Interrupted system call\n",
      "R_zmq_msg_send errno: 4 strerror: Interrupted system call\n",
      "\n",
      "\n",
      "R_zmq_msg_send errno: 4 strerror: Interrupted system call\n",
      "R_zmq_msg_send errno: 4 strerror: Interrupted system call\n",
      "R_zmq_msg_send errno: 4 strerror: Interrupted system call\n",
      "\n",
      "\n",
      "R_zmq_msg_send errno: 4 strerror: Interrupted system call\n",
      "R_zmq_msg_send errno: 4 strerror: Interrupted system call\n",
      "R_zmq_msg_send errno: 4 strerror: Interrupted system call\n",
      "\n",
      "\n",
      "R_zmq_msg_send errno: 4 strerror: Interrupted system call\n",
      "R_zmq_msg_send errno: 4 strerror: Interrupted system call\n",
      "\n",
      "\n",
      "R_zmq_msg_send errno: 4 strerror: Interrupted system call\n",
      "R_zmq_msg_send errno: 4 strerror: Interrupted system call\n",
      "R_zmq_msg_send errno: 4 strerror: Interrupted system call\n",
      "\n",
      "\n",
      "R_zmq_msg_send errno: 4 strerror: Interrupted system call\n",
      "R_zmq_msg_send errno: 4 strerror: Interrupted system call\n",
      "\n",
      "\n",
      "R_zmq_msg_send errno: 4 strerror: Interrupted system call\n",
      "R_zmq_msg_send errno: 4 strerror: Interrupted system call\n",
      "\n",
      "\n",
      "R_zmq_msg_send errno: 4 strerror: Interrupted system call\n",
      "R_zmq_msg_send errno: 4 strerror: Interrupted system call\n",
      "\n",
      "\n",
      "R_zmq_msg_send errno: 4 strerror: Interrupted system call\n",
      "R_zmq_msg_send errno: 4 strerror: Interrupted system call\n",
      "\n",
      "\n",
      "R_zmq_msg_send errno: 4 strerror: Interrupted system call\n",
      "R_zmq_msg_send errno: 4 strerror: Interrupted system call\n",
      "\n",
      "\n",
      "R_zmq_msg_send errno: 4 strerror: Interrupted system call\n",
      "R_zmq_msg_send errno: 4 strerror: Interrupted system call\n",
      "R_zmq_msg_send errno: 4 strerror: Interrupted system call\n",
      "\n",
      "\n",
      "R_zmq_msg_send errno: 4 strerror: Interrupted system call\n",
      "R_zmq_msg_send errno: 4 strerror: Interrupted system call\n",
      "\n",
      "\n",
      "R_zmq_msg_send errno: 4 strerror: Interrupted system call\n",
      "R_zmq_msg_send errno: 4 strerror: Interrupted system call\n",
      "\n",
      "\n",
      "R_zmq_msg_send errno: 4 strerror: Interrupted system call\n",
      "R_zmq_msg_send errno: 4 strerror: Interrupted system call\n",
      "\n",
      "\n",
      "Apply retention time correction performed on MS1 to spectra from all MS levels\n",
      "\n",
      "Applying retention time adjustment to the identified chromatographic peaks ... \n",
      "OK\n",
      "\n",
      "\u001b[31mOK\u001b[39m\n",
      "\n",
      "\u001b[32mGrouping peaks across samples...\u001b[39m\n",
      "\n",
      "Processing 82672 mz slices ... \n",
      "OK\n",
      "\n",
      "\u001b[31mOK\u001b[39m\n",
      "\n",
      "\u001b[32mOutputting peak table...\u001b[39m\n",
      "\n",
      "\u001b[31mOK\u001b[39m\n",
      "\n",
      "\u001b[31mOK\u001b[39m\n",
      "\n",
      "\u001b[41mAll done!\u001b[49m\n",
      "\n"
     ]
    }
   ],
   "source": [
    "library(tidymass)\n",
    "massprocesser::process_data(\n",
    "  path = \"./MS1/NEG\",\n",
    "  polarity = \"negative\",\n",
    "  ppm = 10,\n",
    "  peakwidth = c(5, 80),\n",
    "  threads = 4,\n",
    "  output_tic = FALSE,\n",
    "  output_bpc = FALSE,\n",
    "  output_rt_correction_plot = FALSE,\n",
    "  min_fraction = 0.2\n",
    ")"
   ]
  },
  {
   "cell_type": "code",
   "execution_count": 482,
   "id": "bea50940-8534-439c-96e8-6bd91636e2cb",
   "metadata": {},
   "outputs": [
    {
     "data": {
      "text/plain": [
       "\u001b[33m-------------------- \n",
       "\u001b[39m\u001b[32mmassdataset version: 1.0.19 \n",
       "\u001b[39m\u001b[33m-------------------- \n",
       "\u001b[39m\u001b[32m1.expression_data:\u001b[39m[ 1167 x 38 data.frame]\n",
       "\u001b[32m2.sample_info:\u001b[39m[ 38 x 4 data.frame]\n",
       "\u001b[32m3.variable_info:\u001b[39m[ 1167 x 3 data.frame]\n",
       "\u001b[32m4.sample_info_note:\u001b[39m[ 4 x 2 data.frame]\n",
       "\u001b[32m5.variable_info_note:\u001b[39m[ 3 x 2 data.frame]\n",
       "\u001b[32m6.ms2_data:\u001b[39m[ 0 variables x 0 MS2 spectra]\n",
       "\u001b[33m-------------------- \n",
       "\u001b[39m\u001b[32mProcessing information (extract_process_info())\n",
       "\u001b[39m\u001b[32m2 processings in total\n",
       "\u001b[39m\u001b[32mcreate_mass_dataset ---------- \n",
       "\u001b[39m      Package         Function.used                Time\n",
       "1 massdataset create_mass_dataset() 2023-09-13 14:08:36\n",
       "\u001b[32mprocess_data ---------- \n",
       "\u001b[39m        Package Function.used                Time\n",
       "1 massprocesser  process_data 2023-09-13 14:05:01"
      ]
     },
     "metadata": {},
     "output_type": "display_data"
    }
   ],
   "source": [
    "load(\"./MS1/NEG/Result/object\")\n",
    "object_neg <- object\n",
    "object_neg"
   ]
  },
  {
   "cell_type": "code",
   "execution_count": 484,
   "id": "97abecf6-8e0c-4602-be61-d302154a4759",
   "metadata": {},
   "outputs": [
    {
     "name": "stderr",
     "output_type": "stream",
     "text": [
      "\u001b[1mRows: \u001b[22m\u001b[34m38\u001b[39m \u001b[1mColumns: \u001b[22m\u001b[34m3\u001b[39m\n",
      "\u001b[36m──\u001b[39m \u001b[1mColumn specification\u001b[22m \u001b[36m────────────────────────────────────────────────────────\u001b[39m\n",
      "\u001b[1mDelimiter:\u001b[22m \",\"\n",
      "\u001b[31mchr\u001b[39m (3): sample_id, group, class\n",
      "\n",
      "\u001b[36mℹ\u001b[39m Use `spec()` to retrieve the full column specification for this data.\n",
      "\u001b[36mℹ\u001b[39m Specify the column types or set `show_col_types = FALSE` to quiet this message.\n"
     ]
    }
   ],
   "source": [
    "sample_info_pos <- readr::read_csv(\"./sample_info.csv\")"
   ]
  },
  {
   "cell_type": "code",
   "execution_count": 485,
   "id": "6c03746b-d742-4fc6-92d5-8543873dc156",
   "metadata": {
    "scrolled": true
   },
   "outputs": [
    {
     "data": {
      "text/html": [
       "<table class=\"dataframe\">\n",
       "<caption>A data.frame: 6 × 4</caption>\n",
       "<thead>\n",
       "\t<tr><th></th><th scope=col>sample_id</th><th scope=col>group</th><th scope=col>class</th><th scope=col>injection.order</th></tr>\n",
       "\t<tr><th></th><th scope=col>&lt;chr&gt;</th><th scope=col>&lt;chr&gt;</th><th scope=col>&lt;chr&gt;</th><th scope=col>&lt;int&gt;</th></tr>\n",
       "</thead>\n",
       "<tbody>\n",
       "\t<tr><th scope=row>1</th><td>KO-CLP1</td><td>Subject</td><td>Subject</td><td>1</td></tr>\n",
       "\t<tr><th scope=row>2</th><td>KO-CLP2</td><td>Subject</td><td>Subject</td><td>2</td></tr>\n",
       "\t<tr><th scope=row>3</th><td>KO-CLP3</td><td>Subject</td><td>Subject</td><td>3</td></tr>\n",
       "\t<tr><th scope=row>4</th><td>KO-CLP4</td><td>Subject</td><td>Subject</td><td>4</td></tr>\n",
       "\t<tr><th scope=row>5</th><td>KO-CLP5</td><td>Subject</td><td>Subject</td><td>5</td></tr>\n",
       "\t<tr><th scope=row>6</th><td>KO-CLP6</td><td>Subject</td><td>Subject</td><td>6</td></tr>\n",
       "</tbody>\n",
       "</table>\n"
      ],
      "text/latex": [
       "A data.frame: 6 × 4\n",
       "\\begin{tabular}{r|llll}\n",
       "  & sample\\_id & group & class & injection.order\\\\\n",
       "  & <chr> & <chr> & <chr> & <int>\\\\\n",
       "\\hline\n",
       "\t1 & KO-CLP1 & Subject & Subject & 1\\\\\n",
       "\t2 & KO-CLP2 & Subject & Subject & 2\\\\\n",
       "\t3 & KO-CLP3 & Subject & Subject & 3\\\\\n",
       "\t4 & KO-CLP4 & Subject & Subject & 4\\\\\n",
       "\t5 & KO-CLP5 & Subject & Subject & 5\\\\\n",
       "\t6 & KO-CLP6 & Subject & Subject & 6\\\\\n",
       "\\end{tabular}\n"
      ],
      "text/markdown": [
       "\n",
       "A data.frame: 6 × 4\n",
       "\n",
       "| <!--/--> | sample_id &lt;chr&gt; | group &lt;chr&gt; | class &lt;chr&gt; | injection.order &lt;int&gt; |\n",
       "|---|---|---|---|---|\n",
       "| 1 | KO-CLP1 | Subject | Subject | 1 |\n",
       "| 2 | KO-CLP2 | Subject | Subject | 2 |\n",
       "| 3 | KO-CLP3 | Subject | Subject | 3 |\n",
       "| 4 | KO-CLP4 | Subject | Subject | 4 |\n",
       "| 5 | KO-CLP5 | Subject | Subject | 5 |\n",
       "| 6 | KO-CLP6 | Subject | Subject | 6 |\n",
       "\n"
      ],
      "text/plain": [
       "  sample_id group   class   injection.order\n",
       "1 KO-CLP1   Subject Subject 1              \n",
       "2 KO-CLP2   Subject Subject 2              \n",
       "3 KO-CLP3   Subject Subject 3              \n",
       "4 KO-CLP4   Subject Subject 4              \n",
       "5 KO-CLP5   Subject Subject 5              \n",
       "6 KO-CLP6   Subject Subject 6              "
      ]
     },
     "metadata": {},
     "output_type": "display_data"
    }
   ],
   "source": [
    "object_pos %>%  extract_sample_info() %>% head()\n",
    "object_pos <- object_pos %>% activate_mass_dataset(what = \"sample_info\") %>% dplyr::select(-c(\"group\", \"class\", \"injection.order\"))"
   ]
  },
  {
   "cell_type": "code",
   "execution_count": 486,
   "id": "f36b41b5-d922-40ba-8bb2-364bd589f5b4",
   "metadata": {},
   "outputs": [],
   "source": [
    "object_pos = object_pos %>% activate_mass_dataset(what = \"sample_info\") %>% left_join(sample_info_pos, by = \"sample_id\")"
   ]
  },
  {
   "cell_type": "code",
   "execution_count": 487,
   "id": "a2b9867b-3f37-47d0-9529-d9ac04acffd8",
   "metadata": {},
   "outputs": [
    {
     "data": {
      "text/html": [
       "<style>\n",
       ".list-inline {list-style: none; margin:0; padding: 0}\n",
       ".list-inline>li {display: inline-block}\n",
       ".list-inline>li:not(:last-child)::after {content: \"\\00b7\"; padding: 0 .5ex}\n",
       "</style>\n",
       "<ol class=list-inline><li>38</li><li>3</li></ol>\n"
      ],
      "text/latex": [
       "\\begin{enumerate*}\n",
       "\\item 38\n",
       "\\item 3\n",
       "\\end{enumerate*}\n"
      ],
      "text/markdown": [
       "1. 38\n",
       "2. 3\n",
       "\n",
       "\n"
      ],
      "text/plain": [
       "[1] 38  3"
      ]
     },
     "metadata": {},
     "output_type": "display_data"
    }
   ],
   "source": [
    "object_pos %>% extract_sample_info() %>% dim()"
   ]
  },
  {
   "cell_type": "code",
   "execution_count": 488,
   "id": "63598dc8-315a-4470-8f2e-c1ec094a3459",
   "metadata": {},
   "outputs": [],
   "source": [
    "dir.create(\"data_cleaning/POS\", showWarnings = FALSE, recursive = TRUE)\n",
    "save(object_pos, file = \"data_cleaning/POS/object_pos\")"
   ]
  },
  {
   "cell_type": "code",
   "execution_count": 489,
   "id": "5154d981-8edc-42d5-9d46-9f91da6824ae",
   "metadata": {},
   "outputs": [
    {
     "data": {
      "text/html": [
       "<strong>png:</strong> 2"
      ],
      "text/latex": [
       "\\textbf{png:} 2"
      ],
      "text/markdown": [
       "**png:** 2"
      ],
      "text/plain": [
       "png \n",
       "  2 "
      ]
     },
     "metadata": {},
     "output_type": "display_data"
    }
   ],
   "source": [
    "pdf(file=\"data_cleaning/POS/peak_distributation_plot_positive.pdf\")\n",
    "p<- object_pos %>% `+`(1) %>% log(10) %>% show_mz_rt_plot(hex = FALSE) \n",
    "p+ scale_size_continuous(range = c(0.01, 2))\n",
    "dev.off()"
   ]
  },
  {
   "cell_type": "code",
   "execution_count": 490,
   "id": "dfaaf80b-9fd2-4885-9230-ff39e0e540f9",
   "metadata": {},
   "outputs": [
    {
     "data": {
      "text/html": [
       "27468"
      ],
      "text/latex": [
       "27468"
      ],
      "text/markdown": [
       "27468"
      ],
      "text/plain": [
       "[1] 27468"
      ]
     },
     "metadata": {},
     "output_type": "display_data"
    }
   ],
   "source": [
    "get_mv_number(object = object_pos)"
   ]
  },
  {
   "cell_type": "code",
   "execution_count": 491,
   "id": "f780021e-3a01-4aef-ae33-0ca51f61d5f6",
   "metadata": {},
   "outputs": [
    {
     "data": {
      "text/html": [
       "<style>\n",
       ".dl-inline {width: auto; margin:0; padding: 0}\n",
       ".dl-inline>dt, .dl-inline>dd {float: none; width: auto; display: inline-block}\n",
       ".dl-inline>dt::after {content: \":\\0020\"; padding-right: .5ex}\n",
       ".dl-inline>dt:not(:first-of-type) {padding-left: .5ex}\n",
       "</style><dl class=dl-inline><dt>KO-CLP1</dt><dd>656</dd><dt>KO-CLP2</dt><dd>887</dd><dt>KO-CLP3</dt><dd>715</dd><dt>KO-CLP4</dt><dd>656</dd><dt>KO-CLP5</dt><dd>856</dd><dt>KO-CLP6</dt><dd>722</dd></dl>\n"
      ],
      "text/latex": [
       "\\begin{description*}\n",
       "\\item[KO-CLP1] 656\n",
       "\\item[KO-CLP2] 887\n",
       "\\item[KO-CLP3] 715\n",
       "\\item[KO-CLP4] 656\n",
       "\\item[KO-CLP5] 856\n",
       "\\item[KO-CLP6] 722\n",
       "\\end{description*}\n"
      ],
      "text/markdown": [
       "KO-CLP1\n",
       ":   656KO-CLP2\n",
       ":   887KO-CLP3\n",
       ":   715KO-CLP4\n",
       ":   656KO-CLP5\n",
       ":   856KO-CLP6\n",
       ":   722\n",
       "\n"
      ],
      "text/plain": [
       "KO-CLP1 KO-CLP2 KO-CLP3 KO-CLP4 KO-CLP5 KO-CLP6 \n",
       "    656     887     715     656     856     722 "
      ]
     },
     "metadata": {},
     "output_type": "display_data"
    }
   ],
   "source": [
    "get_mv_number(object = object_pos, by = \"sample\") %>% head()"
   ]
  },
  {
   "cell_type": "code",
   "execution_count": 492,
   "id": "b26ca968-0580-4052-ac65-d75181e0db56",
   "metadata": {},
   "outputs": [
    {
     "data": {
      "text/html": [
       "<strong>png:</strong> 2"
      ],
      "text/latex": [
       "\\textbf{png:} 2"
      ],
      "text/markdown": [
       "**png:** 2"
      ],
      "text/plain": [
       "png \n",
       "  2 "
      ]
     },
     "metadata": {},
     "output_type": "display_data"
    }
   ],
   "source": [
    "pdf(file=\"data_cleaning/POS/total_MVs.pdf\")\n",
    "show_missing_values(object = object_pos, show_column_names = TRUE, show_row_names = TRUE, percentage = TRUE)\n",
    "dev.off()"
   ]
  },
  {
   "cell_type": "code",
   "execution_count": 493,
   "id": "616174c5-562c-43a9-9bb5-a3067cd539a2",
   "metadata": {},
   "outputs": [
    {
     "data": {
      "text/html": [
       "<strong>png:</strong> 2"
      ],
      "text/latex": [
       "\\textbf{png:} 2"
      ],
      "text/markdown": [
       "**png:** 2"
      ],
      "text/plain": [
       "png \n",
       "  2 "
      ]
     },
     "metadata": {},
     "output_type": "display_data"
    }
   ],
   "source": [
    "pdf(file=\"data_cleaning/POS/Samples_MVs.pdf\")\n",
    "show_sample_missing_values(object = object_pos, percentage = TRUE, color_by = \"group\")\n",
    "dev.off()"
   ]
  },
  {
   "cell_type": "code",
   "execution_count": 494,
   "id": "5108414e-2193-444f-bd4a-62c4e703c356",
   "metadata": {},
   "outputs": [
    {
     "data": {
      "text/html": [
       "<strong>png:</strong> 2"
      ],
      "text/latex": [
       "\\textbf{png:} 2"
      ],
      "text/markdown": [
       "**png:** 2"
      ],
      "text/plain": [
       "png \n",
       "  2 "
      ]
     },
     "metadata": {},
     "output_type": "display_data"
    }
   ],
   "source": [
    "pdf(file=\"data_cleaning/POS/Variables_MVs.pdf\")\n",
    "p<- show_variable_missing_values(\n",
    "  object = object_pos,\n",
    "  percentage = TRUE,\n",
    "  show_x_text = FALSE,\n",
    "  show_x_ticks = FALSE,\n",
    "  color_by = \"mz\"\n",
    ") \n",
    "p+ scale_size_continuous(range = c(0.01, 1))\n",
    "dev.off()"
   ]
  },
  {
   "cell_type": "code",
   "execution_count": 496,
   "id": "b988dbcc-430a-4282-aaf1-40339afbbcee",
   "metadata": {},
   "outputs": [
    {
     "name": "stderr",
     "output_type": "stream",
     "text": [
      "\u001b[1mRows: \u001b[22m\u001b[34m38\u001b[39m \u001b[1mColumns: \u001b[22m\u001b[34m3\u001b[39m\n",
      "\u001b[36m──\u001b[39m \u001b[1mColumn specification\u001b[22m \u001b[36m────────────────────────────────────────────────────────\u001b[39m\n",
      "\u001b[1mDelimiter:\u001b[22m \",\"\n",
      "\u001b[31mchr\u001b[39m (3): sample_id, group, class\n",
      "\n",
      "\u001b[36mℹ\u001b[39m Use `spec()` to retrieve the full column specification for this data.\n",
      "\u001b[36mℹ\u001b[39m Specify the column types or set `show_col_types = FALSE` to quiet this message.\n"
     ]
    }
   ],
   "source": [
    "sample_info_neg <- readr::read_csv(\"./sample_info.csv\")"
   ]
  },
  {
   "cell_type": "code",
   "execution_count": 497,
   "id": "c86d3815-5c37-41cb-aa17-7b3d1bf5ace4",
   "metadata": {},
   "outputs": [
    {
     "data": {
      "text/html": [
       "<table class=\"dataframe\">\n",
       "<caption>A data.frame: 6 × 3</caption>\n",
       "<thead>\n",
       "\t<tr><th></th><th scope=col>sample_id</th><th scope=col>group</th><th scope=col>class</th></tr>\n",
       "\t<tr><th></th><th scope=col>&lt;chr&gt;</th><th scope=col>&lt;chr&gt;</th><th scope=col>&lt;chr&gt;</th></tr>\n",
       "</thead>\n",
       "<tbody>\n",
       "\t<tr><th scope=row>1</th><td>KO-CLP1</td><td>KO_CLP</td><td>KO-CLP</td></tr>\n",
       "\t<tr><th scope=row>2</th><td>KO-CLP2</td><td>KO_CLP</td><td>KO-CLP</td></tr>\n",
       "\t<tr><th scope=row>3</th><td>KO-CLP3</td><td>KO_CLP</td><td>KO-CLP</td></tr>\n",
       "\t<tr><th scope=row>4</th><td>KO-CLP4</td><td>KO_CLP</td><td>KO-CLP</td></tr>\n",
       "\t<tr><th scope=row>5</th><td>KO-CLP5</td><td>KO_CLP</td><td>KO-CLP</td></tr>\n",
       "\t<tr><th scope=row>6</th><td>KO-CLP6</td><td>KO_CLP</td><td>KO-CLP</td></tr>\n",
       "</tbody>\n",
       "</table>\n"
      ],
      "text/latex": [
       "A data.frame: 6 × 3\n",
       "\\begin{tabular}{r|lll}\n",
       "  & sample\\_id & group & class\\\\\n",
       "  & <chr> & <chr> & <chr>\\\\\n",
       "\\hline\n",
       "\t1 & KO-CLP1 & KO\\_CLP & KO-CLP\\\\\n",
       "\t2 & KO-CLP2 & KO\\_CLP & KO-CLP\\\\\n",
       "\t3 & KO-CLP3 & KO\\_CLP & KO-CLP\\\\\n",
       "\t4 & KO-CLP4 & KO\\_CLP & KO-CLP\\\\\n",
       "\t5 & KO-CLP5 & KO\\_CLP & KO-CLP\\\\\n",
       "\t6 & KO-CLP6 & KO\\_CLP & KO-CLP\\\\\n",
       "\\end{tabular}\n"
      ],
      "text/markdown": [
       "\n",
       "A data.frame: 6 × 3\n",
       "\n",
       "| <!--/--> | sample_id &lt;chr&gt; | group &lt;chr&gt; | class &lt;chr&gt; |\n",
       "|---|---|---|---|\n",
       "| 1 | KO-CLP1 | KO_CLP | KO-CLP |\n",
       "| 2 | KO-CLP2 | KO_CLP | KO-CLP |\n",
       "| 3 | KO-CLP3 | KO_CLP | KO-CLP |\n",
       "| 4 | KO-CLP4 | KO_CLP | KO-CLP |\n",
       "| 5 | KO-CLP5 | KO_CLP | KO-CLP |\n",
       "| 6 | KO-CLP6 | KO_CLP | KO-CLP |\n",
       "\n"
      ],
      "text/plain": [
       "  sample_id group  class \n",
       "1 KO-CLP1   KO_CLP KO-CLP\n",
       "2 KO-CLP2   KO_CLP KO-CLP\n",
       "3 KO-CLP3   KO_CLP KO-CLP\n",
       "4 KO-CLP4   KO_CLP KO-CLP\n",
       "5 KO-CLP5   KO_CLP KO-CLP\n",
       "6 KO-CLP6   KO_CLP KO-CLP"
      ]
     },
     "metadata": {},
     "output_type": "display_data"
    }
   ],
   "source": [
    "object_neg <- object_neg %>% activate_mass_dataset(what = \"sample_info\") %>% dplyr::select(-c(\"group\", \"class\", \"injection.order\"))\n",
    "\n",
    "# 将sample_info_neg添加至object_neg\n",
    "object_neg = object_neg %>% activate_mass_dataset(what = \"sample_info\") %>% left_join(sample_info_neg, by = \"sample_id\")\n",
    "\n",
    "object_neg %>% extract_sample_info() %>% head()"
   ]
  },
  {
   "cell_type": "code",
   "execution_count": 498,
   "id": "355fc8d2-fc07-4194-9360-e7038a8041e7",
   "metadata": {},
   "outputs": [],
   "source": [
    "dir.create(\"data_cleaning/NEG\", showWarnings = FALSE, recursive = TRUE)\n",
    "save(object_neg, file = \"data_cleaning/NEG/object_neg\")"
   ]
  },
  {
   "cell_type": "code",
   "execution_count": 499,
   "id": "c7390ce8-5655-4f69-914e-4dffeda193f2",
   "metadata": {},
   "outputs": [
    {
     "data": {
      "text/html": [
       "<strong>png:</strong> 2"
      ],
      "text/latex": [
       "\\textbf{png:} 2"
      ],
      "text/markdown": [
       "**png:** 2"
      ],
      "text/plain": [
       "png \n",
       "  2 "
      ]
     },
     "metadata": {},
     "output_type": "display_data"
    }
   ],
   "source": [
    "pdf(file=\"data_cleaning/NEG/peak_distributation_plot_negtive.pdf\")\n",
    "\n",
    "object_neg %>% `+`(1) %>% log(10) %>% show_mz_rt_plot() + scale_size_continuous(range = c(0.01, 2))\n",
    "\n",
    "dev.off()"
   ]
  },
  {
   "cell_type": "code",
   "execution_count": 500,
   "id": "3ec84c9a-2b46-4f43-8040-7b3184ea126c",
   "metadata": {},
   "outputs": [
    {
     "data": {
      "text/html": [
       "<strong>png:</strong> 2"
      ],
      "text/latex": [
       "\\textbf{png:} 2"
      ],
      "text/markdown": [
       "**png:** 2"
      ],
      "text/plain": [
       "png \n",
       "  2 "
      ]
     },
     "metadata": {},
     "output_type": "display_data"
    }
   ],
   "source": [
    "pdf(file=\"data_cleaning/NEG/total_MVs.pdf\")\n",
    "\n",
    "show_missing_values(object = object_neg, show_column_names = FALSE, percentage = TRUE)\n",
    "\n",
    "dev.off()"
   ]
  },
  {
   "cell_type": "code",
   "execution_count": 501,
   "id": "65028f04-34ef-4b05-b3b2-40923cf4dac2",
   "metadata": {},
   "outputs": [
    {
     "data": {
      "text/html": [
       "<strong>png:</strong> 2"
      ],
      "text/latex": [
       "\\textbf{png:} 2"
      ],
      "text/markdown": [
       "**png:** 2"
      ],
      "text/plain": [
       "png \n",
       "  2 "
      ]
     },
     "metadata": {},
     "output_type": "display_data"
    }
   ],
   "source": [
    "pdf(file=\"data_cleaning/NEG/Samples_MVs.pdf\")\n",
    "\n",
    "show_sample_missing_values(object = object_neg, percentage = TRUE)\n",
    "\n",
    "dev.off()"
   ]
  },
  {
   "cell_type": "code",
   "execution_count": 502,
   "id": "d81ec1bd-cd6e-416b-a21b-39b9d6f3a381",
   "metadata": {},
   "outputs": [
    {
     "data": {
      "text/html": [
       "<strong>png:</strong> 2"
      ],
      "text/latex": [
       "\\textbf{png:} 2"
      ],
      "text/markdown": [
       "**png:** 2"
      ],
      "text/plain": [
       "png \n",
       "  2 "
      ]
     },
     "metadata": {},
     "output_type": "display_data"
    }
   ],
   "source": [
    "pdf(file=\"data_cleaning/NEG/Variables_MVs.pdf\")\n",
    "\n",
    "p<- show_variable_missing_values(\n",
    "  object = object_neg,\n",
    "  percentage = TRUE,\n",
    "  show_x_text = FALSE,\n",
    "  show_x_ticks = FALSE\n",
    ") \n",
    "\n",
    "p+ scale_size_continuous(range = c(0.01, 1))\n",
    "\n",
    "dev.off()"
   ]
  },
  {
   "cell_type": "markdown",
   "id": "93226a08-3f86-44c6-85a4-e6422d9739fa",
   "metadata": {},
   "source": [
    "### Data cleaning"
   ]
  },
  {
   "cell_type": "code",
   "execution_count": 503,
   "id": "5bc1c2de-d783-4d96-871b-f4c5df44f47f",
   "metadata": {
    "collapsed": true,
    "jupyter": {
     "outputs_hidden": true
    }
   },
   "outputs": [
    {
     "name": "stderr",
     "output_type": "stream",
     "text": [
      "Get report template.\n",
      "\n",
      "Parameters.\n",
      "\n",
      "Sample infromation.\n",
      "\n",
      "Missing values in dataset.\n",
      "\n",
      "Missing values in all variables.\n",
      "\n",
      "Missing values in all samples.\n",
      "\n",
      "RSD for variables.\n",
      "\n",
      "Intensity for all the variables in all samples.\n",
      "\n",
      "Sample correlation.\n",
      "\n",
      "PCA score plot.\n",
      "\n",
      "PCA done.\n",
      "\n",
      "Render report.\n",
      "\n",
      "\n",
      "\n",
      "processing file: massqc.template.Rmd\n",
      "\n"
     ]
    },
    {
     "name": "stdout",
     "output_type": "stream",
     "text": [
      "  |..........                                                            |  14%\n",
      "  ordinary text without R code\n",
      "\n",
      "  |....................                                                  |  29%\n",
      "label: setup (with options) \n",
      "List of 1\n",
      " $ include: logi FALSE\n",
      "\n",
      "  |..............................                                        |  43%\n",
      "   inline R code fragments\n",
      "\n",
      "  |........................................                              |  57%\n",
      "label: unnamed-chunk-1 (with options) \n",
      "List of 3\n",
      " $ echo   : logi FALSE\n",
      " $ message: logi FALSE\n",
      " $ warning: logi FALSE\n",
      "\n",
      "  |..................................................                    |  71%\n",
      "  ordinary text without R code\n",
      "\n",
      "  |............................................................          |  86%\n",
      "label: unnamed-chunk-2 (with options) \n",
      "List of 3\n",
      " $ echo   : logi FALSE\n",
      " $ message: logi FALSE\n",
      " $ warning: logi FALSE\n",
      "\n",
      "  |......................................................................| 100%\n",
      "  ordinary text without R code\n",
      "\n",
      "\n"
     ]
    },
    {
     "name": "stderr",
     "output_type": "stream",
     "text": [
      "output file: massqc.template.knit.md\n",
      "\n",
      "\n"
     ]
    },
    {
     "name": "stdout",
     "output_type": "stream",
     "text": [
      "/root/miniconda3/envs/Rdoc/bin/pandoc +RTS -K512m -RTS massqc.template.knit.md --to html4 --from markdown+autolink_bare_uris+tex_math_single_backslash --output massqc.template.html --lua-filter /root/miniconda3/envs/metadoc/lib/R/library/rmarkdown/rmarkdown/lua/pagebreak.lua --lua-filter /root/miniconda3/envs/metadoc/lib/R/library/rmarkdown/rmarkdown/lua/latex-div.lua --embed-resources --standalone --variable bs3=TRUE --section-divs --template /root/miniconda3/envs/metadoc/lib/R/library/rmarkdown/rmd/h/default.html --no-highlight --variable highlightjs=1 --variable theme=bootstrap --mathjax --variable 'mathjax-url=https://mathjax.rstudio.com/latest/MathJax.js?config=TeX-AMS-MML_HTMLorMML' --include-in-header /tmp/RtmpB5dnYI/rmarkdown-str29cb19532150.html \n"
     ]
    },
    {
     "name": "stderr",
     "output_type": "stream",
     "text": [
      "\n",
      "Output created: massqc.template.html\n",
      "\n",
      "Remove some files.\n",
      "\n",
      "Get report template.\n",
      "\n",
      "Parameters.\n",
      "\n",
      "Sample infromation.\n",
      "\n",
      "Missing values in dataset.\n",
      "\n",
      "Missing values in all variables.\n",
      "\n",
      "Missing values in all samples.\n",
      "\n",
      "RSD for variables.\n",
      "\n",
      "Intensity for all the variables in all samples.\n",
      "\n",
      "Sample correlation.\n",
      "\n",
      "PCA score plot.\n",
      "\n",
      "PCA done.\n",
      "\n",
      "Render report.\n",
      "\n",
      "\n",
      "\n",
      "processing file: massqc.template.Rmd\n",
      "\n"
     ]
    },
    {
     "name": "stdout",
     "output_type": "stream",
     "text": [
      "  |..........                                                            |  14%\n",
      "  ordinary text without R code\n",
      "\n",
      "  |....................                                                  |  29%\n",
      "label: setup (with options) \n",
      "List of 1\n",
      " $ include: logi FALSE\n",
      "\n",
      "  |..............................                                        |  43%\n",
      "   inline R code fragments\n",
      "\n",
      "  |........................................                              |  57%\n",
      "label: unnamed-chunk-1 (with options) \n",
      "List of 3\n",
      " $ echo   : logi FALSE\n",
      " $ message: logi FALSE\n",
      " $ warning: logi FALSE\n",
      "\n",
      "  |..................................................                    |  71%\n",
      "  ordinary text without R code\n",
      "\n",
      "  |............................................................          |  86%\n",
      "label: unnamed-chunk-2 (with options) \n",
      "List of 3\n",
      " $ echo   : logi FALSE\n",
      " $ message: logi FALSE\n",
      " $ warning: logi FALSE\n",
      "\n",
      "  |......................................................................| 100%\n",
      "  ordinary text without R code\n",
      "\n",
      "\n"
     ]
    },
    {
     "name": "stderr",
     "output_type": "stream",
     "text": [
      "output file: massqc.template.knit.md\n",
      "\n",
      "\n"
     ]
    },
    {
     "name": "stdout",
     "output_type": "stream",
     "text": [
      "/root/miniconda3/envs/Rdoc/bin/pandoc +RTS -K512m -RTS massqc.template.knit.md --to html4 --from markdown+autolink_bare_uris+tex_math_single_backslash --output massqc.template.html --lua-filter /root/miniconda3/envs/metadoc/lib/R/library/rmarkdown/rmarkdown/lua/pagebreak.lua --lua-filter /root/miniconda3/envs/metadoc/lib/R/library/rmarkdown/rmarkdown/lua/latex-div.lua --embed-resources --standalone --variable bs3=TRUE --section-divs --template /root/miniconda3/envs/metadoc/lib/R/library/rmarkdown/rmd/h/default.html --no-highlight --variable highlightjs=1 --variable theme=bootstrap --mathjax --variable 'mathjax-url=https://mathjax.rstudio.com/latest/MathJax.js?config=TeX-AMS-MML_HTMLorMML' --include-in-header /tmp/RtmpB5dnYI/rmarkdown-str29cb1549f4bb.html \n"
     ]
    },
    {
     "name": "stderr",
     "output_type": "stream",
     "text": [
      "\n",
      "Output created: massqc.template.html\n",
      "\n",
      "Remove some files.\n",
      "\n"
     ]
    }
   ],
   "source": [
    "load(\"data_cleaning/POS/object_pos\")\n",
    "load(\"data_cleaning/NEG/object_neg\")\n",
    "\n",
    "# 将批次号改为字符串\n",
    "object_pos <- object_pos %>% activate_mass_dataset(what = \"sample_info\") %>% dplyr::mutate(batch = as.character(group))\n",
    "\n",
    "object_neg <- object_neg %>% activate_mass_dataset(what = \"sample_info\") %>% dplyr::mutate(batch = as.character(group))\n",
    "\n",
    "# 先评估数据质量\n",
    "massqc::massqc_report(object = object_pos, path = \"data_cleaning/POS/data_quality_before_data_cleaning\")\n",
    "\n",
    "massqc::massqc_report(object = object_neg, path = \"data_cleaning/NEG/data_quality_before_data_cleaning\")"
   ]
  },
  {
   "cell_type": "code",
   "execution_count": 504,
   "id": "5c8e16fc-bf09-4aaf-a694-17d9a4111531",
   "metadata": {},
   "outputs": [
    {
     "data": {
      "text/html": [
       "<table class=\"dataframe\">\n",
       "<caption>A data.frame: 5 × 2</caption>\n",
       "<thead>\n",
       "\t<tr><th scope=col>group</th><th scope=col>n</th></tr>\n",
       "\t<tr><th scope=col>&lt;chr&gt;</th><th scope=col>&lt;int&gt;</th></tr>\n",
       "</thead>\n",
       "<tbody>\n",
       "\t<tr><td>KO_CLP</td><td>8</td></tr>\n",
       "\t<tr><td>KO_NC </td><td>8</td></tr>\n",
       "\t<tr><td>QC    </td><td>6</td></tr>\n",
       "\t<tr><td>WT_CLP</td><td>8</td></tr>\n",
       "\t<tr><td>WT_NC </td><td>8</td></tr>\n",
       "</tbody>\n",
       "</table>\n"
      ],
      "text/latex": [
       "A data.frame: 5 × 2\n",
       "\\begin{tabular}{ll}\n",
       " group & n\\\\\n",
       " <chr> & <int>\\\\\n",
       "\\hline\n",
       "\t KO\\_CLP & 8\\\\\n",
       "\t KO\\_NC  & 8\\\\\n",
       "\t QC     & 6\\\\\n",
       "\t WT\\_CLP & 8\\\\\n",
       "\t WT\\_NC  & 8\\\\\n",
       "\\end{tabular}\n"
      ],
      "text/markdown": [
       "\n",
       "A data.frame: 5 × 2\n",
       "\n",
       "| group &lt;chr&gt; | n &lt;int&gt; |\n",
       "|---|---|\n",
       "| KO_CLP | 8 |\n",
       "| KO_NC  | 8 |\n",
       "| QC     | 6 |\n",
       "| WT_CLP | 8 |\n",
       "| WT_NC  | 8 |\n",
       "\n"
      ],
      "text/plain": [
       "  group  n\n",
       "1 KO_CLP 8\n",
       "2 KO_NC  8\n",
       "3 QC     6\n",
       "4 WT_CLP 8\n",
       "5 WT_NC  8"
      ]
     },
     "metadata": {},
     "output_type": "display_data"
    }
   ],
   "source": [
    "object_pos %>% activate_mass_dataset(what = \"sample_info\") %>% dplyr::count(group)"
   ]
  },
  {
   "cell_type": "code",
   "execution_count": 505,
   "id": "e67cbfb0-44ef-452c-a767-4d5128ac68da",
   "metadata": {},
   "outputs": [
    {
     "data": {
      "text/html": [
       "<strong>png:</strong> 2"
      ],
      "text/latex": [
       "\\textbf{png:} 2"
      ],
      "text/markdown": [
       "**png:** 2"
      ],
      "text/plain": [
       "png \n",
       "  2 "
      ]
     },
     "metadata": {},
     "output_type": "display_data"
    }
   ],
   "source": [
    "pdf(file=\"data_cleaning/POS/MVpercentQC.pdf\")\n",
    "\n",
    "p<- show_variable_missing_values(object = object_pos %>% activate_mass_dataset(what = \"sample_info\") %>% filter(class == \"QC\"), percentage = TRUE) \n",
    "\n",
    "p+ scale_size_continuous(range = c(0.01, 2))\n",
    "\n",
    "dev.off()"
   ]
  },
  {
   "cell_type": "code",
   "execution_count": 506,
   "id": "27a48dcd-24a7-4b2f-9bc1-28d7de75e17c",
   "metadata": {},
   "outputs": [],
   "source": [
    "qc_id = object_pos %>% activate_mass_dataset(what = \"sample_info\") %>% filter(class == \"QC\") %>% pull(sample_id)\n",
    "\n",
    "# 统计对照组中的MV占比\n",
    "KO_CLP_id = object_pos %>% activate_mass_dataset(what = \"sample_info\") %>% \n",
    "filter(class == \"KO-CLP\") %>% pull(sample_id)\n",
    "\n",
    "\n",
    "\n",
    "KO_NC_id = object_pos %>% activate_mass_dataset(what = \"sample_info\") %>% \n",
    "filter(class == \"KO-NC\") %>% pull(sample_id)\n",
    "WT_CLP_id = object_pos %>% activate_mass_dataset(what = \"sample_info\") %>% \n",
    "filter(class == \"WT-CLP\") %>% pull(sample_id)\n",
    "WT_NC_id = object_pos %>% activate_mass_dataset(what = \"sample_info\") %>% \n",
    "filter(class == \"KO-NC\") %>% pull(sample_id)"
   ]
  },
  {
   "cell_type": "code",
   "execution_count": 507,
   "id": "c3af20b1-d781-47b7-941b-1fd1946af451",
   "metadata": {},
   "outputs": [],
   "source": [
    "# 整合以上统计信息\n",
    "object_pos = object_pos %>% \n",
    "mutate_variable_na_freq(according_to_samples = qc_id) %>% \n",
    "mutate_variable_na_freq(according_to_samples = KO_CLP_id) %>% \n",
    "mutate_variable_na_freq(according_to_samples = KO_NC_id)%>% \n",
    "mutate_variable_na_freq(according_to_samples = WT_CLP_id) %>% \n",
    "mutate_variable_na_freq(according_to_samples = WT_NC_id)"
   ]
  },
  {
   "cell_type": "code",
   "execution_count": 508,
   "id": "681b1015-fca9-439f-afbc-5c4735a56f2c",
   "metadata": {},
   "outputs": [
    {
     "data": {
      "text/html": [
       "<style>\n",
       ".list-inline {list-style: none; margin:0; padding: 0}\n",
       ".list-inline>li {display: inline-block}\n",
       ".list-inline>li:not(:last-child)::after {content: \"\\00b7\"; padding: 0 .5ex}\n",
       "</style>\n",
       "<ol class=list-inline><li>1333</li><li>8</li></ol>\n"
      ],
      "text/latex": [
       "\\begin{enumerate*}\n",
       "\\item 1333\n",
       "\\item 8\n",
       "\\end{enumerate*}\n"
      ],
      "text/markdown": [
       "1. 1333\n",
       "2. 8\n",
       "\n",
       "\n"
      ],
      "text/plain": [
       "[1] 1333    8"
      ]
     },
     "metadata": {},
     "output_type": "display_data"
    }
   ],
   "source": [
    "dim(extract_variable_info(object_pos))"
   ]
  },
  {
   "cell_type": "code",
   "execution_count": 468,
   "id": "6f1d4fc2-f619-4177-9548-6aea49b51a70",
   "metadata": {},
   "outputs": [],
   "source": [
    "# object_pos <- object_pos %>% activate_mass_dataset(what = \"variable_info\") %>% filter(na_freq < 0.2 & (na_freq.1 < 0.5 | na_freq.2 < 0.5))\n",
    "\n",
    "# object_pos"
   ]
  },
  {
   "cell_type": "code",
   "execution_count": 509,
   "id": "65efc4c0-97fc-4a63-b355-2ac64c463269",
   "metadata": {},
   "outputs": [
    {
     "data": {
      "text/html": [
       "<table class=\"dataframe\">\n",
       "<caption>A data.frame: 5 × 2</caption>\n",
       "<thead>\n",
       "\t<tr><th scope=col>group</th><th scope=col>n</th></tr>\n",
       "\t<tr><th scope=col>&lt;chr&gt;</th><th scope=col>&lt;int&gt;</th></tr>\n",
       "</thead>\n",
       "<tbody>\n",
       "\t<tr><td>KO_CLP</td><td>8</td></tr>\n",
       "\t<tr><td>KO_NC </td><td>8</td></tr>\n",
       "\t<tr><td>QC    </td><td>6</td></tr>\n",
       "\t<tr><td>WT_CLP</td><td>8</td></tr>\n",
       "\t<tr><td>WT_NC </td><td>8</td></tr>\n",
       "</tbody>\n",
       "</table>\n"
      ],
      "text/latex": [
       "A data.frame: 5 × 2\n",
       "\\begin{tabular}{ll}\n",
       " group & n\\\\\n",
       " <chr> & <int>\\\\\n",
       "\\hline\n",
       "\t KO\\_CLP & 8\\\\\n",
       "\t KO\\_NC  & 8\\\\\n",
       "\t QC     & 6\\\\\n",
       "\t WT\\_CLP & 8\\\\\n",
       "\t WT\\_NC  & 8\\\\\n",
       "\\end{tabular}\n"
      ],
      "text/markdown": [
       "\n",
       "A data.frame: 5 × 2\n",
       "\n",
       "| group &lt;chr&gt; | n &lt;int&gt; |\n",
       "|---|---|\n",
       "| KO_CLP | 8 |\n",
       "| KO_NC  | 8 |\n",
       "| QC     | 6 |\n",
       "| WT_CLP | 8 |\n",
       "| WT_NC  | 8 |\n",
       "\n"
      ],
      "text/plain": [
       "  group  n\n",
       "1 KO_CLP 8\n",
       "2 KO_NC  8\n",
       "3 QC     6\n",
       "4 WT_CLP 8\n",
       "5 WT_NC  8"
      ]
     },
     "metadata": {},
     "output_type": "display_data"
    },
    {
     "data": {
      "text/html": [
       "<strong>png:</strong> 2"
      ],
      "text/latex": [
       "\\textbf{png:} 2"
      ],
      "text/markdown": [
       "**png:** 2"
      ],
      "text/plain": [
       "png \n",
       "  2 "
      ]
     },
     "metadata": {},
     "output_type": "display_data"
    }
   ],
   "source": [
    "object_neg %>% activate_mass_dataset(what = \"sample_info\") %>% dplyr::count(group)\n",
    "#>     group   n\n",
    "#> 1    Case 110\n",
    "#> 2 Control 110\n",
    "#> 3      QC  39\n",
    "\n",
    "# QC样本中的MV占比\n",
    "pdf(file=\"data_cleaning/NEG/MVpercentQC.pdf\")\n",
    "\n",
    "p<- show_variable_missing_values(object = object_neg %>% activate_mass_dataset(what = \"sample_info\") %>% filter(class == \"QC\"), percentage = TRUE)\n",
    "\n",
    "p+ scale_size_continuous(range = c(0.01, 2))\n",
    "\n",
    "dev.off()"
   ]
  },
  {
   "cell_type": "code",
   "execution_count": 510,
   "id": "85a4b950-c155-4af6-bec6-becf9ebc2de1",
   "metadata": {},
   "outputs": [],
   "source": [
    "qc_id = object_neg %>% activate_mass_dataset(what = \"sample_info\") %>% filter(class == \"QC\") %>% pull(sample_id)\n",
    "\n",
    "# 统计对照组中的MV占比\n",
    "KO_CLP_id = object_neg %>% activate_mass_dataset(what = \"sample_info\") %>% \n",
    "filter(class == \"KO-CLP\") %>% pull(sample_id)\n",
    "\n",
    "\n",
    "\n",
    "KO_NC_id = object_neg %>% activate_mass_dataset(what = \"sample_info\") %>% \n",
    "filter(class == \"KO-NC\") %>% pull(sample_id)\n",
    "WT_CLP_id = object_neg %>% activate_mass_dataset(what = \"sample_info\") %>% \n",
    "filter(class == \"WT-CLP\") %>% pull(sample_id)\n",
    "WT_NC_id = object_neg %>% activate_mass_dataset(what = \"sample_info\") %>% \n",
    "filter(class == \"KO-NC\") %>% pull(sample_id)"
   ]
  },
  {
   "cell_type": "code",
   "execution_count": 511,
   "id": "5779b8df-aae7-4624-ae63-ce6015944796",
   "metadata": {},
   "outputs": [],
   "source": [
    "# 整合以上统计信息\n",
    "object_neg = object_neg %>% \n",
    "mutate_variable_na_freq(according_to_samples = qc_id) %>% \n",
    "mutate_variable_na_freq(according_to_samples = KO_CLP_id) %>% \n",
    "mutate_variable_na_freq(according_to_samples = KO_NC_id)%>% \n",
    "mutate_variable_na_freq(according_to_samples = WT_CLP_id) %>% \n",
    "mutate_variable_na_freq(according_to_samples = WT_NC_id)"
   ]
  },
  {
   "cell_type": "code",
   "execution_count": 472,
   "id": "c9e52f28-1d46-4f6b-8045-7d71f0350786",
   "metadata": {},
   "outputs": [],
   "source": [
    "# object_neg <- object_neg %>% activate_mass_dataset(what = \"variable_info\") %>% filter(na_freq < 0.2 & (na_freq.1 < 0.5 | na_freq.2 < 0.5))\n",
    "\n",
    "# object_neg"
   ]
  },
  {
   "cell_type": "code",
   "execution_count": 512,
   "id": "ab15407d-c8fa-4dfb-b45a-ec7c6c13c01f",
   "metadata": {},
   "outputs": [
    {
     "data": {
      "text/html": [
       "<strong>png:</strong> 2"
      ],
      "text/latex": [
       "\\textbf{png:} 2"
      ],
      "text/markdown": [
       "**png:** 2"
      ],
      "text/plain": [
       "png \n",
       "  2 "
      ]
     },
     "metadata": {},
     "output_type": "display_data"
    }
   ],
   "source": [
    "pdf(file=\"data_cleaning/POS/MVpercentALL.pdf\")\n",
    "massdataset::show_sample_missing_values(object = object_pos, color_by = \"group\", order_by = \"injection.order\", percentage = TRUE) + theme(axis.text.x = element_text(size = 2)) + scale_size_continuous(range = c(0.1, 2)) + ggsci::scale_color_aaas()\n",
    "dev.off()"
   ]
  },
  {
   "cell_type": "code",
   "execution_count": 513,
   "id": "28be4bb3-5b97-4b60-9eb8-6e51cc87bd54",
   "metadata": {},
   "outputs": [
    {
     "data": {
      "text/plain": [
       "\u001b[33m-------------------- \n",
       "\u001b[39m\u001b[32mmasscleaner \n",
       "\u001b[39m\u001b[33m-------------------- \n",
       "\u001b[39m\u001b[32m1 according_to_na : \u001b[39m22 outlier samples.\n",
       "\u001b[32mKO-CLP2,KO-CLP3,KO-CLP5,KO-CLP6,KO-CLP7,... .\n",
       "\u001b[39m\u001b[32m2 according_to_pc_sd : \u001b[39m0 outlier samples.\n",
       "\u001b[32m3 according_to_pc_mad : \u001b[39m0 outlier samples.\n",
       "\u001b[32m4 accordint_to_distance : \u001b[39m0 outlier samples.\n",
       "\u001b[33mextract all outlier table using extract_outlier_table()\n",
       "\u001b[39m"
      ]
     },
     "metadata": {},
     "output_type": "display_data"
    }
   ],
   "source": [
    "outlier_samples = object_pos %>% `+`(1) %>% log(2) %>% scale() %>% detect_outlier()\n",
    "\n",
    "outlier_samples"
   ]
  },
  {
   "cell_type": "code",
   "execution_count": 514,
   "id": "d645d9c6-3204-4d2e-a675-5f946f52eb66",
   "metadata": {},
   "outputs": [
    {
     "data": {
      "text/html": [
       "<table class=\"dataframe\">\n",
       "<caption>A data.frame: 6 × 4</caption>\n",
       "<thead>\n",
       "\t<tr><th></th><th scope=col>according_to_na</th><th scope=col>pc_sd</th><th scope=col>pc_mad</th><th scope=col>accordint_to_distance</th></tr>\n",
       "\t<tr><th></th><th scope=col>&lt;lgl&gt;</th><th scope=col>&lt;lgl&gt;</th><th scope=col>&lt;lgl&gt;</th><th scope=col>&lt;lgl&gt;</th></tr>\n",
       "</thead>\n",
       "<tbody>\n",
       "\t<tr><th scope=row>KO-CLP1</th><td>FALSE</td><td>FALSE</td><td>FALSE</td><td>FALSE</td></tr>\n",
       "\t<tr><th scope=row>KO-CLP2</th><td> TRUE</td><td>FALSE</td><td>FALSE</td><td>FALSE</td></tr>\n",
       "\t<tr><th scope=row>KO-CLP3</th><td> TRUE</td><td>FALSE</td><td>FALSE</td><td>FALSE</td></tr>\n",
       "\t<tr><th scope=row>KO-CLP4</th><td>FALSE</td><td>FALSE</td><td>FALSE</td><td>FALSE</td></tr>\n",
       "\t<tr><th scope=row>KO-CLP5</th><td> TRUE</td><td>FALSE</td><td>FALSE</td><td>FALSE</td></tr>\n",
       "\t<tr><th scope=row>KO-CLP6</th><td> TRUE</td><td>FALSE</td><td>FALSE</td><td>FALSE</td></tr>\n",
       "</tbody>\n",
       "</table>\n"
      ],
      "text/latex": [
       "A data.frame: 6 × 4\n",
       "\\begin{tabular}{r|llll}\n",
       "  & according\\_to\\_na & pc\\_sd & pc\\_mad & accordint\\_to\\_distance\\\\\n",
       "  & <lgl> & <lgl> & <lgl> & <lgl>\\\\\n",
       "\\hline\n",
       "\tKO-CLP1 & FALSE & FALSE & FALSE & FALSE\\\\\n",
       "\tKO-CLP2 &  TRUE & FALSE & FALSE & FALSE\\\\\n",
       "\tKO-CLP3 &  TRUE & FALSE & FALSE & FALSE\\\\\n",
       "\tKO-CLP4 & FALSE & FALSE & FALSE & FALSE\\\\\n",
       "\tKO-CLP5 &  TRUE & FALSE & FALSE & FALSE\\\\\n",
       "\tKO-CLP6 &  TRUE & FALSE & FALSE & FALSE\\\\\n",
       "\\end{tabular}\n"
      ],
      "text/markdown": [
       "\n",
       "A data.frame: 6 × 4\n",
       "\n",
       "| <!--/--> | according_to_na &lt;lgl&gt; | pc_sd &lt;lgl&gt; | pc_mad &lt;lgl&gt; | accordint_to_distance &lt;lgl&gt; |\n",
       "|---|---|---|---|---|\n",
       "| KO-CLP1 | FALSE | FALSE | FALSE | FALSE |\n",
       "| KO-CLP2 |  TRUE | FALSE | FALSE | FALSE |\n",
       "| KO-CLP3 |  TRUE | FALSE | FALSE | FALSE |\n",
       "| KO-CLP4 | FALSE | FALSE | FALSE | FALSE |\n",
       "| KO-CLP5 |  TRUE | FALSE | FALSE | FALSE |\n",
       "| KO-CLP6 |  TRUE | FALSE | FALSE | FALSE |\n",
       "\n"
      ],
      "text/plain": [
       "        according_to_na pc_sd pc_mad accordint_to_distance\n",
       "KO-CLP1 FALSE           FALSE FALSE  FALSE                \n",
       "KO-CLP2  TRUE           FALSE FALSE  FALSE                \n",
       "KO-CLP3  TRUE           FALSE FALSE  FALSE                \n",
       "KO-CLP4 FALSE           FALSE FALSE  FALSE                \n",
       "KO-CLP5  TRUE           FALSE FALSE  FALSE                \n",
       "KO-CLP6  TRUE           FALSE FALSE  FALSE                "
      ]
     },
     "metadata": {},
     "output_type": "display_data"
    }
   ],
   "source": [
    "outlier_table <- extract_outlier_table(outlier_samples)\n",
    "\n",
    "outlier_table %>% head()"
   ]
  },
  {
   "cell_type": "code",
   "execution_count": 515,
   "id": "39df359b-00f2-4522-845f-f68e3115eee8",
   "metadata": {},
   "outputs": [
    {
     "data": {
      "text/html": [
       "<style>\n",
       ".dl-inline {width: auto; margin:0; padding: 0}\n",
       ".dl-inline>dt, .dl-inline>dd {float: none; width: auto; display: inline-block}\n",
       ".dl-inline>dt::after {content: \":\\0020\"; padding-right: .5ex}\n",
       ".dl-inline>dt:not(:first-of-type) {padding-left: .5ex}\n",
       "</style><dl class=dl-inline><dt>KO-CLP2</dt><dd>2</dd><dt>KO-CLP3</dt><dd>3</dd><dt>KO-CLP5</dt><dd>5</dd><dt>KO-CLP6</dt><dd>6</dd><dt>KO-CLP7</dt><dd>7</dd><dt>KO-CLP8</dt><dd>8</dd><dt>KO-NC2</dt><dd>10</dd><dt>KO-NC3</dt><dd>11</dd><dt>KO-NC5</dt><dd>13</dd><dt>KO-NC6</dt><dd>14</dd><dt>KO-NC7</dt><dd>15</dd><dt>KO-NC8</dt><dd>16</dd><dt>WT-CLP4</dt><dd>26</dd><dt>WT-CLP5</dt><dd>27</dd><dt>WT-CLP6</dt><dd>28</dd><dt>WT-CLP7</dt><dd>29</dd><dt>WT-NC2</dt><dd>32</dd><dt>WT-NC4</dt><dd>34</dd><dt>WT-NC5</dt><dd>35</dd><dt>WT-NC6</dt><dd>36</dd><dt>WT-NC7</dt><dd>37</dd><dt>WT-NC8</dt><dd>38</dd></dl>\n"
      ],
      "text/latex": [
       "\\begin{description*}\n",
       "\\item[KO-CLP2] 2\n",
       "\\item[KO-CLP3] 3\n",
       "\\item[KO-CLP5] 5\n",
       "\\item[KO-CLP6] 6\n",
       "\\item[KO-CLP7] 7\n",
       "\\item[KO-CLP8] 8\n",
       "\\item[KO-NC2] 10\n",
       "\\item[KO-NC3] 11\n",
       "\\item[KO-NC5] 13\n",
       "\\item[KO-NC6] 14\n",
       "\\item[KO-NC7] 15\n",
       "\\item[KO-NC8] 16\n",
       "\\item[WT-CLP4] 26\n",
       "\\item[WT-CLP5] 27\n",
       "\\item[WT-CLP6] 28\n",
       "\\item[WT-CLP7] 29\n",
       "\\item[WT-NC2] 32\n",
       "\\item[WT-NC4] 34\n",
       "\\item[WT-NC5] 35\n",
       "\\item[WT-NC6] 36\n",
       "\\item[WT-NC7] 37\n",
       "\\item[WT-NC8] 38\n",
       "\\end{description*}\n"
      ],
      "text/markdown": [
       "KO-CLP2\n",
       ":   2KO-CLP3\n",
       ":   3KO-CLP5\n",
       ":   5KO-CLP6\n",
       ":   6KO-CLP7\n",
       ":   7KO-CLP8\n",
       ":   8KO-NC2\n",
       ":   10KO-NC3\n",
       ":   11KO-NC5\n",
       ":   13KO-NC6\n",
       ":   14KO-NC7\n",
       ":   15KO-NC8\n",
       ":   16WT-CLP4\n",
       ":   26WT-CLP5\n",
       ":   27WT-CLP6\n",
       ":   28WT-CLP7\n",
       ":   29WT-NC2\n",
       ":   32WT-NC4\n",
       ":   34WT-NC5\n",
       ":   35WT-NC6\n",
       ":   36WT-NC7\n",
       ":   37WT-NC8\n",
       ":   38\n",
       "\n"
      ],
      "text/plain": [
       "KO-CLP2 KO-CLP3 KO-CLP5 KO-CLP6 KO-CLP7 KO-CLP8  KO-NC2  KO-NC3  KO-NC5  KO-NC6 \n",
       "      2       3       5       6       7       8      10      11      13      14 \n",
       " KO-NC7  KO-NC8 WT-CLP4 WT-CLP5 WT-CLP6 WT-CLP7  WT-NC2  WT-NC4  WT-NC5  WT-NC6 \n",
       "     15      16      26      27      28      29      32      34      35      36 \n",
       " WT-NC7  WT-NC8 \n",
       "     37      38 "
      ]
     },
     "metadata": {},
     "output_type": "display_data"
    }
   ],
   "source": [
    "outlier_table %>% apply(1, function(x){ sum(x)  }) %>% `>`(0) %>% which()"
   ]
  },
  {
   "cell_type": "code",
   "execution_count": 477,
   "id": "389b86fd-9f8b-4545-be20-5ca498342d17",
   "metadata": {},
   "outputs": [],
   "source": [
    "# need_id_pos <- names(outlier_table %>% apply(1, function(x){ sum(x)  }) %>% `==`(0) %>% which())\n",
    "\n",
    "# object_pos <- object_pos %>% activate_mass_dataset(what = \"sample_info\") %>% filter(sample_id %in% need_id_pos)"
   ]
  },
  {
   "cell_type": "code",
   "execution_count": 517,
   "id": "02bd80b1-96e9-4bf2-af06-f5431419a1e5",
   "metadata": {},
   "outputs": [
    {
     "data": {
      "text/html": [
       "<strong>png:</strong> 2"
      ],
      "text/latex": [
       "\\textbf{png:} 2"
      ],
      "text/markdown": [
       "**png:** 2"
      ],
      "text/plain": [
       "png \n",
       "  2 "
      ]
     },
     "metadata": {},
     "output_type": "display_data"
    },
    {
     "data": {
      "text/plain": [
       "\u001b[33m-------------------- \n",
       "\u001b[39m\u001b[32mmasscleaner \n",
       "\u001b[39m\u001b[33m-------------------- \n",
       "\u001b[39m\u001b[32m1 according_to_na : \u001b[39m17 outlier samples.\n",
       "\u001b[32mKO-CLP2,KO-CLP5,KO-CLP6,KO-CLP7,KO-NC2,... .\n",
       "\u001b[39m\u001b[32m2 according_to_pc_sd : \u001b[39m0 outlier samples.\n",
       "\u001b[32m3 according_to_pc_mad : \u001b[39m0 outlier samples.\n",
       "\u001b[32m4 accordint_to_distance : \u001b[39m0 outlier samples.\n",
       "\u001b[33mextract all outlier table using extract_outlier_table()\n",
       "\u001b[39m"
      ]
     },
     "metadata": {},
     "output_type": "display_data"
    },
    {
     "data": {
      "text/html": [
       "<table class=\"dataframe\">\n",
       "<caption>A data.frame: 6 × 4</caption>\n",
       "<thead>\n",
       "\t<tr><th></th><th scope=col>according_to_na</th><th scope=col>pc_sd</th><th scope=col>pc_mad</th><th scope=col>accordint_to_distance</th></tr>\n",
       "\t<tr><th></th><th scope=col>&lt;lgl&gt;</th><th scope=col>&lt;lgl&gt;</th><th scope=col>&lt;lgl&gt;</th><th scope=col>&lt;lgl&gt;</th></tr>\n",
       "</thead>\n",
       "<tbody>\n",
       "\t<tr><th scope=row>KO-CLP1</th><td>FALSE</td><td>FALSE</td><td>FALSE</td><td>FALSE</td></tr>\n",
       "\t<tr><th scope=row>KO-CLP2</th><td> TRUE</td><td>FALSE</td><td>FALSE</td><td>FALSE</td></tr>\n",
       "\t<tr><th scope=row>KO-CLP3</th><td>FALSE</td><td>FALSE</td><td>FALSE</td><td>FALSE</td></tr>\n",
       "\t<tr><th scope=row>KO-CLP4</th><td>FALSE</td><td>FALSE</td><td>FALSE</td><td>FALSE</td></tr>\n",
       "\t<tr><th scope=row>KO-CLP5</th><td> TRUE</td><td>FALSE</td><td>FALSE</td><td>FALSE</td></tr>\n",
       "\t<tr><th scope=row>KO-CLP6</th><td> TRUE</td><td>FALSE</td><td>FALSE</td><td>FALSE</td></tr>\n",
       "</tbody>\n",
       "</table>\n"
      ],
      "text/latex": [
       "A data.frame: 6 × 4\n",
       "\\begin{tabular}{r|llll}\n",
       "  & according\\_to\\_na & pc\\_sd & pc\\_mad & accordint\\_to\\_distance\\\\\n",
       "  & <lgl> & <lgl> & <lgl> & <lgl>\\\\\n",
       "\\hline\n",
       "\tKO-CLP1 & FALSE & FALSE & FALSE & FALSE\\\\\n",
       "\tKO-CLP2 &  TRUE & FALSE & FALSE & FALSE\\\\\n",
       "\tKO-CLP3 & FALSE & FALSE & FALSE & FALSE\\\\\n",
       "\tKO-CLP4 & FALSE & FALSE & FALSE & FALSE\\\\\n",
       "\tKO-CLP5 &  TRUE & FALSE & FALSE & FALSE\\\\\n",
       "\tKO-CLP6 &  TRUE & FALSE & FALSE & FALSE\\\\\n",
       "\\end{tabular}\n"
      ],
      "text/markdown": [
       "\n",
       "A data.frame: 6 × 4\n",
       "\n",
       "| <!--/--> | according_to_na &lt;lgl&gt; | pc_sd &lt;lgl&gt; | pc_mad &lt;lgl&gt; | accordint_to_distance &lt;lgl&gt; |\n",
       "|---|---|---|---|---|\n",
       "| KO-CLP1 | FALSE | FALSE | FALSE | FALSE |\n",
       "| KO-CLP2 |  TRUE | FALSE | FALSE | FALSE |\n",
       "| KO-CLP3 | FALSE | FALSE | FALSE | FALSE |\n",
       "| KO-CLP4 | FALSE | FALSE | FALSE | FALSE |\n",
       "| KO-CLP5 |  TRUE | FALSE | FALSE | FALSE |\n",
       "| KO-CLP6 |  TRUE | FALSE | FALSE | FALSE |\n",
       "\n"
      ],
      "text/plain": [
       "        according_to_na pc_sd pc_mad accordint_to_distance\n",
       "KO-CLP1 FALSE           FALSE FALSE  FALSE                \n",
       "KO-CLP2  TRUE           FALSE FALSE  FALSE                \n",
       "KO-CLP3 FALSE           FALSE FALSE  FALSE                \n",
       "KO-CLP4 FALSE           FALSE FALSE  FALSE                \n",
       "KO-CLP5  TRUE           FALSE FALSE  FALSE                \n",
       "KO-CLP6  TRUE           FALSE FALSE  FALSE                "
      ]
     },
     "metadata": {},
     "output_type": "display_data"
    },
    {
     "data": {
      "text/html": [
       "<style>\n",
       ".dl-inline {width: auto; margin:0; padding: 0}\n",
       ".dl-inline>dt, .dl-inline>dd {float: none; width: auto; display: inline-block}\n",
       ".dl-inline>dt::after {content: \":\\0020\"; padding-right: .5ex}\n",
       ".dl-inline>dt:not(:first-of-type) {padding-left: .5ex}\n",
       "</style><dl class=dl-inline><dt>KO-CLP2</dt><dd>2</dd><dt>KO-CLP5</dt><dd>5</dd><dt>KO-CLP6</dt><dd>6</dd><dt>KO-CLP7</dt><dd>7</dd><dt>KO-NC2</dt><dd>10</dd><dt>KO-NC3</dt><dd>11</dd><dt>KO-NC6</dt><dd>14</dd><dt>KO-NC7</dt><dd>15</dd><dt>KO-NC8</dt><dd>16</dd><dt>WT-CLP4</dt><dd>26</dd><dt>WT-CLP5</dt><dd>27</dd><dt>WT-CLP6</dt><dd>28</dd><dt>WT-NC4</dt><dd>34</dd><dt>WT-NC5</dt><dd>35</dd><dt>WT-NC6</dt><dd>36</dd><dt>WT-NC7</dt><dd>37</dd><dt>WT-NC8</dt><dd>38</dd></dl>\n"
      ],
      "text/latex": [
       "\\begin{description*}\n",
       "\\item[KO-CLP2] 2\n",
       "\\item[KO-CLP5] 5\n",
       "\\item[KO-CLP6] 6\n",
       "\\item[KO-CLP7] 7\n",
       "\\item[KO-NC2] 10\n",
       "\\item[KO-NC3] 11\n",
       "\\item[KO-NC6] 14\n",
       "\\item[KO-NC7] 15\n",
       "\\item[KO-NC8] 16\n",
       "\\item[WT-CLP4] 26\n",
       "\\item[WT-CLP5] 27\n",
       "\\item[WT-CLP6] 28\n",
       "\\item[WT-NC4] 34\n",
       "\\item[WT-NC5] 35\n",
       "\\item[WT-NC6] 36\n",
       "\\item[WT-NC7] 37\n",
       "\\item[WT-NC8] 38\n",
       "\\end{description*}\n"
      ],
      "text/markdown": [
       "KO-CLP2\n",
       ":   2KO-CLP5\n",
       ":   5KO-CLP6\n",
       ":   6KO-CLP7\n",
       ":   7KO-NC2\n",
       ":   10KO-NC3\n",
       ":   11KO-NC6\n",
       ":   14KO-NC7\n",
       ":   15KO-NC8\n",
       ":   16WT-CLP4\n",
       ":   26WT-CLP5\n",
       ":   27WT-CLP6\n",
       ":   28WT-NC4\n",
       ":   34WT-NC5\n",
       ":   35WT-NC6\n",
       ":   36WT-NC7\n",
       ":   37WT-NC8\n",
       ":   38\n",
       "\n"
      ],
      "text/plain": [
       "KO-CLP2 KO-CLP5 KO-CLP6 KO-CLP7  KO-NC2  KO-NC3  KO-NC6  KO-NC7  KO-NC8 WT-CLP4 \n",
       "      2       5       6       7      10      11      14      15      16      26 \n",
       "WT-CLP5 WT-CLP6  WT-NC4  WT-NC5  WT-NC6  WT-NC7  WT-NC8 \n",
       "     27      28      34      35      36      37      38 "
      ]
     },
     "metadata": {},
     "output_type": "display_data"
    }
   ],
   "source": [
    "pdf(file=\"data_cleaning/NEG/MVpercentALL.pdf\")\n",
    "\n",
    "p<- massdataset::show_sample_missing_values(object = object_neg, color_by = \"group\", order_by = \"injection.order\", percentage = TRUE)\n",
    "\n",
    "p+ theme(axis.text.x = element_text(size = 2)) + scale_size_continuous(range = c(0.1, 2)) + ggsci::scale_color_aaas()\n",
    "\n",
    "dev.off()\n",
    "\n",
    "# 检测离群样本\n",
    "outlier_samples = object_neg %>% `+`(1) %>% log(2) %>% scale() %>% detect_outlier()\n",
    "\n",
    "outlier_samples\n",
    "#--------------------\n",
    "#masscleaner\n",
    "#--------------------\n",
    "#1 according_to_na : 0 outlier samples.\n",
    "#2 according_to_pc_sd : 0 outlier samples.\n",
    "#3 according_to_pc_mad : 0 outlier samples.\n",
    "#4 accordint_to_distance : 0 outlier samples.\n",
    "#4 accordint_to_distance : 0 outlier samples.\n",
    "#extract all outlier table using extract_outlier_table()\n",
    "\n",
    "outlier_table <- extract_outlier_table(outlier_samples)\n",
    "\n",
    "outlier_table %>% head()\n",
    "#           according_to_na pc_sd pc_mad accordint_to_distance\n",
    "#sample_06            FALSE FALSE  FALSE                 FALSE\n",
    "#sample_103           FALSE FALSE  FALSE                 FALSE\n",
    "#sample_11            FALSE FALSE  FALSE                 FALSE\n",
    "#sample_112           FALSE FALSE  FALSE                 FALSE\n",
    "#sample_117           FALSE FALSE  FALSE                 FALSE\n",
    "#sample_12            FALSE FALSE  FALSE                 FALSE\n",
    "\n",
    "outlier_table %>% apply(1, function(x){ sum(x)  }) %>% `>`(0) %>% which()"
   ]
  },
  {
   "cell_type": "code",
   "execution_count": 518,
   "id": "2e07a781-2ce4-4d29-97ef-3e4e87154cd7",
   "metadata": {},
   "outputs": [
    {
     "data": {
      "text/html": [
       "27468"
      ],
      "text/latex": [
       "27468"
      ],
      "text/markdown": [
       "27468"
      ],
      "text/plain": [
       "[1] 27468"
      ]
     },
     "metadata": {},
     "output_type": "display_data"
    },
    {
     "data": {
      "text/html": [
       "0"
      ],
      "text/latex": [
       "0"
      ],
      "text/markdown": [
       "0"
      ],
      "text/plain": [
       "[1] 0"
      ]
     },
     "metadata": {},
     "output_type": "display_data"
    },
    {
     "data": {
      "text/html": [
       "22719"
      ],
      "text/latex": [
       "22719"
      ],
      "text/markdown": [
       "22719"
      ],
      "text/plain": [
       "[1] 22719"
      ]
     },
     "metadata": {},
     "output_type": "display_data"
    },
    {
     "data": {
      "text/html": [
       "0"
      ],
      "text/latex": [
       "0"
      ],
      "text/markdown": [
       "0"
      ],
      "text/plain": [
       "[1] 0"
      ]
     },
     "metadata": {},
     "output_type": "display_data"
    }
   ],
   "source": [
    "get_mv_number(object_pos)\n",
    "#> [1] 148907\n",
    "\n",
    "# 填充正离子模式缺失值\n",
    "object_pos <- impute_mv(object = object_pos, method = \"knn\")\n",
    "\n",
    "# 获取正离子模式下填充后的MV数量\n",
    "get_mv_number(object_pos)\n",
    "#> [1] 0\n",
    "\n",
    "# 获取负离子模式下的MV数量\n",
    "get_mv_number(object_neg)\n",
    "#> [1] 146409\n",
    "\n",
    "# 填充正离子模式缺失值\n",
    "object_neg <- impute_mv(object = object_neg, method = \"knn\")\n",
    "\n",
    "# 获取正离子模式下填充后的MV数量\n",
    "get_mv_number(object_neg)"
   ]
  },
  {
   "cell_type": "code",
   "execution_count": 519,
   "id": "7d5f81c1-a8d9-4082-af3e-6939a3635186",
   "metadata": {},
   "outputs": [
    {
     "data": {
      "text/html": [
       "<strong>png:</strong> 2"
      ],
      "text/latex": [
       "\\textbf{png:} 2"
      ],
      "text/markdown": [
       "**png:** 2"
      ],
      "text/plain": [
       "png \n",
       "  2 "
      ]
     },
     "metadata": {},
     "output_type": "display_data"
    }
   ],
   "source": [
    "object_pos <- normalize_data(object_pos, method = \"median\")\n",
    "\n",
    "object_pos2 <- integrate_data(object_pos, method = \"subject_median\")\n",
    "\n",
    "# 按批次分组绘制PCA图\n",
    "pdf(file=\"data_cleaning/POS/PC_batch_intergrated.pdf\")\n",
    "\n",
    "object_pos2 %>% `+`(1) %>% log(2) %>% massqc::massqc_pca(color_by = \"group\", line = FALSE)\n",
    "\n",
    "dev.off()"
   ]
  },
  {
   "cell_type": "code",
   "execution_count": 520,
   "id": "9a680b3e-e62e-4da5-a434-f7e6fe13ff75",
   "metadata": {},
   "outputs": [
    {
     "data": {
      "text/html": [
       "<strong>png:</strong> 2"
      ],
      "text/latex": [
       "\\textbf{png:} 2"
      ],
      "text/markdown": [
       "**png:** 2"
      ],
      "text/plain": [
       "png \n",
       "  2 "
      ]
     },
     "metadata": {},
     "output_type": "display_data"
    }
   ],
   "source": [
    "object_neg <- normalize_data(object_neg, method = \"median\")\n",
    "\n",
    "object_neg2 <- integrate_data(object_neg, method = \"subject_median\")\n",
    "\n",
    "# 按批次分组绘制PCA图\n",
    "pdf(file=\"data_cleaning/NEG/PC_batch_intergrated.pdf\")\n",
    "\n",
    "object_neg2 %>% `+`(1) %>% log(2) %>% massqc::massqc_pca(color_by = \"group\", line = FALSE)\n",
    "\n",
    "dev.off()"
   ]
  },
  {
   "cell_type": "code",
   "execution_count": 525,
   "id": "aef5d44a-6d4a-44bc-8774-0c1be99fa764",
   "metadata": {},
   "outputs": [],
   "source": [
    "save(object_pos2, file = \"data_cleaning/POS/object_pos2\")\n",
    "save(object_neg2, file = \"data_cleaning/NEG/object_neg2\")"
   ]
  },
  {
   "cell_type": "code",
   "execution_count": 87,
   "id": "71132bb9-59fb-40a7-a4f2-ac3f6f6fa05d",
   "metadata": {},
   "outputs": [],
   "source": [
    "load(\"data_cleaning/POS/object_pos2\")\n",
    "load(\"data_cleaning/NEG/object_neg2\")"
   ]
  },
  {
   "cell_type": "code",
   "execution_count": 88,
   "id": "084adda6-c428-4508-891b-faa360a5aad6",
   "metadata": {},
   "outputs": [
    {
     "name": "stderr",
     "output_type": "stream",
     "text": [
      "\u001b[32mReading mgf data...\u001b[39m\n",
      "\n",
      "\u001b[32mReading mgf data...\u001b[39m\n",
      "\n",
      "\u001b[32mReading mgf data...\u001b[39m\n",
      "\n",
      "\u001b[32mReading mgf data...\u001b[39m\n",
      "\n",
      "\u001b[32mReading mgf data...\u001b[39m\n",
      "\n",
      "\u001b[32m85 out of 1333 variable have MS2 spectra.\u001b[39m\n",
      "\n",
      "\u001b[32mSelecting the most intense MS2 spectrum for each peak...\u001b[39m\n",
      "\n"
     ]
    }
   ],
   "source": [
    "object_pos2 <- mutate_ms2(\n",
    "  object = object_pos2,\n",
    "  column = \"hilic\", # rp or hilic，对应RPLC（反相色谱）和HILIC（亲水相互作用色谱）\n",
    "  polarity = \"positive\",\n",
    "  ms1.ms2.match.mz.tol = 10,# ppm\n",
    "  ms1.ms2.match.rt.tol = 30,# seconds\n",
    "  path = \"./MS2/POS\"\n",
    ")"
   ]
  },
  {
   "cell_type": "code",
   "execution_count": 89,
   "id": "bd346c86-b31a-4b5f-97a1-11d92d07a848",
   "metadata": {},
   "outputs": [
    {
     "name": "stderr",
     "output_type": "stream",
     "text": [
      "\u001b[32mReading mgf data...\u001b[39m\n",
      "\n",
      "\u001b[32mReading mgf data...\u001b[39m\n",
      "\n",
      "\u001b[32mReading mgf data...\u001b[39m\n",
      "\n",
      "\u001b[32mReading mgf data...\u001b[39m\n",
      "\n",
      "\u001b[32mReading mgf data...\u001b[39m\n",
      "\n",
      "\u001b[32m115 out of 1167 variable have MS2 spectra.\u001b[39m\n",
      "\n",
      "\u001b[32mSelecting the most intense MS2 spectrum for each peak...\u001b[39m\n",
      "\n"
     ]
    }
   ],
   "source": [
    "object_neg2 <- mutate_ms2(\n",
    "  object = object_neg2,\n",
    "  column = \"hilic\",\n",
    "  polarity = \"negative\",\n",
    "  ms1.ms2.match.mz.tol = 10,\n",
    "  ms1.ms2.match.rt.tol = 30,\n",
    "  path = \"./MS2/NEG\"\n",
    ")"
   ]
  },
  {
   "cell_type": "code",
   "execution_count": null,
   "id": "b4413ed4-674b-4c38-adf2-052466e9ad15",
   "metadata": {},
   "outputs": [],
   "source": [
    "# load(\"/data/db/metabolite_annotation/snyder_database_rplc0.0.3.rda\")\n",
    "# load(\"/data/db/metabolite_annotation/orbitrap_database0.0.3.rda\")\n",
    "# load(\"/data/db/metabolite_annotation/mona_database0.0.3.rda\")\n",
    "# load(\"/data/db/metabolite_annotation/hmdb_database0.0.3.rda\")\n",
    "\n",
    "# object_pos2 <- annotate_metabolites_mass_dataset(\n",
    "#     object = object_pos2, \n",
    "#     ms1.match.ppm = 15, \n",
    "#     rt.match.tol = 30, \n",
    "#     polarity = \"positive\",\n",
    "#     database = snyder_database_hilic0.0.3,\n",
    "#  threads =30)\n",
    "\n",
    "\n",
    "\n",
    "# object_pos2 <- annotate_metabolites_mass_dataset(\n",
    "#     object = object_pos2, \n",
    "#     ms1.match.ppm = 15, \n",
    "#     polarity = \"positive\",\n",
    "#     database = orbitrap_database0.0.3,\n",
    "#  threads =30)\n",
    "# ## 注释\n",
    "# object_pos2 <- annotate_metabolites_mass_dataset(\n",
    "#     object = object_pos2, \n",
    "#     ms1.match.ppm = 15, \n",
    "#     polarity = \"positive\",\n",
    "#     database = mona_database0.0.3,\n",
    "#  threads =30)\n",
    "\n",
    "# object_neg2 <- annotate_metabolites_mass_dataset(\n",
    "#     object = object_neg2, \n",
    "#     ms1.match.ppm = 15, \n",
    "#     rt.match.tol = 30, \n",
    "#     polarity = \"negative\",\n",
    "#     database = snyder_database_hilic0.0.3)\n",
    "\n",
    "# # Annotate features using orbitrap_database0.0.3\n",
    "# object_neg2 <- annotate_metabolites_mass_dataset(\n",
    "#     object = object_neg2, \n",
    "#     ms1.match.ppm = 15, \n",
    "#     polarity = \"negative\",\n",
    "#     database = orbitrap_database0.0.3)\n",
    "\n",
    "# # Annotate features using mona_database0.0.3\n",
    "# object_neg2 <- annotate_metabolites_mass_dataset(\n",
    "#     object = object_neg2, \n",
    "#     ms1.match.ppm = 15, \n",
    "#     polarity = \"negative\",\n",
    "#     database = mona_database0.0.3)\n",
    "# object_pos2 <- annotate_metabolites_mass_dataset(\n",
    "#     object = object_pos2, \n",
    "#     ms1.match.ppm = 15, \n",
    "#     polarity = \"positive\",\n",
    "#     database = hmdb_database0.0.3,\n",
    "#  threads =30)\n",
    "\n",
    "# object_neg2 <- annotate_metabolites_mass_dataset(\n",
    "#     object = object_neg2, \n",
    "#     ms1.match.ppm = 15, \n",
    "#     rt.match.tol = 30, \n",
    "#     polarity = \"negative\",\n",
    "#     database = hmdb_database0.0.3)"
   ]
  },
  {
   "cell_type": "code",
   "execution_count": 90,
   "id": "3a46d478-61c0-4418-8698-2352913bda4b",
   "metadata": {},
   "outputs": [],
   "source": [
    "load(\"/data/db/metabolite_annotation/hmdb_database0.0.3.rda\")"
   ]
  },
  {
   "cell_type": "code",
   "execution_count": 91,
   "id": "3c50fd83-484a-48ad-8f91-b1232aee6ee7",
   "metadata": {},
   "outputs": [
    {
     "name": "stderr",
     "output_type": "stream",
     "text": [
      "\u001b[33mNo RT information in database.\n",
      "The weight of RT have been set as 0.\u001b[39m\n",
      "\n",
      "\u001b[33mQC1.mgf;QC2.mgf;QC3.mgf;QC4.mgf;QC6.mgf file:\u001b[39m\n",
      "\n",
      "\u001b[32m85 MS2 spectra.\u001b[39m\n",
      "\n",
      "\u001b[33mUse all CE values.\u001b[39m\n",
      "\n",
      "\n",
      "\n",
      "\n",
      "\u001b[32mIdentifing metabolites with MS/MS database...\u001b[39m\n",
      "\n"
     ]
    },
    {
     "name": "stdout",
     "output_type": "stream",
     "text": [
      "  |======================================================================| 100%\n",
      "\n"
     ]
    },
    {
     "name": "stderr",
     "output_type": "stream",
     "text": [
      "\u001b[41mAll done.\u001b[49m\n",
      "\n"
     ]
    }
   ],
   "source": [
    "object_pos2 <- annotate_metabolites_mass_dataset(\n",
    "    object = object_pos2, \n",
    "    ms1.match.ppm = 10, \n",
    "    polarity = \"positive\",\n",
    "    database = hmdb_database0.0.3,candidate.num = 1,\n",
    " threads =30)"
   ]
  },
  {
   "cell_type": "code",
   "execution_count": 92,
   "id": "d49fd26d-005c-48ac-a7c7-d885f357c710",
   "metadata": {},
   "outputs": [
    {
     "name": "stderr",
     "output_type": "stream",
     "text": [
      "\u001b[33mNo RT information in database.\n",
      "The weight of RT have been set as 0.\u001b[39m\n",
      "\n",
      "\u001b[33mQC2.mgf;QC3.mgf;QC4.mgf;QC5.mgf;QC6.mgf file:\u001b[39m\n",
      "\n",
      "\u001b[32m115 MS2 spectra.\u001b[39m\n",
      "\n",
      "\u001b[33mUse all CE values.\u001b[39m\n",
      "\n",
      "\n",
      "\n",
      "\n",
      "\u001b[32mIdentifing metabolites with MS/MS database...\u001b[39m\n",
      "\n"
     ]
    },
    {
     "name": "stdout",
     "output_type": "stream",
     "text": [
      "  |======================================================================| 100%\n",
      "\n"
     ]
    },
    {
     "name": "stderr",
     "output_type": "stream",
     "text": [
      "\u001b[41mAll done.\u001b[49m\n",
      "\n"
     ]
    }
   ],
   "source": [
    "object_neg2 <- annotate_metabolites_mass_dataset(\n",
    "    object = object_neg2, \n",
    "    ms1.match.ppm = 10, \n",
    "    rt.match.tol = 30, \n",
    "    polarity = \"negative\",\n",
    " threads =30,candidate.num = 1,\n",
    "    database = hmdb_database0.0.3)"
   ]
  },
  {
   "cell_type": "code",
   "execution_count": 72,
   "id": "3bd431b7-f5c6-425c-a372-05026ccc5610",
   "metadata": {},
   "outputs": [
    {
     "name": "stderr",
     "output_type": "stream",
     "text": [
      "\u001b[33mNo RT information in database.\n",
      "The weight of RT have been set as 0.\u001b[39m\n",
      "\n",
      "\u001b[33mQC1.mgf;QC2.mgf;QC3.mgf;QC4.mgf;QC6.mgf file:\u001b[39m\n",
      "\n",
      "\u001b[32m85 MS2 spectra.\u001b[39m\n",
      "\n",
      "\u001b[33mUse all CE values.\u001b[39m\n",
      "\n",
      "\n",
      "\n",
      "\n",
      "\u001b[32mIdentifing metabolites with MS/MS database...\u001b[39m\n",
      "\n"
     ]
    },
    {
     "name": "stdout",
     "output_type": "stream",
     "text": [
      "  |======================================================================| 100%\n",
      "\n"
     ]
    },
    {
     "name": "stderr",
     "output_type": "stream",
     "text": [
      "\u001b[41mAll done.\u001b[49m\n",
      "\n",
      "\u001b[33mNo RT information in database.\n",
      "The weight of RT have been set as 0.\u001b[39m\n",
      "\n",
      "\u001b[33mQC2.mgf;QC3.mgf;QC4.mgf;QC5.mgf;QC6.mgf file:\u001b[39m\n",
      "\n",
      "\u001b[32m115 MS2 spectra.\u001b[39m\n",
      "\n",
      "\u001b[33mUse all CE values.\u001b[39m\n",
      "\n",
      "\n",
      "\n",
      "\n",
      "\u001b[32mIdentifing metabolites with MS/MS database...\u001b[39m\n",
      "\n"
     ]
    },
    {
     "name": "stdout",
     "output_type": "stream",
     "text": [
      "  |======================================================================| 100%\n",
      "\n"
     ]
    },
    {
     "name": "stderr",
     "output_type": "stream",
     "text": [
      "\u001b[41mAll done.\u001b[49m\n",
      "\n"
     ]
    }
   ],
   "source": [
    "load(\"/data/db/metabolite_annotation/massbank_database0.0.3.rda\")\n",
    "\n",
    "object_pos2 <- annotate_metabolites_mass_dataset(\n",
    "    object = object_pos2, \n",
    "    ms1.match.ppm = 10, \n",
    "    polarity = \"positive\",\n",
    "    database = massbank_database0.0.3,candidate.num = 1,\n",
    " threads =30)\n",
    "object_neg2 <- annotate_metabolites_mass_dataset(\n",
    "    object = object_neg2, \n",
    "    ms1.match.ppm = 10, \n",
    "    rt.match.tol = 30, \n",
    "    polarity = \"negative\",\n",
    " threads =30,candidate.num = 1,\n",
    "    database = massbank_database0.0.3)"
   ]
  },
  {
   "cell_type": "code",
   "execution_count": 56,
   "id": "87831b99-e515-433f-94cf-7982f512836f",
   "metadata": {},
   "outputs": [
    {
     "name": "stderr",
     "output_type": "stream",
     "text": [
      "\u001b[33mNo MS2 data in database, so only use mz and/or RT for matching.\u001b[39m\n",
      "\n",
      "\u001b[33mYou set rt.match.tol < 10,000, so if the compounds have RT, RTs will be used for matching.\u001b[39m\n",
      "\n",
      "\n",
      "\n",
      "\u001b[41mAll done.\u001b[49m\n",
      "\n",
      "\u001b[33mNo MS2 data in database, so only use mz and/or RT for matching.\u001b[39m\n",
      "\n",
      "\u001b[33mYou set rt.match.tol < 10,000, so if the compounds have RT, RTs will be used for matching.\u001b[39m\n",
      "\n",
      "\n",
      "\n",
      "\u001b[41mAll done.\u001b[49m\n",
      "\n"
     ]
    }
   ],
   "source": [
    "load(\"/data/db/metabolite_annotation/kegg_ms1_database0.0.3.rda\")\n",
    "\n",
    "object_pos2 <- annotate_metabolites_mass_dataset(\n",
    "    object = object_pos2, \n",
    "    ms1.match.ppm = 10, \n",
    "    polarity = \"positive\",\n",
    "    database = kegg_ms1_database0.0.3,candidate.num = 1,\n",
    " threads =30)\n",
    "object_neg2 <- annotate_metabolites_mass_dataset(\n",
    "    object = object_neg2, \n",
    "    ms1.match.ppm = 10, \n",
    "    rt.match.tol = 30, \n",
    "    polarity = \"negative\",\n",
    " threads =30,candidate.num = 1,\n",
    "    database = kegg_ms1_database0.0.3)"
   ]
  },
  {
   "cell_type": "code",
   "execution_count": 94,
   "id": "24eedfe8-003b-4bde-be91-0a261a6641f3",
   "metadata": {},
   "outputs": [],
   "source": [
    "dir.create(\"./metabolite_annotation2\", showWarnings = FALSE, recursive = TRUE)"
   ]
  },
  {
   "cell_type": "code",
   "execution_count": 95,
   "id": "b07f871b-2376-4f15-bced-6a6eeab55981",
   "metadata": {},
   "outputs": [],
   "source": [
    "save(object_pos2, file = \"metabolite_annotation2/object_pos2\")\n",
    "save(object_neg2, file = \"metabolite_annotation2/object_neg2\")"
   ]
  },
  {
   "cell_type": "code",
   "execution_count": 75,
   "id": "769d5041-db84-4f03-8a2d-9e35928d3186",
   "metadata": {},
   "outputs": [],
   "source": [
    "library(tidymass)\n",
    "library(tidyverse)\n",
    "load(\"metabolite_annotation2/object_pos2\")\n",
    "load(\"metabolite_annotation2/object_neg2\")"
   ]
  },
  {
   "cell_type": "code",
   "execution_count": 166,
   "id": "42810605-ccb0-49eb-9e92-11083fa72ff2",
   "metadata": {},
   "outputs": [],
   "source": [
    "# object_pos2 <- object_pos2 %>% activate_mass_dataset(what = \"annotation_table\") %>% filter(!is.na(Level)) %>% filter(Level == 1 | Level == 2)\n",
    "\n",
    "# object_pos2"
   ]
  },
  {
   "cell_type": "code",
   "execution_count": 24,
   "id": "59b7d66b-5963-4311-9ba1-8266cb000938",
   "metadata": {},
   "outputs": [],
   "source": [
    "# object_neg2 <- object_neg2 %>% activate_mass_dataset(what = \"annotation_table\") %>% filter(!is.na(Level)) %>% filter(Level == 1 | Level == 2)\n",
    "# object_neg2"
   ]
  },
  {
   "cell_type": "code",
   "execution_count": 96,
   "id": "09597e87-6984-41d2-8919-ca7c26459924",
   "metadata": {},
   "outputs": [
    {
     "data": {
      "text/plain": [
       "\u001b[33m-------------------- \n",
       "\u001b[39m\u001b[32mmassdataset version: 1.0.19 \n",
       "\u001b[39m\u001b[33m-------------------- \n",
       "\u001b[39m\u001b[32m1.expression_data:\u001b[39m[ 2500 x 38 data.frame]\n",
       "\u001b[32m2.sample_info:\u001b[39m[ 38 x 7 data.frame]\n",
       "\u001b[32m3.variable_info:\u001b[39m[ 2500 x 13 data.frame]\n",
       "\u001b[32m4.sample_info_note:\u001b[39m[ 7 x 2 data.frame]\n",
       "\u001b[32m5.variable_info_note:\u001b[39m[ 13 x 2 data.frame]\n",
       "\u001b[32m6.ms2_data:\u001b[39m[ 170 variables x 162 MS2 spectra]\n",
       "\u001b[33m-------------------- \n",
       "\u001b[39m\u001b[32mProcessing information (extract_process_info())\n",
       "\u001b[39m\u001b[32m19 processings in total\n",
       "\u001b[39m\u001b[32mLatest 3 processings show\n",
       "\u001b[39m\u001b[32mmutate_ms2 ---------- \n",
       "\u001b[39m      Package Function.used                Time\n",
       "1 massdataset  mutate_ms2() 2023-10-08 14:57:49\n",
       "\u001b[32mannotate_metabolites_mass_dataset ---------- \n",
       "\u001b[39m  Package                       Function.used                Time\n",
       "1   metid annotate_metabolites_mass_dataset() 2023-10-08 14:58:20\n",
       "\u001b[32mmerge_mass_dataset ---------- \n",
       "\u001b[39m      Package      Function.used                Time\n",
       "1 massdataset merge_mass_dataset 2023-10-08 14:59:20"
      ]
     },
     "metadata": {},
     "output_type": "display_data"
    }
   ],
   "source": [
    "object <- \n",
    "merge_mass_dataset(\n",
    "    x = object_pos2, \n",
    "    y = object_neg2, \n",
    "    sample_direction = \"inner\",# left, right, inner or full，此处用inner较合理\n",
    "    variable_direction = \"full\",# left, right, inner or full，此处用full合理\n",
    "    sample_by = \"sample_id\", # merge samples by what columns from sample_info\n",
    "    variable_by = c(\"variable_id\", \"mz\", \"rt\")# merge variables by what columns from variable_info\n",
    ")\n",
    "\n",
    "object"
   ]
  },
  {
   "cell_type": "code",
   "execution_count": 77,
   "id": "d3ec092a-3481-4743-b080-1b91b1628eb6",
   "metadata": {},
   "outputs": [
    {
     "name": "stderr",
     "output_type": "stream",
     "text": [
      "\n",
      "\n",
      "processing file: tidymass_parameters.template.Rmd\n",
      "\n"
     ]
    },
    {
     "name": "stdout",
     "output_type": "stream",
     "text": [
      "  |..................                                                    |  25%\n",
      "  ordinary text without R code\n",
      "\n",
      "  |...................................                                   |  50%\n",
      "label: setup (with options) \n",
      "List of 1\n",
      " $ include: logi FALSE\n",
      "\n",
      "  |....................................................                  |  75%\n",
      "   inline R code fragments\n",
      "\n",
      "  |......................................................................| 100%\n",
      "label: unnamed-chunk-1 (with options) \n",
      "List of 3\n",
      " $ echo   : logi FALSE\n",
      " $ message: logi FALSE\n",
      " $ warning: logi FALSE\n",
      "\n",
      "\n"
     ]
    },
    {
     "name": "stderr",
     "output_type": "stream",
     "text": [
      "output file: tidymass_parameters.template.knit.md\n",
      "\n",
      "\n"
     ]
    },
    {
     "name": "stdout",
     "output_type": "stream",
     "text": [
      "/root/miniconda3/envs/Rdoc/bin/pandoc +RTS -K512m -RTS tidymass_parameters.template.knit.md --to html4 --from markdown+autolink_bare_uris+tex_math_single_backslash --output tidymass_parameters.template.html --lua-filter /root/miniconda3/envs/metadoc/lib/R/library/rmarkdown/rmarkdown/lua/pagebreak.lua --lua-filter /root/miniconda3/envs/metadoc/lib/R/library/rmarkdown/rmarkdown/lua/latex-div.lua --embed-resources --standalone --variable bs3=TRUE --section-divs --template /root/miniconda3/envs/metadoc/lib/R/library/rmarkdown/rmd/h/default.html --no-highlight --variable highlightjs=1 --variable theme=bootstrap --mathjax --variable 'mathjax-url=https://mathjax.rstudio.com/latest/MathJax.js?config=TeX-AMS-MML_HTMLorMML' --include-in-header /tmp/RtmpsmacoH/rmarkdown-str1133275842edd.html \n"
     ]
    },
    {
     "name": "stderr",
     "output_type": "stream",
     "text": [
      "\n",
      "Output created: tidymass_parameters.template.html\n",
      "\n",
      "\u001b[33mDone.\u001b[39m\n",
      "\n"
     ]
    }
   ],
   "source": [
    "dir.create(path = \"statistical_analysis\", showWarnings = FALSE)\n",
    "report_parameters(object = object, path = \"statistical_analysis/\")"
   ]
  },
  {
   "cell_type": "code",
   "execution_count": 365,
   "id": "4c73dd42-5f06-4093-8c4a-a83878f698ea",
   "metadata": {},
   "outputs": [],
   "source": [
    "# object <- object %>% \n",
    "#   activate_mass_dataset(what = \"annotation_table\") %>% \n",
    "#   group_by(Compound.name) %>% \n",
    "#   filter(Level == min(Level)) %>% \n",
    "#   filter(SS == max(SS)) %>% \n",
    "#   slice_head(n = 1)\n",
    "\n",
    "# object_final <- object %>% \n",
    "#   activate_mass_dataset(what = \"annotation_table\") %>% \n",
    "#   group_by(variable_id) %>% \n",
    "#   filter(Level == min(Level)) %>% \n",
    "#   filter(SS == max(SS)) %>% \n",
    "#   slice_head(n = 1)"
   ]
  },
  {
   "cell_type": "code",
   "execution_count": 78,
   "id": "449b7da3-9a49-4c12-b6c9-33187ddd7b2b",
   "metadata": {},
   "outputs": [],
   "source": [
    "object_final = object"
   ]
  },
  {
   "cell_type": "code",
   "execution_count": 170,
   "id": "5066492f-fe7e-4c9a-8b53-c0eb054761f8",
   "metadata": {},
   "outputs": [],
   "source": [
    "save(object_final, file = \"statistical_analysis/object_final\")"
   ]
  },
  {
   "cell_type": "markdown",
   "id": "b8a61b04-bd43-4d97-b9ec-d11c5634a929",
   "metadata": {},
   "source": [
    "### object_final = object"
   ]
  },
  {
   "cell_type": "code",
   "execution_count": 1,
   "id": "8417106b-3a25-4ac4-924c-4a8f4c5eedd5",
   "metadata": {},
   "outputs": [],
   "source": [
    "load(\"statistical_analysis/object_final\")"
   ]
  },
  {
   "cell_type": "code",
   "execution_count": 64,
   "id": "01f1feed-bf9c-46b2-95ea-92127eedd33b",
   "metadata": {},
   "outputs": [],
   "source": [
    "write.csv(object_final@annotation_table,file = 'statistical_analysis/annotation.res.csv',row.names =F)"
   ]
  },
  {
   "cell_type": "code",
   "execution_count": 79,
   "id": "fdff37f0-5a31-49e5-86a0-e175d46d1a1a",
   "metadata": {},
   "outputs": [],
   "source": [
    "expr = tibble::rownames_to_column(object_final@expression_data, 'variable_id')"
   ]
  },
  {
   "cell_type": "code",
   "execution_count": 80,
   "id": "6b66ac2f-cefc-4173-96a3-32976e4fbc65",
   "metadata": {},
   "outputs": [],
   "source": [
    "library(tidymass)\n",
    "library(tidyverse)"
   ]
  },
  {
   "cell_type": "code",
   "execution_count": 81,
   "id": "7623d100-fca2-4b30-95b9-64321a2be301",
   "metadata": {},
   "outputs": [],
   "source": [
    "annotation_expr = left_join(object_final@annotation_table,expr,by='variable_id')"
   ]
  },
  {
   "cell_type": "code",
   "execution_count": 12,
   "id": "e91bbbc7-57a4-43c8-b251-3957628b78fc",
   "metadata": {},
   "outputs": [],
   "source": [
    "write.csv(annotation_expr,file = 'statistical_analysis/annotation.merge_expr.csv',row.names =F)"
   ]
  },
  {
   "cell_type": "code",
   "execution_count": 82,
   "id": "c189f556-9022-4e8e-8940-5efa34702c1d",
   "metadata": {},
   "outputs": [],
   "source": [
    "# load(\"statistical_analysis/object_final\")\n",
    "\n",
    "# 排除QC样本\n",
    "temp_object <- object_final %>% \n",
    "  activate_mass_dataset(what = \"sample_info\") %>% \n",
    "  filter(group != \"QC\") %>% \n",
    "  `+`(1) %>% scale()\n",
    "\n",
    "\n",
    "library(ComplexHeatmap)\n",
    "h1 <- HeatmapAnnotation(class = extract_sample_info(temp_object)$group)\n",
    "\n",
    "# pdf(file=\"statistical_analysis/Samples_heatmap.pdf\")\n",
    "# massstat::Heatmap(matrix = temp_object, \n",
    "#                   name = \"z-score\", \n",
    "#                   row_names_gp = gpar(cex = 0.2),\n",
    "#                   column_names_gp = gpar(cex = 0.2),\n",
    "#                   top_annotation = h1)\n",
    "# dev.off()"
   ]
  },
  {
   "cell_type": "markdown",
   "id": "04217875-f782-48c2-b083-1f2699c2ef88",
   "metadata": {},
   "source": [
    "### 鉴定差异代谢物"
   ]
  },
  {
   "cell_type": "code",
   "execution_count": 83,
   "id": "6aeeaca5-df08-44d5-b6bb-136902f2a459",
   "metadata": {},
   "outputs": [],
   "source": [
    "compare = read.table('./compare.txt',header =T)"
   ]
  },
  {
   "cell_type": "code",
   "execution_count": 84,
   "id": "3b862a05-184d-4fcd-b78b-05e390740585",
   "metadata": {},
   "outputs": [],
   "source": [
    "library(ggplot2)\n",
    "library(ggrepel)"
   ]
  },
  {
   "cell_type": "code",
   "execution_count": 44,
   "id": "c6ab8e9f-b5b7-45d1-bd38-278a2ec5dbf5",
   "metadata": {},
   "outputs": [
    {
     "name": "stderr",
     "output_type": "stream",
     "text": [
      "8 control samples.\n",
      "\n",
      "8 case samples.\n",
      "\n",
      "8 control samples.\n",
      "\n",
      "8 case samples.\n",
      "\n"
     ]
    },
    {
     "name": "stdout",
     "output_type": "stream",
     "text": [
      "[1] \"dir exists\"\n"
     ]
    },
    {
     "name": "stderr",
     "output_type": "stream",
     "text": [
      "8 control samples.\n",
      "\n",
      "8 case samples.\n",
      "\n",
      "8 control samples.\n",
      "\n",
      "8 case samples.\n",
      "\n"
     ]
    },
    {
     "name": "stdout",
     "output_type": "stream",
     "text": [
      "[1] \"dir exists\"\n"
     ]
    },
    {
     "name": "stderr",
     "output_type": "stream",
     "text": [
      "8 control samples.\n",
      "\n",
      "8 case samples.\n",
      "\n",
      "8 control samples.\n",
      "\n",
      "8 case samples.\n",
      "\n"
     ]
    },
    {
     "name": "stdout",
     "output_type": "stream",
     "text": [
      "[1] \"dir exists\"\n"
     ]
    },
    {
     "name": "stderr",
     "output_type": "stream",
     "text": [
      "8 control samples.\n",
      "\n",
      "8 case samples.\n",
      "\n",
      "8 control samples.\n",
      "\n",
      "8 case samples.\n",
      "\n"
     ]
    },
    {
     "name": "stdout",
     "output_type": "stream",
     "text": [
      "[1] \"dir exists\"\n"
     ]
    }
   ],
   "source": [
    "# test = temp_object\n",
    "# for ( i in compare$Test){\n",
    "#     control_sample_id = test %>%\n",
    "#     activate_mass_dataset(what = \"sample_info\") %>%\n",
    "#     filter(class == strsplit(i,'vs')[[1]][2]) %>%\n",
    "#     pull(sample_id)\n",
    "    \n",
    "#     case_sample_id = test %>%\n",
    "#     activate_mass_dataset(what = \"sample_info\") %>%\n",
    "#     filter(class == strsplit(i,'vs')[[1]][1]) %>%\n",
    "#     pull(sample_id)\n",
    "\n",
    "#     res <- mutate_fc(object = test, \n",
    "#           control_sample_id = control_sample_id, \n",
    "#           case_sample_id = case_sample_id, \n",
    "#           mean_median = \"median\")#可选\"mean\", \"median\"\n",
    "\n",
    "# res <- mutate_p_value(\n",
    "#   object = res,\n",
    "#   control_sample_id = control_sample_id,\n",
    "#   case_sample_id = case_sample_id,\n",
    "#   method = \"wilcox.test\",# \"t.test\", \"wilcox.test\"\n",
    "#   p_adjust_methods = \"none\"# \"holm\", \"hochberg\", \"hommel\", \"bonferroni\", \"BH\", \"BY\", \"fdr\", \"none\"\n",
    "# )\n",
    "\n",
    "# output = paste('statistical_analysis',i,sep = \"/\")\n",
    "# if(dir.exists(output)){\n",
    "#   print(\"dir exists\")\n",
    "# }else{\n",
    "#   dir.create(output)\n",
    "# }\n",
    "\n",
    "\n",
    "# merge = left_join(as.data.frame(res@annotation_table[,c(1,4)]),res@variable_info,by = 'variable_id')   \n",
    "# write.csv(merge,file = paste0(output,'/diff-metabolite2.csv'),quote =F,row.names = F)\n",
    "# differential_metabolites <- extract_variable_info(object = res) %>% \n",
    "#     filter(p_value < 0.05)}"
   ]
  },
  {
   "cell_type": "code",
   "execution_count": null,
   "id": "25bdbd2a-51a8-44cf-b4b8-b8f802b2b469",
   "metadata": {},
   "outputs": [],
   "source": []
  },
  {
   "cell_type": "code",
   "execution_count": null,
   "id": "7eabef19-29ab-46ad-8125-54b29735ecb1",
   "metadata": {},
   "outputs": [],
   "source": []
  },
  {
   "cell_type": "code",
   "execution_count": null,
   "id": "b73f13aa-1b82-4855-a916-c618b27c682f",
   "metadata": {},
   "outputs": [],
   "source": []
  },
  {
   "cell_type": "code",
   "execution_count": 48,
   "id": "ecc72fdc-c775-47c2-858a-c5dc0b43493c",
   "metadata": {
    "scrolled": true
   },
   "outputs": [
    {
     "name": "stderr",
     "output_type": "stream",
     "text": [
      "8 control samples.\n",
      "\n",
      "8 case samples.\n",
      "\n",
      "8 control samples.\n",
      "\n",
      "8 case samples.\n",
      "\n"
     ]
    },
    {
     "name": "stdout",
     "output_type": "stream",
     "text": [
      "[1] \"dir exists\"\n"
     ]
    },
    {
     "name": "stderr",
     "output_type": "stream",
     "text": [
      "8 control samples.\n",
      "\n",
      "8 case samples.\n",
      "\n",
      "8 control samples.\n",
      "\n",
      "8 case samples.\n",
      "\n"
     ]
    },
    {
     "name": "stdout",
     "output_type": "stream",
     "text": [
      "[1] \"dir exists\"\n"
     ]
    },
    {
     "name": "stderr",
     "output_type": "stream",
     "text": [
      "8 control samples.\n",
      "\n",
      "8 case samples.\n",
      "\n",
      "8 control samples.\n",
      "\n",
      "8 case samples.\n",
      "\n"
     ]
    },
    {
     "name": "stdout",
     "output_type": "stream",
     "text": [
      "[1] \"dir exists\"\n"
     ]
    },
    {
     "name": "stderr",
     "output_type": "stream",
     "text": [
      "8 control samples.\n",
      "\n",
      "8 case samples.\n",
      "\n",
      "8 control samples.\n",
      "\n",
      "8 case samples.\n",
      "\n"
     ]
    },
    {
     "name": "stdout",
     "output_type": "stream",
     "text": [
      "[1] \"dir exists\"\n"
     ]
    }
   ],
   "source": [
    "test = temp_object\n",
    "for ( i in compare$Test){\n",
    "    \n",
    "    \n",
    "    control_sample_id = test %>%\n",
    "    activate_mass_dataset(what = \"sample_info\") %>%\n",
    "    filter(class == strsplit(i,'vs')[[1]][2]) %>%\n",
    "    pull(sample_id)\n",
    "    \n",
    "    case_sample_id = test %>%\n",
    "    activate_mass_dataset(what = \"sample_info\") %>%\n",
    "    filter(class == strsplit(i,'vs')[[1]][1]) %>%\n",
    "    pull(sample_id)\n",
    "\n",
    "    res <- mutate_fc(object = test, \n",
    "          control_sample_id = control_sample_id, \n",
    "          case_sample_id = case_sample_id, \n",
    "          mean_median = \"median\")#可选\"mean\", \"median\"\n",
    "\n",
    "res <- mutate_p_value(\n",
    "  object = res,\n",
    "  control_sample_id = control_sample_id,\n",
    "  case_sample_id = case_sample_id,\n",
    "  method = \"wilcox.test\",# \"t.test\", \"wilcox.test\"\n",
    "  p_adjust_methods = \"fdr\"# \"holm\", \"hochberg\", \"hommel\", \"bonferroni\", \"BH\", \"BY\", \"fdr\", \"none\"\n",
    ")\n",
    "\n",
    "output = paste('statistical_analysis',i,sep = \"/\")\n",
    "if(dir.exists(output)){\n",
    "  print(\"dir exists\")\n",
    "}else{\n",
    "  dir.create(output)\n",
    "}\n",
    "\n",
    "\n",
    "merge = left_join(as.data.frame(res@annotation_table[,c(1,4)]),res@variable_info,by = 'variable_id')   \n",
    "write.csv(merge,file = paste0(output,'/diff-metabolite.csv'),quote =F,row.names = F)\n",
    "differential_metabolites <- extract_variable_info(object = res) %>% \n",
    "    filter(p_value < 0.05)\n",
    "\n",
    "# readr::write_csv(differential_metabolites, file = paste0(output,\"/differential_metabolites.csv\"))\n",
    "\n",
    "# pdf(file=paste0('.',\"/Volcano.pdf\"))\n",
    "p<- myvolcano_plot(\n",
    "      object = res,\n",
    "      fc_column_name = \"fc\",\n",
    "\t  p_value_column_name = \"p_value\",\n",
    "\t  fc_up_cutoff = 1, \n",
    "\t  fc_down_cutoff = 1,\n",
    "\t  p_value_cutoff = 0.05,\n",
    "      add_text = TRUE,\n",
    "      text_from = \"Compound.name\", \n",
    "      point_size_scale = \"p_value\"\n",
    ") \n",
    "pdf(file=paste0(output,\"/volcano.pdf\"))\n",
    "print(p)\n",
    "dev.off()\n",
    "\n",
    "object_final <- res\n",
    "save(object_final, file = paste0(output,\"/object_final\"))\n",
    "\n",
    "temp_object1 <- test %>% \n",
    "  activate_mass_dataset(what = \"sample_info\") %>% \n",
    "  filter(sample_id %in% c(control_sample_id, case_sample_id)) %>% \n",
    "  activate_mass_dataset(what = \"variable_info\") %>% \n",
    "  filter(variable_id %in% differential_metabolites$variable_id) %>% \n",
    "  `+`(1) %>% \n",
    "  scale()\n",
    "\n",
    "dd = temp_object1 %>% activate_mass_dataset(what = \"variable_info\") %>% \n",
    "filter(temp_object1@variable_info$variable_id %in% temp_object1@annotation_table$variable_id)\n",
    "    \n",
    "library(ComplexHeatmap)\n",
    "library(RColorBrewer) \n",
    "h1 <- HeatmapAnnotation(class = extract_sample_info(dd)$group,\n",
    "                       col = list(group = c( \"#E31A1C\",  \"#007947\")))\n",
    "col_fun<-colorRampPalette(c( \"navy\", \"white\", \"firebrick3\"))( 100)\n",
    "    \n",
    "pdf(file=paste0(output,\"/diff_heatmap.pdf\"),height = 12,width = 8)\n",
    "heat = massstat::Heatmap(matrix = dd, \n",
    "                  name = \"z-score\", \n",
    "                  row_names_gp = gpar(cex = 0.4),\n",
    "                  column_names_gp = gpar(cex = 0.2),\n",
    "                  top_annotation = h1,\n",
    "                  row_labels = extract_variable_info(dd)$Compound.name,\n",
    "                  border = TRUE,col =col_fun)\n",
    "print(heat)  \n",
    "dev.off()  \n",
    "}"
   ]
  },
  {
   "cell_type": "code",
   "execution_count": 47,
   "id": "1c297e9e-034c-4a66-9594-c82fec1c6ca4",
   "metadata": {},
   "outputs": [],
   "source": [
    "myvolcano_plot = function(object, fc_column_name = \"fc\", p_value_column_name = \"p_value_adjust\", \n",
    "    labs_x = \"log2(Fold change)\", labs_y = \"-log(p-adjust, 10)\", \n",
    "    fc_up_cutoff = 2, fc_down_cutoff = 0.5, p_value_cutoff = 0.05, \n",
    "    line_color = \"red\", up_color = \"#EE0000FF\", down_color = \"#3B4992FF\", \n",
    "    no_color = \"#808180FF\", point_size = 2, point_alpha = 1, \n",
    "    point_size_scale, line_type = 1, add_text = FALSE, text_for = c(\"marker\", \n",
    "        \"UP\", \"DOWM\"), text_from = \"variable_id\") \n",
    "{\n",
    "    text_for = match.arg(text_for)\n",
    "    massdataset::check_object_class(object = object, class = \"mass_dataset\")\n",
    "    if (all(colnames(object@variable_info) != fc_column_name)) {\n",
    "        stop(paste(\"no\", fc_column_name, \"in variable_info.\\n\"))\n",
    "    }\n",
    "    if (all(colnames(object@variable_info) != p_value_column_name)) {\n",
    "        stop(paste(\"no\", p_value_column_name, \"in variable_info.\\n\"))\n",
    "    }\n",
    "    variable_info = object@variable_info\n",
    "    if (nrow(object@annotation_table) != 0) {\n",
    "        annotation_table = object@annotation_table %>% dplyr::group_by(variable_id) %>% \n",
    "            dplyr::slice_head(n = 1) %>% dplyr::ungroup()\n",
    "        variable_info = variable_info %>% dplyr::left_join(annotation_table %>% \n",
    "            dplyr::select(-c(ms2_files_id:ms2_spectrum_id)), \n",
    "            by = \"variable_id\")\n",
    "    }\n",
    "    variable_info = variable_info %>% dplyr::mutate(log2_fc = log(get(fc_column_name), \n",
    "        2)) %>% dplyr::mutate(log10_p = -log(get(p_value_column_name), \n",
    "        10)) %>% dplyr::mutate(marker = case_when(log2_fc > log(fc_up_cutoff, \n",
    "        2) & log10_p > -log(p_value_cutoff, 10) ~ \"UP\", log2_fc < \n",
    "        log(fc_down_cutoff, 2) & log10_p > -log(p_value_cutoff, \n",
    "        10) ~ \"DOWN\", TRUE ~ \"NO\"))\n",
    "\n",
    "    \n",
    "variable_info$marker <- factor(variable_info$marker, levels = c( \"UP\", \"DOWN\", \"NO\"))\n",
    "mycol<- c( \"#EB4232\", \"#2DB2EB\", \"#d8d8d8\")\n",
    "mytheme<- theme_classic +\n",
    "theme(axis.title = element_text(size = 15),\n",
    "axis.text = element_text(size = 14),\n",
    "legend.text = element_text(size = 14),\n",
    "plot.margin = margin(15,5.5,5.5,5.5))\n",
    "library(dplyr)\n",
    "library(ggplot2)\n",
    "library(ggrepel)\n",
    "pvalue= 0.05\n",
    "log2FC= 1\n",
    "d<- ggplot(data = variable_info,\n",
    "aes(x = log2_fc,\n",
    "y= log10_p,\n",
    "color= marker)) + #建立映射\n",
    "geom_point(size = 2.2) + #绘制散点\n",
    "scale_colour_manual(name = \"\", values = alpha(mycol, 0.7)) + #自定义散点颜色\n",
    "scale_x_continuous(limits = c(-5, 5),\n",
    "breaks= seq(-5, 5, by = 2)) + #x轴限制\n",
    "scale_y_continuous(expand = expansion(add = c(0, 0)),\n",
    "limits= c(0, 4),\n",
    "breaks= seq(0, 4, by = 1)) + #y轴限制\n",
    "geom_hline(yintercept = c(-log10(pvalue)),size = 0.7,color = \"black\",lty = \"dashed\") + #水平阈值线\n",
    "geom_vline(xintercept = c(-log2FC, log2FC),size = 0.7,color = \"black\",lty = \"dashed\") + #垂直阈值线\n",
    "mytheme\n",
    "up<- filter(variable_info, marker == 'UP') %>% distinct(Compound.name, .keep_all = T) %>%\n",
    "top_n(5, log10_p)\n",
    "down<- filter(variable_info, marker == 'DOWN') %>% distinct(Compound.name, .keep_all = T) %>%\n",
    "top_n(5, log10_p)\n",
    "head(up);head(down)\n",
    "p1<- d +\n",
    "geom_text_repel(data = up,\n",
    "aes(x = log2_fc, y = log10_p, label = Compound.name)) +\n",
    "geom_text_repel(data = down,\n",
    "aes(x = log10_p, y = log10_p, label = Compound.name))\n",
    "p1\n",
    "p5<- d +\n",
    "geom_point(data = up,\n",
    "aes(x = log2_fc, y = log10_p),\n",
    "color= '#EB4232', size = 4.5, alpha = 0.2) +\n",
    "geom_text_repel(data = up,\n",
    "aes(x = log2_fc, y = log10_p, label = Compound.name),\n",
    "seed= 233,\n",
    "size= 3.5,\n",
    "color= 'black',\n",
    "min.segment.length = 0,\n",
    "force= 2,\n",
    "force_pull= 2,\n",
    "box.padding = 2,\n",
    "max.overlaps = Inf,\n",
    "segment.linetype = 3, #线段类型,1为实线,2-6为不同类型虚线\n",
    "segment.color = 'black', #线段颜色\n",
    "segment.alpha = 0.5, #线段不透明度\n",
    "nudge_x= 3 - up$log2_fc, #标签x轴起始位置调整\n",
    "direction= \"y\", #按y轴调整标签位置方向，若想水平对齐则为\n",
    "hjust= 0.5 #对齐标签：0右对齐，1左对齐，0.5居中\n",
    ")\n",
    "p6<- p5 +\n",
    "geom_point(data = down,\n",
    "aes(x = log2_fc, y = log10_p),color = '#2DB2EB',size = 4.5, alpha = 0.2) +\n",
    "geom_text_repel(data = down,\n",
    "aes(x = log2_fc, y = log10_p, label = Compound.name),\n",
    "seed= 233,\n",
    "size= 3.5,\n",
    "color= 'black',\n",
    "min.segment.length = 0,\n",
    "force= 2,\n",
    "force_pull= 2,\n",
    "box.padding = 1,\n",
    "max.overlaps = Inf,\n",
    "segment.linetype = 3,\n",
    "segment.color = 'black',\n",
    "segment.alpha = 0.8,\n",
    "nudge_x= -3 - down$log2_fc,\n",
    "direction= \"y\",\n",
    "hjust= 1 #改为左对齐即可\n",
    ")\n",
    "plot = p6 +theme_bw()\n",
    "return(plot)\n",
    "}"
   ]
  },
  {
   "cell_type": "code",
   "execution_count": 366,
   "id": "6baff97c-c016-487a-a9f5-d8abafbe48f7",
   "metadata": {},
   "outputs": [],
   "source": [
    "heat = massstat::Heatmap(matrix = dd, \n",
    "                  name = \"z-score\", \n",
    "                  row_names_gp = gpar(cex = 0.4),\n",
    "                  column_names_gp = gpar(cex = 0.2),\n",
    "                  top_annotation = h1,\n",
    "                  row_labels = extract_variable_info(dd)$Compound.name,\n",
    "                  border = TRUE,col =col_fun,cluster_columns = F)\n",
    "print(heat)  "
   ]
  },
  {
   "cell_type": "code",
   "execution_count": 367,
   "id": "ca14fa2c-461c-44fa-9109-f7eec5d595d3",
   "metadata": {},
   "outputs": [
    {
     "data": {
      "image/png": "[encoded data removed]",
      "text/plain": [
       "plot without title"
      ]
     },
     "metadata": {
      "image/png": {
       "height": 420,
       "width": 420
      }
     },
     "output_type": "display_data"
    }
   ],
   "source": [
    "heat"
   ]
  },
  {
   "cell_type": "code",
   "execution_count": null,
   "id": "4f55fd7f-f019-423b-8826-e51b9ea7242a",
   "metadata": {},
   "outputs": [],
   "source": []
  },
  {
   "cell_type": "code",
   "execution_count": null,
   "id": "79cbfddd-5918-4d8c-ad67-bb31bfc2ad7a",
   "metadata": {},
   "outputs": [],
   "source": []
  }
 ],
 "metadata": {
  "kernelspec": {
   "display_name": "R",
   "language": "R",
   "name": "ir"
  },
  "language_info": {
   "codemirror_mode": "r",
   "file_extension": ".r",
   "mimetype": "text/x-r-source",
   "name": "R",
   "pygments_lexer": "r",
   "version": "4.2.1"
  }
 },
 "nbformat": 4,
 "nbformat_minor": 5
}
