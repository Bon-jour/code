{
 "cells": [
  {
   "cell_type": "code",
   "execution_count": 3,
   "id": "4201969b-d825-4cb7-bec0-5f9b24760f93",
   "metadata": {},
   "outputs": [
    {
     "name": "stderr",
     "output_type": "stream",
     "text": [
      "Warning message:\n",
      "“package ‘extrafont’ was built under R version 4.2.3”\n",
      "Registering fonts with R\n",
      "\n"
     ]
    }
   ],
   "source": [
    "library(ropls)\n",
    "library(ggplot2)\n",
    "library(ggsci)\n",
    "library(Cairo)\n",
    "library(tidyverse)\n",
    "library(extrafont)\n",
    "loadfonts()"
   ]
  },
  {
   "cell_type": "code",
   "execution_count": 5,
   "id": "c0068a60-01d7-4cb2-a575-84b4a76d0024",
   "metadata": {},
   "outputs": [
    {
     "data": {
      "text/html": [
       "<style>\n",
       ".list-inline {list-style: none; margin:0; padding: 0}\n",
       ".list-inline>li {display: inline-block}\n",
       ".list-inline>li:not(:last-child)::after {content: \"\\00b7\"; padding: 0 .5ex}\n",
       "</style>\n",
       "<ol class=list-inline><li>'dataMatrix'</li><li>'sampleMetadata'</li><li>'variableMetadata'</li><li>'se'</li><li>'eset'</li></ol>\n"
      ],
      "text/latex": [
       "\\begin{enumerate*}\n",
       "\\item 'dataMatrix'\n",
       "\\item 'sampleMetadata'\n",
       "\\item 'variableMetadata'\n",
       "\\item 'se'\n",
       "\\item 'eset'\n",
       "\\end{enumerate*}\n"
      ],
      "text/markdown": [
       "1. 'dataMatrix'\n",
       "2. 'sampleMetadata'\n",
       "3. 'variableMetadata'\n",
       "4. 'se'\n",
       "5. 'eset'\n",
       "\n",
       "\n"
      ],
      "text/plain": [
       "[1] \"dataMatrix\"       \"sampleMetadata\"   \"variableMetadata\" \"se\"              \n",
       "[5] \"eset\"            "
      ]
     },
     "metadata": {},
     "output_type": "display_data"
    }
   ],
   "source": [
    "data(sacurine)\n",
    "names(sacurine)"
   ]
  },
  {
   "cell_type": "code",
   "execution_count": 7,
   "id": "d739b349-260e-420d-8e00-74cf7b8ada39",
   "metadata": {},
   "outputs": [
    {
     "name": "stderr",
     "output_type": "stream",
     "text": [
      "The following objects are masked from sacurine (pos = 3):\n",
      "\n",
      "    dataMatrix, eset, sampleMetadata, se, variableMetadata\n",
      "\n",
      "\n"
     ]
    },
    {
     "name": "stdout",
     "output_type": "stream",
     "text": [
      "       dim  class    mode typeof   size NAs  min mean median max\n",
      " 183 x 109 matrix numeric double 0.2 Mb   0 -0.3  4.2    4.3   6\n",
      "       (2-methoxyethoxy)propanoic acid isomer (gamma)Glu-Leu/Ile ...\n",
      "HU_011                            3.019766011        3.888479324 ...\n",
      "HU_014                             3.81433889        4.277148905 ...\n",
      "...                                       ...                ... ...\n",
      "HU_208                            3.748127215        4.523763202 ...\n",
      "HU_209                            4.208859398        4.675880567 ...\n",
      "       Valerylglycine isomer 2  Xanthosine\n",
      "HU_011             3.889078716 4.075879575\n",
      "HU_014             4.181765852 4.195761901\n",
      "...                        ...         ...\n",
      "HU_208             4.634338821 4.487781609\n",
      "HU_209              4.47194762 4.222953354\n",
      "     age     bmi gender\n",
      " numeric numeric factor\n",
      " nRow nCol size NAs\n",
      "  183    3 0 Mb   0\n",
      "        age   bmi gender\n",
      "HU_011   29 19.75      M\n",
      "HU_014   59 22.64      F\n",
      "...     ...   ...    ...\n",
      "HU_208   27 18.61      F\n",
      "HU_209 17.5 21.48      F\n",
      " msiLevel      hmdb chemicalClass\n",
      "  numeric character     character\n",
      " nRow nCol size NAs\n",
      "  109    3 0 Mb   0\n",
      "                                       msiLevel      hmdb chemicalClass\n",
      "(2-methoxyethoxy)propanoic acid isomer        2                  Organi\n",
      "(gamma)Glu-Leu/Ile                            2                  AA-pep\n",
      "...                                         ...       ...           ...\n",
      "Valerylglycine isomer 2                       2           AA-pep:AcyGly\n",
      "Xanthosine                                    1 HMDB00299        Nucleo\n"
     ]
    }
   ],
   "source": [
    "attach(sacurine)\n",
    "strF(dataMatrix)\n",
    "strF(sampleMetadata)\n",
    "strF(variableMetadata)"
   ]
  },
  {
   "cell_type": "code",
   "execution_count": null,
   "id": "3b221085-adf6-4249-a53c-86af6762a3c0",
   "metadata": {},
   "outputs": [],
   "source": []
  }
 ],
 "metadata": {
  "kernelspec": {
   "display_name": "R",
   "language": "R",
   "name": "ir"
  },
  "language_info": {
   "codemirror_mode": "r",
   "file_extension": ".r",
   "mimetype": "text/x-r-source",
   "name": "R",
   "pygments_lexer": "r",
   "version": "4.2.1"
  }
 },
 "nbformat": 4,
 "nbformat_minor": 5
}
