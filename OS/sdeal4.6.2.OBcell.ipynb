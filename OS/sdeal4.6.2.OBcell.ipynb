{
 "cells": [
  {
   "cell_type": "code",
   "execution_count": 1,
   "id": "f01084e1-3092-4c99-816f-bccf2da471de",
   "metadata": {},
   "outputs": [
    {
     "name": "stderr",
     "output_type": "stream",
     "text": [
      "Warning message:\n",
      "\"package 'Seurat' was built under R version 4.2.3\"\n",
      "The legacy packages maptools, rgdal, and rgeos, underpinning the sp package,\n",
      "which was just loaded, will retire in October 2023.\n",
      "Please refer to R-spatial evolution reports for details, especially\n",
      "https://r-spatial.org/r/2023/05/15/evolution4.html.\n",
      "It may be desirable to make the sf package available;\n",
      "package maintainers should consider adding sf to Suggests:.\n",
      "The sp package is now running under evolution status 2\n",
      "     (status 2 uses the sf package in place of rgdal)\n",
      "\n",
      "Attaching SeuratObject\n",
      "\n"
     ]
    }
   ],
   "source": [
    "setwd('/import/DB/zhang//data')\n",
    "\n",
    "library(Seurat)"
   ]
  },
  {
   "cell_type": "code",
   "execution_count": 2,
   "id": "515d30bd-5e0a-4d0e-8d55-577d13188b58",
   "metadata": {},
   "outputs": [],
   "source": [
    "daa = readRDS('./OBcell.final.rds')"
   ]
  },
  {
   "cell_type": "code",
   "execution_count": 3,
   "id": "a35346a5-619a-4135-b036-2c53721c7b98",
   "metadata": {},
   "outputs": [
    {
     "data": {
      "text/plain": [
       "\n",
       " Inter_OB normal_OB  tumor_OB \n",
       "     1111       407      1391 "
      ]
     },
     "metadata": {},
     "output_type": "display_data"
    }
   ],
   "source": [
    "table(daa$cellgroup)"
   ]
  },
  {
   "cell_type": "code",
   "execution_count": 4,
   "id": "68fe3c68-8227-4e6c-8ded-bd4ca1f0dce3",
   "metadata": {
    "jupyter": {
     "source_hidden": true
    }
   },
   "outputs": [],
   "source": [
    "GetData = function(\n",
    "  srt,\n",
    "  genes = NULL,\n",
    "  slot = 'scale.data',\n",
    "  assay = NULL\n",
    "){\n",
    "  if (is.null(assay)){\n",
    "    assay = DefaultAssay(srt)\n",
    "  }\n",
    "  if (is.null(genes)){\n",
    "    if ('RNA' %in% names(srt@assays)){\n",
    "      genes = rownames(GetAssayData(srt, assay = 'RNA', slot = 'counts'))\n",
    "    } else if  ('Spatial' %in% names(srt@assays)){\n",
    "      genes = rownames(GetAssayData(srt, assay = 'Spatial', slot = 'counts'))\n",
    "    } else {\n",
    "      genes = rownames(GetAssayData(srt, assay = assay, slot = 'counts'))\n",
    "    }\n",
    "  }\n",
    "  data = GetAssayData(srt, assay = assay, slot = slot)\n",
    "  missing = setdiff(genes, rownames(data))\n",
    "  add = matrix(0, nrow = length(missing), ncol = ncol(data))\n",
    "  rownames(add) = missing\n",
    "  data = rbind(data, add)\n",
    "  data = data[genes, ]\n",
    "  return(data)\n",
    "}\n",
    "NMFToModules = function(\n",
    "  res,\n",
    "  gmin = 5\n",
    "){\n",
    "  \n",
    "  scores = basis(res)\n",
    "  coefs = coefficients(res)\n",
    "  \n",
    "  # Remove if fewer than gmin genes\n",
    "  ranks_x = t(apply(-t(t(scores) / apply(scores, 2, mean)), 1, rank))\n",
    "  ranks_y = apply(-t(t(scores) / apply(scores, 2, mean)), 2, rank)\n",
    "  for (i in 1:ncol(scores)){\n",
    "    ranks_y[ranks_x[,i] > 1,i] = Inf\n",
    "  }\n",
    "  modules = apply(ranks_y, 2, function(m){\n",
    "    a = sort(m[is.finite(m)])\n",
    "    a = a[a == 1:length(a)]\n",
    "    names(a)\n",
    "  })\n",
    "  l = sapply(modules, length)\n",
    "  keep = (l >= gmin)\n",
    "  scores = scores[, keep]\n",
    "  coefs = coefs[keep, ]\n",
    "  \n",
    "  # Find modules\n",
    "  ranks_x = t(apply(-t(t(scores) / apply(scores, 2, mean)), 1, rank))\n",
    "  ranks_y = apply(-t(t(scores) / apply(scores, 2, mean)), 2, rank)\n",
    "  for (i in 1:ncol(scores)){\n",
    "    ranks_y[ranks_x[,i] > 1,i] = Inf\n",
    "  }\n",
    "  modules = apply(ranks_y, 2, function(m){\n",
    "    a = sort(m[is.finite(m)])\n",
    "    a = a[a == 1:length(a)]\n",
    "    names(a)\n",
    "  })\n",
    "  \n",
    "  names(modules) = sapply(modules, '[', 1)\n",
    "  names(modules) = paste('m', names(modules), sep = '_')\n",
    "  names(modules) = gsub('-','_',names(modules))\n",
    "  \n",
    "  return(modules)\n",
    "}\n",
    "BuildEnrichmentMatrix = function(\n",
    "  genes,\n",
    "  type = 'GO',\n",
    "  db = NULL\n",
    "){\n",
    "  if (is.null(db)){\n",
    "    db = FindMSigDB(type)\n",
    "  }\n",
    "  terms = names(db)\n",
    "  enrichment.matrix = sapply(db, function(term){\n",
    "    genes %in% term\n",
    "  })\n",
    "  rownames(enrichment.matrix) = genes\n",
    "  #enrichment.matrix = enrichment.matrix[, colSums(enrichment.matrix) > 0]\n",
    "  enrichment.matrix[, colSums(enrichment.matrix) == 0] = NA\n",
    "  return(enrichment.matrix)\n",
    "}\n",
    "FindMSigDB = function(\n",
    "  type\n",
    "){\n",
    "library(msigdbr)\n",
    "  if (type == 'GO'){\n",
    "    gene_sets <- msigdbr(species = \"Homo sapiens\",category = 'C5')%>% dplyr::select(gs_name,human_entrez_gene, gene_symbol)\n",
    "    db = split(gene_sets$gene_symbol,f = gene_sets$gs_name)\n",
    "  } else if (type == 'HALLMARK'){\n",
    "    gene_sets <- msigdbr(species = \"Homo sapiens\",category = 'H')%>% dplyr::select(gs_name,human_entrez_gene, gene_symbol)\n",
    "    db = split(gene_sets$gene_symbol,f = gene_sets$gs_name)\n",
    "  } else if (type == 'MOTIF'){\n",
    "    gene_sets <- msigdbr(species = \"Homo sapiens\",category = 'C3')%>% dplyr::select(gs_name,human_entrez_gene, gene_symbol)\n",
    "    db = split(gene_sets$gene_symbol,f = gene_sets$gs_name)\n",
    "    db = db[-grep('UNKNOWN|MIR',names(db))]\n",
    "  } else if (type == 'PATHWAYS'){\n",
    "    gene_sets <- msigdbr(species = \"Homo sapiens\",category = 'C2')%>% dplyr::select(gs_name,human_entrez_gene, gene_symbol)\n",
    "    db = split(gene_sets$gene_symbol,f = gene_sets$gs_name)\n",
    "    db = db[grep('BIOCARTA|REACTOME|KEGG',names(db))]\n",
    "  } else if (type == 'BIOCARTA'){\n",
    "      gene_sets <- msigdbr(species = \"Homo sapiens\",category = 'C2')%>% dplyr::select(gs_name,human_entrez_gene, gene_symbol)\n",
    "    db = split(gene_sets$gene_symbol,f = gene_sets$gs_name)\n",
    "    db = db[grep('BIOCARTA',names(db))]\n",
    "  } else if (type == 'KEGG'){\n",
    "    gene_sets <- msigdbr(species = \"Homo sapiens\",category = 'C2')%>% dplyr::select(gs_name,human_entrez_gene, gene_symbol)\n",
    "    db = split(gene_sets$gene_symbol,f = gene_sets$gs_name)\n",
    "    db = db[grep('KEGG',names(db))]\n",
    "  } else if (type == 'REACTOME'){\n",
    "    gene_sets <- msigdbr(species = \"Homo sapiens\",category = 'C2')%>% dplyr::select(gs_name,human_entrez_gene, gene_symbol)\n",
    "    db = split(gene_sets$gene_symbol,f = gene_sets$gs_name)\n",
    "    db = db[grep('REACTOME',names(db))]\n",
    "  } else {\n",
    "    gene_sets <- msigdbr(species = \"Homo sapiens\",category = 'C5')%>% dplyr::select(gs_name,human_entrez_gene, gene_symbol)\n",
    "    db = split(gene_sets$gene_symbol,f = gene_sets$gs_name)\n",
    "    db = db[grep(type, names(db), ignore.case = TRUE, value = TRUE)]\n",
    "  }\n",
    "  return(db)\n",
    "}\n",
    "loadRData = function(fileName){\n",
    "  load(fileName)\n",
    "  get(ls()[ls() != \"fileName\"])\n",
    "}\n",
    "Heatmap = function(\n",
    "  matrix,\n",
    "  colors = NULL,\n",
    "  breaks = NULL,\n",
    "  col = NULL,\n",
    "  clustering_method_rows = 'ward.D2', \n",
    "  clustering_method_columns = 'ward.D2',\n",
    "  clustering_distance_rows = 'pearson',\n",
    "  clustering_distance_columns = 'pearson',\n",
    "  show_row_names = FALSE,\n",
    "  show_column_names = FALSE,\n",
    "  is.symmetric = FALSE,\n",
    "  ...\n",
    "){\n",
    "  if (is.null(breaks)){\n",
    "    mi = min(matrix, na.rm = TRUE)\n",
    "    ma = max(matrix, na.rm = TRUE)\n",
    "    if (mi < 0 & ma > 0){\n",
    "      breaks = c(mi, 0, ma)\n",
    "    } else {\n",
    "      breaks = c(mi, (mi + ma)/2, ma)\n",
    "    }\n",
    "  }\n",
    "  if (is.null(colors)){\n",
    "    colors = c('blue','white','red')\n",
    "  }\n",
    "  if (is.null(col)){\n",
    "    col = colorRamp2(breaks = breaks, colors = colors)\n",
    "  }\n",
    "  if (is.symmetric == TRUE){\n",
    "    h = ComplexHeatmap::Heatmap(matrix, \n",
    "                                col = col,\n",
    "                                clustering_method_rows = clustering_method_rows, \n",
    "                                clustering_distance_rows = clustering_distance_rows,\n",
    "                                cluster_columns = FALSE,\n",
    "                                show_row_names = show_row_names,\n",
    "                                show_column_names = show_column_names,\n",
    "                                ...)\n",
    "    o = unlist(row_order(h))\n",
    "    return(ComplexHeatmap::Heatmap(matrix, \n",
    "                                   col = col,\n",
    "                                   clustering_method_rows = clustering_method_rows, \n",
    "                                   clustering_distance_rows = clustering_distance_rows,\n",
    "                                   cluster_columns = FALSE,\n",
    "                                   column_order = o,\n",
    "                                   show_row_names = show_row_names,\n",
    "                                   show_column_names = show_column_names, \n",
    "                                   ...))\n",
    "  } else {\n",
    "    return(ComplexHeatmap::Heatmap(matrix, \n",
    "                                   col = col,\n",
    "                                   clustering_method_rows = clustering_method_rows, \n",
    "                                   clustering_method_columns = clustering_method_columns,\n",
    "                                   clustering_distance_rows = clustering_distance_rows,\n",
    "                                   clustering_distance_columns = clustering_distance_columns,\n",
    "                                   show_row_names = show_row_names,\n",
    "                                   show_column_names = show_column_names,\n",
    "                                   ...))\n",
    "  }\n",
    "  \n",
    "}\n",
    "GeneToEnrichment <- function (srt, type = \"GO\", db = NULL, method = \"rand\", genes = NULL, \n",
    "    assay = NULL, do.rescale = FALSE, min.cells = 0, min.genes = 0, \n",
    "    min.var = 0, min.var.rescaled = 0, auc_percentile = 0.05, \n",
    "    db_rand = NULL, nrand = 4, nbin = 25, ...) \n",
    "{\n",
    "    if (is.null(assay)) {\n",
    "        assay = DefaultAssay(srt)\n",
    "    }\n",
    "    if (is.null(db)) {\n",
    "        db = FindMSigDB(type)\n",
    "    }\n",
    "    counts = as.matrix(GetData(srt, assay = assay, slot = \"counts\"))\n",
    "    genes = rownames(counts)\n",
    "    genes.expr = rownames(counts)[rowSums(counts) > min.cells]\n",
    "    if (method == \"metagene\") {\n",
    "        data = as.matrix(GetAssayData(srt, assay = assay, slot = \"scale.data\"))\n",
    "        db = lapply(db, intersect, genes.expr)\n",
    "        enrichment.profile = t(sapply(names(db), function(m) {\n",
    "            colMeans(data[db[[m]], ], na.rm = TRUE)\n",
    "        }))\n",
    "        enrichment.profile = enrichment.profile[sapply(names(db), \n",
    "            function(x) {\n",
    "                v = var(enrichment.profile[x, ])\n",
    "                l = length(db[[x]])\n",
    "                return(l > min.genes && v > min.var && v * l^2 > \n",
    "                  min.var.rescaled)\n",
    "            }), ]\n",
    "        if (do.rescale) {\n",
    "            mn = apply(enrichment.profile, 1, mean)\n",
    "            v = apply(enrichment.profile, 1, var)\n",
    "            enrichment.profile = (enrichment.profile - mn)/sqrt(v)\n",
    "        }\n",
    "        srt = AddMetaData(srt, t(enrichment.profile), col.name = rownames(enrichment.profile))\n",
    "    }\n",
    "    if (method == \"auc\") {\n",
    "        data = as.matrix(GetData(srt, assay = assay, slot = \"data\"))\n",
    "        cells_rankings = AUCell_buildRankings(data)\n",
    "        cells_AUC = AUCell_calcAUC(db, cells_rankings, aucMaxRank = nrow(cells_rankings) * \n",
    "            auc_percentile)\n",
    "        enrichment.profile = getAUC(cells_AUC)\n",
    "        if (do.rescale) {\n",
    "            mn = apply(enrichment.profile, 1, mean)\n",
    "            v = apply(enrichment.profile, 1, var)\n",
    "            enrichment.profile = (enrichment.profile - mn)/sqrt(v)\n",
    "        }\n",
    "        srt = AddMetaData(srt, t(enrichment.profile), col.name = rownames(enrichment.profile))\n",
    "    }\n",
    "    if (method == \"score\") {\n",
    "        temp = AddModuleScore(srt, features = db, assay = assay, \n",
    "            name = names(db), nbin = nbin, ...)\n",
    "        enrichment.profile = t(temp@meta.data[, names(db)])\n",
    "        if (do.rescale) {\n",
    "            mn = apply(enrichment.profile, 1, mean)\n",
    "            v = apply(enrichment.profile, 1, var)\n",
    "            enrichment.profile = (enrichment.profile - mn)/sqrt(v)\n",
    "        }\n",
    "        srt = AddMetaData(srt, t(enrichment.profile), col.name = rownames(enrichment.profile))\n",
    "    }\n",
    "    if (method == \"rand\") {\n",
    "        data = as.matrix(GetData(srt, assay = assay, slot = \"scale.data\"))\n",
    "        db = lapply(db, intersect, genes)\n",
    "        if (is.null(db_rand)) {\n",
    "            db_rand = MakeRand(srt, db, nrand = nrand, nbin = nbin)\n",
    "        }\n",
    "        else {\n",
    "            nrand = log10(length(db_rand[[1]]))\n",
    "        }\n",
    "        enrichment.profile = t(sapply(names(db), function(m) {\n",
    "            ra = sapply(db_rand[[m]], function(i) {\n",
    "                colMeans(data[i, ], na.rm = TRUE)\n",
    "            })\n",
    "            re = colMeans(data[db[[m]], ], na.rm = TRUE)\n",
    "            p = rowMeans(ra >= re)\n",
    "            p = -log10(p)\n",
    "            return(p)\n",
    "        }))\n",
    "        enrichment.profile[is.infinite(enrichment.profile)] = nrand\n",
    "        enrichment.profile = enrichment.profile/nrand\n",
    "        srt = AddMetaData(srt, t(enrichment.profile), col.name = rownames(enrichment.profile))\n",
    "    }\n",
    "    return(srt)\n",
    "}\n",
    "MakeRand <-function (srt, db, assay = NULL, nrand = 3, nbin = 25) \n",
    "{\n",
    "    if (is.null(assay)) {\n",
    "        assay = DefaultAssay(srt)\n",
    "    }\n",
    "    data = GetData(srt, slot = \"data\")\n",
    "    db = lapply(db, intersect, rownames(data))\n",
    "    data.avg = sort(rowMeans(x = data))\n",
    "    data.cut = cut_number(x = data.avg + rnorm(n = length(data.avg))/1e+30, \n",
    "        n = nbin, labels = FALSE, right = FALSE)\n",
    "    names(x = data.cut) = names(x = data.avg)\n",
    "    binned = split(names(data.cut), data.cut)\n",
    "    db_rand = lapply(names(db), function(m) {\n",
    "        lapply(1:10^nrand, function(i) {\n",
    "            used = vector()\n",
    "            unused = binned\n",
    "            for (g in db[[m]]) {\n",
    "                pool = data.cut[g]\n",
    "                new = sample(unused[[pool]], 1)\n",
    "                used = c(used, new)\n",
    "                unused[[pool]] = setdiff(unused[[pool]], new)\n",
    "            }\n",
    "            return(used)\n",
    "        })\n",
    "    })\n",
    "    names(db_rand) = names(db)\n",
    "    return(db_rand)\n",
    "}"
   ]
  },
  {
   "cell_type": "code",
   "execution_count": 5,
   "id": "e27661a7-7fcb-4338-b011-bf2c6d49492c",
   "metadata": {},
   "outputs": [],
   "source": [
    "range = 4:12 # 迭代次数\n",
    "gmin = 5 #最低关联数量\n",
    "ncores = 5 #运行核数量"
   ]
  },
  {
   "cell_type": "code",
   "execution_count": 49,
   "id": "e147fbd3-d1cb-421e-a355-b9e0baf20a1b",
   "metadata": {},
   "outputs": [],
   "source": [
    "DefaultAssay(daa) <- 'RNA'    \n",
    "malignant_list <- SplitObject(object = daa, split.by = \"cellgroup\")\n",
    "saveRDS(malignant_list ,file = \"./malignant_list.rds\")\n",
    "malignant_list <- readRDS(file = \"./malignant_list.rds\")"
   ]
  },
  {
   "cell_type": "code",
   "execution_count": 50,
   "id": "71a8518c-234d-4c74-938d-e9a3bf69c81d",
   "metadata": {},
   "outputs": [],
   "source": [
    "trajectory_cluster_dir=paste('./',\"malignant_RDS\",sep=\"/\")\n",
    "if(!file.exists(trajectory_cluster_dir)){\n",
    "   dir.create(trajectory_cluster_dir)\n",
    "}"
   ]
  },
  {
   "cell_type": "code",
   "execution_count": 51,
   "id": "67b399a6-b968-4b9f-8e60-dc498f9cad57",
   "metadata": {},
   "outputs": [],
   "source": [
    "malignant_list_names <- names(malignant_list)\n",
    "for(i in malignant_list_names){\n",
    "    saveRDS(malignant_list[[i]],file = paste0('./malignant_RDS/',i,'_malignant_Seurat.RDS'))\n",
    "}\n",
    "saveRDS(malignant_list_names,file='./malignant_list_names.RDS')\n",
    "malignant_list_names <- readRDS(file='./malignant_list_names.RDS')\n"
   ]
  },
  {
   "cell_type": "code",
   "execution_count": 52,
   "id": "52b6a9b1-47d9-43c7-ab16-9d710b37b04c",
   "metadata": {},
   "outputs": [],
   "source": [
    "trajectory_cluster_dir=paste('./',\"sample_list\",sep=\"/\")\n",
    "if(!file.exists(trajectory_cluster_dir)){\n",
    "   dir.create(trajectory_cluster_dir)\n",
    "}"
   ]
  },
  {
   "cell_type": "code",
   "execution_count": 53,
   "id": "ef59d05c-5a20-499e-8dec-602ce530d530",
   "metadata": {},
   "outputs": [],
   "source": [
    "path <- \"./sample_list/\""
   ]
  },
  {
   "cell_type": "code",
   "execution_count": 54,
   "id": "76f81000-0bdc-42dc-a8df-bbc1c06e08ed",
   "metadata": {},
   "outputs": [
    {
     "data": {
      "text/html": [
       "'./sample_list/'"
      ],
      "text/latex": [
       "'./sample\\_list/'"
      ],
      "text/markdown": [
       "'./sample_list/'"
      ],
      "text/plain": [
       "[1] \"./sample_list/\""
      ]
     },
     "metadata": {},
     "output_type": "display_data"
    }
   ],
   "source": [
    "path"
   ]
  },
  {
   "cell_type": "code",
   "execution_count": 55,
   "id": "b7fc2c71-70e0-47e2-97ed-f0d0adc6d926",
   "metadata": {},
   "outputs": [
    {
     "name": "stderr",
     "output_type": "stream",
     "text": [
      "Calculating cell attributes from input UMI matrix: log_umi\n",
      "\n",
      "Variance stabilizing transformation of count matrix of size 12253 by 407\n",
      "\n",
      "Model formula is y ~ log_umi\n",
      "\n",
      "Get Negative Binomial regression parameters per gene\n",
      "\n",
      "Using 2000 genes, 407 cells\n",
      "\n"
     ]
    },
    {
     "name": "stdout",
     "output_type": "stream",
     "text": [
      "  |======================================================================| 100%\n"
     ]
    },
    {
     "name": "stderr",
     "output_type": "stream",
     "text": [
      "Found 7 outliers - those will be ignored in fitting/regularization step\n",
      "\n",
      "\n",
      "Second step: Get residuals using fitted parameters for 12253 genes\n",
      "\n"
     ]
    },
    {
     "name": "stdout",
     "output_type": "stream",
     "text": [
      "  |======================================================================| 100%\n"
     ]
    },
    {
     "name": "stderr",
     "output_type": "stream",
     "text": [
      "Computing corrected count matrix for 12253 genes\n",
      "\n"
     ]
    },
    {
     "name": "stdout",
     "output_type": "stream",
     "text": [
      "  |======================================================================| 100%\n"
     ]
    },
    {
     "name": "stderr",
     "output_type": "stream",
     "text": [
      "Calculating gene attributes\n",
      "\n",
      "Wall clock passed: Time difference of 9.694772 secs\n",
      "\n",
      "Determine variable features\n",
      "\n",
      "Place corrected count matrix in counts slot\n",
      "\n",
      "Centering data matrix\n",
      "\n",
      "Set default assay to SCT\n",
      "\n"
     ]
    },
    {
     "name": "stdout",
     "output_type": "stream",
     "text": [
      "[1] \"normal_OB is already over!\"\n"
     ]
    },
    {
     "name": "stderr",
     "output_type": "stream",
     "text": [
      "Calculating cell attributes from input UMI matrix: log_umi\n",
      "\n",
      "Variance stabilizing transformation of count matrix of size 18426 by 1391\n",
      "\n",
      "Model formula is y ~ log_umi\n",
      "\n",
      "Get Negative Binomial regression parameters per gene\n",
      "\n",
      "Using 2000 genes, 1391 cells\n",
      "\n"
     ]
    },
    {
     "name": "stdout",
     "output_type": "stream",
     "text": [
      "  |======================================================================| 100%\n"
     ]
    },
    {
     "name": "stderr",
     "output_type": "stream",
     "text": [
      "Found 99 outliers - those will be ignored in fitting/regularization step\n",
      "\n",
      "\n",
      "Second step: Get residuals using fitted parameters for 18426 genes\n",
      "\n"
     ]
    },
    {
     "name": "stdout",
     "output_type": "stream",
     "text": [
      "  |======================================================================| 100%\n"
     ]
    },
    {
     "name": "stderr",
     "output_type": "stream",
     "text": [
      "Computing corrected count matrix for 18426 genes\n",
      "\n"
     ]
    },
    {
     "name": "stdout",
     "output_type": "stream",
     "text": [
      "  |======================================================================| 100%\n"
     ]
    },
    {
     "name": "stderr",
     "output_type": "stream",
     "text": [
      "Calculating gene attributes\n",
      "\n",
      "Wall clock passed: Time difference of 36.11799 secs\n",
      "\n",
      "Determine variable features\n",
      "\n",
      "Place corrected count matrix in counts slot\n",
      "\n",
      "Centering data matrix\n",
      "\n",
      "Set default assay to SCT\n",
      "\n"
     ]
    },
    {
     "name": "stdout",
     "output_type": "stream",
     "text": [
      "[1] \"tumor_OB is already over!\"\n"
     ]
    },
    {
     "name": "stderr",
     "output_type": "stream",
     "text": [
      "Calculating cell attributes from input UMI matrix: log_umi\n",
      "\n",
      "Variance stabilizing transformation of count matrix of size 16112 by 1111\n",
      "\n",
      "Model formula is y ~ log_umi\n",
      "\n",
      "Get Negative Binomial regression parameters per gene\n",
      "\n",
      "Using 2000 genes, 1111 cells\n",
      "\n"
     ]
    },
    {
     "name": "stdout",
     "output_type": "stream",
     "text": [
      "  |======================================================================| 100%\n"
     ]
    },
    {
     "name": "stderr",
     "output_type": "stream",
     "text": [
      "Found 30 outliers - those will be ignored in fitting/regularization step\n",
      "\n",
      "\n",
      "Second step: Get residuals using fitted parameters for 16112 genes\n",
      "\n"
     ]
    },
    {
     "name": "stdout",
     "output_type": "stream",
     "text": [
      "  |======================================================================| 100%\n"
     ]
    },
    {
     "name": "stderr",
     "output_type": "stream",
     "text": [
      "Computing corrected count matrix for 16112 genes\n",
      "\n"
     ]
    },
    {
     "name": "stdout",
     "output_type": "stream",
     "text": [
      "  |======================================================================| 100%\n"
     ]
    },
    {
     "name": "stderr",
     "output_type": "stream",
     "text": [
      "Calculating gene attributes\n",
      "\n",
      "Wall clock passed: Time difference of 29.02613 secs\n",
      "\n",
      "Determine variable features\n",
      "\n",
      "Place corrected count matrix in counts slot\n",
      "\n",
      "Centering data matrix\n",
      "\n",
      "Set default assay to SCT\n",
      "\n"
     ]
    },
    {
     "name": "stdout",
     "output_type": "stream",
     "text": [
      "[1] \"Inter_OB is already over!\"\n"
     ]
    }
   ],
   "source": [
    "library(dplyr)\n",
    "\n",
    "\n",
    "for(i in malignant_list_names) {\n",
    "    if(i %in% sample_name){\n",
    "        print(paste0(i, \" is already over!\"))\n",
    "        next;\n",
    "    }\n",
    "    obj <- readRDS(file = paste0('./malignant_RDS/',i,'_malignant_Seurat.RDS'))\n",
    "    obj <- SCTransform(obj, return.only.var.genes = TRUE)\n",
    "    saveRDS(obj,file = paste0('./malignant_RDS/',i,'_malignant_Seurat.RDS'))\n",
    "    data <- GetAssayData(obj, slot = 'scale.data') %>% as.matrix()\n",
    " \n",
    "    data <- data[VariableFeatures(obj),]\n",
    "\trm(obj)\n",
    "\tgc()\n",
    "    data[data < 0] <- 0\n",
    "    data <- data[apply(data, 1, var) > 0, ]\n",
    "    res.list <- parallel::mclapply(range, function(r){\n",
    "        nmf(data, rank = r, nrun = 1, seed = 'ica', method = 'nsNMF')\n",
    "    }, mc.cores = ncores)\n",
    "    names(res.list) = range\n",
    "    saveRDS(res.list,file = paste0(path,i,\"res.list.rds\"))\n",
    "\tprint(paste0(i, \" is already over!\"))\n",
    "}"
   ]
  },
  {
   "cell_type": "code",
   "execution_count": 56,
   "id": "6342adf2-958c-40d5-a65e-a03bb1a5a257",
   "metadata": {},
   "outputs": [],
   "source": [
    "malignant_list <- readRDS(\"./malignant_list.rds\")\n",
    "path <- \"./sample_list/\"\n",
    "res.list_L<- list()\n",
    "for(i in names(malignant_list)){\n",
    "    a <- readRDS(paste0(path,i ,\"res.list.rds\"))\n",
    "    res.list_L[[i]] <- a\n",
    "    }\n",
    "   names(res.list_L) <- names(malignant_list)"
   ]
  },
  {
   "cell_type": "code",
   "execution_count": 57,
   "id": "895699a8-05cb-4bd0-a6f0-f10ce07e4c3f",
   "metadata": {},
   "outputs": [],
   "source": [
    "library(NMF)"
   ]
  },
  {
   "cell_type": "code",
   "execution_count": null,
   "id": "943dac05-a3ab-448f-b8d7-9ea49ef1c2bd",
   "metadata": {},
   "outputs": [],
   "source": []
  },
  {
   "cell_type": "code",
   "execution_count": 58,
   "id": "da2c8ed7-a4e1-4579-ad8b-6ae486d362ec",
   "metadata": {},
   "outputs": [
    {
     "name": "stdout",
     "output_type": "stream",
     "text": [
      " 4  5  6  7  8  9 10 11 12 \n",
      " 3  4  4  4  7  7  8 10  9 \n",
      " 4  5  6  7  8  9 10 11 12 \n",
      " 4  5  6  7  8  9  9  7 10 \n",
      " 4  5  6  7  8  9 10 11 12 \n",
      " 4  5  6  7  8  9 10 11 11 \n"
     ]
    }
   ],
   "source": [
    "#### 获取最优的NMF聚类rank，提取\n",
    "modules_L <- list()\n",
    "res_optima_L <- list()\n",
    "for (i in 1:length(malignant_list)){ \n",
    "    modules.list = lapply(res.list_L[[i]], NMFToModules, gmin = gmin)\n",
    "    print(sapply(modules.list,length))\n",
    "    comp = as.numeric(names(modules.list)) - sapply(modules.list, length)\n",
    "    mi = min(comp)\n",
    "    r = names(which(comp == mi))\n",
    "    r = r[length(r)]\n",
    "    res = res.list_L[[i]][[r]]\n",
    "    modules = NMFToModules(res, gmin = gmin)   \n",
    "    modules_L[[i]] <- modules\n",
    "    res_optima_L[[i]] <- res  \n",
    "}\n",
    "saveRDS(object = modules_L,file = \"./modules_L.rds\")\n",
    "saveRDS(object = res_optima_L,file = \"./res_optima_L.rds\")"
   ]
  },
  {
   "cell_type": "code",
   "execution_count": 60,
   "id": "73e05492-a280-47ae-9ca1-1386438400d4",
   "metadata": {},
   "outputs": [
    {
     "name": "stderr",
     "output_type": "stream",
     "text": [
      "Warning message:\n",
      "\"package 'pheatmap' was built under R version 4.2.3\"\n"
     ]
    }
   ],
   "source": [
    "library(pheatmap)"
   ]
  },
  {
   "cell_type": "code",
   "execution_count": 61,
   "id": "846e3721-7e0f-4a87-943d-04f0730a5693",
   "metadata": {},
   "outputs": [
    {
     "name": "stdout",
     "output_type": "stream",
     "text": [
      " [1] \"normal_OB.m_IGFBP3\"    \"normal_OB.m_PRSS23\"    NA                     \n",
      " [4] \"normal_OB.m_SFRP4\"     NA                      NA                     \n",
      " [7] \"normal_OB.m_PSMD14\"    \"normal_OB.m_MT1A\"      \"normal_OB.m_DPT\"      \n",
      "[10] \"tumor_OB.m_MX1\"        \"tumor_OB.m_SPP1\"       \"tumor_OB.m_PLPP4\"     \n",
      "[13] \"tumor_OB.m_NDUFA4L2\"   \"tumor_OB.m_CENPF\"      \"tumor_OB.m_AC005532.1\"\n",
      "[16] \"tumor_OB.m_ASPN\"       \"tumor_OB.m_EDNRA\"      \"Inter_OB.m_IGFBP3\"    \n",
      "[19] \"Inter_OB.m_MMP13\"      \"Inter_OB.m_COMP\"       NA                     \n",
      "[22] \"Inter_OB.m_GSTA1\"      \"Inter_OB.m_TAGLN\"      \"Inter_OB.m_RGS16\"     \n",
      "[1] 24\n",
      " [1] \"normal_OB.m_IGFBP3\"    \"normal_OB.m_PRSS23\"    \"normal_OB.m_SFRP4\"    \n",
      " [4] \"normal_OB.m_PSMD14\"    \"normal_OB.m_MT1A\"      \"normal_OB.m_DPT\"      \n",
      " [7] \"tumor_OB.m_MX1\"        \"tumor_OB.m_SPP1\"       \"tumor_OB.m_PLPP4\"     \n",
      "[10] \"tumor_OB.m_NDUFA4L2\"   \"tumor_OB.m_CENPF\"      \"tumor_OB.m_AC005532.1\"\n",
      "[13] \"tumor_OB.m_ASPN\"       \"tumor_OB.m_EDNRA\"      \"Inter_OB.m_IGFBP3\"    \n",
      "[16] \"Inter_OB.m_MMP13\"      \"Inter_OB.m_COMP\"       \"Inter_OB.m_GSTA1\"     \n",
      "[19] \"Inter_OB.m_TAGLN\"      \"Inter_OB.m_RGS16\"     \n",
      "[1] 20\n",
      " [1] \"normal_OB.m_IGFBP3\"    \"normal_OB.m_PRSS23\"    \"normal_OB.m_SFRP4\"    \n",
      " [4] \"normal_OB.m_PSMD14\"    \"normal_OB.m_MT1A\"      \"normal_OB.m_DPT\"      \n",
      " [7] \"tumor_OB.m_MX1\"        \"tumor_OB.m_SPP1\"       \"tumor_OB.m_PLPP4\"     \n",
      "[10] \"tumor_OB.m_NDUFA4L2\"   \"tumor_OB.m_CENPF\"      \"tumor_OB.m_AC005532.1\"\n",
      "[13] \"tumor_OB.m_ASPN\"       \"tumor_OB.m_EDNRA\"      \"Inter_OB.m_IGFBP3\"    \n",
      "[16] \"Inter_OB.m_MMP13\"      \"Inter_OB.m_COMP\"       \"Inter_OB.m_GSTA1\"     \n",
      "[19] \"Inter_OB.m_TAGLN\"      \"Inter_OB.m_RGS16\"     \n",
      "[1] 20\n",
      " [1] \"normal_OB.m_IGFBP3\"    \"normal_OB.m_PRSS23\"    \"normal_OB.m_SFRP4\"    \n",
      " [4] \"normal_OB.m_PSMD14\"    \"normal_OB.m_MT1A\"      \"normal_OB.m_DPT\"      \n",
      " [7] \"tumor_OB.m_MX1\"        \"tumor_OB.m_SPP1\"       \"tumor_OB.m_PLPP4\"     \n",
      "[10] \"tumor_OB.m_NDUFA4L2\"   \"tumor_OB.m_CENPF\"      \"tumor_OB.m_AC005532.1\"\n",
      "[13] \"tumor_OB.m_ASPN\"       \"tumor_OB.m_EDNRA\"      \"Inter_OB.m_IGFBP3\"    \n",
      "[16] \"Inter_OB.m_MMP13\"      \"Inter_OB.m_COMP\"       \"Inter_OB.m_GSTA1\"     \n",
      "[19] \"Inter_OB.m_TAGLN\"      \"Inter_OB.m_RGS16\"     \n",
      "[1] 20\n",
      " [1] \"normal_OB.m_IGFBP3\"    \"normal_OB.m_PRSS23\"    \"normal_OB.m_SFRP4\"    \n",
      " [4] \"normal_OB.m_PSMD14\"    \"normal_OB.m_MT1A\"      \"normal_OB.m_DPT\"      \n",
      " [7] \"tumor_OB.m_MX1\"        \"tumor_OB.m_SPP1\"       \"tumor_OB.m_PLPP4\"     \n",
      "[10] \"tumor_OB.m_NDUFA4L2\"   \"tumor_OB.m_CENPF\"      \"tumor_OB.m_AC005532.1\"\n",
      "[13] \"tumor_OB.m_ASPN\"       \"tumor_OB.m_EDNRA\"      \"Inter_OB.m_IGFBP3\"    \n",
      "[16] \"Inter_OB.m_MMP13\"      \"Inter_OB.m_COMP\"       \"Inter_OB.m_GSTA1\"     \n",
      "[19] \"Inter_OB.m_TAGLN\"      \"Inter_OB.m_RGS16\"     \n",
      "[1] 20\n"
     ]
    },
    {
     "data": {
      "image/png": "[encoded data removed]",
      "text/plain": [
       "plot without title"
      ]
     },
     "metadata": {
      "image/png": {
       "height": 450,
       "width": 480
      }
     },
     "output_type": "display_data"
    }
   ],
   "source": [
    "names(res_optima_L) <- names(malignant_list)\n",
    " \n",
    "modules.list <- lapply(res_optima_L, NMFToModules)\n",
    " \n",
    "all = unlist(modules.list, recursive = FALSE, use.names = FALSE)\n",
    "names(all) = unlist(sapply(modules.list, names))\n",
    "ta = table(unlist(all))\n",
    "genes.use = names(ta)[ta > 1]\n",
    "for (i in 1:5){\n",
    "  all = unlist(modules.list, recursive = FALSE, use.names = TRUE)\n",
    "  all = lapply(all, intersect, genes.use)\n",
    "  sim = sapply(all, function(x){\n",
    "    sapply(all, function(y){\n",
    "      length(intersect(x,y))/length(union(x,y))\n",
    "    })\n",
    "  })\n",
    "  keep = rownames(sim)[apply(sim, 1, function(x){\n",
    "    sum(x > 0.05) >= 3 #大于等于模块数相关的情况，我这里2或3就行\n",
    "  })]\n",
    "    print(keep)\n",
    "  all = all[keep]\n",
    "  modules.list = lapply(names(modules.list), function(x){\n",
    "    li = modules.list[[x]]\n",
    "    li[names(li)[paste(x,names(li),sep='.') %in% keep]]\n",
    "  })\n",
    "  names(modules.list) =  names(res_optima_L)\n",
    "  ta = table(unlist(all))\n",
    "  genes.use = names(ta)[ta > 1] \n",
    "  print(length(all))\n",
    "}\n",
    "options(repr.plot.height = 7.5, repr.plot.width = 8)\n",
    "pheatmap(sim, show_rownames = F, show_colnames = F)"
   ]
  },
  {
   "cell_type": "code",
   "execution_count": 65,
   "id": "646166bd-d80c-44ca-91bf-5a82bfb39145",
   "metadata": {},
   "outputs": [
    {
     "name": "stderr",
     "output_type": "stream",
     "text": [
      "\n",
      "Attaching package: 'igraph'\n",
      "\n",
      "\n",
      "The following objects are masked from 'package:NMF':\n",
      "\n",
      "    algorithm, compare\n",
      "\n",
      "\n",
      "The following objects are masked from 'package:BiocGenerics':\n",
      "\n",
      "    normalize, path, union\n",
      "\n",
      "\n",
      "The following objects are masked from 'package:dplyr':\n",
      "\n",
      "    as_data_frame, groups, union\n",
      "\n",
      "\n",
      "The following objects are masked from 'package:stats':\n",
      "\n",
      "    decompose, spectrum\n",
      "\n",
      "\n",
      "The following object is masked from 'package:base':\n",
      "\n",
      "    union\n",
      "\n",
      "\n"
     ]
    }
   ],
   "source": [
    "library(igraph)"
   ]
  },
  {
   "cell_type": "code",
   "execution_count": 67,
   "id": "a03b9f51-e7b8-4ba5-b02f-237e5da822dd",
   "metadata": {},
   "outputs": [
    {
     "name": "stdout",
     "output_type": "stream",
     "text": [
      "[1] 0 0\n",
      "[1] 0 0\n",
      "[1] 0 0\n",
      "[1] 0 0\n",
      "[1] 0 0\n"
     ]
    },
    {
     "ename": "ERROR",
     "evalue": "Error in names(modules) = paste0(\"m_\", sapply(modules, \"[\", 1)): 'names' attribute [1] must be the same length as the vector [0]\n",
     "output_type": "error",
     "traceback": [
      "Error in names(modules) = paste0(\"m_\", sapply(modules, \"[\", 1)): 'names' attribute [1] must be the same length as the vector [0]\nTraceback:\n"
     ]
    }
   ],
   "source": [
    "sub = matrix(0, nrow = length(genes.use), ncol = length(genes.use))\n",
    "  rownames(sub) = genes.use\n",
    "  colnames(sub) = genes.use\n",
    "  for (s in names(modules.list)){\n",
    "    for (mod in modules.list[[s]]){\n",
    "      mod = intersect(mod, genes.use)\n",
    "      for (x in mod){\n",
    "        for (y in mod){\n",
    "          sub[x,y] = sub[x,y] + 1\n",
    "        }\n",
    "      }\n",
    "    }\n",
    "  }\n",
    "  diag(sub) = 0\n",
    "adj_keep = sub\n",
    "# Remove low connections\n",
    "adj = adj_keep\n",
    "adj[] = (adj >= 3)\n",
    "#adj[adj <= 1] = 0\n",
    "for (i in 1:5){\n",
    "  keep = names(which(rowSums(adj) >= 5))\n",
    "  adj = adj[keep,keep]\n",
    "  print(dim(adj))\n",
    "}\n",
    "g = graph_from_adjacency_matrix(adj, diag = FALSE, mode = 'undirected', weighted = TRUE)\n",
    "modules = communities(cluster_infomap(g, nb.trials = 100))\n",
    "names(modules) = paste0('m_', sapply(modules, '[', 1))\n",
    "save(modules,file = \"./modules.Rdata\")"
   ]
  },
  {
   "cell_type": "code",
   "execution_count": 66,
   "id": "380c0ca9-9fd3-419c-9bce-47fd94a12d32",
   "metadata": {},
   "outputs": [
    {
     "name": "stdout",
     "output_type": "stream",
     "text": [
      "[1] 0 0\n",
      "[1] 0 0\n",
      "[1] 0 0\n",
      "[1] 0 0\n",
      "[1] 0 0\n"
     ]
    },
    {
     "ename": "ERROR",
     "evalue": "Error in names(modules) = paste0(\"m_\", sapply(modules, \"[\", 1)): 'names' attribute [1] must be the same length as the vector [0]\n",
     "output_type": "error",
     "traceback": [
      "Error in names(modules) = paste0(\"m_\", sapply(modules, \"[\", 1)): 'names' attribute [1] must be the same length as the vector [0]\nTraceback:\n"
     ]
    }
   ],
   "source": [
    "\n",
    "\n",
    "#差异基因GO功能富集分析\n",
    "library(AnnotationDbi)\n",
    "library(org.Hs.eg.db)\n",
    "library(clusterProfiler)\n",
    "library(dplyr)\n",
    "library(ggplot2)\n",
    "#基因ID转换为ENTREZID\n",
    "for(i in 1:length(modules)){\n",
    "    modules[[i]] <- bitr(modules[[i]], fromType = \"SYMBOL\", toType = \"ENTREZID\", OrgDb = org.Hs.eg.db)\n",
    "    modules[[i]] <- modules[[i]][,2]\n",
    "}\n",
    "#GO富集分析\n",
    "ego_GO <- list()\n",
    "for(i in 1:length(modules)){\n",
    "    ego_GO[[i]] <- enrichGO(gene = modules[[i]],\n",
    "                    OrgDb = org.Hs.eg.db,\n",
    "                    keyType = \"ENTREZID\",\n",
    "                    ont = \"BP\", #CC表示细胞组分，MF表示分子功能，BP表示生物学过程，ALL表示同时富集三种过程\n",
    "                    pAdjustMethod = \"BH\",\n",
    "                    minGSSize = 1,\n",
    "                    pvalueCutoff = 0.01, #通常为0.01或0.05\n",
    "                    qvalueCutoff = 0.05,\n",
    "                    readable = TRUE)\n",
    "    }"
   ]
  },
  {
   "cell_type": "code",
   "execution_count": null,
   "id": "6354621e-7d3e-4992-8109-c884549099ad",
   "metadata": {},
   "outputs": [],
   "source": []
  },
  {
   "cell_type": "code",
   "execution_count": null,
   "id": "ed415844-b442-4a48-b2f9-dbe2d92057fe",
   "metadata": {},
   "outputs": [],
   "source": []
  },
  {
   "cell_type": "code",
   "execution_count": null,
   "id": "3838a358-3a42-4850-93a3-1d267e479663",
   "metadata": {},
   "outputs": [],
   "source": []
  }
 ],
 "metadata": {
  "kernelspec": {
   "display_name": "R",
   "language": "R",
   "name": "ir"
  },
  "language_info": {
   "codemirror_mode": "r",
   "file_extension": ".r",
   "mimetype": "text/x-r-source",
   "name": "R",
   "pygments_lexer": "r",
   "version": "4.2.1"
  }
 },
 "nbformat": 4,
 "nbformat_minor": 5
}
