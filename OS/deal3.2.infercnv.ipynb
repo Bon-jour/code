{
 "cells": [
  {
   "cell_type": "code",
   "execution_count": 3,
   "id": "e10f617c-124a-40fc-bda1-450bdb0ba8b0",
   "metadata": {},
   "outputs": [],
   "source": [
    "setwd('/import/DB/zhang//data')"
   ]
  },
  {
   "cell_type": "code",
   "execution_count": 1,
   "id": "d42cf1fb-7e24-432f-bfe2-2183baf9b088",
   "metadata": {},
   "outputs": [
    {
     "name": "stderr",
     "output_type": "stream",
     "text": [
      "The legacy packages maptools, rgdal, and rgeos, underpinning the sp package,\n",
      "which was just loaded, will retire in October 2023.\n",
      "Please refer to R-spatial evolution reports for details, especially\n",
      "https://r-spatial.org/r/2023/05/15/evolution4.html.\n",
      "It may be desirable to make the sf package available;\n",
      "package maintainers should consider adding sf to Suggests:.\n",
      "The sp package is now running under evolution status 2\n",
      "     (status 2 uses the sf package in place of rgdal)\n",
      "\n"
     ]
    }
   ],
   "source": [
    "library(infercnv)"
   ]
  },
  {
   "cell_type": "code",
   "execution_count": 2,
   "id": "6f1cde96-19d7-44ec-bc62-b125ead19d2d",
   "metadata": {},
   "outputs": [
    {
     "name": "stderr",
     "output_type": "stream",
     "text": [
      "Warning message:\n",
      "\"package 'Seurat' was built under R version 4.2.3\"\n",
      "Attaching SeuratObject\n",
      "\n"
     ]
    }
   ],
   "source": [
    "library(Seurat)"
   ]
  },
  {
   "cell_type": "code",
   "execution_count": 10,
   "id": "8691eef2-3e4e-48f2-8e34-7eab86bb4c2c",
   "metadata": {},
   "outputs": [
    {
     "name": "stderr",
     "output_type": "stream",
     "text": [
      "Warning message in asMethod(object):\n",
      "\"sparse->dense coercion: allocating vector of size 3.3 GiB\"\n"
     ]
    }
   ],
   "source": [
    "sce1 = readRDS('OS.final.rds')\n",
    "epiMat=as.data.frame(GetAssayData( sce1 , slot='counts',assay='RNA'))"
   ]
  },
  {
   "cell_type": "code",
   "execution_count": 6,
   "id": "77a3ba65-ea29-4a17-a5d2-0d6d76f8ed91",
   "metadata": {},
   "outputs": [],
   "source": [
    "Tcell = readRDS('./T.rds')"
   ]
  },
  {
   "cell_type": "code",
   "execution_count": 13,
   "id": "d90ac675-5558-4326-9d75-d7552f003950",
   "metadata": {},
   "outputs": [
    {
     "name": "stderr",
     "output_type": "stream",
     "text": [
      "Warning message in asMethod(object):\n",
      "\"sparse->dense coercion: allocating vector of size 3.8 GiB\"\n"
     ]
    }
   ],
   "source": [
    "T_cellsMat=as.data.frame(GetAssayData( Tcell, slot='counts',assay='RNA'))"
   ]
  },
  {
   "cell_type": "code",
   "execution_count": 16,
   "id": "ce6972b4-6f65-4784-b7d9-3d5218b63970",
   "metadata": {},
   "outputs": [],
   "source": [
    "T_cellsMat=T_cellsMat[,sample(1:ncol(T_cellsMat),3000)]"
   ]
  },
  {
   "cell_type": "code",
   "execution_count": 17,
   "id": "1ee64aa2-407b-4db6-aa4e-a2d6102e44d0",
   "metadata": {},
   "outputs": [
    {
     "data": {
      "text/html": [
       "<table class=\"dataframe\">\n",
       "<caption>A data.frame: 2 x 3000</caption>\n",
       "<thead>\n",
       "\t<tr><th></th><th scope=col>AGGTGTTGTCCTTTGC-2_1</th><th scope=col>ATGATCGCATCGAACT-4_1</th><th scope=col>AATTCCTAGCGGGTAT-2_1</th><th scope=col>GACTCTCTCTCGACCT-1_1</th><th scope=col>ATTACTCAGTAGTGCG-3_1</th><th scope=col>TGTTACTTCGTTAGTG-1_6</th><th scope=col>TGGGATTGTATCCTTT-1_10</th><th scope=col>GCTGGGTTCTTCCACG-1_6</th><th scope=col>AAGTGAAGTGAATGTA-2_1</th><th scope=col>GGTTCTCGTCTGTGAT-4_1</th><th scope=col>...</th><th scope=col>TACTTGTCATTAAAGG-3_1</th><th scope=col>ACTGCAACATTCGGGC-1_6</th><th scope=col>CAGAGCCGTATTCTCT-2_1</th><th scope=col>TCAGTTTGTGCACAAG-2_1</th><th scope=col>CTCCATGAGAGGTTTA-1_3</th><th scope=col>GTTGAACTCGACACCG-2_1</th><th scope=col>CTTCCTTGTGAACCGA-1_1</th><th scope=col>GGAGAACCACTGAGTT-4_1</th><th scope=col>GTTACCCCAAACTAGA-2_1</th><th scope=col>TTTCCTCCAAATAAGC-3_1</th></tr>\n",
       "\t<tr><th></th><th scope=col>&lt;dbl&gt;</th><th scope=col>&lt;dbl&gt;</th><th scope=col>&lt;dbl&gt;</th><th scope=col>&lt;dbl&gt;</th><th scope=col>&lt;dbl&gt;</th><th scope=col>&lt;dbl&gt;</th><th scope=col>&lt;dbl&gt;</th><th scope=col>&lt;dbl&gt;</th><th scope=col>&lt;dbl&gt;</th><th scope=col>&lt;dbl&gt;</th><th scope=col>...</th><th scope=col>&lt;dbl&gt;</th><th scope=col>&lt;dbl&gt;</th><th scope=col>&lt;dbl&gt;</th><th scope=col>&lt;dbl&gt;</th><th scope=col>&lt;dbl&gt;</th><th scope=col>&lt;dbl&gt;</th><th scope=col>&lt;dbl&gt;</th><th scope=col>&lt;dbl&gt;</th><th scope=col>&lt;dbl&gt;</th><th scope=col>&lt;dbl&gt;</th></tr>\n",
       "</thead>\n",
       "<tbody>\n",
       "\t<tr><th scope=row>AL627309.1</th><td>0</td><td>0</td><td>0</td><td>0</td><td>0</td><td>0</td><td>0</td><td>0</td><td>0</td><td>0</td><td>...</td><td>0</td><td>0</td><td>0</td><td>0</td><td>0</td><td>0</td><td>0</td><td>0</td><td>0</td><td>0</td></tr>\n",
       "\t<tr><th scope=row>AL669831.5</th><td>0</td><td>0</td><td>0</td><td>0</td><td>0</td><td>0</td><td>0</td><td>0</td><td>0</td><td>0</td><td>...</td><td>0</td><td>0</td><td>0</td><td>0</td><td>0</td><td>0</td><td>0</td><td>0</td><td>0</td><td>0</td></tr>\n",
       "</tbody>\n",
       "</table>\n"
      ],
      "text/latex": [
       "A data.frame: 2 x 3000\n",
       "\\begin{tabular}{r|lllllllllllllllllllll}\n",
       "  & AGGTGTTGTCCTTTGC-2\\_1 & ATGATCGCATCGAACT-4\\_1 & AATTCCTAGCGGGTAT-2\\_1 & GACTCTCTCTCGACCT-1\\_1 & ATTACTCAGTAGTGCG-3\\_1 & TGTTACTTCGTTAGTG-1\\_6 & TGGGATTGTATCCTTT-1\\_10 & GCTGGGTTCTTCCACG-1\\_6 & AAGTGAAGTGAATGTA-2\\_1 & GGTTCTCGTCTGTGAT-4\\_1 & ... & TACTTGTCATTAAAGG-3\\_1 & ACTGCAACATTCGGGC-1\\_6 & CAGAGCCGTATTCTCT-2\\_1 & TCAGTTTGTGCACAAG-2\\_1 & CTCCATGAGAGGTTTA-1\\_3 & GTTGAACTCGACACCG-2\\_1 & CTTCCTTGTGAACCGA-1\\_1 & GGAGAACCACTGAGTT-4\\_1 & GTTACCCCAAACTAGA-2\\_1 & TTTCCTCCAAATAAGC-3\\_1\\\\\n",
       "  & <dbl> & <dbl> & <dbl> & <dbl> & <dbl> & <dbl> & <dbl> & <dbl> & <dbl> & <dbl> & ... & <dbl> & <dbl> & <dbl> & <dbl> & <dbl> & <dbl> & <dbl> & <dbl> & <dbl> & <dbl>\\\\\n",
       "\\hline\n",
       "\tAL627309.1 & 0 & 0 & 0 & 0 & 0 & 0 & 0 & 0 & 0 & 0 & ... & 0 & 0 & 0 & 0 & 0 & 0 & 0 & 0 & 0 & 0\\\\\n",
       "\tAL669831.5 & 0 & 0 & 0 & 0 & 0 & 0 & 0 & 0 & 0 & 0 & ... & 0 & 0 & 0 & 0 & 0 & 0 & 0 & 0 & 0 & 0\\\\\n",
       "\\end{tabular}\n"
      ],
      "text/markdown": [
       "\n",
       "A data.frame: 2 x 3000\n",
       "\n",
       "| <!--/--> | AGGTGTTGTCCTTTGC-2_1 &lt;dbl&gt; | ATGATCGCATCGAACT-4_1 &lt;dbl&gt; | AATTCCTAGCGGGTAT-2_1 &lt;dbl&gt; | GACTCTCTCTCGACCT-1_1 &lt;dbl&gt; | ATTACTCAGTAGTGCG-3_1 &lt;dbl&gt; | TGTTACTTCGTTAGTG-1_6 &lt;dbl&gt; | TGGGATTGTATCCTTT-1_10 &lt;dbl&gt; | GCTGGGTTCTTCCACG-1_6 &lt;dbl&gt; | AAGTGAAGTGAATGTA-2_1 &lt;dbl&gt; | GGTTCTCGTCTGTGAT-4_1 &lt;dbl&gt; | ... ... | TACTTGTCATTAAAGG-3_1 &lt;dbl&gt; | ACTGCAACATTCGGGC-1_6 &lt;dbl&gt; | CAGAGCCGTATTCTCT-2_1 &lt;dbl&gt; | TCAGTTTGTGCACAAG-2_1 &lt;dbl&gt; | CTCCATGAGAGGTTTA-1_3 &lt;dbl&gt; | GTTGAACTCGACACCG-2_1 &lt;dbl&gt; | CTTCCTTGTGAACCGA-1_1 &lt;dbl&gt; | GGAGAACCACTGAGTT-4_1 &lt;dbl&gt; | GTTACCCCAAACTAGA-2_1 &lt;dbl&gt; | TTTCCTCCAAATAAGC-3_1 &lt;dbl&gt; |\n",
       "|---|---|---|---|---|---|---|---|---|---|---|---|---|---|---|---|---|---|---|---|---|---|\n",
       "| AL627309.1 | 0 | 0 | 0 | 0 | 0 | 0 | 0 | 0 | 0 | 0 | ... | 0 | 0 | 0 | 0 | 0 | 0 | 0 | 0 | 0 | 0 |\n",
       "| AL669831.5 | 0 | 0 | 0 | 0 | 0 | 0 | 0 | 0 | 0 | 0 | ... | 0 | 0 | 0 | 0 | 0 | 0 | 0 | 0 | 0 | 0 |\n",
       "\n"
      ],
      "text/plain": [
       "           AGGTGTTGTCCTTTGC-2_1 ATGATCGCATCGAACT-4_1 AATTCCTAGCGGGTAT-2_1\n",
       "AL627309.1 0                    0                    0                   \n",
       "AL669831.5 0                    0                    0                   \n",
       "           GACTCTCTCTCGACCT-1_1 ATTACTCAGTAGTGCG-3_1 TGTTACTTCGTTAGTG-1_6\n",
       "AL627309.1 0                    0                    0                   \n",
       "AL669831.5 0                    0                    0                   \n",
       "           TGGGATTGTATCCTTT-1_10 GCTGGGTTCTTCCACG-1_6 AAGTGAAGTGAATGTA-2_1\n",
       "AL627309.1 0                     0                    0                   \n",
       "AL669831.5 0                     0                    0                   \n",
       "           GGTTCTCGTCTGTGAT-4_1 ... TACTTGTCATTAAAGG-3_1 ACTGCAACATTCGGGC-1_6\n",
       "AL627309.1 0                    ... 0                    0                   \n",
       "AL669831.5 0                    ... 0                    0                   \n",
       "           CAGAGCCGTATTCTCT-2_1 TCAGTTTGTGCACAAG-2_1 CTCCATGAGAGGTTTA-1_3\n",
       "AL627309.1 0                    0                    0                   \n",
       "AL669831.5 0                    0                    0                   \n",
       "           GTTGAACTCGACACCG-2_1 CTTCCTTGTGAACCGA-1_1 GGAGAACCACTGAGTT-4_1\n",
       "AL627309.1 0                    0                    0                   \n",
       "AL669831.5 0                    0                    0                   \n",
       "           GTTACCCCAAACTAGA-2_1 TTTCCTCCAAATAAGC-3_1\n",
       "AL627309.1 0                    0                   \n",
       "AL669831.5 0                    0                   "
      ]
     },
     "metadata": {},
     "output_type": "display_data"
    }
   ],
   "source": [
    "head(T_cellsMat,2)"
   ]
  },
  {
   "cell_type": "code",
   "execution_count": 19,
   "id": "d308dbe6-f452-4e95-b84d-341b6a88262a",
   "metadata": {},
   "outputs": [],
   "source": [
    "epiMat = epiMat[rownames(T_cellsMat),]"
   ]
  },
  {
   "cell_type": "code",
   "execution_count": 20,
   "id": "f96bab1e-9e12-4848-a523-4da0d5f22516",
   "metadata": {},
   "outputs": [],
   "source": [
    "\n",
    "dat=cbind(epiMat,T_cellsMat)"
   ]
  },
  {
   "cell_type": "code",
   "execution_count": 21,
   "id": "ed5130e0-b32f-489b-9c18-d43226eaf872",
   "metadata": {},
   "outputs": [],
   "source": [
    "\n",
    "\n",
    "groupinfo=data.frame(v1=colnames(dat),\n",
    "                     v2=c(rep('epi',ncol(epiMat)),\n",
    "                          rep('spike-T_cells',1500),\n",
    "                          rep('ref-T_cells',1500)))"
   ]
  },
  {
   "cell_type": "code",
   "execution_count": 22,
   "id": "7e1a0895-4c3a-4551-b6b8-d996ef004602",
   "metadata": {},
   "outputs": [
    {
     "name": "stderr",
     "output_type": "stream",
     "text": [
      "Setting options('download.file.method.GEOquery'='auto')\n",
      "\n",
      "Setting options('GEOquery.inmemory.gpl'=FALSE)\n",
      "\n",
      "AnnoProbe v 0.1.0  welcome to use AnnoProbe!\n",
      "If you use AnnoProbe in published research, please acknowledgements:\n",
      "We thank Dr.Jianming Zeng(University of Macau), and all the members of his bioinformatics team, biotrainee, for generously sharing their experience and codes.\n",
      "\n",
      "Warning message in annoGene(rownames(dat), \"SYMBOL\", \"human\"):\n",
      "\"9.26% of input IDs are fail to annotate... \"\n"
     ]
    },
    {
     "data": {
      "text/html": [
       "<style>\n",
       ".list-inline {list-style: none; margin:0; padding: 0}\n",
       ".list-inline>li {display: inline-block}\n",
       ".list-inline>li:not(:last-child)::after {content: \"\\00b7\"; padding: 0 .5ex}\n",
       "</style>\n",
       "<ol class=list-inline><li>'SYMBOL'</li><li>'biotypes'</li><li>'ENSEMBL'</li><li>'chr'</li><li>'start'</li><li>'end'</li></ol>\n"
      ],
      "text/latex": [
       "\\begin{enumerate*}\n",
       "\\item 'SYMBOL'\n",
       "\\item 'biotypes'\n",
       "\\item 'ENSEMBL'\n",
       "\\item 'chr'\n",
       "\\item 'start'\n",
       "\\item 'end'\n",
       "\\end{enumerate*}\n"
      ],
      "text/markdown": [
       "1. 'SYMBOL'\n",
       "2. 'biotypes'\n",
       "3. 'ENSEMBL'\n",
       "4. 'chr'\n",
       "5. 'start'\n",
       "6. 'end'\n",
       "\n",
       "\n"
      ],
      "text/plain": [
       "[1] \"SYMBOL\"   \"biotypes\" \"ENSEMBL\"  \"chr\"      \"start\"    \"end\"     "
      ]
     },
     "metadata": {},
     "output_type": "display_data"
    },
    {
     "data": {
      "text/html": [
       "18040"
      ],
      "text/latex": [
       "18040"
      ],
      "text/markdown": [
       "18040"
      ],
      "text/plain": [
       "[1] 18040"
      ]
     },
     "metadata": {},
     "output_type": "display_data"
    },
    {
     "data": {
      "text/html": [
       "<table class=\"dataframe\">\n",
       "<caption>A data.frame: 6 x 4</caption>\n",
       "<thead>\n",
       "\t<tr><th></th><th scope=col>SYMBOL</th><th scope=col>chr</th><th scope=col>start</th><th scope=col>end</th></tr>\n",
       "\t<tr><th></th><th scope=col>&lt;chr&gt;</th><th scope=col>&lt;chr&gt;</th><th scope=col>&lt;int&gt;</th><th scope=col>&lt;int&gt;</th></tr>\n",
       "</thead>\n",
       "<tbody>\n",
       "\t<tr><th scope=row>10</th><td>AL627309.1</td><td>chr1</td><td> 89295</td><td>133723</td></tr>\n",
       "\t<tr><th scope=row>48</th><td>LINC01409 </td><td>chr1</td><td>778747</td><td>810065</td></tr>\n",
       "\t<tr><th scope=row>51</th><td>FAM87B    </td><td>chr1</td><td>817371</td><td>819837</td></tr>\n",
       "\t<tr><th scope=row>52</th><td>LINC01128 </td><td>chr1</td><td>825138</td><td>859446</td></tr>\n",
       "\t<tr><th scope=row>53</th><td>LINC00115 </td><td>chr1</td><td>826206</td><td>827522</td></tr>\n",
       "\t<tr><th scope=row>55</th><td>FAM41C    </td><td>chr1</td><td>868071</td><td>876903</td></tr>\n",
       "</tbody>\n",
       "</table>\n"
      ],
      "text/latex": [
       "A data.frame: 6 x 4\n",
       "\\begin{tabular}{r|llll}\n",
       "  & SYMBOL & chr & start & end\\\\\n",
       "  & <chr> & <chr> & <int> & <int>\\\\\n",
       "\\hline\n",
       "\t10 & AL627309.1 & chr1 &  89295 & 133723\\\\\n",
       "\t48 & LINC01409  & chr1 & 778747 & 810065\\\\\n",
       "\t51 & FAM87B     & chr1 & 817371 & 819837\\\\\n",
       "\t52 & LINC01128  & chr1 & 825138 & 859446\\\\\n",
       "\t53 & LINC00115  & chr1 & 826206 & 827522\\\\\n",
       "\t55 & FAM41C     & chr1 & 868071 & 876903\\\\\n",
       "\\end{tabular}\n"
      ],
      "text/markdown": [
       "\n",
       "A data.frame: 6 x 4\n",
       "\n",
       "| <!--/--> | SYMBOL &lt;chr&gt; | chr &lt;chr&gt; | start &lt;int&gt; | end &lt;int&gt; |\n",
       "|---|---|---|---|---|\n",
       "| 10 | AL627309.1 | chr1 |  89295 | 133723 |\n",
       "| 48 | LINC01409  | chr1 | 778747 | 810065 |\n",
       "| 51 | FAM87B     | chr1 | 817371 | 819837 |\n",
       "| 52 | LINC01128  | chr1 | 825138 | 859446 |\n",
       "| 53 | LINC00115  | chr1 | 826206 | 827522 |\n",
       "| 55 | FAM41C     | chr1 | 868071 | 876903 |\n",
       "\n"
      ],
      "text/plain": [
       "   SYMBOL     chr  start  end   \n",
       "10 AL627309.1 chr1  89295 133723\n",
       "48 LINC01409  chr1 778747 810065\n",
       "51 FAM87B     chr1 817371 819837\n",
       "52 LINC01128  chr1 825138 859446\n",
       "53 LINC00115  chr1 826206 827522\n",
       "55 FAM41C     chr1 868071 876903"
      ]
     },
     "metadata": {},
     "output_type": "display_data"
    },
    {
     "data": {
      "text/html": [
       "<style>\n",
       ".list-inline {list-style: none; margin:0; padding: 0}\n",
       ".list-inline>li {display: inline-block}\n",
       ".list-inline>li:not(:last-child)::after {content: \"\\00b7\"; padding: 0 .5ex}\n",
       "</style>\n",
       "<ol class=list-inline><li>18040</li><li>22544</li></ol>\n"
      ],
      "text/latex": [
       "\\begin{enumerate*}\n",
       "\\item 18040\n",
       "\\item 22544\n",
       "\\end{enumerate*}\n"
      ],
      "text/markdown": [
       "1. 18040\n",
       "2. 22544\n",
       "\n",
       "\n"
      ],
      "text/plain": [
       "[1] 18040 22544"
      ]
     },
     "metadata": {},
     "output_type": "display_data"
    },
    {
     "data": {
      "text/html": [
       "<table class=\"dataframe\">\n",
       "<caption>A data.frame: 6 x 2</caption>\n",
       "<thead>\n",
       "\t<tr><th></th><th scope=col>v1</th><th scope=col>v2</th></tr>\n",
       "\t<tr><th></th><th scope=col>&lt;chr&gt;</th><th scope=col>&lt;chr&gt;</th></tr>\n",
       "</thead>\n",
       "<tbody>\n",
       "\t<tr><th scope=row>1</th><td>AAACGCTCAAGCAATA-1_1</td><td>epi</td></tr>\n",
       "\t<tr><th scope=row>2</th><td>AAAGGGCTCCATCAGA-1_1</td><td>epi</td></tr>\n",
       "\t<tr><th scope=row>3</th><td>AAAGTCCCACGGCACT-1_1</td><td>epi</td></tr>\n",
       "\t<tr><th scope=row>4</th><td>AACACACCATGCCGAC-1_1</td><td>epi</td></tr>\n",
       "\t<tr><th scope=row>5</th><td>AACCACAGTCTTTCAT-1_1</td><td>epi</td></tr>\n",
       "\t<tr><th scope=row>6</th><td>AACCCAACAGAAGCGT-1_1</td><td>epi</td></tr>\n",
       "</tbody>\n",
       "</table>\n"
      ],
      "text/latex": [
       "A data.frame: 6 x 2\n",
       "\\begin{tabular}{r|ll}\n",
       "  & v1 & v2\\\\\n",
       "  & <chr> & <chr>\\\\\n",
       "\\hline\n",
       "\t1 & AAACGCTCAAGCAATA-1\\_1 & epi\\\\\n",
       "\t2 & AAAGGGCTCCATCAGA-1\\_1 & epi\\\\\n",
       "\t3 & AAAGTCCCACGGCACT-1\\_1 & epi\\\\\n",
       "\t4 & AACACACCATGCCGAC-1\\_1 & epi\\\\\n",
       "\t5 & AACCACAGTCTTTCAT-1\\_1 & epi\\\\\n",
       "\t6 & AACCCAACAGAAGCGT-1\\_1 & epi\\\\\n",
       "\\end{tabular}\n"
      ],
      "text/markdown": [
       "\n",
       "A data.frame: 6 x 2\n",
       "\n",
       "| <!--/--> | v1 &lt;chr&gt; | v2 &lt;chr&gt; |\n",
       "|---|---|---|\n",
       "| 1 | AAACGCTCAAGCAATA-1_1 | epi |\n",
       "| 2 | AAAGGGCTCCATCAGA-1_1 | epi |\n",
       "| 3 | AAAGTCCCACGGCACT-1_1 | epi |\n",
       "| 4 | AACACACCATGCCGAC-1_1 | epi |\n",
       "| 5 | AACCACAGTCTTTCAT-1_1 | epi |\n",
       "| 6 | AACCCAACAGAAGCGT-1_1 | epi |\n",
       "\n"
      ],
      "text/plain": [
       "  v1                   v2 \n",
       "1 AAACGCTCAAGCAATA-1_1 epi\n",
       "2 AAAGGGCTCCATCAGA-1_1 epi\n",
       "3 AAAGTCCCACGGCACT-1_1 epi\n",
       "4 AACACACCATGCCGAC-1_1 epi\n",
       "5 AACCACAGTCTTTCAT-1_1 epi\n",
       "6 AACCCAACAGAAGCGT-1_1 epi"
      ]
     },
     "metadata": {},
     "output_type": "display_data"
    },
    {
     "data": {
      "text/html": [
       "<table class=\"dataframe\">\n",
       "<caption>A data.frame: 6 x 4</caption>\n",
       "<thead>\n",
       "\t<tr><th></th><th scope=col>SYMBOL</th><th scope=col>chr</th><th scope=col>start</th><th scope=col>end</th></tr>\n",
       "\t<tr><th></th><th scope=col>&lt;chr&gt;</th><th scope=col>&lt;chr&gt;</th><th scope=col>&lt;int&gt;</th><th scope=col>&lt;int&gt;</th></tr>\n",
       "</thead>\n",
       "<tbody>\n",
       "\t<tr><th scope=row>10</th><td>AL627309.1</td><td>chr1</td><td> 89295</td><td>133723</td></tr>\n",
       "\t<tr><th scope=row>48</th><td>LINC01409 </td><td>chr1</td><td>778747</td><td>810065</td></tr>\n",
       "\t<tr><th scope=row>51</th><td>FAM87B    </td><td>chr1</td><td>817371</td><td>819837</td></tr>\n",
       "\t<tr><th scope=row>52</th><td>LINC01128 </td><td>chr1</td><td>825138</td><td>859446</td></tr>\n",
       "\t<tr><th scope=row>53</th><td>LINC00115 </td><td>chr1</td><td>826206</td><td>827522</td></tr>\n",
       "\t<tr><th scope=row>55</th><td>FAM41C    </td><td>chr1</td><td>868071</td><td>876903</td></tr>\n",
       "</tbody>\n",
       "</table>\n"
      ],
      "text/latex": [
       "A data.frame: 6 x 4\n",
       "\\begin{tabular}{r|llll}\n",
       "  & SYMBOL & chr & start & end\\\\\n",
       "  & <chr> & <chr> & <int> & <int>\\\\\n",
       "\\hline\n",
       "\t10 & AL627309.1 & chr1 &  89295 & 133723\\\\\n",
       "\t48 & LINC01409  & chr1 & 778747 & 810065\\\\\n",
       "\t51 & FAM87B     & chr1 & 817371 & 819837\\\\\n",
       "\t52 & LINC01128  & chr1 & 825138 & 859446\\\\\n",
       "\t53 & LINC00115  & chr1 & 826206 & 827522\\\\\n",
       "\t55 & FAM41C     & chr1 & 868071 & 876903\\\\\n",
       "\\end{tabular}\n"
      ],
      "text/markdown": [
       "\n",
       "A data.frame: 6 x 4\n",
       "\n",
       "| <!--/--> | SYMBOL &lt;chr&gt; | chr &lt;chr&gt; | start &lt;int&gt; | end &lt;int&gt; |\n",
       "|---|---|---|---|---|\n",
       "| 10 | AL627309.1 | chr1 |  89295 | 133723 |\n",
       "| 48 | LINC01409  | chr1 | 778747 | 810065 |\n",
       "| 51 | FAM87B     | chr1 | 817371 | 819837 |\n",
       "| 52 | LINC01128  | chr1 | 825138 | 859446 |\n",
       "| 53 | LINC00115  | chr1 | 826206 | 827522 |\n",
       "| 55 | FAM41C     | chr1 | 868071 | 876903 |\n",
       "\n"
      ],
      "text/plain": [
       "   SYMBOL     chr  start  end   \n",
       "10 AL627309.1 chr1  89295 133723\n",
       "48 LINC01409  chr1 778747 810065\n",
       "51 FAM87B     chr1 817371 819837\n",
       "52 LINC01128  chr1 825138 859446\n",
       "53 LINC00115  chr1 826206 827522\n",
       "55 FAM41C     chr1 868071 876903"
      ]
     },
     "metadata": {},
     "output_type": "display_data"
    }
   ],
   "source": [
    "library(AnnoProbe)\n",
    "geneInfor=annoGene(rownames(dat),\"SYMBOL\",'human')\n",
    "colnames(geneInfor)\n",
    "geneInfor=geneInfor[with(geneInfor, order(chr, start)),c(1,4:6)]\n",
    "geneInfor=geneInfor[!duplicated(geneInfor[,1]),]\n",
    "length(unique(geneInfor[,1]))\n",
    "head(geneInfor)\n",
    "## 这里可以去除性染色体\n",
    "# 也可以把染色体排序方式改变\n",
    "dat=dat[rownames(dat) %in% geneInfor[,1],]\n",
    "dat=dat[match( geneInfor[,1], rownames(dat) ),] \n",
    "dim(dat)\n",
    "expFile='expFile.txt'\n",
    "write.table(dat,file = expFile,sep = '\\t',quote = F)\n",
    "groupFiles='groupFiles.txt'\n",
    "head(groupinfo)\n",
    "write.table(groupinfo,file = groupFiles,sep = '\\t',quote = F,col.names = F,row.names = F)\n",
    "head(geneInfor)\n",
    "geneFile='geneFile.txt'\n",
    "write.table(geneInfor,file = geneFile,sep = '\\t',quote = F,col.names = F,row.names = F)"
   ]
  },
  {
   "cell_type": "code",
   "execution_count": 23,
   "id": "20d1fa0e-1ee1-402e-a9c4-7786802943e5",
   "metadata": {},
   "outputs": [
    {
     "name": "stderr",
     "output_type": "stream",
     "text": [
      "\n",
      "Attaching package: 'gplots'\n",
      "\n",
      "\n",
      "The following object is masked from 'package:stats':\n",
      "\n",
      "    lowess\n",
      "\n",
      "\n",
      "Warning message:\n",
      "\"package 'ggplot2' was built under R version 4.2.3\"\n"
     ]
    },
    {
     "name": "stdout",
     "output_type": "stream",
     "text": [
      "INFO [2024-07-27 10:32:58] Parsing matrix: expFile.txt\n",
      "INFO [2024-07-27 10:34:51] Parsing gene order file: geneFile.txt\n",
      "INFO [2024-07-27 10:34:51] Parsing cell annotations file: groupFiles.txt\n",
      "INFO [2024-07-27 10:34:52] ::order_reduce:Start.\n",
      "INFO [2024-07-27 10:34:52] .order_reduce(): expr and order match.\n",
      "INFO [2024-07-27 10:34:53] ::process_data:order_reduce:Reduction from positional data, new dimensions (r,c) = 18040,22544 Total=65474651.8941963 Min=0 Max=8.66706721321292.\n",
      "INFO [2024-07-27 10:34:56] num genes removed taking into account provided gene ordering list: 603 = 3.34257206208426% removed.\n",
      "INFO [2024-07-27 10:34:57] -filtering out cells < 100 or > Inf, removing 0 % of cells\n",
      "WARN [2024-07-27 10:34:58] Please use \"options(scipen = 100)\" before running infercnv if you are using the analysis_mode=\"subclusters\" option or you may encounter an error while the hclust is being generated.\n",
      "INFO [2024-07-27 10:35:10] validating infercnv_obj\n"
     ]
    }
   ],
   "source": [
    "library(Seurat)\n",
    "library(gplots)\n",
    "library(ggplot2)\n",
    "\n",
    "expFile='expFile.txt' \n",
    "groupFiles='groupFiles.txt'  \n",
    "geneFile='geneFile.txt'\n",
    "\n",
    "library(infercnv)\n",
    "infercnv_obj = CreateInfercnvObject(raw_counts_matrix=expFile,\n",
    "                                    annotations_file=groupFiles,\n",
    "                                    delim=\"\\t\",\n",
    "                                    gene_order_file= geneFile,\n",
    "                                    ref_group_names=c('ref-T_cells'))"
   ]
  },
  {
   "cell_type": "code",
   "execution_count": null,
   "id": "cf07a0d3-e8e7-493b-a97b-1e566ae3d12c",
   "metadata": {},
   "outputs": [],
   "source": [
    "infercnv_obj2 = infercnv::run(infercnv_obj,\n",
    "                              cutoff=0.1, # cutoff=1 works well for Smart-seq2, and cutoff=0.1 works well for 10x Genomics\n",
    "                              out_dir= \"infercnv_output\",  # dir is auto-created for storing outputs\n",
    "                              cluster_by_groups=F,   # cluster\n",
    "                              analysis_mode = \"samples\",\n",
    "                              hclust_method=\"ward.D2\", plot_steps=F)"
   ]
  },
  {
   "cell_type": "code",
   "execution_count": 33,
   "id": "0a420652-119a-417e-81c0-c777e73901f4",
   "metadata": {},
   "outputs": [
    {
     "data": {
      "text/plain": [
       "[1] '1.14.2'"
      ]
     },
     "metadata": {},
     "output_type": "display_data"
    }
   ],
   "source": [
    "packageVersion('infercnv')"
   ]
  },
  {
   "cell_type": "code",
   "execution_count": null,
   "id": "405cb128-8283-4697-af4d-58ff7b996de5",
   "metadata": {},
   "outputs": [],
   "source": []
  }
 ],
 "metadata": {
  "kernelspec": {
   "display_name": "R",
   "language": "R",
   "name": "ir"
  },
  "language_info": {
   "codemirror_mode": "r",
   "file_extension": ".r",
   "mimetype": "text/x-r-source",
   "name": "R",
   "pygments_lexer": "r",
   "version": "4.2.1"
  }
 },
 "nbformat": 4,
 "nbformat_minor": 5
}
