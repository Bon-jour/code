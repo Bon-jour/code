{
 "cells": [
  {
   "cell_type": "code",
   "execution_count": 62,
   "id": "4f94531f-de1e-430b-afb6-79d6f57aadab",
   "metadata": {},
   "outputs": [
    {
     "name": "stderr",
     "output_type": "stream",
     "text": [
      "Warning message in read.table(\"./gene.txt\", header = F):\n",
      "\"incomplete final line found by readTableHeader on './gene.txt'\"\n"
     ]
    }
   ],
   "source": [
    "setwd('/import/cistarget/')\n",
    "\n",
    "genelist = read.table('./gene.txt',header =F)\n",
    "\n",
    "library(RcisTarget)"
   ]
  },
  {
   "cell_type": "code",
   "execution_count": 63,
   "id": "ead80b2f-04ab-4a28-a120-4a4e5f1fa920",
   "metadata": {},
   "outputs": [
    {
     "name": "stderr",
     "output_type": "stream",
     "text": [
      "Using the column 'features' as feature index for the ranking database.\n",
      "\n"
     ]
    }
   ],
   "source": [
    "motifRankings <- importRankings(\"/import/DB/cistarget/hg19-tss-centered-10kb-7species.mc9nr.feather\")"
   ]
  },
  {
   "cell_type": "code",
   "execution_count": 64,
   "id": "a59c3efa-e324-4c5b-bc6f-042394448ec4",
   "metadata": {},
   "outputs": [],
   "source": [
    "data(motifAnnotations_hgnc)"
   ]
  },
  {
   "cell_type": "code",
   "execution_count": null,
   "id": "59b9e897-5feb-40e8-83de-048912d14167",
   "metadata": {},
   "outputs": [],
   "source": []
  },
  {
   "cell_type": "code",
   "execution_count": 65,
   "id": "941de192-9e22-4e15-9fef-84e69f4557cd",
   "metadata": {},
   "outputs": [],
   "source": [
    "gene = intersect(genelist$V1, colnames(motifRankings))"
   ]
  },
  {
   "cell_type": "code",
   "execution_count": 66,
   "id": "cb15969c-b645-4f49-bfb4-0b55822f4618",
   "metadata": {},
   "outputs": [
    {
     "data": {
      "text/html": [
       "'RELA'"
      ],
      "text/latex": [
       "'RELA'"
      ],
      "text/markdown": [
       "'RELA'"
      ],
      "text/plain": [
       "[1] \"RELA\""
      ]
     },
     "metadata": {},
     "output_type": "display_data"
    }
   ],
   "source": [
    "gene"
   ]
  },
  {
   "cell_type": "code",
   "execution_count": null,
   "id": "66478795-0b6d-4a02-823e-650c71d20b6d",
   "metadata": {},
   "outputs": [],
   "source": []
  },
  {
   "cell_type": "code",
   "execution_count": null,
   "id": "5e76b4d4-599a-45b6-b139-6942e1142fae",
   "metadata": {},
   "outputs": [],
   "source": []
  },
  {
   "cell_type": "code",
   "execution_count": null,
   "id": "bc23a326-3155-42b7-a26c-35963a57a6bd",
   "metadata": {},
   "outputs": [],
   "source": []
  },
  {
   "cell_type": "code",
   "execution_count": null,
   "id": "2b2bc956-1de5-40c1-89e6-3b7f6d77b5c4",
   "metadata": {},
   "outputs": [],
   "source": [
    "\n",
    "\n",
    "\n",
    "\n",
    "\n",
    "\n",
    "\n",
    "\n",
    "geneLists <- list(geneset=gene) \n",
    "geneLists\n",
    "\n",
    "motifEnrichmentTable_wGenes  = motifEnrichmentTable_wGenes <- cisTarget(geneLists, \n",
    "         motifRankings,\n",
    "         motifAnnot=motifAnnotations_mgi)\n",
    "\n",
    "write.csv(motifEnrichmentTable_wGenes,file = 'result.csv')\n",
    "\n",
    "### plot\n",
    "\n",
    "resules = read.csv('./dada1.csv')\n",
    "\n",
    "head(resules)\n",
    "\n",
    "library(RColorBrewer)\n",
    "library(wesanderson)\n",
    "library(ggplot2)\n",
    "\n",
    "\n",
    "ggplot(resules)+\n",
    "geom_point(aes(x=nEnrGenes ,y=TF_highConf,colour=NES,size=nEnrGenes))+\n",
    "scale_colour_gradientn(colors=wes_palette(\"Zissou1\",80,type=\"continuous\")) + theme_bw()\n",
    "\n",
    "ggsave('./tf.pdf')"
   ]
  },
  {
   "cell_type": "code",
   "execution_count": null,
   "id": "8198197f-452a-4e31-98f9-3bd6c16be2e6",
   "metadata": {},
   "outputs": [],
   "source": []
  }
 ],
 "metadata": {
  "kernelspec": {
   "display_name": "R",
   "language": "R",
   "name": "ir"
  },
  "language_info": {
   "codemirror_mode": "r",
   "file_extension": ".r",
   "mimetype": "text/x-r-source",
   "name": "R",
   "pygments_lexer": "r",
   "version": "4.2.1"
  }
 },
 "nbformat": 4,
 "nbformat_minor": 5
}
