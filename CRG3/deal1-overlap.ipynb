{
 "cells": [
  {
   "cell_type": "code",
   "execution_count": 2,
   "id": "a9da1b8c-1649-4a0d-8fb6-c4893939ac78",
   "metadata": {},
   "outputs": [],
   "source": [
    "setwd('/import/DB/fel/BJTC-204')"
   ]
  },
  {
   "cell_type": "code",
   "execution_count": 3,
   "id": "4e77df23-5a1a-4acc-bebe-30ef80e41f33",
   "metadata": {},
   "outputs": [],
   "source": [
    "bulk1 = read.csv('./bulk1.diffgene.23MDD.24.control.csv',row.names =1)"
   ]
  },
  {
   "cell_type": "code",
   "execution_count": 4,
   "id": "dae2b2ee-7939-4b9d-947b-e5b25ecfb9d0",
   "metadata": {},
   "outputs": [],
   "source": [
    "library(dplyr)"
   ]
  },
  {
   "cell_type": "code",
   "execution_count": 5,
   "id": "015171ae-dfe9-4948-833c-990214f4f2f6",
   "metadata": {},
   "outputs": [],
   "source": [
    "bulk1.gene = bulk1 %>%  dplyr::filter(group != 'NoSignifi') %>%  rownames()"
   ]
  },
  {
   "cell_type": "code",
   "execution_count": 6,
   "id": "7b376d3d-3588-4fc3-8747-41dafb6e1ee9",
   "metadata": {},
   "outputs": [
    {
     "data": {
      "text/html": [
       "<table class=\"dataframe\">\n",
       "<caption>A data.frame: 6 x 7</caption>\n",
       "<thead>\n",
       "\t<tr><th></th><th scope=col>logFC</th><th scope=col>AveExpr</th><th scope=col>t</th><th scope=col>P.Value</th><th scope=col>adj.P.Val</th><th scope=col>B</th><th scope=col>group</th></tr>\n",
       "\t<tr><th></th><th scope=col>&lt;dbl&gt;</th><th scope=col>&lt;dbl&gt;</th><th scope=col>&lt;dbl&gt;</th><th scope=col>&lt;dbl&gt;</th><th scope=col>&lt;dbl&gt;</th><th scope=col>&lt;dbl&gt;</th><th scope=col>&lt;chr&gt;</th></tr>\n",
       "</thead>\n",
       "<tbody>\n",
       "\t<tr><th scope=row>RBBP8</th><td>0.7500985</td><td>3.3263020</td><td>6.973391</td><td>7.655070e-09</td><td>0.0001270007</td><td>9.899135</td><td>Up</td></tr>\n",
       "\t<tr><th scope=row>SCLT1</th><td>0.7776971</td><td>3.0392077</td><td>6.865124</td><td>1.124298e-08</td><td>0.0001270007</td><td>9.493651</td><td>Up</td></tr>\n",
       "\t<tr><th scope=row>RPSAP6</th><td>0.8822012</td><td>0.6262491</td><td>6.644142</td><td>2.464600e-08</td><td>0.0001856008</td><td>7.968339</td><td>Up</td></tr>\n",
       "\t<tr><th scope=row>CCDC7</th><td>0.7738101</td><td>1.4588878</td><td>6.364014</td><td>6.663009e-08</td><td>0.0003763268</td><td>7.458734</td><td>Up</td></tr>\n",
       "\t<tr><th scope=row>SMC6</th><td>0.4492292</td><td>3.7081592</td><td>6.169974</td><td>1.325478e-07</td><td>0.0005989042</td><td>7.343155</td><td>Up</td></tr>\n",
       "\t<tr><th scope=row>SDCCAG8</th><td>0.5137301</td><td>5.2488836</td><td>5.933491</td><td>3.057910e-07</td><td>0.0008218300</td><td>6.619383</td><td>Up</td></tr>\n",
       "</tbody>\n",
       "</table>\n"
      ],
      "text/latex": [
       "A data.frame: 6 x 7\n",
       "\\begin{tabular}{r|lllllll}\n",
       "  & logFC & AveExpr & t & P.Value & adj.P.Val & B & group\\\\\n",
       "  & <dbl> & <dbl> & <dbl> & <dbl> & <dbl> & <dbl> & <chr>\\\\\n",
       "\\hline\n",
       "\tRBBP8 & 0.7500985 & 3.3263020 & 6.973391 & 7.655070e-09 & 0.0001270007 & 9.899135 & Up\\\\\n",
       "\tSCLT1 & 0.7776971 & 3.0392077 & 6.865124 & 1.124298e-08 & 0.0001270007 & 9.493651 & Up\\\\\n",
       "\tRPSAP6 & 0.8822012 & 0.6262491 & 6.644142 & 2.464600e-08 & 0.0001856008 & 7.968339 & Up\\\\\n",
       "\tCCDC7 & 0.7738101 & 1.4588878 & 6.364014 & 6.663009e-08 & 0.0003763268 & 7.458734 & Up\\\\\n",
       "\tSMC6 & 0.4492292 & 3.7081592 & 6.169974 & 1.325478e-07 & 0.0005989042 & 7.343155 & Up\\\\\n",
       "\tSDCCAG8 & 0.5137301 & 5.2488836 & 5.933491 & 3.057910e-07 & 0.0008218300 & 6.619383 & Up\\\\\n",
       "\\end{tabular}\n"
      ],
      "text/markdown": [
       "\n",
       "A data.frame: 6 x 7\n",
       "\n",
       "| <!--/--> | logFC &lt;dbl&gt; | AveExpr &lt;dbl&gt; | t &lt;dbl&gt; | P.Value &lt;dbl&gt; | adj.P.Val &lt;dbl&gt; | B &lt;dbl&gt; | group &lt;chr&gt; |\n",
       "|---|---|---|---|---|---|---|---|\n",
       "| RBBP8 | 0.7500985 | 3.3263020 | 6.973391 | 7.655070e-09 | 0.0001270007 | 9.899135 | Up |\n",
       "| SCLT1 | 0.7776971 | 3.0392077 | 6.865124 | 1.124298e-08 | 0.0001270007 | 9.493651 | Up |\n",
       "| RPSAP6 | 0.8822012 | 0.6262491 | 6.644142 | 2.464600e-08 | 0.0001856008 | 7.968339 | Up |\n",
       "| CCDC7 | 0.7738101 | 1.4588878 | 6.364014 | 6.663009e-08 | 0.0003763268 | 7.458734 | Up |\n",
       "| SMC6 | 0.4492292 | 3.7081592 | 6.169974 | 1.325478e-07 | 0.0005989042 | 7.343155 | Up |\n",
       "| SDCCAG8 | 0.5137301 | 5.2488836 | 5.933491 | 3.057910e-07 | 0.0008218300 | 6.619383 | Up |\n",
       "\n"
      ],
      "text/plain": [
       "        logFC     AveExpr   t        P.Value      adj.P.Val    B        group\n",
       "RBBP8   0.7500985 3.3263020 6.973391 7.655070e-09 0.0001270007 9.899135 Up   \n",
       "SCLT1   0.7776971 3.0392077 6.865124 1.124298e-08 0.0001270007 9.493651 Up   \n",
       "RPSAP6  0.8822012 0.6262491 6.644142 2.464600e-08 0.0001856008 7.968339 Up   \n",
       "CCDC7   0.7738101 1.4588878 6.364014 6.663009e-08 0.0003763268 7.458734 Up   \n",
       "SMC6    0.4492292 3.7081592 6.169974 1.325478e-07 0.0005989042 7.343155 Up   \n",
       "SDCCAG8 0.5137301 5.2488836 5.933491 3.057910e-07 0.0008218300 6.619383 Up   "
      ]
     },
     "metadata": {},
     "output_type": "display_data"
    }
   ],
   "source": [
    "head(bulk1)"
   ]
  },
  {
   "cell_type": "code",
   "execution_count": 7,
   "id": "bd01d28b-1f08-47c0-ad19-82cc20e9340d",
   "metadata": {},
   "outputs": [],
   "source": [
    "bulk2 = read.csv('./bulk2.diffgene.30mdd.29con.csv',row.names =1)"
   ]
  },
  {
   "cell_type": "code",
   "execution_count": 8,
   "id": "40d6c459-8ef2-4452-869d-175918851867",
   "metadata": {},
   "outputs": [],
   "source": [
    "bulk2.gene = bulk2 %>%  dplyr::filter(group != 'NoSignifi') %>%  rownames()"
   ]
  },
  {
   "cell_type": "code",
   "execution_count": 9,
   "id": "dbe756c5-aa8c-4412-a757-f0c6a84c9693",
   "metadata": {},
   "outputs": [],
   "source": [
    "matrix3 = read.csv('./matrix3.diffgene.76mdd.175control.csv',row.names =2)"
   ]
  },
  {
   "cell_type": "code",
   "execution_count": 10,
   "id": "e905847a-e92b-4714-85db-0e933d3f8f78",
   "metadata": {},
   "outputs": [],
   "source": [
    "matrix3.gene = matrix3 %>%  dplyr::filter(change != 'NoSignifi') %>%  rownames()"
   ]
  },
  {
   "cell_type": "code",
   "execution_count": null,
   "id": "860b90b3-83c9-49c4-b907-c4a9f53cbfc1",
   "metadata": {},
   "outputs": [],
   "source": []
  },
  {
   "cell_type": "code",
   "execution_count": 11,
   "id": "ce28300b-b3f1-4dab-975f-d4a4be58b70c",
   "metadata": {},
   "outputs": [],
   "source": [
    "file123 = data.frame(gene = intersect(intersect(bulk1.gene,bulk2.gene),matrix3.gene))"
   ]
  },
  {
   "cell_type": "code",
   "execution_count": 12,
   "id": "fda16dc6-3edf-4c98-ba8f-087f7304a2b9",
   "metadata": {},
   "outputs": [],
   "source": [
    "file13 = data.frame(gene = intersect(matrix3.gene,bulk1.gene))"
   ]
  },
  {
   "cell_type": "code",
   "execution_count": 13,
   "id": "24c7ba31-7b2c-4b70-8888-0a740878e14c",
   "metadata": {},
   "outputs": [],
   "source": [
    "file23 = data.frame(gene = intersect(matrix3.gene,bulk2.gene))"
   ]
  },
  {
   "cell_type": "code",
   "execution_count": 14,
   "id": "e6543a16-ebba-41f6-be57-5e95d0425f17",
   "metadata": {},
   "outputs": [],
   "source": [
    "file12 = data.frame(gene = intersect(bulk1.gene,bulk2.gene))"
   ]
  },
  {
   "cell_type": "code",
   "execution_count": 42,
   "id": "22b63360-6294-4560-b2ea-5894adceca69",
   "metadata": {},
   "outputs": [],
   "source": [
    "write.csv(file123,file = 'file123.csv',row.names =F)"
   ]
  },
  {
   "cell_type": "code",
   "execution_count": 43,
   "id": "5864d98d-2c02-4b2a-936b-ff0ed5140ea0",
   "metadata": {},
   "outputs": [],
   "source": [
    "write.csv(file13,file = 'file13.csv',row.names =F)\n",
    "write.csv(file23,file = 'file23.csv',row.names =F)\n",
    "write.csv(file12,file = 'file12.csv',row.names =F)"
   ]
  }
 ],
 "metadata": {
  "kernelspec": {
   "display_name": "R",
   "language": "R",
   "name": "ir"
  },
  "language_info": {
   "codemirror_mode": "r",
   "file_extension": ".r",
   "mimetype": "text/x-r-source",
   "name": "R",
   "pygments_lexer": "r",
   "version": "4.2.1"
  }
 },
 "nbformat": 4,
 "nbformat_minor": 5
}
