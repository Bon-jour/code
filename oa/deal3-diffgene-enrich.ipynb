{
 "cells": [
  {
   "cell_type": "code",
   "execution_count": 1,
   "id": "2991db7e-a950-4198-9d96-106f9e28ef54",
   "metadata": {},
   "outputs": [],
   "source": [
    "setwd('/import/oa/rawdata//scrna')"
   ]
  },
  {
   "cell_type": "code",
   "execution_count": 2,
   "id": "ee06866a-7a54-4c13-890a-4ab1ed7aff25",
   "metadata": {},
   "outputs": [
    {
     "name": "stderr",
     "output_type": "stream",
     "text": [
      "The legacy packages maptools, rgdal, and rgeos, underpinning the sp package,\n",
      "which was just loaded, will retire in October 2023.\n",
      "Please refer to R-spatial evolution reports for details, especially\n",
      "https://r-spatial.org/r/2023/05/15/evolution4.html.\n",
      "It may be desirable to make the sf package available;\n",
      "package maintainers should consider adding sf to Suggests:.\n",
      "The sp package is now running under evolution status 2\n",
      "     (status 2 uses the sf package in place of rgdal)\n",
      "\n"
     ]
    }
   ],
   "source": [
    "scRNA = readRDS('./scRNA.anno.rds')"
   ]
  },
  {
   "cell_type": "code",
   "execution_count": null,
   "id": "d403b028-ffea-4f29-9491-5db854f6ce31",
   "metadata": {},
   "outputs": [],
   "source": []
  }
 ],
 "metadata": {
  "kernelspec": {
   "display_name": "R",
   "language": "R",
   "name": "ir"
  },
  "language_info": {
   "codemirror_mode": "r",
   "file_extension": ".r",
   "mimetype": "text/x-r-source",
   "name": "R",
   "pygments_lexer": "r",
   "version": "4.2.1"
  }
 },
 "nbformat": 4,
 "nbformat_minor": 5
}
