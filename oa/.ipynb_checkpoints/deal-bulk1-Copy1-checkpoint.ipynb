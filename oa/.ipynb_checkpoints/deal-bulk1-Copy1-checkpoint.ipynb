{
 "cells": [
  {
   "cell_type": "code",
   "execution_count": 1,
   "id": "0d4ef7a6-1a44-4436-aa6a-e6347e61e413",
   "metadata": {},
   "outputs": [],
   "source": [
    "setwd('/import/oa/')"
   ]
  },
  {
   "cell_type": "code",
   "execution_count": 79,
   "id": "59125588-e089-4a18-983c-19d87b2925e6",
   "metadata": {},
   "outputs": [],
   "source": [
    "library(rtracklayer)\n",
    "gtf <- rtracklayer::import('/import/reference//mmu_c57bl//Mus_musculus_c57bl6nj.C57BL_6NJ_v1.112.gtf')\n",
    "gtf<-as.data.frame(gtf)"
   ]
  },
  {
   "cell_type": "code",
   "execution_count": 80,
   "id": "83d27d82-9a5b-4b21-aa3d-bc8a28792c6a",
   "metadata": {},
   "outputs": [
    {
     "data": {
      "text/html": [
       "<table class=\"dataframe\">\n",
       "<caption>A data.frame: 2 x 26</caption>\n",
       "<thead>\n",
       "\t<tr><th></th><th scope=col>seqnames</th><th scope=col>start</th><th scope=col>end</th><th scope=col>width</th><th scope=col>strand</th><th scope=col>source</th><th scope=col>type</th><th scope=col>score</th><th scope=col>phase</th><th scope=col>gene_id</th><th scope=col>...</th><th scope=col>transcript_version</th><th scope=col>transcript_source</th><th scope=col>transcript_biotype</th><th scope=col>tag</th><th scope=col>projection_parent_transcript</th><th scope=col>exon_number</th><th scope=col>exon_id</th><th scope=col>exon_version</th><th scope=col>ccds_id</th><th scope=col>protein_id</th></tr>\n",
       "\t<tr><th></th><th scope=col>&lt;fct&gt;</th><th scope=col>&lt;int&gt;</th><th scope=col>&lt;int&gt;</th><th scope=col>&lt;int&gt;</th><th scope=col>&lt;fct&gt;</th><th scope=col>&lt;fct&gt;</th><th scope=col>&lt;fct&gt;</th><th scope=col>&lt;dbl&gt;</th><th scope=col>&lt;int&gt;</th><th scope=col>&lt;chr&gt;</th><th scope=col>...</th><th scope=col>&lt;chr&gt;</th><th scope=col>&lt;chr&gt;</th><th scope=col>&lt;chr&gt;</th><th scope=col>&lt;chr&gt;</th><th scope=col>&lt;chr&gt;</th><th scope=col>&lt;chr&gt;</th><th scope=col>&lt;chr&gt;</th><th scope=col>&lt;chr&gt;</th><th scope=col>&lt;chr&gt;</th><th scope=col>&lt;chr&gt;</th></tr>\n",
       "</thead>\n",
       "<tbody>\n",
       "\t<tr><th scope=row>1</th><td>1</td><td>42965179</td><td>42992623</td><td>27445</td><td>-</td><td>mouse_genomes_project</td><td>gene      </td><td>NA</td><td>NA</td><td>MGP_C57BL6NJ_G0004928</td><td>...</td><td>NA</td><td>NA                   </td><td>NA     </td><td>NA               </td><td>NA                  </td><td>NA</td><td>NA</td><td>NA</td><td>NA</td><td>NA</td></tr>\n",
       "\t<tr><th scope=row>2</th><td>1</td><td>42965179</td><td>42992623</td><td>27445</td><td>-</td><td>mouse_genomes_project</td><td>transcript</td><td>NA</td><td>NA</td><td>MGP_C57BL6NJ_G0004928</td><td>...</td><td>1 </td><td>mouse_genomes_project</td><td>lincRNA</td><td>Ensembl_canonical</td><td>ENSMUST00000190148.1</td><td>NA</td><td>NA</td><td>NA</td><td>NA</td><td>NA</td></tr>\n",
       "</tbody>\n",
       "</table>\n"
      ],
      "text/latex": [
       "A data.frame: 2 x 26\n",
       "\\begin{tabular}{r|lllllllllllllllllllll}\n",
       "  & seqnames & start & end & width & strand & source & type & score & phase & gene\\_id & ... & transcript\\_version & transcript\\_source & transcript\\_biotype & tag & projection\\_parent\\_transcript & exon\\_number & exon\\_id & exon\\_version & ccds\\_id & protein\\_id\\\\\n",
       "  & <fct> & <int> & <int> & <int> & <fct> & <fct> & <fct> & <dbl> & <int> & <chr> & ... & <chr> & <chr> & <chr> & <chr> & <chr> & <chr> & <chr> & <chr> & <chr> & <chr>\\\\\n",
       "\\hline\n",
       "\t1 & 1 & 42965179 & 42992623 & 27445 & - & mouse\\_genomes\\_project & gene       & NA & NA & MGP\\_C57BL6NJ\\_G0004928 & ... & NA & NA                    & NA      & NA                & NA                   & NA & NA & NA & NA & NA\\\\\n",
       "\t2 & 1 & 42965179 & 42992623 & 27445 & - & mouse\\_genomes\\_project & transcript & NA & NA & MGP\\_C57BL6NJ\\_G0004928 & ... & 1  & mouse\\_genomes\\_project & lincRNA & Ensembl\\_canonical & ENSMUST00000190148.1 & NA & NA & NA & NA & NA\\\\\n",
       "\\end{tabular}\n"
      ],
      "text/markdown": [
       "\n",
       "A data.frame: 2 x 26\n",
       "\n",
       "| <!--/--> | seqnames &lt;fct&gt; | start &lt;int&gt; | end &lt;int&gt; | width &lt;int&gt; | strand &lt;fct&gt; | source &lt;fct&gt; | type &lt;fct&gt; | score &lt;dbl&gt; | phase &lt;int&gt; | gene_id &lt;chr&gt; | ... ... | transcript_version &lt;chr&gt; | transcript_source &lt;chr&gt; | transcript_biotype &lt;chr&gt; | tag &lt;chr&gt; | projection_parent_transcript &lt;chr&gt; | exon_number &lt;chr&gt; | exon_id &lt;chr&gt; | exon_version &lt;chr&gt; | ccds_id &lt;chr&gt; | protein_id &lt;chr&gt; |\n",
       "|---|---|---|---|---|---|---|---|---|---|---|---|---|---|---|---|---|---|---|---|---|---|\n",
       "| 1 | 1 | 42965179 | 42992623 | 27445 | - | mouse_genomes_project | gene       | NA | NA | MGP_C57BL6NJ_G0004928 | ... | NA | NA                    | NA      | NA                | NA                   | NA | NA | NA | NA | NA |\n",
       "| 2 | 1 | 42965179 | 42992623 | 27445 | - | mouse_genomes_project | transcript | NA | NA | MGP_C57BL6NJ_G0004928 | ... | 1  | mouse_genomes_project | lincRNA | Ensembl_canonical | ENSMUST00000190148.1 | NA | NA | NA | NA | NA |\n",
       "\n"
      ],
      "text/plain": [
       "  seqnames start    end      width strand source                type      \n",
       "1 1        42965179 42992623 27445 -      mouse_genomes_project gene      \n",
       "2 1        42965179 42992623 27445 -      mouse_genomes_project transcript\n",
       "  score phase gene_id               ... transcript_version\n",
       "1 NA    NA    MGP_C57BL6NJ_G0004928 ... NA                \n",
       "2 NA    NA    MGP_C57BL6NJ_G0004928 ... 1                 \n",
       "  transcript_source     transcript_biotype tag              \n",
       "1 NA                    NA                 NA               \n",
       "2 mouse_genomes_project lincRNA            Ensembl_canonical\n",
       "  projection_parent_transcript exon_number exon_id exon_version ccds_id\n",
       "1 NA                           NA          NA      NA           NA     \n",
       "2 ENSMUST00000190148.1         NA          NA      NA           NA     \n",
       "  protein_id\n",
       "1 NA        \n",
       "2 NA        "
      ]
     },
     "metadata": {},
     "output_type": "display_data"
    }
   ],
   "source": [
    "head(gtf,2)"
   ]
  },
  {
   "cell_type": "code",
   "execution_count": 81,
   "id": "3ba7ef31-237c-4d5e-979e-6d01e4e6f4b8",
   "metadata": {},
   "outputs": [
    {
     "data": {
      "text/html": [
       "<style>\n",
       ".list-inline {list-style: none; margin:0; padding: 0}\n",
       ".list-inline>li {display: inline-block}\n",
       ".list-inline>li:not(:last-child)::after {content: \"\\00b7\"; padding: 0 .5ex}\n",
       "</style>\n",
       "<ol class=list-inline><li>'seqnames'</li><li>'start'</li><li>'end'</li><li>'width'</li><li>'strand'</li><li>'source'</li><li>'type'</li><li>'score'</li><li>'phase'</li><li>'gene_id'</li><li>'gene_version'</li><li>'gene_name'</li><li>'gene_source'</li><li>'gene_biotype'</li><li>'projection_parent_gene'</li><li>'transcript_id'</li><li>'transcript_version'</li><li>'transcript_source'</li><li>'transcript_biotype'</li><li>'tag'</li><li>'projection_parent_transcript'</li><li>'exon_number'</li><li>'exon_id'</li><li>'exon_version'</li><li>'ccds_id'</li><li>'protein_id'</li></ol>\n"
      ],
      "text/latex": [
       "\\begin{enumerate*}\n",
       "\\item 'seqnames'\n",
       "\\item 'start'\n",
       "\\item 'end'\n",
       "\\item 'width'\n",
       "\\item 'strand'\n",
       "\\item 'source'\n",
       "\\item 'type'\n",
       "\\item 'score'\n",
       "\\item 'phase'\n",
       "\\item 'gene\\_id'\n",
       "\\item 'gene\\_version'\n",
       "\\item 'gene\\_name'\n",
       "\\item 'gene\\_source'\n",
       "\\item 'gene\\_biotype'\n",
       "\\item 'projection\\_parent\\_gene'\n",
       "\\item 'transcript\\_id'\n",
       "\\item 'transcript\\_version'\n",
       "\\item 'transcript\\_source'\n",
       "\\item 'transcript\\_biotype'\n",
       "\\item 'tag'\n",
       "\\item 'projection\\_parent\\_transcript'\n",
       "\\item 'exon\\_number'\n",
       "\\item 'exon\\_id'\n",
       "\\item 'exon\\_version'\n",
       "\\item 'ccds\\_id'\n",
       "\\item 'protein\\_id'\n",
       "\\end{enumerate*}\n"
      ],
      "text/markdown": [
       "1. 'seqnames'\n",
       "2. 'start'\n",
       "3. 'end'\n",
       "4. 'width'\n",
       "5. 'strand'\n",
       "6. 'source'\n",
       "7. 'type'\n",
       "8. 'score'\n",
       "9. 'phase'\n",
       "10. 'gene_id'\n",
       "11. 'gene_version'\n",
       "12. 'gene_name'\n",
       "13. 'gene_source'\n",
       "14. 'gene_biotype'\n",
       "15. 'projection_parent_gene'\n",
       "16. 'transcript_id'\n",
       "17. 'transcript_version'\n",
       "18. 'transcript_source'\n",
       "19. 'transcript_biotype'\n",
       "20. 'tag'\n",
       "21. 'projection_parent_transcript'\n",
       "22. 'exon_number'\n",
       "23. 'exon_id'\n",
       "24. 'exon_version'\n",
       "25. 'ccds_id'\n",
       "26. 'protein_id'\n",
       "\n",
       "\n"
      ],
      "text/plain": [
       " [1] \"seqnames\"                     \"start\"                       \n",
       " [3] \"end\"                          \"width\"                       \n",
       " [5] \"strand\"                       \"source\"                      \n",
       " [7] \"type\"                         \"score\"                       \n",
       " [9] \"phase\"                        \"gene_id\"                     \n",
       "[11] \"gene_version\"                 \"gene_name\"                   \n",
       "[13] \"gene_source\"                  \"gene_biotype\"                \n",
       "[15] \"projection_parent_gene\"       \"transcript_id\"               \n",
       "[17] \"transcript_version\"           \"transcript_source\"           \n",
       "[19] \"transcript_biotype\"           \"tag\"                         \n",
       "[21] \"projection_parent_transcript\" \"exon_number\"                 \n",
       "[23] \"exon_id\"                      \"exon_version\"                \n",
       "[25] \"ccds_id\"                      \"protein_id\"                  "
      ]
     },
     "metadata": {},
     "output_type": "display_data"
    }
   ],
   "source": [
    "colnames(gtf)"
   ]
  },
  {
   "cell_type": "code",
   "execution_count": 82,
   "id": "3ab77939-d0e2-4474-9069-2d8dfd56c56e",
   "metadata": {},
   "outputs": [
    {
     "data": {
      "text/html": [
       "30359"
      ],
      "text/latex": [
       "30359"
      ],
      "text/markdown": [
       "30359"
      ],
      "text/plain": [
       "[1] 30359"
      ]
     },
     "metadata": {},
     "output_type": "display_data"
    }
   ],
   "source": [
    "length(unique(gtf$gene_name))"
   ]
  },
  {
   "cell_type": "code",
   "execution_count": 67,
   "id": "210fb88a-7e7b-4dd9-9adf-9dc94ff8ad9f",
   "metadata": {},
   "outputs": [],
   "source": [
    "library(dplyr)"
   ]
  },
  {
   "cell_type": "code",
   "execution_count": 68,
   "id": "fd2e85f8-4c9b-4201-81a6-c5db23f6ee92",
   "metadata": {},
   "outputs": [],
   "source": [
    "protein_coding.gtf<-gtf %>% \n",
    "dplyr::select(c(\"gene_id\",\"gene_name\",'transcript_id',\"gene_biotype\")) %>% \n",
    "arrange(gene_id) "
   ]
  },
  {
   "cell_type": "code",
   "execution_count": 69,
   "id": "4a8c3550-51d5-4f9a-a471-92a2c3cda901",
   "metadata": {},
   "outputs": [],
   "source": [
    "protein_coding.gtf = protein_coding.gtf[!duplicated(protein_coding.gtf$transcript_id),] %>% \n",
    "select(transcript_id,gene_name) %>% na.omit()"
   ]
  },
  {
   "cell_type": "code",
   "execution_count": null,
   "id": "43a32145-7710-405a-b7c8-27c7130befcd",
   "metadata": {},
   "outputs": [],
   "source": []
  },
  {
   "cell_type": "code",
   "execution_count": 70,
   "id": "d5606ffa-7484-4832-aa1d-2024dbfc26fe",
   "metadata": {},
   "outputs": [],
   "source": [
    "count = read.table('./test_count_matrix.txt',header =T)"
   ]
  },
  {
   "cell_type": "code",
   "execution_count": 71,
   "id": "752da755-2893-486f-8eee-7fe5298ab24e",
   "metadata": {},
   "outputs": [],
   "source": [
    "count$gene_id = gsub('.1','',count$gene_id )"
   ]
  },
  {
   "cell_type": "code",
   "execution_count": 72,
   "id": "29c2d945-4221-40e9-80af-d9821539abb6",
   "metadata": {},
   "outputs": [],
   "source": [
    "colnames(protein_coding.gtf)[1] = 'gene_id'"
   ]
  },
  {
   "cell_type": "code",
   "execution_count": 77,
   "id": "b76c0936-31d9-42bc-81db-71afbeac50f3",
   "metadata": {},
   "outputs": [
    {
     "data": {
      "text/html": [
       "30358"
      ],
      "text/latex": [
       "30358"
      ],
      "text/markdown": [
       "30358"
      ],
      "text/plain": [
       "[1] 30358"
      ]
     },
     "metadata": {},
     "output_type": "display_data"
    }
   ],
   "source": []
  },
  {
   "cell_type": "code",
   "execution_count": 73,
   "id": "0741d2d8-5e2f-4249-9e81-092a133adc13",
   "metadata": {},
   "outputs": [
    {
     "data": {
      "text/html": [
       "<table class=\"dataframe\">\n",
       "<caption>A data.frame: 3 x 2</caption>\n",
       "<thead>\n",
       "\t<tr><th></th><th scope=col>gene_id</th><th scope=col>gene_name</th></tr>\n",
       "\t<tr><th></th><th scope=col>&lt;chr&gt;</th><th scope=col>&lt;chr&gt;</th></tr>\n",
       "</thead>\n",
       "<tbody>\n",
       "\t<tr><th scope=row>2</th><td>MGP_C57BL6NJ_T0000001</td><td>Gm17114</td></tr>\n",
       "\t<tr><th scope=row>6</th><td>MGP_C57BL6NJ_T0000002</td><td>Gm29254</td></tr>\n",
       "\t<tr><th scope=row>9</th><td>MGP_C57BL6NJ_T0000003</td><td>Gm29254</td></tr>\n",
       "</tbody>\n",
       "</table>\n"
      ],
      "text/latex": [
       "A data.frame: 3 x 2\n",
       "\\begin{tabular}{r|ll}\n",
       "  & gene\\_id & gene\\_name\\\\\n",
       "  & <chr> & <chr>\\\\\n",
       "\\hline\n",
       "\t2 & MGP\\_C57BL6NJ\\_T0000001 & Gm17114\\\\\n",
       "\t6 & MGP\\_C57BL6NJ\\_T0000002 & Gm29254\\\\\n",
       "\t9 & MGP\\_C57BL6NJ\\_T0000003 & Gm29254\\\\\n",
       "\\end{tabular}\n"
      ],
      "text/markdown": [
       "\n",
       "A data.frame: 3 x 2\n",
       "\n",
       "| <!--/--> | gene_id &lt;chr&gt; | gene_name &lt;chr&gt; |\n",
       "|---|---|---|\n",
       "| 2 | MGP_C57BL6NJ_T0000001 | Gm17114 |\n",
       "| 6 | MGP_C57BL6NJ_T0000002 | Gm29254 |\n",
       "| 9 | MGP_C57BL6NJ_T0000003 | Gm29254 |\n",
       "\n"
      ],
      "text/plain": [
       "  gene_id               gene_name\n",
       "2 MGP_C57BL6NJ_T0000001 Gm17114  \n",
       "6 MGP_C57BL6NJ_T0000002 Gm29254  \n",
       "9 MGP_C57BL6NJ_T0000003 Gm29254  "
      ]
     },
     "metadata": {},
     "output_type": "display_data"
    }
   ],
   "source": [
    "head(protein_coding.gtf,3)"
   ]
  },
  {
   "cell_type": "code",
   "execution_count": 74,
   "id": "46e841d9-eeff-4357-b128-fdc2b36c3b05",
   "metadata": {},
   "outputs": [],
   "source": [
    "count = left_join(count,protein_coding.gtf,by = 'gene_id')"
   ]
  },
  {
   "cell_type": "code",
   "execution_count": 75,
   "id": "ffa9ff02-73b6-4e90-8610-9aa3ad5c169b",
   "metadata": {},
   "outputs": [
    {
     "data": {
      "text/html": [
       "<table class=\"dataframe\">\n",
       "<caption>A data.frame: 2 x 16</caption>\n",
       "<thead>\n",
       "\t<tr><th></th><th scope=col>gene_id</th><th scope=col>GSM4419692</th><th scope=col>GSM4419693</th><th scope=col>GSM4419694</th><th scope=col>GSM4419696</th><th scope=col>GSM4419697</th><th scope=col>GSM4419698</th><th scope=col>GSM4419700</th><th scope=col>GSM4419701</th><th scope=col>GSM4419702</th><th scope=col>GSM4419704</th><th scope=col>GSM4419705</th><th scope=col>GSM4419706</th><th scope=col>GSM4419707</th><th scope=col>GSM4419708</th><th scope=col>gene_name</th></tr>\n",
       "\t<tr><th></th><th scope=col>&lt;chr&gt;</th><th scope=col>&lt;dbl&gt;</th><th scope=col>&lt;dbl&gt;</th><th scope=col>&lt;dbl&gt;</th><th scope=col>&lt;dbl&gt;</th><th scope=col>&lt;dbl&gt;</th><th scope=col>&lt;dbl&gt;</th><th scope=col>&lt;dbl&gt;</th><th scope=col>&lt;dbl&gt;</th><th scope=col>&lt;dbl&gt;</th><th scope=col>&lt;dbl&gt;</th><th scope=col>&lt;dbl&gt;</th><th scope=col>&lt;dbl&gt;</th><th scope=col>&lt;dbl&gt;</th><th scope=col>&lt;dbl&gt;</th><th scope=col>&lt;chr&gt;</th></tr>\n",
       "</thead>\n",
       "<tbody>\n",
       "\t<tr><th scope=row>1</th><td>MGP_C57BL6NJ_T0000004</td><td>0.000000</td><td>0</td><td>0.000000</td><td>0</td><td>0</td><td>0</td><td>0</td><td>0</td><td>0</td><td>0</td><td>0</td><td>0</td><td>0</td><td>0</td><td>Igha</td></tr>\n",
       "\t<tr><th scope=row>2</th><td>MGP_C57BL6NJ_T0000005</td><td>3.349091</td><td>0</td><td>1.674545</td><td>0</td><td>0</td><td>0</td><td>0</td><td>0</td><td>0</td><td>0</td><td>0</td><td>0</td><td>0</td><td>0</td><td>Igha</td></tr>\n",
       "</tbody>\n",
       "</table>\n"
      ],
      "text/latex": [
       "A data.frame: 2 x 16\n",
       "\\begin{tabular}{r|llllllllllllllll}\n",
       "  & gene\\_id & GSM4419692 & GSM4419693 & GSM4419694 & GSM4419696 & GSM4419697 & GSM4419698 & GSM4419700 & GSM4419701 & GSM4419702 & GSM4419704 & GSM4419705 & GSM4419706 & GSM4419707 & GSM4419708 & gene\\_name\\\\\n",
       "  & <chr> & <dbl> & <dbl> & <dbl> & <dbl> & <dbl> & <dbl> & <dbl> & <dbl> & <dbl> & <dbl> & <dbl> & <dbl> & <dbl> & <dbl> & <chr>\\\\\n",
       "\\hline\n",
       "\t1 & MGP\\_C57BL6NJ\\_T0000004 & 0.000000 & 0 & 0.000000 & 0 & 0 & 0 & 0 & 0 & 0 & 0 & 0 & 0 & 0 & 0 & Igha\\\\\n",
       "\t2 & MGP\\_C57BL6NJ\\_T0000005 & 3.349091 & 0 & 1.674545 & 0 & 0 & 0 & 0 & 0 & 0 & 0 & 0 & 0 & 0 & 0 & Igha\\\\\n",
       "\\end{tabular}\n"
      ],
      "text/markdown": [
       "\n",
       "A data.frame: 2 x 16\n",
       "\n",
       "| <!--/--> | gene_id &lt;chr&gt; | GSM4419692 &lt;dbl&gt; | GSM4419693 &lt;dbl&gt; | GSM4419694 &lt;dbl&gt; | GSM4419696 &lt;dbl&gt; | GSM4419697 &lt;dbl&gt; | GSM4419698 &lt;dbl&gt; | GSM4419700 &lt;dbl&gt; | GSM4419701 &lt;dbl&gt; | GSM4419702 &lt;dbl&gt; | GSM4419704 &lt;dbl&gt; | GSM4419705 &lt;dbl&gt; | GSM4419706 &lt;dbl&gt; | GSM4419707 &lt;dbl&gt; | GSM4419708 &lt;dbl&gt; | gene_name &lt;chr&gt; |\n",
       "|---|---|---|---|---|---|---|---|---|---|---|---|---|---|---|---|---|\n",
       "| 1 | MGP_C57BL6NJ_T0000004 | 0.000000 | 0 | 0.000000 | 0 | 0 | 0 | 0 | 0 | 0 | 0 | 0 | 0 | 0 | 0 | Igha |\n",
       "| 2 | MGP_C57BL6NJ_T0000005 | 3.349091 | 0 | 1.674545 | 0 | 0 | 0 | 0 | 0 | 0 | 0 | 0 | 0 | 0 | 0 | Igha |\n",
       "\n"
      ],
      "text/plain": [
       "  gene_id               GSM4419692 GSM4419693 GSM4419694 GSM4419696 GSM4419697\n",
       "1 MGP_C57BL6NJ_T0000004 0.000000   0          0.000000   0          0         \n",
       "2 MGP_C57BL6NJ_T0000005 3.349091   0          1.674545   0          0         \n",
       "  GSM4419698 GSM4419700 GSM4419701 GSM4419702 GSM4419704 GSM4419705 GSM4419706\n",
       "1 0          0          0          0          0          0          0         \n",
       "2 0          0          0          0          0          0          0         \n",
       "  GSM4419707 GSM4419708 gene_name\n",
       "1 0          0          Igha     \n",
       "2 0          0          Igha     "
      ]
     },
     "metadata": {},
     "output_type": "display_data"
    }
   ],
   "source": [
    "head(count,2)"
   ]
  },
  {
   "cell_type": "code",
   "execution_count": 76,
   "id": "518cea29-c9d6-415d-88f3-cda0660d751f",
   "metadata": {},
   "outputs": [
    {
     "data": {
      "text/html": [
       "14207"
      ],
      "text/latex": [
       "14207"
      ],
      "text/markdown": [
       "14207"
      ],
      "text/plain": [
       "[1] 14207"
      ]
     },
     "metadata": {},
     "output_type": "display_data"
    }
   ],
   "source": [
    "length(unique(count$gene_name))"
   ]
  },
  {
   "cell_type": "code",
   "execution_count": null,
   "id": "1619577d-44ad-42aa-bed7-ead99070a0ad",
   "metadata": {},
   "outputs": [],
   "source": []
  }
 ],
 "metadata": {
  "kernelspec": {
   "display_name": "R",
   "language": "R",
   "name": "ir"
  },
  "language_info": {
   "codemirror_mode": "r",
   "file_extension": ".r",
   "mimetype": "text/x-r-source",
   "name": "R",
   "pygments_lexer": "r",
   "version": "4.2.1"
  }
 },
 "nbformat": 4,
 "nbformat_minor": 5
}
