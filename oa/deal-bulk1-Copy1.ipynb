{
 "cells": [
  {
   "cell_type": "code",
   "execution_count": 10,
   "id": "0d4ef7a6-1a44-4436-aa6a-e6347e61e413",
   "metadata": {},
   "outputs": [],
   "source": [
    "setwd('/import/oa/')"
   ]
  },
  {
   "cell_type": "code",
   "execution_count": 11,
   "id": "59125588-e089-4a18-983c-19d87b2925e6",
   "metadata": {},
   "outputs": [],
   "source": [
    "library(rtracklayer)\n",
    "gtf <- rtracklayer::import('/import/reference//mmu_a/Mus_musculus.GRCm39.112.gtf')\n",
    "gtf<-as.data.frame(gtf)"
   ]
  },
  {
   "cell_type": "code",
   "execution_count": 12,
   "id": "83d27d82-9a5b-4b21-aa3d-bc8a28792c6a",
   "metadata": {},
   "outputs": [
    {
     "data": {
      "text/html": [
       "<table class=\"dataframe\">\n",
       "<caption>A data.frame: 2 x 27</caption>\n",
       "<thead>\n",
       "\t<tr><th></th><th scope=col>seqnames</th><th scope=col>start</th><th scope=col>end</th><th scope=col>width</th><th scope=col>strand</th><th scope=col>source</th><th scope=col>type</th><th scope=col>score</th><th scope=col>phase</th><th scope=col>gene_id</th><th scope=col>...</th><th scope=col>transcript_source</th><th scope=col>transcript_biotype</th><th scope=col>tag</th><th scope=col>transcript_support_level</th><th scope=col>exon_number</th><th scope=col>exon_id</th><th scope=col>exon_version</th><th scope=col>ccds_id</th><th scope=col>protein_id</th><th scope=col>protein_version</th></tr>\n",
       "\t<tr><th></th><th scope=col>&lt;fct&gt;</th><th scope=col>&lt;int&gt;</th><th scope=col>&lt;int&gt;</th><th scope=col>&lt;int&gt;</th><th scope=col>&lt;fct&gt;</th><th scope=col>&lt;fct&gt;</th><th scope=col>&lt;fct&gt;</th><th scope=col>&lt;dbl&gt;</th><th scope=col>&lt;int&gt;</th><th scope=col>&lt;chr&gt;</th><th scope=col>...</th><th scope=col>&lt;chr&gt;</th><th scope=col>&lt;chr&gt;</th><th scope=col>&lt;chr&gt;</th><th scope=col>&lt;chr&gt;</th><th scope=col>&lt;chr&gt;</th><th scope=col>&lt;chr&gt;</th><th scope=col>&lt;chr&gt;</th><th scope=col>&lt;chr&gt;</th><th scope=col>&lt;chr&gt;</th><th scope=col>&lt;chr&gt;</th></tr>\n",
       "</thead>\n",
       "<tbody>\n",
       "\t<tr><th scope=row>1</th><td>1</td><td>108344807</td><td>108347562</td><td>2756</td><td>+</td><td>havana</td><td>gene      </td><td>NA</td><td>NA</td><td>ENSMUSG00000104478</td><td>...</td><td>NA    </td><td>NA </td><td>NA               </td><td>NA                                 </td><td>NA</td><td>NA</td><td>NA</td><td>NA</td><td>NA</td><td>NA</td></tr>\n",
       "\t<tr><th scope=row>2</th><td>1</td><td>108344807</td><td>108347562</td><td>2756</td><td>+</td><td>havana</td><td>transcript</td><td>NA</td><td>NA</td><td>ENSMUSG00000104478</td><td>...</td><td>havana</td><td>TEC</td><td>Ensembl_canonical</td><td>NA (assigned to previous version 1)</td><td>NA</td><td>NA</td><td>NA</td><td>NA</td><td>NA</td><td>NA</td></tr>\n",
       "</tbody>\n",
       "</table>\n"
      ],
      "text/latex": [
       "A data.frame: 2 x 27\n",
       "\\begin{tabular}{r|lllllllllllllllllllll}\n",
       "  & seqnames & start & end & width & strand & source & type & score & phase & gene\\_id & ... & transcript\\_source & transcript\\_biotype & tag & transcript\\_support\\_level & exon\\_number & exon\\_id & exon\\_version & ccds\\_id & protein\\_id & protein\\_version\\\\\n",
       "  & <fct> & <int> & <int> & <int> & <fct> & <fct> & <fct> & <dbl> & <int> & <chr> & ... & <chr> & <chr> & <chr> & <chr> & <chr> & <chr> & <chr> & <chr> & <chr> & <chr>\\\\\n",
       "\\hline\n",
       "\t1 & 1 & 108344807 & 108347562 & 2756 & + & havana & gene       & NA & NA & ENSMUSG00000104478 & ... & NA     & NA  & NA                & NA                                  & NA & NA & NA & NA & NA & NA\\\\\n",
       "\t2 & 1 & 108344807 & 108347562 & 2756 & + & havana & transcript & NA & NA & ENSMUSG00000104478 & ... & havana & TEC & Ensembl\\_canonical & NA (assigned to previous version 1) & NA & NA & NA & NA & NA & NA\\\\\n",
       "\\end{tabular}\n"
      ],
      "text/markdown": [
       "\n",
       "A data.frame: 2 x 27\n",
       "\n",
       "| <!--/--> | seqnames &lt;fct&gt; | start &lt;int&gt; | end &lt;int&gt; | width &lt;int&gt; | strand &lt;fct&gt; | source &lt;fct&gt; | type &lt;fct&gt; | score &lt;dbl&gt; | phase &lt;int&gt; | gene_id &lt;chr&gt; | ... ... | transcript_source &lt;chr&gt; | transcript_biotype &lt;chr&gt; | tag &lt;chr&gt; | transcript_support_level &lt;chr&gt; | exon_number &lt;chr&gt; | exon_id &lt;chr&gt; | exon_version &lt;chr&gt; | ccds_id &lt;chr&gt; | protein_id &lt;chr&gt; | protein_version &lt;chr&gt; |\n",
       "|---|---|---|---|---|---|---|---|---|---|---|---|---|---|---|---|---|---|---|---|---|---|\n",
       "| 1 | 1 | 108344807 | 108347562 | 2756 | + | havana | gene       | NA | NA | ENSMUSG00000104478 | ... | NA     | NA  | NA                | NA                                  | NA | NA | NA | NA | NA | NA |\n",
       "| 2 | 1 | 108344807 | 108347562 | 2756 | + | havana | transcript | NA | NA | ENSMUSG00000104478 | ... | havana | TEC | Ensembl_canonical | NA (assigned to previous version 1) | NA | NA | NA | NA | NA | NA |\n",
       "\n"
      ],
      "text/plain": [
       "  seqnames start     end       width strand source type       score phase\n",
       "1 1        108344807 108347562 2756  +      havana gene       NA    NA   \n",
       "2 1        108344807 108347562 2756  +      havana transcript NA    NA   \n",
       "  gene_id            ... transcript_source transcript_biotype tag              \n",
       "1 ENSMUSG00000104478 ... NA                NA                 NA               \n",
       "2 ENSMUSG00000104478 ... havana            TEC                Ensembl_canonical\n",
       "  transcript_support_level            exon_number exon_id exon_version ccds_id\n",
       "1 NA                                  NA          NA      NA           NA     \n",
       "2 NA (assigned to previous version 1) NA          NA      NA           NA     \n",
       "  protein_id protein_version\n",
       "1 NA         NA             \n",
       "2 NA         NA             "
      ]
     },
     "metadata": {},
     "output_type": "display_data"
    }
   ],
   "source": [
    "head(gtf,2)"
   ]
  },
  {
   "cell_type": "code",
   "execution_count": 13,
   "id": "3ba7ef31-237c-4d5e-979e-6d01e4e6f4b8",
   "metadata": {},
   "outputs": [
    {
     "data": {
      "text/html": [
       "<style>\n",
       ".list-inline {list-style: none; margin:0; padding: 0}\n",
       ".list-inline>li {display: inline-block}\n",
       ".list-inline>li:not(:last-child)::after {content: \"\\00b7\"; padding: 0 .5ex}\n",
       "</style>\n",
       "<ol class=list-inline><li>'seqnames'</li><li>'start'</li><li>'end'</li><li>'width'</li><li>'strand'</li><li>'source'</li><li>'type'</li><li>'score'</li><li>'phase'</li><li>'gene_id'</li><li>'gene_version'</li><li>'gene_name'</li><li>'gene_source'</li><li>'gene_biotype'</li><li>'transcript_id'</li><li>'transcript_version'</li><li>'transcript_name'</li><li>'transcript_source'</li><li>'transcript_biotype'</li><li>'tag'</li><li>'transcript_support_level'</li><li>'exon_number'</li><li>'exon_id'</li><li>'exon_version'</li><li>'ccds_id'</li><li>'protein_id'</li><li>'protein_version'</li></ol>\n"
      ],
      "text/latex": [
       "\\begin{enumerate*}\n",
       "\\item 'seqnames'\n",
       "\\item 'start'\n",
       "\\item 'end'\n",
       "\\item 'width'\n",
       "\\item 'strand'\n",
       "\\item 'source'\n",
       "\\item 'type'\n",
       "\\item 'score'\n",
       "\\item 'phase'\n",
       "\\item 'gene\\_id'\n",
       "\\item 'gene\\_version'\n",
       "\\item 'gene\\_name'\n",
       "\\item 'gene\\_source'\n",
       "\\item 'gene\\_biotype'\n",
       "\\item 'transcript\\_id'\n",
       "\\item 'transcript\\_version'\n",
       "\\item 'transcript\\_name'\n",
       "\\item 'transcript\\_source'\n",
       "\\item 'transcript\\_biotype'\n",
       "\\item 'tag'\n",
       "\\item 'transcript\\_support\\_level'\n",
       "\\item 'exon\\_number'\n",
       "\\item 'exon\\_id'\n",
       "\\item 'exon\\_version'\n",
       "\\item 'ccds\\_id'\n",
       "\\item 'protein\\_id'\n",
       "\\item 'protein\\_version'\n",
       "\\end{enumerate*}\n"
      ],
      "text/markdown": [
       "1. 'seqnames'\n",
       "2. 'start'\n",
       "3. 'end'\n",
       "4. 'width'\n",
       "5. 'strand'\n",
       "6. 'source'\n",
       "7. 'type'\n",
       "8. 'score'\n",
       "9. 'phase'\n",
       "10. 'gene_id'\n",
       "11. 'gene_version'\n",
       "12. 'gene_name'\n",
       "13. 'gene_source'\n",
       "14. 'gene_biotype'\n",
       "15. 'transcript_id'\n",
       "16. 'transcript_version'\n",
       "17. 'transcript_name'\n",
       "18. 'transcript_source'\n",
       "19. 'transcript_biotype'\n",
       "20. 'tag'\n",
       "21. 'transcript_support_level'\n",
       "22. 'exon_number'\n",
       "23. 'exon_id'\n",
       "24. 'exon_version'\n",
       "25. 'ccds_id'\n",
       "26. 'protein_id'\n",
       "27. 'protein_version'\n",
       "\n",
       "\n"
      ],
      "text/plain": [
       " [1] \"seqnames\"                 \"start\"                   \n",
       " [3] \"end\"                      \"width\"                   \n",
       " [5] \"strand\"                   \"source\"                  \n",
       " [7] \"type\"                     \"score\"                   \n",
       " [9] \"phase\"                    \"gene_id\"                 \n",
       "[11] \"gene_version\"             \"gene_name\"               \n",
       "[13] \"gene_source\"              \"gene_biotype\"            \n",
       "[15] \"transcript_id\"            \"transcript_version\"      \n",
       "[17] \"transcript_name\"          \"transcript_source\"       \n",
       "[19] \"transcript_biotype\"       \"tag\"                     \n",
       "[21] \"transcript_support_level\" \"exon_number\"             \n",
       "[23] \"exon_id\"                  \"exon_version\"            \n",
       "[25] \"ccds_id\"                  \"protein_id\"              \n",
       "[27] \"protein_version\"         "
      ]
     },
     "metadata": {},
     "output_type": "display_data"
    }
   ],
   "source": [
    "colnames(gtf)"
   ]
  },
  {
   "cell_type": "code",
   "execution_count": 14,
   "id": "3ab77939-d0e2-4474-9069-2d8dfd56c56e",
   "metadata": {},
   "outputs": [
    {
     "data": {
      "text/html": [
       "56417"
      ],
      "text/latex": [
       "56417"
      ],
      "text/markdown": [
       "56417"
      ],
      "text/plain": [
       "[1] 56417"
      ]
     },
     "metadata": {},
     "output_type": "display_data"
    }
   ],
   "source": [
    "length(unique(gtf$gene_name))"
   ]
  },
  {
   "cell_type": "code",
   "execution_count": 16,
   "id": "210fb88a-7e7b-4dd9-9adf-9dc94ff8ad9f",
   "metadata": {},
   "outputs": [],
   "source": [
    "library(dplyr)"
   ]
  },
  {
   "cell_type": "code",
   "execution_count": 27,
   "id": "fd2e85f8-4c9b-4201-81a6-c5db23f6ee92",
   "metadata": {},
   "outputs": [],
   "source": [
    "protein_coding.gtf<-gtf %>% \n",
    "dplyr::select(c('transcript_id',\"gene_name\")) %>% \n",
    " na.omit()"
   ]
  },
  {
   "cell_type": "code",
   "execution_count": 28,
   "id": "1a9687c9-17af-4218-8642-452502914e80",
   "metadata": {},
   "outputs": [],
   "source": [
    "protein_coding.gtf = protein_coding.gtf[!duplicated(protein_coding.gtf$transcript_id),]"
   ]
  },
  {
   "cell_type": "code",
   "execution_count": 55,
   "id": "69e9c9ea-415a-4c02-a96a-44b6dd549952",
   "metadata": {},
   "outputs": [
    {
     "data": {
      "text/html": [
       "56416"
      ],
      "text/latex": [
       "56416"
      ],
      "text/markdown": [
       "56416"
      ],
      "text/plain": [
       "[1] 56416"
      ]
     },
     "metadata": {},
     "output_type": "display_data"
    }
   ],
   "source": [
    "length(unique(protein_coding.gtf$gene_name))"
   ]
  },
  {
   "cell_type": "code",
   "execution_count": null,
   "id": "ddd43e6d-40ce-4eb5-b1b1-dafd82aa0000",
   "metadata": {},
   "outputs": [],
   "source": [
    "count = read.table('./test_count_matrix.txt',header =T)\n",
    "library(tidyr)\n",
    "count <- count %>% \n",
    "  tidyr::separate(gene_id,into = c(\"gene_id\"),sep=\"\\\\.\") \n",
    "head(count,2)\n",
    "colnames(protein_coding.gtf)[1] = 'gene_id'\n",
    "head(protein_coding.gtf,2)\n",
    "exp = left_join(count,protein_coding.gtf,by = 'gene_id')\n",
    "expv= exp[,c(16,2:15)]\n",
    "expv = expv[!duplicated(expv$gene_name),]\n",
    "head(expv,2)\n",
    "colnames(expv)[2:15] = c('Day0_1',\n",
    "'Day0_2',\n",
    "'Day0_3',\n",
    "'Day1_1',\n",
    "'Day1_2',\n",
    "'Day1_3',\n",
    "'Day3_1',\n",
    "'Day3_2',\n",
    "'Day3_3',\n",
    "'cited2_con_1',\n",
    "'cited2_con_2',\n",
    "'cited2_con_3',\n",
    "'cited2_ko_1',\n",
    "'cited2_ko_2')\n",
    "write.table(expv,file = 'final.count.txt',quote =F,row.names = F,sep = '\\t')"
   ]
  },
  {
   "cell_type": "code",
   "execution_count": 60,
   "id": "0f3c3025-bcf6-473e-a480-e0ffb2dc2cc7",
   "metadata": {},
   "outputs": [
    {
     "name": "stderr",
     "output_type": "stream",
     "text": [
      "Warning message:\n",
      "\"\u001b[1m\u001b[22mExpected 1 pieces. Additional pieces discarded in 115988 rows [1, 2, 3, 4, 5,\n",
      "6, 7, 8, 9, 10, 11, 12, 13, 14, 15, 16, 17, 18, 19, 20, ...].\"\n"
     ]
    },
    {
     "data": {
      "text/html": [
       "<table class=\"dataframe\">\n",
       "<caption>A data.frame: 2 x 15</caption>\n",
       "<thead>\n",
       "\t<tr><th></th><th scope=col>gene_id</th><th scope=col>GSM4419692</th><th scope=col>GSM4419693</th><th scope=col>GSM4419694</th><th scope=col>GSM4419696</th><th scope=col>GSM4419697</th><th scope=col>GSM4419698</th><th scope=col>GSM4419700</th><th scope=col>GSM4419701</th><th scope=col>GSM4419702</th><th scope=col>GSM4419704</th><th scope=col>GSM4419705</th><th scope=col>GSM4419706</th><th scope=col>GSM4419707</th><th scope=col>GSM4419708</th></tr>\n",
       "\t<tr><th></th><th scope=col>&lt;chr&gt;</th><th scope=col>&lt;dbl&gt;</th><th scope=col>&lt;dbl&gt;</th><th scope=col>&lt;dbl&gt;</th><th scope=col>&lt;dbl&gt;</th><th scope=col>&lt;dbl&gt;</th><th scope=col>&lt;dbl&gt;</th><th scope=col>&lt;dbl&gt;</th><th scope=col>&lt;dbl&gt;</th><th scope=col>&lt;dbl&gt;</th><th scope=col>&lt;dbl&gt;</th><th scope=col>&lt;dbl&gt;</th><th scope=col>&lt;dbl&gt;</th><th scope=col>&lt;dbl&gt;</th><th scope=col>&lt;dbl&gt;</th></tr>\n",
       "</thead>\n",
       "<tbody>\n",
       "\t<tr><th scope=row>1</th><td>ENSMUST00000000001</td><td>44.19097</td><td>48.00576</td><td>41.79724</td><td>31.87979</td><td>23.01553</td><td>21.73089</td><td>29.42195</td><td>22.98232</td><td>29.77535</td><td>30.70625</td><td>29.18618</td><td>29.15649</td><td>38.36997</td><td>36.6258</td></tr>\n",
       "\t<tr><th scope=row>2</th><td>ENSMUST00000000003</td><td> 0.00000</td><td> 0.00000</td><td> 0.00000</td><td> 0.00000</td><td> 0.00000</td><td> 0.00000</td><td> 0.00000</td><td> 0.00000</td><td> 0.00000</td><td> 0.00000</td><td> 0.00000</td><td> 0.00000</td><td> 0.00000</td><td> 0.0000</td></tr>\n",
       "</tbody>\n",
       "</table>\n"
      ],
      "text/latex": [
       "A data.frame: 2 x 15\n",
       "\\begin{tabular}{r|lllllllllllllll}\n",
       "  & gene\\_id & GSM4419692 & GSM4419693 & GSM4419694 & GSM4419696 & GSM4419697 & GSM4419698 & GSM4419700 & GSM4419701 & GSM4419702 & GSM4419704 & GSM4419705 & GSM4419706 & GSM4419707 & GSM4419708\\\\\n",
       "  & <chr> & <dbl> & <dbl> & <dbl> & <dbl> & <dbl> & <dbl> & <dbl> & <dbl> & <dbl> & <dbl> & <dbl> & <dbl> & <dbl> & <dbl>\\\\\n",
       "\\hline\n",
       "\t1 & ENSMUST00000000001 & 44.19097 & 48.00576 & 41.79724 & 31.87979 & 23.01553 & 21.73089 & 29.42195 & 22.98232 & 29.77535 & 30.70625 & 29.18618 & 29.15649 & 38.36997 & 36.6258\\\\\n",
       "\t2 & ENSMUST00000000003 &  0.00000 &  0.00000 &  0.00000 &  0.00000 &  0.00000 &  0.00000 &  0.00000 &  0.00000 &  0.00000 &  0.00000 &  0.00000 &  0.00000 &  0.00000 &  0.0000\\\\\n",
       "\\end{tabular}\n"
      ],
      "text/markdown": [
       "\n",
       "A data.frame: 2 x 15\n",
       "\n",
       "| <!--/--> | gene_id &lt;chr&gt; | GSM4419692 &lt;dbl&gt; | GSM4419693 &lt;dbl&gt; | GSM4419694 &lt;dbl&gt; | GSM4419696 &lt;dbl&gt; | GSM4419697 &lt;dbl&gt; | GSM4419698 &lt;dbl&gt; | GSM4419700 &lt;dbl&gt; | GSM4419701 &lt;dbl&gt; | GSM4419702 &lt;dbl&gt; | GSM4419704 &lt;dbl&gt; | GSM4419705 &lt;dbl&gt; | GSM4419706 &lt;dbl&gt; | GSM4419707 &lt;dbl&gt; | GSM4419708 &lt;dbl&gt; |\n",
       "|---|---|---|---|---|---|---|---|---|---|---|---|---|---|---|---|\n",
       "| 1 | ENSMUST00000000001 | 44.19097 | 48.00576 | 41.79724 | 31.87979 | 23.01553 | 21.73089 | 29.42195 | 22.98232 | 29.77535 | 30.70625 | 29.18618 | 29.15649 | 38.36997 | 36.6258 |\n",
       "| 2 | ENSMUST00000000003 |  0.00000 |  0.00000 |  0.00000 |  0.00000 |  0.00000 |  0.00000 |  0.00000 |  0.00000 |  0.00000 |  0.00000 |  0.00000 |  0.00000 |  0.00000 |  0.0000 |\n",
       "\n"
      ],
      "text/plain": [
       "  gene_id            GSM4419692 GSM4419693 GSM4419694 GSM4419696 GSM4419697\n",
       "1 ENSMUST00000000001 44.19097   48.00576   41.79724   31.87979   23.01553  \n",
       "2 ENSMUST00000000003  0.00000    0.00000    0.00000    0.00000    0.00000  \n",
       "  GSM4419698 GSM4419700 GSM4419701 GSM4419702 GSM4419704 GSM4419705 GSM4419706\n",
       "1 21.73089   29.42195   22.98232   29.77535   30.70625   29.18618   29.15649  \n",
       "2  0.00000    0.00000    0.00000    0.00000    0.00000    0.00000    0.00000  \n",
       "  GSM4419707 GSM4419708\n",
       "1 38.36997   36.6258   \n",
       "2  0.00000    0.0000   "
      ]
     },
     "metadata": {},
     "output_type": "display_data"
    },
    {
     "data": {
      "text/html": [
       "<table class=\"dataframe\">\n",
       "<caption>A data.frame: 2 x 2</caption>\n",
       "<thead>\n",
       "\t<tr><th></th><th scope=col>gene_id</th><th scope=col>gene_name</th></tr>\n",
       "\t<tr><th></th><th scope=col>&lt;chr&gt;</th><th scope=col>&lt;chr&gt;</th></tr>\n",
       "</thead>\n",
       "<tbody>\n",
       "\t<tr><th scope=row>2</th><td>ENSMUST00000194081</td><td>Gm38212</td></tr>\n",
       "\t<tr><th scope=row>5</th><td>ENSMUST00000194393</td><td>Gm7449 </td></tr>\n",
       "</tbody>\n",
       "</table>\n"
      ],
      "text/latex": [
       "A data.frame: 2 x 2\n",
       "\\begin{tabular}{r|ll}\n",
       "  & gene\\_id & gene\\_name\\\\\n",
       "  & <chr> & <chr>\\\\\n",
       "\\hline\n",
       "\t2 & ENSMUST00000194081 & Gm38212\\\\\n",
       "\t5 & ENSMUST00000194393 & Gm7449 \\\\\n",
       "\\end{tabular}\n"
      ],
      "text/markdown": [
       "\n",
       "A data.frame: 2 x 2\n",
       "\n",
       "| <!--/--> | gene_id &lt;chr&gt; | gene_name &lt;chr&gt; |\n",
       "|---|---|---|\n",
       "| 2 | ENSMUST00000194081 | Gm38212 |\n",
       "| 5 | ENSMUST00000194393 | Gm7449  |\n",
       "\n"
      ],
      "text/plain": [
       "  gene_id            gene_name\n",
       "2 ENSMUST00000194081 Gm38212  \n",
       "5 ENSMUST00000194393 Gm7449   "
      ]
     },
     "metadata": {},
     "output_type": "display_data"
    },
    {
     "data": {
      "text/html": [
       "<table class=\"dataframe\">\n",
       "<caption>A data.frame: 2 x 15</caption>\n",
       "<thead>\n",
       "\t<tr><th></th><th scope=col>gene_name</th><th scope=col>GSM4419692</th><th scope=col>GSM4419693</th><th scope=col>GSM4419694</th><th scope=col>GSM4419696</th><th scope=col>GSM4419697</th><th scope=col>GSM4419698</th><th scope=col>GSM4419700</th><th scope=col>GSM4419701</th><th scope=col>GSM4419702</th><th scope=col>GSM4419704</th><th scope=col>GSM4419705</th><th scope=col>GSM4419706</th><th scope=col>GSM4419707</th><th scope=col>GSM4419708</th></tr>\n",
       "\t<tr><th></th><th scope=col>&lt;chr&gt;</th><th scope=col>&lt;dbl&gt;</th><th scope=col>&lt;dbl&gt;</th><th scope=col>&lt;dbl&gt;</th><th scope=col>&lt;dbl&gt;</th><th scope=col>&lt;dbl&gt;</th><th scope=col>&lt;dbl&gt;</th><th scope=col>&lt;dbl&gt;</th><th scope=col>&lt;dbl&gt;</th><th scope=col>&lt;dbl&gt;</th><th scope=col>&lt;dbl&gt;</th><th scope=col>&lt;dbl&gt;</th><th scope=col>&lt;dbl&gt;</th><th scope=col>&lt;dbl&gt;</th><th scope=col>&lt;dbl&gt;</th></tr>\n",
       "</thead>\n",
       "<tbody>\n",
       "\t<tr><th scope=row>1</th><td>Gnai3</td><td>44.19097</td><td>48.00576</td><td>41.79724</td><td>31.87979</td><td>23.01553</td><td>21.73089</td><td>29.42195</td><td>22.98232</td><td>29.77535</td><td>30.70625</td><td>29.18618</td><td>29.15649</td><td>38.36997</td><td>36.6258</td></tr>\n",
       "\t<tr><th scope=row>2</th><td>Pbsn </td><td> 0.00000</td><td> 0.00000</td><td> 0.00000</td><td> 0.00000</td><td> 0.00000</td><td> 0.00000</td><td> 0.00000</td><td> 0.00000</td><td> 0.00000</td><td> 0.00000</td><td> 0.00000</td><td> 0.00000</td><td> 0.00000</td><td> 0.0000</td></tr>\n",
       "</tbody>\n",
       "</table>\n"
      ],
      "text/latex": [
       "A data.frame: 2 x 15\n",
       "\\begin{tabular}{r|lllllllllllllll}\n",
       "  & gene\\_name & GSM4419692 & GSM4419693 & GSM4419694 & GSM4419696 & GSM4419697 & GSM4419698 & GSM4419700 & GSM4419701 & GSM4419702 & GSM4419704 & GSM4419705 & GSM4419706 & GSM4419707 & GSM4419708\\\\\n",
       "  & <chr> & <dbl> & <dbl> & <dbl> & <dbl> & <dbl> & <dbl> & <dbl> & <dbl> & <dbl> & <dbl> & <dbl> & <dbl> & <dbl> & <dbl>\\\\\n",
       "\\hline\n",
       "\t1 & Gnai3 & 44.19097 & 48.00576 & 41.79724 & 31.87979 & 23.01553 & 21.73089 & 29.42195 & 22.98232 & 29.77535 & 30.70625 & 29.18618 & 29.15649 & 38.36997 & 36.6258\\\\\n",
       "\t2 & Pbsn  &  0.00000 &  0.00000 &  0.00000 &  0.00000 &  0.00000 &  0.00000 &  0.00000 &  0.00000 &  0.00000 &  0.00000 &  0.00000 &  0.00000 &  0.00000 &  0.0000\\\\\n",
       "\\end{tabular}\n"
      ],
      "text/markdown": [
       "\n",
       "A data.frame: 2 x 15\n",
       "\n",
       "| <!--/--> | gene_name &lt;chr&gt; | GSM4419692 &lt;dbl&gt; | GSM4419693 &lt;dbl&gt; | GSM4419694 &lt;dbl&gt; | GSM4419696 &lt;dbl&gt; | GSM4419697 &lt;dbl&gt; | GSM4419698 &lt;dbl&gt; | GSM4419700 &lt;dbl&gt; | GSM4419701 &lt;dbl&gt; | GSM4419702 &lt;dbl&gt; | GSM4419704 &lt;dbl&gt; | GSM4419705 &lt;dbl&gt; | GSM4419706 &lt;dbl&gt; | GSM4419707 &lt;dbl&gt; | GSM4419708 &lt;dbl&gt; |\n",
       "|---|---|---|---|---|---|---|---|---|---|---|---|---|---|---|---|\n",
       "| 1 | Gnai3 | 44.19097 | 48.00576 | 41.79724 | 31.87979 | 23.01553 | 21.73089 | 29.42195 | 22.98232 | 29.77535 | 30.70625 | 29.18618 | 29.15649 | 38.36997 | 36.6258 |\n",
       "| 2 | Pbsn  |  0.00000 |  0.00000 |  0.00000 |  0.00000 |  0.00000 |  0.00000 |  0.00000 |  0.00000 |  0.00000 |  0.00000 |  0.00000 |  0.00000 |  0.00000 |  0.0000 |\n",
       "\n"
      ],
      "text/plain": [
       "  gene_name GSM4419692 GSM4419693 GSM4419694 GSM4419696 GSM4419697 GSM4419698\n",
       "1 Gnai3     44.19097   48.00576   41.79724   31.87979   23.01553   21.73089  \n",
       "2 Pbsn       0.00000    0.00000    0.00000    0.00000    0.00000    0.00000  \n",
       "  GSM4419700 GSM4419701 GSM4419702 GSM4419704 GSM4419705 GSM4419706 GSM4419707\n",
       "1 29.42195   22.98232   29.77535   30.70625   29.18618   29.15649   38.36997  \n",
       "2  0.00000    0.00000    0.00000    0.00000    0.00000    0.00000    0.00000  \n",
       "  GSM4419708\n",
       "1 36.6258   \n",
       "2  0.0000   "
      ]
     },
     "metadata": {},
     "output_type": "display_data"
    }
   ],
   "source": [
    "count = read.table('./test_fpkm_matrix.txt',header =T)\n",
    "library(tidyr)\n",
    "count <- count %>% \n",
    "  tidyr::separate(gene_id,into = c(\"gene_id\"),sep=\"\\\\.\") \n",
    "head(count,2)\n",
    "colnames(protein_coding.gtf)[1] = 'gene_id'\n",
    "head(protein_coding.gtf,2)\n",
    "exp = left_join(count,protein_coding.gtf,by = 'gene_id')\n",
    "expv= exp[,c(16,2:15)]\n",
    "expv = expv[!duplicated(expv$gene_name),]\n",
    "head(expv,2)\n",
    "colnames(expv)[2:15] = c('Day0_1',\n",
    "'Day0_2',\n",
    "'Day0_3',\n",
    "'Day1_1',\n",
    "'Day1_2',\n",
    "'Day1_3',\n",
    "'Day3_1',\n",
    "'Day3_2',\n",
    "'Day3_3',\n",
    "'cited2_con_1',\n",
    "'cited2_con_2',\n",
    "'cited2_con_3',\n",
    "'cited2_ko_1',\n",
    "'cited2_ko_2')\n",
    "write.table(expv,file = 'final.fpkm.txt',quote =F,row.names = F,sep = '\\t')"
   ]
  },
  {
   "cell_type": "code",
   "execution_count": 61,
   "id": "9322b7c3-e1c6-4f12-b6af-280a2f24d76f",
   "metadata": {},
   "outputs": [
    {
     "name": "stderr",
     "output_type": "stream",
     "text": [
      "Warning message:\n",
      "\"\u001b[1m\u001b[22mExpected 1 pieces. Additional pieces discarded in 115988 rows [1, 2, 3, 4, 5,\n",
      "6, 7, 8, 9, 10, 11, 12, 13, 14, 15, 16, 17, 18, 19, 20, ...].\"\n"
     ]
    },
    {
     "data": {
      "text/html": [
       "<table class=\"dataframe\">\n",
       "<caption>A data.frame: 2 x 15</caption>\n",
       "<thead>\n",
       "\t<tr><th></th><th scope=col>gene_id</th><th scope=col>GSM4419692</th><th scope=col>GSM4419693</th><th scope=col>GSM4419694</th><th scope=col>GSM4419696</th><th scope=col>GSM4419697</th><th scope=col>GSM4419698</th><th scope=col>GSM4419700</th><th scope=col>GSM4419701</th><th scope=col>GSM4419702</th><th scope=col>GSM4419704</th><th scope=col>GSM4419705</th><th scope=col>GSM4419706</th><th scope=col>GSM4419707</th><th scope=col>GSM4419708</th></tr>\n",
       "\t<tr><th></th><th scope=col>&lt;chr&gt;</th><th scope=col>&lt;dbl&gt;</th><th scope=col>&lt;dbl&gt;</th><th scope=col>&lt;dbl&gt;</th><th scope=col>&lt;dbl&gt;</th><th scope=col>&lt;dbl&gt;</th><th scope=col>&lt;dbl&gt;</th><th scope=col>&lt;dbl&gt;</th><th scope=col>&lt;dbl&gt;</th><th scope=col>&lt;dbl&gt;</th><th scope=col>&lt;dbl&gt;</th><th scope=col>&lt;dbl&gt;</th><th scope=col>&lt;dbl&gt;</th><th scope=col>&lt;dbl&gt;</th><th scope=col>&lt;dbl&gt;</th></tr>\n",
       "</thead>\n",
       "<tbody>\n",
       "\t<tr><th scope=row>1</th><td>ENSMUST00000000001</td><td>72.607</td><td>75.0841</td><td>64.036</td><td>48.757</td><td>33.3087</td><td>31.5995</td><td>46.0278</td><td>34.9769</td><td>45.372</td><td>50.3825</td><td>47.9796</td><td>47.4484</td><td>63.8274</td><td>59.4362</td></tr>\n",
       "\t<tr><th scope=row>2</th><td>ENSMUST00000000003</td><td> 0.000</td><td> 0.0000</td><td> 0.000</td><td> 0.000</td><td> 0.0000</td><td> 0.0000</td><td> 0.0000</td><td> 0.0000</td><td> 0.000</td><td> 0.0000</td><td> 0.0000</td><td> 0.0000</td><td> 0.0000</td><td> 0.0000</td></tr>\n",
       "</tbody>\n",
       "</table>\n"
      ],
      "text/latex": [
       "A data.frame: 2 x 15\n",
       "\\begin{tabular}{r|lllllllllllllll}\n",
       "  & gene\\_id & GSM4419692 & GSM4419693 & GSM4419694 & GSM4419696 & GSM4419697 & GSM4419698 & GSM4419700 & GSM4419701 & GSM4419702 & GSM4419704 & GSM4419705 & GSM4419706 & GSM4419707 & GSM4419708\\\\\n",
       "  & <chr> & <dbl> & <dbl> & <dbl> & <dbl> & <dbl> & <dbl> & <dbl> & <dbl> & <dbl> & <dbl> & <dbl> & <dbl> & <dbl> & <dbl>\\\\\n",
       "\\hline\n",
       "\t1 & ENSMUST00000000001 & 72.607 & 75.0841 & 64.036 & 48.757 & 33.3087 & 31.5995 & 46.0278 & 34.9769 & 45.372 & 50.3825 & 47.9796 & 47.4484 & 63.8274 & 59.4362\\\\\n",
       "\t2 & ENSMUST00000000003 &  0.000 &  0.0000 &  0.000 &  0.000 &  0.0000 &  0.0000 &  0.0000 &  0.0000 &  0.000 &  0.0000 &  0.0000 &  0.0000 &  0.0000 &  0.0000\\\\\n",
       "\\end{tabular}\n"
      ],
      "text/markdown": [
       "\n",
       "A data.frame: 2 x 15\n",
       "\n",
       "| <!--/--> | gene_id &lt;chr&gt; | GSM4419692 &lt;dbl&gt; | GSM4419693 &lt;dbl&gt; | GSM4419694 &lt;dbl&gt; | GSM4419696 &lt;dbl&gt; | GSM4419697 &lt;dbl&gt; | GSM4419698 &lt;dbl&gt; | GSM4419700 &lt;dbl&gt; | GSM4419701 &lt;dbl&gt; | GSM4419702 &lt;dbl&gt; | GSM4419704 &lt;dbl&gt; | GSM4419705 &lt;dbl&gt; | GSM4419706 &lt;dbl&gt; | GSM4419707 &lt;dbl&gt; | GSM4419708 &lt;dbl&gt; |\n",
       "|---|---|---|---|---|---|---|---|---|---|---|---|---|---|---|---|\n",
       "| 1 | ENSMUST00000000001 | 72.607 | 75.0841 | 64.036 | 48.757 | 33.3087 | 31.5995 | 46.0278 | 34.9769 | 45.372 | 50.3825 | 47.9796 | 47.4484 | 63.8274 | 59.4362 |\n",
       "| 2 | ENSMUST00000000003 |  0.000 |  0.0000 |  0.000 |  0.000 |  0.0000 |  0.0000 |  0.0000 |  0.0000 |  0.000 |  0.0000 |  0.0000 |  0.0000 |  0.0000 |  0.0000 |\n",
       "\n"
      ],
      "text/plain": [
       "  gene_id            GSM4419692 GSM4419693 GSM4419694 GSM4419696 GSM4419697\n",
       "1 ENSMUST00000000001 72.607     75.0841    64.036     48.757     33.3087   \n",
       "2 ENSMUST00000000003  0.000      0.0000     0.000      0.000      0.0000   \n",
       "  GSM4419698 GSM4419700 GSM4419701 GSM4419702 GSM4419704 GSM4419705 GSM4419706\n",
       "1 31.5995    46.0278    34.9769    45.372     50.3825    47.9796    47.4484   \n",
       "2  0.0000     0.0000     0.0000     0.000      0.0000     0.0000     0.0000   \n",
       "  GSM4419707 GSM4419708\n",
       "1 63.8274    59.4362   \n",
       "2  0.0000     0.0000   "
      ]
     },
     "metadata": {},
     "output_type": "display_data"
    },
    {
     "data": {
      "text/html": [
       "<table class=\"dataframe\">\n",
       "<caption>A data.frame: 2 x 2</caption>\n",
       "<thead>\n",
       "\t<tr><th></th><th scope=col>gene_id</th><th scope=col>gene_name</th></tr>\n",
       "\t<tr><th></th><th scope=col>&lt;chr&gt;</th><th scope=col>&lt;chr&gt;</th></tr>\n",
       "</thead>\n",
       "<tbody>\n",
       "\t<tr><th scope=row>2</th><td>ENSMUST00000194081</td><td>Gm38212</td></tr>\n",
       "\t<tr><th scope=row>5</th><td>ENSMUST00000194393</td><td>Gm7449 </td></tr>\n",
       "</tbody>\n",
       "</table>\n"
      ],
      "text/latex": [
       "A data.frame: 2 x 2\n",
       "\\begin{tabular}{r|ll}\n",
       "  & gene\\_id & gene\\_name\\\\\n",
       "  & <chr> & <chr>\\\\\n",
       "\\hline\n",
       "\t2 & ENSMUST00000194081 & Gm38212\\\\\n",
       "\t5 & ENSMUST00000194393 & Gm7449 \\\\\n",
       "\\end{tabular}\n"
      ],
      "text/markdown": [
       "\n",
       "A data.frame: 2 x 2\n",
       "\n",
       "| <!--/--> | gene_id &lt;chr&gt; | gene_name &lt;chr&gt; |\n",
       "|---|---|---|\n",
       "| 2 | ENSMUST00000194081 | Gm38212 |\n",
       "| 5 | ENSMUST00000194393 | Gm7449  |\n",
       "\n"
      ],
      "text/plain": [
       "  gene_id            gene_name\n",
       "2 ENSMUST00000194081 Gm38212  \n",
       "5 ENSMUST00000194393 Gm7449   "
      ]
     },
     "metadata": {},
     "output_type": "display_data"
    },
    {
     "data": {
      "text/html": [
       "<table class=\"dataframe\">\n",
       "<caption>A data.frame: 2 x 15</caption>\n",
       "<thead>\n",
       "\t<tr><th></th><th scope=col>gene_name</th><th scope=col>GSM4419692</th><th scope=col>GSM4419693</th><th scope=col>GSM4419694</th><th scope=col>GSM4419696</th><th scope=col>GSM4419697</th><th scope=col>GSM4419698</th><th scope=col>GSM4419700</th><th scope=col>GSM4419701</th><th scope=col>GSM4419702</th><th scope=col>GSM4419704</th><th scope=col>GSM4419705</th><th scope=col>GSM4419706</th><th scope=col>GSM4419707</th><th scope=col>GSM4419708</th></tr>\n",
       "\t<tr><th></th><th scope=col>&lt;chr&gt;</th><th scope=col>&lt;dbl&gt;</th><th scope=col>&lt;dbl&gt;</th><th scope=col>&lt;dbl&gt;</th><th scope=col>&lt;dbl&gt;</th><th scope=col>&lt;dbl&gt;</th><th scope=col>&lt;dbl&gt;</th><th scope=col>&lt;dbl&gt;</th><th scope=col>&lt;dbl&gt;</th><th scope=col>&lt;dbl&gt;</th><th scope=col>&lt;dbl&gt;</th><th scope=col>&lt;dbl&gt;</th><th scope=col>&lt;dbl&gt;</th><th scope=col>&lt;dbl&gt;</th><th scope=col>&lt;dbl&gt;</th></tr>\n",
       "</thead>\n",
       "<tbody>\n",
       "\t<tr><th scope=row>1</th><td>Gnai3</td><td>72.607</td><td>75.0841</td><td>64.036</td><td>48.757</td><td>33.3087</td><td>31.5995</td><td>46.0278</td><td>34.9769</td><td>45.372</td><td>50.3825</td><td>47.9796</td><td>47.4484</td><td>63.8274</td><td>59.4362</td></tr>\n",
       "\t<tr><th scope=row>2</th><td>Pbsn </td><td> 0.000</td><td> 0.0000</td><td> 0.000</td><td> 0.000</td><td> 0.0000</td><td> 0.0000</td><td> 0.0000</td><td> 0.0000</td><td> 0.000</td><td> 0.0000</td><td> 0.0000</td><td> 0.0000</td><td> 0.0000</td><td> 0.0000</td></tr>\n",
       "</tbody>\n",
       "</table>\n"
      ],
      "text/latex": [
       "A data.frame: 2 x 15\n",
       "\\begin{tabular}{r|lllllllllllllll}\n",
       "  & gene\\_name & GSM4419692 & GSM4419693 & GSM4419694 & GSM4419696 & GSM4419697 & GSM4419698 & GSM4419700 & GSM4419701 & GSM4419702 & GSM4419704 & GSM4419705 & GSM4419706 & GSM4419707 & GSM4419708\\\\\n",
       "  & <chr> & <dbl> & <dbl> & <dbl> & <dbl> & <dbl> & <dbl> & <dbl> & <dbl> & <dbl> & <dbl> & <dbl> & <dbl> & <dbl> & <dbl>\\\\\n",
       "\\hline\n",
       "\t1 & Gnai3 & 72.607 & 75.0841 & 64.036 & 48.757 & 33.3087 & 31.5995 & 46.0278 & 34.9769 & 45.372 & 50.3825 & 47.9796 & 47.4484 & 63.8274 & 59.4362\\\\\n",
       "\t2 & Pbsn  &  0.000 &  0.0000 &  0.000 &  0.000 &  0.0000 &  0.0000 &  0.0000 &  0.0000 &  0.000 &  0.0000 &  0.0000 &  0.0000 &  0.0000 &  0.0000\\\\\n",
       "\\end{tabular}\n"
      ],
      "text/markdown": [
       "\n",
       "A data.frame: 2 x 15\n",
       "\n",
       "| <!--/--> | gene_name &lt;chr&gt; | GSM4419692 &lt;dbl&gt; | GSM4419693 &lt;dbl&gt; | GSM4419694 &lt;dbl&gt; | GSM4419696 &lt;dbl&gt; | GSM4419697 &lt;dbl&gt; | GSM4419698 &lt;dbl&gt; | GSM4419700 &lt;dbl&gt; | GSM4419701 &lt;dbl&gt; | GSM4419702 &lt;dbl&gt; | GSM4419704 &lt;dbl&gt; | GSM4419705 &lt;dbl&gt; | GSM4419706 &lt;dbl&gt; | GSM4419707 &lt;dbl&gt; | GSM4419708 &lt;dbl&gt; |\n",
       "|---|---|---|---|---|---|---|---|---|---|---|---|---|---|---|---|\n",
       "| 1 | Gnai3 | 72.607 | 75.0841 | 64.036 | 48.757 | 33.3087 | 31.5995 | 46.0278 | 34.9769 | 45.372 | 50.3825 | 47.9796 | 47.4484 | 63.8274 | 59.4362 |\n",
       "| 2 | Pbsn  |  0.000 |  0.0000 |  0.000 |  0.000 |  0.0000 |  0.0000 |  0.0000 |  0.0000 |  0.000 |  0.0000 |  0.0000 |  0.0000 |  0.0000 |  0.0000 |\n",
       "\n"
      ],
      "text/plain": [
       "  gene_name GSM4419692 GSM4419693 GSM4419694 GSM4419696 GSM4419697 GSM4419698\n",
       "1 Gnai3     72.607     75.0841    64.036     48.757     33.3087    31.5995   \n",
       "2 Pbsn       0.000      0.0000     0.000      0.000      0.0000     0.0000   \n",
       "  GSM4419700 GSM4419701 GSM4419702 GSM4419704 GSM4419705 GSM4419706 GSM4419707\n",
       "1 46.0278    34.9769    45.372     50.3825    47.9796    47.4484    63.8274   \n",
       "2  0.0000     0.0000     0.000      0.0000     0.0000     0.0000     0.0000   \n",
       "  GSM4419708\n",
       "1 59.4362   \n",
       "2  0.0000   "
      ]
     },
     "metadata": {},
     "output_type": "display_data"
    }
   ],
   "source": [
    "count = read.table('./test_tpm_matrix.txt',header =T)\n",
    "library(tidyr)\n",
    "count <- count %>% \n",
    "  tidyr::separate(gene_id,into = c(\"gene_id\"),sep=\"\\\\.\") \n",
    "head(count,2)\n",
    "colnames(protein_coding.gtf)[1] = 'gene_id'\n",
    "head(protein_coding.gtf,2)\n",
    "exp = left_join(count,protein_coding.gtf,by = 'gene_id')\n",
    "expv= exp[,c(16,2:15)]\n",
    "expv = expv[!duplicated(expv$gene_name),]\n",
    "head(expv,2)\n",
    "colnames(expv)[2:15] = c('Day0_1',\n",
    "'Day0_2',\n",
    "'Day0_3',\n",
    "'Day1_1',\n",
    "'Day1_2',\n",
    "'Day1_3',\n",
    "'Day3_1',\n",
    "'Day3_2',\n",
    "'Day3_3',\n",
    "'cited2_con_1',\n",
    "'cited2_con_2',\n",
    "'cited2_con_3',\n",
    "'cited2_ko_1',\n",
    "'cited2_ko_2')\n",
    "write.table(expv,file = 'final.tpm.txt',quote =F,row.names = F,sep = '\\t')"
   ]
  },
  {
   "cell_type": "code",
   "execution_count": null,
   "id": "418ed187-602b-4b37-ba8d-f10da24e364a",
   "metadata": {},
   "outputs": [],
   "source": []
  }
 ],
 "metadata": {
  "kernelspec": {
   "display_name": "R",
   "language": "R",
   "name": "ir"
  },
  "language_info": {
   "codemirror_mode": "r",
   "file_extension": ".r",
   "mimetype": "text/x-r-source",
   "name": "R",
   "pygments_lexer": "r",
   "version": "4.2.1"
  }
 },
 "nbformat": 4,
 "nbformat_minor": 5
}
