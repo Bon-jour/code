{
 "cells": [
  {
   "cell_type": "code",
   "execution_count": 4,
   "id": "76b23fc5-026d-4c2c-92d4-a2df2a2bd98b",
   "metadata": {},
   "outputs": [],
   "source": [
    "setwd('/import/oa/rawdata//scrna')"
   ]
  },
  {
   "cell_type": "code",
   "execution_count": 5,
   "id": "bf456f3c-373e-41fe-964a-998d4c382768",
   "metadata": {},
   "outputs": [
    {
     "data": {
      "text/html": [
       "<style>\n",
       ".list-inline {list-style: none; margin:0; padding: 0}\n",
       ".list-inline>li {display: inline-block}\n",
       ".list-inline>li:not(:last-child)::after {content: \"\\00b7\"; padding: 0 .5ex}\n",
       "</style>\n",
       "<ol class=list-inline><li>'GSM4419695_Day0-features.tsv.gz'</li><li>'GSM4419699_Day1-features.tsv.gz'</li><li>'GSM4419703_Day3-features.tsv.gz'</li></ol>\n"
      ],
      "text/latex": [
       "\\begin{enumerate*}\n",
       "\\item 'GSM4419695\\_Day0-features.tsv.gz'\n",
       "\\item 'GSM4419699\\_Day1-features.tsv.gz'\n",
       "\\item 'GSM4419703\\_Day3-features.tsv.gz'\n",
       "\\end{enumerate*}\n"
      ],
      "text/markdown": [
       "1. 'GSM4419695_Day0-features.tsv.gz'\n",
       "2. 'GSM4419699_Day1-features.tsv.gz'\n",
       "3. 'GSM4419703_Day3-features.tsv.gz'\n",
       "\n",
       "\n"
      ],
      "text/plain": [
       "[1] \"GSM4419695_Day0-features.tsv.gz\" \"GSM4419699_Day1-features.tsv.gz\"\n",
       "[3] \"GSM4419703_Day3-features.tsv.gz\""
      ]
     },
     "metadata": {},
     "output_type": "display_data"
    }
   ],
   "source": [
    "fs=list.files('./','features.tsv.gz')\n",
    "fs"
   ]
  },
  {
   "cell_type": "code",
   "execution_count": 6,
   "id": "1ab9337f-54bc-4286-9117-6caa67561515",
   "metadata": {},
   "outputs": [
    {
     "data": {
      "text/html": [
       "<style>\n",
       ".list-inline {list-style: none; margin:0; padding: 0}\n",
       ".list-inline>li {display: inline-block}\n",
       ".list-inline>li:not(:last-child)::after {content: \"\\00b7\"; padding: 0 .5ex}\n",
       "</style>\n",
       "<ol class=list-inline><li>'GSM4419695_Day0'</li><li>'GSM4419699_Day1'</li><li>'GSM4419703_Day3'</li></ol>\n"
      ],
      "text/latex": [
       "\\begin{enumerate*}\n",
       "\\item 'GSM4419695\\_Day0'\n",
       "\\item 'GSM4419699\\_Day1'\n",
       "\\item 'GSM4419703\\_Day3'\n",
       "\\end{enumerate*}\n"
      ],
      "text/markdown": [
       "1. 'GSM4419695_Day0'\n",
       "2. 'GSM4419699_Day1'\n",
       "3. 'GSM4419703_Day3'\n",
       "\n",
       "\n"
      ],
      "text/plain": [
       "[1] \"GSM4419695_Day0\" \"GSM4419699_Day1\" \"GSM4419703_Day3\""
      ]
     },
     "metadata": {},
     "output_type": "display_data"
    }
   ],
   "source": [
    "samples1=gsub('-features.tsv.gz','',fs)\n",
    "samples1"
   ]
  },
  {
   "cell_type": "code",
   "execution_count": 7,
   "id": "23fc2f37-05af-477a-960a-29e86f7bd5d4",
   "metadata": {},
   "outputs": [
    {
     "name": "stderr",
     "output_type": "stream",
     "text": [
      "Warning message:\n",
      "\"package 'stringr' was built under R version 4.2.3\"\n"
     ]
    }
   ],
   "source": [
    "library(stringr)"
   ]
  },
  {
   "cell_type": "code",
   "execution_count": 8,
   "id": "1fea9a0f-c29b-4c79-b074-476bf5e28c99",
   "metadata": {},
   "outputs": [
    {
     "data": {
      "text/html": [
       "<ol>\n",
       "\t<li>TRUE</li>\n",
       "\t<li>TRUE</li>\n",
       "\t<li>TRUE</li>\n",
       "</ol>\n"
      ],
      "text/latex": [
       "\\begin{enumerate}\n",
       "\\item TRUE\n",
       "\\item TRUE\n",
       "\\item TRUE\n",
       "\\end{enumerate}\n"
      ],
      "text/markdown": [
       "1. TRUE\n",
       "2. TRUE\n",
       "3. TRUE\n",
       "\n",
       "\n"
      ],
      "text/plain": [
       "[[1]]\n",
       "[1] TRUE\n",
       "\n",
       "[[2]]\n",
       "[1] TRUE\n",
       "\n",
       "[[3]]\n",
       "[1] TRUE\n"
      ]
     },
     "metadata": {},
     "output_type": "display_data"
    }
   ],
   "source": [
    "# samples2= gsub('-filtered','',samples1)\n",
    "# samples2\n",
    "lapply(1:length(samples1), function(i){\n",
    "  x=samples1[i]\n",
    "  dir.create(x,recursive = T)\n",
    "  file.copy(from=paste0(x,'-features.tsv.gz'),\n",
    "            to=file.path(x,  'features.tsv.gz' )) \n",
    "  file.copy(from=paste0(x,'-matrix.mtx.gz'),\n",
    "            to= file.path(x, 'matrix.mtx.gz' ) ) \n",
    "  file.copy(from=paste0(x,'-barcodes.tsv.gz'),\n",
    "            to= file.path(x, 'barcodes.tsv.gz' )) \n",
    "  \n",
    "})"
   ]
  },
  {
   "cell_type": "code",
   "execution_count": null,
   "id": "42057808-f6de-4b92-9d4b-e4f67b66605b",
   "metadata": {},
   "outputs": [],
   "source": []
  }
 ],
 "metadata": {
  "kernelspec": {
   "display_name": "R",
   "language": "R",
   "name": "ir"
  },
  "language_info": {
   "codemirror_mode": "r",
   "file_extension": ".r",
   "mimetype": "text/x-r-source",
   "name": "R",
   "pygments_lexer": "r",
   "version": "4.2.1"
  }
 },
 "nbformat": 4,
 "nbformat_minor": 5
}
