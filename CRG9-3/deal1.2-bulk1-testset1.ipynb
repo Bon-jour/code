{
 "cells": [
  {
   "cell_type": "code",
   "execution_count": 13,
   "id": "0a3e527c-bf49-4137-a100-2d54d50a62b1",
   "metadata": {},
   "outputs": [],
   "source": [
    "setwd('/import/DB/fel/BJTC-204')"
   ]
  },
  {
   "cell_type": "code",
   "execution_count": 14,
   "id": "8ee0950b-d81f-4b73-bcc1-f91b45b3ffb8",
   "metadata": {},
   "outputs": [
    {
     "data": {
      "text/html": [
       "<style>\n",
       ".list-inline {list-style: none; margin:0; padding: 0}\n",
       ".list-inline>li {display: inline-block}\n",
       ".list-inline>li:not(:last-child)::after {content: \"\\00b7\"; padding: 0 .5ex}\n",
       "</style>\n",
       "<ol class=list-inline><li>'cliinfo'</li><li>'count'</li><li>'expr3'</li><li>'prot'</li></ol>\n"
      ],
      "text/latex": [
       "\\begin{enumerate*}\n",
       "\\item 'cliinfo'\n",
       "\\item 'count'\n",
       "\\item 'expr3'\n",
       "\\item 'prot'\n",
       "\\end{enumerate*}\n"
      ],
      "text/markdown": [
       "1. 'cliinfo'\n",
       "2. 'count'\n",
       "3. 'expr3'\n",
       "4. 'prot'\n",
       "\n",
       "\n"
      ],
      "text/plain": [
       "[1] \"cliinfo\" \"count\"   \"expr3\"   \"prot\"   "
      ]
     },
     "metadata": {},
     "output_type": "display_data"
    },
    {
     "data": {
      "text/html": [
       "<table class=\"dataframe\">\n",
       "<caption>A data.frame: 2 x 48</caption>\n",
       "<thead>\n",
       "\t<tr><th></th><th scope=col>SYMBOL</th><th scope=col>SL32230</th><th scope=col>SL32231</th><th scope=col>SL32242</th><th scope=col>SL32243</th><th scope=col>SL32244</th><th scope=col>SL32245</th><th scope=col>SL32246</th><th scope=col>SL32247</th><th scope=col>SL32248</th><th scope=col>...</th><th scope=col>SL7403</th><th scope=col>SL7404</th><th scope=col>SL7614</th><th scope=col>SL7625</th><th scope=col>SL7632</th><th scope=col>SL7698</th><th scope=col>SL7801</th><th scope=col>SL7804</th><th scope=col>SL7806</th><th scope=col>SL7807</th></tr>\n",
       "\t<tr><th></th><th scope=col>&lt;chr&gt;</th><th scope=col>&lt;int&gt;</th><th scope=col>&lt;int&gt;</th><th scope=col>&lt;int&gt;</th><th scope=col>&lt;int&gt;</th><th scope=col>&lt;int&gt;</th><th scope=col>&lt;int&gt;</th><th scope=col>&lt;int&gt;</th><th scope=col>&lt;int&gt;</th><th scope=col>&lt;int&gt;</th><th scope=col>...</th><th scope=col>&lt;int&gt;</th><th scope=col>&lt;int&gt;</th><th scope=col>&lt;int&gt;</th><th scope=col>&lt;int&gt;</th><th scope=col>&lt;int&gt;</th><th scope=col>&lt;int&gt;</th><th scope=col>&lt;int&gt;</th><th scope=col>&lt;int&gt;</th><th scope=col>&lt;int&gt;</th><th scope=col>&lt;int&gt;</th></tr>\n",
       "</thead>\n",
       "<tbody>\n",
       "\t<tr><th scope=row>1</th><td>TSPAN6</td><td>76</td><td>130</td><td>104</td><td>147</td><td>123</td><td>129</td><td>150</td><td>165</td><td>104</td><td>...</td><td>203</td><td>241</td><td>301</td><td>416</td><td>238</td><td>198</td><td>72</td><td>216</td><td>335</td><td>105</td></tr>\n",
       "\t<tr><th scope=row>2</th><td>TNMD  </td><td> 3</td><td>  2</td><td>  3</td><td>  2</td><td>  0</td><td>  4</td><td>  4</td><td>  5</td><td>  3</td><td>...</td><td>  5</td><td>  5</td><td>  8</td><td>  1</td><td>  4</td><td>  5</td><td> 1</td><td>  3</td><td>  9</td><td>  4</td></tr>\n",
       "</tbody>\n",
       "</table>\n"
      ],
      "text/latex": [
       "A data.frame: 2 x 48\n",
       "\\begin{tabular}{r|lllllllllllllllllllll}\n",
       "  & SYMBOL & SL32230 & SL32231 & SL32242 & SL32243 & SL32244 & SL32245 & SL32246 & SL32247 & SL32248 & ... & SL7403 & SL7404 & SL7614 & SL7625 & SL7632 & SL7698 & SL7801 & SL7804 & SL7806 & SL7807\\\\\n",
       "  & <chr> & <int> & <int> & <int> & <int> & <int> & <int> & <int> & <int> & <int> & ... & <int> & <int> & <int> & <int> & <int> & <int> & <int> & <int> & <int> & <int>\\\\\n",
       "\\hline\n",
       "\t1 & TSPAN6 & 76 & 130 & 104 & 147 & 123 & 129 & 150 & 165 & 104 & ... & 203 & 241 & 301 & 416 & 238 & 198 & 72 & 216 & 335 & 105\\\\\n",
       "\t2 & TNMD   &  3 &   2 &   3 &   2 &   0 &   4 &   4 &   5 &   3 & ... &   5 &   5 &   8 &   1 &   4 &   5 &  1 &   3 &   9 &   4\\\\\n",
       "\\end{tabular}\n"
      ],
      "text/markdown": [
       "\n",
       "A data.frame: 2 x 48\n",
       "\n",
       "| <!--/--> | SYMBOL &lt;chr&gt; | SL32230 &lt;int&gt; | SL32231 &lt;int&gt; | SL32242 &lt;int&gt; | SL32243 &lt;int&gt; | SL32244 &lt;int&gt; | SL32245 &lt;int&gt; | SL32246 &lt;int&gt; | SL32247 &lt;int&gt; | SL32248 &lt;int&gt; | ... ... | SL7403 &lt;int&gt; | SL7404 &lt;int&gt; | SL7614 &lt;int&gt; | SL7625 &lt;int&gt; | SL7632 &lt;int&gt; | SL7698 &lt;int&gt; | SL7801 &lt;int&gt; | SL7804 &lt;int&gt; | SL7806 &lt;int&gt; | SL7807 &lt;int&gt; |\n",
       "|---|---|---|---|---|---|---|---|---|---|---|---|---|---|---|---|---|---|---|---|---|---|\n",
       "| 1 | TSPAN6 | 76 | 130 | 104 | 147 | 123 | 129 | 150 | 165 | 104 | ... | 203 | 241 | 301 | 416 | 238 | 198 | 72 | 216 | 335 | 105 |\n",
       "| 2 | TNMD   |  3 |   2 |   3 |   2 |   0 |   4 |   4 |   5 |   3 | ... |   5 |   5 |   8 |   1 |   4 |   5 |  1 |   3 |   9 |   4 |\n",
       "\n"
      ],
      "text/plain": [
       "  SYMBOL SL32230 SL32231 SL32242 SL32243 SL32244 SL32245 SL32246 SL32247\n",
       "1 TSPAN6 76      130     104     147     123     129     150     165    \n",
       "2 TNMD    3        2       3       2       0       4       4       5    \n",
       "  SL32248 ... SL7403 SL7404 SL7614 SL7625 SL7632 SL7698 SL7801 SL7804 SL7806\n",
       "1 104     ... 203    241    301    416    238    198    72     216    335   \n",
       "2   3     ...   5      5      8      1      4      5     1       3      9   \n",
       "  SL7807\n",
       "1 105   \n",
       "2   4   "
      ]
     },
     "metadata": {},
     "output_type": "display_data"
    },
    {
     "data": {
      "text/html": [
       "<style>\n",
       ".list-inline {list-style: none; margin:0; padding: 0}\n",
       ".list-inline>li {display: inline-block}\n",
       ".list-inline>li:not(:last-child)::after {content: \"\\00b7\"; padding: 0 .5ex}\n",
       "</style>\n",
       "<ol class=list-inline><li>34036</li><li>48</li></ol>\n"
      ],
      "text/latex": [
       "\\begin{enumerate*}\n",
       "\\item 34036\n",
       "\\item 48\n",
       "\\end{enumerate*}\n"
      ],
      "text/markdown": [
       "1. 34036\n",
       "2. 48\n",
       "\n",
       "\n"
      ],
      "text/plain": [
       "[1] 34036    48"
      ]
     },
     "metadata": {},
     "output_type": "display_data"
    },
    {
     "data": {
      "text/html": [
       "<style>\n",
       ".list-inline {list-style: none; margin:0; padding: 0}\n",
       ".list-inline>li {display: inline-block}\n",
       ".list-inline>li:not(:last-child)::after {content: \"\\00b7\"; padding: 0 .5ex}\n",
       "</style>\n",
       "<ol class=list-inline><li>38</li><li>6</li></ol>\n"
      ],
      "text/latex": [
       "\\begin{enumerate*}\n",
       "\\item 38\n",
       "\\item 6\n",
       "\\end{enumerate*}\n"
      ],
      "text/markdown": [
       "1. 38\n",
       "2. 6\n",
       "\n",
       "\n"
      ],
      "text/plain": [
       "[1] 38  6"
      ]
     },
     "metadata": {},
     "output_type": "display_data"
    },
    {
     "data": {
      "text/html": [
       "<table class=\"dataframe\">\n",
       "<caption>A data.frame: 2 x 6</caption>\n",
       "<thead>\n",
       "\t<tr><th></th><th scope=col>V1</th><th scope=col>V2</th><th scope=col>V3</th><th scope=col>V4</th><th scope=col>V5</th><th scope=col>V6</th></tr>\n",
       "\t<tr><th></th><th scope=col>&lt;chr&gt;</th><th scope=col>&lt;int&gt;</th><th scope=col>&lt;chr&gt;</th><th scope=col>&lt;chr&gt;</th><th scope=col>&lt;chr&gt;</th><th scope=col>&lt;chr&gt;</th></tr>\n",
       "</thead>\n",
       "<tbody>\n",
       "\t<tr><th scope=row>1</th><td>SL32231</td><td>46</td><td>MD     </td><td>M</td><td>X3064</td><td>DLPFC</td></tr>\n",
       "\t<tr><th scope=row>2</th><td>SL32242</td><td>32</td><td>Control</td><td>M</td><td>X3186</td><td>DLPFC</td></tr>\n",
       "</tbody>\n",
       "</table>\n"
      ],
      "text/latex": [
       "A data.frame: 2 x 6\n",
       "\\begin{tabular}{r|llllll}\n",
       "  & V1 & V2 & V3 & V4 & V5 & V6\\\\\n",
       "  & <chr> & <int> & <chr> & <chr> & <chr> & <chr>\\\\\n",
       "\\hline\n",
       "\t1 & SL32231 & 46 & MD      & M & X3064 & DLPFC\\\\\n",
       "\t2 & SL32242 & 32 & Control & M & X3186 & DLPFC\\\\\n",
       "\\end{tabular}\n"
      ],
      "text/markdown": [
       "\n",
       "A data.frame: 2 x 6\n",
       "\n",
       "| <!--/--> | V1 &lt;chr&gt; | V2 &lt;int&gt; | V3 &lt;chr&gt; | V4 &lt;chr&gt; | V5 &lt;chr&gt; | V6 &lt;chr&gt; |\n",
       "|---|---|---|---|---|---|---|\n",
       "| 1 | SL32231 | 46 | MD      | M | X3064 | DLPFC |\n",
       "| 2 | SL32242 | 32 | Control | M | X3186 | DLPFC |\n",
       "\n"
      ],
      "text/plain": [
       "  V1      V2 V3      V4 V5    V6   \n",
       "1 SL32231 46 MD      M  X3064 DLPFC\n",
       "2 SL32242 32 Control M  X3186 DLPFC"
      ]
     },
     "metadata": {},
     "output_type": "display_data"
    }
   ],
   "source": [
    "load('/import/mdd.rna/GSE80655.rda')\n",
    "\n",
    "ls()\n",
    "\n",
    "head(expr3,2)\n",
    "\n",
    "dim(expr3)\n",
    "\n",
    "library(dplyr)\n",
    "\n",
    "cliinfo = cliinfo %>%  filter(V4 == 'M')\n",
    "\n",
    "dim(cliinfo)\n",
    "\n",
    "head(cliinfo,2)"
   ]
  },
  {
   "cell_type": "code",
   "execution_count": 15,
   "id": "05b28c77-e7c9-4acc-b420-087115724bd2",
   "metadata": {},
   "outputs": [
    {
     "data": {
      "text/plain": [
       "\n",
       "Control      MD \n",
       "     21      17 "
      ]
     },
     "metadata": {},
     "output_type": "display_data"
    }
   ],
   "source": [
    "library(dplyr)\n",
    "\n",
    "count =expr3 %>% tibble::remove_rownames() %>% tibble::column_to_rownames(.,'SYMBOL')\n",
    "\n",
    "table(cliinfo$V3)\n",
    "\n",
    "count = count[,cliinfo$V1]"
   ]
  },
  {
   "cell_type": "code",
   "execution_count": 16,
   "id": "bfcf03a7-8439-4014-b155-e4c9ff596489",
   "metadata": {},
   "outputs": [],
   "source": [
    "prot = c('H4C3','PRSS3','TUSC3')"
   ]
  },
  {
   "cell_type": "code",
   "execution_count": null,
   "id": "e9eb571e-7c49-47df-a377-29c8d355c7ea",
   "metadata": {},
   "outputs": [],
   "source": []
  },
  {
   "cell_type": "code",
   "execution_count": 17,
   "id": "0330d366-70ea-40b1-be3c-280c3594bc12",
   "metadata": {},
   "outputs": [],
   "source": [
    "count = count[unique(prot),]"
   ]
  },
  {
   "cell_type": "code",
   "execution_count": 18,
   "id": "7b10d53a-941f-425e-88c0-684e5d682e54",
   "metadata": {},
   "outputs": [],
   "source": [
    "count = na.omit(count)"
   ]
  },
  {
   "cell_type": "code",
   "execution_count": 19,
   "id": "47587c25-15ca-46e5-b433-15d1d36ad9e2",
   "metadata": {},
   "outputs": [
    {
     "data": {
      "text/html": [
       "<style>\n",
       ".list-inline {list-style: none; margin:0; padding: 0}\n",
       ".list-inline>li {display: inline-block}\n",
       ".list-inline>li:not(:last-child)::after {content: \"\\00b7\"; padding: 0 .5ex}\n",
       "</style>\n",
       "<ol class=list-inline><li>3</li><li>38</li></ol>\n"
      ],
      "text/latex": [
       "\\begin{enumerate*}\n",
       "\\item 3\n",
       "\\item 38\n",
       "\\end{enumerate*}\n"
      ],
      "text/markdown": [
       "1. 3\n",
       "2. 38\n",
       "\n",
       "\n"
      ],
      "text/plain": [
       "[1]  3 38"
      ]
     },
     "metadata": {},
     "output_type": "display_data"
    }
   ],
   "source": [
    "dim(count)"
   ]
  },
  {
   "cell_type": "code",
   "execution_count": 20,
   "id": "6d4a83b8-d110-4220-b26d-304800d3dddf",
   "metadata": {},
   "outputs": [
    {
     "data": {
      "text/html": [
       "<table class=\"dataframe\">\n",
       "<caption>A data.frame: 2 x 38</caption>\n",
       "<thead>\n",
       "\t<tr><th></th><th scope=col>SL32231</th><th scope=col>SL32242</th><th scope=col>SL32243</th><th scope=col>SL32244</th><th scope=col>SL32245</th><th scope=col>SL32247</th><th scope=col>SL32248</th><th scope=col>SL32249</th><th scope=col>SL5886</th><th scope=col>SL5997</th><th scope=col>...</th><th scope=col>SL7155</th><th scope=col>SL7381</th><th scope=col>SL7383</th><th scope=col>SL7384</th><th scope=col>SL7614</th><th scope=col>SL7698</th><th scope=col>SL7801</th><th scope=col>SL7804</th><th scope=col>SL7806</th><th scope=col>SL7807</th></tr>\n",
       "\t<tr><th></th><th scope=col>&lt;int&gt;</th><th scope=col>&lt;int&gt;</th><th scope=col>&lt;int&gt;</th><th scope=col>&lt;int&gt;</th><th scope=col>&lt;int&gt;</th><th scope=col>&lt;int&gt;</th><th scope=col>&lt;int&gt;</th><th scope=col>&lt;int&gt;</th><th scope=col>&lt;int&gt;</th><th scope=col>&lt;int&gt;</th><th scope=col>...</th><th scope=col>&lt;int&gt;</th><th scope=col>&lt;int&gt;</th><th scope=col>&lt;int&gt;</th><th scope=col>&lt;int&gt;</th><th scope=col>&lt;int&gt;</th><th scope=col>&lt;int&gt;</th><th scope=col>&lt;int&gt;</th><th scope=col>&lt;int&gt;</th><th scope=col>&lt;int&gt;</th><th scope=col>&lt;int&gt;</th></tr>\n",
       "</thead>\n",
       "<tbody>\n",
       "\t<tr><th scope=row>H4C3</th><td>  7</td><td> 13</td><td> 20</td><td>  9</td><td> 27</td><td>  6</td><td> 16</td><td>  9</td><td>  6</td><td> 27</td><td>...</td><td> 83</td><td>131</td><td>107</td><td>112</td><td>146</td><td> 50</td><td> 46</td><td>305</td><td>200</td><td>134</td></tr>\n",
       "\t<tr><th scope=row>PRSS3</th><td>317</td><td>450</td><td>286</td><td>411</td><td>488</td><td>335</td><td>307</td><td>399</td><td>112</td><td>239</td><td>...</td><td>737</td><td>696</td><td>492</td><td>530</td><td>592</td><td>508</td><td>164</td><td>534</td><td>648</td><td>451</td></tr>\n",
       "</tbody>\n",
       "</table>\n"
      ],
      "text/latex": [
       "A data.frame: 2 x 38\n",
       "\\begin{tabular}{r|lllllllllllllllllllll}\n",
       "  & SL32231 & SL32242 & SL32243 & SL32244 & SL32245 & SL32247 & SL32248 & SL32249 & SL5886 & SL5997 & ... & SL7155 & SL7381 & SL7383 & SL7384 & SL7614 & SL7698 & SL7801 & SL7804 & SL7806 & SL7807\\\\\n",
       "  & <int> & <int> & <int> & <int> & <int> & <int> & <int> & <int> & <int> & <int> & ... & <int> & <int> & <int> & <int> & <int> & <int> & <int> & <int> & <int> & <int>\\\\\n",
       "\\hline\n",
       "\tH4C3 &   7 &  13 &  20 &   9 &  27 &   6 &  16 &   9 &   6 &  27 & ... &  83 & 131 & 107 & 112 & 146 &  50 &  46 & 305 & 200 & 134\\\\\n",
       "\tPRSS3 & 317 & 450 & 286 & 411 & 488 & 335 & 307 & 399 & 112 & 239 & ... & 737 & 696 & 492 & 530 & 592 & 508 & 164 & 534 & 648 & 451\\\\\n",
       "\\end{tabular}\n"
      ],
      "text/markdown": [
       "\n",
       "A data.frame: 2 x 38\n",
       "\n",
       "| <!--/--> | SL32231 &lt;int&gt; | SL32242 &lt;int&gt; | SL32243 &lt;int&gt; | SL32244 &lt;int&gt; | SL32245 &lt;int&gt; | SL32247 &lt;int&gt; | SL32248 &lt;int&gt; | SL32249 &lt;int&gt; | SL5886 &lt;int&gt; | SL5997 &lt;int&gt; | ... ... | SL7155 &lt;int&gt; | SL7381 &lt;int&gt; | SL7383 &lt;int&gt; | SL7384 &lt;int&gt; | SL7614 &lt;int&gt; | SL7698 &lt;int&gt; | SL7801 &lt;int&gt; | SL7804 &lt;int&gt; | SL7806 &lt;int&gt; | SL7807 &lt;int&gt; |\n",
       "|---|---|---|---|---|---|---|---|---|---|---|---|---|---|---|---|---|---|---|---|---|---|\n",
       "| H4C3 |   7 |  13 |  20 |   9 |  27 |   6 |  16 |   9 |   6 |  27 | ... |  83 | 131 | 107 | 112 | 146 |  50 |  46 | 305 | 200 | 134 |\n",
       "| PRSS3 | 317 | 450 | 286 | 411 | 488 | 335 | 307 | 399 | 112 | 239 | ... | 737 | 696 | 492 | 530 | 592 | 508 | 164 | 534 | 648 | 451 |\n",
       "\n"
      ],
      "text/plain": [
       "      SL32231 SL32242 SL32243 SL32244 SL32245 SL32247 SL32248 SL32249 SL5886\n",
       "H4C3    7      13      20       9      27       6      16       9       6   \n",
       "PRSS3 317     450     286     411     488     335     307     399     112   \n",
       "      SL5997 ... SL7155 SL7381 SL7383 SL7384 SL7614 SL7698 SL7801 SL7804 SL7806\n",
       "H4C3   27    ...  83    131    107    112    146     50     46    305    200   \n",
       "PRSS3 239    ... 737    696    492    530    592    508    164    534    648   \n",
       "      SL7807\n",
       "H4C3  134   \n",
       "PRSS3 451   "
      ]
     },
     "metadata": {},
     "output_type": "display_data"
    }
   ],
   "source": [
    "head(count,2)"
   ]
  },
  {
   "cell_type": "code",
   "execution_count": 23,
   "id": "d00d9ed2-27f5-44c0-a849-5fda278a2b30",
   "metadata": {},
   "outputs": [],
   "source": [
    "save(count,file = 'testset1.rda')"
   ]
  },
  {
   "cell_type": "code",
   "execution_count": null,
   "id": "30911ec0-76c6-4dd6-87a6-0210a393d862",
   "metadata": {},
   "outputs": [],
   "source": []
  },
  {
   "cell_type": "code",
   "execution_count": 11,
   "id": "fb62c3b5-c8f8-4da8-8433-27f79bf874f3",
   "metadata": {},
   "outputs": [],
   "source": [
    "count = log2(edgeR::cpm(count) +1)"
   ]
  },
  {
   "cell_type": "code",
   "execution_count": null,
   "id": "8043a560-1c69-405e-a4d3-d62626e23c57",
   "metadata": {},
   "outputs": [],
   "source": []
  },
  {
   "cell_type": "code",
   "execution_count": null,
   "id": "03ba1b49-2b00-4690-afa7-20e4f6b3022c",
   "metadata": {},
   "outputs": [],
   "source": []
  },
  {
   "cell_type": "code",
   "execution_count": 111,
   "id": "fce74308-c61d-46a6-81c0-b1782690b005",
   "metadata": {},
   "outputs": [],
   "source": [
    "group_list = factor(cliinfo$V3,levels = c(\"Control\",\"MD\"))"
   ]
  },
  {
   "cell_type": "code",
   "execution_count": 112,
   "id": "712dd571-a057-49cc-986e-a43036bf412a",
   "metadata": {},
   "outputs": [],
   "source": [
    "library(edgeR)"
   ]
  },
  {
   "cell_type": "code",
   "execution_count": 113,
   "id": "e4c84457-0642-42ca-b6b4-c9b766ed8849",
   "metadata": {},
   "outputs": [],
   "source": [
    "expr = count %>%  t() %>%  as.data.frame() %>% tibble::rownames_to_column(.,'V1')"
   ]
  },
  {
   "cell_type": "code",
   "execution_count": 114,
   "id": "b791d58e-e0d2-42e8-9b2d-88da03aa1755",
   "metadata": {},
   "outputs": [],
   "source": [
    "data = cbind(cliinfo,expr)"
   ]
  },
  {
   "cell_type": "code",
   "execution_count": 115,
   "id": "d59ad595-9580-4623-9907-7fb74730ffb5",
   "metadata": {},
   "outputs": [],
   "source": [
    "data$Group = ifelse(data$V3 == 'MD',1,0)"
   ]
  },
  {
   "cell_type": "code",
   "execution_count": 116,
   "id": "31960d66-c66b-4875-bc47-673959f33437",
   "metadata": {},
   "outputs": [
    {
     "data": {
      "text/html": [
       "<table class=\"dataframe\">\n",
       "<caption>A data.frame: 4 x 11</caption>\n",
       "<thead>\n",
       "\t<tr><th></th><th scope=col>V1</th><th scope=col>V2</th><th scope=col>V3</th><th scope=col>V4</th><th scope=col>V5</th><th scope=col>V6</th><th scope=col>V1</th><th scope=col>H4C3</th><th scope=col>PRSS3</th><th scope=col>TUSC3</th><th scope=col>Group</th></tr>\n",
       "\t<tr><th></th><th scope=col>&lt;chr&gt;</th><th scope=col>&lt;int&gt;</th><th scope=col>&lt;chr&gt;</th><th scope=col>&lt;chr&gt;</th><th scope=col>&lt;chr&gt;</th><th scope=col>&lt;chr&gt;</th><th scope=col>&lt;chr&gt;</th><th scope=col>&lt;dbl&gt;</th><th scope=col>&lt;dbl&gt;</th><th scope=col>&lt;dbl&gt;</th><th scope=col>&lt;dbl&gt;</th></tr>\n",
       "</thead>\n",
       "<tbody>\n",
       "\t<tr><th scope=row>1</th><td>SL32231</td><td>46</td><td>MD     </td><td>M</td><td>X3064</td><td>DLPFC</td><td>SL32231</td><td>11.94163</td><td>17.44225</td><td>19.64170</td><td>1</td></tr>\n",
       "\t<tr><th scope=row>2</th><td>SL32242</td><td>32</td><td>Control</td><td>M</td><td>X3186</td><td>DLPFC</td><td>SL32242</td><td>12.55677</td><td>17.66988</td><td>19.58316</td><td>0</td></tr>\n",
       "\t<tr><th scope=row>3</th><td>SL32243</td><td>44</td><td>Control</td><td>M</td><td>X3196</td><td>DLPFC</td><td>SL32243</td><td>13.83048</td><td>17.66833</td><td>19.56780</td><td>0</td></tr>\n",
       "\t<tr><th scope=row>4</th><td>SL32244</td><td>35</td><td>Control</td><td>M</td><td>X3275</td><td>DLPFC</td><td>SL32244</td><td>12.17107</td><td>17.68383</td><td>19.58203</td><td>0</td></tr>\n",
       "</tbody>\n",
       "</table>\n"
      ],
      "text/latex": [
       "A data.frame: 4 x 11\n",
       "\\begin{tabular}{r|lllllllllll}\n",
       "  & V1 & V2 & V3 & V4 & V5 & V6 & V1 & H4C3 & PRSS3 & TUSC3 & Group\\\\\n",
       "  & <chr> & <int> & <chr> & <chr> & <chr> & <chr> & <chr> & <dbl> & <dbl> & <dbl> & <dbl>\\\\\n",
       "\\hline\n",
       "\t1 & SL32231 & 46 & MD      & M & X3064 & DLPFC & SL32231 & 11.94163 & 17.44225 & 19.64170 & 1\\\\\n",
       "\t2 & SL32242 & 32 & Control & M & X3186 & DLPFC & SL32242 & 12.55677 & 17.66988 & 19.58316 & 0\\\\\n",
       "\t3 & SL32243 & 44 & Control & M & X3196 & DLPFC & SL32243 & 13.83048 & 17.66833 & 19.56780 & 0\\\\\n",
       "\t4 & SL32244 & 35 & Control & M & X3275 & DLPFC & SL32244 & 12.17107 & 17.68383 & 19.58203 & 0\\\\\n",
       "\\end{tabular}\n"
      ],
      "text/markdown": [
       "\n",
       "A data.frame: 4 x 11\n",
       "\n",
       "| <!--/--> | V1 &lt;chr&gt; | V2 &lt;int&gt; | V3 &lt;chr&gt; | V4 &lt;chr&gt; | V5 &lt;chr&gt; | V6 &lt;chr&gt; | V1 &lt;chr&gt; | H4C3 &lt;dbl&gt; | PRSS3 &lt;dbl&gt; | TUSC3 &lt;dbl&gt; | Group &lt;dbl&gt; |\n",
       "|---|---|---|---|---|---|---|---|---|---|---|---|\n",
       "| 1 | SL32231 | 46 | MD      | M | X3064 | DLPFC | SL32231 | 11.94163 | 17.44225 | 19.64170 | 1 |\n",
       "| 2 | SL32242 | 32 | Control | M | X3186 | DLPFC | SL32242 | 12.55677 | 17.66988 | 19.58316 | 0 |\n",
       "| 3 | SL32243 | 44 | Control | M | X3196 | DLPFC | SL32243 | 13.83048 | 17.66833 | 19.56780 | 0 |\n",
       "| 4 | SL32244 | 35 | Control | M | X3275 | DLPFC | SL32244 | 12.17107 | 17.68383 | 19.58203 | 0 |\n",
       "\n"
      ],
      "text/plain": [
       "  V1      V2 V3      V4 V5    V6    V1      H4C3     PRSS3    TUSC3    Group\n",
       "1 SL32231 46 MD      M  X3064 DLPFC SL32231 11.94163 17.44225 19.64170 1    \n",
       "2 SL32242 32 Control M  X3186 DLPFC SL32242 12.55677 17.66988 19.58316 0    \n",
       "3 SL32243 44 Control M  X3196 DLPFC SL32243 13.83048 17.66833 19.56780 0    \n",
       "4 SL32244 35 Control M  X3275 DLPFC SL32244 12.17107 17.68383 19.58203 0    "
      ]
     },
     "metadata": {},
     "output_type": "display_data"
    }
   ],
   "source": [
    "head(data,4)"
   ]
  },
  {
   "cell_type": "code",
   "execution_count": 117,
   "id": "219e3b9d-0405-43aa-b44c-224bf3aba32f",
   "metadata": {},
   "outputs": [],
   "source": [
    "fold_pre <- glm(Group~PRSS3+TUSC3,data=data,family=binomial())\n",
    "\n",
    "fold_predict <- predict(fold_pre,type='response',newdata=data)\n",
    "\n",
    "options(repr.plot.width = 6)"
   ]
  },
  {
   "cell_type": "code",
   "execution_count": 118,
   "id": "d9be5fee-f79b-41f9-a792-9d5a108d4208",
   "metadata": {},
   "outputs": [
    {
     "name": "stderr",
     "output_type": "stream",
     "text": [
      "Setting levels: control = 0, case = 1\n",
      "\n",
      "Setting direction: controls < cases\n",
      "\n"
     ]
    },
    {
     "data": {
      "image/png": "[encoded data removed]",
      "text/plain": [
       "Plot with title \"\""
      ]
     },
     "metadata": {
      "image/png": {
       "height": 420,
       "width": 360
      }
     },
     "output_type": "display_data"
    }
   ],
   "source": [
    "roc_curve <- pROC::roc(as.numeric(data$Group),fold_predict)\n",
    "plot(roc_curve, print.auc=TRUE, auc.polygon=TRUE, grid=c(0.1, 0.2),\n",
    "     grid.col=c(\"green\", \"red\"), max.auc.polygon=TRUE,\n",
    "     auc.polygon.col=\"skyblue\", print.thres=TRUE,main=\"\")"
   ]
  },
  {
   "cell_type": "code",
   "execution_count": 132,
   "id": "5e7dec69-f984-4a7b-b42d-cac3ac264ea8",
   "metadata": {},
   "outputs": [
    {
     "data": {
      "text/html": [
       "<table class=\"dataframe\">\n",
       "<caption>A data.frame: 2 x 11</caption>\n",
       "<thead>\n",
       "\t<tr><th></th><th scope=col>V1</th><th scope=col>V2</th><th scope=col>V3</th><th scope=col>V4</th><th scope=col>V5</th><th scope=col>V6</th><th scope=col>V1</th><th scope=col>H4C3</th><th scope=col>PRSS3</th><th scope=col>TUSC3</th><th scope=col>Group</th></tr>\n",
       "\t<tr><th></th><th scope=col>&lt;chr&gt;</th><th scope=col>&lt;int&gt;</th><th scope=col>&lt;chr&gt;</th><th scope=col>&lt;chr&gt;</th><th scope=col>&lt;chr&gt;</th><th scope=col>&lt;chr&gt;</th><th scope=col>&lt;chr&gt;</th><th scope=col>&lt;dbl&gt;</th><th scope=col>&lt;dbl&gt;</th><th scope=col>&lt;dbl&gt;</th><th scope=col>&lt;dbl&gt;</th></tr>\n",
       "</thead>\n",
       "<tbody>\n",
       "\t<tr><th scope=row>1</th><td>SL32231</td><td>46</td><td>MD     </td><td>M</td><td>X3064</td><td>DLPFC</td><td>SL32231</td><td>11.94163</td><td>17.44225</td><td>19.64170</td><td>1</td></tr>\n",
       "\t<tr><th scope=row>2</th><td>SL32242</td><td>32</td><td>Control</td><td>M</td><td>X3186</td><td>DLPFC</td><td>SL32242</td><td>12.55677</td><td>17.66988</td><td>19.58316</td><td>0</td></tr>\n",
       "</tbody>\n",
       "</table>\n"
      ],
      "text/latex": [
       "A data.frame: 2 x 11\n",
       "\\begin{tabular}{r|lllllllllll}\n",
       "  & V1 & V2 & V3 & V4 & V5 & V6 & V1 & H4C3 & PRSS3 & TUSC3 & Group\\\\\n",
       "  & <chr> & <int> & <chr> & <chr> & <chr> & <chr> & <chr> & <dbl> & <dbl> & <dbl> & <dbl>\\\\\n",
       "\\hline\n",
       "\t1 & SL32231 & 46 & MD      & M & X3064 & DLPFC & SL32231 & 11.94163 & 17.44225 & 19.64170 & 1\\\\\n",
       "\t2 & SL32242 & 32 & Control & M & X3186 & DLPFC & SL32242 & 12.55677 & 17.66988 & 19.58316 & 0\\\\\n",
       "\\end{tabular}\n"
      ],
      "text/markdown": [
       "\n",
       "A data.frame: 2 x 11\n",
       "\n",
       "| <!--/--> | V1 &lt;chr&gt; | V2 &lt;int&gt; | V3 &lt;chr&gt; | V4 &lt;chr&gt; | V5 &lt;chr&gt; | V6 &lt;chr&gt; | V1 &lt;chr&gt; | H4C3 &lt;dbl&gt; | PRSS3 &lt;dbl&gt; | TUSC3 &lt;dbl&gt; | Group &lt;dbl&gt; |\n",
       "|---|---|---|---|---|---|---|---|---|---|---|---|\n",
       "| 1 | SL32231 | 46 | MD      | M | X3064 | DLPFC | SL32231 | 11.94163 | 17.44225 | 19.64170 | 1 |\n",
       "| 2 | SL32242 | 32 | Control | M | X3186 | DLPFC | SL32242 | 12.55677 | 17.66988 | 19.58316 | 0 |\n",
       "\n"
      ],
      "text/plain": [
       "  V1      V2 V3      V4 V5    V6    V1      H4C3     PRSS3    TUSC3    Group\n",
       "1 SL32231 46 MD      M  X3064 DLPFC SL32231 11.94163 17.44225 19.64170 1    \n",
       "2 SL32242 32 Control M  X3186 DLPFC SL32242 12.55677 17.66988 19.58316 0    "
      ]
     },
     "metadata": {},
     "output_type": "display_data"
    }
   ],
   "source": [
    "head(data,2)"
   ]
  },
  {
   "cell_type": "code",
   "execution_count": 133,
   "id": "aba959d4-f806-4ee5-a8cd-524b7496f410",
   "metadata": {},
   "outputs": [],
   "source": [
    "fold_pre <- glm(Group~H4C3+TUSC3+PRSS3,data=data,family=binomial())\n",
    "fold_predict <- predict(fold_pre,type='response',newdata=data)"
   ]
  },
  {
   "cell_type": "code",
   "execution_count": 134,
   "id": "1d8c356c-1333-49c7-8c45-bbaae711878c",
   "metadata": {},
   "outputs": [
    {
     "name": "stderr",
     "output_type": "stream",
     "text": [
      "Type 'citation(\"pROC\")' for a citation.\n",
      "\n",
      "\n",
      "Attaching package: 'pROC'\n",
      "\n",
      "\n",
      "The following objects are masked from 'package:stats':\n",
      "\n",
      "    cov, smooth, var\n",
      "\n",
      "\n"
     ]
    }
   ],
   "source": [
    "library(pROC)"
   ]
  },
  {
   "cell_type": "code",
   "execution_count": 138,
   "id": "a2d4330d-bed0-41e5-ad92-94b5aced40dc",
   "metadata": {},
   "outputs": [
    {
     "data": {
      "text/html": [
       "<strong>png:</strong> 2"
      ],
      "text/latex": [
       "\\textbf{png:} 2"
      ],
      "text/markdown": [
       "**png:** 2"
      ],
      "text/plain": [
       "png \n",
       "  2 "
      ]
     },
     "metadata": {},
     "output_type": "display_data"
    }
   ],
   "source": [
    "pdf('./figure/fig7.testset1.roc.pdf',width = 6,height = 6)\n",
    "rocobj1 <- plot.roc(data$Group, data$H4C3,percent=TRUE, levels=c(1,0),direction=\"<\",col=\"#1c61b6\")\n",
    "rocobj2 <- lines.roc(data$Group, data$PRSS3,percent=TRUE, levels=c(1,0),direction=\"<\", col=\"#008600\")\n",
    "rocobj3 <- lines.roc(data$Group, data$TUSC3,percent=TRUE, levels=c(0,1),direction=\"<\", col=\"#9C6D35\")\n",
    "rocobj5 <- lines.roc(data$Group, fold_predict,percent=TRUE, levels=c(0,1),direction=\"<\", col=\"#9F1A70\")\n",
    "legend(\"topleft\", legend=c(paste0(\"H4C3 \", round(rocobj1$auc/100,digits = 2)),\n",
    "                               paste0(\"PRSS3 \", round(rocobj2$auc/100,digits = 2)),\n",
    "                               paste0(\"TUSC3 \", round(rocobj3$auc/100,digits = 2)),\n",
    "                               paste0(\"model_predict \", round(rocobj5$auc/100,digits = 2))),\n",
    "       col=c(\"#1c61b6\", \"#008600\",\"#9C6D35\",\"#9F1A70\"), lwd=1)\n",
    "dev.off()"
   ]
  },
  {
   "cell_type": "code",
   "execution_count": null,
   "id": "326f81d0-4625-4420-bbae-df49c4cbf001",
   "metadata": {},
   "outputs": [],
   "source": []
  },
  {
   "cell_type": "code",
   "execution_count": null,
   "id": "75ddc086-38aa-4773-9d92-03b87d5237ba",
   "metadata": {},
   "outputs": [],
   "source": []
  },
  {
   "cell_type": "code",
   "execution_count": null,
   "id": "7434e137-5f47-4836-80dd-580bd3371370",
   "metadata": {},
   "outputs": [],
   "source": []
  },
  {
   "cell_type": "code",
   "execution_count": null,
   "id": "8d694a61-9d80-43fa-aaa8-80f963136eec",
   "metadata": {},
   "outputs": [],
   "source": []
  },
  {
   "cell_type": "code",
   "execution_count": null,
   "id": "272722a1-f27c-4425-82c5-07b585fcff34",
   "metadata": {},
   "outputs": [],
   "source": []
  },
  {
   "cell_type": "code",
   "execution_count": null,
   "id": "3fff90e1-4ee1-4fc8-9637-f66d9933a21a",
   "metadata": {},
   "outputs": [],
   "source": []
  },
  {
   "cell_type": "code",
   "execution_count": null,
   "id": "dd7abf87-8378-45a7-be06-0ba789ff3b75",
   "metadata": {},
   "outputs": [],
   "source": []
  },
  {
   "cell_type": "code",
   "execution_count": null,
   "id": "9cb53b72-bafb-4734-91f6-090b54934e5d",
   "metadata": {},
   "outputs": [],
   "source": []
  },
  {
   "cell_type": "code",
   "execution_count": null,
   "id": "19a67860-b12d-474d-8f81-dde0f635bc78",
   "metadata": {},
   "outputs": [],
   "source": []
  }
 ],
 "metadata": {
  "kernelspec": {
   "display_name": "R",
   "language": "R",
   "name": "ir"
  },
  "language_info": {
   "codemirror_mode": "r",
   "file_extension": ".r",
   "mimetype": "text/x-r-source",
   "name": "R",
   "pygments_lexer": "r",
   "version": "4.2.1"
  }
 },
 "nbformat": 4,
 "nbformat_minor": 5
}
