{
 "cells": [
  {
   "cell_type": "code",
   "execution_count": null,
   "id": "971e09f1-f071-4564-85c1-020f674d89f1",
   "metadata": {},
   "outputs": [],
   "source": [
    "# https://zhuanlan.zhihu.com/p/692810462 RF\n",
    "# https://zhuanlan.zhihu.com/p/692505141 SVM\n",
    "\n",
    "# https://zhuanlan.zhihu.com/p/112009086 Xboost"
   ]
  },
  {
   "cell_type": "code",
   "execution_count": 1,
   "id": "1d6a9177-4dba-46f0-a5b1-9215198d26d2",
   "metadata": {},
   "outputs": [],
   "source": [
    "setwd('/import/DB/fel/BJTC-204')"
   ]
  },
  {
   "cell_type": "code",
   "execution_count": 2,
   "id": "ecd3eec1-6df3-454d-8d69-e70bfabc5467",
   "metadata": {},
   "outputs": [
    {
     "name": "stderr",
     "output_type": "stream",
     "text": [
      "\n",
      "Attaching package: 'dplyr'\n",
      "\n",
      "\n",
      "The following objects are masked from 'package:stats':\n",
      "\n",
      "    filter, lag\n",
      "\n",
      "\n",
      "The following objects are masked from 'package:base':\n",
      "\n",
      "    intersect, setdiff, setequal, union\n",
      "\n",
      "\n"
     ]
    }
   ],
   "source": [
    "library(dplyr)"
   ]
  },
  {
   "cell_type": "code",
   "execution_count": 3,
   "id": "fbb4f4b2-674b-49a0-8fe0-7270c6b682b1",
   "metadata": {},
   "outputs": [],
   "source": [
    "load('jiaocha.rda')"
   ]
  },
  {
   "cell_type": "code",
   "execution_count": 4,
   "id": "6244386f-b05a-4d2c-80f9-90c86252e712",
   "metadata": {},
   "outputs": [],
   "source": [
    "load('./exp4.rda')"
   ]
  },
  {
   "cell_type": "code",
   "execution_count": 5,
   "id": "88638e37-0b78-4c1d-9ff1-cbf414763ede",
   "metadata": {},
   "outputs": [
    {
     "data": {
      "text/html": [
       "<style>\n",
       ".list-inline {list-style: none; margin:0; padding: 0}\n",
       ".list-inline>li {display: inline-block}\n",
       ".list-inline>li:not(:last-child)::after {content: \"\\00b7\"; padding: 0 .5ex}\n",
       "</style>\n",
       "<ol class=list-inline><li>251</li><li>11882</li></ol>\n"
      ],
      "text/latex": [
       "\\begin{enumerate*}\n",
       "\\item 251\n",
       "\\item 11882\n",
       "\\end{enumerate*}\n"
      ],
      "text/markdown": [
       "1. 251\n",
       "2. 11882\n",
       "\n",
       "\n"
      ],
      "text/plain": [
       "[1]   251 11882"
      ]
     },
     "metadata": {},
     "output_type": "display_data"
    }
   ],
   "source": [
    "dim(exp4)"
   ]
  },
  {
   "cell_type": "code",
   "execution_count": 6,
   "id": "1b0f890a-a201-4164-b83e-ddc2e3663710",
   "metadata": {},
   "outputs": [],
   "source": [
    "exp4 = exp4 %>%  dplyr::filter(Gender == 'F')"
   ]
  },
  {
   "cell_type": "code",
   "execution_count": 7,
   "id": "b611afe1-5487-49bb-ac85-cb813cd566f4",
   "metadata": {},
   "outputs": [],
   "source": [
    "colnames(exp4) = gsub('-','.',colnames(exp4))"
   ]
  },
  {
   "cell_type": "code",
   "execution_count": 8,
   "id": "e514356c-7101-4341-87fe-dad9def060c5",
   "metadata": {},
   "outputs": [],
   "source": [
    "expr = exp4[,gene]"
   ]
  },
  {
   "cell_type": "code",
   "execution_count": 9,
   "id": "d998c234-fad7-4f3b-9e93-e68e21449f9f",
   "metadata": {},
   "outputs": [],
   "source": [
    "#expr[,1:dim(expr)[2]] = 2^expr[,1:dim(expr)[2]] -1"
   ]
  },
  {
   "cell_type": "code",
   "execution_count": 10,
   "id": "d974673f-c009-41e4-8d2d-3a5e700bcbf0",
   "metadata": {},
   "outputs": [
    {
     "data": {
      "text/html": [
       "<table class=\"dataframe\">\n",
       "<caption>A data.frame: 6 x 15</caption>\n",
       "<thead>\n",
       "\t<tr><th></th><th scope=col>NELL1</th><th scope=col>ATP1A3</th><th scope=col>TUSC3</th><th scope=col>ARHGDIG</th><th scope=col>RIT2</th><th scope=col>SYNGR3</th><th scope=col>VPS24</th><th scope=col>SLC17A7</th><th scope=col>DYNC1I1</th><th scope=col>GABRD</th><th scope=col>HMP19</th><th scope=col>SYN2</th><th scope=col>SNCA</th><th scope=col>KANK1</th><th scope=col>EFEMP1</th></tr>\n",
       "\t<tr><th></th><th scope=col>&lt;dbl&gt;</th><th scope=col>&lt;dbl&gt;</th><th scope=col>&lt;dbl&gt;</th><th scope=col>&lt;dbl&gt;</th><th scope=col>&lt;dbl&gt;</th><th scope=col>&lt;dbl&gt;</th><th scope=col>&lt;dbl&gt;</th><th scope=col>&lt;dbl&gt;</th><th scope=col>&lt;dbl&gt;</th><th scope=col>&lt;dbl&gt;</th><th scope=col>&lt;dbl&gt;</th><th scope=col>&lt;dbl&gt;</th><th scope=col>&lt;dbl&gt;</th><th scope=col>&lt;dbl&gt;</th><th scope=col>&lt;dbl&gt;</th></tr>\n",
       "</thead>\n",
       "<tbody>\n",
       "\t<tr><th scope=row>GSM2431722</th><td>8.304016</td><td>9.872626</td><td>8.570839</td><td>7.727875</td><td>7.539754</td><td> 9.933649</td><td>8.835578</td><td>10.677481</td><td>10.090803</td><td>8.329239</td><td>8.997674</td><td>8.079039</td><td>9.167517</td><td>6.534378</td><td>6.597629</td></tr>\n",
       "\t<tr><th scope=row>GSM2431723</th><td>7.630688</td><td>9.709823</td><td>7.489778</td><td>7.292288</td><td>6.437364</td><td> 9.232187</td><td>8.232946</td><td>10.253215</td><td> 8.867888</td><td>7.592199</td><td>8.414642</td><td>7.591873</td><td>8.746311</td><td>7.766308</td><td>7.106844</td></tr>\n",
       "\t<tr><th scope=row>GSM2431739</th><td>6.641291</td><td>6.871878</td><td>6.765189</td><td>6.634413</td><td>5.685428</td><td> 7.764892</td><td>6.419924</td><td> 7.827889</td><td> 7.155203</td><td>6.548195</td><td>7.868026</td><td>6.000877</td><td>6.811110</td><td>8.866358</td><td>6.766664</td></tr>\n",
       "\t<tr><th scope=row>GSM2431740</th><td>6.135278</td><td>7.280696</td><td>6.706572</td><td>6.625735</td><td>5.761892</td><td> 7.558217</td><td>6.757206</td><td> 8.324710</td><td> 7.071553</td><td>6.095389</td><td>7.261486</td><td>6.283522</td><td>7.350547</td><td>8.898761</td><td>7.406551</td></tr>\n",
       "\t<tr><th scope=row>GSM2431745</th><td>7.539996</td><td>9.339183</td><td>8.170927</td><td>8.210610</td><td>6.909779</td><td>10.021387</td><td>8.480254</td><td>10.481127</td><td> 9.445961</td><td>7.869556</td><td>9.118892</td><td>7.027284</td><td>8.822832</td><td>7.925291</td><td>6.889049</td></tr>\n",
       "\t<tr><th scope=row>GSM2431749</th><td>6.867441</td><td>9.278023</td><td>7.591933</td><td>8.094967</td><td>6.415608</td><td> 9.751884</td><td>7.851279</td><td> 9.927319</td><td> 8.859966</td><td>7.070200</td><td>9.054054</td><td>6.920424</td><td>8.136515</td><td>8.230120</td><td>8.490316</td></tr>\n",
       "</tbody>\n",
       "</table>\n"
      ],
      "text/latex": [
       "A data.frame: 6 x 15\n",
       "\\begin{tabular}{r|lllllllllllllll}\n",
       "  & NELL1 & ATP1A3 & TUSC3 & ARHGDIG & RIT2 & SYNGR3 & VPS24 & SLC17A7 & DYNC1I1 & GABRD & HMP19 & SYN2 & SNCA & KANK1 & EFEMP1\\\\\n",
       "  & <dbl> & <dbl> & <dbl> & <dbl> & <dbl> & <dbl> & <dbl> & <dbl> & <dbl> & <dbl> & <dbl> & <dbl> & <dbl> & <dbl> & <dbl>\\\\\n",
       "\\hline\n",
       "\tGSM2431722 & 8.304016 & 9.872626 & 8.570839 & 7.727875 & 7.539754 &  9.933649 & 8.835578 & 10.677481 & 10.090803 & 8.329239 & 8.997674 & 8.079039 & 9.167517 & 6.534378 & 6.597629\\\\\n",
       "\tGSM2431723 & 7.630688 & 9.709823 & 7.489778 & 7.292288 & 6.437364 &  9.232187 & 8.232946 & 10.253215 &  8.867888 & 7.592199 & 8.414642 & 7.591873 & 8.746311 & 7.766308 & 7.106844\\\\\n",
       "\tGSM2431739 & 6.641291 & 6.871878 & 6.765189 & 6.634413 & 5.685428 &  7.764892 & 6.419924 &  7.827889 &  7.155203 & 6.548195 & 7.868026 & 6.000877 & 6.811110 & 8.866358 & 6.766664\\\\\n",
       "\tGSM2431740 & 6.135278 & 7.280696 & 6.706572 & 6.625735 & 5.761892 &  7.558217 & 6.757206 &  8.324710 &  7.071553 & 6.095389 & 7.261486 & 6.283522 & 7.350547 & 8.898761 & 7.406551\\\\\n",
       "\tGSM2431745 & 7.539996 & 9.339183 & 8.170927 & 8.210610 & 6.909779 & 10.021387 & 8.480254 & 10.481127 &  9.445961 & 7.869556 & 9.118892 & 7.027284 & 8.822832 & 7.925291 & 6.889049\\\\\n",
       "\tGSM2431749 & 6.867441 & 9.278023 & 7.591933 & 8.094967 & 6.415608 &  9.751884 & 7.851279 &  9.927319 &  8.859966 & 7.070200 & 9.054054 & 6.920424 & 8.136515 & 8.230120 & 8.490316\\\\\n",
       "\\end{tabular}\n"
      ],
      "text/markdown": [
       "\n",
       "A data.frame: 6 x 15\n",
       "\n",
       "| <!--/--> | NELL1 &lt;dbl&gt; | ATP1A3 &lt;dbl&gt; | TUSC3 &lt;dbl&gt; | ARHGDIG &lt;dbl&gt; | RIT2 &lt;dbl&gt; | SYNGR3 &lt;dbl&gt; | VPS24 &lt;dbl&gt; | SLC17A7 &lt;dbl&gt; | DYNC1I1 &lt;dbl&gt; | GABRD &lt;dbl&gt; | HMP19 &lt;dbl&gt; | SYN2 &lt;dbl&gt; | SNCA &lt;dbl&gt; | KANK1 &lt;dbl&gt; | EFEMP1 &lt;dbl&gt; |\n",
       "|---|---|---|---|---|---|---|---|---|---|---|---|---|---|---|---|\n",
       "| GSM2431722 | 8.304016 | 9.872626 | 8.570839 | 7.727875 | 7.539754 |  9.933649 | 8.835578 | 10.677481 | 10.090803 | 8.329239 | 8.997674 | 8.079039 | 9.167517 | 6.534378 | 6.597629 |\n",
       "| GSM2431723 | 7.630688 | 9.709823 | 7.489778 | 7.292288 | 6.437364 |  9.232187 | 8.232946 | 10.253215 |  8.867888 | 7.592199 | 8.414642 | 7.591873 | 8.746311 | 7.766308 | 7.106844 |\n",
       "| GSM2431739 | 6.641291 | 6.871878 | 6.765189 | 6.634413 | 5.685428 |  7.764892 | 6.419924 |  7.827889 |  7.155203 | 6.548195 | 7.868026 | 6.000877 | 6.811110 | 8.866358 | 6.766664 |\n",
       "| GSM2431740 | 6.135278 | 7.280696 | 6.706572 | 6.625735 | 5.761892 |  7.558217 | 6.757206 |  8.324710 |  7.071553 | 6.095389 | 7.261486 | 6.283522 | 7.350547 | 8.898761 | 7.406551 |\n",
       "| GSM2431745 | 7.539996 | 9.339183 | 8.170927 | 8.210610 | 6.909779 | 10.021387 | 8.480254 | 10.481127 |  9.445961 | 7.869556 | 9.118892 | 7.027284 | 8.822832 | 7.925291 | 6.889049 |\n",
       "| GSM2431749 | 6.867441 | 9.278023 | 7.591933 | 8.094967 | 6.415608 |  9.751884 | 7.851279 |  9.927319 |  8.859966 | 7.070200 | 9.054054 | 6.920424 | 8.136515 | 8.230120 | 8.490316 |\n",
       "\n"
      ],
      "text/plain": [
       "           NELL1    ATP1A3   TUSC3    ARHGDIG  RIT2     SYNGR3    VPS24   \n",
       "GSM2431722 8.304016 9.872626 8.570839 7.727875 7.539754  9.933649 8.835578\n",
       "GSM2431723 7.630688 9.709823 7.489778 7.292288 6.437364  9.232187 8.232946\n",
       "GSM2431739 6.641291 6.871878 6.765189 6.634413 5.685428  7.764892 6.419924\n",
       "GSM2431740 6.135278 7.280696 6.706572 6.625735 5.761892  7.558217 6.757206\n",
       "GSM2431745 7.539996 9.339183 8.170927 8.210610 6.909779 10.021387 8.480254\n",
       "GSM2431749 6.867441 9.278023 7.591933 8.094967 6.415608  9.751884 7.851279\n",
       "           SLC17A7   DYNC1I1   GABRD    HMP19    SYN2     SNCA     KANK1   \n",
       "GSM2431722 10.677481 10.090803 8.329239 8.997674 8.079039 9.167517 6.534378\n",
       "GSM2431723 10.253215  8.867888 7.592199 8.414642 7.591873 8.746311 7.766308\n",
       "GSM2431739  7.827889  7.155203 6.548195 7.868026 6.000877 6.811110 8.866358\n",
       "GSM2431740  8.324710  7.071553 6.095389 7.261486 6.283522 7.350547 8.898761\n",
       "GSM2431745 10.481127  9.445961 7.869556 9.118892 7.027284 8.822832 7.925291\n",
       "GSM2431749  9.927319  8.859966 7.070200 9.054054 6.920424 8.136515 8.230120\n",
       "           EFEMP1  \n",
       "GSM2431722 6.597629\n",
       "GSM2431723 7.106844\n",
       "GSM2431739 6.766664\n",
       "GSM2431740 7.406551\n",
       "GSM2431745 6.889049\n",
       "GSM2431749 8.490316"
      ]
     },
     "metadata": {},
     "output_type": "display_data"
    }
   ],
   "source": [
    "head(expr)"
   ]
  },
  {
   "cell_type": "code",
   "execution_count": 11,
   "id": "9094d06f-2ce7-40b7-a108-d8a68ad0e763",
   "metadata": {},
   "outputs": [],
   "source": [
    "type = exp4$TYPE"
   ]
  },
  {
   "cell_type": "code",
   "execution_count": 12,
   "id": "2eee39b6-631b-4401-b95b-2af80621cebb",
   "metadata": {},
   "outputs": [],
   "source": [
    "type = ifelse(type == 'MDD',1,0)"
   ]
  },
  {
   "cell_type": "code",
   "execution_count": 13,
   "id": "795e5c30-f515-4e7d-ac50-c9ca29d76412",
   "metadata": {},
   "outputs": [],
   "source": [
    "y = type"
   ]
  },
  {
   "cell_type": "code",
   "execution_count": 14,
   "id": "eaa19a78-9513-4174-8505-83793a58cd4f",
   "metadata": {},
   "outputs": [],
   "source": [
    "colnames(expr) = gsub('-','.',colnames(expr))"
   ]
  },
  {
   "cell_type": "code",
   "execution_count": 15,
   "id": "001f3957-9628-4e71-8f3c-da98bbc95760",
   "metadata": {},
   "outputs": [],
   "source": [
    "expr <- expr[, !grepl(\"^\\\\d+\", names(expr))]"
   ]
  },
  {
   "cell_type": "code",
   "execution_count": 16,
   "id": "a6b9699b-d802-4efa-9213-675cea538c7f",
   "metadata": {},
   "outputs": [],
   "source": [
    "library(dplyr)"
   ]
  },
  {
   "cell_type": "code",
   "execution_count": 17,
   "id": "ab65721e-6b86-41ef-a50f-a498981a0e4c",
   "metadata": {},
   "outputs": [],
   "source": [
    "x = as.matrix(expr)\n",
    "y = y"
   ]
  },
  {
   "cell_type": "code",
   "execution_count": 18,
   "id": "169ffec6-1642-4189-bf9d-15da56264520",
   "metadata": {},
   "outputs": [
    {
     "name": "stderr",
     "output_type": "stream",
     "text": [
      "Warning message:\n",
      "\"package 'randomForest' was built under R version 4.2.3\"\n",
      "randomForest 4.7-1.1\n",
      "\n",
      "Type rfNews() to see new features/changes/bug fixes.\n",
      "\n",
      "\n",
      "Attaching package: 'randomForest'\n",
      "\n",
      "\n",
      "The following object is masked from 'package:dplyr':\n",
      "\n",
      "    combine\n",
      "\n",
      "\n"
     ]
    }
   ],
   "source": [
    "library(randomForest)"
   ]
  },
  {
   "cell_type": "code",
   "execution_count": 19,
   "id": "52d76d0a-8f60-473e-a3e5-8c684414853a",
   "metadata": {},
   "outputs": [
    {
     "data": {
      "text/html": [
       "<strong>png:</strong> 2"
      ],
      "text/latex": [
       "\\textbf{png:} 2"
      ],
      "text/markdown": [
       "**png:** 2"
      ],
      "text/plain": [
       "png \n",
       "  2 "
      ]
     },
     "metadata": {},
     "output_type": "display_data"
    },
    {
     "data": {
      "image/png": "[encoded data removed]",
      "text/plain": [
       "Plot with title \"rf\""
      ]
     },
     "metadata": {
      "image/png": {
       "height": 420,
       "width": 420
      }
     },
     "output_type": "display_data"
    }
   ],
   "source": [
    "set.seed(000)\n",
    "rf = randomForest(as.factor(y)~.,data = x,ntree =1000,important=TRUE,proximity=TRUE)\n",
    "plot(rf)\n",
    "pdf('forest.pdf',height = 6,width = 6)\n",
    "plot(rf)\n",
    "dev.off()"
   ]
  },
  {
   "cell_type": "code",
   "execution_count": 20,
   "id": "24846125-9d6c-40cc-bec2-4589f3efc1c7",
   "metadata": {},
   "outputs": [
    {
     "data": {
      "text/html": [
       "<strong>png:</strong> 2"
      ],
      "text/latex": [
       "\\textbf{png:} 2"
      ],
      "text/markdown": [
       "**png:** 2"
      ],
      "text/plain": [
       "png \n",
       "  2 "
      ]
     },
     "metadata": {},
     "output_type": "display_data"
    },
    {
     "data": {
      "text/html": [
       "<style>\n",
       ".dl-inline {width: auto; margin:0; padding: 0}\n",
       ".dl-inline>dt, .dl-inline>dd {float: none; width: auto; display: inline-block}\n",
       ".dl-inline>dt::after {content: \":\\0020\"; padding-right: .5ex}\n",
       ".dl-inline>dt:not(:first-of-type) {padding-left: .5ex}\n",
       "</style><dl class=dl-inline><dt>GABRD</dt><dd>3.72599426487303</dd><dt>DYNC1I1</dt><dd>2.87115575399898</dd><dt>ATP1A3</dt><dd>1.83442813793062</dd><dt>RIT2</dt><dd>1.75674782536991</dd><dt>NELL1</dt><dd>1.63477618927452</dd><dt>VPS24</dt><dd>1.46576725117313</dd><dt>TUSC3</dt><dd>1.44966214953417</dd><dt>EFEMP1</dt><dd>1.36707315081139</dd><dt>SLC17A7</dt><dd>1.34034646324674</dd><dt>ARHGDIG</dt><dd>1.18353106060804</dd><dt>HMP19</dt><dd>1.04877145429063</dd><dt>KANK1</dt><dd>1.01161350391808</dd><dt>SYN2</dt><dd>0.972846722763095</dd><dt>SYNGR3</dt><dd>0.876913521261347</dd><dt>SNCA</dt><dd>0.519388944388944</dd></dl>\n"
      ],
      "text/latex": [
       "\\begin{description*}\n",
       "\\item[GABRD] 3.72599426487303\n",
       "\\item[DYNC1I1] 2.87115575399898\n",
       "\\item[ATP1A3] 1.83442813793062\n",
       "\\item[RIT2] 1.75674782536991\n",
       "\\item[NELL1] 1.63477618927452\n",
       "\\item[VPS24] 1.46576725117313\n",
       "\\item[TUSC3] 1.44966214953417\n",
       "\\item[EFEMP1] 1.36707315081139\n",
       "\\item[SLC17A7] 1.34034646324674\n",
       "\\item[ARHGDIG] 1.18353106060804\n",
       "\\item[HMP19] 1.04877145429063\n",
       "\\item[KANK1] 1.01161350391808\n",
       "\\item[SYN2] 0.972846722763095\n",
       "\\item[SYNGR3] 0.876913521261347\n",
       "\\item[SNCA] 0.519388944388944\n",
       "\\end{description*}\n"
      ],
      "text/markdown": [
       "GABRD\n",
       ":   3.72599426487303DYNC1I1\n",
       ":   2.87115575399898ATP1A3\n",
       ":   1.83442813793062RIT2\n",
       ":   1.75674782536991NELL1\n",
       ":   1.63477618927452VPS24\n",
       ":   1.46576725117313TUSC3\n",
       ":   1.44966214953417EFEMP1\n",
       ":   1.36707315081139SLC17A7\n",
       ":   1.34034646324674ARHGDIG\n",
       ":   1.18353106060804HMP19\n",
       ":   1.04877145429063KANK1\n",
       ":   1.01161350391808SYN2\n",
       ":   0.972846722763095SYNGR3\n",
       ":   0.876913521261347SNCA\n",
       ":   0.519388944388944\n",
       "\n"
      ],
      "text/plain": [
       "    GABRD   DYNC1I1    ATP1A3      RIT2     NELL1     VPS24     TUSC3    EFEMP1 \n",
       "3.7259943 2.8711558 1.8344281 1.7567478 1.6347762 1.4657673 1.4496621 1.3670732 \n",
       "  SLC17A7   ARHGDIG     HMP19     KANK1      SYN2    SYNGR3      SNCA \n",
       "1.3403465 1.1835311 1.0487715 1.0116135 0.9728467 0.8769135 0.5193889 "
      ]
     },
     "metadata": {},
     "output_type": "display_data"
    },
    {
     "data": {
      "image/png": "[encoded data removed]",
      "text/plain": [
       "Plot with title \"\""
      ]
     },
     "metadata": {
      "image/png": {
       "height": 420,
       "width": 240
      }
     },
     "output_type": "display_data"
    }
   ],
   "source": [
    "\n",
    "\n",
    "trees = which.min(rf$err.rate[,1])\n",
    "\n",
    "rf = randomForest(as.factor(y)~.,data = x,ntree =trees,important=TRUE,proximity=TRUE)\n",
    "\n",
    "importance = importance(rf)\n",
    "\n",
    "pdf('forest2.pdf',height = 6,width = 4)\n",
    "varImpPlot(rf,main = '')\n",
    "dev.off()\n",
    "\n",
    "# RPE65 + MC3R+NFIL3 + PRF1 + IL6\n",
    "\n",
    "options(repr.plot.width = 4)\n",
    "\n",
    "varImpPlot(rf,main = '')\n",
    "\n",
    "rfGenes=importance[order(importance[, \"MeanDecreaseGini\"], decreasing  = TRUE),] #重要性评分大于2的基因\n",
    "\n",
    "rfGenes"
   ]
  },
  {
   "cell_type": "code",
   "execution_count": 21,
   "id": "118e60c2-163b-46df-858f-f87c8206303c",
   "metadata": {},
   "outputs": [],
   "source": [
    "# rfGenes=names(rfGenes[rfGenes>30]) \n",
    "# write.table(rfGenes,file=\"rfGenes.txt\",sep=\"\\t\",quote=F,col.names=F,row.names=F) #输出表达量\n",
    "\n",
    "# # expr2 = exp4\n",
    "\n",
    "# # sigExp=expr2[rfGenes,]\n",
    "# # write.table(data.frame(ID=rownames(sigExp),sigExp),file=\"rfGeneExp.txt\",sep=\"\\t\",quote=F,col.names=T,row.names=F) \n",
    "\n",
    "# # rfGenes"
   ]
  },
  {
   "cell_type": "markdown",
   "id": "af18f8e6-2aaf-42ec-a432-c763909b210d",
   "metadata": {},
   "source": [
    "### svm"
   ]
  },
  {
   "cell_type": "code",
   "execution_count": 22,
   "id": "f2a3a6c3-6bb3-4d0d-8c62-0516db9f4130",
   "metadata": {},
   "outputs": [],
   "source": [
    "# library(tidyverse)\n",
    "# library(glmnet)\n",
    "# library(VennDiagram)\n",
    "# library(e1071)\n",
    "# library(caret)\n",
    "# library(randomForest)\n",
    "\n",
    "# x = as.matrix(expr)\n",
    "\n",
    "# y=as.numeric(as.factor(Type))\n",
    "\n",
    "# library(future)\n",
    "# plan(\"multisession\",workers=30)\n",
    "\n",
    "# set.seed(1)\n",
    "# rfeControl = rfeControl(functions = caretFuncs,\n",
    "#                         method = \"cv\", # 默认自助法重采样 boot\n",
    "#                         saveDetails = T, # 保存预测值和变量重要性\n",
    "#                         number = 5, # 重抽样次数\n",
    "#                         allowParallel = T # 允许多线程，用这个之前你要先准备好多线程！\n",
    "#                         )\n",
    "\n",
    "# Profile=rfe(x=x,y=as.factor(y),sizes =c(1:32),\n",
    "#     rfeControl =  rfeControl,\n",
    "#     methods=\"svmRadial\")\n",
    "\n",
    "# Profile\n",
    "\n",
    "# pdf(file=\"SVM-RFE.pdf\", width=6, height=5.5)\n",
    "# par(las=1)\n",
    "# x= Profile$results$Variables \n",
    "# y =Profile$results$RMSE\n",
    "# plot(x, y, xlab=\"Variables\", ylab=\"RMSE (Cross-Validation)\", col=\"darkgreen\") \n",
    "# lines(x, y, col=\"darkgreen\")\n",
    "# wmin=which.min(y) \n",
    "# wmin.x=x[wmin] \n",
    "# wmin.y=y[wmin]\n",
    "# points(wmin.x, wmin.y, col=\"blue\", pch=16)\n",
    "# text(wmin.x, wmin.y, paste0('N=', wmin.x), pos=2, col=2)\n",
    "# dev.off()\n",
    "\n",
    "# par(las=1)\n",
    "# x= Profile$results$Variables \n",
    "# y =Profile$results$RMSE\n",
    "# plot(x, y, xlab=\"Variables\", ylab=\"RMSE (Cross-Validation)\", col=\"darkgreen\") \n",
    "# lines(x, y, col=\"darkgreen\")\n",
    "# wmin=which.min(y) \n",
    "# wmin.x=x[wmin] \n",
    "# wmin.y=y[wmin]\n",
    "# points(wmin.x, wmin.y, col=\"blue\", pch=16)\n",
    "# text(wmin.x, wmin.y, paste0('N=', wmin.x), pos=2, col=2)\n",
    "\n",
    "# #输出\n",
    "# featureGenes = Profile$optVariables\n",
    "# write.table(file=\"SVM-RFE.gene.txt\",featureGenes,sep=\"\\t\",quote=F,row.names=F,col.names=F) #表达矩阵 \n",
    "\n",
    "# featureGenes"
   ]
  },
  {
   "cell_type": "markdown",
   "id": "80a4188a-f4ee-4fc6-8479-542b5b97f5a7",
   "metadata": {},
   "source": [
    "### Boruta"
   ]
  },
  {
   "cell_type": "code",
   "execution_count": 23,
   "id": "56b1f3fc-13fd-47bb-b427-e9a8d45270ab",
   "metadata": {
    "scrolled": true
   },
   "outputs": [
    {
     "data": {
      "text/html": [
       "<style>\n",
       ".list-inline {list-style: none; margin:0; padding: 0}\n",
       ".list-inline>li {display: inline-block}\n",
       ".list-inline>li:not(:last-child)::after {content: \"\\00b7\"; padding: 0 .5ex}\n",
       "</style>\n",
       "<ol class=list-inline><li>0</li><li>0</li><li>0</li><li>0</li><li>0</li><li>0</li><li>0</li><li>1</li><li>0</li><li>0</li><li>1</li><li>0</li><li>1</li><li>0</li><li>1</li><li>1</li><li>0</li><li>0</li><li>0</li><li>0</li><li>0</li><li>0</li><li>0</li><li>0</li><li>0</li><li>0</li><li>0</li><li>0</li><li>0</li><li>0</li><li>0</li><li>0</li><li>0</li><li>1</li><li>0</li><li>0</li><li>1</li><li>0</li><li>0</li><li>1</li><li>0</li><li>1</li><li>1</li><li>1</li><li>0</li><li>0</li><li>0</li><li>0</li><li>0</li><li>0</li><li>0</li><li>0</li><li>0</li><li>0</li><li>0</li><li>0</li><li>1</li><li>1</li><li>1</li><li>1</li><li>1</li></ol>\n"
      ],
      "text/latex": [
       "\\begin{enumerate*}\n",
       "\\item 0\n",
       "\\item 0\n",
       "\\item 0\n",
       "\\item 0\n",
       "\\item 0\n",
       "\\item 0\n",
       "\\item 0\n",
       "\\item 1\n",
       "\\item 0\n",
       "\\item 0\n",
       "\\item 1\n",
       "\\item 0\n",
       "\\item 1\n",
       "\\item 0\n",
       "\\item 1\n",
       "\\item 1\n",
       "\\item 0\n",
       "\\item 0\n",
       "\\item 0\n",
       "\\item 0\n",
       "\\item 0\n",
       "\\item 0\n",
       "\\item 0\n",
       "\\item 0\n",
       "\\item 0\n",
       "\\item 0\n",
       "\\item 0\n",
       "\\item 0\n",
       "\\item 0\n",
       "\\item 0\n",
       "\\item 0\n",
       "\\item 0\n",
       "\\item 0\n",
       "\\item 1\n",
       "\\item 0\n",
       "\\item 0\n",
       "\\item 1\n",
       "\\item 0\n",
       "\\item 0\n",
       "\\item 1\n",
       "\\item 0\n",
       "\\item 1\n",
       "\\item 1\n",
       "\\item 1\n",
       "\\item 0\n",
       "\\item 0\n",
       "\\item 0\n",
       "\\item 0\n",
       "\\item 0\n",
       "\\item 0\n",
       "\\item 0\n",
       "\\item 0\n",
       "\\item 0\n",
       "\\item 0\n",
       "\\item 0\n",
       "\\item 0\n",
       "\\item 1\n",
       "\\item 1\n",
       "\\item 1\n",
       "\\item 1\n",
       "\\item 1\n",
       "\\end{enumerate*}\n"
      ],
      "text/markdown": [
       "1. 0\n",
       "2. 0\n",
       "3. 0\n",
       "4. 0\n",
       "5. 0\n",
       "6. 0\n",
       "7. 0\n",
       "8. 1\n",
       "9. 0\n",
       "10. 0\n",
       "11. 1\n",
       "12. 0\n",
       "13. 1\n",
       "14. 0\n",
       "15. 1\n",
       "16. 1\n",
       "17. 0\n",
       "18. 0\n",
       "19. 0\n",
       "20. 0\n",
       "21. 0\n",
       "22. 0\n",
       "23. 0\n",
       "24. 0\n",
       "25. 0\n",
       "26. 0\n",
       "27. 0\n",
       "28. 0\n",
       "29. 0\n",
       "30. 0\n",
       "31. 0\n",
       "32. 0\n",
       "33. 0\n",
       "34. 1\n",
       "35. 0\n",
       "36. 0\n",
       "37. 1\n",
       "38. 0\n",
       "39. 0\n",
       "40. 1\n",
       "41. 0\n",
       "42. 1\n",
       "43. 1\n",
       "44. 1\n",
       "45. 0\n",
       "46. 0\n",
       "47. 0\n",
       "48. 0\n",
       "49. 0\n",
       "50. 0\n",
       "51. 0\n",
       "52. 0\n",
       "53. 0\n",
       "54. 0\n",
       "55. 0\n",
       "56. 0\n",
       "57. 1\n",
       "58. 1\n",
       "59. 1\n",
       "60. 1\n",
       "61. 1\n",
       "\n",
       "\n"
      ],
      "text/plain": [
       " [1] 0 0 0 0 0 0 0 1 0 0 1 0 1 0 1 1 0 0 0 0 0 0 0 0 0 0 0 0 0 0 0 0 0 1 0 0 1 0\n",
       "[39] 0 1 0 1 1 1 0 0 0 0 0 0 0 0 0 0 0 0 1 1 1 1 1"
      ]
     },
     "metadata": {},
     "output_type": "display_data"
    },
    {
     "data": {
      "text/plain": [
       "Boruta performed 279 iterations in 23.69647 secs.\n",
       " 7 attributes confirmed important: ARHGDIG, ATP1A3, DYNC1I1, GABRD,\n",
       "HMP19 and 2 more;\n",
       " 8 attributes confirmed unimportant: EFEMP1, KANK1, RIT2, SLC17A7, SNCA\n",
       "and 3 more;"
      ]
     },
     "metadata": {},
     "output_type": "display_data"
    },
    {
     "data": {
      "text/plain": [
       "\n",
       "Tentative Confirmed  Rejected \n",
       "        0         7         8 "
      ]
     },
     "metadata": {},
     "output_type": "display_data"
    },
    {
     "data": {
      "text/html": [
       "<style>\n",
       ".dl-inline {width: auto; margin:0; padding: 0}\n",
       ".dl-inline>dt, .dl-inline>dd {float: none; width: auto; display: inline-block}\n",
       ".dl-inline>dt::after {content: \":\\0020\"; padding-right: .5ex}\n",
       ".dl-inline>dt:not(:first-of-type) {padding-left: .5ex}\n",
       "</style><dl class=dl-inline><dt>NELL1</dt><dd>Confirmed</dd><dt>ATP1A3</dt><dd>Confirmed</dd><dt>TUSC3</dt><dd>Confirmed</dd><dt>ARHGDIG</dt><dd>Confirmed</dd><dt>RIT2</dt><dd>Rejected</dd><dt>SYNGR3</dt><dd>Rejected</dd><dt>VPS24</dt><dd>Rejected</dd><dt>SLC17A7</dt><dd>Rejected</dd><dt>DYNC1I1</dt><dd>Confirmed</dd><dt>GABRD</dt><dd>Confirmed</dd><dt>HMP19</dt><dd>Confirmed</dd><dt>SYN2</dt><dd>Rejected</dd><dt>SNCA</dt><dd>Rejected</dd><dt>KANK1</dt><dd>Rejected</dd><dt>EFEMP1</dt><dd>Rejected</dd></dl>\n",
       "\n",
       "<details>\n",
       "\t<summary style=display:list-item;cursor:pointer>\n",
       "\t\t<strong>Levels</strong>:\n",
       "\t</summary>\n",
       "\t<style>\n",
       "\t.list-inline {list-style: none; margin:0; padding: 0}\n",
       "\t.list-inline>li {display: inline-block}\n",
       "\t.list-inline>li:not(:last-child)::after {content: \"\\00b7\"; padding: 0 .5ex}\n",
       "\t</style>\n",
       "\t<ol class=list-inline><li>'Tentative'</li><li>'Confirmed'</li><li>'Rejected'</li></ol>\n",
       "</details>"
      ],
      "text/latex": [
       "\\begin{description*}\n",
       "\\item[NELL1] Confirmed\n",
       "\\item[ATP1A3] Confirmed\n",
       "\\item[TUSC3] Confirmed\n",
       "\\item[ARHGDIG] Confirmed\n",
       "\\item[RIT2] Rejected\n",
       "\\item[SYNGR3] Rejected\n",
       "\\item[VPS24] Rejected\n",
       "\\item[SLC17A7] Rejected\n",
       "\\item[DYNC1I1] Confirmed\n",
       "\\item[GABRD] Confirmed\n",
       "\\item[HMP19] Confirmed\n",
       "\\item[SYN2] Rejected\n",
       "\\item[SNCA] Rejected\n",
       "\\item[KANK1] Rejected\n",
       "\\item[EFEMP1] Rejected\n",
       "\\end{description*}\n",
       "\n",
       "\\emph{Levels}: \\begin{enumerate*}\n",
       "\\item 'Tentative'\n",
       "\\item 'Confirmed'\n",
       "\\item 'Rejected'\n",
       "\\end{enumerate*}\n"
      ],
      "text/markdown": [
       "NELL1\n",
       ":   ConfirmedATP1A3\n",
       ":   ConfirmedTUSC3\n",
       ":   ConfirmedARHGDIG\n",
       ":   ConfirmedRIT2\n",
       ":   RejectedSYNGR3\n",
       ":   RejectedVPS24\n",
       ":   RejectedSLC17A7\n",
       ":   RejectedDYNC1I1\n",
       ":   ConfirmedGABRD\n",
       ":   ConfirmedHMP19\n",
       ":   ConfirmedSYN2\n",
       ":   RejectedSNCA\n",
       ":   RejectedKANK1\n",
       ":   RejectedEFEMP1\n",
       ":   Rejected\n",
       "\n",
       "\n",
       "**Levels**: 1. 'Tentative'\n",
       "2. 'Confirmed'\n",
       "3. 'Rejected'\n",
       "\n",
       "\n"
      ],
      "text/plain": [
       "    NELL1    ATP1A3     TUSC3   ARHGDIG      RIT2    SYNGR3     VPS24   SLC17A7 \n",
       "Confirmed Confirmed Confirmed Confirmed  Rejected  Rejected  Rejected  Rejected \n",
       "  DYNC1I1     GABRD     HMP19      SYN2      SNCA     KANK1    EFEMP1 \n",
       "Confirmed Confirmed Confirmed  Rejected  Rejected  Rejected  Rejected \n",
       "Levels: Tentative Confirmed Rejected"
      ]
     },
     "metadata": {},
     "output_type": "display_data"
    },
    {
     "data": {
      "text/plain": [
       "Boruta performed 279 iterations in 23.69647 secs.\n",
       " 7 attributes confirmed important: ARHGDIG, ATP1A3, DYNC1I1, GABRD,\n",
       "HMP19 and 2 more;\n",
       " 8 attributes confirmed unimportant: EFEMP1, KANK1, RIT2, SLC17A7, SNCA\n",
       "and 3 more;"
      ]
     },
     "metadata": {},
     "output_type": "display_data"
    },
    {
     "data": {
      "image/png": "[encoded data removed]",
      "text/plain": [
       "plot without title"
      ]
     },
     "metadata": {
      "image/png": {
       "height": 420,
       "width": 240
      }
     },
     "output_type": "display_data"
    }
   ],
   "source": [
    "library(Boruta)\n",
    "\n",
    "y\n",
    "\n",
    "set.seed(111)\n",
    "boruta <- Boruta(x=x, y=y, pValue=0.05, mcAdj=T, \n",
    "       maxRuns=300)\n",
    "\n",
    "boruta\n",
    "\n",
    "table(boruta$finalDecision)\n",
    "\n",
    "boruta$finalDecision\n",
    "\n",
    "Boruta::plotImpHistory(boruta)\n",
    "\n",
    "library(dplyr)\n",
    "boruta.imp <- function(x){\n",
    "  imp <- reshape2::melt(x$ImpHistory, na.rm=T)[,-1]\n",
    "  colnames(imp) <- c(\"Variable\",\"Importance\")\n",
    "  imp <- imp[is.finite(imp$Importance),]\n",
    "\n",
    "  variableGrp <- data.frame(Variable=names(x$finalDecision), \n",
    "                            finalDecision=x$finalDecision)\n",
    "\n",
    "  showGrp <- data.frame(Variable=c(\"shadowMax\", \"shadowMean\", \"shadowMin\"),\n",
    "                        finalDecision=c(\"shadowMax\", \"shadowMean\", \"shadowMin\"))\n",
    "\n",
    "  variableGrp <- rbind(variableGrp, showGrp)\n",
    "\n",
    "  boruta.variable.imp <- merge(imp, variableGrp, all.x=T)\n",
    "\n",
    "  sortedVariable <- boruta.variable.imp %>% group_by(Variable) %>% \n",
    "    summarise(median=median(Importance)) %>% arrange(median)\n",
    "  sortedVariable <- as.vector(sortedVariable$Variable)\n",
    "\n",
    "\n",
    "  boruta.variable.imp$Variable <- factor(boruta.variable.imp$Variable, levels=sortedVariable)\n",
    "\n",
    "  invisible(boruta.variable.imp)\n",
    "}\n",
    "boruta.variable.imp <- boruta.imp(boruta)\n",
    "\n",
    "\n",
    "boruta\n",
    "\n",
    "# library(YSX)\n",
    "\n",
    "# sp_boxplot(boruta.variable.imp, melted=T, xvariable = \"Variable\", yvariable = \"Importance\",\n",
    "#            legend_variable = \"finalDecision\", legend_variable_order = c(\"shadowMax\", \"shadowMean\", \"shadowMin\", \"Confirmed\"),\n",
    "#            xtics_angle = 90)\n",
    "\n",
    "# expr = cbind(Type,expr)\n",
    "\n",
    "# colnames(expr)[1]  ='Group'\n",
    "\n",
    "# expr3 = expr\n",
    "\n",
    "# set.seed(147)  \n",
    "# index <-  which( (1:nrow(expr3))%%3 == 0 )\n",
    "# train <- expr3[-index,]\n",
    "# test <- expr3[index,]\n",
    "\n",
    "# table(test$Group)\n",
    "\n",
    "# library(\"xgboost\")\n",
    "# library(\"Matrix\")\n",
    "# train_matrix <- sparse.model.matrix(Group ~ .-1, data = train)\n",
    "# test_matrix <- sparse.model.matrix(Group ~ .-1, data = test)\n",
    "# all_matrix <- sparse.model.matrix(Group ~ .-1, data = expr3)\n",
    "\n",
    "\n",
    "\n",
    "# train_label <- as.numeric(train$Group == 'MDD')\n",
    "# test_label <-  as.numeric(test$Group == 'MDD')\n",
    "# all_label <-  as.numeric(expr3$Group == 'MDD')\n",
    "\n",
    "# all_label\n",
    "\n",
    "# train_fin <- list(data=train_matrix,label=train_label) \n",
    "# test_fin <- list(data=test_matrix,label=test_label) \n",
    "# all_fin <- list(data=all_matrix,label=all_label) \n",
    "\n",
    "# dtrain <- xgb.DMatrix(data = train_fin$data, label = train_fin$label) \n",
    "# dtest <- xgb.DMatrix(data = test_fin$data, label = test_fin$label)\n",
    "# dall <- xgb.DMatrix(data = all_fin$data, label = all_fin$label)\n",
    "\n",
    "# xgb <- xgboost(data = dall,max_depth=6, eta=0.5,  \n",
    "#   objective='binary:logistic', nround=25)\n",
    "\n",
    "# xgb\n",
    "\n",
    "# importance <- xgb.importance(all_matrix@Dimnames[[2]], model = xgb)  \n",
    "# head(importance)\n",
    "# xgb.ggplot.importance(importance)\n",
    "\n",
    "# xgb.plot.importance(importance)"
   ]
  },
  {
   "cell_type": "code",
   "execution_count": 24,
   "id": "43df8e21-bbc7-4efd-b4fe-41c4ab5b41de",
   "metadata": {},
   "outputs": [],
   "source": [
    "# lasso"
   ]
  },
  {
   "cell_type": "code",
   "execution_count": 25,
   "id": "7f0658c0-bf4a-4a5c-8bcc-a25f5c824806",
   "metadata": {},
   "outputs": [
    {
     "name": "stderr",
     "output_type": "stream",
     "text": [
      "Warning message:\n",
      "\"package 'lars' was built under R version 4.2.3\"\n",
      "Loaded lars 1.3\n",
      "\n",
      "\n",
      "Warning message:\n",
      "\"package 'glmnet' was built under R version 4.2.3\"\n",
      "Loading required package: Matrix\n",
      "\n",
      "Warning message:\n",
      "\"package 'Matrix' was built under R version 4.2.3\"\n",
      "Loaded glmnet 4.1-8\n",
      "\n"
     ]
    },
    {
     "data": {
      "image/png": "[encoded data removed]",
      "text/plain": [
       "plot without title"
      ]
     },
     "metadata": {
      "image/png": {
       "height": 420,
       "width": 240
      }
     },
     "output_type": "display_data"
    },
    {
     "data": {
      "image/png": "[encoded data removed]",
      "text/plain": [
       "plot without title"
      ]
     },
     "metadata": {
      "image/png": {
       "height": 420,
       "width": 240
      }
     },
     "output_type": "display_data"
    },
    {
     "data": {
      "text/html": [
       "<style>\n",
       ".list-inline {list-style: none; margin:0; padding: 0}\n",
       ".list-inline>li {display: inline-block}\n",
       ".list-inline>li:not(:last-child)::after {content: \"\\00b7\"; padding: 0 .5ex}\n",
       "</style>\n",
       "<ol class=list-inline><li>0.0159363896474885</li><li>0.196471260153845</li></ol>\n"
      ],
      "text/latex": [
       "\\begin{enumerate*}\n",
       "\\item 0.0159363896474885\n",
       "\\item 0.196471260153845\n",
       "\\end{enumerate*}\n"
      ],
      "text/markdown": [
       "1. 0.0159363896474885\n",
       "2. 0.196471260153845\n",
       "\n",
       "\n"
      ],
      "text/plain": [
       "[1] 0.01593639 0.19647126"
      ]
     },
     "metadata": {},
     "output_type": "display_data"
    },
    {
     "data": {
      "text/html": [
       "<style>\n",
       ".list-inline {list-style: none; margin:0; padding: 0}\n",
       ".list-inline>li {display: inline-block}\n",
       ".list-inline>li:not(:last-child)::after {content: \"\\00b7\"; padding: 0 .5ex}\n",
       "</style>\n",
       "<ol class=list-inline><li>'NELL1'</li><li>'ARHGDIG'</li><li>'RIT2'</li><li>'GABRD'</li><li>'SNCA'</li><li>'KANK1'</li><li>'EFEMP1'</li></ol>\n"
      ],
      "text/latex": [
       "\\begin{enumerate*}\n",
       "\\item 'NELL1'\n",
       "\\item 'ARHGDIG'\n",
       "\\item 'RIT2'\n",
       "\\item 'GABRD'\n",
       "\\item 'SNCA'\n",
       "\\item 'KANK1'\n",
       "\\item 'EFEMP1'\n",
       "\\end{enumerate*}\n"
      ],
      "text/markdown": [
       "1. 'NELL1'\n",
       "2. 'ARHGDIG'\n",
       "3. 'RIT2'\n",
       "4. 'GABRD'\n",
       "5. 'SNCA'\n",
       "6. 'KANK1'\n",
       "7. 'EFEMP1'\n",
       "\n",
       "\n"
      ],
      "text/plain": [
       "[1] \"NELL1\"   \"ARHGDIG\" \"RIT2\"    \"GABRD\"   \"SNCA\"    \"KANK1\"   \"EFEMP1\" "
      ]
     },
     "metadata": {},
     "output_type": "display_data"
    },
    {
     "data": {
      "image/png": "[encoded data removed]",
      "text/plain": [
       "plot without title"
      ]
     },
     "metadata": {
      "image/png": {
       "height": 420,
       "width": 240
      }
     },
     "output_type": "display_data"
    }
   ],
   "source": [
    "library(lars) \n",
    "library(glmnet) \n",
    "\n",
    "#用基因的表达情况预测生死\n",
    "model_lasso <- glmnet(x, y, family=\"binomial\", nlambda=100, alpha=1)#拉手回归模型\n",
    "plot(model_lasso, xvar = \"norm\", label = TRUE)\n",
    "\n",
    "plot(model_lasso, xvar=\"lambda\", label=TRUE)\n",
    "\n",
    "cv_fit <- cv.glmnet(x=x, y=y, alpha = 1, nlambda = 100)\n",
    "\n",
    "plot(cv_fit)\n",
    "# 两条虚线分别指示了两个特殊的λ值:\n",
    "c(cv_fit$lambda.min,cv_fit$lambda.1se) \n",
    "\n",
    "model_lasso <- glmnet(x=as.matrix(x), y=y, alpha = 1, lambda=cv_fit$lambda.min\t)\n",
    "gene_1se <- rownames(model_lasso$beta)[as.numeric(model_lasso$beta)!=0]\n",
    "gene_1se = gsub('[.]',' ',gene_1se)\n",
    "\n",
    "gene_1se\n",
    "\n",
    "# ### 韦恩图\n",
    "\n",
    "# importance$Feature\n",
    "\n",
    "# RF.gene = names(rfGenes)[1:10]\n",
    "# #SVF.RFE.gene = featureGenes\n",
    "# XGBoost.gene = importance$Feature[1:10]\n",
    "\n",
    "# boruta.variable.imp2 = boruta.variable.imp %>% dplyr::filter(finalDecision %in% c('Confirmed','Tentative')) %>% dplyr::select(Variable) %>% unique()\n",
    "\n",
    "# Boruta.gene = as.vector(boruta.variable.imp2$Variable)\n",
    "\n",
    "# lasso.gene  = gene_1se\n",
    "\n",
    "# list1 = list(RF.gene,lasso.gene,Boruta.gene,XGBoost.gene)\n",
    "\n",
    "# data =  as.data.frame (do.call (cbind, list1))\n",
    "\n",
    "\n",
    "# library(venn)\n",
    "#         library(VennDiagram)\n",
    "#         color=c( \"#3C5488B2\",\"#00A087B2\", \n",
    "#              \"#F39B7FB2\",\"#91D1C2B2\", \n",
    "#              \"#8491B4B2\", \"#DC0000B2\", \n",
    "#              \"#7E6148B2\",\"yellow\", \n",
    "#              \"darkolivegreen1\", \"lightskyblue\", \n",
    "#              \"darkgreen\", \"deeppink\", \"khaki2\", \n",
    "#              \"firebrick\", \"brown1\", \"darkorange1\", \n",
    "#              \"cyan1\", \"royalblue4\", \"darksalmon\", \n",
    "#              \"darkgoldenrod1\", \"darkseagreen\", \"darkorchid\")\n",
    "\n",
    "#     if (ncol(data) == 2){\n",
    "#         sample_list <- list(c1 = data[,1], c2 = data[,2])\n",
    "#     }else if(ncol(data) == 3){\n",
    "#         sample_list <- list(RF.gene = data[,1], Boruta.gene = data[,2], XGBoost.gene = data[,3])\n",
    "#     }else if(ncol(data) == 4){\n",
    "#         sample_list <- list(RF.gene = data[,1], SVF.RFE.gene = data[,2], Boruta.gene = data[,3], XGBoost.gene = data[,4])\n",
    "#     }else{\n",
    "#         sample_list <- list(c1 = data[,1], c2 = data[,2], c3 = data[,3], c4 = data[,4], c5 = data[,5])\n",
    "#     }\n",
    "    \n",
    "#     q <- venn.diagram(sample_list,filename = NULL,\n",
    "#              fill = color[1:(length(sample_list))],\n",
    "#              alpha = 0.50, cat.col = rep('black', ncol(data)), \n",
    "#              col = 'black', cex = 1, fontfamily = 'serif', cat.cex = 1, cat.fontfamily = 'serif', margin = 0.2\n",
    "#                              )\n",
    "#     pdf(paste0('./',\"venn.pdf\"))\n",
    "#     grid.draw(q)\n",
    "#     dev.off()\n",
    "\n",
    "# grid.draw(q)\n",
    "\n",
    "# intersect(intersect(intersect(RF.gene,XGBoost.gene),Boruta.gene),lasso.gene)\n",
    "\n",
    "# model.gene = intersect(lasso.gene,XGBoost.gene)\n",
    "\n",
    "\n",
    "\n",
    "# model.gene  =lasso.gene\n",
    "\n",
    "# model.gene"
   ]
  },
  {
   "cell_type": "code",
   "execution_count": 81,
   "id": "6cb691bd-2d72-4837-b47a-5e7c0a16d5cb",
   "metadata": {},
   "outputs": [],
   "source": [
    "set.seed(1234)"
   ]
  },
  {
   "cell_type": "code",
   "execution_count": 82,
   "id": "a5921de0-76c9-49f1-9299-89c817a30fb3",
   "metadata": {},
   "outputs": [],
   "source": [
    "expr3 = cbind(y,x) %>%  as.data.frame()"
   ]
  },
  {
   "cell_type": "code",
   "execution_count": 83,
   "id": "d8c96c88-9216-46eb-a181-e851e4df2f7f",
   "metadata": {},
   "outputs": [],
   "source": [
    "colnames(expr3)[1] = 'Group'"
   ]
  },
  {
   "cell_type": "code",
   "execution_count": 84,
   "id": "9c3b879f-1b40-45f7-9aaa-f1909ee6aaf3",
   "metadata": {},
   "outputs": [],
   "source": [
    "expr4 = expr3 "
   ]
  },
  {
   "cell_type": "code",
   "execution_count": 85,
   "id": "5ef5cfa5-901b-4e64-9f10-8775cc89fce8",
   "metadata": {},
   "outputs": [
    {
     "data": {
      "text/html": [
       "<style>\n",
       ".list-inline {list-style: none; margin:0; padding: 0}\n",
       ".list-inline>li {display: inline-block}\n",
       ".list-inline>li:not(:last-child)::after {content: \"\\00b7\"; padding: 0 .5ex}\n",
       "</style>\n",
       "<ol class=list-inline><li>61</li><li>16</li></ol>\n"
      ],
      "text/latex": [
       "\\begin{enumerate*}\n",
       "\\item 61\n",
       "\\item 16\n",
       "\\end{enumerate*}\n"
      ],
      "text/markdown": [
       "1. 61\n",
       "2. 16\n",
       "\n",
       "\n"
      ],
      "text/plain": [
       "[1] 61 16"
      ]
     },
     "metadata": {},
     "output_type": "display_data"
    }
   ],
   "source": [
    "dim(expr4)"
   ]
  },
  {
   "cell_type": "code",
   "execution_count": 86,
   "id": "0c078c6c-044b-4daa-a1a2-654379b30675",
   "metadata": {},
   "outputs": [],
   "source": [
    "model.gene = colnames(expr4)[2:dim(expr4)[2]]"
   ]
  },
  {
   "cell_type": "code",
   "execution_count": 87,
   "id": "50cc8b04-2d6a-4b38-906a-64735c1fdf08",
   "metadata": {
    "scrolled": true
   },
   "outputs": [
    {
     "name": "stdout",
     "output_type": "stream",
     "text": [
      "[1] \"NELL1 0.786111111111111\"\n"
     ]
    },
    {
     "name": "stderr",
     "output_type": "stream",
     "text": [
      "\u001b[1m\u001b[22mSaving 6.67 x 6.67 in image\n",
      "Warning message in geom_segment(aes(x = 0, xend = 1, y = 0, yend = 1), color = \"darkgrey\", :\n",
      "\"\u001b[1m\u001b[22mAll aesthetics have length 1, but the data has 62 rows.\n",
      "\u001b[36mi\u001b[39m Please consider using `annotate()` or provide this layer with data containing\n",
      "  a single row.\"\n"
     ]
    },
    {
     "name": "stdout",
     "output_type": "stream",
     "text": [
      "[1] \"TUSC3 0.7125\"\n"
     ]
    },
    {
     "name": "stderr",
     "output_type": "stream",
     "text": [
      "\u001b[1m\u001b[22mSaving 6.67 x 6.67 in image\n",
      "Warning message in geom_segment(aes(x = 0, xend = 1, y = 0, yend = 1), color = \"darkgrey\", :\n",
      "\"\u001b[1m\u001b[22mAll aesthetics have length 1, but the data has 62 rows.\n",
      "\u001b[36mi\u001b[39m Please consider using `annotate()` or provide this layer with data containing\n",
      "  a single row.\"\n"
     ]
    },
    {
     "name": "stdout",
     "output_type": "stream",
     "text": [
      "[1] \"ARHGDIG 0.793055555555556\"\n"
     ]
    },
    {
     "name": "stderr",
     "output_type": "stream",
     "text": [
      "\u001b[1m\u001b[22mSaving 6.67 x 6.67 in image\n",
      "Warning message in geom_segment(aes(x = 0, xend = 1, y = 0, yend = 1), color = \"darkgrey\", :\n",
      "\"\u001b[1m\u001b[22mAll aesthetics have length 1, but the data has 62 rows.\n",
      "\u001b[36mi\u001b[39m Please consider using `annotate()` or provide this layer with data containing\n",
      "  a single row.\"\n"
     ]
    },
    {
     "name": "stdout",
     "output_type": "stream",
     "text": [
      "[1] \"RIT2 0.772222222222222\"\n"
     ]
    },
    {
     "name": "stderr",
     "output_type": "stream",
     "text": [
      "\u001b[1m\u001b[22mSaving 6.67 x 6.67 in image\n",
      "Warning message in geom_segment(aes(x = 0, xend = 1, y = 0, yend = 1), color = \"darkgrey\", :\n",
      "\"\u001b[1m\u001b[22mAll aesthetics have length 1, but the data has 62 rows.\n",
      "\u001b[36mi\u001b[39m Please consider using `annotate()` or provide this layer with data containing\n",
      "  a single row.\"\n"
     ]
    },
    {
     "name": "stdout",
     "output_type": "stream",
     "text": [
      "[1] \"SYNGR3 0.759722222222222\"\n"
     ]
    },
    {
     "name": "stderr",
     "output_type": "stream",
     "text": [
      "\u001b[1m\u001b[22mSaving 6.67 x 6.67 in image\n",
      "Warning message in geom_segment(aes(x = 0, xend = 1, y = 0, yend = 1), color = \"darkgrey\", :\n",
      "\"\u001b[1m\u001b[22mAll aesthetics have length 1, but the data has 62 rows.\n",
      "\u001b[36mi\u001b[39m Please consider using `annotate()` or provide this layer with data containing\n",
      "  a single row.\"\n"
     ]
    },
    {
     "name": "stdout",
     "output_type": "stream",
     "text": [
      "[1] \"VPS24 0.729166666666667\"\n"
     ]
    },
    {
     "name": "stderr",
     "output_type": "stream",
     "text": [
      "\u001b[1m\u001b[22mSaving 6.67 x 6.67 in image\n",
      "Warning message in geom_segment(aes(x = 0, xend = 1, y = 0, yend = 1), color = \"darkgrey\", :\n",
      "\"\u001b[1m\u001b[22mAll aesthetics have length 1, but the data has 62 rows.\n",
      "\u001b[36mi\u001b[39m Please consider using `annotate()` or provide this layer with data containing\n",
      "  a single row.\"\n"
     ]
    },
    {
     "name": "stdout",
     "output_type": "stream",
     "text": [
      "[1] \"SLC17A7 0.7375\"\n"
     ]
    },
    {
     "name": "stderr",
     "output_type": "stream",
     "text": [
      "\u001b[1m\u001b[22mSaving 6.67 x 6.67 in image\n",
      "Warning message in geom_segment(aes(x = 0, xend = 1, y = 0, yend = 1), color = \"darkgrey\", :\n",
      "\"\u001b[1m\u001b[22mAll aesthetics have length 1, but the data has 62 rows.\n",
      "\u001b[36mi\u001b[39m Please consider using `annotate()` or provide this layer with data containing\n",
      "  a single row.\"\n"
     ]
    },
    {
     "name": "stdout",
     "output_type": "stream",
     "text": [
      "[1] \"DYNC1I1 0.761111111111111\"\n"
     ]
    },
    {
     "name": "stderr",
     "output_type": "stream",
     "text": [
      "\u001b[1m\u001b[22mSaving 6.67 x 6.67 in image\n",
      "Warning message in geom_segment(aes(x = 0, xend = 1, y = 0, yend = 1), color = \"darkgrey\", :\n",
      "\"\u001b[1m\u001b[22mAll aesthetics have length 1, but the data has 62 rows.\n",
      "\u001b[36mi\u001b[39m Please consider using `annotate()` or provide this layer with data containing\n",
      "  a single row.\"\n"
     ]
    },
    {
     "name": "stdout",
     "output_type": "stream",
     "text": [
      "[1] \"GABRD 0.816666666666667\"\n"
     ]
    },
    {
     "name": "stderr",
     "output_type": "stream",
     "text": [
      "\u001b[1m\u001b[22mSaving 6.67 x 6.67 in image\n",
      "Warning message in geom_segment(aes(x = 0, xend = 1, y = 0, yend = 1), color = \"darkgrey\", :\n",
      "\"\u001b[1m\u001b[22mAll aesthetics have length 1, but the data has 62 rows.\n",
      "\u001b[36mi\u001b[39m Please consider using `annotate()` or provide this layer with data containing\n",
      "  a single row.\"\n"
     ]
    },
    {
     "name": "stdout",
     "output_type": "stream",
     "text": [
      "[1] \"HMP19 0.777777777777778\"\n"
     ]
    },
    {
     "name": "stderr",
     "output_type": "stream",
     "text": [
      "\u001b[1m\u001b[22mSaving 6.67 x 6.67 in image\n",
      "Warning message in geom_segment(aes(x = 0, xend = 1, y = 0, yend = 1), color = \"darkgrey\", :\n",
      "\"\u001b[1m\u001b[22mAll aesthetics have length 1, but the data has 62 rows.\n",
      "\u001b[36mi\u001b[39m Please consider using `annotate()` or provide this layer with data containing\n",
      "  a single row.\"\n"
     ]
    },
    {
     "name": "stdout",
     "output_type": "stream",
     "text": [
      "[1] \"SYN2 0.75\"\n"
     ]
    },
    {
     "name": "stderr",
     "output_type": "stream",
     "text": [
      "\u001b[1m\u001b[22mSaving 6.67 x 6.67 in image\n",
      "Warning message in geom_segment(aes(x = 0, xend = 1, y = 0, yend = 1), color = \"darkgrey\", :\n",
      "\"\u001b[1m\u001b[22mAll aesthetics have length 1, but the data has 62 rows.\n",
      "\u001b[36mi\u001b[39m Please consider using `annotate()` or provide this layer with data containing\n",
      "  a single row.\"\n"
     ]
    },
    {
     "name": "stdout",
     "output_type": "stream",
     "text": [
      "[1] \"SNCA 0.706944444444444\"\n"
     ]
    },
    {
     "name": "stderr",
     "output_type": "stream",
     "text": [
      "\u001b[1m\u001b[22mSaving 6.67 x 6.67 in image\n",
      "Warning message in geom_segment(aes(x = 0, xend = 1, y = 0, yend = 1), color = \"darkgrey\", :\n",
      "\"\u001b[1m\u001b[22mAll aesthetics have length 1, but the data has 62 rows.\n",
      "\u001b[36mi\u001b[39m Please consider using `annotate()` or provide this layer with data containing\n",
      "  a single row.\"\n"
     ]
    }
   ],
   "source": [
    "library(caret)\n",
    "library(ggplot2)\n",
    "\n",
    " a = c()\n",
    "# \n",
    "for (i in model.gene){\n",
    "    res<-pROC::roc(Group~expr4[,i],data=expr4,aur=TRUE,\n",
    "         ci=TRUE, # 显示95%CI\n",
    "         #percent=TRUE, # 是否需要以百分比显示\n",
    "         smooth=FALSE,# 是否平滑曲线\n",
    "         levels=c(0,1),direction=\"<\" #设置分组方向\n",
    "         )\n",
    "    if (res$auc > 0.7){\n",
    "        a = append(a,i)\n",
    "        print(paste0(i,' ',res$auc))\n",
    "        p = pROC::ggroc(res, color =\"red\",legacy.axes = TRUE)+\n",
    "  geom_segment(aes(x = 0, xend = 1, y = 0, yend = 1), color=\"darkgrey\", linetype=4)+\n",
    "  theme_bw() + # 设置背景\n",
    "  ggtitle(paste0(i,\" ROC Curve\"))+\n",
    "  theme(plot.title = element_text(hjust = 0.5,size = 16),\n",
    "        axis.text=element_text(size=12,colour = \"black\"),\n",
    "        axis.title.x = element_text(size = 14),\n",
    "        axis.title.y = element_text(size = 14))\n",
    "p+annotate(\"text\",x=0.75,y=0.25,label=paste(\"AUC = \", round(res$auc,3)))+\n",
    "  annotate(\"text\",x=0.75,y=0.20,label=paste(\"95%CI: \", round(res$ci[1],3),'-',round(res$ci[3],3)))\n",
    "    ggsave(file = paste0(i,'.ROC.pdf'))\n",
    "}else{\n",
    "        \n",
    "}\n",
    "\n",
    "    \n",
    "    }"
   ]
  },
  {
   "cell_type": "markdown",
   "id": "d157d346-4a53-4133-b0d2-f2a92aea9d56",
   "metadata": {},
   "source": [
    "### 批量单因素逻辑回归"
   ]
  },
  {
   "cell_type": "code",
   "execution_count": 88,
   "id": "77f4befb-4acc-47c4-92e3-e9b3b9edb649",
   "metadata": {},
   "outputs": [
    {
     "data": {
      "text/html": [
       "<style>\n",
       ".list-inline {list-style: none; margin:0; padding: 0}\n",
       ".list-inline>li {display: inline-block}\n",
       ".list-inline>li:not(:last-child)::after {content: \"\\00b7\"; padding: 0 .5ex}\n",
       "</style>\n",
       "<ol class=list-inline><li>'NELL1'</li><li>'TUSC3'</li><li>'ARHGDIG'</li><li>'RIT2'</li><li>'SYNGR3'</li><li>'VPS24'</li><li>'SLC17A7'</li><li>'DYNC1I1'</li><li>'GABRD'</li><li>'HMP19'</li><li>'SYN2'</li><li>'SNCA'</li></ol>\n"
      ],
      "text/latex": [
       "\\begin{enumerate*}\n",
       "\\item 'NELL1'\n",
       "\\item 'TUSC3'\n",
       "\\item 'ARHGDIG'\n",
       "\\item 'RIT2'\n",
       "\\item 'SYNGR3'\n",
       "\\item 'VPS24'\n",
       "\\item 'SLC17A7'\n",
       "\\item 'DYNC1I1'\n",
       "\\item 'GABRD'\n",
       "\\item 'HMP19'\n",
       "\\item 'SYN2'\n",
       "\\item 'SNCA'\n",
       "\\end{enumerate*}\n"
      ],
      "text/markdown": [
       "1. 'NELL1'\n",
       "2. 'TUSC3'\n",
       "3. 'ARHGDIG'\n",
       "4. 'RIT2'\n",
       "5. 'SYNGR3'\n",
       "6. 'VPS24'\n",
       "7. 'SLC17A7'\n",
       "8. 'DYNC1I1'\n",
       "9. 'GABRD'\n",
       "10. 'HMP19'\n",
       "11. 'SYN2'\n",
       "12. 'SNCA'\n",
       "\n",
       "\n"
      ],
      "text/plain": [
       " [1] \"NELL1\"   \"TUSC3\"   \"ARHGDIG\" \"RIT2\"    \"SYNGR3\"  \"VPS24\"   \"SLC17A7\"\n",
       " [8] \"DYNC1I1\" \"GABRD\"   \"HMP19\"   \"SYN2\"    \"SNCA\"   "
      ]
     },
     "metadata": {},
     "output_type": "display_data"
    }
   ],
   "source": [
    "a"
   ]
  },
  {
   "cell_type": "code",
   "execution_count": 89,
   "id": "e036efed-c5c6-4fbd-95a2-10527bf30650",
   "metadata": {},
   "outputs": [],
   "source": [
    "boruta.variable.imp2 = boruta.variable.imp %>% dplyr::filter(finalDecision %in% c('Confirmed')) %>% dplyr::select(Variable) %>% unique()\n",
    "Boruta.gene = as.vector(boruta.variable.imp2$Variable)"
   ]
  },
  {
   "cell_type": "code",
   "execution_count": 90,
   "id": "38d578f6-67fb-4781-a047-d1854443def0",
   "metadata": {},
   "outputs": [
    {
     "data": {
      "text/html": [
       "<style>\n",
       ".list-inline {list-style: none; margin:0; padding: 0}\n",
       ".list-inline>li {display: inline-block}\n",
       ".list-inline>li:not(:last-child)::after {content: \"\\00b7\"; padding: 0 .5ex}\n",
       "</style>\n",
       "<ol class=list-inline><li>'ARHGDIG'</li><li>'ATP1A3'</li><li>'DYNC1I1'</li><li>'GABRD'</li><li>'HMP19'</li><li>'NELL1'</li><li>'TUSC3'</li></ol>\n"
      ],
      "text/latex": [
       "\\begin{enumerate*}\n",
       "\\item 'ARHGDIG'\n",
       "\\item 'ATP1A3'\n",
       "\\item 'DYNC1I1'\n",
       "\\item 'GABRD'\n",
       "\\item 'HMP19'\n",
       "\\item 'NELL1'\n",
       "\\item 'TUSC3'\n",
       "\\end{enumerate*}\n"
      ],
      "text/markdown": [
       "1. 'ARHGDIG'\n",
       "2. 'ATP1A3'\n",
       "3. 'DYNC1I1'\n",
       "4. 'GABRD'\n",
       "5. 'HMP19'\n",
       "6. 'NELL1'\n",
       "7. 'TUSC3'\n",
       "\n",
       "\n"
      ],
      "text/plain": [
       "[1] \"ARHGDIG\" \"ATP1A3\"  \"DYNC1I1\" \"GABRD\"   \"HMP19\"   \"NELL1\"   \"TUSC3\"  "
      ]
     },
     "metadata": {},
     "output_type": "display_data"
    }
   ],
   "source": [
    "Boruta.gene"
   ]
  },
  {
   "cell_type": "code",
   "execution_count": 91,
   "id": "9c4b94aa-b806-475e-8e4f-f84fe6f8be42",
   "metadata": {},
   "outputs": [
    {
     "data": {
      "text/html": [
       "<style>\n",
       ".list-inline {list-style: none; margin:0; padding: 0}\n",
       ".list-inline>li {display: inline-block}\n",
       ".list-inline>li:not(:last-child)::after {content: \"\\00b7\"; padding: 0 .5ex}\n",
       "</style>\n",
       "<ol class=list-inline><li>'NELL1'</li><li>'ARHGDIG'</li><li>'RIT2'</li><li>'GABRD'</li><li>'SNCA'</li><li>'KANK1'</li><li>'EFEMP1'</li></ol>\n"
      ],
      "text/latex": [
       "\\begin{enumerate*}\n",
       "\\item 'NELL1'\n",
       "\\item 'ARHGDIG'\n",
       "\\item 'RIT2'\n",
       "\\item 'GABRD'\n",
       "\\item 'SNCA'\n",
       "\\item 'KANK1'\n",
       "\\item 'EFEMP1'\n",
       "\\end{enumerate*}\n"
      ],
      "text/markdown": [
       "1. 'NELL1'\n",
       "2. 'ARHGDIG'\n",
       "3. 'RIT2'\n",
       "4. 'GABRD'\n",
       "5. 'SNCA'\n",
       "6. 'KANK1'\n",
       "7. 'EFEMP1'\n",
       "\n",
       "\n"
      ],
      "text/plain": [
       "[1] \"NELL1\"   \"ARHGDIG\" \"RIT2\"    \"GABRD\"   \"SNCA\"    \"KANK1\"   \"EFEMP1\" "
      ]
     },
     "metadata": {},
     "output_type": "display_data"
    }
   ],
   "source": [
    "gene_1se"
   ]
  },
  {
   "cell_type": "code",
   "execution_count": 92,
   "id": "f14e2d32-733e-4d6c-9025-d96fe3b53dcc",
   "metadata": {},
   "outputs": [],
   "source": [
    "gene = intersect(Boruta.gene,a)"
   ]
  },
  {
   "cell_type": "code",
   "execution_count": 93,
   "id": "c2fd5c12-8570-4deb-acf2-1cb498e3ab46",
   "metadata": {},
   "outputs": [
    {
     "data": {
      "text/html": [
       "<style>\n",
       ".list-inline {list-style: none; margin:0; padding: 0}\n",
       ".list-inline>li {display: inline-block}\n",
       ".list-inline>li:not(:last-child)::after {content: \"\\00b7\"; padding: 0 .5ex}\n",
       "</style>\n",
       "<ol class=list-inline><li>'ARHGDIG'</li><li>'DYNC1I1'</li><li>'GABRD'</li><li>'HMP19'</li><li>'NELL1'</li><li>'TUSC3'</li></ol>\n"
      ],
      "text/latex": [
       "\\begin{enumerate*}\n",
       "\\item 'ARHGDIG'\n",
       "\\item 'DYNC1I1'\n",
       "\\item 'GABRD'\n",
       "\\item 'HMP19'\n",
       "\\item 'NELL1'\n",
       "\\item 'TUSC3'\n",
       "\\end{enumerate*}\n"
      ],
      "text/markdown": [
       "1. 'ARHGDIG'\n",
       "2. 'DYNC1I1'\n",
       "3. 'GABRD'\n",
       "4. 'HMP19'\n",
       "5. 'NELL1'\n",
       "6. 'TUSC3'\n",
       "\n",
       "\n"
      ],
      "text/plain": [
       "[1] \"ARHGDIG\" \"DYNC1I1\" \"GABRD\"   \"HMP19\"   \"NELL1\"   \"TUSC3\"  "
      ]
     },
     "metadata": {},
     "output_type": "display_data"
    }
   ],
   "source": [
    "gene"
   ]
  },
  {
   "cell_type": "code",
   "execution_count": 94,
   "id": "3b588c2a-6367-42ad-8996-8a043faaf14e",
   "metadata": {},
   "outputs": [],
   "source": [
    "expr4 = expr3"
   ]
  },
  {
   "cell_type": "code",
   "execution_count": 95,
   "id": "09091768-eee9-477e-b0f4-a0d287886d27",
   "metadata": {},
   "outputs": [],
   "source": [
    "expr4 = expr4[,c('Group',gene)]"
   ]
  },
  {
   "cell_type": "code",
   "execution_count": 96,
   "id": "8ed43a61-fbbe-4a82-86b6-ecf83f9d4593",
   "metadata": {},
   "outputs": [],
   "source": [
    "#expr4 = expr4"
   ]
  },
  {
   "cell_type": "code",
   "execution_count": 97,
   "id": "a23c8a73-db72-44e0-a250-324f8eb46241",
   "metadata": {},
   "outputs": [
    {
     "name": "stderr",
     "output_type": "stream",
     "text": [
      "Waiting for profiling to be done...\n",
      "\n",
      "Waiting for profiling to be done...\n",
      "\n",
      "Waiting for profiling to be done...\n",
      "\n",
      "Waiting for profiling to be done...\n",
      "\n",
      "Waiting for profiling to be done...\n",
      "\n",
      "Waiting for profiling to be done...\n",
      "\n"
     ]
    },
    {
     "data": {
      "text/html": [
       "<table class=\"dataframe\">\n",
       "<caption>A data.frame: 6 x 8</caption>\n",
       "<thead>\n",
       "\t<tr><th></th><th scope=col>Estimate</th><th scope=col>Std..Error</th><th scope=col>z.value</th><th scope=col>Pr...z..</th><th scope=col>OR</th><th scope=col>X2.5..</th><th scope=col>X97.5..</th><th scope=col>Characteristics</th></tr>\n",
       "\t<tr><th></th><th scope=col>&lt;dbl&gt;</th><th scope=col>&lt;dbl&gt;</th><th scope=col>&lt;dbl&gt;</th><th scope=col>&lt;dbl&gt;</th><th scope=col>&lt;dbl&gt;</th><th scope=col>&lt;dbl&gt;</th><th scope=col>&lt;dbl&gt;</th><th scope=col>&lt;chr&gt;</th></tr>\n",
       "</thead>\n",
       "<tbody>\n",
       "\t<tr><th scope=row>ARHGDIG</th><td>2.414381</td><td>0.7920864</td><td>3.048128</td><td>0.002302719</td><td>11.182843</td><td>2.772276</td><td>65.06745</td><td>ARHGDIG</td></tr>\n",
       "\t<tr><th scope=row>DYNC1I1</th><td>1.787883</td><td>0.7231890</td><td>2.472221</td><td>0.013427636</td><td> 5.976787</td><td>1.792355</td><td>30.94490</td><td>DYNC1I1</td></tr>\n",
       "\t<tr><th scope=row>GABRD</th><td>2.096781</td><td>0.7217375</td><td>2.905185</td><td>0.003670363</td><td> 8.139923</td><td>2.440265</td><td>44.02950</td><td>GABRD  </td></tr>\n",
       "\t<tr><th scope=row>HMP19</th><td>1.571873</td><td>0.5527439</td><td>2.843763</td><td>0.004458418</td><td> 4.815658</td><td>1.808677</td><td>16.42343</td><td>HMP19  </td></tr>\n",
       "\t<tr><th scope=row>NELL1</th><td>2.059170</td><td>0.6570046</td><td>3.134179</td><td>0.001723360</td><td> 7.839457</td><td>2.471295</td><td>33.56358</td><td>NELL1  </td></tr>\n",
       "\t<tr><th scope=row>TUSC3</th><td>1.382457</td><td>0.5395938</td><td>2.562033</td><td>0.010406151</td><td> 3.984680</td><td>1.499766</td><td>12.88693</td><td>TUSC3  </td></tr>\n",
       "</tbody>\n",
       "</table>\n"
      ],
      "text/latex": [
       "A data.frame: 6 x 8\n",
       "\\begin{tabular}{r|llllllll}\n",
       "  & Estimate & Std..Error & z.value & Pr...z.. & OR & X2.5.. & X97.5.. & Characteristics\\\\\n",
       "  & <dbl> & <dbl> & <dbl> & <dbl> & <dbl> & <dbl> & <dbl> & <chr>\\\\\n",
       "\\hline\n",
       "\tARHGDIG & 2.414381 & 0.7920864 & 3.048128 & 0.002302719 & 11.182843 & 2.772276 & 65.06745 & ARHGDIG\\\\\n",
       "\tDYNC1I1 & 1.787883 & 0.7231890 & 2.472221 & 0.013427636 &  5.976787 & 1.792355 & 30.94490 & DYNC1I1\\\\\n",
       "\tGABRD & 2.096781 & 0.7217375 & 2.905185 & 0.003670363 &  8.139923 & 2.440265 & 44.02950 & GABRD  \\\\\n",
       "\tHMP19 & 1.571873 & 0.5527439 & 2.843763 & 0.004458418 &  4.815658 & 1.808677 & 16.42343 & HMP19  \\\\\n",
       "\tNELL1 & 2.059170 & 0.6570046 & 3.134179 & 0.001723360 &  7.839457 & 2.471295 & 33.56358 & NELL1  \\\\\n",
       "\tTUSC3 & 1.382457 & 0.5395938 & 2.562033 & 0.010406151 &  3.984680 & 1.499766 & 12.88693 & TUSC3  \\\\\n",
       "\\end{tabular}\n"
      ],
      "text/markdown": [
       "\n",
       "A data.frame: 6 x 8\n",
       "\n",
       "| <!--/--> | Estimate &lt;dbl&gt; | Std..Error &lt;dbl&gt; | z.value &lt;dbl&gt; | Pr...z.. &lt;dbl&gt; | OR &lt;dbl&gt; | X2.5.. &lt;dbl&gt; | X97.5.. &lt;dbl&gt; | Characteristics &lt;chr&gt; |\n",
       "|---|---|---|---|---|---|---|---|---|\n",
       "| ARHGDIG | 2.414381 | 0.7920864 | 3.048128 | 0.002302719 | 11.182843 | 2.772276 | 65.06745 | ARHGDIG |\n",
       "| DYNC1I1 | 1.787883 | 0.7231890 | 2.472221 | 0.013427636 |  5.976787 | 1.792355 | 30.94490 | DYNC1I1 |\n",
       "| GABRD | 2.096781 | 0.7217375 | 2.905185 | 0.003670363 |  8.139923 | 2.440265 | 44.02950 | GABRD   |\n",
       "| HMP19 | 1.571873 | 0.5527439 | 2.843763 | 0.004458418 |  4.815658 | 1.808677 | 16.42343 | HMP19   |\n",
       "| NELL1 | 2.059170 | 0.6570046 | 3.134179 | 0.001723360 |  7.839457 | 2.471295 | 33.56358 | NELL1   |\n",
       "| TUSC3 | 1.382457 | 0.5395938 | 2.562033 | 0.010406151 |  3.984680 | 1.499766 | 12.88693 | TUSC3   |\n",
       "\n"
      ],
      "text/plain": [
       "        Estimate Std..Error z.value  Pr...z..    OR        X2.5..   X97.5.. \n",
       "ARHGDIG 2.414381 0.7920864  3.048128 0.002302719 11.182843 2.772276 65.06745\n",
       "DYNC1I1 1.787883 0.7231890  2.472221 0.013427636  5.976787 1.792355 30.94490\n",
       "GABRD   2.096781 0.7217375  2.905185 0.003670363  8.139923 2.440265 44.02950\n",
       "HMP19   1.571873 0.5527439  2.843763 0.004458418  4.815658 1.808677 16.42343\n",
       "NELL1   2.059170 0.6570046  3.134179 0.001723360  7.839457 2.471295 33.56358\n",
       "TUSC3   1.382457 0.5395938  2.562033 0.010406151  3.984680 1.499766 12.88693\n",
       "        Characteristics\n",
       "ARHGDIG ARHGDIG        \n",
       "DYNC1I1 DYNC1I1        \n",
       "GABRD   GABRD          \n",
       "HMP19   HMP19          \n",
       "NELL1   NELL1          \n",
       "TUSC3   TUSC3          "
      ]
     },
     "metadata": {},
     "output_type": "display_data"
    },
    {
     "data": {
      "text/html": [
       "<table class=\"dataframe\">\n",
       "<caption>A data.frame: 6 x 6</caption>\n",
       "<thead>\n",
       "\t<tr><th></th><th scope=col>Estimate</th><th scope=col>P</th><th scope=col>OR</th><th scope=col>CIlower</th><th scope=col>CIupper</th><th scope=col>Characteristics</th></tr>\n",
       "\t<tr><th></th><th scope=col>&lt;dbl&gt;</th><th scope=col>&lt;dbl&gt;</th><th scope=col>&lt;dbl&gt;</th><th scope=col>&lt;dbl&gt;</th><th scope=col>&lt;dbl&gt;</th><th scope=col>&lt;chr&gt;</th></tr>\n",
       "</thead>\n",
       "<tbody>\n",
       "\t<tr><th scope=row>ARHGDIG</th><td>2.414381</td><td>0.002302719</td><td>11.182843</td><td>2.772276</td><td>65.06745</td><td>ARHGDIG</td></tr>\n",
       "\t<tr><th scope=row>DYNC1I1</th><td>1.787883</td><td>0.013427636</td><td> 5.976787</td><td>1.792355</td><td>30.94490</td><td>DYNC1I1</td></tr>\n",
       "\t<tr><th scope=row>GABRD</th><td>2.096781</td><td>0.003670363</td><td> 8.139923</td><td>2.440265</td><td>44.02950</td><td>GABRD  </td></tr>\n",
       "\t<tr><th scope=row>HMP19</th><td>1.571873</td><td>0.004458418</td><td> 4.815658</td><td>1.808677</td><td>16.42343</td><td>HMP19  </td></tr>\n",
       "\t<tr><th scope=row>NELL1</th><td>2.059170</td><td>0.001723360</td><td> 7.839457</td><td>2.471295</td><td>33.56358</td><td>NELL1  </td></tr>\n",
       "\t<tr><th scope=row>TUSC3</th><td>1.382457</td><td>0.010406151</td><td> 3.984680</td><td>1.499766</td><td>12.88693</td><td>TUSC3  </td></tr>\n",
       "</tbody>\n",
       "</table>\n"
      ],
      "text/latex": [
       "A data.frame: 6 x 6\n",
       "\\begin{tabular}{r|llllll}\n",
       "  & Estimate & P & OR & CIlower & CIupper & Characteristics\\\\\n",
       "  & <dbl> & <dbl> & <dbl> & <dbl> & <dbl> & <chr>\\\\\n",
       "\\hline\n",
       "\tARHGDIG & 2.414381 & 0.002302719 & 11.182843 & 2.772276 & 65.06745 & ARHGDIG\\\\\n",
       "\tDYNC1I1 & 1.787883 & 0.013427636 &  5.976787 & 1.792355 & 30.94490 & DYNC1I1\\\\\n",
       "\tGABRD & 2.096781 & 0.003670363 &  8.139923 & 2.440265 & 44.02950 & GABRD  \\\\\n",
       "\tHMP19 & 1.571873 & 0.004458418 &  4.815658 & 1.808677 & 16.42343 & HMP19  \\\\\n",
       "\tNELL1 & 2.059170 & 0.001723360 &  7.839457 & 2.471295 & 33.56358 & NELL1  \\\\\n",
       "\tTUSC3 & 1.382457 & 0.010406151 &  3.984680 & 1.499766 & 12.88693 & TUSC3  \\\\\n",
       "\\end{tabular}\n"
      ],
      "text/markdown": [
       "\n",
       "A data.frame: 6 x 6\n",
       "\n",
       "| <!--/--> | Estimate &lt;dbl&gt; | P &lt;dbl&gt; | OR &lt;dbl&gt; | CIlower &lt;dbl&gt; | CIupper &lt;dbl&gt; | Characteristics &lt;chr&gt; |\n",
       "|---|---|---|---|---|---|---|\n",
       "| ARHGDIG | 2.414381 | 0.002302719 | 11.182843 | 2.772276 | 65.06745 | ARHGDIG |\n",
       "| DYNC1I1 | 1.787883 | 0.013427636 |  5.976787 | 1.792355 | 30.94490 | DYNC1I1 |\n",
       "| GABRD | 2.096781 | 0.003670363 |  8.139923 | 2.440265 | 44.02950 | GABRD   |\n",
       "| HMP19 | 1.571873 | 0.004458418 |  4.815658 | 1.808677 | 16.42343 | HMP19   |\n",
       "| NELL1 | 2.059170 | 0.001723360 |  7.839457 | 2.471295 | 33.56358 | NELL1   |\n",
       "| TUSC3 | 1.382457 | 0.010406151 |  3.984680 | 1.499766 | 12.88693 | TUSC3   |\n",
       "\n"
      ],
      "text/plain": [
       "        Estimate P           OR        CIlower  CIupper  Characteristics\n",
       "ARHGDIG 2.414381 0.002302719 11.182843 2.772276 65.06745 ARHGDIG        \n",
       "DYNC1I1 1.787883 0.013427636  5.976787 1.792355 30.94490 DYNC1I1        \n",
       "GABRD   2.096781 0.003670363  8.139923 2.440265 44.02950 GABRD          \n",
       "HMP19   1.571873 0.004458418  4.815658 1.808677 16.42343 HMP19          \n",
       "NELL1   2.059170 0.001723360  7.839457 2.471295 33.56358 NELL1          \n",
       "TUSC3   1.382457 0.010406151  3.984680 1.499766 12.88693 TUSC3          "
      ]
     },
     "metadata": {},
     "output_type": "display_data"
    },
    {
     "data": {
      "text/html": [
       "<style>\n",
       ".list-inline {list-style: none; margin:0; padding: 0}\n",
       ".list-inline>li {display: inline-block}\n",
       ".list-inline>li:not(:last-child)::after {content: \"\\00b7\"; padding: 0 .5ex}\n",
       "</style>\n",
       "<ol class=list-inline><li>'ARHGDIG'</li><li>'DYNC1I1'</li><li>'GABRD'</li><li>'HMP19'</li><li>'NELL1'</li><li>'TUSC3'</li></ol>\n"
      ],
      "text/latex": [
       "\\begin{enumerate*}\n",
       "\\item 'ARHGDIG'\n",
       "\\item 'DYNC1I1'\n",
       "\\item 'GABRD'\n",
       "\\item 'HMP19'\n",
       "\\item 'NELL1'\n",
       "\\item 'TUSC3'\n",
       "\\end{enumerate*}\n"
      ],
      "text/markdown": [
       "1. 'ARHGDIG'\n",
       "2. 'DYNC1I1'\n",
       "3. 'GABRD'\n",
       "4. 'HMP19'\n",
       "5. 'NELL1'\n",
       "6. 'TUSC3'\n",
       "\n",
       "\n"
      ],
      "text/plain": [
       "[1] \"ARHGDIG\" \"DYNC1I1\" \"GABRD\"   \"HMP19\"   \"NELL1\"   \"TUSC3\"  "
      ]
     },
     "metadata": {},
     "output_type": "display_data"
    }
   ],
   "source": [
    "#结果合并需要的包\n",
    "library(plyr)\n",
    "#可进行logistic回归的包\n",
    "library(rms)#可实现逻辑回归模型（lrm）\n",
    "library(epiDisplay)#快速输出OR、95%CI、P\n",
    "#library(gtsummary)#精美三线表（但，95%CI有误）\n",
    "\n",
    "varsU<-names(expr4[,2:dim(expr4)[2]])\n",
    "\n",
    "Result<-c()\n",
    "for (i in 1:length(varsU)){\n",
    "  fit<-glm(substitute(Group~x,list(x=as.name(varsU[i]))),data=expr4,family=binomial())\n",
    "  fitSum<-summary(fit)\n",
    "  result1<-c()\n",
    "  result1<-rbind(result1,fitSum$coef)\n",
    "  OR<-exp(fitSum$coef[,'Estimate'])\n",
    "  result1<-data.frame(cbind(result1,cbind(OR,exp(confint(fit)))))\n",
    "  result1$Characteristics<-varsU[i]   #添加变量名\n",
    "  Result<-rbind(Result,result1[-1,])#[-1,],删除常数项\n",
    "}\n",
    "\n",
    "Result\n",
    "\n",
    "Uni_log<-data.frame(Result[,c(1,4:8)]) #提取\"P\",\"OR\",\"CIlower\",\"CIupper\"和变量名\n",
    "\n",
    "colnames(Uni_log)[2:5]<-c(\"P\",\"OR\",\"CIlower\",\"CIupper\")#变量重命名\n",
    "\n",
    "ExtractVar<-unique(Uni_log$Characteristics[Uni_log$\"P\"<0.05]) \n",
    "\n",
    "tzgene = Uni_log %>% dplyr::filter(P < 0.05) %>% rownames()\n",
    "\n",
    "Uni_log[tzgene,]\n",
    "\n",
    "### 多因素分析\n",
    "\n",
    "tzgene\n",
    "\n",
    "data = expr4[,c('Group',tzgene)]"
   ]
  },
  {
   "cell_type": "code",
   "execution_count": 98,
   "id": "d09d5fb1-b54b-4f0a-a8ad-19c4fa653d37",
   "metadata": {
    "scrolled": true
   },
   "outputs": [
    {
     "data": {
      "text/plain": [
       "\n",
       "Call:\n",
       "glm(formula = Group ~ ., family = binomial(), data = data)\n",
       "\n",
       "Deviance Residuals: \n",
       "    Min       1Q   Median       3Q      Max  \n",
       "-1.7006  -0.6344  -0.1225   0.5150   2.4855  \n",
       "\n",
       "Coefficients:\n",
       "             Estimate Std. Error z value Pr(>|z|)   \n",
       "(Intercept) -32.06216   12.34493  -2.597   0.0094 **\n",
       "ARHGDIG       1.39842    1.72452   0.811   0.4174   \n",
       "DYNC1I1       1.10750    1.51018   0.733   0.4633   \n",
       "GABRD         3.40305    1.89677   1.794   0.0728 . \n",
       "HMP19        -0.09815    1.21764  -0.081   0.9358   \n",
       "NELL1         4.00368    2.04186   1.961   0.0499 * \n",
       "TUSC3        -5.91299    2.44283  -2.421   0.0155 * \n",
       "---\n",
       "Signif. codes:  0 '***' 0.001 '**' 0.01 '*' 0.05 '.' 0.1 ' ' 1\n",
       "\n",
       "(Dispersion parameter for binomial family taken to be 1)\n",
       "\n",
       "    Null deviance: 70.204  on 60  degrees of freedom\n",
       "Residual deviance: 44.201  on 54  degrees of freedom\n",
       "AIC: 58.201\n",
       "\n",
       "Number of Fisher Scoring iterations: 7\n"
      ]
     },
     "metadata": {},
     "output_type": "display_data"
    },
    {
     "name": "stderr",
     "output_type": "stream",
     "text": [
      "Waiting for profiling to be done...\n",
      "\n"
     ]
    },
    {
     "data": {
      "text/html": [
       "<table class=\"dataframe\">\n",
       "<caption>A data.frame: 7 x 4</caption>\n",
       "<thead>\n",
       "\t<tr><th></th><th scope=col>B</th><th scope=col>Wald</th><th scope=col>OR_with_CI</th><th scope=col>P</th></tr>\n",
       "\t<tr><th></th><th scope=col>&lt;dbl&gt;</th><th scope=col>&lt;dbl&gt;</th><th scope=col>&lt;chr&gt;</th><th scope=col>&lt;chr&gt;</th></tr>\n",
       "</thead>\n",
       "<tbody>\n",
       "\t<tr><th scope=row>(Intercept)</th><td>-32.062</td><td>6.745</td><td>0(0~0)                </td><td>0.009</td></tr>\n",
       "\t<tr><th scope=row>ARHGDIG</th><td>  1.398</td><td>0.658</td><td>4.049(0.149~158.987)  </td><td>0.417</td></tr>\n",
       "\t<tr><th scope=row>DYNC1I1</th><td>  1.108</td><td>0.538</td><td>3.027(0.355~132.262)  </td><td>0.463</td></tr>\n",
       "\t<tr><th scope=row>GABRD</th><td>  3.403</td><td>3.219</td><td>30.056(1.018~2089.874)</td><td>0.073</td></tr>\n",
       "\t<tr><th scope=row>HMP19</th><td> -0.098</td><td>0.006</td><td>0.907(0.079~10.626)   </td><td>0.936</td></tr>\n",
       "\t<tr><th scope=row>NELL1</th><td>  4.004</td><td>3.845</td><td>54.8(1.547~5372.511)  </td><td>0.050</td></tr>\n",
       "\t<tr><th scope=row>TUSC3</th><td> -5.913</td><td>5.859</td><td>0.003(0~0.167)        </td><td>0.015</td></tr>\n",
       "</tbody>\n",
       "</table>\n"
      ],
      "text/latex": [
       "A data.frame: 7 x 4\n",
       "\\begin{tabular}{r|llll}\n",
       "  & B & Wald & OR\\_with\\_CI & P\\\\\n",
       "  & <dbl> & <dbl> & <chr> & <chr>\\\\\n",
       "\\hline\n",
       "\t(Intercept) & -32.062 & 6.745 & 0(0\\textasciitilde{}0)                 & 0.009\\\\\n",
       "\tARHGDIG &   1.398 & 0.658 & 4.049(0.149\\textasciitilde{}158.987)   & 0.417\\\\\n",
       "\tDYNC1I1 &   1.108 & 0.538 & 3.027(0.355\\textasciitilde{}132.262)   & 0.463\\\\\n",
       "\tGABRD &   3.403 & 3.219 & 30.056(1.018\\textasciitilde{}2089.874) & 0.073\\\\\n",
       "\tHMP19 &  -0.098 & 0.006 & 0.907(0.079\\textasciitilde{}10.626)    & 0.936\\\\\n",
       "\tNELL1 &   4.004 & 3.845 & 54.8(1.547\\textasciitilde{}5372.511)   & 0.050\\\\\n",
       "\tTUSC3 &  -5.913 & 5.859 & 0.003(0\\textasciitilde{}0.167)         & 0.015\\\\\n",
       "\\end{tabular}\n"
      ],
      "text/markdown": [
       "\n",
       "A data.frame: 7 x 4\n",
       "\n",
       "| <!--/--> | B &lt;dbl&gt; | Wald &lt;dbl&gt; | OR_with_CI &lt;chr&gt; | P &lt;chr&gt; |\n",
       "|---|---|---|---|---|\n",
       "| (Intercept) | -32.062 | 6.745 | 0(0~0)                 | 0.009 |\n",
       "| ARHGDIG |   1.398 | 0.658 | 4.049(0.149~158.987)   | 0.417 |\n",
       "| DYNC1I1 |   1.108 | 0.538 | 3.027(0.355~132.262)   | 0.463 |\n",
       "| GABRD |   3.403 | 3.219 | 30.056(1.018~2089.874) | 0.073 |\n",
       "| HMP19 |  -0.098 | 0.006 | 0.907(0.079~10.626)    | 0.936 |\n",
       "| NELL1 |   4.004 | 3.845 | 54.8(1.547~5372.511)   | 0.050 |\n",
       "| TUSC3 |  -5.913 | 5.859 | 0.003(0~0.167)         | 0.015 |\n",
       "\n"
      ],
      "text/plain": [
       "            B       Wald  OR_with_CI             P    \n",
       "(Intercept) -32.062 6.745 0(0~0)                 0.009\n",
       "ARHGDIG       1.398 0.658 4.049(0.149~158.987)   0.417\n",
       "DYNC1I1       1.108 0.538 3.027(0.355~132.262)   0.463\n",
       "GABRD         3.403 3.219 30.056(1.018~2089.874) 0.073\n",
       "HMP19        -0.098 0.006 0.907(0.079~10.626)    0.936\n",
       "NELL1         4.004 3.845 54.8(1.547~5372.511)   0.050\n",
       "TUSC3        -5.913 5.859 0.003(0~0.167)         0.015"
      ]
     },
     "metadata": {},
     "output_type": "display_data"
    }
   ],
   "source": [
    "\n",
    "\n",
    "# train_sub = sample(nrow(data),9/10*nrow(data))\n",
    "# train_data = data[train_sub,]\n",
    "# test_data =data[-train_sub,]\n",
    "\n",
    "fit.reduce<-glm(Group~.,data=data,family=binomial())\n",
    "summary(fit.reduce)\n",
    "\n",
    "formatFit<-function(fit){\n",
    "  #取P值\n",
    "  p<-summary(fit)$coefficients[,4]\n",
    "  #wald值\n",
    "  wald<-summary(fit)$coefficients[,3]^2\n",
    "  #B值\n",
    "  valueB<-coef(fit)\n",
    "  #OR值\n",
    "  valueOR<-exp(coef(fit))\n",
    "  #OR值得95%CI\n",
    "  confitOR<-exp(confint(fit))\n",
    "  data.frame(\n",
    "    B=round(valueB,3),\n",
    "    Wald=round(wald,3),\n",
    "    OR_with_CI=paste(round(valueOR,3),\"(\",\n",
    "               round(confitOR[,1],3),\"~\",round(confitOR[,2],3),\")\",sep=\"\"),\n",
    "    P=format.pval(p,digits = 3,eps=0.001)\n",
    "  )\n",
    "}\n",
    "\n",
    "formatFit(fit.reduce)"
   ]
  },
  {
   "cell_type": "code",
   "execution_count": 99,
   "id": "f7da77f0-cf12-41b1-8f5a-0cf327535144",
   "metadata": {
    "scrolled": true
   },
   "outputs": [
    {
     "data": {
      "text/plain": [
       "\n",
       "Call:\n",
       "glm(formula = Group ~ ., family = binomial(), data = data)\n",
       "\n",
       "Deviance Residuals: \n",
       "    Min       1Q   Median       3Q      Max  \n",
       "-1.7006  -0.6344  -0.1225   0.5150   2.4855  \n",
       "\n",
       "Coefficients:\n",
       "             Estimate Std. Error z value Pr(>|z|)   \n",
       "(Intercept) -32.06216   12.34493  -2.597   0.0094 **\n",
       "ARHGDIG       1.39842    1.72452   0.811   0.4174   \n",
       "DYNC1I1       1.10750    1.51018   0.733   0.4633   \n",
       "GABRD         3.40305    1.89677   1.794   0.0728 . \n",
       "HMP19        -0.09815    1.21764  -0.081   0.9358   \n",
       "NELL1         4.00368    2.04186   1.961   0.0499 * \n",
       "TUSC3        -5.91299    2.44283  -2.421   0.0155 * \n",
       "---\n",
       "Signif. codes:  0 '***' 0.001 '**' 0.01 '*' 0.05 '.' 0.1 ' ' 1\n",
       "\n",
       "(Dispersion parameter for binomial family taken to be 1)\n",
       "\n",
       "    Null deviance: 70.204  on 60  degrees of freedom\n",
       "Residual deviance: 44.201  on 54  degrees of freedom\n",
       "AIC: 58.201\n",
       "\n",
       "Number of Fisher Scoring iterations: 7\n"
      ]
     },
     "metadata": {},
     "output_type": "display_data"
    }
   ],
   "source": [
    "fit.reduce<-glm(Group~. ,data=data,family=binomial())\n",
    "summary(fit.reduce)"
   ]
  },
  {
   "cell_type": "code",
   "execution_count": 100,
   "id": "7855c6f4-b5e5-44c4-a920-cd60a46e1c65",
   "metadata": {
    "scrolled": true
   },
   "outputs": [
    {
     "name": "stdout",
     "output_type": "stream",
     "text": [
      "Start:  AIC=58.2\n",
      "Group ~ ARHGDIG + DYNC1I1 + GABRD + HMP19 + NELL1 + TUSC3\n",
      "\n",
      "          Df Deviance    AIC\n",
      "- HMP19    1   44.208 56.208\n",
      "- ARHGDIG  1   44.883 56.883\n",
      "- DYNC1I1  1   45.004 57.004\n",
      "<none>         44.201 58.201\n",
      "- GABRD    1   48.085 60.085\n",
      "- NELL1    1   49.160 61.160\n",
      "- TUSC3    1   53.010 65.010\n",
      "\n",
      "Step:  AIC=56.21\n",
      "Group ~ ARHGDIG + DYNC1I1 + GABRD + NELL1 + TUSC3\n",
      "\n",
      "          Df Deviance    AIC\n",
      "- DYNC1I1  1   45.016 55.016\n",
      "- ARHGDIG  1   45.120 55.120\n",
      "<none>         44.208 56.208\n",
      "- GABRD    1   48.174 58.174\n",
      "+ HMP19    1   44.201 58.201\n",
      "- NELL1    1   50.366 60.366\n",
      "- TUSC3    1   53.162 63.162\n",
      "\n",
      "Step:  AIC=55.02\n",
      "Group ~ ARHGDIG + GABRD + NELL1 + TUSC3\n",
      "\n",
      "          Df Deviance    AIC\n",
      "- ARHGDIG  1   45.494 53.494\n",
      "<none>         45.016 55.016\n",
      "+ DYNC1I1  1   44.208 56.208\n",
      "+ HMP19    1   45.004 57.004\n",
      "- GABRD    1   50.337 58.337\n",
      "- TUSC3    1   53.188 61.188\n",
      "- NELL1    1   53.313 61.313\n",
      "\n",
      "Step:  AIC=53.49\n",
      "Group ~ GABRD + NELL1 + TUSC3\n",
      "\n",
      "          Df Deviance    AIC\n",
      "<none>         45.494 53.494\n",
      "+ ARHGDIG  1   45.016 55.016\n",
      "+ DYNC1I1  1   45.120 55.120\n",
      "+ HMP19    1   45.386 55.386\n",
      "- TUSC3    1   53.770 59.770\n",
      "- GABRD    1   54.259 60.259\n",
      "- NELL1    1   54.455 60.455\n"
     ]
    },
    {
     "data": {
      "text/plain": [
       "\n",
       "Call:\n",
       "glm(formula = Group ~ GABRD + NELL1 + TUSC3, family = binomial(), \n",
       "    data = data)\n",
       "\n",
       "Deviance Residuals: \n",
       "    Min       1Q   Median       3Q      Max  \n",
       "-1.6589  -0.5927  -0.1531   0.6237   2.4830  \n",
       "\n",
       "Coefficients:\n",
       "            Estimate Std. Error z value Pr(>|z|)   \n",
       "(Intercept)  -24.998      8.354  -2.992  0.00277 **\n",
       "GABRD          4.123      1.676   2.460  0.01391 * \n",
       "NELL1          4.362      1.790   2.437  0.01480 * \n",
       "TUSC3         -5.289      2.242  -2.360  0.01830 * \n",
       "---\n",
       "Signif. codes:  0 '***' 0.001 '**' 0.01 '*' 0.05 '.' 0.1 ' ' 1\n",
       "\n",
       "(Dispersion parameter for binomial family taken to be 1)\n",
       "\n",
       "    Null deviance: 70.204  on 60  degrees of freedom\n",
       "Residual deviance: 45.494  on 57  degrees of freedom\n",
       "AIC: 53.494\n",
       "\n",
       "Number of Fisher Scoring iterations: 7\n"
      ]
     },
     "metadata": {},
     "output_type": "display_data"
    }
   ],
   "source": [
    "logit.step <- step(fit.reduce,direction='both')\n",
    "summary(logit.step)"
   ]
  },
  {
   "cell_type": "code",
   "execution_count": 101,
   "id": "85771b71-91a5-4530-9bb8-6a0389cb7d7e",
   "metadata": {},
   "outputs": [
    {
     "name": "stderr",
     "output_type": "stream",
     "text": [
      "Waiting for profiling to be done...\n",
      "\n"
     ]
    },
    {
     "data": {
      "text/html": [
       "<table class=\"dataframe\">\n",
       "<caption>A data.frame: 4 x 4</caption>\n",
       "<thead>\n",
       "\t<tr><th></th><th scope=col>B</th><th scope=col>Wald</th><th scope=col>OR_with_CI</th><th scope=col>P</th></tr>\n",
       "\t<tr><th></th><th scope=col>&lt;dbl&gt;</th><th scope=col>&lt;dbl&gt;</th><th scope=col>&lt;chr&gt;</th><th scope=col>&lt;chr&gt;</th></tr>\n",
       "</thead>\n",
       "<tbody>\n",
       "\t<tr><th scope=row>(Intercept)</th><td>-24.998</td><td>8.954</td><td>0(0~0)                </td><td>0.003</td></tr>\n",
       "\t<tr><th scope=row>GABRD</th><td>  4.123</td><td>6.049</td><td>61.748(3.503~2939.636)</td><td>0.014</td></tr>\n",
       "\t<tr><th scope=row>NELL1</th><td>  4.362</td><td>5.940</td><td>78.444(3.736~4696.59) </td><td>0.015</td></tr>\n",
       "\t<tr><th scope=row>TUSC3</th><td> -5.289</td><td>5.567</td><td>0.005(0~0.224)        </td><td>0.018</td></tr>\n",
       "</tbody>\n",
       "</table>\n"
      ],
      "text/latex": [
       "A data.frame: 4 x 4\n",
       "\\begin{tabular}{r|llll}\n",
       "  & B & Wald & OR\\_with\\_CI & P\\\\\n",
       "  & <dbl> & <dbl> & <chr> & <chr>\\\\\n",
       "\\hline\n",
       "\t(Intercept) & -24.998 & 8.954 & 0(0\\textasciitilde{}0)                 & 0.003\\\\\n",
       "\tGABRD &   4.123 & 6.049 & 61.748(3.503\\textasciitilde{}2939.636) & 0.014\\\\\n",
       "\tNELL1 &   4.362 & 5.940 & 78.444(3.736\\textasciitilde{}4696.59)  & 0.015\\\\\n",
       "\tTUSC3 &  -5.289 & 5.567 & 0.005(0\\textasciitilde{}0.224)         & 0.018\\\\\n",
       "\\end{tabular}\n"
      ],
      "text/markdown": [
       "\n",
       "A data.frame: 4 x 4\n",
       "\n",
       "| <!--/--> | B &lt;dbl&gt; | Wald &lt;dbl&gt; | OR_with_CI &lt;chr&gt; | P &lt;chr&gt; |\n",
       "|---|---|---|---|---|\n",
       "| (Intercept) | -24.998 | 8.954 | 0(0~0)                 | 0.003 |\n",
       "| GABRD |   4.123 | 6.049 | 61.748(3.503~2939.636) | 0.014 |\n",
       "| NELL1 |   4.362 | 5.940 | 78.444(3.736~4696.59)  | 0.015 |\n",
       "| TUSC3 |  -5.289 | 5.567 | 0.005(0~0.224)         | 0.018 |\n",
       "\n"
      ],
      "text/plain": [
       "            B       Wald  OR_with_CI             P    \n",
       "(Intercept) -24.998 8.954 0(0~0)                 0.003\n",
       "GABRD         4.123 6.049 61.748(3.503~2939.636) 0.014\n",
       "NELL1         4.362 5.940 78.444(3.736~4696.59)  0.015\n",
       "TUSC3        -5.289 5.567 0.005(0~0.224)         0.018"
      ]
     },
     "metadata": {},
     "output_type": "display_data"
    }
   ],
   "source": [
    "# train_sub = sample(nrow(data),9/10*nrow(data))\n",
    "# train_data = data[train_sub,]\n",
    "# test_data =data[-train_sub,]\n",
    "\n",
    "# fit.reduce<-glm(Group~.,data=data,family=binomial())\n",
    "# summary(fit.reduce)\n",
    "\n",
    "formatFit<-function(fit){\n",
    "  #取P值\n",
    "  p<-summary(fit)$coefficients[,4]\n",
    "  #wald值\n",
    "  wald<-summary(fit)$coefficients[,3]^2\n",
    "  #B值\n",
    "  valueB<-coef(fit)\n",
    "  #OR值\n",
    "  valueOR<-exp(coef(fit))\n",
    "  #OR值得95%CI\n",
    "  confitOR<-exp(confint(fit))\n",
    "  data.frame(\n",
    "    B=round(valueB,3),\n",
    "    Wald=round(wald,3),\n",
    "    OR_with_CI=paste(round(valueOR,3),\"(\",\n",
    "               round(confitOR[,1],3),\"~\",round(confitOR[,2],3),\")\",sep=\"\"),\n",
    "    P=format.pval(p,digits = 3,eps=0.001)\n",
    "  )\n",
    "}\n",
    "\n",
    "formatFit(logit.step)"
   ]
  },
  {
   "cell_type": "code",
   "execution_count": 102,
   "id": "8e261651-b999-4164-8a3c-7749fbc5292c",
   "metadata": {},
   "outputs": [
    {
     "name": "stderr",
     "output_type": "stream",
     "text": [
      "Waiting for profiling to be done...\n",
      "\n",
      "Waiting for profiling to be done...\n",
      "\n"
     ]
    }
   ],
   "source": [
    "b = rownames(formatFit(logit.step))[2:length(rownames(formatFit(logit.step)))]"
   ]
  },
  {
   "cell_type": "code",
   "execution_count": 103,
   "id": "d3f8d9e0-5d72-42fd-b158-690527f13040",
   "metadata": {},
   "outputs": [],
   "source": [
    "#save(b,file = 'b.rda')"
   ]
  },
  {
   "cell_type": "code",
   "execution_count": 104,
   "id": "e627183c-946c-4097-9531-439cdbe77e97",
   "metadata": {},
   "outputs": [],
   "source": [
    "data = data[,c('Group',b)]"
   ]
  },
  {
   "cell_type": "code",
   "execution_count": 105,
   "id": "b21ff9f7-45a6-4c44-bf6b-fde624298626",
   "metadata": {},
   "outputs": [],
   "source": [
    "library(autoReg)"
   ]
  },
  {
   "cell_type": "code",
   "execution_count": 106,
   "id": "57f11164-ca96-4184-a750-1f9c548dbd53",
   "metadata": {
    "scrolled": true
   },
   "outputs": [
    {
     "data": {
      "text/html": [
       "<table class=\"dataframe\">\n",
       "<caption>A autoReg: 3 x 7</caption>\n",
       "<thead>\n",
       "\t<tr><th scope=col>name</th><th scope=col>desc</th><th scope=col>0 (N=45)</th><th scope=col>1 (N=16)</th><th scope=col>id</th><th scope=col>OR (univariable)</th><th scope=col>OR (multivariable)</th></tr>\n",
       "\t<tr><th scope=col>&lt;chr&gt;</th><th scope=col>&lt;chr&gt;</th><th scope=col>&lt;chr&gt;</th><th scope=col>&lt;chr&gt;</th><th scope=col>&lt;chr&gt;</th><th scope=col>&lt;chr&gt;</th><th scope=col>&lt;chr&gt;</th></tr>\n",
       "</thead>\n",
       "<tbody>\n",
       "\t<tr><td>GABRD</td><td>Mean &lt;U+00B1&gt; SD</td><td>7.4 &lt;U+00B1&gt; 0.8</td><td>8.1 &lt;U+00B1&gt; 0.4</td><td>GABRD</td><td>8.14 (1.98-33.49, p=.004)</td><td>61.75 (2.31-1650.14, p=.014)</td></tr>\n",
       "\t<tr><td>NELL1</td><td>Mean &lt;U+00B1&gt; SD</td><td>7.3 &lt;U+00B1&gt; 0.7</td><td>8.0 &lt;U+00B1&gt; 0.5</td><td>NELL1</td><td>7.84 (2.16-28.41, p=.002)</td><td>78.44 (2.35-2618.80, p=.015)</td></tr>\n",
       "\t<tr><td>TUSC3</td><td>Mean &lt;U+00B1&gt; SD</td><td>7.6 &lt;U+00B1&gt; 0.7</td><td>8.1 &lt;U+00B1&gt; 0.6</td><td>TUSC3</td><td>3.98 (1.38-11.47, p=.010)</td><td><span style=white-space:pre-wrap>0.01 (0.00-0.41, p=.018)    </span></td></tr>\n",
       "</tbody>\n",
       "</table>\n"
      ],
      "text/latex": [
       "A autoReg: 3 x 7\n",
       "\\begin{tabular}{lllllll}\n",
       " name & desc & 0 (N=45) & 1 (N=16) & id & OR (univariable) & OR (multivariable)\\\\\n",
       " <chr> & <chr> & <chr> & <chr> & <chr> & <chr> & <chr>\\\\\n",
       "\\hline\n",
       "\t GABRD & Mean <U+00B1> SD & 7.4 <U+00B1> 0.8 & 8.1 <U+00B1> 0.4 & GABRD & 8.14 (1.98-33.49, p=.004) & 61.75 (2.31-1650.14, p=.014)\\\\\n",
       "\t NELL1 & Mean <U+00B1> SD & 7.3 <U+00B1> 0.7 & 8.0 <U+00B1> 0.5 & NELL1 & 7.84 (2.16-28.41, p=.002) & 78.44 (2.35-2618.80, p=.015)\\\\\n",
       "\t TUSC3 & Mean <U+00B1> SD & 7.6 <U+00B1> 0.7 & 8.1 <U+00B1> 0.6 & TUSC3 & 3.98 (1.38-11.47, p=.010) & 0.01 (0.00-0.41, p=.018)    \\\\\n",
       "\\end{tabular}\n"
      ],
      "text/markdown": [
       "\n",
       "A autoReg: 3 x 7\n",
       "\n",
       "| name &lt;chr&gt; | desc &lt;chr&gt; | 0 (N=45) &lt;chr&gt; | 1 (N=16) &lt;chr&gt; | id &lt;chr&gt; | OR (univariable) &lt;chr&gt; | OR (multivariable) &lt;chr&gt; |\n",
       "|---|---|---|---|---|---|---|\n",
       "| GABRD | Mean &lt;U+00B1&gt; SD | 7.4 &lt;U+00B1&gt; 0.8 | 8.1 &lt;U+00B1&gt; 0.4 | GABRD | 8.14 (1.98-33.49, p=.004) | 61.75 (2.31-1650.14, p=.014) |\n",
       "| NELL1 | Mean &lt;U+00B1&gt; SD | 7.3 &lt;U+00B1&gt; 0.7 | 8.0 &lt;U+00B1&gt; 0.5 | NELL1 | 7.84 (2.16-28.41, p=.002) | 78.44 (2.35-2618.80, p=.015) |\n",
       "| TUSC3 | Mean &lt;U+00B1&gt; SD | 7.6 &lt;U+00B1&gt; 0.7 | 8.1 &lt;U+00B1&gt; 0.6 | TUSC3 | 3.98 (1.38-11.47, p=.010) | 0.01 (0.00-0.41, p=.018)     |\n",
       "\n"
      ],
      "text/plain": [
       "  name  desc             0 (N=45)         1 (N=16)         id   \n",
       "1 GABRD Mean <U+00B1> SD 7.4 <U+00B1> 0.8 8.1 <U+00B1> 0.4 GABRD\n",
       "2 NELL1 Mean <U+00B1> SD 7.3 <U+00B1> 0.7 8.0 <U+00B1> 0.5 NELL1\n",
       "3 TUSC3 Mean <U+00B1> SD 7.6 <U+00B1> 0.7 8.1 <U+00B1> 0.6 TUSC3\n",
       "  OR (univariable)          OR (multivariable)          \n",
       "1 8.14 (1.98-33.49, p=.004) 61.75 (2.31-1650.14, p=.014)\n",
       "2 7.84 (2.16-28.41, p=.002) 78.44 (2.35-2618.80, p=.015)\n",
       "3 3.98 (1.38-11.47, p=.010) 0.01 (0.00-0.41, p=.018)    "
      ]
     },
     "metadata": {},
     "output_type": "display_data"
    }
   ],
   "source": [
    "overall.log =  glm(Group~.,data=data,family=binomial())\n",
    "\n",
    "model3<-autoReg(overall.log,uni=TRUE,milti=TRUE,threshold=0.05)\n",
    "\n",
    "model3"
   ]
  },
  {
   "cell_type": "code",
   "execution_count": 107,
   "id": "e9250122-9dd6-4a88-82f6-e7db4765465d",
   "metadata": {
    "scrolled": true
   },
   "outputs": [],
   "source": [
    "library(caret)"
   ]
  },
  {
   "cell_type": "code",
   "execution_count": 108,
   "id": "f3a49092-6398-4cbc-b07c-0514175cd723",
   "metadata": {},
   "outputs": [
    {
     "name": "stderr",
     "output_type": "stream",
     "text": [
      "Setting levels: control = 0, case = 1\n",
      "\n",
      "Setting direction: controls < cases\n",
      "\n",
      "Setting levels: control = 0, case = 1\n",
      "\n",
      "Setting direction: controls < cases\n",
      "\n",
      "Setting levels: control = 0, case = 1\n",
      "\n",
      "Setting direction: controls < cases\n",
      "\n",
      "Setting levels: control = 0, case = 1\n",
      "\n",
      "Setting direction: controls < cases\n",
      "\n",
      "Setting levels: control = 0, case = 1\n",
      "\n",
      "Setting direction: controls < cases\n",
      "\n",
      "Setting levels: control = 0, case = 1\n",
      "\n",
      "Setting direction: controls < cases\n",
      "\n",
      "Setting levels: control = 0, case = 1\n",
      "\n",
      "Setting direction: controls < cases\n",
      "\n",
      "Setting levels: control = 0, case = 1\n",
      "\n",
      "Setting direction: controls < cases\n",
      "\n",
      "Setting levels: control = 0, case = 1\n",
      "\n",
      "Setting direction: controls < cases\n",
      "\n",
      "Setting levels: control = 0, case = 1\n",
      "\n",
      "Setting direction: controls < cases\n",
      "\n"
     ]
    },
    {
     "data": {
      "text/html": [
       "0.833548881673882"
      ],
      "text/latex": [
       "0.833548881673882"
      ],
      "text/markdown": [
       "0.833548881673882"
      ],
      "text/plain": [
       "[1] 0.8335489"
      ]
     },
     "metadata": {},
     "output_type": "display_data"
    }
   ],
   "source": [
    "set.seed(141)\n",
    "#单纯10折交叉验证，time=1\n",
    "folds <-createMultiFolds(y=data$Group,k=5,times=5)\n",
    "#10次批量训练与验证\n",
    "#做成循环\n",
    "auc_value<-as.numeric()\n",
    "for(i in 1:10){\n",
    "  train<- data[ folds[[i]],] \n",
    "  test <- data[-folds[[i]],] \n",
    "  model<-glm(Group~.,data=train,family=binomial())  #TNFSF14+CCNA2+MARCKS+SGOL1+SAP130\n",
    "    \n",
    "  model_pre<-predict(model,type='response', newdata=test)\n",
    "    \n",
    "  auc_value<- append(auc_value,\n",
    "                     as.numeric(pROC::auc(as.numeric(test[,1]),model_pre)))\n",
    "}\n",
    "mean(auc_value)"
   ]
  },
  {
   "cell_type": "code",
   "execution_count": 109,
   "id": "28cb34d6-1a0c-4d80-8537-e313364ed847",
   "metadata": {},
   "outputs": [
    {
     "data": {
      "text/html": [
       "<style>\n",
       ".list-inline {list-style: none; margin:0; padding: 0}\n",
       ".list-inline>li {display: inline-block}\n",
       ".list-inline>li:not(:last-child)::after {content: \"\\00b7\"; padding: 0 .5ex}\n",
       "</style>\n",
       "<ol class=list-inline><li>0.863636363636364</li><li>0.885714285714286</li><li>0.71875</li><li>0.851851851851852</li><li>0.85</li><li>0.9</li><li>0.75</li><li>0.818181818181818</li><li>0.771428571428571</li><li>0.925925925925926</li></ol>\n"
      ],
      "text/latex": [
       "\\begin{enumerate*}\n",
       "\\item 0.863636363636364\n",
       "\\item 0.885714285714286\n",
       "\\item 0.71875\n",
       "\\item 0.851851851851852\n",
       "\\item 0.85\n",
       "\\item 0.9\n",
       "\\item 0.75\n",
       "\\item 0.818181818181818\n",
       "\\item 0.771428571428571\n",
       "\\item 0.925925925925926\n",
       "\\end{enumerate*}\n"
      ],
      "text/markdown": [
       "1. 0.863636363636364\n",
       "2. 0.885714285714286\n",
       "3. 0.71875\n",
       "4. 0.851851851851852\n",
       "5. 0.85\n",
       "6. 0.9\n",
       "7. 0.75\n",
       "8. 0.818181818181818\n",
       "9. 0.771428571428571\n",
       "10. 0.925925925925926\n",
       "\n",
       "\n"
      ],
      "text/plain": [
       " [1] 0.8636364 0.8857143 0.7187500 0.8518519 0.8500000 0.9000000 0.7500000\n",
       " [8] 0.8181818 0.7714286 0.9259259"
      ]
     },
     "metadata": {},
     "output_type": "display_data"
    }
   ],
   "source": [
    "auc_value"
   ]
  },
  {
   "cell_type": "code",
   "execution_count": 110,
   "id": "712dde81-97a8-45dc-b3cd-07d0329b6fc8",
   "metadata": {},
   "outputs": [
    {
     "name": "stdout",
     "output_type": "stream",
     "text": [
      "[1] 10\n"
     ]
    },
    {
     "name": "stderr",
     "output_type": "stream",
     "text": [
      "Warning message:\n",
      "\"glm.fit: fitted probabilities numerically 0 or 1 occurred\"\n"
     ]
    }
   ],
   "source": [
    "num <- which.max(auc_value)\n",
    "print(num)\n",
    "\n",
    "fold_test <- data[folds[[num]],]   \n",
    "fold_train <- data[-folds[[num]],]\n",
    "\n",
    "fold_pre <- glm(Group~.,data=fold_train,family=binomial())\n",
    "\n",
    "fold_predict <- predict(fold_pre,type='response',newdata=fold_test)\n",
    "\n",
    "options(repr.plot.width = 6)"
   ]
  },
  {
   "cell_type": "code",
   "execution_count": 111,
   "id": "9979af20-b937-4718-867d-4dbab31bb600",
   "metadata": {},
   "outputs": [
    {
     "name": "stderr",
     "output_type": "stream",
     "text": [
      "Setting levels: control = 0, case = 1\n",
      "\n",
      "Setting direction: controls < cases\n",
      "\n"
     ]
    },
    {
     "data": {
      "image/png": "[encoded data removed]",
      "text/plain": [
       "Plot with title \"\""
      ]
     },
     "metadata": {
      "image/png": {
       "height": 420,
       "width": 360
      }
     },
     "output_type": "display_data"
    }
   ],
   "source": [
    "roc_curve <- pROC::roc(as.numeric(fold_test$Group),fold_predict)\n",
    "plot(roc_curve, print.auc=TRUE, auc.polygon=TRUE, grid=c(0.1, 0.2),\n",
    "     grid.col=c(\"green\", \"red\"), max.auc.polygon=TRUE,\n",
    "     auc.polygon.col=\"skyblue\", print.thres=TRUE,main=\"\")"
   ]
  },
  {
   "cell_type": "code",
   "execution_count": null,
   "id": "7b8045fa-9991-44e6-8fb6-d6a2c41b408d",
   "metadata": {},
   "outputs": [],
   "source": []
  },
  {
   "cell_type": "code",
   "execution_count": null,
   "id": "e9f2bff8-2716-4d71-8897-623c62cd73bc",
   "metadata": {},
   "outputs": [],
   "source": []
  },
  {
   "cell_type": "code",
   "execution_count": null,
   "id": "d36fe5d9-cb4d-46b4-8da9-1b6d4e40eddd",
   "metadata": {},
   "outputs": [],
   "source": []
  },
  {
   "cell_type": "code",
   "execution_count": null,
   "id": "bcfea542-dc77-4120-b555-4d13c704f27f",
   "metadata": {},
   "outputs": [],
   "source": []
  },
  {
   "cell_type": "code",
   "execution_count": null,
   "id": "d61a1eaa-d6f8-4fdc-b467-56bc8d7290fe",
   "metadata": {},
   "outputs": [],
   "source": []
  },
  {
   "cell_type": "code",
   "execution_count": null,
   "id": "d733d2f3-291c-4d71-8d23-f2ad0e034029",
   "metadata": {},
   "outputs": [],
   "source": []
  },
  {
   "cell_type": "code",
   "execution_count": null,
   "id": "ae9ea238-2505-4a93-9400-0368ee46cd18",
   "metadata": {},
   "outputs": [],
   "source": []
  },
  {
   "cell_type": "code",
   "execution_count": null,
   "id": "1240833b-e005-44f6-9683-2b67c5eb2d37",
   "metadata": {},
   "outputs": [],
   "source": []
  },
  {
   "cell_type": "code",
   "execution_count": null,
   "id": "6c29c41d-be83-4a37-956a-f2a79d51ce45",
   "metadata": {},
   "outputs": [],
   "source": []
  },
  {
   "cell_type": "code",
   "execution_count": null,
   "id": "10fa7373-0fa0-4421-86e7-598aad243b7f",
   "metadata": {},
   "outputs": [],
   "source": []
  },
  {
   "cell_type": "code",
   "execution_count": null,
   "id": "3549d15c-d154-49cc-8a0b-2e3f949ca59b",
   "metadata": {},
   "outputs": [],
   "source": []
  },
  {
   "cell_type": "code",
   "execution_count": null,
   "id": "457bfabd-cf12-48e8-8d48-995a14564007",
   "metadata": {},
   "outputs": [],
   "source": []
  }
 ],
 "metadata": {
  "kernelspec": {
   "display_name": "R",
   "language": "R",
   "name": "ir"
  },
  "language_info": {
   "codemirror_mode": "r",
   "file_extension": ".r",
   "mimetype": "text/x-r-source",
   "name": "R",
   "pygments_lexer": "r",
   "version": "4.2.1"
  }
 },
 "nbformat": 4,
 "nbformat_minor": 5
}
