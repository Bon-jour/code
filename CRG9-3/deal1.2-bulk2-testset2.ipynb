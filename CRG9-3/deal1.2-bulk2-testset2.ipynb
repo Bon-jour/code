{
 "cells": [
  {
   "cell_type": "code",
   "execution_count": 2,
   "id": "6f6a820f-3cb6-4fb0-a5a0-fd2fc35b5f11",
   "metadata": {},
   "outputs": [],
   "source": [
    "setwd('/import/DB/fel/BJTC-204')"
   ]
  },
  {
   "cell_type": "code",
   "execution_count": 3,
   "id": "fe1ac44c-02a1-49a3-80a3-41a4342f5ae9",
   "metadata": {},
   "outputs": [
    {
     "data": {
      "text/html": [
       "<style>\n",
       ".list-inline {list-style: none; margin:0; padding: 0}\n",
       ".list-inline>li {display: inline-block}\n",
       ".list-inline>li:not(:last-child)::after {content: \"\\00b7\"; padding: 0 .5ex}\n",
       "</style>\n",
       "<ol class=list-inline><li>33714</li><li>60</li></ol>\n"
      ],
      "text/latex": [
       "\\begin{enumerate*}\n",
       "\\item 33714\n",
       "\\item 60\n",
       "\\end{enumerate*}\n"
      ],
      "text/markdown": [
       "1. 33714\n",
       "2. 60\n",
       "\n",
       "\n"
      ],
      "text/plain": [
       "[1] 33714    60"
      ]
     },
     "metadata": {},
     "output_type": "display_data"
    },
    {
     "data": {
      "text/html": [
       "<table class=\"dataframe\">\n",
       "<caption>A data.frame: 1 x 59</caption>\n",
       "<thead>\n",
       "\t<tr><th></th><th scope=col>V1</th><th scope=col>V2</th><th scope=col>V3</th><th scope=col>V4</th><th scope=col>V5</th><th scope=col>V6</th><th scope=col>V7</th><th scope=col>V8</th><th scope=col>V9</th><th scope=col>V10</th><th scope=col>...</th><th scope=col>V50</th><th scope=col>V51</th><th scope=col>V52</th><th scope=col>V53</th><th scope=col>V54</th><th scope=col>V55</th><th scope=col>V56</th><th scope=col>V57</th><th scope=col>V58</th><th scope=col>V59</th></tr>\n",
       "\t<tr><th></th><th scope=col>&lt;dbl&gt;</th><th scope=col>&lt;dbl&gt;</th><th scope=col>&lt;dbl&gt;</th><th scope=col>&lt;dbl&gt;</th><th scope=col>&lt;dbl&gt;</th><th scope=col>&lt;dbl&gt;</th><th scope=col>&lt;dbl&gt;</th><th scope=col>&lt;dbl&gt;</th><th scope=col>&lt;dbl&gt;</th><th scope=col>&lt;dbl&gt;</th><th scope=col>...</th><th scope=col>&lt;dbl&gt;</th><th scope=col>&lt;dbl&gt;</th><th scope=col>&lt;dbl&gt;</th><th scope=col>&lt;dbl&gt;</th><th scope=col>&lt;dbl&gt;</th><th scope=col>&lt;dbl&gt;</th><th scope=col>&lt;dbl&gt;</th><th scope=col>&lt;dbl&gt;</th><th scope=col>&lt;dbl&gt;</th><th scope=col>&lt;dbl&gt;</th></tr>\n",
       "</thead>\n",
       "<tbody>\n",
       "\t<tr><th scope=row>SERPINH1</th><td>23.89512</td><td>31.1991</td><td>14.57295</td><td>30.94508</td><td>26.01062</td><td>651.4357</td><td>21.21053</td><td>1443.247</td><td>186.2445</td><td>39.98714</td><td>...</td><td>27.94649</td><td>24.57362</td><td>96.4509</td><td>19.60175</td><td>40.79904</td><td>19.91537</td><td>29.82948</td><td>31.49361</td><td>16.68676</td><td>25.91386</td></tr>\n",
       "</tbody>\n",
       "</table>\n"
      ],
      "text/latex": [
       "A data.frame: 1 x 59\n",
       "\\begin{tabular}{r|lllllllllllllllllllll}\n",
       "  & V1 & V2 & V3 & V4 & V5 & V6 & V7 & V8 & V9 & V10 & ... & V50 & V51 & V52 & V53 & V54 & V55 & V56 & V57 & V58 & V59\\\\\n",
       "  & <dbl> & <dbl> & <dbl> & <dbl> & <dbl> & <dbl> & <dbl> & <dbl> & <dbl> & <dbl> & ... & <dbl> & <dbl> & <dbl> & <dbl> & <dbl> & <dbl> & <dbl> & <dbl> & <dbl> & <dbl>\\\\\n",
       "\\hline\n",
       "\tSERPINH1 & 23.89512 & 31.1991 & 14.57295 & 30.94508 & 26.01062 & 651.4357 & 21.21053 & 1443.247 & 186.2445 & 39.98714 & ... & 27.94649 & 24.57362 & 96.4509 & 19.60175 & 40.79904 & 19.91537 & 29.82948 & 31.49361 & 16.68676 & 25.91386\\\\\n",
       "\\end{tabular}\n"
      ],
      "text/markdown": [
       "\n",
       "A data.frame: 1 x 59\n",
       "\n",
       "| <!--/--> | V1 &lt;dbl&gt; | V2 &lt;dbl&gt; | V3 &lt;dbl&gt; | V4 &lt;dbl&gt; | V5 &lt;dbl&gt; | V6 &lt;dbl&gt; | V7 &lt;dbl&gt; | V8 &lt;dbl&gt; | V9 &lt;dbl&gt; | V10 &lt;dbl&gt; | ... ... | V50 &lt;dbl&gt; | V51 &lt;dbl&gt; | V52 &lt;dbl&gt; | V53 &lt;dbl&gt; | V54 &lt;dbl&gt; | V55 &lt;dbl&gt; | V56 &lt;dbl&gt; | V57 &lt;dbl&gt; | V58 &lt;dbl&gt; | V59 &lt;dbl&gt; |\n",
       "|---|---|---|---|---|---|---|---|---|---|---|---|---|---|---|---|---|---|---|---|---|---|\n",
       "| SERPINH1 | 23.89512 | 31.1991 | 14.57295 | 30.94508 | 26.01062 | 651.4357 | 21.21053 | 1443.247 | 186.2445 | 39.98714 | ... | 27.94649 | 24.57362 | 96.4509 | 19.60175 | 40.79904 | 19.91537 | 29.82948 | 31.49361 | 16.68676 | 25.91386 |\n",
       "\n"
      ],
      "text/plain": [
       "         V1       V2      V3       V4       V5       V6       V7       V8      \n",
       "SERPINH1 23.89512 31.1991 14.57295 30.94508 26.01062 651.4357 21.21053 1443.247\n",
       "         V9       V10      ... V50      V51      V52     V53      V54     \n",
       "SERPINH1 186.2445 39.98714 ... 27.94649 24.57362 96.4509 19.60175 40.79904\n",
       "         V55      V56      V57      V58      V59     \n",
       "SERPINH1 19.91537 29.82948 31.49361 16.68676 25.91386"
      ]
     },
     "metadata": {},
     "output_type": "display_data"
    },
    {
     "name": "stderr",
     "output_type": "stream",
     "text": [
      "\n",
      "Attaching package: 'dplyr'\n",
      "\n",
      "\n",
      "The following objects are masked from 'package:stats':\n",
      "\n",
      "    filter, lag\n",
      "\n",
      "\n",
      "The following objects are masked from 'package:base':\n",
      "\n",
      "    intersect, setdiff, setequal, union\n",
      "\n",
      "\n"
     ]
    },
    {
     "data": {
      "text/plain": [
       "\n",
       "CON MDD \n",
       " 23  19 "
      ]
     },
     "metadata": {},
     "output_type": "display_data"
    },
    {
     "data": {
      "text/html": [
       "<style>\n",
       ".list-inline {list-style: none; margin:0; padding: 0}\n",
       ".list-inline>li {display: inline-block}\n",
       ".list-inline>li:not(:last-child)::after {content: \"\\00b7\"; padding: 0 .5ex}\n",
       "</style>\n",
       "<ol class=list-inline><li>3</li><li>42</li></ol>\n"
      ],
      "text/latex": [
       "\\begin{enumerate*}\n",
       "\\item 3\n",
       "\\item 42\n",
       "\\end{enumerate*}\n"
      ],
      "text/markdown": [
       "1. 3\n",
       "2. 42\n",
       "\n",
       "\n"
      ],
      "text/plain": [
       "[1]  3 42"
      ]
     },
     "metadata": {},
     "output_type": "display_data"
    },
    {
     "data": {
      "text/html": [
       "<table class=\"dataframe\">\n",
       "<caption>A data.frame: 2 x 4</caption>\n",
       "<thead>\n",
       "\t<tr><th></th><th scope=col>V1</th><th scope=col>V2</th><th scope=col>V3</th><th scope=col>V4</th></tr>\n",
       "\t<tr><th></th><th scope=col>&lt;chr&gt;</th><th scope=col>&lt;chr&gt;</th><th scope=col>&lt;int&gt;</th><th scope=col>&lt;chr&gt;</th></tr>\n",
       "</thead>\n",
       "<tbody>\n",
       "\t<tr><th scope=row>V35</th><td>V35</td><td>MDD</td><td>19</td><td>Male</td></tr>\n",
       "\t<tr><th scope=row>V36</th><td>V36</td><td>MDD</td><td>67</td><td>Male</td></tr>\n",
       "</tbody>\n",
       "</table>\n"
      ],
      "text/latex": [
       "A data.frame: 2 x 4\n",
       "\\begin{tabular}{r|llll}\n",
       "  & V1 & V2 & V3 & V4\\\\\n",
       "  & <chr> & <chr> & <int> & <chr>\\\\\n",
       "\\hline\n",
       "\tV35 & V35 & MDD & 19 & Male\\\\\n",
       "\tV36 & V36 & MDD & 67 & Male\\\\\n",
       "\\end{tabular}\n"
      ],
      "text/markdown": [
       "\n",
       "A data.frame: 2 x 4\n",
       "\n",
       "| <!--/--> | V1 &lt;chr&gt; | V2 &lt;chr&gt; | V3 &lt;int&gt; | V4 &lt;chr&gt; |\n",
       "|---|---|---|---|---|\n",
       "| V35 | V35 | MDD | 19 | Male |\n",
       "| V36 | V36 | MDD | 67 | Male |\n",
       "\n"
      ],
      "text/plain": [
       "    V1  V2  V3 V4  \n",
       "V35 V35 MDD 19 Male\n",
       "V36 V36 MDD 67 Male"
      ]
     },
     "metadata": {},
     "output_type": "display_data"
    }
   ],
   "source": [
    "load('/import/mdd.rna/GSE101521.rda')\n",
    "\n",
    "count = expr3\n",
    "\n",
    "dim(expr3)\n",
    "\n",
    "rownames(count) = count[,1]\n",
    "\n",
    "count = count[,-1]\n",
    "\n",
    "count['SERPINH1',]\n",
    "\n",
    "library(dplyr)\n",
    "\n",
    "cli = cli %>% dplyr::filter(V4 =='Male')\n",
    "\n",
    "library(dplyr)\n",
    "\n",
    "cli$V2 = gsub('MDD-S','MDD',cli$V2) \n",
    "\n",
    "table(cli$V2)\n",
    "\n",
    "rownames(cli) = cli[,1]\n",
    "\n",
    "con.sample = cli %>%  dplyr::filter(V2 =='CON') %>% rownames()\n",
    "\n",
    "MDD.sample = cli %>%  dplyr::filter(V2 =='MDD') %>% rownames()\n",
    "\n",
    "control = count[,con.sample]\n",
    "MDD = count[,MDD.sample]\n",
    "\n",
    "exp <- cbind(control, MDD)\n",
    "\n",
    "prot = c('H4C3','PRSS3','TUSC3')\n",
    "\n",
    "\n",
    "\n",
    "exp = exp[unique(prot),]\n",
    "\n",
    "exp = na.omit(exp)\n",
    "\n",
    "dim(exp)\n",
    "\n",
    "group=c(rep(\"control\",dim(control)[2]),rep(\"MDD\",dim(MDD)[2])) \n",
    "\n",
    "head(cli,2)\n",
    "\n",
    "exp = exp[,rownames(cli)]"
   ]
  },
  {
   "cell_type": "code",
   "execution_count": 4,
   "id": "d1731c02-7d29-4e57-9ff7-63b5c55396c4",
   "metadata": {},
   "outputs": [],
   "source": [
    "exp = log(edgeR::cpm(exp) + 1)"
   ]
  },
  {
   "cell_type": "code",
   "execution_count": 5,
   "id": "bf0bb5cf-8ce0-427f-a32c-8e58748bd078",
   "metadata": {},
   "outputs": [],
   "source": [
    "expr = exp %>% t() %>%  as.data.frame() %>% tibble::rownames_to_column(.,'V1')"
   ]
  },
  {
   "cell_type": "code",
   "execution_count": 6,
   "id": "24704640-806f-4423-8682-5ff68881cb97",
   "metadata": {},
   "outputs": [],
   "source": [
    "data = cbind(cli,expr)"
   ]
  },
  {
   "cell_type": "code",
   "execution_count": 7,
   "id": "a7f133bc-51ce-4743-b3d2-49011ae75c9a",
   "metadata": {},
   "outputs": [],
   "source": [
    "data$Group = ifelse(data$V2 == 'MDD',1,0)"
   ]
  },
  {
   "cell_type": "code",
   "execution_count": 8,
   "id": "77a284fa-458d-4630-b67a-a0707c1321f8",
   "metadata": {},
   "outputs": [],
   "source": [
    "fold_pre <- glm(Group~PRSS3+TUSC3,data=data,family=binomial())\n",
    "\n",
    "fold_predict <- predict(fold_pre,type='response',newdata=data)\n",
    "\n",
    "options(repr.plot.width = 6)"
   ]
  },
  {
   "cell_type": "code",
   "execution_count": 9,
   "id": "f7475d93-fb44-44d2-bd4f-c3ccef316ff4",
   "metadata": {},
   "outputs": [
    {
     "name": "stderr",
     "output_type": "stream",
     "text": [
      "Setting levels: control = 0, case = 1\n",
      "\n",
      "Setting direction: controls < cases\n",
      "\n"
     ]
    },
    {
     "data": {
      "image/png": "[encoded data removed]",
      "text/plain": [
       "Plot with title \"\""
      ]
     },
     "metadata": {
      "image/png": {
       "height": 420,
       "width": 360
      }
     },
     "output_type": "display_data"
    }
   ],
   "source": [
    "roc_curve <- pROC::roc(as.numeric(data$Group),fold_predict)\n",
    "plot(roc_curve, print.auc=TRUE, auc.polygon=TRUE, grid=c(0.1, 0.2),\n",
    "     grid.col=c(\"green\", \"red\"), max.auc.polygon=TRUE,\n",
    "     auc.polygon.col=\"skyblue\", print.thres=TRUE,main=\"\")"
   ]
  },
  {
   "cell_type": "code",
   "execution_count": 10,
   "id": "6e2cd889-31e3-4aae-8327-25c50dd40663",
   "metadata": {},
   "outputs": [],
   "source": [
    "fold_pre <- glm(Group~H4C3+TUSC3+PRSS3,data=data,family=binomial())\n",
    "fold_predict <- predict(fold_pre,type='response',newdata=data)"
   ]
  },
  {
   "cell_type": "code",
   "execution_count": 11,
   "id": "c492826d-704c-499d-8821-c920c33a4399",
   "metadata": {},
   "outputs": [
    {
     "name": "stderr",
     "output_type": "stream",
     "text": [
      "Type 'citation(\"pROC\")' for a citation.\n",
      "\n",
      "\n",
      "Attaching package: 'pROC'\n",
      "\n",
      "\n",
      "The following objects are masked from 'package:stats':\n",
      "\n",
      "    cov, smooth, var\n",
      "\n",
      "\n"
     ]
    }
   ],
   "source": [
    "library(pROC)"
   ]
  },
  {
   "cell_type": "code",
   "execution_count": 12,
   "id": "7bd7c25f-2715-43c6-9852-141ca0ac8217",
   "metadata": {},
   "outputs": [
    {
     "data": {
      "text/html": [
       "<strong>png:</strong> 2"
      ],
      "text/latex": [
       "\\textbf{png:} 2"
      ],
      "text/markdown": [
       "**png:** 2"
      ],
      "text/plain": [
       "png \n",
       "  2 "
      ]
     },
     "metadata": {},
     "output_type": "display_data"
    }
   ],
   "source": [
    "pdf('./figure/fig7.testset2.roc.pdf',width = 6,height = 6)\n",
    "rocobj1 <- plot.roc(data$Group, data$H4C3,percent=TRUE, levels=c(1,0),direction=\"<\",col=\"#1c61b6\")\n",
    "rocobj2 <- lines.roc(data$Group, data$PRSS3,percent=TRUE, levels=c(1,0),direction=\"<\", col=\"#008600\")\n",
    "rocobj3 <- lines.roc(data$Group, data$TUSC3,percent=TRUE, levels=c(0,1),direction=\"<\", col=\"#9C6D35\")\n",
    "rocobj5 <- lines.roc(data$Group, fold_predict,percent=TRUE, levels=c(0,1),direction=\"<\", col=\"#9F1A70\")\n",
    "legend(\"topleft\", legend=c(paste0(\"H4C3 \", round(rocobj1$auc/100,digits = 2)),\n",
    "                               paste0(\"PRSS3 \", round(rocobj2$auc/100,digits = 2)),\n",
    "                               paste0(\"TUSC3 \", round(rocobj3$auc/100,digits = 2)),\n",
    "                               paste0(\"model_predict \", round(rocobj5$auc/100,digits = 2))),\n",
    "       col=c(\"#1c61b6\", \"#008600\",\"#9C6D35\",\"#9F1A70\"), lwd=1)\n",
    "dev.off()"
   ]
  },
  {
   "cell_type": "code",
   "execution_count": null,
   "id": "52933bc1-848f-44fc-9a03-9a8213ece4a5",
   "metadata": {},
   "outputs": [],
   "source": []
  },
  {
   "cell_type": "code",
   "execution_count": null,
   "id": "d1ba9277-9e32-4d3b-a5d5-0ef8360a1f48",
   "metadata": {},
   "outputs": [],
   "source": []
  },
  {
   "cell_type": "code",
   "execution_count": null,
   "id": "e3839c7e-d89e-4897-958e-52e4c59f1288",
   "metadata": {},
   "outputs": [],
   "source": []
  },
  {
   "cell_type": "code",
   "execution_count": null,
   "id": "05bc45a9-06de-4496-bfb1-7d074b013cf2",
   "metadata": {},
   "outputs": [],
   "source": []
  },
  {
   "cell_type": "code",
   "execution_count": null,
   "id": "f3af2094-097e-4312-881f-a73b33d38306",
   "metadata": {},
   "outputs": [],
   "source": []
  },
  {
   "cell_type": "code",
   "execution_count": null,
   "id": "7ee55421-0d88-439c-bb86-5bfad2b7f023",
   "metadata": {},
   "outputs": [],
   "source": []
  }
 ],
 "metadata": {
  "kernelspec": {
   "display_name": "R",
   "language": "R",
   "name": "ir"
  },
  "language_info": {
   "codemirror_mode": "r",
   "file_extension": ".r",
   "mimetype": "text/x-r-source",
   "name": "R",
   "pygments_lexer": "r",
   "version": "4.2.1"
  }
 },
 "nbformat": 4,
 "nbformat_minor": 5
}
