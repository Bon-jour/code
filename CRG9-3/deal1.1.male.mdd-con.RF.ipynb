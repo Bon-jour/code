{
 "cells": [
  {
   "cell_type": "code",
   "execution_count": null,
   "id": "971e09f1-f071-4564-85c1-020f674d89f1",
   "metadata": {},
   "outputs": [],
   "source": [
    "# https://zhuanlan.zhihu.com/p/692810462 RF\n",
    "# https://zhuanlan.zhihu.com/p/692505141 SVM\n",
    "\n",
    "# https://zhuanlan.zhihu.com/p/112009086 Xboost"
   ]
  },
  {
   "cell_type": "code",
   "execution_count": 2,
   "id": "1d6a9177-4dba-46f0-a5b1-9215198d26d2",
   "metadata": {},
   "outputs": [],
   "source": [
    "setwd('/import/DB/fel/BJTC-204')"
   ]
  },
  {
   "cell_type": "code",
   "execution_count": 3,
   "id": "ecd3eec1-6df3-454d-8d69-e70bfabc5467",
   "metadata": {},
   "outputs": [
    {
     "name": "stderr",
     "output_type": "stream",
     "text": [
      "\n",
      "Attaching package: 'dplyr'\n",
      "\n",
      "\n",
      "The following objects are masked from 'package:stats':\n",
      "\n",
      "    filter, lag\n",
      "\n",
      "\n",
      "The following objects are masked from 'package:base':\n",
      "\n",
      "    intersect, setdiff, setequal, union\n",
      "\n",
      "\n"
     ]
    }
   ],
   "source": [
    "library(dplyr)"
   ]
  },
  {
   "cell_type": "code",
   "execution_count": 4,
   "id": "fbb4f4b2-674b-49a0-8fe0-7270c6b682b1",
   "metadata": {},
   "outputs": [],
   "source": [
    "load('jiaocha.rda')"
   ]
  },
  {
   "cell_type": "code",
   "execution_count": 5,
   "id": "6244386f-b05a-4d2c-80f9-90c86252e712",
   "metadata": {},
   "outputs": [],
   "source": [
    "load('./exp4.rda')"
   ]
  },
  {
   "cell_type": "code",
   "execution_count": 6,
   "id": "88638e37-0b78-4c1d-9ff1-cbf414763ede",
   "metadata": {},
   "outputs": [
    {
     "data": {
      "text/html": [
       "<style>\n",
       ".list-inline {list-style: none; margin:0; padding: 0}\n",
       ".list-inline>li {display: inline-block}\n",
       ".list-inline>li:not(:last-child)::after {content: \"\\00b7\"; padding: 0 .5ex}\n",
       "</style>\n",
       "<ol class=list-inline><li>251</li><li>11882</li></ol>\n"
      ],
      "text/latex": [
       "\\begin{enumerate*}\n",
       "\\item 251\n",
       "\\item 11882\n",
       "\\end{enumerate*}\n"
      ],
      "text/markdown": [
       "1. 251\n",
       "2. 11882\n",
       "\n",
       "\n"
      ],
      "text/plain": [
       "[1]   251 11882"
      ]
     },
     "metadata": {},
     "output_type": "display_data"
    }
   ],
   "source": [
    "dim(exp4)"
   ]
  },
  {
   "cell_type": "code",
   "execution_count": 7,
   "id": "1b0f890a-a201-4164-b83e-ddc2e3663710",
   "metadata": {},
   "outputs": [],
   "source": [
    "exp4 = exp4 %>%  dplyr::filter(Gender == 'M')"
   ]
  },
  {
   "cell_type": "code",
   "execution_count": 8,
   "id": "b611afe1-5487-49bb-ac85-cb813cd566f4",
   "metadata": {},
   "outputs": [],
   "source": [
    "colnames(exp4) = gsub('-','.',colnames(exp4))"
   ]
  },
  {
   "cell_type": "code",
   "execution_count": 9,
   "id": "95e9fb51-ce98-4b3a-866f-4df82489f835",
   "metadata": {},
   "outputs": [],
   "source": [
    "male.gene = read.csv('diffgene2.csv',row.names = 1)"
   ]
  },
  {
   "cell_type": "code",
   "execution_count": 10,
   "id": "99359f7b-75ad-4ce6-9d4d-d4549d6dda6e",
   "metadata": {},
   "outputs": [],
   "source": [
    "male.gene = male.gene %>% dplyr::filter(change != 'NOT') %>% rownames()"
   ]
  },
  {
   "cell_type": "code",
   "execution_count": 11,
   "id": "e514356c-7101-4341-87fe-dad9def060c5",
   "metadata": {},
   "outputs": [],
   "source": [
    "expr = exp4[,male.gene]"
   ]
  },
  {
   "cell_type": "code",
   "execution_count": 12,
   "id": "d998c234-fad7-4f3b-9e93-e68e21449f9f",
   "metadata": {},
   "outputs": [],
   "source": [
    "#expr[,1:dim(expr)[2]] = 2^expr[,1:dim(expr)[2]] -1"
   ]
  },
  {
   "cell_type": "code",
   "execution_count": 13,
   "id": "d974673f-c009-41e4-8d2d-3a5e700bcbf0",
   "metadata": {},
   "outputs": [
    {
     "data": {
      "text/html": [
       "<table class=\"dataframe\">\n",
       "<caption>A data.frame: 6 x 29</caption>\n",
       "<thead>\n",
       "\t<tr><th></th><th scope=col>SYT5</th><th scope=col>ATP10B</th><th scope=col>PRSS3</th><th scope=col>FBXL2</th><th scope=col>PHKG1</th><th scope=col>SYP</th><th scope=col>PTPRN</th><th scope=col>PTMS</th><th scope=col>DAAM2</th><th scope=col>NELL1</th><th scope=col>...</th><th scope=col>PIN1</th><th scope=col>TUSC3</th><th scope=col>SSBP3</th><th scope=col>TUBB4</th><th scope=col>RBP4</th><th scope=col>SEPP1</th><th scope=col>EFEMP1</th><th scope=col>DYNC1I1</th><th scope=col>GABRD</th><th scope=col>ENO2</th></tr>\n",
       "\t<tr><th></th><th scope=col>&lt;dbl&gt;</th><th scope=col>&lt;dbl&gt;</th><th scope=col>&lt;dbl&gt;</th><th scope=col>&lt;dbl&gt;</th><th scope=col>&lt;dbl&gt;</th><th scope=col>&lt;dbl&gt;</th><th scope=col>&lt;dbl&gt;</th><th scope=col>&lt;dbl&gt;</th><th scope=col>&lt;dbl&gt;</th><th scope=col>&lt;dbl&gt;</th><th scope=col>...</th><th scope=col>&lt;dbl&gt;</th><th scope=col>&lt;dbl&gt;</th><th scope=col>&lt;dbl&gt;</th><th scope=col>&lt;dbl&gt;</th><th scope=col>&lt;dbl&gt;</th><th scope=col>&lt;dbl&gt;</th><th scope=col>&lt;dbl&gt;</th><th scope=col>&lt;dbl&gt;</th><th scope=col>&lt;dbl&gt;</th><th scope=col>&lt;dbl&gt;</th></tr>\n",
       "</thead>\n",
       "<tbody>\n",
       "\t<tr><th scope=row>GSM2431721</th><td>6.072172</td><td>8.180086</td><td>7.752138</td><td>9.077388</td><td>6.755411</td><td>7.342586</td><td>7.146758</td><td>5.443910</td><td>7.504072</td><td>8.125692</td><td>...</td><td>7.854175</td><td>8.290631</td><td>10.414346</td><td> 8.866506</td><td>6.985588</td><td> 8.719438</td><td>6.108822</td><td> 8.938026</td><td>7.918141</td><td> 9.875480</td></tr>\n",
       "\t<tr><th scope=row>GSM2431726</th><td>5.932612</td><td>8.010908</td><td>7.969423</td><td>8.329847</td><td>7.217372</td><td>6.781492</td><td>6.703327</td><td>6.644667</td><td>9.109535</td><td>6.429658</td><td>...</td><td>6.526439</td><td>6.774439</td><td>10.754375</td><td> 8.955523</td><td>6.132049</td><td>10.452414</td><td>7.132595</td><td> 6.870775</td><td>7.065275</td><td> 8.771113</td></tr>\n",
       "\t<tr><th scope=row>GSM2431727</th><td>7.118367</td><td>7.752621</td><td>7.868202</td><td>8.822679</td><td>6.696205</td><td>8.619993</td><td>7.785840</td><td>7.567475</td><td>9.767533</td><td>8.326566</td><td>...</td><td>8.108739</td><td>8.840250</td><td>10.292301</td><td>10.842200</td><td>7.504695</td><td> 9.870438</td><td>6.823899</td><td> 9.667712</td><td>8.916391</td><td>11.196003</td></tr>\n",
       "\t<tr><th scope=row>GSM2431728</th><td>6.871340</td><td>8.035140</td><td>8.225899</td><td>9.494264</td><td>6.601586</td><td>8.264629</td><td>8.008771</td><td>7.283869</td><td>8.659156</td><td>8.480912</td><td>...</td><td>8.366098</td><td>8.989155</td><td>10.627328</td><td>10.160211</td><td>7.487244</td><td> 9.373322</td><td>6.028617</td><td>10.133312</td><td>8.666038</td><td>11.189176</td></tr>\n",
       "\t<tr><th scope=row>GSM2431731</th><td>5.745391</td><td>8.374348</td><td>7.462840</td><td>8.914534</td><td>7.290843</td><td>7.292795</td><td>6.873819</td><td>5.386840</td><td>8.522407</td><td>7.902626</td><td>...</td><td>8.011993</td><td>8.374939</td><td> 9.279633</td><td> 8.999374</td><td>7.338462</td><td>10.779470</td><td>7.252412</td><td> 9.450110</td><td>7.379146</td><td>10.373573</td></tr>\n",
       "\t<tr><th scope=row>GSM2431734</th><td>6.502885</td><td>7.866380</td><td>7.667150</td><td>8.943164</td><td>6.688234</td><td>8.300522</td><td>7.633397</td><td>7.351038</td><td>9.376408</td><td>6.866118</td><td>...</td><td>7.966432</td><td>7.435354</td><td>10.323017</td><td>11.078138</td><td>7.565677</td><td> 9.674459</td><td>8.738763</td><td> 9.255374</td><td>8.008541</td><td>10.932148</td></tr>\n",
       "</tbody>\n",
       "</table>\n"
      ],
      "text/latex": [
       "A data.frame: 6 x 29\n",
       "\\begin{tabular}{r|lllllllllllllllllllll}\n",
       "  & SYT5 & ATP10B & PRSS3 & FBXL2 & PHKG1 & SYP & PTPRN & PTMS & DAAM2 & NELL1 & ... & PIN1 & TUSC3 & SSBP3 & TUBB4 & RBP4 & SEPP1 & EFEMP1 & DYNC1I1 & GABRD & ENO2\\\\\n",
       "  & <dbl> & <dbl> & <dbl> & <dbl> & <dbl> & <dbl> & <dbl> & <dbl> & <dbl> & <dbl> & ... & <dbl> & <dbl> & <dbl> & <dbl> & <dbl> & <dbl> & <dbl> & <dbl> & <dbl> & <dbl>\\\\\n",
       "\\hline\n",
       "\tGSM2431721 & 6.072172 & 8.180086 & 7.752138 & 9.077388 & 6.755411 & 7.342586 & 7.146758 & 5.443910 & 7.504072 & 8.125692 & ... & 7.854175 & 8.290631 & 10.414346 &  8.866506 & 6.985588 &  8.719438 & 6.108822 &  8.938026 & 7.918141 &  9.875480\\\\\n",
       "\tGSM2431726 & 5.932612 & 8.010908 & 7.969423 & 8.329847 & 7.217372 & 6.781492 & 6.703327 & 6.644667 & 9.109535 & 6.429658 & ... & 6.526439 & 6.774439 & 10.754375 &  8.955523 & 6.132049 & 10.452414 & 7.132595 &  6.870775 & 7.065275 &  8.771113\\\\\n",
       "\tGSM2431727 & 7.118367 & 7.752621 & 7.868202 & 8.822679 & 6.696205 & 8.619993 & 7.785840 & 7.567475 & 9.767533 & 8.326566 & ... & 8.108739 & 8.840250 & 10.292301 & 10.842200 & 7.504695 &  9.870438 & 6.823899 &  9.667712 & 8.916391 & 11.196003\\\\\n",
       "\tGSM2431728 & 6.871340 & 8.035140 & 8.225899 & 9.494264 & 6.601586 & 8.264629 & 8.008771 & 7.283869 & 8.659156 & 8.480912 & ... & 8.366098 & 8.989155 & 10.627328 & 10.160211 & 7.487244 &  9.373322 & 6.028617 & 10.133312 & 8.666038 & 11.189176\\\\\n",
       "\tGSM2431731 & 5.745391 & 8.374348 & 7.462840 & 8.914534 & 7.290843 & 7.292795 & 6.873819 & 5.386840 & 8.522407 & 7.902626 & ... & 8.011993 & 8.374939 &  9.279633 &  8.999374 & 7.338462 & 10.779470 & 7.252412 &  9.450110 & 7.379146 & 10.373573\\\\\n",
       "\tGSM2431734 & 6.502885 & 7.866380 & 7.667150 & 8.943164 & 6.688234 & 8.300522 & 7.633397 & 7.351038 & 9.376408 & 6.866118 & ... & 7.966432 & 7.435354 & 10.323017 & 11.078138 & 7.565677 &  9.674459 & 8.738763 &  9.255374 & 8.008541 & 10.932148\\\\\n",
       "\\end{tabular}\n"
      ],
      "text/markdown": [
       "\n",
       "A data.frame: 6 x 29\n",
       "\n",
       "| <!--/--> | SYT5 &lt;dbl&gt; | ATP10B &lt;dbl&gt; | PRSS3 &lt;dbl&gt; | FBXL2 &lt;dbl&gt; | PHKG1 &lt;dbl&gt; | SYP &lt;dbl&gt; | PTPRN &lt;dbl&gt; | PTMS &lt;dbl&gt; | DAAM2 &lt;dbl&gt; | NELL1 &lt;dbl&gt; | ... ... | PIN1 &lt;dbl&gt; | TUSC3 &lt;dbl&gt; | SSBP3 &lt;dbl&gt; | TUBB4 &lt;dbl&gt; | RBP4 &lt;dbl&gt; | SEPP1 &lt;dbl&gt; | EFEMP1 &lt;dbl&gt; | DYNC1I1 &lt;dbl&gt; | GABRD &lt;dbl&gt; | ENO2 &lt;dbl&gt; |\n",
       "|---|---|---|---|---|---|---|---|---|---|---|---|---|---|---|---|---|---|---|---|---|---|\n",
       "| GSM2431721 | 6.072172 | 8.180086 | 7.752138 | 9.077388 | 6.755411 | 7.342586 | 7.146758 | 5.443910 | 7.504072 | 8.125692 | ... | 7.854175 | 8.290631 | 10.414346 |  8.866506 | 6.985588 |  8.719438 | 6.108822 |  8.938026 | 7.918141 |  9.875480 |\n",
       "| GSM2431726 | 5.932612 | 8.010908 | 7.969423 | 8.329847 | 7.217372 | 6.781492 | 6.703327 | 6.644667 | 9.109535 | 6.429658 | ... | 6.526439 | 6.774439 | 10.754375 |  8.955523 | 6.132049 | 10.452414 | 7.132595 |  6.870775 | 7.065275 |  8.771113 |\n",
       "| GSM2431727 | 7.118367 | 7.752621 | 7.868202 | 8.822679 | 6.696205 | 8.619993 | 7.785840 | 7.567475 | 9.767533 | 8.326566 | ... | 8.108739 | 8.840250 | 10.292301 | 10.842200 | 7.504695 |  9.870438 | 6.823899 |  9.667712 | 8.916391 | 11.196003 |\n",
       "| GSM2431728 | 6.871340 | 8.035140 | 8.225899 | 9.494264 | 6.601586 | 8.264629 | 8.008771 | 7.283869 | 8.659156 | 8.480912 | ... | 8.366098 | 8.989155 | 10.627328 | 10.160211 | 7.487244 |  9.373322 | 6.028617 | 10.133312 | 8.666038 | 11.189176 |\n",
       "| GSM2431731 | 5.745391 | 8.374348 | 7.462840 | 8.914534 | 7.290843 | 7.292795 | 6.873819 | 5.386840 | 8.522407 | 7.902626 | ... | 8.011993 | 8.374939 |  9.279633 |  8.999374 | 7.338462 | 10.779470 | 7.252412 |  9.450110 | 7.379146 | 10.373573 |\n",
       "| GSM2431734 | 6.502885 | 7.866380 | 7.667150 | 8.943164 | 6.688234 | 8.300522 | 7.633397 | 7.351038 | 9.376408 | 6.866118 | ... | 7.966432 | 7.435354 | 10.323017 | 11.078138 | 7.565677 |  9.674459 | 8.738763 |  9.255374 | 8.008541 | 10.932148 |\n",
       "\n"
      ],
      "text/plain": [
       "           SYT5     ATP10B   PRSS3    FBXL2    PHKG1    SYP      PTPRN   \n",
       "GSM2431721 6.072172 8.180086 7.752138 9.077388 6.755411 7.342586 7.146758\n",
       "GSM2431726 5.932612 8.010908 7.969423 8.329847 7.217372 6.781492 6.703327\n",
       "GSM2431727 7.118367 7.752621 7.868202 8.822679 6.696205 8.619993 7.785840\n",
       "GSM2431728 6.871340 8.035140 8.225899 9.494264 6.601586 8.264629 8.008771\n",
       "GSM2431731 5.745391 8.374348 7.462840 8.914534 7.290843 7.292795 6.873819\n",
       "GSM2431734 6.502885 7.866380 7.667150 8.943164 6.688234 8.300522 7.633397\n",
       "           PTMS     DAAM2    NELL1    ... PIN1     TUSC3    SSBP3     TUBB4    \n",
       "GSM2431721 5.443910 7.504072 8.125692 ... 7.854175 8.290631 10.414346  8.866506\n",
       "GSM2431726 6.644667 9.109535 6.429658 ... 6.526439 6.774439 10.754375  8.955523\n",
       "GSM2431727 7.567475 9.767533 8.326566 ... 8.108739 8.840250 10.292301 10.842200\n",
       "GSM2431728 7.283869 8.659156 8.480912 ... 8.366098 8.989155 10.627328 10.160211\n",
       "GSM2431731 5.386840 8.522407 7.902626 ... 8.011993 8.374939  9.279633  8.999374\n",
       "GSM2431734 7.351038 9.376408 6.866118 ... 7.966432 7.435354 10.323017 11.078138\n",
       "           RBP4     SEPP1     EFEMP1   DYNC1I1   GABRD    ENO2     \n",
       "GSM2431721 6.985588  8.719438 6.108822  8.938026 7.918141  9.875480\n",
       "GSM2431726 6.132049 10.452414 7.132595  6.870775 7.065275  8.771113\n",
       "GSM2431727 7.504695  9.870438 6.823899  9.667712 8.916391 11.196003\n",
       "GSM2431728 7.487244  9.373322 6.028617 10.133312 8.666038 11.189176\n",
       "GSM2431731 7.338462 10.779470 7.252412  9.450110 7.379146 10.373573\n",
       "GSM2431734 7.565677  9.674459 8.738763  9.255374 8.008541 10.932148"
      ]
     },
     "metadata": {},
     "output_type": "display_data"
    }
   ],
   "source": [
    "head(expr)"
   ]
  },
  {
   "cell_type": "code",
   "execution_count": 14,
   "id": "9094d06f-2ce7-40b7-a108-d8a68ad0e763",
   "metadata": {},
   "outputs": [],
   "source": [
    "type = exp4$TYPE"
   ]
  },
  {
   "cell_type": "code",
   "execution_count": 15,
   "id": "2eee39b6-631b-4401-b95b-2af80621cebb",
   "metadata": {},
   "outputs": [],
   "source": [
    "type = ifelse(type == 'MDD',1,0)"
   ]
  },
  {
   "cell_type": "code",
   "execution_count": 16,
   "id": "795e5c30-f515-4e7d-ac50-c9ca29d76412",
   "metadata": {},
   "outputs": [],
   "source": [
    "y = type"
   ]
  },
  {
   "cell_type": "code",
   "execution_count": 17,
   "id": "eaa19a78-9513-4174-8505-83793a58cd4f",
   "metadata": {},
   "outputs": [],
   "source": [
    "colnames(expr) = gsub('-','.',colnames(expr))"
   ]
  },
  {
   "cell_type": "code",
   "execution_count": 18,
   "id": "001f3957-9628-4e71-8f3c-da98bbc95760",
   "metadata": {},
   "outputs": [],
   "source": [
    "expr <- expr[, !grepl(\"^\\\\d+\", names(expr))]"
   ]
  },
  {
   "cell_type": "code",
   "execution_count": 19,
   "id": "a6b9699b-d802-4efa-9213-675cea538c7f",
   "metadata": {},
   "outputs": [],
   "source": [
    "library(dplyr)"
   ]
  },
  {
   "cell_type": "code",
   "execution_count": 20,
   "id": "ab65721e-6b86-41ef-a50f-a498981a0e4c",
   "metadata": {},
   "outputs": [],
   "source": [
    "x = as.matrix(expr)\n",
    "y = y"
   ]
  },
  {
   "cell_type": "code",
   "execution_count": 21,
   "id": "169ffec6-1642-4189-bf9d-15da56264520",
   "metadata": {},
   "outputs": [
    {
     "name": "stderr",
     "output_type": "stream",
     "text": [
      "Warning message:\n",
      "\"package 'randomForest' was built under R version 4.2.3\"\n",
      "randomForest 4.7-1.1\n",
      "\n",
      "Type rfNews() to see new features/changes/bug fixes.\n",
      "\n",
      "\n",
      "Attaching package: 'randomForest'\n",
      "\n",
      "\n",
      "The following object is masked from 'package:dplyr':\n",
      "\n",
      "    combine\n",
      "\n",
      "\n"
     ]
    }
   ],
   "source": [
    "library(randomForest)"
   ]
  },
  {
   "cell_type": "code",
   "execution_count": 22,
   "id": "43961e4a-966f-48df-af2a-fe65e26961bf",
   "metadata": {},
   "outputs": [],
   "source": [
    "options(repr.plot.width = 5,repr.plot.height = 5)"
   ]
  },
  {
   "cell_type": "code",
   "execution_count": 23,
   "id": "52d76d0a-8f60-473e-a3e5-8c684414853a",
   "metadata": {},
   "outputs": [
    {
     "data": {
      "text/html": [
       "<strong>png:</strong> 2"
      ],
      "text/latex": [
       "\\textbf{png:} 2"
      ],
      "text/markdown": [
       "**png:** 2"
      ],
      "text/plain": [
       "png \n",
       "  2 "
      ]
     },
     "metadata": {},
     "output_type": "display_data"
    },
    {
     "data": {
      "image/png": "[encoded data removed]",
      "text/plain": [
       "Plot with title \"rf\""
      ]
     },
     "metadata": {
      "image/png": {
       "height": 300,
       "width": 300
      }
     },
     "output_type": "display_data"
    }
   ],
   "source": [
    "set.seed(100)\n",
    "rf = randomForest(as.factor(y)~.,data = x,ntree =1000,important=TRUE,proximity=TRUE)\n",
    "plot(rf)\n",
    "pdf('./figure/fig2.forest.pdf',height = 6,width = 6)\n",
    "plot(rf)\n",
    "dev.off()"
   ]
  },
  {
   "cell_type": "code",
   "execution_count": 24,
   "id": "24846125-9d6c-40cc-bec2-4589f3efc1c7",
   "metadata": {},
   "outputs": [
    {
     "data": {
      "text/html": [
       "<strong>png:</strong> 2"
      ],
      "text/latex": [
       "\\textbf{png:} 2"
      ],
      "text/markdown": [
       "**png:** 2"
      ],
      "text/plain": [
       "png \n",
       "  2 "
      ]
     },
     "metadata": {},
     "output_type": "display_data"
    },
    {
     "data": {
      "text/html": [
       "<style>\n",
       ".dl-inline {width: auto; margin:0; padding: 0}\n",
       ".dl-inline>dt, .dl-inline>dd {float: none; width: auto; display: inline-block}\n",
       ".dl-inline>dt::after {content: \":\\0020\"; padding-right: .5ex}\n",
       ".dl-inline>dt:not(:first-of-type) {padding-left: .5ex}\n",
       "</style><dl class=dl-inline><dt>ATP10B</dt><dd>4.57345547170346</dd><dt>SYT5</dt><dd>4.35199420297308</dd><dt>NPTX1</dt><dd>4.0688724832776</dd><dt>FBXL2</dt><dd>3.85025460539414</dd><dt>PHKG1</dt><dd>3.75337042352004</dd><dt>SEPP1</dt><dd>3.7342213669177</dd><dt>NPM1</dt><dd>3.15457547506975</dd><dt>HIST1H4C</dt><dd>3.04260906578452</dd><dt>PRSS3</dt><dd>3.00305000511579</dd><dt>PTMS</dt><dd>2.95544933083005</dd><dt>SSBP3</dt><dd>2.85885872811443</dd><dt>DAAM2</dt><dd>2.84159346419172</dd><dt>LY6H</dt><dd>2.82199371304865</dd><dt>DYNC1I1</dt><dd>2.77531120683622</dd><dt>HPCA</dt><dd>2.59750614559702</dd><dt>NELL1</dt><dd>2.58562678479183</dd><dt>ACOT7</dt><dd>2.51170743626226</dd><dt>TUSC3</dt><dd>2.46521905315014</dd><dt>RBP4</dt><dd>2.46165347947162</dd><dt>TUBB4</dt><dd>2.37002915326443</dd><dt>ATP1A3</dt><dd>2.3538209325468</dd><dt>PIN1</dt><dd>2.26430392558137</dd><dt>GABRD</dt><dd>2.20218235023888</dd><dt>EIF4E</dt><dd>2.13753853619984</dd><dt>SYP</dt><dd>2.11941761921764</dd><dt>ENO2</dt><dd>2.10643072017702</dd><dt>EFEMP1</dt><dd>2.0696867959534</dd><dt>PTPRN</dt><dd>2.046767833648</dd><dt>CALM3</dt><dd>1.59700770027591</dd></dl>\n"
      ],
      "text/latex": [
       "\\begin{description*}\n",
       "\\item[ATP10B] 4.57345547170346\n",
       "\\item[SYT5] 4.35199420297308\n",
       "\\item[NPTX1] 4.0688724832776\n",
       "\\item[FBXL2] 3.85025460539414\n",
       "\\item[PHKG1] 3.75337042352004\n",
       "\\item[SEPP1] 3.7342213669177\n",
       "\\item[NPM1] 3.15457547506975\n",
       "\\item[HIST1H4C] 3.04260906578452\n",
       "\\item[PRSS3] 3.00305000511579\n",
       "\\item[PTMS] 2.95544933083005\n",
       "\\item[SSBP3] 2.85885872811443\n",
       "\\item[DAAM2] 2.84159346419172\n",
       "\\item[LY6H] 2.82199371304865\n",
       "\\item[DYNC1I1] 2.77531120683622\n",
       "\\item[HPCA] 2.59750614559702\n",
       "\\item[NELL1] 2.58562678479183\n",
       "\\item[ACOT7] 2.51170743626226\n",
       "\\item[TUSC3] 2.46521905315014\n",
       "\\item[RBP4] 2.46165347947162\n",
       "\\item[TUBB4] 2.37002915326443\n",
       "\\item[ATP1A3] 2.3538209325468\n",
       "\\item[PIN1] 2.26430392558137\n",
       "\\item[GABRD] 2.20218235023888\n",
       "\\item[EIF4E] 2.13753853619984\n",
       "\\item[SYP] 2.11941761921764\n",
       "\\item[ENO2] 2.10643072017702\n",
       "\\item[EFEMP1] 2.0696867959534\n",
       "\\item[PTPRN] 2.046767833648\n",
       "\\item[CALM3] 1.59700770027591\n",
       "\\end{description*}\n"
      ],
      "text/markdown": [
       "ATP10B\n",
       ":   4.57345547170346SYT5\n",
       ":   4.35199420297308NPTX1\n",
       ":   4.0688724832776FBXL2\n",
       ":   3.85025460539414PHKG1\n",
       ":   3.75337042352004SEPP1\n",
       ":   3.7342213669177NPM1\n",
       ":   3.15457547506975HIST1H4C\n",
       ":   3.04260906578452PRSS3\n",
       ":   3.00305000511579PTMS\n",
       ":   2.95544933083005SSBP3\n",
       ":   2.85885872811443DAAM2\n",
       ":   2.84159346419172LY6H\n",
       ":   2.82199371304865DYNC1I1\n",
       ":   2.77531120683622HPCA\n",
       ":   2.59750614559702NELL1\n",
       ":   2.58562678479183ACOT7\n",
       ":   2.51170743626226TUSC3\n",
       ":   2.46521905315014RBP4\n",
       ":   2.46165347947162TUBB4\n",
       ":   2.37002915326443ATP1A3\n",
       ":   2.3538209325468PIN1\n",
       ":   2.26430392558137GABRD\n",
       ":   2.20218235023888EIF4E\n",
       ":   2.13753853619984SYP\n",
       ":   2.11941761921764ENO2\n",
       ":   2.10643072017702EFEMP1\n",
       ":   2.0696867959534PTPRN\n",
       ":   2.046767833648CALM3\n",
       ":   1.59700770027591\n",
       "\n"
      ],
      "text/plain": [
       "  ATP10B     SYT5    NPTX1    FBXL2    PHKG1    SEPP1     NPM1 HIST1H4C \n",
       "4.573455 4.351994 4.068872 3.850255 3.753370 3.734221 3.154575 3.042609 \n",
       "   PRSS3     PTMS    SSBP3    DAAM2     LY6H  DYNC1I1     HPCA    NELL1 \n",
       "3.003050 2.955449 2.858859 2.841593 2.821994 2.775311 2.597506 2.585627 \n",
       "   ACOT7    TUSC3     RBP4    TUBB4   ATP1A3     PIN1    GABRD    EIF4E \n",
       "2.511707 2.465219 2.461653 2.370029 2.353821 2.264304 2.202182 2.137539 \n",
       "     SYP     ENO2   EFEMP1    PTPRN    CALM3 \n",
       "2.119418 2.106431 2.069687 2.046768 1.597008 "
      ]
     },
     "metadata": {},
     "output_type": "display_data"
    },
    {
     "data": {
      "image/png": "[encoded data removed]",
      "text/plain": [
       "Plot with title \"\""
      ]
     },
     "metadata": {
      "image/png": {
       "height": 300,
       "width": 240
      }
     },
     "output_type": "display_data"
    }
   ],
   "source": [
    "\n",
    "\n",
    "trees = which.min(rf$err.rate[,1])\n",
    "\n",
    "rf = randomForest(as.factor(y)~.,data = x,ntree =trees,important=TRUE,proximity=TRUE)\n",
    "\n",
    "importance = importance(rf)\n",
    "\n",
    "pdf('./figure/fig3.forest2.pdf',height = 6,width = 4)\n",
    "varImpPlot(rf,main = '')\n",
    "dev.off()\n",
    "\n",
    "# RPE65 + MC3R+NFIL3 + PRF1 + IL6\n",
    "\n",
    "options(repr.plot.width = 4)\n",
    "\n",
    "varImpPlot(rf,main = '')\n",
    "\n",
    "rfGenes=importance[order(importance[, \"MeanDecreaseGini\"], decreasing  = TRUE),] #重要性评分大于2的基因\n",
    "\n",
    "rfGenes"
   ]
  },
  {
   "cell_type": "code",
   "execution_count": 25,
   "id": "118e60c2-163b-46df-858f-f87c8206303c",
   "metadata": {},
   "outputs": [],
   "source": [
    "# rfGenes=names(rfGenes[rfGenes>30]) \n",
    "# write.table(rfGenes,file=\"rfGenes.txt\",sep=\"\\t\",quote=F,col.names=F,row.names=F) #输出表达量\n",
    "\n",
    "# # expr2 = exp4\n",
    "\n",
    "# # sigExp=expr2[rfGenes,]\n",
    "# # write.table(data.frame(ID=rownames(sigExp),sigExp),file=\"rfGeneExp.txt\",sep=\"\\t\",quote=F,col.names=T,row.names=F) \n",
    "\n",
    "# # rfGenes"
   ]
  },
  {
   "cell_type": "markdown",
   "id": "af18f8e6-2aaf-42ec-a432-c763909b210d",
   "metadata": {},
   "source": [
    "### svm"
   ]
  },
  {
   "cell_type": "code",
   "execution_count": 24,
   "id": "c690f740-abb8-4548-bd5b-0b5b2c1a56ea",
   "metadata": {},
   "outputs": [],
   "source": [
    "Type = type"
   ]
  },
  {
   "cell_type": "code",
   "execution_count": 25,
   "id": "4fc23a1b-0647-4a2e-b3b4-618a551f0610",
   "metadata": {},
   "outputs": [
    {
     "name": "stderr",
     "output_type": "stream",
     "text": [
      "Warning message:\n",
      "\"package 'ggplot2' was built under R version 4.2.3\"\n",
      "Warning message:\n",
      "\"package 'tibble' was built under R version 4.2.3\"\n",
      "Warning message:\n",
      "\"package 'tidyr' was built under R version 4.2.3\"\n",
      "Warning message:\n",
      "\"package 'readr' was built under R version 4.2.3\"\n",
      "Warning message:\n",
      "\"package 'purrr' was built under R version 4.2.3\"\n",
      "Warning message:\n",
      "\"package 'stringr' was built under R version 4.2.3\"\n",
      "Warning message:\n",
      "\"package 'forcats' was built under R version 4.2.3\"\n",
      "Warning message:\n",
      "\"package 'lubridate' was built under R version 4.2.3\"\n",
      "Warning message in system(\"timedatectl\", intern = TRUE):\n",
      "\"running command 'timedatectl' had status 1\"\n",
      "-- \u001b[1mAttaching core tidyverse packages\u001b[22m ------------------------ tidyverse 2.0.0 --\n",
      "\u001b[32mv\u001b[39m \u001b[34mforcats  \u001b[39m 1.0.0     \u001b[32mv\u001b[39m \u001b[34mreadr    \u001b[39m 2.1.4\n",
      "\u001b[32mv\u001b[39m \u001b[34mggplot2  \u001b[39m 3.5.1     \u001b[32mv\u001b[39m \u001b[34mstringr  \u001b[39m 1.5.0\n",
      "\u001b[32mv\u001b[39m \u001b[34mlubridate\u001b[39m 1.9.2     \u001b[32mv\u001b[39m \u001b[34mtibble   \u001b[39m 3.2.1\n",
      "\u001b[32mv\u001b[39m \u001b[34mpurrr    \u001b[39m 1.0.2     \u001b[32mv\u001b[39m \u001b[34mtidyr    \u001b[39m 1.3.1\n",
      "-- \u001b[1mConflicts\u001b[22m ------------------------------------------ tidyverse_conflicts() --\n",
      "\u001b[31mx\u001b[39m \u001b[34mrandomForest\u001b[39m::\u001b[32mcombine()\u001b[39m masks \u001b[34mdplyr\u001b[39m::combine()\n",
      "\u001b[31mx\u001b[39m \u001b[34mdplyr\u001b[39m::\u001b[32mfilter()\u001b[39m         masks \u001b[34mstats\u001b[39m::filter()\n",
      "\u001b[31mx\u001b[39m \u001b[34mdplyr\u001b[39m::\u001b[32mlag()\u001b[39m            masks \u001b[34mstats\u001b[39m::lag()\n",
      "\u001b[31mx\u001b[39m \u001b[34mggplot2\u001b[39m::\u001b[32mmargin()\u001b[39m       masks \u001b[34mrandomForest\u001b[39m::margin()\n",
      "\u001b[36mi\u001b[39m Use the conflicted package (\u001b[3m\u001b[34m<http://conflicted.r-lib.org/>\u001b[39m\u001b[23m) to force all conflicts to become errors\n",
      "Warning message:\n",
      "\"package 'glmnet' was built under R version 4.2.3\"\n",
      "Loading required package: Matrix\n",
      "\n",
      "Warning message:\n",
      "\"package 'Matrix' was built under R version 4.2.3\"\n",
      "\n",
      "Attaching package: 'Matrix'\n",
      "\n",
      "\n",
      "The following objects are masked from 'package:tidyr':\n",
      "\n",
      "    expand, pack, unpack\n",
      "\n",
      "\n",
      "Loaded glmnet 4.1-8\n",
      "\n",
      "Loading required package: grid\n",
      "\n",
      "Loading required package: futile.logger\n",
      "\n",
      "Warning message:\n",
      "\"package 'futile.logger' was built under R version 4.2.3\"\n",
      "Warning message:\n",
      "\"package 'e1071' was built under R version 4.2.3\"\n",
      "Warning message:\n",
      "\"package 'caret' was built under R version 4.2.3\"\n",
      "Loading required package: lattice\n",
      "\n",
      "Warning message:\n",
      "\"package 'lattice' was built under R version 4.2.3\"\n",
      "\n",
      "Attaching package: 'caret'\n",
      "\n",
      "\n",
      "The following object is masked from 'package:purrr':\n",
      "\n",
      "    lift\n",
      "\n",
      "\n",
      "Warning message:\n",
      "\"package 'future' was built under R version 4.2.3\"\n",
      "\n",
      "Attaching package: 'future'\n",
      "\n",
      "\n",
      "The following object is masked from 'package:caret':\n",
      "\n",
      "    cluster\n",
      "\n",
      "\n"
     ]
    }
   ],
   "source": [
    "library(tidyverse)\n",
    "library(glmnet)\n",
    "library(VennDiagram)\n",
    "library(e1071)\n",
    "library(caret)\n",
    "library(randomForest)\n",
    "\n",
    "x = as.matrix(expr)\n",
    "\n",
    "y=as.numeric(as.factor(Type))\n",
    "\n",
    "library(future)\n",
    "plan(\"multisession\",workers=30)\n",
    "\n",
    "set.seed(1)\n",
    "rfeControl = rfeControl(functions = caretFuncs,\n",
    "                        method = \"cv\", # 默认自助法重采样 boot\n",
    "                        saveDetails = T, # 保存预测值和变量重要性\n",
    "                        number = 5, # 重抽样次数\n",
    "                        allowParallel = T # 允许多线程，用这个之前你要先准备好多线程！\n",
    "                        )"
   ]
  },
  {
   "cell_type": "code",
   "execution_count": 26,
   "id": "f2a3a6c3-6bb3-4d0d-8c62-0516db9f4130",
   "metadata": {},
   "outputs": [
    {
     "name": "stdout",
     "output_type": "stream",
     "text": [
      "note: only 2 unique complexity parameters in default grid. Truncating the grid to 2 .\n",
      "\n",
      "note: only 1 unique complexity parameters in default grid. Truncating the grid to 1 .\n",
      "\n"
     ]
    },
    {
     "name": "stderr",
     "output_type": "stream",
     "text": [
      "Warning message in randomForest.default(x, y, mtry = param$mtry, ...):\n",
      "\"invalid mtry: reset to within valid range\"\n",
      "Warning message in randomForest.default(x, y, mtry = param$mtry, ...):\n",
      "\"invalid mtry: reset to within valid range\"\n",
      "Warning message in randomForest.default(x, y, mtry = param$mtry, ...):\n",
      "\"invalid mtry: reset to within valid range\"\n",
      "Warning message in randomForest.default(x, y, mtry = param$mtry, ...):\n",
      "\"invalid mtry: reset to within valid range\"\n",
      "Warning message in randomForest.default(x, y, mtry = param$mtry, ...):\n",
      "\"invalid mtry: reset to within valid range\"\n",
      "Warning message in randomForest.default(x, y, mtry = param$mtry, ...):\n",
      "\"invalid mtry: reset to within valid range\"\n",
      "Warning message in randomForest.default(x, y, mtry = param$mtry, ...):\n",
      "\"invalid mtry: reset to within valid range\"\n",
      "Warning message in randomForest.default(x, y, mtry = param$mtry, ...):\n",
      "\"invalid mtry: reset to within valid range\"\n",
      "Warning message in randomForest.default(x, y, mtry = param$mtry, ...):\n",
      "\"invalid mtry: reset to within valid range\"\n",
      "Warning message in randomForest.default(x, y, mtry = param$mtry, ...):\n",
      "\"invalid mtry: reset to within valid range\"\n",
      "Warning message in randomForest.default(x, y, mtry = param$mtry, ...):\n",
      "\"invalid mtry: reset to within valid range\"\n",
      "Warning message in randomForest.default(x, y, mtry = param$mtry, ...):\n",
      "\"invalid mtry: reset to within valid range\"\n",
      "Warning message in randomForest.default(x, y, mtry = param$mtry, ...):\n",
      "\"invalid mtry: reset to within valid range\"\n",
      "Warning message in randomForest.default(x, y, mtry = param$mtry, ...):\n",
      "\"invalid mtry: reset to within valid range\"\n",
      "Warning message in randomForest.default(x, y, mtry = param$mtry, ...):\n",
      "\"invalid mtry: reset to within valid range\"\n",
      "Warning message in randomForest.default(x, y, mtry = param$mtry, ...):\n",
      "\"invalid mtry: reset to within valid range\"\n",
      "Warning message in randomForest.default(x, y, mtry = param$mtry, ...):\n",
      "\"invalid mtry: reset to within valid range\"\n",
      "Warning message in randomForest.default(x, y, mtry = param$mtry, ...):\n",
      "\"invalid mtry: reset to within valid range\"\n",
      "Warning message in randomForest.default(x, y, mtry = param$mtry, ...):\n",
      "\"invalid mtry: reset to within valid range\"\n",
      "Warning message in randomForest.default(x, y, mtry = param$mtry, ...):\n",
      "\"invalid mtry: reset to within valid range\"\n",
      "Warning message in randomForest.default(x, y, mtry = param$mtry, ...):\n",
      "\"invalid mtry: reset to within valid range\"\n",
      "Warning message in randomForest.default(x, y, mtry = param$mtry, ...):\n",
      "\"invalid mtry: reset to within valid range\"\n",
      "Warning message in randomForest.default(x, y, mtry = param$mtry, ...):\n",
      "\"invalid mtry: reset to within valid range\"\n",
      "Warning message in randomForest.default(x, y, mtry = param$mtry, ...):\n",
      "\"invalid mtry: reset to within valid range\"\n",
      "Warning message in randomForest.default(x, y, mtry = param$mtry, ...):\n",
      "\"invalid mtry: reset to within valid range\"\n",
      "Warning message in randomForest.default(x, y, mtry = param$mtry, ...):\n",
      "\"invalid mtry: reset to within valid range\"\n"
     ]
    },
    {
     "name": "stdout",
     "output_type": "stream",
     "text": [
      "note: only 2 unique complexity parameters in default grid. Truncating the grid to 2 .\n",
      "\n",
      "note: only 1 unique complexity parameters in default grid. Truncating the grid to 1 .\n",
      "\n"
     ]
    },
    {
     "name": "stderr",
     "output_type": "stream",
     "text": [
      "Warning message in randomForest.default(x, y, mtry = param$mtry, ...):\n",
      "\"invalid mtry: reset to within valid range\"\n",
      "Warning message in randomForest.default(x, y, mtry = param$mtry, ...):\n",
      "\"invalid mtry: reset to within valid range\"\n",
      "Warning message in randomForest.default(x, y, mtry = param$mtry, ...):\n",
      "\"invalid mtry: reset to within valid range\"\n",
      "Warning message in randomForest.default(x, y, mtry = param$mtry, ...):\n",
      "\"invalid mtry: reset to within valid range\"\n",
      "Warning message in randomForest.default(x, y, mtry = param$mtry, ...):\n",
      "\"invalid mtry: reset to within valid range\"\n",
      "Warning message in randomForest.default(x, y, mtry = param$mtry, ...):\n",
      "\"invalid mtry: reset to within valid range\"\n",
      "Warning message in randomForest.default(x, y, mtry = param$mtry, ...):\n",
      "\"invalid mtry: reset to within valid range\"\n",
      "Warning message in randomForest.default(x, y, mtry = param$mtry, ...):\n",
      "\"invalid mtry: reset to within valid range\"\n",
      "Warning message in randomForest.default(x, y, mtry = param$mtry, ...):\n",
      "\"invalid mtry: reset to within valid range\"\n",
      "Warning message in randomForest.default(x, y, mtry = param$mtry, ...):\n",
      "\"invalid mtry: reset to within valid range\"\n",
      "Warning message in randomForest.default(x, y, mtry = param$mtry, ...):\n",
      "\"invalid mtry: reset to within valid range\"\n",
      "Warning message in randomForest.default(x, y, mtry = param$mtry, ...):\n",
      "\"invalid mtry: reset to within valid range\"\n",
      "Warning message in randomForest.default(x, y, mtry = param$mtry, ...):\n",
      "\"invalid mtry: reset to within valid range\"\n",
      "Warning message in randomForest.default(x, y, mtry = param$mtry, ...):\n",
      "\"invalid mtry: reset to within valid range\"\n",
      "Warning message in randomForest.default(x, y, mtry = param$mtry, ...):\n",
      "\"invalid mtry: reset to within valid range\"\n",
      "Warning message in randomForest.default(x, y, mtry = param$mtry, ...):\n",
      "\"invalid mtry: reset to within valid range\"\n",
      "Warning message in randomForest.default(x, y, mtry = param$mtry, ...):\n",
      "\"invalid mtry: reset to within valid range\"\n",
      "Warning message in randomForest.default(x, y, mtry = param$mtry, ...):\n",
      "\"invalid mtry: reset to within valid range\"\n",
      "Warning message in randomForest.default(x, y, mtry = param$mtry, ...):\n",
      "\"invalid mtry: reset to within valid range\"\n",
      "Warning message in randomForest.default(x, y, mtry = param$mtry, ...):\n",
      "\"invalid mtry: reset to within valid range\"\n",
      "Warning message in randomForest.default(x, y, mtry = param$mtry, ...):\n",
      "\"invalid mtry: reset to within valid range\"\n",
      "Warning message in randomForest.default(x, y, mtry = param$mtry, ...):\n",
      "\"invalid mtry: reset to within valid range\"\n",
      "Warning message in randomForest.default(x, y, mtry = param$mtry, ...):\n",
      "\"invalid mtry: reset to within valid range\"\n",
      "Warning message in randomForest.default(x, y, mtry = param$mtry, ...):\n",
      "\"invalid mtry: reset to within valid range\"\n",
      "Warning message in randomForest.default(x, y, mtry = param$mtry, ...):\n",
      "\"invalid mtry: reset to within valid range\"\n",
      "Warning message in randomForest.default(x, y, mtry = param$mtry, ...):\n",
      "\"invalid mtry: reset to within valid range\"\n"
     ]
    },
    {
     "name": "stdout",
     "output_type": "stream",
     "text": [
      "note: only 2 unique complexity parameters in default grid. Truncating the grid to 2 .\n",
      "\n",
      "note: only 1 unique complexity parameters in default grid. Truncating the grid to 1 .\n",
      "\n"
     ]
    },
    {
     "name": "stderr",
     "output_type": "stream",
     "text": [
      "Warning message in randomForest.default(x, y, mtry = param$mtry, ...):\n",
      "\"invalid mtry: reset to within valid range\"\n",
      "Warning message in randomForest.default(x, y, mtry = param$mtry, ...):\n",
      "\"invalid mtry: reset to within valid range\"\n",
      "Warning message in randomForest.default(x, y, mtry = param$mtry, ...):\n",
      "\"invalid mtry: reset to within valid range\"\n",
      "Warning message in randomForest.default(x, y, mtry = param$mtry, ...):\n",
      "\"invalid mtry: reset to within valid range\"\n",
      "Warning message in randomForest.default(x, y, mtry = param$mtry, ...):\n",
      "\"invalid mtry: reset to within valid range\"\n",
      "Warning message in randomForest.default(x, y, mtry = param$mtry, ...):\n",
      "\"invalid mtry: reset to within valid range\"\n",
      "Warning message in randomForest.default(x, y, mtry = param$mtry, ...):\n",
      "\"invalid mtry: reset to within valid range\"\n",
      "Warning message in randomForest.default(x, y, mtry = param$mtry, ...):\n",
      "\"invalid mtry: reset to within valid range\"\n",
      "Warning message in randomForest.default(x, y, mtry = param$mtry, ...):\n",
      "\"invalid mtry: reset to within valid range\"\n",
      "Warning message in randomForest.default(x, y, mtry = param$mtry, ...):\n",
      "\"invalid mtry: reset to within valid range\"\n",
      "Warning message in randomForest.default(x, y, mtry = param$mtry, ...):\n",
      "\"invalid mtry: reset to within valid range\"\n",
      "Warning message in randomForest.default(x, y, mtry = param$mtry, ...):\n",
      "\"invalid mtry: reset to within valid range\"\n",
      "Warning message in randomForest.default(x, y, mtry = param$mtry, ...):\n",
      "\"invalid mtry: reset to within valid range\"\n",
      "Warning message in randomForest.default(x, y, mtry = param$mtry, ...):\n",
      "\"invalid mtry: reset to within valid range\"\n",
      "Warning message in randomForest.default(x, y, mtry = param$mtry, ...):\n",
      "\"invalid mtry: reset to within valid range\"\n",
      "Warning message in randomForest.default(x, y, mtry = param$mtry, ...):\n",
      "\"invalid mtry: reset to within valid range\"\n",
      "Warning message in randomForest.default(x, y, mtry = param$mtry, ...):\n",
      "\"invalid mtry: reset to within valid range\"\n",
      "Warning message in randomForest.default(x, y, mtry = param$mtry, ...):\n",
      "\"invalid mtry: reset to within valid range\"\n",
      "Warning message in randomForest.default(x, y, mtry = param$mtry, ...):\n",
      "\"invalid mtry: reset to within valid range\"\n",
      "Warning message in randomForest.default(x, y, mtry = param$mtry, ...):\n",
      "\"invalid mtry: reset to within valid range\"\n",
      "Warning message in randomForest.default(x, y, mtry = param$mtry, ...):\n",
      "\"invalid mtry: reset to within valid range\"\n",
      "Warning message in randomForest.default(x, y, mtry = param$mtry, ...):\n",
      "\"invalid mtry: reset to within valid range\"\n",
      "Warning message in randomForest.default(x, y, mtry = param$mtry, ...):\n",
      "\"invalid mtry: reset to within valid range\"\n",
      "Warning message in randomForest.default(x, y, mtry = param$mtry, ...):\n",
      "\"invalid mtry: reset to within valid range\"\n",
      "Warning message in randomForest.default(x, y, mtry = param$mtry, ...):\n",
      "\"invalid mtry: reset to within valid range\"\n",
      "Warning message in randomForest.default(x, y, mtry = param$mtry, ...):\n",
      "\"invalid mtry: reset to within valid range\"\n"
     ]
    },
    {
     "name": "stdout",
     "output_type": "stream",
     "text": [
      "note: only 2 unique complexity parameters in default grid. Truncating the grid to 2 .\n",
      "\n",
      "note: only 1 unique complexity parameters in default grid. Truncating the grid to 1 .\n",
      "\n"
     ]
    },
    {
     "name": "stderr",
     "output_type": "stream",
     "text": [
      "Warning message in randomForest.default(x, y, mtry = param$mtry, ...):\n",
      "\"invalid mtry: reset to within valid range\"\n",
      "Warning message in randomForest.default(x, y, mtry = param$mtry, ...):\n",
      "\"invalid mtry: reset to within valid range\"\n",
      "Warning message in randomForest.default(x, y, mtry = param$mtry, ...):\n",
      "\"invalid mtry: reset to within valid range\"\n",
      "Warning message in randomForest.default(x, y, mtry = param$mtry, ...):\n",
      "\"invalid mtry: reset to within valid range\"\n",
      "Warning message in randomForest.default(x, y, mtry = param$mtry, ...):\n",
      "\"invalid mtry: reset to within valid range\"\n",
      "Warning message in randomForest.default(x, y, mtry = param$mtry, ...):\n",
      "\"invalid mtry: reset to within valid range\"\n",
      "Warning message in randomForest.default(x, y, mtry = param$mtry, ...):\n",
      "\"invalid mtry: reset to within valid range\"\n",
      "Warning message in randomForest.default(x, y, mtry = param$mtry, ...):\n",
      "\"invalid mtry: reset to within valid range\"\n",
      "Warning message in randomForest.default(x, y, mtry = param$mtry, ...):\n",
      "\"invalid mtry: reset to within valid range\"\n",
      "Warning message in randomForest.default(x, y, mtry = param$mtry, ...):\n",
      "\"invalid mtry: reset to within valid range\"\n",
      "Warning message in randomForest.default(x, y, mtry = param$mtry, ...):\n",
      "\"invalid mtry: reset to within valid range\"\n",
      "Warning message in randomForest.default(x, y, mtry = param$mtry, ...):\n",
      "\"invalid mtry: reset to within valid range\"\n",
      "Warning message in randomForest.default(x, y, mtry = param$mtry, ...):\n",
      "\"invalid mtry: reset to within valid range\"\n",
      "Warning message in randomForest.default(x, y, mtry = param$mtry, ...):\n",
      "\"invalid mtry: reset to within valid range\"\n",
      "Warning message in randomForest.default(x, y, mtry = param$mtry, ...):\n",
      "\"invalid mtry: reset to within valid range\"\n",
      "Warning message in randomForest.default(x, y, mtry = param$mtry, ...):\n",
      "\"invalid mtry: reset to within valid range\"\n",
      "Warning message in randomForest.default(x, y, mtry = param$mtry, ...):\n",
      "\"invalid mtry: reset to within valid range\"\n",
      "Warning message in randomForest.default(x, y, mtry = param$mtry, ...):\n",
      "\"invalid mtry: reset to within valid range\"\n",
      "Warning message in randomForest.default(x, y, mtry = param$mtry, ...):\n",
      "\"invalid mtry: reset to within valid range\"\n",
      "Warning message in randomForest.default(x, y, mtry = param$mtry, ...):\n",
      "\"invalid mtry: reset to within valid range\"\n",
      "Warning message in randomForest.default(x, y, mtry = param$mtry, ...):\n",
      "\"invalid mtry: reset to within valid range\"\n",
      "Warning message in randomForest.default(x, y, mtry = param$mtry, ...):\n",
      "\"invalid mtry: reset to within valid range\"\n",
      "Warning message in randomForest.default(x, y, mtry = param$mtry, ...):\n",
      "\"invalid mtry: reset to within valid range\"\n",
      "Warning message in randomForest.default(x, y, mtry = param$mtry, ...):\n",
      "\"invalid mtry: reset to within valid range\"\n",
      "Warning message in randomForest.default(x, y, mtry = param$mtry, ...):\n",
      "\"invalid mtry: reset to within valid range\"\n",
      "Warning message in randomForest.default(x, y, mtry = param$mtry, ...):\n",
      "\"invalid mtry: reset to within valid range\"\n"
     ]
    },
    {
     "name": "stdout",
     "output_type": "stream",
     "text": [
      "note: only 2 unique complexity parameters in default grid. Truncating the grid to 2 .\n",
      "\n",
      "note: only 1 unique complexity parameters in default grid. Truncating the grid to 1 .\n",
      "\n"
     ]
    },
    {
     "name": "stderr",
     "output_type": "stream",
     "text": [
      "Warning message in randomForest.default(x, y, mtry = param$mtry, ...):\n",
      "\"invalid mtry: reset to within valid range\"\n",
      "Warning message in randomForest.default(x, y, mtry = param$mtry, ...):\n",
      "\"invalid mtry: reset to within valid range\"\n",
      "Warning message in randomForest.default(x, y, mtry = param$mtry, ...):\n",
      "\"invalid mtry: reset to within valid range\"\n",
      "Warning message in randomForest.default(x, y, mtry = param$mtry, ...):\n",
      "\"invalid mtry: reset to within valid range\"\n",
      "Warning message in randomForest.default(x, y, mtry = param$mtry, ...):\n",
      "\"invalid mtry: reset to within valid range\"\n",
      "Warning message in randomForest.default(x, y, mtry = param$mtry, ...):\n",
      "\"invalid mtry: reset to within valid range\"\n",
      "Warning message in randomForest.default(x, y, mtry = param$mtry, ...):\n",
      "\"invalid mtry: reset to within valid range\"\n",
      "Warning message in randomForest.default(x, y, mtry = param$mtry, ...):\n",
      "\"invalid mtry: reset to within valid range\"\n",
      "Warning message in randomForest.default(x, y, mtry = param$mtry, ...):\n",
      "\"invalid mtry: reset to within valid range\"\n",
      "Warning message in randomForest.default(x, y, mtry = param$mtry, ...):\n",
      "\"invalid mtry: reset to within valid range\"\n",
      "Warning message in randomForest.default(x, y, mtry = param$mtry, ...):\n",
      "\"invalid mtry: reset to within valid range\"\n",
      "Warning message in randomForest.default(x, y, mtry = param$mtry, ...):\n",
      "\"invalid mtry: reset to within valid range\"\n",
      "Warning message in randomForest.default(x, y, mtry = param$mtry, ...):\n",
      "\"invalid mtry: reset to within valid range\"\n",
      "Warning message in randomForest.default(x, y, mtry = param$mtry, ...):\n",
      "\"invalid mtry: reset to within valid range\"\n",
      "Warning message in randomForest.default(x, y, mtry = param$mtry, ...):\n",
      "\"invalid mtry: reset to within valid range\"\n",
      "Warning message in randomForest.default(x, y, mtry = param$mtry, ...):\n",
      "\"invalid mtry: reset to within valid range\"\n",
      "Warning message in randomForest.default(x, y, mtry = param$mtry, ...):\n",
      "\"invalid mtry: reset to within valid range\"\n",
      "Warning message in randomForest.default(x, y, mtry = param$mtry, ...):\n",
      "\"invalid mtry: reset to within valid range\"\n",
      "Warning message in randomForest.default(x, y, mtry = param$mtry, ...):\n",
      "\"invalid mtry: reset to within valid range\"\n",
      "Warning message in randomForest.default(x, y, mtry = param$mtry, ...):\n",
      "\"invalid mtry: reset to within valid range\"\n",
      "Warning message in randomForest.default(x, y, mtry = param$mtry, ...):\n",
      "\"invalid mtry: reset to within valid range\"\n",
      "Warning message in randomForest.default(x, y, mtry = param$mtry, ...):\n",
      "\"invalid mtry: reset to within valid range\"\n",
      "Warning message in randomForest.default(x, y, mtry = param$mtry, ...):\n",
      "\"invalid mtry: reset to within valid range\"\n",
      "Warning message in randomForest.default(x, y, mtry = param$mtry, ...):\n",
      "\"invalid mtry: reset to within valid range\"\n",
      "Warning message in randomForest.default(x, y, mtry = param$mtry, ...):\n",
      "\"invalid mtry: reset to within valid range\"\n",
      "Warning message in randomForest.default(x, y, mtry = param$mtry, ...):\n",
      "\"invalid mtry: reset to within valid range\"\n"
     ]
    },
    {
     "data": {
      "text/plain": [
       "\n",
       "Recursive feature selection\n",
       "\n",
       "Outer resampling method: Cross-Validated (5 fold) \n",
       "\n",
       "Resampling performance over subset size:\n",
       "\n",
       " Variables Accuracy    Kappa AccuracySD KappaSD Selected\n",
       "         1   0.5947  0.04152    0.03991 0.13722         \n",
       "         2   0.6421  0.04795    0.04403 0.14416         \n",
       "         3   0.6105 -0.01662    0.02202 0.09528         \n",
       "         4   0.6105  0.01216    0.06812 0.20923         \n",
       "         5   0.6211  0.03629    0.07807 0.19494         \n",
       "         6   0.6211  0.03295    0.06862 0.19272         \n",
       "         7   0.6526  0.13487    0.07302 0.21987         \n",
       "         8   0.6789  0.18391    0.09740 0.26637         \n",
       "         9   0.6895  0.20992    0.09561 0.26391         \n",
       "        10   0.7053  0.24468    0.08807 0.27593         \n",
       "        11   0.6947  0.21014    0.10293 0.29190         \n",
       "        12   0.7105  0.24941    0.11915 0.32761        *\n",
       "        13   0.6895  0.20576    0.09740 0.28399         \n",
       "        14   0.6947  0.20953    0.09597 0.27787         \n",
       "        15   0.6947  0.20104    0.08025 0.23860         \n",
       "        16   0.7000  0.21138    0.08446 0.24662         \n",
       "        17   0.7000  0.21239    0.08446 0.24258         \n",
       "        18   0.7105  0.24362    0.06963 0.22597         \n",
       "        19   0.6895  0.17776    0.08608 0.24144         \n",
       "        20   0.7105  0.24762    0.08924 0.21790         \n",
       "        21   0.7053  0.23714    0.08196 0.23573         \n",
       "        22   0.7053  0.21510    0.09378 0.26412         \n",
       "        23   0.6947  0.18846    0.09040 0.24907         \n",
       "        24   0.7105  0.23202    0.08527 0.24881         \n",
       "        25   0.7000  0.20892    0.09415 0.25129         \n",
       "        29   0.7000  0.20167    0.07350 0.19649         \n",
       "\n",
       "The top 5 variables (out of 12):\n",
       "   FBXL2, ATP10B, SYT5, NPTX1, SEPP1\n"
      ]
     },
     "metadata": {},
     "output_type": "display_data"
    }
   ],
   "source": [
    "Profile=rfe(x=x,y=as.factor(y),sizes =c(1:25),\n",
    "    rfeControl =  rfeControl,\n",
    "    methods=\"svmRadial\")\n",
    "\n",
    "Profile\n",
    "\n"
   ]
  },
  {
   "cell_type": "code",
   "execution_count": 27,
   "id": "6d3de6b1-c7d6-4c68-b515-798c8b354644",
   "metadata": {},
   "outputs": [
    {
     "data": {
      "text/plain": [
       "\n",
       "Recursive feature selection\n",
       "\n",
       "Outer resampling method: Cross-Validated (5 fold) \n",
       "\n",
       "Resampling performance over subset size:\n",
       "\n",
       " Variables Accuracy    Kappa AccuracySD KappaSD Selected\n",
       "         1   0.5947  0.04152    0.03991 0.13722         \n",
       "         2   0.6421  0.04795    0.04403 0.14416         \n",
       "         3   0.6105 -0.01662    0.02202 0.09528         \n",
       "         4   0.6105  0.01216    0.06812 0.20923         \n",
       "         5   0.6211  0.03629    0.07807 0.19494         \n",
       "         6   0.6211  0.03295    0.06862 0.19272         \n",
       "         7   0.6526  0.13487    0.07302 0.21987         \n",
       "         8   0.6789  0.18391    0.09740 0.26637         \n",
       "         9   0.6895  0.20992    0.09561 0.26391         \n",
       "        10   0.7053  0.24468    0.08807 0.27593         \n",
       "        11   0.6947  0.21014    0.10293 0.29190         \n",
       "        12   0.7105  0.24941    0.11915 0.32761        *\n",
       "        13   0.6895  0.20576    0.09740 0.28399         \n",
       "        14   0.6947  0.20953    0.09597 0.27787         \n",
       "        15   0.6947  0.20104    0.08025 0.23860         \n",
       "        16   0.7000  0.21138    0.08446 0.24662         \n",
       "        17   0.7000  0.21239    0.08446 0.24258         \n",
       "        18   0.7105  0.24362    0.06963 0.22597         \n",
       "        19   0.6895  0.17776    0.08608 0.24144         \n",
       "        20   0.7105  0.24762    0.08924 0.21790         \n",
       "        21   0.7053  0.23714    0.08196 0.23573         \n",
       "        22   0.7053  0.21510    0.09378 0.26412         \n",
       "        23   0.6947  0.18846    0.09040 0.24907         \n",
       "        24   0.7105  0.23202    0.08527 0.24881         \n",
       "        25   0.7000  0.20892    0.09415 0.25129         \n",
       "        29   0.7000  0.20167    0.07350 0.19649         \n",
       "\n",
       "The top 5 variables (out of 12):\n",
       "   FBXL2, ATP10B, SYT5, NPTX1, SEPP1\n"
      ]
     },
     "metadata": {},
     "output_type": "display_data"
    }
   ],
   "source": [
    "Profile"
   ]
  },
  {
   "cell_type": "code",
   "execution_count": 28,
   "id": "108123a0-e8f9-4f8d-b623-b699c17dbcc6",
   "metadata": {},
   "outputs": [
    {
     "ename": "ERROR",
     "evalue": "Error in text.default(wmin.x, wmin.y, paste0(\"N=\", wmin.x), pos = 2, col = 2): no coordinates were supplied\n",
     "output_type": "error",
     "traceback": [
      "Error in text.default(wmin.x, wmin.y, paste0(\"N=\", wmin.x), pos = 2, col = 2): no coordinates were supplied\nTraceback:\n",
      "1. text(wmin.x, wmin.y, paste0(\"N=\", wmin.x), pos = 2, col = 2)",
      "2. text.default(wmin.x, wmin.y, paste0(\"N=\", wmin.x), pos = 2, col = 2)"
     ]
    }
   ],
   "source": [
    "pdf(file=\"SVM-RFE.pdf\", width=6, height=5.5)\n",
    "par(las=1)\n",
    "x= Profile$results$Variables \n",
    "y =Profile$results$RMSE\n",
    "plot(x, y, xlab=\"Variables\", ylab=\"RMSE (Cross-Validation)\", col=\"darkgreen\") \n",
    "lines(x, y, col=\"darkgreen\")\n",
    "wmin=which.min(y) \n",
    "wmin.x=x[wmin] \n",
    "wmin.y=y[wmin]\n",
    "points(wmin.x, wmin.y, col=\"blue\", pch=16)\n",
    "text(wmin.x, wmin.y, paste0('N=', wmin.x), pos=2, col=2)\n",
    "dev.off()"
   ]
  },
  {
   "cell_type": "code",
   "execution_count": null,
   "id": "6f005347-89f0-49d8-9fd6-2b20cf4594e0",
   "metadata": {},
   "outputs": [],
   "source": [
    "\n",
    "\n",
    "par(las=1)\n",
    "x= Profile$results$Variables \n",
    "y =Profile$results$RMSE\n",
    "plot(x, y, xlab=\"Variables\", ylab=\"RMSE (Cross-Validation)\", col=\"darkgreen\") \n",
    "lines(x, y, col=\"darkgreen\")\n",
    "wmin=which.min(y) \n",
    "wmin.x=x[wmin] \n",
    "wmin.y=y[wmin]\n",
    "points(wmin.x, wmin.y, col=\"blue\", pch=16)\n",
    "text(wmin.x, wmin.y, paste0('N=', wmin.x), pos=2, col=2)\n",
    "\n",
    "#输出\n",
    "featureGenes = Profile$optVariables\n",
    "write.table(file=\"SVM-RFE.gene.txt\",featureGenes,sep=\"\\t\",quote=F,row.names=F,col.names=F) #表达矩阵 \n",
    "\n",
    "featureGenes"
   ]
  },
  {
   "cell_type": "code",
   "execution_count": null,
   "id": "78c793a4-9cc0-44e9-af42-1a19b7d24131",
   "metadata": {},
   "outputs": [],
   "source": []
  },
  {
   "cell_type": "code",
   "execution_count": null,
   "id": "fb8b8407-3723-4e47-9eac-fef9e1c4dbac",
   "metadata": {},
   "outputs": [],
   "source": []
  },
  {
   "cell_type": "code",
   "execution_count": null,
   "id": "0c2f9e7b-4fc2-4536-96d8-11a96d99a6e2",
   "metadata": {},
   "outputs": [],
   "source": []
  },
  {
   "cell_type": "code",
   "execution_count": null,
   "id": "8a4cdaf2-0442-44c4-ad35-a113e38d1981",
   "metadata": {},
   "outputs": [],
   "source": []
  },
  {
   "cell_type": "code",
   "execution_count": null,
   "id": "9be98d49-df54-41b4-a41e-050bd6c997dd",
   "metadata": {},
   "outputs": [],
   "source": []
  },
  {
   "cell_type": "code",
   "execution_count": null,
   "id": "390b01e7-9951-4bd4-b268-1bbf55bf0990",
   "metadata": {},
   "outputs": [],
   "source": []
  },
  {
   "cell_type": "markdown",
   "id": "80a4188a-f4ee-4fc6-8479-542b5b97f5a7",
   "metadata": {},
   "source": [
    "### Boruta"
   ]
  },
  {
   "cell_type": "code",
   "execution_count": 51,
   "id": "56b1f3fc-13fd-47bb-b427-e9a8d45270ab",
   "metadata": {
    "scrolled": true
   },
   "outputs": [
    {
     "data": {
      "text/html": [
       "<style>\n",
       ".list-inline {list-style: none; margin:0; padding: 0}\n",
       ".list-inline>li {display: inline-block}\n",
       ".list-inline>li:not(:last-child)::after {content: \"\\00b7\"; padding: 0 .5ex}\n",
       "</style>\n",
       "<ol class=list-inline><li>0</li><li>0</li><li>0</li><li>1</li><li>1</li><li>0</li><li>1</li><li>0</li><li>0</li><li>0</li><li>0</li><li>1</li><li>0</li><li>1</li><li>0</li><li>1</li><li>0</li><li>0</li><li>0</li><li>0</li><li>1</li><li>0</li><li>0</li><li>1</li><li>0</li><li>0</li><li>0</li><li>0</li><li>0</li><li>0</li><li>1</li><li>0</li><li>0</li><li>0</li><li>0</li><li>1</li><li>0</li><li>1</li><li>0</li><li>1</li><li>1</li><li>1</li><li>0</li><li>0</li><li>0</li><li>0</li><li>0</li><li>0</li><li>0</li><li>1</li><li>0</li><li>1</li><li>1</li><li>0</li><li>0</li><li>0</li><li>0</li><li>0</li><li>0</li><li>0</li><li>0</li><li>0</li><li>1</li><li>1</li><li>1</li><li>0</li><li>0</li><li>0</li><li>0</li><li>0</li><li>0</li><li>1</li><li>0</li><li>1</li><li>0</li><li>1</li><li>0</li><li>0</li><li>0</li><li>0</li><li>0</li><li>1</li><li>0</li><li>0</li><li>1</li><li>0</li><li>0</li><li>0</li><li>0</li><li>0</li><li>0</li><li>1</li><li>0</li><li>0</li><li>0</li><li>0</li><li>0</li><li>1</li><li>1</li><li>0</li><li>1</li><li>1</li><li>1</li><li>1</li><li>1</li><li>0</li><li>0</li><li>0</li><li>0</li><li>0</li><li>0</li><li>0</li><li>1</li><li>0</li><li>1</li><li>1</li><li>0</li><li>0</li><li>0</li><li>0</li><li>0</li><li>0</li><li>0</li><li>0</li><li>0</li><li>0</li><li>0</li><li>0</li><li>0</li><li>0</li><li>0</li><li>0</li><li>0</li><li>0</li><li>0</li><li>0</li><li>0</li><li>0</li><li>0</li><li>0</li><li>0</li><li>0</li><li>0</li><li>0</li><li>0</li><li>0</li><li>0</li><li>0</li><li>0</li><li>0</li><li>0</li><li>0</li><li>0</li><li>0</li><li>0</li><li>0</li><li>0</li><li>0</li><li>0</li><li>0</li><li>0</li><li>0</li><li>0</li><li>0</li><li>0</li><li>0</li><li>1</li><li>1</li><li>1</li><li>1</li><li>1</li><li>1</li><li>1</li><li>1</li><li>1</li><li>1</li><li>1</li><li>1</li><li>1</li><li>1</li><li>1</li><li>1</li><li>1</li><li>1</li><li>1</li><li>1</li><li>1</li><li>1</li><li>1</li><li>1</li></ol>\n"
      ],
      "text/latex": [
       "\\begin{enumerate*}\n",
       "\\item 0\n",
       "\\item 0\n",
       "\\item 0\n",
       "\\item 1\n",
       "\\item 1\n",
       "\\item 0\n",
       "\\item 1\n",
       "\\item 0\n",
       "\\item 0\n",
       "\\item 0\n",
       "\\item 0\n",
       "\\item 1\n",
       "\\item 0\n",
       "\\item 1\n",
       "\\item 0\n",
       "\\item 1\n",
       "\\item 0\n",
       "\\item 0\n",
       "\\item 0\n",
       "\\item 0\n",
       "\\item 1\n",
       "\\item 0\n",
       "\\item 0\n",
       "\\item 1\n",
       "\\item 0\n",
       "\\item 0\n",
       "\\item 0\n",
       "\\item 0\n",
       "\\item 0\n",
       "\\item 0\n",
       "\\item 1\n",
       "\\item 0\n",
       "\\item 0\n",
       "\\item 0\n",
       "\\item 0\n",
       "\\item 1\n",
       "\\item 0\n",
       "\\item 1\n",
       "\\item 0\n",
       "\\item 1\n",
       "\\item 1\n",
       "\\item 1\n",
       "\\item 0\n",
       "\\item 0\n",
       "\\item 0\n",
       "\\item 0\n",
       "\\item 0\n",
       "\\item 0\n",
       "\\item 0\n",
       "\\item 1\n",
       "\\item 0\n",
       "\\item 1\n",
       "\\item 1\n",
       "\\item 0\n",
       "\\item 0\n",
       "\\item 0\n",
       "\\item 0\n",
       "\\item 0\n",
       "\\item 0\n",
       "\\item 0\n",
       "\\item 0\n",
       "\\item 0\n",
       "\\item 1\n",
       "\\item 1\n",
       "\\item 1\n",
       "\\item 0\n",
       "\\item 0\n",
       "\\item 0\n",
       "\\item 0\n",
       "\\item 0\n",
       "\\item 0\n",
       "\\item 1\n",
       "\\item 0\n",
       "\\item 1\n",
       "\\item 0\n",
       "\\item 1\n",
       "\\item 0\n",
       "\\item 0\n",
       "\\item 0\n",
       "\\item 0\n",
       "\\item 0\n",
       "\\item 1\n",
       "\\item 0\n",
       "\\item 0\n",
       "\\item 1\n",
       "\\item 0\n",
       "\\item 0\n",
       "\\item 0\n",
       "\\item 0\n",
       "\\item 0\n",
       "\\item 0\n",
       "\\item 1\n",
       "\\item 0\n",
       "\\item 0\n",
       "\\item 0\n",
       "\\item 0\n",
       "\\item 0\n",
       "\\item 1\n",
       "\\item 1\n",
       "\\item 0\n",
       "\\item 1\n",
       "\\item 1\n",
       "\\item 1\n",
       "\\item 1\n",
       "\\item 1\n",
       "\\item 0\n",
       "\\item 0\n",
       "\\item 0\n",
       "\\item 0\n",
       "\\item 0\n",
       "\\item 0\n",
       "\\item 0\n",
       "\\item 1\n",
       "\\item 0\n",
       "\\item 1\n",
       "\\item 1\n",
       "\\item 0\n",
       "\\item 0\n",
       "\\item 0\n",
       "\\item 0\n",
       "\\item 0\n",
       "\\item 0\n",
       "\\item 0\n",
       "\\item 0\n",
       "\\item 0\n",
       "\\item 0\n",
       "\\item 0\n",
       "\\item 0\n",
       "\\item 0\n",
       "\\item 0\n",
       "\\item 0\n",
       "\\item 0\n",
       "\\item 0\n",
       "\\item 0\n",
       "\\item 0\n",
       "\\item 0\n",
       "\\item 0\n",
       "\\item 0\n",
       "\\item 0\n",
       "\\item 0\n",
       "\\item 0\n",
       "\\item 0\n",
       "\\item 0\n",
       "\\item 0\n",
       "\\item 0\n",
       "\\item 0\n",
       "\\item 0\n",
       "\\item 0\n",
       "\\item 0\n",
       "\\item 0\n",
       "\\item 0\n",
       "\\item 0\n",
       "\\item 0\n",
       "\\item 0\n",
       "\\item 0\n",
       "\\item 0\n",
       "\\item 0\n",
       "\\item 0\n",
       "\\item 0\n",
       "\\item 0\n",
       "\\item 0\n",
       "\\item 0\n",
       "\\item 0\n",
       "\\item 0\n",
       "\\item 0\n",
       "\\item 0\n",
       "\\item 1\n",
       "\\item 1\n",
       "\\item 1\n",
       "\\item 1\n",
       "\\item 1\n",
       "\\item 1\n",
       "\\item 1\n",
       "\\item 1\n",
       "\\item 1\n",
       "\\item 1\n",
       "\\item 1\n",
       "\\item 1\n",
       "\\item 1\n",
       "\\item 1\n",
       "\\item 1\n",
       "\\item 1\n",
       "\\item 1\n",
       "\\item 1\n",
       "\\item 1\n",
       "\\item 1\n",
       "\\item 1\n",
       "\\item 1\n",
       "\\item 1\n",
       "\\item 1\n",
       "\\end{enumerate*}\n"
      ],
      "text/markdown": [
       "1. 0\n",
       "2. 0\n",
       "3. 0\n",
       "4. 1\n",
       "5. 1\n",
       "6. 0\n",
       "7. 1\n",
       "8. 0\n",
       "9. 0\n",
       "10. 0\n",
       "11. 0\n",
       "12. 1\n",
       "13. 0\n",
       "14. 1\n",
       "15. 0\n",
       "16. 1\n",
       "17. 0\n",
       "18. 0\n",
       "19. 0\n",
       "20. 0\n",
       "21. 1\n",
       "22. 0\n",
       "23. 0\n",
       "24. 1\n",
       "25. 0\n",
       "26. 0\n",
       "27. 0\n",
       "28. 0\n",
       "29. 0\n",
       "30. 0\n",
       "31. 1\n",
       "32. 0\n",
       "33. 0\n",
       "34. 0\n",
       "35. 0\n",
       "36. 1\n",
       "37. 0\n",
       "38. 1\n",
       "39. 0\n",
       "40. 1\n",
       "41. 1\n",
       "42. 1\n",
       "43. 0\n",
       "44. 0\n",
       "45. 0\n",
       "46. 0\n",
       "47. 0\n",
       "48. 0\n",
       "49. 0\n",
       "50. 1\n",
       "51. 0\n",
       "52. 1\n",
       "53. 1\n",
       "54. 0\n",
       "55. 0\n",
       "56. 0\n",
       "57. 0\n",
       "58. 0\n",
       "59. 0\n",
       "60. 0\n",
       "61. 0\n",
       "62. 0\n",
       "63. 1\n",
       "64. 1\n",
       "65. 1\n",
       "66. 0\n",
       "67. 0\n",
       "68. 0\n",
       "69. 0\n",
       "70. 0\n",
       "71. 0\n",
       "72. 1\n",
       "73. 0\n",
       "74. 1\n",
       "75. 0\n",
       "76. 1\n",
       "77. 0\n",
       "78. 0\n",
       "79. 0\n",
       "80. 0\n",
       "81. 0\n",
       "82. 1\n",
       "83. 0\n",
       "84. 0\n",
       "85. 1\n",
       "86. 0\n",
       "87. 0\n",
       "88. 0\n",
       "89. 0\n",
       "90. 0\n",
       "91. 0\n",
       "92. 1\n",
       "93. 0\n",
       "94. 0\n",
       "95. 0\n",
       "96. 0\n",
       "97. 0\n",
       "98. 1\n",
       "99. 1\n",
       "100. 0\n",
       "101. 1\n",
       "102. 1\n",
       "103. 1\n",
       "104. 1\n",
       "105. 1\n",
       "106. 0\n",
       "107. 0\n",
       "108. 0\n",
       "109. 0\n",
       "110. 0\n",
       "111. 0\n",
       "112. 0\n",
       "113. 1\n",
       "114. 0\n",
       "115. 1\n",
       "116. 1\n",
       "117. 0\n",
       "118. 0\n",
       "119. 0\n",
       "120. 0\n",
       "121. 0\n",
       "122. 0\n",
       "123. 0\n",
       "124. 0\n",
       "125. 0\n",
       "126. 0\n",
       "127. 0\n",
       "128. 0\n",
       "129. 0\n",
       "130. 0\n",
       "131. 0\n",
       "132. 0\n",
       "133. 0\n",
       "134. 0\n",
       "135. 0\n",
       "136. 0\n",
       "137. 0\n",
       "138. 0\n",
       "139. 0\n",
       "140. 0\n",
       "141. 0\n",
       "142. 0\n",
       "143. 0\n",
       "144. 0\n",
       "145. 0\n",
       "146. 0\n",
       "147. 0\n",
       "148. 0\n",
       "149. 0\n",
       "150. 0\n",
       "151. 0\n",
       "152. 0\n",
       "153. 0\n",
       "154. 0\n",
       "155. 0\n",
       "156. 0\n",
       "157. 0\n",
       "158. 0\n",
       "159. 0\n",
       "160. 0\n",
       "161. 0\n",
       "162. 0\n",
       "163. 0\n",
       "164. 0\n",
       "165. 0\n",
       "166. 0\n",
       "167. 1\n",
       "168. 1\n",
       "169. 1\n",
       "170. 1\n",
       "171. 1\n",
       "172. 1\n",
       "173. 1\n",
       "174. 1\n",
       "175. 1\n",
       "176. 1\n",
       "177. 1\n",
       "178. 1\n",
       "179. 1\n",
       "180. 1\n",
       "181. 1\n",
       "182. 1\n",
       "183. 1\n",
       "184. 1\n",
       "185. 1\n",
       "186. 1\n",
       "187. 1\n",
       "188. 1\n",
       "189. 1\n",
       "190. 1\n",
       "\n",
       "\n"
      ],
      "text/plain": [
       "  [1] 0 0 0 1 1 0 1 0 0 0 0 1 0 1 0 1 0 0 0 0 1 0 0 1 0 0 0 0 0 0 1 0 0 0 0 1 0\n",
       " [38] 1 0 1 1 1 0 0 0 0 0 0 0 1 0 1 1 0 0 0 0 0 0 0 0 0 1 1 1 0 0 0 0 0 0 1 0 1\n",
       " [75] 0 1 0 0 0 0 0 1 0 0 1 0 0 0 0 0 0 1 0 0 0 0 0 1 1 0 1 1 1 1 1 0 0 0 0 0 0\n",
       "[112] 0 1 0 1 1 0 0 0 0 0 0 0 0 0 0 0 0 0 0 0 0 0 0 0 0 0 0 0 0 0 0 0 0 0 0 0 0\n",
       "[149] 0 0 0 0 0 0 0 0 0 0 0 0 0 0 0 0 0 0 1 1 1 1 1 1 1 1 1 1 1 1 1 1 1 1 1 1 1\n",
       "[186] 1 1 1 1 1"
      ]
     },
     "metadata": {},
     "output_type": "display_data"
    },
    {
     "data": {
      "text/plain": [
       "Boruta performed 299 iterations in 18.48234 secs.\n",
       " 9 attributes confirmed important: ACOT7, ATP10B, DYNC1I1, FBXL2, NPM1\n",
       "and 4 more;\n",
       " 19 attributes confirmed unimportant: ATP1A3, CALM3, DAAM2, EFEMP1,\n",
       "EIF4E and 14 more;\n",
       " 1 tentative attributes left: HIST1H4C;"
      ]
     },
     "metadata": {},
     "output_type": "display_data"
    },
    {
     "data": {
      "text/plain": [
       "\n",
       "Tentative Confirmed  Rejected \n",
       "        1         9        19 "
      ]
     },
     "metadata": {},
     "output_type": "display_data"
    },
    {
     "data": {
      "text/html": [
       "<style>\n",
       ".dl-inline {width: auto; margin:0; padding: 0}\n",
       ".dl-inline>dt, .dl-inline>dd {float: none; width: auto; display: inline-block}\n",
       ".dl-inline>dt::after {content: \":\\0020\"; padding-right: .5ex}\n",
       ".dl-inline>dt:not(:first-of-type) {padding-left: .5ex}\n",
       "</style><dl class=dl-inline><dt>SYT5</dt><dd>Confirmed</dd><dt>ATP10B</dt><dd>Confirmed</dd><dt>PRSS3</dt><dd>Rejected</dd><dt>FBXL2</dt><dd>Confirmed</dd><dt>PHKG1</dt><dd>Confirmed</dd><dt>SYP</dt><dd>Rejected</dd><dt>PTPRN</dt><dd>Rejected</dd><dt>PTMS</dt><dd>Rejected</dd><dt>DAAM2</dt><dd>Rejected</dd><dt>NELL1</dt><dd>Rejected</dd><dt>HPCA</dt><dd>Rejected</dd><dt>ACOT7</dt><dd>Confirmed</dd><dt>ATP1A3</dt><dd>Rejected</dd><dt>NPTX1</dt><dd>Confirmed</dd><dt>NPM1</dt><dd>Confirmed</dd><dt>HIST1H4C</dt><dd>Tentative</dd><dt>EIF4E</dt><dd>Rejected</dd><dt>LY6H</dt><dd>Rejected</dd><dt>CALM3</dt><dd>Rejected</dd><dt>PIN1</dt><dd>Rejected</dd><dt>TUSC3</dt><dd>Rejected</dd><dt>SSBP3</dt><dd>Rejected</dd><dt>TUBB4</dt><dd>Rejected</dd><dt>RBP4</dt><dd>Rejected</dd><dt>SEPP1</dt><dd>Confirmed</dd><dt>EFEMP1</dt><dd>Rejected</dd><dt>DYNC1I1</dt><dd>Confirmed</dd><dt>GABRD</dt><dd>Rejected</dd><dt>ENO2</dt><dd>Rejected</dd></dl>\n",
       "\n",
       "<details>\n",
       "\t<summary style=display:list-item;cursor:pointer>\n",
       "\t\t<strong>Levels</strong>:\n",
       "\t</summary>\n",
       "\t<style>\n",
       "\t.list-inline {list-style: none; margin:0; padding: 0}\n",
       "\t.list-inline>li {display: inline-block}\n",
       "\t.list-inline>li:not(:last-child)::after {content: \"\\00b7\"; padding: 0 .5ex}\n",
       "\t</style>\n",
       "\t<ol class=list-inline><li>'Tentative'</li><li>'Confirmed'</li><li>'Rejected'</li></ol>\n",
       "</details>"
      ],
      "text/latex": [
       "\\begin{description*}\n",
       "\\item[SYT5] Confirmed\n",
       "\\item[ATP10B] Confirmed\n",
       "\\item[PRSS3] Rejected\n",
       "\\item[FBXL2] Confirmed\n",
       "\\item[PHKG1] Confirmed\n",
       "\\item[SYP] Rejected\n",
       "\\item[PTPRN] Rejected\n",
       "\\item[PTMS] Rejected\n",
       "\\item[DAAM2] Rejected\n",
       "\\item[NELL1] Rejected\n",
       "\\item[HPCA] Rejected\n",
       "\\item[ACOT7] Confirmed\n",
       "\\item[ATP1A3] Rejected\n",
       "\\item[NPTX1] Confirmed\n",
       "\\item[NPM1] Confirmed\n",
       "\\item[HIST1H4C] Tentative\n",
       "\\item[EIF4E] Rejected\n",
       "\\item[LY6H] Rejected\n",
       "\\item[CALM3] Rejected\n",
       "\\item[PIN1] Rejected\n",
       "\\item[TUSC3] Rejected\n",
       "\\item[SSBP3] Rejected\n",
       "\\item[TUBB4] Rejected\n",
       "\\item[RBP4] Rejected\n",
       "\\item[SEPP1] Confirmed\n",
       "\\item[EFEMP1] Rejected\n",
       "\\item[DYNC1I1] Confirmed\n",
       "\\item[GABRD] Rejected\n",
       "\\item[ENO2] Rejected\n",
       "\\end{description*}\n",
       "\n",
       "\\emph{Levels}: \\begin{enumerate*}\n",
       "\\item 'Tentative'\n",
       "\\item 'Confirmed'\n",
       "\\item 'Rejected'\n",
       "\\end{enumerate*}\n"
      ],
      "text/markdown": [
       "SYT5\n",
       ":   ConfirmedATP10B\n",
       ":   ConfirmedPRSS3\n",
       ":   RejectedFBXL2\n",
       ":   ConfirmedPHKG1\n",
       ":   ConfirmedSYP\n",
       ":   RejectedPTPRN\n",
       ":   RejectedPTMS\n",
       ":   RejectedDAAM2\n",
       ":   RejectedNELL1\n",
       ":   RejectedHPCA\n",
       ":   RejectedACOT7\n",
       ":   ConfirmedATP1A3\n",
       ":   RejectedNPTX1\n",
       ":   ConfirmedNPM1\n",
       ":   ConfirmedHIST1H4C\n",
       ":   TentativeEIF4E\n",
       ":   RejectedLY6H\n",
       ":   RejectedCALM3\n",
       ":   RejectedPIN1\n",
       ":   RejectedTUSC3\n",
       ":   RejectedSSBP3\n",
       ":   RejectedTUBB4\n",
       ":   RejectedRBP4\n",
       ":   RejectedSEPP1\n",
       ":   ConfirmedEFEMP1\n",
       ":   RejectedDYNC1I1\n",
       ":   ConfirmedGABRD\n",
       ":   RejectedENO2\n",
       ":   Rejected\n",
       "\n",
       "\n",
       "**Levels**: 1. 'Tentative'\n",
       "2. 'Confirmed'\n",
       "3. 'Rejected'\n",
       "\n",
       "\n"
      ],
      "text/plain": [
       "     SYT5    ATP10B     PRSS3     FBXL2     PHKG1       SYP     PTPRN      PTMS \n",
       "Confirmed Confirmed  Rejected Confirmed Confirmed  Rejected  Rejected  Rejected \n",
       "    DAAM2     NELL1      HPCA     ACOT7    ATP1A3     NPTX1      NPM1  HIST1H4C \n",
       " Rejected  Rejected  Rejected Confirmed  Rejected Confirmed Confirmed Tentative \n",
       "    EIF4E      LY6H     CALM3      PIN1     TUSC3     SSBP3     TUBB4      RBP4 \n",
       " Rejected  Rejected  Rejected  Rejected  Rejected  Rejected  Rejected  Rejected \n",
       "    SEPP1    EFEMP1   DYNC1I1     GABRD      ENO2 \n",
       "Confirmed  Rejected Confirmed  Rejected  Rejected \n",
       "Levels: Tentative Confirmed Rejected"
      ]
     },
     "metadata": {},
     "output_type": "display_data"
    },
    {
     "data": {
      "text/plain": [
       "Boruta performed 299 iterations in 18.48234 secs.\n",
       " 9 attributes confirmed important: ACOT7, ATP10B, DYNC1I1, FBXL2, NPM1\n",
       "and 4 more;\n",
       " 19 attributes confirmed unimportant: ATP1A3, CALM3, DAAM2, EFEMP1,\n",
       "EIF4E and 14 more;\n",
       " 1 tentative attributes left: HIST1H4C;"
      ]
     },
     "metadata": {},
     "output_type": "display_data"
    },
    {
     "data": {
      "image/png": "[encoded data removed]",
      "text/plain": [
       "plot without title"
      ]
     },
     "metadata": {
      "image/png": {
       "height": 420,
       "width": 240
      }
     },
     "output_type": "display_data"
    }
   ],
   "source": [
    "library(Boruta)\n",
    "\n",
    "y\n",
    "\n",
    "set.seed(111)\n",
    "boruta <- Boruta(x=x, y=y, pValue=0.05, mcAdj=T, \n",
    "       maxRuns=300)\n",
    "\n",
    "boruta\n",
    "\n",
    "table(boruta$finalDecision)\n",
    "\n",
    "boruta$finalDecision\n",
    "\n",
    "Boruta::plotImpHistory(boruta)\n",
    "\n",
    "library(dplyr)\n",
    "boruta.imp <- function(x){\n",
    "  imp <- reshape2::melt(x$ImpHistory, na.rm=T)[,-1]\n",
    "  colnames(imp) <- c(\"Variable\",\"Importance\")\n",
    "  imp <- imp[is.finite(imp$Importance),]\n",
    "\n",
    "  variableGrp <- data.frame(Variable=names(x$finalDecision), \n",
    "                            finalDecision=x$finalDecision)\n",
    "\n",
    "  showGrp <- data.frame(Variable=c(\"shadowMax\", \"shadowMean\", \"shadowMin\"),\n",
    "                        finalDecision=c(\"shadowMax\", \"shadowMean\", \"shadowMin\"))\n",
    "\n",
    "  variableGrp <- rbind(variableGrp, showGrp)\n",
    "\n",
    "  boruta.variable.imp <- merge(imp, variableGrp, all.x=T)\n",
    "\n",
    "  sortedVariable <- boruta.variable.imp %>% group_by(Variable) %>% \n",
    "    summarise(median=median(Importance)) %>% arrange(median)\n",
    "  sortedVariable <- as.vector(sortedVariable$Variable)\n",
    "\n",
    "\n",
    "  boruta.variable.imp$Variable <- factor(boruta.variable.imp$Variable, levels=sortedVariable)\n",
    "\n",
    "  invisible(boruta.variable.imp)\n",
    "}\n",
    "boruta.variable.imp <- boruta.imp(boruta)\n",
    "\n",
    "\n",
    "boruta\n",
    "\n",
    "# library(YSX)\n",
    "\n",
    "# sp_boxplot(boruta.variable.imp, melted=T, xvariable = \"Variable\", yvariable = \"Importance\",\n",
    "#            legend_variable = \"finalDecision\", legend_variable_order = c(\"shadowMax\", \"shadowMean\", \"shadowMin\", \"Confirmed\"),\n",
    "#            xtics_angle = 90)\n",
    "\n",
    "# expr = cbind(Type,expr)\n",
    "\n",
    "# colnames(expr)[1]  ='Group'\n",
    "\n",
    "# expr3 = expr\n",
    "\n",
    "# set.seed(147)  \n",
    "# index <-  which( (1:nrow(expr3))%%3 == 0 )\n",
    "# train <- expr3[-index,]\n",
    "# test <- expr3[index,]\n",
    "\n",
    "# table(test$Group)\n",
    "\n",
    "# library(\"xgboost\")\n",
    "# library(\"Matrix\")\n",
    "# train_matrix <- sparse.model.matrix(Group ~ .-1, data = train)\n",
    "# test_matrix <- sparse.model.matrix(Group ~ .-1, data = test)\n",
    "# all_matrix <- sparse.model.matrix(Group ~ .-1, data = expr3)\n",
    "\n",
    "\n",
    "\n",
    "# train_label <- as.numeric(train$Group == 'MDD')\n",
    "# test_label <-  as.numeric(test$Group == 'MDD')\n",
    "# all_label <-  as.numeric(expr3$Group == 'MDD')\n",
    "\n",
    "# all_label\n",
    "\n",
    "# train_fin <- list(data=train_matrix,label=train_label) \n",
    "# test_fin <- list(data=test_matrix,label=test_label) \n",
    "# all_fin <- list(data=all_matrix,label=all_label) \n",
    "\n",
    "# dtrain <- xgb.DMatrix(data = train_fin$data, label = train_fin$label) \n",
    "# dtest <- xgb.DMatrix(data = test_fin$data, label = test_fin$label)\n",
    "# dall <- xgb.DMatrix(data = all_fin$data, label = all_fin$label)\n",
    "\n",
    "# xgb <- xgboost(data = dall,max_depth=6, eta=0.5,  \n",
    "#   objective='binary:logistic', nround=25)\n",
    "\n",
    "# xgb\n",
    "\n",
    "# importance <- xgb.importance(all_matrix@Dimnames[[2]], model = xgb)  \n",
    "# head(importance)\n",
    "# xgb.ggplot.importance(importance)\n",
    "\n",
    "# xgb.plot.importance(importance)"
   ]
  },
  {
   "cell_type": "code",
   "execution_count": 52,
   "id": "43df8e21-bbc7-4efd-b4fe-41c4ab5b41de",
   "metadata": {},
   "outputs": [],
   "source": [
    "# lasso"
   ]
  },
  {
   "cell_type": "code",
   "execution_count": 53,
   "id": "7f0658c0-bf4a-4a5c-8bcc-a25f5c824806",
   "metadata": {},
   "outputs": [
    {
     "name": "stderr",
     "output_type": "stream",
     "text": [
      "Warning message:\n",
      "\"package 'lars' was built under R version 4.2.3\"\n",
      "Loaded lars 1.3\n",
      "\n",
      "\n"
     ]
    },
    {
     "data": {
      "image/png": "[encoded data removed]",
      "text/plain": [
       "plot without title"
      ]
     },
     "metadata": {
      "image/png": {
       "height": 420,
       "width": 240
      }
     },
     "output_type": "display_data"
    },
    {
     "data": {
      "image/png": "[encoded data removed]",
      "text/plain": [
       "plot without title"
      ]
     },
     "metadata": {
      "image/png": {
       "height": 420,
       "width": 240
      }
     },
     "output_type": "display_data"
    },
    {
     "data": {
      "text/html": [
       "<style>\n",
       ".list-inline {list-style: none; margin:0; padding: 0}\n",
       ".list-inline>li {display: inline-block}\n",
       ".list-inline>li:not(:last-child)::after {content: \"\\00b7\"; padding: 0 .5ex}\n",
       "</style>\n",
       "<ol class=list-inline><li>0.017512937135465</li><li>0.0707000294645888</li></ol>\n"
      ],
      "text/latex": [
       "\\begin{enumerate*}\n",
       "\\item 0.017512937135465\n",
       "\\item 0.0707000294645888\n",
       "\\end{enumerate*}\n"
      ],
      "text/markdown": [
       "1. 0.017512937135465\n",
       "2. 0.0707000294645888\n",
       "\n",
       "\n"
      ],
      "text/plain": [
       "[1] 0.01751294 0.07070003"
      ]
     },
     "metadata": {},
     "output_type": "display_data"
    },
    {
     "data": {
      "text/html": [
       "<style>\n",
       ".list-inline {list-style: none; margin:0; padding: 0}\n",
       ".list-inline>li {display: inline-block}\n",
       ".list-inline>li:not(:last-child)::after {content: \"\\00b7\"; padding: 0 .5ex}\n",
       "</style>\n",
       "<ol class=list-inline><li>'SYT5'</li><li>'ATP10B'</li><li>'PRSS3'</li><li>'FBXL2'</li><li>'DAAM2'</li><li>'NPM1'</li></ol>\n"
      ],
      "text/latex": [
       "\\begin{enumerate*}\n",
       "\\item 'SYT5'\n",
       "\\item 'ATP10B'\n",
       "\\item 'PRSS3'\n",
       "\\item 'FBXL2'\n",
       "\\item 'DAAM2'\n",
       "\\item 'NPM1'\n",
       "\\end{enumerate*}\n"
      ],
      "text/markdown": [
       "1. 'SYT5'\n",
       "2. 'ATP10B'\n",
       "3. 'PRSS3'\n",
       "4. 'FBXL2'\n",
       "5. 'DAAM2'\n",
       "6. 'NPM1'\n",
       "\n",
       "\n"
      ],
      "text/plain": [
       "[1] \"SYT5\"   \"ATP10B\" \"PRSS3\"  \"FBXL2\"  \"DAAM2\"  \"NPM1\"  "
      ]
     },
     "metadata": {},
     "output_type": "display_data"
    },
    {
     "data": {
      "image/png": "[encoded data removed]",
      "text/plain": [
       "plot without title"
      ]
     },
     "metadata": {
      "image/png": {
       "height": 420,
       "width": 240
      }
     },
     "output_type": "display_data"
    }
   ],
   "source": [
    "library(lars) \n",
    "library(glmnet) \n",
    "\n",
    "#用基因的表达情况预测生死\n",
    "model_lasso <- glmnet(x, y, family=\"binomial\", nlambda=100, alpha=1)#拉手回归模型\n",
    "plot(model_lasso, xvar = \"norm\", label = TRUE)\n",
    "\n",
    "plot(model_lasso, xvar=\"lambda\", label=TRUE)\n",
    "\n",
    "cv_fit <- cv.glmnet(x=x, y=y, alpha = 1, nlambda = 100)\n",
    "\n",
    "plot(cv_fit)\n",
    "# 两条虚线分别指示了两个特殊的λ值:\n",
    "c(cv_fit$lambda.min,cv_fit$lambda.1se) \n",
    "\n",
    "model_lasso <- glmnet(x=as.matrix(x), y=y, alpha = 1, lambda=cv_fit$lambda.1se\t)\n",
    "gene_1se <- rownames(model_lasso$beta)[as.numeric(model_lasso$beta)!=0]\n",
    "gene_1se = gsub('[.]',' ',gene_1se)\n",
    "\n",
    "gene_1se\n",
    "\n",
    "# ### 韦恩图\n",
    "\n",
    "# importance$Feature\n",
    "\n",
    "# RF.gene = names(rfGenes)[1:10]\n",
    "# #SVF.RFE.gene = featureGenes\n",
    "# XGBoost.gene = importance$Feature[1:10]\n",
    "\n",
    "# boruta.variable.imp2 = boruta.variable.imp %>% dplyr::filter(finalDecision %in% c('Confirmed','Tentative')) %>% dplyr::select(Variable) %>% unique()\n",
    "\n",
    "# Boruta.gene = as.vector(boruta.variable.imp2$Variable)\n",
    "\n",
    "# lasso.gene  = gene_1se\n",
    "\n",
    "# list1 = list(RF.gene,lasso.gene,Boruta.gene,XGBoost.gene)\n",
    "\n",
    "# data =  as.data.frame (do.call (cbind, list1))\n",
    "\n",
    "\n",
    "# library(venn)\n",
    "#         library(VennDiagram)\n",
    "#         color=c( \"#3C5488B2\",\"#00A087B2\", \n",
    "#              \"#F39B7FB2\",\"#91D1C2B2\", \n",
    "#              \"#8491B4B2\", \"#DC0000B2\", \n",
    "#              \"#7E6148B2\",\"yellow\", \n",
    "#              \"darkolivegreen1\", \"lightskyblue\", \n",
    "#              \"darkgreen\", \"deeppink\", \"khaki2\", \n",
    "#              \"firebrick\", \"brown1\", \"darkorange1\", \n",
    "#              \"cyan1\", \"royalblue4\", \"darksalmon\", \n",
    "#              \"darkgoldenrod1\", \"darkseagreen\", \"darkorchid\")\n",
    "\n",
    "#     if (ncol(data) == 2){\n",
    "#         sample_list <- list(c1 = data[,1], c2 = data[,2])\n",
    "#     }else if(ncol(data) == 3){\n",
    "#         sample_list <- list(RF.gene = data[,1], Boruta.gene = data[,2], XGBoost.gene = data[,3])\n",
    "#     }else if(ncol(data) == 4){\n",
    "#         sample_list <- list(RF.gene = data[,1], SVF.RFE.gene = data[,2], Boruta.gene = data[,3], XGBoost.gene = data[,4])\n",
    "#     }else{\n",
    "#         sample_list <- list(c1 = data[,1], c2 = data[,2], c3 = data[,3], c4 = data[,4], c5 = data[,5])\n",
    "#     }\n",
    "    \n",
    "#     q <- venn.diagram(sample_list,filename = NULL,\n",
    "#              fill = color[1:(length(sample_list))],\n",
    "#              alpha = 0.50, cat.col = rep('black', ncol(data)), \n",
    "#              col = 'black', cex = 1, fontfamily = 'serif', cat.cex = 1, cat.fontfamily = 'serif', margin = 0.2\n",
    "#                              )\n",
    "#     pdf(paste0('./',\"venn.pdf\"))\n",
    "#     grid.draw(q)\n",
    "#     dev.off()\n",
    "\n",
    "# grid.draw(q)\n",
    "\n",
    "# intersect(intersect(intersect(RF.gene,XGBoost.gene),Boruta.gene),lasso.gene)\n",
    "\n",
    "# model.gene = intersect(lasso.gene,XGBoost.gene)\n",
    "\n",
    "\n",
    "\n",
    "# model.gene  =lasso.gene\n",
    "\n",
    "# model.gene"
   ]
  },
  {
   "cell_type": "code",
   "execution_count": 26,
   "id": "6cb691bd-2d72-4837-b47a-5e7c0a16d5cb",
   "metadata": {},
   "outputs": [],
   "source": [
    "set.seed(1234)"
   ]
  },
  {
   "cell_type": "code",
   "execution_count": 27,
   "id": "a5921de0-76c9-49f1-9299-89c817a30fb3",
   "metadata": {},
   "outputs": [],
   "source": [
    "expr3 = cbind(y,x) %>%  as.data.frame()"
   ]
  },
  {
   "cell_type": "code",
   "execution_count": 28,
   "id": "d8c96c88-9216-46eb-a181-e851e4df2f7f",
   "metadata": {},
   "outputs": [],
   "source": [
    "colnames(expr3)[1] = 'Group'"
   ]
  },
  {
   "cell_type": "code",
   "execution_count": 29,
   "id": "9c3b879f-1b40-45f7-9aaa-f1909ee6aaf3",
   "metadata": {},
   "outputs": [],
   "source": [
    "expr4 = expr3 "
   ]
  },
  {
   "cell_type": "code",
   "execution_count": 30,
   "id": "5ef5cfa5-901b-4e64-9f10-8775cc89fce8",
   "metadata": {},
   "outputs": [
    {
     "data": {
      "text/html": [
       "<style>\n",
       ".list-inline {list-style: none; margin:0; padding: 0}\n",
       ".list-inline>li {display: inline-block}\n",
       ".list-inline>li:not(:last-child)::after {content: \"\\00b7\"; padding: 0 .5ex}\n",
       "</style>\n",
       "<ol class=list-inline><li>190</li><li>30</li></ol>\n"
      ],
      "text/latex": [
       "\\begin{enumerate*}\n",
       "\\item 190\n",
       "\\item 30\n",
       "\\end{enumerate*}\n"
      ],
      "text/markdown": [
       "1. 190\n",
       "2. 30\n",
       "\n",
       "\n"
      ],
      "text/plain": [
       "[1] 190  30"
      ]
     },
     "metadata": {},
     "output_type": "display_data"
    }
   ],
   "source": [
    "dim(expr4)"
   ]
  },
  {
   "cell_type": "code",
   "execution_count": 31,
   "id": "0c078c6c-044b-4daa-a1a2-654379b30675",
   "metadata": {},
   "outputs": [],
   "source": [
    "model.gene = colnames(expr4)[2:dim(expr4)[2]]"
   ]
  },
  {
   "cell_type": "code",
   "execution_count": 32,
   "id": "50cc8b04-2d6a-4b38-906a-64735c1fdf08",
   "metadata": {
    "scrolled": true
   },
   "outputs": [
    {
     "name": "stderr",
     "output_type": "stream",
     "text": [
      "Warning message:\n",
      "\"package 'caret' was built under R version 4.2.3\"\n",
      "Loading required package: ggplot2\n",
      "\n",
      "Warning message:\n",
      "\"package 'ggplot2' was built under R version 4.2.3\"\n",
      "\n",
      "Attaching package: 'ggplot2'\n",
      "\n",
      "\n",
      "The following object is masked from 'package:randomForest':\n",
      "\n",
      "    margin\n",
      "\n",
      "\n",
      "Loading required package: lattice\n",
      "\n",
      "Warning message:\n",
      "\"package 'lattice' was built under R version 4.2.3\"\n",
      "Warning message in system(\"timedatectl\", intern = TRUE):\n",
      "\"running command 'timedatectl' had status 1\"\n"
     ]
    },
    {
     "name": "stdout",
     "output_type": "stream",
     "text": [
      "[1] \"SYT5 0.664102564102564\"\n"
     ]
    },
    {
     "name": "stderr",
     "output_type": "stream",
     "text": [
      "\u001b[1m\u001b[22mSaving 6.67 x 6.67 in image\n",
      "Warning message in geom_segment(aes(x = 0, xend = 1, y = 0, yend = 1), color = \"darkgrey\", :\n",
      "\"\u001b[1m\u001b[22mAll aesthetics have length 1, but the data has 191 rows.\n",
      "\u001b[36mi\u001b[39m Please consider using `annotate()` or provide this layer with data containing\n",
      "  a single row.\"\n"
     ]
    },
    {
     "name": "stdout",
     "output_type": "stream",
     "text": [
      "[1] \"PRSS3 0.66525641025641\"\n"
     ]
    },
    {
     "name": "stderr",
     "output_type": "stream",
     "text": [
      "\u001b[1m\u001b[22mSaving 6.67 x 6.67 in image\n",
      "Warning message in geom_segment(aes(x = 0, xend = 1, y = 0, yend = 1), color = \"darkgrey\", :\n",
      "\"\u001b[1m\u001b[22mAll aesthetics have length 1, but the data has 191 rows.\n",
      "\u001b[36mi\u001b[39m Please consider using `annotate()` or provide this layer with data containing\n",
      "  a single row.\"\n"
     ]
    },
    {
     "name": "stdout",
     "output_type": "stream",
     "text": [
      "[1] \"FBXL2 0.684615384615385\"\n"
     ]
    },
    {
     "name": "stderr",
     "output_type": "stream",
     "text": [
      "\u001b[1m\u001b[22mSaving 6.67 x 6.67 in image\n",
      "Warning message in geom_segment(aes(x = 0, xend = 1, y = 0, yend = 1), color = \"darkgrey\", :\n",
      "\"\u001b[1m\u001b[22mAll aesthetics have length 1, but the data has 191 rows.\n",
      "\u001b[36mi\u001b[39m Please consider using `annotate()` or provide this layer with data containing\n",
      "  a single row.\"\n"
     ]
    },
    {
     "name": "stdout",
     "output_type": "stream",
     "text": [
      "[1] \"SYP 0.641794871794872\"\n"
     ]
    },
    {
     "name": "stderr",
     "output_type": "stream",
     "text": [
      "\u001b[1m\u001b[22mSaving 6.67 x 6.67 in image\n",
      "Warning message in geom_segment(aes(x = 0, xend = 1, y = 0, yend = 1), color = \"darkgrey\", :\n",
      "\"\u001b[1m\u001b[22mAll aesthetics have length 1, but the data has 191 rows.\n",
      "\u001b[36mi\u001b[39m Please consider using `annotate()` or provide this layer with data containing\n",
      "  a single row.\"\n"
     ]
    },
    {
     "name": "stdout",
     "output_type": "stream",
     "text": [
      "[1] \"PTPRN 0.649871794871795\"\n"
     ]
    },
    {
     "name": "stderr",
     "output_type": "stream",
     "text": [
      "\u001b[1m\u001b[22mSaving 6.67 x 6.67 in image\n",
      "Warning message in geom_segment(aes(x = 0, xend = 1, y = 0, yend = 1), color = \"darkgrey\", :\n",
      "\"\u001b[1m\u001b[22mAll aesthetics have length 1, but the data has 191 rows.\n",
      "\u001b[36mi\u001b[39m Please consider using `annotate()` or provide this layer with data containing\n",
      "  a single row.\"\n"
     ]
    },
    {
     "name": "stdout",
     "output_type": "stream",
     "text": [
      "[1] \"PTMS 0.638974358974359\"\n"
     ]
    },
    {
     "name": "stderr",
     "output_type": "stream",
     "text": [
      "\u001b[1m\u001b[22mSaving 6.67 x 6.67 in image\n",
      "Warning message in geom_segment(aes(x = 0, xend = 1, y = 0, yend = 1), color = \"darkgrey\", :\n",
      "\"\u001b[1m\u001b[22mAll aesthetics have length 1, but the data has 191 rows.\n",
      "\u001b[36mi\u001b[39m Please consider using `annotate()` or provide this layer with data containing\n",
      "  a single row.\"\n"
     ]
    },
    {
     "name": "stdout",
     "output_type": "stream",
     "text": [
      "[1] \"NELL1 0.643589743589744\"\n"
     ]
    },
    {
     "name": "stderr",
     "output_type": "stream",
     "text": [
      "\u001b[1m\u001b[22mSaving 6.67 x 6.67 in image\n",
      "Warning message in geom_segment(aes(x = 0, xend = 1, y = 0, yend = 1), color = \"darkgrey\", :\n",
      "\"\u001b[1m\u001b[22mAll aesthetics have length 1, but the data has 191 rows.\n",
      "\u001b[36mi\u001b[39m Please consider using `annotate()` or provide this layer with data containing\n",
      "  a single row.\"\n"
     ]
    },
    {
     "name": "stdout",
     "output_type": "stream",
     "text": [
      "[1] \"HPCA 0.630384615384615\"\n"
     ]
    },
    {
     "name": "stderr",
     "output_type": "stream",
     "text": [
      "\u001b[1m\u001b[22mSaving 6.67 x 6.67 in image\n",
      "Warning message in geom_segment(aes(x = 0, xend = 1, y = 0, yend = 1), color = \"darkgrey\", :\n",
      "\"\u001b[1m\u001b[22mAll aesthetics have length 1, but the data has 191 rows.\n",
      "\u001b[36mi\u001b[39m Please consider using `annotate()` or provide this layer with data containing\n",
      "  a single row.\"\n"
     ]
    },
    {
     "name": "stdout",
     "output_type": "stream",
     "text": [
      "[1] \"ACOT7 0.643333333333333\"\n"
     ]
    },
    {
     "name": "stderr",
     "output_type": "stream",
     "text": [
      "\u001b[1m\u001b[22mSaving 6.67 x 6.67 in image\n",
      "Warning message in geom_segment(aes(x = 0, xend = 1, y = 0, yend = 1), color = \"darkgrey\", :\n",
      "\"\u001b[1m\u001b[22mAll aesthetics have length 1, but the data has 191 rows.\n",
      "\u001b[36mi\u001b[39m Please consider using `annotate()` or provide this layer with data containing\n",
      "  a single row.\"\n"
     ]
    },
    {
     "name": "stdout",
     "output_type": "stream",
     "text": [
      "[1] \"ATP1A3 0.65025641025641\"\n"
     ]
    },
    {
     "name": "stderr",
     "output_type": "stream",
     "text": [
      "\u001b[1m\u001b[22mSaving 6.67 x 6.67 in image\n",
      "Warning message in geom_segment(aes(x = 0, xend = 1, y = 0, yend = 1), color = \"darkgrey\", :\n",
      "\"\u001b[1m\u001b[22mAll aesthetics have length 1, but the data has 191 rows.\n",
      "\u001b[36mi\u001b[39m Please consider using `annotate()` or provide this layer with data containing\n",
      "  a single row.\"\n"
     ]
    },
    {
     "name": "stdout",
     "output_type": "stream",
     "text": [
      "[1] \"NPTX1 0.628205128205128\"\n"
     ]
    },
    {
     "name": "stderr",
     "output_type": "stream",
     "text": [
      "\u001b[1m\u001b[22mSaving 6.67 x 6.67 in image\n",
      "Warning message in geom_segment(aes(x = 0, xend = 1, y = 0, yend = 1), color = \"darkgrey\", :\n",
      "\"\u001b[1m\u001b[22mAll aesthetics have length 1, but the data has 191 rows.\n",
      "\u001b[36mi\u001b[39m Please consider using `annotate()` or provide this layer with data containing\n",
      "  a single row.\"\n"
     ]
    },
    {
     "name": "stdout",
     "output_type": "stream",
     "text": [
      "[1] \"HIST1H4C 0.606153846153846\"\n"
     ]
    },
    {
     "name": "stderr",
     "output_type": "stream",
     "text": [
      "\u001b[1m\u001b[22mSaving 6.67 x 6.67 in image\n",
      "Warning message in geom_segment(aes(x = 0, xend = 1, y = 0, yend = 1), color = \"darkgrey\", :\n",
      "\"\u001b[1m\u001b[22mAll aesthetics have length 1, but the data has 191 rows.\n",
      "\u001b[36mi\u001b[39m Please consider using `annotate()` or provide this layer with data containing\n",
      "  a single row.\"\n"
     ]
    },
    {
     "name": "stdout",
     "output_type": "stream",
     "text": [
      "[1] \"LY6H 0.620384615384615\"\n"
     ]
    },
    {
     "name": "stderr",
     "output_type": "stream",
     "text": [
      "\u001b[1m\u001b[22mSaving 6.67 x 6.67 in image\n",
      "Warning message in geom_segment(aes(x = 0, xend = 1, y = 0, yend = 1), color = \"darkgrey\", :\n",
      "\"\u001b[1m\u001b[22mAll aesthetics have length 1, but the data has 191 rows.\n",
      "\u001b[36mi\u001b[39m Please consider using `annotate()` or provide this layer with data containing\n",
      "  a single row.\"\n"
     ]
    },
    {
     "name": "stdout",
     "output_type": "stream",
     "text": [
      "[1] \"CALM3 0.621025641025641\"\n"
     ]
    },
    {
     "name": "stderr",
     "output_type": "stream",
     "text": [
      "\u001b[1m\u001b[22mSaving 6.67 x 6.67 in image\n",
      "Warning message in geom_segment(aes(x = 0, xend = 1, y = 0, yend = 1), color = \"darkgrey\", :\n",
      "\"\u001b[1m\u001b[22mAll aesthetics have length 1, but the data has 191 rows.\n",
      "\u001b[36mi\u001b[39m Please consider using `annotate()` or provide this layer with data containing\n",
      "  a single row.\"\n"
     ]
    },
    {
     "name": "stdout",
     "output_type": "stream",
     "text": [
      "[1] \"TUSC3 0.614487179487179\"\n"
     ]
    },
    {
     "name": "stderr",
     "output_type": "stream",
     "text": [
      "\u001b[1m\u001b[22mSaving 6.67 x 6.67 in image\n",
      "Warning message in geom_segment(aes(x = 0, xend = 1, y = 0, yend = 1), color = \"darkgrey\", :\n",
      "\"\u001b[1m\u001b[22mAll aesthetics have length 1, but the data has 191 rows.\n",
      "\u001b[36mi\u001b[39m Please consider using `annotate()` or provide this layer with data containing\n",
      "  a single row.\"\n"
     ]
    },
    {
     "name": "stdout",
     "output_type": "stream",
     "text": [
      "[1] \"TUBB4 0.623076923076923\"\n"
     ]
    },
    {
     "name": "stderr",
     "output_type": "stream",
     "text": [
      "\u001b[1m\u001b[22mSaving 6.67 x 6.67 in image\n",
      "Warning message in geom_segment(aes(x = 0, xend = 1, y = 0, yend = 1), color = \"darkgrey\", :\n",
      "\"\u001b[1m\u001b[22mAll aesthetics have length 1, but the data has 191 rows.\n",
      "\u001b[36mi\u001b[39m Please consider using `annotate()` or provide this layer with data containing\n",
      "  a single row.\"\n"
     ]
    },
    {
     "name": "stdout",
     "output_type": "stream",
     "text": [
      "[1] \"DYNC1I1 0.639615384615385\"\n"
     ]
    },
    {
     "name": "stderr",
     "output_type": "stream",
     "text": [
      "\u001b[1m\u001b[22mSaving 6.67 x 6.67 in image\n",
      "Warning message in geom_segment(aes(x = 0, xend = 1, y = 0, yend = 1), color = \"darkgrey\", :\n",
      "\"\u001b[1m\u001b[22mAll aesthetics have length 1, but the data has 191 rows.\n",
      "\u001b[36mi\u001b[39m Please consider using `annotate()` or provide this layer with data containing\n",
      "  a single row.\"\n"
     ]
    },
    {
     "name": "stdout",
     "output_type": "stream",
     "text": [
      "[1] \"GABRD 0.608205128205128\"\n"
     ]
    },
    {
     "name": "stderr",
     "output_type": "stream",
     "text": [
      "\u001b[1m\u001b[22mSaving 6.67 x 6.67 in image\n",
      "Warning message in geom_segment(aes(x = 0, xend = 1, y = 0, yend = 1), color = \"darkgrey\", :\n",
      "\"\u001b[1m\u001b[22mAll aesthetics have length 1, but the data has 191 rows.\n",
      "\u001b[36mi\u001b[39m Please consider using `annotate()` or provide this layer with data containing\n",
      "  a single row.\"\n"
     ]
    },
    {
     "name": "stdout",
     "output_type": "stream",
     "text": [
      "[1] \"ENO2 0.623076923076923\"\n"
     ]
    },
    {
     "name": "stderr",
     "output_type": "stream",
     "text": [
      "\u001b[1m\u001b[22mSaving 6.67 x 6.67 in image\n",
      "Warning message in geom_segment(aes(x = 0, xend = 1, y = 0, yend = 1), color = \"darkgrey\", :\n",
      "\"\u001b[1m\u001b[22mAll aesthetics have length 1, but the data has 191 rows.\n",
      "\u001b[36mi\u001b[39m Please consider using `annotate()` or provide this layer with data containing\n",
      "  a single row.\"\n"
     ]
    }
   ],
   "source": [
    "library(caret)\n",
    "library(ggplot2)\n",
    "\n",
    " a = c()\n",
    "# \n",
    "for (i in model.gene){\n",
    "    res<-pROC::roc(Group~expr4[,i],data=expr4,aur=TRUE,\n",
    "         ci=TRUE, # 显示95%CI\n",
    "         #percent=TRUE, # 是否需要以百分比显示\n",
    "         smooth=FALSE,# 是否平滑曲线\n",
    "         levels=c(0,1),direction=\"<\" #设置分组方向\n",
    "         )\n",
    "    if (res$auc > 0.6){\n",
    "        a = append(a,i)\n",
    "        print(paste0(i,' ',res$auc))\n",
    "        p = pROC::ggroc(res, color =\"red\",legacy.axes = TRUE)+\n",
    "  geom_segment(aes(x = 0, xend = 1, y = 0, yend = 1), color=\"darkgrey\", linetype=4)+\n",
    "  theme_bw() + # 设置背景\n",
    "  ggtitle(paste0(i,\" ROC Curve\"))+\n",
    "  theme(plot.title = element_text(hjust = 0.5,size = 16),\n",
    "        axis.text=element_text(size=12,colour = \"black\"),\n",
    "        axis.title.x = element_text(size = 14),\n",
    "        axis.title.y = element_text(size = 14))\n",
    "p+annotate(\"text\",x=0.75,y=0.25,label=paste(\"AUC = \", round(res$auc,3)))+\n",
    "  annotate(\"text\",x=0.75,y=0.20,label=paste(\"95%CI: \", round(res$ci[1],3),'-',round(res$ci[3],3)))\n",
    "    ggsave(file = paste0(i,'.ROC.pdf'))\n",
    "}else{\n",
    "        \n",
    "}\n",
    "\n",
    "    \n",
    "    }"
   ]
  },
  {
   "cell_type": "markdown",
   "id": "d157d346-4a53-4133-b0d2-f2a92aea9d56",
   "metadata": {},
   "source": [
    "### 批量单因素逻辑回归"
   ]
  },
  {
   "cell_type": "code",
   "execution_count": 33,
   "id": "77f4befb-4acc-47c4-92e3-e9b3b9edb649",
   "metadata": {},
   "outputs": [
    {
     "data": {
      "text/html": [
       "<style>\n",
       ".list-inline {list-style: none; margin:0; padding: 0}\n",
       ".list-inline>li {display: inline-block}\n",
       ".list-inline>li:not(:last-child)::after {content: \"\\00b7\"; padding: 0 .5ex}\n",
       "</style>\n",
       "<ol class=list-inline><li>'SYT5'</li><li>'PRSS3'</li><li>'FBXL2'</li><li>'SYP'</li><li>'PTPRN'</li><li>'PTMS'</li><li>'NELL1'</li><li>'HPCA'</li><li>'ACOT7'</li><li>'ATP1A3'</li><li>'NPTX1'</li><li>'HIST1H4C'</li><li>'LY6H'</li><li>'CALM3'</li><li>'TUSC3'</li><li>'TUBB4'</li><li>'DYNC1I1'</li><li>'GABRD'</li><li>'ENO2'</li></ol>\n"
      ],
      "text/latex": [
       "\\begin{enumerate*}\n",
       "\\item 'SYT5'\n",
       "\\item 'PRSS3'\n",
       "\\item 'FBXL2'\n",
       "\\item 'SYP'\n",
       "\\item 'PTPRN'\n",
       "\\item 'PTMS'\n",
       "\\item 'NELL1'\n",
       "\\item 'HPCA'\n",
       "\\item 'ACOT7'\n",
       "\\item 'ATP1A3'\n",
       "\\item 'NPTX1'\n",
       "\\item 'HIST1H4C'\n",
       "\\item 'LY6H'\n",
       "\\item 'CALM3'\n",
       "\\item 'TUSC3'\n",
       "\\item 'TUBB4'\n",
       "\\item 'DYNC1I1'\n",
       "\\item 'GABRD'\n",
       "\\item 'ENO2'\n",
       "\\end{enumerate*}\n"
      ],
      "text/markdown": [
       "1. 'SYT5'\n",
       "2. 'PRSS3'\n",
       "3. 'FBXL2'\n",
       "4. 'SYP'\n",
       "5. 'PTPRN'\n",
       "6. 'PTMS'\n",
       "7. 'NELL1'\n",
       "8. 'HPCA'\n",
       "9. 'ACOT7'\n",
       "10. 'ATP1A3'\n",
       "11. 'NPTX1'\n",
       "12. 'HIST1H4C'\n",
       "13. 'LY6H'\n",
       "14. 'CALM3'\n",
       "15. 'TUSC3'\n",
       "16. 'TUBB4'\n",
       "17. 'DYNC1I1'\n",
       "18. 'GABRD'\n",
       "19. 'ENO2'\n",
       "\n",
       "\n"
      ],
      "text/plain": [
       " [1] \"SYT5\"     \"PRSS3\"    \"FBXL2\"    \"SYP\"      \"PTPRN\"    \"PTMS\"    \n",
       " [7] \"NELL1\"    \"HPCA\"     \"ACOT7\"    \"ATP1A3\"   \"NPTX1\"    \"HIST1H4C\"\n",
       "[13] \"LY6H\"     \"CALM3\"    \"TUSC3\"    \"TUBB4\"    \"DYNC1I1\"  \"GABRD\"   \n",
       "[19] \"ENO2\"    "
      ]
     },
     "metadata": {},
     "output_type": "display_data"
    }
   ],
   "source": [
    "a"
   ]
  },
  {
   "cell_type": "code",
   "execution_count": 34,
   "id": "e036efed-c5c6-4fbd-95a2-10527bf30650",
   "metadata": {},
   "outputs": [
    {
     "ename": "ERROR",
     "evalue": "Error in dplyr::filter(., finalDecision %in% c(\"Confirmed\", \"Tentative\")): object 'boruta.variable.imp' not found\n",
     "output_type": "error",
     "traceback": [
      "Error in dplyr::filter(., finalDecision %in% c(\"Confirmed\", \"Tentative\")): object 'boruta.variable.imp' not found\nTraceback:\n",
      "1. boruta.variable.imp %>% dplyr::filter(finalDecision %in% c(\"Confirmed\", \n .     \"Tentative\")) %>% dplyr::select(Variable) %>% unique()",
      "2. unique(.)",
      "3. dplyr::select(., Variable)",
      "4. dplyr::filter(., finalDecision %in% c(\"Confirmed\", \"Tentative\"))"
     ]
    }
   ],
   "source": [
    "boruta.variable.imp2 = boruta.variable.imp %>% dplyr::filter(finalDecision %in% c('Confirmed','Tentative')) %>% dplyr::select(Variable) %>% unique()\n",
    "Boruta.gene = as.vector(boruta.variable.imp2$Variable)"
   ]
  },
  {
   "cell_type": "code",
   "execution_count": 63,
   "id": "38d578f6-67fb-4781-a047-d1854443def0",
   "metadata": {},
   "outputs": [
    {
     "data": {
      "text/html": [
       "<style>\n",
       ".list-inline {list-style: none; margin:0; padding: 0}\n",
       ".list-inline>li {display: inline-block}\n",
       ".list-inline>li:not(:last-child)::after {content: \"\\00b7\"; padding: 0 .5ex}\n",
       "</style>\n",
       "<ol class=list-inline><li>'ACOT7'</li><li>'ATP10B'</li><li>'DYNC1I1'</li><li>'FBXL2'</li><li>'HIST1H4C'</li><li>'NPM1'</li><li>'NPTX1'</li><li>'PHKG1'</li><li>'SEPP1'</li><li>'SYT5'</li></ol>\n"
      ],
      "text/latex": [
       "\\begin{enumerate*}\n",
       "\\item 'ACOT7'\n",
       "\\item 'ATP10B'\n",
       "\\item 'DYNC1I1'\n",
       "\\item 'FBXL2'\n",
       "\\item 'HIST1H4C'\n",
       "\\item 'NPM1'\n",
       "\\item 'NPTX1'\n",
       "\\item 'PHKG1'\n",
       "\\item 'SEPP1'\n",
       "\\item 'SYT5'\n",
       "\\end{enumerate*}\n"
      ],
      "text/markdown": [
       "1. 'ACOT7'\n",
       "2. 'ATP10B'\n",
       "3. 'DYNC1I1'\n",
       "4. 'FBXL2'\n",
       "5. 'HIST1H4C'\n",
       "6. 'NPM1'\n",
       "7. 'NPTX1'\n",
       "8. 'PHKG1'\n",
       "9. 'SEPP1'\n",
       "10. 'SYT5'\n",
       "\n",
       "\n"
      ],
      "text/plain": [
       " [1] \"ACOT7\"    \"ATP10B\"   \"DYNC1I1\"  \"FBXL2\"    \"HIST1H4C\" \"NPM1\"    \n",
       " [7] \"NPTX1\"    \"PHKG1\"    \"SEPP1\"    \"SYT5\"    "
      ]
     },
     "metadata": {},
     "output_type": "display_data"
    }
   ],
   "source": [
    "Boruta.gene"
   ]
  },
  {
   "cell_type": "code",
   "execution_count": 64,
   "id": "9c4b94aa-b806-475e-8e4f-f84fe6f8be42",
   "metadata": {},
   "outputs": [
    {
     "data": {
      "text/html": [
       "<style>\n",
       ".list-inline {list-style: none; margin:0; padding: 0}\n",
       ".list-inline>li {display: inline-block}\n",
       ".list-inline>li:not(:last-child)::after {content: \"\\00b7\"; padding: 0 .5ex}\n",
       "</style>\n",
       "<ol class=list-inline><li>'SYT5'</li><li>'ATP10B'</li><li>'PRSS3'</li><li>'FBXL2'</li><li>'DAAM2'</li><li>'NPM1'</li></ol>\n"
      ],
      "text/latex": [
       "\\begin{enumerate*}\n",
       "\\item 'SYT5'\n",
       "\\item 'ATP10B'\n",
       "\\item 'PRSS3'\n",
       "\\item 'FBXL2'\n",
       "\\item 'DAAM2'\n",
       "\\item 'NPM1'\n",
       "\\end{enumerate*}\n"
      ],
      "text/markdown": [
       "1. 'SYT5'\n",
       "2. 'ATP10B'\n",
       "3. 'PRSS3'\n",
       "4. 'FBXL2'\n",
       "5. 'DAAM2'\n",
       "6. 'NPM1'\n",
       "\n",
       "\n"
      ],
      "text/plain": [
       "[1] \"SYT5\"   \"ATP10B\" \"PRSS3\"  \"FBXL2\"  \"DAAM2\"  \"NPM1\"  "
      ]
     },
     "metadata": {},
     "output_type": "display_data"
    }
   ],
   "source": [
    "gene_1se"
   ]
  },
  {
   "cell_type": "code",
   "execution_count": 35,
   "id": "9a9a0a57-021f-4d44-aad2-c43dfc3bae0e",
   "metadata": {},
   "outputs": [],
   "source": [
    "rfgene = names(rfGenes)[1:20]"
   ]
  },
  {
   "cell_type": "code",
   "execution_count": 36,
   "id": "f14e2d32-733e-4d6c-9025-d96fe3b53dcc",
   "metadata": {},
   "outputs": [],
   "source": [
    "gene = intersect(rfgene,a)"
   ]
  },
  {
   "cell_type": "code",
   "execution_count": 37,
   "id": "c2fd5c12-8570-4deb-acf2-1cb498e3ab46",
   "metadata": {},
   "outputs": [
    {
     "data": {
      "text/html": [
       "<style>\n",
       ".list-inline {list-style: none; margin:0; padding: 0}\n",
       ".list-inline>li {display: inline-block}\n",
       ".list-inline>li:not(:last-child)::after {content: \"\\00b7\"; padding: 0 .5ex}\n",
       "</style>\n",
       "<ol class=list-inline><li>'SYT5'</li><li>'NPTX1'</li><li>'FBXL2'</li><li>'HIST1H4C'</li><li>'PRSS3'</li><li>'PTMS'</li><li>'LY6H'</li><li>'DYNC1I1'</li><li>'HPCA'</li><li>'NELL1'</li><li>'ACOT7'</li><li>'TUSC3'</li><li>'TUBB4'</li></ol>\n"
      ],
      "text/latex": [
       "\\begin{enumerate*}\n",
       "\\item 'SYT5'\n",
       "\\item 'NPTX1'\n",
       "\\item 'FBXL2'\n",
       "\\item 'HIST1H4C'\n",
       "\\item 'PRSS3'\n",
       "\\item 'PTMS'\n",
       "\\item 'LY6H'\n",
       "\\item 'DYNC1I1'\n",
       "\\item 'HPCA'\n",
       "\\item 'NELL1'\n",
       "\\item 'ACOT7'\n",
       "\\item 'TUSC3'\n",
       "\\item 'TUBB4'\n",
       "\\end{enumerate*}\n"
      ],
      "text/markdown": [
       "1. 'SYT5'\n",
       "2. 'NPTX1'\n",
       "3. 'FBXL2'\n",
       "4. 'HIST1H4C'\n",
       "5. 'PRSS3'\n",
       "6. 'PTMS'\n",
       "7. 'LY6H'\n",
       "8. 'DYNC1I1'\n",
       "9. 'HPCA'\n",
       "10. 'NELL1'\n",
       "11. 'ACOT7'\n",
       "12. 'TUSC3'\n",
       "13. 'TUBB4'\n",
       "\n",
       "\n"
      ],
      "text/plain": [
       " [1] \"SYT5\"     \"NPTX1\"    \"FBXL2\"    \"HIST1H4C\" \"PRSS3\"    \"PTMS\"    \n",
       " [7] \"LY6H\"     \"DYNC1I1\"  \"HPCA\"     \"NELL1\"    \"ACOT7\"    \"TUSC3\"   \n",
       "[13] \"TUBB4\"   "
      ]
     },
     "metadata": {},
     "output_type": "display_data"
    }
   ],
   "source": [
    "gene"
   ]
  },
  {
   "cell_type": "code",
   "execution_count": 67,
   "id": "3b588c2a-6367-42ad-8996-8a043faaf14e",
   "metadata": {},
   "outputs": [],
   "source": [
    "expr4 = expr3"
   ]
  },
  {
   "cell_type": "code",
   "execution_count": 68,
   "id": "09091768-eee9-477e-b0f4-a0d287886d27",
   "metadata": {},
   "outputs": [],
   "source": [
    "expr4 = expr4[,c('Group',gene)]"
   ]
  },
  {
   "cell_type": "code",
   "execution_count": 40,
   "id": "8ed43a61-fbbe-4a82-86b6-ecf83f9d4593",
   "metadata": {},
   "outputs": [],
   "source": [
    "#expr4 = expr4"
   ]
  },
  {
   "cell_type": "code",
   "execution_count": 69,
   "id": "a23c8a73-db72-44e0-a250-324f8eb46241",
   "metadata": {},
   "outputs": [
    {
     "name": "stderr",
     "output_type": "stream",
     "text": [
      "Waiting for profiling to be done...\n",
      "\n",
      "Waiting for profiling to be done...\n",
      "\n",
      "Waiting for profiling to be done...\n",
      "\n",
      "Waiting for profiling to be done...\n",
      "\n",
      "Waiting for profiling to be done...\n",
      "\n",
      "Waiting for profiling to be done...\n",
      "\n",
      "Waiting for profiling to be done...\n",
      "\n",
      "Waiting for profiling to be done...\n",
      "\n",
      "Waiting for profiling to be done...\n",
      "\n",
      "Waiting for profiling to be done...\n",
      "\n",
      "Waiting for profiling to be done...\n",
      "\n",
      "Waiting for profiling to be done...\n",
      "\n",
      "Waiting for profiling to be done...\n",
      "\n"
     ]
    },
    {
     "data": {
      "text/html": [
       "<table class=\"dataframe\">\n",
       "<caption>A data.frame: 13 x 8</caption>\n",
       "<thead>\n",
       "\t<tr><th></th><th scope=col>Estimate</th><th scope=col>Std..Error</th><th scope=col>z.value</th><th scope=col>Pr...z..</th><th scope=col>OR</th><th scope=col>X2.5..</th><th scope=col>X97.5..</th><th scope=col>Characteristics</th></tr>\n",
       "\t<tr><th></th><th scope=col>&lt;dbl&gt;</th><th scope=col>&lt;dbl&gt;</th><th scope=col>&lt;dbl&gt;</th><th scope=col>&lt;dbl&gt;</th><th scope=col>&lt;dbl&gt;</th><th scope=col>&lt;dbl&gt;</th><th scope=col>&lt;dbl&gt;</th><th scope=col>&lt;chr&gt;</th></tr>\n",
       "</thead>\n",
       "<tbody>\n",
       "\t<tr><th scope=row>SYT5</th><td>1.2771166</td><td>0.3617770</td><td>3.530121</td><td>0.0004153696</td><td>3.586284</td><td>1.802799</td><td> 7.494563</td><td>SYT5    </td></tr>\n",
       "\t<tr><th scope=row>NPTX1</th><td>0.7022879</td><td>0.2846280</td><td>2.467389</td><td>0.0136102601</td><td>2.018365</td><td>1.197141</td><td> 3.671283</td><td>NPTX1   </td></tr>\n",
       "\t<tr><th scope=row>FBXL2</th><td>1.5806065</td><td>0.4681866</td><td>3.376018</td><td>0.0007354314</td><td>4.857901</td><td>2.064878</td><td>12.912475</td><td>FBXL2   </td></tr>\n",
       "\t<tr><th scope=row>HIST1H4C</th><td>0.5258018</td><td>0.2151484</td><td>2.443903</td><td>0.0145293382</td><td>1.691815</td><td>1.132280</td><td> 2.644698</td><td>HIST1H4C</td></tr>\n",
       "\t<tr><th scope=row>PRSS3</th><td>1.0300869</td><td>0.3075524</td><td>3.349305</td><td>0.0008101443</td><td>2.801309</td><td>1.570769</td><td> 5.282077</td><td>PRSS3   </td></tr>\n",
       "\t<tr><th scope=row>PTMS</th><td>0.6330328</td><td>0.2237156</td><td>2.829632</td><td>0.0046601504</td><td>1.883314</td><td>1.231060</td><td> 2.972269</td><td>PTMS    </td></tr>\n",
       "\t<tr><th scope=row>LY6H</th><td>0.4905966</td><td>0.2088404</td><td>2.349146</td><td>0.0188165191</td><td>1.633290</td><td>1.100289</td><td> 2.504645</td><td>LY6H    </td></tr>\n",
       "\t<tr><th scope=row>DYNC1I1</th><td>0.5539541</td><td>0.2631532</td><td>2.105063</td><td>0.0352858225</td><td>1.740120</td><td>1.080071</td><td> 3.056389</td><td>DYNC1I1 </td></tr>\n",
       "\t<tr><th scope=row>HPCA</th><td>0.8345549</td><td>0.2996670</td><td>2.784941</td><td>0.0053537493</td><td>2.303788</td><td>1.307469</td><td> 4.249541</td><td>HPCA    </td></tr>\n",
       "\t<tr><th scope=row>NELL1</th><td>0.7831184</td><td>0.2825692</td><td>2.771422</td><td>0.0055812045</td><td>2.188285</td><td>1.292864</td><td> 3.940590</td><td>NELL1   </td></tr>\n",
       "\t<tr><th scope=row>ACOT7</th><td>0.8500260</td><td>0.3069820</td><td>2.768977</td><td>0.0056232648</td><td>2.339708</td><td>1.315154</td><td> 4.406776</td><td>ACOT7   </td></tr>\n",
       "\t<tr><th scope=row>TUSC3</th><td>0.5653233</td><td>0.2458734</td><td>2.299245</td><td>0.0214910103</td><td>1.760017</td><td>1.103233</td><td> 2.907154</td><td>TUSC3   </td></tr>\n",
       "\t<tr><th scope=row>TUBB4</th><td>0.4609513</td><td>0.2011675</td><td>2.291380</td><td>0.0219414314</td><td>1.585582</td><td>1.081927</td><td> 2.391251</td><td>TUBB4   </td></tr>\n",
       "</tbody>\n",
       "</table>\n"
      ],
      "text/latex": [
       "A data.frame: 13 x 8\n",
       "\\begin{tabular}{r|llllllll}\n",
       "  & Estimate & Std..Error & z.value & Pr...z.. & OR & X2.5.. & X97.5.. & Characteristics\\\\\n",
       "  & <dbl> & <dbl> & <dbl> & <dbl> & <dbl> & <dbl> & <dbl> & <chr>\\\\\n",
       "\\hline\n",
       "\tSYT5 & 1.2771166 & 0.3617770 & 3.530121 & 0.0004153696 & 3.586284 & 1.802799 &  7.494563 & SYT5    \\\\\n",
       "\tNPTX1 & 0.7022879 & 0.2846280 & 2.467389 & 0.0136102601 & 2.018365 & 1.197141 &  3.671283 & NPTX1   \\\\\n",
       "\tFBXL2 & 1.5806065 & 0.4681866 & 3.376018 & 0.0007354314 & 4.857901 & 2.064878 & 12.912475 & FBXL2   \\\\\n",
       "\tHIST1H4C & 0.5258018 & 0.2151484 & 2.443903 & 0.0145293382 & 1.691815 & 1.132280 &  2.644698 & HIST1H4C\\\\\n",
       "\tPRSS3 & 1.0300869 & 0.3075524 & 3.349305 & 0.0008101443 & 2.801309 & 1.570769 &  5.282077 & PRSS3   \\\\\n",
       "\tPTMS & 0.6330328 & 0.2237156 & 2.829632 & 0.0046601504 & 1.883314 & 1.231060 &  2.972269 & PTMS    \\\\\n",
       "\tLY6H & 0.4905966 & 0.2088404 & 2.349146 & 0.0188165191 & 1.633290 & 1.100289 &  2.504645 & LY6H    \\\\\n",
       "\tDYNC1I1 & 0.5539541 & 0.2631532 & 2.105063 & 0.0352858225 & 1.740120 & 1.080071 &  3.056389 & DYNC1I1 \\\\\n",
       "\tHPCA & 0.8345549 & 0.2996670 & 2.784941 & 0.0053537493 & 2.303788 & 1.307469 &  4.249541 & HPCA    \\\\\n",
       "\tNELL1 & 0.7831184 & 0.2825692 & 2.771422 & 0.0055812045 & 2.188285 & 1.292864 &  3.940590 & NELL1   \\\\\n",
       "\tACOT7 & 0.8500260 & 0.3069820 & 2.768977 & 0.0056232648 & 2.339708 & 1.315154 &  4.406776 & ACOT7   \\\\\n",
       "\tTUSC3 & 0.5653233 & 0.2458734 & 2.299245 & 0.0214910103 & 1.760017 & 1.103233 &  2.907154 & TUSC3   \\\\\n",
       "\tTUBB4 & 0.4609513 & 0.2011675 & 2.291380 & 0.0219414314 & 1.585582 & 1.081927 &  2.391251 & TUBB4   \\\\\n",
       "\\end{tabular}\n"
      ],
      "text/markdown": [
       "\n",
       "A data.frame: 13 x 8\n",
       "\n",
       "| <!--/--> | Estimate &lt;dbl&gt; | Std..Error &lt;dbl&gt; | z.value &lt;dbl&gt; | Pr...z.. &lt;dbl&gt; | OR &lt;dbl&gt; | X2.5.. &lt;dbl&gt; | X97.5.. &lt;dbl&gt; | Characteristics &lt;chr&gt; |\n",
       "|---|---|---|---|---|---|---|---|---|\n",
       "| SYT5 | 1.2771166 | 0.3617770 | 3.530121 | 0.0004153696 | 3.586284 | 1.802799 |  7.494563 | SYT5     |\n",
       "| NPTX1 | 0.7022879 | 0.2846280 | 2.467389 | 0.0136102601 | 2.018365 | 1.197141 |  3.671283 | NPTX1    |\n",
       "| FBXL2 | 1.5806065 | 0.4681866 | 3.376018 | 0.0007354314 | 4.857901 | 2.064878 | 12.912475 | FBXL2    |\n",
       "| HIST1H4C | 0.5258018 | 0.2151484 | 2.443903 | 0.0145293382 | 1.691815 | 1.132280 |  2.644698 | HIST1H4C |\n",
       "| PRSS3 | 1.0300869 | 0.3075524 | 3.349305 | 0.0008101443 | 2.801309 | 1.570769 |  5.282077 | PRSS3    |\n",
       "| PTMS | 0.6330328 | 0.2237156 | 2.829632 | 0.0046601504 | 1.883314 | 1.231060 |  2.972269 | PTMS     |\n",
       "| LY6H | 0.4905966 | 0.2088404 | 2.349146 | 0.0188165191 | 1.633290 | 1.100289 |  2.504645 | LY6H     |\n",
       "| DYNC1I1 | 0.5539541 | 0.2631532 | 2.105063 | 0.0352858225 | 1.740120 | 1.080071 |  3.056389 | DYNC1I1  |\n",
       "| HPCA | 0.8345549 | 0.2996670 | 2.784941 | 0.0053537493 | 2.303788 | 1.307469 |  4.249541 | HPCA     |\n",
       "| NELL1 | 0.7831184 | 0.2825692 | 2.771422 | 0.0055812045 | 2.188285 | 1.292864 |  3.940590 | NELL1    |\n",
       "| ACOT7 | 0.8500260 | 0.3069820 | 2.768977 | 0.0056232648 | 2.339708 | 1.315154 |  4.406776 | ACOT7    |\n",
       "| TUSC3 | 0.5653233 | 0.2458734 | 2.299245 | 0.0214910103 | 1.760017 | 1.103233 |  2.907154 | TUSC3    |\n",
       "| TUBB4 | 0.4609513 | 0.2011675 | 2.291380 | 0.0219414314 | 1.585582 | 1.081927 |  2.391251 | TUBB4    |\n",
       "\n"
      ],
      "text/plain": [
       "         Estimate  Std..Error z.value  Pr...z..     OR       X2.5..   X97.5..  \n",
       "SYT5     1.2771166 0.3617770  3.530121 0.0004153696 3.586284 1.802799  7.494563\n",
       "NPTX1    0.7022879 0.2846280  2.467389 0.0136102601 2.018365 1.197141  3.671283\n",
       "FBXL2    1.5806065 0.4681866  3.376018 0.0007354314 4.857901 2.064878 12.912475\n",
       "HIST1H4C 0.5258018 0.2151484  2.443903 0.0145293382 1.691815 1.132280  2.644698\n",
       "PRSS3    1.0300869 0.3075524  3.349305 0.0008101443 2.801309 1.570769  5.282077\n",
       "PTMS     0.6330328 0.2237156  2.829632 0.0046601504 1.883314 1.231060  2.972269\n",
       "LY6H     0.4905966 0.2088404  2.349146 0.0188165191 1.633290 1.100289  2.504645\n",
       "DYNC1I1  0.5539541 0.2631532  2.105063 0.0352858225 1.740120 1.080071  3.056389\n",
       "HPCA     0.8345549 0.2996670  2.784941 0.0053537493 2.303788 1.307469  4.249541\n",
       "NELL1    0.7831184 0.2825692  2.771422 0.0055812045 2.188285 1.292864  3.940590\n",
       "ACOT7    0.8500260 0.3069820  2.768977 0.0056232648 2.339708 1.315154  4.406776\n",
       "TUSC3    0.5653233 0.2458734  2.299245 0.0214910103 1.760017 1.103233  2.907154\n",
       "TUBB4    0.4609513 0.2011675  2.291380 0.0219414314 1.585582 1.081927  2.391251\n",
       "         Characteristics\n",
       "SYT5     SYT5           \n",
       "NPTX1    NPTX1          \n",
       "FBXL2    FBXL2          \n",
       "HIST1H4C HIST1H4C       \n",
       "PRSS3    PRSS3          \n",
       "PTMS     PTMS           \n",
       "LY6H     LY6H           \n",
       "DYNC1I1  DYNC1I1        \n",
       "HPCA     HPCA           \n",
       "NELL1    NELL1          \n",
       "ACOT7    ACOT7          \n",
       "TUSC3    TUSC3          \n",
       "TUBB4    TUBB4          "
      ]
     },
     "metadata": {},
     "output_type": "display_data"
    },
    {
     "data": {
      "text/html": [
       "<table class=\"dataframe\">\n",
       "<caption>A data.frame: 13 x 6</caption>\n",
       "<thead>\n",
       "\t<tr><th></th><th scope=col>Estimate</th><th scope=col>P</th><th scope=col>OR</th><th scope=col>CIlower</th><th scope=col>CIupper</th><th scope=col>Characteristics</th></tr>\n",
       "\t<tr><th></th><th scope=col>&lt;dbl&gt;</th><th scope=col>&lt;dbl&gt;</th><th scope=col>&lt;dbl&gt;</th><th scope=col>&lt;dbl&gt;</th><th scope=col>&lt;dbl&gt;</th><th scope=col>&lt;chr&gt;</th></tr>\n",
       "</thead>\n",
       "<tbody>\n",
       "\t<tr><th scope=row>SYT5</th><td>1.2771166</td><td>0.0004153696</td><td>3.586284</td><td>1.802799</td><td> 7.494563</td><td>SYT5    </td></tr>\n",
       "\t<tr><th scope=row>NPTX1</th><td>0.7022879</td><td>0.0136102601</td><td>2.018365</td><td>1.197141</td><td> 3.671283</td><td>NPTX1   </td></tr>\n",
       "\t<tr><th scope=row>FBXL2</th><td>1.5806065</td><td>0.0007354314</td><td>4.857901</td><td>2.064878</td><td>12.912475</td><td>FBXL2   </td></tr>\n",
       "\t<tr><th scope=row>HIST1H4C</th><td>0.5258018</td><td>0.0145293382</td><td>1.691815</td><td>1.132280</td><td> 2.644698</td><td>HIST1H4C</td></tr>\n",
       "\t<tr><th scope=row>PRSS3</th><td>1.0300869</td><td>0.0008101443</td><td>2.801309</td><td>1.570769</td><td> 5.282077</td><td>PRSS3   </td></tr>\n",
       "\t<tr><th scope=row>PTMS</th><td>0.6330328</td><td>0.0046601504</td><td>1.883314</td><td>1.231060</td><td> 2.972269</td><td>PTMS    </td></tr>\n",
       "\t<tr><th scope=row>LY6H</th><td>0.4905966</td><td>0.0188165191</td><td>1.633290</td><td>1.100289</td><td> 2.504645</td><td>LY6H    </td></tr>\n",
       "\t<tr><th scope=row>DYNC1I1</th><td>0.5539541</td><td>0.0352858225</td><td>1.740120</td><td>1.080071</td><td> 3.056389</td><td>DYNC1I1 </td></tr>\n",
       "\t<tr><th scope=row>HPCA</th><td>0.8345549</td><td>0.0053537493</td><td>2.303788</td><td>1.307469</td><td> 4.249541</td><td>HPCA    </td></tr>\n",
       "\t<tr><th scope=row>NELL1</th><td>0.7831184</td><td>0.0055812045</td><td>2.188285</td><td>1.292864</td><td> 3.940590</td><td>NELL1   </td></tr>\n",
       "\t<tr><th scope=row>ACOT7</th><td>0.8500260</td><td>0.0056232648</td><td>2.339708</td><td>1.315154</td><td> 4.406776</td><td>ACOT7   </td></tr>\n",
       "\t<tr><th scope=row>TUSC3</th><td>0.5653233</td><td>0.0214910103</td><td>1.760017</td><td>1.103233</td><td> 2.907154</td><td>TUSC3   </td></tr>\n",
       "\t<tr><th scope=row>TUBB4</th><td>0.4609513</td><td>0.0219414314</td><td>1.585582</td><td>1.081927</td><td> 2.391251</td><td>TUBB4   </td></tr>\n",
       "</tbody>\n",
       "</table>\n"
      ],
      "text/latex": [
       "A data.frame: 13 x 6\n",
       "\\begin{tabular}{r|llllll}\n",
       "  & Estimate & P & OR & CIlower & CIupper & Characteristics\\\\\n",
       "  & <dbl> & <dbl> & <dbl> & <dbl> & <dbl> & <chr>\\\\\n",
       "\\hline\n",
       "\tSYT5 & 1.2771166 & 0.0004153696 & 3.586284 & 1.802799 &  7.494563 & SYT5    \\\\\n",
       "\tNPTX1 & 0.7022879 & 0.0136102601 & 2.018365 & 1.197141 &  3.671283 & NPTX1   \\\\\n",
       "\tFBXL2 & 1.5806065 & 0.0007354314 & 4.857901 & 2.064878 & 12.912475 & FBXL2   \\\\\n",
       "\tHIST1H4C & 0.5258018 & 0.0145293382 & 1.691815 & 1.132280 &  2.644698 & HIST1H4C\\\\\n",
       "\tPRSS3 & 1.0300869 & 0.0008101443 & 2.801309 & 1.570769 &  5.282077 & PRSS3   \\\\\n",
       "\tPTMS & 0.6330328 & 0.0046601504 & 1.883314 & 1.231060 &  2.972269 & PTMS    \\\\\n",
       "\tLY6H & 0.4905966 & 0.0188165191 & 1.633290 & 1.100289 &  2.504645 & LY6H    \\\\\n",
       "\tDYNC1I1 & 0.5539541 & 0.0352858225 & 1.740120 & 1.080071 &  3.056389 & DYNC1I1 \\\\\n",
       "\tHPCA & 0.8345549 & 0.0053537493 & 2.303788 & 1.307469 &  4.249541 & HPCA    \\\\\n",
       "\tNELL1 & 0.7831184 & 0.0055812045 & 2.188285 & 1.292864 &  3.940590 & NELL1   \\\\\n",
       "\tACOT7 & 0.8500260 & 0.0056232648 & 2.339708 & 1.315154 &  4.406776 & ACOT7   \\\\\n",
       "\tTUSC3 & 0.5653233 & 0.0214910103 & 1.760017 & 1.103233 &  2.907154 & TUSC3   \\\\\n",
       "\tTUBB4 & 0.4609513 & 0.0219414314 & 1.585582 & 1.081927 &  2.391251 & TUBB4   \\\\\n",
       "\\end{tabular}\n"
      ],
      "text/markdown": [
       "\n",
       "A data.frame: 13 x 6\n",
       "\n",
       "| <!--/--> | Estimate &lt;dbl&gt; | P &lt;dbl&gt; | OR &lt;dbl&gt; | CIlower &lt;dbl&gt; | CIupper &lt;dbl&gt; | Characteristics &lt;chr&gt; |\n",
       "|---|---|---|---|---|---|---|\n",
       "| SYT5 | 1.2771166 | 0.0004153696 | 3.586284 | 1.802799 |  7.494563 | SYT5     |\n",
       "| NPTX1 | 0.7022879 | 0.0136102601 | 2.018365 | 1.197141 |  3.671283 | NPTX1    |\n",
       "| FBXL2 | 1.5806065 | 0.0007354314 | 4.857901 | 2.064878 | 12.912475 | FBXL2    |\n",
       "| HIST1H4C | 0.5258018 | 0.0145293382 | 1.691815 | 1.132280 |  2.644698 | HIST1H4C |\n",
       "| PRSS3 | 1.0300869 | 0.0008101443 | 2.801309 | 1.570769 |  5.282077 | PRSS3    |\n",
       "| PTMS | 0.6330328 | 0.0046601504 | 1.883314 | 1.231060 |  2.972269 | PTMS     |\n",
       "| LY6H | 0.4905966 | 0.0188165191 | 1.633290 | 1.100289 |  2.504645 | LY6H     |\n",
       "| DYNC1I1 | 0.5539541 | 0.0352858225 | 1.740120 | 1.080071 |  3.056389 | DYNC1I1  |\n",
       "| HPCA | 0.8345549 | 0.0053537493 | 2.303788 | 1.307469 |  4.249541 | HPCA     |\n",
       "| NELL1 | 0.7831184 | 0.0055812045 | 2.188285 | 1.292864 |  3.940590 | NELL1    |\n",
       "| ACOT7 | 0.8500260 | 0.0056232648 | 2.339708 | 1.315154 |  4.406776 | ACOT7    |\n",
       "| TUSC3 | 0.5653233 | 0.0214910103 | 1.760017 | 1.103233 |  2.907154 | TUSC3    |\n",
       "| TUBB4 | 0.4609513 | 0.0219414314 | 1.585582 | 1.081927 |  2.391251 | TUBB4    |\n",
       "\n"
      ],
      "text/plain": [
       "         Estimate  P            OR       CIlower  CIupper   Characteristics\n",
       "SYT5     1.2771166 0.0004153696 3.586284 1.802799  7.494563 SYT5           \n",
       "NPTX1    0.7022879 0.0136102601 2.018365 1.197141  3.671283 NPTX1          \n",
       "FBXL2    1.5806065 0.0007354314 4.857901 2.064878 12.912475 FBXL2          \n",
       "HIST1H4C 0.5258018 0.0145293382 1.691815 1.132280  2.644698 HIST1H4C       \n",
       "PRSS3    1.0300869 0.0008101443 2.801309 1.570769  5.282077 PRSS3          \n",
       "PTMS     0.6330328 0.0046601504 1.883314 1.231060  2.972269 PTMS           \n",
       "LY6H     0.4905966 0.0188165191 1.633290 1.100289  2.504645 LY6H           \n",
       "DYNC1I1  0.5539541 0.0352858225 1.740120 1.080071  3.056389 DYNC1I1        \n",
       "HPCA     0.8345549 0.0053537493 2.303788 1.307469  4.249541 HPCA           \n",
       "NELL1    0.7831184 0.0055812045 2.188285 1.292864  3.940590 NELL1          \n",
       "ACOT7    0.8500260 0.0056232648 2.339708 1.315154  4.406776 ACOT7          \n",
       "TUSC3    0.5653233 0.0214910103 1.760017 1.103233  2.907154 TUSC3          \n",
       "TUBB4    0.4609513 0.0219414314 1.585582 1.081927  2.391251 TUBB4          "
      ]
     },
     "metadata": {},
     "output_type": "display_data"
    },
    {
     "data": {
      "text/html": [
       "<style>\n",
       ".list-inline {list-style: none; margin:0; padding: 0}\n",
       ".list-inline>li {display: inline-block}\n",
       ".list-inline>li:not(:last-child)::after {content: \"\\00b7\"; padding: 0 .5ex}\n",
       "</style>\n",
       "<ol class=list-inline><li>'SYT5'</li><li>'NPTX1'</li><li>'FBXL2'</li><li>'HIST1H4C'</li><li>'PRSS3'</li><li>'PTMS'</li><li>'LY6H'</li><li>'DYNC1I1'</li><li>'HPCA'</li><li>'NELL1'</li><li>'ACOT7'</li><li>'TUSC3'</li><li>'TUBB4'</li></ol>\n"
      ],
      "text/latex": [
       "\\begin{enumerate*}\n",
       "\\item 'SYT5'\n",
       "\\item 'NPTX1'\n",
       "\\item 'FBXL2'\n",
       "\\item 'HIST1H4C'\n",
       "\\item 'PRSS3'\n",
       "\\item 'PTMS'\n",
       "\\item 'LY6H'\n",
       "\\item 'DYNC1I1'\n",
       "\\item 'HPCA'\n",
       "\\item 'NELL1'\n",
       "\\item 'ACOT7'\n",
       "\\item 'TUSC3'\n",
       "\\item 'TUBB4'\n",
       "\\end{enumerate*}\n"
      ],
      "text/markdown": [
       "1. 'SYT5'\n",
       "2. 'NPTX1'\n",
       "3. 'FBXL2'\n",
       "4. 'HIST1H4C'\n",
       "5. 'PRSS3'\n",
       "6. 'PTMS'\n",
       "7. 'LY6H'\n",
       "8. 'DYNC1I1'\n",
       "9. 'HPCA'\n",
       "10. 'NELL1'\n",
       "11. 'ACOT7'\n",
       "12. 'TUSC3'\n",
       "13. 'TUBB4'\n",
       "\n",
       "\n"
      ],
      "text/plain": [
       " [1] \"SYT5\"     \"NPTX1\"    \"FBXL2\"    \"HIST1H4C\" \"PRSS3\"    \"PTMS\"    \n",
       " [7] \"LY6H\"     \"DYNC1I1\"  \"HPCA\"     \"NELL1\"    \"ACOT7\"    \"TUSC3\"   \n",
       "[13] \"TUBB4\"   "
      ]
     },
     "metadata": {},
     "output_type": "display_data"
    }
   ],
   "source": [
    "#结果合并需要的包\n",
    "library(plyr)\n",
    "#可进行logistic回归的包\n",
    "library(rms)#可实现逻辑回归模型（lrm）\n",
    "library(epiDisplay)#快速输出OR、95%CI、P\n",
    "#library(gtsummary)#精美三线表（但，95%CI有误）\n",
    "\n",
    "varsU<-names(expr4[,2:dim(expr4)[2]])\n",
    "\n",
    "Result<-c()\n",
    "for (i in 1:length(varsU)){\n",
    "  fit<-glm(substitute(Group~x,list(x=as.name(varsU[i]))),data=expr4,family=binomial())\n",
    "  fitSum<-summary(fit)\n",
    "  result1<-c()\n",
    "  result1<-rbind(result1,fitSum$coef)\n",
    "  OR<-exp(fitSum$coef[,'Estimate'])\n",
    "  result1<-data.frame(cbind(result1,cbind(OR,exp(confint(fit)))))\n",
    "  result1$Characteristics<-varsU[i]   #添加变量名\n",
    "  Result<-rbind(Result,result1[-1,])#[-1,],删除常数项\n",
    "}\n",
    "\n",
    "Result\n",
    "\n",
    "Uni_log<-data.frame(Result[,c(1,4:8)]) #提取\"P\",\"OR\",\"CIlower\",\"CIupper\"和变量名\n",
    "\n",
    "colnames(Uni_log)[2:5]<-c(\"P\",\"OR\",\"CIlower\",\"CIupper\")#变量重命名\n",
    "\n",
    "ExtractVar<-unique(Uni_log$Characteristics[Uni_log$\"P\"<0.05]) \n",
    "\n",
    "tzgene = Uni_log %>% dplyr::filter(P < 0.05) %>% rownames()\n",
    "\n",
    "Uni_log[tzgene,]\n",
    "\n",
    "### 多因素分析\n",
    "\n",
    "tzgene\n",
    "\n",
    "data = expr4[,c('Group',tzgene)]"
   ]
  },
  {
   "cell_type": "code",
   "execution_count": 70,
   "id": "d09d5fb1-b54b-4f0a-a8ad-19c4fa653d37",
   "metadata": {
    "scrolled": true
   },
   "outputs": [
    {
     "data": {
      "text/plain": [
       "\n",
       "Call:\n",
       "glm(formula = Group ~ ., family = binomial(), data = data)\n",
       "\n",
       "Deviance Residuals: \n",
       "    Min       1Q   Median       3Q      Max  \n",
       "-1.4846  -0.8637  -0.5621   1.0870   2.3557  \n",
       "\n",
       "Coefficients:\n",
       "            Estimate Std. Error z value Pr(>|z|)    \n",
       "(Intercept) -25.1264     6.1346  -4.096 4.21e-05 ***\n",
       "SYT5          0.7177     0.9427   0.761   0.4464    \n",
       "NPTX1         0.1281     0.5320   0.241   0.8097    \n",
       "FBXL2         0.5500     0.7326   0.751   0.4528    \n",
       "HIST1H4C      0.7068     0.3018   2.342   0.0192 *  \n",
       "PRSS3         0.8847     0.4731   1.870   0.0615 .  \n",
       "PTMS         -0.5004     0.5637  -0.888   0.3747    \n",
       "LY6H         -0.3566     0.3943  -0.905   0.3657    \n",
       "DYNC1I1      -0.6586     0.8249  -0.798   0.4246    \n",
       "HPCA         -0.3046     0.7122  -0.428   0.6689    \n",
       "NELL1         0.1367     0.6805   0.201   0.8407    \n",
       "ACOT7         0.2805     0.9332   0.301   0.7638    \n",
       "TUSC3         0.6649     0.7384   0.900   0.3679    \n",
       "TUBB4         0.6343     0.5825   1.089   0.2762    \n",
       "---\n",
       "Signif. codes:  0 '***' 0.001 '**' 0.01 '*' 0.05 '.' 0.1 ' ' 1\n",
       "\n",
       "(Dispersion parameter for binomial family taken to be 1)\n",
       "\n",
       "    Null deviance: 236.99  on 189  degrees of freedom\n",
       "Residual deviance: 206.86  on 176  degrees of freedom\n",
       "AIC: 234.86\n",
       "\n",
       "Number of Fisher Scoring iterations: 5\n"
      ]
     },
     "metadata": {},
     "output_type": "display_data"
    },
    {
     "name": "stderr",
     "output_type": "stream",
     "text": [
      "Waiting for profiling to be done...\n",
      "\n"
     ]
    },
    {
     "data": {
      "text/html": [
       "<table class=\"dataframe\">\n",
       "<caption>A data.frame: 14 x 4</caption>\n",
       "<thead>\n",
       "\t<tr><th></th><th scope=col>B</th><th scope=col>Wald</th><th scope=col>OR_with_CI</th><th scope=col>P</th></tr>\n",
       "\t<tr><th></th><th scope=col>&lt;dbl&gt;</th><th scope=col>&lt;dbl&gt;</th><th scope=col>&lt;chr&gt;</th><th scope=col>&lt;chr&gt;</th></tr>\n",
       "</thead>\n",
       "<tbody>\n",
       "\t<tr><th scope=row>(Intercept)</th><td>-25.126</td><td>16.776</td><td><span style=white-space:pre-wrap>0(0~0)            </span></td><td>&lt;0.001</td></tr>\n",
       "\t<tr><th scope=row>SYT5</th><td>  0.718</td><td> 0.580</td><td>2.05(0.321~13.128)</td><td>0.446 </td></tr>\n",
       "\t<tr><th scope=row>NPTX1</th><td>  0.128</td><td> 0.058</td><td>1.137(0.401~3.262)</td><td>0.810 </td></tr>\n",
       "\t<tr><th scope=row>FBXL2</th><td>  0.550</td><td> 0.564</td><td>1.733(0.425~7.645)</td><td>0.453 </td></tr>\n",
       "\t<tr><th scope=row>HIST1H4C</th><td>  0.707</td><td> 5.485</td><td>2.028(1.158~3.798)</td><td>0.019 </td></tr>\n",
       "\t<tr><th scope=row>PRSS3</th><td>  0.885</td><td> 3.497</td><td>2.422(0.979~6.325)</td><td>0.061 </td></tr>\n",
       "\t<tr><th scope=row>PTMS</th><td> -0.500</td><td> 0.788</td><td>0.606(0.197~1.817)</td><td>0.375 </td></tr>\n",
       "\t<tr><th scope=row>LY6H</th><td> -0.357</td><td> 0.818</td><td>0.7(0.319~1.511)  </td><td>0.366 </td></tr>\n",
       "\t<tr><th scope=row>DYNC1I1</th><td> -0.659</td><td> 0.638</td><td>0.518(0.102~2.603)</td><td>0.425 </td></tr>\n",
       "\t<tr><th scope=row>HPCA</th><td> -0.305</td><td> 0.183</td><td>0.737(0.181~3.009)</td><td>0.669 </td></tr>\n",
       "\t<tr><th scope=row>NELL1</th><td>  0.137</td><td> 0.040</td><td>1.147(0.297~4.337)</td><td>0.841 </td></tr>\n",
       "\t<tr><th scope=row>ACOT7</th><td>  0.280</td><td> 0.090</td><td>1.324(0.217~8.526)</td><td>0.764 </td></tr>\n",
       "\t<tr><th scope=row>TUSC3</th><td>  0.665</td><td> 0.811</td><td>1.944(0.462~8.484)</td><td>0.368 </td></tr>\n",
       "\t<tr><th scope=row>TUBB4</th><td>  0.634</td><td> 1.186</td><td>1.886(0.607~6.003)</td><td>0.276 </td></tr>\n",
       "</tbody>\n",
       "</table>\n"
      ],
      "text/latex": [
       "A data.frame: 14 x 4\n",
       "\\begin{tabular}{r|llll}\n",
       "  & B & Wald & OR\\_with\\_CI & P\\\\\n",
       "  & <dbl> & <dbl> & <chr> & <chr>\\\\\n",
       "\\hline\n",
       "\t(Intercept) & -25.126 & 16.776 & 0(0\\textasciitilde{}0)             & <0.001\\\\\n",
       "\tSYT5 &   0.718 &  0.580 & 2.05(0.321\\textasciitilde{}13.128) & 0.446 \\\\\n",
       "\tNPTX1 &   0.128 &  0.058 & 1.137(0.401\\textasciitilde{}3.262) & 0.810 \\\\\n",
       "\tFBXL2 &   0.550 &  0.564 & 1.733(0.425\\textasciitilde{}7.645) & 0.453 \\\\\n",
       "\tHIST1H4C &   0.707 &  5.485 & 2.028(1.158\\textasciitilde{}3.798) & 0.019 \\\\\n",
       "\tPRSS3 &   0.885 &  3.497 & 2.422(0.979\\textasciitilde{}6.325) & 0.061 \\\\\n",
       "\tPTMS &  -0.500 &  0.788 & 0.606(0.197\\textasciitilde{}1.817) & 0.375 \\\\\n",
       "\tLY6H &  -0.357 &  0.818 & 0.7(0.319\\textasciitilde{}1.511)   & 0.366 \\\\\n",
       "\tDYNC1I1 &  -0.659 &  0.638 & 0.518(0.102\\textasciitilde{}2.603) & 0.425 \\\\\n",
       "\tHPCA &  -0.305 &  0.183 & 0.737(0.181\\textasciitilde{}3.009) & 0.669 \\\\\n",
       "\tNELL1 &   0.137 &  0.040 & 1.147(0.297\\textasciitilde{}4.337) & 0.841 \\\\\n",
       "\tACOT7 &   0.280 &  0.090 & 1.324(0.217\\textasciitilde{}8.526) & 0.764 \\\\\n",
       "\tTUSC3 &   0.665 &  0.811 & 1.944(0.462\\textasciitilde{}8.484) & 0.368 \\\\\n",
       "\tTUBB4 &   0.634 &  1.186 & 1.886(0.607\\textasciitilde{}6.003) & 0.276 \\\\\n",
       "\\end{tabular}\n"
      ],
      "text/markdown": [
       "\n",
       "A data.frame: 14 x 4\n",
       "\n",
       "| <!--/--> | B &lt;dbl&gt; | Wald &lt;dbl&gt; | OR_with_CI &lt;chr&gt; | P &lt;chr&gt; |\n",
       "|---|---|---|---|---|\n",
       "| (Intercept) | -25.126 | 16.776 | 0(0~0)             | &lt;0.001 |\n",
       "| SYT5 |   0.718 |  0.580 | 2.05(0.321~13.128) | 0.446  |\n",
       "| NPTX1 |   0.128 |  0.058 | 1.137(0.401~3.262) | 0.810  |\n",
       "| FBXL2 |   0.550 |  0.564 | 1.733(0.425~7.645) | 0.453  |\n",
       "| HIST1H4C |   0.707 |  5.485 | 2.028(1.158~3.798) | 0.019  |\n",
       "| PRSS3 |   0.885 |  3.497 | 2.422(0.979~6.325) | 0.061  |\n",
       "| PTMS |  -0.500 |  0.788 | 0.606(0.197~1.817) | 0.375  |\n",
       "| LY6H |  -0.357 |  0.818 | 0.7(0.319~1.511)   | 0.366  |\n",
       "| DYNC1I1 |  -0.659 |  0.638 | 0.518(0.102~2.603) | 0.425  |\n",
       "| HPCA |  -0.305 |  0.183 | 0.737(0.181~3.009) | 0.669  |\n",
       "| NELL1 |   0.137 |  0.040 | 1.147(0.297~4.337) | 0.841  |\n",
       "| ACOT7 |   0.280 |  0.090 | 1.324(0.217~8.526) | 0.764  |\n",
       "| TUSC3 |   0.665 |  0.811 | 1.944(0.462~8.484) | 0.368  |\n",
       "| TUBB4 |   0.634 |  1.186 | 1.886(0.607~6.003) | 0.276  |\n",
       "\n"
      ],
      "text/plain": [
       "            B       Wald   OR_with_CI         P     \n",
       "(Intercept) -25.126 16.776 0(0~0)             <0.001\n",
       "SYT5          0.718  0.580 2.05(0.321~13.128) 0.446 \n",
       "NPTX1         0.128  0.058 1.137(0.401~3.262) 0.810 \n",
       "FBXL2         0.550  0.564 1.733(0.425~7.645) 0.453 \n",
       "HIST1H4C      0.707  5.485 2.028(1.158~3.798) 0.019 \n",
       "PRSS3         0.885  3.497 2.422(0.979~6.325) 0.061 \n",
       "PTMS         -0.500  0.788 0.606(0.197~1.817) 0.375 \n",
       "LY6H         -0.357  0.818 0.7(0.319~1.511)   0.366 \n",
       "DYNC1I1      -0.659  0.638 0.518(0.102~2.603) 0.425 \n",
       "HPCA         -0.305  0.183 0.737(0.181~3.009) 0.669 \n",
       "NELL1         0.137  0.040 1.147(0.297~4.337) 0.841 \n",
       "ACOT7         0.280  0.090 1.324(0.217~8.526) 0.764 \n",
       "TUSC3         0.665  0.811 1.944(0.462~8.484) 0.368 \n",
       "TUBB4         0.634  1.186 1.886(0.607~6.003) 0.276 "
      ]
     },
     "metadata": {},
     "output_type": "display_data"
    }
   ],
   "source": [
    "\n",
    "\n",
    "# train_sub = sample(nrow(data),9/10*nrow(data))\n",
    "# train_data = data[train_sub,]\n",
    "# test_data =data[-train_sub,]\n",
    "\n",
    "fit.reduce<-glm(Group~.,data=data,family=binomial())\n",
    "summary(fit.reduce)\n",
    "\n",
    "formatFit<-function(fit){\n",
    "  #取P值\n",
    "  p<-summary(fit)$coefficients[,4]\n",
    "  #wald值\n",
    "  wald<-summary(fit)$coefficients[,3]^2\n",
    "  #B值\n",
    "  valueB<-coef(fit)\n",
    "  #OR值\n",
    "  valueOR<-exp(coef(fit))\n",
    "  #OR值得95%CI\n",
    "  confitOR<-exp(confint(fit))\n",
    "  data.frame(\n",
    "    B=round(valueB,3),\n",
    "    Wald=round(wald,3),\n",
    "    OR_with_CI=paste(round(valueOR,3),\"(\",\n",
    "               round(confitOR[,1],3),\"~\",round(confitOR[,2],3),\")\",sep=\"\"),\n",
    "    P=format.pval(p,digits = 3,eps=0.001)\n",
    "  )\n",
    "}\n",
    "\n",
    "formatFit(fit.reduce)"
   ]
  },
  {
   "cell_type": "code",
   "execution_count": 71,
   "id": "f7da77f0-cf12-41b1-8f5a-0cf327535144",
   "metadata": {
    "scrolled": true
   },
   "outputs": [
    {
     "data": {
      "text/plain": [
       "\n",
       "Call:\n",
       "glm(formula = Group ~ ., family = binomial(), data = data)\n",
       "\n",
       "Deviance Residuals: \n",
       "    Min       1Q   Median       3Q      Max  \n",
       "-1.4846  -0.8637  -0.5621   1.0870   2.3557  \n",
       "\n",
       "Coefficients:\n",
       "            Estimate Std. Error z value Pr(>|z|)    \n",
       "(Intercept) -25.1264     6.1346  -4.096 4.21e-05 ***\n",
       "SYT5          0.7177     0.9427   0.761   0.4464    \n",
       "NPTX1         0.1281     0.5320   0.241   0.8097    \n",
       "FBXL2         0.5500     0.7326   0.751   0.4528    \n",
       "HIST1H4C      0.7068     0.3018   2.342   0.0192 *  \n",
       "PRSS3         0.8847     0.4731   1.870   0.0615 .  \n",
       "PTMS         -0.5004     0.5637  -0.888   0.3747    \n",
       "LY6H         -0.3566     0.3943  -0.905   0.3657    \n",
       "DYNC1I1      -0.6586     0.8249  -0.798   0.4246    \n",
       "HPCA         -0.3046     0.7122  -0.428   0.6689    \n",
       "NELL1         0.1367     0.6805   0.201   0.8407    \n",
       "ACOT7         0.2805     0.9332   0.301   0.7638    \n",
       "TUSC3         0.6649     0.7384   0.900   0.3679    \n",
       "TUBB4         0.6343     0.5825   1.089   0.2762    \n",
       "---\n",
       "Signif. codes:  0 '***' 0.001 '**' 0.01 '*' 0.05 '.' 0.1 ' ' 1\n",
       "\n",
       "(Dispersion parameter for binomial family taken to be 1)\n",
       "\n",
       "    Null deviance: 236.99  on 189  degrees of freedom\n",
       "Residual deviance: 206.86  on 176  degrees of freedom\n",
       "AIC: 234.86\n",
       "\n",
       "Number of Fisher Scoring iterations: 5\n"
      ]
     },
     "metadata": {},
     "output_type": "display_data"
    }
   ],
   "source": [
    "fit.reduce<-glm(Group~. ,data=data,family=binomial())\n",
    "summary(fit.reduce)"
   ]
  },
  {
   "cell_type": "code",
   "execution_count": 72,
   "id": "7855c6f4-b5e5-44c4-a920-cd60a46e1c65",
   "metadata": {
    "scrolled": true
   },
   "outputs": [
    {
     "name": "stdout",
     "output_type": "stream",
     "text": [
      "Start:  AIC=234.86\n",
      "Group ~ SYT5 + NPTX1 + FBXL2 + HIST1H4C + PRSS3 + PTMS + LY6H + \n",
      "    DYNC1I1 + HPCA + NELL1 + ACOT7 + TUSC3 + TUBB4\n",
      "\n",
      "           Df Deviance    AIC\n",
      "- NELL1     1   206.90 232.90\n",
      "- NPTX1     1   206.92 232.92\n",
      "- ACOT7     1   206.95 232.95\n",
      "- HPCA      1   207.04 233.04\n",
      "- FBXL2     1   207.44 233.44\n",
      "- SYT5      1   207.44 233.44\n",
      "- DYNC1I1   1   207.50 233.50\n",
      "- PTMS      1   207.65 233.65\n",
      "- TUSC3     1   207.68 233.68\n",
      "- LY6H      1   207.68 233.68\n",
      "- TUBB4     1   208.06 234.06\n",
      "<none>          206.86 234.86\n",
      "- PRSS3     1   210.52 236.52\n",
      "- HIST1H4C  1   213.15 239.15\n",
      "\n",
      "Step:  AIC=232.9\n",
      "Group ~ SYT5 + NPTX1 + FBXL2 + HIST1H4C + PRSS3 + PTMS + LY6H + \n",
      "    DYNC1I1 + HPCA + ACOT7 + TUSC3 + TUBB4\n",
      "\n",
      "           Df Deviance    AIC\n",
      "- NPTX1     1   206.98 230.98\n",
      "- ACOT7     1   207.00 231.00\n",
      "- HPCA      1   207.07 231.07\n",
      "- DYNC1I1   1   207.50 231.50\n",
      "- SYT5      1   207.55 231.55\n",
      "- FBXL2     1   207.55 231.55\n",
      "- PTMS      1   207.71 231.71\n",
      "- LY6H      1   207.72 231.72\n",
      "- TUSC3     1   207.98 231.98\n",
      "- TUBB4     1   208.17 232.17\n",
      "<none>          206.90 232.90\n",
      "- PRSS3     1   210.81 234.81\n",
      "+ NELL1     1   206.86 234.86\n",
      "- HIST1H4C  1   213.43 237.43\n",
      "\n",
      "Step:  AIC=230.98\n",
      "Group ~ SYT5 + FBXL2 + HIST1H4C + PRSS3 + PTMS + LY6H + DYNC1I1 + \n",
      "    HPCA + ACOT7 + TUSC3 + TUBB4\n",
      "\n",
      "           Df Deviance    AIC\n",
      "- ACOT7     1   207.10 229.10\n",
      "- HPCA      1   207.13 229.13\n",
      "- DYNC1I1   1   207.51 229.51\n",
      "- SYT5      1   207.56 229.56\n",
      "- FBXL2     1   207.72 229.72\n",
      "- PTMS      1   207.73 229.73\n",
      "- LY6H      1   207.85 229.85\n",
      "- TUSC3     1   208.07 230.07\n",
      "- TUBB4     1   208.34 230.34\n",
      "<none>          206.98 230.98\n",
      "- PRSS3     1   210.81 232.81\n",
      "+ NPTX1     1   206.90 232.90\n",
      "+ NELL1     1   206.92 232.92\n",
      "- HIST1H4C  1   214.39 236.39\n",
      "\n",
      "Step:  AIC=229.1\n",
      "Group ~ SYT5 + FBXL2 + HIST1H4C + PRSS3 + PTMS + LY6H + DYNC1I1 + \n",
      "    HPCA + TUSC3 + TUBB4\n",
      "\n",
      "           Df Deviance    AIC\n",
      "- HPCA      1   207.23 227.23\n",
      "- DYNC1I1   1   207.51 227.51\n",
      "- PTMS      1   207.76 227.76\n",
      "- FBXL2     1   207.78 227.78\n",
      "- SYT5      1   207.81 227.81\n",
      "- LY6H      1   207.85 227.85\n",
      "- TUBB4     1   208.37 228.37\n",
      "- TUSC3     1   208.83 228.83\n",
      "<none>          207.10 229.10\n",
      "+ ACOT7     1   206.98 230.98\n",
      "+ NPTX1     1   207.00 231.00\n",
      "+ NELL1     1   207.03 231.03\n",
      "- PRSS3     1   211.35 231.35\n",
      "- HIST1H4C  1   214.55 234.55\n",
      "\n",
      "Step:  AIC=227.23\n",
      "Group ~ SYT5 + FBXL2 + HIST1H4C + PRSS3 + PTMS + LY6H + DYNC1I1 + \n",
      "    TUSC3 + TUBB4\n",
      "\n",
      "           Df Deviance    AIC\n",
      "- DYNC1I1   1   207.61 225.61\n",
      "- FBXL2     1   207.81 225.81\n",
      "- SYT5      1   207.91 225.91\n",
      "- PTMS      1   208.19 226.19\n",
      "- LY6H      1   208.27 226.27\n",
      "- TUBB4     1   208.37 226.37\n",
      "- TUSC3     1   209.02 227.02\n",
      "<none>          207.23 227.23\n",
      "+ HPCA      1   207.10 229.10\n",
      "+ ACOT7     1   207.13 229.13\n",
      "+ NPTX1     1   207.15 229.15\n",
      "+ NELL1     1   207.18 229.18\n",
      "- PRSS3     1   211.36 229.36\n",
      "- HIST1H4C  1   215.16 233.16\n",
      "\n",
      "Step:  AIC=225.61\n",
      "Group ~ SYT5 + FBXL2 + HIST1H4C + PRSS3 + PTMS + LY6H + TUSC3 + \n",
      "    TUBB4\n",
      "\n",
      "           Df Deviance    AIC\n",
      "- FBXL2     1   207.96 223.96\n",
      "- SYT5      1   208.48 224.48\n",
      "- TUBB4     1   208.52 224.52\n",
      "- PTMS      1   208.57 224.57\n",
      "- LY6H      1   208.83 224.83\n",
      "- TUSC3     1   209.44 225.44\n",
      "<none>          207.61 225.61\n",
      "+ DYNC1I1   1   207.23 227.23\n",
      "+ HPCA      1   207.51 227.51\n",
      "+ NPTX1     1   207.60 227.60\n",
      "+ ACOT7     1   207.61 227.61\n",
      "+ NELL1     1   207.61 227.61\n",
      "- PRSS3     1   211.87 227.87\n",
      "- HIST1H4C  1   215.35 231.35\n",
      "\n",
      "Step:  AIC=223.96\n",
      "Group ~ SYT5 + HIST1H4C + PRSS3 + PTMS + LY6H + TUSC3 + TUBB4\n",
      "\n",
      "           Df Deviance    AIC\n",
      "- TUBB4     1   208.87 222.87\n",
      "- SYT5      1   208.87 222.87\n",
      "- PTMS      1   208.89 222.89\n",
      "- LY6H      1   209.04 223.04\n",
      "<none>          207.96 223.96\n",
      "- TUSC3     1   210.82 224.82\n",
      "+ FBXL2     1   207.61 225.61\n",
      "+ DYNC1I1   1   207.81 225.81\n",
      "+ NPTX1     1   207.90 225.90\n",
      "+ NELL1     1   207.92 225.92\n",
      "+ HPCA      1   207.94 225.94\n",
      "+ ACOT7     1   207.96 225.96\n",
      "- PRSS3     1   215.15 229.15\n",
      "- HIST1H4C  1   217.35 231.35\n",
      "\n",
      "Step:  AIC=222.87\n",
      "Group ~ SYT5 + HIST1H4C + PRSS3 + PTMS + LY6H + TUSC3\n",
      "\n",
      "           Df Deviance    AIC\n",
      "- PTMS      1   209.35 221.35\n",
      "- LY6H      1   209.73 221.73\n",
      "- SYT5      1   210.75 222.75\n",
      "<none>          208.87 222.87\n",
      "+ TUBB4     1   207.96 223.96\n",
      "- TUSC3     1   212.25 224.25\n",
      "+ FBXL2     1   208.52 224.52\n",
      "+ NPTX1     1   208.71 224.71\n",
      "+ ACOT7     1   208.81 224.81\n",
      "+ NELL1     1   208.84 224.84\n",
      "+ HPCA      1   208.84 224.84\n",
      "+ DYNC1I1   1   208.85 224.85\n",
      "- PRSS3     1   215.15 227.15\n",
      "- HIST1H4C  1   217.36 229.36\n",
      "\n",
      "Step:  AIC=221.35\n",
      "Group ~ SYT5 + HIST1H4C + PRSS3 + LY6H + TUSC3\n",
      "\n",
      "           Df Deviance    AIC\n",
      "- LY6H      1   210.45 220.45\n",
      "- SYT5      1   211.04 221.04\n",
      "<none>          209.35 221.35\n",
      "+ PTMS      1   208.87 222.87\n",
      "+ TUBB4     1   208.89 222.89\n",
      "+ FBXL2     1   209.02 223.02\n",
      "- TUSC3     1   213.09 223.09\n",
      "+ ACOT7     1   209.25 223.25\n",
      "+ NPTX1     1   209.31 223.31\n",
      "+ DYNC1I1   1   209.31 223.31\n",
      "+ HPCA      1   209.33 223.33\n",
      "+ NELL1     1   209.34 223.34\n",
      "- PRSS3     1   215.28 225.28\n",
      "- HIST1H4C  1   218.07 228.07\n",
      "\n",
      "Step:  AIC=220.45\n",
      "Group ~ SYT5 + HIST1H4C + PRSS3 + TUSC3\n",
      "\n",
      "           Df Deviance    AIC\n",
      "- SYT5      1   211.28 219.28\n",
      "<none>          210.45 220.45\n",
      "- TUSC3     1   213.09 221.09\n",
      "+ LY6H      1   209.35 221.35\n",
      "+ PTMS      1   209.73 221.73\n",
      "+ ACOT7     1   210.06 222.06\n",
      "+ HPCA      1   210.19 222.19\n",
      "+ TUBB4     1   210.20 222.20\n",
      "+ FBXL2     1   210.26 222.26\n",
      "+ DYNC1I1   1   210.30 222.30\n",
      "+ NELL1     1   210.42 222.42\n",
      "+ NPTX1     1   210.45 222.45\n",
      "- PRSS3     1   216.63 224.63\n",
      "- HIST1H4C  1   218.13 226.13\n",
      "\n",
      "Step:  AIC=219.28\n",
      "Group ~ HIST1H4C + PRSS3 + TUSC3\n",
      "\n",
      "           Df Deviance    AIC\n",
      "<none>          211.28 219.28\n",
      "+ TUBB4     1   210.25 220.25\n",
      "+ SYT5      1   210.45 220.45\n",
      "+ FBXL2     1   211.00 221.00\n",
      "+ LY6H      1   211.04 221.04\n",
      "+ ACOT7     1   211.13 221.13\n",
      "+ NELL1     1   211.16 221.16\n",
      "+ DYNC1I1   1   211.17 221.17\n",
      "+ PTMS      1   211.22 221.22\n",
      "+ HPCA      1   211.22 221.22\n",
      "+ NPTX1     1   211.24 221.24\n",
      "- TUSC3     1   217.05 223.05\n",
      "- HIST1H4C  1   220.87 226.87\n",
      "- PRSS3     1   222.38 228.38\n"
     ]
    },
    {
     "data": {
      "text/plain": [
       "\n",
       "Call:\n",
       "glm(formula = Group ~ HIST1H4C + PRSS3 + TUSC3, family = binomial(), \n",
       "    data = data)\n",
       "\n",
       "Deviance Residuals: \n",
       "    Min       1Q   Median       3Q      Max  \n",
       "-1.5582  -0.8646  -0.5985   1.1289   2.6821  \n",
       "\n",
       "Coefficients:\n",
       "            Estimate Std. Error z value Pr(>|z|)    \n",
       "(Intercept) -19.9236     4.4130  -4.515 6.34e-06 ***\n",
       "HIST1H4C      0.6843     0.2401   2.851  0.00436 ** \n",
       "PRSS3         1.0060     0.3136   3.207  0.00134 ** \n",
       "TUSC3         0.6300     0.2718   2.318  0.02047 *  \n",
       "---\n",
       "Signif. codes:  0 '***' 0.001 '**' 0.01 '*' 0.05 '.' 0.1 ' ' 1\n",
       "\n",
       "(Dispersion parameter for binomial family taken to be 1)\n",
       "\n",
       "    Null deviance: 236.99  on 189  degrees of freedom\n",
       "Residual deviance: 211.28  on 186  degrees of freedom\n",
       "AIC: 219.28\n",
       "\n",
       "Number of Fisher Scoring iterations: 4\n"
      ]
     },
     "metadata": {},
     "output_type": "display_data"
    }
   ],
   "source": [
    "logit.step <- step(fit.reduce,direction='both')\n",
    "summary(logit.step)"
   ]
  },
  {
   "cell_type": "code",
   "execution_count": 73,
   "id": "85771b71-91a5-4530-9bb8-6a0389cb7d7e",
   "metadata": {},
   "outputs": [
    {
     "name": "stderr",
     "output_type": "stream",
     "text": [
      "Waiting for profiling to be done...\n",
      "\n"
     ]
    },
    {
     "data": {
      "text/html": [
       "<table class=\"dataframe\">\n",
       "<caption>A data.frame: 4 x 4</caption>\n",
       "<thead>\n",
       "\t<tr><th></th><th scope=col>B</th><th scope=col>Wald</th><th scope=col>OR_with_CI</th><th scope=col>P</th></tr>\n",
       "\t<tr><th></th><th scope=col>&lt;dbl&gt;</th><th scope=col>&lt;dbl&gt;</th><th scope=col>&lt;chr&gt;</th><th scope=col>&lt;chr&gt;</th></tr>\n",
       "</thead>\n",
       "<tbody>\n",
       "\t<tr><th scope=row>(Intercept)</th><td>-19.924</td><td>20.383</td><td><span style=white-space:pre-wrap>0(0~0)            </span></td><td>&lt;0.001</td></tr>\n",
       "\t<tr><th scope=row>HIST1H4C</th><td>  0.684</td><td> 8.126</td><td>1.982(1.27~3.271) </td><td>0.004 </td></tr>\n",
       "\t<tr><th scope=row>PRSS3</th><td>  1.006</td><td>10.288</td><td>2.735(1.503~5.187)</td><td>0.001 </td></tr>\n",
       "\t<tr><th scope=row>TUSC3</th><td>  0.630</td><td> 5.371</td><td>1.878(1.12~3.272) </td><td>0.020 </td></tr>\n",
       "</tbody>\n",
       "</table>\n"
      ],
      "text/latex": [
       "A data.frame: 4 x 4\n",
       "\\begin{tabular}{r|llll}\n",
       "  & B & Wald & OR\\_with\\_CI & P\\\\\n",
       "  & <dbl> & <dbl> & <chr> & <chr>\\\\\n",
       "\\hline\n",
       "\t(Intercept) & -19.924 & 20.383 & 0(0\\textasciitilde{}0)             & <0.001\\\\\n",
       "\tHIST1H4C &   0.684 &  8.126 & 1.982(1.27\\textasciitilde{}3.271)  & 0.004 \\\\\n",
       "\tPRSS3 &   1.006 & 10.288 & 2.735(1.503\\textasciitilde{}5.187) & 0.001 \\\\\n",
       "\tTUSC3 &   0.630 &  5.371 & 1.878(1.12\\textasciitilde{}3.272)  & 0.020 \\\\\n",
       "\\end{tabular}\n"
      ],
      "text/markdown": [
       "\n",
       "A data.frame: 4 x 4\n",
       "\n",
       "| <!--/--> | B &lt;dbl&gt; | Wald &lt;dbl&gt; | OR_with_CI &lt;chr&gt; | P &lt;chr&gt; |\n",
       "|---|---|---|---|---|\n",
       "| (Intercept) | -19.924 | 20.383 | 0(0~0)             | &lt;0.001 |\n",
       "| HIST1H4C |   0.684 |  8.126 | 1.982(1.27~3.271)  | 0.004  |\n",
       "| PRSS3 |   1.006 | 10.288 | 2.735(1.503~5.187) | 0.001  |\n",
       "| TUSC3 |   0.630 |  5.371 | 1.878(1.12~3.272)  | 0.020  |\n",
       "\n"
      ],
      "text/plain": [
       "            B       Wald   OR_with_CI         P     \n",
       "(Intercept) -19.924 20.383 0(0~0)             <0.001\n",
       "HIST1H4C      0.684  8.126 1.982(1.27~3.271)  0.004 \n",
       "PRSS3         1.006 10.288 2.735(1.503~5.187) 0.001 \n",
       "TUSC3         0.630  5.371 1.878(1.12~3.272)  0.020 "
      ]
     },
     "metadata": {},
     "output_type": "display_data"
    }
   ],
   "source": [
    "# train_sub = sample(nrow(data),9/10*nrow(data))\n",
    "# train_data = data[train_sub,]\n",
    "# test_data =data[-train_sub,]\n",
    "\n",
    "# fit.reduce<-glm(Group~.,data=data,family=binomial())\n",
    "# summary(fit.reduce)\n",
    "\n",
    "formatFit<-function(fit){\n",
    "  #取P值\n",
    "  p<-summary(fit)$coefficients[,4]\n",
    "  #wald值\n",
    "  wald<-summary(fit)$coefficients[,3]^2\n",
    "  #B值\n",
    "  valueB<-coef(fit)\n",
    "  #OR值\n",
    "  valueOR<-exp(coef(fit))\n",
    "  #OR值得95%CI\n",
    "  confitOR<-exp(confint(fit))\n",
    "  data.frame(\n",
    "    B=round(valueB,3),\n",
    "    Wald=round(wald,3),\n",
    "    OR_with_CI=paste(round(valueOR,3),\"(\",\n",
    "               round(confitOR[,1],3),\"~\",round(confitOR[,2],3),\")\",sep=\"\"),\n",
    "    P=format.pval(p,digits = 3,eps=0.001)\n",
    "  )\n",
    "}\n",
    "\n",
    "formatFit(logit.step)"
   ]
  },
  {
   "cell_type": "code",
   "execution_count": 74,
   "id": "8e261651-b999-4164-8a3c-7749fbc5292c",
   "metadata": {},
   "outputs": [
    {
     "name": "stderr",
     "output_type": "stream",
     "text": [
      "Waiting for profiling to be done...\n",
      "\n",
      "Waiting for profiling to be done...\n",
      "\n"
     ]
    }
   ],
   "source": [
    "b = rownames(formatFit(logit.step))[2:length(rownames(formatFit(logit.step)))]"
   ]
  },
  {
   "cell_type": "code",
   "execution_count": 75,
   "id": "d3f8d9e0-5d72-42fd-b158-690527f13040",
   "metadata": {},
   "outputs": [],
   "source": [
    "#save(b,file = 'b.rda')"
   ]
  },
  {
   "cell_type": "code",
   "execution_count": 76,
   "id": "d0c522c2-cf76-4c14-b3e8-ec581b9ee803",
   "metadata": {},
   "outputs": [
    {
     "data": {
      "text/html": [
       "<style>\n",
       ".list-inline {list-style: none; margin:0; padding: 0}\n",
       ".list-inline>li {display: inline-block}\n",
       ".list-inline>li:not(:last-child)::after {content: \"\\00b7\"; padding: 0 .5ex}\n",
       "</style>\n",
       "<ol class=list-inline><li>'HIST1H4C'</li><li>'PRSS3'</li><li>'TUSC3'</li></ol>\n"
      ],
      "text/latex": [
       "\\begin{enumerate*}\n",
       "\\item 'HIST1H4C'\n",
       "\\item 'PRSS3'\n",
       "\\item 'TUSC3'\n",
       "\\end{enumerate*}\n"
      ],
      "text/markdown": [
       "1. 'HIST1H4C'\n",
       "2. 'PRSS3'\n",
       "3. 'TUSC3'\n",
       "\n",
       "\n"
      ],
      "text/plain": [
       "[1] \"HIST1H4C\" \"PRSS3\"    \"TUSC3\"   "
      ]
     },
     "metadata": {},
     "output_type": "display_data"
    }
   ],
   "source": [
    "b"
   ]
  },
  {
   "cell_type": "code",
   "execution_count": 77,
   "id": "e627183c-946c-4097-9531-439cdbe77e97",
   "metadata": {},
   "outputs": [],
   "source": [
    "data = data[,c('Group',b)]"
   ]
  },
  {
   "cell_type": "code",
   "execution_count": 78,
   "id": "b21ff9f7-45a6-4c44-bf6b-fde624298626",
   "metadata": {},
   "outputs": [],
   "source": [
    "library(autoReg)"
   ]
  },
  {
   "cell_type": "code",
   "execution_count": 79,
   "id": "57f11164-ca96-4184-a750-1f9c548dbd53",
   "metadata": {
    "scrolled": true
   },
   "outputs": [],
   "source": [
    "overall.log =  glm(Group~.,data=data,family=binomial())\n",
    "\n",
    "model3<-autoReg(overall.log,uni=TRUE,milti=TRUE,threshold=0.05)\n",
    "\n"
   ]
  },
  {
   "cell_type": "code",
   "execution_count": 80,
   "id": "76460741-f98b-40f2-a22d-ad691e22ea0b",
   "metadata": {},
   "outputs": [
    {
     "data": {
      "text/html": [
       "<table class=\"dataframe\">\n",
       "<caption>A autoReg: 3 x 7</caption>\n",
       "<thead>\n",
       "\t<tr><th scope=col>name</th><th scope=col>desc</th><th scope=col>0 (N=130)</th><th scope=col>1 (N=60)</th><th scope=col>id</th><th scope=col>OR (univariable)</th><th scope=col>OR (multivariable)</th></tr>\n",
       "\t<tr><th scope=col>&lt;chr&gt;</th><th scope=col>&lt;chr&gt;</th><th scope=col>&lt;chr&gt;</th><th scope=col>&lt;chr&gt;</th><th scope=col>&lt;chr&gt;</th><th scope=col>&lt;chr&gt;</th><th scope=col>&lt;chr&gt;</th></tr>\n",
       "</thead>\n",
       "<tbody>\n",
       "\t<tr><td>HIST1H4C</td><td>Mean &lt;U+00B1&gt; SD</td><td>8.7 &lt;U+00B1&gt; 0.9</td><td>9.0 &lt;U+00B1&gt; 0.7</td><td>HIST1H4C</td><td>1.69 (1.11-2.58, p=.015)</td><td>1.98 (1.24-3.17, p=.004)</td></tr>\n",
       "\t<tr><td><span style=white-space:pre-wrap>PRSS3   </span></td><td>Mean &lt;U+00B1&gt; SD</td><td>7.7 &lt;U+00B1&gt; 0.6</td><td>8.1 &lt;U+00B1&gt; 0.6</td><td><span style=white-space:pre-wrap>PRSS3   </span></td><td>2.80 (1.53-5.12, p&lt;.001)</td><td>2.73 (1.48-5.06, p=.001)</td></tr>\n",
       "\t<tr><td><span style=white-space:pre-wrap>TUSC3   </span></td><td>Mean &lt;U+00B1&gt; SD</td><td>8.0 &lt;U+00B1&gt; 0.7</td><td>8.3 &lt;U+00B1&gt; 0.7</td><td><span style=white-space:pre-wrap>TUSC3   </span></td><td>1.76 (1.09-2.85, p=.021)</td><td>1.88 (1.10-3.20, p=.021)</td></tr>\n",
       "</tbody>\n",
       "</table>\n"
      ],
      "text/latex": [
       "A autoReg: 3 x 7\n",
       "\\begin{tabular}{lllllll}\n",
       " name & desc & 0 (N=130) & 1 (N=60) & id & OR (univariable) & OR (multivariable)\\\\\n",
       " <chr> & <chr> & <chr> & <chr> & <chr> & <chr> & <chr>\\\\\n",
       "\\hline\n",
       "\t HIST1H4C & Mean <U+00B1> SD & 8.7 <U+00B1> 0.9 & 9.0 <U+00B1> 0.7 & HIST1H4C & 1.69 (1.11-2.58, p=.015) & 1.98 (1.24-3.17, p=.004)\\\\\n",
       "\t PRSS3    & Mean <U+00B1> SD & 7.7 <U+00B1> 0.6 & 8.1 <U+00B1> 0.6 & PRSS3    & 2.80 (1.53-5.12, p<.001) & 2.73 (1.48-5.06, p=.001)\\\\\n",
       "\t TUSC3    & Mean <U+00B1> SD & 8.0 <U+00B1> 0.7 & 8.3 <U+00B1> 0.7 & TUSC3    & 1.76 (1.09-2.85, p=.021) & 1.88 (1.10-3.20, p=.021)\\\\\n",
       "\\end{tabular}\n"
      ],
      "text/markdown": [
       "\n",
       "A autoReg: 3 x 7\n",
       "\n",
       "| name &lt;chr&gt; | desc &lt;chr&gt; | 0 (N=130) &lt;chr&gt; | 1 (N=60) &lt;chr&gt; | id &lt;chr&gt; | OR (univariable) &lt;chr&gt; | OR (multivariable) &lt;chr&gt; |\n",
       "|---|---|---|---|---|---|---|\n",
       "| HIST1H4C | Mean &lt;U+00B1&gt; SD | 8.7 &lt;U+00B1&gt; 0.9 | 9.0 &lt;U+00B1&gt; 0.7 | HIST1H4C | 1.69 (1.11-2.58, p=.015) | 1.98 (1.24-3.17, p=.004) |\n",
       "| PRSS3    | Mean &lt;U+00B1&gt; SD | 7.7 &lt;U+00B1&gt; 0.6 | 8.1 &lt;U+00B1&gt; 0.6 | PRSS3    | 2.80 (1.53-5.12, p&lt;.001) | 2.73 (1.48-5.06, p=.001) |\n",
       "| TUSC3    | Mean &lt;U+00B1&gt; SD | 8.0 &lt;U+00B1&gt; 0.7 | 8.3 &lt;U+00B1&gt; 0.7 | TUSC3    | 1.76 (1.09-2.85, p=.021) | 1.88 (1.10-3.20, p=.021) |\n",
       "\n"
      ],
      "text/plain": [
       "  name     desc             0 (N=130)        1 (N=60)         id      \n",
       "1 HIST1H4C Mean <U+00B1> SD 8.7 <U+00B1> 0.9 9.0 <U+00B1> 0.7 HIST1H4C\n",
       "2 PRSS3    Mean <U+00B1> SD 7.7 <U+00B1> 0.6 8.1 <U+00B1> 0.6 PRSS3   \n",
       "3 TUSC3    Mean <U+00B1> SD 8.0 <U+00B1> 0.7 8.3 <U+00B1> 0.7 TUSC3   \n",
       "  OR (univariable)         OR (multivariable)      \n",
       "1 1.69 (1.11-2.58, p=.015) 1.98 (1.24-3.17, p=.004)\n",
       "2 2.80 (1.53-5.12, p<.001) 2.73 (1.48-5.06, p=.001)\n",
       "3 1.76 (1.09-2.85, p=.021) 1.88 (1.10-3.20, p=.021)"
      ]
     },
     "metadata": {},
     "output_type": "display_data"
    }
   ],
   "source": [
    "model3"
   ]
  },
  {
   "cell_type": "code",
   "execution_count": 81,
   "id": "77f5ba8f-048a-4f95-be1d-bc327db6b63f",
   "metadata": {},
   "outputs": [],
   "source": [
    "options(repr.plot.width = 8)"
   ]
  },
  {
   "cell_type": "code",
   "execution_count": 82,
   "id": "5628b51a-392f-4d3c-94a3-bfbe3ed7c494",
   "metadata": {},
   "outputs": [],
   "source": [
    "p  = modelPlot(overall.log,change.pointsize = T)"
   ]
  },
  {
   "cell_type": "code",
   "execution_count": 83,
   "id": "b551f2b3-f957-4205-9824-0606a6ed9431",
   "metadata": {},
   "outputs": [
    {
     "data": {
      "text/html": [
       "<strong>png:</strong> 2"
      ],
      "text/latex": [
       "\\textbf{png:} 2"
      ],
      "text/markdown": [
       "**png:** 2"
      ],
      "text/plain": [
       "png \n",
       "  2 "
      ]
     },
     "metadata": {},
     "output_type": "display_data"
    }
   ],
   "source": [
    "pdf('./figure/fig6.forest.pdf',width = 8,height = 5)\n",
    "p\n",
    "dev.off()"
   ]
  },
  {
   "cell_type": "code",
   "execution_count": 84,
   "id": "3e35ad3b-7044-458b-a218-e087218b7963",
   "metadata": {},
   "outputs": [],
   "source": [
    "library(ROCR)\n",
    "dd<-datadist(data)  #开始打包数据\n",
    "options(datadist=\"dd\")\n",
    "data$Group = as.factor(data$Group)\n",
    "fit1 <- lrm(Group~. , data=data,x=T,y=T)\n",
    "save(fit1,data,file = 'train.fit1.rda')"
   ]
  },
  {
   "cell_type": "code",
   "execution_count": null,
   "id": "517e407c-f729-4d47-8c78-6595f3e81dd9",
   "metadata": {},
   "outputs": [],
   "source": []
  },
  {
   "cell_type": "code",
   "execution_count": null,
   "id": "f7a59532-2423-4c0d-acee-a7ee9fc9d4ed",
   "metadata": {},
   "outputs": [],
   "source": []
  },
  {
   "cell_type": "code",
   "execution_count": null,
   "id": "fde0e53e-6cee-474e-a2fa-7e8359deb08d",
   "metadata": {},
   "outputs": [],
   "source": []
  },
  {
   "cell_type": "code",
   "execution_count": null,
   "id": "80106283-d764-4c05-a3b1-fb1b8979baf0",
   "metadata": {},
   "outputs": [],
   "source": []
  },
  {
   "cell_type": "code",
   "execution_count": 85,
   "id": "e9250122-9dd6-4a88-82f6-e7db4765465d",
   "metadata": {
    "scrolled": true
   },
   "outputs": [],
   "source": [
    "library(caret)"
   ]
  },
  {
   "cell_type": "code",
   "execution_count": 86,
   "id": "f3a49092-6398-4cbc-b07c-0514175cd723",
   "metadata": {},
   "outputs": [
    {
     "name": "stderr",
     "output_type": "stream",
     "text": [
      "Setting levels: control = 1, case = 2\n",
      "\n",
      "Setting direction: controls < cases\n",
      "\n",
      "Setting levels: control = 1, case = 2\n",
      "\n",
      "Setting direction: controls < cases\n",
      "\n",
      "Setting levels: control = 1, case = 2\n",
      "\n",
      "Setting direction: controls < cases\n",
      "\n",
      "Setting levels: control = 1, case = 2\n",
      "\n",
      "Setting direction: controls < cases\n",
      "\n",
      "Setting levels: control = 1, case = 2\n",
      "\n",
      "Setting direction: controls < cases\n",
      "\n",
      "Setting levels: control = 1, case = 2\n",
      "\n",
      "Setting direction: controls < cases\n",
      "\n",
      "Setting levels: control = 1, case = 2\n",
      "\n",
      "Setting direction: controls < cases\n",
      "\n",
      "Setting levels: control = 1, case = 2\n",
      "\n",
      "Setting direction: controls < cases\n",
      "\n",
      "Setting levels: control = 1, case = 2\n",
      "\n",
      "Setting direction: controls < cases\n",
      "\n",
      "Setting levels: control = 1, case = 2\n",
      "\n",
      "Setting direction: controls < cases\n",
      "\n"
     ]
    },
    {
     "data": {
      "text/html": [
       "0.71025641025641"
      ],
      "text/latex": [
       "0.71025641025641"
      ],
      "text/markdown": [
       "0.71025641025641"
      ],
      "text/plain": [
       "[1] 0.7102564"
      ]
     },
     "metadata": {},
     "output_type": "display_data"
    }
   ],
   "source": [
    "set.seed(141)\n",
    "#单纯10折交叉验证，time=1\n",
    "folds <-createMultiFolds(y=data$Group,k=5,times=5)\n",
    "#10次批量训练与验证\n",
    "#做成循环\n",
    "auc_value<-as.numeric()\n",
    "for(i in 1:10){\n",
    "  train<- data[ folds[[i]],] \n",
    "  test <- data[-folds[[i]],] \n",
    "  model<-glm(Group~.,data=train,family=binomial())  #TNFSF14+CCNA2+MARCKS+SGOL1+SAP130\n",
    "    \n",
    "  model_pre<-predict(model,type='response', newdata=test)\n",
    "    \n",
    "  auc_value<- append(auc_value,\n",
    "                     as.numeric(pROC::auc(as.numeric(test[,1]),model_pre)))\n",
    "}\n",
    "mean(auc_value)"
   ]
  },
  {
   "cell_type": "code",
   "execution_count": 87,
   "id": "28cb34d6-1a0c-4d80-8537-e313364ed847",
   "metadata": {},
   "outputs": [
    {
     "data": {
      "text/html": [
       "<style>\n",
       ".list-inline {list-style: none; margin:0; padding: 0}\n",
       ".list-inline>li {display: inline-block}\n",
       ".list-inline>li:not(:last-child)::after {content: \"\\00b7\"; padding: 0 .5ex}\n",
       "</style>\n",
       "<ol class=list-inline><li>0.711538461538462</li><li>0.689102564102564</li><li>0.846153846153846</li><li>0.618589743589744</li><li>0.705128205128205</li><li>0.692307692307692</li><li>0.753205128205128</li><li>0.631410256410256</li><li>0.737179487179487</li><li>0.717948717948718</li></ol>\n"
      ],
      "text/latex": [
       "\\begin{enumerate*}\n",
       "\\item 0.711538461538462\n",
       "\\item 0.689102564102564\n",
       "\\item 0.846153846153846\n",
       "\\item 0.618589743589744\n",
       "\\item 0.705128205128205\n",
       "\\item 0.692307692307692\n",
       "\\item 0.753205128205128\n",
       "\\item 0.631410256410256\n",
       "\\item 0.737179487179487\n",
       "\\item 0.717948717948718\n",
       "\\end{enumerate*}\n"
      ],
      "text/markdown": [
       "1. 0.711538461538462\n",
       "2. 0.689102564102564\n",
       "3. 0.846153846153846\n",
       "4. 0.618589743589744\n",
       "5. 0.705128205128205\n",
       "6. 0.692307692307692\n",
       "7. 0.753205128205128\n",
       "8. 0.631410256410256\n",
       "9. 0.737179487179487\n",
       "10. 0.717948717948718\n",
       "\n",
       "\n"
      ],
      "text/plain": [
       " [1] 0.7115385 0.6891026 0.8461538 0.6185897 0.7051282 0.6923077 0.7532051\n",
       " [8] 0.6314103 0.7371795 0.7179487"
      ]
     },
     "metadata": {},
     "output_type": "display_data"
    }
   ],
   "source": [
    "auc_value"
   ]
  },
  {
   "cell_type": "code",
   "execution_count": 88,
   "id": "712dde81-97a8-45dc-b3cd-07d0329b6fc8",
   "metadata": {},
   "outputs": [
    {
     "name": "stdout",
     "output_type": "stream",
     "text": [
      "[1] 3\n"
     ]
    }
   ],
   "source": [
    "num <- which.max(auc_value)\n",
    "print(num)\n",
    "\n",
    "fold_test <- data[folds[[num]],]   \n",
    "fold_train <- data[-folds[[num]],]\n",
    "\n",
    "fold_pre <- glm(Group~.,data=fold_train,family=binomial())\n",
    "\n",
    "fold_predict <- predict(fold_pre,type='response',newdata=fold_test)\n",
    "\n",
    "options(repr.plot.width = 6)"
   ]
  },
  {
   "cell_type": "code",
   "execution_count": 91,
   "id": "ed9f54d1-4627-4c33-b5e3-41eefcb76d9c",
   "metadata": {},
   "outputs": [],
   "source": [
    "data$Group = factor(data$Group,levels = c(0,1))"
   ]
  },
  {
   "cell_type": "code",
   "execution_count": 93,
   "id": "9979af20-b937-4718-867d-4dbab31bb600",
   "metadata": {},
   "outputs": [
    {
     "name": "stderr",
     "output_type": "stream",
     "text": [
      "Setting levels: control = 1, case = 2\n",
      "\n",
      "Setting direction: controls < cases\n",
      "\n"
     ]
    },
    {
     "data": {
      "image/png": "[encoded data removed]",
      "text/plain": [
       "Plot with title \"\""
      ]
     },
     "metadata": {
      "image/png": {
       "height": 300,
       "width": 360
      }
     },
     "output_type": "display_data"
    }
   ],
   "source": [
    "roc_curve <- pROC::roc(as.numeric(fold_test$Group),fold_predict)\n",
    "plot(roc_curve, print.auc=TRUE, auc.polygon=TRUE, grid=c(0.1, 0.2),\n",
    "     grid.col=c(\"green\", \"red\"), max.auc.polygon=TRUE,\n",
    "     auc.polygon.col=\"skyblue\", print.thres=TRUE,main=\"\")"
   ]
  },
  {
   "cell_type": "code",
   "execution_count": 63,
   "id": "7b8045fa-9991-44e6-8fb6-d6a2c41b408d",
   "metadata": {},
   "outputs": [],
   "source": [
    "library(rms)\n",
    "dd <- datadist(train)\n",
    "options(datadist=\"dd\")\n",
    "fit1 <- lrm(Group ~.,\n",
    "            data = train,x=T,y=T)\n",
    "cal1 <- calibrate(fit1, method='boot', B=100)"
   ]
  },
  {
   "cell_type": "code",
   "execution_count": 108,
   "id": "e9f2bff8-2716-4d71-8897-623c62cd73bc",
   "metadata": {},
   "outputs": [
    {
     "name": "stdout",
     "output_type": "stream",
     "text": [
      "\n",
      "n=152   Mean absolute error=0.033   Mean squared error=0.0018\n",
      "0.9 Quantile of absolute error=0.068\n",
      "\n"
     ]
    },
    {
     "data": {
      "text/html": [
       "<strong>png:</strong> 2"
      ],
      "text/latex": [
       "\\textbf{png:} 2"
      ],
      "text/markdown": [
       "**png:** 2"
      ],
      "text/plain": [
       "png \n",
       "  2 "
      ]
     },
     "metadata": {},
     "output_type": "display_data"
    }
   ],
   "source": [
    "pdf('./figure/fig4.qc1.pdf',width = 5,height = 5)\n",
    "plot(cal1,\n",
    "     xlim = c(0,1),\n",
    "     xlab = \"Predicted Probability\",\n",
    "     ylab = \"Observed Probability\",\n",
    "     legend = FALSE,\n",
    "     subtitles = FALSE)\n",
    "abline(0,1,col = \"black\",lty = 2,lwd = 2)\n",
    "lines(cal1[,c(\"predy\",\"calibrated.orig\")], type = \"l\",lwd = 2,col=\"red\",pch =16)\n",
    "lines(cal1[,c(\"predy\",\"calibrated.corrected\")], type = \"l\",lwd = 2,col=\"green\",pch =16)\n",
    "legend(0.55,0.35,\n",
    "       c(\"Apparent\",\"Ideal\",\"Bias-corrected\"),\n",
    "       lty = c(2,1,1),\n",
    "       lwd = c(2,1,1),\n",
    "       col = c(\"black\",\"red\",\"green\"),\n",
    "       bty = \"n\") # \"o\"为加边框\n",
    "dev.off()"
   ]
  },
  {
   "cell_type": "code",
   "execution_count": 94,
   "id": "bcfea542-dc77-4120-b555-4d13c704f27f",
   "metadata": {},
   "outputs": [],
   "source": [
    "library(rmda)\n",
    "library(ggDCA)\n",
    "library(ggplot2)\n",
    "library(rms)\n",
    "library(caret)"
   ]
  },
  {
   "cell_type": "code",
   "execution_count": 95,
   "id": "d61a1eaa-d6f8-4fdc-b467-56bc8d7290fe",
   "metadata": {},
   "outputs": [
    {
     "data": {
      "text/html": [
       "<table class=\"dataframe\">\n",
       "<caption>A data.frame: 2 x 4</caption>\n",
       "<thead>\n",
       "\t<tr><th></th><th scope=col>Group</th><th scope=col>HIST1H4C</th><th scope=col>PRSS3</th><th scope=col>TUSC3</th></tr>\n",
       "\t<tr><th></th><th scope=col>&lt;fct&gt;</th><th scope=col>&lt;dbl&gt;</th><th scope=col>&lt;dbl&gt;</th><th scope=col>&lt;dbl&gt;</th></tr>\n",
       "</thead>\n",
       "<tbody>\n",
       "\t<tr><th scope=row>GSM2431721</th><td>0</td><td>8.043072</td><td>7.752138</td><td>8.290631</td></tr>\n",
       "\t<tr><th scope=row>GSM2431726</th><td>0</td><td>9.214012</td><td>7.969423</td><td>6.774439</td></tr>\n",
       "</tbody>\n",
       "</table>\n"
      ],
      "text/latex": [
       "A data.frame: 2 x 4\n",
       "\\begin{tabular}{r|llll}\n",
       "  & Group & HIST1H4C & PRSS3 & TUSC3\\\\\n",
       "  & <fct> & <dbl> & <dbl> & <dbl>\\\\\n",
       "\\hline\n",
       "\tGSM2431721 & 0 & 8.043072 & 7.752138 & 8.290631\\\\\n",
       "\tGSM2431726 & 0 & 9.214012 & 7.969423 & 6.774439\\\\\n",
       "\\end{tabular}\n"
      ],
      "text/markdown": [
       "\n",
       "A data.frame: 2 x 4\n",
       "\n",
       "| <!--/--> | Group &lt;fct&gt; | HIST1H4C &lt;dbl&gt; | PRSS3 &lt;dbl&gt; | TUSC3 &lt;dbl&gt; |\n",
       "|---|---|---|---|---|\n",
       "| GSM2431721 | 0 | 8.043072 | 7.752138 | 8.290631 |\n",
       "| GSM2431726 | 0 | 9.214012 | 7.969423 | 6.774439 |\n",
       "\n"
      ],
      "text/plain": [
       "           Group HIST1H4C PRSS3    TUSC3   \n",
       "GSM2431721 0     8.043072 7.752138 8.290631\n",
       "GSM2431726 0     9.214012 7.969423 6.774439"
      ]
     },
     "metadata": {},
     "output_type": "display_data"
    }
   ],
   "source": [
    "head(data,2)"
   ]
  },
  {
   "cell_type": "code",
   "execution_count": 96,
   "id": "d733d2f3-291c-4d71-8d23-f2ad0e034029",
   "metadata": {},
   "outputs": [
    {
     "ename": "ERROR",
     "evalue": "Error in decision_curve(Group ~ HIST1H4C, data = data, thresholds = seq(0, : is.numeric(outcome) is not TRUE\n",
     "output_type": "error",
     "traceback": [
      "Error in decision_curve(Group ~ HIST1H4C, data = data, thresholds = seq(0, : is.numeric(outcome) is not TRUE\nTraceback:\n",
      "1. decision_curve(Group ~ HIST1H4C, data = data, thresholds = seq(0, \n .     0.8, by = 0.005), bootstraps = 10)",
      "2. stopifnot(is.numeric(outcome))"
     ]
    }
   ],
   "source": [
    "set.seed(123)\n",
    "HIST1H4C.model <- decision_curve(Group ~ HIST1H4C, data = data,\n",
    "    thresholds = seq(0, 0.8, by = 0.005), bootstraps = 10)\n",
    "PRSS3.model <- decision_curve(Group ~ PRSS3, data = data,\n",
    "    thresholds = seq(0, 0.8, by = 0.005), bootstraps = 10)\n",
    "TUSC3.model <- decision_curve(Group ~ TUSC3, data = data,\n",
    "    thresholds = seq(0, 0.8, by = 0.005), bootstraps = 10)\n"
   ]
  },
  {
   "cell_type": "code",
   "execution_count": 121,
   "id": "ae9ea238-2505-4a93-9400-0368ee46cd18",
   "metadata": {},
   "outputs": [
    {
     "name": "stderr",
     "output_type": "stream",
     "text": [
      "Note:  The data provided is used to both fit a prediction model and to estimate the respective decision curve. This may cause bias in decision curve estimates leading to over-confidence in model performance. \n",
      "\n"
     ]
    }
   ],
   "source": [
    "set.seed(123)\n",
    "full.model <- decision_curve(Group~HIST1H4C +PRSS3 +TUSC3 ,\n",
    "                             data = data,\n",
    "                             thresholds = seq(0, 0.8, by = .005),\n",
    "                             bootstraps = 10)"
   ]
  },
  {
   "cell_type": "code",
   "execution_count": 123,
   "id": "1240833b-e005-44f6-9683-2b67c5eb2d37",
   "metadata": {},
   "outputs": [
    {
     "name": "stderr",
     "output_type": "stream",
     "text": [
      "Note: When multiple decision curves are plotted, decision curves for 'All' are calculated using the prevalence from the first DecisionCurve object in the list provided.\n",
      "\n"
     ]
    },
    {
     "data": {
      "text/html": [
       "<strong>png:</strong> 2"
      ],
      "text/latex": [
       "\\textbf{png:} 2"
      ],
      "text/markdown": [
       "**png:** 2"
      ],
      "text/plain": [
       "png \n",
       "  2 "
      ]
     },
     "metadata": {},
     "output_type": "display_data"
    }
   ],
   "source": [
    "pdf('./figure/fig4.qc2.pdf',width = 5,height = 5)\n",
    "plot_decision_curve( list(HIST1H4C.model,PRSS3.model,TUSC3.model,full.model),\n",
    "                    curve.names = c('HIST1H4C.model','PRSS3.model','TUSC3.model',\n",
    "                                    'full.model'),\n",
    "                    col = ggsci::pal_npg(\"nrc\")(5),\n",
    "                    confidence.intervals = FALSE,  #remove confidence intervals\n",
    "                    cost.benefit.axis = FALSE, #remove cost benefit axis\n",
    "                    legend.position = \"topright\") #add the legend\n",
    "dev.off()"
   ]
  },
  {
   "cell_type": "code",
   "execution_count": 97,
   "id": "6c29c41d-be83-4a37-956a-f2a79d51ce45",
   "metadata": {},
   "outputs": [],
   "source": [
    "fold_pre <- glm(Group~.,data=fold_test,family=binomial())\n",
    "fold_predict <- predict(fold_pre,type='response',newdata=data)"
   ]
  },
  {
   "cell_type": "code",
   "execution_count": 98,
   "id": "10fa7373-0fa0-4421-86e7-598aad243b7f",
   "metadata": {},
   "outputs": [
    {
     "name": "stderr",
     "output_type": "stream",
     "text": [
      "Type 'citation(\"pROC\")' for a citation.\n",
      "\n",
      "\n",
      "Attaching package: 'pROC'\n",
      "\n",
      "\n",
      "The following object is masked from 'package:epiDisplay':\n",
      "\n",
      "    ci\n",
      "\n",
      "\n",
      "The following objects are masked from 'package:stats':\n",
      "\n",
      "    cov, smooth, var\n",
      "\n",
      "\n"
     ]
    }
   ],
   "source": [
    "library(pROC)"
   ]
  },
  {
   "cell_type": "code",
   "execution_count": 99,
   "id": "2f8a5fe3-edcb-442c-8189-9c23d3d1dee7",
   "metadata": {},
   "outputs": [
    {
     "data": {
      "text/html": [
       "<style>\n",
       ".list-inline {list-style: none; margin:0; padding: 0}\n",
       ".list-inline>li {display: inline-block}\n",
       ".list-inline>li:not(:last-child)::after {content: \"\\00b7\"; padding: 0 .5ex}\n",
       "</style>\n",
       "<ol class=list-inline><li>'Group'</li><li>'HIST1H4C'</li><li>'PRSS3'</li><li>'TUSC3'</li></ol>\n"
      ],
      "text/latex": [
       "\\begin{enumerate*}\n",
       "\\item 'Group'\n",
       "\\item 'HIST1H4C'\n",
       "\\item 'PRSS3'\n",
       "\\item 'TUSC3'\n",
       "\\end{enumerate*}\n"
      ],
      "text/markdown": [
       "1. 'Group'\n",
       "2. 'HIST1H4C'\n",
       "3. 'PRSS3'\n",
       "4. 'TUSC3'\n",
       "\n",
       "\n"
      ],
      "text/plain": [
       "[1] \"Group\"    \"HIST1H4C\" \"PRSS3\"    \"TUSC3\"   "
      ]
     },
     "metadata": {},
     "output_type": "display_data"
    }
   ],
   "source": [
    "colnames(data)"
   ]
  },
  {
   "cell_type": "code",
   "execution_count": 100,
   "id": "fa323481-21cd-431f-900b-4a74baf51941",
   "metadata": {},
   "outputs": [],
   "source": [
    "options(repr.plot.width = 6,repr.plot.height = 6)"
   ]
  },
  {
   "cell_type": "code",
   "execution_count": 101,
   "id": "da76388f-d58d-4aee-af43-98d74bb84e9e",
   "metadata": {},
   "outputs": [
    {
     "data": {
      "text/html": [
       "<strong>png:</strong> 2"
      ],
      "text/latex": [
       "\\textbf{png:} 2"
      ],
      "text/markdown": [
       "**png:** 2"
      ],
      "text/plain": [
       "png \n",
       "  2 "
      ]
     },
     "metadata": {},
     "output_type": "display_data"
    }
   ],
   "source": [
    "pdf('./figure/fig5.train.roc.pdf',width = 6,height = 6)\n",
    "rocobj1 <- plot.roc(data$Group, data$HIST1H4C,percent=TRUE, levels=c(0,1),direction=\"<\",col=\"#1c61b6\")\n",
    "rocobj2 <- lines.roc(data$Group, data$PRSS3,percent=TRUE, levels=c(0,1),direction=\"<\", col=\"#008600\")\n",
    "rocobj3 <- lines.roc(data$Group, data$TUSC3,percent=TRUE, levels=c(0,1),direction=\"<\", col=\"#9C6D35\")\n",
    "rocobj5 <- lines.roc(data$Group, fold_predict,percent=TRUE, levels=c(0,1),direction=\"<\", col=\"#9F1A70\")\n",
    "legend(\"topleft\", legend=c(paste0(\"HIST1H4C \", round(rocobj1$auc/100,digits = 2)),\n",
    "                               paste0(\"PRSS3 \", round(rocobj2$auc/100,digits = 2)),\n",
    "                               paste0(\"TUSC3 \", round(rocobj3$auc/100,digits = 2)),\n",
    "                               paste0(\"model_predict \", round(rocobj5$auc/100,digits = 2))),\n",
    "       col=c(\"#1c61b6\", \"#008600\",\"#9C6D35\",\"#9F1A70\"), lwd=1)\n",
    "dev.off()"
   ]
  },
  {
   "cell_type": "code",
   "execution_count": 138,
   "id": "457bfabd-cf12-48e8-8d48-995a14564007",
   "metadata": {},
   "outputs": [],
   "source": [
    "require(cowplot)\n",
    "require(tidyverse)\n",
    "require(ggplot2)\n",
    "require(ggsci)\n",
    "require(ggpubr)"
   ]
  },
  {
   "cell_type": "code",
   "execution_count": 139,
   "id": "b6a00e22-72eb-45b8-a81d-af0389ae84cc",
   "metadata": {},
   "outputs": [
    {
     "data": {
      "text/plain": [
       "\n",
       "  0   1 \n",
       "130  60 "
      ]
     },
     "metadata": {},
     "output_type": "display_data"
    }
   ],
   "source": [
    "table(data$Group)"
   ]
  },
  {
   "cell_type": "code",
   "execution_count": 140,
   "id": "ea1b28d5-b87b-41a4-8bf2-ebdf776cee2a",
   "metadata": {},
   "outputs": [],
   "source": [
    "data1 = data\n",
    "data1$Group = ifelse(data1$Group == 1,'MDD','Con')"
   ]
  },
  {
   "cell_type": "code",
   "execution_count": 141,
   "id": "6658e198-61c1-49a0-8c22-552f78adb237",
   "metadata": {},
   "outputs": [],
   "source": [
    "mydata<-data1 %>% \n",
    "  ## 基因表达数据gather,gather的范围应调整\n",
    "  gather(key=\"gene\",value=\"Expression\",HIST1H4C:TUSC3) %>% \n",
    "  ##\n",
    "  dplyr::select(Group,gene,Expression) "
   ]
  },
  {
   "cell_type": "code",
   "execution_count": 142,
   "id": "86bb9f3f-9007-402b-951e-75976f3bb4b6",
   "metadata": {},
   "outputs": [
    {
     "data": {
      "text/html": [
       "<table class=\"dataframe\">\n",
       "<caption>A tibble: 3 x 9</caption>\n",
       "<thead>\n",
       "\t<tr><th scope=col>gene</th><th scope=col>.y.</th><th scope=col>group1</th><th scope=col>group2</th><th scope=col>p</th><th scope=col>p.adj</th><th scope=col>p.format</th><th scope=col>p.signif</th><th scope=col>method</th></tr>\n",
       "\t<tr><th scope=col>&lt;chr&gt;</th><th scope=col>&lt;chr&gt;</th><th scope=col>&lt;chr&gt;</th><th scope=col>&lt;chr&gt;</th><th scope=col>&lt;dbl&gt;</th><th scope=col>&lt;dbl&gt;</th><th scope=col>&lt;chr&gt;</th><th scope=col>&lt;chr&gt;</th><th scope=col>&lt;chr&gt;</th></tr>\n",
       "</thead>\n",
       "<tbody>\n",
       "\t<tr><td>HIST1H4C</td><td>Expression</td><td>Con</td><td>MDD</td><td>0.0052800639</td><td>0.0110</td><td>0.00528</td><td>** </td><td>T-test</td></tr>\n",
       "\t<tr><td>PRSS3   </td><td>Expression</td><td>Con</td><td>MDD</td><td>0.0006069469</td><td>0.0018</td><td>0.00061</td><td>***</td><td>T-test</td></tr>\n",
       "\t<tr><td>TUSC3   </td><td>Expression</td><td>Con</td><td>MDD</td><td>0.0238766451</td><td>0.0240</td><td>0.02388</td><td>*  </td><td>T-test</td></tr>\n",
       "</tbody>\n",
       "</table>\n"
      ],
      "text/latex": [
       "A tibble: 3 x 9\n",
       "\\begin{tabular}{lllllllll}\n",
       " gene & .y. & group1 & group2 & p & p.adj & p.format & p.signif & method\\\\\n",
       " <chr> & <chr> & <chr> & <chr> & <dbl> & <dbl> & <chr> & <chr> & <chr>\\\\\n",
       "\\hline\n",
       "\t HIST1H4C & Expression & Con & MDD & 0.0052800639 & 0.0110 & 0.00528 & **  & T-test\\\\\n",
       "\t PRSS3    & Expression & Con & MDD & 0.0006069469 & 0.0018 & 0.00061 & *** & T-test\\\\\n",
       "\t TUSC3    & Expression & Con & MDD & 0.0238766451 & 0.0240 & 0.02388 & *   & T-test\\\\\n",
       "\\end{tabular}\n"
      ],
      "text/markdown": [
       "\n",
       "A tibble: 3 x 9\n",
       "\n",
       "| gene &lt;chr&gt; | .y. &lt;chr&gt; | group1 &lt;chr&gt; | group2 &lt;chr&gt; | p &lt;dbl&gt; | p.adj &lt;dbl&gt; | p.format &lt;chr&gt; | p.signif &lt;chr&gt; | method &lt;chr&gt; |\n",
       "|---|---|---|---|---|---|---|---|---|\n",
       "| HIST1H4C | Expression | Con | MDD | 0.0052800639 | 0.0110 | 0.00528 | **  | T-test |\n",
       "| PRSS3    | Expression | Con | MDD | 0.0006069469 | 0.0018 | 0.00061 | *** | T-test |\n",
       "| TUSC3    | Expression | Con | MDD | 0.0238766451 | 0.0240 | 0.02388 | *   | T-test |\n",
       "\n"
      ],
      "text/plain": [
       "  gene     .y.        group1 group2 p            p.adj  p.format p.signif\n",
       "1 HIST1H4C Expression Con    MDD    0.0052800639 0.0110 0.00528  **      \n",
       "2 PRSS3    Expression Con    MDD    0.0006069469 0.0018 0.00061  ***     \n",
       "3 TUSC3    Expression Con    MDD    0.0238766451 0.0240 0.02388  *       \n",
       "  method\n",
       "1 T-test\n",
       "2 T-test\n",
       "3 T-test"
      ]
     },
     "metadata": {},
     "output_type": "display_data"
    }
   ],
   "source": [
    "compare_means( Expression ~ Group, data = mydata, method = 't.test',\n",
    "              group.by = \"gene\")\n",
    "# Box plot facetted by \"gene\"\n",
    "p <- ggboxplot(mydata, x = \"Group\", y = \"Expression\",\n",
    "          color = \"Group\", palette = \"jco\",\n",
    "          add = \"jitter\",\n",
    "          facet.by = \"gene\", short.panel.labs = FALSE)\n",
    "# Use only p.format as label. Remove method name.\n",
    "#p + stat_compare_means(label =  \"p.signif\", label.x = 1.5)\n",
    "p <- ggboxplot(mydata, x = \"gene\", y = \"Expression\",\n",
    "          color = \"Group\", palette = \"nejm\",\n",
    "          add = \"jitter\")"
   ]
  },
  {
   "cell_type": "code",
   "execution_count": 143,
   "id": "fbc562b3-7627-40bd-b67f-ee23805e130e",
   "metadata": {},
   "outputs": [
    {
     "data": {
      "image/png": "[encoded data removed]",
      "text/plain": [
       "plot without title"
      ]
     },
     "metadata": {
      "image/png": {
       "height": 300,
       "width": 420
      }
     },
     "output_type": "display_data"
    }
   ],
   "source": [
    "diffgene = as.data.frame(compare_means( Expression ~ Group, data = mydata, method = 't.test',\n",
    "              group.by = \"gene\"))\n",
    "diffgene = rownames(diffgene) = diffgene[,1]\n",
    "options(repr.plot.height = 5,repr.plot.width = 21)\n",
    "options(repr.plot.width = 7,repr.plot.height = 5)\n",
    "p + stat_compare_means(aes(group = Group), label = \"p.signif\",method = 't.test')"
   ]
  },
  {
   "cell_type": "code",
   "execution_count": 145,
   "id": "874e12f4-bb89-4a54-98a6-7e8cf945b143",
   "metadata": {},
   "outputs": [],
   "source": [
    "ggsave('./figure/fig6.boxplot.pdf',width = 6,height = 4)"
   ]
  },
  {
   "cell_type": "code",
   "execution_count": 147,
   "id": "37c93d84-620d-461e-af04-2abe36e3bb18",
   "metadata": {},
   "outputs": [
    {
     "data": {
      "text/html": [
       "<style>\n",
       ".list-inline {list-style: none; margin:0; padding: 0}\n",
       ".list-inline>li {display: inline-block}\n",
       ".list-inline>li:not(:last-child)::after {content: \"\\00b7\"; padding: 0 .5ex}\n",
       "</style>\n",
       "<ol class=list-inline><li>'Group'</li><li>'HIST1H4C'</li><li>'PRSS3'</li><li>'TUSC3'</li></ol>\n"
      ],
      "text/latex": [
       "\\begin{enumerate*}\n",
       "\\item 'Group'\n",
       "\\item 'HIST1H4C'\n",
       "\\item 'PRSS3'\n",
       "\\item 'TUSC3'\n",
       "\\end{enumerate*}\n"
      ],
      "text/markdown": [
       "1. 'Group'\n",
       "2. 'HIST1H4C'\n",
       "3. 'PRSS3'\n",
       "4. 'TUSC3'\n",
       "\n",
       "\n"
      ],
      "text/plain": [
       "[1] \"Group\"    \"HIST1H4C\" \"PRSS3\"    \"TUSC3\"   "
      ]
     },
     "metadata": {},
     "output_type": "display_data"
    }
   ],
   "source": [
    "colnames(data)"
   ]
  },
  {
   "cell_type": "code",
   "execution_count": 148,
   "id": "7e66ec82-3ee3-469f-b3e3-917d2b0d6fd3",
   "metadata": {},
   "outputs": [
    {
     "data": {
      "text/html": [
       "<table class=\"dataframe\">\n",
       "<caption>A data.frame: 6 x 3</caption>\n",
       "<thead>\n",
       "\t<tr><th></th><th scope=col>Var1</th><th scope=col>Var2</th><th scope=col>value</th></tr>\n",
       "\t<tr><th></th><th scope=col>&lt;fct&gt;</th><th scope=col>&lt;fct&gt;</th><th scope=col>&lt;dbl&gt;</th></tr>\n",
       "</thead>\n",
       "<tbody>\n",
       "\t<tr><th scope=row>2</th><td>PRSS3   </td><td>HIST1H4C</td><td> 0.009006129</td></tr>\n",
       "\t<tr><th scope=row>3</th><td>TUSC3   </td><td>HIST1H4C</td><td>-0.113066268</td></tr>\n",
       "\t<tr><th scope=row>4</th><td>HIST1H4C</td><td>PRSS3   </td><td> 0.009006129</td></tr>\n",
       "\t<tr><th scope=row>6</th><td>TUSC3   </td><td>PRSS3   </td><td> 0.195535892</td></tr>\n",
       "\t<tr><th scope=row>7</th><td>HIST1H4C</td><td>TUSC3   </td><td>-0.113066268</td></tr>\n",
       "\t<tr><th scope=row>8</th><td>PRSS3   </td><td>TUSC3   </td><td> 0.195535892</td></tr>\n",
       "</tbody>\n",
       "</table>\n"
      ],
      "text/latex": [
       "A data.frame: 6 x 3\n",
       "\\begin{tabular}{r|lll}\n",
       "  & Var1 & Var2 & value\\\\\n",
       "  & <fct> & <fct> & <dbl>\\\\\n",
       "\\hline\n",
       "\t2 & PRSS3    & HIST1H4C &  0.009006129\\\\\n",
       "\t3 & TUSC3    & HIST1H4C & -0.113066268\\\\\n",
       "\t4 & HIST1H4C & PRSS3    &  0.009006129\\\\\n",
       "\t6 & TUSC3    & PRSS3    &  0.195535892\\\\\n",
       "\t7 & HIST1H4C & TUSC3    & -0.113066268\\\\\n",
       "\t8 & PRSS3    & TUSC3    &  0.195535892\\\\\n",
       "\\end{tabular}\n"
      ],
      "text/markdown": [
       "\n",
       "A data.frame: 6 x 3\n",
       "\n",
       "| <!--/--> | Var1 &lt;fct&gt; | Var2 &lt;fct&gt; | value &lt;dbl&gt; |\n",
       "|---|---|---|---|\n",
       "| 2 | PRSS3    | HIST1H4C |  0.009006129 |\n",
       "| 3 | TUSC3    | HIST1H4C | -0.113066268 |\n",
       "| 4 | HIST1H4C | PRSS3    |  0.009006129 |\n",
       "| 6 | TUSC3    | PRSS3    |  0.195535892 |\n",
       "| 7 | HIST1H4C | TUSC3    | -0.113066268 |\n",
       "| 8 | PRSS3    | TUSC3    |  0.195535892 |\n",
       "\n"
      ],
      "text/plain": [
       "  Var1     Var2     value       \n",
       "2 PRSS3    HIST1H4C  0.009006129\n",
       "3 TUSC3    HIST1H4C -0.113066268\n",
       "4 HIST1H4C PRSS3     0.009006129\n",
       "6 TUSC3    PRSS3     0.195535892\n",
       "7 HIST1H4C TUSC3    -0.113066268\n",
       "8 PRSS3    TUSC3     0.195535892"
      ]
     },
     "metadata": {},
     "output_type": "display_data"
    },
    {
     "data": {
      "text/html": [
       "<strong>png:</strong> 2"
      ],
      "text/latex": [
       "\\textbf{png:} 2"
      ],
      "text/markdown": [
       "**png:** 2"
      ],
      "text/plain": [
       "png \n",
       "  2 "
      ]
     },
     "metadata": {},
     "output_type": "display_data"
    }
   ],
   "source": [
    "tend1 = data1[,c( 2:4)] \n",
    "gene_cor <- cor(tend1, method = 'pearson')\n",
    "diag(gene_cor) <- 0\n",
    "gene_cor <- reshape2::melt(gene_cor)\n",
    "gene_cor <- subset(gene_cor, value != 0)  #去除0值的相关性\n",
    "head(gene_cor)\n",
    "\n",
    "library(circlize)\n",
    "pdf('./figure/fig7.cor.circle.pdf',height = 6,width = 6)\n",
    "p= chordDiagram(gene_cor, \n",
    "    annotationTrack = c('grid', 'name', 'axis'), #绘制外周圆弧区，显示名称和刻度轴\n",
    "    grid.col = c(HIST1H4C = 'green3', PRSS3 = 'red', MARCKS = 'orange', TUSC3 = 'purple', SAP130 = 'skyblue'), #定义基因颜色\n",
    "    col = colorRamp2(c(-1, 0, 1), c('green', 'white', 'red'), transparency = 0.5), #根据相关性大小展示连线的颜色范围\n",
    "    annotationTrackHeight = c(0.05, 0.05), #名称离圆弧的距离，以及圆弧的宽度\n",
    ")\n",
    "dev.off()"
   ]
  },
  {
   "cell_type": "code",
   "execution_count": null,
   "id": "cdc29c9c-cf26-48b8-9eca-33183f041f69",
   "metadata": {},
   "outputs": [],
   "source": []
  }
 ],
 "metadata": {
  "kernelspec": {
   "display_name": "R",
   "language": "R",
   "name": "ir"
  },
  "language_info": {
   "codemirror_mode": "r",
   "file_extension": ".r",
   "mimetype": "text/x-r-source",
   "name": "R",
   "pygments_lexer": "r",
   "version": "4.2.1"
  }
 },
 "nbformat": 4,
 "nbformat_minor": 5
}
