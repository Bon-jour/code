{
 "cells": [
  {
   "cell_type": "code",
   "execution_count": null,
   "id": "971e09f1-f071-4564-85c1-020f674d89f1",
   "metadata": {},
   "outputs": [],
   "source": [
    "# https://zhuanlan.zhihu.com/p/692810462 RF\n",
    "# https://zhuanlan.zhihu.com/p/692505141 SVM\n",
    "\n",
    "# https://zhuanlan.zhihu.com/p/112009086 Xboost"
   ]
  },
  {
   "cell_type": "code",
   "execution_count": 7,
   "id": "1d6a9177-4dba-46f0-a5b1-9215198d26d2",
   "metadata": {},
   "outputs": [],
   "source": [
    "setwd('/import/DB/fel/BJTC-204')"
   ]
  },
  {
   "cell_type": "code",
   "execution_count": 8,
   "id": "c658e575-0888-44ff-af8f-fab4424c9511",
   "metadata": {},
   "outputs": [],
   "source": [
    "load('./ene.rda')"
   ]
  },
  {
   "cell_type": "code",
   "execution_count": 9,
   "id": "329a052d-4aa0-4cfb-ad75-7e55f6ac59b0",
   "metadata": {},
   "outputs": [],
   "source": [
    "load('buik2_s.rda')"
   ]
  },
  {
   "cell_type": "code",
   "execution_count": 10,
   "id": "cf3e0030-851b-4bea-8395-13a2756ff40e",
   "metadata": {},
   "outputs": [
    {
     "data": {
      "text/html": [
       "<style>\n",
       ".list-inline {list-style: none; margin:0; padding: 0}\n",
       ".list-inline>li {display: inline-block}\n",
       ".list-inline>li:not(:last-child)::after {content: \"\\00b7\"; padding: 0 .5ex}\n",
       "</style>\n",
       "<ol class=list-inline><li>'cliinfo'</li><li>'count'</li><li>'ene'</li><li>'exp'</li><li>'group'</li></ol>\n"
      ],
      "text/latex": [
       "\\begin{enumerate*}\n",
       "\\item 'cliinfo'\n",
       "\\item 'count'\n",
       "\\item 'ene'\n",
       "\\item 'exp'\n",
       "\\item 'group'\n",
       "\\end{enumerate*}\n"
      ],
      "text/markdown": [
       "1. 'cliinfo'\n",
       "2. 'count'\n",
       "3. 'ene'\n",
       "4. 'exp'\n",
       "5. 'group'\n",
       "\n",
       "\n"
      ],
      "text/plain": [
       "[1] \"cliinfo\" \"count\"   \"ene\"     \"exp\"     \"group\"  "
      ]
     },
     "metadata": {},
     "output_type": "display_data"
    }
   ],
   "source": [
    "ls()"
   ]
  },
  {
   "cell_type": "code",
   "execution_count": null,
   "id": "e74d5311-dfa3-4125-82bb-4ac77f4d4a32",
   "metadata": {},
   "outputs": [],
   "source": []
  },
  {
   "cell_type": "code",
   "execution_count": null,
   "id": "8e432143-e240-4c1c-a11f-fae87802c66c",
   "metadata": {},
   "outputs": [],
   "source": []
  },
  {
   "cell_type": "code",
   "execution_count": 11,
   "id": "82199765-86d3-45db-9869-e01874e561bf",
   "metadata": {},
   "outputs": [
    {
     "name": "stderr",
     "output_type": "stream",
     "text": [
      "\n",
      "Attaching package: 'dplyr'\n",
      "\n",
      "\n",
      "The following objects are masked from 'package:stats':\n",
      "\n",
      "    filter, lag\n",
      "\n",
      "\n",
      "The following objects are masked from 'package:base':\n",
      "\n",
      "    intersect, setdiff, setequal, union\n",
      "\n",
      "\n"
     ]
    }
   ],
   "source": [
    "library(dplyr)"
   ]
  },
  {
   "cell_type": "code",
   "execution_count": 12,
   "id": "10a31985-d127-4fb0-a7af-98ebd063cde3",
   "metadata": {},
   "outputs": [
    {
     "name": "stderr",
     "output_type": "stream",
     "text": [
      "Warning message:\n",
      "\"package 'ggplot2' was built under R version 4.2.3\"\n",
      "Warning message:\n",
      "\"package 'tibble' was built under R version 4.2.3\"\n",
      "Warning message:\n",
      "\"package 'tidyr' was built under R version 4.2.3\"\n",
      "Warning message:\n",
      "\"package 'readr' was built under R version 4.2.3\"\n",
      "Warning message:\n",
      "\"package 'purrr' was built under R version 4.2.3\"\n",
      "Warning message:\n",
      "\"package 'stringr' was built under R version 4.2.3\"\n",
      "Warning message:\n",
      "\"package 'forcats' was built under R version 4.2.3\"\n",
      "Warning message:\n",
      "\"package 'lubridate' was built under R version 4.2.3\"\n",
      "Warning message in system(\"timedatectl\", intern = TRUE):\n",
      "\"running command 'timedatectl' had status 1\"\n",
      "-- \u001b[1mAttaching core tidyverse packages\u001b[22m ------------------------ tidyverse 2.0.0 --\n",
      "\u001b[32mv\u001b[39m \u001b[34mforcats  \u001b[39m 1.0.0     \u001b[32mv\u001b[39m \u001b[34mreadr    \u001b[39m 2.1.4\n",
      "\u001b[32mv\u001b[39m \u001b[34mggplot2  \u001b[39m 3.5.1     \u001b[32mv\u001b[39m \u001b[34mstringr  \u001b[39m 1.5.0\n",
      "\u001b[32mv\u001b[39m \u001b[34mlubridate\u001b[39m 1.9.2     \u001b[32mv\u001b[39m \u001b[34mtibble   \u001b[39m 3.2.1\n",
      "\u001b[32mv\u001b[39m \u001b[34mpurrr    \u001b[39m 1.0.2     \u001b[32mv\u001b[39m \u001b[34mtidyr    \u001b[39m 1.3.1\n",
      "-- \u001b[1mConflicts\u001b[22m ------------------------------------------ tidyverse_conflicts() --\n",
      "\u001b[31mx\u001b[39m \u001b[34mdplyr\u001b[39m::\u001b[32mfilter()\u001b[39m masks \u001b[34mstats\u001b[39m::filter()\n",
      "\u001b[31mx\u001b[39m \u001b[34mdplyr\u001b[39m::\u001b[32mlag()\u001b[39m    masks \u001b[34mstats\u001b[39m::lag()\n",
      "\u001b[36mi\u001b[39m Use the conflicted package (\u001b[3m\u001b[34m<http://conflicted.r-lib.org/>\u001b[39m\u001b[23m) to force all conflicts to become errors\n"
     ]
    },
    {
     "data": {
      "text/html": [
       "<table class=\"dataframe\">\n",
       "<caption>A data.frame: 6 x 60</caption>\n",
       "<thead>\n",
       "\t<tr><th></th><th scope=col>V1</th><th scope=col>V2</th><th scope=col>V3</th><th scope=col>V4</th><th scope=col>V5</th><th scope=col>V6</th><th scope=col>V7</th><th scope=col>V8</th><th scope=col>V9</th><th scope=col>V11</th><th scope=col>...</th><th scope=col>V31</th><th scope=col>V38</th><th scope=col>V41</th><th scope=col>V48</th><th scope=col>V50</th><th scope=col>V51</th><th scope=col>V54</th><th scope=col>V55</th><th scope=col>V56</th><th scope=col>Length</th></tr>\n",
       "\t<tr><th></th><th scope=col>&lt;dbl&gt;</th><th scope=col>&lt;dbl&gt;</th><th scope=col>&lt;dbl&gt;</th><th scope=col>&lt;dbl&gt;</th><th scope=col>&lt;dbl&gt;</th><th scope=col>&lt;dbl&gt;</th><th scope=col>&lt;dbl&gt;</th><th scope=col>&lt;dbl&gt;</th><th scope=col>&lt;dbl&gt;</th><th scope=col>&lt;dbl&gt;</th><th scope=col>...</th><th scope=col>&lt;dbl&gt;</th><th scope=col>&lt;dbl&gt;</th><th scope=col>&lt;dbl&gt;</th><th scope=col>&lt;dbl&gt;</th><th scope=col>&lt;dbl&gt;</th><th scope=col>&lt;dbl&gt;</th><th scope=col>&lt;dbl&gt;</th><th scope=col>&lt;dbl&gt;</th><th scope=col>&lt;dbl&gt;</th><th scope=col>&lt;int&gt;</th></tr>\n",
       "</thead>\n",
       "<tbody>\n",
       "\t<tr><th scope=row>ANGEL2</th><td>657.115725</td><td>609.00637</td><td>759.00778</td><td>744.8014516</td><td>705.176831</td><td>612.97452</td><td>727.4426933</td><td>448.5768640</td><td>590.7819960</td><td>552.14449</td><td>...</td><td>669.376352</td><td>714.863252</td><td>739.04548</td><td>753.005268</td><td>745.821958</td><td>694.703002</td><td>645.644824</td><td>817.8152171</td><td>745.140357</td><td>7276</td></tr>\n",
       "\t<tr><th scope=row>SLC47A2</th><td> 14.934448</td><td> 26.20724</td><td> 26.71707</td><td> 12.2932511</td><td> 11.560276</td><td> 16.82675</td><td> 20.4249568</td><td> 40.7797149</td><td> 21.1641452</td><td> 23.29724</td><td>...</td><td> 35.768202</td><td> 37.311961</td><td> 20.64771</td><td> 22.973042</td><td> 40.173080</td><td> 29.886840</td><td> 36.719137</td><td> 19.9153745</td><td> 23.863582</td><td>6691</td></tr>\n",
       "\t<tr><th scope=row>TNMD</th><td>  1.493445</td><td>  0.00000</td><td>  0.00000</td><td>  0.8478104</td><td>  1.445034</td><td>  0.00000</td><td>  1.5711505</td><td>  0.8865155</td><td>  1.2093797</td><td>  0.00000</td><td>...</td><td>  1.459927</td><td>  1.695998</td><td>  1.42398</td><td>  3.403414</td><td>  1.746656</td><td>  1.992456</td><td>  3.059928</td><td>  1.9272943</td><td>  1.193179</td><td>1610</td></tr>\n",
       "\t<tr><th scope=row>MFSD11</th><td>252.392176</td><td>269.56019</td><td>259.88426</td><td>208.5613626</td><td>232.650553</td><td>249.99745</td><td>251.3840841</td><td>192.3738725</td><td>256.9931917</td><td>195.69678</td><td>...</td><td>294.905176</td><td>258.639729</td><td>275.54008</td><td>312.263202</td><td>300.424770</td><td>263.004196</td><td>248.874150</td><td>283.9546944</td><td>322.754950</td><td>6587</td></tr>\n",
       "\t<tr><th scope=row>HSD17B2</th><td>  0.000000</td><td>  0.00000</td><td>  0.00000</td><td>  0.4239052</td><td>  0.000000</td><td>  0.00000</td><td>  0.7855753</td><td>  2.6595466</td><td>  0.6046899</td><td>  0.00000</td><td>...</td><td>  0.000000</td><td>  0.000000</td><td>  1.42398</td><td>  2.552560</td><td>  3.493311</td><td>  0.664152</td><td>  0.000000</td><td>  0.6424314</td><td>  0.000000</td><td>9550</td></tr>\n",
       "\t<tr><th scope=row>COX19</th><td>140.383814</td><td>131.03621</td><td>117.79801</td><td>136.9213824</td><td>114.157725</td><td>108.17197</td><td>134.3333699</td><td>134.7503623</td><td>123.9614219</td><td>160.75093</td><td>...</td><td>127.013615</td><td>106.847888</td><td>126.73420</td><td>105.505823</td><td>120.519239</td><td>131.502098</td><td>135.656811</td><td>149.6865244</td><td>147.357621</td><td>5542</td></tr>\n",
       "</tbody>\n",
       "</table>\n"
      ],
      "text/latex": [
       "A data.frame: 6 x 60\n",
       "\\begin{tabular}{r|lllllllllllllllllllll}\n",
       "  & V1 & V2 & V3 & V4 & V5 & V6 & V7 & V8 & V9 & V11 & ... & V31 & V38 & V41 & V48 & V50 & V51 & V54 & V55 & V56 & Length\\\\\n",
       "  & <dbl> & <dbl> & <dbl> & <dbl> & <dbl> & <dbl> & <dbl> & <dbl> & <dbl> & <dbl> & ... & <dbl> & <dbl> & <dbl> & <dbl> & <dbl> & <dbl> & <dbl> & <dbl> & <dbl> & <int>\\\\\n",
       "\\hline\n",
       "\tANGEL2 & 657.115725 & 609.00637 & 759.00778 & 744.8014516 & 705.176831 & 612.97452 & 727.4426933 & 448.5768640 & 590.7819960 & 552.14449 & ... & 669.376352 & 714.863252 & 739.04548 & 753.005268 & 745.821958 & 694.703002 & 645.644824 & 817.8152171 & 745.140357 & 7276\\\\\n",
       "\tSLC47A2 &  14.934448 &  26.20724 &  26.71707 &  12.2932511 &  11.560276 &  16.82675 &  20.4249568 &  40.7797149 &  21.1641452 &  23.29724 & ... &  35.768202 &  37.311961 &  20.64771 &  22.973042 &  40.173080 &  29.886840 &  36.719137 &  19.9153745 &  23.863582 & 6691\\\\\n",
       "\tTNMD &   1.493445 &   0.00000 &   0.00000 &   0.8478104 &   1.445034 &   0.00000 &   1.5711505 &   0.8865155 &   1.2093797 &   0.00000 & ... &   1.459927 &   1.695998 &   1.42398 &   3.403414 &   1.746656 &   1.992456 &   3.059928 &   1.9272943 &   1.193179 & 1610\\\\\n",
       "\tMFSD11 & 252.392176 & 269.56019 & 259.88426 & 208.5613626 & 232.650553 & 249.99745 & 251.3840841 & 192.3738725 & 256.9931917 & 195.69678 & ... & 294.905176 & 258.639729 & 275.54008 & 312.263202 & 300.424770 & 263.004196 & 248.874150 & 283.9546944 & 322.754950 & 6587\\\\\n",
       "\tHSD17B2 &   0.000000 &   0.00000 &   0.00000 &   0.4239052 &   0.000000 &   0.00000 &   0.7855753 &   2.6595466 &   0.6046899 &   0.00000 & ... &   0.000000 &   0.000000 &   1.42398 &   2.552560 &   3.493311 &   0.664152 &   0.000000 &   0.6424314 &   0.000000 & 9550\\\\\n",
       "\tCOX19 & 140.383814 & 131.03621 & 117.79801 & 136.9213824 & 114.157725 & 108.17197 & 134.3333699 & 134.7503623 & 123.9614219 & 160.75093 & ... & 127.013615 & 106.847888 & 126.73420 & 105.505823 & 120.519239 & 131.502098 & 135.656811 & 149.6865244 & 147.357621 & 5542\\\\\n",
       "\\end{tabular}\n"
      ],
      "text/markdown": [
       "\n",
       "A data.frame: 6 x 60\n",
       "\n",
       "| <!--/--> | V1 &lt;dbl&gt; | V2 &lt;dbl&gt; | V3 &lt;dbl&gt; | V4 &lt;dbl&gt; | V5 &lt;dbl&gt; | V6 &lt;dbl&gt; | V7 &lt;dbl&gt; | V8 &lt;dbl&gt; | V9 &lt;dbl&gt; | V11 &lt;dbl&gt; | ... ... | V31 &lt;dbl&gt; | V38 &lt;dbl&gt; | V41 &lt;dbl&gt; | V48 &lt;dbl&gt; | V50 &lt;dbl&gt; | V51 &lt;dbl&gt; | V54 &lt;dbl&gt; | V55 &lt;dbl&gt; | V56 &lt;dbl&gt; | Length &lt;int&gt; |\n",
       "|---|---|---|---|---|---|---|---|---|---|---|---|---|---|---|---|---|---|---|---|---|---|\n",
       "| ANGEL2 | 657.115725 | 609.00637 | 759.00778 | 744.8014516 | 705.176831 | 612.97452 | 727.4426933 | 448.5768640 | 590.7819960 | 552.14449 | ... | 669.376352 | 714.863252 | 739.04548 | 753.005268 | 745.821958 | 694.703002 | 645.644824 | 817.8152171 | 745.140357 | 7276 |\n",
       "| SLC47A2 |  14.934448 |  26.20724 |  26.71707 |  12.2932511 |  11.560276 |  16.82675 |  20.4249568 |  40.7797149 |  21.1641452 |  23.29724 | ... |  35.768202 |  37.311961 |  20.64771 |  22.973042 |  40.173080 |  29.886840 |  36.719137 |  19.9153745 |  23.863582 | 6691 |\n",
       "| TNMD |   1.493445 |   0.00000 |   0.00000 |   0.8478104 |   1.445034 |   0.00000 |   1.5711505 |   0.8865155 |   1.2093797 |   0.00000 | ... |   1.459927 |   1.695998 |   1.42398 |   3.403414 |   1.746656 |   1.992456 |   3.059928 |   1.9272943 |   1.193179 | 1610 |\n",
       "| MFSD11 | 252.392176 | 269.56019 | 259.88426 | 208.5613626 | 232.650553 | 249.99745 | 251.3840841 | 192.3738725 | 256.9931917 | 195.69678 | ... | 294.905176 | 258.639729 | 275.54008 | 312.263202 | 300.424770 | 263.004196 | 248.874150 | 283.9546944 | 322.754950 | 6587 |\n",
       "| HSD17B2 |   0.000000 |   0.00000 |   0.00000 |   0.4239052 |   0.000000 |   0.00000 |   0.7855753 |   2.6595466 |   0.6046899 |   0.00000 | ... |   0.000000 |   0.000000 |   1.42398 |   2.552560 |   3.493311 |   0.664152 |   0.000000 |   0.6424314 |   0.000000 | 9550 |\n",
       "| COX19 | 140.383814 | 131.03621 | 117.79801 | 136.9213824 | 114.157725 | 108.17197 | 134.3333699 | 134.7503623 | 123.9614219 | 160.75093 | ... | 127.013615 | 106.847888 | 126.73420 | 105.505823 | 120.519239 | 131.502098 | 135.656811 | 149.6865244 | 147.357621 | 5542 |\n",
       "\n"
      ],
      "text/plain": [
       "        V1         V2        V3        V4          V5         V6       \n",
       "ANGEL2  657.115725 609.00637 759.00778 744.8014516 705.176831 612.97452\n",
       "SLC47A2  14.934448  26.20724  26.71707  12.2932511  11.560276  16.82675\n",
       "TNMD      1.493445   0.00000   0.00000   0.8478104   1.445034   0.00000\n",
       "MFSD11  252.392176 269.56019 259.88426 208.5613626 232.650553 249.99745\n",
       "HSD17B2   0.000000   0.00000   0.00000   0.4239052   0.000000   0.00000\n",
       "COX19   140.383814 131.03621 117.79801 136.9213824 114.157725 108.17197\n",
       "        V7          V8          V9          V11       ... V31        V38       \n",
       "ANGEL2  727.4426933 448.5768640 590.7819960 552.14449 ... 669.376352 714.863252\n",
       "SLC47A2  20.4249568  40.7797149  21.1641452  23.29724 ...  35.768202  37.311961\n",
       "TNMD      1.5711505   0.8865155   1.2093797   0.00000 ...   1.459927   1.695998\n",
       "MFSD11  251.3840841 192.3738725 256.9931917 195.69678 ... 294.905176 258.639729\n",
       "HSD17B2   0.7855753   2.6595466   0.6046899   0.00000 ...   0.000000   0.000000\n",
       "COX19   134.3333699 134.7503623 123.9614219 160.75093 ... 127.013615 106.847888\n",
       "        V41       V48        V50        V51        V54        V55        \n",
       "ANGEL2  739.04548 753.005268 745.821958 694.703002 645.644824 817.8152171\n",
       "SLC47A2  20.64771  22.973042  40.173080  29.886840  36.719137  19.9153745\n",
       "TNMD      1.42398   3.403414   1.746656   1.992456   3.059928   1.9272943\n",
       "MFSD11  275.54008 312.263202 300.424770 263.004196 248.874150 283.9546944\n",
       "HSD17B2   1.42398   2.552560   3.493311   0.664152   0.000000   0.6424314\n",
       "COX19   126.73420 105.505823 120.519239 131.502098 135.656811 149.6865244\n",
       "        V56        Length\n",
       "ANGEL2  745.140357 7276  \n",
       "SLC47A2  23.863582 6691  \n",
       "TNMD      1.193179 1610  \n",
       "MFSD11  322.754950 6587  \n",
       "HSD17B2   0.000000 9550  \n",
       "COX19   147.357621 5542  "
      ]
     },
     "metadata": {},
     "output_type": "display_data"
    },
    {
     "data": {
      "text/html": [
       "<style>\n",
       ".list-inline {list-style: none; margin:0; padding: 0}\n",
       ".list-inline>li {display: inline-block}\n",
       ".list-inline>li:not(:last-child)::after {content: \"\\00b7\"; padding: 0 .5ex}\n",
       "</style>\n",
       "<ol class=list-inline><li>45</li><li>60</li></ol>\n"
      ],
      "text/latex": [
       "\\begin{enumerate*}\n",
       "\\item 45\n",
       "\\item 60\n",
       "\\end{enumerate*}\n"
      ],
      "text/markdown": [
       "1. 45\n",
       "2. 60\n",
       "\n",
       "\n"
      ],
      "text/plain": [
       "[1] 45 60"
      ]
     },
     "metadata": {},
     "output_type": "display_data"
    },
    {
     "data": {
      "text/html": [
       "<table class=\"dataframe\">\n",
       "<caption>A matrix: 6 x 59 of type dbl</caption>\n",
       "<thead>\n",
       "\t<tr><th></th><th scope=col>V1</th><th scope=col>V2</th><th scope=col>V3</th><th scope=col>V4</th><th scope=col>V5</th><th scope=col>V6</th><th scope=col>V7</th><th scope=col>V8</th><th scope=col>V9</th><th scope=col>V11</th><th scope=col>...</th><th scope=col>V28</th><th scope=col>V31</th><th scope=col>V38</th><th scope=col>V41</th><th scope=col>V48</th><th scope=col>V50</th><th scope=col>V51</th><th scope=col>V54</th><th scope=col>V55</th><th scope=col>V56</th></tr>\n",
       "</thead>\n",
       "<tbody>\n",
       "\t<tr><th scope=row>ANGEL2</th><td>11.313799</td><td>11.381373</td><td>11.386389</td><td>11.279204</td><td>11.472802</td><td>11.377584</td><td>11.547784</td><td>10.047814</td><td>11.212222</td><td>11.329168</td><td>...</td><td>11.957018</td><td>11.731544</td><td>11.334778</td><td>11.678731</td><td>11.349663</td><td>11.600271</td><td>11.915479</td><td>10.957193</td><td>12.305200</td><td>11.959608</td></tr>\n",
       "\t<tr><th scope=row>SLC47A2</th><td> 5.997484</td><td> 6.974851</td><td> 6.692509</td><td> 5.510627</td><td> 5.690687</td><td> 6.329025</td><td> 6.529499</td><td> 6.721677</td><td> 6.545138</td><td> 6.894889</td><td>...</td><td> 8.049924</td><td> 7.633260</td><td> 7.204998</td><td> 6.652023</td><td> 6.451961</td><td> 7.514113</td><td> 7.505179</td><td> 6.952946</td><td> 7.076745</td><td> 7.125906</td></tr>\n",
       "\t<tr><th scope=row>TNMD</th><td> 4.762127</td><td> 0.000000</td><td> 0.000000</td><td> 3.784498</td><td> 4.771456</td><td> 0.000000</td><td> 4.917078</td><td> 3.384732</td><td> 4.519786</td><td> 0.000000</td><td>...</td><td> 5.015650</td><td> 5.108852</td><td> 4.842112</td><td> 4.884474</td><td> 5.762485</td><td> 5.081062</td><td> 5.674023</td><td> 5.444958</td><td> 5.778471</td><td> 4.897990</td></tr>\n",
       "\t<tr><th scope=row>MFSD11</th><td>10.077611</td><td>10.349612</td><td> 9.984553</td><td> 9.587639</td><td>10.017391</td><td>10.227856</td><td>10.159148</td><td> 8.971409</td><td>10.155507</td><td> 9.977137</td><td>...</td><td>11.093266</td><td>10.692949</td><td>10.012418</td><td>10.399483</td><td>10.223943</td><td>10.432547</td><td>10.658212</td><td> 9.726371</td><td>10.923068</td><td>10.896454</td></tr>\n",
       "\t<tr><th scope=row>HSD17B2</th><td> 0.000000</td><td> 0.000000</td><td> 0.000000</td><td> 1.054683</td><td> 0.000000</td><td> 0.000000</td><td> 1.791782</td><td> 2.530287</td><td> 1.510649</td><td> 0.000000</td><td>...</td><td> 0.000000</td><td> 0.000000</td><td> 0.000000</td><td> 2.538794</td><td> 2.951841</td><td> 3.594065</td><td> 1.930907</td><td> 0.000000</td><td> 2.010197</td><td> 0.000000</td></tr>\n",
       "\t<tr><th scope=row>COX19</th><td> 9.481220</td><td> 9.558993</td><td> 9.093433</td><td> 9.230258</td><td> 9.240464</td><td> 9.269620</td><td> 9.505012</td><td> 8.707578</td><td> 9.353824</td><td> 9.942594</td><td>...</td><td>10.426456</td><td> 9.727727</td><td> 8.987694</td><td> 9.529127</td><td> 8.909514</td><td> 9.365166</td><td> 9.908037</td><td> 9.101057</td><td>10.249009</td><td>10.015189</td></tr>\n",
       "</tbody>\n",
       "</table>\n"
      ],
      "text/latex": [
       "A matrix: 6 x 59 of type dbl\n",
       "\\begin{tabular}{r|lllllllllllllllllllll}\n",
       "  & V1 & V2 & V3 & V4 & V5 & V6 & V7 & V8 & V9 & V11 & ... & V28 & V31 & V38 & V41 & V48 & V50 & V51 & V54 & V55 & V56\\\\\n",
       "\\hline\n",
       "\tANGEL2 & 11.313799 & 11.381373 & 11.386389 & 11.279204 & 11.472802 & 11.377584 & 11.547784 & 10.047814 & 11.212222 & 11.329168 & ... & 11.957018 & 11.731544 & 11.334778 & 11.678731 & 11.349663 & 11.600271 & 11.915479 & 10.957193 & 12.305200 & 11.959608\\\\\n",
       "\tSLC47A2 &  5.997484 &  6.974851 &  6.692509 &  5.510627 &  5.690687 &  6.329025 &  6.529499 &  6.721677 &  6.545138 &  6.894889 & ... &  8.049924 &  7.633260 &  7.204998 &  6.652023 &  6.451961 &  7.514113 &  7.505179 &  6.952946 &  7.076745 &  7.125906\\\\\n",
       "\tTNMD &  4.762127 &  0.000000 &  0.000000 &  3.784498 &  4.771456 &  0.000000 &  4.917078 &  3.384732 &  4.519786 &  0.000000 & ... &  5.015650 &  5.108852 &  4.842112 &  4.884474 &  5.762485 &  5.081062 &  5.674023 &  5.444958 &  5.778471 &  4.897990\\\\\n",
       "\tMFSD11 & 10.077611 & 10.349612 &  9.984553 &  9.587639 & 10.017391 & 10.227856 & 10.159148 &  8.971409 & 10.155507 &  9.977137 & ... & 11.093266 & 10.692949 & 10.012418 & 10.399483 & 10.223943 & 10.432547 & 10.658212 &  9.726371 & 10.923068 & 10.896454\\\\\n",
       "\tHSD17B2 &  0.000000 &  0.000000 &  0.000000 &  1.054683 &  0.000000 &  0.000000 &  1.791782 &  2.530287 &  1.510649 &  0.000000 & ... &  0.000000 &  0.000000 &  0.000000 &  2.538794 &  2.951841 &  3.594065 &  1.930907 &  0.000000 &  2.010197 &  0.000000\\\\\n",
       "\tCOX19 &  9.481220 &  9.558993 &  9.093433 &  9.230258 &  9.240464 &  9.269620 &  9.505012 &  8.707578 &  9.353824 &  9.942594 & ... & 10.426456 &  9.727727 &  8.987694 &  9.529127 &  8.909514 &  9.365166 &  9.908037 &  9.101057 & 10.249009 & 10.015189\\\\\n",
       "\\end{tabular}\n"
      ],
      "text/markdown": [
       "\n",
       "A matrix: 6 x 59 of type dbl\n",
       "\n",
       "| <!--/--> | V1 | V2 | V3 | V4 | V5 | V6 | V7 | V8 | V9 | V11 | ... | V28 | V31 | V38 | V41 | V48 | V50 | V51 | V54 | V55 | V56 |\n",
       "|---|---|---|---|---|---|---|---|---|---|---|---|---|---|---|---|---|---|---|---|---|---|\n",
       "| ANGEL2 | 11.313799 | 11.381373 | 11.386389 | 11.279204 | 11.472802 | 11.377584 | 11.547784 | 10.047814 | 11.212222 | 11.329168 | ... | 11.957018 | 11.731544 | 11.334778 | 11.678731 | 11.349663 | 11.600271 | 11.915479 | 10.957193 | 12.305200 | 11.959608 |\n",
       "| SLC47A2 |  5.997484 |  6.974851 |  6.692509 |  5.510627 |  5.690687 |  6.329025 |  6.529499 |  6.721677 |  6.545138 |  6.894889 | ... |  8.049924 |  7.633260 |  7.204998 |  6.652023 |  6.451961 |  7.514113 |  7.505179 |  6.952946 |  7.076745 |  7.125906 |\n",
       "| TNMD |  4.762127 |  0.000000 |  0.000000 |  3.784498 |  4.771456 |  0.000000 |  4.917078 |  3.384732 |  4.519786 |  0.000000 | ... |  5.015650 |  5.108852 |  4.842112 |  4.884474 |  5.762485 |  5.081062 |  5.674023 |  5.444958 |  5.778471 |  4.897990 |\n",
       "| MFSD11 | 10.077611 | 10.349612 |  9.984553 |  9.587639 | 10.017391 | 10.227856 | 10.159148 |  8.971409 | 10.155507 |  9.977137 | ... | 11.093266 | 10.692949 | 10.012418 | 10.399483 | 10.223943 | 10.432547 | 10.658212 |  9.726371 | 10.923068 | 10.896454 |\n",
       "| HSD17B2 |  0.000000 |  0.000000 |  0.000000 |  1.054683 |  0.000000 |  0.000000 |  1.791782 |  2.530287 |  1.510649 |  0.000000 | ... |  0.000000 |  0.000000 |  0.000000 |  2.538794 |  2.951841 |  3.594065 |  1.930907 |  0.000000 |  2.010197 |  0.000000 |\n",
       "| COX19 |  9.481220 |  9.558993 |  9.093433 |  9.230258 |  9.240464 |  9.269620 |  9.505012 |  8.707578 |  9.353824 |  9.942594 | ... | 10.426456 |  9.727727 |  8.987694 |  9.529127 |  8.909514 |  9.365166 |  9.908037 |  9.101057 | 10.249009 | 10.015189 |\n",
       "\n"
      ],
      "text/plain": [
       "        V1        V2        V3        V4        V5        V6        V7       \n",
       "ANGEL2  11.313799 11.381373 11.386389 11.279204 11.472802 11.377584 11.547784\n",
       "SLC47A2  5.997484  6.974851  6.692509  5.510627  5.690687  6.329025  6.529499\n",
       "TNMD     4.762127  0.000000  0.000000  3.784498  4.771456  0.000000  4.917078\n",
       "MFSD11  10.077611 10.349612  9.984553  9.587639 10.017391 10.227856 10.159148\n",
       "HSD17B2  0.000000  0.000000  0.000000  1.054683  0.000000  0.000000  1.791782\n",
       "COX19    9.481220  9.558993  9.093433  9.230258  9.240464  9.269620  9.505012\n",
       "        V8        V9        V11       ... V28       V31       V38      \n",
       "ANGEL2  10.047814 11.212222 11.329168 ... 11.957018 11.731544 11.334778\n",
       "SLC47A2  6.721677  6.545138  6.894889 ...  8.049924  7.633260  7.204998\n",
       "TNMD     3.384732  4.519786  0.000000 ...  5.015650  5.108852  4.842112\n",
       "MFSD11   8.971409 10.155507  9.977137 ... 11.093266 10.692949 10.012418\n",
       "HSD17B2  2.530287  1.510649  0.000000 ...  0.000000  0.000000  0.000000\n",
       "COX19    8.707578  9.353824  9.942594 ... 10.426456  9.727727  8.987694\n",
       "        V41       V48       V50       V51       V54       V55       V56      \n",
       "ANGEL2  11.678731 11.349663 11.600271 11.915479 10.957193 12.305200 11.959608\n",
       "SLC47A2  6.652023  6.451961  7.514113  7.505179  6.952946  7.076745  7.125906\n",
       "TNMD     4.884474  5.762485  5.081062  5.674023  5.444958  5.778471  4.897990\n",
       "MFSD11  10.399483 10.223943 10.432547 10.658212  9.726371 10.923068 10.896454\n",
       "HSD17B2  2.538794  2.951841  3.594065  1.930907  0.000000  2.010197  0.000000\n",
       "COX19    9.529127  8.909514  9.365166  9.908037  9.101057 10.249009 10.015189"
      ]
     },
     "metadata": {},
     "output_type": "display_data"
    }
   ],
   "source": [
    "expr = exp[ene,] %>% tibble::rownames_to_column(.,'Gene')\n",
    "\n",
    "hg_len = 'All_hg19gene_len.txt'\n",
    "\n",
    "len = read.table(hg_len,header =T,sep = '\\t')\n",
    "library(tidyverse)\n",
    "library(dplyr)\n",
    "merge<-left_join(expr,len,by=\"Gene\")\n",
    "merge <- na.omit(merge)#删除错误值行​\n",
    "rownames(merge)<-merge[,1]\n",
    "\n",
    "\n",
    "merge<-merge[,-1]\n",
    "head(merge)#最后一列Length是基因长度​\n",
    "kb <- merge$Length/1000\n",
    "dim(merge)\n",
    "countdata <- merge[,1:dim(merge)[2]-1]\n",
    "rpk <- countdata /kb\n",
    "tpm <- log2(t(t(rpk)/colSums(rpk) * 1000000)+1)\n",
    "\n",
    "fpkm <- log2(t(t(rpk)/colSums(countdata) * 10^6)+1)\n",
    "head(fpkm)\n",
    "\n",
    "expr = fpkm %>% t() %>%  as.data.frame()"
   ]
  },
  {
   "cell_type": "code",
   "execution_count": 13,
   "id": "5f83f6c3-2b28-478f-b8e1-ff5352930a5e",
   "metadata": {},
   "outputs": [
    {
     "data": {
      "text/html": [
       "<table class=\"dataframe\">\n",
       "<caption>A data.frame: 2 x 45</caption>\n",
       "<thead>\n",
       "\t<tr><th></th><th scope=col>ANGEL2</th><th scope=col>SLC47A2</th><th scope=col>TNMD</th><th scope=col>MFSD11</th><th scope=col>HSD17B2</th><th scope=col>COX19</th><th scope=col>SNTG2</th><th scope=col>WDR72</th><th scope=col>TEF</th><th scope=col>KRBOX4</th><th scope=col>...</th><th scope=col>MMD2</th><th scope=col>HSD17B6</th><th scope=col>GLUL</th><th scope=col>PRF1</th><th scope=col>ITGB5</th><th scope=col>ACSBG1</th><th scope=col>PPP1R3G</th><th scope=col>SLCO1C1</th><th scope=col>SLC25A33</th><th scope=col>EZR</th></tr>\n",
       "\t<tr><th></th><th scope=col>&lt;dbl&gt;</th><th scope=col>&lt;dbl&gt;</th><th scope=col>&lt;dbl&gt;</th><th scope=col>&lt;dbl&gt;</th><th scope=col>&lt;dbl&gt;</th><th scope=col>&lt;dbl&gt;</th><th scope=col>&lt;dbl&gt;</th><th scope=col>&lt;dbl&gt;</th><th scope=col>&lt;dbl&gt;</th><th scope=col>&lt;dbl&gt;</th><th scope=col>...</th><th scope=col>&lt;dbl&gt;</th><th scope=col>&lt;dbl&gt;</th><th scope=col>&lt;dbl&gt;</th><th scope=col>&lt;dbl&gt;</th><th scope=col>&lt;dbl&gt;</th><th scope=col>&lt;dbl&gt;</th><th scope=col>&lt;dbl&gt;</th><th scope=col>&lt;dbl&gt;</th><th scope=col>&lt;dbl&gt;</th><th scope=col>&lt;dbl&gt;</th></tr>\n",
       "</thead>\n",
       "<tbody>\n",
       "\t<tr><th scope=row>V1</th><td>11.31380</td><td>5.997484</td><td>4.762127</td><td>10.07761</td><td>0</td><td>9.481220</td><td>3.380686</td><td>0</td><td>12.57796</td><td> 9.953742</td><td>...</td><td>11.02428</td><td>10.07038</td><td>15.64456</td><td>6.075159</td><td>10.21540</td><td>10.90177</td><td>7.430492</td><td>11.48960</td><td>11.21745</td><td>12.45869</td></tr>\n",
       "\t<tr><th scope=row>V2</th><td>11.38137</td><td>6.974851</td><td>0.000000</td><td>10.34961</td><td>0</td><td>9.558993</td><td>6.491342</td><td>0</td><td>12.85425</td><td>10.305160</td><td>...</td><td>11.45453</td><td>10.74483</td><td>15.57598</td><td>5.994629</td><td>10.18809</td><td>10.88782</td><td>7.779866</td><td>11.51256</td><td>11.12242</td><td>12.72249</td></tr>\n",
       "</tbody>\n",
       "</table>\n"
      ],
      "text/latex": [
       "A data.frame: 2 x 45\n",
       "\\begin{tabular}{r|lllllllllllllllllllll}\n",
       "  & ANGEL2 & SLC47A2 & TNMD & MFSD11 & HSD17B2 & COX19 & SNTG2 & WDR72 & TEF & KRBOX4 & ... & MMD2 & HSD17B6 & GLUL & PRF1 & ITGB5 & ACSBG1 & PPP1R3G & SLCO1C1 & SLC25A33 & EZR\\\\\n",
       "  & <dbl> & <dbl> & <dbl> & <dbl> & <dbl> & <dbl> & <dbl> & <dbl> & <dbl> & <dbl> & ... & <dbl> & <dbl> & <dbl> & <dbl> & <dbl> & <dbl> & <dbl> & <dbl> & <dbl> & <dbl>\\\\\n",
       "\\hline\n",
       "\tV1 & 11.31380 & 5.997484 & 4.762127 & 10.07761 & 0 & 9.481220 & 3.380686 & 0 & 12.57796 &  9.953742 & ... & 11.02428 & 10.07038 & 15.64456 & 6.075159 & 10.21540 & 10.90177 & 7.430492 & 11.48960 & 11.21745 & 12.45869\\\\\n",
       "\tV2 & 11.38137 & 6.974851 & 0.000000 & 10.34961 & 0 & 9.558993 & 6.491342 & 0 & 12.85425 & 10.305160 & ... & 11.45453 & 10.74483 & 15.57598 & 5.994629 & 10.18809 & 10.88782 & 7.779866 & 11.51256 & 11.12242 & 12.72249\\\\\n",
       "\\end{tabular}\n"
      ],
      "text/markdown": [
       "\n",
       "A data.frame: 2 x 45\n",
       "\n",
       "| <!--/--> | ANGEL2 &lt;dbl&gt; | SLC47A2 &lt;dbl&gt; | TNMD &lt;dbl&gt; | MFSD11 &lt;dbl&gt; | HSD17B2 &lt;dbl&gt; | COX19 &lt;dbl&gt; | SNTG2 &lt;dbl&gt; | WDR72 &lt;dbl&gt; | TEF &lt;dbl&gt; | KRBOX4 &lt;dbl&gt; | ... ... | MMD2 &lt;dbl&gt; | HSD17B6 &lt;dbl&gt; | GLUL &lt;dbl&gt; | PRF1 &lt;dbl&gt; | ITGB5 &lt;dbl&gt; | ACSBG1 &lt;dbl&gt; | PPP1R3G &lt;dbl&gt; | SLCO1C1 &lt;dbl&gt; | SLC25A33 &lt;dbl&gt; | EZR &lt;dbl&gt; |\n",
       "|---|---|---|---|---|---|---|---|---|---|---|---|---|---|---|---|---|---|---|---|---|---|\n",
       "| V1 | 11.31380 | 5.997484 | 4.762127 | 10.07761 | 0 | 9.481220 | 3.380686 | 0 | 12.57796 |  9.953742 | ... | 11.02428 | 10.07038 | 15.64456 | 6.075159 | 10.21540 | 10.90177 | 7.430492 | 11.48960 | 11.21745 | 12.45869 |\n",
       "| V2 | 11.38137 | 6.974851 | 0.000000 | 10.34961 | 0 | 9.558993 | 6.491342 | 0 | 12.85425 | 10.305160 | ... | 11.45453 | 10.74483 | 15.57598 | 5.994629 | 10.18809 | 10.88782 | 7.779866 | 11.51256 | 11.12242 | 12.72249 |\n",
       "\n"
      ],
      "text/plain": [
       "   ANGEL2   SLC47A2  TNMD     MFSD11   HSD17B2 COX19    SNTG2    WDR72 TEF     \n",
       "V1 11.31380 5.997484 4.762127 10.07761 0       9.481220 3.380686 0     12.57796\n",
       "V2 11.38137 6.974851 0.000000 10.34961 0       9.558993 6.491342 0     12.85425\n",
       "   KRBOX4    ... MMD2     HSD17B6  GLUL     PRF1     ITGB5    ACSBG1   PPP1R3G \n",
       "V1  9.953742 ... 11.02428 10.07038 15.64456 6.075159 10.21540 10.90177 7.430492\n",
       "V2 10.305160 ... 11.45453 10.74483 15.57598 5.994629 10.18809 10.88782 7.779866\n",
       "   SLCO1C1  SLC25A33 EZR     \n",
       "V1 11.48960 11.21745 12.45869\n",
       "V2 11.51256 11.12242 12.72249"
      ]
     },
     "metadata": {},
     "output_type": "display_data"
    }
   ],
   "source": [
    "head(expr,2)"
   ]
  },
  {
   "cell_type": "code",
   "execution_count": 14,
   "id": "b02efadc-2a1c-4648-8368-f396b0465643",
   "metadata": {},
   "outputs": [
    {
     "data": {
      "text/html": [
       "<style>\n",
       ".list-inline {list-style: none; margin:0; padding: 0}\n",
       ".list-inline>li {display: inline-block}\n",
       ".list-inline>li:not(:last-child)::after {content: \"\\00b7\"; padding: 0 .5ex}\n",
       "</style>\n",
       "<ol class=list-inline><li>'control'</li><li>'control'</li><li>'control'</li><li>'control'</li><li>'control'</li><li>'control'</li><li>'control'</li><li>'control'</li><li>'control'</li><li>'control'</li><li>'control'</li><li>'control'</li><li>'control'</li><li>'control'</li><li>'control'</li><li>'control'</li><li>'control'</li><li>'control'</li><li>'control'</li><li>'control'</li><li>'control'</li><li>'control'</li><li>'control'</li><li>'control'</li><li>'control'</li><li>'control'</li><li>'control'</li><li>'control'</li><li>'control'</li><li>'MDD'</li><li>'MDD'</li><li>'MDD'</li><li>'MDD'</li><li>'MDD'</li><li>'MDD'</li><li>'MDD'</li><li>'MDD'</li><li>'MDD'</li><li>'MDD'</li><li>'MDD'</li><li>'MDD'</li><li>'MDD'</li><li>'MDD'</li><li>'MDD'</li><li>'MDD'</li><li>'MDD'</li><li>'MDD'</li><li>'MDD'</li><li>'MDD'</li><li>'MDD'</li><li>'MDD'</li><li>'MDD'</li><li>'MDD'</li><li>'MDD'</li><li>'MDD'</li><li>'MDD'</li><li>'MDD'</li><li>'MDD'</li><li>'MDD'</li></ol>\n"
      ],
      "text/latex": [
       "\\begin{enumerate*}\n",
       "\\item 'control'\n",
       "\\item 'control'\n",
       "\\item 'control'\n",
       "\\item 'control'\n",
       "\\item 'control'\n",
       "\\item 'control'\n",
       "\\item 'control'\n",
       "\\item 'control'\n",
       "\\item 'control'\n",
       "\\item 'control'\n",
       "\\item 'control'\n",
       "\\item 'control'\n",
       "\\item 'control'\n",
       "\\item 'control'\n",
       "\\item 'control'\n",
       "\\item 'control'\n",
       "\\item 'control'\n",
       "\\item 'control'\n",
       "\\item 'control'\n",
       "\\item 'control'\n",
       "\\item 'control'\n",
       "\\item 'control'\n",
       "\\item 'control'\n",
       "\\item 'control'\n",
       "\\item 'control'\n",
       "\\item 'control'\n",
       "\\item 'control'\n",
       "\\item 'control'\n",
       "\\item 'control'\n",
       "\\item 'MDD'\n",
       "\\item 'MDD'\n",
       "\\item 'MDD'\n",
       "\\item 'MDD'\n",
       "\\item 'MDD'\n",
       "\\item 'MDD'\n",
       "\\item 'MDD'\n",
       "\\item 'MDD'\n",
       "\\item 'MDD'\n",
       "\\item 'MDD'\n",
       "\\item 'MDD'\n",
       "\\item 'MDD'\n",
       "\\item 'MDD'\n",
       "\\item 'MDD'\n",
       "\\item 'MDD'\n",
       "\\item 'MDD'\n",
       "\\item 'MDD'\n",
       "\\item 'MDD'\n",
       "\\item 'MDD'\n",
       "\\item 'MDD'\n",
       "\\item 'MDD'\n",
       "\\item 'MDD'\n",
       "\\item 'MDD'\n",
       "\\item 'MDD'\n",
       "\\item 'MDD'\n",
       "\\item 'MDD'\n",
       "\\item 'MDD'\n",
       "\\item 'MDD'\n",
       "\\item 'MDD'\n",
       "\\item 'MDD'\n",
       "\\end{enumerate*}\n"
      ],
      "text/markdown": [
       "1. 'control'\n",
       "2. 'control'\n",
       "3. 'control'\n",
       "4. 'control'\n",
       "5. 'control'\n",
       "6. 'control'\n",
       "7. 'control'\n",
       "8. 'control'\n",
       "9. 'control'\n",
       "10. 'control'\n",
       "11. 'control'\n",
       "12. 'control'\n",
       "13. 'control'\n",
       "14. 'control'\n",
       "15. 'control'\n",
       "16. 'control'\n",
       "17. 'control'\n",
       "18. 'control'\n",
       "19. 'control'\n",
       "20. 'control'\n",
       "21. 'control'\n",
       "22. 'control'\n",
       "23. 'control'\n",
       "24. 'control'\n",
       "25. 'control'\n",
       "26. 'control'\n",
       "27. 'control'\n",
       "28. 'control'\n",
       "29. 'control'\n",
       "30. 'MDD'\n",
       "31. 'MDD'\n",
       "32. 'MDD'\n",
       "33. 'MDD'\n",
       "34. 'MDD'\n",
       "35. 'MDD'\n",
       "36. 'MDD'\n",
       "37. 'MDD'\n",
       "38. 'MDD'\n",
       "39. 'MDD'\n",
       "40. 'MDD'\n",
       "41. 'MDD'\n",
       "42. 'MDD'\n",
       "43. 'MDD'\n",
       "44. 'MDD'\n",
       "45. 'MDD'\n",
       "46. 'MDD'\n",
       "47. 'MDD'\n",
       "48. 'MDD'\n",
       "49. 'MDD'\n",
       "50. 'MDD'\n",
       "51. 'MDD'\n",
       "52. 'MDD'\n",
       "53. 'MDD'\n",
       "54. 'MDD'\n",
       "55. 'MDD'\n",
       "56. 'MDD'\n",
       "57. 'MDD'\n",
       "58. 'MDD'\n",
       "59. 'MDD'\n",
       "\n",
       "\n"
      ],
      "text/plain": [
       " [1] \"control\" \"control\" \"control\" \"control\" \"control\" \"control\" \"control\"\n",
       " [8] \"control\" \"control\" \"control\" \"control\" \"control\" \"control\" \"control\"\n",
       "[15] \"control\" \"control\" \"control\" \"control\" \"control\" \"control\" \"control\"\n",
       "[22] \"control\" \"control\" \"control\" \"control\" \"control\" \"control\" \"control\"\n",
       "[29] \"control\" \"MDD\"     \"MDD\"     \"MDD\"     \"MDD\"     \"MDD\"     \"MDD\"    \n",
       "[36] \"MDD\"     \"MDD\"     \"MDD\"     \"MDD\"     \"MDD\"     \"MDD\"     \"MDD\"    \n",
       "[43] \"MDD\"     \"MDD\"     \"MDD\"     \"MDD\"     \"MDD\"     \"MDD\"     \"MDD\"    \n",
       "[50] \"MDD\"     \"MDD\"     \"MDD\"     \"MDD\"     \"MDD\"     \"MDD\"     \"MDD\"    \n",
       "[57] \"MDD\"     \"MDD\"     \"MDD\"    "
      ]
     },
     "metadata": {},
     "output_type": "display_data"
    }
   ],
   "source": [
    "group"
   ]
  },
  {
   "cell_type": "code",
   "execution_count": 15,
   "id": "2eee39b6-631b-4401-b95b-2af80621cebb",
   "metadata": {},
   "outputs": [],
   "source": [
    "type = ifelse(group == 'MDD',1,0)"
   ]
  },
  {
   "cell_type": "code",
   "execution_count": 16,
   "id": "795e5c30-f515-4e7d-ac50-c9ca29d76412",
   "metadata": {},
   "outputs": [],
   "source": [
    "y = type"
   ]
  },
  {
   "cell_type": "code",
   "execution_count": 17,
   "id": "eaa19a78-9513-4174-8505-83793a58cd4f",
   "metadata": {},
   "outputs": [],
   "source": [
    "colnames(expr) = gsub('-','.',colnames(expr))"
   ]
  },
  {
   "cell_type": "code",
   "execution_count": 18,
   "id": "001f3957-9628-4e71-8f3c-da98bbc95760",
   "metadata": {},
   "outputs": [],
   "source": [
    "#expr <- expr[, !grepl(\"^\\\\d+\", names(expr))]"
   ]
  },
  {
   "cell_type": "code",
   "execution_count": 19,
   "id": "a6b9699b-d802-4efa-9213-675cea538c7f",
   "metadata": {},
   "outputs": [],
   "source": [
    "library(dplyr)"
   ]
  },
  {
   "cell_type": "code",
   "execution_count": 20,
   "id": "ab65721e-6b86-41ef-a50f-a498981a0e4c",
   "metadata": {},
   "outputs": [],
   "source": [
    "x = as.matrix(expr)\n",
    "y = y"
   ]
  },
  {
   "cell_type": "code",
   "execution_count": 21,
   "id": "169ffec6-1642-4189-bf9d-15da56264520",
   "metadata": {},
   "outputs": [
    {
     "name": "stderr",
     "output_type": "stream",
     "text": [
      "Warning message:\n",
      "\"package 'randomForest' was built under R version 4.2.3\"\n",
      "randomForest 4.7-1.1\n",
      "\n",
      "Type rfNews() to see new features/changes/bug fixes.\n",
      "\n",
      "\n",
      "Attaching package: 'randomForest'\n",
      "\n",
      "\n",
      "The following object is masked from 'package:ggplot2':\n",
      "\n",
      "    margin\n",
      "\n",
      "\n",
      "The following object is masked from 'package:dplyr':\n",
      "\n",
      "    combine\n",
      "\n",
      "\n"
     ]
    }
   ],
   "source": [
    "library(randomForest)"
   ]
  },
  {
   "cell_type": "code",
   "execution_count": 23,
   "id": "308b404e-eb61-4091-a9b8-9c1b6997575b",
   "metadata": {},
   "outputs": [],
   "source": [
    "library(dplyr)"
   ]
  },
  {
   "cell_type": "code",
   "execution_count": 24,
   "id": "a5921de0-76c9-49f1-9299-89c817a30fb3",
   "metadata": {},
   "outputs": [],
   "source": [
    "expr3 = cbind(y,x) %>%  as.data.frame()"
   ]
  },
  {
   "cell_type": "code",
   "execution_count": 25,
   "id": "d8c96c88-9216-46eb-a181-e851e4df2f7f",
   "metadata": {},
   "outputs": [],
   "source": [
    "colnames(expr3)[1] = 'Group'"
   ]
  },
  {
   "cell_type": "code",
   "execution_count": 26,
   "id": "9c3b879f-1b40-45f7-9aaa-f1909ee6aaf3",
   "metadata": {},
   "outputs": [],
   "source": [
    "expr4 = expr3 "
   ]
  },
  {
   "cell_type": "code",
   "execution_count": 27,
   "id": "5ef5cfa5-901b-4e64-9f10-8775cc89fce8",
   "metadata": {},
   "outputs": [
    {
     "data": {
      "text/html": [
       "<style>\n",
       ".list-inline {list-style: none; margin:0; padding: 0}\n",
       ".list-inline>li {display: inline-block}\n",
       ".list-inline>li:not(:last-child)::after {content: \"\\00b7\"; padding: 0 .5ex}\n",
       "</style>\n",
       "<ol class=list-inline><li>59</li><li>46</li></ol>\n"
      ],
      "text/latex": [
       "\\begin{enumerate*}\n",
       "\\item 59\n",
       "\\item 46\n",
       "\\end{enumerate*}\n"
      ],
      "text/markdown": [
       "1. 59\n",
       "2. 46\n",
       "\n",
       "\n"
      ],
      "text/plain": [
       "[1] 59 46"
      ]
     },
     "metadata": {},
     "output_type": "display_data"
    }
   ],
   "source": [
    "dim(expr4)"
   ]
  },
  {
   "cell_type": "code",
   "execution_count": 28,
   "id": "3a1d3b18-30f7-41d1-84f2-270cf330ef00",
   "metadata": {},
   "outputs": [],
   "source": [
    "data = expr3[,c('Group','SNTG2','WDR72','TEF')]"
   ]
  },
  {
   "cell_type": "code",
   "execution_count": 29,
   "id": "5d310a65-7e34-4067-835c-56d7037e0143",
   "metadata": {},
   "outputs": [
    {
     "name": "stderr",
     "output_type": "stream",
     "text": [
      "Setting levels: control = 0, case = 1\n",
      "\n",
      "Setting direction: controls < cases\n",
      "\n"
     ]
    },
    {
     "data": {
      "image/png": "[encoded data removed]",
      "text/plain": [
       "Plot with title \"\""
      ]
     },
     "metadata": {
      "image/png": {
       "height": 420,
       "width": 360
      }
     },
     "output_type": "display_data"
    }
   ],
   "source": [
    "fold_pre <- glm(Group~.,data=data,family=binomial())\n",
    "\n",
    "fold_predict <- predict(fold_pre,type='response',newdata=data)\n",
    "\n",
    "options(repr.plot.width = 6)\n",
    "roc_curve <- pROC::roc(as.numeric(data$Group),fold_predict)\n",
    "plot(roc_curve, print.auc=TRUE, auc.polygon=TRUE, grid=c(0.1, 0.2),\n",
    "     grid.col=c(\"green\", \"red\"), max.auc.polygon=TRUE,\n",
    "     auc.polygon.col=\"skyblue\", print.thres=TRUE,main=\"\")"
   ]
  },
  {
   "cell_type": "code",
   "execution_count": 30,
   "id": "100ee3d2-95c2-498a-b7f9-6873550b9891",
   "metadata": {},
   "outputs": [],
   "source": [
    "fold_pre <- glm(Group~.,data=data,family=binomial())\n",
    "fold_predict <- predict(fold_pre,type='response',newdata=data)"
   ]
  },
  {
   "cell_type": "code",
   "execution_count": 31,
   "id": "a4367244-0019-408f-ae37-e71fafe48327",
   "metadata": {},
   "outputs": [
    {
     "name": "stderr",
     "output_type": "stream",
     "text": [
      "Type 'citation(\"pROC\")' for a citation.\n",
      "\n",
      "\n",
      "Attaching package: 'pROC'\n",
      "\n",
      "\n",
      "The following objects are masked from 'package:stats':\n",
      "\n",
      "    cov, smooth, var\n",
      "\n",
      "\n"
     ]
    }
   ],
   "source": [
    "library(pROC)"
   ]
  },
  {
   "cell_type": "code",
   "execution_count": 32,
   "id": "0140f05b-e7ba-40d6-a48a-71e86bdfd8cc",
   "metadata": {},
   "outputs": [
    {
     "data": {
      "image/png": "[encoded data removed]",
      "text/plain": [
       "plot without title"
      ]
     },
     "metadata": {
      "image/png": {
       "height": 420,
       "width": 360
      }
     },
     "output_type": "display_data"
    }
   ],
   "source": [
    "rocobj1 <- plot.roc(data$Group, data$SNTG2,percent=TRUE, levels=c(0,1),direction=\"<\",col=\"#1c61b6\")\n",
    "rocobj2 <- lines.roc(data$Group, data$WDR72,percent=TRUE, levels=c(0,1),direction=\"<\", col=\"#008600\")\n",
    "rocobj3 <- lines.roc(data$Group, data$TEF,percent=TRUE, levels=c(0,1),direction=\"<\", col=\"#9C6D35\")\n",
    "\n",
    "rocobj5 <- lines.roc(data$Group, fold_predict,percent=TRUE, levels=c(0,1),direction=\"<\", col=\"#9F1A70\")\n",
    "\n",
    "legend(\"right\", legend=c(paste0(\"SNTG2 \", round(rocobj1$auc/100,digits = 2)),\n",
    "                               paste0(\"WDR72 \", round(rocobj2$auc/100,digits = 2)),\n",
    "                               paste0(\"TEF \", round(rocobj3$auc/100,digits = 2)),\n",
    "                               paste0(\"fold_predict \", round(rocobj5$auc/100,digits = 2))),\n",
    "       col=c(\"#1c61b6\", \"#008600\",\"#9C6D35\",\"#9F1A70\"), lwd=1)"
   ]
  },
  {
   "cell_type": "code",
   "execution_count": null,
   "id": "bd8bca7e-0acf-48eb-84e1-b3eeae29f1f9",
   "metadata": {},
   "outputs": [],
   "source": []
  },
  {
   "cell_type": "code",
   "execution_count": null,
   "id": "39d26c7c-bbde-41a9-939d-b62adef31be2",
   "metadata": {},
   "outputs": [],
   "source": []
  },
  {
   "cell_type": "code",
   "execution_count": null,
   "id": "07258007-9d27-40dd-8ae3-bf43c9ac7767",
   "metadata": {},
   "outputs": [],
   "source": []
  },
  {
   "cell_type": "code",
   "execution_count": null,
   "id": "604d2b46-0669-406e-bb0a-76448f93a06d",
   "metadata": {},
   "outputs": [],
   "source": []
  },
  {
   "cell_type": "code",
   "execution_count": null,
   "id": "e6390810-0854-4740-84e8-bca58a7fbe19",
   "metadata": {},
   "outputs": [],
   "source": []
  },
  {
   "cell_type": "code",
   "execution_count": null,
   "id": "8ae8e8d9-b1b7-42a9-bfec-a3370e3d81e6",
   "metadata": {},
   "outputs": [],
   "source": []
  },
  {
   "cell_type": "code",
   "execution_count": null,
   "id": "f6bfcf5d-5e14-4cc3-be61-2e5e65806021",
   "metadata": {},
   "outputs": [],
   "source": []
  },
  {
   "cell_type": "code",
   "execution_count": null,
   "id": "57cf4d6b-196b-42ca-9eb3-3f5bd19c38e7",
   "metadata": {},
   "outputs": [],
   "source": []
  },
  {
   "cell_type": "code",
   "execution_count": null,
   "id": "53e32996-610e-4048-9430-ead7fd338d0d",
   "metadata": {},
   "outputs": [],
   "source": []
  },
  {
   "cell_type": "code",
   "execution_count": null,
   "id": "f5591463-9826-4c0c-8b64-da452969e6aa",
   "metadata": {},
   "outputs": [],
   "source": []
  },
  {
   "cell_type": "code",
   "execution_count": null,
   "id": "223121c0-6932-4939-a6db-e1141c0b6cef",
   "metadata": {},
   "outputs": [],
   "source": []
  },
  {
   "cell_type": "code",
   "execution_count": null,
   "id": "ef69e81d-ef3d-452e-a6ec-adea912211ed",
   "metadata": {},
   "outputs": [],
   "source": []
  },
  {
   "cell_type": "code",
   "execution_count": null,
   "id": "d12c3cd9-afe1-4243-bf41-d13c10656ec0",
   "metadata": {},
   "outputs": [],
   "source": []
  },
  {
   "cell_type": "code",
   "execution_count": null,
   "id": "da797cd6-4a15-4f2e-ae5f-803966dc4326",
   "metadata": {},
   "outputs": [],
   "source": []
  },
  {
   "cell_type": "code",
   "execution_count": null,
   "id": "cfaefc02-953b-40db-8c6d-c3e11f286b60",
   "metadata": {},
   "outputs": [],
   "source": []
  },
  {
   "cell_type": "code",
   "execution_count": null,
   "id": "7c196a2f-e9dc-42f2-9536-42e40f16adcd",
   "metadata": {},
   "outputs": [],
   "source": []
  }
 ],
 "metadata": {
  "kernelspec": {
   "display_name": "R",
   "language": "R",
   "name": "ir"
  },
  "language_info": {
   "codemirror_mode": "r",
   "file_extension": ".r",
   "mimetype": "text/x-r-source",
   "name": "R",
   "pygments_lexer": "r",
   "version": "4.2.1"
  }
 },
 "nbformat": 4,
 "nbformat_minor": 5
}
