{
 "cells": [
  {
   "cell_type": "code",
   "execution_count": null,
   "id": "971e09f1-f071-4564-85c1-020f674d89f1",
   "metadata": {},
   "outputs": [],
   "source": [
    "# https://zhuanlan.zhihu.com/p/692810462 RF\n",
    "# https://zhuanlan.zhihu.com/p/692505141 SVM\n",
    "\n",
    "# https://zhuanlan.zhihu.com/p/112009086 Xboost"
   ]
  },
  {
   "cell_type": "code",
   "execution_count": 81,
   "id": "1d6a9177-4dba-46f0-a5b1-9215198d26d2",
   "metadata": {},
   "outputs": [],
   "source": [
    "setwd('/import/DB/fel/BJTC-204')"
   ]
  },
  {
   "cell_type": "code",
   "execution_count": 82,
   "id": "e88c0159-bfcf-4584-8c9b-d6e7b1ee5ac4",
   "metadata": {},
   "outputs": [],
   "source": [
    "load('./ene.rda')"
   ]
  },
  {
   "cell_type": "code",
   "execution_count": 83,
   "id": "c2b8724a-a93c-495f-abcf-093d7f3cd933",
   "metadata": {},
   "outputs": [
    {
     "data": {
      "text/html": [
       "<style>\n",
       ".list-inline {list-style: none; margin:0; padding: 0}\n",
       ".list-inline>li {display: inline-block}\n",
       ".list-inline>li:not(:last-child)::after {content: \"\\00b7\"; padding: 0 .5ex}\n",
       "</style>\n",
       "<ol class=list-inline><li>'Boruta.gene'</li><li>'ExtractVar'</li><li>'OR'</li><li>'Result'</li><li>'Uni_log'</li><li>'a'</li><li>'auc_value'</li><li>'b'</li><li>'b1'</li><li>'boruta'</li><li>'boruta.imp'</li><li>'boruta.variable.imp'</li><li>'boruta.variable.imp2'</li><li>'c'</li><li>'cliinfo'</li><li>'count'</li><li>'countdata'</li><li>'cv_fit'</li><li>'data'</li><li>'ene'</li><li>'expr'</li><li>'expr3'</li><li>'expr4'</li><li>'fit'</li><li>'fit.reduce'</li><li>'fitSum'</li><li>'fold_pre'</li><li>'fold_predict'</li><li>'fold_test'</li><li>'fold_train'</li><li>'folds'</li><li>'formatFit'</li><li>'fpkm'</li><li>'gene_1se'</li><li>'group'</li><li>'hg_len'</li><li>'i'</li><li>'importance'</li><li>'kb'</li><li>'len'</li><li>'logit.step'</li><li>'merge'</li><li>'model'</li><li>'model.gene'</li><li>'model3'</li><li>'model_lasso'</li><li>'model_pre'</li><li>'num'</li><li>'overall.log'</li><li>'p'</li><li>'res'</li><li>'result1'</li><li>'rf'</li><li>'rfGenes'</li><li>'roc_curve'</li><li>'rpk'</li><li>'s'</li><li>'test'</li><li>'tpm'</li><li>'train'</li><li>'trees'</li><li>'type'</li><li>'tzgene'</li><li>'varsU'</li><li>'x'</li><li>'y'</li></ol>\n"
      ],
      "text/latex": [
       "\\begin{enumerate*}\n",
       "\\item 'Boruta.gene'\n",
       "\\item 'ExtractVar'\n",
       "\\item 'OR'\n",
       "\\item 'Result'\n",
       "\\item 'Uni\\_log'\n",
       "\\item 'a'\n",
       "\\item 'auc\\_value'\n",
       "\\item 'b'\n",
       "\\item 'b1'\n",
       "\\item 'boruta'\n",
       "\\item 'boruta.imp'\n",
       "\\item 'boruta.variable.imp'\n",
       "\\item 'boruta.variable.imp2'\n",
       "\\item 'c'\n",
       "\\item 'cliinfo'\n",
       "\\item 'count'\n",
       "\\item 'countdata'\n",
       "\\item 'cv\\_fit'\n",
       "\\item 'data'\n",
       "\\item 'ene'\n",
       "\\item 'expr'\n",
       "\\item 'expr3'\n",
       "\\item 'expr4'\n",
       "\\item 'fit'\n",
       "\\item 'fit.reduce'\n",
       "\\item 'fitSum'\n",
       "\\item 'fold\\_pre'\n",
       "\\item 'fold\\_predict'\n",
       "\\item 'fold\\_test'\n",
       "\\item 'fold\\_train'\n",
       "\\item 'folds'\n",
       "\\item 'formatFit'\n",
       "\\item 'fpkm'\n",
       "\\item 'gene\\_1se'\n",
       "\\item 'group'\n",
       "\\item 'hg\\_len'\n",
       "\\item 'i'\n",
       "\\item 'importance'\n",
       "\\item 'kb'\n",
       "\\item 'len'\n",
       "\\item 'logit.step'\n",
       "\\item 'merge'\n",
       "\\item 'model'\n",
       "\\item 'model.gene'\n",
       "\\item 'model3'\n",
       "\\item 'model\\_lasso'\n",
       "\\item 'model\\_pre'\n",
       "\\item 'num'\n",
       "\\item 'overall.log'\n",
       "\\item 'p'\n",
       "\\item 'res'\n",
       "\\item 'result1'\n",
       "\\item 'rf'\n",
       "\\item 'rfGenes'\n",
       "\\item 'roc\\_curve'\n",
       "\\item 'rpk'\n",
       "\\item 's'\n",
       "\\item 'test'\n",
       "\\item 'tpm'\n",
       "\\item 'train'\n",
       "\\item 'trees'\n",
       "\\item 'type'\n",
       "\\item 'tzgene'\n",
       "\\item 'varsU'\n",
       "\\item 'x'\n",
       "\\item 'y'\n",
       "\\end{enumerate*}\n"
      ],
      "text/markdown": [
       "1. 'Boruta.gene'\n",
       "2. 'ExtractVar'\n",
       "3. 'OR'\n",
       "4. 'Result'\n",
       "5. 'Uni_log'\n",
       "6. 'a'\n",
       "7. 'auc_value'\n",
       "8. 'b'\n",
       "9. 'b1'\n",
       "10. 'boruta'\n",
       "11. 'boruta.imp'\n",
       "12. 'boruta.variable.imp'\n",
       "13. 'boruta.variable.imp2'\n",
       "14. 'c'\n",
       "15. 'cliinfo'\n",
       "16. 'count'\n",
       "17. 'countdata'\n",
       "18. 'cv_fit'\n",
       "19. 'data'\n",
       "20. 'ene'\n",
       "21. 'expr'\n",
       "22. 'expr3'\n",
       "23. 'expr4'\n",
       "24. 'fit'\n",
       "25. 'fit.reduce'\n",
       "26. 'fitSum'\n",
       "27. 'fold_pre'\n",
       "28. 'fold_predict'\n",
       "29. 'fold_test'\n",
       "30. 'fold_train'\n",
       "31. 'folds'\n",
       "32. 'formatFit'\n",
       "33. 'fpkm'\n",
       "34. 'gene_1se'\n",
       "35. 'group'\n",
       "36. 'hg_len'\n",
       "37. 'i'\n",
       "38. 'importance'\n",
       "39. 'kb'\n",
       "40. 'len'\n",
       "41. 'logit.step'\n",
       "42. 'merge'\n",
       "43. 'model'\n",
       "44. 'model.gene'\n",
       "45. 'model3'\n",
       "46. 'model_lasso'\n",
       "47. 'model_pre'\n",
       "48. 'num'\n",
       "49. 'overall.log'\n",
       "50. 'p'\n",
       "51. 'res'\n",
       "52. 'result1'\n",
       "53. 'rf'\n",
       "54. 'rfGenes'\n",
       "55. 'roc_curve'\n",
       "56. 'rpk'\n",
       "57. 's'\n",
       "58. 'test'\n",
       "59. 'tpm'\n",
       "60. 'train'\n",
       "61. 'trees'\n",
       "62. 'type'\n",
       "63. 'tzgene'\n",
       "64. 'varsU'\n",
       "65. 'x'\n",
       "66. 'y'\n",
       "\n",
       "\n"
      ],
      "text/plain": [
       " [1] \"Boruta.gene\"          \"ExtractVar\"           \"OR\"                  \n",
       " [4] \"Result\"               \"Uni_log\"              \"a\"                   \n",
       " [7] \"auc_value\"            \"b\"                    \"b1\"                  \n",
       "[10] \"boruta\"               \"boruta.imp\"           \"boruta.variable.imp\" \n",
       "[13] \"boruta.variable.imp2\" \"c\"                    \"cliinfo\"             \n",
       "[16] \"count\"                \"countdata\"            \"cv_fit\"              \n",
       "[19] \"data\"                 \"ene\"                  \"expr\"                \n",
       "[22] \"expr3\"                \"expr4\"                \"fit\"                 \n",
       "[25] \"fit.reduce\"           \"fitSum\"               \"fold_pre\"            \n",
       "[28] \"fold_predict\"         \"fold_test\"            \"fold_train\"          \n",
       "[31] \"folds\"                \"formatFit\"            \"fpkm\"                \n",
       "[34] \"gene_1se\"             \"group\"                \"hg_len\"              \n",
       "[37] \"i\"                    \"importance\"           \"kb\"                  \n",
       "[40] \"len\"                  \"logit.step\"           \"merge\"               \n",
       "[43] \"model\"                \"model.gene\"           \"model3\"              \n",
       "[46] \"model_lasso\"          \"model_pre\"            \"num\"                 \n",
       "[49] \"overall.log\"          \"p\"                    \"res\"                 \n",
       "[52] \"result1\"              \"rf\"                   \"rfGenes\"             \n",
       "[55] \"roc_curve\"            \"rpk\"                  \"s\"                   \n",
       "[58] \"test\"                 \"tpm\"                  \"train\"               \n",
       "[61] \"trees\"                \"type\"                 \"tzgene\"              \n",
       "[64] \"varsU\"                \"x\"                    \"y\"                   "
      ]
     },
     "metadata": {},
     "output_type": "display_data"
    }
   ],
   "source": [
    "ls()"
   ]
  },
  {
   "cell_type": "code",
   "execution_count": null,
   "id": "b3b57f45-476e-4cb2-9316-d33bc2cfc9db",
   "metadata": {},
   "outputs": [],
   "source": []
  },
  {
   "cell_type": "code",
   "execution_count": 84,
   "id": "7db81b7a-5622-4855-af74-ec5a62f33138",
   "metadata": {},
   "outputs": [],
   "source": [
    "library(dplyr)"
   ]
  },
  {
   "cell_type": "code",
   "execution_count": 181,
   "id": "5596c081-5271-4154-9682-fdc52c1e41cc",
   "metadata": {},
   "outputs": [
    {
     "data": {
      "text/html": [
       "<table class=\"dataframe\">\n",
       "<caption>A data.frame: 6 x 48</caption>\n",
       "<thead>\n",
       "\t<tr><th></th><th scope=col>SL32230</th><th scope=col>SL32231</th><th scope=col>SL32242</th><th scope=col>SL32243</th><th scope=col>SL32244</th><th scope=col>SL32245</th><th scope=col>SL32246</th><th scope=col>SL32247</th><th scope=col>SL32248</th><th scope=col>SL32249</th><th scope=col>...</th><th scope=col>SL7404</th><th scope=col>SL7614</th><th scope=col>SL7625</th><th scope=col>SL7632</th><th scope=col>SL7698</th><th scope=col>SL7801</th><th scope=col>SL7804</th><th scope=col>SL7806</th><th scope=col>SL7807</th><th scope=col>Length</th></tr>\n",
       "\t<tr><th></th><th scope=col>&lt;int&gt;</th><th scope=col>&lt;int&gt;</th><th scope=col>&lt;int&gt;</th><th scope=col>&lt;int&gt;</th><th scope=col>&lt;int&gt;</th><th scope=col>&lt;int&gt;</th><th scope=col>&lt;int&gt;</th><th scope=col>&lt;int&gt;</th><th scope=col>&lt;int&gt;</th><th scope=col>&lt;int&gt;</th><th scope=col>...</th><th scope=col>&lt;int&gt;</th><th scope=col>&lt;int&gt;</th><th scope=col>&lt;int&gt;</th><th scope=col>&lt;int&gt;</th><th scope=col>&lt;int&gt;</th><th scope=col>&lt;int&gt;</th><th scope=col>&lt;int&gt;</th><th scope=col>&lt;int&gt;</th><th scope=col>&lt;int&gt;</th><th scope=col>&lt;int&gt;</th></tr>\n",
       "</thead>\n",
       "<tbody>\n",
       "\t<tr><th scope=row>ANGEL2</th><td>1209</td><td>828</td><td>740</td><td>580</td><td>705</td><td>779</td><td>865</td><td>785</td><td>727</td><td>890</td><td>...</td><td>797</td><td>1093</td><td>1467</td><td>1367</td><td>985</td><td>406</td><td>1510</td><td>1592</td><td>777</td><td>7276</td></tr>\n",
       "\t<tr><th scope=row>SLC47A2</th><td> 112</td><td> 70</td><td> 70</td><td> 39</td><td> 45</td><td> 46</td><td> 83</td><td> 43</td><td> 67</td><td> 45</td><td>...</td><td> 45</td><td>  41</td><td>  75</td><td>  85</td><td> 79</td><td> 33</td><td> 102</td><td> 127</td><td> 67</td><td>6691</td></tr>\n",
       "\t<tr><th scope=row>TNMD</th><td>   3</td><td>  2</td><td>  3</td><td>  2</td><td>  0</td><td>  4</td><td>  4</td><td>  5</td><td>  3</td><td>  4</td><td>...</td><td>  5</td><td>   8</td><td>   1</td><td>   4</td><td>  5</td><td>  1</td><td>   3</td><td>   9</td><td>  4</td><td>1610</td></tr>\n",
       "\t<tr><th scope=row>MFSD11</th><td> 554</td><td>515</td><td>491</td><td>385</td><td>454</td><td>593</td><td>532</td><td>461</td><td>520</td><td>525</td><td>...</td><td>788</td><td> 920</td><td> 947</td><td>1018</td><td>849</td><td>378</td><td>1059</td><td>1143</td><td>649</td><td>6587</td></tr>\n",
       "\t<tr><th scope=row>HSD17B2</th><td>   0</td><td>  0</td><td>  0</td><td>  0</td><td>  0</td><td>  0</td><td>  0</td><td>  0</td><td>  0</td><td>  0</td><td>...</td><td>  2</td><td>   0</td><td>   2</td><td>   0</td><td>  1</td><td>  0</td><td>   2</td><td>   2</td><td>  1</td><td>9550</td></tr>\n",
       "\t<tr><th scope=row>COX19</th><td> 959</td><td>473</td><td>489</td><td>408</td><td>511</td><td>543</td><td>622</td><td>485</td><td>586</td><td>634</td><td>...</td><td>936</td><td> 756</td><td>1087</td><td> 864</td><td>974</td><td>365</td><td> 894</td><td>1114</td><td>649</td><td>5542</td></tr>\n",
       "</tbody>\n",
       "</table>\n"
      ],
      "text/latex": [
       "A data.frame: 6 x 48\n",
       "\\begin{tabular}{r|lllllllllllllllllllll}\n",
       "  & SL32230 & SL32231 & SL32242 & SL32243 & SL32244 & SL32245 & SL32246 & SL32247 & SL32248 & SL32249 & ... & SL7404 & SL7614 & SL7625 & SL7632 & SL7698 & SL7801 & SL7804 & SL7806 & SL7807 & Length\\\\\n",
       "  & <int> & <int> & <int> & <int> & <int> & <int> & <int> & <int> & <int> & <int> & ... & <int> & <int> & <int> & <int> & <int> & <int> & <int> & <int> & <int> & <int>\\\\\n",
       "\\hline\n",
       "\tANGEL2 & 1209 & 828 & 740 & 580 & 705 & 779 & 865 & 785 & 727 & 890 & ... & 797 & 1093 & 1467 & 1367 & 985 & 406 & 1510 & 1592 & 777 & 7276\\\\\n",
       "\tSLC47A2 &  112 &  70 &  70 &  39 &  45 &  46 &  83 &  43 &  67 &  45 & ... &  45 &   41 &   75 &   85 &  79 &  33 &  102 &  127 &  67 & 6691\\\\\n",
       "\tTNMD &    3 &   2 &   3 &   2 &   0 &   4 &   4 &   5 &   3 &   4 & ... &   5 &    8 &    1 &    4 &   5 &   1 &    3 &    9 &   4 & 1610\\\\\n",
       "\tMFSD11 &  554 & 515 & 491 & 385 & 454 & 593 & 532 & 461 & 520 & 525 & ... & 788 &  920 &  947 & 1018 & 849 & 378 & 1059 & 1143 & 649 & 6587\\\\\n",
       "\tHSD17B2 &    0 &   0 &   0 &   0 &   0 &   0 &   0 &   0 &   0 &   0 & ... &   2 &    0 &    2 &    0 &   1 &   0 &    2 &    2 &   1 & 9550\\\\\n",
       "\tCOX19 &  959 & 473 & 489 & 408 & 511 & 543 & 622 & 485 & 586 & 634 & ... & 936 &  756 & 1087 &  864 & 974 & 365 &  894 & 1114 & 649 & 5542\\\\\n",
       "\\end{tabular}\n"
      ],
      "text/markdown": [
       "\n",
       "A data.frame: 6 x 48\n",
       "\n",
       "| <!--/--> | SL32230 &lt;int&gt; | SL32231 &lt;int&gt; | SL32242 &lt;int&gt; | SL32243 &lt;int&gt; | SL32244 &lt;int&gt; | SL32245 &lt;int&gt; | SL32246 &lt;int&gt; | SL32247 &lt;int&gt; | SL32248 &lt;int&gt; | SL32249 &lt;int&gt; | ... ... | SL7404 &lt;int&gt; | SL7614 &lt;int&gt; | SL7625 &lt;int&gt; | SL7632 &lt;int&gt; | SL7698 &lt;int&gt; | SL7801 &lt;int&gt; | SL7804 &lt;int&gt; | SL7806 &lt;int&gt; | SL7807 &lt;int&gt; | Length &lt;int&gt; |\n",
       "|---|---|---|---|---|---|---|---|---|---|---|---|---|---|---|---|---|---|---|---|---|---|\n",
       "| ANGEL2 | 1209 | 828 | 740 | 580 | 705 | 779 | 865 | 785 | 727 | 890 | ... | 797 | 1093 | 1467 | 1367 | 985 | 406 | 1510 | 1592 | 777 | 7276 |\n",
       "| SLC47A2 |  112 |  70 |  70 |  39 |  45 |  46 |  83 |  43 |  67 |  45 | ... |  45 |   41 |   75 |   85 |  79 |  33 |  102 |  127 |  67 | 6691 |\n",
       "| TNMD |    3 |   2 |   3 |   2 |   0 |   4 |   4 |   5 |   3 |   4 | ... |   5 |    8 |    1 |    4 |   5 |   1 |    3 |    9 |   4 | 1610 |\n",
       "| MFSD11 |  554 | 515 | 491 | 385 | 454 | 593 | 532 | 461 | 520 | 525 | ... | 788 |  920 |  947 | 1018 | 849 | 378 | 1059 | 1143 | 649 | 6587 |\n",
       "| HSD17B2 |    0 |   0 |   0 |   0 |   0 |   0 |   0 |   0 |   0 |   0 | ... |   2 |    0 |    2 |    0 |   1 |   0 |    2 |    2 |   1 | 9550 |\n",
       "| COX19 |  959 | 473 | 489 | 408 | 511 | 543 | 622 | 485 | 586 | 634 | ... | 936 |  756 | 1087 |  864 | 974 | 365 |  894 | 1114 | 649 | 5542 |\n",
       "\n"
      ],
      "text/plain": [
       "        SL32230 SL32231 SL32242 SL32243 SL32244 SL32245 SL32246 SL32247 SL32248\n",
       "ANGEL2  1209    828     740     580     705     779     865     785     727    \n",
       "SLC47A2  112     70      70      39      45      46      83      43      67    \n",
       "TNMD       3      2       3       2       0       4       4       5       3    \n",
       "MFSD11   554    515     491     385     454     593     532     461     520    \n",
       "HSD17B2    0      0       0       0       0       0       0       0       0    \n",
       "COX19    959    473     489     408     511     543     622     485     586    \n",
       "        SL32249 ... SL7404 SL7614 SL7625 SL7632 SL7698 SL7801 SL7804 SL7806\n",
       "ANGEL2  890     ... 797    1093   1467   1367   985    406    1510   1592  \n",
       "SLC47A2  45     ...  45      41     75     85    79     33     102    127  \n",
       "TNMD      4     ...   5       8      1      4     5      1       3      9  \n",
       "MFSD11  525     ... 788     920    947   1018   849    378    1059   1143  \n",
       "HSD17B2   0     ...   2       0      2      0     1      0       2      2  \n",
       "COX19   634     ... 936     756   1087    864   974    365     894   1114  \n",
       "        SL7807 Length\n",
       "ANGEL2  777    7276  \n",
       "SLC47A2  67    6691  \n",
       "TNMD      4    1610  \n",
       "MFSD11  649    6587  \n",
       "HSD17B2   1    9550  \n",
       "COX19   649    5542  "
      ]
     },
     "metadata": {},
     "output_type": "display_data"
    },
    {
     "data": {
      "text/html": [
       "<style>\n",
       ".list-inline {list-style: none; margin:0; padding: 0}\n",
       ".list-inline>li {display: inline-block}\n",
       ".list-inline>li:not(:last-child)::after {content: \"\\00b7\"; padding: 0 .5ex}\n",
       "</style>\n",
       "<ol class=list-inline><li>45</li><li>48</li></ol>\n"
      ],
      "text/latex": [
       "\\begin{enumerate*}\n",
       "\\item 45\n",
       "\\item 48\n",
       "\\end{enumerate*}\n"
      ],
      "text/markdown": [
       "1. 45\n",
       "2. 48\n",
       "\n",
       "\n"
      ],
      "text/plain": [
       "[1] 45 48"
      ]
     },
     "metadata": {},
     "output_type": "display_data"
    },
    {
     "data": {
      "text/html": [
       "<table class=\"dataframe\">\n",
       "<caption>A matrix: 6 x 47 of type dbl</caption>\n",
       "<thead>\n",
       "\t<tr><th></th><th scope=col>SL32230</th><th scope=col>SL32231</th><th scope=col>SL32242</th><th scope=col>SL32243</th><th scope=col>SL32244</th><th scope=col>SL32245</th><th scope=col>SL32246</th><th scope=col>SL32247</th><th scope=col>SL32248</th><th scope=col>SL32249</th><th scope=col>...</th><th scope=col>SL7403</th><th scope=col>SL7404</th><th scope=col>SL7614</th><th scope=col>SL7625</th><th scope=col>SL7632</th><th scope=col>SL7698</th><th scope=col>SL7801</th><th scope=col>SL7804</th><th scope=col>SL7806</th><th scope=col>SL7807</th></tr>\n",
       "</thead>\n",
       "<tbody>\n",
       "\t<tr><th scope=row>ANGEL2</th><td>11.206205</td><td>10.851486</td><td>10.539424</td><td>9.772272</td><td>10.765445</td><td>11.064186</td><td>10.875533</td><td>10.209619</td><td>11.008940</td><td>10.827082</td><td>...</td><td>10.319380</td><td>10.350481</td><td>10.335481</td><td>10.723707</td><td>10.914867</td><td>11.077261</td><td>11.198733</td><td>10.947178</td><td>10.738925</td><td>11.087657</td></tr>\n",
       "\t<tr><th scope=row>SLC47A2</th><td> 7.900326</td><td> 7.415898</td><td> 7.266679</td><td>6.019452</td><td> 6.927812</td><td> 7.112978</td><td> 7.621517</td><td> 6.159366</td><td> 7.696414</td><td> 6.655782</td><td>...</td><td> 5.690796</td><td> 6.341616</td><td> 5.745899</td><td> 6.569217</td><td> 7.038652</td><td> 7.564957</td><td> 7.705032</td><td> 7.189382</td><td> 7.220769</td><td> 7.679291</td></tr>\n",
       "\t<tr><th scope=row>TNMD</th><td> 4.780515</td><td> 4.403153</td><td> 4.820117</td><td>3.869072</td><td> 0.000000</td><td> 5.662878</td><td> 5.330598</td><td> 5.131615</td><td> 5.300554</td><td> 5.243310</td><td>...</td><td> 4.639332</td><td> 5.247440</td><td> 5.449764</td><td> 2.633756</td><td> 4.728865</td><td> 5.659456</td><td> 4.763004</td><td> 4.226371</td><td> 5.480154</td><td> 5.689537</td></tr>\n",
       "\t<tr><th scope=row>MFSD11</th><td>10.224469</td><td>10.310308</td><td>10.091499</td><td>9.325202</td><td>10.274375</td><td>10.814246</td><td>10.318146</td><td> 9.585876</td><td>10.669207</td><td>10.209542</td><td>...</td><td> 9.538315</td><td>10.477528</td><td>10.230502</td><td>10.236142</td><td>10.633277</td><td>11.006460</td><td>11.239147</td><td>10.579068</td><td>10.404654</td><td>10.971540</td></tr>\n",
       "\t<tr><th scope=row>HSD17B2</th><td> 0.000000</td><td> 0.000000</td><td> 0.000000</td><td>0.000000</td><td> 0.000000</td><td> 0.000000</td><td> 0.000000</td><td> 0.000000</td><td> 0.000000</td><td> 0.000000</td><td>...</td><td> 0.000000</td><td> 1.804967</td><td> 0.000000</td><td> 1.462291</td><td> 0.000000</td><td> 1.417096</td><td> 0.000000</td><td> 1.580805</td><td> 1.397685</td><td> 1.647534</td></tr>\n",
       "\t<tr><th scope=row>COX19</th><td>11.264708</td><td>10.436695</td><td>10.334620</td><td>9.657664</td><td>10.693926</td><td>10.936316</td><td>10.792532</td><td> 9.907933</td><td>11.090586</td><td>10.730553</td><td>...</td><td> 9.838496</td><td>10.974760</td><td>10.196498</td><td>10.683953</td><td>10.645849</td><td>11.453645</td><td>11.437795</td><td>10.583924</td><td>10.616647</td><td>11.220641</td></tr>\n",
       "</tbody>\n",
       "</table>\n"
      ],
      "text/latex": [
       "A matrix: 6 x 47 of type dbl\n",
       "\\begin{tabular}{r|lllllllllllllllllllll}\n",
       "  & SL32230 & SL32231 & SL32242 & SL32243 & SL32244 & SL32245 & SL32246 & SL32247 & SL32248 & SL32249 & ... & SL7403 & SL7404 & SL7614 & SL7625 & SL7632 & SL7698 & SL7801 & SL7804 & SL7806 & SL7807\\\\\n",
       "\\hline\n",
       "\tANGEL2 & 11.206205 & 10.851486 & 10.539424 & 9.772272 & 10.765445 & 11.064186 & 10.875533 & 10.209619 & 11.008940 & 10.827082 & ... & 10.319380 & 10.350481 & 10.335481 & 10.723707 & 10.914867 & 11.077261 & 11.198733 & 10.947178 & 10.738925 & 11.087657\\\\\n",
       "\tSLC47A2 &  7.900326 &  7.415898 &  7.266679 & 6.019452 &  6.927812 &  7.112978 &  7.621517 &  6.159366 &  7.696414 &  6.655782 & ... &  5.690796 &  6.341616 &  5.745899 &  6.569217 &  7.038652 &  7.564957 &  7.705032 &  7.189382 &  7.220769 &  7.679291\\\\\n",
       "\tTNMD &  4.780515 &  4.403153 &  4.820117 & 3.869072 &  0.000000 &  5.662878 &  5.330598 &  5.131615 &  5.300554 &  5.243310 & ... &  4.639332 &  5.247440 &  5.449764 &  2.633756 &  4.728865 &  5.659456 &  4.763004 &  4.226371 &  5.480154 &  5.689537\\\\\n",
       "\tMFSD11 & 10.224469 & 10.310308 & 10.091499 & 9.325202 & 10.274375 & 10.814246 & 10.318146 &  9.585876 & 10.669207 & 10.209542 & ... &  9.538315 & 10.477528 & 10.230502 & 10.236142 & 10.633277 & 11.006460 & 11.239147 & 10.579068 & 10.404654 & 10.971540\\\\\n",
       "\tHSD17B2 &  0.000000 &  0.000000 &  0.000000 & 0.000000 &  0.000000 &  0.000000 &  0.000000 &  0.000000 &  0.000000 &  0.000000 & ... &  0.000000 &  1.804967 &  0.000000 &  1.462291 &  0.000000 &  1.417096 &  0.000000 &  1.580805 &  1.397685 &  1.647534\\\\\n",
       "\tCOX19 & 11.264708 & 10.436695 & 10.334620 & 9.657664 & 10.693926 & 10.936316 & 10.792532 &  9.907933 & 11.090586 & 10.730553 & ... &  9.838496 & 10.974760 & 10.196498 & 10.683953 & 10.645849 & 11.453645 & 11.437795 & 10.583924 & 10.616647 & 11.220641\\\\\n",
       "\\end{tabular}\n"
      ],
      "text/markdown": [
       "\n",
       "A matrix: 6 x 47 of type dbl\n",
       "\n",
       "| <!--/--> | SL32230 | SL32231 | SL32242 | SL32243 | SL32244 | SL32245 | SL32246 | SL32247 | SL32248 | SL32249 | ... | SL7403 | SL7404 | SL7614 | SL7625 | SL7632 | SL7698 | SL7801 | SL7804 | SL7806 | SL7807 |\n",
       "|---|---|---|---|---|---|---|---|---|---|---|---|---|---|---|---|---|---|---|---|---|---|\n",
       "| ANGEL2 | 11.206205 | 10.851486 | 10.539424 | 9.772272 | 10.765445 | 11.064186 | 10.875533 | 10.209619 | 11.008940 | 10.827082 | ... | 10.319380 | 10.350481 | 10.335481 | 10.723707 | 10.914867 | 11.077261 | 11.198733 | 10.947178 | 10.738925 | 11.087657 |\n",
       "| SLC47A2 |  7.900326 |  7.415898 |  7.266679 | 6.019452 |  6.927812 |  7.112978 |  7.621517 |  6.159366 |  7.696414 |  6.655782 | ... |  5.690796 |  6.341616 |  5.745899 |  6.569217 |  7.038652 |  7.564957 |  7.705032 |  7.189382 |  7.220769 |  7.679291 |\n",
       "| TNMD |  4.780515 |  4.403153 |  4.820117 | 3.869072 |  0.000000 |  5.662878 |  5.330598 |  5.131615 |  5.300554 |  5.243310 | ... |  4.639332 |  5.247440 |  5.449764 |  2.633756 |  4.728865 |  5.659456 |  4.763004 |  4.226371 |  5.480154 |  5.689537 |\n",
       "| MFSD11 | 10.224469 | 10.310308 | 10.091499 | 9.325202 | 10.274375 | 10.814246 | 10.318146 |  9.585876 | 10.669207 | 10.209542 | ... |  9.538315 | 10.477528 | 10.230502 | 10.236142 | 10.633277 | 11.006460 | 11.239147 | 10.579068 | 10.404654 | 10.971540 |\n",
       "| HSD17B2 |  0.000000 |  0.000000 |  0.000000 | 0.000000 |  0.000000 |  0.000000 |  0.000000 |  0.000000 |  0.000000 |  0.000000 | ... |  0.000000 |  1.804967 |  0.000000 |  1.462291 |  0.000000 |  1.417096 |  0.000000 |  1.580805 |  1.397685 |  1.647534 |\n",
       "| COX19 | 11.264708 | 10.436695 | 10.334620 | 9.657664 | 10.693926 | 10.936316 | 10.792532 |  9.907933 | 11.090586 | 10.730553 | ... |  9.838496 | 10.974760 | 10.196498 | 10.683953 | 10.645849 | 11.453645 | 11.437795 | 10.583924 | 10.616647 | 11.220641 |\n",
       "\n"
      ],
      "text/plain": [
       "        SL32230   SL32231   SL32242   SL32243  SL32244   SL32245   SL32246  \n",
       "ANGEL2  11.206205 10.851486 10.539424 9.772272 10.765445 11.064186 10.875533\n",
       "SLC47A2  7.900326  7.415898  7.266679 6.019452  6.927812  7.112978  7.621517\n",
       "TNMD     4.780515  4.403153  4.820117 3.869072  0.000000  5.662878  5.330598\n",
       "MFSD11  10.224469 10.310308 10.091499 9.325202 10.274375 10.814246 10.318146\n",
       "HSD17B2  0.000000  0.000000  0.000000 0.000000  0.000000  0.000000  0.000000\n",
       "COX19   11.264708 10.436695 10.334620 9.657664 10.693926 10.936316 10.792532\n",
       "        SL32247   SL32248   SL32249   ... SL7403    SL7404    SL7614   \n",
       "ANGEL2  10.209619 11.008940 10.827082 ... 10.319380 10.350481 10.335481\n",
       "SLC47A2  6.159366  7.696414  6.655782 ...  5.690796  6.341616  5.745899\n",
       "TNMD     5.131615  5.300554  5.243310 ...  4.639332  5.247440  5.449764\n",
       "MFSD11   9.585876 10.669207 10.209542 ...  9.538315 10.477528 10.230502\n",
       "HSD17B2  0.000000  0.000000  0.000000 ...  0.000000  1.804967  0.000000\n",
       "COX19    9.907933 11.090586 10.730553 ...  9.838496 10.974760 10.196498\n",
       "        SL7625    SL7632    SL7698    SL7801    SL7804    SL7806    SL7807   \n",
       "ANGEL2  10.723707 10.914867 11.077261 11.198733 10.947178 10.738925 11.087657\n",
       "SLC47A2  6.569217  7.038652  7.564957  7.705032  7.189382  7.220769  7.679291\n",
       "TNMD     2.633756  4.728865  5.659456  4.763004  4.226371  5.480154  5.689537\n",
       "MFSD11  10.236142 10.633277 11.006460 11.239147 10.579068 10.404654 10.971540\n",
       "HSD17B2  1.462291  0.000000  1.417096  0.000000  1.580805  1.397685  1.647534\n",
       "COX19   10.683953 10.645849 11.453645 11.437795 10.583924 10.616647 11.220641"
      ]
     },
     "metadata": {},
     "output_type": "display_data"
    }
   ],
   "source": [
    "expr = count[ene,] %>% tibble::rownames_to_column(.,'Gene')\n",
    "\n",
    "hg_len = 'All_hg19gene_len.txt'\n",
    "\n",
    "len = read.table(hg_len,header =T,sep = '\\t')\n",
    "library(tidyverse)\n",
    "library(dplyr)\n",
    "merge<-left_join(expr,len,by=\"Gene\")\n",
    "merge <- na.omit(merge)#删除错误值行​\n",
    "rownames(merge)<-merge[,1]\n",
    "\n",
    "\n",
    "merge<-merge[,-1]\n",
    "head(merge)#最后一列Length是基因长度​\n",
    "kb <- merge$Length/1000\n",
    "dim(merge)\n",
    "countdata <- merge[,1:dim(merge)[2]-1]\n",
    "rpk <- countdata /kb\n",
    "tpm <- t(t(rpk)/colSums(rpk) * 1000000)\n",
    "\n",
    "fpkm <- log2(t(t(rpk)/colSums(countdata) * 10^6)+1)\n",
    "fpkm1 <- t(t(rpk)/colSums(countdata) * 10^6)\n",
    "head(fpkm)\n",
    "\n",
    "expr = fpkm %>% t() %>%  as.data.frame()"
   ]
  },
  {
   "cell_type": "code",
   "execution_count": 183,
   "id": "6af80c2d-5a38-4dea-ac16-2281fc776103",
   "metadata": {},
   "outputs": [],
   "source": [
    "save(fpkm1,cliinfo,file = 'wgcna.rda')"
   ]
  },
  {
   "cell_type": "code",
   "execution_count": null,
   "id": "faeb18c1-5370-40f7-a64e-458a82aaeb70",
   "metadata": {},
   "outputs": [],
   "source": []
  },
  {
   "cell_type": "code",
   "execution_count": 228,
   "id": "0cfa6659-37df-4738-a48b-7c863cd7fe51",
   "metadata": {},
   "outputs": [
    {
     "data": {
      "text/html": [
       "<table class=\"dataframe\">\n",
       "<caption>A data.frame: 47 x 6</caption>\n",
       "<thead>\n",
       "\t<tr><th></th><th scope=col>V1</th><th scope=col>V2</th><th scope=col>V3</th><th scope=col>V4</th><th scope=col>V5</th><th scope=col>V6</th></tr>\n",
       "\t<tr><th></th><th scope=col>&lt;chr&gt;</th><th scope=col>&lt;int&gt;</th><th scope=col>&lt;chr&gt;</th><th scope=col>&lt;chr&gt;</th><th scope=col>&lt;chr&gt;</th><th scope=col>&lt;chr&gt;</th></tr>\n",
       "</thead>\n",
       "<tbody>\n",
       "\t<tr><th scope=row>SL32230</th><td>SL32230</td><td>48</td><td>MD     </td><td>F</td><td>X3004</td><td>DLPFC</td></tr>\n",
       "\t<tr><th scope=row>SL32231</th><td>SL32231</td><td>46</td><td>MD     </td><td>M</td><td>X3064</td><td>DLPFC</td></tr>\n",
       "\t<tr><th scope=row>SL32242</th><td>SL32242</td><td>32</td><td>Control</td><td>M</td><td>X3186</td><td>DLPFC</td></tr>\n",
       "\t<tr><th scope=row>SL32243</th><td>SL32243</td><td>44</td><td>Control</td><td>M</td><td>X3196</td><td>DLPFC</td></tr>\n",
       "\t<tr><th scope=row>SL32244</th><td>SL32244</td><td>35</td><td>Control</td><td>M</td><td>X3275</td><td>DLPFC</td></tr>\n",
       "\t<tr><th scope=row>SL32245</th><td>SL32245</td><td>66</td><td>MD     </td><td>M</td><td>X3481</td><td>DLPFC</td></tr>\n",
       "\t<tr><th scope=row>SL32246</th><td>SL32246</td><td>44</td><td>MD     </td><td>F</td><td>X3671</td><td>DLPFC</td></tr>\n",
       "\t<tr><th scope=row>SL32247</th><td>SL32247</td><td>56</td><td>MD     </td><td>M</td><td>X3710</td><td>DLPFC</td></tr>\n",
       "\t<tr><th scope=row>SL32248</th><td>SL32248</td><td>40</td><td>MD     </td><td>M</td><td>X3982</td><td>DLPFC</td></tr>\n",
       "\t<tr><th scope=row>SL32249</th><td>SL32249</td><td>32</td><td>Control</td><td>M</td><td>X4063</td><td>DLPFC</td></tr>\n",
       "\t<tr><th scope=row>SL5886</th><td>SL5886 </td><td>65</td><td>Control</td><td>M</td><td>X3519</td><td>DLPFC</td></tr>\n",
       "\t<tr><th scope=row>SL5997</th><td>SL5997 </td><td>39</td><td>MD     </td><td>M</td><td>X3168</td><td>DLPFC</td></tr>\n",
       "\t<tr><th scope=row>SL5998</th><td>SL5998 </td><td>52</td><td>MD     </td><td>M</td><td>X2944</td><td>DLPFC</td></tr>\n",
       "\t<tr><th scope=row>SL5999</th><td>SL5999 </td><td>58</td><td>Control</td><td>M</td><td>X2316</td><td>DLPFC</td></tr>\n",
       "\t<tr><th scope=row>SL6000</th><td>SL6000 </td><td>48</td><td>Control</td><td>M</td><td>X2619</td><td>DLPFC</td></tr>\n",
       "\t<tr><th scope=row>SL6128</th><td>SL6128 </td><td>66</td><td>Control</td><td>M</td><td>X3686</td><td>DLPFC</td></tr>\n",
       "\t<tr><th scope=row>SL6129</th><td>SL6129 </td><td>56</td><td>Control</td><td>M</td><td>X3588</td><td>DLPFC</td></tr>\n",
       "\t<tr><th scope=row>SL6130</th><td>SL6130 </td><td>46</td><td>MD     </td><td>F</td><td>X3974</td><td>DLPFC</td></tr>\n",
       "\t<tr><th scope=row>SL6340</th><td>SL6340 </td><td>45</td><td>Control</td><td>M</td><td>X2805</td><td>DLPFC</td></tr>\n",
       "\t<tr><th scope=row>SL6341</th><td>SL6341 </td><td>63</td><td>MD     </td><td>M</td><td>X3426</td><td>DLPFC</td></tr>\n",
       "\t<tr><th scope=row>SL6412</th><td>SL6412 </td><td>49</td><td>Control</td><td>M</td><td>X3572</td><td>DLPFC</td></tr>\n",
       "\t<tr><th scope=row>SL6413</th><td>SL6413 </td><td>41</td><td>Control</td><td>M</td><td>X3516</td><td>DLPFC</td></tr>\n",
       "\t<tr><th scope=row>SL6609</th><td>SL6609 </td><td>40</td><td>Control</td><td>M</td><td>X1834</td><td>DLPFC</td></tr>\n",
       "\t<tr><th scope=row>SL6612</th><td>SL6612 </td><td>39</td><td>MD     </td><td>M</td><td>X4001</td><td>DLPFC</td></tr>\n",
       "\t<tr><th scope=row>SL6643</th><td>SL6643 </td><td>40</td><td>Control</td><td>M</td><td>X3523</td><td>DLPFC</td></tr>\n",
       "\t<tr><th scope=row>SL6645</th><td>SL6645 </td><td>24</td><td>MD     </td><td>M</td><td>X4046</td><td>DLPFC</td></tr>\n",
       "\t<tr><th scope=row>SL6666</th><td>SL6666 </td><td>50</td><td>MD     </td><td>M</td><td>X3994</td><td>DLPFC</td></tr>\n",
       "\t<tr><th scope=row>SL6668</th><td>SL6668 </td><td>58</td><td>MD     </td><td>M</td><td>X2315</td><td>DLPFC</td></tr>\n",
       "\t<tr><th scope=row>SL6669</th><td>SL6669 </td><td>72</td><td>MD     </td><td>F</td><td>X2208</td><td>DLPFC</td></tr>\n",
       "\t<tr><th scope=row>SL7141</th><td>SL7141 </td><td>70</td><td>Control</td><td>M</td><td>X3018</td><td>DLPFC</td></tr>\n",
       "\t<tr><th scope=row>SL7152</th><td>SL7152 </td><td>43</td><td>Control</td><td>M</td><td>X2664</td><td>DLPFC</td></tr>\n",
       "\t<tr><th scope=row>SL7154</th><td>SL7154 </td><td>19</td><td>MD     </td><td>M</td><td>X2267</td><td>DLPFC</td></tr>\n",
       "\t<tr><th scope=row>SL7155</th><td>SL7155 </td><td>49</td><td>MD     </td><td>M</td><td>X3031</td><td>DLPFC</td></tr>\n",
       "\t<tr><th scope=row>SL7381</th><td>SL7381 </td><td>63</td><td>Control</td><td>M</td><td>X3706</td><td>DLPFC</td></tr>\n",
       "\t<tr><th scope=row>SL7383</th><td>SL7383 </td><td>67</td><td>Control</td><td>M</td><td>X3965</td><td>DLPFC</td></tr>\n",
       "\t<tr><th scope=row>SL7384</th><td>SL7384 </td><td>49</td><td>MD     </td><td>M</td><td>X3071</td><td>DLPFC</td></tr>\n",
       "\t<tr><th scope=row>SL7393</th><td>SL7393 </td><td>64</td><td>Control</td><td>F</td><td>X2248</td><td>DLPFC</td></tr>\n",
       "\t<tr><th scope=row>SL7403</th><td>SL7403 </td><td>46</td><td>MD     </td><td>F</td><td>X3836</td><td>DLPFC</td></tr>\n",
       "\t<tr><th scope=row>SL7404</th><td>SL7404 </td><td>53</td><td>MD     </td><td>F</td><td>X3709</td><td>DLPFC</td></tr>\n",
       "\t<tr><th scope=row>SL7614</th><td>SL7614 </td><td>55</td><td>Control</td><td>M</td><td>X2292</td><td>DLPFC</td></tr>\n",
       "\t<tr><th scope=row>SL7625</th><td>SL7625 </td><td>45</td><td>Control</td><td>F</td><td>X3774</td><td>DLPFC</td></tr>\n",
       "\t<tr><th scope=row>SL7632</th><td>SL7632 </td><td>70</td><td>Control</td><td>F</td><td>X3281</td><td>DLPFC</td></tr>\n",
       "\t<tr><th scope=row>SL7698</th><td>SL7698 </td><td>47</td><td>MD     </td><td>M</td><td>X3365</td><td>DLPFC</td></tr>\n",
       "\t<tr><th scope=row>SL7801</th><td>SL7801 </td><td>28</td><td>MD     </td><td>M</td><td>X3667</td><td>DLPFC</td></tr>\n",
       "\t<tr><th scope=row>SL7804</th><td>SL7804 </td><td>39</td><td>Control</td><td>M</td><td>X3228</td><td>DLPFC</td></tr>\n",
       "\t<tr><th scope=row>SL7806</th><td>SL7806 </td><td>19</td><td>MD     </td><td>M</td><td>X3634</td><td>DLPFC</td></tr>\n",
       "\t<tr><th scope=row>SL7807</th><td>SL7807 </td><td>39</td><td>Control</td><td>M</td><td>X3433</td><td>DLPFC</td></tr>\n",
       "</tbody>\n",
       "</table>\n"
      ],
      "text/latex": [
       "A data.frame: 47 x 6\n",
       "\\begin{tabular}{r|llllll}\n",
       "  & V1 & V2 & V3 & V4 & V5 & V6\\\\\n",
       "  & <chr> & <int> & <chr> & <chr> & <chr> & <chr>\\\\\n",
       "\\hline\n",
       "\tSL32230 & SL32230 & 48 & MD      & F & X3004 & DLPFC\\\\\n",
       "\tSL32231 & SL32231 & 46 & MD      & M & X3064 & DLPFC\\\\\n",
       "\tSL32242 & SL32242 & 32 & Control & M & X3186 & DLPFC\\\\\n",
       "\tSL32243 & SL32243 & 44 & Control & M & X3196 & DLPFC\\\\\n",
       "\tSL32244 & SL32244 & 35 & Control & M & X3275 & DLPFC\\\\\n",
       "\tSL32245 & SL32245 & 66 & MD      & M & X3481 & DLPFC\\\\\n",
       "\tSL32246 & SL32246 & 44 & MD      & F & X3671 & DLPFC\\\\\n",
       "\tSL32247 & SL32247 & 56 & MD      & M & X3710 & DLPFC\\\\\n",
       "\tSL32248 & SL32248 & 40 & MD      & M & X3982 & DLPFC\\\\\n",
       "\tSL32249 & SL32249 & 32 & Control & M & X4063 & DLPFC\\\\\n",
       "\tSL5886 & SL5886  & 65 & Control & M & X3519 & DLPFC\\\\\n",
       "\tSL5997 & SL5997  & 39 & MD      & M & X3168 & DLPFC\\\\\n",
       "\tSL5998 & SL5998  & 52 & MD      & M & X2944 & DLPFC\\\\\n",
       "\tSL5999 & SL5999  & 58 & Control & M & X2316 & DLPFC\\\\\n",
       "\tSL6000 & SL6000  & 48 & Control & M & X2619 & DLPFC\\\\\n",
       "\tSL6128 & SL6128  & 66 & Control & M & X3686 & DLPFC\\\\\n",
       "\tSL6129 & SL6129  & 56 & Control & M & X3588 & DLPFC\\\\\n",
       "\tSL6130 & SL6130  & 46 & MD      & F & X3974 & DLPFC\\\\\n",
       "\tSL6340 & SL6340  & 45 & Control & M & X2805 & DLPFC\\\\\n",
       "\tSL6341 & SL6341  & 63 & MD      & M & X3426 & DLPFC\\\\\n",
       "\tSL6412 & SL6412  & 49 & Control & M & X3572 & DLPFC\\\\\n",
       "\tSL6413 & SL6413  & 41 & Control & M & X3516 & DLPFC\\\\\n",
       "\tSL6609 & SL6609  & 40 & Control & M & X1834 & DLPFC\\\\\n",
       "\tSL6612 & SL6612  & 39 & MD      & M & X4001 & DLPFC\\\\\n",
       "\tSL6643 & SL6643  & 40 & Control & M & X3523 & DLPFC\\\\\n",
       "\tSL6645 & SL6645  & 24 & MD      & M & X4046 & DLPFC\\\\\n",
       "\tSL6666 & SL6666  & 50 & MD      & M & X3994 & DLPFC\\\\\n",
       "\tSL6668 & SL6668  & 58 & MD      & M & X2315 & DLPFC\\\\\n",
       "\tSL6669 & SL6669  & 72 & MD      & F & X2208 & DLPFC\\\\\n",
       "\tSL7141 & SL7141  & 70 & Control & M & X3018 & DLPFC\\\\\n",
       "\tSL7152 & SL7152  & 43 & Control & M & X2664 & DLPFC\\\\\n",
       "\tSL7154 & SL7154  & 19 & MD      & M & X2267 & DLPFC\\\\\n",
       "\tSL7155 & SL7155  & 49 & MD      & M & X3031 & DLPFC\\\\\n",
       "\tSL7381 & SL7381  & 63 & Control & M & X3706 & DLPFC\\\\\n",
       "\tSL7383 & SL7383  & 67 & Control & M & X3965 & DLPFC\\\\\n",
       "\tSL7384 & SL7384  & 49 & MD      & M & X3071 & DLPFC\\\\\n",
       "\tSL7393 & SL7393  & 64 & Control & F & X2248 & DLPFC\\\\\n",
       "\tSL7403 & SL7403  & 46 & MD      & F & X3836 & DLPFC\\\\\n",
       "\tSL7404 & SL7404  & 53 & MD      & F & X3709 & DLPFC\\\\\n",
       "\tSL7614 & SL7614  & 55 & Control & M & X2292 & DLPFC\\\\\n",
       "\tSL7625 & SL7625  & 45 & Control & F & X3774 & DLPFC\\\\\n",
       "\tSL7632 & SL7632  & 70 & Control & F & X3281 & DLPFC\\\\\n",
       "\tSL7698 & SL7698  & 47 & MD      & M & X3365 & DLPFC\\\\\n",
       "\tSL7801 & SL7801  & 28 & MD      & M & X3667 & DLPFC\\\\\n",
       "\tSL7804 & SL7804  & 39 & Control & M & X3228 & DLPFC\\\\\n",
       "\tSL7806 & SL7806  & 19 & MD      & M & X3634 & DLPFC\\\\\n",
       "\tSL7807 & SL7807  & 39 & Control & M & X3433 & DLPFC\\\\\n",
       "\\end{tabular}\n"
      ],
      "text/markdown": [
       "\n",
       "A data.frame: 47 x 6\n",
       "\n",
       "| <!--/--> | V1 &lt;chr&gt; | V2 &lt;int&gt; | V3 &lt;chr&gt; | V4 &lt;chr&gt; | V5 &lt;chr&gt; | V6 &lt;chr&gt; |\n",
       "|---|---|---|---|---|---|---|\n",
       "| SL32230 | SL32230 | 48 | MD      | F | X3004 | DLPFC |\n",
       "| SL32231 | SL32231 | 46 | MD      | M | X3064 | DLPFC |\n",
       "| SL32242 | SL32242 | 32 | Control | M | X3186 | DLPFC |\n",
       "| SL32243 | SL32243 | 44 | Control | M | X3196 | DLPFC |\n",
       "| SL32244 | SL32244 | 35 | Control | M | X3275 | DLPFC |\n",
       "| SL32245 | SL32245 | 66 | MD      | M | X3481 | DLPFC |\n",
       "| SL32246 | SL32246 | 44 | MD      | F | X3671 | DLPFC |\n",
       "| SL32247 | SL32247 | 56 | MD      | M | X3710 | DLPFC |\n",
       "| SL32248 | SL32248 | 40 | MD      | M | X3982 | DLPFC |\n",
       "| SL32249 | SL32249 | 32 | Control | M | X4063 | DLPFC |\n",
       "| SL5886 | SL5886  | 65 | Control | M | X3519 | DLPFC |\n",
       "| SL5997 | SL5997  | 39 | MD      | M | X3168 | DLPFC |\n",
       "| SL5998 | SL5998  | 52 | MD      | M | X2944 | DLPFC |\n",
       "| SL5999 | SL5999  | 58 | Control | M | X2316 | DLPFC |\n",
       "| SL6000 | SL6000  | 48 | Control | M | X2619 | DLPFC |\n",
       "| SL6128 | SL6128  | 66 | Control | M | X3686 | DLPFC |\n",
       "| SL6129 | SL6129  | 56 | Control | M | X3588 | DLPFC |\n",
       "| SL6130 | SL6130  | 46 | MD      | F | X3974 | DLPFC |\n",
       "| SL6340 | SL6340  | 45 | Control | M | X2805 | DLPFC |\n",
       "| SL6341 | SL6341  | 63 | MD      | M | X3426 | DLPFC |\n",
       "| SL6412 | SL6412  | 49 | Control | M | X3572 | DLPFC |\n",
       "| SL6413 | SL6413  | 41 | Control | M | X3516 | DLPFC |\n",
       "| SL6609 | SL6609  | 40 | Control | M | X1834 | DLPFC |\n",
       "| SL6612 | SL6612  | 39 | MD      | M | X4001 | DLPFC |\n",
       "| SL6643 | SL6643  | 40 | Control | M | X3523 | DLPFC |\n",
       "| SL6645 | SL6645  | 24 | MD      | M | X4046 | DLPFC |\n",
       "| SL6666 | SL6666  | 50 | MD      | M | X3994 | DLPFC |\n",
       "| SL6668 | SL6668  | 58 | MD      | M | X2315 | DLPFC |\n",
       "| SL6669 | SL6669  | 72 | MD      | F | X2208 | DLPFC |\n",
       "| SL7141 | SL7141  | 70 | Control | M | X3018 | DLPFC |\n",
       "| SL7152 | SL7152  | 43 | Control | M | X2664 | DLPFC |\n",
       "| SL7154 | SL7154  | 19 | MD      | M | X2267 | DLPFC |\n",
       "| SL7155 | SL7155  | 49 | MD      | M | X3031 | DLPFC |\n",
       "| SL7381 | SL7381  | 63 | Control | M | X3706 | DLPFC |\n",
       "| SL7383 | SL7383  | 67 | Control | M | X3965 | DLPFC |\n",
       "| SL7384 | SL7384  | 49 | MD      | M | X3071 | DLPFC |\n",
       "| SL7393 | SL7393  | 64 | Control | F | X2248 | DLPFC |\n",
       "| SL7403 | SL7403  | 46 | MD      | F | X3836 | DLPFC |\n",
       "| SL7404 | SL7404  | 53 | MD      | F | X3709 | DLPFC |\n",
       "| SL7614 | SL7614  | 55 | Control | M | X2292 | DLPFC |\n",
       "| SL7625 | SL7625  | 45 | Control | F | X3774 | DLPFC |\n",
       "| SL7632 | SL7632  | 70 | Control | F | X3281 | DLPFC |\n",
       "| SL7698 | SL7698  | 47 | MD      | M | X3365 | DLPFC |\n",
       "| SL7801 | SL7801  | 28 | MD      | M | X3667 | DLPFC |\n",
       "| SL7804 | SL7804  | 39 | Control | M | X3228 | DLPFC |\n",
       "| SL7806 | SL7806  | 19 | MD      | M | X3634 | DLPFC |\n",
       "| SL7807 | SL7807  | 39 | Control | M | X3433 | DLPFC |\n",
       "\n"
      ],
      "text/plain": [
       "        V1      V2 V3      V4 V5    V6   \n",
       "SL32230 SL32230 48 MD      F  X3004 DLPFC\n",
       "SL32231 SL32231 46 MD      M  X3064 DLPFC\n",
       "SL32242 SL32242 32 Control M  X3186 DLPFC\n",
       "SL32243 SL32243 44 Control M  X3196 DLPFC\n",
       "SL32244 SL32244 35 Control M  X3275 DLPFC\n",
       "SL32245 SL32245 66 MD      M  X3481 DLPFC\n",
       "SL32246 SL32246 44 MD      F  X3671 DLPFC\n",
       "SL32247 SL32247 56 MD      M  X3710 DLPFC\n",
       "SL32248 SL32248 40 MD      M  X3982 DLPFC\n",
       "SL32249 SL32249 32 Control M  X4063 DLPFC\n",
       "SL5886  SL5886  65 Control M  X3519 DLPFC\n",
       "SL5997  SL5997  39 MD      M  X3168 DLPFC\n",
       "SL5998  SL5998  52 MD      M  X2944 DLPFC\n",
       "SL5999  SL5999  58 Control M  X2316 DLPFC\n",
       "SL6000  SL6000  48 Control M  X2619 DLPFC\n",
       "SL6128  SL6128  66 Control M  X3686 DLPFC\n",
       "SL6129  SL6129  56 Control M  X3588 DLPFC\n",
       "SL6130  SL6130  46 MD      F  X3974 DLPFC\n",
       "SL6340  SL6340  45 Control M  X2805 DLPFC\n",
       "SL6341  SL6341  63 MD      M  X3426 DLPFC\n",
       "SL6412  SL6412  49 Control M  X3572 DLPFC\n",
       "SL6413  SL6413  41 Control M  X3516 DLPFC\n",
       "SL6609  SL6609  40 Control M  X1834 DLPFC\n",
       "SL6612  SL6612  39 MD      M  X4001 DLPFC\n",
       "SL6643  SL6643  40 Control M  X3523 DLPFC\n",
       "SL6645  SL6645  24 MD      M  X4046 DLPFC\n",
       "SL6666  SL6666  50 MD      M  X3994 DLPFC\n",
       "SL6668  SL6668  58 MD      M  X2315 DLPFC\n",
       "SL6669  SL6669  72 MD      F  X2208 DLPFC\n",
       "SL7141  SL7141  70 Control M  X3018 DLPFC\n",
       "SL7152  SL7152  43 Control M  X2664 DLPFC\n",
       "SL7154  SL7154  19 MD      M  X2267 DLPFC\n",
       "SL7155  SL7155  49 MD      M  X3031 DLPFC\n",
       "SL7381  SL7381  63 Control M  X3706 DLPFC\n",
       "SL7383  SL7383  67 Control M  X3965 DLPFC\n",
       "SL7384  SL7384  49 MD      M  X3071 DLPFC\n",
       "SL7393  SL7393  64 Control F  X2248 DLPFC\n",
       "SL7403  SL7403  46 MD      F  X3836 DLPFC\n",
       "SL7404  SL7404  53 MD      F  X3709 DLPFC\n",
       "SL7614  SL7614  55 Control M  X2292 DLPFC\n",
       "SL7625  SL7625  45 Control F  X3774 DLPFC\n",
       "SL7632  SL7632  70 Control F  X3281 DLPFC\n",
       "SL7698  SL7698  47 MD      M  X3365 DLPFC\n",
       "SL7801  SL7801  28 MD      M  X3667 DLPFC\n",
       "SL7804  SL7804  39 Control M  X3228 DLPFC\n",
       "SL7806  SL7806  19 MD      M  X3634 DLPFC\n",
       "SL7807  SL7807  39 Control M  X3433 DLPFC"
      ]
     },
     "metadata": {},
     "output_type": "display_data"
    }
   ],
   "source": [
    "cliinfo"
   ]
  },
  {
   "cell_type": "code",
   "execution_count": null,
   "id": "dc82c437-1899-45a9-b636-5b4c4706aab2",
   "metadata": {},
   "outputs": [],
   "source": []
  },
  {
   "cell_type": "code",
   "execution_count": null,
   "id": "3f632a93-cfa6-4689-a9d7-d7117103f7b8",
   "metadata": {},
   "outputs": [],
   "source": []
  },
  {
   "cell_type": "code",
   "execution_count": null,
   "id": "49a7846b-0bf3-40f8-a798-2265a56a519f",
   "metadata": {},
   "outputs": [],
   "source": []
  },
  {
   "cell_type": "code",
   "execution_count": null,
   "id": "e4c5e8c1-6c43-43f2-ab90-d2d6cddd222d",
   "metadata": {},
   "outputs": [],
   "source": []
  },
  {
   "cell_type": "code",
   "execution_count": null,
   "id": "8f7c5bf1-a097-46fa-bfda-68c909e424a9",
   "metadata": {},
   "outputs": [],
   "source": []
  },
  {
   "cell_type": "code",
   "execution_count": null,
   "id": "100e7d97-5a36-4831-acde-30e5d23594c0",
   "metadata": {},
   "outputs": [],
   "source": []
  },
  {
   "cell_type": "code",
   "execution_count": null,
   "id": "026657c3-de74-44bd-b9f8-e9e11fbee670",
   "metadata": {},
   "outputs": [],
   "source": []
  },
  {
   "cell_type": "code",
   "execution_count": null,
   "id": "aa6b8ff3-e21e-40aa-bfd1-9868d53db8b1",
   "metadata": {},
   "outputs": [],
   "source": []
  },
  {
   "cell_type": "code",
   "execution_count": 86,
   "id": "31d8ac28-57de-48a0-b87a-a046de11dae1",
   "metadata": {},
   "outputs": [],
   "source": [
    "group = cliinfo$V3"
   ]
  },
  {
   "cell_type": "code",
   "execution_count": 87,
   "id": "b02efadc-2a1c-4648-8368-f396b0465643",
   "metadata": {},
   "outputs": [
    {
     "data": {
      "text/html": [
       "<style>\n",
       ".list-inline {list-style: none; margin:0; padding: 0}\n",
       ".list-inline>li {display: inline-block}\n",
       ".list-inline>li:not(:last-child)::after {content: \"\\00b7\"; padding: 0 .5ex}\n",
       "</style>\n",
       "<ol class=list-inline><li>'MD'</li><li>'MD'</li><li>'Control'</li><li>'Control'</li><li>'Control'</li><li>'MD'</li><li>'MD'</li><li>'MD'</li><li>'MD'</li><li>'Control'</li><li>'Control'</li><li>'MD'</li><li>'MD'</li><li>'Control'</li><li>'Control'</li><li>'Control'</li><li>'Control'</li><li>'MD'</li><li>'Control'</li><li>'MD'</li><li>'Control'</li><li>'Control'</li><li>'Control'</li><li>'MD'</li><li>'Control'</li><li>'MD'</li><li>'MD'</li><li>'MD'</li><li>'MD'</li><li>'Control'</li><li>'Control'</li><li>'MD'</li><li>'MD'</li><li>'Control'</li><li>'Control'</li><li>'MD'</li><li>'Control'</li><li>'MD'</li><li>'MD'</li><li>'Control'</li><li>'Control'</li><li>'Control'</li><li>'MD'</li><li>'MD'</li><li>'Control'</li><li>'MD'</li><li>'Control'</li></ol>\n"
      ],
      "text/latex": [
       "\\begin{enumerate*}\n",
       "\\item 'MD'\n",
       "\\item 'MD'\n",
       "\\item 'Control'\n",
       "\\item 'Control'\n",
       "\\item 'Control'\n",
       "\\item 'MD'\n",
       "\\item 'MD'\n",
       "\\item 'MD'\n",
       "\\item 'MD'\n",
       "\\item 'Control'\n",
       "\\item 'Control'\n",
       "\\item 'MD'\n",
       "\\item 'MD'\n",
       "\\item 'Control'\n",
       "\\item 'Control'\n",
       "\\item 'Control'\n",
       "\\item 'Control'\n",
       "\\item 'MD'\n",
       "\\item 'Control'\n",
       "\\item 'MD'\n",
       "\\item 'Control'\n",
       "\\item 'Control'\n",
       "\\item 'Control'\n",
       "\\item 'MD'\n",
       "\\item 'Control'\n",
       "\\item 'MD'\n",
       "\\item 'MD'\n",
       "\\item 'MD'\n",
       "\\item 'MD'\n",
       "\\item 'Control'\n",
       "\\item 'Control'\n",
       "\\item 'MD'\n",
       "\\item 'MD'\n",
       "\\item 'Control'\n",
       "\\item 'Control'\n",
       "\\item 'MD'\n",
       "\\item 'Control'\n",
       "\\item 'MD'\n",
       "\\item 'MD'\n",
       "\\item 'Control'\n",
       "\\item 'Control'\n",
       "\\item 'Control'\n",
       "\\item 'MD'\n",
       "\\item 'MD'\n",
       "\\item 'Control'\n",
       "\\item 'MD'\n",
       "\\item 'Control'\n",
       "\\end{enumerate*}\n"
      ],
      "text/markdown": [
       "1. 'MD'\n",
       "2. 'MD'\n",
       "3. 'Control'\n",
       "4. 'Control'\n",
       "5. 'Control'\n",
       "6. 'MD'\n",
       "7. 'MD'\n",
       "8. 'MD'\n",
       "9. 'MD'\n",
       "10. 'Control'\n",
       "11. 'Control'\n",
       "12. 'MD'\n",
       "13. 'MD'\n",
       "14. 'Control'\n",
       "15. 'Control'\n",
       "16. 'Control'\n",
       "17. 'Control'\n",
       "18. 'MD'\n",
       "19. 'Control'\n",
       "20. 'MD'\n",
       "21. 'Control'\n",
       "22. 'Control'\n",
       "23. 'Control'\n",
       "24. 'MD'\n",
       "25. 'Control'\n",
       "26. 'MD'\n",
       "27. 'MD'\n",
       "28. 'MD'\n",
       "29. 'MD'\n",
       "30. 'Control'\n",
       "31. 'Control'\n",
       "32. 'MD'\n",
       "33. 'MD'\n",
       "34. 'Control'\n",
       "35. 'Control'\n",
       "36. 'MD'\n",
       "37. 'Control'\n",
       "38. 'MD'\n",
       "39. 'MD'\n",
       "40. 'Control'\n",
       "41. 'Control'\n",
       "42. 'Control'\n",
       "43. 'MD'\n",
       "44. 'MD'\n",
       "45. 'Control'\n",
       "46. 'MD'\n",
       "47. 'Control'\n",
       "\n",
       "\n"
      ],
      "text/plain": [
       " [1] \"MD\"      \"MD\"      \"Control\" \"Control\" \"Control\" \"MD\"      \"MD\"     \n",
       " [8] \"MD\"      \"MD\"      \"Control\" \"Control\" \"MD\"      \"MD\"      \"Control\"\n",
       "[15] \"Control\" \"Control\" \"Control\" \"MD\"      \"Control\" \"MD\"      \"Control\"\n",
       "[22] \"Control\" \"Control\" \"MD\"      \"Control\" \"MD\"      \"MD\"      \"MD\"     \n",
       "[29] \"MD\"      \"Control\" \"Control\" \"MD\"      \"MD\"      \"Control\" \"Control\"\n",
       "[36] \"MD\"      \"Control\" \"MD\"      \"MD\"      \"Control\" \"Control\" \"Control\"\n",
       "[43] \"MD\"      \"MD\"      \"Control\" \"MD\"      \"Control\""
      ]
     },
     "metadata": {},
     "output_type": "display_data"
    }
   ],
   "source": [
    "group"
   ]
  },
  {
   "cell_type": "code",
   "execution_count": 88,
   "id": "2eee39b6-631b-4401-b95b-2af80621cebb",
   "metadata": {},
   "outputs": [],
   "source": [
    "type = ifelse(group == 'MD',1,0)"
   ]
  },
  {
   "cell_type": "code",
   "execution_count": 89,
   "id": "795e5c30-f515-4e7d-ac50-c9ca29d76412",
   "metadata": {},
   "outputs": [],
   "source": [
    "y = type"
   ]
  },
  {
   "cell_type": "code",
   "execution_count": 90,
   "id": "eaa19a78-9513-4174-8505-83793a58cd4f",
   "metadata": {},
   "outputs": [],
   "source": [
    "colnames(expr) = gsub('-','.',colnames(expr))"
   ]
  },
  {
   "cell_type": "code",
   "execution_count": 91,
   "id": "001f3957-9628-4e71-8f3c-da98bbc95760",
   "metadata": {},
   "outputs": [],
   "source": [
    "#expr <- expr[, !grepl(\"^\\\\d+\", names(expr))]"
   ]
  },
  {
   "cell_type": "code",
   "execution_count": 92,
   "id": "a6b9699b-d802-4efa-9213-675cea538c7f",
   "metadata": {},
   "outputs": [],
   "source": [
    "library(dplyr)"
   ]
  },
  {
   "cell_type": "code",
   "execution_count": 93,
   "id": "ab65721e-6b86-41ef-a50f-a498981a0e4c",
   "metadata": {},
   "outputs": [],
   "source": [
    "x = as.matrix(expr)\n",
    "y = y"
   ]
  },
  {
   "cell_type": "code",
   "execution_count": 94,
   "id": "169ffec6-1642-4189-bf9d-15da56264520",
   "metadata": {},
   "outputs": [],
   "source": [
    "library(randomForest)"
   ]
  },
  {
   "cell_type": "code",
   "execution_count": 95,
   "id": "52d76d0a-8f60-473e-a3e5-8c684414853a",
   "metadata": {},
   "outputs": [
    {
     "data": {
      "text/html": [
       "<strong>png:</strong> 2"
      ],
      "text/latex": [
       "\\textbf{png:} 2"
      ],
      "text/markdown": [
       "**png:** 2"
      ],
      "text/plain": [
       "png \n",
       "  2 "
      ]
     },
     "metadata": {},
     "output_type": "display_data"
    },
    {
     "data": {
      "image/png": "[encoded data removed]",
      "text/plain": [
       "Plot with title \"rf\""
      ]
     },
     "metadata": {
      "image/png": {
       "height": 420,
       "width": 360
      }
     },
     "output_type": "display_data"
    }
   ],
   "source": [
    "set.seed(110)\n",
    "\n",
    "rf = randomForest(as.factor(y)~.,data = x,ntree =1000,important=TRUE,proximity=TRUE)\n",
    "\n",
    "plot(rf)\n",
    "\n",
    "pdf('forest.pdf',height = 6,width = 6)\n",
    "plot(rf)\n",
    "dev.off()"
   ]
  },
  {
   "cell_type": "code",
   "execution_count": 96,
   "id": "24846125-9d6c-40cc-bec2-4589f3efc1c7",
   "metadata": {},
   "outputs": [
    {
     "data": {
      "text/html": [
       "<strong>png:</strong> 2"
      ],
      "text/latex": [
       "\\textbf{png:} 2"
      ],
      "text/markdown": [
       "**png:** 2"
      ],
      "text/plain": [
       "png \n",
       "  2 "
      ]
     },
     "metadata": {},
     "output_type": "display_data"
    },
    {
     "data": {
      "text/html": [
       "<style>\n",
       ".dl-inline {width: auto; margin:0; padding: 0}\n",
       ".dl-inline>dt, .dl-inline>dd {float: none; width: auto; display: inline-block}\n",
       ".dl-inline>dt::after {content: \":\\0020\"; padding-right: .5ex}\n",
       ".dl-inline>dt:not(:first-of-type) {padding-left: .5ex}\n",
       "</style><dl class=dl-inline><dt>SNTG2</dt><dd>1.53365425031312</dd><dt>KRBOX4</dt><dd>1.07538478814658</dd><dt>WDR72</dt><dd>1.00088840616404</dd><dt>PRF1</dt><dd>0.894361573116446</dd><dt>COX19</dt><dd>0.775343033159448</dd><dt>RNF130</dt><dd>0.775267690488088</dd><dt>ARSF</dt><dd>0.747930509843128</dd><dt>EDNRB</dt><dd>0.73196551081999</dd><dt>TEF</dt><dd>0.724645589451013</dd><dt>TNMD</dt><dd>0.660693093704381</dd><dt>PPP1R3C</dt><dd>0.645994047851885</dd><dt>MFSD11</dt><dd>0.62510030972192</dd><dt>SLC47A2</dt><dd>0.569694844941464</dd><dt>PLEKHO2</dt><dd>0.565706332468838</dd><dt>PLA2G5</dt><dd>0.53904816574055</dd><dt>EZR</dt><dd>0.531712320035288</dd><dt>ITGB5</dt><dd>0.511487751476438</dd><dt>SLCO1C1</dt><dd>0.489097266756452</dd><dt>EPHX2</dt><dd>0.48189688600809</dd><dt>PDLIM3</dt><dd>0.451371957992572</dd><dt>ANGEL2</dt><dd>0.446776815468861</dd><dt>SLC25A33</dt><dd>0.442737963716923</dd><dt>S1PR1</dt><dd>0.432285113649213</dd><dt>HSD17B2</dt><dd>0.427335750790957</dd><dt>ALDH1A1</dt><dd>0.424042856093238</dd><dt>ITM2C</dt><dd>0.414814302088789</dd><dt>HSD17B6</dt><dd>0.407863511714057</dd><dt>TXNDC2</dt><dd>0.404264948900976</dd><dt>GLUL</dt><dd>0.382843375361733</dd><dt>TRIB1</dt><dd>0.37328075898415</dd><dt>RLBP1</dt><dd>0.371341667121387</dd><dt>CNOT11</dt><dd>0.356308658450216</dd><dt>PPP1R3G</dt><dd>0.332389047806705</dd><dt>MMD2</dt><dd>0.332291410943577</dd><dt>FAT1</dt><dd>0.327039620304761</dd><dt>PYGM</dt><dd>0.322644397604433</dd><dt>ACKR3</dt><dd>0.312389617259887</dd><dt>PLA2G3</dt><dd>0.301594445655827</dd><dt>MRO</dt><dd>0.30052299308186</dd><dt>SLC13A5</dt><dd>0.292357167287368</dd><dt>NT5E</dt><dd>0.287362651937509</dd><dt>ACSBG1</dt><dd>0.268905259275231</dd><dt>RRAD</dt><dd>0.268882078486973</dd><dt>OLFM2</dt><dd>0.246599270225935</dd><dt>KCNJ16</dt><dd>0.227614454213552</dd></dl>\n"
      ],
      "text/latex": [
       "\\begin{description*}\n",
       "\\item[SNTG2] 1.53365425031312\n",
       "\\item[KRBOX4] 1.07538478814658\n",
       "\\item[WDR72] 1.00088840616404\n",
       "\\item[PRF1] 0.894361573116446\n",
       "\\item[COX19] 0.775343033159448\n",
       "\\item[RNF130] 0.775267690488088\n",
       "\\item[ARSF] 0.747930509843128\n",
       "\\item[EDNRB] 0.73196551081999\n",
       "\\item[TEF] 0.724645589451013\n",
       "\\item[TNMD] 0.660693093704381\n",
       "\\item[PPP1R3C] 0.645994047851885\n",
       "\\item[MFSD11] 0.62510030972192\n",
       "\\item[SLC47A2] 0.569694844941464\n",
       "\\item[PLEKHO2] 0.565706332468838\n",
       "\\item[PLA2G5] 0.53904816574055\n",
       "\\item[EZR] 0.531712320035288\n",
       "\\item[ITGB5] 0.511487751476438\n",
       "\\item[SLCO1C1] 0.489097266756452\n",
       "\\item[EPHX2] 0.48189688600809\n",
       "\\item[PDLIM3] 0.451371957992572\n",
       "\\item[ANGEL2] 0.446776815468861\n",
       "\\item[SLC25A33] 0.442737963716923\n",
       "\\item[S1PR1] 0.432285113649213\n",
       "\\item[HSD17B2] 0.427335750790957\n",
       "\\item[ALDH1A1] 0.424042856093238\n",
       "\\item[ITM2C] 0.414814302088789\n",
       "\\item[HSD17B6] 0.407863511714057\n",
       "\\item[TXNDC2] 0.404264948900976\n",
       "\\item[GLUL] 0.382843375361733\n",
       "\\item[TRIB1] 0.37328075898415\n",
       "\\item[RLBP1] 0.371341667121387\n",
       "\\item[CNOT11] 0.356308658450216\n",
       "\\item[PPP1R3G] 0.332389047806705\n",
       "\\item[MMD2] 0.332291410943577\n",
       "\\item[FAT1] 0.327039620304761\n",
       "\\item[PYGM] 0.322644397604433\n",
       "\\item[ACKR3] 0.312389617259887\n",
       "\\item[PLA2G3] 0.301594445655827\n",
       "\\item[MRO] 0.30052299308186\n",
       "\\item[SLC13A5] 0.292357167287368\n",
       "\\item[NT5E] 0.287362651937509\n",
       "\\item[ACSBG1] 0.268905259275231\n",
       "\\item[RRAD] 0.268882078486973\n",
       "\\item[OLFM2] 0.246599270225935\n",
       "\\item[KCNJ16] 0.227614454213552\n",
       "\\end{description*}\n"
      ],
      "text/markdown": [
       "SNTG2\n",
       ":   1.53365425031312KRBOX4\n",
       ":   1.07538478814658WDR72\n",
       ":   1.00088840616404PRF1\n",
       ":   0.894361573116446COX19\n",
       ":   0.775343033159448RNF130\n",
       ":   0.775267690488088ARSF\n",
       ":   0.747930509843128EDNRB\n",
       ":   0.73196551081999TEF\n",
       ":   0.724645589451013TNMD\n",
       ":   0.660693093704381PPP1R3C\n",
       ":   0.645994047851885MFSD11\n",
       ":   0.62510030972192SLC47A2\n",
       ":   0.569694844941464PLEKHO2\n",
       ":   0.565706332468838PLA2G5\n",
       ":   0.53904816574055EZR\n",
       ":   0.531712320035288ITGB5\n",
       ":   0.511487751476438SLCO1C1\n",
       ":   0.489097266756452EPHX2\n",
       ":   0.48189688600809PDLIM3\n",
       ":   0.451371957992572ANGEL2\n",
       ":   0.446776815468861SLC25A33\n",
       ":   0.442737963716923S1PR1\n",
       ":   0.432285113649213HSD17B2\n",
       ":   0.427335750790957ALDH1A1\n",
       ":   0.424042856093238ITM2C\n",
       ":   0.414814302088789HSD17B6\n",
       ":   0.407863511714057TXNDC2\n",
       ":   0.404264948900976GLUL\n",
       ":   0.382843375361733TRIB1\n",
       ":   0.37328075898415RLBP1\n",
       ":   0.371341667121387CNOT11\n",
       ":   0.356308658450216PPP1R3G\n",
       ":   0.332389047806705MMD2\n",
       ":   0.332291410943577FAT1\n",
       ":   0.327039620304761PYGM\n",
       ":   0.322644397604433ACKR3\n",
       ":   0.312389617259887PLA2G3\n",
       ":   0.301594445655827MRO\n",
       ":   0.30052299308186SLC13A5\n",
       ":   0.292357167287368NT5E\n",
       ":   0.287362651937509ACSBG1\n",
       ":   0.268905259275231RRAD\n",
       ":   0.268882078486973OLFM2\n",
       ":   0.246599270225935KCNJ16\n",
       ":   0.227614454213552\n",
       "\n"
      ],
      "text/plain": [
       "    SNTG2    KRBOX4     WDR72      PRF1     COX19    RNF130      ARSF     EDNRB \n",
       "1.5336543 1.0753848 1.0008884 0.8943616 0.7753430 0.7752677 0.7479305 0.7319655 \n",
       "      TEF      TNMD   PPP1R3C    MFSD11   SLC47A2   PLEKHO2    PLA2G5       EZR \n",
       "0.7246456 0.6606931 0.6459940 0.6251003 0.5696948 0.5657063 0.5390482 0.5317123 \n",
       "    ITGB5   SLCO1C1     EPHX2    PDLIM3    ANGEL2  SLC25A33     S1PR1   HSD17B2 \n",
       "0.5114878 0.4890973 0.4818969 0.4513720 0.4467768 0.4427380 0.4322851 0.4273358 \n",
       "  ALDH1A1     ITM2C   HSD17B6    TXNDC2      GLUL     TRIB1     RLBP1    CNOT11 \n",
       "0.4240429 0.4148143 0.4078635 0.4042649 0.3828434 0.3732808 0.3713417 0.3563087 \n",
       "  PPP1R3G      MMD2      FAT1      PYGM     ACKR3    PLA2G3       MRO   SLC13A5 \n",
       "0.3323890 0.3322914 0.3270396 0.3226444 0.3123896 0.3015944 0.3005230 0.2923572 \n",
       "     NT5E    ACSBG1      RRAD     OLFM2    KCNJ16 \n",
       "0.2873627 0.2689053 0.2688821 0.2465993 0.2276145 "
      ]
     },
     "metadata": {},
     "output_type": "display_data"
    },
    {
     "data": {
      "image/png": "[encoded data removed]",
      "text/plain": [
       "Plot with title \"\""
      ]
     },
     "metadata": {
      "image/png": {
       "height": 420,
       "width": 240
      }
     },
     "output_type": "display_data"
    }
   ],
   "source": [
    "\n",
    "\n",
    "trees = which.min(rf$err.rate[,1])\n",
    "\n",
    "rf = randomForest(as.factor(y)~.,data = x,ntree =trees,important=TRUE,proximity=TRUE)\n",
    "\n",
    "importance = importance(rf)\n",
    "\n",
    "pdf('forest2.pdf',height = 6,width = 4)\n",
    "varImpPlot(rf,main = '')\n",
    "dev.off()\n",
    "\n",
    "# RPE65 + MC3R+NFIL3 + PRF1 + IL6\n",
    "\n",
    "options(repr.plot.width = 4)\n",
    "\n",
    "varImpPlot(rf,main = '')\n",
    "\n",
    "rfGenes=importance[order(importance[, \"MeanDecreaseGini\"], decreasing  = TRUE),] #重要性评分大于2的基因\n",
    "\n",
    "rfGenes"
   ]
  },
  {
   "cell_type": "code",
   "execution_count": 20,
   "id": "118e60c2-163b-46df-858f-f87c8206303c",
   "metadata": {},
   "outputs": [],
   "source": [
    "# rfGenes=names(rfGenes[rfGenes>30]) \n",
    "# write.table(rfGenes,file=\"rfGenes.txt\",sep=\"\\t\",quote=F,col.names=F,row.names=F) #输出表达量\n",
    "\n",
    "# # expr2 = exp4\n",
    "\n",
    "# # sigExp=expr2[rfGenes,]\n",
    "# # write.table(data.frame(ID=rownames(sigExp),sigExp),file=\"rfGeneExp.txt\",sep=\"\\t\",quote=F,col.names=T,row.names=F) \n",
    "\n",
    "# # rfGenes"
   ]
  },
  {
   "cell_type": "markdown",
   "id": "af18f8e6-2aaf-42ec-a432-c763909b210d",
   "metadata": {},
   "source": [
    "### svm"
   ]
  },
  {
   "cell_type": "code",
   "execution_count": 21,
   "id": "f2a3a6c3-6bb3-4d0d-8c62-0516db9f4130",
   "metadata": {},
   "outputs": [],
   "source": [
    "# library(tidyverse)\n",
    "# library(glmnet)\n",
    "# library(VennDiagram)\n",
    "# library(e1071)\n",
    "# library(caret)\n",
    "# library(randomForest)\n",
    "\n",
    "# x = as.matrix(expr)\n",
    "\n",
    "# y=as.numeric(as.factor(Type))\n",
    "\n",
    "# library(future)\n",
    "# plan(\"multisession\",workers=30)\n",
    "\n",
    "# set.seed(1)\n",
    "# rfeControl = rfeControl(functions = caretFuncs,\n",
    "#                         method = \"cv\", # 默认自助法重采样 boot\n",
    "#                         saveDetails = T, # 保存预测值和变量重要性\n",
    "#                         number = 5, # 重抽样次数\n",
    "#                         allowParallel = T # 允许多线程，用这个之前你要先准备好多线程！\n",
    "#                         )\n",
    "\n",
    "# Profile=rfe(x=x,y=as.factor(y),sizes =c(1:32),\n",
    "#     rfeControl =  rfeControl,\n",
    "#     methods=\"svmRadial\")\n",
    "\n",
    "# Profile\n",
    "\n",
    "# pdf(file=\"SVM-RFE.pdf\", width=6, height=5.5)\n",
    "# par(las=1)\n",
    "# x= Profile$results$Variables \n",
    "# y =Profile$results$RMSE\n",
    "# plot(x, y, xlab=\"Variables\", ylab=\"RMSE (Cross-Validation)\", col=\"darkgreen\") \n",
    "# lines(x, y, col=\"darkgreen\")\n",
    "# wmin=which.min(y) \n",
    "# wmin.x=x[wmin] \n",
    "# wmin.y=y[wmin]\n",
    "# points(wmin.x, wmin.y, col=\"blue\", pch=16)\n",
    "# text(wmin.x, wmin.y, paste0('N=', wmin.x), pos=2, col=2)\n",
    "# dev.off()\n",
    "\n",
    "# par(las=1)\n",
    "# x= Profile$results$Variables \n",
    "# y =Profile$results$RMSE\n",
    "# plot(x, y, xlab=\"Variables\", ylab=\"RMSE (Cross-Validation)\", col=\"darkgreen\") \n",
    "# lines(x, y, col=\"darkgreen\")\n",
    "# wmin=which.min(y) \n",
    "# wmin.x=x[wmin] \n",
    "# wmin.y=y[wmin]\n",
    "# points(wmin.x, wmin.y, col=\"blue\", pch=16)\n",
    "# text(wmin.x, wmin.y, paste0('N=', wmin.x), pos=2, col=2)\n",
    "\n",
    "# #输出\n",
    "# featureGenes = Profile$optVariables\n",
    "# write.table(file=\"SVM-RFE.gene.txt\",featureGenes,sep=\"\\t\",quote=F,row.names=F,col.names=F) #表达矩阵 \n",
    "\n",
    "# featureGenes"
   ]
  },
  {
   "cell_type": "markdown",
   "id": "80a4188a-f4ee-4fc6-8479-542b5b97f5a7",
   "metadata": {},
   "source": [
    "### Boruta"
   ]
  },
  {
   "cell_type": "code",
   "execution_count": 97,
   "id": "56b1f3fc-13fd-47bb-b427-e9a8d45270ab",
   "metadata": {
    "scrolled": true
   },
   "outputs": [],
   "source": [
    "# library(Boruta)\n",
    "\n",
    "# y\n",
    "\n",
    "# set.seed(111)\n",
    "# boruta <- Boruta(x=x, y=y, pValue=0.05, mcAdj=T, \n",
    "#        maxRuns=300)\n",
    "\n",
    "# boruta\n",
    "\n",
    "# table(boruta$finalDecision)\n",
    "\n",
    "# boruta$finalDecision\n",
    "\n",
    "# Boruta::plotImpHistory(boruta)\n",
    "\n",
    "# library(dplyr)\n",
    "# boruta.imp <- function(x){\n",
    "#   imp <- reshape2::melt(x$ImpHistory, na.rm=T)[,-1]\n",
    "#   colnames(imp) <- c(\"Variable\",\"Importance\")\n",
    "#   imp <- imp[is.finite(imp$Importance),]\n",
    "\n",
    "#   variableGrp <- data.frame(Variable=names(x$finalDecision), \n",
    "#                             finalDecision=x$finalDecision)\n",
    "\n",
    "#   showGrp <- data.frame(Variable=c(\"shadowMax\", \"shadowMean\", \"shadowMin\"),\n",
    "#                         finalDecision=c(\"shadowMax\", \"shadowMean\", \"shadowMin\"))\n",
    "\n",
    "#   variableGrp <- rbind(variableGrp, showGrp)\n",
    "\n",
    "#   boruta.variable.imp <- merge(imp, variableGrp, all.x=T)\n",
    "\n",
    "#   sortedVariable <- boruta.variable.imp %>% group_by(Variable) %>% \n",
    "#     summarise(median=median(Importance)) %>% arrange(median)\n",
    "#   sortedVariable <- as.vector(sortedVariable$Variable)\n",
    "\n",
    "\n",
    "#   boruta.variable.imp$Variable <- factor(boruta.variable.imp$Variable, levels=sortedVariable)\n",
    "\n",
    "#   invisible(boruta.variable.imp)\n",
    "# }\n",
    "# boruta.variable.imp <- boruta.imp(boruta)\n",
    "\n",
    "\n",
    "# boruta\n",
    "\n",
    "# # library(YSX)\n",
    "\n",
    "# # sp_boxplot(boruta.variable.imp, melted=T, xvariable = \"Variable\", yvariable = \"Importance\",\n",
    "# #            legend_variable = \"finalDecision\", legend_variable_order = c(\"shadowMax\", \"shadowMean\", \"shadowMin\", \"Confirmed\"),\n",
    "# #            xtics_angle = 90)\n",
    "\n",
    "# # expr = cbind(Type,expr)\n",
    "\n",
    "# # colnames(expr)[1]  ='Group'\n",
    "\n",
    "# # expr3 = expr\n",
    "\n",
    "# # set.seed(147)  \n",
    "# # index <-  which( (1:nrow(expr3))%%3 == 0 )\n",
    "# # train <- expr3[-index,]\n",
    "# # test <- expr3[index,]\n",
    "\n",
    "# # table(test$Group)\n",
    "\n",
    "# # library(\"xgboost\")\n",
    "# # library(\"Matrix\")\n",
    "# # train_matrix <- sparse.model.matrix(Group ~ .-1, data = train)\n",
    "# # test_matrix <- sparse.model.matrix(Group ~ .-1, data = test)\n",
    "# # all_matrix <- sparse.model.matrix(Group ~ .-1, data = expr3)\n",
    "\n",
    "\n",
    "\n",
    "# # train_label <- as.numeric(train$Group == 'MDD')\n",
    "# # test_label <-  as.numeric(test$Group == 'MDD')\n",
    "# # all_label <-  as.numeric(expr3$Group == 'MDD')\n",
    "\n",
    "# # all_label\n",
    "\n",
    "# # train_fin <- list(data=train_matrix,label=train_label) \n",
    "# # test_fin <- list(data=test_matrix,label=test_label) \n",
    "# # all_fin <- list(data=all_matrix,label=all_label) \n",
    "\n",
    "# # dtrain <- xgb.DMatrix(data = train_fin$data, label = train_fin$label) \n",
    "# # dtest <- xgb.DMatrix(data = test_fin$data, label = test_fin$label)\n",
    "# # dall <- xgb.DMatrix(data = all_fin$data, label = all_fin$label)\n",
    "\n",
    "# # xgb <- xgboost(data = dall,max_depth=6, eta=0.5,  \n",
    "# #   objective='binary:logistic', nround=25)\n",
    "\n",
    "# # xgb\n",
    "\n",
    "# # importance <- xgb.importance(all_matrix@Dimnames[[2]], model = xgb)  \n",
    "# # head(importance)\n",
    "# # xgb.ggplot.importance(importance)\n",
    "\n",
    "# # xgb.plot.importance(importance)"
   ]
  },
  {
   "cell_type": "code",
   "execution_count": 23,
   "id": "43df8e21-bbc7-4efd-b4fe-41c4ab5b41de",
   "metadata": {},
   "outputs": [],
   "source": [
    "# lasso"
   ]
  },
  {
   "cell_type": "code",
   "execution_count": 98,
   "id": "7f0658c0-bf4a-4a5c-8bcc-a25f5c824806",
   "metadata": {},
   "outputs": [],
   "source": [
    "# library(lars) \n",
    "# library(glmnet) \n",
    "\n",
    "# #用基因的表达情况预测生死\n",
    "# model_lasso <- glmnet(x, y, family=\"binomial\", nlambda=100, alpha=1)#拉手回归模型\n",
    "# plot(model_lasso, xvar = \"norm\", label = TRUE)\n",
    "\n",
    "# plot(model_lasso, xvar=\"lambda\", label=TRUE)\n",
    "\n",
    "# cv_fit <- cv.glmnet(x=x, y=y, alpha = 1, nlambda = 100)\n",
    "\n",
    "# plot(cv_fit)\n",
    "# # 两条虚线分别指示了两个特殊的λ值:\n",
    "# c(cv_fit$lambda.min,cv_fit$lambda.1se) \n",
    "\n",
    "# model_lasso <- glmnet(x=as.matrix(x), y=y, alpha = 1, lambda=cv_fit$lambda.min\t)\n",
    "# gene_1se <- rownames(model_lasso$beta)[as.numeric(model_lasso$beta)!=0]\n",
    "# gene_1se = gsub('[.]',' ',gene_1se)\n",
    "\n",
    "# gene_1se\n",
    "\n",
    "# # ### 韦恩图\n",
    "\n",
    "# # importance$Feature\n",
    "\n",
    "# # RF.gene = names(rfGenes)[1:10]\n",
    "# # #SVF.RFE.gene = featureGenes\n",
    "# # XGBoost.gene = importance$Feature[1:10]\n",
    "\n",
    "# # boruta.variable.imp2 = boruta.variable.imp %>% dplyr::filter(finalDecision %in% c('Confirmed','Tentative')) %>% dplyr::select(Variable) %>% unique()\n",
    "\n",
    "# # Boruta.gene = as.vector(boruta.variable.imp2$Variable)\n",
    "\n",
    "# # lasso.gene  = gene_1se\n",
    "\n",
    "# # list1 = list(RF.gene,lasso.gene,Boruta.gene,XGBoost.gene)\n",
    "\n",
    "# # data =  as.data.frame (do.call (cbind, list1))\n",
    "\n",
    "\n",
    "# # library(venn)\n",
    "# #         library(VennDiagram)\n",
    "# #         color=c( \"#3C5488B2\",\"#00A087B2\", \n",
    "# #              \"#F39B7FB2\",\"#91D1C2B2\", \n",
    "# #              \"#8491B4B2\", \"#DC0000B2\", \n",
    "# #              \"#7E6148B2\",\"yellow\", \n",
    "# #              \"darkolivegreen1\", \"lightskyblue\", \n",
    "# #              \"darkgreen\", \"deeppink\", \"khaki2\", \n",
    "# #              \"firebrick\", \"brown1\", \"darkorange1\", \n",
    "# #              \"cyan1\", \"royalblue4\", \"darksalmon\", \n",
    "# #              \"darkgoldenrod1\", \"darkseagreen\", \"darkorchid\")\n",
    "\n",
    "# #     if (ncol(data) == 2){\n",
    "# #         sample_list <- list(c1 = data[,1], c2 = data[,2])\n",
    "# #     }else if(ncol(data) == 3){\n",
    "# #         sample_list <- list(RF.gene = data[,1], Boruta.gene = data[,2], XGBoost.gene = data[,3])\n",
    "# #     }else if(ncol(data) == 4){\n",
    "# #         sample_list <- list(RF.gene = data[,1], SVF.RFE.gene = data[,2], Boruta.gene = data[,3], XGBoost.gene = data[,4])\n",
    "# #     }else{\n",
    "# #         sample_list <- list(c1 = data[,1], c2 = data[,2], c3 = data[,3], c4 = data[,4], c5 = data[,5])\n",
    "# #     }\n",
    "    \n",
    "# #     q <- venn.diagram(sample_list,filename = NULL,\n",
    "# #              fill = color[1:(length(sample_list))],\n",
    "# #              alpha = 0.50, cat.col = rep('black', ncol(data)), \n",
    "# #              col = 'black', cex = 1, fontfamily = 'serif', cat.cex = 1, cat.fontfamily = 'serif', margin = 0.2\n",
    "# #                              )\n",
    "# #     pdf(paste0('./',\"venn.pdf\"))\n",
    "# #     grid.draw(q)\n",
    "# #     dev.off()\n",
    "\n",
    "# # grid.draw(q)\n",
    "\n",
    "# # intersect(intersect(intersect(RF.gene,XGBoost.gene),Boruta.gene),lasso.gene)\n",
    "\n",
    "# # model.gene = intersect(lasso.gene,XGBoost.gene)\n",
    "\n",
    "\n",
    "\n",
    "# # model.gene  =lasso.gene\n",
    "\n",
    "# # model.gene"
   ]
  },
  {
   "cell_type": "code",
   "execution_count": 99,
   "id": "6cb691bd-2d72-4837-b47a-5e7c0a16d5cb",
   "metadata": {},
   "outputs": [],
   "source": [
    "set.seed(1234)"
   ]
  },
  {
   "cell_type": "code",
   "execution_count": 100,
   "id": "a5921de0-76c9-49f1-9299-89c817a30fb3",
   "metadata": {},
   "outputs": [],
   "source": [
    "expr3 = cbind(y,x) %>%  as.data.frame()"
   ]
  },
  {
   "cell_type": "code",
   "execution_count": 101,
   "id": "d8c96c88-9216-46eb-a181-e851e4df2f7f",
   "metadata": {},
   "outputs": [],
   "source": [
    "colnames(expr3)[1] = 'Group'"
   ]
  },
  {
   "cell_type": "code",
   "execution_count": 102,
   "id": "9c3b879f-1b40-45f7-9aaa-f1909ee6aaf3",
   "metadata": {},
   "outputs": [],
   "source": [
    "expr4 = expr3 "
   ]
  },
  {
   "cell_type": "code",
   "execution_count": 103,
   "id": "5ef5cfa5-901b-4e64-9f10-8775cc89fce8",
   "metadata": {},
   "outputs": [
    {
     "data": {
      "text/html": [
       "<style>\n",
       ".list-inline {list-style: none; margin:0; padding: 0}\n",
       ".list-inline>li {display: inline-block}\n",
       ".list-inline>li:not(:last-child)::after {content: \"\\00b7\"; padding: 0 .5ex}\n",
       "</style>\n",
       "<ol class=list-inline><li>47</li><li>46</li></ol>\n"
      ],
      "text/latex": [
       "\\begin{enumerate*}\n",
       "\\item 47\n",
       "\\item 46\n",
       "\\end{enumerate*}\n"
      ],
      "text/markdown": [
       "1. 47\n",
       "2. 46\n",
       "\n",
       "\n"
      ],
      "text/plain": [
       "[1] 47 46"
      ]
     },
     "metadata": {},
     "output_type": "display_data"
    }
   ],
   "source": [
    "dim(expr4)"
   ]
  },
  {
   "cell_type": "code",
   "execution_count": 104,
   "id": "0c078c6c-044b-4daa-a1a2-654379b30675",
   "metadata": {},
   "outputs": [],
   "source": [
    "model.gene = colnames(expr4)[2:dim(expr4)[2]]"
   ]
  },
  {
   "cell_type": "code",
   "execution_count": 105,
   "id": "a68de7ce-0c16-4db1-93f7-8e4f510f9fa4",
   "metadata": {},
   "outputs": [
    {
     "data": {
      "text/html": [
       "<table class=\"dataframe\">\n",
       "<caption>A data.frame: 7 x 46</caption>\n",
       "<thead>\n",
       "\t<tr><th></th><th scope=col>Group</th><th scope=col>ANGEL2</th><th scope=col>SLC47A2</th><th scope=col>TNMD</th><th scope=col>MFSD11</th><th scope=col>HSD17B2</th><th scope=col>COX19</th><th scope=col>SNTG2</th><th scope=col>WDR72</th><th scope=col>TEF</th><th scope=col>...</th><th scope=col>MMD2</th><th scope=col>HSD17B6</th><th scope=col>GLUL</th><th scope=col>PRF1</th><th scope=col>ITGB5</th><th scope=col>ACSBG1</th><th scope=col>PPP1R3G</th><th scope=col>SLCO1C1</th><th scope=col>SLC25A33</th><th scope=col>EZR</th></tr>\n",
       "\t<tr><th></th><th scope=col>&lt;dbl&gt;</th><th scope=col>&lt;dbl&gt;</th><th scope=col>&lt;dbl&gt;</th><th scope=col>&lt;dbl&gt;</th><th scope=col>&lt;dbl&gt;</th><th scope=col>&lt;dbl&gt;</th><th scope=col>&lt;dbl&gt;</th><th scope=col>&lt;dbl&gt;</th><th scope=col>&lt;dbl&gt;</th><th scope=col>&lt;dbl&gt;</th><th scope=col>...</th><th scope=col>&lt;dbl&gt;</th><th scope=col>&lt;dbl&gt;</th><th scope=col>&lt;dbl&gt;</th><th scope=col>&lt;dbl&gt;</th><th scope=col>&lt;dbl&gt;</th><th scope=col>&lt;dbl&gt;</th><th scope=col>&lt;dbl&gt;</th><th scope=col>&lt;dbl&gt;</th><th scope=col>&lt;dbl&gt;</th><th scope=col>&lt;dbl&gt;</th></tr>\n",
       "</thead>\n",
       "<tbody>\n",
       "\t<tr><th scope=row>SL32230</th><td>1</td><td>11.206205</td><td>7.900326</td><td>4.780515</td><td>10.224469</td><td>0</td><td>11.264708</td><td>5.291468</td><td>2.578752</td><td>14.71816</td><td>...</td><td>10.46463</td><td>9.480090</td><td>14.86960</td><td>4.860200</td><td>10.54236</td><td>10.250913</td><td>8.183129</td><td>9.120635</td><td> 9.698304</td><td>12.18940</td></tr>\n",
       "\t<tr><th scope=row>SL32231</th><td>1</td><td>10.851486</td><td>7.415898</td><td>4.403153</td><td>10.310308</td><td>0</td><td>10.436695</td><td>4.723438</td><td>2.739681</td><td>14.68516</td><td>...</td><td>11.16590</td><td>9.467797</td><td>15.14141</td><td>7.273266</td><td>10.97270</td><td>10.362111</td><td>7.997964</td><td>9.064034</td><td> 9.741030</td><td>12.58367</td></tr>\n",
       "\t<tr><th scope=row>SL32242</th><td>0</td><td>10.539424</td><td>7.266679</td><td>4.820117</td><td>10.091499</td><td>0</td><td>10.334620</td><td>2.915411</td><td>0.000000</td><td>14.35541</td><td>...</td><td>11.01583</td><td>9.227823</td><td>14.81222</td><td>7.292919</td><td>11.28938</td><td>10.267209</td><td>8.347996</td><td>8.782367</td><td> 9.832336</td><td>12.31590</td></tr>\n",
       "\t<tr><th scope=row>SL32243</th><td>0</td><td> 9.772272</td><td>6.019452</td><td>3.869072</td><td> 9.325202</td><td>0</td><td> 9.657664</td><td>4.527770</td><td>1.187957</td><td>13.21886</td><td>...</td><td>11.85251</td><td>9.706251</td><td>15.42736</td><td>8.024882</td><td>11.21189</td><td>11.206366</td><td>8.883174</td><td>9.613536</td><td> 9.733199</td><td>12.83099</td></tr>\n",
       "\t<tr><th scope=row>SL32244</th><td>0</td><td>10.765445</td><td>6.927812</td><td>0.000000</td><td>10.274375</td><td>0</td><td>10.693926</td><td>6.196068</td><td>0.000000</td><td>14.70674</td><td>...</td><td>11.26558</td><td>8.766995</td><td>14.42671</td><td>9.396863</td><td>10.80938</td><td> 9.911524</td><td>8.335346</td><td>8.670232</td><td>10.002693</td><td>11.78133</td></tr>\n",
       "\t<tr><th scope=row>SL32245</th><td>1</td><td>11.064186</td><td>7.112978</td><td>5.662878</td><td>10.814246</td><td>0</td><td>10.936316</td><td>6.817926</td><td>0.000000</td><td>14.26918</td><td>...</td><td>10.82715</td><td>9.853022</td><td>14.89950</td><td>7.939845</td><td>11.10488</td><td> 9.695654</td><td>8.297715</td><td>8.503634</td><td>10.431149</td><td>12.13153</td></tr>\n",
       "\t<tr><th scope=row>SL32246</th><td>1</td><td>10.875533</td><td>7.621517</td><td>5.330598</td><td>10.318146</td><td>0</td><td>10.792532</td><td>6.741836</td><td>2.228095</td><td>14.30426</td><td>...</td><td>11.07217</td><td>9.275455</td><td>14.84390</td><td>6.562177</td><td>11.22997</td><td>10.435360</td><td>8.245862</td><td>8.574552</td><td>10.216120</td><td>12.67341</td></tr>\n",
       "</tbody>\n",
       "</table>\n"
      ],
      "text/latex": [
       "A data.frame: 7 x 46\n",
       "\\begin{tabular}{r|lllllllllllllllllllll}\n",
       "  & Group & ANGEL2 & SLC47A2 & TNMD & MFSD11 & HSD17B2 & COX19 & SNTG2 & WDR72 & TEF & ... & MMD2 & HSD17B6 & GLUL & PRF1 & ITGB5 & ACSBG1 & PPP1R3G & SLCO1C1 & SLC25A33 & EZR\\\\\n",
       "  & <dbl> & <dbl> & <dbl> & <dbl> & <dbl> & <dbl> & <dbl> & <dbl> & <dbl> & <dbl> & ... & <dbl> & <dbl> & <dbl> & <dbl> & <dbl> & <dbl> & <dbl> & <dbl> & <dbl> & <dbl>\\\\\n",
       "\\hline\n",
       "\tSL32230 & 1 & 11.206205 & 7.900326 & 4.780515 & 10.224469 & 0 & 11.264708 & 5.291468 & 2.578752 & 14.71816 & ... & 10.46463 & 9.480090 & 14.86960 & 4.860200 & 10.54236 & 10.250913 & 8.183129 & 9.120635 &  9.698304 & 12.18940\\\\\n",
       "\tSL32231 & 1 & 10.851486 & 7.415898 & 4.403153 & 10.310308 & 0 & 10.436695 & 4.723438 & 2.739681 & 14.68516 & ... & 11.16590 & 9.467797 & 15.14141 & 7.273266 & 10.97270 & 10.362111 & 7.997964 & 9.064034 &  9.741030 & 12.58367\\\\\n",
       "\tSL32242 & 0 & 10.539424 & 7.266679 & 4.820117 & 10.091499 & 0 & 10.334620 & 2.915411 & 0.000000 & 14.35541 & ... & 11.01583 & 9.227823 & 14.81222 & 7.292919 & 11.28938 & 10.267209 & 8.347996 & 8.782367 &  9.832336 & 12.31590\\\\\n",
       "\tSL32243 & 0 &  9.772272 & 6.019452 & 3.869072 &  9.325202 & 0 &  9.657664 & 4.527770 & 1.187957 & 13.21886 & ... & 11.85251 & 9.706251 & 15.42736 & 8.024882 & 11.21189 & 11.206366 & 8.883174 & 9.613536 &  9.733199 & 12.83099\\\\\n",
       "\tSL32244 & 0 & 10.765445 & 6.927812 & 0.000000 & 10.274375 & 0 & 10.693926 & 6.196068 & 0.000000 & 14.70674 & ... & 11.26558 & 8.766995 & 14.42671 & 9.396863 & 10.80938 &  9.911524 & 8.335346 & 8.670232 & 10.002693 & 11.78133\\\\\n",
       "\tSL32245 & 1 & 11.064186 & 7.112978 & 5.662878 & 10.814246 & 0 & 10.936316 & 6.817926 & 0.000000 & 14.26918 & ... & 10.82715 & 9.853022 & 14.89950 & 7.939845 & 11.10488 &  9.695654 & 8.297715 & 8.503634 & 10.431149 & 12.13153\\\\\n",
       "\tSL32246 & 1 & 10.875533 & 7.621517 & 5.330598 & 10.318146 & 0 & 10.792532 & 6.741836 & 2.228095 & 14.30426 & ... & 11.07217 & 9.275455 & 14.84390 & 6.562177 & 11.22997 & 10.435360 & 8.245862 & 8.574552 & 10.216120 & 12.67341\\\\\n",
       "\\end{tabular}\n"
      ],
      "text/markdown": [
       "\n",
       "A data.frame: 7 x 46\n",
       "\n",
       "| <!--/--> | Group &lt;dbl&gt; | ANGEL2 &lt;dbl&gt; | SLC47A2 &lt;dbl&gt; | TNMD &lt;dbl&gt; | MFSD11 &lt;dbl&gt; | HSD17B2 &lt;dbl&gt; | COX19 &lt;dbl&gt; | SNTG2 &lt;dbl&gt; | WDR72 &lt;dbl&gt; | TEF &lt;dbl&gt; | ... ... | MMD2 &lt;dbl&gt; | HSD17B6 &lt;dbl&gt; | GLUL &lt;dbl&gt; | PRF1 &lt;dbl&gt; | ITGB5 &lt;dbl&gt; | ACSBG1 &lt;dbl&gt; | PPP1R3G &lt;dbl&gt; | SLCO1C1 &lt;dbl&gt; | SLC25A33 &lt;dbl&gt; | EZR &lt;dbl&gt; |\n",
       "|---|---|---|---|---|---|---|---|---|---|---|---|---|---|---|---|---|---|---|---|---|---|\n",
       "| SL32230 | 1 | 11.206205 | 7.900326 | 4.780515 | 10.224469 | 0 | 11.264708 | 5.291468 | 2.578752 | 14.71816 | ... | 10.46463 | 9.480090 | 14.86960 | 4.860200 | 10.54236 | 10.250913 | 8.183129 | 9.120635 |  9.698304 | 12.18940 |\n",
       "| SL32231 | 1 | 10.851486 | 7.415898 | 4.403153 | 10.310308 | 0 | 10.436695 | 4.723438 | 2.739681 | 14.68516 | ... | 11.16590 | 9.467797 | 15.14141 | 7.273266 | 10.97270 | 10.362111 | 7.997964 | 9.064034 |  9.741030 | 12.58367 |\n",
       "| SL32242 | 0 | 10.539424 | 7.266679 | 4.820117 | 10.091499 | 0 | 10.334620 | 2.915411 | 0.000000 | 14.35541 | ... | 11.01583 | 9.227823 | 14.81222 | 7.292919 | 11.28938 | 10.267209 | 8.347996 | 8.782367 |  9.832336 | 12.31590 |\n",
       "| SL32243 | 0 |  9.772272 | 6.019452 | 3.869072 |  9.325202 | 0 |  9.657664 | 4.527770 | 1.187957 | 13.21886 | ... | 11.85251 | 9.706251 | 15.42736 | 8.024882 | 11.21189 | 11.206366 | 8.883174 | 9.613536 |  9.733199 | 12.83099 |\n",
       "| SL32244 | 0 | 10.765445 | 6.927812 | 0.000000 | 10.274375 | 0 | 10.693926 | 6.196068 | 0.000000 | 14.70674 | ... | 11.26558 | 8.766995 | 14.42671 | 9.396863 | 10.80938 |  9.911524 | 8.335346 | 8.670232 | 10.002693 | 11.78133 |\n",
       "| SL32245 | 1 | 11.064186 | 7.112978 | 5.662878 | 10.814246 | 0 | 10.936316 | 6.817926 | 0.000000 | 14.26918 | ... | 10.82715 | 9.853022 | 14.89950 | 7.939845 | 11.10488 |  9.695654 | 8.297715 | 8.503634 | 10.431149 | 12.13153 |\n",
       "| SL32246 | 1 | 10.875533 | 7.621517 | 5.330598 | 10.318146 | 0 | 10.792532 | 6.741836 | 2.228095 | 14.30426 | ... | 11.07217 | 9.275455 | 14.84390 | 6.562177 | 11.22997 | 10.435360 | 8.245862 | 8.574552 | 10.216120 | 12.67341 |\n",
       "\n"
      ],
      "text/plain": [
       "        Group ANGEL2    SLC47A2  TNMD     MFSD11    HSD17B2 COX19     SNTG2   \n",
       "SL32230 1     11.206205 7.900326 4.780515 10.224469 0       11.264708 5.291468\n",
       "SL32231 1     10.851486 7.415898 4.403153 10.310308 0       10.436695 4.723438\n",
       "SL32242 0     10.539424 7.266679 4.820117 10.091499 0       10.334620 2.915411\n",
       "SL32243 0      9.772272 6.019452 3.869072  9.325202 0        9.657664 4.527770\n",
       "SL32244 0     10.765445 6.927812 0.000000 10.274375 0       10.693926 6.196068\n",
       "SL32245 1     11.064186 7.112978 5.662878 10.814246 0       10.936316 6.817926\n",
       "SL32246 1     10.875533 7.621517 5.330598 10.318146 0       10.792532 6.741836\n",
       "        WDR72    TEF      ... MMD2     HSD17B6  GLUL     PRF1     ITGB5   \n",
       "SL32230 2.578752 14.71816 ... 10.46463 9.480090 14.86960 4.860200 10.54236\n",
       "SL32231 2.739681 14.68516 ... 11.16590 9.467797 15.14141 7.273266 10.97270\n",
       "SL32242 0.000000 14.35541 ... 11.01583 9.227823 14.81222 7.292919 11.28938\n",
       "SL32243 1.187957 13.21886 ... 11.85251 9.706251 15.42736 8.024882 11.21189\n",
       "SL32244 0.000000 14.70674 ... 11.26558 8.766995 14.42671 9.396863 10.80938\n",
       "SL32245 0.000000 14.26918 ... 10.82715 9.853022 14.89950 7.939845 11.10488\n",
       "SL32246 2.228095 14.30426 ... 11.07217 9.275455 14.84390 6.562177 11.22997\n",
       "        ACSBG1    PPP1R3G  SLCO1C1  SLC25A33  EZR     \n",
       "SL32230 10.250913 8.183129 9.120635  9.698304 12.18940\n",
       "SL32231 10.362111 7.997964 9.064034  9.741030 12.58367\n",
       "SL32242 10.267209 8.347996 8.782367  9.832336 12.31590\n",
       "SL32243 11.206366 8.883174 9.613536  9.733199 12.83099\n",
       "SL32244  9.911524 8.335346 8.670232 10.002693 11.78133\n",
       "SL32245  9.695654 8.297715 8.503634 10.431149 12.13153\n",
       "SL32246 10.435360 8.245862 8.574552 10.216120 12.67341"
      ]
     },
     "metadata": {},
     "output_type": "display_data"
    }
   ],
   "source": [
    "head(expr4,7)"
   ]
  },
  {
   "cell_type": "code",
   "execution_count": 106,
   "id": "50cc8b04-2d6a-4b38-906a-64735c1fdf08",
   "metadata": {
    "scrolled": true
   },
   "outputs": [
    {
     "name": "stdout",
     "output_type": "stream",
     "text": [
      "[1] \"ANGEL2 0.75\"\n"
     ]
    },
    {
     "name": "stderr",
     "output_type": "stream",
     "text": [
      "\u001b[1m\u001b[22mSaving 6.67 x 6.67 in image\n",
      "Warning message in geom_segment(aes(x = 0, xend = 1, y = 0, yend = 1), color = \"darkgrey\", :\n",
      "\"\u001b[1m\u001b[22mAll aesthetics have length 1, but the data has 48 rows.\n",
      "\u001b[36mi\u001b[39m Please consider using `annotate()` or provide this layer with data containing\n",
      "  a single row.\"\n"
     ]
    },
    {
     "name": "stdout",
     "output_type": "stream",
     "text": [
      "[1] \"SLC47A2 0.697463768115942\"\n"
     ]
    },
    {
     "name": "stderr",
     "output_type": "stream",
     "text": [
      "\u001b[1m\u001b[22mSaving 6.67 x 6.67 in image\n",
      "Warning message in geom_segment(aes(x = 0, xend = 1, y = 0, yend = 1), color = \"darkgrey\", :\n",
      "\"\u001b[1m\u001b[22mAll aesthetics have length 1, but the data has 48 rows.\n",
      "\u001b[36mi\u001b[39m Please consider using `annotate()` or provide this layer with data containing\n",
      "  a single row.\"\n"
     ]
    },
    {
     "name": "stdout",
     "output_type": "stream",
     "text": [
      "[1] \"TNMD 0.708333333333333\"\n"
     ]
    },
    {
     "name": "stderr",
     "output_type": "stream",
     "text": [
      "\u001b[1m\u001b[22mSaving 6.67 x 6.67 in image\n",
      "Warning message in geom_segment(aes(x = 0, xend = 1, y = 0, yend = 1), color = \"darkgrey\", :\n",
      "\"\u001b[1m\u001b[22mAll aesthetics have length 1, but the data has 45 rows.\n",
      "\u001b[36mi\u001b[39m Please consider using `annotate()` or provide this layer with data containing\n",
      "  a single row.\"\n"
     ]
    },
    {
     "name": "stdout",
     "output_type": "stream",
     "text": [
      "[1] \"MFSD11 0.71195652173913\"\n"
     ]
    },
    {
     "name": "stderr",
     "output_type": "stream",
     "text": [
      "\u001b[1m\u001b[22mSaving 6.67 x 6.67 in image\n",
      "Warning message in geom_segment(aes(x = 0, xend = 1, y = 0, yend = 1), color = \"darkgrey\", :\n",
      "\"\u001b[1m\u001b[22mAll aesthetics have length 1, but the data has 48 rows.\n",
      "\u001b[36mi\u001b[39m Please consider using `annotate()` or provide this layer with data containing\n",
      "  a single row.\"\n"
     ]
    },
    {
     "name": "stdout",
     "output_type": "stream",
     "text": [
      "[1] \"HSD17B2 0.681159420289855\"\n"
     ]
    },
    {
     "name": "stderr",
     "output_type": "stream",
     "text": [
      "\u001b[1m\u001b[22mSaving 6.67 x 6.67 in image\n",
      "Warning message in geom_segment(aes(x = 0, xend = 1, y = 0, yend = 1), color = \"darkgrey\", :\n",
      "\"\u001b[1m\u001b[22mAll aesthetics have length 1, but the data has 26 rows.\n",
      "\u001b[36mi\u001b[39m Please consider using `annotate()` or provide this layer with data containing\n",
      "  a single row.\"\n"
     ]
    },
    {
     "name": "stdout",
     "output_type": "stream",
     "text": [
      "[1] \"COX19 0.730072463768116\"\n"
     ]
    },
    {
     "name": "stderr",
     "output_type": "stream",
     "text": [
      "\u001b[1m\u001b[22mSaving 6.67 x 6.67 in image\n",
      "Warning message in geom_segment(aes(x = 0, xend = 1, y = 0, yend = 1), color = \"darkgrey\", :\n",
      "\"\u001b[1m\u001b[22mAll aesthetics have length 1, but the data has 48 rows.\n",
      "\u001b[36mi\u001b[39m Please consider using `annotate()` or provide this layer with data containing\n",
      "  a single row.\"\n"
     ]
    },
    {
     "name": "stdout",
     "output_type": "stream",
     "text": [
      "[1] \"SNTG2 0.773550724637681\"\n"
     ]
    },
    {
     "name": "stderr",
     "output_type": "stream",
     "text": [
      "\u001b[1m\u001b[22mSaving 6.67 x 6.67 in image\n",
      "Warning message in geom_segment(aes(x = 0, xend = 1, y = 0, yend = 1), color = \"darkgrey\", :\n",
      "\"\u001b[1m\u001b[22mAll aesthetics have length 1, but the data has 48 rows.\n",
      "\u001b[36mi\u001b[39m Please consider using `annotate()` or provide this layer with data containing\n",
      "  a single row.\"\n"
     ]
    },
    {
     "name": "stdout",
     "output_type": "stream",
     "text": [
      "[1] \"WDR72 0.719202898550725\"\n"
     ]
    },
    {
     "name": "stderr",
     "output_type": "stream",
     "text": [
      "\u001b[1m\u001b[22mSaving 6.67 x 6.67 in image\n",
      "Warning message in geom_segment(aes(x = 0, xend = 1, y = 0, yend = 1), color = \"darkgrey\", :\n",
      "\"\u001b[1m\u001b[22mAll aesthetics have length 1, but the data has 41 rows.\n",
      "\u001b[36mi\u001b[39m Please consider using `annotate()` or provide this layer with data containing\n",
      "  a single row.\"\n"
     ]
    },
    {
     "name": "stdout",
     "output_type": "stream",
     "text": [
      "[1] \"TEF 0.759057971014493\"\n"
     ]
    },
    {
     "name": "stderr",
     "output_type": "stream",
     "text": [
      "\u001b[1m\u001b[22mSaving 6.67 x 6.67 in image\n",
      "Warning message in geom_segment(aes(x = 0, xend = 1, y = 0, yend = 1), color = \"darkgrey\", :\n",
      "\"\u001b[1m\u001b[22mAll aesthetics have length 1, but the data has 48 rows.\n",
      "\u001b[36mi\u001b[39m Please consider using `annotate()` or provide this layer with data containing\n",
      "  a single row.\"\n"
     ]
    },
    {
     "name": "stdout",
     "output_type": "stream",
     "text": [
      "[1] \"KRBOX4 0.751811594202899\"\n"
     ]
    },
    {
     "name": "stderr",
     "output_type": "stream",
     "text": [
      "\u001b[1m\u001b[22mSaving 6.67 x 6.67 in image\n",
      "Warning message in geom_segment(aes(x = 0, xend = 1, y = 0, yend = 1), color = \"darkgrey\", :\n",
      "\"\u001b[1m\u001b[22mAll aesthetics have length 1, but the data has 48 rows.\n",
      "\u001b[36mi\u001b[39m Please consider using `annotate()` or provide this layer with data containing\n",
      "  a single row.\"\n"
     ]
    },
    {
     "name": "stdout",
     "output_type": "stream",
     "text": [
      "[1] \"RNF130 0.755434782608696\"\n"
     ]
    },
    {
     "name": "stderr",
     "output_type": "stream",
     "text": [
      "\u001b[1m\u001b[22mSaving 6.67 x 6.67 in image\n",
      "Warning message in geom_segment(aes(x = 0, xend = 1, y = 0, yend = 1), color = \"darkgrey\", :\n",
      "\"\u001b[1m\u001b[22mAll aesthetics have length 1, but the data has 48 rows.\n",
      "\u001b[36mi\u001b[39m Please consider using `annotate()` or provide this layer with data containing\n",
      "  a single row.\"\n"
     ]
    },
    {
     "name": "stdout",
     "output_type": "stream",
     "text": [
      "[1] \"CNOT11 0.702898550724638\"\n"
     ]
    },
    {
     "name": "stderr",
     "output_type": "stream",
     "text": [
      "\u001b[1m\u001b[22mSaving 6.67 x 6.67 in image\n",
      "Warning message in geom_segment(aes(x = 0, xend = 1, y = 0, yend = 1), color = \"darkgrey\", :\n",
      "\"\u001b[1m\u001b[22mAll aesthetics have length 1, but the data has 48 rows.\n",
      "\u001b[36mi\u001b[39m Please consider using `annotate()` or provide this layer with data containing\n",
      "  a single row.\"\n"
     ]
    },
    {
     "name": "stdout",
     "output_type": "stream",
     "text": [
      "[1] \"OLFM2 0.51268115942029\"\n"
     ]
    },
    {
     "name": "stderr",
     "output_type": "stream",
     "text": [
      "\u001b[1m\u001b[22mSaving 6.67 x 6.67 in image\n",
      "Warning message in geom_segment(aes(x = 0, xend = 1, y = 0, yend = 1), color = \"darkgrey\", :\n",
      "\"\u001b[1m\u001b[22mAll aesthetics have length 1, but the data has 48 rows.\n",
      "\u001b[36mi\u001b[39m Please consider using `annotate()` or provide this layer with data containing\n",
      "  a single row.\"\n"
     ]
    },
    {
     "name": "stdout",
     "output_type": "stream",
     "text": [
      "[1] \"ITM2C 0.581521739130435\"\n"
     ]
    },
    {
     "name": "stderr",
     "output_type": "stream",
     "text": [
      "\u001b[1m\u001b[22mSaving 6.67 x 6.67 in image\n",
      "Warning message in geom_segment(aes(x = 0, xend = 1, y = 0, yend = 1), color = \"darkgrey\", :\n",
      "\"\u001b[1m\u001b[22mAll aesthetics have length 1, but the data has 48 rows.\n",
      "\u001b[36mi\u001b[39m Please consider using `annotate()` or provide this layer with data containing\n",
      "  a single row.\"\n"
     ]
    }
   ],
   "source": [
    "library(caret)\n",
    "library(ggplot2)\n",
    "\n",
    " a = c()\n",
    "# \n",
    "for (i in model.gene){\n",
    "    res<-pROC::roc(Group~expr4[,i],data=expr4,aur=TRUE,\n",
    "         ci=TRUE, # 显示95%CI\n",
    "         #percent=TRUE, # 是否需要以百分比显示\n",
    "         smooth=FALSE,# 是否平滑曲线\n",
    "         levels=c(0,1),direction=\"<\" #设置分组方向\n",
    "         )\n",
    "    if (res$auc > 0.5){\n",
    "        a = append(a,i)\n",
    "        print(paste0(i,' ',res$auc))\n",
    "        p = pROC::ggroc(res, color =\"red\",legacy.axes = TRUE)+\n",
    "  geom_segment(aes(x = 0, xend = 1, y = 0, yend = 1), color=\"darkgrey\", linetype=4)+\n",
    "  theme_bw() + # 设置背景\n",
    "  ggtitle(paste0(i,\" ROC Curve\"))+\n",
    "  theme(plot.title = element_text(hjust = 0.5,size = 16),\n",
    "        axis.text=element_text(size=12,colour = \"black\"),\n",
    "        axis.title.x = element_text(size = 14),\n",
    "        axis.title.y = element_text(size = 14))\n",
    "p+annotate(\"text\",x=0.75,y=0.25,label=paste(\"AUC = \", round(res$auc,3)))+\n",
    "  annotate(\"text\",x=0.75,y=0.20,label=paste(\"95%CI: \", round(res$ci[1],3),'-',round(res$ci[3],3)))\n",
    "    ggsave(file = paste0(i,'.ROC.pdf'))\n",
    "}else{\n",
    "        \n",
    "}\n",
    "\n",
    "    \n",
    "    }"
   ]
  },
  {
   "cell_type": "markdown",
   "id": "d157d346-4a53-4133-b0d2-f2a92aea9d56",
   "metadata": {},
   "source": [
    "### 批量单因素逻辑回归"
   ]
  },
  {
   "cell_type": "code",
   "execution_count": 107,
   "id": "77f4befb-4acc-47c4-92e3-e9b3b9edb649",
   "metadata": {},
   "outputs": [
    {
     "data": {
      "text/html": [
       "<style>\n",
       ".list-inline {list-style: none; margin:0; padding: 0}\n",
       ".list-inline>li {display: inline-block}\n",
       ".list-inline>li:not(:last-child)::after {content: \"\\00b7\"; padding: 0 .5ex}\n",
       "</style>\n",
       "<ol class=list-inline><li>'ANGEL2'</li><li>'SLC47A2'</li><li>'TNMD'</li><li>'MFSD11'</li><li>'HSD17B2'</li><li>'COX19'</li><li>'SNTG2'</li><li>'WDR72'</li><li>'TEF'</li><li>'KRBOX4'</li><li>'RNF130'</li><li>'CNOT11'</li><li>'OLFM2'</li><li>'ITM2C'</li></ol>\n"
      ],
      "text/latex": [
       "\\begin{enumerate*}\n",
       "\\item 'ANGEL2'\n",
       "\\item 'SLC47A2'\n",
       "\\item 'TNMD'\n",
       "\\item 'MFSD11'\n",
       "\\item 'HSD17B2'\n",
       "\\item 'COX19'\n",
       "\\item 'SNTG2'\n",
       "\\item 'WDR72'\n",
       "\\item 'TEF'\n",
       "\\item 'KRBOX4'\n",
       "\\item 'RNF130'\n",
       "\\item 'CNOT11'\n",
       "\\item 'OLFM2'\n",
       "\\item 'ITM2C'\n",
       "\\end{enumerate*}\n"
      ],
      "text/markdown": [
       "1. 'ANGEL2'\n",
       "2. 'SLC47A2'\n",
       "3. 'TNMD'\n",
       "4. 'MFSD11'\n",
       "5. 'HSD17B2'\n",
       "6. 'COX19'\n",
       "7. 'SNTG2'\n",
       "8. 'WDR72'\n",
       "9. 'TEF'\n",
       "10. 'KRBOX4'\n",
       "11. 'RNF130'\n",
       "12. 'CNOT11'\n",
       "13. 'OLFM2'\n",
       "14. 'ITM2C'\n",
       "\n",
       "\n"
      ],
      "text/plain": [
       " [1] \"ANGEL2\"  \"SLC47A2\" \"TNMD\"    \"MFSD11\"  \"HSD17B2\" \"COX19\"   \"SNTG2\"  \n",
       " [8] \"WDR72\"   \"TEF\"     \"KRBOX4\"  \"RNF130\"  \"CNOT11\"  \"OLFM2\"   \"ITM2C\"  "
      ]
     },
     "metadata": {},
     "output_type": "display_data"
    }
   ],
   "source": [
    "a"
   ]
  },
  {
   "cell_type": "code",
   "execution_count": 34,
   "id": "e036efed-c5c6-4fbd-95a2-10527bf30650",
   "metadata": {},
   "outputs": [],
   "source": [
    "# boruta.variable.imp2 = boruta.variable.imp %>% dplyr::filter(finalDecision %in% c('Confirmed','Tentative')) %>% dplyr::select(Variable) %>% unique()\n",
    "# Boruta.gene = as.vector(boruta.variable.imp2$Variable)"
   ]
  },
  {
   "cell_type": "code",
   "execution_count": 35,
   "id": "f14e2d32-733e-4d6c-9025-d96fe3b53dcc",
   "metadata": {},
   "outputs": [
    {
     "data": {
      "text/html": [
       "<style>\n",
       ".list-inline {list-style: none; margin:0; padding: 0}\n",
       ".list-inline>li {display: inline-block}\n",
       ".list-inline>li:not(:last-child)::after {content: \"\\00b7\"; padding: 0 .5ex}\n",
       "</style>\n",
       "<ol class=list-inline><li>'ARSF'</li><li>'COX19'</li><li>'EDNRB'</li><li>'KRBOX4'</li><li>'RNF130'</li><li>'SNTG2'</li><li>'TEF'</li><li>'WDR72'</li></ol>\n"
      ],
      "text/latex": [
       "\\begin{enumerate*}\n",
       "\\item 'ARSF'\n",
       "\\item 'COX19'\n",
       "\\item 'EDNRB'\n",
       "\\item 'KRBOX4'\n",
       "\\item 'RNF130'\n",
       "\\item 'SNTG2'\n",
       "\\item 'TEF'\n",
       "\\item 'WDR72'\n",
       "\\end{enumerate*}\n"
      ],
      "text/markdown": [
       "1. 'ARSF'\n",
       "2. 'COX19'\n",
       "3. 'EDNRB'\n",
       "4. 'KRBOX4'\n",
       "5. 'RNF130'\n",
       "6. 'SNTG2'\n",
       "7. 'TEF'\n",
       "8. 'WDR72'\n",
       "\n",
       "\n"
      ],
      "text/plain": [
       "[1] \"ARSF\"   \"COX19\"  \"EDNRB\"  \"KRBOX4\" \"RNF130\" \"SNTG2\"  \"TEF\"    \"WDR72\" "
      ]
     },
     "metadata": {},
     "output_type": "display_data"
    }
   ],
   "source": [
    "Boruta.gene"
   ]
  },
  {
   "cell_type": "code",
   "execution_count": 108,
   "id": "0a96cc4e-71d6-496c-aab6-22aaa7a75a8c",
   "metadata": {},
   "outputs": [],
   "source": [
    "rf = names(rfGenes)[1:10]"
   ]
  },
  {
   "cell_type": "code",
   "execution_count": 109,
   "id": "bba466a2-6b3e-4ece-ae2f-059182576ab4",
   "metadata": {},
   "outputs": [
    {
     "data": {
      "text/html": [
       "<style>\n",
       ".list-inline {list-style: none; margin:0; padding: 0}\n",
       ".list-inline>li {display: inline-block}\n",
       ".list-inline>li:not(:last-child)::after {content: \"\\00b7\"; padding: 0 .5ex}\n",
       "</style>\n",
       "<ol class=list-inline><li>'SNTG2'</li><li>'KRBOX4'</li><li>'WDR72'</li><li>'PRF1'</li><li>'COX19'</li><li>'RNF130'</li><li>'ARSF'</li><li>'EDNRB'</li><li>'TEF'</li><li>'TNMD'</li></ol>\n"
      ],
      "text/latex": [
       "\\begin{enumerate*}\n",
       "\\item 'SNTG2'\n",
       "\\item 'KRBOX4'\n",
       "\\item 'WDR72'\n",
       "\\item 'PRF1'\n",
       "\\item 'COX19'\n",
       "\\item 'RNF130'\n",
       "\\item 'ARSF'\n",
       "\\item 'EDNRB'\n",
       "\\item 'TEF'\n",
       "\\item 'TNMD'\n",
       "\\end{enumerate*}\n"
      ],
      "text/markdown": [
       "1. 'SNTG2'\n",
       "2. 'KRBOX4'\n",
       "3. 'WDR72'\n",
       "4. 'PRF1'\n",
       "5. 'COX19'\n",
       "6. 'RNF130'\n",
       "7. 'ARSF'\n",
       "8. 'EDNRB'\n",
       "9. 'TEF'\n",
       "10. 'TNMD'\n",
       "\n",
       "\n"
      ],
      "text/plain": [
       " [1] \"SNTG2\"  \"KRBOX4\" \"WDR72\"  \"PRF1\"   \"COX19\"  \"RNF130\" \"ARSF\"   \"EDNRB\" \n",
       " [9] \"TEF\"    \"TNMD\"  "
      ]
     },
     "metadata": {},
     "output_type": "display_data"
    }
   ],
   "source": [
    "rf"
   ]
  },
  {
   "cell_type": "code",
   "execution_count": 40,
   "id": "7fd27049-4304-4669-8710-80c6e0fc88f2",
   "metadata": {},
   "outputs": [
    {
     "data": {
      "text/html": [
       "<style>\n",
       ".list-inline {list-style: none; margin:0; padding: 0}\n",
       ".list-inline>li {display: inline-block}\n",
       ".list-inline>li:not(:last-child)::after {content: \"\\00b7\"; padding: 0 .5ex}\n",
       "</style>\n",
       "<ol class=list-inline><li>'TNMD'</li><li>'HSD17B2'</li><li>'SNTG2'</li><li>'WDR72'</li><li>'TEF'</li><li>'RNF130'</li><li>'RRAD'</li><li>'ALDH1A1'</li><li>'TXNDC2'</li><li>'HSD17B6'</li><li>'PRF1'</li><li>'ITGB5'</li><li>'SLC25A33'</li></ol>\n"
      ],
      "text/latex": [
       "\\begin{enumerate*}\n",
       "\\item 'TNMD'\n",
       "\\item 'HSD17B2'\n",
       "\\item 'SNTG2'\n",
       "\\item 'WDR72'\n",
       "\\item 'TEF'\n",
       "\\item 'RNF130'\n",
       "\\item 'RRAD'\n",
       "\\item 'ALDH1A1'\n",
       "\\item 'TXNDC2'\n",
       "\\item 'HSD17B6'\n",
       "\\item 'PRF1'\n",
       "\\item 'ITGB5'\n",
       "\\item 'SLC25A33'\n",
       "\\end{enumerate*}\n"
      ],
      "text/markdown": [
       "1. 'TNMD'\n",
       "2. 'HSD17B2'\n",
       "3. 'SNTG2'\n",
       "4. 'WDR72'\n",
       "5. 'TEF'\n",
       "6. 'RNF130'\n",
       "7. 'RRAD'\n",
       "8. 'ALDH1A1'\n",
       "9. 'TXNDC2'\n",
       "10. 'HSD17B6'\n",
       "11. 'PRF1'\n",
       "12. 'ITGB5'\n",
       "13. 'SLC25A33'\n",
       "\n",
       "\n"
      ],
      "text/plain": [
       " [1] \"TNMD\"     \"HSD17B2\"  \"SNTG2\"    \"WDR72\"    \"TEF\"      \"RNF130\"  \n",
       " [7] \"RRAD\"     \"ALDH1A1\"  \"TXNDC2\"   \"HSD17B6\"  \"PRF1\"     \"ITGB5\"   \n",
       "[13] \"SLC25A33\""
      ]
     },
     "metadata": {},
     "output_type": "display_data"
    }
   ],
   "source": [
    "gene_1se"
   ]
  },
  {
   "cell_type": "code",
   "execution_count": 41,
   "id": "fefca6fb-2fa0-4008-bba4-2855806e4921",
   "metadata": {},
   "outputs": [],
   "source": [
    "c = intersect(rf,a)"
   ]
  },
  {
   "cell_type": "code",
   "execution_count": 42,
   "id": "95cc8239-9b25-4461-b992-90a65f34d908",
   "metadata": {},
   "outputs": [
    {
     "data": {
      "text/html": [
       "<style>\n",
       ".list-inline {list-style: none; margin:0; padding: 0}\n",
       ".list-inline>li {display: inline-block}\n",
       ".list-inline>li:not(:last-child)::after {content: \"\\00b7\"; padding: 0 .5ex}\n",
       "</style>\n",
       "<ol class=list-inline><li>'SNTG2'</li><li>'KRBOX4'</li><li>'WDR72'</li><li>'COX19'</li><li>'RNF130'</li><li>'TEF'</li><li>'TNMD'</li></ol>\n"
      ],
      "text/latex": [
       "\\begin{enumerate*}\n",
       "\\item 'SNTG2'\n",
       "\\item 'KRBOX4'\n",
       "\\item 'WDR72'\n",
       "\\item 'COX19'\n",
       "\\item 'RNF130'\n",
       "\\item 'TEF'\n",
       "\\item 'TNMD'\n",
       "\\end{enumerate*}\n"
      ],
      "text/markdown": [
       "1. 'SNTG2'\n",
       "2. 'KRBOX4'\n",
       "3. 'WDR72'\n",
       "4. 'COX19'\n",
       "5. 'RNF130'\n",
       "6. 'TEF'\n",
       "7. 'TNMD'\n",
       "\n",
       "\n"
      ],
      "text/plain": [
       "[1] \"SNTG2\"  \"KRBOX4\" \"WDR72\"  \"COX19\"  \"RNF130\" \"TEF\"    \"TNMD\"  "
      ]
     },
     "metadata": {},
     "output_type": "display_data"
    }
   ],
   "source": [
    "c"
   ]
  },
  {
   "cell_type": "code",
   "execution_count": 185,
   "id": "1ff1a0b0-c719-42d7-a090-c4ac909a3d34",
   "metadata": {},
   "outputs": [],
   "source": [
    "s  = intersect(Boruta.gene,rf)"
   ]
  },
  {
   "cell_type": "code",
   "execution_count": 186,
   "id": "17707906-309e-4d6d-8b59-b0e4c0802d60",
   "metadata": {},
   "outputs": [
    {
     "data": {
      "text/html": [
       "<style>\n",
       ".list-inline {list-style: none; margin:0; padding: 0}\n",
       ".list-inline>li {display: inline-block}\n",
       ".list-inline>li:not(:last-child)::after {content: \"\\00b7\"; padding: 0 .5ex}\n",
       "</style>\n",
       "<ol class=list-inline><li>'ARSF'</li><li>'COX19'</li><li>'EDNRB'</li><li>'KRBOX4'</li><li>'RNF130'</li><li>'SNTG2'</li><li>'TEF'</li><li>'WDR72'</li></ol>\n"
      ],
      "text/latex": [
       "\\begin{enumerate*}\n",
       "\\item 'ARSF'\n",
       "\\item 'COX19'\n",
       "\\item 'EDNRB'\n",
       "\\item 'KRBOX4'\n",
       "\\item 'RNF130'\n",
       "\\item 'SNTG2'\n",
       "\\item 'TEF'\n",
       "\\item 'WDR72'\n",
       "\\end{enumerate*}\n"
      ],
      "text/markdown": [
       "1. 'ARSF'\n",
       "2. 'COX19'\n",
       "3. 'EDNRB'\n",
       "4. 'KRBOX4'\n",
       "5. 'RNF130'\n",
       "6. 'SNTG2'\n",
       "7. 'TEF'\n",
       "8. 'WDR72'\n",
       "\n",
       "\n"
      ],
      "text/plain": [
       "[1] \"ARSF\"   \"COX19\"  \"EDNRB\"  \"KRBOX4\" \"RNF130\" \"SNTG2\"  \"TEF\"    \"WDR72\" "
      ]
     },
     "metadata": {},
     "output_type": "display_data"
    }
   ],
   "source": [
    "s"
   ]
  },
  {
   "cell_type": "code",
   "execution_count": 45,
   "id": "a7637f26-3102-4547-b863-487852b8ece4",
   "metadata": {},
   "outputs": [
    {
     "data": {
      "text/html": [
       "<style>\n",
       ".list-inline {list-style: none; margin:0; padding: 0}\n",
       ".list-inline>li {display: inline-block}\n",
       ".list-inline>li:not(:last-child)::after {content: \"\\00b7\"; padding: 0 .5ex}\n",
       "</style>\n",
       "<ol class=list-inline><li>'ANGEL2'</li><li>'SLC47A2'</li><li>'TNMD'</li><li>'MFSD11'</li><li>'HSD17B2'</li><li>'COX19'</li><li>'SNTG2'</li><li>'WDR72'</li><li>'TEF'</li><li>'KRBOX4'</li><li>'RNF130'</li><li>'CNOT11'</li><li>'OLFM2'</li><li>'ITM2C'</li></ol>\n"
      ],
      "text/latex": [
       "\\begin{enumerate*}\n",
       "\\item 'ANGEL2'\n",
       "\\item 'SLC47A2'\n",
       "\\item 'TNMD'\n",
       "\\item 'MFSD11'\n",
       "\\item 'HSD17B2'\n",
       "\\item 'COX19'\n",
       "\\item 'SNTG2'\n",
       "\\item 'WDR72'\n",
       "\\item 'TEF'\n",
       "\\item 'KRBOX4'\n",
       "\\item 'RNF130'\n",
       "\\item 'CNOT11'\n",
       "\\item 'OLFM2'\n",
       "\\item 'ITM2C'\n",
       "\\end{enumerate*}\n"
      ],
      "text/markdown": [
       "1. 'ANGEL2'\n",
       "2. 'SLC47A2'\n",
       "3. 'TNMD'\n",
       "4. 'MFSD11'\n",
       "5. 'HSD17B2'\n",
       "6. 'COX19'\n",
       "7. 'SNTG2'\n",
       "8. 'WDR72'\n",
       "9. 'TEF'\n",
       "10. 'KRBOX4'\n",
       "11. 'RNF130'\n",
       "12. 'CNOT11'\n",
       "13. 'OLFM2'\n",
       "14. 'ITM2C'\n",
       "\n",
       "\n"
      ],
      "text/plain": [
       " [1] \"ANGEL2\"  \"SLC47A2\" \"TNMD\"    \"MFSD11\"  \"HSD17B2\" \"COX19\"   \"SNTG2\"  \n",
       " [8] \"WDR72\"   \"TEF\"     \"KRBOX4\"  \"RNF130\"  \"CNOT11\"  \"OLFM2\"   \"ITM2C\"  "
      ]
     },
     "metadata": {},
     "output_type": "display_data"
    }
   ],
   "source": [
    "a"
   ]
  },
  {
   "cell_type": "code",
   "execution_count": 79,
   "id": "36733460-ad9a-41ff-b6bd-8d60dc3e2b20",
   "metadata": {},
   "outputs": [],
   "source": [
    "b1 = intersect(a,intersect(Boruta.gene,rf))"
   ]
  },
  {
   "cell_type": "code",
   "execution_count": 50,
   "id": "9c62a0f2-271b-41a9-8cf7-2f34116d5755",
   "metadata": {},
   "outputs": [
    {
     "data": {
      "text/html": [
       "<style>\n",
       ".list-inline {list-style: none; margin:0; padding: 0}\n",
       ".list-inline>li {display: inline-block}\n",
       ".list-inline>li:not(:last-child)::after {content: \"\\00b7\"; padding: 0 .5ex}\n",
       "</style>\n",
       "<ol class=list-inline><li>'COX19'</li><li>'SNTG2'</li><li>'WDR72'</li><li>'TEF'</li><li>'KRBOX4'</li><li>'RNF130'</li></ol>\n"
      ],
      "text/latex": [
       "\\begin{enumerate*}\n",
       "\\item 'COX19'\n",
       "\\item 'SNTG2'\n",
       "\\item 'WDR72'\n",
       "\\item 'TEF'\n",
       "\\item 'KRBOX4'\n",
       "\\item 'RNF130'\n",
       "\\end{enumerate*}\n"
      ],
      "text/markdown": [
       "1. 'COX19'\n",
       "2. 'SNTG2'\n",
       "3. 'WDR72'\n",
       "4. 'TEF'\n",
       "5. 'KRBOX4'\n",
       "6. 'RNF130'\n",
       "\n",
       "\n"
      ],
      "text/plain": [
       "[1] \"COX19\"  \"SNTG2\"  \"WDR72\"  \"TEF\"    \"KRBOX4\" \"RNF130\""
      ]
     },
     "metadata": {},
     "output_type": "display_data"
    }
   ],
   "source": [
    "b"
   ]
  },
  {
   "cell_type": "code",
   "execution_count": 80,
   "id": "9d4259ea-f3c6-42eb-9f23-64515feb2486",
   "metadata": {},
   "outputs": [
    {
     "data": {
      "text/html": [
       "<style>\n",
       ".list-inline {list-style: none; margin:0; padding: 0}\n",
       ".list-inline>li {display: inline-block}\n",
       ".list-inline>li:not(:last-child)::after {content: \"\\00b7\"; padding: 0 .5ex}\n",
       "</style>\n",
       "<ol class=list-inline><li>'COX19'</li><li>'SNTG2'</li><li>'WDR72'</li><li>'TEF'</li><li>'KRBOX4'</li><li>'RNF130'</li></ol>\n"
      ],
      "text/latex": [
       "\\begin{enumerate*}\n",
       "\\item 'COX19'\n",
       "\\item 'SNTG2'\n",
       "\\item 'WDR72'\n",
       "\\item 'TEF'\n",
       "\\item 'KRBOX4'\n",
       "\\item 'RNF130'\n",
       "\\end{enumerate*}\n"
      ],
      "text/markdown": [
       "1. 'COX19'\n",
       "2. 'SNTG2'\n",
       "3. 'WDR72'\n",
       "4. 'TEF'\n",
       "5. 'KRBOX4'\n",
       "6. 'RNF130'\n",
       "\n",
       "\n"
      ],
      "text/plain": [
       "[1] \"COX19\"  \"SNTG2\"  \"WDR72\"  \"TEF\"    \"KRBOX4\" \"RNF130\""
      ]
     },
     "metadata": {},
     "output_type": "display_data"
    }
   ],
   "source": [
    "b1"
   ]
  },
  {
   "cell_type": "markdown",
   "id": "c8a7f800-5006-4705-9d18-be786ca7a56e",
   "metadata": {},
   "source": [
    "### overlap"
   ]
  },
  {
   "cell_type": "code",
   "execution_count": 110,
   "id": "bf549b02-0f62-45db-9830-a753b14ad612",
   "metadata": {},
   "outputs": [
    {
     "name": "stderr",
     "output_type": "stream",
     "text": [
      "Loading required package: grid\n",
      "\n",
      "Loading required package: futile.logger\n",
      "\n",
      "Warning message:\n",
      "\"package 'futile.logger' was built under R version 4.2.3\"\n"
     ]
    }
   ],
   "source": [
    "library (VennDiagram)  "
   ]
  },
  {
   "cell_type": "code",
   "execution_count": 122,
   "id": "97a4476b-7765-4d31-86b7-7274c422f275",
   "metadata": {},
   "outputs": [],
   "source": [
    "sample_list <- list(AUC = a, RF.Gene = rf,Boruta.gene  = Boruta.gene)"
   ]
  },
  {
   "cell_type": "code",
   "execution_count": 124,
   "id": "a86cf702-c94d-4882-9e7d-b538d1ebb978",
   "metadata": {},
   "outputs": [
    {
     "name": "stderr",
     "output_type": "stream",
     "text": [
      "Warning message:\n",
      "\"package 'venn' was built under R version 4.2.3\"\n"
     ]
    }
   ],
   "source": [
    "library(venn)\n",
    "        library(VennDiagram)\n",
    "        color=c( \"#3C5488B2\",\"#00A087B2\", \n",
    "             \"#F39B7FB2\",\"#91D1C2B2\", \n",
    "             \"#8491B4B2\", \"#DC0000B2\", \n",
    "             \"#7E6148B2\",\"yellow\", \n",
    "             \"darkolivegreen1\", \"lightskyblue\", \n",
    "             \"darkgreen\", \"deeppink\", \"khaki2\", \n",
    "             \"firebrick\", \"brown1\", \"darkorange1\", \n",
    "             \"cyan1\", \"royalblue4\", \"darksalmon\", \n",
    "             \"darkgoldenrod1\", \"darkseagreen\", \"darkorchid\")"
   ]
  },
  {
   "cell_type": "code",
   "execution_count": 128,
   "id": "275baac7-ba15-43ee-9fe9-2b230381b16f",
   "metadata": {},
   "outputs": [],
   "source": [
    "options(repr.plot.width = 8)"
   ]
  },
  {
   "cell_type": "code",
   "execution_count": 132,
   "id": "5f16e3be-5227-400c-bdb6-c089d66e0cb9",
   "metadata": {},
   "outputs": [],
   "source": [
    "q <- venn.diagram(sample_list,filename = NULL,\n",
    "             fill = color[1:(length(sample_list))],\n",
    "             alpha = 0.50, cat.col = rep('black', 3), \n",
    "             col = 'black', cex = 1, fontfamily = 'serif', cat.cex = 1, cat.fontfamily = 'serif', margin = 0.2\n",
    "                             )"
   ]
  },
  {
   "cell_type": "code",
   "execution_count": 133,
   "id": "596532ab-1963-4015-9dd2-b60227b15ce9",
   "metadata": {},
   "outputs": [
    {
     "data": {
      "image/png": "[encoded data removed]",
      "text/plain": [
       "plot without title"
      ]
     },
     "metadata": {
      "image/png": {
       "height": 420,
       "width": 480
      }
     },
     "output_type": "display_data"
    }
   ],
   "source": [
    "grid.draw(q)"
   ]
  },
  {
   "cell_type": "code",
   "execution_count": 206,
   "id": "213527d4-0b1b-4e07-9cb0-c60ae9c147c8",
   "metadata": {},
   "outputs": [],
   "source": [
    "expr4 = expr3"
   ]
  },
  {
   "cell_type": "code",
   "execution_count": 207,
   "id": "09091768-eee9-477e-b0f4-a0d287886d27",
   "metadata": {},
   "outputs": [],
   "source": [
    "expr4 = expr4[,c('Group',b)]"
   ]
  },
  {
   "cell_type": "code",
   "execution_count": 208,
   "id": "8ed43a61-fbbe-4a82-86b6-ecf83f9d4593",
   "metadata": {},
   "outputs": [],
   "source": [
    "#expr4 = expr4"
   ]
  },
  {
   "cell_type": "code",
   "execution_count": 209,
   "id": "a23c8a73-db72-44e0-a250-324f8eb46241",
   "metadata": {},
   "outputs": [
    {
     "name": "stderr",
     "output_type": "stream",
     "text": [
      "Waiting for profiling to be done...\n",
      "\n",
      "Waiting for profiling to be done...\n",
      "\n",
      "Waiting for profiling to be done...\n",
      "\n"
     ]
    },
    {
     "data": {
      "text/html": [
       "<table class=\"dataframe\">\n",
       "<caption>A data.frame: 3 x 8</caption>\n",
       "<thead>\n",
       "\t<tr><th></th><th scope=col>Estimate</th><th scope=col>Std..Error</th><th scope=col>z.value</th><th scope=col>Pr...z..</th><th scope=col>OR</th><th scope=col>X2.5..</th><th scope=col>X97.5..</th><th scope=col>Characteristics</th></tr>\n",
       "\t<tr><th></th><th scope=col>&lt;dbl&gt;</th><th scope=col>&lt;dbl&gt;</th><th scope=col>&lt;dbl&gt;</th><th scope=col>&lt;dbl&gt;</th><th scope=col>&lt;dbl&gt;</th><th scope=col>&lt;dbl&gt;</th><th scope=col>&lt;dbl&gt;</th><th scope=col>&lt;chr&gt;</th></tr>\n",
       "</thead>\n",
       "<tbody>\n",
       "\t<tr><th scope=row>SNTG2</th><td>1.4072095</td><td>0.4766399</td><td>2.952354</td><td>0.003153615</td><td>4.084541</td><td>1.769136</td><td>11.870188</td><td>SNTG2</td></tr>\n",
       "\t<tr><th scope=row>TEF</th><td>2.0999330</td><td>0.7457757</td><td>2.815770</td><td>0.004866044</td><td>8.165623</td><td>2.140434</td><td>41.639730</td><td>TEF  </td></tr>\n",
       "\t<tr><th scope=row>WDR72</th><td>0.5847018</td><td>0.2393979</td><td>2.442384</td><td>0.014590601</td><td>1.794456</td><td>1.153996</td><td> 2.991741</td><td>WDR72</td></tr>\n",
       "</tbody>\n",
       "</table>\n"
      ],
      "text/latex": [
       "A data.frame: 3 x 8\n",
       "\\begin{tabular}{r|llllllll}\n",
       "  & Estimate & Std..Error & z.value & Pr...z.. & OR & X2.5.. & X97.5.. & Characteristics\\\\\n",
       "  & <dbl> & <dbl> & <dbl> & <dbl> & <dbl> & <dbl> & <dbl> & <chr>\\\\\n",
       "\\hline\n",
       "\tSNTG2 & 1.4072095 & 0.4766399 & 2.952354 & 0.003153615 & 4.084541 & 1.769136 & 11.870188 & SNTG2\\\\\n",
       "\tTEF & 2.0999330 & 0.7457757 & 2.815770 & 0.004866044 & 8.165623 & 2.140434 & 41.639730 & TEF  \\\\\n",
       "\tWDR72 & 0.5847018 & 0.2393979 & 2.442384 & 0.014590601 & 1.794456 & 1.153996 &  2.991741 & WDR72\\\\\n",
       "\\end{tabular}\n"
      ],
      "text/markdown": [
       "\n",
       "A data.frame: 3 x 8\n",
       "\n",
       "| <!--/--> | Estimate &lt;dbl&gt; | Std..Error &lt;dbl&gt; | z.value &lt;dbl&gt; | Pr...z.. &lt;dbl&gt; | OR &lt;dbl&gt; | X2.5.. &lt;dbl&gt; | X97.5.. &lt;dbl&gt; | Characteristics &lt;chr&gt; |\n",
       "|---|---|---|---|---|---|---|---|---|\n",
       "| SNTG2 | 1.4072095 | 0.4766399 | 2.952354 | 0.003153615 | 4.084541 | 1.769136 | 11.870188 | SNTG2 |\n",
       "| TEF | 2.0999330 | 0.7457757 | 2.815770 | 0.004866044 | 8.165623 | 2.140434 | 41.639730 | TEF   |\n",
       "| WDR72 | 0.5847018 | 0.2393979 | 2.442384 | 0.014590601 | 1.794456 | 1.153996 |  2.991741 | WDR72 |\n",
       "\n"
      ],
      "text/plain": [
       "      Estimate  Std..Error z.value  Pr...z..    OR       X2.5..   X97.5..  \n",
       "SNTG2 1.4072095 0.4766399  2.952354 0.003153615 4.084541 1.769136 11.870188\n",
       "TEF   2.0999330 0.7457757  2.815770 0.004866044 8.165623 2.140434 41.639730\n",
       "WDR72 0.5847018 0.2393979  2.442384 0.014590601 1.794456 1.153996  2.991741\n",
       "      Characteristics\n",
       "SNTG2 SNTG2          \n",
       "TEF   TEF            \n",
       "WDR72 WDR72          "
      ]
     },
     "metadata": {},
     "output_type": "display_data"
    },
    {
     "data": {
      "text/html": [
       "<table class=\"dataframe\">\n",
       "<caption>A data.frame: 3 x 6</caption>\n",
       "<thead>\n",
       "\t<tr><th></th><th scope=col>Estimate</th><th scope=col>P</th><th scope=col>OR</th><th scope=col>CIlower</th><th scope=col>CIupper</th><th scope=col>Characteristics</th></tr>\n",
       "\t<tr><th></th><th scope=col>&lt;dbl&gt;</th><th scope=col>&lt;dbl&gt;</th><th scope=col>&lt;dbl&gt;</th><th scope=col>&lt;dbl&gt;</th><th scope=col>&lt;dbl&gt;</th><th scope=col>&lt;chr&gt;</th></tr>\n",
       "</thead>\n",
       "<tbody>\n",
       "\t<tr><th scope=row>SNTG2</th><td>1.4072095</td><td>0.003153615</td><td>4.084541</td><td>1.769136</td><td>11.870188</td><td>SNTG2</td></tr>\n",
       "\t<tr><th scope=row>TEF</th><td>2.0999330</td><td>0.004866044</td><td>8.165623</td><td>2.140434</td><td>41.639730</td><td>TEF  </td></tr>\n",
       "\t<tr><th scope=row>WDR72</th><td>0.5847018</td><td>0.014590601</td><td>1.794456</td><td>1.153996</td><td> 2.991741</td><td>WDR72</td></tr>\n",
       "</tbody>\n",
       "</table>\n"
      ],
      "text/latex": [
       "A data.frame: 3 x 6\n",
       "\\begin{tabular}{r|llllll}\n",
       "  & Estimate & P & OR & CIlower & CIupper & Characteristics\\\\\n",
       "  & <dbl> & <dbl> & <dbl> & <dbl> & <dbl> & <chr>\\\\\n",
       "\\hline\n",
       "\tSNTG2 & 1.4072095 & 0.003153615 & 4.084541 & 1.769136 & 11.870188 & SNTG2\\\\\n",
       "\tTEF & 2.0999330 & 0.004866044 & 8.165623 & 2.140434 & 41.639730 & TEF  \\\\\n",
       "\tWDR72 & 0.5847018 & 0.014590601 & 1.794456 & 1.153996 &  2.991741 & WDR72\\\\\n",
       "\\end{tabular}\n"
      ],
      "text/markdown": [
       "\n",
       "A data.frame: 3 x 6\n",
       "\n",
       "| <!--/--> | Estimate &lt;dbl&gt; | P &lt;dbl&gt; | OR &lt;dbl&gt; | CIlower &lt;dbl&gt; | CIupper &lt;dbl&gt; | Characteristics &lt;chr&gt; |\n",
       "|---|---|---|---|---|---|---|\n",
       "| SNTG2 | 1.4072095 | 0.003153615 | 4.084541 | 1.769136 | 11.870188 | SNTG2 |\n",
       "| TEF | 2.0999330 | 0.004866044 | 8.165623 | 2.140434 | 41.639730 | TEF   |\n",
       "| WDR72 | 0.5847018 | 0.014590601 | 1.794456 | 1.153996 |  2.991741 | WDR72 |\n",
       "\n"
      ],
      "text/plain": [
       "      Estimate  P           OR       CIlower  CIupper   Characteristics\n",
       "SNTG2 1.4072095 0.003153615 4.084541 1.769136 11.870188 SNTG2          \n",
       "TEF   2.0999330 0.004866044 8.165623 2.140434 41.639730 TEF            \n",
       "WDR72 0.5847018 0.014590601 1.794456 1.153996  2.991741 WDR72          "
      ]
     },
     "metadata": {},
     "output_type": "display_data"
    },
    {
     "data": {
      "text/html": [
       "<style>\n",
       ".list-inline {list-style: none; margin:0; padding: 0}\n",
       ".list-inline>li {display: inline-block}\n",
       ".list-inline>li:not(:last-child)::after {content: \"\\00b7\"; padding: 0 .5ex}\n",
       "</style>\n",
       "<ol class=list-inline><li>'SNTG2'</li><li>'TEF'</li><li>'WDR72'</li></ol>\n"
      ],
      "text/latex": [
       "\\begin{enumerate*}\n",
       "\\item 'SNTG2'\n",
       "\\item 'TEF'\n",
       "\\item 'WDR72'\n",
       "\\end{enumerate*}\n"
      ],
      "text/markdown": [
       "1. 'SNTG2'\n",
       "2. 'TEF'\n",
       "3. 'WDR72'\n",
       "\n",
       "\n"
      ],
      "text/plain": [
       "[1] \"SNTG2\" \"TEF\"   \"WDR72\""
      ]
     },
     "metadata": {},
     "output_type": "display_data"
    }
   ],
   "source": [
    "#结果合并需要的包\n",
    "library(plyr)\n",
    "#可进行logistic回归的包\n",
    "library(rms)#可实现逻辑回归模型（lrm）\n",
    "library(epiDisplay)#快速输出OR、95%CI、P\n",
    "#library(gtsummary)#精美三线表（但，95%CI有误）\n",
    "\n",
    "varsU<-names(expr4[,2:dim(expr4)[2]])\n",
    "\n",
    "Result<-c()\n",
    "for (i in 1:length(varsU)){\n",
    "  fit<-glm(substitute(Group~x,list(x=as.name(varsU[i]))),data=expr4,family=binomial())\n",
    "  fitSum<-summary(fit)\n",
    "  result1<-c()\n",
    "  result1<-rbind(result1,fitSum$coef)\n",
    "  OR<-exp(fitSum$coef[,'Estimate'])\n",
    "  result1<-data.frame(cbind(result1,cbind(OR,exp(confint(fit)))))\n",
    "  result1$Characteristics<-varsU[i]   #添加变量名\n",
    "  Result<-rbind(Result,result1[-1,])#[-1,],删除常数项\n",
    "}\n",
    "\n",
    "Result\n",
    "\n",
    "Uni_log<-data.frame(Result[,c(1,4:8)]) #提取\"P\",\"OR\",\"CIlower\",\"CIupper\"和变量名\n",
    "\n",
    "colnames(Uni_log)[2:5]<-c(\"P\",\"OR\",\"CIlower\",\"CIupper\")#变量重命名\n",
    "\n",
    "ExtractVar<-unique(Uni_log$Characteristics[Uni_log$\"P\"<0.05]) \n",
    "\n",
    "tzgene = Uni_log %>% dplyr::filter(P < 0.05) %>% rownames()\n",
    "\n",
    "Uni_log[tzgene,]\n",
    "\n",
    "### 多因素分析\n",
    "\n",
    "tzgene\n",
    "\n",
    "data = expr4[,c('Group',tzgene)]"
   ]
  },
  {
   "cell_type": "code",
   "execution_count": 210,
   "id": "d09d5fb1-b54b-4f0a-a8ad-19c4fa653d37",
   "metadata": {},
   "outputs": [
    {
     "data": {
      "text/plain": [
       "\n",
       "Call:\n",
       "glm(formula = Group ~ ., family = binomial(), data = data)\n",
       "\n",
       "Deviance Residuals: \n",
       "    Min       1Q   Median       3Q      Max  \n",
       "-2.3019  -0.7604  -0.2276   0.8035   2.0427  \n",
       "\n",
       "Coefficients:\n",
       "            Estimate Std. Error z value Pr(>|z|)  \n",
       "(Intercept) -25.5135    11.6368  -2.192   0.0283 *\n",
       "SNTG2         1.0120     0.5446   1.858   0.0631 .\n",
       "TEF           1.3409     0.8698   1.542   0.1232  \n",
       "WDR72         0.5355     0.2812   1.904   0.0569 .\n",
       "---\n",
       "Signif. codes:  0 '***' 0.001 '**' 0.01 '*' 0.05 '.' 0.1 ' ' 1\n",
       "\n",
       "(Dispersion parameter for binomial family taken to be 1)\n",
       "\n",
       "    Null deviance: 65.135  on 46  degrees of freedom\n",
       "Residual deviance: 45.641  on 43  degrees of freedom\n",
       "AIC: 53.641\n",
       "\n",
       "Number of Fisher Scoring iterations: 5\n"
      ]
     },
     "metadata": {},
     "output_type": "display_data"
    },
    {
     "name": "stderr",
     "output_type": "stream",
     "text": [
      "Waiting for profiling to be done...\n",
      "\n"
     ]
    },
    {
     "data": {
      "text/html": [
       "<table class=\"dataframe\">\n",
       "<caption>A data.frame: 4 x 4</caption>\n",
       "<thead>\n",
       "\t<tr><th></th><th scope=col>B</th><th scope=col>Wald</th><th scope=col>OR_with_CI</th><th scope=col>P</th></tr>\n",
       "\t<tr><th></th><th scope=col>&lt;dbl&gt;</th><th scope=col>&lt;dbl&gt;</th><th scope=col>&lt;chr&gt;</th><th scope=col>&lt;chr&gt;</th></tr>\n",
       "</thead>\n",
       "<tbody>\n",
       "\t<tr><th scope=row>(Intercept)</th><td>-25.513</td><td>4.807</td><td>0(0~0.014)         </td><td>0.028</td></tr>\n",
       "\t<tr><th scope=row>SNTG2</th><td>  1.012</td><td>3.453</td><td>2.751(1.041~9.142) </td><td>0.063</td></tr>\n",
       "\t<tr><th scope=row>TEF</th><td>  1.341</td><td>2.377</td><td>3.822(0.742~24.152)</td><td>0.123</td></tr>\n",
       "\t<tr><th scope=row>WDR72</th><td>  0.536</td><td>3.627</td><td>1.708(1.013~3.126) </td><td>0.057</td></tr>\n",
       "</tbody>\n",
       "</table>\n"
      ],
      "text/latex": [
       "A data.frame: 4 x 4\n",
       "\\begin{tabular}{r|llll}\n",
       "  & B & Wald & OR\\_with\\_CI & P\\\\\n",
       "  & <dbl> & <dbl> & <chr> & <chr>\\\\\n",
       "\\hline\n",
       "\t(Intercept) & -25.513 & 4.807 & 0(0\\textasciitilde{}0.014)          & 0.028\\\\\n",
       "\tSNTG2 &   1.012 & 3.453 & 2.751(1.041\\textasciitilde{}9.142)  & 0.063\\\\\n",
       "\tTEF &   1.341 & 2.377 & 3.822(0.742\\textasciitilde{}24.152) & 0.123\\\\\n",
       "\tWDR72 &   0.536 & 3.627 & 1.708(1.013\\textasciitilde{}3.126)  & 0.057\\\\\n",
       "\\end{tabular}\n"
      ],
      "text/markdown": [
       "\n",
       "A data.frame: 4 x 4\n",
       "\n",
       "| <!--/--> | B &lt;dbl&gt; | Wald &lt;dbl&gt; | OR_with_CI &lt;chr&gt; | P &lt;chr&gt; |\n",
       "|---|---|---|---|---|\n",
       "| (Intercept) | -25.513 | 4.807 | 0(0~0.014)          | 0.028 |\n",
       "| SNTG2 |   1.012 | 3.453 | 2.751(1.041~9.142)  | 0.063 |\n",
       "| TEF |   1.341 | 2.377 | 3.822(0.742~24.152) | 0.123 |\n",
       "| WDR72 |   0.536 | 3.627 | 1.708(1.013~3.126)  | 0.057 |\n",
       "\n"
      ],
      "text/plain": [
       "            B       Wald  OR_with_CI          P    \n",
       "(Intercept) -25.513 4.807 0(0~0.014)          0.028\n",
       "SNTG2         1.012 3.453 2.751(1.041~9.142)  0.063\n",
       "TEF           1.341 2.377 3.822(0.742~24.152) 0.123\n",
       "WDR72         0.536 3.627 1.708(1.013~3.126)  0.057"
      ]
     },
     "metadata": {},
     "output_type": "display_data"
    }
   ],
   "source": [
    "\n",
    "\n",
    "# train_sub = sample(nrow(data),9/10*nrow(data))\n",
    "# train_data = data[train_sub,]\n",
    "# test_data =data[-train_sub,]\n",
    "\n",
    "fit.reduce<-glm(Group~.,data=data,family=binomial())\n",
    "summary(fit.reduce)\n",
    "\n",
    "formatFit<-function(fit){\n",
    "  #取P值\n",
    "  p<-summary(fit)$coefficients[,4]\n",
    "  #wald值\n",
    "  wald<-summary(fit)$coefficients[,3]^2\n",
    "  #B值\n",
    "  valueB<-coef(fit)\n",
    "  #OR值\n",
    "  valueOR<-exp(coef(fit))\n",
    "  #OR值得95%CI\n",
    "  confitOR<-exp(confint(fit))\n",
    "  data.frame(\n",
    "    B=round(valueB,3),\n",
    "    Wald=round(wald,3),\n",
    "    OR_with_CI=paste(round(valueOR,3),\"(\",\n",
    "               round(confitOR[,1],3),\"~\",round(confitOR[,2],3),\")\",sep=\"\"),\n",
    "    P=format.pval(p,digits = 3,eps=0.001)\n",
    "  )\n",
    "}\n",
    "\n",
    "formatFit(fit.reduce)"
   ]
  },
  {
   "cell_type": "code",
   "execution_count": 211,
   "id": "f7da77f0-cf12-41b1-8f5a-0cf327535144",
   "metadata": {},
   "outputs": [
    {
     "data": {
      "text/plain": [
       "\n",
       "Call:\n",
       "glm(formula = Group ~ ., family = binomial(), data = data)\n",
       "\n",
       "Deviance Residuals: \n",
       "    Min       1Q   Median       3Q      Max  \n",
       "-2.3019  -0.7604  -0.2276   0.8035   2.0427  \n",
       "\n",
       "Coefficients:\n",
       "            Estimate Std. Error z value Pr(>|z|)  \n",
       "(Intercept) -25.5135    11.6368  -2.192   0.0283 *\n",
       "SNTG2         1.0120     0.5446   1.858   0.0631 .\n",
       "TEF           1.3409     0.8698   1.542   0.1232  \n",
       "WDR72         0.5355     0.2812   1.904   0.0569 .\n",
       "---\n",
       "Signif. codes:  0 '***' 0.001 '**' 0.01 '*' 0.05 '.' 0.1 ' ' 1\n",
       "\n",
       "(Dispersion parameter for binomial family taken to be 1)\n",
       "\n",
       "    Null deviance: 65.135  on 46  degrees of freedom\n",
       "Residual deviance: 45.641  on 43  degrees of freedom\n",
       "AIC: 53.641\n",
       "\n",
       "Number of Fisher Scoring iterations: 5\n"
      ]
     },
     "metadata": {},
     "output_type": "display_data"
    }
   ],
   "source": [
    "fit.reduce<-glm(Group~. ,data=data,family=binomial())\n",
    "summary(fit.reduce)"
   ]
  },
  {
   "cell_type": "code",
   "execution_count": 212,
   "id": "7855c6f4-b5e5-44c4-a920-cd60a46e1c65",
   "metadata": {},
   "outputs": [
    {
     "name": "stdout",
     "output_type": "stream",
     "text": [
      "Start:  AIC=53.64\n",
      "Group ~ SNTG2 + TEF + WDR72\n",
      "\n",
      "        Df Deviance    AIC\n",
      "<none>       45.641 53.641\n",
      "- TEF    1   48.191 54.191\n",
      "- WDR72  1   49.678 55.678\n",
      "- SNTG2  1   49.832 55.832\n"
     ]
    },
    {
     "data": {
      "text/plain": [
       "\n",
       "Call:\n",
       "glm(formula = Group ~ SNTG2 + TEF + WDR72, family = binomial(), \n",
       "    data = data)\n",
       "\n",
       "Deviance Residuals: \n",
       "    Min       1Q   Median       3Q      Max  \n",
       "-2.3019  -0.7604  -0.2276   0.8035   2.0427  \n",
       "\n",
       "Coefficients:\n",
       "            Estimate Std. Error z value Pr(>|z|)  \n",
       "(Intercept) -25.5135    11.6368  -2.192   0.0283 *\n",
       "SNTG2         1.0120     0.5446   1.858   0.0631 .\n",
       "TEF           1.3409     0.8698   1.542   0.1232  \n",
       "WDR72         0.5355     0.2812   1.904   0.0569 .\n",
       "---\n",
       "Signif. codes:  0 '***' 0.001 '**' 0.01 '*' 0.05 '.' 0.1 ' ' 1\n",
       "\n",
       "(Dispersion parameter for binomial family taken to be 1)\n",
       "\n",
       "    Null deviance: 65.135  on 46  degrees of freedom\n",
       "Residual deviance: 45.641  on 43  degrees of freedom\n",
       "AIC: 53.641\n",
       "\n",
       "Number of Fisher Scoring iterations: 5\n"
      ]
     },
     "metadata": {},
     "output_type": "display_data"
    }
   ],
   "source": [
    "logit.step <- step(fit.reduce,direction='both')\n",
    "summary(logit.step)"
   ]
  },
  {
   "cell_type": "code",
   "execution_count": 213,
   "id": "85771b71-91a5-4530-9bb8-6a0389cb7d7e",
   "metadata": {},
   "outputs": [
    {
     "name": "stderr",
     "output_type": "stream",
     "text": [
      "Waiting for profiling to be done...\n",
      "\n"
     ]
    },
    {
     "data": {
      "text/html": [
       "<table class=\"dataframe\">\n",
       "<caption>A data.frame: 4 x 4</caption>\n",
       "<thead>\n",
       "\t<tr><th></th><th scope=col>B</th><th scope=col>Wald</th><th scope=col>OR_with_CI</th><th scope=col>P</th></tr>\n",
       "\t<tr><th></th><th scope=col>&lt;dbl&gt;</th><th scope=col>&lt;dbl&gt;</th><th scope=col>&lt;chr&gt;</th><th scope=col>&lt;chr&gt;</th></tr>\n",
       "</thead>\n",
       "<tbody>\n",
       "\t<tr><th scope=row>(Intercept)</th><td>-25.513</td><td>4.807</td><td>0(0~0.014)         </td><td>0.028</td></tr>\n",
       "\t<tr><th scope=row>SNTG2</th><td>  1.012</td><td>3.453</td><td>2.751(1.041~9.142) </td><td>0.063</td></tr>\n",
       "\t<tr><th scope=row>TEF</th><td>  1.341</td><td>2.377</td><td>3.822(0.742~24.152)</td><td>0.123</td></tr>\n",
       "\t<tr><th scope=row>WDR72</th><td>  0.536</td><td>3.627</td><td>1.708(1.013~3.126) </td><td>0.057</td></tr>\n",
       "</tbody>\n",
       "</table>\n"
      ],
      "text/latex": [
       "A data.frame: 4 x 4\n",
       "\\begin{tabular}{r|llll}\n",
       "  & B & Wald & OR\\_with\\_CI & P\\\\\n",
       "  & <dbl> & <dbl> & <chr> & <chr>\\\\\n",
       "\\hline\n",
       "\t(Intercept) & -25.513 & 4.807 & 0(0\\textasciitilde{}0.014)          & 0.028\\\\\n",
       "\tSNTG2 &   1.012 & 3.453 & 2.751(1.041\\textasciitilde{}9.142)  & 0.063\\\\\n",
       "\tTEF &   1.341 & 2.377 & 3.822(0.742\\textasciitilde{}24.152) & 0.123\\\\\n",
       "\tWDR72 &   0.536 & 3.627 & 1.708(1.013\\textasciitilde{}3.126)  & 0.057\\\\\n",
       "\\end{tabular}\n"
      ],
      "text/markdown": [
       "\n",
       "A data.frame: 4 x 4\n",
       "\n",
       "| <!--/--> | B &lt;dbl&gt; | Wald &lt;dbl&gt; | OR_with_CI &lt;chr&gt; | P &lt;chr&gt; |\n",
       "|---|---|---|---|---|\n",
       "| (Intercept) | -25.513 | 4.807 | 0(0~0.014)          | 0.028 |\n",
       "| SNTG2 |   1.012 | 3.453 | 2.751(1.041~9.142)  | 0.063 |\n",
       "| TEF |   1.341 | 2.377 | 3.822(0.742~24.152) | 0.123 |\n",
       "| WDR72 |   0.536 | 3.627 | 1.708(1.013~3.126)  | 0.057 |\n",
       "\n"
      ],
      "text/plain": [
       "            B       Wald  OR_with_CI          P    \n",
       "(Intercept) -25.513 4.807 0(0~0.014)          0.028\n",
       "SNTG2         1.012 3.453 2.751(1.041~9.142)  0.063\n",
       "TEF           1.341 2.377 3.822(0.742~24.152) 0.123\n",
       "WDR72         0.536 3.627 1.708(1.013~3.126)  0.057"
      ]
     },
     "metadata": {},
     "output_type": "display_data"
    }
   ],
   "source": [
    "# train_sub = sample(nrow(data),9/10*nrow(data))\n",
    "# train_data = data[train_sub,]\n",
    "# test_data =data[-train_sub,]\n",
    "\n",
    "# fit.reduce<-glm(Group~.,data=data,family=binomial())\n",
    "# summary(fit.reduce)\n",
    "\n",
    "formatFit<-function(fit){\n",
    "  #取P值\n",
    "  p<-summary(fit)$coefficients[,4]\n",
    "  #wald值\n",
    "  wald<-summary(fit)$coefficients[,3]^2\n",
    "  #B值\n",
    "  valueB<-coef(fit)\n",
    "  #OR值\n",
    "  valueOR<-exp(coef(fit))\n",
    "  #OR值得95%CI\n",
    "  confitOR<-exp(confint(fit))\n",
    "  data.frame(\n",
    "    B=round(valueB,3),\n",
    "    Wald=round(wald,3),\n",
    "    OR_with_CI=paste(round(valueOR,3),\"(\",\n",
    "               round(confitOR[,1],3),\"~\",round(confitOR[,2],3),\")\",sep=\"\"),\n",
    "    P=format.pval(p,digits = 3,eps=0.001)\n",
    "  )\n",
    "}\n",
    "\n",
    "formatFit(logit.step)"
   ]
  },
  {
   "cell_type": "code",
   "execution_count": 214,
   "id": "8e261651-b999-4164-8a3c-7749fbc5292c",
   "metadata": {},
   "outputs": [
    {
     "name": "stderr",
     "output_type": "stream",
     "text": [
      "Waiting for profiling to be done...\n",
      "\n",
      "Waiting for profiling to be done...\n",
      "\n"
     ]
    }
   ],
   "source": [
    "b = rownames(formatFit(logit.step))[2:length(rownames(formatFit(logit.step)))]"
   ]
  },
  {
   "cell_type": "code",
   "execution_count": 215,
   "id": "d3f8d9e0-5d72-42fd-b158-690527f13040",
   "metadata": {},
   "outputs": [],
   "source": [
    "#save(b,file = 'b.rda')"
   ]
  },
  {
   "cell_type": "code",
   "execution_count": 216,
   "id": "e627183c-946c-4097-9531-439cdbe77e97",
   "metadata": {},
   "outputs": [],
   "source": [
    "data = data[,c('Group',b)]"
   ]
  },
  {
   "cell_type": "code",
   "execution_count": 217,
   "id": "b21ff9f7-45a6-4c44-bf6b-fde624298626",
   "metadata": {},
   "outputs": [],
   "source": [
    "library(autoReg)"
   ]
  },
  {
   "cell_type": "code",
   "execution_count": 218,
   "id": "57f11164-ca96-4184-a750-1f9c548dbd53",
   "metadata": {
    "scrolled": true
   },
   "outputs": [
    {
     "data": {
      "text/html": [
       "<table class=\"dataframe\">\n",
       "<caption>A autoReg: 3 x 7</caption>\n",
       "<thead>\n",
       "\t<tr><th scope=col>name</th><th scope=col>desc</th><th scope=col>0 (N=24)</th><th scope=col>1 (N=23)</th><th scope=col>id</th><th scope=col>OR (univariable)</th><th scope=col>OR (multivariable)</th></tr>\n",
       "\t<tr><th scope=col>&lt;chr&gt;</th><th scope=col>&lt;chr&gt;</th><th scope=col>&lt;chr&gt;</th><th scope=col>&lt;chr&gt;</th><th scope=col>&lt;chr&gt;</th><th scope=col>&lt;chr&gt;</th><th scope=col>&lt;chr&gt;</th></tr>\n",
       "</thead>\n",
       "<tbody>\n",
       "\t<tr><td>SNTG2</td><td>Mean &lt;U+00B1&gt; SD</td><td>4.9 &lt;U+00B1&gt; 0.7 </td><td>5.8 &lt;U+00B1&gt; 0.9 </td><td>SNTG2</td><td>4.08 (1.60-10.40, p=.003)</td><td>2.75 (0.95-8.00, p=.063) </td></tr>\n",
       "\t<tr><td><span style=white-space:pre-wrap>TEF  </span></td><td>Mean &lt;U+00B1&gt; SD</td><td>13.9 &lt;U+00B1&gt; 0.5</td><td>14.3 &lt;U+00B1&gt; 0.4</td><td><span style=white-space:pre-wrap>TEF  </span></td><td>8.17 (1.89-35.22, p=.005)</td><td>3.82 (0.69-21.02, p=.123)</td></tr>\n",
       "\t<tr><td>WDR72</td><td>Mean &lt;U+00B1&gt; SD</td><td>1.6 &lt;U+00B1&gt; 1.3 </td><td>2.7 &lt;U+00B1&gt; 1.4 </td><td>WDR72</td><td>1.79 (1.12-2.87, p=.015) </td><td>1.71 (0.98-2.96, p=.057) </td></tr>\n",
       "</tbody>\n",
       "</table>\n"
      ],
      "text/latex": [
       "A autoReg: 3 x 7\n",
       "\\begin{tabular}{lllllll}\n",
       " name & desc & 0 (N=24) & 1 (N=23) & id & OR (univariable) & OR (multivariable)\\\\\n",
       " <chr> & <chr> & <chr> & <chr> & <chr> & <chr> & <chr>\\\\\n",
       "\\hline\n",
       "\t SNTG2 & Mean <U+00B1> SD & 4.9 <U+00B1> 0.7  & 5.8 <U+00B1> 0.9  & SNTG2 & 4.08 (1.60-10.40, p=.003) & 2.75 (0.95-8.00, p=.063) \\\\\n",
       "\t TEF   & Mean <U+00B1> SD & 13.9 <U+00B1> 0.5 & 14.3 <U+00B1> 0.4 & TEF   & 8.17 (1.89-35.22, p=.005) & 3.82 (0.69-21.02, p=.123)\\\\\n",
       "\t WDR72 & Mean <U+00B1> SD & 1.6 <U+00B1> 1.3  & 2.7 <U+00B1> 1.4  & WDR72 & 1.79 (1.12-2.87, p=.015)  & 1.71 (0.98-2.96, p=.057) \\\\\n",
       "\\end{tabular}\n"
      ],
      "text/markdown": [
       "\n",
       "A autoReg: 3 x 7\n",
       "\n",
       "| name &lt;chr&gt; | desc &lt;chr&gt; | 0 (N=24) &lt;chr&gt; | 1 (N=23) &lt;chr&gt; | id &lt;chr&gt; | OR (univariable) &lt;chr&gt; | OR (multivariable) &lt;chr&gt; |\n",
       "|---|---|---|---|---|---|---|\n",
       "| SNTG2 | Mean &lt;U+00B1&gt; SD | 4.9 &lt;U+00B1&gt; 0.7  | 5.8 &lt;U+00B1&gt; 0.9  | SNTG2 | 4.08 (1.60-10.40, p=.003) | 2.75 (0.95-8.00, p=.063)  |\n",
       "| TEF   | Mean &lt;U+00B1&gt; SD | 13.9 &lt;U+00B1&gt; 0.5 | 14.3 &lt;U+00B1&gt; 0.4 | TEF   | 8.17 (1.89-35.22, p=.005) | 3.82 (0.69-21.02, p=.123) |\n",
       "| WDR72 | Mean &lt;U+00B1&gt; SD | 1.6 &lt;U+00B1&gt; 1.3  | 2.7 &lt;U+00B1&gt; 1.4  | WDR72 | 1.79 (1.12-2.87, p=.015)  | 1.71 (0.98-2.96, p=.057)  |\n",
       "\n"
      ],
      "text/plain": [
       "  name  desc             0 (N=24)          1 (N=23)          id   \n",
       "1 SNTG2 Mean <U+00B1> SD 4.9 <U+00B1> 0.7  5.8 <U+00B1> 0.9  SNTG2\n",
       "2 TEF   Mean <U+00B1> SD 13.9 <U+00B1> 0.5 14.3 <U+00B1> 0.4 TEF  \n",
       "3 WDR72 Mean <U+00B1> SD 1.6 <U+00B1> 1.3  2.7 <U+00B1> 1.4  WDR72\n",
       "  OR (univariable)          OR (multivariable)       \n",
       "1 4.08 (1.60-10.40, p=.003) 2.75 (0.95-8.00, p=.063) \n",
       "2 8.17 (1.89-35.22, p=.005) 3.82 (0.69-21.02, p=.123)\n",
       "3 1.79 (1.12-2.87, p=.015)  1.71 (0.98-2.96, p=.057) "
      ]
     },
     "metadata": {},
     "output_type": "display_data"
    }
   ],
   "source": [
    "overall.log =  glm(Group~.,data=data,family=binomial())\n",
    "\n",
    "model3<-autoReg(overall.log,uni=TRUE,milti=TRUE,threshold=0.05)\n",
    "\n",
    "model3"
   ]
  },
  {
   "cell_type": "code",
   "execution_count": 219,
   "id": "82912d9e-8d15-459a-8376-ee995c136a4a",
   "metadata": {},
   "outputs": [],
   "source": [
    "save(b,file  = 'b.rda')"
   ]
  },
  {
   "cell_type": "code",
   "execution_count": 220,
   "id": "5fe64c9b-0b00-44a9-bd1c-201d1a8cc624",
   "metadata": {},
   "outputs": [
    {
     "data": {
      "text/html": [
       "<style>\n",
       ".list-inline {list-style: none; margin:0; padding: 0}\n",
       ".list-inline>li {display: inline-block}\n",
       ".list-inline>li:not(:last-child)::after {content: \"\\00b7\"; padding: 0 .5ex}\n",
       "</style>\n",
       "<ol class=list-inline><li>'SNTG2'</li><li>'TEF'</li><li>'WDR72'</li></ol>\n"
      ],
      "text/latex": [
       "\\begin{enumerate*}\n",
       "\\item 'SNTG2'\n",
       "\\item 'TEF'\n",
       "\\item 'WDR72'\n",
       "\\end{enumerate*}\n"
      ],
      "text/markdown": [
       "1. 'SNTG2'\n",
       "2. 'TEF'\n",
       "3. 'WDR72'\n",
       "\n",
       "\n"
      ],
      "text/plain": [
       "[1] \"SNTG2\" \"TEF\"   \"WDR72\""
      ]
     },
     "metadata": {},
     "output_type": "display_data"
    }
   ],
   "source": [
    "b"
   ]
  },
  {
   "cell_type": "code",
   "execution_count": 221,
   "id": "e9250122-9dd6-4a88-82f6-e7db4765465d",
   "metadata": {
    "scrolled": true
   },
   "outputs": [],
   "source": [
    "library(caret)"
   ]
  },
  {
   "cell_type": "code",
   "execution_count": null,
   "id": "a7fe53a6-2255-467b-914b-4c006225866a",
   "metadata": {},
   "outputs": [],
   "source": []
  },
  {
   "cell_type": "code",
   "execution_count": 222,
   "id": "f3a49092-6398-4cbc-b07c-0514175cd723",
   "metadata": {},
   "outputs": [
    {
     "name": "stderr",
     "output_type": "stream",
     "text": [
      "Setting levels: control = 0, case = 1\n",
      "\n",
      "Setting direction: controls < cases\n",
      "\n",
      "Setting levels: control = 0, case = 1\n",
      "\n",
      "Setting direction: controls < cases\n",
      "\n",
      "Setting levels: control = 0, case = 1\n",
      "\n",
      "Setting direction: controls < cases\n",
      "\n",
      "Setting levels: control = 0, case = 1\n",
      "\n",
      "Setting direction: controls < cases\n",
      "\n",
      "Setting levels: control = 0, case = 1\n",
      "\n",
      "Setting direction: controls < cases\n",
      "\n",
      "Setting levels: control = 0, case = 1\n",
      "\n",
      "Setting direction: controls < cases\n",
      "\n",
      "Setting levels: control = 0, case = 1\n",
      "\n",
      "Setting direction: controls < cases\n",
      "\n",
      "Setting levels: control = 0, case = 1\n",
      "\n",
      "Setting direction: controls < cases\n",
      "\n",
      "Setting levels: control = 0, case = 1\n",
      "\n",
      "Setting direction: controls < cases\n",
      "\n",
      "Setting levels: control = 0, case = 1\n",
      "\n",
      "Setting direction: controls < cases\n",
      "\n"
     ]
    },
    {
     "data": {
      "text/html": [
       "0.778658369408369"
      ],
      "text/latex": [
       "0.778658369408369"
      ],
      "text/markdown": [
       "0.778658369408369"
      ],
      "text/plain": [
       "[1] 0.7786584"
      ]
     },
     "metadata": {},
     "output_type": "display_data"
    }
   ],
   "source": [
    "set.seed(111)\n",
    "#单纯10折交叉验证，time=1\n",
    "folds <-createMultiFolds(y=data$Group,k=3,times=10)\n",
    "#10次批量训练与验证\n",
    "#做成循环\n",
    "auc_value<-as.numeric()\n",
    "for(i in 1:10){\n",
    "  train<- data[ folds[[i]],] \n",
    "  test <- data[-folds[[i]],] \n",
    "  model<-glm(Group~.,data=train,family=binomial())  #TNFSF14+CCNA2+MARCKS+SGOL1+SAP130\n",
    "    \n",
    "  model_pre<-predict(model,type='response', newdata=test)\n",
    "    \n",
    "  auc_value<- append(auc_value,\n",
    "                     as.numeric(pROC::auc(as.numeric(test[,1]),model_pre)))\n",
    "}\n",
    "mean(auc_value)"
   ]
  },
  {
   "cell_type": "code",
   "execution_count": 223,
   "id": "28cb34d6-1a0c-4d80-8537-e313364ed847",
   "metadata": {},
   "outputs": [
    {
     "data": {
      "text/html": [
       "<style>\n",
       ".list-inline {list-style: none; margin:0; padding: 0}\n",
       ".list-inline>li {display: inline-block}\n",
       ".list-inline>li:not(:last-child)::after {content: \"\\00b7\"; padding: 0 .5ex}\n",
       "</style>\n",
       "<ol class=list-inline><li>0.872727272727273</li><li>0.890625</li><li>0.772727272727273</li><li>0.732142857142857</li><li>0.783333333333333</li><li>0.777777777777778</li><li>0.745454545454545</li><li>0.78</li><li>0.634920634920635</li><li>0.796875</li></ol>\n"
      ],
      "text/latex": [
       "\\begin{enumerate*}\n",
       "\\item 0.872727272727273\n",
       "\\item 0.890625\n",
       "\\item 0.772727272727273\n",
       "\\item 0.732142857142857\n",
       "\\item 0.783333333333333\n",
       "\\item 0.777777777777778\n",
       "\\item 0.745454545454545\n",
       "\\item 0.78\n",
       "\\item 0.634920634920635\n",
       "\\item 0.796875\n",
       "\\end{enumerate*}\n"
      ],
      "text/markdown": [
       "1. 0.872727272727273\n",
       "2. 0.890625\n",
       "3. 0.772727272727273\n",
       "4. 0.732142857142857\n",
       "5. 0.783333333333333\n",
       "6. 0.777777777777778\n",
       "7. 0.745454545454545\n",
       "8. 0.78\n",
       "9. 0.634920634920635\n",
       "10. 0.796875\n",
       "\n",
       "\n"
      ],
      "text/plain": [
       " [1] 0.8727273 0.8906250 0.7727273 0.7321429 0.7833333 0.7777778 0.7454545\n",
       " [8] 0.7800000 0.6349206 0.7968750"
      ]
     },
     "metadata": {},
     "output_type": "display_data"
    }
   ],
   "source": [
    "auc_value"
   ]
  },
  {
   "cell_type": "code",
   "execution_count": 224,
   "id": "712dde81-97a8-45dc-b3cd-07d0329b6fc8",
   "metadata": {},
   "outputs": [
    {
     "name": "stdout",
     "output_type": "stream",
     "text": [
      "[1] 2\n"
     ]
    }
   ],
   "source": [
    "num <- which.max(auc_value)\n",
    "print(num)\n",
    "\n",
    "fold_test <- data[folds[[num]],]   \n",
    "fold_train <- data[-folds[[num]],]\n",
    "\n",
    "fold_pre <- glm(Group~.,data=fold_test,family=binomial())\n",
    "\n",
    "fold_predict <- predict(fold_pre,type='response',newdata=fold_train)\n",
    "\n",
    "options(repr.plot.width = 6)"
   ]
  },
  {
   "cell_type": "code",
   "execution_count": 225,
   "id": "9979af20-b937-4718-867d-4dbab31bb600",
   "metadata": {},
   "outputs": [
    {
     "name": "stderr",
     "output_type": "stream",
     "text": [
      "Setting levels: control = 0, case = 1\n",
      "\n",
      "Setting direction: controls < cases\n",
      "\n"
     ]
    },
    {
     "data": {
      "image/png": "[encoded data removed]",
      "text/plain": [
       "Plot with title \"\""
      ]
     },
     "metadata": {
      "image/png": {
       "height": 420,
       "width": 360
      }
     },
     "output_type": "display_data"
    }
   ],
   "source": [
    "roc_curve <- pROC::roc(as.numeric(fold_train$Group),fold_predict)\n",
    "plot(roc_curve, print.auc=TRUE, auc.polygon=TRUE, grid=c(0.1, 0.2),\n",
    "     grid.col=c(\"green\", \"red\"), max.auc.polygon=TRUE,\n",
    "     auc.polygon.col=\"skyblue\", print.thres=TRUE,main=\"\")"
   ]
  },
  {
   "cell_type": "code",
   "execution_count": 162,
   "id": "bd8bca7e-0acf-48eb-84e1-b3eeae29f1f9",
   "metadata": {},
   "outputs": [
    {
     "name": "stdout",
     "output_type": "stream",
     "text": [
      "\n",
      "Divergence or singularity in 4 samples\n"
     ]
    }
   ],
   "source": [
    "library(rms)\n",
    "dd <- datadist(train)\n",
    "options(datadist=\"dd\")\n",
    "fit1 <- lrm(Group ~.,\n",
    "            data = train,x=T,y=T)\n",
    "cal1 <- calibrate(fit1, method='boot', B=100)"
   ]
  },
  {
   "cell_type": "code",
   "execution_count": 163,
   "id": "0882d0db-dc35-4ffb-bb62-2ef24c9940e6",
   "metadata": {},
   "outputs": [
    {
     "name": "stdout",
     "output_type": "stream",
     "text": [
      "\n",
      "n=31   Mean absolute error=0.086   Mean squared error=0.01024\n",
      "0.9 Quantile of absolute error=0.166\n",
      "\n"
     ]
    },
    {
     "data": {
      "image/png": "[encoded data removed]",
      "text/plain": [
       "plot without title"
      ]
     },
     "metadata": {
      "image/png": {
       "height": 420,
       "width": 360
      }
     },
     "output_type": "display_data"
    }
   ],
   "source": [
    "plot(cal1,\n",
    "     xlim = c(0,1),\n",
    "     xlab = \"Predicted Probability\",\n",
    "     ylab = \"Observed Probability\",\n",
    "     legend = FALSE,\n",
    "     subtitles = FALSE)\n",
    "abline(0,1,col = \"black\",lty = 2,lwd = 2)\n",
    "lines(cal1[,c(\"predy\",\"calibrated.orig\")], type = \"l\",lwd = 2,col=\"red\",pch =16)\n",
    "lines(cal1[,c(\"predy\",\"calibrated.corrected\")], type = \"l\",lwd = 2,col=\"green\",pch =16)\n",
    "legend(0.55,0.35,\n",
    "       c(\"Apparent\",\"Ideal\",\"Bias-corrected\"),\n",
    "       lty = c(2,1,1),\n",
    "       lwd = c(2,1,1),\n",
    "       col = c(\"black\",\"red\",\"green\"),\n",
    "       bty = \"n\") # \"o\"为加边框"
   ]
  },
  {
   "cell_type": "code",
   "execution_count": 140,
   "id": "ffc0aa89-5dbb-4878-8599-98ba15873a43",
   "metadata": {},
   "outputs": [],
   "source": [
    "library(rmda)\n",
    "library(ggDCA)\n",
    "library(ggplot2)\n",
    "library(rms)\n",
    "library(caret)"
   ]
  },
  {
   "cell_type": "code",
   "execution_count": 164,
   "id": "f23c6481-1cde-4bec-95a1-befce0f85c18",
   "metadata": {},
   "outputs": [
    {
     "data": {
      "text/html": [
       "<table class=\"dataframe\">\n",
       "<caption>A data.frame: 2 x 4</caption>\n",
       "<thead>\n",
       "\t<tr><th></th><th scope=col>Group</th><th scope=col>SNTG2</th><th scope=col>WDR72</th><th scope=col>TEF</th></tr>\n",
       "\t<tr><th></th><th scope=col>&lt;dbl&gt;</th><th scope=col>&lt;dbl&gt;</th><th scope=col>&lt;dbl&gt;</th><th scope=col>&lt;dbl&gt;</th></tr>\n",
       "</thead>\n",
       "<tbody>\n",
       "\t<tr><th scope=row>SL32230</th><td>1</td><td>5.291468</td><td>2.578752</td><td>14.71816</td></tr>\n",
       "\t<tr><th scope=row>SL32231</th><td>1</td><td>4.723438</td><td>2.739681</td><td>14.68516</td></tr>\n",
       "</tbody>\n",
       "</table>\n"
      ],
      "text/latex": [
       "A data.frame: 2 x 4\n",
       "\\begin{tabular}{r|llll}\n",
       "  & Group & SNTG2 & WDR72 & TEF\\\\\n",
       "  & <dbl> & <dbl> & <dbl> & <dbl>\\\\\n",
       "\\hline\n",
       "\tSL32230 & 1 & 5.291468 & 2.578752 & 14.71816\\\\\n",
       "\tSL32231 & 1 & 4.723438 & 2.739681 & 14.68516\\\\\n",
       "\\end{tabular}\n"
      ],
      "text/markdown": [
       "\n",
       "A data.frame: 2 x 4\n",
       "\n",
       "| <!--/--> | Group &lt;dbl&gt; | SNTG2 &lt;dbl&gt; | WDR72 &lt;dbl&gt; | TEF &lt;dbl&gt; |\n",
       "|---|---|---|---|---|\n",
       "| SL32230 | 1 | 5.291468 | 2.578752 | 14.71816 |\n",
       "| SL32231 | 1 | 4.723438 | 2.739681 | 14.68516 |\n",
       "\n"
      ],
      "text/plain": [
       "        Group SNTG2    WDR72    TEF     \n",
       "SL32230 1     5.291468 2.578752 14.71816\n",
       "SL32231 1     4.723438 2.739681 14.68516"
      ]
     },
     "metadata": {},
     "output_type": "display_data"
    }
   ],
   "source": [
    "head(data,2)"
   ]
  },
  {
   "cell_type": "code",
   "execution_count": 168,
   "id": "38983eee-509c-4f03-a9ca-2634dcdf708b",
   "metadata": {},
   "outputs": [],
   "source": [
    "set.seed(123)\n",
    "SNTG2.model <- decision_curve(Group ~ SNTG2, data = data,\n",
    "    thresholds = seq(0, 1, by = 0.005), bootstraps = 10)\n",
    "WDR72.model <- decision_curve(Group ~ WDR72, data = data,\n",
    "    thresholds = seq(0, 1, by = 0.005), bootstraps = 10)\n",
    "TEF.model <- decision_curve(Group ~ TEF, data = data,\n",
    "    thresholds = seq(0, 1, by = 0.005), bootstraps = 10)\n"
   ]
  },
  {
   "cell_type": "code",
   "execution_count": 169,
   "id": "0d827d43-c8a4-4736-8f54-5655bf171622",
   "metadata": {},
   "outputs": [
    {
     "name": "stderr",
     "output_type": "stream",
     "text": [
      "Note:  The data provided is used to both fit a prediction model and to estimate the respective decision curve. This may cause bias in decision curve estimates leading to over-confidence in model performance. \n",
      "\n"
     ]
    }
   ],
   "source": [
    "set.seed(123)\n",
    "full.model <- decision_curve(Group~+SNTG2 +WDR72 +TEF ,\n",
    "                             data = data,\n",
    "                             thresholds = seq(0, 1, by = .005),\n",
    "                             bootstraps = 10)"
   ]
  },
  {
   "cell_type": "code",
   "execution_count": 170,
   "id": "dd560056-800c-4781-8595-cf76af9ea60a",
   "metadata": {},
   "outputs": [
    {
     "name": "stderr",
     "output_type": "stream",
     "text": [
      "Note: When multiple decision curves are plotted, decision curves for 'All' are calculated using the prevalence from the first DecisionCurve object in the list provided.\n",
      "\n"
     ]
    },
    {
     "data": {
      "image/png": "[encoded data removed]",
      "text/plain": [
       "plot without title"
      ]
     },
     "metadata": {
      "image/png": {
       "height": 420,
       "width": 360
      }
     },
     "output_type": "display_data"
    }
   ],
   "source": [
    "plot_decision_curve( list(SNTG2.model,WDR72.model,TEF.model,full.model),\n",
    "                    curve.names = c('SNTG2.model','WDR72.model','TEF.model',\n",
    "                                    'full.model'),\n",
    "                    col = ggsci::pal_npg(\"nrc\")(5),\n",
    "                    confidence.intervals = FALSE,  #remove confidence intervals\n",
    "                    cost.benefit.axis = FALSE, #remove cost benefit axis\n",
    "                    legend.position = \"bottomright\") #add the legend"
   ]
  },
  {
   "cell_type": "code",
   "execution_count": 171,
   "id": "9c5fff5d-7917-400d-a9c6-052921812b4d",
   "metadata": {},
   "outputs": [
    {
     "data": {
      "text/html": [
       "<table class=\"dataframe\">\n",
       "<caption>A data.frame: 2 x 4</caption>\n",
       "<thead>\n",
       "\t<tr><th></th><th scope=col>Group</th><th scope=col>SNTG2</th><th scope=col>WDR72</th><th scope=col>TEF</th></tr>\n",
       "\t<tr><th></th><th scope=col>&lt;dbl&gt;</th><th scope=col>&lt;dbl&gt;</th><th scope=col>&lt;dbl&gt;</th><th scope=col>&lt;dbl&gt;</th></tr>\n",
       "</thead>\n",
       "<tbody>\n",
       "\t<tr><th scope=row>SL32230</th><td>1</td><td>5.291468</td><td>2.578752</td><td>14.71816</td></tr>\n",
       "\t<tr><th scope=row>SL32231</th><td>1</td><td>4.723438</td><td>2.739681</td><td>14.68516</td></tr>\n",
       "</tbody>\n",
       "</table>\n"
      ],
      "text/latex": [
       "A data.frame: 2 x 4\n",
       "\\begin{tabular}{r|llll}\n",
       "  & Group & SNTG2 & WDR72 & TEF\\\\\n",
       "  & <dbl> & <dbl> & <dbl> & <dbl>\\\\\n",
       "\\hline\n",
       "\tSL32230 & 1 & 5.291468 & 2.578752 & 14.71816\\\\\n",
       "\tSL32231 & 1 & 4.723438 & 2.739681 & 14.68516\\\\\n",
       "\\end{tabular}\n"
      ],
      "text/markdown": [
       "\n",
       "A data.frame: 2 x 4\n",
       "\n",
       "| <!--/--> | Group &lt;dbl&gt; | SNTG2 &lt;dbl&gt; | WDR72 &lt;dbl&gt; | TEF &lt;dbl&gt; |\n",
       "|---|---|---|---|---|\n",
       "| SL32230 | 1 | 5.291468 | 2.578752 | 14.71816 |\n",
       "| SL32231 | 1 | 4.723438 | 2.739681 | 14.68516 |\n",
       "\n"
      ],
      "text/plain": [
       "        Group SNTG2    WDR72    TEF     \n",
       "SL32230 1     5.291468 2.578752 14.71816\n",
       "SL32231 1     4.723438 2.739681 14.68516"
      ]
     },
     "metadata": {},
     "output_type": "display_data"
    }
   ],
   "source": [
    "head(data,2)"
   ]
  },
  {
   "cell_type": "code",
   "execution_count": 177,
   "id": "d06e70ab-2d0f-4ca7-8f9b-943675ea1c97",
   "metadata": {},
   "outputs": [],
   "source": [
    "fold_pre <- glm(Group~.,data=fold_test,family=binomial())\n",
    "fold_predict <- predict(fold_pre,type='response',newdata=data)"
   ]
  },
  {
   "cell_type": "code",
   "execution_count": 178,
   "id": "3b788f2d-28eb-450a-a17a-568830e92c53",
   "metadata": {},
   "outputs": [],
   "source": [
    "library(pROC)"
   ]
  },
  {
   "cell_type": "code",
   "execution_count": 180,
   "id": "0791e08a-a195-4d2e-b46f-c361dbe2de2a",
   "metadata": {},
   "outputs": [
    {
     "data": {
      "image/png": "[encoded data removed]",
      "text/plain": [
       "plot without title"
      ]
     },
     "metadata": {
      "image/png": {
       "height": 420,
       "width": 360
      }
     },
     "output_type": "display_data"
    }
   ],
   "source": [
    "rocobj1 <- plot.roc(data$Group, data$SNTG2,percent=TRUE, levels=c(0,1),direction=\"<\",col=\"#1c61b6\")\n",
    "rocobj2 <- lines.roc(data$Group, data$WDR72,percent=TRUE, levels=c(0,1),direction=\"<\", col=\"#008600\")\n",
    "rocobj3 <- lines.roc(data$Group, data$TEF,percent=TRUE, levels=c(0,1),direction=\"<\", col=\"#9C6D35\")\n",
    "\n",
    "rocobj5 <- lines.roc(data$Group, fold_predict,percent=TRUE, levels=c(0,1),direction=\"<\", col=\"#9F1A70\")\n",
    "\n",
    "legend(\"right\", legend=c(paste0(\"SNTG2 \", round(rocobj1$auc/100,digits = 2)),\n",
    "                               paste0(\"WDR72 \", round(rocobj2$auc/100,digits = 2)),\n",
    "                               paste0(\"TEF \", round(rocobj3$auc/100,digits = 2)),\n",
    "                               paste0(\"fold_predict \", round(rocobj5$auc/100,digits = 2))),\n",
    "       col=c(\"#1c61b6\", \"#008600\",\"#9C6D35\",\"#9F1A70\"), lwd=1)"
   ]
  },
  {
   "cell_type": "code",
   "execution_count": 231,
   "id": "a095273c-20f1-4782-a731-a69b6311d90b",
   "metadata": {},
   "outputs": [
    {
     "data": {
      "text/html": [
       "<style>\n",
       ".list-inline {list-style: none; margin:0; padding: 0}\n",
       ".list-inline>li {display: inline-block}\n",
       ".list-inline>li:not(:last-child)::after {content: \"\\00b7\"; padding: 0 .5ex}\n",
       "</style>\n",
       "<ol class=list-inline><li>'Group'</li><li>'SNTG2'</li><li>'TEF'</li><li>'WDR72'</li></ol>\n"
      ],
      "text/latex": [
       "\\begin{enumerate*}\n",
       "\\item 'Group'\n",
       "\\item 'SNTG2'\n",
       "\\item 'TEF'\n",
       "\\item 'WDR72'\n",
       "\\end{enumerate*}\n"
      ],
      "text/markdown": [
       "1. 'Group'\n",
       "2. 'SNTG2'\n",
       "3. 'TEF'\n",
       "4. 'WDR72'\n",
       "\n",
       "\n"
      ],
      "text/plain": [
       "[1] \"Group\" \"SNTG2\" \"TEF\"   \"WDR72\""
      ]
     },
     "metadata": {},
     "output_type": "display_data"
    }
   ],
   "source": [
    "colnames(data)"
   ]
  },
  {
   "cell_type": "code",
   "execution_count": 235,
   "id": "475b9c67-28d2-4ee0-bdb1-38d63a399c65",
   "metadata": {},
   "outputs": [],
   "source": [
    "require(cowplot)\n",
    "require(tidyverse)\n",
    "require(ggplot2)\n",
    "require(ggsci)\n",
    "require(ggpubr)"
   ]
  },
  {
   "cell_type": "code",
   "execution_count": 230,
   "id": "298b2cf2-0e00-4784-aee1-cf95d32f10de",
   "metadata": {},
   "outputs": [],
   "source": [
    "data1 = data\n",
    "data1$Group = ifelse(data1$Group == 1,'MDD','Con')"
   ]
  },
  {
   "cell_type": "code",
   "execution_count": 232,
   "id": "6f302f70-5845-41b9-9f48-11affccd2d8f",
   "metadata": {},
   "outputs": [],
   "source": [
    "mydata<-data1 %>% \n",
    "  ## 基因表达数据gather,gather的范围应调整\n",
    "  gather(key=\"gene\",value=\"Expression\",SNTG2:WDR72) %>% \n",
    "  ##\n",
    "  dplyr::select(Group,gene,Expression) "
   ]
  },
  {
   "cell_type": "code",
   "execution_count": 236,
   "id": "0006d50e-8956-437f-913d-ee1ed0093a49",
   "metadata": {},
   "outputs": [
    {
     "data": {
      "text/html": [
       "<table class=\"dataframe\">\n",
       "<caption>A tibble: 3 x 9</caption>\n",
       "<thead>\n",
       "\t<tr><th scope=col>gene</th><th scope=col>.y.</th><th scope=col>group1</th><th scope=col>group2</th><th scope=col>p</th><th scope=col>p.adj</th><th scope=col>p.format</th><th scope=col>p.signif</th><th scope=col>method</th></tr>\n",
       "\t<tr><th scope=col>&lt;chr&gt;</th><th scope=col>&lt;chr&gt;</th><th scope=col>&lt;chr&gt;</th><th scope=col>&lt;chr&gt;</th><th scope=col>&lt;dbl&gt;</th><th scope=col>&lt;dbl&gt;</th><th scope=col>&lt;chr&gt;</th><th scope=col>&lt;chr&gt;</th><th scope=col>&lt;chr&gt;</th></tr>\n",
       "</thead>\n",
       "<tbody>\n",
       "\t<tr><td>SNTG2</td><td>Expression</td><td>MDD</td><td>Con</td><td>0.0006356004</td><td>0.0019</td><td>0.00064</td><td>***</td><td>T-test</td></tr>\n",
       "\t<tr><td>TEF  </td><td>Expression</td><td>MDD</td><td>Con</td><td>0.0016121165</td><td>0.0032</td><td>0.00161</td><td>** </td><td>T-test</td></tr>\n",
       "\t<tr><td>WDR72</td><td>Expression</td><td>MDD</td><td>Con</td><td>0.0094814927</td><td>0.0095</td><td>0.00948</td><td>** </td><td>T-test</td></tr>\n",
       "</tbody>\n",
       "</table>\n"
      ],
      "text/latex": [
       "A tibble: 3 x 9\n",
       "\\begin{tabular}{lllllllll}\n",
       " gene & .y. & group1 & group2 & p & p.adj & p.format & p.signif & method\\\\\n",
       " <chr> & <chr> & <chr> & <chr> & <dbl> & <dbl> & <chr> & <chr> & <chr>\\\\\n",
       "\\hline\n",
       "\t SNTG2 & Expression & MDD & Con & 0.0006356004 & 0.0019 & 0.00064 & *** & T-test\\\\\n",
       "\t TEF   & Expression & MDD & Con & 0.0016121165 & 0.0032 & 0.00161 & **  & T-test\\\\\n",
       "\t WDR72 & Expression & MDD & Con & 0.0094814927 & 0.0095 & 0.00948 & **  & T-test\\\\\n",
       "\\end{tabular}\n"
      ],
      "text/markdown": [
       "\n",
       "A tibble: 3 x 9\n",
       "\n",
       "| gene &lt;chr&gt; | .y. &lt;chr&gt; | group1 &lt;chr&gt; | group2 &lt;chr&gt; | p &lt;dbl&gt; | p.adj &lt;dbl&gt; | p.format &lt;chr&gt; | p.signif &lt;chr&gt; | method &lt;chr&gt; |\n",
       "|---|---|---|---|---|---|---|---|---|\n",
       "| SNTG2 | Expression | MDD | Con | 0.0006356004 | 0.0019 | 0.00064 | *** | T-test |\n",
       "| TEF   | Expression | MDD | Con | 0.0016121165 | 0.0032 | 0.00161 | **  | T-test |\n",
       "| WDR72 | Expression | MDD | Con | 0.0094814927 | 0.0095 | 0.00948 | **  | T-test |\n",
       "\n"
      ],
      "text/plain": [
       "  gene  .y.        group1 group2 p            p.adj  p.format p.signif method\n",
       "1 SNTG2 Expression MDD    Con    0.0006356004 0.0019 0.00064  ***      T-test\n",
       "2 TEF   Expression MDD    Con    0.0016121165 0.0032 0.00161  **       T-test\n",
       "3 WDR72 Expression MDD    Con    0.0094814927 0.0095 0.00948  **       T-test"
      ]
     },
     "metadata": {},
     "output_type": "display_data"
    }
   ],
   "source": [
    "compare_means( Expression ~ Group, data = mydata, method = 't.test',\n",
    "              group.by = \"gene\")\n",
    "# Box plot facetted by \"gene\"\n",
    "p <- ggboxplot(mydata, x = \"Group\", y = \"Expression\",\n",
    "          color = \"Group\", palette = \"jco\",\n",
    "          add = \"jitter\",\n",
    "          facet.by = \"gene\", short.panel.labs = FALSE)\n",
    "# Use only p.format as label. Remove method name.\n",
    "#p + stat_compare_means(label =  \"p.signif\", label.x = 1.5)\n",
    "p <- ggboxplot(mydata, x = \"gene\", y = \"Expression\",\n",
    "          color = \"Group\", palette = \"nejm\",\n",
    "          add = \"jitter\")"
   ]
  },
  {
   "cell_type": "code",
   "execution_count": 237,
   "id": "95ee29f5-0af6-4802-97fe-9268aecc75c4",
   "metadata": {},
   "outputs": [
    {
     "data": {
      "image/png": "[encoded data removed]",
      "text/plain": [
       "plot without title"
      ]
     },
     "metadata": {
      "image/png": {
       "height": 300,
       "width": 420
      }
     },
     "output_type": "display_data"
    }
   ],
   "source": [
    "diffgene = as.data.frame(compare_means( Expression ~ Group, data = mydata, method = 't.test',\n",
    "              group.by = \"gene\"))\n",
    "diffgene = rownames(diffgene) = diffgene[,1]\n",
    "options(repr.plot.height = 5,repr.plot.width = 21)\n",
    "options(repr.plot.width = 7,repr.plot.height = 5)\n",
    "p + stat_compare_means(aes(group = Group), label = \"p.signif\",method = 't.test')"
   ]
  },
  {
   "cell_type": "code",
   "execution_count": 238,
   "id": "425a3f54-5365-4f66-a736-7fda982bcbdb",
   "metadata": {
    "scrolled": true
   },
   "outputs": [
    {
     "data": {
      "text/html": [
       "<table class=\"dataframe\">\n",
       "<caption>A data.frame: 6 x 3</caption>\n",
       "<thead>\n",
       "\t<tr><th></th><th scope=col>Var1</th><th scope=col>Var2</th><th scope=col>value</th></tr>\n",
       "\t<tr><th></th><th scope=col>&lt;fct&gt;</th><th scope=col>&lt;fct&gt;</th><th scope=col>&lt;dbl&gt;</th></tr>\n",
       "</thead>\n",
       "<tbody>\n",
       "\t<tr><th scope=row>2</th><td>TEF  </td><td>SNTG2</td><td>0.4990034</td></tr>\n",
       "\t<tr><th scope=row>3</th><td>WDR72</td><td>SNTG2</td><td>0.2643685</td></tr>\n",
       "\t<tr><th scope=row>4</th><td>SNTG2</td><td>TEF  </td><td>0.4990034</td></tr>\n",
       "\t<tr><th scope=row>6</th><td>WDR72</td><td>TEF  </td><td>0.1944791</td></tr>\n",
       "\t<tr><th scope=row>7</th><td>SNTG2</td><td>WDR72</td><td>0.2643685</td></tr>\n",
       "\t<tr><th scope=row>8</th><td>TEF  </td><td>WDR72</td><td>0.1944791</td></tr>\n",
       "</tbody>\n",
       "</table>\n"
      ],
      "text/latex": [
       "A data.frame: 6 x 3\n",
       "\\begin{tabular}{r|lll}\n",
       "  & Var1 & Var2 & value\\\\\n",
       "  & <fct> & <fct> & <dbl>\\\\\n",
       "\\hline\n",
       "\t2 & TEF   & SNTG2 & 0.4990034\\\\\n",
       "\t3 & WDR72 & SNTG2 & 0.2643685\\\\\n",
       "\t4 & SNTG2 & TEF   & 0.4990034\\\\\n",
       "\t6 & WDR72 & TEF   & 0.1944791\\\\\n",
       "\t7 & SNTG2 & WDR72 & 0.2643685\\\\\n",
       "\t8 & TEF   & WDR72 & 0.1944791\\\\\n",
       "\\end{tabular}\n"
      ],
      "text/markdown": [
       "\n",
       "A data.frame: 6 x 3\n",
       "\n",
       "| <!--/--> | Var1 &lt;fct&gt; | Var2 &lt;fct&gt; | value &lt;dbl&gt; |\n",
       "|---|---|---|---|\n",
       "| 2 | TEF   | SNTG2 | 0.4990034 |\n",
       "| 3 | WDR72 | SNTG2 | 0.2643685 |\n",
       "| 4 | SNTG2 | TEF   | 0.4990034 |\n",
       "| 6 | WDR72 | TEF   | 0.1944791 |\n",
       "| 7 | SNTG2 | WDR72 | 0.2643685 |\n",
       "| 8 | TEF   | WDR72 | 0.1944791 |\n",
       "\n"
      ],
      "text/plain": [
       "  Var1  Var2  value    \n",
       "2 TEF   SNTG2 0.4990034\n",
       "3 WDR72 SNTG2 0.2643685\n",
       "4 SNTG2 TEF   0.4990034\n",
       "6 WDR72 TEF   0.1944791\n",
       "7 SNTG2 WDR72 0.2643685\n",
       "8 TEF   WDR72 0.1944791"
      ]
     },
     "metadata": {},
     "output_type": "display_data"
    },
    {
     "name": "stderr",
     "output_type": "stream",
     "text": [
      "========================================\n",
      "circlize version 0.4.16\n",
      "CRAN page: https://cran.r-project.org/package=circlize\n",
      "Github page: https://github.com/jokergoo/circlize\n",
      "Documentation: https://jokergoo.github.io/circlize_book/book/\n",
      "\n",
      "If you use it in published research, please cite:\n",
      "Gu, Z. circlize implements and enhances circular visualization\n",
      "  in R. Bioinformatics 2014.\n",
      "\n",
      "This message can be suppressed by:\n",
      "  suppressPackageStartupMessages(library(circlize))\n",
      "========================================\n",
      "\n",
      "\n"
     ]
    },
    {
     "data": {
      "text/html": [
       "<strong>png:</strong> 2"
      ],
      "text/latex": [
       "\\textbf{png:} 2"
      ],
      "text/markdown": [
       "**png:** 2"
      ],
      "text/plain": [
       "png \n",
       "  2 "
      ]
     },
     "metadata": {},
     "output_type": "display_data"
    }
   ],
   "source": [
    "tend1 = data1[,c( 2:4)] \n",
    "gene_cor <- cor(tend1, method = 'pearson')\n",
    "diag(gene_cor) <- 0\n",
    "gene_cor <- reshape2::melt(gene_cor)\n",
    "gene_cor <- subset(gene_cor, value != 0)  #去除0值的相关性\n",
    "head(gene_cor)\n",
    "\n",
    "library(circlize)\n",
    "pdf('cor.circle.pdf',height = 6,width = 6)\n",
    "p= chordDiagram(gene_cor, \n",
    "    annotationTrack = c('grid', 'name', 'axis'), #绘制外周圆弧区，显示名称和刻度轴\n",
    "    grid.col = c(TNFSF14 = 'green3', CCNA2 = 'red', MARCKS = 'orange', SGOL1 = 'purple', SAP130 = 'skyblue'), #定义基因颜色\n",
    "    col = colorRamp2(c(-1, 0, 1), c('green', 'white', 'red'), transparency = 0.5), #根据相关性大小展示连线的颜色范围\n",
    "    annotationTrackHeight = c(0.05, 0.05), #名称离圆弧的距离，以及圆弧的宽度\n",
    ")\n",
    "dev.off()"
   ]
  },
  {
   "cell_type": "code",
   "execution_count": 239,
   "id": "9bb12f87-fd2e-4d95-9977-09b64a4b6670",
   "metadata": {},
   "outputs": [
    {
     "data": {
      "image/png": "[encoded data removed]",
      "text/plain": [
       "plot without title"
      ]
     },
     "metadata": {
      "image/png": {
       "height": 300,
       "width": 420
      }
     },
     "output_type": "display_data"
    }
   ],
   "source": [
    "chordDiagram(gene_cor, \n",
    "    annotationTrack = c('grid', 'name', 'axis'), #绘制外周圆弧区，显示名称和刻度轴\n",
    "    grid.col = c(TNFSF14 = 'green3', CCNA2 = 'red', MARCKS = 'orange', SGOL1 = 'purple', SAP130 = 'skyblue'), #定义基因颜色\n",
    "    col = colorRamp2(c(-1, 0, 1), c('green', 'white', 'red'), transparency = 0.5), #根据相关性大小展示连线的颜色范围\n",
    "    annotationTrackHeight = c(0.05, 0.05), #名称离圆弧的距离，以及圆弧的宽度\n",
    ")"
   ]
  },
  {
   "cell_type": "code",
   "execution_count": 241,
   "id": "63978bef-4599-45a3-901d-6703e2d55a48",
   "metadata": {},
   "outputs": [],
   "source": [
    "save(data,file = 'train1.rda')"
   ]
  },
  {
   "cell_type": "code",
   "execution_count": null,
   "id": "18c905c2-8a1c-47cd-9d7b-aabf1565ab65",
   "metadata": {},
   "outputs": [],
   "source": []
  }
 ],
 "metadata": {
  "kernelspec": {
   "display_name": "R",
   "language": "R",
   "name": "ir"
  },
  "language_info": {
   "codemirror_mode": "r",
   "file_extension": ".r",
   "mimetype": "text/x-r-source",
   "name": "R",
   "pygments_lexer": "r",
   "version": "4.2.1"
  }
 },
 "nbformat": 4,
 "nbformat_minor": 5
}
