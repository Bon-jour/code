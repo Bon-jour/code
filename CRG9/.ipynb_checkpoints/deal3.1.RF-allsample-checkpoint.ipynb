{
 "cells": [
  {
   "cell_type": "code",
   "execution_count": null,
   "id": "971e09f1-f071-4564-85c1-020f674d89f1",
   "metadata": {},
   "outputs": [],
   "source": [
    "# https://zhuanlan.zhihu.com/p/692810462 RF\n",
    "# https://zhuanlan.zhihu.com/p/692505141 SVM\n",
    "\n",
    "# https://zhuanlan.zhihu.com/p/112009086 Xboost"
   ]
  },
  {
   "cell_type": "code",
   "execution_count": 1,
   "id": "1d6a9177-4dba-46f0-a5b1-9215198d26d2",
   "metadata": {},
   "outputs": [],
   "source": [
    "setwd('/import/DB/fel/BJTC-204')"
   ]
  },
  {
   "cell_type": "code",
   "execution_count": 2,
   "id": "c658e575-0888-44ff-af8f-fab4424c9511",
   "metadata": {},
   "outputs": [],
   "source": [
    "load('./ene.rda')"
   ]
  },
  {
   "cell_type": "code",
   "execution_count": 3,
   "id": "329a052d-4aa0-4cfb-ad75-7e55f6ac59b0",
   "metadata": {},
   "outputs": [],
   "source": [
    "load('buik2_s.rda')"
   ]
  },
  {
   "cell_type": "code",
   "execution_count": 4,
   "id": "cf3e0030-851b-4bea-8395-13a2756ff40e",
   "metadata": {},
   "outputs": [
    {
     "data": {
      "text/html": [
       "<style>\n",
       ".list-inline {list-style: none; margin:0; padding: 0}\n",
       ".list-inline>li {display: inline-block}\n",
       ".list-inline>li:not(:last-child)::after {content: \"\\00b7\"; padding: 0 .5ex}\n",
       "</style>\n",
       "<ol class=list-inline><li>'cliinfo'</li><li>'count'</li><li>'ene'</li><li>'exp'</li><li>'group'</li></ol>\n"
      ],
      "text/latex": [
       "\\begin{enumerate*}\n",
       "\\item 'cliinfo'\n",
       "\\item 'count'\n",
       "\\item 'ene'\n",
       "\\item 'exp'\n",
       "\\item 'group'\n",
       "\\end{enumerate*}\n"
      ],
      "text/markdown": [
       "1. 'cliinfo'\n",
       "2. 'count'\n",
       "3. 'ene'\n",
       "4. 'exp'\n",
       "5. 'group'\n",
       "\n",
       "\n"
      ],
      "text/plain": [
       "[1] \"cliinfo\" \"count\"   \"ene\"     \"exp\"     \"group\"  "
      ]
     },
     "metadata": {},
     "output_type": "display_data"
    }
   ],
   "source": [
    "ls()"
   ]
  },
  {
   "cell_type": "code",
   "execution_count": null,
   "id": "e74d5311-dfa3-4125-82bb-4ac77f4d4a32",
   "metadata": {},
   "outputs": [],
   "source": []
  },
  {
   "cell_type": "code",
   "execution_count": null,
   "id": "8e432143-e240-4c1c-a11f-fae87802c66c",
   "metadata": {},
   "outputs": [],
   "source": []
  },
  {
   "cell_type": "code",
   "execution_count": 12,
   "id": "82199765-86d3-45db-9869-e01874e561bf",
   "metadata": {},
   "outputs": [],
   "source": [
    "library(dplyr)"
   ]
  },
  {
   "cell_type": "code",
   "execution_count": 13,
   "id": "10a31985-d127-4fb0-a7af-98ebd063cde3",
   "metadata": {},
   "outputs": [
    {
     "name": "stderr",
     "output_type": "stream",
     "text": [
      "Warning message:\n",
      "\"package 'ggplot2' was built under R version 4.2.3\"\n",
      "Warning message:\n",
      "\"package 'tibble' was built under R version 4.2.3\"\n",
      "Warning message:\n",
      "\"package 'tidyr' was built under R version 4.2.3\"\n",
      "Warning message:\n",
      "\"package 'readr' was built under R version 4.2.3\"\n",
      "Warning message:\n",
      "\"package 'purrr' was built under R version 4.2.3\"\n",
      "Warning message:\n",
      "\"package 'stringr' was built under R version 4.2.3\"\n",
      "Warning message:\n",
      "\"package 'forcats' was built under R version 4.2.3\"\n",
      "Warning message:\n",
      "\"package 'lubridate' was built under R version 4.2.3\"\n",
      "Warning message in system(\"timedatectl\", intern = TRUE):\n",
      "\"running command 'timedatectl' had status 1\"\n",
      "-- \u001b[1mAttaching core tidyverse packages\u001b[22m ------------------------ tidyverse 2.0.0 --\n",
      "\u001b[32mv\u001b[39m \u001b[34mforcats  \u001b[39m 1.0.0     \u001b[32mv\u001b[39m \u001b[34mreadr    \u001b[39m 2.1.4\n",
      "\u001b[32mv\u001b[39m \u001b[34mggplot2  \u001b[39m 3.5.1     \u001b[32mv\u001b[39m \u001b[34mstringr  \u001b[39m 1.5.0\n",
      "\u001b[32mv\u001b[39m \u001b[34mlubridate\u001b[39m 1.9.2     \u001b[32mv\u001b[39m \u001b[34mtibble   \u001b[39m 3.2.1\n",
      "\u001b[32mv\u001b[39m \u001b[34mpurrr    \u001b[39m 1.0.2     \u001b[32mv\u001b[39m \u001b[34mtidyr    \u001b[39m 1.3.1\n",
      "-- \u001b[1mConflicts\u001b[22m ------------------------------------------ tidyverse_conflicts() --\n",
      "\u001b[31mx\u001b[39m \u001b[34mdplyr\u001b[39m::\u001b[32mfilter()\u001b[39m masks \u001b[34mstats\u001b[39m::filter()\n",
      "\u001b[31mx\u001b[39m \u001b[34mdplyr\u001b[39m::\u001b[32mlag()\u001b[39m    masks \u001b[34mstats\u001b[39m::lag()\n",
      "\u001b[36mi\u001b[39m Use the conflicted package (\u001b[3m\u001b[34m<http://conflicted.r-lib.org/>\u001b[39m\u001b[23m) to force all conflicts to become errors\n"
     ]
    },
    {
     "data": {
      "text/html": [
       "<table class=\"dataframe\">\n",
       "<caption>A data.frame: 6 x 60</caption>\n",
       "<thead>\n",
       "\t<tr><th></th><th scope=col>V1</th><th scope=col>V2</th><th scope=col>V3</th><th scope=col>V4</th><th scope=col>V5</th><th scope=col>V6</th><th scope=col>V7</th><th scope=col>V8</th><th scope=col>V9</th><th scope=col>V11</th><th scope=col>...</th><th scope=col>V31</th><th scope=col>V38</th><th scope=col>V41</th><th scope=col>V48</th><th scope=col>V50</th><th scope=col>V51</th><th scope=col>V54</th><th scope=col>V55</th><th scope=col>V56</th><th scope=col>Length</th></tr>\n",
       "\t<tr><th></th><th scope=col>&lt;dbl&gt;</th><th scope=col>&lt;dbl&gt;</th><th scope=col>&lt;dbl&gt;</th><th scope=col>&lt;dbl&gt;</th><th scope=col>&lt;dbl&gt;</th><th scope=col>&lt;dbl&gt;</th><th scope=col>&lt;dbl&gt;</th><th scope=col>&lt;dbl&gt;</th><th scope=col>&lt;dbl&gt;</th><th scope=col>&lt;dbl&gt;</th><th scope=col>...</th><th scope=col>&lt;dbl&gt;</th><th scope=col>&lt;dbl&gt;</th><th scope=col>&lt;dbl&gt;</th><th scope=col>&lt;dbl&gt;</th><th scope=col>&lt;dbl&gt;</th><th scope=col>&lt;dbl&gt;</th><th scope=col>&lt;dbl&gt;</th><th scope=col>&lt;dbl&gt;</th><th scope=col>&lt;dbl&gt;</th><th scope=col>&lt;int&gt;</th></tr>\n",
       "</thead>\n",
       "<tbody>\n",
       "\t<tr><th scope=row>ANGEL2</th><td>657.115725</td><td>609.00637</td><td>759.00778</td><td>744.8014516</td><td>705.176831</td><td>612.97452</td><td>727.4426933</td><td>448.5768640</td><td>590.7819960</td><td>552.14449</td><td>...</td><td>669.376352</td><td>714.863252</td><td>739.04548</td><td>753.005268</td><td>745.821958</td><td>694.703002</td><td>645.644824</td><td>817.8152171</td><td>745.140357</td><td>7276</td></tr>\n",
       "\t<tr><th scope=row>SLC47A2</th><td> 14.934448</td><td> 26.20724</td><td> 26.71707</td><td> 12.2932511</td><td> 11.560276</td><td> 16.82675</td><td> 20.4249568</td><td> 40.7797149</td><td> 21.1641452</td><td> 23.29724</td><td>...</td><td> 35.768202</td><td> 37.311961</td><td> 20.64771</td><td> 22.973042</td><td> 40.173080</td><td> 29.886840</td><td> 36.719137</td><td> 19.9153745</td><td> 23.863582</td><td>6691</td></tr>\n",
       "\t<tr><th scope=row>TNMD</th><td>  1.493445</td><td>  0.00000</td><td>  0.00000</td><td>  0.8478104</td><td>  1.445034</td><td>  0.00000</td><td>  1.5711505</td><td>  0.8865155</td><td>  1.2093797</td><td>  0.00000</td><td>...</td><td>  1.459927</td><td>  1.695998</td><td>  1.42398</td><td>  3.403414</td><td>  1.746656</td><td>  1.992456</td><td>  3.059928</td><td>  1.9272943</td><td>  1.193179</td><td>1610</td></tr>\n",
       "\t<tr><th scope=row>MFSD11</th><td>252.392176</td><td>269.56019</td><td>259.88426</td><td>208.5613626</td><td>232.650553</td><td>249.99745</td><td>251.3840841</td><td>192.3738725</td><td>256.9931917</td><td>195.69678</td><td>...</td><td>294.905176</td><td>258.639729</td><td>275.54008</td><td>312.263202</td><td>300.424770</td><td>263.004196</td><td>248.874150</td><td>283.9546944</td><td>322.754950</td><td>6587</td></tr>\n",
       "\t<tr><th scope=row>HSD17B2</th><td>  0.000000</td><td>  0.00000</td><td>  0.00000</td><td>  0.4239052</td><td>  0.000000</td><td>  0.00000</td><td>  0.7855753</td><td>  2.6595466</td><td>  0.6046899</td><td>  0.00000</td><td>...</td><td>  0.000000</td><td>  0.000000</td><td>  1.42398</td><td>  2.552560</td><td>  3.493311</td><td>  0.664152</td><td>  0.000000</td><td>  0.6424314</td><td>  0.000000</td><td>9550</td></tr>\n",
       "\t<tr><th scope=row>COX19</th><td>140.383814</td><td>131.03621</td><td>117.79801</td><td>136.9213824</td><td>114.157725</td><td>108.17197</td><td>134.3333699</td><td>134.7503623</td><td>123.9614219</td><td>160.75093</td><td>...</td><td>127.013615</td><td>106.847888</td><td>126.73420</td><td>105.505823</td><td>120.519239</td><td>131.502098</td><td>135.656811</td><td>149.6865244</td><td>147.357621</td><td>5542</td></tr>\n",
       "</tbody>\n",
       "</table>\n"
      ],
      "text/latex": [
       "A data.frame: 6 x 60\n",
       "\\begin{tabular}{r|lllllllllllllllllllll}\n",
       "  & V1 & V2 & V3 & V4 & V5 & V6 & V7 & V8 & V9 & V11 & ... & V31 & V38 & V41 & V48 & V50 & V51 & V54 & V55 & V56 & Length\\\\\n",
       "  & <dbl> & <dbl> & <dbl> & <dbl> & <dbl> & <dbl> & <dbl> & <dbl> & <dbl> & <dbl> & ... & <dbl> & <dbl> & <dbl> & <dbl> & <dbl> & <dbl> & <dbl> & <dbl> & <dbl> & <int>\\\\\n",
       "\\hline\n",
       "\tANGEL2 & 657.115725 & 609.00637 & 759.00778 & 744.8014516 & 705.176831 & 612.97452 & 727.4426933 & 448.5768640 & 590.7819960 & 552.14449 & ... & 669.376352 & 714.863252 & 739.04548 & 753.005268 & 745.821958 & 694.703002 & 645.644824 & 817.8152171 & 745.140357 & 7276\\\\\n",
       "\tSLC47A2 &  14.934448 &  26.20724 &  26.71707 &  12.2932511 &  11.560276 &  16.82675 &  20.4249568 &  40.7797149 &  21.1641452 &  23.29724 & ... &  35.768202 &  37.311961 &  20.64771 &  22.973042 &  40.173080 &  29.886840 &  36.719137 &  19.9153745 &  23.863582 & 6691\\\\\n",
       "\tTNMD &   1.493445 &   0.00000 &   0.00000 &   0.8478104 &   1.445034 &   0.00000 &   1.5711505 &   0.8865155 &   1.2093797 &   0.00000 & ... &   1.459927 &   1.695998 &   1.42398 &   3.403414 &   1.746656 &   1.992456 &   3.059928 &   1.9272943 &   1.193179 & 1610\\\\\n",
       "\tMFSD11 & 252.392176 & 269.56019 & 259.88426 & 208.5613626 & 232.650553 & 249.99745 & 251.3840841 & 192.3738725 & 256.9931917 & 195.69678 & ... & 294.905176 & 258.639729 & 275.54008 & 312.263202 & 300.424770 & 263.004196 & 248.874150 & 283.9546944 & 322.754950 & 6587\\\\\n",
       "\tHSD17B2 &   0.000000 &   0.00000 &   0.00000 &   0.4239052 &   0.000000 &   0.00000 &   0.7855753 &   2.6595466 &   0.6046899 &   0.00000 & ... &   0.000000 &   0.000000 &   1.42398 &   2.552560 &   3.493311 &   0.664152 &   0.000000 &   0.6424314 &   0.000000 & 9550\\\\\n",
       "\tCOX19 & 140.383814 & 131.03621 & 117.79801 & 136.9213824 & 114.157725 & 108.17197 & 134.3333699 & 134.7503623 & 123.9614219 & 160.75093 & ... & 127.013615 & 106.847888 & 126.73420 & 105.505823 & 120.519239 & 131.502098 & 135.656811 & 149.6865244 & 147.357621 & 5542\\\\\n",
       "\\end{tabular}\n"
      ],
      "text/markdown": [
       "\n",
       "A data.frame: 6 x 60\n",
       "\n",
       "| <!--/--> | V1 &lt;dbl&gt; | V2 &lt;dbl&gt; | V3 &lt;dbl&gt; | V4 &lt;dbl&gt; | V5 &lt;dbl&gt; | V6 &lt;dbl&gt; | V7 &lt;dbl&gt; | V8 &lt;dbl&gt; | V9 &lt;dbl&gt; | V11 &lt;dbl&gt; | ... ... | V31 &lt;dbl&gt; | V38 &lt;dbl&gt; | V41 &lt;dbl&gt; | V48 &lt;dbl&gt; | V50 &lt;dbl&gt; | V51 &lt;dbl&gt; | V54 &lt;dbl&gt; | V55 &lt;dbl&gt; | V56 &lt;dbl&gt; | Length &lt;int&gt; |\n",
       "|---|---|---|---|---|---|---|---|---|---|---|---|---|---|---|---|---|---|---|---|---|---|\n",
       "| ANGEL2 | 657.115725 | 609.00637 | 759.00778 | 744.8014516 | 705.176831 | 612.97452 | 727.4426933 | 448.5768640 | 590.7819960 | 552.14449 | ... | 669.376352 | 714.863252 | 739.04548 | 753.005268 | 745.821958 | 694.703002 | 645.644824 | 817.8152171 | 745.140357 | 7276 |\n",
       "| SLC47A2 |  14.934448 |  26.20724 |  26.71707 |  12.2932511 |  11.560276 |  16.82675 |  20.4249568 |  40.7797149 |  21.1641452 |  23.29724 | ... |  35.768202 |  37.311961 |  20.64771 |  22.973042 |  40.173080 |  29.886840 |  36.719137 |  19.9153745 |  23.863582 | 6691 |\n",
       "| TNMD |   1.493445 |   0.00000 |   0.00000 |   0.8478104 |   1.445034 |   0.00000 |   1.5711505 |   0.8865155 |   1.2093797 |   0.00000 | ... |   1.459927 |   1.695998 |   1.42398 |   3.403414 |   1.746656 |   1.992456 |   3.059928 |   1.9272943 |   1.193179 | 1610 |\n",
       "| MFSD11 | 252.392176 | 269.56019 | 259.88426 | 208.5613626 | 232.650553 | 249.99745 | 251.3840841 | 192.3738725 | 256.9931917 | 195.69678 | ... | 294.905176 | 258.639729 | 275.54008 | 312.263202 | 300.424770 | 263.004196 | 248.874150 | 283.9546944 | 322.754950 | 6587 |\n",
       "| HSD17B2 |   0.000000 |   0.00000 |   0.00000 |   0.4239052 |   0.000000 |   0.00000 |   0.7855753 |   2.6595466 |   0.6046899 |   0.00000 | ... |   0.000000 |   0.000000 |   1.42398 |   2.552560 |   3.493311 |   0.664152 |   0.000000 |   0.6424314 |   0.000000 | 9550 |\n",
       "| COX19 | 140.383814 | 131.03621 | 117.79801 | 136.9213824 | 114.157725 | 108.17197 | 134.3333699 | 134.7503623 | 123.9614219 | 160.75093 | ... | 127.013615 | 106.847888 | 126.73420 | 105.505823 | 120.519239 | 131.502098 | 135.656811 | 149.6865244 | 147.357621 | 5542 |\n",
       "\n"
      ],
      "text/plain": [
       "        V1         V2        V3        V4          V5         V6       \n",
       "ANGEL2  657.115725 609.00637 759.00778 744.8014516 705.176831 612.97452\n",
       "SLC47A2  14.934448  26.20724  26.71707  12.2932511  11.560276  16.82675\n",
       "TNMD      1.493445   0.00000   0.00000   0.8478104   1.445034   0.00000\n",
       "MFSD11  252.392176 269.56019 259.88426 208.5613626 232.650553 249.99745\n",
       "HSD17B2   0.000000   0.00000   0.00000   0.4239052   0.000000   0.00000\n",
       "COX19   140.383814 131.03621 117.79801 136.9213824 114.157725 108.17197\n",
       "        V7          V8          V9          V11       ... V31        V38       \n",
       "ANGEL2  727.4426933 448.5768640 590.7819960 552.14449 ... 669.376352 714.863252\n",
       "SLC47A2  20.4249568  40.7797149  21.1641452  23.29724 ...  35.768202  37.311961\n",
       "TNMD      1.5711505   0.8865155   1.2093797   0.00000 ...   1.459927   1.695998\n",
       "MFSD11  251.3840841 192.3738725 256.9931917 195.69678 ... 294.905176 258.639729\n",
       "HSD17B2   0.7855753   2.6595466   0.6046899   0.00000 ...   0.000000   0.000000\n",
       "COX19   134.3333699 134.7503623 123.9614219 160.75093 ... 127.013615 106.847888\n",
       "        V41       V48        V50        V51        V54        V55        \n",
       "ANGEL2  739.04548 753.005268 745.821958 694.703002 645.644824 817.8152171\n",
       "SLC47A2  20.64771  22.973042  40.173080  29.886840  36.719137  19.9153745\n",
       "TNMD      1.42398   3.403414   1.746656   1.992456   3.059928   1.9272943\n",
       "MFSD11  275.54008 312.263202 300.424770 263.004196 248.874150 283.9546944\n",
       "HSD17B2   1.42398   2.552560   3.493311   0.664152   0.000000   0.6424314\n",
       "COX19   126.73420 105.505823 120.519239 131.502098 135.656811 149.6865244\n",
       "        V56        Length\n",
       "ANGEL2  745.140357 7276  \n",
       "SLC47A2  23.863582 6691  \n",
       "TNMD      1.193179 1610  \n",
       "MFSD11  322.754950 6587  \n",
       "HSD17B2   0.000000 9550  \n",
       "COX19   147.357621 5542  "
      ]
     },
     "metadata": {},
     "output_type": "display_data"
    },
    {
     "data": {
      "text/html": [
       "<style>\n",
       ".list-inline {list-style: none; margin:0; padding: 0}\n",
       ".list-inline>li {display: inline-block}\n",
       ".list-inline>li:not(:last-child)::after {content: \"\\00b7\"; padding: 0 .5ex}\n",
       "</style>\n",
       "<ol class=list-inline><li>45</li><li>60</li></ol>\n"
      ],
      "text/latex": [
       "\\begin{enumerate*}\n",
       "\\item 45\n",
       "\\item 60\n",
       "\\end{enumerate*}\n"
      ],
      "text/markdown": [
       "1. 45\n",
       "2. 60\n",
       "\n",
       "\n"
      ],
      "text/plain": [
       "[1] 45 60"
      ]
     },
     "metadata": {},
     "output_type": "display_data"
    },
    {
     "data": {
      "text/html": [
       "<table class=\"dataframe\">\n",
       "<caption>A matrix: 6 x 59 of type dbl</caption>\n",
       "<thead>\n",
       "\t<tr><th></th><th scope=col>V1</th><th scope=col>V2</th><th scope=col>V3</th><th scope=col>V4</th><th scope=col>V5</th><th scope=col>V6</th><th scope=col>V7</th><th scope=col>V8</th><th scope=col>V9</th><th scope=col>V11</th><th scope=col>...</th><th scope=col>V28</th><th scope=col>V31</th><th scope=col>V38</th><th scope=col>V41</th><th scope=col>V48</th><th scope=col>V50</th><th scope=col>V51</th><th scope=col>V54</th><th scope=col>V55</th><th scope=col>V56</th></tr>\n",
       "</thead>\n",
       "<tbody>\n",
       "\t<tr><th scope=row>ANGEL2</th><td>11.313799</td><td>11.381373</td><td>11.386389</td><td>11.279204</td><td>11.472802</td><td>11.377584</td><td>11.547784</td><td>10.047814</td><td>11.212222</td><td>11.329168</td><td>...</td><td>11.957018</td><td>11.731544</td><td>11.334778</td><td>11.678731</td><td>11.349663</td><td>11.600271</td><td>11.915479</td><td>10.957193</td><td>12.305200</td><td>11.959608</td></tr>\n",
       "\t<tr><th scope=row>SLC47A2</th><td> 5.997484</td><td> 6.974851</td><td> 6.692509</td><td> 5.510627</td><td> 5.690687</td><td> 6.329025</td><td> 6.529499</td><td> 6.721677</td><td> 6.545138</td><td> 6.894889</td><td>...</td><td> 8.049924</td><td> 7.633260</td><td> 7.204998</td><td> 6.652023</td><td> 6.451961</td><td> 7.514113</td><td> 7.505179</td><td> 6.952946</td><td> 7.076745</td><td> 7.125906</td></tr>\n",
       "\t<tr><th scope=row>TNMD</th><td> 4.762127</td><td> 0.000000</td><td> 0.000000</td><td> 3.784498</td><td> 4.771456</td><td> 0.000000</td><td> 4.917078</td><td> 3.384732</td><td> 4.519786</td><td> 0.000000</td><td>...</td><td> 5.015650</td><td> 5.108852</td><td> 4.842112</td><td> 4.884474</td><td> 5.762485</td><td> 5.081062</td><td> 5.674023</td><td> 5.444958</td><td> 5.778471</td><td> 4.897990</td></tr>\n",
       "\t<tr><th scope=row>MFSD11</th><td>10.077611</td><td>10.349612</td><td> 9.984553</td><td> 9.587639</td><td>10.017391</td><td>10.227856</td><td>10.159148</td><td> 8.971409</td><td>10.155507</td><td> 9.977137</td><td>...</td><td>11.093266</td><td>10.692949</td><td>10.012418</td><td>10.399483</td><td>10.223943</td><td>10.432547</td><td>10.658212</td><td> 9.726371</td><td>10.923068</td><td>10.896454</td></tr>\n",
       "\t<tr><th scope=row>HSD17B2</th><td> 0.000000</td><td> 0.000000</td><td> 0.000000</td><td> 1.054683</td><td> 0.000000</td><td> 0.000000</td><td> 1.791782</td><td> 2.530287</td><td> 1.510649</td><td> 0.000000</td><td>...</td><td> 0.000000</td><td> 0.000000</td><td> 0.000000</td><td> 2.538794</td><td> 2.951841</td><td> 3.594065</td><td> 1.930907</td><td> 0.000000</td><td> 2.010197</td><td> 0.000000</td></tr>\n",
       "\t<tr><th scope=row>COX19</th><td> 9.481220</td><td> 9.558993</td><td> 9.093433</td><td> 9.230258</td><td> 9.240464</td><td> 9.269620</td><td> 9.505012</td><td> 8.707578</td><td> 9.353824</td><td> 9.942594</td><td>...</td><td>10.426456</td><td> 9.727727</td><td> 8.987694</td><td> 9.529127</td><td> 8.909514</td><td> 9.365166</td><td> 9.908037</td><td> 9.101057</td><td>10.249009</td><td>10.015189</td></tr>\n",
       "</tbody>\n",
       "</table>\n"
      ],
      "text/latex": [
       "A matrix: 6 x 59 of type dbl\n",
       "\\begin{tabular}{r|lllllllllllllllllllll}\n",
       "  & V1 & V2 & V3 & V4 & V5 & V6 & V7 & V8 & V9 & V11 & ... & V28 & V31 & V38 & V41 & V48 & V50 & V51 & V54 & V55 & V56\\\\\n",
       "\\hline\n",
       "\tANGEL2 & 11.313799 & 11.381373 & 11.386389 & 11.279204 & 11.472802 & 11.377584 & 11.547784 & 10.047814 & 11.212222 & 11.329168 & ... & 11.957018 & 11.731544 & 11.334778 & 11.678731 & 11.349663 & 11.600271 & 11.915479 & 10.957193 & 12.305200 & 11.959608\\\\\n",
       "\tSLC47A2 &  5.997484 &  6.974851 &  6.692509 &  5.510627 &  5.690687 &  6.329025 &  6.529499 &  6.721677 &  6.545138 &  6.894889 & ... &  8.049924 &  7.633260 &  7.204998 &  6.652023 &  6.451961 &  7.514113 &  7.505179 &  6.952946 &  7.076745 &  7.125906\\\\\n",
       "\tTNMD &  4.762127 &  0.000000 &  0.000000 &  3.784498 &  4.771456 &  0.000000 &  4.917078 &  3.384732 &  4.519786 &  0.000000 & ... &  5.015650 &  5.108852 &  4.842112 &  4.884474 &  5.762485 &  5.081062 &  5.674023 &  5.444958 &  5.778471 &  4.897990\\\\\n",
       "\tMFSD11 & 10.077611 & 10.349612 &  9.984553 &  9.587639 & 10.017391 & 10.227856 & 10.159148 &  8.971409 & 10.155507 &  9.977137 & ... & 11.093266 & 10.692949 & 10.012418 & 10.399483 & 10.223943 & 10.432547 & 10.658212 &  9.726371 & 10.923068 & 10.896454\\\\\n",
       "\tHSD17B2 &  0.000000 &  0.000000 &  0.000000 &  1.054683 &  0.000000 &  0.000000 &  1.791782 &  2.530287 &  1.510649 &  0.000000 & ... &  0.000000 &  0.000000 &  0.000000 &  2.538794 &  2.951841 &  3.594065 &  1.930907 &  0.000000 &  2.010197 &  0.000000\\\\\n",
       "\tCOX19 &  9.481220 &  9.558993 &  9.093433 &  9.230258 &  9.240464 &  9.269620 &  9.505012 &  8.707578 &  9.353824 &  9.942594 & ... & 10.426456 &  9.727727 &  8.987694 &  9.529127 &  8.909514 &  9.365166 &  9.908037 &  9.101057 & 10.249009 & 10.015189\\\\\n",
       "\\end{tabular}\n"
      ],
      "text/markdown": [
       "\n",
       "A matrix: 6 x 59 of type dbl\n",
       "\n",
       "| <!--/--> | V1 | V2 | V3 | V4 | V5 | V6 | V7 | V8 | V9 | V11 | ... | V28 | V31 | V38 | V41 | V48 | V50 | V51 | V54 | V55 | V56 |\n",
       "|---|---|---|---|---|---|---|---|---|---|---|---|---|---|---|---|---|---|---|---|---|---|\n",
       "| ANGEL2 | 11.313799 | 11.381373 | 11.386389 | 11.279204 | 11.472802 | 11.377584 | 11.547784 | 10.047814 | 11.212222 | 11.329168 | ... | 11.957018 | 11.731544 | 11.334778 | 11.678731 | 11.349663 | 11.600271 | 11.915479 | 10.957193 | 12.305200 | 11.959608 |\n",
       "| SLC47A2 |  5.997484 |  6.974851 |  6.692509 |  5.510627 |  5.690687 |  6.329025 |  6.529499 |  6.721677 |  6.545138 |  6.894889 | ... |  8.049924 |  7.633260 |  7.204998 |  6.652023 |  6.451961 |  7.514113 |  7.505179 |  6.952946 |  7.076745 |  7.125906 |\n",
       "| TNMD |  4.762127 |  0.000000 |  0.000000 |  3.784498 |  4.771456 |  0.000000 |  4.917078 |  3.384732 |  4.519786 |  0.000000 | ... |  5.015650 |  5.108852 |  4.842112 |  4.884474 |  5.762485 |  5.081062 |  5.674023 |  5.444958 |  5.778471 |  4.897990 |\n",
       "| MFSD11 | 10.077611 | 10.349612 |  9.984553 |  9.587639 | 10.017391 | 10.227856 | 10.159148 |  8.971409 | 10.155507 |  9.977137 | ... | 11.093266 | 10.692949 | 10.012418 | 10.399483 | 10.223943 | 10.432547 | 10.658212 |  9.726371 | 10.923068 | 10.896454 |\n",
       "| HSD17B2 |  0.000000 |  0.000000 |  0.000000 |  1.054683 |  0.000000 |  0.000000 |  1.791782 |  2.530287 |  1.510649 |  0.000000 | ... |  0.000000 |  0.000000 |  0.000000 |  2.538794 |  2.951841 |  3.594065 |  1.930907 |  0.000000 |  2.010197 |  0.000000 |\n",
       "| COX19 |  9.481220 |  9.558993 |  9.093433 |  9.230258 |  9.240464 |  9.269620 |  9.505012 |  8.707578 |  9.353824 |  9.942594 | ... | 10.426456 |  9.727727 |  8.987694 |  9.529127 |  8.909514 |  9.365166 |  9.908037 |  9.101057 | 10.249009 | 10.015189 |\n",
       "\n"
      ],
      "text/plain": [
       "        V1        V2        V3        V4        V5        V6        V7       \n",
       "ANGEL2  11.313799 11.381373 11.386389 11.279204 11.472802 11.377584 11.547784\n",
       "SLC47A2  5.997484  6.974851  6.692509  5.510627  5.690687  6.329025  6.529499\n",
       "TNMD     4.762127  0.000000  0.000000  3.784498  4.771456  0.000000  4.917078\n",
       "MFSD11  10.077611 10.349612  9.984553  9.587639 10.017391 10.227856 10.159148\n",
       "HSD17B2  0.000000  0.000000  0.000000  1.054683  0.000000  0.000000  1.791782\n",
       "COX19    9.481220  9.558993  9.093433  9.230258  9.240464  9.269620  9.505012\n",
       "        V8        V9        V11       ... V28       V31       V38      \n",
       "ANGEL2  10.047814 11.212222 11.329168 ... 11.957018 11.731544 11.334778\n",
       "SLC47A2  6.721677  6.545138  6.894889 ...  8.049924  7.633260  7.204998\n",
       "TNMD     3.384732  4.519786  0.000000 ...  5.015650  5.108852  4.842112\n",
       "MFSD11   8.971409 10.155507  9.977137 ... 11.093266 10.692949 10.012418\n",
       "HSD17B2  2.530287  1.510649  0.000000 ...  0.000000  0.000000  0.000000\n",
       "COX19    8.707578  9.353824  9.942594 ... 10.426456  9.727727  8.987694\n",
       "        V41       V48       V50       V51       V54       V55       V56      \n",
       "ANGEL2  11.678731 11.349663 11.600271 11.915479 10.957193 12.305200 11.959608\n",
       "SLC47A2  6.652023  6.451961  7.514113  7.505179  6.952946  7.076745  7.125906\n",
       "TNMD     4.884474  5.762485  5.081062  5.674023  5.444958  5.778471  4.897990\n",
       "MFSD11  10.399483 10.223943 10.432547 10.658212  9.726371 10.923068 10.896454\n",
       "HSD17B2  2.538794  2.951841  3.594065  1.930907  0.000000  2.010197  0.000000\n",
       "COX19    9.529127  8.909514  9.365166  9.908037  9.101057 10.249009 10.015189"
      ]
     },
     "metadata": {},
     "output_type": "display_data"
    }
   ],
   "source": [
    "expr = exp[ene,] %>% tibble::rownames_to_column(.,'Gene')\n",
    "\n",
    "hg_len = 'All_hg19gene_len.txt'\n",
    "\n",
    "len = read.table(hg_len,header =T,sep = '\\t')\n",
    "library(tidyverse)\n",
    "library(dplyr)\n",
    "merge<-left_join(expr,len,by=\"Gene\")\n",
    "merge <- na.omit(merge)#删除错误值行​\n",
    "rownames(merge)<-merge[,1]\n",
    "\n",
    "\n",
    "merge<-merge[,-1]\n",
    "head(merge)#最后一列Length是基因长度​\n",
    "kb <- merge$Length/1000\n",
    "dim(merge)\n",
    "countdata <- merge[,1:dim(merge)[2]-1]\n",
    "rpk <- countdata /kb\n",
    "tpm <- log2(t(t(rpk)/colSums(rpk) * 1000000)+1)\n",
    "\n",
    "fpkm <- log2(t(t(rpk)/colSums(countdata) * 10^6)+1)\n",
    "head(fpkm)\n",
    "\n",
    "expr = fpkm %>% t() %>%  as.data.frame()"
   ]
  },
  {
   "cell_type": "code",
   "execution_count": 14,
   "id": "5f83f6c3-2b28-478f-b8e1-ff5352930a5e",
   "metadata": {},
   "outputs": [
    {
     "data": {
      "text/html": [
       "<table class=\"dataframe\">\n",
       "<caption>A data.frame: 2 x 45</caption>\n",
       "<thead>\n",
       "\t<tr><th></th><th scope=col>ANGEL2</th><th scope=col>SLC47A2</th><th scope=col>TNMD</th><th scope=col>MFSD11</th><th scope=col>HSD17B2</th><th scope=col>COX19</th><th scope=col>SNTG2</th><th scope=col>WDR72</th><th scope=col>TEF</th><th scope=col>KRBOX4</th><th scope=col>...</th><th scope=col>MMD2</th><th scope=col>HSD17B6</th><th scope=col>GLUL</th><th scope=col>PRF1</th><th scope=col>ITGB5</th><th scope=col>ACSBG1</th><th scope=col>PPP1R3G</th><th scope=col>SLCO1C1</th><th scope=col>SLC25A33</th><th scope=col>EZR</th></tr>\n",
       "\t<tr><th></th><th scope=col>&lt;dbl&gt;</th><th scope=col>&lt;dbl&gt;</th><th scope=col>&lt;dbl&gt;</th><th scope=col>&lt;dbl&gt;</th><th scope=col>&lt;dbl&gt;</th><th scope=col>&lt;dbl&gt;</th><th scope=col>&lt;dbl&gt;</th><th scope=col>&lt;dbl&gt;</th><th scope=col>&lt;dbl&gt;</th><th scope=col>&lt;dbl&gt;</th><th scope=col>...</th><th scope=col>&lt;dbl&gt;</th><th scope=col>&lt;dbl&gt;</th><th scope=col>&lt;dbl&gt;</th><th scope=col>&lt;dbl&gt;</th><th scope=col>&lt;dbl&gt;</th><th scope=col>&lt;dbl&gt;</th><th scope=col>&lt;dbl&gt;</th><th scope=col>&lt;dbl&gt;</th><th scope=col>&lt;dbl&gt;</th><th scope=col>&lt;dbl&gt;</th></tr>\n",
       "</thead>\n",
       "<tbody>\n",
       "\t<tr><th scope=row>V1</th><td>11.31380</td><td>5.997484</td><td>4.762127</td><td>10.07761</td><td>0</td><td>9.481220</td><td>3.380686</td><td>0</td><td>12.57796</td><td> 9.953742</td><td>...</td><td>11.02428</td><td>10.07038</td><td>15.64456</td><td>6.075159</td><td>10.21540</td><td>10.90177</td><td>7.430492</td><td>11.48960</td><td>11.21745</td><td>12.45869</td></tr>\n",
       "\t<tr><th scope=row>V2</th><td>11.38137</td><td>6.974851</td><td>0.000000</td><td>10.34961</td><td>0</td><td>9.558993</td><td>6.491342</td><td>0</td><td>12.85425</td><td>10.305160</td><td>...</td><td>11.45453</td><td>10.74483</td><td>15.57598</td><td>5.994629</td><td>10.18809</td><td>10.88782</td><td>7.779866</td><td>11.51256</td><td>11.12242</td><td>12.72249</td></tr>\n",
       "</tbody>\n",
       "</table>\n"
      ],
      "text/latex": [
       "A data.frame: 2 x 45\n",
       "\\begin{tabular}{r|lllllllllllllllllllll}\n",
       "  & ANGEL2 & SLC47A2 & TNMD & MFSD11 & HSD17B2 & COX19 & SNTG2 & WDR72 & TEF & KRBOX4 & ... & MMD2 & HSD17B6 & GLUL & PRF1 & ITGB5 & ACSBG1 & PPP1R3G & SLCO1C1 & SLC25A33 & EZR\\\\\n",
       "  & <dbl> & <dbl> & <dbl> & <dbl> & <dbl> & <dbl> & <dbl> & <dbl> & <dbl> & <dbl> & ... & <dbl> & <dbl> & <dbl> & <dbl> & <dbl> & <dbl> & <dbl> & <dbl> & <dbl> & <dbl>\\\\\n",
       "\\hline\n",
       "\tV1 & 11.31380 & 5.997484 & 4.762127 & 10.07761 & 0 & 9.481220 & 3.380686 & 0 & 12.57796 &  9.953742 & ... & 11.02428 & 10.07038 & 15.64456 & 6.075159 & 10.21540 & 10.90177 & 7.430492 & 11.48960 & 11.21745 & 12.45869\\\\\n",
       "\tV2 & 11.38137 & 6.974851 & 0.000000 & 10.34961 & 0 & 9.558993 & 6.491342 & 0 & 12.85425 & 10.305160 & ... & 11.45453 & 10.74483 & 15.57598 & 5.994629 & 10.18809 & 10.88782 & 7.779866 & 11.51256 & 11.12242 & 12.72249\\\\\n",
       "\\end{tabular}\n"
      ],
      "text/markdown": [
       "\n",
       "A data.frame: 2 x 45\n",
       "\n",
       "| <!--/--> | ANGEL2 &lt;dbl&gt; | SLC47A2 &lt;dbl&gt; | TNMD &lt;dbl&gt; | MFSD11 &lt;dbl&gt; | HSD17B2 &lt;dbl&gt; | COX19 &lt;dbl&gt; | SNTG2 &lt;dbl&gt; | WDR72 &lt;dbl&gt; | TEF &lt;dbl&gt; | KRBOX4 &lt;dbl&gt; | ... ... | MMD2 &lt;dbl&gt; | HSD17B6 &lt;dbl&gt; | GLUL &lt;dbl&gt; | PRF1 &lt;dbl&gt; | ITGB5 &lt;dbl&gt; | ACSBG1 &lt;dbl&gt; | PPP1R3G &lt;dbl&gt; | SLCO1C1 &lt;dbl&gt; | SLC25A33 &lt;dbl&gt; | EZR &lt;dbl&gt; |\n",
       "|---|---|---|---|---|---|---|---|---|---|---|---|---|---|---|---|---|---|---|---|---|---|\n",
       "| V1 | 11.31380 | 5.997484 | 4.762127 | 10.07761 | 0 | 9.481220 | 3.380686 | 0 | 12.57796 |  9.953742 | ... | 11.02428 | 10.07038 | 15.64456 | 6.075159 | 10.21540 | 10.90177 | 7.430492 | 11.48960 | 11.21745 | 12.45869 |\n",
       "| V2 | 11.38137 | 6.974851 | 0.000000 | 10.34961 | 0 | 9.558993 | 6.491342 | 0 | 12.85425 | 10.305160 | ... | 11.45453 | 10.74483 | 15.57598 | 5.994629 | 10.18809 | 10.88782 | 7.779866 | 11.51256 | 11.12242 | 12.72249 |\n",
       "\n"
      ],
      "text/plain": [
       "   ANGEL2   SLC47A2  TNMD     MFSD11   HSD17B2 COX19    SNTG2    WDR72 TEF     \n",
       "V1 11.31380 5.997484 4.762127 10.07761 0       9.481220 3.380686 0     12.57796\n",
       "V2 11.38137 6.974851 0.000000 10.34961 0       9.558993 6.491342 0     12.85425\n",
       "   KRBOX4    ... MMD2     HSD17B6  GLUL     PRF1     ITGB5    ACSBG1   PPP1R3G \n",
       "V1  9.953742 ... 11.02428 10.07038 15.64456 6.075159 10.21540 10.90177 7.430492\n",
       "V2 10.305160 ... 11.45453 10.74483 15.57598 5.994629 10.18809 10.88782 7.779866\n",
       "   SLCO1C1  SLC25A33 EZR     \n",
       "V1 11.48960 11.21745 12.45869\n",
       "V2 11.51256 11.12242 12.72249"
      ]
     },
     "metadata": {},
     "output_type": "display_data"
    }
   ],
   "source": [
    "head(expr,2)"
   ]
  },
  {
   "cell_type": "code",
   "execution_count": 15,
   "id": "b02efadc-2a1c-4648-8368-f396b0465643",
   "metadata": {},
   "outputs": [
    {
     "data": {
      "text/html": [
       "<style>\n",
       ".list-inline {list-style: none; margin:0; padding: 0}\n",
       ".list-inline>li {display: inline-block}\n",
       ".list-inline>li:not(:last-child)::after {content: \"\\00b7\"; padding: 0 .5ex}\n",
       "</style>\n",
       "<ol class=list-inline><li>'control'</li><li>'control'</li><li>'control'</li><li>'control'</li><li>'control'</li><li>'control'</li><li>'control'</li><li>'control'</li><li>'control'</li><li>'control'</li><li>'control'</li><li>'control'</li><li>'control'</li><li>'control'</li><li>'control'</li><li>'control'</li><li>'control'</li><li>'control'</li><li>'control'</li><li>'control'</li><li>'control'</li><li>'control'</li><li>'control'</li><li>'control'</li><li>'control'</li><li>'control'</li><li>'control'</li><li>'control'</li><li>'control'</li><li>'MDD'</li><li>'MDD'</li><li>'MDD'</li><li>'MDD'</li><li>'MDD'</li><li>'MDD'</li><li>'MDD'</li><li>'MDD'</li><li>'MDD'</li><li>'MDD'</li><li>'MDD'</li><li>'MDD'</li><li>'MDD'</li><li>'MDD'</li><li>'MDD'</li><li>'MDD'</li><li>'MDD'</li><li>'MDD'</li><li>'MDD'</li><li>'MDD'</li><li>'MDD'</li><li>'MDD'</li><li>'MDD'</li><li>'MDD'</li><li>'MDD'</li><li>'MDD'</li><li>'MDD'</li><li>'MDD'</li><li>'MDD'</li><li>'MDD'</li></ol>\n"
      ],
      "text/latex": [
       "\\begin{enumerate*}\n",
       "\\item 'control'\n",
       "\\item 'control'\n",
       "\\item 'control'\n",
       "\\item 'control'\n",
       "\\item 'control'\n",
       "\\item 'control'\n",
       "\\item 'control'\n",
       "\\item 'control'\n",
       "\\item 'control'\n",
       "\\item 'control'\n",
       "\\item 'control'\n",
       "\\item 'control'\n",
       "\\item 'control'\n",
       "\\item 'control'\n",
       "\\item 'control'\n",
       "\\item 'control'\n",
       "\\item 'control'\n",
       "\\item 'control'\n",
       "\\item 'control'\n",
       "\\item 'control'\n",
       "\\item 'control'\n",
       "\\item 'control'\n",
       "\\item 'control'\n",
       "\\item 'control'\n",
       "\\item 'control'\n",
       "\\item 'control'\n",
       "\\item 'control'\n",
       "\\item 'control'\n",
       "\\item 'control'\n",
       "\\item 'MDD'\n",
       "\\item 'MDD'\n",
       "\\item 'MDD'\n",
       "\\item 'MDD'\n",
       "\\item 'MDD'\n",
       "\\item 'MDD'\n",
       "\\item 'MDD'\n",
       "\\item 'MDD'\n",
       "\\item 'MDD'\n",
       "\\item 'MDD'\n",
       "\\item 'MDD'\n",
       "\\item 'MDD'\n",
       "\\item 'MDD'\n",
       "\\item 'MDD'\n",
       "\\item 'MDD'\n",
       "\\item 'MDD'\n",
       "\\item 'MDD'\n",
       "\\item 'MDD'\n",
       "\\item 'MDD'\n",
       "\\item 'MDD'\n",
       "\\item 'MDD'\n",
       "\\item 'MDD'\n",
       "\\item 'MDD'\n",
       "\\item 'MDD'\n",
       "\\item 'MDD'\n",
       "\\item 'MDD'\n",
       "\\item 'MDD'\n",
       "\\item 'MDD'\n",
       "\\item 'MDD'\n",
       "\\item 'MDD'\n",
       "\\end{enumerate*}\n"
      ],
      "text/markdown": [
       "1. 'control'\n",
       "2. 'control'\n",
       "3. 'control'\n",
       "4. 'control'\n",
       "5. 'control'\n",
       "6. 'control'\n",
       "7. 'control'\n",
       "8. 'control'\n",
       "9. 'control'\n",
       "10. 'control'\n",
       "11. 'control'\n",
       "12. 'control'\n",
       "13. 'control'\n",
       "14. 'control'\n",
       "15. 'control'\n",
       "16. 'control'\n",
       "17. 'control'\n",
       "18. 'control'\n",
       "19. 'control'\n",
       "20. 'control'\n",
       "21. 'control'\n",
       "22. 'control'\n",
       "23. 'control'\n",
       "24. 'control'\n",
       "25. 'control'\n",
       "26. 'control'\n",
       "27. 'control'\n",
       "28. 'control'\n",
       "29. 'control'\n",
       "30. 'MDD'\n",
       "31. 'MDD'\n",
       "32. 'MDD'\n",
       "33. 'MDD'\n",
       "34. 'MDD'\n",
       "35. 'MDD'\n",
       "36. 'MDD'\n",
       "37. 'MDD'\n",
       "38. 'MDD'\n",
       "39. 'MDD'\n",
       "40. 'MDD'\n",
       "41. 'MDD'\n",
       "42. 'MDD'\n",
       "43. 'MDD'\n",
       "44. 'MDD'\n",
       "45. 'MDD'\n",
       "46. 'MDD'\n",
       "47. 'MDD'\n",
       "48. 'MDD'\n",
       "49. 'MDD'\n",
       "50. 'MDD'\n",
       "51. 'MDD'\n",
       "52. 'MDD'\n",
       "53. 'MDD'\n",
       "54. 'MDD'\n",
       "55. 'MDD'\n",
       "56. 'MDD'\n",
       "57. 'MDD'\n",
       "58. 'MDD'\n",
       "59. 'MDD'\n",
       "\n",
       "\n"
      ],
      "text/plain": [
       " [1] \"control\" \"control\" \"control\" \"control\" \"control\" \"control\" \"control\"\n",
       " [8] \"control\" \"control\" \"control\" \"control\" \"control\" \"control\" \"control\"\n",
       "[15] \"control\" \"control\" \"control\" \"control\" \"control\" \"control\" \"control\"\n",
       "[22] \"control\" \"control\" \"control\" \"control\" \"control\" \"control\" \"control\"\n",
       "[29] \"control\" \"MDD\"     \"MDD\"     \"MDD\"     \"MDD\"     \"MDD\"     \"MDD\"    \n",
       "[36] \"MDD\"     \"MDD\"     \"MDD\"     \"MDD\"     \"MDD\"     \"MDD\"     \"MDD\"    \n",
       "[43] \"MDD\"     \"MDD\"     \"MDD\"     \"MDD\"     \"MDD\"     \"MDD\"     \"MDD\"    \n",
       "[50] \"MDD\"     \"MDD\"     \"MDD\"     \"MDD\"     \"MDD\"     \"MDD\"     \"MDD\"    \n",
       "[57] \"MDD\"     \"MDD\"     \"MDD\"    "
      ]
     },
     "metadata": {},
     "output_type": "display_data"
    }
   ],
   "source": [
    "group"
   ]
  },
  {
   "cell_type": "code",
   "execution_count": 16,
   "id": "2eee39b6-631b-4401-b95b-2af80621cebb",
   "metadata": {},
   "outputs": [],
   "source": [
    "type = ifelse(group == 'MDD',1,0)"
   ]
  },
  {
   "cell_type": "code",
   "execution_count": 17,
   "id": "795e5c30-f515-4e7d-ac50-c9ca29d76412",
   "metadata": {},
   "outputs": [],
   "source": [
    "y = type"
   ]
  },
  {
   "cell_type": "code",
   "execution_count": 18,
   "id": "eaa19a78-9513-4174-8505-83793a58cd4f",
   "metadata": {},
   "outputs": [],
   "source": [
    "colnames(expr) = gsub('-','.',colnames(expr))"
   ]
  },
  {
   "cell_type": "code",
   "execution_count": 19,
   "id": "001f3957-9628-4e71-8f3c-da98bbc95760",
   "metadata": {},
   "outputs": [],
   "source": [
    "#expr <- expr[, !grepl(\"^\\\\d+\", names(expr))]"
   ]
  },
  {
   "cell_type": "code",
   "execution_count": 20,
   "id": "a6b9699b-d802-4efa-9213-675cea538c7f",
   "metadata": {},
   "outputs": [],
   "source": [
    "library(dplyr)"
   ]
  },
  {
   "cell_type": "code",
   "execution_count": 21,
   "id": "ab65721e-6b86-41ef-a50f-a498981a0e4c",
   "metadata": {},
   "outputs": [],
   "source": [
    "x = as.matrix(expr)\n",
    "y = y"
   ]
  },
  {
   "cell_type": "code",
   "execution_count": 22,
   "id": "169ffec6-1642-4189-bf9d-15da56264520",
   "metadata": {},
   "outputs": [
    {
     "name": "stderr",
     "output_type": "stream",
     "text": [
      "Warning message:\n",
      "\"package 'randomForest' was built under R version 4.2.3\"\n",
      "randomForest 4.7-1.1\n",
      "\n",
      "Type rfNews() to see new features/changes/bug fixes.\n",
      "\n",
      "\n",
      "Attaching package: 'randomForest'\n",
      "\n",
      "\n",
      "The following object is masked from 'package:ggplot2':\n",
      "\n",
      "    margin\n",
      "\n",
      "\n",
      "The following object is masked from 'package:dplyr':\n",
      "\n",
      "    combine\n",
      "\n",
      "\n"
     ]
    }
   ],
   "source": [
    "library(randomForest)"
   ]
  },
  {
   "cell_type": "code",
   "execution_count": null,
   "id": "52d76d0a-8f60-473e-a3e5-8c684414853a",
   "metadata": {},
   "outputs": [],
   "source": [
    "set.seed(100)\n",
    "\n",
    "rf = randomForest(as.factor(y)~.,data = x,ntree =2000,important=TRUE,proximity=TRUE)\n",
    "\n",
    "plot(rf)\n",
    "\n",
    "pdf('forest.pdf',height = 6,width = 6)\n",
    "plot(rf)\n",
    "dev.off()"
   ]
  },
  {
   "cell_type": "code",
   "execution_count": 23,
   "id": "24846125-9d6c-40cc-bec2-4589f3efc1c7",
   "metadata": {},
   "outputs": [
    {
     "data": {
      "text/html": [
       "<strong>png:</strong> 2"
      ],
      "text/latex": [
       "\\textbf{png:} 2"
      ],
      "text/markdown": [
       "**png:** 2"
      ],
      "text/plain": [
       "png \n",
       "  2 "
      ]
     },
     "metadata": {},
     "output_type": "display_data"
    },
    {
     "data": {
      "text/html": [
       "<style>\n",
       ".dl-inline {width: auto; margin:0; padding: 0}\n",
       ".dl-inline>dt, .dl-inline>dd {float: none; width: auto; display: inline-block}\n",
       ".dl-inline>dt::after {content: \":\\0020\"; padding-right: .5ex}\n",
       ".dl-inline>dt:not(:first-of-type) {padding-left: .5ex}\n",
       "</style><dl class=dl-inline><dt>TNMD</dt><dd>2.02198880496491</dd><dt>ANGEL2</dt><dd>1.67800944553869</dd><dt>SLC13A5</dt><dd>1.36555527206176</dd><dt>RNF130</dt><dd>1.29029938385888</dd><dt>MFSD11</dt><dd>1.28485345613164</dd><dt>TEF</dt><dd>1.27185142121799</dd><dt>SLC47A2</dt><dd>1.1444757650919</dd><dt>CNOT11</dt><dd>1.04094273522183</dd><dt>PLA2G5</dt><dd>0.926072137502341</dd><dt>TXNDC2</dt><dd>0.820408065510121</dd><dt>HSD17B2</dt><dd>0.64188966973815</dd><dt>RLBP1</dt><dd>0.62060854094688</dd><dt>PYGM</dt><dd>0.611953791048668</dd><dt>RRAD</dt><dd>0.584083213089844</dd><dt>ITGB5</dt><dd>0.581415247034596</dd><dt>PLA2G3</dt><dd>0.573236038353473</dd><dt>PRF1</dt><dd>0.567035220861705</dd><dt>MMD2</dt><dd>0.561495546085178</dd><dt>SLCO1C1</dt><dd>0.517310086182421</dd><dt>SNTG2</dt><dd>0.514113907448625</dd><dt>EPHX2</dt><dd>0.513308892580578</dd><dt>PPP1R3G</dt><dd>0.510147495860241</dd><dt>ITM2C</dt><dd>0.502616105095779</dd><dt>EDNRB</dt><dd>0.492543168588222</dd><dt>FAT1</dt><dd>0.492064563159228</dd><dt>TRIB1</dt><dd>0.479744809508778</dd><dt>HSD17B6</dt><dd>0.4728063412584</dd><dt>KRBOX4</dt><dd>0.444320273955154</dd><dt>OLFM2</dt><dd>0.441289206143105</dd><dt>KCNJ16</dt><dd>0.440431180998465</dd><dt>WDR72</dt><dd>0.424112165827646</dd><dt>MRO</dt><dd>0.421154193203307</dd><dt>S1PR1</dt><dd>0.419411385115128</dd><dt>SLC25A33</dt><dd>0.413839020648292</dd><dt>ARSF</dt><dd>0.404030667297951</dd><dt>ACSBG1</dt><dd>0.402733968235039</dd><dt>ACKR3</dt><dd>0.4021695057025</dd><dt>PDLIM3</dt><dd>0.398386607549509</dd><dt>PLEKHO2</dt><dd>0.386916392939062</dd><dt>COX19</dt><dd>0.355916052740246</dd><dt>EZR</dt><dd>0.332566145530928</dd><dt>NT5E</dt><dd>0.330245548533387</dd><dt>GLUL</dt><dd>0.327738302233502</dd><dt>ALDH1A1</dt><dd>0.295295791691259</dd><dt>PPP1R3C</dt><dd>0.287875344877011</dd></dl>\n"
      ],
      "text/latex": [
       "\\begin{description*}\n",
       "\\item[TNMD] 2.02198880496491\n",
       "\\item[ANGEL2] 1.67800944553869\n",
       "\\item[SLC13A5] 1.36555527206176\n",
       "\\item[RNF130] 1.29029938385888\n",
       "\\item[MFSD11] 1.28485345613164\n",
       "\\item[TEF] 1.27185142121799\n",
       "\\item[SLC47A2] 1.1444757650919\n",
       "\\item[CNOT11] 1.04094273522183\n",
       "\\item[PLA2G5] 0.926072137502341\n",
       "\\item[TXNDC2] 0.820408065510121\n",
       "\\item[HSD17B2] 0.64188966973815\n",
       "\\item[RLBP1] 0.62060854094688\n",
       "\\item[PYGM] 0.611953791048668\n",
       "\\item[RRAD] 0.584083213089844\n",
       "\\item[ITGB5] 0.581415247034596\n",
       "\\item[PLA2G3] 0.573236038353473\n",
       "\\item[PRF1] 0.567035220861705\n",
       "\\item[MMD2] 0.561495546085178\n",
       "\\item[SLCO1C1] 0.517310086182421\n",
       "\\item[SNTG2] 0.514113907448625\n",
       "\\item[EPHX2] 0.513308892580578\n",
       "\\item[PPP1R3G] 0.510147495860241\n",
       "\\item[ITM2C] 0.502616105095779\n",
       "\\item[EDNRB] 0.492543168588222\n",
       "\\item[FAT1] 0.492064563159228\n",
       "\\item[TRIB1] 0.479744809508778\n",
       "\\item[HSD17B6] 0.4728063412584\n",
       "\\item[KRBOX4] 0.444320273955154\n",
       "\\item[OLFM2] 0.441289206143105\n",
       "\\item[KCNJ16] 0.440431180998465\n",
       "\\item[WDR72] 0.424112165827646\n",
       "\\item[MRO] 0.421154193203307\n",
       "\\item[S1PR1] 0.419411385115128\n",
       "\\item[SLC25A33] 0.413839020648292\n",
       "\\item[ARSF] 0.404030667297951\n",
       "\\item[ACSBG1] 0.402733968235039\n",
       "\\item[ACKR3] 0.4021695057025\n",
       "\\item[PDLIM3] 0.398386607549509\n",
       "\\item[PLEKHO2] 0.386916392939062\n",
       "\\item[COX19] 0.355916052740246\n",
       "\\item[EZR] 0.332566145530928\n",
       "\\item[NT5E] 0.330245548533387\n",
       "\\item[GLUL] 0.327738302233502\n",
       "\\item[ALDH1A1] 0.295295791691259\n",
       "\\item[PPP1R3C] 0.287875344877011\n",
       "\\end{description*}\n"
      ],
      "text/markdown": [
       "TNMD\n",
       ":   2.02198880496491ANGEL2\n",
       ":   1.67800944553869SLC13A5\n",
       ":   1.36555527206176RNF130\n",
       ":   1.29029938385888MFSD11\n",
       ":   1.28485345613164TEF\n",
       ":   1.27185142121799SLC47A2\n",
       ":   1.1444757650919CNOT11\n",
       ":   1.04094273522183PLA2G5\n",
       ":   0.926072137502341TXNDC2\n",
       ":   0.820408065510121HSD17B2\n",
       ":   0.64188966973815RLBP1\n",
       ":   0.62060854094688PYGM\n",
       ":   0.611953791048668RRAD\n",
       ":   0.584083213089844ITGB5\n",
       ":   0.581415247034596PLA2G3\n",
       ":   0.573236038353473PRF1\n",
       ":   0.567035220861705MMD2\n",
       ":   0.561495546085178SLCO1C1\n",
       ":   0.517310086182421SNTG2\n",
       ":   0.514113907448625EPHX2\n",
       ":   0.513308892580578PPP1R3G\n",
       ":   0.510147495860241ITM2C\n",
       ":   0.502616105095779EDNRB\n",
       ":   0.492543168588222FAT1\n",
       ":   0.492064563159228TRIB1\n",
       ":   0.479744809508778HSD17B6\n",
       ":   0.4728063412584KRBOX4\n",
       ":   0.444320273955154OLFM2\n",
       ":   0.441289206143105KCNJ16\n",
       ":   0.440431180998465WDR72\n",
       ":   0.424112165827646MRO\n",
       ":   0.421154193203307S1PR1\n",
       ":   0.419411385115128SLC25A33\n",
       ":   0.413839020648292ARSF\n",
       ":   0.404030667297951ACSBG1\n",
       ":   0.402733968235039ACKR3\n",
       ":   0.4021695057025PDLIM3\n",
       ":   0.398386607549509PLEKHO2\n",
       ":   0.386916392939062COX19\n",
       ":   0.355916052740246EZR\n",
       ":   0.332566145530928NT5E\n",
       ":   0.330245548533387GLUL\n",
       ":   0.327738302233502ALDH1A1\n",
       ":   0.295295791691259PPP1R3C\n",
       ":   0.287875344877011\n",
       "\n"
      ],
      "text/plain": [
       "     TNMD    ANGEL2   SLC13A5    RNF130    MFSD11       TEF   SLC47A2    CNOT11 \n",
       "2.0219888 1.6780094 1.3655553 1.2902994 1.2848535 1.2718514 1.1444758 1.0409427 \n",
       "   PLA2G5    TXNDC2   HSD17B2     RLBP1      PYGM      RRAD     ITGB5    PLA2G3 \n",
       "0.9260721 0.8204081 0.6418897 0.6206085 0.6119538 0.5840832 0.5814152 0.5732360 \n",
       "     PRF1      MMD2   SLCO1C1     SNTG2     EPHX2   PPP1R3G     ITM2C     EDNRB \n",
       "0.5670352 0.5614955 0.5173101 0.5141139 0.5133089 0.5101475 0.5026161 0.4925432 \n",
       "     FAT1     TRIB1   HSD17B6    KRBOX4     OLFM2    KCNJ16     WDR72       MRO \n",
       "0.4920646 0.4797448 0.4728063 0.4443203 0.4412892 0.4404312 0.4241122 0.4211542 \n",
       "    S1PR1  SLC25A33      ARSF    ACSBG1     ACKR3    PDLIM3   PLEKHO2     COX19 \n",
       "0.4194114 0.4138390 0.4040307 0.4027340 0.4021695 0.3983866 0.3869164 0.3559161 \n",
       "      EZR      NT5E      GLUL   ALDH1A1   PPP1R3C \n",
       "0.3325661 0.3302455 0.3277383 0.2952958 0.2878753 "
      ]
     },
     "metadata": {},
     "output_type": "display_data"
    },
    {
     "data": {
      "image/png": "[encoded data removed]",
      "text/plain": [
       "Plot with title \"\""
      ]
     },
     "metadata": {
      "image/png": {
       "height": 420,
       "width": 240
      }
     },
     "output_type": "display_data"
    }
   ],
   "source": [
    "\n",
    "\n",
    "trees = which.min(rf$err.rate[,1])\n",
    "\n",
    "rf = randomForest(as.factor(y)~.,data = x,ntree =trees,important=TRUE,proximity=TRUE)\n",
    "\n",
    "importance = importance(rf)\n",
    "\n",
    "pdf('forest2.pdf',height = 6,width = 4)\n",
    "varImpPlot(rf,main = '')\n",
    "dev.off()\n",
    "\n",
    "# RPE65 + MC3R+NFIL3 + PRF1 + IL6\n",
    "\n",
    "options(repr.plot.width = 4)\n",
    "\n",
    "varImpPlot(rf,main = '')\n",
    "\n",
    "rfGenes=importance[order(importance[, \"MeanDecreaseGini\"], decreasing  = TRUE),] #重要性评分大于2的基因\n",
    "\n",
    "rfGenes"
   ]
  },
  {
   "cell_type": "code",
   "execution_count": 24,
   "id": "118e60c2-163b-46df-858f-f87c8206303c",
   "metadata": {},
   "outputs": [],
   "source": [
    "# rfGenes=names(rfGenes[rfGenes>30]) \n",
    "# write.table(rfGenes,file=\"rfGenes.txt\",sep=\"\\t\",quote=F,col.names=F,row.names=F) #输出表达量\n",
    "\n",
    "# # expr2 = exp4\n",
    "\n",
    "# # sigExp=expr2[rfGenes,]\n",
    "# # write.table(data.frame(ID=rownames(sigExp),sigExp),file=\"rfGeneExp.txt\",sep=\"\\t\",quote=F,col.names=T,row.names=F) \n",
    "\n",
    "# # rfGenes"
   ]
  },
  {
   "cell_type": "markdown",
   "id": "af18f8e6-2aaf-42ec-a432-c763909b210d",
   "metadata": {},
   "source": [
    "### svm"
   ]
  },
  {
   "cell_type": "code",
   "execution_count": 25,
   "id": "f2a3a6c3-6bb3-4d0d-8c62-0516db9f4130",
   "metadata": {},
   "outputs": [],
   "source": [
    "# library(tidyverse)\n",
    "# library(glmnet)\n",
    "# library(VennDiagram)\n",
    "# library(e1071)\n",
    "# library(caret)\n",
    "# library(randomForest)\n",
    "\n",
    "# x = as.matrix(expr)\n",
    "\n",
    "# y=as.numeric(as.factor(Type))\n",
    "\n",
    "# library(future)\n",
    "# plan(\"multisession\",workers=30)\n",
    "\n",
    "# set.seed(1)\n",
    "# rfeControl = rfeControl(functions = caretFuncs,\n",
    "#                         method = \"cv\", # 默认自助法重采样 boot\n",
    "#                         saveDetails = T, # 保存预测值和变量重要性\n",
    "#                         number = 5, # 重抽样次数\n",
    "#                         allowParallel = T # 允许多线程，用这个之前你要先准备好多线程！\n",
    "#                         )\n",
    "\n",
    "# Profile=rfe(x=x,y=as.factor(y),sizes =c(1:32),\n",
    "#     rfeControl =  rfeControl,\n",
    "#     methods=\"svmRadial\")\n",
    "\n",
    "# Profile\n",
    "\n",
    "# pdf(file=\"SVM-RFE.pdf\", width=6, height=5.5)\n",
    "# par(las=1)\n",
    "# x= Profile$results$Variables \n",
    "# y =Profile$results$RMSE\n",
    "# plot(x, y, xlab=\"Variables\", ylab=\"RMSE (Cross-Validation)\", col=\"darkgreen\") \n",
    "# lines(x, y, col=\"darkgreen\")\n",
    "# wmin=which.min(y) \n",
    "# wmin.x=x[wmin] \n",
    "# wmin.y=y[wmin]\n",
    "# points(wmin.x, wmin.y, col=\"blue\", pch=16)\n",
    "# text(wmin.x, wmin.y, paste0('N=', wmin.x), pos=2, col=2)\n",
    "# dev.off()\n",
    "\n",
    "# par(las=1)\n",
    "# x= Profile$results$Variables \n",
    "# y =Profile$results$RMSE\n",
    "# plot(x, y, xlab=\"Variables\", ylab=\"RMSE (Cross-Validation)\", col=\"darkgreen\") \n",
    "# lines(x, y, col=\"darkgreen\")\n",
    "# wmin=which.min(y) \n",
    "# wmin.x=x[wmin] \n",
    "# wmin.y=y[wmin]\n",
    "# points(wmin.x, wmin.y, col=\"blue\", pch=16)\n",
    "# text(wmin.x, wmin.y, paste0('N=', wmin.x), pos=2, col=2)\n",
    "\n",
    "# #输出\n",
    "# featureGenes = Profile$optVariables\n",
    "# write.table(file=\"SVM-RFE.gene.txt\",featureGenes,sep=\"\\t\",quote=F,row.names=F,col.names=F) #表达矩阵 \n",
    "\n",
    "# featureGenes"
   ]
  },
  {
   "cell_type": "markdown",
   "id": "80a4188a-f4ee-4fc6-8479-542b5b97f5a7",
   "metadata": {},
   "source": [
    "### Boruta"
   ]
  },
  {
   "cell_type": "code",
   "execution_count": 26,
   "id": "56b1f3fc-13fd-47bb-b427-e9a8d45270ab",
   "metadata": {
    "scrolled": true
   },
   "outputs": [
    {
     "data": {
      "text/html": [
       "<style>\n",
       ".list-inline {list-style: none; margin:0; padding: 0}\n",
       ".list-inline>li {display: inline-block}\n",
       ".list-inline>li:not(:last-child)::after {content: \"\\00b7\"; padding: 0 .5ex}\n",
       "</style>\n",
       "<ol class=list-inline><li>0</li><li>0</li><li>0</li><li>0</li><li>0</li><li>0</li><li>0</li><li>0</li><li>0</li><li>0</li><li>0</li><li>0</li><li>0</li><li>0</li><li>0</li><li>0</li><li>0</li><li>0</li><li>0</li><li>0</li><li>0</li><li>0</li><li>0</li><li>0</li><li>0</li><li>0</li><li>0</li><li>0</li><li>0</li><li>1</li><li>1</li><li>1</li><li>1</li><li>1</li><li>1</li><li>1</li><li>1</li><li>1</li><li>1</li><li>1</li><li>1</li><li>1</li><li>1</li><li>1</li><li>1</li><li>1</li><li>1</li><li>1</li><li>1</li><li>1</li><li>1</li><li>1</li><li>1</li><li>1</li><li>1</li><li>1</li><li>1</li><li>1</li><li>1</li></ol>\n"
      ],
      "text/latex": [
       "\\begin{enumerate*}\n",
       "\\item 0\n",
       "\\item 0\n",
       "\\item 0\n",
       "\\item 0\n",
       "\\item 0\n",
       "\\item 0\n",
       "\\item 0\n",
       "\\item 0\n",
       "\\item 0\n",
       "\\item 0\n",
       "\\item 0\n",
       "\\item 0\n",
       "\\item 0\n",
       "\\item 0\n",
       "\\item 0\n",
       "\\item 0\n",
       "\\item 0\n",
       "\\item 0\n",
       "\\item 0\n",
       "\\item 0\n",
       "\\item 0\n",
       "\\item 0\n",
       "\\item 0\n",
       "\\item 0\n",
       "\\item 0\n",
       "\\item 0\n",
       "\\item 0\n",
       "\\item 0\n",
       "\\item 0\n",
       "\\item 1\n",
       "\\item 1\n",
       "\\item 1\n",
       "\\item 1\n",
       "\\item 1\n",
       "\\item 1\n",
       "\\item 1\n",
       "\\item 1\n",
       "\\item 1\n",
       "\\item 1\n",
       "\\item 1\n",
       "\\item 1\n",
       "\\item 1\n",
       "\\item 1\n",
       "\\item 1\n",
       "\\item 1\n",
       "\\item 1\n",
       "\\item 1\n",
       "\\item 1\n",
       "\\item 1\n",
       "\\item 1\n",
       "\\item 1\n",
       "\\item 1\n",
       "\\item 1\n",
       "\\item 1\n",
       "\\item 1\n",
       "\\item 1\n",
       "\\item 1\n",
       "\\item 1\n",
       "\\item 1\n",
       "\\end{enumerate*}\n"
      ],
      "text/markdown": [
       "1. 0\n",
       "2. 0\n",
       "3. 0\n",
       "4. 0\n",
       "5. 0\n",
       "6. 0\n",
       "7. 0\n",
       "8. 0\n",
       "9. 0\n",
       "10. 0\n",
       "11. 0\n",
       "12. 0\n",
       "13. 0\n",
       "14. 0\n",
       "15. 0\n",
       "16. 0\n",
       "17. 0\n",
       "18. 0\n",
       "19. 0\n",
       "20. 0\n",
       "21. 0\n",
       "22. 0\n",
       "23. 0\n",
       "24. 0\n",
       "25. 0\n",
       "26. 0\n",
       "27. 0\n",
       "28. 0\n",
       "29. 0\n",
       "30. 1\n",
       "31. 1\n",
       "32. 1\n",
       "33. 1\n",
       "34. 1\n",
       "35. 1\n",
       "36. 1\n",
       "37. 1\n",
       "38. 1\n",
       "39. 1\n",
       "40. 1\n",
       "41. 1\n",
       "42. 1\n",
       "43. 1\n",
       "44. 1\n",
       "45. 1\n",
       "46. 1\n",
       "47. 1\n",
       "48. 1\n",
       "49. 1\n",
       "50. 1\n",
       "51. 1\n",
       "52. 1\n",
       "53. 1\n",
       "54. 1\n",
       "55. 1\n",
       "56. 1\n",
       "57. 1\n",
       "58. 1\n",
       "59. 1\n",
       "\n",
       "\n"
      ],
      "text/plain": [
       " [1] 0 0 0 0 0 0 0 0 0 0 0 0 0 0 0 0 0 0 0 0 0 0 0 0 0 0 0 0 0 1 1 1 1 1 1 1 1 1\n",
       "[39] 1 1 1 1 1 1 1 1 1 1 1 1 1 1 1 1 1 1 1 1 1"
      ]
     },
     "metadata": {},
     "output_type": "display_data"
    },
    {
     "data": {
      "text/plain": [
       "Boruta performed 160 iterations in 10.36765 secs.\n",
       " 11 attributes confirmed important: ANGEL2, CNOT11, HSD17B2, MFSD11,\n",
       "PLA2G5 and 6 more;\n",
       " 34 attributes confirmed unimportant: ACKR3, ACSBG1, ALDH1A1, ARSF,\n",
       "COX19 and 29 more;"
      ]
     },
     "metadata": {},
     "output_type": "display_data"
    },
    {
     "data": {
      "text/plain": [
       "\n",
       "Tentative Confirmed  Rejected \n",
       "        0        11        34 "
      ]
     },
     "metadata": {},
     "output_type": "display_data"
    },
    {
     "data": {
      "text/html": [
       "<style>\n",
       ".dl-inline {width: auto; margin:0; padding: 0}\n",
       ".dl-inline>dt, .dl-inline>dd {float: none; width: auto; display: inline-block}\n",
       ".dl-inline>dt::after {content: \":\\0020\"; padding-right: .5ex}\n",
       ".dl-inline>dt:not(:first-of-type) {padding-left: .5ex}\n",
       "</style><dl class=dl-inline><dt>ANGEL2</dt><dd>Confirmed</dd><dt>SLC47A2</dt><dd>Confirmed</dd><dt>TNMD</dt><dd>Confirmed</dd><dt>MFSD11</dt><dd>Confirmed</dd><dt>HSD17B2</dt><dd>Confirmed</dd><dt>COX19</dt><dd>Rejected</dd><dt>SNTG2</dt><dd>Rejected</dd><dt>WDR72</dt><dd>Rejected</dd><dt>TEF</dt><dd>Confirmed</dd><dt>KRBOX4</dt><dd>Rejected</dd><dt>RNF130</dt><dd>Confirmed</dd><dt>CNOT11</dt><dd>Confirmed</dd><dt>SLC13A5</dt><dd>Confirmed</dd><dt>PLA2G5</dt><dd>Confirmed</dd><dt>TRIB1</dt><dd>Rejected</dd><dt>KCNJ16</dt><dd>Rejected</dd><dt>PLA2G3</dt><dd>Rejected</dd><dt>OLFM2</dt><dd>Rejected</dd><dt>FAT1</dt><dd>Rejected</dd><dt>RRAD</dt><dd>Rejected</dd><dt>ARSF</dt><dd>Rejected</dd><dt>ALDH1A1</dt><dd>Rejected</dd><dt>PDLIM3</dt><dd>Rejected</dd><dt>TXNDC2</dt><dd>Confirmed</dd><dt>RLBP1</dt><dd>Rejected</dd><dt>ACKR3</dt><dd>Rejected</dd><dt>NT5E</dt><dd>Rejected</dd><dt>S1PR1</dt><dd>Rejected</dd><dt>PLEKHO2</dt><dd>Rejected</dd><dt>ITM2C</dt><dd>Rejected</dd><dt>PYGM</dt><dd>Rejected</dd><dt>EDNRB</dt><dd>Rejected</dd><dt>PPP1R3C</dt><dd>Rejected</dd><dt>MRO</dt><dd>Rejected</dd><dt>EPHX2</dt><dd>Rejected</dd><dt>MMD2</dt><dd>Rejected</dd><dt>HSD17B6</dt><dd>Rejected</dd><dt>GLUL</dt><dd>Rejected</dd><dt>PRF1</dt><dd>Rejected</dd><dt>ITGB5</dt><dd>Rejected</dd><dt>ACSBG1</dt><dd>Rejected</dd><dt>PPP1R3G</dt><dd>Rejected</dd><dt>SLCO1C1</dt><dd>Rejected</dd><dt>SLC25A33</dt><dd>Rejected</dd><dt>EZR</dt><dd>Rejected</dd></dl>\n",
       "\n",
       "<details>\n",
       "\t<summary style=display:list-item;cursor:pointer>\n",
       "\t\t<strong>Levels</strong>:\n",
       "\t</summary>\n",
       "\t<style>\n",
       "\t.list-inline {list-style: none; margin:0; padding: 0}\n",
       "\t.list-inline>li {display: inline-block}\n",
       "\t.list-inline>li:not(:last-child)::after {content: \"\\00b7\"; padding: 0 .5ex}\n",
       "\t</style>\n",
       "\t<ol class=list-inline><li>'Tentative'</li><li>'Confirmed'</li><li>'Rejected'</li></ol>\n",
       "</details>"
      ],
      "text/latex": [
       "\\begin{description*}\n",
       "\\item[ANGEL2] Confirmed\n",
       "\\item[SLC47A2] Confirmed\n",
       "\\item[TNMD] Confirmed\n",
       "\\item[MFSD11] Confirmed\n",
       "\\item[HSD17B2] Confirmed\n",
       "\\item[COX19] Rejected\n",
       "\\item[SNTG2] Rejected\n",
       "\\item[WDR72] Rejected\n",
       "\\item[TEF] Confirmed\n",
       "\\item[KRBOX4] Rejected\n",
       "\\item[RNF130] Confirmed\n",
       "\\item[CNOT11] Confirmed\n",
       "\\item[SLC13A5] Confirmed\n",
       "\\item[PLA2G5] Confirmed\n",
       "\\item[TRIB1] Rejected\n",
       "\\item[KCNJ16] Rejected\n",
       "\\item[PLA2G3] Rejected\n",
       "\\item[OLFM2] Rejected\n",
       "\\item[FAT1] Rejected\n",
       "\\item[RRAD] Rejected\n",
       "\\item[ARSF] Rejected\n",
       "\\item[ALDH1A1] Rejected\n",
       "\\item[PDLIM3] Rejected\n",
       "\\item[TXNDC2] Confirmed\n",
       "\\item[RLBP1] Rejected\n",
       "\\item[ACKR3] Rejected\n",
       "\\item[NT5E] Rejected\n",
       "\\item[S1PR1] Rejected\n",
       "\\item[PLEKHO2] Rejected\n",
       "\\item[ITM2C] Rejected\n",
       "\\item[PYGM] Rejected\n",
       "\\item[EDNRB] Rejected\n",
       "\\item[PPP1R3C] Rejected\n",
       "\\item[MRO] Rejected\n",
       "\\item[EPHX2] Rejected\n",
       "\\item[MMD2] Rejected\n",
       "\\item[HSD17B6] Rejected\n",
       "\\item[GLUL] Rejected\n",
       "\\item[PRF1] Rejected\n",
       "\\item[ITGB5] Rejected\n",
       "\\item[ACSBG1] Rejected\n",
       "\\item[PPP1R3G] Rejected\n",
       "\\item[SLCO1C1] Rejected\n",
       "\\item[SLC25A33] Rejected\n",
       "\\item[EZR] Rejected\n",
       "\\end{description*}\n",
       "\n",
       "\\emph{Levels}: \\begin{enumerate*}\n",
       "\\item 'Tentative'\n",
       "\\item 'Confirmed'\n",
       "\\item 'Rejected'\n",
       "\\end{enumerate*}\n"
      ],
      "text/markdown": [
       "ANGEL2\n",
       ":   ConfirmedSLC47A2\n",
       ":   ConfirmedTNMD\n",
       ":   ConfirmedMFSD11\n",
       ":   ConfirmedHSD17B2\n",
       ":   ConfirmedCOX19\n",
       ":   RejectedSNTG2\n",
       ":   RejectedWDR72\n",
       ":   RejectedTEF\n",
       ":   ConfirmedKRBOX4\n",
       ":   RejectedRNF130\n",
       ":   ConfirmedCNOT11\n",
       ":   ConfirmedSLC13A5\n",
       ":   ConfirmedPLA2G5\n",
       ":   ConfirmedTRIB1\n",
       ":   RejectedKCNJ16\n",
       ":   RejectedPLA2G3\n",
       ":   RejectedOLFM2\n",
       ":   RejectedFAT1\n",
       ":   RejectedRRAD\n",
       ":   RejectedARSF\n",
       ":   RejectedALDH1A1\n",
       ":   RejectedPDLIM3\n",
       ":   RejectedTXNDC2\n",
       ":   ConfirmedRLBP1\n",
       ":   RejectedACKR3\n",
       ":   RejectedNT5E\n",
       ":   RejectedS1PR1\n",
       ":   RejectedPLEKHO2\n",
       ":   RejectedITM2C\n",
       ":   RejectedPYGM\n",
       ":   RejectedEDNRB\n",
       ":   RejectedPPP1R3C\n",
       ":   RejectedMRO\n",
       ":   RejectedEPHX2\n",
       ":   RejectedMMD2\n",
       ":   RejectedHSD17B6\n",
       ":   RejectedGLUL\n",
       ":   RejectedPRF1\n",
       ":   RejectedITGB5\n",
       ":   RejectedACSBG1\n",
       ":   RejectedPPP1R3G\n",
       ":   RejectedSLCO1C1\n",
       ":   RejectedSLC25A33\n",
       ":   RejectedEZR\n",
       ":   Rejected\n",
       "\n",
       "\n",
       "**Levels**: 1. 'Tentative'\n",
       "2. 'Confirmed'\n",
       "3. 'Rejected'\n",
       "\n",
       "\n"
      ],
      "text/plain": [
       "   ANGEL2   SLC47A2      TNMD    MFSD11   HSD17B2     COX19     SNTG2     WDR72 \n",
       "Confirmed Confirmed Confirmed Confirmed Confirmed  Rejected  Rejected  Rejected \n",
       "      TEF    KRBOX4    RNF130    CNOT11   SLC13A5    PLA2G5     TRIB1    KCNJ16 \n",
       "Confirmed  Rejected Confirmed Confirmed Confirmed Confirmed  Rejected  Rejected \n",
       "   PLA2G3     OLFM2      FAT1      RRAD      ARSF   ALDH1A1    PDLIM3    TXNDC2 \n",
       " Rejected  Rejected  Rejected  Rejected  Rejected  Rejected  Rejected Confirmed \n",
       "    RLBP1     ACKR3      NT5E     S1PR1   PLEKHO2     ITM2C      PYGM     EDNRB \n",
       " Rejected  Rejected  Rejected  Rejected  Rejected  Rejected  Rejected  Rejected \n",
       "  PPP1R3C       MRO     EPHX2      MMD2   HSD17B6      GLUL      PRF1     ITGB5 \n",
       " Rejected  Rejected  Rejected  Rejected  Rejected  Rejected  Rejected  Rejected \n",
       "   ACSBG1   PPP1R3G   SLCO1C1  SLC25A33       EZR \n",
       " Rejected  Rejected  Rejected  Rejected  Rejected \n",
       "Levels: Tentative Confirmed Rejected"
      ]
     },
     "metadata": {},
     "output_type": "display_data"
    },
    {
     "data": {
      "text/plain": [
       "Boruta performed 160 iterations in 10.36765 secs.\n",
       " 11 attributes confirmed important: ANGEL2, CNOT11, HSD17B2, MFSD11,\n",
       "PLA2G5 and 6 more;\n",
       " 34 attributes confirmed unimportant: ACKR3, ACSBG1, ALDH1A1, ARSF,\n",
       "COX19 and 29 more;"
      ]
     },
     "metadata": {},
     "output_type": "display_data"
    },
    {
     "data": {
      "image/png": "[encoded data removed]",
      "text/plain": [
       "plot without title"
      ]
     },
     "metadata": {
      "image/png": {
       "height": 420,
       "width": 240
      }
     },
     "output_type": "display_data"
    }
   ],
   "source": [
    "library(Boruta)\n",
    "\n",
    "y\n",
    "\n",
    "set.seed(111)\n",
    "boruta <- Boruta(x=x, y=y, pValue=0.05, mcAdj=T, \n",
    "       maxRuns=300)\n",
    "\n",
    "boruta\n",
    "\n",
    "table(boruta$finalDecision)\n",
    "\n",
    "boruta$finalDecision\n",
    "\n",
    "Boruta::plotImpHistory(boruta)\n",
    "\n",
    "library(dplyr)\n",
    "boruta.imp <- function(x){\n",
    "  imp <- reshape2::melt(x$ImpHistory, na.rm=T)[,-1]\n",
    "  colnames(imp) <- c(\"Variable\",\"Importance\")\n",
    "  imp <- imp[is.finite(imp$Importance),]\n",
    "\n",
    "  variableGrp <- data.frame(Variable=names(x$finalDecision), \n",
    "                            finalDecision=x$finalDecision)\n",
    "\n",
    "  showGrp <- data.frame(Variable=c(\"shadowMax\", \"shadowMean\", \"shadowMin\"),\n",
    "                        finalDecision=c(\"shadowMax\", \"shadowMean\", \"shadowMin\"))\n",
    "\n",
    "  variableGrp <- rbind(variableGrp, showGrp)\n",
    "\n",
    "  boruta.variable.imp <- merge(imp, variableGrp, all.x=T)\n",
    "\n",
    "  sortedVariable <- boruta.variable.imp %>% group_by(Variable) %>% \n",
    "    summarise(median=median(Importance)) %>% arrange(median)\n",
    "  sortedVariable <- as.vector(sortedVariable$Variable)\n",
    "\n",
    "\n",
    "  boruta.variable.imp$Variable <- factor(boruta.variable.imp$Variable, levels=sortedVariable)\n",
    "\n",
    "  invisible(boruta.variable.imp)\n",
    "}\n",
    "boruta.variable.imp <- boruta.imp(boruta)\n",
    "\n",
    "\n",
    "boruta\n",
    "\n",
    "# library(YSX)\n",
    "\n",
    "# sp_boxplot(boruta.variable.imp, melted=T, xvariable = \"Variable\", yvariable = \"Importance\",\n",
    "#            legend_variable = \"finalDecision\", legend_variable_order = c(\"shadowMax\", \"shadowMean\", \"shadowMin\", \"Confirmed\"),\n",
    "#            xtics_angle = 90)\n",
    "\n",
    "# expr = cbind(Type,expr)\n",
    "\n",
    "# colnames(expr)[1]  ='Group'\n",
    "\n",
    "# expr3 = expr\n",
    "\n",
    "# set.seed(147)  \n",
    "# index <-  which( (1:nrow(expr3))%%3 == 0 )\n",
    "# train <- expr3[-index,]\n",
    "# test <- expr3[index,]\n",
    "\n",
    "# table(test$Group)\n",
    "\n",
    "# library(\"xgboost\")\n",
    "# library(\"Matrix\")\n",
    "# train_matrix <- sparse.model.matrix(Group ~ .-1, data = train)\n",
    "# test_matrix <- sparse.model.matrix(Group ~ .-1, data = test)\n",
    "# all_matrix <- sparse.model.matrix(Group ~ .-1, data = expr3)\n",
    "\n",
    "\n",
    "\n",
    "# train_label <- as.numeric(train$Group == 'MDD')\n",
    "# test_label <-  as.numeric(test$Group == 'MDD')\n",
    "# all_label <-  as.numeric(expr3$Group == 'MDD')\n",
    "\n",
    "# all_label\n",
    "\n",
    "# train_fin <- list(data=train_matrix,label=train_label) \n",
    "# test_fin <- list(data=test_matrix,label=test_label) \n",
    "# all_fin <- list(data=all_matrix,label=all_label) \n",
    "\n",
    "# dtrain <- xgb.DMatrix(data = train_fin$data, label = train_fin$label) \n",
    "# dtest <- xgb.DMatrix(data = test_fin$data, label = test_fin$label)\n",
    "# dall <- xgb.DMatrix(data = all_fin$data, label = all_fin$label)\n",
    "\n",
    "# xgb <- xgboost(data = dall,max_depth=6, eta=0.5,  \n",
    "#   objective='binary:logistic', nround=25)\n",
    "\n",
    "# xgb\n",
    "\n",
    "# importance <- xgb.importance(all_matrix@Dimnames[[2]], model = xgb)  \n",
    "# head(importance)\n",
    "# xgb.ggplot.importance(importance)\n",
    "\n",
    "# xgb.plot.importance(importance)"
   ]
  },
  {
   "cell_type": "code",
   "execution_count": 27,
   "id": "43df8e21-bbc7-4efd-b4fe-41c4ab5b41de",
   "metadata": {},
   "outputs": [],
   "source": [
    "# lasso"
   ]
  },
  {
   "cell_type": "code",
   "execution_count": 28,
   "id": "7f0658c0-bf4a-4a5c-8bcc-a25f5c824806",
   "metadata": {},
   "outputs": [
    {
     "name": "stderr",
     "output_type": "stream",
     "text": [
      "Warning message:\n",
      "\"package 'lars' was built under R version 4.2.3\"\n",
      "Loaded lars 1.3\n",
      "\n",
      "\n",
      "Warning message:\n",
      "\"package 'glmnet' was built under R version 4.2.3\"\n",
      "Loading required package: Matrix\n",
      "\n",
      "Warning message:\n",
      "\"package 'Matrix' was built under R version 4.2.3\"\n",
      "\n",
      "Attaching package: 'Matrix'\n",
      "\n",
      "\n",
      "The following objects are masked from 'package:tidyr':\n",
      "\n",
      "    expand, pack, unpack\n",
      "\n",
      "\n",
      "Loaded glmnet 4.1-8\n",
      "\n"
     ]
    },
    {
     "data": {
      "image/png": "[encoded data removed]",
      "text/plain": [
       "plot without title"
      ]
     },
     "metadata": {
      "image/png": {
       "height": 420,
       "width": 240
      }
     },
     "output_type": "display_data"
    },
    {
     "data": {
      "image/png": "[encoded data removed]",
      "text/plain": [
       "plot without title"
      ]
     },
     "metadata": {
      "image/png": {
       "height": 420,
       "width": 240
      }
     },
     "output_type": "display_data"
    },
    {
     "data": {
      "text/html": [
       "<style>\n",
       ".list-inline {list-style: none; margin:0; padding: 0}\n",
       ".list-inline>li {display: inline-block}\n",
       ".list-inline>li:not(:last-child)::after {content: \"\\00b7\"; padding: 0 .5ex}\n",
       "</style>\n",
       "<ol class=list-inline><li>0.163911263199252</li><li>0.216681043520136</li></ol>\n"
      ],
      "text/latex": [
       "\\begin{enumerate*}\n",
       "\\item 0.163911263199252\n",
       "\\item 0.216681043520136\n",
       "\\end{enumerate*}\n"
      ],
      "text/markdown": [
       "1. 0.163911263199252\n",
       "2. 0.216681043520136\n",
       "\n",
       "\n"
      ],
      "text/plain": [
       "[1] 0.1639113 0.2166810"
      ]
     },
     "metadata": {},
     "output_type": "display_data"
    },
    {
     "data": {
      "text/html": [
       "'SLC47A2'"
      ],
      "text/latex": [
       "'SLC47A2'"
      ],
      "text/markdown": [
       "'SLC47A2'"
      ],
      "text/plain": [
       "[1] \"SLC47A2\""
      ]
     },
     "metadata": {},
     "output_type": "display_data"
    },
    {
     "data": {
      "image/png": "[encoded data removed]",
      "text/plain": [
       "plot without title"
      ]
     },
     "metadata": {
      "image/png": {
       "height": 420,
       "width": 240
      }
     },
     "output_type": "display_data"
    }
   ],
   "source": [
    "library(lars) \n",
    "library(glmnet) \n",
    "\n",
    "#用基因的表达情况预测生死\n",
    "model_lasso <- glmnet(x, y, family=\"binomial\", nlambda=100, alpha=1)#拉手回归模型\n",
    "plot(model_lasso, xvar = \"norm\", label = TRUE)\n",
    "\n",
    "plot(model_lasso, xvar=\"lambda\", label=TRUE)\n",
    "\n",
    "cv_fit <- cv.glmnet(x=x, y=y, alpha = 1, nlambda = 100)\n",
    "\n",
    "plot(cv_fit)\n",
    "# 两条虚线分别指示了两个特殊的λ值:\n",
    "c(cv_fit$lambda.min,cv_fit$lambda.1se) \n",
    "\n",
    "model_lasso <- glmnet(x=as.matrix(x), y=y, alpha = 1, lambda=cv_fit$lambda.min\t)\n",
    "gene_1se <- rownames(model_lasso$beta)[as.numeric(model_lasso$beta)!=0]\n",
    "gene_1se = gsub('[.]',' ',gene_1se)\n",
    "\n",
    "gene_1se\n",
    "\n",
    "# ### 韦恩图\n",
    "\n",
    "# importance$Feature\n",
    "\n",
    "# RF.gene = names(rfGenes)[1:10]\n",
    "# #SVF.RFE.gene = featureGenes\n",
    "# XGBoost.gene = importance$Feature[1:10]\n",
    "\n",
    "# boruta.variable.imp2 = boruta.variable.imp %>% dplyr::filter(finalDecision %in% c('Confirmed','Tentative')) %>% dplyr::select(Variable) %>% unique()\n",
    "\n",
    "# Boruta.gene = as.vector(boruta.variable.imp2$Variable)\n",
    "\n",
    "# lasso.gene  = gene_1se\n",
    "\n",
    "# list1 = list(RF.gene,lasso.gene,Boruta.gene,XGBoost.gene)\n",
    "\n",
    "# data =  as.data.frame (do.call (cbind, list1))\n",
    "\n",
    "\n",
    "# library(venn)\n",
    "#         library(VennDiagram)\n",
    "#         color=c( \"#3C5488B2\",\"#00A087B2\", \n",
    "#              \"#F39B7FB2\",\"#91D1C2B2\", \n",
    "#              \"#8491B4B2\", \"#DC0000B2\", \n",
    "#              \"#7E6148B2\",\"yellow\", \n",
    "#              \"darkolivegreen1\", \"lightskyblue\", \n",
    "#              \"darkgreen\", \"deeppink\", \"khaki2\", \n",
    "#              \"firebrick\", \"brown1\", \"darkorange1\", \n",
    "#              \"cyan1\", \"royalblue4\", \"darksalmon\", \n",
    "#              \"darkgoldenrod1\", \"darkseagreen\", \"darkorchid\")\n",
    "\n",
    "#     if (ncol(data) == 2){\n",
    "#         sample_list <- list(c1 = data[,1], c2 = data[,2])\n",
    "#     }else if(ncol(data) == 3){\n",
    "#         sample_list <- list(RF.gene = data[,1], Boruta.gene = data[,2], XGBoost.gene = data[,3])\n",
    "#     }else if(ncol(data) == 4){\n",
    "#         sample_list <- list(RF.gene = data[,1], SVF.RFE.gene = data[,2], Boruta.gene = data[,3], XGBoost.gene = data[,4])\n",
    "#     }else{\n",
    "#         sample_list <- list(c1 = data[,1], c2 = data[,2], c3 = data[,3], c4 = data[,4], c5 = data[,5])\n",
    "#     }\n",
    "    \n",
    "#     q <- venn.diagram(sample_list,filename = NULL,\n",
    "#              fill = color[1:(length(sample_list))],\n",
    "#              alpha = 0.50, cat.col = rep('black', ncol(data)), \n",
    "#              col = 'black', cex = 1, fontfamily = 'serif', cat.cex = 1, cat.fontfamily = 'serif', margin = 0.2\n",
    "#                              )\n",
    "#     pdf(paste0('./',\"venn.pdf\"))\n",
    "#     grid.draw(q)\n",
    "#     dev.off()\n",
    "\n",
    "# grid.draw(q)\n",
    "\n",
    "# intersect(intersect(intersect(RF.gene,XGBoost.gene),Boruta.gene),lasso.gene)\n",
    "\n",
    "# model.gene = intersect(lasso.gene,XGBoost.gene)\n",
    "\n",
    "\n",
    "\n",
    "# model.gene  =lasso.gene\n",
    "\n",
    "# model.gene"
   ]
  },
  {
   "cell_type": "code",
   "execution_count": 23,
   "id": "6cb691bd-2d72-4837-b47a-5e7c0a16d5cb",
   "metadata": {},
   "outputs": [],
   "source": [
    "set.seed(1234)"
   ]
  },
  {
   "cell_type": "code",
   "execution_count": 24,
   "id": "308b404e-eb61-4091-a9b8-9c1b6997575b",
   "metadata": {},
   "outputs": [],
   "source": [
    "library(dplyr)"
   ]
  },
  {
   "cell_type": "code",
   "execution_count": 25,
   "id": "a5921de0-76c9-49f1-9299-89c817a30fb3",
   "metadata": {},
   "outputs": [],
   "source": [
    "expr3 = cbind(y,x) %>%  as.data.frame()"
   ]
  },
  {
   "cell_type": "code",
   "execution_count": 26,
   "id": "d8c96c88-9216-46eb-a181-e851e4df2f7f",
   "metadata": {},
   "outputs": [],
   "source": [
    "colnames(expr3)[1] = 'Group'"
   ]
  },
  {
   "cell_type": "code",
   "execution_count": 27,
   "id": "9c3b879f-1b40-45f7-9aaa-f1909ee6aaf3",
   "metadata": {},
   "outputs": [],
   "source": [
    "expr4 = expr3 "
   ]
  },
  {
   "cell_type": "code",
   "execution_count": 28,
   "id": "5ef5cfa5-901b-4e64-9f10-8775cc89fce8",
   "metadata": {},
   "outputs": [
    {
     "data": {
      "text/html": [
       "<style>\n",
       ".list-inline {list-style: none; margin:0; padding: 0}\n",
       ".list-inline>li {display: inline-block}\n",
       ".list-inline>li:not(:last-child)::after {content: \"\\00b7\"; padding: 0 .5ex}\n",
       "</style>\n",
       "<ol class=list-inline><li>59</li><li>46</li></ol>\n"
      ],
      "text/latex": [
       "\\begin{enumerate*}\n",
       "\\item 59\n",
       "\\item 46\n",
       "\\end{enumerate*}\n"
      ],
      "text/markdown": [
       "1. 59\n",
       "2. 46\n",
       "\n",
       "\n"
      ],
      "text/plain": [
       "[1] 59 46"
      ]
     },
     "metadata": {},
     "output_type": "display_data"
    }
   ],
   "source": [
    "dim(expr4)"
   ]
  },
  {
   "cell_type": "code",
   "execution_count": 34,
   "id": "0c078c6c-044b-4daa-a1a2-654379b30675",
   "metadata": {},
   "outputs": [],
   "source": [
    "model.gene = colnames(expr4)[2:dim(expr4)[2]]"
   ]
  },
  {
   "cell_type": "code",
   "execution_count": 35,
   "id": "a68de7ce-0c16-4db1-93f7-8e4f510f9fa4",
   "metadata": {},
   "outputs": [
    {
     "data": {
      "text/html": [
       "<table class=\"dataframe\">\n",
       "<caption>A data.frame: 7 x 46</caption>\n",
       "<thead>\n",
       "\t<tr><th></th><th scope=col>Group</th><th scope=col>ANGEL2</th><th scope=col>SLC47A2</th><th scope=col>TNMD</th><th scope=col>MFSD11</th><th scope=col>HSD17B2</th><th scope=col>COX19</th><th scope=col>SNTG2</th><th scope=col>WDR72</th><th scope=col>TEF</th><th scope=col>...</th><th scope=col>MMD2</th><th scope=col>HSD17B6</th><th scope=col>GLUL</th><th scope=col>PRF1</th><th scope=col>ITGB5</th><th scope=col>ACSBG1</th><th scope=col>PPP1R3G</th><th scope=col>SLCO1C1</th><th scope=col>SLC25A33</th><th scope=col>EZR</th></tr>\n",
       "\t<tr><th></th><th scope=col>&lt;dbl&gt;</th><th scope=col>&lt;dbl&gt;</th><th scope=col>&lt;dbl&gt;</th><th scope=col>&lt;dbl&gt;</th><th scope=col>&lt;dbl&gt;</th><th scope=col>&lt;dbl&gt;</th><th scope=col>&lt;dbl&gt;</th><th scope=col>&lt;dbl&gt;</th><th scope=col>&lt;dbl&gt;</th><th scope=col>&lt;dbl&gt;</th><th scope=col>...</th><th scope=col>&lt;dbl&gt;</th><th scope=col>&lt;dbl&gt;</th><th scope=col>&lt;dbl&gt;</th><th scope=col>&lt;dbl&gt;</th><th scope=col>&lt;dbl&gt;</th><th scope=col>&lt;dbl&gt;</th><th scope=col>&lt;dbl&gt;</th><th scope=col>&lt;dbl&gt;</th><th scope=col>&lt;dbl&gt;</th><th scope=col>&lt;dbl&gt;</th></tr>\n",
       "</thead>\n",
       "<tbody>\n",
       "\t<tr><th scope=row>V1</th><td>0</td><td>11.31380</td><td>5.997484</td><td>4.762127</td><td>10.077611</td><td>0.000000</td><td>9.481220</td><td>3.380686</td><td>0.000000</td><td>12.57796</td><td>...</td><td>11.02428</td><td>10.07038</td><td>15.64456</td><td>6.075159</td><td>10.21540</td><td>10.90177</td><td>7.430492</td><td>11.48960</td><td>11.21745</td><td>12.45869</td></tr>\n",
       "\t<tr><th scope=row>V2</th><td>0</td><td>11.38137</td><td>6.974851</td><td>0.000000</td><td>10.349612</td><td>0.000000</td><td>9.558993</td><td>6.491342</td><td>0.000000</td><td>12.85425</td><td>...</td><td>11.45453</td><td>10.74483</td><td>15.57598</td><td>5.994629</td><td>10.18809</td><td>10.88782</td><td>7.779866</td><td>11.51256</td><td>11.12242</td><td>12.72249</td></tr>\n",
       "\t<tr><th scope=row>V3</th><td>0</td><td>11.38639</td><td>6.692509</td><td>0.000000</td><td> 9.984553</td><td>0.000000</td><td>9.093433</td><td>4.453682</td><td>0.000000</td><td>12.60077</td><td>...</td><td>10.48030</td><td>10.36338</td><td>15.82937</td><td>6.224256</td><td>10.08134</td><td>10.71241</td><td>7.717706</td><td>11.56954</td><td>10.76395</td><td>12.65542</td></tr>\n",
       "\t<tr><th scope=row>V4</th><td>0</td><td>11.27920</td><td>5.510627</td><td>3.784498</td><td> 9.587639</td><td>1.054683</td><td>9.230258</td><td>5.407246</td><td>1.765679</td><td>12.50740</td><td>...</td><td>10.61621</td><td>10.11685</td><td>15.66760</td><td>3.720254</td><td>10.04193</td><td>10.94018</td><td>7.502273</td><td>11.53258</td><td>11.04473</td><td>12.69384</td></tr>\n",
       "\t<tr><th scope=row>V5</th><td>0</td><td>11.47280</td><td>5.690687</td><td>4.771456</td><td>10.017391</td><td>0.000000</td><td>9.240464</td><td>4.318910</td><td>2.570928</td><td>12.86287</td><td>...</td><td>11.54596</td><td>10.08005</td><td>15.60160</td><td>5.676732</td><td>10.13521</td><td>10.59836</td><td>7.207121</td><td>11.73888</td><td>11.03646</td><td>12.86140</td></tr>\n",
       "\t<tr><th scope=row>V6</th><td>0</td><td>11.37758</td><td>6.329025</td><td>0.000000</td><td>10.227856</td><td>0.000000</td><td>9.269620</td><td>5.698889</td><td>0.000000</td><td>12.92464</td><td>...</td><td>11.07361</td><td>10.15060</td><td>15.58381</td><td>4.951803</td><td>10.20229</td><td>10.74494</td><td>7.956811</td><td>11.56527</td><td>11.42928</td><td>12.96883</td></tr>\n",
       "\t<tr><th scope=row>V7</th><td>0</td><td>11.54778</td><td>6.529499</td><td>4.917078</td><td>10.159148</td><td>1.791782</td><td>9.505012</td><td>7.263031</td><td>1.904336</td><td>12.59584</td><td>...</td><td>10.91949</td><td>10.31526</td><td>15.74968</td><td>4.850036</td><td>10.00278</td><td>10.48436</td><td>7.270115</td><td>11.29756</td><td>10.75472</td><td>13.03057</td></tr>\n",
       "</tbody>\n",
       "</table>\n"
      ],
      "text/latex": [
       "A data.frame: 7 x 46\n",
       "\\begin{tabular}{r|lllllllllllllllllllll}\n",
       "  & Group & ANGEL2 & SLC47A2 & TNMD & MFSD11 & HSD17B2 & COX19 & SNTG2 & WDR72 & TEF & ... & MMD2 & HSD17B6 & GLUL & PRF1 & ITGB5 & ACSBG1 & PPP1R3G & SLCO1C1 & SLC25A33 & EZR\\\\\n",
       "  & <dbl> & <dbl> & <dbl> & <dbl> & <dbl> & <dbl> & <dbl> & <dbl> & <dbl> & <dbl> & ... & <dbl> & <dbl> & <dbl> & <dbl> & <dbl> & <dbl> & <dbl> & <dbl> & <dbl> & <dbl>\\\\\n",
       "\\hline\n",
       "\tV1 & 0 & 11.31380 & 5.997484 & 4.762127 & 10.077611 & 0.000000 & 9.481220 & 3.380686 & 0.000000 & 12.57796 & ... & 11.02428 & 10.07038 & 15.64456 & 6.075159 & 10.21540 & 10.90177 & 7.430492 & 11.48960 & 11.21745 & 12.45869\\\\\n",
       "\tV2 & 0 & 11.38137 & 6.974851 & 0.000000 & 10.349612 & 0.000000 & 9.558993 & 6.491342 & 0.000000 & 12.85425 & ... & 11.45453 & 10.74483 & 15.57598 & 5.994629 & 10.18809 & 10.88782 & 7.779866 & 11.51256 & 11.12242 & 12.72249\\\\\n",
       "\tV3 & 0 & 11.38639 & 6.692509 & 0.000000 &  9.984553 & 0.000000 & 9.093433 & 4.453682 & 0.000000 & 12.60077 & ... & 10.48030 & 10.36338 & 15.82937 & 6.224256 & 10.08134 & 10.71241 & 7.717706 & 11.56954 & 10.76395 & 12.65542\\\\\n",
       "\tV4 & 0 & 11.27920 & 5.510627 & 3.784498 &  9.587639 & 1.054683 & 9.230258 & 5.407246 & 1.765679 & 12.50740 & ... & 10.61621 & 10.11685 & 15.66760 & 3.720254 & 10.04193 & 10.94018 & 7.502273 & 11.53258 & 11.04473 & 12.69384\\\\\n",
       "\tV5 & 0 & 11.47280 & 5.690687 & 4.771456 & 10.017391 & 0.000000 & 9.240464 & 4.318910 & 2.570928 & 12.86287 & ... & 11.54596 & 10.08005 & 15.60160 & 5.676732 & 10.13521 & 10.59836 & 7.207121 & 11.73888 & 11.03646 & 12.86140\\\\\n",
       "\tV6 & 0 & 11.37758 & 6.329025 & 0.000000 & 10.227856 & 0.000000 & 9.269620 & 5.698889 & 0.000000 & 12.92464 & ... & 11.07361 & 10.15060 & 15.58381 & 4.951803 & 10.20229 & 10.74494 & 7.956811 & 11.56527 & 11.42928 & 12.96883\\\\\n",
       "\tV7 & 0 & 11.54778 & 6.529499 & 4.917078 & 10.159148 & 1.791782 & 9.505012 & 7.263031 & 1.904336 & 12.59584 & ... & 10.91949 & 10.31526 & 15.74968 & 4.850036 & 10.00278 & 10.48436 & 7.270115 & 11.29756 & 10.75472 & 13.03057\\\\\n",
       "\\end{tabular}\n"
      ],
      "text/markdown": [
       "\n",
       "A data.frame: 7 x 46\n",
       "\n",
       "| <!--/--> | Group &lt;dbl&gt; | ANGEL2 &lt;dbl&gt; | SLC47A2 &lt;dbl&gt; | TNMD &lt;dbl&gt; | MFSD11 &lt;dbl&gt; | HSD17B2 &lt;dbl&gt; | COX19 &lt;dbl&gt; | SNTG2 &lt;dbl&gt; | WDR72 &lt;dbl&gt; | TEF &lt;dbl&gt; | ... ... | MMD2 &lt;dbl&gt; | HSD17B6 &lt;dbl&gt; | GLUL &lt;dbl&gt; | PRF1 &lt;dbl&gt; | ITGB5 &lt;dbl&gt; | ACSBG1 &lt;dbl&gt; | PPP1R3G &lt;dbl&gt; | SLCO1C1 &lt;dbl&gt; | SLC25A33 &lt;dbl&gt; | EZR &lt;dbl&gt; |\n",
       "|---|---|---|---|---|---|---|---|---|---|---|---|---|---|---|---|---|---|---|---|---|---|\n",
       "| V1 | 0 | 11.31380 | 5.997484 | 4.762127 | 10.077611 | 0.000000 | 9.481220 | 3.380686 | 0.000000 | 12.57796 | ... | 11.02428 | 10.07038 | 15.64456 | 6.075159 | 10.21540 | 10.90177 | 7.430492 | 11.48960 | 11.21745 | 12.45869 |\n",
       "| V2 | 0 | 11.38137 | 6.974851 | 0.000000 | 10.349612 | 0.000000 | 9.558993 | 6.491342 | 0.000000 | 12.85425 | ... | 11.45453 | 10.74483 | 15.57598 | 5.994629 | 10.18809 | 10.88782 | 7.779866 | 11.51256 | 11.12242 | 12.72249 |\n",
       "| V3 | 0 | 11.38639 | 6.692509 | 0.000000 |  9.984553 | 0.000000 | 9.093433 | 4.453682 | 0.000000 | 12.60077 | ... | 10.48030 | 10.36338 | 15.82937 | 6.224256 | 10.08134 | 10.71241 | 7.717706 | 11.56954 | 10.76395 | 12.65542 |\n",
       "| V4 | 0 | 11.27920 | 5.510627 | 3.784498 |  9.587639 | 1.054683 | 9.230258 | 5.407246 | 1.765679 | 12.50740 | ... | 10.61621 | 10.11685 | 15.66760 | 3.720254 | 10.04193 | 10.94018 | 7.502273 | 11.53258 | 11.04473 | 12.69384 |\n",
       "| V5 | 0 | 11.47280 | 5.690687 | 4.771456 | 10.017391 | 0.000000 | 9.240464 | 4.318910 | 2.570928 | 12.86287 | ... | 11.54596 | 10.08005 | 15.60160 | 5.676732 | 10.13521 | 10.59836 | 7.207121 | 11.73888 | 11.03646 | 12.86140 |\n",
       "| V6 | 0 | 11.37758 | 6.329025 | 0.000000 | 10.227856 | 0.000000 | 9.269620 | 5.698889 | 0.000000 | 12.92464 | ... | 11.07361 | 10.15060 | 15.58381 | 4.951803 | 10.20229 | 10.74494 | 7.956811 | 11.56527 | 11.42928 | 12.96883 |\n",
       "| V7 | 0 | 11.54778 | 6.529499 | 4.917078 | 10.159148 | 1.791782 | 9.505012 | 7.263031 | 1.904336 | 12.59584 | ... | 10.91949 | 10.31526 | 15.74968 | 4.850036 | 10.00278 | 10.48436 | 7.270115 | 11.29756 | 10.75472 | 13.03057 |\n",
       "\n"
      ],
      "text/plain": [
       "   Group ANGEL2   SLC47A2  TNMD     MFSD11    HSD17B2  COX19    SNTG2   \n",
       "V1 0     11.31380 5.997484 4.762127 10.077611 0.000000 9.481220 3.380686\n",
       "V2 0     11.38137 6.974851 0.000000 10.349612 0.000000 9.558993 6.491342\n",
       "V3 0     11.38639 6.692509 0.000000  9.984553 0.000000 9.093433 4.453682\n",
       "V4 0     11.27920 5.510627 3.784498  9.587639 1.054683 9.230258 5.407246\n",
       "V5 0     11.47280 5.690687 4.771456 10.017391 0.000000 9.240464 4.318910\n",
       "V6 0     11.37758 6.329025 0.000000 10.227856 0.000000 9.269620 5.698889\n",
       "V7 0     11.54778 6.529499 4.917078 10.159148 1.791782 9.505012 7.263031\n",
       "   WDR72    TEF      ... MMD2     HSD17B6  GLUL     PRF1     ITGB5    ACSBG1  \n",
       "V1 0.000000 12.57796 ... 11.02428 10.07038 15.64456 6.075159 10.21540 10.90177\n",
       "V2 0.000000 12.85425 ... 11.45453 10.74483 15.57598 5.994629 10.18809 10.88782\n",
       "V3 0.000000 12.60077 ... 10.48030 10.36338 15.82937 6.224256 10.08134 10.71241\n",
       "V4 1.765679 12.50740 ... 10.61621 10.11685 15.66760 3.720254 10.04193 10.94018\n",
       "V5 2.570928 12.86287 ... 11.54596 10.08005 15.60160 5.676732 10.13521 10.59836\n",
       "V6 0.000000 12.92464 ... 11.07361 10.15060 15.58381 4.951803 10.20229 10.74494\n",
       "V7 1.904336 12.59584 ... 10.91949 10.31526 15.74968 4.850036 10.00278 10.48436\n",
       "   PPP1R3G  SLCO1C1  SLC25A33 EZR     \n",
       "V1 7.430492 11.48960 11.21745 12.45869\n",
       "V2 7.779866 11.51256 11.12242 12.72249\n",
       "V3 7.717706 11.56954 10.76395 12.65542\n",
       "V4 7.502273 11.53258 11.04473 12.69384\n",
       "V5 7.207121 11.73888 11.03646 12.86140\n",
       "V6 7.956811 11.56527 11.42928 12.96883\n",
       "V7 7.270115 11.29756 10.75472 13.03057"
      ]
     },
     "metadata": {},
     "output_type": "display_data"
    }
   ],
   "source": [
    "head(expr4,7)"
   ]
  },
  {
   "cell_type": "code",
   "execution_count": 36,
   "id": "50cc8b04-2d6a-4b38-906a-64735c1fdf08",
   "metadata": {
    "scrolled": true
   },
   "outputs": [
    {
     "name": "stderr",
     "output_type": "stream",
     "text": [
      "Warning message:\n",
      "\"package 'caret' was built under R version 4.2.3\"\n",
      "Loading required package: lattice\n",
      "\n",
      "Warning message:\n",
      "\"package 'lattice' was built under R version 4.2.3\"\n",
      "\n",
      "Attaching package: 'caret'\n",
      "\n",
      "\n",
      "The following object is masked from 'package:purrr':\n",
      "\n",
      "    lift\n",
      "\n",
      "\n"
     ]
    },
    {
     "name": "stdout",
     "output_type": "stream",
     "text": [
      "[1] \"ANGEL2 0.749425287356322\"\n"
     ]
    },
    {
     "name": "stderr",
     "output_type": "stream",
     "text": [
      "\u001b[1m\u001b[22mSaving 6.67 x 6.67 in image\n",
      "Warning message in geom_segment(aes(x = 0, xend = 1, y = 0, yend = 1), color = \"darkgrey\", :\n",
      "\"\u001b[1m\u001b[22mAll aesthetics have length 1, but the data has 60 rows.\n",
      "\u001b[36mi\u001b[39m Please consider using `annotate()` or provide this layer with data containing\n",
      "  a single row.\"\n"
     ]
    },
    {
     "name": "stdout",
     "output_type": "stream",
     "text": [
      "[1] \"SLC47A2 0.742528735632184\"\n"
     ]
    },
    {
     "name": "stderr",
     "output_type": "stream",
     "text": [
      "\u001b[1m\u001b[22mSaving 6.67 x 6.67 in image\n",
      "Warning message in geom_segment(aes(x = 0, xend = 1, y = 0, yend = 1), color = \"darkgrey\", :\n",
      "\"\u001b[1m\u001b[22mAll aesthetics have length 1, but the data has 60 rows.\n",
      "\u001b[36mi\u001b[39m Please consider using `annotate()` or provide this layer with data containing\n",
      "  a single row.\"\n"
     ]
    },
    {
     "name": "stdout",
     "output_type": "stream",
     "text": [
      "[1] \"TNMD 0.747126436781609\"\n"
     ]
    },
    {
     "name": "stderr",
     "output_type": "stream",
     "text": [
      "\u001b[1m\u001b[22mSaving 6.67 x 6.67 in image\n",
      "Warning message in geom_segment(aes(x = 0, xend = 1, y = 0, yend = 1), color = \"darkgrey\", :\n",
      "\"\u001b[1m\u001b[22mAll aesthetics have length 1, but the data has 51 rows.\n",
      "\u001b[36mi\u001b[39m Please consider using `annotate()` or provide this layer with data containing\n",
      "  a single row.\"\n"
     ]
    },
    {
     "name": "stdout",
     "output_type": "stream",
     "text": [
      "[1] \"MFSD11 0.725287356321839\"\n"
     ]
    },
    {
     "name": "stderr",
     "output_type": "stream",
     "text": [
      "\u001b[1m\u001b[22mSaving 6.67 x 6.67 in image\n",
      "Warning message in geom_segment(aes(x = 0, xend = 1, y = 0, yend = 1), color = \"darkgrey\", :\n",
      "\"\u001b[1m\u001b[22mAll aesthetics have length 1, but the data has 60 rows.\n",
      "\u001b[36mi\u001b[39m Please consider using `annotate()` or provide this layer with data containing\n",
      "  a single row.\"\n"
     ]
    },
    {
     "name": "stdout",
     "output_type": "stream",
     "text": [
      "[1] \"HSD17B2 0.640229885057471\"\n"
     ]
    },
    {
     "name": "stderr",
     "output_type": "stream",
     "text": [
      "\u001b[1m\u001b[22mSaving 6.67 x 6.67 in image\n",
      "Warning message in geom_segment(aes(x = 0, xend = 1, y = 0, yend = 1), color = \"darkgrey\", :\n",
      "\"\u001b[1m\u001b[22mAll aesthetics have length 1, but the data has 28 rows.\n",
      "\u001b[36mi\u001b[39m Please consider using `annotate()` or provide this layer with data containing\n",
      "  a single row.\"\n"
     ]
    },
    {
     "name": "stdout",
     "output_type": "stream",
     "text": [
      "[1] \"COX19 0.685057471264368\"\n"
     ]
    },
    {
     "name": "stderr",
     "output_type": "stream",
     "text": [
      "\u001b[1m\u001b[22mSaving 6.67 x 6.67 in image\n",
      "Warning message in geom_segment(aes(x = 0, xend = 1, y = 0, yend = 1), color = \"darkgrey\", :\n",
      "\"\u001b[1m\u001b[22mAll aesthetics have length 1, but the data has 60 rows.\n",
      "\u001b[36mi\u001b[39m Please consider using `annotate()` or provide this layer with data containing\n",
      "  a single row.\"\n"
     ]
    },
    {
     "name": "stdout",
     "output_type": "stream",
     "text": [
      "[1] \"SNTG2 0.662068965517241\"\n"
     ]
    },
    {
     "name": "stderr",
     "output_type": "stream",
     "text": [
      "\u001b[1m\u001b[22mSaving 6.67 x 6.67 in image\n",
      "Warning message in geom_segment(aes(x = 0, xend = 1, y = 0, yend = 1), color = \"darkgrey\", :\n",
      "\"\u001b[1m\u001b[22mAll aesthetics have length 1, but the data has 60 rows.\n",
      "\u001b[36mi\u001b[39m Please consider using `annotate()` or provide this layer with data containing\n",
      "  a single row.\"\n"
     ]
    },
    {
     "name": "stdout",
     "output_type": "stream",
     "text": [
      "[1] \"WDR72 0.659770114942529\"\n"
     ]
    },
    {
     "name": "stderr",
     "output_type": "stream",
     "text": [
      "\u001b[1m\u001b[22mSaving 6.67 x 6.67 in image\n",
      "Warning message in geom_segment(aes(x = 0, xend = 1, y = 0, yend = 1), color = \"darkgrey\", :\n",
      "\"\u001b[1m\u001b[22mAll aesthetics have length 1, but the data has 40 rows.\n",
      "\u001b[36mi\u001b[39m Please consider using `annotate()` or provide this layer with data containing\n",
      "  a single row.\"\n"
     ]
    },
    {
     "name": "stdout",
     "output_type": "stream",
     "text": [
      "[1] \"TEF 0.714942528735632\"\n"
     ]
    },
    {
     "name": "stderr",
     "output_type": "stream",
     "text": [
      "\u001b[1m\u001b[22mSaving 6.67 x 6.67 in image\n",
      "Warning message in geom_segment(aes(x = 0, xend = 1, y = 0, yend = 1), color = \"darkgrey\", :\n",
      "\"\u001b[1m\u001b[22mAll aesthetics have length 1, but the data has 60 rows.\n",
      "\u001b[36mi\u001b[39m Please consider using `annotate()` or provide this layer with data containing\n",
      "  a single row.\"\n"
     ]
    },
    {
     "name": "stdout",
     "output_type": "stream",
     "text": [
      "[1] \"KRBOX4 0.683908045977011\"\n"
     ]
    },
    {
     "name": "stderr",
     "output_type": "stream",
     "text": [
      "\u001b[1m\u001b[22mSaving 6.67 x 6.67 in image\n",
      "Warning message in geom_segment(aes(x = 0, xend = 1, y = 0, yend = 1), color = \"darkgrey\", :\n",
      "\"\u001b[1m\u001b[22mAll aesthetics have length 1, but the data has 60 rows.\n",
      "\u001b[36mi\u001b[39m Please consider using `annotate()` or provide this layer with data containing\n",
      "  a single row.\"\n"
     ]
    },
    {
     "name": "stdout",
     "output_type": "stream",
     "text": [
      "[1] \"RNF130 0.697701149425287\"\n"
     ]
    },
    {
     "name": "stderr",
     "output_type": "stream",
     "text": [
      "\u001b[1m\u001b[22mSaving 6.67 x 6.67 in image\n",
      "Warning message in geom_segment(aes(x = 0, xend = 1, y = 0, yend = 1), color = \"darkgrey\", :\n",
      "\"\u001b[1m\u001b[22mAll aesthetics have length 1, but the data has 60 rows.\n",
      "\u001b[36mi\u001b[39m Please consider using `annotate()` or provide this layer with data containing\n",
      "  a single row.\"\n"
     ]
    },
    {
     "name": "stdout",
     "output_type": "stream",
     "text": [
      "[1] \"CNOT11 0.714942528735632\"\n"
     ]
    },
    {
     "name": "stderr",
     "output_type": "stream",
     "text": [
      "\u001b[1m\u001b[22mSaving 6.67 x 6.67 in image\n",
      "Warning message in geom_segment(aes(x = 0, xend = 1, y = 0, yend = 1), color = \"darkgrey\", :\n",
      "\"\u001b[1m\u001b[22mAll aesthetics have length 1, but the data has 60 rows.\n",
      "\u001b[36mi\u001b[39m Please consider using `annotate()` or provide this layer with data containing\n",
      "  a single row.\"\n"
     ]
    },
    {
     "name": "stdout",
     "output_type": "stream",
     "text": [
      "[1] \"ITM2C 0.529885057471264\"\n"
     ]
    },
    {
     "name": "stderr",
     "output_type": "stream",
     "text": [
      "\u001b[1m\u001b[22mSaving 6.67 x 6.67 in image\n",
      "Warning message in geom_segment(aes(x = 0, xend = 1, y = 0, yend = 1), color = \"darkgrey\", :\n",
      "\"\u001b[1m\u001b[22mAll aesthetics have length 1, but the data has 60 rows.\n",
      "\u001b[36mi\u001b[39m Please consider using `annotate()` or provide this layer with data containing\n",
      "  a single row.\"\n"
     ]
    },
    {
     "name": "stdout",
     "output_type": "stream",
     "text": [
      "[1] \"EPHX2 0.545977011494253\"\n"
     ]
    },
    {
     "name": "stderr",
     "output_type": "stream",
     "text": [
      "\u001b[1m\u001b[22mSaving 6.67 x 6.67 in image\n",
      "Warning message in geom_segment(aes(x = 0, xend = 1, y = 0, yend = 1), color = \"darkgrey\", :\n",
      "\"\u001b[1m\u001b[22mAll aesthetics have length 1, but the data has 60 rows.\n",
      "\u001b[36mi\u001b[39m Please consider using `annotate()` or provide this layer with data containing\n",
      "  a single row.\"\n"
     ]
    },
    {
     "name": "stdout",
     "output_type": "stream",
     "text": [
      "[1] \"SLC25A33 0.520689655172414\"\n"
     ]
    },
    {
     "name": "stderr",
     "output_type": "stream",
     "text": [
      "\u001b[1m\u001b[22mSaving 6.67 x 6.67 in image\n",
      "Warning message in geom_segment(aes(x = 0, xend = 1, y = 0, yend = 1), color = \"darkgrey\", :\n",
      "\"\u001b[1m\u001b[22mAll aesthetics have length 1, but the data has 60 rows.\n",
      "\u001b[36mi\u001b[39m Please consider using `annotate()` or provide this layer with data containing\n",
      "  a single row.\"\n"
     ]
    }
   ],
   "source": [
    "library(caret)\n",
    "library(ggplot2)\n",
    "\n",
    " a = c()\n",
    "# \n",
    "for (i in model.gene){\n",
    "    res<-pROC::roc(Group~expr4[,i],data=expr4,aur=TRUE,\n",
    "         ci=TRUE, # 显示95%CI\n",
    "         #percent=TRUE, # 是否需要以百分比显示\n",
    "         smooth=FALSE,# 是否平滑曲线\n",
    "         levels=c(0,1),direction=\"<\" #设置分组方向\n",
    "         )\n",
    "    if (res$auc > 0.5){\n",
    "        a = append(a,i)\n",
    "        print(paste0(i,' ',res$auc))\n",
    "        p = pROC::ggroc(res, color =\"red\",legacy.axes = TRUE)+\n",
    "  geom_segment(aes(x = 0, xend = 1, y = 0, yend = 1), color=\"darkgrey\", linetype=4)+\n",
    "  theme_bw() + # 设置背景\n",
    "  ggtitle(paste0(i,\" ROC Curve\"))+\n",
    "  theme(plot.title = element_text(hjust = 0.5,size = 16),\n",
    "        axis.text=element_text(size=12,colour = \"black\"),\n",
    "        axis.title.x = element_text(size = 14),\n",
    "        axis.title.y = element_text(size = 14))\n",
    "p+annotate(\"text\",x=0.75,y=0.25,label=paste(\"AUC = \", round(res$auc,3)))+\n",
    "  annotate(\"text\",x=0.75,y=0.20,label=paste(\"95%CI: \", round(res$ci[1],3),'-',round(res$ci[3],3)))\n",
    "    ggsave(file = paste0(i,'.ROC.pdf'))\n",
    "}else{\n",
    "        \n",
    "}\n",
    "\n",
    "    \n",
    "    }"
   ]
  },
  {
   "cell_type": "markdown",
   "id": "d157d346-4a53-4133-b0d2-f2a92aea9d56",
   "metadata": {},
   "source": [
    "### 批量单因素逻辑回归"
   ]
  },
  {
   "cell_type": "code",
   "execution_count": 37,
   "id": "77f4befb-4acc-47c4-92e3-e9b3b9edb649",
   "metadata": {},
   "outputs": [
    {
     "data": {
      "text/html": [
       "<style>\n",
       ".list-inline {list-style: none; margin:0; padding: 0}\n",
       ".list-inline>li {display: inline-block}\n",
       ".list-inline>li:not(:last-child)::after {content: \"\\00b7\"; padding: 0 .5ex}\n",
       "</style>\n",
       "<ol class=list-inline><li>'ANGEL2'</li><li>'SLC47A2'</li><li>'TNMD'</li><li>'MFSD11'</li><li>'HSD17B2'</li><li>'COX19'</li><li>'SNTG2'</li><li>'WDR72'</li><li>'TEF'</li><li>'KRBOX4'</li><li>'RNF130'</li><li>'CNOT11'</li><li>'ITM2C'</li><li>'EPHX2'</li><li>'SLC25A33'</li></ol>\n"
      ],
      "text/latex": [
       "\\begin{enumerate*}\n",
       "\\item 'ANGEL2'\n",
       "\\item 'SLC47A2'\n",
       "\\item 'TNMD'\n",
       "\\item 'MFSD11'\n",
       "\\item 'HSD17B2'\n",
       "\\item 'COX19'\n",
       "\\item 'SNTG2'\n",
       "\\item 'WDR72'\n",
       "\\item 'TEF'\n",
       "\\item 'KRBOX4'\n",
       "\\item 'RNF130'\n",
       "\\item 'CNOT11'\n",
       "\\item 'ITM2C'\n",
       "\\item 'EPHX2'\n",
       "\\item 'SLC25A33'\n",
       "\\end{enumerate*}\n"
      ],
      "text/markdown": [
       "1. 'ANGEL2'\n",
       "2. 'SLC47A2'\n",
       "3. 'TNMD'\n",
       "4. 'MFSD11'\n",
       "5. 'HSD17B2'\n",
       "6. 'COX19'\n",
       "7. 'SNTG2'\n",
       "8. 'WDR72'\n",
       "9. 'TEF'\n",
       "10. 'KRBOX4'\n",
       "11. 'RNF130'\n",
       "12. 'CNOT11'\n",
       "13. 'ITM2C'\n",
       "14. 'EPHX2'\n",
       "15. 'SLC25A33'\n",
       "\n",
       "\n"
      ],
      "text/plain": [
       " [1] \"ANGEL2\"   \"SLC47A2\"  \"TNMD\"     \"MFSD11\"   \"HSD17B2\"  \"COX19\"   \n",
       " [7] \"SNTG2\"    \"WDR72\"    \"TEF\"      \"KRBOX4\"   \"RNF130\"   \"CNOT11\"  \n",
       "[13] \"ITM2C\"    \"EPHX2\"    \"SLC25A33\""
      ]
     },
     "metadata": {},
     "output_type": "display_data"
    }
   ],
   "source": [
    "a"
   ]
  },
  {
   "cell_type": "code",
   "execution_count": 38,
   "id": "e036efed-c5c6-4fbd-95a2-10527bf30650",
   "metadata": {},
   "outputs": [],
   "source": [
    "boruta.variable.imp2 = boruta.variable.imp %>% dplyr::filter(finalDecision %in% c('Confirmed','Tentative')) %>% dplyr::select(Variable) %>% unique()\n",
    "Boruta.gene = as.vector(boruta.variable.imp2$Variable)"
   ]
  },
  {
   "cell_type": "code",
   "execution_count": 39,
   "id": "f14e2d32-733e-4d6c-9025-d96fe3b53dcc",
   "metadata": {},
   "outputs": [
    {
     "data": {
      "text/html": [
       "<style>\n",
       ".list-inline {list-style: none; margin:0; padding: 0}\n",
       ".list-inline>li {display: inline-block}\n",
       ".list-inline>li:not(:last-child)::after {content: \"\\00b7\"; padding: 0 .5ex}\n",
       "</style>\n",
       "<ol class=list-inline><li>'ANGEL2'</li><li>'CNOT11'</li><li>'HSD17B2'</li><li>'MFSD11'</li><li>'PLA2G5'</li><li>'RNF130'</li><li>'SLC13A5'</li><li>'SLC47A2'</li><li>'TEF'</li><li>'TNMD'</li><li>'TXNDC2'</li></ol>\n"
      ],
      "text/latex": [
       "\\begin{enumerate*}\n",
       "\\item 'ANGEL2'\n",
       "\\item 'CNOT11'\n",
       "\\item 'HSD17B2'\n",
       "\\item 'MFSD11'\n",
       "\\item 'PLA2G5'\n",
       "\\item 'RNF130'\n",
       "\\item 'SLC13A5'\n",
       "\\item 'SLC47A2'\n",
       "\\item 'TEF'\n",
       "\\item 'TNMD'\n",
       "\\item 'TXNDC2'\n",
       "\\end{enumerate*}\n"
      ],
      "text/markdown": [
       "1. 'ANGEL2'\n",
       "2. 'CNOT11'\n",
       "3. 'HSD17B2'\n",
       "4. 'MFSD11'\n",
       "5. 'PLA2G5'\n",
       "6. 'RNF130'\n",
       "7. 'SLC13A5'\n",
       "8. 'SLC47A2'\n",
       "9. 'TEF'\n",
       "10. 'TNMD'\n",
       "11. 'TXNDC2'\n",
       "\n",
       "\n"
      ],
      "text/plain": [
       " [1] \"ANGEL2\"  \"CNOT11\"  \"HSD17B2\" \"MFSD11\"  \"PLA2G5\"  \"RNF130\"  \"SLC13A5\"\n",
       " [8] \"SLC47A2\" \"TEF\"     \"TNMD\"    \"TXNDC2\" "
      ]
     },
     "metadata": {},
     "output_type": "display_data"
    }
   ],
   "source": [
    "Boruta.gene"
   ]
  },
  {
   "cell_type": "code",
   "execution_count": 40,
   "id": "0a96cc4e-71d6-496c-aab6-22aaa7a75a8c",
   "metadata": {},
   "outputs": [],
   "source": [
    "rf = names(rfGenes)[1:10]"
   ]
  },
  {
   "cell_type": "code",
   "execution_count": 41,
   "id": "bba466a2-6b3e-4ece-ae2f-059182576ab4",
   "metadata": {},
   "outputs": [
    {
     "data": {
      "text/html": [
       "<style>\n",
       ".list-inline {list-style: none; margin:0; padding: 0}\n",
       ".list-inline>li {display: inline-block}\n",
       ".list-inline>li:not(:last-child)::after {content: \"\\00b7\"; padding: 0 .5ex}\n",
       "</style>\n",
       "<ol class=list-inline><li>'TNMD'</li><li>'ANGEL2'</li><li>'SLC13A5'</li><li>'RNF130'</li><li>'MFSD11'</li><li>'TEF'</li><li>'SLC47A2'</li><li>'CNOT11'</li><li>'PLA2G5'</li><li>'TXNDC2'</li></ol>\n"
      ],
      "text/latex": [
       "\\begin{enumerate*}\n",
       "\\item 'TNMD'\n",
       "\\item 'ANGEL2'\n",
       "\\item 'SLC13A5'\n",
       "\\item 'RNF130'\n",
       "\\item 'MFSD11'\n",
       "\\item 'TEF'\n",
       "\\item 'SLC47A2'\n",
       "\\item 'CNOT11'\n",
       "\\item 'PLA2G5'\n",
       "\\item 'TXNDC2'\n",
       "\\end{enumerate*}\n"
      ],
      "text/markdown": [
       "1. 'TNMD'\n",
       "2. 'ANGEL2'\n",
       "3. 'SLC13A5'\n",
       "4. 'RNF130'\n",
       "5. 'MFSD11'\n",
       "6. 'TEF'\n",
       "7. 'SLC47A2'\n",
       "8. 'CNOT11'\n",
       "9. 'PLA2G5'\n",
       "10. 'TXNDC2'\n",
       "\n",
       "\n"
      ],
      "text/plain": [
       " [1] \"TNMD\"    \"ANGEL2\"  \"SLC13A5\" \"RNF130\"  \"MFSD11\"  \"TEF\"     \"SLC47A2\"\n",
       " [8] \"CNOT11\"  \"PLA2G5\"  \"TXNDC2\" "
      ]
     },
     "metadata": {},
     "output_type": "display_data"
    }
   ],
   "source": [
    "rf"
   ]
  },
  {
   "cell_type": "code",
   "execution_count": 42,
   "id": "7fd27049-4304-4669-8710-80c6e0fc88f2",
   "metadata": {},
   "outputs": [
    {
     "data": {
      "text/html": [
       "'SLC47A2'"
      ],
      "text/latex": [
       "'SLC47A2'"
      ],
      "text/markdown": [
       "'SLC47A2'"
      ],
      "text/plain": [
       "[1] \"SLC47A2\""
      ]
     },
     "metadata": {},
     "output_type": "display_data"
    }
   ],
   "source": [
    "gene_1se"
   ]
  },
  {
   "cell_type": "code",
   "execution_count": 43,
   "id": "fefca6fb-2fa0-4008-bba4-2855806e4921",
   "metadata": {},
   "outputs": [],
   "source": [
    "c = intersect(rf,a)"
   ]
  },
  {
   "cell_type": "code",
   "execution_count": 44,
   "id": "95cc8239-9b25-4461-b992-90a65f34d908",
   "metadata": {},
   "outputs": [
    {
     "data": {
      "text/html": [
       "<style>\n",
       ".list-inline {list-style: none; margin:0; padding: 0}\n",
       ".list-inline>li {display: inline-block}\n",
       ".list-inline>li:not(:last-child)::after {content: \"\\00b7\"; padding: 0 .5ex}\n",
       "</style>\n",
       "<ol class=list-inline><li>'TNMD'</li><li>'ANGEL2'</li><li>'RNF130'</li><li>'MFSD11'</li><li>'TEF'</li><li>'SLC47A2'</li><li>'CNOT11'</li></ol>\n"
      ],
      "text/latex": [
       "\\begin{enumerate*}\n",
       "\\item 'TNMD'\n",
       "\\item 'ANGEL2'\n",
       "\\item 'RNF130'\n",
       "\\item 'MFSD11'\n",
       "\\item 'TEF'\n",
       "\\item 'SLC47A2'\n",
       "\\item 'CNOT11'\n",
       "\\end{enumerate*}\n"
      ],
      "text/markdown": [
       "1. 'TNMD'\n",
       "2. 'ANGEL2'\n",
       "3. 'RNF130'\n",
       "4. 'MFSD11'\n",
       "5. 'TEF'\n",
       "6. 'SLC47A2'\n",
       "7. 'CNOT11'\n",
       "\n",
       "\n"
      ],
      "text/plain": [
       "[1] \"TNMD\"    \"ANGEL2\"  \"RNF130\"  \"MFSD11\"  \"TEF\"     \"SLC47A2\" \"CNOT11\" "
      ]
     },
     "metadata": {},
     "output_type": "display_data"
    }
   ],
   "source": [
    "c"
   ]
  },
  {
   "cell_type": "code",
   "execution_count": 45,
   "id": "1ff1a0b0-c719-42d7-a090-c4ac909a3d34",
   "metadata": {},
   "outputs": [],
   "source": [
    "s  = intersect(rf,a)"
   ]
  },
  {
   "cell_type": "code",
   "execution_count": 46,
   "id": "17707906-309e-4d6d-8b59-b0e4c0802d60",
   "metadata": {},
   "outputs": [
    {
     "data": {
      "text/html": [
       "<style>\n",
       ".list-inline {list-style: none; margin:0; padding: 0}\n",
       ".list-inline>li {display: inline-block}\n",
       ".list-inline>li:not(:last-child)::after {content: \"\\00b7\"; padding: 0 .5ex}\n",
       "</style>\n",
       "<ol class=list-inline><li>'TNMD'</li><li>'ANGEL2'</li><li>'RNF130'</li><li>'MFSD11'</li><li>'TEF'</li><li>'SLC47A2'</li><li>'CNOT11'</li></ol>\n"
      ],
      "text/latex": [
       "\\begin{enumerate*}\n",
       "\\item 'TNMD'\n",
       "\\item 'ANGEL2'\n",
       "\\item 'RNF130'\n",
       "\\item 'MFSD11'\n",
       "\\item 'TEF'\n",
       "\\item 'SLC47A2'\n",
       "\\item 'CNOT11'\n",
       "\\end{enumerate*}\n"
      ],
      "text/markdown": [
       "1. 'TNMD'\n",
       "2. 'ANGEL2'\n",
       "3. 'RNF130'\n",
       "4. 'MFSD11'\n",
       "5. 'TEF'\n",
       "6. 'SLC47A2'\n",
       "7. 'CNOT11'\n",
       "\n",
       "\n"
      ],
      "text/plain": [
       "[1] \"TNMD\"    \"ANGEL2\"  \"RNF130\"  \"MFSD11\"  \"TEF\"     \"SLC47A2\" \"CNOT11\" "
      ]
     },
     "metadata": {},
     "output_type": "display_data"
    }
   ],
   "source": [
    "s"
   ]
  },
  {
   "cell_type": "code",
   "execution_count": 47,
   "id": "a7637f26-3102-4547-b863-487852b8ece4",
   "metadata": {},
   "outputs": [
    {
     "data": {
      "text/html": [
       "<style>\n",
       ".list-inline {list-style: none; margin:0; padding: 0}\n",
       ".list-inline>li {display: inline-block}\n",
       ".list-inline>li:not(:last-child)::after {content: \"\\00b7\"; padding: 0 .5ex}\n",
       "</style>\n",
       "<ol class=list-inline><li>'ANGEL2'</li><li>'SLC47A2'</li><li>'TNMD'</li><li>'MFSD11'</li><li>'HSD17B2'</li><li>'COX19'</li><li>'SNTG2'</li><li>'WDR72'</li><li>'TEF'</li><li>'KRBOX4'</li><li>'RNF130'</li><li>'CNOT11'</li><li>'ITM2C'</li><li>'EPHX2'</li><li>'SLC25A33'</li></ol>\n"
      ],
      "text/latex": [
       "\\begin{enumerate*}\n",
       "\\item 'ANGEL2'\n",
       "\\item 'SLC47A2'\n",
       "\\item 'TNMD'\n",
       "\\item 'MFSD11'\n",
       "\\item 'HSD17B2'\n",
       "\\item 'COX19'\n",
       "\\item 'SNTG2'\n",
       "\\item 'WDR72'\n",
       "\\item 'TEF'\n",
       "\\item 'KRBOX4'\n",
       "\\item 'RNF130'\n",
       "\\item 'CNOT11'\n",
       "\\item 'ITM2C'\n",
       "\\item 'EPHX2'\n",
       "\\item 'SLC25A33'\n",
       "\\end{enumerate*}\n"
      ],
      "text/markdown": [
       "1. 'ANGEL2'\n",
       "2. 'SLC47A2'\n",
       "3. 'TNMD'\n",
       "4. 'MFSD11'\n",
       "5. 'HSD17B2'\n",
       "6. 'COX19'\n",
       "7. 'SNTG2'\n",
       "8. 'WDR72'\n",
       "9. 'TEF'\n",
       "10. 'KRBOX4'\n",
       "11. 'RNF130'\n",
       "12. 'CNOT11'\n",
       "13. 'ITM2C'\n",
       "14. 'EPHX2'\n",
       "15. 'SLC25A33'\n",
       "\n",
       "\n"
      ],
      "text/plain": [
       " [1] \"ANGEL2\"   \"SLC47A2\"  \"TNMD\"     \"MFSD11\"   \"HSD17B2\"  \"COX19\"   \n",
       " [7] \"SNTG2\"    \"WDR72\"    \"TEF\"      \"KRBOX4\"   \"RNF130\"   \"CNOT11\"  \n",
       "[13] \"ITM2C\"    \"EPHX2\"    \"SLC25A33\""
      ]
     },
     "metadata": {},
     "output_type": "display_data"
    }
   ],
   "source": [
    "a"
   ]
  },
  {
   "cell_type": "code",
   "execution_count": 48,
   "id": "36733460-ad9a-41ff-b6bd-8d60dc3e2b20",
   "metadata": {},
   "outputs": [],
   "source": [
    "b = intersect(a,Boruta.gene)"
   ]
  },
  {
   "cell_type": "code",
   "execution_count": 49,
   "id": "9c62a0f2-271b-41a9-8cf7-2f34116d5755",
   "metadata": {},
   "outputs": [
    {
     "data": {
      "text/html": [
       "<style>\n",
       ".list-inline {list-style: none; margin:0; padding: 0}\n",
       ".list-inline>li {display: inline-block}\n",
       ".list-inline>li:not(:last-child)::after {content: \"\\00b7\"; padding: 0 .5ex}\n",
       "</style>\n",
       "<ol class=list-inline><li>'ANGEL2'</li><li>'SLC47A2'</li><li>'TNMD'</li><li>'MFSD11'</li><li>'HSD17B2'</li><li>'TEF'</li><li>'RNF130'</li><li>'CNOT11'</li></ol>\n"
      ],
      "text/latex": [
       "\\begin{enumerate*}\n",
       "\\item 'ANGEL2'\n",
       "\\item 'SLC47A2'\n",
       "\\item 'TNMD'\n",
       "\\item 'MFSD11'\n",
       "\\item 'HSD17B2'\n",
       "\\item 'TEF'\n",
       "\\item 'RNF130'\n",
       "\\item 'CNOT11'\n",
       "\\end{enumerate*}\n"
      ],
      "text/markdown": [
       "1. 'ANGEL2'\n",
       "2. 'SLC47A2'\n",
       "3. 'TNMD'\n",
       "4. 'MFSD11'\n",
       "5. 'HSD17B2'\n",
       "6. 'TEF'\n",
       "7. 'RNF130'\n",
       "8. 'CNOT11'\n",
       "\n",
       "\n"
      ],
      "text/plain": [
       "[1] \"ANGEL2\"  \"SLC47A2\" \"TNMD\"    \"MFSD11\"  \"HSD17B2\" \"TEF\"     \"RNF130\" \n",
       "[8] \"CNOT11\" "
      ]
     },
     "metadata": {},
     "output_type": "display_data"
    }
   ],
   "source": [
    "b"
   ]
  },
  {
   "cell_type": "code",
   "execution_count": 50,
   "id": "213527d4-0b1b-4e07-9cb0-c60ae9c147c8",
   "metadata": {},
   "outputs": [],
   "source": [
    "expr4 = expr3"
   ]
  },
  {
   "cell_type": "code",
   "execution_count": 51,
   "id": "09091768-eee9-477e-b0f4-a0d287886d27",
   "metadata": {},
   "outputs": [],
   "source": [
    "expr4 = expr4[,c('Group',a)]"
   ]
  },
  {
   "cell_type": "code",
   "execution_count": 52,
   "id": "8ed43a61-fbbe-4a82-86b6-ecf83f9d4593",
   "metadata": {},
   "outputs": [],
   "source": [
    "#expr4 = expr4"
   ]
  },
  {
   "cell_type": "code",
   "execution_count": 53,
   "id": "a23c8a73-db72-44e0-a250-324f8eb46241",
   "metadata": {},
   "outputs": [
    {
     "name": "stderr",
     "output_type": "stream",
     "text": [
      "------------------------------------------------------------------------------\n",
      "\n",
      "You have loaded plyr after dplyr - this is likely to cause problems.\n",
      "If you need functions from both plyr and dplyr, please load plyr first, then dplyr:\n",
      "library(plyr); library(dplyr)\n",
      "\n",
      "------------------------------------------------------------------------------\n",
      "\n",
      "\n",
      "Attaching package: 'plyr'\n",
      "\n",
      "\n",
      "The following object is masked from 'package:purrr':\n",
      "\n",
      "    compact\n",
      "\n",
      "\n",
      "The following objects are masked from 'package:dplyr':\n",
      "\n",
      "    arrange, count, desc, failwith, id, mutate, rename, summarise,\n",
      "    summarize\n",
      "\n",
      "\n",
      "Loading required package: Hmisc\n",
      "\n",
      "Warning message:\n",
      "\"package 'Hmisc' was built under R version 4.2.3\"\n",
      "\n",
      "Attaching package: 'Hmisc'\n",
      "\n",
      "\n",
      "The following objects are masked from 'package:plyr':\n",
      "\n",
      "    is.discrete, summarize\n",
      "\n",
      "\n",
      "The following objects are masked from 'package:dplyr':\n",
      "\n",
      "    src, summarize\n",
      "\n",
      "\n",
      "The following objects are masked from 'package:base':\n",
      "\n",
      "    format.pval, units\n",
      "\n",
      "\n",
      "Loading required package: foreign\n",
      "\n",
      "Warning message:\n",
      "\"package 'foreign' was built under R version 4.2.3\"\n",
      "Loading required package: survival\n",
      "\n",
      "Warning message:\n",
      "\"package 'survival' was built under R version 4.2.3\"\n",
      "\n",
      "Attaching package: 'survival'\n",
      "\n",
      "\n",
      "The following object is masked from 'package:caret':\n",
      "\n",
      "    cluster\n",
      "\n",
      "\n",
      "Loading required package: MASS\n",
      "\n",
      "Warning message:\n",
      "\"package 'MASS' was built under R version 4.2.3\"\n",
      "\n",
      "Attaching package: 'MASS'\n",
      "\n",
      "\n",
      "The following object is masked from 'package:dplyr':\n",
      "\n",
      "    select\n",
      "\n",
      "\n",
      "Loading required package: nnet\n",
      "\n",
      "Warning message:\n",
      "\"package 'nnet' was built under R version 4.2.3\"\n",
      "Registered S3 method overwritten by 'epiDisplay':\n",
      "  method       from\n",
      "  print.lrtest rms \n",
      "\n",
      "\n",
      "Attaching package: 'epiDisplay'\n",
      "\n",
      "\n",
      "The following object is masked from 'package:rms':\n",
      "\n",
      "    lrtest\n",
      "\n",
      "\n",
      "The following object is masked from 'package:lattice':\n",
      "\n",
      "    dotplot\n",
      "\n",
      "\n",
      "The following object is masked from 'package:ggplot2':\n",
      "\n",
      "    alpha\n",
      "\n",
      "\n",
      "Waiting for profiling to be done...\n",
      "\n",
      "Waiting for profiling to be done...\n",
      "\n",
      "Waiting for profiling to be done...\n",
      "\n",
      "Waiting for profiling to be done...\n",
      "\n",
      "Waiting for profiling to be done...\n",
      "\n",
      "Waiting for profiling to be done...\n",
      "\n",
      "Waiting for profiling to be done...\n",
      "\n",
      "Waiting for profiling to be done...\n",
      "\n",
      "Waiting for profiling to be done...\n",
      "\n",
      "Waiting for profiling to be done...\n",
      "\n",
      "Waiting for profiling to be done...\n",
      "\n",
      "Waiting for profiling to be done...\n",
      "\n",
      "Waiting for profiling to be done...\n",
      "\n",
      "Waiting for profiling to be done...\n",
      "\n",
      "Waiting for profiling to be done...\n",
      "\n"
     ]
    },
    {
     "data": {
      "text/html": [
       "<table class=\"dataframe\">\n",
       "<caption>A data.frame: 15 x 8</caption>\n",
       "<thead>\n",
       "\t<tr><th></th><th scope=col>Estimate</th><th scope=col>Std..Error</th><th scope=col>z.value</th><th scope=col>Pr...z..</th><th scope=col>OR</th><th scope=col>X2.5..</th><th scope=col>X97.5..</th><th scope=col>Characteristics</th></tr>\n",
       "\t<tr><th></th><th scope=col>&lt;dbl&gt;</th><th scope=col>&lt;dbl&gt;</th><th scope=col>&lt;dbl&gt;</th><th scope=col>&lt;dbl&gt;</th><th scope=col>&lt;dbl&gt;</th><th scope=col>&lt;dbl&gt;</th><th scope=col>&lt;dbl&gt;</th><th scope=col>&lt;chr&gt;</th></tr>\n",
       "</thead>\n",
       "<tbody>\n",
       "\t<tr><th scope=row>ANGEL2</th><td> 1.89060334</td><td>0.7363232</td><td> 2.5676271</td><td>0.010239724</td><td>6.6233636</td><td>1.8768988</td><td>34.578042</td><td>ANGEL2  </td></tr>\n",
       "\t<tr><th scope=row>SLC47A2</th><td> 1.47133619</td><td>0.4874455</td><td> 3.0184627</td><td>0.002540607</td><td>4.3550504</td><td>1.8266692</td><td>12.642235</td><td>SLC47A2 </td></tr>\n",
       "\t<tr><th scope=row>TNMD</th><td> 0.29727477</td><td>0.1357112</td><td> 2.1904949</td><td>0.028488363</td><td>1.3461851</td><td>1.0495670</td><td> 1.808237</td><td>TNMD    </td></tr>\n",
       "\t<tr><th scope=row>MFSD11</th><td> 1.68486799</td><td>0.6431759</td><td> 2.6196069</td><td>0.008803119</td><td>5.3917391</td><td>1.7337320</td><td>22.512736</td><td>MFSD11  </td></tr>\n",
       "\t<tr><th scope=row>HSD17B2</th><td> 0.46764215</td><td>0.2269296</td><td> 2.0607362</td><td>0.039328209</td><td>1.5962261</td><td>1.0396067</td><td> 2.553558</td><td>HSD17B2 </td></tr>\n",
       "\t<tr><th scope=row>COX19</th><td> 1.55173460</td><td>0.6366901</td><td> 2.4371899</td><td>0.014801904</td><td>4.7196498</td><td>1.5162136</td><td>19.112086</td><td>COX19   </td></tr>\n",
       "\t<tr><th scope=row>SNTG2</th><td> 0.51890226</td><td>0.2278661</td><td> 2.2772243</td><td>0.022772835</td><td>1.6801822</td><td>1.1051959</td><td> 2.737712</td><td>SNTG2   </td></tr>\n",
       "\t<tr><th scope=row>WDR72</th><td> 0.40817746</td><td>0.1994632</td><td> 2.0463796</td><td>0.040719033</td><td>1.5040740</td><td>1.0286828</td><td> 2.264506</td><td>WDR72   </td></tr>\n",
       "\t<tr><th scope=row>TEF</th><td> 1.38755830</td><td>0.5902984</td><td> 2.3506048</td><td>0.018742931</td><td>4.0050590</td><td>1.4383940</td><td>14.863524</td><td>TEF     </td></tr>\n",
       "\t<tr><th scope=row>KRBOX4</th><td> 1.29188490</td><td>0.5428414</td><td> 2.3798569</td><td>0.017319361</td><td>3.6396405</td><td>1.3673343</td><td>11.891351</td><td>KRBOX4  </td></tr>\n",
       "\t<tr><th scope=row>RNF130</th><td> 1.44505582</td><td>0.5745092</td><td> 2.5152876</td><td>0.011893531</td><td>4.2420889</td><td>1.5211393</td><td>14.999611</td><td>RNF130  </td></tr>\n",
       "\t<tr><th scope=row>CNOT11</th><td> 1.65046172</td><td>0.6695539</td><td> 2.4650171</td><td>0.013700672</td><td>5.2093846</td><td>1.6088711</td><td>23.276378</td><td>CNOT11  </td></tr>\n",
       "\t<tr><th scope=row>ITM2C</th><td> 0.72592352</td><td>0.9502547</td><td> 0.7639252</td><td>0.444911796</td><td>2.0666388</td><td>0.3296156</td><td>14.854112</td><td>ITM2C   </td></tr>\n",
       "\t<tr><th scope=row>EPHX2</th><td> 0.33084497</td><td>0.6466430</td><td> 0.5116347</td><td>0.608906712</td><td>1.3921440</td><td>0.3928573</td><td> 5.247976</td><td>EPHX2   </td></tr>\n",
       "\t<tr><th scope=row>SLC25A33</th><td>-0.09218006</td><td>0.6470396</td><td>-0.1424643</td><td>0.886713247</td><td>0.9119409</td><td>0.2487270</td><td> 3.290174</td><td>SLC25A33</td></tr>\n",
       "</tbody>\n",
       "</table>\n"
      ],
      "text/latex": [
       "A data.frame: 15 x 8\n",
       "\\begin{tabular}{r|llllllll}\n",
       "  & Estimate & Std..Error & z.value & Pr...z.. & OR & X2.5.. & X97.5.. & Characteristics\\\\\n",
       "  & <dbl> & <dbl> & <dbl> & <dbl> & <dbl> & <dbl> & <dbl> & <chr>\\\\\n",
       "\\hline\n",
       "\tANGEL2 &  1.89060334 & 0.7363232 &  2.5676271 & 0.010239724 & 6.6233636 & 1.8768988 & 34.578042 & ANGEL2  \\\\\n",
       "\tSLC47A2 &  1.47133619 & 0.4874455 &  3.0184627 & 0.002540607 & 4.3550504 & 1.8266692 & 12.642235 & SLC47A2 \\\\\n",
       "\tTNMD &  0.29727477 & 0.1357112 &  2.1904949 & 0.028488363 & 1.3461851 & 1.0495670 &  1.808237 & TNMD    \\\\\n",
       "\tMFSD11 &  1.68486799 & 0.6431759 &  2.6196069 & 0.008803119 & 5.3917391 & 1.7337320 & 22.512736 & MFSD11  \\\\\n",
       "\tHSD17B2 &  0.46764215 & 0.2269296 &  2.0607362 & 0.039328209 & 1.5962261 & 1.0396067 &  2.553558 & HSD17B2 \\\\\n",
       "\tCOX19 &  1.55173460 & 0.6366901 &  2.4371899 & 0.014801904 & 4.7196498 & 1.5162136 & 19.112086 & COX19   \\\\\n",
       "\tSNTG2 &  0.51890226 & 0.2278661 &  2.2772243 & 0.022772835 & 1.6801822 & 1.1051959 &  2.737712 & SNTG2   \\\\\n",
       "\tWDR72 &  0.40817746 & 0.1994632 &  2.0463796 & 0.040719033 & 1.5040740 & 1.0286828 &  2.264506 & WDR72   \\\\\n",
       "\tTEF &  1.38755830 & 0.5902984 &  2.3506048 & 0.018742931 & 4.0050590 & 1.4383940 & 14.863524 & TEF     \\\\\n",
       "\tKRBOX4 &  1.29188490 & 0.5428414 &  2.3798569 & 0.017319361 & 3.6396405 & 1.3673343 & 11.891351 & KRBOX4  \\\\\n",
       "\tRNF130 &  1.44505582 & 0.5745092 &  2.5152876 & 0.011893531 & 4.2420889 & 1.5211393 & 14.999611 & RNF130  \\\\\n",
       "\tCNOT11 &  1.65046172 & 0.6695539 &  2.4650171 & 0.013700672 & 5.2093846 & 1.6088711 & 23.276378 & CNOT11  \\\\\n",
       "\tITM2C &  0.72592352 & 0.9502547 &  0.7639252 & 0.444911796 & 2.0666388 & 0.3296156 & 14.854112 & ITM2C   \\\\\n",
       "\tEPHX2 &  0.33084497 & 0.6466430 &  0.5116347 & 0.608906712 & 1.3921440 & 0.3928573 &  5.247976 & EPHX2   \\\\\n",
       "\tSLC25A33 & -0.09218006 & 0.6470396 & -0.1424643 & 0.886713247 & 0.9119409 & 0.2487270 &  3.290174 & SLC25A33\\\\\n",
       "\\end{tabular}\n"
      ],
      "text/markdown": [
       "\n",
       "A data.frame: 15 x 8\n",
       "\n",
       "| <!--/--> | Estimate &lt;dbl&gt; | Std..Error &lt;dbl&gt; | z.value &lt;dbl&gt; | Pr...z.. &lt;dbl&gt; | OR &lt;dbl&gt; | X2.5.. &lt;dbl&gt; | X97.5.. &lt;dbl&gt; | Characteristics &lt;chr&gt; |\n",
       "|---|---|---|---|---|---|---|---|---|\n",
       "| ANGEL2 |  1.89060334 | 0.7363232 |  2.5676271 | 0.010239724 | 6.6233636 | 1.8768988 | 34.578042 | ANGEL2   |\n",
       "| SLC47A2 |  1.47133619 | 0.4874455 |  3.0184627 | 0.002540607 | 4.3550504 | 1.8266692 | 12.642235 | SLC47A2  |\n",
       "| TNMD |  0.29727477 | 0.1357112 |  2.1904949 | 0.028488363 | 1.3461851 | 1.0495670 |  1.808237 | TNMD     |\n",
       "| MFSD11 |  1.68486799 | 0.6431759 |  2.6196069 | 0.008803119 | 5.3917391 | 1.7337320 | 22.512736 | MFSD11   |\n",
       "| HSD17B2 |  0.46764215 | 0.2269296 |  2.0607362 | 0.039328209 | 1.5962261 | 1.0396067 |  2.553558 | HSD17B2  |\n",
       "| COX19 |  1.55173460 | 0.6366901 |  2.4371899 | 0.014801904 | 4.7196498 | 1.5162136 | 19.112086 | COX19    |\n",
       "| SNTG2 |  0.51890226 | 0.2278661 |  2.2772243 | 0.022772835 | 1.6801822 | 1.1051959 |  2.737712 | SNTG2    |\n",
       "| WDR72 |  0.40817746 | 0.1994632 |  2.0463796 | 0.040719033 | 1.5040740 | 1.0286828 |  2.264506 | WDR72    |\n",
       "| TEF |  1.38755830 | 0.5902984 |  2.3506048 | 0.018742931 | 4.0050590 | 1.4383940 | 14.863524 | TEF      |\n",
       "| KRBOX4 |  1.29188490 | 0.5428414 |  2.3798569 | 0.017319361 | 3.6396405 | 1.3673343 | 11.891351 | KRBOX4   |\n",
       "| RNF130 |  1.44505582 | 0.5745092 |  2.5152876 | 0.011893531 | 4.2420889 | 1.5211393 | 14.999611 | RNF130   |\n",
       "| CNOT11 |  1.65046172 | 0.6695539 |  2.4650171 | 0.013700672 | 5.2093846 | 1.6088711 | 23.276378 | CNOT11   |\n",
       "| ITM2C |  0.72592352 | 0.9502547 |  0.7639252 | 0.444911796 | 2.0666388 | 0.3296156 | 14.854112 | ITM2C    |\n",
       "| EPHX2 |  0.33084497 | 0.6466430 |  0.5116347 | 0.608906712 | 1.3921440 | 0.3928573 |  5.247976 | EPHX2    |\n",
       "| SLC25A33 | -0.09218006 | 0.6470396 | -0.1424643 | 0.886713247 | 0.9119409 | 0.2487270 |  3.290174 | SLC25A33 |\n",
       "\n"
      ],
      "text/plain": [
       "         Estimate    Std..Error z.value    Pr...z..    OR        X2.5..   \n",
       "ANGEL2    1.89060334 0.7363232   2.5676271 0.010239724 6.6233636 1.8768988\n",
       "SLC47A2   1.47133619 0.4874455   3.0184627 0.002540607 4.3550504 1.8266692\n",
       "TNMD      0.29727477 0.1357112   2.1904949 0.028488363 1.3461851 1.0495670\n",
       "MFSD11    1.68486799 0.6431759   2.6196069 0.008803119 5.3917391 1.7337320\n",
       "HSD17B2   0.46764215 0.2269296   2.0607362 0.039328209 1.5962261 1.0396067\n",
       "COX19     1.55173460 0.6366901   2.4371899 0.014801904 4.7196498 1.5162136\n",
       "SNTG2     0.51890226 0.2278661   2.2772243 0.022772835 1.6801822 1.1051959\n",
       "WDR72     0.40817746 0.1994632   2.0463796 0.040719033 1.5040740 1.0286828\n",
       "TEF       1.38755830 0.5902984   2.3506048 0.018742931 4.0050590 1.4383940\n",
       "KRBOX4    1.29188490 0.5428414   2.3798569 0.017319361 3.6396405 1.3673343\n",
       "RNF130    1.44505582 0.5745092   2.5152876 0.011893531 4.2420889 1.5211393\n",
       "CNOT11    1.65046172 0.6695539   2.4650171 0.013700672 5.2093846 1.6088711\n",
       "ITM2C     0.72592352 0.9502547   0.7639252 0.444911796 2.0666388 0.3296156\n",
       "EPHX2     0.33084497 0.6466430   0.5116347 0.608906712 1.3921440 0.3928573\n",
       "SLC25A33 -0.09218006 0.6470396  -0.1424643 0.886713247 0.9119409 0.2487270\n",
       "         X97.5..   Characteristics\n",
       "ANGEL2   34.578042 ANGEL2         \n",
       "SLC47A2  12.642235 SLC47A2        \n",
       "TNMD      1.808237 TNMD           \n",
       "MFSD11   22.512736 MFSD11         \n",
       "HSD17B2   2.553558 HSD17B2        \n",
       "COX19    19.112086 COX19          \n",
       "SNTG2     2.737712 SNTG2          \n",
       "WDR72     2.264506 WDR72          \n",
       "TEF      14.863524 TEF            \n",
       "KRBOX4   11.891351 KRBOX4         \n",
       "RNF130   14.999611 RNF130         \n",
       "CNOT11   23.276378 CNOT11         \n",
       "ITM2C    14.854112 ITM2C          \n",
       "EPHX2     5.247976 EPHX2          \n",
       "SLC25A33  3.290174 SLC25A33       "
      ]
     },
     "metadata": {},
     "output_type": "display_data"
    },
    {
     "data": {
      "text/html": [
       "<table class=\"dataframe\">\n",
       "<caption>A data.frame: 12 x 6</caption>\n",
       "<thead>\n",
       "\t<tr><th></th><th scope=col>Estimate</th><th scope=col>P</th><th scope=col>OR</th><th scope=col>CIlower</th><th scope=col>CIupper</th><th scope=col>Characteristics</th></tr>\n",
       "\t<tr><th></th><th scope=col>&lt;dbl&gt;</th><th scope=col>&lt;dbl&gt;</th><th scope=col>&lt;dbl&gt;</th><th scope=col>&lt;dbl&gt;</th><th scope=col>&lt;dbl&gt;</th><th scope=col>&lt;chr&gt;</th></tr>\n",
       "</thead>\n",
       "<tbody>\n",
       "\t<tr><th scope=row>ANGEL2</th><td>1.8906033</td><td>0.010239724</td><td>6.623364</td><td>1.876899</td><td>34.578042</td><td>ANGEL2 </td></tr>\n",
       "\t<tr><th scope=row>SLC47A2</th><td>1.4713362</td><td>0.002540607</td><td>4.355050</td><td>1.826669</td><td>12.642235</td><td>SLC47A2</td></tr>\n",
       "\t<tr><th scope=row>TNMD</th><td>0.2972748</td><td>0.028488363</td><td>1.346185</td><td>1.049567</td><td> 1.808237</td><td>TNMD   </td></tr>\n",
       "\t<tr><th scope=row>MFSD11</th><td>1.6848680</td><td>0.008803119</td><td>5.391739</td><td>1.733732</td><td>22.512736</td><td>MFSD11 </td></tr>\n",
       "\t<tr><th scope=row>HSD17B2</th><td>0.4676421</td><td>0.039328209</td><td>1.596226</td><td>1.039607</td><td> 2.553558</td><td>HSD17B2</td></tr>\n",
       "\t<tr><th scope=row>COX19</th><td>1.5517346</td><td>0.014801904</td><td>4.719650</td><td>1.516214</td><td>19.112086</td><td>COX19  </td></tr>\n",
       "\t<tr><th scope=row>SNTG2</th><td>0.5189023</td><td>0.022772835</td><td>1.680182</td><td>1.105196</td><td> 2.737712</td><td>SNTG2  </td></tr>\n",
       "\t<tr><th scope=row>WDR72</th><td>0.4081775</td><td>0.040719033</td><td>1.504074</td><td>1.028683</td><td> 2.264506</td><td>WDR72  </td></tr>\n",
       "\t<tr><th scope=row>TEF</th><td>1.3875583</td><td>0.018742931</td><td>4.005059</td><td>1.438394</td><td>14.863524</td><td>TEF    </td></tr>\n",
       "\t<tr><th scope=row>KRBOX4</th><td>1.2918849</td><td>0.017319361</td><td>3.639640</td><td>1.367334</td><td>11.891351</td><td>KRBOX4 </td></tr>\n",
       "\t<tr><th scope=row>RNF130</th><td>1.4450558</td><td>0.011893531</td><td>4.242089</td><td>1.521139</td><td>14.999611</td><td>RNF130 </td></tr>\n",
       "\t<tr><th scope=row>CNOT11</th><td>1.6504617</td><td>0.013700672</td><td>5.209385</td><td>1.608871</td><td>23.276378</td><td>CNOT11 </td></tr>\n",
       "</tbody>\n",
       "</table>\n"
      ],
      "text/latex": [
       "A data.frame: 12 x 6\n",
       "\\begin{tabular}{r|llllll}\n",
       "  & Estimate & P & OR & CIlower & CIupper & Characteristics\\\\\n",
       "  & <dbl> & <dbl> & <dbl> & <dbl> & <dbl> & <chr>\\\\\n",
       "\\hline\n",
       "\tANGEL2 & 1.8906033 & 0.010239724 & 6.623364 & 1.876899 & 34.578042 & ANGEL2 \\\\\n",
       "\tSLC47A2 & 1.4713362 & 0.002540607 & 4.355050 & 1.826669 & 12.642235 & SLC47A2\\\\\n",
       "\tTNMD & 0.2972748 & 0.028488363 & 1.346185 & 1.049567 &  1.808237 & TNMD   \\\\\n",
       "\tMFSD11 & 1.6848680 & 0.008803119 & 5.391739 & 1.733732 & 22.512736 & MFSD11 \\\\\n",
       "\tHSD17B2 & 0.4676421 & 0.039328209 & 1.596226 & 1.039607 &  2.553558 & HSD17B2\\\\\n",
       "\tCOX19 & 1.5517346 & 0.014801904 & 4.719650 & 1.516214 & 19.112086 & COX19  \\\\\n",
       "\tSNTG2 & 0.5189023 & 0.022772835 & 1.680182 & 1.105196 &  2.737712 & SNTG2  \\\\\n",
       "\tWDR72 & 0.4081775 & 0.040719033 & 1.504074 & 1.028683 &  2.264506 & WDR72  \\\\\n",
       "\tTEF & 1.3875583 & 0.018742931 & 4.005059 & 1.438394 & 14.863524 & TEF    \\\\\n",
       "\tKRBOX4 & 1.2918849 & 0.017319361 & 3.639640 & 1.367334 & 11.891351 & KRBOX4 \\\\\n",
       "\tRNF130 & 1.4450558 & 0.011893531 & 4.242089 & 1.521139 & 14.999611 & RNF130 \\\\\n",
       "\tCNOT11 & 1.6504617 & 0.013700672 & 5.209385 & 1.608871 & 23.276378 & CNOT11 \\\\\n",
       "\\end{tabular}\n"
      ],
      "text/markdown": [
       "\n",
       "A data.frame: 12 x 6\n",
       "\n",
       "| <!--/--> | Estimate &lt;dbl&gt; | P &lt;dbl&gt; | OR &lt;dbl&gt; | CIlower &lt;dbl&gt; | CIupper &lt;dbl&gt; | Characteristics &lt;chr&gt; |\n",
       "|---|---|---|---|---|---|---|\n",
       "| ANGEL2 | 1.8906033 | 0.010239724 | 6.623364 | 1.876899 | 34.578042 | ANGEL2  |\n",
       "| SLC47A2 | 1.4713362 | 0.002540607 | 4.355050 | 1.826669 | 12.642235 | SLC47A2 |\n",
       "| TNMD | 0.2972748 | 0.028488363 | 1.346185 | 1.049567 |  1.808237 | TNMD    |\n",
       "| MFSD11 | 1.6848680 | 0.008803119 | 5.391739 | 1.733732 | 22.512736 | MFSD11  |\n",
       "| HSD17B2 | 0.4676421 | 0.039328209 | 1.596226 | 1.039607 |  2.553558 | HSD17B2 |\n",
       "| COX19 | 1.5517346 | 0.014801904 | 4.719650 | 1.516214 | 19.112086 | COX19   |\n",
       "| SNTG2 | 0.5189023 | 0.022772835 | 1.680182 | 1.105196 |  2.737712 | SNTG2   |\n",
       "| WDR72 | 0.4081775 | 0.040719033 | 1.504074 | 1.028683 |  2.264506 | WDR72   |\n",
       "| TEF | 1.3875583 | 0.018742931 | 4.005059 | 1.438394 | 14.863524 | TEF     |\n",
       "| KRBOX4 | 1.2918849 | 0.017319361 | 3.639640 | 1.367334 | 11.891351 | KRBOX4  |\n",
       "| RNF130 | 1.4450558 | 0.011893531 | 4.242089 | 1.521139 | 14.999611 | RNF130  |\n",
       "| CNOT11 | 1.6504617 | 0.013700672 | 5.209385 | 1.608871 | 23.276378 | CNOT11  |\n",
       "\n"
      ],
      "text/plain": [
       "        Estimate  P           OR       CIlower  CIupper   Characteristics\n",
       "ANGEL2  1.8906033 0.010239724 6.623364 1.876899 34.578042 ANGEL2         \n",
       "SLC47A2 1.4713362 0.002540607 4.355050 1.826669 12.642235 SLC47A2        \n",
       "TNMD    0.2972748 0.028488363 1.346185 1.049567  1.808237 TNMD           \n",
       "MFSD11  1.6848680 0.008803119 5.391739 1.733732 22.512736 MFSD11         \n",
       "HSD17B2 0.4676421 0.039328209 1.596226 1.039607  2.553558 HSD17B2        \n",
       "COX19   1.5517346 0.014801904 4.719650 1.516214 19.112086 COX19          \n",
       "SNTG2   0.5189023 0.022772835 1.680182 1.105196  2.737712 SNTG2          \n",
       "WDR72   0.4081775 0.040719033 1.504074 1.028683  2.264506 WDR72          \n",
       "TEF     1.3875583 0.018742931 4.005059 1.438394 14.863524 TEF            \n",
       "KRBOX4  1.2918849 0.017319361 3.639640 1.367334 11.891351 KRBOX4         \n",
       "RNF130  1.4450558 0.011893531 4.242089 1.521139 14.999611 RNF130         \n",
       "CNOT11  1.6504617 0.013700672 5.209385 1.608871 23.276378 CNOT11         "
      ]
     },
     "metadata": {},
     "output_type": "display_data"
    },
    {
     "data": {
      "text/html": [
       "<style>\n",
       ".list-inline {list-style: none; margin:0; padding: 0}\n",
       ".list-inline>li {display: inline-block}\n",
       ".list-inline>li:not(:last-child)::after {content: \"\\00b7\"; padding: 0 .5ex}\n",
       "</style>\n",
       "<ol class=list-inline><li>'ANGEL2'</li><li>'SLC47A2'</li><li>'TNMD'</li><li>'MFSD11'</li><li>'HSD17B2'</li><li>'COX19'</li><li>'SNTG2'</li><li>'WDR72'</li><li>'TEF'</li><li>'KRBOX4'</li><li>'RNF130'</li><li>'CNOT11'</li></ol>\n"
      ],
      "text/latex": [
       "\\begin{enumerate*}\n",
       "\\item 'ANGEL2'\n",
       "\\item 'SLC47A2'\n",
       "\\item 'TNMD'\n",
       "\\item 'MFSD11'\n",
       "\\item 'HSD17B2'\n",
       "\\item 'COX19'\n",
       "\\item 'SNTG2'\n",
       "\\item 'WDR72'\n",
       "\\item 'TEF'\n",
       "\\item 'KRBOX4'\n",
       "\\item 'RNF130'\n",
       "\\item 'CNOT11'\n",
       "\\end{enumerate*}\n"
      ],
      "text/markdown": [
       "1. 'ANGEL2'\n",
       "2. 'SLC47A2'\n",
       "3. 'TNMD'\n",
       "4. 'MFSD11'\n",
       "5. 'HSD17B2'\n",
       "6. 'COX19'\n",
       "7. 'SNTG2'\n",
       "8. 'WDR72'\n",
       "9. 'TEF'\n",
       "10. 'KRBOX4'\n",
       "11. 'RNF130'\n",
       "12. 'CNOT11'\n",
       "\n",
       "\n"
      ],
      "text/plain": [
       " [1] \"ANGEL2\"  \"SLC47A2\" \"TNMD\"    \"MFSD11\"  \"HSD17B2\" \"COX19\"   \"SNTG2\"  \n",
       " [8] \"WDR72\"   \"TEF\"     \"KRBOX4\"  \"RNF130\"  \"CNOT11\" "
      ]
     },
     "metadata": {},
     "output_type": "display_data"
    }
   ],
   "source": [
    "#结果合并需要的包\n",
    "library(plyr)\n",
    "#可进行logistic回归的包\n",
    "library(rms)#可实现逻辑回归模型（lrm）\n",
    "library(epiDisplay)#快速输出OR、95%CI、P\n",
    "#library(gtsummary)#精美三线表（但，95%CI有误）\n",
    "\n",
    "varsU<-names(expr4[,2:dim(expr4)[2]])\n",
    "\n",
    "Result<-c()\n",
    "for (i in 1:length(varsU)){\n",
    "  fit<-glm(substitute(Group~x,list(x=as.name(varsU[i]))),data=expr4,family=binomial())\n",
    "  fitSum<-summary(fit)\n",
    "  result1<-c()\n",
    "  result1<-rbind(result1,fitSum$coef)\n",
    "  OR<-exp(fitSum$coef[,'Estimate'])\n",
    "  result1<-data.frame(cbind(result1,cbind(OR,exp(confint(fit)))))\n",
    "  result1$Characteristics<-varsU[i]   #添加变量名\n",
    "  Result<-rbind(Result,result1[-1,])#[-1,],删除常数项\n",
    "}\n",
    "\n",
    "Result\n",
    "\n",
    "Uni_log<-data.frame(Result[,c(1,4:8)]) #提取\"P\",\"OR\",\"CIlower\",\"CIupper\"和变量名\n",
    "\n",
    "colnames(Uni_log)[2:5]<-c(\"P\",\"OR\",\"CIlower\",\"CIupper\")#变量重命名\n",
    "\n",
    "ExtractVar<-unique(Uni_log$Characteristics[Uni_log$\"P\"<0.05]) \n",
    "\n",
    "tzgene = Uni_log %>% dplyr::filter(P < 0.05) %>% rownames()\n",
    "\n",
    "\n",
    "Uni_log[tzgene,]\n",
    "\n",
    "### 多因素分析\n",
    "\n",
    "tzgene\n",
    "\n",
    "data = expr4[,c('Group',tzgene)]"
   ]
  },
  {
   "cell_type": "code",
   "execution_count": 54,
   "id": "d09d5fb1-b54b-4f0a-a8ad-19c4fa653d37",
   "metadata": {},
   "outputs": [
    {
     "data": {
      "text/plain": [
       "\n",
       "Call:\n",
       "glm(formula = Group ~ ., family = binomial(), data = data)\n",
       "\n",
       "Deviance Residuals: \n",
       "    Min       1Q   Median       3Q      Max  \n",
       "-2.4314  -0.5999   0.1698   0.6830   2.1130  \n",
       "\n",
       "Coefficients:\n",
       "            Estimate Std. Error z value Pr(>|z|)  \n",
       "(Intercept) -22.8629     9.8921  -2.311   0.0208 *\n",
       "ANGEL2        2.0342     2.5536   0.797   0.4257  \n",
       "SLC47A2       2.3778     0.9235   2.575   0.0100 *\n",
       "TNMD          0.3038     0.2150   1.413   0.1577  \n",
       "MFSD11        2.6010     2.0737   1.254   0.2097  \n",
       "HSD17B2       0.6058     0.3405   1.779   0.0752 .\n",
       "COX19        -1.5741     1.9607  -0.803   0.4221  \n",
       "SNTG2         0.3174     0.3669   0.865   0.3870  \n",
       "WDR72         0.3462     0.2729   1.268   0.2046  \n",
       "TEF          -0.2947     1.3060  -0.226   0.8215  \n",
       "KRBOX4       -2.9883     2.1915  -1.364   0.1727  \n",
       "RNF130       -1.5377     2.0042  -0.767   0.4429  \n",
       "CNOT11        1.6503     2.1127   0.781   0.4347  \n",
       "---\n",
       "Signif. codes:  0 '***' 0.001 '**' 0.01 '*' 0.05 '.' 0.1 ' ' 1\n",
       "\n",
       "(Dispersion parameter for binomial family taken to be 1)\n",
       "\n",
       "    Null deviance: 81.774  on 58  degrees of freedom\n",
       "Residual deviance: 50.403  on 46  degrees of freedom\n",
       "AIC: 76.403\n",
       "\n",
       "Number of Fisher Scoring iterations: 5\n"
      ]
     },
     "metadata": {},
     "output_type": "display_data"
    },
    {
     "name": "stderr",
     "output_type": "stream",
     "text": [
      "Waiting for profiling to be done...\n",
      "\n"
     ]
    },
    {
     "data": {
      "text/html": [
       "<table class=\"dataframe\">\n",
       "<caption>A data.frame: 13 x 4</caption>\n",
       "<thead>\n",
       "\t<tr><th></th><th scope=col>B</th><th scope=col>Wald</th><th scope=col>OR_with_CI</th><th scope=col>P</th></tr>\n",
       "\t<tr><th></th><th scope=col>&lt;dbl&gt;</th><th scope=col>&lt;dbl&gt;</th><th scope=col>&lt;chr&gt;</th><th scope=col>&lt;chr&gt;</th></tr>\n",
       "</thead>\n",
       "<tbody>\n",
       "\t<tr><th scope=row>(Intercept)</th><td>-22.863</td><td>5.342</td><td>0(0~0.005)            </td><td>0.021</td></tr>\n",
       "\t<tr><th scope=row>ANGEL2</th><td>  2.034</td><td>0.635</td><td>7.646(0.059~1747.407) </td><td>0.426</td></tr>\n",
       "\t<tr><th scope=row>SLC47A2</th><td>  2.378</td><td>6.629</td><td>10.781(2.162~87.939)  </td><td>0.010</td></tr>\n",
       "\t<tr><th scope=row>TNMD</th><td>  0.304</td><td>1.996</td><td>1.355(0.917~2.172)    </td><td>0.158</td></tr>\n",
       "\t<tr><th scope=row>MFSD11</th><td>  2.601</td><td>1.573</td><td>13.478(0.268~1154.959)</td><td>0.210</td></tr>\n",
       "\t<tr><th scope=row>HSD17B2</th><td>  0.606</td><td>3.165</td><td>1.833(0.975~3.816)    </td><td>0.075</td></tr>\n",
       "\t<tr><th scope=row>COX19</th><td> -1.574</td><td>0.644</td><td>0.207(0.003~8.853)    </td><td>0.422</td></tr>\n",
       "\t<tr><th scope=row>SNTG2</th><td>  0.317</td><td>0.748</td><td>1.374(0.676~2.955)    </td><td>0.387</td></tr>\n",
       "\t<tr><th scope=row>WDR72</th><td>  0.346</td><td>1.609</td><td>1.414(0.835~2.491)    </td><td>0.205</td></tr>\n",
       "\t<tr><th scope=row>TEF</th><td> -0.295</td><td>0.051</td><td>0.745(0.05~9.84)      </td><td>0.821</td></tr>\n",
       "\t<tr><th scope=row>KRBOX4</th><td> -2.988</td><td>1.859</td><td>0.05(0~3.076)         </td><td>0.173</td></tr>\n",
       "\t<tr><th scope=row>RNF130</th><td> -1.538</td><td>0.589</td><td>0.215(0.003~10.425)   </td><td>0.443</td></tr>\n",
       "\t<tr><th scope=row>CNOT11</th><td>  1.650</td><td>0.610</td><td>5.209(0.08~395.745)   </td><td>0.435</td></tr>\n",
       "</tbody>\n",
       "</table>\n"
      ],
      "text/latex": [
       "A data.frame: 13 x 4\n",
       "\\begin{tabular}{r|llll}\n",
       "  & B & Wald & OR\\_with\\_CI & P\\\\\n",
       "  & <dbl> & <dbl> & <chr> & <chr>\\\\\n",
       "\\hline\n",
       "\t(Intercept) & -22.863 & 5.342 & 0(0\\textasciitilde{}0.005)             & 0.021\\\\\n",
       "\tANGEL2 &   2.034 & 0.635 & 7.646(0.059\\textasciitilde{}1747.407)  & 0.426\\\\\n",
       "\tSLC47A2 &   2.378 & 6.629 & 10.781(2.162\\textasciitilde{}87.939)   & 0.010\\\\\n",
       "\tTNMD &   0.304 & 1.996 & 1.355(0.917\\textasciitilde{}2.172)     & 0.158\\\\\n",
       "\tMFSD11 &   2.601 & 1.573 & 13.478(0.268\\textasciitilde{}1154.959) & 0.210\\\\\n",
       "\tHSD17B2 &   0.606 & 3.165 & 1.833(0.975\\textasciitilde{}3.816)     & 0.075\\\\\n",
       "\tCOX19 &  -1.574 & 0.644 & 0.207(0.003\\textasciitilde{}8.853)     & 0.422\\\\\n",
       "\tSNTG2 &   0.317 & 0.748 & 1.374(0.676\\textasciitilde{}2.955)     & 0.387\\\\\n",
       "\tWDR72 &   0.346 & 1.609 & 1.414(0.835\\textasciitilde{}2.491)     & 0.205\\\\\n",
       "\tTEF &  -0.295 & 0.051 & 0.745(0.05\\textasciitilde{}9.84)       & 0.821\\\\\n",
       "\tKRBOX4 &  -2.988 & 1.859 & 0.05(0\\textasciitilde{}3.076)          & 0.173\\\\\n",
       "\tRNF130 &  -1.538 & 0.589 & 0.215(0.003\\textasciitilde{}10.425)    & 0.443\\\\\n",
       "\tCNOT11 &   1.650 & 0.610 & 5.209(0.08\\textasciitilde{}395.745)    & 0.435\\\\\n",
       "\\end{tabular}\n"
      ],
      "text/markdown": [
       "\n",
       "A data.frame: 13 x 4\n",
       "\n",
       "| <!--/--> | B &lt;dbl&gt; | Wald &lt;dbl&gt; | OR_with_CI &lt;chr&gt; | P &lt;chr&gt; |\n",
       "|---|---|---|---|---|\n",
       "| (Intercept) | -22.863 | 5.342 | 0(0~0.005)             | 0.021 |\n",
       "| ANGEL2 |   2.034 | 0.635 | 7.646(0.059~1747.407)  | 0.426 |\n",
       "| SLC47A2 |   2.378 | 6.629 | 10.781(2.162~87.939)   | 0.010 |\n",
       "| TNMD |   0.304 | 1.996 | 1.355(0.917~2.172)     | 0.158 |\n",
       "| MFSD11 |   2.601 | 1.573 | 13.478(0.268~1154.959) | 0.210 |\n",
       "| HSD17B2 |   0.606 | 3.165 | 1.833(0.975~3.816)     | 0.075 |\n",
       "| COX19 |  -1.574 | 0.644 | 0.207(0.003~8.853)     | 0.422 |\n",
       "| SNTG2 |   0.317 | 0.748 | 1.374(0.676~2.955)     | 0.387 |\n",
       "| WDR72 |   0.346 | 1.609 | 1.414(0.835~2.491)     | 0.205 |\n",
       "| TEF |  -0.295 | 0.051 | 0.745(0.05~9.84)       | 0.821 |\n",
       "| KRBOX4 |  -2.988 | 1.859 | 0.05(0~3.076)          | 0.173 |\n",
       "| RNF130 |  -1.538 | 0.589 | 0.215(0.003~10.425)    | 0.443 |\n",
       "| CNOT11 |   1.650 | 0.610 | 5.209(0.08~395.745)    | 0.435 |\n",
       "\n"
      ],
      "text/plain": [
       "            B       Wald  OR_with_CI             P    \n",
       "(Intercept) -22.863 5.342 0(0~0.005)             0.021\n",
       "ANGEL2        2.034 0.635 7.646(0.059~1747.407)  0.426\n",
       "SLC47A2       2.378 6.629 10.781(2.162~87.939)   0.010\n",
       "TNMD          0.304 1.996 1.355(0.917~2.172)     0.158\n",
       "MFSD11        2.601 1.573 13.478(0.268~1154.959) 0.210\n",
       "HSD17B2       0.606 3.165 1.833(0.975~3.816)     0.075\n",
       "COX19        -1.574 0.644 0.207(0.003~8.853)     0.422\n",
       "SNTG2         0.317 0.748 1.374(0.676~2.955)     0.387\n",
       "WDR72         0.346 1.609 1.414(0.835~2.491)     0.205\n",
       "TEF          -0.295 0.051 0.745(0.05~9.84)       0.821\n",
       "KRBOX4       -2.988 1.859 0.05(0~3.076)          0.173\n",
       "RNF130       -1.538 0.589 0.215(0.003~10.425)    0.443\n",
       "CNOT11        1.650 0.610 5.209(0.08~395.745)    0.435"
      ]
     },
     "metadata": {},
     "output_type": "display_data"
    }
   ],
   "source": [
    "\n",
    "\n",
    "# train_sub = sample(nrow(data),9/10*nrow(data))\n",
    "# train_data = data[train_sub,]\n",
    "# test_data =data[-train_sub,]\n",
    "\n",
    "fit.reduce<-glm(Group~.,data=data,family=binomial())\n",
    "summary(fit.reduce)\n",
    "\n",
    "formatFit<-function(fit){\n",
    "  #取P值\n",
    "  p<-summary(fit)$coefficients[,4]\n",
    "  #wald值\n",
    "  wald<-summary(fit)$coefficients[,3]^2\n",
    "  #B值\n",
    "  valueB<-coef(fit)\n",
    "  #OR值\n",
    "  valueOR<-exp(coef(fit))\n",
    "  #OR值得95%CI\n",
    "  confitOR<-exp(confint(fit))\n",
    "  data.frame(\n",
    "    B=round(valueB,3),\n",
    "    Wald=round(wald,3),\n",
    "    OR_with_CI=paste(round(valueOR,3),\"(\",\n",
    "               round(confitOR[,1],3),\"~\",round(confitOR[,2],3),\")\",sep=\"\"),\n",
    "    P=format.pval(p,digits = 3,eps=0.001)\n",
    "  )\n",
    "}\n",
    "\n",
    "formatFit(fit.reduce)"
   ]
  },
  {
   "cell_type": "code",
   "execution_count": 55,
   "id": "f7da77f0-cf12-41b1-8f5a-0cf327535144",
   "metadata": {},
   "outputs": [
    {
     "data": {
      "text/plain": [
       "\n",
       "Call:\n",
       "glm(formula = Group ~ ., family = binomial(), data = data)\n",
       "\n",
       "Deviance Residuals: \n",
       "    Min       1Q   Median       3Q      Max  \n",
       "-2.4314  -0.5999   0.1698   0.6830   2.1130  \n",
       "\n",
       "Coefficients:\n",
       "            Estimate Std. Error z value Pr(>|z|)  \n",
       "(Intercept) -22.8629     9.8921  -2.311   0.0208 *\n",
       "ANGEL2        2.0342     2.5536   0.797   0.4257  \n",
       "SLC47A2       2.3778     0.9235   2.575   0.0100 *\n",
       "TNMD          0.3038     0.2150   1.413   0.1577  \n",
       "MFSD11        2.6010     2.0737   1.254   0.2097  \n",
       "HSD17B2       0.6058     0.3405   1.779   0.0752 .\n",
       "COX19        -1.5741     1.9607  -0.803   0.4221  \n",
       "SNTG2         0.3174     0.3669   0.865   0.3870  \n",
       "WDR72         0.3462     0.2729   1.268   0.2046  \n",
       "TEF          -0.2947     1.3060  -0.226   0.8215  \n",
       "KRBOX4       -2.9883     2.1915  -1.364   0.1727  \n",
       "RNF130       -1.5377     2.0042  -0.767   0.4429  \n",
       "CNOT11        1.6503     2.1127   0.781   0.4347  \n",
       "---\n",
       "Signif. codes:  0 '***' 0.001 '**' 0.01 '*' 0.05 '.' 0.1 ' ' 1\n",
       "\n",
       "(Dispersion parameter for binomial family taken to be 1)\n",
       "\n",
       "    Null deviance: 81.774  on 58  degrees of freedom\n",
       "Residual deviance: 50.403  on 46  degrees of freedom\n",
       "AIC: 76.403\n",
       "\n",
       "Number of Fisher Scoring iterations: 5\n"
      ]
     },
     "metadata": {},
     "output_type": "display_data"
    }
   ],
   "source": [
    "fit.reduce<-glm(Group~. ,data=data,family=binomial())\n",
    "summary(fit.reduce)"
   ]
  },
  {
   "cell_type": "code",
   "execution_count": 56,
   "id": "7855c6f4-b5e5-44c4-a920-cd60a46e1c65",
   "metadata": {},
   "outputs": [
    {
     "name": "stdout",
     "output_type": "stream",
     "text": [
      "Start:  AIC=76.4\n",
      "Group ~ ANGEL2 + SLC47A2 + TNMD + MFSD11 + HSD17B2 + COX19 + \n",
      "    SNTG2 + WDR72 + TEF + KRBOX4 + RNF130 + CNOT11\n",
      "\n",
      "          Df Deviance    AIC\n",
      "- TEF      1   50.455 74.455\n",
      "- RNF130   1   51.007 75.007\n",
      "- CNOT11   1   51.017 75.017\n",
      "- ANGEL2   1   51.062 75.062\n",
      "- COX19    1   51.069 75.069\n",
      "- SNTG2    1   51.173 75.173\n",
      "- WDR72    1   52.063 76.063\n",
      "- MFSD11   1   52.075 76.075\n",
      "<none>         50.403 76.403\n",
      "- KRBOX4   1   52.409 76.409\n",
      "- TNMD     1   52.664 76.664\n",
      "- HSD17B2  1   53.938 77.938\n",
      "- SLC47A2  1   59.631 83.631\n",
      "\n",
      "Step:  AIC=74.45\n",
      "Group ~ ANGEL2 + SLC47A2 + TNMD + MFSD11 + HSD17B2 + COX19 + \n",
      "    SNTG2 + WDR72 + KRBOX4 + RNF130 + CNOT11\n",
      "\n",
      "          Df Deviance    AIC\n",
      "- CNOT11   1   51.023 73.023\n",
      "- ANGEL2   1   51.074 73.074\n",
      "- RNF130   1   51.092 73.092\n",
      "- SNTG2    1   51.175 73.175\n",
      "- COX19    1   51.228 73.228\n",
      "- MFSD11   1   52.101 74.101\n",
      "- WDR72    1   52.175 74.175\n",
      "<none>         50.455 74.455\n",
      "- TNMD     1   52.704 74.704\n",
      "- KRBOX4   1   52.885 74.885\n",
      "- HSD17B2  1   53.982 75.982\n",
      "+ TEF      1   50.403 76.403\n",
      "- SLC47A2  1   59.868 81.868\n",
      "\n",
      "Step:  AIC=73.02\n",
      "Group ~ ANGEL2 + SLC47A2 + TNMD + MFSD11 + HSD17B2 + COX19 + \n",
      "    SNTG2 + WDR72 + KRBOX4 + RNF130\n",
      "\n",
      "          Df Deviance    AIC\n",
      "- RNF130   1   51.354 71.354\n",
      "- COX19    1   51.540 71.540\n",
      "- SNTG2    1   51.614 71.614\n",
      "- WDR72    1   52.384 72.384\n",
      "- ANGEL2   1   52.405 72.405\n",
      "<none>         51.023 73.023\n",
      "- MFSD11   1   53.131 73.131\n",
      "- TNMD     1   53.505 73.505\n",
      "- KRBOX4   1   53.899 73.899\n",
      "- HSD17B2  1   54.396 74.396\n",
      "+ CNOT11   1   50.455 74.455\n",
      "+ TEF      1   51.017 75.017\n",
      "- SLC47A2  1   60.450 80.450\n",
      "\n",
      "Step:  AIC=71.35\n",
      "Group ~ ANGEL2 + SLC47A2 + TNMD + MFSD11 + HSD17B2 + COX19 + \n",
      "    SNTG2 + WDR72 + KRBOX4\n",
      "\n",
      "          Df Deviance    AIC\n",
      "- SNTG2    1   51.792 69.792\n",
      "- COX19    1   51.904 69.904\n",
      "- ANGEL2   1   52.406 70.406\n",
      "- WDR72    1   52.539 70.539\n",
      "<none>         51.354 71.354\n",
      "- TNMD     1   53.581 71.581\n",
      "- MFSD11   1   53.660 71.660\n",
      "- HSD17B2  1   54.768 72.768\n",
      "- KRBOX4   1   54.932 72.932\n",
      "+ RNF130   1   51.023 73.023\n",
      "+ CNOT11   1   51.092 73.092\n",
      "+ TEF      1   51.281 73.281\n",
      "- SLC47A2  1   60.811 78.811\n",
      "\n",
      "Step:  AIC=69.79\n",
      "Group ~ ANGEL2 + SLC47A2 + TNMD + MFSD11 + HSD17B2 + COX19 + \n",
      "    WDR72 + KRBOX4\n",
      "\n",
      "          Df Deviance    AIC\n",
      "- COX19    1   52.308 68.308\n",
      "- ANGEL2   1   52.798 68.798\n",
      "- WDR72    1   52.957 68.957\n",
      "<none>         51.792 69.792\n",
      "- MFSD11   1   54.051 70.051\n",
      "- TNMD     1   54.149 70.149\n",
      "- KRBOX4   1   55.185 71.185\n",
      "- HSD17B2  1   55.344 71.344\n",
      "+ SNTG2    1   51.354 71.354\n",
      "+ CNOT11   1   51.554 71.554\n",
      "+ RNF130   1   51.614 71.614\n",
      "+ TEF      1   51.672 71.672\n",
      "- SLC47A2  1   62.889 78.889\n",
      "\n",
      "Step:  AIC=68.31\n",
      "Group ~ ANGEL2 + SLC47A2 + TNMD + MFSD11 + HSD17B2 + WDR72 + \n",
      "    KRBOX4\n",
      "\n",
      "          Df Deviance    AIC\n",
      "- ANGEL2   1   53.166 67.166\n",
      "- WDR72    1   53.341 67.341\n",
      "- MFSD11   1   54.161 68.161\n",
      "<none>         52.308 68.308\n",
      "- TNMD     1   54.339 68.339\n",
      "+ COX19    1   51.792 69.792\n",
      "+ SNTG2    1   51.904 69.904\n",
      "- HSD17B2  1   55.910 69.910\n",
      "+ RNF130   1   52.092 70.092\n",
      "+ CNOT11   1   52.210 70.210\n",
      "+ TEF      1   52.267 70.267\n",
      "- KRBOX4   1   57.289 71.289\n",
      "- SLC47A2  1   63.094 77.094\n",
      "\n",
      "Step:  AIC=67.17\n",
      "Group ~ SLC47A2 + TNMD + MFSD11 + HSD17B2 + WDR72 + KRBOX4\n",
      "\n",
      "          Df Deviance    AIC\n",
      "- WDR72    1   54.205 66.205\n",
      "<none>         53.166 67.166\n",
      "- TNMD     1   55.279 67.279\n",
      "+ ANGEL2   1   52.308 68.308\n",
      "+ CNOT11   1   52.518 68.518\n",
      "+ SNTG2    1   52.757 68.757\n",
      "+ COX19    1   52.798 68.798\n",
      "+ TEF      1   53.070 69.070\n",
      "+ RNF130   1   53.157 69.157\n",
      "- HSD17B2  1   57.268 69.268\n",
      "- KRBOX4   1   57.328 69.328\n",
      "- MFSD11   1   58.482 70.482\n",
      "- SLC47A2  1   63.233 75.233\n",
      "\n",
      "Step:  AIC=66.21\n",
      "Group ~ SLC47A2 + TNMD + MFSD11 + HSD17B2 + KRBOX4\n",
      "\n",
      "          Df Deviance    AIC\n",
      "<none>         54.205 66.205\n",
      "- TNMD     1   56.748 66.748\n",
      "+ WDR72    1   53.166 67.166\n",
      "+ ANGEL2   1   53.341 67.341\n",
      "+ CNOT11   1   53.706 67.706\n",
      "+ SNTG2    1   53.853 67.853\n",
      "+ COX19    1   53.985 67.985\n",
      "- KRBOX4   1   58.087 68.087\n",
      "+ RNF130   1   54.159 68.159\n",
      "+ TEF      1   54.186 68.186\n",
      "- MFSD11   1   59.279 69.279\n",
      "- HSD17B2  1   59.306 69.306\n",
      "- SLC47A2  1   64.831 74.831\n"
     ]
    },
    {
     "data": {
      "text/plain": [
       "\n",
       "Call:\n",
       "glm(formula = Group ~ SLC47A2 + TNMD + MFSD11 + HSD17B2 + KRBOX4, \n",
       "    family = binomial(), data = data)\n",
       "\n",
       "Deviance Residuals: \n",
       "    Min       1Q   Median       3Q      Max  \n",
       "-2.2230  -0.7744   0.1691   0.7121   2.2907  \n",
       "\n",
       "Coefficients:\n",
       "            Estimate Std. Error z value Pr(>|z|)   \n",
       "(Intercept) -21.1736     7.5423  -2.807  0.00500 **\n",
       "SLC47A2       2.1933     0.7889   2.780  0.00543 **\n",
       "TNMD          0.2913     0.1931   1.509  0.13133   \n",
       "MFSD11        3.5106     1.6780   2.092  0.03643 * \n",
       "HSD17B2       0.6589     0.3133   2.103  0.03547 * \n",
       "KRBOX4       -3.0985     1.6615  -1.865  0.06219 . \n",
       "---\n",
       "Signif. codes:  0 '***' 0.001 '**' 0.01 '*' 0.05 '.' 0.1 ' ' 1\n",
       "\n",
       "(Dispersion parameter for binomial family taken to be 1)\n",
       "\n",
       "    Null deviance: 81.774  on 58  degrees of freedom\n",
       "Residual deviance: 54.205  on 53  degrees of freedom\n",
       "AIC: 66.205\n",
       "\n",
       "Number of Fisher Scoring iterations: 5\n"
      ]
     },
     "metadata": {},
     "output_type": "display_data"
    }
   ],
   "source": [
    "logit.step <- step(fit.reduce,direction='both')\n",
    "summary(logit.step)"
   ]
  },
  {
   "cell_type": "code",
   "execution_count": 57,
   "id": "85771b71-91a5-4530-9bb8-6a0389cb7d7e",
   "metadata": {},
   "outputs": [
    {
     "name": "stderr",
     "output_type": "stream",
     "text": [
      "Waiting for profiling to be done...\n",
      "\n"
     ]
    },
    {
     "data": {
      "text/html": [
       "<table class=\"dataframe\">\n",
       "<caption>A data.frame: 6 x 4</caption>\n",
       "<thead>\n",
       "\t<tr><th></th><th scope=col>B</th><th scope=col>Wald</th><th scope=col>OR_with_CI</th><th scope=col>P</th></tr>\n",
       "\t<tr><th></th><th scope=col>&lt;dbl&gt;</th><th scope=col>&lt;dbl&gt;</th><th scope=col>&lt;chr&gt;</th><th scope=col>&lt;chr&gt;</th></tr>\n",
       "</thead>\n",
       "<tbody>\n",
       "\t<tr><th scope=row>(Intercept)</th><td>-21.174</td><td>7.881</td><td>0(0~0.001)           </td><td>0.005</td></tr>\n",
       "\t<tr><th scope=row>SLC47A2</th><td>  2.193</td><td>7.730</td><td>8.965(2.236~52.297)  </td><td>0.005</td></tr>\n",
       "\t<tr><th scope=row>TNMD</th><td>  0.291</td><td>2.277</td><td>1.338(0.938~2.034)   </td><td>0.131</td></tr>\n",
       "\t<tr><th scope=row>MFSD11</th><td>  3.511</td><td>4.377</td><td>33.47(1.546~1278.694)</td><td>0.036</td></tr>\n",
       "\t<tr><th scope=row>HSD17B2</th><td>  0.659</td><td>4.423</td><td>1.933(1.087~3.797)   </td><td>0.035</td></tr>\n",
       "\t<tr><th scope=row>KRBOX4</th><td> -3.099</td><td>3.478</td><td>0.045(0.001~0.985)   </td><td>0.062</td></tr>\n",
       "</tbody>\n",
       "</table>\n"
      ],
      "text/latex": [
       "A data.frame: 6 x 4\n",
       "\\begin{tabular}{r|llll}\n",
       "  & B & Wald & OR\\_with\\_CI & P\\\\\n",
       "  & <dbl> & <dbl> & <chr> & <chr>\\\\\n",
       "\\hline\n",
       "\t(Intercept) & -21.174 & 7.881 & 0(0\\textasciitilde{}0.001)            & 0.005\\\\\n",
       "\tSLC47A2 &   2.193 & 7.730 & 8.965(2.236\\textasciitilde{}52.297)   & 0.005\\\\\n",
       "\tTNMD &   0.291 & 2.277 & 1.338(0.938\\textasciitilde{}2.034)    & 0.131\\\\\n",
       "\tMFSD11 &   3.511 & 4.377 & 33.47(1.546\\textasciitilde{}1278.694) & 0.036\\\\\n",
       "\tHSD17B2 &   0.659 & 4.423 & 1.933(1.087\\textasciitilde{}3.797)    & 0.035\\\\\n",
       "\tKRBOX4 &  -3.099 & 3.478 & 0.045(0.001\\textasciitilde{}0.985)    & 0.062\\\\\n",
       "\\end{tabular}\n"
      ],
      "text/markdown": [
       "\n",
       "A data.frame: 6 x 4\n",
       "\n",
       "| <!--/--> | B &lt;dbl&gt; | Wald &lt;dbl&gt; | OR_with_CI &lt;chr&gt; | P &lt;chr&gt; |\n",
       "|---|---|---|---|---|\n",
       "| (Intercept) | -21.174 | 7.881 | 0(0~0.001)            | 0.005 |\n",
       "| SLC47A2 |   2.193 | 7.730 | 8.965(2.236~52.297)   | 0.005 |\n",
       "| TNMD |   0.291 | 2.277 | 1.338(0.938~2.034)    | 0.131 |\n",
       "| MFSD11 |   3.511 | 4.377 | 33.47(1.546~1278.694) | 0.036 |\n",
       "| HSD17B2 |   0.659 | 4.423 | 1.933(1.087~3.797)    | 0.035 |\n",
       "| KRBOX4 |  -3.099 | 3.478 | 0.045(0.001~0.985)    | 0.062 |\n",
       "\n"
      ],
      "text/plain": [
       "            B       Wald  OR_with_CI            P    \n",
       "(Intercept) -21.174 7.881 0(0~0.001)            0.005\n",
       "SLC47A2       2.193 7.730 8.965(2.236~52.297)   0.005\n",
       "TNMD          0.291 2.277 1.338(0.938~2.034)    0.131\n",
       "MFSD11        3.511 4.377 33.47(1.546~1278.694) 0.036\n",
       "HSD17B2       0.659 4.423 1.933(1.087~3.797)    0.035\n",
       "KRBOX4       -3.099 3.478 0.045(0.001~0.985)    0.062"
      ]
     },
     "metadata": {},
     "output_type": "display_data"
    }
   ],
   "source": [
    "# train_sub = sample(nrow(data),9/10*nrow(data))\n",
    "# train_data = data[train_sub,]\n",
    "# test_data =data[-train_sub,]\n",
    "\n",
    "# fit.reduce<-glm(Group~.,data=data,family=binomial())\n",
    "# summary(fit.reduce)\n",
    "\n",
    "formatFit<-function(fit){\n",
    "  #取P值\n",
    "  p<-summary(fit)$coefficients[,4]\n",
    "  #wald值\n",
    "  wald<-summary(fit)$coefficients[,3]^2\n",
    "  #B值\n",
    "  valueB<-coef(fit)\n",
    "  #OR值\n",
    "  valueOR<-exp(coef(fit))\n",
    "  #OR值得95%CI\n",
    "  confitOR<-exp(confint(fit))\n",
    "  data.frame(\n",
    "    B=round(valueB,3),\n",
    "    Wald=round(wald,3),\n",
    "    OR_with_CI=paste(round(valueOR,3),\"(\",\n",
    "               round(confitOR[,1],3),\"~\",round(confitOR[,2],3),\")\",sep=\"\"),\n",
    "    P=format.pval(p,digits = 3,eps=0.001)\n",
    "  )\n",
    "}\n",
    "\n",
    "formatFit(logit.step)"
   ]
  },
  {
   "cell_type": "code",
   "execution_count": 58,
   "id": "8e261651-b999-4164-8a3c-7749fbc5292c",
   "metadata": {},
   "outputs": [
    {
     "name": "stderr",
     "output_type": "stream",
     "text": [
      "Waiting for profiling to be done...\n",
      "\n",
      "Waiting for profiling to be done...\n",
      "\n"
     ]
    }
   ],
   "source": [
    "b = rownames(formatFit(logit.step))[2:length(rownames(formatFit(logit.step)))]"
   ]
  },
  {
   "cell_type": "code",
   "execution_count": 59,
   "id": "d3f8d9e0-5d72-42fd-b158-690527f13040",
   "metadata": {},
   "outputs": [],
   "source": [
    "#save(b,file = 'b.rda')"
   ]
  },
  {
   "cell_type": "code",
   "execution_count": 60,
   "id": "e627183c-946c-4097-9531-439cdbe77e97",
   "metadata": {},
   "outputs": [],
   "source": [
    "data = data[,c('Group',b)]"
   ]
  },
  {
   "cell_type": "code",
   "execution_count": 61,
   "id": "b21ff9f7-45a6-4c44-bf6b-fde624298626",
   "metadata": {},
   "outputs": [
    {
     "name": "stderr",
     "output_type": "stream",
     "text": [
      "\n",
      "Attaching package: 'autoReg'\n",
      "\n",
      "\n",
      "The following object is masked from 'package:MASS':\n",
      "\n",
      "    select\n",
      "\n",
      "\n"
     ]
    }
   ],
   "source": [
    "library(autoReg)"
   ]
  },
  {
   "cell_type": "code",
   "execution_count": 62,
   "id": "57f11164-ca96-4184-a750-1f9c548dbd53",
   "metadata": {
    "scrolled": true
   },
   "outputs": [
    {
     "data": {
      "text/html": [
       "<table class=\"dataframe\">\n",
       "<caption>A autoReg: 5 x 7</caption>\n",
       "<thead>\n",
       "\t<tr><th scope=col>name</th><th scope=col>desc</th><th scope=col>0 (N=29)</th><th scope=col>1 (N=30)</th><th scope=col>id</th><th scope=col>OR (univariable)</th><th scope=col>OR (multivariable)</th></tr>\n",
       "\t<tr><th scope=col>&lt;chr&gt;</th><th scope=col>&lt;chr&gt;</th><th scope=col>&lt;chr&gt;</th><th scope=col>&lt;chr&gt;</th><th scope=col>&lt;chr&gt;</th><th scope=col>&lt;chr&gt;</th><th scope=col>&lt;chr&gt;</th></tr>\n",
       "</thead>\n",
       "<tbody>\n",
       "\t<tr><td>SLC47A2</td><td>Mean &lt;U+00B1&gt; SD</td><td>6.6 &lt;U+00B1&gt; 0.7 </td><td>7.2 &lt;U+00B1&gt; 0.7 </td><td>SLC47A2</td><td>4.36 (1.68-11.32, p=.003)</td><td><span style=white-space:pre-wrap>8.97 (1.91-42.08, p=.005)  </span></td></tr>\n",
       "\t<tr><td><span style=white-space:pre-wrap>TNMD   </span></td><td>Mean &lt;U+00B1&gt; SD</td><td>3.7 &lt;U+00B1&gt; 2.2 </td><td>5.1 &lt;U+00B1&gt; 2.1 </td><td><span style=white-space:pre-wrap>TNMD   </span></td><td>1.35 (1.03-1.76, p=.029) </td><td><span style=white-space:pre-wrap>1.34 (0.92-1.95, p=.131)   </span></td></tr>\n",
       "\t<tr><td>MFSD11 </td><td>Mean &lt;U+00B1&gt; SD</td><td>10.0 &lt;U+00B1&gt; 0.5</td><td>10.4 &lt;U+00B1&gt; 0.6</td><td>MFSD11 </td><td>5.39 (1.53-19.02, p=.009)</td><td>33.47 (1.25-897.39, p=.036)</td></tr>\n",
       "\t<tr><td>HSD17B2</td><td>Mean &lt;U+00B1&gt; SD</td><td>0.7 &lt;U+00B1&gt; 1.0 </td><td>1.4 &lt;U+00B1&gt; 1.4 </td><td>HSD17B2</td><td>1.60 (1.02-2.49, p=.039) </td><td><span style=white-space:pre-wrap>1.93 (1.05-3.57, p=.035)   </span></td></tr>\n",
       "\t<tr><td>KRBOX4 </td><td>Mean &lt;U+00B1&gt; SD</td><td>10.1 &lt;U+00B1&gt; 0.5</td><td>10.5 &lt;U+00B1&gt; 0.6</td><td>KRBOX4 </td><td>3.64 (1.26-10.55, p=.017)</td><td><span style=white-space:pre-wrap>0.05 (0.00-1.17, p=.062)   </span></td></tr>\n",
       "</tbody>\n",
       "</table>\n"
      ],
      "text/latex": [
       "A autoReg: 5 x 7\n",
       "\\begin{tabular}{lllllll}\n",
       " name & desc & 0 (N=29) & 1 (N=30) & id & OR (univariable) & OR (multivariable)\\\\\n",
       " <chr> & <chr> & <chr> & <chr> & <chr> & <chr> & <chr>\\\\\n",
       "\\hline\n",
       "\t SLC47A2 & Mean <U+00B1> SD & 6.6 <U+00B1> 0.7  & 7.2 <U+00B1> 0.7  & SLC47A2 & 4.36 (1.68-11.32, p=.003) & 8.97 (1.91-42.08, p=.005)  \\\\\n",
       "\t TNMD    & Mean <U+00B1> SD & 3.7 <U+00B1> 2.2  & 5.1 <U+00B1> 2.1  & TNMD    & 1.35 (1.03-1.76, p=.029)  & 1.34 (0.92-1.95, p=.131)   \\\\\n",
       "\t MFSD11  & Mean <U+00B1> SD & 10.0 <U+00B1> 0.5 & 10.4 <U+00B1> 0.6 & MFSD11  & 5.39 (1.53-19.02, p=.009) & 33.47 (1.25-897.39, p=.036)\\\\\n",
       "\t HSD17B2 & Mean <U+00B1> SD & 0.7 <U+00B1> 1.0  & 1.4 <U+00B1> 1.4  & HSD17B2 & 1.60 (1.02-2.49, p=.039)  & 1.93 (1.05-3.57, p=.035)   \\\\\n",
       "\t KRBOX4  & Mean <U+00B1> SD & 10.1 <U+00B1> 0.5 & 10.5 <U+00B1> 0.6 & KRBOX4  & 3.64 (1.26-10.55, p=.017) & 0.05 (0.00-1.17, p=.062)   \\\\\n",
       "\\end{tabular}\n"
      ],
      "text/markdown": [
       "\n",
       "A autoReg: 5 x 7\n",
       "\n",
       "| name &lt;chr&gt; | desc &lt;chr&gt; | 0 (N=29) &lt;chr&gt; | 1 (N=30) &lt;chr&gt; | id &lt;chr&gt; | OR (univariable) &lt;chr&gt; | OR (multivariable) &lt;chr&gt; |\n",
       "|---|---|---|---|---|---|---|\n",
       "| SLC47A2 | Mean &lt;U+00B1&gt; SD | 6.6 &lt;U+00B1&gt; 0.7  | 7.2 &lt;U+00B1&gt; 0.7  | SLC47A2 | 4.36 (1.68-11.32, p=.003) | 8.97 (1.91-42.08, p=.005)   |\n",
       "| TNMD    | Mean &lt;U+00B1&gt; SD | 3.7 &lt;U+00B1&gt; 2.2  | 5.1 &lt;U+00B1&gt; 2.1  | TNMD    | 1.35 (1.03-1.76, p=.029)  | 1.34 (0.92-1.95, p=.131)    |\n",
       "| MFSD11  | Mean &lt;U+00B1&gt; SD | 10.0 &lt;U+00B1&gt; 0.5 | 10.4 &lt;U+00B1&gt; 0.6 | MFSD11  | 5.39 (1.53-19.02, p=.009) | 33.47 (1.25-897.39, p=.036) |\n",
       "| HSD17B2 | Mean &lt;U+00B1&gt; SD | 0.7 &lt;U+00B1&gt; 1.0  | 1.4 &lt;U+00B1&gt; 1.4  | HSD17B2 | 1.60 (1.02-2.49, p=.039)  | 1.93 (1.05-3.57, p=.035)    |\n",
       "| KRBOX4  | Mean &lt;U+00B1&gt; SD | 10.1 &lt;U+00B1&gt; 0.5 | 10.5 &lt;U+00B1&gt; 0.6 | KRBOX4  | 3.64 (1.26-10.55, p=.017) | 0.05 (0.00-1.17, p=.062)    |\n",
       "\n"
      ],
      "text/plain": [
       "  name    desc             0 (N=29)          1 (N=30)          id     \n",
       "1 SLC47A2 Mean <U+00B1> SD 6.6 <U+00B1> 0.7  7.2 <U+00B1> 0.7  SLC47A2\n",
       "2 TNMD    Mean <U+00B1> SD 3.7 <U+00B1> 2.2  5.1 <U+00B1> 2.1  TNMD   \n",
       "3 MFSD11  Mean <U+00B1> SD 10.0 <U+00B1> 0.5 10.4 <U+00B1> 0.6 MFSD11 \n",
       "4 HSD17B2 Mean <U+00B1> SD 0.7 <U+00B1> 1.0  1.4 <U+00B1> 1.4  HSD17B2\n",
       "5 KRBOX4  Mean <U+00B1> SD 10.1 <U+00B1> 0.5 10.5 <U+00B1> 0.6 KRBOX4 \n",
       "  OR (univariable)          OR (multivariable)         \n",
       "1 4.36 (1.68-11.32, p=.003) 8.97 (1.91-42.08, p=.005)  \n",
       "2 1.35 (1.03-1.76, p=.029)  1.34 (0.92-1.95, p=.131)   \n",
       "3 5.39 (1.53-19.02, p=.009) 33.47 (1.25-897.39, p=.036)\n",
       "4 1.60 (1.02-2.49, p=.039)  1.93 (1.05-3.57, p=.035)   \n",
       "5 3.64 (1.26-10.55, p=.017) 0.05 (0.00-1.17, p=.062)   "
      ]
     },
     "metadata": {},
     "output_type": "display_data"
    }
   ],
   "source": [
    "overall.log =  glm(Group~.,data=data,family=binomial())\n",
    "\n",
    "model3<-autoReg(overall.log,uni=TRUE,milti=TRUE,threshold=0.05)\n",
    "\n",
    "model3"
   ]
  },
  {
   "cell_type": "code",
   "execution_count": 63,
   "id": "82912d9e-8d15-459a-8376-ee995c136a4a",
   "metadata": {},
   "outputs": [],
   "source": [
    "save(b,file  = 'b.rda')"
   ]
  },
  {
   "cell_type": "code",
   "execution_count": 64,
   "id": "5fe64c9b-0b00-44a9-bd1c-201d1a8cc624",
   "metadata": {},
   "outputs": [
    {
     "data": {
      "text/html": [
       "<style>\n",
       ".list-inline {list-style: none; margin:0; padding: 0}\n",
       ".list-inline>li {display: inline-block}\n",
       ".list-inline>li:not(:last-child)::after {content: \"\\00b7\"; padding: 0 .5ex}\n",
       "</style>\n",
       "<ol class=list-inline><li>'SLC47A2'</li><li>'TNMD'</li><li>'MFSD11'</li><li>'HSD17B2'</li><li>'KRBOX4'</li></ol>\n"
      ],
      "text/latex": [
       "\\begin{enumerate*}\n",
       "\\item 'SLC47A2'\n",
       "\\item 'TNMD'\n",
       "\\item 'MFSD11'\n",
       "\\item 'HSD17B2'\n",
       "\\item 'KRBOX4'\n",
       "\\end{enumerate*}\n"
      ],
      "text/markdown": [
       "1. 'SLC47A2'\n",
       "2. 'TNMD'\n",
       "3. 'MFSD11'\n",
       "4. 'HSD17B2'\n",
       "5. 'KRBOX4'\n",
       "\n",
       "\n"
      ],
      "text/plain": [
       "[1] \"SLC47A2\" \"TNMD\"    \"MFSD11\"  \"HSD17B2\" \"KRBOX4\" "
      ]
     },
     "metadata": {},
     "output_type": "display_data"
    }
   ],
   "source": [
    "b"
   ]
  },
  {
   "cell_type": "code",
   "execution_count": 65,
   "id": "e9250122-9dd6-4a88-82f6-e7db4765465d",
   "metadata": {
    "scrolled": true
   },
   "outputs": [],
   "source": [
    "library(caret)"
   ]
  },
  {
   "cell_type": "code",
   "execution_count": null,
   "id": "a7fe53a6-2255-467b-914b-4c006225866a",
   "metadata": {},
   "outputs": [],
   "source": []
  },
  {
   "cell_type": "code",
   "execution_count": 66,
   "id": "f3a49092-6398-4cbc-b07c-0514175cd723",
   "metadata": {},
   "outputs": [
    {
     "name": "stderr",
     "output_type": "stream",
     "text": [
      "Setting levels: control = 0, case = 1\n",
      "\n",
      "Setting direction: controls < cases\n",
      "\n",
      "Setting levels: control = 0, case = 1\n",
      "\n",
      "Setting direction: controls < cases\n",
      "\n",
      "Setting levels: control = 0, case = 1\n",
      "\n",
      "Setting direction: controls < cases\n",
      "\n",
      "Setting levels: control = 0, case = 1\n",
      "\n",
      "Setting direction: controls < cases\n",
      "\n",
      "Setting levels: control = 0, case = 1\n",
      "\n",
      "Setting direction: controls < cases\n",
      "\n",
      "Setting levels: control = 0, case = 1\n",
      "\n",
      "Setting direction: controls < cases\n",
      "\n",
      "Setting levels: control = 0, case = 1\n",
      "\n",
      "Setting direction: controls < cases\n",
      "\n",
      "Setting levels: control = 0, case = 1\n",
      "\n",
      "Setting direction: controls < cases\n",
      "\n",
      "Setting levels: control = 0, case = 1\n",
      "\n",
      "Setting direction: controls < cases\n",
      "\n",
      "Setting levels: control = 0, case = 1\n",
      "\n",
      "Setting direction: controls < cases\n",
      "\n"
     ]
    },
    {
     "data": {
      "text/html": [
       "0.797028915528916"
      ],
      "text/latex": [
       "0.797028915528916"
      ],
      "text/markdown": [
       "0.797028915528916"
      ],
      "text/plain": [
       "[1] 0.7970289"
      ]
     },
     "metadata": {},
     "output_type": "display_data"
    }
   ],
   "source": [
    "set.seed(111)\n",
    "#单纯10折交叉验证，time=1\n",
    "folds <-createMultiFolds(y=data$Group,k=3,times=10)\n",
    "#10次批量训练与验证\n",
    "#做成循环\n",
    "auc_value<-as.numeric()\n",
    "for(i in 1:10){\n",
    "  train<- data[ folds[[i]],] \n",
    "  test <- data[-folds[[i]],] \n",
    "  model<-glm(Group~.,data=train,family=binomial())  #TNFSF14+CCNA2+MARCKS+SGOL1+SAP130\n",
    "    \n",
    "  model_pre<-predict(model,type='response', newdata=test)\n",
    "    \n",
    "  auc_value<- append(auc_value,\n",
    "                     as.numeric(pROC::auc(as.numeric(test[,1]),model_pre)))\n",
    "}\n",
    "mean(auc_value)"
   ]
  },
  {
   "cell_type": "code",
   "execution_count": 2,
   "id": "28cb34d6-1a0c-4d80-8537-e313364ed847",
   "metadata": {},
   "outputs": [
    {
     "ename": "ERROR",
     "evalue": "Error in eval(expr, envir, enclos): object 'auc_value' not found\n",
     "output_type": "error",
     "traceback": [
      "Error in eval(expr, envir, enclos): object 'auc_value' not found\nTraceback:\n"
     ]
    }
   ],
   "source": [
    "auc_value"
   ]
  },
  {
   "cell_type": "code",
   "execution_count": 29,
   "id": "3a1d3b18-30f7-41d1-84f2-270cf330ef00",
   "metadata": {},
   "outputs": [],
   "source": [
    "data = expr3[,c('Group','SNTG2','WDR72','TEF')]"
   ]
  },
  {
   "cell_type": "code",
   "execution_count": 30,
   "id": "5d310a65-7e34-4067-835c-56d7037e0143",
   "metadata": {},
   "outputs": [
    {
     "name": "stderr",
     "output_type": "stream",
     "text": [
      "Setting levels: control = 0, case = 1\n",
      "\n",
      "Setting direction: controls < cases\n",
      "\n"
     ]
    },
    {
     "data": {
      "image/png": "[encoded data removed]",
      "text/plain": [
       "Plot with title \"\""
      ]
     },
     "metadata": {
      "image/png": {
       "height": 420,
       "width": 360
      }
     },
     "output_type": "display_data"
    }
   ],
   "source": [
    "fold_pre <- glm(Group~.,data=data,family=binomial())\n",
    "\n",
    "fold_predict <- predict(fold_pre,type='response',newdata=data)\n",
    "\n",
    "options(repr.plot.width = 6)\n",
    "roc_curve <- pROC::roc(as.numeric(data$Group),fold_predict)\n",
    "plot(roc_curve, print.auc=TRUE, auc.polygon=TRUE, grid=c(0.1, 0.2),\n",
    "     grid.col=c(\"green\", \"red\"), max.auc.polygon=TRUE,\n",
    "     auc.polygon.col=\"skyblue\", print.thres=TRUE,main=\"\")"
   ]
  },
  {
   "cell_type": "code",
   "execution_count": 31,
   "id": "100ee3d2-95c2-498a-b7f9-6873550b9891",
   "metadata": {},
   "outputs": [],
   "source": [
    "fold_pre <- glm(Group~.,data=data,family=binomial())\n",
    "fold_predict <- predict(fold_pre,type='response',newdata=data)"
   ]
  },
  {
   "cell_type": "code",
   "execution_count": 32,
   "id": "a4367244-0019-408f-ae37-e71fafe48327",
   "metadata": {},
   "outputs": [
    {
     "name": "stderr",
     "output_type": "stream",
     "text": [
      "Type 'citation(\"pROC\")' for a citation.\n",
      "\n",
      "\n",
      "Attaching package: 'pROC'\n",
      "\n",
      "\n",
      "The following objects are masked from 'package:stats':\n",
      "\n",
      "    cov, smooth, var\n",
      "\n",
      "\n"
     ]
    }
   ],
   "source": [
    "library(pROC)"
   ]
  },
  {
   "cell_type": "code",
   "execution_count": null,
   "id": "0140f05b-e7ba-40d6-a48a-71e86bdfd8cc",
   "metadata": {},
   "outputs": [],
   "source": [
    "rocobj1 <- plot.roc(data$Group, data$SNTG2,percent=TRUE, levels=c(0,1),direction=\"<\",col=\"#1c61b6\")\n",
    "rocobj2 <- lines.roc(data$Group, data$WDR72,percent=TRUE, levels=c(0,1),direction=\"<\", col=\"#008600\")\n",
    "rocobj3 <- lines.roc(data$Group, data$TEF,percent=TRUE, levels=c(0,1),direction=\"<\", col=\"#9C6D35\")\n",
    "\n",
    "rocobj5 <- lines.roc(data$Group, fold_predict,percent=TRUE, levels=c(0,1),direction=\"<\", col=\"#9F1A70\")\n",
    "\n",
    "legend(\"right\", legend=c(paste0(\"SNTG2 \", round(rocobj1$auc/100,digits = 2)),\n",
    "                               paste0(\"WDR72 \", round(rocobj2$auc/100,digits = 2)),\n",
    "                               paste0(\"TEF \", round(rocobj3$auc/100,digits = 2)),\n",
    "                               paste0(\"fold_predict \", round(rocobj5$auc/100,digits = 2))),\n",
    "       col=c(\"#1c61b6\", \"#008600\",\"#9C6D35\",\"#9F1A70\"), lwd=1)"
   ]
  },
  {
   "cell_type": "code",
   "execution_count": null,
   "id": "bd8bca7e-0acf-48eb-84e1-b3eeae29f1f9",
   "metadata": {},
   "outputs": [],
   "source": []
  },
  {
   "cell_type": "code",
   "execution_count": null,
   "id": "39d26c7c-bbde-41a9-939d-b62adef31be2",
   "metadata": {},
   "outputs": [],
   "source": []
  },
  {
   "cell_type": "code",
   "execution_count": null,
   "id": "07258007-9d27-40dd-8ae3-bf43c9ac7767",
   "metadata": {},
   "outputs": [],
   "source": []
  },
  {
   "cell_type": "code",
   "execution_count": null,
   "id": "604d2b46-0669-406e-bb0a-76448f93a06d",
   "metadata": {},
   "outputs": [],
   "source": []
  },
  {
   "cell_type": "code",
   "execution_count": null,
   "id": "e6390810-0854-4740-84e8-bca58a7fbe19",
   "metadata": {},
   "outputs": [],
   "source": []
  },
  {
   "cell_type": "code",
   "execution_count": null,
   "id": "8ae8e8d9-b1b7-42a9-bfec-a3370e3d81e6",
   "metadata": {},
   "outputs": [],
   "source": []
  },
  {
   "cell_type": "code",
   "execution_count": null,
   "id": "f6bfcf5d-5e14-4cc3-be61-2e5e65806021",
   "metadata": {},
   "outputs": [],
   "source": []
  },
  {
   "cell_type": "code",
   "execution_count": null,
   "id": "57cf4d6b-196b-42ca-9eb3-3f5bd19c38e7",
   "metadata": {},
   "outputs": [],
   "source": []
  },
  {
   "cell_type": "code",
   "execution_count": null,
   "id": "53e32996-610e-4048-9430-ead7fd338d0d",
   "metadata": {},
   "outputs": [],
   "source": []
  },
  {
   "cell_type": "code",
   "execution_count": null,
   "id": "f5591463-9826-4c0c-8b64-da452969e6aa",
   "metadata": {},
   "outputs": [],
   "source": []
  },
  {
   "cell_type": "code",
   "execution_count": null,
   "id": "223121c0-6932-4939-a6db-e1141c0b6cef",
   "metadata": {},
   "outputs": [],
   "source": []
  },
  {
   "cell_type": "code",
   "execution_count": null,
   "id": "ef69e81d-ef3d-452e-a6ec-adea912211ed",
   "metadata": {},
   "outputs": [],
   "source": []
  },
  {
   "cell_type": "code",
   "execution_count": null,
   "id": "d12c3cd9-afe1-4243-bf41-d13c10656ec0",
   "metadata": {},
   "outputs": [],
   "source": []
  },
  {
   "cell_type": "code",
   "execution_count": null,
   "id": "da797cd6-4a15-4f2e-ae5f-803966dc4326",
   "metadata": {},
   "outputs": [],
   "source": []
  },
  {
   "cell_type": "code",
   "execution_count": null,
   "id": "cfaefc02-953b-40db-8c6d-c3e11f286b60",
   "metadata": {},
   "outputs": [],
   "source": []
  },
  {
   "cell_type": "code",
   "execution_count": null,
   "id": "7c196a2f-e9dc-42f2-9536-42e40f16adcd",
   "metadata": {},
   "outputs": [],
   "source": []
  }
 ],
 "metadata": {
  "kernelspec": {
   "display_name": "R",
   "language": "R",
   "name": "ir"
  },
  "language_info": {
   "codemirror_mode": "r",
   "file_extension": ".r",
   "mimetype": "text/x-r-source",
   "name": "R",
   "pygments_lexer": "r",
   "version": "4.2.1"
  }
 },
 "nbformat": 4,
 "nbformat_minor": 5
}
