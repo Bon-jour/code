{
 "cells": [
  {
   "cell_type": "code",
   "execution_count": 17,
   "id": "be44299d-398f-4c31-8373-eb6d6bdd3042",
   "metadata": {},
   "outputs": [],
   "source": [
    "setwd('/import/DB/fel/BJTC-204')"
   ]
  },
  {
   "cell_type": "code",
   "execution_count": 1,
   "id": "48a8d219-b8e0-4461-8335-9bd3c64941fe",
   "metadata": {
    "scrolled": true
   },
   "outputs": [
    {
     "name": "stderr",
     "output_type": "stream",
     "text": [
      "Loading required package: ensembldb\n",
      "\n",
      "Loading required package: BiocGenerics\n",
      "\n",
      "\n",
      "Attaching package: 'BiocGenerics'\n",
      "\n",
      "\n",
      "The following objects are masked from 'package:stats':\n",
      "\n",
      "    IQR, mad, sd, var, xtabs\n",
      "\n",
      "\n",
      "The following objects are masked from 'package:base':\n",
      "\n",
      "    Filter, Find, Map, Position, Reduce, anyDuplicated, aperm, append,\n",
      "    as.data.frame, basename, cbind, colnames, dirname, do.call,\n",
      "    duplicated, eval, evalq, get, grep, grepl, intersect, is.unsorted,\n",
      "    lapply, mapply, match, mget, order, paste, pmax, pmax.int, pmin,\n",
      "    pmin.int, rank, rbind, rownames, sapply, setdiff, sort, table,\n",
      "    tapply, union, unique, unsplit, which.max, which.min\n",
      "\n",
      "\n",
      "Loading required package: GenomicRanges\n",
      "\n",
      "Warning message:\n",
      "\"package 'GenomicRanges' was built under R version 4.2.3\"\n",
      "Loading required package: stats4\n",
      "\n",
      "Loading required package: S4Vectors\n",
      "\n",
      "Warning message:\n",
      "\"package 'S4Vectors' was built under R version 4.2.3\"\n",
      "\n",
      "Attaching package: 'S4Vectors'\n",
      "\n",
      "\n",
      "The following objects are masked from 'package:base':\n",
      "\n",
      "    I, expand.grid, unname\n",
      "\n",
      "\n",
      "Loading required package: IRanges\n",
      "\n",
      "Warning message:\n",
      "\"package 'IRanges' was built under R version 4.2.3\"\n",
      "Loading required package: GenomeInfoDb\n",
      "\n",
      "Warning message:\n",
      "\"package 'GenomeInfoDb' was built under R version 4.2.3\"\n",
      "Loading required package: GenomicFeatures\n",
      "\n",
      "Warning message:\n",
      "\"package 'GenomicFeatures' was built under R version 4.2.2\"\n",
      "Loading required package: AnnotationDbi\n",
      "\n",
      "Warning message:\n",
      "\"package 'AnnotationDbi' was built under R version 4.2.2\"\n",
      "Loading required package: Biobase\n",
      "\n",
      "Warning message:\n",
      "\"package 'Biobase' was built under R version 4.2.3\"\n",
      "Welcome to Bioconductor\n",
      "\n",
      "    Vignettes contain introductory material; view with\n",
      "    'browseVignettes()'. To cite Bioconductor, see\n",
      "    'citation(\"Biobase\")', and for packages 'citation(\"pkgname\")'.\n",
      "\n",
      "\n",
      "Loading required package: AnnotationFilter\n",
      "\n",
      "\n",
      "Attaching package: 'ensembldb'\n",
      "\n",
      "\n",
      "The following object is masked from 'package:stats':\n",
      "\n",
      "    filter\n",
      "\n",
      "\n"
     ]
    },
    {
     "data": {
      "text/plain": [
       "EnsDb for Ensembl:\n",
       "|Backend: SQLite\n",
       "|Db type: EnsDb\n",
       "|Type of Gene ID: Ensembl Gene ID\n",
       "|Supporting package: ensembldb\n",
       "|Db created by: ensembldb package from Bioconductor\n",
       "|script_version: 0.3.0\n",
       "|Creation time: Thu May 18 09:15:45 2017\n",
       "|ensembl_version: 75\n",
       "|ensembl_host: localhost\n",
       "|Organism: homo_sapiens\n",
       "|taxonomy_id: 9606\n",
       "|genome_build: GRCh37\n",
       "|DBSCHEMAVERSION: 2.0\n",
       "| No. of genes: 64102.\n",
       "| No. of transcripts: 215647.\n",
       "|Protein data available."
      ]
     },
     "metadata": {},
     "output_type": "display_data"
    },
    {
     "data": {
      "text/html": [
       "<style>\n",
       ".list-inline {list-style: none; margin:0; padding: 0}\n",
       ".list-inline>li {display: inline-block}\n",
       ".list-inline>li:not(:last-child)::after {content: \"\\00b7\"; padding: 0 .5ex}\n",
       "</style>\n",
       "<ol class=list-inline><li>'ENTREZID'</li><li>'EXONID'</li><li>'EXONIDX'</li><li>'EXONSEQEND'</li><li>'EXONSEQSTART'</li><li>'GENEBIOTYPE'</li><li>'GENEID'</li><li>'GENENAME'</li><li>'GENESEQEND'</li><li>'GENESEQSTART'</li><li>'INTERPROACCESSION'</li><li>'ISCIRCULAR'</li><li>'PROTDOMEND'</li><li>'PROTDOMSTART'</li><li>'PROTEINDOMAINID'</li><li>'PROTEINDOMAINSOURCE'</li><li>'PROTEINID'</li><li>'PROTEINSEQUENCE'</li><li>'SEQCOORDSYSTEM'</li><li>'SEQLENGTH'</li><li>'SEQNAME'</li><li>'SEQSTRAND'</li><li>'SYMBOL'</li><li>'TXBIOTYPE'</li><li>'TXCDSSEQEND'</li><li>'TXCDSSEQSTART'</li><li>'TXID'</li><li>'TXNAME'</li><li>'TXSEQEND'</li><li>'TXSEQSTART'</li><li>'UNIPROTDB'</li><li>'UNIPROTID'</li><li>'UNIPROTMAPPINGTYPE'</li></ol>\n"
      ],
      "text/latex": [
       "\\begin{enumerate*}\n",
       "\\item 'ENTREZID'\n",
       "\\item 'EXONID'\n",
       "\\item 'EXONIDX'\n",
       "\\item 'EXONSEQEND'\n",
       "\\item 'EXONSEQSTART'\n",
       "\\item 'GENEBIOTYPE'\n",
       "\\item 'GENEID'\n",
       "\\item 'GENENAME'\n",
       "\\item 'GENESEQEND'\n",
       "\\item 'GENESEQSTART'\n",
       "\\item 'INTERPROACCESSION'\n",
       "\\item 'ISCIRCULAR'\n",
       "\\item 'PROTDOMEND'\n",
       "\\item 'PROTDOMSTART'\n",
       "\\item 'PROTEINDOMAINID'\n",
       "\\item 'PROTEINDOMAINSOURCE'\n",
       "\\item 'PROTEINID'\n",
       "\\item 'PROTEINSEQUENCE'\n",
       "\\item 'SEQCOORDSYSTEM'\n",
       "\\item 'SEQLENGTH'\n",
       "\\item 'SEQNAME'\n",
       "\\item 'SEQSTRAND'\n",
       "\\item 'SYMBOL'\n",
       "\\item 'TXBIOTYPE'\n",
       "\\item 'TXCDSSEQEND'\n",
       "\\item 'TXCDSSEQSTART'\n",
       "\\item 'TXID'\n",
       "\\item 'TXNAME'\n",
       "\\item 'TXSEQEND'\n",
       "\\item 'TXSEQSTART'\n",
       "\\item 'UNIPROTDB'\n",
       "\\item 'UNIPROTID'\n",
       "\\item 'UNIPROTMAPPINGTYPE'\n",
       "\\end{enumerate*}\n"
      ],
      "text/markdown": [
       "1. 'ENTREZID'\n",
       "2. 'EXONID'\n",
       "3. 'EXONIDX'\n",
       "4. 'EXONSEQEND'\n",
       "5. 'EXONSEQSTART'\n",
       "6. 'GENEBIOTYPE'\n",
       "7. 'GENEID'\n",
       "8. 'GENENAME'\n",
       "9. 'GENESEQEND'\n",
       "10. 'GENESEQSTART'\n",
       "11. 'INTERPROACCESSION'\n",
       "12. 'ISCIRCULAR'\n",
       "13. 'PROTDOMEND'\n",
       "14. 'PROTDOMSTART'\n",
       "15. 'PROTEINDOMAINID'\n",
       "16. 'PROTEINDOMAINSOURCE'\n",
       "17. 'PROTEINID'\n",
       "18. 'PROTEINSEQUENCE'\n",
       "19. 'SEQCOORDSYSTEM'\n",
       "20. 'SEQLENGTH'\n",
       "21. 'SEQNAME'\n",
       "22. 'SEQSTRAND'\n",
       "23. 'SYMBOL'\n",
       "24. 'TXBIOTYPE'\n",
       "25. 'TXCDSSEQEND'\n",
       "26. 'TXCDSSEQSTART'\n",
       "27. 'TXID'\n",
       "28. 'TXNAME'\n",
       "29. 'TXSEQEND'\n",
       "30. 'TXSEQSTART'\n",
       "31. 'UNIPROTDB'\n",
       "32. 'UNIPROTID'\n",
       "33. 'UNIPROTMAPPINGTYPE'\n",
       "\n",
       "\n"
      ],
      "text/plain": [
       " [1] \"ENTREZID\"            \"EXONID\"              \"EXONIDX\"            \n",
       " [4] \"EXONSEQEND\"          \"EXONSEQSTART\"        \"GENEBIOTYPE\"        \n",
       " [7] \"GENEID\"              \"GENENAME\"            \"GENESEQEND\"         \n",
       "[10] \"GENESEQSTART\"        \"INTERPROACCESSION\"   \"ISCIRCULAR\"         \n",
       "[13] \"PROTDOMEND\"          \"PROTDOMSTART\"        \"PROTEINDOMAINID\"    \n",
       "[16] \"PROTEINDOMAINSOURCE\" \"PROTEINID\"           \"PROTEINSEQUENCE\"    \n",
       "[19] \"SEQCOORDSYSTEM\"      \"SEQLENGTH\"           \"SEQNAME\"            \n",
       "[22] \"SEQSTRAND\"           \"SYMBOL\"              \"TXBIOTYPE\"          \n",
       "[25] \"TXCDSSEQEND\"         \"TXCDSSEQSTART\"       \"TXID\"               \n",
       "[28] \"TXNAME\"              \"TXSEQEND\"            \"TXSEQSTART\"         \n",
       "[31] \"UNIPROTDB\"           \"UNIPROTID\"           \"UNIPROTMAPPINGTYPE\" "
      ]
     },
     "metadata": {},
     "output_type": "display_data"
    },
    {
     "data": {
      "text/html": [
       "<style>\n",
       ".list-inline {list-style: none; margin:0; padding: 0}\n",
       ".list-inline>li {display: inline-block}\n",
       ".list-inline>li:not(:last-child)::after {content: \"\\00b7\"; padding: 0 .5ex}\n",
       "</style>\n",
       "<ol class=list-inline><li>'ENTREZID'</li><li>'EXONID'</li><li>'GENEBIOTYPE'</li><li>'GENEID'</li><li>'GENENAME'</li><li>'PROTDOMID'</li><li>'PROTEINDOMAINID'</li><li>'PROTEINDOMAINSOURCE'</li><li>'PROTEINID'</li><li>'SEQNAME'</li><li>'SEQSTRAND'</li><li>'SYMBOL'</li><li>'TXBIOTYPE'</li><li>'TXID'</li><li>'TXNAME'</li><li>'UNIPROTID'</li></ol>\n"
      ],
      "text/latex": [
       "\\begin{enumerate*}\n",
       "\\item 'ENTREZID'\n",
       "\\item 'EXONID'\n",
       "\\item 'GENEBIOTYPE'\n",
       "\\item 'GENEID'\n",
       "\\item 'GENENAME'\n",
       "\\item 'PROTDOMID'\n",
       "\\item 'PROTEINDOMAINID'\n",
       "\\item 'PROTEINDOMAINSOURCE'\n",
       "\\item 'PROTEINID'\n",
       "\\item 'SEQNAME'\n",
       "\\item 'SEQSTRAND'\n",
       "\\item 'SYMBOL'\n",
       "\\item 'TXBIOTYPE'\n",
       "\\item 'TXID'\n",
       "\\item 'TXNAME'\n",
       "\\item 'UNIPROTID'\n",
       "\\end{enumerate*}\n"
      ],
      "text/markdown": [
       "1. 'ENTREZID'\n",
       "2. 'EXONID'\n",
       "3. 'GENEBIOTYPE'\n",
       "4. 'GENEID'\n",
       "5. 'GENENAME'\n",
       "6. 'PROTDOMID'\n",
       "7. 'PROTEINDOMAINID'\n",
       "8. 'PROTEINDOMAINSOURCE'\n",
       "9. 'PROTEINID'\n",
       "10. 'SEQNAME'\n",
       "11. 'SEQSTRAND'\n",
       "12. 'SYMBOL'\n",
       "13. 'TXBIOTYPE'\n",
       "14. 'TXID'\n",
       "15. 'TXNAME'\n",
       "16. 'UNIPROTID'\n",
       "\n",
       "\n"
      ],
      "text/plain": [
       " [1] \"ENTREZID\"            \"EXONID\"              \"GENEBIOTYPE\"        \n",
       " [4] \"GENEID\"              \"GENENAME\"            \"PROTDOMID\"          \n",
       " [7] \"PROTEINDOMAINID\"     \"PROTEINDOMAINSOURCE\" \"PROTEINID\"          \n",
       "[10] \"SEQNAME\"             \"SEQSTRAND\"           \"SYMBOL\"             \n",
       "[13] \"TXBIOTYPE\"           \"TXID\"                \"TXNAME\"             \n",
       "[16] \"UNIPROTID\"          "
      ]
     },
     "metadata": {},
     "output_type": "display_data"
    },
    {
     "data": {
      "text/plain": [
       "\n",
       "3prime_overlapping_ncrna                IG_C_gene          IG_C_pseudogene \n",
       "                      24                       27                       11 \n",
       "               IG_D_gene                IG_J_gene          IG_J_pseudogene \n",
       "                      64                       24                        6 \n",
       "               IG_V_gene          IG_V_pseudogene                 LRG_gene \n",
       "                     178                      255                      438 \n",
       "                 Mt_rRNA                  Mt_tRNA                TR_C_gene \n",
       "                       2                       22                        6 \n",
       "               TR_D_gene                TR_J_gene          TR_J_pseudogene \n",
       "                       3                       82                        4 \n",
       "               TR_V_gene          TR_V_pseudogene                antisense \n",
       "                     150                       40                     5555 \n",
       "                 lincRNA                    miRNA                 misc_RNA \n",
       "                    7506                     3489                     2174 \n",
       "  polymorphic_pseudogene     processed_pseudogene     processed_transcript \n",
       "                      53                        1                      896 \n",
       "          protein_coding               pseudogene                     rRNA \n",
       "                   25166                    15710                      808 \n",
       "          sense_intronic        sense_overlapping                    snRNA \n",
       "                     780                      208                     2146 \n",
       "                  snoRNA \n",
       "                    1588 "
      ]
     },
     "metadata": {},
     "output_type": "display_data"
    }
   ],
   "source": [
    "library(EnsDb.Hsapiens.v75)\n",
    "edb <- EnsDb.Hsapiens.v75\n",
    "edb\n",
    "columns(edb)\n",
    "keytypes(edb)\n",
    "keys <- keys(edb, keytype=\"GENEID\")\n",
    "## Get the data\n",
    "gene2sym<-select(edb, keys=keys, \n",
    "                 columns=c(\"SYMBOL\",\"ENTREZID\",\"GENEBIOTYPE\",'GENENAME'),\n",
    "                 keytype=\"GENEID\")\n",
    "table(gene2sym$GENEBIOTYPE)"
   ]
  },
  {
   "cell_type": "code",
   "execution_count": 6,
   "id": "c14563d9-2567-43e0-803d-7b44b4020251",
   "metadata": {},
   "outputs": [],
   "source": [
    "library(dplyr)"
   ]
  },
  {
   "cell_type": "code",
   "execution_count": 13,
   "id": "98641e44-1573-46d5-b98b-6e7cda6f3cd2",
   "metadata": {},
   "outputs": [],
   "source": [
    "prot = gene2sym %>% dplyr::filter(GENEBIOTYPE == 'protein_coding')"
   ]
  },
  {
   "cell_type": "code",
   "execution_count": 15,
   "id": "63e281fa-e674-4dd5-8300-3f2533242a2f",
   "metadata": {},
   "outputs": [],
   "source": [
    "prot = prot$SYMBOL"
   ]
  },
  {
   "cell_type": "code",
   "execution_count": 18,
   "id": "ebc8a67b-df21-43b7-a798-df4e1b3e3f17",
   "metadata": {},
   "outputs": [],
   "source": [
    "save(prot,file = 'prot.rda')"
   ]
  },
  {
   "cell_type": "code",
   "execution_count": null,
   "id": "eb3ae0f1-2744-4b19-b057-d64983294b56",
   "metadata": {},
   "outputs": [],
   "source": []
  }
 ],
 "metadata": {
  "kernelspec": {
   "display_name": "R",
   "language": "R",
   "name": "ir"
  },
  "language_info": {
   "codemirror_mode": "r",
   "file_extension": ".r",
   "mimetype": "text/x-r-source",
   "name": "R",
   "pygments_lexer": "r",
   "version": "4.2.1"
  }
 },
 "nbformat": 4,
 "nbformat_minor": 5
}
