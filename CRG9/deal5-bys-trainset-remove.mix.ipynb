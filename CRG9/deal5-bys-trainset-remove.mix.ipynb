{
 "cells": [
  {
   "cell_type": "code",
   "execution_count": 1,
   "id": "5ea3737c-61ca-4719-ae71-6a29bd5543da",
   "metadata": {},
   "outputs": [],
   "source": [
    "setwd('/import/DB/fel/BJTC-204')"
   ]
  },
  {
   "cell_type": "code",
   "execution_count": 2,
   "id": "d674b39b-a7d9-4d54-81ed-2fbb7f85191e",
   "metadata": {},
   "outputs": [],
   "source": [
    "load('/import/mdd.rna/GSE80655.rda')"
   ]
  },
  {
   "cell_type": "code",
   "execution_count": 3,
   "id": "0d0afcf7-6283-4a24-9f58-12407e2cd733",
   "metadata": {},
   "outputs": [
    {
     "name": "stderr",
     "output_type": "stream",
     "text": [
      "Loading required package: snowfall\n",
      "\n",
      "Loading required package: snow\n",
      "\n",
      "Warning message:\n",
      "\"package 'snow' was built under R version 4.2.3\"\n",
      "Loading required package: NMF\n",
      "\n",
      "Loading required package: registry\n",
      "\n",
      "Warning message:\n",
      "\"package 'registry' was built under R version 4.2.3\"\n",
      "Loading required package: rngtools\n",
      "\n",
      "Warning message:\n",
      "\"package 'rngtools' was built under R version 4.2.3\"\n",
      "Loading required package: cluster\n",
      "\n",
      "Warning message:\n",
      "\"package 'cluster' was built under R version 4.2.3\"\n",
      "NMF - BioConductor layer [OK] | Shared memory capabilities [NO: bigmemory] | Cores 2/2\n",
      "\n",
      "  To enable shared memory capabilities, try: install.extras('\n",
      "NMF\n",
      "')\n",
      "\n",
      "Warning message:\n",
      "\"replacing previous import 'gplots::lowess' by 'stats::lowess' when loading 'BayesPrism'\"\n",
      "Warning message:\n",
      "\"replacing previous import 'BiocParallel::register' by 'NMF::register' when loading 'BayesPrism'\"\n"
     ]
    }
   ],
   "source": [
    "library(BayesPrism)"
   ]
  },
  {
   "cell_type": "code",
   "execution_count": 4,
   "id": "ac82d5f6-ec31-4bbb-ad21-1b19938dcfed",
   "metadata": {},
   "outputs": [],
   "source": [
    "sce = readRDS('../final.rds')"
   ]
  },
  {
   "cell_type": "code",
   "execution_count": 5,
   "id": "e12907f9-6e3a-4f93-b585-1669dd60520f",
   "metadata": {},
   "outputs": [
    {
     "name": "stderr",
     "output_type": "stream",
     "text": [
      "Loading required package: SeuratObject\n",
      "\n",
      "Warning message:\n",
      "\"package 'SeuratObject' was built under R version 4.2.3\"\n",
      "Loading required package: sp\n",
      "\n",
      "Warning message:\n",
      "\"package 'sp' was built under R version 4.2.3\"\n",
      "The legacy packages maptools, rgdal, and rgeos, underpinning the sp package,\n",
      "which was just loaded, will retire in October 2023.\n",
      "Please refer to R-spatial evolution reports for details, especially\n",
      "https://r-spatial.org/r/2023/05/15/evolution4.html.\n",
      "It may be desirable to make the sf package available;\n",
      "package maintainers should consider adding sf to Suggests:.\n",
      "The sp package is now running under evolution status 2\n",
      "     (status 2 uses the sf package in place of rgdal)\n",
      "\n"
     ]
    },
    {
     "data": {
      "text/plain": [
       "\n",
       "  Ast   End   ExN   InN   Mic   Mix   OPC   Oli \n",
       "13210  3948 77458 28336  3744  3800  7678 22537 "
      ]
     },
     "metadata": {},
     "output_type": "display_data"
    }
   ],
   "source": [
    "table(sce$celltype)"
   ]
  },
  {
   "cell_type": "code",
   "execution_count": 6,
   "id": "e1d24378-9c72-47ec-9b1b-5071f1212c71",
   "metadata": {},
   "outputs": [],
   "source": [
    "Idents(sce) = 'celltype'\n",
    "sce1 = subset(sce,idents = c('Ast',   'End',   'ExN',   'InN',   'Mic',     'OPC',   'Oli'))"
   ]
  },
  {
   "cell_type": "code",
   "execution_count": 7,
   "id": "78cc02d8-e80d-4c77-abc4-d25d623686de",
   "metadata": {},
   "outputs": [
    {
     "data": {
      "text/plain": [
       "\n",
       "  Ast   End   ExN   InN   Mic   Mix   OPC   Oli \n",
       "13210  3948 77458 28336  3744     0  7678 22537 "
      ]
     },
     "metadata": {},
     "output_type": "display_data"
    }
   ],
   "source": [
    "table(sce1$celltype)"
   ]
  },
  {
   "cell_type": "code",
   "execution_count": 8,
   "id": "85fca356-bd49-4c0e-9341-e4de4a28d082",
   "metadata": {},
   "outputs": [],
   "source": [
    "sce = sce1"
   ]
  },
  {
   "cell_type": "code",
   "execution_count": 9,
   "id": "57617b94-5e92-4b38-a170-4325043b3a39",
   "metadata": {},
   "outputs": [
    {
     "name": "stderr",
     "output_type": "stream",
     "text": [
      "Warning message:\n",
      "\"package 'Seurat' was built under R version 4.2.3\"\n"
     ]
    }
   ],
   "source": [
    "library(Seurat)"
   ]
  },
  {
   "cell_type": "code",
   "execution_count": 10,
   "id": "97503cf6-9c9f-4133-8737-f6a56ea4aa43",
   "metadata": {},
   "outputs": [
    {
     "name": "stderr",
     "output_type": "stream",
     "text": [
      "Warning message in asMethod(object):\n",
      "\"sparse->dense coercion: allocating vector of size 32.4 GiB\"\n"
     ]
    }
   ],
   "source": [
    "Idents(sce) <- \"celltype\"\n",
    "# Downsample the number of cells per identity class\n",
    "sm1 <- subset(x = sce, downsample = 50000)\n",
    "count = as.matrix(sm1@assays$RNA@counts)\n",
    "sc.dat = t(count)"
   ]
  },
  {
   "cell_type": "code",
   "execution_count": 11,
   "id": "6b403721-5fcc-4a3c-bf93-75f2859c88f9",
   "metadata": {},
   "outputs": [],
   "source": [
    "cell.type.labels <- sm1@meta.data[[\"celltype\"]]\n",
    "#cell.state.labels <- sm1@meta.data[[\"subcluster\"]]"
   ]
  },
  {
   "cell_type": "code",
   "execution_count": 12,
   "id": "8048397e-80d3-4e41-a987-c61d45897774",
   "metadata": {},
   "outputs": [
    {
     "data": {
      "text/html": [
       "<strong>png:</strong> 2"
      ],
      "text/latex": [
       "\\textbf{png:} 2"
      ],
      "text/markdown": [
       "**png:** 2"
      ],
      "text/plain": [
       "png \n",
       "  2 "
      ]
     },
     "metadata": {},
     "output_type": "display_data"
    }
   ],
   "source": [
    "plot.cor.phi (input=sc.dat, \n",
    "                         input.labels=cell.type.labels, \n",
    "                         title=\"cell type correlation\",\n",
    "                         #specify pdf.prefix if need to output to pdf\n",
    "                         pdf.prefix=\"gbm.cor.ct\",\n",
    "                         cexRow=0.5, cexCol=0.5,\n",
    "                         )"
   ]
  },
  {
   "cell_type": "code",
   "execution_count": 13,
   "id": "56f15f03-8690-4df7-9c87-58aacf2e6e80",
   "metadata": {},
   "outputs": [
    {
     "name": "stdout",
     "output_type": "stream",
     "text": [
      "Gene symbols detected. Recommend to use EMSEMBLE IDs for more unique mapping.\n"
     ]
    },
    {
     "data": {
      "text/html": [
       "<table class=\"dataframe\">\n",
       "<caption>A data.frame: 6 x 11</caption>\n",
       "<thead>\n",
       "\t<tr><th></th><th scope=col>exp.mean.log</th><th scope=col>max.spec</th><th scope=col>other_Rb</th><th scope=col>chrM</th><th scope=col>chrX</th><th scope=col>chrY</th><th scope=col>Rb</th><th scope=col>Mrp</th><th scope=col>act</th><th scope=col>hb</th><th scope=col>MALAT1</th></tr>\n",
       "\t<tr><th></th><th scope=col>&lt;dbl&gt;</th><th scope=col>&lt;dbl&gt;</th><th scope=col>&lt;lgl&gt;</th><th scope=col>&lt;lgl&gt;</th><th scope=col>&lt;lgl&gt;</th><th scope=col>&lt;lgl&gt;</th><th scope=col>&lt;lgl&gt;</th><th scope=col>&lt;lgl&gt;</th><th scope=col>&lt;lgl&gt;</th><th scope=col>&lt;lgl&gt;</th><th scope=col>&lt;lgl&gt;</th></tr>\n",
       "</thead>\n",
       "<tbody>\n",
       "\t<tr><th scope=row>MIR1302-2HG</th><td>-16.69848</td><td>0.4591409</td><td>FALSE</td><td>FALSE</td><td>FALSE</td><td>FALSE</td><td>FALSE</td><td>FALSE</td><td>FALSE</td><td>FALSE</td><td>FALSE</td></tr>\n",
       "\t<tr><th scope=row>AL627309.1</th><td>-13.45281</td><td>0.2996983</td><td>FALSE</td><td>FALSE</td><td>FALSE</td><td>FALSE</td><td>FALSE</td><td>FALSE</td><td>FALSE</td><td>FALSE</td><td>FALSE</td></tr>\n",
       "\t<tr><th scope=row>AL627309.3</th><td>-16.40122</td><td>0.3049916</td><td>FALSE</td><td>FALSE</td><td>FALSE</td><td>FALSE</td><td>FALSE</td><td>FALSE</td><td>FALSE</td><td>FALSE</td><td>FALSE</td></tr>\n",
       "\t<tr><th scope=row>AL627309.5</th><td>-12.04677</td><td>0.3098530</td><td>FALSE</td><td>FALSE</td><td>FALSE</td><td>FALSE</td><td>FALSE</td><td>FALSE</td><td>FALSE</td><td>FALSE</td><td>FALSE</td></tr>\n",
       "\t<tr><th scope=row>AL627309.4</th><td>-17.46616</td><td>0.5340698</td><td>FALSE</td><td>FALSE</td><td>FALSE</td><td>FALSE</td><td>FALSE</td><td>FALSE</td><td>FALSE</td><td>FALSE</td><td>FALSE</td></tr>\n",
       "\t<tr><th scope=row>AP006222.2</th><td>-16.37929</td><td>0.3263344</td><td>FALSE</td><td>FALSE</td><td>FALSE</td><td>FALSE</td><td>FALSE</td><td>FALSE</td><td>FALSE</td><td>FALSE</td><td>FALSE</td></tr>\n",
       "</tbody>\n",
       "</table>\n"
      ],
      "text/latex": [
       "A data.frame: 6 x 11\n",
       "\\begin{tabular}{r|lllllllllll}\n",
       "  & exp.mean.log & max.spec & other\\_Rb & chrM & chrX & chrY & Rb & Mrp & act & hb & MALAT1\\\\\n",
       "  & <dbl> & <dbl> & <lgl> & <lgl> & <lgl> & <lgl> & <lgl> & <lgl> & <lgl> & <lgl> & <lgl>\\\\\n",
       "\\hline\n",
       "\tMIR1302-2HG & -16.69848 & 0.4591409 & FALSE & FALSE & FALSE & FALSE & FALSE & FALSE & FALSE & FALSE & FALSE\\\\\n",
       "\tAL627309.1 & -13.45281 & 0.2996983 & FALSE & FALSE & FALSE & FALSE & FALSE & FALSE & FALSE & FALSE & FALSE\\\\\n",
       "\tAL627309.3 & -16.40122 & 0.3049916 & FALSE & FALSE & FALSE & FALSE & FALSE & FALSE & FALSE & FALSE & FALSE\\\\\n",
       "\tAL627309.5 & -12.04677 & 0.3098530 & FALSE & FALSE & FALSE & FALSE & FALSE & FALSE & FALSE & FALSE & FALSE\\\\\n",
       "\tAL627309.4 & -17.46616 & 0.5340698 & FALSE & FALSE & FALSE & FALSE & FALSE & FALSE & FALSE & FALSE & FALSE\\\\\n",
       "\tAP006222.2 & -16.37929 & 0.3263344 & FALSE & FALSE & FALSE & FALSE & FALSE & FALSE & FALSE & FALSE & FALSE\\\\\n",
       "\\end{tabular}\n"
      ],
      "text/markdown": [
       "\n",
       "A data.frame: 6 x 11\n",
       "\n",
       "| <!--/--> | exp.mean.log &lt;dbl&gt; | max.spec &lt;dbl&gt; | other_Rb &lt;lgl&gt; | chrM &lt;lgl&gt; | chrX &lt;lgl&gt; | chrY &lt;lgl&gt; | Rb &lt;lgl&gt; | Mrp &lt;lgl&gt; | act &lt;lgl&gt; | hb &lt;lgl&gt; | MALAT1 &lt;lgl&gt; |\n",
       "|---|---|---|---|---|---|---|---|---|---|---|---|\n",
       "| MIR1302-2HG | -16.69848 | 0.4591409 | FALSE | FALSE | FALSE | FALSE | FALSE | FALSE | FALSE | FALSE | FALSE |\n",
       "| AL627309.1 | -13.45281 | 0.2996983 | FALSE | FALSE | FALSE | FALSE | FALSE | FALSE | FALSE | FALSE | FALSE |\n",
       "| AL627309.3 | -16.40122 | 0.3049916 | FALSE | FALSE | FALSE | FALSE | FALSE | FALSE | FALSE | FALSE | FALSE |\n",
       "| AL627309.5 | -12.04677 | 0.3098530 | FALSE | FALSE | FALSE | FALSE | FALSE | FALSE | FALSE | FALSE | FALSE |\n",
       "| AL627309.4 | -17.46616 | 0.5340698 | FALSE | FALSE | FALSE | FALSE | FALSE | FALSE | FALSE | FALSE | FALSE |\n",
       "| AP006222.2 | -16.37929 | 0.3263344 | FALSE | FALSE | FALSE | FALSE | FALSE | FALSE | FALSE | FALSE | FALSE |\n",
       "\n"
      ],
      "text/plain": [
       "            exp.mean.log max.spec  other_Rb chrM  chrX  chrY  Rb    Mrp   act  \n",
       "MIR1302-2HG -16.69848    0.4591409 FALSE    FALSE FALSE FALSE FALSE FALSE FALSE\n",
       "AL627309.1  -13.45281    0.2996983 FALSE    FALSE FALSE FALSE FALSE FALSE FALSE\n",
       "AL627309.3  -16.40122    0.3049916 FALSE    FALSE FALSE FALSE FALSE FALSE FALSE\n",
       "AL627309.5  -12.04677    0.3098530 FALSE    FALSE FALSE FALSE FALSE FALSE FALSE\n",
       "AL627309.4  -17.46616    0.5340698 FALSE    FALSE FALSE FALSE FALSE FALSE FALSE\n",
       "AP006222.2  -16.37929    0.3263344 FALSE    FALSE FALSE FALSE FALSE FALSE FALSE\n",
       "            hb    MALAT1\n",
       "MIR1302-2HG FALSE FALSE \n",
       "AL627309.1  FALSE FALSE \n",
       "AL627309.3  FALSE FALSE \n",
       "AL627309.5  FALSE FALSE \n",
       "AL627309.4  FALSE FALSE \n",
       "AP006222.2  FALSE FALSE "
      ]
     },
     "metadata": {},
     "output_type": "display_data"
    }
   ],
   "source": [
    "sc.stat <- plot.scRNA.outlier(\n",
    "  input=sc.dat, #make sure the colnames are gene symbol or ENSMEBL ID \n",
    "  cell.type.labels=cell.type.labels,\n",
    "  species=\"hs\", #currently only human(hs) and mouse(mm) annotations are supported\n",
    "  return.raw=TRUE ,#return the data used for plotting. \n",
    "  pdf.prefix=\"gbm.sc.stat\" #specify pdf.prefix if need to output to pdf\n",
    ")\n",
    "head(sc.stat)     "
   ]
  },
  {
   "cell_type": "code",
   "execution_count": 14,
   "id": "44904bc1-bbe9-4ef9-8e36-a480bddba5ab",
   "metadata": {},
   "outputs": [
    {
     "name": "stderr",
     "output_type": "stream",
     "text": [
      "\n",
      "Attaching package: 'dplyr'\n",
      "\n",
      "\n",
      "The following object is masked from 'package:Biobase':\n",
      "\n",
      "    combine\n",
      "\n",
      "\n",
      "The following objects are masked from 'package:BiocGenerics':\n",
      "\n",
      "    combine, intersect, setdiff, union\n",
      "\n",
      "\n",
      "The following objects are masked from 'package:stats':\n",
      "\n",
      "    filter, lag\n",
      "\n",
      "\n",
      "The following objects are masked from 'package:base':\n",
      "\n",
      "    intersect, setdiff, setequal, union\n",
      "\n",
      "\n"
     ]
    }
   ],
   "source": [
    "library(dplyr)"
   ]
  },
  {
   "cell_type": "code",
   "execution_count": 15,
   "id": "7625d26c-044f-4791-b500-e025a0b53463",
   "metadata": {},
   "outputs": [],
   "source": [
    "rownames(expr3) = expr3[,1]"
   ]
  },
  {
   "cell_type": "code",
   "execution_count": 16,
   "id": "2c523fe5-d2c3-4458-bae4-7fb980348770",
   "metadata": {},
   "outputs": [],
   "source": [
    "expr3 = expr3[,-1]"
   ]
  },
  {
   "cell_type": "code",
   "execution_count": 17,
   "id": "d3191ca0-61ed-48bf-87dc-5fb8e93eb6e6",
   "metadata": {},
   "outputs": [],
   "source": [
    "load('./prot.rda')"
   ]
  },
  {
   "cell_type": "code",
   "execution_count": 18,
   "id": "a81a07f7-9f6b-4b1e-83c2-35c92e4fd6db",
   "metadata": {},
   "outputs": [
    {
     "data": {
      "text/html": [
       "<style>\n",
       ".list-inline {list-style: none; margin:0; padding: 0}\n",
       ".list-inline>li {display: inline-block}\n",
       ".list-inline>li:not(:last-child)::after {content: \"\\00b7\"; padding: 0 .5ex}\n",
       "</style>\n",
       "<ol class=list-inline><li>34036</li><li>47</li></ol>\n"
      ],
      "text/latex": [
       "\\begin{enumerate*}\n",
       "\\item 34036\n",
       "\\item 47\n",
       "\\end{enumerate*}\n"
      ],
      "text/markdown": [
       "1. 34036\n",
       "2. 47\n",
       "\n",
       "\n"
      ],
      "text/plain": [
       "[1] 34036    47"
      ]
     },
     "metadata": {},
     "output_type": "display_data"
    }
   ],
   "source": [
    "dim(expr3)"
   ]
  },
  {
   "cell_type": "code",
   "execution_count": 19,
   "id": "206b3d3f-0f21-4cc7-b6be-84677723d908",
   "metadata": {},
   "outputs": [],
   "source": [
    "expr3 = expr3[unique(prot),]"
   ]
  },
  {
   "cell_type": "code",
   "execution_count": 20,
   "id": "796e4868-a28e-43b7-9b6b-c227387d5f7c",
   "metadata": {},
   "outputs": [
    {
     "data": {
      "text/html": [
       "<table class=\"dataframe\">\n",
       "<caption>A data.frame: 6 x 47</caption>\n",
       "<thead>\n",
       "\t<tr><th></th><th scope=col>SL32230</th><th scope=col>SL32231</th><th scope=col>SL32242</th><th scope=col>SL32243</th><th scope=col>SL32244</th><th scope=col>SL32245</th><th scope=col>SL32246</th><th scope=col>SL32247</th><th scope=col>SL32248</th><th scope=col>SL32249</th><th scope=col>...</th><th scope=col>SL7403</th><th scope=col>SL7404</th><th scope=col>SL7614</th><th scope=col>SL7625</th><th scope=col>SL7632</th><th scope=col>SL7698</th><th scope=col>SL7801</th><th scope=col>SL7804</th><th scope=col>SL7806</th><th scope=col>SL7807</th></tr>\n",
       "\t<tr><th></th><th scope=col>&lt;int&gt;</th><th scope=col>&lt;int&gt;</th><th scope=col>&lt;int&gt;</th><th scope=col>&lt;int&gt;</th><th scope=col>&lt;int&gt;</th><th scope=col>&lt;int&gt;</th><th scope=col>&lt;int&gt;</th><th scope=col>&lt;int&gt;</th><th scope=col>&lt;int&gt;</th><th scope=col>&lt;int&gt;</th><th scope=col>...</th><th scope=col>&lt;int&gt;</th><th scope=col>&lt;int&gt;</th><th scope=col>&lt;int&gt;</th><th scope=col>&lt;int&gt;</th><th scope=col>&lt;int&gt;</th><th scope=col>&lt;int&gt;</th><th scope=col>&lt;int&gt;</th><th scope=col>&lt;int&gt;</th><th scope=col>&lt;int&gt;</th><th scope=col>&lt;int&gt;</th></tr>\n",
       "</thead>\n",
       "<tbody>\n",
       "\t<tr><th scope=row>TSPAN6</th><td> 76</td><td>130</td><td>104</td><td>147</td><td>123</td><td>129</td><td>150</td><td>165</td><td>104</td><td>133</td><td>...</td><td>203</td><td>241</td><td>301</td><td>416</td><td>238</td><td>198</td><td> 72</td><td>216</td><td>335</td><td>105</td></tr>\n",
       "\t<tr><th scope=row>TNMD</th><td>  3</td><td>  2</td><td>  3</td><td>  2</td><td>  0</td><td>  4</td><td>  4</td><td>  5</td><td>  3</td><td>  4</td><td>...</td><td>  5</td><td>  5</td><td>  8</td><td>  1</td><td>  4</td><td>  5</td><td>  1</td><td>  3</td><td>  9</td><td>  4</td></tr>\n",
       "\t<tr><th scope=row>DPM1</th><td>431</td><td>379</td><td>359</td><td>268</td><td>333</td><td>432</td><td>440</td><td>335</td><td>324</td><td>419</td><td>...</td><td>490</td><td>610</td><td>508</td><td>652</td><td>496</td><td>446</td><td>177</td><td>554</td><td>506</td><td>299</td></tr>\n",
       "\t<tr><th scope=row>SCYL3</th><td>177</td><td>219</td><td>222</td><td>169</td><td>241</td><td>236</td><td>185</td><td>247</td><td>211</td><td>279</td><td>...</td><td>276</td><td>231</td><td>368</td><td>495</td><td>388</td><td>316</td><td>139</td><td>543</td><td>556</td><td>275</td></tr>\n",
       "\t<tr><th scope=row>C1orf112</th><td> 37</td><td> 40</td><td> 44</td><td> 38</td><td> 31</td><td> 25</td><td> 33</td><td> 42</td><td> 37</td><td> 41</td><td>...</td><td> 38</td><td> 54</td><td> 55</td><td>109</td><td> 47</td><td> 81</td><td> 27</td><td>114</td><td> 98</td><td> 46</td></tr>\n",
       "\t<tr><th scope=row>FGR</th><td>120</td><td>187</td><td>208</td><td>202</td><td>256</td><td>171</td><td>270</td><td>179</td><td>150</td><td>187</td><td>...</td><td>239</td><td>191</td><td>232</td><td>335</td><td>276</td><td>236</td><td>105</td><td>236</td><td>437</td><td>134</td></tr>\n",
       "</tbody>\n",
       "</table>\n"
      ],
      "text/latex": [
       "A data.frame: 6 x 47\n",
       "\\begin{tabular}{r|lllllllllllllllllllll}\n",
       "  & SL32230 & SL32231 & SL32242 & SL32243 & SL32244 & SL32245 & SL32246 & SL32247 & SL32248 & SL32249 & ... & SL7403 & SL7404 & SL7614 & SL7625 & SL7632 & SL7698 & SL7801 & SL7804 & SL7806 & SL7807\\\\\n",
       "  & <int> & <int> & <int> & <int> & <int> & <int> & <int> & <int> & <int> & <int> & ... & <int> & <int> & <int> & <int> & <int> & <int> & <int> & <int> & <int> & <int>\\\\\n",
       "\\hline\n",
       "\tTSPAN6 &  76 & 130 & 104 & 147 & 123 & 129 & 150 & 165 & 104 & 133 & ... & 203 & 241 & 301 & 416 & 238 & 198 &  72 & 216 & 335 & 105\\\\\n",
       "\tTNMD &   3 &   2 &   3 &   2 &   0 &   4 &   4 &   5 &   3 &   4 & ... &   5 &   5 &   8 &   1 &   4 &   5 &   1 &   3 &   9 &   4\\\\\n",
       "\tDPM1 & 431 & 379 & 359 & 268 & 333 & 432 & 440 & 335 & 324 & 419 & ... & 490 & 610 & 508 & 652 & 496 & 446 & 177 & 554 & 506 & 299\\\\\n",
       "\tSCYL3 & 177 & 219 & 222 & 169 & 241 & 236 & 185 & 247 & 211 & 279 & ... & 276 & 231 & 368 & 495 & 388 & 316 & 139 & 543 & 556 & 275\\\\\n",
       "\tC1orf112 &  37 &  40 &  44 &  38 &  31 &  25 &  33 &  42 &  37 &  41 & ... &  38 &  54 &  55 & 109 &  47 &  81 &  27 & 114 &  98 &  46\\\\\n",
       "\tFGR & 120 & 187 & 208 & 202 & 256 & 171 & 270 & 179 & 150 & 187 & ... & 239 & 191 & 232 & 335 & 276 & 236 & 105 & 236 & 437 & 134\\\\\n",
       "\\end{tabular}\n"
      ],
      "text/markdown": [
       "\n",
       "A data.frame: 6 x 47\n",
       "\n",
       "| <!--/--> | SL32230 &lt;int&gt; | SL32231 &lt;int&gt; | SL32242 &lt;int&gt; | SL32243 &lt;int&gt; | SL32244 &lt;int&gt; | SL32245 &lt;int&gt; | SL32246 &lt;int&gt; | SL32247 &lt;int&gt; | SL32248 &lt;int&gt; | SL32249 &lt;int&gt; | ... ... | SL7403 &lt;int&gt; | SL7404 &lt;int&gt; | SL7614 &lt;int&gt; | SL7625 &lt;int&gt; | SL7632 &lt;int&gt; | SL7698 &lt;int&gt; | SL7801 &lt;int&gt; | SL7804 &lt;int&gt; | SL7806 &lt;int&gt; | SL7807 &lt;int&gt; |\n",
       "|---|---|---|---|---|---|---|---|---|---|---|---|---|---|---|---|---|---|---|---|---|---|\n",
       "| TSPAN6 |  76 | 130 | 104 | 147 | 123 | 129 | 150 | 165 | 104 | 133 | ... | 203 | 241 | 301 | 416 | 238 | 198 |  72 | 216 | 335 | 105 |\n",
       "| TNMD |   3 |   2 |   3 |   2 |   0 |   4 |   4 |   5 |   3 |   4 | ... |   5 |   5 |   8 |   1 |   4 |   5 |   1 |   3 |   9 |   4 |\n",
       "| DPM1 | 431 | 379 | 359 | 268 | 333 | 432 | 440 | 335 | 324 | 419 | ... | 490 | 610 | 508 | 652 | 496 | 446 | 177 | 554 | 506 | 299 |\n",
       "| SCYL3 | 177 | 219 | 222 | 169 | 241 | 236 | 185 | 247 | 211 | 279 | ... | 276 | 231 | 368 | 495 | 388 | 316 | 139 | 543 | 556 | 275 |\n",
       "| C1orf112 |  37 |  40 |  44 |  38 |  31 |  25 |  33 |  42 |  37 |  41 | ... |  38 |  54 |  55 | 109 |  47 |  81 |  27 | 114 |  98 |  46 |\n",
       "| FGR | 120 | 187 | 208 | 202 | 256 | 171 | 270 | 179 | 150 | 187 | ... | 239 | 191 | 232 | 335 | 276 | 236 | 105 | 236 | 437 | 134 |\n",
       "\n"
      ],
      "text/plain": [
       "         SL32230 SL32231 SL32242 SL32243 SL32244 SL32245 SL32246 SL32247\n",
       "TSPAN6    76     130     104     147     123     129     150     165    \n",
       "TNMD       3       2       3       2       0       4       4       5    \n",
       "DPM1     431     379     359     268     333     432     440     335    \n",
       "SCYL3    177     219     222     169     241     236     185     247    \n",
       "C1orf112  37      40      44      38      31      25      33      42    \n",
       "FGR      120     187     208     202     256     171     270     179    \n",
       "         SL32248 SL32249 ... SL7403 SL7404 SL7614 SL7625 SL7632 SL7698 SL7801\n",
       "TSPAN6   104     133     ... 203    241    301    416    238    198     72   \n",
       "TNMD       3       4     ...   5      5      8      1      4      5      1   \n",
       "DPM1     324     419     ... 490    610    508    652    496    446    177   \n",
       "SCYL3    211     279     ... 276    231    368    495    388    316    139   \n",
       "C1orf112  37      41     ...  38     54     55    109     47     81     27   \n",
       "FGR      150     187     ... 239    191    232    335    276    236    105   \n",
       "         SL7804 SL7806 SL7807\n",
       "TSPAN6   216    335    105   \n",
       "TNMD       3      9      4   \n",
       "DPM1     554    506    299   \n",
       "SCYL3    543    556    275   \n",
       "C1orf112 114     98     46   \n",
       "FGR      236    437    134   "
      ]
     },
     "metadata": {},
     "output_type": "display_data"
    }
   ],
   "source": [
    "head(expr3)"
   ]
  },
  {
   "cell_type": "code",
   "execution_count": null,
   "id": "3274c0f6-0b11-45fa-9d1e-83c8644b4adc",
   "metadata": {},
   "outputs": [],
   "source": []
  },
  {
   "cell_type": "code",
   "execution_count": null,
   "id": "2f6b60b8-501a-4de2-b744-5dbb5e3c821f",
   "metadata": {},
   "outputs": [],
   "source": []
  },
  {
   "cell_type": "code",
   "execution_count": 21,
   "id": "c84bb640-299a-49d3-9de4-06d64ef11ba2",
   "metadata": {},
   "outputs": [],
   "source": [
    "bk.dat = expr3"
   ]
  },
  {
   "cell_type": "code",
   "execution_count": 22,
   "id": "f3c59815-e0b0-4579-ae0f-36087dc73b66",
   "metadata": {},
   "outputs": [
    {
     "ename": "ERROR",
     "evalue": "Error in if (any(which.row)) {: missing value where TRUE/FALSE needed\n",
     "output_type": "error",
     "traceback": [
      "Error in if (any(which.row)) {: missing value where TRUE/FALSE needed\nTraceback:\n",
      "1. plot.bulk.outlier(bulk.input = bk.dat, sc.input = sc.dat, cell.type.labels = cell.type.labels, \n .     species = \"hs\", return.raw = TRUE, pdf.prefix = \"gbm.bk.stat\")",
      "2. norm.to.one(ref = bulk.input, pseudo.min = 1e-08)"
     ]
    }
   ],
   "source": [
    "bk.dat = t(bk.dat)\n",
    "bk.stat <- plot.bulk.outlier(\n",
    "  bulk.input=bk.dat,#make sure the colnames are gene symbol or ENSMEBL ID \n",
    "    sc.input=sc.dat, #make sure the colnames are gene symbol or ENSMEBL ID \n",
    "  cell.type.labels=cell.type.labels,\n",
    "  species=\"hs\", #currently only human(hs) and mouse(mm) annotations are supported\n",
    "  return.raw=TRUE,\n",
    "  pdf.prefix=\"gbm.bk.stat\" #specify pdf.prefix if need to output to pdf\n",
    ")"
   ]
  },
  {
   "cell_type": "code",
   "execution_count": null,
   "id": "ee90b699-e406-4c01-837a-868c9039a63c",
   "metadata": {},
   "outputs": [],
   "source": [
    "sc.dat.filtered <- cleanup.genes (input=sc.dat,\n",
    "                                  input.type=\"count.matrix\",\n",
    "                                    species=\"hs\", \n",
    "                                    gene.group=c( \"Rb\",\"Mrp\",\"other_Rb\",\"chrM\",\n",
    "\"MALAT1\",\"chrX\",\"chrY\",\"hb\",\"act\"),\n",
    "                                    exp.cells=5)\n",
    "plot.bulk.vs.sc (sc.input = sc.dat.filtered,\n",
    "                 bulk.input = bk.dat,\n",
    "                 pdf.prefix=\"gbm.bk.vs.sc\" #specify pdf.prefix if need to output to pdf\n",
    "                 )"
   ]
  },
  {
   "cell_type": "code",
   "execution_count": null,
   "id": "365d44b0-b5ac-4e8c-b476-48de0cbb5c8b",
   "metadata": {},
   "outputs": [],
   "source": [
    "sc.dat.filtered.pc <-  select.gene.type (sc.dat.filtered,\n",
    "                                         gene.type = \"protein_coding\")\n",
    "                                         \n",
    "## 这里都用的大类，才没报错                                     \n",
    "myPrism <- new.prism(\n",
    "  reference=sc.dat.filtered.pc, \n",
    "  mixture=bk.dat,\n",
    "  input.type=\"count.matrix\", \n",
    "  cell.type.labels = cell.type.labels, \n",
    "  cell.state.labels = cell.type.labels,\n",
    "  key=NULL,# \n",
    "  outlier.cut=0.01,\n",
    "  outlier.fraction=0.1,\n",
    ")     \n",
    "bp.res <- run.prism(prism = myPrism, n.cores=40)\n",
    "slotNames(bp.res)"
   ]
  },
  {
   "cell_type": "code",
   "execution_count": null,
   "id": "c74a34b2-a6bd-46bc-a97f-7a2d13e343db",
   "metadata": {},
   "outputs": [],
   "source": [
    "save(bp.res, file=\"bys1.remove.res.rdata\")\n",
    "theta <- get.fraction(bp=bp.res,\n",
    "                       which.theta=\"final\",\n",
    "                       state.or.type=\"type\")\n",
    "write.csv(theta,file=\"bys1-removemix.csv\")            "
   ]
  },
  {
   "cell_type": "code",
   "execution_count": null,
   "id": "bacd7922-b69a-4328-ae59-84b913b12485",
   "metadata": {},
   "outputs": [],
   "source": [
    "library(dplyr)"
   ]
  },
  {
   "cell_type": "code",
   "execution_count": null,
   "id": "b1c783ff-1d41-4b62-a2ae-5ce4027bb084",
   "metadata": {},
   "outputs": [],
   "source": [
    "theta = read.csv('./bys1-removemix.csv',row.names = 1)"
   ]
  },
  {
   "cell_type": "code",
   "execution_count": null,
   "id": "c5747e60-864c-4826-97dc-fdce15803d2b",
   "metadata": {},
   "outputs": [],
   "source": [
    "end = theta %>%  as.data.frame() %>%  tibble::rownames_to_column(.,'sample')"
   ]
  },
  {
   "cell_type": "code",
   "execution_count": null,
   "id": "cf840a03-7c10-4ce3-aa7f-23f8ef74a995",
   "metadata": {},
   "outputs": [],
   "source": [
    "colnames(cliinfo) = c('sample','age','Condition','sex','id','local')"
   ]
  },
  {
   "cell_type": "code",
   "execution_count": null,
   "id": "380a947d-9673-4c8d-a528-099dde6b413d",
   "metadata": {},
   "outputs": [],
   "source": [
    "dataset = merge(cliinfo,end,by = 'sample')"
   ]
  },
  {
   "cell_type": "code",
   "execution_count": null,
   "id": "db133536-01a1-43b3-b9db-46f656106689",
   "metadata": {},
   "outputs": [],
   "source": [
    "head(dataset,3)"
   ]
  },
  {
   "cell_type": "code",
   "execution_count": null,
   "id": "f60b5729-089b-4206-aea1-ca69695149b2",
   "metadata": {},
   "outputs": [],
   "source": [
    "my_comparisons = list(c('Contreol','MD'))"
   ]
  },
  {
   "cell_type": "code",
   "execution_count": null,
   "id": "d35b7e5c-1ef5-4b38-aacf-e3c764f0b086",
   "metadata": {},
   "outputs": [],
   "source": [
    "library(ggpubr)"
   ]
  },
  {
   "cell_type": "code",
   "execution_count": null,
   "id": "ed83e617-98b3-41a4-ae7a-aecee896ea35",
   "metadata": {},
   "outputs": [],
   "source": [
    "options(repr.plot.height = 8.5,repr.plot.width = 8)"
   ]
  },
  {
   "cell_type": "code",
   "execution_count": null,
   "id": "305372a8-86cc-445c-b31b-38f92379a971",
   "metadata": {},
   "outputs": [],
   "source": [
    "dataset %>% \n",
    "  #dplyr::filter(group %in% c(\"IBC\",\"N\",\"DCIS\")) %>% \n",
    "  ggviolin(x = \"Condition\", y = c(colnames(dataset)[7:14]), fill = \"Condition\",\n",
    "           combine = T,\n",
    "         #palette = c(\"#00AFBB\", \"#E7B800\", \"#FC4E07\"),##\n",
    "         ylab=\"Normalized Expression\",\n",
    "         add = \"boxplot\", add.params = list(fill = \"white\"))+\n",
    "stat_compare_means()"
   ]
  },
  {
   "cell_type": "code",
   "execution_count": null,
   "id": "b053eeb2-7739-4493-950c-6e2b28d2b4eb",
   "metadata": {},
   "outputs": [],
   "source": [
    "ggsave('violin_plot1.remove.pdf',height = 10,width = 8)"
   ]
  },
  {
   "cell_type": "code",
   "execution_count": null,
   "id": "03beb3e8-0f14-47ad-9f1c-a76f12fef989",
   "metadata": {},
   "outputs": [],
   "source": []
  },
  {
   "cell_type": "code",
   "execution_count": null,
   "id": "f7d6c291-10be-4c43-b6d1-3ac24d3edaba",
   "metadata": {},
   "outputs": [],
   "source": []
  },
  {
   "cell_type": "code",
   "execution_count": null,
   "id": "81813b6a-649c-4b15-8359-c7de84e644c1",
   "metadata": {},
   "outputs": [],
   "source": []
  },
  {
   "cell_type": "code",
   "execution_count": null,
   "id": "37d4588c-efe5-4859-a78b-58e3c232aa10",
   "metadata": {},
   "outputs": [],
   "source": []
  },
  {
   "cell_type": "code",
   "execution_count": null,
   "id": "89c14e1b-3d7f-47d5-8e71-531e280d5e58",
   "metadata": {},
   "outputs": [],
   "source": []
  },
  {
   "cell_type": "code",
   "execution_count": null,
   "id": "4eec5fe4-770c-4e51-8b48-dbce17e87856",
   "metadata": {},
   "outputs": [],
   "source": []
  },
  {
   "cell_type": "code",
   "execution_count": null,
   "id": "1f95f875-7e2a-428c-9e1d-15db25c895cd",
   "metadata": {},
   "outputs": [],
   "source": []
  },
  {
   "cell_type": "code",
   "execution_count": null,
   "id": "75ae09a1-2783-4198-86ca-2d174803a63b",
   "metadata": {},
   "outputs": [],
   "source": []
  },
  {
   "cell_type": "code",
   "execution_count": null,
   "id": "48b010a9-1319-4a13-8690-9d43899fa14e",
   "metadata": {},
   "outputs": [],
   "source": []
  },
  {
   "cell_type": "code",
   "execution_count": null,
   "id": "90d9648a-0306-47df-a3a7-0cb6dfc7e6a1",
   "metadata": {},
   "outputs": [],
   "source": []
  },
  {
   "cell_type": "code",
   "execution_count": null,
   "id": "354da210-ce4a-4c88-91d3-b98cc142df07",
   "metadata": {},
   "outputs": [],
   "source": []
  },
  {
   "cell_type": "code",
   "execution_count": null,
   "id": "88894417-a004-431c-ab80-5082d51991ec",
   "metadata": {},
   "outputs": [],
   "source": []
  },
  {
   "cell_type": "code",
   "execution_count": null,
   "id": "912fe875-fdb2-45bc-94ad-42d91be56372",
   "metadata": {},
   "outputs": [],
   "source": []
  },
  {
   "cell_type": "code",
   "execution_count": null,
   "id": "98e80124-45d2-4807-b83d-8706754e7fdc",
   "metadata": {},
   "outputs": [],
   "source": []
  },
  {
   "cell_type": "code",
   "execution_count": null,
   "id": "9f1a55a8-f1cd-4e88-9080-89158c588ad9",
   "metadata": {},
   "outputs": [],
   "source": []
  },
  {
   "cell_type": "code",
   "execution_count": null,
   "id": "d512e4e4-7da0-4e2e-aa67-76cb23ce631d",
   "metadata": {},
   "outputs": [],
   "source": []
  },
  {
   "cell_type": "code",
   "execution_count": null,
   "id": "d7c536a8-4f14-4ef7-8e42-42d82f67531a",
   "metadata": {},
   "outputs": [],
   "source": []
  }
 ],
 "metadata": {
  "kernelspec": {
   "display_name": "R",
   "language": "R",
   "name": "ir"
  },
  "language_info": {
   "codemirror_mode": "r",
   "file_extension": ".r",
   "mimetype": "text/x-r-source",
   "name": "R",
   "pygments_lexer": "r",
   "version": "4.2.1"
  }
 },
 "nbformat": 4,
 "nbformat_minor": 5
}
