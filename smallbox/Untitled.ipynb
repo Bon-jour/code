{
 "cells": [
  {
   "cell_type": "markdown",
   "id": "a5b5c098-aea2-4cea-8dea-4eaed23e4070",
   "metadata": {},
   "source": [
    "## 韦恩"
   ]
  },
  {
   "cell_type": "code",
   "execution_count": null,
   "id": "c8e616e0-4683-4056-8a66-3aef34c3fcbe",
   "metadata": {},
   "outputs": [],
   "source": []
  },
  {
   "cell_type": "code",
   "execution_count": 31,
   "id": "99d1a32a-477a-4306-94c7-f466ba32603e",
   "metadata": {},
   "outputs": [
    {
     "data": {
      "text/html": [
       "0"
      ],
      "text/latex": [
       "0"
      ],
      "text/markdown": [
       "0"
      ],
      "text/plain": [
       "[1] 0"
      ]
     },
     "metadata": {},
     "output_type": "display_data"
    },
    {
     "name": "stdout",
     "output_type": "stream",
     "text": [
      "[1] \"/import/boxout/venn_plot_file.txt\"\n"
     ]
    },
    {
     "data": {
      "text/html": [
       "<strong>png:</strong> 2"
      ],
      "text/latex": [
       "\\textbf{png:} 2"
      ],
      "text/markdown": [
       "**png:** 2"
      ],
      "text/plain": [
       "png \n",
       "  2 "
      ]
     },
     "metadata": {},
     "output_type": "display_data"
    }
   ],
   "source": [
    "venn.check = function(\n",
    "    data_path = data_path,\n",
    "    out_path = out_path,\n",
    "    filename = filename\n",
    "){\n",
    "    plotfile = paste0(data_path,filename)\n",
    "    if (!file.exists(plotfile)){\n",
    "        print(\"table do not exist ,please check it  \")\n",
    "    } else {\n",
    "        write.table(as.data.frame(plotfile),\n",
    "              file = paste0(out_path, \"/venn_plot_file.txt\"), \n",
    "              row.names = F, quote = F, col.names = F)\n",
    "    }\n",
    "    return(0)\n",
    "}\n",
    "\n",
    "\n",
    "venn.plot = function(\n",
    "    out_path\n",
    "){\n",
    "    checkfile = paste0(out_path,'venn_plot_file.txt')\n",
    "    print(checkfile)\n",
    "    if (!file.exists(checkfile)){\n",
    "        print(\"checkfile do not exist ,please check it  \")\n",
    "    } else {\n",
    "        file = read.table(checkfile,sep = '\\t',stringsAsFactors = F,header =F,check.names = F)[1,1]\n",
    "    }\n",
    "    data  = read.table(file,sep = '\\t',stringsAsFactors = F,header =F,check.names = F)\n",
    "\n",
    "    library(venn)\n",
    "    library(VennDiagram)\n",
    "    color=c( \"#3C5488B2\",\"#00A087B2\", \n",
    "         \"#F39B7FB2\",\"#91D1C2B2\", \n",
    "         \"#8491B4B2\", \"#DC0000B2\", \n",
    "         \"#7E6148B2\",\"yellow\", \n",
    "         \"darkolivegreen1\", \"lightskyblue\", \n",
    "         \"darkgreen\", \"deeppink\", \"khaki2\", \n",
    "         \"firebrick\", \"brown1\", \"darkorange1\", \n",
    "         \"cyan1\", \"royalblue4\", \"darksalmon\", \n",
    "         \"darkgoldenrod1\", \"darkseagreen\", \"darkorchid\")\n",
    "\n",
    "    if (ncol(data) == 2){\n",
    "        sample_list <- list(c1 = data[,1], c2 = data[,2])\n",
    "    }else if(ncol(data) == 3){\n",
    "        sample_list <- list(c1 = data[,1], c2 = data[,2], c3 = data[,3])\n",
    "    }else if(ncol(data) == 4){\n",
    "        sample_list <- list(c1 = data[,1], c2 = data[,2], c3 = data[,3], c4 = data[,4])\n",
    "    }else{\n",
    "        sample_list <- list(c1 = data[,1], c2 = data[,2], c3 = data[,3], c4 = data[,4], c5 = data[,5])\n",
    "    }\n",
    "    \n",
    "    q <- venn.diagram(sample_list,filename = NULL,\n",
    "             fill = color[1:(length(sample_list))],\n",
    "             alpha = 0.50, cat.col = rep('black', ncol(data)), \n",
    "             col = 'black', cex = 1, fontfamily = 'serif', cat.cex = 1, cat.fontfamily = 'serif', margin = 0.2\n",
    "                             )\n",
    "    pdf(paste0(out_path,\"venn.pdf\"))\n",
    "    grid.draw(q)\n",
    "    dev.off()\n",
    "}\n",
    "# data_path= '/import/box/'\n",
    "# out_path = '/import/boxout/'\n",
    "# filename = 'data.txt'\n",
    "# venn.check(data_path,out_path,filename)\n",
    "# venn.plot(out_path )"
   ]
  },
  {
   "cell_type": "markdown",
   "id": "b9752df3-6dcf-4d36-8917-c7fd4016bc8d",
   "metadata": {},
   "source": [
    "## 2. upset图"
   ]
  },
  {
   "cell_type": "code",
   "execution_count": 34,
   "id": "ec27e515-73ce-4fbd-8a10-2a3eee6faeba",
   "metadata": {},
   "outputs": [
    {
     "name": "stdout",
     "output_type": "stream",
     "text": [
      "[1] \"/import/boxout/upset_plot_file.txt\"\n"
     ]
    },
    {
     "data": {
      "text/html": [
       "<strong>png:</strong> 2"
      ],
      "text/latex": [
       "\\textbf{png:} 2"
      ],
      "text/markdown": [
       "**png:** 2"
      ],
      "text/plain": [
       "png \n",
       "  2 "
      ]
     },
     "metadata": {},
     "output_type": "display_data"
    }
   ],
   "source": [
    "upset.check = function(\n",
    "    data_path = data_path,\n",
    "    out_path = out_path,\n",
    "    filename = filename\n",
    "){\n",
    "    plotfile = paste0(data_path,filename)\n",
    "    if (!file.exists(plotfile)){\n",
    "        print(\"table do not exist ,please check it  \")\n",
    "    } else {\n",
    "        write.table(as.data.frame(plotfile),\n",
    "              file = paste0(out_path, \"/upset_plot_file.txt\"), \n",
    "              row.names = F, quote = F, col.names = F)\n",
    "    }\n",
    "    return(0)\n",
    "}\n",
    "\n",
    "\n",
    "upset.plot = function(\n",
    "    out_path\n",
    "){\n",
    "    checkfile = paste0(out_path,'upset_plot_file.txt')\n",
    "    print(checkfile)\n",
    "    if (!file.exists(checkfile)){\n",
    "        print(\"checkfile do not exist ,please check it  \")\n",
    "    } else {\n",
    "        file = read.table(checkfile,sep = '\\t',stringsAsFactors = F,header =F,check.names = F)[1,1]\n",
    "    }\n",
    "    data  = read.table(file,sep = '\\t',stringsAsFactors = F,header =F,check.names = F)\n",
    "\n",
    "    library(UpSetR)\n",
    "    library(openxlsx)\n",
    "    library(RColorBrewer)\n",
    "    p = upset(fromList(data),\n",
    "      nsets=length(data),#显示数据集的所有数据,nsets = 数值调整可视化数据集数量\n",
    "      nintersects=30,#显示前多少个\n",
    "      number.angles = 0, #交互集合柱状图的柱标倾角\n",
    "      point.size=4, #图中点的大小\n",
    "      line.size=1, #图中连接线粗细\n",
    "      mainbar.y.label=\"Intersection size\", #y轴的标签\n",
    "      main.bar.color = 'black', #y轴柱状图颜色\n",
    "      matrix.color=\"black\", #x轴点的颜色\n",
    "      sets.x.label=\"Set size\",   #x轴的标签\n",
    "      sets.bar.color=brewer.pal(ncol(data),\"Set3\"),#x轴柱状图的颜色;Set1中只有9个颜色，Set3中有12个颜色，Paired中有12个颜色\n",
    "      mb.ratio = c(0.7, 0.3), \n",
    "      order.by = \"freq\", \n",
    "      text.scale=c(1.5,1.5,1.5,1.5,1.5,1), \n",
    "      shade.color=\"red\") \n",
    "    pdf(paste0(out_path,\"upset.pdf\"))\n",
    "    print(p)\n",
    "    dev.off()\n",
    "}\n",
    "\n",
    "# data_path= '/import/box/'\n",
    "# out_path = '/import/boxout/'\n",
    "# filename = 'data.txt'\n",
    "checkfile = upset.check(data_path,out_path,filename)\n",
    "upset.plot(out_path)"
   ]
  },
  {
   "cell_type": "markdown",
   "id": "cb09a851-3438-4893-aff8-005fda3fae78",
   "metadata": {},
   "source": [
    "## 雷达图"
   ]
  },
  {
   "cell_type": "code",
   "execution_count": 65,
   "id": "4b581aec-7875-41c1-9bcb-de05b725d32f",
   "metadata": {
    "scrolled": true
   },
   "outputs": [
    {
     "data": {
      "text/html": [
       "0"
      ],
      "text/latex": [
       "0"
      ],
      "text/markdown": [
       "0"
      ],
      "text/plain": [
       "[1] 0"
      ]
     },
     "metadata": {},
     "output_type": "display_data"
    },
    {
     "name": "stderr",
     "output_type": "stream",
     "text": [
      "\u001b[1m\u001b[22mSaving 6.67 x 6.67 in image\n"
     ]
    }
   ],
   "source": [
    "gradder.check = function(\n",
    "    path = data_path,\n",
    "    fpkm = fpkm,\n",
    "    groupinfo = groupinfo,\n",
    "    out_path = out_path\n",
    "){\n",
    "    exprfile = paste0(path,fpkm)\n",
    "    groupinfo = paste0(path,groupinfo)\n",
    "    if (!file.exists(exprfile) &&  !file.exists(groupinfo) ){\n",
    "        stop(\"table do not exist ,please check it  \")\n",
    "    } else {\n",
    "        checkfile = as.data.frame(c(exprfile,groupinfo))\n",
    "        write.table(checkfile,\n",
    "              file = paste0(out_path, \"/gradder_plot_file.txt\"), \n",
    "              row.names = F, quote = F, col.names = F)\n",
    "    }\n",
    "   return(0)\n",
    "}\n",
    "\n",
    "\n",
    "gradder.plot = function(\n",
    "    outpath\n",
    "){\n",
    "    checkfile = paste0(out_path,'gradder_plot_file.txt')\n",
    "    if (!file.exists(checkfile)){\n",
    "        print(\"checkfile do not exist ,please check it  \")\n",
    "    } else {\n",
    "        checkfile = read.table(checkfile,sep = '\\t',stringsAsFactors = F,header =F,check.names = F)[,1]\n",
    "    }\n",
    "\n",
    "    \n",
    "    library(dplyr)\n",
    "    library(tidyverse)\n",
    "    library(ggradar)\n",
    "    library(dplyr)\n",
    "    library(scales)\n",
    "    library(tibble)\n",
    "    expr = read.table(checkfile[1],sep = '\\t',stringsAsFactors = F,header =T,check.names = F,row.names = 1)\n",
    "    \n",
    "    groupinfo = read.table(checkfile[2],sep = '\\t',stringsAsFactors = F,header =T,check.names = F,row.names = 1)\n",
    "\n",
    "    colnames(expr) = groupinfo$group\n",
    "    avereps_df<- t(limma::avereps(t(expr), ID = colnames(expr)))    \n",
    "    avereps_df=avereps_df[rowMeans(avereps_df)>0,]\n",
    "\n",
    "    avereps_df %>%  as.data.frame() %>% \n",
    "    tibble::rownames_to_column(.,'group') -> a\n",
    "     a %>% tibble::column_to_rownames(.,'group') %>% t() %>% as.matrix() %>% \n",
    "apply(., MARGIN = 2, FUN = function(X) (X - min(X))/diff(range(X))) %>% t() %>% as.data.frame() %>% \n",
    "      tibble::rownames_to_column(.,'group') -> b\n",
    "ggradar(b,grid.line.width = 0.5,axis.label.size=5,group.line.width =1,group.point.size =2)\n",
    "    ggsave(paste0(out_path,\"gradder.pdf\"))\n",
    "    \n",
    "}\n",
    "data_path= '/import/box/'\n",
    "out_path = '/import/boxout/'\n",
    "fpkm = 'rna2.txt'\n",
    "groupinfo = 'group.txt'\n",
    "gradder.check(data_path,fpkm,groupinfo,out_path)\n",
    "gradder.plot(out_path)"
   ]
  },
  {
   "cell_type": "code",
   "execution_count": null,
   "id": "e210bf75-6905-4bd1-9af7-92003e55a73b",
   "metadata": {},
   "outputs": [],
   "source": []
  },
  {
   "cell_type": "markdown",
   "id": "71657c0f-8b9f-46db-94fb-9f84719152be",
   "metadata": {},
   "source": [
    "## 趋势分析"
   ]
  },
  {
   "cell_type": "code",
   "execution_count": 79,
   "id": "f0645507-f421-4097-a3b4-3603e786b3cb",
   "metadata": {
    "scrolled": true
   },
   "outputs": [
    {
     "data": {
      "text/html": [
       "0"
      ],
      "text/latex": [
       "0"
      ],
      "text/markdown": [
       "0"
      ],
      "text/plain": [
       "[1] 0"
      ]
     },
     "metadata": {},
     "output_type": "display_data"
    },
    {
     "name": "stdout",
     "output_type": "stream",
     "text": [
      "0 genes excluded.\n",
      "0 genes excluded.\n",
      "[1] 2.50577\n"
     ]
    },
    {
     "data": {
      "image/png": "[encoded data removed]",
      "text/plain": [
       "plot without title"
      ]
     },
     "metadata": {
      "image/png": {
       "height": 420,
       "width": 420
      }
     },
     "output_type": "display_data"
    }
   ],
   "source": [
    "time.check = function(\n",
    "    path = data_path,\n",
    "    fpkm = fpkm,\n",
    "    groupinfo = groupinfo,\n",
    "    out_path = out_path\n",
    "){\n",
    "    exprfile = paste0(path,fpkm)\n",
    "    groupinfo = paste0(path,groupinfo)\n",
    "    if (!file.exists(exprfile) &&  !file.exists(groupinfo) ){\n",
    "        stop(\"table do not exist ,please check it  \")\n",
    "    } else {\n",
    "        checkfile = as.data.frame(c(exprfile,groupinfo))\n",
    "        write.table(checkfile,\n",
    "              file = paste0(out_path, \"/time_plot_file.txt\"), \n",
    "              row.names = F, quote = F, col.names = F)\n",
    "    }\n",
    "   return(0)\n",
    "}\n",
    "\n",
    "\n",
    "time.plot = function(\n",
    "    out_path,\n",
    "    cluster = cluster\n",
    "){\n",
    "   checkfile = paste0(out_path,'time_plot_file.txt')\n",
    "    if (!file.exists(checkfile)){\n",
    "        print(\"checkfile do not exist ,please check it  \")\n",
    "    } else {\n",
    "        checkfile = read.table(checkfile,sep = '\\t',stringsAsFactors = F,header =F,check.names = F)[,1]\n",
    "    }\n",
    "\n",
    "    \n",
    "    library(dplyr)\n",
    "    library(tidyverse)\n",
    "    library(ggradar)\n",
    "    library(dplyr)\n",
    "    library(scales)\n",
    "    library(tibble)\n",
    "    library(Mfuzz)\n",
    "    library(\"Cairo\")\n",
    "    library(RColorBrewer)#\n",
    "    expr = read.table(checkfile[1],sep = '\\t',stringsAsFactors = F,header =T,check.names = F,row.names = 1)\n",
    "    groupinfo = read.table(checkfile[2],sep = '\\t',stringsAsFactors = F,header =T,check.names = F,row.names = 1)\n",
    "\n",
    "    colnames(expr) = groupinfo$group\n",
    "    avereps_df<- t(limma::avereps(t(expr), ID = colnames(expr)))    \n",
    "    avereps_df=avereps_df[rowMeans(avereps_df)>0,]\n",
    "\n",
    "    head(avereps_df)\n",
    "    protein <- avereps_df\n",
    "    dim(protein)\n",
    "    \n",
    "   \n",
    "    mfuzz_class <- new('ExpressionSet',exprs = protein)\n",
    "    mfuzz_class <- filter.NA(mfuzz_class, thres = 0.25)\n",
    "    mfuzz_class <- fill.NA(mfuzz_class, mode = 'mean')\n",
    "    mfuzz_class <- filter.std(mfuzz_class, min.std = 0)\n",
    "    mfuzz_class <- standardise(mfuzz_class)\n",
    "    set.seed(123)\n",
    "\n",
    "    c<-cluster\n",
    "     \n",
    "    \n",
    "    #计算最佳的m值。\n",
    "    m<-mestimate(mfuzz_class)\n",
    "    \n",
    "    \n",
    "    print(m)\n",
    "    #聚类。\n",
    "    cl<-mfuzz(mfuzz_class, c=c, m=m)\n",
    "   \n",
    "    \n",
    "    col<-c('#1E88E5','#43A047','#FDD835','#FB8C00','#E53935','#90A4AE')\n",
    "    \n",
    "    pdf(paste0(out_path,\"time.pdf\"))\n",
    "    mfuzz.plot(mfuzz_class,cl,mfrow=c(2,4),col,new.window=FALSE)\n",
    "    dev.off()\n",
    "    write.table(cl$cluster,paste0(out_path,'time.output.txt'),quote=F,row.names=T,col.names=F,sep='\\t')\n",
    "\n",
    "}\n",
    "# path = '/import/box/'\n",
    "# fpkm = 'rna.txt'\n",
    "# groupinfo = 'group.txt'\n",
    "# cluster = 8\n",
    "# time.check(data_path,fpkm,groupinfo,out_path)\n",
    "# time.plot(out_path,cluster)"
   ]
  },
  {
   "cell_type": "code",
   "execution_count": null,
   "id": "8f95ba21-5661-4969-8c38-7c2e22e2a7ea",
   "metadata": {},
   "outputs": [],
   "source": []
  },
  {
   "cell_type": "code",
   "execution_count": null,
   "id": "9b5fe3e1-640f-4a9f-8940-511ff3d0da06",
   "metadata": {},
   "outputs": [],
   "source": []
  },
  {
   "cell_type": "code",
   "execution_count": null,
   "id": "7073ba3c-8708-4ced-8451-147b11ff05b5",
   "metadata": {},
   "outputs": [],
   "source": []
  },
  {
   "cell_type": "code",
   "execution_count": null,
   "id": "38438789-8971-40b5-8a49-443f34ff2137",
   "metadata": {},
   "outputs": [],
   "source": []
  },
  {
   "cell_type": "code",
   "execution_count": 48,
   "id": "20a96093-7aca-4102-9c9a-9e341f6dd117",
   "metadata": {},
   "outputs": [
    {
     "data": {
      "text/html": [
       "<table class=\"dataframe\">\n",
       "<caption>A data.frame: 2 x 1</caption>\n",
       "<thead>\n",
       "\t<tr><th scope=col>c(exprfile, groupinfo)</th></tr>\n",
       "\t<tr><th scope=col>&lt;chr&gt;</th></tr>\n",
       "</thead>\n",
       "<tbody>\n",
       "\t<tr><td>/import/box/rna.txt  </td></tr>\n",
       "\t<tr><td>/import/box/group.txt</td></tr>\n",
       "</tbody>\n",
       "</table>\n"
      ],
      "text/latex": [
       "A data.frame: 2 x 1\n",
       "\\begin{tabular}{l}\n",
       " c(exprfile, groupinfo)\\\\\n",
       " <chr>\\\\\n",
       "\\hline\n",
       "\t /import/box/rna.txt  \\\\\n",
       "\t /import/box/group.txt\\\\\n",
       "\\end{tabular}\n"
      ],
      "text/markdown": [
       "\n",
       "A data.frame: 2 x 1\n",
       "\n",
       "| c(exprfile, groupinfo) &lt;chr&gt; |\n",
       "|---|\n",
       "| /import/box/rna.txt   |\n",
       "| /import/box/group.txt |\n",
       "\n"
      ],
      "text/plain": [
       "  c(exprfile, groupinfo)\n",
       "1 /import/box/rna.txt   \n",
       "2 /import/box/group.txt "
      ]
     },
     "metadata": {},
     "output_type": "display_data"
    },
    {
     "name": "stderr",
     "output_type": "stream",
     "text": [
      "\u001b[1m\u001b[22mSaving 6.67 x 6.67 in image\n",
      "\u001b[1m\u001b[22mToo few points to calculate an ellipse\n",
      "\u001b[1m\u001b[22mToo few points to calculate an ellipse\n",
      "\u001b[1m\u001b[22mToo few points to calculate an ellipse\n",
      "\u001b[1m\u001b[22mToo few points to calculate an ellipse\n"
     ]
    }
   ],
   "source": [
    "pca.check = function(\n",
    "    path = outpath,\n",
    "    fpkm = fpkm,\n",
    "    groupinfo = groupinfo\n",
    "){\n",
    "    exprfile = paste0(path,fpkm)\n",
    "    groupinfo = paste0(path,groupinfo)\n",
    "    if (!file.exists(exprfile) &&  !file.exists(groupinfo) ){\n",
    "        stop(\"table do not exist ,please check it  \")\n",
    "    } else {\n",
    "        checkfile = as.data.frame(c(exprfile,groupinfo))\n",
    "        write.table(checkfile,\n",
    "              file = paste0(path, \"/pca_plot_file.txt\"), \n",
    "              row.names = F, quote = F, col.names = F)\n",
    "    }\n",
    "   return(checkfile)\n",
    "}\n",
    "\n",
    "\n",
    "pca.plot = function(\n",
    "    outpath\n",
    "){\n",
    "    checkfile = paste0(outpath,'pca_plot_file.txt')\n",
    "    if (!file.exists(checkfile)){\n",
    "        print(\"checkfile do not exist ,please check it  \")\n",
    "    } else {\n",
    "        checkfile = read.table(checkfile[1],sep = '\\t',stringsAsFactors = F,header =F,check.names = F)\n",
    "    }\n",
    "    library(dplyr)\n",
    "    library(tidyverse)\n",
    "    library(ggradar)\n",
    "    library(dplyr)\n",
    "    library(scales)\n",
    "    library(tibble)\n",
    "    \n",
    "    library(Mfuzz)\n",
    "    count = read.table(checkfile[1,1],sep = '\\t',stringsAsFactors = F,header =T,check.names = F,row.names = 1)\n",
    "    group = read.table(checkfile[2,1],sep = '\\t',stringsAsFactors = F,header =T,check.names = F,row.names = 1)\n",
    "    probesetvar = apply(count, 1, var)  \n",
    "    ord = order(probesetvar, decreasing=TRUE)[1:2000]\n",
    "    pca = prcomp(t(count[ord,]), scale=TRUE)\n",
    "    \n",
    "    library(factoextra)\n",
    "    group=group$group\n",
    "    fviz_pca_ind(pca,\n",
    "                 #geom.ind=\"point\",\n",
    "                 col.ind=group,\n",
    "                 pointsize=1,\n",
    "                 pointshape=21,\n",
    "                 fill.ind=group,\n",
    "                 addEllipses=TRUE,\n",
    "                 mean.point=F,\n",
    "    #palette=c(\"#00AFBB\",\"#E7B800\",\"#FC4E07\",\"blue\"),\n",
    "    legend.titl=\"Groups\",title=\"\")+theme_bw()+ \n",
    "      theme(panel.border = element_rect(fill=NA,color=\"black\", size=1, linetype=\"solid\")) +\n",
    "    ggforce::geom_mark_ellipse(aes(fill = group,\n",
    "                            color = group)) \n",
    "    ggsave(paste0(outpath,\"pca.pdf\"))\n",
    "}\n",
    "path = '/import/box/'\n",
    "fpkm = 'rna.txt'\n",
    "groupinfo = 'group.txt'\n",
    "pca.check(path,fpkm,groupinfo)\n",
    "pca.plot(path)"
   ]
  },
  {
   "cell_type": "code",
   "execution_count": 83,
   "id": "1fc88b7e-1a21-40e9-a416-e69f54a12017",
   "metadata": {},
   "outputs": [
    {
     "name": "stdout",
     "output_type": "stream",
     "text": [
      "[1] \"/import/boxout/upset_plot_file.txt\"\n"
     ]
    },
    {
     "ename": "ERROR",
     "evalue": "Error in scan(file = file, what = what, sep = sep, quote = quote, dec = dec, : line 14975 did not have 5 elements\n",
     "output_type": "error",
     "traceback": [
      "Error in scan(file = file, what = what, sep = sep, quote = quote, dec = dec, : line 14975 did not have 5 elements\nTraceback:\n",
      "1. upset.plot(out_path)",
      "2. read.table(file, sep = \"\\t\", stringsAsFactors = F, header = F, \n .     check.names = F)   # at line 28 of file <text>",
      "3. scan(file = file, what = what, sep = sep, quote = quote, dec = dec, \n .     nmax = nrows, skip = 0, na.strings = na.strings, quiet = TRUE, \n .     fill = fill, strip.white = strip.white, blank.lines.skip = blank.lines.skip, \n .     multi.line = FALSE, comment.char = comment.char, allowEscapes = allowEscapes, \n .     flush = flush, encoding = encoding, skipNul = skipNul)"
     ]
    }
   ],
   "source": [
    "upset.check = function(\n",
    "    data_path = data_path,\n",
    "    out_path = out_path,\n",
    "    filename = filename\n",
    "){\n",
    "    plotfile = paste0(data_path,filename)\n",
    "    if (!file.exists(plotfile)){\n",
    "        print(\"table do not exist ,please check it  \")\n",
    "    } else {\n",
    "        write.table(as.data.frame(plotfile),\n",
    "              file = paste0(out_path, \"/upset_plot_file.txt\"), \n",
    "              row.names = F, quote = F, col.names = F)\n",
    "    }\n",
    "    return(0)\n",
    "}\n",
    "\n",
    "\n",
    "upset.plot = function(\n",
    "    out_path\n",
    "){\n",
    "    checkfile = paste0(out_path,'upset_plot_file.txt')\n",
    "    print(checkfile)\n",
    "    if (!file.exists(checkfile)){\n",
    "        print(\"checkfile do not exist ,please check it  \")\n",
    "    } else {\n",
    "        file = read.table(checkfile,sep = '\\t',stringsAsFactors = F,header =F,check.names = F)[1,1]\n",
    "    }\n",
    "    data  = read.table(file,sep = '\\t',stringsAsFactors = F,header =F,check.names = F)\n",
    "    \n",
    "    colnames(data) = c('Nr','Swissport','KOG','GO','KEGG')\n",
    "\n",
    "    library(UpSetR)\n",
    "    library(openxlsx)\n",
    "    library(RColorBrewer)\n",
    "    p = upset(fromList(data),\n",
    "      nsets=length(data),#显示数据集的所有数据,nsets = 数值调整可视化数据集数量\n",
    "      nintersects=30,#显示前多少个\n",
    "      number.angles = 0, #交互集合柱状图的柱标倾角\n",
    "      point.size=4, #图中点的大小\n",
    "      line.size=1, #图中连接线粗细\n",
    "      mainbar.y.label=\"Intersection size\", #y轴的标签\n",
    "      main.bar.color = 'black', #y轴柱状图颜色\n",
    "      matrix.color=\"black\", #x轴点的颜色\n",
    "      sets.x.label=\"Set size\",   #x轴的标签\n",
    "      sets.bar.color=brewer.pal(ncol(data),\"Set3\"),#x轴柱状图的颜色;Set1中只有9个颜色，Set3中有12个颜色，Paired中有12个颜色\n",
    "      mb.ratio = c(0.7, 0.3), \n",
    "      order.by = \"freq\", \n",
    "      text.scale=c(1.5,1.5,1.5,1.5,1.5,1), \n",
    "      shade.color=\"red\") \n",
    "    pdf(paste0(out_path,\"upset.pdf\"))\n",
    "    print(p)\n",
    "    dev.off()\n",
    "}\n",
    "\n",
    "data_path= '/import/box/'\n",
    "out_path = '/import/boxout/'\n",
    "filename = 'data.txt'\n",
    "checkfile = upset.check(data_path,out_path,filename)\n",
    "upset.plot(out_path)"
   ]
  },
  {
   "cell_type": "code",
   "execution_count": 88,
   "id": "a0d90dea-2d36-41bd-8917-069106c837e3",
   "metadata": {},
   "outputs": [],
   "source": [
    "file = '/import/box/data.txt'"
   ]
  },
  {
   "cell_type": "code",
   "execution_count": 89,
   "id": "8339bc07-5e55-4ca4-8323-6cb570272c69",
   "metadata": {},
   "outputs": [],
   "source": [
    "data  = read.table(file,sep = '\\t',stringsAsFactors = F,header =F,check.names = F)"
   ]
  },
  {
   "cell_type": "code",
   "execution_count": 92,
   "id": "358396c3-75a8-4d55-8fa4-933d1393849f",
   "metadata": {},
   "outputs": [
    {
     "data": {
      "text/html": [
       "<strong>png:</strong> 2"
      ],
      "text/latex": [
       "\\textbf{png:} 2"
      ],
      "text/markdown": [
       "**png:** 2"
      ],
      "text/plain": [
       "png \n",
       "  2 "
      ]
     },
     "metadata": {},
     "output_type": "display_data"
    }
   ],
   "source": [
    "\n",
    "    \n",
    "    colnames(data) = c('Nr','Swissport','KOG','GO','KEGG')\n",
    "\n",
    "    library(UpSetR)\n",
    "    library(openxlsx)\n",
    "    library(RColorBrewer)\n",
    "    p = upset(fromList(data),\n",
    "      nsets=length(data),#显示数据集的所有数据,nsets = 数值调整可视化数据集数量\n",
    "      nintersects=30,#显示前多少个\n",
    "      number.angles = 0, #交互集合柱状图的柱标倾角\n",
    "      point.size=4, #图中点的大小\n",
    "      line.size=1, #图中连接线粗细\n",
    "      mainbar.y.label=\"Intersection size\", #y轴的标签\n",
    "      main.bar.color = 'black', #y轴柱状图颜色\n",
    "      matrix.color=\"black\", #x轴点的颜色\n",
    "      sets.x.label=\"Set size\",   #x轴的标签\n",
    "      sets.bar.color=brewer.pal(ncol(data),\"Set3\"),#x轴柱状图的颜色;Set1中只有9个颜色，Set3中有12个颜色，Paired中有12个颜色\n",
    "      mb.ratio = c(0.7, 0.3), \n",
    "      order.by = \"freq\", \n",
    "      text.scale=c(1.5,1.5,1.5,1.5,1.5,1), \n",
    "      shade.color=\"red\") \n",
    "    pdf(paste0(out_path,\"upset.pdf\"),width = 9)\n",
    "    print(p)\n",
    "    dev.off()"
   ]
  },
  {
   "cell_type": "code",
   "execution_count": 95,
   "id": "ee1349bf-8f3d-4526-9a91-d667855643eb",
   "metadata": {},
   "outputs": [
    {
     "data": {
      "text/html": [
       "<table class=\"dataframe\">\n",
       "<caption>A data.frame: 2 x 5</caption>\n",
       "<thead>\n",
       "\t<tr><th></th><th scope=col>Nr</th><th scope=col>Swissport</th><th scope=col>KOG</th><th scope=col>GO</th><th scope=col>KEGG</th></tr>\n",
       "\t<tr><th></th><th scope=col>&lt;chr&gt;</th><th scope=col>&lt;chr&gt;</th><th scope=col>&lt;chr&gt;</th><th scope=col>&lt;chr&gt;</th><th scope=col>&lt;chr&gt;</th></tr>\n",
       "</thead>\n",
       "<tbody>\n",
       "\t<tr><th scope=row>1</th><td>g1.t1</td><td>g2.t1</td><td>g12.t1</td><td>g12.t1</td><td>g1.t1</td></tr>\n",
       "\t<tr><th scope=row>2</th><td>g2.t1</td><td>g9.t1</td><td>g13.t1</td><td>g13.t1</td><td>g2.t1</td></tr>\n",
       "</tbody>\n",
       "</table>\n"
      ],
      "text/latex": [
       "A data.frame: 2 x 5\n",
       "\\begin{tabular}{r|lllll}\n",
       "  & Nr & Swissport & KOG & GO & KEGG\\\\\n",
       "  & <chr> & <chr> & <chr> & <chr> & <chr>\\\\\n",
       "\\hline\n",
       "\t1 & g1.t1 & g2.t1 & g12.t1 & g12.t1 & g1.t1\\\\\n",
       "\t2 & g2.t1 & g9.t1 & g13.t1 & g13.t1 & g2.t1\\\\\n",
       "\\end{tabular}\n"
      ],
      "text/markdown": [
       "\n",
       "A data.frame: 2 x 5\n",
       "\n",
       "| <!--/--> | Nr &lt;chr&gt; | Swissport &lt;chr&gt; | KOG &lt;chr&gt; | GO &lt;chr&gt; | KEGG &lt;chr&gt; |\n",
       "|---|---|---|---|---|---|\n",
       "| 1 | g1.t1 | g2.t1 | g12.t1 | g12.t1 | g1.t1 |\n",
       "| 2 | g2.t1 | g9.t1 | g13.t1 | g13.t1 | g2.t1 |\n",
       "\n"
      ],
      "text/plain": [
       "  Nr    Swissport KOG    GO     KEGG \n",
       "1 g1.t1 g2.t1     g12.t1 g12.t1 g1.t1\n",
       "2 g2.t1 g9.t1     g13.t1 g13.t1 g2.t1"
      ]
     },
     "metadata": {},
     "output_type": "display_data"
    }
   ],
   "source": [
    "head(data,2)"
   ]
  },
  {
   "cell_type": "code",
   "execution_count": 97,
   "id": "3f220330-0868-4d38-8418-144f63285d2f",
   "metadata": {},
   "outputs": [
    {
     "data": {
      "text/html": [
       "21200"
      ],
      "text/latex": [
       "21200"
      ],
      "text/markdown": [
       "21200"
      ],
      "text/plain": [
       "[1] 21200"
      ]
     },
     "metadata": {},
     "output_type": "display_data"
    }
   ],
   "source": [
    "length(union(union(union(union(data$Nr,data$Swissport),data$KOG),data$GO),data$KEGG))"
   ]
  },
  {
   "cell_type": "code",
   "execution_count": 103,
   "id": "6293939c-89ab-4960-b96d-b455fc4c7445",
   "metadata": {},
   "outputs": [
    {
     "data": {
      "text/html": [
       "0.788074792758633"
      ],
      "text/latex": [
       "0.788074792758633"
      ],
      "text/markdown": [
       "0.788074792758633"
      ],
      "text/plain": [
       "[1] 0.7880748"
      ]
     },
     "metadata": {},
     "output_type": "display_data"
    }
   ],
   "source": [
    "21200/26901"
   ]
  },
  {
   "cell_type": "code",
   "execution_count": null,
   "id": "f6f35e50-39f3-4bfd-943c-02aae4a81bda",
   "metadata": {},
   "outputs": [],
   "source": []
  }
 ],
 "metadata": {
  "kernelspec": {
   "display_name": "R",
   "language": "R",
   "name": "ir"
  },
  "language_info": {
   "codemirror_mode": "r",
   "file_extension": ".r",
   "mimetype": "text/x-r-source",
   "name": "R",
   "pygments_lexer": "r",
   "version": "4.2.1"
  }
 },
 "nbformat": 4,
 "nbformat_minor": 5
}
