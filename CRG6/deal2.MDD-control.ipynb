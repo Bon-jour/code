{
 "cells": [
  {
   "cell_type": "code",
   "execution_count": 12,
   "id": "c967e244-4182-4bfc-8efc-f815bd936430",
   "metadata": {},
   "outputs": [],
   "source": [
    "setwd('/import/DB/fel/BJTC-204')"
   ]
  },
  {
   "cell_type": "code",
   "execution_count": 13,
   "id": "47aff0b1-938c-4147-8eeb-f5ffe4bc861a",
   "metadata": {},
   "outputs": [],
   "source": [
    "data = read.csv('./TOD.rela.2.csv',row.names = 1)"
   ]
  },
  {
   "cell_type": "code",
   "execution_count": 14,
   "id": "7a68b1fb-bdaf-4b8f-bd82-f842eaec4a8c",
   "metadata": {},
   "outputs": [],
   "source": [
    "load('./exp4.rda')"
   ]
  },
  {
   "cell_type": "code",
   "execution_count": null,
   "id": "26d3cfe0-4379-41e4-af3e-f686f539b5a7",
   "metadata": {},
   "outputs": [],
   "source": [
    "#gene89 = read.table('./gene77.txt',header =F )\n",
    "# colnames(gene89) = 'GeneNames'\n",
    "# dim(data)\n",
    "# library(dplyr)\n",
    "# type = data$TYPE\n",
    "# expr = exp4[data$GSM,intersect(gene89$GeneNames,colnames(exp4))]"
   ]
  },
  {
   "cell_type": "code",
   "execution_count": null,
   "id": "5e854137-ad42-41ba-80df-75216f9b29da",
   "metadata": {},
   "outputs": [],
   "source": []
  },
  {
   "cell_type": "code",
   "execution_count": 16,
   "id": "6b7cab54-aac6-4921-ad07-ce897fede83e",
   "metadata": {},
   "outputs": [],
   "source": [
    "library(dplyr)\n",
    "type = data$TYPE"
   ]
  },
  {
   "cell_type": "code",
   "execution_count": null,
   "id": "e06e07ef-0eeb-488d-a23f-b2655217e252",
   "metadata": {},
   "outputs": [],
   "source": [
    "load('./zhisha.mdd.control.overlap.rda')"
   ]
  },
  {
   "cell_type": "code",
   "execution_count": 17,
   "id": "2ea1272b-f5a2-48d0-8765-5300449deed9",
   "metadata": {},
   "outputs": [],
   "source": [
    "expr = exp4[data$GSM,intersect(gene3,colnames(exp4))]"
   ]
  },
  {
   "cell_type": "code",
   "execution_count": 18,
   "id": "1bf5d599-0932-45e7-9fbd-2f25c6ffe32a",
   "metadata": {},
   "outputs": [],
   "source": [
    "colnames(expr) = gsub('-','.',colnames(expr))\n",
    "expr <- expr[, !grepl(\"^\\\\d+\", names(expr))]"
   ]
  },
  {
   "cell_type": "code",
   "execution_count": 19,
   "id": "0277b25b-0ff8-43c9-a2e7-7ecfb8c72ab3",
   "metadata": {},
   "outputs": [],
   "source": [
    "save(expr,type ,file = 'zisha2.rda')"
   ]
  },
  {
   "cell_type": "code",
   "execution_count": 22,
   "id": "10c5aa41-28e1-42f6-bc23-6da692f15926",
   "metadata": {},
   "outputs": [],
   "source": [
    "exp5 = exp4[data$GSM,]"
   ]
  },
  {
   "cell_type": "code",
   "execution_count": 24,
   "id": "dd86a67b-baa7-4637-aebf-9ca4f56bcb80",
   "metadata": {},
   "outputs": [],
   "source": [
    "saveRDS(exp5,file = 'remove.repeat.sample.rds')"
   ]
  },
  {
   "cell_type": "code",
   "execution_count": null,
   "id": "bd208665-611e-4d33-b515-6e8a82cc208d",
   "metadata": {},
   "outputs": [],
   "source": []
  }
 ],
 "metadata": {
  "kernelspec": {
   "display_name": "R",
   "language": "R",
   "name": "ir"
  },
  "language_info": {
   "codemirror_mode": "r",
   "file_extension": ".r",
   "mimetype": "text/x-r-source",
   "name": "R",
   "pygments_lexer": "r",
   "version": "4.2.1"
  }
 },
 "nbformat": 4,
 "nbformat_minor": 5
}
