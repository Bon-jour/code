{
 "cells": [
  {
   "cell_type": "code",
   "execution_count": 12,
   "id": "c967e244-4182-4bfc-8efc-f815bd936430",
   "metadata": {},
   "outputs": [],
   "source": [
    "setwd('/import/DB/fel/BJTC-204')"
   ]
  },
  {
   "cell_type": "code",
   "execution_count": 28,
   "id": "47aff0b1-938c-4147-8eeb-f5ffe4bc861a",
   "metadata": {},
   "outputs": [],
   "source": [
    "data = read.csv('./TOD.rela.2.csv',row.names = 1)"
   ]
  },
  {
   "cell_type": "code",
   "execution_count": 29,
   "id": "7a68b1fb-bdaf-4b8f-bd82-f842eaec4a8c",
   "metadata": {},
   "outputs": [],
   "source": [
    "load('./exp4.rda')"
   ]
  },
  {
   "cell_type": "code",
   "execution_count": 32,
   "id": "56cb9e3a-fda7-4d4e-baee-fae1df3cff1c",
   "metadata": {},
   "outputs": [
    {
     "data": {
      "text/html": [
       "84"
      ],
      "text/latex": [
       "84"
      ],
      "text/markdown": [
       "84"
      ],
      "text/plain": [
       "[1] 84"
      ]
     },
     "metadata": {},
     "output_type": "display_data"
    }
   ],
   "source": [
    "length(unique(data$GSM))"
   ]
  },
  {
   "cell_type": "code",
   "execution_count": null,
   "id": "11fc5ab0-9bd7-43e2-a0d6-bf3d5e9729f0",
   "metadata": {},
   "outputs": [],
   "source": []
  },
  {
   "cell_type": "code",
   "execution_count": null,
   "id": "26d3cfe0-4379-41e4-af3e-f686f539b5a7",
   "metadata": {},
   "outputs": [],
   "source": [
    "#gene89 = read.table('./gene77.txt',header =F )\n",
    "# colnames(gene89) = 'GeneNames'\n",
    "# dim(data)\n",
    "# library(dplyr)\n",
    "# type = data$TYPE\n",
    "# expr = exp4[data$GSM,intersect(gene89$GeneNames,colnames(exp4))]"
   ]
  },
  {
   "cell_type": "code",
   "execution_count": null,
   "id": "5e854137-ad42-41ba-80df-75216f9b29da",
   "metadata": {},
   "outputs": [],
   "source": []
  },
  {
   "cell_type": "code",
   "execution_count": 33,
   "id": "6b7cab54-aac6-4921-ad07-ce897fede83e",
   "metadata": {},
   "outputs": [],
   "source": [
    "library(dplyr)\n",
    "type = data$TYPE"
   ]
  },
  {
   "cell_type": "code",
   "execution_count": 34,
   "id": "e06e07ef-0eeb-488d-a23f-b2655217e252",
   "metadata": {},
   "outputs": [],
   "source": [
    "load('./zhisha.mdd.control.overlap.rda')"
   ]
  },
  {
   "cell_type": "code",
   "execution_count": 35,
   "id": "2ea1272b-f5a2-48d0-8765-5300449deed9",
   "metadata": {},
   "outputs": [],
   "source": [
    "expr = exp4[data$GSM,intersect(gene3,colnames(exp4))]"
   ]
  },
  {
   "cell_type": "code",
   "execution_count": 36,
   "id": "f1aae4f5-4ffb-4b28-a1c2-acb239588d98",
   "metadata": {},
   "outputs": [
    {
     "data": {
      "text/html": [
       "<style>\n",
       ".list-inline {list-style: none; margin:0; padding: 0}\n",
       ".list-inline>li {display: inline-block}\n",
       ".list-inline>li:not(:last-child)::after {content: \"\\00b7\"; padding: 0 .5ex}\n",
       "</style>\n",
       "<ol class=list-inline><li>84</li><li>22</li></ol>\n"
      ],
      "text/latex": [
       "\\begin{enumerate*}\n",
       "\\item 84\n",
       "\\item 22\n",
       "\\end{enumerate*}\n"
      ],
      "text/markdown": [
       "1. 84\n",
       "2. 22\n",
       "\n",
       "\n"
      ],
      "text/plain": [
       "[1] 84 22"
      ]
     },
     "metadata": {},
     "output_type": "display_data"
    }
   ],
   "source": [
    "dim(expr)"
   ]
  },
  {
   "cell_type": "code",
   "execution_count": 37,
   "id": "1bf5d599-0932-45e7-9fbd-2f25c6ffe32a",
   "metadata": {},
   "outputs": [],
   "source": [
    "colnames(expr) = gsub('-','.',colnames(expr))\n",
    "expr <- expr[, !grepl(\"^\\\\d+\", names(expr))]"
   ]
  },
  {
   "cell_type": "code",
   "execution_count": 38,
   "id": "0277b25b-0ff8-43c9-a2e7-7ecfb8c72ab3",
   "metadata": {},
   "outputs": [],
   "source": [
    "save(expr,type ,file = 'zisha2.rda')"
   ]
  },
  {
   "cell_type": "code",
   "execution_count": 39,
   "id": "10c5aa41-28e1-42f6-bc23-6da692f15926",
   "metadata": {},
   "outputs": [],
   "source": [
    "exp5 = exp4[data$GSM,]"
   ]
  },
  {
   "cell_type": "code",
   "execution_count": 40,
   "id": "dd86a67b-baa7-4637-aebf-9ca4f56bcb80",
   "metadata": {},
   "outputs": [],
   "source": [
    "saveRDS(exp5,file = 'remove.repeat.sample.rds')"
   ]
  },
  {
   "cell_type": "code",
   "execution_count": 41,
   "id": "bd208665-611e-4d33-b515-6e8a82cc208d",
   "metadata": {},
   "outputs": [
    {
     "data": {
      "text/html": [
       "<style>\n",
       ".list-inline {list-style: none; margin:0; padding: 0}\n",
       ".list-inline>li {display: inline-block}\n",
       ".list-inline>li:not(:last-child)::after {content: \"\\00b7\"; padding: 0 .5ex}\n",
       "</style>\n",
       "<ol class=list-inline><li>84</li><li>11882</li></ol>\n"
      ],
      "text/latex": [
       "\\begin{enumerate*}\n",
       "\\item 84\n",
       "\\item 11882\n",
       "\\end{enumerate*}\n"
      ],
      "text/markdown": [
       "1. 84\n",
       "2. 11882\n",
       "\n",
       "\n"
      ],
      "text/plain": [
       "[1]    84 11882"
      ]
     },
     "metadata": {},
     "output_type": "display_data"
    }
   ],
   "source": [
    "dim(exp5)"
   ]
  },
  {
   "cell_type": "code",
   "execution_count": null,
   "id": "accbd3f2-5e91-452d-91a3-3cb2be837111",
   "metadata": {},
   "outputs": [],
   "source": []
  }
 ],
 "metadata": {
  "kernelspec": {
   "display_name": "R",
   "language": "R",
   "name": "ir"
  },
  "language_info": {
   "codemirror_mode": "r",
   "file_extension": ".r",
   "mimetype": "text/x-r-source",
   "name": "R",
   "pygments_lexer": "r",
   "version": "4.2.1"
  }
 },
 "nbformat": 4,
 "nbformat_minor": 5
}
