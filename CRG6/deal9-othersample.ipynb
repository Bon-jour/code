{
 "cells": [
  {
   "cell_type": "code",
   "execution_count": 1,
   "id": "c4e9f661-c95f-4e92-90f1-c158261ab83c",
   "metadata": {},
   "outputs": [],
   "source": [
    "setwd('/import/DB/fel/BJTC-204')"
   ]
  },
  {
   "cell_type": "code",
   "execution_count": 2,
   "id": "e53a278d-bb10-401c-b857-2197d72dcc66",
   "metadata": {},
   "outputs": [],
   "source": [
    "load('./exp4.rda')"
   ]
  },
  {
   "cell_type": "code",
   "execution_count": 3,
   "id": "3cdad58a-6b63-47b0-8ed9-d5a088f4b9ad",
   "metadata": {},
   "outputs": [],
   "source": [
    "data = read.csv('./TOD.rela.2.csv',row.names = 1)"
   ]
  },
  {
   "cell_type": "code",
   "execution_count": 4,
   "id": "efc899b5-4a6d-4bfd-8b97-abd04f2490bd",
   "metadata": {},
   "outputs": [
    {
     "data": {
      "text/html": [
       "<style>\n",
       ".list-inline {list-style: none; margin:0; padding: 0}\n",
       ".list-inline>li {display: inline-block}\n",
       ".list-inline>li:not(:last-child)::after {content: \"\\00b7\"; padding: 0 .5ex}\n",
       "</style>\n",
       "<ol class=list-inline><li>'data'</li><li>'exp4'</li></ol>\n"
      ],
      "text/latex": [
       "\\begin{enumerate*}\n",
       "\\item 'data'\n",
       "\\item 'exp4'\n",
       "\\end{enumerate*}\n"
      ],
      "text/markdown": [
       "1. 'data'\n",
       "2. 'exp4'\n",
       "\n",
       "\n"
      ],
      "text/plain": [
       "[1] \"data\" \"exp4\""
      ]
     },
     "metadata": {},
     "output_type": "display_data"
    }
   ],
   "source": [
    "ls()"
   ]
  },
  {
   "cell_type": "code",
   "execution_count": 8,
   "id": "b9e6a47c-a3a8-4fa0-99f4-d993295dcfc9",
   "metadata": {},
   "outputs": [
    {
     "data": {
      "text/html": [
       "<table class=\"dataframe\">\n",
       "<caption>A data.frame: 3 x 11886</caption>\n",
       "<thead>\n",
       "\t<tr><th></th><th scope=col>TYPE</th><th scope=col>PH</th><th scope=col>Gender</th><th scope=col>race</th><th scope=col>Age</th><th scope=col>death</th><th scope=col>SUBJECT</th><th scope=col>TOD</th><th scope=col>Toxicology</th><th scope=col>subject</th><th scope=col>...</th><th scope=col>HNRPDL</th><th scope=col>DMTF1</th><th scope=col>PPP4R1</th><th scope=col>CDH1</th><th scope=col>SLC12A6</th><th scope=col>ROD1</th><th scope=col>KCNE2</th><th scope=col>DGCR2</th><th scope=col>CASP8AP2</th><th scope=col>SCO2</th></tr>\n",
       "\t<tr><th></th><th scope=col>&lt;chr&gt;</th><th scope=col>&lt;dbl&gt;</th><th scope=col>&lt;chr&gt;</th><th scope=col>&lt;chr&gt;</th><th scope=col>&lt;int&gt;</th><th scope=col>&lt;int&gt;</th><th scope=col>&lt;int&gt;</th><th scope=col>&lt;dbl&gt;</th><th scope=col>&lt;chr&gt;</th><th scope=col>&lt;int&gt;</th><th scope=col>...</th><th scope=col>&lt;dbl&gt;</th><th scope=col>&lt;dbl&gt;</th><th scope=col>&lt;dbl&gt;</th><th scope=col>&lt;dbl&gt;</th><th scope=col>&lt;dbl&gt;</th><th scope=col>&lt;dbl&gt;</th><th scope=col>&lt;dbl&gt;</th><th scope=col>&lt;dbl&gt;</th><th scope=col>&lt;dbl&gt;</th><th scope=col>&lt;dbl&gt;</th></tr>\n",
       "</thead>\n",
       "<tbody>\n",
       "\t<tr><th scope=row>1</th><td>Control</td><td>6.3</td><td>F</td><td>Asian           </td><td>47</td><td>0</td><td>38</td><td>14.85</td><td></td><td>105976</td><td>...</td><td>-0.006100768</td><td>-0.06413887</td><td> 0.003604848</td><td>-0.03154435</td><td> 0.00000814</td><td>-0.001946376</td><td> 0.01816731</td><td> 0.080291777</td><td> 0.2381181</td><td>-0.094266320</td></tr>\n",
       "\t<tr><th scope=row>3</th><td>Control</td><td>6.4</td><td>M</td><td>African American</td><td>59</td><td>0</td><td> 3</td><td> 0.92</td><td></td><td>108022</td><td>...</td><td> 0.234293937</td><td>-0.09116396</td><td>-0.046397010</td><td> 0.12719771</td><td>-0.55944968</td><td>-0.033907364</td><td>-0.15330880</td><td> 0.000730584</td><td>-0.1974440</td><td> 0.000730584</td></tr>\n",
       "\t<tr><th scope=row>4</th><td>Control</td><td>6.5</td><td>M</td><td>Caucasian       </td><td>63</td><td>0</td><td> 2</td><td>-0.57</td><td></td><td>108291</td><td>...</td><td>-0.044956981</td><td>-0.05447319</td><td> 0.119619796</td><td> 0.15470826</td><td>-0.01450062</td><td>-0.007128116</td><td>-0.12830294</td><td>-0.131057729</td><td> 0.1159251</td><td> 0.322964274</td></tr>\n",
       "</tbody>\n",
       "</table>\n"
      ],
      "text/latex": [
       "A data.frame: 3 x 11886\n",
       "\\begin{tabular}{r|lllllllllllllllllllll}\n",
       "  & TYPE & PH & Gender & race & Age & death & SUBJECT & TOD & Toxicology & subject & ... & HNRPDL & DMTF1 & PPP4R1 & CDH1 & SLC12A6 & ROD1 & KCNE2 & DGCR2 & CASP8AP2 & SCO2\\\\\n",
       "  & <chr> & <dbl> & <chr> & <chr> & <int> & <int> & <int> & <dbl> & <chr> & <int> & ... & <dbl> & <dbl> & <dbl> & <dbl> & <dbl> & <dbl> & <dbl> & <dbl> & <dbl> & <dbl>\\\\\n",
       "\\hline\n",
       "\t1 & Control & 6.3 & F & Asian            & 47 & 0 & 38 & 14.85 &  & 105976 & ... & -0.006100768 & -0.06413887 &  0.003604848 & -0.03154435 &  0.00000814 & -0.001946376 &  0.01816731 &  0.080291777 &  0.2381181 & -0.094266320\\\\\n",
       "\t3 & Control & 6.4 & M & African American & 59 & 0 &  3 &  0.92 &  & 108022 & ... &  0.234293937 & -0.09116396 & -0.046397010 &  0.12719771 & -0.55944968 & -0.033907364 & -0.15330880 &  0.000730584 & -0.1974440 &  0.000730584\\\\\n",
       "\t4 & Control & 6.5 & M & Caucasian        & 63 & 0 &  2 & -0.57 &  & 108291 & ... & -0.044956981 & -0.05447319 &  0.119619796 &  0.15470826 & -0.01450062 & -0.007128116 & -0.12830294 & -0.131057729 &  0.1159251 &  0.322964274\\\\\n",
       "\\end{tabular}\n"
      ],
      "text/markdown": [
       "\n",
       "A data.frame: 3 x 11886\n",
       "\n",
       "| <!--/--> | TYPE &lt;chr&gt; | PH &lt;dbl&gt; | Gender &lt;chr&gt; | race &lt;chr&gt; | Age &lt;int&gt; | death &lt;int&gt; | SUBJECT &lt;int&gt; | TOD &lt;dbl&gt; | Toxicology &lt;chr&gt; | subject &lt;int&gt; | ... ... | HNRPDL &lt;dbl&gt; | DMTF1 &lt;dbl&gt; | PPP4R1 &lt;dbl&gt; | CDH1 &lt;dbl&gt; | SLC12A6 &lt;dbl&gt; | ROD1 &lt;dbl&gt; | KCNE2 &lt;dbl&gt; | DGCR2 &lt;dbl&gt; | CASP8AP2 &lt;dbl&gt; | SCO2 &lt;dbl&gt; |\n",
       "|---|---|---|---|---|---|---|---|---|---|---|---|---|---|---|---|---|---|---|---|---|---|\n",
       "| 1 | Control | 6.3 | F | Asian            | 47 | 0 | 38 | 14.85 | <!----> | 105976 | ... | -0.006100768 | -0.06413887 |  0.003604848 | -0.03154435 |  0.00000814 | -0.001946376 |  0.01816731 |  0.080291777 |  0.2381181 | -0.094266320 |\n",
       "| 3 | Control | 6.4 | M | African American | 59 | 0 |  3 |  0.92 | <!----> | 108022 | ... |  0.234293937 | -0.09116396 | -0.046397010 |  0.12719771 | -0.55944968 | -0.033907364 | -0.15330880 |  0.000730584 | -0.1974440 |  0.000730584 |\n",
       "| 4 | Control | 6.5 | M | Caucasian        | 63 | 0 |  2 | -0.57 | <!----> | 108291 | ... | -0.044956981 | -0.05447319 |  0.119619796 |  0.15470826 | -0.01450062 | -0.007128116 | -0.12830294 | -0.131057729 |  0.1159251 |  0.322964274 |\n",
       "\n"
      ],
      "text/plain": [
       "  TYPE    PH  Gender race             Age death SUBJECT TOD   Toxicology\n",
       "1 Control 6.3 F      Asian            47  0     38      14.85           \n",
       "3 Control 6.4 M      African American 59  0      3       0.92           \n",
       "4 Control 6.5 M      Caucasian        63  0      2      -0.57           \n",
       "  subject ... HNRPDL       DMTF1       PPP4R1       CDH1        SLC12A6    \n",
       "1 105976  ... -0.006100768 -0.06413887  0.003604848 -0.03154435  0.00000814\n",
       "3 108022  ...  0.234293937 -0.09116396 -0.046397010  0.12719771 -0.55944968\n",
       "4 108291  ... -0.044956981 -0.05447319  0.119619796  0.15470826 -0.01450062\n",
       "  ROD1         KCNE2       DGCR2        CASP8AP2   SCO2        \n",
       "1 -0.001946376  0.01816731  0.080291777  0.2381181 -0.094266320\n",
       "3 -0.033907364 -0.15330880  0.000730584 -0.1974440  0.000730584\n",
       "4 -0.007128116 -0.12830294 -0.131057729  0.1159251  0.322964274"
      ]
     },
     "metadata": {},
     "output_type": "display_data"
    }
   ],
   "source": [
    "head(data,3)"
   ]
  },
  {
   "cell_type": "code",
   "execution_count": 6,
   "id": "b0e08f95-3037-423f-994b-f02dbf9f3737",
   "metadata": {},
   "outputs": [
    {
     "data": {
      "text/html": [
       "<style>\n",
       ".list-inline {list-style: none; margin:0; padding: 0}\n",
       ".list-inline>li {display: inline-block}\n",
       ".list-inline>li:not(:last-child)::after {content: \"\\00b7\"; padding: 0 .5ex}\n",
       "</style>\n",
       "<ol class=list-inline><li>251</li><li>11882</li></ol>\n"
      ],
      "text/latex": [
       "\\begin{enumerate*}\n",
       "\\item 251\n",
       "\\item 11882\n",
       "\\end{enumerate*}\n"
      ],
      "text/markdown": [
       "1. 251\n",
       "2. 11882\n",
       "\n",
       "\n"
      ],
      "text/plain": [
       "[1]   251 11882"
      ]
     },
     "metadata": {},
     "output_type": "display_data"
    }
   ],
   "source": [
    "dim(exp4)"
   ]
  },
  {
   "cell_type": "code",
   "execution_count": 10,
   "id": "114440c6-a0e7-4b83-b3fd-cacb47680501",
   "metadata": {},
   "outputs": [
    {
     "name": "stderr",
     "output_type": "stream",
     "text": [
      "\n",
      "Attaching package: 'dplyr'\n",
      "\n",
      "\n",
      "The following objects are masked from 'package:stats':\n",
      "\n",
      "    filter, lag\n",
      "\n",
      "\n",
      "The following objects are masked from 'package:base':\n",
      "\n",
      "    intersect, setdiff, setequal, union\n",
      "\n",
      "\n"
     ]
    }
   ],
   "source": [
    "library(dplyr)"
   ]
  },
  {
   "cell_type": "code",
   "execution_count": 14,
   "id": "de863e51-696e-4d18-be76-e03bae2e909b",
   "metadata": {},
   "outputs": [],
   "source": [
    "exp5 = exp4[!rownames(exp4) %in% data$GSM,]"
   ]
  },
  {
   "cell_type": "code",
   "execution_count": null,
   "id": "d58aad9d-b562-4ea4-80e4-e35b51c659bf",
   "metadata": {},
   "outputs": [],
   "source": [
    "exp5$TYPE =ifelse(exp5$TYPE == 'MDD',1,0)"
   ]
  },
  {
   "cell_type": "code",
   "execution_count": 28,
   "id": "524f3033-8748-4a3e-8465-90d784ab12af",
   "metadata": {},
   "outputs": [],
   "source": [
    "exp6 = exp5[,c('MUS81','UCK2','CNIH3','OTUD4')]"
   ]
  },
  {
   "cell_type": "code",
   "execution_count": 29,
   "id": "1f81c1c8-5e70-4d9a-ae26-d683a1485af7",
   "metadata": {},
   "outputs": [],
   "source": [
    "exp6[,1:dim(exp6)[2]] = 2^exp6[,1:dim(exp6)[2]] -1"
   ]
  },
  {
   "cell_type": "code",
   "execution_count": 30,
   "id": "cc148489-b3de-4ed6-a644-ac16f6e838cd",
   "metadata": {},
   "outputs": [],
   "source": [
    "exp6 = cbind(exp5$TYPE,exp6)"
   ]
  },
  {
   "cell_type": "code",
   "execution_count": 31,
   "id": "fea2a220-b687-4f41-9b69-46492a0f8fc6",
   "metadata": {},
   "outputs": [],
   "source": [
    "colnames(exp6)[1] = 'TYPE'"
   ]
  },
  {
   "cell_type": "code",
   "execution_count": 32,
   "id": "853215b6-8eee-48df-b2f3-74dba7e7a9f0",
   "metadata": {},
   "outputs": [],
   "source": [
    "fold_pre <- glm(TYPE~MUS81+CNIH3+UCK2+OTUD4,data=exp6,family=binomial())\n",
    "\n",
    "fold_predict <- predict(fold_pre,type='response',newdata=exp6)\n",
    "\n",
    "options(repr.plot.width = 6)"
   ]
  },
  {
   "cell_type": "code",
   "execution_count": 33,
   "id": "c43a5ab2-2df8-496e-a478-f13293f3634e",
   "metadata": {},
   "outputs": [
    {
     "name": "stderr",
     "output_type": "stream",
     "text": [
      "Setting levels: control = 0, case = 1\n",
      "\n",
      "Setting direction: controls < cases\n",
      "\n"
     ]
    },
    {
     "data": {
      "image/png": "[encoded data removed]",
      "text/plain": [
       "Plot with title \"\""
      ]
     },
     "metadata": {
      "image/png": {
       "height": 420,
       "width": 360
      }
     },
     "output_type": "display_data"
    }
   ],
   "source": [
    "roc_curve <- pROC::roc(as.numeric(exp6$TYPE),fold_predict)\n",
    "plot(roc_curve, print.auc=TRUE, auc.polygon=TRUE, grid=c(0.1, 0.2),\n",
    "     grid.col=c(\"green\", \"red\"), max.auc.polygon=TRUE,\n",
    "     auc.polygon.col=\"skyblue\", print.thres=TRUE,main=\"\")"
   ]
  },
  {
   "cell_type": "code",
   "execution_count": null,
   "id": "e3a69584-d134-4783-9eb2-6746c9c71d5a",
   "metadata": {},
   "outputs": [],
   "source": []
  }
 ],
 "metadata": {
  "kernelspec": {
   "display_name": "R",
   "language": "R",
   "name": "ir"
  },
  "language_info": {
   "codemirror_mode": "r",
   "file_extension": ".r",
   "mimetype": "text/x-r-source",
   "name": "R",
   "pygments_lexer": "r",
   "version": "4.2.1"
  }
 },
 "nbformat": 4,
 "nbformat_minor": 5
}
