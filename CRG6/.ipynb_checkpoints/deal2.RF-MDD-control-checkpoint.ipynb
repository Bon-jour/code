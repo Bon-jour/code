{
 "cells": [
  {
   "cell_type": "code",
   "execution_count": null,
   "id": "971e09f1-f071-4564-85c1-020f674d89f1",
   "metadata": {},
   "outputs": [],
   "source": [
    "# https://zhuanlan.zhihu.com/p/692810462 RF\n",
    "# https://zhuanlan.zhihu.com/p/692505141 SVM\n",
    "\n",
    "# https://zhuanlan.zhihu.com/p/112009086 Xboost"
   ]
  },
  {
   "cell_type": "code",
   "execution_count": 1,
   "id": "1d6a9177-4dba-46f0-a5b1-9215198d26d2",
   "metadata": {},
   "outputs": [],
   "source": [
    "setwd('/import/DB/fel/BJTC-204')"
   ]
  },
  {
   "cell_type": "code",
   "execution_count": 2,
   "id": "6244386f-b05a-4d2c-80f9-90c86252e712",
   "metadata": {},
   "outputs": [],
   "source": [
    "load('./zisha.rda')"
   ]
  },
  {
   "cell_type": "code",
   "execution_count": 3,
   "id": "095cc15b-5d1e-4b6c-a08d-f46f47a93c25",
   "metadata": {},
   "outputs": [],
   "source": [
    "#exp4[,8:dim(exp4)[2]] = 2^exp4[,8:dim(exp4)[2]] -1"
   ]
  },
  {
   "cell_type": "code",
   "execution_count": 4,
   "id": "d974673f-c009-41e4-8d2d-3a5e700bcbf0",
   "metadata": {},
   "outputs": [
    {
     "data": {
      "text/html": [
       "<table class=\"dataframe\">\n",
       "<caption>A data.frame: 6 x 87</caption>\n",
       "<thead>\n",
       "\t<tr><th></th><th scope=col>TROAP</th><th scope=col>ABCB6</th><th scope=col>AHSA1</th><th scope=col>SLC12A7</th><th scope=col>PWP1</th><th scope=col>ERCC8</th><th scope=col>DCN</th><th scope=col>DUSP9</th><th scope=col>ZNF365</th><th scope=col>DDN</th><th scope=col>...</th><th scope=col>PER3</th><th scope=col>DBP</th><th scope=col>SFPQ</th><th scope=col>ITIH5</th><th scope=col>LDLR</th><th scope=col>INSIG1</th><th scope=col>SLC39A14</th><th scope=col>NFIL3</th><th scope=col>SNTB2</th><th scope=col>BHLHE41</th></tr>\n",
       "\t<tr><th></th><th scope=col>&lt;dbl&gt;</th><th scope=col>&lt;dbl&gt;</th><th scope=col>&lt;dbl&gt;</th><th scope=col>&lt;dbl&gt;</th><th scope=col>&lt;dbl&gt;</th><th scope=col>&lt;dbl&gt;</th><th scope=col>&lt;dbl&gt;</th><th scope=col>&lt;dbl&gt;</th><th scope=col>&lt;dbl&gt;</th><th scope=col>&lt;dbl&gt;</th><th scope=col>...</th><th scope=col>&lt;dbl&gt;</th><th scope=col>&lt;dbl&gt;</th><th scope=col>&lt;dbl&gt;</th><th scope=col>&lt;dbl&gt;</th><th scope=col>&lt;dbl&gt;</th><th scope=col>&lt;dbl&gt;</th><th scope=col>&lt;dbl&gt;</th><th scope=col>&lt;dbl&gt;</th><th scope=col>&lt;dbl&gt;</th><th scope=col>&lt;dbl&gt;</th></tr>\n",
       "</thead>\n",
       "<tbody>\n",
       "\t<tr><th scope=row>GSM2432065</th><td>6.261184</td><td>6.932312</td><td>9.024757</td><td>7.526696</td><td>7.929416</td><td>6.525358</td><td>7.840526</td><td>5.288242</td><td>10.202786</td><td>10.715730</td><td>...</td><td>6.145836</td><td>7.897176</td><td>8.231439</td><td>5.097638</td><td>5.290142</td><td>6.502581</td><td>7.620033</td><td>5.536259</td><td>6.382260</td><td>7.769097</td></tr>\n",
       "\t<tr><th scope=row>GSM2431907</th><td>6.365143</td><td>6.745532</td><td>8.721207</td><td>7.308536</td><td>7.889242</td><td>6.365918</td><td>7.709314</td><td>5.123540</td><td>10.433868</td><td>10.281046</td><td>...</td><td>6.873614</td><td>7.988366</td><td>8.651923</td><td>5.001753</td><td>5.596953</td><td>7.140641</td><td>7.335487</td><td>5.467053</td><td>6.748883</td><td>8.715723</td></tr>\n",
       "\t<tr><th scope=row>GSM2431944</th><td>7.037219</td><td>7.004912</td><td>7.704735</td><td>9.508253</td><td>7.581359</td><td>6.831264</td><td>7.475368</td><td>6.482088</td><td> 9.517034</td><td> 9.320138</td><td>...</td><td>6.476288</td><td>7.245510</td><td>7.902976</td><td>5.427670</td><td>5.935222</td><td>6.269329</td><td>8.486594</td><td>6.220760</td><td>6.508026</td><td>7.223548</td></tr>\n",
       "\t<tr><th scope=row>GSM2432077</th><td>6.287475</td><td>6.896542</td><td>8.513727</td><td>7.705893</td><td>7.776812</td><td>6.518211</td><td>7.818805</td><td>5.435215</td><td>10.200546</td><td>10.634505</td><td>...</td><td>7.000288</td><td>7.486579</td><td>8.066839</td><td>5.418762</td><td>5.355058</td><td>6.326021</td><td>7.502269</td><td>5.774297</td><td>6.479802</td><td>7.697205</td></tr>\n",
       "\t<tr><th scope=row>GSM2431900</th><td>7.158044</td><td>7.151607</td><td>7.312291</td><td>8.758514</td><td>7.147847</td><td>6.736545</td><td>7.693866</td><td>6.329917</td><td> 8.982522</td><td> 9.470826</td><td>...</td><td>6.843814</td><td>7.498008</td><td>7.993523</td><td>5.764465</td><td>6.111677</td><td>6.155571</td><td>7.565872</td><td>5.886809</td><td>7.013988</td><td>6.779802</td></tr>\n",
       "\t<tr><th scope=row>GSM2431925</th><td>7.328414</td><td>7.316238</td><td>7.668048</td><td>8.985408</td><td>7.236486</td><td>6.728989</td><td>7.378774</td><td>6.568834</td><td> 8.517764</td><td> 9.592578</td><td>...</td><td>6.385092</td><td>7.164195</td><td>7.483145</td><td>5.349963</td><td>6.167491</td><td>6.315269</td><td>7.793256</td><td>5.449925</td><td>6.894847</td><td>6.967051</td></tr>\n",
       "</tbody>\n",
       "</table>\n"
      ],
      "text/latex": [
       "A data.frame: 6 x 87\n",
       "\\begin{tabular}{r|lllllllllllllllllllll}\n",
       "  & TROAP & ABCB6 & AHSA1 & SLC12A7 & PWP1 & ERCC8 & DCN & DUSP9 & ZNF365 & DDN & ... & PER3 & DBP & SFPQ & ITIH5 & LDLR & INSIG1 & SLC39A14 & NFIL3 & SNTB2 & BHLHE41\\\\\n",
       "  & <dbl> & <dbl> & <dbl> & <dbl> & <dbl> & <dbl> & <dbl> & <dbl> & <dbl> & <dbl> & ... & <dbl> & <dbl> & <dbl> & <dbl> & <dbl> & <dbl> & <dbl> & <dbl> & <dbl> & <dbl>\\\\\n",
       "\\hline\n",
       "\tGSM2432065 & 6.261184 & 6.932312 & 9.024757 & 7.526696 & 7.929416 & 6.525358 & 7.840526 & 5.288242 & 10.202786 & 10.715730 & ... & 6.145836 & 7.897176 & 8.231439 & 5.097638 & 5.290142 & 6.502581 & 7.620033 & 5.536259 & 6.382260 & 7.769097\\\\\n",
       "\tGSM2431907 & 6.365143 & 6.745532 & 8.721207 & 7.308536 & 7.889242 & 6.365918 & 7.709314 & 5.123540 & 10.433868 & 10.281046 & ... & 6.873614 & 7.988366 & 8.651923 & 5.001753 & 5.596953 & 7.140641 & 7.335487 & 5.467053 & 6.748883 & 8.715723\\\\\n",
       "\tGSM2431944 & 7.037219 & 7.004912 & 7.704735 & 9.508253 & 7.581359 & 6.831264 & 7.475368 & 6.482088 &  9.517034 &  9.320138 & ... & 6.476288 & 7.245510 & 7.902976 & 5.427670 & 5.935222 & 6.269329 & 8.486594 & 6.220760 & 6.508026 & 7.223548\\\\\n",
       "\tGSM2432077 & 6.287475 & 6.896542 & 8.513727 & 7.705893 & 7.776812 & 6.518211 & 7.818805 & 5.435215 & 10.200546 & 10.634505 & ... & 7.000288 & 7.486579 & 8.066839 & 5.418762 & 5.355058 & 6.326021 & 7.502269 & 5.774297 & 6.479802 & 7.697205\\\\\n",
       "\tGSM2431900 & 7.158044 & 7.151607 & 7.312291 & 8.758514 & 7.147847 & 6.736545 & 7.693866 & 6.329917 &  8.982522 &  9.470826 & ... & 6.843814 & 7.498008 & 7.993523 & 5.764465 & 6.111677 & 6.155571 & 7.565872 & 5.886809 & 7.013988 & 6.779802\\\\\n",
       "\tGSM2431925 & 7.328414 & 7.316238 & 7.668048 & 8.985408 & 7.236486 & 6.728989 & 7.378774 & 6.568834 &  8.517764 &  9.592578 & ... & 6.385092 & 7.164195 & 7.483145 & 5.349963 & 6.167491 & 6.315269 & 7.793256 & 5.449925 & 6.894847 & 6.967051\\\\\n",
       "\\end{tabular}\n"
      ],
      "text/markdown": [
       "\n",
       "A data.frame: 6 x 87\n",
       "\n",
       "| <!--/--> | TROAP &lt;dbl&gt; | ABCB6 &lt;dbl&gt; | AHSA1 &lt;dbl&gt; | SLC12A7 &lt;dbl&gt; | PWP1 &lt;dbl&gt; | ERCC8 &lt;dbl&gt; | DCN &lt;dbl&gt; | DUSP9 &lt;dbl&gt; | ZNF365 &lt;dbl&gt; | DDN &lt;dbl&gt; | ... ... | PER3 &lt;dbl&gt; | DBP &lt;dbl&gt; | SFPQ &lt;dbl&gt; | ITIH5 &lt;dbl&gt; | LDLR &lt;dbl&gt; | INSIG1 &lt;dbl&gt; | SLC39A14 &lt;dbl&gt; | NFIL3 &lt;dbl&gt; | SNTB2 &lt;dbl&gt; | BHLHE41 &lt;dbl&gt; |\n",
       "|---|---|---|---|---|---|---|---|---|---|---|---|---|---|---|---|---|---|---|---|---|---|\n",
       "| GSM2432065 | 6.261184 | 6.932312 | 9.024757 | 7.526696 | 7.929416 | 6.525358 | 7.840526 | 5.288242 | 10.202786 | 10.715730 | ... | 6.145836 | 7.897176 | 8.231439 | 5.097638 | 5.290142 | 6.502581 | 7.620033 | 5.536259 | 6.382260 | 7.769097 |\n",
       "| GSM2431907 | 6.365143 | 6.745532 | 8.721207 | 7.308536 | 7.889242 | 6.365918 | 7.709314 | 5.123540 | 10.433868 | 10.281046 | ... | 6.873614 | 7.988366 | 8.651923 | 5.001753 | 5.596953 | 7.140641 | 7.335487 | 5.467053 | 6.748883 | 8.715723 |\n",
       "| GSM2431944 | 7.037219 | 7.004912 | 7.704735 | 9.508253 | 7.581359 | 6.831264 | 7.475368 | 6.482088 |  9.517034 |  9.320138 | ... | 6.476288 | 7.245510 | 7.902976 | 5.427670 | 5.935222 | 6.269329 | 8.486594 | 6.220760 | 6.508026 | 7.223548 |\n",
       "| GSM2432077 | 6.287475 | 6.896542 | 8.513727 | 7.705893 | 7.776812 | 6.518211 | 7.818805 | 5.435215 | 10.200546 | 10.634505 | ... | 7.000288 | 7.486579 | 8.066839 | 5.418762 | 5.355058 | 6.326021 | 7.502269 | 5.774297 | 6.479802 | 7.697205 |\n",
       "| GSM2431900 | 7.158044 | 7.151607 | 7.312291 | 8.758514 | 7.147847 | 6.736545 | 7.693866 | 6.329917 |  8.982522 |  9.470826 | ... | 6.843814 | 7.498008 | 7.993523 | 5.764465 | 6.111677 | 6.155571 | 7.565872 | 5.886809 | 7.013988 | 6.779802 |\n",
       "| GSM2431925 | 7.328414 | 7.316238 | 7.668048 | 8.985408 | 7.236486 | 6.728989 | 7.378774 | 6.568834 |  8.517764 |  9.592578 | ... | 6.385092 | 7.164195 | 7.483145 | 5.349963 | 6.167491 | 6.315269 | 7.793256 | 5.449925 | 6.894847 | 6.967051 |\n",
       "\n"
      ],
      "text/plain": [
       "           TROAP    ABCB6    AHSA1    SLC12A7  PWP1     ERCC8    DCN     \n",
       "GSM2432065 6.261184 6.932312 9.024757 7.526696 7.929416 6.525358 7.840526\n",
       "GSM2431907 6.365143 6.745532 8.721207 7.308536 7.889242 6.365918 7.709314\n",
       "GSM2431944 7.037219 7.004912 7.704735 9.508253 7.581359 6.831264 7.475368\n",
       "GSM2432077 6.287475 6.896542 8.513727 7.705893 7.776812 6.518211 7.818805\n",
       "GSM2431900 7.158044 7.151607 7.312291 8.758514 7.147847 6.736545 7.693866\n",
       "GSM2431925 7.328414 7.316238 7.668048 8.985408 7.236486 6.728989 7.378774\n",
       "           DUSP9    ZNF365    DDN       ... PER3     DBP      SFPQ     ITIH5   \n",
       "GSM2432065 5.288242 10.202786 10.715730 ... 6.145836 7.897176 8.231439 5.097638\n",
       "GSM2431907 5.123540 10.433868 10.281046 ... 6.873614 7.988366 8.651923 5.001753\n",
       "GSM2431944 6.482088  9.517034  9.320138 ... 6.476288 7.245510 7.902976 5.427670\n",
       "GSM2432077 5.435215 10.200546 10.634505 ... 7.000288 7.486579 8.066839 5.418762\n",
       "GSM2431900 6.329917  8.982522  9.470826 ... 6.843814 7.498008 7.993523 5.764465\n",
       "GSM2431925 6.568834  8.517764  9.592578 ... 6.385092 7.164195 7.483145 5.349963\n",
       "           LDLR     INSIG1   SLC39A14 NFIL3    SNTB2    BHLHE41 \n",
       "GSM2432065 5.290142 6.502581 7.620033 5.536259 6.382260 7.769097\n",
       "GSM2431907 5.596953 7.140641 7.335487 5.467053 6.748883 8.715723\n",
       "GSM2431944 5.935222 6.269329 8.486594 6.220760 6.508026 7.223548\n",
       "GSM2432077 5.355058 6.326021 7.502269 5.774297 6.479802 7.697205\n",
       "GSM2431900 6.111677 6.155571 7.565872 5.886809 7.013988 6.779802\n",
       "GSM2431925 6.167491 6.315269 7.793256 5.449925 6.894847 6.967051"
      ]
     },
     "metadata": {},
     "output_type": "display_data"
    }
   ],
   "source": [
    "head(expr)"
   ]
  },
  {
   "cell_type": "code",
   "execution_count": 6,
   "id": "795e5c30-f515-4e7d-ac50-c9ca29d76412",
   "metadata": {},
   "outputs": [],
   "source": [
    "y = death"
   ]
  },
  {
   "cell_type": "code",
   "execution_count": 7,
   "id": "eaa19a78-9513-4174-8505-83793a58cd4f",
   "metadata": {},
   "outputs": [],
   "source": [
    "colnames(expr) = gsub('-','.',colnames(expr))"
   ]
  },
  {
   "cell_type": "code",
   "execution_count": 8,
   "id": "001f3957-9628-4e71-8f3c-da98bbc95760",
   "metadata": {},
   "outputs": [],
   "source": [
    "expr <- expr[, !grepl(\"^\\\\d+\", names(expr))]"
   ]
  },
  {
   "cell_type": "code",
   "execution_count": 9,
   "id": "a6b9699b-d802-4efa-9213-675cea538c7f",
   "metadata": {},
   "outputs": [
    {
     "name": "stderr",
     "output_type": "stream",
     "text": [
      "\n",
      "Attaching package: 'dplyr'\n",
      "\n",
      "\n",
      "The following objects are masked from 'package:stats':\n",
      "\n",
      "    filter, lag\n",
      "\n",
      "\n",
      "The following objects are masked from 'package:base':\n",
      "\n",
      "    intersect, setdiff, setequal, union\n",
      "\n",
      "\n"
     ]
    }
   ],
   "source": [
    "library(dplyr)"
   ]
  },
  {
   "cell_type": "code",
   "execution_count": 21,
   "id": "ab65721e-6b86-41ef-a50f-a498981a0e4c",
   "metadata": {},
   "outputs": [],
   "source": [
    "x = as.matrix(expr)\n",
    "y = y"
   ]
  },
  {
   "cell_type": "code",
   "execution_count": 22,
   "id": "169ffec6-1642-4189-bf9d-15da56264520",
   "metadata": {},
   "outputs": [],
   "source": [
    "library(randomForest)"
   ]
  },
  {
   "cell_type": "code",
   "execution_count": null,
   "id": "52d76d0a-8f60-473e-a3e5-8c684414853a",
   "metadata": {},
   "outputs": [],
   "source": []
  },
  {
   "cell_type": "code",
   "execution_count": null,
   "id": "24846125-9d6c-40cc-bec2-4589f3efc1c7",
   "metadata": {},
   "outputs": [],
   "source": [
    "# set.seed(1111)\n",
    "\n",
    "# rf = randomForest(as.factor(y)~.,data = x,ntree =1000,important=TRUE,proximity=TRUE)\n",
    "\n",
    "# plot(rf)\n",
    "\n",
    "# pdf('forest.pdf',height = 6,width = 6)\n",
    "# plot(rf)\n",
    "# dev.off()\n",
    "\n",
    "# trees = which.min(rf$err.rate[,1])\n",
    "\n",
    "# rf = randomForest(as.factor(y)~.,data = x,ntree =trees,important=TRUE,proximity=TRUE)\n",
    "\n",
    "# importance = importance(rf)\n",
    "\n",
    "# pdf('forest2.pdf',height = 6,width = 4)\n",
    "# varImpPlot(rf,main = '')\n",
    "# dev.off()\n",
    "\n",
    "# # RPE65 + MC3R+NFIL3 + PRF1 + IL6\n",
    "\n",
    "# options(repr.plot.width = 4)\n",
    "\n",
    "# varImpPlot(rf,main = '')\n",
    "\n",
    "# rfGenes=importance[order(importance[, \"MeanDecreaseGini\"], decreasing  = TRUE),] #重要性评分大于2的基因\n",
    "\n",
    "# rfGenes"
   ]
  },
  {
   "cell_type": "code",
   "execution_count": 29,
   "id": "118e60c2-163b-46df-858f-f87c8206303c",
   "metadata": {},
   "outputs": [],
   "source": [
    "# rfGenes=names(rfGenes[rfGenes>30]) \n",
    "# write.table(rfGenes,file=\"rfGenes.txt\",sep=\"\\t\",quote=F,col.names=F,row.names=F) #输出表达量\n",
    "\n",
    "# expr2 = exp4\n",
    "\n",
    "# sigExp=expr2[rfGenes,]\n",
    "# write.table(data.frame(ID=rownames(sigExp),sigExp),file=\"rfGeneExp.txt\",sep=\"\\t\",quote=F,col.names=T,row.names=F) \n",
    "\n",
    "# rfGenes"
   ]
  },
  {
   "cell_type": "markdown",
   "id": "af18f8e6-2aaf-42ec-a432-c763909b210d",
   "metadata": {},
   "source": [
    "### svm"
   ]
  },
  {
   "cell_type": "code",
   "execution_count": 30,
   "id": "f2a3a6c3-6bb3-4d0d-8c62-0516db9f4130",
   "metadata": {},
   "outputs": [],
   "source": [
    "# library(tidyverse)\n",
    "# library(glmnet)\n",
    "# library(VennDiagram)\n",
    "# library(e1071)\n",
    "# library(caret)\n",
    "# library(randomForest)\n",
    "\n",
    "# x = as.matrix(expr)\n",
    "\n",
    "# y=as.numeric(as.factor(Type))\n",
    "\n",
    "# library(future)\n",
    "# plan(\"multisession\",workers=30)\n",
    "\n",
    "# set.seed(1)\n",
    "# rfeControl = rfeControl(functions = caretFuncs,\n",
    "#                         method = \"cv\", # 默认自助法重采样 boot\n",
    "#                         saveDetails = T, # 保存预测值和变量重要性\n",
    "#                         number = 5, # 重抽样次数\n",
    "#                         allowParallel = T # 允许多线程，用这个之前你要先准备好多线程！\n",
    "#                         )\n",
    "\n",
    "# Profile=rfe(x=x,y=as.factor(y),sizes =c(1:32),\n",
    "#     rfeControl =  rfeControl,\n",
    "#     methods=\"svmRadial\")\n",
    "\n",
    "# Profile\n",
    "\n",
    "# pdf(file=\"SVM-RFE.pdf\", width=6, height=5.5)\n",
    "# par(las=1)\n",
    "# x= Profile$results$Variables \n",
    "# y =Profile$results$RMSE\n",
    "# plot(x, y, xlab=\"Variables\", ylab=\"RMSE (Cross-Validation)\", col=\"darkgreen\") \n",
    "# lines(x, y, col=\"darkgreen\")\n",
    "# wmin=which.min(y) \n",
    "# wmin.x=x[wmin] \n",
    "# wmin.y=y[wmin]\n",
    "# points(wmin.x, wmin.y, col=\"blue\", pch=16)\n",
    "# text(wmin.x, wmin.y, paste0('N=', wmin.x), pos=2, col=2)\n",
    "# dev.off()\n",
    "\n",
    "# par(las=1)\n",
    "# x= Profile$results$Variables \n",
    "# y =Profile$results$RMSE\n",
    "# plot(x, y, xlab=\"Variables\", ylab=\"RMSE (Cross-Validation)\", col=\"darkgreen\") \n",
    "# lines(x, y, col=\"darkgreen\")\n",
    "# wmin=which.min(y) \n",
    "# wmin.x=x[wmin] \n",
    "# wmin.y=y[wmin]\n",
    "# points(wmin.x, wmin.y, col=\"blue\", pch=16)\n",
    "# text(wmin.x, wmin.y, paste0('N=', wmin.x), pos=2, col=2)\n",
    "\n",
    "# #输出\n",
    "# featureGenes = Profile$optVariables\n",
    "# write.table(file=\"SVM-RFE.gene.txt\",featureGenes,sep=\"\\t\",quote=F,row.names=F,col.names=F) #表达矩阵 \n",
    "\n",
    "# featureGenes"
   ]
  },
  {
   "cell_type": "markdown",
   "id": "80a4188a-f4ee-4fc6-8479-542b5b97f5a7",
   "metadata": {},
   "source": [
    "### Boruta"
   ]
  },
  {
   "cell_type": "code",
   "execution_count": null,
   "id": "56b1f3fc-13fd-47bb-b427-e9a8d45270ab",
   "metadata": {
    "scrolled": true
   },
   "outputs": [],
   "source": [
    "# library(Boruta)\n",
    "\n",
    "# y\n",
    "\n",
    "# set.seed(111)\n",
    "# boruta <- Boruta(x=x, y=y, pValue=0.05, mcAdj=T, \n",
    "#        maxRuns=300)\n",
    "\n",
    "# boruta\n",
    "\n",
    "# table(boruta$finalDecision)\n",
    "\n",
    "# boruta$finalDecision\n",
    "\n",
    "# Boruta::plotImpHistory(boruta)\n",
    "\n",
    "# library(dplyr)\n",
    "# boruta.imp <- function(x){\n",
    "#   imp <- reshape2::melt(x$ImpHistory, na.rm=T)[,-1]\n",
    "#   colnames(imp) <- c(\"Variable\",\"Importance\")\n",
    "#   imp <- imp[is.finite(imp$Importance),]\n",
    "\n",
    "#   variableGrp <- data.frame(Variable=names(x$finalDecision), \n",
    "#                             finalDecision=x$finalDecision)\n",
    "\n",
    "#   showGrp <- data.frame(Variable=c(\"shadowMax\", \"shadowMean\", \"shadowMin\"),\n",
    "#                         finalDecision=c(\"shadowMax\", \"shadowMean\", \"shadowMin\"))\n",
    "\n",
    "#   variableGrp <- rbind(variableGrp, showGrp)\n",
    "\n",
    "#   boruta.variable.imp <- merge(imp, variableGrp, all.x=T)\n",
    "\n",
    "#   sortedVariable <- boruta.variable.imp %>% group_by(Variable) %>% \n",
    "#     summarise(median=median(Importance)) %>% arrange(median)\n",
    "#   sortedVariable <- as.vector(sortedVariable$Variable)\n",
    "\n",
    "\n",
    "#   boruta.variable.imp$Variable <- factor(boruta.variable.imp$Variable, levels=sortedVariable)\n",
    "\n",
    "#   invisible(boruta.variable.imp)\n",
    "# }\n",
    "# boruta.variable.imp <- boruta.imp(boruta)\n",
    "\n",
    "\n",
    "# boruta\n",
    "\n",
    "# library(YSX)\n",
    "\n",
    "# sp_boxplot(boruta.variable.imp, melted=T, xvariable = \"Variable\", yvariable = \"Importance\",\n",
    "#            legend_variable = \"finalDecision\", legend_variable_order = c(\"shadowMax\", \"shadowMean\", \"shadowMin\", \"Confirmed\"),\n",
    "#            xtics_angle = 90)\n",
    "\n",
    "# expr = cbind(Type,expr)\n",
    "\n",
    "# colnames(expr)[1]  ='Group'\n",
    "\n",
    "# expr3 = expr\n",
    "\n",
    "# set.seed(147)  \n",
    "# index <-  which( (1:nrow(expr3))%%3 == 0 )\n",
    "# train <- expr3[-index,]\n",
    "# test <- expr3[index,]\n",
    "\n",
    "# table(test$Group)\n",
    "\n",
    "# library(\"xgboost\")\n",
    "# library(\"Matrix\")\n",
    "# train_matrix <- sparse.model.matrix(Group ~ .-1, data = train)\n",
    "# test_matrix <- sparse.model.matrix(Group ~ .-1, data = test)\n",
    "# all_matrix <- sparse.model.matrix(Group ~ .-1, data = expr3)\n",
    "\n",
    "\n",
    "\n",
    "# train_label <- as.numeric(train$Group == 'MDD')\n",
    "# test_label <-  as.numeric(test$Group == 'MDD')\n",
    "# all_label <-  as.numeric(expr3$Group == 'MDD')\n",
    "\n",
    "# all_label\n",
    "\n",
    "# train_fin <- list(data=train_matrix,label=train_label) \n",
    "# test_fin <- list(data=test_matrix,label=test_label) \n",
    "# all_fin <- list(data=all_matrix,label=all_label) \n",
    "\n",
    "# dtrain <- xgb.DMatrix(data = train_fin$data, label = train_fin$label) \n",
    "# dtest <- xgb.DMatrix(data = test_fin$data, label = test_fin$label)\n",
    "# dall <- xgb.DMatrix(data = all_fin$data, label = all_fin$label)\n",
    "\n",
    "# xgb <- xgboost(data = dall,max_depth=6, eta=0.5,  \n",
    "#   objective='binary:logistic', nround=25)\n",
    "\n",
    "# xgb\n",
    "\n",
    "# importance <- xgb.importance(all_matrix@Dimnames[[2]], model = xgb)  \n",
    "# head(importance)\n",
    "# xgb.ggplot.importance(importance)\n",
    "\n",
    "# xgb.plot.importance(importance)"
   ]
  },
  {
   "cell_type": "code",
   "execution_count": 55,
   "id": "43df8e21-bbc7-4efd-b4fe-41c4ab5b41de",
   "metadata": {},
   "outputs": [],
   "source": [
    "# lasso"
   ]
  },
  {
   "cell_type": "code",
   "execution_count": 30,
   "id": "ba2c634f-a5bd-4dfe-9b61-152f572ad021",
   "metadata": {},
   "outputs": [
    {
     "name": "stderr",
     "output_type": "stream",
     "text": [
      "Warning message:\n",
      "\"package 'lars' was built under R version 4.2.3\"\n",
      "Loaded lars 1.3\n",
      "\n",
      "\n",
      "Warning message:\n",
      "\"package 'glmnet' was built under R version 4.2.3\"\n",
      "Loading required package: Matrix\n",
      "\n",
      "Warning message:\n",
      "\"package 'Matrix' was built under R version 4.2.3\"\n",
      "Loaded glmnet 4.1-8\n",
      "\n"
     ]
    }
   ],
   "source": [
    "library(lars) \n",
    "library(glmnet) "
   ]
  },
  {
   "cell_type": "code",
   "execution_count": 32,
   "id": "47072cb4-2c9b-41e2-a4bd-1cdde1f8ff85",
   "metadata": {},
   "outputs": [
    {
     "data": {
      "image/png": "[encoded data removed]",
      "text/plain": [
       "plot without title"
      ]
     },
     "metadata": {
      "image/png": {
       "height": 420,
       "width": 420
      }
     },
     "output_type": "display_data"
    }
   ],
   "source": [
    "#用基因的表达情况预测生死\n",
    "model_lasso <- glmnet(x, y, family=\"binomial\", nlambda=100, alpha=1)#拉手回归模型\n",
    "plot(model_lasso, xvar = \"norm\", label = TRUE)"
   ]
  },
  {
   "cell_type": "code",
   "execution_count": 33,
   "id": "d502b6e8-2b9b-4e2e-a927-71cf4452c398",
   "metadata": {},
   "outputs": [
    {
     "data": {
      "image/png": "[encoded data removed]",
      "text/plain": [
       "plot without title"
      ]
     },
     "metadata": {
      "image/png": {
       "height": 420,
       "width": 420
      }
     },
     "output_type": "display_data"
    }
   ],
   "source": [
    "plot(model_lasso, xvar=\"lambda\", label=TRUE)"
   ]
  },
  {
   "cell_type": "code",
   "execution_count": 34,
   "id": "c81fd5f4-8889-4459-a473-af5c85884c50",
   "metadata": {},
   "outputs": [],
   "source": [
    "cv_fit <- cv.glmnet(x=x, y=y, alpha = 1, nlambda = 100)"
   ]
  },
  {
   "cell_type": "code",
   "execution_count": 35,
   "id": "928cd515-515d-4674-9127-1420d9f5003c",
   "metadata": {},
   "outputs": [
    {
     "data": {
      "text/html": [
       "<style>\n",
       ".list-inline {list-style: none; margin:0; padding: 0}\n",
       ".list-inline>li {display: inline-block}\n",
       ".list-inline>li:not(:last-child)::after {content: \"\\00b7\"; padding: 0 .5ex}\n",
       "</style>\n",
       "<ol class=list-inline><li>0.189480487105474</li><li>0.189480487105474</li></ol>\n"
      ],
      "text/latex": [
       "\\begin{enumerate*}\n",
       "\\item 0.189480487105474\n",
       "\\item 0.189480487105474\n",
       "\\end{enumerate*}\n"
      ],
      "text/markdown": [
       "1. 0.189480487105474\n",
       "2. 0.189480487105474\n",
       "\n",
       "\n"
      ],
      "text/plain": [
       "[1] 0.1894805 0.1894805"
      ]
     },
     "metadata": {},
     "output_type": "display_data"
    },
    {
     "data": {
      "image/png": "[encoded data removed]",
      "text/plain": [
       "plot without title"
      ]
     },
     "metadata": {
      "image/png": {
       "height": 420,
       "width": 420
      }
     },
     "output_type": "display_data"
    }
   ],
   "source": [
    "plot(cv_fit)\n",
    "# 两条虚线分别指示了两个特殊的λ值:\n",
    "c(cv_fit$lambda.min,cv_fit$lambda.1se) "
   ]
  },
  {
   "cell_type": "code",
   "execution_count": 36,
   "id": "31265b48-dabd-4211-9bdf-140229eade93",
   "metadata": {},
   "outputs": [],
   "source": [
    "model_lasso <- glmnet(x=as.matrix(x), y=y, alpha = 1, lambda=cv_fit$lambda.min\t)\n",
    "gene_1se <- rownames(model_lasso$beta)[as.numeric(model_lasso$beta)!=0]\n",
    "gene_1se = gsub('[.]',' ',gene_1se)"
   ]
  },
  {
   "cell_type": "code",
   "execution_count": 37,
   "id": "2d61c6cb-1ff2-4d36-84c7-cbd2dbd98acd",
   "metadata": {},
   "outputs": [
    {
     "data": {
      "text/html": [
       "'FZD9'"
      ],
      "text/latex": [
       "'FZD9'"
      ],
      "text/markdown": [
       "'FZD9'"
      ],
      "text/plain": [
       "[1] \"FZD9\""
      ]
     },
     "metadata": {},
     "output_type": "display_data"
    }
   ],
   "source": [
    "gene_1se"
   ]
  },
  {
   "cell_type": "markdown",
   "id": "9bbc7a58-1e83-49fb-9470-0635af8e8f6e",
   "metadata": {},
   "source": [
    "### 韦恩图"
   ]
  },
  {
   "cell_type": "code",
   "execution_count": 63,
   "id": "a81c310f-4368-4c50-b8f2-9e41ff70df68",
   "metadata": {},
   "outputs": [
    {
     "data": {
      "text/html": [
       "<style>\n",
       ".list-inline {list-style: none; margin:0; padding: 0}\n",
       ".list-inline>li {display: inline-block}\n",
       ".list-inline>li:not(:last-child)::after {content: \"\\00b7\"; padding: 0 .5ex}\n",
       "</style>\n",
       "<ol class=list-inline><li>'SPINT2'</li><li>'BAIAP3'</li><li>'HPCAL4'</li><li>'HS3ST2'</li><li>'CALB2'</li><li>'TBR1'</li><li>'PIM2'</li><li>'ME3'</li><li>'PGK1'</li><li>'LOC729580'</li><li>'RALB'</li><li>'DOC2A'</li><li>'TBC1D9'</li><li>'STMN4'</li><li>'C20orf24'</li><li>'SMARCD3'</li><li>'GNE'</li><li>'RAD51C'</li><li>'LARGE'</li><li>'PINK1'</li><li>'RFK'</li><li>'CYB561'</li><li>'SLC8A2'</li><li>'B4GALT3'</li><li>'REPS2'</li><li>'CES2'</li><li>'ERCC1'</li><li>'SFXN3'</li><li>'IDH3B'</li><li>'RIMS1'</li><li>'ROBLD3'</li><li>'RABEPK'</li><li>'ACTR10'</li><li>'KCNAB1'</li><li>'PCSK1'</li><li>'C18orf10'</li><li>'RSL1D1'</li><li>'DBNDD1'</li><li>'MED6'</li><li>'TRIAP1'</li><li>'PORCN'</li><li>'F12'</li><li>'TUBG2'</li><li>'GABRA5'</li><li>'BAP1'</li><li>'GLRX2'</li><li>'MRPL46'</li><li>'PAK6'</li><li>'PRSS3'</li><li>'DDRGK1'</li><li>'UBE2M'</li><li>'NDUFA9'</li><li>'SMYD3'</li><li>'PID1'</li><li>'PPP3R1'</li><li>'AKAP12'</li><li>'LIMK1'</li><li>'RBM9'</li><li>'GDAP1L1'</li><li>'PTPRN2'</li><li>'CLPTM1'</li><li>'DDA1'</li><li>'OLFM1'</li><li>'CCKBR'</li><li>'SIAH2'</li><li>'POLS'</li><li>'NIPSNAP1'</li><li>'ATP2B2'</li><li>'FBXL15'</li><li>'MLF2'</li><li>'ATP6V1A'</li><li>'PPIE'</li><li>'ANXA6'</li><li>'AMPH'</li><li>'CYTH2'</li><li>'BHLHB9'</li><li>'KCNJ9'</li><li>'ENDOG'</li><li>'HSPB11'</li><li>'ARMCX2'</li><li>'KCNAB2'</li><li>'EIF1B'</li><li>'PIN1'</li><li>'WDR82'</li><li>'C1orf216'</li><li>'SAE1'</li><li>'SEZ6L2'</li><li>'AURKAIP1'</li><li>'DCTN3'</li><li>'PPID'</li><li>'ACTR1B'</li><li>'RABIF'</li><li>'DBP'</li><li>'DNM1L'</li><li>'GLRX5'</li></ol>\n"
      ],
      "text/latex": [
       "\\begin{enumerate*}\n",
       "\\item 'SPINT2'\n",
       "\\item 'BAIAP3'\n",
       "\\item 'HPCAL4'\n",
       "\\item 'HS3ST2'\n",
       "\\item 'CALB2'\n",
       "\\item 'TBR1'\n",
       "\\item 'PIM2'\n",
       "\\item 'ME3'\n",
       "\\item 'PGK1'\n",
       "\\item 'LOC729580'\n",
       "\\item 'RALB'\n",
       "\\item 'DOC2A'\n",
       "\\item 'TBC1D9'\n",
       "\\item 'STMN4'\n",
       "\\item 'C20orf24'\n",
       "\\item 'SMARCD3'\n",
       "\\item 'GNE'\n",
       "\\item 'RAD51C'\n",
       "\\item 'LARGE'\n",
       "\\item 'PINK1'\n",
       "\\item 'RFK'\n",
       "\\item 'CYB561'\n",
       "\\item 'SLC8A2'\n",
       "\\item 'B4GALT3'\n",
       "\\item 'REPS2'\n",
       "\\item 'CES2'\n",
       "\\item 'ERCC1'\n",
       "\\item 'SFXN3'\n",
       "\\item 'IDH3B'\n",
       "\\item 'RIMS1'\n",
       "\\item 'ROBLD3'\n",
       "\\item 'RABEPK'\n",
       "\\item 'ACTR10'\n",
       "\\item 'KCNAB1'\n",
       "\\item 'PCSK1'\n",
       "\\item 'C18orf10'\n",
       "\\item 'RSL1D1'\n",
       "\\item 'DBNDD1'\n",
       "\\item 'MED6'\n",
       "\\item 'TRIAP1'\n",
       "\\item 'PORCN'\n",
       "\\item 'F12'\n",
       "\\item 'TUBG2'\n",
       "\\item 'GABRA5'\n",
       "\\item 'BAP1'\n",
       "\\item 'GLRX2'\n",
       "\\item 'MRPL46'\n",
       "\\item 'PAK6'\n",
       "\\item 'PRSS3'\n",
       "\\item 'DDRGK1'\n",
       "\\item 'UBE2M'\n",
       "\\item 'NDUFA9'\n",
       "\\item 'SMYD3'\n",
       "\\item 'PID1'\n",
       "\\item 'PPP3R1'\n",
       "\\item 'AKAP12'\n",
       "\\item 'LIMK1'\n",
       "\\item 'RBM9'\n",
       "\\item 'GDAP1L1'\n",
       "\\item 'PTPRN2'\n",
       "\\item 'CLPTM1'\n",
       "\\item 'DDA1'\n",
       "\\item 'OLFM1'\n",
       "\\item 'CCKBR'\n",
       "\\item 'SIAH2'\n",
       "\\item 'POLS'\n",
       "\\item 'NIPSNAP1'\n",
       "\\item 'ATP2B2'\n",
       "\\item 'FBXL15'\n",
       "\\item 'MLF2'\n",
       "\\item 'ATP6V1A'\n",
       "\\item 'PPIE'\n",
       "\\item 'ANXA6'\n",
       "\\item 'AMPH'\n",
       "\\item 'CYTH2'\n",
       "\\item 'BHLHB9'\n",
       "\\item 'KCNJ9'\n",
       "\\item 'ENDOG'\n",
       "\\item 'HSPB11'\n",
       "\\item 'ARMCX2'\n",
       "\\item 'KCNAB2'\n",
       "\\item 'EIF1B'\n",
       "\\item 'PIN1'\n",
       "\\item 'WDR82'\n",
       "\\item 'C1orf216'\n",
       "\\item 'SAE1'\n",
       "\\item 'SEZ6L2'\n",
       "\\item 'AURKAIP1'\n",
       "\\item 'DCTN3'\n",
       "\\item 'PPID'\n",
       "\\item 'ACTR1B'\n",
       "\\item 'RABIF'\n",
       "\\item 'DBP'\n",
       "\\item 'DNM1L'\n",
       "\\item 'GLRX5'\n",
       "\\end{enumerate*}\n"
      ],
      "text/markdown": [
       "1. 'SPINT2'\n",
       "2. 'BAIAP3'\n",
       "3. 'HPCAL4'\n",
       "4. 'HS3ST2'\n",
       "5. 'CALB2'\n",
       "6. 'TBR1'\n",
       "7. 'PIM2'\n",
       "8. 'ME3'\n",
       "9. 'PGK1'\n",
       "10. 'LOC729580'\n",
       "11. 'RALB'\n",
       "12. 'DOC2A'\n",
       "13. 'TBC1D9'\n",
       "14. 'STMN4'\n",
       "15. 'C20orf24'\n",
       "16. 'SMARCD3'\n",
       "17. 'GNE'\n",
       "18. 'RAD51C'\n",
       "19. 'LARGE'\n",
       "20. 'PINK1'\n",
       "21. 'RFK'\n",
       "22. 'CYB561'\n",
       "23. 'SLC8A2'\n",
       "24. 'B4GALT3'\n",
       "25. 'REPS2'\n",
       "26. 'CES2'\n",
       "27. 'ERCC1'\n",
       "28. 'SFXN3'\n",
       "29. 'IDH3B'\n",
       "30. 'RIMS1'\n",
       "31. 'ROBLD3'\n",
       "32. 'RABEPK'\n",
       "33. 'ACTR10'\n",
       "34. 'KCNAB1'\n",
       "35. 'PCSK1'\n",
       "36. 'C18orf10'\n",
       "37. 'RSL1D1'\n",
       "38. 'DBNDD1'\n",
       "39. 'MED6'\n",
       "40. 'TRIAP1'\n",
       "41. 'PORCN'\n",
       "42. 'F12'\n",
       "43. 'TUBG2'\n",
       "44. 'GABRA5'\n",
       "45. 'BAP1'\n",
       "46. 'GLRX2'\n",
       "47. 'MRPL46'\n",
       "48. 'PAK6'\n",
       "49. 'PRSS3'\n",
       "50. 'DDRGK1'\n",
       "51. 'UBE2M'\n",
       "52. 'NDUFA9'\n",
       "53. 'SMYD3'\n",
       "54. 'PID1'\n",
       "55. 'PPP3R1'\n",
       "56. 'AKAP12'\n",
       "57. 'LIMK1'\n",
       "58. 'RBM9'\n",
       "59. 'GDAP1L1'\n",
       "60. 'PTPRN2'\n",
       "61. 'CLPTM1'\n",
       "62. 'DDA1'\n",
       "63. 'OLFM1'\n",
       "64. 'CCKBR'\n",
       "65. 'SIAH2'\n",
       "66. 'POLS'\n",
       "67. 'NIPSNAP1'\n",
       "68. 'ATP2B2'\n",
       "69. 'FBXL15'\n",
       "70. 'MLF2'\n",
       "71. 'ATP6V1A'\n",
       "72. 'PPIE'\n",
       "73. 'ANXA6'\n",
       "74. 'AMPH'\n",
       "75. 'CYTH2'\n",
       "76. 'BHLHB9'\n",
       "77. 'KCNJ9'\n",
       "78. 'ENDOG'\n",
       "79. 'HSPB11'\n",
       "80. 'ARMCX2'\n",
       "81. 'KCNAB2'\n",
       "82. 'EIF1B'\n",
       "83. 'PIN1'\n",
       "84. 'WDR82'\n",
       "85. 'C1orf216'\n",
       "86. 'SAE1'\n",
       "87. 'SEZ6L2'\n",
       "88. 'AURKAIP1'\n",
       "89. 'DCTN3'\n",
       "90. 'PPID'\n",
       "91. 'ACTR1B'\n",
       "92. 'RABIF'\n",
       "93. 'DBP'\n",
       "94. 'DNM1L'\n",
       "95. 'GLRX5'\n",
       "\n",
       "\n"
      ],
      "text/plain": [
       " [1] \"SPINT2\"    \"BAIAP3\"    \"HPCAL4\"    \"HS3ST2\"    \"CALB2\"     \"TBR1\"     \n",
       " [7] \"PIM2\"      \"ME3\"       \"PGK1\"      \"LOC729580\" \"RALB\"      \"DOC2A\"    \n",
       "[13] \"TBC1D9\"    \"STMN4\"     \"C20orf24\"  \"SMARCD3\"   \"GNE\"       \"RAD51C\"   \n",
       "[19] \"LARGE\"     \"PINK1\"     \"RFK\"       \"CYB561\"    \"SLC8A2\"    \"B4GALT3\"  \n",
       "[25] \"REPS2\"     \"CES2\"      \"ERCC1\"     \"SFXN3\"     \"IDH3B\"     \"RIMS1\"    \n",
       "[31] \"ROBLD3\"    \"RABEPK\"    \"ACTR10\"    \"KCNAB1\"    \"PCSK1\"     \"C18orf10\" \n",
       "[37] \"RSL1D1\"    \"DBNDD1\"    \"MED6\"      \"TRIAP1\"    \"PORCN\"     \"F12\"      \n",
       "[43] \"TUBG2\"     \"GABRA5\"    \"BAP1\"      \"GLRX2\"     \"MRPL46\"    \"PAK6\"     \n",
       "[49] \"PRSS3\"     \"DDRGK1\"    \"UBE2M\"     \"NDUFA9\"    \"SMYD3\"     \"PID1\"     \n",
       "[55] \"PPP3R1\"    \"AKAP12\"    \"LIMK1\"     \"RBM9\"      \"GDAP1L1\"   \"PTPRN2\"   \n",
       "[61] \"CLPTM1\"    \"DDA1\"      \"OLFM1\"     \"CCKBR\"     \"SIAH2\"     \"POLS\"     \n",
       "[67] \"NIPSNAP1\"  \"ATP2B2\"    \"FBXL15\"    \"MLF2\"      \"ATP6V1A\"   \"PPIE\"     \n",
       "[73] \"ANXA6\"     \"AMPH\"      \"CYTH2\"     \"BHLHB9\"    \"KCNJ9\"     \"ENDOG\"    \n",
       "[79] \"HSPB11\"    \"ARMCX2\"    \"KCNAB2\"    \"EIF1B\"     \"PIN1\"      \"WDR82\"    \n",
       "[85] \"C1orf216\"  \"SAE1\"      \"SEZ6L2\"    \"AURKAIP1\"  \"DCTN3\"     \"PPID\"     \n",
       "[91] \"ACTR1B\"    \"RABIF\"     \"DBP\"       \"DNM1L\"     \"GLRX5\"    "
      ]
     },
     "metadata": {},
     "output_type": "display_data"
    }
   ],
   "source": [
    "importance$Feature"
   ]
  },
  {
   "cell_type": "code",
   "execution_count": 64,
   "id": "89d6dc0b-5e96-4cf3-917c-a0afe0fdc5d4",
   "metadata": {},
   "outputs": [],
   "source": [
    "RF.gene = names(rfGenes)[1:10]\n",
    "#SVF.RFE.gene = featureGenes\n",
    "XGBoost.gene = importance$Feature[1:10]"
   ]
  },
  {
   "cell_type": "code",
   "execution_count": 65,
   "id": "83b72c7d-52ef-4d50-8126-914d29a113a0",
   "metadata": {},
   "outputs": [],
   "source": [
    "boruta.variable.imp2 = boruta.variable.imp %>% dplyr::filter(finalDecision %in% c('Confirmed','Tentative')) %>% dplyr::select(Variable) %>% unique()"
   ]
  },
  {
   "cell_type": "code",
   "execution_count": 66,
   "id": "f69a1fb0-c0d5-40ee-9585-06359f8944c9",
   "metadata": {},
   "outputs": [],
   "source": [
    "Boruta.gene = as.vector(boruta.variable.imp2$Variable)"
   ]
  },
  {
   "cell_type": "code",
   "execution_count": 67,
   "id": "675c25fa-6f86-45f9-923c-bb5f98d011ec",
   "metadata": {},
   "outputs": [],
   "source": [
    "lasso.gene  = gene_1se"
   ]
  },
  {
   "cell_type": "code",
   "execution_count": 68,
   "id": "2c64753a-f26a-4f21-be8f-695ee6056f50",
   "metadata": {},
   "outputs": [],
   "source": [
    "list1 = list(RF.gene,lasso.gene,Boruta.gene,XGBoost.gene)"
   ]
  },
  {
   "cell_type": "code",
   "execution_count": 69,
   "id": "c3990cb1-0231-4c11-bea4-899601f73ccd",
   "metadata": {},
   "outputs": [
    {
     "name": "stderr",
     "output_type": "stream",
     "text": [
      "Warning message in (function (..., deparse.level = 1) :\n",
      "\"number of rows of result is not a multiple of vector length (arg 1)\"\n"
     ]
    }
   ],
   "source": [
    "data =  as.data.frame (do.call (cbind, list1))"
   ]
  },
  {
   "cell_type": "code",
   "execution_count": 70,
   "id": "6ca57ee7-2096-4ed7-9fa5-0d6006805239",
   "metadata": {},
   "outputs": [
    {
     "name": "stderr",
     "output_type": "stream",
     "text": [
      "Warning message:\n",
      "\"package 'venn' was built under R version 4.2.3\"\n",
      "Loading required package: grid\n",
      "\n",
      "Loading required package: futile.logger\n",
      "\n",
      "Warning message:\n",
      "\"package 'futile.logger' was built under R version 4.2.3\"\n"
     ]
    },
    {
     "data": {
      "text/html": [
       "<strong>png:</strong> 2"
      ],
      "text/latex": [
       "\\textbf{png:} 2"
      ],
      "text/markdown": [
       "**png:** 2"
      ],
      "text/plain": [
       "png \n",
       "  2 "
      ]
     },
     "metadata": {},
     "output_type": "display_data"
    }
   ],
   "source": [
    "\n",
    "library(venn)\n",
    "        library(VennDiagram)\n",
    "        color=c( \"#3C5488B2\",\"#00A087B2\", \n",
    "             \"#F39B7FB2\",\"#91D1C2B2\", \n",
    "             \"#8491B4B2\", \"#DC0000B2\", \n",
    "             \"#7E6148B2\",\"yellow\", \n",
    "             \"darkolivegreen1\", \"lightskyblue\", \n",
    "             \"darkgreen\", \"deeppink\", \"khaki2\", \n",
    "             \"firebrick\", \"brown1\", \"darkorange1\", \n",
    "             \"cyan1\", \"royalblue4\", \"darksalmon\", \n",
    "             \"darkgoldenrod1\", \"darkseagreen\", \"darkorchid\")\n",
    "\n",
    "    if (ncol(data) == 2){\n",
    "        sample_list <- list(c1 = data[,1], c2 = data[,2])\n",
    "    }else if(ncol(data) == 3){\n",
    "        sample_list <- list(RF.gene = data[,1], Boruta.gene = data[,2], XGBoost.gene = data[,3])\n",
    "    }else if(ncol(data) == 4){\n",
    "        sample_list <- list(RF.gene = data[,1], SVF.RFE.gene = data[,2], Boruta.gene = data[,3], XGBoost.gene = data[,4])\n",
    "    }else{\n",
    "        sample_list <- list(c1 = data[,1], c2 = data[,2], c3 = data[,3], c4 = data[,4], c5 = data[,5])\n",
    "    }\n",
    "    \n",
    "    q <- venn.diagram(sample_list,filename = NULL,\n",
    "             fill = color[1:(length(sample_list))],\n",
    "             alpha = 0.50, cat.col = rep('black', ncol(data)), \n",
    "             col = 'black', cex = 1, fontfamily = 'serif', cat.cex = 1, cat.fontfamily = 'serif', margin = 0.2\n",
    "                             )\n",
    "    pdf(paste0('./',\"venn.pdf\"))\n",
    "    grid.draw(q)\n",
    "    dev.off()"
   ]
  },
  {
   "cell_type": "code",
   "execution_count": 71,
   "id": "81645293-87d3-47db-9080-20cf9e8c2352",
   "metadata": {},
   "outputs": [
    {
     "data": {
      "image/png": "[encoded data removed]",
      "text/plain": [
       "plot without title"
      ]
     },
     "metadata": {
      "image/png": {
       "height": 420,
       "width": 240
      }
     },
     "output_type": "display_data"
    }
   ],
   "source": [
    "grid.draw(q)"
   ]
  },
  {
   "cell_type": "code",
   "execution_count": 72,
   "id": "3fccc257-691c-4585-b89d-4c723161c49e",
   "metadata": {},
   "outputs": [
    {
     "data": {
      "text/html": [
       "<style>\n",
       ".list-inline {list-style: none; margin:0; padding: 0}\n",
       ".list-inline>li {display: inline-block}\n",
       ".list-inline>li:not(:last-child)::after {content: \"\\00b7\"; padding: 0 .5ex}\n",
       "</style>\n",
       "<ol class=list-inline><li>'BAIAP3'</li><li>'PIM2'</li><li>'CALB2'</li></ol>\n"
      ],
      "text/latex": [
       "\\begin{enumerate*}\n",
       "\\item 'BAIAP3'\n",
       "\\item 'PIM2'\n",
       "\\item 'CALB2'\n",
       "\\end{enumerate*}\n"
      ],
      "text/markdown": [
       "1. 'BAIAP3'\n",
       "2. 'PIM2'\n",
       "3. 'CALB2'\n",
       "\n",
       "\n"
      ],
      "text/plain": [
       "[1] \"BAIAP3\" \"PIM2\"   \"CALB2\" "
      ]
     },
     "metadata": {},
     "output_type": "display_data"
    }
   ],
   "source": [
    "intersect(intersect(intersect(RF.gene,XGBoost.gene),Boruta.gene),lasso.gene)"
   ]
  },
  {
   "cell_type": "code",
   "execution_count": 73,
   "id": "ac415b71-0068-448c-8e3b-e925cdb35bda",
   "metadata": {},
   "outputs": [],
   "source": [
    "model.gene = intersect(lasso.gene,XGBoost.gene)"
   ]
  },
  {
   "cell_type": "code",
   "execution_count": null,
   "id": "9ac0ed4f-de02-4918-9e24-8102fc629831",
   "metadata": {},
   "outputs": [],
   "source": []
  },
  {
   "cell_type": "code",
   "execution_count": 74,
   "id": "6a095875-3f27-410d-a373-78adc6360397",
   "metadata": {},
   "outputs": [],
   "source": [
    "model.gene  =lasso.gene"
   ]
  },
  {
   "cell_type": "code",
   "execution_count": 75,
   "id": "05f8f51e-309f-4ee2-b3a7-69731e1d8a2a",
   "metadata": {},
   "outputs": [
    {
     "data": {
      "text/html": [
       "<style>\n",
       ".list-inline {list-style: none; margin:0; padding: 0}\n",
       ".list-inline>li {display: inline-block}\n",
       ".list-inline>li:not(:last-child)::after {content: \"\\00b7\"; padding: 0 .5ex}\n",
       "</style>\n",
       "<ol class=list-inline><li>'BAIAP3'</li><li>'PIM2'</li><li>'CYB561'</li><li>'ERCC1'</li><li>'NIPSNAP1'</li><li>'PID1'</li><li>'PRSS3'</li><li>'REPS2'</li><li>'CALB2'</li><li>'PPIE'</li><li>'TBC1D9'</li><li>'AKAP12'</li><li>'STMN4'</li></ol>\n"
      ],
      "text/latex": [
       "\\begin{enumerate*}\n",
       "\\item 'BAIAP3'\n",
       "\\item 'PIM2'\n",
       "\\item 'CYB561'\n",
       "\\item 'ERCC1'\n",
       "\\item 'NIPSNAP1'\n",
       "\\item 'PID1'\n",
       "\\item 'PRSS3'\n",
       "\\item 'REPS2'\n",
       "\\item 'CALB2'\n",
       "\\item 'PPIE'\n",
       "\\item 'TBC1D9'\n",
       "\\item 'AKAP12'\n",
       "\\item 'STMN4'\n",
       "\\end{enumerate*}\n"
      ],
      "text/markdown": [
       "1. 'BAIAP3'\n",
       "2. 'PIM2'\n",
       "3. 'CYB561'\n",
       "4. 'ERCC1'\n",
       "5. 'NIPSNAP1'\n",
       "6. 'PID1'\n",
       "7. 'PRSS3'\n",
       "8. 'REPS2'\n",
       "9. 'CALB2'\n",
       "10. 'PPIE'\n",
       "11. 'TBC1D9'\n",
       "12. 'AKAP12'\n",
       "13. 'STMN4'\n",
       "\n",
       "\n"
      ],
      "text/plain": [
       " [1] \"BAIAP3\"   \"PIM2\"     \"CYB561\"   \"ERCC1\"    \"NIPSNAP1\" \"PID1\"    \n",
       " [7] \"PRSS3\"    \"REPS2\"    \"CALB2\"    \"PPIE\"     \"TBC1D9\"   \"AKAP12\"  \n",
       "[13] \"STMN4\"   "
      ]
     },
     "metadata": {},
     "output_type": "display_data"
    }
   ],
   "source": [
    "model.gene"
   ]
  },
  {
   "cell_type": "code",
   "execution_count": 76,
   "id": "6cb691bd-2d72-4837-b47a-5e7c0a16d5cb",
   "metadata": {},
   "outputs": [],
   "source": [
    "set.seed(1234)"
   ]
  },
  {
   "cell_type": "code",
   "execution_count": 77,
   "id": "508da12b-0c15-491f-92a2-c94fde732895",
   "metadata": {},
   "outputs": [],
   "source": [
    "expr3 = expr"
   ]
  },
  {
   "cell_type": "code",
   "execution_count": 78,
   "id": "722325c8-b550-4783-bf63-71090340ace3",
   "metadata": {},
   "outputs": [],
   "source": [
    "expr3[expr3$Group =='MDD',]$Group<-1"
   ]
  },
  {
   "cell_type": "code",
   "execution_count": 79,
   "id": "9e04abf2-3a9e-4c50-9d86-58a7cd6f7342",
   "metadata": {},
   "outputs": [],
   "source": [
    "\n",
    "expr3[expr3$Group =='Control',]$Group<-0\n",
    "expr3$Group = as.numeric(expr3$Group)"
   ]
  },
  {
   "cell_type": "code",
   "execution_count": 80,
   "id": "39dbbffe-4e12-4153-84d6-b593c552049f",
   "metadata": {},
   "outputs": [
    {
     "data": {
      "text/plain": [
       "Type\n",
       "Control     MDD \n",
       "    175      76 "
      ]
     },
     "metadata": {},
     "output_type": "display_data"
    }
   ],
   "source": [
    "table(Type)"
   ]
  },
  {
   "cell_type": "code",
   "execution_count": null,
   "id": "d8c96c88-9216-46eb-a181-e851e4df2f7f",
   "metadata": {},
   "outputs": [],
   "source": []
  },
  {
   "cell_type": "code",
   "execution_count": null,
   "id": "9925ef68-8951-4a60-8f7a-fafbbdb64927",
   "metadata": {},
   "outputs": [],
   "source": []
  },
  {
   "cell_type": "code",
   "execution_count": 81,
   "id": "9c3b879f-1b40-45f7-9aaa-f1909ee6aaf3",
   "metadata": {},
   "outputs": [
    {
     "name": "stderr",
     "output_type": "stream",
     "text": [
      "Warning message:\n",
      "\"\u001b[1m\u001b[22mUsing an external vector in selections was deprecated in tidyselect 1.1.0.\n",
      "\u001b[36mi\u001b[39m Please use `all_of()` or `any_of()` instead.\n",
      "  # Was:\n",
      "  data %>% select(model.gene)\n",
      "\n",
      "  # Now:\n",
      "  data %>% select(all_of(model.gene))\n",
      "\n",
      "See <https://tidyselect.r-lib.org/reference/faq-external-vector.html>.\"\n"
     ]
    }
   ],
   "source": [
    "expr4 = expr3 %>% dplyr::select(c(Group,model.gene))"
   ]
  },
  {
   "cell_type": "code",
   "execution_count": 82,
   "id": "5ef5cfa5-901b-4e64-9f10-8775cc89fce8",
   "metadata": {},
   "outputs": [
    {
     "data": {
      "text/html": [
       "<style>\n",
       ".list-inline {list-style: none; margin:0; padding: 0}\n",
       ".list-inline>li {display: inline-block}\n",
       ".list-inline>li:not(:last-child)::after {content: \"\\00b7\"; padding: 0 .5ex}\n",
       "</style>\n",
       "<ol class=list-inline><li>251</li><li>14</li></ol>\n"
      ],
      "text/latex": [
       "\\begin{enumerate*}\n",
       "\\item 251\n",
       "\\item 14\n",
       "\\end{enumerate*}\n"
      ],
      "text/markdown": [
       "1. 251\n",
       "2. 14\n",
       "\n",
       "\n"
      ],
      "text/plain": [
       "[1] 251  14"
      ]
     },
     "metadata": {},
     "output_type": "display_data"
    }
   ],
   "source": [
    "dim(expr4)"
   ]
  },
  {
   "cell_type": "code",
   "execution_count": 83,
   "id": "a68de7ce-0c16-4db1-93f7-8e4f510f9fa4",
   "metadata": {},
   "outputs": [
    {
     "data": {
      "text/html": [
       "<table class=\"dataframe\">\n",
       "<caption>A data.frame: 7 x 14</caption>\n",
       "<thead>\n",
       "\t<tr><th></th><th scope=col>Group</th><th scope=col>BAIAP3</th><th scope=col>PIM2</th><th scope=col>CYB561</th><th scope=col>ERCC1</th><th scope=col>NIPSNAP1</th><th scope=col>PID1</th><th scope=col>PRSS3</th><th scope=col>REPS2</th><th scope=col>CALB2</th><th scope=col>PPIE</th><th scope=col>TBC1D9</th><th scope=col>AKAP12</th><th scope=col>STMN4</th></tr>\n",
       "\t<tr><th></th><th scope=col>&lt;dbl&gt;</th><th scope=col>&lt;dbl&gt;</th><th scope=col>&lt;dbl&gt;</th><th scope=col>&lt;dbl&gt;</th><th scope=col>&lt;dbl&gt;</th><th scope=col>&lt;dbl&gt;</th><th scope=col>&lt;dbl&gt;</th><th scope=col>&lt;dbl&gt;</th><th scope=col>&lt;dbl&gt;</th><th scope=col>&lt;dbl&gt;</th><th scope=col>&lt;dbl&gt;</th><th scope=col>&lt;dbl&gt;</th><th scope=col>&lt;dbl&gt;</th><th scope=col>&lt;dbl&gt;</th></tr>\n",
       "</thead>\n",
       "<tbody>\n",
       "\t<tr><th scope=row>GSM2431721</th><td>0</td><td>6.863213</td><td>7.588483</td><td>6.872094</td><td>7.778981</td><td>8.792379</td><td>6.073907</td><td>7.752138</td><td>5.751384</td><td>7.078258</td><td>5.822218</td><td>7.972278</td><td>8.500833</td><td>8.674346</td></tr>\n",
       "\t<tr><th scope=row>GSM2431722</th><td>0</td><td>7.550737</td><td>7.978999</td><td>7.432490</td><td>7.664906</td><td>8.616012</td><td>6.586255</td><td>7.895105</td><td>6.206820</td><td>6.639872</td><td>6.090770</td><td>7.892465</td><td>9.170135</td><td>9.956186</td></tr>\n",
       "\t<tr><th scope=row>GSM2431723</th><td>0</td><td>8.075324</td><td>7.525003</td><td>6.816240</td><td>7.459427</td><td>8.621639</td><td>6.213135</td><td>7.105839</td><td>5.841415</td><td>6.994082</td><td>6.062111</td><td>7.283479</td><td>8.931642</td><td>9.196385</td></tr>\n",
       "\t<tr><th scope=row>GSM2431726</th><td>0</td><td>6.961966</td><td>7.762745</td><td>6.775769</td><td>7.827708</td><td>8.584055</td><td>5.802464</td><td>7.969423</td><td>5.895241</td><td>6.799332</td><td>5.799366</td><td>6.906822</td><td>8.215576</td><td>7.938526</td></tr>\n",
       "\t<tr><th scope=row>GSM2431727</th><td>0</td><td>8.078242</td><td>7.608265</td><td>7.077335</td><td>7.932656</td><td>9.220082</td><td>6.299679</td><td>7.868202</td><td>5.752709</td><td>6.958070</td><td>6.421781</td><td>7.842674</td><td>9.058458</td><td>9.446062</td></tr>\n",
       "\t<tr><th scope=row>GSM2431728</th><td>1</td><td>8.105647</td><td>7.950218</td><td>7.159312</td><td>7.883835</td><td>9.038041</td><td>6.946103</td><td>8.225899</td><td>6.188171</td><td>6.884759</td><td>6.258949</td><td>8.133748</td><td>9.164671</td><td>9.478361</td></tr>\n",
       "\t<tr><th scope=row>GSM2431731</th><td>1</td><td>7.706888</td><td>7.015011</td><td>6.973399</td><td>7.549351</td><td>8.525040</td><td>6.849141</td><td>7.462840</td><td>5.740495</td><td>6.545765</td><td>6.082287</td><td>8.032900</td><td>9.372205</td><td>9.394061</td></tr>\n",
       "</tbody>\n",
       "</table>\n"
      ],
      "text/latex": [
       "A data.frame: 7 x 14\n",
       "\\begin{tabular}{r|llllllllllllll}\n",
       "  & Group & BAIAP3 & PIM2 & CYB561 & ERCC1 & NIPSNAP1 & PID1 & PRSS3 & REPS2 & CALB2 & PPIE & TBC1D9 & AKAP12 & STMN4\\\\\n",
       "  & <dbl> & <dbl> & <dbl> & <dbl> & <dbl> & <dbl> & <dbl> & <dbl> & <dbl> & <dbl> & <dbl> & <dbl> & <dbl> & <dbl>\\\\\n",
       "\\hline\n",
       "\tGSM2431721 & 0 & 6.863213 & 7.588483 & 6.872094 & 7.778981 & 8.792379 & 6.073907 & 7.752138 & 5.751384 & 7.078258 & 5.822218 & 7.972278 & 8.500833 & 8.674346\\\\\n",
       "\tGSM2431722 & 0 & 7.550737 & 7.978999 & 7.432490 & 7.664906 & 8.616012 & 6.586255 & 7.895105 & 6.206820 & 6.639872 & 6.090770 & 7.892465 & 9.170135 & 9.956186\\\\\n",
       "\tGSM2431723 & 0 & 8.075324 & 7.525003 & 6.816240 & 7.459427 & 8.621639 & 6.213135 & 7.105839 & 5.841415 & 6.994082 & 6.062111 & 7.283479 & 8.931642 & 9.196385\\\\\n",
       "\tGSM2431726 & 0 & 6.961966 & 7.762745 & 6.775769 & 7.827708 & 8.584055 & 5.802464 & 7.969423 & 5.895241 & 6.799332 & 5.799366 & 6.906822 & 8.215576 & 7.938526\\\\\n",
       "\tGSM2431727 & 0 & 8.078242 & 7.608265 & 7.077335 & 7.932656 & 9.220082 & 6.299679 & 7.868202 & 5.752709 & 6.958070 & 6.421781 & 7.842674 & 9.058458 & 9.446062\\\\\n",
       "\tGSM2431728 & 1 & 8.105647 & 7.950218 & 7.159312 & 7.883835 & 9.038041 & 6.946103 & 8.225899 & 6.188171 & 6.884759 & 6.258949 & 8.133748 & 9.164671 & 9.478361\\\\\n",
       "\tGSM2431731 & 1 & 7.706888 & 7.015011 & 6.973399 & 7.549351 & 8.525040 & 6.849141 & 7.462840 & 5.740495 & 6.545765 & 6.082287 & 8.032900 & 9.372205 & 9.394061\\\\\n",
       "\\end{tabular}\n"
      ],
      "text/markdown": [
       "\n",
       "A data.frame: 7 x 14\n",
       "\n",
       "| <!--/--> | Group &lt;dbl&gt; | BAIAP3 &lt;dbl&gt; | PIM2 &lt;dbl&gt; | CYB561 &lt;dbl&gt; | ERCC1 &lt;dbl&gt; | NIPSNAP1 &lt;dbl&gt; | PID1 &lt;dbl&gt; | PRSS3 &lt;dbl&gt; | REPS2 &lt;dbl&gt; | CALB2 &lt;dbl&gt; | PPIE &lt;dbl&gt; | TBC1D9 &lt;dbl&gt; | AKAP12 &lt;dbl&gt; | STMN4 &lt;dbl&gt; |\n",
       "|---|---|---|---|---|---|---|---|---|---|---|---|---|---|---|\n",
       "| GSM2431721 | 0 | 6.863213 | 7.588483 | 6.872094 | 7.778981 | 8.792379 | 6.073907 | 7.752138 | 5.751384 | 7.078258 | 5.822218 | 7.972278 | 8.500833 | 8.674346 |\n",
       "| GSM2431722 | 0 | 7.550737 | 7.978999 | 7.432490 | 7.664906 | 8.616012 | 6.586255 | 7.895105 | 6.206820 | 6.639872 | 6.090770 | 7.892465 | 9.170135 | 9.956186 |\n",
       "| GSM2431723 | 0 | 8.075324 | 7.525003 | 6.816240 | 7.459427 | 8.621639 | 6.213135 | 7.105839 | 5.841415 | 6.994082 | 6.062111 | 7.283479 | 8.931642 | 9.196385 |\n",
       "| GSM2431726 | 0 | 6.961966 | 7.762745 | 6.775769 | 7.827708 | 8.584055 | 5.802464 | 7.969423 | 5.895241 | 6.799332 | 5.799366 | 6.906822 | 8.215576 | 7.938526 |\n",
       "| GSM2431727 | 0 | 8.078242 | 7.608265 | 7.077335 | 7.932656 | 9.220082 | 6.299679 | 7.868202 | 5.752709 | 6.958070 | 6.421781 | 7.842674 | 9.058458 | 9.446062 |\n",
       "| GSM2431728 | 1 | 8.105647 | 7.950218 | 7.159312 | 7.883835 | 9.038041 | 6.946103 | 8.225899 | 6.188171 | 6.884759 | 6.258949 | 8.133748 | 9.164671 | 9.478361 |\n",
       "| GSM2431731 | 1 | 7.706888 | 7.015011 | 6.973399 | 7.549351 | 8.525040 | 6.849141 | 7.462840 | 5.740495 | 6.545765 | 6.082287 | 8.032900 | 9.372205 | 9.394061 |\n",
       "\n"
      ],
      "text/plain": [
       "           Group BAIAP3   PIM2     CYB561   ERCC1    NIPSNAP1 PID1     PRSS3   \n",
       "GSM2431721 0     6.863213 7.588483 6.872094 7.778981 8.792379 6.073907 7.752138\n",
       "GSM2431722 0     7.550737 7.978999 7.432490 7.664906 8.616012 6.586255 7.895105\n",
       "GSM2431723 0     8.075324 7.525003 6.816240 7.459427 8.621639 6.213135 7.105839\n",
       "GSM2431726 0     6.961966 7.762745 6.775769 7.827708 8.584055 5.802464 7.969423\n",
       "GSM2431727 0     8.078242 7.608265 7.077335 7.932656 9.220082 6.299679 7.868202\n",
       "GSM2431728 1     8.105647 7.950218 7.159312 7.883835 9.038041 6.946103 8.225899\n",
       "GSM2431731 1     7.706888 7.015011 6.973399 7.549351 8.525040 6.849141 7.462840\n",
       "           REPS2    CALB2    PPIE     TBC1D9   AKAP12   STMN4   \n",
       "GSM2431721 5.751384 7.078258 5.822218 7.972278 8.500833 8.674346\n",
       "GSM2431722 6.206820 6.639872 6.090770 7.892465 9.170135 9.956186\n",
       "GSM2431723 5.841415 6.994082 6.062111 7.283479 8.931642 9.196385\n",
       "GSM2431726 5.895241 6.799332 5.799366 6.906822 8.215576 7.938526\n",
       "GSM2431727 5.752709 6.958070 6.421781 7.842674 9.058458 9.446062\n",
       "GSM2431728 6.188171 6.884759 6.258949 8.133748 9.164671 9.478361\n",
       "GSM2431731 5.740495 6.545765 6.082287 8.032900 9.372205 9.394061"
      ]
     },
     "metadata": {},
     "output_type": "display_data"
    }
   ],
   "source": [
    "head(expr4,7)"
   ]
  },
  {
   "cell_type": "code",
   "execution_count": null,
   "id": "e2e7ce20-d35b-42bb-bfe3-12b984c15ecb",
   "metadata": {},
   "outputs": [],
   "source": []
  },
  {
   "cell_type": "code",
   "execution_count": 84,
   "id": "50cc8b04-2d6a-4b38-906a-64735c1fdf08",
   "metadata": {},
   "outputs": [],
   "source": [
    "# library(caret)\n",
    "# library(ggplot2)\n",
    "\n",
    "#  a = c()\n",
    "# # \n",
    "# for (i in model.gene){\n",
    "#     res<-pROC::roc(Group~expr4[,i],data=expr4,aur=TRUE,\n",
    "#          ci=TRUE, # 显示95%CI\n",
    "#          #percent=TRUE, # 是否需要以百分比显示\n",
    "#          smooth=FALSE,# 是否平滑曲线\n",
    "#          levels=c(0,1),direction=\"<\" #设置分组方向\n",
    "#          )\n",
    "#     if (res$auc > 0.5){\n",
    "#         a = append(a,i)\n",
    "#         print(paste0(i,' ',res$auc))\n",
    "#         p = pROC::ggroc(res, color =\"red\",legacy.axes = TRUE)+\n",
    "#   geom_segment(aes(x = 0, xend = 1, y = 0, yend = 1), color=\"darkgrey\", linetype=4)+\n",
    "#   theme_bw() + # 设置背景\n",
    "#   ggtitle(paste0(i,\" ROC Curve\"))+\n",
    "#   theme(plot.title = element_text(hjust = 0.5,size = 16),\n",
    "#         axis.text=element_text(size=12,colour = \"black\"),\n",
    "#         axis.title.x = element_text(size = 14),\n",
    "#         axis.title.y = element_text(size = 14))\n",
    "# p+annotate(\"text\",x=0.75,y=0.25,label=paste(\"AUC = \", round(res$auc,3)))+\n",
    "#   annotate(\"text\",x=0.75,y=0.20,label=paste(\"95%CI: \", round(res$ci[1],3),'-',round(res$ci[3],3)))\n",
    "#     ggsave(file = paste0(i,'.ROC.pdf'))\n",
    "# }else{\n",
    "        \n",
    "# }\n",
    "\n",
    "    \n",
    "#     }"
   ]
  },
  {
   "cell_type": "markdown",
   "id": "d157d346-4a53-4133-b0d2-f2a92aea9d56",
   "metadata": {},
   "source": [
    "### 批量单因素逻辑回归"
   ]
  },
  {
   "cell_type": "code",
   "execution_count": 85,
   "id": "8ed43a61-fbbe-4a82-86b6-ecf83f9d4593",
   "metadata": {},
   "outputs": [],
   "source": [
    "#expr4 = expr3"
   ]
  },
  {
   "cell_type": "code",
   "execution_count": 86,
   "id": "a23c8a73-db72-44e0-a250-324f8eb46241",
   "metadata": {},
   "outputs": [
    {
     "name": "stderr",
     "output_type": "stream",
     "text": [
      "------------------------------------------------------------------------------\n",
      "\n",
      "You have loaded plyr after dplyr - this is likely to cause problems.\n",
      "If you need functions from both plyr and dplyr, please load plyr first, then dplyr:\n",
      "library(plyr); library(dplyr)\n",
      "\n",
      "------------------------------------------------------------------------------\n",
      "\n",
      "\n",
      "Attaching package: 'plyr'\n",
      "\n",
      "\n",
      "The following objects are masked from 'package:dplyr':\n",
      "\n",
      "    arrange, count, desc, failwith, id, mutate, rename, summarise,\n",
      "    summarize\n",
      "\n",
      "\n",
      "Loading required package: Hmisc\n",
      "\n",
      "Warning message:\n",
      "\"package 'Hmisc' was built under R version 4.2.3\"\n",
      "\n",
      "Attaching package: 'Hmisc'\n",
      "\n",
      "\n",
      "The following objects are masked from 'package:plyr':\n",
      "\n",
      "    is.discrete, summarize\n",
      "\n",
      "\n",
      "The following objects are masked from 'package:dplyr':\n",
      "\n",
      "    src, summarize\n",
      "\n",
      "\n",
      "The following objects are masked from 'package:base':\n",
      "\n",
      "    format.pval, units\n",
      "\n",
      "\n",
      "Loading required package: foreign\n",
      "\n",
      "Warning message:\n",
      "\"package 'foreign' was built under R version 4.2.3\"\n",
      "Loading required package: survival\n",
      "\n",
      "Warning message:\n",
      "\"package 'survival' was built under R version 4.2.3\"\n",
      "Loading required package: MASS\n",
      "\n",
      "Warning message:\n",
      "\"package 'MASS' was built under R version 4.2.3\"\n",
      "\n",
      "Attaching package: 'MASS'\n",
      "\n",
      "\n",
      "The following object is masked from 'package:dplyr':\n",
      "\n",
      "    select\n",
      "\n",
      "\n",
      "Loading required package: nnet\n",
      "\n",
      "Warning message:\n",
      "\"package 'nnet' was built under R version 4.2.3\"\n",
      "Registered S3 method overwritten by 'epiDisplay':\n",
      "  method       from\n",
      "  print.lrtest rms \n",
      "\n",
      "\n",
      "Attaching package: 'epiDisplay'\n",
      "\n",
      "\n",
      "The following object is masked from 'package:rms':\n",
      "\n",
      "    lrtest\n",
      "\n",
      "\n",
      "Waiting for profiling to be done...\n",
      "\n",
      "Waiting for profiling to be done...\n",
      "\n",
      "Waiting for profiling to be done...\n",
      "\n",
      "Waiting for profiling to be done...\n",
      "\n",
      "Waiting for profiling to be done...\n",
      "\n",
      "Waiting for profiling to be done...\n",
      "\n",
      "Waiting for profiling to be done...\n",
      "\n",
      "Waiting for profiling to be done...\n",
      "\n",
      "Waiting for profiling to be done...\n",
      "\n",
      "Waiting for profiling to be done...\n",
      "\n",
      "Waiting for profiling to be done...\n",
      "\n",
      "Waiting for profiling to be done...\n",
      "\n",
      "Waiting for profiling to be done...\n",
      "\n"
     ]
    },
    {
     "data": {
      "text/html": [
       "<table class=\"dataframe\">\n",
       "<caption>A data.frame: 13 x 8</caption>\n",
       "<thead>\n",
       "\t<tr><th></th><th scope=col>Estimate</th><th scope=col>Std..Error</th><th scope=col>z.value</th><th scope=col>Pr...z..</th><th scope=col>OR</th><th scope=col>X2.5..</th><th scope=col>X97.5..</th><th scope=col>Characteristics</th></tr>\n",
       "\t<tr><th></th><th scope=col>&lt;dbl&gt;</th><th scope=col>&lt;dbl&gt;</th><th scope=col>&lt;dbl&gt;</th><th scope=col>&lt;dbl&gt;</th><th scope=col>&lt;dbl&gt;</th><th scope=col>&lt;dbl&gt;</th><th scope=col>&lt;dbl&gt;</th><th scope=col>&lt;chr&gt;</th></tr>\n",
       "</thead>\n",
       "<tbody>\n",
       "\t<tr><th scope=row>BAIAP3</th><td>2.1173757</td><td>0.4817660</td><td>4.395030</td><td>1.107576e-05</td><td> 8.309303</td><td>3.339607</td><td>22.206853</td><td>BAIAP3  </td></tr>\n",
       "\t<tr><th scope=row>PIM2</th><td>1.1286176</td><td>0.3594067</td><td>3.140224</td><td>1.688188e-03</td><td> 3.091380</td><td>1.545333</td><td> 6.354154</td><td>PIM2    </td></tr>\n",
       "\t<tr><th scope=row>CYB561</th><td>1.6751983</td><td>0.6393061</td><td>2.620338</td><td>8.784258e-03</td><td> 5.339854</td><td>1.546143</td><td>19.150660</td><td>CYB561  </td></tr>\n",
       "\t<tr><th scope=row>ERCC1</th><td>2.3551297</td><td>0.6860296</td><td>3.432986</td><td>5.969738e-04</td><td>10.539495</td><td>2.853004</td><td>42.449462</td><td>ERCC1   </td></tr>\n",
       "\t<tr><th scope=row>NIPSNAP1</th><td>2.9279697</td><td>0.7258677</td><td>4.033751</td><td>5.489344e-05</td><td>18.689646</td><td>4.693738</td><td>81.504823</td><td>NIPSNAP1</td></tr>\n",
       "\t<tr><th scope=row>PID1</th><td>0.7408530</td><td>0.2470851</td><td>2.998372</td><td>2.714259e-03</td><td> 2.097724</td><td>1.301147</td><td> 3.437307</td><td>PID1    </td></tr>\n",
       "\t<tr><th scope=row>PRSS3</th><td>1.0723466</td><td>0.2770224</td><td>3.870974</td><td>1.084013e-04</td><td> 2.922229</td><td>1.730658</td><td> 5.152145</td><td>PRSS3   </td></tr>\n",
       "\t<tr><th scope=row>REPS2</th><td>1.7233102</td><td>0.5948009</td><td>2.897289</td><td>3.764023e-03</td><td> 5.603045</td><td>1.786119</td><td>18.529846</td><td>REPS2   </td></tr>\n",
       "\t<tr><th scope=row>CALB2</th><td>1.3161144</td><td>0.4220409</td><td>3.118452</td><td>1.818036e-03</td><td> 3.728904</td><td>1.658300</td><td> 8.721296</td><td>CALB2   </td></tr>\n",
       "\t<tr><th scope=row>PPIE</th><td>1.9598145</td><td>0.7035629</td><td>2.785557</td><td>5.343584e-03</td><td> 7.098010</td><td>1.827601</td><td>29.084844</td><td>PPIE    </td></tr>\n",
       "\t<tr><th scope=row>TBC1D9</th><td>1.5283152</td><td>0.4251389</td><td>3.594861</td><td>3.245650e-04</td><td> 4.610403</td><td>2.072740</td><td>11.037911</td><td>TBC1D9  </td></tr>\n",
       "\t<tr><th scope=row>AKAP12</th><td>0.8715603</td><td>0.3098601</td><td>2.812754</td><td>4.911924e-03</td><td> 2.390638</td><td>1.330306</td><td> 4.493666</td><td>AKAP12  </td></tr>\n",
       "\t<tr><th scope=row>STMN4</th><td>0.8912581</td><td>0.3114062</td><td>2.862043</td><td>4.209191e-03</td><td> 2.438195</td><td>1.372248</td><td> 4.666489</td><td>STMN4   </td></tr>\n",
       "</tbody>\n",
       "</table>\n"
      ],
      "text/latex": [
       "A data.frame: 13 x 8\n",
       "\\begin{tabular}{r|llllllll}\n",
       "  & Estimate & Std..Error & z.value & Pr...z.. & OR & X2.5.. & X97.5.. & Characteristics\\\\\n",
       "  & <dbl> & <dbl> & <dbl> & <dbl> & <dbl> & <dbl> & <dbl> & <chr>\\\\\n",
       "\\hline\n",
       "\tBAIAP3 & 2.1173757 & 0.4817660 & 4.395030 & 1.107576e-05 &  8.309303 & 3.339607 & 22.206853 & BAIAP3  \\\\\n",
       "\tPIM2 & 1.1286176 & 0.3594067 & 3.140224 & 1.688188e-03 &  3.091380 & 1.545333 &  6.354154 & PIM2    \\\\\n",
       "\tCYB561 & 1.6751983 & 0.6393061 & 2.620338 & 8.784258e-03 &  5.339854 & 1.546143 & 19.150660 & CYB561  \\\\\n",
       "\tERCC1 & 2.3551297 & 0.6860296 & 3.432986 & 5.969738e-04 & 10.539495 & 2.853004 & 42.449462 & ERCC1   \\\\\n",
       "\tNIPSNAP1 & 2.9279697 & 0.7258677 & 4.033751 & 5.489344e-05 & 18.689646 & 4.693738 & 81.504823 & NIPSNAP1\\\\\n",
       "\tPID1 & 0.7408530 & 0.2470851 & 2.998372 & 2.714259e-03 &  2.097724 & 1.301147 &  3.437307 & PID1    \\\\\n",
       "\tPRSS3 & 1.0723466 & 0.2770224 & 3.870974 & 1.084013e-04 &  2.922229 & 1.730658 &  5.152145 & PRSS3   \\\\\n",
       "\tREPS2 & 1.7233102 & 0.5948009 & 2.897289 & 3.764023e-03 &  5.603045 & 1.786119 & 18.529846 & REPS2   \\\\\n",
       "\tCALB2 & 1.3161144 & 0.4220409 & 3.118452 & 1.818036e-03 &  3.728904 & 1.658300 &  8.721296 & CALB2   \\\\\n",
       "\tPPIE & 1.9598145 & 0.7035629 & 2.785557 & 5.343584e-03 &  7.098010 & 1.827601 & 29.084844 & PPIE    \\\\\n",
       "\tTBC1D9 & 1.5283152 & 0.4251389 & 3.594861 & 3.245650e-04 &  4.610403 & 2.072740 & 11.037911 & TBC1D9  \\\\\n",
       "\tAKAP12 & 0.8715603 & 0.3098601 & 2.812754 & 4.911924e-03 &  2.390638 & 1.330306 &  4.493666 & AKAP12  \\\\\n",
       "\tSTMN4 & 0.8912581 & 0.3114062 & 2.862043 & 4.209191e-03 &  2.438195 & 1.372248 &  4.666489 & STMN4   \\\\\n",
       "\\end{tabular}\n"
      ],
      "text/markdown": [
       "\n",
       "A data.frame: 13 x 8\n",
       "\n",
       "| <!--/--> | Estimate &lt;dbl&gt; | Std..Error &lt;dbl&gt; | z.value &lt;dbl&gt; | Pr...z.. &lt;dbl&gt; | OR &lt;dbl&gt; | X2.5.. &lt;dbl&gt; | X97.5.. &lt;dbl&gt; | Characteristics &lt;chr&gt; |\n",
       "|---|---|---|---|---|---|---|---|---|\n",
       "| BAIAP3 | 2.1173757 | 0.4817660 | 4.395030 | 1.107576e-05 |  8.309303 | 3.339607 | 22.206853 | BAIAP3   |\n",
       "| PIM2 | 1.1286176 | 0.3594067 | 3.140224 | 1.688188e-03 |  3.091380 | 1.545333 |  6.354154 | PIM2     |\n",
       "| CYB561 | 1.6751983 | 0.6393061 | 2.620338 | 8.784258e-03 |  5.339854 | 1.546143 | 19.150660 | CYB561   |\n",
       "| ERCC1 | 2.3551297 | 0.6860296 | 3.432986 | 5.969738e-04 | 10.539495 | 2.853004 | 42.449462 | ERCC1    |\n",
       "| NIPSNAP1 | 2.9279697 | 0.7258677 | 4.033751 | 5.489344e-05 | 18.689646 | 4.693738 | 81.504823 | NIPSNAP1 |\n",
       "| PID1 | 0.7408530 | 0.2470851 | 2.998372 | 2.714259e-03 |  2.097724 | 1.301147 |  3.437307 | PID1     |\n",
       "| PRSS3 | 1.0723466 | 0.2770224 | 3.870974 | 1.084013e-04 |  2.922229 | 1.730658 |  5.152145 | PRSS3    |\n",
       "| REPS2 | 1.7233102 | 0.5948009 | 2.897289 | 3.764023e-03 |  5.603045 | 1.786119 | 18.529846 | REPS2    |\n",
       "| CALB2 | 1.3161144 | 0.4220409 | 3.118452 | 1.818036e-03 |  3.728904 | 1.658300 |  8.721296 | CALB2    |\n",
       "| PPIE | 1.9598145 | 0.7035629 | 2.785557 | 5.343584e-03 |  7.098010 | 1.827601 | 29.084844 | PPIE     |\n",
       "| TBC1D9 | 1.5283152 | 0.4251389 | 3.594861 | 3.245650e-04 |  4.610403 | 2.072740 | 11.037911 | TBC1D9   |\n",
       "| AKAP12 | 0.8715603 | 0.3098601 | 2.812754 | 4.911924e-03 |  2.390638 | 1.330306 |  4.493666 | AKAP12   |\n",
       "| STMN4 | 0.8912581 | 0.3114062 | 2.862043 | 4.209191e-03 |  2.438195 | 1.372248 |  4.666489 | STMN4    |\n",
       "\n"
      ],
      "text/plain": [
       "         Estimate  Std..Error z.value  Pr...z..     OR        X2.5..  \n",
       "BAIAP3   2.1173757 0.4817660  4.395030 1.107576e-05  8.309303 3.339607\n",
       "PIM2     1.1286176 0.3594067  3.140224 1.688188e-03  3.091380 1.545333\n",
       "CYB561   1.6751983 0.6393061  2.620338 8.784258e-03  5.339854 1.546143\n",
       "ERCC1    2.3551297 0.6860296  3.432986 5.969738e-04 10.539495 2.853004\n",
       "NIPSNAP1 2.9279697 0.7258677  4.033751 5.489344e-05 18.689646 4.693738\n",
       "PID1     0.7408530 0.2470851  2.998372 2.714259e-03  2.097724 1.301147\n",
       "PRSS3    1.0723466 0.2770224  3.870974 1.084013e-04  2.922229 1.730658\n",
       "REPS2    1.7233102 0.5948009  2.897289 3.764023e-03  5.603045 1.786119\n",
       "CALB2    1.3161144 0.4220409  3.118452 1.818036e-03  3.728904 1.658300\n",
       "PPIE     1.9598145 0.7035629  2.785557 5.343584e-03  7.098010 1.827601\n",
       "TBC1D9   1.5283152 0.4251389  3.594861 3.245650e-04  4.610403 2.072740\n",
       "AKAP12   0.8715603 0.3098601  2.812754 4.911924e-03  2.390638 1.330306\n",
       "STMN4    0.8912581 0.3114062  2.862043 4.209191e-03  2.438195 1.372248\n",
       "         X97.5..   Characteristics\n",
       "BAIAP3   22.206853 BAIAP3         \n",
       "PIM2      6.354154 PIM2           \n",
       "CYB561   19.150660 CYB561         \n",
       "ERCC1    42.449462 ERCC1          \n",
       "NIPSNAP1 81.504823 NIPSNAP1       \n",
       "PID1      3.437307 PID1           \n",
       "PRSS3     5.152145 PRSS3          \n",
       "REPS2    18.529846 REPS2          \n",
       "CALB2     8.721296 CALB2          \n",
       "PPIE     29.084844 PPIE           \n",
       "TBC1D9   11.037911 TBC1D9         \n",
       "AKAP12    4.493666 AKAP12         \n",
       "STMN4     4.666489 STMN4          "
      ]
     },
     "metadata": {},
     "output_type": "display_data"
    },
    {
     "data": {
      "text/html": [
       "<table class=\"dataframe\">\n",
       "<caption>A data.frame: 13 x 6</caption>\n",
       "<thead>\n",
       "\t<tr><th></th><th scope=col>Estimate</th><th scope=col>P</th><th scope=col>OR</th><th scope=col>CIlower</th><th scope=col>CIupper</th><th scope=col>Characteristics</th></tr>\n",
       "\t<tr><th></th><th scope=col>&lt;dbl&gt;</th><th scope=col>&lt;dbl&gt;</th><th scope=col>&lt;dbl&gt;</th><th scope=col>&lt;dbl&gt;</th><th scope=col>&lt;dbl&gt;</th><th scope=col>&lt;chr&gt;</th></tr>\n",
       "</thead>\n",
       "<tbody>\n",
       "\t<tr><th scope=row>BAIAP3</th><td>2.1173757</td><td>1.107576e-05</td><td> 8.309303</td><td>3.339607</td><td>22.206853</td><td>BAIAP3  </td></tr>\n",
       "\t<tr><th scope=row>PIM2</th><td>1.1286176</td><td>1.688188e-03</td><td> 3.091380</td><td>1.545333</td><td> 6.354154</td><td>PIM2    </td></tr>\n",
       "\t<tr><th scope=row>CYB561</th><td>1.6751983</td><td>8.784258e-03</td><td> 5.339854</td><td>1.546143</td><td>19.150660</td><td>CYB561  </td></tr>\n",
       "\t<tr><th scope=row>ERCC1</th><td>2.3551297</td><td>5.969738e-04</td><td>10.539495</td><td>2.853004</td><td>42.449462</td><td>ERCC1   </td></tr>\n",
       "\t<tr><th scope=row>NIPSNAP1</th><td>2.9279697</td><td>5.489344e-05</td><td>18.689646</td><td>4.693738</td><td>81.504823</td><td>NIPSNAP1</td></tr>\n",
       "\t<tr><th scope=row>PID1</th><td>0.7408530</td><td>2.714259e-03</td><td> 2.097724</td><td>1.301147</td><td> 3.437307</td><td>PID1    </td></tr>\n",
       "\t<tr><th scope=row>PRSS3</th><td>1.0723466</td><td>1.084013e-04</td><td> 2.922229</td><td>1.730658</td><td> 5.152145</td><td>PRSS3   </td></tr>\n",
       "\t<tr><th scope=row>REPS2</th><td>1.7233102</td><td>3.764023e-03</td><td> 5.603045</td><td>1.786119</td><td>18.529846</td><td>REPS2   </td></tr>\n",
       "\t<tr><th scope=row>CALB2</th><td>1.3161144</td><td>1.818036e-03</td><td> 3.728904</td><td>1.658300</td><td> 8.721296</td><td>CALB2   </td></tr>\n",
       "\t<tr><th scope=row>PPIE</th><td>1.9598145</td><td>5.343584e-03</td><td> 7.098010</td><td>1.827601</td><td>29.084844</td><td>PPIE    </td></tr>\n",
       "\t<tr><th scope=row>TBC1D9</th><td>1.5283152</td><td>3.245650e-04</td><td> 4.610403</td><td>2.072740</td><td>11.037911</td><td>TBC1D9  </td></tr>\n",
       "\t<tr><th scope=row>AKAP12</th><td>0.8715603</td><td>4.911924e-03</td><td> 2.390638</td><td>1.330306</td><td> 4.493666</td><td>AKAP12  </td></tr>\n",
       "\t<tr><th scope=row>STMN4</th><td>0.8912581</td><td>4.209191e-03</td><td> 2.438195</td><td>1.372248</td><td> 4.666489</td><td>STMN4   </td></tr>\n",
       "</tbody>\n",
       "</table>\n"
      ],
      "text/latex": [
       "A data.frame: 13 x 6\n",
       "\\begin{tabular}{r|llllll}\n",
       "  & Estimate & P & OR & CIlower & CIupper & Characteristics\\\\\n",
       "  & <dbl> & <dbl> & <dbl> & <dbl> & <dbl> & <chr>\\\\\n",
       "\\hline\n",
       "\tBAIAP3 & 2.1173757 & 1.107576e-05 &  8.309303 & 3.339607 & 22.206853 & BAIAP3  \\\\\n",
       "\tPIM2 & 1.1286176 & 1.688188e-03 &  3.091380 & 1.545333 &  6.354154 & PIM2    \\\\\n",
       "\tCYB561 & 1.6751983 & 8.784258e-03 &  5.339854 & 1.546143 & 19.150660 & CYB561  \\\\\n",
       "\tERCC1 & 2.3551297 & 5.969738e-04 & 10.539495 & 2.853004 & 42.449462 & ERCC1   \\\\\n",
       "\tNIPSNAP1 & 2.9279697 & 5.489344e-05 & 18.689646 & 4.693738 & 81.504823 & NIPSNAP1\\\\\n",
       "\tPID1 & 0.7408530 & 2.714259e-03 &  2.097724 & 1.301147 &  3.437307 & PID1    \\\\\n",
       "\tPRSS3 & 1.0723466 & 1.084013e-04 &  2.922229 & 1.730658 &  5.152145 & PRSS3   \\\\\n",
       "\tREPS2 & 1.7233102 & 3.764023e-03 &  5.603045 & 1.786119 & 18.529846 & REPS2   \\\\\n",
       "\tCALB2 & 1.3161144 & 1.818036e-03 &  3.728904 & 1.658300 &  8.721296 & CALB2   \\\\\n",
       "\tPPIE & 1.9598145 & 5.343584e-03 &  7.098010 & 1.827601 & 29.084844 & PPIE    \\\\\n",
       "\tTBC1D9 & 1.5283152 & 3.245650e-04 &  4.610403 & 2.072740 & 11.037911 & TBC1D9  \\\\\n",
       "\tAKAP12 & 0.8715603 & 4.911924e-03 &  2.390638 & 1.330306 &  4.493666 & AKAP12  \\\\\n",
       "\tSTMN4 & 0.8912581 & 4.209191e-03 &  2.438195 & 1.372248 &  4.666489 & STMN4   \\\\\n",
       "\\end{tabular}\n"
      ],
      "text/markdown": [
       "\n",
       "A data.frame: 13 x 6\n",
       "\n",
       "| <!--/--> | Estimate &lt;dbl&gt; | P &lt;dbl&gt; | OR &lt;dbl&gt; | CIlower &lt;dbl&gt; | CIupper &lt;dbl&gt; | Characteristics &lt;chr&gt; |\n",
       "|---|---|---|---|---|---|---|\n",
       "| BAIAP3 | 2.1173757 | 1.107576e-05 |  8.309303 | 3.339607 | 22.206853 | BAIAP3   |\n",
       "| PIM2 | 1.1286176 | 1.688188e-03 |  3.091380 | 1.545333 |  6.354154 | PIM2     |\n",
       "| CYB561 | 1.6751983 | 8.784258e-03 |  5.339854 | 1.546143 | 19.150660 | CYB561   |\n",
       "| ERCC1 | 2.3551297 | 5.969738e-04 | 10.539495 | 2.853004 | 42.449462 | ERCC1    |\n",
       "| NIPSNAP1 | 2.9279697 | 5.489344e-05 | 18.689646 | 4.693738 | 81.504823 | NIPSNAP1 |\n",
       "| PID1 | 0.7408530 | 2.714259e-03 |  2.097724 | 1.301147 |  3.437307 | PID1     |\n",
       "| PRSS3 | 1.0723466 | 1.084013e-04 |  2.922229 | 1.730658 |  5.152145 | PRSS3    |\n",
       "| REPS2 | 1.7233102 | 3.764023e-03 |  5.603045 | 1.786119 | 18.529846 | REPS2    |\n",
       "| CALB2 | 1.3161144 | 1.818036e-03 |  3.728904 | 1.658300 |  8.721296 | CALB2    |\n",
       "| PPIE | 1.9598145 | 5.343584e-03 |  7.098010 | 1.827601 | 29.084844 | PPIE     |\n",
       "| TBC1D9 | 1.5283152 | 3.245650e-04 |  4.610403 | 2.072740 | 11.037911 | TBC1D9   |\n",
       "| AKAP12 | 0.8715603 | 4.911924e-03 |  2.390638 | 1.330306 |  4.493666 | AKAP12   |\n",
       "| STMN4 | 0.8912581 | 4.209191e-03 |  2.438195 | 1.372248 |  4.666489 | STMN4    |\n",
       "\n"
      ],
      "text/plain": [
       "         Estimate  P            OR        CIlower  CIupper   Characteristics\n",
       "BAIAP3   2.1173757 1.107576e-05  8.309303 3.339607 22.206853 BAIAP3         \n",
       "PIM2     1.1286176 1.688188e-03  3.091380 1.545333  6.354154 PIM2           \n",
       "CYB561   1.6751983 8.784258e-03  5.339854 1.546143 19.150660 CYB561         \n",
       "ERCC1    2.3551297 5.969738e-04 10.539495 2.853004 42.449462 ERCC1          \n",
       "NIPSNAP1 2.9279697 5.489344e-05 18.689646 4.693738 81.504823 NIPSNAP1       \n",
       "PID1     0.7408530 2.714259e-03  2.097724 1.301147  3.437307 PID1           \n",
       "PRSS3    1.0723466 1.084013e-04  2.922229 1.730658  5.152145 PRSS3          \n",
       "REPS2    1.7233102 3.764023e-03  5.603045 1.786119 18.529846 REPS2          \n",
       "CALB2    1.3161144 1.818036e-03  3.728904 1.658300  8.721296 CALB2          \n",
       "PPIE     1.9598145 5.343584e-03  7.098010 1.827601 29.084844 PPIE           \n",
       "TBC1D9   1.5283152 3.245650e-04  4.610403 2.072740 11.037911 TBC1D9         \n",
       "AKAP12   0.8715603 4.911924e-03  2.390638 1.330306  4.493666 AKAP12         \n",
       "STMN4    0.8912581 4.209191e-03  2.438195 1.372248  4.666489 STMN4          "
      ]
     },
     "metadata": {},
     "output_type": "display_data"
    },
    {
     "data": {
      "text/html": [
       "<style>\n",
       ".list-inline {list-style: none; margin:0; padding: 0}\n",
       ".list-inline>li {display: inline-block}\n",
       ".list-inline>li:not(:last-child)::after {content: \"\\00b7\"; padding: 0 .5ex}\n",
       "</style>\n",
       "<ol class=list-inline><li>'BAIAP3'</li><li>'PIM2'</li><li>'CYB561'</li><li>'ERCC1'</li><li>'NIPSNAP1'</li><li>'PID1'</li><li>'PRSS3'</li><li>'REPS2'</li><li>'CALB2'</li><li>'PPIE'</li><li>'TBC1D9'</li><li>'AKAP12'</li><li>'STMN4'</li></ol>\n"
      ],
      "text/latex": [
       "\\begin{enumerate*}\n",
       "\\item 'BAIAP3'\n",
       "\\item 'PIM2'\n",
       "\\item 'CYB561'\n",
       "\\item 'ERCC1'\n",
       "\\item 'NIPSNAP1'\n",
       "\\item 'PID1'\n",
       "\\item 'PRSS3'\n",
       "\\item 'REPS2'\n",
       "\\item 'CALB2'\n",
       "\\item 'PPIE'\n",
       "\\item 'TBC1D9'\n",
       "\\item 'AKAP12'\n",
       "\\item 'STMN4'\n",
       "\\end{enumerate*}\n"
      ],
      "text/markdown": [
       "1. 'BAIAP3'\n",
       "2. 'PIM2'\n",
       "3. 'CYB561'\n",
       "4. 'ERCC1'\n",
       "5. 'NIPSNAP1'\n",
       "6. 'PID1'\n",
       "7. 'PRSS3'\n",
       "8. 'REPS2'\n",
       "9. 'CALB2'\n",
       "10. 'PPIE'\n",
       "11. 'TBC1D9'\n",
       "12. 'AKAP12'\n",
       "13. 'STMN4'\n",
       "\n",
       "\n"
      ],
      "text/plain": [
       " [1] \"BAIAP3\"   \"PIM2\"     \"CYB561\"   \"ERCC1\"    \"NIPSNAP1\" \"PID1\"    \n",
       " [7] \"PRSS3\"    \"REPS2\"    \"CALB2\"    \"PPIE\"     \"TBC1D9\"   \"AKAP12\"  \n",
       "[13] \"STMN4\"   "
      ]
     },
     "metadata": {},
     "output_type": "display_data"
    }
   ],
   "source": [
    "#结果合并需要的包\n",
    "library(plyr)\n",
    "#可进行logistic回归的包\n",
    "library(rms)#可实现逻辑回归模型（lrm）\n",
    "library(epiDisplay)#快速输出OR、95%CI、P\n",
    "#library(gtsummary)#精美三线表（但，95%CI有误）\n",
    "\n",
    "varsU<-names(expr4[,2:dim(expr4)[2]])\n",
    "\n",
    "Result<-c()\n",
    "for (i in 1:length(varsU)){\n",
    "  fit<-glm(substitute(Group~x,list(x=as.name(varsU[i]))),data=expr4,family=binomial())\n",
    "  fitSum<-summary(fit)\n",
    "  result1<-c()\n",
    "  result1<-rbind(result1,fitSum$coef)\n",
    "  OR<-exp(fitSum$coef[,'Estimate'])\n",
    "  result1<-data.frame(cbind(result1,cbind(OR,exp(confint(fit)))))\n",
    "  result1$Characteristics<-varsU[i]   #添加变量名\n",
    "  Result<-rbind(Result,result1[-1,])#[-1,],删除常数项\n",
    "}\n",
    "\n",
    "Result\n",
    "\n",
    "Uni_log<-data.frame(Result[,c(1,4:8)]) #提取\"P\",\"OR\",\"CIlower\",\"CIupper\"和变量名\n",
    "\n",
    "colnames(Uni_log)[2:5]<-c(\"P\",\"OR\",\"CIlower\",\"CIupper\")#变量重命名\n",
    "\n",
    "ExtractVar<-unique(Uni_log$Characteristics[Uni_log$\"P\"<0.05]) \n",
    "\n",
    "tzgene = Uni_log %>% dplyr::filter(P < 0.05) %>% rownames()\n",
    "\n",
    "Uni_log[tzgene,]\n",
    "\n",
    "### 多因素分析\n",
    "\n",
    "tzgene\n",
    "\n",
    "data = expr4[,c('Group',tzgene)]"
   ]
  },
  {
   "cell_type": "code",
   "execution_count": 87,
   "id": "d09d5fb1-b54b-4f0a-a8ad-19c4fa653d37",
   "metadata": {},
   "outputs": [
    {
     "data": {
      "text/plain": [
       "\n",
       "Call:\n",
       "glm(formula = Group ~ ., family = binomial(), data = data)\n",
       "\n",
       "Deviance Residuals: \n",
       "    Min       1Q   Median       3Q      Max  \n",
       "-1.9386  -0.7779  -0.4773   0.8492   2.6441  \n",
       "\n",
       "Coefficients:\n",
       "             Estimate Std. Error z value Pr(>|z|)    \n",
       "(Intercept) -63.21755   12.41769  -5.091 3.56e-07 ***\n",
       "BAIAP3        1.62753    0.59997   2.713  0.00667 ** \n",
       "PIM2          1.22002    0.64539   1.890  0.05871 .  \n",
       "CYB561        1.30245    0.98142   1.327  0.18448    \n",
       "ERCC1         0.63504    0.96503   0.658  0.51051    \n",
       "NIPSNAP1     -0.40165    1.10680  -0.363  0.71668    \n",
       "PID1          0.08604    0.53980   0.159  0.87336    \n",
       "PRSS3         0.49828    0.38273   1.302  0.19294    \n",
       "REPS2         0.96474    0.93002   1.037  0.29958    \n",
       "CALB2         0.38545    0.60991   0.632  0.52740    \n",
       "PPIE          0.77271    1.05292   0.734  0.46302    \n",
       "TBC1D9        0.37101    0.89015   0.417  0.67682    \n",
       "AKAP12        0.46504    0.59466   0.782  0.43420    \n",
       "STMN4         0.54018    0.50674   1.066  0.28643    \n",
       "---\n",
       "Signif. codes:  0 '***' 0.001 '**' 0.01 '*' 0.05 '.' 0.1 ' ' 1\n",
       "\n",
       "(Dispersion parameter for binomial family taken to be 1)\n",
       "\n",
       "    Null deviance: 307.83  on 250  degrees of freedom\n",
       "Residual deviance: 246.94  on 237  degrees of freedom\n",
       "AIC: 274.94\n",
       "\n",
       "Number of Fisher Scoring iterations: 5\n"
      ]
     },
     "metadata": {},
     "output_type": "display_data"
    },
    {
     "name": "stderr",
     "output_type": "stream",
     "text": [
      "Waiting for profiling to be done...\n",
      "\n"
     ]
    },
    {
     "data": {
      "text/html": [
       "<table class=\"dataframe\">\n",
       "<caption>A data.frame: 14 x 4</caption>\n",
       "<thead>\n",
       "\t<tr><th></th><th scope=col>B</th><th scope=col>Wald</th><th scope=col>OR_with_CI</th><th scope=col>P</th></tr>\n",
       "\t<tr><th></th><th scope=col>&lt;dbl&gt;</th><th scope=col>&lt;dbl&gt;</th><th scope=col>&lt;chr&gt;</th><th scope=col>&lt;chr&gt;</th></tr>\n",
       "</thead>\n",
       "<tbody>\n",
       "\t<tr><th scope=row>(Intercept)</th><td>-63.218</td><td>25.918</td><td><span style=white-space:pre-wrap>0(0~0)             </span></td><td>&lt;0.001</td></tr>\n",
       "\t<tr><th scope=row>BAIAP3</th><td>  1.628</td><td> 7.359</td><td>5.091(1.62~17.211) </td><td>0.007 </td></tr>\n",
       "\t<tr><th scope=row>PIM2</th><td>  1.220</td><td> 3.573</td><td>3.387(0.969~12.34) </td><td>0.059 </td></tr>\n",
       "\t<tr><th scope=row>CYB561</th><td>  1.302</td><td> 1.761</td><td>3.678(0.543~25.946)</td><td>0.184 </td></tr>\n",
       "\t<tr><th scope=row>ERCC1</th><td>  0.635</td><td> 0.433</td><td>1.887(0.278~12.552)</td><td>0.511 </td></tr>\n",
       "\t<tr><th scope=row>NIPSNAP1</th><td> -0.402</td><td> 0.132</td><td>0.669(0.075~5.903) </td><td>0.717 </td></tr>\n",
       "\t<tr><th scope=row>PID1</th><td>  0.086</td><td> 0.025</td><td>1.09(0.376~3.153)  </td><td>0.873 </td></tr>\n",
       "\t<tr><th scope=row>PRSS3</th><td>  0.498</td><td> 1.695</td><td>1.646(0.779~3.524) </td><td>0.193 </td></tr>\n",
       "\t<tr><th scope=row>REPS2</th><td>  0.965</td><td> 1.076</td><td>2.624(0.431~16.828)</td><td>0.300 </td></tr>\n",
       "\t<tr><th scope=row>CALB2</th><td>  0.385</td><td> 0.399</td><td>1.47(0.445~4.917)  </td><td>0.527 </td></tr>\n",
       "\t<tr><th scope=row>PPIE</th><td>  0.773</td><td> 0.539</td><td>2.166(0.273~17.387)</td><td>0.463 </td></tr>\n",
       "\t<tr><th scope=row>TBC1D9</th><td>  0.371</td><td> 0.174</td><td>1.449(0.257~8.568) </td><td>0.677 </td></tr>\n",
       "\t<tr><th scope=row>AKAP12</th><td>  0.465</td><td> 0.612</td><td>1.592(0.497~5.18)  </td><td>0.434 </td></tr>\n",
       "\t<tr><th scope=row>STMN4</th><td>  0.540</td><td> 1.136</td><td>1.716(0.646~4.718) </td><td>0.286 </td></tr>\n",
       "</tbody>\n",
       "</table>\n"
      ],
      "text/latex": [
       "A data.frame: 14 x 4\n",
       "\\begin{tabular}{r|llll}\n",
       "  & B & Wald & OR\\_with\\_CI & P\\\\\n",
       "  & <dbl> & <dbl> & <chr> & <chr>\\\\\n",
       "\\hline\n",
       "\t(Intercept) & -63.218 & 25.918 & 0(0\\textasciitilde{}0)              & <0.001\\\\\n",
       "\tBAIAP3 &   1.628 &  7.359 & 5.091(1.62\\textasciitilde{}17.211)  & 0.007 \\\\\n",
       "\tPIM2 &   1.220 &  3.573 & 3.387(0.969\\textasciitilde{}12.34)  & 0.059 \\\\\n",
       "\tCYB561 &   1.302 &  1.761 & 3.678(0.543\\textasciitilde{}25.946) & 0.184 \\\\\n",
       "\tERCC1 &   0.635 &  0.433 & 1.887(0.278\\textasciitilde{}12.552) & 0.511 \\\\\n",
       "\tNIPSNAP1 &  -0.402 &  0.132 & 0.669(0.075\\textasciitilde{}5.903)  & 0.717 \\\\\n",
       "\tPID1 &   0.086 &  0.025 & 1.09(0.376\\textasciitilde{}3.153)   & 0.873 \\\\\n",
       "\tPRSS3 &   0.498 &  1.695 & 1.646(0.779\\textasciitilde{}3.524)  & 0.193 \\\\\n",
       "\tREPS2 &   0.965 &  1.076 & 2.624(0.431\\textasciitilde{}16.828) & 0.300 \\\\\n",
       "\tCALB2 &   0.385 &  0.399 & 1.47(0.445\\textasciitilde{}4.917)   & 0.527 \\\\\n",
       "\tPPIE &   0.773 &  0.539 & 2.166(0.273\\textasciitilde{}17.387) & 0.463 \\\\\n",
       "\tTBC1D9 &   0.371 &  0.174 & 1.449(0.257\\textasciitilde{}8.568)  & 0.677 \\\\\n",
       "\tAKAP12 &   0.465 &  0.612 & 1.592(0.497\\textasciitilde{}5.18)   & 0.434 \\\\\n",
       "\tSTMN4 &   0.540 &  1.136 & 1.716(0.646\\textasciitilde{}4.718)  & 0.286 \\\\\n",
       "\\end{tabular}\n"
      ],
      "text/markdown": [
       "\n",
       "A data.frame: 14 x 4\n",
       "\n",
       "| <!--/--> | B &lt;dbl&gt; | Wald &lt;dbl&gt; | OR_with_CI &lt;chr&gt; | P &lt;chr&gt; |\n",
       "|---|---|---|---|---|\n",
       "| (Intercept) | -63.218 | 25.918 | 0(0~0)              | &lt;0.001 |\n",
       "| BAIAP3 |   1.628 |  7.359 | 5.091(1.62~17.211)  | 0.007  |\n",
       "| PIM2 |   1.220 |  3.573 | 3.387(0.969~12.34)  | 0.059  |\n",
       "| CYB561 |   1.302 |  1.761 | 3.678(0.543~25.946) | 0.184  |\n",
       "| ERCC1 |   0.635 |  0.433 | 1.887(0.278~12.552) | 0.511  |\n",
       "| NIPSNAP1 |  -0.402 |  0.132 | 0.669(0.075~5.903)  | 0.717  |\n",
       "| PID1 |   0.086 |  0.025 | 1.09(0.376~3.153)   | 0.873  |\n",
       "| PRSS3 |   0.498 |  1.695 | 1.646(0.779~3.524)  | 0.193  |\n",
       "| REPS2 |   0.965 |  1.076 | 2.624(0.431~16.828) | 0.300  |\n",
       "| CALB2 |   0.385 |  0.399 | 1.47(0.445~4.917)   | 0.527  |\n",
       "| PPIE |   0.773 |  0.539 | 2.166(0.273~17.387) | 0.463  |\n",
       "| TBC1D9 |   0.371 |  0.174 | 1.449(0.257~8.568)  | 0.677  |\n",
       "| AKAP12 |   0.465 |  0.612 | 1.592(0.497~5.18)   | 0.434  |\n",
       "| STMN4 |   0.540 |  1.136 | 1.716(0.646~4.718)  | 0.286  |\n",
       "\n"
      ],
      "text/plain": [
       "            B       Wald   OR_with_CI          P     \n",
       "(Intercept) -63.218 25.918 0(0~0)              <0.001\n",
       "BAIAP3        1.628  7.359 5.091(1.62~17.211)  0.007 \n",
       "PIM2          1.220  3.573 3.387(0.969~12.34)  0.059 \n",
       "CYB561        1.302  1.761 3.678(0.543~25.946) 0.184 \n",
       "ERCC1         0.635  0.433 1.887(0.278~12.552) 0.511 \n",
       "NIPSNAP1     -0.402  0.132 0.669(0.075~5.903)  0.717 \n",
       "PID1          0.086  0.025 1.09(0.376~3.153)   0.873 \n",
       "PRSS3         0.498  1.695 1.646(0.779~3.524)  0.193 \n",
       "REPS2         0.965  1.076 2.624(0.431~16.828) 0.300 \n",
       "CALB2         0.385  0.399 1.47(0.445~4.917)   0.527 \n",
       "PPIE          0.773  0.539 2.166(0.273~17.387) 0.463 \n",
       "TBC1D9        0.371  0.174 1.449(0.257~8.568)  0.677 \n",
       "AKAP12        0.465  0.612 1.592(0.497~5.18)   0.434 \n",
       "STMN4         0.540  1.136 1.716(0.646~4.718)  0.286 "
      ]
     },
     "metadata": {},
     "output_type": "display_data"
    }
   ],
   "source": [
    "\n",
    "\n",
    "# train_sub = sample(nrow(data),9/10*nrow(data))\n",
    "# train_data = data[train_sub,]\n",
    "# test_data =data[-train_sub,]\n",
    "\n",
    "fit.reduce<-glm(Group~.,data=data,family=binomial())\n",
    "summary(fit.reduce)\n",
    "\n",
    "formatFit<-function(fit){\n",
    "  #取P值\n",
    "  p<-summary(fit)$coefficients[,4]\n",
    "  #wald值\n",
    "  wald<-summary(fit)$coefficients[,3]^2\n",
    "  #B值\n",
    "  valueB<-coef(fit)\n",
    "  #OR值\n",
    "  valueOR<-exp(coef(fit))\n",
    "  #OR值得95%CI\n",
    "  confitOR<-exp(confint(fit))\n",
    "  data.frame(\n",
    "    B=round(valueB,3),\n",
    "    Wald=round(wald,3),\n",
    "    OR_with_CI=paste(round(valueOR,3),\"(\",\n",
    "               round(confitOR[,1],3),\"~\",round(confitOR[,2],3),\")\",sep=\"\"),\n",
    "    P=format.pval(p,digits = 3,eps=0.001)\n",
    "  )\n",
    "}\n",
    "\n",
    "formatFit(fit.reduce)"
   ]
  },
  {
   "cell_type": "code",
   "execution_count": 88,
   "id": "f7da77f0-cf12-41b1-8f5a-0cf327535144",
   "metadata": {},
   "outputs": [
    {
     "data": {
      "text/plain": [
       "\n",
       "Call:\n",
       "glm(formula = Group ~ ., family = binomial(), data = data)\n",
       "\n",
       "Deviance Residuals: \n",
       "    Min       1Q   Median       3Q      Max  \n",
       "-1.9386  -0.7779  -0.4773   0.8492   2.6441  \n",
       "\n",
       "Coefficients:\n",
       "             Estimate Std. Error z value Pr(>|z|)    \n",
       "(Intercept) -63.21755   12.41769  -5.091 3.56e-07 ***\n",
       "BAIAP3        1.62753    0.59997   2.713  0.00667 ** \n",
       "PIM2          1.22002    0.64539   1.890  0.05871 .  \n",
       "CYB561        1.30245    0.98142   1.327  0.18448    \n",
       "ERCC1         0.63504    0.96503   0.658  0.51051    \n",
       "NIPSNAP1     -0.40165    1.10680  -0.363  0.71668    \n",
       "PID1          0.08604    0.53980   0.159  0.87336    \n",
       "PRSS3         0.49828    0.38273   1.302  0.19294    \n",
       "REPS2         0.96474    0.93002   1.037  0.29958    \n",
       "CALB2         0.38545    0.60991   0.632  0.52740    \n",
       "PPIE          0.77271    1.05292   0.734  0.46302    \n",
       "TBC1D9        0.37101    0.89015   0.417  0.67682    \n",
       "AKAP12        0.46504    0.59466   0.782  0.43420    \n",
       "STMN4         0.54018    0.50674   1.066  0.28643    \n",
       "---\n",
       "Signif. codes:  0 '***' 0.001 '**' 0.01 '*' 0.05 '.' 0.1 ' ' 1\n",
       "\n",
       "(Dispersion parameter for binomial family taken to be 1)\n",
       "\n",
       "    Null deviance: 307.83  on 250  degrees of freedom\n",
       "Residual deviance: 246.94  on 237  degrees of freedom\n",
       "AIC: 274.94\n",
       "\n",
       "Number of Fisher Scoring iterations: 5\n"
      ]
     },
     "metadata": {},
     "output_type": "display_data"
    }
   ],
   "source": [
    "fit.reduce<-glm(Group~. ,data=data,family=binomial())\n",
    "summary(fit.reduce)"
   ]
  },
  {
   "cell_type": "code",
   "execution_count": 89,
   "id": "7855c6f4-b5e5-44c4-a920-cd60a46e1c65",
   "metadata": {},
   "outputs": [
    {
     "name": "stdout",
     "output_type": "stream",
     "text": [
      "Start:  AIC=274.94\n",
      "Group ~ BAIAP3 + PIM2 + CYB561 + ERCC1 + NIPSNAP1 + PID1 + PRSS3 + \n",
      "    REPS2 + CALB2 + PPIE + TBC1D9 + AKAP12 + STMN4\n",
      "\n",
      "           Df Deviance    AIC\n",
      "- PID1      1   246.97 272.97\n",
      "- NIPSNAP1  1   247.07 273.07\n",
      "- TBC1D9    1   247.12 273.12\n",
      "- CALB2     1   247.34 273.34\n",
      "- ERCC1     1   247.37 273.37\n",
      "- PPIE      1   247.48 273.48\n",
      "- AKAP12    1   247.56 273.56\n",
      "- REPS2     1   248.03 274.03\n",
      "- STMN4     1   248.10 274.10\n",
      "- PRSS3     1   248.65 274.65\n",
      "- CYB561    1   248.72 274.72\n",
      "<none>          246.94 274.94\n",
      "- PIM2      1   250.59 276.59\n",
      "- BAIAP3    1   254.83 280.83\n",
      "\n",
      "Step:  AIC=272.97\n",
      "Group ~ BAIAP3 + PIM2 + CYB561 + ERCC1 + NIPSNAP1 + PRSS3 + REPS2 + \n",
      "    CALB2 + PPIE + TBC1D9 + AKAP12 + STMN4\n",
      "\n",
      "           Df Deviance    AIC\n",
      "- NIPSNAP1  1   247.15 271.15\n",
      "- TBC1D9    1   247.22 271.22\n",
      "- CALB2     1   247.39 271.39\n",
      "- ERCC1     1   247.49 271.49\n",
      "- PPIE      1   247.65 271.65\n",
      "- AKAP12    1   247.77 271.77\n",
      "- REPS2     1   248.05 272.05\n",
      "- STMN4     1   248.19 272.19\n",
      "- CYB561    1   248.72 272.72\n",
      "- PRSS3     1   248.78 272.79\n",
      "<none>          246.97 272.97\n",
      "- PIM2      1   250.59 274.59\n",
      "+ PID1      1   246.94 274.94\n",
      "- BAIAP3    1   254.86 278.86\n",
      "\n",
      "Step:  AIC=271.15\n",
      "Group ~ BAIAP3 + PIM2 + CYB561 + ERCC1 + PRSS3 + REPS2 + CALB2 + \n",
      "    PPIE + TBC1D9 + AKAP12 + STMN4\n",
      "\n",
      "           Df Deviance    AIC\n",
      "- TBC1D9    1   247.36 269.36\n",
      "- CALB2     1   247.50 269.50\n",
      "- ERCC1     1   247.55 269.55\n",
      "- AKAP12    1   247.96 269.96\n",
      "- PPIE      1   248.20 270.20\n",
      "- STMN4     1   248.20 270.20\n",
      "- REPS2     1   248.24 270.24\n",
      "- PRSS3     1   248.78 270.79\n",
      "- CYB561    1   249.03 271.03\n",
      "<none>          247.15 271.15\n",
      "- PIM2      1   250.59 272.59\n",
      "+ NIPSNAP1  1   246.97 272.97\n",
      "+ PID1      1   247.07 273.07\n",
      "- BAIAP3    1   254.90 276.90\n",
      "\n",
      "Step:  AIC=269.36\n",
      "Group ~ BAIAP3 + PIM2 + CYB561 + ERCC1 + PRSS3 + REPS2 + CALB2 + \n",
      "    PPIE + AKAP12 + STMN4\n",
      "\n",
      "           Df Deviance    AIC\n",
      "- ERCC1     1   247.79 267.79\n",
      "- CALB2     1   247.88 267.88\n",
      "- PPIE      1   248.36 268.36\n",
      "- REPS2     1   248.55 268.55\n",
      "- STMN4     1   248.58 268.58\n",
      "- AKAP12    1   249.23 269.23\n",
      "- PRSS3     1   249.33 269.33\n",
      "<none>          247.36 269.36\n",
      "- CYB561    1   249.83 269.83\n",
      "- PIM2      1   250.61 270.61\n",
      "+ TBC1D9    1   247.15 271.15\n",
      "+ PID1      1   247.19 271.19\n",
      "+ NIPSNAP1  1   247.22 271.22\n",
      "- BAIAP3    1   255.21 275.21\n",
      "\n",
      "Step:  AIC=267.79\n",
      "Group ~ BAIAP3 + PIM2 + CYB561 + PRSS3 + REPS2 + CALB2 + PPIE + \n",
      "    AKAP12 + STMN4\n",
      "\n",
      "           Df Deviance    AIC\n",
      "- CALB2     1   248.61 266.61\n",
      "- STMN4     1   248.94 266.94\n",
      "- REPS2     1   249.01 267.01\n",
      "- PPIE      1   249.08 267.08\n",
      "- AKAP12    1   249.48 267.48\n",
      "<none>          247.79 267.79\n",
      "- PRSS3     1   250.81 268.81\n",
      "- CYB561    1   250.99 268.99\n",
      "- PIM2      1   251.34 269.34\n",
      "+ ERCC1     1   247.36 269.36\n",
      "+ PID1      1   247.53 269.53\n",
      "+ TBC1D9    1   247.55 269.55\n",
      "+ NIPSNAP1  1   247.76 269.76\n",
      "- BAIAP3    1   255.45 273.45\n",
      "\n",
      "Step:  AIC=266.61\n",
      "Group ~ BAIAP3 + PIM2 + CYB561 + PRSS3 + REPS2 + PPIE + AKAP12 + \n",
      "    STMN4\n",
      "\n",
      "           Df Deviance    AIC\n",
      "- STMN4     1   249.51 265.51\n",
      "- REPS2     1   250.01 266.01\n",
      "- PPIE      1   250.56 266.56\n",
      "<none>          248.61 266.61\n",
      "- AKAP12    1   251.00 267.00\n",
      "- PRSS3     1   251.62 267.62\n",
      "+ CALB2     1   247.79 267.79\n",
      "+ ERCC1     1   247.88 267.88\n",
      "+ TBC1D9    1   248.08 268.08\n",
      "+ PID1      1   248.19 268.19\n",
      "- PIM2      1   252.47 268.48\n",
      "+ NIPSNAP1  1   248.60 268.60\n",
      "- CYB561    1   253.83 269.83\n",
      "- BAIAP3    1   255.99 271.99\n",
      "\n",
      "Step:  AIC=265.51\n",
      "Group ~ BAIAP3 + PIM2 + CYB561 + PRSS3 + REPS2 + PPIE + AKAP12\n",
      "\n",
      "           Df Deviance    AIC\n",
      "- REPS2     1   251.19 265.19\n",
      "<none>          249.51 265.51\n",
      "- PPIE      1   251.68 265.68\n",
      "- PRSS3     1   252.07 266.07\n",
      "+ STMN4     1   248.61 266.61\n",
      "+ TBC1D9    1   248.84 266.84\n",
      "+ ERCC1     1   248.92 266.92\n",
      "+ CALB2     1   248.94 266.94\n",
      "+ PID1      1   249.03 267.04\n",
      "- PIM2      1   253.33 267.33\n",
      "+ NIPSNAP1  1   249.42 267.42\n",
      "- AKAP12    1   255.72 269.72\n",
      "- CYB561    1   256.51 270.51\n",
      "- BAIAP3    1   257.19 271.19\n",
      "\n",
      "Step:  AIC=265.19\n",
      "Group ~ BAIAP3 + PIM2 + CYB561 + PRSS3 + PPIE + AKAP12\n",
      "\n",
      "           Df Deviance    AIC\n",
      "- PPIE      1   253.03 265.03\n",
      "<none>          251.19 265.19\n",
      "+ REPS2     1   249.51 265.51\n",
      "+ STMN4     1   250.01 266.01\n",
      "+ TBC1D9    1   250.19 266.19\n",
      "- PRSS3     1   254.32 266.32\n",
      "+ CALB2     1   250.49 266.49\n",
      "+ ERCC1     1   250.56 266.56\n",
      "+ PID1      1   250.67 266.67\n",
      "+ NIPSNAP1  1   251.04 267.04\n",
      "- CYB561    1   257.46 269.46\n",
      "- BAIAP3    1   258.15 270.15\n",
      "- AKAP12    1   258.38 270.38\n",
      "- PIM2      1   263.36 275.36\n",
      "\n",
      "Step:  AIC=265.03\n",
      "Group ~ BAIAP3 + PIM2 + CYB561 + PRSS3 + AKAP12\n",
      "\n",
      "           Df Deviance    AIC\n",
      "<none>          253.03 265.03\n",
      "+ PPIE      1   251.19 265.19\n",
      "+ PID1      1   251.52 265.52\n",
      "+ STMN4     1   251.65 265.65\n",
      "+ REPS2     1   251.68 265.68\n",
      "+ CALB2     1   251.77 265.77\n",
      "+ ERCC1     1   251.89 265.89\n",
      "+ TBC1D9    1   251.92 265.92\n",
      "+ NIPSNAP1  1   253.01 267.01\n",
      "- PRSS3     1   257.99 267.99\n",
      "- CYB561    1   258.67 268.67\n",
      "- BAIAP3    1   261.91 271.91\n",
      "- AKAP12    1   263.01 273.01\n",
      "- PIM2      1   263.66 273.66\n"
     ]
    },
    {
     "data": {
      "text/plain": [
       "\n",
       "Call:\n",
       "glm(formula = Group ~ BAIAP3 + PIM2 + CYB561 + PRSS3 + AKAP12, \n",
       "    family = binomial(), data = data)\n",
       "\n",
       "Deviance Residuals: \n",
       "    Min       1Q   Median       3Q      Max  \n",
       "-1.7097  -0.7793  -0.5251   0.8778   2.7159  \n",
       "\n",
       "Coefficients:\n",
       "            Estimate Std. Error z value Pr(>|z|)    \n",
       "(Intercept) -53.5484     9.1098  -5.878 4.15e-09 ***\n",
       "BAIAP3        1.5848     0.5528   2.867  0.00415 ** \n",
       "PIM2          1.4928     0.4732   3.155  0.00161 ** \n",
       "CYB561        1.8375     0.7880   2.332  0.01972 *  \n",
       "PRSS3         0.6777     0.3067   2.210  0.02714 *  \n",
       "AKAP12        1.1731     0.3920   2.992  0.00277 ** \n",
       "---\n",
       "Signif. codes:  0 '***' 0.001 '**' 0.01 '*' 0.05 '.' 0.1 ' ' 1\n",
       "\n",
       "(Dispersion parameter for binomial family taken to be 1)\n",
       "\n",
       "    Null deviance: 307.83  on 250  degrees of freedom\n",
       "Residual deviance: 253.03  on 245  degrees of freedom\n",
       "AIC: 265.03\n",
       "\n",
       "Number of Fisher Scoring iterations: 5\n"
      ]
     },
     "metadata": {},
     "output_type": "display_data"
    }
   ],
   "source": [
    "logit.step <- step(fit.reduce,direction='both')\n",
    "summary(logit.step)"
   ]
  },
  {
   "cell_type": "code",
   "execution_count": 90,
   "id": "85771b71-91a5-4530-9bb8-6a0389cb7d7e",
   "metadata": {},
   "outputs": [
    {
     "name": "stderr",
     "output_type": "stream",
     "text": [
      "Waiting for profiling to be done...\n",
      "\n"
     ]
    },
    {
     "data": {
      "text/html": [
       "<table class=\"dataframe\">\n",
       "<caption>A data.frame: 6 x 4</caption>\n",
       "<thead>\n",
       "\t<tr><th></th><th scope=col>B</th><th scope=col>Wald</th><th scope=col>OR_with_CI</th><th scope=col>P</th></tr>\n",
       "\t<tr><th></th><th scope=col>&lt;dbl&gt;</th><th scope=col>&lt;dbl&gt;</th><th scope=col>&lt;chr&gt;</th><th scope=col>&lt;chr&gt;</th></tr>\n",
       "</thead>\n",
       "<tbody>\n",
       "\t<tr><th scope=row>(Intercept)</th><td>-53.548</td><td>34.552</td><td><span style=white-space:pre-wrap>0(0~0)             </span></td><td>&lt;0.001</td></tr>\n",
       "\t<tr><th scope=row>BAIAP3</th><td>  1.585</td><td> 8.218</td><td>4.879(1.701~14.993)</td><td>0.004 </td></tr>\n",
       "\t<tr><th scope=row>PIM2</th><td>  1.493</td><td> 9.953</td><td>4.449(1.798~11.589)</td><td>0.002 </td></tr>\n",
       "\t<tr><th scope=row>CYB561</th><td>  1.837</td><td> 5.437</td><td>6.281(1.374~30.55) </td><td>0.020 </td></tr>\n",
       "\t<tr><th scope=row>PRSS3</th><td>  0.678</td><td> 4.882</td><td>1.969(1.085~3.639) </td><td>0.027 </td></tr>\n",
       "\t<tr><th scope=row>AKAP12</th><td>  1.173</td><td> 8.954</td><td>3.232(1.54~7.187)  </td><td>0.003 </td></tr>\n",
       "</tbody>\n",
       "</table>\n"
      ],
      "text/latex": [
       "A data.frame: 6 x 4\n",
       "\\begin{tabular}{r|llll}\n",
       "  & B & Wald & OR\\_with\\_CI & P\\\\\n",
       "  & <dbl> & <dbl> & <chr> & <chr>\\\\\n",
       "\\hline\n",
       "\t(Intercept) & -53.548 & 34.552 & 0(0\\textasciitilde{}0)              & <0.001\\\\\n",
       "\tBAIAP3 &   1.585 &  8.218 & 4.879(1.701\\textasciitilde{}14.993) & 0.004 \\\\\n",
       "\tPIM2 &   1.493 &  9.953 & 4.449(1.798\\textasciitilde{}11.589) & 0.002 \\\\\n",
       "\tCYB561 &   1.837 &  5.437 & 6.281(1.374\\textasciitilde{}30.55)  & 0.020 \\\\\n",
       "\tPRSS3 &   0.678 &  4.882 & 1.969(1.085\\textasciitilde{}3.639)  & 0.027 \\\\\n",
       "\tAKAP12 &   1.173 &  8.954 & 3.232(1.54\\textasciitilde{}7.187)   & 0.003 \\\\\n",
       "\\end{tabular}\n"
      ],
      "text/markdown": [
       "\n",
       "A data.frame: 6 x 4\n",
       "\n",
       "| <!--/--> | B &lt;dbl&gt; | Wald &lt;dbl&gt; | OR_with_CI &lt;chr&gt; | P &lt;chr&gt; |\n",
       "|---|---|---|---|---|\n",
       "| (Intercept) | -53.548 | 34.552 | 0(0~0)              | &lt;0.001 |\n",
       "| BAIAP3 |   1.585 |  8.218 | 4.879(1.701~14.993) | 0.004  |\n",
       "| PIM2 |   1.493 |  9.953 | 4.449(1.798~11.589) | 0.002  |\n",
       "| CYB561 |   1.837 |  5.437 | 6.281(1.374~30.55)  | 0.020  |\n",
       "| PRSS3 |   0.678 |  4.882 | 1.969(1.085~3.639)  | 0.027  |\n",
       "| AKAP12 |   1.173 |  8.954 | 3.232(1.54~7.187)   | 0.003  |\n",
       "\n"
      ],
      "text/plain": [
       "            B       Wald   OR_with_CI          P     \n",
       "(Intercept) -53.548 34.552 0(0~0)              <0.001\n",
       "BAIAP3        1.585  8.218 4.879(1.701~14.993) 0.004 \n",
       "PIM2          1.493  9.953 4.449(1.798~11.589) 0.002 \n",
       "CYB561        1.837  5.437 6.281(1.374~30.55)  0.020 \n",
       "PRSS3         0.678  4.882 1.969(1.085~3.639)  0.027 \n",
       "AKAP12        1.173  8.954 3.232(1.54~7.187)   0.003 "
      ]
     },
     "metadata": {},
     "output_type": "display_data"
    }
   ],
   "source": [
    "# train_sub = sample(nrow(data),9/10*nrow(data))\n",
    "# train_data = data[train_sub,]\n",
    "# test_data =data[-train_sub,]\n",
    "\n",
    "# fit.reduce<-glm(Group~.,data=data,family=binomial())\n",
    "# summary(fit.reduce)\n",
    "\n",
    "formatFit<-function(fit){\n",
    "  #取P值\n",
    "  p<-summary(fit)$coefficients[,4]\n",
    "  #wald值\n",
    "  wald<-summary(fit)$coefficients[,3]^2\n",
    "  #B值\n",
    "  valueB<-coef(fit)\n",
    "  #OR值\n",
    "  valueOR<-exp(coef(fit))\n",
    "  #OR值得95%CI\n",
    "  confitOR<-exp(confint(fit))\n",
    "  data.frame(\n",
    "    B=round(valueB,3),\n",
    "    Wald=round(wald,3),\n",
    "    OR_with_CI=paste(round(valueOR,3),\"(\",\n",
    "               round(confitOR[,1],3),\"~\",round(confitOR[,2],3),\")\",sep=\"\"),\n",
    "    P=format.pval(p,digits = 3,eps=0.001)\n",
    "  )\n",
    "}\n",
    "\n",
    "formatFit(logit.step)"
   ]
  },
  {
   "cell_type": "code",
   "execution_count": 91,
   "id": "8e261651-b999-4164-8a3c-7749fbc5292c",
   "metadata": {},
   "outputs": [
    {
     "name": "stderr",
     "output_type": "stream",
     "text": [
      "Waiting for profiling to be done...\n",
      "\n",
      "Waiting for profiling to be done...\n",
      "\n"
     ]
    }
   ],
   "source": [
    "b = rownames(formatFit(logit.step))[2:length(rownames(formatFit(logit.step)))]"
   ]
  },
  {
   "cell_type": "code",
   "execution_count": 92,
   "id": "d3f8d9e0-5d72-42fd-b158-690527f13040",
   "metadata": {},
   "outputs": [],
   "source": [
    "save(b,file = 'b.rda')"
   ]
  },
  {
   "cell_type": "code",
   "execution_count": 93,
   "id": "e627183c-946c-4097-9531-439cdbe77e97",
   "metadata": {},
   "outputs": [],
   "source": [
    "data = data[,c('Group',b)]"
   ]
  },
  {
   "cell_type": "code",
   "execution_count": 94,
   "id": "b21ff9f7-45a6-4c44-bf6b-fde624298626",
   "metadata": {},
   "outputs": [
    {
     "name": "stderr",
     "output_type": "stream",
     "text": [
      "\n",
      "Attaching package: 'autoReg'\n",
      "\n",
      "\n",
      "The following object is masked from 'package:MASS':\n",
      "\n",
      "    select\n",
      "\n",
      "\n"
     ]
    }
   ],
   "source": [
    "library(autoReg)"
   ]
  },
  {
   "cell_type": "code",
   "execution_count": 95,
   "id": "57f11164-ca96-4184-a750-1f9c548dbd53",
   "metadata": {
    "scrolled": true
   },
   "outputs": [
    {
     "data": {
      "text/html": [
       "<table class=\"dataframe\">\n",
       "<caption>A autoReg: 5 x 7</caption>\n",
       "<thead>\n",
       "\t<tr><th scope=col>name</th><th scope=col>desc</th><th scope=col>0 (N=175)</th><th scope=col>1 (N=76)</th><th scope=col>id</th><th scope=col>OR (univariable)</th><th scope=col>OR (multivariable)</th></tr>\n",
       "\t<tr><th scope=col>&lt;chr&gt;</th><th scope=col>&lt;chr&gt;</th><th scope=col>&lt;chr&gt;</th><th scope=col>&lt;chr&gt;</th><th scope=col>&lt;chr&gt;</th><th scope=col>&lt;chr&gt;</th><th scope=col>&lt;chr&gt;</th></tr>\n",
       "</thead>\n",
       "<tbody>\n",
       "\t<tr><td>BAIAP3</td><td>Mean &lt;U+00B1&gt; SD</td><td>7.8 &lt;U+00B1&gt; 0.3</td><td>8.0 &lt;U+00B1&gt; 0.3</td><td>BAIAP3</td><td>8.31 (3.23-21.36, p&lt;.001)</td><td>4.88 (1.65-14.42, p=.004)</td></tr>\n",
       "\t<tr><td><span style=white-space:pre-wrap>PIM2  </span></td><td>Mean &lt;U+00B1&gt; SD</td><td>7.6 &lt;U+00B1&gt; 0.4</td><td>7.8 &lt;U+00B1&gt; 0.4</td><td><span style=white-space:pre-wrap>PIM2  </span></td><td>3.09 (1.53-6.25, p=.002) </td><td>4.45 (1.76-11.25, p=.002)</td></tr>\n",
       "\t<tr><td>CYB561</td><td>Mean &lt;U+00B1&gt; SD</td><td>6.9 &lt;U+00B1&gt; 0.2</td><td>7.0 &lt;U+00B1&gt; 0.2</td><td>CYB561</td><td>5.34 (1.53-18.69, p=.009)</td><td>6.28 (1.34-29.43, p=.020)</td></tr>\n",
       "\t<tr><td>PRSS3 </td><td>Mean &lt;U+00B1&gt; SD</td><td>7.7 &lt;U+00B1&gt; 0.5</td><td>8.0 &lt;U+00B1&gt; 0.6</td><td>PRSS3 </td><td>2.92 (1.70-5.03, p&lt;.001) </td><td>1.97 (1.08-3.59, p=.027) </td></tr>\n",
       "\t<tr><td>AKAP12</td><td>Mean &lt;U+00B1&gt; SD</td><td>8.9 &lt;U+00B1&gt; 0.5</td><td>9.1 &lt;U+00B1&gt; 0.5</td><td>AKAP12</td><td>2.39 (1.30-4.39, p=.005) </td><td>3.23 (1.50-6.97, p=.003) </td></tr>\n",
       "</tbody>\n",
       "</table>\n"
      ],
      "text/latex": [
       "A autoReg: 5 x 7\n",
       "\\begin{tabular}{lllllll}\n",
       " name & desc & 0 (N=175) & 1 (N=76) & id & OR (univariable) & OR (multivariable)\\\\\n",
       " <chr> & <chr> & <chr> & <chr> & <chr> & <chr> & <chr>\\\\\n",
       "\\hline\n",
       "\t BAIAP3 & Mean <U+00B1> SD & 7.8 <U+00B1> 0.3 & 8.0 <U+00B1> 0.3 & BAIAP3 & 8.31 (3.23-21.36, p<.001) & 4.88 (1.65-14.42, p=.004)\\\\\n",
       "\t PIM2   & Mean <U+00B1> SD & 7.6 <U+00B1> 0.4 & 7.8 <U+00B1> 0.4 & PIM2   & 3.09 (1.53-6.25, p=.002)  & 4.45 (1.76-11.25, p=.002)\\\\\n",
       "\t CYB561 & Mean <U+00B1> SD & 6.9 <U+00B1> 0.2 & 7.0 <U+00B1> 0.2 & CYB561 & 5.34 (1.53-18.69, p=.009) & 6.28 (1.34-29.43, p=.020)\\\\\n",
       "\t PRSS3  & Mean <U+00B1> SD & 7.7 <U+00B1> 0.5 & 8.0 <U+00B1> 0.6 & PRSS3  & 2.92 (1.70-5.03, p<.001)  & 1.97 (1.08-3.59, p=.027) \\\\\n",
       "\t AKAP12 & Mean <U+00B1> SD & 8.9 <U+00B1> 0.5 & 9.1 <U+00B1> 0.5 & AKAP12 & 2.39 (1.30-4.39, p=.005)  & 3.23 (1.50-6.97, p=.003) \\\\\n",
       "\\end{tabular}\n"
      ],
      "text/markdown": [
       "\n",
       "A autoReg: 5 x 7\n",
       "\n",
       "| name &lt;chr&gt; | desc &lt;chr&gt; | 0 (N=175) &lt;chr&gt; | 1 (N=76) &lt;chr&gt; | id &lt;chr&gt; | OR (univariable) &lt;chr&gt; | OR (multivariable) &lt;chr&gt; |\n",
       "|---|---|---|---|---|---|---|\n",
       "| BAIAP3 | Mean &lt;U+00B1&gt; SD | 7.8 &lt;U+00B1&gt; 0.3 | 8.0 &lt;U+00B1&gt; 0.3 | BAIAP3 | 8.31 (3.23-21.36, p&lt;.001) | 4.88 (1.65-14.42, p=.004) |\n",
       "| PIM2   | Mean &lt;U+00B1&gt; SD | 7.6 &lt;U+00B1&gt; 0.4 | 7.8 &lt;U+00B1&gt; 0.4 | PIM2   | 3.09 (1.53-6.25, p=.002)  | 4.45 (1.76-11.25, p=.002) |\n",
       "| CYB561 | Mean &lt;U+00B1&gt; SD | 6.9 &lt;U+00B1&gt; 0.2 | 7.0 &lt;U+00B1&gt; 0.2 | CYB561 | 5.34 (1.53-18.69, p=.009) | 6.28 (1.34-29.43, p=.020) |\n",
       "| PRSS3  | Mean &lt;U+00B1&gt; SD | 7.7 &lt;U+00B1&gt; 0.5 | 8.0 &lt;U+00B1&gt; 0.6 | PRSS3  | 2.92 (1.70-5.03, p&lt;.001)  | 1.97 (1.08-3.59, p=.027)  |\n",
       "| AKAP12 | Mean &lt;U+00B1&gt; SD | 8.9 &lt;U+00B1&gt; 0.5 | 9.1 &lt;U+00B1&gt; 0.5 | AKAP12 | 2.39 (1.30-4.39, p=.005)  | 3.23 (1.50-6.97, p=.003)  |\n",
       "\n"
      ],
      "text/plain": [
       "  name   desc             0 (N=175)        1 (N=76)         id    \n",
       "1 BAIAP3 Mean <U+00B1> SD 7.8 <U+00B1> 0.3 8.0 <U+00B1> 0.3 BAIAP3\n",
       "2 PIM2   Mean <U+00B1> SD 7.6 <U+00B1> 0.4 7.8 <U+00B1> 0.4 PIM2  \n",
       "3 CYB561 Mean <U+00B1> SD 6.9 <U+00B1> 0.2 7.0 <U+00B1> 0.2 CYB561\n",
       "4 PRSS3  Mean <U+00B1> SD 7.7 <U+00B1> 0.5 8.0 <U+00B1> 0.6 PRSS3 \n",
       "5 AKAP12 Mean <U+00B1> SD 8.9 <U+00B1> 0.5 9.1 <U+00B1> 0.5 AKAP12\n",
       "  OR (univariable)          OR (multivariable)       \n",
       "1 8.31 (3.23-21.36, p<.001) 4.88 (1.65-14.42, p=.004)\n",
       "2 3.09 (1.53-6.25, p=.002)  4.45 (1.76-11.25, p=.002)\n",
       "3 5.34 (1.53-18.69, p=.009) 6.28 (1.34-29.43, p=.020)\n",
       "4 2.92 (1.70-5.03, p<.001)  1.97 (1.08-3.59, p=.027) \n",
       "5 2.39 (1.30-4.39, p=.005)  3.23 (1.50-6.97, p=.003) "
      ]
     },
     "metadata": {},
     "output_type": "display_data"
    }
   ],
   "source": [
    "overall.log =  glm(Group~.,data=data,family=binomial())\n",
    "\n",
    "model3<-autoReg(overall.log,uni=TRUE,milti=TRUE,threshold=0.05)\n",
    "\n",
    "model3"
   ]
  },
  {
   "cell_type": "code",
   "execution_count": 96,
   "id": "e9250122-9dd6-4a88-82f6-e7db4765465d",
   "metadata": {
    "scrolled": true
   },
   "outputs": [
    {
     "name": "stderr",
     "output_type": "stream",
     "text": [
      "Warning message:\n",
      "\"package 'caret' was built under R version 4.2.3\"\n",
      "Loading required package: ggplot2\n",
      "\n",
      "Warning message:\n",
      "\"package 'ggplot2' was built under R version 4.2.3\"\n",
      "\n",
      "Attaching package: 'ggplot2'\n",
      "\n",
      "\n",
      "The following object is masked from 'package:epiDisplay':\n",
      "\n",
      "    alpha\n",
      "\n",
      "\n",
      "The following object is masked from 'package:randomForest':\n",
      "\n",
      "    margin\n",
      "\n",
      "\n",
      "Loading required package: lattice\n",
      "\n",
      "Warning message:\n",
      "\"package 'lattice' was built under R version 4.2.3\"\n",
      "\n",
      "Attaching package: 'lattice'\n",
      "\n",
      "\n",
      "The following object is masked from 'package:epiDisplay':\n",
      "\n",
      "    dotplot\n",
      "\n",
      "\n",
      "Warning message in system(\"timedatectl\", intern = TRUE):\n",
      "\"running command 'timedatectl' had status 1\"\n",
      "\n",
      "Attaching package: 'caret'\n",
      "\n",
      "\n",
      "The following object is masked from 'package:survival':\n",
      "\n",
      "    cluster\n",
      "\n",
      "\n"
     ]
    }
   ],
   "source": [
    "library(caret)"
   ]
  },
  {
   "cell_type": "code",
   "execution_count": 97,
   "id": "f3a49092-6398-4cbc-b07c-0514175cd723",
   "metadata": {},
   "outputs": [
    {
     "name": "stderr",
     "output_type": "stream",
     "text": [
      "Setting levels: control = 0, case = 1\n",
      "\n",
      "Setting direction: controls < cases\n",
      "\n",
      "Setting levels: control = 0, case = 1\n",
      "\n",
      "Setting direction: controls < cases\n",
      "\n",
      "Setting levels: control = 0, case = 1\n",
      "\n",
      "Setting direction: controls < cases\n",
      "\n",
      "Setting levels: control = 0, case = 1\n",
      "\n",
      "Setting direction: controls < cases\n",
      "\n",
      "Setting levels: control = 0, case = 1\n",
      "\n",
      "Setting direction: controls < cases\n",
      "\n",
      "Setting levels: control = 0, case = 1\n",
      "\n",
      "Setting direction: controls < cases\n",
      "\n",
      "Setting levels: control = 0, case = 1\n",
      "\n",
      "Setting direction: controls < cases\n",
      "\n",
      "Setting levels: control = 0, case = 1\n",
      "\n",
      "Setting direction: controls < cases\n",
      "\n",
      "Setting levels: control = 0, case = 1\n",
      "\n",
      "Setting direction: controls < cases\n",
      "\n",
      "Setting levels: control = 0, case = 1\n",
      "\n",
      "Setting direction: controls < cases\n",
      "\n"
     ]
    },
    {
     "data": {
      "text/html": [
       "0.787088994163402"
      ],
      "text/latex": [
       "0.787088994163402"
      ],
      "text/markdown": [
       "0.787088994163402"
      ],
      "text/plain": [
       "[1] 0.787089"
      ]
     },
     "metadata": {},
     "output_type": "display_data"
    }
   ],
   "source": [
    "set.seed(141)\n",
    "#单纯10折交叉验证，time=1\n",
    "folds <-createMultiFolds(y=data$Group,k=5,times=5)\n",
    "#10次批量训练与验证\n",
    "#做成循环\n",
    "auc_value<-as.numeric()\n",
    "for(i in 1:10){\n",
    "  train<- data[ folds[[i]],] \n",
    "  test <- data[-folds[[i]],] \n",
    "  model<-glm(Group~.,data=train,family=binomial())  #TNFSF14+CCNA2+MARCKS+SGOL1+SAP130\n",
    "    \n",
    "  model_pre<-predict(model,type='response', newdata=train)\n",
    "    \n",
    "  auc_value<- append(auc_value,\n",
    "                     as.numeric(pROC::auc(as.numeric(train[,1]),model_pre)))\n",
    "}\n",
    "mean(auc_value)"
   ]
  },
  {
   "cell_type": "code",
   "execution_count": 98,
   "id": "28cb34d6-1a0c-4d80-8537-e313364ed847",
   "metadata": {},
   "outputs": [
    {
     "data": {
      "text/html": [
       "<style>\n",
       ".list-inline {list-style: none; margin:0; padding: 0}\n",
       ".list-inline>li {display: inline-block}\n",
       ".list-inline>li:not(:last-child)::after {content: \"\\00b7\"; padding: 0 .5ex}\n",
       "</style>\n",
       "<ol class=list-inline><li>0.780790441176471</li><li>0.789952718676123</li><li>0.814036762950585</li><li>0.771039305522064</li><li>0.777547734069473</li><li>0.777751756440281</li><li>0.775</li><li>0.78968727619957</li><li>0.780398631914141</li><li>0.814685314685315</li></ol>\n"
      ],
      "text/latex": [
       "\\begin{enumerate*}\n",
       "\\item 0.780790441176471\n",
       "\\item 0.789952718676123\n",
       "\\item 0.814036762950585\n",
       "\\item 0.771039305522064\n",
       "\\item 0.777547734069473\n",
       "\\item 0.777751756440281\n",
       "\\item 0.775\n",
       "\\item 0.78968727619957\n",
       "\\item 0.780398631914141\n",
       "\\item 0.814685314685315\n",
       "\\end{enumerate*}\n"
      ],
      "text/markdown": [
       "1. 0.780790441176471\n",
       "2. 0.789952718676123\n",
       "3. 0.814036762950585\n",
       "4. 0.771039305522064\n",
       "5. 0.777547734069473\n",
       "6. 0.777751756440281\n",
       "7. 0.775\n",
       "8. 0.78968727619957\n",
       "9. 0.780398631914141\n",
       "10. 0.814685314685315\n",
       "\n",
       "\n"
      ],
      "text/plain": [
       " [1] 0.7807904 0.7899527 0.8140368 0.7710393 0.7775477 0.7777518 0.7750000\n",
       " [8] 0.7896873 0.7803986 0.8146853"
      ]
     },
     "metadata": {},
     "output_type": "display_data"
    }
   ],
   "source": [
    "auc_value"
   ]
  },
  {
   "cell_type": "code",
   "execution_count": 99,
   "id": "712dde81-97a8-45dc-b3cd-07d0329b6fc8",
   "metadata": {},
   "outputs": [
    {
     "name": "stdout",
     "output_type": "stream",
     "text": [
      "[1] 10\n"
     ]
    }
   ],
   "source": [
    "num <- which.max(auc_value)\n",
    "print(num)\n",
    "\n",
    "fold_test <- data[folds[[num]],]   \n",
    "fold_train <- data[-folds[[num]],]\n",
    "\n",
    "fold_pre <- glm(Group~.,data=fold_train,family=binomial())\n",
    "\n",
    "fold_predict <- predict(fold_pre,type='response',newdata=fold_test)\n",
    "\n",
    "options(repr.plot.width = 6)"
   ]
  },
  {
   "cell_type": "code",
   "execution_count": 100,
   "id": "9979af20-b937-4718-867d-4dbab31bb600",
   "metadata": {},
   "outputs": [
    {
     "name": "stderr",
     "output_type": "stream",
     "text": [
      "Setting levels: control = 0, case = 1\n",
      "\n",
      "Setting direction: controls < cases\n",
      "\n"
     ]
    },
    {
     "data": {
      "image/png": "[encoded data removed]",
      "text/plain": [
       "Plot with title \"\""
      ]
     },
     "metadata": {
      "image/png": {
       "height": 420,
       "width": 360
      }
     },
     "output_type": "display_data"
    }
   ],
   "source": [
    "roc_curve <- pROC::roc(as.numeric(fold_test$Group),fold_predict)\n",
    "plot(roc_curve, print.auc=TRUE, auc.polygon=TRUE, grid=c(0.1, 0.2),\n",
    "     grid.col=c(\"green\", \"red\"), max.auc.polygon=TRUE,\n",
    "     auc.polygon.col=\"skyblue\", print.thres=TRUE,main=\"\")"
   ]
  },
  {
   "cell_type": "code",
   "execution_count": null,
   "id": "049a9511-f839-428e-99af-58a9c9ac1a4c",
   "metadata": {},
   "outputs": [],
   "source": []
  }
 ],
 "metadata": {
  "kernelspec": {
   "display_name": "R",
   "language": "R",
   "name": "ir"
  },
  "language_info": {
   "codemirror_mode": "r",
   "file_extension": ".r",
   "mimetype": "text/x-r-source",
   "name": "R",
   "pygments_lexer": "r",
   "version": "4.2.1"
  }
 },
 "nbformat": 4,
 "nbformat_minor": 5
}
