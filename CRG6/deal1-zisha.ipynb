{
 "cells": [
  {
   "cell_type": "code",
   "execution_count": 1,
   "id": "c967e244-4182-4bfc-8efc-f815bd936430",
   "metadata": {},
   "outputs": [],
   "source": [
    "setwd('/import/DB/fel/BJTC-204')"
   ]
  },
  {
   "cell_type": "code",
   "execution_count": 5,
   "id": "47aff0b1-938c-4147-8eeb-f5ffe4bc861a",
   "metadata": {},
   "outputs": [],
   "source": [
    "data = read.csv('./TOD.rela.2.csv',row.names = 1)"
   ]
  },
  {
   "cell_type": "code",
   "execution_count": 15,
   "id": "7a68b1fb-bdaf-4b8f-bd82-f842eaec4a8c",
   "metadata": {},
   "outputs": [],
   "source": [
    "load('./exp4.rda')"
   ]
  },
  {
   "cell_type": "code",
   "execution_count": null,
   "id": "871b7ba9-e46b-43fb-897b-bbb1d703ae08",
   "metadata": {},
   "outputs": [],
   "source": [
    "# gene89 = read.table('./gene89.txt',header =T )\n",
    "# dim(data)\n",
    "# library(dplyr)\n",
    "# MDD = data %>%   filter(TYPE == 'MDD')\n",
    "# table(MDD$death)\n",
    "# death = MDD$death\n",
    "# MDD$GSM\n",
    "# expr = exp4[MDD$GSM,intersect(gene89$GeneNames,colnames(exp4))]\n",
    "# colnames(expr) = gsub('-','.',colnames(expr))\n",
    "# expr <- expr[, !grepl(\"^\\\\d+\", names(expr))]"
   ]
  },
  {
   "cell_type": "code",
   "execution_count": 35,
   "id": "6efb93d9-a007-4ca7-a025-4a0895b97f87",
   "metadata": {},
   "outputs": [],
   "source": [
    "load('./zhisha.mdd.control.overlap.rda')"
   ]
  },
  {
   "cell_type": "code",
   "execution_count": 37,
   "id": "eb31f53a-483a-4bc8-a701-a213c4958a00",
   "metadata": {},
   "outputs": [],
   "source": [
    "MDD = data %>%   filter(TYPE == 'MDD')"
   ]
  },
  {
   "cell_type": "code",
   "execution_count": 38,
   "id": "c712caaf-bbbd-414e-b574-eb3c50d53a4b",
   "metadata": {},
   "outputs": [
    {
     "data": {
      "text/plain": [
       "\n",
       " 0  1 \n",
       "14 19 "
      ]
     },
     "metadata": {},
     "output_type": "display_data"
    }
   ],
   "source": [
    "table(MDD$death)\n",
    "death = MDD$death"
   ]
  },
  {
   "cell_type": "code",
   "execution_count": 39,
   "id": "3a26ac8b-55af-4fed-8576-d98ed6245b0a",
   "metadata": {},
   "outputs": [],
   "source": [
    "expr = exp4[MDD$GSM,intersect(gene3,colnames(exp4))]"
   ]
  },
  {
   "cell_type": "code",
   "execution_count": 41,
   "id": "0277b25b-0ff8-43c9-a2e7-7ecfb8c72ab3",
   "metadata": {},
   "outputs": [],
   "source": [
    "save(expr,death ,file = 'zisha.rda')"
   ]
  },
  {
   "cell_type": "code",
   "execution_count": null,
   "id": "bdf5bbeb-cdaa-4b67-bb5f-33fc60c82022",
   "metadata": {},
   "outputs": [],
   "source": []
  }
 ],
 "metadata": {
  "kernelspec": {
   "display_name": "R",
   "language": "R",
   "name": "ir"
  },
  "language_info": {
   "codemirror_mode": "r",
   "file_extension": ".r",
   "mimetype": "text/x-r-source",
   "name": "R",
   "pygments_lexer": "r",
   "version": "4.2.1"
  }
 },
 "nbformat": 4,
 "nbformat_minor": 5
}
