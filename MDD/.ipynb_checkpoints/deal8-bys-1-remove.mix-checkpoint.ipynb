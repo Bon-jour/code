{
 "cells": [
  {
   "cell_type": "code",
   "execution_count": 1,
   "id": "5ea3737c-61ca-4719-ae71-6a29bd5543da",
   "metadata": {},
   "outputs": [],
   "source": [
    "setwd('/import/mdd.rna')"
   ]
  },
  {
   "cell_type": "code",
   "execution_count": 10,
   "id": "d674b39b-a7d9-4d54-81ed-2fbb7f85191e",
   "metadata": {},
   "outputs": [],
   "source": [
    "load('GSE80655.rda')"
   ]
  },
  {
   "cell_type": "code",
   "execution_count": 11,
   "id": "2a2b1681-b5e0-45bb-908d-a01caede560c",
   "metadata": {},
   "outputs": [
    {
     "data": {
      "text/html": [
       "<style>\n",
       ".list-inline {list-style: none; margin:0; padding: 0}\n",
       ".list-inline>li {display: inline-block}\n",
       ".list-inline>li:not(:last-child)::after {content: \"\\00b7\"; padding: 0 .5ex}\n",
       "</style>\n",
       "<ol class=list-inline><li>'cliinfo'</li><li>'end'</li><li>'expr3'</li><li>'theta'</li></ol>\n"
      ],
      "text/latex": [
       "\\begin{enumerate*}\n",
       "\\item 'cliinfo'\n",
       "\\item 'end'\n",
       "\\item 'expr3'\n",
       "\\item 'theta'\n",
       "\\end{enumerate*}\n"
      ],
      "text/markdown": [
       "1. 'cliinfo'\n",
       "2. 'end'\n",
       "3. 'expr3'\n",
       "4. 'theta'\n",
       "\n",
       "\n"
      ],
      "text/plain": [
       "[1] \"cliinfo\" \"end\"     \"expr3\"   \"theta\"  "
      ]
     },
     "metadata": {},
     "output_type": "display_data"
    }
   ],
   "source": [
    "ls()"
   ]
  },
  {
   "cell_type": "code",
   "execution_count": 4,
   "id": "0d0afcf7-6283-4a24-9f58-12407e2cd733",
   "metadata": {},
   "outputs": [
    {
     "name": "stderr",
     "output_type": "stream",
     "text": [
      "Loading required package: snowfall\n",
      "\n",
      "Loading required package: snow\n",
      "\n",
      "Warning message:\n",
      "\"package 'snow' was built under R version 4.2.3\"\n",
      "Loading required package: NMF\n",
      "\n",
      "Loading required package: registry\n",
      "\n",
      "Loading required package: rngtools\n",
      "\n",
      "Loading required package: cluster\n",
      "\n",
      "Warning message:\n",
      "\"package 'cluster' was built under R version 4.2.3\"\n",
      "NMF - BioConductor layer [OK] | Shared memory capabilities [NO: bigmemory] | Cores 2/2\n",
      "\n",
      "  To enable shared memory capabilities, try: install.extras('\n",
      "NMF\n",
      "')\n",
      "\n",
      "Warning message:\n",
      "\"replacing previous import 'gplots::lowess' by 'stats::lowess' when loading 'BayesPrism'\"\n",
      "Warning message:\n",
      "\"replacing previous import 'BiocParallel::register' by 'NMF::register' when loading 'BayesPrism'\"\n"
     ]
    }
   ],
   "source": [
    "library(BayesPrism)"
   ]
  },
  {
   "cell_type": "code",
   "execution_count": 5,
   "id": "ac82d5f6-ec31-4bbb-ad21-1b19938dcfed",
   "metadata": {},
   "outputs": [],
   "source": [
    "sce = readRDS('../GSE213982_fel/final.rds')"
   ]
  },
  {
   "cell_type": "code",
   "execution_count": 7,
   "id": "57617b94-5e92-4b38-a170-4325043b3a39",
   "metadata": {},
   "outputs": [
    {
     "name": "stderr",
     "output_type": "stream",
     "text": [
      "Warning message:\n",
      "\"package 'Seurat' was built under R version 4.2.3\"\n",
      "The legacy packages maptools, rgdal, and rgeos, underpinning the sp package,\n",
      "which was just loaded, will retire in October 2023.\n",
      "Please refer to R-spatial evolution reports for details, especially\n",
      "https://r-spatial.org/r/2023/05/15/evolution4.html.\n",
      "It may be desirable to make the sf package available;\n",
      "package maintainers should consider adding sf to Suggests:.\n",
      "The sp package is now running under evolution status 2\n",
      "     (status 2 uses the sf package in place of rgdal)\n",
      "\n",
      "Attaching SeuratObject\n",
      "\n"
     ]
    }
   ],
   "source": [
    "library(Seurat)"
   ]
  },
  {
   "cell_type": "code",
   "execution_count": 8,
   "id": "97503cf6-9c9f-4133-8737-f6a56ea4aa43",
   "metadata": {},
   "outputs": [
    {
     "name": "stderr",
     "output_type": "stream",
     "text": [
      "Warning message in asMethod(object):\n",
      "\"sparse->dense coercion: allocating vector of size 33.3 GiB\"\n"
     ]
    }
   ],
   "source": [
    "Idents(sce) <- \"celltype\"\n",
    "# Downsample the number of cells per identity class\n",
    "sm1 <- subset(x = sce, downsample = 50000)\n",
    "count = as.matrix(sm1@assays$RNA@counts)\n",
    "sc.dat = t(count)"
   ]
  },
  {
   "cell_type": "code",
   "execution_count": 9,
   "id": "6b403721-5fcc-4a3c-bf93-75f2859c88f9",
   "metadata": {},
   "outputs": [],
   "source": [
    "cell.type.labels <- sm1@meta.data[[\"celltype\"]]\n",
    "#cell.state.labels <- sm1@meta.data[[\"subcluster\"]]"
   ]
  },
  {
   "cell_type": "code",
   "execution_count": 10,
   "id": "8048397e-80d3-4e41-a987-c61d45897774",
   "metadata": {},
   "outputs": [
    {
     "data": {
      "text/html": [
       "<strong>png:</strong> 2"
      ],
      "text/latex": [
       "\\textbf{png:} 2"
      ],
      "text/markdown": [
       "**png:** 2"
      ],
      "text/plain": [
       "png \n",
       "  2 "
      ]
     },
     "metadata": {},
     "output_type": "display_data"
    }
   ],
   "source": [
    "plot.cor.phi (input=sc.dat, \n",
    "                         input.labels=cell.type.labels, \n",
    "                         title=\"cell type correlation\",\n",
    "                         #specify pdf.prefix if need to output to pdf\n",
    "                         pdf.prefix=\"gbm.cor.ct\",\n",
    "                         cexRow=0.5, cexCol=0.5,\n",
    "                         )"
   ]
  },
  {
   "cell_type": "code",
   "execution_count": 11,
   "id": "56f15f03-8690-4df7-9c87-58aacf2e6e80",
   "metadata": {},
   "outputs": [
    {
     "name": "stdout",
     "output_type": "stream",
     "text": [
      "Gene symbols detected. Recommend to use EMSEMBLE IDs for more unique mapping.\n"
     ]
    },
    {
     "data": {
      "text/html": [
       "<table class=\"dataframe\">\n",
       "<caption>A data.frame: 6 x 11</caption>\n",
       "<thead>\n",
       "\t<tr><th></th><th scope=col>exp.mean.log</th><th scope=col>max.spec</th><th scope=col>other_Rb</th><th scope=col>chrM</th><th scope=col>chrX</th><th scope=col>chrY</th><th scope=col>Rb</th><th scope=col>Mrp</th><th scope=col>act</th><th scope=col>hb</th><th scope=col>MALAT1</th></tr>\n",
       "\t<tr><th></th><th scope=col>&lt;dbl&gt;</th><th scope=col>&lt;dbl&gt;</th><th scope=col>&lt;lgl&gt;</th><th scope=col>&lt;lgl&gt;</th><th scope=col>&lt;lgl&gt;</th><th scope=col>&lt;lgl&gt;</th><th scope=col>&lt;lgl&gt;</th><th scope=col>&lt;lgl&gt;</th><th scope=col>&lt;lgl&gt;</th><th scope=col>&lt;lgl&gt;</th><th scope=col>&lt;lgl&gt;</th></tr>\n",
       "</thead>\n",
       "<tbody>\n",
       "\t<tr><th scope=row>MIR1302-2HG</th><td>-16.80681</td><td>0.4477132</td><td>FALSE</td><td>FALSE</td><td>FALSE</td><td>FALSE</td><td>FALSE</td><td>FALSE</td><td>FALSE</td><td>FALSE</td><td>FALSE</td></tr>\n",
       "\t<tr><th scope=row>AL627309.1</th><td>-13.54197</td><td>0.2866889</td><td>FALSE</td><td>FALSE</td><td>FALSE</td><td>FALSE</td><td>FALSE</td><td>FALSE</td><td>FALSE</td><td>FALSE</td><td>FALSE</td></tr>\n",
       "\t<tr><th scope=row>AL627309.3</th><td>-16.51597</td><td>0.2993163</td><td>FALSE</td><td>FALSE</td><td>FALSE</td><td>FALSE</td><td>FALSE</td><td>FALSE</td><td>FALSE</td><td>FALSE</td><td>FALSE</td></tr>\n",
       "\t<tr><th scope=row>AL627309.5</th><td>-11.96757</td><td>0.2504768</td><td>FALSE</td><td>FALSE</td><td>FALSE</td><td>FALSE</td><td>FALSE</td><td>FALSE</td><td>FALSE</td><td>FALSE</td><td>FALSE</td></tr>\n",
       "\t<tr><th scope=row>AL627309.4</th><td>-17.54615</td><td>0.5062276</td><td>FALSE</td><td>FALSE</td><td>FALSE</td><td>FALSE</td><td>FALSE</td><td>FALSE</td><td>FALSE</td><td>FALSE</td><td>FALSE</td></tr>\n",
       "\t<tr><th scope=row>AP006222.2</th><td>-16.49445</td><td>0.3203912</td><td>FALSE</td><td>FALSE</td><td>FALSE</td><td>FALSE</td><td>FALSE</td><td>FALSE</td><td>FALSE</td><td>FALSE</td><td>FALSE</td></tr>\n",
       "</tbody>\n",
       "</table>\n"
      ],
      "text/latex": [
       "A data.frame: 6 x 11\n",
       "\\begin{tabular}{r|lllllllllll}\n",
       "  & exp.mean.log & max.spec & other\\_Rb & chrM & chrX & chrY & Rb & Mrp & act & hb & MALAT1\\\\\n",
       "  & <dbl> & <dbl> & <lgl> & <lgl> & <lgl> & <lgl> & <lgl> & <lgl> & <lgl> & <lgl> & <lgl>\\\\\n",
       "\\hline\n",
       "\tMIR1302-2HG & -16.80681 & 0.4477132 & FALSE & FALSE & FALSE & FALSE & FALSE & FALSE & FALSE & FALSE & FALSE\\\\\n",
       "\tAL627309.1 & -13.54197 & 0.2866889 & FALSE & FALSE & FALSE & FALSE & FALSE & FALSE & FALSE & FALSE & FALSE\\\\\n",
       "\tAL627309.3 & -16.51597 & 0.2993163 & FALSE & FALSE & FALSE & FALSE & FALSE & FALSE & FALSE & FALSE & FALSE\\\\\n",
       "\tAL627309.5 & -11.96757 & 0.2504768 & FALSE & FALSE & FALSE & FALSE & FALSE & FALSE & FALSE & FALSE & FALSE\\\\\n",
       "\tAL627309.4 & -17.54615 & 0.5062276 & FALSE & FALSE & FALSE & FALSE & FALSE & FALSE & FALSE & FALSE & FALSE\\\\\n",
       "\tAP006222.2 & -16.49445 & 0.3203912 & FALSE & FALSE & FALSE & FALSE & FALSE & FALSE & FALSE & FALSE & FALSE\\\\\n",
       "\\end{tabular}\n"
      ],
      "text/markdown": [
       "\n",
       "A data.frame: 6 x 11\n",
       "\n",
       "| <!--/--> | exp.mean.log &lt;dbl&gt; | max.spec &lt;dbl&gt; | other_Rb &lt;lgl&gt; | chrM &lt;lgl&gt; | chrX &lt;lgl&gt; | chrY &lt;lgl&gt; | Rb &lt;lgl&gt; | Mrp &lt;lgl&gt; | act &lt;lgl&gt; | hb &lt;lgl&gt; | MALAT1 &lt;lgl&gt; |\n",
       "|---|---|---|---|---|---|---|---|---|---|---|---|\n",
       "| MIR1302-2HG | -16.80681 | 0.4477132 | FALSE | FALSE | FALSE | FALSE | FALSE | FALSE | FALSE | FALSE | FALSE |\n",
       "| AL627309.1 | -13.54197 | 0.2866889 | FALSE | FALSE | FALSE | FALSE | FALSE | FALSE | FALSE | FALSE | FALSE |\n",
       "| AL627309.3 | -16.51597 | 0.2993163 | FALSE | FALSE | FALSE | FALSE | FALSE | FALSE | FALSE | FALSE | FALSE |\n",
       "| AL627309.5 | -11.96757 | 0.2504768 | FALSE | FALSE | FALSE | FALSE | FALSE | FALSE | FALSE | FALSE | FALSE |\n",
       "| AL627309.4 | -17.54615 | 0.5062276 | FALSE | FALSE | FALSE | FALSE | FALSE | FALSE | FALSE | FALSE | FALSE |\n",
       "| AP006222.2 | -16.49445 | 0.3203912 | FALSE | FALSE | FALSE | FALSE | FALSE | FALSE | FALSE | FALSE | FALSE |\n",
       "\n"
      ],
      "text/plain": [
       "            exp.mean.log max.spec  other_Rb chrM  chrX  chrY  Rb    Mrp   act  \n",
       "MIR1302-2HG -16.80681    0.4477132 FALSE    FALSE FALSE FALSE FALSE FALSE FALSE\n",
       "AL627309.1  -13.54197    0.2866889 FALSE    FALSE FALSE FALSE FALSE FALSE FALSE\n",
       "AL627309.3  -16.51597    0.2993163 FALSE    FALSE FALSE FALSE FALSE FALSE FALSE\n",
       "AL627309.5  -11.96757    0.2504768 FALSE    FALSE FALSE FALSE FALSE FALSE FALSE\n",
       "AL627309.4  -17.54615    0.5062276 FALSE    FALSE FALSE FALSE FALSE FALSE FALSE\n",
       "AP006222.2  -16.49445    0.3203912 FALSE    FALSE FALSE FALSE FALSE FALSE FALSE\n",
       "            hb    MALAT1\n",
       "MIR1302-2HG FALSE FALSE \n",
       "AL627309.1  FALSE FALSE \n",
       "AL627309.3  FALSE FALSE \n",
       "AL627309.5  FALSE FALSE \n",
       "AL627309.4  FALSE FALSE \n",
       "AP006222.2  FALSE FALSE "
      ]
     },
     "metadata": {},
     "output_type": "display_data"
    }
   ],
   "source": [
    "sc.stat <- plot.scRNA.outlier(\n",
    "  input=sc.dat, #make sure the colnames are gene symbol or ENSMEBL ID \n",
    "  cell.type.labels=cell.type.labels,\n",
    "  species=\"hs\", #currently only human(hs) and mouse(mm) annotations are supported\n",
    "  return.raw=TRUE ,#return the data used for plotting. \n",
    "  pdf.prefix=\"gbm.sc.stat\" #specify pdf.prefix if need to output to pdf\n",
    ")\n",
    "head(sc.stat)     "
   ]
  },
  {
   "cell_type": "code",
   "execution_count": 14,
   "id": "44904bc1-bbe9-4ef9-8e36-a480bddba5ab",
   "metadata": {},
   "outputs": [
    {
     "name": "stderr",
     "output_type": "stream",
     "text": [
      "Warning message:\n",
      "\"package 'dplyr' was built under R version 4.2.3\"\n",
      "\n",
      "Attaching package: 'dplyr'\n",
      "\n",
      "\n",
      "The following object is masked from 'package:Biobase':\n",
      "\n",
      "    combine\n",
      "\n",
      "\n",
      "The following objects are masked from 'package:BiocGenerics':\n",
      "\n",
      "    combine, intersect, setdiff, union\n",
      "\n",
      "\n",
      "The following objects are masked from 'package:stats':\n",
      "\n",
      "    filter, lag\n",
      "\n",
      "\n",
      "The following objects are masked from 'package:base':\n",
      "\n",
      "    intersect, setdiff, setequal, union\n",
      "\n",
      "\n"
     ]
    }
   ],
   "source": [
    "library(dplyr)"
   ]
  },
  {
   "cell_type": "code",
   "execution_count": 19,
   "id": "7625d26c-044f-4791-b500-e025a0b53463",
   "metadata": {},
   "outputs": [],
   "source": [
    "rownames(expr3) = expr3[,1]"
   ]
  },
  {
   "cell_type": "code",
   "execution_count": 20,
   "id": "2c523fe5-d2c3-4458-bae4-7fb980348770",
   "metadata": {},
   "outputs": [],
   "source": [
    "expr3 = expr3[,-1]"
   ]
  },
  {
   "cell_type": "code",
   "execution_count": 21,
   "id": "c84bb640-299a-49d3-9de4-06d64ef11ba2",
   "metadata": {},
   "outputs": [],
   "source": [
    "bk.dat = expr3"
   ]
  },
  {
   "cell_type": "code",
   "execution_count": 22,
   "id": "f3c59815-e0b0-4579-ae0f-36087dc73b66",
   "metadata": {},
   "outputs": [
    {
     "name": "stdout",
     "output_type": "stream",
     "text": [
      "Gene symbols detected. Recommend to use EMSEMBLE IDs for more unique mapping.\n"
     ]
    }
   ],
   "source": [
    "bk.dat = t(bk.dat)\n",
    "bk.stat <- plot.bulk.outlier(\n",
    "  bulk.input=bk.dat,#make sure the colnames are gene symbol or ENSMEBL ID \n",
    "    sc.input=sc.dat, #make sure the colnames are gene symbol or ENSMEBL ID \n",
    "  cell.type.labels=cell.type.labels,\n",
    "  species=\"hs\", #currently only human(hs) and mouse(mm) annotations are supported\n",
    "  return.raw=TRUE,\n",
    "  pdf.prefix=\"gbm.bk.stat\" #specify pdf.prefix if need to output to pdf\n",
    ")"
   ]
  },
  {
   "cell_type": "code",
   "execution_count": 23,
   "id": "ee90b699-e406-4c01-837a-868c9039a63c",
   "metadata": {},
   "outputs": [
    {
     "name": "stdout",
     "output_type": "stream",
     "text": [
      "Gene symbols detected. Recommend to use EMSEMBLE IDs for more unique mapping.\n",
      "number of genes filtered in each category: \n",
      "      Rb      Mrp other_Rb     chrM   MALAT1     chrX     chrY       hb \n",
      "      89       78       20        0        1     1016       78       10 \n",
      "     act \n",
      "       6 \n",
      "A total of  1257  genes from Rb Mrp other_Rb chrM MALAT1 chrX chrY hb act  have been excluded \n",
      "A total of  867  gene expressed in fewer than  5  cells have been excluded \n",
      "Gene symbols detected. Recommend to use EMSEMBLE IDs for more unique mapping.\n"
     ]
    }
   ],
   "source": [
    "sc.dat.filtered <- cleanup.genes (input=sc.dat,\n",
    "                                  input.type=\"count.matrix\",\n",
    "                                    species=\"hs\", \n",
    "                                    gene.group=c( \"Rb\",\"Mrp\",\"other_Rb\",\"chrM\",\n",
    "\"MALAT1\",\"chrX\",\"chrY\",\"hb\",\"act\"),\n",
    "                                    exp.cells=5)\n",
    "plot.bulk.vs.sc (sc.input = sc.dat.filtered,\n",
    "                 bulk.input = bk.dat,\n",
    "                 pdf.prefix=\"gbm.bk.vs.sc\" #specify pdf.prefix if need to output to pdf\n",
    "                 )"
   ]
  },
  {
   "cell_type": "code",
   "execution_count": 24,
   "id": "365d44b0-b5ac-4e8c-b476-48de0cbb5c8b",
   "metadata": {},
   "outputs": [
    {
     "name": "stdout",
     "output_type": "stream",
     "text": [
      "Gene symbols detected. Recommend to use EMSEMBLE IDs for more unique mapping.\n",
      "number of genes retained in each category: \n",
      "\n",
      "protein_coding \n",
      "         16427 \n",
      "number of cells in each cell state \n",
      "cell.state.labels\n",
      "  Mic   Mix   End   OPC   Ast   Oli   InN   ExN \n",
      " 3744  3800  3948  7678 13210 22537 28336 50000 \n",
      "No tumor reference is speficied. Reference cell types are treated equally. \n"
     ]
    },
    {
     "name": "stderr",
     "output_type": "stream",
     "text": [
      "Warning message in validate.input(reference):\n",
      "\"Warning: input seems to be log-transformed. Please double check your input. Log transformation should be avoided\"\n"
     ]
    },
    {
     "name": "stdout",
     "output_type": "stream",
     "text": [
      "Number of outlier genes filtered from mixture = 7 \n",
      "Aligning reference and mixture... \n",
      "Normalizing reference... \n",
      "Run Gibbs sampling... \n",
      "Current time:  2024-04-26 04:02:44 \n",
      "Estimated time to complete:  37mins \n",
      "Estimated finishing time:  2024-04-26 04:39:31 \n",
      "Start run... \n",
      "R Version:  R version 4.2.1 (2022-06-23) \n",
      "\n"
     ]
    },
    {
     "name": "stderr",
     "output_type": "stream",
     "text": [
      "snowfall 1.84-6.3 initialized (using snow 0.4-4): parallel execution on 10 CPUs.\n",
      "\n",
      "\n",
      "\n",
      "Stopping cluster\n",
      "\n",
      "\n"
     ]
    },
    {
     "name": "stdout",
     "output_type": "stream",
     "text": [
      "Update the reference matrix ... \n"
     ]
    },
    {
     "name": "stderr",
     "output_type": "stream",
     "text": [
      "snowfall 1.84-6.3 initialized (using snow 0.4-4): parallel execution on 10 CPUs.\n",
      "\n",
      "\n",
      "\n",
      "Stopping cluster\n",
      "\n",
      "\n"
     ]
    },
    {
     "name": "stdout",
     "output_type": "stream",
     "text": [
      "Run Gibbs sampling using updated reference ... \n",
      "Current time:  2024-04-26 04:12:43 \n",
      "Estimated time to complete:  17mins \n",
      "Estimated finishing time:  2024-04-26 04:29:12 \n",
      "Start run... \n"
     ]
    },
    {
     "name": "stderr",
     "output_type": "stream",
     "text": [
      "snowfall 1.84-6.3 initialized (using snow 0.4-4): parallel execution on 10 CPUs.\n",
      "\n",
      "\n",
      "\n",
      "Stopping cluster\n",
      "\n",
      "\n"
     ]
    },
    {
     "data": {
      "text/html": [
       "<style>\n",
       ".list-inline {list-style: none; margin:0; padding: 0}\n",
       ".list-inline>li {display: inline-block}\n",
       ".list-inline>li:not(:last-child)::after {content: \"\\00b7\"; padding: 0 .5ex}\n",
       "</style>\n",
       "<ol class=list-inline><li>'prism'</li><li>'posterior.initial.cellState'</li><li>'posterior.initial.cellType'</li><li>'reference.update'</li><li>'posterior.theta_f'</li><li>'control_param'</li></ol>\n"
      ],
      "text/latex": [
       "\\begin{enumerate*}\n",
       "\\item 'prism'\n",
       "\\item 'posterior.initial.cellState'\n",
       "\\item 'posterior.initial.cellType'\n",
       "\\item 'reference.update'\n",
       "\\item 'posterior.theta\\_f'\n",
       "\\item 'control\\_param'\n",
       "\\end{enumerate*}\n"
      ],
      "text/markdown": [
       "1. 'prism'\n",
       "2. 'posterior.initial.cellState'\n",
       "3. 'posterior.initial.cellType'\n",
       "4. 'reference.update'\n",
       "5. 'posterior.theta_f'\n",
       "6. 'control_param'\n",
       "\n",
       "\n"
      ],
      "text/plain": [
       "[1] \"prism\"                       \"posterior.initial.cellState\"\n",
       "[3] \"posterior.initial.cellType\"  \"reference.update\"           \n",
       "[5] \"posterior.theta_f\"           \"control_param\"              "
      ]
     },
     "metadata": {},
     "output_type": "display_data"
    }
   ],
   "source": [
    "sc.dat.filtered.pc <-  select.gene.type (sc.dat.filtered,\n",
    "                                         gene.type = \"protein_coding\")\n",
    "                                         \n",
    "## 这里都用的大类，才没报错                                     \n",
    "myPrism <- new.prism(\n",
    "  reference=sc.dat.filtered.pc, \n",
    "  mixture=bk.dat,\n",
    "  input.type=\"count.matrix\", \n",
    "  cell.type.labels = cell.type.labels, \n",
    "  cell.state.labels = cell.type.labels,\n",
    "  key=NULL,# \n",
    "  outlier.cut=0.01,\n",
    "  outlier.fraction=0.1,\n",
    ")     \n",
    "bp.res <- run.prism(prism = myPrism, n.cores=40)\n",
    "slotNames(bp.res)"
   ]
  },
  {
   "cell_type": "code",
   "execution_count": 25,
   "id": "c74a34b2-a6bd-46bc-a97f-7a2d13e343db",
   "metadata": {},
   "outputs": [],
   "source": [
    "save(bp.res, file=\"bys1.res.rdata\")\n",
    "theta <- get.fraction(bp=bp.res,\n",
    "                       which.theta=\"final\",\n",
    "                       state.or.type=\"type\")\n",
    "write.csv(theta,file=\"bys1.csv\")            "
   ]
  },
  {
   "cell_type": "code",
   "execution_count": 5,
   "id": "bacd7922-b69a-4328-ae59-84b913b12485",
   "metadata": {},
   "outputs": [
    {
     "name": "stderr",
     "output_type": "stream",
     "text": [
      "Warning message:\n",
      "\"package 'dplyr' was built under R version 4.2.3\"\n",
      "\n",
      "Attaching package: 'dplyr'\n",
      "\n",
      "\n",
      "The following objects are masked from 'package:stats':\n",
      "\n",
      "    filter, lag\n",
      "\n",
      "\n",
      "The following objects are masked from 'package:base':\n",
      "\n",
      "    intersect, setdiff, setequal, union\n",
      "\n",
      "\n"
     ]
    }
   ],
   "source": [
    "library(dplyr)"
   ]
  },
  {
   "cell_type": "code",
   "execution_count": 15,
   "id": "b1c783ff-1d41-4b62-a2ae-5ce4027bb084",
   "metadata": {},
   "outputs": [],
   "source": [
    "theta = read.csv('./bys1.csv',row.names = 1)"
   ]
  },
  {
   "cell_type": "code",
   "execution_count": 16,
   "id": "c5747e60-864c-4826-97dc-fdce15803d2b",
   "metadata": {},
   "outputs": [],
   "source": [
    "end = theta %>%  as.data.frame() %>%  tibble::rownames_to_column(.,'sample')"
   ]
  },
  {
   "cell_type": "code",
   "execution_count": 17,
   "id": "cf840a03-7c10-4ce3-aa7f-23f8ef74a995",
   "metadata": {},
   "outputs": [],
   "source": [
    "colnames(cliinfo) = c('sample','age','Condition','sex','id','local')"
   ]
  },
  {
   "cell_type": "code",
   "execution_count": 18,
   "id": "380a947d-9673-4c8d-a528-099dde6b413d",
   "metadata": {},
   "outputs": [],
   "source": [
    "dataset = merge(cliinfo,end,by = 'sample')"
   ]
  },
  {
   "cell_type": "code",
   "execution_count": 19,
   "id": "db133536-01a1-43b3-b9db-46f656106689",
   "metadata": {},
   "outputs": [
    {
     "data": {
      "text/html": [
       "<table class=\"dataframe\">\n",
       "<caption>A data.frame: 3 x 14</caption>\n",
       "<thead>\n",
       "\t<tr><th></th><th scope=col>sample</th><th scope=col>age</th><th scope=col>Condition</th><th scope=col>sex</th><th scope=col>id</th><th scope=col>local</th><th scope=col>Mic</th><th scope=col>ExN</th><th scope=col>InN</th><th scope=col>Oli</th><th scope=col>Ast</th><th scope=col>OPC</th><th scope=col>Mix</th><th scope=col>End</th></tr>\n",
       "\t<tr><th></th><th scope=col>&lt;chr&gt;</th><th scope=col>&lt;int&gt;</th><th scope=col>&lt;chr&gt;</th><th scope=col>&lt;chr&gt;</th><th scope=col>&lt;chr&gt;</th><th scope=col>&lt;chr&gt;</th><th scope=col>&lt;dbl&gt;</th><th scope=col>&lt;dbl&gt;</th><th scope=col>&lt;dbl&gt;</th><th scope=col>&lt;dbl&gt;</th><th scope=col>&lt;dbl&gt;</th><th scope=col>&lt;dbl&gt;</th><th scope=col>&lt;dbl&gt;</th><th scope=col>&lt;dbl&gt;</th></tr>\n",
       "</thead>\n",
       "<tbody>\n",
       "\t<tr><th scope=row>1</th><td>SL32230</td><td>48</td><td>MD     </td><td>F</td><td>X3004</td><td>DLPFC</td><td>3.400473e-07</td><td>4.135841e-06</td><td>1.688875e-06</td><td>4.100534e-07</td><td>6.537344e-07</td><td>3.625471e-07</td><td>0.9952474</td><td>0.004745042</td></tr>\n",
       "\t<tr><th scope=row>2</th><td>SL32231</td><td>46</td><td>MD     </td><td>M</td><td>X3064</td><td>DLPFC</td><td>4.757581e-05</td><td>6.419899e-07</td><td>6.548511e-07</td><td>6.164043e-07</td><td>1.166543e-06</td><td>1.067597e-06</td><td>0.9941680</td><td>0.005780286</td></tr>\n",
       "\t<tr><th scope=row>3</th><td>SL32242</td><td>32</td><td>Control</td><td>M</td><td>X3186</td><td>DLPFC</td><td>3.119236e-07</td><td>2.691914e-07</td><td>2.615346e-07</td><td>7.194229e-07</td><td>3.824130e-07</td><td>2.198093e-07</td><td>0.9972417</td><td>0.002756143</td></tr>\n",
       "</tbody>\n",
       "</table>\n"
      ],
      "text/latex": [
       "A data.frame: 3 x 14\n",
       "\\begin{tabular}{r|llllllllllllll}\n",
       "  & sample & age & Condition & sex & id & local & Mic & ExN & InN & Oli & Ast & OPC & Mix & End\\\\\n",
       "  & <chr> & <int> & <chr> & <chr> & <chr> & <chr> & <dbl> & <dbl> & <dbl> & <dbl> & <dbl> & <dbl> & <dbl> & <dbl>\\\\\n",
       "\\hline\n",
       "\t1 & SL32230 & 48 & MD      & F & X3004 & DLPFC & 3.400473e-07 & 4.135841e-06 & 1.688875e-06 & 4.100534e-07 & 6.537344e-07 & 3.625471e-07 & 0.9952474 & 0.004745042\\\\\n",
       "\t2 & SL32231 & 46 & MD      & M & X3064 & DLPFC & 4.757581e-05 & 6.419899e-07 & 6.548511e-07 & 6.164043e-07 & 1.166543e-06 & 1.067597e-06 & 0.9941680 & 0.005780286\\\\\n",
       "\t3 & SL32242 & 32 & Control & M & X3186 & DLPFC & 3.119236e-07 & 2.691914e-07 & 2.615346e-07 & 7.194229e-07 & 3.824130e-07 & 2.198093e-07 & 0.9972417 & 0.002756143\\\\\n",
       "\\end{tabular}\n"
      ],
      "text/markdown": [
       "\n",
       "A data.frame: 3 x 14\n",
       "\n",
       "| <!--/--> | sample &lt;chr&gt; | age &lt;int&gt; | Condition &lt;chr&gt; | sex &lt;chr&gt; | id &lt;chr&gt; | local &lt;chr&gt; | Mic &lt;dbl&gt; | ExN &lt;dbl&gt; | InN &lt;dbl&gt; | Oli &lt;dbl&gt; | Ast &lt;dbl&gt; | OPC &lt;dbl&gt; | Mix &lt;dbl&gt; | End &lt;dbl&gt; |\n",
       "|---|---|---|---|---|---|---|---|---|---|---|---|---|---|---|\n",
       "| 1 | SL32230 | 48 | MD      | F | X3004 | DLPFC | 3.400473e-07 | 4.135841e-06 | 1.688875e-06 | 4.100534e-07 | 6.537344e-07 | 3.625471e-07 | 0.9952474 | 0.004745042 |\n",
       "| 2 | SL32231 | 46 | MD      | M | X3064 | DLPFC | 4.757581e-05 | 6.419899e-07 | 6.548511e-07 | 6.164043e-07 | 1.166543e-06 | 1.067597e-06 | 0.9941680 | 0.005780286 |\n",
       "| 3 | SL32242 | 32 | Control | M | X3186 | DLPFC | 3.119236e-07 | 2.691914e-07 | 2.615346e-07 | 7.194229e-07 | 3.824130e-07 | 2.198093e-07 | 0.9972417 | 0.002756143 |\n",
       "\n"
      ],
      "text/plain": [
       "  sample  age Condition sex id    local Mic          ExN          InN         \n",
       "1 SL32230 48  MD        F   X3004 DLPFC 3.400473e-07 4.135841e-06 1.688875e-06\n",
       "2 SL32231 46  MD        M   X3064 DLPFC 4.757581e-05 6.419899e-07 6.548511e-07\n",
       "3 SL32242 32  Control   M   X3186 DLPFC 3.119236e-07 2.691914e-07 2.615346e-07\n",
       "  Oli          Ast          OPC          Mix       End        \n",
       "1 4.100534e-07 6.537344e-07 3.625471e-07 0.9952474 0.004745042\n",
       "2 6.164043e-07 1.166543e-06 1.067597e-06 0.9941680 0.005780286\n",
       "3 7.194229e-07 3.824130e-07 2.198093e-07 0.9972417 0.002756143"
      ]
     },
     "metadata": {},
     "output_type": "display_data"
    }
   ],
   "source": [
    "head(dataset,3)"
   ]
  },
  {
   "cell_type": "code",
   "execution_count": 20,
   "id": "f60b5729-089b-4206-aea1-ca69695149b2",
   "metadata": {},
   "outputs": [],
   "source": [
    "my_comparisons = list(c('Contreol','MD'))"
   ]
  },
  {
   "cell_type": "code",
   "execution_count": 22,
   "id": "d35b7e5c-1ef5-4b38-aacf-e3c764f0b086",
   "metadata": {},
   "outputs": [
    {
     "name": "stderr",
     "output_type": "stream",
     "text": [
      "Warning message:\n",
      "\"package 'ggpubr' was built under R version 4.2.3\"\n",
      "Loading required package: ggplot2\n",
      "\n",
      "Warning message:\n",
      "\"package 'ggplot2' was built under R version 4.2.3\"\n"
     ]
    }
   ],
   "source": [
    "library(ggpubr)"
   ]
  },
  {
   "cell_type": "code",
   "execution_count": 27,
   "id": "305372a8-86cc-445c-b31b-38f92379a971",
   "metadata": {},
   "outputs": [
    {
     "data": {
      "image/png": "[encoded data removed]",
      "text/plain": [
       "plot without title"
      ]
     },
     "metadata": {
      "image/png": {
       "height": 420,
       "width": 420
      }
     },
     "output_type": "display_data"
    }
   ],
   "source": [
    "dataset %>% \n",
    "  #dplyr::filter(group %in% c(\"IBC\",\"N\",\"DCIS\")) %>% \n",
    "  ggviolin(x = \"Condition\", y = c(colnames(dataset)[7:14]), fill = \"Condition\",\n",
    "           combine = T,\n",
    "         #palette = c(\"#00AFBB\", \"#E7B800\", \"#FC4E07\"),##\n",
    "         ylab=\"Normalized Expression\",\n",
    "         add = \"boxplot\", add.params = list(fill = \"white\"))+\n",
    "stat_compare_means()"
   ]
  },
  {
   "cell_type": "code",
   "execution_count": 30,
   "id": "b053eeb2-7739-4493-950c-6e2b28d2b4eb",
   "metadata": {},
   "outputs": [],
   "source": [
    "ggsave('violin_plot1.pdf',height = 10,width = 8)"
   ]
  },
  {
   "cell_type": "code",
   "execution_count": null,
   "id": "03beb3e8-0f14-47ad-9f1c-a76f12fef989",
   "metadata": {},
   "outputs": [],
   "source": []
  },
  {
   "cell_type": "code",
   "execution_count": null,
   "id": "f7d6c291-10be-4c43-b6d1-3ac24d3edaba",
   "metadata": {},
   "outputs": [],
   "source": []
  }
 ],
 "metadata": {
  "kernelspec": {
   "display_name": "R",
   "language": "R",
   "name": "ir"
  },
  "language_info": {
   "codemirror_mode": "r",
   "file_extension": ".r",
   "mimetype": "text/x-r-source",
   "name": "R",
   "pygments_lexer": "r",
   "version": "4.2.1"
  }
 },
 "nbformat": 4,
 "nbformat_minor": 5
}
