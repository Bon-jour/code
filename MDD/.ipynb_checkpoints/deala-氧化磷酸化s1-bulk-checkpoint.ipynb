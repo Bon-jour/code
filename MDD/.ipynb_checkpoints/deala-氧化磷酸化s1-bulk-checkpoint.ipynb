{
 "cells": [
  {
   "cell_type": "code",
   "execution_count": 1,
   "id": "d8c67019-2ede-4772-83b6-489a2907c891",
   "metadata": {},
   "outputs": [],
   "source": [
    "setwd('/import/GSE213982_fel/')"
   ]
  },
  {
   "cell_type": "code",
   "execution_count": 3,
   "id": "ab897830-5584-4fee-acde-56a27ec8719e",
   "metadata": {},
   "outputs": [
    {
     "name": "stderr",
     "output_type": "stream",
     "text": [
      "Warning message:\n",
      "\"package 'Seurat' was built under R version 4.2.3\"\n",
      "The legacy packages maptools, rgdal, and rgeos, underpinning the sp package,\n",
      "which was just loaded, will retire in October 2023.\n",
      "Please refer to R-spatial evolution reports for details, especially\n",
      "https://r-spatial.org/r/2023/05/15/evolution4.html.\n",
      "It may be desirable to make the sf package available;\n",
      "package maintainers should consider adding sf to Suggests:.\n",
      "The sp package is now running under evolution status 2\n",
      "     (status 2 uses the sf package in place of rgdal)\n",
      "\n",
      "Attaching SeuratObject\n",
      "\n"
     ]
    }
   ],
   "source": [
    "library(Seurat)\n",
    "options(stringsAsFactors = FALSE)"
   ]
  },
  {
   "cell_type": "code",
   "execution_count": 4,
   "id": "b549e550-d851-4752-ac4a-318d3c6f395a",
   "metadata": {},
   "outputs": [],
   "source": [
    "sce = readRDS('/import/GSE213982_fel/final.rds')"
   ]
  },
  {
   "cell_type": "code",
   "execution_count": 31,
   "id": "e2a663ea-33eb-47a1-a945-72c86a92c1f2",
   "metadata": {},
   "outputs": [
    {
     "name": "stderr",
     "output_type": "stream",
     "text": [
      "Warning message in asMethod(object):\n",
      "\"sparse->dense coercion: allocating vector of size 40.2 GiB\"\n"
     ]
    }
   ],
   "source": [
    "a = grep('ATP',rownames(as.matrix(sce@assays$RNA@counts)),value = TRUE)"
   ]
  },
  {
   "cell_type": "code",
   "execution_count": null,
   "id": "0822a54d-1e6c-4c13-89bd-fb1926d44916",
   "metadata": {},
   "outputs": [],
   "source": []
  },
  {
   "cell_type": "code",
   "execution_count": 32,
   "id": "f363bb98-8a96-45a5-aa6f-1948f1016634",
   "metadata": {},
   "outputs": [
    {
     "data": {
      "text/html": [
       "<style>\n",
       ".list-inline {list-style: none; margin:0; padding: 0}\n",
       ".list-inline>li {display: inline-block}\n",
       ".list-inline>li:not(:last-child)::after {content: \"\\00b7\"; padding: 0 .5ex}\n",
       "</style>\n",
       "<ol class=list-inline><li>'ATP13A2'</li><li>'ATP5IF1'</li><li>'ATP6V0B'</li><li>'ATPAF1'</li><li>'ATP5PB'</li><li>'ATP1A1'</li><li>'ATP1A1-AS1'</li><li>'ATP8B2'</li><li>'ATP1A2'</li><li>'ATP1A4'</li><li>'ATP1B1'</li><li>'ATP6V1G3'</li><li>'ATP2B4'</li><li>'ATP6V1C2'</li><li>'ATP6V1E2'</li><li>'ATP6V1B1'</li><li>'ATP5MC3'</li><li>'ATP2B2'</li><li>'ATP2B2-IT1'</li><li>'ATP2B2-IT2'</li><li>'ATP6V1A'</li><li>'ATP2C1'</li><li>'ATP1B3'</li><li>'ATP1B3-AS1'</li><li>'ATP11B'</li><li>'ATP13A5'</li><li>'ATP13A5-AS1'</li><li>'ATP13A4'</li><li>'ATP13A4-AS1'</li><li>'ATP13A3'</li><li>'ATP5ME'</li><li>'ATP8A1'</li><li>'ATP10D'</li><li>'ATPSCKMT'</li><li>'ATP6AP1L'</li><li>'ATP10B'</li><li>'ATP6V0E1'</li><li>'ATP6V1G2'</li><li>'ATP5MF'</li><li>'ATP6V1F'</li><li>'ATP6V1FNB'</li><li>'ATP6V0A4'</li><li>'ATP6V0E2-AS1'</li><li>'ATP6V0E2'</li><li>'ATP6V1B2'</li><li>'ATP6V1H'</li><li>'ATP6V0D2'</li><li>'ATP6V1C1'</li><li>'ATP6V1G1'</li><li>'ATP5F1C'</li><li>'IATPR'</li><li>'ATP5MD'</li><li>'ATP5MG'</li><li>'ATP5MC2'</li><li>'ATP5F1B'</li><li>'ATP23'</li><li>'ATP2B1'</li><li>'ATP2B1-AS1'</li><li>'ATP2A2'</li><li>'ATP6V0A2'</li><li>'ATP12A'</li><li>'ATP8A2'</li><li>'ATP7B'</li><li>'ATP11AUN'</li><li>'ATP11A'</li><li>'ATP11A-AS1'</li><li>'ATP4B'</li><li>'ATP6V1D'</li><li>'ATP5MPL'</li><li>'ATP10A'</li><li>'ATP8B4'</li><li>'ATP6V0C'</li><li>'ATP2A1'</li><li>'ATP2A1-AS1'</li><li>'ATP6V0D1'</li><li>'ATP2C2'</li><li>'ATP2C2-AS1'</li><li>'ATP2A3'</li><li>'ATP1B2'</li><li>'ATPAF2'</li><li>'ATP6V0A1'</li><li>'ATP5MC1'</li><li>'ATP5PD'</li><li>'ATP5F1A'</li><li>'ATP8B1'</li><li>'ATP9B'</li><li>'ATP5F1D'</li><li>'ATP8B3'</li><li>'ATP13A1'</li><li>'ATP4A'</li><li>'ATP1A3'</li><li>'ATP9A'</li><li>'ATP5F1E'</li><li>'ATP5PF'</li><li>'ATP5PO'</li><li>'ATP6V1E1'</li><li>'ATP5MGL'</li><li>'ATP6AP2'</li><li>'ATP7A'</li><li>'ATP1B4'</li><li>'ATP11C'</li><li>'ATP2B3'</li><li>'ATP6AP1'</li></ol>\n"
      ],
      "text/latex": [
       "\\begin{enumerate*}\n",
       "\\item 'ATP13A2'\n",
       "\\item 'ATP5IF1'\n",
       "\\item 'ATP6V0B'\n",
       "\\item 'ATPAF1'\n",
       "\\item 'ATP5PB'\n",
       "\\item 'ATP1A1'\n",
       "\\item 'ATP1A1-AS1'\n",
       "\\item 'ATP8B2'\n",
       "\\item 'ATP1A2'\n",
       "\\item 'ATP1A4'\n",
       "\\item 'ATP1B1'\n",
       "\\item 'ATP6V1G3'\n",
       "\\item 'ATP2B4'\n",
       "\\item 'ATP6V1C2'\n",
       "\\item 'ATP6V1E2'\n",
       "\\item 'ATP6V1B1'\n",
       "\\item 'ATP5MC3'\n",
       "\\item 'ATP2B2'\n",
       "\\item 'ATP2B2-IT1'\n",
       "\\item 'ATP2B2-IT2'\n",
       "\\item 'ATP6V1A'\n",
       "\\item 'ATP2C1'\n",
       "\\item 'ATP1B3'\n",
       "\\item 'ATP1B3-AS1'\n",
       "\\item 'ATP11B'\n",
       "\\item 'ATP13A5'\n",
       "\\item 'ATP13A5-AS1'\n",
       "\\item 'ATP13A4'\n",
       "\\item 'ATP13A4-AS1'\n",
       "\\item 'ATP13A3'\n",
       "\\item 'ATP5ME'\n",
       "\\item 'ATP8A1'\n",
       "\\item 'ATP10D'\n",
       "\\item 'ATPSCKMT'\n",
       "\\item 'ATP6AP1L'\n",
       "\\item 'ATP10B'\n",
       "\\item 'ATP6V0E1'\n",
       "\\item 'ATP6V1G2'\n",
       "\\item 'ATP5MF'\n",
       "\\item 'ATP6V1F'\n",
       "\\item 'ATP6V1FNB'\n",
       "\\item 'ATP6V0A4'\n",
       "\\item 'ATP6V0E2-AS1'\n",
       "\\item 'ATP6V0E2'\n",
       "\\item 'ATP6V1B2'\n",
       "\\item 'ATP6V1H'\n",
       "\\item 'ATP6V0D2'\n",
       "\\item 'ATP6V1C1'\n",
       "\\item 'ATP6V1G1'\n",
       "\\item 'ATP5F1C'\n",
       "\\item 'IATPR'\n",
       "\\item 'ATP5MD'\n",
       "\\item 'ATP5MG'\n",
       "\\item 'ATP5MC2'\n",
       "\\item 'ATP5F1B'\n",
       "\\item 'ATP23'\n",
       "\\item 'ATP2B1'\n",
       "\\item 'ATP2B1-AS1'\n",
       "\\item 'ATP2A2'\n",
       "\\item 'ATP6V0A2'\n",
       "\\item 'ATP12A'\n",
       "\\item 'ATP8A2'\n",
       "\\item 'ATP7B'\n",
       "\\item 'ATP11AUN'\n",
       "\\item 'ATP11A'\n",
       "\\item 'ATP11A-AS1'\n",
       "\\item 'ATP4B'\n",
       "\\item 'ATP6V1D'\n",
       "\\item 'ATP5MPL'\n",
       "\\item 'ATP10A'\n",
       "\\item 'ATP8B4'\n",
       "\\item 'ATP6V0C'\n",
       "\\item 'ATP2A1'\n",
       "\\item 'ATP2A1-AS1'\n",
       "\\item 'ATP6V0D1'\n",
       "\\item 'ATP2C2'\n",
       "\\item 'ATP2C2-AS1'\n",
       "\\item 'ATP2A3'\n",
       "\\item 'ATP1B2'\n",
       "\\item 'ATPAF2'\n",
       "\\item 'ATP6V0A1'\n",
       "\\item 'ATP5MC1'\n",
       "\\item 'ATP5PD'\n",
       "\\item 'ATP5F1A'\n",
       "\\item 'ATP8B1'\n",
       "\\item 'ATP9B'\n",
       "\\item 'ATP5F1D'\n",
       "\\item 'ATP8B3'\n",
       "\\item 'ATP13A1'\n",
       "\\item 'ATP4A'\n",
       "\\item 'ATP1A3'\n",
       "\\item 'ATP9A'\n",
       "\\item 'ATP5F1E'\n",
       "\\item 'ATP5PF'\n",
       "\\item 'ATP5PO'\n",
       "\\item 'ATP6V1E1'\n",
       "\\item 'ATP5MGL'\n",
       "\\item 'ATP6AP2'\n",
       "\\item 'ATP7A'\n",
       "\\item 'ATP1B4'\n",
       "\\item 'ATP11C'\n",
       "\\item 'ATP2B3'\n",
       "\\item 'ATP6AP1'\n",
       "\\end{enumerate*}\n"
      ],
      "text/markdown": [
       "1. 'ATP13A2'\n",
       "2. 'ATP5IF1'\n",
       "3. 'ATP6V0B'\n",
       "4. 'ATPAF1'\n",
       "5. 'ATP5PB'\n",
       "6. 'ATP1A1'\n",
       "7. 'ATP1A1-AS1'\n",
       "8. 'ATP8B2'\n",
       "9. 'ATP1A2'\n",
       "10. 'ATP1A4'\n",
       "11. 'ATP1B1'\n",
       "12. 'ATP6V1G3'\n",
       "13. 'ATP2B4'\n",
       "14. 'ATP6V1C2'\n",
       "15. 'ATP6V1E2'\n",
       "16. 'ATP6V1B1'\n",
       "17. 'ATP5MC3'\n",
       "18. 'ATP2B2'\n",
       "19. 'ATP2B2-IT1'\n",
       "20. 'ATP2B2-IT2'\n",
       "21. 'ATP6V1A'\n",
       "22. 'ATP2C1'\n",
       "23. 'ATP1B3'\n",
       "24. 'ATP1B3-AS1'\n",
       "25. 'ATP11B'\n",
       "26. 'ATP13A5'\n",
       "27. 'ATP13A5-AS1'\n",
       "28. 'ATP13A4'\n",
       "29. 'ATP13A4-AS1'\n",
       "30. 'ATP13A3'\n",
       "31. 'ATP5ME'\n",
       "32. 'ATP8A1'\n",
       "33. 'ATP10D'\n",
       "34. 'ATPSCKMT'\n",
       "35. 'ATP6AP1L'\n",
       "36. 'ATP10B'\n",
       "37. 'ATP6V0E1'\n",
       "38. 'ATP6V1G2'\n",
       "39. 'ATP5MF'\n",
       "40. 'ATP6V1F'\n",
       "41. 'ATP6V1FNB'\n",
       "42. 'ATP6V0A4'\n",
       "43. 'ATP6V0E2-AS1'\n",
       "44. 'ATP6V0E2'\n",
       "45. 'ATP6V1B2'\n",
       "46. 'ATP6V1H'\n",
       "47. 'ATP6V0D2'\n",
       "48. 'ATP6V1C1'\n",
       "49. 'ATP6V1G1'\n",
       "50. 'ATP5F1C'\n",
       "51. 'IATPR'\n",
       "52. 'ATP5MD'\n",
       "53. 'ATP5MG'\n",
       "54. 'ATP5MC2'\n",
       "55. 'ATP5F1B'\n",
       "56. 'ATP23'\n",
       "57. 'ATP2B1'\n",
       "58. 'ATP2B1-AS1'\n",
       "59. 'ATP2A2'\n",
       "60. 'ATP6V0A2'\n",
       "61. 'ATP12A'\n",
       "62. 'ATP8A2'\n",
       "63. 'ATP7B'\n",
       "64. 'ATP11AUN'\n",
       "65. 'ATP11A'\n",
       "66. 'ATP11A-AS1'\n",
       "67. 'ATP4B'\n",
       "68. 'ATP6V1D'\n",
       "69. 'ATP5MPL'\n",
       "70. 'ATP10A'\n",
       "71. 'ATP8B4'\n",
       "72. 'ATP6V0C'\n",
       "73. 'ATP2A1'\n",
       "74. 'ATP2A1-AS1'\n",
       "75. 'ATP6V0D1'\n",
       "76. 'ATP2C2'\n",
       "77. 'ATP2C2-AS1'\n",
       "78. 'ATP2A3'\n",
       "79. 'ATP1B2'\n",
       "80. 'ATPAF2'\n",
       "81. 'ATP6V0A1'\n",
       "82. 'ATP5MC1'\n",
       "83. 'ATP5PD'\n",
       "84. 'ATP5F1A'\n",
       "85. 'ATP8B1'\n",
       "86. 'ATP9B'\n",
       "87. 'ATP5F1D'\n",
       "88. 'ATP8B3'\n",
       "89. 'ATP13A1'\n",
       "90. 'ATP4A'\n",
       "91. 'ATP1A3'\n",
       "92. 'ATP9A'\n",
       "93. 'ATP5F1E'\n",
       "94. 'ATP5PF'\n",
       "95. 'ATP5PO'\n",
       "96. 'ATP6V1E1'\n",
       "97. 'ATP5MGL'\n",
       "98. 'ATP6AP2'\n",
       "99. 'ATP7A'\n",
       "100. 'ATP1B4'\n",
       "101. 'ATP11C'\n",
       "102. 'ATP2B3'\n",
       "103. 'ATP6AP1'\n",
       "\n",
       "\n"
      ],
      "text/plain": [
       "  [1] \"ATP13A2\"      \"ATP5IF1\"      \"ATP6V0B\"      \"ATPAF1\"       \"ATP5PB\"      \n",
       "  [6] \"ATP1A1\"       \"ATP1A1-AS1\"   \"ATP8B2\"       \"ATP1A2\"       \"ATP1A4\"      \n",
       " [11] \"ATP1B1\"       \"ATP6V1G3\"     \"ATP2B4\"       \"ATP6V1C2\"     \"ATP6V1E2\"    \n",
       " [16] \"ATP6V1B1\"     \"ATP5MC3\"      \"ATP2B2\"       \"ATP2B2-IT1\"   \"ATP2B2-IT2\"  \n",
       " [21] \"ATP6V1A\"      \"ATP2C1\"       \"ATP1B3\"       \"ATP1B3-AS1\"   \"ATP11B\"      \n",
       " [26] \"ATP13A5\"      \"ATP13A5-AS1\"  \"ATP13A4\"      \"ATP13A4-AS1\"  \"ATP13A3\"     \n",
       " [31] \"ATP5ME\"       \"ATP8A1\"       \"ATP10D\"       \"ATPSCKMT\"     \"ATP6AP1L\"    \n",
       " [36] \"ATP10B\"       \"ATP6V0E1\"     \"ATP6V1G2\"     \"ATP5MF\"       \"ATP6V1F\"     \n",
       " [41] \"ATP6V1FNB\"    \"ATP6V0A4\"     \"ATP6V0E2-AS1\" \"ATP6V0E2\"     \"ATP6V1B2\"    \n",
       " [46] \"ATP6V1H\"      \"ATP6V0D2\"     \"ATP6V1C1\"     \"ATP6V1G1\"     \"ATP5F1C\"     \n",
       " [51] \"IATPR\"        \"ATP5MD\"       \"ATP5MG\"       \"ATP5MC2\"      \"ATP5F1B\"     \n",
       " [56] \"ATP23\"        \"ATP2B1\"       \"ATP2B1-AS1\"   \"ATP2A2\"       \"ATP6V0A2\"    \n",
       " [61] \"ATP12A\"       \"ATP8A2\"       \"ATP7B\"        \"ATP11AUN\"     \"ATP11A\"      \n",
       " [66] \"ATP11A-AS1\"   \"ATP4B\"        \"ATP6V1D\"      \"ATP5MPL\"      \"ATP10A\"      \n",
       " [71] \"ATP8B4\"       \"ATP6V0C\"      \"ATP2A1\"       \"ATP2A1-AS1\"   \"ATP6V0D1\"    \n",
       " [76] \"ATP2C2\"       \"ATP2C2-AS1\"   \"ATP2A3\"       \"ATP1B2\"       \"ATPAF2\"      \n",
       " [81] \"ATP6V0A1\"     \"ATP5MC1\"      \"ATP5PD\"       \"ATP5F1A\"      \"ATP8B1\"      \n",
       " [86] \"ATP9B\"        \"ATP5F1D\"      \"ATP8B3\"       \"ATP13A1\"      \"ATP4A\"       \n",
       " [91] \"ATP1A3\"       \"ATP9A\"        \"ATP5F1E\"      \"ATP5PF\"       \"ATP5PO\"      \n",
       " [96] \"ATP6V1E1\"     \"ATP5MGL\"      \"ATP6AP2\"      \"ATP7A\"        \"ATP1B4\"      \n",
       "[101] \"ATP11C\"       \"ATP2B3\"       \"ATP6AP1\"     "
      ]
     },
     "metadata": {},
     "output_type": "display_data"
    }
   ],
   "source": [
    "a"
   ]
  },
  {
   "cell_type": "code",
   "execution_count": null,
   "id": "88682cba-f085-4341-b345-753f9ed97b29",
   "metadata": {},
   "outputs": [],
   "source": []
  },
  {
   "cell_type": "code",
   "execution_count": null,
   "id": "22c5208a-f3df-46c0-8324-c0430790baaf",
   "metadata": {},
   "outputs": [],
   "source": []
  },
  {
   "cell_type": "code",
   "execution_count": null,
   "id": "b534b62e-dfee-4945-8d24-30bc12388cac",
   "metadata": {},
   "outputs": [],
   "source": []
  },
  {
   "cell_type": "code",
   "execution_count": null,
   "id": "0951478c-6113-475a-bc69-33edf42606b8",
   "metadata": {},
   "outputs": [],
   "source": []
  },
  {
   "cell_type": "code",
   "execution_count": null,
   "id": "f95b6c29-4471-4a29-819f-ceebbe5500d0",
   "metadata": {},
   "outputs": [],
   "source": []
  },
  {
   "cell_type": "code",
   "execution_count": null,
   "id": "037dca07-df9d-46a6-abd6-1467edeac2e9",
   "metadata": {},
   "outputs": [],
   "source": []
  },
  {
   "cell_type": "code",
   "execution_count": null,
   "id": "2d04fbed-d499-4050-b398-ba912b97965c",
   "metadata": {},
   "outputs": [],
   "source": []
  },
  {
   "cell_type": "code",
   "execution_count": null,
   "id": "6a321545-b3f1-47f0-b3c8-698711d40e1a",
   "metadata": {},
   "outputs": [],
   "source": []
  },
  {
   "cell_type": "code",
   "execution_count": null,
   "id": "a73f0daf-f050-4a06-ac01-ddebd8eb3323",
   "metadata": {},
   "outputs": [],
   "source": []
  },
  {
   "cell_type": "code",
   "execution_count": null,
   "id": "62b7ff9c-7beb-4888-8d22-ed871aa7e689",
   "metadata": {},
   "outputs": [],
   "source": []
  },
  {
   "cell_type": "code",
   "execution_count": 33,
   "id": "24d411ea-9758-4925-bf3f-0d86075643aa",
   "metadata": {},
   "outputs": [],
   "source": [
    "WNT_features <- list(a)"
   ]
  },
  {
   "cell_type": "code",
   "execution_count": 34,
   "id": "16433837-0e1f-4f9a-a711-c273fa01551c",
   "metadata": {},
   "outputs": [
    {
     "data": {
      "text/html": [
       "<table class=\"dataframe\">\n",
       "<caption>A data.frame: 6 x 19</caption>\n",
       "<thead>\n",
       "\t<tr><th></th><th scope=col>orig.ident</th><th scope=col>nCount_RNA</th><th scope=col>nFeature_RNA</th><th scope=col>sample</th><th scope=col>barcodeid</th><th scope=col>celltype</th><th scope=col>celltype2</th><th scope=col>nFeaturess_RNA</th><th scope=col>nFeaturess_RNA_by_counts</th><th scope=col>total_counts</th><th scope=col>total_counts_mt</th><th scope=col>pct_counts_mt</th><th scope=col>leiden</th><th scope=col>seurat_clusters</th><th scope=col>percent.mt</th><th scope=col>group</th><th scope=col>Condition</th><th scope=col>WNT_Score</th><th scope=col>WNT_features1</th></tr>\n",
       "\t<tr><th></th><th scope=col>&lt;int&gt;</th><th scope=col>&lt;dbl&gt;</th><th scope=col>&lt;dbl&gt;</th><th scope=col>&lt;fct&gt;</th><th scope=col>&lt;fct&gt;</th><th scope=col>&lt;fct&gt;</th><th scope=col>&lt;fct&gt;</th><th scope=col>&lt;dbl&gt;</th><th scope=col>&lt;int&gt;</th><th scope=col>&lt;dbl&gt;</th><th scope=col>&lt;dbl&gt;</th><th scope=col>&lt;dbl&gt;</th><th scope=col>&lt;fct&gt;</th><th scope=col>&lt;fct&gt;</th><th scope=col>&lt;dbl&gt;</th><th scope=col>&lt;chr&gt;</th><th scope=col>&lt;chr&gt;</th><th scope=col>&lt;dbl&gt;</th><th scope=col>&lt;dbl&gt;</th></tr>\n",
       "</thead>\n",
       "<tbody>\n",
       "\t<tr><th scope=row>F1.AAACCCACACCTCTGT-1.Mic.Mic1</th><td>0</td><td> 2848</td><td> 1869</td><td>F1</td><td>AAACCCACACCTCTGT-1</td><td>Mic</td><td>Mic1    </td><td> 1869</td><td> 1869</td><td> 2848</td><td>0</td><td>0</td><td>25</td><td>25</td><td>0</td><td>F</td><td>Case</td><td>-0.05120865</td><td> 0.001878895</td></tr>\n",
       "\t<tr><th scope=row>F1.AAACCCATCGGCATTA-1.ExN.ExN7</th><td>0</td><td> 4215</td><td> 2364</td><td>F1</td><td>AAACCCATCGGCATTA-1</td><td>ExN</td><td>ExN7    </td><td> 2364</td><td> 2364</td><td> 4215</td><td>0</td><td>0</td><td>7 </td><td>7 </td><td>0</td><td>F</td><td>Case</td><td> 0.07041693</td><td> 0.214281391</td></tr>\n",
       "\t<tr><th scope=row>F1.AAACGAATCAGGGTAG-1.InN.InN8_Mix</th><td>0</td><td>10982</td><td> 3991</td><td>F1</td><td>AAACGAATCAGGGTAG-1</td><td>InN</td><td>InN8_Mix</td><td> 3991</td><td> 3991</td><td>10982</td><td>0</td><td>0</td><td>22</td><td>22</td><td>0</td><td>F</td><td>Case</td><td>-0.03018659</td><td>-0.010086997</td></tr>\n",
       "\t<tr><th scope=row>F1.AAACGAATCGGAATGG-1.Oli.Oli3</th><td>0</td><td> 2499</td><td> 1566</td><td>F1</td><td>AAACGAATCGGAATGG-1</td><td>Oli</td><td>Oli3    </td><td> 1566</td><td> 1566</td><td> 2499</td><td>0</td><td>0</td><td>4 </td><td>4 </td><td>0</td><td>F</td><td>Case</td><td>-0.04475638</td><td>-0.049216600</td></tr>\n",
       "\t<tr><th scope=row>F1.AAACGCTAGGACTTCT-1.Ast.Ast1</th><td>0</td><td>  713</td><td>  589</td><td>F1</td><td>AAACGCTAGGACTTCT-1</td><td>Ast</td><td>Ast1    </td><td>  589</td><td>  589</td><td>  713</td><td>0</td><td>0</td><td>6 </td><td>6 </td><td>0</td><td>F</td><td>Case</td><td>-0.06779149</td><td>-0.009323586</td></tr>\n",
       "\t<tr><th scope=row>F1.AAACGCTGTGACTAAA-1.ExN.ExN17</th><td>0</td><td>95773</td><td>10044</td><td>F1</td><td>AAACGCTGTGACTAAA-1</td><td>ExN</td><td>ExN17   </td><td>10044</td><td>10044</td><td>95773</td><td>0</td><td>0</td><td>3 </td><td>3 </td><td>0</td><td>F</td><td>Case</td><td>-0.09177877</td><td>-0.068299913</td></tr>\n",
       "</tbody>\n",
       "</table>\n"
      ],
      "text/latex": [
       "A data.frame: 6 x 19\n",
       "\\begin{tabular}{r|lllllllllllllllllll}\n",
       "  & orig.ident & nCount\\_RNA & nFeature\\_RNA & sample & barcodeid & celltype & celltype2 & nFeaturess\\_RNA & nFeaturess\\_RNA\\_by\\_counts & total\\_counts & total\\_counts\\_mt & pct\\_counts\\_mt & leiden & seurat\\_clusters & percent.mt & group & Condition & WNT\\_Score & WNT\\_features1\\\\\n",
       "  & <int> & <dbl> & <dbl> & <fct> & <fct> & <fct> & <fct> & <dbl> & <int> & <dbl> & <dbl> & <dbl> & <fct> & <fct> & <dbl> & <chr> & <chr> & <dbl> & <dbl>\\\\\n",
       "\\hline\n",
       "\tF1.AAACCCACACCTCTGT-1.Mic.Mic1 & 0 &  2848 &  1869 & F1 & AAACCCACACCTCTGT-1 & Mic & Mic1     &  1869 &  1869 &  2848 & 0 & 0 & 25 & 25 & 0 & F & Case & -0.05120865 &  0.001878895\\\\\n",
       "\tF1.AAACCCATCGGCATTA-1.ExN.ExN7 & 0 &  4215 &  2364 & F1 & AAACCCATCGGCATTA-1 & ExN & ExN7     &  2364 &  2364 &  4215 & 0 & 0 & 7  & 7  & 0 & F & Case &  0.07041693 &  0.214281391\\\\\n",
       "\tF1.AAACGAATCAGGGTAG-1.InN.InN8\\_Mix & 0 & 10982 &  3991 & F1 & AAACGAATCAGGGTAG-1 & InN & InN8\\_Mix &  3991 &  3991 & 10982 & 0 & 0 & 22 & 22 & 0 & F & Case & -0.03018659 & -0.010086997\\\\\n",
       "\tF1.AAACGAATCGGAATGG-1.Oli.Oli3 & 0 &  2499 &  1566 & F1 & AAACGAATCGGAATGG-1 & Oli & Oli3     &  1566 &  1566 &  2499 & 0 & 0 & 4  & 4  & 0 & F & Case & -0.04475638 & -0.049216600\\\\\n",
       "\tF1.AAACGCTAGGACTTCT-1.Ast.Ast1 & 0 &   713 &   589 & F1 & AAACGCTAGGACTTCT-1 & Ast & Ast1     &   589 &   589 &   713 & 0 & 0 & 6  & 6  & 0 & F & Case & -0.06779149 & -0.009323586\\\\\n",
       "\tF1.AAACGCTGTGACTAAA-1.ExN.ExN17 & 0 & 95773 & 10044 & F1 & AAACGCTGTGACTAAA-1 & ExN & ExN17    & 10044 & 10044 & 95773 & 0 & 0 & 3  & 3  & 0 & F & Case & -0.09177877 & -0.068299913\\\\\n",
       "\\end{tabular}\n"
      ],
      "text/markdown": [
       "\n",
       "A data.frame: 6 x 19\n",
       "\n",
       "| <!--/--> | orig.ident &lt;int&gt; | nCount_RNA &lt;dbl&gt; | nFeature_RNA &lt;dbl&gt; | sample &lt;fct&gt; | barcodeid &lt;fct&gt; | celltype &lt;fct&gt; | celltype2 &lt;fct&gt; | nFeaturess_RNA &lt;dbl&gt; | nFeaturess_RNA_by_counts &lt;int&gt; | total_counts &lt;dbl&gt; | total_counts_mt &lt;dbl&gt; | pct_counts_mt &lt;dbl&gt; | leiden &lt;fct&gt; | seurat_clusters &lt;fct&gt; | percent.mt &lt;dbl&gt; | group &lt;chr&gt; | Condition &lt;chr&gt; | WNT_Score &lt;dbl&gt; | WNT_features1 &lt;dbl&gt; |\n",
       "|---|---|---|---|---|---|---|---|---|---|---|---|---|---|---|---|---|---|---|---|\n",
       "| F1.AAACCCACACCTCTGT-1.Mic.Mic1 | 0 |  2848 |  1869 | F1 | AAACCCACACCTCTGT-1 | Mic | Mic1     |  1869 |  1869 |  2848 | 0 | 0 | 25 | 25 | 0 | F | Case | -0.05120865 |  0.001878895 |\n",
       "| F1.AAACCCATCGGCATTA-1.ExN.ExN7 | 0 |  4215 |  2364 | F1 | AAACCCATCGGCATTA-1 | ExN | ExN7     |  2364 |  2364 |  4215 | 0 | 0 | 7  | 7  | 0 | F | Case |  0.07041693 |  0.214281391 |\n",
       "| F1.AAACGAATCAGGGTAG-1.InN.InN8_Mix | 0 | 10982 |  3991 | F1 | AAACGAATCAGGGTAG-1 | InN | InN8_Mix |  3991 |  3991 | 10982 | 0 | 0 | 22 | 22 | 0 | F | Case | -0.03018659 | -0.010086997 |\n",
       "| F1.AAACGAATCGGAATGG-1.Oli.Oli3 | 0 |  2499 |  1566 | F1 | AAACGAATCGGAATGG-1 | Oli | Oli3     |  1566 |  1566 |  2499 | 0 | 0 | 4  | 4  | 0 | F | Case | -0.04475638 | -0.049216600 |\n",
       "| F1.AAACGCTAGGACTTCT-1.Ast.Ast1 | 0 |   713 |   589 | F1 | AAACGCTAGGACTTCT-1 | Ast | Ast1     |   589 |   589 |   713 | 0 | 0 | 6  | 6  | 0 | F | Case | -0.06779149 | -0.009323586 |\n",
       "| F1.AAACGCTGTGACTAAA-1.ExN.ExN17 | 0 | 95773 | 10044 | F1 | AAACGCTGTGACTAAA-1 | ExN | ExN17    | 10044 | 10044 | 95773 | 0 | 0 | 3  | 3  | 0 | F | Case | -0.09177877 | -0.068299913 |\n",
       "\n"
      ],
      "text/plain": [
       "                                   orig.ident nCount_RNA nFeature_RNA sample\n",
       "F1.AAACCCACACCTCTGT-1.Mic.Mic1     0           2848       1869        F1    \n",
       "F1.AAACCCATCGGCATTA-1.ExN.ExN7     0           4215       2364        F1    \n",
       "F1.AAACGAATCAGGGTAG-1.InN.InN8_Mix 0          10982       3991        F1    \n",
       "F1.AAACGAATCGGAATGG-1.Oli.Oli3     0           2499       1566        F1    \n",
       "F1.AAACGCTAGGACTTCT-1.Ast.Ast1     0            713        589        F1    \n",
       "F1.AAACGCTGTGACTAAA-1.ExN.ExN17    0          95773      10044        F1    \n",
       "                                   barcodeid          celltype celltype2\n",
       "F1.AAACCCACACCTCTGT-1.Mic.Mic1     AAACCCACACCTCTGT-1 Mic      Mic1     \n",
       "F1.AAACCCATCGGCATTA-1.ExN.ExN7     AAACCCATCGGCATTA-1 ExN      ExN7     \n",
       "F1.AAACGAATCAGGGTAG-1.InN.InN8_Mix AAACGAATCAGGGTAG-1 InN      InN8_Mix \n",
       "F1.AAACGAATCGGAATGG-1.Oli.Oli3     AAACGAATCGGAATGG-1 Oli      Oli3     \n",
       "F1.AAACGCTAGGACTTCT-1.Ast.Ast1     AAACGCTAGGACTTCT-1 Ast      Ast1     \n",
       "F1.AAACGCTGTGACTAAA-1.ExN.ExN17    AAACGCTGTGACTAAA-1 ExN      ExN17    \n",
       "                                   nFeaturess_RNA nFeaturess_RNA_by_counts\n",
       "F1.AAACCCACACCTCTGT-1.Mic.Mic1      1869           1869                   \n",
       "F1.AAACCCATCGGCATTA-1.ExN.ExN7      2364           2364                   \n",
       "F1.AAACGAATCAGGGTAG-1.InN.InN8_Mix  3991           3991                   \n",
       "F1.AAACGAATCGGAATGG-1.Oli.Oli3      1566           1566                   \n",
       "F1.AAACGCTAGGACTTCT-1.Ast.Ast1       589            589                   \n",
       "F1.AAACGCTGTGACTAAA-1.ExN.ExN17    10044          10044                   \n",
       "                                   total_counts total_counts_mt pct_counts_mt\n",
       "F1.AAACCCACACCTCTGT-1.Mic.Mic1      2848        0               0            \n",
       "F1.AAACCCATCGGCATTA-1.ExN.ExN7      4215        0               0            \n",
       "F1.AAACGAATCAGGGTAG-1.InN.InN8_Mix 10982        0               0            \n",
       "F1.AAACGAATCGGAATGG-1.Oli.Oli3      2499        0               0            \n",
       "F1.AAACGCTAGGACTTCT-1.Ast.Ast1       713        0               0            \n",
       "F1.AAACGCTGTGACTAAA-1.ExN.ExN17    95773        0               0            \n",
       "                                   leiden seurat_clusters percent.mt group\n",
       "F1.AAACCCACACCTCTGT-1.Mic.Mic1     25     25              0          F    \n",
       "F1.AAACCCATCGGCATTA-1.ExN.ExN7     7      7               0          F    \n",
       "F1.AAACGAATCAGGGTAG-1.InN.InN8_Mix 22     22              0          F    \n",
       "F1.AAACGAATCGGAATGG-1.Oli.Oli3     4      4               0          F    \n",
       "F1.AAACGCTAGGACTTCT-1.Ast.Ast1     6      6               0          F    \n",
       "F1.AAACGCTGTGACTAAA-1.ExN.ExN17    3      3               0          F    \n",
       "                                   Condition WNT_Score   WNT_features1\n",
       "F1.AAACCCACACCTCTGT-1.Mic.Mic1     Case      -0.05120865  0.001878895 \n",
       "F1.AAACCCATCGGCATTA-1.ExN.ExN7     Case       0.07041693  0.214281391 \n",
       "F1.AAACGAATCAGGGTAG-1.InN.InN8_Mix Case      -0.03018659 -0.010086997 \n",
       "F1.AAACGAATCGGAATGG-1.Oli.Oli3     Case      -0.04475638 -0.049216600 \n",
       "F1.AAACGCTAGGACTTCT-1.Ast.Ast1     Case      -0.06779149 -0.009323586 \n",
       "F1.AAACGCTGTGACTAAA-1.ExN.ExN17    Case      -0.09177877 -0.068299913 "
      ]
     },
     "metadata": {},
     "output_type": "display_data"
    }
   ],
   "source": [
    "sce <- AddModuleScore(sce,\n",
    "                          features = WNT_features,\n",
    "                          ctrl = 100,\n",
    "                          name = \"WNT_features\")\n",
    "head(sce@meta.data)\n",
    "#这里就得到了基因集评分结果，但是注意列名为 WNT_features1"
   ]
  },
  {
   "cell_type": "code",
   "execution_count": 36,
   "id": "0ac68a9a-3b77-49b6-bda5-3e5e54eb7c75",
   "metadata": {},
   "outputs": [
    {
     "data": {
      "text/html": [
       "<style>\n",
       ".list-inline {list-style: none; margin:0; padding: 0}\n",
       ".list-inline>li {display: inline-block}\n",
       ".list-inline>li:not(:last-child)::after {content: \"\\00b7\"; padding: 0 .5ex}\n",
       "</style>\n",
       "<ol class=list-inline><li>160711</li><li>19</li></ol>\n"
      ],
      "text/latex": [
       "\\begin{enumerate*}\n",
       "\\item 160711\n",
       "\\item 19\n",
       "\\end{enumerate*}\n"
      ],
      "text/markdown": [
       "1. 160711\n",
       "2. 19\n",
       "\n",
       "\n"
      ],
      "text/plain": [
       "[1] 160711     19"
      ]
     },
     "metadata": {},
     "output_type": "display_data"
    }
   ],
   "source": [
    "dim(sce@meta.data)"
   ]
  },
  {
   "cell_type": "code",
   "execution_count": null,
   "id": "a9e4e0db-f1a7-4786-ab0d-ca5b6b63803d",
   "metadata": {},
   "outputs": [],
   "source": []
  },
  {
   "cell_type": "code",
   "execution_count": 60,
   "id": "0754251e-3894-4ced-bdc8-880f25779c03",
   "metadata": {},
   "outputs": [],
   "source": [
    "colnames(sce@meta.data)[19] <- 'WNT_Score'\n",
    "\n",
    "Idents(sce) = 'celltype'\n",
    "\n",
    "Neo = subset(sce,idents = c('InN','ExN'))\n",
    "\n",
    "Neo$tp = paste0(Neo$group,'_',Neo$celltype,'_',Neo$Condition)\n",
    "\n",
    "DefaultAssay(Neo) = 'RNA'\n",
    "\n"
   ]
  },
  {
   "cell_type": "code",
   "execution_count": 68,
   "id": "0b5411d1-1a31-49b5-b8dd-d3f6521893cb",
   "metadata": {},
   "outputs": [],
   "source": [
    "Idents(Neo) = 'group'"
   ]
  },
  {
   "cell_type": "code",
   "execution_count": 70,
   "id": "19a96658-6cf5-4779-8ffc-47919d8e9f65",
   "metadata": {},
   "outputs": [
    {
     "data": {
      "image/png": "[encoded data removed]",
      "text/plain": [
       "plot without title"
      ]
     },
     "metadata": {
      "image/png": {
       "height": 420,
       "width": 420
      }
     },
     "output_type": "display_data"
    }
   ],
   "source": [
    "DotPlot(Neo,features = 'WNT_Score',\n",
    "       group.by = \"tp\")"
   ]
  },
  {
   "cell_type": "code",
   "execution_count": 65,
   "id": "f6935e57-76c4-447f-bc40-1a9e9f0274af",
   "metadata": {},
   "outputs": [
    {
     "data": {
      "text/plain": [
       "\n",
       "   F_ExN_Case F_ExN_Control    F_InN_Case F_InN_Control    M_ExN_Case \n",
       "        20432         12968          6200          4537         26482 \n",
       "M_ExN_Control    M_InN_Case M_InN_Control \n",
       "        17576          9912          7687 "
      ]
     },
     "metadata": {},
     "output_type": "display_data"
    }
   ],
   "source": [
    "table(Neo$tp)"
   ]
  },
  {
   "cell_type": "code",
   "execution_count": null,
   "id": "da212745-d4b6-458c-ab6e-6aeefd430255",
   "metadata": {},
   "outputs": [],
   "source": []
  },
  {
   "cell_type": "code",
   "execution_count": null,
   "id": "7be797c1-2763-45f1-9635-bef30969d77b",
   "metadata": {},
   "outputs": [],
   "source": []
  },
  {
   "cell_type": "code",
   "execution_count": null,
   "id": "efe1ac76-d64b-429a-8d60-ad9863841d40",
   "metadata": {},
   "outputs": [],
   "source": []
  },
  {
   "cell_type": "code",
   "execution_count": null,
   "id": "5b56ee52-2557-46a2-a65d-f10a29fe2e1c",
   "metadata": {},
   "outputs": [],
   "source": []
  },
  {
   "cell_type": "code",
   "execution_count": 7,
   "id": "211b9265-0789-49fa-8a81-2f81df55687a",
   "metadata": {},
   "outputs": [
    {
     "name": "stderr",
     "output_type": "stream",
     "text": [
      "Warning message:\n",
      "\"package 'msigdbr' was built under R version 4.2.3\"\n"
     ]
    }
   ],
   "source": [
    "library(msigdbr)"
   ]
  },
  {
   "cell_type": "code",
   "execution_count": 8,
   "id": "b7811f1f-4b5c-485e-b8e6-a1e7ce477b72",
   "metadata": {},
   "outputs": [],
   "source": [
    "human_KEGG = msigdbr(species = \"Homo sapiens\",\n",
    "                     category = \"H\") %>% \n",
    "dplyr::select(gs_name,gene_symbol)#这里可以选择gene symbol，也可以选择ID"
   ]
  },
  {
   "cell_type": "code",
   "execution_count": 9,
   "id": "d4950f2f-e8f9-4372-aebe-76c018953de9",
   "metadata": {},
   "outputs": [],
   "source": [
    "human_KEGG_Set = human_KEGG %>% split(x = .$gene_symbol, f = .$gs_name)#基因集是list"
   ]
  },
  {
   "cell_type": "code",
   "execution_count": 10,
   "id": "800d643d-e14e-4a55-82b7-1df9ae896a13",
   "metadata": {},
   "outputs": [],
   "source": [
    "  #随意选择其中一条通路，转为list\n",
    "WNT_features <- list(human_KEGG_Set$HALLMARK_OXIDATIVE_PHOSPHORYLATION)"
   ]
  },
  {
   "cell_type": "code",
   "execution_count": 13,
   "id": "ad63e99d-b0c7-45d3-8fbd-617b4c34825d",
   "metadata": {
    "collapsed": true,
    "jupyter": {
     "outputs_hidden": true
    }
   },
   "outputs": [
    {
     "data": {
      "text/html": [
       "<table class=\"dataframe\">\n",
       "<caption>A data.frame: 6 x 18</caption>\n",
       "<thead>\n",
       "\t<tr><th></th><th scope=col>orig.ident</th><th scope=col>nCount_RNA</th><th scope=col>nFeature_RNA</th><th scope=col>sample</th><th scope=col>barcodeid</th><th scope=col>celltype</th><th scope=col>celltype2</th><th scope=col>nFeaturess_RNA</th><th scope=col>nFeaturess_RNA_by_counts</th><th scope=col>total_counts</th><th scope=col>total_counts_mt</th><th scope=col>pct_counts_mt</th><th scope=col>leiden</th><th scope=col>seurat_clusters</th><th scope=col>percent.mt</th><th scope=col>group</th><th scope=col>Condition</th><th scope=col>WNT_features1</th></tr>\n",
       "\t<tr><th></th><th scope=col>&lt;int&gt;</th><th scope=col>&lt;dbl&gt;</th><th scope=col>&lt;dbl&gt;</th><th scope=col>&lt;fct&gt;</th><th scope=col>&lt;fct&gt;</th><th scope=col>&lt;fct&gt;</th><th scope=col>&lt;fct&gt;</th><th scope=col>&lt;dbl&gt;</th><th scope=col>&lt;int&gt;</th><th scope=col>&lt;dbl&gt;</th><th scope=col>&lt;dbl&gt;</th><th scope=col>&lt;dbl&gt;</th><th scope=col>&lt;fct&gt;</th><th scope=col>&lt;fct&gt;</th><th scope=col>&lt;dbl&gt;</th><th scope=col>&lt;chr&gt;</th><th scope=col>&lt;chr&gt;</th><th scope=col>&lt;dbl&gt;</th></tr>\n",
       "</thead>\n",
       "<tbody>\n",
       "\t<tr><th scope=row>F1.AAACCCACACCTCTGT-1.Mic.Mic1</th><td>0</td><td> 2848</td><td> 1869</td><td>F1</td><td>AAACCCACACCTCTGT-1</td><td>Mic</td><td>Mic1    </td><td> 1869</td><td> 1869</td><td> 2848</td><td>0</td><td>0</td><td>25</td><td>25</td><td>0</td><td>F</td><td>Case</td><td>-0.05120865</td></tr>\n",
       "\t<tr><th scope=row>F1.AAACCCATCGGCATTA-1.ExN.ExN7</th><td>0</td><td> 4215</td><td> 2364</td><td>F1</td><td>AAACCCATCGGCATTA-1</td><td>ExN</td><td>ExN7    </td><td> 2364</td><td> 2364</td><td> 4215</td><td>0</td><td>0</td><td>7 </td><td>7 </td><td>0</td><td>F</td><td>Case</td><td> 0.07041693</td></tr>\n",
       "\t<tr><th scope=row>F1.AAACGAATCAGGGTAG-1.InN.InN8_Mix</th><td>0</td><td>10982</td><td> 3991</td><td>F1</td><td>AAACGAATCAGGGTAG-1</td><td>InN</td><td>InN8_Mix</td><td> 3991</td><td> 3991</td><td>10982</td><td>0</td><td>0</td><td>22</td><td>22</td><td>0</td><td>F</td><td>Case</td><td>-0.03018659</td></tr>\n",
       "\t<tr><th scope=row>F1.AAACGAATCGGAATGG-1.Oli.Oli3</th><td>0</td><td> 2499</td><td> 1566</td><td>F1</td><td>AAACGAATCGGAATGG-1</td><td>Oli</td><td>Oli3    </td><td> 1566</td><td> 1566</td><td> 2499</td><td>0</td><td>0</td><td>4 </td><td>4 </td><td>0</td><td>F</td><td>Case</td><td>-0.04475638</td></tr>\n",
       "\t<tr><th scope=row>F1.AAACGCTAGGACTTCT-1.Ast.Ast1</th><td>0</td><td>  713</td><td>  589</td><td>F1</td><td>AAACGCTAGGACTTCT-1</td><td>Ast</td><td>Ast1    </td><td>  589</td><td>  589</td><td>  713</td><td>0</td><td>0</td><td>6 </td><td>6 </td><td>0</td><td>F</td><td>Case</td><td>-0.06779149</td></tr>\n",
       "\t<tr><th scope=row>F1.AAACGCTGTGACTAAA-1.ExN.ExN17</th><td>0</td><td>95773</td><td>10044</td><td>F1</td><td>AAACGCTGTGACTAAA-1</td><td>ExN</td><td>ExN17   </td><td>10044</td><td>10044</td><td>95773</td><td>0</td><td>0</td><td>3 </td><td>3 </td><td>0</td><td>F</td><td>Case</td><td>-0.09177877</td></tr>\n",
       "</tbody>\n",
       "</table>\n"
      ],
      "text/latex": [
       "A data.frame: 6 x 18\n",
       "\\begin{tabular}{r|llllllllllllllllll}\n",
       "  & orig.ident & nCount\\_RNA & nFeature\\_RNA & sample & barcodeid & celltype & celltype2 & nFeaturess\\_RNA & nFeaturess\\_RNA\\_by\\_counts & total\\_counts & total\\_counts\\_mt & pct\\_counts\\_mt & leiden & seurat\\_clusters & percent.mt & group & Condition & WNT\\_features1\\\\\n",
       "  & <int> & <dbl> & <dbl> & <fct> & <fct> & <fct> & <fct> & <dbl> & <int> & <dbl> & <dbl> & <dbl> & <fct> & <fct> & <dbl> & <chr> & <chr> & <dbl>\\\\\n",
       "\\hline\n",
       "\tF1.AAACCCACACCTCTGT-1.Mic.Mic1 & 0 &  2848 &  1869 & F1 & AAACCCACACCTCTGT-1 & Mic & Mic1     &  1869 &  1869 &  2848 & 0 & 0 & 25 & 25 & 0 & F & Case & -0.05120865\\\\\n",
       "\tF1.AAACCCATCGGCATTA-1.ExN.ExN7 & 0 &  4215 &  2364 & F1 & AAACCCATCGGCATTA-1 & ExN & ExN7     &  2364 &  2364 &  4215 & 0 & 0 & 7  & 7  & 0 & F & Case &  0.07041693\\\\\n",
       "\tF1.AAACGAATCAGGGTAG-1.InN.InN8\\_Mix & 0 & 10982 &  3991 & F1 & AAACGAATCAGGGTAG-1 & InN & InN8\\_Mix &  3991 &  3991 & 10982 & 0 & 0 & 22 & 22 & 0 & F & Case & -0.03018659\\\\\n",
       "\tF1.AAACGAATCGGAATGG-1.Oli.Oli3 & 0 &  2499 &  1566 & F1 & AAACGAATCGGAATGG-1 & Oli & Oli3     &  1566 &  1566 &  2499 & 0 & 0 & 4  & 4  & 0 & F & Case & -0.04475638\\\\\n",
       "\tF1.AAACGCTAGGACTTCT-1.Ast.Ast1 & 0 &   713 &   589 & F1 & AAACGCTAGGACTTCT-1 & Ast & Ast1     &   589 &   589 &   713 & 0 & 0 & 6  & 6  & 0 & F & Case & -0.06779149\\\\\n",
       "\tF1.AAACGCTGTGACTAAA-1.ExN.ExN17 & 0 & 95773 & 10044 & F1 & AAACGCTGTGACTAAA-1 & ExN & ExN17    & 10044 & 10044 & 95773 & 0 & 0 & 3  & 3  & 0 & F & Case & -0.09177877\\\\\n",
       "\\end{tabular}\n"
      ],
      "text/markdown": [
       "\n",
       "A data.frame: 6 x 18\n",
       "\n",
       "| <!--/--> | orig.ident &lt;int&gt; | nCount_RNA &lt;dbl&gt; | nFeature_RNA &lt;dbl&gt; | sample &lt;fct&gt; | barcodeid &lt;fct&gt; | celltype &lt;fct&gt; | celltype2 &lt;fct&gt; | nFeaturess_RNA &lt;dbl&gt; | nFeaturess_RNA_by_counts &lt;int&gt; | total_counts &lt;dbl&gt; | total_counts_mt &lt;dbl&gt; | pct_counts_mt &lt;dbl&gt; | leiden &lt;fct&gt; | seurat_clusters &lt;fct&gt; | percent.mt &lt;dbl&gt; | group &lt;chr&gt; | Condition &lt;chr&gt; | WNT_features1 &lt;dbl&gt; |\n",
       "|---|---|---|---|---|---|---|---|---|---|---|---|---|---|---|---|---|---|---|\n",
       "| F1.AAACCCACACCTCTGT-1.Mic.Mic1 | 0 |  2848 |  1869 | F1 | AAACCCACACCTCTGT-1 | Mic | Mic1     |  1869 |  1869 |  2848 | 0 | 0 | 25 | 25 | 0 | F | Case | -0.05120865 |\n",
       "| F1.AAACCCATCGGCATTA-1.ExN.ExN7 | 0 |  4215 |  2364 | F1 | AAACCCATCGGCATTA-1 | ExN | ExN7     |  2364 |  2364 |  4215 | 0 | 0 | 7  | 7  | 0 | F | Case |  0.07041693 |\n",
       "| F1.AAACGAATCAGGGTAG-1.InN.InN8_Mix | 0 | 10982 |  3991 | F1 | AAACGAATCAGGGTAG-1 | InN | InN8_Mix |  3991 |  3991 | 10982 | 0 | 0 | 22 | 22 | 0 | F | Case | -0.03018659 |\n",
       "| F1.AAACGAATCGGAATGG-1.Oli.Oli3 | 0 |  2499 |  1566 | F1 | AAACGAATCGGAATGG-1 | Oli | Oli3     |  1566 |  1566 |  2499 | 0 | 0 | 4  | 4  | 0 | F | Case | -0.04475638 |\n",
       "| F1.AAACGCTAGGACTTCT-1.Ast.Ast1 | 0 |   713 |   589 | F1 | AAACGCTAGGACTTCT-1 | Ast | Ast1     |   589 |   589 |   713 | 0 | 0 | 6  | 6  | 0 | F | Case | -0.06779149 |\n",
       "| F1.AAACGCTGTGACTAAA-1.ExN.ExN17 | 0 | 95773 | 10044 | F1 | AAACGCTGTGACTAAA-1 | ExN | ExN17    | 10044 | 10044 | 95773 | 0 | 0 | 3  | 3  | 0 | F | Case | -0.09177877 |\n",
       "\n"
      ],
      "text/plain": [
       "                                   orig.ident nCount_RNA nFeature_RNA sample\n",
       "F1.AAACCCACACCTCTGT-1.Mic.Mic1     0           2848       1869        F1    \n",
       "F1.AAACCCATCGGCATTA-1.ExN.ExN7     0           4215       2364        F1    \n",
       "F1.AAACGAATCAGGGTAG-1.InN.InN8_Mix 0          10982       3991        F1    \n",
       "F1.AAACGAATCGGAATGG-1.Oli.Oli3     0           2499       1566        F1    \n",
       "F1.AAACGCTAGGACTTCT-1.Ast.Ast1     0            713        589        F1    \n",
       "F1.AAACGCTGTGACTAAA-1.ExN.ExN17    0          95773      10044        F1    \n",
       "                                   barcodeid          celltype celltype2\n",
       "F1.AAACCCACACCTCTGT-1.Mic.Mic1     AAACCCACACCTCTGT-1 Mic      Mic1     \n",
       "F1.AAACCCATCGGCATTA-1.ExN.ExN7     AAACCCATCGGCATTA-1 ExN      ExN7     \n",
       "F1.AAACGAATCAGGGTAG-1.InN.InN8_Mix AAACGAATCAGGGTAG-1 InN      InN8_Mix \n",
       "F1.AAACGAATCGGAATGG-1.Oli.Oli3     AAACGAATCGGAATGG-1 Oli      Oli3     \n",
       "F1.AAACGCTAGGACTTCT-1.Ast.Ast1     AAACGCTAGGACTTCT-1 Ast      Ast1     \n",
       "F1.AAACGCTGTGACTAAA-1.ExN.ExN17    AAACGCTGTGACTAAA-1 ExN      ExN17    \n",
       "                                   nFeaturess_RNA nFeaturess_RNA_by_counts\n",
       "F1.AAACCCACACCTCTGT-1.Mic.Mic1      1869           1869                   \n",
       "F1.AAACCCATCGGCATTA-1.ExN.ExN7      2364           2364                   \n",
       "F1.AAACGAATCAGGGTAG-1.InN.InN8_Mix  3991           3991                   \n",
       "F1.AAACGAATCGGAATGG-1.Oli.Oli3      1566           1566                   \n",
       "F1.AAACGCTAGGACTTCT-1.Ast.Ast1       589            589                   \n",
       "F1.AAACGCTGTGACTAAA-1.ExN.ExN17    10044          10044                   \n",
       "                                   total_counts total_counts_mt pct_counts_mt\n",
       "F1.AAACCCACACCTCTGT-1.Mic.Mic1      2848        0               0            \n",
       "F1.AAACCCATCGGCATTA-1.ExN.ExN7      4215        0               0            \n",
       "F1.AAACGAATCAGGGTAG-1.InN.InN8_Mix 10982        0               0            \n",
       "F1.AAACGAATCGGAATGG-1.Oli.Oli3      2499        0               0            \n",
       "F1.AAACGCTAGGACTTCT-1.Ast.Ast1       713        0               0            \n",
       "F1.AAACGCTGTGACTAAA-1.ExN.ExN17    95773        0               0            \n",
       "                                   leiden seurat_clusters percent.mt group\n",
       "F1.AAACCCACACCTCTGT-1.Mic.Mic1     25     25              0          F    \n",
       "F1.AAACCCATCGGCATTA-1.ExN.ExN7     7      7               0          F    \n",
       "F1.AAACGAATCAGGGTAG-1.InN.InN8_Mix 22     22              0          F    \n",
       "F1.AAACGAATCGGAATGG-1.Oli.Oli3     4      4               0          F    \n",
       "F1.AAACGCTAGGACTTCT-1.Ast.Ast1     6      6               0          F    \n",
       "F1.AAACGCTGTGACTAAA-1.ExN.ExN17    3      3               0          F    \n",
       "                                   Condition WNT_features1\n",
       "F1.AAACCCACACCTCTGT-1.Mic.Mic1     Case      -0.05120865  \n",
       "F1.AAACCCATCGGCATTA-1.ExN.ExN7     Case       0.07041693  \n",
       "F1.AAACGAATCAGGGTAG-1.InN.InN8_Mix Case      -0.03018659  \n",
       "F1.AAACGAATCGGAATGG-1.Oli.Oli3     Case      -0.04475638  \n",
       "F1.AAACGCTAGGACTTCT-1.Ast.Ast1     Case      -0.06779149  \n",
       "F1.AAACGCTGTGACTAAA-1.ExN.ExN17    Case      -0.09177877  "
      ]
     },
     "metadata": {},
     "output_type": "display_data"
    }
   ],
   "source": [
    "sce <- AddModuleScore(sce,\n",
    "                          features = WNT_features,\n",
    "                          ctrl = 100,\n",
    "                          name = \"WNT_features\")\n",
    "head(sce@meta.data)\n",
    "#这里就得到了基因集评分结果，但是注意列名为 WNT_features1\n"
   ]
  },
  {
   "cell_type": "code",
   "execution_count": null,
   "id": "55eb10dc-6f97-44fe-9c21-bb3d3fe9ce0f",
   "metadata": {},
   "outputs": [],
   "source": [
    "colnames(sce@meta.data)[18] <- 'WNT_Score'\n",
    "\n",
    "Idents(sce) = 'celltype'\n",
    "\n",
    "Neo = subset(sce,idents = c('InN','ExN'))\n",
    "\n",
    "Neo$tp = paste0(Neo$group,'_',Neo$celltype,'_',Neo$Condition)\n",
    "\n",
    "DefaultAssay(Neo) = 'RNA'\n",
    "\n",
    "DotPlot(Neo,features = 'WNT_Score', \n",
    "       group.by = \"tp\")"
   ]
  },
  {
   "cell_type": "code",
   "execution_count": null,
   "id": "7a4bb2f7-8c9f-40b5-b385-214069dbd9c4",
   "metadata": {},
   "outputs": [],
   "source": []
  }
 ],
 "metadata": {
  "kernelspec": {
   "display_name": "R",
   "language": "R",
   "name": "ir"
  },
  "language_info": {
   "codemirror_mode": "r",
   "file_extension": ".r",
   "mimetype": "text/x-r-source",
   "name": "R",
   "pygments_lexer": "r",
   "version": "4.2.1"
  }
 },
 "nbformat": 4,
 "nbformat_minor": 5
}
