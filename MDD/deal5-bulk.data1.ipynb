{
 "cells": [
  {
   "cell_type": "code",
   "execution_count": 23,
   "id": "bd902cc0-f76b-4a1f-a128-3aabddc90cd3",
   "metadata": {},
   "outputs": [],
   "source": [
    "setwd('/import/mdd.rna')"
   ]
  },
  {
   "cell_type": "code",
   "execution_count": 24,
   "id": "190b2d57-da21-492b-97c6-039fde99d574",
   "metadata": {},
   "outputs": [],
   "source": [
    "count  = read.table('GSE80655_GeneExpressionData_Updated_3-26-2018.txt',header =T,sep = '\\t')"
   ]
  },
  {
   "cell_type": "code",
   "execution_count": 25,
   "id": "8962f021-99a3-441b-9fc6-cf38eefbc189",
   "metadata": {},
   "outputs": [],
   "source": [
    "cli = read.csv('GSE80655.cli.csv',header =F)"
   ]
  },
  {
   "cell_type": "code",
   "execution_count": 26,
   "id": "493631d6-3150-4d54-9207-1a1b2c5ab68b",
   "metadata": {},
   "outputs": [],
   "source": [
    "library(dplyr)"
   ]
  },
  {
   "cell_type": "code",
   "execution_count": 27,
   "id": "46dde28a-4ec3-49f8-b44f-b9201d2fd9ec",
   "metadata": {},
   "outputs": [],
   "source": [
    "cliinfo = cli %>%  filter(V6 == 'DLPFC' ) %>%  filter(V3 %in% c('MD','Control'))"
   ]
  },
  {
   "cell_type": "code",
   "execution_count": 28,
   "id": "df29a30e-a74e-4d88-9989-a5ccb8bdde24",
   "metadata": {},
   "outputs": [],
   "source": [
    "expr = count %>%  select(gene_id,cliinfo$V1)"
   ]
  },
  {
   "cell_type": "code",
   "execution_count": 29,
   "id": "59aa4b20-6f50-47cf-bc31-0f3a0b440551",
   "metadata": {},
   "outputs": [
    {
     "data": {
      "text/html": [
       "<table class=\"dataframe\">\n",
       "<caption>A data.frame: 3 x 48</caption>\n",
       "<thead>\n",
       "\t<tr><th></th><th scope=col>gene_id</th><th scope=col>SL32230</th><th scope=col>SL32231</th><th scope=col>SL32242</th><th scope=col>SL32243</th><th scope=col>SL32244</th><th scope=col>SL32245</th><th scope=col>SL32246</th><th scope=col>SL32247</th><th scope=col>SL32248</th><th scope=col>...</th><th scope=col>SL7403</th><th scope=col>SL7404</th><th scope=col>SL7614</th><th scope=col>SL7625</th><th scope=col>SL7632</th><th scope=col>SL7698</th><th scope=col>SL7801</th><th scope=col>SL7804</th><th scope=col>SL7806</th><th scope=col>SL7807</th></tr>\n",
       "\t<tr><th></th><th scope=col>&lt;chr&gt;</th><th scope=col>&lt;int&gt;</th><th scope=col>&lt;int&gt;</th><th scope=col>&lt;int&gt;</th><th scope=col>&lt;int&gt;</th><th scope=col>&lt;int&gt;</th><th scope=col>&lt;int&gt;</th><th scope=col>&lt;int&gt;</th><th scope=col>&lt;int&gt;</th><th scope=col>&lt;int&gt;</th><th scope=col>...</th><th scope=col>&lt;int&gt;</th><th scope=col>&lt;int&gt;</th><th scope=col>&lt;int&gt;</th><th scope=col>&lt;int&gt;</th><th scope=col>&lt;int&gt;</th><th scope=col>&lt;int&gt;</th><th scope=col>&lt;int&gt;</th><th scope=col>&lt;int&gt;</th><th scope=col>&lt;int&gt;</th><th scope=col>&lt;int&gt;</th></tr>\n",
       "</thead>\n",
       "<tbody>\n",
       "\t<tr><th scope=row>1</th><td>ENSG00000223972</td><td>  0</td><td>  0</td><td>  0</td><td>  3</td><td>  0</td><td>  0</td><td>  0</td><td>  0</td><td>  0</td><td>...</td><td> 0</td><td>  1</td><td>  0</td><td>  0</td><td>  1</td><td>  1</td><td>  0</td><td>  1</td><td>  2</td><td>  0</td></tr>\n",
       "\t<tr><th scope=row>2</th><td>ENSG00000227232</td><td>183</td><td>102</td><td>176</td><td>167</td><td>165</td><td>222</td><td>139</td><td>173</td><td>130</td><td>...</td><td>96</td><td>340</td><td>173</td><td>142</td><td>193</td><td>355</td><td>111</td><td>181</td><td>285</td><td>223</td></tr>\n",
       "\t<tr><th scope=row>3</th><td>ENSG00000243485</td><td>  0</td><td>  0</td><td>  0</td><td>  0</td><td>  0</td><td>  0</td><td>  0</td><td>  0</td><td>  0</td><td>...</td><td> 0</td><td>  0</td><td>  0</td><td>  0</td><td>  0</td><td>  1</td><td>  0</td><td>  0</td><td>  0</td><td>  0</td></tr>\n",
       "</tbody>\n",
       "</table>\n"
      ],
      "text/latex": [
       "A data.frame: 3 x 48\n",
       "\\begin{tabular}{r|lllllllllllllllllllll}\n",
       "  & gene\\_id & SL32230 & SL32231 & SL32242 & SL32243 & SL32244 & SL32245 & SL32246 & SL32247 & SL32248 & ... & SL7403 & SL7404 & SL7614 & SL7625 & SL7632 & SL7698 & SL7801 & SL7804 & SL7806 & SL7807\\\\\n",
       "  & <chr> & <int> & <int> & <int> & <int> & <int> & <int> & <int> & <int> & <int> & ... & <int> & <int> & <int> & <int> & <int> & <int> & <int> & <int> & <int> & <int>\\\\\n",
       "\\hline\n",
       "\t1 & ENSG00000223972 &   0 &   0 &   0 &   3 &   0 &   0 &   0 &   0 &   0 & ... &  0 &   1 &   0 &   0 &   1 &   1 &   0 &   1 &   2 &   0\\\\\n",
       "\t2 & ENSG00000227232 & 183 & 102 & 176 & 167 & 165 & 222 & 139 & 173 & 130 & ... & 96 & 340 & 173 & 142 & 193 & 355 & 111 & 181 & 285 & 223\\\\\n",
       "\t3 & ENSG00000243485 &   0 &   0 &   0 &   0 &   0 &   0 &   0 &   0 &   0 & ... &  0 &   0 &   0 &   0 &   0 &   1 &   0 &   0 &   0 &   0\\\\\n",
       "\\end{tabular}\n"
      ],
      "text/markdown": [
       "\n",
       "A data.frame: 3 x 48\n",
       "\n",
       "| <!--/--> | gene_id &lt;chr&gt; | SL32230 &lt;int&gt; | SL32231 &lt;int&gt; | SL32242 &lt;int&gt; | SL32243 &lt;int&gt; | SL32244 &lt;int&gt; | SL32245 &lt;int&gt; | SL32246 &lt;int&gt; | SL32247 &lt;int&gt; | SL32248 &lt;int&gt; | ... ... | SL7403 &lt;int&gt; | SL7404 &lt;int&gt; | SL7614 &lt;int&gt; | SL7625 &lt;int&gt; | SL7632 &lt;int&gt; | SL7698 &lt;int&gt; | SL7801 &lt;int&gt; | SL7804 &lt;int&gt; | SL7806 &lt;int&gt; | SL7807 &lt;int&gt; |\n",
       "|---|---|---|---|---|---|---|---|---|---|---|---|---|---|---|---|---|---|---|---|---|---|\n",
       "| 1 | ENSG00000223972 |   0 |   0 |   0 |   3 |   0 |   0 |   0 |   0 |   0 | ... |  0 |   1 |   0 |   0 |   1 |   1 |   0 |   1 |   2 |   0 |\n",
       "| 2 | ENSG00000227232 | 183 | 102 | 176 | 167 | 165 | 222 | 139 | 173 | 130 | ... | 96 | 340 | 173 | 142 | 193 | 355 | 111 | 181 | 285 | 223 |\n",
       "| 3 | ENSG00000243485 |   0 |   0 |   0 |   0 |   0 |   0 |   0 |   0 |   0 | ... |  0 |   0 |   0 |   0 |   0 |   1 |   0 |   0 |   0 |   0 |\n",
       "\n"
      ],
      "text/plain": [
       "  gene_id         SL32230 SL32231 SL32242 SL32243 SL32244 SL32245 SL32246\n",
       "1 ENSG00000223972   0       0       0       3       0       0       0    \n",
       "2 ENSG00000227232 183     102     176     167     165     222     139    \n",
       "3 ENSG00000243485   0       0       0       0       0       0       0    \n",
       "  SL32247 SL32248 ... SL7403 SL7404 SL7614 SL7625 SL7632 SL7698 SL7801 SL7804\n",
       "1   0       0     ...  0       1      0      0      1      1      0      1   \n",
       "2 173     130     ... 96     340    173    142    193    355    111    181   \n",
       "3   0       0     ...  0       0      0      0      0      1      0      0   \n",
       "  SL7806 SL7807\n",
       "1   2      0   \n",
       "2 285    223   \n",
       "3   0      0   "
      ]
     },
     "metadata": {},
     "output_type": "display_data"
    }
   ],
   "source": [
    "head(expr,3)"
   ]
  },
  {
   "cell_type": "code",
   "execution_count": 30,
   "id": "632efac1-3126-442d-ae0f-98eafc08f2e9",
   "metadata": {
    "collapsed": true,
    "jupyter": {
     "outputs_hidden": true
    },
    "scrolled": true
   },
   "outputs": [
    {
     "name": "stderr",
     "output_type": "stream",
     "text": [
      "\n",
      "\n",
      "Registered S3 methods overwritten by 'treeio':\n",
      "  method              from    \n",
      "  MRCA.phylo          tidytree\n",
      "  MRCA.treedata       tidytree\n",
      "  Nnode.treedata      tidytree\n",
      "  Ntip.treedata       tidytree\n",
      "  ancestor.phylo      tidytree\n",
      "  ancestor.treedata   tidytree\n",
      "  child.phylo         tidytree\n",
      "  child.treedata      tidytree\n",
      "  full_join.phylo     tidytree\n",
      "  full_join.treedata  tidytree\n",
      "  groupClade.phylo    tidytree\n",
      "  groupClade.treedata tidytree\n",
      "  groupOTU.phylo      tidytree\n",
      "  groupOTU.treedata   tidytree\n",
      "  is.rooted.treedata  tidytree\n",
      "  nodeid.phylo        tidytree\n",
      "  nodeid.treedata     tidytree\n",
      "  nodelab.phylo       tidytree\n",
      "  nodelab.treedata    tidytree\n",
      "  offspring.phylo     tidytree\n",
      "  offspring.treedata  tidytree\n",
      "  parent.phylo        tidytree\n",
      "  parent.treedata     tidytree\n",
      "  root.treedata       tidytree\n",
      "  rootnode.phylo      tidytree\n",
      "  sibling.phylo       tidytree\n",
      "\n",
      "clusterProfiler v4.6.2  For help: https://yulab-smu.top/biomedical-knowledge-mining-book/\n",
      "\n",
      "If you use clusterProfiler in published research, please cite:\n",
      "T Wu, E Hu, S Xu, M Chen, P Guo, Z Dai, T Feng, L Zhou, W Tang, L Zhan, X Fu, S Liu, X Bo, and G Yu. clusterProfiler 4.0: A universal enrichment tool for interpreting omics data. The Innovation. 2021, 2(3):100141\n",
      "\n",
      "\n",
      "Attaching package: 'clusterProfiler'\n",
      "\n",
      "\n",
      "The following object is masked from 'package:stats':\n",
      "\n",
      "    filter\n",
      "\n",
      "\n",
      "\n",
      "\n",
      "'select()' returned 1:many mapping between keys and columns\n",
      "\n",
      "Warning message in bitr(expr$gene_id, fromType = \"ENSEMBL\", toType = \"SYMBOL\", OrgDb = \"org.Hs.eg.db\"):\n",
      "\"41.48% of input gene IDs are fail to map...\"\n"
     ]
    }
   ],
   "source": [
    "library(clusterProfiler)\n",
    "s2ens = bitr(expr$gene_id, fromType=\"ENSEMBL\", toType=\"SYMBOL\", OrgDb=\"org.Hs.eg.db\")"
   ]
  },
  {
   "cell_type": "code",
   "execution_count": 32,
   "id": "dbf7282d-6bd4-4df8-92fb-ebce66fd1480",
   "metadata": {},
   "outputs": [],
   "source": [
    "colnames(s2ens)[1] = 'gene_id' "
   ]
  },
  {
   "cell_type": "code",
   "execution_count": null,
   "id": "1a7fe907-c286-40e1-bb08-e334e90dfd67",
   "metadata": {},
   "outputs": [],
   "source": []
  },
  {
   "cell_type": "code",
   "execution_count": null,
   "id": "fa3e4e25-4418-4211-bc3b-faa0d91d2ccc",
   "metadata": {},
   "outputs": [],
   "source": [
    "expr2 = merge(s2ens,expr,by = 'gene_id')\n",
    "\n",
    "expr2 =expr2[,-1]\n",
    "\n",
    "expr3 = expr2[!duplicated(expr2$SYMBOL),]"
   ]
  },
  {
   "cell_type": "code",
   "execution_count": 38,
   "id": "01dae9b4-c0d4-4556-8fdb-d5004ec50f32",
   "metadata": {},
   "outputs": [
    {
     "data": {
      "text/html": [
       "<style>\n",
       ".list-inline {list-style: none; margin:0; padding: 0}\n",
       ".list-inline>li {display: inline-block}\n",
       ".list-inline>li:not(:last-child)::after {content: \"\\00b7\"; padding: 0 .5ex}\n",
       "</style>\n",
       "<ol class=list-inline><li>34036</li><li>48</li></ol>\n"
      ],
      "text/latex": [
       "\\begin{enumerate*}\n",
       "\\item 34036\n",
       "\\item 48\n",
       "\\end{enumerate*}\n"
      ],
      "text/markdown": [
       "1. 34036\n",
       "2. 48\n",
       "\n",
       "\n"
      ],
      "text/plain": [
       "[1] 34036    48"
      ]
     },
     "metadata": {},
     "output_type": "display_data"
    }
   ],
   "source": [
    "dim(expr3)"
   ]
  },
  {
   "cell_type": "code",
   "execution_count": 40,
   "id": "0604c4e9-b506-4308-b084-bae366b8964e",
   "metadata": {},
   "outputs": [],
   "source": [
    "save(expr3,cliinfo,file = 'GSE80655.rda')"
   ]
  },
  {
   "cell_type": "markdown",
   "id": "c0ebc0b2-2dc1-4dde-b416-57897e5a186d",
   "metadata": {},
   "source": [
    "### 另一套"
   ]
  },
  {
   "cell_type": "code",
   "execution_count": 41,
   "id": "f2b4bf52-99b7-41d1-8ecf-31d59fc78c83",
   "metadata": {},
   "outputs": [],
   "source": [
    "data = read.csv('./GSE101521_totalRNA_counts.csv')"
   ]
  },
  {
   "cell_type": "code",
   "execution_count": 42,
   "id": "8f6dd9d5-0d78-4f13-aee4-1ae5ee450a5e",
   "metadata": {},
   "outputs": [
    {
     "data": {
      "text/html": [
       "<table class=\"dataframe\">\n",
       "<caption>A data.frame: 3 x 60</caption>\n",
       "<thead>\n",
       "\t<tr><th></th><th scope=col>X</th><th scope=col>V1</th><th scope=col>V2</th><th scope=col>V3</th><th scope=col>V4</th><th scope=col>V5</th><th scope=col>V6</th><th scope=col>V7</th><th scope=col>V8</th><th scope=col>V9</th><th scope=col>...</th><th scope=col>V50</th><th scope=col>V51</th><th scope=col>V52</th><th scope=col>V53</th><th scope=col>V54</th><th scope=col>V55</th><th scope=col>V56</th><th scope=col>V57</th><th scope=col>V58</th><th scope=col>V59</th></tr>\n",
       "\t<tr><th></th><th scope=col>&lt;chr&gt;</th><th scope=col>&lt;dbl&gt;</th><th scope=col>&lt;dbl&gt;</th><th scope=col>&lt;dbl&gt;</th><th scope=col>&lt;dbl&gt;</th><th scope=col>&lt;dbl&gt;</th><th scope=col>&lt;dbl&gt;</th><th scope=col>&lt;dbl&gt;</th><th scope=col>&lt;dbl&gt;</th><th scope=col>&lt;dbl&gt;</th><th scope=col>...</th><th scope=col>&lt;dbl&gt;</th><th scope=col>&lt;dbl&gt;</th><th scope=col>&lt;dbl&gt;</th><th scope=col>&lt;dbl&gt;</th><th scope=col>&lt;dbl&gt;</th><th scope=col>&lt;dbl&gt;</th><th scope=col>&lt;dbl&gt;</th><th scope=col>&lt;dbl&gt;</th><th scope=col>&lt;dbl&gt;</th><th scope=col>&lt;dbl&gt;</th></tr>\n",
       "</thead>\n",
       "<tbody>\n",
       "\t<tr><th scope=row>1</th><td>ENSG00000000003</td><td> 77.659131</td><td> 83.61358</td><td> 91.08093</td><td> 90.7157146</td><td> 80.921931</td><td> 74.51847</td><td> 80.914252</td><td> 94.8571629</td><td> 60.46899</td><td>...</td><td> 83.839471</td><td> 67.079353</td><td>100.308934</td><td> 85.53492</td><td> 88.737914</td><td> 76.449341</td><td> 74.573695</td><td> 88.92313</td><td> 96.6075637</td><td> 76.847992</td></tr>\n",
       "\t<tr><th scope=row>2</th><td>ENSG00000000005</td><td>  1.493445</td><td>  0.00000</td><td>  0.00000</td><td>  0.8478104</td><td>  1.445034</td><td>  0.00000</td><td>  1.571151</td><td>  0.8865155</td><td>  1.20938</td><td>...</td><td>  1.746656</td><td>  1.992456</td><td>  0.964509</td><td>  0.00000</td><td>  3.059928</td><td>  1.927294</td><td>  1.193179</td><td>  3.70513</td><td>  0.8782506</td><td>  1.787163</td></tr>\n",
       "\t<tr><th scope=row>3</th><td>ENSG00000000419</td><td>321.090638</td><td>250.84074</td><td>253.81220</td><td>271.7232387</td><td>248.545932</td><td>271.63185</td><td>269.452315</td><td>108.1548961</td><td>148.75371</td><td>...</td><td>265.491657</td><td>244.407940</td><td>172.647107</td><td>278.87949</td><td>175.435876</td><td>323.785443</td><td>260.113047</td><td>292.70529</td><td>259.9621715</td><td>193.013562</td></tr>\n",
       "</tbody>\n",
       "</table>\n"
      ],
      "text/latex": [
       "A data.frame: 3 x 60\n",
       "\\begin{tabular}{r|lllllllllllllllllllll}\n",
       "  & X & V1 & V2 & V3 & V4 & V5 & V6 & V7 & V8 & V9 & ... & V50 & V51 & V52 & V53 & V54 & V55 & V56 & V57 & V58 & V59\\\\\n",
       "  & <chr> & <dbl> & <dbl> & <dbl> & <dbl> & <dbl> & <dbl> & <dbl> & <dbl> & <dbl> & ... & <dbl> & <dbl> & <dbl> & <dbl> & <dbl> & <dbl> & <dbl> & <dbl> & <dbl> & <dbl>\\\\\n",
       "\\hline\n",
       "\t1 & ENSG00000000003 &  77.659131 &  83.61358 &  91.08093 &  90.7157146 &  80.921931 &  74.51847 &  80.914252 &  94.8571629 &  60.46899 & ... &  83.839471 &  67.079353 & 100.308934 &  85.53492 &  88.737914 &  76.449341 &  74.573695 &  88.92313 &  96.6075637 &  76.847992\\\\\n",
       "\t2 & ENSG00000000005 &   1.493445 &   0.00000 &   0.00000 &   0.8478104 &   1.445034 &   0.00000 &   1.571151 &   0.8865155 &   1.20938 & ... &   1.746656 &   1.992456 &   0.964509 &   0.00000 &   3.059928 &   1.927294 &   1.193179 &   3.70513 &   0.8782506 &   1.787163\\\\\n",
       "\t3 & ENSG00000000419 & 321.090638 & 250.84074 & 253.81220 & 271.7232387 & 248.545932 & 271.63185 & 269.452315 & 108.1548961 & 148.75371 & ... & 265.491657 & 244.407940 & 172.647107 & 278.87949 & 175.435876 & 323.785443 & 260.113047 & 292.70529 & 259.9621715 & 193.013562\\\\\n",
       "\\end{tabular}\n"
      ],
      "text/markdown": [
       "\n",
       "A data.frame: 3 x 60\n",
       "\n",
       "| <!--/--> | X &lt;chr&gt; | V1 &lt;dbl&gt; | V2 &lt;dbl&gt; | V3 &lt;dbl&gt; | V4 &lt;dbl&gt; | V5 &lt;dbl&gt; | V6 &lt;dbl&gt; | V7 &lt;dbl&gt; | V8 &lt;dbl&gt; | V9 &lt;dbl&gt; | ... ... | V50 &lt;dbl&gt; | V51 &lt;dbl&gt; | V52 &lt;dbl&gt; | V53 &lt;dbl&gt; | V54 &lt;dbl&gt; | V55 &lt;dbl&gt; | V56 &lt;dbl&gt; | V57 &lt;dbl&gt; | V58 &lt;dbl&gt; | V59 &lt;dbl&gt; |\n",
       "|---|---|---|---|---|---|---|---|---|---|---|---|---|---|---|---|---|---|---|---|---|---|\n",
       "| 1 | ENSG00000000003 |  77.659131 |  83.61358 |  91.08093 |  90.7157146 |  80.921931 |  74.51847 |  80.914252 |  94.8571629 |  60.46899 | ... |  83.839471 |  67.079353 | 100.308934 |  85.53492 |  88.737914 |  76.449341 |  74.573695 |  88.92313 |  96.6075637 |  76.847992 |\n",
       "| 2 | ENSG00000000005 |   1.493445 |   0.00000 |   0.00000 |   0.8478104 |   1.445034 |   0.00000 |   1.571151 |   0.8865155 |   1.20938 | ... |   1.746656 |   1.992456 |   0.964509 |   0.00000 |   3.059928 |   1.927294 |   1.193179 |   3.70513 |   0.8782506 |   1.787163 |\n",
       "| 3 | ENSG00000000419 | 321.090638 | 250.84074 | 253.81220 | 271.7232387 | 248.545932 | 271.63185 | 269.452315 | 108.1548961 | 148.75371 | ... | 265.491657 | 244.407940 | 172.647107 | 278.87949 | 175.435876 | 323.785443 | 260.113047 | 292.70529 | 259.9621715 | 193.013562 |\n",
       "\n"
      ],
      "text/plain": [
       "  X               V1         V2        V3        V4          V5        \n",
       "1 ENSG00000000003  77.659131  83.61358  91.08093  90.7157146  80.921931\n",
       "2 ENSG00000000005   1.493445   0.00000   0.00000   0.8478104   1.445034\n",
       "3 ENSG00000000419 321.090638 250.84074 253.81220 271.7232387 248.545932\n",
       "  V6        V7         V8          V9        ... V50        V51       \n",
       "1  74.51847  80.914252  94.8571629  60.46899 ...  83.839471  67.079353\n",
       "2   0.00000   1.571151   0.8865155   1.20938 ...   1.746656   1.992456\n",
       "3 271.63185 269.452315 108.1548961 148.75371 ... 265.491657 244.407940\n",
       "  V52        V53       V54        V55        V56        V57       V58        \n",
       "1 100.308934  85.53492  88.737914  76.449341  74.573695  88.92313  96.6075637\n",
       "2   0.964509   0.00000   3.059928   1.927294   1.193179   3.70513   0.8782506\n",
       "3 172.647107 278.87949 175.435876 323.785443 260.113047 292.70529 259.9621715\n",
       "  V59       \n",
       "1  76.847992\n",
       "2   1.787163\n",
       "3 193.013562"
      ]
     },
     "metadata": {},
     "output_type": "display_data"
    }
   ],
   "source": [
    "head(data,3)"
   ]
  },
  {
   "cell_type": "code",
   "execution_count": 53,
   "id": "d47e2225-571b-4db4-a1ea-e953844fa174",
   "metadata": {},
   "outputs": [
    {
     "name": "stderr",
     "output_type": "stream",
     "text": [
      "'select()' returned 1:many mapping between keys and columns\n",
      "\n",
      "Warning message in bitr(data$X, fromType = \"ENSEMBL\", toType = \"SYMBOL\", OrgDb = \"org.Hs.eg.db\"):\n",
      "\"43.88% of input gene IDs are fail to map...\"\n"
     ]
    }
   ],
   "source": [
    "library(clusterProfiler)\n",
    "s2ens = bitr(data$X, fromType=\"ENSEMBL\", toType=\"SYMBOL\", OrgDb=\"org.Hs.eg.db\")"
   ]
  },
  {
   "cell_type": "code",
   "execution_count": 54,
   "id": "f8fea44d-631c-4e89-8251-2556b789c964",
   "metadata": {},
   "outputs": [],
   "source": [
    "colnames(s2ens)[1] = 'X' "
   ]
  },
  {
   "cell_type": "code",
   "execution_count": 55,
   "id": "72e5e614-bf37-4dc1-a3ba-e756546537d5",
   "metadata": {},
   "outputs": [],
   "source": [
    "expr2 = merge(s2ens,data,by = 'X')\n",
    "\n",
    "expr2 =expr2[,-1]\n",
    "\n",
    "expr3 = expr2[!duplicated(expr2$SYMBOL),]"
   ]
  },
  {
   "cell_type": "code",
   "execution_count": 43,
   "id": "19b18a70-4772-4960-89cb-4ba6cda427b8",
   "metadata": {},
   "outputs": [],
   "source": [
    "cli = read.csv('GSE101521.csv',header =F)"
   ]
  },
  {
   "cell_type": "code",
   "execution_count": 57,
   "id": "fe2f868d-3382-462a-885a-e68a3fec6a84",
   "metadata": {},
   "outputs": [],
   "source": [
    "save(expr3,cli,file = 'GSE101521.rda')"
   ]
  }
 ],
 "metadata": {
  "kernelspec": {
   "display_name": "R",
   "language": "R",
   "name": "ir"
  },
  "language_info": {
   "codemirror_mode": "r",
   "file_extension": ".r",
   "mimetype": "text/x-r-source",
   "name": "R",
   "pygments_lexer": "r",
   "version": "4.2.1"
  }
 },
 "nbformat": 4,
 "nbformat_minor": 5
}
