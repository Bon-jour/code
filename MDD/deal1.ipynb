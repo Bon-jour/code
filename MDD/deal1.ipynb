{
 "cells": [
  {
   "cell_type": "code",
   "execution_count": 12,
   "id": "0f4d23c6-8fad-4808-bc3c-17af082f13e9",
   "metadata": {},
   "outputs": [],
   "source": [
    "setwd('/import/GSE213982_fel/')"
   ]
  },
  {
   "cell_type": "code",
   "execution_count": 13,
   "id": "58435004-9e5d-4a59-b808-08c3ef337297",
   "metadata": {},
   "outputs": [],
   "source": [
    "rm(list=ls())\n",
    "options(stringsAsFactors = F)\n",
    "library(Seurat)\n",
    "sce1 <- CreateSeuratObject(Read10X('./'))"
   ]
  },
  {
   "cell_type": "code",
   "execution_count": 14,
   "id": "5a23db19-c6b7-4ff0-8c1e-caa7709c35d1",
   "metadata": {},
   "outputs": [
    {
     "data": {
      "text/plain": [
       "An object of class Seurat \n",
       "36588 features across 160711 samples within 1 assay \n",
       "Active assay: RNA (36588 features, 0 variable features)"
      ]
     },
     "metadata": {},
     "output_type": "display_data"
    }
   ],
   "source": [
    "sce1"
   ]
  },
  {
   "cell_type": "code",
   "execution_count": 15,
   "id": "0b28dc74-f8ab-4d25-b94b-0b550244fc9b",
   "metadata": {},
   "outputs": [],
   "source": [
    "library(stringr)\n",
    "info = as.data.frame(str_split_fixed(rownames(sce1@meta.data), \"[.]\", 4))"
   ]
  },
  {
   "cell_type": "code",
   "execution_count": 16,
   "id": "72ca4233-90d6-40db-b111-062c19ed0acf",
   "metadata": {},
   "outputs": [],
   "source": [
    "colnames(info) = c('sample','barcodeid','celltype','celltype2')"
   ]
  },
  {
   "cell_type": "code",
   "execution_count": 17,
   "id": "caf95ca1-8afa-4073-9b94-fc7917a8b1b2",
   "metadata": {},
   "outputs": [],
   "source": [
    "sce1@meta.data = cbind(sce1@meta.data,info)"
   ]
  },
  {
   "cell_type": "code",
   "execution_count": 18,
   "id": "2a74260b-70f5-4607-9f9b-7ea5db97a043",
   "metadata": {},
   "outputs": [],
   "source": [
    "colnames(sce1@meta.data)[4] = 'sample'"
   ]
  },
  {
   "cell_type": "code",
   "execution_count": 19,
   "id": "7977fd5a-fadc-4037-8d4f-97c60f0d37ba",
   "metadata": {},
   "outputs": [
    {
     "name": "stderr",
     "output_type": "stream",
     "text": [
      "Warning message:\n",
      "\"Overwriting previous file female.h5seurat\"\n",
      "Creating h5Seurat file for version 3.1.5.9900\n",
      "\n",
      "Adding counts for RNA\n",
      "\n",
      "Adding data for RNA\n",
      "\n",
      "No variable features found for RNA\n",
      "\n",
      "No feature-level metadata found for RNA\n",
      "\n",
      "Validating h5Seurat file\n",
      "\n",
      "Adding data from RNA as X\n",
      "\n",
      "Adding counts from RNA as raw\n",
      "\n",
      "Transfering meta.data to obs\n",
      "\n"
     ]
    }
   ],
   "source": [
    "library(SeuratDisk)\n",
    "library(Seurat)      \n",
    "SaveH5Seurat(sce1,filename=\"female.h5seurat\", overwrite = TRUE)\n",
    "Convert(\"female.h5seurat\", dest = \"h5ad\", overwrite = TRUE)\t"
   ]
  },
  {
   "cell_type": "code",
   "execution_count": 8,
   "id": "51e78c78-fcc0-48f2-8f99-c6d73294f6bd",
   "metadata": {},
   "outputs": [],
   "source": [
    "#sce1$orig.ident = 'female'"
   ]
  },
  {
   "cell_type": "code",
   "execution_count": 9,
   "id": "11e0d40e-1cba-40ac-89be-ce3fa6642ee5",
   "metadata": {},
   "outputs": [],
   "source": [
    "sce1@meta.data = sce1@meta.data[,c(1,2,3,4,6)]"
   ]
  },
  {
   "cell_type": "code",
   "execution_count": 10,
   "id": "728d539e-713a-444c-8972-67e3abe0baaa",
   "metadata": {},
   "outputs": [
    {
     "data": {
      "text/html": [
       "<table class=\"dataframe\">\n",
       "<caption>A data.frame: 6 x 5</caption>\n",
       "<thead>\n",
       "\t<tr><th></th><th scope=col>orig.ident</th><th scope=col>nCount_RNA</th><th scope=col>nFeature_RNA</th><th scope=col>sample</th><th scope=col>celltype</th></tr>\n",
       "\t<tr><th></th><th scope=col>&lt;chr&gt;</th><th scope=col>&lt;dbl&gt;</th><th scope=col>&lt;int&gt;</th><th scope=col>&lt;chr&gt;</th><th scope=col>&lt;chr&gt;</th></tr>\n",
       "</thead>\n",
       "<tbody>\n",
       "\t<tr><th scope=row>F1.AAACCCACACCTCTGT-1.Mic.Mic1</th><td>female</td><td> 2848</td><td> 1869</td><td>F1</td><td>Mic</td></tr>\n",
       "\t<tr><th scope=row>F1.AAACCCATCGGCATTA-1.ExN.ExN7</th><td>female</td><td> 4215</td><td> 2364</td><td>F1</td><td>ExN</td></tr>\n",
       "\t<tr><th scope=row>F1.AAACGAATCAGGGTAG-1.InN.InN8_Mix</th><td>female</td><td>10982</td><td> 3991</td><td>F1</td><td>InN</td></tr>\n",
       "\t<tr><th scope=row>F1.AAACGAATCGGAATGG-1.Oli.Oli3</th><td>female</td><td> 2499</td><td> 1566</td><td>F1</td><td>Oli</td></tr>\n",
       "\t<tr><th scope=row>F1.AAACGCTAGGACTTCT-1.Ast.Ast1</th><td>female</td><td>  713</td><td>  589</td><td>F1</td><td>Ast</td></tr>\n",
       "\t<tr><th scope=row>F1.AAACGCTGTGACTAAA-1.ExN.ExN17</th><td>female</td><td>95773</td><td>10044</td><td>F1</td><td>ExN</td></tr>\n",
       "</tbody>\n",
       "</table>\n"
      ],
      "text/latex": [
       "A data.frame: 6 x 5\n",
       "\\begin{tabular}{r|lllll}\n",
       "  & orig.ident & nCount\\_RNA & nFeature\\_RNA & sample & celltype\\\\\n",
       "  & <chr> & <dbl> & <int> & <chr> & <chr>\\\\\n",
       "\\hline\n",
       "\tF1.AAACCCACACCTCTGT-1.Mic.Mic1 & female &  2848 &  1869 & F1 & Mic\\\\\n",
       "\tF1.AAACCCATCGGCATTA-1.ExN.ExN7 & female &  4215 &  2364 & F1 & ExN\\\\\n",
       "\tF1.AAACGAATCAGGGTAG-1.InN.InN8\\_Mix & female & 10982 &  3991 & F1 & InN\\\\\n",
       "\tF1.AAACGAATCGGAATGG-1.Oli.Oli3 & female &  2499 &  1566 & F1 & Oli\\\\\n",
       "\tF1.AAACGCTAGGACTTCT-1.Ast.Ast1 & female &   713 &   589 & F1 & Ast\\\\\n",
       "\tF1.AAACGCTGTGACTAAA-1.ExN.ExN17 & female & 95773 & 10044 & F1 & ExN\\\\\n",
       "\\end{tabular}\n"
      ],
      "text/markdown": [
       "\n",
       "A data.frame: 6 x 5\n",
       "\n",
       "| <!--/--> | orig.ident &lt;chr&gt; | nCount_RNA &lt;dbl&gt; | nFeature_RNA &lt;int&gt; | sample &lt;chr&gt; | celltype &lt;chr&gt; |\n",
       "|---|---|---|---|---|---|\n",
       "| F1.AAACCCACACCTCTGT-1.Mic.Mic1 | female |  2848 |  1869 | F1 | Mic |\n",
       "| F1.AAACCCATCGGCATTA-1.ExN.ExN7 | female |  4215 |  2364 | F1 | ExN |\n",
       "| F1.AAACGAATCAGGGTAG-1.InN.InN8_Mix | female | 10982 |  3991 | F1 | InN |\n",
       "| F1.AAACGAATCGGAATGG-1.Oli.Oli3 | female |  2499 |  1566 | F1 | Oli |\n",
       "| F1.AAACGCTAGGACTTCT-1.Ast.Ast1 | female |   713 |   589 | F1 | Ast |\n",
       "| F1.AAACGCTGTGACTAAA-1.ExN.ExN17 | female | 95773 | 10044 | F1 | ExN |\n",
       "\n"
      ],
      "text/plain": [
       "                                   orig.ident nCount_RNA nFeature_RNA sample\n",
       "F1.AAACCCACACCTCTGT-1.Mic.Mic1     female      2848       1869        F1    \n",
       "F1.AAACCCATCGGCATTA-1.ExN.ExN7     female      4215       2364        F1    \n",
       "F1.AAACGAATCAGGGTAG-1.InN.InN8_Mix female     10982       3991        F1    \n",
       "F1.AAACGAATCGGAATGG-1.Oli.Oli3     female      2499       1566        F1    \n",
       "F1.AAACGCTAGGACTTCT-1.Ast.Ast1     female       713        589        F1    \n",
       "F1.AAACGCTGTGACTAAA-1.ExN.ExN17    female     95773      10044        F1    \n",
       "                                   celltype\n",
       "F1.AAACCCACACCTCTGT-1.Mic.Mic1     Mic     \n",
       "F1.AAACCCATCGGCATTA-1.ExN.ExN7     ExN     \n",
       "F1.AAACGAATCAGGGTAG-1.InN.InN8_Mix InN     \n",
       "F1.AAACGAATCGGAATGG-1.Oli.Oli3     Oli     \n",
       "F1.AAACGCTAGGACTTCT-1.Ast.Ast1     Ast     \n",
       "F1.AAACGCTGTGACTAAA-1.ExN.ExN17    ExN     "
      ]
     },
     "metadata": {},
     "output_type": "display_data"
    }
   ],
   "source": [
    "head(sce1@meta.data)"
   ]
  },
  {
   "cell_type": "code",
   "execution_count": 11,
   "id": "908285e1-2fee-45a6-80cf-d09661dacf37",
   "metadata": {},
   "outputs": [
    {
     "name": "stderr",
     "output_type": "stream",
     "text": [
      "Warning message:\n",
      "\"package 'SeuratDisk' was built under R version 4.2.3\"\n",
      "Registered S3 method overwritten by 'SeuratDisk':\n",
      "  method            from  \n",
      "  as.sparse.H5Group Seurat\n",
      "\n",
      "Creating h5Seurat file for version 3.1.5.9900\n",
      "\n",
      "Adding counts for RNA\n",
      "\n",
      "Adding data for RNA\n",
      "\n",
      "No variable features found for RNA\n",
      "\n",
      "No feature-level metadata found for RNA\n",
      "\n",
      "Validating h5Seurat file\n",
      "\n",
      "Adding data from RNA as X\n",
      "\n",
      "Adding counts from RNA as raw\n",
      "\n",
      "Transfering meta.data to obs\n",
      "\n"
     ]
    }
   ],
   "source": [
    "library(SeuratDisk)\n",
    "library(Seurat)      \n",
    "SaveH5Seurat(sce1,filename=\"female.2.h5seurat\", overwrite = TRUE)\n",
    "Convert(\"female.2.h5seurat\", dest = \"h5ad\", overwrite = TRUE)\t"
   ]
  },
  {
   "cell_type": "code",
   "execution_count": null,
   "id": "7bf8974d-37c7-486e-bd44-f7e5da273ba8",
   "metadata": {},
   "outputs": [],
   "source": []
  }
 ],
 "metadata": {
  "kernelspec": {
   "display_name": "R",
   "language": "R",
   "name": "ir"
  },
  "language_info": {
   "codemirror_mode": "r",
   "file_extension": ".r",
   "mimetype": "text/x-r-source",
   "name": "R",
   "pygments_lexer": "r",
   "version": "4.2.1"
  }
 },
 "nbformat": 4,
 "nbformat_minor": 5
}
