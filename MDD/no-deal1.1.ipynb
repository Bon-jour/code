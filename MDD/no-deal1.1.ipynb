{
 "cells": [
  {
   "cell_type": "code",
   "execution_count": 2,
   "id": "674358a8-a77c-4178-8bbc-b503a183303d",
   "metadata": {},
   "outputs": [],
   "source": [
    "setwd('/import/GSE144136_mal//')"
   ]
  },
  {
   "cell_type": "code",
   "execution_count": 2,
   "id": "145dd2f5-902c-43bb-8eca-5560cb5f4744",
   "metadata": {},
   "outputs": [
    {
     "name": "stderr",
     "output_type": "stream",
     "text": [
      "Warning message:\n",
      "\"package 'Seurat' was built under R version 4.2.3\"\n",
      "The legacy packages maptools, rgdal, and rgeos, underpinning the sp package,\n",
      "which was just loaded, will retire in October 2023.\n",
      "Please refer to R-spatial evolution reports for details, especially\n",
      "https://r-spatial.org/r/2023/05/15/evolution4.html.\n",
      "It may be desirable to make the sf package available;\n",
      "package maintainers should consider adding sf to Suggests:.\n",
      "The sp package is now running under evolution status 2\n",
      "     (status 2 uses the sf package in place of rgdal)\n",
      "\n",
      "Attaching SeuratObject\n",
      "\n",
      "Warning message:\n",
      "\"Feature names cannot have underscores ('_'), replacing with dashes ('-')\"\n"
     ]
    }
   ],
   "source": [
    "rm(list=ls())\n",
    "options(stringsAsFactors = F)\n",
    "library(Seurat)\n",
    "sce1 <- CreateSeuratObject(Read10X('./'))"
   ]
  },
  {
   "cell_type": "code",
   "execution_count": 3,
   "id": "dbb4b1bc-0a6d-4007-a755-7a1c09ac2537",
   "metadata": {},
   "outputs": [
    {
     "data": {
      "text/plain": [
       "An object of class Seurat \n",
       "30062 features across 78886 samples within 1 assay \n",
       "Active assay: RNA (30062 features, 0 variable features)"
      ]
     },
     "metadata": {},
     "output_type": "display_data"
    }
   ],
   "source": [
    "sce1"
   ]
  },
  {
   "cell_type": "code",
   "execution_count": 4,
   "id": "bc861a02-92dd-4878-b8c6-0dcc95a4173c",
   "metadata": {},
   "outputs": [
    {
     "name": "stderr",
     "output_type": "stream",
     "text": [
      "Warning message:\n",
      "\"package 'stringr' was built under R version 4.2.3\"\n"
     ]
    }
   ],
   "source": [
    "library(stringr)\n",
    "info = as.data.frame(str_split_fixed(rownames(sce1@meta.data), \"_[A|T]\", 4))"
   ]
  },
  {
   "cell_type": "code",
   "execution_count": 5,
   "id": "ae58fdb1-1b82-4e29-9b4b-063f56a26a2f",
   "metadata": {},
   "outputs": [],
   "source": [
    "info2 = as.data.frame(str_split_fixed(info$V1, \"[.][\\\\d]+[_]\", 3))"
   ]
  },
  {
   "cell_type": "code",
   "execution_count": 6,
   "id": "021a156a-fadc-44ff-8c69-7402879f2225",
   "metadata": {},
   "outputs": [
    {
     "data": {
      "text/html": [
       "<table class=\"dataframe\">\n",
       "<caption>A data.frame: 2 x 3</caption>\n",
       "<thead>\n",
       "\t<tr><th></th><th scope=col>V1</th><th scope=col>V2</th><th scope=col>V3</th></tr>\n",
       "\t<tr><th></th><th scope=col>&lt;chr&gt;</th><th scope=col>&lt;chr&gt;</th><th scope=col>&lt;chr&gt;</th></tr>\n",
       "</thead>\n",
       "<tbody>\n",
       "\t<tr><th scope=row>1</th><td>Ex_10_L2_4</td><td>Control_B3</td><td></td></tr>\n",
       "\t<tr><th scope=row>2</th><td>Inhib_5   </td><td>Control_B3</td><td></td></tr>\n",
       "</tbody>\n",
       "</table>\n"
      ],
      "text/latex": [
       "A data.frame: 2 x 3\n",
       "\\begin{tabular}{r|lll}\n",
       "  & V1 & V2 & V3\\\\\n",
       "  & <chr> & <chr> & <chr>\\\\\n",
       "\\hline\n",
       "\t1 & Ex\\_10\\_L2\\_4 & Control\\_B3 & \\\\\n",
       "\t2 & Inhib\\_5    & Control\\_B3 & \\\\\n",
       "\\end{tabular}\n"
      ],
      "text/markdown": [
       "\n",
       "A data.frame: 2 x 3\n",
       "\n",
       "| <!--/--> | V1 &lt;chr&gt; | V2 &lt;chr&gt; | V3 &lt;chr&gt; |\n",
       "|---|---|---|---|\n",
       "| 1 | Ex_10_L2_4 | Control_B3 | <!----> |\n",
       "| 2 | Inhib_5    | Control_B3 | <!----> |\n",
       "\n"
      ],
      "text/plain": [
       "  V1         V2         V3\n",
       "1 Ex_10_L2_4 Control_B3   \n",
       "2 Inhib_5    Control_B3   "
      ]
     },
     "metadata": {},
     "output_type": "display_data"
    }
   ],
   "source": [
    "head(info2,2)"
   ]
  },
  {
   "cell_type": "code",
   "execution_count": 7,
   "id": "c80e2960-af01-477d-858f-fc23b0600aed",
   "metadata": {},
   "outputs": [],
   "source": [
    "colnames(info2)[2] = c('sample')"
   ]
  },
  {
   "cell_type": "code",
   "execution_count": 8,
   "id": "1c1666e2-7bc9-4c11-a07c-da5a437405d8",
   "metadata": {},
   "outputs": [],
   "source": [
    "sce1@meta.data = cbind(sce1@meta.data,info2$sample)"
   ]
  },
  {
   "cell_type": "code",
   "execution_count": 9,
   "id": "08cd0475-156f-4cf7-9d76-4313e4b62668",
   "metadata": {},
   "outputs": [],
   "source": [
    "colnames(sce1@meta.data)[4] = 'sample'"
   ]
  },
  {
   "cell_type": "code",
   "execution_count": 10,
   "id": "6f98474f-43de-4f64-a501-2ef213e18206",
   "metadata": {},
   "outputs": [],
   "source": [
    "info3 = as.data.frame(str_split_fixed(sce1$orig.ident, \"[.]\", 2))"
   ]
  },
  {
   "cell_type": "code",
   "execution_count": 11,
   "id": "f97bdc2f-07a3-464d-b80c-84a84d518975",
   "metadata": {},
   "outputs": [],
   "source": [
    "colnames(info3)[1]  = 'celltype'"
   ]
  },
  {
   "cell_type": "code",
   "execution_count": 12,
   "id": "88983bfe-94c4-4f96-89a6-ff70423457a5",
   "metadata": {},
   "outputs": [],
   "source": [
    "sce1@meta.data = cbind(sce1@meta.data,info3$celltype)"
   ]
  },
  {
   "cell_type": "code",
   "execution_count": 13,
   "id": "aa9fed39-987f-4610-ab70-3619d0063083",
   "metadata": {},
   "outputs": [],
   "source": [
    "colnames(sce1@meta.data)[5] = 'celltype'"
   ]
  },
  {
   "cell_type": "code",
   "execution_count": null,
   "id": "4e057ddb-cc7e-4ac4-b0aa-1fa1f627f8bc",
   "metadata": {},
   "outputs": [],
   "source": [
    "library(SeuratDisk)\n",
    "library(Seurat)      \n",
    "SaveH5Seurat(sce1,filename=\"male.h5seurat\", overwrite = TRUE)\n",
    "Convert(\"male.h5seurat\", dest = \"h5ad\", overwrite = TRUE)\t"
   ]
  },
  {
   "cell_type": "code",
   "execution_count": 17,
   "id": "1a27bcd2-63d2-43a0-8483-7d027881d22b",
   "metadata": {},
   "outputs": [
    {
     "data": {
      "text/plain": [
       "\n",
       "  Ast   End   ExN   InN   Mic   Mix   OPC   Oli \n",
       " 4057   340 44976 14607  1327  5422  2263  5894 "
      ]
     },
     "metadata": {},
     "output_type": "display_data"
    }
   ],
   "source": [
    "table(sce1$celltype)"
   ]
  },
  {
   "cell_type": "code",
   "execution_count": 16,
   "id": "864e9041-a62f-46da-a417-3df77cd4040e",
   "metadata": {},
   "outputs": [],
   "source": [
    "sce1$celltype = gsub('Astros','Ast',sce1$celltype)\n",
    "sce1$celltype = gsub('Endo','End',sce1$celltype)\n",
    "sce1$celltype = gsub('Ex','ExN',sce1$celltype)\n",
    "sce1$celltype = gsub('Inhib','InN',sce1$celltype)\n",
    "sce1$celltype = gsub('Micro/Macro','Mic',sce1$celltype)\n",
    "sce1$celltype = gsub('OPCs','OPC',sce1$celltype)\n",
    "sce1$celltype = gsub('Oligos','Oli',sce1$celltype)"
   ]
  },
  {
   "cell_type": "code",
   "execution_count": 20,
   "id": "0b0ea418-1714-4ae9-a974-5f4ce2a72192",
   "metadata": {},
   "outputs": [],
   "source": [
    "sce1$orig.ident = 'male'"
   ]
  },
  {
   "cell_type": "code",
   "execution_count": 21,
   "id": "9d0a5206-b009-4a96-966c-172b285f5c0c",
   "metadata": {},
   "outputs": [
    {
     "data": {
      "text/html": [
       "<table class=\"dataframe\">\n",
       "<caption>A data.frame: 3 x 5</caption>\n",
       "<thead>\n",
       "\t<tr><th></th><th scope=col>orig.ident</th><th scope=col>nCount_RNA</th><th scope=col>nFeature_RNA</th><th scope=col>sample</th><th scope=col>celltype</th></tr>\n",
       "\t<tr><th></th><th scope=col>&lt;chr&gt;</th><th scope=col>&lt;dbl&gt;</th><th scope=col>&lt;int&gt;</th><th scope=col>&lt;chr&gt;</th><th scope=col>&lt;chr&gt;</th></tr>\n",
       "</thead>\n",
       "<tbody>\n",
       "\t<tr><th scope=row>Ex_10_L2_4.3_Control_B3_AAACCTGAGGTAGCCA</th><td>male</td><td>4458</td><td>2672</td><td>Control_B3</td><td>ExN</td></tr>\n",
       "\t<tr><th scope=row>Inhib_5.3_Control_B3_AAACCTGCAAACTGTC</th><td>male</td><td>2197</td><td>1412</td><td>Control_B3</td><td>InN</td></tr>\n",
       "\t<tr><th scope=row>Ex_10_L2_4.3_Control_B3_AAACCTGCAACAACCT</th><td>male</td><td>1501</td><td>1069</td><td>Control_B3</td><td>ExN</td></tr>\n",
       "</tbody>\n",
       "</table>\n"
      ],
      "text/latex": [
       "A data.frame: 3 x 5\n",
       "\\begin{tabular}{r|lllll}\n",
       "  & orig.ident & nCount\\_RNA & nFeature\\_RNA & sample & celltype\\\\\n",
       "  & <chr> & <dbl> & <int> & <chr> & <chr>\\\\\n",
       "\\hline\n",
       "\tEx\\_10\\_L2\\_4.3\\_Control\\_B3\\_AAACCTGAGGTAGCCA & male & 4458 & 2672 & Control\\_B3 & ExN\\\\\n",
       "\tInhib\\_5.3\\_Control\\_B3\\_AAACCTGCAAACTGTC & male & 2197 & 1412 & Control\\_B3 & InN\\\\\n",
       "\tEx\\_10\\_L2\\_4.3\\_Control\\_B3\\_AAACCTGCAACAACCT & male & 1501 & 1069 & Control\\_B3 & ExN\\\\\n",
       "\\end{tabular}\n"
      ],
      "text/markdown": [
       "\n",
       "A data.frame: 3 x 5\n",
       "\n",
       "| <!--/--> | orig.ident &lt;chr&gt; | nCount_RNA &lt;dbl&gt; | nFeature_RNA &lt;int&gt; | sample &lt;chr&gt; | celltype &lt;chr&gt; |\n",
       "|---|---|---|---|---|---|\n",
       "| Ex_10_L2_4.3_Control_B3_AAACCTGAGGTAGCCA | male | 4458 | 2672 | Control_B3 | ExN |\n",
       "| Inhib_5.3_Control_B3_AAACCTGCAAACTGTC | male | 2197 | 1412 | Control_B3 | InN |\n",
       "| Ex_10_L2_4.3_Control_B3_AAACCTGCAACAACCT | male | 1501 | 1069 | Control_B3 | ExN |\n",
       "\n"
      ],
      "text/plain": [
       "                                         orig.ident nCount_RNA nFeature_RNA\n",
       "Ex_10_L2_4.3_Control_B3_AAACCTGAGGTAGCCA male       4458       2672        \n",
       "Inhib_5.3_Control_B3_AAACCTGCAAACTGTC    male       2197       1412        \n",
       "Ex_10_L2_4.3_Control_B3_AAACCTGCAACAACCT male       1501       1069        \n",
       "                                         sample     celltype\n",
       "Ex_10_L2_4.3_Control_B3_AAACCTGAGGTAGCCA Control_B3 ExN     \n",
       "Inhib_5.3_Control_B3_AAACCTGCAAACTGTC    Control_B3 InN     \n",
       "Ex_10_L2_4.3_Control_B3_AAACCTGCAACAACCT Control_B3 ExN     "
      ]
     },
     "metadata": {},
     "output_type": "display_data"
    }
   ],
   "source": [
    "head(sce1@meta.data,3)"
   ]
  },
  {
   "cell_type": "code",
   "execution_count": 22,
   "id": "e3283863-75b4-4fc6-b833-a12702195578",
   "metadata": {},
   "outputs": [
    {
     "name": "stderr",
     "output_type": "stream",
     "text": [
      "Warning message:\n",
      "\"Overwriting previous file male.2.h5seurat\"\n",
      "Creating h5Seurat file for version 3.1.5.9900\n",
      "\n",
      "Adding counts for RNA\n",
      "\n",
      "Adding data for RNA\n",
      "\n",
      "No variable features found for RNA\n",
      "\n",
      "No feature-level metadata found for RNA\n",
      "\n",
      "Validating h5Seurat file\n",
      "\n",
      "Adding data from RNA as X\n",
      "\n",
      "Adding counts from RNA as raw\n",
      "\n",
      "Transfering meta.data to obs\n",
      "\n"
     ]
    }
   ],
   "source": [
    "library(SeuratDisk)\n",
    "library(Seurat)      \n",
    "SaveH5Seurat(sce1,filename=\"male.2.h5seurat\", overwrite = TRUE)\n",
    "Convert(\"male.2.h5seurat\", dest = \"h5ad\", overwrite = TRUE)\t"
   ]
  },
  {
   "cell_type": "code",
   "execution_count": null,
   "id": "8bbed78a-13bd-4772-9991-3cbf20bdab8f",
   "metadata": {},
   "outputs": [],
   "source": []
  }
 ],
 "metadata": {
  "kernelspec": {
   "display_name": "R",
   "language": "R",
   "name": "ir"
  },
  "language_info": {
   "codemirror_mode": "r",
   "file_extension": ".r",
   "mimetype": "text/x-r-source",
   "name": "R",
   "pygments_lexer": "r",
   "version": "4.2.1"
  }
 },
 "nbformat": 4,
 "nbformat_minor": 5
}
