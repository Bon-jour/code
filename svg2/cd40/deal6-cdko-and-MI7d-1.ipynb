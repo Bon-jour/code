{
 "cells": [
  {
   "cell_type": "code",
   "execution_count": 2,
   "id": "f14a96c2-d1e3-4248-b264-d905c8ee57a0",
   "metadata": {},
   "outputs": [],
   "source": [
    "setwd('/import/DB/workdir/cd40/')"
   ]
  },
  {
   "cell_type": "code",
   "execution_count": null,
   "id": "86f87998-8a33-4fc0-81b7-109eca0d739d",
   "metadata": {},
   "outputs": [
    {
     "name": "stderr",
     "output_type": "stream",
     "text": [
      "Warning message:\n",
      "\"package 'Seurat' was built under R version 4.2.3\"\n",
      "The legacy packages maptools, rgdal, and rgeos, underpinning the sp package,\n",
      "which was just loaded, will retire in October 2023.\n",
      "Please refer to R-spatial evolution reports for details, especially\n",
      "https://r-spatial.org/r/2023/05/15/evolution4.html.\n",
      "It may be desirable to make the sf package available;\n",
      "package maintainers should consider adding sf to Suggests:.\n",
      "The sp package is now running under evolution status 2\n",
      "     (status 2 uses the sf package in place of rgdal)\n",
      "\n",
      "Attaching SeuratObject\n",
      "\n"
     ]
    }
   ],
   "source": [
    "library(Seurat)\n",
    "MI = readRDS('/import/194.data/data//singledata/after_rename.rds')\n",
    "Idents(MI) = 'orig.ident'\n",
    "MI7d = subset(MI,idents = c('MI7d'))\n",
    "CD.KO7d = Read10X_h5('./1.CellRanger/CD_KO_7d/filtered_feature_bc_matrix.h5')\n",
    "CD.KO7d = CreateSeuratObject(CD.KO7d,project = 'CD.KO7d')"
   ]
  },
  {
   "cell_type": "code",
   "execution_count": null,
   "id": "0a2617ee-22f0-4e34-bf23-9349b13476ae",
   "metadata": {},
   "outputs": [],
   "source": [
    "single.ob=merge(MI7d,CD.KO7d)"
   ]
  },
  {
   "cell_type": "code",
   "execution_count": null,
   "id": "eb713ddc-03b0-4fc7-ac3a-ccc906176026",
   "metadata": {},
   "outputs": [],
   "source": [
    "immune.combined = single.ob\n",
    "immune.combined[[\"percent.mt\"]] <- PercentageFeatureSet(immune.combined,pattern = \"^mt-\")\n",
    "VlnPlot(immune.combined, features = c(\"nFeature_RNA\", \"nCount_RNA\", \"percent.mt\"), ncol = 3,pt.size = 0,group.by=\"orig.ident\")\n",
    "library(ggplot2)\n",
    "\n",
    "#ggsave('figure1.pdf',height =  4,width = 6)"
   ]
  },
  {
   "cell_type": "code",
   "execution_count": null,
   "id": "d8c3b48a-cd6e-4323-8447-46d9099ff5a9",
   "metadata": {},
   "outputs": [],
   "source": [
    "\n",
    "\n",
    "Idents(immune.combined) = 'orig.ident'\n",
    "\n",
    "plot1 <- FeatureScatter(immune.combined, \n",
    "                        feature1 = \"nCount_RNA\", \n",
    "                        feature2 = \"percent.mt\")\n",
    "plot2 <- FeatureScatter(immune.combined, \n",
    "                        feature1 = \"nCount_RNA\", \n",
    "                        feature2 = \"nFeature_RNA\")\n",
    "plot1 + plot2\n",
    "\n",
    "#ggsave('scatter.pdf',,width = 13)\n",
    "\n",
    "immune.combined <-   subset(immune.combined, subset = nFeature_RNA > 500 & nFeature_RNA < 5000 & percent.mt < 20)\n",
    "\n",
    "VlnPlot(immune.combined, features = c(\"nFeature_RNA\", \"nCount_RNA\", \"percent.mt\"), ncol = 3,pt.size = 0,group.by=\"orig.ident\")\n",
    "\n",
    "#ggsave('figure1-1.pdf',height =  4,width = 6)\n",
    "\n",
    "library(DoubletFinder)\n",
    "library(tidyverse)\n",
    "library(Seurat)\n",
    "library(patchwork)"
   ]
  },
  {
   "cell_type": "code",
   "execution_count": null,
   "id": "93f81563-6a4c-456d-b6ec-f12ee81c1a13",
   "metadata": {},
   "outputs": [],
   "source": [
    "immune.combined <-NormalizeData(immune.combined)\n",
    "immune.combined <- ScaleData(immune.combined,feature=rownames(immune.combined), verbose = FALSE)\n",
    "immune.combined <- FindVariableFeatures(object = immune.combined,selection.method = 'vst', nfeatures = 2000)\n",
    "immune.combined <- RunPCA(immune.combined,  features = VariableFeatures(object = immune.combined) ,verbose = FALSE)\n",
    "immune.combined <- RunUMAP(immune.combined, reduction = \"pca\", dims = 1:20)\n",
    "immune.combined <- RunTSNE(immune.combined, reduction = \"pca\", dims = 1:20)\n",
    "immune.combined <- FindNeighbors(immune.combined, reduction = \"pca\", dims = 1:20)\n",
    "immune.combined <- FindClusters(immune.combined)"
   ]
  },
  {
   "cell_type": "code",
   "execution_count": null,
   "id": "e3b5511f-c970-4f61-aa71-bb7a2e68949b",
   "metadata": {},
   "outputs": [],
   "source": [
    "H9 = immune.combined"
   ]
  },
  {
   "cell_type": "code",
   "execution_count": null,
   "id": "53e61c3e-c8ae-4d2c-ba0d-3bff2cbe080f",
   "metadata": {},
   "outputs": [],
   "source": [
    "paramSweep = function (seu, PCs = 1:20, sct = FALSE, num.cores = 1) \n",
    "{\n",
    "    require(Seurat)\n",
    "    require(fields)\n",
    "    require(parallel)\n",
    "    pK <- c(5e-04, 0.001, 0.005, seq(0.01, 0.3, by = 0.01))\n",
    "    pN <- seq(0.05, 0.3, by = 0.05)\n",
    "    min.cells <- round(nrow(seu@meta.data)/(1 - 0.05) - nrow(seu@meta.data))\n",
    "    pK.test <- round(pK * min.cells)\n",
    "    pK <- pK[which(pK.test >= 1)]\n",
    "    orig.commands <- seu@commands\n",
    "    if (nrow(seu@meta.data) > 10000) {\n",
    "        real.cells <- rownames(seu@meta.data)[sample(1:nrow(seu@meta.data), \n",
    "            10000, replace = FALSE)]\n",
    "        data <- seu@assays$RNA@counts[, real.cells]\n",
    "        n.real.cells <- ncol(data)\n",
    "    }\n",
    "    if (nrow(seu@meta.data) <= 10000) {\n",
    "        real.cells <- rownames(seu@meta.data)\n",
    "        data <- seu@assays$RNA@counts\n",
    "        n.real.cells <- ncol(data)\n",
    "    }\n",
    "    if (num.cores > 1) {\n",
    "        require(parallel)\n",
    "        cl <- makeCluster(num.cores)\n",
    "        output2 <- mclapply(as.list(1:length(pN)), FUN = parallel_paramSweep, \n",
    "            n.real.cells, real.cells, pK, pN, data, orig.commands, \n",
    "            PCs, sct, mc.cores = num.cores)\n",
    "        stopCluster(cl)\n",
    "    }\n",
    "    else {\n",
    "        output2 <- lapply(as.list(1:length(pN)), FUN = parallel_paramSweep, \n",
    "            n.real.cells, real.cells, pK, pN, data, orig.commands, \n",
    "            PCs, sct)\n",
    "    }\n",
    "    sweep.res.list <- list()\n",
    "    list.ind <- 0\n",
    "    for (i in 1:length(output2)) {\n",
    "        for (j in 1:length(output2[[i]])) {\n",
    "            list.ind <- list.ind + 1\n",
    "            sweep.res.list[[list.ind]] <- output2[[i]][[j]]\n",
    "        }\n",
    "    }\n",
    "    name.vec <- NULL\n",
    "    for (j in 1:length(pN)) {\n",
    "        name.vec <- c(name.vec, paste(\"pN\", pN[j], \"pK\", pK, \n",
    "            sep = \"_\"))\n",
    "    }\n",
    "    names(sweep.res.list) <- name.vec\n",
    "    return(sweep.res.list)\n",
    "}"
   ]
  },
  {
   "cell_type": "code",
   "execution_count": null,
   "id": "5697ec7f-50c3-4483-ac3c-15e0ad1fd6b3",
   "metadata": {
    "scrolled": true
   },
   "outputs": [],
   "source": [
    "sweep.res.list_kidney <- paramSweep(H9, PCs = 1:20, sct = FALSE)"
   ]
  },
  {
   "cell_type": "code",
   "execution_count": null,
   "id": "448c407b-ff23-48cd-907a-96b49ca2c8f3",
   "metadata": {},
   "outputs": [],
   "source": [
    "sweep.stats_kidney <- summarizeSweep(sweep.res.list_kidney, GT = FALSE)\n",
    "bcmvn_kidney <- find.pK(sweep.stats_kidney)"
   ]
  },
  {
   "cell_type": "code",
   "execution_count": null,
   "id": "99926899-0d76-4496-a89a-09765b891f61",
   "metadata": {},
   "outputs": [],
   "source": [
    "pK_bcmvn <- bcmvn_kidney$pK[which.max(bcmvn_kidney$BCmetric)] %>% as.character() %>% as.numeric()"
   ]
  },
  {
   "cell_type": "code",
   "execution_count": null,
   "id": "9ecc5d23-3083-4729-99aa-679862aa540b",
   "metadata": {},
   "outputs": [],
   "source": [
    "DoubletRate = ncol(H9)*8*1e-7"
   ]
  },
  {
   "cell_type": "code",
   "execution_count": null,
   "id": "2f3d93b7-8aed-44ee-89b6-5abcfc5a07a5",
   "metadata": {},
   "outputs": [],
   "source": [
    "DoubletRate"
   ]
  },
  {
   "cell_type": "code",
   "execution_count": null,
   "id": "a7dfd3a3-ec36-44b1-a86b-afcfaf98a931",
   "metadata": {},
   "outputs": [],
   "source": [
    "homotypic.prop <- modelHomotypic(H9$orig.ident)"
   ]
  },
  {
   "cell_type": "code",
   "execution_count": null,
   "id": "5251aa64-437e-49a5-b2d5-af34fae268fc",
   "metadata": {},
   "outputs": [],
   "source": [
    "nExp_poi <- round(DoubletRate*ncol(H9)) \n",
    "nExp_poi.adj <- round(nExp_poi*(1-homotypic.prop))"
   ]
  },
  {
   "cell_type": "code",
   "execution_count": null,
   "id": "ca0775b2-e6b4-4ad8-9f0d-74530a27d777",
   "metadata": {},
   "outputs": [],
   "source": [
    "doubletFinder = function (seu, PCs, pN = 0.25, pK, nExp, reuse.pANN = FALSE, \n",
    "    sct = FALSE, annotations = NULL) \n",
    "{\n",
    "    require(Seurat)\n",
    "    require(fields)\n",
    "    require(KernSmooth)\n",
    "    if (reuse.pANN != FALSE) {\n",
    "        pANN.old <- seu@meta.data[, reuse.pANN]\n",
    "        classifications <- rep(\"Singlet\", length(pANN.old))\n",
    "        classifications[order(pANN.old, decreasing = TRUE)[1:nExp]] <- \"Doublet\"\n",
    "        seu@meta.data[, paste(\"DF.classifications\", pN, pK, nExp, \n",
    "            sep = \"_\")] <- classifications\n",
    "        return(seu)\n",
    "    }\n",
    "    if (reuse.pANN == FALSE) {\n",
    "        real.cells <- rownames(seu@meta.data)\n",
    "        data <- seu@assays$RNA@counts[, real.cells]\n",
    "        n_real.cells <- length(real.cells)\n",
    "        n_doublets <- round(n_real.cells/(1 - pN) - n_real.cells)\n",
    "        print(paste(\"Creating\", n_doublets, \"artificial doublets...\", \n",
    "            sep = \" \"))\n",
    "        real.cells1 <- sample(real.cells, n_doublets, replace = TRUE)\n",
    "        real.cells2 <- sample(real.cells, n_doublets, replace = TRUE)\n",
    "        doublets <- (data[, real.cells1] + data[, real.cells2])/2\n",
    "        colnames(doublets) <- paste(\"X\", 1:n_doublets, sep = \"\")\n",
    "        data_wdoublets <- cbind(data, doublets)\n",
    "        if (!is.null(annotations)) {\n",
    "            stopifnot(typeof(annotations) == \"character\")\n",
    "            stopifnot(length(annotations) == length(Cells(seu)))\n",
    "            stopifnot(!any(is.na(annotations)))\n",
    "            annotations <- factor(annotations)\n",
    "            names(annotations) <- Cells(seu)\n",
    "            doublet_types1 <- annotations[real.cells1]\n",
    "            doublet_types2 <- annotations[real.cells2]\n",
    "        }\n",
    "        orig.commands <- seu@commands\n",
    "        if (sct == FALSE) {\n",
    "            print(\"Creating Seurat object...\")\n",
    "            seu_wdoublets <- CreateSeuratObject(counts = data_wdoublets)\n",
    "            print(\"Normalizing Seurat object...\")\n",
    "            seu_wdoublets <- NormalizeData(seu_wdoublets, normalization.method = orig.commands$NormalizeData.RNA@params$normalization.method, \n",
    "                scale.factor = orig.commands$NormalizeData.RNA@params$scale.factor, \n",
    "                margin = orig.commands$NormalizeData.RNA@params$margin)\n",
    "            print(\"Finding variable genes...\")\n",
    "            seu_wdoublets <- FindVariableFeatures(seu_wdoublets, \n",
    "                selection.method = orig.commands$FindVariableFeatures.RNA$selection.method, \n",
    "                loess.span = orig.commands$FindVariableFeatures.RNA$loess.span, \n",
    "                clip.max = orig.commands$FindVariableFeatures.RNA$clip.max, \n",
    "                mean.function = orig.commands$FindVariableFeatures.RNA$mean.function, \n",
    "                dispersion.function = orig.commands$FindVariableFeatures.RNA$dispersion.function, \n",
    "                num.bin = orig.commands$FindVariableFeatures.RNA$num.bin, \n",
    "                binning.method = orig.commands$FindVariableFeatures.RNA$binning.method, \n",
    "                nfeatures = orig.commands$FindVariableFeatures.RNA$nfeatures, \n",
    "                mean.cutoff = orig.commands$FindVariableFeatures.RNA$mean.cutoff, \n",
    "                dispersion.cutoff = orig.commands$FindVariableFeatures.RNA$dispersion.cutoff)\n",
    "            print(\"Scaling data...\")\n",
    "            seu_wdoublets <- ScaleData(seu_wdoublets, features = orig.commands$ScaleData.RNA$features, \n",
    "                model.use = orig.commands$ScaleData.RNA$model.use, \n",
    "                do.scale = orig.commands$ScaleData.RNA$do.scale, \n",
    "                do.center = orig.commands$ScaleData.RNA$do.center, \n",
    "                scale.max = orig.commands$ScaleData.RNA$scale.max, \n",
    "                block.size = orig.commands$ScaleData.RNA$block.size, \n",
    "                min.cells.to.block = orig.commands$ScaleData.RNA$min.cells.to.block)\n",
    "            print(\"Running PCA...\")\n",
    "            seu_wdoublets <- RunPCA(seu_wdoublets, features = orig.commands$ScaleData.RNA$features, \n",
    "                npcs = length(PCs), rev.pca = orig.commands$RunPCA.RNA$rev.pca, \n",
    "                weight.by.var = orig.commands$RunPCA.RNA$weight.by.var, \n",
    "                verbose = FALSE)\n",
    "            pca.coord <- seu_wdoublets@reductions$pca@cell.embeddings[, \n",
    "                PCs]\n",
    "            cell.names <- rownames(seu_wdoublets@meta.data)\n",
    "            nCells <- length(cell.names)\n",
    "            rm(seu_wdoublets)\n",
    "            gc()\n",
    "        }\n",
    "        if (sct == TRUE) {\n",
    "            require(sctransform)\n",
    "            print(\"Creating Seurat object...\")\n",
    "            seu_wdoublets <- CreateSeuratObject(counts = data_wdoublets)\n",
    "            print(\"Running SCTransform...\")\n",
    "            seu_wdoublets <- SCTransform(seu_wdoublets)\n",
    "            print(\"Running PCA...\")\n",
    "            seu_wdoublets <- RunPCA(seu_wdoublets, npcs = length(PCs))\n",
    "            pca.coord <- seu_wdoublets@reductions$pca@cell.embeddings[, \n",
    "                PCs]\n",
    "            cell.names <- rownames(seu_wdoublets@meta.data)\n",
    "            nCells <- length(cell.names)\n",
    "            rm(seu_wdoublets)\n",
    "            gc()\n",
    "        }\n",
    "        print(\"Calculating PC distance matrix...\")\n",
    "        dist.mat <- fields::rdist(pca.coord)\n",
    "        print(\"Computing pANN...\")\n",
    "        pANN <- as.data.frame(matrix(0L, nrow = n_real.cells, \n",
    "            ncol = 1))\n",
    "        if (!is.null(annotations)) {\n",
    "            neighbor_types <- as.data.frame(matrix(0L, nrow = n_real.cells, \n",
    "                ncol = length(levels(doublet_types1))))\n",
    "        }\n",
    "        rownames(pANN) <- real.cells\n",
    "        colnames(pANN) <- \"pANN\"\n",
    "        k <- round(nCells * pK)\n",
    "        for (i in 1:n_real.cells) {\n",
    "            neighbors <- order(dist.mat[, i])\n",
    "            neighbors <- neighbors[2:(k + 1)]\n",
    "            pANN$pANN[i] <- length(which(neighbors > n_real.cells))/k\n",
    "            if (!is.null(annotations)) {\n",
    "                for (ct in unique(annotations)) {\n",
    "                  neighbors_that_are_doublets = neighbors[neighbors > \n",
    "                    n_real.cells]\n",
    "                  if (length(neighbors_that_are_doublets) > 0) {\n",
    "                    neighbor_types[i, ] <- table(doublet_types1[neighbors_that_are_doublets - \n",
    "                      n_real.cells]) + table(doublet_types2[neighbors_that_are_doublets - \n",
    "                      n_real.cells])\n",
    "                    neighbor_types[i, ] <- neighbor_types[i, \n",
    "                      ]/sum(neighbor_types[i, ])\n",
    "                  }\n",
    "                  else {\n",
    "                    neighbor_types[i, ] <- NA\n",
    "                  }\n",
    "                }\n",
    "            }\n",
    "        }\n",
    "        print(\"Classifying doublets..\")\n",
    "        classifications <- rep(\"Singlet\", n_real.cells)\n",
    "        classifications[order(pANN$pANN[1:n_real.cells], decreasing = TRUE)[1:nExp]] <- \"Doublet\"\n",
    "        seu@meta.data[, paste(\"pANN\", pN, pK, nExp, sep = \"_\")] <- pANN[rownames(seu@meta.data), \n",
    "            1]\n",
    "        seu@meta.data[, paste(\"DF.classifications\", pN, pK, nExp, \n",
    "            sep = \"_\")] <- classifications\n",
    "        if (!is.null(annotations)) {\n",
    "            colnames(neighbor_types) = levels(doublet_types1)\n",
    "            for (ct in levels(doublet_types1)) {\n",
    "                seu@meta.data[, paste(\"DF.doublet.contributors\", \n",
    "                  pN, pK, nExp, ct, sep = \"_\")] <- neighbor_types[, \n",
    "                  ct]\n",
    "            }\n",
    "        }\n",
    "        return(seu)\n",
    "    }\n",
    "}"
   ]
  },
  {
   "cell_type": "code",
   "execution_count": null,
   "id": "860c7f29-2c27-4575-8296-7210673b0769",
   "metadata": {},
   "outputs": [],
   "source": [
    "scRNA <- doubletFinder(H9, PCs = 1:20, pN = 0.25, pK = pK_bcmvn, \n",
    "                          nExp = nExp_poi.adj, reuse.pANN = F, sct = F)"
   ]
  },
  {
   "cell_type": "code",
   "execution_count": null,
   "id": "4278328d-7453-4f36-8ff3-b6c900228474",
   "metadata": {},
   "outputs": [],
   "source": [
    "colnames(scRNA@meta.data)"
   ]
  },
  {
   "cell_type": "code",
   "execution_count": null,
   "id": "15162d0e-6a42-4f81-b4c2-bf5ed7bd6d1a",
   "metadata": {},
   "outputs": [],
   "source": [
    "DimPlot(scRNA, reduction = \"umap\", group.by = \"DF.classifications_0.25_0.005_100\")"
   ]
  },
  {
   "cell_type": "code",
   "execution_count": null,
   "id": "f33e3cad-7de3-4449-92fa-4a5424cb331d",
   "metadata": {},
   "outputs": [],
   "source": [
    "#ggsave('figure2.pdf',height =  4,width = 5)"
   ]
  },
  {
   "cell_type": "code",
   "execution_count": null,
   "id": "0099994d-0bdf-4aeb-afdd-a3bdc58e53cd",
   "metadata": {},
   "outputs": [],
   "source": [
    "immune.combined = subset(scRNA, subset = DF.classifications_0.25_0.005_100  != 'Doublet')"
   ]
  },
  {
   "cell_type": "code",
   "execution_count": null,
   "id": "147250f0-5a2e-4739-9efc-e54960f7e6e0",
   "metadata": {},
   "outputs": [],
   "source": [
    "table(immune.combined$orig.ident)"
   ]
  },
  {
   "cell_type": "code",
   "execution_count": null,
   "id": "8dc9bc59-bcac-4fe6-8c28-c90467efe18b",
   "metadata": {
    "scrolled": true
   },
   "outputs": [],
   "source": [
    "ifnb.list <- SplitObject(immune.combined, split.by = \"orig.ident\")\n",
    "\n",
    "testAB.anchors <- FindIntegrationAnchors(object.list = ifnb.list, dims = 1:20)\n",
    "testAB.integrated <- IntegrateData(anchorset = testAB.anchors, dims = 1:20)\n",
    "\n",
    "DefaultAssay(testAB.integrated) <- \"integrated\"\n",
    "# Run the standard workflow for visualization and clustering\n",
    "testAB.integrated <- ScaleData(testAB.integrated, features = rownames(testAB.integrated))\n",
    "testAB.integrated <- RunPCA(testAB.integrated, npcs = 50, verbose = FALSE)\n",
    "testAB.integrated <- FindNeighbors(testAB.integrated, dims = 1:30)\n",
    "testAB.integrated <- FindClusters(testAB.integrated, resolution = 0.3)\n",
    "testAB.integrated <- RunUMAP(testAB.integrated, dims = 1:30)\n",
    "testAB.integrated <- RunTSNE(testAB.integrated, dims = 1:30)\n",
    "\n",
    "immune.combined = testAB.integrated"
   ]
  },
  {
   "cell_type": "code",
   "execution_count": null,
   "id": "82fe7cb1-b959-4a01-a701-277f949a88c0",
   "metadata": {},
   "outputs": [],
   "source": [
    "#saveRDS(immune.combined,file = 'before_rename.rds')"
   ]
  },
  {
   "cell_type": "code",
   "execution_count": null,
   "id": "b4247994-14de-42d2-9f6b-5086b23ef5a7",
   "metadata": {},
   "outputs": [],
   "source": [
    "library(Seurat)"
   ]
  },
  {
   "cell_type": "code",
   "execution_count": null,
   "id": "47312afc-c196-426a-87aa-fd595a59dfa9",
   "metadata": {},
   "outputs": [],
   "source": [
    "#scRNA = readRDS('./before_rename.rds')"
   ]
  },
  {
   "cell_type": "code",
   "execution_count": null,
   "id": "75e777a9-95fb-47f1-8d8c-1bf76195c6b6",
   "metadata": {},
   "outputs": [],
   "source": [
    "scRNA = immune.combined\n",
    "DimPlot(scRNA, reduction = \"umap\", group.by = \"orig.ident\")"
   ]
  },
  {
   "cell_type": "code",
   "execution_count": null,
   "id": "03f2d925-f415-4536-bda7-189354fa7965",
   "metadata": {},
   "outputs": [],
   "source": [
    "library(ggplot2)"
   ]
  },
  {
   "cell_type": "code",
   "execution_count": null,
   "id": "17d55f73-a09b-43d9-9af1-8024feea6f30",
   "metadata": {},
   "outputs": [],
   "source": [
    "#ggsave('figure3.pdf',height =  4,width = 5)"
   ]
  },
  {
   "cell_type": "code",
   "execution_count": null,
   "id": "2f846540-f7af-4294-b90c-b0ee3d385ead",
   "metadata": {},
   "outputs": [],
   "source": [
    "immune.combined = scRNA"
   ]
  },
  {
   "cell_type": "code",
   "execution_count": null,
   "id": "b8b70787-cf04-402f-9fcc-b9dc659fdeb0",
   "metadata": {},
   "outputs": [],
   "source": [
    "DimPlot(immune.combined, reduction = \"umap\", split.by  = \"orig.ident\",ncol = 2)"
   ]
  },
  {
   "cell_type": "code",
   "execution_count": null,
   "id": "3c254a00-56be-4a52-8cd1-2f6ee763ae08",
   "metadata": {},
   "outputs": [],
   "source": [
    "#ggsave('figure4.pdf',height =  8,width = 12)"
   ]
  },
  {
   "cell_type": "code",
   "execution_count": null,
   "id": "905ca7b8-2f4c-41da-bfda-908b87e66825",
   "metadata": {},
   "outputs": [],
   "source": [
    "scRNA = immune.combined"
   ]
  },
  {
   "cell_type": "code",
   "execution_count": null,
   "id": "6e6c45e0-3fe3-456b-ba1d-b227c88ab221",
   "metadata": {},
   "outputs": [],
   "source": []
  },
  {
   "cell_type": "code",
   "execution_count": null,
   "id": "05780cba-6521-4cbd-af41-fe71e381eea7",
   "metadata": {
    "scrolled": true
   },
   "outputs": [],
   "source": [
    "library(Seurat) ##\n",
    "library(SingleR)\n",
    "library(ggplot2)\n",
    "library(reshape2)\n",
    "mouseImmu  = get(load('/import/DB/SingleR_ref/ref_Mouse_all.RData'))\n",
    "pbmc_for_SingleR <- GetAssayData(scRNA, slot=\"data\") ##获取标准化矩阵\n",
    "clusters=scRNA@meta.data$seurat_clusters\n",
    "pred.mouseImmu <- SingleR(test = pbmc_for_SingleR, ref = mouseImmu, labels = mouseImmu$label.main,\n",
    " method = \"cluster\", clusters = clusters, \n",
    " assay.type.test = \"logcounts\", assay.type.ref = \"logcounts\")\n",
    "celltype = data.frame(ClusterID=rownames(pred.mouseImmu), celltype=pred.mouseImmu$labels, stringsAsFactors = FALSE)"
   ]
  },
  {
   "cell_type": "code",
   "execution_count": null,
   "id": "4a51bb6f-37a2-4dd7-b5e8-0b2998a1edf3",
   "metadata": {},
   "outputs": [],
   "source": [
    "scRNA@meta.data$celltype = \"NA\"\n",
    "# 赋值\n",
    "for(i in 1:nrow(celltype)){\n",
    "  scRNA@meta.data[which(scRNA@meta.data$seurat_clusters == celltype$ClusterID[i]),'celltype'] <- celltype$celltype[i]}"
   ]
  },
  {
   "cell_type": "code",
   "execution_count": null,
   "id": "ba85d491-312e-4b7e-bf1c-da9bce3f30e6",
   "metadata": {},
   "outputs": [],
   "source": [
    "#scRNA = readRDS('./after_rename.rds')"
   ]
  },
  {
   "cell_type": "code",
   "execution_count": null,
   "id": "18caeb22-b8f3-4554-944e-bd7d31e4b400",
   "metadata": {},
   "outputs": [],
   "source": [
    "scRNA"
   ]
  },
  {
   "cell_type": "code",
   "execution_count": null,
   "id": "27dd9981-737e-4aac-bb91-04453e050263",
   "metadata": {},
   "outputs": [],
   "source": [
    "library(Seurat)"
   ]
  },
  {
   "cell_type": "code",
   "execution_count": null,
   "id": "4930ee99-69cb-45f3-983d-acd77f5b0a30",
   "metadata": {},
   "outputs": [],
   "source": [
    "scRNA@meta.data$celltype = gsub('Monocytes','Myloeid',scRNA@meta.data$celltype)"
   ]
  },
  {
   "cell_type": "code",
   "execution_count": null,
   "id": "e40d122c-3dcf-4f1d-87a0-f7bbd21d8057",
   "metadata": {
    "scrolled": true
   },
   "outputs": [],
   "source": [
    "DimPlot(scRNA, group.by=\"celltype\", label=T, label.size=5, reduction='umap')"
   ]
  },
  {
   "cell_type": "code",
   "execution_count": null,
   "id": "d069ad4c-53ee-4440-8b61-c601ea1a78aa",
   "metadata": {},
   "outputs": [],
   "source": [
    "Idents(scRNA) = 'seurat_clusters'"
   ]
  },
  {
   "cell_type": "code",
   "execution_count": null,
   "id": "b75780fa-cda3-4d40-9c5b-73164b10fbd5",
   "metadata": {},
   "outputs": [],
   "source": [
    "DimPlot(scRNA, group.by=\"seurat_clusters\", label=T, label.size=5, reduction='umap')"
   ]
  },
  {
   "cell_type": "code",
   "execution_count": null,
   "id": "33fb0ae5-8c3b-480c-92e3-982dbfc4e017",
   "metadata": {},
   "outputs": [],
   "source": [
    "library(ggplot2)"
   ]
  },
  {
   "cell_type": "code",
   "execution_count": null,
   "id": "3ccfad96-d8c7-4056-82c4-f34d0b483df8",
   "metadata": {},
   "outputs": [],
   "source": [
    "#ggsave('figure5.pdf',height =  8,width = 9)"
   ]
  },
  {
   "cell_type": "code",
   "execution_count": null,
   "id": "06d43b2b-feb1-4103-9456-f7dafc56d84a",
   "metadata": {},
   "outputs": [],
   "source": [
    "DimPlot(scRNA, group.by=\"seurat_clusters\", label=T, label.size=5, reduction='umap')"
   ]
  },
  {
   "cell_type": "code",
   "execution_count": null,
   "id": "9c163b10-eb88-4cbc-8920-f6e7b94ac6be",
   "metadata": {},
   "outputs": [],
   "source": [
    "ggsave('figure6.pdf',height =  8,width = 9)"
   ]
  },
  {
   "cell_type": "code",
   "execution_count": null,
   "id": "19989715-f2de-49af-bbf8-ef1b49d2dbfe",
   "metadata": {},
   "outputs": [],
   "source": [
    "table(scRNA$seurat_clusters)"
   ]
  },
  {
   "cell_type": "code",
   "execution_count": null,
   "id": "d062e8b8-728b-4c5e-bdcd-3c0656f33256",
   "metadata": {},
   "outputs": [],
   "source": [
    "Idents(scRNA) = 'seurat_clusters'"
   ]
  },
  {
   "cell_type": "code",
   "execution_count": null,
   "id": "c1a8047a-73a3-4c2d-a6ab-fc843eb2b6f8",
   "metadata": {},
   "outputs": [],
   "source": [
    "scedata = scRNA"
   ]
  },
  {
   "cell_type": "code",
   "execution_count": null,
   "id": "f04ea580-3ec9-413f-abd2-32ffcded698d",
   "metadata": {},
   "outputs": [],
   "source": [
    "Idents(scRNA) = 'seurat_clusters'"
   ]
  },
  {
   "cell_type": "code",
   "execution_count": null,
   "id": "85de6364-8a91-4abd-a523-88199b27670f",
   "metadata": {},
   "outputs": [],
   "source": [
    "DotPlot(scRNA,features = c('Plac8','Chil3','Ly6c2'))"
   ]
  },
  {
   "cell_type": "code",
   "execution_count": null,
   "id": "6398fe46-0775-4348-9a3c-5b7462ddbfef",
   "metadata": {},
   "outputs": [],
   "source": [
    "Idents(scRNA) ='celltype'\n",
    "\n",
    "scedata = scRNA\n",
    "table(scedata$orig.ident)#查看各组细胞数\n",
    "prop.table(table(Idents(scedata)))\n",
    "table(Idents(scedata), scedata$orig.ident)#各组不同细胞群细胞数\n",
    "Cellratio <- prop.table(table(Idents(scedata), scedata$orig.ident), margin = 2)#计算各组样本不同细胞群比例\n",
    "Cellratio <- as.data.frame(Cellratio)\n",
    "\n",
    "Cellratio$Var2 = factor(Cellratio$Var2,levels = c('CD.KO7d', 'MI7d'))\n",
    "\n",
    "allcolour=c(\"#DC143C\",\"#0000FF\",\"#20B2AA\",\"#FFA500\",\"#9370DB\",\"#98FB98\",\"#F08080\",\"#1E90FF\",\"#7CFC00\",\"#FFFF00\",\n",
    "            \"#808000\",\"#FF00FF\",\"#FA8072\",\"#7B68EE\",\"#9400D3\",\"#800080\",\"#A0522D\",\"#D2B48C\",\"#D2691E\",\"#87CEEB\",\"#40E0D0\",\"#5F9EA0\",\n",
    "            \"#FF1493\",\"#0000CD\",\"#008B8B\",\"#FFE4B5\",\"#8A2BE2\",\"#228B22\",\"#E9967A\",\"#4682B4\",\"#32CD32\",\"#F0E68C\",\"#FFFFE0\",\"#EE82EE\",\n",
    "            \"#FF6347\",\"#6A5ACD\",\"#9932CC\",\"#8B008B\",\"#8B4513\",\"#DEB887\")\n",
    "library(ggplot2)\n",
    "ggplot(Cellratio) + \n",
    "  geom_bar(aes(x =Var2, y= Freq, fill = Var1),stat = \"identity\",width = 0.7,size = 0.5,colour = '#222222')+ \n",
    "  theme_classic() +\n",
    "  labs(x='Sample',y = 'Ratio')+\n",
    "  scale_fill_manual(values = allcolour)+\n",
    "  theme(panel.border = element_rect(fill=NA,color=\"black\", size=0.5, linetype=\"solid\"))\n",
    "\n",
    "library(Seurat)\n",
    "library(ggplot2)\n",
    "library(dplyr)\n",
    "library(ggalluvial)"
   ]
  },
  {
   "cell_type": "code",
   "execution_count": null,
   "id": "8259a75b-7b20-45db-9052-cc6aa16d1907",
   "metadata": {},
   "outputs": [],
   "source": [
    "saveRDS(scRNA,file = 'after_rename.rds')"
   ]
  },
  {
   "cell_type": "code",
   "execution_count": null,
   "id": "89e99ea3-b209-4506-9f45-f2c6999613dd",
   "metadata": {},
   "outputs": [],
   "source": [
    "options(repr.plot.height = 6,rpr.plot.wdith = 5)"
   ]
  },
  {
   "cell_type": "code",
   "execution_count": null,
   "id": "023f670f-fbc5-4374-ad68-ff2af59f0758",
   "metadata": {},
   "outputs": [],
   "source": [
    "ggplot(Cellratio, aes(x =Var2, y= Freq, fill = Var1,\n",
    "                  stratum=Var1, alluvium=Var1)) +\n",
    "  geom_col(width = 0.5, color='black')+\n",
    "  geom_flow(width=0.5,alpha=0.4, knot.pos=0.5)+ # 参数knot.pos设置为0.5使连接为曲线面积，就像常见的桑基图\n",
    "  theme_classic() +\n",
    "  labs(x='Sample',y = 'Ratio')+\n",
    "  scale_fill_manual(values = allcolour) + theme(axis.text.x = element_text(angle = 45, \n",
    " vjust = 0.5, hjust=0.5))"
   ]
  },
  {
   "cell_type": "code",
   "execution_count": null,
   "id": "2e72713d-14c1-4391-9c48-2b67be6e531e",
   "metadata": {},
   "outputs": [],
   "source": []
  },
  {
   "cell_type": "code",
   "execution_count": null,
   "id": "b79d06d0-aa9e-4288-b019-311aaf2ad2e6",
   "metadata": {},
   "outputs": [],
   "source": []
  },
  {
   "cell_type": "code",
   "execution_count": null,
   "id": "23a93505-fbfb-42e8-94f7-328d7bd780fe",
   "metadata": {},
   "outputs": [],
   "source": []
  },
  {
   "cell_type": "code",
   "execution_count": null,
   "id": "25960f0f-524d-4fea-a925-e404b0d7cf76",
   "metadata": {},
   "outputs": [],
   "source": []
  },
  {
   "cell_type": "code",
   "execution_count": null,
   "id": "b922b1ff-c8fa-4f02-afe1-3da91330e1ca",
   "metadata": {},
   "outputs": [],
   "source": []
  },
  {
   "cell_type": "code",
   "execution_count": null,
   "id": "a18fbe01-bf9c-4dd9-8d7d-0bbef425f7ed",
   "metadata": {},
   "outputs": [],
   "source": []
  },
  {
   "cell_type": "code",
   "execution_count": null,
   "id": "108a4c03-61b8-44a4-8297-d85a35e70bad",
   "metadata": {},
   "outputs": [],
   "source": []
  },
  {
   "cell_type": "code",
   "execution_count": null,
   "id": "106b9224-4175-4646-baf8-07dbe09d9fec",
   "metadata": {},
   "outputs": [],
   "source": []
  },
  {
   "cell_type": "code",
   "execution_count": null,
   "id": "1a507572-d203-43bf-899e-7948b36ed351",
   "metadata": {},
   "outputs": [],
   "source": []
  },
  {
   "cell_type": "code",
   "execution_count": null,
   "id": "6d16f8bf-51c3-43d9-a660-12eb38633344",
   "metadata": {},
   "outputs": [],
   "source": []
  },
  {
   "cell_type": "code",
   "execution_count": 35,
   "id": "6528c604-1c0a-463c-86cb-3022b4b31b79",
   "metadata": {},
   "outputs": [],
   "source": [
    "ggsave('figure6.pdf',height =  5,width = 4)"
   ]
  },
  {
   "cell_type": "code",
   "execution_count": 36,
   "id": "45e6f8d4-9d31-4b45-946e-370b40ec7b52",
   "metadata": {},
   "outputs": [],
   "source": [
    "scRNA  = readRDS('./after_rename.rds')"
   ]
  },
  {
   "cell_type": "code",
   "execution_count": 72,
   "id": "0f7d4c50-c59c-4a1b-9965-35d89a426af7",
   "metadata": {},
   "outputs": [],
   "source": [
    "Idents(scRNA) = 'seurat_clusters'"
   ]
  },
  {
   "cell_type": "code",
   "execution_count": 38,
   "id": "3a4e962f-ee36-4657-9727-b48ecdf340f4",
   "metadata": {},
   "outputs": [
    {
     "name": "stderr",
     "output_type": "stream",
     "text": [
      "Calculating cluster Granulocytes\n",
      "\n",
      "Calculating cluster Macrophages\n",
      "\n",
      "Calculating cluster Monocytes\n",
      "\n",
      "Calculating cluster Endothelial cells\n",
      "\n",
      "Calculating cluster Fibroblasts\n",
      "\n",
      "Calculating cluster B cells\n",
      "\n",
      "Calculating cluster Dendritic cells\n",
      "\n",
      "Calculating cluster NK cells\n",
      "\n"
     ]
    }
   ],
   "source": [
    "Idents(scRNA) = 'celltype'\n",
    "\n",
    "sce.markers <- FindAllMarkers(object = scRNA, only.pos = TRUE, \n",
    "                              min.pct = 0.25, \n",
    "                              thresh.use = 0.25)\n",
    " \n",
    "\n",
    "library(dplyr) \n",
    "# 不同seurat版本的 avg_logFC 不一样 \n",
    "top5 <- sce.markers %>% group_by(cluster) %>% top_n(5, avg_log2FC)\n",
    "\n",
    "\n",
    "\n",
    "### https://zhuanlan.zhihu.com/p/573321126\n",
    "## https://zhuanlan.zhihu.com/p/594345612\n"
   ]
  },
  {
   "cell_type": "code",
   "execution_count": 39,
   "id": "d3b52a1e-8330-405d-923e-b1dbfa821a4b",
   "metadata": {},
   "outputs": [],
   "source": [
    "# options(repr.plot.height = 9,repr.plot.width = 7)\n",
    "\n",
    "#  DotPlot(scRNA, features = unique(top5$gene) ,\n",
    "#  assay='RNA' ) + coord_flip()+ theme(axis.text.x = element_text(angle = 45, \n",
    "#  vjust = 0.5, hjust=0.5))"
   ]
  },
  {
   "cell_type": "code",
   "execution_count": 40,
   "id": "2684a9ae-4faa-44b2-83a2-cb23b40896a4",
   "metadata": {},
   "outputs": [],
   "source": [
    "ggsave('figure7.pdf',height =  9,width = 8)"
   ]
  },
  {
   "cell_type": "code",
   "execution_count": 41,
   "id": "95bb24ff-8bc0-4a02-a86b-f7e6e71b43c8",
   "metadata": {},
   "outputs": [
    {
     "name": "stderr",
     "output_type": "stream",
     "text": [
      "\n",
      "\n",
      "Registered S3 methods overwritten by 'treeio':\n",
      "  method              from    \n",
      "  MRCA.phylo          tidytree\n",
      "  MRCA.treedata       tidytree\n",
      "  Nnode.treedata      tidytree\n",
      "  Ntip.treedata       tidytree\n",
      "  ancestor.phylo      tidytree\n",
      "  ancestor.treedata   tidytree\n",
      "  child.phylo         tidytree\n",
      "  child.treedata      tidytree\n",
      "  full_join.phylo     tidytree\n",
      "  full_join.treedata  tidytree\n",
      "  groupClade.phylo    tidytree\n",
      "  groupClade.treedata tidytree\n",
      "  groupOTU.phylo      tidytree\n",
      "  groupOTU.treedata   tidytree\n",
      "  is.rooted.treedata  tidytree\n",
      "  nodeid.phylo        tidytree\n",
      "  nodeid.treedata     tidytree\n",
      "  nodelab.phylo       tidytree\n",
      "  nodelab.treedata    tidytree\n",
      "  offspring.phylo     tidytree\n",
      "  offspring.treedata  tidytree\n",
      "  parent.phylo        tidytree\n",
      "  parent.treedata     tidytree\n",
      "  root.treedata       tidytree\n",
      "  rootnode.phylo      tidytree\n",
      "  sibling.phylo       tidytree\n",
      "\n",
      "clusterProfiler v4.6.2  For help: https://yulab-smu.top/biomedical-knowledge-mining-book/\n",
      "\n",
      "If you use clusterProfiler in published research, please cite:\n",
      "T Wu, E Hu, S Xu, M Chen, P Guo, Z Dai, T Feng, L Zhou, W Tang, L Zhan, X Fu, S Liu, X Bo, and G Yu. clusterProfiler 4.0: A universal enrichment tool for interpreting omics data. The Innovation. 2021, 2(3):100141\n",
      "\n",
      "\n",
      "Attaching package: 'clusterProfiler'\n",
      "\n",
      "\n",
      "The following object is masked from 'package:IRanges':\n",
      "\n",
      "    slice\n",
      "\n",
      "\n",
      "The following object is masked from 'package:S4Vectors':\n",
      "\n",
      "    rename\n",
      "\n",
      "\n",
      "The following object is masked from 'package:stats':\n",
      "\n",
      "    filter\n",
      "\n",
      "\n"
     ]
    }
   ],
   "source": [
    "library('clusterProfiler')"
   ]
  },
  {
   "cell_type": "code",
   "execution_count": 42,
   "id": "8a884c0c-f03c-48aa-8cc0-25fe591e0796",
   "metadata": {},
   "outputs": [
    {
     "name": "stderr",
     "output_type": "stream",
     "text": [
      "\n",
      "\n",
      "'select()' returned 1:1 mapping between keys and columns\n",
      "\n",
      "Warning message in bitr(top50$gene, fromType = \"SYMBOL\", toType = \"ENTREZID\", OrgDb = \"org.Mm.eg.db\"):\n",
      "\"1.13% of input gene IDs are fail to map...\"\n"
     ]
    }
   ],
   "source": [
    "library(dplyr) \n",
    "top50 <- sce.markers %>% group_by(cluster) %>% top_n(50, avg_log2FC)\n",
    "\n",
    "group <- data.frame(gene=top50$gene,\n",
    "                    group=top50$cluster)\n",
    "\n",
    "Gene_ID <- bitr(top50$gene, fromType=\"SYMBOL\", \n",
    "            toType=\"ENTREZID\", \n",
    "            OrgDb=\"org.Mm.eg.db\")\n",
    "data  <- merge(Gene_ID,group,by.x='SYMBOL',by.y='gene')\n",
    "data_GO <- compareCluster(\n",
    "  ENTREZID~group, \n",
    "  data=data, \n",
    "  fun=\"enrichGO\", \n",
    "  OrgDb=\"org.Mm.eg.db\",\n",
    "  ont = \"BP\",\n",
    "  pAdjustMethod = \"BH\",\n",
    "  pvalueCutoff = 0.05,\n",
    "  qvalueCutoff = 0.05,\n",
    "  readable = TRUE\n",
    ")\n",
    "\n"
   ]
  },
  {
   "cell_type": "code",
   "execution_count": 43,
   "id": "3ee2118d-3bc9-41c7-a173-91d813279e6c",
   "metadata": {},
   "outputs": [
    {
     "data": {
      "text/html": [
       "<table class=\"dataframe\">\n",
       "<caption>A grouped_df: 400 x 7</caption>\n",
       "<thead>\n",
       "\t<tr><th scope=col>p_val</th><th scope=col>avg_log2FC</th><th scope=col>pct.1</th><th scope=col>pct.2</th><th scope=col>p_val_adj</th><th scope=col>cluster</th><th scope=col>gene</th></tr>\n",
       "\t<tr><th scope=col>&lt;dbl&gt;</th><th scope=col>&lt;dbl&gt;</th><th scope=col>&lt;dbl&gt;</th><th scope=col>&lt;dbl&gt;</th><th scope=col>&lt;dbl&gt;</th><th scope=col>&lt;fct&gt;</th><th scope=col>&lt;chr&gt;</th></tr>\n",
       "</thead>\n",
       "<tbody>\n",
       "\t<tr><td>5.079555e-219</td><td>4.142258</td><td>0.942</td><td>0.444</td><td>1.015911e-215</td><td>Granulocytes</td><td>Acod1   </td></tr>\n",
       "\t<tr><td>1.213617e-204</td><td>5.732509</td><td>0.912</td><td>0.397</td><td>2.427234e-201</td><td>Granulocytes</td><td>S100a9  </td></tr>\n",
       "\t<tr><td>6.907320e-196</td><td>3.196815</td><td>0.877</td><td>0.303</td><td>1.381464e-192</td><td>Granulocytes</td><td>Il1r2   </td></tr>\n",
       "\t<tr><td>8.001212e-193</td><td>3.632872</td><td>0.962</td><td>0.687</td><td>1.600242e-189</td><td>Granulocytes</td><td>Il1b    </td></tr>\n",
       "\t<tr><td>2.365397e-186</td><td>3.306032</td><td>0.935</td><td>0.609</td><td>4.730794e-183</td><td>Granulocytes</td><td>Clec4e  </td></tr>\n",
       "\t<tr><td>3.885452e-179</td><td>5.374141</td><td>0.867</td><td>0.395</td><td>7.770904e-176</td><td>Granulocytes</td><td>S100a8  </td></tr>\n",
       "\t<tr><td>1.363625e-176</td><td>3.030512</td><td>0.774</td><td>0.187</td><td>2.727249e-173</td><td>Granulocytes</td><td>Mmp9    </td></tr>\n",
       "\t<tr><td>8.016430e-168</td><td>3.071327</td><td>0.817</td><td>0.336</td><td>1.603286e-164</td><td>Granulocytes</td><td>Hdc     </td></tr>\n",
       "\t<tr><td>6.624674e-167</td><td>3.143156</td><td>0.957</td><td>0.784</td><td>1.324935e-163</td><td>Granulocytes</td><td>Antxr2  </td></tr>\n",
       "\t<tr><td>1.593434e-163</td><td>2.798165</td><td>0.995</td><td>0.954</td><td>3.186868e-160</td><td>Granulocytes</td><td>Cxcl2   </td></tr>\n",
       "\t<tr><td>2.537764e-152</td><td>3.310886</td><td>0.850</td><td>0.445</td><td>5.075527e-149</td><td>Granulocytes</td><td>Slc7a11 </td></tr>\n",
       "\t<tr><td>8.469184e-134</td><td>2.014513</td><td>0.935</td><td>0.862</td><td>1.693837e-130</td><td>Granulocytes</td><td>Dennd4a </td></tr>\n",
       "\t<tr><td>1.297413e-126</td><td>2.462600</td><td>0.842</td><td>0.629</td><td>2.594825e-123</td><td>Granulocytes</td><td>Resf1   </td></tr>\n",
       "\t<tr><td>1.551451e-118</td><td>2.849450</td><td>0.832</td><td>0.658</td><td>3.102903e-115</td><td>Granulocytes</td><td>Sgms2   </td></tr>\n",
       "\t<tr><td>4.301044e-112</td><td>2.548096</td><td>0.747</td><td>0.433</td><td>8.602088e-109</td><td>Granulocytes</td><td>Samsn1  </td></tr>\n",
       "\t<tr><td>6.469055e-110</td><td>3.654563</td><td>0.677</td><td>0.292</td><td>1.293811e-106</td><td>Granulocytes</td><td>Ifitm1  </td></tr>\n",
       "\t<tr><td>2.255109e-108</td><td>2.060894</td><td>0.867</td><td>0.770</td><td>4.510217e-105</td><td>Granulocytes</td><td>Cd9     </td></tr>\n",
       "\t<tr><td> 2.589736e-98</td><td>3.617433</td><td>0.654</td><td>0.312</td><td> 5.179473e-95</td><td>Granulocytes</td><td>G0s2    </td></tr>\n",
       "\t<tr><td> 1.759424e-89</td><td>3.379790</td><td>0.817</td><td>0.681</td><td> 3.518847e-86</td><td>Granulocytes</td><td>Ccl3    </td></tr>\n",
       "\t<tr><td> 4.084438e-84</td><td>3.089472</td><td>0.789</td><td>0.703</td><td> 8.168877e-81</td><td>Granulocytes</td><td>Igf1r   </td></tr>\n",
       "\t<tr><td> 4.475599e-83</td><td>1.993380</td><td>0.484</td><td>0.191</td><td> 8.951198e-80</td><td>Granulocytes</td><td>Lrg1    </td></tr>\n",
       "\t<tr><td> 1.203795e-80</td><td>2.619074</td><td>0.574</td><td>0.273</td><td> 2.407589e-77</td><td>Granulocytes</td><td>Il1a    </td></tr>\n",
       "\t<tr><td> 2.811842e-78</td><td>1.944639</td><td>0.368</td><td>0.100</td><td> 5.623685e-75</td><td>Granulocytes</td><td>Wfdc21  </td></tr>\n",
       "\t<tr><td> 5.471545e-78</td><td>2.043717</td><td>0.614</td><td>0.315</td><td> 1.094309e-74</td><td>Granulocytes</td><td>Hp      </td></tr>\n",
       "\t<tr><td> 4.479158e-75</td><td>2.447251</td><td>0.604</td><td>0.346</td><td> 8.958317e-72</td><td>Granulocytes</td><td>Il1rn   </td></tr>\n",
       "\t<tr><td> 4.834029e-74</td><td>2.132055</td><td>0.764</td><td>0.692</td><td> 9.668058e-71</td><td>Granulocytes</td><td>Abtb2   </td></tr>\n",
       "\t<tr><td> 5.772796e-74</td><td>2.838264</td><td>0.662</td><td>0.460</td><td> 1.154559e-70</td><td>Granulocytes</td><td>Hcar2   </td></tr>\n",
       "\t<tr><td> 9.020805e-67</td><td>1.977049</td><td>0.654</td><td>0.405</td><td> 1.804161e-63</td><td>Granulocytes</td><td>AA467197</td></tr>\n",
       "\t<tr><td> 1.035235e-63</td><td>2.452256</td><td>0.632</td><td>0.437</td><td> 2.070470e-60</td><td>Granulocytes</td><td>Olr1    </td></tr>\n",
       "\t<tr><td> 2.847903e-60</td><td>2.872205</td><td>0.637</td><td>0.455</td><td> 5.695806e-57</td><td>Granulocytes</td><td>Slpi    </td></tr>\n",
       "\t<tr><td>...</td><td>...</td><td>...</td><td>...</td><td>...</td><td>...</td><td>...</td></tr>\n",
       "\t<tr><td>3.160822e-31</td><td>3.070481</td><td>0.831</td><td>0.258</td><td>6.321643e-28</td><td>NK cells</td><td>Grap2   </td></tr>\n",
       "\t<tr><td>6.898746e-30</td><td>2.383031</td><td>0.763</td><td>0.165</td><td>1.379749e-26</td><td>NK cells</td><td>Gimap6  </td></tr>\n",
       "\t<tr><td>2.727463e-28</td><td>2.818218</td><td>0.932</td><td>0.702</td><td>5.454925e-25</td><td>NK cells</td><td>Prkch   </td></tr>\n",
       "\t<tr><td>3.278427e-28</td><td>2.418802</td><td>0.847</td><td>0.357</td><td>6.556854e-25</td><td>NK cells</td><td>Ripor2  </td></tr>\n",
       "\t<tr><td>3.874373e-27</td><td>2.240486</td><td>0.746</td><td>0.246</td><td>7.748747e-24</td><td>NK cells</td><td>Cd247   </td></tr>\n",
       "\t<tr><td>2.457123e-25</td><td>3.071514</td><td>0.780</td><td>0.274</td><td>4.914246e-22</td><td>NK cells</td><td>Zeb1    </td></tr>\n",
       "\t<tr><td>4.049017e-25</td><td>2.362970</td><td>0.797</td><td>0.372</td><td>8.098035e-22</td><td>NK cells</td><td>Ablim1  </td></tr>\n",
       "\t<tr><td>1.182074e-24</td><td>3.036681</td><td>0.864</td><td>0.557</td><td>2.364148e-21</td><td>NK cells</td><td>Dusp2   </td></tr>\n",
       "\t<tr><td>2.230431e-24</td><td>2.394492</td><td>0.746</td><td>0.212</td><td>4.460862e-21</td><td>NK cells</td><td>Ctla2a  </td></tr>\n",
       "\t<tr><td>1.026880e-23</td><td>4.959793</td><td>0.729</td><td>0.231</td><td>2.053761e-20</td><td>NK cells</td><td>Ccl5    </td></tr>\n",
       "\t<tr><td>4.442040e-23</td><td>3.381676</td><td>0.746</td><td>0.256</td><td>8.884079e-20</td><td>NK cells</td><td>Satb1   </td></tr>\n",
       "\t<tr><td>6.583152e-23</td><td>1.979301</td><td>0.695</td><td>0.189</td><td>1.316630e-19</td><td>NK cells</td><td>Stat4   </td></tr>\n",
       "\t<tr><td>1.156866e-22</td><td>2.412978</td><td>0.729</td><td>0.315</td><td>2.313731e-19</td><td>NK cells</td><td>Ms4a4b  </td></tr>\n",
       "\t<tr><td>2.347847e-22</td><td>2.016515</td><td>0.695</td><td>0.209</td><td>4.695694e-19</td><td>NK cells</td><td>Ppp1r16b</td></tr>\n",
       "\t<tr><td>1.770511e-21</td><td>2.520543</td><td>0.695</td><td>0.287</td><td>3.541023e-18</td><td>NK cells</td><td>Cd28    </td></tr>\n",
       "\t<tr><td>9.473502e-21</td><td>2.970209</td><td>0.780</td><td>0.437</td><td>1.894700e-17</td><td>NK cells</td><td>AW112010</td></tr>\n",
       "\t<tr><td>9.149780e-19</td><td>1.994085</td><td>0.932</td><td>0.803</td><td>1.829956e-15</td><td>NK cells</td><td>Arhgap15</td></tr>\n",
       "\t<tr><td>1.341612e-18</td><td>2.217225</td><td>0.661</td><td>0.270</td><td>2.683224e-15</td><td>NK cells</td><td>Inpp4b  </td></tr>\n",
       "\t<tr><td>2.903710e-18</td><td>2.096115</td><td>0.847</td><td>0.695</td><td>5.807420e-15</td><td>NK cells</td><td>Cblb    </td></tr>\n",
       "\t<tr><td>2.979062e-18</td><td>2.250329</td><td>0.881</td><td>0.864</td><td>5.958125e-15</td><td>NK cells</td><td>Dennd4a </td></tr>\n",
       "\t<tr><td>3.213937e-16</td><td>4.298679</td><td>0.407</td><td>0.020</td><td>6.427874e-13</td><td>NK cells</td><td>Gzma    </td></tr>\n",
       "\t<tr><td>6.162160e-16</td><td>1.939756</td><td>0.610</td><td>0.268</td><td>1.232432e-12</td><td>NK cells</td><td>Sytl3   </td></tr>\n",
       "\t<tr><td>2.841863e-15</td><td>2.234112</td><td>0.780</td><td>0.477</td><td>5.683725e-12</td><td>NK cells</td><td>Bach2   </td></tr>\n",
       "\t<tr><td>1.587787e-14</td><td>1.921989</td><td>0.797</td><td>0.597</td><td>3.175574e-11</td><td>NK cells</td><td>Maml2   </td></tr>\n",
       "\t<tr><td>2.613583e-14</td><td>1.859462</td><td>0.627</td><td>0.318</td><td>5.227166e-11</td><td>NK cells</td><td>Txk     </td></tr>\n",
       "\t<tr><td>2.182860e-12</td><td>1.872416</td><td>0.695</td><td>0.507</td><td>4.365721e-09</td><td>NK cells</td><td>Itga4   </td></tr>\n",
       "\t<tr><td>1.740859e-11</td><td>1.864542</td><td>0.576</td><td>0.350</td><td>3.481717e-08</td><td>NK cells</td><td>Mctp2   </td></tr>\n",
       "\t<tr><td>1.869858e-08</td><td>2.021665</td><td>0.559</td><td>0.370</td><td>3.739716e-05</td><td>NK cells</td><td>Ly6c2   </td></tr>\n",
       "\t<tr><td>4.026411e-08</td><td>2.253265</td><td>0.610</td><td>0.497</td><td>8.052822e-05</td><td>NK cells</td><td>Rora    </td></tr>\n",
       "\t<tr><td>7.977884e-07</td><td>1.877866</td><td>0.542</td><td>0.423</td><td>1.595577e-03</td><td>NK cells</td><td>Bcl2    </td></tr>\n",
       "</tbody>\n",
       "</table>\n"
      ],
      "text/latex": [
       "A grouped\\_df: 400 x 7\n",
       "\\begin{tabular}{lllllll}\n",
       " p\\_val & avg\\_log2FC & pct.1 & pct.2 & p\\_val\\_adj & cluster & gene\\\\\n",
       " <dbl> & <dbl> & <dbl> & <dbl> & <dbl> & <fct> & <chr>\\\\\n",
       "\\hline\n",
       "\t 5.079555e-219 & 4.142258 & 0.942 & 0.444 & 1.015911e-215 & Granulocytes & Acod1   \\\\\n",
       "\t 1.213617e-204 & 5.732509 & 0.912 & 0.397 & 2.427234e-201 & Granulocytes & S100a9  \\\\\n",
       "\t 6.907320e-196 & 3.196815 & 0.877 & 0.303 & 1.381464e-192 & Granulocytes & Il1r2   \\\\\n",
       "\t 8.001212e-193 & 3.632872 & 0.962 & 0.687 & 1.600242e-189 & Granulocytes & Il1b    \\\\\n",
       "\t 2.365397e-186 & 3.306032 & 0.935 & 0.609 & 4.730794e-183 & Granulocytes & Clec4e  \\\\\n",
       "\t 3.885452e-179 & 5.374141 & 0.867 & 0.395 & 7.770904e-176 & Granulocytes & S100a8  \\\\\n",
       "\t 1.363625e-176 & 3.030512 & 0.774 & 0.187 & 2.727249e-173 & Granulocytes & Mmp9    \\\\\n",
       "\t 8.016430e-168 & 3.071327 & 0.817 & 0.336 & 1.603286e-164 & Granulocytes & Hdc     \\\\\n",
       "\t 6.624674e-167 & 3.143156 & 0.957 & 0.784 & 1.324935e-163 & Granulocytes & Antxr2  \\\\\n",
       "\t 1.593434e-163 & 2.798165 & 0.995 & 0.954 & 3.186868e-160 & Granulocytes & Cxcl2   \\\\\n",
       "\t 2.537764e-152 & 3.310886 & 0.850 & 0.445 & 5.075527e-149 & Granulocytes & Slc7a11 \\\\\n",
       "\t 8.469184e-134 & 2.014513 & 0.935 & 0.862 & 1.693837e-130 & Granulocytes & Dennd4a \\\\\n",
       "\t 1.297413e-126 & 2.462600 & 0.842 & 0.629 & 2.594825e-123 & Granulocytes & Resf1   \\\\\n",
       "\t 1.551451e-118 & 2.849450 & 0.832 & 0.658 & 3.102903e-115 & Granulocytes & Sgms2   \\\\\n",
       "\t 4.301044e-112 & 2.548096 & 0.747 & 0.433 & 8.602088e-109 & Granulocytes & Samsn1  \\\\\n",
       "\t 6.469055e-110 & 3.654563 & 0.677 & 0.292 & 1.293811e-106 & Granulocytes & Ifitm1  \\\\\n",
       "\t 2.255109e-108 & 2.060894 & 0.867 & 0.770 & 4.510217e-105 & Granulocytes & Cd9     \\\\\n",
       "\t  2.589736e-98 & 3.617433 & 0.654 & 0.312 &  5.179473e-95 & Granulocytes & G0s2    \\\\\n",
       "\t  1.759424e-89 & 3.379790 & 0.817 & 0.681 &  3.518847e-86 & Granulocytes & Ccl3    \\\\\n",
       "\t  4.084438e-84 & 3.089472 & 0.789 & 0.703 &  8.168877e-81 & Granulocytes & Igf1r   \\\\\n",
       "\t  4.475599e-83 & 1.993380 & 0.484 & 0.191 &  8.951198e-80 & Granulocytes & Lrg1    \\\\\n",
       "\t  1.203795e-80 & 2.619074 & 0.574 & 0.273 &  2.407589e-77 & Granulocytes & Il1a    \\\\\n",
       "\t  2.811842e-78 & 1.944639 & 0.368 & 0.100 &  5.623685e-75 & Granulocytes & Wfdc21  \\\\\n",
       "\t  5.471545e-78 & 2.043717 & 0.614 & 0.315 &  1.094309e-74 & Granulocytes & Hp      \\\\\n",
       "\t  4.479158e-75 & 2.447251 & 0.604 & 0.346 &  8.958317e-72 & Granulocytes & Il1rn   \\\\\n",
       "\t  4.834029e-74 & 2.132055 & 0.764 & 0.692 &  9.668058e-71 & Granulocytes & Abtb2   \\\\\n",
       "\t  5.772796e-74 & 2.838264 & 0.662 & 0.460 &  1.154559e-70 & Granulocytes & Hcar2   \\\\\n",
       "\t  9.020805e-67 & 1.977049 & 0.654 & 0.405 &  1.804161e-63 & Granulocytes & AA467197\\\\\n",
       "\t  1.035235e-63 & 2.452256 & 0.632 & 0.437 &  2.070470e-60 & Granulocytes & Olr1    \\\\\n",
       "\t  2.847903e-60 & 2.872205 & 0.637 & 0.455 &  5.695806e-57 & Granulocytes & Slpi    \\\\\n",
       "\t ... & ... & ... & ... & ... & ... & ...\\\\\n",
       "\t 3.160822e-31 & 3.070481 & 0.831 & 0.258 & 6.321643e-28 & NK cells & Grap2   \\\\\n",
       "\t 6.898746e-30 & 2.383031 & 0.763 & 0.165 & 1.379749e-26 & NK cells & Gimap6  \\\\\n",
       "\t 2.727463e-28 & 2.818218 & 0.932 & 0.702 & 5.454925e-25 & NK cells & Prkch   \\\\\n",
       "\t 3.278427e-28 & 2.418802 & 0.847 & 0.357 & 6.556854e-25 & NK cells & Ripor2  \\\\\n",
       "\t 3.874373e-27 & 2.240486 & 0.746 & 0.246 & 7.748747e-24 & NK cells & Cd247   \\\\\n",
       "\t 2.457123e-25 & 3.071514 & 0.780 & 0.274 & 4.914246e-22 & NK cells & Zeb1    \\\\\n",
       "\t 4.049017e-25 & 2.362970 & 0.797 & 0.372 & 8.098035e-22 & NK cells & Ablim1  \\\\\n",
       "\t 1.182074e-24 & 3.036681 & 0.864 & 0.557 & 2.364148e-21 & NK cells & Dusp2   \\\\\n",
       "\t 2.230431e-24 & 2.394492 & 0.746 & 0.212 & 4.460862e-21 & NK cells & Ctla2a  \\\\\n",
       "\t 1.026880e-23 & 4.959793 & 0.729 & 0.231 & 2.053761e-20 & NK cells & Ccl5    \\\\\n",
       "\t 4.442040e-23 & 3.381676 & 0.746 & 0.256 & 8.884079e-20 & NK cells & Satb1   \\\\\n",
       "\t 6.583152e-23 & 1.979301 & 0.695 & 0.189 & 1.316630e-19 & NK cells & Stat4   \\\\\n",
       "\t 1.156866e-22 & 2.412978 & 0.729 & 0.315 & 2.313731e-19 & NK cells & Ms4a4b  \\\\\n",
       "\t 2.347847e-22 & 2.016515 & 0.695 & 0.209 & 4.695694e-19 & NK cells & Ppp1r16b\\\\\n",
       "\t 1.770511e-21 & 2.520543 & 0.695 & 0.287 & 3.541023e-18 & NK cells & Cd28    \\\\\n",
       "\t 9.473502e-21 & 2.970209 & 0.780 & 0.437 & 1.894700e-17 & NK cells & AW112010\\\\\n",
       "\t 9.149780e-19 & 1.994085 & 0.932 & 0.803 & 1.829956e-15 & NK cells & Arhgap15\\\\\n",
       "\t 1.341612e-18 & 2.217225 & 0.661 & 0.270 & 2.683224e-15 & NK cells & Inpp4b  \\\\\n",
       "\t 2.903710e-18 & 2.096115 & 0.847 & 0.695 & 5.807420e-15 & NK cells & Cblb    \\\\\n",
       "\t 2.979062e-18 & 2.250329 & 0.881 & 0.864 & 5.958125e-15 & NK cells & Dennd4a \\\\\n",
       "\t 3.213937e-16 & 4.298679 & 0.407 & 0.020 & 6.427874e-13 & NK cells & Gzma    \\\\\n",
       "\t 6.162160e-16 & 1.939756 & 0.610 & 0.268 & 1.232432e-12 & NK cells & Sytl3   \\\\\n",
       "\t 2.841863e-15 & 2.234112 & 0.780 & 0.477 & 5.683725e-12 & NK cells & Bach2   \\\\\n",
       "\t 1.587787e-14 & 1.921989 & 0.797 & 0.597 & 3.175574e-11 & NK cells & Maml2   \\\\\n",
       "\t 2.613583e-14 & 1.859462 & 0.627 & 0.318 & 5.227166e-11 & NK cells & Txk     \\\\\n",
       "\t 2.182860e-12 & 1.872416 & 0.695 & 0.507 & 4.365721e-09 & NK cells & Itga4   \\\\\n",
       "\t 1.740859e-11 & 1.864542 & 0.576 & 0.350 & 3.481717e-08 & NK cells & Mctp2   \\\\\n",
       "\t 1.869858e-08 & 2.021665 & 0.559 & 0.370 & 3.739716e-05 & NK cells & Ly6c2   \\\\\n",
       "\t 4.026411e-08 & 2.253265 & 0.610 & 0.497 & 8.052822e-05 & NK cells & Rora    \\\\\n",
       "\t 7.977884e-07 & 1.877866 & 0.542 & 0.423 & 1.595577e-03 & NK cells & Bcl2    \\\\\n",
       "\\end{tabular}\n"
      ],
      "text/markdown": [
       "\n",
       "A grouped_df: 400 x 7\n",
       "\n",
       "| p_val &lt;dbl&gt; | avg_log2FC &lt;dbl&gt; | pct.1 &lt;dbl&gt; | pct.2 &lt;dbl&gt; | p_val_adj &lt;dbl&gt; | cluster &lt;fct&gt; | gene &lt;chr&gt; |\n",
       "|---|---|---|---|---|---|---|\n",
       "| 5.079555e-219 | 4.142258 | 0.942 | 0.444 | 1.015911e-215 | Granulocytes | Acod1    |\n",
       "| 1.213617e-204 | 5.732509 | 0.912 | 0.397 | 2.427234e-201 | Granulocytes | S100a9   |\n",
       "| 6.907320e-196 | 3.196815 | 0.877 | 0.303 | 1.381464e-192 | Granulocytes | Il1r2    |\n",
       "| 8.001212e-193 | 3.632872 | 0.962 | 0.687 | 1.600242e-189 | Granulocytes | Il1b     |\n",
       "| 2.365397e-186 | 3.306032 | 0.935 | 0.609 | 4.730794e-183 | Granulocytes | Clec4e   |\n",
       "| 3.885452e-179 | 5.374141 | 0.867 | 0.395 | 7.770904e-176 | Granulocytes | S100a8   |\n",
       "| 1.363625e-176 | 3.030512 | 0.774 | 0.187 | 2.727249e-173 | Granulocytes | Mmp9     |\n",
       "| 8.016430e-168 | 3.071327 | 0.817 | 0.336 | 1.603286e-164 | Granulocytes | Hdc      |\n",
       "| 6.624674e-167 | 3.143156 | 0.957 | 0.784 | 1.324935e-163 | Granulocytes | Antxr2   |\n",
       "| 1.593434e-163 | 2.798165 | 0.995 | 0.954 | 3.186868e-160 | Granulocytes | Cxcl2    |\n",
       "| 2.537764e-152 | 3.310886 | 0.850 | 0.445 | 5.075527e-149 | Granulocytes | Slc7a11  |\n",
       "| 8.469184e-134 | 2.014513 | 0.935 | 0.862 | 1.693837e-130 | Granulocytes | Dennd4a  |\n",
       "| 1.297413e-126 | 2.462600 | 0.842 | 0.629 | 2.594825e-123 | Granulocytes | Resf1    |\n",
       "| 1.551451e-118 | 2.849450 | 0.832 | 0.658 | 3.102903e-115 | Granulocytes | Sgms2    |\n",
       "| 4.301044e-112 | 2.548096 | 0.747 | 0.433 | 8.602088e-109 | Granulocytes | Samsn1   |\n",
       "| 6.469055e-110 | 3.654563 | 0.677 | 0.292 | 1.293811e-106 | Granulocytes | Ifitm1   |\n",
       "| 2.255109e-108 | 2.060894 | 0.867 | 0.770 | 4.510217e-105 | Granulocytes | Cd9      |\n",
       "|  2.589736e-98 | 3.617433 | 0.654 | 0.312 |  5.179473e-95 | Granulocytes | G0s2     |\n",
       "|  1.759424e-89 | 3.379790 | 0.817 | 0.681 |  3.518847e-86 | Granulocytes | Ccl3     |\n",
       "|  4.084438e-84 | 3.089472 | 0.789 | 0.703 |  8.168877e-81 | Granulocytes | Igf1r    |\n",
       "|  4.475599e-83 | 1.993380 | 0.484 | 0.191 |  8.951198e-80 | Granulocytes | Lrg1     |\n",
       "|  1.203795e-80 | 2.619074 | 0.574 | 0.273 |  2.407589e-77 | Granulocytes | Il1a     |\n",
       "|  2.811842e-78 | 1.944639 | 0.368 | 0.100 |  5.623685e-75 | Granulocytes | Wfdc21   |\n",
       "|  5.471545e-78 | 2.043717 | 0.614 | 0.315 |  1.094309e-74 | Granulocytes | Hp       |\n",
       "|  4.479158e-75 | 2.447251 | 0.604 | 0.346 |  8.958317e-72 | Granulocytes | Il1rn    |\n",
       "|  4.834029e-74 | 2.132055 | 0.764 | 0.692 |  9.668058e-71 | Granulocytes | Abtb2    |\n",
       "|  5.772796e-74 | 2.838264 | 0.662 | 0.460 |  1.154559e-70 | Granulocytes | Hcar2    |\n",
       "|  9.020805e-67 | 1.977049 | 0.654 | 0.405 |  1.804161e-63 | Granulocytes | AA467197 |\n",
       "|  1.035235e-63 | 2.452256 | 0.632 | 0.437 |  2.070470e-60 | Granulocytes | Olr1     |\n",
       "|  2.847903e-60 | 2.872205 | 0.637 | 0.455 |  5.695806e-57 | Granulocytes | Slpi     |\n",
       "| ... | ... | ... | ... | ... | ... | ... |\n",
       "| 3.160822e-31 | 3.070481 | 0.831 | 0.258 | 6.321643e-28 | NK cells | Grap2    |\n",
       "| 6.898746e-30 | 2.383031 | 0.763 | 0.165 | 1.379749e-26 | NK cells | Gimap6   |\n",
       "| 2.727463e-28 | 2.818218 | 0.932 | 0.702 | 5.454925e-25 | NK cells | Prkch    |\n",
       "| 3.278427e-28 | 2.418802 | 0.847 | 0.357 | 6.556854e-25 | NK cells | Ripor2   |\n",
       "| 3.874373e-27 | 2.240486 | 0.746 | 0.246 | 7.748747e-24 | NK cells | Cd247    |\n",
       "| 2.457123e-25 | 3.071514 | 0.780 | 0.274 | 4.914246e-22 | NK cells | Zeb1     |\n",
       "| 4.049017e-25 | 2.362970 | 0.797 | 0.372 | 8.098035e-22 | NK cells | Ablim1   |\n",
       "| 1.182074e-24 | 3.036681 | 0.864 | 0.557 | 2.364148e-21 | NK cells | Dusp2    |\n",
       "| 2.230431e-24 | 2.394492 | 0.746 | 0.212 | 4.460862e-21 | NK cells | Ctla2a   |\n",
       "| 1.026880e-23 | 4.959793 | 0.729 | 0.231 | 2.053761e-20 | NK cells | Ccl5     |\n",
       "| 4.442040e-23 | 3.381676 | 0.746 | 0.256 | 8.884079e-20 | NK cells | Satb1    |\n",
       "| 6.583152e-23 | 1.979301 | 0.695 | 0.189 | 1.316630e-19 | NK cells | Stat4    |\n",
       "| 1.156866e-22 | 2.412978 | 0.729 | 0.315 | 2.313731e-19 | NK cells | Ms4a4b   |\n",
       "| 2.347847e-22 | 2.016515 | 0.695 | 0.209 | 4.695694e-19 | NK cells | Ppp1r16b |\n",
       "| 1.770511e-21 | 2.520543 | 0.695 | 0.287 | 3.541023e-18 | NK cells | Cd28     |\n",
       "| 9.473502e-21 | 2.970209 | 0.780 | 0.437 | 1.894700e-17 | NK cells | AW112010 |\n",
       "| 9.149780e-19 | 1.994085 | 0.932 | 0.803 | 1.829956e-15 | NK cells | Arhgap15 |\n",
       "| 1.341612e-18 | 2.217225 | 0.661 | 0.270 | 2.683224e-15 | NK cells | Inpp4b   |\n",
       "| 2.903710e-18 | 2.096115 | 0.847 | 0.695 | 5.807420e-15 | NK cells | Cblb     |\n",
       "| 2.979062e-18 | 2.250329 | 0.881 | 0.864 | 5.958125e-15 | NK cells | Dennd4a  |\n",
       "| 3.213937e-16 | 4.298679 | 0.407 | 0.020 | 6.427874e-13 | NK cells | Gzma     |\n",
       "| 6.162160e-16 | 1.939756 | 0.610 | 0.268 | 1.232432e-12 | NK cells | Sytl3    |\n",
       "| 2.841863e-15 | 2.234112 | 0.780 | 0.477 | 5.683725e-12 | NK cells | Bach2    |\n",
       "| 1.587787e-14 | 1.921989 | 0.797 | 0.597 | 3.175574e-11 | NK cells | Maml2    |\n",
       "| 2.613583e-14 | 1.859462 | 0.627 | 0.318 | 5.227166e-11 | NK cells | Txk      |\n",
       "| 2.182860e-12 | 1.872416 | 0.695 | 0.507 | 4.365721e-09 | NK cells | Itga4    |\n",
       "| 1.740859e-11 | 1.864542 | 0.576 | 0.350 | 3.481717e-08 | NK cells | Mctp2    |\n",
       "| 1.869858e-08 | 2.021665 | 0.559 | 0.370 | 3.739716e-05 | NK cells | Ly6c2    |\n",
       "| 4.026411e-08 | 2.253265 | 0.610 | 0.497 | 8.052822e-05 | NK cells | Rora     |\n",
       "| 7.977884e-07 | 1.877866 | 0.542 | 0.423 | 1.595577e-03 | NK cells | Bcl2     |\n",
       "\n"
      ],
      "text/plain": [
       "    p_val         avg_log2FC pct.1 pct.2 p_val_adj     cluster      gene    \n",
       "1   5.079555e-219 4.142258   0.942 0.444 1.015911e-215 Granulocytes Acod1   \n",
       "2   1.213617e-204 5.732509   0.912 0.397 2.427234e-201 Granulocytes S100a9  \n",
       "3   6.907320e-196 3.196815   0.877 0.303 1.381464e-192 Granulocytes Il1r2   \n",
       "4   8.001212e-193 3.632872   0.962 0.687 1.600242e-189 Granulocytes Il1b    \n",
       "5   2.365397e-186 3.306032   0.935 0.609 4.730794e-183 Granulocytes Clec4e  \n",
       "6   3.885452e-179 5.374141   0.867 0.395 7.770904e-176 Granulocytes S100a8  \n",
       "7   1.363625e-176 3.030512   0.774 0.187 2.727249e-173 Granulocytes Mmp9    \n",
       "8   8.016430e-168 3.071327   0.817 0.336 1.603286e-164 Granulocytes Hdc     \n",
       "9   6.624674e-167 3.143156   0.957 0.784 1.324935e-163 Granulocytes Antxr2  \n",
       "10  1.593434e-163 2.798165   0.995 0.954 3.186868e-160 Granulocytes Cxcl2   \n",
       "11  2.537764e-152 3.310886   0.850 0.445 5.075527e-149 Granulocytes Slc7a11 \n",
       "12  8.469184e-134 2.014513   0.935 0.862 1.693837e-130 Granulocytes Dennd4a \n",
       "13  1.297413e-126 2.462600   0.842 0.629 2.594825e-123 Granulocytes Resf1   \n",
       "14  1.551451e-118 2.849450   0.832 0.658 3.102903e-115 Granulocytes Sgms2   \n",
       "15  4.301044e-112 2.548096   0.747 0.433 8.602088e-109 Granulocytes Samsn1  \n",
       "16  6.469055e-110 3.654563   0.677 0.292 1.293811e-106 Granulocytes Ifitm1  \n",
       "17  2.255109e-108 2.060894   0.867 0.770 4.510217e-105 Granulocytes Cd9     \n",
       "18   2.589736e-98 3.617433   0.654 0.312  5.179473e-95 Granulocytes G0s2    \n",
       "19   1.759424e-89 3.379790   0.817 0.681  3.518847e-86 Granulocytes Ccl3    \n",
       "20   4.084438e-84 3.089472   0.789 0.703  8.168877e-81 Granulocytes Igf1r   \n",
       "21   4.475599e-83 1.993380   0.484 0.191  8.951198e-80 Granulocytes Lrg1    \n",
       "22   1.203795e-80 2.619074   0.574 0.273  2.407589e-77 Granulocytes Il1a    \n",
       "23   2.811842e-78 1.944639   0.368 0.100  5.623685e-75 Granulocytes Wfdc21  \n",
       "24   5.471545e-78 2.043717   0.614 0.315  1.094309e-74 Granulocytes Hp      \n",
       "25   4.479158e-75 2.447251   0.604 0.346  8.958317e-72 Granulocytes Il1rn   \n",
       "26   4.834029e-74 2.132055   0.764 0.692  9.668058e-71 Granulocytes Abtb2   \n",
       "27   5.772796e-74 2.838264   0.662 0.460  1.154559e-70 Granulocytes Hcar2   \n",
       "28   9.020805e-67 1.977049   0.654 0.405  1.804161e-63 Granulocytes AA467197\n",
       "29   1.035235e-63 2.452256   0.632 0.437  2.070470e-60 Granulocytes Olr1    \n",
       "30   2.847903e-60 2.872205   0.637 0.455  5.695806e-57 Granulocytes Slpi    \n",
       "... ...           ...        ...   ...   ...           ...          ...     \n",
       "371 3.160822e-31  3.070481   0.831 0.258 6.321643e-28  NK cells     Grap2   \n",
       "372 6.898746e-30  2.383031   0.763 0.165 1.379749e-26  NK cells     Gimap6  \n",
       "373 2.727463e-28  2.818218   0.932 0.702 5.454925e-25  NK cells     Prkch   \n",
       "374 3.278427e-28  2.418802   0.847 0.357 6.556854e-25  NK cells     Ripor2  \n",
       "375 3.874373e-27  2.240486   0.746 0.246 7.748747e-24  NK cells     Cd247   \n",
       "376 2.457123e-25  3.071514   0.780 0.274 4.914246e-22  NK cells     Zeb1    \n",
       "377 4.049017e-25  2.362970   0.797 0.372 8.098035e-22  NK cells     Ablim1  \n",
       "378 1.182074e-24  3.036681   0.864 0.557 2.364148e-21  NK cells     Dusp2   \n",
       "379 2.230431e-24  2.394492   0.746 0.212 4.460862e-21  NK cells     Ctla2a  \n",
       "380 1.026880e-23  4.959793   0.729 0.231 2.053761e-20  NK cells     Ccl5    \n",
       "381 4.442040e-23  3.381676   0.746 0.256 8.884079e-20  NK cells     Satb1   \n",
       "382 6.583152e-23  1.979301   0.695 0.189 1.316630e-19  NK cells     Stat4   \n",
       "383 1.156866e-22  2.412978   0.729 0.315 2.313731e-19  NK cells     Ms4a4b  \n",
       "384 2.347847e-22  2.016515   0.695 0.209 4.695694e-19  NK cells     Ppp1r16b\n",
       "385 1.770511e-21  2.520543   0.695 0.287 3.541023e-18  NK cells     Cd28    \n",
       "386 9.473502e-21  2.970209   0.780 0.437 1.894700e-17  NK cells     AW112010\n",
       "387 9.149780e-19  1.994085   0.932 0.803 1.829956e-15  NK cells     Arhgap15\n",
       "388 1.341612e-18  2.217225   0.661 0.270 2.683224e-15  NK cells     Inpp4b  \n",
       "389 2.903710e-18  2.096115   0.847 0.695 5.807420e-15  NK cells     Cblb    \n",
       "390 2.979062e-18  2.250329   0.881 0.864 5.958125e-15  NK cells     Dennd4a \n",
       "391 3.213937e-16  4.298679   0.407 0.020 6.427874e-13  NK cells     Gzma    \n",
       "392 6.162160e-16  1.939756   0.610 0.268 1.232432e-12  NK cells     Sytl3   \n",
       "393 2.841863e-15  2.234112   0.780 0.477 5.683725e-12  NK cells     Bach2   \n",
       "394 1.587787e-14  1.921989   0.797 0.597 3.175574e-11  NK cells     Maml2   \n",
       "395 2.613583e-14  1.859462   0.627 0.318 5.227166e-11  NK cells     Txk     \n",
       "396 2.182860e-12  1.872416   0.695 0.507 4.365721e-09  NK cells     Itga4   \n",
       "397 1.740859e-11  1.864542   0.576 0.350 3.481717e-08  NK cells     Mctp2   \n",
       "398 1.869858e-08  2.021665   0.559 0.370 3.739716e-05  NK cells     Ly6c2   \n",
       "399 4.026411e-08  2.253265   0.610 0.497 8.052822e-05  NK cells     Rora    \n",
       "400 7.977884e-07  1.877866   0.542 0.423 1.595577e-03  NK cells     Bcl2    "
      ]
     },
     "metadata": {},
     "output_type": "display_data"
    }
   ],
   "source": [
    "top50"
   ]
  },
  {
   "cell_type": "code",
   "execution_count": 44,
   "id": "fd245302-1d46-4c6b-ac1a-78bc43437163",
   "metadata": {},
   "outputs": [],
   "source": [
    "data_GO_sim <- simplify(data_GO, \n",
    "                        cutoff=0.5, \n",
    "                        by=\"p.adjust\", \n",
    "                        select_fun=min)\n",
    "\n",
    "write.csv(data_GO_sim@compareClusterResult,file = 'enrichment.csv',row.names =F)"
   ]
  },
  {
   "cell_type": "code",
   "execution_count": null,
   "id": "075955f9-3592-41de-a21e-424fd4fa1b39",
   "metadata": {},
   "outputs": [],
   "source": []
  },
  {
   "cell_type": "code",
   "execution_count": 45,
   "id": "4c126714-ec07-4359-85fe-279340397458",
   "metadata": {},
   "outputs": [
    {
     "data": {
      "image/png": "[encoded data removed]",
      "text/plain": [
       "plot without title"
      ]
     },
     "metadata": {
      "image/png": {
       "height": 540,
       "width": 420
      }
     },
     "output_type": "display_data"
    }
   ],
   "source": [
    "options(repr.plot.height = 9,repr.plot.width = 7)\n",
    "enrichplot::dotplot(data_GO_sim, showCategory=4,font.size = 8)+ theme(axis.text.x = element_text(angle = 45, \n",
    " vjust = 0.5, hjust=0.5))"
   ]
  },
  {
   "cell_type": "code",
   "execution_count": 46,
   "id": "9c856a2b-4973-492d-a4da-d67e58cf9311",
   "metadata": {},
   "outputs": [],
   "source": [
    "ggsave('figure8.pdf',height =  9,width = 8)"
   ]
  },
  {
   "cell_type": "code",
   "execution_count": 47,
   "id": "7c677d7c-9b2b-41b4-af89-f9771ff06baa",
   "metadata": {},
   "outputs": [],
   "source": [
    "saveRDS(scRNA ,file = 'after_rename.rds')"
   ]
  },
  {
   "cell_type": "code",
   "execution_count": 48,
   "id": "9280c8e0-e300-4450-888c-efb952fd20a4",
   "metadata": {},
   "outputs": [],
   "source": [
    "Idents(scRNA) = 'celltype'"
   ]
  },
  {
   "cell_type": "code",
   "execution_count": 49,
   "id": "927b0462-9ac2-4653-9a3c-725e6ba335f6",
   "metadata": {},
   "outputs": [],
   "source": [
    "meyloid = subset(scRNA,idents = c('Macrophages','Monocytes'))"
   ]
  },
  {
   "cell_type": "code",
   "execution_count": 50,
   "id": "9c7c1688-cf30-4718-ba07-e5f08664e937",
   "metadata": {},
   "outputs": [],
   "source": [
    "saveRDS(meyloid ,file = 'meyloid.rds')"
   ]
  },
  {
   "cell_type": "code",
   "execution_count": null,
   "id": "4d715ec7-a8a6-4f56-9f9c-85382c7e0f36",
   "metadata": {},
   "outputs": [],
   "source": []
  }
 ],
 "metadata": {
  "kernelspec": {
   "display_name": "R",
   "language": "R",
   "name": "ir"
  },
  "language_info": {
   "codemirror_mode": "r",
   "file_extension": ".r",
   "mimetype": "text/x-r-source",
   "name": "R",
   "pygments_lexer": "r",
   "version": "4.2.1"
  }
 },
 "nbformat": 4,
 "nbformat_minor": 5
}
