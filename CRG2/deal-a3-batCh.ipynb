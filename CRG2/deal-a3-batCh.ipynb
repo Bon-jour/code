{
 "cells": [
  {
   "cell_type": "code",
   "execution_count": 1,
   "id": "4b87f7c5-1a4e-4649-a054-cc1af8c65c81",
   "metadata": {},
   "outputs": [],
   "source": [
    "setwd('/import/DB/fel/BJTC-204')"
   ]
  },
  {
   "cell_type": "code",
   "execution_count": 2,
   "id": "67aee305-f466-4070-af93-4e5456439a9f",
   "metadata": {},
   "outputs": [],
   "source": [
    "da1 = read.table('./remove1.txt',header =T,sep = '\\t')"
   ]
  },
  {
   "cell_type": "code",
   "execution_count": 3,
   "id": "97b38a0c-09d5-4d75-94d1-eeaf26c440da",
   "metadata": {},
   "outputs": [
    {
     "data": {
      "text/html": [
       "<table class=\"dataframe\">\n",
       "<caption>A data.frame: 2 x 8</caption>\n",
       "<thead>\n",
       "\t<tr><th></th><th scope=col>TYPE</th><th scope=col>subject</th><th scope=col>PH</th><th scope=col>Gender</th><th scope=col>race</th><th scope=col>Age</th><th scope=col>death</th><th scope=col>GSM</th></tr>\n",
       "\t<tr><th></th><th scope=col>&lt;chr&gt;</th><th scope=col>&lt;int&gt;</th><th scope=col>&lt;dbl&gt;</th><th scope=col>&lt;chr&gt;</th><th scope=col>&lt;chr&gt;</th><th scope=col>&lt;int&gt;</th><th scope=col>&lt;int&gt;</th><th scope=col>&lt;chr&gt;</th></tr>\n",
       "</thead>\n",
       "<tbody>\n",
       "\t<tr><th scope=row>1</th><td>MDD</td><td>101597</td><td>7.05</td><td>M</td><td>Caucasian</td><td>66</td><td>0</td><td>GSM2431728</td></tr>\n",
       "\t<tr><th scope=row>2</th><td>MDD</td><td>101674</td><td>6.72</td><td>M</td><td>Caucasian</td><td>65</td><td>0</td><td>GSM2431731</td></tr>\n",
       "</tbody>\n",
       "</table>\n"
      ],
      "text/latex": [
       "A data.frame: 2 x 8\n",
       "\\begin{tabular}{r|llllllll}\n",
       "  & TYPE & subject & PH & Gender & race & Age & death & GSM\\\\\n",
       "  & <chr> & <int> & <dbl> & <chr> & <chr> & <int> & <int> & <chr>\\\\\n",
       "\\hline\n",
       "\t1 & MDD & 101597 & 7.05 & M & Caucasian & 66 & 0 & GSM2431728\\\\\n",
       "\t2 & MDD & 101674 & 6.72 & M & Caucasian & 65 & 0 & GSM2431731\\\\\n",
       "\\end{tabular}\n"
      ],
      "text/markdown": [
       "\n",
       "A data.frame: 2 x 8\n",
       "\n",
       "| <!--/--> | TYPE &lt;chr&gt; | subject &lt;int&gt; | PH &lt;dbl&gt; | Gender &lt;chr&gt; | race &lt;chr&gt; | Age &lt;int&gt; | death &lt;int&gt; | GSM &lt;chr&gt; |\n",
       "|---|---|---|---|---|---|---|---|---|\n",
       "| 1 | MDD | 101597 | 7.05 | M | Caucasian | 66 | 0 | GSM2431728 |\n",
       "| 2 | MDD | 101674 | 6.72 | M | Caucasian | 65 | 0 | GSM2431731 |\n",
       "\n"
      ],
      "text/plain": [
       "  TYPE subject PH   Gender race      Age death GSM       \n",
       "1 MDD  101597  7.05 M      Caucasian 66  0     GSM2431728\n",
       "2 MDD  101674  6.72 M      Caucasian 65  0     GSM2431731"
      ]
     },
     "metadata": {},
     "output_type": "display_data"
    }
   ],
   "source": [
    "head(da1,2)"
   ]
  },
  {
   "cell_type": "code",
   "execution_count": 10,
   "id": "6a4265f5-bad8-478c-9bce-d0fa00d08721",
   "metadata": {},
   "outputs": [],
   "source": [
    "da2 = read.table('./remove2.txt',header =T,sep = '\\t',check.names = F)"
   ]
  },
  {
   "cell_type": "code",
   "execution_count": 11,
   "id": "4c3186eb-6642-4dd5-a6e0-624ab83c1c68",
   "metadata": {},
   "outputs": [
    {
     "data": {
      "text/html": [
       "<table class=\"dataframe\">\n",
       "<caption>A data.frame: 2 x 173</caption>\n",
       "<thead>\n",
       "\t<tr><th></th><th scope=col>ID</th><th scope=col>102420</th><th scope=col>101690</th><th scope=col>105928</th><th scope=col>103984</th><th scope=col>106355</th><th scope=col>107727</th><th scope=col>102475</th><th scope=col>107366</th><th scope=col>107185</th><th scope=col>...</th><th scope=col>103620</th><th scope=col>109436</th><th scope=col>102608</th><th scope=col>102579</th><th scope=col>108022</th><th scope=col>106082</th><th scope=col>108291</th><th scope=col>103917</th><th scope=col>103211</th><th scope=col>102349</th></tr>\n",
       "\t<tr><th></th><th scope=col>&lt;chr&gt;</th><th scope=col>&lt;dbl&gt;</th><th scope=col>&lt;dbl&gt;</th><th scope=col>&lt;dbl&gt;</th><th scope=col>&lt;dbl&gt;</th><th scope=col>&lt;dbl&gt;</th><th scope=col>&lt;dbl&gt;</th><th scope=col>&lt;dbl&gt;</th><th scope=col>&lt;dbl&gt;</th><th scope=col>&lt;dbl&gt;</th><th scope=col>...</th><th scope=col>&lt;dbl&gt;</th><th scope=col>&lt;dbl&gt;</th><th scope=col>&lt;dbl&gt;</th><th scope=col>&lt;dbl&gt;</th><th scope=col>&lt;dbl&gt;</th><th scope=col>&lt;dbl&gt;</th><th scope=col>&lt;dbl&gt;</th><th scope=col>&lt;dbl&gt;</th><th scope=col>&lt;dbl&gt;</th><th scope=col>&lt;dbl&gt;</th></tr>\n",
       "</thead>\n",
       "<tbody>\n",
       "\t<tr><th scope=row>1</th><td>10000_at</td><td>-0.002368832</td><td>0.04337324</td><td>0.0523628</td><td>0.04786817</td><td>0.03918936</td><td>0.03359806</td><td>0.1133558</td><td>0.08256025</td><td>-0.06256452</td><td>...</td><td>0.11859049</td><td>0.06649412</td><td>-0.3140175</td><td>0.1867986</td><td>0.03844558</td><td>0.087760471</td><td>-0.1358281</td><td> 0.2823591</td><td>-0.08261324</td><td>-0.04993364</td></tr>\n",
       "\t<tr><th scope=row>2</th><td>10001_at</td><td>-0.225477189</td><td>0.44336651</td><td>0.1176702</td><td>0.33329413</td><td>0.20939885</td><td>0.13793711</td><td>0.1152254</td><td>0.17699930</td><td> 0.03033979</td><td>...</td><td>0.04328463</td><td>0.23901771</td><td>-0.2168798</td><td>0.1154719</td><td>0.45487349</td><td>0.001328625</td><td>-0.2038973</td><td>-0.1896431</td><td>-0.34764865</td><td> 0.11837123</td></tr>\n",
       "</tbody>\n",
       "</table>\n"
      ],
      "text/latex": [
       "A data.frame: 2 x 173\n",
       "\\begin{tabular}{r|lllllllllllllllllllll}\n",
       "  & ID & 102420 & 101690 & 105928 & 103984 & 106355 & 107727 & 102475 & 107366 & 107185 & ... & 103620 & 109436 & 102608 & 102579 & 108022 & 106082 & 108291 & 103917 & 103211 & 102349\\\\\n",
       "  & <chr> & <dbl> & <dbl> & <dbl> & <dbl> & <dbl> & <dbl> & <dbl> & <dbl> & <dbl> & ... & <dbl> & <dbl> & <dbl> & <dbl> & <dbl> & <dbl> & <dbl> & <dbl> & <dbl> & <dbl>\\\\\n",
       "\\hline\n",
       "\t1 & 10000\\_at & -0.002368832 & 0.04337324 & 0.0523628 & 0.04786817 & 0.03918936 & 0.03359806 & 0.1133558 & 0.08256025 & -0.06256452 & ... & 0.11859049 & 0.06649412 & -0.3140175 & 0.1867986 & 0.03844558 & 0.087760471 & -0.1358281 &  0.2823591 & -0.08261324 & -0.04993364\\\\\n",
       "\t2 & 10001\\_at & -0.225477189 & 0.44336651 & 0.1176702 & 0.33329413 & 0.20939885 & 0.13793711 & 0.1152254 & 0.17699930 &  0.03033979 & ... & 0.04328463 & 0.23901771 & -0.2168798 & 0.1154719 & 0.45487349 & 0.001328625 & -0.2038973 & -0.1896431 & -0.34764865 &  0.11837123\\\\\n",
       "\\end{tabular}\n"
      ],
      "text/markdown": [
       "\n",
       "A data.frame: 2 x 173\n",
       "\n",
       "| <!--/--> | ID &lt;chr&gt; | 102420 &lt;dbl&gt; | 101690 &lt;dbl&gt; | 105928 &lt;dbl&gt; | 103984 &lt;dbl&gt; | 106355 &lt;dbl&gt; | 107727 &lt;dbl&gt; | 102475 &lt;dbl&gt; | 107366 &lt;dbl&gt; | 107185 &lt;dbl&gt; | ... ... | 103620 &lt;dbl&gt; | 109436 &lt;dbl&gt; | 102608 &lt;dbl&gt; | 102579 &lt;dbl&gt; | 108022 &lt;dbl&gt; | 106082 &lt;dbl&gt; | 108291 &lt;dbl&gt; | 103917 &lt;dbl&gt; | 103211 &lt;dbl&gt; | 102349 &lt;dbl&gt; |\n",
       "|---|---|---|---|---|---|---|---|---|---|---|---|---|---|---|---|---|---|---|---|---|---|\n",
       "| 1 | 10000_at | -0.002368832 | 0.04337324 | 0.0523628 | 0.04786817 | 0.03918936 | 0.03359806 | 0.1133558 | 0.08256025 | -0.06256452 | ... | 0.11859049 | 0.06649412 | -0.3140175 | 0.1867986 | 0.03844558 | 0.087760471 | -0.1358281 |  0.2823591 | -0.08261324 | -0.04993364 |\n",
       "| 2 | 10001_at | -0.225477189 | 0.44336651 | 0.1176702 | 0.33329413 | 0.20939885 | 0.13793711 | 0.1152254 | 0.17699930 |  0.03033979 | ... | 0.04328463 | 0.23901771 | -0.2168798 | 0.1154719 | 0.45487349 | 0.001328625 | -0.2038973 | -0.1896431 | -0.34764865 |  0.11837123 |\n",
       "\n"
      ],
      "text/plain": [
       "  ID       102420       101690     105928    103984     106355     107727    \n",
       "1 10000_at -0.002368832 0.04337324 0.0523628 0.04786817 0.03918936 0.03359806\n",
       "2 10001_at -0.225477189 0.44336651 0.1176702 0.33329413 0.20939885 0.13793711\n",
       "  102475    107366     107185      ... 103620     109436     102608    \n",
       "1 0.1133558 0.08256025 -0.06256452 ... 0.11859049 0.06649412 -0.3140175\n",
       "2 0.1152254 0.17699930  0.03033979 ... 0.04328463 0.23901771 -0.2168798\n",
       "  102579    108022     106082      108291     103917     103211     \n",
       "1 0.1867986 0.03844558 0.087760471 -0.1358281  0.2823591 -0.08261324\n",
       "2 0.1154719 0.45487349 0.001328625 -0.2038973 -0.1896431 -0.34764865\n",
       "  102349     \n",
       "1 -0.04993364\n",
       "2  0.11837123"
      ]
     },
     "metadata": {},
     "output_type": "display_data"
    }
   ],
   "source": [
    "head(da2,2)"
   ]
  },
  {
   "cell_type": "code",
   "execution_count": 26,
   "id": "268407ea-383e-4a7d-9343-971a0a72bd73",
   "metadata": {},
   "outputs": [
    {
     "data": {
      "text/html": [
       "<style>\n",
       ".list-inline {list-style: none; margin:0; padding: 0}\n",
       ".list-inline>li {display: inline-block}\n",
       ".list-inline>li:not(:last-child)::after {content: \"\\00b7\"; padding: 0 .5ex}\n",
       "</style>\n",
       "<ol class=list-inline><li>11979</li><li>173</li></ol>\n"
      ],
      "text/latex": [
       "\\begin{enumerate*}\n",
       "\\item 11979\n",
       "\\item 173\n",
       "\\end{enumerate*}\n"
      ],
      "text/markdown": [
       "1. 11979\n",
       "2. 173\n",
       "\n",
       "\n"
      ],
      "text/plain": [
       "[1] 11979   173"
      ]
     },
     "metadata": {},
     "output_type": "display_data"
    }
   ],
   "source": [
    "dim(da2)"
   ]
  },
  {
   "cell_type": "code",
   "execution_count": 13,
   "id": "f1ae9e04-be3f-422b-9c87-426acf40ea36",
   "metadata": {},
   "outputs": [
    {
     "name": "stderr",
     "output_type": "stream",
     "text": [
      "Warning message:\n",
      "\"package 'dplyr' was built under R version 4.2.3\"\n",
      "\n",
      "Attaching package: 'dplyr'\n",
      "\n",
      "\n",
      "The following objects are masked from 'package:stats':\n",
      "\n",
      "    filter, lag\n",
      "\n",
      "\n",
      "The following objects are masked from 'package:base':\n",
      "\n",
      "    intersect, setdiff, setequal, union\n",
      "\n",
      "\n"
     ]
    }
   ],
   "source": [
    "library(dplyr)"
   ]
  },
  {
   "cell_type": "code",
   "execution_count": 16,
   "id": "e780fa21-12e2-43d2-badd-439d5fdcd830",
   "metadata": {},
   "outputs": [
    {
     "data": {
      "text/html": [
       "<table class=\"dataframe\">\n",
       "<caption>A data.frame: 2 x 2</caption>\n",
       "<thead>\n",
       "\t<tr><th></th><th scope=col>ID</th><th scope=col>SYMBOL</th></tr>\n",
       "\t<tr><th></th><th scope=col>&lt;chr&gt;</th><th scope=col>&lt;chr&gt;</th></tr>\n",
       "</thead>\n",
       "<tbody>\n",
       "\t<tr><th scope=row>1</th><td>1_at </td><td>A1BG</td></tr>\n",
       "\t<tr><th scope=row>2</th><td>10_at</td><td>NAT2</td></tr>\n",
       "</tbody>\n",
       "</table>\n"
      ],
      "text/latex": [
       "A data.frame: 2 x 2\n",
       "\\begin{tabular}{r|ll}\n",
       "  & ID & SYMBOL\\\\\n",
       "  & <chr> & <chr>\\\\\n",
       "\\hline\n",
       "\t1 & 1\\_at  & A1BG\\\\\n",
       "\t2 & 10\\_at & NAT2\\\\\n",
       "\\end{tabular}\n"
      ],
      "text/markdown": [
       "\n",
       "A data.frame: 2 x 2\n",
       "\n",
       "| <!--/--> | ID &lt;chr&gt; | SYMBOL &lt;chr&gt; |\n",
       "|---|---|---|\n",
       "| 1 | 1_at  | A1BG |\n",
       "| 2 | 10_at | NAT2 |\n",
       "\n"
      ],
      "text/plain": [
       "  ID    SYMBOL\n",
       "1 1_at  A1BG  \n",
       "2 10_at NAT2  "
      ]
     },
     "metadata": {},
     "output_type": "display_data"
    }
   ],
   "source": [
    "probe = read.table('./probe.txt',header =T,sep = '\\t')\n",
    "head(probe,2)\n",
    "exp2 = left_join(probe,da2,by = 'ID') %>%  na.omit() "
   ]
  },
  {
   "cell_type": "code",
   "execution_count": 17,
   "id": "981347ca-d09e-4f08-b4fc-8e173e95bc4d",
   "metadata": {},
   "outputs": [],
   "source": [
    "\n",
    "exp2 = exp2[!duplicated(exp2$SYMBOL),]\n",
    "rownames(exp2) = exp2[,2]\n",
    "exp3 = exp2[,-c(1,2)] %>% t() %>%   as.data.frame() %>%  tibble::rownames_to_column(.,'GSM')"
   ]
  },
  {
   "cell_type": "code",
   "execution_count": 19,
   "id": "3e3d3cc2-8c11-4614-a919-8e065096643f",
   "metadata": {},
   "outputs": [],
   "source": [
    "exp4 = merge(da1,exp3,by.x = 'subject',by.y = 'GSM' )"
   ]
  },
  {
   "cell_type": "code",
   "execution_count": 20,
   "id": "a9f4ca8b-0020-4a0d-8817-828ea54f4670",
   "metadata": {},
   "outputs": [
    {
     "data": {
      "text/html": [
       "<table class=\"dataframe\">\n",
       "<caption>A data.frame: 3 x 11883</caption>\n",
       "<thead>\n",
       "\t<tr><th></th><th scope=col>subject</th><th scope=col>TYPE</th><th scope=col>PH</th><th scope=col>Gender</th><th scope=col>race</th><th scope=col>Age</th><th scope=col>death</th><th scope=col>GSM</th><th scope=col>NAT2</th><th scope=col>ADA</th><th scope=col>...</th><th scope=col>HNRPDL</th><th scope=col>DMTF1</th><th scope=col>PPP4R1</th><th scope=col>CDH1</th><th scope=col>SLC12A6</th><th scope=col>ROD1</th><th scope=col>KCNE2</th><th scope=col>DGCR2</th><th scope=col>CASP8AP2</th><th scope=col>SCO2</th></tr>\n",
       "\t<tr><th></th><th scope=col>&lt;int&gt;</th><th scope=col>&lt;chr&gt;</th><th scope=col>&lt;dbl&gt;</th><th scope=col>&lt;chr&gt;</th><th scope=col>&lt;chr&gt;</th><th scope=col>&lt;int&gt;</th><th scope=col>&lt;int&gt;</th><th scope=col>&lt;chr&gt;</th><th scope=col>&lt;dbl&gt;</th><th scope=col>&lt;dbl&gt;</th><th scope=col>...</th><th scope=col>&lt;dbl&gt;</th><th scope=col>&lt;dbl&gt;</th><th scope=col>&lt;dbl&gt;</th><th scope=col>&lt;dbl&gt;</th><th scope=col>&lt;dbl&gt;</th><th scope=col>&lt;dbl&gt;</th><th scope=col>&lt;dbl&gt;</th><th scope=col>&lt;dbl&gt;</th><th scope=col>&lt;dbl&gt;</th><th scope=col>&lt;dbl&gt;</th></tr>\n",
       "</thead>\n",
       "<tbody>\n",
       "\t<tr><th scope=row>1</th><td>101032</td><td>MDD    </td><td>6.51</td><td>M</td><td>Caucasian</td><td>34</td><td>1</td><td>GSM2431900</td><td>0.6483221</td><td>-0.08833605</td><td>...</td><td>-0.11863821</td><td> 0.23418531</td><td>-0.001786439</td><td>-0.05258035</td><td>0.3886042</td><td>0.003912351</td><td>0.05898467</td><td>-0.2760007</td><td>-0.07487967</td><td> 0.01726185</td></tr>\n",
       "\t<tr><th scope=row>2</th><td>101091</td><td>Control</td><td>6.64</td><td>M</td><td>Caucasian</td><td>53</td><td>0</td><td>GSM2431719</td><td>0.2656920</td><td> 0.01237524</td><td>...</td><td>-0.03964289</td><td>-0.05509605</td><td>-0.302147249</td><td> 0.04052146</td><td>0.1449086</td><td>0.005958422</td><td>0.23935568</td><td>-0.1894593</td><td>-0.22838447</td><td>-0.04422506</td></tr>\n",
       "\t<tr><th scope=row>3</th><td>101091</td><td>Control</td><td>6.64</td><td>M</td><td>Caucasian</td><td>53</td><td>0</td><td>GSM2431903</td><td>0.2656920</td><td> 0.01237524</td><td>...</td><td>-0.03964289</td><td>-0.05509605</td><td>-0.302147249</td><td> 0.04052146</td><td>0.1449086</td><td>0.005958422</td><td>0.23935568</td><td>-0.1894593</td><td>-0.22838447</td><td>-0.04422506</td></tr>\n",
       "</tbody>\n",
       "</table>\n"
      ],
      "text/latex": [
       "A data.frame: 3 x 11883\n",
       "\\begin{tabular}{r|lllllllllllllllllllll}\n",
       "  & subject & TYPE & PH & Gender & race & Age & death & GSM & NAT2 & ADA & ... & HNRPDL & DMTF1 & PPP4R1 & CDH1 & SLC12A6 & ROD1 & KCNE2 & DGCR2 & CASP8AP2 & SCO2\\\\\n",
       "  & <int> & <chr> & <dbl> & <chr> & <chr> & <int> & <int> & <chr> & <dbl> & <dbl> & ... & <dbl> & <dbl> & <dbl> & <dbl> & <dbl> & <dbl> & <dbl> & <dbl> & <dbl> & <dbl>\\\\\n",
       "\\hline\n",
       "\t1 & 101032 & MDD     & 6.51 & M & Caucasian & 34 & 1 & GSM2431900 & 0.6483221 & -0.08833605 & ... & -0.11863821 &  0.23418531 & -0.001786439 & -0.05258035 & 0.3886042 & 0.003912351 & 0.05898467 & -0.2760007 & -0.07487967 &  0.01726185\\\\\n",
       "\t2 & 101091 & Control & 6.64 & M & Caucasian & 53 & 0 & GSM2431719 & 0.2656920 &  0.01237524 & ... & -0.03964289 & -0.05509605 & -0.302147249 &  0.04052146 & 0.1449086 & 0.005958422 & 0.23935568 & -0.1894593 & -0.22838447 & -0.04422506\\\\\n",
       "\t3 & 101091 & Control & 6.64 & M & Caucasian & 53 & 0 & GSM2431903 & 0.2656920 &  0.01237524 & ... & -0.03964289 & -0.05509605 & -0.302147249 &  0.04052146 & 0.1449086 & 0.005958422 & 0.23935568 & -0.1894593 & -0.22838447 & -0.04422506\\\\\n",
       "\\end{tabular}\n"
      ],
      "text/markdown": [
       "\n",
       "A data.frame: 3 x 11883\n",
       "\n",
       "| <!--/--> | subject &lt;int&gt; | TYPE &lt;chr&gt; | PH &lt;dbl&gt; | Gender &lt;chr&gt; | race &lt;chr&gt; | Age &lt;int&gt; | death &lt;int&gt; | GSM &lt;chr&gt; | NAT2 &lt;dbl&gt; | ADA &lt;dbl&gt; | ... ... | HNRPDL &lt;dbl&gt; | DMTF1 &lt;dbl&gt; | PPP4R1 &lt;dbl&gt; | CDH1 &lt;dbl&gt; | SLC12A6 &lt;dbl&gt; | ROD1 &lt;dbl&gt; | KCNE2 &lt;dbl&gt; | DGCR2 &lt;dbl&gt; | CASP8AP2 &lt;dbl&gt; | SCO2 &lt;dbl&gt; |\n",
       "|---|---|---|---|---|---|---|---|---|---|---|---|---|---|---|---|---|---|---|---|---|---|\n",
       "| 1 | 101032 | MDD     | 6.51 | M | Caucasian | 34 | 1 | GSM2431900 | 0.6483221 | -0.08833605 | ... | -0.11863821 |  0.23418531 | -0.001786439 | -0.05258035 | 0.3886042 | 0.003912351 | 0.05898467 | -0.2760007 | -0.07487967 |  0.01726185 |\n",
       "| 2 | 101091 | Control | 6.64 | M | Caucasian | 53 | 0 | GSM2431719 | 0.2656920 |  0.01237524 | ... | -0.03964289 | -0.05509605 | -0.302147249 |  0.04052146 | 0.1449086 | 0.005958422 | 0.23935568 | -0.1894593 | -0.22838447 | -0.04422506 |\n",
       "| 3 | 101091 | Control | 6.64 | M | Caucasian | 53 | 0 | GSM2431903 | 0.2656920 |  0.01237524 | ... | -0.03964289 | -0.05509605 | -0.302147249 |  0.04052146 | 0.1449086 | 0.005958422 | 0.23935568 | -0.1894593 | -0.22838447 | -0.04422506 |\n",
       "\n"
      ],
      "text/plain": [
       "  subject TYPE    PH   Gender race      Age death GSM        NAT2     \n",
       "1 101032  MDD     6.51 M      Caucasian 34  1     GSM2431900 0.6483221\n",
       "2 101091  Control 6.64 M      Caucasian 53  0     GSM2431719 0.2656920\n",
       "3 101091  Control 6.64 M      Caucasian 53  0     GSM2431903 0.2656920\n",
       "  ADA         ... HNRPDL      DMTF1       PPP4R1       CDH1        SLC12A6  \n",
       "1 -0.08833605 ... -0.11863821  0.23418531 -0.001786439 -0.05258035 0.3886042\n",
       "2  0.01237524 ... -0.03964289 -0.05509605 -0.302147249  0.04052146 0.1449086\n",
       "3  0.01237524 ... -0.03964289 -0.05509605 -0.302147249  0.04052146 0.1449086\n",
       "  ROD1        KCNE2      DGCR2      CASP8AP2    SCO2       \n",
       "1 0.003912351 0.05898467 -0.2760007 -0.07487967  0.01726185\n",
       "2 0.005958422 0.23935568 -0.1894593 -0.22838447 -0.04422506\n",
       "3 0.005958422 0.23935568 -0.1894593 -0.22838447 -0.04422506"
      ]
     },
     "metadata": {},
     "output_type": "display_data"
    }
   ],
   "source": [
    "head(exp4,3)"
   ]
  },
  {
   "cell_type": "code",
   "execution_count": 21,
   "id": "2444d1fa-b978-4073-8f4b-6c05a89551de",
   "metadata": {},
   "outputs": [
    {
     "data": {
      "text/html": [
       "<table class=\"dataframe\">\n",
       "<caption>A data.frame: 2 x 9</caption>\n",
       "<thead>\n",
       "\t<tr><th></th><th scope=col>SUBJECT</th><th scope=col>DIAGNOSIS</th><th scope=col>PH</th><th scope=col>GENDER</th><th scope=col>RACE</th><th scope=col>AGE</th><th scope=col>TOD</th><th scope=col>death</th><th scope=col>Toxicology</th></tr>\n",
       "\t<tr><th></th><th scope=col>&lt;int&gt;</th><th scope=col>&lt;chr&gt;</th><th scope=col>&lt;dbl&gt;</th><th scope=col>&lt;chr&gt;</th><th scope=col>&lt;chr&gt;</th><th scope=col>&lt;int&gt;</th><th scope=col>&lt;dbl&gt;</th><th scope=col>&lt;int&gt;</th><th scope=col>&lt;chr&gt;</th></tr>\n",
       "</thead>\n",
       "<tbody>\n",
       "\t<tr><th scope=row>2</th><td>54</td><td>Control</td><td>6.97</td><td>M</td><td>Caucasian</td><td>18</td><td>12.23</td><td>0</td><td></td></tr>\n",
       "\t<tr><th scope=row>4</th><td>52</td><td>Control</td><td>6.89</td><td>M</td><td>Caucasian</td><td>55</td><td>14.47</td><td>0</td><td></td></tr>\n",
       "</tbody>\n",
       "</table>\n"
      ],
      "text/latex": [
       "A data.frame: 2 x 9\n",
       "\\begin{tabular}{r|lllllllll}\n",
       "  & SUBJECT & DIAGNOSIS & PH & GENDER & RACE & AGE & TOD & death & Toxicology\\\\\n",
       "  & <int> & <chr> & <dbl> & <chr> & <chr> & <int> & <dbl> & <int> & <chr>\\\\\n",
       "\\hline\n",
       "\t2 & 54 & Control & 6.97 & M & Caucasian & 18 & 12.23 & 0 & \\\\\n",
       "\t4 & 52 & Control & 6.89 & M & Caucasian & 55 & 14.47 & 0 & \\\\\n",
       "\\end{tabular}\n"
      ],
      "text/markdown": [
       "\n",
       "A data.frame: 2 x 9\n",
       "\n",
       "| <!--/--> | SUBJECT &lt;int&gt; | DIAGNOSIS &lt;chr&gt; | PH &lt;dbl&gt; | GENDER &lt;chr&gt; | RACE &lt;chr&gt; | AGE &lt;int&gt; | TOD &lt;dbl&gt; | death &lt;int&gt; | Toxicology &lt;chr&gt; |\n",
       "|---|---|---|---|---|---|---|---|---|---|\n",
       "| 2 | 54 | Control | 6.97 | M | Caucasian | 18 | 12.23 | 0 | <!----> |\n",
       "| 4 | 52 | Control | 6.89 | M | Caucasian | 55 | 14.47 | 0 | <!----> |\n",
       "\n"
      ],
      "text/plain": [
       "  SUBJECT DIAGNOSIS PH   GENDER RACE      AGE TOD   death Toxicology\n",
       "2 54      Control   6.97 M      Caucasian 18  12.23 0               \n",
       "4 52      Control   6.89 M      Caucasian 55  14.47 0               "
      ]
     },
     "metadata": {},
     "output_type": "display_data"
    }
   ],
   "source": [
    "aaa2 = read.csv('./table1.csv',check.names = F)\n",
    "aaa2 = aaa2[ complete.cases(aaa2[ , c(7)]),]\n",
    "head(aaa2,2)"
   ]
  },
  {
   "cell_type": "code",
   "execution_count": 22,
   "id": "b92c4cde-8801-469e-8d4c-966bc69d37af",
   "metadata": {},
   "outputs": [],
   "source": [
    "colnames(aaa2)[2:6] = c('TYPE','PH','Gender','race','Age')"
   ]
  },
  {
   "cell_type": "code",
   "execution_count": 23,
   "id": "d89c812e-7c57-479d-8268-7e4a7b9cbaa9",
   "metadata": {},
   "outputs": [],
   "source": [
    "aaa2$TYPE = gsub('MD','MDD',aaa2$TYPE)"
   ]
  },
  {
   "cell_type": "code",
   "execution_count": 27,
   "id": "7379b4b4-5edb-45b2-b148-ce37289be90a",
   "metadata": {},
   "outputs": [
    {
     "data": {
      "text/html": [
       "<style>\n",
       ".list-inline {list-style: none; margin:0; padding: 0}\n",
       ".list-inline>li {display: inline-block}\n",
       ".list-inline>li:not(:last-child)::after {content: \"\\00b7\"; padding: 0 .5ex}\n",
       "</style>\n",
       "<ol class=list-inline><li>251</li><li>11883</li></ol>\n"
      ],
      "text/latex": [
       "\\begin{enumerate*}\n",
       "\\item 251\n",
       "\\item 11883\n",
       "\\end{enumerate*}\n"
      ],
      "text/markdown": [
       "1. 251\n",
       "2. 11883\n",
       "\n",
       "\n"
      ],
      "text/plain": [
       "[1]   251 11883"
      ]
     },
     "metadata": {},
     "output_type": "display_data"
    }
   ],
   "source": [
    "dim(exp4)"
   ]
  },
  {
   "cell_type": "code",
   "execution_count": 24,
   "id": "df5dbefe-62ac-4cce-abd8-abb52d9fce9f",
   "metadata": {},
   "outputs": [],
   "source": [
    "exp5 = merge(aaa2, exp4, by = c('TYPE','PH','Gender','race','Age','death')) %>% na.omit()"
   ]
  },
  {
   "cell_type": "code",
   "execution_count": 25,
   "id": "5c784a97-283e-4129-bf93-e1a026e3dec3",
   "metadata": {},
   "outputs": [
    {
     "data": {
      "text/plain": [
       "\n",
       "Control     MDD \n",
       "    112      61 "
      ]
     },
     "metadata": {},
     "output_type": "display_data"
    }
   ],
   "source": [
    "table(exp5$TYPE)"
   ]
  },
  {
   "cell_type": "code",
   "execution_count": 29,
   "id": "b4f80b1e-daf5-4025-857f-7930265f7eba",
   "metadata": {},
   "outputs": [],
   "source": [
    "exp5 = exp5[!duplicated(exp5$subject),]"
   ]
  },
  {
   "cell_type": "code",
   "execution_count": 30,
   "id": "9bfff009-a3f8-45cd-9d83-251708a5606b",
   "metadata": {},
   "outputs": [
    {
     "data": {
      "text/html": [
       "<style>\n",
       ".list-inline {list-style: none; margin:0; padding: 0}\n",
       ".list-inline>li {display: inline-block}\n",
       ".list-inline>li:not(:last-child)::after {content: \"\\00b7\"; padding: 0 .5ex}\n",
       "</style>\n",
       "<ol class=list-inline><li>84</li><li>11886</li></ol>\n"
      ],
      "text/latex": [
       "\\begin{enumerate*}\n",
       "\\item 84\n",
       "\\item 11886\n",
       "\\end{enumerate*}\n"
      ],
      "text/markdown": [
       "1. 84\n",
       "2. 11886\n",
       "\n",
       "\n"
      ],
      "text/plain": [
       "[1]    84 11886"
      ]
     },
     "metadata": {},
     "output_type": "display_data"
    }
   ],
   "source": [
    "dim(exp5)"
   ]
  },
  {
   "cell_type": "code",
   "execution_count": 32,
   "id": "019e3b3b-2e3a-430e-be23-3cb0e4550a77",
   "metadata": {},
   "outputs": [
    {
     "data": {
      "text/plain": [
       "\n",
       "Control     MDD \n",
       "     51      33 "
      ]
     },
     "metadata": {},
     "output_type": "display_data"
    }
   ],
   "source": [
    "table(exp5$TYPE)"
   ]
  },
  {
   "cell_type": "code",
   "execution_count": 33,
   "id": "c77fca30-5b35-4e66-a0a8-41a7ac1e1ed3",
   "metadata": {},
   "outputs": [],
   "source": [
    "write.csv(exp5,file = 'TOD.rela.2.csv')"
   ]
  },
  {
   "cell_type": "code",
   "execution_count": 34,
   "id": "68e7de32-9188-4d7f-b597-cc33c5928ccc",
   "metadata": {},
   "outputs": [],
   "source": [
    "exp5$TOD = ifelse(exp5$TOD < 0,exp5$TOD+24,exp5$TOD)"
   ]
  },
  {
   "cell_type": "code",
   "execution_count": 35,
   "id": "2b8da913-acb2-40b7-b865-0bd1df5e94fc",
   "metadata": {},
   "outputs": [
    {
     "data": {
      "text/plain": [
       "\n",
       "Control     MDD \n",
       "     51      33 "
      ]
     },
     "metadata": {},
     "output_type": "display_data"
    },
    {
     "data": {
      "text/html": [
       "<table class=\"dataframe\">\n",
       "<caption>A data.frame: 2 x 33</caption>\n",
       "<thead>\n",
       "\t<tr><th></th><th scope=col>V1</th><th scope=col>V2</th><th scope=col>V3</th><th scope=col>V4</th><th scope=col>V5</th><th scope=col>V6</th><th scope=col>V7</th><th scope=col>V8</th><th scope=col>V9</th><th scope=col>V10</th><th scope=col>...</th><th scope=col>V24</th><th scope=col>V25</th><th scope=col>V26</th><th scope=col>V27</th><th scope=col>V28</th><th scope=col>V29</th><th scope=col>V30</th><th scope=col>V31</th><th scope=col>V32</th><th scope=col>V33</th></tr>\n",
       "\t<tr><th></th><th scope=col>&lt;dbl&gt;</th><th scope=col>&lt;dbl&gt;</th><th scope=col>&lt;dbl&gt;</th><th scope=col>&lt;dbl&gt;</th><th scope=col>&lt;dbl&gt;</th><th scope=col>&lt;dbl&gt;</th><th scope=col>&lt;dbl&gt;</th><th scope=col>&lt;dbl&gt;</th><th scope=col>&lt;dbl&gt;</th><th scope=col>&lt;dbl&gt;</th><th scope=col>...</th><th scope=col>&lt;dbl&gt;</th><th scope=col>&lt;dbl&gt;</th><th scope=col>&lt;dbl&gt;</th><th scope=col>&lt;dbl&gt;</th><th scope=col>&lt;dbl&gt;</th><th scope=col>&lt;dbl&gt;</th><th scope=col>&lt;dbl&gt;</th><th scope=col>&lt;dbl&gt;</th><th scope=col>&lt;dbl&gt;</th><th scope=col>&lt;dbl&gt;</th></tr>\n",
       "</thead>\n",
       "<tbody>\n",
       "\t<tr><th scope=row>TOD</th><td>11.1500000</td><td> 1.203e+01</td><td>8.6200000</td><td>2.1700000</td><td>9.5200000</td><td>8.5700000</td><td>22.9800000</td><td>21.9500000</td><td> 3.3200000</td><td>3.5200000</td><td>...</td><td>14.6800000</td><td> 9.47000000</td><td> 5.8700000</td><td>15.30000000</td><td>2.880000000</td><td> 4.850000</td><td> 3.20000000</td><td> 5.4800000</td><td>3.2500000</td><td> 0.9300000</td></tr>\n",
       "\t<tr><th scope=row>NAT2</th><td>-0.3366612</td><td>-6.820e-06</td><td>0.2971661</td><td>0.2025298</td><td>0.6483221</td><td>0.3103831</td><td>-0.3400011</td><td>-0.1747086</td><td>-0.3344784</td><td>0.2450834</td><td>...</td><td>-0.2818685</td><td>-0.01685043</td><td>-0.4305957</td><td> 0.02316916</td><td>0.003915999</td><td>-0.199686</td><td>-0.05028903</td><td>-0.2247213</td><td>0.2517364</td><td>-0.6745494</td></tr>\n",
       "</tbody>\n",
       "</table>\n"
      ],
      "text/latex": [
       "A data.frame: 2 x 33\n",
       "\\begin{tabular}{r|lllllllllllllllllllll}\n",
       "  & V1 & V2 & V3 & V4 & V5 & V6 & V7 & V8 & V9 & V10 & ... & V24 & V25 & V26 & V27 & V28 & V29 & V30 & V31 & V32 & V33\\\\\n",
       "  & <dbl> & <dbl> & <dbl> & <dbl> & <dbl> & <dbl> & <dbl> & <dbl> & <dbl> & <dbl> & ... & <dbl> & <dbl> & <dbl> & <dbl> & <dbl> & <dbl> & <dbl> & <dbl> & <dbl> & <dbl>\\\\\n",
       "\\hline\n",
       "\tTOD & 11.1500000 &  1.203e+01 & 8.6200000 & 2.1700000 & 9.5200000 & 8.5700000 & 22.9800000 & 21.9500000 &  3.3200000 & 3.5200000 & ... & 14.6800000 &  9.47000000 &  5.8700000 & 15.30000000 & 2.880000000 &  4.850000 &  3.20000000 &  5.4800000 & 3.2500000 &  0.9300000\\\\\n",
       "\tNAT2 & -0.3366612 & -6.820e-06 & 0.2971661 & 0.2025298 & 0.6483221 & 0.3103831 & -0.3400011 & -0.1747086 & -0.3344784 & 0.2450834 & ... & -0.2818685 & -0.01685043 & -0.4305957 &  0.02316916 & 0.003915999 & -0.199686 & -0.05028903 & -0.2247213 & 0.2517364 & -0.6745494\\\\\n",
       "\\end{tabular}\n"
      ],
      "text/markdown": [
       "\n",
       "A data.frame: 2 x 33\n",
       "\n",
       "| <!--/--> | V1 &lt;dbl&gt; | V2 &lt;dbl&gt; | V3 &lt;dbl&gt; | V4 &lt;dbl&gt; | V5 &lt;dbl&gt; | V6 &lt;dbl&gt; | V7 &lt;dbl&gt; | V8 &lt;dbl&gt; | V9 &lt;dbl&gt; | V10 &lt;dbl&gt; | ... ... | V24 &lt;dbl&gt; | V25 &lt;dbl&gt; | V26 &lt;dbl&gt; | V27 &lt;dbl&gt; | V28 &lt;dbl&gt; | V29 &lt;dbl&gt; | V30 &lt;dbl&gt; | V31 &lt;dbl&gt; | V32 &lt;dbl&gt; | V33 &lt;dbl&gt; |\n",
       "|---|---|---|---|---|---|---|---|---|---|---|---|---|---|---|---|---|---|---|---|---|---|\n",
       "| TOD | 11.1500000 |  1.203e+01 | 8.6200000 | 2.1700000 | 9.5200000 | 8.5700000 | 22.9800000 | 21.9500000 |  3.3200000 | 3.5200000 | ... | 14.6800000 |  9.47000000 |  5.8700000 | 15.30000000 | 2.880000000 |  4.850000 |  3.20000000 |  5.4800000 | 3.2500000 |  0.9300000 |\n",
       "| NAT2 | -0.3366612 | -6.820e-06 | 0.2971661 | 0.2025298 | 0.6483221 | 0.3103831 | -0.3400011 | -0.1747086 | -0.3344784 | 0.2450834 | ... | -0.2818685 | -0.01685043 | -0.4305957 |  0.02316916 | 0.003915999 | -0.199686 | -0.05028903 | -0.2247213 | 0.2517364 | -0.6745494 |\n",
       "\n"
      ],
      "text/plain": [
       "     V1         V2         V3        V4        V5        V6        V7        \n",
       "TOD  11.1500000  1.203e+01 8.6200000 2.1700000 9.5200000 8.5700000 22.9800000\n",
       "NAT2 -0.3366612 -6.820e-06 0.2971661 0.2025298 0.6483221 0.3103831 -0.3400011\n",
       "     V8         V9         V10       ... V24        V25         V26       \n",
       "TOD  21.9500000  3.3200000 3.5200000 ... 14.6800000  9.47000000  5.8700000\n",
       "NAT2 -0.1747086 -0.3344784 0.2450834 ... -0.2818685 -0.01685043 -0.4305957\n",
       "     V27         V28         V29       V30         V31        V32      \n",
       "TOD  15.30000000 2.880000000  4.850000  3.20000000  5.4800000 3.2500000\n",
       "NAT2  0.02316916 0.003915999 -0.199686 -0.05028903 -0.2247213 0.2517364\n",
       "     V33       \n",
       "TOD   0.9300000\n",
       "NAT2 -0.6745494"
      ]
     },
     "metadata": {},
     "output_type": "display_data"
    },
    {
     "data": {
      "text/html": [
       "<style>\n",
       ".list-inline {list-style: none; margin:0; padding: 0}\n",
       ".list-inline>li {display: inline-block}\n",
       ".list-inline>li:not(:last-child)::after {content: \"\\00b7\"; padding: 0 .5ex}\n",
       "</style>\n",
       "<ol class=list-inline><li>'ZT11.15_REP1'</li><li>'ZT12.03_REP1'</li><li>'ZT8.62_REP1'</li><li>'ZT2.17_REP1'</li><li>'ZT9.52_REP1'</li><li>'ZT8.57_REP1'</li><li>'ZT22.98_REP1'</li><li>'ZT21.95_REP1'</li><li>'ZT3.32_REP1'</li><li>'ZT3.52_REP1'</li><li>'ZT1.17_REP1'</li><li>'ZT4.65_REP1'</li><li>'ZT19.28_REP1'</li><li>'ZT22.32_REP1'</li><li>'ZT6.32_REP1'</li><li>'ZT7.18_REP1'</li><li>'ZT4.85_REP1'</li><li>'ZT3.55_REP1'</li><li>'ZT22.95_REP1'</li><li>'ZT8.55_REP1'</li><li>'ZT11.17_REP1'</li><li>'ZT5.58_REP1'</li><li>'ZT5.98_REP1'</li><li>'ZT14.68_REP1'</li><li>'ZT9.47_REP1'</li><li>'ZT5.87_REP1'</li><li>'ZT15.3_REP1'</li><li>'ZT2.88_REP1'</li><li>'ZT4.85_REP1'</li><li>'ZT3.2_REP1'</li><li>'ZT5.48_REP1'</li><li>'ZT3.25_REP1'</li><li>'ZT0.93_REP1'</li></ol>\n"
      ],
      "text/latex": [
       "\\begin{enumerate*}\n",
       "\\item 'ZT11.15\\_REP1'\n",
       "\\item 'ZT12.03\\_REP1'\n",
       "\\item 'ZT8.62\\_REP1'\n",
       "\\item 'ZT2.17\\_REP1'\n",
       "\\item 'ZT9.52\\_REP1'\n",
       "\\item 'ZT8.57\\_REP1'\n",
       "\\item 'ZT22.98\\_REP1'\n",
       "\\item 'ZT21.95\\_REP1'\n",
       "\\item 'ZT3.32\\_REP1'\n",
       "\\item 'ZT3.52\\_REP1'\n",
       "\\item 'ZT1.17\\_REP1'\n",
       "\\item 'ZT4.65\\_REP1'\n",
       "\\item 'ZT19.28\\_REP1'\n",
       "\\item 'ZT22.32\\_REP1'\n",
       "\\item 'ZT6.32\\_REP1'\n",
       "\\item 'ZT7.18\\_REP1'\n",
       "\\item 'ZT4.85\\_REP1'\n",
       "\\item 'ZT3.55\\_REP1'\n",
       "\\item 'ZT22.95\\_REP1'\n",
       "\\item 'ZT8.55\\_REP1'\n",
       "\\item 'ZT11.17\\_REP1'\n",
       "\\item 'ZT5.58\\_REP1'\n",
       "\\item 'ZT5.98\\_REP1'\n",
       "\\item 'ZT14.68\\_REP1'\n",
       "\\item 'ZT9.47\\_REP1'\n",
       "\\item 'ZT5.87\\_REP1'\n",
       "\\item 'ZT15.3\\_REP1'\n",
       "\\item 'ZT2.88\\_REP1'\n",
       "\\item 'ZT4.85\\_REP1'\n",
       "\\item 'ZT3.2\\_REP1'\n",
       "\\item 'ZT5.48\\_REP1'\n",
       "\\item 'ZT3.25\\_REP1'\n",
       "\\item 'ZT0.93\\_REP1'\n",
       "\\end{enumerate*}\n"
      ],
      "text/markdown": [
       "1. 'ZT11.15_REP1'\n",
       "2. 'ZT12.03_REP1'\n",
       "3. 'ZT8.62_REP1'\n",
       "4. 'ZT2.17_REP1'\n",
       "5. 'ZT9.52_REP1'\n",
       "6. 'ZT8.57_REP1'\n",
       "7. 'ZT22.98_REP1'\n",
       "8. 'ZT21.95_REP1'\n",
       "9. 'ZT3.32_REP1'\n",
       "10. 'ZT3.52_REP1'\n",
       "11. 'ZT1.17_REP1'\n",
       "12. 'ZT4.65_REP1'\n",
       "13. 'ZT19.28_REP1'\n",
       "14. 'ZT22.32_REP1'\n",
       "15. 'ZT6.32_REP1'\n",
       "16. 'ZT7.18_REP1'\n",
       "17. 'ZT4.85_REP1'\n",
       "18. 'ZT3.55_REP1'\n",
       "19. 'ZT22.95_REP1'\n",
       "20. 'ZT8.55_REP1'\n",
       "21. 'ZT11.17_REP1'\n",
       "22. 'ZT5.58_REP1'\n",
       "23. 'ZT5.98_REP1'\n",
       "24. 'ZT14.68_REP1'\n",
       "25. 'ZT9.47_REP1'\n",
       "26. 'ZT5.87_REP1'\n",
       "27. 'ZT15.3_REP1'\n",
       "28. 'ZT2.88_REP1'\n",
       "29. 'ZT4.85_REP1'\n",
       "30. 'ZT3.2_REP1'\n",
       "31. 'ZT5.48_REP1'\n",
       "32. 'ZT3.25_REP1'\n",
       "33. 'ZT0.93_REP1'\n",
       "\n",
       "\n"
      ],
      "text/plain": [
       " [1] \"ZT11.15_REP1\" \"ZT12.03_REP1\" \"ZT8.62_REP1\"  \"ZT2.17_REP1\"  \"ZT9.52_REP1\" \n",
       " [6] \"ZT8.57_REP1\"  \"ZT22.98_REP1\" \"ZT21.95_REP1\" \"ZT3.32_REP1\"  \"ZT3.52_REP1\" \n",
       "[11] \"ZT1.17_REP1\"  \"ZT4.65_REP1\"  \"ZT19.28_REP1\" \"ZT22.32_REP1\" \"ZT6.32_REP1\" \n",
       "[16] \"ZT7.18_REP1\"  \"ZT4.85_REP1\"  \"ZT3.55_REP1\"  \"ZT22.95_REP1\" \"ZT8.55_REP1\" \n",
       "[21] \"ZT11.17_REP1\" \"ZT5.58_REP1\"  \"ZT5.98_REP1\"  \"ZT14.68_REP1\" \"ZT9.47_REP1\" \n",
       "[26] \"ZT5.87_REP1\"  \"ZT15.3_REP1\"  \"ZT2.88_REP1\"  \"ZT4.85_REP1\"  \"ZT3.2_REP1\"  \n",
       "[31] \"ZT5.48_REP1\"  \"ZT3.25_REP1\"  \"ZT0.93_REP1\" "
      ]
     },
     "metadata": {},
     "output_type": "display_data"
    }
   ],
   "source": [
    "control = exp5 %>%  dplyr::filter(TYPE == 'Control') %>% dplyr::select(TOD,NAT2:SCO2)  %>%  t() %>%  as.data.frame()\n",
    "table(exp5$TYPE)\n",
    "MD = exp5 %>%  dplyr::filter(TYPE != 'Control') %>% dplyr::select(TOD,NAT2:SCO2) %>%  t() %>%  as.data.frame()\n",
    "head(MD,2)\n",
    "colnames(control) = control[1,]\n",
    "control = control[-1,]\n",
    "colnames(control) = paste0('ZT',colnames(control),'_REP1')\n",
    "colnames(MD) = MD[1,]\n",
    "MD = MD[-1,]\n",
    "colnames(MD) = paste0('ZT',colnames(MD),'_REP1')\n",
    "colnames(MD)"
   ]
  },
  {
   "cell_type": "code",
   "execution_count": 36,
   "id": "7506fee5-ea10-4ae9-a42d-7f401ad8607d",
   "metadata": {},
   "outputs": [],
   "source": [
    "control$GroundTruth = 0\n",
    "MD$GroundTruth = 0\n",
    "write.csv(control,file = 'control.csv')\n",
    "write.csv(MD,file = 'MD.csv')"
   ]
  },
  {
   "cell_type": "code",
   "execution_count": 37,
   "id": "12b6139d-9d1e-4c28-b889-3eb35939ac76",
   "metadata": {},
   "outputs": [
    {
     "data": {
      "text/html": [
       "<table class=\"dataframe\">\n",
       "<caption>A data.frame: 11875 x 34</caption>\n",
       "<thead>\n",
       "\t<tr><th></th><th scope=col>ZT11.15_REP1</th><th scope=col>ZT12.03_REP1</th><th scope=col>ZT8.62_REP1</th><th scope=col>ZT2.17_REP1</th><th scope=col>ZT9.52_REP1</th><th scope=col>ZT8.57_REP1</th><th scope=col>ZT22.98_REP1</th><th scope=col>ZT21.95_REP1</th><th scope=col>ZT3.32_REP1</th><th scope=col>ZT3.52_REP1</th><th scope=col>...</th><th scope=col>ZT9.47_REP1</th><th scope=col>ZT5.87_REP1</th><th scope=col>ZT15.3_REP1</th><th scope=col>ZT2.88_REP1</th><th scope=col>ZT4.85_REP1</th><th scope=col>ZT3.2_REP1</th><th scope=col>ZT5.48_REP1</th><th scope=col>ZT3.25_REP1</th><th scope=col>ZT0.93_REP1</th><th scope=col>GroundTruth</th></tr>\n",
       "\t<tr><th></th><th scope=col>&lt;dbl&gt;</th><th scope=col>&lt;dbl&gt;</th><th scope=col>&lt;dbl&gt;</th><th scope=col>&lt;dbl&gt;</th><th scope=col>&lt;dbl&gt;</th><th scope=col>&lt;dbl&gt;</th><th scope=col>&lt;dbl&gt;</th><th scope=col>&lt;dbl&gt;</th><th scope=col>&lt;dbl&gt;</th><th scope=col>&lt;dbl&gt;</th><th scope=col>...</th><th scope=col>&lt;dbl&gt;</th><th scope=col>&lt;dbl&gt;</th><th scope=col>&lt;dbl&gt;</th><th scope=col>&lt;dbl&gt;</th><th scope=col>&lt;dbl&gt;</th><th scope=col>&lt;dbl&gt;</th><th scope=col>&lt;dbl&gt;</th><th scope=col>&lt;dbl&gt;</th><th scope=col>&lt;dbl&gt;</th><th scope=col>&lt;dbl&gt;</th></tr>\n",
       "</thead>\n",
       "<tbody>\n",
       "\t<tr><th scope=row>NAT2</th><td>-0.336661201</td><td>-0.000006820</td><td> 0.29716610</td><td> 0.202529836</td><td> 0.648322130</td><td> 0.31038309</td><td>-0.340001146</td><td>-0.174708560</td><td>-0.33447838</td><td> 0.245083404</td><td>...</td><td>-0.016850432</td><td>-0.43059571</td><td> 0.023169164</td><td> 0.003915999</td><td>-0.199685976</td><td>-0.05028903</td><td>-0.224721266</td><td> 0.251736429</td><td>-0.674549420</td><td>0</td></tr>\n",
       "\t<tr><th scope=row>ADA</th><td> 0.029589070</td><td>-0.020190992</td><td> 0.16804404</td><td>-0.185306192</td><td>-0.088336050</td><td> 0.04560916</td><td> 0.128605457</td><td>-0.114373347</td><td> 0.16575314</td><td> 0.101245810</td><td>...</td><td>-0.135248902</td><td>-0.20104390</td><td> 0.179335902</td><td>-0.177955977</td><td>-0.155667667</td><td>-0.10481710</td><td>-0.193399791</td><td>-0.090558456</td><td> 0.095351829</td><td>0</td></tr>\n",
       "\t<tr><th scope=row>CDH2</th><td> 0.228064131</td><td>-0.080117045</td><td> 0.12859519</td><td> 0.063235845</td><td>-0.161261317</td><td>-0.08542227</td><td>-0.126233049</td><td>-0.260203701</td><td> 0.05958564</td><td>-0.113089010</td><td>...</td><td> 0.039997676</td><td> 0.01702407</td><td>-0.228170399</td><td> 0.091374945</td><td>-0.042860329</td><td> 0.03610528</td><td> 0.040233686</td><td>-0.041418972</td><td>-0.131612329</td><td>0</td></tr>\n",
       "\t<tr><th scope=row>AKT3</th><td>-0.029335743</td><td>-0.258721684</td><td>-0.31401747</td><td> 0.066494124</td><td> 0.142178184</td><td>-0.25990703</td><td>-0.055308427</td><td>-0.072836490</td><td> 0.03063074</td><td> 0.142318244</td><td>...</td><td> 0.039189363</td><td>-0.07960431</td><td> 0.116198915</td><td> 0.125029812</td><td> 0.115472471</td><td> 0.02671653</td><td> 0.195896024</td><td> 0.181149604</td><td> 0.190400624</td><td>0</td></tr>\n",
       "\t<tr><th scope=row>MED6</th><td>-0.076642552</td><td>-0.404002792</td><td>-0.21687978</td><td> 0.239017715</td><td> 0.007261114</td><td> 0.04825818</td><td> 0.234895480</td><td> 0.083285227</td><td> 0.32796130</td><td> 0.115924556</td><td>...</td><td> 0.209398849</td><td>-0.11958912</td><td>-0.016602991</td><td> 0.026842828</td><td> 0.237286187</td><td>-0.25461862</td><td> 0.336311069</td><td> 0.055262079</td><td> 0.297834612</td><td>0</td></tr>\n",
       "\t<tr><th scope=row>NR2E3</th><td> 0.014584403</td><td>-0.012571960</td><td> 0.06393712</td><td>-0.002646747</td><td>-0.031236776</td><td>-0.10526517</td><td>-0.109650272</td><td>-0.090213516</td><td>-0.03048112</td><td>-0.106993174</td><td>...</td><td> 0.003077232</td><td> 0.14597541</td><td>-0.088359213</td><td> 0.017930110</td><td>-0.017928970</td><td>-0.05129297</td><td>-0.078981064</td><td>-0.037027131</td><td>-0.015886592</td><td>0</td></tr>\n",
       "\t<tr><th scope=row>NAALAD2</th><td>-0.075170430</td><td>-0.175834207</td><td>-0.02898025</td><td> 0.221089624</td><td> 0.189808918</td><td> 0.21820471</td><td> 0.044785969</td><td> 0.032388275</td><td>-0.07668206</td><td> 0.121139774</td><td>...</td><td> 0.163465470</td><td>-0.04960918</td><td>-0.063051869</td><td> 0.013072103</td><td> 0.094728343</td><td>-0.05145997</td><td> 0.072814324</td><td> 0.044106011</td><td>-0.021173883</td><td>0</td></tr>\n",
       "\t<tr><th scope=row>NAALADL1</th><td>-0.020285197</td><td> 0.005465468</td><td> 0.09131221</td><td> 0.200364575</td><td>-0.140620882</td><td> 0.07297548</td><td>-0.042047087</td><td> 0.001293730</td><td> 0.12347070</td><td>-0.085260540</td><td>...</td><td>-0.022046107</td><td> 0.13448726</td><td>-0.165626289</td><td>-0.094299996</td><td>-0.011542980</td><td>-0.01641036</td><td>-0.018615677</td><td>-0.052643787</td><td> 0.030754236</td><td>0</td></tr>\n",
       "\t<tr><th scope=row>CDKN2BAS</th><td> 0.008844262</td><td>-0.000006820</td><td>-0.05003856</td><td>-0.013816111</td><td> 0.132632345</td><td> 0.12641050</td><td>-0.187082678</td><td>-0.117557034</td><td>-0.21805034</td><td>-0.143099308</td><td>...</td><td> 0.060924908</td><td> 0.05504309</td><td>-0.107539348</td><td>-0.020102724</td><td>-0.434195029</td><td> 0.12426521</td><td>-0.010321187</td><td> 0.168210705</td><td>-0.086983975</td><td>0</td></tr>\n",
       "\t<tr><th scope=row>ACOT8</th><td>-0.173432524</td><td> 0.120074405</td><td> 0.14340807</td><td> 0.503297579</td><td>-0.001786439</td><td>-0.02583394</td><td> 0.260446709</td><td> 0.208648534</td><td> 0.16850526</td><td>-0.195176590</td><td>...</td><td>-0.010894382</td><td> 0.77771343</td><td>-0.011988190</td><td> 0.148133040</td><td> 0.376260596</td><td> 0.12996406</td><td> 0.656002686</td><td> 0.117493484</td><td> 0.005197521</td><td>0</td></tr>\n",
       "\t<tr><th scope=row>ABI1</th><td>-0.104797554</td><td>-0.255651304</td><td>-0.43946108</td><td>-0.032326259</td><td>-0.001786439</td><td> 0.48807594</td><td> 0.326357039</td><td>-0.646355570</td><td> 0.14796710</td><td>-0.051325902</td><td>...</td><td> 0.099935360</td><td>-0.03909348</td><td> 0.166008183</td><td>-0.209086687</td><td> 0.203455201</td><td>-0.24756454</td><td> 0.121482722</td><td>-0.130283028</td><td> 0.326461966</td><td>0</td></tr>\n",
       "\t<tr><th scope=row>GNPDA1</th><td>-0.015659616</td><td> 0.288036699</td><td>-0.01889899</td><td>-0.002646747</td><td>-0.022155194</td><td> 0.08862070</td><td>-0.071035480</td><td> 0.104012974</td><td>-0.06325309</td><td>-0.205945095</td><td>...</td><td> 0.107690236</td><td> 0.19619132</td><td> 0.272684025</td><td>-0.160728517</td><td> 0.133104046</td><td> 0.07851000</td><td>-0.061568566</td><td>-0.169709061</td><td> 0.162296563</td><td>0</td></tr>\n",
       "\t<tr><th scope=row>ZBTB33</th><td> 0.008746079</td><td>-0.071839420</td><td>-0.03325459</td><td> 0.040781487</td><td>-0.033907364</td><td>-0.01362549</td><td>-0.010261389</td><td> 0.011229227</td><td> 0.13436688</td><td> 0.084622533</td><td>...</td><td> 0.006016814</td><td>-0.09966719</td><td> 0.035581438</td><td> 0.011105489</td><td> 0.059643693</td><td> 0.14352866</td><td>-0.003086487</td><td> 0.045416988</td><td> 0.080881632</td><td>0</td></tr>\n",
       "\t<tr><th scope=row>CDH3</th><td> 0.129093245</td><td>-0.013057818</td><td> 0.34594988</td><td>-0.058337727</td><td> 0.347722042</td><td> 0.27847998</td><td> 0.013159993</td><td>-0.020437756</td><td> 0.14517802</td><td> 0.000681174</td><td>...</td><td>-0.033950229</td><td>-0.01062042</td><td>-0.005216197</td><td>-0.088797249</td><td>-0.007269109</td><td> 0.02079848</td><td>-0.033307695</td><td>-0.067047635</td><td>-0.105967251</td><td>0</td></tr>\n",
       "\t<tr><th scope=row>TANK</th><td>-0.285333900</td><td>-0.156373194</td><td>-0.09844781</td><td> 0.091837593</td><td> 0.053744921</td><td> 0.01999112</td><td> 0.068038977</td><td> 0.003065207</td><td>-0.01662890</td><td>-0.046055751</td><td>...</td><td>-0.035381946</td><td>-0.01354573</td><td> 0.220135294</td><td>-0.193499554</td><td> 0.066906361</td><td>-0.03227208</td><td> 0.015979213</td><td>-0.082387112</td><td> 0.258647735</td><td>0</td></tr>\n",
       "\t<tr><th scope=row>PRO0628</th><td> 0.039860672</td><td>-0.025771693</td><td>-0.04931916</td><td>-0.033844944</td><td> 0.034551101</td><td>-0.00856079</td><td> 0.079266008</td><td>-0.013703872</td><td> 0.07293333</td><td> 0.029724389</td><td>...</td><td>-0.061626421</td><td> 0.02135832</td><td> 0.051933245</td><td>-0.017668922</td><td> 0.061262788</td><td>-0.03503015</td><td>-0.011825378</td><td> 0.029936820</td><td> 0.005602634</td><td>0</td></tr>\n",
       "\t<tr><th scope=row>LOC100127972</th><td>-0.170351213</td><td> 0.032139869</td><td> 0.06669021</td><td>-0.232160825</td><td> 0.039647611</td><td> 0.18298473</td><td>-0.007540935</td><td> 0.057563924</td><td>-0.13352745</td><td> 0.169082918</td><td>...</td><td> 0.088943687</td><td>-0.20495659</td><td>-0.116685674</td><td>-0.023207039</td><td>-0.075283327</td><td> 0.13414709</td><td>-0.113167925</td><td> 0.048128805</td><td>-0.031305717</td><td>0</td></tr>\n",
       "\t<tr><th scope=row>V18</th><td> 0.395547605</td><td> 0.073361362</td><td>-0.00351039</td><td>-0.036258017</td><td>-0.557566128</td><td>-1.90642310</td><td>-0.304283168</td><td>-0.395256933</td><td> 0.54239176</td><td> 0.085935111</td><td>...</td><td> 0.167696996</td><td>-0.62343104</td><td>-0.451459233</td><td>-0.103309607</td><td>-0.277186060</td><td>-0.01763481</td><td>-0.131678177</td><td>-0.527229225</td><td>-0.003815452</td><td>0</td></tr>\n",
       "\t<tr><th scope=row>SLC2A3P1</th><td>-0.000985659</td><td>-0.006598982</td><td>-0.56244657</td><td>-0.249540004</td><td> 0.088437040</td><td>-0.05053974</td><td>-0.178491154</td><td> 0.123051079</td><td> 0.15760381</td><td> 0.172832995</td><td>...</td><td>-0.009548616</td><td>-0.25467659</td><td>-0.077806641</td><td> 0.123709123</td><td> 0.157395212</td><td>-0.03726581</td><td>-0.164746554</td><td>-0.291396307</td><td> 0.026749201</td><td>0</td></tr>\n",
       "\t<tr><th scope=row>LOC100128414</th><td> 0.005600719</td><td>-0.010134092</td><td> 0.01390585</td><td>-0.071761646</td><td> 0.094235671</td><td> 0.06502465</td><td>-0.082037578</td><td>-0.011186908</td><td>-0.01596831</td><td> 0.027541080</td><td>...</td><td> 0.010951660</td><td>-0.07927010</td><td> 0.015383687</td><td> 0.041082166</td><td> 0.019856054</td><td> 0.09437486</td><td> 0.049182544</td><td>-0.048698816</td><td> 0.030767162</td><td>0</td></tr>\n",
       "\t<tr><th scope=row>RP11-257K9.7</th><td> 0.130387915</td><td> 0.011140788</td><td>-0.13985067</td><td> 0.218534641</td><td>-0.082921977</td><td> 0.04882074</td><td>-0.025880455</td><td>-0.012093736</td><td>-0.06387111</td><td>-0.069390085</td><td>...</td><td>-0.038030650</td><td> 0.09868136</td><td> 0.036042175</td><td> 0.033979119</td><td> 0.152555733</td><td>-0.06600222</td><td>-0.063281128</td><td>-0.009369783</td><td>-0.000296293</td><td>0</td></tr>\n",
       "\t<tr><th scope=row>LOC100129250</th><td> 0.087857136</td><td> 0.039571291</td><td>-0.15250060</td><td> 0.266405229</td><td>-0.258721684</td><td>-0.29390024</td><td> 0.111211812</td><td> 0.113001709</td><td> 0.02169505</td><td> 0.163500723</td><td>...</td><td> 0.120095324</td><td> 0.13493138</td><td> 0.173613451</td><td> 0.024851156</td><td> 0.038532395</td><td> 0.10818719</td><td> 0.002448462</td><td> 0.033158505</td><td>-0.038139861</td><td>0</td></tr>\n",
       "\t<tr><th scope=row>C1orf68</th><td> 0.008602527</td><td>-0.024023806</td><td>-0.09526554</td><td> 0.009021620</td><td> 0.091460094</td><td>-0.16573603</td><td> 0.070906892</td><td> 0.039500655</td><td> 0.07868672</td><td>-0.222925243</td><td>...</td><td>-0.068683066</td><td> 0.17490343</td><td> 0.267844504</td><td>-0.007371626</td><td>-0.034066598</td><td>-0.08071469</td><td> 0.042475347</td><td> 0.140884903</td><td> 0.309878873</td><td>0</td></tr>\n",
       "\t<tr><th scope=row>LOC100129361</th><td> 0.120294008</td><td>-0.283180929</td><td>-0.26199463</td><td> 0.664293226</td><td> 0.066982396</td><td>-0.06583924</td><td> 0.075584147</td><td>-0.109795886</td><td>-0.53772661</td><td> 0.248575295</td><td>...</td><td> 0.126037735</td><td> 0.26796680</td><td> 0.047592325</td><td> 0.489070421</td><td> 0.299605563</td><td> 0.52676986</td><td> 0.787940924</td><td> 0.480063088</td><td>-0.244389075</td><td>0</td></tr>\n",
       "\t<tr><th scope=row>LOC100129410</th><td> 0.165526427</td><td>-0.057669638</td><td> 0.02875346</td><td> 0.019838262</td><td>-0.122630885</td><td>-0.09148448</td><td>-0.041094985</td><td>-0.123251912</td><td> 0.08030335</td><td>-0.033758781</td><td>...</td><td>-0.056591603</td><td> 0.09802666</td><td>-0.098799468</td><td> 0.029643644</td><td> 0.051235451</td><td>-0.02445258</td><td>-0.102122834</td><td>-0.027282522</td><td> 0.079043025</td><td>0</td></tr>\n",
       "\t<tr><th scope=row>ZNF37B</th><td>-0.084016331</td><td>-0.105572483</td><td> 0.54313716</td><td> 0.111397465</td><td> 0.042293679</td><td> 0.13646464</td><td>-0.068338414</td><td> 0.007620786</td><td>-0.15695339</td><td> 0.035352148</td><td>...</td><td> 0.051281427</td><td>-0.29124064</td><td> 0.099961237</td><td> 0.094568057</td><td>-0.095320655</td><td> 0.17141498</td><td>-0.110923171</td><td> 0.015167261</td><td>-0.224420247</td><td>0</td></tr>\n",
       "\t<tr><th scope=row>LOC100129500</th><td> 0.162277059</td><td> 0.029216063</td><td> 0.08757748</td><td>-0.106450475</td><td>-0.155018767</td><td>-0.01461800</td><td> 0.008768922</td><td>-0.011628367</td><td> 0.09398723</td><td> 0.143493418</td><td>...</td><td>-0.070241756</td><td> 0.02748909</td><td>-0.051415718</td><td>-0.063622136</td><td>-0.070831695</td><td>-0.02052332</td><td>-0.054635666</td><td>-0.190897111</td><td> 0.186597070</td><td>0</td></tr>\n",
       "\t<tr><th scope=row>LOC100129503</th><td> 0.417810905</td><td> 0.210679546</td><td>-0.01205986</td><td> 0.118033493</td><td>-0.078667495</td><td>-0.13821184</td><td>-0.424007332</td><td>-0.282826148</td><td> 0.32176391</td><td> 0.047800911</td><td>...</td><td> 0.045968809</td><td> 0.18480042</td><td> 0.042201192</td><td> 0.032294886</td><td>-0.327232797</td><td>-0.25821496</td><td>-0.168084974</td><td> 0.382265722</td><td> 0.115204863</td><td>0</td></tr>\n",
       "\t<tr><th scope=row>LOC100129656</th><td> 0.051231976</td><td> 0.073806632</td><td> 0.02795565</td><td> 0.141141369</td><td>-0.101565670</td><td>-0.06944450</td><td>-0.015610183</td><td>-0.007686671</td><td> 0.14184241</td><td> 0.041644857</td><td>...</td><td> 0.009322286</td><td> 0.04048749</td><td>-0.030923893</td><td>-0.086431104</td><td> 0.010176657</td><td>-0.01132492</td><td>-0.014338042</td><td>-0.035218986</td><td> 0.029460001</td><td>0</td></tr>\n",
       "\t<tr><th scope=row>LOC100129973</th><td>-0.057892848</td><td>-0.112421131</td><td> 0.05469913</td><td>-0.023728565</td><td>-0.083182427</td><td> 0.24829409</td><td> 0.044092644</td><td> 0.081394055</td><td>-0.20340627</td><td> 0.040836505</td><td>...</td><td> 0.178432585</td><td> 0.08943974</td><td> 0.087388012</td><td> 0.132807984</td><td> 0.028115887</td><td> 0.04630977</td><td> 0.050092576</td><td>-0.088757171</td><td> 0.015853398</td><td>0</td></tr>\n",
       "\t<tr><th scope=row>...</th><td>...</td><td>...</td><td>...</td><td>...</td><td>...</td><td>...</td><td>...</td><td>...</td><td>...</td><td>...</td><td></td><td>...</td><td>...</td><td>...</td><td>...</td><td>...</td><td>...</td><td>...</td><td>...</td><td>...</td><td>...</td></tr>\n",
       "\t<tr><th scope=row>MVP</th><td> 0.243808171</td><td> 0.25159847</td><td>-0.125905257</td><td>-0.187481186</td><td>-0.298003517</td><td>-0.292361017</td><td> 0.02381467</td><td> 0.097720809</td><td> 0.496872927</td><td>-0.192091321</td><td>...</td><td>-0.063595198</td><td> 0.175803909</td><td> 0.08222411</td><td>-0.11786494</td><td> 0.041890479</td><td>-0.07668098</td><td>-0.081117289</td><td>-0.531818982</td><td> 0.464885342</td><td>0</td></tr>\n",
       "\t<tr><th scope=row>SLC23A2</th><td>-0.038242070</td><td>-0.16222710</td><td>-0.034337214</td><td>-0.103484777</td><td>-0.001786439</td><td> 0.148721049</td><td> 0.02658301</td><td> 0.007821655</td><td>-0.098886763</td><td> 0.040213722</td><td>...</td><td>-0.033350724</td><td> 0.009292861</td><td>-0.18909761</td><td> 0.07895802</td><td> 0.033353614</td><td>-0.01370678</td><td> 0.035439029</td><td> 0.030830983</td><td> 0.005800146</td><td>0</td></tr>\n",
       "\t<tr><th scope=row>TNFSF15</th><td> 0.011887929</td><td>-0.03649007</td><td> 0.022401448</td><td>-0.002646747</td><td>-0.014409887</td><td>-0.036150976</td><td>-0.03350372</td><td>-0.116942488</td><td>-0.034662340</td><td>-0.054852681</td><td>...</td><td> 0.049289925</td><td> 0.092841424</td><td> 0.10764010</td><td> 0.01274046</td><td> 0.049068219</td><td>-0.01578771</td><td> 0.079964299</td><td>-0.017702497</td><td> 0.025066725</td><td>0</td></tr>\n",
       "\t<tr><th scope=row>THRAP3</th><td> 0.032247561</td><td>-0.18343027</td><td> 0.061184584</td><td>-0.002646747</td><td>-0.272122951</td><td>-0.031701731</td><td>-0.09969380</td><td> 0.024084457</td><td> 0.242159939</td><td> 0.071206613</td><td>...</td><td> 0.093177117</td><td>-0.025475240</td><td> 0.06006260</td><td> 0.11355503</td><td>-0.178048139</td><td>-0.07018434</td><td> 0.061300753</td><td> 0.217905889</td><td>-0.117843414</td><td>0</td></tr>\n",
       "\t<tr><th scope=row>MED12</th><td> 0.306195876</td><td> 0.16004312</td><td>-0.355702657</td><td>-0.002646747</td><td>-0.604406410</td><td>-0.473075528</td><td>-0.02432160</td><td> 0.211601901</td><td> 0.158852991</td><td>-0.218473277</td><td>...</td><td>-0.013900368</td><td>-0.189263946</td><td>-0.12071085</td><td>-0.10360573</td><td>-0.192415104</td><td>-0.12788047</td><td>-0.280801553</td><td>-0.267490469</td><td>-0.003327409</td><td>0</td></tr>\n",
       "\t<tr><th scope=row>MED13</th><td> 0.010569913</td><td> 0.26315037</td><td> 0.181319146</td><td>-0.233260038</td><td>-0.144381913</td><td>-0.113868763</td><td>-0.07789564</td><td> 0.046687587</td><td> 0.096444085</td><td>-0.061031399</td><td>...</td><td>-0.170932437</td><td>-0.327727955</td><td>-0.07782415</td><td>-0.09139562</td><td>-0.085838996</td><td>-0.01034540</td><td>-0.236322922</td><td>-0.254555254</td><td>-0.159352415</td><td>0</td></tr>\n",
       "\t<tr><th scope=row>CDC34</th><td> 0.228287376</td><td> 0.18911349</td><td> 0.068449882</td><td> 0.281413862</td><td>-0.001786439</td><td>-0.091674033</td><td> 0.09402806</td><td>-0.183507936</td><td> 0.051667497</td><td>-0.395111755</td><td>...</td><td>-0.156708715</td><td> 0.178826232</td><td> 0.25059941</td><td> 0.13467868</td><td>-0.226722123</td><td> 0.03848959</td><td> 0.314923804</td><td> 0.205347287</td><td> 0.039518319</td><td>0</td></tr>\n",
       "\t<tr><th scope=row>NR1I3</th><td>-0.126915856</td><td> 0.02141733</td><td>-0.078328864</td><td>-0.197343175</td><td> 0.063682187</td><td> 0.018894508</td><td>-0.02416119</td><td>-0.174675598</td><td>-0.196164861</td><td> 0.046037821</td><td>...</td><td>-0.042328905</td><td>-0.078622288</td><td>-0.15631123</td><td>-0.02361063</td><td> 0.114404072</td><td> 0.10204678</td><td>-0.038655946</td><td> 0.166131198</td><td> 0.143668669</td><td>0</td></tr>\n",
       "\t<tr><th scope=row>NR1H4</th><td>-0.250396868</td><td>-0.10404020</td><td>-0.072741550</td><td> 0.076115429</td><td> 0.186456401</td><td>-0.005259958</td><td> 0.04421771</td><td> 0.060362593</td><td>-0.143184648</td><td> 0.038463599</td><td>...</td><td>-0.106617324</td><td>-0.232524170</td><td> 0.06544066</td><td> 0.10302148</td><td>-0.021348330</td><td> 0.06990105</td><td> 0.007716391</td><td>-0.001831174</td><td>-0.105210101</td><td>0</td></tr>\n",
       "\t<tr><th scope=row>NUP153</th><td>-0.517386823</td><td>-0.04117710</td><td>-0.129003108</td><td>-0.401265897</td><td> 0.282517725</td><td> 0.322354584</td><td> 0.24978215</td><td> 0.317901453</td><td> 0.140629348</td><td>-0.212300233</td><td>...</td><td> 0.088303551</td><td>-0.200357188</td><td> 0.35641356</td><td>-0.18338484</td><td> 0.001640804</td><td>-0.29615530</td><td> 0.180843835</td><td> 0.066069923</td><td> 0.033282190</td><td>0</td></tr>\n",
       "\t<tr><th scope=row>CCS</th><td>-0.163240864</td><td> 0.39298382</td><td>-0.003510390</td><td> 0.300697467</td><td> 0.095510106</td><td>-0.173347867</td><td> 0.08721701</td><td>-0.271959462</td><td>-0.242462913</td><td>-0.064852351</td><td>...</td><td>-0.058075411</td><td> 0.287687881</td><td>-0.13493156</td><td>-0.19788507</td><td>-0.058233126</td><td> 0.03708175</td><td> 0.162249439</td><td> 0.257543098</td><td> 0.059326026</td><td>0</td></tr>\n",
       "\t<tr><th scope=row>NR1D2</th><td> 0.153069431</td><td>-0.41147852</td><td>-0.529912570</td><td> 0.690715315</td><td>-0.208927662</td><td> 0.335333818</td><td>-1.00832898</td><td>-0.422081544</td><td>-0.217000958</td><td> 0.453663176</td><td>...</td><td>-0.135418259</td><td>-0.107903101</td><td> 0.25836690</td><td>-0.62478716</td><td> 0.604064618</td><td> 0.22424863</td><td> 0.257155517</td><td> 0.747909853</td><td>-0.038295477</td><td>0</td></tr>\n",
       "\t<tr><th scope=row>CLEC2B</th><td>-0.764622494</td><td> 0.32544431</td><td> 0.124235912</td><td>-0.064102838</td><td> 0.129213180</td><td> 0.291325309</td><td> 0.05330237</td><td>-0.336847759</td><td>-0.191503798</td><td> 0.014844999</td><td>...</td><td>-0.065701673</td><td>-0.273442521</td><td>-0.03224221</td><td>-0.21024162</td><td>-0.237736582</td><td> 0.10893750</td><td>-0.431442804</td><td>-0.047871322</td><td> 0.406301092</td><td>0</td></tr>\n",
       "\t<tr><th scope=row>RBX1</th><td>-0.062828796</td><td>-0.04721246</td><td> 0.008381037</td><td> 0.341507651</td><td>-0.168358203</td><td> 0.064521567</td><td> 0.10622525</td><td>-0.215363052</td><td>-0.018658822</td><td>-0.111698302</td><td>...</td><td>-0.068506612</td><td> 0.218094362</td><td>-0.04435485</td><td> 0.03903733</td><td> 0.145310088</td><td> 0.23368816</td><td> 0.277548085</td><td> 0.071083158</td><td> 0.159745429</td><td>0</td></tr>\n",
       "\t<tr><th scope=row>CDC42</th><td>-0.120088099</td><td>-0.34740004</td><td>-0.003510390</td><td> 0.286585921</td><td> 0.195170459</td><td> 0.102745512</td><td> 0.25594755</td><td>-0.072468577</td><td>-0.126019538</td><td> 0.105912842</td><td>...</td><td> 0.146268074</td><td> 0.445223157</td><td> 0.14019661</td><td> 0.02032838</td><td> 0.336847937</td><td> 0.13131173</td><td> 0.513747134</td><td> 0.585701286</td><td> 0.236108981</td><td>0</td></tr>\n",
       "\t<tr><th scope=row>DOPEY2</th><td> 0.307722981</td><td>-0.24871558</td><td> 0.036772603</td><td> 0.032074187</td><td>-0.031102899</td><td> 0.217021288</td><td> 0.10953847</td><td>-0.013365901</td><td>-0.030647347</td><td> 0.008642487</td><td>...</td><td> 0.250437153</td><td> 0.211278723</td><td>-0.13032007</td><td> 0.20308687</td><td> 0.128083839</td><td>-0.18741841</td><td> 0.267248587</td><td> 0.127572449</td><td>-0.070850840</td><td>0</td></tr>\n",
       "\t<tr><th scope=row>FGFBP1</th><td> 0.075032014</td><td>-0.14292989</td><td>-0.074255062</td><td>-0.082394660</td><td> 0.228064131</td><td> 0.104667906</td><td>-0.02174294</td><td>-0.066405926</td><td> 0.043320733</td><td>-0.089307905</td><td>...</td><td> 0.089760545</td><td>-0.158854994</td><td>-0.03442972</td><td>-0.03311152</td><td>-0.092423579</td><td> 0.24940898</td><td>-0.096369337</td><td> 0.165640331</td><td>-0.038875667</td><td>0</td></tr>\n",
       "\t<tr><th scope=row>THOC1</th><td>-0.211286208</td><td> 0.04149936</td><td> 0.223805317</td><td>-0.241500596</td><td>-0.011745843</td><td> 0.087711423</td><td> 0.08917294</td><td> 0.029042456</td><td>-0.025541977</td><td>-0.095884862</td><td>...</td><td>-0.035524523</td><td>-0.218398404</td><td>-0.13538939</td><td>-0.08489135</td><td> 0.164897071</td><td> 0.28899817</td><td> 0.084861040</td><td>-0.238854143</td><td>-0.056443398</td><td>0</td></tr>\n",
       "\t<tr><th scope=row>REC8</th><td> 0.120584830</td><td> 0.22719519</td><td> 0.003494329</td><td> 0.212192156</td><td> 0.058391554</td><td>-0.022314283</td><td> 0.01355748</td><td> 0.180197952</td><td> 0.202627682</td><td>-0.148185967</td><td>...</td><td>-0.017672344</td><td> 0.116545126</td><td> 0.17598154</td><td> 0.11371173</td><td>-0.065925135</td><td> 0.13063082</td><td>-0.203350188</td><td> 0.018120041</td><td>-0.023476441</td><td>0</td></tr>\n",
       "\t<tr><th scope=row>RCE1</th><td> 0.608361663</td><td>-0.32748134</td><td> 0.220233556</td><td> 0.260759170</td><td>-0.616263218</td><td>-0.526694853</td><td>-0.40937387</td><td>-0.027406741</td><td> 0.555880660</td><td> 0.104288786</td><td>...</td><td> 0.001743001</td><td>-0.286214455</td><td>-0.17832775</td><td> 0.11845004</td><td>-0.402398305</td><td>-0.21732347</td><td>-0.102603220</td><td>-0.095461975</td><td>-0.174129567</td><td>0</td></tr>\n",
       "\t<tr><th scope=row>HNRPDL</th><td> 0.336891457</td><td>-0.06352610</td><td>-0.066473393</td><td>-0.064360553</td><td>-0.118638214</td><td> 0.000242630</td><td> 0.34685710</td><td>-0.015205016</td><td> 0.405501178</td><td> 0.064567195</td><td>...</td><td> 0.171205898</td><td>-0.082528762</td><td> 0.22527927</td><td>-0.16929494</td><td> 0.166615360</td><td>-0.05770758</td><td> 0.065721277</td><td>-0.071772621</td><td> 0.154387593</td><td>0</td></tr>\n",
       "\t<tr><th scope=row>DMTF1</th><td>-0.394304968</td><td>-0.27344252</td><td>-0.011036799</td><td>-0.096111479</td><td> 0.234185313</td><td>-0.066510942</td><td>-0.28032548</td><td>-0.105642248</td><td>-0.000433533</td><td> 0.048886455</td><td>...</td><td> 0.004230532</td><td>-0.195498257</td><td>-0.07126127</td><td> 0.19975011</td><td>-0.105800269</td><td> 0.03701898</td><td>-0.079788035</td><td>-0.379251105</td><td>-0.297818316</td><td>0</td></tr>\n",
       "\t<tr><th scope=row>PPP4R1</th><td>-0.073474157</td><td> 0.15213735</td><td> 0.065569318</td><td>-0.121358985</td><td>-0.001786439</td><td> 0.086636361</td><td> 0.05510450</td><td> 0.017470775</td><td>-0.265261254</td><td>-0.103767791</td><td>...</td><td>-0.090058863</td><td>-0.010958309</td><td>-0.05867390</td><td>-0.15185043</td><td> 0.107693867</td><td>-0.07707405</td><td>-0.100795217</td><td>-0.074810071</td><td> 0.063512965</td><td>0</td></tr>\n",
       "\t<tr><th scope=row>CDH1</th><td> 0.050434936</td><td>-0.03510745</td><td>-0.042846587</td><td> 0.010276018</td><td>-0.052580353</td><td>-0.046825501</td><td> 0.06393300</td><td> 0.052727423</td><td>-0.051348381</td><td> 0.002506481</td><td>...</td><td>-0.051846161</td><td>-0.029401622</td><td>-0.02975864</td><td>-0.14922990</td><td> 0.007571789</td><td> 0.01244169</td><td>-0.099071650</td><td>-0.057222791</td><td> 0.031847183</td><td>0</td></tr>\n",
       "\t<tr><th scope=row>SLC12A6</th><td>-0.258721684</td><td>-0.00000682</td><td>-0.018992078</td><td>-0.041353675</td><td> 0.388604238</td><td> 0.278794371</td><td>-0.16664448</td><td>-0.024909752</td><td>-0.040206704</td><td> 0.254717218</td><td>...</td><td> 0.021242588</td><td>-0.082747212</td><td>-0.07958158</td><td> 0.15236183</td><td> 0.035210235</td><td> 0.09741152</td><td> 0.026151797</td><td> 0.041835136</td><td>-0.219023444</td><td>0</td></tr>\n",
       "\t<tr><th scope=row>ROD1</th><td> 0.009266274</td><td>-0.08759944</td><td>-0.017994166</td><td> 0.029116575</td><td> 0.003912351</td><td> 0.034515133</td><td>-0.03797903</td><td> 0.001764217</td><td> 0.037262822</td><td> 0.129707923</td><td>...</td><td> 0.023088073</td><td>-0.066239346</td><td> 0.05982607</td><td>-0.02189713</td><td> 0.035057504</td><td> 0.05617818</td><td>-0.041422824</td><td>-0.018364623</td><td> 0.018456913</td><td>0</td></tr>\n",
       "\t<tr><th scope=row>KCNE2</th><td>-0.050108736</td><td> 0.01850432</td><td>-0.139644319</td><td>-0.002646747</td><td> 0.058984669</td><td>-0.029732600</td><td>-0.15887313</td><td>-0.051619574</td><td> 0.018179145</td><td>-0.005063562</td><td>...</td><td> 0.085002686</td><td>-0.002432377</td><td>-0.21213681</td><td> 0.29162804</td><td>-0.168164083</td><td>-0.03406206</td><td>-0.043667821</td><td>-0.039348914</td><td>-0.118971407</td><td>0</td></tr>\n",
       "\t<tr><th scope=row>DGCR2</th><td>-0.040649570</td><td>-0.01856940</td><td>-0.079604307</td><td> 0.152928112</td><td>-0.276000714</td><td>-0.237058589</td><td> 0.16978139</td><td>-0.406325061</td><td>-0.056433146</td><td>-0.111844384</td><td>...</td><td>-0.049757497</td><td> 0.147826079</td><td> 0.07688084</td><td> 0.10345390</td><td>-0.228235465</td><td>-0.07522649</td><td> 0.217150957</td><td>-0.125691864</td><td> 0.041147842</td><td>0</td></tr>\n",
       "\t<tr><th scope=row>CASP8AP2</th><td>-0.163082084</td><td>-0.28095676</td><td>-0.423591745</td><td> 0.327321065</td><td>-0.074879670</td><td> 0.423624839</td><td> 0.19340182</td><td> 0.187802267</td><td>-0.000433533</td><td>-0.183060467</td><td>...</td><td> 0.109451487</td><td>-0.384379353</td><td>-0.05195424</td><td> 0.09415286</td><td>-0.001115140</td><td> 0.01688473</td><td>-0.041097881</td><td>-0.047595524</td><td>-0.164508492</td><td>0</td></tr>\n",
       "\t<tr><th scope=row>SCO2</th><td> 0.105920149</td><td> 0.03739796</td><td>-0.013930169</td><td> 0.462725849</td><td> 0.017261849</td><td> 0.077121525</td><td> 0.21546757</td><td> 0.100717095</td><td>-0.077430688</td><td>-0.163432971</td><td>...</td><td> 0.081707025</td><td> 0.407284665</td><td> 0.12978265</td><td> 0.05689334</td><td> 0.171073625</td><td> 0.21944801</td><td> 0.176078701</td><td>-0.018902780</td><td>-0.049030651</td><td>0</td></tr>\n",
       "</tbody>\n",
       "</table>\n"
      ],
      "text/latex": [
       "A data.frame: 11875 x 34\n",
       "\\begin{tabular}{r|lllllllllllllllllllll}\n",
       "  & ZT11.15\\_REP1 & ZT12.03\\_REP1 & ZT8.62\\_REP1 & ZT2.17\\_REP1 & ZT9.52\\_REP1 & ZT8.57\\_REP1 & ZT22.98\\_REP1 & ZT21.95\\_REP1 & ZT3.32\\_REP1 & ZT3.52\\_REP1 & ... & ZT9.47\\_REP1 & ZT5.87\\_REP1 & ZT15.3\\_REP1 & ZT2.88\\_REP1 & ZT4.85\\_REP1 & ZT3.2\\_REP1 & ZT5.48\\_REP1 & ZT3.25\\_REP1 & ZT0.93\\_REP1 & GroundTruth\\\\\n",
       "  & <dbl> & <dbl> & <dbl> & <dbl> & <dbl> & <dbl> & <dbl> & <dbl> & <dbl> & <dbl> & ... & <dbl> & <dbl> & <dbl> & <dbl> & <dbl> & <dbl> & <dbl> & <dbl> & <dbl> & <dbl>\\\\\n",
       "\\hline\n",
       "\tNAT2 & -0.336661201 & -0.000006820 &  0.29716610 &  0.202529836 &  0.648322130 &  0.31038309 & -0.340001146 & -0.174708560 & -0.33447838 &  0.245083404 & ... & -0.016850432 & -0.43059571 &  0.023169164 &  0.003915999 & -0.199685976 & -0.05028903 & -0.224721266 &  0.251736429 & -0.674549420 & 0\\\\\n",
       "\tADA &  0.029589070 & -0.020190992 &  0.16804404 & -0.185306192 & -0.088336050 &  0.04560916 &  0.128605457 & -0.114373347 &  0.16575314 &  0.101245810 & ... & -0.135248902 & -0.20104390 &  0.179335902 & -0.177955977 & -0.155667667 & -0.10481710 & -0.193399791 & -0.090558456 &  0.095351829 & 0\\\\\n",
       "\tCDH2 &  0.228064131 & -0.080117045 &  0.12859519 &  0.063235845 & -0.161261317 & -0.08542227 & -0.126233049 & -0.260203701 &  0.05958564 & -0.113089010 & ... &  0.039997676 &  0.01702407 & -0.228170399 &  0.091374945 & -0.042860329 &  0.03610528 &  0.040233686 & -0.041418972 & -0.131612329 & 0\\\\\n",
       "\tAKT3 & -0.029335743 & -0.258721684 & -0.31401747 &  0.066494124 &  0.142178184 & -0.25990703 & -0.055308427 & -0.072836490 &  0.03063074 &  0.142318244 & ... &  0.039189363 & -0.07960431 &  0.116198915 &  0.125029812 &  0.115472471 &  0.02671653 &  0.195896024 &  0.181149604 &  0.190400624 & 0\\\\\n",
       "\tMED6 & -0.076642552 & -0.404002792 & -0.21687978 &  0.239017715 &  0.007261114 &  0.04825818 &  0.234895480 &  0.083285227 &  0.32796130 &  0.115924556 & ... &  0.209398849 & -0.11958912 & -0.016602991 &  0.026842828 &  0.237286187 & -0.25461862 &  0.336311069 &  0.055262079 &  0.297834612 & 0\\\\\n",
       "\tNR2E3 &  0.014584403 & -0.012571960 &  0.06393712 & -0.002646747 & -0.031236776 & -0.10526517 & -0.109650272 & -0.090213516 & -0.03048112 & -0.106993174 & ... &  0.003077232 &  0.14597541 & -0.088359213 &  0.017930110 & -0.017928970 & -0.05129297 & -0.078981064 & -0.037027131 & -0.015886592 & 0\\\\\n",
       "\tNAALAD2 & -0.075170430 & -0.175834207 & -0.02898025 &  0.221089624 &  0.189808918 &  0.21820471 &  0.044785969 &  0.032388275 & -0.07668206 &  0.121139774 & ... &  0.163465470 & -0.04960918 & -0.063051869 &  0.013072103 &  0.094728343 & -0.05145997 &  0.072814324 &  0.044106011 & -0.021173883 & 0\\\\\n",
       "\tNAALADL1 & -0.020285197 &  0.005465468 &  0.09131221 &  0.200364575 & -0.140620882 &  0.07297548 & -0.042047087 &  0.001293730 &  0.12347070 & -0.085260540 & ... & -0.022046107 &  0.13448726 & -0.165626289 & -0.094299996 & -0.011542980 & -0.01641036 & -0.018615677 & -0.052643787 &  0.030754236 & 0\\\\\n",
       "\tCDKN2BAS &  0.008844262 & -0.000006820 & -0.05003856 & -0.013816111 &  0.132632345 &  0.12641050 & -0.187082678 & -0.117557034 & -0.21805034 & -0.143099308 & ... &  0.060924908 &  0.05504309 & -0.107539348 & -0.020102724 & -0.434195029 &  0.12426521 & -0.010321187 &  0.168210705 & -0.086983975 & 0\\\\\n",
       "\tACOT8 & -0.173432524 &  0.120074405 &  0.14340807 &  0.503297579 & -0.001786439 & -0.02583394 &  0.260446709 &  0.208648534 &  0.16850526 & -0.195176590 & ... & -0.010894382 &  0.77771343 & -0.011988190 &  0.148133040 &  0.376260596 &  0.12996406 &  0.656002686 &  0.117493484 &  0.005197521 & 0\\\\\n",
       "\tABI1 & -0.104797554 & -0.255651304 & -0.43946108 & -0.032326259 & -0.001786439 &  0.48807594 &  0.326357039 & -0.646355570 &  0.14796710 & -0.051325902 & ... &  0.099935360 & -0.03909348 &  0.166008183 & -0.209086687 &  0.203455201 & -0.24756454 &  0.121482722 & -0.130283028 &  0.326461966 & 0\\\\\n",
       "\tGNPDA1 & -0.015659616 &  0.288036699 & -0.01889899 & -0.002646747 & -0.022155194 &  0.08862070 & -0.071035480 &  0.104012974 & -0.06325309 & -0.205945095 & ... &  0.107690236 &  0.19619132 &  0.272684025 & -0.160728517 &  0.133104046 &  0.07851000 & -0.061568566 & -0.169709061 &  0.162296563 & 0\\\\\n",
       "\tZBTB33 &  0.008746079 & -0.071839420 & -0.03325459 &  0.040781487 & -0.033907364 & -0.01362549 & -0.010261389 &  0.011229227 &  0.13436688 &  0.084622533 & ... &  0.006016814 & -0.09966719 &  0.035581438 &  0.011105489 &  0.059643693 &  0.14352866 & -0.003086487 &  0.045416988 &  0.080881632 & 0\\\\\n",
       "\tCDH3 &  0.129093245 & -0.013057818 &  0.34594988 & -0.058337727 &  0.347722042 &  0.27847998 &  0.013159993 & -0.020437756 &  0.14517802 &  0.000681174 & ... & -0.033950229 & -0.01062042 & -0.005216197 & -0.088797249 & -0.007269109 &  0.02079848 & -0.033307695 & -0.067047635 & -0.105967251 & 0\\\\\n",
       "\tTANK & -0.285333900 & -0.156373194 & -0.09844781 &  0.091837593 &  0.053744921 &  0.01999112 &  0.068038977 &  0.003065207 & -0.01662890 & -0.046055751 & ... & -0.035381946 & -0.01354573 &  0.220135294 & -0.193499554 &  0.066906361 & -0.03227208 &  0.015979213 & -0.082387112 &  0.258647735 & 0\\\\\n",
       "\tPRO0628 &  0.039860672 & -0.025771693 & -0.04931916 & -0.033844944 &  0.034551101 & -0.00856079 &  0.079266008 & -0.013703872 &  0.07293333 &  0.029724389 & ... & -0.061626421 &  0.02135832 &  0.051933245 & -0.017668922 &  0.061262788 & -0.03503015 & -0.011825378 &  0.029936820 &  0.005602634 & 0\\\\\n",
       "\tLOC100127972 & -0.170351213 &  0.032139869 &  0.06669021 & -0.232160825 &  0.039647611 &  0.18298473 & -0.007540935 &  0.057563924 & -0.13352745 &  0.169082918 & ... &  0.088943687 & -0.20495659 & -0.116685674 & -0.023207039 & -0.075283327 &  0.13414709 & -0.113167925 &  0.048128805 & -0.031305717 & 0\\\\\n",
       "\tV18 &  0.395547605 &  0.073361362 & -0.00351039 & -0.036258017 & -0.557566128 & -1.90642310 & -0.304283168 & -0.395256933 &  0.54239176 &  0.085935111 & ... &  0.167696996 & -0.62343104 & -0.451459233 & -0.103309607 & -0.277186060 & -0.01763481 & -0.131678177 & -0.527229225 & -0.003815452 & 0\\\\\n",
       "\tSLC2A3P1 & -0.000985659 & -0.006598982 & -0.56244657 & -0.249540004 &  0.088437040 & -0.05053974 & -0.178491154 &  0.123051079 &  0.15760381 &  0.172832995 & ... & -0.009548616 & -0.25467659 & -0.077806641 &  0.123709123 &  0.157395212 & -0.03726581 & -0.164746554 & -0.291396307 &  0.026749201 & 0\\\\\n",
       "\tLOC100128414 &  0.005600719 & -0.010134092 &  0.01390585 & -0.071761646 &  0.094235671 &  0.06502465 & -0.082037578 & -0.011186908 & -0.01596831 &  0.027541080 & ... &  0.010951660 & -0.07927010 &  0.015383687 &  0.041082166 &  0.019856054 &  0.09437486 &  0.049182544 & -0.048698816 &  0.030767162 & 0\\\\\n",
       "\tRP11-257K9.7 &  0.130387915 &  0.011140788 & -0.13985067 &  0.218534641 & -0.082921977 &  0.04882074 & -0.025880455 & -0.012093736 & -0.06387111 & -0.069390085 & ... & -0.038030650 &  0.09868136 &  0.036042175 &  0.033979119 &  0.152555733 & -0.06600222 & -0.063281128 & -0.009369783 & -0.000296293 & 0\\\\\n",
       "\tLOC100129250 &  0.087857136 &  0.039571291 & -0.15250060 &  0.266405229 & -0.258721684 & -0.29390024 &  0.111211812 &  0.113001709 &  0.02169505 &  0.163500723 & ... &  0.120095324 &  0.13493138 &  0.173613451 &  0.024851156 &  0.038532395 &  0.10818719 &  0.002448462 &  0.033158505 & -0.038139861 & 0\\\\\n",
       "\tC1orf68 &  0.008602527 & -0.024023806 & -0.09526554 &  0.009021620 &  0.091460094 & -0.16573603 &  0.070906892 &  0.039500655 &  0.07868672 & -0.222925243 & ... & -0.068683066 &  0.17490343 &  0.267844504 & -0.007371626 & -0.034066598 & -0.08071469 &  0.042475347 &  0.140884903 &  0.309878873 & 0\\\\\n",
       "\tLOC100129361 &  0.120294008 & -0.283180929 & -0.26199463 &  0.664293226 &  0.066982396 & -0.06583924 &  0.075584147 & -0.109795886 & -0.53772661 &  0.248575295 & ... &  0.126037735 &  0.26796680 &  0.047592325 &  0.489070421 &  0.299605563 &  0.52676986 &  0.787940924 &  0.480063088 & -0.244389075 & 0\\\\\n",
       "\tLOC100129410 &  0.165526427 & -0.057669638 &  0.02875346 &  0.019838262 & -0.122630885 & -0.09148448 & -0.041094985 & -0.123251912 &  0.08030335 & -0.033758781 & ... & -0.056591603 &  0.09802666 & -0.098799468 &  0.029643644 &  0.051235451 & -0.02445258 & -0.102122834 & -0.027282522 &  0.079043025 & 0\\\\\n",
       "\tZNF37B & -0.084016331 & -0.105572483 &  0.54313716 &  0.111397465 &  0.042293679 &  0.13646464 & -0.068338414 &  0.007620786 & -0.15695339 &  0.035352148 & ... &  0.051281427 & -0.29124064 &  0.099961237 &  0.094568057 & -0.095320655 &  0.17141498 & -0.110923171 &  0.015167261 & -0.224420247 & 0\\\\\n",
       "\tLOC100129500 &  0.162277059 &  0.029216063 &  0.08757748 & -0.106450475 & -0.155018767 & -0.01461800 &  0.008768922 & -0.011628367 &  0.09398723 &  0.143493418 & ... & -0.070241756 &  0.02748909 & -0.051415718 & -0.063622136 & -0.070831695 & -0.02052332 & -0.054635666 & -0.190897111 &  0.186597070 & 0\\\\\n",
       "\tLOC100129503 &  0.417810905 &  0.210679546 & -0.01205986 &  0.118033493 & -0.078667495 & -0.13821184 & -0.424007332 & -0.282826148 &  0.32176391 &  0.047800911 & ... &  0.045968809 &  0.18480042 &  0.042201192 &  0.032294886 & -0.327232797 & -0.25821496 & -0.168084974 &  0.382265722 &  0.115204863 & 0\\\\\n",
       "\tLOC100129656 &  0.051231976 &  0.073806632 &  0.02795565 &  0.141141369 & -0.101565670 & -0.06944450 & -0.015610183 & -0.007686671 &  0.14184241 &  0.041644857 & ... &  0.009322286 &  0.04048749 & -0.030923893 & -0.086431104 &  0.010176657 & -0.01132492 & -0.014338042 & -0.035218986 &  0.029460001 & 0\\\\\n",
       "\tLOC100129973 & -0.057892848 & -0.112421131 &  0.05469913 & -0.023728565 & -0.083182427 &  0.24829409 &  0.044092644 &  0.081394055 & -0.20340627 &  0.040836505 & ... &  0.178432585 &  0.08943974 &  0.087388012 &  0.132807984 &  0.028115887 &  0.04630977 &  0.050092576 & -0.088757171 &  0.015853398 & 0\\\\\n",
       "\t... & ... & ... & ... & ... & ... & ... & ... & ... & ... & ... &  & ... & ... & ... & ... & ... & ... & ... & ... & ... & ...\\\\\n",
       "\tMVP &  0.243808171 &  0.25159847 & -0.125905257 & -0.187481186 & -0.298003517 & -0.292361017 &  0.02381467 &  0.097720809 &  0.496872927 & -0.192091321 & ... & -0.063595198 &  0.175803909 &  0.08222411 & -0.11786494 &  0.041890479 & -0.07668098 & -0.081117289 & -0.531818982 &  0.464885342 & 0\\\\\n",
       "\tSLC23A2 & -0.038242070 & -0.16222710 & -0.034337214 & -0.103484777 & -0.001786439 &  0.148721049 &  0.02658301 &  0.007821655 & -0.098886763 &  0.040213722 & ... & -0.033350724 &  0.009292861 & -0.18909761 &  0.07895802 &  0.033353614 & -0.01370678 &  0.035439029 &  0.030830983 &  0.005800146 & 0\\\\\n",
       "\tTNFSF15 &  0.011887929 & -0.03649007 &  0.022401448 & -0.002646747 & -0.014409887 & -0.036150976 & -0.03350372 & -0.116942488 & -0.034662340 & -0.054852681 & ... &  0.049289925 &  0.092841424 &  0.10764010 &  0.01274046 &  0.049068219 & -0.01578771 &  0.079964299 & -0.017702497 &  0.025066725 & 0\\\\\n",
       "\tTHRAP3 &  0.032247561 & -0.18343027 &  0.061184584 & -0.002646747 & -0.272122951 & -0.031701731 & -0.09969380 &  0.024084457 &  0.242159939 &  0.071206613 & ... &  0.093177117 & -0.025475240 &  0.06006260 &  0.11355503 & -0.178048139 & -0.07018434 &  0.061300753 &  0.217905889 & -0.117843414 & 0\\\\\n",
       "\tMED12 &  0.306195876 &  0.16004312 & -0.355702657 & -0.002646747 & -0.604406410 & -0.473075528 & -0.02432160 &  0.211601901 &  0.158852991 & -0.218473277 & ... & -0.013900368 & -0.189263946 & -0.12071085 & -0.10360573 & -0.192415104 & -0.12788047 & -0.280801553 & -0.267490469 & -0.003327409 & 0\\\\\n",
       "\tMED13 &  0.010569913 &  0.26315037 &  0.181319146 & -0.233260038 & -0.144381913 & -0.113868763 & -0.07789564 &  0.046687587 &  0.096444085 & -0.061031399 & ... & -0.170932437 & -0.327727955 & -0.07782415 & -0.09139562 & -0.085838996 & -0.01034540 & -0.236322922 & -0.254555254 & -0.159352415 & 0\\\\\n",
       "\tCDC34 &  0.228287376 &  0.18911349 &  0.068449882 &  0.281413862 & -0.001786439 & -0.091674033 &  0.09402806 & -0.183507936 &  0.051667497 & -0.395111755 & ... & -0.156708715 &  0.178826232 &  0.25059941 &  0.13467868 & -0.226722123 &  0.03848959 &  0.314923804 &  0.205347287 &  0.039518319 & 0\\\\\n",
       "\tNR1I3 & -0.126915856 &  0.02141733 & -0.078328864 & -0.197343175 &  0.063682187 &  0.018894508 & -0.02416119 & -0.174675598 & -0.196164861 &  0.046037821 & ... & -0.042328905 & -0.078622288 & -0.15631123 & -0.02361063 &  0.114404072 &  0.10204678 & -0.038655946 &  0.166131198 &  0.143668669 & 0\\\\\n",
       "\tNR1H4 & -0.250396868 & -0.10404020 & -0.072741550 &  0.076115429 &  0.186456401 & -0.005259958 &  0.04421771 &  0.060362593 & -0.143184648 &  0.038463599 & ... & -0.106617324 & -0.232524170 &  0.06544066 &  0.10302148 & -0.021348330 &  0.06990105 &  0.007716391 & -0.001831174 & -0.105210101 & 0\\\\\n",
       "\tNUP153 & -0.517386823 & -0.04117710 & -0.129003108 & -0.401265897 &  0.282517725 &  0.322354584 &  0.24978215 &  0.317901453 &  0.140629348 & -0.212300233 & ... &  0.088303551 & -0.200357188 &  0.35641356 & -0.18338484 &  0.001640804 & -0.29615530 &  0.180843835 &  0.066069923 &  0.033282190 & 0\\\\\n",
       "\tCCS & -0.163240864 &  0.39298382 & -0.003510390 &  0.300697467 &  0.095510106 & -0.173347867 &  0.08721701 & -0.271959462 & -0.242462913 & -0.064852351 & ... & -0.058075411 &  0.287687881 & -0.13493156 & -0.19788507 & -0.058233126 &  0.03708175 &  0.162249439 &  0.257543098 &  0.059326026 & 0\\\\\n",
       "\tNR1D2 &  0.153069431 & -0.41147852 & -0.529912570 &  0.690715315 & -0.208927662 &  0.335333818 & -1.00832898 & -0.422081544 & -0.217000958 &  0.453663176 & ... & -0.135418259 & -0.107903101 &  0.25836690 & -0.62478716 &  0.604064618 &  0.22424863 &  0.257155517 &  0.747909853 & -0.038295477 & 0\\\\\n",
       "\tCLEC2B & -0.764622494 &  0.32544431 &  0.124235912 & -0.064102838 &  0.129213180 &  0.291325309 &  0.05330237 & -0.336847759 & -0.191503798 &  0.014844999 & ... & -0.065701673 & -0.273442521 & -0.03224221 & -0.21024162 & -0.237736582 &  0.10893750 & -0.431442804 & -0.047871322 &  0.406301092 & 0\\\\\n",
       "\tRBX1 & -0.062828796 & -0.04721246 &  0.008381037 &  0.341507651 & -0.168358203 &  0.064521567 &  0.10622525 & -0.215363052 & -0.018658822 & -0.111698302 & ... & -0.068506612 &  0.218094362 & -0.04435485 &  0.03903733 &  0.145310088 &  0.23368816 &  0.277548085 &  0.071083158 &  0.159745429 & 0\\\\\n",
       "\tCDC42 & -0.120088099 & -0.34740004 & -0.003510390 &  0.286585921 &  0.195170459 &  0.102745512 &  0.25594755 & -0.072468577 & -0.126019538 &  0.105912842 & ... &  0.146268074 &  0.445223157 &  0.14019661 &  0.02032838 &  0.336847937 &  0.13131173 &  0.513747134 &  0.585701286 &  0.236108981 & 0\\\\\n",
       "\tDOPEY2 &  0.307722981 & -0.24871558 &  0.036772603 &  0.032074187 & -0.031102899 &  0.217021288 &  0.10953847 & -0.013365901 & -0.030647347 &  0.008642487 & ... &  0.250437153 &  0.211278723 & -0.13032007 &  0.20308687 &  0.128083839 & -0.18741841 &  0.267248587 &  0.127572449 & -0.070850840 & 0\\\\\n",
       "\tFGFBP1 &  0.075032014 & -0.14292989 & -0.074255062 & -0.082394660 &  0.228064131 &  0.104667906 & -0.02174294 & -0.066405926 &  0.043320733 & -0.089307905 & ... &  0.089760545 & -0.158854994 & -0.03442972 & -0.03311152 & -0.092423579 &  0.24940898 & -0.096369337 &  0.165640331 & -0.038875667 & 0\\\\\n",
       "\tTHOC1 & -0.211286208 &  0.04149936 &  0.223805317 & -0.241500596 & -0.011745843 &  0.087711423 &  0.08917294 &  0.029042456 & -0.025541977 & -0.095884862 & ... & -0.035524523 & -0.218398404 & -0.13538939 & -0.08489135 &  0.164897071 &  0.28899817 &  0.084861040 & -0.238854143 & -0.056443398 & 0\\\\\n",
       "\tREC8 &  0.120584830 &  0.22719519 &  0.003494329 &  0.212192156 &  0.058391554 & -0.022314283 &  0.01355748 &  0.180197952 &  0.202627682 & -0.148185967 & ... & -0.017672344 &  0.116545126 &  0.17598154 &  0.11371173 & -0.065925135 &  0.13063082 & -0.203350188 &  0.018120041 & -0.023476441 & 0\\\\\n",
       "\tRCE1 &  0.608361663 & -0.32748134 &  0.220233556 &  0.260759170 & -0.616263218 & -0.526694853 & -0.40937387 & -0.027406741 &  0.555880660 &  0.104288786 & ... &  0.001743001 & -0.286214455 & -0.17832775 &  0.11845004 & -0.402398305 & -0.21732347 & -0.102603220 & -0.095461975 & -0.174129567 & 0\\\\\n",
       "\tHNRPDL &  0.336891457 & -0.06352610 & -0.066473393 & -0.064360553 & -0.118638214 &  0.000242630 &  0.34685710 & -0.015205016 &  0.405501178 &  0.064567195 & ... &  0.171205898 & -0.082528762 &  0.22527927 & -0.16929494 &  0.166615360 & -0.05770758 &  0.065721277 & -0.071772621 &  0.154387593 & 0\\\\\n",
       "\tDMTF1 & -0.394304968 & -0.27344252 & -0.011036799 & -0.096111479 &  0.234185313 & -0.066510942 & -0.28032548 & -0.105642248 & -0.000433533 &  0.048886455 & ... &  0.004230532 & -0.195498257 & -0.07126127 &  0.19975011 & -0.105800269 &  0.03701898 & -0.079788035 & -0.379251105 & -0.297818316 & 0\\\\\n",
       "\tPPP4R1 & -0.073474157 &  0.15213735 &  0.065569318 & -0.121358985 & -0.001786439 &  0.086636361 &  0.05510450 &  0.017470775 & -0.265261254 & -0.103767791 & ... & -0.090058863 & -0.010958309 & -0.05867390 & -0.15185043 &  0.107693867 & -0.07707405 & -0.100795217 & -0.074810071 &  0.063512965 & 0\\\\\n",
       "\tCDH1 &  0.050434936 & -0.03510745 & -0.042846587 &  0.010276018 & -0.052580353 & -0.046825501 &  0.06393300 &  0.052727423 & -0.051348381 &  0.002506481 & ... & -0.051846161 & -0.029401622 & -0.02975864 & -0.14922990 &  0.007571789 &  0.01244169 & -0.099071650 & -0.057222791 &  0.031847183 & 0\\\\\n",
       "\tSLC12A6 & -0.258721684 & -0.00000682 & -0.018992078 & -0.041353675 &  0.388604238 &  0.278794371 & -0.16664448 & -0.024909752 & -0.040206704 &  0.254717218 & ... &  0.021242588 & -0.082747212 & -0.07958158 &  0.15236183 &  0.035210235 &  0.09741152 &  0.026151797 &  0.041835136 & -0.219023444 & 0\\\\\n",
       "\tROD1 &  0.009266274 & -0.08759944 & -0.017994166 &  0.029116575 &  0.003912351 &  0.034515133 & -0.03797903 &  0.001764217 &  0.037262822 &  0.129707923 & ... &  0.023088073 & -0.066239346 &  0.05982607 & -0.02189713 &  0.035057504 &  0.05617818 & -0.041422824 & -0.018364623 &  0.018456913 & 0\\\\\n",
       "\tKCNE2 & -0.050108736 &  0.01850432 & -0.139644319 & -0.002646747 &  0.058984669 & -0.029732600 & -0.15887313 & -0.051619574 &  0.018179145 & -0.005063562 & ... &  0.085002686 & -0.002432377 & -0.21213681 &  0.29162804 & -0.168164083 & -0.03406206 & -0.043667821 & -0.039348914 & -0.118971407 & 0\\\\\n",
       "\tDGCR2 & -0.040649570 & -0.01856940 & -0.079604307 &  0.152928112 & -0.276000714 & -0.237058589 &  0.16978139 & -0.406325061 & -0.056433146 & -0.111844384 & ... & -0.049757497 &  0.147826079 &  0.07688084 &  0.10345390 & -0.228235465 & -0.07522649 &  0.217150957 & -0.125691864 &  0.041147842 & 0\\\\\n",
       "\tCASP8AP2 & -0.163082084 & -0.28095676 & -0.423591745 &  0.327321065 & -0.074879670 &  0.423624839 &  0.19340182 &  0.187802267 & -0.000433533 & -0.183060467 & ... &  0.109451487 & -0.384379353 & -0.05195424 &  0.09415286 & -0.001115140 &  0.01688473 & -0.041097881 & -0.047595524 & -0.164508492 & 0\\\\\n",
       "\tSCO2 &  0.105920149 &  0.03739796 & -0.013930169 &  0.462725849 &  0.017261849 &  0.077121525 &  0.21546757 &  0.100717095 & -0.077430688 & -0.163432971 & ... &  0.081707025 &  0.407284665 &  0.12978265 &  0.05689334 &  0.171073625 &  0.21944801 &  0.176078701 & -0.018902780 & -0.049030651 & 0\\\\\n",
       "\\end{tabular}\n"
      ],
      "text/markdown": [
       "\n",
       "A data.frame: 11875 x 34\n",
       "\n",
       "| <!--/--> | ZT11.15_REP1 &lt;dbl&gt; | ZT12.03_REP1 &lt;dbl&gt; | ZT8.62_REP1 &lt;dbl&gt; | ZT2.17_REP1 &lt;dbl&gt; | ZT9.52_REP1 &lt;dbl&gt; | ZT8.57_REP1 &lt;dbl&gt; | ZT22.98_REP1 &lt;dbl&gt; | ZT21.95_REP1 &lt;dbl&gt; | ZT3.32_REP1 &lt;dbl&gt; | ZT3.52_REP1 &lt;dbl&gt; | ... ... | ZT9.47_REP1 &lt;dbl&gt; | ZT5.87_REP1 &lt;dbl&gt; | ZT15.3_REP1 &lt;dbl&gt; | ZT2.88_REP1 &lt;dbl&gt; | ZT4.85_REP1 &lt;dbl&gt; | ZT3.2_REP1 &lt;dbl&gt; | ZT5.48_REP1 &lt;dbl&gt; | ZT3.25_REP1 &lt;dbl&gt; | ZT0.93_REP1 &lt;dbl&gt; | GroundTruth &lt;dbl&gt; |\n",
       "|---|---|---|---|---|---|---|---|---|---|---|---|---|---|---|---|---|---|---|---|---|---|\n",
       "| NAT2 | -0.336661201 | -0.000006820 |  0.29716610 |  0.202529836 |  0.648322130 |  0.31038309 | -0.340001146 | -0.174708560 | -0.33447838 |  0.245083404 | ... | -0.016850432 | -0.43059571 |  0.023169164 |  0.003915999 | -0.199685976 | -0.05028903 | -0.224721266 |  0.251736429 | -0.674549420 | 0 |\n",
       "| ADA |  0.029589070 | -0.020190992 |  0.16804404 | -0.185306192 | -0.088336050 |  0.04560916 |  0.128605457 | -0.114373347 |  0.16575314 |  0.101245810 | ... | -0.135248902 | -0.20104390 |  0.179335902 | -0.177955977 | -0.155667667 | -0.10481710 | -0.193399791 | -0.090558456 |  0.095351829 | 0 |\n",
       "| CDH2 |  0.228064131 | -0.080117045 |  0.12859519 |  0.063235845 | -0.161261317 | -0.08542227 | -0.126233049 | -0.260203701 |  0.05958564 | -0.113089010 | ... |  0.039997676 |  0.01702407 | -0.228170399 |  0.091374945 | -0.042860329 |  0.03610528 |  0.040233686 | -0.041418972 | -0.131612329 | 0 |\n",
       "| AKT3 | -0.029335743 | -0.258721684 | -0.31401747 |  0.066494124 |  0.142178184 | -0.25990703 | -0.055308427 | -0.072836490 |  0.03063074 |  0.142318244 | ... |  0.039189363 | -0.07960431 |  0.116198915 |  0.125029812 |  0.115472471 |  0.02671653 |  0.195896024 |  0.181149604 |  0.190400624 | 0 |\n",
       "| MED6 | -0.076642552 | -0.404002792 | -0.21687978 |  0.239017715 |  0.007261114 |  0.04825818 |  0.234895480 |  0.083285227 |  0.32796130 |  0.115924556 | ... |  0.209398849 | -0.11958912 | -0.016602991 |  0.026842828 |  0.237286187 | -0.25461862 |  0.336311069 |  0.055262079 |  0.297834612 | 0 |\n",
       "| NR2E3 |  0.014584403 | -0.012571960 |  0.06393712 | -0.002646747 | -0.031236776 | -0.10526517 | -0.109650272 | -0.090213516 | -0.03048112 | -0.106993174 | ... |  0.003077232 |  0.14597541 | -0.088359213 |  0.017930110 | -0.017928970 | -0.05129297 | -0.078981064 | -0.037027131 | -0.015886592 | 0 |\n",
       "| NAALAD2 | -0.075170430 | -0.175834207 | -0.02898025 |  0.221089624 |  0.189808918 |  0.21820471 |  0.044785969 |  0.032388275 | -0.07668206 |  0.121139774 | ... |  0.163465470 | -0.04960918 | -0.063051869 |  0.013072103 |  0.094728343 | -0.05145997 |  0.072814324 |  0.044106011 | -0.021173883 | 0 |\n",
       "| NAALADL1 | -0.020285197 |  0.005465468 |  0.09131221 |  0.200364575 | -0.140620882 |  0.07297548 | -0.042047087 |  0.001293730 |  0.12347070 | -0.085260540 | ... | -0.022046107 |  0.13448726 | -0.165626289 | -0.094299996 | -0.011542980 | -0.01641036 | -0.018615677 | -0.052643787 |  0.030754236 | 0 |\n",
       "| CDKN2BAS |  0.008844262 | -0.000006820 | -0.05003856 | -0.013816111 |  0.132632345 |  0.12641050 | -0.187082678 | -0.117557034 | -0.21805034 | -0.143099308 | ... |  0.060924908 |  0.05504309 | -0.107539348 | -0.020102724 | -0.434195029 |  0.12426521 | -0.010321187 |  0.168210705 | -0.086983975 | 0 |\n",
       "| ACOT8 | -0.173432524 |  0.120074405 |  0.14340807 |  0.503297579 | -0.001786439 | -0.02583394 |  0.260446709 |  0.208648534 |  0.16850526 | -0.195176590 | ... | -0.010894382 |  0.77771343 | -0.011988190 |  0.148133040 |  0.376260596 |  0.12996406 |  0.656002686 |  0.117493484 |  0.005197521 | 0 |\n",
       "| ABI1 | -0.104797554 | -0.255651304 | -0.43946108 | -0.032326259 | -0.001786439 |  0.48807594 |  0.326357039 | -0.646355570 |  0.14796710 | -0.051325902 | ... |  0.099935360 | -0.03909348 |  0.166008183 | -0.209086687 |  0.203455201 | -0.24756454 |  0.121482722 | -0.130283028 |  0.326461966 | 0 |\n",
       "| GNPDA1 | -0.015659616 |  0.288036699 | -0.01889899 | -0.002646747 | -0.022155194 |  0.08862070 | -0.071035480 |  0.104012974 | -0.06325309 | -0.205945095 | ... |  0.107690236 |  0.19619132 |  0.272684025 | -0.160728517 |  0.133104046 |  0.07851000 | -0.061568566 | -0.169709061 |  0.162296563 | 0 |\n",
       "| ZBTB33 |  0.008746079 | -0.071839420 | -0.03325459 |  0.040781487 | -0.033907364 | -0.01362549 | -0.010261389 |  0.011229227 |  0.13436688 |  0.084622533 | ... |  0.006016814 | -0.09966719 |  0.035581438 |  0.011105489 |  0.059643693 |  0.14352866 | -0.003086487 |  0.045416988 |  0.080881632 | 0 |\n",
       "| CDH3 |  0.129093245 | -0.013057818 |  0.34594988 | -0.058337727 |  0.347722042 |  0.27847998 |  0.013159993 | -0.020437756 |  0.14517802 |  0.000681174 | ... | -0.033950229 | -0.01062042 | -0.005216197 | -0.088797249 | -0.007269109 |  0.02079848 | -0.033307695 | -0.067047635 | -0.105967251 | 0 |\n",
       "| TANK | -0.285333900 | -0.156373194 | -0.09844781 |  0.091837593 |  0.053744921 |  0.01999112 |  0.068038977 |  0.003065207 | -0.01662890 | -0.046055751 | ... | -0.035381946 | -0.01354573 |  0.220135294 | -0.193499554 |  0.066906361 | -0.03227208 |  0.015979213 | -0.082387112 |  0.258647735 | 0 |\n",
       "| PRO0628 |  0.039860672 | -0.025771693 | -0.04931916 | -0.033844944 |  0.034551101 | -0.00856079 |  0.079266008 | -0.013703872 |  0.07293333 |  0.029724389 | ... | -0.061626421 |  0.02135832 |  0.051933245 | -0.017668922 |  0.061262788 | -0.03503015 | -0.011825378 |  0.029936820 |  0.005602634 | 0 |\n",
       "| LOC100127972 | -0.170351213 |  0.032139869 |  0.06669021 | -0.232160825 |  0.039647611 |  0.18298473 | -0.007540935 |  0.057563924 | -0.13352745 |  0.169082918 | ... |  0.088943687 | -0.20495659 | -0.116685674 | -0.023207039 | -0.075283327 |  0.13414709 | -0.113167925 |  0.048128805 | -0.031305717 | 0 |\n",
       "| V18 |  0.395547605 |  0.073361362 | -0.00351039 | -0.036258017 | -0.557566128 | -1.90642310 | -0.304283168 | -0.395256933 |  0.54239176 |  0.085935111 | ... |  0.167696996 | -0.62343104 | -0.451459233 | -0.103309607 | -0.277186060 | -0.01763481 | -0.131678177 | -0.527229225 | -0.003815452 | 0 |\n",
       "| SLC2A3P1 | -0.000985659 | -0.006598982 | -0.56244657 | -0.249540004 |  0.088437040 | -0.05053974 | -0.178491154 |  0.123051079 |  0.15760381 |  0.172832995 | ... | -0.009548616 | -0.25467659 | -0.077806641 |  0.123709123 |  0.157395212 | -0.03726581 | -0.164746554 | -0.291396307 |  0.026749201 | 0 |\n",
       "| LOC100128414 |  0.005600719 | -0.010134092 |  0.01390585 | -0.071761646 |  0.094235671 |  0.06502465 | -0.082037578 | -0.011186908 | -0.01596831 |  0.027541080 | ... |  0.010951660 | -0.07927010 |  0.015383687 |  0.041082166 |  0.019856054 |  0.09437486 |  0.049182544 | -0.048698816 |  0.030767162 | 0 |\n",
       "| RP11-257K9.7 |  0.130387915 |  0.011140788 | -0.13985067 |  0.218534641 | -0.082921977 |  0.04882074 | -0.025880455 | -0.012093736 | -0.06387111 | -0.069390085 | ... | -0.038030650 |  0.09868136 |  0.036042175 |  0.033979119 |  0.152555733 | -0.06600222 | -0.063281128 | -0.009369783 | -0.000296293 | 0 |\n",
       "| LOC100129250 |  0.087857136 |  0.039571291 | -0.15250060 |  0.266405229 | -0.258721684 | -0.29390024 |  0.111211812 |  0.113001709 |  0.02169505 |  0.163500723 | ... |  0.120095324 |  0.13493138 |  0.173613451 |  0.024851156 |  0.038532395 |  0.10818719 |  0.002448462 |  0.033158505 | -0.038139861 | 0 |\n",
       "| C1orf68 |  0.008602527 | -0.024023806 | -0.09526554 |  0.009021620 |  0.091460094 | -0.16573603 |  0.070906892 |  0.039500655 |  0.07868672 | -0.222925243 | ... | -0.068683066 |  0.17490343 |  0.267844504 | -0.007371626 | -0.034066598 | -0.08071469 |  0.042475347 |  0.140884903 |  0.309878873 | 0 |\n",
       "| LOC100129361 |  0.120294008 | -0.283180929 | -0.26199463 |  0.664293226 |  0.066982396 | -0.06583924 |  0.075584147 | -0.109795886 | -0.53772661 |  0.248575295 | ... |  0.126037735 |  0.26796680 |  0.047592325 |  0.489070421 |  0.299605563 |  0.52676986 |  0.787940924 |  0.480063088 | -0.244389075 | 0 |\n",
       "| LOC100129410 |  0.165526427 | -0.057669638 |  0.02875346 |  0.019838262 | -0.122630885 | -0.09148448 | -0.041094985 | -0.123251912 |  0.08030335 | -0.033758781 | ... | -0.056591603 |  0.09802666 | -0.098799468 |  0.029643644 |  0.051235451 | -0.02445258 | -0.102122834 | -0.027282522 |  0.079043025 | 0 |\n",
       "| ZNF37B | -0.084016331 | -0.105572483 |  0.54313716 |  0.111397465 |  0.042293679 |  0.13646464 | -0.068338414 |  0.007620786 | -0.15695339 |  0.035352148 | ... |  0.051281427 | -0.29124064 |  0.099961237 |  0.094568057 | -0.095320655 |  0.17141498 | -0.110923171 |  0.015167261 | -0.224420247 | 0 |\n",
       "| LOC100129500 |  0.162277059 |  0.029216063 |  0.08757748 | -0.106450475 | -0.155018767 | -0.01461800 |  0.008768922 | -0.011628367 |  0.09398723 |  0.143493418 | ... | -0.070241756 |  0.02748909 | -0.051415718 | -0.063622136 | -0.070831695 | -0.02052332 | -0.054635666 | -0.190897111 |  0.186597070 | 0 |\n",
       "| LOC100129503 |  0.417810905 |  0.210679546 | -0.01205986 |  0.118033493 | -0.078667495 | -0.13821184 | -0.424007332 | -0.282826148 |  0.32176391 |  0.047800911 | ... |  0.045968809 |  0.18480042 |  0.042201192 |  0.032294886 | -0.327232797 | -0.25821496 | -0.168084974 |  0.382265722 |  0.115204863 | 0 |\n",
       "| LOC100129656 |  0.051231976 |  0.073806632 |  0.02795565 |  0.141141369 | -0.101565670 | -0.06944450 | -0.015610183 | -0.007686671 |  0.14184241 |  0.041644857 | ... |  0.009322286 |  0.04048749 | -0.030923893 | -0.086431104 |  0.010176657 | -0.01132492 | -0.014338042 | -0.035218986 |  0.029460001 | 0 |\n",
       "| LOC100129973 | -0.057892848 | -0.112421131 |  0.05469913 | -0.023728565 | -0.083182427 |  0.24829409 |  0.044092644 |  0.081394055 | -0.20340627 |  0.040836505 | ... |  0.178432585 |  0.08943974 |  0.087388012 |  0.132807984 |  0.028115887 |  0.04630977 |  0.050092576 | -0.088757171 |  0.015853398 | 0 |\n",
       "| ... | ... | ... | ... | ... | ... | ... | ... | ... | ... | ... | <!----> | ... | ... | ... | ... | ... | ... | ... | ... | ... | ... |\n",
       "| MVP |  0.243808171 |  0.25159847 | -0.125905257 | -0.187481186 | -0.298003517 | -0.292361017 |  0.02381467 |  0.097720809 |  0.496872927 | -0.192091321 | ... | -0.063595198 |  0.175803909 |  0.08222411 | -0.11786494 |  0.041890479 | -0.07668098 | -0.081117289 | -0.531818982 |  0.464885342 | 0 |\n",
       "| SLC23A2 | -0.038242070 | -0.16222710 | -0.034337214 | -0.103484777 | -0.001786439 |  0.148721049 |  0.02658301 |  0.007821655 | -0.098886763 |  0.040213722 | ... | -0.033350724 |  0.009292861 | -0.18909761 |  0.07895802 |  0.033353614 | -0.01370678 |  0.035439029 |  0.030830983 |  0.005800146 | 0 |\n",
       "| TNFSF15 |  0.011887929 | -0.03649007 |  0.022401448 | -0.002646747 | -0.014409887 | -0.036150976 | -0.03350372 | -0.116942488 | -0.034662340 | -0.054852681 | ... |  0.049289925 |  0.092841424 |  0.10764010 |  0.01274046 |  0.049068219 | -0.01578771 |  0.079964299 | -0.017702497 |  0.025066725 | 0 |\n",
       "| THRAP3 |  0.032247561 | -0.18343027 |  0.061184584 | -0.002646747 | -0.272122951 | -0.031701731 | -0.09969380 |  0.024084457 |  0.242159939 |  0.071206613 | ... |  0.093177117 | -0.025475240 |  0.06006260 |  0.11355503 | -0.178048139 | -0.07018434 |  0.061300753 |  0.217905889 | -0.117843414 | 0 |\n",
       "| MED12 |  0.306195876 |  0.16004312 | -0.355702657 | -0.002646747 | -0.604406410 | -0.473075528 | -0.02432160 |  0.211601901 |  0.158852991 | -0.218473277 | ... | -0.013900368 | -0.189263946 | -0.12071085 | -0.10360573 | -0.192415104 | -0.12788047 | -0.280801553 | -0.267490469 | -0.003327409 | 0 |\n",
       "| MED13 |  0.010569913 |  0.26315037 |  0.181319146 | -0.233260038 | -0.144381913 | -0.113868763 | -0.07789564 |  0.046687587 |  0.096444085 | -0.061031399 | ... | -0.170932437 | -0.327727955 | -0.07782415 | -0.09139562 | -0.085838996 | -0.01034540 | -0.236322922 | -0.254555254 | -0.159352415 | 0 |\n",
       "| CDC34 |  0.228287376 |  0.18911349 |  0.068449882 |  0.281413862 | -0.001786439 | -0.091674033 |  0.09402806 | -0.183507936 |  0.051667497 | -0.395111755 | ... | -0.156708715 |  0.178826232 |  0.25059941 |  0.13467868 | -0.226722123 |  0.03848959 |  0.314923804 |  0.205347287 |  0.039518319 | 0 |\n",
       "| NR1I3 | -0.126915856 |  0.02141733 | -0.078328864 | -0.197343175 |  0.063682187 |  0.018894508 | -0.02416119 | -0.174675598 | -0.196164861 |  0.046037821 | ... | -0.042328905 | -0.078622288 | -0.15631123 | -0.02361063 |  0.114404072 |  0.10204678 | -0.038655946 |  0.166131198 |  0.143668669 | 0 |\n",
       "| NR1H4 | -0.250396868 | -0.10404020 | -0.072741550 |  0.076115429 |  0.186456401 | -0.005259958 |  0.04421771 |  0.060362593 | -0.143184648 |  0.038463599 | ... | -0.106617324 | -0.232524170 |  0.06544066 |  0.10302148 | -0.021348330 |  0.06990105 |  0.007716391 | -0.001831174 | -0.105210101 | 0 |\n",
       "| NUP153 | -0.517386823 | -0.04117710 | -0.129003108 | -0.401265897 |  0.282517725 |  0.322354584 |  0.24978215 |  0.317901453 |  0.140629348 | -0.212300233 | ... |  0.088303551 | -0.200357188 |  0.35641356 | -0.18338484 |  0.001640804 | -0.29615530 |  0.180843835 |  0.066069923 |  0.033282190 | 0 |\n",
       "| CCS | -0.163240864 |  0.39298382 | -0.003510390 |  0.300697467 |  0.095510106 | -0.173347867 |  0.08721701 | -0.271959462 | -0.242462913 | -0.064852351 | ... | -0.058075411 |  0.287687881 | -0.13493156 | -0.19788507 | -0.058233126 |  0.03708175 |  0.162249439 |  0.257543098 |  0.059326026 | 0 |\n",
       "| NR1D2 |  0.153069431 | -0.41147852 | -0.529912570 |  0.690715315 | -0.208927662 |  0.335333818 | -1.00832898 | -0.422081544 | -0.217000958 |  0.453663176 | ... | -0.135418259 | -0.107903101 |  0.25836690 | -0.62478716 |  0.604064618 |  0.22424863 |  0.257155517 |  0.747909853 | -0.038295477 | 0 |\n",
       "| CLEC2B | -0.764622494 |  0.32544431 |  0.124235912 | -0.064102838 |  0.129213180 |  0.291325309 |  0.05330237 | -0.336847759 | -0.191503798 |  0.014844999 | ... | -0.065701673 | -0.273442521 | -0.03224221 | -0.21024162 | -0.237736582 |  0.10893750 | -0.431442804 | -0.047871322 |  0.406301092 | 0 |\n",
       "| RBX1 | -0.062828796 | -0.04721246 |  0.008381037 |  0.341507651 | -0.168358203 |  0.064521567 |  0.10622525 | -0.215363052 | -0.018658822 | -0.111698302 | ... | -0.068506612 |  0.218094362 | -0.04435485 |  0.03903733 |  0.145310088 |  0.23368816 |  0.277548085 |  0.071083158 |  0.159745429 | 0 |\n",
       "| CDC42 | -0.120088099 | -0.34740004 | -0.003510390 |  0.286585921 |  0.195170459 |  0.102745512 |  0.25594755 | -0.072468577 | -0.126019538 |  0.105912842 | ... |  0.146268074 |  0.445223157 |  0.14019661 |  0.02032838 |  0.336847937 |  0.13131173 |  0.513747134 |  0.585701286 |  0.236108981 | 0 |\n",
       "| DOPEY2 |  0.307722981 | -0.24871558 |  0.036772603 |  0.032074187 | -0.031102899 |  0.217021288 |  0.10953847 | -0.013365901 | -0.030647347 |  0.008642487 | ... |  0.250437153 |  0.211278723 | -0.13032007 |  0.20308687 |  0.128083839 | -0.18741841 |  0.267248587 |  0.127572449 | -0.070850840 | 0 |\n",
       "| FGFBP1 |  0.075032014 | -0.14292989 | -0.074255062 | -0.082394660 |  0.228064131 |  0.104667906 | -0.02174294 | -0.066405926 |  0.043320733 | -0.089307905 | ... |  0.089760545 | -0.158854994 | -0.03442972 | -0.03311152 | -0.092423579 |  0.24940898 | -0.096369337 |  0.165640331 | -0.038875667 | 0 |\n",
       "| THOC1 | -0.211286208 |  0.04149936 |  0.223805317 | -0.241500596 | -0.011745843 |  0.087711423 |  0.08917294 |  0.029042456 | -0.025541977 | -0.095884862 | ... | -0.035524523 | -0.218398404 | -0.13538939 | -0.08489135 |  0.164897071 |  0.28899817 |  0.084861040 | -0.238854143 | -0.056443398 | 0 |\n",
       "| REC8 |  0.120584830 |  0.22719519 |  0.003494329 |  0.212192156 |  0.058391554 | -0.022314283 |  0.01355748 |  0.180197952 |  0.202627682 | -0.148185967 | ... | -0.017672344 |  0.116545126 |  0.17598154 |  0.11371173 | -0.065925135 |  0.13063082 | -0.203350188 |  0.018120041 | -0.023476441 | 0 |\n",
       "| RCE1 |  0.608361663 | -0.32748134 |  0.220233556 |  0.260759170 | -0.616263218 | -0.526694853 | -0.40937387 | -0.027406741 |  0.555880660 |  0.104288786 | ... |  0.001743001 | -0.286214455 | -0.17832775 |  0.11845004 | -0.402398305 | -0.21732347 | -0.102603220 | -0.095461975 | -0.174129567 | 0 |\n",
       "| HNRPDL |  0.336891457 | -0.06352610 | -0.066473393 | -0.064360553 | -0.118638214 |  0.000242630 |  0.34685710 | -0.015205016 |  0.405501178 |  0.064567195 | ... |  0.171205898 | -0.082528762 |  0.22527927 | -0.16929494 |  0.166615360 | -0.05770758 |  0.065721277 | -0.071772621 |  0.154387593 | 0 |\n",
       "| DMTF1 | -0.394304968 | -0.27344252 | -0.011036799 | -0.096111479 |  0.234185313 | -0.066510942 | -0.28032548 | -0.105642248 | -0.000433533 |  0.048886455 | ... |  0.004230532 | -0.195498257 | -0.07126127 |  0.19975011 | -0.105800269 |  0.03701898 | -0.079788035 | -0.379251105 | -0.297818316 | 0 |\n",
       "| PPP4R1 | -0.073474157 |  0.15213735 |  0.065569318 | -0.121358985 | -0.001786439 |  0.086636361 |  0.05510450 |  0.017470775 | -0.265261254 | -0.103767791 | ... | -0.090058863 | -0.010958309 | -0.05867390 | -0.15185043 |  0.107693867 | -0.07707405 | -0.100795217 | -0.074810071 |  0.063512965 | 0 |\n",
       "| CDH1 |  0.050434936 | -0.03510745 | -0.042846587 |  0.010276018 | -0.052580353 | -0.046825501 |  0.06393300 |  0.052727423 | -0.051348381 |  0.002506481 | ... | -0.051846161 | -0.029401622 | -0.02975864 | -0.14922990 |  0.007571789 |  0.01244169 | -0.099071650 | -0.057222791 |  0.031847183 | 0 |\n",
       "| SLC12A6 | -0.258721684 | -0.00000682 | -0.018992078 | -0.041353675 |  0.388604238 |  0.278794371 | -0.16664448 | -0.024909752 | -0.040206704 |  0.254717218 | ... |  0.021242588 | -0.082747212 | -0.07958158 |  0.15236183 |  0.035210235 |  0.09741152 |  0.026151797 |  0.041835136 | -0.219023444 | 0 |\n",
       "| ROD1 |  0.009266274 | -0.08759944 | -0.017994166 |  0.029116575 |  0.003912351 |  0.034515133 | -0.03797903 |  0.001764217 |  0.037262822 |  0.129707923 | ... |  0.023088073 | -0.066239346 |  0.05982607 | -0.02189713 |  0.035057504 |  0.05617818 | -0.041422824 | -0.018364623 |  0.018456913 | 0 |\n",
       "| KCNE2 | -0.050108736 |  0.01850432 | -0.139644319 | -0.002646747 |  0.058984669 | -0.029732600 | -0.15887313 | -0.051619574 |  0.018179145 | -0.005063562 | ... |  0.085002686 | -0.002432377 | -0.21213681 |  0.29162804 | -0.168164083 | -0.03406206 | -0.043667821 | -0.039348914 | -0.118971407 | 0 |\n",
       "| DGCR2 | -0.040649570 | -0.01856940 | -0.079604307 |  0.152928112 | -0.276000714 | -0.237058589 |  0.16978139 | -0.406325061 | -0.056433146 | -0.111844384 | ... | -0.049757497 |  0.147826079 |  0.07688084 |  0.10345390 | -0.228235465 | -0.07522649 |  0.217150957 | -0.125691864 |  0.041147842 | 0 |\n",
       "| CASP8AP2 | -0.163082084 | -0.28095676 | -0.423591745 |  0.327321065 | -0.074879670 |  0.423624839 |  0.19340182 |  0.187802267 | -0.000433533 | -0.183060467 | ... |  0.109451487 | -0.384379353 | -0.05195424 |  0.09415286 | -0.001115140 |  0.01688473 | -0.041097881 | -0.047595524 | -0.164508492 | 0 |\n",
       "| SCO2 |  0.105920149 |  0.03739796 | -0.013930169 |  0.462725849 |  0.017261849 |  0.077121525 |  0.21546757 |  0.100717095 | -0.077430688 | -0.163432971 | ... |  0.081707025 |  0.407284665 |  0.12978265 |  0.05689334 |  0.171073625 |  0.21944801 |  0.176078701 | -0.018902780 | -0.049030651 | 0 |\n",
       "\n"
      ],
      "text/plain": [
       "             ZT11.15_REP1 ZT12.03_REP1 ZT8.62_REP1  ZT2.17_REP1  ZT9.52_REP1 \n",
       "NAT2         -0.336661201 -0.000006820  0.29716610   0.202529836  0.648322130\n",
       "ADA           0.029589070 -0.020190992  0.16804404  -0.185306192 -0.088336050\n",
       "CDH2          0.228064131 -0.080117045  0.12859519   0.063235845 -0.161261317\n",
       "AKT3         -0.029335743 -0.258721684 -0.31401747   0.066494124  0.142178184\n",
       "MED6         -0.076642552 -0.404002792 -0.21687978   0.239017715  0.007261114\n",
       "NR2E3         0.014584403 -0.012571960  0.06393712  -0.002646747 -0.031236776\n",
       "NAALAD2      -0.075170430 -0.175834207 -0.02898025   0.221089624  0.189808918\n",
       "NAALADL1     -0.020285197  0.005465468  0.09131221   0.200364575 -0.140620882\n",
       "CDKN2BAS      0.008844262 -0.000006820 -0.05003856  -0.013816111  0.132632345\n",
       "ACOT8        -0.173432524  0.120074405  0.14340807   0.503297579 -0.001786439\n",
       "ABI1         -0.104797554 -0.255651304 -0.43946108  -0.032326259 -0.001786439\n",
       "GNPDA1       -0.015659616  0.288036699 -0.01889899  -0.002646747 -0.022155194\n",
       "ZBTB33        0.008746079 -0.071839420 -0.03325459   0.040781487 -0.033907364\n",
       "CDH3          0.129093245 -0.013057818  0.34594988  -0.058337727  0.347722042\n",
       "TANK         -0.285333900 -0.156373194 -0.09844781   0.091837593  0.053744921\n",
       "PRO0628       0.039860672 -0.025771693 -0.04931916  -0.033844944  0.034551101\n",
       "LOC100127972 -0.170351213  0.032139869  0.06669021  -0.232160825  0.039647611\n",
       "V18           0.395547605  0.073361362 -0.00351039  -0.036258017 -0.557566128\n",
       "SLC2A3P1     -0.000985659 -0.006598982 -0.56244657  -0.249540004  0.088437040\n",
       "LOC100128414  0.005600719 -0.010134092  0.01390585  -0.071761646  0.094235671\n",
       "RP11-257K9.7  0.130387915  0.011140788 -0.13985067   0.218534641 -0.082921977\n",
       "LOC100129250  0.087857136  0.039571291 -0.15250060   0.266405229 -0.258721684\n",
       "C1orf68       0.008602527 -0.024023806 -0.09526554   0.009021620  0.091460094\n",
       "LOC100129361  0.120294008 -0.283180929 -0.26199463   0.664293226  0.066982396\n",
       "LOC100129410  0.165526427 -0.057669638  0.02875346   0.019838262 -0.122630885\n",
       "ZNF37B       -0.084016331 -0.105572483  0.54313716   0.111397465  0.042293679\n",
       "LOC100129500  0.162277059  0.029216063  0.08757748  -0.106450475 -0.155018767\n",
       "LOC100129503  0.417810905  0.210679546 -0.01205986   0.118033493 -0.078667495\n",
       "LOC100129656  0.051231976  0.073806632  0.02795565   0.141141369 -0.101565670\n",
       "LOC100129973 -0.057892848 -0.112421131  0.05469913  -0.023728565 -0.083182427\n",
       "...          ...          ...          ...          ...          ...         \n",
       "MVP           0.243808171  0.25159847  -0.125905257 -0.187481186 -0.298003517\n",
       "SLC23A2      -0.038242070 -0.16222710  -0.034337214 -0.103484777 -0.001786439\n",
       "TNFSF15       0.011887929 -0.03649007   0.022401448 -0.002646747 -0.014409887\n",
       "THRAP3        0.032247561 -0.18343027   0.061184584 -0.002646747 -0.272122951\n",
       "MED12         0.306195876  0.16004312  -0.355702657 -0.002646747 -0.604406410\n",
       "MED13         0.010569913  0.26315037   0.181319146 -0.233260038 -0.144381913\n",
       "CDC34         0.228287376  0.18911349   0.068449882  0.281413862 -0.001786439\n",
       "NR1I3        -0.126915856  0.02141733  -0.078328864 -0.197343175  0.063682187\n",
       "NR1H4        -0.250396868 -0.10404020  -0.072741550  0.076115429  0.186456401\n",
       "NUP153       -0.517386823 -0.04117710  -0.129003108 -0.401265897  0.282517725\n",
       "CCS          -0.163240864  0.39298382  -0.003510390  0.300697467  0.095510106\n",
       "NR1D2         0.153069431 -0.41147852  -0.529912570  0.690715315 -0.208927662\n",
       "CLEC2B       -0.764622494  0.32544431   0.124235912 -0.064102838  0.129213180\n",
       "RBX1         -0.062828796 -0.04721246   0.008381037  0.341507651 -0.168358203\n",
       "CDC42        -0.120088099 -0.34740004  -0.003510390  0.286585921  0.195170459\n",
       "DOPEY2        0.307722981 -0.24871558   0.036772603  0.032074187 -0.031102899\n",
       "FGFBP1        0.075032014 -0.14292989  -0.074255062 -0.082394660  0.228064131\n",
       "THOC1        -0.211286208  0.04149936   0.223805317 -0.241500596 -0.011745843\n",
       "REC8          0.120584830  0.22719519   0.003494329  0.212192156  0.058391554\n",
       "RCE1          0.608361663 -0.32748134   0.220233556  0.260759170 -0.616263218\n",
       "HNRPDL        0.336891457 -0.06352610  -0.066473393 -0.064360553 -0.118638214\n",
       "DMTF1        -0.394304968 -0.27344252  -0.011036799 -0.096111479  0.234185313\n",
       "PPP4R1       -0.073474157  0.15213735   0.065569318 -0.121358985 -0.001786439\n",
       "CDH1          0.050434936 -0.03510745  -0.042846587  0.010276018 -0.052580353\n",
       "SLC12A6      -0.258721684 -0.00000682  -0.018992078 -0.041353675  0.388604238\n",
       "ROD1          0.009266274 -0.08759944  -0.017994166  0.029116575  0.003912351\n",
       "KCNE2        -0.050108736  0.01850432  -0.139644319 -0.002646747  0.058984669\n",
       "DGCR2        -0.040649570 -0.01856940  -0.079604307  0.152928112 -0.276000714\n",
       "CASP8AP2     -0.163082084 -0.28095676  -0.423591745  0.327321065 -0.074879670\n",
       "SCO2          0.105920149  0.03739796  -0.013930169  0.462725849  0.017261849\n",
       "             ZT8.57_REP1  ZT22.98_REP1 ZT21.95_REP1 ZT3.32_REP1  ZT3.52_REP1 \n",
       "NAT2          0.31038309  -0.340001146 -0.174708560 -0.33447838   0.245083404\n",
       "ADA           0.04560916   0.128605457 -0.114373347  0.16575314   0.101245810\n",
       "CDH2         -0.08542227  -0.126233049 -0.260203701  0.05958564  -0.113089010\n",
       "AKT3         -0.25990703  -0.055308427 -0.072836490  0.03063074   0.142318244\n",
       "MED6          0.04825818   0.234895480  0.083285227  0.32796130   0.115924556\n",
       "NR2E3        -0.10526517  -0.109650272 -0.090213516 -0.03048112  -0.106993174\n",
       "NAALAD2       0.21820471   0.044785969  0.032388275 -0.07668206   0.121139774\n",
       "NAALADL1      0.07297548  -0.042047087  0.001293730  0.12347070  -0.085260540\n",
       "CDKN2BAS      0.12641050  -0.187082678 -0.117557034 -0.21805034  -0.143099308\n",
       "ACOT8        -0.02583394   0.260446709  0.208648534  0.16850526  -0.195176590\n",
       "ABI1          0.48807594   0.326357039 -0.646355570  0.14796710  -0.051325902\n",
       "GNPDA1        0.08862070  -0.071035480  0.104012974 -0.06325309  -0.205945095\n",
       "ZBTB33       -0.01362549  -0.010261389  0.011229227  0.13436688   0.084622533\n",
       "CDH3          0.27847998   0.013159993 -0.020437756  0.14517802   0.000681174\n",
       "TANK          0.01999112   0.068038977  0.003065207 -0.01662890  -0.046055751\n",
       "PRO0628      -0.00856079   0.079266008 -0.013703872  0.07293333   0.029724389\n",
       "LOC100127972  0.18298473  -0.007540935  0.057563924 -0.13352745   0.169082918\n",
       "V18          -1.90642310  -0.304283168 -0.395256933  0.54239176   0.085935111\n",
       "SLC2A3P1     -0.05053974  -0.178491154  0.123051079  0.15760381   0.172832995\n",
       "LOC100128414  0.06502465  -0.082037578 -0.011186908 -0.01596831   0.027541080\n",
       "RP11-257K9.7  0.04882074  -0.025880455 -0.012093736 -0.06387111  -0.069390085\n",
       "LOC100129250 -0.29390024   0.111211812  0.113001709  0.02169505   0.163500723\n",
       "C1orf68      -0.16573603   0.070906892  0.039500655  0.07868672  -0.222925243\n",
       "LOC100129361 -0.06583924   0.075584147 -0.109795886 -0.53772661   0.248575295\n",
       "LOC100129410 -0.09148448  -0.041094985 -0.123251912  0.08030335  -0.033758781\n",
       "ZNF37B        0.13646464  -0.068338414  0.007620786 -0.15695339   0.035352148\n",
       "LOC100129500 -0.01461800   0.008768922 -0.011628367  0.09398723   0.143493418\n",
       "LOC100129503 -0.13821184  -0.424007332 -0.282826148  0.32176391   0.047800911\n",
       "LOC100129656 -0.06944450  -0.015610183 -0.007686671  0.14184241   0.041644857\n",
       "LOC100129973  0.24829409   0.044092644  0.081394055 -0.20340627   0.040836505\n",
       "...          ...          ...          ...          ...          ...         \n",
       "MVP          -0.292361017  0.02381467   0.097720809  0.496872927 -0.192091321\n",
       "SLC23A2       0.148721049  0.02658301   0.007821655 -0.098886763  0.040213722\n",
       "TNFSF15      -0.036150976 -0.03350372  -0.116942488 -0.034662340 -0.054852681\n",
       "THRAP3       -0.031701731 -0.09969380   0.024084457  0.242159939  0.071206613\n",
       "MED12        -0.473075528 -0.02432160   0.211601901  0.158852991 -0.218473277\n",
       "MED13        -0.113868763 -0.07789564   0.046687587  0.096444085 -0.061031399\n",
       "CDC34        -0.091674033  0.09402806  -0.183507936  0.051667497 -0.395111755\n",
       "NR1I3         0.018894508 -0.02416119  -0.174675598 -0.196164861  0.046037821\n",
       "NR1H4        -0.005259958  0.04421771   0.060362593 -0.143184648  0.038463599\n",
       "NUP153        0.322354584  0.24978215   0.317901453  0.140629348 -0.212300233\n",
       "CCS          -0.173347867  0.08721701  -0.271959462 -0.242462913 -0.064852351\n",
       "NR1D2         0.335333818 -1.00832898  -0.422081544 -0.217000958  0.453663176\n",
       "CLEC2B        0.291325309  0.05330237  -0.336847759 -0.191503798  0.014844999\n",
       "RBX1          0.064521567  0.10622525  -0.215363052 -0.018658822 -0.111698302\n",
       "CDC42         0.102745512  0.25594755  -0.072468577 -0.126019538  0.105912842\n",
       "DOPEY2        0.217021288  0.10953847  -0.013365901 -0.030647347  0.008642487\n",
       "FGFBP1        0.104667906 -0.02174294  -0.066405926  0.043320733 -0.089307905\n",
       "THOC1         0.087711423  0.08917294   0.029042456 -0.025541977 -0.095884862\n",
       "REC8         -0.022314283  0.01355748   0.180197952  0.202627682 -0.148185967\n",
       "RCE1         -0.526694853 -0.40937387  -0.027406741  0.555880660  0.104288786\n",
       "HNRPDL        0.000242630  0.34685710  -0.015205016  0.405501178  0.064567195\n",
       "DMTF1        -0.066510942 -0.28032548  -0.105642248 -0.000433533  0.048886455\n",
       "PPP4R1        0.086636361  0.05510450   0.017470775 -0.265261254 -0.103767791\n",
       "CDH1         -0.046825501  0.06393300   0.052727423 -0.051348381  0.002506481\n",
       "SLC12A6       0.278794371 -0.16664448  -0.024909752 -0.040206704  0.254717218\n",
       "ROD1          0.034515133 -0.03797903   0.001764217  0.037262822  0.129707923\n",
       "KCNE2        -0.029732600 -0.15887313  -0.051619574  0.018179145 -0.005063562\n",
       "DGCR2        -0.237058589  0.16978139  -0.406325061 -0.056433146 -0.111844384\n",
       "CASP8AP2      0.423624839  0.19340182   0.187802267 -0.000433533 -0.183060467\n",
       "SCO2          0.077121525  0.21546757   0.100717095 -0.077430688 -0.163432971\n",
       "             ... ZT9.47_REP1  ZT5.87_REP1  ZT15.3_REP1  ZT2.88_REP1 \n",
       "NAT2         ... -0.016850432 -0.43059571   0.023169164  0.003915999\n",
       "ADA          ... -0.135248902 -0.20104390   0.179335902 -0.177955977\n",
       "CDH2         ...  0.039997676  0.01702407  -0.228170399  0.091374945\n",
       "AKT3         ...  0.039189363 -0.07960431   0.116198915  0.125029812\n",
       "MED6         ...  0.209398849 -0.11958912  -0.016602991  0.026842828\n",
       "NR2E3        ...  0.003077232  0.14597541  -0.088359213  0.017930110\n",
       "NAALAD2      ...  0.163465470 -0.04960918  -0.063051869  0.013072103\n",
       "NAALADL1     ... -0.022046107  0.13448726  -0.165626289 -0.094299996\n",
       "CDKN2BAS     ...  0.060924908  0.05504309  -0.107539348 -0.020102724\n",
       "ACOT8        ... -0.010894382  0.77771343  -0.011988190  0.148133040\n",
       "ABI1         ...  0.099935360 -0.03909348   0.166008183 -0.209086687\n",
       "GNPDA1       ...  0.107690236  0.19619132   0.272684025 -0.160728517\n",
       "ZBTB33       ...  0.006016814 -0.09966719   0.035581438  0.011105489\n",
       "CDH3         ... -0.033950229 -0.01062042  -0.005216197 -0.088797249\n",
       "TANK         ... -0.035381946 -0.01354573   0.220135294 -0.193499554\n",
       "PRO0628      ... -0.061626421  0.02135832   0.051933245 -0.017668922\n",
       "LOC100127972 ...  0.088943687 -0.20495659  -0.116685674 -0.023207039\n",
       "V18          ...  0.167696996 -0.62343104  -0.451459233 -0.103309607\n",
       "SLC2A3P1     ... -0.009548616 -0.25467659  -0.077806641  0.123709123\n",
       "LOC100128414 ...  0.010951660 -0.07927010   0.015383687  0.041082166\n",
       "RP11-257K9.7 ... -0.038030650  0.09868136   0.036042175  0.033979119\n",
       "LOC100129250 ...  0.120095324  0.13493138   0.173613451  0.024851156\n",
       "C1orf68      ... -0.068683066  0.17490343   0.267844504 -0.007371626\n",
       "LOC100129361 ...  0.126037735  0.26796680   0.047592325  0.489070421\n",
       "LOC100129410 ... -0.056591603  0.09802666  -0.098799468  0.029643644\n",
       "ZNF37B       ...  0.051281427 -0.29124064   0.099961237  0.094568057\n",
       "LOC100129500 ... -0.070241756  0.02748909  -0.051415718 -0.063622136\n",
       "LOC100129503 ...  0.045968809  0.18480042   0.042201192  0.032294886\n",
       "LOC100129656 ...  0.009322286  0.04048749  -0.030923893 -0.086431104\n",
       "LOC100129973 ...  0.178432585  0.08943974   0.087388012  0.132807984\n",
       "...              ...          ...          ...          ...         \n",
       "MVP          ... -0.063595198  0.175803909  0.08222411  -0.11786494 \n",
       "SLC23A2      ... -0.033350724  0.009292861 -0.18909761   0.07895802 \n",
       "TNFSF15      ...  0.049289925  0.092841424  0.10764010   0.01274046 \n",
       "THRAP3       ...  0.093177117 -0.025475240  0.06006260   0.11355503 \n",
       "MED12        ... -0.013900368 -0.189263946 -0.12071085  -0.10360573 \n",
       "MED13        ... -0.170932437 -0.327727955 -0.07782415  -0.09139562 \n",
       "CDC34        ... -0.156708715  0.178826232  0.25059941   0.13467868 \n",
       "NR1I3        ... -0.042328905 -0.078622288 -0.15631123  -0.02361063 \n",
       "NR1H4        ... -0.106617324 -0.232524170  0.06544066   0.10302148 \n",
       "NUP153       ...  0.088303551 -0.200357188  0.35641356  -0.18338484 \n",
       "CCS          ... -0.058075411  0.287687881 -0.13493156  -0.19788507 \n",
       "NR1D2        ... -0.135418259 -0.107903101  0.25836690  -0.62478716 \n",
       "CLEC2B       ... -0.065701673 -0.273442521 -0.03224221  -0.21024162 \n",
       "RBX1         ... -0.068506612  0.218094362 -0.04435485   0.03903733 \n",
       "CDC42        ...  0.146268074  0.445223157  0.14019661   0.02032838 \n",
       "DOPEY2       ...  0.250437153  0.211278723 -0.13032007   0.20308687 \n",
       "FGFBP1       ...  0.089760545 -0.158854994 -0.03442972  -0.03311152 \n",
       "THOC1        ... -0.035524523 -0.218398404 -0.13538939  -0.08489135 \n",
       "REC8         ... -0.017672344  0.116545126  0.17598154   0.11371173 \n",
       "RCE1         ...  0.001743001 -0.286214455 -0.17832775   0.11845004 \n",
       "HNRPDL       ...  0.171205898 -0.082528762  0.22527927  -0.16929494 \n",
       "DMTF1        ...  0.004230532 -0.195498257 -0.07126127   0.19975011 \n",
       "PPP4R1       ... -0.090058863 -0.010958309 -0.05867390  -0.15185043 \n",
       "CDH1         ... -0.051846161 -0.029401622 -0.02975864  -0.14922990 \n",
       "SLC12A6      ...  0.021242588 -0.082747212 -0.07958158   0.15236183 \n",
       "ROD1         ...  0.023088073 -0.066239346  0.05982607  -0.02189713 \n",
       "KCNE2        ...  0.085002686 -0.002432377 -0.21213681   0.29162804 \n",
       "DGCR2        ... -0.049757497  0.147826079  0.07688084   0.10345390 \n",
       "CASP8AP2     ...  0.109451487 -0.384379353 -0.05195424   0.09415286 \n",
       "SCO2         ...  0.081707025  0.407284665  0.12978265   0.05689334 \n",
       "             ZT4.85_REP1  ZT3.2_REP1  ZT5.48_REP1  ZT3.25_REP1  ZT0.93_REP1 \n",
       "NAT2         -0.199685976 -0.05028903 -0.224721266  0.251736429 -0.674549420\n",
       "ADA          -0.155667667 -0.10481710 -0.193399791 -0.090558456  0.095351829\n",
       "CDH2         -0.042860329  0.03610528  0.040233686 -0.041418972 -0.131612329\n",
       "AKT3          0.115472471  0.02671653  0.195896024  0.181149604  0.190400624\n",
       "MED6          0.237286187 -0.25461862  0.336311069  0.055262079  0.297834612\n",
       "NR2E3        -0.017928970 -0.05129297 -0.078981064 -0.037027131 -0.015886592\n",
       "NAALAD2       0.094728343 -0.05145997  0.072814324  0.044106011 -0.021173883\n",
       "NAALADL1     -0.011542980 -0.01641036 -0.018615677 -0.052643787  0.030754236\n",
       "CDKN2BAS     -0.434195029  0.12426521 -0.010321187  0.168210705 -0.086983975\n",
       "ACOT8         0.376260596  0.12996406  0.656002686  0.117493484  0.005197521\n",
       "ABI1          0.203455201 -0.24756454  0.121482722 -0.130283028  0.326461966\n",
       "GNPDA1        0.133104046  0.07851000 -0.061568566 -0.169709061  0.162296563\n",
       "ZBTB33        0.059643693  0.14352866 -0.003086487  0.045416988  0.080881632\n",
       "CDH3         -0.007269109  0.02079848 -0.033307695 -0.067047635 -0.105967251\n",
       "TANK          0.066906361 -0.03227208  0.015979213 -0.082387112  0.258647735\n",
       "PRO0628       0.061262788 -0.03503015 -0.011825378  0.029936820  0.005602634\n",
       "LOC100127972 -0.075283327  0.13414709 -0.113167925  0.048128805 -0.031305717\n",
       "V18          -0.277186060 -0.01763481 -0.131678177 -0.527229225 -0.003815452\n",
       "SLC2A3P1      0.157395212 -0.03726581 -0.164746554 -0.291396307  0.026749201\n",
       "LOC100128414  0.019856054  0.09437486  0.049182544 -0.048698816  0.030767162\n",
       "RP11-257K9.7  0.152555733 -0.06600222 -0.063281128 -0.009369783 -0.000296293\n",
       "LOC100129250  0.038532395  0.10818719  0.002448462  0.033158505 -0.038139861\n",
       "C1orf68      -0.034066598 -0.08071469  0.042475347  0.140884903  0.309878873\n",
       "LOC100129361  0.299605563  0.52676986  0.787940924  0.480063088 -0.244389075\n",
       "LOC100129410  0.051235451 -0.02445258 -0.102122834 -0.027282522  0.079043025\n",
       "ZNF37B       -0.095320655  0.17141498 -0.110923171  0.015167261 -0.224420247\n",
       "LOC100129500 -0.070831695 -0.02052332 -0.054635666 -0.190897111  0.186597070\n",
       "LOC100129503 -0.327232797 -0.25821496 -0.168084974  0.382265722  0.115204863\n",
       "LOC100129656  0.010176657 -0.01132492 -0.014338042 -0.035218986  0.029460001\n",
       "LOC100129973  0.028115887  0.04630977  0.050092576 -0.088757171  0.015853398\n",
       "...          ...          ...         ...          ...          ...         \n",
       "MVP           0.041890479 -0.07668098 -0.081117289 -0.531818982  0.464885342\n",
       "SLC23A2       0.033353614 -0.01370678  0.035439029  0.030830983  0.005800146\n",
       "TNFSF15       0.049068219 -0.01578771  0.079964299 -0.017702497  0.025066725\n",
       "THRAP3       -0.178048139 -0.07018434  0.061300753  0.217905889 -0.117843414\n",
       "MED12        -0.192415104 -0.12788047 -0.280801553 -0.267490469 -0.003327409\n",
       "MED13        -0.085838996 -0.01034540 -0.236322922 -0.254555254 -0.159352415\n",
       "CDC34        -0.226722123  0.03848959  0.314923804  0.205347287  0.039518319\n",
       "NR1I3         0.114404072  0.10204678 -0.038655946  0.166131198  0.143668669\n",
       "NR1H4        -0.021348330  0.06990105  0.007716391 -0.001831174 -0.105210101\n",
       "NUP153        0.001640804 -0.29615530  0.180843835  0.066069923  0.033282190\n",
       "CCS          -0.058233126  0.03708175  0.162249439  0.257543098  0.059326026\n",
       "NR1D2         0.604064618  0.22424863  0.257155517  0.747909853 -0.038295477\n",
       "CLEC2B       -0.237736582  0.10893750 -0.431442804 -0.047871322  0.406301092\n",
       "RBX1          0.145310088  0.23368816  0.277548085  0.071083158  0.159745429\n",
       "CDC42         0.336847937  0.13131173  0.513747134  0.585701286  0.236108981\n",
       "DOPEY2        0.128083839 -0.18741841  0.267248587  0.127572449 -0.070850840\n",
       "FGFBP1       -0.092423579  0.24940898 -0.096369337  0.165640331 -0.038875667\n",
       "THOC1         0.164897071  0.28899817  0.084861040 -0.238854143 -0.056443398\n",
       "REC8         -0.065925135  0.13063082 -0.203350188  0.018120041 -0.023476441\n",
       "RCE1         -0.402398305 -0.21732347 -0.102603220 -0.095461975 -0.174129567\n",
       "HNRPDL        0.166615360 -0.05770758  0.065721277 -0.071772621  0.154387593\n",
       "DMTF1        -0.105800269  0.03701898 -0.079788035 -0.379251105 -0.297818316\n",
       "PPP4R1        0.107693867 -0.07707405 -0.100795217 -0.074810071  0.063512965\n",
       "CDH1          0.007571789  0.01244169 -0.099071650 -0.057222791  0.031847183\n",
       "SLC12A6       0.035210235  0.09741152  0.026151797  0.041835136 -0.219023444\n",
       "ROD1          0.035057504  0.05617818 -0.041422824 -0.018364623  0.018456913\n",
       "KCNE2        -0.168164083 -0.03406206 -0.043667821 -0.039348914 -0.118971407\n",
       "DGCR2        -0.228235465 -0.07522649  0.217150957 -0.125691864  0.041147842\n",
       "CASP8AP2     -0.001115140  0.01688473 -0.041097881 -0.047595524 -0.164508492\n",
       "SCO2          0.171073625  0.21944801  0.176078701 -0.018902780 -0.049030651\n",
       "             GroundTruth\n",
       "NAT2         0          \n",
       "ADA          0          \n",
       "CDH2         0          \n",
       "AKT3         0          \n",
       "MED6         0          \n",
       "NR2E3        0          \n",
       "NAALAD2      0          \n",
       "NAALADL1     0          \n",
       "CDKN2BAS     0          \n",
       "ACOT8        0          \n",
       "ABI1         0          \n",
       "GNPDA1       0          \n",
       "ZBTB33       0          \n",
       "CDH3         0          \n",
       "TANK         0          \n",
       "PRO0628      0          \n",
       "LOC100127972 0          \n",
       "V18          0          \n",
       "SLC2A3P1     0          \n",
       "LOC100128414 0          \n",
       "RP11-257K9.7 0          \n",
       "LOC100129250 0          \n",
       "C1orf68      0          \n",
       "LOC100129361 0          \n",
       "LOC100129410 0          \n",
       "ZNF37B       0          \n",
       "LOC100129500 0          \n",
       "LOC100129503 0          \n",
       "LOC100129656 0          \n",
       "LOC100129973 0          \n",
       "...          ...        \n",
       "MVP          0          \n",
       "SLC23A2      0          \n",
       "TNFSF15      0          \n",
       "THRAP3       0          \n",
       "MED12        0          \n",
       "MED13        0          \n",
       "CDC34        0          \n",
       "NR1I3        0          \n",
       "NR1H4        0          \n",
       "NUP153       0          \n",
       "CCS          0          \n",
       "NR1D2        0          \n",
       "CLEC2B       0          \n",
       "RBX1         0          \n",
       "CDC42        0          \n",
       "DOPEY2       0          \n",
       "FGFBP1       0          \n",
       "THOC1        0          \n",
       "REC8         0          \n",
       "RCE1         0          \n",
       "HNRPDL       0          \n",
       "DMTF1        0          \n",
       "PPP4R1       0          \n",
       "CDH1         0          \n",
       "SLC12A6      0          \n",
       "ROD1         0          \n",
       "KCNE2        0          \n",
       "DGCR2        0          \n",
       "CASP8AP2     0          \n",
       "SCO2         0          "
      ]
     },
     "metadata": {},
     "output_type": "display_data"
    }
   ],
   "source": []
  },
  {
   "cell_type": "code",
   "execution_count": null,
   "id": "555c8a04-5613-49f9-b329-8e6d5042ba18",
   "metadata": {},
   "outputs": [],
   "source": []
  }
 ],
 "metadata": {
  "kernelspec": {
   "display_name": "R",
   "language": "R",
   "name": "ir"
  },
  "language_info": {
   "codemirror_mode": "r",
   "file_extension": ".r",
   "mimetype": "text/x-r-source",
   "name": "R",
   "pygments_lexer": "r",
   "version": "4.2.1"
  }
 },
 "nbformat": 4,
 "nbformat_minor": 5
}
