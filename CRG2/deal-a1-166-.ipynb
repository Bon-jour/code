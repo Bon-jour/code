{
 "cells": [
  {
   "cell_type": "code",
   "execution_count": 41,
   "id": "d30ef6af-b03b-4bfd-8942-f872377486d7",
   "metadata": {},
   "outputs": [],
   "source": [
    "setwd('/import/DB/fel/BJTC-204')"
   ]
  },
  {
   "cell_type": "code",
   "execution_count": 42,
   "id": "c7ca3c4b-de9f-4b09-abac-53601d115715",
   "metadata": {},
   "outputs": [],
   "source": [
    "expr = read.table('./GPL17027.txt',header =T,sep = '\\t',check.names = F)"
   ]
  },
  {
   "cell_type": "code",
   "execution_count": 43,
   "id": "eda6ec85-38b5-49a1-a595-18e75f99c0f0",
   "metadata": {},
   "outputs": [
    {
     "data": {
      "text/html": [
       "<style>\n",
       ".list-inline {list-style: none; margin:0; padding: 0}\n",
       ".list-inline>li {display: inline-block}\n",
       ".list-inline>li:not(:last-child)::after {content: \"\\00b7\"; padding: 0 .5ex}\n",
       "</style>\n",
       "<ol class=list-inline><li>166</li><li>11979</li></ol>\n"
      ],
      "text/latex": [
       "\\begin{enumerate*}\n",
       "\\item 166\n",
       "\\item 11979\n",
       "\\end{enumerate*}\n"
      ],
      "text/markdown": [
       "1. 166\n",
       "2. 11979\n",
       "\n",
       "\n"
      ],
      "text/plain": [
       "[1]   166 11979"
      ]
     },
     "metadata": {},
     "output_type": "display_data"
    }
   ],
   "source": [
    "dim(expr)"
   ]
  },
  {
   "cell_type": "code",
   "execution_count": 44,
   "id": "b5a91cde-e39f-4b53-92a1-81170fd741a6",
   "metadata": {},
   "outputs": [
    {
     "data": {
      "text/html": [
       "<table class=\"dataframe\">\n",
       "<caption>A data.frame: 2 x 11979</caption>\n",
       "<thead>\n",
       "\t<tr><th></th><th scope=col>GSM</th><th scope=col>TYPE</th><th scope=col>PH</th><th scope=col>Gender</th><th scope=col>race</th><th scope=col>Age</th><th scope=col>10000_at</th><th scope=col>10001_at</th><th scope=col>10002_at</th><th scope=col>10003_at</th><th scope=col>...</th><th scope=col>AFFX-r2-Ec-bioD-3_at</th><th scope=col>AFFX-r2-Ec-bioD-5_at</th><th scope=col>AFFX-r2-P1-cre-3_at</th><th scope=col>AFFX-r2-P1-cre-5_at</th><th scope=col>AFFX-ThrX-3_at</th><th scope=col>AFFX-ThrX-5_at</th><th scope=col>AFFX-ThrX-M_at</th><th scope=col>AFFX-TrpnX-3_at</th><th scope=col>AFFX-TrpnX-5_at</th><th scope=col>AFFX-TrpnX-M_at</th></tr>\n",
       "\t<tr><th></th><th scope=col>&lt;chr&gt;</th><th scope=col>&lt;chr&gt;</th><th scope=col>&lt;dbl&gt;</th><th scope=col>&lt;chr&gt;</th><th scope=col>&lt;chr&gt;</th><th scope=col>&lt;int&gt;</th><th scope=col>&lt;dbl&gt;</th><th scope=col>&lt;dbl&gt;</th><th scope=col>&lt;dbl&gt;</th><th scope=col>&lt;dbl&gt;</th><th scope=col>...</th><th scope=col>&lt;dbl&gt;</th><th scope=col>&lt;dbl&gt;</th><th scope=col>&lt;dbl&gt;</th><th scope=col>&lt;dbl&gt;</th><th scope=col>&lt;dbl&gt;</th><th scope=col>&lt;dbl&gt;</th><th scope=col>&lt;dbl&gt;</th><th scope=col>&lt;dbl&gt;</th><th scope=col>&lt;dbl&gt;</th><th scope=col>&lt;dbl&gt;</th></tr>\n",
       "</thead>\n",
       "<tbody>\n",
       "\t<tr><th scope=row>1</th><td>GSM2431721</td><td>Control</td><td>6.97</td><td>M</td><td>Caucasian</td><td>32</td><td>5.293475</td><td>5.692741</td><td>5.395376</td><td>4.577602</td><td>...</td><td>10.30256</td><td>10.55791</td><td>12.53443</td><td>12.59092</td><td>5.114451</td><td>4.765792</td><td>4.564303</td><td>4.274956</td><td>4.542969</td><td>4.399185</td></tr>\n",
       "\t<tr><th scope=row>2</th><td>GSM2431722</td><td>Control</td><td>7.01</td><td>F</td><td>Caucasian</td><td>63</td><td>5.150656</td><td>5.525863</td><td>5.094417</td><td>4.551778</td><td>...</td><td>10.47679</td><td>10.69251</td><td>12.86738</td><td>12.71833</td><td>4.983718</td><td>4.545779</td><td>4.430805</td><td>4.199076</td><td>4.413532</td><td>4.407917</td></tr>\n",
       "</tbody>\n",
       "</table>\n"
      ],
      "text/latex": [
       "A data.frame: 2 x 11979\n",
       "\\begin{tabular}{r|lllllllllllllllllllll}\n",
       "  & GSM & TYPE & PH & Gender & race & Age & 10000\\_at & 10001\\_at & 10002\\_at & 10003\\_at & ... & AFFX-r2-Ec-bioD-3\\_at & AFFX-r2-Ec-bioD-5\\_at & AFFX-r2-P1-cre-3\\_at & AFFX-r2-P1-cre-5\\_at & AFFX-ThrX-3\\_at & AFFX-ThrX-5\\_at & AFFX-ThrX-M\\_at & AFFX-TrpnX-3\\_at & AFFX-TrpnX-5\\_at & AFFX-TrpnX-M\\_at\\\\\n",
       "  & <chr> & <chr> & <dbl> & <chr> & <chr> & <int> & <dbl> & <dbl> & <dbl> & <dbl> & ... & <dbl> & <dbl> & <dbl> & <dbl> & <dbl> & <dbl> & <dbl> & <dbl> & <dbl> & <dbl>\\\\\n",
       "\\hline\n",
       "\t1 & GSM2431721 & Control & 6.97 & M & Caucasian & 32 & 5.293475 & 5.692741 & 5.395376 & 4.577602 & ... & 10.30256 & 10.55791 & 12.53443 & 12.59092 & 5.114451 & 4.765792 & 4.564303 & 4.274956 & 4.542969 & 4.399185\\\\\n",
       "\t2 & GSM2431722 & Control & 7.01 & F & Caucasian & 63 & 5.150656 & 5.525863 & 5.094417 & 4.551778 & ... & 10.47679 & 10.69251 & 12.86738 & 12.71833 & 4.983718 & 4.545779 & 4.430805 & 4.199076 & 4.413532 & 4.407917\\\\\n",
       "\\end{tabular}\n"
      ],
      "text/markdown": [
       "\n",
       "A data.frame: 2 x 11979\n",
       "\n",
       "| <!--/--> | GSM &lt;chr&gt; | TYPE &lt;chr&gt; | PH &lt;dbl&gt; | Gender &lt;chr&gt; | race &lt;chr&gt; | Age &lt;int&gt; | 10000_at &lt;dbl&gt; | 10001_at &lt;dbl&gt; | 10002_at &lt;dbl&gt; | 10003_at &lt;dbl&gt; | ... ... | AFFX-r2-Ec-bioD-3_at &lt;dbl&gt; | AFFX-r2-Ec-bioD-5_at &lt;dbl&gt; | AFFX-r2-P1-cre-3_at &lt;dbl&gt; | AFFX-r2-P1-cre-5_at &lt;dbl&gt; | AFFX-ThrX-3_at &lt;dbl&gt; | AFFX-ThrX-5_at &lt;dbl&gt; | AFFX-ThrX-M_at &lt;dbl&gt; | AFFX-TrpnX-3_at &lt;dbl&gt; | AFFX-TrpnX-5_at &lt;dbl&gt; | AFFX-TrpnX-M_at &lt;dbl&gt; |\n",
       "|---|---|---|---|---|---|---|---|---|---|---|---|---|---|---|---|---|---|---|---|---|---|\n",
       "| 1 | GSM2431721 | Control | 6.97 | M | Caucasian | 32 | 5.293475 | 5.692741 | 5.395376 | 4.577602 | ... | 10.30256 | 10.55791 | 12.53443 | 12.59092 | 5.114451 | 4.765792 | 4.564303 | 4.274956 | 4.542969 | 4.399185 |\n",
       "| 2 | GSM2431722 | Control | 7.01 | F | Caucasian | 63 | 5.150656 | 5.525863 | 5.094417 | 4.551778 | ... | 10.47679 | 10.69251 | 12.86738 | 12.71833 | 4.983718 | 4.545779 | 4.430805 | 4.199076 | 4.413532 | 4.407917 |\n",
       "\n"
      ],
      "text/plain": [
       "  GSM        TYPE    PH   Gender race      Age 10000_at 10001_at 10002_at\n",
       "1 GSM2431721 Control 6.97 M      Caucasian 32  5.293475 5.692741 5.395376\n",
       "2 GSM2431722 Control 7.01 F      Caucasian 63  5.150656 5.525863 5.094417\n",
       "  10003_at ... AFFX-r2-Ec-bioD-3_at AFFX-r2-Ec-bioD-5_at AFFX-r2-P1-cre-3_at\n",
       "1 4.577602 ... 10.30256             10.55791             12.53443           \n",
       "2 4.551778 ... 10.47679             10.69251             12.86738           \n",
       "  AFFX-r2-P1-cre-5_at AFFX-ThrX-3_at AFFX-ThrX-5_at AFFX-ThrX-M_at\n",
       "1 12.59092            5.114451       4.765792       4.564303      \n",
       "2 12.71833            4.983718       4.545779       4.430805      \n",
       "  AFFX-TrpnX-3_at AFFX-TrpnX-5_at AFFX-TrpnX-M_at\n",
       "1 4.274956        4.542969        4.399185       \n",
       "2 4.199076        4.413532        4.407917       "
      ]
     },
     "metadata": {},
     "output_type": "display_data"
    }
   ],
   "source": [
    "head(expr,2)"
   ]
  },
  {
   "cell_type": "code",
   "execution_count": 45,
   "id": "00709e29-51ac-4da6-93be-e0839917e251",
   "metadata": {},
   "outputs": [],
   "source": [
    "library(dplyr)"
   ]
  },
  {
   "cell_type": "code",
   "execution_count": 46,
   "id": "3f6254ad-4b10-451f-a098-8608148118a2",
   "metadata": {},
   "outputs": [],
   "source": [
    "death = read.table('./table2.txt',header = T,sep = '\\t') %>%  dplyr::filter(GSM %in% expr$GSM)"
   ]
  },
  {
   "cell_type": "code",
   "execution_count": 47,
   "id": "bfeee80b-5d16-4486-9cea-a2156de9b2d7",
   "metadata": {},
   "outputs": [],
   "source": [
    "da = merge(death,expr,by = 'GSM')"
   ]
  },
  {
   "cell_type": "code",
   "execution_count": 48,
   "id": "cb02c56c-9bf7-481f-ad82-9f9ee7507465",
   "metadata": {},
   "outputs": [
    {
     "data": {
      "text/html": [
       "<table class=\"dataframe\">\n",
       "<caption>A data.frame: 2 x 11980</caption>\n",
       "<thead>\n",
       "\t<tr><th></th><th scope=col>GSM</th><th scope=col>death</th><th scope=col>TYPE</th><th scope=col>PH</th><th scope=col>Gender</th><th scope=col>race</th><th scope=col>Age</th><th scope=col>10000_at</th><th scope=col>10001_at</th><th scope=col>10002_at</th><th scope=col>...</th><th scope=col>AFFX-r2-Ec-bioD-3_at</th><th scope=col>AFFX-r2-Ec-bioD-5_at</th><th scope=col>AFFX-r2-P1-cre-3_at</th><th scope=col>AFFX-r2-P1-cre-5_at</th><th scope=col>AFFX-ThrX-3_at</th><th scope=col>AFFX-ThrX-5_at</th><th scope=col>AFFX-ThrX-M_at</th><th scope=col>AFFX-TrpnX-3_at</th><th scope=col>AFFX-TrpnX-5_at</th><th scope=col>AFFX-TrpnX-M_at</th></tr>\n",
       "\t<tr><th></th><th scope=col>&lt;chr&gt;</th><th scope=col>&lt;int&gt;</th><th scope=col>&lt;chr&gt;</th><th scope=col>&lt;dbl&gt;</th><th scope=col>&lt;chr&gt;</th><th scope=col>&lt;chr&gt;</th><th scope=col>&lt;int&gt;</th><th scope=col>&lt;dbl&gt;</th><th scope=col>&lt;dbl&gt;</th><th scope=col>&lt;dbl&gt;</th><th scope=col>...</th><th scope=col>&lt;dbl&gt;</th><th scope=col>&lt;dbl&gt;</th><th scope=col>&lt;dbl&gt;</th><th scope=col>&lt;dbl&gt;</th><th scope=col>&lt;dbl&gt;</th><th scope=col>&lt;dbl&gt;</th><th scope=col>&lt;dbl&gt;</th><th scope=col>&lt;dbl&gt;</th><th scope=col>&lt;dbl&gt;</th><th scope=col>&lt;dbl&gt;</th></tr>\n",
       "</thead>\n",
       "<tbody>\n",
       "\t<tr><th scope=row>1</th><td>GSM2431721</td><td>0</td><td>Control</td><td>6.97</td><td>M</td><td>Caucasian</td><td>32</td><td>5.293475</td><td>5.692741</td><td>5.395376</td><td>...</td><td>10.30256</td><td>10.55791</td><td>12.53443</td><td>12.59092</td><td>5.114451</td><td>4.765792</td><td>4.564303</td><td>4.274956</td><td>4.542969</td><td>4.399185</td></tr>\n",
       "\t<tr><th scope=row>2</th><td>GSM2431722</td><td>0</td><td>Control</td><td>7.01</td><td>F</td><td>Caucasian</td><td>63</td><td>5.150656</td><td>5.525863</td><td>5.094417</td><td>...</td><td>10.47679</td><td>10.69251</td><td>12.86738</td><td>12.71833</td><td>4.983718</td><td>4.545779</td><td>4.430805</td><td>4.199076</td><td>4.413532</td><td>4.407917</td></tr>\n",
       "</tbody>\n",
       "</table>\n"
      ],
      "text/latex": [
       "A data.frame: 2 x 11980\n",
       "\\begin{tabular}{r|lllllllllllllllllllll}\n",
       "  & GSM & death & TYPE & PH & Gender & race & Age & 10000\\_at & 10001\\_at & 10002\\_at & ... & AFFX-r2-Ec-bioD-3\\_at & AFFX-r2-Ec-bioD-5\\_at & AFFX-r2-P1-cre-3\\_at & AFFX-r2-P1-cre-5\\_at & AFFX-ThrX-3\\_at & AFFX-ThrX-5\\_at & AFFX-ThrX-M\\_at & AFFX-TrpnX-3\\_at & AFFX-TrpnX-5\\_at & AFFX-TrpnX-M\\_at\\\\\n",
       "  & <chr> & <int> & <chr> & <dbl> & <chr> & <chr> & <int> & <dbl> & <dbl> & <dbl> & ... & <dbl> & <dbl> & <dbl> & <dbl> & <dbl> & <dbl> & <dbl> & <dbl> & <dbl> & <dbl>\\\\\n",
       "\\hline\n",
       "\t1 & GSM2431721 & 0 & Control & 6.97 & M & Caucasian & 32 & 5.293475 & 5.692741 & 5.395376 & ... & 10.30256 & 10.55791 & 12.53443 & 12.59092 & 5.114451 & 4.765792 & 4.564303 & 4.274956 & 4.542969 & 4.399185\\\\\n",
       "\t2 & GSM2431722 & 0 & Control & 7.01 & F & Caucasian & 63 & 5.150656 & 5.525863 & 5.094417 & ... & 10.47679 & 10.69251 & 12.86738 & 12.71833 & 4.983718 & 4.545779 & 4.430805 & 4.199076 & 4.413532 & 4.407917\\\\\n",
       "\\end{tabular}\n"
      ],
      "text/markdown": [
       "\n",
       "A data.frame: 2 x 11980\n",
       "\n",
       "| <!--/--> | GSM &lt;chr&gt; | death &lt;int&gt; | TYPE &lt;chr&gt; | PH &lt;dbl&gt; | Gender &lt;chr&gt; | race &lt;chr&gt; | Age &lt;int&gt; | 10000_at &lt;dbl&gt; | 10001_at &lt;dbl&gt; | 10002_at &lt;dbl&gt; | ... ... | AFFX-r2-Ec-bioD-3_at &lt;dbl&gt; | AFFX-r2-Ec-bioD-5_at &lt;dbl&gt; | AFFX-r2-P1-cre-3_at &lt;dbl&gt; | AFFX-r2-P1-cre-5_at &lt;dbl&gt; | AFFX-ThrX-3_at &lt;dbl&gt; | AFFX-ThrX-5_at &lt;dbl&gt; | AFFX-ThrX-M_at &lt;dbl&gt; | AFFX-TrpnX-3_at &lt;dbl&gt; | AFFX-TrpnX-5_at &lt;dbl&gt; | AFFX-TrpnX-M_at &lt;dbl&gt; |\n",
       "|---|---|---|---|---|---|---|---|---|---|---|---|---|---|---|---|---|---|---|---|---|---|\n",
       "| 1 | GSM2431721 | 0 | Control | 6.97 | M | Caucasian | 32 | 5.293475 | 5.692741 | 5.395376 | ... | 10.30256 | 10.55791 | 12.53443 | 12.59092 | 5.114451 | 4.765792 | 4.564303 | 4.274956 | 4.542969 | 4.399185 |\n",
       "| 2 | GSM2431722 | 0 | Control | 7.01 | F | Caucasian | 63 | 5.150656 | 5.525863 | 5.094417 | ... | 10.47679 | 10.69251 | 12.86738 | 12.71833 | 4.983718 | 4.545779 | 4.430805 | 4.199076 | 4.413532 | 4.407917 |\n",
       "\n"
      ],
      "text/plain": [
       "  GSM        death TYPE    PH   Gender race      Age 10000_at 10001_at 10002_at\n",
       "1 GSM2431721 0     Control 6.97 M      Caucasian 32  5.293475 5.692741 5.395376\n",
       "2 GSM2431722 0     Control 7.01 F      Caucasian 63  5.150656 5.525863 5.094417\n",
       "  ... AFFX-r2-Ec-bioD-3_at AFFX-r2-Ec-bioD-5_at AFFX-r2-P1-cre-3_at\n",
       "1 ... 10.30256             10.55791             12.53443           \n",
       "2 ... 10.47679             10.69251             12.86738           \n",
       "  AFFX-r2-P1-cre-5_at AFFX-ThrX-3_at AFFX-ThrX-5_at AFFX-ThrX-M_at\n",
       "1 12.59092            5.114451       4.765792       4.564303      \n",
       "2 12.71833            4.983718       4.545779       4.430805      \n",
       "  AFFX-TrpnX-3_at AFFX-TrpnX-5_at AFFX-TrpnX-M_at\n",
       "1 4.274956        4.542969        4.399185       \n",
       "2 4.199076        4.413532        4.407917       "
      ]
     },
     "metadata": {},
     "output_type": "display_data"
    }
   ],
   "source": [
    "head(da,2)"
   ]
  },
  {
   "cell_type": "code",
   "execution_count": 49,
   "id": "30ade819-62d5-4b1a-a180-fd28c2ffce8c",
   "metadata": {},
   "outputs": [],
   "source": [
    "da2 = read.table('./GPL17027-2.txt',header =T,sep = '\\t',check.names = F)"
   ]
  },
  {
   "cell_type": "code",
   "execution_count": 50,
   "id": "ea3c86da-a528-4e33-a364-144179bbb1b9",
   "metadata": {},
   "outputs": [
    {
     "data": {
      "text/html": [
       "<table class=\"dataframe\">\n",
       "<caption>A data.frame: 2 x 11980</caption>\n",
       "<thead>\n",
       "\t<tr><th></th><th scope=col>GSM</th><th scope=col>death</th><th scope=col>TYPE</th><th scope=col>PH</th><th scope=col>Gender</th><th scope=col>race</th><th scope=col>Age</th><th scope=col>10000_at</th><th scope=col>10001_at</th><th scope=col>10002_at</th><th scope=col>...</th><th scope=col>AFFX-r2-Ec-bioD-3_at</th><th scope=col>AFFX-r2-Ec-bioD-5_at</th><th scope=col>AFFX-r2-P1-cre-3_at</th><th scope=col>AFFX-r2-P1-cre-5_at</th><th scope=col>AFFX-ThrX-3_at</th><th scope=col>AFFX-ThrX-5_at</th><th scope=col>AFFX-ThrX-M_at</th><th scope=col>AFFX-TrpnX-3_at</th><th scope=col>AFFX-TrpnX-5_at</th><th scope=col>AFFX-TrpnX-M_at</th></tr>\n",
       "\t<tr><th></th><th scope=col>&lt;chr&gt;</th><th scope=col>&lt;int&gt;</th><th scope=col>&lt;chr&gt;</th><th scope=col>&lt;dbl&gt;</th><th scope=col>&lt;chr&gt;</th><th scope=col>&lt;chr&gt;</th><th scope=col>&lt;int&gt;</th><th scope=col>&lt;dbl&gt;</th><th scope=col>&lt;dbl&gt;</th><th scope=col>&lt;dbl&gt;</th><th scope=col>...</th><th scope=col>&lt;dbl&gt;</th><th scope=col>&lt;dbl&gt;</th><th scope=col>&lt;dbl&gt;</th><th scope=col>&lt;dbl&gt;</th><th scope=col>&lt;dbl&gt;</th><th scope=col>&lt;dbl&gt;</th><th scope=col>&lt;dbl&gt;</th><th scope=col>&lt;dbl&gt;</th><th scope=col>&lt;dbl&gt;</th><th scope=col>&lt;dbl&gt;</th></tr>\n",
       "</thead>\n",
       "<tbody>\n",
       "\t<tr><th scope=row>1</th><td>GSM2431799</td><td>0</td><td>Control</td><td>6.55</td><td>F</td><td>Caucasian</td><td>68</td><td>5.534668</td><td>5.952226</td><td>5.045592</td><td>...</td><td>12.18732</td><td>11.60957</td><td>13.36171</td><td>13.11999</td><td>4.880530</td><td>4.560711</td><td>4.253180</td><td>4.152873</td><td>4.328006</td><td>4.325865</td></tr>\n",
       "\t<tr><th scope=row>2</th><td>GSM2431808</td><td>0</td><td>Control</td><td>7.21</td><td>F</td><td>Caucasian</td><td>73</td><td>5.547804</td><td>5.819636</td><td>4.964849</td><td>...</td><td>12.38909</td><td>11.95987</td><td>13.41210</td><td>13.17940</td><td>4.945355</td><td>4.437414</td><td>4.264888</td><td>4.134458</td><td>4.384143</td><td>4.342865</td></tr>\n",
       "</tbody>\n",
       "</table>\n"
      ],
      "text/latex": [
       "A data.frame: 2 x 11980\n",
       "\\begin{tabular}{r|lllllllllllllllllllll}\n",
       "  & GSM & death & TYPE & PH & Gender & race & Age & 10000\\_at & 10001\\_at & 10002\\_at & ... & AFFX-r2-Ec-bioD-3\\_at & AFFX-r2-Ec-bioD-5\\_at & AFFX-r2-P1-cre-3\\_at & AFFX-r2-P1-cre-5\\_at & AFFX-ThrX-3\\_at & AFFX-ThrX-5\\_at & AFFX-ThrX-M\\_at & AFFX-TrpnX-3\\_at & AFFX-TrpnX-5\\_at & AFFX-TrpnX-M\\_at\\\\\n",
       "  & <chr> & <int> & <chr> & <dbl> & <chr> & <chr> & <int> & <dbl> & <dbl> & <dbl> & ... & <dbl> & <dbl> & <dbl> & <dbl> & <dbl> & <dbl> & <dbl> & <dbl> & <dbl> & <dbl>\\\\\n",
       "\\hline\n",
       "\t1 & GSM2431799 & 0 & Control & 6.55 & F & Caucasian & 68 & 5.534668 & 5.952226 & 5.045592 & ... & 12.18732 & 11.60957 & 13.36171 & 13.11999 & 4.880530 & 4.560711 & 4.253180 & 4.152873 & 4.328006 & 4.325865\\\\\n",
       "\t2 & GSM2431808 & 0 & Control & 7.21 & F & Caucasian & 73 & 5.547804 & 5.819636 & 4.964849 & ... & 12.38909 & 11.95987 & 13.41210 & 13.17940 & 4.945355 & 4.437414 & 4.264888 & 4.134458 & 4.384143 & 4.342865\\\\\n",
       "\\end{tabular}\n"
      ],
      "text/markdown": [
       "\n",
       "A data.frame: 2 x 11980\n",
       "\n",
       "| <!--/--> | GSM &lt;chr&gt; | death &lt;int&gt; | TYPE &lt;chr&gt; | PH &lt;dbl&gt; | Gender &lt;chr&gt; | race &lt;chr&gt; | Age &lt;int&gt; | 10000_at &lt;dbl&gt; | 10001_at &lt;dbl&gt; | 10002_at &lt;dbl&gt; | ... ... | AFFX-r2-Ec-bioD-3_at &lt;dbl&gt; | AFFX-r2-Ec-bioD-5_at &lt;dbl&gt; | AFFX-r2-P1-cre-3_at &lt;dbl&gt; | AFFX-r2-P1-cre-5_at &lt;dbl&gt; | AFFX-ThrX-3_at &lt;dbl&gt; | AFFX-ThrX-5_at &lt;dbl&gt; | AFFX-ThrX-M_at &lt;dbl&gt; | AFFX-TrpnX-3_at &lt;dbl&gt; | AFFX-TrpnX-5_at &lt;dbl&gt; | AFFX-TrpnX-M_at &lt;dbl&gt; |\n",
       "|---|---|---|---|---|---|---|---|---|---|---|---|---|---|---|---|---|---|---|---|---|---|\n",
       "| 1 | GSM2431799 | 0 | Control | 6.55 | F | Caucasian | 68 | 5.534668 | 5.952226 | 5.045592 | ... | 12.18732 | 11.60957 | 13.36171 | 13.11999 | 4.880530 | 4.560711 | 4.253180 | 4.152873 | 4.328006 | 4.325865 |\n",
       "| 2 | GSM2431808 | 0 | Control | 7.21 | F | Caucasian | 73 | 5.547804 | 5.819636 | 4.964849 | ... | 12.38909 | 11.95987 | 13.41210 | 13.17940 | 4.945355 | 4.437414 | 4.264888 | 4.134458 | 4.384143 | 4.342865 |\n",
       "\n"
      ],
      "text/plain": [
       "  GSM        death TYPE    PH   Gender race      Age 10000_at 10001_at 10002_at\n",
       "1 GSM2431799 0     Control 6.55 F      Caucasian 68  5.534668 5.952226 5.045592\n",
       "2 GSM2431808 0     Control 7.21 F      Caucasian 73  5.547804 5.819636 4.964849\n",
       "  ... AFFX-r2-Ec-bioD-3_at AFFX-r2-Ec-bioD-5_at AFFX-r2-P1-cre-3_at\n",
       "1 ... 12.18732             11.60957             13.36171           \n",
       "2 ... 12.38909             11.95987             13.41210           \n",
       "  AFFX-r2-P1-cre-5_at AFFX-ThrX-3_at AFFX-ThrX-5_at AFFX-ThrX-M_at\n",
       "1 13.11999            4.880530       4.560711       4.253180      \n",
       "2 13.17940            4.945355       4.437414       4.264888      \n",
       "  AFFX-TrpnX-3_at AFFX-TrpnX-5_at AFFX-TrpnX-M_at\n",
       "1 4.152873        4.328006        4.325865       \n",
       "2 4.134458        4.384143        4.342865       "
      ]
     },
     "metadata": {},
     "output_type": "display_data"
    }
   ],
   "source": [
    "head(da2,2)"
   ]
  },
  {
   "cell_type": "code",
   "execution_count": 51,
   "id": "67cd24c7-9db9-417b-b3b5-e5fdcc0a8289",
   "metadata": {},
   "outputs": [
    {
     "data": {
      "text/html": [
       "<style>\n",
       ".list-inline {list-style: none; margin:0; padding: 0}\n",
       ".list-inline>li {display: inline-block}\n",
       ".list-inline>li:not(:last-child)::after {content: \"\\00b7\"; padding: 0 .5ex}\n",
       "</style>\n",
       "<ol class=list-inline><li>166</li><li>11980</li></ol>\n"
      ],
      "text/latex": [
       "\\begin{enumerate*}\n",
       "\\item 166\n",
       "\\item 11980\n",
       "\\end{enumerate*}\n"
      ],
      "text/markdown": [
       "1. 166\n",
       "2. 11980\n",
       "\n",
       "\n"
      ],
      "text/plain": [
       "[1]   166 11980"
      ]
     },
     "metadata": {},
     "output_type": "display_data"
    }
   ],
   "source": [
    "dim(da)"
   ]
  },
  {
   "cell_type": "code",
   "execution_count": 52,
   "id": "da49a047-c4c8-4f27-9136-0c8ddd77b439",
   "metadata": {},
   "outputs": [
    {
     "data": {
      "text/html": [
       "<style>\n",
       ".list-inline {list-style: none; margin:0; padding: 0}\n",
       ".list-inline>li {display: inline-block}\n",
       ".list-inline>li:not(:last-child)::after {content: \"\\00b7\"; padding: 0 .5ex}\n",
       "</style>\n",
       "<ol class=list-inline><li>85</li><li>11980</li></ol>\n"
      ],
      "text/latex": [
       "\\begin{enumerate*}\n",
       "\\item 85\n",
       "\\item 11980\n",
       "\\end{enumerate*}\n"
      ],
      "text/markdown": [
       "1. 85\n",
       "2. 11980\n",
       "\n",
       "\n"
      ],
      "text/plain": [
       "[1]    85 11980"
      ]
     },
     "metadata": {},
     "output_type": "display_data"
    }
   ],
   "source": [
    "dim(da2)"
   ]
  },
  {
   "cell_type": "code",
   "execution_count": 53,
   "id": "02798efe-c1f2-4572-b0a3-53455aa96abd",
   "metadata": {},
   "outputs": [],
   "source": [
    "da3 = rbind(da,da2)"
   ]
  },
  {
   "cell_type": "code",
   "execution_count": 54,
   "id": "117d2040-9a5c-4593-a325-0ae683d381e2",
   "metadata": {},
   "outputs": [
    {
     "data": {
      "text/html": [
       "251"
      ],
      "text/latex": [
       "251"
      ],
      "text/markdown": [
       "251"
      ],
      "text/plain": [
       "[1] 251"
      ]
     },
     "metadata": {},
     "output_type": "display_data"
    }
   ],
   "source": [
    "length(unique(da3$GSM))"
   ]
  },
  {
   "cell_type": "code",
   "execution_count": 55,
   "id": "326e85a9-da7e-4f1c-8069-e3f8d6fbb57b",
   "metadata": {},
   "outputs": [],
   "source": [
    "expr = da3"
   ]
  },
  {
   "cell_type": "code",
   "execution_count": 56,
   "id": "6da386e3-ade7-4cf6-a7a7-f9dc30188094",
   "metadata": {},
   "outputs": [
    {
     "data": {
      "text/html": [
       "<style>\n",
       ".list-inline {list-style: none; margin:0; padding: 0}\n",
       ".list-inline>li {display: inline-block}\n",
       ".list-inline>li:not(:last-child)::after {content: \"\\00b7\"; padding: 0 .5ex}\n",
       "</style>\n",
       "<ol class=list-inline><li>166</li><li>11980</li></ol>\n"
      ],
      "text/latex": [
       "\\begin{enumerate*}\n",
       "\\item 166\n",
       "\\item 11980\n",
       "\\end{enumerate*}\n"
      ],
      "text/markdown": [
       "1. 166\n",
       "2. 11980\n",
       "\n",
       "\n"
      ],
      "text/plain": [
       "[1]   166 11980"
      ]
     },
     "metadata": {},
     "output_type": "display_data"
    }
   ],
   "source": [
    "dim(da)"
   ]
  },
  {
   "cell_type": "code",
   "execution_count": 57,
   "id": "55b5253b-cdad-47db-ae64-8d85e42d3257",
   "metadata": {},
   "outputs": [],
   "source": [
    "rownames(expr) = expr[,1]\n",
    "expr = expr[,-1]"
   ]
  },
  {
   "cell_type": "code",
   "execution_count": 58,
   "id": "86da7684-c495-4501-bdc4-d32109156c6b",
   "metadata": {},
   "outputs": [],
   "source": [
    "info = expr[,1:6]"
   ]
  },
  {
   "cell_type": "code",
   "execution_count": 59,
   "id": "797f719f-8ae7-4b79-b3fb-2e0859a352b8",
   "metadata": {},
   "outputs": [
    {
     "data": {
      "text/html": [
       "<table class=\"dataframe\">\n",
       "<caption>A data.frame: 2 x 6</caption>\n",
       "<thead>\n",
       "\t<tr><th></th><th scope=col>death</th><th scope=col>TYPE</th><th scope=col>PH</th><th scope=col>Gender</th><th scope=col>race</th><th scope=col>Age</th></tr>\n",
       "\t<tr><th></th><th scope=col>&lt;int&gt;</th><th scope=col>&lt;chr&gt;</th><th scope=col>&lt;dbl&gt;</th><th scope=col>&lt;chr&gt;</th><th scope=col>&lt;chr&gt;</th><th scope=col>&lt;int&gt;</th></tr>\n",
       "</thead>\n",
       "<tbody>\n",
       "\t<tr><th scope=row>GSM2431721</th><td>0</td><td>Control</td><td>6.97</td><td>M</td><td>Caucasian</td><td>32</td></tr>\n",
       "\t<tr><th scope=row>GSM2431722</th><td>0</td><td>Control</td><td>7.01</td><td>F</td><td>Caucasian</td><td>63</td></tr>\n",
       "</tbody>\n",
       "</table>\n"
      ],
      "text/latex": [
       "A data.frame: 2 x 6\n",
       "\\begin{tabular}{r|llllll}\n",
       "  & death & TYPE & PH & Gender & race & Age\\\\\n",
       "  & <int> & <chr> & <dbl> & <chr> & <chr> & <int>\\\\\n",
       "\\hline\n",
       "\tGSM2431721 & 0 & Control & 6.97 & M & Caucasian & 32\\\\\n",
       "\tGSM2431722 & 0 & Control & 7.01 & F & Caucasian & 63\\\\\n",
       "\\end{tabular}\n"
      ],
      "text/markdown": [
       "\n",
       "A data.frame: 2 x 6\n",
       "\n",
       "| <!--/--> | death &lt;int&gt; | TYPE &lt;chr&gt; | PH &lt;dbl&gt; | Gender &lt;chr&gt; | race &lt;chr&gt; | Age &lt;int&gt; |\n",
       "|---|---|---|---|---|---|---|\n",
       "| GSM2431721 | 0 | Control | 6.97 | M | Caucasian | 32 |\n",
       "| GSM2431722 | 0 | Control | 7.01 | F | Caucasian | 63 |\n",
       "\n"
      ],
      "text/plain": [
       "           death TYPE    PH   Gender race      Age\n",
       "GSM2431721 0     Control 6.97 M      Caucasian 32 \n",
       "GSM2431722 0     Control 7.01 F      Caucasian 63 "
      ]
     },
     "metadata": {},
     "output_type": "display_data"
    }
   ],
   "source": [
    "head(info,2)"
   ]
  },
  {
   "cell_type": "code",
   "execution_count": 60,
   "id": "2fae9fd3-944f-4c5f-bf06-2678a2de9bd5",
   "metadata": {},
   "outputs": [
    {
     "data": {
      "text/html": [
       "<style>\n",
       ".list-inline {list-style: none; margin:0; padding: 0}\n",
       ".list-inline>li {display: inline-block}\n",
       ".list-inline>li:not(:last-child)::after {content: \"\\00b7\"; padding: 0 .5ex}\n",
       "</style>\n",
       "<ol class=list-inline><li>251</li><li>11979</li></ol>\n"
      ],
      "text/latex": [
       "\\begin{enumerate*}\n",
       "\\item 251\n",
       "\\item 11979\n",
       "\\end{enumerate*}\n"
      ],
      "text/markdown": [
       "1. 251\n",
       "2. 11979\n",
       "\n",
       "\n"
      ],
      "text/plain": [
       "[1]   251 11979"
      ]
     },
     "metadata": {},
     "output_type": "display_data"
    }
   ],
   "source": [
    "dim(expr)"
   ]
  },
  {
   "cell_type": "code",
   "execution_count": 61,
   "id": "6c51b853-0bb7-426e-af24-1fad052b3cf2",
   "metadata": {},
   "outputs": [
    {
     "data": {
      "text/plain": [
       "\n",
       "Control     MDD \n",
       "    175      76 "
      ]
     },
     "metadata": {},
     "output_type": "display_data"
    }
   ],
   "source": [
    "table(info$TYPE)"
   ]
  },
  {
   "cell_type": "code",
   "execution_count": 62,
   "id": "62d7cb23-4e5b-4552-bd91-40846415d710",
   "metadata": {},
   "outputs": [],
   "source": [
    "exp = expr[,7:11979] %>% t() %>%  as.data.frame() %>%  tibble::rownames_to_column(.,'ID')"
   ]
  },
  {
   "cell_type": "code",
   "execution_count": 63,
   "id": "a8c9c142-4c9f-467f-9b6e-6145fc321566",
   "metadata": {},
   "outputs": [
    {
     "data": {
      "text/html": [
       "<table class=\"dataframe\">\n",
       "<caption>A data.frame: 2 x 252</caption>\n",
       "<thead>\n",
       "\t<tr><th></th><th scope=col>ID</th><th scope=col>GSM2431721</th><th scope=col>GSM2431722</th><th scope=col>GSM2431723</th><th scope=col>GSM2431726</th><th scope=col>GSM2431727</th><th scope=col>GSM2431728</th><th scope=col>GSM2431731</th><th scope=col>GSM2431734</th><th scope=col>GSM2431735</th><th scope=col>...</th><th scope=col>GSM2431958</th><th scope=col>GSM2431959</th><th scope=col>GSM2431969</th><th scope=col>GSM2431970</th><th scope=col>GSM2431995</th><th scope=col>GSM2432065</th><th scope=col>GSM2432068</th><th scope=col>GSM2432070</th><th scope=col>GSM2432077</th><th scope=col>GSM2432081</th></tr>\n",
       "\t<tr><th></th><th scope=col>&lt;chr&gt;</th><th scope=col>&lt;dbl&gt;</th><th scope=col>&lt;dbl&gt;</th><th scope=col>&lt;dbl&gt;</th><th scope=col>&lt;dbl&gt;</th><th scope=col>&lt;dbl&gt;</th><th scope=col>&lt;dbl&gt;</th><th scope=col>&lt;dbl&gt;</th><th scope=col>&lt;dbl&gt;</th><th scope=col>&lt;dbl&gt;</th><th scope=col>...</th><th scope=col>&lt;dbl&gt;</th><th scope=col>&lt;dbl&gt;</th><th scope=col>&lt;dbl&gt;</th><th scope=col>&lt;dbl&gt;</th><th scope=col>&lt;dbl&gt;</th><th scope=col>&lt;dbl&gt;</th><th scope=col>&lt;dbl&gt;</th><th scope=col>&lt;dbl&gt;</th><th scope=col>&lt;dbl&gt;</th><th scope=col>&lt;dbl&gt;</th></tr>\n",
       "</thead>\n",
       "<tbody>\n",
       "\t<tr><th scope=row>1</th><td>10000_at</td><td>5.293475</td><td>5.150656</td><td>5.221224</td><td>5.653483</td><td>5.022664</td><td>5.331675</td><td>5.324332</td><td>4.909831</td><td>4.789077</td><td>...</td><td>4.866788</td><td>5.042578</td><td>4.919501</td><td>5.035228</td><td>4.965306</td><td>5.224493</td><td>5.070423</td><td>5.045179</td><td>4.963966</td><td>4.948279</td></tr>\n",
       "\t<tr><th scope=row>2</th><td>10001_at</td><td>5.692741</td><td>5.525863</td><td>5.353248</td><td>5.297997</td><td>5.586159</td><td>5.610716</td><td>5.849680</td><td>5.516485</td><td>5.722200</td><td>...</td><td>6.006612</td><td>6.396482</td><td>5.532209</td><td>6.337287</td><td>5.667979</td><td>6.377386</td><td>5.815019</td><td>5.965133</td><td>5.393812</td><td>6.163521</td></tr>\n",
       "</tbody>\n",
       "</table>\n"
      ],
      "text/latex": [
       "A data.frame: 2 x 252\n",
       "\\begin{tabular}{r|lllllllllllllllllllll}\n",
       "  & ID & GSM2431721 & GSM2431722 & GSM2431723 & GSM2431726 & GSM2431727 & GSM2431728 & GSM2431731 & GSM2431734 & GSM2431735 & ... & GSM2431958 & GSM2431959 & GSM2431969 & GSM2431970 & GSM2431995 & GSM2432065 & GSM2432068 & GSM2432070 & GSM2432077 & GSM2432081\\\\\n",
       "  & <chr> & <dbl> & <dbl> & <dbl> & <dbl> & <dbl> & <dbl> & <dbl> & <dbl> & <dbl> & ... & <dbl> & <dbl> & <dbl> & <dbl> & <dbl> & <dbl> & <dbl> & <dbl> & <dbl> & <dbl>\\\\\n",
       "\\hline\n",
       "\t1 & 10000\\_at & 5.293475 & 5.150656 & 5.221224 & 5.653483 & 5.022664 & 5.331675 & 5.324332 & 4.909831 & 4.789077 & ... & 4.866788 & 5.042578 & 4.919501 & 5.035228 & 4.965306 & 5.224493 & 5.070423 & 5.045179 & 4.963966 & 4.948279\\\\\n",
       "\t2 & 10001\\_at & 5.692741 & 5.525863 & 5.353248 & 5.297997 & 5.586159 & 5.610716 & 5.849680 & 5.516485 & 5.722200 & ... & 6.006612 & 6.396482 & 5.532209 & 6.337287 & 5.667979 & 6.377386 & 5.815019 & 5.965133 & 5.393812 & 6.163521\\\\\n",
       "\\end{tabular}\n"
      ],
      "text/markdown": [
       "\n",
       "A data.frame: 2 x 252\n",
       "\n",
       "| <!--/--> | ID &lt;chr&gt; | GSM2431721 &lt;dbl&gt; | GSM2431722 &lt;dbl&gt; | GSM2431723 &lt;dbl&gt; | GSM2431726 &lt;dbl&gt; | GSM2431727 &lt;dbl&gt; | GSM2431728 &lt;dbl&gt; | GSM2431731 &lt;dbl&gt; | GSM2431734 &lt;dbl&gt; | GSM2431735 &lt;dbl&gt; | ... ... | GSM2431958 &lt;dbl&gt; | GSM2431959 &lt;dbl&gt; | GSM2431969 &lt;dbl&gt; | GSM2431970 &lt;dbl&gt; | GSM2431995 &lt;dbl&gt; | GSM2432065 &lt;dbl&gt; | GSM2432068 &lt;dbl&gt; | GSM2432070 &lt;dbl&gt; | GSM2432077 &lt;dbl&gt; | GSM2432081 &lt;dbl&gt; |\n",
       "|---|---|---|---|---|---|---|---|---|---|---|---|---|---|---|---|---|---|---|---|---|---|\n",
       "| 1 | 10000_at | 5.293475 | 5.150656 | 5.221224 | 5.653483 | 5.022664 | 5.331675 | 5.324332 | 4.909831 | 4.789077 | ... | 4.866788 | 5.042578 | 4.919501 | 5.035228 | 4.965306 | 5.224493 | 5.070423 | 5.045179 | 4.963966 | 4.948279 |\n",
       "| 2 | 10001_at | 5.692741 | 5.525863 | 5.353248 | 5.297997 | 5.586159 | 5.610716 | 5.849680 | 5.516485 | 5.722200 | ... | 6.006612 | 6.396482 | 5.532209 | 6.337287 | 5.667979 | 6.377386 | 5.815019 | 5.965133 | 5.393812 | 6.163521 |\n",
       "\n"
      ],
      "text/plain": [
       "  ID       GSM2431721 GSM2431722 GSM2431723 GSM2431726 GSM2431727 GSM2431728\n",
       "1 10000_at 5.293475   5.150656   5.221224   5.653483   5.022664   5.331675  \n",
       "2 10001_at 5.692741   5.525863   5.353248   5.297997   5.586159   5.610716  \n",
       "  GSM2431731 GSM2431734 GSM2431735 ... GSM2431958 GSM2431959 GSM2431969\n",
       "1 5.324332   4.909831   4.789077   ... 4.866788   5.042578   4.919501  \n",
       "2 5.849680   5.516485   5.722200   ... 6.006612   6.396482   5.532209  \n",
       "  GSM2431970 GSM2431995 GSM2432065 GSM2432068 GSM2432070 GSM2432077 GSM2432081\n",
       "1 5.035228   4.965306   5.224493   5.070423   5.045179   4.963966   4.948279  \n",
       "2 6.337287   5.667979   6.377386   5.815019   5.965133   5.393812   6.163521  "
      ]
     },
     "metadata": {},
     "output_type": "display_data"
    }
   ],
   "source": [
    "head(exp,2)"
   ]
  },
  {
   "cell_type": "code",
   "execution_count": 64,
   "id": "f9b1bd20-742d-40fa-b533-02dabc66d31b",
   "metadata": {},
   "outputs": [
    {
     "data": {
      "text/html": [
       "<table class=\"dataframe\">\n",
       "<caption>A data.frame: 2 x 2</caption>\n",
       "<thead>\n",
       "\t<tr><th></th><th scope=col>ID</th><th scope=col>SYMBOL</th></tr>\n",
       "\t<tr><th></th><th scope=col>&lt;chr&gt;</th><th scope=col>&lt;chr&gt;</th></tr>\n",
       "</thead>\n",
       "<tbody>\n",
       "\t<tr><th scope=row>1</th><td>1_at </td><td>A1BG</td></tr>\n",
       "\t<tr><th scope=row>2</th><td>10_at</td><td>NAT2</td></tr>\n",
       "</tbody>\n",
       "</table>\n"
      ],
      "text/latex": [
       "A data.frame: 2 x 2\n",
       "\\begin{tabular}{r|ll}\n",
       "  & ID & SYMBOL\\\\\n",
       "  & <chr> & <chr>\\\\\n",
       "\\hline\n",
       "\t1 & 1\\_at  & A1BG\\\\\n",
       "\t2 & 10\\_at & NAT2\\\\\n",
       "\\end{tabular}\n"
      ],
      "text/markdown": [
       "\n",
       "A data.frame: 2 x 2\n",
       "\n",
       "| <!--/--> | ID &lt;chr&gt; | SYMBOL &lt;chr&gt; |\n",
       "|---|---|---|\n",
       "| 1 | 1_at  | A1BG |\n",
       "| 2 | 10_at | NAT2 |\n",
       "\n"
      ],
      "text/plain": [
       "  ID    SYMBOL\n",
       "1 1_at  A1BG  \n",
       "2 10_at NAT2  "
      ]
     },
     "metadata": {},
     "output_type": "display_data"
    }
   ],
   "source": [
    "probe = read.table('./probe.txt',header =T,sep = '\\t')\n",
    "\n",
    "head(probe,2)\n",
    "\n",
    "exp2 = left_join(probe,exp,by = 'ID') %>%  na.omit()  \n",
    "\n",
    "exp2 = exp2[!duplicated(exp2$SYMBOL),]\n",
    "\n",
    "rownames(exp2) = exp2[,2]\n",
    "exp3 = exp2[,-c(1,2)] %>% t() %>%   as.data.frame() %>%  tibble::rownames_to_column(.,'GSM')"
   ]
  },
  {
   "cell_type": "code",
   "execution_count": 65,
   "id": "050245e5-818c-4281-b6ec-9195f1689134",
   "metadata": {},
   "outputs": [
    {
     "data": {
      "text/html": [
       "<table class=\"dataframe\">\n",
       "<caption>A data.frame: 2 x 9</caption>\n",
       "<thead>\n",
       "\t<tr><th></th><th scope=col>SUBJECT</th><th scope=col>DIAGNOSIS</th><th scope=col>PH</th><th scope=col>GENDER</th><th scope=col>RACE</th><th scope=col>AGE</th><th scope=col>TOD</th><th scope=col>death</th><th scope=col>Toxicology</th></tr>\n",
       "\t<tr><th></th><th scope=col>&lt;int&gt;</th><th scope=col>&lt;chr&gt;</th><th scope=col>&lt;dbl&gt;</th><th scope=col>&lt;chr&gt;</th><th scope=col>&lt;chr&gt;</th><th scope=col>&lt;int&gt;</th><th scope=col>&lt;dbl&gt;</th><th scope=col>&lt;int&gt;</th><th scope=col>&lt;chr&gt;</th></tr>\n",
       "</thead>\n",
       "<tbody>\n",
       "\t<tr><th scope=row>2</th><td>54</td><td>Control</td><td>6.97</td><td>M</td><td>Caucasian</td><td>18</td><td>12.23</td><td>0</td><td></td></tr>\n",
       "\t<tr><th scope=row>4</th><td>52</td><td>Control</td><td>6.89</td><td>M</td><td>Caucasian</td><td>55</td><td>14.47</td><td>0</td><td></td></tr>\n",
       "</tbody>\n",
       "</table>\n"
      ],
      "text/latex": [
       "A data.frame: 2 x 9\n",
       "\\begin{tabular}{r|lllllllll}\n",
       "  & SUBJECT & DIAGNOSIS & PH & GENDER & RACE & AGE & TOD & death & Toxicology\\\\\n",
       "  & <int> & <chr> & <dbl> & <chr> & <chr> & <int> & <dbl> & <int> & <chr>\\\\\n",
       "\\hline\n",
       "\t2 & 54 & Control & 6.97 & M & Caucasian & 18 & 12.23 & 0 & \\\\\n",
       "\t4 & 52 & Control & 6.89 & M & Caucasian & 55 & 14.47 & 0 & \\\\\n",
       "\\end{tabular}\n"
      ],
      "text/markdown": [
       "\n",
       "A data.frame: 2 x 9\n",
       "\n",
       "| <!--/--> | SUBJECT &lt;int&gt; | DIAGNOSIS &lt;chr&gt; | PH &lt;dbl&gt; | GENDER &lt;chr&gt; | RACE &lt;chr&gt; | AGE &lt;int&gt; | TOD &lt;dbl&gt; | death &lt;int&gt; | Toxicology &lt;chr&gt; |\n",
       "|---|---|---|---|---|---|---|---|---|---|\n",
       "| 2 | 54 | Control | 6.97 | M | Caucasian | 18 | 12.23 | 0 | <!----> |\n",
       "| 4 | 52 | Control | 6.89 | M | Caucasian | 55 | 14.47 | 0 | <!----> |\n",
       "\n"
      ],
      "text/plain": [
       "  SUBJECT DIAGNOSIS PH   GENDER RACE      AGE TOD   death Toxicology\n",
       "2 54      Control   6.97 M      Caucasian 18  12.23 0               \n",
       "4 52      Control   6.89 M      Caucasian 55  14.47 0               "
      ]
     },
     "metadata": {},
     "output_type": "display_data"
    }
   ],
   "source": [
    "aaa2 = read.csv('./table1.csv',check.names = F)\n",
    "\n",
    "aaa2 = aaa2[ complete.cases(aaa2[ , c(7)]),]\n",
    "\n",
    "head(aaa2,2)"
   ]
  },
  {
   "cell_type": "code",
   "execution_count": 66,
   "id": "4babcdeb-541b-42cc-a4b9-90d595d6e549",
   "metadata": {},
   "outputs": [],
   "source": [
    "exp4 = cbind(info,exp3)"
   ]
  },
  {
   "cell_type": "code",
   "execution_count": 68,
   "id": "a1d6afa7-9a8d-4325-823a-ca4ac182610f",
   "metadata": {},
   "outputs": [],
   "source": [
    "save(exp4,file = 'exp4.rda')"
   ]
  },
  {
   "cell_type": "code",
   "execution_count": null,
   "id": "c5160c35-9348-489c-adf9-594410e2d187",
   "metadata": {},
   "outputs": [],
   "source": []
  },
  {
   "cell_type": "code",
   "execution_count": null,
   "id": "a10ac52a-13b6-443d-9acd-beebc8256121",
   "metadata": {},
   "outputs": [],
   "source": []
  },
  {
   "cell_type": "code",
   "execution_count": 28,
   "id": "98bed2c9-0a2c-4dfd-892e-b5225d6edadd",
   "metadata": {},
   "outputs": [],
   "source": [
    "colnames(aaa2)[2:6] = c('TYPE','PH','Gender','race','Age')"
   ]
  },
  {
   "cell_type": "code",
   "execution_count": 29,
   "id": "4351176d-d0f2-45d7-8c0a-84c94efd9148",
   "metadata": {},
   "outputs": [],
   "source": [
    "aaa2$TYPE = gsub('MD','MDD',aaa2$TYPE)"
   ]
  },
  {
   "cell_type": "code",
   "execution_count": 30,
   "id": "ecbab665-7059-4f3c-8488-fd283b31a20d",
   "metadata": {},
   "outputs": [
    {
     "data": {
      "text/html": [
       "<table class=\"dataframe\">\n",
       "<caption>A data.frame: 2 x 9</caption>\n",
       "<thead>\n",
       "\t<tr><th></th><th scope=col>SUBJECT</th><th scope=col>TYPE</th><th scope=col>PH</th><th scope=col>Gender</th><th scope=col>race</th><th scope=col>Age</th><th scope=col>TOD</th><th scope=col>death</th><th scope=col>Toxicology</th></tr>\n",
       "\t<tr><th></th><th scope=col>&lt;int&gt;</th><th scope=col>&lt;chr&gt;</th><th scope=col>&lt;dbl&gt;</th><th scope=col>&lt;chr&gt;</th><th scope=col>&lt;chr&gt;</th><th scope=col>&lt;int&gt;</th><th scope=col>&lt;dbl&gt;</th><th scope=col>&lt;int&gt;</th><th scope=col>&lt;chr&gt;</th></tr>\n",
       "</thead>\n",
       "<tbody>\n",
       "\t<tr><th scope=row>2</th><td>54</td><td>Control</td><td>6.97</td><td>M</td><td>Caucasian</td><td>18</td><td>12.23</td><td>0</td><td></td></tr>\n",
       "\t<tr><th scope=row>4</th><td>52</td><td>Control</td><td>6.89</td><td>M</td><td>Caucasian</td><td>55</td><td>14.47</td><td>0</td><td></td></tr>\n",
       "</tbody>\n",
       "</table>\n"
      ],
      "text/latex": [
       "A data.frame: 2 x 9\n",
       "\\begin{tabular}{r|lllllllll}\n",
       "  & SUBJECT & TYPE & PH & Gender & race & Age & TOD & death & Toxicology\\\\\n",
       "  & <int> & <chr> & <dbl> & <chr> & <chr> & <int> & <dbl> & <int> & <chr>\\\\\n",
       "\\hline\n",
       "\t2 & 54 & Control & 6.97 & M & Caucasian & 18 & 12.23 & 0 & \\\\\n",
       "\t4 & 52 & Control & 6.89 & M & Caucasian & 55 & 14.47 & 0 & \\\\\n",
       "\\end{tabular}\n"
      ],
      "text/markdown": [
       "\n",
       "A data.frame: 2 x 9\n",
       "\n",
       "| <!--/--> | SUBJECT &lt;int&gt; | TYPE &lt;chr&gt; | PH &lt;dbl&gt; | Gender &lt;chr&gt; | race &lt;chr&gt; | Age &lt;int&gt; | TOD &lt;dbl&gt; | death &lt;int&gt; | Toxicology &lt;chr&gt; |\n",
       "|---|---|---|---|---|---|---|---|---|---|\n",
       "| 2 | 54 | Control | 6.97 | M | Caucasian | 18 | 12.23 | 0 | <!----> |\n",
       "| 4 | 52 | Control | 6.89 | M | Caucasian | 55 | 14.47 | 0 | <!----> |\n",
       "\n"
      ],
      "text/plain": [
       "  SUBJECT TYPE    PH   Gender race      Age TOD   death Toxicology\n",
       "2 54      Control 6.97 M      Caucasian 18  12.23 0               \n",
       "4 52      Control 6.89 M      Caucasian 55  14.47 0               "
      ]
     },
     "metadata": {},
     "output_type": "display_data"
    }
   ],
   "source": [
    "head(aaa2,2)"
   ]
  },
  {
   "cell_type": "code",
   "execution_count": 31,
   "id": "5add28cc-950c-42f5-ba96-2bac12fec8be",
   "metadata": {},
   "outputs": [
    {
     "data": {
      "text/plain": [
       "\n",
       "Control     MDD \n",
       "     52      34 "
      ]
     },
     "metadata": {},
     "output_type": "display_data"
    }
   ],
   "source": [
    "table(aaa2$TYPE)"
   ]
  },
  {
   "cell_type": "code",
   "execution_count": 32,
   "id": "b36fe9ee-aa46-488d-910e-373af73eeca3",
   "metadata": {},
   "outputs": [
    {
     "data": {
      "text/html": [
       "<style>\n",
       ".list-inline {list-style: none; margin:0; padding: 0}\n",
       ".list-inline>li {display: inline-block}\n",
       ".list-inline>li:not(:last-child)::after {content: \"\\00b7\"; padding: 0 .5ex}\n",
       "</style>\n",
       "<ol class=list-inline><li>12.23</li><li>14.47</li><li>9.12</li><li>4.67</li><li>10.52</li><li>7.67</li><li>11.7</li><li>5.13</li><li>-5.98</li><li>7.28</li><li>14.85</li><li>2.25</li><li>-3.6</li><li>11.47</li><li>7.03</li><li>12.85</li><li>12.17</li><li>4.98</li><li>-4.33</li><li>2.23</li><li>11.83</li><li>16.93</li><li>2.35</li><li>5.2</li><li>0.25</li><li>9.67</li><li>14.77</li><li>12.17</li><li>8.7</li><li>14.13</li><li>7.33</li><li>11.52</li><li>-1.87</li><li>11.68</li><li>3.08</li><li>13.35</li><li>13.22</li><li>9.85</li><li>1.32</li><li>-2.97</li><li>2.27</li><li>7.65</li><li>7.93</li><li>12.55</li><li>3.62</li><li>-4.75</li><li>9.87</li><li>12.2</li><li>-5.02</li><li>0.92</li><li>-0.57</li><li>-0.63</li><li>9.47</li><li>14.68</li><li>7.18</li><li>1.17</li><li>5.48</li><li>6.32</li><li>-1.05</li><li>3.52</li><li>8.55</li><li>-1.02</li><li>3.25</li><li>-2.05</li><li>4.85</li><li>-4.72</li><li>11.17</li><li>5.58</li><li>5.98</li><li>6.5</li><li>15.3</li><li>-1.68</li><li>5.87</li><li>3.32</li><li>8.57</li><li>0.93</li><li>4.85</li><li>4.65</li><li>3.2</li><li>12.03</li><li>2.88</li><li>9.52</li><li>11.15</li><li>2.17</li><li>8.62</li><li>3.55</li></ol>\n"
      ],
      "text/latex": [
       "\\begin{enumerate*}\n",
       "\\item 12.23\n",
       "\\item 14.47\n",
       "\\item 9.12\n",
       "\\item 4.67\n",
       "\\item 10.52\n",
       "\\item 7.67\n",
       "\\item 11.7\n",
       "\\item 5.13\n",
       "\\item -5.98\n",
       "\\item 7.28\n",
       "\\item 14.85\n",
       "\\item 2.25\n",
       "\\item -3.6\n",
       "\\item 11.47\n",
       "\\item 7.03\n",
       "\\item 12.85\n",
       "\\item 12.17\n",
       "\\item 4.98\n",
       "\\item -4.33\n",
       "\\item 2.23\n",
       "\\item 11.83\n",
       "\\item 16.93\n",
       "\\item 2.35\n",
       "\\item 5.2\n",
       "\\item 0.25\n",
       "\\item 9.67\n",
       "\\item 14.77\n",
       "\\item 12.17\n",
       "\\item 8.7\n",
       "\\item 14.13\n",
       "\\item 7.33\n",
       "\\item 11.52\n",
       "\\item -1.87\n",
       "\\item 11.68\n",
       "\\item 3.08\n",
       "\\item 13.35\n",
       "\\item 13.22\n",
       "\\item 9.85\n",
       "\\item 1.32\n",
       "\\item -2.97\n",
       "\\item 2.27\n",
       "\\item 7.65\n",
       "\\item 7.93\n",
       "\\item 12.55\n",
       "\\item 3.62\n",
       "\\item -4.75\n",
       "\\item 9.87\n",
       "\\item 12.2\n",
       "\\item -5.02\n",
       "\\item 0.92\n",
       "\\item -0.57\n",
       "\\item -0.63\n",
       "\\item 9.47\n",
       "\\item 14.68\n",
       "\\item 7.18\n",
       "\\item 1.17\n",
       "\\item 5.48\n",
       "\\item 6.32\n",
       "\\item -1.05\n",
       "\\item 3.52\n",
       "\\item 8.55\n",
       "\\item -1.02\n",
       "\\item 3.25\n",
       "\\item -2.05\n",
       "\\item 4.85\n",
       "\\item -4.72\n",
       "\\item 11.17\n",
       "\\item 5.58\n",
       "\\item 5.98\n",
       "\\item 6.5\n",
       "\\item 15.3\n",
       "\\item -1.68\n",
       "\\item 5.87\n",
       "\\item 3.32\n",
       "\\item 8.57\n",
       "\\item 0.93\n",
       "\\item 4.85\n",
       "\\item 4.65\n",
       "\\item 3.2\n",
       "\\item 12.03\n",
       "\\item 2.88\n",
       "\\item 9.52\n",
       "\\item 11.15\n",
       "\\item 2.17\n",
       "\\item 8.62\n",
       "\\item 3.55\n",
       "\\end{enumerate*}\n"
      ],
      "text/markdown": [
       "1. 12.23\n",
       "2. 14.47\n",
       "3. 9.12\n",
       "4. 4.67\n",
       "5. 10.52\n",
       "6. 7.67\n",
       "7. 11.7\n",
       "8. 5.13\n",
       "9. -5.98\n",
       "10. 7.28\n",
       "11. 14.85\n",
       "12. 2.25\n",
       "13. -3.6\n",
       "14. 11.47\n",
       "15. 7.03\n",
       "16. 12.85\n",
       "17. 12.17\n",
       "18. 4.98\n",
       "19. -4.33\n",
       "20. 2.23\n",
       "21. 11.83\n",
       "22. 16.93\n",
       "23. 2.35\n",
       "24. 5.2\n",
       "25. 0.25\n",
       "26. 9.67\n",
       "27. 14.77\n",
       "28. 12.17\n",
       "29. 8.7\n",
       "30. 14.13\n",
       "31. 7.33\n",
       "32. 11.52\n",
       "33. -1.87\n",
       "34. 11.68\n",
       "35. 3.08\n",
       "36. 13.35\n",
       "37. 13.22\n",
       "38. 9.85\n",
       "39. 1.32\n",
       "40. -2.97\n",
       "41. 2.27\n",
       "42. 7.65\n",
       "43. 7.93\n",
       "44. 12.55\n",
       "45. 3.62\n",
       "46. -4.75\n",
       "47. 9.87\n",
       "48. 12.2\n",
       "49. -5.02\n",
       "50. 0.92\n",
       "51. -0.57\n",
       "52. -0.63\n",
       "53. 9.47\n",
       "54. 14.68\n",
       "55. 7.18\n",
       "56. 1.17\n",
       "57. 5.48\n",
       "58. 6.32\n",
       "59. -1.05\n",
       "60. 3.52\n",
       "61. 8.55\n",
       "62. -1.02\n",
       "63. 3.25\n",
       "64. -2.05\n",
       "65. 4.85\n",
       "66. -4.72\n",
       "67. 11.17\n",
       "68. 5.58\n",
       "69. 5.98\n",
       "70. 6.5\n",
       "71. 15.3\n",
       "72. -1.68\n",
       "73. 5.87\n",
       "74. 3.32\n",
       "75. 8.57\n",
       "76. 0.93\n",
       "77. 4.85\n",
       "78. 4.65\n",
       "79. 3.2\n",
       "80. 12.03\n",
       "81. 2.88\n",
       "82. 9.52\n",
       "83. 11.15\n",
       "84. 2.17\n",
       "85. 8.62\n",
       "86. 3.55\n",
       "\n",
       "\n"
      ],
      "text/plain": [
       " [1] 12.23 14.47  9.12  4.67 10.52  7.67 11.70  5.13 -5.98  7.28 14.85  2.25\n",
       "[13] -3.60 11.47  7.03 12.85 12.17  4.98 -4.33  2.23 11.83 16.93  2.35  5.20\n",
       "[25]  0.25  9.67 14.77 12.17  8.70 14.13  7.33 11.52 -1.87 11.68  3.08 13.35\n",
       "[37] 13.22  9.85  1.32 -2.97  2.27  7.65  7.93 12.55  3.62 -4.75  9.87 12.20\n",
       "[49] -5.02  0.92 -0.57 -0.63  9.47 14.68  7.18  1.17  5.48  6.32 -1.05  3.52\n",
       "[61]  8.55 -1.02  3.25 -2.05  4.85 -4.72 11.17  5.58  5.98  6.50 15.30 -1.68\n",
       "[73]  5.87  3.32  8.57  0.93  4.85  4.65  3.20 12.03  2.88  9.52 11.15  2.17\n",
       "[85]  8.62  3.55"
      ]
     },
     "metadata": {},
     "output_type": "display_data"
    }
   ],
   "source": [
    "aaa2$TOD"
   ]
  },
  {
   "cell_type": "code",
   "execution_count": 33,
   "id": "39708648-62a3-490b-a0ce-7fa0f7b8ca0f",
   "metadata": {},
   "outputs": [
    {
     "data": {
      "text/html": [
       "<style>\n",
       ".list-inline {list-style: none; margin:0; padding: 0}\n",
       ".list-inline>li {display: inline-block}\n",
       ".list-inline>li:not(:last-child)::after {content: \"\\00b7\"; padding: 0 .5ex}\n",
       "</style>\n",
       "<ol class=list-inline><li>'TYPE'</li><li>'PH'</li><li>'Gender'</li><li>'race'</li><li>'Age'</li></ol>\n"
      ],
      "text/latex": [
       "\\begin{enumerate*}\n",
       "\\item 'TYPE'\n",
       "\\item 'PH'\n",
       "\\item 'Gender'\n",
       "\\item 'race'\n",
       "\\item 'Age'\n",
       "\\end{enumerate*}\n"
      ],
      "text/markdown": [
       "1. 'TYPE'\n",
       "2. 'PH'\n",
       "3. 'Gender'\n",
       "4. 'race'\n",
       "5. 'Age'\n",
       "\n",
       "\n"
      ],
      "text/plain": [
       "[1] \"TYPE\"   \"PH\"     \"Gender\" \"race\"   \"Age\"   "
      ]
     },
     "metadata": {},
     "output_type": "display_data"
    }
   ],
   "source": [
    "colnames(aaa2)[2:6]"
   ]
  },
  {
   "cell_type": "code",
   "execution_count": 34,
   "id": "cd69c2c1-bb27-46b9-a852-96e3eb0b5ca3",
   "metadata": {
    "scrolled": true
   },
   "outputs": [
    {
     "data": {
      "text/html": [
       "<table class=\"dataframe\">\n",
       "<caption>A data.frame: 6 x 11882</caption>\n",
       "<thead>\n",
       "\t<tr><th></th><th scope=col>death</th><th scope=col>TYPE</th><th scope=col>PH</th><th scope=col>Gender</th><th scope=col>race</th><th scope=col>Age</th><th scope=col>GSM</th><th scope=col>NAT2</th><th scope=col>ADA</th><th scope=col>CDH2</th><th scope=col>...</th><th scope=col>HNRPDL</th><th scope=col>DMTF1</th><th scope=col>PPP4R1</th><th scope=col>CDH1</th><th scope=col>SLC12A6</th><th scope=col>ROD1</th><th scope=col>KCNE2</th><th scope=col>DGCR2</th><th scope=col>CASP8AP2</th><th scope=col>SCO2</th></tr>\n",
       "\t<tr><th></th><th scope=col>&lt;int&gt;</th><th scope=col>&lt;chr&gt;</th><th scope=col>&lt;dbl&gt;</th><th scope=col>&lt;chr&gt;</th><th scope=col>&lt;chr&gt;</th><th scope=col>&lt;int&gt;</th><th scope=col>&lt;chr&gt;</th><th scope=col>&lt;dbl&gt;</th><th scope=col>&lt;dbl&gt;</th><th scope=col>&lt;dbl&gt;</th><th scope=col>...</th><th scope=col>&lt;dbl&gt;</th><th scope=col>&lt;dbl&gt;</th><th scope=col>&lt;dbl&gt;</th><th scope=col>&lt;dbl&gt;</th><th scope=col>&lt;dbl&gt;</th><th scope=col>&lt;dbl&gt;</th><th scope=col>&lt;dbl&gt;</th><th scope=col>&lt;dbl&gt;</th><th scope=col>&lt;dbl&gt;</th><th scope=col>&lt;dbl&gt;</th></tr>\n",
       "</thead>\n",
       "<tbody>\n",
       "\t<tr><th scope=row>GSM2431721</th><td>0</td><td>Control</td><td>6.97</td><td>M</td><td>Caucasian</td><td>32</td><td>GSM2431721</td><td>6.918508</td><td>5.958536</td><td>7.389671</td><td>...</td><td>8.062601</td><td>8.039051</td><td>6.266754</td><td>4.402844</td><td>6.107446</td><td>5.091350</td><td>7.473668</td><td>7.085446</td><td>5.301909</td><td>5.986224</td></tr>\n",
       "\t<tr><th scope=row>GSM2431722</th><td>0</td><td>Control</td><td>7.01</td><td>F</td><td>Caucasian</td><td>63</td><td>GSM2431722</td><td>6.397328</td><td>6.113981</td><td>7.629390</td><td>...</td><td>9.066047</td><td>8.447141</td><td>6.887356</td><td>4.383695</td><td>5.726334</td><td>4.867468</td><td>7.710730</td><td>7.402328</td><td>5.598268</td><td>6.171961</td></tr>\n",
       "\t<tr><th scope=row>GSM2431723</th><td>0</td><td>Control</td><td>  NA</td><td>F</td><td>Caucasian</td><td>70</td><td>GSM2431723</td><td>6.814676</td><td>6.261580</td><td>7.571414</td><td>...</td><td>8.630200</td><td>8.170023</td><td>6.914393</td><td>4.441707</td><td>5.981377</td><td>4.979711</td><td>7.519356</td><td>7.314417</td><td>5.538427</td><td>5.854754</td></tr>\n",
       "\t<tr><th scope=row>GSM2431726</th><td>0</td><td>Control</td><td>  NA</td><td>M</td><td>Caucasian</td><td>71</td><td>GSM2431726</td><td>7.550068</td><td>6.640444</td><td>8.030948</td><td>...</td><td>6.794395</td><td>7.583125</td><td>6.374021</td><td>4.632824</td><td>6.542643</td><td>5.345686</td><td>8.181581</td><td>6.815460</td><td>5.552289</td><td>6.125526</td></tr>\n",
       "\t<tr><th scope=row>GSM2431727</th><td>0</td><td>Control</td><td>6.87</td><td>M</td><td>Caucasian</td><td>44</td><td>GSM2431727</td><td>6.336289</td><td>6.297053</td><td>7.947093</td><td>...</td><td>9.055285</td><td>8.653470</td><td>6.902694</td><td>4.552302</td><td>5.629537</td><td>5.043913</td><td>7.322026</td><td>7.413795</td><td>5.617718</td><td>5.891519</td></tr>\n",
       "\t<tr><th scope=row>GSM2431728</th><td>0</td><td>MDD    </td><td>7.05</td><td>M</td><td>Caucasian</td><td>66</td><td>GSM2431728</td><td>6.266404</td><td>5.972297</td><td>7.826966</td><td>...</td><td>8.993547</td><td>8.454228</td><td>6.859039</td><td>4.488690</td><td>5.823510</td><td>4.932490</td><td>7.483323</td><td>7.521739</td><td>5.512290</td><td>6.347157</td></tr>\n",
       "</tbody>\n",
       "</table>\n"
      ],
      "text/latex": [
       "A data.frame: 6 x 11882\n",
       "\\begin{tabular}{r|lllllllllllllllllllll}\n",
       "  & death & TYPE & PH & Gender & race & Age & GSM & NAT2 & ADA & CDH2 & ... & HNRPDL & DMTF1 & PPP4R1 & CDH1 & SLC12A6 & ROD1 & KCNE2 & DGCR2 & CASP8AP2 & SCO2\\\\\n",
       "  & <int> & <chr> & <dbl> & <chr> & <chr> & <int> & <chr> & <dbl> & <dbl> & <dbl> & ... & <dbl> & <dbl> & <dbl> & <dbl> & <dbl> & <dbl> & <dbl> & <dbl> & <dbl> & <dbl>\\\\\n",
       "\\hline\n",
       "\tGSM2431721 & 0 & Control & 6.97 & M & Caucasian & 32 & GSM2431721 & 6.918508 & 5.958536 & 7.389671 & ... & 8.062601 & 8.039051 & 6.266754 & 4.402844 & 6.107446 & 5.091350 & 7.473668 & 7.085446 & 5.301909 & 5.986224\\\\\n",
       "\tGSM2431722 & 0 & Control & 7.01 & F & Caucasian & 63 & GSM2431722 & 6.397328 & 6.113981 & 7.629390 & ... & 9.066047 & 8.447141 & 6.887356 & 4.383695 & 5.726334 & 4.867468 & 7.710730 & 7.402328 & 5.598268 & 6.171961\\\\\n",
       "\tGSM2431723 & 0 & Control &   NA & F & Caucasian & 70 & GSM2431723 & 6.814676 & 6.261580 & 7.571414 & ... & 8.630200 & 8.170023 & 6.914393 & 4.441707 & 5.981377 & 4.979711 & 7.519356 & 7.314417 & 5.538427 & 5.854754\\\\\n",
       "\tGSM2431726 & 0 & Control &   NA & M & Caucasian & 71 & GSM2431726 & 7.550068 & 6.640444 & 8.030948 & ... & 6.794395 & 7.583125 & 6.374021 & 4.632824 & 6.542643 & 5.345686 & 8.181581 & 6.815460 & 5.552289 & 6.125526\\\\\n",
       "\tGSM2431727 & 0 & Control & 6.87 & M & Caucasian & 44 & GSM2431727 & 6.336289 & 6.297053 & 7.947093 & ... & 9.055285 & 8.653470 & 6.902694 & 4.552302 & 5.629537 & 5.043913 & 7.322026 & 7.413795 & 5.617718 & 5.891519\\\\\n",
       "\tGSM2431728 & 0 & MDD     & 7.05 & M & Caucasian & 66 & GSM2431728 & 6.266404 & 5.972297 & 7.826966 & ... & 8.993547 & 8.454228 & 6.859039 & 4.488690 & 5.823510 & 4.932490 & 7.483323 & 7.521739 & 5.512290 & 6.347157\\\\\n",
       "\\end{tabular}\n"
      ],
      "text/markdown": [
       "\n",
       "A data.frame: 6 x 11882\n",
       "\n",
       "| <!--/--> | death &lt;int&gt; | TYPE &lt;chr&gt; | PH &lt;dbl&gt; | Gender &lt;chr&gt; | race &lt;chr&gt; | Age &lt;int&gt; | GSM &lt;chr&gt; | NAT2 &lt;dbl&gt; | ADA &lt;dbl&gt; | CDH2 &lt;dbl&gt; | ... ... | HNRPDL &lt;dbl&gt; | DMTF1 &lt;dbl&gt; | PPP4R1 &lt;dbl&gt; | CDH1 &lt;dbl&gt; | SLC12A6 &lt;dbl&gt; | ROD1 &lt;dbl&gt; | KCNE2 &lt;dbl&gt; | DGCR2 &lt;dbl&gt; | CASP8AP2 &lt;dbl&gt; | SCO2 &lt;dbl&gt; |\n",
       "|---|---|---|---|---|---|---|---|---|---|---|---|---|---|---|---|---|---|---|---|---|---|\n",
       "| GSM2431721 | 0 | Control | 6.97 | M | Caucasian | 32 | GSM2431721 | 6.918508 | 5.958536 | 7.389671 | ... | 8.062601 | 8.039051 | 6.266754 | 4.402844 | 6.107446 | 5.091350 | 7.473668 | 7.085446 | 5.301909 | 5.986224 |\n",
       "| GSM2431722 | 0 | Control | 7.01 | F | Caucasian | 63 | GSM2431722 | 6.397328 | 6.113981 | 7.629390 | ... | 9.066047 | 8.447141 | 6.887356 | 4.383695 | 5.726334 | 4.867468 | 7.710730 | 7.402328 | 5.598268 | 6.171961 |\n",
       "| GSM2431723 | 0 | Control |   NA | F | Caucasian | 70 | GSM2431723 | 6.814676 | 6.261580 | 7.571414 | ... | 8.630200 | 8.170023 | 6.914393 | 4.441707 | 5.981377 | 4.979711 | 7.519356 | 7.314417 | 5.538427 | 5.854754 |\n",
       "| GSM2431726 | 0 | Control |   NA | M | Caucasian | 71 | GSM2431726 | 7.550068 | 6.640444 | 8.030948 | ... | 6.794395 | 7.583125 | 6.374021 | 4.632824 | 6.542643 | 5.345686 | 8.181581 | 6.815460 | 5.552289 | 6.125526 |\n",
       "| GSM2431727 | 0 | Control | 6.87 | M | Caucasian | 44 | GSM2431727 | 6.336289 | 6.297053 | 7.947093 | ... | 9.055285 | 8.653470 | 6.902694 | 4.552302 | 5.629537 | 5.043913 | 7.322026 | 7.413795 | 5.617718 | 5.891519 |\n",
       "| GSM2431728 | 0 | MDD     | 7.05 | M | Caucasian | 66 | GSM2431728 | 6.266404 | 5.972297 | 7.826966 | ... | 8.993547 | 8.454228 | 6.859039 | 4.488690 | 5.823510 | 4.932490 | 7.483323 | 7.521739 | 5.512290 | 6.347157 |\n",
       "\n"
      ],
      "text/plain": [
       "           death TYPE    PH   Gender race      Age GSM        NAT2     ADA     \n",
       "GSM2431721 0     Control 6.97 M      Caucasian 32  GSM2431721 6.918508 5.958536\n",
       "GSM2431722 0     Control 7.01 F      Caucasian 63  GSM2431722 6.397328 6.113981\n",
       "GSM2431723 0     Control   NA F      Caucasian 70  GSM2431723 6.814676 6.261580\n",
       "GSM2431726 0     Control   NA M      Caucasian 71  GSM2431726 7.550068 6.640444\n",
       "GSM2431727 0     Control 6.87 M      Caucasian 44  GSM2431727 6.336289 6.297053\n",
       "GSM2431728 0     MDD     7.05 M      Caucasian 66  GSM2431728 6.266404 5.972297\n",
       "           CDH2     ... HNRPDL   DMTF1    PPP4R1   CDH1     SLC12A6  ROD1    \n",
       "GSM2431721 7.389671 ... 8.062601 8.039051 6.266754 4.402844 6.107446 5.091350\n",
       "GSM2431722 7.629390 ... 9.066047 8.447141 6.887356 4.383695 5.726334 4.867468\n",
       "GSM2431723 7.571414 ... 8.630200 8.170023 6.914393 4.441707 5.981377 4.979711\n",
       "GSM2431726 8.030948 ... 6.794395 7.583125 6.374021 4.632824 6.542643 5.345686\n",
       "GSM2431727 7.947093 ... 9.055285 8.653470 6.902694 4.552302 5.629537 5.043913\n",
       "GSM2431728 7.826966 ... 8.993547 8.454228 6.859039 4.488690 5.823510 4.932490\n",
       "           KCNE2    DGCR2    CASP8AP2 SCO2    \n",
       "GSM2431721 7.473668 7.085446 5.301909 5.986224\n",
       "GSM2431722 7.710730 7.402328 5.598268 6.171961\n",
       "GSM2431723 7.519356 7.314417 5.538427 5.854754\n",
       "GSM2431726 8.181581 6.815460 5.552289 6.125526\n",
       "GSM2431727 7.322026 7.413795 5.617718 5.891519\n",
       "GSM2431728 7.483323 7.521739 5.512290 6.347157"
      ]
     },
     "metadata": {},
     "output_type": "display_data"
    }
   ],
   "source": [
    "head(exp4)"
   ]
  },
  {
   "cell_type": "code",
   "execution_count": 35,
   "id": "dbdf4997-767c-4ff0-a67c-e47df4c0e4d5",
   "metadata": {},
   "outputs": [],
   "source": [
    "exp5 = merge(aaa2, exp4, by = c('TYPE','PH','Gender','race','Age','death')) %>% na.omit()"
   ]
  },
  {
   "cell_type": "code",
   "execution_count": null,
   "id": "bc13e571-dbb7-40aa-a13f-0c265268bf13",
   "metadata": {},
   "outputs": [],
   "source": []
  },
  {
   "cell_type": "code",
   "execution_count": 36,
   "id": "4af7692e-8a29-409f-afdd-d7e5f3dbe156",
   "metadata": {},
   "outputs": [
    {
     "data": {
      "text/plain": [
       "\n",
       "Control     MDD \n",
       "    112      61 "
      ]
     },
     "metadata": {},
     "output_type": "display_data"
    }
   ],
   "source": [
    "table(exp5$TYPE)"
   ]
  },
  {
   "cell_type": "code",
   "execution_count": 461,
   "id": "93810886-c756-4bed-900f-83d8a70fafd3",
   "metadata": {},
   "outputs": [],
   "source": [
    "write.csv(exp5,file = 'TOD.rela.csv')"
   ]
  },
  {
   "cell_type": "code",
   "execution_count": null,
   "id": "b856cf03-06b4-415a-9ef5-5d6c29aa9508",
   "metadata": {},
   "outputs": [],
   "source": []
  },
  {
   "cell_type": "code",
   "execution_count": null,
   "id": "e04f88b7-308a-4454-8ae9-3b42ff2a345b",
   "metadata": {},
   "outputs": [],
   "source": []
  },
  {
   "cell_type": "code",
   "execution_count": null,
   "id": "5c45795f-7d99-4065-ad6c-814f56bd3fd7",
   "metadata": {},
   "outputs": [],
   "source": []
  },
  {
   "cell_type": "code",
   "execution_count": null,
   "id": "0850ef5c-208c-4af0-b7bb-b83a0e59651e",
   "metadata": {},
   "outputs": [],
   "source": []
  },
  {
   "cell_type": "code",
   "execution_count": 39,
   "id": "47a28084-4ab8-4026-80af-82a75dfad96d",
   "metadata": {},
   "outputs": [],
   "source": [
    "exp5$TOD = ifelse(exp5$TOD < 0,exp5$TOD+24,exp5$TOD)"
   ]
  },
  {
   "cell_type": "code",
   "execution_count": 69,
   "id": "96d1b80b-248d-4bb4-9a73-4405a437d22a",
   "metadata": {},
   "outputs": [
    {
     "data": {
      "text/html": [
       "<table class=\"dataframe\">\n",
       "<caption>A data.frame: 6 x 11885</caption>\n",
       "<thead>\n",
       "\t<tr><th></th><th scope=col>TYPE</th><th scope=col>PH</th><th scope=col>Gender</th><th scope=col>race</th><th scope=col>Age</th><th scope=col>death</th><th scope=col>SUBJECT</th><th scope=col>TOD</th><th scope=col>Toxicology</th><th scope=col>GSM</th><th scope=col>...</th><th scope=col>HNRPDL</th><th scope=col>DMTF1</th><th scope=col>PPP4R1</th><th scope=col>CDH1</th><th scope=col>SLC12A6</th><th scope=col>ROD1</th><th scope=col>KCNE2</th><th scope=col>DGCR2</th><th scope=col>CASP8AP2</th><th scope=col>SCO2</th></tr>\n",
       "\t<tr><th></th><th scope=col>&lt;chr&gt;</th><th scope=col>&lt;dbl&gt;</th><th scope=col>&lt;chr&gt;</th><th scope=col>&lt;chr&gt;</th><th scope=col>&lt;int&gt;</th><th scope=col>&lt;int&gt;</th><th scope=col>&lt;int&gt;</th><th scope=col>&lt;dbl&gt;</th><th scope=col>&lt;chr&gt;</th><th scope=col>&lt;chr&gt;</th><th scope=col>...</th><th scope=col>&lt;dbl&gt;</th><th scope=col>&lt;dbl&gt;</th><th scope=col>&lt;dbl&gt;</th><th scope=col>&lt;dbl&gt;</th><th scope=col>&lt;dbl&gt;</th><th scope=col>&lt;dbl&gt;</th><th scope=col>&lt;dbl&gt;</th><th scope=col>&lt;dbl&gt;</th><th scope=col>&lt;dbl&gt;</th><th scope=col>&lt;dbl&gt;</th></tr>\n",
       "</thead>\n",
       "<tbody>\n",
       "\t<tr><th scope=row>1</th><td>Control</td><td>6.30</td><td>F</td><td>Asian           </td><td>47</td><td>0</td><td>38</td><td>14.85</td><td></td><td>GSM2431804</td><td>...</td><td>8.542607</td><td>8.301062</td><td>6.896081</td><td>4.490684</td><td>6.003487</td><td>4.956644</td><td>7.644263</td><td>7.408029</td><td>5.906133</td><td>5.876785</td></tr>\n",
       "\t<tr><th scope=row>2</th><td>Control</td><td>6.30</td><td>F</td><td>Asian           </td><td>47</td><td>0</td><td>38</td><td>14.85</td><td></td><td>GSM2431997</td><td>...</td><td>8.926728</td><td>7.992052</td><td>6.624207</td><td>4.343531</td><td>5.806671</td><td>5.049495</td><td>7.564918</td><td>7.379268</td><td>5.695611</td><td>5.705419</td></tr>\n",
       "\t<tr><th scope=row>3</th><td>Control</td><td>6.40</td><td>M</td><td>African American</td><td>59</td><td>0</td><td> 3</td><td> 0.92</td><td></td><td>GSM2432040</td><td>...</td><td>8.878981</td><td>8.587653</td><td>6.628235</td><td>4.374113</td><td>5.297534</td><td>4.864552</td><td>7.318215</td><td>7.543359</td><td>5.863712</td><td>5.981731</td></tr>\n",
       "\t<tr><th scope=row>4</th><td>Control</td><td>6.50</td><td>M</td><td>Caucasian       </td><td>63</td><td>0</td><td> 2</td><td>-0.57</td><td></td><td>GSM2432045</td><td>...</td><td>9.035219</td><td>8.298866</td><td>6.491999</td><td>4.338877</td><td>5.348225</td><td>4.773315</td><td>7.394998</td><td>7.475051</td><td>5.696833</td><td>6.269534</td></tr>\n",
       "\t<tr><th scope=row>5</th><td>Control</td><td>6.53</td><td>M</td><td>Caucasian       </td><td>52</td><td>0</td><td> 4</td><td>-5.02</td><td></td><td>GSM2431943</td><td>...</td><td>8.940692</td><td>8.309396</td><td>6.601897</td><td>4.338805</td><td>5.699097</td><td>4.892797</td><td>7.329340</td><td>7.049498</td><td>6.436767</td><td>5.999408</td></tr>\n",
       "\t<tr><th scope=row>6</th><td>Control</td><td>6.55</td><td>F</td><td>Caucasian       </td><td>68</td><td>0</td><td>19</td><td> 3.62</td><td></td><td>GSM2431991</td><td>...</td><td>8.868911</td><td>8.130179</td><td>7.155901</td><td>4.498653</td><td>5.931903</td><td>4.813763</td><td>7.353592</td><td>7.835502</td><td>6.195664</td><td>5.994307</td></tr>\n",
       "</tbody>\n",
       "</table>\n"
      ],
      "text/latex": [
       "A data.frame: 6 x 11885\n",
       "\\begin{tabular}{r|lllllllllllllllllllll}\n",
       "  & TYPE & PH & Gender & race & Age & death & SUBJECT & TOD & Toxicology & GSM & ... & HNRPDL & DMTF1 & PPP4R1 & CDH1 & SLC12A6 & ROD1 & KCNE2 & DGCR2 & CASP8AP2 & SCO2\\\\\n",
       "  & <chr> & <dbl> & <chr> & <chr> & <int> & <int> & <int> & <dbl> & <chr> & <chr> & ... & <dbl> & <dbl> & <dbl> & <dbl> & <dbl> & <dbl> & <dbl> & <dbl> & <dbl> & <dbl>\\\\\n",
       "\\hline\n",
       "\t1 & Control & 6.30 & F & Asian            & 47 & 0 & 38 & 14.85 &  & GSM2431804 & ... & 8.542607 & 8.301062 & 6.896081 & 4.490684 & 6.003487 & 4.956644 & 7.644263 & 7.408029 & 5.906133 & 5.876785\\\\\n",
       "\t2 & Control & 6.30 & F & Asian            & 47 & 0 & 38 & 14.85 &  & GSM2431997 & ... & 8.926728 & 7.992052 & 6.624207 & 4.343531 & 5.806671 & 5.049495 & 7.564918 & 7.379268 & 5.695611 & 5.705419\\\\\n",
       "\t3 & Control & 6.40 & M & African American & 59 & 0 &  3 &  0.92 &  & GSM2432040 & ... & 8.878981 & 8.587653 & 6.628235 & 4.374113 & 5.297534 & 4.864552 & 7.318215 & 7.543359 & 5.863712 & 5.981731\\\\\n",
       "\t4 & Control & 6.50 & M & Caucasian        & 63 & 0 &  2 & -0.57 &  & GSM2432045 & ... & 9.035219 & 8.298866 & 6.491999 & 4.338877 & 5.348225 & 4.773315 & 7.394998 & 7.475051 & 5.696833 & 6.269534\\\\\n",
       "\t5 & Control & 6.53 & M & Caucasian        & 52 & 0 &  4 & -5.02 &  & GSM2431943 & ... & 8.940692 & 8.309396 & 6.601897 & 4.338805 & 5.699097 & 4.892797 & 7.329340 & 7.049498 & 6.436767 & 5.999408\\\\\n",
       "\t6 & Control & 6.55 & F & Caucasian        & 68 & 0 & 19 &  3.62 &  & GSM2431991 & ... & 8.868911 & 8.130179 & 7.155901 & 4.498653 & 5.931903 & 4.813763 & 7.353592 & 7.835502 & 6.195664 & 5.994307\\\\\n",
       "\\end{tabular}\n"
      ],
      "text/markdown": [
       "\n",
       "A data.frame: 6 x 11885\n",
       "\n",
       "| <!--/--> | TYPE &lt;chr&gt; | PH &lt;dbl&gt; | Gender &lt;chr&gt; | race &lt;chr&gt; | Age &lt;int&gt; | death &lt;int&gt; | SUBJECT &lt;int&gt; | TOD &lt;dbl&gt; | Toxicology &lt;chr&gt; | GSM &lt;chr&gt; | ... ... | HNRPDL &lt;dbl&gt; | DMTF1 &lt;dbl&gt; | PPP4R1 &lt;dbl&gt; | CDH1 &lt;dbl&gt; | SLC12A6 &lt;dbl&gt; | ROD1 &lt;dbl&gt; | KCNE2 &lt;dbl&gt; | DGCR2 &lt;dbl&gt; | CASP8AP2 &lt;dbl&gt; | SCO2 &lt;dbl&gt; |\n",
       "|---|---|---|---|---|---|---|---|---|---|---|---|---|---|---|---|---|---|---|---|---|---|\n",
       "| 1 | Control | 6.30 | F | Asian            | 47 | 0 | 38 | 14.85 | <!----> | GSM2431804 | ... | 8.542607 | 8.301062 | 6.896081 | 4.490684 | 6.003487 | 4.956644 | 7.644263 | 7.408029 | 5.906133 | 5.876785 |\n",
       "| 2 | Control | 6.30 | F | Asian            | 47 | 0 | 38 | 14.85 | <!----> | GSM2431997 | ... | 8.926728 | 7.992052 | 6.624207 | 4.343531 | 5.806671 | 5.049495 | 7.564918 | 7.379268 | 5.695611 | 5.705419 |\n",
       "| 3 | Control | 6.40 | M | African American | 59 | 0 |  3 |  0.92 | <!----> | GSM2432040 | ... | 8.878981 | 8.587653 | 6.628235 | 4.374113 | 5.297534 | 4.864552 | 7.318215 | 7.543359 | 5.863712 | 5.981731 |\n",
       "| 4 | Control | 6.50 | M | Caucasian        | 63 | 0 |  2 | -0.57 | <!----> | GSM2432045 | ... | 9.035219 | 8.298866 | 6.491999 | 4.338877 | 5.348225 | 4.773315 | 7.394998 | 7.475051 | 5.696833 | 6.269534 |\n",
       "| 5 | Control | 6.53 | M | Caucasian        | 52 | 0 |  4 | -5.02 | <!----> | GSM2431943 | ... | 8.940692 | 8.309396 | 6.601897 | 4.338805 | 5.699097 | 4.892797 | 7.329340 | 7.049498 | 6.436767 | 5.999408 |\n",
       "| 6 | Control | 6.55 | F | Caucasian        | 68 | 0 | 19 |  3.62 | <!----> | GSM2431991 | ... | 8.868911 | 8.130179 | 7.155901 | 4.498653 | 5.931903 | 4.813763 | 7.353592 | 7.835502 | 6.195664 | 5.994307 |\n",
       "\n"
      ],
      "text/plain": [
       "  TYPE    PH   Gender race             Age death SUBJECT TOD   Toxicology\n",
       "1 Control 6.30 F      Asian            47  0     38      14.85           \n",
       "2 Control 6.30 F      Asian            47  0     38      14.85           \n",
       "3 Control 6.40 M      African American 59  0      3       0.92           \n",
       "4 Control 6.50 M      Caucasian        63  0      2      -0.57           \n",
       "5 Control 6.53 M      Caucasian        52  0      4      -5.02           \n",
       "6 Control 6.55 F      Caucasian        68  0     19       3.62           \n",
       "  GSM        ... HNRPDL   DMTF1    PPP4R1   CDH1     SLC12A6  ROD1     KCNE2   \n",
       "1 GSM2431804 ... 8.542607 8.301062 6.896081 4.490684 6.003487 4.956644 7.644263\n",
       "2 GSM2431997 ... 8.926728 7.992052 6.624207 4.343531 5.806671 5.049495 7.564918\n",
       "3 GSM2432040 ... 8.878981 8.587653 6.628235 4.374113 5.297534 4.864552 7.318215\n",
       "4 GSM2432045 ... 9.035219 8.298866 6.491999 4.338877 5.348225 4.773315 7.394998\n",
       "5 GSM2431943 ... 8.940692 8.309396 6.601897 4.338805 5.699097 4.892797 7.329340\n",
       "6 GSM2431991 ... 8.868911 8.130179 7.155901 4.498653 5.931903 4.813763 7.353592\n",
       "  DGCR2    CASP8AP2 SCO2    \n",
       "1 7.408029 5.906133 5.876785\n",
       "2 7.379268 5.695611 5.705419\n",
       "3 7.543359 5.863712 5.981731\n",
       "4 7.475051 5.696833 6.269534\n",
       "5 7.049498 6.436767 5.999408\n",
       "6 7.835502 6.195664 5.994307"
      ]
     },
     "metadata": {},
     "output_type": "display_data"
    }
   ],
   "source": [
    "head(exp5,6)"
   ]
  },
  {
   "cell_type": "code",
   "execution_count": 70,
   "id": "b64016b6-c44c-498e-8d05-955d7b6c4b0a",
   "metadata": {},
   "outputs": [
    {
     "data": {
      "text/html": [
       "<style>\n",
       ".list-inline {list-style: none; margin:0; padding: 0}\n",
       ".list-inline>li {display: inline-block}\n",
       ".list-inline>li:not(:last-child)::after {content: \"\\00b7\"; padding: 0 .5ex}\n",
       "</style>\n",
       "<ol class=list-inline><li>173</li><li>11885</li></ol>\n"
      ],
      "text/latex": [
       "\\begin{enumerate*}\n",
       "\\item 173\n",
       "\\item 11885\n",
       "\\end{enumerate*}\n"
      ],
      "text/markdown": [
       "1. 173\n",
       "2. 11885\n",
       "\n",
       "\n"
      ],
      "text/plain": [
       "[1]   173 11885"
      ]
     },
     "metadata": {},
     "output_type": "display_data"
    }
   ],
   "source": [
    "dim(exp5)"
   ]
  },
  {
   "cell_type": "code",
   "execution_count": null,
   "id": "02501573-89d4-4943-abed-abc26a6618e1",
   "metadata": {},
   "outputs": [],
   "source": []
  },
  {
   "cell_type": "code",
   "execution_count": null,
   "id": "231ac0aa-114b-4107-90fb-b89b6555e5cf",
   "metadata": {},
   "outputs": [],
   "source": []
  },
  {
   "cell_type": "code",
   "execution_count": null,
   "id": "b55808dd-a6ba-4749-a2f2-2746f81f68fc",
   "metadata": {},
   "outputs": [],
   "source": []
  },
  {
   "cell_type": "code",
   "execution_count": null,
   "id": "10d8e4fd-6786-4742-a101-64845e7294d1",
   "metadata": {},
   "outputs": [],
   "source": []
  },
  {
   "cell_type": "code",
   "execution_count": 41,
   "id": "977de407-0997-4c0c-a8f1-65429e3aeef7",
   "metadata": {},
   "outputs": [
    {
     "data": {
      "text/plain": [
       "\n",
       "Control     MDD \n",
       "    112      61 "
      ]
     },
     "metadata": {},
     "output_type": "display_data"
    },
    {
     "data": {
      "text/html": [
       "<table class=\"dataframe\">\n",
       "<caption>A data.frame: 2 x 61</caption>\n",
       "<thead>\n",
       "\t<tr><th></th><th scope=col>V1</th><th scope=col>V2</th><th scope=col>V3</th><th scope=col>V4</th><th scope=col>V5</th><th scope=col>V6</th><th scope=col>V7</th><th scope=col>V8</th><th scope=col>V9</th><th scope=col>V10</th><th scope=col>...</th><th scope=col>V52</th><th scope=col>V53</th><th scope=col>V54</th><th scope=col>V55</th><th scope=col>V56</th><th scope=col>V57</th><th scope=col>V58</th><th scope=col>V59</th><th scope=col>V60</th><th scope=col>V61</th></tr>\n",
       "\t<tr><th></th><th scope=col>&lt;dbl&gt;</th><th scope=col>&lt;dbl&gt;</th><th scope=col>&lt;dbl&gt;</th><th scope=col>&lt;dbl&gt;</th><th scope=col>&lt;dbl&gt;</th><th scope=col>&lt;dbl&gt;</th><th scope=col>&lt;dbl&gt;</th><th scope=col>&lt;dbl&gt;</th><th scope=col>&lt;dbl&gt;</th><th scope=col>&lt;dbl&gt;</th><th scope=col>...</th><th scope=col>&lt;dbl&gt;</th><th scope=col>&lt;dbl&gt;</th><th scope=col>&lt;dbl&gt;</th><th scope=col>&lt;dbl&gt;</th><th scope=col>&lt;dbl&gt;</th><th scope=col>&lt;dbl&gt;</th><th scope=col>&lt;dbl&gt;</th><th scope=col>&lt;dbl&gt;</th><th scope=col>&lt;dbl&gt;</th><th scope=col>&lt;dbl&gt;</th></tr>\n",
       "</thead>\n",
       "<tbody>\n",
       "\t<tr><th scope=row>TOD</th><td>11.150000</td><td>12.030000</td><td>8.620000</td><td>2.170000</td><td>9.520000</td><td>8.570000</td><td>22.980000</td><td>22.980000</td><td>21.950000</td><td>21.950000</td><td>...</td><td>4.850000</td><td>4.850000</td><td>3.200000</td><td>3.200000</td><td>5.480000</td><td>5.480000</td><td>3.25000</td><td>3.250000</td><td>0.930000</td><td>0.930000</td></tr>\n",
       "\t<tr><th scope=row>NAT2</th><td> 6.237568</td><td> 5.352166</td><td>5.765387</td><td>5.894335</td><td>6.150689</td><td>6.366345</td><td> 6.143621</td><td> 6.368955</td><td> 6.345062</td><td> 6.335631</td><td>...</td><td>6.462201</td><td>6.259887</td><td>5.362228</td><td>6.103719</td><td>6.344407</td><td>5.989725</td><td>7.00259</td><td>6.316318</td><td>6.298266</td><td>5.357441</td></tr>\n",
       "</tbody>\n",
       "</table>\n"
      ],
      "text/latex": [
       "A data.frame: 2 x 61\n",
       "\\begin{tabular}{r|lllllllllllllllllllll}\n",
       "  & V1 & V2 & V3 & V4 & V5 & V6 & V7 & V8 & V9 & V10 & ... & V52 & V53 & V54 & V55 & V56 & V57 & V58 & V59 & V60 & V61\\\\\n",
       "  & <dbl> & <dbl> & <dbl> & <dbl> & <dbl> & <dbl> & <dbl> & <dbl> & <dbl> & <dbl> & ... & <dbl> & <dbl> & <dbl> & <dbl> & <dbl> & <dbl> & <dbl> & <dbl> & <dbl> & <dbl>\\\\\n",
       "\\hline\n",
       "\tTOD & 11.150000 & 12.030000 & 8.620000 & 2.170000 & 9.520000 & 8.570000 & 22.980000 & 22.980000 & 21.950000 & 21.950000 & ... & 4.850000 & 4.850000 & 3.200000 & 3.200000 & 5.480000 & 5.480000 & 3.25000 & 3.250000 & 0.930000 & 0.930000\\\\\n",
       "\tNAT2 &  6.237568 &  5.352166 & 5.765387 & 5.894335 & 6.150689 & 6.366345 &  6.143621 &  6.368955 &  6.345062 &  6.335631 & ... & 6.462201 & 6.259887 & 5.362228 & 6.103719 & 6.344407 & 5.989725 & 7.00259 & 6.316318 & 6.298266 & 5.357441\\\\\n",
       "\\end{tabular}\n"
      ],
      "text/markdown": [
       "\n",
       "A data.frame: 2 x 61\n",
       "\n",
       "| <!--/--> | V1 &lt;dbl&gt; | V2 &lt;dbl&gt; | V3 &lt;dbl&gt; | V4 &lt;dbl&gt; | V5 &lt;dbl&gt; | V6 &lt;dbl&gt; | V7 &lt;dbl&gt; | V8 &lt;dbl&gt; | V9 &lt;dbl&gt; | V10 &lt;dbl&gt; | ... ... | V52 &lt;dbl&gt; | V53 &lt;dbl&gt; | V54 &lt;dbl&gt; | V55 &lt;dbl&gt; | V56 &lt;dbl&gt; | V57 &lt;dbl&gt; | V58 &lt;dbl&gt; | V59 &lt;dbl&gt; | V60 &lt;dbl&gt; | V61 &lt;dbl&gt; |\n",
       "|---|---|---|---|---|---|---|---|---|---|---|---|---|---|---|---|---|---|---|---|---|---|\n",
       "| TOD | 11.150000 | 12.030000 | 8.620000 | 2.170000 | 9.520000 | 8.570000 | 22.980000 | 22.980000 | 21.950000 | 21.950000 | ... | 4.850000 | 4.850000 | 3.200000 | 3.200000 | 5.480000 | 5.480000 | 3.25000 | 3.250000 | 0.930000 | 0.930000 |\n",
       "| NAT2 |  6.237568 |  5.352166 | 5.765387 | 5.894335 | 6.150689 | 6.366345 |  6.143621 |  6.368955 |  6.345062 |  6.335631 | ... | 6.462201 | 6.259887 | 5.362228 | 6.103719 | 6.344407 | 5.989725 | 7.00259 | 6.316318 | 6.298266 | 5.357441 |\n",
       "\n"
      ],
      "text/plain": [
       "     V1        V2        V3       V4       V5       V6       V7       \n",
       "TOD  11.150000 12.030000 8.620000 2.170000 9.520000 8.570000 22.980000\n",
       "NAT2  6.237568  5.352166 5.765387 5.894335 6.150689 6.366345  6.143621\n",
       "     V8        V9        V10       ... V52      V53      V54      V55     \n",
       "TOD  22.980000 21.950000 21.950000 ... 4.850000 4.850000 3.200000 3.200000\n",
       "NAT2  6.368955  6.345062  6.335631 ... 6.462201 6.259887 5.362228 6.103719\n",
       "     V56      V57      V58     V59      V60      V61     \n",
       "TOD  5.480000 5.480000 3.25000 3.250000 0.930000 0.930000\n",
       "NAT2 6.344407 5.989725 7.00259 6.316318 6.298266 5.357441"
      ]
     },
     "metadata": {},
     "output_type": "display_data"
    },
    {
     "data": {
      "text/html": [
       "<style>\n",
       ".list-inline {list-style: none; margin:0; padding: 0}\n",
       ".list-inline>li {display: inline-block}\n",
       ".list-inline>li:not(:last-child)::after {content: \"\\00b7\"; padding: 0 .5ex}\n",
       "</style>\n",
       "<ol class=list-inline><li>'ZT11.15_REP1'</li><li>'ZT12.03_REP1'</li><li>'ZT8.62_REP1'</li><li>'ZT2.17_REP1'</li><li>'ZT9.52_REP1'</li><li>'ZT8.57_REP1'</li><li>'ZT22.98_REP1'</li><li>'ZT22.98_REP1'</li><li>'ZT21.95_REP1'</li><li>'ZT21.95_REP1'</li><li>'ZT3.32_REP1'</li><li>'ZT3.52_REP1'</li><li>'ZT3.52_REP1'</li><li>'ZT1.17_REP1'</li><li>'ZT1.17_REP1'</li><li>'ZT4.65_REP1'</li><li>'ZT4.65_REP1'</li><li>'ZT19.28_REP1'</li><li>'ZT19.28_REP1'</li><li>'ZT22.32_REP1'</li><li>'ZT22.32_REP1'</li><li>'ZT6.32_REP1'</li><li>'ZT6.32_REP1'</li><li>'ZT7.18_REP1'</li><li>'ZT7.18_REP1'</li><li>'ZT7.18_REP1'</li><li>'ZT4.85_REP1'</li><li>'ZT4.85_REP1'</li><li>'ZT3.55_REP1'</li><li>'ZT22.95_REP1'</li><li>'ZT22.95_REP1'</li><li>'ZT22.95_REP1'</li><li>'ZT8.55_REP1'</li><li>'ZT8.55_REP1'</li><li>'ZT11.17_REP1'</li><li>'ZT11.17_REP1'</li><li>'ZT5.58_REP1'</li><li>'ZT5.58_REP1'</li><li>'ZT5.98_REP1'</li><li>'ZT5.98_REP1'</li><li>'ZT14.68_REP1'</li><li>'ZT14.68_REP1'</li><li>'ZT14.68_REP1'</li><li>'ZT9.47_REP1'</li><li>'ZT9.47_REP1'</li><li>'ZT9.47_REP1'</li><li>'ZT5.87_REP1'</li><li>'ZT15.3_REP1'</li><li>'ZT15.3_REP1'</li><li>'ZT2.88_REP1'</li><li>'ZT2.88_REP1'</li><li>'ZT4.85_REP1'</li><li>'ZT4.85_REP1'</li><li>'ZT3.2_REP1'</li><li>'ZT3.2_REP1'</li><li>'ZT5.48_REP1'</li><li>'ZT5.48_REP1'</li><li>'ZT3.25_REP1'</li><li>'ZT3.25_REP1'</li><li>'ZT0.93_REP1'</li><li>'ZT0.93_REP1'</li></ol>\n"
      ],
      "text/latex": [
       "\\begin{enumerate*}\n",
       "\\item 'ZT11.15\\_REP1'\n",
       "\\item 'ZT12.03\\_REP1'\n",
       "\\item 'ZT8.62\\_REP1'\n",
       "\\item 'ZT2.17\\_REP1'\n",
       "\\item 'ZT9.52\\_REP1'\n",
       "\\item 'ZT8.57\\_REP1'\n",
       "\\item 'ZT22.98\\_REP1'\n",
       "\\item 'ZT22.98\\_REP1'\n",
       "\\item 'ZT21.95\\_REP1'\n",
       "\\item 'ZT21.95\\_REP1'\n",
       "\\item 'ZT3.32\\_REP1'\n",
       "\\item 'ZT3.52\\_REP1'\n",
       "\\item 'ZT3.52\\_REP1'\n",
       "\\item 'ZT1.17\\_REP1'\n",
       "\\item 'ZT1.17\\_REP1'\n",
       "\\item 'ZT4.65\\_REP1'\n",
       "\\item 'ZT4.65\\_REP1'\n",
       "\\item 'ZT19.28\\_REP1'\n",
       "\\item 'ZT19.28\\_REP1'\n",
       "\\item 'ZT22.32\\_REP1'\n",
       "\\item 'ZT22.32\\_REP1'\n",
       "\\item 'ZT6.32\\_REP1'\n",
       "\\item 'ZT6.32\\_REP1'\n",
       "\\item 'ZT7.18\\_REP1'\n",
       "\\item 'ZT7.18\\_REP1'\n",
       "\\item 'ZT7.18\\_REP1'\n",
       "\\item 'ZT4.85\\_REP1'\n",
       "\\item 'ZT4.85\\_REP1'\n",
       "\\item 'ZT3.55\\_REP1'\n",
       "\\item 'ZT22.95\\_REP1'\n",
       "\\item 'ZT22.95\\_REP1'\n",
       "\\item 'ZT22.95\\_REP1'\n",
       "\\item 'ZT8.55\\_REP1'\n",
       "\\item 'ZT8.55\\_REP1'\n",
       "\\item 'ZT11.17\\_REP1'\n",
       "\\item 'ZT11.17\\_REP1'\n",
       "\\item 'ZT5.58\\_REP1'\n",
       "\\item 'ZT5.58\\_REP1'\n",
       "\\item 'ZT5.98\\_REP1'\n",
       "\\item 'ZT5.98\\_REP1'\n",
       "\\item 'ZT14.68\\_REP1'\n",
       "\\item 'ZT14.68\\_REP1'\n",
       "\\item 'ZT14.68\\_REP1'\n",
       "\\item 'ZT9.47\\_REP1'\n",
       "\\item 'ZT9.47\\_REP1'\n",
       "\\item 'ZT9.47\\_REP1'\n",
       "\\item 'ZT5.87\\_REP1'\n",
       "\\item 'ZT15.3\\_REP1'\n",
       "\\item 'ZT15.3\\_REP1'\n",
       "\\item 'ZT2.88\\_REP1'\n",
       "\\item 'ZT2.88\\_REP1'\n",
       "\\item 'ZT4.85\\_REP1'\n",
       "\\item 'ZT4.85\\_REP1'\n",
       "\\item 'ZT3.2\\_REP1'\n",
       "\\item 'ZT3.2\\_REP1'\n",
       "\\item 'ZT5.48\\_REP1'\n",
       "\\item 'ZT5.48\\_REP1'\n",
       "\\item 'ZT3.25\\_REP1'\n",
       "\\item 'ZT3.25\\_REP1'\n",
       "\\item 'ZT0.93\\_REP1'\n",
       "\\item 'ZT0.93\\_REP1'\n",
       "\\end{enumerate*}\n"
      ],
      "text/markdown": [
       "1. 'ZT11.15_REP1'\n",
       "2. 'ZT12.03_REP1'\n",
       "3. 'ZT8.62_REP1'\n",
       "4. 'ZT2.17_REP1'\n",
       "5. 'ZT9.52_REP1'\n",
       "6. 'ZT8.57_REP1'\n",
       "7. 'ZT22.98_REP1'\n",
       "8. 'ZT22.98_REP1'\n",
       "9. 'ZT21.95_REP1'\n",
       "10. 'ZT21.95_REP1'\n",
       "11. 'ZT3.32_REP1'\n",
       "12. 'ZT3.52_REP1'\n",
       "13. 'ZT3.52_REP1'\n",
       "14. 'ZT1.17_REP1'\n",
       "15. 'ZT1.17_REP1'\n",
       "16. 'ZT4.65_REP1'\n",
       "17. 'ZT4.65_REP1'\n",
       "18. 'ZT19.28_REP1'\n",
       "19. 'ZT19.28_REP1'\n",
       "20. 'ZT22.32_REP1'\n",
       "21. 'ZT22.32_REP1'\n",
       "22. 'ZT6.32_REP1'\n",
       "23. 'ZT6.32_REP1'\n",
       "24. 'ZT7.18_REP1'\n",
       "25. 'ZT7.18_REP1'\n",
       "26. 'ZT7.18_REP1'\n",
       "27. 'ZT4.85_REP1'\n",
       "28. 'ZT4.85_REP1'\n",
       "29. 'ZT3.55_REP1'\n",
       "30. 'ZT22.95_REP1'\n",
       "31. 'ZT22.95_REP1'\n",
       "32. 'ZT22.95_REP1'\n",
       "33. 'ZT8.55_REP1'\n",
       "34. 'ZT8.55_REP1'\n",
       "35. 'ZT11.17_REP1'\n",
       "36. 'ZT11.17_REP1'\n",
       "37. 'ZT5.58_REP1'\n",
       "38. 'ZT5.58_REP1'\n",
       "39. 'ZT5.98_REP1'\n",
       "40. 'ZT5.98_REP1'\n",
       "41. 'ZT14.68_REP1'\n",
       "42. 'ZT14.68_REP1'\n",
       "43. 'ZT14.68_REP1'\n",
       "44. 'ZT9.47_REP1'\n",
       "45. 'ZT9.47_REP1'\n",
       "46. 'ZT9.47_REP1'\n",
       "47. 'ZT5.87_REP1'\n",
       "48. 'ZT15.3_REP1'\n",
       "49. 'ZT15.3_REP1'\n",
       "50. 'ZT2.88_REP1'\n",
       "51. 'ZT2.88_REP1'\n",
       "52. 'ZT4.85_REP1'\n",
       "53. 'ZT4.85_REP1'\n",
       "54. 'ZT3.2_REP1'\n",
       "55. 'ZT3.2_REP1'\n",
       "56. 'ZT5.48_REP1'\n",
       "57. 'ZT5.48_REP1'\n",
       "58. 'ZT3.25_REP1'\n",
       "59. 'ZT3.25_REP1'\n",
       "60. 'ZT0.93_REP1'\n",
       "61. 'ZT0.93_REP1'\n",
       "\n",
       "\n"
      ],
      "text/plain": [
       " [1] \"ZT11.15_REP1\" \"ZT12.03_REP1\" \"ZT8.62_REP1\"  \"ZT2.17_REP1\"  \"ZT9.52_REP1\" \n",
       " [6] \"ZT8.57_REP1\"  \"ZT22.98_REP1\" \"ZT22.98_REP1\" \"ZT21.95_REP1\" \"ZT21.95_REP1\"\n",
       "[11] \"ZT3.32_REP1\"  \"ZT3.52_REP1\"  \"ZT3.52_REP1\"  \"ZT1.17_REP1\"  \"ZT1.17_REP1\" \n",
       "[16] \"ZT4.65_REP1\"  \"ZT4.65_REP1\"  \"ZT19.28_REP1\" \"ZT19.28_REP1\" \"ZT22.32_REP1\"\n",
       "[21] \"ZT22.32_REP1\" \"ZT6.32_REP1\"  \"ZT6.32_REP1\"  \"ZT7.18_REP1\"  \"ZT7.18_REP1\" \n",
       "[26] \"ZT7.18_REP1\"  \"ZT4.85_REP1\"  \"ZT4.85_REP1\"  \"ZT3.55_REP1\"  \"ZT22.95_REP1\"\n",
       "[31] \"ZT22.95_REP1\" \"ZT22.95_REP1\" \"ZT8.55_REP1\"  \"ZT8.55_REP1\"  \"ZT11.17_REP1\"\n",
       "[36] \"ZT11.17_REP1\" \"ZT5.58_REP1\"  \"ZT5.58_REP1\"  \"ZT5.98_REP1\"  \"ZT5.98_REP1\" \n",
       "[41] \"ZT14.68_REP1\" \"ZT14.68_REP1\" \"ZT14.68_REP1\" \"ZT9.47_REP1\"  \"ZT9.47_REP1\" \n",
       "[46] \"ZT9.47_REP1\"  \"ZT5.87_REP1\"  \"ZT15.3_REP1\"  \"ZT15.3_REP1\"  \"ZT2.88_REP1\" \n",
       "[51] \"ZT2.88_REP1\"  \"ZT4.85_REP1\"  \"ZT4.85_REP1\"  \"ZT3.2_REP1\"   \"ZT3.2_REP1\"  \n",
       "[56] \"ZT5.48_REP1\"  \"ZT5.48_REP1\"  \"ZT3.25_REP1\"  \"ZT3.25_REP1\"  \"ZT0.93_REP1\" \n",
       "[61] \"ZT0.93_REP1\" "
      ]
     },
     "metadata": {},
     "output_type": "display_data"
    }
   ],
   "source": [
    "control = exp5 %>%  dplyr::filter(TYPE == 'Control') %>% dplyr::select(TOD,NAT2:SCO2)  %>%  t() %>%  as.data.frame()\n",
    "\n",
    "table(exp5$TYPE)\n",
    "\n",
    "MD = exp5 %>%  dplyr::filter(TYPE != 'Control') %>% dplyr::select(TOD,NAT2:SCO2) %>%  t() %>%  as.data.frame()\n",
    "\n",
    "head(MD,2)\n",
    "\n",
    "colnames(control) = control[1,]\n",
    "control = control[-1,]\n",
    "\n",
    "colnames(control) = paste0('ZT',colnames(control),'_REP1')\n",
    "\n",
    "colnames(MD) = MD[1,]\n",
    "MD = MD[-1,]\n",
    "\n",
    "colnames(MD) = paste0('ZT',colnames(MD),'_REP1')\n",
    "\n",
    "colnames(MD)"
   ]
  },
  {
   "cell_type": "code",
   "execution_count": 42,
   "id": "00aa76d3-9db0-49aa-a0df-a85d34345076",
   "metadata": {},
   "outputs": [],
   "source": [
    "colnames(control) = gsub('REP1.1','REP2',colnames(control) )"
   ]
  },
  {
   "cell_type": "code",
   "execution_count": null,
   "id": "7a2f93c7-c8c0-4d48-886f-b4c915a87bf1",
   "metadata": {},
   "outputs": [],
   "source": [
    "control$GroundTruth = 0\n",
    "MD$GroundTruth = 0\n",
    "write.csv(control,file = 'control.csv')\n",
    "write.csv(MD,file = 'MD.csv')"
   ]
  },
  {
   "cell_type": "code",
   "execution_count": 43,
   "id": "b1e88272-1908-4c34-9b26-94233e0b86ac",
   "metadata": {},
   "outputs": [
    {
     "data": {
      "text/html": [
       "<style>\n",
       ".list-inline {list-style: none; margin:0; padding: 0}\n",
       ".list-inline>li {display: inline-block}\n",
       ".list-inline>li:not(:last-child)::after {content: \"\\00b7\"; padding: 0 .5ex}\n",
       "</style>\n",
       "<ol class=list-inline><li>251</li><li>11882</li></ol>\n"
      ],
      "text/latex": [
       "\\begin{enumerate*}\n",
       "\\item 251\n",
       "\\item 11882\n",
       "\\end{enumerate*}\n"
      ],
      "text/markdown": [
       "1. 251\n",
       "2. 11882\n",
       "\n",
       "\n"
      ],
      "text/plain": [
       "[1]   251 11882"
      ]
     },
     "metadata": {},
     "output_type": "display_data"
    }
   ],
   "source": [
    "dim(exp4)"
   ]
  },
  {
   "cell_type": "code",
   "execution_count": 44,
   "id": "acaf90c0-19bc-4364-a185-1198e8feb1d2",
   "metadata": {},
   "outputs": [],
   "source": [
    "data = exp4 %>%  dplyr::select(8:11882) %>%  t() %>%  as.data.frame()"
   ]
  },
  {
   "cell_type": "code",
   "execution_count": 45,
   "id": "87bbf192-7146-45e0-9fca-38787eb8defa",
   "metadata": {},
   "outputs": [
    {
     "data": {
      "text/html": [
       "<table class=\"dataframe\">\n",
       "<caption>A data.frame: 6 x 251</caption>\n",
       "<thead>\n",
       "\t<tr><th></th><th scope=col>GSM2431721</th><th scope=col>GSM2431722</th><th scope=col>GSM2431723</th><th scope=col>GSM2431726</th><th scope=col>GSM2431727</th><th scope=col>GSM2431728</th><th scope=col>GSM2431731</th><th scope=col>GSM2431734</th><th scope=col>GSM2431735</th><th scope=col>GSM2431737</th><th scope=col>...</th><th scope=col>GSM2431958</th><th scope=col>GSM2431959</th><th scope=col>GSM2431969</th><th scope=col>GSM2431970</th><th scope=col>GSM2431995</th><th scope=col>GSM2432065</th><th scope=col>GSM2432068</th><th scope=col>GSM2432070</th><th scope=col>GSM2432077</th><th scope=col>GSM2432081</th></tr>\n",
       "\t<tr><th></th><th scope=col>&lt;dbl&gt;</th><th scope=col>&lt;dbl&gt;</th><th scope=col>&lt;dbl&gt;</th><th scope=col>&lt;dbl&gt;</th><th scope=col>&lt;dbl&gt;</th><th scope=col>&lt;dbl&gt;</th><th scope=col>&lt;dbl&gt;</th><th scope=col>&lt;dbl&gt;</th><th scope=col>&lt;dbl&gt;</th><th scope=col>&lt;dbl&gt;</th><th scope=col>...</th><th scope=col>&lt;dbl&gt;</th><th scope=col>&lt;dbl&gt;</th><th scope=col>&lt;dbl&gt;</th><th scope=col>&lt;dbl&gt;</th><th scope=col>&lt;dbl&gt;</th><th scope=col>&lt;dbl&gt;</th><th scope=col>&lt;dbl&gt;</th><th scope=col>&lt;dbl&gt;</th><th scope=col>&lt;dbl&gt;</th><th scope=col>&lt;dbl&gt;</th></tr>\n",
       "</thead>\n",
       "<tbody>\n",
       "\t<tr><th scope=row>NAT2</th><td>6.918508</td><td>6.397328</td><td>6.814676</td><td>7.550068</td><td>6.336289</td><td>6.266404</td><td>6.563808</td><td>6.218975</td><td>6.059122</td><td>6.221634</td><td>...</td><td>5.650252</td><td>4.890141</td><td>5.618526</td><td>5.649107</td><td>5.610017</td><td>6.237568</td><td>5.745693</td><td>6.103719</td><td>5.894335</td><td>5.767362</td></tr>\n",
       "\t<tr><th scope=row>ADA</th><td>5.958536</td><td>6.113981</td><td>6.261580</td><td>6.640444</td><td>6.297053</td><td>5.972297</td><td>5.957473</td><td>6.130789</td><td>6.002732</td><td>5.983142</td><td>...</td><td>5.547107</td><td>5.622665</td><td>5.714129</td><td>5.560912</td><td>5.709543</td><td>5.583211</td><td>5.550557</td><td>5.562499</td><td>5.533398</td><td>5.675797</td></tr>\n",
       "\t<tr><th scope=row>CDH2</th><td>7.389671</td><td>7.629390</td><td>7.571414</td><td>8.030948</td><td>7.947093</td><td>7.826966</td><td>8.013628</td><td>8.341505</td><td>7.874299</td><td>7.967849</td><td>...</td><td>7.753341</td><td>7.637738</td><td>7.858467</td><td>7.619472</td><td>8.094593</td><td>7.579501</td><td>7.791573</td><td>7.953280</td><td>7.873714</td><td>7.569410</td></tr>\n",
       "\t<tr><th scope=row>AKT3</th><td>5.293475</td><td>5.150656</td><td>5.221224</td><td>5.653483</td><td>5.022664</td><td>5.331675</td><td>5.324332</td><td>4.909831</td><td>4.789077</td><td>4.885067</td><td>...</td><td>4.866788</td><td>5.042578</td><td>4.919501</td><td>5.035228</td><td>4.965306</td><td>5.224493</td><td>5.070423</td><td>5.045179</td><td>4.963966</td><td>4.948279</td></tr>\n",
       "\t<tr><th scope=row>MED6</th><td>5.692741</td><td>5.525863</td><td>5.353248</td><td>5.297997</td><td>5.586159</td><td>5.610716</td><td>5.849680</td><td>5.516485</td><td>5.722200</td><td>5.943328</td><td>...</td><td>6.006612</td><td>6.396482</td><td>5.532209</td><td>6.337287</td><td>5.667979</td><td>6.377386</td><td>5.815019</td><td>5.965133</td><td>5.393812</td><td>6.163521</td></tr>\n",
       "\t<tr><th scope=row>NR2E3</th><td>5.395376</td><td>5.094417</td><td>5.022165</td><td>5.492633</td><td>5.078376</td><td>5.224105</td><td>5.073197</td><td>4.956384</td><td>5.060217</td><td>4.980131</td><td>...</td><td>4.840588</td><td>4.752539</td><td>4.835178</td><td>4.839157</td><td>4.931567</td><td>4.884846</td><td>4.939863</td><td>4.926293</td><td>4.949183</td><td>4.811335</td></tr>\n",
       "</tbody>\n",
       "</table>\n"
      ],
      "text/latex": [
       "A data.frame: 6 x 251\n",
       "\\begin{tabular}{r|lllllllllllllllllllll}\n",
       "  & GSM2431721 & GSM2431722 & GSM2431723 & GSM2431726 & GSM2431727 & GSM2431728 & GSM2431731 & GSM2431734 & GSM2431735 & GSM2431737 & ... & GSM2431958 & GSM2431959 & GSM2431969 & GSM2431970 & GSM2431995 & GSM2432065 & GSM2432068 & GSM2432070 & GSM2432077 & GSM2432081\\\\\n",
       "  & <dbl> & <dbl> & <dbl> & <dbl> & <dbl> & <dbl> & <dbl> & <dbl> & <dbl> & <dbl> & ... & <dbl> & <dbl> & <dbl> & <dbl> & <dbl> & <dbl> & <dbl> & <dbl> & <dbl> & <dbl>\\\\\n",
       "\\hline\n",
       "\tNAT2 & 6.918508 & 6.397328 & 6.814676 & 7.550068 & 6.336289 & 6.266404 & 6.563808 & 6.218975 & 6.059122 & 6.221634 & ... & 5.650252 & 4.890141 & 5.618526 & 5.649107 & 5.610017 & 6.237568 & 5.745693 & 6.103719 & 5.894335 & 5.767362\\\\\n",
       "\tADA & 5.958536 & 6.113981 & 6.261580 & 6.640444 & 6.297053 & 5.972297 & 5.957473 & 6.130789 & 6.002732 & 5.983142 & ... & 5.547107 & 5.622665 & 5.714129 & 5.560912 & 5.709543 & 5.583211 & 5.550557 & 5.562499 & 5.533398 & 5.675797\\\\\n",
       "\tCDH2 & 7.389671 & 7.629390 & 7.571414 & 8.030948 & 7.947093 & 7.826966 & 8.013628 & 8.341505 & 7.874299 & 7.967849 & ... & 7.753341 & 7.637738 & 7.858467 & 7.619472 & 8.094593 & 7.579501 & 7.791573 & 7.953280 & 7.873714 & 7.569410\\\\\n",
       "\tAKT3 & 5.293475 & 5.150656 & 5.221224 & 5.653483 & 5.022664 & 5.331675 & 5.324332 & 4.909831 & 4.789077 & 4.885067 & ... & 4.866788 & 5.042578 & 4.919501 & 5.035228 & 4.965306 & 5.224493 & 5.070423 & 5.045179 & 4.963966 & 4.948279\\\\\n",
       "\tMED6 & 5.692741 & 5.525863 & 5.353248 & 5.297997 & 5.586159 & 5.610716 & 5.849680 & 5.516485 & 5.722200 & 5.943328 & ... & 6.006612 & 6.396482 & 5.532209 & 6.337287 & 5.667979 & 6.377386 & 5.815019 & 5.965133 & 5.393812 & 6.163521\\\\\n",
       "\tNR2E3 & 5.395376 & 5.094417 & 5.022165 & 5.492633 & 5.078376 & 5.224105 & 5.073197 & 4.956384 & 5.060217 & 4.980131 & ... & 4.840588 & 4.752539 & 4.835178 & 4.839157 & 4.931567 & 4.884846 & 4.939863 & 4.926293 & 4.949183 & 4.811335\\\\\n",
       "\\end{tabular}\n"
      ],
      "text/markdown": [
       "\n",
       "A data.frame: 6 x 251\n",
       "\n",
       "| <!--/--> | GSM2431721 &lt;dbl&gt; | GSM2431722 &lt;dbl&gt; | GSM2431723 &lt;dbl&gt; | GSM2431726 &lt;dbl&gt; | GSM2431727 &lt;dbl&gt; | GSM2431728 &lt;dbl&gt; | GSM2431731 &lt;dbl&gt; | GSM2431734 &lt;dbl&gt; | GSM2431735 &lt;dbl&gt; | GSM2431737 &lt;dbl&gt; | ... ... | GSM2431958 &lt;dbl&gt; | GSM2431959 &lt;dbl&gt; | GSM2431969 &lt;dbl&gt; | GSM2431970 &lt;dbl&gt; | GSM2431995 &lt;dbl&gt; | GSM2432065 &lt;dbl&gt; | GSM2432068 &lt;dbl&gt; | GSM2432070 &lt;dbl&gt; | GSM2432077 &lt;dbl&gt; | GSM2432081 &lt;dbl&gt; |\n",
       "|---|---|---|---|---|---|---|---|---|---|---|---|---|---|---|---|---|---|---|---|---|---|\n",
       "| NAT2 | 6.918508 | 6.397328 | 6.814676 | 7.550068 | 6.336289 | 6.266404 | 6.563808 | 6.218975 | 6.059122 | 6.221634 | ... | 5.650252 | 4.890141 | 5.618526 | 5.649107 | 5.610017 | 6.237568 | 5.745693 | 6.103719 | 5.894335 | 5.767362 |\n",
       "| ADA | 5.958536 | 6.113981 | 6.261580 | 6.640444 | 6.297053 | 5.972297 | 5.957473 | 6.130789 | 6.002732 | 5.983142 | ... | 5.547107 | 5.622665 | 5.714129 | 5.560912 | 5.709543 | 5.583211 | 5.550557 | 5.562499 | 5.533398 | 5.675797 |\n",
       "| CDH2 | 7.389671 | 7.629390 | 7.571414 | 8.030948 | 7.947093 | 7.826966 | 8.013628 | 8.341505 | 7.874299 | 7.967849 | ... | 7.753341 | 7.637738 | 7.858467 | 7.619472 | 8.094593 | 7.579501 | 7.791573 | 7.953280 | 7.873714 | 7.569410 |\n",
       "| AKT3 | 5.293475 | 5.150656 | 5.221224 | 5.653483 | 5.022664 | 5.331675 | 5.324332 | 4.909831 | 4.789077 | 4.885067 | ... | 4.866788 | 5.042578 | 4.919501 | 5.035228 | 4.965306 | 5.224493 | 5.070423 | 5.045179 | 4.963966 | 4.948279 |\n",
       "| MED6 | 5.692741 | 5.525863 | 5.353248 | 5.297997 | 5.586159 | 5.610716 | 5.849680 | 5.516485 | 5.722200 | 5.943328 | ... | 6.006612 | 6.396482 | 5.532209 | 6.337287 | 5.667979 | 6.377386 | 5.815019 | 5.965133 | 5.393812 | 6.163521 |\n",
       "| NR2E3 | 5.395376 | 5.094417 | 5.022165 | 5.492633 | 5.078376 | 5.224105 | 5.073197 | 4.956384 | 5.060217 | 4.980131 | ... | 4.840588 | 4.752539 | 4.835178 | 4.839157 | 4.931567 | 4.884846 | 4.939863 | 4.926293 | 4.949183 | 4.811335 |\n",
       "\n"
      ],
      "text/plain": [
       "      GSM2431721 GSM2431722 GSM2431723 GSM2431726 GSM2431727 GSM2431728\n",
       "NAT2  6.918508   6.397328   6.814676   7.550068   6.336289   6.266404  \n",
       "ADA   5.958536   6.113981   6.261580   6.640444   6.297053   5.972297  \n",
       "CDH2  7.389671   7.629390   7.571414   8.030948   7.947093   7.826966  \n",
       "AKT3  5.293475   5.150656   5.221224   5.653483   5.022664   5.331675  \n",
       "MED6  5.692741   5.525863   5.353248   5.297997   5.586159   5.610716  \n",
       "NR2E3 5.395376   5.094417   5.022165   5.492633   5.078376   5.224105  \n",
       "      GSM2431731 GSM2431734 GSM2431735 GSM2431737 ... GSM2431958 GSM2431959\n",
       "NAT2  6.563808   6.218975   6.059122   6.221634   ... 5.650252   4.890141  \n",
       "ADA   5.957473   6.130789   6.002732   5.983142   ... 5.547107   5.622665  \n",
       "CDH2  8.013628   8.341505   7.874299   7.967849   ... 7.753341   7.637738  \n",
       "AKT3  5.324332   4.909831   4.789077   4.885067   ... 4.866788   5.042578  \n",
       "MED6  5.849680   5.516485   5.722200   5.943328   ... 6.006612   6.396482  \n",
       "NR2E3 5.073197   4.956384   5.060217   4.980131   ... 4.840588   4.752539  \n",
       "      GSM2431969 GSM2431970 GSM2431995 GSM2432065 GSM2432068 GSM2432070\n",
       "NAT2  5.618526   5.649107   5.610017   6.237568   5.745693   6.103719  \n",
       "ADA   5.714129   5.560912   5.709543   5.583211   5.550557   5.562499  \n",
       "CDH2  7.858467   7.619472   8.094593   7.579501   7.791573   7.953280  \n",
       "AKT3  4.919501   5.035228   4.965306   5.224493   5.070423   5.045179  \n",
       "MED6  5.532209   6.337287   5.667979   6.377386   5.815019   5.965133  \n",
       "NR2E3 4.835178   4.839157   4.931567   4.884846   4.939863   4.926293  \n",
       "      GSM2432077 GSM2432081\n",
       "NAT2  5.894335   5.767362  \n",
       "ADA   5.533398   5.675797  \n",
       "CDH2  7.873714   7.569410  \n",
       "AKT3  4.963966   4.948279  \n",
       "MED6  5.393812   6.163521  \n",
       "NR2E3 4.949183   4.811335  "
      ]
     },
     "metadata": {},
     "output_type": "display_data"
    }
   ],
   "source": [
    "head(data)"
   ]
  },
  {
   "cell_type": "code",
   "execution_count": 46,
   "id": "7fefc9f5-fe2e-48b1-9bf0-491fed4deba2",
   "metadata": {},
   "outputs": [],
   "source": [
    "group = exp4[,c(7,2)]"
   ]
  },
  {
   "cell_type": "markdown",
   "id": "af43c1ff-a816-421a-8229-56cd5db6e2c1",
   "metadata": {},
   "source": [
    "### limma"
   ]
  },
  {
   "cell_type": "code",
   "execution_count": 47,
   "id": "086533a8-9a44-4d56-8a08-760717c71647",
   "metadata": {},
   "outputs": [
    {
     "data": {
      "text/html": [
       "<style>\n",
       ".list-inline {list-style: none; margin:0; padding: 0}\n",
       ".list-inline>li {display: inline-block}\n",
       ".list-inline>li:not(:last-child)::after {content: \"\\00b7\"; padding: 0 .5ex}\n",
       "</style>\n",
       "<ol class=list-inline><li>251</li><li>11882</li></ol>\n"
      ],
      "text/latex": [
       "\\begin{enumerate*}\n",
       "\\item 251\n",
       "\\item 11882\n",
       "\\end{enumerate*}\n"
      ],
      "text/markdown": [
       "1. 251\n",
       "2. 11882\n",
       "\n",
       "\n"
      ],
      "text/plain": [
       "[1]   251 11882"
      ]
     },
     "metadata": {},
     "output_type": "display_data"
    }
   ],
   "source": [
    "dim(exp4)"
   ]
  },
  {
   "cell_type": "code",
   "execution_count": 48,
   "id": "72ae8d8c-1aaf-453a-995b-60c8a5b4953e",
   "metadata": {},
   "outputs": [
    {
     "data": {
      "text/html": [
       "<table class=\"dataframe\">\n",
       "<caption>A data.frame: 5 x 5</caption>\n",
       "<thead>\n",
       "\t<tr><th></th><th scope=col>GSM2431721</th><th scope=col>GSM2431722</th><th scope=col>GSM2431723</th><th scope=col>GSM2431726</th><th scope=col>GSM2431727</th></tr>\n",
       "\t<tr><th></th><th scope=col>&lt;dbl&gt;</th><th scope=col>&lt;dbl&gt;</th><th scope=col>&lt;dbl&gt;</th><th scope=col>&lt;dbl&gt;</th><th scope=col>&lt;dbl&gt;</th></tr>\n",
       "</thead>\n",
       "<tbody>\n",
       "\t<tr><th scope=row>NAT2</th><td>6.918508</td><td>6.397328</td><td>6.814676</td><td>7.550068</td><td>6.336289</td></tr>\n",
       "\t<tr><th scope=row>ADA</th><td>5.958536</td><td>6.113981</td><td>6.261580</td><td>6.640444</td><td>6.297053</td></tr>\n",
       "\t<tr><th scope=row>CDH2</th><td>7.389671</td><td>7.629390</td><td>7.571414</td><td>8.030948</td><td>7.947093</td></tr>\n",
       "\t<tr><th scope=row>AKT3</th><td>5.293475</td><td>5.150656</td><td>5.221224</td><td>5.653483</td><td>5.022664</td></tr>\n",
       "\t<tr><th scope=row>MED6</th><td>5.692741</td><td>5.525863</td><td>5.353248</td><td>5.297997</td><td>5.586159</td></tr>\n",
       "</tbody>\n",
       "</table>\n"
      ],
      "text/latex": [
       "A data.frame: 5 x 5\n",
       "\\begin{tabular}{r|lllll}\n",
       "  & GSM2431721 & GSM2431722 & GSM2431723 & GSM2431726 & GSM2431727\\\\\n",
       "  & <dbl> & <dbl> & <dbl> & <dbl> & <dbl>\\\\\n",
       "\\hline\n",
       "\tNAT2 & 6.918508 & 6.397328 & 6.814676 & 7.550068 & 6.336289\\\\\n",
       "\tADA & 5.958536 & 6.113981 & 6.261580 & 6.640444 & 6.297053\\\\\n",
       "\tCDH2 & 7.389671 & 7.629390 & 7.571414 & 8.030948 & 7.947093\\\\\n",
       "\tAKT3 & 5.293475 & 5.150656 & 5.221224 & 5.653483 & 5.022664\\\\\n",
       "\tMED6 & 5.692741 & 5.525863 & 5.353248 & 5.297997 & 5.586159\\\\\n",
       "\\end{tabular}\n"
      ],
      "text/markdown": [
       "\n",
       "A data.frame: 5 x 5\n",
       "\n",
       "| <!--/--> | GSM2431721 &lt;dbl&gt; | GSM2431722 &lt;dbl&gt; | GSM2431723 &lt;dbl&gt; | GSM2431726 &lt;dbl&gt; | GSM2431727 &lt;dbl&gt; |\n",
       "|---|---|---|---|---|---|\n",
       "| NAT2 | 6.918508 | 6.397328 | 6.814676 | 7.550068 | 6.336289 |\n",
       "| ADA | 5.958536 | 6.113981 | 6.261580 | 6.640444 | 6.297053 |\n",
       "| CDH2 | 7.389671 | 7.629390 | 7.571414 | 8.030948 | 7.947093 |\n",
       "| AKT3 | 5.293475 | 5.150656 | 5.221224 | 5.653483 | 5.022664 |\n",
       "| MED6 | 5.692741 | 5.525863 | 5.353248 | 5.297997 | 5.586159 |\n",
       "\n"
      ],
      "text/plain": [
       "     GSM2431721 GSM2431722 GSM2431723 GSM2431726 GSM2431727\n",
       "NAT2 6.918508   6.397328   6.814676   7.550068   6.336289  \n",
       "ADA  5.958536   6.113981   6.261580   6.640444   6.297053  \n",
       "CDH2 7.389671   7.629390   7.571414   8.030948   7.947093  \n",
       "AKT3 5.293475   5.150656   5.221224   5.653483   5.022664  \n",
       "MED6 5.692741   5.525863   5.353248   5.297997   5.586159  "
      ]
     },
     "metadata": {},
     "output_type": "display_data"
    },
    {
     "data": {
      "image/png": "[encoded data removed]",
      "text/plain": [
       "plot without title"
      ]
     },
     "metadata": {
      "image/png": {
       "height": 420,
       "width": 420
      }
     },
     "output_type": "display_data"
    }
   ],
   "source": [
    "exprSet = data\n",
    "par(mfrow=c(1,1))\n",
    "boxplot(data.frame(exprSet),col=\"blue\") ## 画箱式图，比较数据分布情况\n",
    "exprSet[1:5,1:5]"
   ]
  },
  {
   "cell_type": "code",
   "execution_count": 49,
   "id": "438c9d0d-cec8-45d4-9474-826b0b6ea73a",
   "metadata": {},
   "outputs": [],
   "source": [
    "group <- group[,2] #定义比较组，按照癌症和正常样品数目修改#\n",
    "design <- model.matrix(~0+factor(group))#把group设置成一个model matrix#"
   ]
  },
  {
   "cell_type": "code",
   "execution_count": 50,
   "id": "00d343e3-c94b-4486-8d7f-23dbdc98de88",
   "metadata": {},
   "outputs": [
    {
     "name": "stderr",
     "output_type": "stream",
     "text": [
      "Warning message:\n",
      "\"package 'limma' was built under R version 4.2.3\"\n"
     ]
    }
   ],
   "source": [
    "library(limma)"
   ]
  },
  {
   "cell_type": "code",
   "execution_count": null,
   "id": "17ebeeef-172d-415e-8d38-53cbc3fecec8",
   "metadata": {},
   "outputs": [],
   "source": []
  },
  {
   "cell_type": "code",
   "execution_count": 51,
   "id": "d1c1a363-2e99-4c4b-8fad-d2ce691e4fee",
   "metadata": {},
   "outputs": [],
   "source": [
    "\n",
    "\n",
    "colnames(design)=levels(factor(group))\n",
    "rownames(design)=colnames(exprSet)"
   ]
  },
  {
   "cell_type": "code",
   "execution_count": 52,
   "id": "8592495b-4696-41ea-934c-95794ef6c1eb",
   "metadata": {},
   "outputs": [],
   "source": [
    "fit <- lmFit(exprSet,design)\n",
    "cont.matrix<-makeContrasts(paste0(rev(unique(group)),collapse = \"-\"),levels = design)\n",
    "fit2=contrasts.fit(fit,cont.matrix)\n",
    "fit2 <- eBayes(fit2)  ## default no trend !!!\n",
    "##eBayes() with trend=TRUE\n",
    "tempOutput = topTable(fit2,coef=1,n=Inf,adjust=\"BH\") \n",
    "nrDEG = na.omit(tempOutput) "
   ]
  },
  {
   "cell_type": "code",
   "execution_count": 53,
   "id": "fa0b4b09-afd5-4044-be5e-830af8898a33",
   "metadata": {},
   "outputs": [],
   "source": [
    "foldChange=0 #fold change=1意思是差异是两倍\n",
    "padj=0.05#padj=0.05意思是矫正后P值小于0.05"
   ]
  },
  {
   "cell_type": "code",
   "execution_count": 54,
   "id": "5c619120-c396-46cb-a093-7aba4cb68b1b",
   "metadata": {},
   "outputs": [],
   "source": [
    "diff <- nrDEG"
   ]
  },
  {
   "cell_type": "code",
   "execution_count": 56,
   "id": "8458975f-b633-484c-90de-714a13aca88e",
   "metadata": {},
   "outputs": [],
   "source": [
    "diffSig = diff[(diff$P.Value < padj & (diff$logFC>foldChange | diff$logFC<(-foldChange))),]"
   ]
  },
  {
   "cell_type": "code",
   "execution_count": 514,
   "id": "eff09e2e-56e4-4f30-b0fd-cf266c4e2f02",
   "metadata": {},
   "outputs": [],
   "source": [
    "save(exp4,diffSig,file = 'step1.rda')"
   ]
  },
  {
   "cell_type": "code",
   "execution_count": 515,
   "id": "48afa8e6-fd80-4cec-8288-bc3af5733dec",
   "metadata": {},
   "outputs": [],
   "source": [
    "library(ggplot2)\n",
    "library(ggpubr)\n",
    "library(ggrepel)\n",
    "library(cowplot)"
   ]
  },
  {
   "cell_type": "code",
   "execution_count": 57,
   "id": "4806f449-5953-4faa-b602-53d60e608cc4",
   "metadata": {},
   "outputs": [],
   "source": [
    "data <- \n",
    "  nrDEG %>% \n",
    "  mutate(change = as.factor(ifelse(P.Value < 0.05 & abs(logFC) > 0,\n",
    "                                   ifelse(logFC > 0 ,'Up','Down'),'NOT'))) %>% \n",
    "  tibble::rownames_to_column('gene')"
   ]
  },
  {
   "cell_type": "code",
   "execution_count": 40,
   "id": "7fc37110-ee5f-4253-aa29-f2abb17e40fd",
   "metadata": {},
   "outputs": [
    {
     "ename": "ERROR",
     "evalue": "Error in data$change: object of type 'closure' is not subsettable\n",
     "output_type": "error",
     "traceback": [
      "Error in data$change: object of type 'closure' is not subsettable\nTraceback:\n"
     ]
    }
   ],
   "source": [
    "table(data$change)"
   ]
  },
  {
   "cell_type": "code",
   "execution_count": 61,
   "id": "fc11d712-0063-462e-90bc-3cf3db142175",
   "metadata": {},
   "outputs": [],
   "source": [
    "write.csv(data,file = 'matrix3.diffgene.76mdd.175control.csv')"
   ]
  },
  {
   "cell_type": "code",
   "execution_count": null,
   "id": "91e2c8e6-f33e-486f-84fc-30e12685a43d",
   "metadata": {},
   "outputs": [],
   "source": []
  },
  {
   "cell_type": "code",
   "execution_count": null,
   "id": "27fab095-eb52-4fbd-a4d1-0bfa0797554d",
   "metadata": {},
   "outputs": [],
   "source": []
  },
  {
   "cell_type": "code",
   "execution_count": null,
   "id": "50ae141d-73d5-4772-9a64-16d5e9e40f44",
   "metadata": {},
   "outputs": [],
   "source": []
  },
  {
   "cell_type": "code",
   "execution_count": null,
   "id": "1d28819c-ac07-4904-842e-9d65b0df7f48",
   "metadata": {},
   "outputs": [],
   "source": []
  },
  {
   "cell_type": "code",
   "execution_count": null,
   "id": "cdc506ed-fcac-4812-b68d-cd2af8a1b867",
   "metadata": {},
   "outputs": [],
   "source": []
  },
  {
   "cell_type": "code",
   "execution_count": null,
   "id": "50d8088f-0402-496f-bfce-15d62f631a3b",
   "metadata": {},
   "outputs": [],
   "source": []
  },
  {
   "cell_type": "code",
   "execution_count": 517,
   "id": "120b39ed-8c75-4004-9889-12d2a4673ff8",
   "metadata": {},
   "outputs": [],
   "source": [
    "rownames(data) = data[,1]"
   ]
  },
  {
   "cell_type": "code",
   "execution_count": 518,
   "id": "bdc38faa-da12-4b78-8fca-3f6134882435",
   "metadata": {},
   "outputs": [
    {
     "data": {
      "image/png": "[encoded data removed]",
      "text/plain": [
       "plot without title"
      ]
     },
     "metadata": {
      "image/png": {
       "height": 420,
       "width": 420
      }
     },
     "output_type": "display_data"
    }
   ],
   "source": [
    "top_5 <- bind_rows(   \n",
    "      data %>%\n",
    "        filter(change == 'Up') %>%\n",
    "        arrange(P.Value, desc(logFC)) %>%\n",
    "        head(5),\n",
    "      data %>%\n",
    "        filter(change == 'Down') %>%\n",
    "        arrange(P.Value, desc(logFC)) %>%\n",
    "        head(5)\n",
    "    )\n",
    "\n",
    "    ggplot(data=data,aes(x=logFC,y=-log10(P.Value)))+\n",
    "    geom_point(aes(color=change),size=2)+\n",
    "    geom_hline(yintercept = -log10(0.05), linetype=\"dashed\",color=\"grey30\")+\n",
    "    #geom_vline(xintercept = c(-.8,.8),linetype=\"dashed\",color=\"grey30\")+\n",
    "    geom_text_repel(data=top_5,aes(x= logFC,y= -log10(P.Value),label= rownames(top_5)))+\n",
    "    scale_color_manual(values = c(\"#35987F\",\"grey80\",\"#D27356\"))+\n",
    "    theme_half_open() +\n",
    "  theme(axis.title.x = element_text(size = 15))+\n",
    "  theme(axis.text.x = element_text(size = 15))+\n",
    "  theme(axis.text.y = element_text(size = 15))+\n",
    "  theme(plot.title = element_text(size = 15,face = 4, hjust =0.5))\n",
    "    ggsave('Volcano.pdf',height = 8,width = 8)"
   ]
  },
  {
   "cell_type": "code",
   "execution_count": 519,
   "id": "0f841cfe-ebda-41fc-84f4-5ff861d55ecc",
   "metadata": {},
   "outputs": [],
   "source": [
    "library(clusterProfiler)\n",
    "library(org.Hs.eg.db)"
   ]
  },
  {
   "cell_type": "code",
   "execution_count": 520,
   "id": "40d37f5b-dd0c-4862-b726-3272d43bcbfb",
   "metadata": {},
   "outputs": [
    {
     "name": "stderr",
     "output_type": "stream",
     "text": [
      "'select()' returned 1:many mapping between keys and columns\n",
      "\n",
      "Warning message in bitr(geneID = rownames(diffSig), fromType = \"SYMBOL\", toType = c(\"ENTREZID\"), :\n",
      "\"9.35% of input gene IDs are fail to map...\"\n"
     ]
    }
   ],
   "source": [
    "gene_symbol <- bitr(geneID = rownames(diffSig),  \n",
    "                        fromType=\"SYMBOL\",   \n",
    "                        toType=c(\"ENTREZID\"),  \n",
    "                        OrgDb=\"org.Hs.eg.db\")\n",
    "gene <- gene_symbol[,2]\n",
    "BP <- enrichGO(gene = gene,  \n",
    "               keyType = \"ENTREZID\",  \n",
    "               OrgDb=org.Hs.eg.db,  \n",
    "               ont = \"BP\",   \n",
    "               pvalueCutoff = 0.05,  \n",
    "               pAdjustMethod = \"fdr\", \n",
    "               minGSSize = 5,   \n",
    "               maxGSSize = 500,  \n",
    "               qvalueCutoff = 1,  \n",
    "               readable = TRUE) "
   ]
  },
  {
   "cell_type": "code",
   "execution_count": 521,
   "id": "071493f1-60ea-4269-857b-c23ff9f3667e",
   "metadata": {},
   "outputs": [
    {
     "data": {
      "text/html": [
       "<style>\n",
       ".list-inline {list-style: none; margin:0; padding: 0}\n",
       ".list-inline>li {display: inline-block}\n",
       ".list-inline>li:not(:last-child)::after {content: \"\\00b7\"; padding: 0 .5ex}\n",
       "</style>\n",
       "<ol class=list-inline><li>'circadian sleep/wake cycle, REM sleep'</li><li>'circadian rhythm'</li><li>'regulation of circadian rhythm'</li><li>'circadian sleep/wake cycle process'</li><li>'circadian sleep/wake cycle, sleep'</li><li>'circadian sleep/wake cycle'</li><li>'regulation of circadian sleep/wake cycle'</li><li>'regulation of circadian sleep/wake cycle, sleep'</li><li>'positive regulation of circadian rhythm'</li><li>'circadian regulation of gene expression'</li><li>'circadian behavior'</li><li>'positive regulation of circadian sleep/wake cycle, sleep'</li><li>'regulation of circadian sleep/wake cycle, non-REM sleep'</li><li>'negative regulation of circadian rhythm'</li><li>'circadian sleep/wake cycle, non-REM sleep'</li><li>'entrainment of circadian clock by photoperiod'</li><li>'entrainment of circadian clock'</li></ol>\n"
      ],
      "text/latex": [
       "\\begin{enumerate*}\n",
       "\\item 'circadian sleep/wake cycle, REM sleep'\n",
       "\\item 'circadian rhythm'\n",
       "\\item 'regulation of circadian rhythm'\n",
       "\\item 'circadian sleep/wake cycle process'\n",
       "\\item 'circadian sleep/wake cycle, sleep'\n",
       "\\item 'circadian sleep/wake cycle'\n",
       "\\item 'regulation of circadian sleep/wake cycle'\n",
       "\\item 'regulation of circadian sleep/wake cycle, sleep'\n",
       "\\item 'positive regulation of circadian rhythm'\n",
       "\\item 'circadian regulation of gene expression'\n",
       "\\item 'circadian behavior'\n",
       "\\item 'positive regulation of circadian sleep/wake cycle, sleep'\n",
       "\\item 'regulation of circadian sleep/wake cycle, non-REM sleep'\n",
       "\\item 'negative regulation of circadian rhythm'\n",
       "\\item 'circadian sleep/wake cycle, non-REM sleep'\n",
       "\\item 'entrainment of circadian clock by photoperiod'\n",
       "\\item 'entrainment of circadian clock'\n",
       "\\end{enumerate*}\n"
      ],
      "text/markdown": [
       "1. 'circadian sleep/wake cycle, REM sleep'\n",
       "2. 'circadian rhythm'\n",
       "3. 'regulation of circadian rhythm'\n",
       "4. 'circadian sleep/wake cycle process'\n",
       "5. 'circadian sleep/wake cycle, sleep'\n",
       "6. 'circadian sleep/wake cycle'\n",
       "7. 'regulation of circadian sleep/wake cycle'\n",
       "8. 'regulation of circadian sleep/wake cycle, sleep'\n",
       "9. 'positive regulation of circadian rhythm'\n",
       "10. 'circadian regulation of gene expression'\n",
       "11. 'circadian behavior'\n",
       "12. 'positive regulation of circadian sleep/wake cycle, sleep'\n",
       "13. 'regulation of circadian sleep/wake cycle, non-REM sleep'\n",
       "14. 'negative regulation of circadian rhythm'\n",
       "15. 'circadian sleep/wake cycle, non-REM sleep'\n",
       "16. 'entrainment of circadian clock by photoperiod'\n",
       "17. 'entrainment of circadian clock'\n",
       "\n",
       "\n"
      ],
      "text/plain": [
       " [1] \"circadian sleep/wake cycle, REM sleep\"                   \n",
       " [2] \"circadian rhythm\"                                        \n",
       " [3] \"regulation of circadian rhythm\"                          \n",
       " [4] \"circadian sleep/wake cycle process\"                      \n",
       " [5] \"circadian sleep/wake cycle, sleep\"                       \n",
       " [6] \"circadian sleep/wake cycle\"                              \n",
       " [7] \"regulation of circadian sleep/wake cycle\"                \n",
       " [8] \"regulation of circadian sleep/wake cycle, sleep\"         \n",
       " [9] \"positive regulation of circadian rhythm\"                 \n",
       "[10] \"circadian regulation of gene expression\"                 \n",
       "[11] \"circadian behavior\"                                      \n",
       "[12] \"positive regulation of circadian sleep/wake cycle, sleep\"\n",
       "[13] \"regulation of circadian sleep/wake cycle, non-REM sleep\" \n",
       "[14] \"negative regulation of circadian rhythm\"                 \n",
       "[15] \"circadian sleep/wake cycle, non-REM sleep\"               \n",
       "[16] \"entrainment of circadian clock by photoperiod\"           \n",
       "[17] \"entrainment of circadian clock\"                          "
      ]
     },
     "metadata": {},
     "output_type": "display_data"
    }
   ],
   "source": [
    "grep('circadian',BP@result$Description,value = T)"
   ]
  },
  {
   "cell_type": "code",
   "execution_count": 522,
   "id": "ea8b43d8-791a-440d-a740-dbc8947ad0b4",
   "metadata": {},
   "outputs": [
    {
     "data": {
      "text/html": [
       "<style>\n",
       ".list-inline {list-style: none; margin:0; padding: 0}\n",
       ".list-inline>li {display: inline-block}\n",
       ".list-inline>li:not(:last-child)::after {content: \"\\00b7\"; padding: 0 .5ex}\n",
       "</style>\n",
       "<ol class=list-inline><li>1555</li><li>1608</li><li>1615</li><li>2381</li><li>2744</li><li>2840</li><li>3119</li><li>3583</li><li>4120</li><li>5206</li><li>5437</li><li>5946</li><li>6380</li><li>6532</li><li>6789</li><li>7543</li><li>7837</li></ol>\n"
      ],
      "text/latex": [
       "\\begin{enumerate*}\n",
       "\\item 1555\n",
       "\\item 1608\n",
       "\\item 1615\n",
       "\\item 2381\n",
       "\\item 2744\n",
       "\\item 2840\n",
       "\\item 3119\n",
       "\\item 3583\n",
       "\\item 4120\n",
       "\\item 5206\n",
       "\\item 5437\n",
       "\\item 5946\n",
       "\\item 6380\n",
       "\\item 6532\n",
       "\\item 6789\n",
       "\\item 7543\n",
       "\\item 7837\n",
       "\\end{enumerate*}\n"
      ],
      "text/markdown": [
       "1. 1555\n",
       "2. 1608\n",
       "3. 1615\n",
       "4. 2381\n",
       "5. 2744\n",
       "6. 2840\n",
       "7. 3119\n",
       "8. 3583\n",
       "9. 4120\n",
       "10. 5206\n",
       "11. 5437\n",
       "12. 5946\n",
       "13. 6380\n",
       "14. 6532\n",
       "15. 6789\n",
       "16. 7543\n",
       "17. 7837\n",
       "\n",
       "\n"
      ],
      "text/plain": [
       " [1] 1555 1608 1615 2381 2744 2840 3119 3583 4120 5206 5437 5946 6380 6532 6789\n",
       "[16] 7543 7837"
      ]
     },
     "metadata": {},
     "output_type": "display_data"
    }
   ],
   "source": [
    "grep('circadian',BP@result$Description)"
   ]
  },
  {
   "cell_type": "code",
   "execution_count": 523,
   "id": "b3a4c6a4-55eb-4f4f-9ab5-ce69558b9da3",
   "metadata": {},
   "outputs": [
    {
     "data": {
      "text/html": [
       "<table class=\"dataframe\">\n",
       "<caption>A data.frame: 1 x 9</caption>\n",
       "<thead>\n",
       "\t<tr><th></th><th scope=col>ID</th><th scope=col>Description</th><th scope=col>GeneRatio</th><th scope=col>BgRatio</th><th scope=col>pvalue</th><th scope=col>p.adjust</th><th scope=col>qvalue</th><th scope=col>geneID</th><th scope=col>Count</th></tr>\n",
       "\t<tr><th></th><th scope=col>&lt;chr&gt;</th><th scope=col>&lt;chr&gt;</th><th scope=col>&lt;chr&gt;</th><th scope=col>&lt;chr&gt;</th><th scope=col>&lt;dbl&gt;</th><th scope=col>&lt;dbl&gt;</th><th scope=col>&lt;dbl&gt;</th><th scope=col>&lt;chr&gt;</th><th scope=col>&lt;int&gt;</th></tr>\n",
       "</thead>\n",
       "<tbody>\n",
       "\t<tr><th scope=row>GO:1900046</th><td>GO:1900046</td><td>regulation of hemostasis</td><td>18/2627</td><td>72/18903</td><td>0.008411595</td><td>0.05917305</td><td>0.04569766</td><td>PLAUR/FGG/CAV1/F12/EDN1/TSPAN8/PLAT/TFPI/KLKB1/PROS1/SERPINB2/FGA/PLAU/C1QTNF1/HPSE/PRDX2/EPHB2/F2R</td><td>18</td></tr>\n",
       "</tbody>\n",
       "</table>\n"
      ],
      "text/latex": [
       "A data.frame: 1 x 9\n",
       "\\begin{tabular}{r|lllllllll}\n",
       "  & ID & Description & GeneRatio & BgRatio & pvalue & p.adjust & qvalue & geneID & Count\\\\\n",
       "  & <chr> & <chr> & <chr> & <chr> & <dbl> & <dbl> & <dbl> & <chr> & <int>\\\\\n",
       "\\hline\n",
       "\tGO:1900046 & GO:1900046 & regulation of hemostasis & 18/2627 & 72/18903 & 0.008411595 & 0.05917305 & 0.04569766 & PLAUR/FGG/CAV1/F12/EDN1/TSPAN8/PLAT/TFPI/KLKB1/PROS1/SERPINB2/FGA/PLAU/C1QTNF1/HPSE/PRDX2/EPHB2/F2R & 18\\\\\n",
       "\\end{tabular}\n"
      ],
      "text/markdown": [
       "\n",
       "A data.frame: 1 x 9\n",
       "\n",
       "| <!--/--> | ID &lt;chr&gt; | Description &lt;chr&gt; | GeneRatio &lt;chr&gt; | BgRatio &lt;chr&gt; | pvalue &lt;dbl&gt; | p.adjust &lt;dbl&gt; | qvalue &lt;dbl&gt; | geneID &lt;chr&gt; | Count &lt;int&gt; |\n",
       "|---|---|---|---|---|---|---|---|---|---|\n",
       "| GO:1900046 | GO:1900046 | regulation of hemostasis | 18/2627 | 72/18903 | 0.008411595 | 0.05917305 | 0.04569766 | PLAUR/FGG/CAV1/F12/EDN1/TSPAN8/PLAT/TFPI/KLKB1/PROS1/SERPINB2/FGA/PLAU/C1QTNF1/HPSE/PRDX2/EPHB2/F2R | 18 |\n",
       "\n"
      ],
      "text/plain": [
       "           ID         Description              GeneRatio BgRatio  pvalue     \n",
       "GO:1900046 GO:1900046 regulation of hemostasis 18/2627   72/18903 0.008411595\n",
       "           p.adjust   qvalue    \n",
       "GO:1900046 0.05917305 0.04569766\n",
       "           geneID                                                                                             \n",
       "GO:1900046 PLAUR/FGG/CAV1/F12/EDN1/TSPAN8/PLAT/TFPI/KLKB1/PROS1/SERPINB2/FGA/PLAU/C1QTNF1/HPSE/PRDX2/EPHB2/F2R\n",
       "           Count\n",
       "GO:1900046 18   "
      ]
     },
     "metadata": {},
     "output_type": "display_data"
    }
   ],
   "source": [
    "BP@result[1162,]"
   ]
  },
  {
   "cell_type": "code",
   "execution_count": 524,
   "id": "af5c692d-237d-4bcc-9ede-015d8f2eb442",
   "metadata": {},
   "outputs": [
    {
     "name": "stderr",
     "output_type": "stream",
     "text": [
      "'select()' returned 1:many mapping between keys and columns\n",
      "\n",
      "Warning message in bitr(rownames(diff), fromType = \"SYMBOL\", toType = \"ENTREZID\", :\n",
      "\"9.75% of input gene IDs are fail to map...\"\n"
     ]
    }
   ],
   "source": [
    "library(org.Mm.eg.db)\n",
    "library(clusterProfiler)\n",
    "gene <- bitr(rownames(diff),     #转换的列是nrDEG的列名\n",
    "             fromType = \"SYMBOL\",     #需要转换ID类型\n",
    "             toType =  \"ENTREZID\",    #转换成的ID类型\n",
    "             OrgDb = org.Hs.eg.db)    #对应的物种，小鼠的是org.Mm.eg.db"
   ]
  },
  {
   "cell_type": "code",
   "execution_count": 525,
   "id": "0d710bdc-a0c5-4df9-a9a4-16a8db0eb221",
   "metadata": {},
   "outputs": [],
   "source": [
    "gene$logFC <- diff$logFC[match(gene$SYMBOL,rownames(diff))]"
   ]
  },
  {
   "cell_type": "code",
   "execution_count": 526,
   "id": "547a880a-c4e4-4235-b3c1-54fd13ef08dd",
   "metadata": {},
   "outputs": [
    {
     "data": {
      "text/html": [
       "<style>\n",
       ".dl-inline {width: auto; margin:0; padding: 0}\n",
       ".dl-inline>dt, .dl-inline>dd {float: none; width: auto; display: inline-block}\n",
       ".dl-inline>dt::after {content: \":\\0020\"; padding-right: .5ex}\n",
       ".dl-inline>dt:not(:first-of-type) {padding-left: .5ex}\n",
       "</style><dl class=dl-inline><dt>478</dt><dd>0.49629268856714</dd><dt>6857</dt><dd>0.484317679449923</dd><dt>885</dt><dd>0.431145819029172</dd><dt>4745</dt><dd>0.403433044942855</dd><dt>1114</dt><dd>0.400635369185638</dd><dt>26960</dt><dd>0.38804870811985</dd></dl>\n"
      ],
      "text/latex": [
       "\\begin{description*}\n",
       "\\item[478] 0.49629268856714\n",
       "\\item[6857] 0.484317679449923\n",
       "\\item[885] 0.431145819029172\n",
       "\\item[4745] 0.403433044942855\n",
       "\\item[1114] 0.400635369185638\n",
       "\\item[26960] 0.38804870811985\n",
       "\\end{description*}\n"
      ],
      "text/markdown": [
       "478\n",
       ":   0.496292688567146857\n",
       ":   0.484317679449923885\n",
       ":   0.4311458190291724745\n",
       ":   0.4034330449428551114\n",
       ":   0.40063536918563826960\n",
       ":   0.38804870811985\n",
       "\n"
      ],
      "text/plain": [
       "      478      6857       885      4745      1114     26960 \n",
       "0.4962927 0.4843177 0.4311458 0.4034330 0.4006354 0.3880487 "
      ]
     },
     "metadata": {},
     "output_type": "display_data"
    }
   ],
   "source": [
    "geneList=gene$logFC\n",
    "names(geneList)=gene$ENTREZID \n",
    "#按照logFC的值来排序geneList\n",
    "geneList=sort(geneList,decreasing = T)\n",
    "head(geneList)"
   ]
  },
  {
   "cell_type": "code",
   "execution_count": 527,
   "id": "fd4b7e9b-7e07-4eb0-b31d-1fab786a1c2a",
   "metadata": {},
   "outputs": [],
   "source": [
    "GOID <- c(\"GO:0007623\")"
   ]
  },
  {
   "cell_type": "code",
   "execution_count": 528,
   "id": "1fd5e022-0e9d-47cc-9558-d9d6885329cb",
   "metadata": {},
   "outputs": [],
   "source": [
    "GOgeneID <- get(GOID, org.Hs.egGO2ALLEGS) %>% mget(org.Hs.egSYMBOL) %>% unlist()"
   ]
  },
  {
   "cell_type": "code",
   "execution_count": 529,
   "id": "21840c48-ba3e-4966-b9d3-76bfd4dda831",
   "metadata": {},
   "outputs": [],
   "source": [
    "#write.table(t(as.data.frame(GOgeneID)) %>% as.data.frame(),file = 'circadian.gmt',col.names = F,quote = F,sep = '\\t')"
   ]
  },
  {
   "cell_type": "code",
   "execution_count": 530,
   "id": "b061c64c-e2a3-419e-b92a-4a79fe795894",
   "metadata": {},
   "outputs": [],
   "source": [
    "pathway<-read.gmt(\"./circadian.gmt\")"
   ]
  },
  {
   "cell_type": "code",
   "execution_count": 531,
   "id": "1a9a740c-e851-48d6-9048-ef32ae3a0c2e",
   "metadata": {},
   "outputs": [],
   "source": [
    "alldiff <- diff[order(diff$logFC,decreasing = T),]\n",
    "FCgenelist <- alldiff$logFC                 # 把数值保存到一维向量中\n",
    "names(FCgenelist) <- row.names(alldiff)"
   ]
  },
  {
   "cell_type": "code",
   "execution_count": 532,
   "id": "59e095d4-bbd8-4809-a037-f64d20a20076",
   "metadata": {},
   "outputs": [
    {
     "name": "stderr",
     "output_type": "stream",
     "text": [
      "preparing geneSet collections...\n",
      "\n",
      "GSEA analysis...\n",
      "\n",
      "leading edge analysis...\n",
      "\n",
      "done...\n",
      "\n"
     ]
    }
   ],
   "source": [
    "y <- GSEA(FCgenelist,TERM2GENE =pathway,pvalueCutoff = 1\n",
    "         )"
   ]
  },
  {
   "cell_type": "code",
   "execution_count": 533,
   "id": "1a7c10ad-a129-4992-b6e0-fbbb7fa62181",
   "metadata": {},
   "outputs": [
    {
     "data": {
      "text/html": [
       "<table class=\"dataframe\">\n",
       "<caption>A data.frame: 1 x 11</caption>\n",
       "<thead>\n",
       "\t<tr><th></th><th scope=col>ID</th><th scope=col>Description</th><th scope=col>setSize</th><th scope=col>enrichmentScore</th><th scope=col>NES</th><th scope=col>pvalue</th><th scope=col>p.adjust</th><th scope=col>qvalue</th><th scope=col>rank</th><th scope=col>leading_edge</th><th scope=col>core_enrichment</th></tr>\n",
       "\t<tr><th></th><th scope=col>&lt;chr&gt;</th><th scope=col>&lt;chr&gt;</th><th scope=col>&lt;int&gt;</th><th scope=col>&lt;dbl&gt;</th><th scope=col>&lt;dbl&gt;</th><th scope=col>&lt;dbl&gt;</th><th scope=col>&lt;dbl&gt;</th><th scope=col>&lt;lgl&gt;</th><th scope=col>&lt;int&gt;</th><th scope=col>&lt;chr&gt;</th><th scope=col>&lt;chr&gt;</th></tr>\n",
       "</thead>\n",
       "<tbody>\n",
       "\t<tr><th scope=row>circadian rhythm</th><td>circadian rhythm</td><td>circadian rhythm</td><td>173</td><td>0.2695399</td><td>1.056772</td><td>0.3587082</td><td>0.3587082</td><td>NA</td><td>3138</td><td>tags=34%, list=26%, signal=25%</td><td>MAPK9/ASS1/OPN3/MAGED1/FBXW7/CSNK1D/MAPK10/EGR3/HOMER1/JUND/FBXW11/SIAH2/CRH/PRKDC/MTA1/PRKCG/DBP/HNRNPD/CARTPT/PPP1CB/PRMT5/ADORA1/NONO/NDUFA9/SRD5A1/SFPQ/KLF10/PSPC1/IMPDH2/DDB1/KCND2/UBE3A/MYBBP1A/ADCY1/PPP1CA/GFPT1/MYCBP2/NR1D2/ID2/AHCY/TOP1/GNA11/PPARGC1A/NR2F6/NLGN1/NPAS2/MTOR/RBM4/USP7/NR0B2/HNRNPU/OGT/NR1D1/OPRL1/CSNK1E/PARP1/ATG7/CREB1/MAGEL2</td></tr>\n",
       "</tbody>\n",
       "</table>\n"
      ],
      "text/latex": [
       "A data.frame: 1 x 11\n",
       "\\begin{tabular}{r|lllllllllll}\n",
       "  & ID & Description & setSize & enrichmentScore & NES & pvalue & p.adjust & qvalue & rank & leading\\_edge & core\\_enrichment\\\\\n",
       "  & <chr> & <chr> & <int> & <dbl> & <dbl> & <dbl> & <dbl> & <lgl> & <int> & <chr> & <chr>\\\\\n",
       "\\hline\n",
       "\tcircadian rhythm & circadian rhythm & circadian rhythm & 173 & 0.2695399 & 1.056772 & 0.3587082 & 0.3587082 & NA & 3138 & tags=34\\%, list=26\\%, signal=25\\% & MAPK9/ASS1/OPN3/MAGED1/FBXW7/CSNK1D/MAPK10/EGR3/HOMER1/JUND/FBXW11/SIAH2/CRH/PRKDC/MTA1/PRKCG/DBP/HNRNPD/CARTPT/PPP1CB/PRMT5/ADORA1/NONO/NDUFA9/SRD5A1/SFPQ/KLF10/PSPC1/IMPDH2/DDB1/KCND2/UBE3A/MYBBP1A/ADCY1/PPP1CA/GFPT1/MYCBP2/NR1D2/ID2/AHCY/TOP1/GNA11/PPARGC1A/NR2F6/NLGN1/NPAS2/MTOR/RBM4/USP7/NR0B2/HNRNPU/OGT/NR1D1/OPRL1/CSNK1E/PARP1/ATG7/CREB1/MAGEL2\\\\\n",
       "\\end{tabular}\n"
      ],
      "text/markdown": [
       "\n",
       "A data.frame: 1 x 11\n",
       "\n",
       "| <!--/--> | ID &lt;chr&gt; | Description &lt;chr&gt; | setSize &lt;int&gt; | enrichmentScore &lt;dbl&gt; | NES &lt;dbl&gt; | pvalue &lt;dbl&gt; | p.adjust &lt;dbl&gt; | qvalue &lt;lgl&gt; | rank &lt;int&gt; | leading_edge &lt;chr&gt; | core_enrichment &lt;chr&gt; |\n",
       "|---|---|---|---|---|---|---|---|---|---|---|---|\n",
       "| circadian rhythm | circadian rhythm | circadian rhythm | 173 | 0.2695399 | 1.056772 | 0.3587082 | 0.3587082 | NA | 3138 | tags=34%, list=26%, signal=25% | MAPK9/ASS1/OPN3/MAGED1/FBXW7/CSNK1D/MAPK10/EGR3/HOMER1/JUND/FBXW11/SIAH2/CRH/PRKDC/MTA1/PRKCG/DBP/HNRNPD/CARTPT/PPP1CB/PRMT5/ADORA1/NONO/NDUFA9/SRD5A1/SFPQ/KLF10/PSPC1/IMPDH2/DDB1/KCND2/UBE3A/MYBBP1A/ADCY1/PPP1CA/GFPT1/MYCBP2/NR1D2/ID2/AHCY/TOP1/GNA11/PPARGC1A/NR2F6/NLGN1/NPAS2/MTOR/RBM4/USP7/NR0B2/HNRNPU/OGT/NR1D1/OPRL1/CSNK1E/PARP1/ATG7/CREB1/MAGEL2 |\n",
       "\n"
      ],
      "text/plain": [
       "                 ID               Description      setSize enrichmentScore\n",
       "circadian rhythm circadian rhythm circadian rhythm 173     0.2695399      \n",
       "                 NES      pvalue    p.adjust  qvalue rank\n",
       "circadian rhythm 1.056772 0.3587082 0.3587082 NA     3138\n",
       "                 leading_edge                  \n",
       "circadian rhythm tags=34%, list=26%, signal=25%\n",
       "                 core_enrichment                                                                                                                                                                                                                                                                                                                                                  \n",
       "circadian rhythm MAPK9/ASS1/OPN3/MAGED1/FBXW7/CSNK1D/MAPK10/EGR3/HOMER1/JUND/FBXW11/SIAH2/CRH/PRKDC/MTA1/PRKCG/DBP/HNRNPD/CARTPT/PPP1CB/PRMT5/ADORA1/NONO/NDUFA9/SRD5A1/SFPQ/KLF10/PSPC1/IMPDH2/DDB1/KCND2/UBE3A/MYBBP1A/ADCY1/PPP1CA/GFPT1/MYCBP2/NR1D2/ID2/AHCY/TOP1/GNA11/PPARGC1A/NR2F6/NLGN1/NPAS2/MTOR/RBM4/USP7/NR0B2/HNRNPU/OGT/NR1D1/OPRL1/CSNK1E/PARP1/ATG7/CREB1/MAGEL2"
      ]
     },
     "metadata": {},
     "output_type": "display_data"
    }
   ],
   "source": [
    "y@result"
   ]
  },
  {
   "cell_type": "code",
   "execution_count": null,
   "id": "1f7be953-8e1d-41d6-8aa5-553317d0bc19",
   "metadata": {},
   "outputs": [],
   "source": []
  }
 ],
 "metadata": {
  "kernelspec": {
   "display_name": "R",
   "language": "R",
   "name": "ir"
  },
  "language_info": {
   "codemirror_mode": "r",
   "file_extension": ".r",
   "mimetype": "text/x-r-source",
   "name": "R",
   "pygments_lexer": "r",
   "version": "4.2.1"
  }
 },
 "nbformat": 4,
 "nbformat_minor": 5
}
