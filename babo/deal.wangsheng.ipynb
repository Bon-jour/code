{
 "cells": [
  {
   "cell_type": "code",
   "execution_count": 6,
   "id": "70e05304-f6e1-4f59-b3fe-a3d0542e999e",
   "metadata": {},
   "outputs": [],
   "source": [
    "setwd('/import/wangsheng.out/')"
   ]
  },
  {
   "cell_type": "code",
   "execution_count": 8,
   "id": "10fbe315-8e3b-47ea-b30b-b8975e55f08f",
   "metadata": {},
   "outputs": [
    {
     "name": "stderr",
     "output_type": "stream",
     "text": [
      "Warning message:\n",
      "\"package 'dplyr' was built under R version 4.2.3\"\n",
      "\n",
      "Attaching package: 'dplyr'\n",
      "\n",
      "\n",
      "The following objects are masked from 'package:stats':\n",
      "\n",
      "    filter, lag\n",
      "\n",
      "\n",
      "The following objects are masked from 'package:base':\n",
      "\n",
      "    intersect, setdiff, setequal, union\n",
      "\n",
      "\n"
     ]
    }
   ],
   "source": [
    "library(dplyr)"
   ]
  },
  {
   "cell_type": "code",
   "execution_count": 9,
   "id": "92080dbc-2ea8-49f7-a09d-e85dc847682c",
   "metadata": {},
   "outputs": [],
   "source": [
    "da1 = read.table('./count.txt',header =T,sep = '\\t') %>% na.omit()"
   ]
  },
  {
   "cell_type": "code",
   "execution_count": 11,
   "id": "7c1b4bc8-d2c5-4441-a003-b3d37abdbdb2",
   "metadata": {},
   "outputs": [],
   "source": [
    "genele = read.table('./genelength.txt',header =T,sep = '\\t')"
   ]
  },
  {
   "cell_type": "code",
   "execution_count": 13,
   "id": "03eee51c-a5c0-4f58-a424-d9447d42a15d",
   "metadata": {},
   "outputs": [
    {
     "data": {
      "text/html": [
       "<style>\n",
       ".list-inline {list-style: none; margin:0; padding: 0}\n",
       ".list-inline>li {display: inline-block}\n",
       ".list-inline>li:not(:last-child)::after {content: \"\\00b7\"; padding: 0 .5ex}\n",
       "</style>\n",
       "<ol class=list-inline><li>53700</li><li>4</li></ol>\n"
      ],
      "text/latex": [
       "\\begin{enumerate*}\n",
       "\\item 53700\n",
       "\\item 4\n",
       "\\end{enumerate*}\n"
      ],
      "text/markdown": [
       "1. 53700\n",
       "2. 4\n",
       "\n",
       "\n"
      ],
      "text/plain": [
       "[1] 53700     4"
      ]
     },
     "metadata": {},
     "output_type": "display_data"
    }
   ],
   "source": [
    "merge<-merge(da1,genele,by = 'Geneid') #匹配gene_count与gene_length\n",
    "dim(merge)"
   ]
  },
  {
   "cell_type": "code",
   "execution_count": 14,
   "id": "6ba8867f-4433-4bd9-9fad-5a001c96893c",
   "metadata": {},
   "outputs": [],
   "source": [
    "count <- merge[,1:(dim(merge)[2]-1)]\n",
    "gene_num <- dim(merge)[1]\n",
    "sample_num <- dim(merge)[2]-2 #减去gene_name和gene_length列\n",
    "#从第二列开始，将每个样本的count循环转化成FPKM\n",
    "i <- 2"
   ]
  },
  {
   "cell_type": "code",
   "execution_count": 15,
   "id": "314d285a-0239-4e34-b341-dbfc2eed8535",
   "metadata": {},
   "outputs": [
    {
     "data": {
      "text/html": [
       "<table class=\"dataframe\">\n",
       "<caption>A data.frame: 6 x 5</caption>\n",
       "<thead>\n",
       "\t<tr><th></th><th scope=col>Geneid</th><th scope=col>WT_C3</th><th scope=col>WT_C4</th><th scope=col>FPKM</th><th scope=col>FPKM.1</th></tr>\n",
       "\t<tr><th></th><th scope=col>&lt;chr&gt;</th><th scope=col>&lt;int&gt;</th><th scope=col>&lt;int&gt;</th><th scope=col>&lt;dbl&gt;</th><th scope=col>&lt;dbl&gt;</th></tr>\n",
       "</thead>\n",
       "<tbody>\n",
       "\t<tr><th scope=row>1</th><td>ENSMUSG00000000001</td><td>1110</td><td>1162</td><td> 9.9816412</td><td>11.37406119</td></tr>\n",
       "\t<tr><th scope=row>2</th><td>ENSMUSG00000000003</td><td>   0</td><td>   0</td><td> 0.0000000</td><td> 0.00000000</td></tr>\n",
       "\t<tr><th scope=row>3</th><td>ENSMUSG00000000028</td><td>  66</td><td>  32</td><td> 0.5521982</td><td> 0.29142812</td></tr>\n",
       "\t<tr><th scope=row>4</th><td>ENSMUSG00000000031</td><td> 976</td><td> 923</td><td>11.6379810</td><td>11.98008730</td></tr>\n",
       "\t<tr><th scope=row>5</th><td>ENSMUSG00000000037</td><td>   4</td><td>  20</td><td> 0.0183420</td><td> 0.09982677</td></tr>\n",
       "\t<tr><th scope=row>6</th><td>ENSMUSG00000000049</td><td>   6</td><td>   0</td><td> 0.1104144</td><td> 0.00000000</td></tr>\n",
       "</tbody>\n",
       "</table>\n"
      ],
      "text/latex": [
       "A data.frame: 6 x 5\n",
       "\\begin{tabular}{r|lllll}\n",
       "  & Geneid & WT\\_C3 & WT\\_C4 & FPKM & FPKM.1\\\\\n",
       "  & <chr> & <int> & <int> & <dbl> & <dbl>\\\\\n",
       "\\hline\n",
       "\t1 & ENSMUSG00000000001 & 1110 & 1162 &  9.9816412 & 11.37406119\\\\\n",
       "\t2 & ENSMUSG00000000003 &    0 &    0 &  0.0000000 &  0.00000000\\\\\n",
       "\t3 & ENSMUSG00000000028 &   66 &   32 &  0.5521982 &  0.29142812\\\\\n",
       "\t4 & ENSMUSG00000000031 &  976 &  923 & 11.6379810 & 11.98008730\\\\\n",
       "\t5 & ENSMUSG00000000037 &    4 &   20 &  0.0183420 &  0.09982677\\\\\n",
       "\t6 & ENSMUSG00000000049 &    6 &    0 &  0.1104144 &  0.00000000\\\\\n",
       "\\end{tabular}\n"
      ],
      "text/markdown": [
       "\n",
       "A data.frame: 6 x 5\n",
       "\n",
       "| <!--/--> | Geneid &lt;chr&gt; | WT_C3 &lt;int&gt; | WT_C4 &lt;int&gt; | FPKM &lt;dbl&gt; | FPKM.1 &lt;dbl&gt; |\n",
       "|---|---|---|---|---|---|\n",
       "| 1 | ENSMUSG00000000001 | 1110 | 1162 |  9.9816412 | 11.37406119 |\n",
       "| 2 | ENSMUSG00000000003 |    0 |    0 |  0.0000000 |  0.00000000 |\n",
       "| 3 | ENSMUSG00000000028 |   66 |   32 |  0.5521982 |  0.29142812 |\n",
       "| 4 | ENSMUSG00000000031 |  976 |  923 | 11.6379810 | 11.98008730 |\n",
       "| 5 | ENSMUSG00000000037 |    4 |   20 |  0.0183420 |  0.09982677 |\n",
       "| 6 | ENSMUSG00000000049 |    6 |    0 |  0.1104144 |  0.00000000 |\n",
       "\n"
      ],
      "text/plain": [
       "  Geneid             WT_C3 WT_C4 FPKM       FPKM.1     \n",
       "1 ENSMUSG00000000001 1110  1162   9.9816412 11.37406119\n",
       "2 ENSMUSG00000000003    0     0   0.0000000  0.00000000\n",
       "3 ENSMUSG00000000028   66    32   0.5521982  0.29142812\n",
       "4 ENSMUSG00000000031  976   923  11.6379810 11.98008730\n",
       "5 ENSMUSG00000000037    4    20   0.0183420  0.09982677\n",
       "6 ENSMUSG00000000049    6     0   0.1104144  0.00000000"
      ]
     },
     "metadata": {},
     "output_type": "display_data"
    },
    {
     "data": {
      "text/html": [
       "<style>\n",
       ".list-inline {list-style: none; margin:0; padding: 0}\n",
       ".list-inline>li {display: inline-block}\n",
       ".list-inline>li:not(:last-child)::after {content: \"\\00b7\"; padding: 0 .5ex}\n",
       "</style>\n",
       "<ol class=list-inline><li>'Geneid_FPKM'</li><li>'WT_C3_FPKM'</li><li>'WT_C4_FPKM'</li></ol>\n"
      ],
      "text/latex": [
       "\\begin{enumerate*}\n",
       "\\item 'Geneid\\_FPKM'\n",
       "\\item 'WT\\_C3\\_FPKM'\n",
       "\\item 'WT\\_C4\\_FPKM'\n",
       "\\end{enumerate*}\n"
      ],
      "text/markdown": [
       "1. 'Geneid_FPKM'\n",
       "2. 'WT_C3_FPKM'\n",
       "3. 'WT_C4_FPKM'\n",
       "\n",
       "\n"
      ],
      "text/plain": [
       "[1] \"Geneid_FPKM\" \"WT_C3_FPKM\"  \"WT_C4_FPKM\" "
      ]
     },
     "metadata": {},
     "output_type": "display_data"
    }
   ],
   "source": [
    "\n",
    "\n",
    " \n",
    "repeat{\n",
    "        mapped_reads <- sum(merge[1:gene_num,i])#计算每个样本的mapped reads数\n",
    "        FPKM <- merge[1:gene_num,i]/(10^-9*mapped_reads*merge[1:gene_num,dim(merge)[2]])#计算FPKM值\n",
    "        FPKM <- pmax(FPKM,0)#去掉矫正带来的负值\n",
    "        count = data.frame(count[1:gene_num,],FPKM)#添加到count表格后面i\n",
    "        i <- i + 1\n",
    " \n",
    "        if(i > sample_num+1){\n",
    "        break\n",
    "        }\n",
    "}\n",
    " \n",
    "#生成表格列名称\n",
    "head(count)\n",
    "count_colname <- read.table(\"count.txt\",header = F,nrow = 1,as.is=TRUE)\n",
    "FPKM_colname <- paste(count_colname[1,],\"_FPKM\",sep=\"\")\n",
    "FPKM_colname\n"
   ]
  },
  {
   "cell_type": "code",
   "execution_count": 17,
   "id": "adc218ca-08c5-481d-ac18-7e0f62fa789e",
   "metadata": {},
   "outputs": [
    {
     "data": {
      "text/html": [
       "<style>\n",
       ".list-inline {list-style: none; margin:0; padding: 0}\n",
       ".list-inline>li {display: inline-block}\n",
       ".list-inline>li:not(:last-child)::after {content: \"\\00b7\"; padding: 0 .5ex}\n",
       "</style>\n",
       "<ol class=list-inline><li>'Geneid_FPKM'</li><li>'WT_C3_FPKM'</li><li>'WT_C4_FPKM'</li></ol>\n"
      ],
      "text/latex": [
       "\\begin{enumerate*}\n",
       "\\item 'Geneid\\_FPKM'\n",
       "\\item 'WT\\_C3\\_FPKM'\n",
       "\\item 'WT\\_C4\\_FPKM'\n",
       "\\end{enumerate*}\n"
      ],
      "text/markdown": [
       "1. 'Geneid_FPKM'\n",
       "2. 'WT_C3_FPKM'\n",
       "3. 'WT_C4_FPKM'\n",
       "\n",
       "\n"
      ],
      "text/plain": [
       "[1] \"Geneid_FPKM\" \"WT_C3_FPKM\"  \"WT_C4_FPKM\" "
      ]
     },
     "metadata": {},
     "output_type": "display_data"
    }
   ],
   "source": [
    "FPKM_colname"
   ]
  },
  {
   "cell_type": "code",
   "execution_count": 18,
   "id": "57e82df1-c3da-4dd8-9cc4-af67af2d9ef0",
   "metadata": {},
   "outputs": [
    {
     "data": {
      "text/html": [
       "<dl>\n",
       "</dl>\n"
      ],
      "text/latex": [
       "\\begin{description}\n",
       "\\end{description}\n"
      ],
      "text/markdown": [
       "\n",
       "\n"
      ],
      "text/plain": [
       "named list()"
      ]
     },
     "metadata": {},
     "output_type": "display_data"
    }
   ],
   "source": [
    "col_name"
   ]
  },
  {
   "cell_type": "code",
   "execution_count": 19,
   "id": "42bdaeb2-98d3-407b-9240-3b7be6bcb0a7",
   "metadata": {},
   "outputs": [
    {
     "data": {
      "text/html": [
       "<dl>\n",
       "\t<dt>$V1</dt>\n",
       "\t\t<dd>'Geneid'</dd>\n",
       "\t<dt>$V2</dt>\n",
       "\t\t<dd>'WT_C3'</dd>\n",
       "\t<dt>$V3</dt>\n",
       "\t\t<dd>'WT_C4'</dd>\n",
       "\t<dt>[[4]]</dt>\n",
       "\t\t<dd>'WT_C3_FPKM'</dd>\n",
       "\t<dt>[[5]]</dt>\n",
       "\t\t<dd>'WT_C4_FPKM'</dd>\n",
       "</dl>\n"
      ],
      "text/latex": [
       "\\begin{description}\n",
       "\\item[\\$V1] 'Geneid'\n",
       "\\item[\\$V2] 'WT\\_C3'\n",
       "\\item[\\$V3] 'WT\\_C4'\n",
       "\\item[{[[4]]}] 'WT\\_C3\\_FPKM'\n",
       "\\item[{[[5]]}] 'WT\\_C4\\_FPKM'\n",
       "\\end{description}\n"
      ],
      "text/markdown": [
       "$V1\n",
       ":   'Geneid'\n",
       "$V2\n",
       ":   'WT_C3'\n",
       "$V3\n",
       ":   'WT_C4'\n",
       "[[4]]\n",
       ":   'WT_C3_FPKM'\n",
       "[[5]]\n",
       ":   'WT_C4_FPKM'\n",
       "\n",
       "\n"
      ],
      "text/plain": [
       "$V1\n",
       "[1] \"Geneid\"\n",
       "\n",
       "$V2\n",
       "[1] \"WT_C3\"\n",
       "\n",
       "$V3\n",
       "[1] \"WT_C4\"\n",
       "\n",
       "[[4]]\n",
       "[1] \"WT_C3_FPKM\"\n",
       "\n",
       "[[5]]\n",
       "[1] \"WT_C4_FPKM\"\n"
      ]
     },
     "metadata": {},
     "output_type": "display_data"
    },
    {
     "data": {
      "text/html": [
       "<table class=\"dataframe\">\n",
       "<caption>A data.frame: 6 x 5</caption>\n",
       "<thead>\n",
       "\t<tr><th></th><th scope=col>Geneid</th><th scope=col>WT_C3</th><th scope=col>WT_C4</th><th scope=col>WT_C3_FPKM</th><th scope=col>WT_C4_FPKM</th></tr>\n",
       "\t<tr><th></th><th scope=col>&lt;chr&gt;</th><th scope=col>&lt;int&gt;</th><th scope=col>&lt;int&gt;</th><th scope=col>&lt;dbl&gt;</th><th scope=col>&lt;dbl&gt;</th></tr>\n",
       "</thead>\n",
       "<tbody>\n",
       "\t<tr><th scope=row>1</th><td>ENSMUSG00000000001</td><td>1110</td><td>1162</td><td> 9.9816412</td><td>11.37406119</td></tr>\n",
       "\t<tr><th scope=row>2</th><td>ENSMUSG00000000003</td><td>   0</td><td>   0</td><td> 0.0000000</td><td> 0.00000000</td></tr>\n",
       "\t<tr><th scope=row>3</th><td>ENSMUSG00000000028</td><td>  66</td><td>  32</td><td> 0.5521982</td><td> 0.29142812</td></tr>\n",
       "\t<tr><th scope=row>4</th><td>ENSMUSG00000000031</td><td> 976</td><td> 923</td><td>11.6379810</td><td>11.98008730</td></tr>\n",
       "\t<tr><th scope=row>5</th><td>ENSMUSG00000000037</td><td>   4</td><td>  20</td><td> 0.0183420</td><td> 0.09982677</td></tr>\n",
       "\t<tr><th scope=row>6</th><td>ENSMUSG00000000049</td><td>   6</td><td>   0</td><td> 0.1104144</td><td> 0.00000000</td></tr>\n",
       "</tbody>\n",
       "</table>\n"
      ],
      "text/latex": [
       "A data.frame: 6 x 5\n",
       "\\begin{tabular}{r|lllll}\n",
       "  & Geneid & WT\\_C3 & WT\\_C4 & WT\\_C3\\_FPKM & WT\\_C4\\_FPKM\\\\\n",
       "  & <chr> & <int> & <int> & <dbl> & <dbl>\\\\\n",
       "\\hline\n",
       "\t1 & ENSMUSG00000000001 & 1110 & 1162 &  9.9816412 & 11.37406119\\\\\n",
       "\t2 & ENSMUSG00000000003 &    0 &    0 &  0.0000000 &  0.00000000\\\\\n",
       "\t3 & ENSMUSG00000000028 &   66 &   32 &  0.5521982 &  0.29142812\\\\\n",
       "\t4 & ENSMUSG00000000031 &  976 &  923 & 11.6379810 & 11.98008730\\\\\n",
       "\t5 & ENSMUSG00000000037 &    4 &   20 &  0.0183420 &  0.09982677\\\\\n",
       "\t6 & ENSMUSG00000000049 &    6 &    0 &  0.1104144 &  0.00000000\\\\\n",
       "\\end{tabular}\n"
      ],
      "text/markdown": [
       "\n",
       "A data.frame: 6 x 5\n",
       "\n",
       "| <!--/--> | Geneid &lt;chr&gt; | WT_C3 &lt;int&gt; | WT_C4 &lt;int&gt; | WT_C3_FPKM &lt;dbl&gt; | WT_C4_FPKM &lt;dbl&gt; |\n",
       "|---|---|---|---|---|---|\n",
       "| 1 | ENSMUSG00000000001 | 1110 | 1162 |  9.9816412 | 11.37406119 |\n",
       "| 2 | ENSMUSG00000000003 |    0 |    0 |  0.0000000 |  0.00000000 |\n",
       "| 3 | ENSMUSG00000000028 |   66 |   32 |  0.5521982 |  0.29142812 |\n",
       "| 4 | ENSMUSG00000000031 |  976 |  923 | 11.6379810 | 11.98008730 |\n",
       "| 5 | ENSMUSG00000000037 |    4 |   20 |  0.0183420 |  0.09982677 |\n",
       "| 6 | ENSMUSG00000000049 |    6 |    0 |  0.1104144 |  0.00000000 |\n",
       "\n"
      ],
      "text/plain": [
       "  Geneid             WT_C3 WT_C4 WT_C3_FPKM WT_C4_FPKM \n",
       "1 ENSMUSG00000000001 1110  1162   9.9816412 11.37406119\n",
       "2 ENSMUSG00000000003    0     0   0.0000000  0.00000000\n",
       "3 ENSMUSG00000000028   66    32   0.5521982  0.29142812\n",
       "4 ENSMUSG00000000031  976   923  11.6379810 11.98008730\n",
       "5 ENSMUSG00000000037    4    20   0.0183420  0.09982677\n",
       "6 ENSMUSG00000000049    6     0   0.1104144  0.00000000"
      ]
     },
     "metadata": {},
     "output_type": "display_data"
    }
   ],
   "source": [
    "colname <- c(count_colname,FPKM_colname)\n",
    "col_name <- colname[-which(colname==\"Geneid_FPKM\")]#删除gene_FPKM\n",
    "col_name\n",
    "names(count) <- col_name\n",
    "head(count)"
   ]
  },
  {
   "cell_type": "code",
   "execution_count": 20,
   "id": "0764eca7-197f-469e-8b97-5d5e45217a4f",
   "metadata": {},
   "outputs": [],
   "source": [
    "write.csv(count,\"ALL_FPKM.csv\")"
   ]
  },
  {
   "cell_type": "code",
   "execution_count": 22,
   "id": "e02c9ff9-f680-4183-9171-c7579362da76",
   "metadata": {},
   "outputs": [],
   "source": [
    "ori = read.table('./fpkm.ori.txt',header =T,sep = '\\t')"
   ]
  },
  {
   "cell_type": "code",
   "execution_count": 24,
   "id": "7fc92cea-c80e-4191-a324-473623585f73",
   "metadata": {},
   "outputs": [],
   "source": [
    "colnames(ori)[1] = 'Geneid'"
   ]
  },
  {
   "cell_type": "code",
   "execution_count": 25,
   "id": "72a003d0-35ae-416a-838c-9474eed424ba",
   "metadata": {},
   "outputs": [
    {
     "data": {
      "text/html": [
       "<table class=\"dataframe\">\n",
       "<caption>A data.frame: 2 x 3</caption>\n",
       "<thead>\n",
       "\t<tr><th></th><th scope=col>Geneid</th><th scope=col>WT_C3</th><th scope=col>WT_C4</th></tr>\n",
       "\t<tr><th></th><th scope=col>&lt;chr&gt;</th><th scope=col>&lt;dbl&gt;</th><th scope=col>&lt;dbl&gt;</th></tr>\n",
       "</thead>\n",
       "<tbody>\n",
       "\t<tr><th scope=row>1</th><td>ENSMUSG00000000001</td><td>10.30823</td><td>11.76396</td></tr>\n",
       "\t<tr><th scope=row>2</th><td>ENSMUSG00000000003</td><td> 0.00000</td><td> 0.00000</td></tr>\n",
       "</tbody>\n",
       "</table>\n"
      ],
      "text/latex": [
       "A data.frame: 2 x 3\n",
       "\\begin{tabular}{r|lll}\n",
       "  & Geneid & WT\\_C3 & WT\\_C4\\\\\n",
       "  & <chr> & <dbl> & <dbl>\\\\\n",
       "\\hline\n",
       "\t1 & ENSMUSG00000000001 & 10.30823 & 11.76396\\\\\n",
       "\t2 & ENSMUSG00000000003 &  0.00000 &  0.00000\\\\\n",
       "\\end{tabular}\n"
      ],
      "text/markdown": [
       "\n",
       "A data.frame: 2 x 3\n",
       "\n",
       "| <!--/--> | Geneid &lt;chr&gt; | WT_C3 &lt;dbl&gt; | WT_C4 &lt;dbl&gt; |\n",
       "|---|---|---|---|\n",
       "| 1 | ENSMUSG00000000001 | 10.30823 | 11.76396 |\n",
       "| 2 | ENSMUSG00000000003 |  0.00000 |  0.00000 |\n",
       "\n"
      ],
      "text/plain": [
       "  Geneid             WT_C3    WT_C4   \n",
       "1 ENSMUSG00000000001 10.30823 11.76396\n",
       "2 ENSMUSG00000000003  0.00000  0.00000"
      ]
     },
     "metadata": {},
     "output_type": "display_data"
    }
   ],
   "source": [
    "head(ori,2)"
   ]
  },
  {
   "cell_type": "code",
   "execution_count": 26,
   "id": "321379d4-e748-4523-b64f-fab4b4f8d213",
   "metadata": {},
   "outputs": [],
   "source": [
    "count1 =count[,c(1,4,5)]"
   ]
  },
  {
   "cell_type": "code",
   "execution_count": 28,
   "id": "46f7bbdc-0cfb-4fea-bb06-1078d2d2772c",
   "metadata": {},
   "outputs": [],
   "source": [
    "data = merge(ori,count1,by = 'Geneid') %>% na.omit() "
   ]
  },
  {
   "cell_type": "code",
   "execution_count": 32,
   "id": "cf06ed1e-398d-414a-82b5-bd0fa42a8a7d",
   "metadata": {},
   "outputs": [],
   "source": [
    "rownames(data) = data[,1]"
   ]
  },
  {
   "cell_type": "code",
   "execution_count": 33,
   "id": "33c7f242-f2d2-49b8-bd02-b4c31ec58745",
   "metadata": {},
   "outputs": [],
   "source": [
    "data =data[,-1]"
   ]
  },
  {
   "cell_type": "code",
   "execution_count": 35,
   "id": "181ae72c-dfc5-4c74-9f0f-66dc0728d70d",
   "metadata": {},
   "outputs": [],
   "source": [
    "expr =data"
   ]
  },
  {
   "cell_type": "code",
   "execution_count": 48,
   "id": "949806e1-fd3b-4b16-8650-7419fc59b935",
   "metadata": {},
   "outputs": [],
   "source": [
    "cg=names(tail(sort(apply(expr,1,sd)),5000))\n",
    "n=expr[cg,]"
   ]
  },
  {
   "cell_type": "code",
   "execution_count": 49,
   "id": "e57cd155-5b18-441e-b8f0-103570065ce0",
   "metadata": {},
   "outputs": [
    {
     "data": {
      "text/html": [
       "<style>\n",
       ".list-inline {list-style: none; margin:0; padding: 0}\n",
       ".list-inline>li {display: inline-block}\n",
       ".list-inline>li:not(:last-child)::after {content: \"\\00b7\"; padding: 0 .5ex}\n",
       "</style>\n",
       "<ol class=list-inline><li>'WT_C3'</li><li>'WT_C4'</li><li>'WT_C3_FPKM'</li><li>'WT_C4_FPKM'</li></ol>\n"
      ],
      "text/latex": [
       "\\begin{enumerate*}\n",
       "\\item 'WT\\_C3'\n",
       "\\item 'WT\\_C4'\n",
       "\\item 'WT\\_C3\\_FPKM'\n",
       "\\item 'WT\\_C4\\_FPKM'\n",
       "\\end{enumerate*}\n"
      ],
      "text/markdown": [
       "1. 'WT_C3'\n",
       "2. 'WT_C4'\n",
       "3. 'WT_C3_FPKM'\n",
       "4. 'WT_C4_FPKM'\n",
       "\n",
       "\n"
      ],
      "text/plain": [
       "[1] \"WT_C3\"      \"WT_C4\"      \"WT_C3_FPKM\" \"WT_C4_FPKM\""
      ]
     },
     "metadata": {},
     "output_type": "display_data"
    }
   ],
   "source": [
    "colnames(data)"
   ]
  },
  {
   "cell_type": "code",
   "execution_count": null,
   "id": "a5bc0c5e-bd72-4af5-9611-606eb732f385",
   "metadata": {},
   "outputs": [],
   "source": []
  },
  {
   "cell_type": "code",
   "execution_count": 50,
   "id": "f669e7f6-a933-4ba3-a5b1-bf2f79bb387d",
   "metadata": {},
   "outputs": [],
   "source": [
    "group = c(rep('WT_C3',1),rep('WT_C4',1),rep('WT_C3_FPKM',1),rep('WT_C4_FPKM',1))"
   ]
  },
  {
   "cell_type": "code",
   "execution_count": 51,
   "id": "84802023-ee72-438a-9db7-91610276dce5",
   "metadata": {},
   "outputs": [],
   "source": [
    "library(Rtsne)\n",
    "tsne_out = Rtsne(t(n),perplexity = 1)"
   ]
  },
  {
   "cell_type": "code",
   "execution_count": 69,
   "id": "aaeb5de6-0712-4beb-8e83-35a2cc5c25cb",
   "metadata": {},
   "outputs": [
    {
     "data": {
      "text/html": [
       "<table class=\"dataframe\">\n",
       "<caption>A data.frame: 4 x 3</caption>\n",
       "<thead>\n",
       "\t<tr><th></th><th scope=col>Y1</th><th scope=col>Y2</th><th scope=col>group</th></tr>\n",
       "\t<tr><th></th><th scope=col>&lt;dbl&gt;</th><th scope=col>&lt;dbl&gt;</th><th scope=col>&lt;fct&gt;</th></tr>\n",
       "</thead>\n",
       "<tbody>\n",
       "\t<tr><th scope=row>1</th><td> 4790.7295</td><td>-2862.849</td><td>WT_C3     </td></tr>\n",
       "\t<tr><th scope=row>2</th><td>-4790.2727</td><td> 2863.220</td><td>WT_C4     </td></tr>\n",
       "\t<tr><th scope=row>3</th><td>  930.2512</td><td> 1113.540</td><td>WT_C3_FPKM</td></tr>\n",
       "\t<tr><th scope=row>4</th><td> -930.7081</td><td>-1113.911</td><td>WT_C4_FPKM</td></tr>\n",
       "</tbody>\n",
       "</table>\n"
      ],
      "text/latex": [
       "A data.frame: 4 x 3\n",
       "\\begin{tabular}{r|lll}\n",
       "  & Y1 & Y2 & group\\\\\n",
       "  & <dbl> & <dbl> & <fct>\\\\\n",
       "\\hline\n",
       "\t1 &  4790.7295 & -2862.849 & WT\\_C3     \\\\\n",
       "\t2 & -4790.2727 &  2863.220 & WT\\_C4     \\\\\n",
       "\t3 &   930.2512 &  1113.540 & WT\\_C3\\_FPKM\\\\\n",
       "\t4 &  -930.7081 & -1113.911 & WT\\_C4\\_FPKM\\\\\n",
       "\\end{tabular}\n"
      ],
      "text/markdown": [
       "\n",
       "A data.frame: 4 x 3\n",
       "\n",
       "| <!--/--> | Y1 &lt;dbl&gt; | Y2 &lt;dbl&gt; | group &lt;fct&gt; |\n",
       "|---|---|---|---|\n",
       "| 1 |  4790.7295 | -2862.849 | WT_C3      |\n",
       "| 2 | -4790.2727 |  2863.220 | WT_C4      |\n",
       "| 3 |   930.2512 |  1113.540 | WT_C3_FPKM |\n",
       "| 4 |  -930.7081 | -1113.911 | WT_C4_FPKM |\n",
       "\n"
      ],
      "text/plain": [
       "  Y1         Y2        group     \n",
       "1  4790.7295 -2862.849 WT_C3     \n",
       "2 -4790.2727  2863.220 WT_C4     \n",
       "3   930.2512  1113.540 WT_C3_FPKM\n",
       "4  -930.7081 -1113.911 WT_C4_FPKM"
      ]
     },
     "metadata": {},
     "output_type": "display_data"
    }
   ],
   "source": [
    "pdat = data.frame(tsne_out$Y,factor(group))\n",
    "colnames(pdat) = c(\"Y1\",\"Y2\",\"group\")\n",
    "head(pdat)"
   ]
  },
  {
   "cell_type": "code",
   "execution_count": 73,
   "id": "110d76e1-642a-4c32-998f-657e84664c26",
   "metadata": {},
   "outputs": [
    {
     "data": {
      "image/png": "[encoded data removed]",
      "text/plain": [
       "plot without title"
      ]
     },
     "metadata": {
      "image/png": {
       "height": 420,
       "width": 420
      }
     },
     "output_type": "display_data"
    }
   ],
   "source": [
    "library(ggplot2)\n",
    "library(paletteer)\n",
    "ggplot(pdat,aes(Y1,Y2))+\n",
    "  geom_point(aes(Y1,Y2,fill = group),shape = 21,color = \"black\",size = 8)+\n",
    " \n",
    "  scale_color_paletteer_d(\"RColorBrewer::Set2\")+\n",
    "  scale_fill_paletteer_d(\"RColorBrewer::Set2\")+\n",
    "  theme_classic()+\n",
    "  theme(legend.position = \"top\")"
   ]
  },
  {
   "cell_type": "code",
   "execution_count": 74,
   "id": "12a338cc-7359-476c-a8e1-ce7c159b9ea6",
   "metadata": {},
   "outputs": [
    {
     "data": {
      "text/html": [
       "<table class=\"dataframe\">\n",
       "<caption>A data.frame: 52350 x 4</caption>\n",
       "<thead>\n",
       "\t<tr><th></th><th scope=col>WT_C3</th><th scope=col>WT_C4</th><th scope=col>WT_C3_FPKM</th><th scope=col>WT_C4_FPKM</th></tr>\n",
       "\t<tr><th></th><th scope=col>&lt;dbl&gt;</th><th scope=col>&lt;dbl&gt;</th><th scope=col>&lt;dbl&gt;</th><th scope=col>&lt;dbl&gt;</th></tr>\n",
       "</thead>\n",
       "<tbody>\n",
       "\t<tr><th scope=row>ENSMUSG00000000001</th><td> 10.30823493</td><td> 11.76395507</td><td>  9.98164125</td><td> 11.37406119</td></tr>\n",
       "\t<tr><th scope=row>ENSMUSG00000000003</th><td>  0.00000000</td><td>  0.00000000</td><td>  0.00000000</td><td>  0.00000000</td></tr>\n",
       "\t<tr><th scope=row>ENSMUSG00000000028</th><td>  1.20582156</td><td>  0.67394969</td><td>  0.55219816</td><td>  0.29142812</td></tr>\n",
       "\t<tr><th scope=row>ENSMUSG00000000031</th><td> 13.81938060</td><td> 13.54720078</td><td> 11.63798103</td><td> 11.98008730</td></tr>\n",
       "\t<tr><th scope=row>ENSMUSG00000000037</th><td>  0.04141947</td><td>  0.22426456</td><td>  0.01834200</td><td>  0.09982677</td></tr>\n",
       "\t<tr><th scope=row>ENSMUSG00000000049</th><td>  0.27193186</td><td>  0.00000000</td><td>  0.11041444</td><td>  0.00000000</td></tr>\n",
       "\t<tr><th scope=row>ENSMUSG00000000056</th><td> 70.98838359</td><td> 79.83944070</td><td> 25.52484988</td><td> 28.78048249</td></tr>\n",
       "\t<tr><th scope=row>ENSMUSG00000000058</th><td> 51.60365842</td><td> 44.11682946</td><td> 22.06824301</td><td> 18.83223698</td></tr>\n",
       "\t<tr><th scope=row>ENSMUSG00000000078</th><td> 45.20289034</td><td> 55.69176354</td><td> 20.80930370</td><td> 25.51604269</td></tr>\n",
       "\t<tr><th scope=row>ENSMUSG00000000085</th><td> 28.08856719</td><td> 26.08985647</td><td>  5.39164562</td><td>  5.02216863</td></tr>\n",
       "\t<tr><th scope=row>ENSMUSG00000000088</th><td>124.75053550</td><td>112.40598060</td><td>107.14173554</td><td>100.08962519</td></tr>\n",
       "\t<tr><th scope=row>ENSMUSG00000000093</th><td>  2.18100452</td><td>  2.52405869</td><td>  2.01434791</td><td>  2.42157700</td></tr>\n",
       "\t<tr><th scope=row>ENSMUSG00000000094</th><td>  0.00000000</td><td>  0.04299449</td><td>  0.00000000</td><td>  0.03755318</td></tr>\n",
       "\t<tr><th scope=row>ENSMUSG00000000103</th><td>  0.00000000</td><td>  0.00000000</td><td>  0.00000000</td><td>  0.00000000</td></tr>\n",
       "\t<tr><th scope=row>ENSMUSG00000000120</th><td>  0.19270389</td><td>  0.07588290</td><td>  0.18727092</td><td>  0.07412558</td></tr>\n",
       "\t<tr><th scope=row>ENSMUSG00000000125</th><td>  0.00000000</td><td>  0.00000000</td><td>  0.00000000</td><td>  0.00000000</td></tr>\n",
       "\t<tr><th scope=row>ENSMUSG00000000126</th><td>  2.25542039</td><td>  1.93026989</td><td>  2.16762548</td><td>  1.86072128</td></tr>\n",
       "\t<tr><th scope=row>ENSMUSG00000000127</th><td>  7.51999804</td><td>  9.16128499</td><td>  3.75442907</td><td>  4.36644013</td></tr>\n",
       "\t<tr><th scope=row>ENSMUSG00000000131</th><td> 16.05326122</td><td> 17.41729077</td><td>  1.80300078</td><td>  1.93049492</td></tr>\n",
       "\t<tr><th scope=row>ENSMUSG00000000134</th><td>  5.42115158</td><td>  5.72558368</td><td>  1.52669432</td><td>  1.62733702</td></tr>\n",
       "\t<tr><th scope=row>ENSMUSG00000000142</th><td>  2.20168831</td><td>  1.34591718</td><td>  0.65528743</td><td>  0.37693854</td></tr>\n",
       "\t<tr><th scope=row>ENSMUSG00000000148</th><td>  2.64876053</td><td>  2.20799364</td><td>  1.30075440</td><td>  1.07482690</td></tr>\n",
       "\t<tr><th scope=row>ENSMUSG00000000149</th><td> 45.53873911</td><td> 47.43081516</td><td> 34.38263377</td><td> 34.98608557</td></tr>\n",
       "\t<tr><th scope=row>ENSMUSG00000000154</th><td>  0.09760529</td><td>  0.21139247</td><td>  0.06906047</td><td>  0.15034535</td></tr>\n",
       "\t<tr><th scope=row>ENSMUSG00000000157</th><td>  0.00000000</td><td>  0.00000000</td><td>  0.00000000</td><td>  0.00000000</td></tr>\n",
       "\t<tr><th scope=row>ENSMUSG00000000159</th><td>  0.00000000</td><td>  0.00000000</td><td>  0.00000000</td><td>  0.00000000</td></tr>\n",
       "\t<tr><th scope=row>ENSMUSG00000000167</th><td>  0.11837034</td><td>  0.12818259</td><td>  0.02085562</td><td>  0.06810436</td></tr>\n",
       "\t<tr><th scope=row>ENSMUSG00000000168</th><td>426.99684240</td><td>404.91310060</td><td> 99.80332313</td><td> 94.60596081</td></tr>\n",
       "\t<tr><th scope=row>ENSMUSG00000000171</th><td>308.31771360</td><td>294.09938160</td><td>299.55371365</td><td>285.81006525</td></tr>\n",
       "\t<tr><th scope=row>ENSMUSG00000000182</th><td>  0.00000000</td><td>  0.00000000</td><td>  0.00000000</td><td>  0.00000000</td></tr>\n",
       "\t<tr><th scope=row>...</th><td>...</td><td>...</td><td>...</td><td>...</td></tr>\n",
       "\t<tr><th scope=row>ENSMUSG00000118628</th><td>0.0000000</td><td>0.0000000</td><td>0.00000000</td><td>0.00000000</td></tr>\n",
       "\t<tr><th scope=row>ENSMUSG00000118629</th><td>0.0000000</td><td>0.0000000</td><td>0.00000000</td><td>0.00000000</td></tr>\n",
       "\t<tr><th scope=row>ENSMUSG00000118630</th><td>0.0000000</td><td>0.0000000</td><td>0.00000000</td><td>0.00000000</td></tr>\n",
       "\t<tr><th scope=row>ENSMUSG00000118631</th><td>0.0000000</td><td>0.0000000</td><td>0.00000000</td><td>0.00000000</td></tr>\n",
       "\t<tr><th scope=row>ENSMUSG00000118632</th><td>0.0000000</td><td>0.0000000</td><td>0.00000000</td><td>0.08994252</td></tr>\n",
       "\t<tr><th scope=row>ENSMUSG00000118633</th><td>0.1107686</td><td>0.3598520</td><td>0.07874748</td><td>0.25715109</td></tr>\n",
       "\t<tr><th scope=row>ENSMUSG00000118634</th><td>0.0000000</td><td>0.0000000</td><td>0.00000000</td><td>0.00000000</td></tr>\n",
       "\t<tr><th scope=row>ENSMUSG00000118635</th><td>0.0000000</td><td>0.0000000</td><td>0.00000000</td><td>0.00000000</td></tr>\n",
       "\t<tr><th scope=row>ENSMUSG00000118636</th><td>0.0000000</td><td>0.0000000</td><td>0.00000000</td><td>0.00000000</td></tr>\n",
       "\t<tr><th scope=row>ENSMUSG00000118637</th><td>0.0000000</td><td>0.0000000</td><td>0.00000000</td><td>0.00000000</td></tr>\n",
       "\t<tr><th scope=row>ENSMUSG00000118638</th><td>0.0000000</td><td>0.0000000</td><td>0.00000000</td><td>0.00000000</td></tr>\n",
       "\t<tr><th scope=row>ENSMUSG00000118639</th><td>0.0000000</td><td>0.0000000</td><td>0.00000000</td><td>0.00000000</td></tr>\n",
       "\t<tr><th scope=row>ENSMUSG00000118640</th><td>0.0000000</td><td>0.1467410</td><td>0.06584385</td><td>0.03583568</td></tr>\n",
       "\t<tr><th scope=row>ENSMUSG00000118641</th><td>0.0000000</td><td>1.1468968</td><td>0.00000000</td><td>1.12033661</td></tr>\n",
       "\t<tr><th scope=row>ENSMUSG00000118642</th><td>2.4519570</td><td>0.1831180</td><td>4.76565624</td><td>0.62607046</td></tr>\n",
       "\t<tr><th scope=row>ENSMUSG00000118644</th><td>0.0000000</td><td>0.0000000</td><td>0.00000000</td><td>0.00000000</td></tr>\n",
       "\t<tr><th scope=row>ENSMUSG00000118645</th><td>0.0000000</td><td>0.0000000</td><td>0.00000000</td><td>0.00000000</td></tr>\n",
       "\t<tr><th scope=row>ENSMUSG00000118646</th><td>0.0000000</td><td>0.0000000</td><td>0.00000000</td><td>0.00000000</td></tr>\n",
       "\t<tr><th scope=row>ENSMUSG00000118647</th><td>0.0000000</td><td>0.0000000</td><td>0.00000000</td><td>0.00000000</td></tr>\n",
       "\t<tr><th scope=row>ENSMUSG00000118648</th><td>0.0000000</td><td>0.0000000</td><td>0.00000000</td><td>0.00000000</td></tr>\n",
       "\t<tr><th scope=row>ENSMUSG00000118649</th><td>0.0000000</td><td>0.0000000</td><td>0.00000000</td><td>0.00000000</td></tr>\n",
       "\t<tr><th scope=row>ENSMUSG00000118650</th><td>0.0000000</td><td>0.0000000</td><td>0.00000000</td><td>0.00000000</td></tr>\n",
       "\t<tr><th scope=row>ENSMUSG00000118651</th><td>0.1446538</td><td>0.3393972</td><td>0.10543168</td><td>0.20402296</td></tr>\n",
       "\t<tr><th scope=row>ENSMUSG00000118652</th><td>0.0000000</td><td>0.0000000</td><td>0.00000000</td><td>0.00000000</td></tr>\n",
       "\t<tr><th scope=row>ENSMUSG00000118653</th><td>0.6110210</td><td>0.7940055</td><td>0.53441482</td><td>0.90488726</td></tr>\n",
       "\t<tr><th scope=row>ENSMUSG00000118654</th><td>0.0000000</td><td>0.0000000</td><td>0.00000000</td><td>0.00000000</td></tr>\n",
       "\t<tr><th scope=row>ENSMUSG00000118656</th><td>0.0000000</td><td>0.0000000</td><td>0.00000000</td><td>0.00000000</td></tr>\n",
       "\t<tr><th scope=row>ENSMUSG00000118657</th><td>0.0000000</td><td>0.0000000</td><td>0.00000000</td><td>0.00000000</td></tr>\n",
       "\t<tr><th scope=row>ENSMUSG00000118658</th><td>0.0000000</td><td>0.0000000</td><td>0.00000000</td><td>0.00000000</td></tr>\n",
       "\t<tr><th scope=row>ENSMUSG00000118659</th><td>0.0000000</td><td>0.0000000</td><td>0.00000000</td><td>0.00000000</td></tr>\n",
       "</tbody>\n",
       "</table>\n"
      ],
      "text/latex": [
       "A data.frame: 52350 x 4\n",
       "\\begin{tabular}{r|llll}\n",
       "  & WT\\_C3 & WT\\_C4 & WT\\_C3\\_FPKM & WT\\_C4\\_FPKM\\\\\n",
       "  & <dbl> & <dbl> & <dbl> & <dbl>\\\\\n",
       "\\hline\n",
       "\tENSMUSG00000000001 &  10.30823493 &  11.76395507 &   9.98164125 &  11.37406119\\\\\n",
       "\tENSMUSG00000000003 &   0.00000000 &   0.00000000 &   0.00000000 &   0.00000000\\\\\n",
       "\tENSMUSG00000000028 &   1.20582156 &   0.67394969 &   0.55219816 &   0.29142812\\\\\n",
       "\tENSMUSG00000000031 &  13.81938060 &  13.54720078 &  11.63798103 &  11.98008730\\\\\n",
       "\tENSMUSG00000000037 &   0.04141947 &   0.22426456 &   0.01834200 &   0.09982677\\\\\n",
       "\tENSMUSG00000000049 &   0.27193186 &   0.00000000 &   0.11041444 &   0.00000000\\\\\n",
       "\tENSMUSG00000000056 &  70.98838359 &  79.83944070 &  25.52484988 &  28.78048249\\\\\n",
       "\tENSMUSG00000000058 &  51.60365842 &  44.11682946 &  22.06824301 &  18.83223698\\\\\n",
       "\tENSMUSG00000000078 &  45.20289034 &  55.69176354 &  20.80930370 &  25.51604269\\\\\n",
       "\tENSMUSG00000000085 &  28.08856719 &  26.08985647 &   5.39164562 &   5.02216863\\\\\n",
       "\tENSMUSG00000000088 & 124.75053550 & 112.40598060 & 107.14173554 & 100.08962519\\\\\n",
       "\tENSMUSG00000000093 &   2.18100452 &   2.52405869 &   2.01434791 &   2.42157700\\\\\n",
       "\tENSMUSG00000000094 &   0.00000000 &   0.04299449 &   0.00000000 &   0.03755318\\\\\n",
       "\tENSMUSG00000000103 &   0.00000000 &   0.00000000 &   0.00000000 &   0.00000000\\\\\n",
       "\tENSMUSG00000000120 &   0.19270389 &   0.07588290 &   0.18727092 &   0.07412558\\\\\n",
       "\tENSMUSG00000000125 &   0.00000000 &   0.00000000 &   0.00000000 &   0.00000000\\\\\n",
       "\tENSMUSG00000000126 &   2.25542039 &   1.93026989 &   2.16762548 &   1.86072128\\\\\n",
       "\tENSMUSG00000000127 &   7.51999804 &   9.16128499 &   3.75442907 &   4.36644013\\\\\n",
       "\tENSMUSG00000000131 &  16.05326122 &  17.41729077 &   1.80300078 &   1.93049492\\\\\n",
       "\tENSMUSG00000000134 &   5.42115158 &   5.72558368 &   1.52669432 &   1.62733702\\\\\n",
       "\tENSMUSG00000000142 &   2.20168831 &   1.34591718 &   0.65528743 &   0.37693854\\\\\n",
       "\tENSMUSG00000000148 &   2.64876053 &   2.20799364 &   1.30075440 &   1.07482690\\\\\n",
       "\tENSMUSG00000000149 &  45.53873911 &  47.43081516 &  34.38263377 &  34.98608557\\\\\n",
       "\tENSMUSG00000000154 &   0.09760529 &   0.21139247 &   0.06906047 &   0.15034535\\\\\n",
       "\tENSMUSG00000000157 &   0.00000000 &   0.00000000 &   0.00000000 &   0.00000000\\\\\n",
       "\tENSMUSG00000000159 &   0.00000000 &   0.00000000 &   0.00000000 &   0.00000000\\\\\n",
       "\tENSMUSG00000000167 &   0.11837034 &   0.12818259 &   0.02085562 &   0.06810436\\\\\n",
       "\tENSMUSG00000000168 & 426.99684240 & 404.91310060 &  99.80332313 &  94.60596081\\\\\n",
       "\tENSMUSG00000000171 & 308.31771360 & 294.09938160 & 299.55371365 & 285.81006525\\\\\n",
       "\tENSMUSG00000000182 &   0.00000000 &   0.00000000 &   0.00000000 &   0.00000000\\\\\n",
       "\t... & ... & ... & ... & ...\\\\\n",
       "\tENSMUSG00000118628 & 0.0000000 & 0.0000000 & 0.00000000 & 0.00000000\\\\\n",
       "\tENSMUSG00000118629 & 0.0000000 & 0.0000000 & 0.00000000 & 0.00000000\\\\\n",
       "\tENSMUSG00000118630 & 0.0000000 & 0.0000000 & 0.00000000 & 0.00000000\\\\\n",
       "\tENSMUSG00000118631 & 0.0000000 & 0.0000000 & 0.00000000 & 0.00000000\\\\\n",
       "\tENSMUSG00000118632 & 0.0000000 & 0.0000000 & 0.00000000 & 0.08994252\\\\\n",
       "\tENSMUSG00000118633 & 0.1107686 & 0.3598520 & 0.07874748 & 0.25715109\\\\\n",
       "\tENSMUSG00000118634 & 0.0000000 & 0.0000000 & 0.00000000 & 0.00000000\\\\\n",
       "\tENSMUSG00000118635 & 0.0000000 & 0.0000000 & 0.00000000 & 0.00000000\\\\\n",
       "\tENSMUSG00000118636 & 0.0000000 & 0.0000000 & 0.00000000 & 0.00000000\\\\\n",
       "\tENSMUSG00000118637 & 0.0000000 & 0.0000000 & 0.00000000 & 0.00000000\\\\\n",
       "\tENSMUSG00000118638 & 0.0000000 & 0.0000000 & 0.00000000 & 0.00000000\\\\\n",
       "\tENSMUSG00000118639 & 0.0000000 & 0.0000000 & 0.00000000 & 0.00000000\\\\\n",
       "\tENSMUSG00000118640 & 0.0000000 & 0.1467410 & 0.06584385 & 0.03583568\\\\\n",
       "\tENSMUSG00000118641 & 0.0000000 & 1.1468968 & 0.00000000 & 1.12033661\\\\\n",
       "\tENSMUSG00000118642 & 2.4519570 & 0.1831180 & 4.76565624 & 0.62607046\\\\\n",
       "\tENSMUSG00000118644 & 0.0000000 & 0.0000000 & 0.00000000 & 0.00000000\\\\\n",
       "\tENSMUSG00000118645 & 0.0000000 & 0.0000000 & 0.00000000 & 0.00000000\\\\\n",
       "\tENSMUSG00000118646 & 0.0000000 & 0.0000000 & 0.00000000 & 0.00000000\\\\\n",
       "\tENSMUSG00000118647 & 0.0000000 & 0.0000000 & 0.00000000 & 0.00000000\\\\\n",
       "\tENSMUSG00000118648 & 0.0000000 & 0.0000000 & 0.00000000 & 0.00000000\\\\\n",
       "\tENSMUSG00000118649 & 0.0000000 & 0.0000000 & 0.00000000 & 0.00000000\\\\\n",
       "\tENSMUSG00000118650 & 0.0000000 & 0.0000000 & 0.00000000 & 0.00000000\\\\\n",
       "\tENSMUSG00000118651 & 0.1446538 & 0.3393972 & 0.10543168 & 0.20402296\\\\\n",
       "\tENSMUSG00000118652 & 0.0000000 & 0.0000000 & 0.00000000 & 0.00000000\\\\\n",
       "\tENSMUSG00000118653 & 0.6110210 & 0.7940055 & 0.53441482 & 0.90488726\\\\\n",
       "\tENSMUSG00000118654 & 0.0000000 & 0.0000000 & 0.00000000 & 0.00000000\\\\\n",
       "\tENSMUSG00000118656 & 0.0000000 & 0.0000000 & 0.00000000 & 0.00000000\\\\\n",
       "\tENSMUSG00000118657 & 0.0000000 & 0.0000000 & 0.00000000 & 0.00000000\\\\\n",
       "\tENSMUSG00000118658 & 0.0000000 & 0.0000000 & 0.00000000 & 0.00000000\\\\\n",
       "\tENSMUSG00000118659 & 0.0000000 & 0.0000000 & 0.00000000 & 0.00000000\\\\\n",
       "\\end{tabular}\n"
      ],
      "text/markdown": [
       "\n",
       "A data.frame: 52350 x 4\n",
       "\n",
       "| <!--/--> | WT_C3 &lt;dbl&gt; | WT_C4 &lt;dbl&gt; | WT_C3_FPKM &lt;dbl&gt; | WT_C4_FPKM &lt;dbl&gt; |\n",
       "|---|---|---|---|---|\n",
       "| ENSMUSG00000000001 |  10.30823493 |  11.76395507 |   9.98164125 |  11.37406119 |\n",
       "| ENSMUSG00000000003 |   0.00000000 |   0.00000000 |   0.00000000 |   0.00000000 |\n",
       "| ENSMUSG00000000028 |   1.20582156 |   0.67394969 |   0.55219816 |   0.29142812 |\n",
       "| ENSMUSG00000000031 |  13.81938060 |  13.54720078 |  11.63798103 |  11.98008730 |\n",
       "| ENSMUSG00000000037 |   0.04141947 |   0.22426456 |   0.01834200 |   0.09982677 |\n",
       "| ENSMUSG00000000049 |   0.27193186 |   0.00000000 |   0.11041444 |   0.00000000 |\n",
       "| ENSMUSG00000000056 |  70.98838359 |  79.83944070 |  25.52484988 |  28.78048249 |\n",
       "| ENSMUSG00000000058 |  51.60365842 |  44.11682946 |  22.06824301 |  18.83223698 |\n",
       "| ENSMUSG00000000078 |  45.20289034 |  55.69176354 |  20.80930370 |  25.51604269 |\n",
       "| ENSMUSG00000000085 |  28.08856719 |  26.08985647 |   5.39164562 |   5.02216863 |\n",
       "| ENSMUSG00000000088 | 124.75053550 | 112.40598060 | 107.14173554 | 100.08962519 |\n",
       "| ENSMUSG00000000093 |   2.18100452 |   2.52405869 |   2.01434791 |   2.42157700 |\n",
       "| ENSMUSG00000000094 |   0.00000000 |   0.04299449 |   0.00000000 |   0.03755318 |\n",
       "| ENSMUSG00000000103 |   0.00000000 |   0.00000000 |   0.00000000 |   0.00000000 |\n",
       "| ENSMUSG00000000120 |   0.19270389 |   0.07588290 |   0.18727092 |   0.07412558 |\n",
       "| ENSMUSG00000000125 |   0.00000000 |   0.00000000 |   0.00000000 |   0.00000000 |\n",
       "| ENSMUSG00000000126 |   2.25542039 |   1.93026989 |   2.16762548 |   1.86072128 |\n",
       "| ENSMUSG00000000127 |   7.51999804 |   9.16128499 |   3.75442907 |   4.36644013 |\n",
       "| ENSMUSG00000000131 |  16.05326122 |  17.41729077 |   1.80300078 |   1.93049492 |\n",
       "| ENSMUSG00000000134 |   5.42115158 |   5.72558368 |   1.52669432 |   1.62733702 |\n",
       "| ENSMUSG00000000142 |   2.20168831 |   1.34591718 |   0.65528743 |   0.37693854 |\n",
       "| ENSMUSG00000000148 |   2.64876053 |   2.20799364 |   1.30075440 |   1.07482690 |\n",
       "| ENSMUSG00000000149 |  45.53873911 |  47.43081516 |  34.38263377 |  34.98608557 |\n",
       "| ENSMUSG00000000154 |   0.09760529 |   0.21139247 |   0.06906047 |   0.15034535 |\n",
       "| ENSMUSG00000000157 |   0.00000000 |   0.00000000 |   0.00000000 |   0.00000000 |\n",
       "| ENSMUSG00000000159 |   0.00000000 |   0.00000000 |   0.00000000 |   0.00000000 |\n",
       "| ENSMUSG00000000167 |   0.11837034 |   0.12818259 |   0.02085562 |   0.06810436 |\n",
       "| ENSMUSG00000000168 | 426.99684240 | 404.91310060 |  99.80332313 |  94.60596081 |\n",
       "| ENSMUSG00000000171 | 308.31771360 | 294.09938160 | 299.55371365 | 285.81006525 |\n",
       "| ENSMUSG00000000182 |   0.00000000 |   0.00000000 |   0.00000000 |   0.00000000 |\n",
       "| ... | ... | ... | ... | ... |\n",
       "| ENSMUSG00000118628 | 0.0000000 | 0.0000000 | 0.00000000 | 0.00000000 |\n",
       "| ENSMUSG00000118629 | 0.0000000 | 0.0000000 | 0.00000000 | 0.00000000 |\n",
       "| ENSMUSG00000118630 | 0.0000000 | 0.0000000 | 0.00000000 | 0.00000000 |\n",
       "| ENSMUSG00000118631 | 0.0000000 | 0.0000000 | 0.00000000 | 0.00000000 |\n",
       "| ENSMUSG00000118632 | 0.0000000 | 0.0000000 | 0.00000000 | 0.08994252 |\n",
       "| ENSMUSG00000118633 | 0.1107686 | 0.3598520 | 0.07874748 | 0.25715109 |\n",
       "| ENSMUSG00000118634 | 0.0000000 | 0.0000000 | 0.00000000 | 0.00000000 |\n",
       "| ENSMUSG00000118635 | 0.0000000 | 0.0000000 | 0.00000000 | 0.00000000 |\n",
       "| ENSMUSG00000118636 | 0.0000000 | 0.0000000 | 0.00000000 | 0.00000000 |\n",
       "| ENSMUSG00000118637 | 0.0000000 | 0.0000000 | 0.00000000 | 0.00000000 |\n",
       "| ENSMUSG00000118638 | 0.0000000 | 0.0000000 | 0.00000000 | 0.00000000 |\n",
       "| ENSMUSG00000118639 | 0.0000000 | 0.0000000 | 0.00000000 | 0.00000000 |\n",
       "| ENSMUSG00000118640 | 0.0000000 | 0.1467410 | 0.06584385 | 0.03583568 |\n",
       "| ENSMUSG00000118641 | 0.0000000 | 1.1468968 | 0.00000000 | 1.12033661 |\n",
       "| ENSMUSG00000118642 | 2.4519570 | 0.1831180 | 4.76565624 | 0.62607046 |\n",
       "| ENSMUSG00000118644 | 0.0000000 | 0.0000000 | 0.00000000 | 0.00000000 |\n",
       "| ENSMUSG00000118645 | 0.0000000 | 0.0000000 | 0.00000000 | 0.00000000 |\n",
       "| ENSMUSG00000118646 | 0.0000000 | 0.0000000 | 0.00000000 | 0.00000000 |\n",
       "| ENSMUSG00000118647 | 0.0000000 | 0.0000000 | 0.00000000 | 0.00000000 |\n",
       "| ENSMUSG00000118648 | 0.0000000 | 0.0000000 | 0.00000000 | 0.00000000 |\n",
       "| ENSMUSG00000118649 | 0.0000000 | 0.0000000 | 0.00000000 | 0.00000000 |\n",
       "| ENSMUSG00000118650 | 0.0000000 | 0.0000000 | 0.00000000 | 0.00000000 |\n",
       "| ENSMUSG00000118651 | 0.1446538 | 0.3393972 | 0.10543168 | 0.20402296 |\n",
       "| ENSMUSG00000118652 | 0.0000000 | 0.0000000 | 0.00000000 | 0.00000000 |\n",
       "| ENSMUSG00000118653 | 0.6110210 | 0.7940055 | 0.53441482 | 0.90488726 |\n",
       "| ENSMUSG00000118654 | 0.0000000 | 0.0000000 | 0.00000000 | 0.00000000 |\n",
       "| ENSMUSG00000118656 | 0.0000000 | 0.0000000 | 0.00000000 | 0.00000000 |\n",
       "| ENSMUSG00000118657 | 0.0000000 | 0.0000000 | 0.00000000 | 0.00000000 |\n",
       "| ENSMUSG00000118658 | 0.0000000 | 0.0000000 | 0.00000000 | 0.00000000 |\n",
       "| ENSMUSG00000118659 | 0.0000000 | 0.0000000 | 0.00000000 | 0.00000000 |\n",
       "\n"
      ],
      "text/plain": [
       "                   WT_C3        WT_C4        WT_C3_FPKM   WT_C4_FPKM  \n",
       "ENSMUSG00000000001  10.30823493  11.76395507   9.98164125  11.37406119\n",
       "ENSMUSG00000000003   0.00000000   0.00000000   0.00000000   0.00000000\n",
       "ENSMUSG00000000028   1.20582156   0.67394969   0.55219816   0.29142812\n",
       "ENSMUSG00000000031  13.81938060  13.54720078  11.63798103  11.98008730\n",
       "ENSMUSG00000000037   0.04141947   0.22426456   0.01834200   0.09982677\n",
       "ENSMUSG00000000049   0.27193186   0.00000000   0.11041444   0.00000000\n",
       "ENSMUSG00000000056  70.98838359  79.83944070  25.52484988  28.78048249\n",
       "ENSMUSG00000000058  51.60365842  44.11682946  22.06824301  18.83223698\n",
       "ENSMUSG00000000078  45.20289034  55.69176354  20.80930370  25.51604269\n",
       "ENSMUSG00000000085  28.08856719  26.08985647   5.39164562   5.02216863\n",
       "ENSMUSG00000000088 124.75053550 112.40598060 107.14173554 100.08962519\n",
       "ENSMUSG00000000093   2.18100452   2.52405869   2.01434791   2.42157700\n",
       "ENSMUSG00000000094   0.00000000   0.04299449   0.00000000   0.03755318\n",
       "ENSMUSG00000000103   0.00000000   0.00000000   0.00000000   0.00000000\n",
       "ENSMUSG00000000120   0.19270389   0.07588290   0.18727092   0.07412558\n",
       "ENSMUSG00000000125   0.00000000   0.00000000   0.00000000   0.00000000\n",
       "ENSMUSG00000000126   2.25542039   1.93026989   2.16762548   1.86072128\n",
       "ENSMUSG00000000127   7.51999804   9.16128499   3.75442907   4.36644013\n",
       "ENSMUSG00000000131  16.05326122  17.41729077   1.80300078   1.93049492\n",
       "ENSMUSG00000000134   5.42115158   5.72558368   1.52669432   1.62733702\n",
       "ENSMUSG00000000142   2.20168831   1.34591718   0.65528743   0.37693854\n",
       "ENSMUSG00000000148   2.64876053   2.20799364   1.30075440   1.07482690\n",
       "ENSMUSG00000000149  45.53873911  47.43081516  34.38263377  34.98608557\n",
       "ENSMUSG00000000154   0.09760529   0.21139247   0.06906047   0.15034535\n",
       "ENSMUSG00000000157   0.00000000   0.00000000   0.00000000   0.00000000\n",
       "ENSMUSG00000000159   0.00000000   0.00000000   0.00000000   0.00000000\n",
       "ENSMUSG00000000167   0.11837034   0.12818259   0.02085562   0.06810436\n",
       "ENSMUSG00000000168 426.99684240 404.91310060  99.80332313  94.60596081\n",
       "ENSMUSG00000000171 308.31771360 294.09938160 299.55371365 285.81006525\n",
       "ENSMUSG00000000182   0.00000000   0.00000000   0.00000000   0.00000000\n",
       "...                ...          ...          ...          ...         \n",
       "ENSMUSG00000118628 0.0000000    0.0000000    0.00000000   0.00000000  \n",
       "ENSMUSG00000118629 0.0000000    0.0000000    0.00000000   0.00000000  \n",
       "ENSMUSG00000118630 0.0000000    0.0000000    0.00000000   0.00000000  \n",
       "ENSMUSG00000118631 0.0000000    0.0000000    0.00000000   0.00000000  \n",
       "ENSMUSG00000118632 0.0000000    0.0000000    0.00000000   0.08994252  \n",
       "ENSMUSG00000118633 0.1107686    0.3598520    0.07874748   0.25715109  \n",
       "ENSMUSG00000118634 0.0000000    0.0000000    0.00000000   0.00000000  \n",
       "ENSMUSG00000118635 0.0000000    0.0000000    0.00000000   0.00000000  \n",
       "ENSMUSG00000118636 0.0000000    0.0000000    0.00000000   0.00000000  \n",
       "ENSMUSG00000118637 0.0000000    0.0000000    0.00000000   0.00000000  \n",
       "ENSMUSG00000118638 0.0000000    0.0000000    0.00000000   0.00000000  \n",
       "ENSMUSG00000118639 0.0000000    0.0000000    0.00000000   0.00000000  \n",
       "ENSMUSG00000118640 0.0000000    0.1467410    0.06584385   0.03583568  \n",
       "ENSMUSG00000118641 0.0000000    1.1468968    0.00000000   1.12033661  \n",
       "ENSMUSG00000118642 2.4519570    0.1831180    4.76565624   0.62607046  \n",
       "ENSMUSG00000118644 0.0000000    0.0000000    0.00000000   0.00000000  \n",
       "ENSMUSG00000118645 0.0000000    0.0000000    0.00000000   0.00000000  \n",
       "ENSMUSG00000118646 0.0000000    0.0000000    0.00000000   0.00000000  \n",
       "ENSMUSG00000118647 0.0000000    0.0000000    0.00000000   0.00000000  \n",
       "ENSMUSG00000118648 0.0000000    0.0000000    0.00000000   0.00000000  \n",
       "ENSMUSG00000118649 0.0000000    0.0000000    0.00000000   0.00000000  \n",
       "ENSMUSG00000118650 0.0000000    0.0000000    0.00000000   0.00000000  \n",
       "ENSMUSG00000118651 0.1446538    0.3393972    0.10543168   0.20402296  \n",
       "ENSMUSG00000118652 0.0000000    0.0000000    0.00000000   0.00000000  \n",
       "ENSMUSG00000118653 0.6110210    0.7940055    0.53441482   0.90488726  \n",
       "ENSMUSG00000118654 0.0000000    0.0000000    0.00000000   0.00000000  \n",
       "ENSMUSG00000118656 0.0000000    0.0000000    0.00000000   0.00000000  \n",
       "ENSMUSG00000118657 0.0000000    0.0000000    0.00000000   0.00000000  \n",
       "ENSMUSG00000118658 0.0000000    0.0000000    0.00000000   0.00000000  \n",
       "ENSMUSG00000118659 0.0000000    0.0000000    0.00000000   0.00000000  "
      ]
     },
     "metadata": {},
     "output_type": "display_data"
    }
   ],
   "source": [
    "data"
   ]
  },
  {
   "cell_type": "code",
   "execution_count": null,
   "id": "c5ce0066-f917-4b7c-b22b-475c1e5a58b4",
   "metadata": {},
   "outputs": [],
   "source": []
  }
 ],
 "metadata": {
  "kernelspec": {
   "display_name": "R",
   "language": "R",
   "name": "ir"
  },
  "language_info": {
   "codemirror_mode": "r",
   "file_extension": ".r",
   "mimetype": "text/x-r-source",
   "name": "R",
   "pygments_lexer": "r",
   "version": "4.2.1"
  }
 },
 "nbformat": 4,
 "nbformat_minor": 5
}
