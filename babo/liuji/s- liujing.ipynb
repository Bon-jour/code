{
 "cells": [
  {
   "cell_type": "code",
   "execution_count": 1,
   "id": "26cec3e5-c6cb-429d-80f7-1b295894665a",
   "metadata": {},
   "outputs": [],
   "source": [
    "setwd('./')"
   ]
  },
  {
   "cell_type": "code",
   "execution_count": 4,
   "id": "4240c90b-6389-4db2-9166-be21dd669618",
   "metadata": {},
   "outputs": [],
   "source": [
    "da1 = read.table('./GSE98816_Brain_samples_normalized_counts_matrix.txt',header =T,sep = '\\t',row.names = 1)"
   ]
  },
  {
   "cell_type": "code",
   "execution_count": 5,
   "id": "7d451d9c-a38d-49e8-89c5-4f0abcf68716",
   "metadata": {},
   "outputs": [
    {
     "data": {
      "text/html": [
       "<table class=\"dataframe\">\n",
       "<caption>A data.frame: 2 x 3186</caption>\n",
       "<thead>\n",
       "\t<tr><th></th><th scope=col>Brain.Mural3_A13</th><th scope=col>Brain.Mural3_A14</th><th scope=col>Brain.Mural3_A6</th><th scope=col>Brain.Mural3_A2</th><th scope=col>Brain.Mural3_A9</th><th scope=col>Brain.Mural3_A5</th><th scope=col>Brain.Mural3_A20</th><th scope=col>Brain.Mural3_A8</th><th scope=col>Brain.Mural3_A1</th><th scope=col>Brain.Mural3_A15</th><th scope=col>...</th><th scope=col>Brain.Pdgfra2_P1</th><th scope=col>Brain.Pdgfra2_P7</th><th scope=col>Brain.Pdgfra2_P13</th><th scope=col>Brain.Pdgfra2_P14</th><th scope=col>Brain.Pdgfra2_P16</th><th scope=col>Brain.Pdgfra2_P15</th><th scope=col>Brain.Pdgfra2_P17</th><th scope=col>Brain.Pdgfra2_P19</th><th scope=col>Brain.Pdgfra2_P23</th><th scope=col>Brain.Pdgfra2_P24</th></tr>\n",
       "\t<tr><th></th><th scope=col>&lt;int&gt;</th><th scope=col>&lt;int&gt;</th><th scope=col>&lt;int&gt;</th><th scope=col>&lt;int&gt;</th><th scope=col>&lt;int&gt;</th><th scope=col>&lt;int&gt;</th><th scope=col>&lt;int&gt;</th><th scope=col>&lt;int&gt;</th><th scope=col>&lt;int&gt;</th><th scope=col>&lt;int&gt;</th><th scope=col>...</th><th scope=col>&lt;int&gt;</th><th scope=col>&lt;int&gt;</th><th scope=col>&lt;int&gt;</th><th scope=col>&lt;int&gt;</th><th scope=col>&lt;int&gt;</th><th scope=col>&lt;int&gt;</th><th scope=col>&lt;int&gt;</th><th scope=col>&lt;int&gt;</th><th scope=col>&lt;int&gt;</th><th scope=col>&lt;int&gt;</th></tr>\n",
       "</thead>\n",
       "<tbody>\n",
       "\t<tr><th scope=row>Adora1</th><td>0</td><td>0</td><td>0</td><td>0</td><td>0</td><td>0</td><td>0</td><td>0</td><td>0</td><td>0</td><td>...</td><td>115</td><td>0</td><td>48</td><td>246</td><td>0</td><td>184</td><td>0</td><td>408</td><td>115</td><td>66</td></tr>\n",
       "\t<tr><th scope=row>Sntg1</th><td>0</td><td>0</td><td>0</td><td>0</td><td>0</td><td>0</td><td>0</td><td>0</td><td>0</td><td>0</td><td>...</td><td>  0</td><td>0</td><td> 0</td><td>  0</td><td>0</td><td>  0</td><td>0</td><td>  0</td><td>  0</td><td> 0</td></tr>\n",
       "</tbody>\n",
       "</table>\n"
      ],
      "text/latex": [
       "A data.frame: 2 x 3186\n",
       "\\begin{tabular}{r|lllllllllllllllllllll}\n",
       "  & Brain.Mural3\\_A13 & Brain.Mural3\\_A14 & Brain.Mural3\\_A6 & Brain.Mural3\\_A2 & Brain.Mural3\\_A9 & Brain.Mural3\\_A5 & Brain.Mural3\\_A20 & Brain.Mural3\\_A8 & Brain.Mural3\\_A1 & Brain.Mural3\\_A15 & ... & Brain.Pdgfra2\\_P1 & Brain.Pdgfra2\\_P7 & Brain.Pdgfra2\\_P13 & Brain.Pdgfra2\\_P14 & Brain.Pdgfra2\\_P16 & Brain.Pdgfra2\\_P15 & Brain.Pdgfra2\\_P17 & Brain.Pdgfra2\\_P19 & Brain.Pdgfra2\\_P23 & Brain.Pdgfra2\\_P24\\\\\n",
       "  & <int> & <int> & <int> & <int> & <int> & <int> & <int> & <int> & <int> & <int> & ... & <int> & <int> & <int> & <int> & <int> & <int> & <int> & <int> & <int> & <int>\\\\\n",
       "\\hline\n",
       "\tAdora1 & 0 & 0 & 0 & 0 & 0 & 0 & 0 & 0 & 0 & 0 & ... & 115 & 0 & 48 & 246 & 0 & 184 & 0 & 408 & 115 & 66\\\\\n",
       "\tSntg1 & 0 & 0 & 0 & 0 & 0 & 0 & 0 & 0 & 0 & 0 & ... &   0 & 0 &  0 &   0 & 0 &   0 & 0 &   0 &   0 &  0\\\\\n",
       "\\end{tabular}\n"
      ],
      "text/markdown": [
       "\n",
       "A data.frame: 2 x 3186\n",
       "\n",
       "| <!--/--> | Brain.Mural3_A13 &lt;int&gt; | Brain.Mural3_A14 &lt;int&gt; | Brain.Mural3_A6 &lt;int&gt; | Brain.Mural3_A2 &lt;int&gt; | Brain.Mural3_A9 &lt;int&gt; | Brain.Mural3_A5 &lt;int&gt; | Brain.Mural3_A20 &lt;int&gt; | Brain.Mural3_A8 &lt;int&gt; | Brain.Mural3_A1 &lt;int&gt; | Brain.Mural3_A15 &lt;int&gt; | ... ... | Brain.Pdgfra2_P1 &lt;int&gt; | Brain.Pdgfra2_P7 &lt;int&gt; | Brain.Pdgfra2_P13 &lt;int&gt; | Brain.Pdgfra2_P14 &lt;int&gt; | Brain.Pdgfra2_P16 &lt;int&gt; | Brain.Pdgfra2_P15 &lt;int&gt; | Brain.Pdgfra2_P17 &lt;int&gt; | Brain.Pdgfra2_P19 &lt;int&gt; | Brain.Pdgfra2_P23 &lt;int&gt; | Brain.Pdgfra2_P24 &lt;int&gt; |\n",
       "|---|---|---|---|---|---|---|---|---|---|---|---|---|---|---|---|---|---|---|---|---|---|\n",
       "| Adora1 | 0 | 0 | 0 | 0 | 0 | 0 | 0 | 0 | 0 | 0 | ... | 115 | 0 | 48 | 246 | 0 | 184 | 0 | 408 | 115 | 66 |\n",
       "| Sntg1 | 0 | 0 | 0 | 0 | 0 | 0 | 0 | 0 | 0 | 0 | ... |   0 | 0 |  0 |   0 | 0 |   0 | 0 |   0 |   0 |  0 |\n",
       "\n"
      ],
      "text/plain": [
       "       Brain.Mural3_A13 Brain.Mural3_A14 Brain.Mural3_A6 Brain.Mural3_A2\n",
       "Adora1 0                0                0               0              \n",
       "Sntg1  0                0                0               0              \n",
       "       Brain.Mural3_A9 Brain.Mural3_A5 Brain.Mural3_A20 Brain.Mural3_A8\n",
       "Adora1 0               0               0                0              \n",
       "Sntg1  0               0               0                0              \n",
       "       Brain.Mural3_A1 Brain.Mural3_A15 ... Brain.Pdgfra2_P1 Brain.Pdgfra2_P7\n",
       "Adora1 0               0                ... 115              0               \n",
       "Sntg1  0               0                ...   0              0               \n",
       "       Brain.Pdgfra2_P13 Brain.Pdgfra2_P14 Brain.Pdgfra2_P16 Brain.Pdgfra2_P15\n",
       "Adora1 48                246               0                 184              \n",
       "Sntg1   0                  0               0                   0              \n",
       "       Brain.Pdgfra2_P17 Brain.Pdgfra2_P19 Brain.Pdgfra2_P23 Brain.Pdgfra2_P24\n",
       "Adora1 0                 408               115               66               \n",
       "Sntg1  0                   0                 0                0               "
      ]
     },
     "metadata": {},
     "output_type": "display_data"
    }
   ],
   "source": [
    "head(da1,2)"
   ]
  },
  {
   "cell_type": "code",
   "execution_count": 6,
   "id": "d94d6881-e92b-4d47-a7dc-54d7b98920b6",
   "metadata": {},
   "outputs": [],
   "source": [
    "da2 = read.table('./count.txt',header =F,sep = '\\t')"
   ]
  },
  {
   "cell_type": "code",
   "execution_count": 7,
   "id": "b49edc07-00ef-4704-ae77-508db9569a84",
   "metadata": {},
   "outputs": [
    {
     "data": {
      "text/html": [
       "<table class=\"dataframe\">\n",
       "<caption>A data.frame: 2 x 2</caption>\n",
       "<thead>\n",
       "\t<tr><th></th><th scope=col>V1</th><th scope=col>V2</th></tr>\n",
       "\t<tr><th></th><th scope=col>&lt;chr&gt;</th><th scope=col>&lt;chr&gt;</th></tr>\n",
       "</thead>\n",
       "<tbody>\n",
       "\t<tr><th scope=row>1</th><td>GSM2612539</td><td>Brain.EC3_A10</td></tr>\n",
       "\t<tr><th scope=row>2</th><td>GSM2612540</td><td>Brain.EC3_A11</td></tr>\n",
       "</tbody>\n",
       "</table>\n"
      ],
      "text/latex": [
       "A data.frame: 2 x 2\n",
       "\\begin{tabular}{r|ll}\n",
       "  & V1 & V2\\\\\n",
       "  & <chr> & <chr>\\\\\n",
       "\\hline\n",
       "\t1 & GSM2612539 & Brain.EC3\\_A10\\\\\n",
       "\t2 & GSM2612540 & Brain.EC3\\_A11\\\\\n",
       "\\end{tabular}\n"
      ],
      "text/markdown": [
       "\n",
       "A data.frame: 2 x 2\n",
       "\n",
       "| <!--/--> | V1 &lt;chr&gt; | V2 &lt;chr&gt; |\n",
       "|---|---|---|\n",
       "| 1 | GSM2612539 | Brain.EC3_A10 |\n",
       "| 2 | GSM2612540 | Brain.EC3_A11 |\n",
       "\n"
      ],
      "text/plain": [
       "  V1         V2           \n",
       "1 GSM2612539 Brain.EC3_A10\n",
       "2 GSM2612540 Brain.EC3_A11"
      ]
     },
     "metadata": {},
     "output_type": "display_data"
    }
   ],
   "source": [
    "head(da2,2)"
   ]
  },
  {
   "cell_type": "code",
   "execution_count": 8,
   "id": "b69060cb-454c-40aa-9c0a-21226e27d1ce",
   "metadata": {},
   "outputs": [],
   "source": [
    "da3 = read.table('./celltype.txt',header =T,sep = '\\t')"
   ]
  },
  {
   "cell_type": "code",
   "execution_count": null,
   "id": "9e25ccef-0d82-4715-bd55-d2b42d231781",
   "metadata": {},
   "outputs": [],
   "source": [
    "library(dplyr)\n",
    "\n",
    "da4 = da3 %>% dplyr::filter(tissue.origin == 'Brain')"
   ]
  },
  {
   "cell_type": "code",
   "execution_count": 14,
   "id": "b9090be5-1a6f-4660-9158-0dedf937b67f",
   "metadata": {},
   "outputs": [
    {
     "data": {
      "text/html": [
       "<table class=\"dataframe\">\n",
       "<caption>A data.frame: 3 x 4</caption>\n",
       "<thead>\n",
       "\t<tr><th></th><th scope=col>GSM.ID</th><th scope=col>age</th><th scope=col>tissue.origin</th><th scope=col>annoated.cell.types</th></tr>\n",
       "\t<tr><th></th><th scope=col>&lt;chr&gt;</th><th scope=col>&lt;chr&gt;</th><th scope=col>&lt;chr&gt;</th><th scope=col>&lt;chr&gt;</th></tr>\n",
       "</thead>\n",
       "<tbody>\n",
       "\t<tr><th scope=row>1</th><td>GSM2612539</td><td>adult</td><td>Brain</td><td>aEC    </td></tr>\n",
       "\t<tr><th scope=row>2</th><td>GSM2612540</td><td>adult</td><td>Brain</td><td>capilEC</td></tr>\n",
       "\t<tr><th scope=row>3</th><td>GSM2612541</td><td>adult</td><td>Brain</td><td>aEC    </td></tr>\n",
       "</tbody>\n",
       "</table>\n"
      ],
      "text/latex": [
       "A data.frame: 3 x 4\n",
       "\\begin{tabular}{r|llll}\n",
       "  & GSM.ID & age & tissue.origin & annoated.cell.types\\\\\n",
       "  & <chr> & <chr> & <chr> & <chr>\\\\\n",
       "\\hline\n",
       "\t1 & GSM2612539 & adult & Brain & aEC    \\\\\n",
       "\t2 & GSM2612540 & adult & Brain & capilEC\\\\\n",
       "\t3 & GSM2612541 & adult & Brain & aEC    \\\\\n",
       "\\end{tabular}\n"
      ],
      "text/markdown": [
       "\n",
       "A data.frame: 3 x 4\n",
       "\n",
       "| <!--/--> | GSM.ID &lt;chr&gt; | age &lt;chr&gt; | tissue.origin &lt;chr&gt; | annoated.cell.types &lt;chr&gt; |\n",
       "|---|---|---|---|---|\n",
       "| 1 | GSM2612539 | adult | Brain | aEC     |\n",
       "| 2 | GSM2612540 | adult | Brain | capilEC |\n",
       "| 3 | GSM2612541 | adult | Brain | aEC     |\n",
       "\n"
      ],
      "text/plain": [
       "  GSM.ID     age   tissue.origin annoated.cell.types\n",
       "1 GSM2612539 adult Brain         aEC                \n",
       "2 GSM2612540 adult Brain         capilEC            \n",
       "3 GSM2612541 adult Brain         aEC                "
      ]
     },
     "metadata": {},
     "output_type": "display_data"
    }
   ],
   "source": [
    "head(da4,3)"
   ]
  },
  {
   "cell_type": "code",
   "execution_count": 15,
   "id": "cdcd8136-f1ad-476e-927b-8cd4717c6035",
   "metadata": {},
   "outputs": [],
   "source": [
    "da5 = merge(da4,da2,by.x = 'GSM.ID',by.y = 'V1')"
   ]
  },
  {
   "cell_type": "code",
   "execution_count": 16,
   "id": "f2409afb-3716-4bcf-9001-01c233e98910",
   "metadata": {},
   "outputs": [
    {
     "data": {
      "text/html": [
       "<table class=\"dataframe\">\n",
       "<caption>A data.frame: 2 x 5</caption>\n",
       "<thead>\n",
       "\t<tr><th></th><th scope=col>GSM.ID</th><th scope=col>age</th><th scope=col>tissue.origin</th><th scope=col>annoated.cell.types</th><th scope=col>V2</th></tr>\n",
       "\t<tr><th></th><th scope=col>&lt;chr&gt;</th><th scope=col>&lt;chr&gt;</th><th scope=col>&lt;chr&gt;</th><th scope=col>&lt;chr&gt;</th><th scope=col>&lt;chr&gt;</th></tr>\n",
       "</thead>\n",
       "<tbody>\n",
       "\t<tr><th scope=row>1</th><td>GSM2612539</td><td>adult</td><td>Brain</td><td>aEC    </td><td>Brain.EC3_A10</td></tr>\n",
       "\t<tr><th scope=row>2</th><td>GSM2612540</td><td>adult</td><td>Brain</td><td>capilEC</td><td>Brain.EC3_A11</td></tr>\n",
       "</tbody>\n",
       "</table>\n"
      ],
      "text/latex": [
       "A data.frame: 2 x 5\n",
       "\\begin{tabular}{r|lllll}\n",
       "  & GSM.ID & age & tissue.origin & annoated.cell.types & V2\\\\\n",
       "  & <chr> & <chr> & <chr> & <chr> & <chr>\\\\\n",
       "\\hline\n",
       "\t1 & GSM2612539 & adult & Brain & aEC     & Brain.EC3\\_A10\\\\\n",
       "\t2 & GSM2612540 & adult & Brain & capilEC & Brain.EC3\\_A11\\\\\n",
       "\\end{tabular}\n"
      ],
      "text/markdown": [
       "\n",
       "A data.frame: 2 x 5\n",
       "\n",
       "| <!--/--> | GSM.ID &lt;chr&gt; | age &lt;chr&gt; | tissue.origin &lt;chr&gt; | annoated.cell.types &lt;chr&gt; | V2 &lt;chr&gt; |\n",
       "|---|---|---|---|---|---|\n",
       "| 1 | GSM2612539 | adult | Brain | aEC     | Brain.EC3_A10 |\n",
       "| 2 | GSM2612540 | adult | Brain | capilEC | Brain.EC3_A11 |\n",
       "\n"
      ],
      "text/plain": [
       "  GSM.ID     age   tissue.origin annoated.cell.types V2           \n",
       "1 GSM2612539 adult Brain         aEC                 Brain.EC3_A10\n",
       "2 GSM2612540 adult Brain         capilEC             Brain.EC3_A11"
      ]
     },
     "metadata": {},
     "output_type": "display_data"
    }
   ],
   "source": [
    "head(da5,2)"
   ]
  },
  {
   "cell_type": "code",
   "execution_count": 19,
   "id": "d20435f8-4aa4-44b0-93b0-1f87f5b5e294",
   "metadata": {},
   "outputs": [],
   "source": [
    "da6 = as.data.frame(t(da1)) %>% tibble::rownames_to_column(.,'V2')"
   ]
  },
  {
   "cell_type": "code",
   "execution_count": 20,
   "id": "c01ba0af-f4a6-4c02-a5e6-61b20f047748",
   "metadata": {},
   "outputs": [
    {
     "data": {
      "text/html": [
       "<table class=\"dataframe\">\n",
       "<caption>A data.frame: 2 x 19938</caption>\n",
       "<thead>\n",
       "\t<tr><th></th><th scope=col>V2</th><th scope=col>Adora1</th><th scope=col>Sntg1</th><th scope=col>Prim2</th><th scope=col>Bai3</th><th scope=col>Cflar</th><th scope=col>Gpr39</th><th scope=col>Obsl1</th><th scope=col>Syt14</th><th scope=col>Pld5</th><th scope=col>...</th><th scope=col>Emx2</th><th scope=col>Rab11fip2</th><th scope=col>Fam204a</th><th scope=col>Eif3a</th><th scope=col>Nanos1</th><th scope=col>Prdx3</th><th scope=col>Sfxn4</th><th scope=col>Gm7102</th><th scope=col>Csf2ra</th><th scope=col>eGFP</th></tr>\n",
       "\t<tr><th></th><th scope=col>&lt;chr&gt;</th><th scope=col>&lt;int&gt;</th><th scope=col>&lt;int&gt;</th><th scope=col>&lt;int&gt;</th><th scope=col>&lt;int&gt;</th><th scope=col>&lt;int&gt;</th><th scope=col>&lt;int&gt;</th><th scope=col>&lt;int&gt;</th><th scope=col>&lt;int&gt;</th><th scope=col>&lt;int&gt;</th><th scope=col>...</th><th scope=col>&lt;int&gt;</th><th scope=col>&lt;int&gt;</th><th scope=col>&lt;int&gt;</th><th scope=col>&lt;int&gt;</th><th scope=col>&lt;int&gt;</th><th scope=col>&lt;int&gt;</th><th scope=col>&lt;int&gt;</th><th scope=col>&lt;int&gt;</th><th scope=col>&lt;int&gt;</th><th scope=col>&lt;int&gt;</th></tr>\n",
       "</thead>\n",
       "<tbody>\n",
       "\t<tr><th scope=row>1</th><td>Brain.Mural3_A13</td><td>0</td><td>0</td><td>0</td><td>0</td><td>0</td><td>0</td><td>54</td><td>0</td><td>0</td><td>...</td><td>0</td><td>0</td><td>227</td><td>  0</td><td>3</td><td>  0</td><td>0</td><td>0</td><td>0</td><td> 957</td></tr>\n",
       "\t<tr><th scope=row>2</th><td>Brain.Mural3_A14</td><td>0</td><td>0</td><td>0</td><td>0</td><td>0</td><td>0</td><td> 0</td><td>0</td><td>0</td><td>...</td><td>0</td><td>0</td><td>  0</td><td>490</td><td>0</td><td>242</td><td>0</td><td>0</td><td>0</td><td>1250</td></tr>\n",
       "</tbody>\n",
       "</table>\n"
      ],
      "text/latex": [
       "A data.frame: 2 x 19938\n",
       "\\begin{tabular}{r|lllllllllllllllllllll}\n",
       "  & V2 & Adora1 & Sntg1 & Prim2 & Bai3 & Cflar & Gpr39 & Obsl1 & Syt14 & Pld5 & ... & Emx2 & Rab11fip2 & Fam204a & Eif3a & Nanos1 & Prdx3 & Sfxn4 & Gm7102 & Csf2ra & eGFP\\\\\n",
       "  & <chr> & <int> & <int> & <int> & <int> & <int> & <int> & <int> & <int> & <int> & ... & <int> & <int> & <int> & <int> & <int> & <int> & <int> & <int> & <int> & <int>\\\\\n",
       "\\hline\n",
       "\t1 & Brain.Mural3\\_A13 & 0 & 0 & 0 & 0 & 0 & 0 & 54 & 0 & 0 & ... & 0 & 0 & 227 &   0 & 3 &   0 & 0 & 0 & 0 &  957\\\\\n",
       "\t2 & Brain.Mural3\\_A14 & 0 & 0 & 0 & 0 & 0 & 0 &  0 & 0 & 0 & ... & 0 & 0 &   0 & 490 & 0 & 242 & 0 & 0 & 0 & 1250\\\\\n",
       "\\end{tabular}\n"
      ],
      "text/markdown": [
       "\n",
       "A data.frame: 2 x 19938\n",
       "\n",
       "| <!--/--> | V2 &lt;chr&gt; | Adora1 &lt;int&gt; | Sntg1 &lt;int&gt; | Prim2 &lt;int&gt; | Bai3 &lt;int&gt; | Cflar &lt;int&gt; | Gpr39 &lt;int&gt; | Obsl1 &lt;int&gt; | Syt14 &lt;int&gt; | Pld5 &lt;int&gt; | ... ... | Emx2 &lt;int&gt; | Rab11fip2 &lt;int&gt; | Fam204a &lt;int&gt; | Eif3a &lt;int&gt; | Nanos1 &lt;int&gt; | Prdx3 &lt;int&gt; | Sfxn4 &lt;int&gt; | Gm7102 &lt;int&gt; | Csf2ra &lt;int&gt; | eGFP &lt;int&gt; |\n",
       "|---|---|---|---|---|---|---|---|---|---|---|---|---|---|---|---|---|---|---|---|---|---|\n",
       "| 1 | Brain.Mural3_A13 | 0 | 0 | 0 | 0 | 0 | 0 | 54 | 0 | 0 | ... | 0 | 0 | 227 |   0 | 3 |   0 | 0 | 0 | 0 |  957 |\n",
       "| 2 | Brain.Mural3_A14 | 0 | 0 | 0 | 0 | 0 | 0 |  0 | 0 | 0 | ... | 0 | 0 |   0 | 490 | 0 | 242 | 0 | 0 | 0 | 1250 |\n",
       "\n"
      ],
      "text/plain": [
       "  V2               Adora1 Sntg1 Prim2 Bai3 Cflar Gpr39 Obsl1 Syt14 Pld5 ...\n",
       "1 Brain.Mural3_A13 0      0     0     0    0     0     54    0     0    ...\n",
       "2 Brain.Mural3_A14 0      0     0     0    0     0      0    0     0    ...\n",
       "  Emx2 Rab11fip2 Fam204a Eif3a Nanos1 Prdx3 Sfxn4 Gm7102 Csf2ra eGFP\n",
       "1 0    0         227       0   3        0   0     0      0       957\n",
       "2 0    0           0     490   0      242   0     0      0      1250"
      ]
     },
     "metadata": {},
     "output_type": "display_data"
    }
   ],
   "source": [
    "head(da6,2)"
   ]
  },
  {
   "cell_type": "code",
   "execution_count": 24,
   "id": "1b0d481f-31ee-48a5-8f2b-9c91e7d558c3",
   "metadata": {},
   "outputs": [],
   "source": [
    "da7 = merge(da5,da6,by = 'V2')"
   ]
  },
  {
   "cell_type": "code",
   "execution_count": 33,
   "id": "2b59bb55-348e-455e-80cd-d37350ae5804",
   "metadata": {},
   "outputs": [
    {
     "data": {
      "text/html": [
       "<table class=\"dataframe\">\n",
       "<caption>A data.frame: 4 x 19942</caption>\n",
       "<thead>\n",
       "\t<tr><th></th><th scope=col>V2</th><th scope=col>GSM.ID</th><th scope=col>age</th><th scope=col>tissue.origin</th><th scope=col>annoated.cell.types</th><th scope=col>Adora1</th><th scope=col>Sntg1</th><th scope=col>Prim2</th><th scope=col>Bai3</th><th scope=col>Cflar</th><th scope=col>...</th><th scope=col>Emx2</th><th scope=col>Rab11fip2</th><th scope=col>Fam204a</th><th scope=col>Eif3a</th><th scope=col>Nanos1</th><th scope=col>Prdx3</th><th scope=col>Sfxn4</th><th scope=col>Gm7102</th><th scope=col>Csf2ra</th><th scope=col>eGFP</th></tr>\n",
       "\t<tr><th></th><th scope=col>&lt;chr&gt;</th><th scope=col>&lt;chr&gt;</th><th scope=col>&lt;chr&gt;</th><th scope=col>&lt;chr&gt;</th><th scope=col>&lt;chr&gt;</th><th scope=col>&lt;int&gt;</th><th scope=col>&lt;int&gt;</th><th scope=col>&lt;int&gt;</th><th scope=col>&lt;int&gt;</th><th scope=col>&lt;int&gt;</th><th scope=col>...</th><th scope=col>&lt;int&gt;</th><th scope=col>&lt;int&gt;</th><th scope=col>&lt;int&gt;</th><th scope=col>&lt;int&gt;</th><th scope=col>&lt;int&gt;</th><th scope=col>&lt;int&gt;</th><th scope=col>&lt;int&gt;</th><th scope=col>&lt;int&gt;</th><th scope=col>&lt;int&gt;</th><th scope=col>&lt;int&gt;</th></tr>\n",
       "</thead>\n",
       "<tbody>\n",
       "\t<tr><th scope=row>1</th><td>Brain.EC3_A1 </td><td>GSM2612548</td><td>adult</td><td>Brain</td><td>EC1    </td><td>0</td><td>0</td><td>0</td><td>0</td><td>  0</td><td>...</td><td>0</td><td>0</td><td>0</td><td>594</td><td>1</td><td> 76</td><td>0</td><td>0</td><td>0</td><td>13298</td></tr>\n",
       "\t<tr><th scope=row>2</th><td>Brain.EC3_A10</td><td>GSM2612539</td><td>adult</td><td>Brain</td><td>aEC    </td><td>0</td><td>0</td><td>0</td><td>0</td><td>264</td><td>...</td><td>0</td><td>0</td><td>0</td><td>165</td><td>0</td><td>  1</td><td>4</td><td>0</td><td>0</td><td>25584</td></tr>\n",
       "\t<tr><th scope=row>3</th><td>Brain.EC3_A11</td><td>GSM2612540</td><td>adult</td><td>Brain</td><td>capilEC</td><td>0</td><td>0</td><td>0</td><td>0</td><td> 17</td><td>...</td><td>0</td><td>0</td><td>0</td><td>101</td><td>0</td><td>  0</td><td>0</td><td>0</td><td>0</td><td>19609</td></tr>\n",
       "\t<tr><th scope=row>4</th><td>Brain.EC3_A12</td><td>GSM2612541</td><td>adult</td><td>Brain</td><td>aEC    </td><td>0</td><td>0</td><td>0</td><td>0</td><td>197</td><td>...</td><td>0</td><td>0</td><td>0</td><td> 35</td><td>0</td><td>197</td><td>0</td><td>0</td><td>0</td><td>15256</td></tr>\n",
       "</tbody>\n",
       "</table>\n"
      ],
      "text/latex": [
       "A data.frame: 4 x 19942\n",
       "\\begin{tabular}{r|lllllllllllllllllllll}\n",
       "  & V2 & GSM.ID & age & tissue.origin & annoated.cell.types & Adora1 & Sntg1 & Prim2 & Bai3 & Cflar & ... & Emx2 & Rab11fip2 & Fam204a & Eif3a & Nanos1 & Prdx3 & Sfxn4 & Gm7102 & Csf2ra & eGFP\\\\\n",
       "  & <chr> & <chr> & <chr> & <chr> & <chr> & <int> & <int> & <int> & <int> & <int> & ... & <int> & <int> & <int> & <int> & <int> & <int> & <int> & <int> & <int> & <int>\\\\\n",
       "\\hline\n",
       "\t1 & Brain.EC3\\_A1  & GSM2612548 & adult & Brain & EC1     & 0 & 0 & 0 & 0 &   0 & ... & 0 & 0 & 0 & 594 & 1 &  76 & 0 & 0 & 0 & 13298\\\\\n",
       "\t2 & Brain.EC3\\_A10 & GSM2612539 & adult & Brain & aEC     & 0 & 0 & 0 & 0 & 264 & ... & 0 & 0 & 0 & 165 & 0 &   1 & 4 & 0 & 0 & 25584\\\\\n",
       "\t3 & Brain.EC3\\_A11 & GSM2612540 & adult & Brain & capilEC & 0 & 0 & 0 & 0 &  17 & ... & 0 & 0 & 0 & 101 & 0 &   0 & 0 & 0 & 0 & 19609\\\\\n",
       "\t4 & Brain.EC3\\_A12 & GSM2612541 & adult & Brain & aEC     & 0 & 0 & 0 & 0 & 197 & ... & 0 & 0 & 0 &  35 & 0 & 197 & 0 & 0 & 0 & 15256\\\\\n",
       "\\end{tabular}\n"
      ],
      "text/markdown": [
       "\n",
       "A data.frame: 4 x 19942\n",
       "\n",
       "| <!--/--> | V2 &lt;chr&gt; | GSM.ID &lt;chr&gt; | age &lt;chr&gt; | tissue.origin &lt;chr&gt; | annoated.cell.types &lt;chr&gt; | Adora1 &lt;int&gt; | Sntg1 &lt;int&gt; | Prim2 &lt;int&gt; | Bai3 &lt;int&gt; | Cflar &lt;int&gt; | ... ... | Emx2 &lt;int&gt; | Rab11fip2 &lt;int&gt; | Fam204a &lt;int&gt; | Eif3a &lt;int&gt; | Nanos1 &lt;int&gt; | Prdx3 &lt;int&gt; | Sfxn4 &lt;int&gt; | Gm7102 &lt;int&gt; | Csf2ra &lt;int&gt; | eGFP &lt;int&gt; |\n",
       "|---|---|---|---|---|---|---|---|---|---|---|---|---|---|---|---|---|---|---|---|---|---|\n",
       "| 1 | Brain.EC3_A1  | GSM2612548 | adult | Brain | EC1     | 0 | 0 | 0 | 0 |   0 | ... | 0 | 0 | 0 | 594 | 1 |  76 | 0 | 0 | 0 | 13298 |\n",
       "| 2 | Brain.EC3_A10 | GSM2612539 | adult | Brain | aEC     | 0 | 0 | 0 | 0 | 264 | ... | 0 | 0 | 0 | 165 | 0 |   1 | 4 | 0 | 0 | 25584 |\n",
       "| 3 | Brain.EC3_A11 | GSM2612540 | adult | Brain | capilEC | 0 | 0 | 0 | 0 |  17 | ... | 0 | 0 | 0 | 101 | 0 |   0 | 0 | 0 | 0 | 19609 |\n",
       "| 4 | Brain.EC3_A12 | GSM2612541 | adult | Brain | aEC     | 0 | 0 | 0 | 0 | 197 | ... | 0 | 0 | 0 |  35 | 0 | 197 | 0 | 0 | 0 | 15256 |\n",
       "\n"
      ],
      "text/plain": [
       "  V2            GSM.ID     age   tissue.origin annoated.cell.types Adora1 Sntg1\n",
       "1 Brain.EC3_A1  GSM2612548 adult Brain         EC1                 0      0    \n",
       "2 Brain.EC3_A10 GSM2612539 adult Brain         aEC                 0      0    \n",
       "3 Brain.EC3_A11 GSM2612540 adult Brain         capilEC             0      0    \n",
       "4 Brain.EC3_A12 GSM2612541 adult Brain         aEC                 0      0    \n",
       "  Prim2 Bai3 Cflar ... Emx2 Rab11fip2 Fam204a Eif3a Nanos1 Prdx3 Sfxn4 Gm7102\n",
       "1 0     0      0   ... 0    0         0       594   1       76   0     0     \n",
       "2 0     0    264   ... 0    0         0       165   0        1   4     0     \n",
       "3 0     0     17   ... 0    0         0       101   0        0   0     0     \n",
       "4 0     0    197   ... 0    0         0        35   0      197   0     0     \n",
       "  Csf2ra eGFP \n",
       "1 0      13298\n",
       "2 0      25584\n",
       "3 0      19609\n",
       "4 0      15256"
      ]
     },
     "metadata": {},
     "output_type": "display_data"
    }
   ],
   "source": [
    "head(da7,4)"
   ]
  },
  {
   "cell_type": "code",
   "execution_count": 34,
   "id": "763afd25-84f0-40d9-bc62-66b292390de5",
   "metadata": {},
   "outputs": [],
   "source": [
    "meta = da7[,c(2,5)]"
   ]
  },
  {
   "cell_type": "code",
   "execution_count": 31,
   "id": "17837a1f-85d7-494d-a22b-6f9393442df6",
   "metadata": {},
   "outputs": [],
   "source": [
    "se = da7[,c(2,6:19942)] %>% tibble::column_to_rownames(.,'GSM.ID') %>% t() %>% as.data.frame()"
   ]
  },
  {
   "cell_type": "code",
   "execution_count": 36,
   "id": "9babb5aa-6a82-41ad-9aa2-09a0a5dc7fd1",
   "metadata": {},
   "outputs": [
    {
     "name": "stderr",
     "output_type": "stream",
     "text": [
      "Warning message:\n",
      "\"package 'Seurat' was built under R version 4.2.3\"\n",
      "The legacy packages maptools, rgdal, and rgeos, underpinning the sp package,\n",
      "which was just loaded, will retire in October 2023.\n",
      "Please refer to R-spatial evolution reports for details, especially\n",
      "https://r-spatial.org/r/2023/05/15/evolution4.html.\n",
      "It may be desirable to make the sf package available;\n",
      "package maintainers should consider adding sf to Suggests:.\n",
      "The sp package is now running under evolution status 2\n",
      "     (status 2 uses the sf package in place of rgdal)\n",
      "\n",
      "Attaching SeuratObject\n",
      "\n"
     ]
    }
   ],
   "source": [
    "library(Seurat)"
   ]
  },
  {
   "cell_type": "code",
   "execution_count": 37,
   "id": "67e9f699-8a5a-4ed6-ab05-5bf49c88601a",
   "metadata": {},
   "outputs": [
    {
     "data": {
      "text/plain": [
       "An object of class Seurat \n",
       "19937 features across 3186 samples within 1 assay \n",
       "Active assay: RNA (19937 features, 0 variable features)"
      ]
     },
     "metadata": {},
     "output_type": "display_data"
    }
   ],
   "source": [
    "scRNA <- CreateSeuratObject(counts = se)\n",
    "scRNA"
   ]
  },
  {
   "cell_type": "code",
   "execution_count": 42,
   "id": "a265f8bf-430d-4dba-bddc-0f30dc5a09a8",
   "metadata": {},
   "outputs": [],
   "source": [
    "scRNA@meta.data$celltype = meta$annoated.cell.types"
   ]
  },
  {
   "cell_type": "code",
   "execution_count": 58,
   "id": "00da74e4-4481-4919-b281-340295a6ef61",
   "metadata": {},
   "outputs": [],
   "source": [
    "immune.combined = scRNA"
   ]
  },
  {
   "cell_type": "code",
   "execution_count": 59,
   "id": "5f1ef236-eb32-4144-b6ee-b342e87a1d3a",
   "metadata": {
    "scrolled": true
   },
   "outputs": [
    {
     "name": "stderr",
     "output_type": "stream",
     "text": [
      "Warning message:\n",
      "\"The default method for RunUMAP has changed from calling Python UMAP via reticulate to the R-native UWOT using the cosine metric\n",
      "To use Python UMAP via reticulate, set umap.method to 'umap-learn' and metric to 'correlation'\n",
      "This message will be shown once per session\"\n",
      "03:52:14 UMAP embedding parameters a = 0.9922 b = 1.112\n",
      "\n",
      "03:52:14 Read 3186 rows and found 20 numeric columns\n",
      "\n",
      "03:52:14 Using Annoy for neighbor search, n_neighbors = 30\n",
      "\n",
      "03:52:14 Building Annoy index with metric = cosine, n_trees = 50\n",
      "\n",
      "0%   10   20   30   40   50   60   70   80   90   100%\n",
      "\n",
      "[----|----|----|----|----|----|----|----|----|----|\n",
      "\n",
      "*\n",
      "*\n",
      "*\n",
      "*\n",
      "*\n",
      "*\n",
      "*\n",
      "*\n",
      "*\n",
      "*\n",
      "*\n",
      "*\n",
      "*\n",
      "*\n",
      "*\n",
      "*\n",
      "*\n",
      "*\n",
      "*\n",
      "*\n",
      "*\n",
      "*\n",
      "*\n",
      "*\n",
      "*\n",
      "*\n",
      "*\n",
      "*\n",
      "*\n",
      "*\n",
      "*\n",
      "*\n",
      "*\n",
      "*\n",
      "*\n",
      "*\n",
      "*\n",
      "*\n",
      "*\n",
      "*\n",
      "*\n",
      "*\n",
      "*\n",
      "*\n",
      "*\n",
      "*\n",
      "*\n",
      "*\n",
      "*\n",
      "*\n",
      "|\n",
      "\n",
      "03:52:14 Writing NN index file to temp file /tmp/Rtmp0S93KQ/file3bc8e133e0b20\n",
      "\n",
      "03:52:14 Searching Annoy index using 1 thread, search_k = 3000\n",
      "\n",
      "03:52:15 Annoy recall = 100%\n",
      "\n",
      "03:52:15 Commencing smooth kNN distance calibration using 1 thread\n",
      " with target n_neighbors = 30\n",
      "\n",
      "03:52:16 Initializing from normalized Laplacian + noise (using irlba)\n",
      "\n",
      "03:52:16 Commencing optimization for 500 epochs, with 132894 positive edges\n",
      "\n",
      "03:52:25 Optimization finished\n",
      "\n",
      "Computing nearest neighbor graph\n",
      "\n",
      "Computing SNN\n",
      "\n"
     ]
    },
    {
     "name": "stdout",
     "output_type": "stream",
     "text": [
      "Modularity Optimizer version 1.3.0 by Ludo Waltman and Nees Jan van Eck\n",
      "\n",
      "Number of nodes: 3186\n",
      "Number of edges: 120973\n",
      "\n",
      "Running Louvain algorithm...\n",
      "Maximum modularity in 10 random starts: 0.8133\n",
      "Number of communities: 12\n",
      "Elapsed time: 0 seconds\n"
     ]
    }
   ],
   "source": [
    "immune.combined <-NormalizeData(immune.combined)\n",
    "immune.combined <- ScaleData(immune.combined,feature=rownames(immune.combined), verbose = FALSE)\n",
    "immune.combined <- FindVariableFeatures(object = immune.combined,selection.method = 'vst', nfeatures = 2000)\n",
    "immune.combined <- RunPCA(immune.combined,  features = VariableFeatures(object = immune.combined) ,verbose = FALSE)\n",
    "immune.combined <- RunUMAP(immune.combined, reduction = \"pca\", dims = 1:20)\n",
    "immune.combined <- RunTSNE(immune.combined, reduction = \"pca\", dims = 1:20)\n",
    "immune.combined <- FindNeighbors(immune.combined, reduction = \"pca\", dims = 1:20)\n",
    "immune.combined <- FindClusters(immune.combined)"
   ]
  },
  {
   "cell_type": "code",
   "execution_count": 60,
   "id": "539fce3b-5576-48ee-acef-25ec1eecf47a",
   "metadata": {},
   "outputs": [],
   "source": [
    "scRNA = immune.combined"
   ]
  },
  {
   "cell_type": "code",
   "execution_count": 61,
   "id": "d80f8a3d-0fa3-471b-b566-8f80eaa4f25e",
   "metadata": {},
   "outputs": [],
   "source": [
    "DefaultAssay(scRNA) = 'RNA'"
   ]
  },
  {
   "cell_type": "code",
   "execution_count": 62,
   "id": "a95f160e-e214-41b9-9779-b726d424a674",
   "metadata": {},
   "outputs": [],
   "source": [
    "Idents(scRNA)  = 'celltype'"
   ]
  },
  {
   "cell_type": "code",
   "execution_count": 72,
   "id": "e03f8858-c5e2-4ab4-9895-5e3cdec32ce6",
   "metadata": {},
   "outputs": [],
   "source": [
    "gene = c('Cxcl2','Cxcl4','Cxcl5','Cxcl8','Ccl2','Ccl5l','Ccl','Ccl19','Ccl21','Lgals3','Mcp1')"
   ]
  },
  {
   "cell_type": "code",
   "execution_count": 75,
   "id": "37a358e7-4794-42bf-9fc9-b9feccc6761d",
   "metadata": {},
   "outputs": [],
   "source": [
    "gene2  =c('Pf4',\n",
    "'Il8',\n",
    "'Ccl2',\n",
    "'Ccl3',\n",
    "'Ccl5',\n",
    "'Ccl7',\n",
    "'Ccl8',\n",
    "'Ccl11',\n",
    "'Elc',\n",
    "'Mip3B',\n",
    "'Slc',\n",
    "'Scya21',\n",
    "'Cxcl1',\n",
    "'Cxcl2',\n",
    "'Cxcl4',\n",
    "'Cxcl5',\n",
    "'Cxcl10',\n",
    "'Cxcl12',\n",
    "'Cxcr2',\n",
    "'Cxcr4',\n",
    "'Il6',\n",
    "'Il17',\n",
    "'Mif',\n",
    "'Cd62l',\n",
    "'Sell',\n",
    "'Ccr1',\n",
    "'Ccr2',\n",
    "'Ccr5',\n",
    "'Ltb4r'\n",
    ")"
   ]
  },
  {
   "cell_type": "code",
   "execution_count": 80,
   "id": "560eab12-6c15-4a74-a54c-2fdf696ab01f",
   "metadata": {},
   "outputs": [
    {
     "name": "stderr",
     "output_type": "stream",
     "text": [
      "Warning message:\n",
      "\"package 'ggplot2' was built under R version 4.2.3\"\n"
     ]
    }
   ],
   "source": [
    "library(ggplot2)"
   ]
  },
  {
   "cell_type": "code",
   "execution_count": 84,
   "id": "39525913-0249-4b77-88ee-1baf43d39065",
   "metadata": {},
   "outputs": [],
   "source": [
    "options(repr.plot.width = 9)"
   ]
  },
  {
   "cell_type": "code",
   "execution_count": 85,
   "id": "76a98892-03ae-4658-a8fe-837cfa7c1ff2",
   "metadata": {},
   "outputs": [
    {
     "name": "stderr",
     "output_type": "stream",
     "text": [
      "Warning message in FetchData.Seurat(object = object, vars = features, cells = cells):\n",
      "\"The following requested variables were not found: Il8, Elc, Mip3B, Slc, Scya21, Cxcl4, Il17, Cd62l, Ltb4r\"\n"
     ]
    },
    {
     "data": {
      "image/png": "[encoded data removed]",
      "text/plain": [
       "plot without title"
      ]
     },
     "metadata": {
      "image/png": {
       "height": 420,
       "width": 540
      }
     },
     "output_type": "display_data"
    }
   ],
   "source": [
    "DotPlot(scRNA,features = gene2)+ theme(axis.text.x = element_text(angle=45, hjust=1, vjust=1))"
   ]
  },
  {
   "cell_type": "code",
   "execution_count": null,
   "id": "bb71f793-ab07-4933-bd67-da998133168b",
   "metadata": {},
   "outputs": [],
   "source": []
  }
 ],
 "metadata": {
  "kernelspec": {
   "display_name": "R",
   "language": "R",
   "name": "ir"
  },
  "language_info": {
   "codemirror_mode": "r",
   "file_extension": ".r",
   "mimetype": "text/x-r-source",
   "name": "R",
   "pygments_lexer": "r",
   "version": "4.2.1"
  }
 },
 "nbformat": 4,
 "nbformat_minor": 5
}
