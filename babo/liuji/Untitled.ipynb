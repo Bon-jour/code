{
 "cells": [
  {
   "cell_type": "code",
   "execution_count": 24,
   "id": "1b84caa9-40d4-41ce-8a1d-d5ed5becb7d7",
   "metadata": {},
   "outputs": [],
   "source": [
    "data = read.table('../ddd.txt',header =T,sep = '\\t')"
   ]
  },
  {
   "cell_type": "code",
   "execution_count": 25,
   "id": "10a5607e-1f04-41a6-80fb-4adac7d6b51f",
   "metadata": {},
   "outputs": [
    {
     "data": {
      "text/html": [
       "<style>\n",
       ".list-inline {list-style: none; margin:0; padding: 0}\n",
       ".list-inline>li {display: inline-block}\n",
       ".list-inline>li:not(:last-child)::after {content: \"\\00b7\"; padding: 0 .5ex}\n",
       "</style>\n",
       "<ol class=list-inline><li>'MSLN'</li><li>'OTOF'</li><li>'SAMD14'</li><li>'IGF2'</li><li>'MT-TS1'</li><li>'HBE1'</li><li>'hsa-mir-6723'</li><li>'RP11-671M22.4'</li><li>'RP11-707O23.5'</li></ol>\n"
      ],
      "text/latex": [
       "\\begin{enumerate*}\n",
       "\\item 'MSLN'\n",
       "\\item 'OTOF'\n",
       "\\item 'SAMD14'\n",
       "\\item 'IGF2'\n",
       "\\item 'MT-TS1'\n",
       "\\item 'HBE1'\n",
       "\\item 'hsa-mir-6723'\n",
       "\\item 'RP11-671M22.4'\n",
       "\\item 'RP11-707O23.5'\n",
       "\\end{enumerate*}\n"
      ],
      "text/markdown": [
       "1. 'MSLN'\n",
       "2. 'OTOF'\n",
       "3. 'SAMD14'\n",
       "4. 'IGF2'\n",
       "5. 'MT-TS1'\n",
       "6. 'HBE1'\n",
       "7. 'hsa-mir-6723'\n",
       "8. 'RP11-671M22.4'\n",
       "9. 'RP11-707O23.5'\n",
       "\n",
       "\n"
      ],
      "text/plain": [
       "[1] \"MSLN\"          \"OTOF\"          \"SAMD14\"        \"IGF2\"         \n",
       "[5] \"MT-TS1\"        \"HBE1\"          \"hsa-mir-6723\"  \"RP11-671M22.4\"\n",
       "[9] \"RP11-707O23.5\""
      ]
     },
     "metadata": {},
     "output_type": "display_data"
    }
   ],
   "source": [
    "intersect(data$GeneName,data$GeneName1)"
   ]
  },
  {
   "cell_type": "code",
   "execution_count": null,
   "id": "2851a316-8d37-4a94-985b-964cc5287f50",
   "metadata": {},
   "outputs": [],
   "source": []
  },
  {
   "cell_type": "code",
   "execution_count": null,
   "id": "412ac847-20b8-4c59-8b77-44d5ae4c3357",
   "metadata": {},
   "outputs": [],
   "source": []
  },
  {
   "cell_type": "code",
   "execution_count": null,
   "id": "fcf0f7a6-ada2-4913-b180-2946e9ab1ac2",
   "metadata": {},
   "outputs": [],
   "source": []
  },
  {
   "cell_type": "code",
   "execution_count": null,
   "id": "eee423cb-5f7e-460f-a9b3-13eade2f0ba7",
   "metadata": {},
   "outputs": [],
   "source": []
  },
  {
   "cell_type": "code",
   "execution_count": null,
   "id": "4a0356d2-69e4-4d46-b6fd-e07c519b7d0e",
   "metadata": {},
   "outputs": [],
   "source": []
  },
  {
   "cell_type": "code",
   "execution_count": null,
   "id": "0cace853-dde6-4bce-9cde-562559399e41",
   "metadata": {},
   "outputs": [],
   "source": []
  },
  {
   "cell_type": "code",
   "execution_count": null,
   "id": "64673248-0859-4140-a315-d938954cb79c",
   "metadata": {},
   "outputs": [],
   "source": []
  },
  {
   "cell_type": "code",
   "execution_count": null,
   "id": "2ff1765f-7698-4410-9681-04b8291a0932",
   "metadata": {},
   "outputs": [],
   "source": []
  },
  {
   "cell_type": "code",
   "execution_count": 11,
   "id": "9122b485-2bf8-4046-89d5-21354c506848",
   "metadata": {},
   "outputs": [],
   "source": [
    "setwd('/import/liujing/data/')"
   ]
  },
  {
   "cell_type": "code",
   "execution_count": 12,
   "id": "9f30b595-d83f-4b8b-aa8d-7311be0ada3b",
   "metadata": {},
   "outputs": [],
   "source": [
    "load('./expr.rda')"
   ]
  },
  {
   "cell_type": "code",
   "execution_count": 13,
   "id": "b6a6759d-892b-44a5-bd9c-68d94d3d6ca8",
   "metadata": {},
   "outputs": [],
   "source": [
    "model.gene = colnames(expr)"
   ]
  },
  {
   "cell_type": "code",
   "execution_count": 14,
   "id": "55f7fa0f-8331-481d-bdb3-41490fb4b234",
   "metadata": {},
   "outputs": [],
   "source": [
    "Group = data.frame(Group =  c(rep(1,43),rep(0,42)))"
   ]
  },
  {
   "cell_type": "code",
   "execution_count": 15,
   "id": "4ec3f8aa-f002-4399-8c61-df46eb266aee",
   "metadata": {},
   "outputs": [],
   "source": [
    "expr3 = cbind(Group,expr)"
   ]
  },
  {
   "cell_type": "code",
   "execution_count": 16,
   "id": "f541588d-02e5-48b8-a63b-021dec2177bb",
   "metadata": {},
   "outputs": [],
   "source": [
    "expr4 = expr3"
   ]
  },
  {
   "cell_type": "code",
   "execution_count": 18,
   "id": "41714e46-2dd8-4b7e-a724-4eb8e260336d",
   "metadata": {},
   "outputs": [
    {
     "name": "stderr",
     "output_type": "stream",
     "text": [
      "Warning message:\n",
      "\"package 'ggplot2' was built under R version 4.2.3\"\n"
     ]
    }
   ],
   "source": [
    "library(ggplot2)"
   ]
  },
  {
   "cell_type": "code",
   "execution_count": 33,
   "id": "7e6a750a-57e4-47f7-8123-77e79b7ede2d",
   "metadata": {},
   "outputs": [
    {
     "name": "stdout",
     "output_type": "stream",
     "text": [
      "[1] \"RASD2   0.543189368770764\"\n",
      "[1] \"HIST1H3C   0.607419712070875\"\n",
      "[1] \"TMEM92   0.485603543743079\"\n",
      "[1] \"CEP55   0.657253599114064\"\n",
      "[1] \"TPM3   0.812846068660022\"\n",
      "[1] \"HIST1H1B   0.638427464008859\"\n",
      "[1] \"AC132872.2   0.725359911406423\"\n",
      "[1] \"MIF   0.651162790697674\"\n",
      "[1] \"HJURP   0.653377630121816\"\n",
      "[1] \"BUB1   0.653931339977852\"\n",
      "[1] \"IL10RB   0.772425249169435\"\n",
      "[1] \"HIST2H2BE   0.692137320044297\"\n",
      "[1] \"GPR84   0.46234772978959\"\n",
      "[1] \"CCDC147   0.656699889258029\"\n",
      "[1] \"U2AF1L4   0.666112956810631\"\n",
      "[1] \"SP110   0.794573643410853\"\n",
      "[1] \"NEK2   0.695459579180509\"\n",
      "[1] \"PRRG4   0.609080841638981\"\n",
      "[1] \"SLC26A8   0.629014396456257\"\n",
      "[1] \"RAB7A   0.80952380952381\"\n",
      "[1] \"CKAP4   0.612403100775194\"\n",
      "[1] \"ZNF608   0.671650055370986\"\n",
      "[1] \"MARCKS   0.706533776301218\"\n",
      "[1] \"RRM2   0.636766334440753\"\n",
      "[1] \"PNPLA1   0.596345514950166\"\n",
      "[1] \"S100A11   0.708194905869324\"\n",
      "[1] \"HCAR1   0.673311184939092\"\n",
      "[1] \"HSPA1A   0.614617940199336\"\n",
      "[1] \"TLR5   0.712624584717608\"\n",
      "[1] \"TNFSF14   0.713178294573643\"\n",
      "[1] \"TNFSF15   0.593023255813954\"\n",
      "[1] \"PARM1   0.640088593576966\"\n",
      "[1] \"TSHR   0.615171650055371\"\n",
      "[1] \"HIST1H2BM   0.655038759689922\"\n",
      "[1] \"RPL28   0.627353266888151\"\n",
      "[1] \"MZB1   0.622923588039867\"\n",
      "[1] \"OTX1   0.549833887043189\"\n",
      "[1] \"KIAA0040   0.778516057585825\"\n",
      "[1] \"PDCD1LG2   0.612956810631229\"\n",
      "[1] \"MANSC1   0.635105204872647\"\n",
      "[1] \"RPS28   0.58859357696567\"\n",
      "[1] \"PLP2   0.712624584717608\"\n",
      "[1] \"SGOL1   0.651162790697674\"\n",
      "[1] \"CCNA2   0.795127353266888\"\n",
      "[1] \"SAP130   0.78516057585825\"\n",
      "[1] \"CEACAM1   0.624031007751938\"\n",
      "[1] \"F5   0.646733111849391\"\n",
      "[1] \"CMTM1   0.74031007751938\"\n"
     ]
    }
   ],
   "source": [
    "for (i in model.gene){\n",
    "    res<-pROC::roc(Group~expr4[,i],data=expr4,aur=TRUE,\n",
    "         ci=TRUE, # 显示95%CI\n",
    "         #percent=TRUE, # 是否需要以百分比显示\n",
    "         smooth=FALSE,# 是否平滑曲线\n",
    "         levels=c(0,1),direction=\"<\" #设置分组方向\n",
    "         )\n",
    "    if (res$auc > 0.5){\n",
    "       print(paste0(i,'   ', res$auc))\n",
    "        p = pROC::ggroc(res, color =\"red\",legacy.axes = TRUE)+\n",
    "  geom_segment(aes(x = 0, xend = 1, y = 0, yend = 1), color=\"darkgrey\", linetype=4)+\n",
    "  theme_bw() + # 设置背景\n",
    "  ggtitle(paste0(i,\" ROC Curve\"))+\n",
    "  theme(plot.title = element_text(hjust = 0.5,size = 16),\n",
    "        axis.text=element_text(size=12,colour = \"black\"),\n",
    "        axis.title.x = element_text(size = 14),\n",
    "        axis.title.y = element_text(size = 14))\n",
    "p+annotate(\"text\",x=0.75,y=0.25,label=paste(\"AUC = \", round(res$auc,3)))+\n",
    "  annotate(\"text\",x=0.75,y=0.20,label=paste(\"95%CI: \", round(res$ci[1],3),'-',round(res$ci[3],3)))\n",
    "    #ggsave(file = paste0(i,'.ROC.pdf'))\n",
    "}else{\n",
    "      print(paste0(i,'   ', res$auc))\n",
    "}\n",
    "\n",
    "    \n",
    "    }"
   ]
  },
  {
   "cell_type": "code",
   "execution_count": 29,
   "id": "4376958c-19bd-4567-b194-e88cddbaeadf",
   "metadata": {},
   "outputs": [
    {
     "data": {
      "text/html": [
       "<table class=\"dataframe\">\n",
       "<caption>A data.frame: 2 x 49</caption>\n",
       "<thead>\n",
       "\t<tr><th></th><th scope=col>Group</th><th scope=col>RASD2</th><th scope=col>HIST1H3C</th><th scope=col>TMEM92</th><th scope=col>CEP55</th><th scope=col>TPM3</th><th scope=col>HIST1H1B</th><th scope=col>AC132872.2</th><th scope=col>MIF</th><th scope=col>HJURP</th><th scope=col>...</th><th scope=col>PDCD1LG2</th><th scope=col>MANSC1</th><th scope=col>RPS28</th><th scope=col>PLP2</th><th scope=col>SGOL1</th><th scope=col>CCNA2</th><th scope=col>SAP130</th><th scope=col>CEACAM1</th><th scope=col>F5</th><th scope=col>CMTM1</th></tr>\n",
       "\t<tr><th></th><th scope=col>&lt;dbl&gt;</th><th scope=col>&lt;dbl&gt;</th><th scope=col>&lt;dbl&gt;</th><th scope=col>&lt;dbl&gt;</th><th scope=col>&lt;dbl&gt;</th><th scope=col>&lt;dbl&gt;</th><th scope=col>&lt;dbl&gt;</th><th scope=col>&lt;dbl&gt;</th><th scope=col>&lt;dbl&gt;</th><th scope=col>&lt;dbl&gt;</th><th scope=col>...</th><th scope=col>&lt;dbl&gt;</th><th scope=col>&lt;dbl&gt;</th><th scope=col>&lt;dbl&gt;</th><th scope=col>&lt;dbl&gt;</th><th scope=col>&lt;dbl&gt;</th><th scope=col>&lt;dbl&gt;</th><th scope=col>&lt;dbl&gt;</th><th scope=col>&lt;dbl&gt;</th><th scope=col>&lt;dbl&gt;</th><th scope=col>&lt;dbl&gt;</th></tr>\n",
       "</thead>\n",
       "<tbody>\n",
       "\t<tr><th scope=row>CI10</th><td>1</td><td>0</td><td>8.715837</td><td>0.2093388</td><td>0.4297173</td><td>41.74707</td><td>29.22072</td><td>0.1386199</td><td>0.8774675</td><td>0.3114319</td><td>...</td><td>6.617980</td><td> 3.640068</td><td> 85.49359</td><td>65.47431</td><td>0.9050358</td><td>1.295008</td><td>11.37361</td><td> 6.018822</td><td> 8.073764</td><td>23.14300</td></tr>\n",
       "\t<tr><th scope=row>CI11</th><td>1</td><td>0</td><td>5.598192</td><td>0.1934709</td><td>0.1702049</td><td>64.47738</td><td>16.91363</td><td>0.6588642</td><td>0.5020200</td><td>0.2691354</td><td>...</td><td>1.027261</td><td>15.546800</td><td>115.56397</td><td>95.79803</td><td>0.4480897</td><td>0.888065</td><td>14.02403</td><td>15.381449</td><td>12.007841</td><td>43.23487</td></tr>\n",
       "</tbody>\n",
       "</table>\n"
      ],
      "text/latex": [
       "A data.frame: 2 x 49\n",
       "\\begin{tabular}{r|lllllllllllllllllllll}\n",
       "  & Group & RASD2 & HIST1H3C & TMEM92 & CEP55 & TPM3 & HIST1H1B & AC132872.2 & MIF & HJURP & ... & PDCD1LG2 & MANSC1 & RPS28 & PLP2 & SGOL1 & CCNA2 & SAP130 & CEACAM1 & F5 & CMTM1\\\\\n",
       "  & <dbl> & <dbl> & <dbl> & <dbl> & <dbl> & <dbl> & <dbl> & <dbl> & <dbl> & <dbl> & ... & <dbl> & <dbl> & <dbl> & <dbl> & <dbl> & <dbl> & <dbl> & <dbl> & <dbl> & <dbl>\\\\\n",
       "\\hline\n",
       "\tCI10 & 1 & 0 & 8.715837 & 0.2093388 & 0.4297173 & 41.74707 & 29.22072 & 0.1386199 & 0.8774675 & 0.3114319 & ... & 6.617980 &  3.640068 &  85.49359 & 65.47431 & 0.9050358 & 1.295008 & 11.37361 &  6.018822 &  8.073764 & 23.14300\\\\\n",
       "\tCI11 & 1 & 0 & 5.598192 & 0.1934709 & 0.1702049 & 64.47738 & 16.91363 & 0.6588642 & 0.5020200 & 0.2691354 & ... & 1.027261 & 15.546800 & 115.56397 & 95.79803 & 0.4480897 & 0.888065 & 14.02403 & 15.381449 & 12.007841 & 43.23487\\\\\n",
       "\\end{tabular}\n"
      ],
      "text/markdown": [
       "\n",
       "A data.frame: 2 x 49\n",
       "\n",
       "| <!--/--> | Group &lt;dbl&gt; | RASD2 &lt;dbl&gt; | HIST1H3C &lt;dbl&gt; | TMEM92 &lt;dbl&gt; | CEP55 &lt;dbl&gt; | TPM3 &lt;dbl&gt; | HIST1H1B &lt;dbl&gt; | AC132872.2 &lt;dbl&gt; | MIF &lt;dbl&gt; | HJURP &lt;dbl&gt; | ... ... | PDCD1LG2 &lt;dbl&gt; | MANSC1 &lt;dbl&gt; | RPS28 &lt;dbl&gt; | PLP2 &lt;dbl&gt; | SGOL1 &lt;dbl&gt; | CCNA2 &lt;dbl&gt; | SAP130 &lt;dbl&gt; | CEACAM1 &lt;dbl&gt; | F5 &lt;dbl&gt; | CMTM1 &lt;dbl&gt; |\n",
       "|---|---|---|---|---|---|---|---|---|---|---|---|---|---|---|---|---|---|---|---|---|---|\n",
       "| CI10 | 1 | 0 | 8.715837 | 0.2093388 | 0.4297173 | 41.74707 | 29.22072 | 0.1386199 | 0.8774675 | 0.3114319 | ... | 6.617980 |  3.640068 |  85.49359 | 65.47431 | 0.9050358 | 1.295008 | 11.37361 |  6.018822 |  8.073764 | 23.14300 |\n",
       "| CI11 | 1 | 0 | 5.598192 | 0.1934709 | 0.1702049 | 64.47738 | 16.91363 | 0.6588642 | 0.5020200 | 0.2691354 | ... | 1.027261 | 15.546800 | 115.56397 | 95.79803 | 0.4480897 | 0.888065 | 14.02403 | 15.381449 | 12.007841 | 43.23487 |\n",
       "\n"
      ],
      "text/plain": [
       "     Group RASD2 HIST1H3C TMEM92    CEP55     TPM3     HIST1H1B AC132872.2\n",
       "CI10 1     0     8.715837 0.2093388 0.4297173 41.74707 29.22072 0.1386199 \n",
       "CI11 1     0     5.598192 0.1934709 0.1702049 64.47738 16.91363 0.6588642 \n",
       "     MIF       HJURP     ... PDCD1LG2 MANSC1    RPS28     PLP2     SGOL1    \n",
       "CI10 0.8774675 0.3114319 ... 6.617980  3.640068  85.49359 65.47431 0.9050358\n",
       "CI11 0.5020200 0.2691354 ... 1.027261 15.546800 115.56397 95.79803 0.4480897\n",
       "     CCNA2    SAP130   CEACAM1   F5        CMTM1   \n",
       "CI10 1.295008 11.37361  6.018822  8.073764 23.14300\n",
       "CI11 0.888065 14.02403 15.381449 12.007841 43.23487"
      ]
     },
     "metadata": {},
     "output_type": "display_data"
    }
   ],
   "source": [
    "head(expr4,2)"
   ]
  },
  {
   "cell_type": "code",
   "execution_count": 31,
   "id": "63007397-eb5c-4388-9eb3-5d5199139f2e",
   "metadata": {},
   "outputs": [
    {
     "name": "stderr",
     "output_type": "stream",
     "text": [
      "Setting direction: controls < cases\n",
      "\n"
     ]
    },
    {
     "data": {
      "text/plain": [
       "\n",
       "Call:\n",
       "roc.default(controls = expr4$RASD2[expr4$Group == 0], cases = expr4$RASD2[expr4$Group ==     1])\n",
       "\n",
       "Data: 42 controls < 43 cases.\n",
       "Area under the curve: 0.5432"
      ]
     },
     "metadata": {},
     "output_type": "display_data"
    }
   ],
   "source": [
    "pROC::roc(controls=expr4$RASD2[expr4$Group==0], cases=expr4$RASD2[expr4$Group==1])"
   ]
  },
  {
   "cell_type": "code",
   "execution_count": null,
   "id": "34a7ba3c-af27-43e5-ab00-2a3cb69ab168",
   "metadata": {},
   "outputs": [],
   "source": []
  }
 ],
 "metadata": {
  "kernelspec": {
   "display_name": "R",
   "language": "R",
   "name": "ir"
  },
  "language_info": {
   "codemirror_mode": "r",
   "file_extension": ".r",
   "mimetype": "text/x-r-source",
   "name": "R",
   "pygments_lexer": "r",
   "version": "4.2.1"
  }
 },
 "nbformat": 4,
 "nbformat_minor": 5
}
