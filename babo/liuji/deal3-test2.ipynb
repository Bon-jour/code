{
 "cells": [
  {
   "cell_type": "code",
   "execution_count": 1,
   "id": "6cdba907-e609-4d04-8f10-d471de1d9274",
   "metadata": {},
   "outputs": [],
   "source": [
    "setwd('/import/liujing/data/')"
   ]
  },
  {
   "cell_type": "code",
   "execution_count": 2,
   "id": "6af85003-4692-4d52-b8b6-dd5c132a3397",
   "metadata": {},
   "outputs": [],
   "source": [
    "data1 = read.table('../test.txt',header =T,sep = '\\t',check.names =  F)"
   ]
  },
  {
   "cell_type": "code",
   "execution_count": 3,
   "id": "a7da6a54-b7c6-4408-b03c-1dcda6b4087d",
   "metadata": {
    "scrolled": true
   },
   "outputs": [
    {
     "name": "stderr",
     "output_type": "stream",
     "text": [
      "Warning message:\n",
      "\"package 'dplyr' was built under R version 4.2.3\"\n",
      "\n",
      "Attaching package: 'dplyr'\n",
      "\n",
      "\n",
      "The following objects are masked from 'package:stats':\n",
      "\n",
      "    filter, lag\n",
      "\n",
      "\n",
      "The following objects are masked from 'package:base':\n",
      "\n",
      "    intersect, setdiff, setequal, union\n",
      "\n",
      "\n"
     ]
    }
   ],
   "source": [
    "library(dplyr)"
   ]
  },
  {
   "cell_type": "code",
   "execution_count": 4,
   "id": "39ad4bee-d34e-40cc-b52b-ab9822e993ce",
   "metadata": {},
   "outputs": [],
   "source": [
    "Type = c(rep(1,16),rep(0,18))"
   ]
  },
  {
   "cell_type": "code",
   "execution_count": 5,
   "id": "4444508c-30aa-406b-b8b5-d706d30186d9",
   "metadata": {},
   "outputs": [
    {
     "data": {
      "text/html": [
       "<table class=\"dataframe\">\n",
       "<caption>A data.frame: 2 x 35</caption>\n",
       "<thead>\n",
       "\t<tr><th></th><th scope=col>Gene_name</th><th scope=col>CI10</th><th scope=col>CI11</th><th scope=col>CI12</th><th scope=col>CI13</th><th scope=col>CI14</th><th scope=col>CI15</th><th scope=col>CI16</th><th scope=col>CI1</th><th scope=col>CI2</th><th scope=col>...</th><th scope=col>H18</th><th scope=col>H1</th><th scope=col>H2</th><th scope=col>H3</th><th scope=col>H4</th><th scope=col>H5</th><th scope=col>H6</th><th scope=col>H7</th><th scope=col>H8</th><th scope=col>H9</th></tr>\n",
       "\t<tr><th></th><th scope=col>&lt;chr&gt;</th><th scope=col>&lt;dbl&gt;</th><th scope=col>&lt;dbl&gt;</th><th scope=col>&lt;dbl&gt;</th><th scope=col>&lt;dbl&gt;</th><th scope=col>&lt;dbl&gt;</th><th scope=col>&lt;dbl&gt;</th><th scope=col>&lt;dbl&gt;</th><th scope=col>&lt;dbl&gt;</th><th scope=col>&lt;dbl&gt;</th><th scope=col>...</th><th scope=col>&lt;dbl&gt;</th><th scope=col>&lt;dbl&gt;</th><th scope=col>&lt;dbl&gt;</th><th scope=col>&lt;dbl&gt;</th><th scope=col>&lt;dbl&gt;</th><th scope=col>&lt;dbl&gt;</th><th scope=col>&lt;dbl&gt;</th><th scope=col>&lt;dbl&gt;</th><th scope=col>&lt;dbl&gt;</th><th scope=col>&lt;dbl&gt;</th></tr>\n",
       "</thead>\n",
       "<tbody>\n",
       "\t<tr><th scope=row>1</th><td>RNA5SP111</td><td>0</td><td>0</td><td>0.6257938</td><td>0</td><td>0</td><td>0</td><td>0</td><td>0</td><td>0</td><td>...</td><td>0</td><td>0</td><td>0</td><td>1.409555</td><td>0</td><td>0</td><td>1.985912</td><td>0.7690921</td><td>0</td><td>0</td></tr>\n",
       "\t<tr><th scope=row>2</th><td>RNA5SP110</td><td>0</td><td>0</td><td>0.0000000</td><td>0</td><td>0</td><td>0</td><td>0</td><td>0</td><td>0</td><td>...</td><td>0</td><td>0</td><td>0</td><td>0.000000</td><td>0</td><td>0</td><td>0.000000</td><td>0.0000000</td><td>0</td><td>0</td></tr>\n",
       "</tbody>\n",
       "</table>\n"
      ],
      "text/latex": [
       "A data.frame: 2 x 35\n",
       "\\begin{tabular}{r|lllllllllllllllllllll}\n",
       "  & Gene\\_name & CI10 & CI11 & CI12 & CI13 & CI14 & CI15 & CI16 & CI1 & CI2 & ... & H18 & H1 & H2 & H3 & H4 & H5 & H6 & H7 & H8 & H9\\\\\n",
       "  & <chr> & <dbl> & <dbl> & <dbl> & <dbl> & <dbl> & <dbl> & <dbl> & <dbl> & <dbl> & ... & <dbl> & <dbl> & <dbl> & <dbl> & <dbl> & <dbl> & <dbl> & <dbl> & <dbl> & <dbl>\\\\\n",
       "\\hline\n",
       "\t1 & RNA5SP111 & 0 & 0 & 0.6257938 & 0 & 0 & 0 & 0 & 0 & 0 & ... & 0 & 0 & 0 & 1.409555 & 0 & 0 & 1.985912 & 0.7690921 & 0 & 0\\\\\n",
       "\t2 & RNA5SP110 & 0 & 0 & 0.0000000 & 0 & 0 & 0 & 0 & 0 & 0 & ... & 0 & 0 & 0 & 0.000000 & 0 & 0 & 0.000000 & 0.0000000 & 0 & 0\\\\\n",
       "\\end{tabular}\n"
      ],
      "text/markdown": [
       "\n",
       "A data.frame: 2 x 35\n",
       "\n",
       "| <!--/--> | Gene_name &lt;chr&gt; | CI10 &lt;dbl&gt; | CI11 &lt;dbl&gt; | CI12 &lt;dbl&gt; | CI13 &lt;dbl&gt; | CI14 &lt;dbl&gt; | CI15 &lt;dbl&gt; | CI16 &lt;dbl&gt; | CI1 &lt;dbl&gt; | CI2 &lt;dbl&gt; | ... ... | H18 &lt;dbl&gt; | H1 &lt;dbl&gt; | H2 &lt;dbl&gt; | H3 &lt;dbl&gt; | H4 &lt;dbl&gt; | H5 &lt;dbl&gt; | H6 &lt;dbl&gt; | H7 &lt;dbl&gt; | H8 &lt;dbl&gt; | H9 &lt;dbl&gt; |\n",
       "|---|---|---|---|---|---|---|---|---|---|---|---|---|---|---|---|---|---|---|---|---|---|\n",
       "| 1 | RNA5SP111 | 0 | 0 | 0.6257938 | 0 | 0 | 0 | 0 | 0 | 0 | ... | 0 | 0 | 0 | 1.409555 | 0 | 0 | 1.985912 | 0.7690921 | 0 | 0 |\n",
       "| 2 | RNA5SP110 | 0 | 0 | 0.0000000 | 0 | 0 | 0 | 0 | 0 | 0 | ... | 0 | 0 | 0 | 0.000000 | 0 | 0 | 0.000000 | 0.0000000 | 0 | 0 |\n",
       "\n"
      ],
      "text/plain": [
       "  Gene_name CI10 CI11 CI12      CI13 CI14 CI15 CI16 CI1 CI2 ... H18 H1 H2\n",
       "1 RNA5SP111 0    0    0.6257938 0    0    0    0    0   0   ... 0   0  0 \n",
       "2 RNA5SP110 0    0    0.0000000 0    0    0    0    0   0   ... 0   0  0 \n",
       "  H3       H4 H5 H6       H7        H8 H9\n",
       "1 1.409555 0  0  1.985912 0.7690921 0  0 \n",
       "2 0.000000 0  0  0.000000 0.0000000 0  0 "
      ]
     },
     "metadata": {},
     "output_type": "display_data"
    }
   ],
   "source": [
    "head(data1,2)"
   ]
  },
  {
   "cell_type": "code",
   "execution_count": 6,
   "id": "c77f75fb-92b8-46f0-bc70-5a4c89c45a2a",
   "metadata": {},
   "outputs": [],
   "source": [
    "data1 = data1[!duplicated(data1$Gene_name),]  "
   ]
  },
  {
   "cell_type": "code",
   "execution_count": 7,
   "id": "1e789bcd-5487-4e1b-8138-efee922eb139",
   "metadata": {},
   "outputs": [],
   "source": [
    "rownames(data1) = data1[,1]\n",
    "data1 = data1[,-1]"
   ]
  },
  {
   "cell_type": "code",
   "execution_count": 8,
   "id": "32a7a803-435b-49a9-a8e6-e4de87300055",
   "metadata": {},
   "outputs": [],
   "source": [
    "data1 = data1 %>%  t() %>% as.data.frame()"
   ]
  },
  {
   "cell_type": "code",
   "execution_count": null,
   "id": "d1235433-e5c3-4400-98cf-a82f9c54dd48",
   "metadata": {},
   "outputs": [],
   "source": []
  },
  {
   "cell_type": "code",
   "execution_count": null,
   "id": "9dec9901-9c76-4196-a4ee-a402464d360c",
   "metadata": {},
   "outputs": [],
   "source": []
  },
  {
   "cell_type": "code",
   "execution_count": 9,
   "id": "fde93d34-c53a-4260-a18e-c5d56365219b",
   "metadata": {},
   "outputs": [],
   "source": [
    "save(data1,Type,file = 'expr2.test.rda')"
   ]
  },
  {
   "cell_type": "code",
   "execution_count": null,
   "id": "ee271bd1-0c19-453b-b616-dc52a9971115",
   "metadata": {},
   "outputs": [],
   "source": []
  }
 ],
 "metadata": {
  "kernelspec": {
   "display_name": "R",
   "language": "R",
   "name": "ir"
  },
  "language_info": {
   "codemirror_mode": "r",
   "file_extension": ".r",
   "mimetype": "text/x-r-source",
   "name": "R",
   "pygments_lexer": "r",
   "version": "4.2.1"
  }
 },
 "nbformat": 4,
 "nbformat_minor": 5
}
