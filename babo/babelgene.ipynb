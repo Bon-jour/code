{
 "cells": [
  {
   "cell_type": "code",
   "execution_count": 1,
   "id": "096067c7-890a-4f33-8128-9bb84022d70f",
   "metadata": {},
   "outputs": [],
   "source": [
    "library(babelgene)"
   ]
  },
  {
   "cell_type": "code",
   "execution_count": 2,
   "id": "a54849ec-a29a-487f-98e5-a2dd51a47693",
   "metadata": {},
   "outputs": [],
   "source": [
    "setwd('/import/500/')"
   ]
  },
  {
   "cell_type": "code",
   "execution_count": 3,
   "id": "e2c75f94-5b30-43a3-b09e-fb344e07c993",
   "metadata": {},
   "outputs": [],
   "source": [
    "gene = read.table('./gene.txt',header =F)"
   ]
  },
  {
   "cell_type": "code",
   "execution_count": 6,
   "id": "65e9604f-53af-4a93-a55f-9a07364f96cc",
   "metadata": {},
   "outputs": [],
   "source": [
    "orthgene = orthologs(genes = gene$V1, species = \"pig\", human = TRUE)"
   ]
  },
  {
   "cell_type": "code",
   "execution_count": 7,
   "id": "f3724fab-678e-4d05-9188-156ca04845c4",
   "metadata": {},
   "outputs": [],
   "source": [
    "write.csv(orthgene,file = 'orthgene.csv')"
   ]
  },
  {
   "cell_type": "code",
   "execution_count": null,
   "id": "d1013e57-a410-479c-87d3-ad9885324fb4",
   "metadata": {},
   "outputs": [],
   "source": []
  }
 ],
 "metadata": {
  "kernelspec": {
   "display_name": "R",
   "language": "R",
   "name": "ir"
  },
  "language_info": {
   "codemirror_mode": "r",
   "file_extension": ".r",
   "mimetype": "text/x-r-source",
   "name": "R",
   "pygments_lexer": "r",
   "version": "4.2.1"
  }
 },
 "nbformat": 4,
 "nbformat_minor": 5
}
