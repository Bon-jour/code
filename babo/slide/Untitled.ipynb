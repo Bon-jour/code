{
 "cells": [
  {
   "cell_type": "code",
   "execution_count": 6,
   "id": "fc3dc8d5-24da-445f-bf70-7dcd0867ad21",
   "metadata": {},
   "outputs": [],
   "source": [
    "setwd('/import/DB//wes//out')"
   ]
  },
  {
   "cell_type": "code",
   "execution_count": null,
   "id": "927632c5-e38d-4e55-82fe-83f326ea6cf5",
   "metadata": {},
   "outputs": [],
   "source": [
    "library(ggplot2)\n",
    "install.packages(\"devtools\")\n",
    "library(devtools)\n",
    "install_github(\"easyGgplot2\", \"kassambara\")\n",
    "library(easyGgplot2)\n",
    "\n",
    "a = read.table(\"./NPC34F-T_filter_snp_PASS.vcf.spectrum.txt\")\n",
    "dat <- data.frame(type=c('C>A(G>T)','C>T(G>A)','C>G(G>C)','T>A(A>T)','T>G(A>C)','T>C(A>G)'))\n",
    "counts1=c(a[4,1]+a[9,1],a[6,1]+a[7,1],a[5,1]+a[8,1],a[10,1]+a[3,1],a[12,1]+a[1,1],+a[11,1]+a[2,1])\n",
    "\n",
    "p1=ggplot(dat,aes( x=type,y=counts1))+geom_bar(stat=\"identity\",aes(fill=type))+labs(title=\"NPC34F-T\")+theme(plot.title = element_text(hjust = 0.5),axis.text.x = element_text(size=10,vjust = 0.5, hjust = 0.5,face=\"bold\",angle = 75)) \n",
    "\n",
    "b= read.table(\"NPC29F-N_filter_snp_PASS.vcf.spectrum.txt\")\n",
    "counts2=c(b[4,1]+b[9,1],b[6,1]+b[7,1],b[5,1]+b[8,1],b[10,1]+b[3,1],b[12,1]+b[1,1],+b[11,1]+b[2,1])\n",
    "p2=ggplot(dat,aes( x=type,y=counts2))+geom_bar(stat=\"identity\",aes(fill=type))+labs(title=\"NPC29F-N\")+theme(plot.title = element_text(hjust = 0.5),,axis.text.x = element_text(size=10,vjust = 0.5, hjust = 0.5,face=\"bold\",angle = 75)) \n",
    "\n",
    "ggplot2.multiplot(p1,p2, cols=2)"
   ]
  },
  {
   "cell_type": "code",
   "execution_count": null,
   "id": "b139ac84-6984-43a2-8e44-e2fa296de762",
   "metadata": {},
   "outputs": [],
   "source": []
  }
 ],
 "metadata": {
  "kernelspec": {
   "display_name": "R",
   "language": "R",
   "name": "ir"
  },
  "language_info": {
   "codemirror_mode": "r",
   "file_extension": ".r",
   "mimetype": "text/x-r-source",
   "name": "R",
   "pygments_lexer": "r",
   "version": "4.2.1"
  }
 },
 "nbformat": 4,
 "nbformat_minor": 5
}
