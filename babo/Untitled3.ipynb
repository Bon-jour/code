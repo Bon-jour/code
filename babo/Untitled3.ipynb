{
 "cells": [
  {
   "cell_type": "code",
   "execution_count": null,
   "id": "b9fe91c7-94b8-4a3f-a6db-ea02347dc1c0",
   "metadata": {},
   "outputs": [],
   "source": [
    "rm(list=ls())\n",
    "\n",
    "library(bitops)\n",
    "library(RCurl)\n",
    "library(stringr)\n",
    "library(XML)\n",
    "\n",
    "genes <- read.table(\"gene_url.txt\",header = T,stringsAsFactors = F)\n",
    "genes$NCBI_url <- paste(\"https://www.ncbi.nlm.nih.gov/gene/?term=\",genes$ENTREZID,sep=\"\")\n",
    "head(genes)\n",
    "\n",
    "getNodesTxt <- function(html_txt1,xpath_p){\n",
    "  els1 = getNodeSet(html_txt1, xpath_p)\n",
    "  # 获得Node的内容，并且去除空字符：\n",
    "  els1_txt <- sapply(els1,xmlValue)[!(sapply(els1,xmlValue)==\"\")]\n",
    "  # 去除\\n：\n",
    "  str_replace_all(els1_txt,\"(\\\\n )+\",\"\")\n",
    "}\n",
    "dealNodeTxt <- function(NodeTxt){\n",
    "  ifelse(is.character(NodeTxt)==T && length(NodeTxt)!=0 , NodeTxt , NA)\n",
    "}"
   ]
  },
  {
   "cell_type": "code",
   "execution_count": 28,
   "id": "042c37f9-928d-4ed3-aa8b-1a0b0f3aa7b8",
   "metadata": {
    "scrolled": true
   },
   "outputs": [],
   "source": [
    "# c <- 1 #无响应或请求超时初始值\n",
    "# for(i in 1:nrow(genes)){\n",
    "# temp <- try(getURL(genes[i,\"NCBI_url\"]),silent=FALSE) #判断 grtURL是否返回错误值\n",
    "# if('try-error' %in% class(temp))\n",
    "# {doc <-NULL\n",
    "# cat('第',i,'个失败！\\n')\n",
    "# c <- c+1\n",
    "# }else{\n",
    "# doc <- temp\n",
    "# cat('第',i,'个成功！\\n')\n",
    "# html_txt1 = htmlParse(doc, asText = TRUE)\n",
    "# # 获得Locus tag：\n",
    "# genes[i,\"Locustag\"] <- grep('LOC_Os',str_split(dealNodeTxt(getNodesTxt(html_txt1,'//*[@class=\"rprt-section gene-general-protein-info\"][1]')),' ')[[1]],value = T)\n",
    "# # print(genes)\n",
    "#     #genes[i,\"Locustag\"] <- dealNodeTxt(getNodesTxt(html_txt1,'//*[@id=\"summaryDl\"]/dd[preceding-sibling::dt[text()=\"Locus tag\" and position()=1 ] ]'))\n",
    "# # cat(\"写入Locus tag\\n\")\n",
    "# }\n",
    "# #if(c==2000000){stop()} #若getURL错误20次，则停止运行\n",
    "# Sys.sleep(1) #睡眠1秒\n",
    "# }"
   ]
  },
  {
   "cell_type": "code",
   "execution_count": null,
   "id": "5d58a5ee-1355-4d7f-895f-6d01913e2870",
   "metadata": {},
   "outputs": [],
   "source": [
    "for(i in 1:nrow(genes)){\n",
    "c = 1\n",
    "temp <- try(getURL(genes[i,\"NCBI_url\"]),silent=FALSE) #判断 grtURL是否返回错误值\n",
    "if('try-error' %in% class(temp))\n",
    "{doc <-NULL\n",
    "cat('第',i,'个失败！\\n')\n",
    "c <- c+1\n",
    "}else{\n",
    "doc <- temp\n",
    "cat('第',i,'个成功！\\n')\n",
    "html_txt1 = htmlParse(doc, asText = TRUE)}\n",
    "#head(html_txt1,4)\n",
    "print('-------------------------------------------------')\n",
    "dd = grep('LOC_Os',str_split(dealNodeTxt(getNodesTxt(html_txt1,'//*[@class=\"rprt-section gene-general-protein-info\"][1]')),' ')[[1]],value = T)\n",
    "if(length(dd) == 0 ){\n",
    "    genes[i,\"Locustag\"] = NA\n",
    "}else{\n",
    "    genes[i,\"Locustag\"] = dd\n",
    "}\n",
    "#if(c==2000000){stop()} #若getURL错误20次，则停止运行\n",
    "# Sys.sleep(1) #睡眠1秒\n",
    "}"
   ]
  },
  {
   "cell_type": "code",
   "execution_count": null,
   "id": "617471f0-9988-46d6-a032-77e58273674f",
   "metadata": {},
   "outputs": [],
   "source": [
    "write.table(genes,'soybean_test_result2.txt',quote = F,row.names = F)"
   ]
  },
  {
   "cell_type": "code",
   "execution_count": null,
   "id": "4eb4577d-364d-42e0-94b0-b3ad22830709",
   "metadata": {},
   "outputs": [],
   "source": [
    "genes"
   ]
  },
  {
   "cell_type": "code",
   "execution_count": null,
   "id": "40cdbf74-8627-4e8d-9d33-32bec689947e",
   "metadata": {},
   "outputs": [],
   "source": []
  }
 ],
 "metadata": {
  "kernelspec": {
   "display_name": "R",
   "language": "R",
   "name": "ir"
  },
  "language_info": {
   "codemirror_mode": "r",
   "file_extension": ".r",
   "mimetype": "text/x-r-source",
   "name": "R",
   "pygments_lexer": "r",
   "version": "4.2.1"
  }
 },
 "nbformat": 4,
 "nbformat_minor": 5
}
