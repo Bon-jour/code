{
 "cells": [
  {
   "cell_type": "code",
   "execution_count": null,
   "id": "b4d845cb-ee99-41b0-8063-57d19bf7c0c0",
   "metadata": {},
   "outputs": [],
   "source": [
    "setwd('/import/linhao/')\n",
    "\n",
    "library(msigdbr)\n",
    "\n",
    "m_df = msigdbr(species = \"Mus musculus\")\n",
    "head(m_df)\n",
    "\n",
    "m_df = msigdbr(species = \"Mus musculus\", category = \"C2\")\n",
    "\n",
    "m_df = msigdbr(species = \"Mus musculus\", category = \"C2\", subcategory = \"CP:KEGG\")\n",
    "\n",
    "m_df %>%  dplyr::filter(grepl('TCA', gs_name)) -> a\n",
    "\n",
    "a[,4]\n",
    "\n",
    "meta = read.csv('./mete.csv',header =T)\n",
    "\n",
    "kegg = read.csv('/import/194.data/data/workdirV6/KEGG_COMPOUND_PATHWAY_mmu.csv')\n",
    "\n",
    "kegg %>%  dplyr::filter(grepl('TCA', PATHWAY_MAP)) -> kegg2\n",
    "\n",
    "head(kegg2,1)\n",
    "\n",
    "intersect(kegg2$COMPOUND,meta$KEGG)\n",
    "\n",
    "\n",
    "\n",
    "meta %>%  dplyr::filter(KEGG %in% intersect(kegg2$COMPOUND,meta$KEGG) )\n",
    "\n",
    "meta %>%  dplyr::filter(KEGG %in% intersect(kegg2$COMPOUND,meta$KEGG) ) -> meta2\n",
    "\n",
    "data = read.csv('./pos.neg.csv')\n",
    "\n",
    "data %>%  dplyr::filter(Name %in% meta2$Query ) -> RES\n",
    "\n",
    "RES$log2FC = -RES$log2FC\n",
    "\n",
    "write.csv(RES,file = 'res.csv',row.names =F)"
   ]
  },
  {
   "cell_type": "code",
   "execution_count": null,
   "id": "3ba0065e-b5c9-4644-8363-d4337e8cfd20",
   "metadata": {},
   "outputs": [],
   "source": []
  },
  {
   "cell_type": "code",
   "execution_count": null,
   "id": "ac4399dd-6b91-4f0b-aa7f-70c58cee0097",
   "metadata": {},
   "outputs": [],
   "source": []
  },
  {
   "cell_type": "code",
   "execution_count": 46,
   "id": "66ef0aeb-92ec-4186-a5fa-a7ce8f9c90e7",
   "metadata": {},
   "outputs": [
    {
     "name": "stderr",
     "output_type": "stream",
     "text": [
      "Warning message:\n",
      "\"package 'Biobase' was built under R version 4.2.3\"\n",
      "\n",
      "Attaching package: 'BiocGenerics'\n",
      "\n",
      "\n",
      "The following objects are masked from 'package:stats':\n",
      "\n",
      "    IQR, mad, sd, var, xtabs\n",
      "\n",
      "\n",
      "The following objects are masked from 'package:base':\n",
      "\n",
      "    Filter, Find, Map, Position, Reduce, anyDuplicated, aperm, append,\n",
      "    as.data.frame, basename, cbind, colnames, dirname, do.call,\n",
      "    duplicated, eval, evalq, get, grep, grepl, intersect, is.unsorted,\n",
      "    lapply, mapply, match, mget, order, paste, pmax, pmax.int, pmin,\n",
      "    pmin.int, rank, rbind, rownames, sapply, setdiff, sort, table,\n",
      "    tapply, union, unique, unsplit, which.max, which.min\n",
      "\n",
      "\n",
      "Welcome to Bioconductor\n",
      "\n",
      "    Vignettes contain introductory material; view with\n",
      "    'browseVignettes()'. To cite Bioconductor, see\n",
      "    'citation(\"Biobase\")', and for packages 'citation(\"pkgname\")'.\n",
      "\n",
      "\n",
      "Warning message in system(\"timedatectl\", intern = TRUE):\n",
      "\"running command 'timedatectl' had status 1\"\n",
      "-- \u001b[1mAttaching packages\u001b[22m --------------------------------------- tidyverse 1.3.2 --\n",
      "\u001b[32mv\u001b[39m \u001b[34mggplot2\u001b[39m 3.4.3     \u001b[32mv\u001b[39m \u001b[34mpurrr  \u001b[39m 1.0.1\n",
      "\u001b[32mv\u001b[39m \u001b[34mtibble \u001b[39m 3.2.1     \u001b[32mv\u001b[39m \u001b[34mdplyr  \u001b[39m 1.1.2\n",
      "\u001b[32mv\u001b[39m \u001b[34mtidyr  \u001b[39m 1.3.0     \u001b[32mv\u001b[39m \u001b[34mstringr\u001b[39m 1.5.0\n",
      "\u001b[32mv\u001b[39m \u001b[34mreadr  \u001b[39m 2.1.4     \u001b[32mv\u001b[39m \u001b[34mforcats\u001b[39m 1.0.0\n",
      "Warning message:\n",
      "\"package 'ggplot2' was built under R version 4.2.3\"\n",
      "Warning message:\n",
      "\"package 'tibble' was built under R version 4.2.3\"\n",
      "Warning message:\n",
      "\"package 'tidyr' was built under R version 4.2.3\"\n",
      "Warning message:\n",
      "\"package 'readr' was built under R version 4.2.3\"\n",
      "Warning message:\n",
      "\"package 'purrr' was built under R version 4.2.3\"\n",
      "Warning message:\n",
      "\"package 'dplyr' was built under R version 4.2.3\"\n",
      "Warning message:\n",
      "\"package 'stringr' was built under R version 4.2.3\"\n",
      "Warning message:\n",
      "\"package 'forcats' was built under R version 4.2.3\"\n",
      "-- \u001b[1mConflicts\u001b[22m ------------------------------------------ tidyverse_conflicts() --\n",
      "\u001b[31mx\u001b[39m \u001b[34mggplot2\u001b[39m::\u001b[32mPosition()\u001b[39m masks \u001b[34mBiocGenerics\u001b[39m::Position(), \u001b[34mbase\u001b[39m::Position()\n",
      "\u001b[31mx\u001b[39m \u001b[34mdplyr\u001b[39m::\u001b[32mcombine()\u001b[39m    masks \u001b[34mBiobase\u001b[39m::combine(), \u001b[34mBiocGenerics\u001b[39m::combine()\n",
      "\u001b[31mx\u001b[39m \u001b[34mdplyr\u001b[39m::\u001b[32mfilter()\u001b[39m     masks \u001b[34mstats\u001b[39m::filter()\n",
      "\u001b[31mx\u001b[39m \u001b[34mdplyr\u001b[39m::\u001b[32mlag()\u001b[39m        masks \u001b[34mstats\u001b[39m::lag()\n",
      "Warning message:\n",
      "\"package 'affy' was built under R version 4.2.2\"\n"
     ]
    }
   ],
   "source": [
    "library(ArrayExpress, quietly=TRUE)\n",
    "library(tidyverse, quietly=TRUE)\n",
    "library(affy, quietly=TRUE)"
   ]
  },
  {
   "cell_type": "code",
   "execution_count": 47,
   "id": "1dec1827-97cd-4b2c-b4a4-dffafcf694b2",
   "metadata": {},
   "outputs": [
    {
     "ename": "ERROR",
     "evalue": "Error in file(con, \"r\"): cannot open the connection to 'https://www.ebi.ac.uk/arrayexpress/xml/v2/files/E-MTAB-1583'\n",
     "output_type": "error",
     "traceback": [
      "Error in file(con, \"r\"): cannot open the connection to 'https://www.ebi.ac.uk/arrayexpress/xml/v2/files/E-MTAB-1583'\nTraceback:\n",
      "1. ArrayExpress(accession = \"E-MTAB-1583\", path = \".\", save = TRUE)",
      "2. getAE(accession, path, type = \"raw\")",
      "3. xmlTreeParse(suppressWarnings(readLines(xmlURL)), useInternalNodes = TRUE)",
      "4. suppressWarnings(readLines(xmlURL))",
      "5. withCallingHandlers(expr, warning = function(w) if (inherits(w, \n .     classes)) tryInvokeRestart(\"muffleWarning\"))",
      "6. readLines(xmlURL)",
      "7. file(con, \"r\")"
     ]
    }
   ],
   "source": [
    "eset <- ArrayExpress(accession=\"E-MTAB-1583\", path=\".\", save=TRUE)"
   ]
  },
  {
   "cell_type": "code",
   "execution_count": 49,
   "id": "55ea58d0-6992-4c30-b4ec-51977ac49202",
   "metadata": {},
   "outputs": [
    {
     "name": "stderr",
     "output_type": "stream",
     "text": [
      "\n",
      "Attaching package: 'ggClusterNet'\n",
      "\n",
      "\n",
      "The following object is masked from 'package:network':\n",
      "\n",
      "    network\n",
      "\n",
      "\n",
      "The following object is masked from 'package:ggplot2':\n",
      "\n",
      "    alpha\n",
      "\n",
      "\n"
     ]
    }
   ],
   "source": [
    "library(phyloseq)\n",
    "library(igraph)\n",
    "library(network)\n",
    "library(sna)\n",
    "library(tidyverse)\n",
    "library(ggClusterNet)"
   ]
  },
  {
   "cell_type": "code",
   "execution_count": 53,
   "id": "c6cef032-b57b-4502-8f2a-1149ecf7c319",
   "metadata": {},
   "outputs": [],
   "source": [
    "data(ps)"
   ]
  },
  {
   "cell_type": "code",
   "execution_count": 101,
   "id": "38307f0b-5279-46e6-b0bf-4aa7af4e18bc",
   "metadata": {},
   "outputs": [],
   "source": [
    "ps = readRDS('/import/194.data/data/workdirV6/carbom.rds')"
   ]
  },
  {
   "cell_type": "code",
   "execution_count": 102,
   "id": "98229679-bb68-4dae-a926-1cd70c59c908",
   "metadata": {},
   "outputs": [
    {
     "name": "stderr",
     "output_type": "stream",
     "text": [
      "Warning message in dir.create(path):\n",
      "\"'./result_big_1000' already exists\"\n"
     ]
    }
   ],
   "source": [
    "\n",
    "path = \"./result_big_1000/\"\n",
    "dir.create(path)"
   ]
  },
  {
   "cell_type": "code",
   "execution_count": 113,
   "id": "afd9705f-77d2-471f-885f-f66d2dff993c",
   "metadata": {},
   "outputs": [],
   "source": [
    "result = cor_Big_micro(ps = ps,\n",
    "                   N = 500,\n",
    "                   r.threshold=0.6,\n",
    "                   p.threshold=0.05,\n",
    "                   method = \"spearman\"\n",
    "                   )"
   ]
  },
  {
   "cell_type": "code",
   "execution_count": 114,
   "id": "6f5a31ae-4b65-44e2-9234-cd09a9bd3b12",
   "metadata": {},
   "outputs": [
    {
     "data": {
      "text/html": [
       "<style>\n",
       ".list-inline {list-style: none; margin:0; padding: 0}\n",
       ".list-inline>li {display: inline-block}\n",
       ".list-inline>li:not(:last-child)::after {content: \"\\00b7\"; padding: 0 .5ex}\n",
       "</style>\n",
       "<ol class=list-inline><li>500</li><li>500</li></ol>\n"
      ],
      "text/latex": [
       "\\begin{enumerate*}\n",
       "\\item 500\n",
       "\\item 500\n",
       "\\end{enumerate*}\n"
      ],
      "text/markdown": [
       "1. 500\n",
       "2. 500\n",
       "\n",
       "\n"
      ],
      "text/plain": [
       "[1] 500 500"
      ]
     },
     "metadata": {},
     "output_type": "display_data"
    },
    {
     "data": {
      "text/html": [
       "<table class=\"dataframe\">\n",
       "<caption>A data.frame: 6 x 3</caption>\n",
       "<thead>\n",
       "\t<tr><th></th><th scope=col>X1</th><th scope=col>X2</th><th scope=col>elements</th></tr>\n",
       "\t<tr><th></th><th scope=col>&lt;dbl&gt;</th><th scope=col>&lt;dbl&gt;</th><th scope=col>&lt;chr&gt;</th></tr>\n",
       "</thead>\n",
       "<tbody>\n",
       "\t<tr><th scope=row>2530390</th><td> 4.2934165</td><td>-10.661189</td><td>2530390</td></tr>\n",
       "\t<tr><th scope=row>239935</th><td>-0.5083253</td><td> -2.218441</td><td>239935 </td></tr>\n",
       "\t<tr><th scope=row>2576606</th><td> 7.9329511</td><td>-12.678014</td><td>2576606</td></tr>\n",
       "\t<tr><th scope=row>2530393</th><td>-0.6747435</td><td>-14.935083</td><td>2530393</td></tr>\n",
       "\t<tr><th scope=row>1796646</th><td>11.3027040</td><td>-10.560450</td><td>1796646</td></tr>\n",
       "\t<tr><th scope=row>1796613</th><td> 1.7131853</td><td> -7.265902</td><td>1796613</td></tr>\n",
       "</tbody>\n",
       "</table>\n"
      ],
      "text/latex": [
       "A data.frame: 6 x 3\n",
       "\\begin{tabular}{r|lll}\n",
       "  & X1 & X2 & elements\\\\\n",
       "  & <dbl> & <dbl> & <chr>\\\\\n",
       "\\hline\n",
       "\t2530390 &  4.2934165 & -10.661189 & 2530390\\\\\n",
       "\t239935 & -0.5083253 &  -2.218441 & 239935 \\\\\n",
       "\t2576606 &  7.9329511 & -12.678014 & 2576606\\\\\n",
       "\t2530393 & -0.6747435 & -14.935083 & 2530393\\\\\n",
       "\t1796646 & 11.3027040 & -10.560450 & 1796646\\\\\n",
       "\t1796613 &  1.7131853 &  -7.265902 & 1796613\\\\\n",
       "\\end{tabular}\n"
      ],
      "text/markdown": [
       "\n",
       "A data.frame: 6 x 3\n",
       "\n",
       "| <!--/--> | X1 &lt;dbl&gt; | X2 &lt;dbl&gt; | elements &lt;chr&gt; |\n",
       "|---|---|---|---|\n",
       "| 2530390 |  4.2934165 | -10.661189 | 2530390 |\n",
       "| 239935 | -0.5083253 |  -2.218441 | 239935  |\n",
       "| 2576606 |  7.9329511 | -12.678014 | 2576606 |\n",
       "| 2530393 | -0.6747435 | -14.935083 | 2530393 |\n",
       "| 1796646 | 11.3027040 | -10.560450 | 1796646 |\n",
       "| 1796613 |  1.7131853 |  -7.265902 | 1796613 |\n",
       "\n"
      ],
      "text/plain": [
       "        X1         X2         elements\n",
       "2530390  4.2934165 -10.661189 2530390 \n",
       "239935  -0.5083253  -2.218441 239935  \n",
       "2576606  7.9329511 -12.678014 2576606 \n",
       "2530393 -0.6747435 -14.935083 2530393 \n",
       "1796646 11.3027040 -10.560450 1796646 \n",
       "1796613  1.7131853  -7.265902 1796613 "
      ]
     },
     "metadata": {},
     "output_type": "display_data"
    }
   ],
   "source": [
    "#--提取相关矩阵\n",
    "cor = result[[1]]\n",
    "dim(cor)\n",
    " \n",
    "result2 <- model_igraph(cor = cor,Top_M = 4,\n",
    "                         method = \"cluster_fast_greedy\",\n",
    "                         seed = 2\n",
    ")\n",
    "node = result2[[1]]\n",
    "head(node)"
   ]
  },
  {
   "cell_type": "code",
   "execution_count": 115,
   "id": "46de6aa8-c766-4e7d-852e-1139c2090623",
   "metadata": {},
   "outputs": [
    {
     "data": {
      "text/plain": [
       "\n",
       "mini_model    model_1    model_2    model_3    model_4 \n",
       "        19        229         18        231          3 "
      ]
     },
     "metadata": {},
     "output_type": "display_data"
    }
   ],
   "source": [
    "dat = result2[[2]]\n",
    "table(dat$model)"
   ]
  },
  {
   "cell_type": "code",
   "execution_count": 116,
   "id": "54f0033f-c910-4cea-b804-67e8b7d9d867",
   "metadata": {},
   "outputs": [
    {
     "data": {
      "text/html": [
       "<table class=\"dataframe\">\n",
       "<caption>A data.frame: 6 x 6</caption>\n",
       "<thead>\n",
       "\t<tr><th></th><th scope=col>orig_model</th><th scope=col>model</th><th scope=col>color</th><th scope=col>OTU</th><th scope=col>X1</th><th scope=col>X2</th></tr>\n",
       "\t<tr><th></th><th scope=col>&lt;dbl&gt;</th><th scope=col>&lt;chr&gt;</th><th scope=col>&lt;chr&gt;</th><th scope=col>&lt;chr&gt;</th><th scope=col>&lt;dbl&gt;</th><th scope=col>&lt;dbl&gt;</th></tr>\n",
       "</thead>\n",
       "<tbody>\n",
       "\t<tr><th scope=row>1</th><td>3</td><td>model_3</td><td>#9E0142</td><td>2530390</td><td> 4.2934165</td><td>-10.661189</td></tr>\n",
       "\t<tr><th scope=row>2</th><td>1</td><td>model_1</td><td>#FDBE6E</td><td>239935 </td><td>-0.5083253</td><td> -2.218441</td></tr>\n",
       "\t<tr><th scope=row>3</th><td>3</td><td>model_3</td><td>#9E0142</td><td>2576606</td><td> 7.9329511</td><td>-12.678014</td></tr>\n",
       "\t<tr><th scope=row>4</th><td>3</td><td>model_3</td><td>#9E0142</td><td>2530393</td><td>-0.6747435</td><td>-14.935083</td></tr>\n",
       "\t<tr><th scope=row>5</th><td>3</td><td>model_3</td><td>#9E0142</td><td>1796646</td><td>11.3027040</td><td>-10.560450</td></tr>\n",
       "\t<tr><th scope=row>6</th><td>3</td><td>model_3</td><td>#9E0142</td><td>1796613</td><td> 1.7131853</td><td> -7.265902</td></tr>\n",
       "</tbody>\n",
       "</table>\n"
      ],
      "text/latex": [
       "A data.frame: 6 x 6\n",
       "\\begin{tabular}{r|llllll}\n",
       "  & orig\\_model & model & color & OTU & X1 & X2\\\\\n",
       "  & <dbl> & <chr> & <chr> & <chr> & <dbl> & <dbl>\\\\\n",
       "\\hline\n",
       "\t1 & 3 & model\\_3 & \\#9E0142 & 2530390 &  4.2934165 & -10.661189\\\\\n",
       "\t2 & 1 & model\\_1 & \\#FDBE6E & 239935  & -0.5083253 &  -2.218441\\\\\n",
       "\t3 & 3 & model\\_3 & \\#9E0142 & 2576606 &  7.9329511 & -12.678014\\\\\n",
       "\t4 & 3 & model\\_3 & \\#9E0142 & 2530393 & -0.6747435 & -14.935083\\\\\n",
       "\t5 & 3 & model\\_3 & \\#9E0142 & 1796646 & 11.3027040 & -10.560450\\\\\n",
       "\t6 & 3 & model\\_3 & \\#9E0142 & 1796613 &  1.7131853 &  -7.265902\\\\\n",
       "\\end{tabular}\n"
      ],
      "text/markdown": [
       "\n",
       "A data.frame: 6 x 6\n",
       "\n",
       "| <!--/--> | orig_model &lt;dbl&gt; | model &lt;chr&gt; | color &lt;chr&gt; | OTU &lt;chr&gt; | X1 &lt;dbl&gt; | X2 &lt;dbl&gt; |\n",
       "|---|---|---|---|---|---|---|\n",
       "| 1 | 3 | model_3 | #9E0142 | 2530390 |  4.2934165 | -10.661189 |\n",
       "| 2 | 1 | model_1 | #FDBE6E | 239935  | -0.5083253 |  -2.218441 |\n",
       "| 3 | 3 | model_3 | #9E0142 | 2576606 |  7.9329511 | -12.678014 |\n",
       "| 4 | 3 | model_3 | #9E0142 | 2530393 | -0.6747435 | -14.935083 |\n",
       "| 5 | 3 | model_3 | #9E0142 | 1796646 | 11.3027040 | -10.560450 |\n",
       "| 6 | 3 | model_3 | #9E0142 | 1796613 |  1.7131853 |  -7.265902 |\n",
       "\n"
      ],
      "text/plain": [
       "  orig_model model   color   OTU     X1         X2        \n",
       "1 3          model_3 #9E0142 2530390  4.2934165 -10.661189\n",
       "2 1          model_1 #FDBE6E 239935  -0.5083253  -2.218441\n",
       "3 3          model_3 #9E0142 2576606  7.9329511 -12.678014\n",
       "4 3          model_3 #9E0142 2530393 -0.6747435 -14.935083\n",
       "5 3          model_3 #9E0142 1796646 11.3027040 -10.560450\n",
       "6 3          model_3 #9E0142 1796613  1.7131853  -7.265902"
      ]
     },
     "metadata": {},
     "output_type": "display_data"
    },
    {
     "data": {
      "text/html": [
       "<table class=\"dataframe\">\n",
       "<caption>A data.frame: 6 x 11</caption>\n",
       "<thead>\n",
       "\t<tr><th></th><th scope=col>X1</th><th scope=col>X2</th><th scope=col>elements</th><th scope=col>Kingdom</th><th scope=col>Phylum</th><th scope=col>Class</th><th scope=col>Order</th><th scope=col>Family</th><th scope=col>Genus</th><th scope=col>Species</th><th scope=col>mean</th></tr>\n",
       "\t<tr><th></th><th scope=col>&lt;dbl&gt;</th><th scope=col>&lt;dbl&gt;</th><th scope=col>&lt;chr&gt;</th><th scope=col>&lt;chr&gt;</th><th scope=col>&lt;chr&gt;</th><th scope=col>&lt;chr&gt;</th><th scope=col>&lt;chr&gt;</th><th scope=col>&lt;chr&gt;</th><th scope=col>&lt;chr&gt;</th><th scope=col>&lt;chr&gt;</th><th scope=col>&lt;dbl&gt;</th></tr>\n",
       "</thead>\n",
       "<tbody>\n",
       "\t<tr><th scope=row>1019</th><td> 3.27009506</td><td>-4.2281297</td><td>1019   </td><td>Bacteria</td><td>Bacteroidetes </td><td>Flavobacteriia     </td><td>Flavobacteriales</td><td>Flavobacteriaceae     </td><td>Capnocytophaga  </td><td>sputigena    </td><td> 51.62500</td></tr>\n",
       "\t<tr><th scope=row>102134</th><td> 0.28352712</td><td>-0.6898191</td><td>102134 </td><td>Bacteria</td><td>Firmicutes    </td><td>Clostridia         </td><td>Clostridiales   </td><td>Peptococcaceae        </td><td>Desulfallas     </td><td>gibsoniae    </td><td> 54.78125</td></tr>\n",
       "\t<tr><th scope=row>1033854</th><td>-0.08174812</td><td>-1.0002684</td><td>1033854</td><td>Bacteria</td><td>Proteobacteria</td><td>Gammaproteobacteria</td><td>Chromatiales    </td><td>Ectothiorhodospiraceae</td><td>Thioalkalivibrio</td><td>sulfidiphilus</td><td> 47.09375</td></tr>\n",
       "\t<tr><th scope=row>1042156</th><td>-0.38806104</td><td>-1.0415220</td><td>1042156</td><td>Bacteria</td><td>Firmicutes    </td><td>Clostridia         </td><td>Clostridiales   </td><td>Clostridiaceae        </td><td>Clostridium     </td><td>sp. SY8519   </td><td>657.93750</td></tr>\n",
       "\t<tr><th scope=row>104336</th><td> 0.39090354</td><td>-1.6305056</td><td>104336 </td><td>Bacteria</td><td>Actinobacteria</td><td>Actinobacteria     </td><td>Micrococcales   </td><td>Microbacteriaceae     </td><td>Microbacterium  </td><td>foliorum     </td><td> 47.78125</td></tr>\n",
       "\t<tr><th scope=row>1063</th><td>-0.50873317</td><td>-1.6413836</td><td>1063   </td><td>Bacteria</td><td>Proteobacteria</td><td>Alphaproteobacteria</td><td>Rhodobacterales </td><td>Rhodobacteraceae      </td><td>Rhodobacter     </td><td>sphaeroides  </td><td> 46.43750</td></tr>\n",
       "</tbody>\n",
       "</table>\n"
      ],
      "text/latex": [
       "A data.frame: 6 x 11\n",
       "\\begin{tabular}{r|lllllllllll}\n",
       "  & X1 & X2 & elements & Kingdom & Phylum & Class & Order & Family & Genus & Species & mean\\\\\n",
       "  & <dbl> & <dbl> & <chr> & <chr> & <chr> & <chr> & <chr> & <chr> & <chr> & <chr> & <dbl>\\\\\n",
       "\\hline\n",
       "\t1019 &  3.27009506 & -4.2281297 & 1019    & Bacteria & Bacteroidetes  & Flavobacteriia      & Flavobacteriales & Flavobacteriaceae      & Capnocytophaga   & sputigena     &  51.62500\\\\\n",
       "\t102134 &  0.28352712 & -0.6898191 & 102134  & Bacteria & Firmicutes     & Clostridia          & Clostridiales    & Peptococcaceae         & Desulfallas      & gibsoniae     &  54.78125\\\\\n",
       "\t1033854 & -0.08174812 & -1.0002684 & 1033854 & Bacteria & Proteobacteria & Gammaproteobacteria & Chromatiales     & Ectothiorhodospiraceae & Thioalkalivibrio & sulfidiphilus &  47.09375\\\\\n",
       "\t1042156 & -0.38806104 & -1.0415220 & 1042156 & Bacteria & Firmicutes     & Clostridia          & Clostridiales    & Clostridiaceae         & Clostridium      & sp. SY8519    & 657.93750\\\\\n",
       "\t104336 &  0.39090354 & -1.6305056 & 104336  & Bacteria & Actinobacteria & Actinobacteria      & Micrococcales    & Microbacteriaceae      & Microbacterium   & foliorum      &  47.78125\\\\\n",
       "\t1063 & -0.50873317 & -1.6413836 & 1063    & Bacteria & Proteobacteria & Alphaproteobacteria & Rhodobacterales  & Rhodobacteraceae       & Rhodobacter      & sphaeroides   &  46.43750\\\\\n",
       "\\end{tabular}\n"
      ],
      "text/markdown": [
       "\n",
       "A data.frame: 6 x 11\n",
       "\n",
       "| <!--/--> | X1 &lt;dbl&gt; | X2 &lt;dbl&gt; | elements &lt;chr&gt; | Kingdom &lt;chr&gt; | Phylum &lt;chr&gt; | Class &lt;chr&gt; | Order &lt;chr&gt; | Family &lt;chr&gt; | Genus &lt;chr&gt; | Species &lt;chr&gt; | mean &lt;dbl&gt; |\n",
       "|---|---|---|---|---|---|---|---|---|---|---|---|\n",
       "| 1019 |  3.27009506 | -4.2281297 | 1019    | Bacteria | Bacteroidetes  | Flavobacteriia      | Flavobacteriales | Flavobacteriaceae      | Capnocytophaga   | sputigena     |  51.62500 |\n",
       "| 102134 |  0.28352712 | -0.6898191 | 102134  | Bacteria | Firmicutes     | Clostridia          | Clostridiales    | Peptococcaceae         | Desulfallas      | gibsoniae     |  54.78125 |\n",
       "| 1033854 | -0.08174812 | -1.0002684 | 1033854 | Bacteria | Proteobacteria | Gammaproteobacteria | Chromatiales     | Ectothiorhodospiraceae | Thioalkalivibrio | sulfidiphilus |  47.09375 |\n",
       "| 1042156 | -0.38806104 | -1.0415220 | 1042156 | Bacteria | Firmicutes     | Clostridia          | Clostridiales    | Clostridiaceae         | Clostridium      | sp. SY8519    | 657.93750 |\n",
       "| 104336 |  0.39090354 | -1.6305056 | 104336  | Bacteria | Actinobacteria | Actinobacteria      | Micrococcales    | Microbacteriaceae      | Microbacterium   | foliorum      |  47.78125 |\n",
       "| 1063 | -0.50873317 | -1.6413836 | 1063    | Bacteria | Proteobacteria | Alphaproteobacteria | Rhodobacterales  | Rhodobacteraceae       | Rhodobacter      | sphaeroides   |  46.43750 |\n",
       "\n"
      ],
      "text/plain": [
       "        X1          X2         elements Kingdom  Phylum        \n",
       "1019     3.27009506 -4.2281297 1019     Bacteria Bacteroidetes \n",
       "102134   0.28352712 -0.6898191 102134   Bacteria Firmicutes    \n",
       "1033854 -0.08174812 -1.0002684 1033854  Bacteria Proteobacteria\n",
       "1042156 -0.38806104 -1.0415220 1042156  Bacteria Firmicutes    \n",
       "104336   0.39090354 -1.6305056 104336   Bacteria Actinobacteria\n",
       "1063    -0.50873317 -1.6413836 1063     Bacteria Proteobacteria\n",
       "        Class               Order            Family                \n",
       "1019    Flavobacteriia      Flavobacteriales Flavobacteriaceae     \n",
       "102134  Clostridia          Clostridiales    Peptococcaceae        \n",
       "1033854 Gammaproteobacteria Chromatiales     Ectothiorhodospiraceae\n",
       "1042156 Clostridia          Clostridiales    Clostridiaceae        \n",
       "104336  Actinobacteria      Micrococcales    Microbacteriaceae     \n",
       "1063    Alphaproteobacteria Rhodobacterales  Rhodobacteraceae      \n",
       "        Genus            Species       mean     \n",
       "1019    Capnocytophaga   sputigena      51.62500\n",
       "102134  Desulfallas      gibsoniae      54.78125\n",
       "1033854 Thioalkalivibrio sulfidiphilus  47.09375\n",
       "1042156 Clostridium      sp. SY8519    657.93750\n",
       "104336  Microbacterium   foliorum       47.78125\n",
       "1063    Rhodobacter      sphaeroides    46.43750"
      ]
     },
     "metadata": {},
     "output_type": "display_data"
    },
    {
     "data": {
      "text/html": [
       "<table class=\"dataframe\">\n",
       "<caption>A data.frame: 6 x 8</caption>\n",
       "<thead>\n",
       "\t<tr><th></th><th scope=col>X2</th><th scope=col>Y2</th><th scope=col>OTU_2</th><th scope=col>OTU_1</th><th scope=col>weight</th><th scope=col>X1</th><th scope=col>Y1</th><th scope=col>cor</th></tr>\n",
       "\t<tr><th></th><th scope=col>&lt;dbl&gt;</th><th scope=col>&lt;dbl&gt;</th><th scope=col>&lt;chr&gt;</th><th scope=col>&lt;chr&gt;</th><th scope=col>&lt;dbl&gt;</th><th scope=col>&lt;dbl&gt;</th><th scope=col>&lt;dbl&gt;</th><th scope=col>&lt;chr&gt;</th></tr>\n",
       "</thead>\n",
       "<tbody>\n",
       "\t<tr><th scope=row>1</th><td> 4.2934165</td><td>-10.661189</td><td>2530390</td><td>2025876</td><td>-0.6370968</td><td>1.1058958</td><td>-7.278829</td><td>-</td></tr>\n",
       "\t<tr><th scope=row>2</th><td> 4.2934165</td><td>-10.661189</td><td>2530390</td><td>1883414</td><td>-0.6477273</td><td>4.1246213</td><td>-4.311103</td><td>-</td></tr>\n",
       "\t<tr><th scope=row>3</th><td> 4.2934165</td><td>-10.661189</td><td>2530390</td><td>1850093</td><td>-0.7324047</td><td>0.7249273</td><td>-8.996779</td><td>-</td></tr>\n",
       "\t<tr><th scope=row>4</th><td>-0.5083253</td><td> -2.218441</td><td>239935 </td><td>1796620</td><td>-0.6173021</td><td>0.4606354</td><td>-1.008271</td><td>-</td></tr>\n",
       "\t<tr><th scope=row>5</th><td>-0.5083253</td><td> -2.218441</td><td>239935 </td><td>2109688</td><td>-0.6092375</td><td>0.8911098</td><td>-1.155095</td><td>-</td></tr>\n",
       "\t<tr><th scope=row>6</th><td>-0.5083253</td><td> -2.218441</td><td>239935 </td><td>292800 </td><td>-0.6645894</td><td>0.9070870</td><td>-1.255181</td><td>-</td></tr>\n",
       "</tbody>\n",
       "</table>\n"
      ],
      "text/latex": [
       "A data.frame: 6 x 8\n",
       "\\begin{tabular}{r|llllllll}\n",
       "  & X2 & Y2 & OTU\\_2 & OTU\\_1 & weight & X1 & Y1 & cor\\\\\n",
       "  & <dbl> & <dbl> & <chr> & <chr> & <dbl> & <dbl> & <dbl> & <chr>\\\\\n",
       "\\hline\n",
       "\t1 &  4.2934165 & -10.661189 & 2530390 & 2025876 & -0.6370968 & 1.1058958 & -7.278829 & -\\\\\n",
       "\t2 &  4.2934165 & -10.661189 & 2530390 & 1883414 & -0.6477273 & 4.1246213 & -4.311103 & -\\\\\n",
       "\t3 &  4.2934165 & -10.661189 & 2530390 & 1850093 & -0.7324047 & 0.7249273 & -8.996779 & -\\\\\n",
       "\t4 & -0.5083253 &  -2.218441 & 239935  & 1796620 & -0.6173021 & 0.4606354 & -1.008271 & -\\\\\n",
       "\t5 & -0.5083253 &  -2.218441 & 239935  & 2109688 & -0.6092375 & 0.8911098 & -1.155095 & -\\\\\n",
       "\t6 & -0.5083253 &  -2.218441 & 239935  & 292800  & -0.6645894 & 0.9070870 & -1.255181 & -\\\\\n",
       "\\end{tabular}\n"
      ],
      "text/markdown": [
       "\n",
       "A data.frame: 6 x 8\n",
       "\n",
       "| <!--/--> | X2 &lt;dbl&gt; | Y2 &lt;dbl&gt; | OTU_2 &lt;chr&gt; | OTU_1 &lt;chr&gt; | weight &lt;dbl&gt; | X1 &lt;dbl&gt; | Y1 &lt;dbl&gt; | cor &lt;chr&gt; |\n",
       "|---|---|---|---|---|---|---|---|---|\n",
       "| 1 |  4.2934165 | -10.661189 | 2530390 | 2025876 | -0.6370968 | 1.1058958 | -7.278829 | - |\n",
       "| 2 |  4.2934165 | -10.661189 | 2530390 | 1883414 | -0.6477273 | 4.1246213 | -4.311103 | - |\n",
       "| 3 |  4.2934165 | -10.661189 | 2530390 | 1850093 | -0.7324047 | 0.7249273 | -8.996779 | - |\n",
       "| 4 | -0.5083253 |  -2.218441 | 239935  | 1796620 | -0.6173021 | 0.4606354 | -1.008271 | - |\n",
       "| 5 | -0.5083253 |  -2.218441 | 239935  | 2109688 | -0.6092375 | 0.8911098 | -1.155095 | - |\n",
       "| 6 | -0.5083253 |  -2.218441 | 239935  | 292800  | -0.6645894 | 0.9070870 | -1.255181 | - |\n",
       "\n"
      ],
      "text/plain": [
       "  X2         Y2         OTU_2   OTU_1   weight     X1        Y1        cor\n",
       "1  4.2934165 -10.661189 2530390 2025876 -0.6370968 1.1058958 -7.278829 -  \n",
       "2  4.2934165 -10.661189 2530390 1883414 -0.6477273 4.1246213 -4.311103 -  \n",
       "3  4.2934165 -10.661189 2530390 1850093 -0.7324047 0.7249273 -8.996779 -  \n",
       "4 -0.5083253  -2.218441 239935  1796620 -0.6173021 0.4606354 -1.008271 -  \n",
       "5 -0.5083253  -2.218441 239935  2109688 -0.6092375 0.8911098 -1.155095 -  \n",
       "6 -0.5083253  -2.218441 239935  292800  -0.6645894 0.9070870 -1.255181 -  "
      ]
     },
     "metadata": {},
     "output_type": "display_data"
    }
   ],
   "source": [
    "dat = result2[[2]]\n",
    "head(dat)\n",
    "tem = data.frame(mod = dat$model,col = dat$color) %>%  \n",
    "  dplyr::distinct( mod, .keep_all = TRUE)  \n",
    "col = tem$col\n",
    "names(col) = tem$mod\n",
    " \n",
    "#---node节点注释#-----------\n",
    "otu_table = as.data.frame(t(vegan_otu(ps)))\n",
    "tax_table = as.data.frame(vegan_tax(ps))\n",
    "nodes = nodeadd(plotcord =node,otu_table = otu_table,tax_table = tax_table)\n",
    "head(nodes)\n",
    "#-----计算边#--------\n",
    "edge = edgeBuild(cor = cor,node = node)\n",
    "colnames(edge)[8] = \"cor\"\n",
    "head(edge)\n"
   ]
  },
  {
   "cell_type": "code",
   "execution_count": 117,
   "id": "a019502d-e1b8-41c4-8452-4a9b5ab9b911",
   "metadata": {},
   "outputs": [
    {
     "data": {
      "text/html": [
       "<table class=\"dataframe\">\n",
       "<caption>A data.frame: 6 x 10</caption>\n",
       "<thead>\n",
       "\t<tr><th></th><th scope=col>OTU_1</th><th scope=col>model1</th><th scope=col>color1</th><th scope=col>X2</th><th scope=col>Y2</th><th scope=col>OTU_2</th><th scope=col>weight</th><th scope=col>X1</th><th scope=col>Y1</th><th scope=col>cor</th></tr>\n",
       "\t<tr><th></th><th scope=col>&lt;chr&gt;</th><th scope=col>&lt;chr&gt;</th><th scope=col>&lt;chr&gt;</th><th scope=col>&lt;dbl&gt;</th><th scope=col>&lt;dbl&gt;</th><th scope=col>&lt;chr&gt;</th><th scope=col>&lt;dbl&gt;</th><th scope=col>&lt;dbl&gt;</th><th scope=col>&lt;dbl&gt;</th><th scope=col>&lt;chr&gt;</th></tr>\n",
       "</thead>\n",
       "<tbody>\n",
       "\t<tr><th scope=row>1</th><td>1796620</td><td>model_1</td><td>#FDBE6E</td><td>-0.5083253</td><td>-2.2184409</td><td>239935 </td><td>-0.6173021</td><td> 0.4606354</td><td>-1.0082714</td><td>-</td></tr>\n",
       "\t<tr><th scope=row>2</th><td>1834196</td><td>model_1</td><td>#FDBE6E</td><td> 0.4606354</td><td>-1.0082714</td><td>1796620</td><td> 0.8790323</td><td>-0.1359655</td><td>-0.7265634</td><td>+</td></tr>\n",
       "\t<tr><th scope=row>3</th><td>820    </td><td>model_3</td><td>#9E0142</td><td> 1.7131853</td><td>-7.2659015</td><td>1796613</td><td> 0.7569648</td><td> 2.6091104</td><td>-7.2143289</td><td>+</td></tr>\n",
       "\t<tr><th scope=row>4</th><td>2109688</td><td>model_1</td><td>#FDBE6E</td><td>-0.5083253</td><td>-2.2184409</td><td>239935 </td><td>-0.6092375</td><td> 0.8911098</td><td>-1.1550953</td><td>-</td></tr>\n",
       "\t<tr><th scope=row>5</th><td>2109688</td><td>model_1</td><td>#FDBE6E</td><td> 0.4606354</td><td>-1.0082714</td><td>1796620</td><td> 0.8900293</td><td> 0.8911098</td><td>-1.1550953</td><td>+</td></tr>\n",
       "\t<tr><th scope=row>6</th><td>2109688</td><td>model_1</td><td>#FDBE6E</td><td>-0.1359655</td><td>-0.7265634</td><td>1834196</td><td> 0.8892962</td><td> 0.8911098</td><td>-1.1550953</td><td>+</td></tr>\n",
       "</tbody>\n",
       "</table>\n"
      ],
      "text/latex": [
       "A data.frame: 6 x 10\n",
       "\\begin{tabular}{r|llllllllll}\n",
       "  & OTU\\_1 & model1 & color1 & X2 & Y2 & OTU\\_2 & weight & X1 & Y1 & cor\\\\\n",
       "  & <chr> & <chr> & <chr> & <dbl> & <dbl> & <chr> & <dbl> & <dbl> & <dbl> & <chr>\\\\\n",
       "\\hline\n",
       "\t1 & 1796620 & model\\_1 & \\#FDBE6E & -0.5083253 & -2.2184409 & 239935  & -0.6173021 &  0.4606354 & -1.0082714 & -\\\\\n",
       "\t2 & 1834196 & model\\_1 & \\#FDBE6E &  0.4606354 & -1.0082714 & 1796620 &  0.8790323 & -0.1359655 & -0.7265634 & +\\\\\n",
       "\t3 & 820     & model\\_3 & \\#9E0142 &  1.7131853 & -7.2659015 & 1796613 &  0.7569648 &  2.6091104 & -7.2143289 & +\\\\\n",
       "\t4 & 2109688 & model\\_1 & \\#FDBE6E & -0.5083253 & -2.2184409 & 239935  & -0.6092375 &  0.8911098 & -1.1550953 & -\\\\\n",
       "\t5 & 2109688 & model\\_1 & \\#FDBE6E &  0.4606354 & -1.0082714 & 1796620 &  0.8900293 &  0.8911098 & -1.1550953 & +\\\\\n",
       "\t6 & 2109688 & model\\_1 & \\#FDBE6E & -0.1359655 & -0.7265634 & 1834196 &  0.8892962 &  0.8911098 & -1.1550953 & +\\\\\n",
       "\\end{tabular}\n"
      ],
      "text/markdown": [
       "\n",
       "A data.frame: 6 x 10\n",
       "\n",
       "| <!--/--> | OTU_1 &lt;chr&gt; | model1 &lt;chr&gt; | color1 &lt;chr&gt; | X2 &lt;dbl&gt; | Y2 &lt;dbl&gt; | OTU_2 &lt;chr&gt; | weight &lt;dbl&gt; | X1 &lt;dbl&gt; | Y1 &lt;dbl&gt; | cor &lt;chr&gt; |\n",
       "|---|---|---|---|---|---|---|---|---|---|---|\n",
       "| 1 | 1796620 | model_1 | #FDBE6E | -0.5083253 | -2.2184409 | 239935  | -0.6173021 |  0.4606354 | -1.0082714 | - |\n",
       "| 2 | 1834196 | model_1 | #FDBE6E |  0.4606354 | -1.0082714 | 1796620 |  0.8790323 | -0.1359655 | -0.7265634 | + |\n",
       "| 3 | 820     | model_3 | #9E0142 |  1.7131853 | -7.2659015 | 1796613 |  0.7569648 |  2.6091104 | -7.2143289 | + |\n",
       "| 4 | 2109688 | model_1 | #FDBE6E | -0.5083253 | -2.2184409 | 239935  | -0.6092375 |  0.8911098 | -1.1550953 | - |\n",
       "| 5 | 2109688 | model_1 | #FDBE6E |  0.4606354 | -1.0082714 | 1796620 |  0.8900293 |  0.8911098 | -1.1550953 | + |\n",
       "| 6 | 2109688 | model_1 | #FDBE6E | -0.1359655 | -0.7265634 | 1834196 |  0.8892962 |  0.8911098 | -1.1550953 | + |\n",
       "\n"
      ],
      "text/plain": [
       "  OTU_1   model1  color1  X2         Y2         OTU_2   weight     X1        \n",
       "1 1796620 model_1 #FDBE6E -0.5083253 -2.2184409 239935  -0.6173021  0.4606354\n",
       "2 1834196 model_1 #FDBE6E  0.4606354 -1.0082714 1796620  0.8790323 -0.1359655\n",
       "3 820     model_3 #9E0142  1.7131853 -7.2659015 1796613  0.7569648  2.6091104\n",
       "4 2109688 model_1 #FDBE6E -0.5083253 -2.2184409 239935  -0.6092375  0.8911098\n",
       "5 2109688 model_1 #FDBE6E  0.4606354 -1.0082714 1796620  0.8900293  0.8911098\n",
       "6 2109688 model_1 #FDBE6E -0.1359655 -0.7265634 1834196  0.8892962  0.8911098\n",
       "  Y1         cor\n",
       "1 -1.0082714 -  \n",
       "2 -0.7265634 +  \n",
       "3 -7.2143289 +  \n",
       "4 -1.1550953 -  \n",
       "5 -1.1550953 +  \n",
       "6 -1.1550953 +  "
      ]
     },
     "metadata": {},
     "output_type": "display_data"
    }
   ],
   "source": [
    "tem2 = dat %>% \n",
    "  dplyr::select(OTU,model,color) %>%\n",
    "  dplyr::right_join(edge,by =c(\"OTU\" = \"OTU_1\" ) ) %>%\n",
    "  dplyr::rename(OTU_1 = OTU,model1 = model,color1 = color)\n",
    "head(tem2)\n"
   ]
  },
  {
   "cell_type": "code",
   "execution_count": 118,
   "id": "712aebcf-2731-4539-a39b-19a1ecd951bb",
   "metadata": {},
   "outputs": [
    {
     "data": {
      "text/html": [
       "<table class=\"dataframe\">\n",
       "<caption>A data.frame: 6 x 10</caption>\n",
       "<thead>\n",
       "\t<tr><th></th><th scope=col>OTU_2</th><th scope=col>model2</th><th scope=col>color2</th><th scope=col>X2</th><th scope=col>Y2</th><th scope=col>OTU_1</th><th scope=col>weight</th><th scope=col>X1</th><th scope=col>Y1</th><th scope=col>cor</th></tr>\n",
       "\t<tr><th></th><th scope=col>&lt;chr&gt;</th><th scope=col>&lt;chr&gt;</th><th scope=col>&lt;chr&gt;</th><th scope=col>&lt;dbl&gt;</th><th scope=col>&lt;dbl&gt;</th><th scope=col>&lt;chr&gt;</th><th scope=col>&lt;dbl&gt;</th><th scope=col>&lt;dbl&gt;</th><th scope=col>&lt;dbl&gt;</th><th scope=col>&lt;chr&gt;</th></tr>\n",
       "</thead>\n",
       "<tbody>\n",
       "\t<tr><th scope=row>1</th><td>2530390</td><td>model_3</td><td>#9E0142</td><td> 4.2934165</td><td>-10.661189</td><td>2025876</td><td>-0.6370968</td><td>1.1058958</td><td>-7.278829</td><td>-</td></tr>\n",
       "\t<tr><th scope=row>2</th><td>2530390</td><td>model_3</td><td>#9E0142</td><td> 4.2934165</td><td>-10.661189</td><td>1883414</td><td>-0.6477273</td><td>4.1246213</td><td>-4.311103</td><td>-</td></tr>\n",
       "\t<tr><th scope=row>3</th><td>2530390</td><td>model_3</td><td>#9E0142</td><td> 4.2934165</td><td>-10.661189</td><td>1850093</td><td>-0.7324047</td><td>0.7249273</td><td>-8.996779</td><td>-</td></tr>\n",
       "\t<tr><th scope=row>4</th><td>239935 </td><td>model_1</td><td>#FDBE6E</td><td>-0.5083253</td><td> -2.218441</td><td>1796620</td><td>-0.6173021</td><td>0.4606354</td><td>-1.008271</td><td>-</td></tr>\n",
       "\t<tr><th scope=row>5</th><td>239935 </td><td>model_1</td><td>#FDBE6E</td><td>-0.5083253</td><td> -2.218441</td><td>2109688</td><td>-0.6092375</td><td>0.8911098</td><td>-1.155095</td><td>-</td></tr>\n",
       "\t<tr><th scope=row>6</th><td>239935 </td><td>model_1</td><td>#FDBE6E</td><td>-0.5083253</td><td> -2.218441</td><td>292800 </td><td>-0.6645894</td><td>0.9070870</td><td>-1.255181</td><td>-</td></tr>\n",
       "</tbody>\n",
       "</table>\n"
      ],
      "text/latex": [
       "A data.frame: 6 x 10\n",
       "\\begin{tabular}{r|llllllllll}\n",
       "  & OTU\\_2 & model2 & color2 & X2 & Y2 & OTU\\_1 & weight & X1 & Y1 & cor\\\\\n",
       "  & <chr> & <chr> & <chr> & <dbl> & <dbl> & <chr> & <dbl> & <dbl> & <dbl> & <chr>\\\\\n",
       "\\hline\n",
       "\t1 & 2530390 & model\\_3 & \\#9E0142 &  4.2934165 & -10.661189 & 2025876 & -0.6370968 & 1.1058958 & -7.278829 & -\\\\\n",
       "\t2 & 2530390 & model\\_3 & \\#9E0142 &  4.2934165 & -10.661189 & 1883414 & -0.6477273 & 4.1246213 & -4.311103 & -\\\\\n",
       "\t3 & 2530390 & model\\_3 & \\#9E0142 &  4.2934165 & -10.661189 & 1850093 & -0.7324047 & 0.7249273 & -8.996779 & -\\\\\n",
       "\t4 & 239935  & model\\_1 & \\#FDBE6E & -0.5083253 &  -2.218441 & 1796620 & -0.6173021 & 0.4606354 & -1.008271 & -\\\\\n",
       "\t5 & 239935  & model\\_1 & \\#FDBE6E & -0.5083253 &  -2.218441 & 2109688 & -0.6092375 & 0.8911098 & -1.155095 & -\\\\\n",
       "\t6 & 239935  & model\\_1 & \\#FDBE6E & -0.5083253 &  -2.218441 & 292800  & -0.6645894 & 0.9070870 & -1.255181 & -\\\\\n",
       "\\end{tabular}\n"
      ],
      "text/markdown": [
       "\n",
       "A data.frame: 6 x 10\n",
       "\n",
       "| <!--/--> | OTU_2 &lt;chr&gt; | model2 &lt;chr&gt; | color2 &lt;chr&gt; | X2 &lt;dbl&gt; | Y2 &lt;dbl&gt; | OTU_1 &lt;chr&gt; | weight &lt;dbl&gt; | X1 &lt;dbl&gt; | Y1 &lt;dbl&gt; | cor &lt;chr&gt; |\n",
       "|---|---|---|---|---|---|---|---|---|---|---|\n",
       "| 1 | 2530390 | model_3 | #9E0142 |  4.2934165 | -10.661189 | 2025876 | -0.6370968 | 1.1058958 | -7.278829 | - |\n",
       "| 2 | 2530390 | model_3 | #9E0142 |  4.2934165 | -10.661189 | 1883414 | -0.6477273 | 4.1246213 | -4.311103 | - |\n",
       "| 3 | 2530390 | model_3 | #9E0142 |  4.2934165 | -10.661189 | 1850093 | -0.7324047 | 0.7249273 | -8.996779 | - |\n",
       "| 4 | 239935  | model_1 | #FDBE6E | -0.5083253 |  -2.218441 | 1796620 | -0.6173021 | 0.4606354 | -1.008271 | - |\n",
       "| 5 | 239935  | model_1 | #FDBE6E | -0.5083253 |  -2.218441 | 2109688 | -0.6092375 | 0.8911098 | -1.155095 | - |\n",
       "| 6 | 239935  | model_1 | #FDBE6E | -0.5083253 |  -2.218441 | 292800  | -0.6645894 | 0.9070870 | -1.255181 | - |\n",
       "\n"
      ],
      "text/plain": [
       "  OTU_2   model2  color2  X2         Y2         OTU_1   weight     X1       \n",
       "1 2530390 model_3 #9E0142  4.2934165 -10.661189 2025876 -0.6370968 1.1058958\n",
       "2 2530390 model_3 #9E0142  4.2934165 -10.661189 1883414 -0.6477273 4.1246213\n",
       "3 2530390 model_3 #9E0142  4.2934165 -10.661189 1850093 -0.7324047 0.7249273\n",
       "4 239935  model_1 #FDBE6E -0.5083253  -2.218441 1796620 -0.6173021 0.4606354\n",
       "5 239935  model_1 #FDBE6E -0.5083253  -2.218441 2109688 -0.6092375 0.8911098\n",
       "6 239935  model_1 #FDBE6E -0.5083253  -2.218441 292800  -0.6645894 0.9070870\n",
       "  Y1        cor\n",
       "1 -7.278829 -  \n",
       "2 -4.311103 -  \n",
       "3 -8.996779 -  \n",
       "4 -1.008271 -  \n",
       "5 -1.155095 -  \n",
       "6 -1.255181 -  "
      ]
     },
     "metadata": {},
     "output_type": "display_data"
    },
    {
     "name": "stderr",
     "output_type": "stream",
     "text": [
      "\u001b[1m\u001b[22mJoining with `by = join_by(OTU_1, X2, Y2, OTU_2, weight, X1, Y1, cor)`\n"
     ]
    },
    {
     "data": {
      "text/html": [
       "<table class=\"dataframe\">\n",
       "<caption>A data.frame: 6 x 12</caption>\n",
       "<thead>\n",
       "\t<tr><th></th><th scope=col>OTU_1</th><th scope=col>model1</th><th scope=col>color1</th><th scope=col>X2</th><th scope=col>Y2</th><th scope=col>OTU_2</th><th scope=col>weight</th><th scope=col>X1</th><th scope=col>Y1</th><th scope=col>cor</th><th scope=col>model2</th><th scope=col>color2</th></tr>\n",
       "\t<tr><th></th><th scope=col>&lt;chr&gt;</th><th scope=col>&lt;chr&gt;</th><th scope=col>&lt;chr&gt;</th><th scope=col>&lt;dbl&gt;</th><th scope=col>&lt;dbl&gt;</th><th scope=col>&lt;chr&gt;</th><th scope=col>&lt;dbl&gt;</th><th scope=col>&lt;dbl&gt;</th><th scope=col>&lt;dbl&gt;</th><th scope=col>&lt;chr&gt;</th><th scope=col>&lt;chr&gt;</th><th scope=col>&lt;chr&gt;</th></tr>\n",
       "</thead>\n",
       "<tbody>\n",
       "\t<tr><th scope=row>1</th><td>1796620</td><td>model_1</td><td>#FDBE6E</td><td>-0.5083253</td><td>-2.2184409</td><td>239935 </td><td>-0.6173021</td><td> 0.4606354</td><td>-1.0082714</td><td>-</td><td>model_1</td><td>#FDBE6E</td></tr>\n",
       "\t<tr><th scope=row>2</th><td>1834196</td><td>model_1</td><td>#FDBE6E</td><td> 0.4606354</td><td>-1.0082714</td><td>1796620</td><td> 0.8790323</td><td>-0.1359655</td><td>-0.7265634</td><td>+</td><td>model_1</td><td>#FDBE6E</td></tr>\n",
       "\t<tr><th scope=row>3</th><td>820    </td><td>model_3</td><td>#9E0142</td><td> 1.7131853</td><td>-7.2659015</td><td>1796613</td><td> 0.7569648</td><td> 2.6091104</td><td>-7.2143289</td><td>+</td><td>model_3</td><td>#9E0142</td></tr>\n",
       "\t<tr><th scope=row>4</th><td>2109688</td><td>model_1</td><td>#FDBE6E</td><td>-0.5083253</td><td>-2.2184409</td><td>239935 </td><td>-0.6092375</td><td> 0.8911098</td><td>-1.1550953</td><td>-</td><td>model_1</td><td>#FDBE6E</td></tr>\n",
       "\t<tr><th scope=row>5</th><td>2109688</td><td>model_1</td><td>#FDBE6E</td><td> 0.4606354</td><td>-1.0082714</td><td>1796620</td><td> 0.8900293</td><td> 0.8911098</td><td>-1.1550953</td><td>+</td><td>model_1</td><td>#FDBE6E</td></tr>\n",
       "\t<tr><th scope=row>6</th><td>2109688</td><td>model_1</td><td>#FDBE6E</td><td>-0.1359655</td><td>-0.7265634</td><td>1834196</td><td> 0.8892962</td><td> 0.8911098</td><td>-1.1550953</td><td>+</td><td>model_1</td><td>#FDBE6E</td></tr>\n",
       "</tbody>\n",
       "</table>\n"
      ],
      "text/latex": [
       "A data.frame: 6 x 12\n",
       "\\begin{tabular}{r|llllllllllll}\n",
       "  & OTU\\_1 & model1 & color1 & X2 & Y2 & OTU\\_2 & weight & X1 & Y1 & cor & model2 & color2\\\\\n",
       "  & <chr> & <chr> & <chr> & <dbl> & <dbl> & <chr> & <dbl> & <dbl> & <dbl> & <chr> & <chr> & <chr>\\\\\n",
       "\\hline\n",
       "\t1 & 1796620 & model\\_1 & \\#FDBE6E & -0.5083253 & -2.2184409 & 239935  & -0.6173021 &  0.4606354 & -1.0082714 & - & model\\_1 & \\#FDBE6E\\\\\n",
       "\t2 & 1834196 & model\\_1 & \\#FDBE6E &  0.4606354 & -1.0082714 & 1796620 &  0.8790323 & -0.1359655 & -0.7265634 & + & model\\_1 & \\#FDBE6E\\\\\n",
       "\t3 & 820     & model\\_3 & \\#9E0142 &  1.7131853 & -7.2659015 & 1796613 &  0.7569648 &  2.6091104 & -7.2143289 & + & model\\_3 & \\#9E0142\\\\\n",
       "\t4 & 2109688 & model\\_1 & \\#FDBE6E & -0.5083253 & -2.2184409 & 239935  & -0.6092375 &  0.8911098 & -1.1550953 & - & model\\_1 & \\#FDBE6E\\\\\n",
       "\t5 & 2109688 & model\\_1 & \\#FDBE6E &  0.4606354 & -1.0082714 & 1796620 &  0.8900293 &  0.8911098 & -1.1550953 & + & model\\_1 & \\#FDBE6E\\\\\n",
       "\t6 & 2109688 & model\\_1 & \\#FDBE6E & -0.1359655 & -0.7265634 & 1834196 &  0.8892962 &  0.8911098 & -1.1550953 & + & model\\_1 & \\#FDBE6E\\\\\n",
       "\\end{tabular}\n"
      ],
      "text/markdown": [
       "\n",
       "A data.frame: 6 x 12\n",
       "\n",
       "| <!--/--> | OTU_1 &lt;chr&gt; | model1 &lt;chr&gt; | color1 &lt;chr&gt; | X2 &lt;dbl&gt; | Y2 &lt;dbl&gt; | OTU_2 &lt;chr&gt; | weight &lt;dbl&gt; | X1 &lt;dbl&gt; | Y1 &lt;dbl&gt; | cor &lt;chr&gt; | model2 &lt;chr&gt; | color2 &lt;chr&gt; |\n",
       "|---|---|---|---|---|---|---|---|---|---|---|---|---|\n",
       "| 1 | 1796620 | model_1 | #FDBE6E | -0.5083253 | -2.2184409 | 239935  | -0.6173021 |  0.4606354 | -1.0082714 | - | model_1 | #FDBE6E |\n",
       "| 2 | 1834196 | model_1 | #FDBE6E |  0.4606354 | -1.0082714 | 1796620 |  0.8790323 | -0.1359655 | -0.7265634 | + | model_1 | #FDBE6E |\n",
       "| 3 | 820     | model_3 | #9E0142 |  1.7131853 | -7.2659015 | 1796613 |  0.7569648 |  2.6091104 | -7.2143289 | + | model_3 | #9E0142 |\n",
       "| 4 | 2109688 | model_1 | #FDBE6E | -0.5083253 | -2.2184409 | 239935  | -0.6092375 |  0.8911098 | -1.1550953 | - | model_1 | #FDBE6E |\n",
       "| 5 | 2109688 | model_1 | #FDBE6E |  0.4606354 | -1.0082714 | 1796620 |  0.8900293 |  0.8911098 | -1.1550953 | + | model_1 | #FDBE6E |\n",
       "| 6 | 2109688 | model_1 | #FDBE6E | -0.1359655 | -0.7265634 | 1834196 |  0.8892962 |  0.8911098 | -1.1550953 | + | model_1 | #FDBE6E |\n",
       "\n"
      ],
      "text/plain": [
       "  OTU_1   model1  color1  X2         Y2         OTU_2   weight     X1        \n",
       "1 1796620 model_1 #FDBE6E -0.5083253 -2.2184409 239935  -0.6173021  0.4606354\n",
       "2 1834196 model_1 #FDBE6E  0.4606354 -1.0082714 1796620  0.8790323 -0.1359655\n",
       "3 820     model_3 #9E0142  1.7131853 -7.2659015 1796613  0.7569648  2.6091104\n",
       "4 2109688 model_1 #FDBE6E -0.5083253 -2.2184409 239935  -0.6092375  0.8911098\n",
       "5 2109688 model_1 #FDBE6E  0.4606354 -1.0082714 1796620  0.8900293  0.8911098\n",
       "6 2109688 model_1 #FDBE6E -0.1359655 -0.7265634 1834196  0.8892962  0.8911098\n",
       "  Y1         cor model2  color2 \n",
       "1 -1.0082714 -   model_1 #FDBE6E\n",
       "2 -0.7265634 +   model_1 #FDBE6E\n",
       "3 -7.2143289 +   model_3 #9E0142\n",
       "4 -1.1550953 -   model_1 #FDBE6E\n",
       "5 -1.1550953 +   model_1 #FDBE6E\n",
       "6 -1.1550953 +   model_1 #FDBE6E"
      ]
     },
     "metadata": {},
     "output_type": "display_data"
    }
   ],
   "source": [
    "\n",
    "\n",
    " \n",
    "tem3 = dat %>% \n",
    "  dplyr::select(OTU,model,color) %>%\n",
    "  dplyr::right_join(edge,by =c(\"OTU\" = \"OTU_2\" ) ) %>%\n",
    "  dplyr::rename(OTU_2 = OTU,model2 = model,color2 = color)\n",
    "head(tem3)\n",
    " \n",
    "tem4 = tem2 %>%inner_join(tem3)\n",
    "head(tem4)"
   ]
  },
  {
   "cell_type": "code",
   "execution_count": 120,
   "id": "2a7e921a-36d9-405e-8bc7-b2af3ca47618",
   "metadata": {},
   "outputs": [
    {
     "data": {
      "text/html": [
       "<table class=\"dataframe\">\n",
       "<caption>A data.frame: 6 x 14</caption>\n",
       "<thead>\n",
       "\t<tr><th></th><th scope=col>OTU_1</th><th scope=col>model1</th><th scope=col>color1</th><th scope=col>X2</th><th scope=col>Y2</th><th scope=col>OTU_2</th><th scope=col>weight</th><th scope=col>X1</th><th scope=col>Y1</th><th scope=col>cor</th><th scope=col>model2</th><th scope=col>color2</th><th scope=col>color</th><th scope=col>manual</th></tr>\n",
       "\t<tr><th></th><th scope=col>&lt;chr&gt;</th><th scope=col>&lt;chr&gt;</th><th scope=col>&lt;chr&gt;</th><th scope=col>&lt;dbl&gt;</th><th scope=col>&lt;dbl&gt;</th><th scope=col>&lt;chr&gt;</th><th scope=col>&lt;dbl&gt;</th><th scope=col>&lt;dbl&gt;</th><th scope=col>&lt;dbl&gt;</th><th scope=col>&lt;chr&gt;</th><th scope=col>&lt;chr&gt;</th><th scope=col>&lt;chr&gt;</th><th scope=col>&lt;chr&gt;</th><th scope=col>&lt;chr&gt;</th></tr>\n",
       "</thead>\n",
       "<tbody>\n",
       "\t<tr><th scope=row>1</th><td>1796620</td><td>model_1</td><td>#FDBE6E</td><td>-0.5083253</td><td>-2.2184409</td><td>239935 </td><td>-0.6173021</td><td> 0.4606354</td><td>-1.0082714</td><td>-</td><td>model_1</td><td>#FDBE6E</td><td>model_1</td><td>#FDBE6E</td></tr>\n",
       "\t<tr><th scope=row>2</th><td>1834196</td><td>model_1</td><td>#FDBE6E</td><td> 0.4606354</td><td>-1.0082714</td><td>1796620</td><td> 0.8790323</td><td>-0.1359655</td><td>-0.7265634</td><td>+</td><td>model_1</td><td>#FDBE6E</td><td>model_1</td><td>#FDBE6E</td></tr>\n",
       "\t<tr><th scope=row>3</th><td>820    </td><td>model_3</td><td>#9E0142</td><td> 1.7131853</td><td>-7.2659015</td><td>1796613</td><td> 0.7569648</td><td> 2.6091104</td><td>-7.2143289</td><td>+</td><td>model_3</td><td>#9E0142</td><td>model_3</td><td>#9E0142</td></tr>\n",
       "\t<tr><th scope=row>4</th><td>2109688</td><td>model_1</td><td>#FDBE6E</td><td>-0.5083253</td><td>-2.2184409</td><td>239935 </td><td>-0.6092375</td><td> 0.8911098</td><td>-1.1550953</td><td>-</td><td>model_1</td><td>#FDBE6E</td><td>model_1</td><td>#FDBE6E</td></tr>\n",
       "\t<tr><th scope=row>5</th><td>2109688</td><td>model_1</td><td>#FDBE6E</td><td> 0.4606354</td><td>-1.0082714</td><td>1796620</td><td> 0.8900293</td><td> 0.8911098</td><td>-1.1550953</td><td>+</td><td>model_1</td><td>#FDBE6E</td><td>model_1</td><td>#FDBE6E</td></tr>\n",
       "\t<tr><th scope=row>6</th><td>2109688</td><td>model_1</td><td>#FDBE6E</td><td>-0.1359655</td><td>-0.7265634</td><td>1834196</td><td> 0.8892962</td><td> 0.8911098</td><td>-1.1550953</td><td>+</td><td>model_1</td><td>#FDBE6E</td><td>model_1</td><td>#FDBE6E</td></tr>\n",
       "</tbody>\n",
       "</table>\n"
      ],
      "text/latex": [
       "A data.frame: 6 x 14\n",
       "\\begin{tabular}{r|llllllllllllll}\n",
       "  & OTU\\_1 & model1 & color1 & X2 & Y2 & OTU\\_2 & weight & X1 & Y1 & cor & model2 & color2 & color & manual\\\\\n",
       "  & <chr> & <chr> & <chr> & <dbl> & <dbl> & <chr> & <dbl> & <dbl> & <dbl> & <chr> & <chr> & <chr> & <chr> & <chr>\\\\\n",
       "\\hline\n",
       "\t1 & 1796620 & model\\_1 & \\#FDBE6E & -0.5083253 & -2.2184409 & 239935  & -0.6173021 &  0.4606354 & -1.0082714 & - & model\\_1 & \\#FDBE6E & model\\_1 & \\#FDBE6E\\\\\n",
       "\t2 & 1834196 & model\\_1 & \\#FDBE6E &  0.4606354 & -1.0082714 & 1796620 &  0.8790323 & -0.1359655 & -0.7265634 & + & model\\_1 & \\#FDBE6E & model\\_1 & \\#FDBE6E\\\\\n",
       "\t3 & 820     & model\\_3 & \\#9E0142 &  1.7131853 & -7.2659015 & 1796613 &  0.7569648 &  2.6091104 & -7.2143289 & + & model\\_3 & \\#9E0142 & model\\_3 & \\#9E0142\\\\\n",
       "\t4 & 2109688 & model\\_1 & \\#FDBE6E & -0.5083253 & -2.2184409 & 239935  & -0.6092375 &  0.8911098 & -1.1550953 & - & model\\_1 & \\#FDBE6E & model\\_1 & \\#FDBE6E\\\\\n",
       "\t5 & 2109688 & model\\_1 & \\#FDBE6E &  0.4606354 & -1.0082714 & 1796620 &  0.8900293 &  0.8911098 & -1.1550953 & + & model\\_1 & \\#FDBE6E & model\\_1 & \\#FDBE6E\\\\\n",
       "\t6 & 2109688 & model\\_1 & \\#FDBE6E & -0.1359655 & -0.7265634 & 1834196 &  0.8892962 &  0.8911098 & -1.1550953 & + & model\\_1 & \\#FDBE6E & model\\_1 & \\#FDBE6E\\\\\n",
       "\\end{tabular}\n"
      ],
      "text/markdown": [
       "\n",
       "A data.frame: 6 x 14\n",
       "\n",
       "| <!--/--> | OTU_1 &lt;chr&gt; | model1 &lt;chr&gt; | color1 &lt;chr&gt; | X2 &lt;dbl&gt; | Y2 &lt;dbl&gt; | OTU_2 &lt;chr&gt; | weight &lt;dbl&gt; | X1 &lt;dbl&gt; | Y1 &lt;dbl&gt; | cor &lt;chr&gt; | model2 &lt;chr&gt; | color2 &lt;chr&gt; | color &lt;chr&gt; | manual &lt;chr&gt; |\n",
       "|---|---|---|---|---|---|---|---|---|---|---|---|---|---|---|\n",
       "| 1 | 1796620 | model_1 | #FDBE6E | -0.5083253 | -2.2184409 | 239935  | -0.6173021 |  0.4606354 | -1.0082714 | - | model_1 | #FDBE6E | model_1 | #FDBE6E |\n",
       "| 2 | 1834196 | model_1 | #FDBE6E |  0.4606354 | -1.0082714 | 1796620 |  0.8790323 | -0.1359655 | -0.7265634 | + | model_1 | #FDBE6E | model_1 | #FDBE6E |\n",
       "| 3 | 820     | model_3 | #9E0142 |  1.7131853 | -7.2659015 | 1796613 |  0.7569648 |  2.6091104 | -7.2143289 | + | model_3 | #9E0142 | model_3 | #9E0142 |\n",
       "| 4 | 2109688 | model_1 | #FDBE6E | -0.5083253 | -2.2184409 | 239935  | -0.6092375 |  0.8911098 | -1.1550953 | - | model_1 | #FDBE6E | model_1 | #FDBE6E |\n",
       "| 5 | 2109688 | model_1 | #FDBE6E |  0.4606354 | -1.0082714 | 1796620 |  0.8900293 |  0.8911098 | -1.1550953 | + | model_1 | #FDBE6E | model_1 | #FDBE6E |\n",
       "| 6 | 2109688 | model_1 | #FDBE6E | -0.1359655 | -0.7265634 | 1834196 |  0.8892962 |  0.8911098 | -1.1550953 | + | model_1 | #FDBE6E | model_1 | #FDBE6E |\n",
       "\n"
      ],
      "text/plain": [
       "  OTU_1   model1  color1  X2         Y2         OTU_2   weight     X1        \n",
       "1 1796620 model_1 #FDBE6E -0.5083253 -2.2184409 239935  -0.6173021  0.4606354\n",
       "2 1834196 model_1 #FDBE6E  0.4606354 -1.0082714 1796620  0.8790323 -0.1359655\n",
       "3 820     model_3 #9E0142  1.7131853 -7.2659015 1796613  0.7569648  2.6091104\n",
       "4 2109688 model_1 #FDBE6E -0.5083253 -2.2184409 239935  -0.6092375  0.8911098\n",
       "5 2109688 model_1 #FDBE6E  0.4606354 -1.0082714 1796620  0.8900293  0.8911098\n",
       "6 2109688 model_1 #FDBE6E -0.1359655 -0.7265634 1834196  0.8892962  0.8911098\n",
       "  Y1         cor model2  color2  color   manual \n",
       "1 -1.0082714 -   model_1 #FDBE6E model_1 #FDBE6E\n",
       "2 -0.7265634 +   model_1 #FDBE6E model_1 #FDBE6E\n",
       "3 -7.2143289 +   model_3 #9E0142 model_3 #9E0142\n",
       "4 -1.1550953 -   model_1 #FDBE6E model_1 #FDBE6E\n",
       "5 -1.1550953 +   model_1 #FDBE6E model_1 #FDBE6E\n",
       "6 -1.1550953 +   model_1 #FDBE6E model_1 #FDBE6E"
      ]
     },
     "metadata": {},
     "output_type": "display_data"
    },
    {
     "data": {
      "image/png": "[encoded data removed]",
      "text/plain": [
       "plot without title"
      ]
     },
     "metadata": {
      "image/png": {
       "height": 420,
       "width": 420
      }
     },
     "output_type": "display_data"
    }
   ],
   "source": [
    "\n",
    "\n",
    " \n",
    "edge2 = tem4 %>% mutate(color = ifelse(model1 == model2,as.character(model1),\"across\"),\n",
    "                        manual = ifelse(model1 == model2,as.character(color1),\"#C1C1C1\")\n",
    "                        )\n",
    "head(edge2)\n",
    "col_edge = edge2 %>% dplyr::distinct(color, .keep_all = TRUE)  %>% \n",
    "  select(color,manual)\n",
    "col0 = col_edge$manual\n",
    "names(col0) = col_edge$color\n",
    " \n",
    "library(ggnewscale)\n",
    " \n",
    "p1 <- ggplot() + geom_segment(aes(x = X1, y = Y1, xend = X2, yend = Y2,color = color),\n",
    "                              data = edge2, size = 0.1) +\n",
    "  scale_colour_manual(values = col0) \n",
    " \n",
    "# ggsave(\"./cs1.pdf\",p1,width = 16,height = 14)\n",
    "p2 = p1 +\n",
    "   new_scale_color() +\n",
    "  geom_point(aes(X1, X2,color =model), data = dat,size = 5) +\n",
    "  scale_colour_manual(values = col) +\n",
    "  scale_x_continuous(breaks = NULL) + scale_y_continuous(breaks = NULL) +\n",
    "  theme(panel.background = element_blank()) +\n",
    "  theme(axis.title.x = element_blank(), axis.title.y = element_blank()) +\n",
    "  theme(legend.background = element_rect(colour = NA)) +\n",
    "  theme(panel.background = element_rect(fill = \"white\",  colour = NA)) +\n",
    "  theme(panel.grid.minor = element_blank(), panel.grid.major = element_blank())\n",
    "p2\n",
    "ggsave(\"./cs2.pdf\",p2,width = 16,height = 14)"
   ]
  },
  {
   "cell_type": "code",
   "execution_count": null,
   "id": "f62952d6-f170-430a-aed1-c7a921a7850e",
   "metadata": {},
   "outputs": [],
   "source": []
  },
  {
   "cell_type": "code",
   "execution_count": null,
   "id": "00680905-e090-478a-905a-78e1e03f506d",
   "metadata": {},
   "outputs": [],
   "source": []
  }
 ],
 "metadata": {
  "kernelspec": {
   "display_name": "R",
   "language": "R",
   "name": "ir"
  },
  "language_info": {
   "codemirror_mode": "r",
   "file_extension": ".r",
   "mimetype": "text/x-r-source",
   "name": "R",
   "pygments_lexer": "r",
   "version": "4.2.1"
  }
 },
 "nbformat": 4,
 "nbformat_minor": 5
}
