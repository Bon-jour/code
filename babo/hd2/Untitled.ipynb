{
 "cells": [
  {
   "cell_type": "code",
   "execution_count": 1,
   "id": "cd8db351-82f4-4eda-bfdc-8615dab13b7a",
   "metadata": {},
   "outputs": [],
   "source": [
    "import bs4\n",
    "import requests\n",
    "import json\n",
    "import urllib.request\n",
    "\n",
    "species = \"hsa\" #mouse:mmu, human:hsa\n",
    "r = urllib.request.urlopen('https://www.genome.jp/kegg-bin/show_organism?menu_type=pathway_maps&org=hsa')\n",
    "items = bs4.BeautifulSoup(r,features=\"lxml\").find_all(\"b\")\n",
    "group=[x.findNext(\"ul\") for x in items]\n",
    "total_dict={}\n",
    "for m in group:\n",
    "  for i in m.findAll(\"ul\"):\n",
    "    group_key = i.previous_element.strip().strip()\n",
    "    total_dict[group_key] = []\n",
    "    for j in i.findAll(\"a\"):\n",
    "      pathway_id = j.previous_element.strip()\n",
    "      pathway_name = j.text\n",
    "      total_dict[group_key].append((pathway_id,pathway_name))\n",
    "\n",
    "def get_genes(species,keggid):\n",
    "    url = \"http://togows.dbcls.jp/entry/pathway/{}{}/genes.json\".format(species,keggid)\n",
    "    r = requests.get(url)\n",
    "    data = json.loads(r.text)\n",
    "    try:\n",
    "      gene_names = [i.split(\";\")[0] for i in data[0].values()]\n",
    "    except:\n",
    "      print(\"error when get genes from {}{}\".format(species,keggid))\n",
    "      return []\n",
    "    return gene_names\n",
    "\n",
    "with open(\"Total_kegg.gmt\",\"w\") as fout:\n",
    "  for k, v in total_dict.items():\n",
    "    for pid,pname in v:\n",
    "      pgenes = get_genes(species,pid)\n",
    "      fout.write(\"\\t\".join([pname,pid] + pgenes) + \"\\n\") "
   ]
  },
  {
   "cell_type": "code",
   "execution_count": null,
   "id": "ab8a40eb-db16-4387-b685-0914377cdbce",
   "metadata": {},
   "outputs": [],
   "source": []
  }
 ],
 "metadata": {
  "kernelspec": {
   "display_name": "Python 3 (ipykernel)",
   "language": "python",
   "name": "python3"
  },
  "language_info": {
   "codemirror_mode": {
    "name": "ipython",
    "version": 3
   },
   "file_extension": ".py",
   "mimetype": "text/x-python",
   "name": "python",
   "nbconvert_exporter": "python",
   "pygments_lexer": "ipython3",
   "version": "3.9.15"
  }
 },
 "nbformat": 4,
 "nbformat_minor": 5
}
