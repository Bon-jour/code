{
 "cells": [
  {
   "cell_type": "code",
   "execution_count": 1,
   "id": "1fa01151-57e5-42e5-8e9d-24fb8f189801",
   "metadata": {},
   "outputs": [
    {
     "name": "stderr",
     "output_type": "stream",
     "text": [
      "Warning message:\n",
      "\"package 'Seurat' was built under R version 4.2.3\"\n",
      "The legacy packages maptools, rgdal, and rgeos, underpinning the sp package,\n",
      "which was just loaded, will retire in October 2023.\n",
      "Please refer to R-spatial evolution reports for details, especially\n",
      "https://r-spatial.org/r/2023/05/15/evolution4.html.\n",
      "It may be desirable to make the sf package available;\n",
      "package maintainers should consider adding sf to Suggests:.\n",
      "The sp package is now running under evolution status 2\n",
      "     (status 2 uses the sf package in place of rgdal)\n",
      "\n",
      "Attaching SeuratObject\n",
      "\n"
     ]
    }
   ],
   "source": [
    "setwd('/import/hd//sc')\n",
    "library(Seurat)"
   ]
  },
  {
   "cell_type": "code",
   "execution_count": 2,
   "id": "944ba8ff-e118-4cb5-ae5c-dd46a8dc7d61",
   "metadata": {},
   "outputs": [],
   "source": [
    "sce = readRDS('./scRNA.rds')"
   ]
  },
  {
   "cell_type": "code",
   "execution_count": 3,
   "id": "d75bf34d-5756-4788-8da7-0ff14d530b73",
   "metadata": {},
   "outputs": [
    {
     "data": {
      "text/plain": [
       "\n",
       "     ADs     Endo      Fib Lymphoid    Mural  Myeloid \n",
       "    4025    12465    44889     5107     6472    15914 "
      ]
     },
     "metadata": {},
     "output_type": "display_data"
    }
   ],
   "source": [
    "table(sce$celltype)"
   ]
  },
  {
   "cell_type": "code",
   "execution_count": 4,
   "id": "436d4ef7-ae5a-4439-a3e0-1b0d3593f037",
   "metadata": {},
   "outputs": [
    {
     "data": {
      "text/plain": [
       "\n",
       "        OA_1         OA_2         OA_3    healthy_1    healthy_2    healthy_3 \n",
       "        9169        10914         8697        11700        11449        10005 \n",
       "     sn_OA_1      sn_OA_2 sn_healthy_1 \n",
       "       10034         7487         9417 "
      ]
     },
     "metadata": {},
     "output_type": "display_data"
    }
   ],
   "source": [
    "table(sce$orig.ident)"
   ]
  },
  {
   "cell_type": "code",
   "execution_count": 8,
   "id": "2c8b28cc-9d37-42cd-a550-44f683d79664",
   "metadata": {},
   "outputs": [
    {
     "name": "stderr",
     "output_type": "stream",
     "text": [
      "Warning message in asMethod(object):\n",
      "\"sparse->dense coercion: allocating vector of size 40.5 GiB\"\n"
     ]
    },
    {
     "data": {
      "text/html": [
       "<style>\n",
       ".list-inline {list-style: none; margin:0; padding: 0}\n",
       ".list-inline>li {display: inline-block}\n",
       ".list-inline>li:not(:last-child)::after {content: \"\\00b7\"; padding: 0 .5ex}\n",
       "</style>\n",
       "<ol class=list-inline><li>61134</li><li>88872</li></ol>\n"
      ],
      "text/latex": [
       "\\begin{enumerate*}\n",
       "\\item 61134\n",
       "\\item 88872\n",
       "\\end{enumerate*}\n"
      ],
      "text/markdown": [
       "1. 61134\n",
       "2. 88872\n",
       "\n",
       "\n"
      ],
      "text/plain": [
       "[1] 61134 88872"
      ]
     },
     "metadata": {},
     "output_type": "display_data"
    },
    {
     "data": {
      "text/plain": [
       "An object of class Seurat \n",
       "23545 features across 61934 samples within 1 assay \n",
       "Active assay: RNA (23545 features, 0 variable features)"
      ]
     },
     "metadata": {},
     "output_type": "display_data"
    }
   ],
   "source": [
    "dim(as.matrix(sce@assays$RNA@counts))\n",
    "Idents(sce) = 'orig.ident'\n",
    "immune.combined = subset(sce,idents = c( 'sn_OA_1',  'sn_OA_2' ,'sn_healthy_1' ),invert =TRUE)\n",
    "mca2=CreateSeuratObject(immune.combined@assays$RNA@data,assay = \"RNA\",min.cells = 10,meta.data = immune.combined@meta.data)\n",
    "immune.combined = mca2\n",
    "immune.combined"
   ]
  },
  {
   "cell_type": "code",
   "execution_count": null,
   "id": "41a3ec11-043f-4758-bb8b-357c538ff8ea",
   "metadata": {},
   "outputs": [],
   "source": []
  },
  {
   "cell_type": "code",
   "execution_count": null,
   "id": "d3c62625-6f44-45a0-9003-85028f80ce23",
   "metadata": {},
   "outputs": [],
   "source": []
  },
  {
   "cell_type": "code",
   "execution_count": 9,
   "id": "bf7152d7-15c9-44af-9c67-a83e7fe9864b",
   "metadata": {},
   "outputs": [],
   "source": [
    "sce = immune.combined"
   ]
  },
  {
   "cell_type": "code",
   "execution_count": 10,
   "id": "28e3606e-4042-45b7-be06-209f28575b30",
   "metadata": {},
   "outputs": [],
   "source": [
    "Idents(sce) = 'celltype'"
   ]
  },
  {
   "cell_type": "code",
   "execution_count": 11,
   "id": "66cb2fb9-080a-4a01-ba0f-0725dc249cd3",
   "metadata": {},
   "outputs": [],
   "source": [
    "sce1 = subset(sce,idents = c('Lymphoid','ADs','Endo'))"
   ]
  },
  {
   "cell_type": "code",
   "execution_count": 12,
   "id": "2c8c24d2-e15d-4d5c-adc6-b9253f3bdcaf",
   "metadata": {},
   "outputs": [],
   "source": [
    "meta1  = sce1@meta.data[,c(1,12)]"
   ]
  },
  {
   "cell_type": "code",
   "execution_count": 13,
   "id": "87ae8f54-09a4-41ee-9f0a-6b5095da04e0",
   "metadata": {},
   "outputs": [],
   "source": [
    "fib = readRDS('./scRNA.fibro.rds')"
   ]
  },
  {
   "cell_type": "code",
   "execution_count": 56,
   "id": "0ac4e07e-01fd-4d5a-9574-694ded806c4d",
   "metadata": {},
   "outputs": [
    {
     "data": {
      "text/plain": [
       "\n",
       " Fib0  Fib1  Fib2  Fib3 \n",
       "20992 12476 10875   546 "
      ]
     },
     "metadata": {},
     "output_type": "display_data"
    }
   ],
   "source": [
    "table(fib$celltype)"
   ]
  },
  {
   "cell_type": "code",
   "execution_count": 14,
   "id": "8f655fcb-3b23-4ceb-95cc-7e5d14426d92",
   "metadata": {},
   "outputs": [
    {
     "data": {
      "text/html": [
       "<style>\n",
       ".list-inline {list-style: none; margin:0; padding: 0}\n",
       ".list-inline>li {display: inline-block}\n",
       ".list-inline>li:not(:last-child)::after {content: \"\\00b7\"; padding: 0 .5ex}\n",
       "</style>\n",
       "<ol class=list-inline><li>'orig.ident'</li><li>'nCount_RNA'</li><li>'nFeature_RNA'</li><li>'percent.mt'</li><li>'RNA_snn_res.0.8'</li><li>'seurat_clusters'</li><li>'RNA_snn_res.0.2'</li><li>'group'</li><li>'RNA_snn_res.0.1'</li><li>'RNA_snn_res.0.05'</li><li>'RNA_snn_res.0.01'</li><li>'celltype'</li></ol>\n"
      ],
      "text/latex": [
       "\\begin{enumerate*}\n",
       "\\item 'orig.ident'\n",
       "\\item 'nCount\\_RNA'\n",
       "\\item 'nFeature\\_RNA'\n",
       "\\item 'percent.mt'\n",
       "\\item 'RNA\\_snn\\_res.0.8'\n",
       "\\item 'seurat\\_clusters'\n",
       "\\item 'RNA\\_snn\\_res.0.2'\n",
       "\\item 'group'\n",
       "\\item 'RNA\\_snn\\_res.0.1'\n",
       "\\item 'RNA\\_snn\\_res.0.05'\n",
       "\\item 'RNA\\_snn\\_res.0.01'\n",
       "\\item 'celltype'\n",
       "\\end{enumerate*}\n"
      ],
      "text/markdown": [
       "1. 'orig.ident'\n",
       "2. 'nCount_RNA'\n",
       "3. 'nFeature_RNA'\n",
       "4. 'percent.mt'\n",
       "5. 'RNA_snn_res.0.8'\n",
       "6. 'seurat_clusters'\n",
       "7. 'RNA_snn_res.0.2'\n",
       "8. 'group'\n",
       "9. 'RNA_snn_res.0.1'\n",
       "10. 'RNA_snn_res.0.05'\n",
       "11. 'RNA_snn_res.0.01'\n",
       "12. 'celltype'\n",
       "\n",
       "\n"
      ],
      "text/plain": [
       " [1] \"orig.ident\"       \"nCount_RNA\"       \"nFeature_RNA\"     \"percent.mt\"      \n",
       " [5] \"RNA_snn_res.0.8\"  \"seurat_clusters\"  \"RNA_snn_res.0.2\"  \"group\"           \n",
       " [9] \"RNA_snn_res.0.1\"  \"RNA_snn_res.0.05\" \"RNA_snn_res.0.01\" \"celltype\"        "
      ]
     },
     "metadata": {},
     "output_type": "display_data"
    }
   ],
   "source": [
    "colnames(fib@meta.data)"
   ]
  },
  {
   "cell_type": "code",
   "execution_count": 15,
   "id": "e2947061-8cf9-4b15-8f3a-031cffabea72",
   "metadata": {},
   "outputs": [],
   "source": [
    "fib.meta = fib@meta.data[,c(1,12)]"
   ]
  },
  {
   "cell_type": "code",
   "execution_count": 16,
   "id": "2333a216-5efc-4007-8968-26082ad6ee13",
   "metadata": {},
   "outputs": [],
   "source": [
    "mye = readRDS('./scRNA.macro.rds')"
   ]
  },
  {
   "cell_type": "code",
   "execution_count": 17,
   "id": "d94981eb-a105-4427-b350-426e7f70590b",
   "metadata": {},
   "outputs": [],
   "source": [
    "mye.meta = mye@meta.data[,c(1,12)]"
   ]
  },
  {
   "cell_type": "code",
   "execution_count": 18,
   "id": "b81a3edd-394d-49c5-9675-b892bd4b1b2f",
   "metadata": {},
   "outputs": [],
   "source": [
    "mural = readRDS('/import/a.IMCDataAnalysi2/annotation/scRNA.mural_reClust.seurat.rds')"
   ]
  },
  {
   "cell_type": "code",
   "execution_count": 19,
   "id": "c38ff96a-0283-4f30-ab54-860a6fd9d30a",
   "metadata": {},
   "outputs": [],
   "source": [
    "mural.meta = mural@meta.data[,c(1,13)]"
   ]
  },
  {
   "cell_type": "code",
   "execution_count": 20,
   "id": "a40a3d21-977f-4b4c-aa7d-b9e62352f1de",
   "metadata": {},
   "outputs": [],
   "source": [
    "colnames(mural.meta)[2] = 'celltype'"
   ]
  },
  {
   "cell_type": "code",
   "execution_count": 21,
   "id": "c6bf2ea9-829c-4b2c-9d74-557e97a5fbe8",
   "metadata": {},
   "outputs": [],
   "source": [
    "merged = rbind(fib.meta,mye.meta,mural.meta,meta1)"
   ]
  },
  {
   "cell_type": "code",
   "execution_count": 22,
   "id": "101e9129-24df-4e14-aa7a-024ccf0a62e0",
   "metadata": {},
   "outputs": [],
   "source": [
    "sce = AddMetaData(sce,metadata = merged)"
   ]
  },
  {
   "cell_type": "code",
   "execution_count": 23,
   "id": "20e6a90f-ffa0-4852-b03e-8e977e7da4df",
   "metadata": {},
   "outputs": [],
   "source": [
    "Idents(sce) = 'celltype'"
   ]
  },
  {
   "cell_type": "code",
   "execution_count": 27,
   "id": "7986106b-a622-4732-8c22-e834e1291024",
   "metadata": {},
   "outputs": [],
   "source": [
    "sce2 = subset(sce,idents = na.omit(unique(sce$celltype)))"
   ]
  },
  {
   "cell_type": "code",
   "execution_count": 33,
   "id": "9fd24afe-f0ed-4a5c-a0e2-cb68398066cd",
   "metadata": {},
   "outputs": [
    {
     "data": {
      "text/plain": [
       "An object of class Seurat \n",
       "23545 features across 61850 samples within 1 assay \n",
       "Active assay: RNA (23545 features, 0 variable features)"
      ]
     },
     "metadata": {},
     "output_type": "display_data"
    }
   ],
   "source": [
    "sce2"
   ]
  },
  {
   "cell_type": "code",
   "execution_count": 55,
   "id": "ed0fa61d-c2ed-4d80-b9dc-73325e96bfa2",
   "metadata": {},
   "outputs": [
    {
     "data": {
      "text/plain": [
       "\n",
       "          ADs           ECs          Endo          Fib0          Fib1 \n",
       "           39           642          8181         20971         12432 \n",
       "         Fib2 Inflamm.Macro      Lymphoid      Pericyte   Resid.Macro \n",
       "            2          1469          3964          2143          3012 \n",
       "          SMC    SPP1_macro        macro1        macro2        macro3 \n",
       "         3251           372           989           202           197 \n",
       "       macro4          mono \n",
       "           63          3921 "
      ]
     },
     "metadata": {},
     "output_type": "display_data"
    }
   ],
   "source": [
    "table(sce2$celltype)"
   ]
  },
  {
   "cell_type": "code",
   "execution_count": 57,
   "id": "258f7fcc-582e-4265-bc1e-716627304acb",
   "metadata": {},
   "outputs": [],
   "source": [
    "Idents(sce2) = 'celltype'"
   ]
  },
  {
   "cell_type": "code",
   "execution_count": null,
   "id": "cb015470-40aa-4f8d-990e-328a1cee9a38",
   "metadata": {},
   "outputs": [
    {
     "name": "stderr",
     "output_type": "stream",
     "text": [
      "Calculating cluster Fib0\n",
      "\n",
      "Calculating cluster Endo\n",
      "\n"
     ]
    }
   ],
   "source": [
    "Idents(sce2) = 'celltype'\n",
    "\n",
    "sce.markers <- FindAllMarkers(object = sce2, only.pos = TRUE, \n",
    "                              min.pct = 0.25, \n",
    "                              thresh.use = 0.25)\n",
    " \n",
    "\n",
    "library(dplyr) \n",
    "# 不同seurat版本的 avg_logFC 不一样 \n",
    "top5 <- sce.markers %>% group_by(cluster) %>% top_n(5, avg_log2FC)"
   ]
  },
  {
   "cell_type": "code",
   "execution_count": null,
   "id": "983d08ef-53db-400e-b9ef-ca2deb21070b",
   "metadata": {},
   "outputs": [],
   "source": [
    "library(tidyr)"
   ]
  },
  {
   "cell_type": "code",
   "execution_count": null,
   "id": "f083be89-5c16-45cf-80d3-68dfaf536f06",
   "metadata": {},
   "outputs": [],
   "source": [
    "library(reshape2)\n",
    "a = sce.markers %>% pivot_wider( names_from = cluster, values_from = gene)"
   ]
  },
  {
   "cell_type": "code",
   "execution_count": 50,
   "id": "653396c3-96d0-4e70-a987-e057ed49953c",
   "metadata": {},
   "outputs": [],
   "source": [
    "list1 <- as.list(a[,6:dim(a)[2]])"
   ]
  },
  {
   "cell_type": "code",
   "execution_count": null,
   "id": "717ecb8a-8733-48c8-93cb-34af895492f0",
   "metadata": {},
   "outputs": [],
   "source": []
  },
  {
   "cell_type": "code",
   "execution_count": 51,
   "id": "19b7f7e4-10ff-46c0-b935-86d74d099e2c",
   "metadata": {},
   "outputs": [],
   "source": [
    "\n",
    "my_list_no_na <- lapply(list1, unique)\n",
    "save(my_list_no_na,file = 'my_list_no_na2.rda')"
   ]
  },
  {
   "cell_type": "code",
   "execution_count": null,
   "id": "81549cd0-47a2-4ec5-a56a-36e093d25c67",
   "metadata": {},
   "outputs": [],
   "source": [
    "saveRDS(sce2,file = 'sce2.merged.rds')"
   ]
  },
  {
   "cell_type": "code",
   "execution_count": 42,
   "id": "6a4f4a9b-d51e-4727-ba22-7ddd71f5a240",
   "metadata": {},
   "outputs": [
    {
     "data": {
      "text/html": [
       "'/import/hd/sc'"
      ],
      "text/latex": [
       "'/import/hd/sc'"
      ],
      "text/markdown": [
       "'/import/hd/sc'"
      ],
      "text/plain": [
       "[1] \"/import/hd/sc\""
      ]
     },
     "metadata": {},
     "output_type": "display_data"
    }
   ],
   "source": [
    "getwd()"
   ]
  },
  {
   "cell_type": "code",
   "execution_count": 43,
   "id": "f6b83847-605f-4495-8d3f-ff9b35032739",
   "metadata": {},
   "outputs": [
    {
     "data": {
      "text/plain": [
       "\n",
       "          ADs           ECs          Endo          Fib0          Fib1 \n",
       "           39           642          8181         20971         12432 \n",
       "         Fib2 Inflamm.Macro      Lymphoid      Pericyte   Resid.Macro \n",
       "            2          1469          3964          2143          3012 \n",
       "          SMC    SPP1_macro        macro1        macro2        macro3 \n",
       "         3251           372           989           202           197 \n",
       "       macro4          mono \n",
       "           63          3921 "
      ]
     },
     "metadata": {},
     "output_type": "display_data"
    }
   ],
   "source": [
    "table(sce2$celltype)"
   ]
  },
  {
   "cell_type": "code",
   "execution_count": 52,
   "id": "b7a48d4e-5b62-4072-b39e-1b5952e517d9",
   "metadata": {},
   "outputs": [
    {
     "data": {
      "text/html": [
       "16"
      ],
      "text/latex": [
       "16"
      ],
      "text/markdown": [
       "16"
      ],
      "text/plain": [
       "[1] 16"
      ]
     },
     "metadata": {},
     "output_type": "display_data"
    }
   ],
   "source": [
    "length(my_list_no_na)"
   ]
  },
  {
   "cell_type": "code",
   "execution_count": 53,
   "id": "bf85ef37-f697-46db-b72b-53f77b7d29bc",
   "metadata": {},
   "outputs": [
    {
     "data": {
      "text/html": [
       "<style>\n",
       ".list-inline {list-style: none; margin:0; padding: 0}\n",
       ".list-inline>li {display: inline-block}\n",
       ".list-inline>li:not(:last-child)::after {content: \"\\00b7\"; padding: 0 .5ex}\n",
       "</style>\n",
       "<ol class=list-inline><li>'Fib0'</li><li>'Endo'</li><li>'Resid.Macro'</li><li>'Fib1'</li><li>'mono'</li><li>'Lymphoid'</li><li>'macro1'</li><li>'SPP1_macro'</li><li>'SMC'</li><li>'macro3'</li><li>'Inflamm.Macro'</li><li>'macro4'</li><li>'Pericyte'</li><li>'macro2'</li><li>'ECs'</li><li>'ADs'</li></ol>\n"
      ],
      "text/latex": [
       "\\begin{enumerate*}\n",
       "\\item 'Fib0'\n",
       "\\item 'Endo'\n",
       "\\item 'Resid.Macro'\n",
       "\\item 'Fib1'\n",
       "\\item 'mono'\n",
       "\\item 'Lymphoid'\n",
       "\\item 'macro1'\n",
       "\\item 'SPP1\\_macro'\n",
       "\\item 'SMC'\n",
       "\\item 'macro3'\n",
       "\\item 'Inflamm.Macro'\n",
       "\\item 'macro4'\n",
       "\\item 'Pericyte'\n",
       "\\item 'macro2'\n",
       "\\item 'ECs'\n",
       "\\item 'ADs'\n",
       "\\end{enumerate*}\n"
      ],
      "text/markdown": [
       "1. 'Fib0'\n",
       "2. 'Endo'\n",
       "3. 'Resid.Macro'\n",
       "4. 'Fib1'\n",
       "5. 'mono'\n",
       "6. 'Lymphoid'\n",
       "7. 'macro1'\n",
       "8. 'SPP1_macro'\n",
       "9. 'SMC'\n",
       "10. 'macro3'\n",
       "11. 'Inflamm.Macro'\n",
       "12. 'macro4'\n",
       "13. 'Pericyte'\n",
       "14. 'macro2'\n",
       "15. 'ECs'\n",
       "16. 'ADs'\n",
       "\n",
       "\n"
      ],
      "text/plain": [
       " [1] \"Fib0\"          \"Endo\"          \"Resid.Macro\"   \"Fib1\"         \n",
       " [5] \"mono\"          \"Lymphoid\"      \"macro1\"        \"SPP1_macro\"   \n",
       " [9] \"SMC\"           \"macro3\"        \"Inflamm.Macro\" \"macro4\"       \n",
       "[13] \"Pericyte\"      \"macro2\"        \"ECs\"           \"ADs\"          "
      ]
     },
     "metadata": {},
     "output_type": "display_data"
    }
   ],
   "source": [
    "names(my_list_no_na)"
   ]
  },
  {
   "cell_type": "code",
   "execution_count": null,
   "id": "6828cce4-b17f-4417-bc11-54c1dab891c1",
   "metadata": {},
   "outputs": [],
   "source": []
  }
 ],
 "metadata": {
  "kernelspec": {
   "display_name": "R",
   "language": "R",
   "name": "ir"
  },
  "language_info": {
   "codemirror_mode": "r",
   "file_extension": ".r",
   "mimetype": "text/x-r-source",
   "name": "R",
   "pygments_lexer": "r",
   "version": "4.2.1"
  }
 },
 "nbformat": 4,
 "nbformat_minor": 5
}
