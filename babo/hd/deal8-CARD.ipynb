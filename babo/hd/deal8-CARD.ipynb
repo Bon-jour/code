{
 "cells": [
  {
   "cell_type": "code",
   "execution_count": 3,
   "id": "b1c6461d-410b-421d-905a-18d98aebca2d",
   "metadata": {},
   "outputs": [],
   "source": [
    ".libPaths(c('/import/CARD.library/R/site-library','/import/CARD.library/R/library','/root/miniconda3/envs/Rdoc/lib/R/library'))"
   ]
  },
  {
   "cell_type": "code",
   "execution_count": 4,
   "id": "48fc9e3c-5fa0-4110-9b23-eb9891dd78dc",
   "metadata": {},
   "outputs": [
    {
     "ename": "ERROR",
     "evalue": "Error in library(CARD): there is no package called 'CARD'\n",
     "output_type": "error",
     "traceback": [
      "Error in library(CARD): there is no package called 'CARD'\nTraceback:\n",
      "1. library(CARD)"
     ]
    }
   ],
   "source": [
    "library(CARD)\n",
    "library(MuSiC)\n",
    "library(TOAST)\n",
    "library(Seurat)\n",
    "library(patchwork)\n",
    "library(tidyverse)"
   ]
  },
  {
   "cell_type": "code",
   "execution_count": null,
   "id": "1449064f-624d-47e7-b0e0-14c859dcd001",
   "metadata": {},
   "outputs": [],
   "source": []
  }
 ],
 "metadata": {
  "kernelspec": {
   "display_name": "R",
   "language": "R",
   "name": "ir"
  },
  "language_info": {
   "codemirror_mode": "r",
   "file_extension": ".r",
   "mimetype": "text/x-r-source",
   "name": "R",
   "pygments_lexer": "r",
   "version": "4.2.1"
  }
 },
 "nbformat": 4,
 "nbformat_minor": 5
}
