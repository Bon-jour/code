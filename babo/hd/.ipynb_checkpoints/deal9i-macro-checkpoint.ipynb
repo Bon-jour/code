{
 "cells": [
  {
   "cell_type": "code",
   "execution_count": 1,
   "id": "1fa01151-57e5-42e5-8e9d-24fb8f189801",
   "metadata": {},
   "outputs": [
    {
     "name": "stderr",
     "output_type": "stream",
     "text": [
      "Warning message:\n",
      "\"package 'Seurat' was built under R version 4.2.3\"\n",
      "The legacy packages maptools, rgdal, and rgeos, underpinning the sp package,\n",
      "which was just loaded, will retire in October 2023.\n",
      "Please refer to R-spatial evolution reports for details, especially\n",
      "https://r-spatial.org/r/2023/05/15/evolution4.html.\n",
      "It may be desirable to make the sf package available;\n",
      "package maintainers should consider adding sf to Suggests:.\n",
      "The sp package is now running under evolution status 2\n",
      "     (status 2 uses the sf package in place of rgdal)\n",
      "\n",
      "Attaching SeuratObject\n",
      "\n"
     ]
    }
   ],
   "source": [
    "setwd('/import/hd//sc')\n",
    "library(Seurat)"
   ]
  },
  {
   "cell_type": "code",
   "execution_count": 2,
   "id": "9d16c4e7-a1c7-4608-b5df-a813b49a1747",
   "metadata": {},
   "outputs": [],
   "source": [
    "sce2 = readRDS('./scRNA.macro.rds')"
   ]
  },
  {
   "cell_type": "code",
   "execution_count": 3,
   "id": "cb015470-40aa-4f8d-990e-328a1cee9a38",
   "metadata": {},
   "outputs": [
    {
     "name": "stderr",
     "output_type": "stream",
     "text": [
      "Calculating cluster Resid.mac\n",
      "\n",
      "Calculating cluster Mono\n",
      "\n",
      "Calculating cluster Inflamm.Macro\n",
      "\n",
      "Calculating cluster cDC1\n",
      "\n",
      "Calculating cluster SPP1_mac\n",
      "\n",
      "Calculating cluster Granulo\n",
      "\n",
      "\n",
      "Attaching package: 'dplyr'\n",
      "\n",
      "\n",
      "The following objects are masked from 'package:stats':\n",
      "\n",
      "    filter, lag\n",
      "\n",
      "\n",
      "The following objects are masked from 'package:base':\n",
      "\n",
      "    intersect, setdiff, setequal, union\n",
      "\n",
      "\n"
     ]
    }
   ],
   "source": [
    "Idents(sce2) = 'celltype'\n",
    "\n",
    "sce.markers <- FindAllMarkers(object = sce2, only.pos = TRUE, \n",
    "                              min.pct = 0.25, \n",
    "                              thresh.use = 0.25)\n",
    " \n",
    "\n",
    "library(dplyr) \n",
    "# 不同seurat版本的 avg_logFC 不一样 \n",
    "top5 <- sce.markers %>% group_by(cluster) %>% top_n(5, avg_log2FC)"
   ]
  },
  {
   "cell_type": "code",
   "execution_count": 4,
   "id": "983d08ef-53db-400e-b9ef-ca2deb21070b",
   "metadata": {},
   "outputs": [
    {
     "name": "stderr",
     "output_type": "stream",
     "text": [
      "Warning message:\n",
      "\"package 'tidyr' was built under R version 4.2.3\"\n"
     ]
    }
   ],
   "source": [
    "library(tidyr)"
   ]
  },
  {
   "cell_type": "code",
   "execution_count": 5,
   "id": "f083be89-5c16-45cf-80d3-68dfaf536f06",
   "metadata": {},
   "outputs": [
    {
     "name": "stderr",
     "output_type": "stream",
     "text": [
      "Warning message:\n",
      "\"package 'reshape2' was built under R version 4.2.3\"\n",
      "\n",
      "Attaching package: 'reshape2'\n",
      "\n",
      "\n",
      "The following object is masked from 'package:tidyr':\n",
      "\n",
      "    smiths\n",
      "\n",
      "\n"
     ]
    }
   ],
   "source": [
    "library(reshape2)\n",
    "a = sce.markers %>% pivot_wider( names_from = cluster, values_from = gene)"
   ]
  },
  {
   "cell_type": "code",
   "execution_count": 6,
   "id": "653396c3-96d0-4e70-a987-e057ed49953c",
   "metadata": {},
   "outputs": [],
   "source": [
    "list1 <- as.list(a[,6:dim(a)[2]])"
   ]
  },
  {
   "cell_type": "code",
   "execution_count": 7,
   "id": "19b7f7e4-10ff-46c0-b935-86d74d099e2c",
   "metadata": {},
   "outputs": [],
   "source": [
    "\n",
    "my_list_no_na <- lapply(list1, unique)\n",
    "save(my_list_no_na,file = 'my_list_no_na.macro.rda')"
   ]
  },
  {
   "cell_type": "code",
   "execution_count": 8,
   "id": "81549cd0-47a2-4ec5-a56a-36e093d25c67",
   "metadata": {},
   "outputs": [],
   "source": [
    "saveRDS(sce2,file = 'sce2.merged.macro.rds')"
   ]
  },
  {
   "cell_type": "code",
   "execution_count": 9,
   "id": "6a4f4a9b-d51e-4727-ba22-7ddd71f5a240",
   "metadata": {},
   "outputs": [
    {
     "data": {
      "text/html": [
       "'/import/hd/sc'"
      ],
      "text/latex": [
       "'/import/hd/sc'"
      ],
      "text/markdown": [
       "'/import/hd/sc'"
      ],
      "text/plain": [
       "[1] \"/import/hd/sc\""
      ]
     },
     "metadata": {},
     "output_type": "display_data"
    }
   ],
   "source": [
    "getwd()"
   ]
  },
  {
   "cell_type": "code",
   "execution_count": 10,
   "id": "f6b83847-605f-4495-8d3f-ff9b35032739",
   "metadata": {},
   "outputs": [
    {
     "data": {
      "text/plain": [
       "\n",
       "      Granulo Inflamm.Macro          Mono     Resid.mac      SPP1_mac \n",
       "          368          2285          2740          3115           159 \n",
       "         cDC1 \n",
       "           59 "
      ]
     },
     "metadata": {},
     "output_type": "display_data"
    }
   ],
   "source": [
    "table(sce2$celltype)"
   ]
  },
  {
   "cell_type": "code",
   "execution_count": 11,
   "id": "b7a48d4e-5b62-4072-b39e-1b5952e517d9",
   "metadata": {},
   "outputs": [
    {
     "data": {
      "text/html": [
       "6"
      ],
      "text/latex": [
       "6"
      ],
      "text/markdown": [
       "6"
      ],
      "text/plain": [
       "[1] 6"
      ]
     },
     "metadata": {},
     "output_type": "display_data"
    }
   ],
   "source": [
    "length(my_list_no_na)"
   ]
  },
  {
   "cell_type": "code",
   "execution_count": 12,
   "id": "bf85ef37-f697-46db-b72b-53f77b7d29bc",
   "metadata": {},
   "outputs": [
    {
     "data": {
      "text/html": [
       "<style>\n",
       ".list-inline {list-style: none; margin:0; padding: 0}\n",
       ".list-inline>li {display: inline-block}\n",
       ".list-inline>li:not(:last-child)::after {content: \"\\00b7\"; padding: 0 .5ex}\n",
       "</style>\n",
       "<ol class=list-inline><li>'Resid.mac'</li><li>'Mono'</li><li>'Inflamm.Macro'</li><li>'cDC1'</li><li>'SPP1_mac'</li><li>'Granulo'</li></ol>\n"
      ],
      "text/latex": [
       "\\begin{enumerate*}\n",
       "\\item 'Resid.mac'\n",
       "\\item 'Mono'\n",
       "\\item 'Inflamm.Macro'\n",
       "\\item 'cDC1'\n",
       "\\item 'SPP1\\_mac'\n",
       "\\item 'Granulo'\n",
       "\\end{enumerate*}\n"
      ],
      "text/markdown": [
       "1. 'Resid.mac'\n",
       "2. 'Mono'\n",
       "3. 'Inflamm.Macro'\n",
       "4. 'cDC1'\n",
       "5. 'SPP1_mac'\n",
       "6. 'Granulo'\n",
       "\n",
       "\n"
      ],
      "text/plain": [
       "[1] \"Resid.mac\"     \"Mono\"          \"Inflamm.Macro\" \"cDC1\"         \n",
       "[5] \"SPP1_mac\"      \"Granulo\"      "
      ]
     },
     "metadata": {},
     "output_type": "display_data"
    }
   ],
   "source": [
    "names(my_list_no_na)"
   ]
  },
  {
   "cell_type": "code",
   "execution_count": null,
   "id": "6828cce4-b17f-4417-bc11-54c1dab891c1",
   "metadata": {},
   "outputs": [],
   "source": []
  }
 ],
 "metadata": {
  "kernelspec": {
   "display_name": "R",
   "language": "R",
   "name": "ir"
  },
  "language_info": {
   "codemirror_mode": "r",
   "file_extension": ".r",
   "mimetype": "text/x-r-source",
   "name": "R",
   "pygments_lexer": "r",
   "version": "4.2.1"
  }
 },
 "nbformat": 4,
 "nbformat_minor": 5
}
