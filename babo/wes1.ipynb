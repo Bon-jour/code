{
 "cells": [
  {
   "cell_type": "code",
   "execution_count": 1,
   "id": "4a00ba2e-4f5a-46ab-ab78-f0bcbcd248aa",
   "metadata": {},
   "outputs": [],
   "source": [
    "setwd('/import/DB/wes/out/')"
   ]
  },
  {
   "cell_type": "code",
   "execution_count": 2,
   "id": "26beb532-52ab-4170-99ab-17886ebb1556",
   "metadata": {},
   "outputs": [
    {
     "name": "stderr",
     "output_type": "stream",
     "text": [
      "Warning message:\n",
      "\"package 'ggplot2' was built under R version 4.2.3\"\n",
      "Updating HTML index of packages in '.Library'\n",
      "\n",
      "Making 'packages.html' ...\n",
      " done\n",
      "\n",
      "Loading required package: usethis\n",
      "\n"
     ]
    },
    {
     "ename": "ERROR",
     "evalue": "Error in parse_repo_spec(repo): Invalid git repo specification: 'easyGgplot2'\n",
     "output_type": "error",
     "traceback": [
      "Error in parse_repo_spec(repo): Invalid git repo specification: 'easyGgplot2'\nTraceback:\n",
      "1. install_github(\"easyGgplot2\", \"kassambara\")",
      "2. pkgbuild::with_build_tools({\n .     ellipsis::check_dots_used(action = getOption(\"devtools.ellipsis_action\", \n .         rlang::warn))\n .     {\n .         remotes <- lapply(repo, github_remote, ref = ref, subdir = subdir, \n .             auth_token = auth_token, host = host)\n .         install_remotes(remotes, auth_token = auth_token, host = host, \n .             dependencies = dependencies, upgrade = upgrade, force = force, \n .             quiet = quiet, build = build, build_opts = build_opts, \n .             build_manual = build_manual, build_vignettes = build_vignettes, \n .             repos = repos, type = type, ...)\n .     }\n . }, required = FALSE)",
      "3. lapply(repo, github_remote, ref = ref, subdir = subdir, auth_token = auth_token, \n .     host = host)",
      "4. FUN(X[[i]], ...)",
      "5. parse_git_repo(repo)",
      "6. parse_repo_spec(repo)",
      "7. stop(sprintf(\"Invalid git repo specification: '%s'\", repo))"
     ]
    }
   ],
   "source": [
    "library(ggplot2)\n",
    "install.packages(\"devtools\")\n",
    "library(devtools)\n",
    "install_github(\"easyGgplot2\", \"kassambara\")\n",
    "library(easyGgplot2)\n",
    "\n",
    "\n",
    "a = read.table(\"NPC34F-T_filter_snp_PASS.vcf.spectrum.txt\")\n",
    "dat <- data.frame(type=c('C>A(G>T)','C>T(G>A)','C>G(G>C)','T>A(A>T)','T>G(A>C)','T>C(A>G)'))\n",
    "counts1=c(a[4,1]+a[9,1],a[6,1]+a[7,1],a[5,1]+a[8,1],a[10,1]+a[3,1],a[12,1]+a[1,1],+a[11,1]+a[2,1])\n",
    "\n",
    "p1=ggplot(dat,aes( x=type,y=counts1))+geom_bar(stat=\"identity\",aes(fill=type))+labs(title=\"NPC34F-T\")+theme(plot.title = element_text(hjust = 0.5),axis.text.x = element_text(size=10,vjust = 0.5, hjust = 0.5,face=\"bold\",angle = 75)) \n",
    "\n",
    "b= read.table(\"NPC29F-N_filter_snp_PASS.vcf.spectrum.txt\")\n",
    "counts2=c(b[4,1]+b[9,1],b[6,1]+b[7,1],b[5,1]+b[8,1],b[10,1]+b[3,1],b[12,1]+b[1,1],+b[11,1]+b[2,1])\n",
    "p2=ggplot(dat,aes( x=type,y=counts2))+geom_bar(stat=\"identity\",aes(fill=type))+labs(title=\"NPC29F-N\")+theme(plot.title = element_text(hjust = 0.5),,axis.text.x = element_text(size=10,vjust = 0.5, hjust = 0.5,face=\"bold\",angle = 75)) \n",
    "\n",
    "ggplot2.multiplot(p1,p2, cols=2)"
   ]
  },
  {
   "cell_type": "code",
   "execution_count": null,
   "id": "68123524-48fb-4b2e-8aa0-573295b00d23",
   "metadata": {},
   "outputs": [],
   "source": []
  }
 ],
 "metadata": {
  "kernelspec": {
   "display_name": "R",
   "language": "R",
   "name": "ir"
  },
  "language_info": {
   "codemirror_mode": "r",
   "file_extension": ".r",
   "mimetype": "text/x-r-source",
   "name": "R",
   "pygments_lexer": "r",
   "version": "4.2.1"
  }
 },
 "nbformat": 4,
 "nbformat_minor": 5
}
