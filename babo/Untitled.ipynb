{
 "cells": [
  {
   "cell_type": "code",
   "execution_count": 122,
   "id": "5885b5ba-7e23-42b6-9de0-8f087a302da4",
   "metadata": {},
   "outputs": [],
   "source": [
    "library(TCGAbiolinks)"
   ]
  },
  {
   "cell_type": "code",
   "execution_count": 123,
   "id": "e67af554-4682-4fce-adb6-6b3fff49c982",
   "metadata": {},
   "outputs": [
    {
     "name": "stderr",
     "output_type": "stream",
     "text": [
      "--------------------------------------\n",
      "\n",
      "o GDCquery: Searching in GDC database\n",
      "\n",
      "--------------------------------------\n",
      "\n",
      "Genome of reference: hg19\n",
      "\n",
      "Warning message in open.connection(con, \"rb\"):\n",
      "\"cannot open URL 'https://api.gdc.cancer.gov/legacy/projects/TCGA-COAD?expand=summary,summary.data_categories&pretty=true': HTTP status was '410 Gone'\"\n"
     ]
    },
    {
     "ename": "ERROR",
     "evalue": "Error in open.connection(con, \"rb\"): cannot open the connection to 'https://api.gdc.cancer.gov/legacy/projects/TCGA-COAD?expand=summary,summary.data_categories&pretty=true'\n",
     "output_type": "error",
     "traceback": [
      "Error in open.connection(con, \"rb\"): cannot open the connection to 'https://api.gdc.cancer.gov/legacy/projects/TCGA-COAD?expand=summary,summary.data_categories&pretty=true'\nTraceback:\n",
      "1. GDCquery(project = \"TCGA-COAD\", data.category = \"Clinical\", data.type = \"Pathology report\", \n .     legacy = TRUE, barcode = c(\"TCGA-RU-A8FL\", \"TCGA-AA-3972\"))",
      "2. checkDataCategoriesInput(project, data.category, legacy)",
      "3. getProjectSummary(proj, legacy)",
      "4. fromJSON(url, simplifyDataFrame = TRUE)",
      "5. parse_and_simplify(txt = txt, simplifyVector = simplifyVector, \n .     simplifyDataFrame = simplifyDataFrame, simplifyMatrix = simplifyMatrix, \n .     flatten = flatten, ...)",
      "6. parseJSON(txt, bigint_as_char)",
      "7. parse_con(txt, bigint_as_char)",
      "8. open(con, \"rb\")",
      "9. open.connection(con, \"rb\")"
     ]
    }
   ],
   "source": [
    "query.legacy <- GDCquery(project = \"TCGA-COAD\",  ## 肿瘤类型，可以修改\n",
    "                         data.category = \"Clinical\", ##数据分类为临床\n",
    "                         data.type = \"Pathology report\", ## 数据类型为病理学报告\n",
    "                         legacy = TRUE, \n",
    "                         barcode = c(\"TCGA-RU-A8FL\",\"TCGA-AA-3972\") ##制定患者编号\n",
    "                         ) "
   ]
  },
  {
   "cell_type": "code",
   "execution_count": null,
   "id": "519b14e1-b24d-47e8-82ce-2f915e770dad",
   "metadata": {},
   "outputs": [],
   "source": []
  }
 ],
 "metadata": {
  "kernelspec": {
   "display_name": "R",
   "language": "R",
   "name": "ir"
  },
  "language_info": {
   "codemirror_mode": "r",
   "file_extension": ".r",
   "mimetype": "text/x-r-source",
   "name": "R",
   "pygments_lexer": "r",
   "version": "4.2.1"
  }
 },
 "nbformat": 4,
 "nbformat_minor": 5
}
