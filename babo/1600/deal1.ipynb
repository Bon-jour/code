{
 "cells": [
  {
   "cell_type": "code",
   "execution_count": 1,
   "id": "40be860c-9e14-48ea-b406-c8d92efd2af8",
   "metadata": {},
   "outputs": [],
   "source": [
    "setwd('/import/metabolites/1600')"
   ]
  },
  {
   "cell_type": "code",
   "execution_count": 2,
   "id": "1ae6bde8-ba02-4b86-8b83-2f89980a66b6",
   "metadata": {},
   "outputs": [],
   "source": [
    "expr = read.table('./BMK_1_Control_vs_JD4/BMK_2_DEG_Cluster/Control_vs_JD4.txt',row.names = 1,sep = '\\t',header =T)"
   ]
  },
  {
   "cell_type": "code",
   "execution_count": 3,
   "id": "374fce8f-ffde-4b99-a61f-673ad23f8dc6",
   "metadata": {},
   "outputs": [],
   "source": [
    "expr1 = expr[,c(4,5,6)]"
   ]
  },
  {
   "cell_type": "code",
   "execution_count": 4,
   "id": "b0a445d2-f0da-4455-9cfa-d7f5366b6a9c",
   "metadata": {},
   "outputs": [
    {
     "data": {
      "text/html": [
       "<table class=\"dataframe\">\n",
       "<caption>A data.frame: 2 x 6</caption>\n",
       "<thead>\n",
       "\t<tr><th></th><th scope=col>Control.1</th><th scope=col>Control.2</th><th scope=col>Control.3</th><th scope=col>JD4.1</th><th scope=col>JD4.2</th><th scope=col>JD4.3</th></tr>\n",
       "\t<tr><th></th><th scope=col>&lt;dbl&gt;</th><th scope=col>&lt;dbl&gt;</th><th scope=col>&lt;dbl&gt;</th><th scope=col>&lt;dbl&gt;</th><th scope=col>&lt;dbl&gt;</th><th scope=col>&lt;dbl&gt;</th></tr>\n",
       "</thead>\n",
       "<tbody>\n",
       "\t<tr><th scope=row>evm.TU.scaffold520.10</th><td> 1.360437</td><td>0.573533</td><td> 1.271172</td><td> 1.327511</td><td> 6.895074</td><td> 5.610351</td></tr>\n",
       "\t<tr><th scope=row>evm.TU.scaffold1510.12</th><td>12.019589</td><td>8.107336</td><td>11.577633</td><td>14.151673</td><td>23.863295</td><td>24.401491</td></tr>\n",
       "</tbody>\n",
       "</table>\n"
      ],
      "text/latex": [
       "A data.frame: 2 x 6\n",
       "\\begin{tabular}{r|llllll}\n",
       "  & Control.1 & Control.2 & Control.3 & JD4.1 & JD4.2 & JD4.3\\\\\n",
       "  & <dbl> & <dbl> & <dbl> & <dbl> & <dbl> & <dbl>\\\\\n",
       "\\hline\n",
       "\tevm.TU.scaffold520.10 &  1.360437 & 0.573533 &  1.271172 &  1.327511 &  6.895074 &  5.610351\\\\\n",
       "\tevm.TU.scaffold1510.12 & 12.019589 & 8.107336 & 11.577633 & 14.151673 & 23.863295 & 24.401491\\\\\n",
       "\\end{tabular}\n"
      ],
      "text/markdown": [
       "\n",
       "A data.frame: 2 x 6\n",
       "\n",
       "| <!--/--> | Control.1 &lt;dbl&gt; | Control.2 &lt;dbl&gt; | Control.3 &lt;dbl&gt; | JD4.1 &lt;dbl&gt; | JD4.2 &lt;dbl&gt; | JD4.3 &lt;dbl&gt; |\n",
       "|---|---|---|---|---|---|---|\n",
       "| evm.TU.scaffold520.10 |  1.360437 | 0.573533 |  1.271172 |  1.327511 |  6.895074 |  5.610351 |\n",
       "| evm.TU.scaffold1510.12 | 12.019589 | 8.107336 | 11.577633 | 14.151673 | 23.863295 | 24.401491 |\n",
       "\n"
      ],
      "text/plain": [
       "                       Control.1 Control.2 Control.3 JD4.1     JD4.2    \n",
       "evm.TU.scaffold520.10   1.360437 0.573533   1.271172  1.327511  6.895074\n",
       "evm.TU.scaffold1510.12 12.019589 8.107336  11.577633 14.151673 23.863295\n",
       "                       JD4.3    \n",
       "evm.TU.scaffold520.10   5.610351\n",
       "evm.TU.scaffold1510.12 24.401491"
      ]
     },
     "metadata": {},
     "output_type": "display_data"
    }
   ],
   "source": [
    "head(expr,2)"
   ]
  },
  {
   "cell_type": "code",
   "execution_count": 5,
   "id": "0a69c300-e9d2-45ed-b399-25a40d159b9f",
   "metadata": {},
   "outputs": [
    {
     "name": "stderr",
     "output_type": "stream",
     "text": [
      "Warning message:\n",
      "\"package 'readxl' was built under R version 4.2.3\"\n"
     ]
    }
   ],
   "source": [
    "library(readxl)"
   ]
  },
  {
   "cell_type": "code",
   "execution_count": 6,
   "id": "f890c985-95d6-4b61-8592-1e8d0bf14b7f",
   "metadata": {},
   "outputs": [],
   "source": [
    "meta = read_xlsx('./4vs3(1).xlsx')"
   ]
  },
  {
   "cell_type": "code",
   "execution_count": 7,
   "id": "b4ddd6cf-30ba-4247-a1cf-f60580430108",
   "metadata": {},
   "outputs": [],
   "source": [
    "meta1 = meta[,c('Name','Norm. Area: 4-4-1.raw (F10)','Norm. Area: 4-4-2.raw (F11)','Norm. Area: 4-4-3.raw (F12)')]"
   ]
  },
  {
   "cell_type": "code",
   "execution_count": 8,
   "id": "c524413b-416c-42ef-8def-a71b1978641e",
   "metadata": {},
   "outputs": [
    {
     "name": "stderr",
     "output_type": "stream",
     "text": [
      "Warning message:\n",
      "\"package 'dplyr' was built under R version 4.2.3\"\n",
      "\n",
      "Attaching package: 'dplyr'\n",
      "\n",
      "\n",
      "The following objects are masked from 'package:stats':\n",
      "\n",
      "    filter, lag\n",
      "\n",
      "\n",
      "The following objects are masked from 'package:base':\n",
      "\n",
      "    intersect, setdiff, setequal, union\n",
      "\n",
      "\n"
     ]
    }
   ],
   "source": [
    "library(dplyr)"
   ]
  },
  {
   "cell_type": "code",
   "execution_count": 9,
   "id": "9981dbec-30c9-47d3-9001-afe212ed7a3f",
   "metadata": {},
   "outputs": [],
   "source": [
    "meta1 = meta1 %>% tibble::column_to_rownames(.,'Name') "
   ]
  },
  {
   "cell_type": "code",
   "execution_count": 10,
   "id": "738bd6b9-64c1-42f5-a7ba-bb1510c8f928",
   "metadata": {},
   "outputs": [],
   "source": [
    "colnames(meta1) = colnames(expr1)"
   ]
  },
  {
   "cell_type": "code",
   "execution_count": 11,
   "id": "c332403d-6c75-44c4-8fa9-2ae344e228e5",
   "metadata": {},
   "outputs": [],
   "source": [
    "expr1 = as.data.frame(t(expr1))\n",
    "meta1 = as.data.frame(t(meta1))"
   ]
  },
  {
   "cell_type": "code",
   "execution_count": 12,
   "id": "322d9374-3c29-4126-9614-72e2ac833190",
   "metadata": {
    "scrolled": true
   },
   "outputs": [
    {
     "name": "stderr",
     "output_type": "stream",
     "text": [
      "Warning message:\n",
      "\"package 'psych' was built under R version 4.2.3\"\n",
      "Warning message in cor(x, y, use = use, method = method):\n",
      "\"the standard deviation is zero\"\n",
      "Warning message in corr.test(expr1, meta1, method = \"pearson\"):\n",
      "\"Number of subjects must be greater than 3 to find confidence intervals.\"\n"
     ]
    }
   ],
   "source": [
    "library(psych)#R包psych中的命令corr.test()提供了在计算变量间相关系数的同时执行显著性检验的方法。\n",
    "merge_cor<- corr.test(expr1, meta1, method = 'pearson')"
   ]
  },
  {
   "cell_type": "code",
   "execution_count": 15,
   "id": "e7c407f4-4feb-4fff-b0c8-1671235641eb",
   "metadata": {},
   "outputs": [],
   "source": [
    "#merge_cor.raw = merge_cor"
   ]
  },
  {
   "cell_type": "code",
   "execution_count": 90,
   "id": "42e54bfe-f3de-4482-ab67-a0bdcd45b838",
   "metadata": {
    "scrolled": true
   },
   "outputs": [],
   "source": [
    "merge_cor = merge_cor.raw\n",
    "merge_cor$p[merge_cor$p >= 0.01] <- -1#筛选，例如在“merge_cor”中，根据 p(<0.05) 值和 r(>=0.5 or <=-0.5) 值做保留\n",
    "merge_cor$p[merge_cor$p < 0.01 & merge_cor$p >= 0] <- 1\n",
    "merge_cor$p[merge_cor$p == -1] <- 0\n",
    "merge_cor$r[abs(merge_cor$r) < 0.8] <- 0\n",
    "merge_cor_final <- merge_cor$r * merge_cor$p\n",
    "merge_cor_final = na.omit(merge_cor_final)\n",
    "#write.csv(merge_cor_final, 'merge_cor_final.csv', quote = FALSE)"
   ]
  },
  {
   "cell_type": "code",
   "execution_count": 91,
   "id": "1e7eeb12-4c64-41f4-8373-2e0f1bfd0176",
   "metadata": {},
   "outputs": [],
   "source": [
    "a = merge_cor_final[which(rowSums(merge_cor_final) != 0),]"
   ]
  },
  {
   "cell_type": "code",
   "execution_count": 92,
   "id": "66fc71ed-5c2a-46ef-9570-235c5ba794cc",
   "metadata": {},
   "outputs": [
    {
     "data": {
      "text/html": [
       "<style>\n",
       ".list-inline {list-style: none; margin:0; padding: 0}\n",
       ".list-inline>li {display: inline-block}\n",
       ".list-inline>li:not(:last-child)::after {content: \"\\00b7\"; padding: 0 .5ex}\n",
       "</style>\n",
       "<ol class=list-inline><li>731</li><li>23</li></ol>\n"
      ],
      "text/latex": [
       "\\begin{enumerate*}\n",
       "\\item 731\n",
       "\\item 23\n",
       "\\end{enumerate*}\n"
      ],
      "text/markdown": [
       "1. 731\n",
       "2. 23\n",
       "\n",
       "\n"
      ],
      "text/plain": [
       "[1] 731  23"
      ]
     },
     "metadata": {},
     "output_type": "display_data"
    }
   ],
   "source": [
    "dim(a)"
   ]
  },
  {
   "cell_type": "code",
   "execution_count": 202,
   "id": "0511a494-5875-42d8-9337-0e11805e22c1",
   "metadata": {},
   "outputs": [
    {
     "data": {
      "text/html": [
       "<table class=\"dataframe\">\n",
       "<caption>A matrix: 4 x 23 of type dbl</caption>\n",
       "<thead>\n",
       "\t<tr><th></th><th scope=col>Cryptotanshinone</th><th scope=col>tanshinoneV</th><th scope=col>sibieiquinone A</th><th scope=col>17-hydroxytanshindiol B</th><th scope=col>isotanshinone 2A</th><th scope=col>3-hydroxymethylenetanshi nquinone</th><th scope=col>Tanshindiol C</th><th scope=col>norsalvioxide</th><th scope=col>Succinic acid</th><th scope=col>miltionone</th><th scope=col>...</th><th scope=col>(+)-Lithospermic acid</th><th scope=col>Methyl 1,6-dimethyl-10,11-dioxo-1,2,6,7,8,9,10,11-octahydrophenanthro[1,2-b]furan-6-carboxylate</th><th scope=col>3-Hydroxy-2-isopropyl-8,8-dimethyl-5,6,7,8-tetrahydro-1,4-phenanthrenedione</th><th scope=col>Methyl tanshinonate</th><th scope=col>Tanshinon I</th><th scope=col>miltirone</th><th scope=col>1,6-Dimethyl-1,2,8,9-tetrahydrophenanthro[1,2-b]furan-10,11-dione</th><th scope=col>Tanshinone IIA</th><th scope=col>microstegiol</th><th scope=col>salvinone</th></tr>\n",
       "</thead>\n",
       "<tbody>\n",
       "\t<tr><th scope=row>NewGene_774</th><td> 0.0000000</td><td>0</td><td>0</td><td>0</td><td>0</td><td>0</td><td>0.0000000</td><td>0</td><td>0</td><td>0</td><td>...</td><td>0</td><td> 0.0000000</td><td>0</td><td>-0.9999991</td><td>0</td><td>0</td><td>0</td><td> 0.0000000</td><td>0</td><td>0</td></tr>\n",
       "\t<tr><th scope=row>evm.TU.C207621.1</th><td> 0.0000000</td><td>0</td><td>0</td><td>0</td><td>0</td><td>0</td><td>0.0000000</td><td>0</td><td>0</td><td>0</td><td>...</td><td>0</td><td> 0.0000000</td><td>0</td><td> 0.0000000</td><td>0</td><td>0</td><td>0</td><td>-0.9999982</td><td>0</td><td>0</td></tr>\n",
       "\t<tr><th scope=row>NewGene_9213</th><td>-0.9999186</td><td>0</td><td>0</td><td>0</td><td>0</td><td>0</td><td>0.0000000</td><td>0</td><td>0</td><td>0</td><td>...</td><td>0</td><td> 0.0000000</td><td>0</td><td> 0.0000000</td><td>0</td><td>0</td><td>0</td><td> 0.0000000</td><td>0</td><td>0</td></tr>\n",
       "\t<tr><th scope=row>evm.TU.scaffold8469.2</th><td> 0.0000000</td><td>0</td><td>0</td><td>0</td><td>0</td><td>0</td><td>0.9999608</td><td>0</td><td>0</td><td>0</td><td>...</td><td>0</td><td>-0.9999754</td><td>0</td><td> 0.0000000</td><td>0</td><td>0</td><td>0</td><td> 0.0000000</td><td>0</td><td>0</td></tr>\n",
       "</tbody>\n",
       "</table>\n"
      ],
      "text/latex": [
       "A matrix: 4 x 23 of type dbl\n",
       "\\begin{tabular}{r|lllllllllllllllllllll}\n",
       "  & Cryptotanshinone & tanshinoneV & sibieiquinone A & 17-hydroxytanshindiol B & isotanshinone 2A & 3-hydroxymethylenetanshi nquinone & Tanshindiol C & norsalvioxide & Succinic acid & miltionone & ... & (+)-Lithospermic acid & Methyl 1,6-dimethyl-10,11-dioxo-1,2,6,7,8,9,10,11-octahydrophenanthro{[}1,2-b{]}furan-6-carboxylate & 3-Hydroxy-2-isopropyl-8,8-dimethyl-5,6,7,8-tetrahydro-1,4-phenanthrenedione & Methyl tanshinonate & Tanshinon I & miltirone & 1,6-Dimethyl-1,2,8,9-tetrahydrophenanthro{[}1,2-b{]}furan-10,11-dione & Tanshinone IIA & microstegiol & salvinone\\\\\n",
       "\\hline\n",
       "\tNewGene\\_774 &  0.0000000 & 0 & 0 & 0 & 0 & 0 & 0.0000000 & 0 & 0 & 0 & ... & 0 &  0.0000000 & 0 & -0.9999991 & 0 & 0 & 0 &  0.0000000 & 0 & 0\\\\\n",
       "\tevm.TU.C207621.1 &  0.0000000 & 0 & 0 & 0 & 0 & 0 & 0.0000000 & 0 & 0 & 0 & ... & 0 &  0.0000000 & 0 &  0.0000000 & 0 & 0 & 0 & -0.9999982 & 0 & 0\\\\\n",
       "\tNewGene\\_9213 & -0.9999186 & 0 & 0 & 0 & 0 & 0 & 0.0000000 & 0 & 0 & 0 & ... & 0 &  0.0000000 & 0 &  0.0000000 & 0 & 0 & 0 &  0.0000000 & 0 & 0\\\\\n",
       "\tevm.TU.scaffold8469.2 &  0.0000000 & 0 & 0 & 0 & 0 & 0 & 0.9999608 & 0 & 0 & 0 & ... & 0 & -0.9999754 & 0 &  0.0000000 & 0 & 0 & 0 &  0.0000000 & 0 & 0\\\\\n",
       "\\end{tabular}\n"
      ],
      "text/markdown": [
       "\n",
       "A matrix: 4 x 23 of type dbl\n",
       "\n",
       "| <!--/--> | Cryptotanshinone | tanshinoneV | sibieiquinone A | 17-hydroxytanshindiol B | isotanshinone 2A | 3-hydroxymethylenetanshi nquinone | Tanshindiol C | norsalvioxide | Succinic acid | miltionone | ... | (+)-Lithospermic acid | Methyl 1,6-dimethyl-10,11-dioxo-1,2,6,7,8,9,10,11-octahydrophenanthro[1,2-b]furan-6-carboxylate | 3-Hydroxy-2-isopropyl-8,8-dimethyl-5,6,7,8-tetrahydro-1,4-phenanthrenedione | Methyl tanshinonate | Tanshinon I | miltirone | 1,6-Dimethyl-1,2,8,9-tetrahydrophenanthro[1,2-b]furan-10,11-dione | Tanshinone IIA | microstegiol | salvinone |\n",
       "|---|---|---|---|---|---|---|---|---|---|---|---|---|---|---|---|---|---|---|---|---|---|\n",
       "| NewGene_774 |  0.0000000 | 0 | 0 | 0 | 0 | 0 | 0.0000000 | 0 | 0 | 0 | ... | 0 |  0.0000000 | 0 | -0.9999991 | 0 | 0 | 0 |  0.0000000 | 0 | 0 |\n",
       "| evm.TU.C207621.1 |  0.0000000 | 0 | 0 | 0 | 0 | 0 | 0.0000000 | 0 | 0 | 0 | ... | 0 |  0.0000000 | 0 |  0.0000000 | 0 | 0 | 0 | -0.9999982 | 0 | 0 |\n",
       "| NewGene_9213 | -0.9999186 | 0 | 0 | 0 | 0 | 0 | 0.0000000 | 0 | 0 | 0 | ... | 0 |  0.0000000 | 0 |  0.0000000 | 0 | 0 | 0 |  0.0000000 | 0 | 0 |\n",
       "| evm.TU.scaffold8469.2 |  0.0000000 | 0 | 0 | 0 | 0 | 0 | 0.9999608 | 0 | 0 | 0 | ... | 0 | -0.9999754 | 0 |  0.0000000 | 0 | 0 | 0 |  0.0000000 | 0 | 0 |\n",
       "\n"
      ],
      "text/plain": [
       "                      Cryptotanshinone tanshinoneV sibieiquinone A\n",
       "NewGene_774            0.0000000       0           0              \n",
       "evm.TU.C207621.1       0.0000000       0           0              \n",
       "NewGene_9213          -0.9999186       0           0              \n",
       "evm.TU.scaffold8469.2  0.0000000       0           0              \n",
       "                      17-hydroxytanshindiol B isotanshinone 2A\n",
       "NewGene_774           0                       0               \n",
       "evm.TU.C207621.1      0                       0               \n",
       "NewGene_9213          0                       0               \n",
       "evm.TU.scaffold8469.2 0                       0               \n",
       "                      3-hydroxymethylenetanshi nquinone Tanshindiol C\n",
       "NewGene_774           0                                 0.0000000    \n",
       "evm.TU.C207621.1      0                                 0.0000000    \n",
       "NewGene_9213          0                                 0.0000000    \n",
       "evm.TU.scaffold8469.2 0                                 0.9999608    \n",
       "                      norsalvioxide Succinic acid miltionone ...\n",
       "NewGene_774           0             0             0          ...\n",
       "evm.TU.C207621.1      0             0             0          ...\n",
       "NewGene_9213          0             0             0          ...\n",
       "evm.TU.scaffold8469.2 0             0             0          ...\n",
       "                      (+)-Lithospermic acid\n",
       "NewGene_774           0                    \n",
       "evm.TU.C207621.1      0                    \n",
       "NewGene_9213          0                    \n",
       "evm.TU.scaffold8469.2 0                    \n",
       "                      Methyl 1,6-dimethyl-10,11-dioxo-1,2,6,7,8,9,10,11-octahydrophenanthro[1,2-b]furan-6-carboxylate\n",
       "NewGene_774            0.0000000                                                                                     \n",
       "evm.TU.C207621.1       0.0000000                                                                                     \n",
       "NewGene_9213           0.0000000                                                                                     \n",
       "evm.TU.scaffold8469.2 -0.9999754                                                                                     \n",
       "                      3-Hydroxy-2-isopropyl-8,8-dimethyl-5,6,7,8-tetrahydro-1,4-phenanthrenedione\n",
       "NewGene_774           0                                                                          \n",
       "evm.TU.C207621.1      0                                                                          \n",
       "NewGene_9213          0                                                                          \n",
       "evm.TU.scaffold8469.2 0                                                                          \n",
       "                      Methyl tanshinonate Tanshinon I miltirone\n",
       "NewGene_774           -0.9999991          0           0        \n",
       "evm.TU.C207621.1       0.0000000          0           0        \n",
       "NewGene_9213           0.0000000          0           0        \n",
       "evm.TU.scaffold8469.2  0.0000000          0           0        \n",
       "                      1,6-Dimethyl-1,2,8,9-tetrahydrophenanthro[1,2-b]furan-10,11-dione\n",
       "NewGene_774           0                                                                \n",
       "evm.TU.C207621.1      0                                                                \n",
       "NewGene_9213          0                                                                \n",
       "evm.TU.scaffold8469.2 0                                                                \n",
       "                      Tanshinone IIA microstegiol salvinone\n",
       "NewGene_774            0.0000000     0            0        \n",
       "evm.TU.C207621.1      -0.9999982     0            0        \n",
       "NewGene_9213           0.0000000     0            0        \n",
       "evm.TU.scaffold8469.2  0.0000000     0            0        "
      ]
     },
     "metadata": {},
     "output_type": "display_data"
    }
   ],
   "source": [
    "head(a,4)"
   ]
  },
  {
   "cell_type": "code",
   "execution_count": 205,
   "id": "eaa44724-8dad-4627-b8f0-02f4227d4bc2",
   "metadata": {},
   "outputs": [],
   "source": [
    "name = read.csv('./name.csv',header =F)"
   ]
  },
  {
   "cell_type": "code",
   "execution_count": 207,
   "id": "426fab94-d238-4dbf-84cb-8e55f7709984",
   "metadata": {},
   "outputs": [
    {
     "data": {
      "text/html": [
       "<table class=\"dataframe\">\n",
       "<caption>A data.frame: 3 x 2</caption>\n",
       "<thead>\n",
       "\t<tr><th></th><th scope=col>V1</th><th scope=col>V2</th></tr>\n",
       "\t<tr><th></th><th scope=col>&lt;chr&gt;</th><th scope=col>&lt;chr&gt;</th></tr>\n",
       "</thead>\n",
       "<tbody>\n",
       "\t<tr><th scope=row>1</th><td><ef><bb><bf>cryptotanshinone</td><td>Cryptotanshinone</td></tr>\n",
       "\t<tr><th scope=row>2</th><td>tanshinoneV                 </td><td>tanshinoneV     </td></tr>\n",
       "\t<tr><th scope=row>3</th><td>sibieiquinone A             </td><td>sibieiquinone A </td></tr>\n",
       "</tbody>\n",
       "</table>\n"
      ],
      "text/latex": [
       "A data.frame: 3 x 2\n",
       "\\begin{tabular}{r|ll}\n",
       "  & V1 & V2\\\\\n",
       "  & <chr> & <chr>\\\\\n",
       "\\hline\n",
       "\t1 & <ef><bb><bf>cryptotanshinone & Cryptotanshinone\\\\\n",
       "\t2 & tanshinoneV                  & tanshinoneV     \\\\\n",
       "\t3 & sibieiquinone A              & sibieiquinone A \\\\\n",
       "\\end{tabular}\n"
      ],
      "text/markdown": [
       "\n",
       "A data.frame: 3 x 2\n",
       "\n",
       "| <!--/--> | V1 &lt;chr&gt; | V2 &lt;chr&gt; |\n",
       "|---|---|---|\n",
       "| 1 | <ef><bb><bf>cryptotanshinone | Cryptotanshinone |\n",
       "| 2 | tanshinoneV                  | tanshinoneV      |\n",
       "| 3 | sibieiquinone A              | sibieiquinone A  |\n",
       "\n"
      ],
      "text/plain": [
       "  V1                           V2              \n",
       "1 \\357\\273\\277cryptotanshinone Cryptotanshinone\n",
       "2 tanshinoneV                  tanshinoneV     \n",
       "3 sibieiquinone A              sibieiquinone A "
      ]
     },
     "metadata": {},
     "output_type": "display_data"
    }
   ],
   "source": [
    "head(name,3)"
   ]
  },
  {
   "cell_type": "code",
   "execution_count": 208,
   "id": "55331b6f-59d0-4dca-a1a6-0098f7a5ab13",
   "metadata": {},
   "outputs": [],
   "source": [
    "colnames(a) = name$V1"
   ]
  },
  {
   "cell_type": "code",
   "execution_count": 209,
   "id": "e6fca34f-09a1-4a19-9aa3-c3ad729bd037",
   "metadata": {},
   "outputs": [],
   "source": [
    "# https://www.coder.work/article/6614040"
   ]
  },
  {
   "cell_type": "code",
   "execution_count": 210,
   "id": "69fc8911-18f5-40e8-b145-3f6de1534212",
   "metadata": {},
   "outputs": [
    {
     "data": {
      "text/html": [
       "<strong>null device:</strong> 1"
      ],
      "text/latex": [
       "\\textbf{null device:} 1"
      ],
      "text/markdown": [
       "**null device:** 1"
      ],
      "text/plain": [
       "null device \n",
       "          1 "
      ]
     },
     "metadata": {},
     "output_type": "display_data"
    }
   ],
   "source": [
    "dev.off()"
   ]
  },
  {
   "cell_type": "code",
   "execution_count": 211,
   "id": "10c4429c-b850-4a03-9e0d-f111adb57ec3",
   "metadata": {},
   "outputs": [],
   "source": [
    "options(repr.plot.width = 6,repr.plot.height = 9)"
   ]
  },
  {
   "cell_type": "code",
   "execution_count": 23,
   "id": "7b94ec08-ec0b-4574-8b7f-4f7bad325f27",
   "metadata": {},
   "outputs": [
    {
     "name": "stderr",
     "output_type": "stream",
     "text": [
      "Warning message:\n",
      "\"package 'corrplot' was built under R version 4.2.3\"\n",
      "corrplot 0.92 loaded\n",
      "\n"
     ]
    },
    {
     "data": {
      "text/html": [
       "<strong>png:</strong> 2"
      ],
      "text/latex": [
       "\\textbf{png:} 2"
      ],
      "text/markdown": [
       "**png:** 2"
      ],
      "text/plain": [
       "png \n",
       "  2 "
      ]
     },
     "metadata": {},
     "output_type": "display_data"
    }
   ],
   "source": [
    "\n",
    "pdf('heatmap1.pdf',width = 6,height = 9)\n",
    "library(corrplot)#使用corrplot包中的corrplot()命令对相关性数据进行可视化展示   \n",
    "corrplot(a, method = 'number', number.cex = 0.5, diag = FALSE, tl.cex = 0.4)\n",
    "corrplot(a, add = TRUE, type = 'upper', method = 'pie', diag = FALSE,\n",
    "         tl.pos = 'n', cl.pos = 'n', tl.cex=2)\n",
    "#corrplot(a, method = 'pie')#饼图\n",
    "dev.off()"
   ]
  },
  {
   "cell_type": "code",
   "execution_count": 96,
   "id": "9823bffe-4953-4b4d-9875-0c5134a96d49",
   "metadata": {},
   "outputs": [],
   "source": [
    "write.csv(merge_cor_final,file = 'merge_cor_final.csv')"
   ]
  },
  {
   "cell_type": "code",
   "execution_count": 212,
   "id": "da2c76b7-d98e-40e5-8c0e-b4fd68800cca",
   "metadata": {},
   "outputs": [],
   "source": [
    "gene.ko  =read.table('./gene.ko.txt',header =T,sep = '\\t')"
   ]
  },
  {
   "cell_type": "code",
   "execution_count": 213,
   "id": "ca86476b-5ea1-46c5-b9fd-263395749d8d",
   "metadata": {},
   "outputs": [],
   "source": [
    "gene = gene.ko$ID"
   ]
  },
  {
   "cell_type": "code",
   "execution_count": 214,
   "id": "038ae637-9767-41fd-b8c6-d1073f61c282",
   "metadata": {},
   "outputs": [],
   "source": [
    "merge_cor_final1 = a %>% as.data.frame "
   ]
  },
  {
   "cell_type": "code",
   "execution_count": 215,
   "id": "bc8be623-906c-4b7d-b42f-1f44342ac784",
   "metadata": {},
   "outputs": [],
   "source": [
    "merge_cor_final1 = merge_cor_final1[gene,] %>%  na.omit()"
   ]
  },
  {
   "cell_type": "code",
   "execution_count": 216,
   "id": "68e7edf7-49f3-40b8-8053-ffc8729b78a0",
   "metadata": {},
   "outputs": [
    {
     "data": {
      "text/html": [
       "<style>\n",
       ".list-inline {list-style: none; margin:0; padding: 0}\n",
       ".list-inline>li {display: inline-block}\n",
       ".list-inline>li:not(:last-child)::after {content: \"\\00b7\"; padding: 0 .5ex}\n",
       "</style>\n",
       "<ol class=list-inline><li>54</li><li>23</li></ol>\n"
      ],
      "text/latex": [
       "\\begin{enumerate*}\n",
       "\\item 54\n",
       "\\item 23\n",
       "\\end{enumerate*}\n"
      ],
      "text/markdown": [
       "1. 54\n",
       "2. 23\n",
       "\n",
       "\n"
      ],
      "text/plain": [
       "[1] 54 23"
      ]
     },
     "metadata": {},
     "output_type": "display_data"
    }
   ],
   "source": [
    "dim(merge_cor_final1)"
   ]
  },
  {
   "cell_type": "code",
   "execution_count": 217,
   "id": "fba229c5-0e96-40a3-8ba3-08129a6fd075",
   "metadata": {},
   "outputs": [],
   "source": [
    "keggid= read.table('./KEGG.txt',header =F,sep = '\\t')"
   ]
  },
  {
   "cell_type": "code",
   "execution_count": 218,
   "id": "1ca253d3-7baf-45f7-8b24-f26b25fe23c3",
   "metadata": {},
   "outputs": [
    {
     "data": {
      "text/html": [
       "<style>\n",
       ".list-inline {list-style: none; margin:0; padding: 0}\n",
       ".list-inline>li {display: inline-block}\n",
       ".list-inline>li:not(:last-child)::after {content: \"\\00b7\"; padding: 0 .5ex}\n",
       "</style>\n",
       "<ol class=list-inline><li>'ID'</li><li>'KEGG_annotation'</li></ol>\n"
      ],
      "text/latex": [
       "\\begin{enumerate*}\n",
       "\\item 'ID'\n",
       "\\item 'KEGG\\_annotation'\n",
       "\\end{enumerate*}\n"
      ],
      "text/markdown": [
       "1. 'ID'\n",
       "2. 'KEGG_annotation'\n",
       "\n",
       "\n"
      ],
      "text/plain": [
       "[1] \"ID\"              \"KEGG_annotation\""
      ]
     },
     "metadata": {},
     "output_type": "display_data"
    }
   ],
   "source": [
    "colnames(gene.ko)"
   ]
  },
  {
   "cell_type": "code",
   "execution_count": 219,
   "id": "f86c1caa-eabe-40d8-a555-76b54fbc3688",
   "metadata": {},
   "outputs": [
    {
     "data": {
      "text/html": [
       "<table class=\"dataframe\">\n",
       "<caption>A data.frame: 1 x 3</caption>\n",
       "<thead>\n",
       "\t<tr><th></th><th scope=col>V1</th><th scope=col>V2</th><th scope=col>V3</th></tr>\n",
       "\t<tr><th></th><th scope=col>&lt;chr&gt;</th><th scope=col>&lt;chr&gt;</th><th scope=col>&lt;chr&gt;</th></tr>\n",
       "</thead>\n",
       "<tbody>\n",
       "\t<tr><th scope=row>1</th><td>K00864</td><td>glpK</td><td>ko04626</td></tr>\n",
       "</tbody>\n",
       "</table>\n"
      ],
      "text/latex": [
       "A data.frame: 1 x 3\n",
       "\\begin{tabular}{r|lll}\n",
       "  & V1 & V2 & V3\\\\\n",
       "  & <chr> & <chr> & <chr>\\\\\n",
       "\\hline\n",
       "\t1 & K00864 & glpK & ko04626\\\\\n",
       "\\end{tabular}\n"
      ],
      "text/markdown": [
       "\n",
       "A data.frame: 1 x 3\n",
       "\n",
       "| <!--/--> | V1 &lt;chr&gt; | V2 &lt;chr&gt; | V3 &lt;chr&gt; |\n",
       "|---|---|---|---|\n",
       "| 1 | K00864 | glpK | ko04626 |\n",
       "\n"
      ],
      "text/plain": [
       "  V1     V2   V3     \n",
       "1 K00864 glpK ko04626"
      ]
     },
     "metadata": {},
     "output_type": "display_data"
    }
   ],
   "source": [
    "head(keggid,1)"
   ]
  },
  {
   "cell_type": "code",
   "execution_count": 220,
   "id": "493a8571-b24f-42ba-a8f3-ee984a09c479",
   "metadata": {},
   "outputs": [],
   "source": [
    "c = merge(gene.ko,keggid,by.x = 'KEGG_annotation',by.y = 'V1')"
   ]
  },
  {
   "cell_type": "code",
   "execution_count": 222,
   "id": "bea4533e-464c-471a-8f44-aa072349bd35",
   "metadata": {},
   "outputs": [],
   "source": [
    "ko = c('ko04016','ko00904','ko04075','ko04626')"
   ]
  },
  {
   "cell_type": "code",
   "execution_count": 223,
   "id": "8033eeae-e2d2-4f38-b662-5103af96dcc9",
   "metadata": {},
   "outputs": [],
   "source": [
    "c1 = c[!duplicated(c$V2),] %>%  dplyr::filter(V3 %in%  ko) %>%  dplyr::select(ID,V2)"
   ]
  },
  {
   "cell_type": "code",
   "execution_count": null,
   "id": "c136bc7c-7e2e-443a-becd-a924290c43e4",
   "metadata": {},
   "outputs": [],
   "source": []
  },
  {
   "cell_type": "code",
   "execution_count": 224,
   "id": "ce5fa1f6-dff5-43bf-a9e4-f96ba119bdf9",
   "metadata": {},
   "outputs": [],
   "source": [
    "expr  = merge_cor_final1 %>% tibble::rownames_to_column('ID')"
   ]
  },
  {
   "cell_type": "code",
   "execution_count": 225,
   "id": "c5d20679-354d-4539-b2de-cacfa36b312f",
   "metadata": {},
   "outputs": [],
   "source": [
    "expr2 = left_join(c1,expr,by = 'ID') %>%  na.omit() "
   ]
  },
  {
   "cell_type": "code",
   "execution_count": 226,
   "id": "1084bf10-4263-4d71-9449-a6462d3b7fee",
   "metadata": {},
   "outputs": [],
   "source": [
    "rownames(expr2) = expr2[,2]\n",
    "expr3 = expr2[,-c(1,2)]"
   ]
  },
  {
   "cell_type": "code",
   "execution_count": 235,
   "id": "2b310868-9ba2-4bbf-94a4-ba67639b4fda",
   "metadata": {},
   "outputs": [
    {
     "name": "stderr",
     "output_type": "stream",
     "text": [
      "Warning message:\n",
      "\"package 'tidyr' was built under R version 4.2.3\"\n"
     ]
    }
   ],
   "source": [
    "library(tidyr)"
   ]
  },
  {
   "cell_type": "code",
   "execution_count": 236,
   "id": "587c925e-9cbc-4e91-a87a-2db2387d8a65",
   "metadata": {},
   "outputs": [],
   "source": [
    "expr4 = expr3 %>%  tibble::rownames_to_column(.,'gene')"
   ]
  },
  {
   "cell_type": "code",
   "execution_count": 244,
   "id": "0f9f4e95-5ff9-4cbb-b599-440f5229d919",
   "metadata": {},
   "outputs": [],
   "source": [
    "table_long <- expr4 %>% \n",
    "  pivot_longer(cols = -gene, names_to = \"metabolite\", values_to = \"cor\") %>%  dplyr::filter(cor != 0)"
   ]
  },
  {
   "cell_type": "code",
   "execution_count": null,
   "id": "dfca1a6c-a5d1-4b02-956f-b3f828c377f5",
   "metadata": {},
   "outputs": [],
   "source": []
  },
  {
   "cell_type": "code",
   "execution_count": 245,
   "id": "4f3bba31-35b8-4f65-8250-667572f8daca",
   "metadata": {},
   "outputs": [
    {
     "data": {
      "text/html": [
       "<table class=\"dataframe\">\n",
       "<caption>A tibble: 2 x 3</caption>\n",
       "<thead>\n",
       "\t<tr><th scope=col>gene</th><th scope=col>metabolite</th><th scope=col>cor</th></tr>\n",
       "\t<tr><th scope=col>&lt;chr&gt;</th><th scope=col>&lt;chr&gt;</th><th scope=col>&lt;dbl&gt;</th></tr>\n",
       "</thead>\n",
       "<tbody>\n",
       "\t<tr><td>E5.5.1.13</td><td><ef><bb><bf>cryptotanshinone</td><td>-0.9999803</td></tr>\n",
       "\t<tr><td>E4.2.3.19</td><td>sibieiquinone A             </td><td>-0.9999829</td></tr>\n",
       "</tbody>\n",
       "</table>\n"
      ],
      "text/latex": [
       "A tibble: 2 x 3\n",
       "\\begin{tabular}{lll}\n",
       " gene & metabolite & cor\\\\\n",
       " <chr> & <chr> & <dbl>\\\\\n",
       "\\hline\n",
       "\t E5.5.1.13 & <ef><bb><bf>cryptotanshinone & -0.9999803\\\\\n",
       "\t E4.2.3.19 & sibieiquinone A              & -0.9999829\\\\\n",
       "\\end{tabular}\n"
      ],
      "text/markdown": [
       "\n",
       "A tibble: 2 x 3\n",
       "\n",
       "| gene &lt;chr&gt; | metabolite &lt;chr&gt; | cor &lt;dbl&gt; |\n",
       "|---|---|---|\n",
       "| E5.5.1.13 | <ef><bb><bf>cryptotanshinone | -0.9999803 |\n",
       "| E4.2.3.19 | sibieiquinone A              | -0.9999829 |\n",
       "\n"
      ],
      "text/plain": [
       "  gene      metabolite                   cor       \n",
       "1 E5.5.1.13 \\357\\273\\277cryptotanshinone -0.9999803\n",
       "2 E4.2.3.19 sibieiquinone A              -0.9999829"
      ]
     },
     "metadata": {},
     "output_type": "display_data"
    }
   ],
   "source": [
    "head(table_long,2)"
   ]
  },
  {
   "cell_type": "code",
   "execution_count": 246,
   "id": "b68a4a8e-fc0a-40d3-a2f2-0c0e403a315b",
   "metadata": {},
   "outputs": [
    {
     "name": "stderr",
     "output_type": "stream",
     "text": [
      "Warning message in write.csv(table_long, file = \"table_long.csv\", quote = F, col.names = F, :\n",
      "\"attempt to set 'col.names' ignored\"\n"
     ]
    }
   ],
   "source": [
    "write.csv(table_long,file = 'table_long.csv',quote = F,col.names = F,row.names = F)"
   ]
  },
  {
   "cell_type": "code",
   "execution_count": null,
   "id": "9c276195-514a-438b-8fe6-801c03faaa78",
   "metadata": {},
   "outputs": [],
   "source": []
  },
  {
   "cell_type": "code",
   "execution_count": null,
   "id": "5b3b9e38-8a4e-4216-aedd-55f7c9fa1f1f",
   "metadata": {},
   "outputs": [],
   "source": []
  },
  {
   "cell_type": "code",
   "execution_count": null,
   "id": "db90a860-851b-4962-aa57-e5204d46935a",
   "metadata": {},
   "outputs": [],
   "source": []
  },
  {
   "cell_type": "code",
   "execution_count": null,
   "id": "40d9032e-2cf2-4f77-a08d-d29155432bbf",
   "metadata": {},
   "outputs": [],
   "source": []
  },
  {
   "cell_type": "code",
   "execution_count": null,
   "id": "3f4148af-810a-474a-b642-4ca722a5e598",
   "metadata": {},
   "outputs": [],
   "source": []
  },
  {
   "cell_type": "code",
   "execution_count": 228,
   "id": "39feac3f-bbd4-4a59-a0e0-43addc929bf8",
   "metadata": {},
   "outputs": [],
   "source": [
    "library(pheatmap)"
   ]
  },
  {
   "cell_type": "code",
   "execution_count": 229,
   "id": "211c9d63-f4d5-4c14-a4d5-dc94402770ac",
   "metadata": {},
   "outputs": [],
   "source": [
    "expr4 = expr3[,which(colSums(expr3) != 0)]"
   ]
  },
  {
   "cell_type": "code",
   "execution_count": 230,
   "id": "4c9def64-69fb-4993-a604-579c32101e46",
   "metadata": {},
   "outputs": [],
   "source": [
    "pmtout = expr4"
   ]
  },
  {
   "cell_type": "code",
   "execution_count": 231,
   "id": "66a47b45-3124-4c76-9e2c-060e51ee34cd",
   "metadata": {},
   "outputs": [],
   "source": [
    "\n",
    "    if(!is.null(pmtout)){\n",
    "    ssmt <- pmtout< 0\n",
    "    pmtout[ssmt] <- '**'\n",
    "    smt <- pmtout > 0.01& pmtout < 1\n",
    "    pmtout[smt] <- '**'\n",
    "    pmtout[!ssmt&!smt]<- ''\n",
    "    } else{\n",
    "    pmtout <- F\n",
    "    }"
   ]
  },
  {
   "cell_type": "code",
   "execution_count": 232,
   "id": "f3173500-4ad0-4563-a6da-20e6c22c5b26",
   "metadata": {},
   "outputs": [],
   "source": [
    "mycol<-colorRampPalette(c(\"blue\",\"white\",\"tomato\"))(800)"
   ]
  },
  {
   "cell_type": "code",
   "execution_count": null,
   "id": "2dad9942-8d6a-42b3-96a9-ce97800c7751",
   "metadata": {},
   "outputs": [],
   "source": []
  },
  {
   "cell_type": "code",
   "execution_count": 234,
   "id": "24e7c355-7665-4f9e-bfb6-1b85d1dfb536",
   "metadata": {},
   "outputs": [
    {
     "data": {
      "text/html": [
       "<strong>png:</strong> 2"
      ],
      "text/latex": [
       "\\textbf{png:} 2"
      ],
      "text/markdown": [
       "**png:** 2"
      ],
      "text/plain": [
       "png \n",
       "  2 "
      ]
     },
     "metadata": {},
     "output_type": "display_data"
    },
    {
     "data": {
      "image/png": "[encoded data removed]",
      "text/plain": [
       "plot without title"
      ]
     },
     "metadata": {
      "image/png": {
       "height": 540,
       "width": 360
      }
     },
     "output_type": "display_data"
    }
   ],
   "source": [
    " p = pheatmap(expr4,scale = \"none\",cluster_row = T, cluster_col = F, border='black',\n",
    "    fontsize_number = 12, number_color = \"white\",  display_numbers = pmtout,\n",
    "    cellwidth = 20, cellheight =20,color=mycol)\n",
    "\n",
    "pdf(paste0(ko,'.pdf'))\n",
    "p\n",
    "dev.off()"
   ]
  },
  {
   "cell_type": "code",
   "execution_count": null,
   "id": "efc34ace-a816-447d-a84b-5722f5fc966d",
   "metadata": {},
   "outputs": [],
   "source": []
  }
 ],
 "metadata": {
  "kernelspec": {
   "display_name": "R",
   "language": "R",
   "name": "ir"
  },
  "language_info": {
   "codemirror_mode": "r",
   "file_extension": ".r",
   "mimetype": "text/x-r-source",
   "name": "R",
   "pygments_lexer": "r",
   "version": "4.2.1"
  }
 },
 "nbformat": 4,
 "nbformat_minor": 5
}
