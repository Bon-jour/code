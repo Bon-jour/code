{
 "cells": [
  {
   "cell_type": "code",
   "execution_count": 315,
   "id": "40be860c-9e14-48ea-b406-c8d92efd2af8",
   "metadata": {},
   "outputs": [],
   "source": [
    "setwd('/import/metabolites/1600')"
   ]
  },
  {
   "cell_type": "code",
   "execution_count": 316,
   "id": "1ae6bde8-ba02-4b86-8b83-2f89980a66b6",
   "metadata": {},
   "outputs": [],
   "source": [
    "expr = read.table('./BMK_1_Control_vs_JD4/BMK_2_DEG_Cluster/Control_vs_JD4.txt',row.names = 1,sep = '\\t',header =T)"
   ]
  },
  {
   "cell_type": "code",
   "execution_count": 317,
   "id": "374fce8f-ffde-4b99-a61f-673ad23f8dc6",
   "metadata": {},
   "outputs": [],
   "source": [
    "expr1 = expr[,c(4,5,6)]"
   ]
  },
  {
   "cell_type": "code",
   "execution_count": 318,
   "id": "b0a445d2-f0da-4455-9cfa-d7f5366b6a9c",
   "metadata": {},
   "outputs": [
    {
     "data": {
      "text/html": [
       "<table class=\"dataframe\">\n",
       "<caption>A data.frame: 2 x 6</caption>\n",
       "<thead>\n",
       "\t<tr><th></th><th scope=col>Control.1</th><th scope=col>Control.2</th><th scope=col>Control.3</th><th scope=col>JD4.1</th><th scope=col>JD4.2</th><th scope=col>JD4.3</th></tr>\n",
       "\t<tr><th></th><th scope=col>&lt;dbl&gt;</th><th scope=col>&lt;dbl&gt;</th><th scope=col>&lt;dbl&gt;</th><th scope=col>&lt;dbl&gt;</th><th scope=col>&lt;dbl&gt;</th><th scope=col>&lt;dbl&gt;</th></tr>\n",
       "</thead>\n",
       "<tbody>\n",
       "\t<tr><th scope=row>evm.TU.scaffold520.10</th><td> 1.360437</td><td>0.573533</td><td> 1.271172</td><td> 1.327511</td><td> 6.895074</td><td> 5.610351</td></tr>\n",
       "\t<tr><th scope=row>evm.TU.scaffold1510.12</th><td>12.019589</td><td>8.107336</td><td>11.577633</td><td>14.151673</td><td>23.863295</td><td>24.401491</td></tr>\n",
       "</tbody>\n",
       "</table>\n"
      ],
      "text/latex": [
       "A data.frame: 2 x 6\n",
       "\\begin{tabular}{r|llllll}\n",
       "  & Control.1 & Control.2 & Control.3 & JD4.1 & JD4.2 & JD4.3\\\\\n",
       "  & <dbl> & <dbl> & <dbl> & <dbl> & <dbl> & <dbl>\\\\\n",
       "\\hline\n",
       "\tevm.TU.scaffold520.10 &  1.360437 & 0.573533 &  1.271172 &  1.327511 &  6.895074 &  5.610351\\\\\n",
       "\tevm.TU.scaffold1510.12 & 12.019589 & 8.107336 & 11.577633 & 14.151673 & 23.863295 & 24.401491\\\\\n",
       "\\end{tabular}\n"
      ],
      "text/markdown": [
       "\n",
       "A data.frame: 2 x 6\n",
       "\n",
       "| <!--/--> | Control.1 &lt;dbl&gt; | Control.2 &lt;dbl&gt; | Control.3 &lt;dbl&gt; | JD4.1 &lt;dbl&gt; | JD4.2 &lt;dbl&gt; | JD4.3 &lt;dbl&gt; |\n",
       "|---|---|---|---|---|---|---|\n",
       "| evm.TU.scaffold520.10 |  1.360437 | 0.573533 |  1.271172 |  1.327511 |  6.895074 |  5.610351 |\n",
       "| evm.TU.scaffold1510.12 | 12.019589 | 8.107336 | 11.577633 | 14.151673 | 23.863295 | 24.401491 |\n",
       "\n"
      ],
      "text/plain": [
       "                       Control.1 Control.2 Control.3 JD4.1     JD4.2    \n",
       "evm.TU.scaffold520.10   1.360437 0.573533   1.271172  1.327511  6.895074\n",
       "evm.TU.scaffold1510.12 12.019589 8.107336  11.577633 14.151673 23.863295\n",
       "                       JD4.3    \n",
       "evm.TU.scaffold520.10   5.610351\n",
       "evm.TU.scaffold1510.12 24.401491"
      ]
     },
     "metadata": {},
     "output_type": "display_data"
    }
   ],
   "source": [
    "head(expr,2)"
   ]
  },
  {
   "cell_type": "code",
   "execution_count": 320,
   "id": "0a69c300-e9d2-45ed-b399-25a40d159b9f",
   "metadata": {},
   "outputs": [],
   "source": [
    "library(readxl)"
   ]
  },
  {
   "cell_type": "code",
   "execution_count": 321,
   "id": "f890c985-95d6-4b61-8592-1e8d0bf14b7f",
   "metadata": {},
   "outputs": [],
   "source": [
    "meta = read_xlsx('./4vs3(1).xlsx')"
   ]
  },
  {
   "cell_type": "code",
   "execution_count": 322,
   "id": "b4ddd6cf-30ba-4247-a1cf-f60580430108",
   "metadata": {},
   "outputs": [],
   "source": [
    "meta1 = meta[,c('Name','Norm. Area: 4-4-1.raw (F10)','Norm. Area: 4-4-2.raw (F11)','Norm. Area: 4-4-3.raw (F12)')]"
   ]
  },
  {
   "cell_type": "code",
   "execution_count": 323,
   "id": "c524413b-416c-42ef-8def-a71b1978641e",
   "metadata": {},
   "outputs": [],
   "source": [
    "library(dplyr)"
   ]
  },
  {
   "cell_type": "code",
   "execution_count": 324,
   "id": "9981dbec-30c9-47d3-9001-afe212ed7a3f",
   "metadata": {},
   "outputs": [],
   "source": [
    "meta1 = meta1 %>% tibble::column_to_rownames(.,'Name') "
   ]
  },
  {
   "cell_type": "code",
   "execution_count": 325,
   "id": "738bd6b9-64c1-42f5-a7ba-bb1510c8f928",
   "metadata": {},
   "outputs": [],
   "source": [
    "colnames(meta1) = colnames(expr1)"
   ]
  },
  {
   "cell_type": "code",
   "execution_count": 326,
   "id": "c332403d-6c75-44c4-8fa9-2ae344e228e5",
   "metadata": {},
   "outputs": [],
   "source": [
    "expr1 = as.data.frame(t(expr1))\n",
    "meta1 = as.data.frame(t(meta1))"
   ]
  },
  {
   "cell_type": "code",
   "execution_count": 327,
   "id": "322d9374-3c29-4126-9614-72e2ac833190",
   "metadata": {
    "scrolled": true
   },
   "outputs": [
    {
     "name": "stderr",
     "output_type": "stream",
     "text": [
      "Warning message in cor(x, y, use = use, method = method):\n",
      "\"the standard deviation is zero\"\n",
      "Warning message in corr.test(expr1, meta1, method = \"pearson\"):\n",
      "\"Number of subjects must be greater than 3 to find confidence intervals.\"\n"
     ]
    }
   ],
   "source": [
    "library(psych)#R包psych中的命令corr.test()提供了在计算变量间相关系数的同时执行显著性检验的方法。\n",
    "merge_cor<- corr.test(expr1, meta1, method = 'pearson')"
   ]
  },
  {
   "cell_type": "code",
   "execution_count": null,
   "id": "e7c407f4-4feb-4fff-b0c8-1671235641eb",
   "metadata": {},
   "outputs": [],
   "source": [
    "#merge_cor.raw = merge_cor"
   ]
  },
  {
   "cell_type": "code",
   "execution_count": 328,
   "id": "42e54bfe-f3de-4482-ab67-a0bdcd45b838",
   "metadata": {
    "scrolled": true
   },
   "outputs": [],
   "source": [
    "merge_cor = merge_cor.raw\n",
    "merge_cor$p[merge_cor$p >= 0.01] <- -1#筛选，例如在“merge_cor”中，根据 p(<0.05) 值和 r(>=0.5 or <=-0.5) 值做保留\n",
    "merge_cor$p[merge_cor$p < 0.01 & merge_cor$p >= 0] <- 1\n",
    "merge_cor$p[merge_cor$p == -1] <- 0\n",
    "merge_cor$r[abs(merge_cor$r) < 0.8] <- 0\n",
    "merge_cor_final <- merge_cor$r * merge_cor$p\n",
    "merge_cor_final = na.omit(merge_cor_final)\n",
    "#write.csv(merge_cor_final, 'merge_cor_final.csv', quote = FALSE)"
   ]
  },
  {
   "cell_type": "code",
   "execution_count": 329,
   "id": "1e7eeb12-4c64-41f4-8373-2e0f1bfd0176",
   "metadata": {},
   "outputs": [],
   "source": [
    "a = merge_cor_final[which(rowSums(merge_cor_final) != 0),]"
   ]
  },
  {
   "cell_type": "code",
   "execution_count": 330,
   "id": "66fc71ed-5c2a-46ef-9570-235c5ba794cc",
   "metadata": {},
   "outputs": [
    {
     "data": {
      "text/html": [
       "<style>\n",
       ".list-inline {list-style: none; margin:0; padding: 0}\n",
       ".list-inline>li {display: inline-block}\n",
       ".list-inline>li:not(:last-child)::after {content: \"\\00b7\"; padding: 0 .5ex}\n",
       "</style>\n",
       "<ol class=list-inline><li>731</li><li>23</li></ol>\n"
      ],
      "text/latex": [
       "\\begin{enumerate*}\n",
       "\\item 731\n",
       "\\item 23\n",
       "\\end{enumerate*}\n"
      ],
      "text/markdown": [
       "1. 731\n",
       "2. 23\n",
       "\n",
       "\n"
      ],
      "text/plain": [
       "[1] 731  23"
      ]
     },
     "metadata": {},
     "output_type": "display_data"
    }
   ],
   "source": [
    "dim(a)"
   ]
  },
  {
   "cell_type": "code",
   "execution_count": 331,
   "id": "0511a494-5875-42d8-9337-0e11805e22c1",
   "metadata": {},
   "outputs": [
    {
     "data": {
      "text/html": [
       "<table class=\"dataframe\">\n",
       "<caption>A matrix: 4 x 23 of type dbl</caption>\n",
       "<thead>\n",
       "\t<tr><th></th><th scope=col>Cryptotanshinone</th><th scope=col>tanshinoneV</th><th scope=col>sibieiquinone A</th><th scope=col>17-hydroxytanshindiol B</th><th scope=col>isotanshinone 2A</th><th scope=col>3-hydroxymethylenetanshi nquinone</th><th scope=col>Tanshindiol C</th><th scope=col>norsalvioxide</th><th scope=col>Succinic acid</th><th scope=col>miltionone</th><th scope=col>...</th><th scope=col>(+)-Lithospermic acid</th><th scope=col>Methyl 1,6-dimethyl-10,11-dioxo-1,2,6,7,8,9,10,11-octahydrophenanthro[1,2-b]furan-6-carboxylate</th><th scope=col>3-Hydroxy-2-isopropyl-8,8-dimethyl-5,6,7,8-tetrahydro-1,4-phenanthrenedione</th><th scope=col>Methyl tanshinonate</th><th scope=col>Tanshinon I</th><th scope=col>miltirone</th><th scope=col>1,6-Dimethyl-1,2,8,9-tetrahydrophenanthro[1,2-b]furan-10,11-dione</th><th scope=col>Tanshinone IIA</th><th scope=col>microstegiol</th><th scope=col>salvinone</th></tr>\n",
       "</thead>\n",
       "<tbody>\n",
       "\t<tr><th scope=row>NewGene_774</th><td> 0.0000000</td><td>0</td><td>0</td><td>0</td><td>0</td><td>0</td><td>0.0000000</td><td>0</td><td>0</td><td>0</td><td>...</td><td>0</td><td> 0.0000000</td><td>0</td><td>-0.9999991</td><td>0</td><td>0</td><td>0</td><td> 0.0000000</td><td>0</td><td>0</td></tr>\n",
       "\t<tr><th scope=row>evm.TU.C207621.1</th><td> 0.0000000</td><td>0</td><td>0</td><td>0</td><td>0</td><td>0</td><td>0.0000000</td><td>0</td><td>0</td><td>0</td><td>...</td><td>0</td><td> 0.0000000</td><td>0</td><td> 0.0000000</td><td>0</td><td>0</td><td>0</td><td>-0.9999982</td><td>0</td><td>0</td></tr>\n",
       "\t<tr><th scope=row>NewGene_9213</th><td>-0.9999186</td><td>0</td><td>0</td><td>0</td><td>0</td><td>0</td><td>0.0000000</td><td>0</td><td>0</td><td>0</td><td>...</td><td>0</td><td> 0.0000000</td><td>0</td><td> 0.0000000</td><td>0</td><td>0</td><td>0</td><td> 0.0000000</td><td>0</td><td>0</td></tr>\n",
       "\t<tr><th scope=row>evm.TU.scaffold8469.2</th><td> 0.0000000</td><td>0</td><td>0</td><td>0</td><td>0</td><td>0</td><td>0.9999608</td><td>0</td><td>0</td><td>0</td><td>...</td><td>0</td><td>-0.9999754</td><td>0</td><td> 0.0000000</td><td>0</td><td>0</td><td>0</td><td> 0.0000000</td><td>0</td><td>0</td></tr>\n",
       "</tbody>\n",
       "</table>\n"
      ],
      "text/latex": [
       "A matrix: 4 x 23 of type dbl\n",
       "\\begin{tabular}{r|lllllllllllllllllllll}\n",
       "  & Cryptotanshinone & tanshinoneV & sibieiquinone A & 17-hydroxytanshindiol B & isotanshinone 2A & 3-hydroxymethylenetanshi nquinone & Tanshindiol C & norsalvioxide & Succinic acid & miltionone & ... & (+)-Lithospermic acid & Methyl 1,6-dimethyl-10,11-dioxo-1,2,6,7,8,9,10,11-octahydrophenanthro{[}1,2-b{]}furan-6-carboxylate & 3-Hydroxy-2-isopropyl-8,8-dimethyl-5,6,7,8-tetrahydro-1,4-phenanthrenedione & Methyl tanshinonate & Tanshinon I & miltirone & 1,6-Dimethyl-1,2,8,9-tetrahydrophenanthro{[}1,2-b{]}furan-10,11-dione & Tanshinone IIA & microstegiol & salvinone\\\\\n",
       "\\hline\n",
       "\tNewGene\\_774 &  0.0000000 & 0 & 0 & 0 & 0 & 0 & 0.0000000 & 0 & 0 & 0 & ... & 0 &  0.0000000 & 0 & -0.9999991 & 0 & 0 & 0 &  0.0000000 & 0 & 0\\\\\n",
       "\tevm.TU.C207621.1 &  0.0000000 & 0 & 0 & 0 & 0 & 0 & 0.0000000 & 0 & 0 & 0 & ... & 0 &  0.0000000 & 0 &  0.0000000 & 0 & 0 & 0 & -0.9999982 & 0 & 0\\\\\n",
       "\tNewGene\\_9213 & -0.9999186 & 0 & 0 & 0 & 0 & 0 & 0.0000000 & 0 & 0 & 0 & ... & 0 &  0.0000000 & 0 &  0.0000000 & 0 & 0 & 0 &  0.0000000 & 0 & 0\\\\\n",
       "\tevm.TU.scaffold8469.2 &  0.0000000 & 0 & 0 & 0 & 0 & 0 & 0.9999608 & 0 & 0 & 0 & ... & 0 & -0.9999754 & 0 &  0.0000000 & 0 & 0 & 0 &  0.0000000 & 0 & 0\\\\\n",
       "\\end{tabular}\n"
      ],
      "text/markdown": [
       "\n",
       "A matrix: 4 x 23 of type dbl\n",
       "\n",
       "| <!--/--> | Cryptotanshinone | tanshinoneV | sibieiquinone A | 17-hydroxytanshindiol B | isotanshinone 2A | 3-hydroxymethylenetanshi nquinone | Tanshindiol C | norsalvioxide | Succinic acid | miltionone | ... | (+)-Lithospermic acid | Methyl 1,6-dimethyl-10,11-dioxo-1,2,6,7,8,9,10,11-octahydrophenanthro[1,2-b]furan-6-carboxylate | 3-Hydroxy-2-isopropyl-8,8-dimethyl-5,6,7,8-tetrahydro-1,4-phenanthrenedione | Methyl tanshinonate | Tanshinon I | miltirone | 1,6-Dimethyl-1,2,8,9-tetrahydrophenanthro[1,2-b]furan-10,11-dione | Tanshinone IIA | microstegiol | salvinone |\n",
       "|---|---|---|---|---|---|---|---|---|---|---|---|---|---|---|---|---|---|---|---|---|---|\n",
       "| NewGene_774 |  0.0000000 | 0 | 0 | 0 | 0 | 0 | 0.0000000 | 0 | 0 | 0 | ... | 0 |  0.0000000 | 0 | -0.9999991 | 0 | 0 | 0 |  0.0000000 | 0 | 0 |\n",
       "| evm.TU.C207621.1 |  0.0000000 | 0 | 0 | 0 | 0 | 0 | 0.0000000 | 0 | 0 | 0 | ... | 0 |  0.0000000 | 0 |  0.0000000 | 0 | 0 | 0 | -0.9999982 | 0 | 0 |\n",
       "| NewGene_9213 | -0.9999186 | 0 | 0 | 0 | 0 | 0 | 0.0000000 | 0 | 0 | 0 | ... | 0 |  0.0000000 | 0 |  0.0000000 | 0 | 0 | 0 |  0.0000000 | 0 | 0 |\n",
       "| evm.TU.scaffold8469.2 |  0.0000000 | 0 | 0 | 0 | 0 | 0 | 0.9999608 | 0 | 0 | 0 | ... | 0 | -0.9999754 | 0 |  0.0000000 | 0 | 0 | 0 |  0.0000000 | 0 | 0 |\n",
       "\n"
      ],
      "text/plain": [
       "                      Cryptotanshinone tanshinoneV sibieiquinone A\n",
       "NewGene_774            0.0000000       0           0              \n",
       "evm.TU.C207621.1       0.0000000       0           0              \n",
       "NewGene_9213          -0.9999186       0           0              \n",
       "evm.TU.scaffold8469.2  0.0000000       0           0              \n",
       "                      17-hydroxytanshindiol B isotanshinone 2A\n",
       "NewGene_774           0                       0               \n",
       "evm.TU.C207621.1      0                       0               \n",
       "NewGene_9213          0                       0               \n",
       "evm.TU.scaffold8469.2 0                       0               \n",
       "                      3-hydroxymethylenetanshi nquinone Tanshindiol C\n",
       "NewGene_774           0                                 0.0000000    \n",
       "evm.TU.C207621.1      0                                 0.0000000    \n",
       "NewGene_9213          0                                 0.0000000    \n",
       "evm.TU.scaffold8469.2 0                                 0.9999608    \n",
       "                      norsalvioxide Succinic acid miltionone ...\n",
       "NewGene_774           0             0             0          ...\n",
       "evm.TU.C207621.1      0             0             0          ...\n",
       "NewGene_9213          0             0             0          ...\n",
       "evm.TU.scaffold8469.2 0             0             0          ...\n",
       "                      (+)-Lithospermic acid\n",
       "NewGene_774           0                    \n",
       "evm.TU.C207621.1      0                    \n",
       "NewGene_9213          0                    \n",
       "evm.TU.scaffold8469.2 0                    \n",
       "                      Methyl 1,6-dimethyl-10,11-dioxo-1,2,6,7,8,9,10,11-octahydrophenanthro[1,2-b]furan-6-carboxylate\n",
       "NewGene_774            0.0000000                                                                                     \n",
       "evm.TU.C207621.1       0.0000000                                                                                     \n",
       "NewGene_9213           0.0000000                                                                                     \n",
       "evm.TU.scaffold8469.2 -0.9999754                                                                                     \n",
       "                      3-Hydroxy-2-isopropyl-8,8-dimethyl-5,6,7,8-tetrahydro-1,4-phenanthrenedione\n",
       "NewGene_774           0                                                                          \n",
       "evm.TU.C207621.1      0                                                                          \n",
       "NewGene_9213          0                                                                          \n",
       "evm.TU.scaffold8469.2 0                                                                          \n",
       "                      Methyl tanshinonate Tanshinon I miltirone\n",
       "NewGene_774           -0.9999991          0           0        \n",
       "evm.TU.C207621.1       0.0000000          0           0        \n",
       "NewGene_9213           0.0000000          0           0        \n",
       "evm.TU.scaffold8469.2  0.0000000          0           0        \n",
       "                      1,6-Dimethyl-1,2,8,9-tetrahydrophenanthro[1,2-b]furan-10,11-dione\n",
       "NewGene_774           0                                                                \n",
       "evm.TU.C207621.1      0                                                                \n",
       "NewGene_9213          0                                                                \n",
       "evm.TU.scaffold8469.2 0                                                                \n",
       "                      Tanshinone IIA microstegiol salvinone\n",
       "NewGene_774            0.0000000     0            0        \n",
       "evm.TU.C207621.1      -0.9999982     0            0        \n",
       "NewGene_9213           0.0000000     0            0        \n",
       "evm.TU.scaffold8469.2  0.0000000     0            0        "
      ]
     },
     "metadata": {},
     "output_type": "display_data"
    }
   ],
   "source": [
    "head(a,4)"
   ]
  },
  {
   "cell_type": "code",
   "execution_count": 332,
   "id": "eaa44724-8dad-4627-b8f0-02f4227d4bc2",
   "metadata": {},
   "outputs": [],
   "source": [
    "name = read.csv('./name.csv',header =F)"
   ]
  },
  {
   "cell_type": "code",
   "execution_count": 333,
   "id": "426fab94-d238-4dbf-84cb-8e55f7709984",
   "metadata": {},
   "outputs": [
    {
     "data": {
      "text/html": [
       "<table class=\"dataframe\">\n",
       "<caption>A data.frame: 3 x 2</caption>\n",
       "<thead>\n",
       "\t<tr><th></th><th scope=col>V1</th><th scope=col>V2</th></tr>\n",
       "\t<tr><th></th><th scope=col>&lt;chr&gt;</th><th scope=col>&lt;chr&gt;</th></tr>\n",
       "</thead>\n",
       "<tbody>\n",
       "\t<tr><th scope=row>1</th><td><ef><bb><bf>cryptotanshinone</td><td>Cryptotanshinone</td></tr>\n",
       "\t<tr><th scope=row>2</th><td>tanshinoneV                 </td><td>tanshinoneV     </td></tr>\n",
       "\t<tr><th scope=row>3</th><td>sibieiquinone A             </td><td>sibieiquinone A </td></tr>\n",
       "</tbody>\n",
       "</table>\n"
      ],
      "text/latex": [
       "A data.frame: 3 x 2\n",
       "\\begin{tabular}{r|ll}\n",
       "  & V1 & V2\\\\\n",
       "  & <chr> & <chr>\\\\\n",
       "\\hline\n",
       "\t1 & <ef><bb><bf>cryptotanshinone & Cryptotanshinone\\\\\n",
       "\t2 & tanshinoneV                  & tanshinoneV     \\\\\n",
       "\t3 & sibieiquinone A              & sibieiquinone A \\\\\n",
       "\\end{tabular}\n"
      ],
      "text/markdown": [
       "\n",
       "A data.frame: 3 x 2\n",
       "\n",
       "| <!--/--> | V1 &lt;chr&gt; | V2 &lt;chr&gt; |\n",
       "|---|---|---|\n",
       "| 1 | <ef><bb><bf>cryptotanshinone | Cryptotanshinone |\n",
       "| 2 | tanshinoneV                  | tanshinoneV      |\n",
       "| 3 | sibieiquinone A              | sibieiquinone A  |\n",
       "\n"
      ],
      "text/plain": [
       "  V1                           V2              \n",
       "1 \\357\\273\\277cryptotanshinone Cryptotanshinone\n",
       "2 tanshinoneV                  tanshinoneV     \n",
       "3 sibieiquinone A              sibieiquinone A "
      ]
     },
     "metadata": {},
     "output_type": "display_data"
    }
   ],
   "source": [
    "head(name,3)"
   ]
  },
  {
   "cell_type": "code",
   "execution_count": 334,
   "id": "55331b6f-59d0-4dca-a1a6-0098f7a5ab13",
   "metadata": {},
   "outputs": [],
   "source": [
    "colnames(a) = name$V1"
   ]
  },
  {
   "cell_type": "code",
   "execution_count": 255,
   "id": "e6fca34f-09a1-4a19-9aa3-c3ad729bd037",
   "metadata": {},
   "outputs": [],
   "source": [
    "# https://www.coder.work/article/6614040"
   ]
  },
  {
   "cell_type": "code",
   "execution_count": 256,
   "id": "69fc8911-18f5-40e8-b145-3f6de1534212",
   "metadata": {},
   "outputs": [
    {
     "data": {
      "text/html": [
       "<strong>null device:</strong> 1"
      ],
      "text/latex": [
       "\\textbf{null device:} 1"
      ],
      "text/markdown": [
       "**null device:** 1"
      ],
      "text/plain": [
       "null device \n",
       "          1 "
      ]
     },
     "metadata": {},
     "output_type": "display_data"
    }
   ],
   "source": [
    "dev.off()"
   ]
  },
  {
   "cell_type": "code",
   "execution_count": 211,
   "id": "10c4429c-b850-4a03-9e0d-f111adb57ec3",
   "metadata": {},
   "outputs": [],
   "source": [
    "options(repr.plot.width = 6,repr.plot.height = 9)"
   ]
  },
  {
   "cell_type": "code",
   "execution_count": 23,
   "id": "7b94ec08-ec0b-4574-8b7f-4f7bad325f27",
   "metadata": {},
   "outputs": [
    {
     "name": "stderr",
     "output_type": "stream",
     "text": [
      "Warning message:\n",
      "\"package 'corrplot' was built under R version 4.2.3\"\n",
      "corrplot 0.92 loaded\n",
      "\n"
     ]
    },
    {
     "data": {
      "text/html": [
       "<strong>png:</strong> 2"
      ],
      "text/latex": [
       "\\textbf{png:} 2"
      ],
      "text/markdown": [
       "**png:** 2"
      ],
      "text/plain": [
       "png \n",
       "  2 "
      ]
     },
     "metadata": {},
     "output_type": "display_data"
    }
   ],
   "source": [
    "\n",
    "pdf('heatmap1.pdf',width = 6,height = 9)\n",
    "library(corrplot)#使用corrplot包中的corrplot()命令对相关性数据进行可视化展示   \n",
    "corrplot(a, method = 'number', number.cex = 0.5, diag = FALSE, tl.cex = 0.4)\n",
    "corrplot(a, add = TRUE, type = 'upper', method = 'pie', diag = FALSE,\n",
    "         tl.pos = 'n', cl.pos = 'n', tl.cex=2)\n",
    "#corrplot(a, method = 'pie')#饼图\n",
    "dev.off()"
   ]
  },
  {
   "cell_type": "code",
   "execution_count": 96,
   "id": "9823bffe-4953-4b4d-9875-0c5134a96d49",
   "metadata": {},
   "outputs": [],
   "source": [
    "write.csv(merge_cor_final,file = 'merge_cor_final.csv')"
   ]
  },
  {
   "cell_type": "code",
   "execution_count": 335,
   "id": "da2c76b7-d98e-40e5-8c0e-b4fd68800cca",
   "metadata": {},
   "outputs": [],
   "source": [
    "gene.ko  =read.table('./gene.ko.txt',header =T,sep = '\\t')"
   ]
  },
  {
   "cell_type": "code",
   "execution_count": 336,
   "id": "ca86476b-5ea1-46c5-b9fd-263395749d8d",
   "metadata": {},
   "outputs": [],
   "source": [
    "gene = gene.ko$ID"
   ]
  },
  {
   "cell_type": "code",
   "execution_count": 337,
   "id": "038ae637-9767-41fd-b8c6-d1073f61c282",
   "metadata": {},
   "outputs": [],
   "source": [
    "merge_cor_final1 = a %>% as.data.frame "
   ]
  },
  {
   "cell_type": "code",
   "execution_count": 338,
   "id": "bc8be623-906c-4b7d-b42f-1f44342ac784",
   "metadata": {},
   "outputs": [],
   "source": [
    "merge_cor_final1 = merge_cor_final1[gene,] %>%  na.omit()"
   ]
  },
  {
   "cell_type": "code",
   "execution_count": 339,
   "id": "68e7edf7-49f3-40b8-8053-ffc8729b78a0",
   "metadata": {},
   "outputs": [
    {
     "data": {
      "text/html": [
       "<style>\n",
       ".list-inline {list-style: none; margin:0; padding: 0}\n",
       ".list-inline>li {display: inline-block}\n",
       ".list-inline>li:not(:last-child)::after {content: \"\\00b7\"; padding: 0 .5ex}\n",
       "</style>\n",
       "<ol class=list-inline><li>54</li><li>23</li></ol>\n"
      ],
      "text/latex": [
       "\\begin{enumerate*}\n",
       "\\item 54\n",
       "\\item 23\n",
       "\\end{enumerate*}\n"
      ],
      "text/markdown": [
       "1. 54\n",
       "2. 23\n",
       "\n",
       "\n"
      ],
      "text/plain": [
       "[1] 54 23"
      ]
     },
     "metadata": {},
     "output_type": "display_data"
    }
   ],
   "source": [
    "dim(merge_cor_final1)"
   ]
  },
  {
   "cell_type": "code",
   "execution_count": 341,
   "id": "fba229c5-0e96-40a3-8ba3-08129a6fd075",
   "metadata": {},
   "outputs": [],
   "source": [
    "keggid= read.table('./KEGG.txt',header =F,sep = '\\t')"
   ]
  },
  {
   "cell_type": "code",
   "execution_count": 342,
   "id": "1ca253d3-7baf-45f7-8b24-f26b25fe23c3",
   "metadata": {},
   "outputs": [
    {
     "data": {
      "text/html": [
       "<style>\n",
       ".list-inline {list-style: none; margin:0; padding: 0}\n",
       ".list-inline>li {display: inline-block}\n",
       ".list-inline>li:not(:last-child)::after {content: \"\\00b7\"; padding: 0 .5ex}\n",
       "</style>\n",
       "<ol class=list-inline><li>'ID'</li><li>'KEGG_annotation'</li></ol>\n"
      ],
      "text/latex": [
       "\\begin{enumerate*}\n",
       "\\item 'ID'\n",
       "\\item 'KEGG\\_annotation'\n",
       "\\end{enumerate*}\n"
      ],
      "text/markdown": [
       "1. 'ID'\n",
       "2. 'KEGG_annotation'\n",
       "\n",
       "\n"
      ],
      "text/plain": [
       "[1] \"ID\"              \"KEGG_annotation\""
      ]
     },
     "metadata": {},
     "output_type": "display_data"
    }
   ],
   "source": [
    "colnames(gene.ko)"
   ]
  },
  {
   "cell_type": "code",
   "execution_count": 343,
   "id": "f86c1caa-eabe-40d8-a555-76b54fbc3688",
   "metadata": {},
   "outputs": [
    {
     "data": {
      "text/html": [
       "<table class=\"dataframe\">\n",
       "<caption>A data.frame: 1 x 3</caption>\n",
       "<thead>\n",
       "\t<tr><th></th><th scope=col>V1</th><th scope=col>V2</th><th scope=col>V3</th></tr>\n",
       "\t<tr><th></th><th scope=col>&lt;chr&gt;</th><th scope=col>&lt;chr&gt;</th><th scope=col>&lt;chr&gt;</th></tr>\n",
       "</thead>\n",
       "<tbody>\n",
       "\t<tr><th scope=row>1</th><td>K00864</td><td>glpK</td><td>ko04626</td></tr>\n",
       "</tbody>\n",
       "</table>\n"
      ],
      "text/latex": [
       "A data.frame: 1 x 3\n",
       "\\begin{tabular}{r|lll}\n",
       "  & V1 & V2 & V3\\\\\n",
       "  & <chr> & <chr> & <chr>\\\\\n",
       "\\hline\n",
       "\t1 & K00864 & glpK & ko04626\\\\\n",
       "\\end{tabular}\n"
      ],
      "text/markdown": [
       "\n",
       "A data.frame: 1 x 3\n",
       "\n",
       "| <!--/--> | V1 &lt;chr&gt; | V2 &lt;chr&gt; | V3 &lt;chr&gt; |\n",
       "|---|---|---|---|\n",
       "| 1 | K00864 | glpK | ko04626 |\n",
       "\n"
      ],
      "text/plain": [
       "  V1     V2   V3     \n",
       "1 K00864 glpK ko04626"
      ]
     },
     "metadata": {},
     "output_type": "display_data"
    }
   ],
   "source": [
    "head(keggid,1)"
   ]
  },
  {
   "cell_type": "code",
   "execution_count": 344,
   "id": "493a8571-b24f-42ba-a8f3-ee984a09c479",
   "metadata": {},
   "outputs": [],
   "source": [
    "c = merge(gene.ko,keggid,by.x = 'KEGG_annotation',by.y = 'V1')"
   ]
  },
  {
   "cell_type": "code",
   "execution_count": 345,
   "id": "bea4533e-464c-471a-8f44-aa072349bd35",
   "metadata": {},
   "outputs": [],
   "source": [
    "ko = c('ko04016','ko00904','ko04075','ko04626')"
   ]
  },
  {
   "cell_type": "code",
   "execution_count": 346,
   "id": "8033eeae-e2d2-4f38-b662-5103af96dcc9",
   "metadata": {},
   "outputs": [],
   "source": [
    "c1 = c[!duplicated(c$V2),] %>%  dplyr::filter(V3 %in%  ko) %>%  dplyr::select(ID,V2)"
   ]
  },
  {
   "cell_type": "code",
   "execution_count": null,
   "id": "c136bc7c-7e2e-443a-becd-a924290c43e4",
   "metadata": {},
   "outputs": [],
   "source": []
  },
  {
   "cell_type": "code",
   "execution_count": 347,
   "id": "ce5fa1f6-dff5-43bf-a9e4-f96ba119bdf9",
   "metadata": {},
   "outputs": [],
   "source": [
    "expr  = merge_cor_final1 %>% tibble::rownames_to_column('ID')"
   ]
  },
  {
   "cell_type": "code",
   "execution_count": 348,
   "id": "c5d20679-354d-4539-b2de-cacfa36b312f",
   "metadata": {},
   "outputs": [],
   "source": [
    "expr2 = left_join(c1,expr,by = 'ID') %>%  na.omit() "
   ]
  },
  {
   "cell_type": "code",
   "execution_count": 349,
   "id": "1084bf10-4263-4d71-9449-a6462d3b7fee",
   "metadata": {},
   "outputs": [],
   "source": [
    "rownames(expr2) = expr2[,2]\n",
    "expr3 = expr2[,-c(1,2)]"
   ]
  },
  {
   "cell_type": "code",
   "execution_count": 350,
   "id": "40d9032e-2cf2-4f77-a08d-d29155432bbf",
   "metadata": {},
   "outputs": [],
   "source": [
    "expr3 = expr3[-c(1,2),]"
   ]
  },
  {
   "cell_type": "code",
   "execution_count": 399,
   "id": "373dfc40-a20b-4765-b1c6-f1ed86b6d43d",
   "metadata": {},
   "outputs": [
    {
     "data": {
      "text/html": [
       "<table class=\"dataframe\">\n",
       "<caption>A data.frame: 14 x 25</caption>\n",
       "<thead>\n",
       "\t<tr><th></th><th scope=col>ID</th><th scope=col>V2</th><th scope=col><ef><bb><bf>cryptotanshinone</th><th scope=col>tanshinoneV</th><th scope=col>sibieiquinone A</th><th scope=col>17-hydroxytanshindiol B</th><th scope=col>isotanshinone 2A</th><th scope=col>3-hydroxymethylenetanshi nquinone</th><th scope=col>tanshindiol C</th><th scope=col>norsalvioxide</th><th scope=col>...</th><th scope=col>lithospermic acid</th><th scope=col>methyl dihydronortanshinonate</th><th scope=col>deoxyneocryptotanshinone</th><th scope=col>methyl tanshinonate</th><th scope=col>tanshinon I</th><th scope=col>miltirone</th><th scope=col>tetrahydro tanshinone I</th><th scope=col>tanshinone IIA</th><th scope=col>microstegiol</th><th scope=col>salvinone</th></tr>\n",
       "\t<tr><th></th><th scope=col>&lt;chr&gt;</th><th scope=col>&lt;chr&gt;</th><th scope=col>&lt;dbl&gt;</th><th scope=col>&lt;dbl&gt;</th><th scope=col>&lt;dbl&gt;</th><th scope=col>&lt;dbl&gt;</th><th scope=col>&lt;dbl&gt;</th><th scope=col>&lt;dbl&gt;</th><th scope=col>&lt;dbl&gt;</th><th scope=col>&lt;dbl&gt;</th><th scope=col>...</th><th scope=col>&lt;dbl&gt;</th><th scope=col>&lt;dbl&gt;</th><th scope=col>&lt;dbl&gt;</th><th scope=col>&lt;dbl&gt;</th><th scope=col>&lt;dbl&gt;</th><th scope=col>&lt;dbl&gt;</th><th scope=col>&lt;dbl&gt;</th><th scope=col>&lt;dbl&gt;</th><th scope=col>&lt;dbl&gt;</th><th scope=col>&lt;dbl&gt;</th></tr>\n",
       "</thead>\n",
       "<tbody>\n",
       "\t<tr><th scope=row>E5.5.1.13</th><td>evm.TU.scaffold10690.3 </td><td>E5.5.1.13</td><td>-0.9999803</td><td>0</td><td> 0.0000000</td><td> 0.0000000</td><td>0.000000</td><td>0.0000000</td><td>0</td><td>0</td><td>...</td><td>0.0000000</td><td>0</td><td>0</td><td> 0.0000000</td><td>0</td><td>0</td><td> 0.0000000</td><td> 0.0000000</td><td>0</td><td>0</td></tr>\n",
       "\t<tr><th scope=row>E4.2.3.19</th><td>NewGene_18497          </td><td>E4.2.3.19</td><td> 0.0000000</td><td>0</td><td>-0.9999829</td><td> 0.0000000</td><td>0.000000</td><td>0.0000000</td><td>0</td><td>0</td><td>...</td><td>0.0000000</td><td>0</td><td>0</td><td> 0.0000000</td><td>0</td><td>0</td><td> 0.0000000</td><td> 0.0000000</td><td>0</td><td>0</td></tr>\n",
       "\t<tr><th scope=row>CML</th><td>NewGene_13336          </td><td>CML      </td><td> 0.0000000</td><td>0</td><td> 0.0000000</td><td> 0.0000000</td><td>0.000000</td><td>0.9999518</td><td>0</td><td>0</td><td>...</td><td>0.0000000</td><td>0</td><td>0</td><td> 0.0000000</td><td>0</td><td>0</td><td> 0.0000000</td><td> 0.0000000</td><td>0</td><td>0</td></tr>\n",
       "\t<tr><th scope=row>PRF</th><td>NewGene_2412           </td><td>PRF      </td><td>-0.9999747</td><td>0</td><td> 0.0000000</td><td> 0.0000000</td><td>0.000000</td><td>0.0000000</td><td>0</td><td>0</td><td>...</td><td>0.0000000</td><td>0</td><td>0</td><td> 0.0000000</td><td>0</td><td>0</td><td> 0.0000000</td><td> 0.0000000</td><td>0</td><td>0</td></tr>\n",
       "\t<tr><th scope=row>ABF</th><td>evm.TU.scaffold11838.1 </td><td>ABF      </td><td> 0.0000000</td><td>0</td><td> 0.0000000</td><td> 0.0000000</td><td>0.000000</td><td>0.0000000</td><td>0</td><td>0</td><td>...</td><td>0.0000000</td><td>0</td><td>0</td><td> 0.9999593</td><td>0</td><td>0</td><td> 0.0000000</td><td> 0.0000000</td><td>0</td><td>0</td></tr>\n",
       "\t<tr><th scope=row>IAA</th><td>evm.TU.scaffold10053.7 </td><td>IAA      </td><td> 0.0000000</td><td>0</td><td> 0.0000000</td><td> 0.0000000</td><td>0.000000</td><td>0.0000000</td><td>0</td><td>0</td><td>...</td><td>0.0000000</td><td>0</td><td>0</td><td> 0.0000000</td><td>0</td><td>0</td><td> 0.0000000</td><td>-0.9999941</td><td>0</td><td>0</td></tr>\n",
       "\t<tr><th scope=row>SAUR</th><td>evm.TU.scaffold12139.13</td><td>SAUR     </td><td> 0.0000000</td><td>0</td><td> 0.0000000</td><td> 0.0000000</td><td>0.000000</td><td>0.0000000</td><td>0</td><td>0</td><td>...</td><td>0.9999454</td><td>0</td><td>0</td><td> 0.0000000</td><td>0</td><td>0</td><td> 0.0000000</td><td> 0.0000000</td><td>0</td><td>0</td></tr>\n",
       "\t<tr><th scope=row>PYL</th><td>evm.TU.scaffold8761.2  </td><td>PYL      </td><td> 0.0000000</td><td>0</td><td> 0.0000000</td><td> 0.0000000</td><td>0.000000</td><td>0.0000000</td><td>0</td><td>0</td><td>...</td><td>0.0000000</td><td>0</td><td>0</td><td> 0.0000000</td><td>0</td><td>0</td><td>-0.9999243</td><td> 0.0000000</td><td>0</td><td>0</td></tr>\n",
       "\t<tr><th scope=row>ERF1</th><td>evm.TU.scaffold5186.1  </td><td>ERF1     </td><td> 0.0000000</td><td>0</td><td> 0.0000000</td><td> 0.9999915</td><td>0.000000</td><td>0.0000000</td><td>0</td><td>0</td><td>...</td><td>0.0000000</td><td>0</td><td>0</td><td> 0.0000000</td><td>0</td><td>0</td><td> 0.0000000</td><td> 0.0000000</td><td>0</td><td>0</td></tr>\n",
       "\t<tr><th scope=row>PIF4</th><td>evm.TU.scaffold3541.12 </td><td>PIF4     </td><td> 0.0000000</td><td>0</td><td> 0.0000000</td><td> 0.0000000</td><td>0.000000</td><td>0.0000000</td><td>0</td><td>0</td><td>...</td><td>0.0000000</td><td>0</td><td>0</td><td> 0.0000000</td><td>0</td><td>0</td><td>-0.9998771</td><td> 0.0000000</td><td>0</td><td>0</td></tr>\n",
       "\t<tr><th scope=row>FRK1</th><td>evm.TU.scaffold7325.2  </td><td>FRK1     </td><td> 0.0000000</td><td>0</td><td> 0.0000000</td><td> 0.0000000</td><td>0.000000</td><td>0.0000000</td><td>0</td><td>0</td><td>...</td><td>0.0000000</td><td>0</td><td>0</td><td>-0.9999916</td><td>0</td><td>0</td><td> 0.0000000</td><td> 0.0000000</td><td>0</td><td>0</td></tr>\n",
       "\t<tr><th scope=row>PIK1</th><td>evm.TU.scaffold3595.2  </td><td>PIK1     </td><td> 0.0000000</td><td>0</td><td> 0.0000000</td><td> 0.0000000</td><td>0.999994</td><td>0.0000000</td><td>0</td><td>0</td><td>...</td><td>0.0000000</td><td>0</td><td>0</td><td> 0.0000000</td><td>0</td><td>0</td><td> 0.0000000</td><td> 0.0000000</td><td>0</td><td>0</td></tr>\n",
       "\t<tr><th scope=row>UPA20</th><td>evm.TU.scaffold5191.14 </td><td>UPA20    </td><td> 0.0000000</td><td>0</td><td> 0.0000000</td><td>-0.9998865</td><td>0.000000</td><td>0.0000000</td><td>0</td><td>0</td><td>...</td><td>0.0000000</td><td>0</td><td>0</td><td> 0.0000000</td><td>0</td><td>0</td><td> 0.0000000</td><td> 0.0000000</td><td>0</td><td>0</td></tr>\n",
       "\t<tr><th scope=row>YDA</th><td>evm.TU.scaffold9212.2  </td><td>YDA      </td><td> 0.0000000</td><td>0</td><td>-0.9999893</td><td> 0.0000000</td><td>0.000000</td><td>0.0000000</td><td>0</td><td>0</td><td>...</td><td>0.0000000</td><td>0</td><td>0</td><td> 0.0000000</td><td>0</td><td>0</td><td> 0.0000000</td><td> 0.0000000</td><td>0</td><td>0</td></tr>\n",
       "</tbody>\n",
       "</table>\n"
      ],
      "text/latex": [
       "A data.frame: 14 x 25\n",
       "\\begin{tabular}{r|lllllllllllllllllllll}\n",
       "  & ID & V2 & <ef><bb><bf>cryptotanshinone & tanshinoneV & sibieiquinone A & 17-hydroxytanshindiol B & isotanshinone 2A & 3-hydroxymethylenetanshi nquinone & tanshindiol C & norsalvioxide & ... & lithospermic acid & methyl dihydronortanshinonate & deoxyneocryptotanshinone & methyl tanshinonate & tanshinon I & miltirone & tetrahydro tanshinone I & tanshinone IIA & microstegiol & salvinone\\\\\n",
       "  & <chr> & <chr> & <dbl> & <dbl> & <dbl> & <dbl> & <dbl> & <dbl> & <dbl> & <dbl> & ... & <dbl> & <dbl> & <dbl> & <dbl> & <dbl> & <dbl> & <dbl> & <dbl> & <dbl> & <dbl>\\\\\n",
       "\\hline\n",
       "\tE5.5.1.13 & evm.TU.scaffold10690.3  & E5.5.1.13 & -0.9999803 & 0 &  0.0000000 &  0.0000000 & 0.000000 & 0.0000000 & 0 & 0 & ... & 0.0000000 & 0 & 0 &  0.0000000 & 0 & 0 &  0.0000000 &  0.0000000 & 0 & 0\\\\\n",
       "\tE4.2.3.19 & NewGene\\_18497           & E4.2.3.19 &  0.0000000 & 0 & -0.9999829 &  0.0000000 & 0.000000 & 0.0000000 & 0 & 0 & ... & 0.0000000 & 0 & 0 &  0.0000000 & 0 & 0 &  0.0000000 &  0.0000000 & 0 & 0\\\\\n",
       "\tCML & NewGene\\_13336           & CML       &  0.0000000 & 0 &  0.0000000 &  0.0000000 & 0.000000 & 0.9999518 & 0 & 0 & ... & 0.0000000 & 0 & 0 &  0.0000000 & 0 & 0 &  0.0000000 &  0.0000000 & 0 & 0\\\\\n",
       "\tPRF & NewGene\\_2412            & PRF       & -0.9999747 & 0 &  0.0000000 &  0.0000000 & 0.000000 & 0.0000000 & 0 & 0 & ... & 0.0000000 & 0 & 0 &  0.0000000 & 0 & 0 &  0.0000000 &  0.0000000 & 0 & 0\\\\\n",
       "\tABF & evm.TU.scaffold11838.1  & ABF       &  0.0000000 & 0 &  0.0000000 &  0.0000000 & 0.000000 & 0.0000000 & 0 & 0 & ... & 0.0000000 & 0 & 0 &  0.9999593 & 0 & 0 &  0.0000000 &  0.0000000 & 0 & 0\\\\\n",
       "\tIAA & evm.TU.scaffold10053.7  & IAA       &  0.0000000 & 0 &  0.0000000 &  0.0000000 & 0.000000 & 0.0000000 & 0 & 0 & ... & 0.0000000 & 0 & 0 &  0.0000000 & 0 & 0 &  0.0000000 & -0.9999941 & 0 & 0\\\\\n",
       "\tSAUR & evm.TU.scaffold12139.13 & SAUR      &  0.0000000 & 0 &  0.0000000 &  0.0000000 & 0.000000 & 0.0000000 & 0 & 0 & ... & 0.9999454 & 0 & 0 &  0.0000000 & 0 & 0 &  0.0000000 &  0.0000000 & 0 & 0\\\\\n",
       "\tPYL & evm.TU.scaffold8761.2   & PYL       &  0.0000000 & 0 &  0.0000000 &  0.0000000 & 0.000000 & 0.0000000 & 0 & 0 & ... & 0.0000000 & 0 & 0 &  0.0000000 & 0 & 0 & -0.9999243 &  0.0000000 & 0 & 0\\\\\n",
       "\tERF1 & evm.TU.scaffold5186.1   & ERF1      &  0.0000000 & 0 &  0.0000000 &  0.9999915 & 0.000000 & 0.0000000 & 0 & 0 & ... & 0.0000000 & 0 & 0 &  0.0000000 & 0 & 0 &  0.0000000 &  0.0000000 & 0 & 0\\\\\n",
       "\tPIF4 & evm.TU.scaffold3541.12  & PIF4      &  0.0000000 & 0 &  0.0000000 &  0.0000000 & 0.000000 & 0.0000000 & 0 & 0 & ... & 0.0000000 & 0 & 0 &  0.0000000 & 0 & 0 & -0.9998771 &  0.0000000 & 0 & 0\\\\\n",
       "\tFRK1 & evm.TU.scaffold7325.2   & FRK1      &  0.0000000 & 0 &  0.0000000 &  0.0000000 & 0.000000 & 0.0000000 & 0 & 0 & ... & 0.0000000 & 0 & 0 & -0.9999916 & 0 & 0 &  0.0000000 &  0.0000000 & 0 & 0\\\\\n",
       "\tPIK1 & evm.TU.scaffold3595.2   & PIK1      &  0.0000000 & 0 &  0.0000000 &  0.0000000 & 0.999994 & 0.0000000 & 0 & 0 & ... & 0.0000000 & 0 & 0 &  0.0000000 & 0 & 0 &  0.0000000 &  0.0000000 & 0 & 0\\\\\n",
       "\tUPA20 & evm.TU.scaffold5191.14  & UPA20     &  0.0000000 & 0 &  0.0000000 & -0.9998865 & 0.000000 & 0.0000000 & 0 & 0 & ... & 0.0000000 & 0 & 0 &  0.0000000 & 0 & 0 &  0.0000000 &  0.0000000 & 0 & 0\\\\\n",
       "\tYDA & evm.TU.scaffold9212.2   & YDA       &  0.0000000 & 0 & -0.9999893 &  0.0000000 & 0.000000 & 0.0000000 & 0 & 0 & ... & 0.0000000 & 0 & 0 &  0.0000000 & 0 & 0 &  0.0000000 &  0.0000000 & 0 & 0\\\\\n",
       "\\end{tabular}\n"
      ],
      "text/markdown": [
       "\n",
       "A data.frame: 14 x 25\n",
       "\n",
       "| <!--/--> | ID &lt;chr&gt; | V2 &lt;chr&gt; | <ef><bb><bf>cryptotanshinone &lt;dbl&gt; | tanshinoneV &lt;dbl&gt; | sibieiquinone A &lt;dbl&gt; | 17-hydroxytanshindiol B &lt;dbl&gt; | isotanshinone 2A &lt;dbl&gt; | 3-hydroxymethylenetanshi nquinone &lt;dbl&gt; | tanshindiol C &lt;dbl&gt; | norsalvioxide &lt;dbl&gt; | ... ... | lithospermic acid &lt;dbl&gt; | methyl dihydronortanshinonate &lt;dbl&gt; | deoxyneocryptotanshinone &lt;dbl&gt; | methyl tanshinonate &lt;dbl&gt; | tanshinon I &lt;dbl&gt; | miltirone &lt;dbl&gt; | tetrahydro tanshinone I &lt;dbl&gt; | tanshinone IIA &lt;dbl&gt; | microstegiol &lt;dbl&gt; | salvinone &lt;dbl&gt; |\n",
       "|---|---|---|---|---|---|---|---|---|---|---|---|---|---|---|---|---|---|---|---|---|---|\n",
       "| E5.5.1.13 | evm.TU.scaffold10690.3  | E5.5.1.13 | -0.9999803 | 0 |  0.0000000 |  0.0000000 | 0.000000 | 0.0000000 | 0 | 0 | ... | 0.0000000 | 0 | 0 |  0.0000000 | 0 | 0 |  0.0000000 |  0.0000000 | 0 | 0 |\n",
       "| E4.2.3.19 | NewGene_18497           | E4.2.3.19 |  0.0000000 | 0 | -0.9999829 |  0.0000000 | 0.000000 | 0.0000000 | 0 | 0 | ... | 0.0000000 | 0 | 0 |  0.0000000 | 0 | 0 |  0.0000000 |  0.0000000 | 0 | 0 |\n",
       "| CML | NewGene_13336           | CML       |  0.0000000 | 0 |  0.0000000 |  0.0000000 | 0.000000 | 0.9999518 | 0 | 0 | ... | 0.0000000 | 0 | 0 |  0.0000000 | 0 | 0 |  0.0000000 |  0.0000000 | 0 | 0 |\n",
       "| PRF | NewGene_2412            | PRF       | -0.9999747 | 0 |  0.0000000 |  0.0000000 | 0.000000 | 0.0000000 | 0 | 0 | ... | 0.0000000 | 0 | 0 |  0.0000000 | 0 | 0 |  0.0000000 |  0.0000000 | 0 | 0 |\n",
       "| ABF | evm.TU.scaffold11838.1  | ABF       |  0.0000000 | 0 |  0.0000000 |  0.0000000 | 0.000000 | 0.0000000 | 0 | 0 | ... | 0.0000000 | 0 | 0 |  0.9999593 | 0 | 0 |  0.0000000 |  0.0000000 | 0 | 0 |\n",
       "| IAA | evm.TU.scaffold10053.7  | IAA       |  0.0000000 | 0 |  0.0000000 |  0.0000000 | 0.000000 | 0.0000000 | 0 | 0 | ... | 0.0000000 | 0 | 0 |  0.0000000 | 0 | 0 |  0.0000000 | -0.9999941 | 0 | 0 |\n",
       "| SAUR | evm.TU.scaffold12139.13 | SAUR      |  0.0000000 | 0 |  0.0000000 |  0.0000000 | 0.000000 | 0.0000000 | 0 | 0 | ... | 0.9999454 | 0 | 0 |  0.0000000 | 0 | 0 |  0.0000000 |  0.0000000 | 0 | 0 |\n",
       "| PYL | evm.TU.scaffold8761.2   | PYL       |  0.0000000 | 0 |  0.0000000 |  0.0000000 | 0.000000 | 0.0000000 | 0 | 0 | ... | 0.0000000 | 0 | 0 |  0.0000000 | 0 | 0 | -0.9999243 |  0.0000000 | 0 | 0 |\n",
       "| ERF1 | evm.TU.scaffold5186.1   | ERF1      |  0.0000000 | 0 |  0.0000000 |  0.9999915 | 0.000000 | 0.0000000 | 0 | 0 | ... | 0.0000000 | 0 | 0 |  0.0000000 | 0 | 0 |  0.0000000 |  0.0000000 | 0 | 0 |\n",
       "| PIF4 | evm.TU.scaffold3541.12  | PIF4      |  0.0000000 | 0 |  0.0000000 |  0.0000000 | 0.000000 | 0.0000000 | 0 | 0 | ... | 0.0000000 | 0 | 0 |  0.0000000 | 0 | 0 | -0.9998771 |  0.0000000 | 0 | 0 |\n",
       "| FRK1 | evm.TU.scaffold7325.2   | FRK1      |  0.0000000 | 0 |  0.0000000 |  0.0000000 | 0.000000 | 0.0000000 | 0 | 0 | ... | 0.0000000 | 0 | 0 | -0.9999916 | 0 | 0 |  0.0000000 |  0.0000000 | 0 | 0 |\n",
       "| PIK1 | evm.TU.scaffold3595.2   | PIK1      |  0.0000000 | 0 |  0.0000000 |  0.0000000 | 0.999994 | 0.0000000 | 0 | 0 | ... | 0.0000000 | 0 | 0 |  0.0000000 | 0 | 0 |  0.0000000 |  0.0000000 | 0 | 0 |\n",
       "| UPA20 | evm.TU.scaffold5191.14  | UPA20     |  0.0000000 | 0 |  0.0000000 | -0.9998865 | 0.000000 | 0.0000000 | 0 | 0 | ... | 0.0000000 | 0 | 0 |  0.0000000 | 0 | 0 |  0.0000000 |  0.0000000 | 0 | 0 |\n",
       "| YDA | evm.TU.scaffold9212.2   | YDA       |  0.0000000 | 0 | -0.9999893 |  0.0000000 | 0.000000 | 0.0000000 | 0 | 0 | ... | 0.0000000 | 0 | 0 |  0.0000000 | 0 | 0 |  0.0000000 |  0.0000000 | 0 | 0 |\n",
       "\n"
      ],
      "text/plain": [
       "          ID                      V2        \\357\\273\\277cryptotanshinone\n",
       "E5.5.1.13 evm.TU.scaffold10690.3  E5.5.1.13 -0.9999803                  \n",
       "E4.2.3.19 NewGene_18497           E4.2.3.19  0.0000000                  \n",
       "CML       NewGene_13336           CML        0.0000000                  \n",
       "PRF       NewGene_2412            PRF       -0.9999747                  \n",
       "ABF       evm.TU.scaffold11838.1  ABF        0.0000000                  \n",
       "IAA       evm.TU.scaffold10053.7  IAA        0.0000000                  \n",
       "SAUR      evm.TU.scaffold12139.13 SAUR       0.0000000                  \n",
       "PYL       evm.TU.scaffold8761.2   PYL        0.0000000                  \n",
       "ERF1      evm.TU.scaffold5186.1   ERF1       0.0000000                  \n",
       "PIF4      evm.TU.scaffold3541.12  PIF4       0.0000000                  \n",
       "FRK1      evm.TU.scaffold7325.2   FRK1       0.0000000                  \n",
       "PIK1      evm.TU.scaffold3595.2   PIK1       0.0000000                  \n",
       "UPA20     evm.TU.scaffold5191.14  UPA20      0.0000000                  \n",
       "YDA       evm.TU.scaffold9212.2   YDA        0.0000000                  \n",
       "          tanshinoneV sibieiquinone A 17-hydroxytanshindiol B isotanshinone 2A\n",
       "E5.5.1.13 0            0.0000000       0.0000000              0.000000        \n",
       "E4.2.3.19 0           -0.9999829       0.0000000              0.000000        \n",
       "CML       0            0.0000000       0.0000000              0.000000        \n",
       "PRF       0            0.0000000       0.0000000              0.000000        \n",
       "ABF       0            0.0000000       0.0000000              0.000000        \n",
       "IAA       0            0.0000000       0.0000000              0.000000        \n",
       "SAUR      0            0.0000000       0.0000000              0.000000        \n",
       "PYL       0            0.0000000       0.0000000              0.000000        \n",
       "ERF1      0            0.0000000       0.9999915              0.000000        \n",
       "PIF4      0            0.0000000       0.0000000              0.000000        \n",
       "FRK1      0            0.0000000       0.0000000              0.000000        \n",
       "PIK1      0            0.0000000       0.0000000              0.999994        \n",
       "UPA20     0            0.0000000      -0.9998865              0.000000        \n",
       "YDA       0           -0.9999893       0.0000000              0.000000        \n",
       "          3-hydroxymethylenetanshi nquinone tanshindiol C norsalvioxide ...\n",
       "E5.5.1.13 0.0000000                         0             0             ...\n",
       "E4.2.3.19 0.0000000                         0             0             ...\n",
       "CML       0.9999518                         0             0             ...\n",
       "PRF       0.0000000                         0             0             ...\n",
       "ABF       0.0000000                         0             0             ...\n",
       "IAA       0.0000000                         0             0             ...\n",
       "SAUR      0.0000000                         0             0             ...\n",
       "PYL       0.0000000                         0             0             ...\n",
       "ERF1      0.0000000                         0             0             ...\n",
       "PIF4      0.0000000                         0             0             ...\n",
       "FRK1      0.0000000                         0             0             ...\n",
       "PIK1      0.0000000                         0             0             ...\n",
       "UPA20     0.0000000                         0             0             ...\n",
       "YDA       0.0000000                         0             0             ...\n",
       "          lithospermic acid methyl dihydronortanshinonate\n",
       "E5.5.1.13 0.0000000         0                            \n",
       "E4.2.3.19 0.0000000         0                            \n",
       "CML       0.0000000         0                            \n",
       "PRF       0.0000000         0                            \n",
       "ABF       0.0000000         0                            \n",
       "IAA       0.0000000         0                            \n",
       "SAUR      0.9999454         0                            \n",
       "PYL       0.0000000         0                            \n",
       "ERF1      0.0000000         0                            \n",
       "PIF4      0.0000000         0                            \n",
       "FRK1      0.0000000         0                            \n",
       "PIK1      0.0000000         0                            \n",
       "UPA20     0.0000000         0                            \n",
       "YDA       0.0000000         0                            \n",
       "          deoxyneocryptotanshinone methyl tanshinonate tanshinon I miltirone\n",
       "E5.5.1.13 0                         0.0000000          0           0        \n",
       "E4.2.3.19 0                         0.0000000          0           0        \n",
       "CML       0                         0.0000000          0           0        \n",
       "PRF       0                         0.0000000          0           0        \n",
       "ABF       0                         0.9999593          0           0        \n",
       "IAA       0                         0.0000000          0           0        \n",
       "SAUR      0                         0.0000000          0           0        \n",
       "PYL       0                         0.0000000          0           0        \n",
       "ERF1      0                         0.0000000          0           0        \n",
       "PIF4      0                         0.0000000          0           0        \n",
       "FRK1      0                        -0.9999916          0           0        \n",
       "PIK1      0                         0.0000000          0           0        \n",
       "UPA20     0                         0.0000000          0           0        \n",
       "YDA       0                         0.0000000          0           0        \n",
       "          tetrahydro tanshinone I tanshinone IIA microstegiol salvinone\n",
       "E5.5.1.13  0.0000000               0.0000000     0            0        \n",
       "E4.2.3.19  0.0000000               0.0000000     0            0        \n",
       "CML        0.0000000               0.0000000     0            0        \n",
       "PRF        0.0000000               0.0000000     0            0        \n",
       "ABF        0.0000000               0.0000000     0            0        \n",
       "IAA        0.0000000              -0.9999941     0            0        \n",
       "SAUR       0.0000000               0.0000000     0            0        \n",
       "PYL       -0.9999243               0.0000000     0            0        \n",
       "ERF1       0.0000000               0.0000000     0            0        \n",
       "PIF4      -0.9998771               0.0000000     0            0        \n",
       "FRK1       0.0000000               0.0000000     0            0        \n",
       "PIK1       0.0000000               0.0000000     0            0        \n",
       "UPA20      0.0000000               0.0000000     0            0        \n",
       "YDA        0.0000000               0.0000000     0            0        "
      ]
     },
     "metadata": {},
     "output_type": "display_data"
    }
   ],
   "source": [
    "expr2"
   ]
  },
  {
   "cell_type": "code",
   "execution_count": null,
   "id": "0c89d3d2-9a88-4982-a804-7a9e9d4733c9",
   "metadata": {},
   "outputs": [],
   "source": []
  },
  {
   "cell_type": "code",
   "execution_count": null,
   "id": "6ce6eb6e-916c-4366-8a53-262bc20243e5",
   "metadata": {},
   "outputs": [],
   "source": []
  },
  {
   "cell_type": "code",
   "execution_count": null,
   "id": "e2175a53-97fe-42a9-98d6-e57a5feb517b",
   "metadata": {},
   "outputs": [],
   "source": []
  },
  {
   "cell_type": "code",
   "execution_count": 400,
   "id": "39feac3f-bbd4-4a59-a0e0-43addc929bf8",
   "metadata": {},
   "outputs": [],
   "source": [
    "library(pheatmap)"
   ]
  },
  {
   "cell_type": "code",
   "execution_count": 401,
   "id": "211c9d63-f4d5-4c14-a4d5-dc94402770ac",
   "metadata": {},
   "outputs": [],
   "source": [
    "expr4 = expr3[,which(colSums(expr3) != 0)]"
   ]
  },
  {
   "cell_type": "code",
   "execution_count": 402,
   "id": "4c9def64-69fb-4993-a604-579c32101e46",
   "metadata": {},
   "outputs": [],
   "source": [
    "pmtout = expr4"
   ]
  },
  {
   "cell_type": "code",
   "execution_count": 403,
   "id": "66a47b45-3124-4c76-9e2c-060e51ee34cd",
   "metadata": {},
   "outputs": [],
   "source": [
    "\n",
    "    if(!is.null(pmtout)){\n",
    "    ssmt <- pmtout< 0\n",
    "    pmtout[ssmt] <- '**'\n",
    "    smt <- pmtout > 0.01& pmtout < 1\n",
    "    pmtout[smt] <- '**'\n",
    "    pmtout[!ssmt&!smt]<- ''\n",
    "    } else{\n",
    "    pmtout <- F\n",
    "    }"
   ]
  },
  {
   "cell_type": "code",
   "execution_count": 404,
   "id": "f3173500-4ad0-4563-a6da-20e6c22c5b26",
   "metadata": {},
   "outputs": [],
   "source": [
    "mycol<-colorRampPalette(c(\"blue\",\"white\",\"tomato\"))(800)"
   ]
  },
  {
   "cell_type": "code",
   "execution_count": 405,
   "id": "2e4ddda3-8ceb-48dd-a75b-819833755f4b",
   "metadata": {},
   "outputs": [],
   "source": [
    "colnames(expr4)[1] = 'cryptotanshinone'"
   ]
  },
  {
   "cell_type": "code",
   "execution_count": 406,
   "id": "24e7c355-7665-4f9e-bfb6-1b85d1dfb536",
   "metadata": {},
   "outputs": [
    {
     "data": {
      "text/html": [
       "<strong>png:</strong> 2"
      ],
      "text/latex": [
       "\\textbf{png:} 2"
      ],
      "text/markdown": [
       "**png:** 2"
      ],
      "text/plain": [
       "png \n",
       "  2 "
      ]
     },
     "metadata": {},
     "output_type": "display_data"
    },
    {
     "data": {
      "image/png": "[encoded data removed]",
      "text/plain": [
       "plot without title"
      ]
     },
     "metadata": {
      "image/png": {
       "height": 540,
       "width": 360
      }
     },
     "output_type": "display_data"
    }
   ],
   "source": [
    " p = pheatmap(expr4,scale = \"none\",cluster_row = T, cluster_col = F, border='black',\n",
    "    fontsize_number = 12, number_color = \"white\",  display_numbers = pmtout,\n",
    "    cellwidth = 20, cellheight =20,color=mycol)\n",
    "\n",
    "pdf(paste0('heatmap','.pdf'))\n",
    "p\n",
    "dev.off()"
   ]
  },
  {
   "cell_type": "code",
   "execution_count": 313,
   "id": "efc34ace-a816-447d-a84b-5722f5fc966d",
   "metadata": {},
   "outputs": [
    {
     "data": {
      "text/html": [
       "<table class=\"dataframe\">\n",
       "<caption>A tibble: 2 x 3</caption>\n",
       "<thead>\n",
       "\t<tr><th scope=col>gene</th><th scope=col>metabolite</th><th scope=col>cor</th></tr>\n",
       "\t<tr><th scope=col>&lt;chr&gt;</th><th scope=col>&lt;chr&gt;</th><th scope=col>&lt;dbl&gt;</th></tr>\n",
       "</thead>\n",
       "<tbody>\n",
       "\t<tr><td>CML</td><td>3-hydroxymethylenetanshi nquinone</td><td>0.9999518</td></tr>\n",
       "\t<tr><td>CML</td><td>tanshinone VI                    </td><td>0.9998798</td></tr>\n",
       "</tbody>\n",
       "</table>\n"
      ],
      "text/latex": [
       "A tibble: 2 x 3\n",
       "\\begin{tabular}{lll}\n",
       " gene & metabolite & cor\\\\\n",
       " <chr> & <chr> & <dbl>\\\\\n",
       "\\hline\n",
       "\t CML & 3-hydroxymethylenetanshi nquinone & 0.9999518\\\\\n",
       "\t CML & tanshinone VI                     & 0.9998798\\\\\n",
       "\\end{tabular}\n"
      ],
      "text/markdown": [
       "\n",
       "A tibble: 2 x 3\n",
       "\n",
       "| gene &lt;chr&gt; | metabolite &lt;chr&gt; | cor &lt;dbl&gt; |\n",
       "|---|---|---|\n",
       "| CML | 3-hydroxymethylenetanshi nquinone | 0.9999518 |\n",
       "| CML | tanshinone VI                     | 0.9998798 |\n",
       "\n"
      ],
      "text/plain": [
       "  gene metabolite                        cor      \n",
       "1 CML  3-hydroxymethylenetanshi nquinone 0.9999518\n",
       "2 CML  tanshinone VI                     0.9998798"
      ]
     },
     "metadata": {},
     "output_type": "display_data"
    },
    {
     "name": "stderr",
     "output_type": "stream",
     "text": [
      "Warning message in write.csv(table_long, file = \"table_long.csv\", quote = F, col.names = F, :\n",
      "\"attempt to set 'col.names' ignored\"\n"
     ]
    }
   ],
   "source": [
    "library(tidyr)\n",
    "\n",
    "expr4 = expr3 %>%  tibble::rownames_to_column(.,'gene')\n",
    "\n",
    "table_long <- expr4 %>% \n",
    "  pivot_longer(cols = -gene, names_to = \"metabolite\", values_to = \"cor\") %>%  dplyr::filter(cor != 0)\n",
    "\n",
    "\n",
    "\n",
    "head(table_long,2)\n",
    "\n",
    "write.csv(table_long,file = 'table_long.csv',quote = F,col.names = F,row.names = F)"
   ]
  },
  {
   "cell_type": "markdown",
   "id": "f7c2574a-5c8d-4567-9ee0-64e4e879e3fa",
   "metadata": {},
   "source": [
    "### 基因间相关xing "
   ]
  },
  {
   "cell_type": "code",
   "execution_count": 360,
   "id": "073fc95a-b69f-434b-a641-c08378919f76",
   "metadata": {},
   "outputs": [],
   "source": [
    "expr = read.table('./BMK_1_Control_vs_JD4/BMK_2_DEG_Cluster/Control_vs_JD4.txt',row.names = 1,sep = '\\t',header =T)"
   ]
  },
  {
   "cell_type": "code",
   "execution_count": 361,
   "id": "d2035a8e-2ba9-4612-be96-66810cf812b1",
   "metadata": {},
   "outputs": [
    {
     "data": {
      "text/html": [
       "<table class=\"dataframe\">\n",
       "<caption>A data.frame: 2 x 6</caption>\n",
       "<thead>\n",
       "\t<tr><th></th><th scope=col>Control.1</th><th scope=col>Control.2</th><th scope=col>Control.3</th><th scope=col>JD4.1</th><th scope=col>JD4.2</th><th scope=col>JD4.3</th></tr>\n",
       "\t<tr><th></th><th scope=col>&lt;dbl&gt;</th><th scope=col>&lt;dbl&gt;</th><th scope=col>&lt;dbl&gt;</th><th scope=col>&lt;dbl&gt;</th><th scope=col>&lt;dbl&gt;</th><th scope=col>&lt;dbl&gt;</th></tr>\n",
       "</thead>\n",
       "<tbody>\n",
       "\t<tr><th scope=row>evm.TU.scaffold520.10</th><td> 1.360437</td><td>0.573533</td><td> 1.271172</td><td> 1.327511</td><td> 6.895074</td><td> 5.610351</td></tr>\n",
       "\t<tr><th scope=row>evm.TU.scaffold1510.12</th><td>12.019589</td><td>8.107336</td><td>11.577633</td><td>14.151673</td><td>23.863295</td><td>24.401491</td></tr>\n",
       "</tbody>\n",
       "</table>\n"
      ],
      "text/latex": [
       "A data.frame: 2 x 6\n",
       "\\begin{tabular}{r|llllll}\n",
       "  & Control.1 & Control.2 & Control.3 & JD4.1 & JD4.2 & JD4.3\\\\\n",
       "  & <dbl> & <dbl> & <dbl> & <dbl> & <dbl> & <dbl>\\\\\n",
       "\\hline\n",
       "\tevm.TU.scaffold520.10 &  1.360437 & 0.573533 &  1.271172 &  1.327511 &  6.895074 &  5.610351\\\\\n",
       "\tevm.TU.scaffold1510.12 & 12.019589 & 8.107336 & 11.577633 & 14.151673 & 23.863295 & 24.401491\\\\\n",
       "\\end{tabular}\n"
      ],
      "text/markdown": [
       "\n",
       "A data.frame: 2 x 6\n",
       "\n",
       "| <!--/--> | Control.1 &lt;dbl&gt; | Control.2 &lt;dbl&gt; | Control.3 &lt;dbl&gt; | JD4.1 &lt;dbl&gt; | JD4.2 &lt;dbl&gt; | JD4.3 &lt;dbl&gt; |\n",
       "|---|---|---|---|---|---|---|\n",
       "| evm.TU.scaffold520.10 |  1.360437 | 0.573533 |  1.271172 |  1.327511 |  6.895074 |  5.610351 |\n",
       "| evm.TU.scaffold1510.12 | 12.019589 | 8.107336 | 11.577633 | 14.151673 | 23.863295 | 24.401491 |\n",
       "\n"
      ],
      "text/plain": [
       "                       Control.1 Control.2 Control.3 JD4.1     JD4.2    \n",
       "evm.TU.scaffold520.10   1.360437 0.573533   1.271172  1.327511  6.895074\n",
       "evm.TU.scaffold1510.12 12.019589 8.107336  11.577633 14.151673 23.863295\n",
       "                       JD4.3    \n",
       "evm.TU.scaffold520.10   5.610351\n",
       "evm.TU.scaffold1510.12 24.401491"
      ]
     },
     "metadata": {},
     "output_type": "display_data"
    }
   ],
   "source": [
    "head(expr,2)"
   ]
  },
  {
   "cell_type": "code",
   "execution_count": 362,
   "id": "f55504e9-4dbe-4c6b-9559-aac90fb7c5bc",
   "metadata": {},
   "outputs": [],
   "source": [
    "expr5 = expr %>%  tibble::rownames_to_column(.,'ID')"
   ]
  },
  {
   "cell_type": "code",
   "execution_count": 363,
   "id": "28b590fd-8144-4005-84ee-d4b956480757",
   "metadata": {},
   "outputs": [],
   "source": [
    "expr6 = left_join(expr2,expr5,by = 'ID')"
   ]
  },
  {
   "cell_type": "code",
   "execution_count": 364,
   "id": "2e658b84-4ade-47a3-82d3-d2e0c1be2aa6",
   "metadata": {},
   "outputs": [
    {
     "data": {
      "text/html": [
       "<table class=\"dataframe\">\n",
       "<caption>A data.frame: 2 x 31</caption>\n",
       "<thead>\n",
       "\t<tr><th></th><th scope=col>ID</th><th scope=col>V2</th><th scope=col><ef><bb><bf>cryptotanshinone</th><th scope=col>tanshinoneV</th><th scope=col>sibieiquinone A</th><th scope=col>17-hydroxytanshindiol B</th><th scope=col>isotanshinone 2A</th><th scope=col>3-hydroxymethylenetanshi nquinone</th><th scope=col>tanshindiol C</th><th scope=col>norsalvioxide</th><th scope=col>...</th><th scope=col>tetrahydro tanshinone I</th><th scope=col>tanshinone IIA</th><th scope=col>microstegiol</th><th scope=col>salvinone</th><th scope=col>Control.1</th><th scope=col>Control.2</th><th scope=col>Control.3</th><th scope=col>JD4.1</th><th scope=col>JD4.2</th><th scope=col>JD4.3</th></tr>\n",
       "\t<tr><th></th><th scope=col>&lt;chr&gt;</th><th scope=col>&lt;chr&gt;</th><th scope=col>&lt;dbl&gt;</th><th scope=col>&lt;dbl&gt;</th><th scope=col>&lt;dbl&gt;</th><th scope=col>&lt;dbl&gt;</th><th scope=col>&lt;dbl&gt;</th><th scope=col>&lt;dbl&gt;</th><th scope=col>&lt;dbl&gt;</th><th scope=col>&lt;dbl&gt;</th><th scope=col>...</th><th scope=col>&lt;dbl&gt;</th><th scope=col>&lt;dbl&gt;</th><th scope=col>&lt;dbl&gt;</th><th scope=col>&lt;dbl&gt;</th><th scope=col>&lt;dbl&gt;</th><th scope=col>&lt;dbl&gt;</th><th scope=col>&lt;dbl&gt;</th><th scope=col>&lt;dbl&gt;</th><th scope=col>&lt;dbl&gt;</th><th scope=col>&lt;dbl&gt;</th></tr>\n",
       "</thead>\n",
       "<tbody>\n",
       "\t<tr><th scope=row>1</th><td>evm.TU.scaffold10690.3</td><td>E5.5.1.13</td><td>-0.9999803</td><td>0</td><td> 0.0000000</td><td>0</td><td>0</td><td>0</td><td>0</td><td>0</td><td>...</td><td>0</td><td>0</td><td>0</td><td>0</td><td>23.993135</td><td>48.48322</td><td>22.372145</td><td>41.347317</td><td>71.849518</td><td>97.50892</td></tr>\n",
       "\t<tr><th scope=row>2</th><td>NewGene_18497         </td><td>E4.2.3.19</td><td> 0.0000000</td><td>0</td><td>-0.9999829</td><td>0</td><td>0</td><td>0</td><td>0</td><td>0</td><td>...</td><td>0</td><td>0</td><td>0</td><td>0</td><td> 1.252584</td><td> 2.23503</td><td> 0.556391</td><td> 2.543269</td><td> 3.748316</td><td> 6.35028</td></tr>\n",
       "</tbody>\n",
       "</table>\n"
      ],
      "text/latex": [
       "A data.frame: 2 x 31\n",
       "\\begin{tabular}{r|lllllllllllllllllllll}\n",
       "  & ID & V2 & <ef><bb><bf>cryptotanshinone & tanshinoneV & sibieiquinone A & 17-hydroxytanshindiol B & isotanshinone 2A & 3-hydroxymethylenetanshi nquinone & tanshindiol C & norsalvioxide & ... & tetrahydro tanshinone I & tanshinone IIA & microstegiol & salvinone & Control.1 & Control.2 & Control.3 & JD4.1 & JD4.2 & JD4.3\\\\\n",
       "  & <chr> & <chr> & <dbl> & <dbl> & <dbl> & <dbl> & <dbl> & <dbl> & <dbl> & <dbl> & ... & <dbl> & <dbl> & <dbl> & <dbl> & <dbl> & <dbl> & <dbl> & <dbl> & <dbl> & <dbl>\\\\\n",
       "\\hline\n",
       "\t1 & evm.TU.scaffold10690.3 & E5.5.1.13 & -0.9999803 & 0 &  0.0000000 & 0 & 0 & 0 & 0 & 0 & ... & 0 & 0 & 0 & 0 & 23.993135 & 48.48322 & 22.372145 & 41.347317 & 71.849518 & 97.50892\\\\\n",
       "\t2 & NewGene\\_18497          & E4.2.3.19 &  0.0000000 & 0 & -0.9999829 & 0 & 0 & 0 & 0 & 0 & ... & 0 & 0 & 0 & 0 &  1.252584 &  2.23503 &  0.556391 &  2.543269 &  3.748316 &  6.35028\\\\\n",
       "\\end{tabular}\n"
      ],
      "text/markdown": [
       "\n",
       "A data.frame: 2 x 31\n",
       "\n",
       "| <!--/--> | ID &lt;chr&gt; | V2 &lt;chr&gt; | <ef><bb><bf>cryptotanshinone &lt;dbl&gt; | tanshinoneV &lt;dbl&gt; | sibieiquinone A &lt;dbl&gt; | 17-hydroxytanshindiol B &lt;dbl&gt; | isotanshinone 2A &lt;dbl&gt; | 3-hydroxymethylenetanshi nquinone &lt;dbl&gt; | tanshindiol C &lt;dbl&gt; | norsalvioxide &lt;dbl&gt; | ... ... | tetrahydro tanshinone I &lt;dbl&gt; | tanshinone IIA &lt;dbl&gt; | microstegiol &lt;dbl&gt; | salvinone &lt;dbl&gt; | Control.1 &lt;dbl&gt; | Control.2 &lt;dbl&gt; | Control.3 &lt;dbl&gt; | JD4.1 &lt;dbl&gt; | JD4.2 &lt;dbl&gt; | JD4.3 &lt;dbl&gt; |\n",
       "|---|---|---|---|---|---|---|---|---|---|---|---|---|---|---|---|---|---|---|---|---|---|\n",
       "| 1 | evm.TU.scaffold10690.3 | E5.5.1.13 | -0.9999803 | 0 |  0.0000000 | 0 | 0 | 0 | 0 | 0 | ... | 0 | 0 | 0 | 0 | 23.993135 | 48.48322 | 22.372145 | 41.347317 | 71.849518 | 97.50892 |\n",
       "| 2 | NewGene_18497          | E4.2.3.19 |  0.0000000 | 0 | -0.9999829 | 0 | 0 | 0 | 0 | 0 | ... | 0 | 0 | 0 | 0 |  1.252584 |  2.23503 |  0.556391 |  2.543269 |  3.748316 |  6.35028 |\n",
       "\n"
      ],
      "text/plain": [
       "  ID                     V2        \\357\\273\\277cryptotanshinone tanshinoneV\n",
       "1 evm.TU.scaffold10690.3 E5.5.1.13 -0.9999803                   0          \n",
       "2 NewGene_18497          E4.2.3.19  0.0000000                   0          \n",
       "  sibieiquinone A 17-hydroxytanshindiol B isotanshinone 2A\n",
       "1  0.0000000      0                       0               \n",
       "2 -0.9999829      0                       0               \n",
       "  3-hydroxymethylenetanshi nquinone tanshindiol C norsalvioxide ...\n",
       "1 0                                 0             0             ...\n",
       "2 0                                 0             0             ...\n",
       "  tetrahydro tanshinone I tanshinone IIA microstegiol salvinone Control.1\n",
       "1 0                       0              0            0         23.993135\n",
       "2 0                       0              0            0          1.252584\n",
       "  Control.2 Control.3 JD4.1     JD4.2     JD4.3   \n",
       "1 48.48322  22.372145 41.347317 71.849518 97.50892\n",
       "2  2.23503   0.556391  2.543269  3.748316  6.35028"
      ]
     },
     "metadata": {},
     "output_type": "display_data"
    }
   ],
   "source": [
    "head(expr6,2)"
   ]
  },
  {
   "cell_type": "code",
   "execution_count": 367,
   "id": "eca5f738-d398-4ca9-adc6-bd5dd9b4273a",
   "metadata": {},
   "outputs": [],
   "source": [
    "expr7 = expr6[,c(2,26:31)] %>%  tibble::column_to_rownames(.,'V2')"
   ]
  },
  {
   "cell_type": "code",
   "execution_count": 369,
   "id": "77bc3c7d-6697-4010-b534-1d0878e58371",
   "metadata": {},
   "outputs": [],
   "source": [
    "expr7 = expr7[-c(1,2),]"
   ]
  },
  {
   "cell_type": "code",
   "execution_count": 371,
   "id": "af9645ff-e716-4aeb-9993-5cbb4cb0ee6a",
   "metadata": {},
   "outputs": [],
   "source": [
    "data = expr7"
   ]
  },
  {
   "cell_type": "code",
   "execution_count": 372,
   "id": "8e8b010f-5739-4508-8d30-5c66bd9aea91",
   "metadata": {},
   "outputs": [],
   "source": [
    "gene_name1<-c()\n",
    "gene_name2<-c()\n",
    "cor_r<-c()\n",
    "pvalue<-c()\n",
    "\n",
    "# 准备好循环体-可使用嵌套的for循环，完成完整的计算但不重复\n",
    "# 注意第二个for循环的值为 i: nrow(data)，这一点很巧妙\n",
    "\n",
    "for (i in 1:nrow(data)){\n",
    "  for (r in i:nrow(data)){\n",
    "    g1=rownames(data)[i]\n",
    "    g2=rownames(data)[r]\n",
    "    c_r=cor(as.numeric(data[i,]),as.numeric(data[r,]),method=\"pearson\")\n",
    "    p=cor.test(as.numeric(data[i,]),as.numeric(data[r,]),method =\"pearson\")[[3]]\n",
    "    ##保存每一步的数据，而不可直接以空向量作为每一步运行的结果\n",
    "    gene_name1=c(gene_name1,g1)\n",
    "    gene_name2=c(gene_name2,g2)\n",
    "    cor_r=c(cor_r,c_r)\n",
    "    pvalue=c(pvalue,p)\n",
    "       }\n",
    "}\n",
    "\n",
    "###输出为数据框，导出结果\n",
    "data_cor<-data.frame(gene_name1,gene_name2,cor_r,pvalue)"
   ]
  },
  {
   "cell_type": "code",
   "execution_count": 390,
   "id": "55d3d843-4308-4648-ae24-39e1ee7ab145",
   "metadata": {},
   "outputs": [],
   "source": [
    "data_cor2 = data_cor %>%  filter(pvalue < 0.01) %>%  filter(0.8 < abs(cor_r))  %>% filter(abs(cor_r) != 1.0000000)"
   ]
  },
  {
   "cell_type": "code",
   "execution_count": 394,
   "id": "fe48bd76-e6bf-4e4d-b5f8-67ee677dcd57",
   "metadata": {},
   "outputs": [],
   "source": [
    "data_cor2 = data_cor2[-19,-4]"
   ]
  },
  {
   "cell_type": "code",
   "execution_count": 395,
   "id": "831cc182-1d19-40ba-92dd-8ecc73998ade",
   "metadata": {},
   "outputs": [
    {
     "data": {
      "text/html": [
       "<table class=\"dataframe\">\n",
       "<caption>A data.frame: 21 x 3</caption>\n",
       "<thead>\n",
       "\t<tr><th></th><th scope=col>gene_name1</th><th scope=col>gene_name2</th><th scope=col>cor_r</th></tr>\n",
       "\t<tr><th></th><th scope=col>&lt;chr&gt;</th><th scope=col>&lt;chr&gt;</th><th scope=col>&lt;dbl&gt;</th></tr>\n",
       "</thead>\n",
       "<tbody>\n",
       "\t<tr><th scope=row>1</th><td>CML </td><td>PRF  </td><td> 0.9860290</td></tr>\n",
       "\t<tr><th scope=row>2</th><td>CML </td><td>ABF  </td><td> 0.9330592</td></tr>\n",
       "\t<tr><th scope=row>3</th><td>CML </td><td>SAUR </td><td> 0.9777891</td></tr>\n",
       "\t<tr><th scope=row>4</th><td>CML </td><td>PYL  </td><td> 0.9694207</td></tr>\n",
       "\t<tr><th scope=row>5</th><td>CML </td><td>PIF4 </td><td>-0.9676395</td></tr>\n",
       "\t<tr><th scope=row>6</th><td>CML </td><td>FRK1 </td><td> 0.9534431</td></tr>\n",
       "\t<tr><th scope=row>7</th><td>CML </td><td>UPA20</td><td>-0.9289694</td></tr>\n",
       "\t<tr><th scope=row>8</th><td>PRF </td><td>ABF  </td><td> 0.9310791</td></tr>\n",
       "\t<tr><th scope=row>9</th><td>PRF </td><td>SAUR </td><td> 0.9418842</td></tr>\n",
       "\t<tr><th scope=row>10</th><td>PRF </td><td>PYL  </td><td> 0.9740967</td></tr>\n",
       "\t<tr><th scope=row>11</th><td>PRF </td><td>PIF4 </td><td>-0.9208871</td></tr>\n",
       "\t<tr><th scope=row>12</th><td>PRF </td><td>FRK1 </td><td> 0.9297869</td></tr>\n",
       "\t<tr><th scope=row>13</th><td>IAA </td><td>YDA  </td><td> 0.9447785</td></tr>\n",
       "\t<tr><th scope=row>14</th><td>SAUR</td><td>PYL  </td><td> 0.9633123</td></tr>\n",
       "\t<tr><th scope=row>15</th><td>SAUR</td><td>PIF4 </td><td>-0.9804653</td></tr>\n",
       "\t<tr><th scope=row>16</th><td>SAUR</td><td>FRK1 </td><td> 0.9693573</td></tr>\n",
       "\t<tr><th scope=row>17</th><td>SAUR</td><td>UPA20</td><td>-0.9569677</td></tr>\n",
       "\t<tr><th scope=row>18</th><td>PYL </td><td>FRK1 </td><td> 0.9781751</td></tr>\n",
       "\t<tr><th scope=row>20</th><td>PIF4</td><td>PIK1 </td><td>-0.9260000</td></tr>\n",
       "\t<tr><th scope=row>21</th><td>PIF4</td><td>UPA20</td><td> 0.9768802</td></tr>\n",
       "\t<tr><th scope=row>22</th><td>PIK1</td><td>UPA20</td><td>-0.9333088</td></tr>\n",
       "</tbody>\n",
       "</table>\n"
      ],
      "text/latex": [
       "A data.frame: 21 x 3\n",
       "\\begin{tabular}{r|lll}\n",
       "  & gene\\_name1 & gene\\_name2 & cor\\_r\\\\\n",
       "  & <chr> & <chr> & <dbl>\\\\\n",
       "\\hline\n",
       "\t1 & CML  & PRF   &  0.9860290\\\\\n",
       "\t2 & CML  & ABF   &  0.9330592\\\\\n",
       "\t3 & CML  & SAUR  &  0.9777891\\\\\n",
       "\t4 & CML  & PYL   &  0.9694207\\\\\n",
       "\t5 & CML  & PIF4  & -0.9676395\\\\\n",
       "\t6 & CML  & FRK1  &  0.9534431\\\\\n",
       "\t7 & CML  & UPA20 & -0.9289694\\\\\n",
       "\t8 & PRF  & ABF   &  0.9310791\\\\\n",
       "\t9 & PRF  & SAUR  &  0.9418842\\\\\n",
       "\t10 & PRF  & PYL   &  0.9740967\\\\\n",
       "\t11 & PRF  & PIF4  & -0.9208871\\\\\n",
       "\t12 & PRF  & FRK1  &  0.9297869\\\\\n",
       "\t13 & IAA  & YDA   &  0.9447785\\\\\n",
       "\t14 & SAUR & PYL   &  0.9633123\\\\\n",
       "\t15 & SAUR & PIF4  & -0.9804653\\\\\n",
       "\t16 & SAUR & FRK1  &  0.9693573\\\\\n",
       "\t17 & SAUR & UPA20 & -0.9569677\\\\\n",
       "\t18 & PYL  & FRK1  &  0.9781751\\\\\n",
       "\t20 & PIF4 & PIK1  & -0.9260000\\\\\n",
       "\t21 & PIF4 & UPA20 &  0.9768802\\\\\n",
       "\t22 & PIK1 & UPA20 & -0.9333088\\\\\n",
       "\\end{tabular}\n"
      ],
      "text/markdown": [
       "\n",
       "A data.frame: 21 x 3\n",
       "\n",
       "| <!--/--> | gene_name1 &lt;chr&gt; | gene_name2 &lt;chr&gt; | cor_r &lt;dbl&gt; |\n",
       "|---|---|---|---|\n",
       "| 1 | CML  | PRF   |  0.9860290 |\n",
       "| 2 | CML  | ABF   |  0.9330592 |\n",
       "| 3 | CML  | SAUR  |  0.9777891 |\n",
       "| 4 | CML  | PYL   |  0.9694207 |\n",
       "| 5 | CML  | PIF4  | -0.9676395 |\n",
       "| 6 | CML  | FRK1  |  0.9534431 |\n",
       "| 7 | CML  | UPA20 | -0.9289694 |\n",
       "| 8 | PRF  | ABF   |  0.9310791 |\n",
       "| 9 | PRF  | SAUR  |  0.9418842 |\n",
       "| 10 | PRF  | PYL   |  0.9740967 |\n",
       "| 11 | PRF  | PIF4  | -0.9208871 |\n",
       "| 12 | PRF  | FRK1  |  0.9297869 |\n",
       "| 13 | IAA  | YDA   |  0.9447785 |\n",
       "| 14 | SAUR | PYL   |  0.9633123 |\n",
       "| 15 | SAUR | PIF4  | -0.9804653 |\n",
       "| 16 | SAUR | FRK1  |  0.9693573 |\n",
       "| 17 | SAUR | UPA20 | -0.9569677 |\n",
       "| 18 | PYL  | FRK1  |  0.9781751 |\n",
       "| 20 | PIF4 | PIK1  | -0.9260000 |\n",
       "| 21 | PIF4 | UPA20 |  0.9768802 |\n",
       "| 22 | PIK1 | UPA20 | -0.9333088 |\n",
       "\n"
      ],
      "text/plain": [
       "   gene_name1 gene_name2 cor_r     \n",
       "1  CML        PRF         0.9860290\n",
       "2  CML        ABF         0.9330592\n",
       "3  CML        SAUR        0.9777891\n",
       "4  CML        PYL         0.9694207\n",
       "5  CML        PIF4       -0.9676395\n",
       "6  CML        FRK1        0.9534431\n",
       "7  CML        UPA20      -0.9289694\n",
       "8  PRF        ABF         0.9310791\n",
       "9  PRF        SAUR        0.9418842\n",
       "10 PRF        PYL         0.9740967\n",
       "11 PRF        PIF4       -0.9208871\n",
       "12 PRF        FRK1        0.9297869\n",
       "13 IAA        YDA         0.9447785\n",
       "14 SAUR       PYL         0.9633123\n",
       "15 SAUR       PIF4       -0.9804653\n",
       "16 SAUR       FRK1        0.9693573\n",
       "17 SAUR       UPA20      -0.9569677\n",
       "18 PYL        FRK1        0.9781751\n",
       "20 PIF4       PIK1       -0.9260000\n",
       "21 PIF4       UPA20       0.9768802\n",
       "22 PIK1       UPA20      -0.9333088"
      ]
     },
     "metadata": {},
     "output_type": "display_data"
    }
   ],
   "source": [
    "data_cor2"
   ]
  },
  {
   "cell_type": "code",
   "execution_count": 396,
   "id": "9a2b312c-ccf2-4442-a670-efdfb71e1cae",
   "metadata": {},
   "outputs": [
    {
     "name": "stderr",
     "output_type": "stream",
     "text": [
      "Warning message in write.csv(data_cor2, file = \"data_cor2.csv\", quote = F, col.names = F, :\n",
      "\"attempt to set 'col.names' ignored\"\n"
     ]
    }
   ],
   "source": [
    "write.csv(data_cor2,file = 'data_cor2.csv',quote = F,col.names = F,row.names = F)"
   ]
  },
  {
   "cell_type": "code",
   "execution_count": 409,
   "id": "6c9f675a-45a5-49f8-bb4b-73c3423cb916",
   "metadata": {},
   "outputs": [],
   "source": [
    "kegg = read.csv('./Control_vs_JD4_KEGG_pathway_enrich.csv',check.names = F)"
   ]
  },
  {
   "cell_type": "code",
   "execution_count": 412,
   "id": "74a3a048-f8e9-48d3-84bd-f9376070df77",
   "metadata": {},
   "outputs": [
    {
     "data": {
      "text/html": [
       "<table class=\"dataframe\">\n",
       "<caption>A data.frame: 2 x 12</caption>\n",
       "<thead>\n",
       "\t<tr><th></th><th scope=col><ef><bb><bf>KEGG_A_class</th><th scope=col>KEGG_B_class</th><th scope=col>ID</th><th scope=col>Pathway</th><th scope=col>GeneRatio</th><th scope=col>BgRatio</th><th scope=col>enrich_factor</th><th scope=col>pvalue</th><th scope=col>qvalue</th><th scope=col>geneID</th><th scope=col>gene_number</th><th scope=col>Contained</th></tr>\n",
       "\t<tr><th></th><th scope=col>&lt;chr&gt;</th><th scope=col>&lt;chr&gt;</th><th scope=col>&lt;chr&gt;</th><th scope=col>&lt;chr&gt;</th><th scope=col>&lt;chr&gt;</th><th scope=col>&lt;chr&gt;</th><th scope=col>&lt;dbl&gt;</th><th scope=col>&lt;dbl&gt;</th><th scope=col>&lt;dbl&gt;</th><th scope=col>&lt;chr&gt;</th><th scope=col>&lt;int&gt;</th><th scope=col>&lt;chr&gt;</th></tr>\n",
       "</thead>\n",
       "<tbody>\n",
       "\t<tr><th scope=row>1</th><td>Organismal Systems</td><td><span style=white-space:pre-wrap>Environmental adaptation       </span></td><td>ko04626</td><td>Plant-pathogen interaction</td><td>21.16%</td><td>12.54%</td><td>1.69</td><td>1.480000e-16</td><td>1.780000e-14</td><td>NewGene_10068;NewGene_10273;NewGene_10415;NewGene_10524;NewGene_10901;NewGene_10917;NewGene_10931;NewGene_11168;NewGene_11231;NewGene_11390;NewGene_11676;NewGene_11732;NewGene_11961;NewGene_12164;NewGene_12173;NewGene_12375;NewGene_12483;NewGene_12652;NewGene_13086;NewGene_13336;NewGene_1354;NewGene_13773;NewGene_13781;NewGene_13808;NewGene_14121;NewGene_14337;NewGene_14375;NewGene_14584;NewGene_14636;NewGene_14992;NewGene_15023;NewGene_15102;NewGene_15103;NewGene_1519;NewGene_15330;NewGene_15468;NewGene_15845;NewGene_15951;NewGene_15954;NewGene_16175;NewGene_16406;NewGene_16418;NewGene_16439;NewGene_16448;NewGene_166;NewGene_16856;NewGene_17020;NewGene_17207;NewGene_17633;NewGene_17973;NewGene_18353;NewGene_18478;NewGene_1882;NewGene_18878;NewGene_2038;NewGene_2412;NewGene_2413;NewGene_2438;NewGene_2469;NewGene_2489;NewGene_2495;NewGene_2706;NewGene_2928;NewGene_3139;NewGene_3324;NewGene_3594;NewGene_3698;NewGene_3923;NewGene_3925;NewGene_4015;NewGene_402;NewGene_4155;NewGene_4291;NewGene_4329;NewGene_4370;NewGene_4372;NewGene_4383;NewGene_4387;NewGene_4389;NewGene_4391;NewGene_4443;NewGene_4616;NewGene_4902;NewGene_5245;NewGene_532;NewGene_5347;NewGene_5499;NewGene_5532;NewGene_5559;NewGene_5616;NewGene_5693;NewGene_5698;NewGene_5770;NewGene_5887;NewGene_5952;NewGene_6102;NewGene_6242;NewGene_6273;NewGene_6532;NewGene_6537;NewGene_6742;NewGene_6822;NewGene_6831;NewGene_6935;NewGene_6945;NewGene_6946;NewGene_7230;NewGene_7295;NewGene_7352;NewGene_7455;NewGene_7598;NewGene_7599;NewGene_7684;NewGene_7830;NewGene_789;NewGene_79;NewGene_8133;NewGene_848;NewGene_8536;NewGene_8537;NewGene_8771;NewGene_8808;NewGene_8832;NewGene_8862;NewGene_8954;NewGene_901;NewGene_9071;NewGene_9072;NewGene_9139;NewGene_9231;NewGene_9300;NewGene_9358;NewGene_9587;NewGene_9941;NewGene_9942;evm.TU.C205859.1;evm.TU.C211445.1;evm.TU.C211629.4;evm.TU.C212567.3;evm.TU.C213531.1;evm.TU.C215823.1;evm.TU.C216491.1;evm.TU.C217201.1;evm.TU.C218827.3;evm.TU.C220281.9;evm.TU.C221205.1;evm.TU.C221305.11;evm.TU.C221457.3;evm.TU.C222149.3;evm.TU.C222571.32;evm.TU.scaffold1000.2;evm.TU.scaffold10101.9;evm.TU.scaffold1055.2;evm.TU.scaffold1055.4;evm.TU.scaffold11103.3;evm.TU.scaffold11122.1;evm.TU.scaffold1151.1;evm.TU.scaffold11932.10;evm.TU.scaffold11975.10;evm.TU.scaffold12024.3;evm.TU.scaffold12259.2;evm.TU.scaffold12326.1;evm.TU.scaffold12599.9;evm.TU.scaffold12656.6;evm.TU.scaffold12678.1;evm.TU.scaffold12713.1;evm.TU.scaffold1330.1;evm.TU.scaffold1386.5;evm.TU.scaffold1487.2;evm.TU.scaffold2.4;evm.TU.scaffold2010.2;evm.TU.scaffold2217.2;evm.TU.scaffold2291.11;evm.TU.scaffold230.12;evm.TU.scaffold2400.5;evm.TU.scaffold256.24;evm.TU.scaffold2752.5;evm.TU.scaffold3077.8;evm.TU.scaffold3241.3;evm.TU.scaffold3386.3;evm.TU.scaffold3595.2;evm.TU.scaffold3608.27;evm.TU.scaffold363.3;evm.TU.scaffold3827.3;evm.TU.scaffold3865.2;evm.TU.scaffold4616.8;evm.TU.scaffold5191.14;evm.TU.scaffold5233.17;evm.TU.scaffold5324.1;evm.TU.scaffold5755.15;evm.TU.scaffold6499.2;evm.TU.scaffold6509.7;evm.TU.scaffold655.10;evm.TU.scaffold655.7;evm.TU.scaffold655.9;evm.TU.scaffold6633.19;evm.TU.scaffold6808.22;evm.TU.scaffold6809.2;evm.TU.scaffold6822.3;evm.TU.scaffold7115.15;evm.TU.scaffold7325.2;evm.TU.scaffold75.8;evm.TU.scaffold75.9;evm.TU.scaffold7501.17;evm.TU.scaffold7789.4;evm.TU.scaffold8056.33;evm.TU.scaffold839.6;evm.TU.scaffold847.2;evm.TU.scaffold8595.2;evm.TU.scaffold8717.2;evm.TU.scaffold8927.8;evm.TU.scaffold9390.1;evm.TU.scaffold955.1;evm.TU.scaffold990.3;evm.TU.scaffold9935.2;evm.TU.scaffold999.22</td><td>216</td><td>up&amp;down</td></tr>\n",
       "\t<tr><th scope=row>2</th><td><span style=white-space:pre-wrap>Metabolism        </span></td><td>Metabolism of other amino acids</td><td>ko00460</td><td>Cyanoamino acid metabolism</td><td>1.76% </td><td>0.90% </td><td>1.95</td><td>3.960838e-03</td><td>2.136138e-01</td><td><span style=white-space:pre-wrap>NewGene_10165;NewGene_12547;NewGene_14316;NewGene_17930;NewGene_2212;NewGene_2783;NewGene_419;NewGene_4766;NewGene_825;evm.TU.C221559.5;evm.TU.scaffold10053.3;evm.TU.scaffold11808.5;evm.TU.scaffold12761.8;evm.TU.scaffold1901.2;evm.TU.scaffold1988.1;evm.TU.scaffold5408.16;evm.TU.scaffold6550.1;evm.TU.scaffold7013.9                                                                                                                                                                                                                                                                                                                                                                                                                                                                                                                                                                                                                                                                                                                                                                                                                                                                                                                                                                                                                                                                                                                                                                                                                                                                                                                                                                                                                                                                                                                                                                                                                                                                                                                                                                                                                                                                                                                                                                                                                                                                                                                                                                                                                                                                                                                                                                                                                                                                                                                                                                                                                                                                                                                                                                                                                                                                                                                                                                                                                                                                                                                                                                                                                                                                                                                                </span></td><td> 18</td><td>up&amp;down</td></tr>\n",
       "</tbody>\n",
       "</table>\n"
      ],
      "text/latex": [
       "A data.frame: 2 x 12\n",
       "\\begin{tabular}{r|llllllllllll}\n",
       "  & <ef><bb><bf>KEGG\\_A\\_class & KEGG\\_B\\_class & ID & Pathway & GeneRatio & BgRatio & enrich\\_factor & pvalue & qvalue & geneID & gene\\_number & Contained\\\\\n",
       "  & <chr> & <chr> & <chr> & <chr> & <chr> & <chr> & <dbl> & <dbl> & <dbl> & <chr> & <int> & <chr>\\\\\n",
       "\\hline\n",
       "\t1 & Organismal Systems & Environmental adaptation        & ko04626 & Plant-pathogen interaction & 21.16\\% & 12.54\\% & 1.69 & 1.480000e-16 & 1.780000e-14 & NewGene\\_10068;NewGene\\_10273;NewGene\\_10415;NewGene\\_10524;NewGene\\_10901;NewGene\\_10917;NewGene\\_10931;NewGene\\_11168;NewGene\\_11231;NewGene\\_11390;NewGene\\_11676;NewGene\\_11732;NewGene\\_11961;NewGene\\_12164;NewGene\\_12173;NewGene\\_12375;NewGene\\_12483;NewGene\\_12652;NewGene\\_13086;NewGene\\_13336;NewGene\\_1354;NewGene\\_13773;NewGene\\_13781;NewGene\\_13808;NewGene\\_14121;NewGene\\_14337;NewGene\\_14375;NewGene\\_14584;NewGene\\_14636;NewGene\\_14992;NewGene\\_15023;NewGene\\_15102;NewGene\\_15103;NewGene\\_1519;NewGene\\_15330;NewGene\\_15468;NewGene\\_15845;NewGene\\_15951;NewGene\\_15954;NewGene\\_16175;NewGene\\_16406;NewGene\\_16418;NewGene\\_16439;NewGene\\_16448;NewGene\\_166;NewGene\\_16856;NewGene\\_17020;NewGene\\_17207;NewGene\\_17633;NewGene\\_17973;NewGene\\_18353;NewGene\\_18478;NewGene\\_1882;NewGene\\_18878;NewGene\\_2038;NewGene\\_2412;NewGene\\_2413;NewGene\\_2438;NewGene\\_2469;NewGene\\_2489;NewGene\\_2495;NewGene\\_2706;NewGene\\_2928;NewGene\\_3139;NewGene\\_3324;NewGene\\_3594;NewGene\\_3698;NewGene\\_3923;NewGene\\_3925;NewGene\\_4015;NewGene\\_402;NewGene\\_4155;NewGene\\_4291;NewGene\\_4329;NewGene\\_4370;NewGene\\_4372;NewGene\\_4383;NewGene\\_4387;NewGene\\_4389;NewGene\\_4391;NewGene\\_4443;NewGene\\_4616;NewGene\\_4902;NewGene\\_5245;NewGene\\_532;NewGene\\_5347;NewGene\\_5499;NewGene\\_5532;NewGene\\_5559;NewGene\\_5616;NewGene\\_5693;NewGene\\_5698;NewGene\\_5770;NewGene\\_5887;NewGene\\_5952;NewGene\\_6102;NewGene\\_6242;NewGene\\_6273;NewGene\\_6532;NewGene\\_6537;NewGene\\_6742;NewGene\\_6822;NewGene\\_6831;NewGene\\_6935;NewGene\\_6945;NewGene\\_6946;NewGene\\_7230;NewGene\\_7295;NewGene\\_7352;NewGene\\_7455;NewGene\\_7598;NewGene\\_7599;NewGene\\_7684;NewGene\\_7830;NewGene\\_789;NewGene\\_79;NewGene\\_8133;NewGene\\_848;NewGene\\_8536;NewGene\\_8537;NewGene\\_8771;NewGene\\_8808;NewGene\\_8832;NewGene\\_8862;NewGene\\_8954;NewGene\\_901;NewGene\\_9071;NewGene\\_9072;NewGene\\_9139;NewGene\\_9231;NewGene\\_9300;NewGene\\_9358;NewGene\\_9587;NewGene\\_9941;NewGene\\_9942;evm.TU.C205859.1;evm.TU.C211445.1;evm.TU.C211629.4;evm.TU.C212567.3;evm.TU.C213531.1;evm.TU.C215823.1;evm.TU.C216491.1;evm.TU.C217201.1;evm.TU.C218827.3;evm.TU.C220281.9;evm.TU.C221205.1;evm.TU.C221305.11;evm.TU.C221457.3;evm.TU.C222149.3;evm.TU.C222571.32;evm.TU.scaffold1000.2;evm.TU.scaffold10101.9;evm.TU.scaffold1055.2;evm.TU.scaffold1055.4;evm.TU.scaffold11103.3;evm.TU.scaffold11122.1;evm.TU.scaffold1151.1;evm.TU.scaffold11932.10;evm.TU.scaffold11975.10;evm.TU.scaffold12024.3;evm.TU.scaffold12259.2;evm.TU.scaffold12326.1;evm.TU.scaffold12599.9;evm.TU.scaffold12656.6;evm.TU.scaffold12678.1;evm.TU.scaffold12713.1;evm.TU.scaffold1330.1;evm.TU.scaffold1386.5;evm.TU.scaffold1487.2;evm.TU.scaffold2.4;evm.TU.scaffold2010.2;evm.TU.scaffold2217.2;evm.TU.scaffold2291.11;evm.TU.scaffold230.12;evm.TU.scaffold2400.5;evm.TU.scaffold256.24;evm.TU.scaffold2752.5;evm.TU.scaffold3077.8;evm.TU.scaffold3241.3;evm.TU.scaffold3386.3;evm.TU.scaffold3595.2;evm.TU.scaffold3608.27;evm.TU.scaffold363.3;evm.TU.scaffold3827.3;evm.TU.scaffold3865.2;evm.TU.scaffold4616.8;evm.TU.scaffold5191.14;evm.TU.scaffold5233.17;evm.TU.scaffold5324.1;evm.TU.scaffold5755.15;evm.TU.scaffold6499.2;evm.TU.scaffold6509.7;evm.TU.scaffold655.10;evm.TU.scaffold655.7;evm.TU.scaffold655.9;evm.TU.scaffold6633.19;evm.TU.scaffold6808.22;evm.TU.scaffold6809.2;evm.TU.scaffold6822.3;evm.TU.scaffold7115.15;evm.TU.scaffold7325.2;evm.TU.scaffold75.8;evm.TU.scaffold75.9;evm.TU.scaffold7501.17;evm.TU.scaffold7789.4;evm.TU.scaffold8056.33;evm.TU.scaffold839.6;evm.TU.scaffold847.2;evm.TU.scaffold8595.2;evm.TU.scaffold8717.2;evm.TU.scaffold8927.8;evm.TU.scaffold9390.1;evm.TU.scaffold955.1;evm.TU.scaffold990.3;evm.TU.scaffold9935.2;evm.TU.scaffold999.22 & 216 & up\\&down\\\\\n",
       "\t2 & Metabolism         & Metabolism of other amino acids & ko00460 & Cyanoamino acid metabolism & 1.76\\%  & 0.90\\%  & 1.95 & 3.960838e-03 & 2.136138e-01 & NewGene\\_10165;NewGene\\_12547;NewGene\\_14316;NewGene\\_17930;NewGene\\_2212;NewGene\\_2783;NewGene\\_419;NewGene\\_4766;NewGene\\_825;evm.TU.C221559.5;evm.TU.scaffold10053.3;evm.TU.scaffold11808.5;evm.TU.scaffold12761.8;evm.TU.scaffold1901.2;evm.TU.scaffold1988.1;evm.TU.scaffold5408.16;evm.TU.scaffold6550.1;evm.TU.scaffold7013.9                                                                                                                                                                                                                                                                                                                                                                                                                                                                                                                                                                                                                                                                                                                                                                                                                                                                                                                                                                                                                                                                                                                                                                                                                                                                                                                                                                                                                                                                                                                                                                                                                                                                                                                                                                                                                                                                                                                                                                                                                                                                                                                                                                                                                                                                                                                                                                                                                                                                                                                                                                                                                                                                                                                                                                                                                                                                                                                                                                                                                                                                                                                                                                                                                                                                                                                                 &  18 & up\\&down\\\\\n",
       "\\end{tabular}\n"
      ],
      "text/markdown": [
       "\n",
       "A data.frame: 2 x 12\n",
       "\n",
       "| <!--/--> | <ef><bb><bf>KEGG_A_class &lt;chr&gt; | KEGG_B_class &lt;chr&gt; | ID &lt;chr&gt; | Pathway &lt;chr&gt; | GeneRatio &lt;chr&gt; | BgRatio &lt;chr&gt; | enrich_factor &lt;dbl&gt; | pvalue &lt;dbl&gt; | qvalue &lt;dbl&gt; | geneID &lt;chr&gt; | gene_number &lt;int&gt; | Contained &lt;chr&gt; |\n",
       "|---|---|---|---|---|---|---|---|---|---|---|---|---|\n",
       "| 1 | Organismal Systems | Environmental adaptation        | ko04626 | Plant-pathogen interaction | 21.16% | 12.54% | 1.69 | 1.480000e-16 | 1.780000e-14 | NewGene_10068;NewGene_10273;NewGene_10415;NewGene_10524;NewGene_10901;NewGene_10917;NewGene_10931;NewGene_11168;NewGene_11231;NewGene_11390;NewGene_11676;NewGene_11732;NewGene_11961;NewGene_12164;NewGene_12173;NewGene_12375;NewGene_12483;NewGene_12652;NewGene_13086;NewGene_13336;NewGene_1354;NewGene_13773;NewGene_13781;NewGene_13808;NewGene_14121;NewGene_14337;NewGene_14375;NewGene_14584;NewGene_14636;NewGene_14992;NewGene_15023;NewGene_15102;NewGene_15103;NewGene_1519;NewGene_15330;NewGene_15468;NewGene_15845;NewGene_15951;NewGene_15954;NewGene_16175;NewGene_16406;NewGene_16418;NewGene_16439;NewGene_16448;NewGene_166;NewGene_16856;NewGene_17020;NewGene_17207;NewGene_17633;NewGene_17973;NewGene_18353;NewGene_18478;NewGene_1882;NewGene_18878;NewGene_2038;NewGene_2412;NewGene_2413;NewGene_2438;NewGene_2469;NewGene_2489;NewGene_2495;NewGene_2706;NewGene_2928;NewGene_3139;NewGene_3324;NewGene_3594;NewGene_3698;NewGene_3923;NewGene_3925;NewGene_4015;NewGene_402;NewGene_4155;NewGene_4291;NewGene_4329;NewGene_4370;NewGene_4372;NewGene_4383;NewGene_4387;NewGene_4389;NewGene_4391;NewGene_4443;NewGene_4616;NewGene_4902;NewGene_5245;NewGene_532;NewGene_5347;NewGene_5499;NewGene_5532;NewGene_5559;NewGene_5616;NewGene_5693;NewGene_5698;NewGene_5770;NewGene_5887;NewGene_5952;NewGene_6102;NewGene_6242;NewGene_6273;NewGene_6532;NewGene_6537;NewGene_6742;NewGene_6822;NewGene_6831;NewGene_6935;NewGene_6945;NewGene_6946;NewGene_7230;NewGene_7295;NewGene_7352;NewGene_7455;NewGene_7598;NewGene_7599;NewGene_7684;NewGene_7830;NewGene_789;NewGene_79;NewGene_8133;NewGene_848;NewGene_8536;NewGene_8537;NewGene_8771;NewGene_8808;NewGene_8832;NewGene_8862;NewGene_8954;NewGene_901;NewGene_9071;NewGene_9072;NewGene_9139;NewGene_9231;NewGene_9300;NewGene_9358;NewGene_9587;NewGene_9941;NewGene_9942;evm.TU.C205859.1;evm.TU.C211445.1;evm.TU.C211629.4;evm.TU.C212567.3;evm.TU.C213531.1;evm.TU.C215823.1;evm.TU.C216491.1;evm.TU.C217201.1;evm.TU.C218827.3;evm.TU.C220281.9;evm.TU.C221205.1;evm.TU.C221305.11;evm.TU.C221457.3;evm.TU.C222149.3;evm.TU.C222571.32;evm.TU.scaffold1000.2;evm.TU.scaffold10101.9;evm.TU.scaffold1055.2;evm.TU.scaffold1055.4;evm.TU.scaffold11103.3;evm.TU.scaffold11122.1;evm.TU.scaffold1151.1;evm.TU.scaffold11932.10;evm.TU.scaffold11975.10;evm.TU.scaffold12024.3;evm.TU.scaffold12259.2;evm.TU.scaffold12326.1;evm.TU.scaffold12599.9;evm.TU.scaffold12656.6;evm.TU.scaffold12678.1;evm.TU.scaffold12713.1;evm.TU.scaffold1330.1;evm.TU.scaffold1386.5;evm.TU.scaffold1487.2;evm.TU.scaffold2.4;evm.TU.scaffold2010.2;evm.TU.scaffold2217.2;evm.TU.scaffold2291.11;evm.TU.scaffold230.12;evm.TU.scaffold2400.5;evm.TU.scaffold256.24;evm.TU.scaffold2752.5;evm.TU.scaffold3077.8;evm.TU.scaffold3241.3;evm.TU.scaffold3386.3;evm.TU.scaffold3595.2;evm.TU.scaffold3608.27;evm.TU.scaffold363.3;evm.TU.scaffold3827.3;evm.TU.scaffold3865.2;evm.TU.scaffold4616.8;evm.TU.scaffold5191.14;evm.TU.scaffold5233.17;evm.TU.scaffold5324.1;evm.TU.scaffold5755.15;evm.TU.scaffold6499.2;evm.TU.scaffold6509.7;evm.TU.scaffold655.10;evm.TU.scaffold655.7;evm.TU.scaffold655.9;evm.TU.scaffold6633.19;evm.TU.scaffold6808.22;evm.TU.scaffold6809.2;evm.TU.scaffold6822.3;evm.TU.scaffold7115.15;evm.TU.scaffold7325.2;evm.TU.scaffold75.8;evm.TU.scaffold75.9;evm.TU.scaffold7501.17;evm.TU.scaffold7789.4;evm.TU.scaffold8056.33;evm.TU.scaffold839.6;evm.TU.scaffold847.2;evm.TU.scaffold8595.2;evm.TU.scaffold8717.2;evm.TU.scaffold8927.8;evm.TU.scaffold9390.1;evm.TU.scaffold955.1;evm.TU.scaffold990.3;evm.TU.scaffold9935.2;evm.TU.scaffold999.22 | 216 | up&amp;down |\n",
       "| 2 | Metabolism         | Metabolism of other amino acids | ko00460 | Cyanoamino acid metabolism | 1.76%  | 0.90%  | 1.95 | 3.960838e-03 | 2.136138e-01 | NewGene_10165;NewGene_12547;NewGene_14316;NewGene_17930;NewGene_2212;NewGene_2783;NewGene_419;NewGene_4766;NewGene_825;evm.TU.C221559.5;evm.TU.scaffold10053.3;evm.TU.scaffold11808.5;evm.TU.scaffold12761.8;evm.TU.scaffold1901.2;evm.TU.scaffold1988.1;evm.TU.scaffold5408.16;evm.TU.scaffold6550.1;evm.TU.scaffold7013.9                                                                                                                                                                                                                                                                                                                                                                                                                                                                                                                                                                                                                                                                                                                                                                                                                                                                                                                                                                                                                                                                                                                                                                                                                                                                                                                                                                                                                                                                                                                                                                                                                                                                                                                                                                                                                                                                                                                                                                                                                                                                                                                                                                                                                                                                                                                                                                                                                                                                                                                                                                                                                                                                                                                                                                                                                                                                                                                                                                                                                                                                                                                                                                                                                                                                                                                                 |  18 | up&amp;down |\n",
       "\n"
      ],
      "text/plain": [
       "  \\357\\273\\277KEGG_A_class KEGG_B_class                    ID     \n",
       "1 Organismal Systems       Environmental adaptation        ko04626\n",
       "2 Metabolism               Metabolism of other amino acids ko00460\n",
       "  Pathway                    GeneRatio BgRatio enrich_factor pvalue      \n",
       "1 Plant-pathogen interaction 21.16%    12.54%  1.69          1.480000e-16\n",
       "2 Cyanoamino acid metabolism 1.76%     0.90%   1.95          3.960838e-03\n",
       "  qvalue      \n",
       "1 1.780000e-14\n",
       "2 2.136138e-01\n",
       "  geneID                                                                                                                                                                                                                                                                                                                                                                                                                                                                                                                                                                                                                                                                                                                                                                                                                                                                                                                                                                                                                                                                                                                                                                                                                                                                                                                                                                                                                                                                                                                                                                                                                                                                                                                                                                                                                                                                                                                                                                                                                                                                                                                                                                                                                                                                                                                                                                                                                                                                                                                                                                                                                                                                                                                                                                                                                                                                                                                                                                                                                                                                                                                                                                                                                                                                                                                                                                                                                                                                                                                                                                                                                                                     \n",
       "1 NewGene_10068;NewGene_10273;NewGene_10415;NewGene_10524;NewGene_10901;NewGene_10917;NewGene_10931;NewGene_11168;NewGene_11231;NewGene_11390;NewGene_11676;NewGene_11732;NewGene_11961;NewGene_12164;NewGene_12173;NewGene_12375;NewGene_12483;NewGene_12652;NewGene_13086;NewGene_13336;NewGene_1354;NewGene_13773;NewGene_13781;NewGene_13808;NewGene_14121;NewGene_14337;NewGene_14375;NewGene_14584;NewGene_14636;NewGene_14992;NewGene_15023;NewGene_15102;NewGene_15103;NewGene_1519;NewGene_15330;NewGene_15468;NewGene_15845;NewGene_15951;NewGene_15954;NewGene_16175;NewGene_16406;NewGene_16418;NewGene_16439;NewGene_16448;NewGene_166;NewGene_16856;NewGene_17020;NewGene_17207;NewGene_17633;NewGene_17973;NewGene_18353;NewGene_18478;NewGene_1882;NewGene_18878;NewGene_2038;NewGene_2412;NewGene_2413;NewGene_2438;NewGene_2469;NewGene_2489;NewGene_2495;NewGene_2706;NewGene_2928;NewGene_3139;NewGene_3324;NewGene_3594;NewGene_3698;NewGene_3923;NewGene_3925;NewGene_4015;NewGene_402;NewGene_4155;NewGene_4291;NewGene_4329;NewGene_4370;NewGene_4372;NewGene_4383;NewGene_4387;NewGene_4389;NewGene_4391;NewGene_4443;NewGene_4616;NewGene_4902;NewGene_5245;NewGene_532;NewGene_5347;NewGene_5499;NewGene_5532;NewGene_5559;NewGene_5616;NewGene_5693;NewGene_5698;NewGene_5770;NewGene_5887;NewGene_5952;NewGene_6102;NewGene_6242;NewGene_6273;NewGene_6532;NewGene_6537;NewGene_6742;NewGene_6822;NewGene_6831;NewGene_6935;NewGene_6945;NewGene_6946;NewGene_7230;NewGene_7295;NewGene_7352;NewGene_7455;NewGene_7598;NewGene_7599;NewGene_7684;NewGene_7830;NewGene_789;NewGene_79;NewGene_8133;NewGene_848;NewGene_8536;NewGene_8537;NewGene_8771;NewGene_8808;NewGene_8832;NewGene_8862;NewGene_8954;NewGene_901;NewGene_9071;NewGene_9072;NewGene_9139;NewGene_9231;NewGene_9300;NewGene_9358;NewGene_9587;NewGene_9941;NewGene_9942;evm.TU.C205859.1;evm.TU.C211445.1;evm.TU.C211629.4;evm.TU.C212567.3;evm.TU.C213531.1;evm.TU.C215823.1;evm.TU.C216491.1;evm.TU.C217201.1;evm.TU.C218827.3;evm.TU.C220281.9;evm.TU.C221205.1;evm.TU.C221305.11;evm.TU.C221457.3;evm.TU.C222149.3;evm.TU.C222571.32;evm.TU.scaffold1000.2;evm.TU.scaffold10101.9;evm.TU.scaffold1055.2;evm.TU.scaffold1055.4;evm.TU.scaffold11103.3;evm.TU.scaffold11122.1;evm.TU.scaffold1151.1;evm.TU.scaffold11932.10;evm.TU.scaffold11975.10;evm.TU.scaffold12024.3;evm.TU.scaffold12259.2;evm.TU.scaffold12326.1;evm.TU.scaffold12599.9;evm.TU.scaffold12656.6;evm.TU.scaffold12678.1;evm.TU.scaffold12713.1;evm.TU.scaffold1330.1;evm.TU.scaffold1386.5;evm.TU.scaffold1487.2;evm.TU.scaffold2.4;evm.TU.scaffold2010.2;evm.TU.scaffold2217.2;evm.TU.scaffold2291.11;evm.TU.scaffold230.12;evm.TU.scaffold2400.5;evm.TU.scaffold256.24;evm.TU.scaffold2752.5;evm.TU.scaffold3077.8;evm.TU.scaffold3241.3;evm.TU.scaffold3386.3;evm.TU.scaffold3595.2;evm.TU.scaffold3608.27;evm.TU.scaffold363.3;evm.TU.scaffold3827.3;evm.TU.scaffold3865.2;evm.TU.scaffold4616.8;evm.TU.scaffold5191.14;evm.TU.scaffold5233.17;evm.TU.scaffold5324.1;evm.TU.scaffold5755.15;evm.TU.scaffold6499.2;evm.TU.scaffold6509.7;evm.TU.scaffold655.10;evm.TU.scaffold655.7;evm.TU.scaffold655.9;evm.TU.scaffold6633.19;evm.TU.scaffold6808.22;evm.TU.scaffold6809.2;evm.TU.scaffold6822.3;evm.TU.scaffold7115.15;evm.TU.scaffold7325.2;evm.TU.scaffold75.8;evm.TU.scaffold75.9;evm.TU.scaffold7501.17;evm.TU.scaffold7789.4;evm.TU.scaffold8056.33;evm.TU.scaffold839.6;evm.TU.scaffold847.2;evm.TU.scaffold8595.2;evm.TU.scaffold8717.2;evm.TU.scaffold8927.8;evm.TU.scaffold9390.1;evm.TU.scaffold955.1;evm.TU.scaffold990.3;evm.TU.scaffold9935.2;evm.TU.scaffold999.22\n",
       "2 NewGene_10165;NewGene_12547;NewGene_14316;NewGene_17930;NewGene_2212;NewGene_2783;NewGene_419;NewGene_4766;NewGene_825;evm.TU.C221559.5;evm.TU.scaffold10053.3;evm.TU.scaffold11808.5;evm.TU.scaffold12761.8;evm.TU.scaffold1901.2;evm.TU.scaffold1988.1;evm.TU.scaffold5408.16;evm.TU.scaffold6550.1;evm.TU.scaffold7013.9                                                                                                                                                                                                                                                                                                                                                                                                                                                                                                                                                                                                                                                                                                                                                                                                                                                                                                                                                                                                                                                                                                                                                                                                                                                                                                                                                                                                                                                                                                                                                                                                                                                                                                                                                                                                                                                                                                                                                                                                                                                                                                                                                                                                                                                                                                                                                                                                                                                                                                                                                                                                                                                                                                                                                                                                                                                                                                                                                                                                                                                                                                                                                                                                                                                                                                                                \n",
       "  gene_number Contained\n",
       "1 216         up&down  \n",
       "2  18         up&down  "
      ]
     },
     "metadata": {},
     "output_type": "display_data"
    }
   ],
   "source": [
    "head(kegg,2)"
   ]
  },
  {
   "cell_type": "code",
   "execution_count": 413,
   "id": "3476a176-e2f9-4ff2-a8ac-c132ed5f56d2",
   "metadata": {},
   "outputs": [],
   "source": [
    "kegg1 = kegg[c(1:17),]"
   ]
  },
  {
   "cell_type": "code",
   "execution_count": 414,
   "id": "cb4f9a4f-9bee-4ba7-9337-1b9b01a7c5b6",
   "metadata": {},
   "outputs": [],
   "source": [
    "ko = c('ko04016','ko00904','ko04075')"
   ]
  },
  {
   "cell_type": "code",
   "execution_count": 415,
   "id": "b233867b-3578-43e7-a1d2-daf70481f224",
   "metadata": {},
   "outputs": [],
   "source": [
    "kegg2 = kegg %>%  dplyr::filter(ID %in% ko)"
   ]
  },
  {
   "cell_type": "code",
   "execution_count": 416,
   "id": "61471377-39b5-45cf-b082-f56992919879",
   "metadata": {},
   "outputs": [],
   "source": [
    "kegg3 = rbind(kegg1,kegg2)"
   ]
  },
  {
   "cell_type": "code",
   "execution_count": 417,
   "id": "ea124b9e-1423-4cf5-88ef-04a0f1d85e28",
   "metadata": {},
   "outputs": [
    {
     "data": {
      "text/html": [
       "<table class=\"dataframe\">\n",
       "<caption>A data.frame: 2 x 12</caption>\n",
       "<thead>\n",
       "\t<tr><th></th><th scope=col><ef><bb><bf>KEGG_A_class</th><th scope=col>KEGG_B_class</th><th scope=col>ID</th><th scope=col>Pathway</th><th scope=col>GeneRatio</th><th scope=col>BgRatio</th><th scope=col>enrich_factor</th><th scope=col>pvalue</th><th scope=col>qvalue</th><th scope=col>geneID</th><th scope=col>gene_number</th><th scope=col>Contained</th></tr>\n",
       "\t<tr><th></th><th scope=col>&lt;chr&gt;</th><th scope=col>&lt;chr&gt;</th><th scope=col>&lt;chr&gt;</th><th scope=col>&lt;chr&gt;</th><th scope=col>&lt;chr&gt;</th><th scope=col>&lt;chr&gt;</th><th scope=col>&lt;dbl&gt;</th><th scope=col>&lt;dbl&gt;</th><th scope=col>&lt;dbl&gt;</th><th scope=col>&lt;chr&gt;</th><th scope=col>&lt;int&gt;</th><th scope=col>&lt;chr&gt;</th></tr>\n",
       "</thead>\n",
       "<tbody>\n",
       "\t<tr><th scope=row>1</th><td>Organismal Systems</td><td><span style=white-space:pre-wrap>Environmental adaptation       </span></td><td>ko04626</td><td>Plant-pathogen interaction</td><td>21.16%</td><td>12.54%</td><td>1.69</td><td>1.480000e-16</td><td>1.780000e-14</td><td>NewGene_10068;NewGene_10273;NewGene_10415;NewGene_10524;NewGene_10901;NewGene_10917;NewGene_10931;NewGene_11168;NewGene_11231;NewGene_11390;NewGene_11676;NewGene_11732;NewGene_11961;NewGene_12164;NewGene_12173;NewGene_12375;NewGene_12483;NewGene_12652;NewGene_13086;NewGene_13336;NewGene_1354;NewGene_13773;NewGene_13781;NewGene_13808;NewGene_14121;NewGene_14337;NewGene_14375;NewGene_14584;NewGene_14636;NewGene_14992;NewGene_15023;NewGene_15102;NewGene_15103;NewGene_1519;NewGene_15330;NewGene_15468;NewGene_15845;NewGene_15951;NewGene_15954;NewGene_16175;NewGene_16406;NewGene_16418;NewGene_16439;NewGene_16448;NewGene_166;NewGene_16856;NewGene_17020;NewGene_17207;NewGene_17633;NewGene_17973;NewGene_18353;NewGene_18478;NewGene_1882;NewGene_18878;NewGene_2038;NewGene_2412;NewGene_2413;NewGene_2438;NewGene_2469;NewGene_2489;NewGene_2495;NewGene_2706;NewGene_2928;NewGene_3139;NewGene_3324;NewGene_3594;NewGene_3698;NewGene_3923;NewGene_3925;NewGene_4015;NewGene_402;NewGene_4155;NewGene_4291;NewGene_4329;NewGene_4370;NewGene_4372;NewGene_4383;NewGene_4387;NewGene_4389;NewGene_4391;NewGene_4443;NewGene_4616;NewGene_4902;NewGene_5245;NewGene_532;NewGene_5347;NewGene_5499;NewGene_5532;NewGene_5559;NewGene_5616;NewGene_5693;NewGene_5698;NewGene_5770;NewGene_5887;NewGene_5952;NewGene_6102;NewGene_6242;NewGene_6273;NewGene_6532;NewGene_6537;NewGene_6742;NewGene_6822;NewGene_6831;NewGene_6935;NewGene_6945;NewGene_6946;NewGene_7230;NewGene_7295;NewGene_7352;NewGene_7455;NewGene_7598;NewGene_7599;NewGene_7684;NewGene_7830;NewGene_789;NewGene_79;NewGene_8133;NewGene_848;NewGene_8536;NewGene_8537;NewGene_8771;NewGene_8808;NewGene_8832;NewGene_8862;NewGene_8954;NewGene_901;NewGene_9071;NewGene_9072;NewGene_9139;NewGene_9231;NewGene_9300;NewGene_9358;NewGene_9587;NewGene_9941;NewGene_9942;evm.TU.C205859.1;evm.TU.C211445.1;evm.TU.C211629.4;evm.TU.C212567.3;evm.TU.C213531.1;evm.TU.C215823.1;evm.TU.C216491.1;evm.TU.C217201.1;evm.TU.C218827.3;evm.TU.C220281.9;evm.TU.C221205.1;evm.TU.C221305.11;evm.TU.C221457.3;evm.TU.C222149.3;evm.TU.C222571.32;evm.TU.scaffold1000.2;evm.TU.scaffold10101.9;evm.TU.scaffold1055.2;evm.TU.scaffold1055.4;evm.TU.scaffold11103.3;evm.TU.scaffold11122.1;evm.TU.scaffold1151.1;evm.TU.scaffold11932.10;evm.TU.scaffold11975.10;evm.TU.scaffold12024.3;evm.TU.scaffold12259.2;evm.TU.scaffold12326.1;evm.TU.scaffold12599.9;evm.TU.scaffold12656.6;evm.TU.scaffold12678.1;evm.TU.scaffold12713.1;evm.TU.scaffold1330.1;evm.TU.scaffold1386.5;evm.TU.scaffold1487.2;evm.TU.scaffold2.4;evm.TU.scaffold2010.2;evm.TU.scaffold2217.2;evm.TU.scaffold2291.11;evm.TU.scaffold230.12;evm.TU.scaffold2400.5;evm.TU.scaffold256.24;evm.TU.scaffold2752.5;evm.TU.scaffold3077.8;evm.TU.scaffold3241.3;evm.TU.scaffold3386.3;evm.TU.scaffold3595.2;evm.TU.scaffold3608.27;evm.TU.scaffold363.3;evm.TU.scaffold3827.3;evm.TU.scaffold3865.2;evm.TU.scaffold4616.8;evm.TU.scaffold5191.14;evm.TU.scaffold5233.17;evm.TU.scaffold5324.1;evm.TU.scaffold5755.15;evm.TU.scaffold6499.2;evm.TU.scaffold6509.7;evm.TU.scaffold655.10;evm.TU.scaffold655.7;evm.TU.scaffold655.9;evm.TU.scaffold6633.19;evm.TU.scaffold6808.22;evm.TU.scaffold6809.2;evm.TU.scaffold6822.3;evm.TU.scaffold7115.15;evm.TU.scaffold7325.2;evm.TU.scaffold75.8;evm.TU.scaffold75.9;evm.TU.scaffold7501.17;evm.TU.scaffold7789.4;evm.TU.scaffold8056.33;evm.TU.scaffold839.6;evm.TU.scaffold847.2;evm.TU.scaffold8595.2;evm.TU.scaffold8717.2;evm.TU.scaffold8927.8;evm.TU.scaffold9390.1;evm.TU.scaffold955.1;evm.TU.scaffold990.3;evm.TU.scaffold9935.2;evm.TU.scaffold999.22</td><td>216</td><td>up&amp;down</td></tr>\n",
       "\t<tr><th scope=row>2</th><td><span style=white-space:pre-wrap>Metabolism        </span></td><td>Metabolism of other amino acids</td><td>ko00460</td><td>Cyanoamino acid metabolism</td><td>1.76% </td><td>0.90% </td><td>1.95</td><td>3.960838e-03</td><td>2.136138e-01</td><td><span style=white-space:pre-wrap>NewGene_10165;NewGene_12547;NewGene_14316;NewGene_17930;NewGene_2212;NewGene_2783;NewGene_419;NewGene_4766;NewGene_825;evm.TU.C221559.5;evm.TU.scaffold10053.3;evm.TU.scaffold11808.5;evm.TU.scaffold12761.8;evm.TU.scaffold1901.2;evm.TU.scaffold1988.1;evm.TU.scaffold5408.16;evm.TU.scaffold6550.1;evm.TU.scaffold7013.9                                                                                                                                                                                                                                                                                                                                                                                                                                                                                                                                                                                                                                                                                                                                                                                                                                                                                                                                                                                                                                                                                                                                                                                                                                                                                                                                                                                                                                                                                                                                                                                                                                                                                                                                                                                                                                                                                                                                                                                                                                                                                                                                                                                                                                                                                                                                                                                                                                                                                                                                                                                                                                                                                                                                                                                                                                                                                                                                                                                                                                                                                                                                                                                                                                                                                                                                </span></td><td> 18</td><td>up&amp;down</td></tr>\n",
       "</tbody>\n",
       "</table>\n"
      ],
      "text/latex": [
       "A data.frame: 2 x 12\n",
       "\\begin{tabular}{r|llllllllllll}\n",
       "  & <ef><bb><bf>KEGG\\_A\\_class & KEGG\\_B\\_class & ID & Pathway & GeneRatio & BgRatio & enrich\\_factor & pvalue & qvalue & geneID & gene\\_number & Contained\\\\\n",
       "  & <chr> & <chr> & <chr> & <chr> & <chr> & <chr> & <dbl> & <dbl> & <dbl> & <chr> & <int> & <chr>\\\\\n",
       "\\hline\n",
       "\t1 & Organismal Systems & Environmental adaptation        & ko04626 & Plant-pathogen interaction & 21.16\\% & 12.54\\% & 1.69 & 1.480000e-16 & 1.780000e-14 & NewGene\\_10068;NewGene\\_10273;NewGene\\_10415;NewGene\\_10524;NewGene\\_10901;NewGene\\_10917;NewGene\\_10931;NewGene\\_11168;NewGene\\_11231;NewGene\\_11390;NewGene\\_11676;NewGene\\_11732;NewGene\\_11961;NewGene\\_12164;NewGene\\_12173;NewGene\\_12375;NewGene\\_12483;NewGene\\_12652;NewGene\\_13086;NewGene\\_13336;NewGene\\_1354;NewGene\\_13773;NewGene\\_13781;NewGene\\_13808;NewGene\\_14121;NewGene\\_14337;NewGene\\_14375;NewGene\\_14584;NewGene\\_14636;NewGene\\_14992;NewGene\\_15023;NewGene\\_15102;NewGene\\_15103;NewGene\\_1519;NewGene\\_15330;NewGene\\_15468;NewGene\\_15845;NewGene\\_15951;NewGene\\_15954;NewGene\\_16175;NewGene\\_16406;NewGene\\_16418;NewGene\\_16439;NewGene\\_16448;NewGene\\_166;NewGene\\_16856;NewGene\\_17020;NewGene\\_17207;NewGene\\_17633;NewGene\\_17973;NewGene\\_18353;NewGene\\_18478;NewGene\\_1882;NewGene\\_18878;NewGene\\_2038;NewGene\\_2412;NewGene\\_2413;NewGene\\_2438;NewGene\\_2469;NewGene\\_2489;NewGene\\_2495;NewGene\\_2706;NewGene\\_2928;NewGene\\_3139;NewGene\\_3324;NewGene\\_3594;NewGene\\_3698;NewGene\\_3923;NewGene\\_3925;NewGene\\_4015;NewGene\\_402;NewGene\\_4155;NewGene\\_4291;NewGene\\_4329;NewGene\\_4370;NewGene\\_4372;NewGene\\_4383;NewGene\\_4387;NewGene\\_4389;NewGene\\_4391;NewGene\\_4443;NewGene\\_4616;NewGene\\_4902;NewGene\\_5245;NewGene\\_532;NewGene\\_5347;NewGene\\_5499;NewGene\\_5532;NewGene\\_5559;NewGene\\_5616;NewGene\\_5693;NewGene\\_5698;NewGene\\_5770;NewGene\\_5887;NewGene\\_5952;NewGene\\_6102;NewGene\\_6242;NewGene\\_6273;NewGene\\_6532;NewGene\\_6537;NewGene\\_6742;NewGene\\_6822;NewGene\\_6831;NewGene\\_6935;NewGene\\_6945;NewGene\\_6946;NewGene\\_7230;NewGene\\_7295;NewGene\\_7352;NewGene\\_7455;NewGene\\_7598;NewGene\\_7599;NewGene\\_7684;NewGene\\_7830;NewGene\\_789;NewGene\\_79;NewGene\\_8133;NewGene\\_848;NewGene\\_8536;NewGene\\_8537;NewGene\\_8771;NewGene\\_8808;NewGene\\_8832;NewGene\\_8862;NewGene\\_8954;NewGene\\_901;NewGene\\_9071;NewGene\\_9072;NewGene\\_9139;NewGene\\_9231;NewGene\\_9300;NewGene\\_9358;NewGene\\_9587;NewGene\\_9941;NewGene\\_9942;evm.TU.C205859.1;evm.TU.C211445.1;evm.TU.C211629.4;evm.TU.C212567.3;evm.TU.C213531.1;evm.TU.C215823.1;evm.TU.C216491.1;evm.TU.C217201.1;evm.TU.C218827.3;evm.TU.C220281.9;evm.TU.C221205.1;evm.TU.C221305.11;evm.TU.C221457.3;evm.TU.C222149.3;evm.TU.C222571.32;evm.TU.scaffold1000.2;evm.TU.scaffold10101.9;evm.TU.scaffold1055.2;evm.TU.scaffold1055.4;evm.TU.scaffold11103.3;evm.TU.scaffold11122.1;evm.TU.scaffold1151.1;evm.TU.scaffold11932.10;evm.TU.scaffold11975.10;evm.TU.scaffold12024.3;evm.TU.scaffold12259.2;evm.TU.scaffold12326.1;evm.TU.scaffold12599.9;evm.TU.scaffold12656.6;evm.TU.scaffold12678.1;evm.TU.scaffold12713.1;evm.TU.scaffold1330.1;evm.TU.scaffold1386.5;evm.TU.scaffold1487.2;evm.TU.scaffold2.4;evm.TU.scaffold2010.2;evm.TU.scaffold2217.2;evm.TU.scaffold2291.11;evm.TU.scaffold230.12;evm.TU.scaffold2400.5;evm.TU.scaffold256.24;evm.TU.scaffold2752.5;evm.TU.scaffold3077.8;evm.TU.scaffold3241.3;evm.TU.scaffold3386.3;evm.TU.scaffold3595.2;evm.TU.scaffold3608.27;evm.TU.scaffold363.3;evm.TU.scaffold3827.3;evm.TU.scaffold3865.2;evm.TU.scaffold4616.8;evm.TU.scaffold5191.14;evm.TU.scaffold5233.17;evm.TU.scaffold5324.1;evm.TU.scaffold5755.15;evm.TU.scaffold6499.2;evm.TU.scaffold6509.7;evm.TU.scaffold655.10;evm.TU.scaffold655.7;evm.TU.scaffold655.9;evm.TU.scaffold6633.19;evm.TU.scaffold6808.22;evm.TU.scaffold6809.2;evm.TU.scaffold6822.3;evm.TU.scaffold7115.15;evm.TU.scaffold7325.2;evm.TU.scaffold75.8;evm.TU.scaffold75.9;evm.TU.scaffold7501.17;evm.TU.scaffold7789.4;evm.TU.scaffold8056.33;evm.TU.scaffold839.6;evm.TU.scaffold847.2;evm.TU.scaffold8595.2;evm.TU.scaffold8717.2;evm.TU.scaffold8927.8;evm.TU.scaffold9390.1;evm.TU.scaffold955.1;evm.TU.scaffold990.3;evm.TU.scaffold9935.2;evm.TU.scaffold999.22 & 216 & up\\&down\\\\\n",
       "\t2 & Metabolism         & Metabolism of other amino acids & ko00460 & Cyanoamino acid metabolism & 1.76\\%  & 0.90\\%  & 1.95 & 3.960838e-03 & 2.136138e-01 & NewGene\\_10165;NewGene\\_12547;NewGene\\_14316;NewGene\\_17930;NewGene\\_2212;NewGene\\_2783;NewGene\\_419;NewGene\\_4766;NewGene\\_825;evm.TU.C221559.5;evm.TU.scaffold10053.3;evm.TU.scaffold11808.5;evm.TU.scaffold12761.8;evm.TU.scaffold1901.2;evm.TU.scaffold1988.1;evm.TU.scaffold5408.16;evm.TU.scaffold6550.1;evm.TU.scaffold7013.9                                                                                                                                                                                                                                                                                                                                                                                                                                                                                                                                                                                                                                                                                                                                                                                                                                                                                                                                                                                                                                                                                                                                                                                                                                                                                                                                                                                                                                                                                                                                                                                                                                                                                                                                                                                                                                                                                                                                                                                                                                                                                                                                                                                                                                                                                                                                                                                                                                                                                                                                                                                                                                                                                                                                                                                                                                                                                                                                                                                                                                                                                                                                                                                                                                                                                                                                 &  18 & up\\&down\\\\\n",
       "\\end{tabular}\n"
      ],
      "text/markdown": [
       "\n",
       "A data.frame: 2 x 12\n",
       "\n",
       "| <!--/--> | <ef><bb><bf>KEGG_A_class &lt;chr&gt; | KEGG_B_class &lt;chr&gt; | ID &lt;chr&gt; | Pathway &lt;chr&gt; | GeneRatio &lt;chr&gt; | BgRatio &lt;chr&gt; | enrich_factor &lt;dbl&gt; | pvalue &lt;dbl&gt; | qvalue &lt;dbl&gt; | geneID &lt;chr&gt; | gene_number &lt;int&gt; | Contained &lt;chr&gt; |\n",
       "|---|---|---|---|---|---|---|---|---|---|---|---|---|\n",
       "| 1 | Organismal Systems | Environmental adaptation        | ko04626 | Plant-pathogen interaction | 21.16% | 12.54% | 1.69 | 1.480000e-16 | 1.780000e-14 | NewGene_10068;NewGene_10273;NewGene_10415;NewGene_10524;NewGene_10901;NewGene_10917;NewGene_10931;NewGene_11168;NewGene_11231;NewGene_11390;NewGene_11676;NewGene_11732;NewGene_11961;NewGene_12164;NewGene_12173;NewGene_12375;NewGene_12483;NewGene_12652;NewGene_13086;NewGene_13336;NewGene_1354;NewGene_13773;NewGene_13781;NewGene_13808;NewGene_14121;NewGene_14337;NewGene_14375;NewGene_14584;NewGene_14636;NewGene_14992;NewGene_15023;NewGene_15102;NewGene_15103;NewGene_1519;NewGene_15330;NewGene_15468;NewGene_15845;NewGene_15951;NewGene_15954;NewGene_16175;NewGene_16406;NewGene_16418;NewGene_16439;NewGene_16448;NewGene_166;NewGene_16856;NewGene_17020;NewGene_17207;NewGene_17633;NewGene_17973;NewGene_18353;NewGene_18478;NewGene_1882;NewGene_18878;NewGene_2038;NewGene_2412;NewGene_2413;NewGene_2438;NewGene_2469;NewGene_2489;NewGene_2495;NewGene_2706;NewGene_2928;NewGene_3139;NewGene_3324;NewGene_3594;NewGene_3698;NewGene_3923;NewGene_3925;NewGene_4015;NewGene_402;NewGene_4155;NewGene_4291;NewGene_4329;NewGene_4370;NewGene_4372;NewGene_4383;NewGene_4387;NewGene_4389;NewGene_4391;NewGene_4443;NewGene_4616;NewGene_4902;NewGene_5245;NewGene_532;NewGene_5347;NewGene_5499;NewGene_5532;NewGene_5559;NewGene_5616;NewGene_5693;NewGene_5698;NewGene_5770;NewGene_5887;NewGene_5952;NewGene_6102;NewGene_6242;NewGene_6273;NewGene_6532;NewGene_6537;NewGene_6742;NewGene_6822;NewGene_6831;NewGene_6935;NewGene_6945;NewGene_6946;NewGene_7230;NewGene_7295;NewGene_7352;NewGene_7455;NewGene_7598;NewGene_7599;NewGene_7684;NewGene_7830;NewGene_789;NewGene_79;NewGene_8133;NewGene_848;NewGene_8536;NewGene_8537;NewGene_8771;NewGene_8808;NewGene_8832;NewGene_8862;NewGene_8954;NewGene_901;NewGene_9071;NewGene_9072;NewGene_9139;NewGene_9231;NewGene_9300;NewGene_9358;NewGene_9587;NewGene_9941;NewGene_9942;evm.TU.C205859.1;evm.TU.C211445.1;evm.TU.C211629.4;evm.TU.C212567.3;evm.TU.C213531.1;evm.TU.C215823.1;evm.TU.C216491.1;evm.TU.C217201.1;evm.TU.C218827.3;evm.TU.C220281.9;evm.TU.C221205.1;evm.TU.C221305.11;evm.TU.C221457.3;evm.TU.C222149.3;evm.TU.C222571.32;evm.TU.scaffold1000.2;evm.TU.scaffold10101.9;evm.TU.scaffold1055.2;evm.TU.scaffold1055.4;evm.TU.scaffold11103.3;evm.TU.scaffold11122.1;evm.TU.scaffold1151.1;evm.TU.scaffold11932.10;evm.TU.scaffold11975.10;evm.TU.scaffold12024.3;evm.TU.scaffold12259.2;evm.TU.scaffold12326.1;evm.TU.scaffold12599.9;evm.TU.scaffold12656.6;evm.TU.scaffold12678.1;evm.TU.scaffold12713.1;evm.TU.scaffold1330.1;evm.TU.scaffold1386.5;evm.TU.scaffold1487.2;evm.TU.scaffold2.4;evm.TU.scaffold2010.2;evm.TU.scaffold2217.2;evm.TU.scaffold2291.11;evm.TU.scaffold230.12;evm.TU.scaffold2400.5;evm.TU.scaffold256.24;evm.TU.scaffold2752.5;evm.TU.scaffold3077.8;evm.TU.scaffold3241.3;evm.TU.scaffold3386.3;evm.TU.scaffold3595.2;evm.TU.scaffold3608.27;evm.TU.scaffold363.3;evm.TU.scaffold3827.3;evm.TU.scaffold3865.2;evm.TU.scaffold4616.8;evm.TU.scaffold5191.14;evm.TU.scaffold5233.17;evm.TU.scaffold5324.1;evm.TU.scaffold5755.15;evm.TU.scaffold6499.2;evm.TU.scaffold6509.7;evm.TU.scaffold655.10;evm.TU.scaffold655.7;evm.TU.scaffold655.9;evm.TU.scaffold6633.19;evm.TU.scaffold6808.22;evm.TU.scaffold6809.2;evm.TU.scaffold6822.3;evm.TU.scaffold7115.15;evm.TU.scaffold7325.2;evm.TU.scaffold75.8;evm.TU.scaffold75.9;evm.TU.scaffold7501.17;evm.TU.scaffold7789.4;evm.TU.scaffold8056.33;evm.TU.scaffold839.6;evm.TU.scaffold847.2;evm.TU.scaffold8595.2;evm.TU.scaffold8717.2;evm.TU.scaffold8927.8;evm.TU.scaffold9390.1;evm.TU.scaffold955.1;evm.TU.scaffold990.3;evm.TU.scaffold9935.2;evm.TU.scaffold999.22 | 216 | up&amp;down |\n",
       "| 2 | Metabolism         | Metabolism of other amino acids | ko00460 | Cyanoamino acid metabolism | 1.76%  | 0.90%  | 1.95 | 3.960838e-03 | 2.136138e-01 | NewGene_10165;NewGene_12547;NewGene_14316;NewGene_17930;NewGene_2212;NewGene_2783;NewGene_419;NewGene_4766;NewGene_825;evm.TU.C221559.5;evm.TU.scaffold10053.3;evm.TU.scaffold11808.5;evm.TU.scaffold12761.8;evm.TU.scaffold1901.2;evm.TU.scaffold1988.1;evm.TU.scaffold5408.16;evm.TU.scaffold6550.1;evm.TU.scaffold7013.9                                                                                                                                                                                                                                                                                                                                                                                                                                                                                                                                                                                                                                                                                                                                                                                                                                                                                                                                                                                                                                                                                                                                                                                                                                                                                                                                                                                                                                                                                                                                                                                                                                                                                                                                                                                                                                                                                                                                                                                                                                                                                                                                                                                                                                                                                                                                                                                                                                                                                                                                                                                                                                                                                                                                                                                                                                                                                                                                                                                                                                                                                                                                                                                                                                                                                                                                 |  18 | up&amp;down |\n",
       "\n"
      ],
      "text/plain": [
       "  \\357\\273\\277KEGG_A_class KEGG_B_class                    ID     \n",
       "1 Organismal Systems       Environmental adaptation        ko04626\n",
       "2 Metabolism               Metabolism of other amino acids ko00460\n",
       "  Pathway                    GeneRatio BgRatio enrich_factor pvalue      \n",
       "1 Plant-pathogen interaction 21.16%    12.54%  1.69          1.480000e-16\n",
       "2 Cyanoamino acid metabolism 1.76%     0.90%   1.95          3.960838e-03\n",
       "  qvalue      \n",
       "1 1.780000e-14\n",
       "2 2.136138e-01\n",
       "  geneID                                                                                                                                                                                                                                                                                                                                                                                                                                                                                                                                                                                                                                                                                                                                                                                                                                                                                                                                                                                                                                                                                                                                                                                                                                                                                                                                                                                                                                                                                                                                                                                                                                                                                                                                                                                                                                                                                                                                                                                                                                                                                                                                                                                                                                                                                                                                                                                                                                                                                                                                                                                                                                                                                                                                                                                                                                                                                                                                                                                                                                                                                                                                                                                                                                                                                                                                                                                                                                                                                                                                                                                                                                                     \n",
       "1 NewGene_10068;NewGene_10273;NewGene_10415;NewGene_10524;NewGene_10901;NewGene_10917;NewGene_10931;NewGene_11168;NewGene_11231;NewGene_11390;NewGene_11676;NewGene_11732;NewGene_11961;NewGene_12164;NewGene_12173;NewGene_12375;NewGene_12483;NewGene_12652;NewGene_13086;NewGene_13336;NewGene_1354;NewGene_13773;NewGene_13781;NewGene_13808;NewGene_14121;NewGene_14337;NewGene_14375;NewGene_14584;NewGene_14636;NewGene_14992;NewGene_15023;NewGene_15102;NewGene_15103;NewGene_1519;NewGene_15330;NewGene_15468;NewGene_15845;NewGene_15951;NewGene_15954;NewGene_16175;NewGene_16406;NewGene_16418;NewGene_16439;NewGene_16448;NewGene_166;NewGene_16856;NewGene_17020;NewGene_17207;NewGene_17633;NewGene_17973;NewGene_18353;NewGene_18478;NewGene_1882;NewGene_18878;NewGene_2038;NewGene_2412;NewGene_2413;NewGene_2438;NewGene_2469;NewGene_2489;NewGene_2495;NewGene_2706;NewGene_2928;NewGene_3139;NewGene_3324;NewGene_3594;NewGene_3698;NewGene_3923;NewGene_3925;NewGene_4015;NewGene_402;NewGene_4155;NewGene_4291;NewGene_4329;NewGene_4370;NewGene_4372;NewGene_4383;NewGene_4387;NewGene_4389;NewGene_4391;NewGene_4443;NewGene_4616;NewGene_4902;NewGene_5245;NewGene_532;NewGene_5347;NewGene_5499;NewGene_5532;NewGene_5559;NewGene_5616;NewGene_5693;NewGene_5698;NewGene_5770;NewGene_5887;NewGene_5952;NewGene_6102;NewGene_6242;NewGene_6273;NewGene_6532;NewGene_6537;NewGene_6742;NewGene_6822;NewGene_6831;NewGene_6935;NewGene_6945;NewGene_6946;NewGene_7230;NewGene_7295;NewGene_7352;NewGene_7455;NewGene_7598;NewGene_7599;NewGene_7684;NewGene_7830;NewGene_789;NewGene_79;NewGene_8133;NewGene_848;NewGene_8536;NewGene_8537;NewGene_8771;NewGene_8808;NewGene_8832;NewGene_8862;NewGene_8954;NewGene_901;NewGene_9071;NewGene_9072;NewGene_9139;NewGene_9231;NewGene_9300;NewGene_9358;NewGene_9587;NewGene_9941;NewGene_9942;evm.TU.C205859.1;evm.TU.C211445.1;evm.TU.C211629.4;evm.TU.C212567.3;evm.TU.C213531.1;evm.TU.C215823.1;evm.TU.C216491.1;evm.TU.C217201.1;evm.TU.C218827.3;evm.TU.C220281.9;evm.TU.C221205.1;evm.TU.C221305.11;evm.TU.C221457.3;evm.TU.C222149.3;evm.TU.C222571.32;evm.TU.scaffold1000.2;evm.TU.scaffold10101.9;evm.TU.scaffold1055.2;evm.TU.scaffold1055.4;evm.TU.scaffold11103.3;evm.TU.scaffold11122.1;evm.TU.scaffold1151.1;evm.TU.scaffold11932.10;evm.TU.scaffold11975.10;evm.TU.scaffold12024.3;evm.TU.scaffold12259.2;evm.TU.scaffold12326.1;evm.TU.scaffold12599.9;evm.TU.scaffold12656.6;evm.TU.scaffold12678.1;evm.TU.scaffold12713.1;evm.TU.scaffold1330.1;evm.TU.scaffold1386.5;evm.TU.scaffold1487.2;evm.TU.scaffold2.4;evm.TU.scaffold2010.2;evm.TU.scaffold2217.2;evm.TU.scaffold2291.11;evm.TU.scaffold230.12;evm.TU.scaffold2400.5;evm.TU.scaffold256.24;evm.TU.scaffold2752.5;evm.TU.scaffold3077.8;evm.TU.scaffold3241.3;evm.TU.scaffold3386.3;evm.TU.scaffold3595.2;evm.TU.scaffold3608.27;evm.TU.scaffold363.3;evm.TU.scaffold3827.3;evm.TU.scaffold3865.2;evm.TU.scaffold4616.8;evm.TU.scaffold5191.14;evm.TU.scaffold5233.17;evm.TU.scaffold5324.1;evm.TU.scaffold5755.15;evm.TU.scaffold6499.2;evm.TU.scaffold6509.7;evm.TU.scaffold655.10;evm.TU.scaffold655.7;evm.TU.scaffold655.9;evm.TU.scaffold6633.19;evm.TU.scaffold6808.22;evm.TU.scaffold6809.2;evm.TU.scaffold6822.3;evm.TU.scaffold7115.15;evm.TU.scaffold7325.2;evm.TU.scaffold75.8;evm.TU.scaffold75.9;evm.TU.scaffold7501.17;evm.TU.scaffold7789.4;evm.TU.scaffold8056.33;evm.TU.scaffold839.6;evm.TU.scaffold847.2;evm.TU.scaffold8595.2;evm.TU.scaffold8717.2;evm.TU.scaffold8927.8;evm.TU.scaffold9390.1;evm.TU.scaffold955.1;evm.TU.scaffold990.3;evm.TU.scaffold9935.2;evm.TU.scaffold999.22\n",
       "2 NewGene_10165;NewGene_12547;NewGene_14316;NewGene_17930;NewGene_2212;NewGene_2783;NewGene_419;NewGene_4766;NewGene_825;evm.TU.C221559.5;evm.TU.scaffold10053.3;evm.TU.scaffold11808.5;evm.TU.scaffold12761.8;evm.TU.scaffold1901.2;evm.TU.scaffold1988.1;evm.TU.scaffold5408.16;evm.TU.scaffold6550.1;evm.TU.scaffold7013.9                                                                                                                                                                                                                                                                                                                                                                                                                                                                                                                                                                                                                                                                                                                                                                                                                                                                                                                                                                                                                                                                                                                                                                                                                                                                                                                                                                                                                                                                                                                                                                                                                                                                                                                                                                                                                                                                                                                                                                                                                                                                                                                                                                                                                                                                                                                                                                                                                                                                                                                                                                                                                                                                                                                                                                                                                                                                                                                                                                                                                                                                                                                                                                                                                                                                                                                                \n",
       "  gene_number Contained\n",
       "1 216         up&down  \n",
       "2  18         up&down  "
      ]
     },
     "metadata": {},
     "output_type": "display_data"
    }
   ],
   "source": [
    "head(kegg3,2)"
   ]
  },
  {
   "cell_type": "code",
   "execution_count": 419,
   "id": "61cf45f0-19d5-4fac-a892-4c39200ddac7",
   "metadata": {},
   "outputs": [
    {
     "name": "stderr",
     "output_type": "stream",
     "text": [
      "Warning message:\n",
      "\"package 'ggplot2' was built under R version 4.2.3\"\n",
      "\n",
      "Attaching package: 'ggplot2'\n",
      "\n",
      "\n",
      "The following objects are masked from 'package:psych':\n",
      "\n",
      "    %+%, alpha\n",
      "\n",
      "\n"
     ]
    }
   ],
   "source": [
    "library(ggplot2)"
   ]
  },
  {
   "cell_type": "code",
   "execution_count": 422,
   "id": "d1d1ea6e-bc1d-45df-80d5-5596f314fa26",
   "metadata": {},
   "outputs": [
    {
     "data": {
      "image/png": "[encoded data removed]",
      "text/plain": [
       "plot without title"
      ]
     },
     "metadata": {
      "image/png": {
       "height": 300,
       "width": 510
      }
     },
     "output_type": "display_data"
    }
   ],
   "source": [
    "options(repr.plot.width  = 8.5,repr.plot.height = 5)\n",
    "\n",
    "p = ggplot(kegg3,aes(enrich_factor\t,Pathway))\n",
    "p=p + geom_point()  \n",
    "p=p + geom_point(aes(size=gene_number))\n",
    "pbubble = p+ geom_point(aes(size=gene_number,color=-1*log10(pvalue)))\n",
    "pr = pbubble+scale_color_gradient(low=\"#2B9882\",high = \"#E96F50\")\n",
    "pr = pr+labs(color=expression(-log[10](pvalue)),size=\"Count\",  \n",
    "                        x=\"Rich Foctor\",y=\"Pathway \",title=\"Pathway enrichment\")\n",
    "pr + theme_bw()+\n",
    "  theme(axis.title.x = element_text(size = 13))+\n",
    "  theme(axis.text.x = element_text(size = 12))+\n",
    "  theme(axis.text.y = element_text(size = 13))+\n",
    "  theme(plot.title = element_text(size = 13,face = 4, hjust =0.5))"
   ]
  },
  {
   "cell_type": "code",
   "execution_count": 424,
   "id": "8b24b24e-5a44-4b46-add5-a66bb147be17",
   "metadata": {},
   "outputs": [],
   "source": [
    "ggsave('kegg.pdf',width = 7.5,height = 5)"
   ]
  },
  {
   "cell_type": "code",
   "execution_count": null,
   "id": "6722c002-faf4-4899-a3ee-52ec7170f3af",
   "metadata": {},
   "outputs": [],
   "source": []
  }
 ],
 "metadata": {
  "kernelspec": {
   "display_name": "R",
   "language": "R",
   "name": "ir"
  },
  "language_info": {
   "codemirror_mode": "r",
   "file_extension": ".r",
   "mimetype": "text/x-r-source",
   "name": "R",
   "pygments_lexer": "r",
   "version": "4.2.1"
  }
 },
 "nbformat": 4,
 "nbformat_minor": 5
}
