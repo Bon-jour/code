{
 "cells": [
  {
   "cell_type": "code",
   "execution_count": 1,
   "id": "761ed842-f82e-4465-a3c2-1a73ca6c1633",
   "metadata": {},
   "outputs": [],
   "source": [
    "setwd('/import/liujing /')"
   ]
  },
  {
   "cell_type": "code",
   "execution_count": 2,
   "id": "4836487a-1fdd-4e02-a867-6765bee0bcf3",
   "metadata": {},
   "outputs": [],
   "source": [
    "data = read.table('./fpkm.txt',row.names = 1,header =T,sep = '\\t')"
   ]
  },
  {
   "cell_type": "code",
   "execution_count": 4,
   "id": "e9beddda-50fa-42da-8bae-34d336665c97",
   "metadata": {
    "collapsed": true,
    "jupyter": {
     "outputs_hidden": true
    },
    "scrolled": true
   },
   "outputs": [
    {
     "name": "stderr",
     "output_type": "stream",
     "text": [
      "Loading required package: Hmisc\n",
      "\n",
      "Warning message:\n",
      "\"package 'Hmisc' was built under R version 4.2.3\"\n",
      "\n",
      "Attaching package: 'Hmisc'\n",
      "\n",
      "\n",
      "The following objects are masked from 'package:plyr':\n",
      "\n",
      "    is.discrete, summarize\n",
      "\n",
      "\n",
      "The following objects are masked from 'package:base':\n",
      "\n",
      "    format.pval, units\n",
      "\n",
      "\n",
      "Loading required package: foreign\n",
      "\n",
      "Warning message:\n",
      "\"package 'foreign' was built under R version 4.2.3\"\n",
      "Loading required package: survival\n",
      "\n",
      "Warning message:\n",
      "\"package 'survival' was built under R version 4.2.3\"\n",
      "Loading required package: MASS\n",
      "\n",
      "Warning message:\n",
      "\"package 'MASS' was built under R version 4.2.3\"\n",
      "Loading required package: nnet\n",
      "\n",
      "Warning message:\n",
      "\"package 'nnet' was built under R version 4.2.3\"\n",
      "Registered S3 method overwritten by 'epiDisplay':\n",
      "  method       from\n",
      "  print.lrtest rms \n",
      "\n",
      "\n",
      "Attaching package: 'epiDisplay'\n",
      "\n",
      "\n",
      "The following object is masked from 'package:rms':\n",
      "\n",
      "    lrtest\n",
      "\n",
      "\n"
     ]
    }
   ],
   "source": [
    "#结果合并需要的包\n",
    "library(plyr)\n",
    "#可进行logistic回归的包\n",
    "library(rms)#可实现逻辑回归模型（lrm）\n",
    "library(epiDisplay)#快速输出OR、95%CI、P\n",
    "#library(gtsummary)#精美三线表（但，95%CI有误）"
   ]
  },
  {
   "cell_type": "code",
   "execution_count": 5,
   "id": "e3440fdf-62d3-4726-9413-4f27c8727b73",
   "metadata": {},
   "outputs": [
    {
     "data": {
      "text/html": [
       "<style>\n",
       ".list-inline {list-style: none; margin:0; padding: 0}\n",
       ".list-inline>li {display: inline-block}\n",
       ".list-inline>li:not(:last-child)::after {content: \"\\00b7\"; padding: 0 .5ex}\n",
       "</style>\n",
       "<ol class=list-inline><li>85</li><li>49</li></ol>\n"
      ],
      "text/latex": [
       "\\begin{enumerate*}\n",
       "\\item 85\n",
       "\\item 49\n",
       "\\end{enumerate*}\n"
      ],
      "text/markdown": [
       "1. 85\n",
       "2. 49\n",
       "\n",
       "\n"
      ],
      "text/plain": [
       "[1] 85 49"
      ]
     },
     "metadata": {},
     "output_type": "display_data"
    }
   ],
   "source": [
    "dim(data)"
   ]
  },
  {
   "cell_type": "code",
   "execution_count": 6,
   "id": "79e112ec-1328-4c82-b17f-c859be402eba",
   "metadata": {},
   "outputs": [],
   "source": [
    "expr4 = data"
   ]
  },
  {
   "cell_type": "code",
   "execution_count": 7,
   "id": "d947c555-7986-43b1-a82a-fd6697693278",
   "metadata": {},
   "outputs": [],
   "source": [
    "varsU<-names(expr4[,2:29])"
   ]
  },
  {
   "cell_type": "code",
   "execution_count": 8,
   "id": "0f4e5161-69e1-47f2-9315-7742afe06b3b",
   "metadata": {},
   "outputs": [
    {
     "name": "stderr",
     "output_type": "stream",
     "text": [
      "Waiting for profiling to be done...\n",
      "\n",
      "Warning message:\n",
      "\"glm.fit: fitted probabilities numerically 0 or 1 occurred\"\n",
      "Waiting for profiling to be done...\n",
      "\n",
      "Waiting for profiling to be done...\n",
      "\n",
      "Waiting for profiling to be done...\n",
      "\n",
      "Waiting for profiling to be done...\n",
      "\n",
      "Waiting for profiling to be done...\n",
      "\n",
      "Waiting for profiling to be done...\n",
      "\n",
      "Waiting for profiling to be done...\n",
      "\n",
      "Waiting for profiling to be done...\n",
      "\n",
      "Waiting for profiling to be done...\n",
      "\n",
      "Waiting for profiling to be done...\n",
      "\n",
      "Waiting for profiling to be done...\n",
      "\n",
      "Waiting for profiling to be done...\n",
      "\n",
      "Waiting for profiling to be done...\n",
      "\n",
      "Waiting for profiling to be done...\n",
      "\n",
      "Waiting for profiling to be done...\n",
      "\n",
      "Waiting for profiling to be done...\n",
      "\n",
      "Waiting for profiling to be done...\n",
      "\n",
      "Waiting for profiling to be done...\n",
      "\n",
      "Waiting for profiling to be done...\n",
      "\n",
      "Waiting for profiling to be done...\n",
      "\n",
      "Waiting for profiling to be done...\n",
      "\n",
      "Waiting for profiling to be done...\n",
      "\n",
      "Waiting for profiling to be done...\n",
      "\n",
      "Waiting for profiling to be done...\n",
      "\n",
      "Waiting for profiling to be done...\n",
      "\n",
      "Waiting for profiling to be done...\n",
      "\n",
      "Waiting for profiling to be done...\n",
      "\n"
     ]
    }
   ],
   "source": [
    "Result<-c()\n",
    "for (i in 1:length(varsU)){\n",
    "  fit<-glm(substitute(group~x,list(x=as.name(varsU[i]))),data=expr4,family=binomial())\n",
    "  fitSum<-summary(fit)\n",
    "  result1<-c()\n",
    "  result1<-rbind(result1,fitSum$coef)\n",
    "  OR<-exp(fitSum$coef[,'Estimate'])\n",
    "  result1<-data.frame(cbind(result1,cbind(OR,exp(confint(fit)))))\n",
    "  result1$Characteristics<-varsU[i]   #添加变量名\n",
    "  Result<-rbind(Result,result1[-1,])#[-1,],删除常数项\n",
    "}"
   ]
  },
  {
   "cell_type": "code",
   "execution_count": 9,
   "id": "4ef5fec2-57de-46a3-8f4b-9c8bc60b5bc2",
   "metadata": {},
   "outputs": [
    {
     "data": {
      "text/html": [
       "<table class=\"dataframe\">\n",
       "<caption>A data.frame: 28 x 8</caption>\n",
       "<thead>\n",
       "\t<tr><th></th><th scope=col>Estimate</th><th scope=col>Std..Error</th><th scope=col>z.value</th><th scope=col>Pr...z..</th><th scope=col>OR</th><th scope=col>X2.5..</th><th scope=col>X97.5..</th><th scope=col>Characteristics</th></tr>\n",
       "\t<tr><th></th><th scope=col>&lt;dbl&gt;</th><th scope=col>&lt;dbl&gt;</th><th scope=col>&lt;dbl&gt;</th><th scope=col>&lt;dbl&gt;</th><th scope=col>&lt;dbl&gt;</th><th scope=col>&lt;dbl&gt;</th><th scope=col>&lt;dbl&gt;</th><th scope=col>&lt;chr&gt;</th></tr>\n",
       "</thead>\n",
       "<tbody>\n",
       "\t<tr><th scope=row>RASD2</th><td> 6.754597155</td><td>9.491984901</td><td>0.7116106</td><td>4.767059e-01</td><td>8.579940e+02</td><td>  0.1285745</td><td>6.352774e+13</td><td>RASD2     </td></tr>\n",
       "\t<tr><th scope=row>HIST1H3C</th><td> 0.085357618</td><td>0.048247712</td><td>1.7691537</td><td>7.686823e-02</td><td>1.089106e+00</td><td>  0.9992950</td><td>1.209732e+00</td><td>HIST1H3C  </td></tr>\n",
       "\t<tr><th scope=row>TMEM92</th><td> 0.637298155</td><td>0.939880010</td><td>0.6780633</td><td>4.977315e-01</td><td>1.891364e+00</td><td>  0.6985477</td><td>5.999520e+01</td><td>TMEM92    </td></tr>\n",
       "\t<tr><th scope=row>CEP55</th><td> 6.629090760</td><td>2.370876883</td><td>2.7960502</td><td>5.173137e-03</td><td>7.567938e+02</td><td>  9.7091881</td><td>1.149193e+05</td><td>CEP55     </td></tr>\n",
       "\t<tr><th scope=row>TPM3</th><td> 0.116327706</td><td>0.029392639</td><td>3.9577156</td><td>7.566998e-05</td><td>1.123364e+00</td><td>  1.0661625</td><td>1.197379e+00</td><td>TPM3      </td></tr>\n",
       "\t<tr><th scope=row>HIST1H1B</th><td> 0.049622326</td><td>0.027488194</td><td>1.8052232</td><td>7.103976e-02</td><td>1.050874e+00</td><td>  1.0026585</td><td>1.115792e+00</td><td>HIST1H1B  </td></tr>\n",
       "\t<tr><th scope=row>AC132872.2</th><td> 2.977704702</td><td>0.930685162</td><td>3.1994759</td><td>1.376777e-03</td><td>1.964268e+01</td><td>  3.6451862</td><td>1.434422e+02</td><td>AC132872.2</td></tr>\n",
       "\t<tr><th scope=row>MIF</th><td> 0.826587828</td><td>0.385790573</td><td>2.1425817</td><td>3.214670e-02</td><td>2.285507e+00</td><td>  1.1341963</td><td>5.247637e+00</td><td>MIF       </td></tr>\n",
       "\t<tr><th scope=row>HJURP</th><td> 4.337094396</td><td>1.707461403</td><td>2.5400834</td><td>1.108260e-02</td><td>7.648498e+01</td><td>  3.6332236</td><td>2.934964e+03</td><td>HJURP     </td></tr>\n",
       "\t<tr><th scope=row>BUB1</th><td> 2.279345693</td><td>0.992812043</td><td>2.2958482</td><td>2.168457e-02</td><td>9.770286e+00</td><td>  1.7090991</td><td>8.226416e+01</td><td>BUB1      </td></tr>\n",
       "\t<tr><th scope=row>IL10RB</th><td> 0.143844114</td><td>0.039240248</td><td>3.6657289</td><td>2.466350e-04</td><td>1.154704e+00</td><td>  1.0772001</td><td>1.257971e+00</td><td>IL10RB    </td></tr>\n",
       "\t<tr><th scope=row>HIST2H2BE</th><td> 0.076127318</td><td>0.029260678</td><td>2.6016936</td><td>9.276469e-03</td><td>1.079100e+00</td><td>  1.0237837</td><td>1.149461e+00</td><td>HIST2H2BE </td></tr>\n",
       "\t<tr><th scope=row>GPR84</th><td> 0.204785166</td><td>0.286190612</td><td>0.7155551</td><td>4.742661e-01</td><td>1.227261e+00</td><td>  0.7848847</td><td>3.015499e+00</td><td>GPR84     </td></tr>\n",
       "\t<tr><th scope=row>CCDC147</th><td> 1.402974438</td><td>0.518698118</td><td>2.7047996</td><td>6.834562e-03</td><td>4.067280e+00</td><td>  1.5681789</td><td>1.219630e+01</td><td>CCDC147   </td></tr>\n",
       "\t<tr><th scope=row>U2AF1L4</th><td> 2.685966634</td><td>1.055549428</td><td>2.5446147</td><td>1.093984e-02</td><td>1.467238e+01</td><td>  2.0480884</td><td>1.339797e+02</td><td>U2AF1L4   </td></tr>\n",
       "\t<tr><th scope=row>SP110</th><td> 0.096219069</td><td>0.026348201</td><td>3.6518268</td><td>2.603814e-04</td><td>1.101000e+00</td><td>  1.0500685</td><td>1.165169e+00</td><td>SP110     </td></tr>\n",
       "\t<tr><th scope=row>NEK2</th><td>11.869950248</td><td>3.841837814</td><td>3.0896542</td><td>2.003897e-03</td><td>1.429071e+05</td><td>128.6832739</td><td>4.927882e+08</td><td>NEK2      </td></tr>\n",
       "\t<tr><th scope=row>PRRG4</th><td> 0.152659172</td><td>0.072681688</td><td>2.1003801</td><td>3.569542e-02</td><td>1.164928e+00</td><td>  1.0187017</td><td>1.358476e+00</td><td>PRRG4     </td></tr>\n",
       "\t<tr><th scope=row>SLC26A8</th><td> 0.462128878</td><td>0.222197656</td><td>2.0798099</td><td>3.754298e-02</td><td>1.587450e+00</td><td>  1.0665973</td><td>2.534953e+00</td><td>SLC26A8   </td></tr>\n",
       "\t<tr><th scope=row>RAB7A</th><td> 0.084679184</td><td>0.021588148</td><td>3.9224849</td><td>8.764038e-05</td><td>1.088368e+00</td><td>  1.0477343</td><td>1.140741e+00</td><td>RAB7A     </td></tr>\n",
       "\t<tr><th scope=row>CKAP4</th><td> 0.088728861</td><td>0.040883681</td><td>2.1702757</td><td>2.998596e-02</td><td>1.092784e+00</td><td>  1.0190637</td><td>1.193436e+00</td><td>CKAP4     </td></tr>\n",
       "\t<tr><th scope=row>ZNF608</th><td> 2.287919058</td><td>0.854385822</td><td>2.6778523</td><td>7.409588e-03</td><td>9.854410e+00</td><td>  2.0740724</td><td>5.932224e+01</td><td>ZNF608    </td></tr>\n",
       "\t<tr><th scope=row>MARCKS</th><td> 0.105966342</td><td>0.037108086</td><td>2.8556132</td><td>4.295380e-03</td><td>1.111784e+00</td><td>  1.0385864</td><td>1.203028e+00</td><td>MARCKS    </td></tr>\n",
       "\t<tr><th scope=row>RRM2</th><td> 1.839554847</td><td>0.809382411</td><td>2.2727883</td><td>2.303894e-02</td><td>6.293736e+00</td><td>  1.5179122</td><td>3.486360e+01</td><td>RRM2      </td></tr>\n",
       "\t<tr><th scope=row>PNPLA1</th><td> 0.449202857</td><td>0.223990319</td><td>2.0054566</td><td>4.491426e-02</td><td>1.567063e+00</td><td>  1.0441388</td><td>2.524399e+00</td><td>PNPLA1    </td></tr>\n",
       "\t<tr><th scope=row>S100A11</th><td> 0.004577771</td><td>0.001525695</td><td>3.0004503</td><td>2.695807e-03</td><td>1.004588e+00</td><td>  1.0018744</td><td>1.007902e+00</td><td>S100A11   </td></tr>\n",
       "\t<tr><th scope=row>HCAR1</th><td> 2.514535839</td><td>0.883207218</td><td>2.8470508</td><td>4.412632e-03</td><td>1.236087e+01</td><td>  2.4408586</td><td>8.104886e+01</td><td>HCAR1     </td></tr>\n",
       "\t<tr><th scope=row>HSPA1A</th><td> 0.068999895</td><td>0.032851358</td><td>2.1003666</td><td>3.569661e-02</td><td>1.071436e+00</td><td>  1.0107529</td><td>1.149653e+00</td><td>HSPA1A    </td></tr>\n",
       "</tbody>\n",
       "</table>\n"
      ],
      "text/latex": [
       "A data.frame: 28 x 8\n",
       "\\begin{tabular}{r|llllllll}\n",
       "  & Estimate & Std..Error & z.value & Pr...z.. & OR & X2.5.. & X97.5.. & Characteristics\\\\\n",
       "  & <dbl> & <dbl> & <dbl> & <dbl> & <dbl> & <dbl> & <dbl> & <chr>\\\\\n",
       "\\hline\n",
       "\tRASD2 &  6.754597155 & 9.491984901 & 0.7116106 & 4.767059e-01 & 8.579940e+02 &   0.1285745 & 6.352774e+13 & RASD2     \\\\\n",
       "\tHIST1H3C &  0.085357618 & 0.048247712 & 1.7691537 & 7.686823e-02 & 1.089106e+00 &   0.9992950 & 1.209732e+00 & HIST1H3C  \\\\\n",
       "\tTMEM92 &  0.637298155 & 0.939880010 & 0.6780633 & 4.977315e-01 & 1.891364e+00 &   0.6985477 & 5.999520e+01 & TMEM92    \\\\\n",
       "\tCEP55 &  6.629090760 & 2.370876883 & 2.7960502 & 5.173137e-03 & 7.567938e+02 &   9.7091881 & 1.149193e+05 & CEP55     \\\\\n",
       "\tTPM3 &  0.116327706 & 0.029392639 & 3.9577156 & 7.566998e-05 & 1.123364e+00 &   1.0661625 & 1.197379e+00 & TPM3      \\\\\n",
       "\tHIST1H1B &  0.049622326 & 0.027488194 & 1.8052232 & 7.103976e-02 & 1.050874e+00 &   1.0026585 & 1.115792e+00 & HIST1H1B  \\\\\n",
       "\tAC132872.2 &  2.977704702 & 0.930685162 & 3.1994759 & 1.376777e-03 & 1.964268e+01 &   3.6451862 & 1.434422e+02 & AC132872.2\\\\\n",
       "\tMIF &  0.826587828 & 0.385790573 & 2.1425817 & 3.214670e-02 & 2.285507e+00 &   1.1341963 & 5.247637e+00 & MIF       \\\\\n",
       "\tHJURP &  4.337094396 & 1.707461403 & 2.5400834 & 1.108260e-02 & 7.648498e+01 &   3.6332236 & 2.934964e+03 & HJURP     \\\\\n",
       "\tBUB1 &  2.279345693 & 0.992812043 & 2.2958482 & 2.168457e-02 & 9.770286e+00 &   1.7090991 & 8.226416e+01 & BUB1      \\\\\n",
       "\tIL10RB &  0.143844114 & 0.039240248 & 3.6657289 & 2.466350e-04 & 1.154704e+00 &   1.0772001 & 1.257971e+00 & IL10RB    \\\\\n",
       "\tHIST2H2BE &  0.076127318 & 0.029260678 & 2.6016936 & 9.276469e-03 & 1.079100e+00 &   1.0237837 & 1.149461e+00 & HIST2H2BE \\\\\n",
       "\tGPR84 &  0.204785166 & 0.286190612 & 0.7155551 & 4.742661e-01 & 1.227261e+00 &   0.7848847 & 3.015499e+00 & GPR84     \\\\\n",
       "\tCCDC147 &  1.402974438 & 0.518698118 & 2.7047996 & 6.834562e-03 & 4.067280e+00 &   1.5681789 & 1.219630e+01 & CCDC147   \\\\\n",
       "\tU2AF1L4 &  2.685966634 & 1.055549428 & 2.5446147 & 1.093984e-02 & 1.467238e+01 &   2.0480884 & 1.339797e+02 & U2AF1L4   \\\\\n",
       "\tSP110 &  0.096219069 & 0.026348201 & 3.6518268 & 2.603814e-04 & 1.101000e+00 &   1.0500685 & 1.165169e+00 & SP110     \\\\\n",
       "\tNEK2 & 11.869950248 & 3.841837814 & 3.0896542 & 2.003897e-03 & 1.429071e+05 & 128.6832739 & 4.927882e+08 & NEK2      \\\\\n",
       "\tPRRG4 &  0.152659172 & 0.072681688 & 2.1003801 & 3.569542e-02 & 1.164928e+00 &   1.0187017 & 1.358476e+00 & PRRG4     \\\\\n",
       "\tSLC26A8 &  0.462128878 & 0.222197656 & 2.0798099 & 3.754298e-02 & 1.587450e+00 &   1.0665973 & 2.534953e+00 & SLC26A8   \\\\\n",
       "\tRAB7A &  0.084679184 & 0.021588148 & 3.9224849 & 8.764038e-05 & 1.088368e+00 &   1.0477343 & 1.140741e+00 & RAB7A     \\\\\n",
       "\tCKAP4 &  0.088728861 & 0.040883681 & 2.1702757 & 2.998596e-02 & 1.092784e+00 &   1.0190637 & 1.193436e+00 & CKAP4     \\\\\n",
       "\tZNF608 &  2.287919058 & 0.854385822 & 2.6778523 & 7.409588e-03 & 9.854410e+00 &   2.0740724 & 5.932224e+01 & ZNF608    \\\\\n",
       "\tMARCKS &  0.105966342 & 0.037108086 & 2.8556132 & 4.295380e-03 & 1.111784e+00 &   1.0385864 & 1.203028e+00 & MARCKS    \\\\\n",
       "\tRRM2 &  1.839554847 & 0.809382411 & 2.2727883 & 2.303894e-02 & 6.293736e+00 &   1.5179122 & 3.486360e+01 & RRM2      \\\\\n",
       "\tPNPLA1 &  0.449202857 & 0.223990319 & 2.0054566 & 4.491426e-02 & 1.567063e+00 &   1.0441388 & 2.524399e+00 & PNPLA1    \\\\\n",
       "\tS100A11 &  0.004577771 & 0.001525695 & 3.0004503 & 2.695807e-03 & 1.004588e+00 &   1.0018744 & 1.007902e+00 & S100A11   \\\\\n",
       "\tHCAR1 &  2.514535839 & 0.883207218 & 2.8470508 & 4.412632e-03 & 1.236087e+01 &   2.4408586 & 8.104886e+01 & HCAR1     \\\\\n",
       "\tHSPA1A &  0.068999895 & 0.032851358 & 2.1003666 & 3.569661e-02 & 1.071436e+00 &   1.0107529 & 1.149653e+00 & HSPA1A    \\\\\n",
       "\\end{tabular}\n"
      ],
      "text/markdown": [
       "\n",
       "A data.frame: 28 x 8\n",
       "\n",
       "| <!--/--> | Estimate &lt;dbl&gt; | Std..Error &lt;dbl&gt; | z.value &lt;dbl&gt; | Pr...z.. &lt;dbl&gt; | OR &lt;dbl&gt; | X2.5.. &lt;dbl&gt; | X97.5.. &lt;dbl&gt; | Characteristics &lt;chr&gt; |\n",
       "|---|---|---|---|---|---|---|---|---|\n",
       "| RASD2 |  6.754597155 | 9.491984901 | 0.7116106 | 4.767059e-01 | 8.579940e+02 |   0.1285745 | 6.352774e+13 | RASD2      |\n",
       "| HIST1H3C |  0.085357618 | 0.048247712 | 1.7691537 | 7.686823e-02 | 1.089106e+00 |   0.9992950 | 1.209732e+00 | HIST1H3C   |\n",
       "| TMEM92 |  0.637298155 | 0.939880010 | 0.6780633 | 4.977315e-01 | 1.891364e+00 |   0.6985477 | 5.999520e+01 | TMEM92     |\n",
       "| CEP55 |  6.629090760 | 2.370876883 | 2.7960502 | 5.173137e-03 | 7.567938e+02 |   9.7091881 | 1.149193e+05 | CEP55      |\n",
       "| TPM3 |  0.116327706 | 0.029392639 | 3.9577156 | 7.566998e-05 | 1.123364e+00 |   1.0661625 | 1.197379e+00 | TPM3       |\n",
       "| HIST1H1B |  0.049622326 | 0.027488194 | 1.8052232 | 7.103976e-02 | 1.050874e+00 |   1.0026585 | 1.115792e+00 | HIST1H1B   |\n",
       "| AC132872.2 |  2.977704702 | 0.930685162 | 3.1994759 | 1.376777e-03 | 1.964268e+01 |   3.6451862 | 1.434422e+02 | AC132872.2 |\n",
       "| MIF |  0.826587828 | 0.385790573 | 2.1425817 | 3.214670e-02 | 2.285507e+00 |   1.1341963 | 5.247637e+00 | MIF        |\n",
       "| HJURP |  4.337094396 | 1.707461403 | 2.5400834 | 1.108260e-02 | 7.648498e+01 |   3.6332236 | 2.934964e+03 | HJURP      |\n",
       "| BUB1 |  2.279345693 | 0.992812043 | 2.2958482 | 2.168457e-02 | 9.770286e+00 |   1.7090991 | 8.226416e+01 | BUB1       |\n",
       "| IL10RB |  0.143844114 | 0.039240248 | 3.6657289 | 2.466350e-04 | 1.154704e+00 |   1.0772001 | 1.257971e+00 | IL10RB     |\n",
       "| HIST2H2BE |  0.076127318 | 0.029260678 | 2.6016936 | 9.276469e-03 | 1.079100e+00 |   1.0237837 | 1.149461e+00 | HIST2H2BE  |\n",
       "| GPR84 |  0.204785166 | 0.286190612 | 0.7155551 | 4.742661e-01 | 1.227261e+00 |   0.7848847 | 3.015499e+00 | GPR84      |\n",
       "| CCDC147 |  1.402974438 | 0.518698118 | 2.7047996 | 6.834562e-03 | 4.067280e+00 |   1.5681789 | 1.219630e+01 | CCDC147    |\n",
       "| U2AF1L4 |  2.685966634 | 1.055549428 | 2.5446147 | 1.093984e-02 | 1.467238e+01 |   2.0480884 | 1.339797e+02 | U2AF1L4    |\n",
       "| SP110 |  0.096219069 | 0.026348201 | 3.6518268 | 2.603814e-04 | 1.101000e+00 |   1.0500685 | 1.165169e+00 | SP110      |\n",
       "| NEK2 | 11.869950248 | 3.841837814 | 3.0896542 | 2.003897e-03 | 1.429071e+05 | 128.6832739 | 4.927882e+08 | NEK2       |\n",
       "| PRRG4 |  0.152659172 | 0.072681688 | 2.1003801 | 3.569542e-02 | 1.164928e+00 |   1.0187017 | 1.358476e+00 | PRRG4      |\n",
       "| SLC26A8 |  0.462128878 | 0.222197656 | 2.0798099 | 3.754298e-02 | 1.587450e+00 |   1.0665973 | 2.534953e+00 | SLC26A8    |\n",
       "| RAB7A |  0.084679184 | 0.021588148 | 3.9224849 | 8.764038e-05 | 1.088368e+00 |   1.0477343 | 1.140741e+00 | RAB7A      |\n",
       "| CKAP4 |  0.088728861 | 0.040883681 | 2.1702757 | 2.998596e-02 | 1.092784e+00 |   1.0190637 | 1.193436e+00 | CKAP4      |\n",
       "| ZNF608 |  2.287919058 | 0.854385822 | 2.6778523 | 7.409588e-03 | 9.854410e+00 |   2.0740724 | 5.932224e+01 | ZNF608     |\n",
       "| MARCKS |  0.105966342 | 0.037108086 | 2.8556132 | 4.295380e-03 | 1.111784e+00 |   1.0385864 | 1.203028e+00 | MARCKS     |\n",
       "| RRM2 |  1.839554847 | 0.809382411 | 2.2727883 | 2.303894e-02 | 6.293736e+00 |   1.5179122 | 3.486360e+01 | RRM2       |\n",
       "| PNPLA1 |  0.449202857 | 0.223990319 | 2.0054566 | 4.491426e-02 | 1.567063e+00 |   1.0441388 | 2.524399e+00 | PNPLA1     |\n",
       "| S100A11 |  0.004577771 | 0.001525695 | 3.0004503 | 2.695807e-03 | 1.004588e+00 |   1.0018744 | 1.007902e+00 | S100A11    |\n",
       "| HCAR1 |  2.514535839 | 0.883207218 | 2.8470508 | 4.412632e-03 | 1.236087e+01 |   2.4408586 | 8.104886e+01 | HCAR1      |\n",
       "| HSPA1A |  0.068999895 | 0.032851358 | 2.1003666 | 3.569661e-02 | 1.071436e+00 |   1.0107529 | 1.149653e+00 | HSPA1A     |\n",
       "\n"
      ],
      "text/plain": [
       "           Estimate     Std..Error  z.value   Pr...z..     OR          \n",
       "RASD2       6.754597155 9.491984901 0.7116106 4.767059e-01 8.579940e+02\n",
       "HIST1H3C    0.085357618 0.048247712 1.7691537 7.686823e-02 1.089106e+00\n",
       "TMEM92      0.637298155 0.939880010 0.6780633 4.977315e-01 1.891364e+00\n",
       "CEP55       6.629090760 2.370876883 2.7960502 5.173137e-03 7.567938e+02\n",
       "TPM3        0.116327706 0.029392639 3.9577156 7.566998e-05 1.123364e+00\n",
       "HIST1H1B    0.049622326 0.027488194 1.8052232 7.103976e-02 1.050874e+00\n",
       "AC132872.2  2.977704702 0.930685162 3.1994759 1.376777e-03 1.964268e+01\n",
       "MIF         0.826587828 0.385790573 2.1425817 3.214670e-02 2.285507e+00\n",
       "HJURP       4.337094396 1.707461403 2.5400834 1.108260e-02 7.648498e+01\n",
       "BUB1        2.279345693 0.992812043 2.2958482 2.168457e-02 9.770286e+00\n",
       "IL10RB      0.143844114 0.039240248 3.6657289 2.466350e-04 1.154704e+00\n",
       "HIST2H2BE   0.076127318 0.029260678 2.6016936 9.276469e-03 1.079100e+00\n",
       "GPR84       0.204785166 0.286190612 0.7155551 4.742661e-01 1.227261e+00\n",
       "CCDC147     1.402974438 0.518698118 2.7047996 6.834562e-03 4.067280e+00\n",
       "U2AF1L4     2.685966634 1.055549428 2.5446147 1.093984e-02 1.467238e+01\n",
       "SP110       0.096219069 0.026348201 3.6518268 2.603814e-04 1.101000e+00\n",
       "NEK2       11.869950248 3.841837814 3.0896542 2.003897e-03 1.429071e+05\n",
       "PRRG4       0.152659172 0.072681688 2.1003801 3.569542e-02 1.164928e+00\n",
       "SLC26A8     0.462128878 0.222197656 2.0798099 3.754298e-02 1.587450e+00\n",
       "RAB7A       0.084679184 0.021588148 3.9224849 8.764038e-05 1.088368e+00\n",
       "CKAP4       0.088728861 0.040883681 2.1702757 2.998596e-02 1.092784e+00\n",
       "ZNF608      2.287919058 0.854385822 2.6778523 7.409588e-03 9.854410e+00\n",
       "MARCKS      0.105966342 0.037108086 2.8556132 4.295380e-03 1.111784e+00\n",
       "RRM2        1.839554847 0.809382411 2.2727883 2.303894e-02 6.293736e+00\n",
       "PNPLA1      0.449202857 0.223990319 2.0054566 4.491426e-02 1.567063e+00\n",
       "S100A11     0.004577771 0.001525695 3.0004503 2.695807e-03 1.004588e+00\n",
       "HCAR1       2.514535839 0.883207218 2.8470508 4.412632e-03 1.236087e+01\n",
       "HSPA1A      0.068999895 0.032851358 2.1003666 3.569661e-02 1.071436e+00\n",
       "           X2.5..      X97.5..      Characteristics\n",
       "RASD2        0.1285745 6.352774e+13 RASD2          \n",
       "HIST1H3C     0.9992950 1.209732e+00 HIST1H3C       \n",
       "TMEM92       0.6985477 5.999520e+01 TMEM92         \n",
       "CEP55        9.7091881 1.149193e+05 CEP55          \n",
       "TPM3         1.0661625 1.197379e+00 TPM3           \n",
       "HIST1H1B     1.0026585 1.115792e+00 HIST1H1B       \n",
       "AC132872.2   3.6451862 1.434422e+02 AC132872.2     \n",
       "MIF          1.1341963 5.247637e+00 MIF            \n",
       "HJURP        3.6332236 2.934964e+03 HJURP          \n",
       "BUB1         1.7090991 8.226416e+01 BUB1           \n",
       "IL10RB       1.0772001 1.257971e+00 IL10RB         \n",
       "HIST2H2BE    1.0237837 1.149461e+00 HIST2H2BE      \n",
       "GPR84        0.7848847 3.015499e+00 GPR84          \n",
       "CCDC147      1.5681789 1.219630e+01 CCDC147        \n",
       "U2AF1L4      2.0480884 1.339797e+02 U2AF1L4        \n",
       "SP110        1.0500685 1.165169e+00 SP110          \n",
       "NEK2       128.6832739 4.927882e+08 NEK2           \n",
       "PRRG4        1.0187017 1.358476e+00 PRRG4          \n",
       "SLC26A8      1.0665973 2.534953e+00 SLC26A8        \n",
       "RAB7A        1.0477343 1.140741e+00 RAB7A          \n",
       "CKAP4        1.0190637 1.193436e+00 CKAP4          \n",
       "ZNF608       2.0740724 5.932224e+01 ZNF608         \n",
       "MARCKS       1.0385864 1.203028e+00 MARCKS         \n",
       "RRM2         1.5179122 3.486360e+01 RRM2           \n",
       "PNPLA1       1.0441388 2.524399e+00 PNPLA1         \n",
       "S100A11      1.0018744 1.007902e+00 S100A11        \n",
       "HCAR1        2.4408586 8.104886e+01 HCAR1          \n",
       "HSPA1A       1.0107529 1.149653e+00 HSPA1A         "
      ]
     },
     "metadata": {},
     "output_type": "display_data"
    }
   ],
   "source": [
    "Result"
   ]
  },
  {
   "cell_type": "code",
   "execution_count": 10,
   "id": "d2a9f6be-6f88-4415-8861-df8ddfccc94b",
   "metadata": {},
   "outputs": [],
   "source": [
    "Uni_log<-data.frame(Result[,c(1,4:8)]) #提取\"P\",\"OR\",\"CIlower\",\"CIupper\"和变量名\n",
    "\n",
    "colnames(Uni_log)[2:5]<-c(\"P\",\"OR\",\"CIlower\",\"CIupper\")#变量重命名\n",
    "\n",
    "ExtractVar<-unique(Uni_log$Characteristics[Uni_log$\"P\"<0.05]) "
   ]
  },
  {
   "cell_type": "code",
   "execution_count": 12,
   "id": "b8a4999f-62fc-48cc-9504-24198a2c9354",
   "metadata": {},
   "outputs": [
    {
     "name": "stderr",
     "output_type": "stream",
     "text": [
      "Warning message:\n",
      "\"package 'dplyr' was built under R version 4.2.3\"\n",
      "\n",
      "Attaching package: 'dplyr'\n",
      "\n",
      "\n",
      "The following object is masked from 'package:MASS':\n",
      "\n",
      "    select\n",
      "\n",
      "\n",
      "The following objects are masked from 'package:Hmisc':\n",
      "\n",
      "    src, summarize\n",
      "\n",
      "\n",
      "The following objects are masked from 'package:plyr':\n",
      "\n",
      "    arrange, count, desc, failwith, id, mutate, rename, summarise,\n",
      "    summarize\n",
      "\n",
      "\n",
      "The following objects are masked from 'package:stats':\n",
      "\n",
      "    filter, lag\n",
      "\n",
      "\n",
      "The following objects are masked from 'package:base':\n",
      "\n",
      "    intersect, setdiff, setequal, union\n",
      "\n",
      "\n"
     ]
    }
   ],
   "source": [
    "library(dplyr)"
   ]
  },
  {
   "cell_type": "code",
   "execution_count": 13,
   "id": "96dccc67-9bed-47ac-9322-1311ea699f89",
   "metadata": {},
   "outputs": [],
   "source": [
    "tzgene = Uni_log %>% dplyr::filter(P < 0.05) %>% rownames()"
   ]
  },
  {
   "cell_type": "code",
   "execution_count": 16,
   "id": "ca9ddbca-82d8-407c-9d53-61e50dc575f3",
   "metadata": {},
   "outputs": [],
   "source": [
    "write.csv(Uni_log,file = 'uni.res.csv')"
   ]
  },
  {
   "cell_type": "code",
   "execution_count": 17,
   "id": "1c629e36-1d0c-4c3e-b1e3-ad4f15e3cdad",
   "metadata": {},
   "outputs": [
    {
     "data": {
      "text/html": [
       "<style>\n",
       ".list-inline {list-style: none; margin:0; padding: 0}\n",
       ".list-inline>li {display: inline-block}\n",
       ".list-inline>li:not(:last-child)::after {content: \"\\00b7\"; padding: 0 .5ex}\n",
       "</style>\n",
       "<ol class=list-inline><li>'CEP55'</li><li>'TPM3'</li><li>'AC132872.2'</li><li>'MIF'</li><li>'HJURP'</li><li>'BUB1'</li><li>'IL10RB'</li><li>'HIST2H2BE'</li><li>'CCDC147'</li><li>'U2AF1L4'</li><li>'SP110'</li><li>'NEK2'</li><li>'PRRG4'</li><li>'SLC26A8'</li><li>'RAB7A'</li><li>'CKAP4'</li><li>'ZNF608'</li><li>'MARCKS'</li><li>'RRM2'</li><li>'PNPLA1'</li><li>'S100A11'</li><li>'HCAR1'</li><li>'HSPA1A'</li></ol>\n"
      ],
      "text/latex": [
       "\\begin{enumerate*}\n",
       "\\item 'CEP55'\n",
       "\\item 'TPM3'\n",
       "\\item 'AC132872.2'\n",
       "\\item 'MIF'\n",
       "\\item 'HJURP'\n",
       "\\item 'BUB1'\n",
       "\\item 'IL10RB'\n",
       "\\item 'HIST2H2BE'\n",
       "\\item 'CCDC147'\n",
       "\\item 'U2AF1L4'\n",
       "\\item 'SP110'\n",
       "\\item 'NEK2'\n",
       "\\item 'PRRG4'\n",
       "\\item 'SLC26A8'\n",
       "\\item 'RAB7A'\n",
       "\\item 'CKAP4'\n",
       "\\item 'ZNF608'\n",
       "\\item 'MARCKS'\n",
       "\\item 'RRM2'\n",
       "\\item 'PNPLA1'\n",
       "\\item 'S100A11'\n",
       "\\item 'HCAR1'\n",
       "\\item 'HSPA1A'\n",
       "\\end{enumerate*}\n"
      ],
      "text/markdown": [
       "1. 'CEP55'\n",
       "2. 'TPM3'\n",
       "3. 'AC132872.2'\n",
       "4. 'MIF'\n",
       "5. 'HJURP'\n",
       "6. 'BUB1'\n",
       "7. 'IL10RB'\n",
       "8. 'HIST2H2BE'\n",
       "9. 'CCDC147'\n",
       "10. 'U2AF1L4'\n",
       "11. 'SP110'\n",
       "12. 'NEK2'\n",
       "13. 'PRRG4'\n",
       "14. 'SLC26A8'\n",
       "15. 'RAB7A'\n",
       "16. 'CKAP4'\n",
       "17. 'ZNF608'\n",
       "18. 'MARCKS'\n",
       "19. 'RRM2'\n",
       "20. 'PNPLA1'\n",
       "21. 'S100A11'\n",
       "22. 'HCAR1'\n",
       "23. 'HSPA1A'\n",
       "\n",
       "\n"
      ],
      "text/plain": [
       " [1] \"CEP55\"      \"TPM3\"       \"AC132872.2\" \"MIF\"        \"HJURP\"     \n",
       " [6] \"BUB1\"       \"IL10RB\"     \"HIST2H2BE\"  \"CCDC147\"    \"U2AF1L4\"   \n",
       "[11] \"SP110\"      \"NEK2\"       \"PRRG4\"      \"SLC26A8\"    \"RAB7A\"     \n",
       "[16] \"CKAP4\"      \"ZNF608\"     \"MARCKS\"     \"RRM2\"       \"PNPLA1\"    \n",
       "[21] \"S100A11\"    \"HCAR1\"      \"HSPA1A\"    "
      ]
     },
     "metadata": {},
     "output_type": "display_data"
    }
   ],
   "source": [
    "tzgene"
   ]
  },
  {
   "cell_type": "code",
   "execution_count": null,
   "id": "15967642-d5b7-4081-b5b3-8ca86c536e89",
   "metadata": {},
   "outputs": [],
   "source": []
  }
 ],
 "metadata": {
  "kernelspec": {
   "display_name": "R",
   "language": "R",
   "name": "ir"
  },
  "language_info": {
   "codemirror_mode": "r",
   "file_extension": ".r",
   "mimetype": "text/x-r-source",
   "name": "R",
   "pygments_lexer": "r",
   "version": "4.2.1"
  }
 },
 "nbformat": 4,
 "nbformat_minor": 5
}
