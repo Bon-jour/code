{
 "cells": [
  {
   "cell_type": "code",
   "execution_count": 10,
   "id": "310b14bf-bb87-432f-a18e-7814c0ba3089",
   "metadata": {},
   "outputs": [
    {
     "data": {
      "text/plain": [
       "   M1 M2 M3 M4 S1 S2 S3 S4 M S\n",
       "M1 1                          \n",
       "M2 B  1                       \n",
       "M3 B  B  1                    \n",
       "M4 B  B  B  1                 \n",
       "S1 B  B  B  B  1              \n",
       "S2 B  B  B  *  B  1           \n",
       "S3 B  B  B  *  B  B  1        \n",
       "S4 B  B  B  B  B  B  B  1     \n",
       "M  B  B  B  B  B  B  B  B  1  \n",
       "S  B  B  B  B  B  B  B  B  B 1\n",
       "attr(,\"legend\")\n",
       "[1] 0 ' ' 0.3 '.' 0.6 ',' 0.8 '+' 0.9 '*' 0.95 'B' 1"
      ]
     },
     "metadata": {},
     "output_type": "display_data"
    },
    {
     "data": {
      "text/html": [
       "<strong>png:</strong> 2"
      ],
      "text/latex": [
       "\\textbf{png:} 2"
      ],
      "text/markdown": [
       "**png:** 2"
      ],
      "text/plain": [
       "png \n",
       "  2 "
      ]
     },
     "metadata": {},
     "output_type": "display_data"
    }
   ],
   "source": [
    "library(\"gplots\")\n",
    "data = read.csv('expr.csv',row.names = 1)\n",
    "\n",
    "data = data[,-c(1,2)]\n",
    "\n",
    "\n",
    "cg=names(tail(sort(apply(data,1,sd)),30000))\n",
    "n=data[cg,]\n",
    "\n",
    "\n",
    "set = function (x, cutpoints = c(0.3, 0.6, 0.8, 0.9, 0.95), symbols = if (numeric.x) c(\" \", \n",
    "    \".\", \",\", \"+\", \"*\", \"B\") else c(\".\", \"|\"), legend = length(symbols) >= \n",
    "    3, na = \"?\", eps = 1e-05, numeric.x = is.numeric(x), corr = missing(cutpoints) && \n",
    "    numeric.x, show.max = if (corr) \"1\", show.min = NULL, abbr.colnames = has.colnames, \n",
    "    lower.triangular = corr && is.numeric(x) && is.matrix(x), \n",
    "    diag.lower.tri = corr && !is.null(show.max)) \n",
    "{\n",
    "    if (length(x) == 0L) \n",
    "        return(noquote(if (is.null(d <- dim(x))) character() else array(\"\", \n",
    "            dim = d)))\n",
    "    has.na <- any(nax <- is.na(x))\n",
    "    if (numeric.x) {\n",
    "        force(corr)\n",
    "        cutpoints <- sort(cutpoints)\n",
    "        if (corr) \n",
    "            cutpoints <- c(0, cutpoints, 1)\n",
    "        if (anyDuplicated(cutpoints) || (corr && (any(cutpoints > \n",
    "            1) || any(cutpoints < 0)))) \n",
    "            stop(if (corr) \n",
    "                gettext(\"\")\n",
    "            else gettext(\"'cutpoints' must be unique, but are = \"), \n",
    "                paste(format(cutpoints), collapse = \"|\"), domain = NA)\n",
    "        nc <- length(cutpoints)\n",
    "        minc <- cutpoints[1L]\n",
    "        maxc <- cutpoints[nc]\n",
    "        range.msg <- if (corr) \n",
    "            gettext(\"\")\n",
    "        else gettextf(\"\", format(minc), \n",
    "            format(maxc))\n",
    "        if (corr) \n",
    "            x <- abs(x)\n",
    "        else if (any(x < minc - eps, na.rm = TRUE)) \n",
    "            stop(range.msg, domain = NA)\n",
    "        if (any(x > maxc + eps, na.rm = TRUE)) \n",
    "            stop(range.msg, domain = NA)\n",
    "        ns <- length(symbols)\n",
    "        symbols <- as.character(symbols)\n",
    "        if (anyDuplicated(symbols)) \n",
    "            stop(\"'symbols' must be unique, but are = \", paste(symbols, \n",
    "                collapse = \"|\"), domain = NA)\n",
    "        if (nc != ns + 1) \n",
    "            if (corr) \n",
    "                stop(\"number of 'cutpoints' must be one less than number of symbols\")\n",
    "            else stop(\"number of 'cutpoints' must be one more than number of symbols\")\n",
    "        iS <- cut(x, breaks = cutpoints, include.lowest = TRUE, \n",
    "            labels = FALSE)\n",
    "        if (any(ii <- is.na(iS))) {\n",
    "            iS[which(ii)[!is.na(x[ii]) & (abs(x[ii] - minc) < \n",
    "                eps)]] <- 1\n",
    "        }\n",
    "    }\n",
    "    else {\n",
    "        if (!missing(symbols) && length(symbols) != 2L) \n",
    "            stop(\"must have 2 'symbols' for logical 'x' argument\")\n",
    "        iS <- x + 1\n",
    "    }\n",
    "    if (has.na) {\n",
    "        ans <- character(length(iS))\n",
    "        if ((has.na <- is.character(na))) \n",
    "            ans[nax] <- na\n",
    "        ans[!nax] <- symbols[iS[!nax]]\n",
    "    }\n",
    "    else ans <- symbols[iS]\n",
    "    if (numeric.x) {\n",
    "        if (!is.null(show.max)) \n",
    "            ans[x >= maxc - eps] <- if (is.character(show.max)) \n",
    "                show.max\n",
    "            else format(maxc, digits = 1)\n",
    "        if (!is.null(show.min)) \n",
    "            ans[x <= minc + eps] <- if (is.character(show.min)) \n",
    "                show.min\n",
    "            else format(minc, digits = 1)\n",
    "    }\n",
    "    if (lower.triangular && is.matrix(x)) \n",
    "        ans[!lower.tri(x, diag = diag.lower.tri)] <- \"\"\n",
    "    attributes(ans) <- attributes(x)\n",
    "    if (is.array(ans) && (rank <- length(dim(x))) >= 2L) {\n",
    "        has.colnames <- !is.null(dimnames(ans))\n",
    "        if (!has.colnames) {\n",
    "            dimnames(ans) <- vector(\"list\", rank)\n",
    "        }\n",
    "        else {\n",
    "            has.colnames <- length(dimnames(ans)[[2L]]) > 0L\n",
    "        }\n",
    "        if ((is.logical(abbr.colnames) || is.numeric(abbr.colnames)) && \n",
    "            abbr.colnames) {\n",
    "            dimnames(ans)[[2L]] <- abbreviate(dimnames(ans)[[2L]], \n",
    "                minlength = abbr.colnames)\n",
    "        }\n",
    "        else if (is.null(abbr.colnames) || is.null(dimnames(ans)[[2L]])) \n",
    "            dimnames(ans)[[2L]] <- rep(\"\", dim(ans)[2L])\n",
    "        else if (!is.logical(abbr.colnames)) \n",
    "            stop(\"invalid 'abbr.colnames'\")\n",
    "    }\n",
    "    if (legend) {\n",
    "        legend <- c(rbind(sapply(cutpoints, format), c(sQuote(symbols), \n",
    "            \"\")), if (has.na) paste(\"\\t    ## NA:\", sQuote(na)))\n",
    "        attr(ans, \"legend\") <- paste(legend[-2 * (ns + 1)], collapse = \" \")\n",
    "    }\n",
    "    noquote(ans)\n",
    "}\n",
    "\n",
    "cU <- cor(n,method = 'spearman')\n",
    "set(cU)\n",
    "options(repr.plot.width = 8,repr.plot.height = 8)\n",
    "pdf('cor.pdf',height = 7,width = 7)\n",
    "col = rev(terrain.colors(64))\n",
    "hU <- heatmap.2(cU, col=col,margin=c(10, 10),\n",
    "                distfun=function(c) as.dist(1 - c), trace=\"none\",adjCol=c(1,1))\n",
    "dev.off()"
   ]
  },
  {
   "cell_type": "code",
   "execution_count": null,
   "id": "c9ed9025-3909-4651-b9a4-acbc618cc58b",
   "metadata": {},
   "outputs": [],
   "source": [
    "rc <- rainbow(nrow(cU), start=0, end=.3)\n",
    "cc <- rainbow(ncol(cU), start=0, end=.3)\n",
    "\n",
    "col = colorRampPalette(c(\"navy\", \"white\", \"firebrick3\"))(50)\n",
    "hU <- heatmap.2(cU, col=col,margin=c(10, 10), RowSideColors=rc, ColSideColors=cc, cellnote=cU,\n",
    "                distfun=function(c) as.dist(1 - c), trace=\"none\",adjCol=c(1,1))\n",
    "dev.off()"
   ]
  },
  {
   "cell_type": "code",
   "execution_count": null,
   "id": "41cdb33c-a269-4dd9-967f-53e70f0d897a",
   "metadata": {},
   "outputs": [],
   "source": []
  },
  {
   "cell_type": "code",
   "execution_count": null,
   "id": "df32e303-89b1-4977-b1d0-b5c1ecb188d0",
   "metadata": {},
   "outputs": [],
   "source": []
  },
  {
   "cell_type": "code",
   "execution_count": null,
   "id": "79bdf926-c2b6-4265-8566-cf5998abafa3",
   "metadata": {},
   "outputs": [],
   "source": []
  },
  {
   "cell_type": "code",
   "execution_count": null,
   "id": "f8d846ad-7ef6-4ac4-a620-1b7053318aab",
   "metadata": {},
   "outputs": [],
   "source": []
  },
  {
   "cell_type": "code",
   "execution_count": null,
   "id": "c67025c1-78d7-4c2c-91eb-2acb1e7f2141",
   "metadata": {},
   "outputs": [],
   "source": []
  },
  {
   "cell_type": "code",
   "execution_count": null,
   "id": "b7df25df-c52b-4197-a267-0ffdf1d9f5f9",
   "metadata": {},
   "outputs": [],
   "source": []
  },
  {
   "cell_type": "code",
   "execution_count": null,
   "id": "274c77c3-e643-4d48-88f4-bab7327a8f3e",
   "metadata": {},
   "outputs": [],
   "source": []
  },
  {
   "cell_type": "code",
   "execution_count": null,
   "id": "ddd89907-1640-4282-9341-3e8a3f403301",
   "metadata": {},
   "outputs": [],
   "source": []
  },
  {
   "cell_type": "code",
   "execution_count": null,
   "id": "74e4b759-d3dd-4d90-ba3f-35af74f3f657",
   "metadata": {},
   "outputs": [],
   "source": []
  }
 ],
 "metadata": {
  "kernelspec": {
   "display_name": "R",
   "language": "R",
   "name": "ir"
  },
  "language_info": {
   "codemirror_mode": "r",
   "file_extension": ".r",
   "mimetype": "text/x-r-source",
   "name": "R",
   "pygments_lexer": "r",
   "version": "4.2.1"
  }
 },
 "nbformat": 4,
 "nbformat_minor": 5
}
