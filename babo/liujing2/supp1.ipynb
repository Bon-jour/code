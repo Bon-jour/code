{
 "cells": [
  {
   "cell_type": "code",
   "execution_count": 1,
   "id": "28bd9cd1-e5a4-456c-83d6-e8c3742efb30",
   "metadata": {},
   "outputs": [],
   "source": [
    "setwd('/import/liujing/data/')"
   ]
  },
  {
   "cell_type": "code",
   "execution_count": 2,
   "id": "d285465f-96d9-4f54-8396-4a2ada387a8c",
   "metadata": {},
   "outputs": [],
   "source": [
    "data = read.table('./p160.deseq2.txt',header =T,sep = '\\t')"
   ]
  },
  {
   "cell_type": "code",
   "execution_count": 3,
   "id": "b0590f54-19a5-4ca9-b4de-b69c3c42621d",
   "metadata": {},
   "outputs": [],
   "source": [
    "data2 = read.table('./p73.deseq2.txt',header =T,sep = '\\t')"
   ]
  },
  {
   "cell_type": "code",
   "execution_count": 4,
   "id": "6e73e128-c3ce-480b-96a3-9d63c89493f5",
   "metadata": {},
   "outputs": [],
   "source": [
    "data = data[!duplicated(data$GeneName),]\n",
    "dat2 = data2[!duplicated(data$GeneName),]"
   ]
  },
  {
   "cell_type": "code",
   "execution_count": 5,
   "id": "18030f94-55ff-4ead-af06-12735f8a72e1",
   "metadata": {},
   "outputs": [
    {
     "data": {
      "text/html": [
       "<table class=\"dataframe\">\n",
       "<caption>A data.frame: 2 x 7</caption>\n",
       "<thead>\n",
       "\t<tr><th></th><th scope=col>GeneName</th><th scope=col>FoldChange</th><th scope=col>Log2FoldChange</th><th scope=col>pval</th><th scope=col>padj</th><th scope=col>gg</th><th scope=col>Significant</th></tr>\n",
       "\t<tr><th></th><th scope=col>&lt;chr&gt;</th><th scope=col>&lt;dbl&gt;</th><th scope=col>&lt;dbl&gt;</th><th scope=col>&lt;dbl&gt;</th><th scope=col>&lt;dbl&gt;</th><th scope=col>&lt;chr&gt;</th><th scope=col>&lt;chr&gt;</th></tr>\n",
       "</thead>\n",
       "<tbody>\n",
       "\t<tr><th scope=row>1</th><td>PPAPDC1A</td><td>0.01561083</td><td>-6.001309</td><td>1.090000e-19</td><td>1.070000e-15</td><td>down</td><td>yes</td></tr>\n",
       "\t<tr><th scope=row>2</th><td>PAK7    </td><td>0.05563946</td><td>-4.167748</td><td>8.893073e-03</td><td>8.552605e-02</td><td>down</td><td>no </td></tr>\n",
       "</tbody>\n",
       "</table>\n"
      ],
      "text/latex": [
       "A data.frame: 2 x 7\n",
       "\\begin{tabular}{r|lllllll}\n",
       "  & GeneName & FoldChange & Log2FoldChange & pval & padj & gg & Significant\\\\\n",
       "  & <chr> & <dbl> & <dbl> & <dbl> & <dbl> & <chr> & <chr>\\\\\n",
       "\\hline\n",
       "\t1 & PPAPDC1A & 0.01561083 & -6.001309 & 1.090000e-19 & 1.070000e-15 & down & yes\\\\\n",
       "\t2 & PAK7     & 0.05563946 & -4.167748 & 8.893073e-03 & 8.552605e-02 & down & no \\\\\n",
       "\\end{tabular}\n"
      ],
      "text/markdown": [
       "\n",
       "A data.frame: 2 x 7\n",
       "\n",
       "| <!--/--> | GeneName &lt;chr&gt; | FoldChange &lt;dbl&gt; | Log2FoldChange &lt;dbl&gt; | pval &lt;dbl&gt; | padj &lt;dbl&gt; | gg &lt;chr&gt; | Significant &lt;chr&gt; |\n",
       "|---|---|---|---|---|---|---|---|\n",
       "| 1 | PPAPDC1A | 0.01561083 | -6.001309 | 1.090000e-19 | 1.070000e-15 | down | yes |\n",
       "| 2 | PAK7     | 0.05563946 | -4.167748 | 8.893073e-03 | 8.552605e-02 | down | no  |\n",
       "\n"
      ],
      "text/plain": [
       "  GeneName FoldChange Log2FoldChange pval         padj         gg   Significant\n",
       "1 PPAPDC1A 0.01561083 -6.001309      1.090000e-19 1.070000e-15 down yes        \n",
       "2 PAK7     0.05563946 -4.167748      8.893073e-03 8.552605e-02 down no         "
      ]
     },
     "metadata": {},
     "output_type": "display_data"
    }
   ],
   "source": [
    "head(data,2)"
   ]
  },
  {
   "cell_type": "code",
   "execution_count": 79,
   "id": "5ac28cf1-ba24-4949-86d1-56e6b7167912",
   "metadata": {},
   "outputs": [],
   "source": [
    "foldChange = 0.5\n",
    "padj = 0.05"
   ]
  },
  {
   "cell_type": "code",
   "execution_count": 80,
   "id": "8fad2e94-c47e-4e57-9696-5d8306a77dae",
   "metadata": {},
   "outputs": [
    {
     "data": {
      "text/plain": [
       "\n",
       "     Down NoSignifi        Up \n",
       "      629     16712       171 "
      ]
     },
     "metadata": {},
     "output_type": "display_data"
    }
   ],
   "source": [
    "data$group = as.factor(ifelse(data$padj\t\t < padj & abs(data$Log2FoldChange) > foldChange, \n",
    "                                 ifelse(data$Log2FoldChange\t> foldChange ,'Up','Down'),'NoSignifi'))\n",
    "table(data$group)"
   ]
  },
  {
   "cell_type": "code",
   "execution_count": 81,
   "id": "40f18106-bb5f-4742-87aa-d242a39a5f84",
   "metadata": {},
   "outputs": [
    {
     "data": {
      "text/plain": [
       "\n",
       "     Down NoSignifi        Up \n",
       "      221     16226       294 "
      ]
     },
     "metadata": {},
     "output_type": "display_data"
    }
   ],
   "source": [
    "data2$group = as.factor(ifelse(data2$padj\t\t < padj & abs(data2$Log2FoldChange) > foldChange, \n",
    "                                 ifelse(data2$Log2FoldChange\t> foldChange ,'Up','Down'),'NoSignifi'))\n",
    "table(data2$group)"
   ]
  },
  {
   "cell_type": "code",
   "execution_count": 82,
   "id": "14c7aa53-eb09-4907-8179-cdace671a01b",
   "metadata": {},
   "outputs": [],
   "source": [
    "library(dplyr)"
   ]
  },
  {
   "cell_type": "code",
   "execution_count": 83,
   "id": "7695e704-c12c-42a8-9a6b-932d412342aa",
   "metadata": {},
   "outputs": [],
   "source": [
    "gene1 = data %>%  dplyr::filter(group != 'NoSignifi') %>%  dplyr::select(GeneName) "
   ]
  },
  {
   "cell_type": "code",
   "execution_count": 84,
   "id": "31dd87d2-8f08-4fbf-9cae-6b4f24b48473",
   "metadata": {},
   "outputs": [],
   "source": [
    "gene2 = data2 %>%   dplyr::filter(group != 'NoSignifi') %>%  dplyr::select(GeneName) "
   ]
  },
  {
   "cell_type": "code",
   "execution_count": 88,
   "id": "d1744853-adde-46af-9d80-46d00c6e4817",
   "metadata": {},
   "outputs": [
    {
     "data": {
      "text/html": [
       "59"
      ],
      "text/latex": [
       "59"
      ],
      "text/markdown": [
       "59"
      ],
      "text/plain": [
       "[1] 59"
      ]
     },
     "metadata": {},
     "output_type": "display_data"
    }
   ],
   "source": [
    "length(intersect(gene1$GeneName,gene2$GeneName))"
   ]
  },
  {
   "cell_type": "code",
   "execution_count": 89,
   "id": "565493b2-f374-4f94-ba3a-850ac78a263b",
   "metadata": {},
   "outputs": [],
   "source": [
    "dd = as.data.frame(intersect(gene1$GeneName,gene2$GeneName))"
   ]
  },
  {
   "cell_type": "code",
   "execution_count": 90,
   "id": "26c78ea5-8095-444f-8215-ec81001353cf",
   "metadata": {},
   "outputs": [],
   "source": [
    "write.table(dd,file = 'diffgeen2.txt',quote = F,sep = '\\t',row.names = F)"
   ]
  },
  {
   "cell_type": "code",
   "execution_count": null,
   "id": "1c6a6a8f-2c1b-4b72-a88a-2753cd73c893",
   "metadata": {},
   "outputs": [],
   "source": []
  },
  {
   "cell_type": "code",
   "execution_count": null,
   "id": "27d388de-5cf3-459b-95c9-84dd805a04b2",
   "metadata": {},
   "outputs": [],
   "source": []
  },
  {
   "cell_type": "code",
   "execution_count": null,
   "id": "b22b0e6a-db02-43b0-9d78-aa38010dae98",
   "metadata": {},
   "outputs": [],
   "source": []
  },
  {
   "cell_type": "code",
   "execution_count": null,
   "id": "14170133-ebb9-45b9-bb12-c5a49c36acf1",
   "metadata": {},
   "outputs": [],
   "source": []
  },
  {
   "cell_type": "code",
   "execution_count": 37,
   "id": "43d9e1d5-d887-4ee0-b108-c5573ef698f4",
   "metadata": {},
   "outputs": [],
   "source": [
    "load('expr.rda')"
   ]
  },
  {
   "cell_type": "code",
   "execution_count": 41,
   "id": "5dd8ba7b-19ee-45ad-97ae-08e067015b8c",
   "metadata": {},
   "outputs": [],
   "source": [
    "a = colnames(expr)"
   ]
  },
  {
   "cell_type": "code",
   "execution_count": 44,
   "id": "5bff2476-755c-4c79-902e-0ae23a656c99",
   "metadata": {},
   "outputs": [
    {
     "data": {
      "text/html": [
       "47"
      ],
      "text/latex": [
       "47"
      ],
      "text/markdown": [
       "47"
      ],
      "text/plain": [
       "[1] 47"
      ]
     },
     "metadata": {},
     "output_type": "display_data"
    }
   ],
   "source": [
    "length(intersect(a,b))"
   ]
  },
  {
   "cell_type": "code",
   "execution_count": 47,
   "id": "93c13037-eff2-43c5-aaa7-c06deb000699",
   "metadata": {},
   "outputs": [
    {
     "data": {
      "text/html": [
       "<style>\n",
       ".list-inline {list-style: none; margin:0; padding: 0}\n",
       ".list-inline>li {display: inline-block}\n",
       ".list-inline>li:not(:last-child)::after {content: \"\\00b7\"; padding: 0 .5ex}\n",
       "</style>\n",
       "<ol class=list-inline><li>'MARC1'</li><li>'AC132872.2'</li></ol>\n"
      ],
      "text/latex": [
       "\\begin{enumerate*}\n",
       "\\item 'MARC1'\n",
       "\\item 'AC132872.2'\n",
       "\\end{enumerate*}\n"
      ],
      "text/markdown": [
       "1. 'MARC1'\n",
       "2. 'AC132872.2'\n",
       "\n",
       "\n"
      ],
      "text/plain": [
       "[1] \"MARC1\"      \"AC132872.2\""
      ]
     },
     "metadata": {},
     "output_type": "display_data"
    }
   ],
   "source": [
    "setdiff(b,a)"
   ]
  },
  {
   "cell_type": "code",
   "execution_count": 48,
   "id": "9e970c8b-8953-4e97-984d-86b00e0075ec",
   "metadata": {},
   "outputs": [
    {
     "data": {
      "text/html": [
       "<style>\n",
       ".list-inline {list-style: none; margin:0; padding: 0}\n",
       ".list-inline>li {display: inline-block}\n",
       ".list-inline>li:not(:last-child)::after {content: \"\\00b7\"; padding: 0 .5ex}\n",
       "</style>\n",
       "<ol class=list-inline><li>'RAB7A'</li><li>'CEACAM1'</li><li>'CMTM1'</li><li>'RASD2'</li><li>'PLP2'</li><li>'RPL28'</li><li>'MANSC1'</li><li>'SLC26A8'</li><li>'OTX1'</li><li>'NEK2'</li><li>'CCDC147'</li><li>'HJURP'</li><li>'TNFSF14'</li><li>'SGOL1'</li><li>'PRRG4'</li><li>'SP110'</li><li>'CKAP4'</li><li>'SAP130'</li><li>'CEP55'</li><li>'GPR84'</li><li>'TPM3'</li><li>'CCNA2'</li><li>'MARCKS'</li><li>'U2AF1L4'</li><li>'S100A11'</li><li>'TSHR'</li><li>'TMEM92'</li><li>'ZNF608'</li><li>'PARM1'</li><li>'BUB1'</li><li>'MZB1'</li><li>'RRM2'</li><li>'PNPLA1'</li><li>'TNFSF15'</li><li>'HIST1H1B'</li><li>'HIST2H2BE'</li><li>'TLR5'</li><li>'HIST1H2BM'</li><li>'HIST1H3C'</li><li>'HCAR1'</li><li>'PDCD1LG2'</li><li>'F5'</li><li>'HSPA1A'</li><li>'RPS28'</li><li>'KIAA0040'</li><li>'MIF'</li><li>'IL10RB'</li></ol>\n"
      ],
      "text/latex": [
       "\\begin{enumerate*}\n",
       "\\item 'RAB7A'\n",
       "\\item 'CEACAM1'\n",
       "\\item 'CMTM1'\n",
       "\\item 'RASD2'\n",
       "\\item 'PLP2'\n",
       "\\item 'RPL28'\n",
       "\\item 'MANSC1'\n",
       "\\item 'SLC26A8'\n",
       "\\item 'OTX1'\n",
       "\\item 'NEK2'\n",
       "\\item 'CCDC147'\n",
       "\\item 'HJURP'\n",
       "\\item 'TNFSF14'\n",
       "\\item 'SGOL1'\n",
       "\\item 'PRRG4'\n",
       "\\item 'SP110'\n",
       "\\item 'CKAP4'\n",
       "\\item 'SAP130'\n",
       "\\item 'CEP55'\n",
       "\\item 'GPR84'\n",
       "\\item 'TPM3'\n",
       "\\item 'CCNA2'\n",
       "\\item 'MARCKS'\n",
       "\\item 'U2AF1L4'\n",
       "\\item 'S100A11'\n",
       "\\item 'TSHR'\n",
       "\\item 'TMEM92'\n",
       "\\item 'ZNF608'\n",
       "\\item 'PARM1'\n",
       "\\item 'BUB1'\n",
       "\\item 'MZB1'\n",
       "\\item 'RRM2'\n",
       "\\item 'PNPLA1'\n",
       "\\item 'TNFSF15'\n",
       "\\item 'HIST1H1B'\n",
       "\\item 'HIST2H2BE'\n",
       "\\item 'TLR5'\n",
       "\\item 'HIST1H2BM'\n",
       "\\item 'HIST1H3C'\n",
       "\\item 'HCAR1'\n",
       "\\item 'PDCD1LG2'\n",
       "\\item 'F5'\n",
       "\\item 'HSPA1A'\n",
       "\\item 'RPS28'\n",
       "\\item 'KIAA0040'\n",
       "\\item 'MIF'\n",
       "\\item 'IL10RB'\n",
       "\\end{enumerate*}\n"
      ],
      "text/markdown": [
       "1. 'RAB7A'\n",
       "2. 'CEACAM1'\n",
       "3. 'CMTM1'\n",
       "4. 'RASD2'\n",
       "5. 'PLP2'\n",
       "6. 'RPL28'\n",
       "7. 'MANSC1'\n",
       "8. 'SLC26A8'\n",
       "9. 'OTX1'\n",
       "10. 'NEK2'\n",
       "11. 'CCDC147'\n",
       "12. 'HJURP'\n",
       "13. 'TNFSF14'\n",
       "14. 'SGOL1'\n",
       "15. 'PRRG4'\n",
       "16. 'SP110'\n",
       "17. 'CKAP4'\n",
       "18. 'SAP130'\n",
       "19. 'CEP55'\n",
       "20. 'GPR84'\n",
       "21. 'TPM3'\n",
       "22. 'CCNA2'\n",
       "23. 'MARCKS'\n",
       "24. 'U2AF1L4'\n",
       "25. 'S100A11'\n",
       "26. 'TSHR'\n",
       "27. 'TMEM92'\n",
       "28. 'ZNF608'\n",
       "29. 'PARM1'\n",
       "30. 'BUB1'\n",
       "31. 'MZB1'\n",
       "32. 'RRM2'\n",
       "33. 'PNPLA1'\n",
       "34. 'TNFSF15'\n",
       "35. 'HIST1H1B'\n",
       "36. 'HIST2H2BE'\n",
       "37. 'TLR5'\n",
       "38. 'HIST1H2BM'\n",
       "39. 'HIST1H3C'\n",
       "40. 'HCAR1'\n",
       "41. 'PDCD1LG2'\n",
       "42. 'F5'\n",
       "43. 'HSPA1A'\n",
       "44. 'RPS28'\n",
       "45. 'KIAA0040'\n",
       "46. 'MIF'\n",
       "47. 'IL10RB'\n",
       "\n",
       "\n"
      ],
      "text/plain": [
       " [1] \"RAB7A\"     \"CEACAM1\"   \"CMTM1\"     \"RASD2\"     \"PLP2\"      \"RPL28\"    \n",
       " [7] \"MANSC1\"    \"SLC26A8\"   \"OTX1\"      \"NEK2\"      \"CCDC147\"   \"HJURP\"    \n",
       "[13] \"TNFSF14\"   \"SGOL1\"     \"PRRG4\"     \"SP110\"     \"CKAP4\"     \"SAP130\"   \n",
       "[19] \"CEP55\"     \"GPR84\"     \"TPM3\"      \"CCNA2\"     \"MARCKS\"    \"U2AF1L4\"  \n",
       "[25] \"S100A11\"   \"TSHR\"      \"TMEM92\"    \"ZNF608\"    \"PARM1\"     \"BUB1\"     \n",
       "[31] \"MZB1\"      \"RRM2\"      \"PNPLA1\"    \"TNFSF15\"   \"HIST1H1B\"  \"HIST2H2BE\"\n",
       "[37] \"TLR5\"      \"HIST1H2BM\" \"HIST1H3C\"  \"HCAR1\"     \"PDCD1LG2\"  \"F5\"       \n",
       "[43] \"HSPA1A\"    \"RPS28\"     \"KIAA0040\"  \"MIF\"       \"IL10RB\"   "
      ]
     },
     "metadata": {},
     "output_type": "display_data"
    }
   ],
   "source": [
    "a"
   ]
  },
  {
   "cell_type": "code",
   "execution_count": null,
   "id": "949e2a94-9388-4a78-825b-8aa54d3cbb54",
   "metadata": {},
   "outputs": [],
   "source": []
  },
  {
   "cell_type": "code",
   "execution_count": null,
   "id": "4e8ba739-27b4-4858-85e1-6aef4a96613e",
   "metadata": {},
   "outputs": [],
   "source": []
  },
  {
   "cell_type": "code",
   "execution_count": null,
   "id": "9cd5c5bc-1c7a-4a1a-b9a0-c3799c48b66e",
   "metadata": {},
   "outputs": [],
   "source": []
  }
 ],
 "metadata": {
  "kernelspec": {
   "display_name": "R",
   "language": "R",
   "name": "ir"
  },
  "language_info": {
   "codemirror_mode": "r",
   "file_extension": ".r",
   "mimetype": "text/x-r-source",
   "name": "R",
   "pygments_lexer": "r",
   "version": "4.2.1"
  }
 },
 "nbformat": 4,
 "nbformat_minor": 5
}
