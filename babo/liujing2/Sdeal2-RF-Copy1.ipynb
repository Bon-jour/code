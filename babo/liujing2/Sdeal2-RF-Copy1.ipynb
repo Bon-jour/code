{
 "cells": [
  {
   "cell_type": "code",
   "execution_count": 27,
   "id": "4803cf30-6f2e-42bc-a83c-bfcb4dd2fc29",
   "metadata": {},
   "outputs": [],
   "source": [
    "setwd('/import/liujing/data/my')"
   ]
  },
  {
   "cell_type": "code",
   "execution_count": 16,
   "id": "27e5f120-646e-4aaa-979b-df7db9e283a8",
   "metadata": {},
   "outputs": [],
   "source": [
    "load('../expr.rda')"
   ]
  },
  {
   "cell_type": "code",
   "execution_count": 17,
   "id": "a6b9699b-d802-4efa-9213-675cea538c7f",
   "metadata": {},
   "outputs": [],
   "source": [
    "library(dplyr)"
   ]
  },
  {
   "cell_type": "code",
   "execution_count": 18,
   "id": "edd85f90-f01d-40f6-bdff-16fbeca62392",
   "metadata": {},
   "outputs": [],
   "source": [
    "colnames(expr) = gsub('-','.',colnames(expr))"
   ]
  },
  {
   "cell_type": "code",
   "execution_count": 19,
   "id": "ad410fc8-54bc-4f82-b2a8-1eae99ed3b39",
   "metadata": {},
   "outputs": [
    {
     "data": {
      "text/html": [
       "<table class=\"dataframe\">\n",
       "<caption>A data.frame: 2 x 59</caption>\n",
       "<thead>\n",
       "\t<tr><th></th><th scope=col>MSLN</th><th scope=col>HBE1</th><th scope=col>OTOF</th><th scope=col>EGR1</th><th scope=col>HIST1H3F</th><th scope=col>SAMD14</th><th scope=col>IGF2</th><th scope=col>LRP1</th><th scope=col>PVRL2</th><th scope=col>GP1BA</th><th scope=col>...</th><th scope=col>ZNF268</th><th scope=col>ZNF141</th><th scope=col>ZNF441</th><th scope=col>PPP4R4</th><th scope=col>DYNLT3</th><th scope=col>ZDBF2</th><th scope=col>RPS20</th><th scope=col>ETAA1</th><th scope=col>HIST1H2BM</th><th scope=col>ZNF721</th></tr>\n",
       "\t<tr><th></th><th scope=col>&lt;dbl&gt;</th><th scope=col>&lt;dbl&gt;</th><th scope=col>&lt;dbl&gt;</th><th scope=col>&lt;dbl&gt;</th><th scope=col>&lt;dbl&gt;</th><th scope=col>&lt;dbl&gt;</th><th scope=col>&lt;dbl&gt;</th><th scope=col>&lt;dbl&gt;</th><th scope=col>&lt;dbl&gt;</th><th scope=col>&lt;dbl&gt;</th><th scope=col>...</th><th scope=col>&lt;dbl&gt;</th><th scope=col>&lt;dbl&gt;</th><th scope=col>&lt;dbl&gt;</th><th scope=col>&lt;dbl&gt;</th><th scope=col>&lt;dbl&gt;</th><th scope=col>&lt;dbl&gt;</th><th scope=col>&lt;dbl&gt;</th><th scope=col>&lt;dbl&gt;</th><th scope=col>&lt;dbl&gt;</th><th scope=col>&lt;dbl&gt;</th></tr>\n",
       "</thead>\n",
       "<tbody>\n",
       "\t<tr><th scope=row>CI10_M1</th><td>0.001604972</td><td>0.13897265</td><td>0.6439801</td><td>0.4818834</td><td>3.334643</td><td>0.1074810</td><td>0.01531470</td><td>6.989592</td><td>0.8880691</td><td>0.5674804</td><td>...</td><td>3.797805</td><td>12.710151</td><td>6.700506</td><td>0.2433729</td><td>7.730019</td><td>1.555564</td><td>167.52943</td><td>8.471657</td><td>10.420602</td><td>8.706591</td></tr>\n",
       "\t<tr><th scope=row>CI11_M1</th><td>0.001604972</td><td>0.06789091</td><td>0.1319284</td><td>0.3343645</td><td>2.322905</td><td>0.4015254</td><td>0.08084769</td><td>8.119331</td><td>0.7771147</td><td>2.6697039</td><td>...</td><td>1.390438</td><td> 5.253768</td><td>2.643442</td><td>0.1660712</td><td>3.472727</td><td>0.799147</td><td> 84.14582</td><td>4.166570</td><td> 3.172594</td><td>1.990680</td></tr>\n",
       "</tbody>\n",
       "</table>\n"
      ],
      "text/latex": [
       "A data.frame: 2 x 59\n",
       "\\begin{tabular}{r|lllllllllllllllllllll}\n",
       "  & MSLN & HBE1 & OTOF & EGR1 & HIST1H3F & SAMD14 & IGF2 & LRP1 & PVRL2 & GP1BA & ... & ZNF268 & ZNF141 & ZNF441 & PPP4R4 & DYNLT3 & ZDBF2 & RPS20 & ETAA1 & HIST1H2BM & ZNF721\\\\\n",
       "  & <dbl> & <dbl> & <dbl> & <dbl> & <dbl> & <dbl> & <dbl> & <dbl> & <dbl> & <dbl> & ... & <dbl> & <dbl> & <dbl> & <dbl> & <dbl> & <dbl> & <dbl> & <dbl> & <dbl> & <dbl>\\\\\n",
       "\\hline\n",
       "\tCI10\\_M1 & 0.001604972 & 0.13897265 & 0.6439801 & 0.4818834 & 3.334643 & 0.1074810 & 0.01531470 & 6.989592 & 0.8880691 & 0.5674804 & ... & 3.797805 & 12.710151 & 6.700506 & 0.2433729 & 7.730019 & 1.555564 & 167.52943 & 8.471657 & 10.420602 & 8.706591\\\\\n",
       "\tCI11\\_M1 & 0.001604972 & 0.06789091 & 0.1319284 & 0.3343645 & 2.322905 & 0.4015254 & 0.08084769 & 8.119331 & 0.7771147 & 2.6697039 & ... & 1.390438 &  5.253768 & 2.643442 & 0.1660712 & 3.472727 & 0.799147 &  84.14582 & 4.166570 &  3.172594 & 1.990680\\\\\n",
       "\\end{tabular}\n"
      ],
      "text/markdown": [
       "\n",
       "A data.frame: 2 x 59\n",
       "\n",
       "| <!--/--> | MSLN &lt;dbl&gt; | HBE1 &lt;dbl&gt; | OTOF &lt;dbl&gt; | EGR1 &lt;dbl&gt; | HIST1H3F &lt;dbl&gt; | SAMD14 &lt;dbl&gt; | IGF2 &lt;dbl&gt; | LRP1 &lt;dbl&gt; | PVRL2 &lt;dbl&gt; | GP1BA &lt;dbl&gt; | ... ... | ZNF268 &lt;dbl&gt; | ZNF141 &lt;dbl&gt; | ZNF441 &lt;dbl&gt; | PPP4R4 &lt;dbl&gt; | DYNLT3 &lt;dbl&gt; | ZDBF2 &lt;dbl&gt; | RPS20 &lt;dbl&gt; | ETAA1 &lt;dbl&gt; | HIST1H2BM &lt;dbl&gt; | ZNF721 &lt;dbl&gt; |\n",
       "|---|---|---|---|---|---|---|---|---|---|---|---|---|---|---|---|---|---|---|---|---|---|\n",
       "| CI10_M1 | 0.001604972 | 0.13897265 | 0.6439801 | 0.4818834 | 3.334643 | 0.1074810 | 0.01531470 | 6.989592 | 0.8880691 | 0.5674804 | ... | 3.797805 | 12.710151 | 6.700506 | 0.2433729 | 7.730019 | 1.555564 | 167.52943 | 8.471657 | 10.420602 | 8.706591 |\n",
       "| CI11_M1 | 0.001604972 | 0.06789091 | 0.1319284 | 0.3343645 | 2.322905 | 0.4015254 | 0.08084769 | 8.119331 | 0.7771147 | 2.6697039 | ... | 1.390438 |  5.253768 | 2.643442 | 0.1660712 | 3.472727 | 0.799147 |  84.14582 | 4.166570 |  3.172594 | 1.990680 |\n",
       "\n"
      ],
      "text/plain": [
       "        MSLN        HBE1       OTOF      EGR1      HIST1H3F SAMD14   \n",
       "CI10_M1 0.001604972 0.13897265 0.6439801 0.4818834 3.334643 0.1074810\n",
       "CI11_M1 0.001604972 0.06789091 0.1319284 0.3343645 2.322905 0.4015254\n",
       "        IGF2       LRP1     PVRL2     GP1BA     ... ZNF268   ZNF141    ZNF441  \n",
       "CI10_M1 0.01531470 6.989592 0.8880691 0.5674804 ... 3.797805 12.710151 6.700506\n",
       "CI11_M1 0.08084769 8.119331 0.7771147 2.6697039 ... 1.390438  5.253768 2.643442\n",
       "        PPP4R4    DYNLT3   ZDBF2    RPS20     ETAA1    HIST1H2BM ZNF721  \n",
       "CI10_M1 0.2433729 7.730019 1.555564 167.52943 8.471657 10.420602 8.706591\n",
       "CI11_M1 0.1660712 3.472727 0.799147  84.14582 4.166570  3.172594 1.990680"
      ]
     },
     "metadata": {},
     "output_type": "display_data"
    }
   ],
   "source": [
    "head(expr,2)"
   ]
  },
  {
   "cell_type": "code",
   "execution_count": 20,
   "id": "c39e9a2c-626e-4e2d-b58d-f3698b199a22",
   "metadata": {},
   "outputs": [
    {
     "data": {
      "text/html": [
       "<style>\n",
       ".list-inline {list-style: none; margin:0; padding: 0}\n",
       ".list-inline>li {display: inline-block}\n",
       ".list-inline>li:not(:last-child)::after {content: \"\\00b7\"; padding: 0 .5ex}\n",
       "</style>\n",
       "<ol class=list-inline><li>1</li><li>1</li><li>1</li><li>1</li><li>1</li><li>1</li><li>1</li><li>1</li><li>1</li><li>1</li><li>1</li><li>1</li><li>1</li><li>1</li><li>1</li><li>1</li><li>1</li><li>1</li><li>1</li><li>1</li><li>1</li><li>1</li><li>1</li><li>1</li><li>1</li><li>1</li><li>1</li><li>1</li><li>1</li><li>1</li><li>1</li><li>1</li><li>1</li><li>1</li><li>1</li><li>1</li><li>1</li><li>1</li><li>1</li><li>1</li><li>1</li><li>1</li><li>1</li><li>0</li><li>0</li><li>0</li><li>0</li><li>0</li><li>0</li><li>0</li><li>0</li><li>0</li><li>0</li><li>0</li><li>0</li><li>0</li><li>0</li><li>0</li><li>0</li><li>0</li><li>0</li><li>0</li><li>0</li><li>0</li><li>0</li><li>0</li><li>0</li><li>0</li><li>0</li><li>0</li><li>0</li><li>0</li><li>0</li><li>0</li><li>0</li><li>0</li><li>0</li><li>0</li><li>0</li><li>0</li><li>0</li><li>0</li><li>0</li><li>0</li><li>0</li><li>1</li><li>1</li><li>1</li><li>1</li><li>1</li><li>1</li><li>1</li><li>1</li><li>1</li><li>1</li><li>1</li><li>1</li><li>1</li><li>1</li><li>1</li><li>1</li><li>0</li><li>0</li><li>0</li><li>0</li><li>0</li><li>0</li><li>0</li><li>0</li><li>0</li><li>0</li><li>0</li><li>0</li><li>0</li><li>0</li><li>0</li><li>0</li><li>0</li><li>0</li></ol>\n"
      ],
      "text/latex": [
       "\\begin{enumerate*}\n",
       "\\item 1\n",
       "\\item 1\n",
       "\\item 1\n",
       "\\item 1\n",
       "\\item 1\n",
       "\\item 1\n",
       "\\item 1\n",
       "\\item 1\n",
       "\\item 1\n",
       "\\item 1\n",
       "\\item 1\n",
       "\\item 1\n",
       "\\item 1\n",
       "\\item 1\n",
       "\\item 1\n",
       "\\item 1\n",
       "\\item 1\n",
       "\\item 1\n",
       "\\item 1\n",
       "\\item 1\n",
       "\\item 1\n",
       "\\item 1\n",
       "\\item 1\n",
       "\\item 1\n",
       "\\item 1\n",
       "\\item 1\n",
       "\\item 1\n",
       "\\item 1\n",
       "\\item 1\n",
       "\\item 1\n",
       "\\item 1\n",
       "\\item 1\n",
       "\\item 1\n",
       "\\item 1\n",
       "\\item 1\n",
       "\\item 1\n",
       "\\item 1\n",
       "\\item 1\n",
       "\\item 1\n",
       "\\item 1\n",
       "\\item 1\n",
       "\\item 1\n",
       "\\item 1\n",
       "\\item 0\n",
       "\\item 0\n",
       "\\item 0\n",
       "\\item 0\n",
       "\\item 0\n",
       "\\item 0\n",
       "\\item 0\n",
       "\\item 0\n",
       "\\item 0\n",
       "\\item 0\n",
       "\\item 0\n",
       "\\item 0\n",
       "\\item 0\n",
       "\\item 0\n",
       "\\item 0\n",
       "\\item 0\n",
       "\\item 0\n",
       "\\item 0\n",
       "\\item 0\n",
       "\\item 0\n",
       "\\item 0\n",
       "\\item 0\n",
       "\\item 0\n",
       "\\item 0\n",
       "\\item 0\n",
       "\\item 0\n",
       "\\item 0\n",
       "\\item 0\n",
       "\\item 0\n",
       "\\item 0\n",
       "\\item 0\n",
       "\\item 0\n",
       "\\item 0\n",
       "\\item 0\n",
       "\\item 0\n",
       "\\item 0\n",
       "\\item 0\n",
       "\\item 0\n",
       "\\item 0\n",
       "\\item 0\n",
       "\\item 0\n",
       "\\item 0\n",
       "\\item 1\n",
       "\\item 1\n",
       "\\item 1\n",
       "\\item 1\n",
       "\\item 1\n",
       "\\item 1\n",
       "\\item 1\n",
       "\\item 1\n",
       "\\item 1\n",
       "\\item 1\n",
       "\\item 1\n",
       "\\item 1\n",
       "\\item 1\n",
       "\\item 1\n",
       "\\item 1\n",
       "\\item 1\n",
       "\\item 0\n",
       "\\item 0\n",
       "\\item 0\n",
       "\\item 0\n",
       "\\item 0\n",
       "\\item 0\n",
       "\\item 0\n",
       "\\item 0\n",
       "\\item 0\n",
       "\\item 0\n",
       "\\item 0\n",
       "\\item 0\n",
       "\\item 0\n",
       "\\item 0\n",
       "\\item 0\n",
       "\\item 0\n",
       "\\item 0\n",
       "\\item 0\n",
       "\\end{enumerate*}\n"
      ],
      "text/markdown": [
       "1. 1\n",
       "2. 1\n",
       "3. 1\n",
       "4. 1\n",
       "5. 1\n",
       "6. 1\n",
       "7. 1\n",
       "8. 1\n",
       "9. 1\n",
       "10. 1\n",
       "11. 1\n",
       "12. 1\n",
       "13. 1\n",
       "14. 1\n",
       "15. 1\n",
       "16. 1\n",
       "17. 1\n",
       "18. 1\n",
       "19. 1\n",
       "20. 1\n",
       "21. 1\n",
       "22. 1\n",
       "23. 1\n",
       "24. 1\n",
       "25. 1\n",
       "26. 1\n",
       "27. 1\n",
       "28. 1\n",
       "29. 1\n",
       "30. 1\n",
       "31. 1\n",
       "32. 1\n",
       "33. 1\n",
       "34. 1\n",
       "35. 1\n",
       "36. 1\n",
       "37. 1\n",
       "38. 1\n",
       "39. 1\n",
       "40. 1\n",
       "41. 1\n",
       "42. 1\n",
       "43. 1\n",
       "44. 0\n",
       "45. 0\n",
       "46. 0\n",
       "47. 0\n",
       "48. 0\n",
       "49. 0\n",
       "50. 0\n",
       "51. 0\n",
       "52. 0\n",
       "53. 0\n",
       "54. 0\n",
       "55. 0\n",
       "56. 0\n",
       "57. 0\n",
       "58. 0\n",
       "59. 0\n",
       "60. 0\n",
       "61. 0\n",
       "62. 0\n",
       "63. 0\n",
       "64. 0\n",
       "65. 0\n",
       "66. 0\n",
       "67. 0\n",
       "68. 0\n",
       "69. 0\n",
       "70. 0\n",
       "71. 0\n",
       "72. 0\n",
       "73. 0\n",
       "74. 0\n",
       "75. 0\n",
       "76. 0\n",
       "77. 0\n",
       "78. 0\n",
       "79. 0\n",
       "80. 0\n",
       "81. 0\n",
       "82. 0\n",
       "83. 0\n",
       "84. 0\n",
       "85. 0\n",
       "86. 1\n",
       "87. 1\n",
       "88. 1\n",
       "89. 1\n",
       "90. 1\n",
       "91. 1\n",
       "92. 1\n",
       "93. 1\n",
       "94. 1\n",
       "95. 1\n",
       "96. 1\n",
       "97. 1\n",
       "98. 1\n",
       "99. 1\n",
       "100. 1\n",
       "101. 1\n",
       "102. 0\n",
       "103. 0\n",
       "104. 0\n",
       "105. 0\n",
       "106. 0\n",
       "107. 0\n",
       "108. 0\n",
       "109. 0\n",
       "110. 0\n",
       "111. 0\n",
       "112. 0\n",
       "113. 0\n",
       "114. 0\n",
       "115. 0\n",
       "116. 0\n",
       "117. 0\n",
       "118. 0\n",
       "119. 0\n",
       "\n",
       "\n"
      ],
      "text/plain": [
       "  [1] 1 1 1 1 1 1 1 1 1 1 1 1 1 1 1 1 1 1 1 1 1 1 1 1 1 1 1 1 1 1 1 1 1 1 1 1 1\n",
       " [38] 1 1 1 1 1 1 0 0 0 0 0 0 0 0 0 0 0 0 0 0 0 0 0 0 0 0 0 0 0 0 0 0 0 0 0 0 0\n",
       " [75] 0 0 0 0 0 0 0 0 0 0 0 1 1 1 1 1 1 1 1 1 1 1 1 1 1 1 1 0 0 0 0 0 0 0 0 0 0\n",
       "[112] 0 0 0 0 0 0 0 0"
      ]
     },
     "metadata": {},
     "output_type": "display_data"
    }
   ],
   "source": [
    "Type"
   ]
  },
  {
   "cell_type": "code",
   "execution_count": 21,
   "id": "ab65721e-6b86-41ef-a50f-a498981a0e4c",
   "metadata": {},
   "outputs": [],
   "source": [
    "x = as.matrix(expr)\n",
    "y = Type"
   ]
  },
  {
   "cell_type": "code",
   "execution_count": 22,
   "id": "3ad7ad98-7fcc-44ce-9589-61939bba0399",
   "metadata": {},
   "outputs": [],
   "source": [
    "Group = data.frame(Group =  c(rep('CI',43),rep('H',42),rep('CI',16),rep('H',18)))\n",
    "expr3 = cbind(Group,expr)"
   ]
  },
  {
   "cell_type": "code",
   "execution_count": 23,
   "id": "1bd3a627-a970-4494-aa1d-8610e322d71e",
   "metadata": {},
   "outputs": [],
   "source": [
    "expr3$Group = ifelse(expr3$Group ==  'CI',1,0)"
   ]
  },
  {
   "cell_type": "code",
   "execution_count": 24,
   "id": "ed3af634-23a2-48b7-973d-2cfa0ebab2b4",
   "metadata": {},
   "outputs": [],
   "source": [
    "library(\"autoReg\")"
   ]
  },
  {
   "cell_type": "code",
   "execution_count": 25,
   "id": "0d0a39da-9d08-46dd-9e3c-314646baecca",
   "metadata": {
    "scrolled": true
   },
   "outputs": [
    {
     "name": "stderr",
     "output_type": "stream",
     "text": [
      "Warning message:\n",
      "\"glm.fit: algorithm did not converge\"\n",
      "Warning message:\n",
      "\"glm.fit: fitted probabilities numerically 0 or 1 occurred\"\n"
     ]
    },
    {
     "data": {
      "text/html": [
       "<table class=\"dataframe\">\n",
       "<caption>A autoReg: 59 x 7</caption>\n",
       "<thead>\n",
       "\t<tr><th scope=col>name</th><th scope=col>desc</th><th scope=col>0 (N=60)</th><th scope=col>1 (N=59)</th><th scope=col>id</th><th scope=col>OR (univariable)</th><th scope=col>OR (multivariable)</th></tr>\n",
       "\t<tr><th scope=col>&lt;chr&gt;</th><th scope=col>&lt;chr&gt;</th><th scope=col>&lt;chr&gt;</th><th scope=col>&lt;chr&gt;</th><th scope=col>&lt;chr&gt;</th><th scope=col>&lt;chr&gt;</th><th scope=col>&lt;chr&gt;</th></tr>\n",
       "</thead>\n",
       "<tbody>\n",
       "\t<tr><td><span style=white-space:pre-wrap>MSLN     </span></td><td>Mean &lt;U+00B1&gt; SD</td><td><span style=white-space:pre-wrap>0.1 &lt;U+00B1&gt; 0.2    </span></td><td><span style=white-space:pre-wrap>0.0 &lt;U+00B1&gt; 0.0    </span></td><td><span style=white-space:pre-wrap>MSLN     </span></td><td>0.00 (0.00-0.13, p=.025) </td><td>0.00 (0.00-5270082.05, p=.488)</td></tr>\n",
       "\t<tr><td><span style=white-space:pre-wrap>HBE1     </span></td><td>Mean &lt;U+00B1&gt; SD</td><td><span style=white-space:pre-wrap>0.4 &lt;U+00B1&gt; 0.9    </span></td><td><span style=white-space:pre-wrap>0.1 &lt;U+00B1&gt; 0.1    </span></td><td><span style=white-space:pre-wrap>HBE1     </span></td><td>0.14 (0.02-1.01, p=.051) </td><td><span style=white-space:pre-wrap>                              </span></td></tr>\n",
       "\t<tr><td><span style=white-space:pre-wrap>OTOF     </span></td><td>Mean &lt;U+00B1&gt; SD</td><td><span style=white-space:pre-wrap>0.6 &lt;U+00B1&gt; 2.3    </span></td><td><span style=white-space:pre-wrap>0.5 &lt;U+00B1&gt; 2.0    </span></td><td><span style=white-space:pre-wrap>OTOF     </span></td><td>0.98 (0.83-1.16, p=.810) </td><td><span style=white-space:pre-wrap>                              </span></td></tr>\n",
       "\t<tr><td><span style=white-space:pre-wrap>EGR1     </span></td><td>Mean &lt;U+00B1&gt; SD</td><td><span style=white-space:pre-wrap>0.9 &lt;U+00B1&gt; 2.1    </span></td><td><span style=white-space:pre-wrap>0.6 &lt;U+00B1&gt; 0.4    </span></td><td><span style=white-space:pre-wrap>EGR1     </span></td><td>0.86 (0.59-1.27, p=.449) </td><td><span style=white-space:pre-wrap>                              </span></td></tr>\n",
       "\t<tr><td>HIST1H3F </td><td>Mean &lt;U+00B1&gt; SD</td><td><span style=white-space:pre-wrap>14.5 &lt;U+00B1&gt; 9.5   </span></td><td><span style=white-space:pre-wrap>12.2 &lt;U+00B1&gt; 21.2  </span></td><td>HIST1H3F </td><td>0.99 (0.97-1.02, p=.466) </td><td><span style=white-space:pre-wrap>                              </span></td></tr>\n",
       "\t<tr><td><span style=white-space:pre-wrap>SAMD14   </span></td><td>Mean &lt;U+00B1&gt; SD</td><td><span style=white-space:pre-wrap>0.5 &lt;U+00B1&gt; 0.4    </span></td><td><span style=white-space:pre-wrap>0.4 &lt;U+00B1&gt; 0.4    </span></td><td><span style=white-space:pre-wrap>SAMD14   </span></td><td>0.31 (0.11-0.90, p=.031) </td><td><span style=white-space:pre-wrap>0.39 (0.00-37.57, p=.686)     </span></td></tr>\n",
       "\t<tr><td><span style=white-space:pre-wrap>IGF2     </span></td><td>Mean &lt;U+00B1&gt; SD</td><td><span style=white-space:pre-wrap>0.2 &lt;U+00B1&gt; 0.3    </span></td><td><span style=white-space:pre-wrap>0.1 &lt;U+00B1&gt; 0.3    </span></td><td><span style=white-space:pre-wrap>IGF2     </span></td><td>0.53 (0.13-2.25, p=.391) </td><td><span style=white-space:pre-wrap>                              </span></td></tr>\n",
       "\t<tr><td><span style=white-space:pre-wrap>LRP1     </span></td><td>Mean &lt;U+00B1&gt; SD</td><td><span style=white-space:pre-wrap>11.6 &lt;U+00B1&gt; 5.7   </span></td><td><span style=white-space:pre-wrap>8.8 &lt;U+00B1&gt; 4.3    </span></td><td><span style=white-space:pre-wrap>LRP1     </span></td><td>0.89 (0.82-0.97, p=.005) </td><td><span style=white-space:pre-wrap>0.97 (0.73-1.30, p=.860)      </span></td></tr>\n",
       "\t<tr><td><span style=white-space:pre-wrap>PVRL2    </span></td><td>Mean &lt;U+00B1&gt; SD</td><td><span style=white-space:pre-wrap>1.4 &lt;U+00B1&gt; 2.8    </span></td><td><span style=white-space:pre-wrap>1.2 &lt;U+00B1&gt; 1.1    </span></td><td><span style=white-space:pre-wrap>PVRL2    </span></td><td>0.96 (0.80-1.16, p=.675) </td><td><span style=white-space:pre-wrap>                              </span></td></tr>\n",
       "\t<tr><td><span style=white-space:pre-wrap>GP1BA    </span></td><td>Mean &lt;U+00B1&gt; SD</td><td><span style=white-space:pre-wrap>4.0 &lt;U+00B1&gt; 2.6    </span></td><td><span style=white-space:pre-wrap>3.0 &lt;U+00B1&gt; 2.2    </span></td><td><span style=white-space:pre-wrap>GP1BA    </span></td><td>0.83 (0.70-0.98, p=.025) </td><td><span style=white-space:pre-wrap>0.39 (0.14-1.11, p=.078)      </span></td></tr>\n",
       "\t<tr><td><span style=white-space:pre-wrap>GAS2L1   </span></td><td>Mean &lt;U+00B1&gt; SD</td><td><span style=white-space:pre-wrap>3.7 &lt;U+00B1&gt; 1.9    </span></td><td><span style=white-space:pre-wrap>2.8 &lt;U+00B1&gt; 1.7    </span></td><td><span style=white-space:pre-wrap>GAS2L1   </span></td><td>0.77 (0.62-0.95, p=.015) </td><td><span style=white-space:pre-wrap>1.23 (0.38-4.05, p=.731)      </span></td></tr>\n",
       "\t<tr><td><span style=white-space:pre-wrap>TGFB1I1  </span></td><td>Mean &lt;U+00B1&gt; SD</td><td><span style=white-space:pre-wrap>0.5 &lt;U+00B1&gt; 0.3    </span></td><td><span style=white-space:pre-wrap>0.4 &lt;U+00B1&gt; 0.3    </span></td><td><span style=white-space:pre-wrap>TGFB1I1  </span></td><td>0.28 (0.08-0.94, p=.040) </td><td><span style=white-space:pre-wrap>2.55 (0.02-417.69, p=.719)    </span></td></tr>\n",
       "\t<tr><td><span style=white-space:pre-wrap>C6orf25  </span></td><td>Mean &lt;U+00B1&gt; SD</td><td><span style=white-space:pre-wrap>20.5 &lt;U+00B1&gt; 13.6  </span></td><td><span style=white-space:pre-wrap>15.5 &lt;U+00B1&gt; 10.8  </span></td><td><span style=white-space:pre-wrap>C6orf25  </span></td><td>0.97 (0.93-1.00, p=.035) </td><td><span style=white-space:pre-wrap>0.80 (0.58-1.09, p=.160)      </span></td></tr>\n",
       "\t<tr><td><span style=white-space:pre-wrap>CDKN1A   </span></td><td>Mean &lt;U+00B1&gt; SD</td><td><span style=white-space:pre-wrap>9.7 &lt;U+00B1&gt; 4.1    </span></td><td><span style=white-space:pre-wrap>7.4 &lt;U+00B1&gt; 3.6    </span></td><td><span style=white-space:pre-wrap>CDKN1A   </span></td><td>0.85 (0.76-0.94, p=.003) </td><td><span style=white-space:pre-wrap>0.43 (0.26-0.70, p&lt;.001)      </span></td></tr>\n",
       "\t<tr><td><span style=white-space:pre-wrap>PF4      </span></td><td>Mean &lt;U+00B1&gt; SD</td><td>143.2 &lt;U+00B1&gt; 82.3 </td><td>112.4 &lt;U+00B1&gt; 90.7 </td><td><span style=white-space:pre-wrap>PF4      </span></td><td>1.00 (0.99-1.00, p=.060) </td><td><span style=white-space:pre-wrap>                              </span></td></tr>\n",
       "\t<tr><td><span style=white-space:pre-wrap>PPDPF    </span></td><td>Mean &lt;U+00B1&gt; SD</td><td><span style=white-space:pre-wrap>29.6 &lt;U+00B1&gt; 12.9  </span></td><td><span style=white-space:pre-wrap>24.1 &lt;U+00B1&gt; 17.9  </span></td><td><span style=white-space:pre-wrap>PPDPF    </span></td><td>0.98 (0.95-1.00, p=.062) </td><td><span style=white-space:pre-wrap>                              </span></td></tr>\n",
       "\t<tr><td><span style=white-space:pre-wrap>WASF3    </span></td><td>Mean &lt;U+00B1&gt; SD</td><td><span style=white-space:pre-wrap>0.5 &lt;U+00B1&gt; 0.3    </span></td><td><span style=white-space:pre-wrap>0.4 &lt;U+00B1&gt; 0.3    </span></td><td><span style=white-space:pre-wrap>WASF3    </span></td><td>0.30 (0.09-1.01, p=.051) </td><td><span style=white-space:pre-wrap>                              </span></td></tr>\n",
       "\t<tr><td><span style=white-space:pre-wrap>NRGN     </span></td><td>Mean &lt;U+00B1&gt; SD</td><td>189.4 &lt;U+00B1&gt; 109.4</td><td>147.8 &lt;U+00B1&gt; 102.3</td><td><span style=white-space:pre-wrap>NRGN     </span></td><td>1.00 (0.99-1.00, p=.039) </td><td><span style=white-space:pre-wrap>1.05 (1.00-1.09, p=.045)      </span></td></tr>\n",
       "\t<tr><td><span style=white-space:pre-wrap>EGFL7    </span></td><td>Mean &lt;U+00B1&gt; SD</td><td><span style=white-space:pre-wrap>0.7 &lt;U+00B1&gt; 0.4    </span></td><td><span style=white-space:pre-wrap>0.6 &lt;U+00B1&gt; 0.4    </span></td><td><span style=white-space:pre-wrap>EGFL7    </span></td><td>0.38 (0.14-1.01, p=.053) </td><td><span style=white-space:pre-wrap>                              </span></td></tr>\n",
       "\t<tr><td><span style=white-space:pre-wrap>RIN1     </span></td><td>Mean &lt;U+00B1&gt; SD</td><td><span style=white-space:pre-wrap>1.5 &lt;U+00B1&gt; 0.5    </span></td><td><span style=white-space:pre-wrap>1.2 &lt;U+00B1&gt; 0.6    </span></td><td><span style=white-space:pre-wrap>RIN1     </span></td><td>0.44 (0.22-0.86, p=.017) </td><td><span style=white-space:pre-wrap>1.01 (0.17-5.96, p=.987)      </span></td></tr>\n",
       "\t<tr><td><span style=white-space:pre-wrap>ESAM     </span></td><td>Mean &lt;U+00B1&gt; SD</td><td><span style=white-space:pre-wrap>2.7 &lt;U+00B1&gt; 1.3    </span></td><td><span style=white-space:pre-wrap>2.1 &lt;U+00B1&gt; 1.2    </span></td><td><span style=white-space:pre-wrap>ESAM     </span></td><td>0.70 (0.52-0.94, p=.018) </td><td><span style=white-space:pre-wrap>0.94 (0.18-4.83, p=.943)      </span></td></tr>\n",
       "\t<tr><td><span style=white-space:pre-wrap>PKMYT1   </span></td><td>Mean &lt;U+00B1&gt; SD</td><td><span style=white-space:pre-wrap>0.2 &lt;U+00B1&gt; 0.1    </span></td><td><span style=white-space:pre-wrap>0.2 &lt;U+00B1&gt; 0.2    </span></td><td><span style=white-space:pre-wrap>PKMYT1   </span></td><td>0.16 (0.01-2.37, p=.183) </td><td><span style=white-space:pre-wrap>                              </span></td></tr>\n",
       "\t<tr><td><span style=white-space:pre-wrap>PTGS1    </span></td><td>Mean &lt;U+00B1&gt; SD</td><td><span style=white-space:pre-wrap>15.9 &lt;U+00B1&gt; 7.1   </span></td><td><span style=white-space:pre-wrap>12.8 &lt;U+00B1&gt; 6.0   </span></td><td><span style=white-space:pre-wrap>PTGS1    </span></td><td>0.93 (0.88-0.99, p=.014) </td><td><span style=white-space:pre-wrap>1.28 (0.88-1.87, p=.203)      </span></td></tr>\n",
       "\t<tr><td><span style=white-space:pre-wrap>LAMA5    </span></td><td>Mean &lt;U+00B1&gt; SD</td><td><span style=white-space:pre-wrap>0.4 &lt;U+00B1&gt; 0.2    </span></td><td><span style=white-space:pre-wrap>0.3 &lt;U+00B1&gt; 0.2    </span></td><td><span style=white-space:pre-wrap>LAMA5    </span></td><td>0.18 (0.02-1.54, p=.118) </td><td><span style=white-space:pre-wrap>                              </span></td></tr>\n",
       "\t<tr><td><span style=white-space:pre-wrap>RCN3     </span></td><td>Mean &lt;U+00B1&gt; SD</td><td><span style=white-space:pre-wrap>17.0 &lt;U+00B1&gt; 5.1   </span></td><td><span style=white-space:pre-wrap>14.5 &lt;U+00B1&gt; 6.9   </span></td><td><span style=white-space:pre-wrap>RCN3     </span></td><td>0.93 (0.88-0.99, p=.032) </td><td><span style=white-space:pre-wrap>0.96 (0.80-1.14, p=.632)      </span></td></tr>\n",
       "\t<tr><td><span style=white-space:pre-wrap>MMP14    </span></td><td>Mean &lt;U+00B1&gt; SD</td><td><span style=white-space:pre-wrap>0.6 &lt;U+00B1&gt; 0.3    </span></td><td><span style=white-space:pre-wrap>0.5 &lt;U+00B1&gt; 0.3    </span></td><td><span style=white-space:pre-wrap>MMP14    </span></td><td>0.27 (0.07-1.12, p=.072) </td><td><span style=white-space:pre-wrap>                              </span></td></tr>\n",
       "\t<tr><td><span style=white-space:pre-wrap>STAB1    </span></td><td>Mean &lt;U+00B1&gt; SD</td><td><span style=white-space:pre-wrap>6.3 &lt;U+00B1&gt; 2.3    </span></td><td><span style=white-space:pre-wrap>5.3 &lt;U+00B1&gt; 2.5    </span></td><td><span style=white-space:pre-wrap>STAB1    </span></td><td>0.84 (0.72-0.99, p=.041) </td><td><span style=white-space:pre-wrap>0.77 (0.47-1.27, p=.306)      </span></td></tr>\n",
       "\t<tr><td><span style=white-space:pre-wrap>TTYH3    </span></td><td>Mean &lt;U+00B1&gt; SD</td><td><span style=white-space:pre-wrap>12.0 &lt;U+00B1&gt; 3.9   </span></td><td><span style=white-space:pre-wrap>10.4 &lt;U+00B1&gt; 4.8   </span></td><td><span style=white-space:pre-wrap>TTYH3    </span></td><td>0.92 (0.85-1.00, p=.060) </td><td><span style=white-space:pre-wrap>                              </span></td></tr>\n",
       "\t<tr><td><span style=white-space:pre-wrap>TOR4A    </span></td><td>Mean &lt;U+00B1&gt; SD</td><td><span style=white-space:pre-wrap>10.1 &lt;U+00B1&gt; 3.2   </span></td><td><span style=white-space:pre-wrap>9.0 &lt;U+00B1&gt; 4.3    </span></td><td><span style=white-space:pre-wrap>TOR4A    </span></td><td>0.93 (0.84-1.02, p=.127) </td><td><span style=white-space:pre-wrap>                              </span></td></tr>\n",
       "\t<tr><td><span style=white-space:pre-wrap>GAA      </span></td><td>Mean &lt;U+00B1&gt; SD</td><td><span style=white-space:pre-wrap>21.3 &lt;U+00B1&gt; 6.8   </span></td><td><span style=white-space:pre-wrap>18.8 &lt;U+00B1&gt; 8.5   </span></td><td><span style=white-space:pre-wrap>GAA      </span></td><td>0.96 (0.91-1.01, p=.083) </td><td><span style=white-space:pre-wrap>                              </span></td></tr>\n",
       "\t<tr><td><span style=white-space:pre-wrap>SLC19A1  </span></td><td>Mean &lt;U+00B1&gt; SD</td><td><span style=white-space:pre-wrap>16.5 &lt;U+00B1&gt; 5.1   </span></td><td><span style=white-space:pre-wrap>14.4 &lt;U+00B1&gt; 5.8   </span></td><td><span style=white-space:pre-wrap>SLC19A1  </span></td><td>0.93 (0.87-1.00, p=.038) </td><td><span style=white-space:pre-wrap>1.09 (0.87-1.37, p=.461)      </span></td></tr>\n",
       "\t<tr><td><span style=white-space:pre-wrap>FERMT3   </span></td><td>Mean &lt;U+00B1&gt; SD</td><td><span style=white-space:pre-wrap>87.2 &lt;U+00B1&gt; 25.9  </span></td><td><span style=white-space:pre-wrap>75.0 &lt;U+00B1&gt; 30.0  </span></td><td><span style=white-space:pre-wrap>FERMT3   </span></td><td>0.98 (0.97-1.00, p=.022) </td><td><span style=white-space:pre-wrap>1.04 (0.97-1.11, p=.305)      </span></td></tr>\n",
       "\t<tr><td>TMEM150B </td><td>Mean &lt;U+00B1&gt; SD</td><td><span style=white-space:pre-wrap>3.4 &lt;U+00B1&gt; 1.3    </span></td><td><span style=white-space:pre-wrap>3.0 &lt;U+00B1&gt; 1.6    </span></td><td>TMEM150B </td><td>0.82 (0.63-1.06, p=.130) </td><td><span style=white-space:pre-wrap>                              </span></td></tr>\n",
       "\t<tr><td><span style=white-space:pre-wrap>FAM129B  </span></td><td>Mean &lt;U+00B1&gt; SD</td><td><span style=white-space:pre-wrap>5.1 &lt;U+00B1&gt; 1.7    </span></td><td><span style=white-space:pre-wrap>4.4 &lt;U+00B1&gt; 1.9    </span></td><td><span style=white-space:pre-wrap>FAM129B  </span></td><td>0.79 (0.63-0.99, p=.042) </td><td><span style=white-space:pre-wrap>1.12 (0.43-2.95, p=.818)      </span></td></tr>\n",
       "\t<tr><td><span style=white-space:pre-wrap>PLXNB2   </span></td><td>Mean &lt;U+00B1&gt; SD</td><td><span style=white-space:pre-wrap>18.5 &lt;U+00B1&gt; 6.6   </span></td><td><span style=white-space:pre-wrap>16.2 &lt;U+00B1&gt; 6.3   </span></td><td><span style=white-space:pre-wrap>PLXNB2   </span></td><td>0.94 (0.89-1.00, p=.057) </td><td><span style=white-space:pre-wrap>                              </span></td></tr>\n",
       "\t<tr><td><span style=white-space:pre-wrap>TLN1     </span></td><td>Mean &lt;U+00B1&gt; SD</td><td>110.7 &lt;U+00B1&gt; 34.8 </td><td><span style=white-space:pre-wrap>93.3 &lt;U+00B1&gt; 28.8  </span></td><td><span style=white-space:pre-wrap>TLN1     </span></td><td>0.98 (0.97-0.99, p=.005) </td><td><span style=white-space:pre-wrap>1.00 (0.94-1.07, p=.922)      </span></td></tr>\n",
       "\t<tr><td><span style=white-space:pre-wrap>COMMD6   </span></td><td>Mean &lt;U+00B1&gt; SD</td><td><span style=white-space:pre-wrap>3.7 &lt;U+00B1&gt; 2.0    </span></td><td><span style=white-space:pre-wrap>4.0 &lt;U+00B1&gt; 2.1    </span></td><td><span style=white-space:pre-wrap>COMMD6   </span></td><td>1.07 (0.90-1.28, p=.458) </td><td><span style=white-space:pre-wrap>                              </span></td></tr>\n",
       "\t<tr><td><span style=white-space:pre-wrap>MRPL32   </span></td><td>Mean &lt;U+00B1&gt; SD</td><td><span style=white-space:pre-wrap>2.7 &lt;U+00B1&gt; 1.1    </span></td><td><span style=white-space:pre-wrap>3.0 &lt;U+00B1&gt; 1.3    </span></td><td><span style=white-space:pre-wrap>MRPL32   </span></td><td>1.22 (0.90-1.64, p=.201) </td><td><span style=white-space:pre-wrap>                              </span></td></tr>\n",
       "\t<tr><td><span style=white-space:pre-wrap>MRPL3    </span></td><td>Mean &lt;U+00B1&gt; SD</td><td><span style=white-space:pre-wrap>10.6 &lt;U+00B1&gt; 3.7   </span></td><td><span style=white-space:pre-wrap>12.0 &lt;U+00B1&gt; 4.6   </span></td><td><span style=white-space:pre-wrap>MRPL3    </span></td><td>1.09 (0.99-1.19, p=.066) </td><td><span style=white-space:pre-wrap>                              </span></td></tr>\n",
       "\t<tr><td><span style=white-space:pre-wrap>SVIP     </span></td><td>Mean &lt;U+00B1&gt; SD</td><td><span style=white-space:pre-wrap>2.9 &lt;U+00B1&gt; 1.3    </span></td><td><span style=white-space:pre-wrap>3.1 &lt;U+00B1&gt; 1.5    </span></td><td><span style=white-space:pre-wrap>SVIP     </span></td><td>1.13 (0.87-1.48, p=.364) </td><td><span style=white-space:pre-wrap>                              </span></td></tr>\n",
       "\t<tr><td><span style=white-space:pre-wrap>ZNF708   </span></td><td>Mean &lt;U+00B1&gt; SD</td><td><span style=white-space:pre-wrap>7.9 &lt;U+00B1&gt; 2.9    </span></td><td><span style=white-space:pre-wrap>8.8 &lt;U+00B1&gt; 3.6    </span></td><td><span style=white-space:pre-wrap>ZNF708   </span></td><td>1.09 (0.97-1.22, p=.138) </td><td><span style=white-space:pre-wrap>                              </span></td></tr>\n",
       "\t<tr><td><span style=white-space:pre-wrap>RBAK     </span></td><td>Mean &lt;U+00B1&gt; SD</td><td><span style=white-space:pre-wrap>3.6 &lt;U+00B1&gt; 1.5    </span></td><td><span style=white-space:pre-wrap>4.1 &lt;U+00B1&gt; 1.8    </span></td><td><span style=white-space:pre-wrap>RBAK     </span></td><td>1.19 (0.95-1.48, p=.133) </td><td><span style=white-space:pre-wrap>                              </span></td></tr>\n",
       "\t<tr><td><span style=white-space:pre-wrap>WDR89    </span></td><td>Mean &lt;U+00B1&gt; SD</td><td><span style=white-space:pre-wrap>2.8 &lt;U+00B1&gt; 1.2    </span></td><td><span style=white-space:pre-wrap>3.0 &lt;U+00B1&gt; 1.3    </span></td><td><span style=white-space:pre-wrap>WDR89    </span></td><td>1.18 (0.89-1.58, p=.249) </td><td><span style=white-space:pre-wrap>                              </span></td></tr>\n",
       "\t<tr><td><span style=white-space:pre-wrap>ZNF91    </span></td><td>Mean &lt;U+00B1&gt; SD</td><td><span style=white-space:pre-wrap>5.7 &lt;U+00B1&gt; 2.2    </span></td><td><span style=white-space:pre-wrap>6.2 &lt;U+00B1&gt; 2.5    </span></td><td><span style=white-space:pre-wrap>ZNF91    </span></td><td>1.10 (0.94-1.28, p=.227) </td><td><span style=white-space:pre-wrap>                              </span></td></tr>\n",
       "\t<tr><td><span style=white-space:pre-wrap>ZNF300   </span></td><td>Mean &lt;U+00B1&gt; SD</td><td><span style=white-space:pre-wrap>0.9 &lt;U+00B1&gt; 0.4    </span></td><td><span style=white-space:pre-wrap>1.0 &lt;U+00B1&gt; 0.7    </span></td><td><span style=white-space:pre-wrap>ZNF300   </span></td><td>1.12 (0.60-2.11, p=.720) </td><td><span style=white-space:pre-wrap>                              </span></td></tr>\n",
       "\t<tr><td><span style=white-space:pre-wrap>ZNF260   </span></td><td>Mean &lt;U+00B1&gt; SD</td><td><span style=white-space:pre-wrap>2.6 &lt;U+00B1&gt; 1.0    </span></td><td><span style=white-space:pre-wrap>2.9 &lt;U+00B1&gt; 1.4    </span></td><td><span style=white-space:pre-wrap>ZNF260   </span></td><td>1.25 (0.92-1.70, p=.150) </td><td><span style=white-space:pre-wrap>                              </span></td></tr>\n",
       "\t<tr><td><span style=white-space:pre-wrap>ANKRD49  </span></td><td>Mean &lt;U+00B1&gt; SD</td><td><span style=white-space:pre-wrap>7.1 &lt;U+00B1&gt; 3.0    </span></td><td><span style=white-space:pre-wrap>8.0 &lt;U+00B1&gt; 3.7    </span></td><td><span style=white-space:pre-wrap>ANKRD49  </span></td><td>1.09 (0.98-1.22, p=.125) </td><td><span style=white-space:pre-wrap>                              </span></td></tr>\n",
       "\t<tr><td><span style=white-space:pre-wrap>CEACAM1  </span></td><td>Mean &lt;U+00B1&gt; SD</td><td><span style=white-space:pre-wrap>7.2 &lt;U+00B1&gt; 3.2    </span></td><td><span style=white-space:pre-wrap>10.7 &lt;U+00B1&gt; 9.7   </span></td><td><span style=white-space:pre-wrap>CEACAM1  </span></td><td>1.20 (1.07-1.36, p=.002) </td><td><span style=white-space:pre-wrap>1.34 (1.12-1.60, p=.001)      </span></td></tr>\n",
       "\t<tr><td><span style=white-space:pre-wrap>ZNF737   </span></td><td>Mean &lt;U+00B1&gt; SD</td><td><span style=white-space:pre-wrap>7.2 &lt;U+00B1&gt; 2.8    </span></td><td><span style=white-space:pre-wrap>8.1 &lt;U+00B1&gt; 3.7    </span></td><td><span style=white-space:pre-wrap>ZNF737   </span></td><td>1.09 (0.97-1.23, p=.134) </td><td><span style=white-space:pre-wrap>                              </span></td></tr>\n",
       "\t<tr><td><span style=white-space:pre-wrap>ZNF268   </span></td><td>Mean &lt;U+00B1&gt; SD</td><td><span style=white-space:pre-wrap>2.2 &lt;U+00B1&gt; 1.0    </span></td><td><span style=white-space:pre-wrap>2.5 &lt;U+00B1&gt; 1.3    </span></td><td><span style=white-space:pre-wrap>ZNF268   </span></td><td>1.27 (0.92-1.76, p=.146) </td><td><span style=white-space:pre-wrap>                              </span></td></tr>\n",
       "\t<tr><td><span style=white-space:pre-wrap>ZNF141   </span></td><td>Mean &lt;U+00B1&gt; SD</td><td><span style=white-space:pre-wrap>6.3 &lt;U+00B1&gt; 2.5    </span></td><td><span style=white-space:pre-wrap>7.4 &lt;U+00B1&gt; 3.0    </span></td><td><span style=white-space:pre-wrap>ZNF141   </span></td><td>1.15 (1.00-1.32, p=.043) </td><td><span style=white-space:pre-wrap>1.62 (0.79-3.31, p=.189)      </span></td></tr>\n",
       "\t<tr><td><span style=white-space:pre-wrap>ZNF441   </span></td><td>Mean &lt;U+00B1&gt; SD</td><td><span style=white-space:pre-wrap>3.2 &lt;U+00B1&gt; 1.3    </span></td><td><span style=white-space:pre-wrap>3.6 &lt;U+00B1&gt; 1.8    </span></td><td><span style=white-space:pre-wrap>ZNF441   </span></td><td>1.21 (0.95-1.53, p=.118) </td><td><span style=white-space:pre-wrap>                              </span></td></tr>\n",
       "\t<tr><td><span style=white-space:pre-wrap>PPP4R4   </span></td><td>Mean &lt;U+00B1&gt; SD</td><td><span style=white-space:pre-wrap>0.2 &lt;U+00B1&gt; 0.1    </span></td><td><span style=white-space:pre-wrap>0.3 &lt;U+00B1&gt; 0.2    </span></td><td><span style=white-space:pre-wrap>PPP4R4   </span></td><td>4.13 (0.31-54.50, p=.282)</td><td><span style=white-space:pre-wrap>                              </span></td></tr>\n",
       "\t<tr><td><span style=white-space:pre-wrap>DYNLT3   </span></td><td>Mean &lt;U+00B1&gt; SD</td><td><span style=white-space:pre-wrap>3.6 &lt;U+00B1&gt; 1.6    </span></td><td><span style=white-space:pre-wrap>4.0 &lt;U+00B1&gt; 2.1    </span></td><td><span style=white-space:pre-wrap>DYNLT3   </span></td><td>1.13 (0.92-1.38, p=.232) </td><td><span style=white-space:pre-wrap>                              </span></td></tr>\n",
       "\t<tr><td><span style=white-space:pre-wrap>ZDBF2    </span></td><td>Mean &lt;U+00B1&gt; SD</td><td><span style=white-space:pre-wrap>1.0 &lt;U+00B1&gt; 0.5    </span></td><td><span style=white-space:pre-wrap>1.2 &lt;U+00B1&gt; 0.5    </span></td><td><span style=white-space:pre-wrap>ZDBF2    </span></td><td>1.91 (0.92-3.95, p=.081) </td><td><span style=white-space:pre-wrap>                              </span></td></tr>\n",
       "\t<tr><td><span style=white-space:pre-wrap>RPS20    </span></td><td>Mean &lt;U+00B1&gt; SD</td><td><span style=white-space:pre-wrap>71.9 &lt;U+00B1&gt; 30.1  </span></td><td><span style=white-space:pre-wrap>83.2 &lt;U+00B1&gt; 38.3  </span></td><td><span style=white-space:pre-wrap>RPS20    </span></td><td>1.01 (1.00-1.02, p=.081) </td><td><span style=white-space:pre-wrap>                              </span></td></tr>\n",
       "\t<tr><td><span style=white-space:pre-wrap>ETAA1    </span></td><td>Mean &lt;U+00B1&gt; SD</td><td><span style=white-space:pre-wrap>3.9 &lt;U+00B1&gt; 1.7    </span></td><td><span style=white-space:pre-wrap>4.5 &lt;U+00B1&gt; 2.2    </span></td><td><span style=white-space:pre-wrap>ETAA1    </span></td><td>1.18 (0.97-1.43, p=.096) </td><td><span style=white-space:pre-wrap>                              </span></td></tr>\n",
       "\t<tr><td>HIST1H2BM</td><td>Mean &lt;U+00B1&gt; SD</td><td><span style=white-space:pre-wrap>6.8 &lt;U+00B1&gt; 3.4    </span></td><td><span style=white-space:pre-wrap>14.1 &lt;U+00B1&gt; 17.9  </span></td><td>HIST1H2BM</td><td>1.14 (1.05-1.25, p=.003) </td><td><span style=white-space:pre-wrap>1.29 (1.07-1.56, p=.007)      </span></td></tr>\n",
       "\t<tr><td><span style=white-space:pre-wrap>ZNF721   </span></td><td>Mean &lt;U+00B1&gt; SD</td><td><span style=white-space:pre-wrap>4.1 &lt;U+00B1&gt; 2.0    </span></td><td><span style=white-space:pre-wrap>5.0 &lt;U+00B1&gt; 2.4    </span></td><td><span style=white-space:pre-wrap>ZNF721   </span></td><td>1.20 (1.01-1.43, p=.034) </td><td><span style=white-space:pre-wrap>1.01 (0.48-2.10, p=.983)      </span></td></tr>\n",
       "</tbody>\n",
       "</table>\n"
      ],
      "text/latex": [
       "A autoReg: 59 x 7\n",
       "\\begin{tabular}{lllllll}\n",
       " name & desc & 0 (N=60) & 1 (N=59) & id & OR (univariable) & OR (multivariable)\\\\\n",
       " <chr> & <chr> & <chr> & <chr> & <chr> & <chr> & <chr>\\\\\n",
       "\\hline\n",
       "\t MSLN      & Mean <U+00B1> SD & 0.1 <U+00B1> 0.2     & 0.0 <U+00B1> 0.0     & MSLN      & 0.00 (0.00-0.13, p=.025)  & 0.00 (0.00-5270082.05, p=.488)\\\\\n",
       "\t HBE1      & Mean <U+00B1> SD & 0.4 <U+00B1> 0.9     & 0.1 <U+00B1> 0.1     & HBE1      & 0.14 (0.02-1.01, p=.051)  &                               \\\\\n",
       "\t OTOF      & Mean <U+00B1> SD & 0.6 <U+00B1> 2.3     & 0.5 <U+00B1> 2.0     & OTOF      & 0.98 (0.83-1.16, p=.810)  &                               \\\\\n",
       "\t EGR1      & Mean <U+00B1> SD & 0.9 <U+00B1> 2.1     & 0.6 <U+00B1> 0.4     & EGR1      & 0.86 (0.59-1.27, p=.449)  &                               \\\\\n",
       "\t HIST1H3F  & Mean <U+00B1> SD & 14.5 <U+00B1> 9.5    & 12.2 <U+00B1> 21.2   & HIST1H3F  & 0.99 (0.97-1.02, p=.466)  &                               \\\\\n",
       "\t SAMD14    & Mean <U+00B1> SD & 0.5 <U+00B1> 0.4     & 0.4 <U+00B1> 0.4     & SAMD14    & 0.31 (0.11-0.90, p=.031)  & 0.39 (0.00-37.57, p=.686)     \\\\\n",
       "\t IGF2      & Mean <U+00B1> SD & 0.2 <U+00B1> 0.3     & 0.1 <U+00B1> 0.3     & IGF2      & 0.53 (0.13-2.25, p=.391)  &                               \\\\\n",
       "\t LRP1      & Mean <U+00B1> SD & 11.6 <U+00B1> 5.7    & 8.8 <U+00B1> 4.3     & LRP1      & 0.89 (0.82-0.97, p=.005)  & 0.97 (0.73-1.30, p=.860)      \\\\\n",
       "\t PVRL2     & Mean <U+00B1> SD & 1.4 <U+00B1> 2.8     & 1.2 <U+00B1> 1.1     & PVRL2     & 0.96 (0.80-1.16, p=.675)  &                               \\\\\n",
       "\t GP1BA     & Mean <U+00B1> SD & 4.0 <U+00B1> 2.6     & 3.0 <U+00B1> 2.2     & GP1BA     & 0.83 (0.70-0.98, p=.025)  & 0.39 (0.14-1.11, p=.078)      \\\\\n",
       "\t GAS2L1    & Mean <U+00B1> SD & 3.7 <U+00B1> 1.9     & 2.8 <U+00B1> 1.7     & GAS2L1    & 0.77 (0.62-0.95, p=.015)  & 1.23 (0.38-4.05, p=.731)      \\\\\n",
       "\t TGFB1I1   & Mean <U+00B1> SD & 0.5 <U+00B1> 0.3     & 0.4 <U+00B1> 0.3     & TGFB1I1   & 0.28 (0.08-0.94, p=.040)  & 2.55 (0.02-417.69, p=.719)    \\\\\n",
       "\t C6orf25   & Mean <U+00B1> SD & 20.5 <U+00B1> 13.6   & 15.5 <U+00B1> 10.8   & C6orf25   & 0.97 (0.93-1.00, p=.035)  & 0.80 (0.58-1.09, p=.160)      \\\\\n",
       "\t CDKN1A    & Mean <U+00B1> SD & 9.7 <U+00B1> 4.1     & 7.4 <U+00B1> 3.6     & CDKN1A    & 0.85 (0.76-0.94, p=.003)  & 0.43 (0.26-0.70, p<.001)      \\\\\n",
       "\t PF4       & Mean <U+00B1> SD & 143.2 <U+00B1> 82.3  & 112.4 <U+00B1> 90.7  & PF4       & 1.00 (0.99-1.00, p=.060)  &                               \\\\\n",
       "\t PPDPF     & Mean <U+00B1> SD & 29.6 <U+00B1> 12.9   & 24.1 <U+00B1> 17.9   & PPDPF     & 0.98 (0.95-1.00, p=.062)  &                               \\\\\n",
       "\t WASF3     & Mean <U+00B1> SD & 0.5 <U+00B1> 0.3     & 0.4 <U+00B1> 0.3     & WASF3     & 0.30 (0.09-1.01, p=.051)  &                               \\\\\n",
       "\t NRGN      & Mean <U+00B1> SD & 189.4 <U+00B1> 109.4 & 147.8 <U+00B1> 102.3 & NRGN      & 1.00 (0.99-1.00, p=.039)  & 1.05 (1.00-1.09, p=.045)      \\\\\n",
       "\t EGFL7     & Mean <U+00B1> SD & 0.7 <U+00B1> 0.4     & 0.6 <U+00B1> 0.4     & EGFL7     & 0.38 (0.14-1.01, p=.053)  &                               \\\\\n",
       "\t RIN1      & Mean <U+00B1> SD & 1.5 <U+00B1> 0.5     & 1.2 <U+00B1> 0.6     & RIN1      & 0.44 (0.22-0.86, p=.017)  & 1.01 (0.17-5.96, p=.987)      \\\\\n",
       "\t ESAM      & Mean <U+00B1> SD & 2.7 <U+00B1> 1.3     & 2.1 <U+00B1> 1.2     & ESAM      & 0.70 (0.52-0.94, p=.018)  & 0.94 (0.18-4.83, p=.943)      \\\\\n",
       "\t PKMYT1    & Mean <U+00B1> SD & 0.2 <U+00B1> 0.1     & 0.2 <U+00B1> 0.2     & PKMYT1    & 0.16 (0.01-2.37, p=.183)  &                               \\\\\n",
       "\t PTGS1     & Mean <U+00B1> SD & 15.9 <U+00B1> 7.1    & 12.8 <U+00B1> 6.0    & PTGS1     & 0.93 (0.88-0.99, p=.014)  & 1.28 (0.88-1.87, p=.203)      \\\\\n",
       "\t LAMA5     & Mean <U+00B1> SD & 0.4 <U+00B1> 0.2     & 0.3 <U+00B1> 0.2     & LAMA5     & 0.18 (0.02-1.54, p=.118)  &                               \\\\\n",
       "\t RCN3      & Mean <U+00B1> SD & 17.0 <U+00B1> 5.1    & 14.5 <U+00B1> 6.9    & RCN3      & 0.93 (0.88-0.99, p=.032)  & 0.96 (0.80-1.14, p=.632)      \\\\\n",
       "\t MMP14     & Mean <U+00B1> SD & 0.6 <U+00B1> 0.3     & 0.5 <U+00B1> 0.3     & MMP14     & 0.27 (0.07-1.12, p=.072)  &                               \\\\\n",
       "\t STAB1     & Mean <U+00B1> SD & 6.3 <U+00B1> 2.3     & 5.3 <U+00B1> 2.5     & STAB1     & 0.84 (0.72-0.99, p=.041)  & 0.77 (0.47-1.27, p=.306)      \\\\\n",
       "\t TTYH3     & Mean <U+00B1> SD & 12.0 <U+00B1> 3.9    & 10.4 <U+00B1> 4.8    & TTYH3     & 0.92 (0.85-1.00, p=.060)  &                               \\\\\n",
       "\t TOR4A     & Mean <U+00B1> SD & 10.1 <U+00B1> 3.2    & 9.0 <U+00B1> 4.3     & TOR4A     & 0.93 (0.84-1.02, p=.127)  &                               \\\\\n",
       "\t GAA       & Mean <U+00B1> SD & 21.3 <U+00B1> 6.8    & 18.8 <U+00B1> 8.5    & GAA       & 0.96 (0.91-1.01, p=.083)  &                               \\\\\n",
       "\t SLC19A1   & Mean <U+00B1> SD & 16.5 <U+00B1> 5.1    & 14.4 <U+00B1> 5.8    & SLC19A1   & 0.93 (0.87-1.00, p=.038)  & 1.09 (0.87-1.37, p=.461)      \\\\\n",
       "\t FERMT3    & Mean <U+00B1> SD & 87.2 <U+00B1> 25.9   & 75.0 <U+00B1> 30.0   & FERMT3    & 0.98 (0.97-1.00, p=.022)  & 1.04 (0.97-1.11, p=.305)      \\\\\n",
       "\t TMEM150B  & Mean <U+00B1> SD & 3.4 <U+00B1> 1.3     & 3.0 <U+00B1> 1.6     & TMEM150B  & 0.82 (0.63-1.06, p=.130)  &                               \\\\\n",
       "\t FAM129B   & Mean <U+00B1> SD & 5.1 <U+00B1> 1.7     & 4.4 <U+00B1> 1.9     & FAM129B   & 0.79 (0.63-0.99, p=.042)  & 1.12 (0.43-2.95, p=.818)      \\\\\n",
       "\t PLXNB2    & Mean <U+00B1> SD & 18.5 <U+00B1> 6.6    & 16.2 <U+00B1> 6.3    & PLXNB2    & 0.94 (0.89-1.00, p=.057)  &                               \\\\\n",
       "\t TLN1      & Mean <U+00B1> SD & 110.7 <U+00B1> 34.8  & 93.3 <U+00B1> 28.8   & TLN1      & 0.98 (0.97-0.99, p=.005)  & 1.00 (0.94-1.07, p=.922)      \\\\\n",
       "\t COMMD6    & Mean <U+00B1> SD & 3.7 <U+00B1> 2.0     & 4.0 <U+00B1> 2.1     & COMMD6    & 1.07 (0.90-1.28, p=.458)  &                               \\\\\n",
       "\t MRPL32    & Mean <U+00B1> SD & 2.7 <U+00B1> 1.1     & 3.0 <U+00B1> 1.3     & MRPL32    & 1.22 (0.90-1.64, p=.201)  &                               \\\\\n",
       "\t MRPL3     & Mean <U+00B1> SD & 10.6 <U+00B1> 3.7    & 12.0 <U+00B1> 4.6    & MRPL3     & 1.09 (0.99-1.19, p=.066)  &                               \\\\\n",
       "\t SVIP      & Mean <U+00B1> SD & 2.9 <U+00B1> 1.3     & 3.1 <U+00B1> 1.5     & SVIP      & 1.13 (0.87-1.48, p=.364)  &                               \\\\\n",
       "\t ZNF708    & Mean <U+00B1> SD & 7.9 <U+00B1> 2.9     & 8.8 <U+00B1> 3.6     & ZNF708    & 1.09 (0.97-1.22, p=.138)  &                               \\\\\n",
       "\t RBAK      & Mean <U+00B1> SD & 3.6 <U+00B1> 1.5     & 4.1 <U+00B1> 1.8     & RBAK      & 1.19 (0.95-1.48, p=.133)  &                               \\\\\n",
       "\t WDR89     & Mean <U+00B1> SD & 2.8 <U+00B1> 1.2     & 3.0 <U+00B1> 1.3     & WDR89     & 1.18 (0.89-1.58, p=.249)  &                               \\\\\n",
       "\t ZNF91     & Mean <U+00B1> SD & 5.7 <U+00B1> 2.2     & 6.2 <U+00B1> 2.5     & ZNF91     & 1.10 (0.94-1.28, p=.227)  &                               \\\\\n",
       "\t ZNF300    & Mean <U+00B1> SD & 0.9 <U+00B1> 0.4     & 1.0 <U+00B1> 0.7     & ZNF300    & 1.12 (0.60-2.11, p=.720)  &                               \\\\\n",
       "\t ZNF260    & Mean <U+00B1> SD & 2.6 <U+00B1> 1.0     & 2.9 <U+00B1> 1.4     & ZNF260    & 1.25 (0.92-1.70, p=.150)  &                               \\\\\n",
       "\t ANKRD49   & Mean <U+00B1> SD & 7.1 <U+00B1> 3.0     & 8.0 <U+00B1> 3.7     & ANKRD49   & 1.09 (0.98-1.22, p=.125)  &                               \\\\\n",
       "\t CEACAM1   & Mean <U+00B1> SD & 7.2 <U+00B1> 3.2     & 10.7 <U+00B1> 9.7    & CEACAM1   & 1.20 (1.07-1.36, p=.002)  & 1.34 (1.12-1.60, p=.001)      \\\\\n",
       "\t ZNF737    & Mean <U+00B1> SD & 7.2 <U+00B1> 2.8     & 8.1 <U+00B1> 3.7     & ZNF737    & 1.09 (0.97-1.23, p=.134)  &                               \\\\\n",
       "\t ZNF268    & Mean <U+00B1> SD & 2.2 <U+00B1> 1.0     & 2.5 <U+00B1> 1.3     & ZNF268    & 1.27 (0.92-1.76, p=.146)  &                               \\\\\n",
       "\t ZNF141    & Mean <U+00B1> SD & 6.3 <U+00B1> 2.5     & 7.4 <U+00B1> 3.0     & ZNF141    & 1.15 (1.00-1.32, p=.043)  & 1.62 (0.79-3.31, p=.189)      \\\\\n",
       "\t ZNF441    & Mean <U+00B1> SD & 3.2 <U+00B1> 1.3     & 3.6 <U+00B1> 1.8     & ZNF441    & 1.21 (0.95-1.53, p=.118)  &                               \\\\\n",
       "\t PPP4R4    & Mean <U+00B1> SD & 0.2 <U+00B1> 0.1     & 0.3 <U+00B1> 0.2     & PPP4R4    & 4.13 (0.31-54.50, p=.282) &                               \\\\\n",
       "\t DYNLT3    & Mean <U+00B1> SD & 3.6 <U+00B1> 1.6     & 4.0 <U+00B1> 2.1     & DYNLT3    & 1.13 (0.92-1.38, p=.232)  &                               \\\\\n",
       "\t ZDBF2     & Mean <U+00B1> SD & 1.0 <U+00B1> 0.5     & 1.2 <U+00B1> 0.5     & ZDBF2     & 1.91 (0.92-3.95, p=.081)  &                               \\\\\n",
       "\t RPS20     & Mean <U+00B1> SD & 71.9 <U+00B1> 30.1   & 83.2 <U+00B1> 38.3   & RPS20     & 1.01 (1.00-1.02, p=.081)  &                               \\\\\n",
       "\t ETAA1     & Mean <U+00B1> SD & 3.9 <U+00B1> 1.7     & 4.5 <U+00B1> 2.2     & ETAA1     & 1.18 (0.97-1.43, p=.096)  &                               \\\\\n",
       "\t HIST1H2BM & Mean <U+00B1> SD & 6.8 <U+00B1> 3.4     & 14.1 <U+00B1> 17.9   & HIST1H2BM & 1.14 (1.05-1.25, p=.003)  & 1.29 (1.07-1.56, p=.007)      \\\\\n",
       "\t ZNF721    & Mean <U+00B1> SD & 4.1 <U+00B1> 2.0     & 5.0 <U+00B1> 2.4     & ZNF721    & 1.20 (1.01-1.43, p=.034)  & 1.01 (0.48-2.10, p=.983)      \\\\\n",
       "\\end{tabular}\n"
      ],
      "text/markdown": [
       "\n",
       "A autoReg: 59 x 7\n",
       "\n",
       "| name &lt;chr&gt; | desc &lt;chr&gt; | 0 (N=60) &lt;chr&gt; | 1 (N=59) &lt;chr&gt; | id &lt;chr&gt; | OR (univariable) &lt;chr&gt; | OR (multivariable) &lt;chr&gt; |\n",
       "|---|---|---|---|---|---|---|\n",
       "| MSLN      | Mean &lt;U+00B1&gt; SD | 0.1 &lt;U+00B1&gt; 0.2     | 0.0 &lt;U+00B1&gt; 0.0     | MSLN      | 0.00 (0.00-0.13, p=.025)  | 0.00 (0.00-5270082.05, p=.488) |\n",
       "| HBE1      | Mean &lt;U+00B1&gt; SD | 0.4 &lt;U+00B1&gt; 0.9     | 0.1 &lt;U+00B1&gt; 0.1     | HBE1      | 0.14 (0.02-1.01, p=.051)  | <!----> |\n",
       "| OTOF      | Mean &lt;U+00B1&gt; SD | 0.6 &lt;U+00B1&gt; 2.3     | 0.5 &lt;U+00B1&gt; 2.0     | OTOF      | 0.98 (0.83-1.16, p=.810)  | <!----> |\n",
       "| EGR1      | Mean &lt;U+00B1&gt; SD | 0.9 &lt;U+00B1&gt; 2.1     | 0.6 &lt;U+00B1&gt; 0.4     | EGR1      | 0.86 (0.59-1.27, p=.449)  | <!----> |\n",
       "| HIST1H3F  | Mean &lt;U+00B1&gt; SD | 14.5 &lt;U+00B1&gt; 9.5    | 12.2 &lt;U+00B1&gt; 21.2   | HIST1H3F  | 0.99 (0.97-1.02, p=.466)  | <!----> |\n",
       "| SAMD14    | Mean &lt;U+00B1&gt; SD | 0.5 &lt;U+00B1&gt; 0.4     | 0.4 &lt;U+00B1&gt; 0.4     | SAMD14    | 0.31 (0.11-0.90, p=.031)  | 0.39 (0.00-37.57, p=.686)      |\n",
       "| IGF2      | Mean &lt;U+00B1&gt; SD | 0.2 &lt;U+00B1&gt; 0.3     | 0.1 &lt;U+00B1&gt; 0.3     | IGF2      | 0.53 (0.13-2.25, p=.391)  | <!----> |\n",
       "| LRP1      | Mean &lt;U+00B1&gt; SD | 11.6 &lt;U+00B1&gt; 5.7    | 8.8 &lt;U+00B1&gt; 4.3     | LRP1      | 0.89 (0.82-0.97, p=.005)  | 0.97 (0.73-1.30, p=.860)       |\n",
       "| PVRL2     | Mean &lt;U+00B1&gt; SD | 1.4 &lt;U+00B1&gt; 2.8     | 1.2 &lt;U+00B1&gt; 1.1     | PVRL2     | 0.96 (0.80-1.16, p=.675)  | <!----> |\n",
       "| GP1BA     | Mean &lt;U+00B1&gt; SD | 4.0 &lt;U+00B1&gt; 2.6     | 3.0 &lt;U+00B1&gt; 2.2     | GP1BA     | 0.83 (0.70-0.98, p=.025)  | 0.39 (0.14-1.11, p=.078)       |\n",
       "| GAS2L1    | Mean &lt;U+00B1&gt; SD | 3.7 &lt;U+00B1&gt; 1.9     | 2.8 &lt;U+00B1&gt; 1.7     | GAS2L1    | 0.77 (0.62-0.95, p=.015)  | 1.23 (0.38-4.05, p=.731)       |\n",
       "| TGFB1I1   | Mean &lt;U+00B1&gt; SD | 0.5 &lt;U+00B1&gt; 0.3     | 0.4 &lt;U+00B1&gt; 0.3     | TGFB1I1   | 0.28 (0.08-0.94, p=.040)  | 2.55 (0.02-417.69, p=.719)     |\n",
       "| C6orf25   | Mean &lt;U+00B1&gt; SD | 20.5 &lt;U+00B1&gt; 13.6   | 15.5 &lt;U+00B1&gt; 10.8   | C6orf25   | 0.97 (0.93-1.00, p=.035)  | 0.80 (0.58-1.09, p=.160)       |\n",
       "| CDKN1A    | Mean &lt;U+00B1&gt; SD | 9.7 &lt;U+00B1&gt; 4.1     | 7.4 &lt;U+00B1&gt; 3.6     | CDKN1A    | 0.85 (0.76-0.94, p=.003)  | 0.43 (0.26-0.70, p&lt;.001)       |\n",
       "| PF4       | Mean &lt;U+00B1&gt; SD | 143.2 &lt;U+00B1&gt; 82.3  | 112.4 &lt;U+00B1&gt; 90.7  | PF4       | 1.00 (0.99-1.00, p=.060)  | <!----> |\n",
       "| PPDPF     | Mean &lt;U+00B1&gt; SD | 29.6 &lt;U+00B1&gt; 12.9   | 24.1 &lt;U+00B1&gt; 17.9   | PPDPF     | 0.98 (0.95-1.00, p=.062)  | <!----> |\n",
       "| WASF3     | Mean &lt;U+00B1&gt; SD | 0.5 &lt;U+00B1&gt; 0.3     | 0.4 &lt;U+00B1&gt; 0.3     | WASF3     | 0.30 (0.09-1.01, p=.051)  | <!----> |\n",
       "| NRGN      | Mean &lt;U+00B1&gt; SD | 189.4 &lt;U+00B1&gt; 109.4 | 147.8 &lt;U+00B1&gt; 102.3 | NRGN      | 1.00 (0.99-1.00, p=.039)  | 1.05 (1.00-1.09, p=.045)       |\n",
       "| EGFL7     | Mean &lt;U+00B1&gt; SD | 0.7 &lt;U+00B1&gt; 0.4     | 0.6 &lt;U+00B1&gt; 0.4     | EGFL7     | 0.38 (0.14-1.01, p=.053)  | <!----> |\n",
       "| RIN1      | Mean &lt;U+00B1&gt; SD | 1.5 &lt;U+00B1&gt; 0.5     | 1.2 &lt;U+00B1&gt; 0.6     | RIN1      | 0.44 (0.22-0.86, p=.017)  | 1.01 (0.17-5.96, p=.987)       |\n",
       "| ESAM      | Mean &lt;U+00B1&gt; SD | 2.7 &lt;U+00B1&gt; 1.3     | 2.1 &lt;U+00B1&gt; 1.2     | ESAM      | 0.70 (0.52-0.94, p=.018)  | 0.94 (0.18-4.83, p=.943)       |\n",
       "| PKMYT1    | Mean &lt;U+00B1&gt; SD | 0.2 &lt;U+00B1&gt; 0.1     | 0.2 &lt;U+00B1&gt; 0.2     | PKMYT1    | 0.16 (0.01-2.37, p=.183)  | <!----> |\n",
       "| PTGS1     | Mean &lt;U+00B1&gt; SD | 15.9 &lt;U+00B1&gt; 7.1    | 12.8 &lt;U+00B1&gt; 6.0    | PTGS1     | 0.93 (0.88-0.99, p=.014)  | 1.28 (0.88-1.87, p=.203)       |\n",
       "| LAMA5     | Mean &lt;U+00B1&gt; SD | 0.4 &lt;U+00B1&gt; 0.2     | 0.3 &lt;U+00B1&gt; 0.2     | LAMA5     | 0.18 (0.02-1.54, p=.118)  | <!----> |\n",
       "| RCN3      | Mean &lt;U+00B1&gt; SD | 17.0 &lt;U+00B1&gt; 5.1    | 14.5 &lt;U+00B1&gt; 6.9    | RCN3      | 0.93 (0.88-0.99, p=.032)  | 0.96 (0.80-1.14, p=.632)       |\n",
       "| MMP14     | Mean &lt;U+00B1&gt; SD | 0.6 &lt;U+00B1&gt; 0.3     | 0.5 &lt;U+00B1&gt; 0.3     | MMP14     | 0.27 (0.07-1.12, p=.072)  | <!----> |\n",
       "| STAB1     | Mean &lt;U+00B1&gt; SD | 6.3 &lt;U+00B1&gt; 2.3     | 5.3 &lt;U+00B1&gt; 2.5     | STAB1     | 0.84 (0.72-0.99, p=.041)  | 0.77 (0.47-1.27, p=.306)       |\n",
       "| TTYH3     | Mean &lt;U+00B1&gt; SD | 12.0 &lt;U+00B1&gt; 3.9    | 10.4 &lt;U+00B1&gt; 4.8    | TTYH3     | 0.92 (0.85-1.00, p=.060)  | <!----> |\n",
       "| TOR4A     | Mean &lt;U+00B1&gt; SD | 10.1 &lt;U+00B1&gt; 3.2    | 9.0 &lt;U+00B1&gt; 4.3     | TOR4A     | 0.93 (0.84-1.02, p=.127)  | <!----> |\n",
       "| GAA       | Mean &lt;U+00B1&gt; SD | 21.3 &lt;U+00B1&gt; 6.8    | 18.8 &lt;U+00B1&gt; 8.5    | GAA       | 0.96 (0.91-1.01, p=.083)  | <!----> |\n",
       "| SLC19A1   | Mean &lt;U+00B1&gt; SD | 16.5 &lt;U+00B1&gt; 5.1    | 14.4 &lt;U+00B1&gt; 5.8    | SLC19A1   | 0.93 (0.87-1.00, p=.038)  | 1.09 (0.87-1.37, p=.461)       |\n",
       "| FERMT3    | Mean &lt;U+00B1&gt; SD | 87.2 &lt;U+00B1&gt; 25.9   | 75.0 &lt;U+00B1&gt; 30.0   | FERMT3    | 0.98 (0.97-1.00, p=.022)  | 1.04 (0.97-1.11, p=.305)       |\n",
       "| TMEM150B  | Mean &lt;U+00B1&gt; SD | 3.4 &lt;U+00B1&gt; 1.3     | 3.0 &lt;U+00B1&gt; 1.6     | TMEM150B  | 0.82 (0.63-1.06, p=.130)  | <!----> |\n",
       "| FAM129B   | Mean &lt;U+00B1&gt; SD | 5.1 &lt;U+00B1&gt; 1.7     | 4.4 &lt;U+00B1&gt; 1.9     | FAM129B   | 0.79 (0.63-0.99, p=.042)  | 1.12 (0.43-2.95, p=.818)       |\n",
       "| PLXNB2    | Mean &lt;U+00B1&gt; SD | 18.5 &lt;U+00B1&gt; 6.6    | 16.2 &lt;U+00B1&gt; 6.3    | PLXNB2    | 0.94 (0.89-1.00, p=.057)  | <!----> |\n",
       "| TLN1      | Mean &lt;U+00B1&gt; SD | 110.7 &lt;U+00B1&gt; 34.8  | 93.3 &lt;U+00B1&gt; 28.8   | TLN1      | 0.98 (0.97-0.99, p=.005)  | 1.00 (0.94-1.07, p=.922)       |\n",
       "| COMMD6    | Mean &lt;U+00B1&gt; SD | 3.7 &lt;U+00B1&gt; 2.0     | 4.0 &lt;U+00B1&gt; 2.1     | COMMD6    | 1.07 (0.90-1.28, p=.458)  | <!----> |\n",
       "| MRPL32    | Mean &lt;U+00B1&gt; SD | 2.7 &lt;U+00B1&gt; 1.1     | 3.0 &lt;U+00B1&gt; 1.3     | MRPL32    | 1.22 (0.90-1.64, p=.201)  | <!----> |\n",
       "| MRPL3     | Mean &lt;U+00B1&gt; SD | 10.6 &lt;U+00B1&gt; 3.7    | 12.0 &lt;U+00B1&gt; 4.6    | MRPL3     | 1.09 (0.99-1.19, p=.066)  | <!----> |\n",
       "| SVIP      | Mean &lt;U+00B1&gt; SD | 2.9 &lt;U+00B1&gt; 1.3     | 3.1 &lt;U+00B1&gt; 1.5     | SVIP      | 1.13 (0.87-1.48, p=.364)  | <!----> |\n",
       "| ZNF708    | Mean &lt;U+00B1&gt; SD | 7.9 &lt;U+00B1&gt; 2.9     | 8.8 &lt;U+00B1&gt; 3.6     | ZNF708    | 1.09 (0.97-1.22, p=.138)  | <!----> |\n",
       "| RBAK      | Mean &lt;U+00B1&gt; SD | 3.6 &lt;U+00B1&gt; 1.5     | 4.1 &lt;U+00B1&gt; 1.8     | RBAK      | 1.19 (0.95-1.48, p=.133)  | <!----> |\n",
       "| WDR89     | Mean &lt;U+00B1&gt; SD | 2.8 &lt;U+00B1&gt; 1.2     | 3.0 &lt;U+00B1&gt; 1.3     | WDR89     | 1.18 (0.89-1.58, p=.249)  | <!----> |\n",
       "| ZNF91     | Mean &lt;U+00B1&gt; SD | 5.7 &lt;U+00B1&gt; 2.2     | 6.2 &lt;U+00B1&gt; 2.5     | ZNF91     | 1.10 (0.94-1.28, p=.227)  | <!----> |\n",
       "| ZNF300    | Mean &lt;U+00B1&gt; SD | 0.9 &lt;U+00B1&gt; 0.4     | 1.0 &lt;U+00B1&gt; 0.7     | ZNF300    | 1.12 (0.60-2.11, p=.720)  | <!----> |\n",
       "| ZNF260    | Mean &lt;U+00B1&gt; SD | 2.6 &lt;U+00B1&gt; 1.0     | 2.9 &lt;U+00B1&gt; 1.4     | ZNF260    | 1.25 (0.92-1.70, p=.150)  | <!----> |\n",
       "| ANKRD49   | Mean &lt;U+00B1&gt; SD | 7.1 &lt;U+00B1&gt; 3.0     | 8.0 &lt;U+00B1&gt; 3.7     | ANKRD49   | 1.09 (0.98-1.22, p=.125)  | <!----> |\n",
       "| CEACAM1   | Mean &lt;U+00B1&gt; SD | 7.2 &lt;U+00B1&gt; 3.2     | 10.7 &lt;U+00B1&gt; 9.7    | CEACAM1   | 1.20 (1.07-1.36, p=.002)  | 1.34 (1.12-1.60, p=.001)       |\n",
       "| ZNF737    | Mean &lt;U+00B1&gt; SD | 7.2 &lt;U+00B1&gt; 2.8     | 8.1 &lt;U+00B1&gt; 3.7     | ZNF737    | 1.09 (0.97-1.23, p=.134)  | <!----> |\n",
       "| ZNF268    | Mean &lt;U+00B1&gt; SD | 2.2 &lt;U+00B1&gt; 1.0     | 2.5 &lt;U+00B1&gt; 1.3     | ZNF268    | 1.27 (0.92-1.76, p=.146)  | <!----> |\n",
       "| ZNF141    | Mean &lt;U+00B1&gt; SD | 6.3 &lt;U+00B1&gt; 2.5     | 7.4 &lt;U+00B1&gt; 3.0     | ZNF141    | 1.15 (1.00-1.32, p=.043)  | 1.62 (0.79-3.31, p=.189)       |\n",
       "| ZNF441    | Mean &lt;U+00B1&gt; SD | 3.2 &lt;U+00B1&gt; 1.3     | 3.6 &lt;U+00B1&gt; 1.8     | ZNF441    | 1.21 (0.95-1.53, p=.118)  | <!----> |\n",
       "| PPP4R4    | Mean &lt;U+00B1&gt; SD | 0.2 &lt;U+00B1&gt; 0.1     | 0.3 &lt;U+00B1&gt; 0.2     | PPP4R4    | 4.13 (0.31-54.50, p=.282) | <!----> |\n",
       "| DYNLT3    | Mean &lt;U+00B1&gt; SD | 3.6 &lt;U+00B1&gt; 1.6     | 4.0 &lt;U+00B1&gt; 2.1     | DYNLT3    | 1.13 (0.92-1.38, p=.232)  | <!----> |\n",
       "| ZDBF2     | Mean &lt;U+00B1&gt; SD | 1.0 &lt;U+00B1&gt; 0.5     | 1.2 &lt;U+00B1&gt; 0.5     | ZDBF2     | 1.91 (0.92-3.95, p=.081)  | <!----> |\n",
       "| RPS20     | Mean &lt;U+00B1&gt; SD | 71.9 &lt;U+00B1&gt; 30.1   | 83.2 &lt;U+00B1&gt; 38.3   | RPS20     | 1.01 (1.00-1.02, p=.081)  | <!----> |\n",
       "| ETAA1     | Mean &lt;U+00B1&gt; SD | 3.9 &lt;U+00B1&gt; 1.7     | 4.5 &lt;U+00B1&gt; 2.2     | ETAA1     | 1.18 (0.97-1.43, p=.096)  | <!----> |\n",
       "| HIST1H2BM | Mean &lt;U+00B1&gt; SD | 6.8 &lt;U+00B1&gt; 3.4     | 14.1 &lt;U+00B1&gt; 17.9   | HIST1H2BM | 1.14 (1.05-1.25, p=.003)  | 1.29 (1.07-1.56, p=.007)       |\n",
       "| ZNF721    | Mean &lt;U+00B1&gt; SD | 4.1 &lt;U+00B1&gt; 2.0     | 5.0 &lt;U+00B1&gt; 2.4     | ZNF721    | 1.20 (1.01-1.43, p=.034)  | 1.01 (0.48-2.10, p=.983)       |\n",
       "\n"
      ],
      "text/plain": [
       "   name      desc             0 (N=60)             1 (N=59)            \n",
       "1  MSLN      Mean <U+00B1> SD 0.1 <U+00B1> 0.2     0.0 <U+00B1> 0.0    \n",
       "2  HBE1      Mean <U+00B1> SD 0.4 <U+00B1> 0.9     0.1 <U+00B1> 0.1    \n",
       "3  OTOF      Mean <U+00B1> SD 0.6 <U+00B1> 2.3     0.5 <U+00B1> 2.0    \n",
       "4  EGR1      Mean <U+00B1> SD 0.9 <U+00B1> 2.1     0.6 <U+00B1> 0.4    \n",
       "5  HIST1H3F  Mean <U+00B1> SD 14.5 <U+00B1> 9.5    12.2 <U+00B1> 21.2  \n",
       "6  SAMD14    Mean <U+00B1> SD 0.5 <U+00B1> 0.4     0.4 <U+00B1> 0.4    \n",
       "7  IGF2      Mean <U+00B1> SD 0.2 <U+00B1> 0.3     0.1 <U+00B1> 0.3    \n",
       "8  LRP1      Mean <U+00B1> SD 11.6 <U+00B1> 5.7    8.8 <U+00B1> 4.3    \n",
       "9  PVRL2     Mean <U+00B1> SD 1.4 <U+00B1> 2.8     1.2 <U+00B1> 1.1    \n",
       "10 GP1BA     Mean <U+00B1> SD 4.0 <U+00B1> 2.6     3.0 <U+00B1> 2.2    \n",
       "11 GAS2L1    Mean <U+00B1> SD 3.7 <U+00B1> 1.9     2.8 <U+00B1> 1.7    \n",
       "12 TGFB1I1   Mean <U+00B1> SD 0.5 <U+00B1> 0.3     0.4 <U+00B1> 0.3    \n",
       "13 C6orf25   Mean <U+00B1> SD 20.5 <U+00B1> 13.6   15.5 <U+00B1> 10.8  \n",
       "14 CDKN1A    Mean <U+00B1> SD 9.7 <U+00B1> 4.1     7.4 <U+00B1> 3.6    \n",
       "15 PF4       Mean <U+00B1> SD 143.2 <U+00B1> 82.3  112.4 <U+00B1> 90.7 \n",
       "16 PPDPF     Mean <U+00B1> SD 29.6 <U+00B1> 12.9   24.1 <U+00B1> 17.9  \n",
       "17 WASF3     Mean <U+00B1> SD 0.5 <U+00B1> 0.3     0.4 <U+00B1> 0.3    \n",
       "18 NRGN      Mean <U+00B1> SD 189.4 <U+00B1> 109.4 147.8 <U+00B1> 102.3\n",
       "19 EGFL7     Mean <U+00B1> SD 0.7 <U+00B1> 0.4     0.6 <U+00B1> 0.4    \n",
       "20 RIN1      Mean <U+00B1> SD 1.5 <U+00B1> 0.5     1.2 <U+00B1> 0.6    \n",
       "21 ESAM      Mean <U+00B1> SD 2.7 <U+00B1> 1.3     2.1 <U+00B1> 1.2    \n",
       "22 PKMYT1    Mean <U+00B1> SD 0.2 <U+00B1> 0.1     0.2 <U+00B1> 0.2    \n",
       "23 PTGS1     Mean <U+00B1> SD 15.9 <U+00B1> 7.1    12.8 <U+00B1> 6.0   \n",
       "24 LAMA5     Mean <U+00B1> SD 0.4 <U+00B1> 0.2     0.3 <U+00B1> 0.2    \n",
       "25 RCN3      Mean <U+00B1> SD 17.0 <U+00B1> 5.1    14.5 <U+00B1> 6.9   \n",
       "26 MMP14     Mean <U+00B1> SD 0.6 <U+00B1> 0.3     0.5 <U+00B1> 0.3    \n",
       "27 STAB1     Mean <U+00B1> SD 6.3 <U+00B1> 2.3     5.3 <U+00B1> 2.5    \n",
       "28 TTYH3     Mean <U+00B1> SD 12.0 <U+00B1> 3.9    10.4 <U+00B1> 4.8   \n",
       "29 TOR4A     Mean <U+00B1> SD 10.1 <U+00B1> 3.2    9.0 <U+00B1> 4.3    \n",
       "30 GAA       Mean <U+00B1> SD 21.3 <U+00B1> 6.8    18.8 <U+00B1> 8.5   \n",
       "31 SLC19A1   Mean <U+00B1> SD 16.5 <U+00B1> 5.1    14.4 <U+00B1> 5.8   \n",
       "32 FERMT3    Mean <U+00B1> SD 87.2 <U+00B1> 25.9   75.0 <U+00B1> 30.0  \n",
       "33 TMEM150B  Mean <U+00B1> SD 3.4 <U+00B1> 1.3     3.0 <U+00B1> 1.6    \n",
       "34 FAM129B   Mean <U+00B1> SD 5.1 <U+00B1> 1.7     4.4 <U+00B1> 1.9    \n",
       "35 PLXNB2    Mean <U+00B1> SD 18.5 <U+00B1> 6.6    16.2 <U+00B1> 6.3   \n",
       "36 TLN1      Mean <U+00B1> SD 110.7 <U+00B1> 34.8  93.3 <U+00B1> 28.8  \n",
       "37 COMMD6    Mean <U+00B1> SD 3.7 <U+00B1> 2.0     4.0 <U+00B1> 2.1    \n",
       "38 MRPL32    Mean <U+00B1> SD 2.7 <U+00B1> 1.1     3.0 <U+00B1> 1.3    \n",
       "39 MRPL3     Mean <U+00B1> SD 10.6 <U+00B1> 3.7    12.0 <U+00B1> 4.6   \n",
       "40 SVIP      Mean <U+00B1> SD 2.9 <U+00B1> 1.3     3.1 <U+00B1> 1.5    \n",
       "41 ZNF708    Mean <U+00B1> SD 7.9 <U+00B1> 2.9     8.8 <U+00B1> 3.6    \n",
       "42 RBAK      Mean <U+00B1> SD 3.6 <U+00B1> 1.5     4.1 <U+00B1> 1.8    \n",
       "43 WDR89     Mean <U+00B1> SD 2.8 <U+00B1> 1.2     3.0 <U+00B1> 1.3    \n",
       "44 ZNF91     Mean <U+00B1> SD 5.7 <U+00B1> 2.2     6.2 <U+00B1> 2.5    \n",
       "45 ZNF300    Mean <U+00B1> SD 0.9 <U+00B1> 0.4     1.0 <U+00B1> 0.7    \n",
       "46 ZNF260    Mean <U+00B1> SD 2.6 <U+00B1> 1.0     2.9 <U+00B1> 1.4    \n",
       "47 ANKRD49   Mean <U+00B1> SD 7.1 <U+00B1> 3.0     8.0 <U+00B1> 3.7    \n",
       "48 CEACAM1   Mean <U+00B1> SD 7.2 <U+00B1> 3.2     10.7 <U+00B1> 9.7   \n",
       "49 ZNF737    Mean <U+00B1> SD 7.2 <U+00B1> 2.8     8.1 <U+00B1> 3.7    \n",
       "50 ZNF268    Mean <U+00B1> SD 2.2 <U+00B1> 1.0     2.5 <U+00B1> 1.3    \n",
       "51 ZNF141    Mean <U+00B1> SD 6.3 <U+00B1> 2.5     7.4 <U+00B1> 3.0    \n",
       "52 ZNF441    Mean <U+00B1> SD 3.2 <U+00B1> 1.3     3.6 <U+00B1> 1.8    \n",
       "53 PPP4R4    Mean <U+00B1> SD 0.2 <U+00B1> 0.1     0.3 <U+00B1> 0.2    \n",
       "54 DYNLT3    Mean <U+00B1> SD 3.6 <U+00B1> 1.6     4.0 <U+00B1> 2.1    \n",
       "55 ZDBF2     Mean <U+00B1> SD 1.0 <U+00B1> 0.5     1.2 <U+00B1> 0.5    \n",
       "56 RPS20     Mean <U+00B1> SD 71.9 <U+00B1> 30.1   83.2 <U+00B1> 38.3  \n",
       "57 ETAA1     Mean <U+00B1> SD 3.9 <U+00B1> 1.7     4.5 <U+00B1> 2.2    \n",
       "58 HIST1H2BM Mean <U+00B1> SD 6.8 <U+00B1> 3.4     14.1 <U+00B1> 17.9  \n",
       "59 ZNF721    Mean <U+00B1> SD 4.1 <U+00B1> 2.0     5.0 <U+00B1> 2.4    \n",
       "   id        OR (univariable)          OR (multivariable)            \n",
       "1  MSLN      0.00 (0.00-0.13, p=.025)  0.00 (0.00-5270082.05, p=.488)\n",
       "2  HBE1      0.14 (0.02-1.01, p=.051)                                \n",
       "3  OTOF      0.98 (0.83-1.16, p=.810)                                \n",
       "4  EGR1      0.86 (0.59-1.27, p=.449)                                \n",
       "5  HIST1H3F  0.99 (0.97-1.02, p=.466)                                \n",
       "6  SAMD14    0.31 (0.11-0.90, p=.031)  0.39 (0.00-37.57, p=.686)     \n",
       "7  IGF2      0.53 (0.13-2.25, p=.391)                                \n",
       "8  LRP1      0.89 (0.82-0.97, p=.005)  0.97 (0.73-1.30, p=.860)      \n",
       "9  PVRL2     0.96 (0.80-1.16, p=.675)                                \n",
       "10 GP1BA     0.83 (0.70-0.98, p=.025)  0.39 (0.14-1.11, p=.078)      \n",
       "11 GAS2L1    0.77 (0.62-0.95, p=.015)  1.23 (0.38-4.05, p=.731)      \n",
       "12 TGFB1I1   0.28 (0.08-0.94, p=.040)  2.55 (0.02-417.69, p=.719)    \n",
       "13 C6orf25   0.97 (0.93-1.00, p=.035)  0.80 (0.58-1.09, p=.160)      \n",
       "14 CDKN1A    0.85 (0.76-0.94, p=.003)  0.43 (0.26-0.70, p<.001)      \n",
       "15 PF4       1.00 (0.99-1.00, p=.060)                                \n",
       "16 PPDPF     0.98 (0.95-1.00, p=.062)                                \n",
       "17 WASF3     0.30 (0.09-1.01, p=.051)                                \n",
       "18 NRGN      1.00 (0.99-1.00, p=.039)  1.05 (1.00-1.09, p=.045)      \n",
       "19 EGFL7     0.38 (0.14-1.01, p=.053)                                \n",
       "20 RIN1      0.44 (0.22-0.86, p=.017)  1.01 (0.17-5.96, p=.987)      \n",
       "21 ESAM      0.70 (0.52-0.94, p=.018)  0.94 (0.18-4.83, p=.943)      \n",
       "22 PKMYT1    0.16 (0.01-2.37, p=.183)                                \n",
       "23 PTGS1     0.93 (0.88-0.99, p=.014)  1.28 (0.88-1.87, p=.203)      \n",
       "24 LAMA5     0.18 (0.02-1.54, p=.118)                                \n",
       "25 RCN3      0.93 (0.88-0.99, p=.032)  0.96 (0.80-1.14, p=.632)      \n",
       "26 MMP14     0.27 (0.07-1.12, p=.072)                                \n",
       "27 STAB1     0.84 (0.72-0.99, p=.041)  0.77 (0.47-1.27, p=.306)      \n",
       "28 TTYH3     0.92 (0.85-1.00, p=.060)                                \n",
       "29 TOR4A     0.93 (0.84-1.02, p=.127)                                \n",
       "30 GAA       0.96 (0.91-1.01, p=.083)                                \n",
       "31 SLC19A1   0.93 (0.87-1.00, p=.038)  1.09 (0.87-1.37, p=.461)      \n",
       "32 FERMT3    0.98 (0.97-1.00, p=.022)  1.04 (0.97-1.11, p=.305)      \n",
       "33 TMEM150B  0.82 (0.63-1.06, p=.130)                                \n",
       "34 FAM129B   0.79 (0.63-0.99, p=.042)  1.12 (0.43-2.95, p=.818)      \n",
       "35 PLXNB2    0.94 (0.89-1.00, p=.057)                                \n",
       "36 TLN1      0.98 (0.97-0.99, p=.005)  1.00 (0.94-1.07, p=.922)      \n",
       "37 COMMD6    1.07 (0.90-1.28, p=.458)                                \n",
       "38 MRPL32    1.22 (0.90-1.64, p=.201)                                \n",
       "39 MRPL3     1.09 (0.99-1.19, p=.066)                                \n",
       "40 SVIP      1.13 (0.87-1.48, p=.364)                                \n",
       "41 ZNF708    1.09 (0.97-1.22, p=.138)                                \n",
       "42 RBAK      1.19 (0.95-1.48, p=.133)                                \n",
       "43 WDR89     1.18 (0.89-1.58, p=.249)                                \n",
       "44 ZNF91     1.10 (0.94-1.28, p=.227)                                \n",
       "45 ZNF300    1.12 (0.60-2.11, p=.720)                                \n",
       "46 ZNF260    1.25 (0.92-1.70, p=.150)                                \n",
       "47 ANKRD49   1.09 (0.98-1.22, p=.125)                                \n",
       "48 CEACAM1   1.20 (1.07-1.36, p=.002)  1.34 (1.12-1.60, p=.001)      \n",
       "49 ZNF737    1.09 (0.97-1.23, p=.134)                                \n",
       "50 ZNF268    1.27 (0.92-1.76, p=.146)                                \n",
       "51 ZNF141    1.15 (1.00-1.32, p=.043)  1.62 (0.79-3.31, p=.189)      \n",
       "52 ZNF441    1.21 (0.95-1.53, p=.118)                                \n",
       "53 PPP4R4    4.13 (0.31-54.50, p=.282)                               \n",
       "54 DYNLT3    1.13 (0.92-1.38, p=.232)                                \n",
       "55 ZDBF2     1.91 (0.92-3.95, p=.081)                                \n",
       "56 RPS20     1.01 (1.00-1.02, p=.081)                                \n",
       "57 ETAA1     1.18 (0.97-1.43, p=.096)                                \n",
       "58 HIST1H2BM 1.14 (1.05-1.25, p=.003)  1.29 (1.07-1.56, p=.007)      \n",
       "59 ZNF721    1.20 (1.01-1.43, p=.034)  1.01 (0.48-2.10, p=.983)      "
      ]
     },
     "metadata": {},
     "output_type": "display_data"
    }
   ],
   "source": [
    "overall.log =  glm(Group~.,data=expr3,family=binomial())\n",
    "\n",
    "model3<-autoReg(overall.log,uni=TRUE,milti=FALSE,threshold=0.05)\n",
    "\n",
    "model3"
   ]
  },
  {
   "cell_type": "code",
   "execution_count": 26,
   "id": "43ae1f8f-f285-4f25-91c5-0e2e0eadcf42",
   "metadata": {},
   "outputs": [],
   "source": [
    "write.csv(model3,file = 'gene59.csv')"
   ]
  },
  {
   "cell_type": "code",
   "execution_count": 33,
   "id": "4628a614-63ea-4e59-93e0-c8a33dfd7cea",
   "metadata": {},
   "outputs": [],
   "source": [
    "uni = read.table('../unie.txt',col.names = 'gene')"
   ]
  },
  {
   "cell_type": "code",
   "execution_count": 36,
   "id": "ba552122-6d3f-473f-ac8c-59fc88696734",
   "metadata": {},
   "outputs": [],
   "source": [
    "x  = as.data.frame(x) %>%  dplyr::select(uni$gene) %>% as.matrix()"
   ]
  },
  {
   "cell_type": "code",
   "execution_count": 37,
   "id": "169ffec6-1642-4189-bf9d-15da56264520",
   "metadata": {},
   "outputs": [
    {
     "name": "stderr",
     "output_type": "stream",
     "text": [
      "Warning message:\n",
      "\"package 'randomForest' was built under R version 4.2.3\"\n",
      "randomForest 4.7-1.1\n",
      "\n",
      "Type rfNews() to see new features/changes/bug fixes.\n",
      "\n",
      "\n",
      "Attaching package: 'randomForest'\n",
      "\n",
      "\n",
      "The following object is masked from 'package:dplyr':\n",
      "\n",
      "    combine\n",
      "\n",
      "\n"
     ]
    }
   ],
   "source": [
    "library(randomForest)"
   ]
  },
  {
   "cell_type": "code",
   "execution_count": 95,
   "id": "66c659fa-6d5a-4277-8fe7-29a33488747a",
   "metadata": {},
   "outputs": [
    {
     "data": {
      "text/html": [
       "<table class=\"dataframe\">\n",
       "<caption>A matrix: 119 x 22 of type dbl</caption>\n",
       "<thead>\n",
       "\t<tr><th></th><th scope=col>CEACAM1</th><th scope=col>CDKN1A</th><th scope=col>HIST1H2BM</th><th scope=col>LRP1</th><th scope=col>TLN1</th><th scope=col>PTGS1</th><th scope=col>GAS2L1</th><th scope=col>RIN1</th><th scope=col>ESAM</th><th scope=col>FERMT3</th><th scope=col>...</th><th scope=col>SAMD14</th><th scope=col>RCN3</th><th scope=col>ZNF721</th><th scope=col>C6orf25</th><th scope=col>SLC19A1</th><th scope=col>NRGN</th><th scope=col>TGFB1I1</th><th scope=col>STAB1</th><th scope=col>FAM129B</th><th scope=col>ZNF141</th></tr>\n",
       "</thead>\n",
       "<tbody>\n",
       "\t<tr><th scope=row>CI10_M1</th><td> 6.247454</td><td> 5.173722</td><td>10.420602</td><td> 6.989592</td><td> 45.84103</td><td> 6.017560</td><td>1.1512910</td><td>1.0820738</td><td>1.1630736</td><td> 40.61939</td><td>...</td><td> 0.1074809821</td><td> 5.887007</td><td> 8.706591</td><td> 3.922300</td><td> 7.750144</td><td> 42.05165</td><td>0.30137085</td><td>4.036602</td><td>3.273388</td><td>12.710151</td></tr>\n",
       "\t<tr><th scope=row>CI11_M1</th><td>14.772961</td><td> 5.430353</td><td> 3.172594</td><td> 8.119331</td><td>120.65593</td><td>16.849188</td><td>1.5137082</td><td>0.9209421</td><td>3.2943445</td><td> 58.19307</td><td>...</td><td> 0.4015253855</td><td>14.995051</td><td> 1.990680</td><td>16.452014</td><td>15.044303</td><td>159.05075</td><td>0.27622349</td><td>3.026577</td><td>2.948586</td><td> 5.253768</td></tr>\n",
       "\t<tr><th scope=row>CI12_M1</th><td> 9.417403</td><td> 5.624813</td><td>26.555932</td><td>10.765511</td><td>109.22025</td><td>12.057157</td><td>1.6855875</td><td>1.0373802</td><td>1.4130408</td><td> 67.27821</td><td>...</td><td> 0.3711277766</td><td>17.813320</td><td> 2.439553</td><td>14.267003</td><td>14.201756</td><td>154.33414</td><td>0.26001661</td><td>5.876516</td><td>2.850877</td><td> 5.629506</td></tr>\n",
       "\t<tr><th scope=row>CI13_M1</th><td>15.692822</td><td> 9.627065</td><td>12.907428</td><td> 7.195428</td><td> 85.73930</td><td>14.734046</td><td>3.2634495</td><td>1.5315343</td><td>2.3156650</td><td> 80.37288</td><td>...</td><td> 0.6544179838</td><td>19.212617</td><td> 1.690579</td><td>17.516868</td><td>20.780258</td><td>203.08055</td><td>0.46303571</td><td>5.082050</td><td>3.182331</td><td> 3.923673</td></tr>\n",
       "\t<tr><th scope=row>CI14_M1</th><td> 6.429964</td><td> 6.128547</td><td> 4.364496</td><td> 7.797441</td><td> 57.85350</td><td> 6.473898</td><td>2.0446986</td><td>1.3107863</td><td>0.9924778</td><td> 66.50110</td><td>...</td><td> 0.1383488808</td><td>17.019967</td><td> 7.738735</td><td> 3.164050</td><td>15.132536</td><td> 52.92093</td><td>0.11691464</td><td>7.149885</td><td>4.858816</td><td>10.462863</td></tr>\n",
       "\t<tr><th scope=row>CI15_M1</th><td> 8.672950</td><td> 2.575819</td><td> 9.328786</td><td> 4.766591</td><td> 40.80765</td><td> 6.087502</td><td>0.6423328</td><td>0.1966839</td><td>0.4083096</td><td> 21.47326</td><td>...</td><td>-0.0002754677</td><td> 5.857755</td><td> 9.181593</td><td> 4.861145</td><td> 4.182415</td><td> 26.31216</td><td>0.04297569</td><td>2.209446</td><td>1.338082</td><td>14.214997</td></tr>\n",
       "\t<tr><th scope=row>CI16_M1</th><td> 8.574016</td><td> 7.402613</td><td>19.967648</td><td>10.448084</td><td>117.41681</td><td>11.289701</td><td>3.4160223</td><td>1.5119110</td><td>2.0530439</td><td>125.09793</td><td>...</td><td> 0.3730862449</td><td>23.577842</td><td> 4.400327</td><td>12.282652</td><td>18.053563</td><td>134.20535</td><td>0.20834313</td><td>7.986686</td><td>5.260070</td><td> 7.013746</td></tr>\n",
       "\t<tr><th scope=row>CI17_M1</th><td> 8.601504</td><td> 7.498905</td><td> 4.974642</td><td> 6.649139</td><td> 87.22010</td><td>12.565416</td><td>3.0069626</td><td>0.8724442</td><td>1.7779605</td><td> 96.64597</td><td>...</td><td> 0.2856752801</td><td>17.064731</td><td> 5.784207</td><td>15.552777</td><td>15.176090</td><td>146.52231</td><td>0.40528431</td><td>5.698938</td><td>4.921618</td><td> 7.412752</td></tr>\n",
       "\t<tr><th scope=row>CI18_M1</th><td>76.781981</td><td> 4.268224</td><td> 7.418300</td><td> 7.903451</td><td> 93.70353</td><td> 9.180268</td><td>0.9990692</td><td>0.3161552</td><td>1.3994956</td><td> 65.64827</td><td>...</td><td> 0.1126752237</td><td> 9.462103</td><td> 4.284585</td><td> 8.474778</td><td>10.583830</td><td> 66.88872</td><td>0.16747675</td><td>8.218248</td><td>6.061842</td><td> 5.754718</td></tr>\n",
       "\t<tr><th scope=row>CI19_M1</th><td> 6.822273</td><td> 8.776448</td><td>10.313096</td><td> 7.540249</td><td>109.67644</td><td>11.250786</td><td>3.2577237</td><td>1.2173325</td><td>2.4569183</td><td>108.67124</td><td>...</td><td> 0.4984018902</td><td>16.801326</td><td> 5.112724</td><td>12.096775</td><td>16.989260</td><td>133.21236</td><td>0.27286566</td><td>4.097411</td><td>5.250153</td><td> 6.719784</td></tr>\n",
       "\t<tr><th scope=row>CI20_M1</th><td> 7.750241</td><td> 2.391668</td><td>22.296354</td><td> 5.081846</td><td> 77.58449</td><td> 9.829821</td><td>0.7015025</td><td>0.1964972</td><td>0.5833746</td><td> 19.69913</td><td>...</td><td> 0.0663090618</td><td> 5.573502</td><td> 6.854428</td><td>13.278466</td><td> 3.509444</td><td> 61.45293</td><td>0.23610110</td><td>2.205622</td><td>1.821476</td><td>10.032702</td></tr>\n",
       "\t<tr><th scope=row>CI21_M1</th><td> 9.561460</td><td> 5.134976</td><td> 9.925921</td><td> 6.382833</td><td> 95.82025</td><td>11.387693</td><td>1.6797197</td><td>0.4683285</td><td>1.7061300</td><td> 56.00601</td><td>...</td><td> 0.3078312881</td><td>11.179851</td><td> 5.469848</td><td>10.989796</td><td>18.137461</td><td>109.12690</td><td>0.20862075</td><td>4.109575</td><td>2.954372</td><td> 7.228788</td></tr>\n",
       "\t<tr><th scope=row>CI22_M1</th><td> 9.115424</td><td> 6.911053</td><td> 7.850810</td><td> 6.311562</td><td> 84.58660</td><td>10.529570</td><td>2.3566764</td><td>1.4281557</td><td>1.3576780</td><td> 74.68451</td><td>...</td><td> 0.3575814674</td><td>12.181411</td><td> 7.097973</td><td>10.612490</td><td>12.769103</td><td>104.83450</td><td>0.22273130</td><td>5.374234</td><td>4.556386</td><td>10.179693</td></tr>\n",
       "\t<tr><th scope=row>CI23_M1</th><td>11.695502</td><td> 7.997616</td><td> 8.971549</td><td>10.789032</td><td> 97.90383</td><td>10.866431</td><td>2.3286443</td><td>1.2707209</td><td>1.4862491</td><td> 85.69190</td><td>...</td><td> 0.2488665865</td><td> 9.725153</td><td> 4.760948</td><td>11.607576</td><td>16.394716</td><td>109.45298</td><td>0.29712325</td><td>6.090105</td><td>5.273424</td><td> 6.131416</td></tr>\n",
       "\t<tr><th scope=row>CI24_M1</th><td> 9.139272</td><td>10.713559</td><td> 9.913487</td><td> 8.542533</td><td>121.55025</td><td>28.635735</td><td>6.7087325</td><td>1.0542555</td><td>5.3618642</td><td>113.62910</td><td>...</td><td> 0.9678976616</td><td>15.160282</td><td> 3.515555</td><td>36.763344</td><td>13.994528</td><td>418.85635</td><td>1.60571986</td><td>4.960168</td><td>5.128826</td><td> 4.785951</td></tr>\n",
       "\t<tr><th scope=row>CI25_M1</th><td> 4.755585</td><td> 7.802013</td><td>25.460633</td><td> 8.135105</td><td>102.04963</td><td>16.360030</td><td>6.2761570</td><td>1.2796663</td><td>2.6929373</td><td> 85.94225</td><td>...</td><td> 0.5734460860</td><td>14.047384</td><td> 4.116526</td><td>21.225121</td><td>16.759777</td><td>235.28416</td><td>0.57329039</td><td>6.814515</td><td>6.457720</td><td> 4.791537</td></tr>\n",
       "\t<tr><th scope=row>CI26_M1</th><td>11.329779</td><td> 6.811355</td><td> 4.425268</td><td> 9.297277</td><td> 68.96260</td><td> 8.749124</td><td>1.6669113</td><td>1.5416175</td><td>1.0729486</td><td> 87.46548</td><td>...</td><td> 0.1282972730</td><td>14.754533</td><td> 6.449105</td><td> 6.438735</td><td>14.305341</td><td> 75.20930</td><td>0.07593994</td><td>6.518691</td><td>5.094408</td><td> 9.261814</td></tr>\n",
       "\t<tr><th scope=row>CI27_M1</th><td> 8.871830</td><td> 8.067775</td><td>18.840927</td><td> 8.550488</td><td>113.11303</td><td>11.759842</td><td>3.1719364</td><td>1.0912645</td><td>2.9160104</td><td> 92.86391</td><td>...</td><td> 0.3849585350</td><td>14.515287</td><td> 5.435242</td><td>22.010607</td><td>13.307923</td><td>184.68334</td><td>0.50038354</td><td>4.517854</td><td>4.706181</td><td> 6.634810</td></tr>\n",
       "\t<tr><th scope=row>CI28_M1</th><td> 6.469214</td><td>10.576148</td><td>10.877019</td><td> 8.788590</td><td>128.36683</td><td>22.240457</td><td>3.4474204</td><td>1.0678985</td><td>3.4736125</td><td> 85.92633</td><td>...</td><td> 0.7883587092</td><td> 7.822598</td><td> 4.125840</td><td>29.812425</td><td>11.258583</td><td>278.30615</td><td>1.19872121</td><td>5.916623</td><td>5.235187</td><td> 5.988551</td></tr>\n",
       "\t<tr><th scope=row>CI29_M1</th><td> 5.812238</td><td> 9.529475</td><td>44.364401</td><td> 7.123252</td><td> 91.94611</td><td>14.809567</td><td>4.1305709</td><td>0.6015792</td><td>3.6977667</td><td> 91.51256</td><td>...</td><td> 0.6235281578</td><td> 9.053106</td><td> 5.692558</td><td>21.004006</td><td>11.003765</td><td>235.62638</td><td>0.68596592</td><td>4.319776</td><td>5.208600</td><td> 7.078691</td></tr>\n",
       "\t<tr><th scope=row>CI2_M1</th><td> 4.194309</td><td> 5.827073</td><td> 3.754889</td><td> 9.392043</td><td> 75.39593</td><td> 8.423481</td><td>1.8342597</td><td>2.0494035</td><td>1.2983747</td><td> 72.69546</td><td>...</td><td> 0.1062903506</td><td> 8.371721</td><td> 5.327776</td><td> 6.411552</td><td>11.782588</td><td> 72.79550</td><td>0.14654626</td><td>6.612606</td><td>5.251025</td><td> 9.130746</td></tr>\n",
       "\t<tr><th scope=row>CI30_M1</th><td> 9.717015</td><td> 4.835756</td><td>13.417257</td><td> 7.872717</td><td> 82.03145</td><td> 8.989033</td><td>1.4700966</td><td>1.1450549</td><td>1.6846974</td><td> 55.21024</td><td>...</td><td> 0.1449870550</td><td>10.981881</td><td> 6.481088</td><td>10.163499</td><td>13.098420</td><td> 82.67848</td><td>0.18650267</td><td>3.508194</td><td>3.853759</td><td> 9.381350</td></tr>\n",
       "\t<tr><th scope=row>CI31_M1</th><td>15.211822</td><td>13.925130</td><td>40.403056</td><td> 7.211716</td><td>111.11430</td><td>14.308556</td><td>5.7372571</td><td>1.4290265</td><td>4.0125549</td><td> 89.37777</td><td>...</td><td> 0.2631320515</td><td> 8.694204</td><td> 4.384689</td><td>29.736694</td><td>10.421289</td><td>277.73970</td><td>0.57595087</td><td>2.574422</td><td>3.882145</td><td> 5.235991</td></tr>\n",
       "\t<tr><th scope=row>CI32_M1</th><td>10.961915</td><td> 4.229505</td><td>14.254912</td><td>11.781448</td><td> 65.83195</td><td> 7.696625</td><td>0.8583250</td><td>1.1147194</td><td>0.6957431</td><td> 35.24167</td><td>...</td><td> 0.0334171072</td><td> 9.193700</td><td>10.429082</td><td> 3.847370</td><td> 8.308675</td><td> 34.10065</td><td>0.04321591</td><td>7.682992</td><td>4.043860</td><td>14.979882</td></tr>\n",
       "\t<tr><th scope=row>CI33_M1</th><td> 8.817439</td><td> 5.317055</td><td> 6.654474</td><td> 8.283985</td><td> 73.55683</td><td> 7.027098</td><td>2.4541843</td><td>0.9830317</td><td>1.0221378</td><td> 56.14865</td><td>...</td><td> 0.0962471823</td><td>13.115530</td><td> 8.806022</td><td> 7.362298</td><td>17.947191</td><td> 65.97092</td><td>0.11108874</td><td>3.827159</td><td>3.892313</td><td>10.002545</td></tr>\n",
       "\t<tr><th scope=row>CI34_M1</th><td> 8.172296</td><td> 1.846953</td><td>11.635393</td><td> 5.517338</td><td> 80.32262</td><td> 8.509480</td><td>0.8901718</td><td>0.5056455</td><td>1.1115774</td><td> 24.93331</td><td>...</td><td> 0.2325667145</td><td> 7.955089</td><td> 4.488649</td><td> 9.019464</td><td> 6.025254</td><td> 63.78488</td><td>0.10308424</td><td>2.731744</td><td>1.485912</td><td> 8.063117</td></tr>\n",
       "\t<tr><th scope=row>CI35_M1</th><td> 5.274239</td><td> 6.851788</td><td>17.211580</td><td> 4.919116</td><td> 84.69639</td><td> 9.588948</td><td>2.3863771</td><td>0.9273129</td><td>1.7342028</td><td> 89.72808</td><td>...</td><td> 0.4147135817</td><td> 9.288803</td><td> 6.253961</td><td>13.049062</td><td>11.310308</td><td>134.35330</td><td>0.38050118</td><td>2.812461</td><td>3.576260</td><td> 8.511481</td></tr>\n",
       "\t<tr><th scope=row>CI36_M1</th><td> 7.280508</td><td> 4.935494</td><td> 7.615000</td><td> 5.503009</td><td> 71.68903</td><td> 6.446698</td><td>1.0663251</td><td>0.5432024</td><td>0.7991698</td><td> 33.06666</td><td>...</td><td> 0.0728382361</td><td> 9.482732</td><td> 8.326103</td><td> 5.464223</td><td> 7.570658</td><td> 36.21803</td><td>0.04702351</td><td>2.085740</td><td>2.413097</td><td>11.094413</td></tr>\n",
       "\t<tr><th scope=row>CI37_M1</th><td>13.690766</td><td> 3.052867</td><td> 4.188272</td><td> 6.750944</td><td> 78.98548</td><td> 5.046461</td><td>1.2772316</td><td>1.3617523</td><td>0.5810936</td><td> 50.57868</td><td>...</td><td> 0.0682339854</td><td>18.511259</td><td> 5.451180</td><td> 4.042588</td><td>23.128397</td><td> 45.39621</td><td>0.05766130</td><td>5.329237</td><td>2.930386</td><td> 7.147055</td></tr>\n",
       "\t<tr><th scope=row>CI38_M1</th><td>17.965668</td><td> 8.214332</td><td> 4.542271</td><td> 6.803555</td><td> 85.02755</td><td>14.755565</td><td>3.1739308</td><td>1.4810561</td><td>2.8830909</td><td>101.87159</td><td>...</td><td> 0.5720471792</td><td>14.254017</td><td> 5.265568</td><td>21.656489</td><td>12.040287</td><td>168.09581</td><td>0.45029886</td><td>4.334323</td><td>4.826969</td><td> 8.451962</td></tr>\n",
       "\t<tr><th scope=row>...</th><td>...</td><td>...</td><td>...</td><td>...</td><td>...</td><td>...</td><td>...</td><td>...</td><td>...</td><td>...</td><td></td><td>...</td><td>...</td><td>...</td><td>...</td><td>...</td><td>...</td><td>...</td><td>...</td><td>...</td><td>...</td></tr>\n",
       "\t<tr><th scope=row>CI14_M2</th><td> 9.9657239</td><td> 4.973557</td><td> 9.508139</td><td> 5.746542</td><td> 63.49505</td><td> 7.191171</td><td>1.5524247</td><td>1.3394707</td><td>0.9670881</td><td> 49.14298</td><td>...</td><td>0.1397215</td><td>16.705969</td><td>6.298449</td><td> 5.488234</td><td>17.534047</td><td> 62.89365</td><td>0.2055814</td><td> 6.165464</td><td> 3.511488</td><td>10.040102</td></tr>\n",
       "\t<tr><th scope=row>CI15_M2</th><td> 6.0012165</td><td>12.768997</td><td> 8.133377</td><td>10.543735</td><td>147.61229</td><td>33.962257</td><td>6.8027814</td><td>1.4333200</td><td>5.6819992</td><td>126.24141</td><td>...</td><td>2.2629779</td><td>24.858709</td><td>3.060898</td><td>61.309111</td><td>21.158778</td><td>556.66586</td><td>1.5191287</td><td> 4.950899</td><td> 3.909003</td><td> 4.157393</td></tr>\n",
       "\t<tr><th scope=row>CI16_M2</th><td> 8.2661661</td><td> 5.746875</td><td> 7.163424</td><td> 7.538302</td><td> 66.50727</td><td> 6.969583</td><td>0.8901935</td><td>1.7297539</td><td>1.1494262</td><td> 53.05206</td><td>...</td><td>0.1235531</td><td>16.882642</td><td>3.753820</td><td> 5.575198</td><td>19.124553</td><td> 61.54329</td><td>0.1528993</td><td> 5.290877</td><td> 3.431917</td><td> 7.162803</td></tr>\n",
       "\t<tr><th scope=row>CI1_M2</th><td>26.3258846</td><td> 6.666647</td><td> 3.551178</td><td>19.021485</td><td>102.78421</td><td> 9.866350</td><td>4.5061960</td><td>1.6192554</td><td>1.1397554</td><td> 82.88726</td><td>...</td><td>0.1064559</td><td>24.767158</td><td>1.421268</td><td> 9.119440</td><td>22.191927</td><td> 91.55141</td><td>0.1176884</td><td>11.855278</td><td> 8.299429</td><td> 2.852510</td></tr>\n",
       "\t<tr><th scope=row>CI2_M2</th><td>17.8579005</td><td>22.385570</td><td>65.091770</td><td>23.941791</td><td>136.99370</td><td>19.740941</td><td>5.9346182</td><td>2.1165978</td><td>5.3000589</td><td>147.18243</td><td>...</td><td>0.5443543</td><td>11.938579</td><td>2.861103</td><td>31.918938</td><td>17.306277</td><td>265.14962</td><td>0.7514614</td><td>11.377510</td><td>11.787407</td><td> 4.057031</td></tr>\n",
       "\t<tr><th scope=row>CI3_M2</th><td> 9.7947637</td><td> 6.952116</td><td> 4.370243</td><td> 6.284637</td><td> 85.53996</td><td>14.043375</td><td>2.6995989</td><td>0.7043711</td><td>2.5773316</td><td> 70.54973</td><td>...</td><td>0.5852883</td><td>23.638365</td><td>3.846588</td><td>15.118917</td><td>20.386308</td><td>147.54776</td><td>0.6355881</td><td> 3.091787</td><td> 4.121492</td><td> 5.716208</td></tr>\n",
       "\t<tr><th scope=row>CI4_M2</th><td>13.0629437</td><td> 7.808864</td><td> 6.547168</td><td>19.689491</td><td>115.75507</td><td>13.599435</td><td>3.6659599</td><td>2.4526758</td><td>2.2963312</td><td> 81.68812</td><td>...</td><td>0.2410217</td><td>18.201661</td><td>4.506789</td><td>11.703718</td><td>16.191508</td><td>119.44741</td><td>0.1631540</td><td> 6.470185</td><td> 6.690582</td><td> 7.002531</td></tr>\n",
       "\t<tr><th scope=row>CI5_M2</th><td>17.5348198</td><td>11.658796</td><td> 5.260901</td><td>18.279998</td><td>152.88220</td><td>17.989402</td><td>5.0203115</td><td>2.6850843</td><td>3.4586944</td><td>115.62581</td><td>...</td><td>0.7337378</td><td>29.832530</td><td>1.779912</td><td>24.647989</td><td>27.762419</td><td>247.99375</td><td>0.6263323</td><td> 8.200992</td><td> 6.310780</td><td> 3.420009</td></tr>\n",
       "\t<tr><th scope=row>CI6_M2</th><td> 9.0440420</td><td> 7.501829</td><td>10.655079</td><td> 8.314355</td><td>111.18224</td><td>13.879871</td><td>2.3899658</td><td>1.1384503</td><td>1.6260914</td><td> 90.75322</td><td>...</td><td>0.5547403</td><td>16.448992</td><td>2.299146</td><td>15.975656</td><td>17.160005</td><td>152.02741</td><td>0.3761811</td><td> 5.533957</td><td> 4.892044</td><td> 4.170417</td></tr>\n",
       "\t<tr><th scope=row>CI7_M2</th><td> 3.8010607</td><td> 3.987645</td><td> 6.224227</td><td> 8.568891</td><td> 66.95682</td><td> 8.005872</td><td>2.2223242</td><td>1.0524420</td><td>0.9029962</td><td> 64.34727</td><td>...</td><td>0.1858221</td><td>26.977462</td><td>8.681459</td><td> 7.093109</td><td>12.474515</td><td> 83.70432</td><td>0.2930720</td><td> 8.810322</td><td> 4.116097</td><td> 9.981603</td></tr>\n",
       "\t<tr><th scope=row>CI8_M2</th><td>19.0346446</td><td> 8.642778</td><td> 7.288064</td><td>15.090421</td><td>131.43004</td><td>18.691933</td><td>4.4320593</td><td>1.0142476</td><td>3.2454241</td><td> 85.09522</td><td>...</td><td>0.3920280</td><td>19.590853</td><td>2.850097</td><td>23.124510</td><td>19.919599</td><td>253.83632</td><td>0.4776278</td><td> 6.858512</td><td> 5.113484</td><td> 4.183584</td></tr>\n",
       "\t<tr><th scope=row>CI9_M2</th><td> 9.4369563</td><td>10.487389</td><td>11.521556</td><td>16.266730</td><td>142.56605</td><td>19.621780</td><td>5.4576333</td><td>1.1200095</td><td>3.1015649</td><td>113.16389</td><td>...</td><td>1.2123170</td><td>23.440866</td><td>1.750519</td><td>30.921640</td><td>25.330535</td><td>297.08748</td><td>0.8497503</td><td> 4.587549</td><td> 5.868317</td><td> 2.794468</td></tr>\n",
       "\t<tr><th scope=row>H10_M2</th><td> 9.8596631</td><td> 4.935476</td><td> 4.865302</td><td> 6.621051</td><td> 92.74582</td><td> 7.415478</td><td>1.3423285</td><td>1.3814366</td><td>1.1561462</td><td> 80.31715</td><td>...</td><td>0.1626836</td><td>13.542578</td><td>3.950505</td><td> 8.128290</td><td>16.244286</td><td> 88.81678</td><td>0.1732637</td><td> 6.067784</td><td> 4.461219</td><td> 5.569935</td></tr>\n",
       "\t<tr><th scope=row>H11_M2</th><td> 7.4018087</td><td> 8.001770</td><td> 6.984919</td><td> 6.478599</td><td> 91.24968</td><td>16.362154</td><td>4.1018804</td><td>1.1360337</td><td>2.2659680</td><td> 78.45263</td><td>...</td><td>0.3214273</td><td>13.757541</td><td>4.194272</td><td>19.351159</td><td>14.050799</td><td>185.70267</td><td>0.4894899</td><td> 5.499058</td><td> 4.467094</td><td> 7.037598</td></tr>\n",
       "\t<tr><th scope=row>H12_M2</th><td> 3.5362827</td><td> 6.773154</td><td> 3.273081</td><td> 8.672779</td><td> 86.70228</td><td> 9.456057</td><td>1.9313447</td><td>1.4458496</td><td>1.1897096</td><td> 57.84321</td><td>...</td><td>0.1440418</td><td>18.795567</td><td>6.791343</td><td> 7.949149</td><td>18.726469</td><td> 73.64571</td><td>0.1423127</td><td> 5.763774</td><td> 3.659144</td><td> 9.474099</td></tr>\n",
       "\t<tr><th scope=row>H13_M2</th><td> 3.8375949</td><td> 6.140059</td><td> 2.388479</td><td>12.149473</td><td> 72.61177</td><td> 8.365602</td><td>2.8476970</td><td>1.5262736</td><td>1.1547218</td><td> 57.10302</td><td>...</td><td>0.1840721</td><td>13.254711</td><td>8.371777</td><td> 6.299344</td><td>10.444895</td><td> 72.28765</td><td>0.1771408</td><td> 5.295705</td><td> 4.527516</td><td>12.631679</td></tr>\n",
       "\t<tr><th scope=row>H14_M2</th><td> 7.5323984</td><td> 6.252021</td><td> 6.359906</td><td> 8.555220</td><td> 81.38881</td><td>10.988204</td><td>3.3043328</td><td>0.7054981</td><td>2.1873904</td><td> 74.41406</td><td>...</td><td>0.3672776</td><td>15.887127</td><td>4.162301</td><td>12.813854</td><td>13.815235</td><td>136.54144</td><td>0.4273270</td><td> 6.975352</td><td> 4.915162</td><td> 7.224498</td></tr>\n",
       "\t<tr><th scope=row>H15_M2</th><td> 3.4271779</td><td> 6.812394</td><td> 7.504327</td><td> 6.728046</td><td> 66.63280</td><td>10.450908</td><td>2.2157150</td><td>0.8576239</td><td>1.4186986</td><td> 61.45981</td><td>...</td><td>0.2177582</td><td>10.605920</td><td>5.959314</td><td>11.058541</td><td> 9.003990</td><td>102.77684</td><td>0.2150325</td><td> 3.950548</td><td> 5.315682</td><td>10.042616</td></tr>\n",
       "\t<tr><th scope=row>H16_M2</th><td> 7.2797231</td><td> 4.486421</td><td> 4.610841</td><td> 6.490900</td><td> 70.40234</td><td> 8.895183</td><td>1.8822946</td><td>1.4476787</td><td>1.4454175</td><td> 59.14245</td><td>...</td><td>0.2338484</td><td>17.138769</td><td>7.366509</td><td> 9.529158</td><td>14.198769</td><td> 82.53053</td><td>0.2770710</td><td> 6.928587</td><td> 4.553598</td><td> 8.455479</td></tr>\n",
       "\t<tr><th scope=row>H17_M2</th><td>-0.8934062</td><td> 8.383628</td><td> 8.022827</td><td>17.312679</td><td>148.05374</td><td>18.368844</td><td>4.2384692</td><td>1.5579477</td><td>3.3822195</td><td> 96.84880</td><td>...</td><td>0.5102994</td><td>10.041922</td><td>3.406321</td><td>25.211952</td><td> 7.471712</td><td>215.32541</td><td>0.5593853</td><td> 9.149842</td><td> 6.246324</td><td> 5.810516</td></tr>\n",
       "\t<tr><th scope=row>H18_M2</th><td> 4.8899322</td><td> 5.237745</td><td> 9.009684</td><td> 6.777902</td><td> 85.15867</td><td>11.491488</td><td>2.9638471</td><td>1.3845603</td><td>1.9482176</td><td> 69.47244</td><td>...</td><td>0.4269212</td><td>14.873487</td><td>4.218211</td><td>13.927122</td><td>10.403452</td><td>140.28982</td><td>0.3442496</td><td> 3.355079</td><td> 3.833390</td><td> 6.076729</td></tr>\n",
       "\t<tr><th scope=row>H1_M2</th><td> 3.1424656</td><td> 6.870582</td><td> 4.439570</td><td> 4.831135</td><td> 93.74323</td><td>13.580404</td><td>2.7292063</td><td>0.8915546</td><td>2.5672698</td><td> 69.52974</td><td>...</td><td>0.3722308</td><td>11.753394</td><td>3.495580</td><td>15.488182</td><td>15.437850</td><td>168.14788</td><td>0.3451347</td><td> 3.110983</td><td> 2.588276</td><td> 5.119293</td></tr>\n",
       "\t<tr><th scope=row>H2_M2</th><td> 9.5131320</td><td> 5.374453</td><td> 4.805051</td><td> 4.739365</td><td> 58.47001</td><td> 7.262239</td><td>1.0461215</td><td>1.0934472</td><td>0.7599751</td><td> 36.28131</td><td>...</td><td>0.1771512</td><td> 8.725095</td><td>9.145124</td><td> 6.794488</td><td>11.592836</td><td> 64.08393</td><td>0.1144920</td><td> 4.413176</td><td> 3.156546</td><td>10.499698</td></tr>\n",
       "\t<tr><th scope=row>H3_M2</th><td> 3.7851583</td><td> 6.436040</td><td> 5.401636</td><td> 5.947044</td><td> 76.89041</td><td>11.232464</td><td>1.6638533</td><td>0.6801849</td><td>2.0280609</td><td> 61.33589</td><td>...</td><td>0.2083250</td><td> 9.490481</td><td>7.287496</td><td>10.235395</td><td> 9.011026</td><td> 92.85581</td><td>0.3376622</td><td> 4.837477</td><td> 5.722552</td><td>11.651631</td></tr>\n",
       "\t<tr><th scope=row>H4_M2</th><td> 3.2194777</td><td> 5.574095</td><td> 4.368893</td><td> 4.337709</td><td> 69.84212</td><td> 7.090677</td><td>1.3251505</td><td>1.4034630</td><td>1.1174938</td><td> 60.46182</td><td>...</td><td>0.2312577</td><td>12.908910</td><td>8.832650</td><td> 6.897687</td><td>12.547200</td><td> 64.07542</td><td>0.2076163</td><td> 4.293797</td><td> 3.405970</td><td>13.504495</td></tr>\n",
       "\t<tr><th scope=row>H5_M2</th><td> 6.8978050</td><td> 7.678760</td><td> 6.352886</td><td> 8.303599</td><td> 93.49347</td><td>12.078872</td><td>2.7229172</td><td>1.2575749</td><td>2.1251931</td><td> 63.95890</td><td>...</td><td>0.2991516</td><td>15.055325</td><td>4.400307</td><td>14.018686</td><td>18.127956</td><td>104.09151</td><td>0.3889227</td><td> 4.870853</td><td> 3.995455</td><td> 7.613991</td></tr>\n",
       "\t<tr><th scope=row>H6_M2</th><td>11.7007183</td><td> 5.477546</td><td>12.174972</td><td> 8.433634</td><td> 70.72438</td><td> 7.989255</td><td>1.2106399</td><td>0.9336486</td><td>1.2124230</td><td> 68.50617</td><td>...</td><td>0.2494874</td><td>11.402501</td><td>7.884508</td><td> 7.474772</td><td>17.982980</td><td> 75.30731</td><td>0.1580891</td><td> 5.863657</td><td> 4.234546</td><td> 9.363324</td></tr>\n",
       "\t<tr><th scope=row>H7_M2</th><td> 4.1360838</td><td> 5.539586</td><td> 6.709532</td><td> 6.095228</td><td> 70.72292</td><td> 8.209539</td><td>1.0243401</td><td>0.7643814</td><td>1.6027967</td><td> 55.01280</td><td>...</td><td>0.4416041</td><td>14.535782</td><td>5.441077</td><td> 9.145702</td><td> 8.664025</td><td> 84.47785</td><td>0.4405437</td><td> 3.402666</td><td> 3.518368</td><td> 8.346571</td></tr>\n",
       "\t<tr><th scope=row>H8_M2</th><td>11.3515672</td><td> 5.741657</td><td> 7.820654</td><td> 6.383644</td><td> 87.85976</td><td>10.891044</td><td>1.9670508</td><td>1.1083200</td><td>1.6596006</td><td> 75.22927</td><td>...</td><td>0.3031829</td><td>14.791714</td><td>2.690166</td><td>12.217876</td><td>16.147066</td><td>123.52323</td><td>0.1939421</td><td> 4.328526</td><td> 3.255499</td><td> 5.571229</td></tr>\n",
       "\t<tr><th scope=row>H9_M2</th><td>10.9632697</td><td> 6.994819</td><td> 7.254734</td><td> 5.911765</td><td> 68.20176</td><td> 8.818941</td><td>2.0426009</td><td>0.9322654</td><td>1.5913147</td><td> 51.46342</td><td>...</td><td>0.1432313</td><td>13.575997</td><td>6.603612</td><td>11.886832</td><td> 9.242520</td><td> 90.10049</td><td>0.3069145</td><td> 3.482911</td><td> 2.567210</td><td> 8.537749</td></tr>\n",
       "</tbody>\n",
       "</table>\n"
      ],
      "text/latex": [
       "A matrix: 119 x 22 of type dbl\n",
       "\\begin{tabular}{r|lllllllllllllllllllll}\n",
       "  & CEACAM1 & CDKN1A & HIST1H2BM & LRP1 & TLN1 & PTGS1 & GAS2L1 & RIN1 & ESAM & FERMT3 & ... & SAMD14 & RCN3 & ZNF721 & C6orf25 & SLC19A1 & NRGN & TGFB1I1 & STAB1 & FAM129B & ZNF141\\\\\n",
       "\\hline\n",
       "\tCI10\\_M1 &  6.247454 &  5.173722 & 10.420602 &  6.989592 &  45.84103 &  6.017560 & 1.1512910 & 1.0820738 & 1.1630736 &  40.61939 & ... &  0.1074809821 &  5.887007 &  8.706591 &  3.922300 &  7.750144 &  42.05165 & 0.30137085 & 4.036602 & 3.273388 & 12.710151\\\\\n",
       "\tCI11\\_M1 & 14.772961 &  5.430353 &  3.172594 &  8.119331 & 120.65593 & 16.849188 & 1.5137082 & 0.9209421 & 3.2943445 &  58.19307 & ... &  0.4015253855 & 14.995051 &  1.990680 & 16.452014 & 15.044303 & 159.05075 & 0.27622349 & 3.026577 & 2.948586 &  5.253768\\\\\n",
       "\tCI12\\_M1 &  9.417403 &  5.624813 & 26.555932 & 10.765511 & 109.22025 & 12.057157 & 1.6855875 & 1.0373802 & 1.4130408 &  67.27821 & ... &  0.3711277766 & 17.813320 &  2.439553 & 14.267003 & 14.201756 & 154.33414 & 0.26001661 & 5.876516 & 2.850877 &  5.629506\\\\\n",
       "\tCI13\\_M1 & 15.692822 &  9.627065 & 12.907428 &  7.195428 &  85.73930 & 14.734046 & 3.2634495 & 1.5315343 & 2.3156650 &  80.37288 & ... &  0.6544179838 & 19.212617 &  1.690579 & 17.516868 & 20.780258 & 203.08055 & 0.46303571 & 5.082050 & 3.182331 &  3.923673\\\\\n",
       "\tCI14\\_M1 &  6.429964 &  6.128547 &  4.364496 &  7.797441 &  57.85350 &  6.473898 & 2.0446986 & 1.3107863 & 0.9924778 &  66.50110 & ... &  0.1383488808 & 17.019967 &  7.738735 &  3.164050 & 15.132536 &  52.92093 & 0.11691464 & 7.149885 & 4.858816 & 10.462863\\\\\n",
       "\tCI15\\_M1 &  8.672950 &  2.575819 &  9.328786 &  4.766591 &  40.80765 &  6.087502 & 0.6423328 & 0.1966839 & 0.4083096 &  21.47326 & ... & -0.0002754677 &  5.857755 &  9.181593 &  4.861145 &  4.182415 &  26.31216 & 0.04297569 & 2.209446 & 1.338082 & 14.214997\\\\\n",
       "\tCI16\\_M1 &  8.574016 &  7.402613 & 19.967648 & 10.448084 & 117.41681 & 11.289701 & 3.4160223 & 1.5119110 & 2.0530439 & 125.09793 & ... &  0.3730862449 & 23.577842 &  4.400327 & 12.282652 & 18.053563 & 134.20535 & 0.20834313 & 7.986686 & 5.260070 &  7.013746\\\\\n",
       "\tCI17\\_M1 &  8.601504 &  7.498905 &  4.974642 &  6.649139 &  87.22010 & 12.565416 & 3.0069626 & 0.8724442 & 1.7779605 &  96.64597 & ... &  0.2856752801 & 17.064731 &  5.784207 & 15.552777 & 15.176090 & 146.52231 & 0.40528431 & 5.698938 & 4.921618 &  7.412752\\\\\n",
       "\tCI18\\_M1 & 76.781981 &  4.268224 &  7.418300 &  7.903451 &  93.70353 &  9.180268 & 0.9990692 & 0.3161552 & 1.3994956 &  65.64827 & ... &  0.1126752237 &  9.462103 &  4.284585 &  8.474778 & 10.583830 &  66.88872 & 0.16747675 & 8.218248 & 6.061842 &  5.754718\\\\\n",
       "\tCI19\\_M1 &  6.822273 &  8.776448 & 10.313096 &  7.540249 & 109.67644 & 11.250786 & 3.2577237 & 1.2173325 & 2.4569183 & 108.67124 & ... &  0.4984018902 & 16.801326 &  5.112724 & 12.096775 & 16.989260 & 133.21236 & 0.27286566 & 4.097411 & 5.250153 &  6.719784\\\\\n",
       "\tCI20\\_M1 &  7.750241 &  2.391668 & 22.296354 &  5.081846 &  77.58449 &  9.829821 & 0.7015025 & 0.1964972 & 0.5833746 &  19.69913 & ... &  0.0663090618 &  5.573502 &  6.854428 & 13.278466 &  3.509444 &  61.45293 & 0.23610110 & 2.205622 & 1.821476 & 10.032702\\\\\n",
       "\tCI21\\_M1 &  9.561460 &  5.134976 &  9.925921 &  6.382833 &  95.82025 & 11.387693 & 1.6797197 & 0.4683285 & 1.7061300 &  56.00601 & ... &  0.3078312881 & 11.179851 &  5.469848 & 10.989796 & 18.137461 & 109.12690 & 0.20862075 & 4.109575 & 2.954372 &  7.228788\\\\\n",
       "\tCI22\\_M1 &  9.115424 &  6.911053 &  7.850810 &  6.311562 &  84.58660 & 10.529570 & 2.3566764 & 1.4281557 & 1.3576780 &  74.68451 & ... &  0.3575814674 & 12.181411 &  7.097973 & 10.612490 & 12.769103 & 104.83450 & 0.22273130 & 5.374234 & 4.556386 & 10.179693\\\\\n",
       "\tCI23\\_M1 & 11.695502 &  7.997616 &  8.971549 & 10.789032 &  97.90383 & 10.866431 & 2.3286443 & 1.2707209 & 1.4862491 &  85.69190 & ... &  0.2488665865 &  9.725153 &  4.760948 & 11.607576 & 16.394716 & 109.45298 & 0.29712325 & 6.090105 & 5.273424 &  6.131416\\\\\n",
       "\tCI24\\_M1 &  9.139272 & 10.713559 &  9.913487 &  8.542533 & 121.55025 & 28.635735 & 6.7087325 & 1.0542555 & 5.3618642 & 113.62910 & ... &  0.9678976616 & 15.160282 &  3.515555 & 36.763344 & 13.994528 & 418.85635 & 1.60571986 & 4.960168 & 5.128826 &  4.785951\\\\\n",
       "\tCI25\\_M1 &  4.755585 &  7.802013 & 25.460633 &  8.135105 & 102.04963 & 16.360030 & 6.2761570 & 1.2796663 & 2.6929373 &  85.94225 & ... &  0.5734460860 & 14.047384 &  4.116526 & 21.225121 & 16.759777 & 235.28416 & 0.57329039 & 6.814515 & 6.457720 &  4.791537\\\\\n",
       "\tCI26\\_M1 & 11.329779 &  6.811355 &  4.425268 &  9.297277 &  68.96260 &  8.749124 & 1.6669113 & 1.5416175 & 1.0729486 &  87.46548 & ... &  0.1282972730 & 14.754533 &  6.449105 &  6.438735 & 14.305341 &  75.20930 & 0.07593994 & 6.518691 & 5.094408 &  9.261814\\\\\n",
       "\tCI27\\_M1 &  8.871830 &  8.067775 & 18.840927 &  8.550488 & 113.11303 & 11.759842 & 3.1719364 & 1.0912645 & 2.9160104 &  92.86391 & ... &  0.3849585350 & 14.515287 &  5.435242 & 22.010607 & 13.307923 & 184.68334 & 0.50038354 & 4.517854 & 4.706181 &  6.634810\\\\\n",
       "\tCI28\\_M1 &  6.469214 & 10.576148 & 10.877019 &  8.788590 & 128.36683 & 22.240457 & 3.4474204 & 1.0678985 & 3.4736125 &  85.92633 & ... &  0.7883587092 &  7.822598 &  4.125840 & 29.812425 & 11.258583 & 278.30615 & 1.19872121 & 5.916623 & 5.235187 &  5.988551\\\\\n",
       "\tCI29\\_M1 &  5.812238 &  9.529475 & 44.364401 &  7.123252 &  91.94611 & 14.809567 & 4.1305709 & 0.6015792 & 3.6977667 &  91.51256 & ... &  0.6235281578 &  9.053106 &  5.692558 & 21.004006 & 11.003765 & 235.62638 & 0.68596592 & 4.319776 & 5.208600 &  7.078691\\\\\n",
       "\tCI2\\_M1 &  4.194309 &  5.827073 &  3.754889 &  9.392043 &  75.39593 &  8.423481 & 1.8342597 & 2.0494035 & 1.2983747 &  72.69546 & ... &  0.1062903506 &  8.371721 &  5.327776 &  6.411552 & 11.782588 &  72.79550 & 0.14654626 & 6.612606 & 5.251025 &  9.130746\\\\\n",
       "\tCI30\\_M1 &  9.717015 &  4.835756 & 13.417257 &  7.872717 &  82.03145 &  8.989033 & 1.4700966 & 1.1450549 & 1.6846974 &  55.21024 & ... &  0.1449870550 & 10.981881 &  6.481088 & 10.163499 & 13.098420 &  82.67848 & 0.18650267 & 3.508194 & 3.853759 &  9.381350\\\\\n",
       "\tCI31\\_M1 & 15.211822 & 13.925130 & 40.403056 &  7.211716 & 111.11430 & 14.308556 & 5.7372571 & 1.4290265 & 4.0125549 &  89.37777 & ... &  0.2631320515 &  8.694204 &  4.384689 & 29.736694 & 10.421289 & 277.73970 & 0.57595087 & 2.574422 & 3.882145 &  5.235991\\\\\n",
       "\tCI32\\_M1 & 10.961915 &  4.229505 & 14.254912 & 11.781448 &  65.83195 &  7.696625 & 0.8583250 & 1.1147194 & 0.6957431 &  35.24167 & ... &  0.0334171072 &  9.193700 & 10.429082 &  3.847370 &  8.308675 &  34.10065 & 0.04321591 & 7.682992 & 4.043860 & 14.979882\\\\\n",
       "\tCI33\\_M1 &  8.817439 &  5.317055 &  6.654474 &  8.283985 &  73.55683 &  7.027098 & 2.4541843 & 0.9830317 & 1.0221378 &  56.14865 & ... &  0.0962471823 & 13.115530 &  8.806022 &  7.362298 & 17.947191 &  65.97092 & 0.11108874 & 3.827159 & 3.892313 & 10.002545\\\\\n",
       "\tCI34\\_M1 &  8.172296 &  1.846953 & 11.635393 &  5.517338 &  80.32262 &  8.509480 & 0.8901718 & 0.5056455 & 1.1115774 &  24.93331 & ... &  0.2325667145 &  7.955089 &  4.488649 &  9.019464 &  6.025254 &  63.78488 & 0.10308424 & 2.731744 & 1.485912 &  8.063117\\\\\n",
       "\tCI35\\_M1 &  5.274239 &  6.851788 & 17.211580 &  4.919116 &  84.69639 &  9.588948 & 2.3863771 & 0.9273129 & 1.7342028 &  89.72808 & ... &  0.4147135817 &  9.288803 &  6.253961 & 13.049062 & 11.310308 & 134.35330 & 0.38050118 & 2.812461 & 3.576260 &  8.511481\\\\\n",
       "\tCI36\\_M1 &  7.280508 &  4.935494 &  7.615000 &  5.503009 &  71.68903 &  6.446698 & 1.0663251 & 0.5432024 & 0.7991698 &  33.06666 & ... &  0.0728382361 &  9.482732 &  8.326103 &  5.464223 &  7.570658 &  36.21803 & 0.04702351 & 2.085740 & 2.413097 & 11.094413\\\\\n",
       "\tCI37\\_M1 & 13.690766 &  3.052867 &  4.188272 &  6.750944 &  78.98548 &  5.046461 & 1.2772316 & 1.3617523 & 0.5810936 &  50.57868 & ... &  0.0682339854 & 18.511259 &  5.451180 &  4.042588 & 23.128397 &  45.39621 & 0.05766130 & 5.329237 & 2.930386 &  7.147055\\\\\n",
       "\tCI38\\_M1 & 17.965668 &  8.214332 &  4.542271 &  6.803555 &  85.02755 & 14.755565 & 3.1739308 & 1.4810561 & 2.8830909 & 101.87159 & ... &  0.5720471792 & 14.254017 &  5.265568 & 21.656489 & 12.040287 & 168.09581 & 0.45029886 & 4.334323 & 4.826969 &  8.451962\\\\\n",
       "\t... & ... & ... & ... & ... & ... & ... & ... & ... & ... & ... &  & ... & ... & ... & ... & ... & ... & ... & ... & ... & ...\\\\\n",
       "\tCI14\\_M2 &  9.9657239 &  4.973557 &  9.508139 &  5.746542 &  63.49505 &  7.191171 & 1.5524247 & 1.3394707 & 0.9670881 &  49.14298 & ... & 0.1397215 & 16.705969 & 6.298449 &  5.488234 & 17.534047 &  62.89365 & 0.2055814 &  6.165464 &  3.511488 & 10.040102\\\\\n",
       "\tCI15\\_M2 &  6.0012165 & 12.768997 &  8.133377 & 10.543735 & 147.61229 & 33.962257 & 6.8027814 & 1.4333200 & 5.6819992 & 126.24141 & ... & 2.2629779 & 24.858709 & 3.060898 & 61.309111 & 21.158778 & 556.66586 & 1.5191287 &  4.950899 &  3.909003 &  4.157393\\\\\n",
       "\tCI16\\_M2 &  8.2661661 &  5.746875 &  7.163424 &  7.538302 &  66.50727 &  6.969583 & 0.8901935 & 1.7297539 & 1.1494262 &  53.05206 & ... & 0.1235531 & 16.882642 & 3.753820 &  5.575198 & 19.124553 &  61.54329 & 0.1528993 &  5.290877 &  3.431917 &  7.162803\\\\\n",
       "\tCI1\\_M2 & 26.3258846 &  6.666647 &  3.551178 & 19.021485 & 102.78421 &  9.866350 & 4.5061960 & 1.6192554 & 1.1397554 &  82.88726 & ... & 0.1064559 & 24.767158 & 1.421268 &  9.119440 & 22.191927 &  91.55141 & 0.1176884 & 11.855278 &  8.299429 &  2.852510\\\\\n",
       "\tCI2\\_M2 & 17.8579005 & 22.385570 & 65.091770 & 23.941791 & 136.99370 & 19.740941 & 5.9346182 & 2.1165978 & 5.3000589 & 147.18243 & ... & 0.5443543 & 11.938579 & 2.861103 & 31.918938 & 17.306277 & 265.14962 & 0.7514614 & 11.377510 & 11.787407 &  4.057031\\\\\n",
       "\tCI3\\_M2 &  9.7947637 &  6.952116 &  4.370243 &  6.284637 &  85.53996 & 14.043375 & 2.6995989 & 0.7043711 & 2.5773316 &  70.54973 & ... & 0.5852883 & 23.638365 & 3.846588 & 15.118917 & 20.386308 & 147.54776 & 0.6355881 &  3.091787 &  4.121492 &  5.716208\\\\\n",
       "\tCI4\\_M2 & 13.0629437 &  7.808864 &  6.547168 & 19.689491 & 115.75507 & 13.599435 & 3.6659599 & 2.4526758 & 2.2963312 &  81.68812 & ... & 0.2410217 & 18.201661 & 4.506789 & 11.703718 & 16.191508 & 119.44741 & 0.1631540 &  6.470185 &  6.690582 &  7.002531\\\\\n",
       "\tCI5\\_M2 & 17.5348198 & 11.658796 &  5.260901 & 18.279998 & 152.88220 & 17.989402 & 5.0203115 & 2.6850843 & 3.4586944 & 115.62581 & ... & 0.7337378 & 29.832530 & 1.779912 & 24.647989 & 27.762419 & 247.99375 & 0.6263323 &  8.200992 &  6.310780 &  3.420009\\\\\n",
       "\tCI6\\_M2 &  9.0440420 &  7.501829 & 10.655079 &  8.314355 & 111.18224 & 13.879871 & 2.3899658 & 1.1384503 & 1.6260914 &  90.75322 & ... & 0.5547403 & 16.448992 & 2.299146 & 15.975656 & 17.160005 & 152.02741 & 0.3761811 &  5.533957 &  4.892044 &  4.170417\\\\\n",
       "\tCI7\\_M2 &  3.8010607 &  3.987645 &  6.224227 &  8.568891 &  66.95682 &  8.005872 & 2.2223242 & 1.0524420 & 0.9029962 &  64.34727 & ... & 0.1858221 & 26.977462 & 8.681459 &  7.093109 & 12.474515 &  83.70432 & 0.2930720 &  8.810322 &  4.116097 &  9.981603\\\\\n",
       "\tCI8\\_M2 & 19.0346446 &  8.642778 &  7.288064 & 15.090421 & 131.43004 & 18.691933 & 4.4320593 & 1.0142476 & 3.2454241 &  85.09522 & ... & 0.3920280 & 19.590853 & 2.850097 & 23.124510 & 19.919599 & 253.83632 & 0.4776278 &  6.858512 &  5.113484 &  4.183584\\\\\n",
       "\tCI9\\_M2 &  9.4369563 & 10.487389 & 11.521556 & 16.266730 & 142.56605 & 19.621780 & 5.4576333 & 1.1200095 & 3.1015649 & 113.16389 & ... & 1.2123170 & 23.440866 & 1.750519 & 30.921640 & 25.330535 & 297.08748 & 0.8497503 &  4.587549 &  5.868317 &  2.794468\\\\\n",
       "\tH10\\_M2 &  9.8596631 &  4.935476 &  4.865302 &  6.621051 &  92.74582 &  7.415478 & 1.3423285 & 1.3814366 & 1.1561462 &  80.31715 & ... & 0.1626836 & 13.542578 & 3.950505 &  8.128290 & 16.244286 &  88.81678 & 0.1732637 &  6.067784 &  4.461219 &  5.569935\\\\\n",
       "\tH11\\_M2 &  7.4018087 &  8.001770 &  6.984919 &  6.478599 &  91.24968 & 16.362154 & 4.1018804 & 1.1360337 & 2.2659680 &  78.45263 & ... & 0.3214273 & 13.757541 & 4.194272 & 19.351159 & 14.050799 & 185.70267 & 0.4894899 &  5.499058 &  4.467094 &  7.037598\\\\\n",
       "\tH12\\_M2 &  3.5362827 &  6.773154 &  3.273081 &  8.672779 &  86.70228 &  9.456057 & 1.9313447 & 1.4458496 & 1.1897096 &  57.84321 & ... & 0.1440418 & 18.795567 & 6.791343 &  7.949149 & 18.726469 &  73.64571 & 0.1423127 &  5.763774 &  3.659144 &  9.474099\\\\\n",
       "\tH13\\_M2 &  3.8375949 &  6.140059 &  2.388479 & 12.149473 &  72.61177 &  8.365602 & 2.8476970 & 1.5262736 & 1.1547218 &  57.10302 & ... & 0.1840721 & 13.254711 & 8.371777 &  6.299344 & 10.444895 &  72.28765 & 0.1771408 &  5.295705 &  4.527516 & 12.631679\\\\\n",
       "\tH14\\_M2 &  7.5323984 &  6.252021 &  6.359906 &  8.555220 &  81.38881 & 10.988204 & 3.3043328 & 0.7054981 & 2.1873904 &  74.41406 & ... & 0.3672776 & 15.887127 & 4.162301 & 12.813854 & 13.815235 & 136.54144 & 0.4273270 &  6.975352 &  4.915162 &  7.224498\\\\\n",
       "\tH15\\_M2 &  3.4271779 &  6.812394 &  7.504327 &  6.728046 &  66.63280 & 10.450908 & 2.2157150 & 0.8576239 & 1.4186986 &  61.45981 & ... & 0.2177582 & 10.605920 & 5.959314 & 11.058541 &  9.003990 & 102.77684 & 0.2150325 &  3.950548 &  5.315682 & 10.042616\\\\\n",
       "\tH16\\_M2 &  7.2797231 &  4.486421 &  4.610841 &  6.490900 &  70.40234 &  8.895183 & 1.8822946 & 1.4476787 & 1.4454175 &  59.14245 & ... & 0.2338484 & 17.138769 & 7.366509 &  9.529158 & 14.198769 &  82.53053 & 0.2770710 &  6.928587 &  4.553598 &  8.455479\\\\\n",
       "\tH17\\_M2 & -0.8934062 &  8.383628 &  8.022827 & 17.312679 & 148.05374 & 18.368844 & 4.2384692 & 1.5579477 & 3.3822195 &  96.84880 & ... & 0.5102994 & 10.041922 & 3.406321 & 25.211952 &  7.471712 & 215.32541 & 0.5593853 &  9.149842 &  6.246324 &  5.810516\\\\\n",
       "\tH18\\_M2 &  4.8899322 &  5.237745 &  9.009684 &  6.777902 &  85.15867 & 11.491488 & 2.9638471 & 1.3845603 & 1.9482176 &  69.47244 & ... & 0.4269212 & 14.873487 & 4.218211 & 13.927122 & 10.403452 & 140.28982 & 0.3442496 &  3.355079 &  3.833390 &  6.076729\\\\\n",
       "\tH1\\_M2 &  3.1424656 &  6.870582 &  4.439570 &  4.831135 &  93.74323 & 13.580404 & 2.7292063 & 0.8915546 & 2.5672698 &  69.52974 & ... & 0.3722308 & 11.753394 & 3.495580 & 15.488182 & 15.437850 & 168.14788 & 0.3451347 &  3.110983 &  2.588276 &  5.119293\\\\\n",
       "\tH2\\_M2 &  9.5131320 &  5.374453 &  4.805051 &  4.739365 &  58.47001 &  7.262239 & 1.0461215 & 1.0934472 & 0.7599751 &  36.28131 & ... & 0.1771512 &  8.725095 & 9.145124 &  6.794488 & 11.592836 &  64.08393 & 0.1144920 &  4.413176 &  3.156546 & 10.499698\\\\\n",
       "\tH3\\_M2 &  3.7851583 &  6.436040 &  5.401636 &  5.947044 &  76.89041 & 11.232464 & 1.6638533 & 0.6801849 & 2.0280609 &  61.33589 & ... & 0.2083250 &  9.490481 & 7.287496 & 10.235395 &  9.011026 &  92.85581 & 0.3376622 &  4.837477 &  5.722552 & 11.651631\\\\\n",
       "\tH4\\_M2 &  3.2194777 &  5.574095 &  4.368893 &  4.337709 &  69.84212 &  7.090677 & 1.3251505 & 1.4034630 & 1.1174938 &  60.46182 & ... & 0.2312577 & 12.908910 & 8.832650 &  6.897687 & 12.547200 &  64.07542 & 0.2076163 &  4.293797 &  3.405970 & 13.504495\\\\\n",
       "\tH5\\_M2 &  6.8978050 &  7.678760 &  6.352886 &  8.303599 &  93.49347 & 12.078872 & 2.7229172 & 1.2575749 & 2.1251931 &  63.95890 & ... & 0.2991516 & 15.055325 & 4.400307 & 14.018686 & 18.127956 & 104.09151 & 0.3889227 &  4.870853 &  3.995455 &  7.613991\\\\\n",
       "\tH6\\_M2 & 11.7007183 &  5.477546 & 12.174972 &  8.433634 &  70.72438 &  7.989255 & 1.2106399 & 0.9336486 & 1.2124230 &  68.50617 & ... & 0.2494874 & 11.402501 & 7.884508 &  7.474772 & 17.982980 &  75.30731 & 0.1580891 &  5.863657 &  4.234546 &  9.363324\\\\\n",
       "\tH7\\_M2 &  4.1360838 &  5.539586 &  6.709532 &  6.095228 &  70.72292 &  8.209539 & 1.0243401 & 0.7643814 & 1.6027967 &  55.01280 & ... & 0.4416041 & 14.535782 & 5.441077 &  9.145702 &  8.664025 &  84.47785 & 0.4405437 &  3.402666 &  3.518368 &  8.346571\\\\\n",
       "\tH8\\_M2 & 11.3515672 &  5.741657 &  7.820654 &  6.383644 &  87.85976 & 10.891044 & 1.9670508 & 1.1083200 & 1.6596006 &  75.22927 & ... & 0.3031829 & 14.791714 & 2.690166 & 12.217876 & 16.147066 & 123.52323 & 0.1939421 &  4.328526 &  3.255499 &  5.571229\\\\\n",
       "\tH9\\_M2 & 10.9632697 &  6.994819 &  7.254734 &  5.911765 &  68.20176 &  8.818941 & 2.0426009 & 0.9322654 & 1.5913147 &  51.46342 & ... & 0.1432313 & 13.575997 & 6.603612 & 11.886832 &  9.242520 &  90.10049 & 0.3069145 &  3.482911 &  2.567210 &  8.537749\\\\\n",
       "\\end{tabular}\n"
      ],
      "text/markdown": [
       "\n",
       "A matrix: 119 x 22 of type dbl\n",
       "\n",
       "| <!--/--> | CEACAM1 | CDKN1A | HIST1H2BM | LRP1 | TLN1 | PTGS1 | GAS2L1 | RIN1 | ESAM | FERMT3 | ... | SAMD14 | RCN3 | ZNF721 | C6orf25 | SLC19A1 | NRGN | TGFB1I1 | STAB1 | FAM129B | ZNF141 |\n",
       "|---|---|---|---|---|---|---|---|---|---|---|---|---|---|---|---|---|---|---|---|---|---|\n",
       "| CI10_M1 |  6.247454 |  5.173722 | 10.420602 |  6.989592 |  45.84103 |  6.017560 | 1.1512910 | 1.0820738 | 1.1630736 |  40.61939 | ... |  0.1074809821 |  5.887007 |  8.706591 |  3.922300 |  7.750144 |  42.05165 | 0.30137085 | 4.036602 | 3.273388 | 12.710151 |\n",
       "| CI11_M1 | 14.772961 |  5.430353 |  3.172594 |  8.119331 | 120.65593 | 16.849188 | 1.5137082 | 0.9209421 | 3.2943445 |  58.19307 | ... |  0.4015253855 | 14.995051 |  1.990680 | 16.452014 | 15.044303 | 159.05075 | 0.27622349 | 3.026577 | 2.948586 |  5.253768 |\n",
       "| CI12_M1 |  9.417403 |  5.624813 | 26.555932 | 10.765511 | 109.22025 | 12.057157 | 1.6855875 | 1.0373802 | 1.4130408 |  67.27821 | ... |  0.3711277766 | 17.813320 |  2.439553 | 14.267003 | 14.201756 | 154.33414 | 0.26001661 | 5.876516 | 2.850877 |  5.629506 |\n",
       "| CI13_M1 | 15.692822 |  9.627065 | 12.907428 |  7.195428 |  85.73930 | 14.734046 | 3.2634495 | 1.5315343 | 2.3156650 |  80.37288 | ... |  0.6544179838 | 19.212617 |  1.690579 | 17.516868 | 20.780258 | 203.08055 | 0.46303571 | 5.082050 | 3.182331 |  3.923673 |\n",
       "| CI14_M1 |  6.429964 |  6.128547 |  4.364496 |  7.797441 |  57.85350 |  6.473898 | 2.0446986 | 1.3107863 | 0.9924778 |  66.50110 | ... |  0.1383488808 | 17.019967 |  7.738735 |  3.164050 | 15.132536 |  52.92093 | 0.11691464 | 7.149885 | 4.858816 | 10.462863 |\n",
       "| CI15_M1 |  8.672950 |  2.575819 |  9.328786 |  4.766591 |  40.80765 |  6.087502 | 0.6423328 | 0.1966839 | 0.4083096 |  21.47326 | ... | -0.0002754677 |  5.857755 |  9.181593 |  4.861145 |  4.182415 |  26.31216 | 0.04297569 | 2.209446 | 1.338082 | 14.214997 |\n",
       "| CI16_M1 |  8.574016 |  7.402613 | 19.967648 | 10.448084 | 117.41681 | 11.289701 | 3.4160223 | 1.5119110 | 2.0530439 | 125.09793 | ... |  0.3730862449 | 23.577842 |  4.400327 | 12.282652 | 18.053563 | 134.20535 | 0.20834313 | 7.986686 | 5.260070 |  7.013746 |\n",
       "| CI17_M1 |  8.601504 |  7.498905 |  4.974642 |  6.649139 |  87.22010 | 12.565416 | 3.0069626 | 0.8724442 | 1.7779605 |  96.64597 | ... |  0.2856752801 | 17.064731 |  5.784207 | 15.552777 | 15.176090 | 146.52231 | 0.40528431 | 5.698938 | 4.921618 |  7.412752 |\n",
       "| CI18_M1 | 76.781981 |  4.268224 |  7.418300 |  7.903451 |  93.70353 |  9.180268 | 0.9990692 | 0.3161552 | 1.3994956 |  65.64827 | ... |  0.1126752237 |  9.462103 |  4.284585 |  8.474778 | 10.583830 |  66.88872 | 0.16747675 | 8.218248 | 6.061842 |  5.754718 |\n",
       "| CI19_M1 |  6.822273 |  8.776448 | 10.313096 |  7.540249 | 109.67644 | 11.250786 | 3.2577237 | 1.2173325 | 2.4569183 | 108.67124 | ... |  0.4984018902 | 16.801326 |  5.112724 | 12.096775 | 16.989260 | 133.21236 | 0.27286566 | 4.097411 | 5.250153 |  6.719784 |\n",
       "| CI20_M1 |  7.750241 |  2.391668 | 22.296354 |  5.081846 |  77.58449 |  9.829821 | 0.7015025 | 0.1964972 | 0.5833746 |  19.69913 | ... |  0.0663090618 |  5.573502 |  6.854428 | 13.278466 |  3.509444 |  61.45293 | 0.23610110 | 2.205622 | 1.821476 | 10.032702 |\n",
       "| CI21_M1 |  9.561460 |  5.134976 |  9.925921 |  6.382833 |  95.82025 | 11.387693 | 1.6797197 | 0.4683285 | 1.7061300 |  56.00601 | ... |  0.3078312881 | 11.179851 |  5.469848 | 10.989796 | 18.137461 | 109.12690 | 0.20862075 | 4.109575 | 2.954372 |  7.228788 |\n",
       "| CI22_M1 |  9.115424 |  6.911053 |  7.850810 |  6.311562 |  84.58660 | 10.529570 | 2.3566764 | 1.4281557 | 1.3576780 |  74.68451 | ... |  0.3575814674 | 12.181411 |  7.097973 | 10.612490 | 12.769103 | 104.83450 | 0.22273130 | 5.374234 | 4.556386 | 10.179693 |\n",
       "| CI23_M1 | 11.695502 |  7.997616 |  8.971549 | 10.789032 |  97.90383 | 10.866431 | 2.3286443 | 1.2707209 | 1.4862491 |  85.69190 | ... |  0.2488665865 |  9.725153 |  4.760948 | 11.607576 | 16.394716 | 109.45298 | 0.29712325 | 6.090105 | 5.273424 |  6.131416 |\n",
       "| CI24_M1 |  9.139272 | 10.713559 |  9.913487 |  8.542533 | 121.55025 | 28.635735 | 6.7087325 | 1.0542555 | 5.3618642 | 113.62910 | ... |  0.9678976616 | 15.160282 |  3.515555 | 36.763344 | 13.994528 | 418.85635 | 1.60571986 | 4.960168 | 5.128826 |  4.785951 |\n",
       "| CI25_M1 |  4.755585 |  7.802013 | 25.460633 |  8.135105 | 102.04963 | 16.360030 | 6.2761570 | 1.2796663 | 2.6929373 |  85.94225 | ... |  0.5734460860 | 14.047384 |  4.116526 | 21.225121 | 16.759777 | 235.28416 | 0.57329039 | 6.814515 | 6.457720 |  4.791537 |\n",
       "| CI26_M1 | 11.329779 |  6.811355 |  4.425268 |  9.297277 |  68.96260 |  8.749124 | 1.6669113 | 1.5416175 | 1.0729486 |  87.46548 | ... |  0.1282972730 | 14.754533 |  6.449105 |  6.438735 | 14.305341 |  75.20930 | 0.07593994 | 6.518691 | 5.094408 |  9.261814 |\n",
       "| CI27_M1 |  8.871830 |  8.067775 | 18.840927 |  8.550488 | 113.11303 | 11.759842 | 3.1719364 | 1.0912645 | 2.9160104 |  92.86391 | ... |  0.3849585350 | 14.515287 |  5.435242 | 22.010607 | 13.307923 | 184.68334 | 0.50038354 | 4.517854 | 4.706181 |  6.634810 |\n",
       "| CI28_M1 |  6.469214 | 10.576148 | 10.877019 |  8.788590 | 128.36683 | 22.240457 | 3.4474204 | 1.0678985 | 3.4736125 |  85.92633 | ... |  0.7883587092 |  7.822598 |  4.125840 | 29.812425 | 11.258583 | 278.30615 | 1.19872121 | 5.916623 | 5.235187 |  5.988551 |\n",
       "| CI29_M1 |  5.812238 |  9.529475 | 44.364401 |  7.123252 |  91.94611 | 14.809567 | 4.1305709 | 0.6015792 | 3.6977667 |  91.51256 | ... |  0.6235281578 |  9.053106 |  5.692558 | 21.004006 | 11.003765 | 235.62638 | 0.68596592 | 4.319776 | 5.208600 |  7.078691 |\n",
       "| CI2_M1 |  4.194309 |  5.827073 |  3.754889 |  9.392043 |  75.39593 |  8.423481 | 1.8342597 | 2.0494035 | 1.2983747 |  72.69546 | ... |  0.1062903506 |  8.371721 |  5.327776 |  6.411552 | 11.782588 |  72.79550 | 0.14654626 | 6.612606 | 5.251025 |  9.130746 |\n",
       "| CI30_M1 |  9.717015 |  4.835756 | 13.417257 |  7.872717 |  82.03145 |  8.989033 | 1.4700966 | 1.1450549 | 1.6846974 |  55.21024 | ... |  0.1449870550 | 10.981881 |  6.481088 | 10.163499 | 13.098420 |  82.67848 | 0.18650267 | 3.508194 | 3.853759 |  9.381350 |\n",
       "| CI31_M1 | 15.211822 | 13.925130 | 40.403056 |  7.211716 | 111.11430 | 14.308556 | 5.7372571 | 1.4290265 | 4.0125549 |  89.37777 | ... |  0.2631320515 |  8.694204 |  4.384689 | 29.736694 | 10.421289 | 277.73970 | 0.57595087 | 2.574422 | 3.882145 |  5.235991 |\n",
       "| CI32_M1 | 10.961915 |  4.229505 | 14.254912 | 11.781448 |  65.83195 |  7.696625 | 0.8583250 | 1.1147194 | 0.6957431 |  35.24167 | ... |  0.0334171072 |  9.193700 | 10.429082 |  3.847370 |  8.308675 |  34.10065 | 0.04321591 | 7.682992 | 4.043860 | 14.979882 |\n",
       "| CI33_M1 |  8.817439 |  5.317055 |  6.654474 |  8.283985 |  73.55683 |  7.027098 | 2.4541843 | 0.9830317 | 1.0221378 |  56.14865 | ... |  0.0962471823 | 13.115530 |  8.806022 |  7.362298 | 17.947191 |  65.97092 | 0.11108874 | 3.827159 | 3.892313 | 10.002545 |\n",
       "| CI34_M1 |  8.172296 |  1.846953 | 11.635393 |  5.517338 |  80.32262 |  8.509480 | 0.8901718 | 0.5056455 | 1.1115774 |  24.93331 | ... |  0.2325667145 |  7.955089 |  4.488649 |  9.019464 |  6.025254 |  63.78488 | 0.10308424 | 2.731744 | 1.485912 |  8.063117 |\n",
       "| CI35_M1 |  5.274239 |  6.851788 | 17.211580 |  4.919116 |  84.69639 |  9.588948 | 2.3863771 | 0.9273129 | 1.7342028 |  89.72808 | ... |  0.4147135817 |  9.288803 |  6.253961 | 13.049062 | 11.310308 | 134.35330 | 0.38050118 | 2.812461 | 3.576260 |  8.511481 |\n",
       "| CI36_M1 |  7.280508 |  4.935494 |  7.615000 |  5.503009 |  71.68903 |  6.446698 | 1.0663251 | 0.5432024 | 0.7991698 |  33.06666 | ... |  0.0728382361 |  9.482732 |  8.326103 |  5.464223 |  7.570658 |  36.21803 | 0.04702351 | 2.085740 | 2.413097 | 11.094413 |\n",
       "| CI37_M1 | 13.690766 |  3.052867 |  4.188272 |  6.750944 |  78.98548 |  5.046461 | 1.2772316 | 1.3617523 | 0.5810936 |  50.57868 | ... |  0.0682339854 | 18.511259 |  5.451180 |  4.042588 | 23.128397 |  45.39621 | 0.05766130 | 5.329237 | 2.930386 |  7.147055 |\n",
       "| CI38_M1 | 17.965668 |  8.214332 |  4.542271 |  6.803555 |  85.02755 | 14.755565 | 3.1739308 | 1.4810561 | 2.8830909 | 101.87159 | ... |  0.5720471792 | 14.254017 |  5.265568 | 21.656489 | 12.040287 | 168.09581 | 0.45029886 | 4.334323 | 4.826969 |  8.451962 |\n",
       "| ... | ... | ... | ... | ... | ... | ... | ... | ... | ... | ... | <!----> | ... | ... | ... | ... | ... | ... | ... | ... | ... | ... |\n",
       "| CI14_M2 |  9.9657239 |  4.973557 |  9.508139 |  5.746542 |  63.49505 |  7.191171 | 1.5524247 | 1.3394707 | 0.9670881 |  49.14298 | ... | 0.1397215 | 16.705969 | 6.298449 |  5.488234 | 17.534047 |  62.89365 | 0.2055814 |  6.165464 |  3.511488 | 10.040102 |\n",
       "| CI15_M2 |  6.0012165 | 12.768997 |  8.133377 | 10.543735 | 147.61229 | 33.962257 | 6.8027814 | 1.4333200 | 5.6819992 | 126.24141 | ... | 2.2629779 | 24.858709 | 3.060898 | 61.309111 | 21.158778 | 556.66586 | 1.5191287 |  4.950899 |  3.909003 |  4.157393 |\n",
       "| CI16_M2 |  8.2661661 |  5.746875 |  7.163424 |  7.538302 |  66.50727 |  6.969583 | 0.8901935 | 1.7297539 | 1.1494262 |  53.05206 | ... | 0.1235531 | 16.882642 | 3.753820 |  5.575198 | 19.124553 |  61.54329 | 0.1528993 |  5.290877 |  3.431917 |  7.162803 |\n",
       "| CI1_M2 | 26.3258846 |  6.666647 |  3.551178 | 19.021485 | 102.78421 |  9.866350 | 4.5061960 | 1.6192554 | 1.1397554 |  82.88726 | ... | 0.1064559 | 24.767158 | 1.421268 |  9.119440 | 22.191927 |  91.55141 | 0.1176884 | 11.855278 |  8.299429 |  2.852510 |\n",
       "| CI2_M2 | 17.8579005 | 22.385570 | 65.091770 | 23.941791 | 136.99370 | 19.740941 | 5.9346182 | 2.1165978 | 5.3000589 | 147.18243 | ... | 0.5443543 | 11.938579 | 2.861103 | 31.918938 | 17.306277 | 265.14962 | 0.7514614 | 11.377510 | 11.787407 |  4.057031 |\n",
       "| CI3_M2 |  9.7947637 |  6.952116 |  4.370243 |  6.284637 |  85.53996 | 14.043375 | 2.6995989 | 0.7043711 | 2.5773316 |  70.54973 | ... | 0.5852883 | 23.638365 | 3.846588 | 15.118917 | 20.386308 | 147.54776 | 0.6355881 |  3.091787 |  4.121492 |  5.716208 |\n",
       "| CI4_M2 | 13.0629437 |  7.808864 |  6.547168 | 19.689491 | 115.75507 | 13.599435 | 3.6659599 | 2.4526758 | 2.2963312 |  81.68812 | ... | 0.2410217 | 18.201661 | 4.506789 | 11.703718 | 16.191508 | 119.44741 | 0.1631540 |  6.470185 |  6.690582 |  7.002531 |\n",
       "| CI5_M2 | 17.5348198 | 11.658796 |  5.260901 | 18.279998 | 152.88220 | 17.989402 | 5.0203115 | 2.6850843 | 3.4586944 | 115.62581 | ... | 0.7337378 | 29.832530 | 1.779912 | 24.647989 | 27.762419 | 247.99375 | 0.6263323 |  8.200992 |  6.310780 |  3.420009 |\n",
       "| CI6_M2 |  9.0440420 |  7.501829 | 10.655079 |  8.314355 | 111.18224 | 13.879871 | 2.3899658 | 1.1384503 | 1.6260914 |  90.75322 | ... | 0.5547403 | 16.448992 | 2.299146 | 15.975656 | 17.160005 | 152.02741 | 0.3761811 |  5.533957 |  4.892044 |  4.170417 |\n",
       "| CI7_M2 |  3.8010607 |  3.987645 |  6.224227 |  8.568891 |  66.95682 |  8.005872 | 2.2223242 | 1.0524420 | 0.9029962 |  64.34727 | ... | 0.1858221 | 26.977462 | 8.681459 |  7.093109 | 12.474515 |  83.70432 | 0.2930720 |  8.810322 |  4.116097 |  9.981603 |\n",
       "| CI8_M2 | 19.0346446 |  8.642778 |  7.288064 | 15.090421 | 131.43004 | 18.691933 | 4.4320593 | 1.0142476 | 3.2454241 |  85.09522 | ... | 0.3920280 | 19.590853 | 2.850097 | 23.124510 | 19.919599 | 253.83632 | 0.4776278 |  6.858512 |  5.113484 |  4.183584 |\n",
       "| CI9_M2 |  9.4369563 | 10.487389 | 11.521556 | 16.266730 | 142.56605 | 19.621780 | 5.4576333 | 1.1200095 | 3.1015649 | 113.16389 | ... | 1.2123170 | 23.440866 | 1.750519 | 30.921640 | 25.330535 | 297.08748 | 0.8497503 |  4.587549 |  5.868317 |  2.794468 |\n",
       "| H10_M2 |  9.8596631 |  4.935476 |  4.865302 |  6.621051 |  92.74582 |  7.415478 | 1.3423285 | 1.3814366 | 1.1561462 |  80.31715 | ... | 0.1626836 | 13.542578 | 3.950505 |  8.128290 | 16.244286 |  88.81678 | 0.1732637 |  6.067784 |  4.461219 |  5.569935 |\n",
       "| H11_M2 |  7.4018087 |  8.001770 |  6.984919 |  6.478599 |  91.24968 | 16.362154 | 4.1018804 | 1.1360337 | 2.2659680 |  78.45263 | ... | 0.3214273 | 13.757541 | 4.194272 | 19.351159 | 14.050799 | 185.70267 | 0.4894899 |  5.499058 |  4.467094 |  7.037598 |\n",
       "| H12_M2 |  3.5362827 |  6.773154 |  3.273081 |  8.672779 |  86.70228 |  9.456057 | 1.9313447 | 1.4458496 | 1.1897096 |  57.84321 | ... | 0.1440418 | 18.795567 | 6.791343 |  7.949149 | 18.726469 |  73.64571 | 0.1423127 |  5.763774 |  3.659144 |  9.474099 |\n",
       "| H13_M2 |  3.8375949 |  6.140059 |  2.388479 | 12.149473 |  72.61177 |  8.365602 | 2.8476970 | 1.5262736 | 1.1547218 |  57.10302 | ... | 0.1840721 | 13.254711 | 8.371777 |  6.299344 | 10.444895 |  72.28765 | 0.1771408 |  5.295705 |  4.527516 | 12.631679 |\n",
       "| H14_M2 |  7.5323984 |  6.252021 |  6.359906 |  8.555220 |  81.38881 | 10.988204 | 3.3043328 | 0.7054981 | 2.1873904 |  74.41406 | ... | 0.3672776 | 15.887127 | 4.162301 | 12.813854 | 13.815235 | 136.54144 | 0.4273270 |  6.975352 |  4.915162 |  7.224498 |\n",
       "| H15_M2 |  3.4271779 |  6.812394 |  7.504327 |  6.728046 |  66.63280 | 10.450908 | 2.2157150 | 0.8576239 | 1.4186986 |  61.45981 | ... | 0.2177582 | 10.605920 | 5.959314 | 11.058541 |  9.003990 | 102.77684 | 0.2150325 |  3.950548 |  5.315682 | 10.042616 |\n",
       "| H16_M2 |  7.2797231 |  4.486421 |  4.610841 |  6.490900 |  70.40234 |  8.895183 | 1.8822946 | 1.4476787 | 1.4454175 |  59.14245 | ... | 0.2338484 | 17.138769 | 7.366509 |  9.529158 | 14.198769 |  82.53053 | 0.2770710 |  6.928587 |  4.553598 |  8.455479 |\n",
       "| H17_M2 | -0.8934062 |  8.383628 |  8.022827 | 17.312679 | 148.05374 | 18.368844 | 4.2384692 | 1.5579477 | 3.3822195 |  96.84880 | ... | 0.5102994 | 10.041922 | 3.406321 | 25.211952 |  7.471712 | 215.32541 | 0.5593853 |  9.149842 |  6.246324 |  5.810516 |\n",
       "| H18_M2 |  4.8899322 |  5.237745 |  9.009684 |  6.777902 |  85.15867 | 11.491488 | 2.9638471 | 1.3845603 | 1.9482176 |  69.47244 | ... | 0.4269212 | 14.873487 | 4.218211 | 13.927122 | 10.403452 | 140.28982 | 0.3442496 |  3.355079 |  3.833390 |  6.076729 |\n",
       "| H1_M2 |  3.1424656 |  6.870582 |  4.439570 |  4.831135 |  93.74323 | 13.580404 | 2.7292063 | 0.8915546 | 2.5672698 |  69.52974 | ... | 0.3722308 | 11.753394 | 3.495580 | 15.488182 | 15.437850 | 168.14788 | 0.3451347 |  3.110983 |  2.588276 |  5.119293 |\n",
       "| H2_M2 |  9.5131320 |  5.374453 |  4.805051 |  4.739365 |  58.47001 |  7.262239 | 1.0461215 | 1.0934472 | 0.7599751 |  36.28131 | ... | 0.1771512 |  8.725095 | 9.145124 |  6.794488 | 11.592836 |  64.08393 | 0.1144920 |  4.413176 |  3.156546 | 10.499698 |\n",
       "| H3_M2 |  3.7851583 |  6.436040 |  5.401636 |  5.947044 |  76.89041 | 11.232464 | 1.6638533 | 0.6801849 | 2.0280609 |  61.33589 | ... | 0.2083250 |  9.490481 | 7.287496 | 10.235395 |  9.011026 |  92.85581 | 0.3376622 |  4.837477 |  5.722552 | 11.651631 |\n",
       "| H4_M2 |  3.2194777 |  5.574095 |  4.368893 |  4.337709 |  69.84212 |  7.090677 | 1.3251505 | 1.4034630 | 1.1174938 |  60.46182 | ... | 0.2312577 | 12.908910 | 8.832650 |  6.897687 | 12.547200 |  64.07542 | 0.2076163 |  4.293797 |  3.405970 | 13.504495 |\n",
       "| H5_M2 |  6.8978050 |  7.678760 |  6.352886 |  8.303599 |  93.49347 | 12.078872 | 2.7229172 | 1.2575749 | 2.1251931 |  63.95890 | ... | 0.2991516 | 15.055325 | 4.400307 | 14.018686 | 18.127956 | 104.09151 | 0.3889227 |  4.870853 |  3.995455 |  7.613991 |\n",
       "| H6_M2 | 11.7007183 |  5.477546 | 12.174972 |  8.433634 |  70.72438 |  7.989255 | 1.2106399 | 0.9336486 | 1.2124230 |  68.50617 | ... | 0.2494874 | 11.402501 | 7.884508 |  7.474772 | 17.982980 |  75.30731 | 0.1580891 |  5.863657 |  4.234546 |  9.363324 |\n",
       "| H7_M2 |  4.1360838 |  5.539586 |  6.709532 |  6.095228 |  70.72292 |  8.209539 | 1.0243401 | 0.7643814 | 1.6027967 |  55.01280 | ... | 0.4416041 | 14.535782 | 5.441077 |  9.145702 |  8.664025 |  84.47785 | 0.4405437 |  3.402666 |  3.518368 |  8.346571 |\n",
       "| H8_M2 | 11.3515672 |  5.741657 |  7.820654 |  6.383644 |  87.85976 | 10.891044 | 1.9670508 | 1.1083200 | 1.6596006 |  75.22927 | ... | 0.3031829 | 14.791714 | 2.690166 | 12.217876 | 16.147066 | 123.52323 | 0.1939421 |  4.328526 |  3.255499 |  5.571229 |\n",
       "| H9_M2 | 10.9632697 |  6.994819 |  7.254734 |  5.911765 |  68.20176 |  8.818941 | 2.0426009 | 0.9322654 | 1.5913147 |  51.46342 | ... | 0.1432313 | 13.575997 | 6.603612 | 11.886832 |  9.242520 |  90.10049 | 0.3069145 |  3.482911 |  2.567210 |  8.537749 |\n",
       "\n"
      ],
      "text/plain": [
       "        CEACAM1    CDKN1A    HIST1H2BM LRP1      TLN1      PTGS1     GAS2L1   \n",
       "CI10_M1  6.247454   5.173722 10.420602  6.989592  45.84103  6.017560 1.1512910\n",
       "CI11_M1 14.772961   5.430353  3.172594  8.119331 120.65593 16.849188 1.5137082\n",
       "CI12_M1  9.417403   5.624813 26.555932 10.765511 109.22025 12.057157 1.6855875\n",
       "CI13_M1 15.692822   9.627065 12.907428  7.195428  85.73930 14.734046 3.2634495\n",
       "CI14_M1  6.429964   6.128547  4.364496  7.797441  57.85350  6.473898 2.0446986\n",
       "CI15_M1  8.672950   2.575819  9.328786  4.766591  40.80765  6.087502 0.6423328\n",
       "CI16_M1  8.574016   7.402613 19.967648 10.448084 117.41681 11.289701 3.4160223\n",
       "CI17_M1  8.601504   7.498905  4.974642  6.649139  87.22010 12.565416 3.0069626\n",
       "CI18_M1 76.781981   4.268224  7.418300  7.903451  93.70353  9.180268 0.9990692\n",
       "CI19_M1  6.822273   8.776448 10.313096  7.540249 109.67644 11.250786 3.2577237\n",
       "CI20_M1  7.750241   2.391668 22.296354  5.081846  77.58449  9.829821 0.7015025\n",
       "CI21_M1  9.561460   5.134976  9.925921  6.382833  95.82025 11.387693 1.6797197\n",
       "CI22_M1  9.115424   6.911053  7.850810  6.311562  84.58660 10.529570 2.3566764\n",
       "CI23_M1 11.695502   7.997616  8.971549 10.789032  97.90383 10.866431 2.3286443\n",
       "CI24_M1  9.139272  10.713559  9.913487  8.542533 121.55025 28.635735 6.7087325\n",
       "CI25_M1  4.755585   7.802013 25.460633  8.135105 102.04963 16.360030 6.2761570\n",
       "CI26_M1 11.329779   6.811355  4.425268  9.297277  68.96260  8.749124 1.6669113\n",
       "CI27_M1  8.871830   8.067775 18.840927  8.550488 113.11303 11.759842 3.1719364\n",
       "CI28_M1  6.469214  10.576148 10.877019  8.788590 128.36683 22.240457 3.4474204\n",
       "CI29_M1  5.812238   9.529475 44.364401  7.123252  91.94611 14.809567 4.1305709\n",
       "CI2_M1   4.194309   5.827073  3.754889  9.392043  75.39593  8.423481 1.8342597\n",
       "CI30_M1  9.717015   4.835756 13.417257  7.872717  82.03145  8.989033 1.4700966\n",
       "CI31_M1 15.211822  13.925130 40.403056  7.211716 111.11430 14.308556 5.7372571\n",
       "CI32_M1 10.961915   4.229505 14.254912 11.781448  65.83195  7.696625 0.8583250\n",
       "CI33_M1  8.817439   5.317055  6.654474  8.283985  73.55683  7.027098 2.4541843\n",
       "CI34_M1  8.172296   1.846953 11.635393  5.517338  80.32262  8.509480 0.8901718\n",
       "CI35_M1  5.274239   6.851788 17.211580  4.919116  84.69639  9.588948 2.3863771\n",
       "CI36_M1  7.280508   4.935494  7.615000  5.503009  71.68903  6.446698 1.0663251\n",
       "CI37_M1 13.690766   3.052867  4.188272  6.750944  78.98548  5.046461 1.2772316\n",
       "CI38_M1 17.965668   8.214332  4.542271  6.803555  85.02755 14.755565 3.1739308\n",
       "...     ...        ...       ...       ...       ...       ...       ...      \n",
       "CI14_M2  9.9657239  4.973557  9.508139  5.746542  63.49505  7.191171 1.5524247\n",
       "CI15_M2  6.0012165 12.768997  8.133377 10.543735 147.61229 33.962257 6.8027814\n",
       "CI16_M2  8.2661661  5.746875  7.163424  7.538302  66.50727  6.969583 0.8901935\n",
       "CI1_M2  26.3258846  6.666647  3.551178 19.021485 102.78421  9.866350 4.5061960\n",
       "CI2_M2  17.8579005 22.385570 65.091770 23.941791 136.99370 19.740941 5.9346182\n",
       "CI3_M2   9.7947637  6.952116  4.370243  6.284637  85.53996 14.043375 2.6995989\n",
       "CI4_M2  13.0629437  7.808864  6.547168 19.689491 115.75507 13.599435 3.6659599\n",
       "CI5_M2  17.5348198 11.658796  5.260901 18.279998 152.88220 17.989402 5.0203115\n",
       "CI6_M2   9.0440420  7.501829 10.655079  8.314355 111.18224 13.879871 2.3899658\n",
       "CI7_M2   3.8010607  3.987645  6.224227  8.568891  66.95682  8.005872 2.2223242\n",
       "CI8_M2  19.0346446  8.642778  7.288064 15.090421 131.43004 18.691933 4.4320593\n",
       "CI9_M2   9.4369563 10.487389 11.521556 16.266730 142.56605 19.621780 5.4576333\n",
       "H10_M2   9.8596631  4.935476  4.865302  6.621051  92.74582  7.415478 1.3423285\n",
       "H11_M2   7.4018087  8.001770  6.984919  6.478599  91.24968 16.362154 4.1018804\n",
       "H12_M2   3.5362827  6.773154  3.273081  8.672779  86.70228  9.456057 1.9313447\n",
       "H13_M2   3.8375949  6.140059  2.388479 12.149473  72.61177  8.365602 2.8476970\n",
       "H14_M2   7.5323984  6.252021  6.359906  8.555220  81.38881 10.988204 3.3043328\n",
       "H15_M2   3.4271779  6.812394  7.504327  6.728046  66.63280 10.450908 2.2157150\n",
       "H16_M2   7.2797231  4.486421  4.610841  6.490900  70.40234  8.895183 1.8822946\n",
       "H17_M2  -0.8934062  8.383628  8.022827 17.312679 148.05374 18.368844 4.2384692\n",
       "H18_M2   4.8899322  5.237745  9.009684  6.777902  85.15867 11.491488 2.9638471\n",
       "H1_M2    3.1424656  6.870582  4.439570  4.831135  93.74323 13.580404 2.7292063\n",
       "H2_M2    9.5131320  5.374453  4.805051  4.739365  58.47001  7.262239 1.0461215\n",
       "H3_M2    3.7851583  6.436040  5.401636  5.947044  76.89041 11.232464 1.6638533\n",
       "H4_M2    3.2194777  5.574095  4.368893  4.337709  69.84212  7.090677 1.3251505\n",
       "H5_M2    6.8978050  7.678760  6.352886  8.303599  93.49347 12.078872 2.7229172\n",
       "H6_M2   11.7007183  5.477546 12.174972  8.433634  70.72438  7.989255 1.2106399\n",
       "H7_M2    4.1360838  5.539586  6.709532  6.095228  70.72292  8.209539 1.0243401\n",
       "H8_M2   11.3515672  5.741657  7.820654  6.383644  87.85976 10.891044 1.9670508\n",
       "H9_M2   10.9632697  6.994819  7.254734  5.911765  68.20176  8.818941 2.0426009\n",
       "        RIN1      ESAM      FERMT3    ... SAMD14        RCN3      ZNF721   \n",
       "CI10_M1 1.0820738 1.1630736  40.61939 ...  0.1074809821  5.887007  8.706591\n",
       "CI11_M1 0.9209421 3.2943445  58.19307 ...  0.4015253855 14.995051  1.990680\n",
       "CI12_M1 1.0373802 1.4130408  67.27821 ...  0.3711277766 17.813320  2.439553\n",
       "CI13_M1 1.5315343 2.3156650  80.37288 ...  0.6544179838 19.212617  1.690579\n",
       "CI14_M1 1.3107863 0.9924778  66.50110 ...  0.1383488808 17.019967  7.738735\n",
       "CI15_M1 0.1966839 0.4083096  21.47326 ... -0.0002754677  5.857755  9.181593\n",
       "CI16_M1 1.5119110 2.0530439 125.09793 ...  0.3730862449 23.577842  4.400327\n",
       "CI17_M1 0.8724442 1.7779605  96.64597 ...  0.2856752801 17.064731  5.784207\n",
       "CI18_M1 0.3161552 1.3994956  65.64827 ...  0.1126752237  9.462103  4.284585\n",
       "CI19_M1 1.2173325 2.4569183 108.67124 ...  0.4984018902 16.801326  5.112724\n",
       "CI20_M1 0.1964972 0.5833746  19.69913 ...  0.0663090618  5.573502  6.854428\n",
       "CI21_M1 0.4683285 1.7061300  56.00601 ...  0.3078312881 11.179851  5.469848\n",
       "CI22_M1 1.4281557 1.3576780  74.68451 ...  0.3575814674 12.181411  7.097973\n",
       "CI23_M1 1.2707209 1.4862491  85.69190 ...  0.2488665865  9.725153  4.760948\n",
       "CI24_M1 1.0542555 5.3618642 113.62910 ...  0.9678976616 15.160282  3.515555\n",
       "CI25_M1 1.2796663 2.6929373  85.94225 ...  0.5734460860 14.047384  4.116526\n",
       "CI26_M1 1.5416175 1.0729486  87.46548 ...  0.1282972730 14.754533  6.449105\n",
       "CI27_M1 1.0912645 2.9160104  92.86391 ...  0.3849585350 14.515287  5.435242\n",
       "CI28_M1 1.0678985 3.4736125  85.92633 ...  0.7883587092  7.822598  4.125840\n",
       "CI29_M1 0.6015792 3.6977667  91.51256 ...  0.6235281578  9.053106  5.692558\n",
       "CI2_M1  2.0494035 1.2983747  72.69546 ...  0.1062903506  8.371721  5.327776\n",
       "CI30_M1 1.1450549 1.6846974  55.21024 ...  0.1449870550 10.981881  6.481088\n",
       "CI31_M1 1.4290265 4.0125549  89.37777 ...  0.2631320515  8.694204  4.384689\n",
       "CI32_M1 1.1147194 0.6957431  35.24167 ...  0.0334171072  9.193700 10.429082\n",
       "CI33_M1 0.9830317 1.0221378  56.14865 ...  0.0962471823 13.115530  8.806022\n",
       "CI34_M1 0.5056455 1.1115774  24.93331 ...  0.2325667145  7.955089  4.488649\n",
       "CI35_M1 0.9273129 1.7342028  89.72808 ...  0.4147135817  9.288803  6.253961\n",
       "CI36_M1 0.5432024 0.7991698  33.06666 ...  0.0728382361  9.482732  8.326103\n",
       "CI37_M1 1.3617523 0.5810936  50.57868 ...  0.0682339854 18.511259  5.451180\n",
       "CI38_M1 1.4810561 2.8830909 101.87159 ...  0.5720471792 14.254017  5.265568\n",
       "...     ...       ...       ...           ...           ...       ...      \n",
       "CI14_M2 1.3394707 0.9670881  49.14298 ... 0.1397215     16.705969 6.298449 \n",
       "CI15_M2 1.4333200 5.6819992 126.24141 ... 2.2629779     24.858709 3.060898 \n",
       "CI16_M2 1.7297539 1.1494262  53.05206 ... 0.1235531     16.882642 3.753820 \n",
       "CI1_M2  1.6192554 1.1397554  82.88726 ... 0.1064559     24.767158 1.421268 \n",
       "CI2_M2  2.1165978 5.3000589 147.18243 ... 0.5443543     11.938579 2.861103 \n",
       "CI3_M2  0.7043711 2.5773316  70.54973 ... 0.5852883     23.638365 3.846588 \n",
       "CI4_M2  2.4526758 2.2963312  81.68812 ... 0.2410217     18.201661 4.506789 \n",
       "CI5_M2  2.6850843 3.4586944 115.62581 ... 0.7337378     29.832530 1.779912 \n",
       "CI6_M2  1.1384503 1.6260914  90.75322 ... 0.5547403     16.448992 2.299146 \n",
       "CI7_M2  1.0524420 0.9029962  64.34727 ... 0.1858221     26.977462 8.681459 \n",
       "CI8_M2  1.0142476 3.2454241  85.09522 ... 0.3920280     19.590853 2.850097 \n",
       "CI9_M2  1.1200095 3.1015649 113.16389 ... 1.2123170     23.440866 1.750519 \n",
       "H10_M2  1.3814366 1.1561462  80.31715 ... 0.1626836     13.542578 3.950505 \n",
       "H11_M2  1.1360337 2.2659680  78.45263 ... 0.3214273     13.757541 4.194272 \n",
       "H12_M2  1.4458496 1.1897096  57.84321 ... 0.1440418     18.795567 6.791343 \n",
       "H13_M2  1.5262736 1.1547218  57.10302 ... 0.1840721     13.254711 8.371777 \n",
       "H14_M2  0.7054981 2.1873904  74.41406 ... 0.3672776     15.887127 4.162301 \n",
       "H15_M2  0.8576239 1.4186986  61.45981 ... 0.2177582     10.605920 5.959314 \n",
       "H16_M2  1.4476787 1.4454175  59.14245 ... 0.2338484     17.138769 7.366509 \n",
       "H17_M2  1.5579477 3.3822195  96.84880 ... 0.5102994     10.041922 3.406321 \n",
       "H18_M2  1.3845603 1.9482176  69.47244 ... 0.4269212     14.873487 4.218211 \n",
       "H1_M2   0.8915546 2.5672698  69.52974 ... 0.3722308     11.753394 3.495580 \n",
       "H2_M2   1.0934472 0.7599751  36.28131 ... 0.1771512      8.725095 9.145124 \n",
       "H3_M2   0.6801849 2.0280609  61.33589 ... 0.2083250      9.490481 7.287496 \n",
       "H4_M2   1.4034630 1.1174938  60.46182 ... 0.2312577     12.908910 8.832650 \n",
       "H5_M2   1.2575749 2.1251931  63.95890 ... 0.2991516     15.055325 4.400307 \n",
       "H6_M2   0.9336486 1.2124230  68.50617 ... 0.2494874     11.402501 7.884508 \n",
       "H7_M2   0.7643814 1.6027967  55.01280 ... 0.4416041     14.535782 5.441077 \n",
       "H8_M2   1.1083200 1.6596006  75.22927 ... 0.3031829     14.791714 2.690166 \n",
       "H9_M2   0.9322654 1.5913147  51.46342 ... 0.1432313     13.575997 6.603612 \n",
       "        C6orf25   SLC19A1   NRGN      TGFB1I1    STAB1     FAM129B   ZNF141   \n",
       "CI10_M1  3.922300  7.750144  42.05165 0.30137085 4.036602  3.273388  12.710151\n",
       "CI11_M1 16.452014 15.044303 159.05075 0.27622349 3.026577  2.948586   5.253768\n",
       "CI12_M1 14.267003 14.201756 154.33414 0.26001661 5.876516  2.850877   5.629506\n",
       "CI13_M1 17.516868 20.780258 203.08055 0.46303571 5.082050  3.182331   3.923673\n",
       "CI14_M1  3.164050 15.132536  52.92093 0.11691464 7.149885  4.858816  10.462863\n",
       "CI15_M1  4.861145  4.182415  26.31216 0.04297569 2.209446  1.338082  14.214997\n",
       "CI16_M1 12.282652 18.053563 134.20535 0.20834313 7.986686  5.260070   7.013746\n",
       "CI17_M1 15.552777 15.176090 146.52231 0.40528431 5.698938  4.921618   7.412752\n",
       "CI18_M1  8.474778 10.583830  66.88872 0.16747675 8.218248  6.061842   5.754718\n",
       "CI19_M1 12.096775 16.989260 133.21236 0.27286566 4.097411  5.250153   6.719784\n",
       "CI20_M1 13.278466  3.509444  61.45293 0.23610110 2.205622  1.821476  10.032702\n",
       "CI21_M1 10.989796 18.137461 109.12690 0.20862075 4.109575  2.954372   7.228788\n",
       "CI22_M1 10.612490 12.769103 104.83450 0.22273130 5.374234  4.556386  10.179693\n",
       "CI23_M1 11.607576 16.394716 109.45298 0.29712325 6.090105  5.273424   6.131416\n",
       "CI24_M1 36.763344 13.994528 418.85635 1.60571986 4.960168  5.128826   4.785951\n",
       "CI25_M1 21.225121 16.759777 235.28416 0.57329039 6.814515  6.457720   4.791537\n",
       "CI26_M1  6.438735 14.305341  75.20930 0.07593994 6.518691  5.094408   9.261814\n",
       "CI27_M1 22.010607 13.307923 184.68334 0.50038354 4.517854  4.706181   6.634810\n",
       "CI28_M1 29.812425 11.258583 278.30615 1.19872121 5.916623  5.235187   5.988551\n",
       "CI29_M1 21.004006 11.003765 235.62638 0.68596592 4.319776  5.208600   7.078691\n",
       "CI2_M1   6.411552 11.782588  72.79550 0.14654626 6.612606  5.251025   9.130746\n",
       "CI30_M1 10.163499 13.098420  82.67848 0.18650267 3.508194  3.853759   9.381350\n",
       "CI31_M1 29.736694 10.421289 277.73970 0.57595087 2.574422  3.882145   5.235991\n",
       "CI32_M1  3.847370  8.308675  34.10065 0.04321591 7.682992  4.043860  14.979882\n",
       "CI33_M1  7.362298 17.947191  65.97092 0.11108874 3.827159  3.892313  10.002545\n",
       "CI34_M1  9.019464  6.025254  63.78488 0.10308424 2.731744  1.485912   8.063117\n",
       "CI35_M1 13.049062 11.310308 134.35330 0.38050118 2.812461  3.576260   8.511481\n",
       "CI36_M1  5.464223  7.570658  36.21803 0.04702351 2.085740  2.413097  11.094413\n",
       "CI37_M1  4.042588 23.128397  45.39621 0.05766130 5.329237  2.930386   7.147055\n",
       "CI38_M1 21.656489 12.040287 168.09581 0.45029886 4.334323  4.826969   8.451962\n",
       "...     ...       ...       ...       ...        ...       ...       ...      \n",
       "CI14_M2  5.488234 17.534047  62.89365 0.2055814   6.165464  3.511488 10.040102\n",
       "CI15_M2 61.309111 21.158778 556.66586 1.5191287   4.950899  3.909003  4.157393\n",
       "CI16_M2  5.575198 19.124553  61.54329 0.1528993   5.290877  3.431917  7.162803\n",
       "CI1_M2   9.119440 22.191927  91.55141 0.1176884  11.855278  8.299429  2.852510\n",
       "CI2_M2  31.918938 17.306277 265.14962 0.7514614  11.377510 11.787407  4.057031\n",
       "CI3_M2  15.118917 20.386308 147.54776 0.6355881   3.091787  4.121492  5.716208\n",
       "CI4_M2  11.703718 16.191508 119.44741 0.1631540   6.470185  6.690582  7.002531\n",
       "CI5_M2  24.647989 27.762419 247.99375 0.6263323   8.200992  6.310780  3.420009\n",
       "CI6_M2  15.975656 17.160005 152.02741 0.3761811   5.533957  4.892044  4.170417\n",
       "CI7_M2   7.093109 12.474515  83.70432 0.2930720   8.810322  4.116097  9.981603\n",
       "CI8_M2  23.124510 19.919599 253.83632 0.4776278   6.858512  5.113484  4.183584\n",
       "CI9_M2  30.921640 25.330535 297.08748 0.8497503   4.587549  5.868317  2.794468\n",
       "H10_M2   8.128290 16.244286  88.81678 0.1732637   6.067784  4.461219  5.569935\n",
       "H11_M2  19.351159 14.050799 185.70267 0.4894899   5.499058  4.467094  7.037598\n",
       "H12_M2   7.949149 18.726469  73.64571 0.1423127   5.763774  3.659144  9.474099\n",
       "H13_M2   6.299344 10.444895  72.28765 0.1771408   5.295705  4.527516 12.631679\n",
       "H14_M2  12.813854 13.815235 136.54144 0.4273270   6.975352  4.915162  7.224498\n",
       "H15_M2  11.058541  9.003990 102.77684 0.2150325   3.950548  5.315682 10.042616\n",
       "H16_M2   9.529158 14.198769  82.53053 0.2770710   6.928587  4.553598  8.455479\n",
       "H17_M2  25.211952  7.471712 215.32541 0.5593853   9.149842  6.246324  5.810516\n",
       "H18_M2  13.927122 10.403452 140.28982 0.3442496   3.355079  3.833390  6.076729\n",
       "H1_M2   15.488182 15.437850 168.14788 0.3451347   3.110983  2.588276  5.119293\n",
       "H2_M2    6.794488 11.592836  64.08393 0.1144920   4.413176  3.156546 10.499698\n",
       "H3_M2   10.235395  9.011026  92.85581 0.3376622   4.837477  5.722552 11.651631\n",
       "H4_M2    6.897687 12.547200  64.07542 0.2076163   4.293797  3.405970 13.504495\n",
       "H5_M2   14.018686 18.127956 104.09151 0.3889227   4.870853  3.995455  7.613991\n",
       "H6_M2    7.474772 17.982980  75.30731 0.1580891   5.863657  4.234546  9.363324\n",
       "H7_M2    9.145702  8.664025  84.47785 0.4405437   3.402666  3.518368  8.346571\n",
       "H8_M2   12.217876 16.147066 123.52323 0.1939421   4.328526  3.255499  5.571229\n",
       "H9_M2   11.886832  9.242520  90.10049 0.3069145   3.482911  2.567210  8.537749"
      ]
     },
     "metadata": {},
     "output_type": "display_data"
    }
   ],
   "source": [
    "x"
   ]
  },
  {
   "cell_type": "code",
   "execution_count": null,
   "id": "01fafa22-37c1-4780-80f7-b6c82cf300da",
   "metadata": {},
   "outputs": [],
   "source": []
  },
  {
   "cell_type": "code",
   "execution_count": 38,
   "id": "b493e28e-80c5-414f-b4ac-3e76ffb4fe80",
   "metadata": {},
   "outputs": [],
   "source": [
    "options(repr.plot.width = 6)"
   ]
  },
  {
   "cell_type": "code",
   "execution_count": 91,
   "id": "360f888f-afc7-41e7-9d3c-283c8914f6bd",
   "metadata": {},
   "outputs": [],
   "source": [
    "set.seed(0)"
   ]
  },
  {
   "cell_type": "code",
   "execution_count": 92,
   "id": "8ec7bf55-3068-4fae-8580-cde38eae11ca",
   "metadata": {},
   "outputs": [],
   "source": [
    "#  set.seed(111)"
   ]
  },
  {
   "cell_type": "code",
   "execution_count": 93,
   "id": "dd25da7b-009d-46a7-9e48-0fbd6e6a1e6c",
   "metadata": {
    "scrolled": true
   },
   "outputs": [],
   "source": [
    "rf = randomForest(as.factor(y)~.,data = x,ntree =1000,important=TRUE,proximity=TRUE)"
   ]
  },
  {
   "cell_type": "code",
   "execution_count": 94,
   "id": "1b74320e-150b-4207-b95d-5aa4a8ab847c",
   "metadata": {},
   "outputs": [
    {
     "data": {
      "image/png": "[encoded data removed]",
      "text/plain": [
       "Plot with title \"rf\""
      ]
     },
     "metadata": {
      "image/png": {
       "height": 420,
       "width": 360
      }
     },
     "output_type": "display_data"
    }
   ],
   "source": [
    "plot(rf)"
   ]
  },
  {
   "cell_type": "code",
   "execution_count": 18,
   "id": "b7ea5ec0-bed9-4c41-abb4-4c8652566413",
   "metadata": {},
   "outputs": [
    {
     "data": {
      "text/html": [
       "<strong>png:</strong> 2"
      ],
      "text/latex": [
       "\\textbf{png:} 2"
      ],
      "text/markdown": [
       "**png:** 2"
      ],
      "text/plain": [
       "png \n",
       "  2 "
      ]
     },
     "metadata": {},
     "output_type": "display_data"
    }
   ],
   "source": [
    "pdf('forest.pdf',height = 6,width = 6)\n",
    "plot(rf)\n",
    "dev.off()"
   ]
  },
  {
   "cell_type": "code",
   "execution_count": 19,
   "id": "7767331a-f20a-4eda-94b9-4a7c991c20fc",
   "metadata": {},
   "outputs": [],
   "source": [
    "trees = which.min(rf$err.rate[,1])"
   ]
  },
  {
   "cell_type": "code",
   "execution_count": 20,
   "id": "acb3c396-1756-4cee-9427-27cd6c654924",
   "metadata": {},
   "outputs": [],
   "source": [
    "rf = randomForest(as.factor(y)~.,data = x,ntree =trees,important=TRUE,proximity=TRUE)"
   ]
  },
  {
   "cell_type": "code",
   "execution_count": 21,
   "id": "54d38c6c-84d5-4183-b154-e8b9c2e3e988",
   "metadata": {},
   "outputs": [],
   "source": [
    "importance = importance(rf)"
   ]
  },
  {
   "cell_type": "code",
   "execution_count": 22,
   "id": "30c391f0-d3b7-4156-8ee9-72ea910c3b1c",
   "metadata": {},
   "outputs": [
    {
     "data": {
      "text/html": [
       "<strong>png:</strong> 2"
      ],
      "text/latex": [
       "\\textbf{png:} 2"
      ],
      "text/markdown": [
       "**png:** 2"
      ],
      "text/plain": [
       "png \n",
       "  2 "
      ]
     },
     "metadata": {},
     "output_type": "display_data"
    }
   ],
   "source": [
    "pdf('forest2.pdf',height = 6,width = 4)\n",
    "varImpPlot(rf,main = '')\n",
    "dev.off()"
   ]
  },
  {
   "cell_type": "code",
   "execution_count": 23,
   "id": "5266a68b-0af6-43ba-9c5e-ccd5274e258e",
   "metadata": {},
   "outputs": [],
   "source": [
    "options(repr.plot.width = 4)"
   ]
  },
  {
   "cell_type": "code",
   "execution_count": 24,
   "id": "fa486741-b1ff-4ff1-94a4-a7e2d11ec6b6",
   "metadata": {},
   "outputs": [
    {
     "data": {
      "image/png": "[encoded data removed]",
      "text/plain": [
       "Plot with title \"\""
      ]
     },
     "metadata": {
      "image/png": {
       "height": 420,
       "width": 240
      }
     },
     "output_type": "display_data"
    }
   ],
   "source": [
    "varImpPlot(rf,main = '')"
   ]
  },
  {
   "cell_type": "code",
   "execution_count": 25,
   "id": "8e6e85d1-8986-4b0c-988a-c4da8658c182",
   "metadata": {},
   "outputs": [],
   "source": [
    "rfGenes=importance[order(importance[, \"MeanDecreaseGini\"], decreasing  = TRUE),] #重要性评分大于2的基因"
   ]
  },
  {
   "cell_type": "code",
   "execution_count": 26,
   "id": "810d5669-9db3-4956-b629-6ab2df7fb760",
   "metadata": {},
   "outputs": [
    {
     "data": {
      "text/html": [
       "<style>\n",
       ".dl-inline {width: auto; margin:0; padding: 0}\n",
       ".dl-inline>dt, .dl-inline>dd {float: none; width: auto; display: inline-block}\n",
       ".dl-inline>dt::after {content: \":\\0020\"; padding-right: .5ex}\n",
       ".dl-inline>dt:not(:first-of-type) {padding-left: .5ex}\n",
       "</style><dl class=dl-inline><dt>AC139426.2</dt><dd>7.7138580646886</dd><dt>PLXNB3</dt><dd>4.83272297124428</dd><dt>ITGA2B</dt><dd>4.75257716013084</dd><dt>HIST1H3F</dt><dd>4.53464054971873</dd><dt>RNF208</dt><dd>3.67750172050517</dd><dt>HBE1</dt><dd>3.38559672301828</dd><dt>SAMD14</dt><dd>3.21926047827476</dd><dt>MSLN</dt><dd>3.10428933874164</dd><dt>GAD1</dt><dd>3.10085187674355</dd><dt>SEC14L5</dt><dd>2.84165744982292</dd><dt>OTOF</dt><dd>2.6493119311133</dd><dt>CTAGE6</dt><dd>2.54450234103741</dd><dt>IGF2</dt><dd>2.50727623757543</dd><dt>SCGB1C1</dt><dd>2.36611420198331</dd><dt>MAP1B</dt><dd>2.35913737278449</dd><dt>POU2F3</dt><dd>2.24359100480682</dd><dt>RASD2</dt><dd>1.78787351282334</dd><dt>C18orf56</dt><dd>1.33143729991981</dd></dl>\n"
      ],
      "text/latex": [
       "\\begin{description*}\n",
       "\\item[AC139426.2] 7.7138580646886\n",
       "\\item[PLXNB3] 4.83272297124428\n",
       "\\item[ITGA2B] 4.75257716013084\n",
       "\\item[HIST1H3F] 4.53464054971873\n",
       "\\item[RNF208] 3.67750172050517\n",
       "\\item[HBE1] 3.38559672301828\n",
       "\\item[SAMD14] 3.21926047827476\n",
       "\\item[MSLN] 3.10428933874164\n",
       "\\item[GAD1] 3.10085187674355\n",
       "\\item[SEC14L5] 2.84165744982292\n",
       "\\item[OTOF] 2.6493119311133\n",
       "\\item[CTAGE6] 2.54450234103741\n",
       "\\item[IGF2] 2.50727623757543\n",
       "\\item[SCGB1C1] 2.36611420198331\n",
       "\\item[MAP1B] 2.35913737278449\n",
       "\\item[POU2F3] 2.24359100480682\n",
       "\\item[RASD2] 1.78787351282334\n",
       "\\item[C18orf56] 1.33143729991981\n",
       "\\end{description*}\n"
      ],
      "text/markdown": [
       "AC139426.2\n",
       ":   7.7138580646886PLXNB3\n",
       ":   4.83272297124428ITGA2B\n",
       ":   4.75257716013084HIST1H3F\n",
       ":   4.53464054971873RNF208\n",
       ":   3.67750172050517HBE1\n",
       ":   3.38559672301828SAMD14\n",
       ":   3.21926047827476MSLN\n",
       ":   3.10428933874164GAD1\n",
       ":   3.10085187674355SEC14L5\n",
       ":   2.84165744982292OTOF\n",
       ":   2.6493119311133CTAGE6\n",
       ":   2.54450234103741IGF2\n",
       ":   2.50727623757543SCGB1C1\n",
       ":   2.36611420198331MAP1B\n",
       ":   2.35913737278449POU2F3\n",
       ":   2.24359100480682RASD2\n",
       ":   1.78787351282334C18orf56\n",
       ":   1.33143729991981\n",
       "\n"
      ],
      "text/plain": [
       "AC139426.2     PLXNB3     ITGA2B   HIST1H3F     RNF208       HBE1     SAMD14 \n",
       "  7.713858   4.832723   4.752577   4.534641   3.677502   3.385597   3.219260 \n",
       "      MSLN       GAD1    SEC14L5       OTOF     CTAGE6       IGF2    SCGB1C1 \n",
       "  3.104289   3.100852   2.841657   2.649312   2.544502   2.507276   2.366114 \n",
       "     MAP1B     POU2F3      RASD2   C18orf56 \n",
       "  2.359137   2.243591   1.787874   1.331437 "
      ]
     },
     "metadata": {},
     "output_type": "display_data"
    }
   ],
   "source": [
    "rfGenes"
   ]
  },
  {
   "cell_type": "code",
   "execution_count": 27,
   "id": "d0c2f4ec-8513-471d-bcf2-bb7c8f5b0ee4",
   "metadata": {},
   "outputs": [],
   "source": [
    "rfGenes=names(rfGenes[rfGenes>30]) \n",
    "write.table(rfGenes,file=\"rfGenes.txt\",sep=\"\\t\",quote=F,col.names=F,row.names=F) #输出表达量"
   ]
  },
  {
   "cell_type": "code",
   "execution_count": 28,
   "id": "30abda57-fcc9-4eae-9a75-a83f5868726d",
   "metadata": {},
   "outputs": [],
   "source": [
    "sigExp=expr[rfGenes,]\n",
    "write.table(data.frame(ID=rownames(sigExp),sigExp),file=\"rfGeneExp.txt\",sep=\"\\t\",quote=F,col.names=T,row.names=F) "
   ]
  },
  {
   "cell_type": "markdown",
   "id": "af18f8e6-2aaf-42ec-a432-c763909b210d",
   "metadata": {},
   "source": [
    "### svm"
   ]
  },
  {
   "cell_type": "code",
   "execution_count": 29,
   "id": "41b7ef28-51d0-44d3-a286-f77838214e22",
   "metadata": {
    "scrolled": true
   },
   "outputs": [
    {
     "name": "stderr",
     "output_type": "stream",
     "text": [
      "Warning message:\n",
      "\"package 'ggplot2' was built under R version 4.2.3\"\n",
      "Warning message:\n",
      "\"package 'tibble' was built under R version 4.2.3\"\n",
      "Warning message:\n",
      "\"package 'tidyr' was built under R version 4.2.3\"\n",
      "Warning message:\n",
      "\"package 'readr' was built under R version 4.2.3\"\n",
      "Warning message:\n",
      "\"package 'purrr' was built under R version 4.2.3\"\n",
      "Warning message:\n",
      "\"package 'stringr' was built under R version 4.2.3\"\n",
      "Warning message:\n",
      "\"package 'forcats' was built under R version 4.2.3\"\n",
      "Warning message:\n",
      "\"package 'lubridate' was built under R version 4.2.3\"\n",
      "Warning message in system(\"timedatectl\", intern = TRUE):\n",
      "\"running command 'timedatectl' had status 1\"\n",
      "-- \u001b[1mAttaching core tidyverse packages\u001b[22m ------------------------ tidyverse 2.0.0 --\n",
      "\u001b[32mv\u001b[39m \u001b[34mforcats  \u001b[39m 1.0.0     \u001b[32mv\u001b[39m \u001b[34mreadr    \u001b[39m 2.1.4\n",
      "\u001b[32mv\u001b[39m \u001b[34mggplot2  \u001b[39m 3.5.1     \u001b[32mv\u001b[39m \u001b[34mstringr  \u001b[39m 1.5.0\n",
      "\u001b[32mv\u001b[39m \u001b[34mlubridate\u001b[39m 1.9.2     \u001b[32mv\u001b[39m \u001b[34mtibble   \u001b[39m 3.2.1\n",
      "\u001b[32mv\u001b[39m \u001b[34mpurrr    \u001b[39m 1.0.2     \u001b[32mv\u001b[39m \u001b[34mtidyr    \u001b[39m 1.3.1\n",
      "-- \u001b[1mConflicts\u001b[22m ------------------------------------------ tidyverse_conflicts() --\n",
      "\u001b[31mx\u001b[39m \u001b[34mrandomForest\u001b[39m::\u001b[32mcombine()\u001b[39m masks \u001b[34mdplyr\u001b[39m::combine()\n",
      "\u001b[31mx\u001b[39m \u001b[34mdplyr\u001b[39m::\u001b[32mfilter()\u001b[39m         masks \u001b[34mstats\u001b[39m::filter()\n",
      "\u001b[31mx\u001b[39m \u001b[34mdplyr\u001b[39m::\u001b[32mlag()\u001b[39m            masks \u001b[34mstats\u001b[39m::lag()\n",
      "\u001b[31mx\u001b[39m \u001b[34mggplot2\u001b[39m::\u001b[32mmargin()\u001b[39m       masks \u001b[34mrandomForest\u001b[39m::margin()\n",
      "\u001b[36mi\u001b[39m Use the conflicted package (\u001b[3m\u001b[34m<http://conflicted.r-lib.org/>\u001b[39m\u001b[23m) to force all conflicts to become errors\n",
      "Warning message:\n",
      "\"package 'glmnet' was built under R version 4.2.3\"\n",
      "Loading required package: Matrix\n",
      "\n",
      "Warning message:\n",
      "\"package 'Matrix' was built under R version 4.2.3\"\n",
      "\n",
      "Attaching package: 'Matrix'\n",
      "\n",
      "\n",
      "The following objects are masked from 'package:tidyr':\n",
      "\n",
      "    expand, pack, unpack\n",
      "\n",
      "\n",
      "Loaded glmnet 4.1-8\n",
      "\n",
      "Loading required package: grid\n",
      "\n",
      "Loading required package: futile.logger\n",
      "\n",
      "Warning message:\n",
      "\"package 'futile.logger' was built under R version 4.2.3\"\n",
      "Warning message:\n",
      "\"package 'e1071' was built under R version 4.2.3\"\n",
      "Warning message:\n",
      "\"package 'caret' was built under R version 4.2.3\"\n",
      "Loading required package: lattice\n",
      "\n",
      "Warning message:\n",
      "\"package 'lattice' was built under R version 4.2.3\"\n",
      "\n",
      "Attaching package: 'caret'\n",
      "\n",
      "\n",
      "The following object is masked from 'package:purrr':\n",
      "\n",
      "    lift\n",
      "\n",
      "\n"
     ]
    }
   ],
   "source": [
    "library(tidyverse)\n",
    "library(glmnet)\n",
    "library(VennDiagram)\n",
    "library(e1071)\n",
    "library(caret)\n",
    "library(randomForest)"
   ]
  },
  {
   "cell_type": "code",
   "execution_count": 30,
   "id": "472ac3c8-2622-45ad-bed5-d55dd6217238",
   "metadata": {},
   "outputs": [],
   "source": [
    "y=as.numeric(as.factor(Type))"
   ]
  },
  {
   "cell_type": "code",
   "execution_count": 31,
   "id": "0ef5bbed-7962-4875-be66-73fec76ae3d9",
   "metadata": {},
   "outputs": [
    {
     "name": "stderr",
     "output_type": "stream",
     "text": [
      "Warning message:\n",
      "\"package 'future' was built under R version 4.2.3\"\n",
      "\n",
      "Attaching package: 'future'\n",
      "\n",
      "\n",
      "The following object is masked from 'package:caret':\n",
      "\n",
      "    cluster\n",
      "\n",
      "\n"
     ]
    }
   ],
   "source": [
    "library(future)\n",
    "plan(\"multisession\",workers=30)"
   ]
  },
  {
   "cell_type": "code",
   "execution_count": 32,
   "id": "f3828de2-689c-4390-b29d-717ab0f405eb",
   "metadata": {},
   "outputs": [],
   "source": [
    "set.seed(1)\n",
    "rfeControl = rfeControl(functions = caretFuncs,\n",
    "                        method = \"cv\", # 默认自助法重采样 boot\n",
    "                        saveDetails = T, # 保存预测值和变量重要性\n",
    "                        number = 5, # 重抽样次数\n",
    "                        allowParallel = T # 允许多线程，用这个之前你要先准备好多线程！\n",
    "                        )"
   ]
  },
  {
   "cell_type": "code",
   "execution_count": null,
   "id": "b94ada28-8880-42bc-aa04-58e9a8d835a7",
   "metadata": {
    "scrolled": true
   },
   "outputs": [
    {
     "name": "stderr",
     "output_type": "stream",
     "text": [
      "Warning message in train.default(x, y, ...):\n",
      "\"You are trying to do regression and your outcome only has two possible values Are you trying to do classification? If so, use a 2 level factor as your outcome column.\"\n",
      "Warning message in randomForest.default(x, y, mtry = param$mtry, ...):\n",
      "\"The response has five or fewer unique values.  Are you sure you want to do regression?\"\n",
      "Warning message in randomForest.default(x, y, mtry = param$mtry, ...):\n",
      "\"The response has five or fewer unique values.  Are you sure you want to do regression?\"\n",
      "Warning message in randomForest.default(x, y, mtry = param$mtry, ...):\n",
      "\"The response has five or fewer unique values.  Are you sure you want to do regression?\"\n",
      "Warning message in randomForest.default(x, y, mtry = param$mtry, ...):\n",
      "\"The response has five or fewer unique values.  Are you sure you want to do regression?\"\n",
      "Warning message in randomForest.default(x, y, mtry = param$mtry, ...):\n",
      "\"The response has five or fewer unique values.  Are you sure you want to do regression?\"\n",
      "Warning message in randomForest.default(x, y, mtry = param$mtry, ...):\n",
      "\"The response has five or fewer unique values.  Are you sure you want to do regression?\"\n",
      "Warning message in randomForest.default(x, y, mtry = param$mtry, ...):\n",
      "\"The response has five or fewer unique values.  Are you sure you want to do regression?\"\n",
      "Warning message in randomForest.default(x, y, mtry = param$mtry, ...):\n",
      "\"The response has five or fewer unique values.  Are you sure you want to do regression?\"\n",
      "Warning message in randomForest.default(x, y, mtry = param$mtry, ...):\n",
      "\"The response has five or fewer unique values.  Are you sure you want to do regression?\"\n",
      "Warning message in randomForest.default(x, y, mtry = param$mtry, ...):\n",
      "\"The response has five or fewer unique values.  Are you sure you want to do regression?\"\n",
      "Warning message in randomForest.default(x, y, mtry = param$mtry, ...):\n",
      "\"The response has five or fewer unique values.  Are you sure you want to do regression?\"\n",
      "Warning message in randomForest.default(x, y, mtry = param$mtry, ...):\n",
      "\"The response has five or fewer unique values.  Are you sure you want to do regression?\"\n",
      "Warning message in randomForest.default(x, y, mtry = param$mtry, ...):\n",
      "\"The response has five or fewer unique values.  Are you sure you want to do regression?\"\n",
      "Warning message in randomForest.default(x, y, mtry = param$mtry, ...):\n",
      "\"The response has five or fewer unique values.  Are you sure you want to do regression?\"\n",
      "Warning message in randomForest.default(x, y, mtry = param$mtry, ...):\n",
      "\"The response has five or fewer unique values.  Are you sure you want to do regression?\"\n",
      "Warning message in randomForest.default(x, y, mtry = param$mtry, ...):\n",
      "\"The response has five or fewer unique values.  Are you sure you want to do regression?\"\n",
      "Warning message in randomForest.default(x, y, mtry = param$mtry, ...):\n",
      "\"The response has five or fewer unique values.  Are you sure you want to do regression?\"\n",
      "Warning message in randomForest.default(x, y, mtry = param$mtry, ...):\n",
      "\"The response has five or fewer unique values.  Are you sure you want to do regression?\"\n",
      "Warning message in randomForest.default(x, y, mtry = param$mtry, ...):\n",
      "\"The response has five or fewer unique values.  Are you sure you want to do regression?\"\n",
      "Warning message in randomForest.default(x, y, mtry = param$mtry, ...):\n",
      "\"The response has five or fewer unique values.  Are you sure you want to do regression?\"\n",
      "Warning message in randomForest.default(x, y, mtry = param$mtry, ...):\n",
      "\"The response has five or fewer unique values.  Are you sure you want to do regression?\"\n",
      "Warning message in randomForest.default(x, y, mtry = param$mtry, ...):\n",
      "\"The response has five or fewer unique values.  Are you sure you want to do regression?\"\n",
      "Warning message in randomForest.default(x, y, mtry = param$mtry, ...):\n",
      "\"The response has five or fewer unique values.  Are you sure you want to do regression?\"\n",
      "Warning message in randomForest.default(x, y, mtry = param$mtry, ...):\n",
      "\"The response has five or fewer unique values.  Are you sure you want to do regression?\"\n",
      "Warning message in randomForest.default(x, y, mtry = param$mtry, ...):\n",
      "\"The response has five or fewer unique values.  Are you sure you want to do regression?\"\n",
      "Warning message in randomForest.default(x, y, mtry = param$mtry, ...):\n",
      "\"The response has five or fewer unique values.  Are you sure you want to do regression?\"\n",
      "Warning message in randomForest.default(x, y, mtry = param$mtry, ...):\n",
      "\"The response has five or fewer unique values.  Are you sure you want to do regression?\"\n",
      "Warning message in randomForest.default(x, y, mtry = param$mtry, ...):\n",
      "\"The response has five or fewer unique values.  Are you sure you want to do regression?\"\n",
      "Warning message in randomForest.default(x, y, mtry = param$mtry, ...):\n",
      "\"The response has five or fewer unique values.  Are you sure you want to do regression?\"\n",
      "Warning message in randomForest.default(x, y, mtry = param$mtry, ...):\n",
      "\"The response has five or fewer unique values.  Are you sure you want to do regression?\"\n",
      "Warning message in randomForest.default(x, y, mtry = param$mtry, ...):\n",
      "\"The response has five or fewer unique values.  Are you sure you want to do regression?\"\n",
      "Warning message in randomForest.default(x, y, mtry = param$mtry, ...):\n",
      "\"The response has five or fewer unique values.  Are you sure you want to do regression?\"\n",
      "Warning message in randomForest.default(x, y, mtry = param$mtry, ...):\n",
      "\"The response has five or fewer unique values.  Are you sure you want to do regression?\"\n",
      "Warning message in randomForest.default(x, y, mtry = param$mtry, ...):\n",
      "\"The response has five or fewer unique values.  Are you sure you want to do regression?\"\n",
      "Warning message in randomForest.default(x, y, mtry = param$mtry, ...):\n",
      "\"The response has five or fewer unique values.  Are you sure you want to do regression?\"\n",
      "Warning message in randomForest.default(x, y, mtry = param$mtry, ...):\n",
      "\"The response has five or fewer unique values.  Are you sure you want to do regression?\"\n",
      "Warning message in randomForest.default(x, y, mtry = param$mtry, ...):\n",
      "\"The response has five or fewer unique values.  Are you sure you want to do regression?\"\n",
      "Warning message in randomForest.default(x, y, mtry = param$mtry, ...):\n",
      "\"The response has five or fewer unique values.  Are you sure you want to do regression?\"\n",
      "Warning message in randomForest.default(x, y, mtry = param$mtry, ...):\n",
      "\"The response has five or fewer unique values.  Are you sure you want to do regression?\"\n",
      "Warning message in randomForest.default(x, y, mtry = param$mtry, ...):\n",
      "\"The response has five or fewer unique values.  Are you sure you want to do regression?\"\n",
      "Warning message in randomForest.default(x, y, mtry = param$mtry, ...):\n",
      "\"The response has five or fewer unique values.  Are you sure you want to do regression?\"\n",
      "Warning message in randomForest.default(x, y, mtry = param$mtry, ...):\n",
      "\"The response has five or fewer unique values.  Are you sure you want to do regression?\"\n",
      "Warning message in randomForest.default(x, y, mtry = param$mtry, ...):\n",
      "\"The response has five or fewer unique values.  Are you sure you want to do regression?\"\n",
      "Warning message in randomForest.default(x, y, mtry = param$mtry, ...):\n",
      "\"The response has five or fewer unique values.  Are you sure you want to do regression?\"\n",
      "Warning message in randomForest.default(x, y, mtry = param$mtry, ...):\n",
      "\"The response has five or fewer unique values.  Are you sure you want to do regression?\"\n",
      "Warning message in randomForest.default(x, y, mtry = param$mtry, ...):\n",
      "\"The response has five or fewer unique values.  Are you sure you want to do regression?\"\n",
      "Warning message in randomForest.default(x, y, mtry = param$mtry, ...):\n",
      "\"The response has five or fewer unique values.  Are you sure you want to do regression?\"\n",
      "Warning message in randomForest.default(x, y, mtry = param$mtry, ...):\n",
      "\"The response has five or fewer unique values.  Are you sure you want to do regression?\"\n",
      "Warning message in randomForest.default(x, y, mtry = param$mtry, ...):\n",
      "\"The response has five or fewer unique values.  Are you sure you want to do regression?\"\n",
      "Warning message in randomForest.default(x, y, mtry = param$mtry, ...):\n",
      "\"The response has five or fewer unique values.  Are you sure you want to do regression?\"\n",
      "Warning message in randomForest.default(x, y, mtry = param$mtry, ...):\n",
      "\"The response has five or fewer unique values.  Are you sure you want to do regression?\"\n",
      "Warning message in randomForest.default(x, y, mtry = param$mtry, ...):\n",
      "\"The response has five or fewer unique values.  Are you sure you want to do regression?\"\n",
      "Warning message in randomForest.default(x, y, mtry = param$mtry, ...):\n",
      "\"The response has five or fewer unique values.  Are you sure you want to do regression?\"\n",
      "Warning message in randomForest.default(x, y, mtry = param$mtry, ...):\n",
      "\"The response has five or fewer unique values.  Are you sure you want to do regression?\"\n",
      "Warning message in randomForest.default(x, y, mtry = param$mtry, ...):\n",
      "\"The response has five or fewer unique values.  Are you sure you want to do regression?\"\n",
      "Warning message in randomForest.default(x, y, mtry = param$mtry, ...):\n",
      "\"The response has five or fewer unique values.  Are you sure you want to do regression?\"\n",
      "Warning message in randomForest.default(x, y, mtry = param$mtry, ...):\n",
      "\"The response has five or fewer unique values.  Are you sure you want to do regression?\"\n",
      "Warning message in randomForest.default(x, y, mtry = param$mtry, ...):\n",
      "\"The response has five or fewer unique values.  Are you sure you want to do regression?\"\n",
      "Warning message in randomForest.default(x, y, mtry = param$mtry, ...):\n",
      "\"The response has five or fewer unique values.  Are you sure you want to do regression?\"\n",
      "Warning message in randomForest.default(x, y, mtry = param$mtry, ...):\n",
      "\"The response has five or fewer unique values.  Are you sure you want to do regression?\"\n",
      "Warning message in randomForest.default(x, y, mtry = param$mtry, ...):\n",
      "\"The response has five or fewer unique values.  Are you sure you want to do regression?\"\n",
      "Warning message in randomForest.default(x, y, mtry = param$mtry, ...):\n",
      "\"The response has five or fewer unique values.  Are you sure you want to do regression?\"\n",
      "Warning message in randomForest.default(x, y, mtry = param$mtry, ...):\n",
      "\"The response has five or fewer unique values.  Are you sure you want to do regression?\"\n",
      "Warning message in randomForest.default(x, y, mtry = param$mtry, ...):\n",
      "\"The response has five or fewer unique values.  Are you sure you want to do regression?\"\n",
      "Warning message in randomForest.default(x, y, mtry = param$mtry, ...):\n",
      "\"The response has five or fewer unique values.  Are you sure you want to do regression?\"\n",
      "Warning message in randomForest.default(x, y, mtry = param$mtry, ...):\n",
      "\"The response has five or fewer unique values.  Are you sure you want to do regression?\"\n",
      "Warning message in randomForest.default(x, y, mtry = param$mtry, ...):\n",
      "\"The response has five or fewer unique values.  Are you sure you want to do regression?\"\n",
      "Warning message in randomForest.default(x, y, mtry = param$mtry, ...):\n",
      "\"The response has five or fewer unique values.  Are you sure you want to do regression?\"\n",
      "Warning message in randomForest.default(x, y, mtry = param$mtry, ...):\n",
      "\"The response has five or fewer unique values.  Are you sure you want to do regression?\"\n",
      "Warning message in randomForest.default(x, y, mtry = param$mtry, ...):\n",
      "\"The response has five or fewer unique values.  Are you sure you want to do regression?\"\n"
     ]
    }
   ],
   "source": [
    "Profile=rfe(x=x,y=y,sizes = c(1:10),\n",
    "    rfeControl =  rfeControl,\n",
    "    methods=\"svmRadial\")"
   ]
  },
  {
   "cell_type": "code",
   "execution_count": null,
   "id": "2fe62dd1-568a-434b-a9cd-788694876734",
   "metadata": {},
   "outputs": [],
   "source": [
    "pdf(file=\"SVM-RFE.pdf\", width=6, height=5.5)\n",
    "par(las=1)\n",
    "x= Profile$results$Variables \n",
    "y =Profile$results$RMSE\n",
    "plot(x, y, xlab=\"Variables\", ylab=\"RMSE (Cross-Validation)\", col=\"darkgreen\") \n",
    "lines(x, y, col=\"darkgreen\")\n",
    "wmin=which.min(y) \n",
    "wmin.x=x[wmin] \n",
    "wmin.y=y[wmin]\n",
    "points(wmin.x, wmin.y, col=\"blue\", pch=16)\n",
    "text(wmin.x, wmin.y, paste0('N=', wmin.x), pos=2, col=2)\n",
    "dev.off()"
   ]
  },
  {
   "cell_type": "code",
   "execution_count": null,
   "id": "326e4066-b27d-4062-986d-7d6c199c9f9b",
   "metadata": {},
   "outputs": [],
   "source": [
    "par(las=1)\n",
    "x= Profile$results$Variables \n",
    "y =Profile$results$RMSE\n",
    "plot(x, y, xlab=\"Variables\", ylab=\"RMSE (Cross-Validation)\", col=\"darkgreen\") \n",
    "lines(x, y, col=\"darkgreen\")\n",
    "wmin=which.min(y) \n",
    "wmin.x=x[wmin] \n",
    "wmin.y=y[wmin]\n",
    "points(wmin.x, wmin.y, col=\"blue\", pch=16)\n",
    "text(wmin.x, wmin.y, paste0('N=', wmin.x), pos=2, col=2)"
   ]
  },
  {
   "cell_type": "code",
   "execution_count": null,
   "id": "faa8cc09-7aac-4f1e-8eff-97fc57d708c4",
   "metadata": {},
   "outputs": [],
   "source": [
    "#输出\n",
    "featureGenes = Profile$optVariables\n",
    "write.table(file=\"SVM-RFE.gene.txt\",featureGenes,sep=\"\\t\",quote=F,row.names=F,col.names=F) #表达矩阵 "
   ]
  },
  {
   "cell_type": "code",
   "execution_count": null,
   "id": "529dfd4e-ce17-4c0b-9e28-37ea39e41f4e",
   "metadata": {},
   "outputs": [],
   "source": [
    "featureGenes"
   ]
  },
  {
   "cell_type": "markdown",
   "id": "80a4188a-f4ee-4fc6-8479-542b5b97f5a7",
   "metadata": {},
   "source": [
    "### Boruta"
   ]
  },
  {
   "cell_type": "code",
   "execution_count": null,
   "id": "c3d5dd8e-c054-4893-826f-15808121999e",
   "metadata": {},
   "outputs": [],
   "source": [
    "library(Boruta)"
   ]
  },
  {
   "cell_type": "code",
   "execution_count": null,
   "id": "681d9c5e-e376-41d5-9e75-a8b72895b6e8",
   "metadata": {},
   "outputs": [],
   "source": [
    "x = as.matrix(expr)\n",
    "y = Type"
   ]
  },
  {
   "cell_type": "code",
   "execution_count": null,
   "id": "bfef83bb-f0df-4544-88ff-ac95865a034a",
   "metadata": {},
   "outputs": [],
   "source": [
    "set.seed(1)\n",
    "boruta <- Boruta(x=x, y=y, pValue=0.05, mcAdj=T, \n",
    "       maxRuns=300)"
   ]
  },
  {
   "cell_type": "code",
   "execution_count": null,
   "id": "874bd68a-9461-4cb0-a659-3b68b63dbf4a",
   "metadata": {},
   "outputs": [],
   "source": [
    "boruta"
   ]
  },
  {
   "cell_type": "code",
   "execution_count": null,
   "id": "e303931f-31a8-455d-a409-9279e159919d",
   "metadata": {},
   "outputs": [],
   "source": [
    "table(boruta$finalDecision)"
   ]
  },
  {
   "cell_type": "code",
   "execution_count": null,
   "id": "9d8e6501-7065-40d6-803c-8903eb4be86b",
   "metadata": {},
   "outputs": [],
   "source": [
    "boruta$finalDecision"
   ]
  },
  {
   "cell_type": "code",
   "execution_count": null,
   "id": "012ccfe6-9873-4ae9-8b7b-b0441692c31d",
   "metadata": {},
   "outputs": [],
   "source": [
    "Boruta::plotImpHistory(boruta)"
   ]
  },
  {
   "cell_type": "code",
   "execution_count": null,
   "id": "f719eb97-a381-4b41-9a3d-a530fd390751",
   "metadata": {},
   "outputs": [],
   "source": [
    "library(dplyr)\n",
    "boruta.imp <- function(x){\n",
    "  imp <- reshape2::melt(x$ImpHistory, na.rm=T)[,-1]\n",
    "  colnames(imp) <- c(\"Variable\",\"Importance\")\n",
    "  imp <- imp[is.finite(imp$Importance),]\n",
    "\n",
    "  variableGrp <- data.frame(Variable=names(x$finalDecision), \n",
    "                            finalDecision=x$finalDecision)\n",
    "\n",
    "  showGrp <- data.frame(Variable=c(\"shadowMax\", \"shadowMean\", \"shadowMin\"),\n",
    "                        finalDecision=c(\"shadowMax\", \"shadowMean\", \"shadowMin\"))\n",
    "\n",
    "  variableGrp <- rbind(variableGrp, showGrp)\n",
    "\n",
    "  boruta.variable.imp <- merge(imp, variableGrp, all.x=T)\n",
    "\n",
    "  sortedVariable <- boruta.variable.imp %>% group_by(Variable) %>% \n",
    "    summarise(median=median(Importance)) %>% arrange(median)\n",
    "  sortedVariable <- as.vector(sortedVariable$Variable)\n",
    "\n",
    "\n",
    "  boruta.variable.imp$Variable <- factor(boruta.variable.imp$Variable, levels=sortedVariable)\n",
    "\n",
    "  invisible(boruta.variable.imp)\n",
    "}\n",
    "boruta.variable.imp <- boruta.imp(boruta)\n"
   ]
  },
  {
   "cell_type": "code",
   "execution_count": null,
   "id": "b1e3ba68-9de1-4917-bf06-878aa1b09fa6",
   "metadata": {},
   "outputs": [],
   "source": [
    "library(YSX)\n",
    "\n",
    "sp_boxplot(boruta.variable.imp, melted=T, xvariable = \"Variable\", yvariable = \"Importance\",\n",
    "           legend_variable = \"finalDecision\", legend_variable_order = c(\"shadowMax\", \"shadowMean\", \"shadowMin\", \"Confirmed\"),\n",
    "           xtics_angle = 90)"
   ]
  },
  {
   "cell_type": "code",
   "execution_count": null,
   "id": "f78ed73c-a03d-48a7-9357-29957c295b40",
   "metadata": {},
   "outputs": [],
   "source": [
    "Group = data.frame(Group =  c(rep('CI',43),rep('H',42),rep('CI',16),rep('H',18)))\n",
    "\n",
    "expr3 = cbind(Group,expr)"
   ]
  },
  {
   "cell_type": "code",
   "execution_count": null,
   "id": "e454f1e3-6d4a-4c23-9c6c-0766294c06bd",
   "metadata": {},
   "outputs": [],
   "source": [
    "set.seed(157)  \n",
    "index <-  which( (1:nrow(expr3))%%3 == 0 )\n",
    "train <- expr3[-index,]\n",
    "test <- expr3[index,]"
   ]
  },
  {
   "cell_type": "code",
   "execution_count": null,
   "id": "a94404e5-afa5-44b1-9c40-17276b3f924b",
   "metadata": {},
   "outputs": [],
   "source": [
    "table(test$Group)"
   ]
  },
  {
   "cell_type": "code",
   "execution_count": null,
   "id": "c6b710a7-9501-4061-b4b2-61fec0acc209",
   "metadata": {},
   "outputs": [],
   "source": [
    "library(\"xgboost\")\n",
    "library(\"Matrix\")\n",
    "train_matrix <- sparse.model.matrix(Group ~ .-1, data = train)\n",
    "test_matrix <- sparse.model.matrix(Group ~ .-1, data = test)\n",
    "all_matrix <- sparse.model.matrix(Group ~ .-1, data = expr3)"
   ]
  },
  {
   "cell_type": "code",
   "execution_count": null,
   "id": "bc51c5f0-8a79-45c7-aeda-f3e930897d77",
   "metadata": {},
   "outputs": [],
   "source": [
    "train_label <- as.numeric(train$Group == 'CI')\n",
    "test_label <-  as.numeric(test$Group == 'CI')\n",
    "all_label <-  as.numeric(expr3$Group == 'CI')"
   ]
  },
  {
   "cell_type": "code",
   "execution_count": null,
   "id": "83ae0485-19e1-43cf-9a0f-afbffad9dc81",
   "metadata": {},
   "outputs": [],
   "source": [
    "all_label"
   ]
  },
  {
   "cell_type": "code",
   "execution_count": null,
   "id": "a4869eac-f051-4524-b87d-f0258a00f0b9",
   "metadata": {},
   "outputs": [],
   "source": [
    "train_fin <- list(data=train_matrix,label=train_label) \n",
    "test_fin <- list(data=test_matrix,label=test_label) \n",
    "all_fin <- list(data=all_matrix,label=all_label) \n",
    "\n",
    "dtrain <- xgb.DMatrix(data = train_fin$data, label = train_fin$label) \n",
    "dtest <- xgb.DMatrix(data = test_fin$data, label = test_fin$label)\n",
    "dall <- xgb.DMatrix(data = all_fin$data, label = all_fin$label)"
   ]
  },
  {
   "cell_type": "code",
   "execution_count": null,
   "id": "693cf771-9253-4025-a66b-83878fc10d9b",
   "metadata": {},
   "outputs": [],
   "source": [
    "xgb <- xgboost(data = dall,max_depth=6, eta=0.5,  \n",
    "  objective='binary:logistic', nround=25)"
   ]
  },
  {
   "cell_type": "code",
   "execution_count": null,
   "id": "a6ddb524-6283-4978-8a1c-8ecdcfe7f833",
   "metadata": {},
   "outputs": [],
   "source": [
    "xgb"
   ]
  },
  {
   "cell_type": "code",
   "execution_count": null,
   "id": "68e21a94-8f8f-4a00-a204-323f7e521032",
   "metadata": {},
   "outputs": [],
   "source": [
    "importance <- xgb.importance(all_matrix@Dimnames[[2]], model = xgb)  \n",
    "head(importance)\n",
    "xgb.ggplot.importance(importance)"
   ]
  },
  {
   "cell_type": "code",
   "execution_count": null,
   "id": "dc690ef8-850d-4966-8b84-fa1faf0e7d76",
   "metadata": {},
   "outputs": [],
   "source": [
    "xgb.plot.importance(importance)"
   ]
  },
  {
   "cell_type": "markdown",
   "id": "9bbc7a58-1e83-49fb-9470-0635af8e8f6e",
   "metadata": {},
   "source": [
    "### 韦恩图"
   ]
  },
  {
   "cell_type": "code",
   "execution_count": null,
   "id": "89d6dc0b-5e96-4cf3-917c-a0afe0fdc5d4",
   "metadata": {},
   "outputs": [],
   "source": [
    "RF.gene = colnames(sigExp)\n",
    "SVF.RFE.gene = featureGenes\n",
    "XGBoost.gene = importance$Feature"
   ]
  },
  {
   "cell_type": "code",
   "execution_count": null,
   "id": "83b72c7d-52ef-4d50-8126-914d29a113a0",
   "metadata": {},
   "outputs": [],
   "source": [
    "boruta.variable.imp2 = boruta.variable.imp %>% dplyr::filter(finalDecision %in% c('Confirmed')) %>% dplyr::select(Variable) %>% unique()"
   ]
  },
  {
   "cell_type": "code",
   "execution_count": null,
   "id": "f69a1fb0-c0d5-40ee-9585-06359f8944c9",
   "metadata": {},
   "outputs": [],
   "source": [
    "Boruta.gene = as.vector(boruta.variable.imp2$Variable)"
   ]
  },
  {
   "cell_type": "code",
   "execution_count": null,
   "id": "2c64753a-f26a-4f21-be8f-695ee6056f50",
   "metadata": {},
   "outputs": [],
   "source": [
    "list1 = list(Boruta.gene,SVF.RFE.gene, RF.gene,XGBoost.gene) #"
   ]
  },
  {
   "cell_type": "code",
   "execution_count": null,
   "id": "c3990cb1-0231-4c11-bea4-899601f73ccd",
   "metadata": {},
   "outputs": [],
   "source": [
    "data =  as.data.frame (do.call (cbind, list1))"
   ]
  },
  {
   "cell_type": "code",
   "execution_count": null,
   "id": "6ca57ee7-2096-4ed7-9fa5-0d6006805239",
   "metadata": {},
   "outputs": [],
   "source": [
    "\n",
    "library(venn)\n",
    "        library(VennDiagram)\n",
    "        color=c( \"#3C5488B2\",\"#00A087B2\", \n",
    "             \"#F39B7FB2\",\"#91D1C2B2\", \n",
    "             \"#8491B4B2\", \"#DC0000B2\", \n",
    "             \"#7E6148B2\",\"yellow\", \n",
    "             \"darkolivegreen1\", \"lightskyblue\", \n",
    "             \"darkgreen\", \"deeppink\", \"khaki2\", \n",
    "             \"firebrick\", \"brown1\", \"darkorange1\", \n",
    "             \"cyan1\", \"royalblue4\", \"darksalmon\", \n",
    "             \"darkgoldenrod1\", \"darkseagreen\", \"darkorchid\")\n",
    "\n",
    "    if (ncol(data) == 2){\n",
    "        sample_list <- list(Boruta.gene = data[,1], XGBoost.gene = data[,2])\n",
    "    }else if(ncol(data) == 3){\n",
    "        sample_list <- list(RF.gene = data[,1], Boruta.gene = data[,2], XGBoost.gene = data[,3])\n",
    "    }else if(ncol(data) == 4){\n",
    "        sample_list <- list(RF.gene = data[,1], SVF.RFE.gene = data[,2], Boruta.gene = data[,3], XGBoost.gene = data[,4])\n",
    "    }else{\n",
    "        sample_list <- list(c1 = data[,1], c2 = data[,2], c3 = data[,3], c4 = data[,4], c5 = data[,5])\n",
    "    }\n",
    "    \n",
    "    q <- venn.diagram(sample_list,filename = NULL,\n",
    "             fill = color[1:(length(sample_list))],\n",
    "             alpha = 0.50, cat.col = rep('black', ncol(data)), \n",
    "             col = 'black', cex = 1, fontfamily = 'serif', cat.cex = 1, cat.fontfamily = 'serif', margin = 0.2\n",
    "                             )\n",
    "    pdf(paste0('./',\"venn.pdf\"))\n",
    "    grid.draw(q)\n",
    "    dev.off()"
   ]
  },
  {
   "cell_type": "code",
   "execution_count": null,
   "id": "80b2affe-47e7-4c0a-9593-b43b38b070b2",
   "metadata": {},
   "outputs": [],
   "source": [
    "options(repr.plot.width = 6)"
   ]
  },
  {
   "cell_type": "code",
   "execution_count": null,
   "id": "81645293-87d3-47db-9080-20cf9e8c2352",
   "metadata": {},
   "outputs": [],
   "source": [
    "grid.draw(q)"
   ]
  },
  {
   "cell_type": "code",
   "execution_count": null,
   "id": "ac415b71-0068-448c-8e3b-e925cdb35bda",
   "metadata": {},
   "outputs": [],
   "source": [
    "model.gene = intersect(intersect(intersect(RF.gene,XGBoost.gene),Boruta.gene),SVF.RFE.gene)#"
   ]
  },
  {
   "cell_type": "code",
   "execution_count": null,
   "id": "6a095875-3f27-410d-a373-78adc6360397",
   "metadata": {},
   "outputs": [],
   "source": [
    "model.gene"
   ]
  },
  {
   "cell_type": "code",
   "execution_count": null,
   "id": "6cb691bd-2d72-4837-b47a-5e7c0a16d5cb",
   "metadata": {},
   "outputs": [],
   "source": [
    "set.seed(1234)\n",
    "expr3 = cbind(Group,expr)"
   ]
  },
  {
   "cell_type": "code",
   "execution_count": null,
   "id": "722325c8-b550-4783-bf63-71090340ace3",
   "metadata": {},
   "outputs": [],
   "source": [
    "expr3[expr3$Group =='CI',]$Group<-1"
   ]
  },
  {
   "cell_type": "code",
   "execution_count": null,
   "id": "9e04abf2-3a9e-4c50-9d86-58a7cd6f7342",
   "metadata": {},
   "outputs": [],
   "source": [
    "expr3[expr3$Group =='H',]$Group<-0\n",
    "expr3$Group = as.numeric(expr3$Group)"
   ]
  },
  {
   "cell_type": "code",
   "execution_count": null,
   "id": "9c3b879f-1b40-45f7-9aaa-f1909ee6aaf3",
   "metadata": {},
   "outputs": [],
   "source": [
    "expr4 = expr3 %>% dplyr::select(c(Group,model.gene))"
   ]
  },
  {
   "cell_type": "code",
   "execution_count": null,
   "id": "5ef5cfa5-901b-4e64-9f10-8775cc89fce8",
   "metadata": {},
   "outputs": [],
   "source": [
    "dim(expr4)"
   ]
  },
  {
   "cell_type": "code",
   "execution_count": null,
   "id": "a68de7ce-0c16-4db1-93f7-8e4f510f9fa4",
   "metadata": {},
   "outputs": [],
   "source": [
    "head(expr4,4)"
   ]
  },
  {
   "cell_type": "code",
   "execution_count": null,
   "id": "48b7988e-d5b8-4cd7-9680-b550d1bde730",
   "metadata": {},
   "outputs": [],
   "source": [
    "library(caret)\n",
    "library(ggplot2)"
   ]
  },
  {
   "cell_type": "markdown",
   "id": "c9bc40ad-1601-4491-afe9-4f0a67cf391b",
   "metadata": {},
   "source": [
    "### 这里使用48个基因先看看情况\n",
    "\n"
   ]
  },
  {
   "cell_type": "code",
   "execution_count": null,
   "id": "c19006af-1d46-4f7e-aeec-74227735cdde",
   "metadata": {},
   "outputs": [],
   "source": [
    "for (i in model.gene){\n",
    "    res<-pROC::roc(Group~expr4[,i],data=expr4,aur=TRUE,\n",
    "         ci=TRUE, # 显示95%CI\n",
    "         #percent=TRUE, # 是否需要以百分比显示\n",
    "         smooth=FALSE,# 是否平滑曲线\n",
    "         levels=c(0,1),direction=\"<\" #设置分组方向\n",
    "         )\n",
    "    if (res$auc > 0.5){\n",
    "        print(paste0(i,' ',res$auc))\n",
    "        p = pROC::ggroc(res, color =\"red\",legacy.axes = TRUE)+\n",
    "  geom_segment(aes(x = 0, xend = 1, y = 0, yend = 1), color=\"darkgrey\", linetype=4)+\n",
    "  theme_bw() + # 设置背景\n",
    "  ggtitle(paste0(i,\" ROC Curve\"))+\n",
    "  theme(plot.title = element_text(hjust = 0.5,size = 16),\n",
    "        axis.text=element_text(size=12,colour = \"black\"),\n",
    "        axis.title.x = element_text(size = 14),\n",
    "        axis.title.y = element_text(size = 14))\n",
    "p+annotate(\"text\",x=0.75,y=0.25,label=paste(\"AUC = \", round(res$auc,3)))+\n",
    "  annotate(\"text\",x=0.75,y=0.20,label=paste(\"95%CI: \", round(res$ci[1],3),'-',round(res$ci[3],3)))\n",
    "    ggsave(file = paste0(i,'.ROC.pdf'))\n",
    "}else{\n",
    "        \n",
    "}\n",
    "\n",
    "    \n",
    "    }"
   ]
  },
  {
   "cell_type": "markdown",
   "id": "d157d346-4a53-4133-b0d2-f2a92aea9d56",
   "metadata": {},
   "source": [
    "### 批量单因素逻辑回归"
   ]
  },
  {
   "cell_type": "code",
   "execution_count": null,
   "id": "8ed43a61-fbbe-4a82-86b6-ecf83f9d4593",
   "metadata": {},
   "outputs": [],
   "source": [
    "#expr4 = expr3"
   ]
  },
  {
   "cell_type": "code",
   "execution_count": null,
   "id": "2e4d302d-7a45-4d41-8429-a3d9809876f5",
   "metadata": {
    "scrolled": true
   },
   "outputs": [],
   "source": [
    "#结果合并需要的包\n",
    "library(plyr)\n",
    "#可进行logistic回归的包\n",
    "library(rms)#可实现逻辑回归模型（lrm）\n",
    "library(epiDisplay)#快速输出OR、95%CI、P\n",
    "#library(gtsummary)#精美三线表（但，95%CI有误）"
   ]
  },
  {
   "cell_type": "code",
   "execution_count": null,
   "id": "e368e801-d28e-41ff-aee0-d4ef2ca39cd6",
   "metadata": {},
   "outputs": [],
   "source": [
    "varsU<-names(expr4[,2:dim(expr4)[2]])"
   ]
  },
  {
   "cell_type": "code",
   "execution_count": null,
   "id": "994ce7b1-913e-4a3d-8a4a-956d9d357864",
   "metadata": {},
   "outputs": [],
   "source": [
    "Result<-c()\n",
    "for (i in 1:length(varsU)){\n",
    "  fit<-glm(substitute(Group~x,list(x=as.name(varsU[i]))),data=expr4,family=binomial())\n",
    "  fitSum<-summary(fit)\n",
    "  result1<-c()\n",
    "  result1<-rbind(result1,fitSum$coef)\n",
    "  OR<-exp(fitSum$coef[,'Estimate'])\n",
    "  result1<-data.frame(cbind(result1,cbind(OR,exp(confint(fit)))))\n",
    "  result1$Characteristics<-varsU[i]   #添加变量名\n",
    "  Result<-rbind(Result,result1[-1,])#[-1,],删除常数项\n",
    "}"
   ]
  },
  {
   "cell_type": "code",
   "execution_count": null,
   "id": "032500b6-8970-4ded-a236-242e7cd50dff",
   "metadata": {},
   "outputs": [],
   "source": [
    "Result"
   ]
  },
  {
   "cell_type": "code",
   "execution_count": null,
   "id": "148299e8-ac34-43f6-8b34-496935b611c3",
   "metadata": {},
   "outputs": [],
   "source": [
    "Uni_log<-data.frame(Result[,c(1,4:8)]) #提取\"P\",\"OR\",\"CIlower\",\"CIupper\"和变量名\n",
    "\n",
    "colnames(Uni_log)[2:5]<-c(\"P\",\"OR\",\"CIlower\",\"CIupper\")#变量重命名\n",
    "\n",
    "ExtractVar<-unique(Uni_log$Characteristics[Uni_log$\"P\"<0.01]) \n"
   ]
  },
  {
   "cell_type": "code",
   "execution_count": null,
   "id": "7c08917b-e457-4f99-b725-5a78db04270a",
   "metadata": {},
   "outputs": [],
   "source": [
    "tzgene = Uni_log %>% dplyr::filter(P < 0.01) %>% rownames()"
   ]
  },
  {
   "cell_type": "code",
   "execution_count": null,
   "id": "2b35911c-3a54-40f7-a801-7b01b57aca16",
   "metadata": {},
   "outputs": [],
   "source": [
    "Uni_log[tzgene,]"
   ]
  },
  {
   "cell_type": "markdown",
   "id": "232747e0-8e0a-4a1a-a963-788be809fe24",
   "metadata": {},
   "source": [
    "### 多因素分析"
   ]
  },
  {
   "cell_type": "code",
   "execution_count": null,
   "id": "607567dc-7ff4-40cc-9f88-59958dd38215",
   "metadata": {},
   "outputs": [],
   "source": [
    "tzgene"
   ]
  },
  {
   "cell_type": "code",
   "execution_count": null,
   "id": "9a29f3e9-02ef-4987-899e-0a7ea6408f6c",
   "metadata": {},
   "outputs": [],
   "source": [
    "#tzgene1 = tzgene[-5]"
   ]
  },
  {
   "cell_type": "code",
   "execution_count": null,
   "id": "f421a627-cea3-4472-9d7d-eabb65d4b253",
   "metadata": {},
   "outputs": [],
   "source": [
    "data = expr4[,c('Group',tzgene)]\n",
    "data$Group = factor(data$Group,levels = c(1,0))"
   ]
  },
  {
   "cell_type": "code",
   "execution_count": null,
   "id": "45593c9a-5ec2-40ee-9f5f-0cd8b8bfdf06",
   "metadata": {},
   "outputs": [],
   "source": [
    "fit.reduce<-glm(Group~.,data=data,family=binomial())\n",
    "summary(fit.reduce)"
   ]
  },
  {
   "cell_type": "code",
   "execution_count": null,
   "id": "360a430e-9388-4fe4-91ee-e7995c29c187",
   "metadata": {
    "scrolled": true
   },
   "outputs": [],
   "source": [
    "logit.step <- step(fit.reduce,direction='both')\n",
    "summary(logit.step)"
   ]
  },
  {
   "cell_type": "code",
   "execution_count": null,
   "id": "d09d5fb1-b54b-4f0a-a8ad-19c4fa653d37",
   "metadata": {
    "scrolled": true
   },
   "outputs": [],
   "source": [
    "# train_sub = sample(nrow(data),9/10*nrow(data))\n",
    "# train_data = data[train_sub,]\n",
    "# test_data =data[-train_sub,]\n",
    "\n",
    "# fit.reduce<-glm(Group~.,data=data,family=binomial())\n",
    "# summary(fit.reduce)\n",
    "\n",
    "formatFit<-function(fit){\n",
    "  #取P值\n",
    "  p<-summary(fit)$coefficients[,4]\n",
    "  #wald值\n",
    "  wald<-summary(fit)$coefficients[,3]^2\n",
    "  #B值\n",
    "  valueB<-coef(fit)\n",
    "  #OR值\n",
    "  valueOR<-exp(coef(fit))\n",
    "  #OR值得95%CI\n",
    "  confitOR<-exp(confint(fit))\n",
    "  data.frame(\n",
    "    B=round(valueB,3),\n",
    "    Wald=round(wald,3),\n",
    "    OR_with_CI=paste(round(valueOR,3),\"(\",\n",
    "               round(confitOR[,1],3),\"~\",round(confitOR[,2],3),\")\",sep=\"\"),\n",
    "    P=format.pval(p,digits = 3,eps=0.001)\n",
    "  )\n",
    "}\n",
    "\n",
    "formatFit(logit.step)"
   ]
  },
  {
   "cell_type": "code",
   "execution_count": null,
   "id": "d3a0a32a-af83-48f8-a609-caa731beabc8",
   "metadata": {},
   "outputs": [],
   "source": [
    "set.seed(21)\n",
    "#单纯10折交叉验证，time=1\n",
    "folds <-createMultiFolds(y=data$Group,k=5,times=10)\n",
    "#10次批量训练与验证\n",
    "#做成循环\n",
    "auc_value<-as.numeric()\n",
    "for(i in 1:10){\n",
    "  train<- data[ folds[[i]],] \n",
    "  test <- data[-folds[[i]],] \n",
    "  model<-glm(Group~TNFSF14+CCNA2+MARCKS+SGOL1+SAP130,data=train,family=binomial())  #TNFSF14+CCNA2+MARCKS+SGOL1+SAP130\n",
    "    \n",
    "  model_pre<-predict(model,type='response', newdata=test)\n",
    "    \n",
    "  auc_value<- append(auc_value,\n",
    "                     as.numeric(pROC::auc(as.numeric(test[,1]),model_pre)))\n",
    "}\n",
    "mean(auc_value)"
   ]
  },
  {
   "cell_type": "code",
   "execution_count": null,
   "id": "86882020-0707-49d5-8be5-4465d8a8c0b4",
   "metadata": {},
   "outputs": [],
   "source": [
    "num <- which.max(auc_value)\n",
    "print(num)"
   ]
  },
  {
   "cell_type": "code",
   "execution_count": null,
   "id": "541c2c08-b1d7-453e-a5e6-0c205e109a13",
   "metadata": {},
   "outputs": [],
   "source": [
    "fold_test <- data[folds[[num]],]   \n",
    "fold_train <- data[-folds[[num]],]"
   ]
  },
  {
   "cell_type": "code",
   "execution_count": null,
   "id": "a08a34d5-eb8b-4ada-9edc-adca69cc7b02",
   "metadata": {},
   "outputs": [],
   "source": [
    "fold_pre <- glm(Group~TNFSF14+CCNA2+MARCKS+SGOL1+SAP130,data=fold_train,family=binomial())"
   ]
  },
  {
   "cell_type": "code",
   "execution_count": null,
   "id": "8bf9fd8b-a8f1-4bae-9ef4-07b82fbbb841",
   "metadata": {},
   "outputs": [],
   "source": [
    "fold_predict <- predict(fold_pre,type='response',newdata=fold_test)"
   ]
  },
  {
   "cell_type": "code",
   "execution_count": null,
   "id": "40be0bed-4345-4e98-9dda-8c8e39035c41",
   "metadata": {},
   "outputs": [],
   "source": []
  },
  {
   "cell_type": "code",
   "execution_count": null,
   "id": "fa632f6e-f02a-4414-bfa0-5dc3e00bc30d",
   "metadata": {},
   "outputs": [],
   "source": [
    "options(repr.plot.width = 6)"
   ]
  },
  {
   "cell_type": "code",
   "execution_count": null,
   "id": "e4c3e31e-b803-4b9c-8bc9-131b2e513991",
   "metadata": {},
   "outputs": [],
   "source": [
    "roc_curve <- pROC::roc(as.numeric(fold_test$Group),fold_predict)\n",
    "plot(roc_curve, print.auc=TRUE, auc.polygon=TRUE, grid=c(0.1, 0.2),\n",
    "     grid.col=c(\"green\", \"red\"), max.auc.polygon=TRUE,\n",
    "     auc.polygon.col=\"skyblue\", print.thres=TRUE,main=\"\")"
   ]
  },
  {
   "cell_type": "code",
   "execution_count": null,
   "id": "77c903ef-14c3-4870-be02-aa931289d116",
   "metadata": {},
   "outputs": [],
   "source": [
    "library(ROCR)\n",
    "\n",
    "dd<-datadist(data)  #开始打包数据\n",
    "options(datadist=\"dd\")\n",
    "\n",
    "data$Group = as.factor(data$Group)\n",
    "\n",
    "fit1 <- lrm(Group~TNFSF14+CCNA2+MARCKS+SGOL1+SAP130, data=data,x=T,y=T)\n",
    "\n",
    "\n",
    "fit1\n",
    "\n",
    "#  https://blog.csdn.net/Ayue0616/article/details/126601832\n",
    "\n",
    "# cal1 <- calibrate(fit1, method='boot', B=1000) \n",
    "# plot(cal1,xlim=c(0,1.0),ylim=c(0,1.0))\n",
    "\n",
    "### https://blog.51cto.com/u_15172991/5428282  模型图的解释参考链接\n",
    "\n",
    "# https://ayueme.github.io/R_clinical_model/nomogram-essential.html\n",
    "\n",
    "# https://blog.csdn.net/Dr_long1996/article/details/135446784\n",
    "\n",
    "save(fit1,data,file = 'train.fit1.rda')\n",
    "\n",
    "#列线图代码只能在Rstudio话\n",
    "\n",
    "# library('regplot')\n",
    "# regplot(fit1,\n",
    "#         plots = c(\"violin\", \"boxes\"), ##连续性变量形状，可选\"no plot\" \"density\" \"boxes\" \"ecdf\" \"bars\" \"boxplot\" \"violin\" \"bean\" \"spikes\"；分类变量的形状，可选\"no plot\" \"boxes\" \"bars\" \"spikes\"\n",
    "#         observation = data[1,], #用哪行观测，或者T F\n",
    "#         center = T, # 对齐变量\n",
    "#         subticks = T,\n",
    "#         droplines = T,#是否画竖线\n",
    "#         title = \"nomogram\",\n",
    "#         points = T, # 截距项显示为0-100\n",
    "#         odds = T, # 是否显示OR值\n",
    "#         showP = T, # 是否显示变量的显著性标记\n",
    "#         rank = \"sd\", # 根据sd给变量排序\n",
    "#         interval=\"confidence\", # 展示可信区间\n",
    "#         clickable = F # 是否可以交互\n",
    "# )"
   ]
  },
  {
   "cell_type": "code",
   "execution_count": null,
   "id": "98354b6f-e7a0-4453-902f-5b77eb686630",
   "metadata": {},
   "outputs": [],
   "source": [
    "getwd()"
   ]
  },
  {
   "cell_type": "code",
   "execution_count": null,
   "id": "19e857b1-7f37-416c-a1b6-f9479ad47224",
   "metadata": {},
   "outputs": [],
   "source": [
    "# library(rms)   ###加载rms包#\n",
    "# #f = readRDS('C:/Users/Bonjour/Desktop/bulk2.fit1.rds')\n",
    "# load('C:/Users/Bonjour/Desktop/train.fit1.rda')\n",
    "# summary(fit1) \n",
    "\n",
    "# library('regplot')\n",
    "# regplot(fit1,\n",
    "#         plots = c(\"violin\", \"boxes\"), ##连续性变量形状，可选\"no plot\" \"density\" \"boxes\" \"ecdf\" \"bars\" \"boxplot\" \"violin\" \"bean\" \"spikes\"；分类变量的形状，可选\"no plot\" \"boxes\" \"bars\" \"spikes\"\n",
    "#         observation = data[1,], #用哪行观测，或者T F\n",
    "#         center = F, # 对齐变量\n",
    "#         subticks = F,\n",
    "#         droplines = F,#是否画竖线\n",
    "#         title = \"nomogram\",\n",
    "#         points = T, # 截距项显示为0-100\n",
    "#         odds = T, # 是否显示OR值\n",
    "#         showP = T, # 是否显示变量的显著性标记\n",
    "#         rank = \"sd\", # 根据sd给变量排序\n",
    "#         interval=\"confidence\", # 展示可信区间\n",
    "#         clickable = F # 是否可以交互\n",
    "# )\n",
    "# fit1\n"
   ]
  },
  {
   "cell_type": "code",
   "execution_count": null,
   "id": "0b55c6e6-7c85-4621-9e3e-b329b6addab5",
   "metadata": {},
   "outputs": [],
   "source": []
  },
  {
   "cell_type": "code",
   "execution_count": null,
   "id": "4cd727f0-8d2b-49c2-8de3-c8d49ba383a6",
   "metadata": {},
   "outputs": [],
   "source": []
  },
  {
   "cell_type": "code",
   "execution_count": null,
   "id": "684ccc45-bf65-439e-9f65-073731a43654",
   "metadata": {},
   "outputs": [],
   "source": []
  },
  {
   "cell_type": "code",
   "execution_count": null,
   "id": "833a8ef3-b418-45ed-9ca4-a023f5d093e6",
   "metadata": {},
   "outputs": [],
   "source": [
    "fit.reduce <- glm(Group~TNFSF14+CCNA2+MARCKS+SGOL1+SAP130,data=data,family=binomial())"
   ]
  },
  {
   "cell_type": "code",
   "execution_count": null,
   "id": "438b368a-07fd-4842-b5d6-7bc2fbbe3dd9",
   "metadata": {},
   "outputs": [],
   "source": [
    "fit.result<-summary(fit.reduce)\n",
    "df1<-fit.result$coefficients\n",
    "df2<-confint(fit.reduce)\n",
    "df3<-cbind(df1,df2)\n",
    "df4<-data.frame(df3[-1,c(1,4,5,6)])\n",
    "df4$Var<-rownames(df4)\n",
    "colnames(df4)<-c(\"OR\",\"Pvalue\",\"OR_1\",\"OR_2\",\"Var\")\n",
    "df5<-df4[,c(5,1,2,3,4)]\n",
    "df5$OR_mean<-df5$OR\n",
    "df5$OR<-paste0(round(df5$OR,2),\n",
    "               \"(\",\n",
    "               round(df5$OR_1,2),\n",
    "               \"~\",\n",
    "               round(df5$OR_2,2),\n",
    "               \")\")\n",
    "df5$Pvalue<-round(df5$Pvalue,3)\n",
    "write.csv(df5,file = \"forestplot_example.csv\",\n",
    "          quote = F,row.names = F)\n"
   ]
  },
  {
   "cell_type": "code",
   "execution_count": null,
   "id": "4b6b356d-12c3-418b-bd7e-627a8fc9918f",
   "metadata": {},
   "outputs": [],
   "source": [
    "df5"
   ]
  },
  {
   "cell_type": "code",
   "execution_count": null,
   "id": "8a3879e3-4ee8-4665-ba7a-3aecd5eeaa60",
   "metadata": {},
   "outputs": [],
   "source": [
    "\n",
    "# library(forestplot)\n",
    "# fp<-read.csv(\"forestplot_example.csv\",header=T)\n",
    "\n",
    "# forestplot(labeltext=as.matrix(fp[,1:3]),\n",
    "#            mean=fp$OR_mean,\n",
    "#            lower=fp$OR_1,\n",
    "#            upper=fp$OR_2,\n",
    "#            zero=1,\n",
    "#            boxsize=0.2,\n",
    "#            graph.pos=2)"
   ]
  },
  {
   "cell_type": "code",
   "execution_count": null,
   "id": "af4b1d8c-dbaa-4f80-8389-d18fbb85ca5a",
   "metadata": {},
   "outputs": [],
   "source": [
    "library(\"autoReg\")"
   ]
  },
  {
   "cell_type": "code",
   "execution_count": null,
   "id": "95736b49-4952-49e3-9145-5f562e19fd0e",
   "metadata": {},
   "outputs": [],
   "source": [
    "dim(data)"
   ]
  },
  {
   "cell_type": "code",
   "execution_count": null,
   "id": "d0b65dfa-cacf-4383-8514-8d8d92501cf7",
   "metadata": {},
   "outputs": [],
   "source": [
    "table(data$Group)"
   ]
  },
  {
   "cell_type": "code",
   "execution_count": null,
   "id": "3a2177ba-13d3-4658-89d2-ea8d8e7dd3f7",
   "metadata": {},
   "outputs": [],
   "source": []
  },
  {
   "cell_type": "code",
   "execution_count": null,
   "id": "73f26cf4-fec6-4e34-b061-e8dc420e9c5a",
   "metadata": {},
   "outputs": [],
   "source": [
    "overall.log =  glm(Group~TNFSF14+CCNA2+MARCKS+SGOL1+SAP130,data=data,family=binomial())\n",
    "\n",
    "model3<-autoReg(overall.log,uni=TRUE,milti=TRUE,threshold=0.05)\n",
    "\n",
    "model3"
   ]
  },
  {
   "cell_type": "code",
   "execution_count": null,
   "id": "312e6704-85dd-45a5-a728-346755a2a328",
   "metadata": {},
   "outputs": [],
   "source": []
  },
  {
   "cell_type": "code",
   "execution_count": null,
   "id": "3d32ed05-aea5-49c3-b0f9-5c02e1b261a2",
   "metadata": {},
   "outputs": [],
   "source": [
    "overall.log =  glm(Group~TNFSF14+CCNA2+MARCKS+SGOL1+SAP130,data=fold_test,family=binomial())\n",
    "\n",
    "model3<-autoReg(overall.log,uni=TRUE,milti=TRUE,threshold=0.05)\n",
    "\n",
    "model3"
   ]
  },
  {
   "cell_type": "code",
   "execution_count": null,
   "id": "4cf9ddec-d17f-414c-8d5d-12009f5fa7c0",
   "metadata": {},
   "outputs": [],
   "source": [
    "# https://blog.csdn.net/m0_72224305/article/details/126825816"
   ]
  },
  {
   "cell_type": "code",
   "execution_count": null,
   "id": "7e180dc5-53cb-4381-b291-3063b5ed3016",
   "metadata": {},
   "outputs": [],
   "source": [
    "# https://www.mebis.cn/kexuexinwen/1035.html  解释了保护因子和危险因子的含义"
   ]
  },
  {
   "cell_type": "code",
   "execution_count": null,
   "id": "ab8cb962-eb89-4d63-b819-2a2136c7b31c",
   "metadata": {},
   "outputs": [],
   "source": [
    "options(repr.plot.width = 8)"
   ]
  },
  {
   "cell_type": "code",
   "execution_count": null,
   "id": "435b7a66-095b-4486-bd14-6ad075c4147e",
   "metadata": {},
   "outputs": [],
   "source": [
    "modelPlot(overall.log,change.pointsize = T)"
   ]
  },
  {
   "cell_type": "code",
   "execution_count": null,
   "id": "643b4655-2c42-4e39-84bd-c6ffff58e72e",
   "metadata": {},
   "outputs": [],
   "source": [
    "tend = expr3"
   ]
  },
  {
   "cell_type": "code",
   "execution_count": null,
   "id": "24f8a6d1-e474-4303-a731-5625faed2606",
   "metadata": {},
   "outputs": [],
   "source": [
    "tend$Group = ifelse(tend$Group == 1, 'CI','H')"
   ]
  },
  {
   "cell_type": "code",
   "execution_count": null,
   "id": "8bd477cc-3b5d-4a0c-98c7-44b7d99e22e5",
   "metadata": {},
   "outputs": [],
   "source": [
    "model.gene"
   ]
  },
  {
   "cell_type": "code",
   "execution_count": null,
   "id": "a6b8e9a1-051c-4905-afe4-595802bd5eb8",
   "metadata": {},
   "outputs": [],
   "source": [
    "model.gene = c('TNFSF14','CCNA2','MARCKS','SGOL1','SAP130')"
   ]
  },
  {
   "cell_type": "code",
   "execution_count": null,
   "id": "faa36ba8-e9f1-4336-a3ce-bed2376ddcc1",
   "metadata": {},
   "outputs": [],
   "source": [
    "tend = tend[,c('Group',model.gene)]"
   ]
  },
  {
   "cell_type": "code",
   "execution_count": null,
   "id": "b999687b-177f-4fdb-8f91-05270b06140c",
   "metadata": {},
   "outputs": [],
   "source": [
    "head(tend,2)"
   ]
  },
  {
   "cell_type": "code",
   "execution_count": null,
   "id": "a29e4cdf-b7a4-42ae-b513-55a2b56b624f",
   "metadata": {},
   "outputs": [],
   "source": [
    "require(cowplot)\n",
    "require(tidyverse)\n",
    "require(ggplot2)\n",
    "require(ggsci)\n",
    "require(ggpubr)"
   ]
  },
  {
   "cell_type": "code",
   "execution_count": null,
   "id": "54f6639e-a7f5-467f-a939-bb1da495fada",
   "metadata": {},
   "outputs": [],
   "source": [
    "mydata<-tend %>% \n",
    "  ## 基因表达数据gather,gather的范围应调整\n",
    "  gather(key=\"gene\",value=\"Expression\",TNFSF14:SAP130) %>% \n",
    "  ##\n",
    "  dplyr::select(Group,gene,Expression) "
   ]
  },
  {
   "cell_type": "code",
   "execution_count": null,
   "id": "ae2a2a73-adac-44a9-9930-dee38004bf0c",
   "metadata": {},
   "outputs": [],
   "source": [
    "compare_means( Expression ~ Group, data = mydata, method = 't.test',\n",
    "              group.by = \"gene\")\n",
    "# Box plot facetted by \"gene\"\n",
    "p <- ggboxplot(mydata, x = \"Group\", y = \"Expression\",\n",
    "          color = \"Group\", palette = \"jco\",\n",
    "          add = \"jitter\",\n",
    "          facet.by = \"gene\", short.panel.labs = FALSE)\n",
    "# Use only p.format as label. Remove method name.\n",
    "#p + stat_compare_means(label =  \"p.signif\", label.x = 1.5)\n",
    "p <- ggboxplot(mydata, x = \"gene\", y = \"Expression\",\n",
    "          color = \"Group\", palette = \"nejm\",\n",
    "          add = \"jitter\")"
   ]
  },
  {
   "cell_type": "code",
   "execution_count": null,
   "id": "55f1f615-cddc-42ef-82c5-e47fd7c9a1b1",
   "metadata": {},
   "outputs": [],
   "source": [
    "diffgene = as.data.frame(compare_means( Expression ~ Group, data = mydata, method = 't.test',\n",
    "              group.by = \"gene\"))"
   ]
  },
  {
   "cell_type": "code",
   "execution_count": null,
   "id": "94cfb9cb-2704-49f6-8c92-18c2212cf681",
   "metadata": {},
   "outputs": [],
   "source": [
    "diffgene = rownames(diffgene) = diffgene[,1]\n",
    "\n",
    "options(repr.plot.height = 5,repr.plot.width = 21)\n",
    "\n",
    "options(repr.plot.width = 7,repr.plot.height = 5)"
   ]
  },
  {
   "cell_type": "code",
   "execution_count": null,
   "id": "814fee9f-dd13-4dd1-85cf-bc2e30cc769b",
   "metadata": {},
   "outputs": [],
   "source": [
    "p + stat_compare_means(aes(group = Group), label = \"p.signif\",method = 't.test')"
   ]
  },
  {
   "cell_type": "code",
   "execution_count": null,
   "id": "c27a9ef9-7f8c-419f-87b9-147315ee72dc",
   "metadata": {},
   "outputs": [],
   "source": [
    "tend1 = tend[,c( 2:6)] "
   ]
  },
  {
   "cell_type": "code",
   "execution_count": null,
   "id": "87ce0973-4487-40d1-a4c7-e3665d36dad3",
   "metadata": {},
   "outputs": [],
   "source": [
    "gene_cor <- cor(tend1, method = 'pearson')"
   ]
  },
  {
   "cell_type": "code",
   "execution_count": null,
   "id": "b19051c4-8bbf-4dc0-b81f-25d5045cf2b4",
   "metadata": {},
   "outputs": [],
   "source": [
    "diag(gene_cor) <- 0\n",
    "gene_cor <- reshape2::melt(gene_cor)\n",
    "gene_cor <- subset(gene_cor, value != 0)  #去除0值的相关性\n",
    "head(gene_cor)"
   ]
  },
  {
   "cell_type": "code",
   "execution_count": null,
   "id": "cbdacbf3-dd74-4252-bbbe-8c8c041618e1",
   "metadata": {},
   "outputs": [],
   "source": [
    "library(circlize)\n",
    "pdf('cor.circle.pdf',height = 6,width = 6)\n",
    "p= chordDiagram(gene_cor, \n",
    "    annotationTrack = c('grid', 'name', 'axis'), #绘制外周圆弧区，显示名称和刻度轴\n",
    "    grid.col = c(TNFSF14 = 'green3', CCNA2 = 'red', MARCKS = 'orange', SGOL1 = 'purple', SAP130 = 'skyblue'), #定义基因颜色\n",
    "    col = colorRamp2(c(-1, 0, 1), c('green', 'white', 'red'), transparency = 0.5), #根据相关性大小展示连线的颜色范围\n",
    "    annotationTrackHeight = c(0.05, 0.05), #名称离圆弧的距离，以及圆弧的宽度\n",
    ")\n",
    "dev.off()"
   ]
  },
  {
   "cell_type": "code",
   "execution_count": null,
   "id": "e6af326f-0075-45d3-bdc6-c6b83148b653",
   "metadata": {},
   "outputs": [],
   "source": [
    "chordDiagram(gene_cor, \n",
    "    annotationTrack = c('grid', 'name', 'axis'), #绘制外周圆弧区，显示名称和刻度轴\n",
    "    #grid.col = c(GABRD = 'green3', PLVAP = 'red', CDKN3 = 'orange', CDC25C = 'purple', UBE2T = 'skyblue', SKA1 = 'blue'), #定义基因颜色\n",
    "    col = colorRamp2(c(-1, 0, 1), c('green', 'white', 'red'), transparency = 0.5), #根据相关性大小展示连线的颜色范围\n",
    "    annotationTrackHeight = c(0.05, 0.05), )#名称离圆弧的距离，以及圆弧的宽度"
   ]
  },
  {
   "cell_type": "code",
   "execution_count": null,
   "id": "f7960de0-2c9c-41b8-ad01-7e5c3cdc54fd",
   "metadata": {},
   "outputs": [],
   "source": [
    "save(data,file = 'data.rda')"
   ]
  },
  {
   "cell_type": "code",
   "execution_count": null,
   "id": "bb038ca8-d08e-4366-9cc7-6d1e044206b1",
   "metadata": {},
   "outputs": [],
   "source": []
  },
  {
   "cell_type": "code",
   "execution_count": null,
   "id": "809e4a47-57b9-4b8c-b3bb-9bce74eaf037",
   "metadata": {},
   "outputs": [],
   "source": []
  },
  {
   "cell_type": "code",
   "execution_count": null,
   "id": "f3357bd0-c782-4df4-8e68-087b772a5d33",
   "metadata": {},
   "outputs": [],
   "source": [
    "library(autoReg)"
   ]
  },
  {
   "cell_type": "code",
   "execution_count": null,
   "id": "5bd1d330-c16d-4103-a2d4-aac3c6accbe4",
   "metadata": {},
   "outputs": [],
   "source": [
    "logreg4<-autoReg(fit.reduce,uni=TRUE,threshold=0.05, final=T)   #final=T逐步回归\n",
    "logreg4\n",
    "logtable4<-myft(logreg4)"
   ]
  },
  {
   "cell_type": "code",
   "execution_count": null,
   "id": "acb64a16-fa56-4de8-ba72-fcbf30cf4498",
   "metadata": {},
   "outputs": [],
   "source": []
  },
  {
   "cell_type": "code",
   "execution_count": null,
   "id": "e424e169-c4fb-4bdb-a4af-c0bff196a4e9",
   "metadata": {},
   "outputs": [],
   "source": []
  }
 ],
 "metadata": {
  "kernelspec": {
   "display_name": "R",
   "language": "R",
   "name": "ir"
  },
  "language_info": {
   "codemirror_mode": "r",
   "file_extension": ".r",
   "mimetype": "text/x-r-source",
   "name": "R",
   "pygments_lexer": "r",
   "version": "4.2.1"
  }
 },
 "nbformat": 4,
 "nbformat_minor": 5
}
