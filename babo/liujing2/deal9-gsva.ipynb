{
 "cells": [
  {
   "cell_type": "code",
   "execution_count": 31,
   "id": "947824af-8152-475e-89bb-068c676f5fbe",
   "metadata": {},
   "outputs": [
    {
     "data": {
      "text/html": [
       "<style>\n",
       ".list-inline {list-style: none; margin:0; padding: 0}\n",
       ".list-inline>li {display: inline-block}\n",
       ".list-inline>li:not(:last-child)::after {content: \"\\00b7\"; padding: 0 .5ex}\n",
       "</style>\n",
       "<ol class=list-inline><li>28056</li><li>59</li></ol>\n"
      ],
      "text/latex": [
       "\\begin{enumerate*}\n",
       "\\item 28056\n",
       "\\item 59\n",
       "\\end{enumerate*}\n"
      ],
      "text/markdown": [
       "1. 28056\n",
       "2. 59\n",
       "\n",
       "\n"
      ],
      "text/plain": [
       "[1] 28056    59"
      ]
     },
     "metadata": {},
     "output_type": "display_data"
    },
    {
     "data": {
      "text/html": [
       "<style>\n",
       ".list-inline {list-style: none; margin:0; padding: 0}\n",
       ".list-inline>li {display: inline-block}\n",
       ".list-inline>li:not(:last-child)::after {content: \"\\00b7\"; padding: 0 .5ex}\n",
       "</style>\n",
       "<ol class=list-inline><li>17525</li><li>59</li></ol>\n"
      ],
      "text/latex": [
       "\\begin{enumerate*}\n",
       "\\item 17525\n",
       "\\item 59\n",
       "\\end{enumerate*}\n"
      ],
      "text/markdown": [
       "1. 17525\n",
       "2. 59\n",
       "\n",
       "\n"
      ],
      "text/plain": [
       "[1] 17525    59"
      ]
     },
     "metadata": {},
     "output_type": "display_data"
    }
   ],
   "source": [
    "setwd('/import/liujing/data/my')\n",
    "load('../combat_edata1.rda')\n",
    "library(dplyr)\n",
    "expr = combat_edata1 %>%  t() %>%  as.data.frame()  \n",
    "bulk3.group = read.csv('bulk.3.group.csv',row.names = 1)\n",
    "expr1 = expr[rownames(bulk3.group),] %>% t() %>%  as.data.frame()\n",
    "dim(expr1)\n",
    "prot = read.table('./prot.txt',header = T,sep = '\\t')\n",
    "expr1 = expr1 %>%  dplyr::filter(rownames(.) %in% prot$GeneName)\n",
    "dim(expr1)"
   ]
  },
  {
   "cell_type": "code",
   "execution_count": 36,
   "id": "4c3cbd10-685c-4102-a252-7c15adcdd57d",
   "metadata": {
    "scrolled": true
   },
   "outputs": [],
   "source": [
    ".libPaths(c('/root/miniconda3/envs/Rdoc/lib/R/library','/root/miniconda3/envs/metadoc/lib/R/library'))"
   ]
  },
  {
   "cell_type": "code",
   "execution_count": 37,
   "id": "92f78fb1-9a4e-40f2-9417-46d9fb054f39",
   "metadata": {},
   "outputs": [
    {
     "name": "stderr",
     "output_type": "stream",
     "text": [
      "Warning message:\n",
      "\"package 'HGNChelper' was built under R version 4.2.3\"\n",
      "Please cite our software :) \n",
      " \n",
      " Sehyun Oh et al. HGNChelper: identification and correction of invalid gene symbols for human and mouse. F1000Research 2020, 9:1493. DOI: https://doi.org/10.12688/f1000research.28033.1 \n",
      " \n",
      " Type `citation('HGNChelper')` for a BibTeX entry.\n",
      "\n"
     ]
    }
   ],
   "source": [
    "library(HGNChelper)"
   ]
  },
  {
   "cell_type": "code",
   "execution_count": 38,
   "id": "1c7f8066-9d9e-46f6-affe-a350f60eb344",
   "metadata": {},
   "outputs": [],
   "source": [
    "mtx = expr1"
   ]
  },
  {
   "cell_type": "code",
   "execution_count": 39,
   "id": "11b156f9-5e81-47e6-a944-41f068c033a4",
   "metadata": {},
   "outputs": [
    {
     "name": "stderr",
     "output_type": "stream",
     "text": [
      "Maps last updated on: Fri May 17 15:09:37 2024\n",
      "\n",
      "Warning message in checkGeneSymbols(rownames(mtx)):\n",
      "\"Human gene symbols should be all upper-case except for the 'orf' in open reading frames. The case of some letters was corrected.\"\n",
      "Warning message in checkGeneSymbols(rownames(mtx)):\n",
      "\"x contains non-approved gene symbols\"\n"
     ]
    },
    {
     "data": {
      "text/plain": [
       "\n",
       "FALSE  TRUE \n",
       " 1775 15750 "
      ]
     },
     "metadata": {},
     "output_type": "display_data"
    },
    {
     "data": {
      "text/plain": [
       "\n",
       "FALSE  TRUE \n",
       "17009   516 "
      ]
     },
     "metadata": {},
     "output_type": "display_data"
    },
    {
     "data": {
      "text/html": [
       "<style>\n",
       ".list-inline {list-style: none; margin:0; padding: 0}\n",
       ".list-inline>li {display: inline-block}\n",
       ".list-inline>li:not(:last-child)::after {content: \"\\00b7\"; padding: 0 .5ex}\n",
       "</style>\n",
       "<ol class=list-inline><li>16949</li><li>59</li></ol>\n"
      ],
      "text/latex": [
       "\\begin{enumerate*}\n",
       "\\item 16949\n",
       "\\item 59\n",
       "\\end{enumerate*}\n"
      ],
      "text/markdown": [
       "1. 16949\n",
       "2. 59\n",
       "\n",
       "\n"
      ],
      "text/plain": [
       "[1] 16949    59"
      ]
     },
     "metadata": {},
     "output_type": "display_data"
    }
   ],
   "source": [
    "t <- checkGeneSymbols(rownames(mtx))\n",
    "table(t$Approved)\n",
    "table(is.na(t$Suggested.Symbol))\n",
    "# delete <NA> and duplicated Suggested.Symbol\n",
    "mtx$Suggested.Symbol <- t$Suggested.Symbol\n",
    "mtx <- mtx[!is.na(mtx$Suggested.Symbol), ]\n",
    "mtx <- mtx[!duplicated(mtx$Suggested.Symbol), ]\n",
    "# delete multiple Suggested.Symbol\n",
    "mtx <- mtx[!grepl(\"///\", mtx$Suggested.Symbol), ]\n",
    "# reset rownames\n",
    "rownames(mtx) <- mtx$Suggested.Symbol\n",
    "# delete Suggested.Symbol columns\n",
    "mtx <- subset(mtx, select = -c(Suggested.Symbol))\n",
    "dim(mtx)"
   ]
  },
  {
   "cell_type": "code",
   "execution_count": null,
   "id": "50813018-9546-4451-8632-06f05269c900",
   "metadata": {},
   "outputs": [],
   "source": [
    "dat = mtx\n",
    "library('GSEABase')\n",
    "library(GSVA)"
   ]
  },
  {
   "cell_type": "code",
   "execution_count": 52,
   "id": "79403691-18f9-47b5-bc01-010ca796ae56",
   "metadata": {
    "scrolled": true
   },
   "outputs": [
    {
     "name": "stderr",
     "output_type": "stream",
     "text": [
      "Warning message in getGmt(\"BP.gmt\"):\n",
      "\"2 record(s) contain duplicate ids: GOBP_CIRCULATORY_SYSTEM_DEVELOPMENT, GOBP_PROTEOLYSIS_INVOLVED_IN_PROTEIN_CATABOLIC_PROCESS\"\n",
      "Warning message:\n",
      "\"useNames = NA is deprecated. Instead, specify either useNames = TRUE or useNames = TRUE.\"\n",
      "Warning message in .filterFeatures(expr, method):\n",
      "\"29 genes with constant expression values throuhgout the samples.\"\n",
      "Warning message in .filterFeatures(expr, method):\n",
      "\"Since argument method!=\"ssgsea\", genes with constant expression values are discarded.\"\n",
      "Warning message in .gsva(expr, mapped.gset.idx.list, method, kcdf, rnaseq, abs.ranking, :\n",
      "\"Some gene sets have size one. Consider setting 'min.sz > 1'.\"\n"
     ]
    },
    {
     "name": "stdout",
     "output_type": "stream",
     "text": [
      "Setting parallel calculations through a MulticoreParam back-end\n",
      "with workers=14 and tasks=100.\n",
      "Estimating GSVA scores for 7643 gene sets.\n",
      "Estimating ECDFs with Gaussian kernels\n",
      "Estimating ECDFs in parallel on 14 cores\n"
     ]
    },
    {
     "name": "stderr",
     "output_type": "stream",
     "text": [
      "iteration: \n",
      "1\n",
      "\b2\n",
      "\b3\n",
      "\b4\n",
      "\b5\n",
      "\b6\n",
      "\b7\n",
      "\b8\n",
      "\b9\n",
      "\b10\n",
      "11\n",
      "12\n",
      "13\n",
      "14\n",
      "15\n",
      "16\n",
      "17\n",
      "18\n",
      "19\n",
      "20\n",
      "21\n",
      "22\n",
      "23\n",
      "24\n",
      "25\n",
      "26\n",
      "27\n",
      "28\n",
      "29\n",
      "30\n",
      "31\n",
      "32\n",
      "33\n",
      "34\n",
      "35\n",
      "36\n",
      "37\n",
      "38\n",
      "39\n",
      "40\n",
      "41\n",
      "42\n",
      "43\n",
      "44\n",
      "45\n",
      "46\n",
      "47\n",
      "48\n",
      "49\n",
      "50\n",
      "51\n",
      "52\n",
      "53\n",
      "54\n",
      "55\n",
      "56\n",
      "57\n",
      "58\n",
      "59\n",
      "60\n",
      "61\n",
      "62\n",
      "63\n",
      "64\n",
      "65\n",
      "66\n",
      "67\n",
      "68\n",
      "69\n",
      "70\n",
      "71\n",
      "72\n",
      "73\n",
      "74\n",
      "75\n",
      "76\n",
      "77\n",
      "78\n",
      "79\n",
      "80\n",
      "81\n",
      "82\n",
      "83\n",
      "84\n",
      "85\n",
      "86\n",
      "87\n",
      "88\n",
      "89\n",
      "90\n",
      "91\n",
      "92\n",
      "93\n",
      "94\n",
      "95\n",
      "96\n",
      "97\n",
      "98\n",
      "99\n",
      "100\n",
      "\n",
      "\n"
     ]
    },
    {
     "name": "stdout",
     "output_type": "stream",
     "text": [
      "  |======================================================================| 100%\n",
      "\n"
     ]
    },
    {
     "data": {
      "text/html": [
       "<table class=\"dataframe\">\n",
       "<caption>A matrix: 6 x 59 of type dbl</caption>\n",
       "<thead>\n",
       "\t<tr><th></th><th scope=col>CI10_M1</th><th scope=col>CI11_M1</th><th scope=col>CI12_M1</th><th scope=col>CI13_M1</th><th scope=col>CI14_M1</th><th scope=col>CI15_M1</th><th scope=col>CI16_M1</th><th scope=col>CI17_M1</th><th scope=col>CI18_M1</th><th scope=col>CI19_M1</th><th scope=col>...</th><th scope=col>CI16_M2</th><th scope=col>CI1_M2</th><th scope=col>CI2_M2</th><th scope=col>CI3_M2</th><th scope=col>CI4_M2</th><th scope=col>CI5_M2</th><th scope=col>CI6_M2</th><th scope=col>CI7_M2</th><th scope=col>CI8_M2</th><th scope=col>CI9_M2</th></tr>\n",
       "</thead>\n",
       "<tbody>\n",
       "\t<tr><th scope=row>GOBP_10_FORMYLTETRAHYDROFOLATE_METABOLIC_PROCESS</th><td> 0.25904364</td><td> 0.006030507</td><td>-0.589900903</td><td>-0.62410558</td><td> 0.04994871</td><td>-0.1177513</td><td>-0.49772537</td><td>-0.15300960</td><td> 0.31121735</td><td> 0.22996789</td><td>...</td><td>-0.1154728</td><td> 0.02435852</td><td> 0.55429942</td><td> 0.15688182</td><td> 0.06896233</td><td>-0.45859240</td><td> 0.26401720</td><td>-0.24220792</td><td>-0.3972842</td><td>-0.3957811</td></tr>\n",
       "\t<tr><th scope=row>GOBP_2FE_2S_CLUSTER_ASSEMBLY</th><td> 0.40442328</td><td>-0.225022249</td><td>-0.113419963</td><td>-0.32200199</td><td>-0.18545240</td><td> 0.4298341</td><td>-0.24450634</td><td>-0.07024114</td><td> 0.14429067</td><td>-0.42945721</td><td>...</td><td> 0.1937495</td><td>-0.54291374</td><td>-0.20337215</td><td>-0.57758209</td><td>-0.23447346</td><td>-0.01831320</td><td>-0.52135851</td><td> 0.31006249</td><td>-0.4156924</td><td>-0.5595488</td></tr>\n",
       "\t<tr><th scope=row>GOBP_2_OXOGLUTARATE_METABOLIC_PROCESS</th><td> 0.05435274</td><td> 0.126748715</td><td>-0.097849852</td><td>-0.60977456</td><td>-0.18739531</td><td> 0.1822385</td><td> 0.09620181</td><td> 0.33432541</td><td>-0.02598573</td><td>-0.01023297</td><td>...</td><td> 0.1511792</td><td>-0.38854666</td><td> 0.46849841</td><td>-0.49953133</td><td> 0.20682663</td><td>-0.08483968</td><td> 0.13868844</td><td> 0.08965542</td><td>-0.1173357</td><td>-0.3899302</td></tr>\n",
       "\t<tr><th scope=row>GOBP_3_PHOSPHOADENOSINE_5_PHOSPHOSULFATE_METABOLIC_PROCESS</th><td>-0.06211476</td><td> 0.439583683</td><td> 0.223170806</td><td> 0.20687664</td><td>-0.31836644</td><td>-0.1748019</td><td> 0.13539474</td><td>-0.26305516</td><td> 0.29031062</td><td>-0.03695818</td><td>...</td><td>-0.2734013</td><td> 0.11438232</td><td>-0.25368567</td><td> 0.18816687</td><td>-0.09197796</td><td>-0.20028466</td><td>-0.07179057</td><td> 0.08941582</td><td> 0.2947041</td><td> 0.4477109</td></tr>\n",
       "\t<tr><th scope=row>GOBP_3_UTR_MEDIATED_MRNA_DESTABILIZATION</th><td>-0.34769599</td><td>-0.136397516</td><td> 0.122533492</td><td>-0.09879742</td><td> 0.07662117</td><td>-0.3197572</td><td>-0.29193834</td><td> 0.33012236</td><td>-0.17358060</td><td> 0.43363492</td><td>...</td><td> 0.1603991</td><td> 0.34273399</td><td> 0.21054498</td><td>-0.10954177</td><td> 0.12728656</td><td> 0.28725329</td><td> 0.53713923</td><td>-0.18700456</td><td> 0.4154012</td><td> 0.3296974</td></tr>\n",
       "\t<tr><th scope=row>GOBP_3_UTR_MEDIATED_MRNA_STABILIZATION</th><td>-0.35827413</td><td> 0.090360584</td><td>-0.002824783</td><td> 0.18547240</td><td>-0.30724548</td><td>-0.2908670</td><td>-0.14468903</td><td> 0.11937623</td><td> 0.31188398</td><td> 0.07314475</td><td>...</td><td>-0.1009541</td><td> 0.17302188</td><td>-0.01429759</td><td>-0.02945935</td><td> 0.11439189</td><td> 0.10163954</td><td> 0.31614319</td><td>-0.17160646</td><td> 0.1570106</td><td> 0.1400127</td></tr>\n",
       "</tbody>\n",
       "</table>\n"
      ],
      "text/latex": [
       "A matrix: 6 x 59 of type dbl\n",
       "\\begin{tabular}{r|lllllllllllllllllllll}\n",
       "  & CI10\\_M1 & CI11\\_M1 & CI12\\_M1 & CI13\\_M1 & CI14\\_M1 & CI15\\_M1 & CI16\\_M1 & CI17\\_M1 & CI18\\_M1 & CI19\\_M1 & ... & CI16\\_M2 & CI1\\_M2 & CI2\\_M2 & CI3\\_M2 & CI4\\_M2 & CI5\\_M2 & CI6\\_M2 & CI7\\_M2 & CI8\\_M2 & CI9\\_M2\\\\\n",
       "\\hline\n",
       "\tGOBP\\_10\\_FORMYLTETRAHYDROFOLATE\\_METABOLIC\\_PROCESS &  0.25904364 &  0.006030507 & -0.589900903 & -0.62410558 &  0.04994871 & -0.1177513 & -0.49772537 & -0.15300960 &  0.31121735 &  0.22996789 & ... & -0.1154728 &  0.02435852 &  0.55429942 &  0.15688182 &  0.06896233 & -0.45859240 &  0.26401720 & -0.24220792 & -0.3972842 & -0.3957811\\\\\n",
       "\tGOBP\\_2FE\\_2S\\_CLUSTER\\_ASSEMBLY &  0.40442328 & -0.225022249 & -0.113419963 & -0.32200199 & -0.18545240 &  0.4298341 & -0.24450634 & -0.07024114 &  0.14429067 & -0.42945721 & ... &  0.1937495 & -0.54291374 & -0.20337215 & -0.57758209 & -0.23447346 & -0.01831320 & -0.52135851 &  0.31006249 & -0.4156924 & -0.5595488\\\\\n",
       "\tGOBP\\_2\\_OXOGLUTARATE\\_METABOLIC\\_PROCESS &  0.05435274 &  0.126748715 & -0.097849852 & -0.60977456 & -0.18739531 &  0.1822385 &  0.09620181 &  0.33432541 & -0.02598573 & -0.01023297 & ... &  0.1511792 & -0.38854666 &  0.46849841 & -0.49953133 &  0.20682663 & -0.08483968 &  0.13868844 &  0.08965542 & -0.1173357 & -0.3899302\\\\\n",
       "\tGOBP\\_3\\_PHOSPHOADENOSINE\\_5\\_PHOSPHOSULFATE\\_METABOLIC\\_PROCESS & -0.06211476 &  0.439583683 &  0.223170806 &  0.20687664 & -0.31836644 & -0.1748019 &  0.13539474 & -0.26305516 &  0.29031062 & -0.03695818 & ... & -0.2734013 &  0.11438232 & -0.25368567 &  0.18816687 & -0.09197796 & -0.20028466 & -0.07179057 &  0.08941582 &  0.2947041 &  0.4477109\\\\\n",
       "\tGOBP\\_3\\_UTR\\_MEDIATED\\_MRNA\\_DESTABILIZATION & -0.34769599 & -0.136397516 &  0.122533492 & -0.09879742 &  0.07662117 & -0.3197572 & -0.29193834 &  0.33012236 & -0.17358060 &  0.43363492 & ... &  0.1603991 &  0.34273399 &  0.21054498 & -0.10954177 &  0.12728656 &  0.28725329 &  0.53713923 & -0.18700456 &  0.4154012 &  0.3296974\\\\\n",
       "\tGOBP\\_3\\_UTR\\_MEDIATED\\_MRNA\\_STABILIZATION & -0.35827413 &  0.090360584 & -0.002824783 &  0.18547240 & -0.30724548 & -0.2908670 & -0.14468903 &  0.11937623 &  0.31188398 &  0.07314475 & ... & -0.1009541 &  0.17302188 & -0.01429759 & -0.02945935 &  0.11439189 &  0.10163954 &  0.31614319 & -0.17160646 &  0.1570106 &  0.1400127\\\\\n",
       "\\end{tabular}\n"
      ],
      "text/markdown": [
       "\n",
       "A matrix: 6 x 59 of type dbl\n",
       "\n",
       "| <!--/--> | CI10_M1 | CI11_M1 | CI12_M1 | CI13_M1 | CI14_M1 | CI15_M1 | CI16_M1 | CI17_M1 | CI18_M1 | CI19_M1 | ... | CI16_M2 | CI1_M2 | CI2_M2 | CI3_M2 | CI4_M2 | CI5_M2 | CI6_M2 | CI7_M2 | CI8_M2 | CI9_M2 |\n",
       "|---|---|---|---|---|---|---|---|---|---|---|---|---|---|---|---|---|---|---|---|---|---|\n",
       "| GOBP_10_FORMYLTETRAHYDROFOLATE_METABOLIC_PROCESS |  0.25904364 |  0.006030507 | -0.589900903 | -0.62410558 |  0.04994871 | -0.1177513 | -0.49772537 | -0.15300960 |  0.31121735 |  0.22996789 | ... | -0.1154728 |  0.02435852 |  0.55429942 |  0.15688182 |  0.06896233 | -0.45859240 |  0.26401720 | -0.24220792 | -0.3972842 | -0.3957811 |\n",
       "| GOBP_2FE_2S_CLUSTER_ASSEMBLY |  0.40442328 | -0.225022249 | -0.113419963 | -0.32200199 | -0.18545240 |  0.4298341 | -0.24450634 | -0.07024114 |  0.14429067 | -0.42945721 | ... |  0.1937495 | -0.54291374 | -0.20337215 | -0.57758209 | -0.23447346 | -0.01831320 | -0.52135851 |  0.31006249 | -0.4156924 | -0.5595488 |\n",
       "| GOBP_2_OXOGLUTARATE_METABOLIC_PROCESS |  0.05435274 |  0.126748715 | -0.097849852 | -0.60977456 | -0.18739531 |  0.1822385 |  0.09620181 |  0.33432541 | -0.02598573 | -0.01023297 | ... |  0.1511792 | -0.38854666 |  0.46849841 | -0.49953133 |  0.20682663 | -0.08483968 |  0.13868844 |  0.08965542 | -0.1173357 | -0.3899302 |\n",
       "| GOBP_3_PHOSPHOADENOSINE_5_PHOSPHOSULFATE_METABOLIC_PROCESS | -0.06211476 |  0.439583683 |  0.223170806 |  0.20687664 | -0.31836644 | -0.1748019 |  0.13539474 | -0.26305516 |  0.29031062 | -0.03695818 | ... | -0.2734013 |  0.11438232 | -0.25368567 |  0.18816687 | -0.09197796 | -0.20028466 | -0.07179057 |  0.08941582 |  0.2947041 |  0.4477109 |\n",
       "| GOBP_3_UTR_MEDIATED_MRNA_DESTABILIZATION | -0.34769599 | -0.136397516 |  0.122533492 | -0.09879742 |  0.07662117 | -0.3197572 | -0.29193834 |  0.33012236 | -0.17358060 |  0.43363492 | ... |  0.1603991 |  0.34273399 |  0.21054498 | -0.10954177 |  0.12728656 |  0.28725329 |  0.53713923 | -0.18700456 |  0.4154012 |  0.3296974 |\n",
       "| GOBP_3_UTR_MEDIATED_MRNA_STABILIZATION | -0.35827413 |  0.090360584 | -0.002824783 |  0.18547240 | -0.30724548 | -0.2908670 | -0.14468903 |  0.11937623 |  0.31188398 |  0.07314475 | ... | -0.1009541 |  0.17302188 | -0.01429759 | -0.02945935 |  0.11439189 |  0.10163954 |  0.31614319 | -0.17160646 |  0.1570106 |  0.1400127 |\n",
       "\n"
      ],
      "text/plain": [
       "                                                           CI10_M1    \n",
       "GOBP_10_FORMYLTETRAHYDROFOLATE_METABOLIC_PROCESS            0.25904364\n",
       "GOBP_2FE_2S_CLUSTER_ASSEMBLY                                0.40442328\n",
       "GOBP_2_OXOGLUTARATE_METABOLIC_PROCESS                       0.05435274\n",
       "GOBP_3_PHOSPHOADENOSINE_5_PHOSPHOSULFATE_METABOLIC_PROCESS -0.06211476\n",
       "GOBP_3_UTR_MEDIATED_MRNA_DESTABILIZATION                   -0.34769599\n",
       "GOBP_3_UTR_MEDIATED_MRNA_STABILIZATION                     -0.35827413\n",
       "                                                           CI11_M1     \n",
       "GOBP_10_FORMYLTETRAHYDROFOLATE_METABOLIC_PROCESS            0.006030507\n",
       "GOBP_2FE_2S_CLUSTER_ASSEMBLY                               -0.225022249\n",
       "GOBP_2_OXOGLUTARATE_METABOLIC_PROCESS                       0.126748715\n",
       "GOBP_3_PHOSPHOADENOSINE_5_PHOSPHOSULFATE_METABOLIC_PROCESS  0.439583683\n",
       "GOBP_3_UTR_MEDIATED_MRNA_DESTABILIZATION                   -0.136397516\n",
       "GOBP_3_UTR_MEDIATED_MRNA_STABILIZATION                      0.090360584\n",
       "                                                           CI12_M1     \n",
       "GOBP_10_FORMYLTETRAHYDROFOLATE_METABOLIC_PROCESS           -0.589900903\n",
       "GOBP_2FE_2S_CLUSTER_ASSEMBLY                               -0.113419963\n",
       "GOBP_2_OXOGLUTARATE_METABOLIC_PROCESS                      -0.097849852\n",
       "GOBP_3_PHOSPHOADENOSINE_5_PHOSPHOSULFATE_METABOLIC_PROCESS  0.223170806\n",
       "GOBP_3_UTR_MEDIATED_MRNA_DESTABILIZATION                    0.122533492\n",
       "GOBP_3_UTR_MEDIATED_MRNA_STABILIZATION                     -0.002824783\n",
       "                                                           CI13_M1    \n",
       "GOBP_10_FORMYLTETRAHYDROFOLATE_METABOLIC_PROCESS           -0.62410558\n",
       "GOBP_2FE_2S_CLUSTER_ASSEMBLY                               -0.32200199\n",
       "GOBP_2_OXOGLUTARATE_METABOLIC_PROCESS                      -0.60977456\n",
       "GOBP_3_PHOSPHOADENOSINE_5_PHOSPHOSULFATE_METABOLIC_PROCESS  0.20687664\n",
       "GOBP_3_UTR_MEDIATED_MRNA_DESTABILIZATION                   -0.09879742\n",
       "GOBP_3_UTR_MEDIATED_MRNA_STABILIZATION                      0.18547240\n",
       "                                                           CI14_M1    \n",
       "GOBP_10_FORMYLTETRAHYDROFOLATE_METABOLIC_PROCESS            0.04994871\n",
       "GOBP_2FE_2S_CLUSTER_ASSEMBLY                               -0.18545240\n",
       "GOBP_2_OXOGLUTARATE_METABOLIC_PROCESS                      -0.18739531\n",
       "GOBP_3_PHOSPHOADENOSINE_5_PHOSPHOSULFATE_METABOLIC_PROCESS -0.31836644\n",
       "GOBP_3_UTR_MEDIATED_MRNA_DESTABILIZATION                    0.07662117\n",
       "GOBP_3_UTR_MEDIATED_MRNA_STABILIZATION                     -0.30724548\n",
       "                                                           CI15_M1   \n",
       "GOBP_10_FORMYLTETRAHYDROFOLATE_METABOLIC_PROCESS           -0.1177513\n",
       "GOBP_2FE_2S_CLUSTER_ASSEMBLY                                0.4298341\n",
       "GOBP_2_OXOGLUTARATE_METABOLIC_PROCESS                       0.1822385\n",
       "GOBP_3_PHOSPHOADENOSINE_5_PHOSPHOSULFATE_METABOLIC_PROCESS -0.1748019\n",
       "GOBP_3_UTR_MEDIATED_MRNA_DESTABILIZATION                   -0.3197572\n",
       "GOBP_3_UTR_MEDIATED_MRNA_STABILIZATION                     -0.2908670\n",
       "                                                           CI16_M1    \n",
       "GOBP_10_FORMYLTETRAHYDROFOLATE_METABOLIC_PROCESS           -0.49772537\n",
       "GOBP_2FE_2S_CLUSTER_ASSEMBLY                               -0.24450634\n",
       "GOBP_2_OXOGLUTARATE_METABOLIC_PROCESS                       0.09620181\n",
       "GOBP_3_PHOSPHOADENOSINE_5_PHOSPHOSULFATE_METABOLIC_PROCESS  0.13539474\n",
       "GOBP_3_UTR_MEDIATED_MRNA_DESTABILIZATION                   -0.29193834\n",
       "GOBP_3_UTR_MEDIATED_MRNA_STABILIZATION                     -0.14468903\n",
       "                                                           CI17_M1    \n",
       "GOBP_10_FORMYLTETRAHYDROFOLATE_METABOLIC_PROCESS           -0.15300960\n",
       "GOBP_2FE_2S_CLUSTER_ASSEMBLY                               -0.07024114\n",
       "GOBP_2_OXOGLUTARATE_METABOLIC_PROCESS                       0.33432541\n",
       "GOBP_3_PHOSPHOADENOSINE_5_PHOSPHOSULFATE_METABOLIC_PROCESS -0.26305516\n",
       "GOBP_3_UTR_MEDIATED_MRNA_DESTABILIZATION                    0.33012236\n",
       "GOBP_3_UTR_MEDIATED_MRNA_STABILIZATION                      0.11937623\n",
       "                                                           CI18_M1    \n",
       "GOBP_10_FORMYLTETRAHYDROFOLATE_METABOLIC_PROCESS            0.31121735\n",
       "GOBP_2FE_2S_CLUSTER_ASSEMBLY                                0.14429067\n",
       "GOBP_2_OXOGLUTARATE_METABOLIC_PROCESS                      -0.02598573\n",
       "GOBP_3_PHOSPHOADENOSINE_5_PHOSPHOSULFATE_METABOLIC_PROCESS  0.29031062\n",
       "GOBP_3_UTR_MEDIATED_MRNA_DESTABILIZATION                   -0.17358060\n",
       "GOBP_3_UTR_MEDIATED_MRNA_STABILIZATION                      0.31188398\n",
       "                                                           CI19_M1     ...\n",
       "GOBP_10_FORMYLTETRAHYDROFOLATE_METABOLIC_PROCESS            0.22996789 ...\n",
       "GOBP_2FE_2S_CLUSTER_ASSEMBLY                               -0.42945721 ...\n",
       "GOBP_2_OXOGLUTARATE_METABOLIC_PROCESS                      -0.01023297 ...\n",
       "GOBP_3_PHOSPHOADENOSINE_5_PHOSPHOSULFATE_METABOLIC_PROCESS -0.03695818 ...\n",
       "GOBP_3_UTR_MEDIATED_MRNA_DESTABILIZATION                    0.43363492 ...\n",
       "GOBP_3_UTR_MEDIATED_MRNA_STABILIZATION                      0.07314475 ...\n",
       "                                                           CI16_M2   \n",
       "GOBP_10_FORMYLTETRAHYDROFOLATE_METABOLIC_PROCESS           -0.1154728\n",
       "GOBP_2FE_2S_CLUSTER_ASSEMBLY                                0.1937495\n",
       "GOBP_2_OXOGLUTARATE_METABOLIC_PROCESS                       0.1511792\n",
       "GOBP_3_PHOSPHOADENOSINE_5_PHOSPHOSULFATE_METABOLIC_PROCESS -0.2734013\n",
       "GOBP_3_UTR_MEDIATED_MRNA_DESTABILIZATION                    0.1603991\n",
       "GOBP_3_UTR_MEDIATED_MRNA_STABILIZATION                     -0.1009541\n",
       "                                                           CI1_M2     \n",
       "GOBP_10_FORMYLTETRAHYDROFOLATE_METABOLIC_PROCESS            0.02435852\n",
       "GOBP_2FE_2S_CLUSTER_ASSEMBLY                               -0.54291374\n",
       "GOBP_2_OXOGLUTARATE_METABOLIC_PROCESS                      -0.38854666\n",
       "GOBP_3_PHOSPHOADENOSINE_5_PHOSPHOSULFATE_METABOLIC_PROCESS  0.11438232\n",
       "GOBP_3_UTR_MEDIATED_MRNA_DESTABILIZATION                    0.34273399\n",
       "GOBP_3_UTR_MEDIATED_MRNA_STABILIZATION                      0.17302188\n",
       "                                                           CI2_M2     \n",
       "GOBP_10_FORMYLTETRAHYDROFOLATE_METABOLIC_PROCESS            0.55429942\n",
       "GOBP_2FE_2S_CLUSTER_ASSEMBLY                               -0.20337215\n",
       "GOBP_2_OXOGLUTARATE_METABOLIC_PROCESS                       0.46849841\n",
       "GOBP_3_PHOSPHOADENOSINE_5_PHOSPHOSULFATE_METABOLIC_PROCESS -0.25368567\n",
       "GOBP_3_UTR_MEDIATED_MRNA_DESTABILIZATION                    0.21054498\n",
       "GOBP_3_UTR_MEDIATED_MRNA_STABILIZATION                     -0.01429759\n",
       "                                                           CI3_M2     \n",
       "GOBP_10_FORMYLTETRAHYDROFOLATE_METABOLIC_PROCESS            0.15688182\n",
       "GOBP_2FE_2S_CLUSTER_ASSEMBLY                               -0.57758209\n",
       "GOBP_2_OXOGLUTARATE_METABOLIC_PROCESS                      -0.49953133\n",
       "GOBP_3_PHOSPHOADENOSINE_5_PHOSPHOSULFATE_METABOLIC_PROCESS  0.18816687\n",
       "GOBP_3_UTR_MEDIATED_MRNA_DESTABILIZATION                   -0.10954177\n",
       "GOBP_3_UTR_MEDIATED_MRNA_STABILIZATION                     -0.02945935\n",
       "                                                           CI4_M2     \n",
       "GOBP_10_FORMYLTETRAHYDROFOLATE_METABOLIC_PROCESS            0.06896233\n",
       "GOBP_2FE_2S_CLUSTER_ASSEMBLY                               -0.23447346\n",
       "GOBP_2_OXOGLUTARATE_METABOLIC_PROCESS                       0.20682663\n",
       "GOBP_3_PHOSPHOADENOSINE_5_PHOSPHOSULFATE_METABOLIC_PROCESS -0.09197796\n",
       "GOBP_3_UTR_MEDIATED_MRNA_DESTABILIZATION                    0.12728656\n",
       "GOBP_3_UTR_MEDIATED_MRNA_STABILIZATION                      0.11439189\n",
       "                                                           CI5_M2     \n",
       "GOBP_10_FORMYLTETRAHYDROFOLATE_METABOLIC_PROCESS           -0.45859240\n",
       "GOBP_2FE_2S_CLUSTER_ASSEMBLY                               -0.01831320\n",
       "GOBP_2_OXOGLUTARATE_METABOLIC_PROCESS                      -0.08483968\n",
       "GOBP_3_PHOSPHOADENOSINE_5_PHOSPHOSULFATE_METABOLIC_PROCESS -0.20028466\n",
       "GOBP_3_UTR_MEDIATED_MRNA_DESTABILIZATION                    0.28725329\n",
       "GOBP_3_UTR_MEDIATED_MRNA_STABILIZATION                      0.10163954\n",
       "                                                           CI6_M2     \n",
       "GOBP_10_FORMYLTETRAHYDROFOLATE_METABOLIC_PROCESS            0.26401720\n",
       "GOBP_2FE_2S_CLUSTER_ASSEMBLY                               -0.52135851\n",
       "GOBP_2_OXOGLUTARATE_METABOLIC_PROCESS                       0.13868844\n",
       "GOBP_3_PHOSPHOADENOSINE_5_PHOSPHOSULFATE_METABOLIC_PROCESS -0.07179057\n",
       "GOBP_3_UTR_MEDIATED_MRNA_DESTABILIZATION                    0.53713923\n",
       "GOBP_3_UTR_MEDIATED_MRNA_STABILIZATION                      0.31614319\n",
       "                                                           CI7_M2     \n",
       "GOBP_10_FORMYLTETRAHYDROFOLATE_METABOLIC_PROCESS           -0.24220792\n",
       "GOBP_2FE_2S_CLUSTER_ASSEMBLY                                0.31006249\n",
       "GOBP_2_OXOGLUTARATE_METABOLIC_PROCESS                       0.08965542\n",
       "GOBP_3_PHOSPHOADENOSINE_5_PHOSPHOSULFATE_METABOLIC_PROCESS  0.08941582\n",
       "GOBP_3_UTR_MEDIATED_MRNA_DESTABILIZATION                   -0.18700456\n",
       "GOBP_3_UTR_MEDIATED_MRNA_STABILIZATION                     -0.17160646\n",
       "                                                           CI8_M2    \n",
       "GOBP_10_FORMYLTETRAHYDROFOLATE_METABOLIC_PROCESS           -0.3972842\n",
       "GOBP_2FE_2S_CLUSTER_ASSEMBLY                               -0.4156924\n",
       "GOBP_2_OXOGLUTARATE_METABOLIC_PROCESS                      -0.1173357\n",
       "GOBP_3_PHOSPHOADENOSINE_5_PHOSPHOSULFATE_METABOLIC_PROCESS  0.2947041\n",
       "GOBP_3_UTR_MEDIATED_MRNA_DESTABILIZATION                    0.4154012\n",
       "GOBP_3_UTR_MEDIATED_MRNA_STABILIZATION                      0.1570106\n",
       "                                                           CI9_M2    \n",
       "GOBP_10_FORMYLTETRAHYDROFOLATE_METABOLIC_PROCESS           -0.3957811\n",
       "GOBP_2FE_2S_CLUSTER_ASSEMBLY                               -0.5595488\n",
       "GOBP_2_OXOGLUTARATE_METABOLIC_PROCESS                      -0.3899302\n",
       "GOBP_3_PHOSPHOADENOSINE_5_PHOSPHOSULFATE_METABOLIC_PROCESS  0.4477109\n",
       "GOBP_3_UTR_MEDIATED_MRNA_DESTABILIZATION                    0.3296974\n",
       "GOBP_3_UTR_MEDIATED_MRNA_STABILIZATION                      0.1400127"
      ]
     },
     "metadata": {},
     "output_type": "display_data"
    }
   ],
   "source": [
    "#geneSets <- getGmt('h.all.v7.5.1.symbols.gmt')    ###下载的基因集\n",
    "geneSets <- getGmt('BP.gmt')\n",
    "GSVA_hall <- gsva(expr=as.matrix(dat), \n",
    "                  gset.idx.list=geneSets, \n",
    "                  mx.diff=T, # 数据为正态分布则T，双峰则F\n",
    "                  kcdf=\"Gaussian\", #CPM, RPKM, TPM数据就用默认值\"Gaussian\"， read count数据则为\"Poisson\"，\n",
    "                  parallel.sz=14) # 并行线程数目\n",
    "head(GSVA_hall)"
   ]
  },
  {
   "cell_type": "code",
   "execution_count": 85,
   "id": "cdb8b009-a40f-429c-8264-aa2b15de779f",
   "metadata": {
    "scrolled": true
   },
   "outputs": [
    {
     "data": {
      "text/html": [
       "<table class=\"dataframe\">\n",
       "<caption>A matrix: 59 x 2 of type dbl</caption>\n",
       "<thead>\n",
       "\t<tr><th></th><th scope=col>Subtype2</th><th scope=col>Subtype1</th></tr>\n",
       "</thead>\n",
       "<tbody>\n",
       "\t<tr><th scope=row>CI10_M1</th><td>1</td><td>0</td></tr>\n",
       "\t<tr><th scope=row>CI11_M1</th><td>1</td><td>0</td></tr>\n",
       "\t<tr><th scope=row>CI12_M1</th><td>1</td><td>0</td></tr>\n",
       "\t<tr><th scope=row>CI13_M1</th><td>1</td><td>0</td></tr>\n",
       "\t<tr><th scope=row>CI14_M1</th><td>1</td><td>0</td></tr>\n",
       "\t<tr><th scope=row>CI15_M1</th><td>0</td><td>1</td></tr>\n",
       "\t<tr><th scope=row>CI16_M1</th><td>1</td><td>0</td></tr>\n",
       "\t<tr><th scope=row>CI17_M1</th><td>1</td><td>0</td></tr>\n",
       "\t<tr><th scope=row>CI18_M1</th><td>1</td><td>0</td></tr>\n",
       "\t<tr><th scope=row>CI19_M1</th><td>1</td><td>0</td></tr>\n",
       "\t<tr><th scope=row>CI20_M1</th><td>0</td><td>1</td></tr>\n",
       "\t<tr><th scope=row>CI21_M1</th><td>1</td><td>0</td></tr>\n",
       "\t<tr><th scope=row>CI22_M1</th><td>1</td><td>0</td></tr>\n",
       "\t<tr><th scope=row>CI23_M1</th><td>1</td><td>0</td></tr>\n",
       "\t<tr><th scope=row>CI24_M1</th><td>1</td><td>0</td></tr>\n",
       "\t<tr><th scope=row>CI25_M1</th><td>1</td><td>0</td></tr>\n",
       "\t<tr><th scope=row>CI26_M1</th><td>1</td><td>0</td></tr>\n",
       "\t<tr><th scope=row>CI27_M1</th><td>1</td><td>0</td></tr>\n",
       "\t<tr><th scope=row>CI28_M1</th><td>1</td><td>0</td></tr>\n",
       "\t<tr><th scope=row>CI29_M1</th><td>1</td><td>0</td></tr>\n",
       "\t<tr><th scope=row>CI2_M1</th><td>1</td><td>0</td></tr>\n",
       "\t<tr><th scope=row>CI30_M1</th><td>1</td><td>0</td></tr>\n",
       "\t<tr><th scope=row>CI31_M1</th><td>1</td><td>0</td></tr>\n",
       "\t<tr><th scope=row>CI32_M1</th><td>0</td><td>1</td></tr>\n",
       "\t<tr><th scope=row>CI33_M1</th><td>1</td><td>0</td></tr>\n",
       "\t<tr><th scope=row>CI34_M1</th><td>0</td><td>1</td></tr>\n",
       "\t<tr><th scope=row>CI35_M1</th><td>1</td><td>0</td></tr>\n",
       "\t<tr><th scope=row>CI36_M1</th><td>1</td><td>0</td></tr>\n",
       "\t<tr><th scope=row>CI37_M1</th><td>1</td><td>0</td></tr>\n",
       "\t<tr><th scope=row>CI38_M1</th><td>1</td><td>0</td></tr>\n",
       "\t<tr><th scope=row>CI39_M1</th><td>1</td><td>0</td></tr>\n",
       "\t<tr><th scope=row>CI3_M1</th><td>1</td><td>0</td></tr>\n",
       "\t<tr><th scope=row>CI40_M1</th><td>1</td><td>0</td></tr>\n",
       "\t<tr><th scope=row>CI41_M1</th><td>1</td><td>0</td></tr>\n",
       "\t<tr><th scope=row>CI42_M1</th><td>1</td><td>0</td></tr>\n",
       "\t<tr><th scope=row>CI43_M1</th><td>1</td><td>0</td></tr>\n",
       "\t<tr><th scope=row>CI44_M1</th><td>1</td><td>0</td></tr>\n",
       "\t<tr><th scope=row>CI4_M1</th><td>1</td><td>0</td></tr>\n",
       "\t<tr><th scope=row>CI5_M1</th><td>1</td><td>0</td></tr>\n",
       "\t<tr><th scope=row>CI6_M1</th><td>0</td><td>1</td></tr>\n",
       "\t<tr><th scope=row>CI7_M1</th><td>0</td><td>1</td></tr>\n",
       "\t<tr><th scope=row>CI8_M1</th><td>1</td><td>0</td></tr>\n",
       "\t<tr><th scope=row>CI9_M1</th><td>1</td><td>0</td></tr>\n",
       "\t<tr><th scope=row>CI10_M2</th><td>1</td><td>0</td></tr>\n",
       "\t<tr><th scope=row>CI11_M2</th><td>0</td><td>1</td></tr>\n",
       "\t<tr><th scope=row>CI12_M2</th><td>1</td><td>0</td></tr>\n",
       "\t<tr><th scope=row>CI13_M2</th><td>1</td><td>0</td></tr>\n",
       "\t<tr><th scope=row>CI14_M2</th><td>1</td><td>0</td></tr>\n",
       "\t<tr><th scope=row>CI15_M2</th><td>0</td><td>1</td></tr>\n",
       "\t<tr><th scope=row>CI16_M2</th><td>0</td><td>1</td></tr>\n",
       "\t<tr><th scope=row>CI1_M2</th><td>1</td><td>0</td></tr>\n",
       "\t<tr><th scope=row>CI2_M2</th><td>1</td><td>0</td></tr>\n",
       "\t<tr><th scope=row>CI3_M2</th><td>1</td><td>0</td></tr>\n",
       "\t<tr><th scope=row>CI4_M2</th><td>1</td><td>0</td></tr>\n",
       "\t<tr><th scope=row>CI5_M2</th><td>1</td><td>0</td></tr>\n",
       "\t<tr><th scope=row>CI6_M2</th><td>1</td><td>0</td></tr>\n",
       "\t<tr><th scope=row>CI7_M2</th><td>1</td><td>0</td></tr>\n",
       "\t<tr><th scope=row>CI8_M2</th><td>1</td><td>0</td></tr>\n",
       "\t<tr><th scope=row>CI9_M2</th><td>1</td><td>0</td></tr>\n",
       "</tbody>\n",
       "</table>\n"
      ],
      "text/latex": [
       "A matrix: 59 x 2 of type dbl\n",
       "\\begin{tabular}{r|ll}\n",
       "  & Subtype2 & Subtype1\\\\\n",
       "\\hline\n",
       "\tCI10\\_M1 & 1 & 0\\\\\n",
       "\tCI11\\_M1 & 1 & 0\\\\\n",
       "\tCI12\\_M1 & 1 & 0\\\\\n",
       "\tCI13\\_M1 & 1 & 0\\\\\n",
       "\tCI14\\_M1 & 1 & 0\\\\\n",
       "\tCI15\\_M1 & 0 & 1\\\\\n",
       "\tCI16\\_M1 & 1 & 0\\\\\n",
       "\tCI17\\_M1 & 1 & 0\\\\\n",
       "\tCI18\\_M1 & 1 & 0\\\\\n",
       "\tCI19\\_M1 & 1 & 0\\\\\n",
       "\tCI20\\_M1 & 0 & 1\\\\\n",
       "\tCI21\\_M1 & 1 & 0\\\\\n",
       "\tCI22\\_M1 & 1 & 0\\\\\n",
       "\tCI23\\_M1 & 1 & 0\\\\\n",
       "\tCI24\\_M1 & 1 & 0\\\\\n",
       "\tCI25\\_M1 & 1 & 0\\\\\n",
       "\tCI26\\_M1 & 1 & 0\\\\\n",
       "\tCI27\\_M1 & 1 & 0\\\\\n",
       "\tCI28\\_M1 & 1 & 0\\\\\n",
       "\tCI29\\_M1 & 1 & 0\\\\\n",
       "\tCI2\\_M1 & 1 & 0\\\\\n",
       "\tCI30\\_M1 & 1 & 0\\\\\n",
       "\tCI31\\_M1 & 1 & 0\\\\\n",
       "\tCI32\\_M1 & 0 & 1\\\\\n",
       "\tCI33\\_M1 & 1 & 0\\\\\n",
       "\tCI34\\_M1 & 0 & 1\\\\\n",
       "\tCI35\\_M1 & 1 & 0\\\\\n",
       "\tCI36\\_M1 & 1 & 0\\\\\n",
       "\tCI37\\_M1 & 1 & 0\\\\\n",
       "\tCI38\\_M1 & 1 & 0\\\\\n",
       "\tCI39\\_M1 & 1 & 0\\\\\n",
       "\tCI3\\_M1 & 1 & 0\\\\\n",
       "\tCI40\\_M1 & 1 & 0\\\\\n",
       "\tCI41\\_M1 & 1 & 0\\\\\n",
       "\tCI42\\_M1 & 1 & 0\\\\\n",
       "\tCI43\\_M1 & 1 & 0\\\\\n",
       "\tCI44\\_M1 & 1 & 0\\\\\n",
       "\tCI4\\_M1 & 1 & 0\\\\\n",
       "\tCI5\\_M1 & 1 & 0\\\\\n",
       "\tCI6\\_M1 & 0 & 1\\\\\n",
       "\tCI7\\_M1 & 0 & 1\\\\\n",
       "\tCI8\\_M1 & 1 & 0\\\\\n",
       "\tCI9\\_M1 & 1 & 0\\\\\n",
       "\tCI10\\_M2 & 1 & 0\\\\\n",
       "\tCI11\\_M2 & 0 & 1\\\\\n",
       "\tCI12\\_M2 & 1 & 0\\\\\n",
       "\tCI13\\_M2 & 1 & 0\\\\\n",
       "\tCI14\\_M2 & 1 & 0\\\\\n",
       "\tCI15\\_M2 & 0 & 1\\\\\n",
       "\tCI16\\_M2 & 0 & 1\\\\\n",
       "\tCI1\\_M2 & 1 & 0\\\\\n",
       "\tCI2\\_M2 & 1 & 0\\\\\n",
       "\tCI3\\_M2 & 1 & 0\\\\\n",
       "\tCI4\\_M2 & 1 & 0\\\\\n",
       "\tCI5\\_M2 & 1 & 0\\\\\n",
       "\tCI6\\_M2 & 1 & 0\\\\\n",
       "\tCI7\\_M2 & 1 & 0\\\\\n",
       "\tCI8\\_M2 & 1 & 0\\\\\n",
       "\tCI9\\_M2 & 1 & 0\\\\\n",
       "\\end{tabular}\n"
      ],
      "text/markdown": [
       "\n",
       "A matrix: 59 x 2 of type dbl\n",
       "\n",
       "| <!--/--> | Subtype2 | Subtype1 |\n",
       "|---|---|---|\n",
       "| CI10_M1 | 1 | 0 |\n",
       "| CI11_M1 | 1 | 0 |\n",
       "| CI12_M1 | 1 | 0 |\n",
       "| CI13_M1 | 1 | 0 |\n",
       "| CI14_M1 | 1 | 0 |\n",
       "| CI15_M1 | 0 | 1 |\n",
       "| CI16_M1 | 1 | 0 |\n",
       "| CI17_M1 | 1 | 0 |\n",
       "| CI18_M1 | 1 | 0 |\n",
       "| CI19_M1 | 1 | 0 |\n",
       "| CI20_M1 | 0 | 1 |\n",
       "| CI21_M1 | 1 | 0 |\n",
       "| CI22_M1 | 1 | 0 |\n",
       "| CI23_M1 | 1 | 0 |\n",
       "| CI24_M1 | 1 | 0 |\n",
       "| CI25_M1 | 1 | 0 |\n",
       "| CI26_M1 | 1 | 0 |\n",
       "| CI27_M1 | 1 | 0 |\n",
       "| CI28_M1 | 1 | 0 |\n",
       "| CI29_M1 | 1 | 0 |\n",
       "| CI2_M1 | 1 | 0 |\n",
       "| CI30_M1 | 1 | 0 |\n",
       "| CI31_M1 | 1 | 0 |\n",
       "| CI32_M1 | 0 | 1 |\n",
       "| CI33_M1 | 1 | 0 |\n",
       "| CI34_M1 | 0 | 1 |\n",
       "| CI35_M1 | 1 | 0 |\n",
       "| CI36_M1 | 1 | 0 |\n",
       "| CI37_M1 | 1 | 0 |\n",
       "| CI38_M1 | 1 | 0 |\n",
       "| CI39_M1 | 1 | 0 |\n",
       "| CI3_M1 | 1 | 0 |\n",
       "| CI40_M1 | 1 | 0 |\n",
       "| CI41_M1 | 1 | 0 |\n",
       "| CI42_M1 | 1 | 0 |\n",
       "| CI43_M1 | 1 | 0 |\n",
       "| CI44_M1 | 1 | 0 |\n",
       "| CI4_M1 | 1 | 0 |\n",
       "| CI5_M1 | 1 | 0 |\n",
       "| CI6_M1 | 0 | 1 |\n",
       "| CI7_M1 | 0 | 1 |\n",
       "| CI8_M1 | 1 | 0 |\n",
       "| CI9_M1 | 1 | 0 |\n",
       "| CI10_M2 | 1 | 0 |\n",
       "| CI11_M2 | 0 | 1 |\n",
       "| CI12_M2 | 1 | 0 |\n",
       "| CI13_M2 | 1 | 0 |\n",
       "| CI14_M2 | 1 | 0 |\n",
       "| CI15_M2 | 0 | 1 |\n",
       "| CI16_M2 | 0 | 1 |\n",
       "| CI1_M2 | 1 | 0 |\n",
       "| CI2_M2 | 1 | 0 |\n",
       "| CI3_M2 | 1 | 0 |\n",
       "| CI4_M2 | 1 | 0 |\n",
       "| CI5_M2 | 1 | 0 |\n",
       "| CI6_M2 | 1 | 0 |\n",
       "| CI7_M2 | 1 | 0 |\n",
       "| CI8_M2 | 1 | 0 |\n",
       "| CI9_M2 | 1 | 0 |\n",
       "\n"
      ],
      "text/plain": [
       "        Subtype2 Subtype1\n",
       "CI10_M1 1        0       \n",
       "CI11_M1 1        0       \n",
       "CI12_M1 1        0       \n",
       "CI13_M1 1        0       \n",
       "CI14_M1 1        0       \n",
       "CI15_M1 0        1       \n",
       "CI16_M1 1        0       \n",
       "CI17_M1 1        0       \n",
       "CI18_M1 1        0       \n",
       "CI19_M1 1        0       \n",
       "CI20_M1 0        1       \n",
       "CI21_M1 1        0       \n",
       "CI22_M1 1        0       \n",
       "CI23_M1 1        0       \n",
       "CI24_M1 1        0       \n",
       "CI25_M1 1        0       \n",
       "CI26_M1 1        0       \n",
       "CI27_M1 1        0       \n",
       "CI28_M1 1        0       \n",
       "CI29_M1 1        0       \n",
       "CI2_M1  1        0       \n",
       "CI30_M1 1        0       \n",
       "CI31_M1 1        0       \n",
       "CI32_M1 0        1       \n",
       "CI33_M1 1        0       \n",
       "CI34_M1 0        1       \n",
       "CI35_M1 1        0       \n",
       "CI36_M1 1        0       \n",
       "CI37_M1 1        0       \n",
       "CI38_M1 1        0       \n",
       "CI39_M1 1        0       \n",
       "CI3_M1  1        0       \n",
       "CI40_M1 1        0       \n",
       "CI41_M1 1        0       \n",
       "CI42_M1 1        0       \n",
       "CI43_M1 1        0       \n",
       "CI44_M1 1        0       \n",
       "CI4_M1  1        0       \n",
       "CI5_M1  1        0       \n",
       "CI6_M1  0        1       \n",
       "CI7_M1  0        1       \n",
       "CI8_M1  1        0       \n",
       "CI9_M1  1        0       \n",
       "CI10_M2 1        0       \n",
       "CI11_M2 0        1       \n",
       "CI12_M2 1        0       \n",
       "CI13_M2 1        0       \n",
       "CI14_M2 1        0       \n",
       "CI15_M2 0        1       \n",
       "CI16_M2 0        1       \n",
       "CI1_M2  1        0       \n",
       "CI2_M2  1        0       \n",
       "CI3_M2  1        0       \n",
       "CI4_M2  1        0       \n",
       "CI5_M2  1        0       \n",
       "CI6_M2  1        0       \n",
       "CI7_M2  1        0       \n",
       "CI8_M2  1        0       \n",
       "CI9_M2  1        0       "
      ]
     },
     "metadata": {},
     "output_type": "display_data"
    }
   ],
   "source": [
    "## limma\n",
    "#BiocManager::install('limma')\n",
    "library(limma)\n",
    "# 设置或导入分组\n",
    "group <- factor(paste0('Subtype',bulk3.group$group), levels = c('Subtype2','Subtype1'))\n",
    "design <- model.matrix(~0+group)\n",
    "colnames(design) = levels(factor(group))\n",
    "rownames(design) = colnames(GSVA_hall)\n",
    "design\n",
    "# Tunor VS Normal\n",
    "compare <- makeContrasts('Subtype2 - Subtype1', levels=design)\n",
    "fit <- lmFit(GSVA_hall, design)\n",
    "fit2 <- contrasts.fit(fit, compare)\n",
    "fit3 <- eBayes(fit2)\n",
    "Diff <- topTable(fit3, coef=1, number=200)\n"
   ]
  },
  {
   "cell_type": "code",
   "execution_count": 117,
   "id": "1abb85b7-a235-4914-9aea-01d08eb20e57",
   "metadata": {},
   "outputs": [],
   "source": [
    "Diff = Diff %>%  dplyr::filter(abs(logFC) >0.5)"
   ]
  },
  {
   "cell_type": "code",
   "execution_count": 138,
   "id": "eb64f246-1ace-4c1c-8b6e-423dfefc9a15",
   "metadata": {},
   "outputs": [],
   "source": [
    "## barplot\n",
    "dat_plot <- data.frame(id = row.names(Diff),\n",
    "                       t = Diff$t)\n",
    "# 去掉\"HALLMARK_\"\n",
    "library(stringr)"
   ]
  },
  {
   "cell_type": "code",
   "execution_count": 139,
   "id": "91e38263-b4bb-44df-8401-def884287154",
   "metadata": {
    "scrolled": true
   },
   "outputs": [],
   "source": [
    "\n",
    "library(ggprism)"
   ]
  },
  {
   "cell_type": "code",
   "execution_count": 147,
   "id": "8e7fc063-1a2f-4fa4-8b45-9da3aa2f2a6b",
   "metadata": {},
   "outputs": [
    {
     "data": {
      "text/html": [
       "<style>\n",
       ".list-inline {list-style: none; margin:0; padding: 0}\n",
       ".list-inline>li {display: inline-block}\n",
       ".list-inline>li:not(:last-child)::after {content: \"\\00b7\"; padding: 0 .5ex}\n",
       "</style>\n",
       "<ol class=list-inline><li>'GOBP_HISTONE_H3_ACETYLATION'</li><li>'GOBP_PROSTHETIC_GROUP_METABOLIC_PROCESS'</li><li>'GOBP_ENDOPLASMIC_RETICULUM_TUBULAR_NETWORK_FORMATION'</li><li>'GOBP_INTERLEUKIN_21_PRODUCTION'</li><li>'GOBP_POSITIVE_REGULATION_OF_CARDIAC_MUSCLE_ADAPTATION'</li><li>'GOBP_REGULATION_OF_EOSINOPHIL_MIGRATION'</li><li>'GOBP_POSITIVE_REGULATION_OF_MUSCLE_ADAPTATION'</li><li>'GOBP_NEGATIVE_REGULATION_OF_CD8_POSITIVE_ALPHA_BETA_T_CELL_ACTIVATION'</li><li>'GOBP_INTERLEUKIN_3_MEDIATED_SIGNALING_PATHWAY'</li><li>'GOBP_REGULATION_OF_APOPTOTIC_PROCESS_INVOLVED_IN_DEVELOPMENT'</li></ol>\n"
      ],
      "text/latex": [
       "\\begin{enumerate*}\n",
       "\\item 'GOBP\\_HISTONE\\_H3\\_ACETYLATION'\n",
       "\\item 'GOBP\\_PROSTHETIC\\_GROUP\\_METABOLIC\\_PROCESS'\n",
       "\\item 'GOBP\\_ENDOPLASMIC\\_RETICULUM\\_TUBULAR\\_NETWORK\\_FORMATION'\n",
       "\\item 'GOBP\\_INTERLEUKIN\\_21\\_PRODUCTION'\n",
       "\\item 'GOBP\\_POSITIVE\\_REGULATION\\_OF\\_CARDIAC\\_MUSCLE\\_ADAPTATION'\n",
       "\\item 'GOBP\\_REGULATION\\_OF\\_EOSINOPHIL\\_MIGRATION'\n",
       "\\item 'GOBP\\_POSITIVE\\_REGULATION\\_OF\\_MUSCLE\\_ADAPTATION'\n",
       "\\item 'GOBP\\_NEGATIVE\\_REGULATION\\_OF\\_CD8\\_POSITIVE\\_ALPHA\\_BETA\\_T\\_CELL\\_ACTIVATION'\n",
       "\\item 'GOBP\\_INTERLEUKIN\\_3\\_MEDIATED\\_SIGNALING\\_PATHWAY'\n",
       "\\item 'GOBP\\_REGULATION\\_OF\\_APOPTOTIC\\_PROCESS\\_INVOLVED\\_IN\\_DEVELOPMENT'\n",
       "\\end{enumerate*}\n"
      ],
      "text/markdown": [
       "1. 'GOBP_HISTONE_H3_ACETYLATION'\n",
       "2. 'GOBP_PROSTHETIC_GROUP_METABOLIC_PROCESS'\n",
       "3. 'GOBP_ENDOPLASMIC_RETICULUM_TUBULAR_NETWORK_FORMATION'\n",
       "4. 'GOBP_INTERLEUKIN_21_PRODUCTION'\n",
       "5. 'GOBP_POSITIVE_REGULATION_OF_CARDIAC_MUSCLE_ADAPTATION'\n",
       "6. 'GOBP_REGULATION_OF_EOSINOPHIL_MIGRATION'\n",
       "7. 'GOBP_POSITIVE_REGULATION_OF_MUSCLE_ADAPTATION'\n",
       "8. 'GOBP_NEGATIVE_REGULATION_OF_CD8_POSITIVE_ALPHA_BETA_T_CELL_ACTIVATION'\n",
       "9. 'GOBP_INTERLEUKIN_3_MEDIATED_SIGNALING_PATHWAY'\n",
       "10. 'GOBP_REGULATION_OF_APOPTOTIC_PROCESS_INVOLVED_IN_DEVELOPMENT'\n",
       "\n",
       "\n"
      ],
      "text/plain": [
       " [1] \"GOBP_HISTONE_H3_ACETYLATION\"                                          \n",
       " [2] \"GOBP_PROSTHETIC_GROUP_METABOLIC_PROCESS\"                              \n",
       " [3] \"GOBP_ENDOPLASMIC_RETICULUM_TUBULAR_NETWORK_FORMATION\"                 \n",
       " [4] \"GOBP_INTERLEUKIN_21_PRODUCTION\"                                       \n",
       " [5] \"GOBP_POSITIVE_REGULATION_OF_CARDIAC_MUSCLE_ADAPTATION\"                \n",
       " [6] \"GOBP_REGULATION_OF_EOSINOPHIL_MIGRATION\"                              \n",
       " [7] \"GOBP_POSITIVE_REGULATION_OF_MUSCLE_ADAPTATION\"                        \n",
       " [8] \"GOBP_NEGATIVE_REGULATION_OF_CD8_POSITIVE_ALPHA_BETA_T_CELL_ACTIVATION\"\n",
       " [9] \"GOBP_INTERLEUKIN_3_MEDIATED_SIGNALING_PATHWAY\"                        \n",
       "[10] \"GOBP_REGULATION_OF_APOPTOTIC_PROCESS_INVOLVED_IN_DEVELOPMENT\"         "
      ]
     },
     "metadata": {},
     "output_type": "display_data"
    },
    {
     "data": {
      "text/html": [
       "<style>\n",
       ".list-inline {list-style: none; margin:0; padding: 0}\n",
       ".list-inline>li {display: inline-block}\n",
       ".list-inline>li:not(:last-child)::after {content: \"\\00b7\"; padding: 0 .5ex}\n",
       "</style>\n",
       "<ol class=list-inline><li>'HISTONE_H3_ACETYLATION'</li><li>'PROSTHETIC_GROUP_METABOLIC_PROCESS'</li><li>'ENDOPLASMIC_RETICULUM_TUBULAR_NETWORK_FORMATION'</li><li>'INTERLEUKIN_21_PRODUCTION'</li><li>'POSITIVE_REGULATION_OF_CARDIAC_MUSCLE_ADAPTATION'</li><li>'REGULATION_OF_EOSINOPHIL_MIGRATION'</li><li>'POSITIVE_REGULATION_OF_MUSCLE_ADAPTATION'</li><li>'NEGATIVE_REGULATION_OF_CD8_POSITIVE_ALPHA_BETA_T_CELL_ACTIVATION'</li><li>'INTERLEUKIN_3_MEDIATED_SIGNALING_PATHWAY'</li><li>'REGULATION_OF_APOPTOTIC_PROCESS_INVOLVED_IN_DEVELOPMENT'</li></ol>\n"
      ],
      "text/latex": [
       "\\begin{enumerate*}\n",
       "\\item 'HISTONE\\_H3\\_ACETYLATION'\n",
       "\\item 'PROSTHETIC\\_GROUP\\_METABOLIC\\_PROCESS'\n",
       "\\item 'ENDOPLASMIC\\_RETICULUM\\_TUBULAR\\_NETWORK\\_FORMATION'\n",
       "\\item 'INTERLEUKIN\\_21\\_PRODUCTION'\n",
       "\\item 'POSITIVE\\_REGULATION\\_OF\\_CARDIAC\\_MUSCLE\\_ADAPTATION'\n",
       "\\item 'REGULATION\\_OF\\_EOSINOPHIL\\_MIGRATION'\n",
       "\\item 'POSITIVE\\_REGULATION\\_OF\\_MUSCLE\\_ADAPTATION'\n",
       "\\item 'NEGATIVE\\_REGULATION\\_OF\\_CD8\\_POSITIVE\\_ALPHA\\_BETA\\_T\\_CELL\\_ACTIVATION'\n",
       "\\item 'INTERLEUKIN\\_3\\_MEDIATED\\_SIGNALING\\_PATHWAY'\n",
       "\\item 'REGULATION\\_OF\\_APOPTOTIC\\_PROCESS\\_INVOLVED\\_IN\\_DEVELOPMENT'\n",
       "\\end{enumerate*}\n"
      ],
      "text/markdown": [
       "1. 'HISTONE_H3_ACETYLATION'\n",
       "2. 'PROSTHETIC_GROUP_METABOLIC_PROCESS'\n",
       "3. 'ENDOPLASMIC_RETICULUM_TUBULAR_NETWORK_FORMATION'\n",
       "4. 'INTERLEUKIN_21_PRODUCTION'\n",
       "5. 'POSITIVE_REGULATION_OF_CARDIAC_MUSCLE_ADAPTATION'\n",
       "6. 'REGULATION_OF_EOSINOPHIL_MIGRATION'\n",
       "7. 'POSITIVE_REGULATION_OF_MUSCLE_ADAPTATION'\n",
       "8. 'NEGATIVE_REGULATION_OF_CD8_POSITIVE_ALPHA_BETA_T_CELL_ACTIVATION'\n",
       "9. 'INTERLEUKIN_3_MEDIATED_SIGNALING_PATHWAY'\n",
       "10. 'REGULATION_OF_APOPTOTIC_PROCESS_INVOLVED_IN_DEVELOPMENT'\n",
       "\n",
       "\n"
      ],
      "text/plain": [
       " [1] \"HISTONE_H3_ACETYLATION\"                                          \n",
       " [2] \"PROSTHETIC_GROUP_METABOLIC_PROCESS\"                              \n",
       " [3] \"ENDOPLASMIC_RETICULUM_TUBULAR_NETWORK_FORMATION\"                 \n",
       " [4] \"INTERLEUKIN_21_PRODUCTION\"                                       \n",
       " [5] \"POSITIVE_REGULATION_OF_CARDIAC_MUSCLE_ADAPTATION\"                \n",
       " [6] \"REGULATION_OF_EOSINOPHIL_MIGRATION\"                              \n",
       " [7] \"POSITIVE_REGULATION_OF_MUSCLE_ADAPTATION\"                        \n",
       " [8] \"NEGATIVE_REGULATION_OF_CD8_POSITIVE_ALPHA_BETA_T_CELL_ACTIVATION\"\n",
       " [9] \"INTERLEUKIN_3_MEDIATED_SIGNALING_PATHWAY\"                        \n",
       "[10] \"REGULATION_OF_APOPTOTIC_PROCESS_INVOLVED_IN_DEVELOPMENT\"         "
      ]
     },
     "metadata": {},
     "output_type": "display_data"
    },
    {
     "data": {
      "text/plain": [
       "\n",
       "  Up Down  Not \n",
       "  11    4    0 "
      ]
     },
     "metadata": {},
     "output_type": "display_data"
    },
    {
     "data": {
      "image/png": "[encoded data removed]",
      "text/plain": [
       "plot without title"
      ]
     },
     "metadata": {
      "image/png": {
       "height": 420,
       "width": 540
      }
     },
     "output_type": "display_data"
    }
   ],
   "source": [
    "dat_plot <- data.frame(id  = row.names(Diff),\n",
    "                       p   = Diff$P.Value,\n",
    "                       lgfc= Diff$logFC)\n",
    "dat_plot$group <- ifelse(dat_plot$lgfc>0 ,1,-1)    # 将上调设为组1，下调设为组-1\n",
    "dat_plot$lg_p <- -log10(dat_plot$p)*dat_plot$group # 将上调-log10p设置为正，下调-log10p设置为负\n",
    "\n",
    "# 去掉多余文字\n",
    "dat_plot$id[1:10]\n",
    "dat_plot$id <- str_replace(dat_plot$id, \"GOBP_\",\"\");dat_plot$id[1:10]\n",
    "\n",
    "# 根据阈值分类\n",
    "p_cutoff=0.001\n",
    "dat_plot$threshold <- factor(ifelse(abs(dat_plot$p) <= p_cutoff,\n",
    "                                   ifelse(dat_plot$lgfc >0 ,'Up','Down'),'Not'),\n",
    "                            levels=c('Up','Down','Not'))\n",
    "table(dat_plot$threshold)\n",
    "\n",
    "# 根据p从小到大排序\n",
    "dat_plot <- dat_plot %>% arrange(lg_p)\n",
    "# id变成因子类型\n",
    "dat_plot$id <- factor(dat_plot$id,levels = dat_plot$id)\n",
    "# 绘制条形图\n",
    "p <- ggplot(data = dat_plot,aes(x = id, y = lg_p, \n",
    "                                fill = threshold)) +\n",
    "  geom_col()+\n",
    "  coord_flip() + #坐标轴旋转\n",
    "  scale_fill_manual(values = c('Up'= '#36638a','Not'='#cccccc','Down'='#7bcd7b')) +\n",
    "  geom_hline(yintercept = c(-log10(p_cutoff),log10(p_cutoff)),color = 'white',size = 0.5,lty='dashed') +\n",
    "  xlab('') + \n",
    "  ylab('-log10(P.Value) of GSVA score') +\n",
    "  guides(fill=\"none\")+ # 不显示图例\n",
    "  theme_prism(border = T) +\n",
    "  theme(\n",
    "    plot.margin=unit(c(2,2,2,2),'lines'),#图片四周上右下左间距\n",
    "    axis.text.y = element_blank(),\n",
    "    axis.ticks.y = element_blank()\n",
    "  )\n",
    "p"
   ]
  },
  {
   "cell_type": "code",
   "execution_count": 152,
   "id": "c65a6e15-b56b-4363-9d04-ea9b9b2c1564",
   "metadata": {},
   "outputs": [
    {
     "data": {
      "text/html": [
       "4"
      ],
      "text/latex": [
       "4"
      ],
      "text/markdown": [
       "4"
      ],
      "text/plain": [
       "[1] 4"
      ]
     },
     "metadata": {},
     "output_type": "display_data"
    },
    {
     "data": {
      "text/html": [
       "15"
      ],
      "text/latex": [
       "15"
      ],
      "text/markdown": [
       "15"
      ],
      "text/plain": [
       "[1] 15"
      ]
     },
     "metadata": {},
     "output_type": "display_data"
    }
   ],
   "source": [
    "low0 <- dat_plot %>% filter(lg_p < log10(p_cutoff)) %>% nrow()\n",
    "# 小于0总数量\n",
    "low1 <- dat_plot %>% filter(lg_p < 0) %>% nrow(); \n",
    "# 小于cutoff总数量\n",
    "high0 <- dat_plot %>% filter(lg_p < -log10(p_cutoff)) %>% nrow(); high0 \n",
    "# 总数量\n",
    "high1 <- nrow(dat_plot); high1 "
   ]
  },
  {
   "cell_type": "code",
   "execution_count": 161,
   "id": "a5a01cef-15c2-46ba-a5d2-ca738558cdf9",
   "metadata": {},
   "outputs": [],
   "source": [
    "options(repr.plot.height = 7,repr.plot.width = 10)"
   ]
  },
  {
   "cell_type": "code",
   "execution_count": 162,
   "id": "ac69ccd5-2259-4fee-9dec-2edf3976127b",
   "metadata": {},
   "outputs": [
    {
     "data": {
      "image/png": "[encoded data removed]",
      "text/plain": [
       "plot without title"
      ]
     },
     "metadata": {
      "image/png": {
       "height": 420,
       "width": 600
      }
     },
     "output_type": "display_data"
    }
   ],
   "source": [
    "\n",
    "\n",
    "# 依次从下到上添加标签\n",
    "p1 <- p + geom_text(data = dat_plot[1:low1,],aes(x = id,y = 0.1,label = id),\n",
    "                   hjust = 0,color = 'black') + # 小于-cutoff的为黑色标签\n",
    "\n",
    "  geom_text(data = dat_plot[(low1 +1):high1,],aes(x = id,y = -0.1,label = id),\n",
    "            hjust = 1,color = 'black') # 大于cutoff的为黑色标签\n",
    "p1"
   ]
  },
  {
   "cell_type": "code",
   "execution_count": null,
   "id": "36ab549a-c2e0-45a6-a2a5-ece4f1355f25",
   "metadata": {},
   "outputs": [],
   "source": []
  },
  {
   "cell_type": "code",
   "execution_count": null,
   "id": "11bb135d-82a5-4e0c-a6c4-bf786020fcdd",
   "metadata": {},
   "outputs": [],
   "source": []
  }
 ],
 "metadata": {
  "kernelspec": {
   "display_name": "R",
   "language": "R",
   "name": "ir"
  },
  "language_info": {
   "codemirror_mode": "r",
   "file_extension": ".r",
   "mimetype": "text/x-r-source",
   "name": "R",
   "pygments_lexer": "r",
   "version": "4.2.1"
  }
 },
 "nbformat": 4,
 "nbformat_minor": 5
}
