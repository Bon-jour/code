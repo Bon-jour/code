{
 "cells": [
  {
   "cell_type": "code",
   "execution_count": 1,
   "id": "47f286ac-c469-4145-afc3-59f87760422d",
   "metadata": {},
   "outputs": [
    {
     "name": "stderr",
     "output_type": "stream",
     "text": [
      "Warning message in system(\"timedatectl\", intern = TRUE):\n",
      "\"running command 'timedatectl' had status 1\"\n"
     ]
    }
   ],
   "source": [
    "library(Augur)"
   ]
  },
  {
   "cell_type": "code",
   "execution_count": 2,
   "id": "5bb97da0-19cf-4eb1-aa21-9881c33c4576",
   "metadata": {},
   "outputs": [],
   "source": [
    "data(\"sc_sim\")"
   ]
  },
  {
   "cell_type": "code",
   "execution_count": 3,
   "id": "43a2066e-8fb7-47bb-b876-754f5f1bd654",
   "metadata": {},
   "outputs": [
    {
     "data": {
      "text/html": [
       "<table class=\"dataframe\">\n",
       "<caption>A data.frame: 6 x 2</caption>\n",
       "<thead>\n",
       "\t<tr><th></th><th scope=col>label</th><th scope=col>cell_type</th></tr>\n",
       "\t<tr><th></th><th scope=col>&lt;fct&gt;</th><th scope=col>&lt;chr&gt;</th></tr>\n",
       "</thead>\n",
       "<tbody>\n",
       "\t<tr><th scope=row>1</th><td>control  </td><td>CellTypeA</td></tr>\n",
       "\t<tr><th scope=row>2</th><td>treatment</td><td>CellTypeA</td></tr>\n",
       "\t<tr><th scope=row>3</th><td>treatment</td><td>CellTypeA</td></tr>\n",
       "\t<tr><th scope=row>4</th><td>control  </td><td>CellTypeA</td></tr>\n",
       "\t<tr><th scope=row>5</th><td>control  </td><td>CellTypeA</td></tr>\n",
       "\t<tr><th scope=row>6</th><td>treatment</td><td>CellTypeA</td></tr>\n",
       "</tbody>\n",
       "</table>\n"
      ],
      "text/latex": [
       "A data.frame: 6 x 2\n",
       "\\begin{tabular}{r|ll}\n",
       "  & label & cell\\_type\\\\\n",
       "  & <fct> & <chr>\\\\\n",
       "\\hline\n",
       "\t1 & control   & CellTypeA\\\\\n",
       "\t2 & treatment & CellTypeA\\\\\n",
       "\t3 & treatment & CellTypeA\\\\\n",
       "\t4 & control   & CellTypeA\\\\\n",
       "\t5 & control   & CellTypeA\\\\\n",
       "\t6 & treatment & CellTypeA\\\\\n",
       "\\end{tabular}\n"
      ],
      "text/markdown": [
       "\n",
       "A data.frame: 6 x 2\n",
       "\n",
       "| <!--/--> | label &lt;fct&gt; | cell_type &lt;chr&gt; |\n",
       "|---|---|---|\n",
       "| 1 | control   | CellTypeA |\n",
       "| 2 | treatment | CellTypeA |\n",
       "| 3 | treatment | CellTypeA |\n",
       "| 4 | control   | CellTypeA |\n",
       "| 5 | control   | CellTypeA |\n",
       "| 6 | treatment | CellTypeA |\n",
       "\n"
      ],
      "text/plain": [
       "  label     cell_type\n",
       "1 control   CellTypeA\n",
       "2 treatment CellTypeA\n",
       "3 treatment CellTypeA\n",
       "4 control   CellTypeA\n",
       "5 control   CellTypeA\n",
       "6 treatment CellTypeA"
      ]
     },
     "metadata": {},
     "output_type": "display_data"
    }
   ],
   "source": [
    "head(sc_sim@meta.data)"
   ]
  },
  {
   "cell_type": "code",
   "execution_count": 8,
   "id": "2c6c8cc7-c90e-4594-bc8d-b8929de5cad6",
   "metadata": {},
   "outputs": [
    {
     "name": "stderr",
     "output_type": "stream",
     "text": [
      "using default assay: RNA ...\n",
      "\n"
     ]
    }
   ],
   "source": [
    " augur = calculate_auc(sc_sim, n_threads = 8)"
   ]
  },
  {
   "cell_type": "code",
   "execution_count": 9,
   "id": "192ae1f8-1039-448f-86bc-c779fe54024f",
   "metadata": {},
   "outputs": [
    {
     "data": {
      "text/html": [
       "<table class=\"dataframe\">\n",
       "<caption>A tibble: 3 x 2</caption>\n",
       "<thead>\n",
       "\t<tr><th scope=col>cell_type</th><th scope=col>auc</th></tr>\n",
       "\t<tr><th scope=col>&lt;chr&gt;</th><th scope=col>&lt;dbl&gt;</th></tr>\n",
       "</thead>\n",
       "<tbody>\n",
       "\t<tr><td>CellTypeC</td><td>0.8794652</td></tr>\n",
       "\t<tr><td>CellTypeB</td><td>0.7467252</td></tr>\n",
       "\t<tr><td>CellTypeA</td><td>0.5535374</td></tr>\n",
       "</tbody>\n",
       "</table>\n"
      ],
      "text/latex": [
       "A tibble: 3 x 2\n",
       "\\begin{tabular}{ll}\n",
       " cell\\_type & auc\\\\\n",
       " <chr> & <dbl>\\\\\n",
       "\\hline\n",
       "\t CellTypeC & 0.8794652\\\\\n",
       "\t CellTypeB & 0.7467252\\\\\n",
       "\t CellTypeA & 0.5535374\\\\\n",
       "\\end{tabular}\n"
      ],
      "text/markdown": [
       "\n",
       "A tibble: 3 x 2\n",
       "\n",
       "| cell_type &lt;chr&gt; | auc &lt;dbl&gt; |\n",
       "|---|---|\n",
       "| CellTypeC | 0.8794652 |\n",
       "| CellTypeB | 0.7467252 |\n",
       "| CellTypeA | 0.5535374 |\n",
       "\n"
      ],
      "text/plain": [
       "  cell_type auc      \n",
       "1 CellTypeC 0.8794652\n",
       "2 CellTypeB 0.7467252\n",
       "3 CellTypeA 0.5535374"
      ]
     },
     "metadata": {},
     "output_type": "display_data"
    }
   ],
   "source": [
    "augur$AUC"
   ]
  },
  {
   "cell_type": "code",
   "execution_count": null,
   "id": "bd7082ab-c01b-4473-8548-410b2d670f2e",
   "metadata": {},
   "outputs": [],
   "source": []
  }
 ],
 "metadata": {
  "kernelspec": {
   "display_name": "R",
   "language": "R",
   "name": "ir"
  },
  "language_info": {
   "codemirror_mode": "r",
   "file_extension": ".r",
   "mimetype": "text/x-r-source",
   "name": "R",
   "pygments_lexer": "r",
   "version": "4.2.1"
  }
 },
 "nbformat": 4,
 "nbformat_minor": 5
}
